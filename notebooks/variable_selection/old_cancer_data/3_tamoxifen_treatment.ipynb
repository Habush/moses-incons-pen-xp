{
 "cells": [
  {
   "cell_type": "code",
   "execution_count": 1,
   "id": "6d0a3b5d-b6a4-4cec-88f3-30a98c7b00b8",
   "metadata": {
    "execution": {
     "iopub.execute_input": "2022-08-10T12:55:32.376485Z",
     "iopub.status.busy": "2022-08-10T12:55:32.376253Z",
     "iopub.status.idle": "2022-08-10T12:55:45.471100Z",
     "shell.execute_reply": "2022-08-10T12:55:45.470329Z",
     "shell.execute_reply.started": "2022-08-10T12:55:32.376431Z"
    },
    "pycharm": {
     "name": "#%%\n"
    }
   },
   "outputs": [
    {
     "name": "stdout",
     "output_type": "stream",
     "text": [
      "Collecting numpyro\r\n",
      "  Downloading numpyro-0.10.0-py3-none-any.whl (291 kB)\r\n",
      "\u001B[2K     \u001B[90m━━━━━━━━━━━━━━━━━━━━━━━━━━━━━━━━━━━━━━\u001B[0m \u001B[32m291.7/291.7 kB\u001B[0m \u001B[31m43.7 MB/s\u001B[0m eta \u001B[36m0:00:00\u001B[0m\r\n",
      "\u001B[?25hRequirement already satisfied: tqdm in /usr/local/lib/python3.9/dist-packages (from numpyro) (4.64.0)\r\n",
      "Requirement already satisfied: jax>=0.2.13 in /usr/local/lib/python3.9/dist-packages (from numpyro) (0.3.14)\r\n",
      "Requirement already satisfied: jaxlib>=0.1.65 in /usr/local/lib/python3.9/dist-packages (from numpyro) (0.3.8+cuda11.cudnn82)\r\n",
      "Requirement already satisfied: numpy in /usr/local/lib/python3.9/dist-packages (from numpyro) (1.23.1)\r\n",
      "Collecting multipledispatch\r\n",
      "  Downloading multipledispatch-0.6.0-py3-none-any.whl (11 kB)\r\n",
      "Requirement already satisfied: opt-einsum in /usr/local/lib/python3.9/dist-packages (from jax>=0.2.13->numpyro) (3.3.0)\r\n",
      "Requirement already satisfied: etils[epath] in /usr/local/lib/python3.9/dist-packages (from jax>=0.2.13->numpyro) (0.6.0)\r\n",
      "Requirement already satisfied: absl-py in /usr/local/lib/python3.9/dist-packages (from jax>=0.2.13->numpyro) (1.1.0)\r\n",
      "Requirement already satisfied: typing-extensions in /usr/local/lib/python3.9/dist-packages (from jax>=0.2.13->numpyro) (4.3.0)\r\n",
      "Requirement already satisfied: scipy>=1.5 in /usr/local/lib/python3.9/dist-packages (from jax>=0.2.13->numpyro) (1.8.1)\r\n",
      "Requirement already satisfied: flatbuffers<3.0,>=1.12 in /usr/local/lib/python3.9/dist-packages (from jaxlib>=0.1.65->numpyro) (1.12)\r\n",
      "Requirement already satisfied: six in /usr/lib/python3/dist-packages (from multipledispatch->numpyro) (1.14.0)\r\n",
      "Requirement already satisfied: zipp in /usr/local/lib/python3.9/dist-packages (from etils[epath]->jax>=0.2.13->numpyro) (3.8.1)\r\n",
      "Requirement already satisfied: importlib_resources in /usr/local/lib/python3.9/dist-packages (from etils[epath]->jax>=0.2.13->numpyro) (5.8.0)\r\n",
      "Installing collected packages: multipledispatch, numpyro\r\n",
      "Successfully installed multipledispatch-0.6.0 numpyro-0.10.0\r\n",
      "\u001B[33mWARNING: Running pip as the 'root' user can result in broken permissions and conflicting behaviour with the system package manager. It is recommended to use a virtual environment instead: https://pip.pypa.io/warnings/venv\u001B[0m\u001B[33m\r\n",
      "\u001B[0mCollecting arviz\r\n",
      "  Downloading arviz-0.12.1-py3-none-any.whl (1.6 MB)\r\n",
      "\u001B[2K     \u001B[90m━━━━━━━━━━━━━━━━━━━━━━━━━━━━━━━━━━━━━━━━\u001B[0m \u001B[32m1.6/1.6 MB\u001B[0m \u001B[31m79.1 MB/s\u001B[0m eta \u001B[36m0:00:00\u001B[0m\r\n",
      "\u001B[?25hRequirement already satisfied: pandas>=0.23 in /usr/local/lib/python3.9/dist-packages (from arviz) (1.4.3)\r\n",
      "Requirement already satisfied: numpy>=1.12 in /usr/local/lib/python3.9/dist-packages (from arviz) (1.23.1)\r\n",
      "Collecting xarray>=0.16.1\r\n",
      "  Downloading xarray-2022.6.0-py3-none-any.whl (927 kB)\r\n",
      "\u001B[2K     \u001B[90m━━━━━━━━━━━━━━━━━━━━━━━━━━━━━━━━━━━━━\u001B[0m \u001B[32m927.2/927.2 kB\u001B[0m \u001B[31m106.0 MB/s\u001B[0m eta \u001B[36m0:00:00\u001B[0m\r\n",
      "\u001B[?25hRequirement already satisfied: scipy>=0.19 in /usr/local/lib/python3.9/dist-packages (from arviz) (1.8.1)\r\n",
      "Requirement already satisfied: typing-extensions>=3.7.4.3 in /usr/local/lib/python3.9/dist-packages (from arviz) (4.3.0)\r\n",
      "Requirement already satisfied: matplotlib>=3.0 in /usr/local/lib/python3.9/dist-packages (from arviz) (3.5.2)\r\n",
      "Collecting netcdf4\r\n",
      "  Downloading netCDF4-1.6.0-cp39-cp39-manylinux_2_17_x86_64.manylinux2014_x86_64.whl (5.2 MB)\r\n",
      "\u001B[2K     \u001B[90m━━━━━━━━━━━━━━━━━━━━━━━━━━━━━━━━━━━━━━━━\u001B[0m \u001B[32m5.2/5.2 MB\u001B[0m \u001B[31m129.9 MB/s\u001B[0m eta \u001B[36m0:00:00\u001B[0m00:01\u001B[0m\r\n",
      "\u001B[?25hRequirement already satisfied: setuptools>=38.4 in /usr/local/lib/python3.9/dist-packages (from arviz) (63.1.0)\r\n",
      "Collecting xarray-einstats>=0.2\r\n",
      "  Downloading xarray_einstats-0.3.0-py3-none-any.whl (34 kB)\r\n",
      "Requirement already satisfied: packaging in /usr/local/lib/python3.9/dist-packages (from arviz) (21.3)\r\n",
      "Requirement already satisfied: fonttools>=4.22.0 in /usr/local/lib/python3.9/dist-packages (from matplotlib>=3.0->arviz) (4.34.4)\r\n",
      "Requirement already satisfied: kiwisolver>=1.0.1 in /usr/local/lib/python3.9/dist-packages (from matplotlib>=3.0->arviz) (1.4.3)\r\n",
      "Requirement already satisfied: cycler>=0.10 in /usr/local/lib/python3.9/dist-packages (from matplotlib>=3.0->arviz) (0.11.0)\r\n",
      "Requirement already satisfied: python-dateutil>=2.7 in /usr/local/lib/python3.9/dist-packages (from matplotlib>=3.0->arviz) (2.8.2)\r\n",
      "Requirement already satisfied: pillow>=6.2.0 in /usr/local/lib/python3.9/dist-packages (from matplotlib>=3.0->arviz) (9.2.0)\r\n",
      "Requirement already satisfied: pyparsing>=2.2.1 in /usr/local/lib/python3.9/dist-packages (from matplotlib>=3.0->arviz) (3.0.9)\r\n",
      "Requirement already satisfied: pytz>=2020.1 in /usr/local/lib/python3.9/dist-packages (from pandas>=0.23->arviz) (2022.1)\r\n",
      "Collecting cftime\r\n",
      "  Downloading cftime-1.6.1-cp39-cp39-manylinux_2_17_x86_64.manylinux2014_x86_64.whl (241 kB)\r\n",
      "\u001B[2K     \u001B[90m━━━━━━━━━━━━━━━━━━━━━━━━━━━━━━━━━━━━━━\u001B[0m \u001B[32m241.7/241.7 kB\u001B[0m \u001B[31m56.7 MB/s\u001B[0m eta \u001B[36m0:00:00\u001B[0m\r\n",
      "\u001B[?25hRequirement already satisfied: six>=1.5 in /usr/lib/python3/dist-packages (from python-dateutil>=2.7->matplotlib>=3.0->arviz) (1.14.0)\r\n",
      "Installing collected packages: cftime, netcdf4, xarray, xarray-einstats, arviz\r\n",
      "Successfully installed arviz-0.12.1 cftime-1.6.1 netcdf4-1.6.0 xarray-2022.6.0 xarray-einstats-0.3.0\r\n",
      "\u001B[33mWARNING: Running pip as the 'root' user can result in broken permissions and conflicting behaviour with the system package manager. It is recommended to use a virtual environment instead: https://pip.pypa.io/warnings/venv\u001B[0m\u001B[33m\r\n",
      "\u001B[0mRequirement already satisfied: tensorflow in /usr/local/lib/python3.9/dist-packages (2.9.1)\r\n",
      "Requirement already satisfied: numpy>=1.20 in /usr/local/lib/python3.9/dist-packages (from tensorflow) (1.23.1)\r\n",
      "Requirement already satisfied: absl-py>=1.0.0 in /usr/local/lib/python3.9/dist-packages (from tensorflow) (1.1.0)\r\n",
      "Requirement already satisfied: flatbuffers<2,>=1.12 in /usr/local/lib/python3.9/dist-packages (from tensorflow) (1.12)\r\n",
      "Requirement already satisfied: google-pasta>=0.1.1 in /usr/local/lib/python3.9/dist-packages (from tensorflow) (0.2.0)\r\n",
      "Requirement already satisfied: tensorboard<2.10,>=2.9 in /usr/local/lib/python3.9/dist-packages (from tensorflow) (2.9.1)\r\n",
      "Requirement already satisfied: packaging in /usr/local/lib/python3.9/dist-packages (from tensorflow) (21.3)\r\n",
      "Requirement already satisfied: tensorflow-io-gcs-filesystem>=0.23.1 in /usr/local/lib/python3.9/dist-packages (from tensorflow) (0.26.0)\r\n",
      "Requirement already satisfied: six>=1.12.0 in /usr/lib/python3/dist-packages (from tensorflow) (1.14.0)\r\n",
      "Requirement already satisfied: wrapt>=1.11.0 in /usr/local/lib/python3.9/dist-packages (from tensorflow) (1.14.1)\r\n",
      "Requirement already satisfied: typing-extensions>=3.6.6 in /usr/local/lib/python3.9/dist-packages (from tensorflow) (4.3.0)\r\n",
      "Requirement already satisfied: h5py>=2.9.0 in /usr/local/lib/python3.9/dist-packages (from tensorflow) (3.7.0)\r\n",
      "Requirement already satisfied: termcolor>=1.1.0 in /usr/local/lib/python3.9/dist-packages (from tensorflow) (1.1.0)\r\n",
      "Requirement already satisfied: libclang>=13.0.0 in /usr/local/lib/python3.9/dist-packages (from tensorflow) (14.0.1)\r\n",
      "Requirement already satisfied: setuptools in /usr/local/lib/python3.9/dist-packages (from tensorflow) (63.1.0)\r\n",
      "Requirement already satisfied: astunparse>=1.6.0 in /usr/local/lib/python3.9/dist-packages (from tensorflow) (1.6.3)\r\n",
      "Requirement already satisfied: opt-einsum>=2.3.2 in /usr/local/lib/python3.9/dist-packages (from tensorflow) (3.3.0)\r\n",
      "Requirement already satisfied: tensorflow-estimator<2.10.0,>=2.9.0rc0 in /usr/local/lib/python3.9/dist-packages (from tensorflow) (2.9.0)\r\n",
      "Requirement already satisfied: grpcio<2.0,>=1.24.3 in /usr/local/lib/python3.9/dist-packages (from tensorflow) (1.47.0)\r\n",
      "Requirement already satisfied: gast<=0.4.0,>=0.2.1 in /usr/local/lib/python3.9/dist-packages (from tensorflow) (0.4.0)\r\n",
      "Requirement already satisfied: keras-preprocessing>=1.1.1 in /usr/local/lib/python3.9/dist-packages (from tensorflow) (1.1.2)\r\n",
      "Requirement already satisfied: protobuf<3.20,>=3.9.2 in /usr/local/lib/python3.9/dist-packages (from tensorflow) (3.19.4)\r\n",
      "Requirement already satisfied: keras<2.10.0,>=2.9.0rc0 in /usr/local/lib/python3.9/dist-packages (from tensorflow) (2.9.0)\r\n",
      "Requirement already satisfied: wheel<1.0,>=0.23.0 in /usr/local/lib/python3.9/dist-packages (from astunparse>=1.6.0->tensorflow) (0.35.1)\r\n",
      "Requirement already satisfied: werkzeug>=1.0.1 in /usr/local/lib/python3.9/dist-packages (from tensorboard<2.10,>=2.9->tensorflow) (2.1.2)\r\n",
      "Requirement already satisfied: google-auth<3,>=1.6.3 in /usr/local/lib/python3.9/dist-packages (from tensorboard<2.10,>=2.9->tensorflow) (2.9.0)\r\n",
      "Requirement already satisfied: tensorboard-plugin-wit>=1.6.0 in /usr/local/lib/python3.9/dist-packages (from tensorboard<2.10,>=2.9->tensorflow) (1.8.1)\r\n",
      "Requirement already satisfied: markdown>=2.6.8 in /usr/local/lib/python3.9/dist-packages (from tensorboard<2.10,>=2.9->tensorflow) (3.3.7)\r\n",
      "Requirement already satisfied: requests<3,>=2.21.0 in /usr/local/lib/python3.9/dist-packages (from tensorboard<2.10,>=2.9->tensorflow) (2.28.1)\r\n",
      "Requirement already satisfied: tensorboard-data-server<0.7.0,>=0.6.0 in /usr/local/lib/python3.9/dist-packages (from tensorboard<2.10,>=2.9->tensorflow) (0.6.1)\r\n",
      "Requirement already satisfied: google-auth-oauthlib<0.5,>=0.4.1 in /usr/local/lib/python3.9/dist-packages (from tensorboard<2.10,>=2.9->tensorflow) (0.4.6)\r\n",
      "Requirement already satisfied: pyparsing!=3.0.5,>=2.0.2 in /usr/local/lib/python3.9/dist-packages (from packaging->tensorflow) (3.0.9)\r\n",
      "Requirement already satisfied: cachetools<6.0,>=2.0.0 in /usr/local/lib/python3.9/dist-packages (from google-auth<3,>=1.6.3->tensorboard<2.10,>=2.9->tensorflow) (5.2.0)\r\n",
      "Requirement already satisfied: pyasn1-modules>=0.2.1 in /usr/local/lib/python3.9/dist-packages (from google-auth<3,>=1.6.3->tensorboard<2.10,>=2.9->tensorflow) (0.2.8)\r\n",
      "Requirement already satisfied: rsa<5,>=3.1.4 in /usr/lib/python3/dist-packages (from google-auth<3,>=1.6.3->tensorboard<2.10,>=2.9->tensorflow) (4.0)\r\n",
      "Requirement already satisfied: requests-oauthlib>=0.7.0 in /usr/local/lib/python3.9/dist-packages (from google-auth-oauthlib<0.5,>=0.4.1->tensorboard<2.10,>=2.9->tensorflow) (1.3.1)\r\n",
      "Requirement already satisfied: importlib-metadata>=4.4 in /usr/local/lib/python3.9/dist-packages (from markdown>=2.6.8->tensorboard<2.10,>=2.9->tensorflow) (4.12.0)\r\n",
      "Requirement already satisfied: idna<4,>=2.5 in /usr/lib/python3/dist-packages (from requests<3,>=2.21.0->tensorboard<2.10,>=2.9->tensorflow) (2.8)\r\n",
      "Requirement already satisfied: certifi>=2017.4.17 in /usr/lib/python3/dist-packages (from requests<3,>=2.21.0->tensorboard<2.10,>=2.9->tensorflow) (2019.11.28)\r\n",
      "Requirement already satisfied: urllib3<1.27,>=1.21.1 in /usr/local/lib/python3.9/dist-packages (from requests<3,>=2.21.0->tensorboard<2.10,>=2.9->tensorflow) (1.26.10)\r\n",
      "Requirement already satisfied: charset-normalizer<3,>=2 in /usr/local/lib/python3.9/dist-packages (from requests<3,>=2.21.0->tensorboard<2.10,>=2.9->tensorflow) (2.1.0)\r\n",
      "Requirement already satisfied: zipp>=0.5 in /usr/local/lib/python3.9/dist-packages (from importlib-metadata>=4.4->markdown>=2.6.8->tensorboard<2.10,>=2.9->tensorflow) (3.8.1)\r\n",
      "Requirement already satisfied: pyasn1<0.5.0,>=0.4.6 in /usr/local/lib/python3.9/dist-packages (from pyasn1-modules>=0.2.1->google-auth<3,>=1.6.3->tensorboard<2.10,>=2.9->tensorflow) (0.4.8)\r\n",
      "Requirement already satisfied: oauthlib>=3.0.0 in /usr/local/lib/python3.9/dist-packages (from requests-oauthlib>=0.7.0->google-auth-oauthlib<0.5,>=0.4.1->tensorboard<2.10,>=2.9->tensorflow) (3.2.0)\r\n",
      "\u001B[33mWARNING: Running pip as the 'root' user can result in broken permissions and conflicting behaviour with the system package manager. It is recommended to use a virtual environment instead: https://pip.pypa.io/warnings/venv\u001B[0m\u001B[33m\r\n",
      "\u001B[0mCollecting tensorflow-probability\r\n",
      "  Downloading tensorflow_probability-0.17.0-py2.py3-none-any.whl (6.5 MB)\r\n",
      "\u001B[2K     \u001B[90m━━━━━━━━━━━━━━━━━━━━━━━━━━━━━━━━━━━━━━━━\u001B[0m \u001B[32m6.5/6.5 MB\u001B[0m \u001B[31m110.6 MB/s\u001B[0m eta \u001B[36m0:00:00\u001B[0m00:01\u001B[0m\r\n",
      "\u001B[?25hRequirement already satisfied: decorator in /usr/local/lib/python3.9/dist-packages (from tensorflow-probability) (5.1.1)\r\n",
      "Requirement already satisfied: absl-py in /usr/local/lib/python3.9/dist-packages (from tensorflow-probability) (1.1.0)\r\n",
      "Requirement already satisfied: cloudpickle>=1.3 in /usr/local/lib/python3.9/dist-packages (from tensorflow-probability) (2.1.0)\r\n",
      "Requirement already satisfied: numpy>=1.13.3 in /usr/local/lib/python3.9/dist-packages (from tensorflow-probability) (1.23.1)\r\n",
      "Requirement already satisfied: gast>=0.3.2 in /usr/local/lib/python3.9/dist-packages (from tensorflow-probability) (0.4.0)\r\n",
      "Requirement already satisfied: six>=1.10.0 in /usr/lib/python3/dist-packages (from tensorflow-probability) (1.14.0)\r\n",
      "Collecting dm-tree\r\n",
      "  Downloading dm_tree-0.1.7-cp39-cp39-manylinux_2_12_x86_64.manylinux2010_x86_64.whl (142 kB)\r\n",
      "\u001B[2K     \u001B[90m━━━━━━━━━━━━━━━━━━━━━━━━━━━━━━━━━━━━━━\u001B[0m \u001B[32m142.7/142.7 kB\u001B[0m \u001B[31m50.5 MB/s\u001B[0m eta \u001B[36m0:00:00\u001B[0m\r\n",
      "\u001B[?25hInstalling collected packages: dm-tree, tensorflow-probability\r\n",
      "Successfully installed dm-tree-0.1.7 tensorflow-probability-0.17.0\r\n",
      "\u001B[33mWARNING: Running pip as the 'root' user can result in broken permissions and conflicting behaviour with the system package manager. It is recommended to use a virtual environment instead: https://pip.pypa.io/warnings/venv\u001B[0m\u001B[33m\r\n",
      "\u001B[0m"
     ]
    }
   ],
   "source": [
    "!pip install numpyro\n",
    "!pip install arviz\n",
    "!pip install tensorflow\n",
    "!pip install tensorflow-probability"
   ]
  },
  {
   "cell_type": "code",
   "execution_count": 2,
   "id": "668791ac-7e6d-4236-9e67-0f3417ceb81c",
   "metadata": {
    "execution": {
     "iopub.execute_input": "2022-08-10T12:55:45.474251Z",
     "iopub.status.busy": "2022-08-10T12:55:45.474106Z",
     "iopub.status.idle": "2022-08-10T12:55:48.072389Z",
     "shell.execute_reply": "2022-08-10T12:55:48.071870Z",
     "shell.execute_reply.started": "2022-08-10T12:55:45.474235Z"
    },
    "pycharm": {
     "name": "#%%\n"
    }
   },
   "outputs": [],
   "source": [
    "import jax\n",
    "import numpy as np\n",
    "import jax.numpy as jnp\n",
    "import pandas as pd\n",
    "from sklearn.model_selection import train_test_split\n",
    "import numpyro as npyro\n",
    "from numpyro.infer import MixedHMC, MCMC\n",
    "import scipy.stats as stats\n",
    "from sklearn.linear_model import LogisticRegression\n",
    "from sklearn.metrics import roc_auc_score\n",
    "from sklearn.model_selection import cross_val_score\n",
    "from tqdm import tqdm\n",
    "from tensorflow_probability.substrates import jax as tfp\n",
    "from numpyro.infer import MCMC, MixedHMC, HMC\n",
    "import numpyro.distributions as dist\n",
    "from numpyro.infer.reparam import TransformReparam\n",
    "from numpyro.distributions.transforms import AffineTransform\n",
    "import matplotlib.pyplot as plt\n",
    "tfd = tfp.distributions"
   ]
  },
  {
   "cell_type": "code",
   "execution_count": 3,
   "id": "f48718f0-d3c0-41b1-9aa2-4de8024fc17b",
   "metadata": {
    "execution": {
     "iopub.execute_input": "2022-08-10T12:55:48.073948Z",
     "iopub.status.busy": "2022-08-10T12:55:48.073077Z",
     "iopub.status.idle": "2022-08-10T12:55:48.208485Z",
     "shell.execute_reply": "2022-08-10T12:55:48.208010Z",
     "shell.execute_reply.started": "2022-08-10T12:55:48.073926Z"
    },
    "pycharm": {
     "name": "#%%\n"
    }
   },
   "outputs": [
    {
     "data": {
      "text/plain": "'gpu'"
     },
     "execution_count": 3,
     "metadata": {},
     "output_type": "execute_result"
    }
   ],
   "source": [
    "jax.default_backend()"
   ]
  },
  {
   "cell_type": "code",
   "execution_count": 4,
   "outputs": [],
   "source": [
    "plt.style.use(\"ggplot\")"
   ],
   "metadata": {
    "collapsed": false,
    "pycharm": {
     "name": "#%%\n"
    }
   }
  },
  {
   "cell_type": "code",
   "execution_count": 5,
   "id": "3282b764-ace8-4c88-b670-558dcbb9216b",
   "metadata": {
    "execution": {
     "iopub.execute_input": "2022-08-10T11:54:44.129567Z",
     "iopub.status.busy": "2022-08-10T11:54:44.129196Z",
     "iopub.status.idle": "2022-08-10T11:54:44.134272Z",
     "shell.execute_reply": "2022-08-10T11:54:44.133136Z",
     "shell.execute_reply.started": "2022-08-10T11:54:44.129541Z"
    },
    "pycharm": {
     "name": "#%%\n"
    }
   },
   "outputs": [],
   "source": [
    "def logistic(x):\n",
    "    return 1/(1 + jnp.exp(-x))"
   ]
  },
  {
   "cell_type": "code",
   "execution_count": 6,
   "id": "e6b5230b-937b-4032-b153-cf38d743aaf2",
   "metadata": {
    "execution": {
     "iopub.execute_input": "2022-08-10T11:54:44.922101Z",
     "iopub.status.busy": "2022-08-10T11:54:44.921750Z",
     "iopub.status.idle": "2022-08-10T11:54:46.028888Z",
     "shell.execute_reply": "2022-08-10T11:54:46.027775Z",
     "shell.execute_reply.started": "2022-08-10T11:54:44.922076Z"
    },
    "pycharm": {
     "name": "#%%\n"
    }
   },
   "outputs": [],
   "source": [
    "# seed = 1234\n",
    "# np.random.seed(seed)\n",
    "# rng_key = jax.random.PRNGKey(seed)\n",
    "# _, rng_key_split = jax.random.split(rng_key)"
   ]
  },
  {
   "cell_type": "code",
   "execution_count": 7,
   "outputs": [
    {
     "data": {
      "text/plain": "50"
     },
     "execution_count": 7,
     "metadata": {},
     "output_type": "execute_result"
    }
   ],
   "source": [
    "exp_seeds = []\n",
    "with open(\"seeds.txt\", \"r\") as fp:\n",
    "    for line in fp.readlines():\n",
    "        exp_seeds.append(int(line.strip()))\n",
    "\n",
    "len(exp_seeds)"
   ],
   "metadata": {
    "collapsed": false,
    "pycharm": {
     "name": "#%%\n"
    }
   }
  },
  {
   "cell_type": "code",
   "execution_count": 8,
   "outputs": [],
   "source": [
    "jax_exp_seeds = []\n",
    "for seed in exp_seeds:\n",
    "    jax_exp_seeds.append(jax.random.PRNGKey(seed))"
   ],
   "metadata": {
    "collapsed": false,
    "pycharm": {
     "name": "#%%\n"
    }
   }
  },
  {
   "cell_type": "code",
   "execution_count": 9,
   "id": "b3139e45-032c-47ad-a317-8c7b59017318",
   "metadata": {
    "execution": {
     "iopub.execute_input": "2022-08-10T11:54:46.841091Z",
     "iopub.status.busy": "2022-08-10T11:54:46.840730Z",
     "iopub.status.idle": "2022-08-10T11:54:46.853435Z",
     "shell.execute_reply": "2022-08-10T11:54:46.852499Z",
     "shell.execute_reply.started": "2022-08-10T11:54:46.841052Z"
    },
    "pycharm": {
     "name": "#%%\n"
    }
   },
   "outputs": [],
   "source": [
    "def run_fs_logreg(X_train, X_test, y_train, y_test, feats):\n",
    "    results = {\"log_cv_score\": [], \"log_test_score\": []}\n",
    "    for fts in tqdm(feats):\n",
    "        X_s_train, X_s_test = X_train[:,np.array(fts, dtype=np.int32)].astype(np.int64), X_test[:,np.array(fts, dtype=np.int32)].astype(np.int64)\n",
    "        y_train, y_test = y_train.astype(np.int64), y_test.astype(np.int64)\n",
    "        if fts.size == 1:\n",
    "            X_s_train, X_s_test = X_s_train.reshape(-1, 1), X_s_test.reshape(-1, 1)\n",
    "        cv_score = np.mean(cross_val_score(LogisticRegression(), X_s_train, y_train, scoring=\"roc_auc\"))\n",
    "        log_est = LogisticRegression().fit(X_s_train, y_train)\n",
    "        test_score = roc_auc_score(y_test, log_est.predict_proba(X_s_test)[:,1])\n",
    "        # print({\"moses_cv_score\": cv_score, \"moses_test_score\": test_score, \"log_cv_score\": cv_score, \"log_test_score\": test_score})\n",
    "        results[\"log_cv_score\"].append(cv_score)\n",
    "        results[\"log_test_score\"].append(test_score)\n",
    "\n",
    "    return pd.DataFrame(results)   \n",
    "\n",
    "\n",
    "def fisher_exact_test(X, y, thres=0.05):\n",
    "  cols = X.columns\n",
    "  p_values = np.zeros(len(cols))\n",
    "  for i, col in enumerate(cols):\n",
    "    table = pd.crosstab(y, X[col])\n",
    "    _, p_val = stats.fisher_exact(table, alternative=\"two-sided\")\n",
    "    p_values[i] = p_val\n",
    "\n",
    "  idx_sig = np.argwhere(p_values < thres)\n",
    "  print(f\"Total of {len(idx_sig)} variables are significant (p_val = {thres})\")\n",
    "\n",
    "  return idx_sig\n",
    "\n",
    "\n",
    "def build_network(X):\n",
    "  p = X.shape[1]\n",
    "  J = np.zeros((p, p))\n",
    "  cols = X.columns\n",
    "  intrs = []\n",
    "  intrs_rev = []\n",
    "  for i, g1 in enumerate(cols):\n",
    "    try:\n",
    "      g_intrs = list(net_intr[g1])\n",
    "      for g2 in g_intrs:\n",
    "        if (g2, g1) not in intrs_rev: # check if we haven't encountered the reverse interaction\n",
    "          j = cols.get_loc(g2)\n",
    "          J[i, j] = 1.0\n",
    "          J[j, i] = 1.0\n",
    "          intrs.append((g1, g2))\n",
    "    except KeyError:\n",
    "      continue\n",
    "\n",
    "    # Check the reverse direction\n",
    "    try:\n",
    "      g_intrs_rev = list(net_intr_rev[g1])\n",
    "      for g2 in g_intrs_rev:\n",
    "        if (g1, g2) not in intrs:\n",
    "          j = cols.get_loc(g2)\n",
    "          J[i, j] = 1.0\n",
    "          J[j, i] = 1.0\n",
    "          intrs_rev.append((g2, g1))\n",
    "\n",
    "    except KeyError:\n",
    "      continue\n",
    "\n",
    "\n",
    "  return J\n",
    "\n",
    "def get_ess(n_chain, samples):\n",
    "    k = int(samples.shape[0] / n_chain)\n",
    "    chains = samples.reshape(n_chain, k, samples.shape[-1])\n",
    "    ess = npyro.diagnostics.effective_sample_size(jax.device_get(chains))\n",
    "    ess[np.isnan(ess)] = 1.0\n",
    "    return np.mean(ess)"
   ]
  },
  {
   "cell_type": "code",
   "execution_count": 10,
   "id": "61430447-0139-4812-8166-07219bfb2797",
   "metadata": {
    "execution": {
     "iopub.execute_input": "2022-08-10T11:54:52.225732Z",
     "iopub.status.busy": "2022-08-10T11:54:52.225325Z",
     "iopub.status.idle": "2022-08-10T11:55:07.109787Z",
     "shell.execute_reply": "2022-08-10T11:55:07.108902Z",
     "shell.execute_reply.started": "2022-08-10T11:54:52.225705Z"
    },
    "pycharm": {
     "name": "#%%\n"
    }
   },
   "outputs": [
    {
     "data": {
      "text/plain": "       posOutcome        4111        4110       10661         131        4438  \\\ncount  642.000000  642.000000  642.000000  642.000000  642.000000  642.000000   \nmean     0.733645    0.225857    0.450156    0.255452    0.459502    0.367601   \nstd      0.442397    0.418471    0.497897    0.436455    0.498746    0.482528   \nmin      0.000000    0.000000    0.000000    0.000000    0.000000    0.000000   \n25%      0.000000    0.000000    0.000000    0.000000    0.000000    0.000000   \n50%      1.000000    0.000000    0.000000    0.000000    0.000000    0.000000   \n75%      1.000000    0.000000    1.000000    1.000000    1.000000    1.000000   \nmax      1.000000    1.000000    1.000000    1.000000    1.000000    1.000000   \n\n              330        1109        2637        2642  ...        7634  \\\ncount  642.000000  642.000000  642.000000  642.000000  ...  642.000000   \nmean     0.490654    0.311526    0.478193    0.481308  ...    0.404984   \nstd      0.500302    0.463479    0.499914    0.500040  ...    0.491272   \nmin      0.000000    0.000000    0.000000    0.000000  ...    0.000000   \n25%      0.000000    0.000000    0.000000    0.000000  ...    0.000000   \n50%      0.000000    0.000000    0.000000    0.000000  ...    0.000000   \n75%      1.000000    1.000000    1.000000    1.000000  ...    1.000000   \nmax      1.000000    1.000000    1.000000    1.000000  ...    1.000000   \n\n           55769       7637       7644         741      54993      79364  \\\ncount  642.00000  642.00000  642.00000  642.000000  642.00000  642.00000   \nmean     0.50000    0.50000    0.50000    0.356698    0.50000    0.50000   \nstd      0.50039    0.50039    0.50039    0.479398    0.50039    0.50039   \nmin      0.00000    0.00000    0.00000    0.000000    0.00000    0.00000   \n25%      0.00000    0.00000    0.00000    0.000000    0.00000    0.00000   \n50%      0.50000    0.50000    0.50000    0.000000    0.50000    0.50000   \n75%      1.00000    1.00000    1.00000    1.000000    1.00000    1.00000   \nmax      1.00000    1.00000    1.00000    1.000000    1.00000    1.00000   \n\n            7791       23140      26009  \ncount  642.00000  642.000000  642.00000  \nmean     0.50000    0.470405    0.50000  \nstd      0.50039    0.499513    0.50039  \nmin      0.00000    0.000000    0.00000  \n25%      0.00000    0.000000    0.00000  \n50%      0.50000    0.000000    0.50000  \n75%      1.00000    1.000000    1.00000  \nmax      1.00000    1.000000    1.00000  \n\n[8 rows x 8414 columns]",
      "text/html": "<div>\n<style scoped>\n    .dataframe tbody tr th:only-of-type {\n        vertical-align: middle;\n    }\n\n    .dataframe tbody tr th {\n        vertical-align: top;\n    }\n\n    .dataframe thead th {\n        text-align: right;\n    }\n</style>\n<table border=\"1\" class=\"dataframe\">\n  <thead>\n    <tr style=\"text-align: right;\">\n      <th></th>\n      <th>posOutcome</th>\n      <th>4111</th>\n      <th>4110</th>\n      <th>10661</th>\n      <th>131</th>\n      <th>4438</th>\n      <th>330</th>\n      <th>1109</th>\n      <th>2637</th>\n      <th>2642</th>\n      <th>...</th>\n      <th>7634</th>\n      <th>55769</th>\n      <th>7637</th>\n      <th>7644</th>\n      <th>741</th>\n      <th>54993</th>\n      <th>79364</th>\n      <th>7791</th>\n      <th>23140</th>\n      <th>26009</th>\n    </tr>\n  </thead>\n  <tbody>\n    <tr>\n      <th>count</th>\n      <td>642.000000</td>\n      <td>642.000000</td>\n      <td>642.000000</td>\n      <td>642.000000</td>\n      <td>642.000000</td>\n      <td>642.000000</td>\n      <td>642.000000</td>\n      <td>642.000000</td>\n      <td>642.000000</td>\n      <td>642.000000</td>\n      <td>...</td>\n      <td>642.000000</td>\n      <td>642.00000</td>\n      <td>642.00000</td>\n      <td>642.00000</td>\n      <td>642.000000</td>\n      <td>642.00000</td>\n      <td>642.00000</td>\n      <td>642.00000</td>\n      <td>642.000000</td>\n      <td>642.00000</td>\n    </tr>\n    <tr>\n      <th>mean</th>\n      <td>0.733645</td>\n      <td>0.225857</td>\n      <td>0.450156</td>\n      <td>0.255452</td>\n      <td>0.459502</td>\n      <td>0.367601</td>\n      <td>0.490654</td>\n      <td>0.311526</td>\n      <td>0.478193</td>\n      <td>0.481308</td>\n      <td>...</td>\n      <td>0.404984</td>\n      <td>0.50000</td>\n      <td>0.50000</td>\n      <td>0.50000</td>\n      <td>0.356698</td>\n      <td>0.50000</td>\n      <td>0.50000</td>\n      <td>0.50000</td>\n      <td>0.470405</td>\n      <td>0.50000</td>\n    </tr>\n    <tr>\n      <th>std</th>\n      <td>0.442397</td>\n      <td>0.418471</td>\n      <td>0.497897</td>\n      <td>0.436455</td>\n      <td>0.498746</td>\n      <td>0.482528</td>\n      <td>0.500302</td>\n      <td>0.463479</td>\n      <td>0.499914</td>\n      <td>0.500040</td>\n      <td>...</td>\n      <td>0.491272</td>\n      <td>0.50039</td>\n      <td>0.50039</td>\n      <td>0.50039</td>\n      <td>0.479398</td>\n      <td>0.50039</td>\n      <td>0.50039</td>\n      <td>0.50039</td>\n      <td>0.499513</td>\n      <td>0.50039</td>\n    </tr>\n    <tr>\n      <th>min</th>\n      <td>0.000000</td>\n      <td>0.000000</td>\n      <td>0.000000</td>\n      <td>0.000000</td>\n      <td>0.000000</td>\n      <td>0.000000</td>\n      <td>0.000000</td>\n      <td>0.000000</td>\n      <td>0.000000</td>\n      <td>0.000000</td>\n      <td>...</td>\n      <td>0.000000</td>\n      <td>0.00000</td>\n      <td>0.00000</td>\n      <td>0.00000</td>\n      <td>0.000000</td>\n      <td>0.00000</td>\n      <td>0.00000</td>\n      <td>0.00000</td>\n      <td>0.000000</td>\n      <td>0.00000</td>\n    </tr>\n    <tr>\n      <th>25%</th>\n      <td>0.000000</td>\n      <td>0.000000</td>\n      <td>0.000000</td>\n      <td>0.000000</td>\n      <td>0.000000</td>\n      <td>0.000000</td>\n      <td>0.000000</td>\n      <td>0.000000</td>\n      <td>0.000000</td>\n      <td>0.000000</td>\n      <td>...</td>\n      <td>0.000000</td>\n      <td>0.00000</td>\n      <td>0.00000</td>\n      <td>0.00000</td>\n      <td>0.000000</td>\n      <td>0.00000</td>\n      <td>0.00000</td>\n      <td>0.00000</td>\n      <td>0.000000</td>\n      <td>0.00000</td>\n    </tr>\n    <tr>\n      <th>50%</th>\n      <td>1.000000</td>\n      <td>0.000000</td>\n      <td>0.000000</td>\n      <td>0.000000</td>\n      <td>0.000000</td>\n      <td>0.000000</td>\n      <td>0.000000</td>\n      <td>0.000000</td>\n      <td>0.000000</td>\n      <td>0.000000</td>\n      <td>...</td>\n      <td>0.000000</td>\n      <td>0.50000</td>\n      <td>0.50000</td>\n      <td>0.50000</td>\n      <td>0.000000</td>\n      <td>0.50000</td>\n      <td>0.50000</td>\n      <td>0.50000</td>\n      <td>0.000000</td>\n      <td>0.50000</td>\n    </tr>\n    <tr>\n      <th>75%</th>\n      <td>1.000000</td>\n      <td>0.000000</td>\n      <td>1.000000</td>\n      <td>1.000000</td>\n      <td>1.000000</td>\n      <td>1.000000</td>\n      <td>1.000000</td>\n      <td>1.000000</td>\n      <td>1.000000</td>\n      <td>1.000000</td>\n      <td>...</td>\n      <td>1.000000</td>\n      <td>1.00000</td>\n      <td>1.00000</td>\n      <td>1.00000</td>\n      <td>1.000000</td>\n      <td>1.00000</td>\n      <td>1.00000</td>\n      <td>1.00000</td>\n      <td>1.000000</td>\n      <td>1.00000</td>\n    </tr>\n    <tr>\n      <th>max</th>\n      <td>1.000000</td>\n      <td>1.000000</td>\n      <td>1.000000</td>\n      <td>1.000000</td>\n      <td>1.000000</td>\n      <td>1.000000</td>\n      <td>1.000000</td>\n      <td>1.000000</td>\n      <td>1.000000</td>\n      <td>1.000000</td>\n      <td>...</td>\n      <td>1.000000</td>\n      <td>1.00000</td>\n      <td>1.00000</td>\n      <td>1.00000</td>\n      <td>1.000000</td>\n      <td>1.00000</td>\n      <td>1.00000</td>\n      <td>1.00000</td>\n      <td>1.000000</td>\n      <td>1.00000</td>\n    </tr>\n  </tbody>\n</table>\n<p>8 rows × 8414 columns</p>\n</div>"
     },
     "execution_count": 10,
     "metadata": {},
     "output_type": "execute_result"
    }
   ],
   "source": [
    "tamox_df = pd.read_csv(\"tamoxBinaryEntrez.csv\")\n",
    "tamox_df.describe()"
   ]
  },
  {
   "cell_type": "code",
   "execution_count": 11,
   "outputs": [
    {
     "data": {
      "text/plain": "(642, 8414)"
     },
     "execution_count": 11,
     "metadata": {},
     "output_type": "execute_result"
    }
   ],
   "source": [
    "tamox_df.shape"
   ],
   "metadata": {
    "collapsed": false,
    "pycharm": {
     "name": "#%%\n"
    }
   }
  },
  {
   "cell_type": "code",
   "execution_count": 12,
   "id": "65938da4-2aed-4f8b-b118-5310b882b80e",
   "metadata": {
    "execution": {
     "iopub.execute_input": "2022-08-10T11:55:07.111717Z",
     "iopub.status.busy": "2022-08-10T11:55:07.111473Z",
     "iopub.status.idle": "2022-08-10T11:55:07.372067Z",
     "shell.execute_reply": "2022-08-10T11:55:07.371233Z",
     "shell.execute_reply.started": "2022-08-10T11:55:07.111693Z"
    },
    "pycharm": {
     "name": "#%%\n"
    }
   },
   "outputs": [
    {
     "name": "stdout",
     "output_type": "stream",
     "text": [
      "Total interactions: 372774\n"
     ]
    },
    {
     "name": "stderr",
     "output_type": "stream",
     "text": [
      "/tmp/ipykernel_118/709807910.py:1: DtypeWarning: Columns (1,3) have mixed types. Specify dtype option on import or set low_memory=False.\n",
      "  regnet_df = pd.read_table(\"human.source\", sep=\"\\t\", header=None, names= [\"REGULATOR SYMBOL\", \"REGULATOR ID\", \"TARGET SYMBOL\", \"TARGET ID\"])\n"
     ]
    },
    {
     "data": {
      "text/plain": "  REGULATOR SYMBOL REGULATOR ID TARGET SYMBOL TARGET ID\n0             USF1         7391        S100A6      6277\n1             USF1         7391         DUSP1      1843\n2             USF1         7391           C4A       720\n3             USF1         7391         ABCA1        19\n4             TP53         7157          TP73      7161",
      "text/html": "<div>\n<style scoped>\n    .dataframe tbody tr th:only-of-type {\n        vertical-align: middle;\n    }\n\n    .dataframe tbody tr th {\n        vertical-align: top;\n    }\n\n    .dataframe thead th {\n        text-align: right;\n    }\n</style>\n<table border=\"1\" class=\"dataframe\">\n  <thead>\n    <tr style=\"text-align: right;\">\n      <th></th>\n      <th>REGULATOR SYMBOL</th>\n      <th>REGULATOR ID</th>\n      <th>TARGET SYMBOL</th>\n      <th>TARGET ID</th>\n    </tr>\n  </thead>\n  <tbody>\n    <tr>\n      <th>0</th>\n      <td>USF1</td>\n      <td>7391</td>\n      <td>S100A6</td>\n      <td>6277</td>\n    </tr>\n    <tr>\n      <th>1</th>\n      <td>USF1</td>\n      <td>7391</td>\n      <td>DUSP1</td>\n      <td>1843</td>\n    </tr>\n    <tr>\n      <th>2</th>\n      <td>USF1</td>\n      <td>7391</td>\n      <td>C4A</td>\n      <td>720</td>\n    </tr>\n    <tr>\n      <th>3</th>\n      <td>USF1</td>\n      <td>7391</td>\n      <td>ABCA1</td>\n      <td>19</td>\n    </tr>\n    <tr>\n      <th>4</th>\n      <td>TP53</td>\n      <td>7157</td>\n      <td>TP73</td>\n      <td>7161</td>\n    </tr>\n  </tbody>\n</table>\n</div>"
     },
     "execution_count": 12,
     "metadata": {},
     "output_type": "execute_result"
    }
   ],
   "source": [
    "regnet_df = pd.read_table(\"human.source\", sep=\"\\t\", header=None, names= [\"REGULATOR SYMBOL\", \"REGULATOR ID\", \"TARGET SYMBOL\", \"TARGET ID\"])\n",
    "print(f\"Total interactions: {regnet_df.shape[0]}\")\n",
    "regnet_df.head()"
   ]
  },
  {
   "cell_type": "code",
   "execution_count": 13,
   "id": "f6502827-2abe-4492-aaef-059bc0ef6e9e",
   "metadata": {
    "execution": {
     "iopub.execute_input": "2022-08-10T11:55:07.373366Z",
     "iopub.status.busy": "2022-08-10T11:55:07.373144Z",
     "iopub.status.idle": "2022-08-10T11:55:07.479064Z",
     "shell.execute_reply": "2022-08-10T11:55:07.478244Z",
     "shell.execute_reply.started": "2022-08-10T11:55:07.373343Z"
    },
    "pycharm": {
     "name": "#%%\n"
    }
   },
   "outputs": [],
   "source": [
    "net_intr = pd.Series(regnet_df[\"REGULATOR ID\"].values, index=regnet_df[\"TARGET ID\"])\n",
    "net_intr_rev = pd.Series(regnet_df[\"TARGET ID\"].values, index=regnet_df[\"REGULATOR ID\"])"
   ]
  },
  {
   "cell_type": "code",
   "execution_count": 14,
   "outputs": [],
   "source": [
    "X_df, y_df = tamox_df.iloc[:,1:], tamox_df[\"posOutcome\"]"
   ],
   "metadata": {
    "collapsed": false,
    "pycharm": {
     "name": "#%%\n"
    }
   }
  },
  {
   "cell_type": "code",
   "execution_count": 45,
   "id": "0a1e0c7f-b257-4bd4-9caf-257c698715e2",
   "metadata": {
    "execution": {
     "iopub.execute_input": "2022-08-10T11:55:14.035117Z",
     "iopub.status.busy": "2022-08-10T11:55:14.034360Z",
     "iopub.status.idle": "2022-08-10T11:55:14.084025Z",
     "shell.execute_reply": "2022-08-10T11:55:14.083149Z",
     "shell.execute_reply.started": "2022-08-10T11:55:14.035090Z"
    },
    "pycharm": {
     "name": "#%%\n"
    }
   },
   "outputs": [
    {
     "data": {
      "text/plain": "(449, 8413)"
     },
     "execution_count": 45,
     "metadata": {},
     "output_type": "execute_result"
    }
   ],
   "source": [
    "# X_train_df, X_test_df, y_train_df, y_test_df = train_test_split(X_df, y_df, test_size=0.3, shuffle=True, stratify=y_df, random_state=seed)\n",
    "# X_train_df.shape"
   ]
  },
  {
   "cell_type": "code",
   "execution_count": 12,
   "id": "cf097371-9fe4-4450-ba8c-835d4be98806",
   "metadata": {
    "execution": {
     "iopub.execute_input": "2022-08-10T11:55:15.011842Z",
     "iopub.status.busy": "2022-08-10T11:55:15.011437Z",
     "iopub.status.idle": "2022-08-10T11:57:14.061900Z",
     "shell.execute_reply": "2022-08-10T11:57:14.060972Z",
     "shell.execute_reply.started": "2022-08-10T11:55:15.011815Z"
    },
    "pycharm": {
     "name": "#%%\n"
    }
   },
   "outputs": [
    {
     "ename": "NameError",
     "evalue": "name 'X_train_df' is not defined",
     "output_type": "error",
     "traceback": [
      "\u001B[0;31m---------------------------------------------------------------------------\u001B[0m",
      "\u001B[0;31mNameError\u001B[0m                                 Traceback (most recent call last)",
      "Input \u001B[0;32mIn [12]\u001B[0m, in \u001B[0;36m<cell line: 1>\u001B[0;34m()\u001B[0m\n\u001B[0;32m----> 1\u001B[0m idx_sig \u001B[38;5;241m=\u001B[39m fisher_exact_test(\u001B[43mX_train_df\u001B[49m, y_train_df, \u001B[38;5;241m0.01\u001B[39m)\n\u001B[1;32m      2\u001B[0m idx_sig \u001B[38;5;241m=\u001B[39m np\u001B[38;5;241m.\u001B[39msqueeze(idx_sig)\n\u001B[1;32m      3\u001B[0m jnp\u001B[38;5;241m.\u001B[39msave(\u001B[38;5;124m\"\u001B[39m\u001B[38;5;124mnpy/idx_sig.npy\u001B[39m\u001B[38;5;124m\"\u001B[39m, idx_sig)\n",
      "\u001B[0;31mNameError\u001B[0m: name 'X_train_df' is not defined"
     ]
    }
   ],
   "source": [
    "idx_sig = fisher_exact_test(X_train_df, y_train_df, 0.01)\n",
    "idx_sig = np.squeeze(idx_sig)\n",
    "jnp.save(\"npy/idx_sig.npy\", idx_sig)"
   ]
  },
  {
   "cell_type": "code",
   "execution_count": null,
   "id": "36f6c208-eb4f-4ca7-a5aa-9988458fbc06",
   "metadata": {
    "execution": {
     "iopub.execute_input": "2022-08-10T11:57:14.063731Z",
     "iopub.status.busy": "2022-08-10T11:57:14.063472Z",
     "iopub.status.idle": "2022-08-10T11:57:14.309449Z",
     "shell.execute_reply": "2022-08-10T11:57:14.308408Z",
     "shell.execute_reply.started": "2022-08-10T11:57:14.063707Z"
    },
    "pycharm": {
     "name": "#%%\n"
    }
   },
   "outputs": [],
   "source": [
    "idx_sig = jnp.load(\"npy/idx_sig.npy\")"
   ]
  },
  {
   "cell_type": "code",
   "execution_count": null,
   "id": "d32ad97c-eaa9-4863-a135-3fc7babdb694",
   "metadata": {
    "execution": {
     "iopub.execute_input": "2022-08-09T20:46:07.155103Z",
     "iopub.status.busy": "2022-08-09T20:46:07.154641Z",
     "iopub.status.idle": "2022-08-09T20:46:07.178430Z",
     "shell.execute_reply": "2022-08-09T20:46:07.177673Z",
     "shell.execute_reply.started": "2022-08-09T20:46:07.155103Z"
    },
    "pycharm": {
     "name": "#%%\n"
    }
   },
   "outputs": [],
   "source": [
    "X_train_sig_df, X_test_sig_df = X_train_df.iloc[:,idx_sig], X_test_df.iloc[:,idx_sig]\n",
    "X_train_sig_df.head()"
   ]
  },
  {
   "cell_type": "code",
   "execution_count": null,
   "id": "01b83179-43a8-441b-95c0-a493704193fb",
   "metadata": {
    "execution": {
     "iopub.execute_input": "2022-08-09T22:02:13.555211Z",
     "iopub.status.busy": "2022-08-09T22:02:13.554874Z",
     "iopub.status.idle": "2022-08-09T22:02:18.469842Z",
     "shell.execute_reply": "2022-08-09T22:02:18.469091Z",
     "shell.execute_reply.started": "2022-08-09T22:02:13.555186Z"
    },
    "pycharm": {
     "name": "#%%\n"
    }
   },
   "outputs": [],
   "source": [
    "J_1 = build_network(X_train_sig_df)\n",
    "np.fill_diagonal(J_1, 0.)\n",
    "p = J_1.shape[1]\n",
    "jnp.save(\"npy/J_mat.npy\", J_1)\n",
    "np.count_nonzero(J_1)"
   ]
  },
  {
   "cell_type": "code",
   "execution_count": 15,
   "id": "7c212372-b3b0-41b5-a909-ca9e1c8e1bb3",
   "metadata": {
    "execution": {
     "iopub.execute_input": "2022-08-10T12:20:54.528172Z",
     "iopub.status.busy": "2022-08-10T12:20:54.527692Z",
     "iopub.status.idle": "2022-08-10T12:20:54.597897Z",
     "shell.execute_reply": "2022-08-10T12:20:54.597110Z",
     "shell.execute_reply.started": "2022-08-10T12:20:54.528142Z"
    },
    "pycharm": {
     "name": "#%%\n"
    }
   },
   "outputs": [],
   "source": [
    "J_1 = jnp.load(\"npy/J_mat.npy\")\n",
    "p = J_1.shape[0]"
   ]
  },
  {
   "cell_type": "code",
   "execution_count": 48,
   "id": "4d6766d8-b3fe-44d3-b7a7-ed88cf27f8b6",
   "metadata": {
    "execution": {
     "iopub.execute_input": "2022-08-09T20:46:16.947140Z",
     "iopub.status.busy": "2022-08-09T20:46:16.946750Z",
     "iopub.status.idle": "2022-08-09T20:46:16.979884Z",
     "shell.execute_reply": "2022-08-09T20:46:16.978933Z",
     "shell.execute_reply.started": "2022-08-09T20:46:16.947140Z"
    },
    "pycharm": {
     "name": "#%%\n"
    }
   },
   "outputs": [],
   "source": [
    "X_train, X_test = jax.device_put(X_train_sig_df.to_numpy()), jax.device_put(X_test_sig_df.to_numpy())\n",
    "y_train, y_test = jax.device_put(y_train_df.to_numpy()), jax.device_put(y_test_df.to_numpy())"
   ]
  },
  {
   "cell_type": "code",
   "execution_count": 23,
   "id": "e3a7bcc7-6932-4680-a100-53d34e941ae5",
   "metadata": {
    "execution": {
     "iopub.execute_input": "2022-08-09T20:46:34.907007Z",
     "iopub.status.busy": "2022-08-09T20:46:34.906270Z",
     "iopub.status.idle": "2022-08-09T20:46:34.917061Z",
     "shell.execute_reply": "2022-08-09T20:46:34.915925Z",
     "shell.execute_reply.started": "2022-08-09T20:46:34.906974Z"
    },
    "pycharm": {
     "name": "#%%\n"
    }
   },
   "outputs": [],
   "source": [
    "\n",
    "\n",
    "def gamma_energy(gamma, J, eta, mu):\n",
    "    return eta*jnp.dot(jnp.dot(gamma.T, J), gamma) - mu*jnp.sum(gamma)\n",
    "\n",
    "def model(X, y, sigma, J, eta=1.0, mu=1.0):\n",
    "    p = X.shape[1]\n",
    "    L = np.linalg.cholesky(sigma)\n",
    "    z = npyro.sample('z', dist.Normal(np.zeros(p), 1))\n",
    "    beta = npyro.deterministic('beta', L @ z)\n",
    "    # beta = npyro.sample('beta', dist.MultivariateNormal(0, sigma))\n",
    "    gamma = npyro.sample('gamma', dist.Bernoulli(0.5*jnp.ones(p)))\n",
    "    npyro.factor('gamma_lgp', gamma_energy(gamma, J, eta, mu))\n",
    "    logits = npyro.deterministic(\"logits\", jnp.dot(X, (beta*gamma)))\n",
    "    # print(f\"Probs: {logits.shape}\")\n",
    "    likelihood = npyro.sample(\"y\", dist.Bernoulli(logits=logits),\n",
    "                              obs=y)"
   ]
  },
  {
   "cell_type": "code",
   "execution_count": 18,
   "id": "8b76079c-dc0e-4d48-b2cf-7110dea19b00",
   "metadata": {
    "execution": {
     "iopub.execute_input": "2022-08-09T20:46:36.979356Z",
     "iopub.status.busy": "2022-08-09T20:46:36.979007Z",
     "iopub.status.idle": "2022-08-09T21:19:17.766462Z",
     "shell.execute_reply": "2022-08-09T21:19:17.765748Z",
     "shell.execute_reply.started": "2022-08-09T20:46:36.979330Z"
    },
    "pycharm": {
     "name": "#%%\n"
    }
   },
   "outputs": [
    {
     "name": "stderr",
     "output_type": "stream",
     "text": [
      "/tmp/ipykernel_33/796736951.py:2: UserWarning: There are not enough devices to run parallel chains: expected 3 but got 1. Chains will be drawn sequentially. If you are running MCMC in CPU, consider using `numpyro.set_host_device_count(3)` at the beginning of your program. You can double-check how many devices are available in your system using `jax.local_device_count()`.\n",
      "  mcmc_1 = MCMC(kernel_1, num_warmup=500, num_samples=2000,\n",
      "sample: 100%|██████████| 2500/2500 [11:35<00:00,  3.60it/s, 854 steps of size 1.31e-02. acc. prob=0.68]   \n",
      "sample: 100%|██████████| 2500/2500 [10:13<00:00,  4.08it/s, 845 steps of size 1.34e-02. acc. prob=0.67]   \n",
      "sample: 100%|██████████| 2500/2500 [10:43<00:00,  3.89it/s, 1017 steps of size 9.60e-03. acc. prob=0.83]  \n"
     ]
    }
   ],
   "source": [
    "kernel_1 = MixedHMC(HMC(model, target_accept_prob=0.6, step_size=1e-5), random_walk=False)\n",
    "mcmc_1 = MCMC(kernel_1, num_warmup=500, num_samples=2000, \n",
    "              num_chains=3, progress_bar=True, )\n",
    "mcmc_1.run(rng_key, X_train, y_train, 10*np.identity(p), J_1, 1.0, 1.0)"
   ]
  },
  {
   "cell_type": "code",
   "execution_count": 19,
   "id": "94605822-190f-4cdf-8469-15ea098e5b62",
   "metadata": {
    "execution": {
     "iopub.execute_input": "2022-08-09T21:54:50.747755Z",
     "iopub.status.busy": "2022-08-09T21:54:50.747377Z",
     "iopub.status.idle": "2022-08-09T21:54:51.495748Z",
     "shell.execute_reply": "2022-08-09T21:54:51.494800Z",
     "shell.execute_reply.started": "2022-08-09T21:54:50.747729Z"
    },
    "pycharm": {
     "name": "#%%\n"
    }
   },
   "outputs": [],
   "source": [
    "gamma_samples_1 = jax.device_get(mcmc_1.get_samples()[\"gamma\"])\n",
    "beta_samples_1 = jax.device_get(mcmc_1.get_samples()[\"beta\"])\n",
    "\n",
    "jnp.save(\"npy/gamma_samples_1_nb_tamox_3.npy\", gamma_samples_1)\n",
    "jnp.save(\"npy/beta_samples_1_nb_tamox_3.npy\", beta_samples_1)\n"
   ]
  },
  {
   "cell_type": "code",
   "execution_count": 16,
   "id": "d0f0fad1-9889-4434-9fb8-25909be32888",
   "metadata": {
    "execution": {
     "iopub.execute_input": "2022-08-10T12:21:53.174000Z",
     "iopub.status.busy": "2022-08-10T12:21:53.168792Z",
     "iopub.status.idle": "2022-08-10T12:21:53.362764Z",
     "shell.execute_reply": "2022-08-10T12:21:53.362021Z",
     "shell.execute_reply.started": "2022-08-10T12:21:53.173947Z"
    },
    "pycharm": {
     "name": "#%%\n"
    }
   },
   "outputs": [],
   "source": [
    "gamma_samples_1 = jnp.load(\"npy/gamma_samples_1_nb_tamox_3.npy\")\n",
    "beta_samples_1 = jnp.load(\"npy/beta_samples_1_nb_tamox_3.npy\")"
   ]
  },
  {
   "cell_type": "code",
   "execution_count": 20,
   "id": "25ecf999-359a-40af-8be1-9774bbaadb83",
   "metadata": {
    "execution": {
     "iopub.execute_input": "2022-08-09T21:54:55.170137Z",
     "iopub.status.busy": "2022-08-09T21:54:55.169761Z",
     "iopub.status.idle": "2022-08-09T21:55:35.829426Z",
     "shell.execute_reply": "2022-08-09T21:55:35.828672Z",
     "shell.execute_reply.started": "2022-08-09T21:54:55.170112Z"
    },
    "pycharm": {
     "name": "#%%\n"
    }
   },
   "outputs": [
    {
     "data": {
      "text/plain": [
       "array([[<AxesSubplot:title={'center':'beta'}>,\n",
       "        <AxesSubplot:title={'center':'beta'}>]], dtype=object)"
      ]
     },
     "execution_count": 20,
     "metadata": {},
     "output_type": "execute_result"
    },
    {
     "data": {
      "image/png": "[encoded data removed]",
      "text/plain": [
       "<Figure size 864x144 with 2 Axes>"
      ]
     },
     "metadata": {
      "needs_background": "light"
     },
     "output_type": "display_data"
    }
   ],
   "source": [
    "import arviz as az\n",
    "infr_data = az.from_numpyro(mcmc_1)\n",
    "az.plot_trace(infr_data, var_names=[\"beta\"])"
   ]
  },
  {
   "cell_type": "code",
   "execution_count": 23,
   "id": "41eeac3f-00a0-44f3-bbdf-9f64e0a37d34",
   "metadata": {
    "execution": {
     "iopub.execute_input": "2022-08-09T21:56:18.304708Z",
     "iopub.status.busy": "2022-08-09T21:56:18.304015Z",
     "iopub.status.idle": "2022-08-09T21:56:19.701857Z",
     "shell.execute_reply": "2022-08-09T21:56:19.700572Z",
     "shell.execute_reply.started": "2022-08-09T21:56:18.304681Z"
    },
    "pycharm": {
     "name": "#%%\n"
    }
   },
   "outputs": [
    {
     "name": "stdout",
     "output_type": "stream",
     "text": [
      "\n",
      "                mean       std    median      5.0%     95.0%     n_eff     r_hat\n",
      "  gamma[0]      0.23      0.42      0.00      0.00      1.00    439.32      1.00\n",
      "  gamma[1]      0.33      0.47      0.00      0.00      1.00    345.29      1.01\n",
      "  gamma[2]      0.19      0.39      0.00      0.00      1.00    974.53      1.00\n",
      "  gamma[3]      0.24      0.43      0.00      0.00      1.00    533.24      1.00\n",
      "  gamma[4]      0.26      0.44      0.00      0.00      1.00    544.75      1.01\n",
      "  gamma[5]      0.23      0.42      0.00      0.00      1.00    518.00      1.00\n",
      "  gamma[6]      0.33      0.47      0.00      0.00      1.00    304.23      1.01\n",
      "  gamma[7]      0.41      0.49      0.00      0.00      1.00    195.97      1.01\n",
      "  gamma[8]      0.21      0.40      0.00      0.00      1.00    758.64      1.00\n",
      "  gamma[9]      0.18      0.38      0.00      0.00      1.00    852.78      1.01\n",
      " gamma[10]      0.23      0.42      0.00      0.00      1.00    496.85      1.01\n",
      " gamma[11]      0.19      0.39      0.00      0.00      1.00    567.79      1.01\n",
      " gamma[12]      0.20      0.40      0.00      0.00      1.00    694.68      1.00\n",
      " gamma[13]      0.20      0.40      0.00      0.00      1.00    652.78      1.00\n",
      " gamma[14]      0.32      0.47      0.00      0.00      1.00    259.61      1.01\n",
      " gamma[15]      0.25      0.43      0.00      0.00      1.00    402.43      1.02\n",
      " gamma[16]      0.21      0.41      0.00      0.00      1.00    523.82      1.00\n",
      " gamma[17]      0.29      0.45      0.00      0.00      1.00    673.45      1.00\n",
      " gamma[18]      0.21      0.41      0.00      0.00      1.00    987.21      1.00\n",
      " gamma[19]      0.33      0.47      0.00      0.00      1.00    463.74      1.01\n",
      " gamma[20]      0.24      0.42      0.00      0.00      1.00    758.18      1.00\n",
      " gamma[21]      0.20      0.40      0.00      0.00      1.00    454.91      1.00\n",
      " gamma[22]      0.24      0.43      0.00      0.00      1.00    522.94      1.01\n",
      " gamma[23]      0.34      0.47      0.00      0.00      1.00    445.05      1.01\n",
      " gamma[24]      0.29      0.45      0.00      0.00      1.00    740.13      1.01\n",
      " gamma[25]      0.28      0.45      0.00      0.00      1.00    438.86      1.01\n",
      " gamma[26]      0.24      0.43      0.00      0.00      1.00    637.72      1.00\n",
      " gamma[27]      0.22      0.42      0.00      0.00      1.00    516.14      1.01\n",
      " gamma[28]      0.67      0.47      1.00      0.00      1.00    289.89      1.01\n",
      " gamma[29]      0.40      0.49      0.00      0.00      1.00    331.26      1.01\n",
      " gamma[30]      0.19      0.39      0.00      0.00      1.00    544.60      1.01\n",
      " gamma[31]      0.24      0.43      0.00      0.00      1.00    532.33      1.01\n",
      " gamma[32]      0.20      0.40      0.00      0.00      1.00    589.36      1.01\n",
      " gamma[33]      0.21      0.41      0.00      0.00      1.00    542.09      1.02\n",
      " gamma[34]      0.20      0.40      0.00      0.00      1.00    398.95      1.00\n",
      " gamma[35]      0.23      0.42      0.00      0.00      1.00    452.40      1.00\n",
      " gamma[36]      0.23      0.42      0.00      0.00      1.00    675.05      1.01\n",
      " gamma[37]      0.18      0.39      0.00      0.00      1.00    668.55      1.00\n",
      " gamma[38]      0.19      0.39      0.00      0.00      1.00    595.50      1.00\n",
      " gamma[39]      0.21      0.41      0.00      0.00      1.00    649.80      1.00\n",
      " gamma[40]      0.20      0.40      0.00      0.00      1.00    670.72      1.00\n",
      " gamma[41]      0.27      0.45      0.00      0.00      1.00    399.99      1.02\n",
      " gamma[42]      0.19      0.39      0.00      0.00      1.00    495.24      1.01\n",
      " gamma[43]      0.38      0.49      0.00      0.00      1.00    307.14      1.00\n",
      " gamma[44]      0.19      0.39      0.00      0.00      1.00    697.12      1.01\n",
      " gamma[45]      0.27      0.45      0.00      0.00      1.00    446.90      1.01\n",
      " gamma[46]      0.17      0.37      0.00      0.00      1.00    821.23      1.00\n",
      " gamma[47]      0.81      0.39      1.00      0.00      1.00    125.41      1.01\n",
      " gamma[48]      0.19      0.40      0.00      0.00      1.00    557.75      1.00\n",
      " gamma[49]      0.43      0.50      0.00      0.00      1.00    268.34      1.01\n",
      " gamma[50]      0.31      0.46      0.00      0.00      1.00    271.08      1.02\n",
      " gamma[51]      0.18      0.39      0.00      0.00      1.00    738.93      1.00\n",
      " gamma[52]      0.50      0.50      0.00      0.00      1.00    184.73      1.01\n",
      " gamma[53]      0.67      0.47      1.00      0.00      1.00    140.61      1.02\n",
      " gamma[54]      0.18      0.38      0.00      0.00      1.00    698.79      1.00\n",
      " gamma[55]      0.27      0.45      0.00      0.00      1.00    475.74      1.00\n",
      " gamma[56]      0.22      0.42      0.00      0.00      1.00    528.36      1.00\n",
      " gamma[57]      0.52      0.50      1.00      0.00      1.00    252.81      1.02\n",
      " gamma[58]      0.14      0.35      0.00      0.00      1.00    820.40      1.01\n",
      " gamma[59]      0.20      0.40      0.00      0.00      1.00    605.19      1.00\n",
      " gamma[60]      0.49      0.50      0.00      0.00      1.00    303.09      1.00\n",
      " gamma[61]      0.20      0.40      0.00      0.00      1.00    838.91      1.00\n",
      " gamma[62]      0.24      0.43      0.00      0.00      1.00    470.74      1.01\n",
      " gamma[63]      0.31      0.46      0.00      0.00      1.00    256.55      1.02\n",
      " gamma[64]      0.18      0.38      0.00      0.00      1.00    726.40      1.00\n",
      " gamma[65]      0.18      0.39      0.00      0.00      1.00    946.47      1.00\n",
      " gamma[66]      0.17      0.38      0.00      0.00      1.00    910.27      1.00\n",
      " gamma[67]      0.23      0.42      0.00      0.00      1.00    580.61      1.01\n",
      " gamma[68]      0.23      0.42      0.00      0.00      1.00    683.74      1.00\n",
      " gamma[69]      0.24      0.43      0.00      0.00      1.00    633.67      1.00\n",
      " gamma[70]      0.21      0.40      0.00      0.00      1.00    901.35      1.01\n",
      " gamma[71]      0.17      0.38      0.00      0.00      1.00    715.47      1.00\n",
      " gamma[72]      0.30      0.46      0.00      0.00      1.00    300.85      1.02\n",
      " gamma[73]      0.23      0.42      0.00      0.00      1.00    559.91      1.01\n",
      " gamma[74]      0.38      0.49      0.00      0.00      1.00    424.34      1.00\n",
      " gamma[75]      0.19      0.39      0.00      0.00      1.00    693.98      1.00\n",
      " gamma[76]      0.21      0.41      0.00      0.00      1.00    700.03      1.00\n",
      " gamma[77]      0.26      0.44      0.00      0.00      1.00    503.84      1.01\n",
      " gamma[78]      0.50      0.50      0.00      0.00      1.00    164.78      1.00\n",
      " gamma[79]      0.62      0.49      1.00      0.00      1.00    316.57      1.02\n",
      " gamma[80]      0.22      0.42      0.00      0.00      1.00    776.96      1.00\n",
      " gamma[81]      0.24      0.42      0.00      0.00      1.00    577.26      1.00\n",
      " gamma[82]      0.17      0.38      0.00      0.00      1.00    684.92      1.00\n",
      " gamma[83]      0.27      0.45      0.00      0.00      1.00    283.68      1.00\n",
      " gamma[84]      0.19      0.39      0.00      0.00      1.00    929.22      1.00\n",
      " gamma[85]      0.21      0.41      0.00      0.00      1.00    534.76      1.00\n",
      " gamma[86]      0.19      0.39      0.00      0.00      1.00    845.58      1.00\n",
      " gamma[87]      0.93      0.25      1.00      1.00      1.00    247.90      1.01\n",
      " gamma[88]      0.21      0.41      0.00      0.00      1.00    550.71      1.00\n",
      " gamma[89]      0.34      0.47      0.00      0.00      1.00    319.41      1.01\n",
      " gamma[90]      0.22      0.41      0.00      0.00      1.00    825.73      1.01\n",
      " gamma[91]      0.24      0.43      0.00      0.00      1.00    412.72      1.01\n",
      " gamma[92]      0.47      0.50      0.00      0.00      1.00    307.19      1.00\n",
      " gamma[93]      0.19      0.40      0.00      0.00      1.00    633.77      1.00\n",
      " gamma[94]      0.22      0.41      0.00      0.00      1.00    647.58      1.00\n",
      " gamma[95]      0.66      0.47      1.00      0.00      1.00    636.54      1.01\n",
      " gamma[96]      0.20      0.40      0.00      0.00      1.00    530.53      1.00\n",
      " gamma[97]      0.17      0.38      0.00      0.00      1.00    918.50      1.00\n",
      " gamma[98]      0.20      0.40      0.00      0.00      1.00    564.31      1.00\n",
      " gamma[99]      0.28      0.45      0.00      0.00      1.00    473.87      1.00\n",
      "gamma[100]      0.18      0.38      0.00      0.00      1.00    550.62      1.01\n",
      "gamma[101]      0.24      0.43      0.00      0.00      1.00    372.43      1.01\n",
      "gamma[102]      0.19      0.39      0.00      0.00      1.00    618.43      1.00\n",
      "gamma[103]      0.17      0.38      0.00      0.00      1.00    712.99      1.00\n",
      "gamma[104]      0.21      0.41      0.00      0.00      1.00    603.42      1.00\n",
      "gamma[105]      0.23      0.42      0.00      0.00      1.00    474.55      1.00\n",
      "gamma[106]      0.21      0.40      0.00      0.00      1.00    539.62      1.00\n",
      "gamma[107]      0.21      0.40      0.00      0.00      1.00    478.25      1.00\n",
      "gamma[108]      0.30      0.46      0.00      0.00      1.00    395.09      1.00\n",
      "gamma[109]      0.38      0.49      0.00      0.00      1.00    236.74      1.02\n",
      "gamma[110]      0.60      0.49      1.00      0.00      1.00    486.63      1.00\n",
      "gamma[111]      0.21      0.41      0.00      0.00      1.00    682.65      1.00\n",
      "gamma[112]      0.25      0.43      0.00      0.00      1.00    514.83      1.00\n",
      "gamma[113]      0.46      0.50      0.00      0.00      1.00    213.36      1.01\n",
      "gamma[114]      0.19      0.39      0.00      0.00      1.00    699.26      1.00\n",
      "gamma[115]      0.17      0.38      0.00      0.00      1.00    655.86      1.00\n",
      "gamma[116]      0.23      0.42      0.00      0.00      1.00    494.29      1.00\n",
      "gamma[117]      0.24      0.43      0.00      0.00      1.00    267.75      1.01\n",
      "gamma[118]      0.15      0.36      0.00      0.00      1.00    668.32      1.01\n",
      "gamma[119]      0.17      0.38      0.00      0.00      1.00    426.14      1.01\n",
      "gamma[120]      0.21      0.40      0.00      0.00      1.00    638.14      1.01\n",
      "gamma[121]      0.19      0.39      0.00      0.00      1.00    724.84      1.00\n",
      "gamma[122]      0.24      0.43      0.00      0.00      1.00    499.99      1.00\n",
      "gamma[123]      0.20      0.40      0.00      0.00      1.00    473.67      1.01\n",
      "gamma[124]      0.18      0.38      0.00      0.00      1.00    869.69      1.00\n",
      "gamma[125]      0.41      0.49      0.00      0.00      1.00    139.24      1.02\n",
      "gamma[126]      0.21      0.41      0.00      0.00      1.00    549.28      1.00\n",
      "gamma[127]      0.30      0.46      0.00      0.00      1.00    420.17      1.01\n",
      "gamma[128]      0.25      0.43      0.00      0.00      1.00    365.86      1.01\n",
      "gamma[129]      0.19      0.39      0.00      0.00      1.00    601.52      1.00\n",
      "gamma[130]      0.21      0.41      0.00      0.00      1.00    621.74      1.00\n",
      "gamma[131]      0.21      0.41      0.00      0.00      1.00    660.98      1.00\n",
      "gamma[132]      0.23      0.42      0.00      0.00      1.00    546.07      1.01\n",
      "gamma[133]      1.00      0.00      1.00      1.00      1.00       nan       nan\n",
      "gamma[134]      0.18      0.38      0.00      0.00      1.00    737.81      1.01\n",
      "gamma[135]      0.42      0.49      0.00      0.00      1.00    219.87      1.00\n",
      "gamma[136]      0.26      0.44      0.00      0.00      1.00    409.22      1.00\n",
      "gamma[137]      0.20      0.40      0.00      0.00      1.00    503.01      1.00\n",
      "gamma[138]      0.46      0.50      0.00      0.00      1.00    221.46      1.01\n",
      "gamma[139]      0.21      0.41      0.00      0.00      1.00    455.31      1.00\n",
      "gamma[140]      0.18      0.38      0.00      0.00      1.00    698.02      1.01\n",
      "gamma[141]      0.19      0.39      0.00      0.00      1.00    697.45      1.01\n",
      "gamma[142]      0.18      0.38      0.00      0.00      1.00    651.56      1.01\n",
      "gamma[143]      0.21      0.40      0.00      0.00      1.00    670.60      1.00\n",
      "gamma[144]      0.34      0.47      0.00      0.00      1.00    291.04      1.00\n",
      "gamma[145]      0.20      0.40      0.00      0.00      1.00    507.09      1.00\n",
      "gamma[146]      0.22      0.42      0.00      0.00      1.00    498.57      1.00\n",
      "gamma[147]      0.18      0.39      0.00      0.00      1.00    726.68      1.01\n",
      "gamma[148]      0.29      0.45      0.00      0.00      1.00    421.47      1.01\n",
      "gamma[149]      0.21      0.41      0.00      0.00      1.00    340.41      1.01\n",
      "gamma[150]      0.26      0.44      0.00      0.00      1.00    383.11      1.01\n",
      "gamma[151]      0.34      0.47      0.00      0.00      1.00    295.19      1.00\n",
      "gamma[152]      0.20      0.40      0.00      0.00      1.00    872.00      1.00\n",
      "gamma[153]      0.20      0.40      0.00      0.00      1.00    525.93      1.00\n",
      "gamma[154]      0.18      0.39      0.00      0.00      1.00    562.47      1.01\n",
      "gamma[155]      0.17      0.37      0.00      0.00      1.00    732.56      1.00\n",
      "gamma[156]      0.25      0.44      0.00      0.00      1.00    637.01      1.00\n",
      "gamma[157]      0.24      0.43      0.00      0.00      1.00    533.91      1.00\n",
      "gamma[158]      0.20      0.40      0.00      0.00      1.00    682.78      1.00\n",
      "gamma[159]      0.18      0.38      0.00      0.00      1.00   1093.69      1.00\n",
      "gamma[160]      0.26      0.44      0.00      0.00      1.00    279.33      1.00\n",
      "gamma[161]      0.32      0.47      0.00      0.00      1.00    412.20      1.00\n",
      "gamma[162]      0.72      0.45      1.00      0.00      1.00    115.40      1.03\n",
      "gamma[163]      0.35      0.48      0.00      0.00      1.00    140.68      1.03\n",
      "gamma[164]      0.20      0.40      0.00      0.00      1.00    489.85      1.01\n",
      "gamma[165]      0.24      0.43      0.00      0.00      1.00    490.35      1.01\n",
      "gamma[166]      0.31      0.46      0.00      0.00      1.00    284.88      1.02\n",
      "gamma[167]      0.20      0.40      0.00      0.00      1.00    559.33      1.00\n",
      "gamma[168]      0.27      0.44      0.00      0.00      1.00    766.28      1.00\n",
      "gamma[169]      0.31      0.46      0.00      0.00      1.00    426.81      1.02\n",
      "gamma[170]      0.23      0.42      0.00      0.00      1.00    510.38      1.01\n",
      "gamma[171]      0.18      0.39      0.00      0.00      1.00   1031.36      1.00\n",
      "gamma[172]      0.24      0.43      0.00      0.00      1.00    495.01      1.00\n",
      "gamma[173]      0.19      0.40      0.00      0.00      1.00    799.95      1.00\n",
      "gamma[174]      0.28      0.45      0.00      0.00      1.00    483.82      1.00\n",
      "gamma[175]      0.32      0.47      0.00      0.00      1.00    412.20      1.01\n",
      "gamma[176]      0.40      0.49      0.00      0.00      1.00    444.56      1.01\n",
      "gamma[177]      0.20      0.40      0.00      0.00      1.00    659.85      1.01\n",
      "gamma[178]      0.27      0.45      0.00      0.00      1.00    775.97      1.00\n",
      "gamma[179]      0.27      0.45      0.00      0.00      1.00    454.08      1.01\n",
      "gamma[180]      0.22      0.41      0.00      0.00      1.00    621.68      1.00\n",
      "gamma[181]      0.18      0.38      0.00      0.00      1.00    741.90      1.00\n",
      "gamma[182]      0.26      0.44      0.00      0.00      1.00    717.33      1.00\n",
      "gamma[183]      0.45      0.50      0.00      0.00      1.00    374.57      1.01\n",
      "gamma[184]      0.20      0.40      0.00      0.00      1.00    656.86      1.00\n",
      "gamma[185]      0.38      0.49      0.00      0.00      1.00    339.56      1.00\n",
      "gamma[186]      0.23      0.42      0.00      0.00      1.00    625.27      1.01\n",
      "gamma[187]      0.19      0.39      0.00      0.00      1.00    927.98      1.00\n",
      "gamma[188]      0.29      0.45      0.00      0.00      1.00    388.46      1.01\n",
      "gamma[189]      0.47      0.50      0.00      0.00      1.00    224.50      1.02\n",
      "gamma[190]      0.33      0.47      0.00      0.00      1.00    372.26      1.00\n",
      "gamma[191]      0.26      0.44      0.00      0.00      1.00    548.51      1.01\n",
      "gamma[192]      0.23      0.42      0.00      0.00      1.00    526.26      1.00\n",
      "gamma[193]      0.18      0.38      0.00      0.00      1.00    575.87      1.00\n",
      "gamma[194]      0.23      0.42      0.00      0.00      1.00    545.12      1.01\n",
      "gamma[195]      0.19      0.39      0.00      0.00      1.00    721.31      1.00\n",
      "gamma[196]      0.24      0.43      0.00      0.00      1.00    446.46      1.00\n",
      "gamma[197]      0.21      0.41      0.00      0.00      1.00    819.84      1.00\n",
      "gamma[198]      0.37      0.48      0.00      0.00      1.00    492.37      1.00\n",
      "gamma[199]      0.20      0.40      0.00      0.00      1.00    482.71      1.00\n",
      "gamma[200]      0.21      0.41      0.00      0.00      1.00    532.36      1.01\n",
      "gamma[201]      0.37      0.48      0.00      0.00      1.00    263.71      1.01\n",
      "gamma[202]      0.40      0.49      0.00      0.00      1.00    425.49      1.01\n",
      "gamma[203]      0.19      0.39      0.00      0.00      1.00   1038.89      1.00\n",
      "gamma[204]      0.22      0.42      0.00      0.00      1.00    630.78      1.00\n",
      "gamma[205]      0.21      0.41      0.00      0.00      1.00    752.60      1.00\n",
      "gamma[206]      0.21      0.40      0.00      0.00      1.00    572.70      1.01\n",
      "gamma[207]      0.66      0.47      1.00      0.00      1.00    166.52      1.03\n",
      "gamma[208]      0.26      0.44      0.00      0.00      1.00    375.39      1.00\n",
      "gamma[209]      0.19      0.39      0.00      0.00      1.00    924.24      1.00\n",
      "gamma[210]      0.38      0.48      0.00      0.00      1.00    361.86      1.01\n",
      "gamma[211]      0.25      0.43      0.00      0.00      1.00    485.34      1.00\n",
      "gamma[212]      0.23      0.42      0.00      0.00      1.00    688.83      1.00\n",
      "gamma[213]      0.22      0.41      0.00      0.00      1.00    579.01      1.01\n",
      "gamma[214]      0.30      0.46      0.00      0.00      1.00    369.40      1.01\n",
      "gamma[215]      0.24      0.43      0.00      0.00      1.00    663.23      1.00\n",
      "gamma[216]      0.31      0.46      0.00      0.00      1.00    379.61      1.00\n",
      "gamma[217]      0.24      0.43      0.00      0.00      1.00    775.71      1.00\n",
      "gamma[218]      0.86      0.35      1.00      0.00      1.00    231.40      1.02\n",
      "gamma[219]      0.20      0.40      0.00      0.00      1.00    604.13      1.01\n",
      "gamma[220]      0.24      0.43      0.00      0.00      1.00    593.57      1.00\n",
      "gamma[221]      0.19      0.39      0.00      0.00      1.00    777.42      1.00\n",
      "gamma[222]      0.27      0.45      0.00      0.00      1.00    469.23      1.01\n",
      "gamma[223]      0.53      0.50      1.00      0.00      1.00    342.26      1.02\n",
      "gamma[224]      0.55      0.50      1.00      0.00      1.00    302.47      1.01\n",
      "gamma[225]      0.22      0.41      0.00      0.00      1.00    456.64      1.01\n",
      "gamma[226]      0.18      0.39      0.00      0.00      1.00    757.76      1.00\n",
      "gamma[227]      0.26      0.44      0.00      0.00      1.00    664.94      1.00\n",
      "gamma[228]      0.46      0.50      0.00      0.00      1.00    256.67      1.01\n",
      "gamma[229]      0.24      0.43      0.00      0.00      1.00    495.91      1.01\n",
      "gamma[230]      0.21      0.40      0.00      0.00      1.00    565.42      1.01\n",
      "gamma[231]      0.21      0.41      0.00      0.00      1.00    774.85      1.00\n",
      "gamma[232]      0.25      0.43      0.00      0.00      1.00    433.65      1.00\n",
      "gamma[233]      0.24      0.43      0.00      0.00      1.00    402.61      1.01\n",
      "gamma[234]      0.26      0.44      0.00      0.00      1.00    513.15      1.00\n",
      "gamma[235]      0.57      0.49      1.00      0.00      1.00    498.00      1.00\n",
      "gamma[236]      0.23      0.42      0.00      0.00      1.00    369.39      1.01\n",
      "gamma[237]      0.26      0.44      0.00      0.00      1.00    466.57      1.01\n",
      "gamma[238]      0.22      0.42      0.00      0.00      1.00    635.17      1.00\n",
      "gamma[239]      0.33      0.47      0.00      0.00      1.00    369.52      1.01\n",
      "gamma[240]      0.36      0.48      0.00      0.00      1.00    340.79      1.00\n",
      "gamma[241]      0.20      0.40      0.00      0.00      1.00    567.44      1.00\n",
      "gamma[242]      0.34      0.47      0.00      0.00      1.00    298.23      1.00\n",
      "gamma[243]      0.22      0.42      0.00      0.00      1.00    543.16      1.00\n",
      "gamma[244]      0.22      0.41      0.00      0.00      1.00    738.52      1.00\n",
      "gamma[245]      0.19      0.39      0.00      0.00      1.00    635.11      1.00\n",
      "gamma[246]      0.24      0.43      0.00      0.00      1.00    499.18      1.00\n",
      "gamma[247]      0.18      0.39      0.00      0.00      1.00    589.32      1.00\n",
      "gamma[248]      0.19      0.40      0.00      0.00      1.00    639.68      1.00\n",
      "gamma[249]      0.26      0.44      0.00      0.00      1.00    545.76      1.01\n",
      "gamma[250]      0.24      0.43      0.00      0.00      1.00    458.07      1.00\n",
      "gamma[251]      0.19      0.39      0.00      0.00      1.00    594.00      1.00\n",
      "gamma[252]      0.36      0.48      0.00      0.00      1.00    341.92      1.00\n",
      "gamma[253]      0.31      0.46      0.00      0.00      1.00    427.33      1.00\n",
      "gamma[254]      0.36      0.48      0.00      0.00      1.00    280.57      1.00\n",
      "gamma[255]      0.51      0.50      1.00      0.00      1.00    167.56      1.01\n",
      "gamma[256]      0.18      0.38      0.00      0.00      1.00    822.52      1.00\n",
      "gamma[257]      0.50      0.50      1.00      0.00      1.00    193.95      1.02\n",
      "gamma[258]      0.18      0.38      0.00      0.00      1.00    672.75      1.00\n",
      "gamma[259]      0.23      0.42      0.00      0.00      1.00    904.84      1.00\n",
      "gamma[260]      0.64      0.48      1.00      0.00      1.00    404.90      1.01\n",
      "gamma[261]      0.19      0.39      0.00      0.00      1.00    482.92      1.01\n",
      "gamma[262]      0.26      0.44      0.00      0.00      1.00    400.39      1.00\n",
      "gamma[263]      0.19      0.39      0.00      0.00      1.00    963.03      1.00\n",
      "gamma[264]      0.29      0.45      0.00      0.00      1.00    528.82      1.01\n",
      "gamma[265]      0.53      0.50      1.00      0.00      1.00    289.54      1.01\n",
      "gamma[266]      0.22      0.41      0.00      0.00      1.00    656.55      1.01\n",
      "gamma[267]      0.26      0.44      0.00      0.00      1.00    394.16      1.01\n",
      "gamma[268]      0.19      0.40      0.00      0.00      1.00    625.63      1.00\n",
      "gamma[269]      0.17      0.38      0.00      0.00      1.00    578.36      1.01\n",
      "gamma[270]      0.21      0.41      0.00      0.00      1.00    599.81      1.01\n",
      "gamma[271]      0.69      0.46      1.00      0.00      1.00    183.07      1.02\n",
      "gamma[272]      0.21      0.41      0.00      0.00      1.00    978.01      1.00\n",
      "gamma[273]      0.22      0.41      0.00      0.00      1.00    615.26      1.01\n",
      "gamma[274]      0.23      0.42      0.00      0.00      1.00    668.86      1.01\n",
      "gamma[275]      0.20      0.40      0.00      0.00      1.00    800.06      1.00\n",
      "gamma[276]      0.24      0.43      0.00      0.00      1.00    442.02      1.00\n",
      "gamma[277]      0.19      0.39      0.00      0.00      1.00    644.75      1.00\n",
      "gamma[278]      0.23      0.42      0.00      0.00      1.00    467.33      1.01\n",
      "gamma[279]      0.37      0.48      0.00      0.00      1.00    301.86      1.01\n",
      "gamma[280]      0.20      0.40      0.00      0.00      1.00    800.31      1.00\n",
      "gamma[281]      0.26      0.44      0.00      0.00      1.00    477.19      1.00\n",
      "gamma[282]      0.27      0.45      0.00      0.00      1.00    406.39      1.01\n",
      "gamma[283]      0.19      0.39      0.00      0.00      1.00    824.11      1.00\n",
      "gamma[284]      0.29      0.45      0.00      0.00      1.00    394.11      1.01\n",
      "gamma[285]      0.21      0.41      0.00      0.00      1.00    825.48      1.01\n",
      "gamma[286]      0.21      0.41      0.00      0.00      1.00    495.34      1.00\n",
      "gamma[287]      0.24      0.43      0.00      0.00      1.00    564.96      1.00\n",
      "gamma[288]      0.25      0.43      0.00      0.00      1.00    406.04      1.01\n",
      "gamma[289]      0.28      0.45      0.00      0.00      1.00    230.54      1.04\n",
      "gamma[290]      0.53      0.50      1.00      0.00      1.00    197.56      1.02\n",
      "gamma[291]      0.20      0.40      0.00      0.00      1.00    648.99      1.00\n",
      "gamma[292]      0.20      0.40      0.00      0.00      1.00    554.32      1.00\n",
      "gamma[293]      0.70      0.46      1.00      0.00      1.00    190.09      1.02\n",
      "gamma[294]      0.32      0.46      0.00      0.00      1.00    287.99      1.00\n",
      "gamma[295]      0.62      0.49      1.00      0.00      1.00    141.75      1.02\n",
      "gamma[296]      0.39      0.49      0.00      0.00      1.00    278.16      1.01\n",
      "gamma[297]      0.25      0.44      0.00      0.00      1.00    392.29      1.02\n",
      "gamma[298]      0.42      0.49      0.00      0.00      1.00    290.49      1.00\n",
      "gamma[299]      0.16      0.37      0.00      0.00      1.00    507.64      1.00\n",
      "gamma[300]      0.87      0.34      1.00      0.00      1.00    206.13      1.01\n",
      "gamma[301]      0.26      0.44      0.00      0.00      1.00    397.34      1.01\n",
      "gamma[302]      0.77      0.42      1.00      0.00      1.00    183.77      1.02\n",
      "gamma[303]      0.18      0.38      0.00      0.00      1.00    757.18      1.01\n",
      "gamma[304]      0.21      0.41      0.00      0.00      1.00    565.78      1.00\n",
      "gamma[305]      0.67      0.47      1.00      0.00      1.00    257.40      1.01\n",
      "gamma[306]      0.67      0.47      1.00      0.00      1.00    238.00      1.00\n",
      "gamma[307]      0.34      0.47      0.00      0.00      1.00    294.61      1.02\n",
      "gamma[308]      0.53      0.50      1.00      0.00      1.00    291.33      1.01\n",
      "gamma[309]      0.22      0.42      0.00      0.00      1.00    597.40      1.00\n",
      "gamma[310]      0.20      0.40      0.00      0.00      1.00    506.82      1.00\n",
      "gamma[311]      0.27      0.45      0.00      0.00      1.00    487.30      1.00\n",
      "gamma[312]      0.23      0.42      0.00      0.00      1.00    523.69      1.00\n",
      "gamma[313]      0.27      0.44      0.00      0.00      1.00    721.56      1.00\n",
      "gamma[314]      0.28      0.45      0.00      0.00      1.00    279.35      1.01\n",
      "gamma[315]      0.18      0.39      0.00      0.00      1.00    377.52      1.01\n",
      "gamma[316]      0.24      0.43      0.00      0.00      1.00    564.19      1.00\n",
      "gamma[317]      0.25      0.43      0.00      0.00      1.00    383.72      1.00\n",
      "gamma[318]      0.19      0.39      0.00      0.00      1.00    801.90      1.00\n",
      "gamma[319]      0.71      0.45      1.00      0.00      1.00    221.24      1.02\n",
      "gamma[320]      0.25      0.43      0.00      0.00      1.00    520.42      1.01\n",
      "gamma[321]      0.22      0.41      0.00      0.00      1.00    768.89      1.00\n",
      "gamma[322]      0.18      0.38      0.00      0.00      1.00    674.46      1.00\n",
      "gamma[323]      0.19      0.39      0.00      0.00      1.00    641.21      1.01\n",
      "gamma[324]      0.23      0.42      0.00      0.00      1.00    469.42      1.00\n",
      "gamma[325]      0.64      0.48      1.00      0.00      1.00    155.56      1.02\n",
      "gamma[326]      0.33      0.47      0.00      0.00      1.00    300.35      1.00\n",
      "gamma[327]      0.15      0.36      0.00      0.00      1.00    782.60      1.00\n",
      "gamma[328]      0.18      0.38      0.00      0.00      1.00    805.22      1.01\n",
      "gamma[329]      0.17      0.38      0.00      0.00      1.00    796.62      1.00\n",
      "gamma[330]      0.39      0.49      0.00      0.00      1.00    259.90      1.00\n",
      "gamma[331]      0.26      0.44      0.00      0.00      1.00    360.22      1.00\n",
      "gamma[332]      0.21      0.41      0.00      0.00      1.00    558.34      1.00\n",
      "gamma[333]      0.27      0.44      0.00      0.00      1.00    394.80      1.00\n",
      "gamma[334]      0.22      0.41      0.00      0.00      1.00    705.28      1.00\n",
      "gamma[335]      0.45      0.50      0.00      0.00      1.00    332.21      1.01\n",
      "gamma[336]      0.19      0.39      0.00      0.00      1.00    783.42      1.01\n",
      "gamma[337]      0.22      0.42      0.00      0.00      1.00    546.58      1.00\n",
      "gamma[338]      0.45      0.50      0.00      0.00      1.00    200.36      1.02\n",
      "gamma[339]      0.18      0.38      0.00      0.00      1.00    672.75      1.00\n",
      "gamma[340]      0.21      0.40      0.00      0.00      1.00    560.52      1.01\n",
      "gamma[341]      0.24      0.43      0.00      0.00      1.00    541.38      1.01\n",
      "gamma[342]      0.28      0.45      0.00      0.00      1.00    412.95      1.01\n",
      "gamma[343]      0.41      0.49      0.00      0.00      1.00    206.08      1.02\n",
      "gamma[344]      0.37      0.48      0.00      0.00      1.00    303.25      1.01\n",
      "gamma[345]      0.22      0.41      0.00      0.00      1.00    638.14      1.01\n",
      "gamma[346]      0.25      0.43      0.00      0.00      1.00    458.65      1.01\n",
      "gamma[347]      0.22      0.41      0.00      0.00      1.00    624.65      1.00\n",
      "gamma[348]      0.21      0.41      0.00      0.00      1.00    652.53      1.00\n",
      "gamma[349]      0.61      0.49      1.00      0.00      1.00    142.24      1.02\n",
      "gamma[350]      0.23      0.42      0.00      0.00      1.00    720.94      1.00\n",
      "gamma[351]      0.22      0.41      0.00      0.00      1.00    453.37      1.00\n",
      "gamma[352]      0.19      0.39      0.00      0.00      1.00    886.22      1.00\n",
      "gamma[353]      0.16      0.37      0.00      0.00      1.00    669.08      1.01\n",
      "gamma[354]      0.73      0.44      1.00      0.00      1.00    174.33      1.03\n",
      "gamma[355]      0.61      0.49      1.00      0.00      1.00    176.26      1.02\n",
      "gamma[356]      0.24      0.43      0.00      0.00      1.00    456.37      1.00\n",
      "gamma[357]      0.22      0.41      0.00      0.00      1.00    583.24      1.01\n",
      "gamma[358]      0.21      0.40      0.00      0.00      1.00    573.00      1.00\n",
      "gamma[359]      0.23      0.42      0.00      0.00      1.00    566.78      1.00\n",
      "gamma[360]      0.28      0.45      0.00      0.00      1.00    381.22      1.01\n",
      "gamma[361]      0.24      0.42      0.00      0.00      1.00    511.43      1.00\n",
      "gamma[362]      0.20      0.40      0.00      0.00      1.00    694.08      1.00\n",
      "gamma[363]      0.27      0.45      0.00      0.00      1.00    411.44      1.00\n",
      "gamma[364]      0.20      0.40      0.00      0.00      1.00    775.47      1.00\n",
      "gamma[365]      0.28      0.45      0.00      0.00      1.00    403.37      1.01\n",
      "gamma[366]      0.56      0.50      1.00      0.00      1.00    170.52      1.01\n",
      "gamma[367]      0.46      0.50      0.00      0.00      1.00    235.50      1.00\n",
      "gamma[368]      0.21      0.41      0.00      0.00      1.00    474.22      1.00\n",
      "gamma[369]      0.38      0.49      0.00      0.00      1.00    302.18      1.03\n",
      "gamma[370]      0.19      0.40      0.00      0.00      1.00    719.11      1.00\n",
      "gamma[371]      0.19      0.39      0.00      0.00      1.00    703.54      1.00\n",
      "gamma[372]      0.37      0.48      0.00      0.00      1.00    256.74      1.02\n",
      "gamma[373]      0.19      0.39      0.00      0.00      1.00    494.71      1.00\n",
      "gamma[374]      0.19      0.39      0.00      0.00      1.00    556.88      1.00\n",
      "gamma[375]      0.23      0.42      0.00      0.00      1.00    457.99      1.00\n",
      "gamma[376]      0.23      0.42      0.00      0.00      1.00    653.73      1.00\n",
      "gamma[377]      0.21      0.41      0.00      0.00      1.00    702.13      1.01\n",
      "gamma[378]      0.20      0.40      0.00      0.00      1.00    844.41      1.00\n",
      "gamma[379]      0.50      0.50      0.00      0.00      1.00    273.97      1.00\n",
      "gamma[380]      0.22      0.41      0.00      0.00      1.00    516.11      1.01\n",
      "gamma[381]      0.21      0.40      0.00      0.00      1.00    705.18      1.00\n",
      "gamma[382]      0.22      0.41      0.00      0.00      1.00    862.32      1.00\n",
      "gamma[383]      0.22      0.41      0.00      0.00      1.00    590.03      1.00\n",
      "gamma[384]      0.96      0.19      1.00      1.00      1.00    123.14      1.02\n",
      "gamma[385]      0.22      0.41      0.00      0.00      1.00    887.25      1.01\n",
      "gamma[386]      0.19      0.39      0.00      0.00      1.00    692.74      1.01\n",
      "gamma[387]      0.19      0.40      0.00      0.00      1.00    799.72      1.00\n",
      "gamma[388]      0.17      0.38      0.00      0.00      1.00    769.12      1.00\n",
      "gamma[389]      0.43      0.49      0.00      0.00      1.00    288.91      1.01\n",
      "gamma[390]      0.91      0.29      1.00      1.00      1.00    150.75      1.01\n",
      "gamma[391]      0.20      0.40      0.00      0.00      1.00    965.28      1.00\n",
      "gamma[392]      0.31      0.46      0.00      0.00      1.00    442.44      1.01\n",
      "gamma[393]      0.22      0.41      0.00      0.00      1.00    603.04      1.00\n",
      "gamma[394]      0.21      0.41      0.00      0.00      1.00    687.48      1.00\n",
      "gamma[395]      0.29      0.45      0.00      0.00      1.00    514.68      1.00\n",
      "gamma[396]      0.20      0.40      0.00      0.00      1.00    806.94      1.01\n",
      "gamma[397]      0.29      0.45      0.00      0.00      1.00    352.89      1.01\n",
      "gamma[398]      0.21      0.40      0.00      0.00      1.00    950.87      1.00\n",
      "gamma[399]      0.31      0.46      0.00      0.00      1.00    317.47      1.01\n",
      "gamma[400]      0.28      0.45      0.00      0.00      1.00    411.18      1.01\n",
      "gamma[401]      0.18      0.38      0.00      0.00      1.00    655.19      1.00\n",
      "gamma[402]      0.41      0.49      0.00      0.00      1.00    251.61      1.01\n",
      "gamma[403]      0.37      0.48      0.00      0.00      1.00    288.45      1.00\n",
      "gamma[404]      0.25      0.43      0.00      0.00      1.00    772.07      1.00\n",
      "gamma[405]      0.21      0.40      0.00      0.00      1.00    813.52      1.00\n",
      "gamma[406]      0.21      0.40      0.00      0.00      1.00    519.57      1.00\n",
      "gamma[407]      0.84      0.36      1.00      0.00      1.00    204.51      1.01\n",
      "gamma[408]      0.19      0.39      0.00      0.00      1.00    729.86      1.01\n",
      "gamma[409]      0.28      0.45      0.00      0.00      1.00    492.73      1.00\n",
      "gamma[410]      0.26      0.44      0.00      0.00      1.00    433.15      1.00\n",
      "gamma[411]      0.19      0.39      0.00      0.00      1.00    674.60      1.00\n",
      "gamma[412]      0.15      0.36      0.00      0.00      1.00    604.50      1.00\n",
      "gamma[413]      0.37      0.48      0.00      0.00      1.00    443.45      1.01\n",
      "gamma[414]      0.22      0.42      0.00      0.00      1.00    634.10      1.00\n",
      "gamma[415]      0.21      0.41      0.00      0.00      1.00    674.38      1.00\n",
      "gamma[416]      0.20      0.40      0.00      0.00      1.00    595.80      1.01\n",
      "gamma[417]      0.15      0.36      0.00      0.00      1.00    577.49      1.00\n",
      "gamma[418]      0.22      0.41      0.00      0.00      1.00    504.36      1.01\n",
      "gamma[419]      0.23      0.42      0.00      0.00      1.00    419.15      1.01\n",
      "gamma[420]      0.25      0.43      0.00      0.00      1.00    631.65      1.00\n",
      "gamma[421]      0.19      0.39      0.00      0.00      1.00    573.31      1.01\n",
      "gamma[422]      0.20      0.40      0.00      0.00      1.00    537.68      1.01\n",
      "gamma[423]      0.18      0.39      0.00      0.00      1.00    639.42      1.00\n",
      "gamma[424]      0.65      0.48      1.00      0.00      1.00    326.66      1.01\n",
      "gamma[425]      0.23      0.42      0.00      0.00      1.00    347.22      1.00\n",
      "gamma[426]      0.93      0.25      1.00      1.00      1.00    168.33      1.02\n",
      "gamma[427]      0.19      0.39      0.00      0.00      1.00    857.08      1.01\n",
      "gamma[428]      0.20      0.40      0.00      0.00      1.00    667.09      1.00\n",
      "gamma[429]      0.33      0.47      0.00      0.00      1.00    389.50      1.00\n",
      "gamma[430]      0.35      0.48      0.00      0.00      1.00    289.70      1.01\n",
      "gamma[431]      0.17      0.37      0.00      0.00      1.00    588.72      1.01\n",
      "gamma[432]      0.53      0.50      1.00      0.00      1.00    176.76      1.02\n",
      "gamma[433]      0.19      0.40      0.00      0.00      1.00    719.38      1.00\n",
      "gamma[434]      0.23      0.42      0.00      0.00      1.00    529.40      1.00\n",
      "gamma[435]      0.28      0.45      0.00      0.00      1.00    317.13      1.00\n",
      "gamma[436]      0.49      0.50      0.00      0.00      1.00    209.11      1.01\n",
      "gamma[437]      0.46      0.50      0.00      0.00      1.00    288.71      1.01\n",
      "gamma[438]      0.18      0.38      0.00      0.00      1.00    757.17      1.00\n",
      "gamma[439]      0.52      0.50      1.00      0.00      1.00    222.76      1.02\n",
      "gamma[440]      0.27      0.45      0.00      0.00      1.00    511.76      1.00\n",
      "gamma[441]      0.22      0.41      0.00      0.00      1.00    542.04      1.01\n",
      "gamma[442]      0.17      0.38      0.00      0.00      1.00    557.20      1.00\n",
      "gamma[443]      0.20      0.40      0.00      0.00      1.00    693.90      1.01\n",
      "gamma[444]      0.22      0.41      0.00      0.00      1.00    599.31      1.00\n",
      "gamma[445]      0.24      0.42      0.00      0.00      1.00    576.03      1.01\n",
      "gamma[446]      0.21      0.41      0.00      0.00      1.00    742.04      1.00\n",
      "gamma[447]      0.25      0.43      0.00      0.00      1.00    379.54      1.01\n",
      "gamma[448]      0.73      0.44      1.00      0.00      1.00    176.22      1.00\n",
      "gamma[449]      0.30      0.46      0.00      0.00      1.00    332.71      1.01\n",
      "gamma[450]      0.19      0.39      0.00      0.00      1.00    602.22      1.00\n",
      "gamma[451]      0.31      0.46      0.00      0.00      1.00    421.59      1.00\n",
      "gamma[452]      0.24      0.43      0.00      0.00      1.00    501.92      1.00\n",
      "gamma[453]      0.18      0.38      0.00      0.00      1.00    842.37      1.00\n",
      "gamma[454]      0.18      0.38      0.00      0.00      1.00    414.50      1.01\n",
      "gamma[455]      0.17      0.38      0.00      0.00      1.00    629.47      1.00\n",
      "gamma[456]      0.19      0.39      0.00      0.00      1.00    682.60      1.00\n",
      "gamma[457]      0.75      0.43      1.00      0.00      1.00    370.36      1.00\n",
      "gamma[458]      0.26      0.44      0.00      0.00      1.00    562.25      1.01\n",
      "gamma[459]      0.19      0.39      0.00      0.00      1.00    693.83      1.01\n",
      "gamma[460]      0.76      0.43      1.00      0.00      1.00    461.59      1.01\n",
      "gamma[461]      0.16      0.37      0.00      0.00      1.00    752.63      1.01\n",
      "gamma[462]      0.20      0.40      0.00      0.00      1.00    573.86      1.00\n",
      "gamma[463]      0.72      0.45      1.00      0.00      1.00    227.45      1.02\n",
      "gamma[464]      0.14      0.35      0.00      0.00      1.00    982.66      1.00\n",
      "gamma[465]      0.18      0.39      0.00      0.00      1.00    844.80      1.00\n",
      "gamma[466]      0.22      0.42      0.00      0.00      1.00    730.92      1.00\n",
      "gamma[467]      0.69      0.46      1.00      0.00      1.00    160.94      1.04\n",
      "gamma[468]      0.17      0.38      0.00      0.00      1.00    736.09      1.01\n",
      "gamma[469]      0.55      0.50      1.00      0.00      1.00    270.03      1.01\n",
      "gamma[470]      0.20      0.40      0.00      0.00      1.00    668.81      1.01\n",
      "gamma[471]      0.33      0.47      0.00      0.00      1.00    396.99      1.01\n",
      "gamma[472]      0.21      0.40      0.00      0.00      1.00    600.95      1.00\n",
      "gamma[473]      0.34      0.47      0.00      0.00      1.00    180.57      1.03\n",
      "gamma[474]      0.80      0.40      1.00      0.00      1.00    201.33      1.00\n",
      "gamma[475]      0.16      0.37      0.00      0.00      1.00    755.03      1.01\n",
      "gamma[476]      0.27      0.45      0.00      0.00      1.00    426.35      1.00\n",
      "gamma[477]      0.68      0.47      1.00      0.00      1.00    156.74      1.01\n",
      "gamma[478]      0.16      0.36      0.00      0.00      1.00    852.62      1.00\n",
      "gamma[479]      0.25      0.43      0.00      0.00      1.00    479.38      1.00\n",
      "gamma[480]      0.69      0.46      1.00      0.00      1.00    153.83      1.03\n",
      "gamma[481]      0.22      0.41      0.00      0.00      1.00    573.72      1.00\n",
      "gamma[482]      0.33      0.47      0.00      0.00      1.00    463.44      1.00\n",
      "gamma[483]      0.21      0.41      0.00      0.00      1.00    596.42      1.00\n",
      "gamma[484]      0.23      0.42      0.00      0.00      1.00    677.24      1.00\n",
      "gamma[485]      0.64      0.48      1.00      0.00      1.00    511.06      1.02\n",
      "gamma[486]      0.25      0.43      0.00      0.00      1.00    498.38      1.01\n",
      "gamma[487]      0.27      0.45      0.00      0.00      1.00    399.60      1.01\n",
      "gamma[488]      0.18      0.39      0.00      0.00      1.00    725.98      1.01\n",
      "gamma[489]      0.23      0.42      0.00      0.00      1.00    485.46      1.01\n",
      "gamma[490]      0.40      0.49      0.00      0.00      1.00    249.91      1.01\n",
      "gamma[491]      0.35      0.48      0.00      0.00      1.00    322.35      1.00\n",
      "gamma[492]      0.19      0.39      0.00      0.00      1.00    805.00      1.01\n",
      "gamma[493]      0.26      0.44      0.00      0.00      1.00    390.55      1.01\n",
      "gamma[494]      0.20      0.40      0.00      0.00      1.00    807.24      1.00\n",
      "gamma[495]      0.34      0.47      0.00      0.00      1.00    289.03      1.01\n",
      "gamma[496]      0.20      0.40      0.00      0.00      1.00    817.61      1.00\n",
      "gamma[497]      0.20      0.40      0.00      0.00      1.00    520.13      1.01\n",
      "gamma[498]      0.61      0.49      1.00      0.00      1.00    238.02      1.01\n",
      "gamma[499]      0.21      0.40      0.00      0.00      1.00    615.77      1.00\n",
      "gamma[500]      0.23      0.42      0.00      0.00      1.00    485.08      1.00\n",
      "gamma[501]      0.39      0.49      0.00      0.00      1.00    549.53      1.01\n",
      "gamma[502]      0.43      0.49      0.00      0.00      1.00    190.69      1.03\n",
      "gamma[503]      0.27      0.44      0.00      0.00      1.00    675.73      1.00\n",
      "gamma[504]      0.23      0.42      0.00      0.00      1.00    516.04      1.01\n",
      "gamma[505]      0.18      0.38      0.00      0.00      1.00    639.52      1.01\n",
      "gamma[506]      0.21      0.41      0.00      0.00      1.00    713.78      1.00\n",
      "gamma[507]      0.23      0.42      0.00      0.00      1.00    481.67      1.00\n",
      "gamma[508]      0.21      0.41      0.00      0.00      1.00    567.28      1.00\n",
      "gamma[509]      0.30      0.46      0.00      0.00      1.00    420.70      1.01\n",
      "gamma[510]      0.14      0.35      0.00      0.00      1.00    636.49      1.02\n",
      "gamma[511]      0.20      0.40      0.00      0.00      1.00    625.14      1.00\n",
      "gamma[512]      0.22      0.42      0.00      0.00      1.00    948.46      1.00\n",
      "gamma[513]      0.20      0.40      0.00      0.00      1.00    628.06      1.00\n",
      "gamma[514]      0.25      0.43      0.00      0.00      1.00    458.77      1.01\n",
      "gamma[515]      0.18      0.38      0.00      0.00      1.00    669.61      1.01\n",
      "gamma[516]      0.64      0.48      1.00      0.00      1.00    528.57      1.00\n",
      "gamma[517]      0.21      0.41      0.00      0.00      1.00    556.90      1.01\n",
      "gamma[518]      0.69      0.46      1.00      0.00      1.00    205.02      1.02\n",
      "gamma[519]      0.19      0.39      0.00      0.00      1.00    523.34      1.00\n",
      "gamma[520]      0.15      0.36      0.00      0.00      1.00    730.78      1.01\n",
      "gamma[521]      0.19      0.39      0.00      0.00      1.00    668.57      1.01\n",
      "gamma[522]      0.23      0.42      0.00      0.00      1.00    568.36      1.01\n",
      "gamma[523]      0.22      0.41      0.00      0.00      1.00    534.65      1.00\n",
      "gamma[524]      0.19      0.39      0.00      0.00      1.00    757.23      1.00\n",
      "gamma[525]      0.39      0.49      0.00      0.00      1.00    264.43      1.00\n",
      "gamma[526]      0.17      0.38      0.00      0.00      1.00    582.42      1.00\n",
      "gamma[527]      0.29      0.45      0.00      0.00      1.00    338.59      1.00\n",
      "gamma[528]      0.25      0.43      0.00      0.00      1.00    221.12      1.00\n",
      "gamma[529]      0.18      0.39      0.00      0.00      1.00    604.87      1.01\n",
      "gamma[530]      0.20      0.40      0.00      0.00      1.00    832.79      1.00\n",
      "gamma[531]      0.30      0.46      0.00      0.00      1.00    310.59      1.01\n",
      "gamma[532]      0.22      0.41      0.00      0.00      1.00    499.12      1.00\n",
      "gamma[533]      0.22      0.41      0.00      0.00      1.00    819.81      1.00\n",
      "gamma[534]      0.61      0.49      1.00      0.00      1.00    479.79      1.00\n",
      "gamma[535]      0.85      0.36      1.00      0.00      1.00    109.76      1.02\n",
      "gamma[536]      0.20      0.40      0.00      0.00      1.00    778.50      1.00\n",
      "gamma[537]      0.20      0.40      0.00      0.00      1.00    610.04      1.01\n",
      "gamma[538]      0.18      0.39      0.00      0.00      1.00    804.63      1.00\n",
      "gamma[539]      0.26      0.44      0.00      0.00      1.00    359.23      1.01\n",
      "gamma[540]      0.42      0.49      0.00      0.00      1.00    315.93      1.01\n",
      "gamma[541]      0.18      0.38      0.00      0.00      1.00    532.74      1.01\n",
      "gamma[542]      0.31      0.46      0.00      0.00      1.00    330.92      1.01\n",
      "gamma[543]      0.20      0.40      0.00      0.00      1.00    928.17      1.00\n",
      "gamma[544]      0.24      0.42      0.00      0.00      1.00    606.22      1.00\n",
      "gamma[545]      0.18      0.38      0.00      0.00      1.00    728.36      1.00\n",
      "gamma[546]      0.33      0.47      0.00      0.00      1.00    422.61      1.01\n",
      "gamma[547]      0.15      0.36      0.00      0.00      1.00    702.55      1.00\n",
      "gamma[548]      0.19      0.39      0.00      0.00      1.00    561.13      1.01\n",
      "gamma[549]      0.26      0.44      0.00      0.00      1.00    476.24      1.01\n",
      "gamma[550]      0.20      0.40      0.00      0.00      1.00    557.97      1.00\n",
      "gamma[551]      0.21      0.41      0.00      0.00      1.00    603.66      1.00\n",
      "gamma[552]      0.18      0.38      0.00      0.00      1.00    559.98      1.01\n",
      "gamma[553]      0.18      0.38      0.00      0.00      1.00    857.78      1.00\n",
      "gamma[554]      0.18      0.38      0.00      0.00      1.00    847.21      1.01\n",
      "gamma[555]      0.30      0.46      0.00      0.00      1.00    529.88      1.00\n",
      "gamma[556]      0.28      0.45      0.00      0.00      1.00    269.46      1.01\n",
      "gamma[557]      0.26      0.44      0.00      0.00      1.00    553.48      1.01\n",
      "gamma[558]      0.20      0.40      0.00      0.00      1.00    521.12      1.00\n",
      "gamma[559]      0.24      0.43      0.00      0.00      1.00    630.92      1.01\n",
      "gamma[560]      0.29      0.45      0.00      0.00      1.00    407.56      1.01\n",
      "gamma[561]      0.26      0.44      0.00      0.00      1.00    343.28      1.00\n",
      "gamma[562]      0.24      0.43      0.00      0.00      1.00    533.99      1.00\n",
      "gamma[563]      0.25      0.44      0.00      0.00      1.00    556.62      1.00\n",
      "gamma[564]      0.57      0.50      1.00      0.00      1.00    292.02      1.01\n",
      "gamma[565]      0.28      0.45      0.00      0.00      1.00    404.86      1.02\n",
      "gamma[566]      0.20      0.40      0.00      0.00      1.00    541.31      1.01\n",
      "gamma[567]      0.22      0.42      0.00      0.00      1.00    359.91      1.01\n",
      "gamma[568]      0.20      0.40      0.00      0.00      1.00    617.39      1.01\n",
      "gamma[569]      0.32      0.47      0.00      0.00      1.00    450.67      1.01\n",
      "gamma[570]      0.24      0.43      0.00      0.00      1.00    566.64      1.01\n",
      "gamma[571]      0.19      0.39      0.00      0.00      1.00    637.09      1.01\n",
      "gamma[572]      0.18      0.39      0.00      0.00      1.00    861.92      1.00\n",
      "gamma[573]      0.47      0.50      0.00      0.00      1.00    326.21      1.01\n",
      "gamma[574]      0.40      0.49      0.00      0.00      1.00    276.18      1.00\n",
      "gamma[575]      0.44      0.50      0.00      0.00      1.00    330.68      1.01\n",
      "gamma[576]      0.27      0.45      0.00      0.00      1.00    385.75      1.01\n",
      "gamma[577]      0.20      0.40      0.00      0.00      1.00    612.66      1.00\n",
      "gamma[578]      0.20      0.40      0.00      0.00      1.00    736.78      1.00\n",
      "gamma[579]      0.23      0.42      0.00      0.00      1.00    437.77      1.00\n",
      "gamma[580]      0.19      0.39      0.00      0.00      1.00    681.19      1.00\n",
      "gamma[581]      0.67      0.47      1.00      0.00      1.00    421.98      1.02\n",
      "gamma[582]      0.40      0.49      0.00      0.00      1.00    342.37      1.02\n",
      "gamma[583]      0.18      0.39      0.00      0.00      1.00    589.26      1.00\n",
      "gamma[584]      0.26      0.44      0.00      0.00      1.00    389.97      1.01\n",
      "gamma[585]      0.62      0.48      1.00      0.00      1.00    803.28      1.00\n",
      "gamma[586]      0.43      0.50      0.00      0.00      1.00    289.32      1.01\n",
      "gamma[587]      0.24      0.43      0.00      0.00      1.00    427.96      1.00\n",
      "gamma[588]      0.20      0.40      0.00      0.00      1.00    930.97      1.00\n",
      "gamma[589]      0.17      0.37      0.00      0.00      1.00    801.02      1.00\n",
      "gamma[590]      0.80      0.40      1.00      0.00      1.00    419.45      1.01\n",
      "gamma[591]      0.48      0.50      0.00      0.00      1.00    236.22      1.01\n",
      "gamma[592]      0.25      0.43      0.00      0.00      1.00    476.60      1.00\n",
      "gamma[593]      0.47      0.50      0.00      0.00      1.00    261.63      1.01\n",
      "gamma[594]      0.19      0.39      0.00      0.00      1.00    832.60      1.00\n",
      "gamma[595]      0.18      0.38      0.00      0.00      1.00    490.48      1.01\n",
      "gamma[596]      0.29      0.45      0.00      0.00      1.00    451.76      1.00\n",
      "gamma[597]      0.37      0.48      0.00      0.00      1.00    296.41      1.01\n",
      "gamma[598]      0.17      0.38      0.00      0.00      1.00    585.32      1.01\n",
      "gamma[599]      0.48      0.50      0.00      0.00      1.00    215.52      1.02\n",
      "gamma[600]      0.21      0.41      0.00      0.00      1.00    822.76      1.00\n",
      "gamma[601]      0.20      0.40      0.00      0.00      1.00    570.45      1.00\n",
      "gamma[602]      0.20      0.40      0.00      0.00      1.00    705.74      1.00\n",
      "gamma[603]      0.84      0.37      1.00      0.00      1.00    170.55      1.01\n",
      "gamma[604]      0.22      0.41      0.00      0.00      1.00    622.04      1.00\n",
      "gamma[605]      0.20      0.40      0.00      0.00      1.00    583.89      1.00\n",
      "gamma[606]      0.37      0.48      0.00      0.00      1.00    301.13      1.00\n",
      "gamma[607]      0.30      0.46      0.00      0.00      1.00    486.35      1.01\n",
      "gamma[608]      0.27      0.45      0.00      0.00      1.00    358.80      1.02\n",
      "gamma[609]      0.20      0.40      0.00      0.00      1.00    803.07      1.00\n",
      "gamma[610]      0.27      0.45      0.00      0.00      1.00    376.40      1.01\n",
      "gamma[611]      0.31      0.46      0.00      0.00      1.00    443.81      1.00\n",
      "gamma[612]      0.26      0.44      0.00      0.00      1.00    437.34      1.00\n",
      "gamma[613]      0.30      0.46      0.00      0.00      1.00    415.31      1.02\n",
      "gamma[614]      0.35      0.48      0.00      0.00      1.00    177.51      1.02\n",
      "gamma[615]      0.19      0.39      0.00      0.00      1.00    630.20      1.00\n",
      "gamma[616]      0.86      0.34      1.00      0.00      1.00    120.03      1.02\n",
      "gamma[617]      0.18      0.39      0.00      0.00      1.00    732.36      1.01\n",
      "gamma[618]      0.52      0.50      1.00      0.00      1.00    132.36      1.04\n",
      "gamma[619]      0.77      0.42      1.00      0.00      1.00    395.37      1.01\n",
      "gamma[620]      0.17      0.38      0.00      0.00      1.00    694.28      1.00\n",
      "gamma[621]      0.37      0.48      0.00      0.00      1.00    353.96      1.01\n",
      "gamma[622]      0.87      0.34      1.00      0.00      1.00    333.54      1.01\n",
      "gamma[623]      0.17      0.38      0.00      0.00      1.00    765.64      1.00\n",
      "gamma[624]      0.21      0.41      0.00      0.00      1.00    524.70      1.00\n",
      "gamma[625]      0.38      0.48      0.00      0.00      1.00    260.71      1.01\n",
      "gamma[626]      0.18      0.38      0.00      0.00      1.00    772.01      1.00\n",
      "gamma[627]      0.21      0.41      0.00      0.00      1.00    467.81      1.00\n",
      "gamma[628]      0.39      0.49      0.00      0.00      1.00    369.29      1.01\n",
      "gamma[629]      0.31      0.46      0.00      0.00      1.00    348.56      1.01\n",
      "gamma[630]      0.23      0.42      0.00      0.00      1.00    601.28      1.00\n",
      "gamma[631]      0.21      0.41      0.00      0.00      1.00    631.51      1.01\n",
      "gamma[632]      0.15      0.36      0.00      0.00      1.00    921.27      1.00\n",
      "      z[0]     -0.00      0.95     -0.00     -1.48      1.63    552.01      1.00\n",
      "      z[1]     -0.25      0.92     -0.32     -1.70      1.28    884.34      1.00\n",
      "      z[2]     -0.04      0.94     -0.05     -1.59      1.51   5272.24      1.00\n",
      "      z[3]     -0.19      0.99     -0.27     -1.69      1.54    533.01      1.00\n",
      "      z[4]      0.03      0.98      0.00     -1.58      1.70    224.91      1.02\n",
      "      z[5]     -0.09      0.99     -0.12     -1.56      1.68    319.34      1.01\n",
      "      z[6]     -0.14      0.95     -0.19     -1.76      1.33    152.63      1.02\n",
      "      z[7]      0.52      1.20      0.53     -1.47      1.95     54.96      1.06\n",
      "      z[8]     -0.01      0.88     -0.03     -1.54      1.35    224.28      1.01\n",
      "      z[9]     -0.01      0.90     -0.01     -1.47      1.45    576.69      1.00\n",
      "     z[10]     -0.10      0.96     -0.16     -1.66      1.45    332.50      1.01\n",
      "     z[11]     -0.04      0.92     -0.05     -1.57      1.38    109.52      1.01\n",
      "     z[12]     -0.02      0.93     -0.03     -1.52      1.49    401.25      1.01\n",
      "     z[13]      0.02      0.87      0.03     -1.42      1.47    988.60      1.00\n",
      "     z[14]     -0.18      1.03     -0.28     -1.91      1.49    157.13      1.01\n",
      "     z[15]      0.08      0.94      0.18     -1.41      1.74    304.78      1.01\n",
      "     z[16]      0.07      0.97      0.15     -1.76      1.50    153.61      1.00\n",
      "     z[17]     -0.15      0.92     -0.20     -1.63      1.39    647.14      1.00\n",
      "     z[18]      0.02      0.95      0.05     -1.70      1.50   1992.16      1.00\n",
      "     z[19]     -0.29      0.91     -0.34     -1.90      1.06    661.18      1.00\n",
      "     z[20]     -0.11      0.93     -0.13     -1.62      1.46    965.76      1.00\n",
      "     z[21]     -0.02      0.92     -0.05     -1.56      1.50    381.57      1.01\n",
      "     z[22]      0.11      0.98      0.22     -1.60      1.57    232.65      1.02\n",
      "     z[23]     -0.22      0.98     -0.27     -1.67      1.50    452.85      1.02\n",
      "     z[24]      0.27      0.99      0.29     -1.48      1.85    348.58      1.02\n",
      "     z[25]     -0.13      0.96     -0.13     -1.78      1.37    551.52      1.00\n",
      "     z[26]      0.04      0.99      0.08     -1.58      1.62    247.63      1.01\n",
      "     z[27]     -0.08      0.93     -0.12     -1.49      1.58    315.85      1.00\n",
      "     z[28]      0.52      0.83      0.59     -0.80      1.93    734.00      1.00\n",
      "     z[29]      0.47      1.08      0.53     -1.25      2.22    445.88      1.00\n",
      "     z[30]     -0.06      0.94      0.02     -1.76      1.38    105.99      1.03\n",
      "     z[31]     -0.01      0.96     -0.07     -1.68      1.50    360.40      1.01\n",
      "     z[32]     -0.05      0.94     -0.07     -1.54      1.54    994.97      1.00\n",
      "     z[33]      0.02      0.94      0.04     -1.50      1.58    379.77      1.01\n",
      "     z[34]     -0.09      0.95     -0.15     -1.66      1.43   1054.04      1.00\n",
      "     z[35]     -0.03      0.89     -0.08     -1.36      1.48    258.37      1.01\n",
      "     z[36]      0.02      0.92      0.03     -1.58      1.46   3815.23      1.00\n",
      "     z[37]      0.07      0.94      0.04     -1.40      1.64    108.43      1.03\n",
      "     z[38]      0.07      0.97      0.06     -1.66      1.52    238.25      1.01\n",
      "     z[39]      0.01      0.94      0.04     -1.54      1.54    440.95      1.01\n",
      "     z[40]      0.05      0.96      0.11     -1.53      1.62    270.04      1.02\n",
      "     z[41]     -0.11      0.97     -0.18     -1.67      1.50    449.77      1.01\n",
      "     z[42]      0.02      0.95      0.09     -1.65      1.37    115.37      1.02\n",
      "     z[43]      0.32      0.95      0.41     -1.19      1.90    292.62      1.01\n",
      "     z[44]     -0.04      0.92     -0.04     -1.41      1.57    234.37      1.00\n",
      "     z[45]     -0.17      0.94     -0.22     -1.74      1.40    416.47      1.01\n",
      "     z[46]      0.01      0.98      0.01     -1.66      1.54    229.00      1.00\n",
      "     z[47]     -1.15      0.90     -1.31     -2.65      0.17    264.83      1.00\n",
      "     z[48]     -0.04      1.05     -0.05     -1.94      1.51    134.27      1.03\n",
      "     z[49]      0.41      1.03      0.50     -1.28      2.05    354.92      1.01\n",
      "     z[50]      0.18      0.96      0.28     -1.24      1.88    215.37      1.01\n",
      "     z[51]     -0.02      0.95     -0.03     -1.59      1.56   1578.65      1.00\n",
      "     z[52]     -0.48      1.09     -0.69     -2.11      1.37    254.78      1.02\n",
      "     z[53]      0.81      0.95      0.95     -0.78      2.29    237.50      1.02\n",
      "     z[54]      0.04      0.95      0.07     -1.48      1.63    537.95      1.00\n",
      "     z[55]      0.19      0.94      0.24     -1.32      1.77    789.73      1.00\n",
      "     z[56]     -0.12      1.04     -0.13     -1.66      1.54    236.48      1.01\n",
      "     z[57]      0.38      0.91      0.42     -1.12      1.78    368.04      1.01\n",
      "     z[58]      0.05      0.93      0.07     -1.50      1.55    222.72      1.02\n",
      "     z[59]     -0.08      0.93     -0.09     -1.67      1.40    474.43      1.00\n",
      "     z[60]      0.33      0.88      0.42     -1.11      1.72    435.72      1.00\n",
      "     z[61]     -0.03      0.94     -0.05     -1.51      1.60    971.87      1.00\n",
      "     z[62]      0.10      0.94      0.13     -1.52      1.60    241.01      1.01\n",
      "     z[63]     -0.23      0.95     -0.31     -1.77      1.33    380.93      1.01\n",
      "     z[64]     -0.11      0.97     -0.12     -1.70      1.54    937.02      1.00\n",
      "     z[65]     -0.10      1.00     -0.10     -1.76      1.47    129.48      1.04\n",
      "     z[66]      0.07      0.94      0.06     -1.53      1.59    309.32      1.00\n",
      "     z[67]     -0.09      0.95     -0.14     -1.56      1.56    358.49      1.02\n",
      "     z[68]     -0.20      0.96     -0.23     -1.67      1.45    991.99      1.00\n",
      "     z[69]     -0.07      0.96     -0.11     -1.56      1.56    646.14      1.01\n",
      "     z[70]      0.20      0.93      0.22     -1.36      1.67    209.17      1.02\n",
      "     z[71]      0.02      0.98      0.05     -1.38      1.82    109.32      1.01\n",
      "     z[72]      0.24      0.99      0.27     -1.32      1.92    225.57      1.00\n",
      "     z[73]      0.06      0.99      0.12     -1.52      1.64    112.41      1.06\n",
      "     z[74]     -0.35      0.99     -0.42     -1.95      1.27    795.67      1.01\n",
      "     z[75]     -0.04      0.95     -0.04     -1.47      1.51    204.82      1.05\n",
      "     z[76]     -0.04      0.94     -0.01     -1.53      1.55    426.21      1.01\n",
      "     z[77]      0.16      0.90      0.16     -1.19      1.81    208.00      1.00\n",
      "     z[78]     -0.58      1.00     -0.63     -2.31      1.02    238.49      1.00\n",
      "     z[79]     -0.88      1.14     -1.00     -2.64      1.12    459.62      1.01\n",
      "     z[80]      0.00      0.91      0.01     -1.35      1.67    586.46      1.00\n",
      "     z[81]     -0.22      0.95     -0.23     -1.72      1.30    388.96      1.01\n",
      "     z[82]      0.10      0.99      0.08     -1.52      1.78    642.72      1.01\n",
      "     z[83]     -0.19      0.97     -0.25     -1.65      1.45   1378.57      1.00\n",
      "     z[84]     -0.05      0.98     -0.11     -1.65      1.62    168.59      1.00\n",
      "     z[85]     -0.08      0.96     -0.10     -1.67      1.41    713.50      1.00\n",
      "     z[86]      0.08      0.94      0.04     -1.51      1.65    151.36      1.05\n",
      "     z[87]      1.36      0.80      1.40      0.24      2.65    489.93      1.00\n",
      "     z[88]     -0.15      0.94     -0.15     -1.66      1.40    244.94      1.01\n",
      "     z[89]      0.25      1.06      0.29     -1.57      1.89    427.86      1.00\n",
      "     z[90]     -0.05      0.94     -0.05     -1.53      1.55   1153.17      1.01\n",
      "     z[91]      0.06      0.78      0.08     -1.28      1.28    120.16      1.01\n",
      "     z[92]      0.46      1.02      0.59     -1.19      2.13    326.58      1.00\n",
      "     z[93]     -0.04      0.95      0.04     -1.63      1.46    163.80      1.02\n",
      "     z[94]      0.04      0.91      0.06     -1.42      1.48    262.79      1.02\n",
      "     z[95]      0.21      0.81      0.24     -1.10      1.52   1448.63      1.00\n",
      "     z[96]     -0.06      0.95     -0.06     -1.60      1.50    500.36      1.01\n",
      "     z[97]      0.02      0.97      0.01     -1.47      1.70    273.61      1.01\n",
      "     z[98]     -0.09      0.95     -0.09     -1.63      1.42    318.68      1.01\n",
      "     z[99]     -0.17      0.97     -0.19     -1.84      1.38    558.39      1.01\n",
      "    z[100]      0.08      0.92      0.10     -1.46      1.54    599.33      1.00\n",
      "    z[101]     -0.16      0.95     -0.18     -1.68      1.37    305.87      1.00\n",
      "    z[102]     -0.02      0.93     -0.00     -1.54      1.45    140.72      1.04\n",
      "    z[103]      0.08      0.90      0.08     -1.38      1.58    404.82      1.00\n",
      "    z[104]      0.00      0.93      0.01     -1.49      1.60    968.39      1.00\n",
      "    z[105]      0.13      0.91      0.17     -1.41      1.56   1218.85      1.01\n",
      "    z[106]      0.06      1.00      0.11     -1.61      1.69    951.03      1.00\n",
      "    z[107]     -0.02      0.96     -0.03     -1.56      1.52    649.89      1.00\n",
      "    z[108]     -0.17      0.95     -0.24     -1.65      1.40   1088.84      1.00\n",
      "    z[109]     -0.35      0.93     -0.38     -1.80      1.15    276.30      1.03\n",
      "    z[110]      0.01      0.76      0.04     -1.19      1.25    722.21      1.00\n",
      "    z[111]     -0.01      0.94      0.02     -1.60      1.51   1869.86      1.00\n",
      "    z[112]      0.08      0.93      0.11     -1.42      1.62    807.77      1.00\n",
      "    z[113]      0.39      1.04      0.53     -1.44      1.90    344.72      1.00\n",
      "    z[114]     -0.04      0.94     -0.05     -1.58      1.50    531.45      1.00\n",
      "    z[115]      0.04      1.02      0.05     -1.57      1.77    354.73      1.01\n",
      "    z[116]      0.07      0.94      0.14     -1.55      1.53    381.31      1.00\n",
      "    z[117]      0.09      0.92      0.08     -1.35      1.62    258.80      1.01\n",
      "    z[118]     -0.01      1.02      0.03     -1.84      1.49    133.75      1.01\n",
      "    z[119]     -0.01      1.01     -0.06     -1.76      1.57    186.00      1.00\n",
      "    z[120]     -0.07      0.95     -0.06     -1.59      1.54    460.77      1.01\n",
      "    z[121]      0.07      0.99      0.10     -1.48      1.79    804.83      1.01\n",
      "    z[122]     -0.06      0.92     -0.10     -1.50      1.49    299.63      1.01\n",
      "    z[123]      0.07      0.97      0.11     -1.57      1.63    468.65      1.01\n",
      "    z[124]      0.03      0.93      0.02     -1.37      1.64   2933.70      1.00\n",
      "    z[125]      0.31      0.97      0.44     -1.25      1.88    390.39      1.01\n",
      "    z[126]     -0.05      0.94     -0.08     -1.62      1.50   2212.45      1.00\n",
      "    z[127]     -0.20      0.91     -0.25     -1.72      1.31    874.45      1.00\n",
      "    z[128]     -0.18      0.97     -0.22     -1.77      1.40    578.65      1.00\n",
      "    z[129]      0.06      0.97      0.07     -1.44      1.78    278.63      1.00\n",
      "    z[130]      0.04      0.91      0.05     -1.53      1.49    960.22      1.00\n",
      "    z[131]      0.13      0.90      0.15     -1.32      1.57    311.05      1.02\n",
      "    z[132]      0.06      1.03     -0.04     -1.55      1.78    152.13      1.02\n",
      "    z[133]      0.50      0.59      0.49     -0.42      1.50    648.56      1.01\n",
      "    z[134]     -0.00      0.91      0.01     -1.53      1.42    334.31      1.00\n",
      "    z[135]      0.39      1.06      0.54     -1.40      2.05    218.27      1.01\n",
      "    z[136]      0.12      0.93      0.19     -1.52      1.50    286.30      1.00\n",
      "    z[137]     -0.07      0.97     -0.09     -1.70      1.53   1030.80      1.00\n",
      "    z[138]      0.45      0.97      0.55     -1.20      1.95    368.24      1.01\n",
      "    z[139]     -0.08      0.94     -0.10     -1.59      1.50    338.45      1.01\n",
      "    z[140]      0.05      0.95      0.08     -1.49      1.62   1587.85      1.00\n",
      "    z[141]      0.21      1.02      0.10     -1.50      1.91     75.11      1.07\n",
      "    z[142]     -0.01      0.89      0.02     -1.46      1.37    159.83      1.03\n",
      "    z[143]     -0.02      0.93     -0.03     -1.62      1.40   3700.50      1.00\n",
      "    z[144]      0.29      0.93      0.39     -1.10      1.93    231.48      1.01\n",
      "    z[145]      0.03      0.92      0.04     -1.46      1.59    908.51      1.00\n",
      "    z[146]      0.08      0.92      0.13     -1.36      1.61    305.17      1.01\n",
      "    z[147]      0.07      0.91      0.08     -1.43      1.58   1090.42      1.00\n",
      "    z[148]      0.11      0.96      0.18     -1.44      1.64    363.10      1.01\n",
      "    z[149]      0.03      0.95      0.09     -1.53      1.57    488.40      1.00\n",
      "    z[150]      0.19      0.98      0.23     -1.45      1.75   1309.35      1.00\n",
      "    z[151]     -0.27      1.02     -0.37     -1.86      1.49    163.34      1.00\n",
      "    z[152]      0.04      0.98      0.01     -1.53      1.66    119.33      1.02\n",
      "    z[153]      0.00      0.92     -0.00     -1.42      1.60    148.61      1.04\n",
      "    z[154]     -0.05      0.97     -0.08     -1.51      1.68    921.14      1.00\n",
      "    z[155]      0.04      0.97      0.00     -1.41      1.86    357.71      1.00\n",
      "    z[156]      0.07      0.91      0.07     -1.37      1.60    272.27      1.02\n",
      "    z[157]      0.16      0.93      0.21     -1.46      1.60    865.80      1.00\n",
      "    z[158]      0.05      1.00      0.01     -1.47      1.68    173.27      1.04\n",
      "    z[159]     -0.02      0.95     -0.01     -1.47      1.66   2289.87      1.00\n",
      "    z[160]     -0.20      0.95     -0.25     -1.70      1.40    231.10      1.01\n",
      "    z[161]      0.27      0.93      0.29     -1.22      1.86    273.19      1.02\n",
      "    z[162]     -0.93      0.93     -1.07     -2.31      0.72    203.78      1.02\n",
      "    z[163]      0.38      0.98      0.44     -1.22      1.93    452.24      1.01\n",
      "    z[164]     -0.06      0.98     -0.06     -1.60      1.64    398.42      1.00\n",
      "    z[165]      0.07      0.90      0.10     -1.37      1.56    303.53      1.01\n",
      "    z[166]     -0.27      1.02     -0.26     -1.84      1.41    136.50      1.01\n",
      "    z[167]     -0.05      0.96     -0.04     -1.74      1.52    125.73      1.02\n",
      "    z[168]     -0.15      0.95     -0.25     -1.76      1.20    255.12      1.00\n",
      "    z[169]     -0.27      0.92     -0.32     -1.74      1.17    259.93      1.00\n",
      "    z[170]     -0.03      0.94     -0.09     -1.53      1.52    398.63      1.01\n",
      "    z[171]     -0.02      0.94     -0.03     -1.47      1.67   2177.19      1.00\n",
      "    z[172]      0.08      0.96      0.14     -1.50      1.58    436.16      1.01\n",
      "    z[173]      0.06      0.97      0.05     -1.52      1.64    784.93      1.01\n",
      "    z[174]      0.18      0.94      0.23     -1.44      1.66   2019.21      1.00\n",
      "    z[175]      0.22      0.88      0.25     -1.23      1.62    231.51      1.00\n",
      "    z[176]     -0.18      1.01     -0.16     -2.19      1.24    131.15      1.01\n",
      "    z[177]     -0.12      0.96     -0.09     -1.63      1.63     89.76      1.02\n",
      "    z[178]     -0.18      0.91     -0.20     -1.76      1.21    405.63      1.02\n",
      "    z[179]      0.11      0.95      0.11     -1.47      1.64   1840.63      1.00\n",
      "    z[180]     -0.14      0.92     -0.13     -1.58      1.48    331.79      1.01\n",
      "    z[181]     -0.05      0.94     -0.07     -1.52      1.52    510.97      1.01\n",
      "    z[182]     -0.13      0.99     -0.17     -1.66      1.58    991.47      1.00\n",
      "    z[183]      0.27      0.94      0.33     -1.28      1.76    368.36      1.00\n",
      "    z[184]     -0.01      0.96     -0.01     -1.75      1.44   1010.16      1.01\n",
      "    z[185]      0.30      0.96      0.41     -1.28      1.87    700.19      1.00\n",
      "    z[186]      0.10      0.92      0.13     -1.59      1.48    239.63      1.00\n",
      "    z[187]     -0.01      0.95     -0.01     -1.58      1.58   1113.86      1.00\n",
      "    z[188]     -0.26      0.98     -0.33     -1.76      1.51    176.85      1.00\n",
      "    z[189]     -0.45      1.00     -0.54     -2.18      1.07    253.28      1.01\n",
      "    z[190]      0.25      1.05      0.30     -1.45      1.96    557.40      1.00\n",
      "    z[191]     -0.09      0.95     -0.10     -1.58      1.53    533.69      1.01\n",
      "    z[192]     -0.03      0.96     -0.00     -1.62      1.50    802.12      1.00\n",
      "    z[193]      0.06      0.94      0.08     -1.52      1.56   1262.35      1.00\n",
      "    z[194]      0.05      0.97      0.05     -1.61      1.58    641.95      1.00\n",
      "    z[195]     -0.01      0.91     -0.00     -1.41      1.56    698.57      1.01\n",
      "    z[196]     -0.06      0.98     -0.07     -1.79      1.44    459.61      1.00\n",
      "    z[197]      0.12      0.95      0.14     -1.43      1.73    419.34      1.00\n",
      "    z[198]      0.33      0.94      0.36     -1.23      1.87    377.39      1.01\n",
      "    z[199]      0.11      0.94      0.12     -1.50      1.60    647.78      1.00\n",
      "    z[200]      0.16      1.02      0.20     -1.42      1.76    115.96      1.01\n",
      "    z[201]     -0.30      1.00     -0.37     -1.77      1.46    308.78      1.01\n",
      "    z[202]     -0.36      0.92     -0.42     -1.89      1.08    508.01      1.01\n",
      "    z[203]      0.02      0.94      0.06     -1.50      1.62   2597.94      1.00\n",
      "    z[204]     -0.08      0.96     -0.02     -1.65      1.41    159.39      1.04\n",
      "    z[205]     -0.04      1.01     -0.09     -1.67      1.65    252.40      1.01\n",
      "    z[206]     -0.02      0.95     -0.02     -1.56      1.57    676.68      1.01\n",
      "    z[207]      0.80      0.95      0.95     -0.84      2.27    288.99      1.02\n",
      "    z[208]      0.24      0.96      0.26     -1.32      1.73    126.00      1.02\n",
      "    z[209]     -0.04      0.91     -0.06     -1.59      1.39    271.05      1.00\n",
      "    z[210]     -0.31      1.01     -0.33     -1.97      1.29    468.14      1.01\n",
      "    z[211]      0.03      0.95      0.02     -1.56      1.54    752.28      1.00\n",
      "    z[212]     -0.03      0.87     -0.04     -1.48      1.31    516.32      1.00\n",
      "    z[213]      0.06      0.92      0.07     -1.52      1.49    813.75      1.00\n",
      "    z[214]     -0.21      1.01     -0.27     -1.89      1.41   1645.04      1.00\n",
      "    z[215]      0.07      0.96      0.13     -1.79      1.40    141.96      1.01\n",
      "    z[216]     -0.12      1.00     -0.18     -1.86      1.46    232.20      1.01\n",
      "    z[217]      0.07      0.99      0.09     -1.70      1.59    451.49      1.00\n",
      "    z[218]     -1.25      0.90     -1.38     -2.78      0.09    424.24      1.01\n",
      "    z[219]     -0.06      0.97     -0.09     -1.62      1.56   1413.90      1.00\n",
      "    z[220]     -0.06      0.98     -0.09     -1.62      1.52    133.17      1.01\n",
      "    z[221]     -0.03      0.99      0.03     -1.53      1.61    302.15      1.02\n",
      "    z[222]     -0.07      1.02     -0.04     -1.73      1.60    254.41      1.00\n",
      "    z[223]     -0.64      1.04     -0.73     -2.13      1.25    613.28      1.01\n",
      "    z[224]     -0.71      1.08     -0.87     -2.43      1.05    275.80      1.01\n",
      "    z[225]     -0.07      0.92     -0.06     -1.49      1.52    234.74      1.00\n",
      "    z[226]      0.06      0.92      0.08     -1.52      1.51    452.51      1.00\n",
      "    z[227]     -0.07      0.93     -0.10     -1.32      1.74    259.77      1.01\n",
      "    z[228]      0.50      0.99      0.61     -1.10      2.12    298.89      1.01\n",
      "    z[229]     -0.04      0.99     -0.03     -1.65      1.70    224.11      1.01\n",
      "    z[230]     -0.08      0.95     -0.08     -1.58      1.50    218.12      1.01\n",
      "    z[231]      0.05      0.96      0.07     -1.48      1.65    219.70      1.01\n",
      "    z[232]      0.16      0.97      0.18     -1.47      1.70   1126.07      1.01\n",
      "    z[233]      0.07      1.02      0.10     -1.72      1.69    277.98      1.00\n",
      "    z[234]      0.10      0.96      0.11     -1.61      1.57    446.55      1.00\n",
      "    z[235]      0.04      0.79      0.06     -1.31      1.29   3282.23      1.00\n",
      "    z[236]      0.18      0.86      0.22     -1.29      1.58    125.88      1.03\n",
      "    z[237]      0.10      0.94      0.15     -1.45      1.63    749.83      1.00\n",
      "    z[238]     -0.03      0.91     -0.04     -1.52      1.43    582.27      1.00\n",
      "    z[239]      0.25      1.00      0.32     -1.48      1.78    632.85      1.01\n",
      "    z[240]     -0.29      0.96     -0.38     -1.68      1.39   1464.72      1.00\n",
      "    z[241]     -0.00      0.96     -0.02     -1.65      1.54    340.74      1.00\n",
      "    z[242]     -0.33      1.01     -0.42     -1.99      1.30    272.29      1.02\n",
      "    z[243]      0.01      0.97     -0.11     -1.28      1.84    289.00      1.02\n",
      "    z[244]     -0.02      0.93     -0.05     -1.59      1.48   1442.64      1.00\n",
      "    z[245]      0.00      0.93     -0.02     -1.48      1.52   1165.53      1.00\n",
      "    z[246]     -0.05      0.95     -0.05     -1.66      1.44   1702.23      1.00\n",
      "    z[247]      0.08      0.94      0.06     -1.42      1.64    213.43      1.01\n",
      "    z[248]     -0.15      0.92     -0.16     -1.55      1.52    171.20      1.03\n",
      "    z[249]      0.01      0.93      0.05     -1.51      1.54    397.78      1.02\n",
      "    z[250]     -0.06      0.88     -0.08     -1.51      1.31    334.61      1.01\n",
      "    z[251]      0.02      0.96      0.01     -1.51      1.61   2640.10      1.00\n",
      "    z[252]     -0.27      0.97     -0.34     -1.82      1.34    362.50      1.00\n",
      "    z[253]      0.19      0.96      0.21     -1.34      1.83    194.75      1.00\n",
      "    z[254]     -0.33      0.94     -0.41     -1.79      1.25    547.22      1.00\n",
      "    z[255]      0.61      0.97      0.77     -0.88      2.22    291.40      1.01\n",
      "    z[256]      0.06      0.94      0.07     -1.51      1.57    752.50      1.01\n",
      "    z[257]      0.63      0.95      0.75     -1.09      2.07    237.28      1.02\n",
      "    z[258]      0.06      0.93      0.08     -1.36      1.67   1448.73      1.00\n",
      "    z[259]      0.14      0.95      0.18     -1.43      1.66    361.53      1.01\n",
      "    z[260]      0.02      0.82      0.01     -1.29      1.34   1478.50      1.00\n",
      "    z[261]      0.14      1.08      0.03     -1.65      1.90     46.87      1.07\n",
      "    z[262]      0.12      0.97      0.18     -1.42      1.71    421.78      1.00\n",
      "    z[263]      0.08      0.87      0.08     -1.38      1.45    238.29      1.00\n",
      "    z[264]      0.17      0.94      0.23     -1.38      1.64    794.54      1.00\n",
      "    z[265]      0.64      0.96      0.79     -0.82      2.24    576.81      1.00\n",
      "    z[266]      0.07      0.97      0.12     -1.52      1.65    389.59      1.00\n",
      "    z[267]      0.08      0.99      0.10     -1.40      1.77    323.10      1.01\n",
      "    z[268]      0.01      0.92      0.03     -1.54      1.48    605.98      1.00\n",
      "    z[269]     -0.01      0.95      0.02     -1.57      1.55    704.48      1.00\n",
      "    z[270]      0.05      0.86      0.09     -1.40      1.34    556.47      1.00\n",
      "    z[271]      0.85      0.92      1.00     -0.63      2.28    353.74      1.01\n",
      "    z[272]      0.05      0.94      0.05     -1.50      1.56    661.51      1.01\n",
      "    z[273]      0.14      0.90      0.18     -1.34      1.61    440.40      1.01\n",
      "    z[274]      0.13      0.92      0.14     -1.41      1.68    257.41      1.01\n",
      "    z[275]     -0.02      0.89     -0.03     -1.49      1.39    775.57      1.01\n",
      "    z[276]     -0.09      0.94     -0.12     -1.59      1.34    348.60      1.00\n",
      "    z[277]      0.03      0.92      0.02     -1.46      1.62    846.85      1.00\n",
      "    z[278]     -0.12      0.98     -0.17     -1.63      1.55    307.32      1.01\n",
      "    z[279]      0.26      0.90      0.33     -1.23      1.72    204.97      1.03\n",
      "    z[280]     -0.00      0.93      0.05     -1.68      1.37    454.81      1.00\n",
      "    z[281]     -0.13      0.93     -0.15     -1.54      1.43    350.88      1.00\n",
      "    z[282]      0.16      0.96      0.23     -1.54      1.63   1618.07      1.00\n",
      "    z[283]     -0.05      0.93     -0.06     -1.57      1.51    404.82      1.01\n",
      "    z[284]     -0.13      0.95     -0.18     -1.72      1.36    462.66      1.00\n",
      "    z[285]     -0.08      0.91     -0.07     -1.56      1.48    480.79      1.01\n",
      "    z[286]     -0.09      0.98     -0.08     -1.60      1.56    276.71      1.03\n",
      "    z[287]     -0.08      0.89     -0.12     -1.48      1.34    352.92      1.00\n",
      "    z[288]      0.08      0.96      0.09     -1.51      1.65    253.58      1.01\n",
      "    z[289]     -0.09      0.98     -0.17     -1.55      1.63    244.86      1.02\n",
      "    z[290]     -0.53      1.00     -0.66     -2.06      1.14    179.85      1.02\n",
      "    z[291]      0.09      0.93      0.10     -1.46      1.59    373.73      1.01\n",
      "    z[292]      0.05      0.94      0.06     -1.43      1.61    437.59      1.01\n",
      "    z[293]      0.97      0.96      1.10     -0.67      2.42    257.82      1.01\n",
      "    z[294]     -0.02      1.00     -0.13     -1.58      1.72    167.37      1.02\n",
      "    z[295]     -0.71      0.93     -0.86     -2.13      0.88    387.42      1.01\n",
      "    z[296]      0.41      0.98      0.47     -1.25      1.95    440.76      1.01\n",
      "    z[297]     -0.15      0.99     -0.22     -1.76      1.46    758.36      1.00\n",
      "    z[298]      0.35      1.01      0.46     -1.33      1.96    325.01      1.01\n",
      "    z[299]      0.02      0.95      0.03     -1.57      1.66    133.79      1.02\n",
      "    z[300]      1.25      0.79      1.32      0.04      2.57    408.62      1.00\n",
      "    z[301]      0.06      1.00      0.09     -1.73      1.49     78.48      1.05\n",
      "    z[302]      1.01      0.87      1.14     -0.39      2.41    243.97      1.01\n",
      "    z[303]      0.06      0.90      0.08     -1.54      1.38    488.81      1.00\n",
      "    z[304]     -0.06      1.02     -0.11     -1.81      1.58     75.69      1.05\n",
      "    z[305]      0.82      0.92      0.96     -0.68      2.24    349.87      1.00\n",
      "    z[306]      1.03      1.05      1.13     -0.84      2.59    336.00      1.01\n",
      "    z[307]     -0.14      1.08     -0.25     -1.78      1.66     55.76      1.06\n",
      "    z[308]      0.63      0.95      0.75     -0.92      2.13    525.18      1.01\n",
      "    z[309]     -0.13      0.94     -0.15     -1.54      1.55    291.90      1.00\n",
      "    z[310]      0.14      1.00      0.20     -1.33      2.02    163.60      1.01\n",
      "    z[311]      0.12      0.93      0.19     -1.55      1.51    432.15      1.00\n",
      "    z[312]      0.14      0.95      0.19     -1.41      1.73   2106.23      1.00\n",
      "    z[313]      0.11      0.97      0.14     -1.48      1.64    574.13      1.00\n",
      "    z[314]      0.14      0.95      0.19     -1.37      1.67   1006.30      1.00\n",
      "    z[315]     -0.16      1.00     -0.16     -1.77      1.51    252.19      1.02\n",
      "    z[316]      0.16      0.84      0.20     -1.34      1.47    175.27      1.03\n",
      "    z[317]      0.15      0.96      0.20     -1.40      1.72   1481.04      1.00\n",
      "    z[318]      0.00      0.91     -0.02     -1.52      1.39    340.39      1.01\n",
      "    z[319]     -0.95      0.93     -1.07     -2.47      0.57    314.22      1.01\n",
      "    z[320]     -0.13      0.92     -0.16     -1.60      1.38    287.18      1.00\n",
      "    z[321]      0.07      0.92      0.07     -1.44      1.52    596.37      1.00\n",
      "    z[322]      0.02      0.96      0.01     -1.49      1.71    377.11      1.01\n",
      "    z[323]     -0.13      0.88     -0.13     -1.51      1.30    241.22      1.02\n",
      "    z[324]      0.02      0.88      0.02     -1.33      1.45     56.10      1.05\n",
      "    z[325]      0.76      0.97      0.93     -0.94      2.20    329.74      1.01\n",
      "    z[326]      0.24      0.92      0.29     -1.19      1.80    304.28      1.01\n",
      "    z[327]      0.29      1.03      0.20     -1.21      2.41     70.80      1.07\n",
      "    z[328]     -0.01      0.93     -0.01     -1.53      1.54   1997.73      1.00\n",
      "    z[329]      0.05      0.95      0.06     -1.41      1.70    932.83      1.01\n",
      "    z[330]     -0.36      0.92     -0.45     -1.97      1.10    361.48      1.00\n",
      "    z[331]     -0.10      0.93     -0.13     -1.65      1.29    125.64      1.03\n",
      "    z[332]     -0.17      0.92     -0.20     -1.55      1.60    181.34      1.01\n",
      "    z[333]      0.14      0.96      0.20     -1.38      1.69   1372.01      1.00\n",
      "    z[334]     -0.09      0.93     -0.12     -1.57      1.50    424.90      1.00\n",
      "    z[335]     -0.27      1.16     -0.42     -2.17      1.49     56.17      1.04\n",
      "    z[336]     -0.01      0.93      0.02     -1.49      1.53    635.90      1.00\n",
      "    z[337]      0.17      1.00      0.19     -1.60      1.75    534.71      1.01\n",
      "    z[338]     -0.46      1.04     -0.59     -2.17      1.28    297.64      1.01\n",
      "    z[339]     -0.03      0.93     -0.04     -1.60      1.46   1826.29      1.00\n",
      "    z[340]      0.09      0.97      0.04     -1.33      1.84    176.68      1.02\n",
      "    z[341]     -0.09      0.93     -0.14     -1.64      1.42    267.58      1.00\n",
      "    z[342]      0.21      0.91      0.28     -1.29      1.62    258.31      1.01\n",
      "    z[343]     -0.26      1.01     -0.37     -1.87      1.40    156.02      1.02\n",
      "    z[344]      0.33      0.98      0.39     -1.22      1.97    518.17      1.01\n",
      "    z[345]     -0.10      0.91     -0.14     -1.46      1.49    439.58      1.00\n",
      "    z[346]      0.01      0.91      0.04     -1.68      1.37    407.67      1.01\n",
      "    z[347]      0.09      0.89      0.13     -1.63      1.35    220.35      1.01\n",
      "    z[348]     -0.02      0.89     -0.09     -1.45      1.47    439.64      1.01\n",
      "    z[349]     -0.77      1.06     -0.93     -2.49      0.93    119.44      1.02\n",
      "    z[350]     -0.11      0.92     -0.14     -1.53      1.46    815.20      1.00\n",
      "    z[351]     -0.14      0.95     -0.14     -1.65      1.47    220.95      1.01\n",
      "    z[352]     -0.04      0.89     -0.07     -1.40      1.54    433.36      1.01\n",
      "    z[353]     -0.02      1.02      0.01     -1.71      1.56     72.87      1.01\n",
      "    z[354]     -1.17      1.10     -1.34     -2.91      0.67    342.12      1.01\n",
      "    z[355]     -0.73      1.06     -0.91     -2.41      1.01    268.98      1.02\n",
      "    z[356]     -0.07      0.99     -0.09     -1.65      1.55    455.80      1.00\n",
      "    z[357]      0.01      0.93      0.02     -1.72      1.40    163.10      1.02\n",
      "    z[358]     -0.08      0.96     -0.10     -1.60      1.53    383.28      1.01\n",
      "    z[359]     -0.15      0.95     -0.16     -1.77      1.35    794.35      1.00\n",
      "    z[360]      0.24      0.94      0.28     -1.34      1.74    516.10      1.00\n",
      "    z[361]     -0.14      0.94     -0.19     -1.66      1.41   1322.03      1.00\n",
      "    z[362]      0.17      0.94      0.09     -1.10      2.12    126.45      1.01\n",
      "    z[363]     -0.22      0.94     -0.26     -1.72      1.32    332.91      1.00\n",
      "    z[364]     -0.01      0.91     -0.03     -1.59      1.40    251.78      1.00\n",
      "    z[365]      0.16      0.94      0.18     -1.26      1.81    220.35      1.00\n",
      "    z[366]     -0.67      0.98     -0.82     -2.26      0.87    352.21      1.00\n",
      "    z[367]     -0.37      0.97     -0.47     -1.82      1.34    339.70      1.00\n",
      "    z[368]      0.01      0.87      0.00     -1.28      1.45    383.84      1.00\n",
      "    z[369]     -0.26      0.95     -0.31     -1.84      1.22    273.78      1.01\n",
      "    z[370]     -0.09      0.94     -0.11     -1.49      1.68    398.38      1.01\n",
      "    z[371]      0.07      0.95      0.10     -1.54      1.64   3071.52      1.00\n",
      "    z[372]     -0.30      0.95     -0.36     -1.75      1.15    106.62      1.02\n",
      "    z[373]     -0.06      1.08     -0.08     -1.82      1.74     68.24      1.06\n",
      "    z[374]     -0.10      0.95     -0.13     -1.63      1.43    190.00      1.01\n",
      "    z[375]      0.13      0.95      0.16     -1.42      1.69    580.45      1.00\n",
      "    z[376]      0.11      0.93      0.15     -1.57      1.55    864.69      1.00\n",
      "    z[377]      0.10      1.02      0.12     -1.60      1.71   1304.80      1.00\n",
      "    z[378]     -0.02      0.93     -0.05     -1.61      1.35    200.67      1.01\n",
      "    z[379]      0.56      1.11      0.59     -1.14      2.50    233.34      1.02\n",
      "    z[380]      0.06      0.94      0.08     -1.44      1.51   1199.55      1.00\n",
      "    z[381]     -0.09      0.94     -0.16     -1.60      1.48    257.36      1.04\n",
      "    z[382]      0.06      0.86      0.04     -1.27      1.47    467.05      1.00\n",
      "    z[383]     -0.04      0.95     -0.07     -1.64      1.49    754.81      1.00\n",
      "    z[384]      1.69      0.70      1.74      0.65      2.75    351.15      1.01\n",
      "    z[385]     -0.06      0.92     -0.08     -1.51      1.46    544.26      1.00\n",
      "    z[386]     -0.13      0.90     -0.16     -1.56      1.37    391.39      1.02\n",
      "    z[387]      0.03      0.92      0.03     -1.54      1.54    504.84      1.00\n",
      "    z[388]      0.05      0.97      0.01     -1.52      1.74    343.16      1.00\n",
      "    z[389]      0.34      0.94      0.44     -1.40      1.69    550.68      1.00\n",
      "    z[390]     -1.44      0.76     -1.51     -2.78     -0.50    312.67      1.01\n",
      "    z[391]     -0.06      0.95     -0.04     -1.75      1.41    567.24      1.00\n",
      "    z[392]      0.23      0.97      0.27     -1.41      1.74    394.00      1.00\n",
      "    z[393]      0.09      0.93      0.13     -1.42      1.65   1149.33      1.01\n",
      "    z[394]      0.16      0.90      0.16     -1.44      1.48    955.28      1.01\n",
      "    z[395]     -0.19      0.96     -0.27     -1.72      1.40    671.75      1.00\n",
      "    z[396]     -0.00      0.93      0.02     -1.42      1.59    108.35      1.01\n",
      "    z[397]      0.20      0.99      0.24     -1.35      1.87    245.47      1.01\n",
      "    z[398]     -0.05      0.92     -0.04     -1.42      1.51    278.29      1.03\n",
      "    z[399]      0.00      1.08      0.08     -1.83      1.78    106.58      1.04\n",
      "    z[400]     -0.17      0.97     -0.24     -1.69      1.48   1196.89      1.00\n",
      "    z[401]     -0.11      0.92     -0.13     -1.62      1.40    524.42      1.00\n",
      "    z[402]      0.42      1.06      0.49     -1.31      2.11    392.39      1.00\n",
      "    z[403]     -0.36      0.96     -0.40     -1.89      1.23    175.87      1.01\n",
      "    z[404]     -0.13      0.90     -0.13     -1.71      1.21    490.93      1.00\n",
      "    z[405]     -0.12      0.95     -0.16     -1.53      1.63    193.63      1.03\n",
      "    z[406]     -0.19      1.11     -0.16     -2.16      1.49     76.93      1.05\n",
      "    z[407]      1.25      0.82      1.34      0.13      2.62    390.95      1.01\n",
      "    z[408]      0.03      0.92      0.04     -1.67      1.41    345.39      1.02\n",
      "    z[409]     -0.18      0.96     -0.20     -1.66      1.47    199.37      1.01\n",
      "    z[410]      0.16      0.94      0.16     -1.39      1.72    303.56      1.02\n",
      "    z[411]     -0.09      0.90     -0.11     -1.27      1.75    126.80      1.02\n",
      "    z[412]     -0.00      0.94     -0.02     -1.55      1.56    477.01      1.01\n",
      "    z[413]      0.30      1.02      0.38     -1.44      1.89    316.50      1.00\n",
      "    z[414]     -0.15      0.96     -0.16     -1.47      1.66    143.34      1.00\n",
      "    z[415]     -0.07      0.91     -0.07     -1.50      1.45    464.63      1.01\n",
      "    z[416]     -0.16      0.94     -0.18     -1.69      1.35    721.14      1.01\n",
      "    z[417]     -0.01      0.99     -0.04     -1.58      1.69   1042.44      1.00\n",
      "    z[418]     -0.01      0.98      0.05     -1.73      1.33    102.32      1.02\n",
      "    z[419]     -0.06      1.00      0.01     -1.76      1.49     78.07      1.04\n",
      "    z[420]     -0.09      0.96     -0.12     -1.59      1.57    451.83      1.00\n",
      "    z[421]      0.15      0.91      0.16     -1.19      1.71    156.92      1.02\n",
      "    z[422]      0.05      0.95      0.07     -1.52      1.58    727.17      1.00\n",
      "    z[423]     -0.02      0.96     -0.02     -1.58      1.53   1846.56      1.00\n",
      "    z[424]     -0.15      0.87     -0.17     -1.54      1.33   1122.28      1.00\n",
      "    z[425]     -0.14      0.96     -0.15     -1.62      1.43    153.46      1.02\n",
      "    z[426]     -1.68      0.79     -1.73     -2.93     -0.47    366.93      1.01\n",
      "    z[427]      0.02      0.93      0.04     -1.41      1.61    144.92      1.01\n",
      "    z[428]      0.04      0.95      0.05     -1.45      1.64    894.38      1.00\n",
      "    z[429]     -0.24      1.02     -0.31     -1.83      1.47    595.05      1.00\n",
      "    z[430]      0.29      0.98      0.35     -1.35      1.76    502.97      1.01\n",
      "    z[431]      0.03      0.97      0.06     -1.59      1.64    174.28      1.02\n",
      "    z[432]     -0.69      1.02     -0.74     -2.33      0.97    164.85      1.03\n",
      "    z[433]      0.06      0.96      0.08     -1.53      1.61    831.75      1.00\n",
      "    z[434]     -0.13      0.93     -0.15     -1.59      1.46    481.86      1.01\n",
      "    z[435]     -0.16      0.97     -0.23     -1.69      1.48    677.38      1.00\n",
      "    z[436]      0.49      0.97      0.61     -1.13      2.04    329.83      1.01\n",
      "    z[437]     -0.41      0.97     -0.54     -1.93      1.21    680.99      1.00\n",
      "    z[438]      0.00      0.96      0.01     -1.56      1.61    123.88      1.03\n",
      "    z[439]     -0.54      0.97     -0.67     -2.06      1.04    295.23      1.01\n",
      "    z[440]     -0.14      0.96     -0.17     -1.71      1.45    460.78      1.00\n",
      "    z[441]     -0.12      1.00     -0.15     -1.75      1.57    187.50      1.01\n",
      "    z[442]     -0.23      1.04     -0.21     -2.02      1.46    151.20      1.03\n",
      "    z[443]      0.02      0.91      0.04     -1.46      1.53   3484.59      1.00\n",
      "    z[444]     -0.06      0.93     -0.07     -1.59      1.43    997.77      1.00\n",
      "    z[445]     -0.06      0.90     -0.09     -1.51      1.44    350.00      1.01\n",
      "    z[446]      0.05      0.99      0.07     -1.54      1.65   2217.88      1.00\n",
      "    z[447]      0.17      0.95      0.20     -1.49      1.61    300.43      1.01\n",
      "    z[448]      0.94      0.95      1.09     -0.79      2.27    235.14      1.00\n",
      "    z[449]     -0.24      0.93     -0.30     -1.81      1.23    470.53      1.00\n",
      "    z[450]      0.01      0.93     -0.02     -1.49      1.54    908.57      1.00\n",
      "    z[451]     -0.20      0.93     -0.27     -1.65      1.39    520.05      1.00\n",
      "    z[452]     -0.03      0.95     -0.06     -1.47      1.63    722.57      1.00\n",
      "    z[453]     -0.08      0.98     -0.13     -1.67      1.51    262.40      1.02\n",
      "    z[454]     -0.19      0.97     -0.17     -1.54      1.67    107.74      1.05\n",
      "    z[455]      0.05      0.93      0.04     -1.38      1.68    299.77      1.00\n",
      "    z[456]      0.05      0.94      0.06     -1.52      1.59   1231.19      1.00\n",
      "    z[457]      0.58      0.84      0.64     -0.67      2.04    898.03      1.00\n",
      "    z[458]     -0.15      0.94     -0.21     -1.60      1.44   1006.09      1.00\n",
      "    z[459]     -0.10      0.95     -0.17     -1.58      1.48    277.60      1.00\n",
      "    z[460]      0.52      0.76      0.59     -0.69      1.73   1063.47      1.00\n",
      "    z[461]     -0.08      0.90     -0.12     -1.51      1.54    364.01      1.00\n",
      "    z[462]     -0.04      0.92     -0.06     -1.56      1.50   2579.78      1.00\n",
      "    z[463]      0.95      1.01      1.08     -0.78      2.49    302.81      1.01\n",
      "    z[464]      0.05      0.94      0.02     -1.42      1.52    561.14      1.00\n",
      "    z[465]     -0.06      0.96     -0.09     -1.70      1.44   1143.61      1.00\n",
      "    z[466]     -0.05      0.89     -0.05     -1.64      1.24    463.75      1.00\n",
      "    z[467]      0.90      0.95      1.06     -0.68      2.39    294.45      1.02\n",
      "    z[468]      0.01      0.94     -0.02     -1.50      1.47    141.58      1.01\n",
      "    z[469]      0.59      0.97      0.74     -1.09      1.95    287.65      1.01\n",
      "    z[470]     -0.03      0.97     -0.05     -1.63      1.63    452.50      1.00\n",
      "    z[471]     -0.20      0.95     -0.27     -1.76      1.40    337.76      1.00\n",
      "    z[472]     -0.04      0.91     -0.01     -1.57      1.46    313.55      1.00\n",
      "    z[473]      0.30      0.96      0.40     -1.27      1.80    254.49      1.02\n",
      "    z[474]     -1.11      0.92     -1.26     -2.46      0.44    285.34      1.00\n",
      "    z[475]     -0.05      0.95      0.00     -1.64      1.49    249.58      1.03\n",
      "    z[476]      0.22      0.90      0.27     -1.45      1.37    149.74      1.01\n",
      "    z[477]      0.97      1.01      1.12     -0.74      2.51    259.10      1.01\n",
      "    z[478]     -0.01      0.99      0.01     -1.80      1.53   5839.25      1.00\n",
      "    z[479]     -0.16      0.98     -0.22     -1.70      1.50   1103.14      1.01\n",
      "    z[480]     -0.90      0.95     -1.05     -2.26      0.80    277.37      1.01\n",
      "    z[481]     -0.11      0.97     -0.16     -1.77      1.42   1424.14      1.00\n",
      "    z[482]      0.13      0.99      0.19     -1.57      1.74    243.34      1.02\n",
      "    z[483]      0.07      0.99      0.10     -1.39      1.72    196.13      1.02\n",
      "    z[484]     -0.03      0.89     -0.08     -1.34      1.53    429.93      1.01\n",
      "    z[485]      0.23      0.79      0.28     -1.05      1.55   1643.38      1.00\n",
      "    z[486]     -0.11      0.92     -0.14     -1.60      1.42    935.35      1.01\n",
      "    z[487]     -0.15      0.92     -0.17     -1.68      1.34    603.50      1.01\n",
      "    z[488]      0.01      0.97     -0.00     -1.67      1.52    288.56      1.00\n",
      "    z[489]      0.04      0.93      0.08     -1.45      1.53    926.90      1.01\n",
      "    z[490]      0.38      0.98      0.47     -1.27      1.88    536.01      1.00\n",
      "    z[491]      0.34      1.01      0.40     -1.44      1.88    548.81      1.00\n",
      "    z[492]      0.05      0.95      0.06     -1.49      1.63    233.11      1.04\n",
      "    z[493]     -0.09      0.94     -0.13     -1.76      1.29    437.89      1.00\n",
      "    z[494]      0.02      0.87      0.04     -1.40      1.37    335.04      1.00\n",
      "    z[495]      0.26      1.00      0.34     -1.25      1.91    264.70      1.01\n",
      "    z[496]     -0.06      0.94     -0.08     -1.42      1.77     85.86      1.04\n",
      "    z[497]      0.03      0.97      0.05     -1.64      1.55   1802.00      1.00\n",
      "    z[498]     -0.79      1.03     -0.93     -2.26      0.99    365.46      1.01\n",
      "    z[499]     -0.02      0.92     -0.01     -1.48      1.55   1554.43      1.00\n",
      "    z[500]     -0.10      1.00     -0.18     -1.59      1.65    166.75      1.01\n",
      "    z[501]      0.04      0.94      0.08     -1.51      1.54    341.56      1.01\n",
      "    z[502]     -0.41      0.94     -0.51     -1.80      1.29    295.02      1.02\n",
      "    z[503]      0.20      0.94      0.24     -1.36      1.74    525.32      1.00\n",
      "    z[504]     -0.07      1.00     -0.14     -1.78      1.64    106.04      1.03\n",
      "    z[505]      0.04      0.95      0.04     -1.58      1.47    347.62      1.01\n",
      "    z[506]     -0.06      0.95     -0.09     -1.64      1.47    892.38      1.00\n",
      "    z[507]      0.03      0.92      0.04     -1.44      1.54    511.56      1.01\n",
      "    z[508]      0.04      0.94      0.08     -1.52      1.60     64.57      1.04\n",
      "    z[509]     -0.23      0.94     -0.30     -1.67      1.41    339.73      1.01\n",
      "    z[510]     -0.04      0.96     -0.08     -1.50      1.66    265.92      1.01\n",
      "    z[511]     -0.01      0.92      0.07     -1.66      1.40     79.46      1.03\n",
      "    z[512]      0.09      1.00      0.12     -1.52      1.61    291.00      1.02\n",
      "    z[513]      0.14      0.94      0.13     -1.21      1.84    345.49      1.01\n",
      "    z[514]      0.20      0.92      0.23     -1.33      1.68    284.21      1.01\n",
      "    z[515]      0.03      0.89      0.04     -1.36      1.55    629.74      1.00\n",
      "    z[516]     -0.00      0.80      0.00     -1.31      1.26   1647.10      1.00\n",
      "    z[517]      0.02      0.91      0.01     -1.43      1.51    167.19      1.03\n",
      "    z[518]      0.57      0.84      0.67     -0.86      1.84    479.98      1.00\n",
      "    z[519]     -0.06      0.93     -0.09     -1.65      1.45    432.74      1.00\n",
      "    z[520]      0.03      0.96      0.05     -1.64      1.52    542.03      1.01\n",
      "    z[521]      0.00      0.93     -0.00     -1.51      1.57    955.08      1.01\n",
      "    z[522]      0.13      0.98      0.20     -1.59      1.65    252.44      1.00\n",
      "    z[523]     -0.09      0.91     -0.14     -1.57      1.45   1507.51      1.00\n",
      "    z[524]      0.08      0.93      0.09     -1.52      1.54    680.34      1.00\n",
      "    z[525]      0.30      0.97      0.34     -1.09      1.98    285.25      1.02\n",
      "    z[526]      0.01      0.90      0.08     -1.55      1.30    501.90      1.00\n",
      "    z[527]      0.20      0.94      0.26     -1.44      1.62    536.46      1.00\n",
      "    z[528]     -0.23      0.98     -0.25     -1.84      1.33    131.84      1.01\n",
      "    z[529]     -0.01      0.97     -0.02     -1.52      1.64   1211.17      1.00\n",
      "    z[530]      0.11      1.00      0.07     -1.55      1.71    183.96      1.01\n",
      "    z[531]      0.15      0.93      0.21     -1.40      1.60    925.85      1.00\n",
      "    z[532]      0.10      1.03      0.15     -1.56      1.81    125.02      1.04\n",
      "    z[533]     -0.03      0.93      0.01     -1.56      1.46    531.50      1.01\n",
      "    z[534]     -0.14      0.78     -0.19     -1.40      1.14   1832.12      1.01\n",
      "    z[535]     -1.29      0.85     -1.39     -2.63      0.02    225.08      1.01\n",
      "    z[536]      0.03      0.91      0.01     -1.46      1.47    111.99      1.03\n",
      "    z[537]     -0.18      1.01     -0.14     -1.92      1.54    116.01      1.03\n",
      "    z[538]      0.03      0.98      0.06     -1.63      1.59    414.26      1.00\n",
      "    z[539]     -0.09      1.07     -0.21     -1.57      1.84     51.11      1.05\n",
      "    z[540]      0.38      0.99      0.47     -1.37      1.90    234.31      1.02\n",
      "    z[541]     -0.02      0.88     -0.04     -1.54      1.42    271.56      1.01\n",
      "    z[542]      0.18      0.95      0.26     -1.46      1.62    438.33      1.00\n",
      "    z[543]      0.04      0.95      0.04     -1.47      1.67   1517.64      1.00\n",
      "    z[544]     -0.10      0.89     -0.12     -1.41      1.55    571.01      1.01\n",
      "    z[545]      0.05      0.95      0.02     -1.52      1.57    376.38      1.01\n",
      "    z[546]      0.17      0.96      0.23     -1.40      1.81    379.80      1.01\n",
      "    z[547]     -0.04      0.90     -0.01     -1.58      1.29    123.87      1.03\n",
      "    z[548]     -0.01      0.94      0.02     -1.57      1.51     86.55      1.04\n",
      "    z[549]      0.04      0.99      0.10     -1.66      1.58    174.15      1.01\n",
      "    z[550]     -0.02      0.93     -0.01     -1.47      1.51    973.59      1.00\n",
      "    z[551]      0.06      0.94      0.08     -1.51      1.60    409.97      1.01\n",
      "    z[552]      0.00      0.89      0.04     -1.38      1.49    135.88      1.01\n",
      "    z[553]      0.01      0.96      0.02     -1.70      1.52    554.25      1.00\n",
      "    z[554]      0.06      0.97      0.11     -1.53      1.65   1152.11      1.00\n",
      "    z[555]     -0.25      1.00     -0.26     -1.81      1.41    839.93      1.00\n",
      "    z[556]      0.18      0.98      0.22     -1.59      1.64    311.22      1.00\n",
      "    z[557]      0.12      0.94      0.18     -1.46      1.61   1337.62      1.00\n",
      "    z[558]     -0.03      0.98      0.02     -1.64      1.61    234.77      1.01\n",
      "    z[559]     -0.09      0.95     -0.11     -1.55      1.54    354.58      1.00\n",
      "    z[560]      0.17      0.93      0.22     -1.44      1.56    192.48      1.01\n",
      "    z[561]     -0.11      1.05     -0.21     -1.67      1.86    188.44      1.01\n",
      "    z[562]     -0.10      0.94     -0.14     -1.66      1.41   1457.45      1.00\n",
      "    z[563]      0.11      1.03      0.06     -1.63      1.60    128.73      1.01\n",
      "    z[564]     -0.64      1.03     -0.79     -2.20      1.08    426.56      1.01\n",
      "    z[565]     -0.14      0.95     -0.20     -1.64      1.47    631.30      1.00\n",
      "    z[566]      0.05      0.92      0.08     -1.36      1.60    657.87      1.00\n",
      "    z[567]     -0.22      0.99     -0.20     -1.70      1.56    170.44      1.01\n",
      "    z[568]     -0.01      0.96     -0.01     -1.52      1.63    243.21      1.02\n",
      "    z[569]     -0.14      0.99     -0.17     -1.89      1.32    260.79      1.00\n",
      "    z[570]      0.12      1.00      0.16     -1.56      1.69    334.61      1.01\n",
      "    z[571]     -0.03      0.91     -0.03     -1.42      1.55    597.23      1.00\n",
      "    z[572]      0.04      0.94      0.05     -1.61      1.48    925.90      1.00\n",
      "    z[573]      0.48      1.00      0.61     -1.23      2.01    755.71      1.00\n",
      "    z[574]      0.32      0.97      0.41     -1.19      1.96    288.03      1.01\n",
      "    z[575]      0.22      0.89      0.26     -1.19      1.70    693.52      1.00\n",
      "    z[576]      0.18      1.02      0.25     -1.63      1.73    315.12      1.01\n",
      "    z[577]      0.07      0.95      0.04     -1.56      1.55    554.61      1.01\n",
      "    z[578]     -0.03      0.88     -0.04     -1.55      1.39    850.71      1.00\n",
      "    z[579]      0.11      0.93      0.15     -1.34      1.70    479.14      1.00\n",
      "    z[580]      0.00      0.99      0.04     -1.64      1.59    163.84      1.01\n",
      "    z[581]      0.31      0.86      0.33     -1.06      1.71   1152.27      1.01\n",
      "    z[582]      0.07      0.85      0.13     -1.31      1.42    307.13      1.01\n",
      "    z[583]     -0.04      0.96      0.02     -1.57      1.56    163.32      1.01\n",
      "    z[584]     -0.17      0.91     -0.21     -1.70      1.21    199.59      1.01\n",
      "    z[585]      0.01      0.79      0.02     -1.31      1.26   1488.77      1.00\n",
      "    z[586]     -0.45      0.93     -0.57     -1.97      1.08    353.56      1.01\n",
      "    z[587]      0.02      0.94      0.02     -1.49      1.59    489.14      1.01\n",
      "    z[588]     -0.00      0.95      0.01     -1.58      1.59    427.56      1.00\n",
      "    z[589]      0.04      0.95      0.04     -1.52      1.65    692.37      1.00\n",
      "    z[590]      0.64      0.77      0.69     -0.58      1.85    750.06      1.00\n",
      "    z[591]     -0.52      0.97     -0.62     -2.06      1.10    535.12      1.01\n",
      "    z[592]      0.14      0.94      0.17     -1.37      1.68   1327.53      1.00\n",
      "    z[593]     -0.44      0.95     -0.53     -2.01      1.08    347.05      1.01\n",
      "    z[594]      0.06      0.98      0.05     -1.47      1.74    184.17      1.01\n",
      "    z[595]     -0.02      0.98     -0.01     -1.50      1.70    753.78      1.00\n",
      "    z[596]      0.13      0.98      0.15     -1.40      1.82    500.32      1.00\n",
      "    z[597]     -0.32      0.91     -0.42     -1.79      1.18    643.36      1.00\n",
      "    z[598]      0.06      0.96     -0.01     -1.41      1.76    343.74      1.03\n",
      "    z[599]     -0.49      1.01     -0.59     -2.00      1.26    321.24      1.00\n",
      "    z[600]     -0.12      0.97     -0.15     -1.73      1.49    901.99      1.00\n",
      "    z[601]      0.06      0.94      0.07     -1.42      1.71    690.37      1.00\n",
      "    z[602]      0.11      0.92      0.13     -1.27      1.70    427.09      1.00\n",
      "    z[603]     -1.40      0.95     -1.54     -2.97      0.13    306.08      1.01\n",
      "    z[604]      0.01      1.00      0.09     -1.87      1.45    220.61      1.01\n",
      "    z[605]     -0.05      0.89     -0.08     -1.49      1.38    334.13      1.03\n",
      "    z[606]      0.33      1.00      0.40     -1.36      1.84    284.78      1.01\n",
      "    z[607]      0.10      0.96      0.16     -1.46      1.68    144.42      1.01\n",
      "    z[608]     -0.22      0.93     -0.26     -1.77      1.32   1129.63      1.00\n",
      "    z[609]     -0.01      0.94     -0.02     -1.62      1.48    986.52      1.00\n",
      "    z[610]      0.02      1.04      0.09     -1.76      1.55     97.93      1.04\n",
      "    z[611]      0.15      0.96      0.23     -1.54      1.61    358.48      1.00\n",
      "    z[612]      0.05      0.89      0.00     -1.28      1.55    241.96      1.01\n",
      "    z[613]     -0.25      0.93     -0.34     -1.79      1.23    214.98      1.02\n",
      "    z[614]     -0.33      0.97     -0.39     -1.99      1.19    538.74      1.00\n",
      "    z[615]     -0.07      0.84     -0.03     -1.50      1.27    268.62      1.00\n",
      "    z[616]      1.40      0.89      1.50      0.14      2.87    249.82      1.01\n",
      "    z[617]     -0.06      0.92     -0.07     -1.52      1.54    136.20      1.03\n",
      "    z[618]      0.65      0.95      0.78     -0.94      2.10    240.35      1.01\n",
      "    z[619]     -0.59      0.77     -0.66     -1.78      0.67    820.32      1.00\n",
      "    z[620]     -0.04      0.94     -0.04     -1.80      1.32    372.72      1.00\n",
      "    z[621]      0.35      1.00      0.43     -1.20      2.05    284.47      1.01\n",
      "    z[622]     -0.78      0.75     -0.83     -2.09      0.23    686.14      1.00\n",
      "    z[623]      0.01      0.93     -0.02     -1.42      1.62    433.18      1.01\n",
      "    z[624]      0.03      0.92      0.03     -1.51      1.52    506.63      1.00\n",
      "    z[625]     -0.32      0.94     -0.39     -1.74      1.32    298.19      1.01\n",
      "    z[626]      0.03      0.92      0.02     -1.48      1.53    414.99      1.01\n",
      "    z[627]      0.12      0.93      0.16     -1.43      1.64    618.89      1.01\n",
      "    z[628]      0.15      0.93      0.17     -1.18      1.86    403.39      1.00\n",
      "    z[629]     -0.21      0.97     -0.28     -1.81      1.40   1117.93      1.01\n",
      "    z[630]     -0.06      0.91     -0.10     -1.51      1.47    390.63      1.00\n",
      "    z[631]      0.03      0.93      0.02     -1.52      1.54    368.60      1.00\n",
      "    z[632]      0.08      0.97      0.06     -1.44      1.77    230.66      1.00\n",
      "\n"
     ]
    }
   ],
   "source": [
    "mcmc_1.print_summary()"
   ]
  },
  {
   "cell_type": "code",
   "execution_count": 17,
   "id": "999086cd-d463-457b-a03a-bcd0b2130b83",
   "metadata": {
    "execution": {
     "iopub.execute_input": "2022-08-10T12:25:15.815468Z",
     "iopub.status.busy": "2022-08-10T12:25:15.815126Z",
     "iopub.status.idle": "2022-08-10T12:25:16.258146Z",
     "shell.execute_reply": "2022-08-10T12:25:16.257346Z",
     "shell.execute_reply.started": "2022-08-10T12:25:15.815443Z"
    },
    "pycharm": {
     "name": "#%%\n"
    }
   },
   "outputs": [
    {
     "data": {
      "text/plain": "171"
     },
     "execution_count": 17,
     "metadata": {},
     "output_type": "execute_result"
    }
   ],
   "source": [
    "idx_1 = jnp.squeeze(jnp.argwhere((jnp.sum(gamma_samples_1, axis=0) / 6000) > 0.3))\n",
    "len(idx_1)"
   ]
  },
  {
   "cell_type": "code",
   "execution_count": 44,
   "id": "6baeb1b3-e2df-4276-9ef9-14dacb7ad8bc",
   "metadata": {
    "execution": {
     "iopub.execute_input": "2022-08-10T12:25:18.230192Z",
     "iopub.status.busy": "2022-08-10T12:25:18.229837Z",
     "iopub.status.idle": "2022-08-10T12:25:18.500171Z",
     "shell.execute_reply": "2022-08-10T12:25:18.498728Z",
     "shell.execute_reply.started": "2022-08-10T12:25:18.230165Z"
    },
    "pycharm": {
     "name": "#%%\n"
    }
   },
   "outputs": [
    {
     "data": {
      "text/plain": "DeviceArray(42, dtype=int32)"
     },
     "execution_count": 44,
     "metadata": {},
     "output_type": "execute_result"
    }
   ],
   "source": [
    "jnp.count_nonzero(J_1[idx_1,:][:,idx_1])"
   ]
  },
  {
   "cell_type": "code",
   "execution_count": 18,
   "outputs": [
    {
     "data": {
      "text/plain": "522.4616010766268"
     },
     "execution_count": 18,
     "metadata": {},
     "output_type": "execute_result"
    }
   ],
   "source": [
    "get_ess(3, gamma_samples_1)"
   ],
   "metadata": {
    "collapsed": false,
    "pycharm": {
     "name": "#%%\n"
    }
   }
  },
  {
   "cell_type": "code",
   "execution_count": 19,
   "outputs": [
    {
     "data": {
      "text/plain": "556.7517625362011"
     },
     "execution_count": 19,
     "metadata": {},
     "output_type": "execute_result"
    }
   ],
   "source": [
    "get_ess(3, beta_samples_1)"
   ],
   "metadata": {
    "collapsed": false,
    "pycharm": {
     "name": "#%%\n"
    }
   }
  },
  {
   "cell_type": "code",
   "execution_count": 38,
   "id": "f3166ef1-e565-4682-b005-f79d1d7cc5e4",
   "metadata": {
    "execution": {
     "iopub.execute_input": "2022-08-09T22:04:30.963359Z",
     "iopub.status.busy": "2022-08-09T22:04:30.962503Z",
     "iopub.status.idle": "2022-08-09T22:04:31.046679Z",
     "shell.execute_reply": "2022-08-09T22:04:31.045639Z",
     "shell.execute_reply.started": "2022-08-09T22:04:30.963331Z"
    },
    "pycharm": {
     "name": "#%%\n"
    }
   },
   "outputs": [],
   "source": [
    "J_control = jnp.zeros((p, p))"
   ]
  },
  {
   "cell_type": "code",
   "execution_count": 49,
   "id": "d92ad8bc-aaeb-42c1-a2b2-559895d01621",
   "metadata": {
    "execution": {
     "iopub.execute_input": "2022-08-09T22:06:45.702711Z",
     "iopub.status.busy": "2022-08-09T22:06:45.702330Z",
     "iopub.status.idle": "2022-08-09T22:36:22.148849Z",
     "shell.execute_reply": "2022-08-09T22:36:22.148034Z",
     "shell.execute_reply.started": "2022-08-09T22:06:45.702687Z"
    },
    "pycharm": {
     "name": "#%%\n"
    }
   },
   "outputs": [
    {
     "name": "stderr",
     "output_type": "stream",
     "text": [
      "/tmp/ipykernel_33/1838369654.py:2: UserWarning: There are not enough devices to run parallel chains: expected 3 but got 1. Chains will be drawn sequentially. If you are running MCMC in CPU, consider using `numpyro.set_host_device_count(3)` at the beginning of your program. You can double-check how many devices are available in your system using `jax.local_device_count()`.\n",
      "  mcmc_2 = MCMC(kernel_2, num_warmup=500, num_samples=2000,\n",
      "sample: 100%|██████████| 2500/2500 [10:34<00:00,  3.94it/s, 729 steps of size 1.93e-02. acc. prob=0.60]   \n",
      "sample: 100%|██████████| 2500/2500 [09:35<00:00,  4.35it/s, 842 steps of size 1.35e-02. acc. prob=0.80]   \n",
      "sample: 100%|██████████| 2500/2500 [09:26<00:00,  4.42it/s, 781 steps of size 1.63e-02. acc. prob=0.72]   \n"
     ]
    }
   ],
   "source": [
    "kernel_2 = MixedHMC(HMC(model, target_accept_prob=0.6, step_size=1e-5), random_walk=False)\n",
    "mcmc_2 = MCMC(kernel_2, num_warmup=500, num_samples=2000, \n",
    "              num_chains=3, progress_bar=True, )\n",
    "mcmc_2.run(rng_key, X_train, y_train, 10.*np.identity(p), J_control, 1.0, 1.0)"
   ]
  },
  {
   "cell_type": "code",
   "execution_count": 50,
   "id": "1eb2269c-304a-45d8-88fc-e53ee0b4e81f",
   "metadata": {
    "execution": {
     "iopub.execute_input": "2022-08-09T22:36:22.150670Z",
     "iopub.status.busy": "2022-08-09T22:36:22.150415Z",
     "iopub.status.idle": "2022-08-09T22:36:22.876875Z",
     "shell.execute_reply": "2022-08-09T22:36:22.875912Z",
     "shell.execute_reply.started": "2022-08-09T22:36:22.150647Z"
    },
    "pycharm": {
     "name": "#%%\n"
    }
   },
   "outputs": [],
   "source": [
    "gamma_samples_2 = jax.device_get(mcmc_2.get_samples()[\"gamma\"])\n",
    "beta_samples_2 = jax.device_get(mcmc_2.get_samples()[\"beta\"])\n",
    "\n",
    "jnp.save(\"npy/gamma_samples_2_nb_tamox_3.npy\", gamma_samples_2)\n",
    "jnp.save(\"npy/beta_samples_2_nb_tamox_3.npy\", beta_samples_2)"
   ]
  },
  {
   "cell_type": "code",
   "execution_count": 39,
   "id": "cdb6e400-e406-44ce-8e7a-b279eb04808f",
   "metadata": {
    "execution": {
     "iopub.execute_input": "2022-08-10T12:23:08.633066Z",
     "iopub.status.busy": "2022-08-10T12:23:08.632452Z",
     "iopub.status.idle": "2022-08-10T12:23:08.851122Z",
     "shell.execute_reply": "2022-08-10T12:23:08.850130Z",
     "shell.execute_reply.started": "2022-08-10T12:23:08.632931Z"
    },
    "pycharm": {
     "name": "#%%\n"
    }
   },
   "outputs": [],
   "source": [
    "gamma_samples_2 = jnp.load(\"npy/gamma_samples_2_nb_tamox_3.npy\")\n",
    "beta_samples_2 = jnp.load(\"npy/beta_samples_2_nb_tamox_3.npy\")"
   ]
  },
  {
   "cell_type": "code",
   "execution_count": 53,
   "id": "b28a8b20-c932-41f4-9378-808576892e4d",
   "metadata": {
    "execution": {
     "iopub.execute_input": "2022-08-09T22:36:22.962255Z",
     "iopub.status.busy": "2022-08-09T22:36:22.962057Z",
     "iopub.status.idle": "2022-08-09T22:37:02.827161Z",
     "shell.execute_reply": "2022-08-09T22:37:02.826208Z",
     "shell.execute_reply.started": "2022-08-09T22:36:22.962216Z"
    },
    "pycharm": {
     "name": "#%%\n"
    }
   },
   "outputs": [
    {
     "data": {
      "text/plain": [
       "array([[<AxesSubplot:title={'center':'beta'}>,\n",
       "        <AxesSubplot:title={'center':'beta'}>]], dtype=object)"
      ]
     },
     "execution_count": 53,
     "metadata": {},
     "output_type": "execute_result"
    },
    {
     "data": {
      "image/png": "[encoded data removed]",
      "text/plain": [
       "<Figure size 864x144 with 2 Axes>"
      ]
     },
     "metadata": {
      "needs_background": "light"
     },
     "output_type": "display_data"
    }
   ],
   "source": [
    "import arviz as az\n",
    "infr_data = az.from_numpyro(mcmc_1)\n",
    "az.plot_trace(infr_data, var_names=[\"beta\"])"
   ]
  },
  {
   "cell_type": "code",
   "execution_count": 40,
   "id": "61217845-32f0-45c3-9a9c-664bd9578138",
   "metadata": {
    "execution": {
     "iopub.execute_input": "2022-08-10T12:24:02.685244Z",
     "iopub.status.busy": "2022-08-10T12:24:02.684724Z",
     "iopub.status.idle": "2022-08-10T12:24:03.181446Z",
     "shell.execute_reply": "2022-08-10T12:24:03.180528Z",
     "shell.execute_reply.started": "2022-08-10T12:24:02.685217Z"
    },
    "pycharm": {
     "name": "#%%\n"
    }
   },
   "outputs": [
    {
     "data": {
      "text/plain": "156"
     },
     "execution_count": 40,
     "metadata": {},
     "output_type": "execute_result"
    }
   ],
   "source": [
    "idx_2 = jnp.squeeze(jnp.argwhere((jnp.sum(gamma_samples_2, axis=0) / 6000) > 0.3))\n",
    "len(idx_2)"
   ]
  },
  {
   "cell_type": "code",
   "execution_count": null,
   "id": "e3aab8f0-2fc2-4d22-b82e-bb2323b5fed7",
   "metadata": {
    "execution": {
     "iopub.execute_input": "2022-08-10T12:24:13.694612Z",
     "iopub.status.busy": "2022-08-10T12:24:13.694275Z",
     "iopub.status.idle": "2022-08-10T12:24:13.704742Z",
     "shell.execute_reply": "2022-08-10T12:24:13.703820Z",
     "shell.execute_reply.started": "2022-08-10T12:24:13.694588Z"
    },
    "pycharm": {
     "name": "#%%\n",
     "is_executing": true
    }
   },
   "outputs": [],
   "source": [
    "np.count_nonzero(J_1[idx_2,:][:,idx_2])"
   ]
  },
  {
   "cell_type": "code",
   "execution_count": 54,
   "id": "08f69d4f-5b31-4686-a5ca-c6d52f82c156",
   "metadata": {
    "execution": {
     "iopub.execute_input": "2022-08-09T22:52:23.028393Z",
     "iopub.status.busy": "2022-08-09T22:52:23.027401Z",
     "iopub.status.idle": "2022-08-09T22:52:23.043343Z",
     "shell.execute_reply": "2022-08-09T22:52:23.042224Z",
     "shell.execute_reply.started": "2022-08-09T22:52:23.028363Z"
    },
    "pycharm": {
     "name": "#%%\n"
    }
   },
   "outputs": [
    {
     "name": "stdout",
     "output_type": "stream",
     "text": [
      "train auc: 0.999822695035461\n",
      "test auc: 0.7245926539629935\n"
     ]
    }
   ],
   "source": [
    "from sklearn.metrics import roc_auc_score\n",
    "print(f\"train auc: {roc_auc_score(y_train, logistic(X_train[:,idx_1] @ (jnp.mean(beta_samples_1[:,idx_1], axis=0))))}\")\n",
    "print(f\"test auc: {roc_auc_score(y_test, logistic(X_test[:, idx_1] @ (jnp.mean(beta_samples_1[:, idx_1], axis=0))))}\")"
   ]
  },
  {
   "cell_type": "code",
   "execution_count": 52,
   "outputs": [
    {
     "name": "stdout",
     "output_type": "stream",
     "text": [
      "train auc: 0.9979229989868288\n",
      "test auc: 0.7148577740955537\n"
     ]
    }
   ],
   "source": [
    "print(f\"train auc: {roc_auc_score(y_train, logistic(X_train[:,idx_2] @ (jnp.mean(beta_samples_1[:,idx_2], axis=0))))}\")\n",
    "print(f\"test auc: {roc_auc_score(y_test, logistic(X_test[:, idx_2] @ (jnp.mean(beta_samples_1[:, idx_2], axis=0))))}\")"
   ],
   "metadata": {
    "collapsed": false,
    "pycharm": {
     "name": "#%%\n"
    }
   }
  },
  {
   "cell_type": "code",
   "execution_count": 26,
   "id": "eed815a7-0d5f-42fb-a94d-677e0f3473ca",
   "metadata": {
    "execution": {
     "iopub.execute_input": "2022-08-09T22:49:02.371986Z",
     "iopub.status.busy": "2022-08-09T22:49:02.371620Z",
     "iopub.status.idle": "2022-08-09T22:49:02.531179Z",
     "shell.execute_reply": "2022-08-09T22:49:02.530370Z",
     "shell.execute_reply.started": "2022-08-09T22:49:02.371961Z"
    },
    "pycharm": {
     "name": "#%%\n"
    }
   },
   "outputs": [
    {
     "name": "stderr",
     "output_type": "stream",
     "text": [
      "  0%|          | 0/1 [00:00<?, ?it/s]/usr/local/lib/python3.9/dist-packages/jax/_src/numpy/lax_numpy.py:4488: UserWarning: Explicitly requested dtype <class 'numpy.int64'> requested in astype is not available, and will be truncated to dtype int32. To enable more dtypes, set the jax_enable_x64 configuration option or the JAX_ENABLE_X64 shell environment variable. See https://github.com/google/jax#current-gotchas for more.\n",
      "  lax_internal._check_user_dtype_supported(dtype, \"astype\")\n",
      "100%|██████████| 1/1 [00:01<00:00,  1.41s/it]\n"
     ]
    },
    {
     "data": {
      "text/plain": "   log_cv_score  log_test_score\n0      0.975847        0.718448",
      "text/html": "<div>\n<style scoped>\n    .dataframe tbody tr th:only-of-type {\n        vertical-align: middle;\n    }\n\n    .dataframe tbody tr th {\n        vertical-align: top;\n    }\n\n    .dataframe thead th {\n        text-align: right;\n    }\n</style>\n<table border=\"1\" class=\"dataframe\">\n  <thead>\n    <tr style=\"text-align: right;\">\n      <th></th>\n      <th>log_cv_score</th>\n      <th>log_test_score</th>\n    </tr>\n  </thead>\n  <tbody>\n    <tr>\n      <th>0</th>\n      <td>0.975847</td>\n      <td>0.718448</td>\n    </tr>\n  </tbody>\n</table>\n</div>"
     },
     "execution_count": 26,
     "metadata": {},
     "output_type": "execute_result"
    }
   ],
   "source": [
    "run_fs_logreg(X_train, X_test, y_train, y_test, seed, [idx_1])"
   ]
  },
  {
   "cell_type": "code",
   "execution_count": 27,
   "id": "d2ab346a-5fed-4a36-ae7e-64c62a0e1969",
   "metadata": {
    "execution": {
     "iopub.execute_input": "2022-08-09T22:49:03.955397Z",
     "iopub.status.busy": "2022-08-09T22:49:03.954973Z",
     "iopub.status.idle": "2022-08-09T22:49:04.756851Z",
     "shell.execute_reply": "2022-08-09T22:49:04.755947Z",
     "shell.execute_reply.started": "2022-08-09T22:49:03.955397Z"
    },
    "pycharm": {
     "name": "#%%\n"
    }
   },
   "outputs": [
    {
     "name": "stderr",
     "output_type": "stream",
     "text": [
      "  0%|          | 0/1 [00:00<?, ?it/s]/usr/local/lib/python3.9/dist-packages/jax/_src/numpy/lax_numpy.py:4488: UserWarning: Explicitly requested dtype <class 'numpy.int64'> requested in astype is not available, and will be truncated to dtype int32. To enable more dtypes, set the jax_enable_x64 configuration option or the JAX_ENABLE_X64 shell environment variable. See https://github.com/google/jax#current-gotchas for more.\n",
      "  lax_internal._check_user_dtype_supported(dtype, \"astype\")\n",
      "100%|██████████| 1/1 [00:00<00:00,  2.07it/s]\n"
     ]
    },
    {
     "data": {
      "text/plain": "   log_cv_score  log_test_score\n0      0.975808        0.712787",
      "text/html": "<div>\n<style scoped>\n    .dataframe tbody tr th:only-of-type {\n        vertical-align: middle;\n    }\n\n    .dataframe tbody tr th {\n        vertical-align: top;\n    }\n\n    .dataframe thead th {\n        text-align: right;\n    }\n</style>\n<table border=\"1\" class=\"dataframe\">\n  <thead>\n    <tr style=\"text-align: right;\">\n      <th></th>\n      <th>log_cv_score</th>\n      <th>log_test_score</th>\n    </tr>\n  </thead>\n  <tbody>\n    <tr>\n      <th>0</th>\n      <td>0.975808</td>\n      <td>0.712787</td>\n    </tr>\n  </tbody>\n</table>\n</div>"
     },
     "execution_count": 27,
     "metadata": {},
     "output_type": "execute_result"
    }
   ],
   "source": [
    "run_fs_logreg(X_train, X_test, y_train, y_test, seed, [idx_2])"
   ]
  },
  {
   "cell_type": "code",
   "execution_count": 28,
   "id": "a3461894-eca7-4cd3-b515-d159c65de124",
   "metadata": {
    "execution": {
     "iopub.execute_input": "2022-08-09T22:44:41.757625Z",
     "iopub.status.busy": "2022-08-09T22:44:41.757283Z",
     "iopub.status.idle": "2022-08-09T22:44:42.655201Z",
     "shell.execute_reply": "2022-08-09T22:44:42.654366Z",
     "shell.execute_reply.started": "2022-08-09T22:44:41.757601Z"
    },
    "pycharm": {
     "name": "#%%\n"
    }
   },
   "outputs": [
    {
     "name": "stderr",
     "output_type": "stream",
     "text": [
      "  0%|          | 0/1 [00:00<?, ?it/s]/usr/local/lib/python3.9/dist-packages/jax/_src/numpy/lax_numpy.py:4488: UserWarning: Explicitly requested dtype <class 'numpy.int64'> requested in astype is not available, and will be truncated to dtype int32. To enable more dtypes, set the jax_enable_x64 configuration option or the JAX_ENABLE_X64 shell environment variable. See https://github.com/google/jax#current-gotchas for more.\n",
      "  lax_internal._check_user_dtype_supported(dtype, \"astype\")\n",
      "/usr/local/lib/python3.9/dist-packages/sklearn/linear_model/_logistic.py:444: ConvergenceWarning: lbfgs failed to converge (status=1):\n",
      "STOP: TOTAL NO. of ITERATIONS REACHED LIMIT.\n",
      "\n",
      "Increase the number of iterations (max_iter) or scale the data as shown in:\n",
      "    https://scikit-learn.org/stable/modules/preprocessing.html\n",
      "Please also refer to the documentation for alternative solver options:\n",
      "    https://scikit-learn.org/stable/modules/linear_model.html#logistic-regression\n",
      "  n_iter_i = _check_optimize_result(\n",
      "/usr/local/lib/python3.9/dist-packages/sklearn/linear_model/_logistic.py:444: ConvergenceWarning: lbfgs failed to converge (status=1):\n",
      "STOP: TOTAL NO. of ITERATIONS REACHED LIMIT.\n",
      "\n",
      "Increase the number of iterations (max_iter) or scale the data as shown in:\n",
      "    https://scikit-learn.org/stable/modules/preprocessing.html\n",
      "Please also refer to the documentation for alternative solver options:\n",
      "    https://scikit-learn.org/stable/modules/linear_model.html#logistic-regression\n",
      "  n_iter_i = _check_optimize_result(\n",
      "/usr/local/lib/python3.9/dist-packages/sklearn/linear_model/_logistic.py:444: ConvergenceWarning: lbfgs failed to converge (status=1):\n",
      "STOP: TOTAL NO. of ITERATIONS REACHED LIMIT.\n",
      "\n",
      "Increase the number of iterations (max_iter) or scale the data as shown in:\n",
      "    https://scikit-learn.org/stable/modules/preprocessing.html\n",
      "Please also refer to the documentation for alternative solver options:\n",
      "    https://scikit-learn.org/stable/modules/linear_model.html#logistic-regression\n",
      "  n_iter_i = _check_optimize_result(\n",
      "/usr/local/lib/python3.9/dist-packages/sklearn/linear_model/_logistic.py:444: ConvergenceWarning: lbfgs failed to converge (status=1):\n",
      "STOP: TOTAL NO. of ITERATIONS REACHED LIMIT.\n",
      "\n",
      "Increase the number of iterations (max_iter) or scale the data as shown in:\n",
      "    https://scikit-learn.org/stable/modules/preprocessing.html\n",
      "Please also refer to the documentation for alternative solver options:\n",
      "    https://scikit-learn.org/stable/modules/linear_model.html#logistic-regression\n",
      "  n_iter_i = _check_optimize_result(\n",
      "/usr/local/lib/python3.9/dist-packages/sklearn/linear_model/_logistic.py:444: ConvergenceWarning: lbfgs failed to converge (status=1):\n",
      "STOP: TOTAL NO. of ITERATIONS REACHED LIMIT.\n",
      "\n",
      "Increase the number of iterations (max_iter) or scale the data as shown in:\n",
      "    https://scikit-learn.org/stable/modules/preprocessing.html\n",
      "Please also refer to the documentation for alternative solver options:\n",
      "    https://scikit-learn.org/stable/modules/linear_model.html#logistic-regression\n",
      "  n_iter_i = _check_optimize_result(\n",
      "/usr/local/lib/python3.9/dist-packages/sklearn/linear_model/_logistic.py:444: ConvergenceWarning: lbfgs failed to converge (status=1):\n",
      "STOP: TOTAL NO. of ITERATIONS REACHED LIMIT.\n",
      "\n",
      "Increase the number of iterations (max_iter) or scale the data as shown in:\n",
      "    https://scikit-learn.org/stable/modules/preprocessing.html\n",
      "Please also refer to the documentation for alternative solver options:\n",
      "    https://scikit-learn.org/stable/modules/linear_model.html#logistic-regression\n",
      "  n_iter_i = _check_optimize_result(\n",
      "100%|██████████| 1/1 [00:00<00:00,  1.67it/s]\n"
     ]
    },
    {
     "data": {
      "text/plain": "   log_cv_score  log_test_score\n0      0.754433        0.711544",
      "text/html": "<div>\n<style scoped>\n    .dataframe tbody tr th:only-of-type {\n        vertical-align: middle;\n    }\n\n    .dataframe tbody tr th {\n        vertical-align: top;\n    }\n\n    .dataframe thead th {\n        text-align: right;\n    }\n</style>\n<table border=\"1\" class=\"dataframe\">\n  <thead>\n    <tr style=\"text-align: right;\">\n      <th></th>\n      <th>log_cv_score</th>\n      <th>log_test_score</th>\n    </tr>\n  </thead>\n  <tbody>\n    <tr>\n      <th>0</th>\n      <td>0.754433</td>\n      <td>0.711544</td>\n    </tr>\n  </tbody>\n</table>\n</div>"
     },
     "execution_count": 28,
     "metadata": {},
     "output_type": "execute_result"
    }
   ],
   "source": [
    "run_fs_logreg(X_train, X_test, y_train, y_test, seed, [idx_sig])"
   ]
  },
  {
   "cell_type": "markdown",
   "source": [
    "### Let's try with p val < 5% filter"
   ],
   "metadata": {
    "collapsed": false,
    "pycharm": {
     "name": "#%% md\n"
    }
   }
  },
  {
   "cell_type": "code",
   "execution_count": 29,
   "id": "b366fe26-0f4e-4390-8760-dd24cbef5dcf",
   "metadata": {
    "pycharm": {
     "name": "#%%\n"
    }
   },
   "outputs": [
    {
     "name": "stdout",
     "output_type": "stream",
     "text": [
      "Total of 1490 variables are significant (p_val = 0.05)\n"
     ]
    }
   ],
   "source": [
    "idx_sig_2 = fisher_exact_test(X_train_df, y_train_df, 0.05)\n",
    "idx_sig_2 = np.squeeze(idx_sig_2)\n",
    "jnp.save(\"npy/idx_sig_2.npy\", idx_sig_2)"
   ]
  },
  {
   "cell_type": "code",
   "execution_count": 30,
   "outputs": [],
   "source": [
    "idx_sig_2 = jnp.load(\"npy/idx_sig_2.npy\")"
   ],
   "metadata": {
    "collapsed": false,
    "pycharm": {
     "name": "#%%\n"
    }
   }
  },
  {
   "cell_type": "code",
   "execution_count": 64,
   "outputs": [
    {
     "data": {
      "text/plain": "     4111  4110  1109  2637  2642  5251  881  2886  28316  6795  ...  7596  \\\n41      1     0     0     0     1     1    1     1      1     1  ...     0   \n585     0     1     0     0     0     0    0     0      0     0  ...     0   \n349     0     0     0     1     1     0    0     1      1     0  ...     1   \n494     0     0     0     1     1     0    0     0      1     0  ...     1   \n571     0     1     0     0     0     1    1     0      0     0  ...     1   \n\n     26036  57711  80095  79943  7553  7625  7637  741  23140  \n41       1      1      1      1     1     1     0    0      0  \n585      0      0      1      0     0     0     1    1      1  \n349      1      1      0      0     0     0     0    0      1  \n494      1      0      0      0     0     0     0    0      0  \n571      0      1      1      0     0     0     1    1      0  \n\n[5 rows x 1490 columns]",
      "text/html": "<div>\n<style scoped>\n    .dataframe tbody tr th:only-of-type {\n        vertical-align: middle;\n    }\n\n    .dataframe tbody tr th {\n        vertical-align: top;\n    }\n\n    .dataframe thead th {\n        text-align: right;\n    }\n</style>\n<table border=\"1\" class=\"dataframe\">\n  <thead>\n    <tr style=\"text-align: right;\">\n      <th></th>\n      <th>4111</th>\n      <th>4110</th>\n      <th>1109</th>\n      <th>2637</th>\n      <th>2642</th>\n      <th>5251</th>\n      <th>881</th>\n      <th>2886</th>\n      <th>28316</th>\n      <th>6795</th>\n      <th>...</th>\n      <th>7596</th>\n      <th>26036</th>\n      <th>57711</th>\n      <th>80095</th>\n      <th>79943</th>\n      <th>7553</th>\n      <th>7625</th>\n      <th>7637</th>\n      <th>741</th>\n      <th>23140</th>\n    </tr>\n  </thead>\n  <tbody>\n    <tr>\n      <th>41</th>\n      <td>1</td>\n      <td>0</td>\n      <td>0</td>\n      <td>0</td>\n      <td>1</td>\n      <td>1</td>\n      <td>1</td>\n      <td>1</td>\n      <td>1</td>\n      <td>1</td>\n      <td>...</td>\n      <td>0</td>\n      <td>1</td>\n      <td>1</td>\n      <td>1</td>\n      <td>1</td>\n      <td>1</td>\n      <td>1</td>\n      <td>0</td>\n      <td>0</td>\n      <td>0</td>\n    </tr>\n    <tr>\n      <th>585</th>\n      <td>0</td>\n      <td>1</td>\n      <td>0</td>\n      <td>0</td>\n      <td>0</td>\n      <td>0</td>\n      <td>0</td>\n      <td>0</td>\n      <td>0</td>\n      <td>0</td>\n      <td>...</td>\n      <td>0</td>\n      <td>0</td>\n      <td>0</td>\n      <td>1</td>\n      <td>0</td>\n      <td>0</td>\n      <td>0</td>\n      <td>1</td>\n      <td>1</td>\n      <td>1</td>\n    </tr>\n    <tr>\n      <th>349</th>\n      <td>0</td>\n      <td>0</td>\n      <td>0</td>\n      <td>1</td>\n      <td>1</td>\n      <td>0</td>\n      <td>0</td>\n      <td>1</td>\n      <td>1</td>\n      <td>0</td>\n      <td>...</td>\n      <td>1</td>\n      <td>1</td>\n      <td>1</td>\n      <td>0</td>\n      <td>0</td>\n      <td>0</td>\n      <td>0</td>\n      <td>0</td>\n      <td>0</td>\n      <td>1</td>\n    </tr>\n    <tr>\n      <th>494</th>\n      <td>0</td>\n      <td>0</td>\n      <td>0</td>\n      <td>1</td>\n      <td>1</td>\n      <td>0</td>\n      <td>0</td>\n      <td>0</td>\n      <td>1</td>\n      <td>0</td>\n      <td>...</td>\n      <td>1</td>\n      <td>1</td>\n      <td>0</td>\n      <td>0</td>\n      <td>0</td>\n      <td>0</td>\n      <td>0</td>\n      <td>0</td>\n      <td>0</td>\n      <td>0</td>\n    </tr>\n    <tr>\n      <th>571</th>\n      <td>0</td>\n      <td>1</td>\n      <td>0</td>\n      <td>0</td>\n      <td>0</td>\n      <td>1</td>\n      <td>1</td>\n      <td>0</td>\n      <td>0</td>\n      <td>0</td>\n      <td>...</td>\n      <td>1</td>\n      <td>0</td>\n      <td>1</td>\n      <td>1</td>\n      <td>0</td>\n      <td>0</td>\n      <td>0</td>\n      <td>1</td>\n      <td>1</td>\n      <td>0</td>\n    </tr>\n  </tbody>\n</table>\n<p>5 rows × 1490 columns</p>\n</div>"
     },
     "execution_count": 64,
     "metadata": {},
     "output_type": "execute_result"
    }
   ],
   "source": [
    "X_train_sig_2_df, X_test_sig_2_df = X_train_df.iloc[:, idx_sig_2], X_test_df.iloc[:, idx_sig_2]\n",
    "X_train_sig_2_df.head()"
   ],
   "metadata": {
    "collapsed": false,
    "pycharm": {
     "name": "#%%\n"
    }
   }
  },
  {
   "cell_type": "code",
   "execution_count": 67,
   "outputs": [],
   "source": [
    "X_train_2, X_test_2 = jax.device_put(X_train_sig_2_df.to_numpy()), jax.device_put(X_test_sig_2_df.to_numpy())"
   ],
   "metadata": {
    "collapsed": false,
    "pycharm": {
     "name": "#%%\n"
    }
   }
  },
  {
   "cell_type": "code",
   "execution_count": 56,
   "outputs": [
    {
     "data": {
      "text/plain": "218"
     },
     "execution_count": 56,
     "metadata": {},
     "output_type": "execute_result"
    }
   ],
   "source": [
    "J_2 = build_network(X_train_sig_2_df)\n",
    "np.fill_diagonal(J_2, 0.)\n",
    "p2 = J_2.shape[1]\n",
    "jnp.save(\"npy/J_mat_2.npy\", J_2)\n",
    "np.count_nonzero(J_2)"
   ],
   "metadata": {
    "collapsed": false,
    "pycharm": {
     "name": "#%%\n"
    }
   }
  },
  {
   "cell_type": "code",
   "execution_count": 72,
   "outputs": [
    {
     "data": {
      "text/plain": "(1490, 1490)"
     },
     "execution_count": 72,
     "metadata": {},
     "output_type": "execute_result"
    }
   ],
   "source": [
    "(10.*np.identity(p2)).shape"
   ],
   "metadata": {
    "collapsed": false,
    "pycharm": {
     "name": "#%%\n"
    }
   }
  },
  {
   "cell_type": "code",
   "execution_count": 74,
   "outputs": [
    {
     "name": "stderr",
     "output_type": "stream",
     "text": [
      "/tmp/ipykernel_192/907349180.py:2: UserWarning: There are not enough devices to run parallel chains: expected 3 but got 1. Chains will be drawn sequentially. If you are running MCMC in CPU, consider using `numpyro.set_host_device_count(3)` at the beginning of your program. You can double-check how many devices are available in your system using `jax.local_device_count()`.\n",
      "  mcmc_3 = MCMC(kernel_3, num_warmup=500, num_samples=2000,\n",
      "sample: 100%|██████████| 2500/2500 [27:42<00:00,  1.50it/s, 1814 steps of size 7.36e-03. acc. prob=0.81]  \n",
      "sample: 100%|██████████| 2500/2500 [26:57<00:00,  1.55it/s, 1611 steps of size 1.12e-02. acc. prob=0.72]  \n",
      "sample: 100%|██████████| 2500/2500 [40:29<00:00,  1.03it/s, 1531 steps of size 1.56e-02. acc. prob=0.54]    \n"
     ]
    }
   ],
   "source": [
    "kernel_3 = MixedHMC(HMC(model, target_accept_prob=0.6, step_size=1e-5), random_walk=False)\n",
    "mcmc_3 = MCMC(kernel_3, num_warmup=500, num_samples=2000,\n",
    "              num_chains=3, progress_bar=True, )\n",
    "mcmc_3.run(rng_key, X_train_2, y_train, 10.*np.identity(p2), J_2, 1.0, 1.0)"
   ],
   "metadata": {
    "collapsed": false,
    "pycharm": {
     "name": "#%%\n"
    }
   }
  },
  {
   "cell_type": "code",
   "execution_count": 57,
   "outputs": [],
   "source": [
    "J_control_2 = jnp.zeros((p2, p2))"
   ],
   "metadata": {
    "collapsed": false,
    "pycharm": {
     "name": "#%%\n"
    }
   }
  },
  {
   "cell_type": "code",
   "execution_count": null,
   "outputs": [
    {
     "name": "stderr",
     "output_type": "stream",
     "text": [
      "/tmp/ipykernel_192/2822863688.py:2: UserWarning: There are not enough devices to run parallel chains: expected 3 but got 1. Chains will be drawn sequentially. If you are running MCMC in CPU, consider using `numpyro.set_host_device_count(3)` at the beginning of your program. You can double-check how many devices are available in your system using `jax.local_device_count()`.\n",
      "  mcmc_4 = MCMC(kernel_4, num_warmup=500, num_samples=2000,\n",
      "sample: 100%|██████████| 2500/2500 [23:56<00:00,  1.74it/s, 1646 steps of size 9.88e-03. acc. prob=0.76]  \n",
      "sample: 100%|██████████| 2500/2500 [24:27<00:00,  1.70it/s, 1742 steps of size 8.32e-03. acc. prob=0.80]  \n",
      "sample:  20%|██        | 508/2500 [11:09<17:31,  1.89it/s, 1567 steps of size 1.30e-02. acc. prob=0.72]    "
     ]
    }
   ],
   "source": [
    "kernel_4 = MixedHMC(HMC(model, target_accept_prob=0.6, step_size=1e-5), random_walk=False)\n",
    "mcmc_4 = MCMC(kernel_4, num_warmup=500, num_samples=2000,\n",
    "              num_chains=3, progress_bar=True, )\n",
    "mcmc_4.run(rng_key, X_train_2, y_train, 10.*np.identity(p2), J_control_2, 1.0, 1.0)"
   ],
   "metadata": {
    "collapsed": false,
    "pycharm": {
     "name": "#%%\n",
     "is_executing": true
    }
   }
  },
  {
   "cell_type": "code",
   "execution_count": 78,
   "outputs": [],
   "source": [
    "gamma_samples_3 = jax.device_get(mcmc_3.get_samples()[\"gamma\"])\n",
    "beta_samples_3 = jax.device_get(mcmc_3.get_samples()[\"beta\"])\n",
    "\n",
    "jnp.save(\"npy/gamma_samples_3_nb_tamox_3.npy\", gamma_samples_3)\n",
    "jnp.save(\"npy/beta_samples_3_nb_tamox_3.npy\", beta_samples_3)"
   ],
   "metadata": {
    "collapsed": false,
    "pycharm": {
     "name": "#%%\n"
    }
   }
  },
  {
   "cell_type": "code",
   "execution_count": 79,
   "outputs": [],
   "source": [
    "gamma_samples_4 = jax.device_get(mcmc_4.get_samples()[\"gamma\"])\n",
    "beta_samples_4 = jax.device_get(mcmc_4.get_samples()[\"beta\"])\n",
    "\n",
    "jnp.save(\"npy/gamma_samples_4_nb_tamox_3.npy\", gamma_samples_4)\n",
    "jnp.save(\"npy/beta_samples_4_nb_tamox_3.npy\", beta_samples_4)"
   ],
   "metadata": {
    "collapsed": false,
    "pycharm": {
     "name": "#%%\n"
    }
   }
  },
  {
   "cell_type": "code",
   "execution_count": 130,
   "outputs": [
    {
     "data": {
      "text/plain": "353"
     },
     "execution_count": 130,
     "metadata": {},
     "output_type": "execute_result"
    }
   ],
   "source": [
    "idx_3 = jnp.squeeze(jnp.argwhere((jnp.sum(gamma_samples_3, axis=0) / 6000) > 0.3))\n",
    "len(idx_3)"
   ],
   "metadata": {
    "collapsed": false,
    "pycharm": {
     "name": "#%%\n"
    }
   }
  },
  {
   "cell_type": "code",
   "execution_count": 131,
   "outputs": [
    {
     "data": {
      "text/plain": "218"
     },
     "execution_count": 131,
     "metadata": {},
     "output_type": "execute_result"
    }
   ],
   "source": [
    "np.count_nonzero(J_2[idx_3,:][:,idx_3])"
   ],
   "metadata": {
    "collapsed": false,
    "pycharm": {
     "name": "#%%\n"
    }
   }
  },
  {
   "cell_type": "code",
   "execution_count": 132,
   "outputs": [
    {
     "data": {
      "text/plain": "262"
     },
     "execution_count": 132,
     "metadata": {},
     "output_type": "execute_result"
    }
   ],
   "source": [
    "idx_4 = jnp.squeeze(jnp.argwhere((jnp.sum(gamma_samples_4, axis=0) / 6000) > 0.3))\n",
    "len(idx_4)"
   ],
   "metadata": {
    "collapsed": false,
    "pycharm": {
     "name": "#%%\n"
    }
   }
  },
  {
   "cell_type": "code",
   "execution_count": 133,
   "outputs": [
    {
     "data": {
      "text/plain": "2"
     },
     "execution_count": 133,
     "metadata": {},
     "output_type": "execute_result"
    }
   ],
   "source": [
    "np.count_nonzero(J_2[idx_4,:][:,idx_4])"
   ],
   "metadata": {
    "collapsed": false,
    "pycharm": {
     "name": "#%%\n"
    }
   }
  },
  {
   "cell_type": "code",
   "execution_count": 134,
   "outputs": [
    {
     "name": "stdout",
     "output_type": "stream",
     "text": [
      "train auc: 0.9999493414387031\n",
      "test auc: 0.7102319801159901\n"
     ]
    }
   ],
   "source": [
    "from sklearn.metrics import roc_auc_score\n",
    "print(f\"train auc: {roc_auc_score(y_train, logistic(X_train_2[:,idx_3] @ (jnp.mean(beta_samples_3[:,idx_3], axis=0))))}\")\n",
    "print(f\"test auc: {roc_auc_score(y_test, logistic(X_test_2[:, idx_3] @ (jnp.mean(beta_samples_3[:, idx_3], axis=0))))}\")"
   ],
   "metadata": {
    "collapsed": false,
    "pycharm": {
     "name": "#%%\n"
    }
   }
  },
  {
   "cell_type": "code",
   "execution_count": 138,
   "outputs": [
    {
     "name": "stderr",
     "output_type": "stream",
     "text": [
      "  0%|          | 0/1 [00:00<?, ?it/s]/usr/local/lib/python3.9/dist-packages/jax/_src/numpy/lax_numpy.py:4488: UserWarning: Explicitly requested dtype <class 'numpy.int64'> requested in astype is not available, and will be truncated to dtype int32. To enable more dtypes, set the jax_enable_x64 configuration option or the JAX_ENABLE_X64 shell environment variable. See https://github.com/google/jax#current-gotchas for more.\n",
      "  lax_internal._check_user_dtype_supported(dtype, \"astype\")\n",
      "/usr/local/lib/python3.9/dist-packages/sklearn/linear_model/_logistic.py:444: ConvergenceWarning: lbfgs failed to converge (status=1):\n",
      "STOP: TOTAL NO. of ITERATIONS REACHED LIMIT.\n",
      "\n",
      "Increase the number of iterations (max_iter) or scale the data as shown in:\n",
      "    https://scikit-learn.org/stable/modules/preprocessing.html\n",
      "Please also refer to the documentation for alternative solver options:\n",
      "    https://scikit-learn.org/stable/modules/linear_model.html#logistic-regression\n",
      "  n_iter_i = _check_optimize_result(\n",
      "/usr/local/lib/python3.9/dist-packages/sklearn/linear_model/_logistic.py:444: ConvergenceWarning: lbfgs failed to converge (status=1):\n",
      "STOP: TOTAL NO. of ITERATIONS REACHED LIMIT.\n",
      "\n",
      "Increase the number of iterations (max_iter) or scale the data as shown in:\n",
      "    https://scikit-learn.org/stable/modules/preprocessing.html\n",
      "Please also refer to the documentation for alternative solver options:\n",
      "    https://scikit-learn.org/stable/modules/linear_model.html#logistic-regression\n",
      "  n_iter_i = _check_optimize_result(\n",
      "/usr/local/lib/python3.9/dist-packages/sklearn/linear_model/_logistic.py:444: ConvergenceWarning: lbfgs failed to converge (status=1):\n",
      "STOP: TOTAL NO. of ITERATIONS REACHED LIMIT.\n",
      "\n",
      "Increase the number of iterations (max_iter) or scale the data as shown in:\n",
      "    https://scikit-learn.org/stable/modules/preprocessing.html\n",
      "Please also refer to the documentation for alternative solver options:\n",
      "    https://scikit-learn.org/stable/modules/linear_model.html#logistic-regression\n",
      "  n_iter_i = _check_optimize_result(\n",
      "/usr/local/lib/python3.9/dist-packages/sklearn/linear_model/_logistic.py:444: ConvergenceWarning: lbfgs failed to converge (status=1):\n",
      "STOP: TOTAL NO. of ITERATIONS REACHED LIMIT.\n",
      "\n",
      "Increase the number of iterations (max_iter) or scale the data as shown in:\n",
      "    https://scikit-learn.org/stable/modules/preprocessing.html\n",
      "Please also refer to the documentation for alternative solver options:\n",
      "    https://scikit-learn.org/stable/modules/linear_model.html#logistic-regression\n",
      "  n_iter_i = _check_optimize_result(\n",
      "/usr/local/lib/python3.9/dist-packages/sklearn/linear_model/_logistic.py:444: ConvergenceWarning: lbfgs failed to converge (status=1):\n",
      "STOP: TOTAL NO. of ITERATIONS REACHED LIMIT.\n",
      "\n",
      "Increase the number of iterations (max_iter) or scale the data as shown in:\n",
      "    https://scikit-learn.org/stable/modules/preprocessing.html\n",
      "Please also refer to the documentation for alternative solver options:\n",
      "    https://scikit-learn.org/stable/modules/linear_model.html#logistic-regression\n",
      "  n_iter_i = _check_optimize_result(\n",
      "/usr/local/lib/python3.9/dist-packages/sklearn/linear_model/_logistic.py:444: ConvergenceWarning: lbfgs failed to converge (status=1):\n",
      "STOP: TOTAL NO. of ITERATIONS REACHED LIMIT.\n",
      "\n",
      "Increase the number of iterations (max_iter) or scale the data as shown in:\n",
      "    https://scikit-learn.org/stable/modules/preprocessing.html\n",
      "Please also refer to the documentation for alternative solver options:\n",
      "    https://scikit-learn.org/stable/modules/linear_model.html#logistic-regression\n",
      "  n_iter_i = _check_optimize_result(\n",
      "100%|██████████| 1/1 [00:00<00:00,  1.40it/s]\n"
     ]
    },
    {
     "data": {
      "text/plain": "   log_cv_score  log_test_score\n0      0.764903        0.736123",
      "text/html": "<div>\n<style scoped>\n    .dataframe tbody tr th:only-of-type {\n        vertical-align: middle;\n    }\n\n    .dataframe tbody tr th {\n        vertical-align: top;\n    }\n\n    .dataframe thead th {\n        text-align: right;\n    }\n</style>\n<table border=\"1\" class=\"dataframe\">\n  <thead>\n    <tr style=\"text-align: right;\">\n      <th></th>\n      <th>log_cv_score</th>\n      <th>log_test_score</th>\n    </tr>\n  </thead>\n  <tbody>\n    <tr>\n      <th>0</th>\n      <td>0.764903</td>\n      <td>0.736123</td>\n    </tr>\n  </tbody>\n</table>\n</div>"
     },
     "execution_count": 138,
     "metadata": {},
     "output_type": "execute_result"
    }
   ],
   "source": [
    "run_fs_logreg(X_train_2, X_test_2, y_train, y_test, seed, [idx_sig_2])"
   ],
   "metadata": {
    "collapsed": false,
    "pycharm": {
     "name": "#%%\n"
    }
   }
  },
  {
   "cell_type": "code",
   "execution_count": 139,
   "outputs": [
    {
     "name": "stderr",
     "output_type": "stream",
     "text": [
      "  0%|          | 0/1 [00:00<?, ?it/s]/usr/local/lib/python3.9/dist-packages/jax/_src/numpy/lax_numpy.py:4488: UserWarning: Explicitly requested dtype <class 'numpy.int64'> requested in astype is not available, and will be truncated to dtype int32. To enable more dtypes, set the jax_enable_x64 configuration option or the JAX_ENABLE_X64 shell environment variable. See https://github.com/google/jax#current-gotchas for more.\n",
      "  lax_internal._check_user_dtype_supported(dtype, \"astype\")\n",
      "100%|██████████| 1/1 [00:00<00:00,  7.03it/s]\n"
     ]
    },
    {
     "data": {
      "text/plain": "   log_cv_score  log_test_score\n0      0.984553         0.70464",
      "text/html": "<div>\n<style scoped>\n    .dataframe tbody tr th:only-of-type {\n        vertical-align: middle;\n    }\n\n    .dataframe tbody tr th {\n        vertical-align: top;\n    }\n\n    .dataframe thead th {\n        text-align: right;\n    }\n</style>\n<table border=\"1\" class=\"dataframe\">\n  <thead>\n    <tr style=\"text-align: right;\">\n      <th></th>\n      <th>log_cv_score</th>\n      <th>log_test_score</th>\n    </tr>\n  </thead>\n  <tbody>\n    <tr>\n      <th>0</th>\n      <td>0.984553</td>\n      <td>0.70464</td>\n    </tr>\n  </tbody>\n</table>\n</div>"
     },
     "execution_count": 139,
     "metadata": {},
     "output_type": "execute_result"
    }
   ],
   "source": [
    "run_fs_logreg(X_train_2, X_test_2, y_train, y_test, seed, [idx_3])"
   ],
   "metadata": {
    "collapsed": false,
    "pycharm": {
     "name": "#%%\n"
    }
   }
  },
  {
   "cell_type": "code",
   "execution_count": 140,
   "outputs": [
    {
     "name": "stderr",
     "output_type": "stream",
     "text": [
      "  0%|          | 0/1 [00:00<?, ?it/s]/usr/local/lib/python3.9/dist-packages/jax/_src/numpy/lax_numpy.py:4488: UserWarning: Explicitly requested dtype <class 'numpy.int64'> requested in astype is not available, and will be truncated to dtype int32. To enable more dtypes, set the jax_enable_x64 configuration option or the JAX_ENABLE_X64 shell environment variable. See https://github.com/google/jax#current-gotchas for more.\n",
      "  lax_internal._check_user_dtype_supported(dtype, \"astype\")\n",
      "100%|██████████| 1/1 [00:00<00:00,  7.46it/s]\n"
     ]
    },
    {
     "data": {
      "text/plain": "   log_cv_score  log_test_score\n0      0.988594        0.705606",
      "text/html": "<div>\n<style scoped>\n    .dataframe tbody tr th:only-of-type {\n        vertical-align: middle;\n    }\n\n    .dataframe tbody tr th {\n        vertical-align: top;\n    }\n\n    .dataframe thead th {\n        text-align: right;\n    }\n</style>\n<table border=\"1\" class=\"dataframe\">\n  <thead>\n    <tr style=\"text-align: right;\">\n      <th></th>\n      <th>log_cv_score</th>\n      <th>log_test_score</th>\n    </tr>\n  </thead>\n  <tbody>\n    <tr>\n      <th>0</th>\n      <td>0.988594</td>\n      <td>0.705606</td>\n    </tr>\n  </tbody>\n</table>\n</div>"
     },
     "execution_count": 140,
     "metadata": {},
     "output_type": "execute_result"
    }
   ],
   "source": [
    "run_fs_logreg(X_train_2, X_test_2, y_train, y_test, seed, [idx_4])"
   ],
   "metadata": {
    "collapsed": false,
    "pycharm": {
     "name": "#%%\n"
    }
   }
  },
  {
   "cell_type": "markdown",
   "source": [
    "### Runs with different seeds with and without background knowledge"
   ],
   "metadata": {
    "collapsed": false,
    "pycharm": {
     "name": "#%% md\n"
    }
   }
  },
  {
   "cell_type": "code",
   "execution_count": 15,
   "outputs": [],
   "source": [
    "thresholds = np.arange(0.1, 1.0, 0.1)"
   ],
   "metadata": {
    "collapsed": false,
    "pycharm": {
     "name": "#%%\n"
    }
   }
  },
  {
   "cell_type": "code",
   "execution_count": 16,
   "outputs": [],
   "source": [
    "import logging\n",
    "import sys\n",
    "import warnings\n",
    "warnings.filterwarnings(\"ignore\")\n",
    "\n",
    "def prepare_data(seed, X, y, p_val=0.01):\n",
    "    X_train, X_test, y_train, y_test = train_test_split(X, y, test_size=0.3, shuffle=True, stratify=y, random_state=seed)\n",
    "\n",
    "    idx_sig = np.squeeze(fisher_exact_test(X_train, y_train, p_val))\n",
    "    X_train_sig, X_test_sig = X_train.iloc[:,idx_sig], X_test.iloc[:,idx_sig]\n",
    "\n",
    "    jnp.save(f\"exp_data/npy/idx_sig_s_{seed}.npy\", idx_sig)\n",
    "\n",
    "    return X_train_sig, X_test_sig, y_train, y_test\n",
    "\n",
    "def setup_logger(seed):\n",
    "    logging.getLogger().handlers = []\n",
    "    logging.getLogger().setLevel(logging.NOTSET)\n",
    "\n",
    "    formatter = logging.Formatter(\"%(asctime)s [%(levelname)s], %(message)s\")\n",
    "\n",
    "    console = logging.StreamHandler(sys.stdout)\n",
    "    console.setLevel(logging.INFO)\n",
    "    console.setFormatter(formatter)\n",
    "    logging.getLogger().addHandler(console)\n",
    "\n",
    "    rotatingHandler = logging.handlers.RotatingFileHandler(filename=f\"exp_data/logs/log_s_{seed}.log\", maxBytes=(1048576*5),\n",
    "                                                           backupCount=7)\n",
    "    rotatingHandler.setLevel(logging.INFO)\n",
    "    rotatingHandler.setFormatter(formatter)\n",
    "    logging.getLogger().addHandler(rotatingHandler)\n",
    "    log = logging.getLogger()\n",
    "    return log\n",
    "\n",
    "def gamma_energy(gamma, J, eta, mu):\n",
    "    return eta*jnp.dot(jnp.dot(gamma.T, J), gamma) - mu*jnp.sum(gamma)\n",
    "\n",
    "def model(X, y, sigma, J, eta=1.0, mu=1.0):\n",
    "    p = X.shape[1]\n",
    "    L = np.linalg.cholesky(sigma)\n",
    "    z = npyro.sample('z', dist.Normal(np.zeros(p), 1))\n",
    "    beta = npyro.deterministic('beta', L @ z)\n",
    "    # beta = npyro.sample('beta', dist.MultivariateNormal(0, sigma))\n",
    "    gamma = npyro.sample('gamma', dist.Bernoulli(0.5*jnp.ones(p)))\n",
    "    npyro.factor('gamma_lgp', gamma_energy(gamma, J, eta, mu))\n",
    "    logits = npyro.deterministic(\"logits\", jnp.dot(X, (beta*gamma)))\n",
    "    # print(f\"Probs: {logits.shape}\")\n",
    "    likelihood = npyro.sample(\"y\", dist.Bernoulli(logits=logits),\n",
    "                              obs=y)"
   ],
   "metadata": {
    "collapsed": false,
    "pycharm": {
     "name": "#%%\n"
    }
   }
  },
  {
   "cell_type": "code",
   "execution_count": 17,
   "outputs": [],
   "source": [
    "\n",
    "def run_exp(X, y, seeds, jax_seeds):\n",
    "\n",
    "    num_warmup = 500\n",
    "    num_samples = 3000\n",
    "    num_chains = 3\n",
    "\n",
    "    for i, seed in enumerate(seeds):\n",
    "        np.random.seed(seed)\n",
    "        log = setup_logger(seed)\n",
    "        log.info(f\"========= Running seed - {seed} =========\")\n",
    "        X_train_sig, X_test_sig, y_train, y_test = prepare_data(seed, X, y)\n",
    "        J = build_network(X_train_sig)\n",
    "        p = J.shape[1]\n",
    "        np.fill_diagonal(J, 0.)\n",
    "        J_control = np.zeros((p, p))\n",
    "        log.info(f\"Num of sig feats - {p}\")\n",
    "        rng_key = jax_seeds[i]\n",
    "\n",
    "        X_train, X_test = jax.device_put(X_train_sig.to_numpy()), jax.device_put(X_test_sig.to_numpy())\n",
    "        y_train, y_test = jax.device_put(y_train.to_numpy()), jax.device_put(y_test.to_numpy())\n",
    "\n",
    "        # # Run exp with background graph\n",
    "        kernel_1 = MixedHMC(HMC(model, target_accept_prob=0.6, step_size=1e-5), random_walk=False)\n",
    "        mcmc_1 = MCMC(kernel_1, num_warmup=num_warmup, num_samples=num_samples,\n",
    "                      num_chains=num_chains, progress_bar=False)\n",
    "        mcmc_1.run(rng_key, X_train, y_train, 10.*np.identity(p), J, 1.0, 1.0)\n",
    "\n",
    "        # Run without background graph\n",
    "        kernel_2 = MixedHMC(HMC(model, target_accept_prob=0.6, step_size=1e-5), random_walk=False)\n",
    "        mcmc_2 = MCMC(kernel_2, num_warmup=num_warmup, num_samples=num_samples,\n",
    "                      num_chains=num_chains, progress_bar=False)\n",
    "\n",
    "        mcmc_2.run(rng_key, X_train, y_train, 10.*np.identity(p), J_control, 1.0, 1.0)\n",
    "\n",
    "\n",
    "        gamma_samples_1 = jax.device_get(mcmc_1.get_samples()[\"gamma\"])\n",
    "        beta_samples_1 = jax.device_get(mcmc_1.get_samples()[\"beta\"])\n",
    "        gamma_samples_2 = jax.device_get(mcmc_2.get_samples()[\"gamma\"])\n",
    "        beta_samples_2 = jax.device_get(mcmc_2.get_samples()[\"beta\"])\n",
    "\n",
    "        jnp.save(f\"exp_data/npy/gamma_samples_1_s_{seed}.npy\", gamma_samples_1)\n",
    "        jnp.save(f\"exp_data/npy/beta_samples_1_s_{seed}.npy\", beta_samples_1)\n",
    "\n",
    "        jnp.save(f\"exp_data/npy/gamma_samples_2_s_{seed}.npy\", gamma_samples_2)\n",
    "        jnp.save(f\"exp_data/npy/beta_samples_2_s_{seed}.npy\", beta_samples_2)\n",
    "\n",
    "\n",
    "        jnp.save(f\"exp_data/npy/J_mat_s_{seed}.npy\", J)\n",
    "\n",
    "\n",
    "        gamma_ess_1 = get_ess(num_chains, gamma_samples_1)\n",
    "        beta_ess_1 = get_ess(num_chains, beta_samples_1)\n",
    "        gamma_ess_2 = get_ess(num_chains, gamma_samples_2)\n",
    "        beta_ess_2 = get_ess(num_chains, beta_samples_2)\n",
    "\n",
    "        log.info(f\"MCMC 1 ess stats: gamma ess - {gamma_ess_1}, beta ess - {beta_ess_1}\")\n",
    "        log.info(f\"MCMC 2 ess stats: gamma ess - {gamma_ess_2}, beta ess - {beta_ess_2}\")\n",
    "\n",
    "        N = num_chains * num_samples\n",
    "\n",
    "        res_bkg_ls = []\n",
    "        res_no_bkg_ls = []\n",
    "\n",
    "        res_beta_bkg_ls = []\n",
    "        res_beta_no_bkg_ls = []\n",
    "\n",
    "        for t in thresholds:\n",
    "            idx_1 = jnp.squeeze(jnp.argwhere((jnp.sum(gamma_samples_1, axis=0) / N) > t))\n",
    "            idx_2 = jnp.squeeze(jnp.argwhere((jnp.sum(gamma_samples_2, axis=0) / N) > t))\n",
    "\n",
    "            num_edges_1 = jnp.count_nonzero(J[idx_1,:][:,idx_1]) if idx_1.size > 1 else 0\n",
    "            num_edges_2 = jnp.count_nonzero(J[idx_2,:][:,idx_2]) if idx_2.size > 1 else 0\n",
    "\n",
    "            log.info(f\"thresh - {t:.2f}, length idx_1: {idx_1.size}, length idx_2: {idx_2.size}, | num in J idx_1: {num_edges_1}, \"\n",
    "                          f\"num in J idx_2: {num_edges_2}\")\n",
    "\n",
    "            res_idx_1_df = run_fs_logreg(X_train, X_test, y_train, y_test, [idx_1])\n",
    "            res_idx_2_df = run_fs_logreg(X_train, X_test, y_train, y_test, [idx_2])\n",
    "\n",
    "            res_bkg_ls.append(res_idx_1_df)\n",
    "            res_no_bkg_ls.append(res_idx_2_df)\n",
    "\n",
    "            beta_sel_1 = jnp.mean(beta_samples_1[:,idx_1], axis=0)\n",
    "            beta_sel_2 = jnp.mean(beta_samples_2[:,idx_2], axis=0)\n",
    "            result_beta_1 = {\"train_auc_score\": [], \"test_auc_score\": []}\n",
    "            result_beta_2 = {\"train_auc_score\": [], \"test_auc_score\": []}\n",
    "\n",
    "            if idx_1.size == 1:\n",
    "                beta_sel_1 = beta_sel_1.reshape(-1, 1)\n",
    "                X_train_idx_1_sel = X_train[:,idx_1].reshape(-1, 1)\n",
    "                X_test_idx_1_sel = X_test[:,idx_1].reshape(-1, 1)\n",
    "\n",
    "            else:\n",
    "                X_train_idx_1_sel = X_train[:,idx_1]\n",
    "                X_test_idx_1_sel = X_test[:,idx_1]\n",
    "\n",
    "            if idx_2.size == 1:\n",
    "                beta_sel_2 = beta_sel_2.reshape(-1, 1)\n",
    "                X_train_idx_2_sel = X_train[:,idx_2].reshape(-1, 1)\n",
    "                X_test_idx_2_sel = X_test[:,idx_2].reshape(-1, 1)\n",
    "\n",
    "            else:\n",
    "                X_train_idx_2_sel = X_train[:,idx_2]\n",
    "                X_test_idx_2_sel = X_test[:,idx_2]\n",
    "\n",
    "            train_roc_1 = roc_auc_score(y_train, logistic((X_train_idx_1_sel @ beta_sel_1)))\n",
    "            test_roc_1 = roc_auc_score(y_test, logistic((X_test_idx_1_sel @ beta_sel_1)))\n",
    "            result_beta_1[\"train_auc_score\"].append(train_roc_1)\n",
    "            result_beta_1[\"test_auc_score\"].append(test_roc_1)\n",
    "\n",
    "            train_roc_2 = roc_auc_score(y_train, logistic((X_train_idx_2_sel @ beta_sel_2)))\n",
    "            test_roc_2 = roc_auc_score(y_test, logistic((X_test_idx_2_sel @ beta_sel_2)))\n",
    "            result_beta_2[\"train_auc_score\"].append(train_roc_2)\n",
    "            result_beta_2[\"test_auc_score\"].append(test_roc_2)\n",
    "\n",
    "            log.info(f\"thresh - {t:.2f}, beta_1 train auc: {train_roc_1:.2f}, beta_1 test auc: {test_roc_1:.2f} \"\n",
    "                          f\"| beta_2 train auc: {train_roc_2:.2f}, beta_2 test auc: {test_roc_2:.2f}\")\n",
    "\n",
    "            res_beta_1_df = pd.DataFrame(result_beta_1)\n",
    "            res_beta_2_df = pd.DataFrame(result_beta_2)\n",
    "\n",
    "            res_beta_bkg_ls.append(res_beta_1_df)\n",
    "            res_beta_no_bkg_ls.append(res_beta_2_df)\n",
    "\n",
    "        res_bkg_df = pd.concat(res_bkg_ls, axis=0)\n",
    "        res_no_bkg_df = pd.concat(res_no_bkg_ls, axis=0)\n",
    "\n",
    "        res_bkg_df[\"thres\"] = thresholds\n",
    "        res_no_bkg_df[\"thres\"] = thresholds\n",
    "\n",
    "        res_bkg_df.to_csv(f\"exp_data/res_bkg_s_{seed}.csv\", index=False)\n",
    "        res_no_bkg_df.to_csv(f\"exp_data/res_no_bkg_s_{seed}.csv\", index=False)\n",
    "\n",
    "        res_beta_bkg_df = pd.concat(res_beta_bkg_ls, axis=0)\n",
    "        res_beta_no_bkg_df = pd.concat(res_beta_no_bkg_ls, axis=0)\n",
    "        res_beta_bkg_df[\"thres\"] = thresholds\n",
    "        res_beta_no_bkg_df[\"thres\"] = thresholds\n",
    "\n",
    "        res_beta_bkg_df.to_csv(f\"exp_data/res_beta_bkg_s_{seed}.csv\", index=False)\n",
    "        res_beta_no_bkg_df.to_csv(f\"exp_data/res_beta_no_bkg_s_{seed}.csv\", index=False)\n",
    "\n",
    "        log.info(f\"========= Done for seed - {seed} =========\")"
   ],
   "metadata": {
    "collapsed": false,
    "pycharm": {
     "name": "#%%\n"
    }
   }
  },
  {
   "cell_type": "code",
   "execution_count": 23,
   "outputs": [
    {
     "name": "stdout",
     "output_type": "stream",
     "text": [
      "[506, 805, 490]\n"
     ]
    }
   ],
   "source": [
    "k = 47\n",
    "print(exp_seeds[k:])"
   ],
   "metadata": {
    "collapsed": false,
    "pycharm": {
     "name": "#%%\n"
    }
   }
  },
  {
   "cell_type": "code",
   "execution_count": 19,
   "outputs": [],
   "source": [
    "# Feat 97 and 950 for consideration\n",
    "curr_seeds = exp_seeds[k:]\n",
    "curr_jax_seeds = jax_exp_seeds[k:]"
   ],
   "metadata": {
    "collapsed": false,
    "pycharm": {
     "name": "#%%\n"
    }
   }
  },
  {
   "cell_type": "code",
   "execution_count": null,
   "outputs": [
    {
     "name": "stdout",
     "output_type": "stream",
     "text": [
      "2022-08-17 16:31:42,344 [INFO], ========= Running seed - 499 =========\n",
      "Total of 508 variables are significant (p_val = 0.01)\n",
      "2022-08-17 16:32:45,881 [INFO], Num of sig feats - 508\n",
      "2022-08-17 18:32:47,779 [INFO], MCMC 1 ess stats: gamma ess - 869.1396359493282, beta ess - 955.1840538905986\n",
      "2022-08-17 18:32:47,780 [INFO], MCMC 2 ess stats: gamma ess - 837.6849810042488, beta ess - 816.7707645822638\n",
      "2022-08-17 18:32:48,939 [INFO], thresh - 0.10, length idx_1: 508, length idx_2: 508, | num in J idx_1: 44, num in J idx_2: 44\n"
     ]
    },
    {
     "name": "stderr",
     "output_type": "stream",
     "text": [
      "100%|██████████| 1/1 [00:01<00:00,  1.49s/it]\n",
      "100%|██████████| 1/1 [00:00<00:00,  3.98it/s]\n"
     ]
    },
    {
     "name": "stdout",
     "output_type": "stream",
     "text": [
      "2022-08-17 18:32:51,338 [INFO], thresh - 0.10, beta_1 train auc: 1.00, beta_1 test auc: 0.66 | beta_2 train auc: 1.00, beta_2 test auc: 0.67\n",
      "2022-08-17 18:32:52,291 [INFO], thresh - 0.20, length idx_1: 325, length idx_2: 303, | num in J idx_1: 44, num in J idx_2: 8\n"
     ]
    },
    {
     "name": "stderr",
     "output_type": "stream",
     "text": [
      "100%|██████████| 1/1 [00:00<00:00,  1.47it/s]\n",
      "100%|██████████| 1/1 [00:00<00:00,  1.30it/s]\n"
     ]
    },
    {
     "name": "stdout",
     "output_type": "stream",
     "text": [
      "2022-08-17 18:32:54,160 [INFO], thresh - 0.20, beta_1 train auc: 1.00, beta_1 test auc: 0.66 | beta_2 train auc: 1.00, beta_2 test auc: 0.66\n",
      "2022-08-17 18:32:55,107 [INFO], thresh - 0.30, length idx_1: 155, length idx_2: 140, | num in J idx_1: 44, num in J idx_2: 0\n"
     ]
    },
    {
     "name": "stderr",
     "output_type": "stream",
     "text": [
      "100%|██████████| 1/1 [00:00<00:00,  1.50it/s]\n",
      "100%|██████████| 1/1 [00:00<00:00,  1.42it/s]\n"
     ]
    },
    {
     "name": "stdout",
     "output_type": "stream",
     "text": [
      "2022-08-17 18:32:56,858 [INFO], thresh - 0.30, beta_1 train auc: 1.00, beta_1 test auc: 0.66 | beta_2 train auc: 1.00, beta_2 test auc: 0.68\n",
      "2022-08-17 18:32:57,774 [INFO], thresh - 0.40, length idx_1: 97, length idx_2: 74, | num in J idx_1: 42, num in J idx_2: 0\n"
     ]
    },
    {
     "name": "stderr",
     "output_type": "stream",
     "text": [
      "100%|██████████| 1/1 [00:00<00:00,  1.55it/s]\n",
      "100%|██████████| 1/1 [00:00<00:00,  1.54it/s]\n"
     ]
    },
    {
     "name": "stdout",
     "output_type": "stream",
     "text": [
      "2022-08-17 18:32:59,547 [INFO], thresh - 0.40, beta_1 train auc: 0.98, beta_1 test auc: 0.62 | beta_2 train auc: 0.97, beta_2 test auc: 0.64\n",
      "2022-08-17 18:33:00,479 [INFO], thresh - 0.50, length idx_1: 64, length idx_2: 51, | num in J idx_1: 40, num in J idx_2: 0\n"
     ]
    },
    {
     "name": "stderr",
     "output_type": "stream",
     "text": [
      "100%|██████████| 1/1 [00:00<00:00,  1.51it/s]\n",
      "100%|██████████| 1/1 [00:00<00:00,  1.44it/s]\n"
     ]
    },
    {
     "name": "stdout",
     "output_type": "stream",
     "text": [
      "2022-08-17 18:33:02,330 [INFO], thresh - 0.50, beta_1 train auc: 0.94, beta_1 test auc: 0.64 | beta_2 train auc: 0.94, beta_2 test auc: 0.62\n",
      "2022-08-17 18:33:03,225 [INFO], thresh - 0.60, length idx_1: 40, length idx_2: 25, | num in J idx_1: 34, num in J idx_2: 0\n"
     ]
    },
    {
     "name": "stderr",
     "output_type": "stream",
     "text": [
      "100%|██████████| 1/1 [00:00<00:00,  1.47it/s]\n",
      "100%|██████████| 1/1 [00:00<00:00,  1.68it/s]\n"
     ]
    },
    {
     "name": "stdout",
     "output_type": "stream",
     "text": [
      "2022-08-17 18:33:04,945 [INFO], thresh - 0.60, beta_1 train auc: 0.91, beta_1 test auc: 0.60 | beta_2 train auc: 0.89, beta_2 test auc: 0.64\n",
      "2022-08-17 18:33:05,822 [INFO], thresh - 0.70, length idx_1: 28, length idx_2: 19, | num in J idx_1: 20, num in J idx_2: 0\n"
     ]
    },
    {
     "name": "stderr",
     "output_type": "stream",
     "text": [
      "100%|██████████| 1/1 [00:00<00:00,  1.61it/s]\n",
      "100%|██████████| 1/1 [00:00<00:00,  1.62it/s]\n"
     ]
    },
    {
     "name": "stdout",
     "output_type": "stream",
     "text": [
      "2022-08-17 18:33:07,505 [INFO], thresh - 0.70, beta_1 train auc: 0.83, beta_1 test auc: 0.55 | beta_2 train auc: 0.87, beta_2 test auc: 0.61\n",
      "2022-08-17 18:33:08,356 [INFO], thresh - 0.80, length idx_1: 21, length idx_2: 14, | num in J idx_1: 10, num in J idx_2: 0\n"
     ]
    },
    {
     "name": "stderr",
     "output_type": "stream",
     "text": [
      "100%|██████████| 1/1 [00:00<00:00,  1.74it/s]\n",
      "100%|██████████| 1/1 [00:00<00:00,  1.67it/s]\n"
     ]
    },
    {
     "name": "stdout",
     "output_type": "stream",
     "text": [
      "2022-08-17 18:33:09,959 [INFO], thresh - 0.80, beta_1 train auc: 0.79, beta_1 test auc: 0.56 | beta_2 train auc: 0.78, beta_2 test auc: 0.54\n",
      "2022-08-17 18:33:10,791 [INFO], thresh - 0.90, length idx_1: 11, length idx_2: 6, | num in J idx_1: 4, num in J idx_2: 0\n"
     ]
    },
    {
     "name": "stderr",
     "output_type": "stream",
     "text": [
      "100%|██████████| 1/1 [00:00<00:00,  1.71it/s]\n",
      "100%|██████████| 1/1 [00:00<00:00,  1.63it/s]\n"
     ]
    },
    {
     "name": "stdout",
     "output_type": "stream",
     "text": [
      "2022-08-17 18:33:12,410 [INFO], thresh - 0.90, beta_1 train auc: 0.76, beta_1 test auc: 0.60 | beta_2 train auc: 0.71, beta_2 test auc: 0.53\n",
      "2022-08-17 18:33:12,726 [INFO], ========= Done for seed - 499 =========\n",
      "2022-08-17 18:33:12,729 [INFO], ========= Running seed - 925 =========\n",
      "Total of 586 variables are significant (p_val = 0.01)\n",
      "2022-08-17 18:34:16,229 [INFO], Num of sig feats - 586\n",
      "2022-08-17 21:51:59,271 [INFO], MCMC 1 ess stats: gamma ess - 1101.629016011779, beta ess - 997.3061518693854\n",
      "2022-08-17 21:51:59,272 [INFO], MCMC 2 ess stats: gamma ess - 1023.2533172252427, beta ess - 816.5177993062318\n",
      "2022-08-17 21:52:00,410 [INFO], thresh - 0.10, length idx_1: 586, length idx_2: 586, | num in J idx_1: 46, num in J idx_2: 46\n"
     ]
    },
    {
     "name": "stderr",
     "output_type": "stream",
     "text": [
      "100%|██████████| 1/1 [00:00<00:00,  1.87it/s]\n",
      "100%|██████████| 1/1 [00:00<00:00,  6.13it/s]\n"
     ]
    },
    {
     "name": "stdout",
     "output_type": "stream",
     "text": [
      "2022-08-17 21:52:01,339 [INFO], thresh - 0.10, beta_1 train auc: 1.00, beta_1 test auc: 0.69 | beta_2 train auc: 1.00, beta_2 test auc: 0.69\n",
      "2022-08-17 21:52:02,325 [INFO], thresh - 0.20, length idx_1: 457, length idx_2: 432, | num in J idx_1: 46, num in J idx_2: 30\n"
     ]
    },
    {
     "name": "stderr",
     "output_type": "stream",
     "text": [
      "100%|██████████| 1/1 [00:00<00:00,  1.39it/s]\n",
      "100%|██████████| 1/1 [00:00<00:00,  1.32it/s]\n"
     ]
    },
    {
     "name": "stdout",
     "output_type": "stream",
     "text": [
      "2022-08-17 21:52:04,219 [INFO], thresh - 0.20, beta_1 train auc: 1.00, beta_1 test auc: 0.69 | beta_2 train auc: 1.00, beta_2 test auc: 0.69\n",
      "2022-08-17 21:52:04,785 [INFO], thresh - 0.30, length idx_1: 164, length idx_2: 140, | num in J idx_1: 46, num in J idx_2: 0\n"
     ]
    },
    {
     "name": "stderr",
     "output_type": "stream",
     "text": [
      "100%|██████████| 1/1 [00:00<00:00,  1.43it/s]\n",
      "100%|██████████| 1/1 [00:00<00:00,  3.66it/s]\n"
     ]
    },
    {
     "name": "stdout",
     "output_type": "stream",
     "text": [
      "2022-08-17 21:52:06,002 [INFO], thresh - 0.30, beta_1 train auc: 1.00, beta_1 test auc: 0.70 | beta_2 train auc: 1.00, beta_2 test auc: 0.69\n",
      "2022-08-17 21:52:06,938 [INFO], thresh - 0.40, length idx_1: 92, length idx_2: 71, | num in J idx_1: 36, num in J idx_2: 0\n"
     ]
    },
    {
     "name": "stderr",
     "output_type": "stream",
     "text": [
      "100%|██████████| 1/1 [00:00<00:00,  1.47it/s]\n",
      "100%|██████████| 1/1 [00:00<00:00,  1.52it/s]\n"
     ]
    },
    {
     "name": "stdout",
     "output_type": "stream",
     "text": [
      "2022-08-17 21:52:08,752 [INFO], thresh - 0.40, beta_1 train auc: 0.99, beta_1 test auc: 0.68 | beta_2 train auc: 0.99, beta_2 test auc: 0.68\n",
      "2022-08-17 21:52:09,684 [INFO], thresh - 0.50, length idx_1: 60, length idx_2: 50, | num in J idx_1: 32, num in J idx_2: 0\n"
     ]
    },
    {
     "name": "stderr",
     "output_type": "stream",
     "text": [
      "100%|██████████| 1/1 [00:00<00:00,  1.57it/s]\n",
      "100%|██████████| 1/1 [00:00<00:00,  1.60it/s]\n"
     ]
    },
    {
     "name": "stdout",
     "output_type": "stream",
     "text": [
      "2022-08-17 21:52:11,422 [INFO], thresh - 0.50, beta_1 train auc: 0.98, beta_1 test auc: 0.67 | beta_2 train auc: 0.98, beta_2 test auc: 0.68\n",
      "2022-08-17 21:52:12,312 [INFO], thresh - 0.60, length idx_1: 47, length idx_2: 29, | num in J idx_1: 32, num in J idx_2: 0\n"
     ]
    },
    {
     "name": "stderr",
     "output_type": "stream",
     "text": [
      "100%|██████████| 1/1 [00:00<00:00,  1.60it/s]\n",
      "100%|██████████| 1/1 [00:00<00:00,  1.45it/s]\n"
     ]
    },
    {
     "name": "stdout",
     "output_type": "stream",
     "text": [
      "2022-08-17 21:52:14,085 [INFO], thresh - 0.60, beta_1 train auc: 0.95, beta_1 test auc: 0.67 | beta_2 train auc: 0.93, beta_2 test auc: 0.67\n",
      "2022-08-17 21:52:14,605 [INFO], thresh - 0.70, length idx_1: 28, length idx_2: 20, | num in J idx_1: 20, num in J idx_2: 0\n"
     ]
    },
    {
     "name": "stderr",
     "output_type": "stream",
     "text": [
      "100%|██████████| 1/1 [00:00<00:00,  5.47it/s]\n",
      "100%|██████████| 1/1 [00:00<00:00,  1.63it/s]\n"
     ]
    },
    {
     "name": "stdout",
     "output_type": "stream",
     "text": [
      "2022-08-17 21:52:15,633 [INFO], thresh - 0.70, beta_1 train auc: 0.87, beta_1 test auc: 0.64 | beta_2 train auc: 0.89, beta_2 test auc: 0.66\n",
      "2022-08-17 21:52:16,471 [INFO], thresh - 0.80, length idx_1: 13, length idx_2: 9, | num in J idx_1: 8, num in J idx_2: 0\n"
     ]
    },
    {
     "name": "stderr",
     "output_type": "stream",
     "text": [
      "100%|██████████| 1/1 [00:00<00:00,  1.70it/s]\n",
      "100%|██████████| 1/1 [00:00<00:00,  1.67it/s]\n"
     ]
    },
    {
     "name": "stdout",
     "output_type": "stream",
     "text": [
      "2022-08-17 21:52:18,096 [INFO], thresh - 0.80, beta_1 train auc: 0.82, beta_1 test auc: 0.62 | beta_2 train auc: 0.81, beta_2 test auc: 0.66\n",
      "2022-08-17 21:52:18,926 [INFO], thresh - 0.90, length idx_1: 7, length idx_2: 3, | num in J idx_1: 6, num in J idx_2: 0\n"
     ]
    },
    {
     "name": "stderr",
     "output_type": "stream",
     "text": [
      "100%|██████████| 1/1 [00:00<00:00,  1.67it/s]\n",
      "100%|██████████| 1/1 [00:00<00:00,  1.70it/s]\n"
     ]
    },
    {
     "name": "stdout",
     "output_type": "stream",
     "text": [
      "2022-08-17 21:52:20,538 [INFO], thresh - 0.90, beta_1 train auc: 0.73, beta_1 test auc: 0.57 | beta_2 train auc: 0.66, beta_2 test auc: 0.53\n",
      "2022-08-17 21:52:20,955 [INFO], ========= Done for seed - 925 =========\n",
      "2022-08-17 21:52:20,957 [INFO], ========= Running seed - 506 =========\n",
      "Total of 788 variables are significant (p_val = 0.01)\n",
      "2022-08-17 21:53:25,929 [INFO], Num of sig feats - 788\n"
     ]
    }
   ],
   "source": [
    "# run_exp(X_df, y_df, curr_seeds, curr_jax_seeds)"
   ],
   "metadata": {
    "collapsed": false,
    "pycharm": {
     "name": "#%%\n",
     "is_executing": true
    }
   }
  },
  {
   "cell_type": "code",
   "execution_count": 24,
   "outputs": [
    {
     "data": {
      "text/plain": "47"
     },
     "execution_count": 24,
     "metadata": {},
     "output_type": "execute_result"
    }
   ],
   "source": [
    "fseeds = exp_seeds[:k]\n",
    "len(fseeds)"
   ],
   "metadata": {
    "collapsed": false,
    "pycharm": {
     "name": "#%%\n"
    }
   }
  },
  {
   "cell_type": "code",
   "execution_count": 25,
   "outputs": [],
   "source": [
    "with open(\"exp_data/logs/log_s_440.log\", \"r\") as fp:\n",
    "    log_lines = fp.readlines()"
   ],
   "metadata": {
    "collapsed": false,
    "pycharm": {
     "name": "#%%\n"
    }
   }
  },
  {
   "cell_type": "code",
   "execution_count": 26,
   "outputs": [],
   "source": [
    "res_bkg_dfs = []\n",
    "res_no_bkg_dfs = []\n",
    "for i, fseed in enumerate(fseeds):\n",
    "\n",
    "    if fseed == 97 or fseed == 950: ## the experiment for seed 97 & 950 doesn't show up for some reason!!\n",
    "        continue\n",
    "\n",
    "    bkg_df = pd.read_csv(f\"exp_data/res_bkg_s_{fseed}.csv\")\n",
    "    no_bkg_df = pd.read_csv(f\"exp_data/res_no_bkg_s_{fseed}.csv\")\n",
    "\n",
    "    seed_col = [fseed]*len(thresholds)\n",
    "\n",
    "    bkg_df[\"seed\"] = seed_col\n",
    "    no_bkg_df[\"seed\"] = seed_col\n",
    "\n",
    "    bkg_num_sel, no_bkg_num_sel = [], []\n",
    "    bkg_num_j, no_bkg_num_j = [], []\n",
    "\n",
    "    with open(f\"exp_data/logs/log_s_{fseed}.log\", \"r\") as fp:\n",
    "        log_lines = fp.readlines()\n",
    "\n",
    "    log_lines = log_lines[4:-1:2]\n",
    "    for j, thr in enumerate(thresholds):\n",
    "        line = log_lines[j].strip().split(\",\")\n",
    "        num_bkg =  int(line[3].split(\":\")[-1])\n",
    "        num_no_bkg = int(line[4].split(\":\")[-1])\n",
    "\n",
    "        bkg_num_sel.append(num_bkg)\n",
    "        no_bkg_num_sel.append(num_no_bkg)\n",
    "\n",
    "        num_j_bkg = int(line[5].split(\":\")[-1])\n",
    "        num_j_no_bkg = int(line[6].split(\":\")[-1])\n",
    "        bkg_num_j.append(num_j_bkg)\n",
    "        no_bkg_num_j.append(num_j_no_bkg)\n",
    "\n",
    "\n",
    "    bkg_df[\"num_sel\"] = bkg_num_sel\n",
    "    bkg_df[\"num_in_J\"] = bkg_num_j\n",
    "\n",
    "    no_bkg_df[\"num_sel\"] = no_bkg_num_sel\n",
    "    no_bkg_df[\"num_in_J\"] = no_bkg_num_j\n",
    "\n",
    "    res_bkg_dfs.append(bkg_df)\n",
    "    res_no_bkg_dfs.append(no_bkg_df)\n"
   ],
   "metadata": {
    "collapsed": false,
    "pycharm": {
     "name": "#%%\n"
    }
   }
  },
  {
   "cell_type": "code",
   "execution_count": 27,
   "outputs": [],
   "source": [
    "bkg_res_df = pd.concat(res_bkg_dfs, axis=0)\n",
    "no_bkg_res_df = pd.concat(res_no_bkg_dfs, axis=0)"
   ],
   "metadata": {
    "collapsed": false,
    "pycharm": {
     "name": "#%%\n"
    }
   }
  },
  {
   "cell_type": "code",
   "execution_count": 28,
   "outputs": [],
   "source": [
    "bkg_res_df[\"thres\"] = np.round(bkg_res_df[\"thres\"], 1)\n",
    "no_bkg_res_df[\"thres\"] = np.round(no_bkg_res_df[\"thres\"], 1)"
   ],
   "metadata": {
    "collapsed": false,
    "pycharm": {
     "name": "#%%\n"
    }
   }
  },
  {
   "cell_type": "code",
   "execution_count": 29,
   "outputs": [
    {
     "data": {
      "text/plain": "    log_cv_score  log_test_score  thres  seed  num_sel  num_in_J\n0       0.716300        0.746203    0.1    61      518        14\n1       0.871894        0.750069    0.2    61      313        14\n2       0.937655        0.772991    0.3    61      153        14\n3       0.941064        0.738884    0.4    61       88        12\n4       0.908440        0.731842    0.5    61       54         8\n..           ...             ...    ...   ...      ...       ...\n4       0.947817        0.705054    0.5   925       60        32\n5       0.927931        0.674952    0.6   925       47        32\n6       0.878669        0.694421    0.7   925       28        20\n7       0.816124        0.660867    0.8   925       13         8\n8       0.718644        0.592378    0.9   925        7         6\n\n[405 rows x 6 columns]",
      "text/html": "<div>\n<style scoped>\n    .dataframe tbody tr th:only-of-type {\n        vertical-align: middle;\n    }\n\n    .dataframe tbody tr th {\n        vertical-align: top;\n    }\n\n    .dataframe thead th {\n        text-align: right;\n    }\n</style>\n<table border=\"1\" class=\"dataframe\">\n  <thead>\n    <tr style=\"text-align: right;\">\n      <th></th>\n      <th>log_cv_score</th>\n      <th>log_test_score</th>\n      <th>thres</th>\n      <th>seed</th>\n      <th>num_sel</th>\n      <th>num_in_J</th>\n    </tr>\n  </thead>\n  <tbody>\n    <tr>\n      <th>0</th>\n      <td>0.716300</td>\n      <td>0.746203</td>\n      <td>0.1</td>\n      <td>61</td>\n      <td>518</td>\n      <td>14</td>\n    </tr>\n    <tr>\n      <th>1</th>\n      <td>0.871894</td>\n      <td>0.750069</td>\n      <td>0.2</td>\n      <td>61</td>\n      <td>313</td>\n      <td>14</td>\n    </tr>\n    <tr>\n      <th>2</th>\n      <td>0.937655</td>\n      <td>0.772991</td>\n      <td>0.3</td>\n      <td>61</td>\n      <td>153</td>\n      <td>14</td>\n    </tr>\n    <tr>\n      <th>3</th>\n      <td>0.941064</td>\n      <td>0.738884</td>\n      <td>0.4</td>\n      <td>61</td>\n      <td>88</td>\n      <td>12</td>\n    </tr>\n    <tr>\n      <th>4</th>\n      <td>0.908440</td>\n      <td>0.731842</td>\n      <td>0.5</td>\n      <td>61</td>\n      <td>54</td>\n      <td>8</td>\n    </tr>\n    <tr>\n      <th>...</th>\n      <td>...</td>\n      <td>...</td>\n      <td>...</td>\n      <td>...</td>\n      <td>...</td>\n      <td>...</td>\n    </tr>\n    <tr>\n      <th>4</th>\n      <td>0.947817</td>\n      <td>0.705054</td>\n      <td>0.5</td>\n      <td>925</td>\n      <td>60</td>\n      <td>32</td>\n    </tr>\n    <tr>\n      <th>5</th>\n      <td>0.927931</td>\n      <td>0.674952</td>\n      <td>0.6</td>\n      <td>925</td>\n      <td>47</td>\n      <td>32</td>\n    </tr>\n    <tr>\n      <th>6</th>\n      <td>0.878669</td>\n      <td>0.694421</td>\n      <td>0.7</td>\n      <td>925</td>\n      <td>28</td>\n      <td>20</td>\n    </tr>\n    <tr>\n      <th>7</th>\n      <td>0.816124</td>\n      <td>0.660867</td>\n      <td>0.8</td>\n      <td>925</td>\n      <td>13</td>\n      <td>8</td>\n    </tr>\n    <tr>\n      <th>8</th>\n      <td>0.718644</td>\n      <td>0.592378</td>\n      <td>0.9</td>\n      <td>925</td>\n      <td>7</td>\n      <td>6</td>\n    </tr>\n  </tbody>\n</table>\n<p>405 rows × 6 columns</p>\n</div>"
     },
     "execution_count": 29,
     "metadata": {},
     "output_type": "execute_result"
    }
   ],
   "source": [
    "bkg_res_df"
   ],
   "metadata": {
    "collapsed": false,
    "pycharm": {
     "name": "#%%\n"
    }
   }
  },
  {
   "cell_type": "code",
   "execution_count": 30,
   "outputs": [
    {
     "data": {
      "text/plain": "    log_cv_score  log_test_score  thres  seed  num_sel  num_in_J\n0       0.716300        0.746203    0.1    61      518        14\n1       0.878617        0.740541    0.2    61      305         6\n2       0.944658        0.782104    0.3    61      144         4\n3       0.949120        0.737918    0.4    61       81         0\n4       0.926544        0.752693    0.5    61       51         0\n..           ...             ...    ...   ...      ...       ...\n4       0.954011        0.705330    0.5   925       50         0\n5       0.921111        0.685032    0.6   925       29         0\n6       0.890954        0.670533    0.7   925       20         0\n7       0.807060        0.679577    0.8   925        9         0\n8       0.645231        0.561033    0.9   925        3         0\n\n[405 rows x 6 columns]",
      "text/html": "<div>\n<style scoped>\n    .dataframe tbody tr th:only-of-type {\n        vertical-align: middle;\n    }\n\n    .dataframe tbody tr th {\n        vertical-align: top;\n    }\n\n    .dataframe thead th {\n        text-align: right;\n    }\n</style>\n<table border=\"1\" class=\"dataframe\">\n  <thead>\n    <tr style=\"text-align: right;\">\n      <th></th>\n      <th>log_cv_score</th>\n      <th>log_test_score</th>\n      <th>thres</th>\n      <th>seed</th>\n      <th>num_sel</th>\n      <th>num_in_J</th>\n    </tr>\n  </thead>\n  <tbody>\n    <tr>\n      <th>0</th>\n      <td>0.716300</td>\n      <td>0.746203</td>\n      <td>0.1</td>\n      <td>61</td>\n      <td>518</td>\n      <td>14</td>\n    </tr>\n    <tr>\n      <th>1</th>\n      <td>0.878617</td>\n      <td>0.740541</td>\n      <td>0.2</td>\n      <td>61</td>\n      <td>305</td>\n      <td>6</td>\n    </tr>\n    <tr>\n      <th>2</th>\n      <td>0.944658</td>\n      <td>0.782104</td>\n      <td>0.3</td>\n      <td>61</td>\n      <td>144</td>\n      <td>4</td>\n    </tr>\n    <tr>\n      <th>3</th>\n      <td>0.949120</td>\n      <td>0.737918</td>\n      <td>0.4</td>\n      <td>61</td>\n      <td>81</td>\n      <td>0</td>\n    </tr>\n    <tr>\n      <th>4</th>\n      <td>0.926544</td>\n      <td>0.752693</td>\n      <td>0.5</td>\n      <td>61</td>\n      <td>51</td>\n      <td>0</td>\n    </tr>\n    <tr>\n      <th>...</th>\n      <td>...</td>\n      <td>...</td>\n      <td>...</td>\n      <td>...</td>\n      <td>...</td>\n      <td>...</td>\n    </tr>\n    <tr>\n      <th>4</th>\n      <td>0.954011</td>\n      <td>0.705330</td>\n      <td>0.5</td>\n      <td>925</td>\n      <td>50</td>\n      <td>0</td>\n    </tr>\n    <tr>\n      <th>5</th>\n      <td>0.921111</td>\n      <td>0.685032</td>\n      <td>0.6</td>\n      <td>925</td>\n      <td>29</td>\n      <td>0</td>\n    </tr>\n    <tr>\n      <th>6</th>\n      <td>0.890954</td>\n      <td>0.670533</td>\n      <td>0.7</td>\n      <td>925</td>\n      <td>20</td>\n      <td>0</td>\n    </tr>\n    <tr>\n      <th>7</th>\n      <td>0.807060</td>\n      <td>0.679577</td>\n      <td>0.8</td>\n      <td>925</td>\n      <td>9</td>\n      <td>0</td>\n    </tr>\n    <tr>\n      <th>8</th>\n      <td>0.645231</td>\n      <td>0.561033</td>\n      <td>0.9</td>\n      <td>925</td>\n      <td>3</td>\n      <td>0</td>\n    </tr>\n  </tbody>\n</table>\n<p>405 rows × 6 columns</p>\n</div>"
     },
     "execution_count": 30,
     "metadata": {},
     "output_type": "execute_result"
    }
   ],
   "source": [
    "no_bkg_res_df"
   ],
   "metadata": {
    "collapsed": false,
    "pycharm": {
     "name": "#%%\n"
    }
   }
  },
  {
   "cell_type": "markdown",
   "source": [
    "### Two-sided t-test"
   ],
   "metadata": {
    "collapsed": false,
    "pycharm": {
     "name": "#%% md\n"
    }
   }
  },
  {
   "cell_type": "code",
   "execution_count": 31,
   "outputs": [
    {
     "name": "stdout",
     "output_type": "stream",
     "text": [
      "thr: 0.1, p_val_tr: 0.3227784787543093, p_val_te: 0.3227784787543093\n",
      "thr: 0.2, p_val_tr: 1.3540007985937043e-13, p_val_te: 0.0010378368139106538\n",
      "thr: 0.3, p_val_tr: 1.0711735123731131e-11, p_val_te: 0.12796742275762468\n",
      "thr: 0.4, p_val_tr: 5.4038228206254895e-08, p_val_te: 0.5953317215160199\n",
      "thr: 0.5, p_val_tr: 1.67029478645793e-06, p_val_te: 0.7813465886570665\n",
      "thr: 0.6, p_val_tr: 0.24821035832519028, p_val_te: 0.22267870407765683\n",
      "thr: 0.7, p_val_tr: 5.111392152993329e-05, p_val_te: 1.7329448201909024e-05\n",
      "thr: 0.8, p_val_tr: 5.255912385581498e-05, p_val_te: 0.00012764733024855113\n",
      "thr: 0.9, p_val_tr: 1.4608961016509855e-07, p_val_te: 0.00016667027162944707\n"
     ]
    }
   ],
   "source": [
    "import scipy.stats as stats\n",
    "\n",
    "p_vals_ts_train = np.zeros(len(thresholds))\n",
    "p_vals_ts_test = np.zeros(len(thresholds))\n",
    "\n",
    "for i, thr in enumerate(thresholds):\n",
    "    thr = np.round(thr, 1)\n",
    "    thr_bkg = bkg_res_df[bkg_res_df[\"thres\"] == thr]\n",
    "    thr_bkg_tr = thr_bkg[\"log_cv_score\"]\n",
    "    thr_bkg_te = thr_bkg[\"log_test_score\"]\n",
    "\n",
    "    thr_no_bkg = no_bkg_res_df[no_bkg_res_df[\"thres\"] == thr]\n",
    "    thr_no_bkg_tr = thr_no_bkg[\"log_cv_score\"]\n",
    "    thr_no_bkg_te = thr_no_bkg[\"log_test_score\"]\n",
    "    p_val_tr = stats.ttest_rel(thr_bkg_tr, thr_no_bkg_tr, alternative=\"two-sided\").pvalue\n",
    "    p_val_te = stats.ttest_rel(thr_bkg_te, thr_no_bkg_te, alternative=\"two-sided\").pvalue\n",
    "    p_vals_ts_train[i] = p_val_tr\n",
    "    p_vals_ts_test[i] = p_val_te\n",
    "    print(f\"thr: {thr}, p_val_tr: {p_val_tr}, p_val_te: {p_val_te}\")\n"
   ],
   "metadata": {
    "collapsed": false,
    "pycharm": {
     "name": "#%%\n"
    }
   }
  },
  {
   "cell_type": "markdown",
   "source": [
    "### One sided t-test"
   ],
   "metadata": {
    "collapsed": false,
    "pycharm": {
     "name": "#%% md\n"
    }
   }
  },
  {
   "cell_type": "code",
   "execution_count": 32,
   "outputs": [
    {
     "name": "stdout",
     "output_type": "stream",
     "text": [
      "thr: 0.1, p_val_tr: 0.8386107606228453, p_val_te: 0.16138923937715466\n",
      "thr: 0.2, p_val_tr: 0.9999999999999323, p_val_te: 0.0005189184069553269\n",
      "thr: 0.3, p_val_tr: 0.9999999999946442, p_val_te: 0.9360162886211877\n",
      "thr: 0.4, p_val_tr: 0.9999999729808858, p_val_te: 0.29766586075800994\n",
      "thr: 0.5, p_val_tr: 0.9999991648526068, p_val_te: 0.6093267056714667\n",
      "thr: 0.6, p_val_tr: 0.8758948208374049, p_val_te: 0.11133935203882842\n",
      "thr: 0.7, p_val_tr: 2.5556960764966646e-05, p_val_te: 8.664724100954512e-06\n",
      "thr: 0.8, p_val_tr: 2.627956192790749e-05, p_val_te: 6.382366512427556e-05\n",
      "thr: 0.9, p_val_tr: 7.304480508254927e-08, p_val_te: 8.333513581472354e-05\n"
     ]
    }
   ],
   "source": [
    "p_vals_os_train = np.zeros(len(thresholds))\n",
    "p_vals_os_test = np.zeros(len(thresholds))\n",
    "\n",
    "for i, thr in enumerate(thresholds):\n",
    "    thr = np.round(thr, 1)\n",
    "    thr_bkg = bkg_res_df[bkg_res_df[\"thres\"] == thr]\n",
    "    thr_bkg_tr = thr_bkg[\"log_cv_score\"]\n",
    "    thr_bkg_te = thr_bkg[\"log_test_score\"]\n",
    "\n",
    "    thr_no_bkg = no_bkg_res_df[no_bkg_res_df[\"thres\"] == thr]\n",
    "    thr_no_bkg_tr = thr_no_bkg[\"log_cv_score\"]\n",
    "    thr_no_bkg_te = thr_no_bkg[\"log_test_score\"]\n",
    "    p_val_tr = stats.ttest_rel(thr_bkg_tr, thr_no_bkg_tr, alternative=\"greater\").pvalue\n",
    "    p_val_te = stats.ttest_rel(thr_bkg_te, thr_no_bkg_te, alternative=\"greater\").pvalue\n",
    "    p_vals_os_train[i] = p_val_tr\n",
    "    p_vals_os_test[i] = p_val_te\n",
    "    print(f\"thr: {thr}, p_val_tr: {p_val_tr}, p_val_te: {p_val_te}\")"
   ],
   "metadata": {
    "collapsed": false,
    "pycharm": {
     "name": "#%%\n"
    }
   }
  },
  {
   "cell_type": "code",
   "execution_count": 33,
   "outputs": [],
   "source": [
    "thr_num_sel_bkg = np.zeros((len(thresholds), len(fseeds) - 2), dtype=np.int) # subtract one b/c of seed 97 and 950\n",
    "thr_num_sel_no_bkg = np.zeros((len(thresholds), len(fseeds) - 2), dtype=np.int)\n",
    "\n",
    "thr_num_sel_J_bkg = np.zeros((len(thresholds), len(fseeds) - 2), dtype=np.int)\n",
    "thr_num_sel_J_no_bkg = np.zeros((len(thresholds), len(fseeds) - 2), dtype=np.int)\n",
    "\n",
    "thr_train_score_bkg = np.zeros((len(thresholds), len(fseeds) - 2))\n",
    "thr_test_score_bkg = np.zeros((len(thresholds), len(fseeds) - 2))\n",
    "\n",
    "thr_train_score_no_bkg = np.zeros((len(thresholds), len(fseeds) - 2))\n",
    "thr_test_score_no_bkg = np.zeros((len(thresholds), len(fseeds) - 2))\n",
    "\n",
    "for i, thr in enumerate(thresholds):\n",
    "    thr = np.round(thr, 1)\n",
    "    thr_bkg = bkg_res_df[bkg_res_df[\"thres\"] == thr]\n",
    "    thr_num_sel_bkg[i] = np.squeeze(thr_bkg[\"num_sel\"].to_numpy())\n",
    "    thr_num_sel_J_bkg[i] = np.squeeze(thr_bkg[\"num_in_J\"].to_numpy())\n",
    "    thr_train_score_bkg[i] = np.squeeze(thr_bkg[\"log_cv_score\"].to_numpy())\n",
    "    thr_test_score_bkg[i] = np.squeeze(thr_bkg[\"log_test_score\"].to_numpy())\n",
    "\n",
    "    thr_no_bkg = no_bkg_res_df[no_bkg_res_df[\"thres\"] == thr]\n",
    "    thr_num_sel_no_bkg[i] = np.squeeze(thr_no_bkg[\"num_sel\"].to_numpy())\n",
    "    thr_num_sel_J_no_bkg[i] = np.squeeze(thr_no_bkg[\"num_in_J\"].to_numpy())\n",
    "    thr_train_score_no_bkg[i] = np.squeeze(thr_no_bkg[\"log_cv_score\"].to_numpy())\n",
    "    thr_test_score_no_bkg[i] = np.squeeze(thr_no_bkg[\"log_test_score\"].to_numpy())"
   ],
   "metadata": {
    "collapsed": false,
    "pycharm": {
     "name": "#%%\n"
    }
   }
  },
  {
   "cell_type": "code",
   "execution_count": 34,
   "outputs": [],
   "source": [
    "thr_num_sel_bkg_mean = np.mean(thr_num_sel_bkg, axis=1)\n",
    "thr_num_sel_no_bkg_mean = np.mean(thr_num_sel_no_bkg, axis=1)\n",
    "\n",
    "thr_num_sel_J_bkg_mean = np.mean(thr_num_sel_J_bkg, axis=1)\n",
    "thr_num_sel_J_no_bkg_mean = np.mean(thr_num_sel_J_no_bkg, axis=1)"
   ],
   "metadata": {
    "collapsed": false,
    "pycharm": {
     "name": "#%%\n"
    }
   }
  },
  {
   "cell_type": "code",
   "execution_count": 41,
   "outputs": [
    {
     "data": {
      "text/plain": "<matplotlib.legend.Legend at 0x7fd7581910d0>"
     },
     "execution_count": 41,
     "metadata": {},
     "output_type": "execute_result"
    },
    {
     "data": {
      "text/plain": "<Figure size 1152x648 with 2 Axes>",
      "image/png": "[encoded data removed]"
     },
     "metadata": {
      "needs_background": "light"
     },
     "output_type": "display_data"
    }
   ],
   "source": [
    "fig, axs = plt.subplots(1, 2, figsize=(16, 9))\n",
    "\n",
    "axs[0].plot(thresholds, thr_num_sel_bkg_mean, label=\"background\")\n",
    "axs[0].plot(thresholds, thr_num_sel_no_bkg_mean, label=\"no background\")\n",
    "axs[0].set_xlabel(\"threshold\")\n",
    "axs[0].set_ylabel(\"num selected feats\")\n",
    "axs[0].legend()\n",
    "\n",
    "axs[1].plot(thresholds, thr_num_sel_J_bkg_mean, label=\"background\")\n",
    "axs[1].plot(thresholds, thr_num_sel_J_no_bkg_mean, label=\"no background\")\n",
    "axs[1].set_xlabel(\"threshold\")\n",
    "axs[1].set_ylabel(\"num selected feats in J\")\n",
    "axs[1].legend()"
   ],
   "metadata": {
    "collapsed": false,
    "pycharm": {
     "name": "#%%\n"
    }
   }
  },
  {
   "cell_type": "code",
   "execution_count": 36,
   "outputs": [],
   "source": [
    "thr_train_sc_bkg_mean = np.mean(thr_train_score_bkg, axis=1)\n",
    "thr_test_sc_bkg_mean = np.mean(thr_test_score_bkg, axis=1)\n",
    "\n",
    "thr_train_sc_no_bkg_mean = np.mean(thr_train_score_no_bkg, axis=1)\n",
    "thr_test_sc_no_bkg_mean = np.mean(thr_test_score_no_bkg, axis=1)"
   ],
   "metadata": {
    "collapsed": false,
    "pycharm": {
     "name": "#%%\n"
    }
   }
  },
  {
   "cell_type": "code",
   "execution_count": 40,
   "outputs": [
    {
     "data": {
      "text/plain": "<matplotlib.legend.Legend at 0x7fd76030ee50>"
     },
     "execution_count": 40,
     "metadata": {},
     "output_type": "execute_result"
    },
    {
     "data": {
      "text/plain": "<Figure size 1152x648 with 2 Axes>",
      "image/png": "[encoded data removed]"
     },
     "metadata": {
      "needs_background": "light"
     },
     "output_type": "display_data"
    }
   ],
   "source": [
    "fig, axs = plt.subplots(1, 2, figsize=(16, 9))\n",
    "\n",
    "axs[0].plot(thresholds, thr_train_sc_bkg_mean, label=\"background\")\n",
    "axs[0].plot(thresholds, thr_train_sc_no_bkg_mean, label=\"no background\")\n",
    "axs[0].set_xlabel(\"threshold\")\n",
    "axs[0].set_ylabel(\"train auc\")\n",
    "axs[0].legend()\n",
    "\n",
    "axs[1].plot(thresholds, thr_test_sc_bkg_mean, label=\"background\")\n",
    "axs[1].plot(thresholds, thr_test_sc_no_bkg_mean, label=\"no background\")\n",
    "axs[1].set_xlabel(\"threshold\")\n",
    "axs[1].set_ylabel(\"test auc\")\n",
    "axs[1].legend()"
   ],
   "metadata": {
    "collapsed": false,
    "pycharm": {
     "name": "#%%\n"
    }
   }
  },
  {
   "cell_type": "code",
   "execution_count": null,
   "outputs": [],
   "source": [
    "thr_num_sel_J_bkg_mean"
   ],
   "metadata": {
    "collapsed": false,
    "pycharm": {
     "name": "#%%\n"
    }
   }
  },
  {
   "cell_type": "code",
   "execution_count": null,
   "outputs": [],
   "source": [],
   "metadata": {
    "collapsed": false,
    "pycharm": {
     "name": "#%%\n"
    }
   }
  }
 ],
 "metadata": {
  "kernelspec": {
   "display_name": "Python 3 (ipykernel)",
   "language": "python",
   "name": "python3"
  },
  "language_info": {
   "codemirror_mode": {
    "name": "ipython",
    "version": 3
   },
   "file_extension": ".py",
   "mimetype": "text/x-python",
   "name": "python",
   "nbconvert_exporter": "python",
   "pygments_lexer": "ipython3",
   "version": "3.9.13"
  }
 },
 "nbformat": 4,
 "nbformat_minor": 5
}