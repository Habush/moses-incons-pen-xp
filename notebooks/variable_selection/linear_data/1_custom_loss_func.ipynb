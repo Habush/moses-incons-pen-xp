{
 "cells": [
  {
   "cell_type": "code",
   "execution_count": 1,
   "metadata": {
    "collapsed": true
   },
   "outputs": [
    {
     "name": "stdout",
     "output_type": "stream",
     "text": [
      "/home/xabush/moses-incons-pen-xp\n"
     ]
    }
   ],
   "source": [
    "%cd \"~/moses-incons-pen-xp\"\n",
    "%load_ext autoreload\n",
    "%autoreload 2\n"
   ]
  },
  {
   "cell_type": "code",
   "execution_count": 3,
   "outputs": [],
   "source": [
    "import sys\n",
    "sys.path.append(\"/usr/local/lib/python3.8/dist-packages\")"
   ],
   "metadata": {
    "collapsed": false,
    "pycharm": {
     "name": "#%%\n"
    }
   }
  },
  {
   "cell_type": "code",
   "execution_count": 2,
   "outputs": [],
   "source": [
    "import pandas as pd\n",
    "import numpy as np\n",
    "from notebooks.variable_selection.custom_model import *\n",
    "from sklearn.model_selection import GridSearchCV"
   ],
   "metadata": {
    "collapsed": false,
    "pycharm": {
     "name": "#%%\n"
    }
   }
  },
  {
   "cell_type": "code",
   "execution_count": 185,
   "outputs": [
    {
     "data": {
      "text/html": "<div>\n<style scoped>\n    .dataframe tbody tr th:only-of-type {\n        vertical-align: middle;\n    }\n\n    .dataframe tbody tr th {\n        vertical-align: top;\n    }\n\n    .dataframe thead th {\n        text-align: right;\n    }\n</style>\n<table border=\"1\" class=\"dataframe\">\n  <thead>\n    <tr style=\"text-align: right;\">\n      <th></th>\n      <th>y</th>\n      <th>TF1</th>\n      <th>TF1g1</th>\n      <th>TF1g2</th>\n      <th>TF1g3</th>\n      <th>TF1g4</th>\n      <th>TF1g5</th>\n      <th>TF1g6</th>\n      <th>TF1g7</th>\n      <th>TF1g8</th>\n      <th>...</th>\n      <th>TF200g1</th>\n      <th>TF200g2</th>\n      <th>TF200g3</th>\n      <th>TF200g4</th>\n      <th>TF200g5</th>\n      <th>TF200g6</th>\n      <th>TF200g7</th>\n      <th>TF200g8</th>\n      <th>TF200g9</th>\n      <th>TF200g10</th>\n    </tr>\n  </thead>\n  <tbody>\n    <tr>\n      <th>0</th>\n      <td>0</td>\n      <td>-1.5165</td>\n      <td>-0.8115</td>\n      <td>-0.3562</td>\n      <td>-1.5629</td>\n      <td>-2.1856</td>\n      <td>-0.8701</td>\n      <td>-1.5197</td>\n      <td>-0.3622</td>\n      <td>-1.4106</td>\n      <td>...</td>\n      <td>-1.4188</td>\n      <td>-0.8440</td>\n      <td>-1.2232</td>\n      <td>-1.2117</td>\n      <td>-0.5672</td>\n      <td>-0.1177</td>\n      <td>-0.3543</td>\n      <td>-0.4383</td>\n      <td>-0.9867</td>\n      <td>0.1272</td>\n    </tr>\n    <tr>\n      <th>1</th>\n      <td>1</td>\n      <td>1.4627</td>\n      <td>0.4422</td>\n      <td>1.9967</td>\n      <td>1.2537</td>\n      <td>0.5932</td>\n      <td>2.1607</td>\n      <td>0.7268</td>\n      <td>1.2101</td>\n      <td>1.2913</td>\n      <td>...</td>\n      <td>0.6158</td>\n      <td>0.3613</td>\n      <td>-0.0918</td>\n      <td>0.2916</td>\n      <td>0.2039</td>\n      <td>0.9683</td>\n      <td>0.3107</td>\n      <td>0.6279</td>\n      <td>-0.2370</td>\n      <td>-0.2595</td>\n    </tr>\n    <tr>\n      <th>2</th>\n      <td>1</td>\n      <td>0.9093</td>\n      <td>0.6089</td>\n      <td>0.4935</td>\n      <td>0.2650</td>\n      <td>1.2553</td>\n      <td>0.1035</td>\n      <td>0.8043</td>\n      <td>0.4336</td>\n      <td>1.1341</td>\n      <td>...</td>\n      <td>1.1829</td>\n      <td>0.3388</td>\n      <td>0.9161</td>\n      <td>0.9376</td>\n      <td>0.7844</td>\n      <td>0.5766</td>\n      <td>1.1675</td>\n      <td>1.1204</td>\n      <td>1.2453</td>\n      <td>1.2618</td>\n    </tr>\n    <tr>\n      <th>3</th>\n      <td>0</td>\n      <td>-0.5444</td>\n      <td>0.0011</td>\n      <td>-0.4314</td>\n      <td>-0.5304</td>\n      <td>-1.1213</td>\n      <td>0.1714</td>\n      <td>-0.7389</td>\n      <td>-0.7719</td>\n      <td>-0.3342</td>\n      <td>...</td>\n      <td>-0.6344</td>\n      <td>-0.5307</td>\n      <td>-1.3859</td>\n      <td>-1.7020</td>\n      <td>-0.6773</td>\n      <td>-0.7879</td>\n      <td>-0.8221</td>\n      <td>-0.3707</td>\n      <td>-0.4189</td>\n      <td>-0.4838</td>\n    </tr>\n    <tr>\n      <th>4</th>\n      <td>1</td>\n      <td>0.5121</td>\n      <td>1.1357</td>\n      <td>0.6240</td>\n      <td>-0.1818</td>\n      <td>0.3880</td>\n      <td>0.8500</td>\n      <td>0.0440</td>\n      <td>0.0895</td>\n      <td>0.1684</td>\n      <td>...</td>\n      <td>-0.9807</td>\n      <td>0.5128</td>\n      <td>1.1377</td>\n      <td>-0.3012</td>\n      <td>-0.4148</td>\n      <td>0.9216</td>\n      <td>-0.1016</td>\n      <td>-0.4590</td>\n      <td>0.3377</td>\n      <td>0.2245</td>\n    </tr>\n  </tbody>\n</table>\n<p>5 rows × 2201 columns</p>\n</div>",
      "text/plain": "   y     TF1   TF1g1   TF1g2   TF1g3   TF1g4   TF1g5   TF1g6   TF1g7   TF1g8  \\\n0  0 -1.5165 -0.8115 -0.3562 -1.5629 -2.1856 -0.8701 -1.5197 -0.3622 -1.4106   \n1  1  1.4627  0.4422  1.9967  1.2537  0.5932  2.1607  0.7268  1.2101  1.2913   \n2  1  0.9093  0.6089  0.4935  0.2650  1.2553  0.1035  0.8043  0.4336  1.1341   \n3  0 -0.5444  0.0011 -0.4314 -0.5304 -1.1213  0.1714 -0.7389 -0.7719 -0.3342   \n4  1  0.5121  1.1357  0.6240 -0.1818  0.3880  0.8500  0.0440  0.0895  0.1684   \n\n   ...  TF200g1  TF200g2  TF200g3  TF200g4  TF200g5  TF200g6  TF200g7  \\\n0  ...  -1.4188  -0.8440  -1.2232  -1.2117  -0.5672  -0.1177  -0.3543   \n1  ...   0.6158   0.3613  -0.0918   0.2916   0.2039   0.9683   0.3107   \n2  ...   1.1829   0.3388   0.9161   0.9376   0.7844   0.5766   1.1675   \n3  ...  -0.6344  -0.5307  -1.3859  -1.7020  -0.6773  -0.7879  -0.8221   \n4  ...  -0.9807   0.5128   1.1377  -0.3012  -0.4148   0.9216  -0.1016   \n\n   TF200g8  TF200g9  TF200g10  \n0  -0.4383  -0.9867    0.1272  \n1   0.6279  -0.2370   -0.2595  \n2   1.1204   1.2453    1.2618  \n3  -0.3707  -0.4189   -0.4838  \n4  -0.4590   0.3377    0.2245  \n\n[5 rows x 2201 columns]"
     },
     "execution_count": 185,
     "metadata": {},
     "output_type": "execute_result"
    }
   ],
   "source": [
    "beta1_y = pd.read_csv(\"data/Li2008/y_betas/y_beta1.csv\")\n",
    "train1_df = pd.read_csv(\"data/Li2008/beta1/train1.csv\")\n",
    "X, y = train1_df[train1_df.columns.difference([\"y\"])], beta1_y[\"train1\"]\n",
    "train1_df.head()"
   ],
   "metadata": {
    "collapsed": false,
    "pycharm": {
     "name": "#%%\n"
    }
   }
  },
  {
   "cell_type": "code",
   "execution_count": 187,
   "outputs": [
    {
     "data": {
      "text/html": "<div>\n<style scoped>\n    .dataframe tbody tr th:only-of-type {\n        vertical-align: middle;\n    }\n\n    .dataframe tbody tr th {\n        vertical-align: top;\n    }\n\n    .dataframe thead th {\n        text-align: right;\n    }\n</style>\n<table border=\"1\" class=\"dataframe\">\n  <thead>\n    <tr style=\"text-align: right;\">\n      <th></th>\n      <th>y</th>\n      <th>TF1</th>\n      <th>TF10</th>\n      <th>TF100</th>\n      <th>TF100g1</th>\n      <th>TF100g10</th>\n      <th>TF100g2</th>\n      <th>TF100g3</th>\n      <th>TF100g4</th>\n      <th>TF100g5</th>\n      <th>...</th>\n      <th>TF9g1</th>\n      <th>TF9g10</th>\n      <th>TF9g2</th>\n      <th>TF9g3</th>\n      <th>TF9g4</th>\n      <th>TF9g5</th>\n      <th>TF9g6</th>\n      <th>TF9g7</th>\n      <th>TF9g8</th>\n      <th>TF9g9</th>\n    </tr>\n  </thead>\n  <tbody>\n    <tr>\n      <th>0</th>\n      <td>-69.465965</td>\n      <td>-1.5165</td>\n      <td>-1.8580</td>\n      <td>-0.6363</td>\n      <td>-0.5566</td>\n      <td>-0.5426</td>\n      <td>-0.4570</td>\n      <td>-0.4322</td>\n      <td>0.5636</td>\n      <td>0.5911</td>\n      <td>...</td>\n      <td>0.6709</td>\n      <td>0.3656</td>\n      <td>-0.0256</td>\n      <td>0.4763</td>\n      <td>0.1145</td>\n      <td>0.1980</td>\n      <td>0.5041</td>\n      <td>-0.1537</td>\n      <td>0.5332</td>\n      <td>0.6933</td>\n    </tr>\n    <tr>\n      <th>1</th>\n      <td>37.608878</td>\n      <td>1.4627</td>\n      <td>2.0399</td>\n      <td>-1.3733</td>\n      <td>-1.5491</td>\n      <td>0.2329</td>\n      <td>-0.2554</td>\n      <td>-1.6635</td>\n      <td>-1.5650</td>\n      <td>-1.4238</td>\n      <td>...</td>\n      <td>1.4258</td>\n      <td>1.8623</td>\n      <td>1.1627</td>\n      <td>1.6505</td>\n      <td>1.9165</td>\n      <td>0.5123</td>\n      <td>1.4859</td>\n      <td>1.7212</td>\n      <td>1.1304</td>\n      <td>2.0692</td>\n    </tr>\n    <tr>\n      <th>2</th>\n      <td>26.729028</td>\n      <td>0.9093</td>\n      <td>1.5163</td>\n      <td>-0.1892</td>\n      <td>-0.3427</td>\n      <td>-1.1153</td>\n      <td>-0.4356</td>\n      <td>0.0840</td>\n      <td>0.0885</td>\n      <td>-0.7811</td>\n      <td>...</td>\n      <td>1.0221</td>\n      <td>0.3324</td>\n      <td>-0.2786</td>\n      <td>-0.2369</td>\n      <td>-0.1276</td>\n      <td>-0.0342</td>\n      <td>-0.8183</td>\n      <td>0.2453</td>\n      <td>0.3041</td>\n      <td>-0.7992</td>\n    </tr>\n    <tr>\n      <th>3</th>\n      <td>-41.303925</td>\n      <td>-0.5444</td>\n      <td>0.0940</td>\n      <td>-0.6367</td>\n      <td>-0.6540</td>\n      <td>0.1439</td>\n      <td>-0.7711</td>\n      <td>-0.9095</td>\n      <td>-0.4795</td>\n      <td>0.0582</td>\n      <td>...</td>\n      <td>0.5962</td>\n      <td>1.1450</td>\n      <td>0.3241</td>\n      <td>0.4297</td>\n      <td>0.4719</td>\n      <td>0.7388</td>\n      <td>0.0140</td>\n      <td>0.7429</td>\n      <td>1.3787</td>\n      <td>0.7931</td>\n    </tr>\n    <tr>\n      <th>4</th>\n      <td>3.904698</td>\n      <td>0.5121</td>\n      <td>-0.6611</td>\n      <td>-0.2873</td>\n      <td>-0.0808</td>\n      <td>-0.3123</td>\n      <td>-0.6502</td>\n      <td>-0.3691</td>\n      <td>0.5075</td>\n      <td>-0.2808</td>\n      <td>...</td>\n      <td>-0.1319</td>\n      <td>-0.5565</td>\n      <td>-0.8845</td>\n      <td>-0.3720</td>\n      <td>-1.2144</td>\n      <td>-0.9505</td>\n      <td>-0.0787</td>\n      <td>-0.3578</td>\n      <td>0.9971</td>\n      <td>-0.0577</td>\n    </tr>\n    <tr>\n      <th>...</th>\n      <td>...</td>\n      <td>...</td>\n      <td>...</td>\n      <td>...</td>\n      <td>...</td>\n      <td>...</td>\n      <td>...</td>\n      <td>...</td>\n      <td>...</td>\n      <td>...</td>\n      <td>...</td>\n      <td>...</td>\n      <td>...</td>\n      <td>...</td>\n      <td>...</td>\n      <td>...</td>\n      <td>...</td>\n      <td>...</td>\n      <td>...</td>\n      <td>...</td>\n      <td>...</td>\n    </tr>\n    <tr>\n      <th>95</th>\n      <td>65.441353</td>\n      <td>0.9398</td>\n      <td>0.4634</td>\n      <td>1.5387</td>\n      <td>0.6812</td>\n      <td>1.8702</td>\n      <td>0.2214</td>\n      <td>1.5680</td>\n      <td>1.1311</td>\n      <td>1.1201</td>\n      <td>...</td>\n      <td>0.1576</td>\n      <td>-0.2709</td>\n      <td>0.7397</td>\n      <td>0.1189</td>\n      <td>-0.3730</td>\n      <td>0.2267</td>\n      <td>0.1119</td>\n      <td>-0.4108</td>\n      <td>0.0996</td>\n      <td>0.2201</td>\n    </tr>\n    <tr>\n      <th>96</th>\n      <td>0.687377</td>\n      <td>-2.9457</td>\n      <td>1.0205</td>\n      <td>-0.7332</td>\n      <td>-0.8407</td>\n      <td>0.1591</td>\n      <td>-1.2701</td>\n      <td>-0.2958</td>\n      <td>-0.5602</td>\n      <td>-1.8333</td>\n      <td>...</td>\n      <td>0.1490</td>\n      <td>-0.7517</td>\n      <td>0.9736</td>\n      <td>0.4583</td>\n      <td>0.1253</td>\n      <td>0.3335</td>\n      <td>0.8109</td>\n      <td>-0.3028</td>\n      <td>0.3651</td>\n      <td>1.4440</td>\n    </tr>\n    <tr>\n      <th>97</th>\n      <td>0.198313</td>\n      <td>0.3351</td>\n      <td>-0.2952</td>\n      <td>-0.2817</td>\n      <td>-0.2847</td>\n      <td>0.7004</td>\n      <td>0.3293</td>\n      <td>0.2123</td>\n      <td>-0.8887</td>\n      <td>-0.4374</td>\n      <td>...</td>\n      <td>-0.9049</td>\n      <td>-0.5071</td>\n      <td>-1.2352</td>\n      <td>0.3870</td>\n      <td>-0.0083</td>\n      <td>0.6649</td>\n      <td>0.1658</td>\n      <td>-0.7963</td>\n      <td>-0.4795</td>\n      <td>-0.2553</td>\n    </tr>\n    <tr>\n      <th>98</th>\n      <td>33.619386</td>\n      <td>0.6948</td>\n      <td>-1.3352</td>\n      <td>-1.0782</td>\n      <td>-0.5874</td>\n      <td>-1.0762</td>\n      <td>-0.4258</td>\n      <td>-0.1818</td>\n      <td>-0.7085</td>\n      <td>-0.9082</td>\n      <td>...</td>\n      <td>-1.0867</td>\n      <td>-1.2145</td>\n      <td>-0.7220</td>\n      <td>-0.5988</td>\n      <td>-0.6164</td>\n      <td>-1.4100</td>\n      <td>-1.3713</td>\n      <td>0.0974</td>\n      <td>-0.9165</td>\n      <td>-2.3823</td>\n    </tr>\n    <tr>\n      <th>99</th>\n      <td>37.826166</td>\n      <td>1.2116</td>\n      <td>-0.4184</td>\n      <td>0.3858</td>\n      <td>-0.5008</td>\n      <td>1.4578</td>\n      <td>1.2192</td>\n      <td>-0.0064</td>\n      <td>-0.2970</td>\n      <td>-0.3221</td>\n      <td>...</td>\n      <td>-1.3626</td>\n      <td>-1.9806</td>\n      <td>-2.0524</td>\n      <td>-1.1045</td>\n      <td>-1.6343</td>\n      <td>-2.0277</td>\n      <td>-0.3368</td>\n      <td>-0.8770</td>\n      <td>-1.7382</td>\n      <td>-0.7291</td>\n    </tr>\n  </tbody>\n</table>\n<p>100 rows × 2201 columns</p>\n</div>",
      "text/plain": "            y     TF1    TF10   TF100  TF100g1  TF100g10  TF100g2  TF100g3  \\\n0  -69.465965 -1.5165 -1.8580 -0.6363  -0.5566   -0.5426  -0.4570  -0.4322   \n1   37.608878  1.4627  2.0399 -1.3733  -1.5491    0.2329  -0.2554  -1.6635   \n2   26.729028  0.9093  1.5163 -0.1892  -0.3427   -1.1153  -0.4356   0.0840   \n3  -41.303925 -0.5444  0.0940 -0.6367  -0.6540    0.1439  -0.7711  -0.9095   \n4    3.904698  0.5121 -0.6611 -0.2873  -0.0808   -0.3123  -0.6502  -0.3691   \n..        ...     ...     ...     ...      ...       ...      ...      ...   \n95  65.441353  0.9398  0.4634  1.5387   0.6812    1.8702   0.2214   1.5680   \n96   0.687377 -2.9457  1.0205 -0.7332  -0.8407    0.1591  -1.2701  -0.2958   \n97   0.198313  0.3351 -0.2952 -0.2817  -0.2847    0.7004   0.3293   0.2123   \n98  33.619386  0.6948 -1.3352 -1.0782  -0.5874   -1.0762  -0.4258  -0.1818   \n99  37.826166  1.2116 -0.4184  0.3858  -0.5008    1.4578   1.2192  -0.0064   \n\n    TF100g4  TF100g5  ...   TF9g1  TF9g10   TF9g2   TF9g3   TF9g4   TF9g5  \\\n0    0.5636   0.5911  ...  0.6709  0.3656 -0.0256  0.4763  0.1145  0.1980   \n1   -1.5650  -1.4238  ...  1.4258  1.8623  1.1627  1.6505  1.9165  0.5123   \n2    0.0885  -0.7811  ...  1.0221  0.3324 -0.2786 -0.2369 -0.1276 -0.0342   \n3   -0.4795   0.0582  ...  0.5962  1.1450  0.3241  0.4297  0.4719  0.7388   \n4    0.5075  -0.2808  ... -0.1319 -0.5565 -0.8845 -0.3720 -1.2144 -0.9505   \n..      ...      ...  ...     ...     ...     ...     ...     ...     ...   \n95   1.1311   1.1201  ...  0.1576 -0.2709  0.7397  0.1189 -0.3730  0.2267   \n96  -0.5602  -1.8333  ...  0.1490 -0.7517  0.9736  0.4583  0.1253  0.3335   \n97  -0.8887  -0.4374  ... -0.9049 -0.5071 -1.2352  0.3870 -0.0083  0.6649   \n98  -0.7085  -0.9082  ... -1.0867 -1.2145 -0.7220 -0.5988 -0.6164 -1.4100   \n99  -0.2970  -0.3221  ... -1.3626 -1.9806 -2.0524 -1.1045 -1.6343 -2.0277   \n\n     TF9g6   TF9g7   TF9g8   TF9g9  \n0   0.5041 -0.1537  0.5332  0.6933  \n1   1.4859  1.7212  1.1304  2.0692  \n2  -0.8183  0.2453  0.3041 -0.7992  \n3   0.0140  0.7429  1.3787  0.7931  \n4  -0.0787 -0.3578  0.9971 -0.0577  \n..     ...     ...     ...     ...  \n95  0.1119 -0.4108  0.0996  0.2201  \n96  0.8109 -0.3028  0.3651  1.4440  \n97  0.1658 -0.7963 -0.4795 -0.2553  \n98 -1.3713  0.0974 -0.9165 -2.3823  \n99 -0.3368 -0.8770 -1.7382 -0.7291  \n\n[100 rows x 2201 columns]"
     },
     "execution_count": 187,
     "metadata": {},
     "output_type": "execute_result"
    }
   ],
   "source": [
    "train1_contin = pd.concat([y, X], axis=1)\n",
    "train1_contin.rename(columns={\"train1\": \"y\"}, inplace=True)\n",
    "train1_contin.to_csv(\"data/Li2008/beta1/train1_contin.csv\", index=False)\n",
    "train1_contin"
   ],
   "metadata": {
    "collapsed": false,
    "pycharm": {
     "name": "#%%\n"
    }
   }
  },
  {
   "cell_type": "code",
   "execution_count": null,
   "outputs": [],
   "source": [
    "test1_df = pd.read_csv(\"data/Li2008/beta1/test1.csv\")\n",
    "X_test, y_test = test1_df[test1_df.columns.difference([\"y\"])], beta1_y[\"test1\"]\n",
    "test1_df.head()"
   ],
   "metadata": {
    "collapsed": false,
    "pycharm": {
     "name": "#%%\n",
     "is_executing": true
    }
   }
  },
  {
   "cell_type": "code",
   "execution_count": 188,
   "outputs": [],
   "source": [
    "test1_contin = pd.concat([y_test, X_test], axis=1)\n",
    "test1_contin.rename(columns={\"test1\": \"y\"}, inplace=True)\n",
    "test1_contin.to_csv(\"data/Li2008/beta1/test1_contin.csv\", index=False)"
   ],
   "metadata": {
    "collapsed": false,
    "pycharm": {
     "name": "#%%\n"
    }
   }
  },
  {
   "cell_type": "code",
   "execution_count": 24,
   "outputs": [
    {
     "data": {
      "text/plain": "2200"
     },
     "execution_count": 24,
     "metadata": {},
     "output_type": "execute_result"
    }
   ],
   "source": [
    "import networkx as nx\n",
    "\n",
    "G = nx.Graph()\n",
    "for i in range(1, 201):\n",
    "    G.add_node(f\"TF{i}\")\n",
    "    for g in range(1, 11):\n",
    "        G.add_node(f\"TF{i}g{g}\")\n",
    "        G.add_edge(f\"TF{i}\", f\"TF{i}g{g}\", weight=0.7)\n",
    "\n",
    "len(G)"
   ],
   "metadata": {
    "collapsed": false,
    "pycharm": {
     "name": "#%%\n"
    }
   }
  },
  {
   "cell_type": "code",
   "execution_count": 27,
   "outputs": [],
   "source": [
    "num_nodes = len(G.nodes)\n",
    "L = np.zeros(shape=(num_nodes, num_nodes))\n",
    "\n",
    "i, j = 0, 0\n",
    "for u in G.nodes:\n",
    "    neighbors = [n for n in G.neighbors(u)]\n",
    "    d_u = len(neighbors) * 0.7\n",
    "    for v in G.nodes:\n",
    "        if u == v:\n",
    "            L[i, j] = 1\n",
    "        elif v in neighbors:\n",
    "            d_v = len([n for n in G.neighbors(v)]) * 0.7\n",
    "\n",
    "            L[i, j] = -0.7 / math.sqrt(d_u * d_v)\n",
    "\n",
    "        j += 1\n",
    "\n",
    "    j = 0\n",
    "    i += 1\n"
   ],
   "metadata": {
    "collapsed": false,
    "pycharm": {
     "name": "#%%\n"
    }
   }
  },
  {
   "cell_type": "code",
   "execution_count": 308,
   "outputs": [],
   "source": [
    "S = nx.linalg.graphmatrix.incidence_matrix(G, oriented=True, weight=\"weight\").toarray()"
   ],
   "metadata": {
    "collapsed": false,
    "pycharm": {
     "name": "#%%\n"
    }
   }
  },
  {
   "cell_type": "code",
   "execution_count": 314,
   "outputs": [
    {
     "data": {
      "text/plain": "(2200, 2000)"
     },
     "execution_count": 314,
     "metadata": {},
     "output_type": "execute_result"
    }
   ],
   "source": [
    "S.shape"
   ],
   "metadata": {
    "collapsed": false,
    "pycharm": {
     "name": "#%%\n"
    }
   }
  },
  {
   "cell_type": "code",
   "execution_count": 277,
   "outputs": [],
   "source": [
    "\n",
    "from sklearn.preprocessing import StandardScaler\n",
    "\n",
    "xscaler = StandardScaler().fit(X)\n",
    "X_scaled = xscaler.fit_transform(X)\n",
    "yscaler = StandardScaler().fit(np.array(y).reshape(-1, 1))\n",
    "y_scaled = yscaler.fit_transform(np.array(y).reshape(-1, 1))\n",
    "y_scaled = np.ndarray.flatten(y_scaled)"
   ],
   "metadata": {
    "collapsed": false,
    "pycharm": {
     "name": "#%%\n"
    }
   }
  },
  {
   "cell_type": "code",
   "execution_count": 345,
   "outputs": [
    {
     "name": "stderr",
     "output_type": "stream",
     "text": [
      "/home/xabush/moses-incons-pen-xp/venv/lib/python3.8/site-packages/sklearn/linear_model/_coordinate_descent.py:530: ConvergenceWarning: Objective did not converge. You might want to increase the number of iterations. Duality gap: 0.0, tolerance: 0.0\n",
      "  model = cd_fast.enet_coordinate_descent(\n",
      "/home/xabush/moses-incons-pen-xp/venv/lib/python3.8/site-packages/sklearn/linear_model/_coordinate_descent.py:530: ConvergenceWarning: Objective did not converge. You might want to increase the number of iterations. Duality gap: 0.014932359764664282, tolerance: 0.010000000000000002\n",
      "  model = cd_fast.enet_coordinate_descent(\n",
      "/home/xabush/moses-incons-pen-xp/venv/lib/python3.8/site-packages/sklearn/linear_model/_coordinate_descent.py:530: ConvergenceWarning: Objective did not converge. You might want to increase the number of iterations. Duality gap: 0.020014216833918602, tolerance: 0.010000000000000002\n",
      "  model = cd_fast.enet_coordinate_descent(\n",
      "/home/xabush/moses-incons-pen-xp/venv/lib/python3.8/site-packages/sklearn/linear_model/_coordinate_descent.py:530: ConvergenceWarning: Objective did not converge. You might want to increase the number of iterations. Duality gap: 0.01917829419585139, tolerance: 0.010000000000000002\n",
      "  model = cd_fast.enet_coordinate_descent(\n",
      "/home/xabush/moses-incons-pen-xp/venv/lib/python3.8/site-packages/sklearn/linear_model/_coordinate_descent.py:530: ConvergenceWarning: Objective did not converge. You might want to increase the number of iterations. Duality gap: 0.01808114742249471, tolerance: 0.010000000000000002\n",
      "  model = cd_fast.enet_coordinate_descent(\n",
      "/home/xabush/moses-incons-pen-xp/venv/lib/python3.8/site-packages/sklearn/linear_model/_coordinate_descent.py:530: ConvergenceWarning: Objective did not converge. You might want to increase the number of iterations. Duality gap: 0.018430423664986623, tolerance: 0.010000000000000002\n",
      "  model = cd_fast.enet_coordinate_descent(\n",
      "/home/xabush/moses-incons-pen-xp/venv/lib/python3.8/site-packages/sklearn/linear_model/_coordinate_descent.py:530: ConvergenceWarning: Objective did not converge. You might want to increase the number of iterations. Duality gap: 0.017785781349663077, tolerance: 0.010000000000000002\n",
      "  model = cd_fast.enet_coordinate_descent(\n",
      "/home/xabush/moses-incons-pen-xp/venv/lib/python3.8/site-packages/sklearn/linear_model/_coordinate_descent.py:530: ConvergenceWarning: Objective did not converge. You might want to increase the number of iterations. Duality gap: 0.01642914313591501, tolerance: 0.010000000000000002\n",
      "  model = cd_fast.enet_coordinate_descent(\n",
      "/home/xabush/moses-incons-pen-xp/venv/lib/python3.8/site-packages/sklearn/linear_model/_coordinate_descent.py:530: ConvergenceWarning: Objective did not converge. You might want to increase the number of iterations. Duality gap: 0.012636643436931265, tolerance: 0.010000000000000002\n",
      "  model = cd_fast.enet_coordinate_descent(\n",
      "/home/xabush/moses-incons-pen-xp/venv/lib/python3.8/site-packages/sklearn/linear_model/_coordinate_descent.py:530: ConvergenceWarning: Objective did not converge. You might want to increase the number of iterations. Duality gap: 0.010736727627510496, tolerance: 0.010000000000000002\n",
      "  model = cd_fast.enet_coordinate_descent(\n",
      "/home/xabush/moses-incons-pen-xp/venv/lib/python3.8/site-packages/sklearn/linear_model/_coordinate_descent.py:530: ConvergenceWarning: Objective did not converge. You might want to increase the number of iterations. Duality gap: 0.013388857063504393, tolerance: 0.010000000000000002\n",
      "  model = cd_fast.enet_coordinate_descent(\n",
      "/home/xabush/moses-incons-pen-xp/venv/lib/python3.8/site-packages/sklearn/linear_model/_coordinate_descent.py:530: ConvergenceWarning: Objective did not converge. You might want to increase the number of iterations. Duality gap: 0.014956041123198899, tolerance: 0.010000000000000002\n",
      "  model = cd_fast.enet_coordinate_descent(\n",
      "/home/xabush/moses-incons-pen-xp/venv/lib/python3.8/site-packages/sklearn/linear_model/_coordinate_descent.py:530: ConvergenceWarning: Objective did not converge. You might want to increase the number of iterations. Duality gap: 0.01618647047583699, tolerance: 0.010000000000000002\n",
      "  model = cd_fast.enet_coordinate_descent(\n",
      "/home/xabush/moses-incons-pen-xp/venv/lib/python3.8/site-packages/sklearn/linear_model/_coordinate_descent.py:530: ConvergenceWarning: Objective did not converge. You might want to increase the number of iterations. Duality gap: 0.015286551772092483, tolerance: 0.010000000000000002\n",
      "  model = cd_fast.enet_coordinate_descent(\n",
      "/home/xabush/moses-incons-pen-xp/venv/lib/python3.8/site-packages/sklearn/linear_model/_coordinate_descent.py:530: ConvergenceWarning: Objective did not converge. You might want to increase the number of iterations. Duality gap: 0.011444424429680078, tolerance: 0.010000000000000002\n",
      "  model = cd_fast.enet_coordinate_descent(\n",
      "/home/xabush/moses-incons-pen-xp/venv/lib/python3.8/site-packages/sklearn/linear_model/_coordinate_descent.py:530: ConvergenceWarning: Objective did not converge. You might want to increase the number of iterations. Duality gap: 0.010348297968451714, tolerance: 0.010000000000000002\n",
      "  model = cd_fast.enet_coordinate_descent(\n"
     ]
    },
    {
     "data": {
      "text/plain": "0.0"
     },
     "execution_count": 345,
     "metadata": {},
     "output_type": "execute_result"
    }
   ],
   "source": [
    "from sklearn.linear_model import LassoCV\n",
    "from notebooks.variable_selection.custom_model import *\n",
    "lasso_cv = LassoCV(cv=5, fit_intercept=False)\n",
    "network_reg = NetworkRegLasso(reg1=0.1, reg2=1000)\n",
    "X_star, y_star = network_reg.augment_data(X_scaled, y_scaled, S)\n",
    "lasso_cv.fit(X_star, y_star)\n",
    "lasso_cv.score(X_star, y_star)"
   ],
   "metadata": {
    "collapsed": false,
    "pycharm": {
     "name": "#%%\n"
    }
   }
  },
  {
   "cell_type": "code",
   "execution_count": 344,
   "outputs": [
    {
     "data": {
      "text/plain": "(2300,)"
     },
     "execution_count": 344,
     "metadata": {},
     "output_type": "execute_result"
    }
   ],
   "source": [
    "y_star.shape"
   ],
   "metadata": {
    "collapsed": false,
    "pycharm": {
     "name": "#%%\n"
    }
   }
  },
  {
   "cell_type": "code",
   "execution_count": 298,
   "outputs": [
    {
     "data": {
      "text/plain": "0.0"
     },
     "execution_count": 298,
     "metadata": {},
     "output_type": "execute_result"
    }
   ],
   "source": [
    "lasso_cv.score(X_scaled, y_scaled)"
   ],
   "metadata": {
    "collapsed": false,
    "pycharm": {
     "name": "#%%\n"
    }
   }
  },
  {
   "cell_type": "code",
   "execution_count": 338,
   "outputs": [
    {
     "data": {
      "text/plain": "NetworkRegLasso(reg1=0.012, reg2=10000)"
     },
     "execution_count": 338,
     "metadata": {},
     "output_type": "execute_result"
    }
   ],
   "source": [
    "from notebooks.variable_selection.custom_model import *\n",
    "network_reg = NetworkRegLasso(reg1=0.012, reg2=10000)\n",
    "network_reg.fit(X_scaled, y_scaled, S)"
   ],
   "metadata": {
    "collapsed": false,
    "pycharm": {
     "name": "#%%\n"
    }
   }
  },
  {
   "cell_type": "code",
   "execution_count": 340,
   "outputs": [
    {
     "data": {
      "text/plain": "(array([   0,    3,    6,   89,  497,  498,  500,  507,  638,  699,  759,\n        1028, 1031, 1083, 1087, 1210, 1211, 1212, 1213, 1214, 1215, 1216,\n        1217, 1218, 1219, 1220, 1349, 1350, 1352, 1353, 1466, 1468, 1471,\n        1634, 1641]),)"
     },
     "execution_count": 340,
     "metadata": {},
     "output_type": "execute_result"
    }
   ],
   "source": [
    "np.where(network_reg.coef_ != 0)"
   ],
   "metadata": {
    "collapsed": false,
    "pycharm": {
     "name": "#%%\n"
    }
   }
  },
  {
   "cell_type": "code",
   "execution_count": 341,
   "outputs": [
    {
     "data": {
      "text/plain": "0.033739622038597594"
     },
     "execution_count": 341,
     "metadata": {},
     "output_type": "execute_result"
    }
   ],
   "source": [
    "from sklearn.metrics import mean_absolute_error, r2_score\n",
    "\n",
    "y_pred = network_reg.predict(X_scaled)\n",
    "y_inv = yscaler.inverse_transform(y_pred)\n",
    "r2_score(y, y_inv)"
   ],
   "metadata": {
    "collapsed": false,
    "pycharm": {
     "name": "#%%\n"
    }
   }
  },
  {
   "cell_type": "code",
   "execution_count": 323,
   "outputs": [
    {
     "data": {
      "text/plain": "array([-3.22750547, 15.55177043, 15.04984547,  0.03079299,  6.97115787,\n       10.89346307,  3.12478966,  3.87017633,  1.78964356,  2.79957672,\n        9.32162312,  5.4240827 ,  7.88951197,  9.84360542, 13.59284054,\n        6.39958039, 11.74416186, -1.22142303,  5.26592327,  6.30211199,\n        7.3666207 ,  8.88651505,  5.80996716, 11.36377311,  5.69442845,\n       10.4523063 ,  0.90770385, 11.04921899, 18.00975541, 16.03763021,\n        6.83800559,  5.70783612, 11.49309826,  5.36681109, -0.964254  ,\n        4.73945214, 12.87647482,  7.72864236,  7.93645443,  8.34491128,\n       10.5343272 ,  4.4768239 ,  6.85574347,  9.01732737,  0.79516276,\n        3.66406511,  8.42242286,  2.22963638,  2.97288053, 14.60075584,\n       -1.95050564, 14.43715295,  8.64686062,  1.24414788,  0.36885661,\n       -2.4847346 ,  7.13706291,  7.21394534, 12.48935729, 12.79093451,\n        1.08418586,  9.14349002,  6.34676486, 10.18955778, 14.41775623,\n        1.95194712,  5.03069772,  4.25497071,  8.20632858,  4.09302925,\n        6.6270287 ,  3.78576639, 10.55258143,  8.51226031,  7.34317622,\n        6.40118596, 14.52905698, 10.68670675, 13.11355744, -1.21061395,\n        2.78959449,  8.99771695, 13.74224485,  8.07020831,  8.52681699,\n       10.60422205, 10.61438483,  0.6323521 ,  1.88494712,  0.93346846,\n       12.0182956 , -1.85996803,  5.45790876, 10.96541334,  8.74984424,\n       13.70721582, -3.06666772,  6.14818854, 12.38887267, 12.55612831])"
     },
     "execution_count": 323,
     "metadata": {},
     "output_type": "execute_result"
    }
   ],
   "source": [
    "y_inv"
   ],
   "metadata": {
    "collapsed": false,
    "pycharm": {
     "name": "#%%\n"
    }
   }
  },
  {
   "cell_type": "code",
   "execution_count": 281,
   "outputs": [
    {
     "data": {
      "text/plain": "array([0., 0., 0., 0., 0., 0., 0., 0., 0., 0., 0., 0., 0., 0., 0., 0., 0.,\n       0., 0., 0., 0., 0., 0., 0., 0., 0., 0., 0., 0., 0., 0., 0., 0., 0.,\n       0., 0., 0., 0., 0., 0., 0., 0., 0., 0., 0., 0., 0., 0., 0., 0., 0.,\n       0., 0., 0., 0., 0., 0., 0., 0., 0., 0., 0., 0., 0., 0., 0., 0., 0.,\n       0., 0., 0., 0., 0., 0., 0., 0., 0., 0., 0., 0., 0., 0., 0., 0., 0.,\n       0., 0., 0., 0., 0., 0., 0., 0., 0., 0., 0., 0., 0., 0., 0.])"
     },
     "execution_count": 281,
     "metadata": {},
     "output_type": "execute_result"
    }
   ],
   "source": [
    "y_pred"
   ],
   "metadata": {
    "collapsed": false,
    "pycharm": {
     "name": "#%%\n"
    }
   }
  },
  {
   "cell_type": "code",
   "execution_count": 256,
   "outputs": [
    {
     "data": {
      "text/plain": "-205.88169986753417"
     },
     "execution_count": 256,
     "metadata": {},
     "output_type": "execute_result"
    }
   ],
   "source": [
    "network_reg.score(X, y)"
   ],
   "metadata": {
    "collapsed": false,
    "pycharm": {
     "name": "#%%\n"
    }
   }
  },
  {
   "cell_type": "code",
   "execution_count": 257,
   "outputs": [
    {
     "data": {
      "text/plain": "(array([   3,    6,   15,   27,   89,   95,  115,  208,  216,  225,  242,\n         305,  318,  338,  341,  374,  473,  475,  480,  487,  505,  539,\n         551,  571,  616,  617,  627,  638,  702,  759,  787,  809,  864,\n         875,  881,  918,  922,  939,  949,  952,  953,  994, 1005, 1028,\n        1031, 1067, 1083, 1094, 1150, 1196, 1204, 1212, 1214, 1217, 1220,\n        1308, 1339, 1343, 1349, 1350, 1352, 1455, 1462, 1468, 1471, 1564,\n        1634, 1641, 1711, 1715, 1723, 1757, 1797, 1827, 1865, 1896, 1899,\n        1909, 1970, 1974, 2022, 2039, 2092, 2106, 2109, 2163, 2191, 2196]),)"
     },
     "execution_count": 257,
     "metadata": {},
     "output_type": "execute_result"
    }
   ],
   "source": [
    "np.where(network_reg.coef_ != 0)"
   ],
   "metadata": {
    "collapsed": false,
    "pycharm": {
     "name": "#%%\n"
    }
   }
  },
  {
   "cell_type": "code",
   "execution_count": 240,
   "outputs": [
    {
     "data": {
      "text/plain": "-1826.252361200974"
     },
     "execution_count": 240,
     "metadata": {},
     "output_type": "execute_result"
    }
   ],
   "source": [
    "network_reg.score(X_test, y_test)"
   ],
   "metadata": {
    "collapsed": false,
    "pycharm": {
     "name": "#%%\n"
    }
   }
  },
  {
   "cell_type": "code",
   "execution_count": 151,
   "outputs": [
    {
     "data": {
      "text/plain": "2043.6624683782418"
     },
     "execution_count": 151,
     "metadata": {},
     "output_type": "execute_result"
    }
   ],
   "source": [
    "from sklearn.linear_model import Lasso\n",
    "X_star, y_star = network_reg.augment_data(X, y, L)\n",
    "lasso = Lasso(alpha=0.6)\n",
    "lasso.fit(X_star, y_star)\n",
    "y_pred = lasso.predict(X_test)"
   ],
   "metadata": {
    "collapsed": false,
    "pycharm": {
     "name": "#%%\n"
    }
   }
  },
  {
   "cell_type": "code",
   "execution_count": null,
   "outputs": [
    {
     "name": "stderr",
     "output_type": "stream",
     "text": [
      "/home/xabush/moses-incons-pen-xp/venv/lib/python3.8/site-packages/sklearn/linear_model/_coordinate_descent.py:530: ConvergenceWarning: Objective did not converge. You might want to increase the number of iterations. Duality gap: 0.0, tolerance: 0.0\n",
      "  model = cd_fast.enet_coordinate_descent(\n"
     ]
    }
   ],
   "source": [
    "from sklearn.linear_model import LassoCV\n",
    "\n",
    "lasso_cv = LassoCV(cv=10, random_state=42, n_jobs=-1, max_iter=10000, n_alphas=1000, normalize=True )\n",
    "lasso_cv.fit(X_star, y_star)"
   ],
   "metadata": {
    "collapsed": false,
    "pycharm": {
     "name": "#%%\n",
     "is_executing": true
    }
   }
  },
  {
   "cell_type": "code",
   "execution_count": 140,
   "outputs": [
    {
     "data": {
      "text/plain": "(array([   3,   10,   27,   89,   95,  115,  242,  487,  498,  616,  759,\n         787,  864,  875,  922,  949,  952, 1028, 1083, 1094, 1212, 1213,\n        1214, 1339, 1343, 1350, 1352, 1468, 1471, 1615, 1617, 1634, 1641,\n        1757, 1797, 1865, 1980, 2039, 2109]),)"
     },
     "execution_count": 140,
     "metadata": {},
     "output_type": "execute_result"
    }
   ],
   "source": [
    "np.where(lasso_cv.coef_ != 0)"
   ],
   "metadata": {
    "collapsed": false,
    "pycharm": {
     "name": "#%%\n"
    }
   }
  },
  {
   "cell_type": "code",
   "execution_count": 126,
   "outputs": [
    {
     "data": {
      "text/plain": "LassoCV(cv=10, random_state=42)"
     },
     "execution_count": 126,
     "metadata": {},
     "output_type": "execute_result"
    }
   ],
   "source": [
    "lasso_cv.fit(X, y)"
   ],
   "metadata": {
    "collapsed": false,
    "pycharm": {
     "name": "#%%\n"
    }
   }
  },
  {
   "cell_type": "code",
   "execution_count": 146,
   "outputs": [
    {
     "data": {
      "text/plain": "0.24585833633935705"
     },
     "execution_count": 146,
     "metadata": {},
     "output_type": "execute_result"
    }
   ],
   "source": [
    "lasso_cv.score(X_test, y_test)"
   ],
   "metadata": {
    "collapsed": false,
    "pycharm": {
     "name": "#%%\n"
    }
   }
  },
  {
   "cell_type": "code",
   "execution_count": 144,
   "outputs": [
    {
     "data": {
      "text/plain": "0.022307668672097672"
     },
     "execution_count": 144,
     "metadata": {},
     "output_type": "execute_result"
    }
   ],
   "source": [
    "lasso_cv.alpha_"
   ],
   "metadata": {
    "collapsed": false,
    "pycharm": {
     "name": "#%%\n"
    }
   }
  },
  {
   "cell_type": "code",
   "execution_count": 183,
   "outputs": [
    {
     "data": {
      "text/plain": "NetworkRegLasso(reg1=0.3842, reg2=1)"
     },
     "execution_count": 183,
     "metadata": {},
     "output_type": "execute_result"
    }
   ],
   "source": [
    "network_reg = NetworkRegLasso(reg1=0.3842, reg2=1)\n",
    "network_reg.fit(X, train1_df[\"y\"], L)"
   ],
   "metadata": {
    "collapsed": false,
    "pycharm": {
     "name": "#%%\n"
    }
   }
  }
 ],
 "metadata": {
  "kernelspec": {
   "name": "venv",
   "language": "python",
   "display_name": "venv"
  },
  "language_info": {
   "codemirror_mode": {
    "name": "ipython",
    "version": 2
   },
   "file_extension": ".py",
   "mimetype": "text/x-python",
   "name": "python",
   "nbconvert_exporter": "python",
   "pygments_lexer": "ipython2",
   "version": "2.7.6"
  }
 },
 "nbformat": 4,
 "nbformat_minor": 0
}