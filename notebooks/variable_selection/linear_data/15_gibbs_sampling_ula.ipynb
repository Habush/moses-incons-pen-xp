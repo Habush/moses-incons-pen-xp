{
 "cells": [
  {
   "cell_type": "code",
   "execution_count": 13,
   "outputs": [
    {
     "name": "stdout",
     "output_type": "stream",
     "text": [
      "The autoreload extension is already loaded. To reload it, use:\n",
      "  %reload_ext autoreload\n"
     ]
    }
   ],
   "source": [
    "import jax\n",
    "import jax.numpy as jnp\n",
    "import numpy as np\n",
    "import matplotlib.pyplot as plt\n",
    "from tensorflow_probability.substrates import jax as tfp\n",
    "from sklearn.model_selection import train_test_split\n",
    "\n",
    "tfd = tfp.distributions\n",
    "plt.style.use('ggplot')\n",
    "%load_ext autoreload"
   ],
   "metadata": {
    "collapsed": false,
    "pycharm": {
     "name": "#%%\n"
    }
   }
  },
  {
   "cell_type": "code",
   "execution_count": 2,
   "outputs": [],
   "source": [
    "seed = 1234\n",
    "np.random.seed(seed)\n",
    "rng_key = jax.random.PRNGKey(42)"
   ],
   "metadata": {
    "collapsed": false,
    "pycharm": {
     "name": "#%%\n"
    }
   }
  },
  {
   "cell_type": "code",
   "execution_count": 3,
   "outputs": [],
   "source": [
    "data_dir = \"/home/xabush/code/snet/moses-incons-pen-xp/data\""
   ],
   "metadata": {
    "collapsed": false,
    "pycharm": {
     "name": "#%%\n"
    }
   }
  },
  {
   "cell_type": "code",
   "execution_count": 4,
   "outputs": [],
   "source": [
    "def get_ess(chain, burn_in):\n",
    "    c = chain\n",
    "    l = c.shape[0]\n",
    "    bi = int(burn_in * l)\n",
    "    c = c[bi:]\n",
    "    cv = tfp.mcmc.effective_sample_size(c)\n",
    "    cv = cv.at[jnp.isnan(cv)].set(1.)\n",
    "    return cv\n",
    "\n",
    "def generate_betas(sz, tf, n_genes, val_tf, val_genes, num_pos=-1):\n",
    "    if num_pos > n_genes:\n",
    "        raise ValueError(f\"Number of positive genes {num_pos} must be less than or equal to number of genes {n_genes}. To set all \"\n",
    "                         f\"genes to positive, set it to -1\")\n",
    "    beta = np.zeros(sz)\n",
    "\n",
    "    k = (tf + (tf * n_genes))\n",
    "    st = n_genes + 1\n",
    "    m = 0\n",
    "    for i in range(k):\n",
    "        if i % st == 0:\n",
    "            beta[i] = val_tf[m]\n",
    "            z = 0\n",
    "            for j in range(i + 1, i + st):\n",
    "                if num_pos < 0:\n",
    "                    beta[j] = val_tf[m]/val_genes\n",
    "                else:\n",
    "                    if z < num_pos:\n",
    "                        beta[j] = val_tf[m]/val_genes\n",
    "                    else:\n",
    "                        beta[j] = -val_tf[m]/val_genes\n",
    "                    z += 1\n",
    "            m += 1\n",
    "\n",
    "    return beta\n",
    "\n",
    "def generate_data_v2(tf, genes, tf_on=4, corr=0.7, val_tf=None, val_gene=np.sqrt(10), num_pos=-1, n=100):\n",
    "    if val_tf is None:\n",
    "        val_tf = [2, 2, 2, 2]\n",
    "    sz = (tf + (tf * genes))\n",
    "    X = np.zeros((n, sz))\n",
    "    assert len(val_tf) == tf_on\n",
    "    m = genes + 1\n",
    "    for t in range(0, m*tf, m):\n",
    "        X_tf = np.random.normal(0, 1, size=n)\n",
    "        X[:,t] = X_tf\n",
    "        for g in range(t + 1, t + m):\n",
    "            X_g = np.random.normal(corr*X_tf, 0.51, size=n)\n",
    "            X[:,g] = X_g\n",
    "\n",
    "    beta = generate_betas(sz, tf_on, genes, val_tf, val_gene, num_pos=num_pos)\n",
    "\n",
    "    sd_e = np.sqrt(np.sum(np.square(beta)) / 4)\n",
    "    err = np.random.normal(np.zeros(n), sd_e, size=n)\n",
    "\n",
    "    y = (X @ beta) + err\n",
    "\n",
    "    return X, beta, y, sd_e\n",
    "\n",
    "\n",
    "def generate_log_data(tf, genes, tf_on=4, corr=0.7, val_tf=None, val_gene=np.sqrt(10), num_pos=-1, n=100):\n",
    "    if val_tf is None:\n",
    "        val_tf = [2, 2, 2, 2]\n",
    "    if val_tf is None:\n",
    "        val_tf = [2, 2, 2, 2]\n",
    "    sz = (tf + (tf * genes))\n",
    "    X = np.zeros((n, sz))\n",
    "    assert len(val_tf) == tf_on\n",
    "    m = genes + 1\n",
    "    for t in range(0, m*tf, m):\n",
    "        X_tf = np.random.normal(0, 1, size=n)\n",
    "        X[:,t] = X_tf\n",
    "        for g in range(t + 1, t + m):\n",
    "            X_g = np.random.normal(corr*X_tf, 0.51, size=n)\n",
    "            X[:,g] = X_g\n",
    "\n",
    "    beta = generate_betas(sz, tf_on, genes, val_tf, val_gene, num_pos=num_pos)\n",
    "\n",
    "    y_dist = tfd.Bernoulli(logits=(X @ beta))\n",
    "    print(y_dist)\n",
    "    y_log = y_dist.sample(seed=rng_key)\n",
    "\n",
    "    return X, beta, y_log\n",
    "\n",
    "def get_assoc_mat(tf, genes, bias=False):\n",
    "    feats = tf + (tf * genes)\n",
    "    assoc_mat = np.eye(feats, feats)\n",
    "    m = genes + 1\n",
    "    for t in range(0, m * tf, m):\n",
    "        for g in range(t + 1, t + m):\n",
    "            assoc_mat[t, g] = 1\n",
    "            assoc_mat[g, t] = 1\n",
    "    if bias:\n",
    "        zero_col = np.zeros((assoc_mat.shape[0], 1))\n",
    "        zero_row = np.zeros((1, assoc_mat.shape[0] + 1))\n",
    "        assoc_mat = np.hstack((zero_col, assoc_mat))\n",
    "        return np.vstack((zero_row, assoc_mat))\n",
    "    return assoc_mat"
   ],
   "metadata": {
    "collapsed": false,
    "pycharm": {
     "name": "#%%\n"
    }
   }
  },
  {
   "cell_type": "code",
   "execution_count": 5,
   "outputs": [
    {
     "name": "stderr",
     "output_type": "stream",
     "text": [
      "/home/xabush/miniconda3/lib/python3.9/site-packages/chex/_src/pytypes.py:37: FutureWarning: jax.tree_structure is deprecated, and will be removed in a future release. Use jax.tree_util.tree_structure instead.\n",
      "  PyTreeDef = type(jax.tree_structure(None))\n"
     ]
    }
   ],
   "source": [
    "from typing import Callable, NamedTuple, Tuple\n",
    "from blackjax.types import PRNGKey, PyTree\n",
    "\n",
    "class MixedMALAPosition(NamedTuple):\n",
    "    discrete_position: PyTree\n",
    "    contin_position: PyTree\n",
    "\n",
    "class MixedMALAState(NamedTuple):\n",
    "    \"\"\"Holds info about the discrete and the continuous r.vs in the mixed support\"\"\"\n",
    "\n",
    "    position: MixedMALAPosition\n",
    "\n",
    "    disc_logprob: float\n",
    "    contin_logprob: float\n",
    "\n",
    "    discrete_logprob_grad: PyTree\n",
    "    contin_logprob_grad: PyTree\n",
    "\n",
    "    disc_step_size: float\n",
    "    contin_step_size: float"
   ],
   "metadata": {
    "collapsed": false,
    "pycharm": {
     "name": "#%%\n"
    }
   }
  },
  {
   "cell_type": "code",
   "execution_count": 6,
   "outputs": [],
   "source": [
    "from typing import Callable, NamedTuple\n",
    "from blackjax.types import PRNGKey, PyTree\n",
    "\n",
    "\n",
    "class MixedMALAState(NamedTuple):\n",
    "    \"\"\"Holds info about the discrete and the continuous r.vs in the mixed support\"\"\"\n",
    "\n",
    "    discrete_position: PyTree\n",
    "    contin_position: PyTree\n",
    "\n",
    "    disc_logprob: float\n",
    "    contin_logprob: float\n",
    "\n",
    "    discrete_logprob_grad: PyTree\n",
    "    contin_logprob_grad: PyTree\n",
    "\n",
    "    disc_step_size: float\n",
    "    contin_step_size: float\n",
    "\n",
    "\n",
    "from blackjax.mcmc.diffusion import generate_gaussian_noise\n",
    "from blackjax.mcmc.mala import MALAState\n",
    "\n",
    "EPS = 1e-10\n",
    "\n",
    "\n",
    "def diff_fn(state, step_size):\n",
    "    theta = jax.tree_util.tree_map(lambda x, g: -0.5 * (g) * (2. * x - 1) - (1. / (2. * step_size)),\n",
    "                                   state.position, state.logprob_grad)\n",
    "\n",
    "    return jax.nn.sigmoid(theta)\n",
    "\n",
    "\n",
    "def take_discrete_step(rng_key: PRNGKey, disc_state: MALAState, contin_state: MALAState,\n",
    "                       logprob_fn: Callable, disc_grad_fn: Callable,\n",
    "                       step_size: float) -> MALAState:\n",
    "    _, key_rmh, key_accept = jax.random.split(rng_key, 3)\n",
    "    theta_cur = disc_state.position\n",
    "\n",
    "    u = jax.random.uniform(key_rmh, shape=disc_state.position.shape)\n",
    "    p_curr = diff_fn(disc_state, step_size)\n",
    "    ind = jnp.array(u < p_curr)\n",
    "    pos_new = (1. - theta_cur) * ind + theta_cur * (1. - ind)\n",
    "\n",
    "    logprob_new = logprob_fn(pos_new, contin_state.position)\n",
    "    logprob_grad_new = disc_grad_fn(pos_new, contin_state.position)\n",
    "    new_state = MALAState(pos_new, logprob_new, logprob_grad_new)  # No metropolis update just accept the move\n",
    "\n",
    "    return new_state\n",
    "\n",
    "\n",
    "def take_contin_step(rng_key: PRNGKey, disc_state: MALAState, contin_state: MALAState,\n",
    "                     logprob_fn: Callable, contin_grad_fn: Callable,\n",
    "                     step_size: float) -> MALAState:\n",
    "    key_integrator, key_rmh = jax.random.split(rng_key)\n",
    "    noise = generate_gaussian_noise(key_integrator, contin_state.position)\n",
    "    new_position = jax.tree_util.tree_map(\n",
    "        lambda p, g, n: p + step_size * g + jnp.sqrt(2 * step_size) * n,\n",
    "        contin_state.position,\n",
    "        contin_state.logprob_grad,\n",
    "        noise,\n",
    "    )\n",
    "\n",
    "    logprob_new = logprob_fn(disc_state.position, new_position)\n",
    "    logprob_grad_new = contin_grad_fn(disc_state.position, new_position)\n",
    "    new_state = MALAState(new_position, logprob_new, logprob_grad_new)\n",
    "\n",
    "    return new_state\n",
    "\n",
    "\n",
    "def one_step(\n",
    "        rng_key: PRNGKey, state: MixedMALAState,\n",
    "        discrete_logprob_fn: Callable, contin_logprob_fn: Callable,\n",
    "        discrete_step_size: float, contin_step_size: float\n",
    ") -> MixedMALAState:\n",
    "    disc_grad_fn = jax.grad(discrete_logprob_fn)\n",
    "    contin_grad_fn = jax.grad(contin_logprob_fn, argnums=1)\n",
    "    # Evolve each variable in tandem and combine the results\n",
    "\n",
    "    disc_state = MALAState(state.discrete_position, state.disc_logprob, state.discrete_logprob_grad)\n",
    "    contin_state = MALAState(state.contin_position, state.contin_logprob, state.contin_logprob_grad)\n",
    "    # print(f\"disc pos: {disc_state.position}, contin pos: {contin_state.position}\")\n",
    "    # Take a step for the discrete variable - sample from p(discrete | contin)\n",
    "\n",
    "    new_disc_state = take_discrete_step(rng_key, disc_state, contin_state,\n",
    "                                        discrete_logprob_fn, disc_grad_fn, discrete_step_size)\n",
    "    # Take a step for the contin variable - sample from p(contin | new_discrete)\n",
    "    new_contin_state = take_contin_step(rng_key, new_disc_state, contin_state,\n",
    "                                        contin_logprob_fn, contin_grad_fn, contin_step_size)\n",
    "\n",
    "    new_state = MixedMALAState(new_disc_state.position, new_contin_state.position,\n",
    "                               new_disc_state.logprob, new_contin_state.logprob,\n",
    "                               new_disc_state.logprob_grad, new_contin_state.logprob_grad,\n",
    "                               discrete_step_size, contin_step_size)\n",
    "\n",
    "    return new_state\n",
    "\n",
    "def init(disc_position: PyTree,contin_position: PyTree,\n",
    "         disc_logprob_fn: Callable, contin_logprob_fn: Callable,\n",
    "         init_disc_step: float, init_contin_step: float) -> MixedMALAState:\n",
    "\n",
    "    disc_logprob, disc_grad_logprob = jax.value_and_grad(disc_logprob_fn)(disc_position, contin_position)\n",
    "    contin_logprob, contin_grad_logprob = jax.value_and_grad(contin_logprob_fn, argnums=1)(disc_position, contin_position)\n",
    "\n",
    "    return MixedMALAState(disc_position, contin_position,\n",
    "                          disc_logprob, contin_logprob,\n",
    "                          disc_grad_logprob, contin_grad_logprob,\n",
    "                          init_disc_step, init_contin_step)\n"
   ],
   "metadata": {
    "collapsed": false,
    "pycharm": {
     "name": "#%%\n"
    }
   }
  },
  {
   "cell_type": "code",
   "execution_count": 7,
   "outputs": [],
   "source": [
    "from tqdm import tqdm\n",
    "import pandas as pd\n",
    "from sklearn.model_selection import cross_val_score\n",
    "from sklearn.linear_model import LinearRegression, LogisticRegression\n",
    "from sklearn.metrics import roc_auc_score, mean_squared_error\n",
    "import warnings\n",
    "\n",
    "warnings.filterwarnings(\"ignore\")\n",
    "\n",
    "def run_fs_reg(X_train, X_test, y_train, y_test, feats, binary):\n",
    "    results = {\"cv_score\": [], \"test_score\": []}\n",
    "\n",
    "    X_s_train, X_s_test = X_train[:,np.array(feats, dtype=np.int32)].astype(np.int64), X_test[:,np.array(feats, dtype=np.int32)].astype(np.int64)\n",
    "    # y_train, y_test = y_train.astype(np.int64), y_test.astype(np.int64)\n",
    "    if feats.size == 1:\n",
    "        X_s_train, X_s_test = X_s_train.reshape(-1, 1), X_s_test.reshape(-1, 1)\n",
    "\n",
    "    if binary:\n",
    "        cv_score = np.mean(cross_val_score(LogisticRegression(), X_s_train, y_train, scoring=\"roc_auc\"))\n",
    "        log_est = LogisticRegression(max_iter=1000).fit(X_s_train, y_train)\n",
    "        test_score = roc_auc_score(y_test, log_est.predict_proba(X_s_test)[:,1])\n",
    "    else:\n",
    "        cv_score = -np.mean(cross_val_score(LinearRegression(), X_s_train, y_train, scoring=\"neg_root_mean_squared_error\"))\n",
    "        lin_est = LinearRegression().fit(X_s_train, y_train)\n",
    "        test_score = mean_squared_error(y_test, lin_est.predict(X_s_test), squared=False)\n",
    "    # print({\"moses_cv_score\": cv_score, \"moses_test_score\": test_score, \"log_cv_score\": cv_score, \"log_test_score\": test_score})\n",
    "    results[\"cv_score\"].append(cv_score)\n",
    "    results[\"test_score\"].append(test_score)\n",
    "\n",
    "    return results\n",
    "\n",
    "def run_param_sel_exp(*, key, X_train, X_test, y_train, y_test, J, vals,\n",
    "            disc_dist, contin_dist, disc_step_size, contin_step_size,\n",
    "            binary):\n",
    "\n",
    "    num_samples = 10000\n",
    "    num_chains = 3\n",
    "    burn_in = 0.1\n",
    "    p = J.shape[0]\n",
    "    thresholds = np.round(np.linspace(0.1, 0.9, 9), decimals=1)\n",
    "    res_dict = {\"eta\": [], \"mu\": [], \"thres\": [], \"cv_score\": [], \"test_score\": [], \"len\": [], \"num_edges\": [],\n",
    "                \"beta_cv_score\": [], \"beta_test_score\": [] }\n",
    "    for i, eta in enumerate(tqdm(vals)):\n",
    "        for j, mu in enumerate(vals):\n",
    "            # print(f\"eta - {eta:.2f}, mu - {mu:.2f}\")\n",
    "\n",
    "            disc_init_pos = disc_dist.sample(seed=key, sample_shape=(num_chains,)) * 1.\n",
    "            contin_init_pos = contin_dist.sample(seed=key, sample_shape=(num_chains,))\n",
    "\n",
    "            disc_logprob = generate_disc_logprob_fn(X_train, y_train, J, mu, eta)\n",
    "            contin_logprob = generate_contin_logprob_fn(X_train, y_train, tau, c)\n",
    "            kernel = jax.jit(lambda key, state: one_step(key, state, disc_logprob, contin_logprob, disc_step_size, contin_step_size))\n",
    "\n",
    "            init_state = jax.vmap(init, in_axes=(0, 0, None, None, None, None))(disc_init_pos, contin_init_pos, disc_logprob,\n",
    "                                                                                contin_logprob,\n",
    "                                                                                disc_step_size, contin_step_size)\n",
    "            states = inference_loop_multiple_chains(rng_key, kernel, init_state, num_samples=num_samples, num_chains=num_chains)\n",
    "\n",
    "            gamma_samples = states.discrete_position[int(burn_in*num_samples):]\n",
    "            beta_samples = states.contin_position[int(burn_in*num_samples):]\n",
    "            gamma_samples = gamma_samples.reshape(-1, p)\n",
    "            beta_samples = beta_samples.reshape(-1, p)\n",
    "\n",
    "            for t in thresholds:\n",
    "                res_dict[\"eta\"].append(eta)\n",
    "                res_dict[\"mu\"].append(mu)\n",
    "                res_dict[\"thres\"].append(t)\n",
    "                idx = jnp.squeeze(jnp.argwhere((jnp.mean(gamma_samples, axis=0) > t)))\n",
    "\n",
    "                num_edges = jnp.count_nonzero(J[idx,:][:,idx]) if idx.size > 1 else 0\n",
    "\n",
    "\n",
    "                res_dict[\"len\"].append(idx.size)\n",
    "                res_dict[\"num_edges\"].append(num_edges)\n",
    "\n",
    "                if idx.size > 0:\n",
    "                    res_idx_df = run_fs_reg(X_train, X_test, y_train, y_test, idx, binary)\n",
    "\n",
    "                    res_dict[\"cv_score\"].append(res_idx_df[\"cv_score\"][0])\n",
    "                    res_dict[\"test_score\"].append(res_idx_df[\"test_score\"][0])\n",
    "\n",
    "                    beta_sel = jnp.mean(beta_samples[:,idx], axis=0)\n",
    "\n",
    "                    if idx.size == 1:\n",
    "                        beta_sel = beta_sel.reshape(-1, 1)\n",
    "                        X_train_idx_sel = X_train[:,idx].reshape(-1, 1)\n",
    "                        X_test_idx_sel = X_test[:,idx].reshape(-1, 1)\n",
    "\n",
    "                    else:\n",
    "                        X_train_idx_sel = X_train[:,idx]\n",
    "                        X_test_idx_sel = X_test[:,idx]\n",
    "\n",
    "                    train_roc = roc_auc_score(y_train, jax.nn.sigmoid((X_train_idx_sel @ beta_sel)))\n",
    "                    test_roc = roc_auc_score(y_test, jax.nn.sigmoid((X_test_idx_sel @ beta_sel)))\n",
    "                    res_dict[\"beta_cv_score\"].append(train_roc)\n",
    "                    res_dict[\"beta_test_score\"].append(test_roc)\n",
    "\n",
    "                else:\n",
    "                    res_dict[\"cv_score\"].append(np.nan)\n",
    "                    res_dict[\"test_score\"].append(np.nan)\n",
    "                    res_dict[\"beta_cv_score\"].append(np.nan)\n",
    "                    res_dict[\"beta_test_score\"].append(np.nan)\n",
    "\n",
    "    res_df = pd.DataFrame(res_dict)\n",
    "\n",
    "    print(f\"========= Done for seed - {seed} =========\")\n",
    "\n",
    "    return res_df"
   ],
   "metadata": {
    "collapsed": false,
    "pycharm": {
     "name": "#%%\n"
    }
   }
  },
  {
   "cell_type": "code",
   "execution_count": 8,
   "outputs": [],
   "source": [
    "\n",
    "def inference_loop(rng_key, kernel, initial_state, num_samples):\n",
    "    @jax.jit\n",
    "    def one_step(state, rng_key):\n",
    "        state = kernel(rng_key, state)\n",
    "        return state, state\n",
    "\n",
    "    keys = jax.random.split(rng_key, num_samples)\n",
    "    _, states = jax.lax.scan(one_step, initial_state, keys)\n",
    "\n",
    "    return states\n",
    "\n",
    "def inference_loop_multiple_chains(rng_key, kernel, initial_state, num_samples, num_chains):\n",
    "\n",
    "    def one_step(states, rng_key):\n",
    "        keys = jax.random.split(rng_key, num_chains)\n",
    "        states = jax.vmap(kernel)(keys, states)\n",
    "        return states, states\n",
    "\n",
    "    keys = jax.random.split(rng_key, num_samples)\n",
    "    _, states = jax.lax.scan(one_step, initial_state, keys)\n",
    "\n",
    "    return states"
   ],
   "metadata": {
    "collapsed": false,
    "pycharm": {
     "name": "#%%\n"
    }
   }
  },
  {
   "cell_type": "code",
   "execution_count": 9,
   "outputs": [],
   "source": [
    "\n",
    "def gamma_energy(theta, J, eta, mu):\n",
    "    xg = theta.T @ J\n",
    "    xgx = xg @ theta\n",
    "    return eta*xgx - mu*jnp.sum(theta)\n",
    "\n",
    "def generate_disc_logprob_fn(X, y, J, mu, eta):\n",
    "\n",
    "    def discrete_logprob_fn(gamma, pos):\n",
    "        beta, sigma = pos[\"beta\"], pos[\"sigma\"]\n",
    "        sigma = jax.nn.softplus(sigma) # ensure sigma is always positive\n",
    "        X_gamma = (X @ jnp.diag(gamma))\n",
    "        ising_logp = gamma_energy(gamma, J, eta, mu)\n",
    "        log_ll = -jnp.sum(((y - (X_gamma @ beta)) ** 2) /  2 * (sigma ** 2))\n",
    "\n",
    "        return ising_logp + log_ll\n",
    "\n",
    "    return discrete_logprob_fn\n",
    "\n",
    "\n",
    "def generate_contin_logprob_fn(X, y, tau, c):\n",
    "    n, p = X.shape\n",
    "    cov = X.T @ X\n",
    "    # R = np.identity(p)\n",
    "    # R = jnp.linalg.pinv(cov)\n",
    "    v, l = 1., 1.\n",
    "\n",
    "    def contin_logprob_fn(gamma, pos):\n",
    "        beta, sigma = pos[\"beta\"], pos[\"sigma\"]\n",
    "        # beta = pos[\"beta\"]\n",
    "        sigma = jax.nn.softplus(sigma) # ensure sigma is always positive\n",
    "\n",
    "        D = (gamma*c*tau) + (1 - gamma)*(tau)\n",
    "        # A = D @ R @ D\n",
    "        # D_inv = jnp.linalg.inv(jnp.diag(D))\n",
    "\n",
    "        # A = jnp.linalg.inv((1./sigma**2)*cov + (D_inv @ R @ D_inv))\n",
    "        # print(A.shape)\n",
    "        # mu = (A * (1/sigma ** 2)) @ cov\n",
    "\n",
    "        beta_dist = tfd.MultivariateNormalDiag(loc=jnp.zeros(p), scale_diag=D)\n",
    "        # print(beta_dist)\n",
    "        beta_logp = beta_dist.log_prob(beta)\n",
    "        # print(f\"beta logp: {beta_logp}\")\n",
    "        log_ll_1 = jnp.abs(jnp.sum((y - (X @ beta)) ** 2))\n",
    "        log_ll_2 = jnp.abs(jnp.sum((y - (X @ (beta * gamma))) ** 2))\n",
    "        sigma_dist = tfd.InverseGamma(concentration=(n + v)/2, scale=(log_ll_1 + v*l)/2)\n",
    "        sigma_logp = sigma_dist.log_prob(sigma)\n",
    "        # print(f\"sigma logp: {sigma_logp}\")\n",
    "        return beta_logp + sigma_logp\n",
    "\n",
    "    return contin_logprob_fn\n"
   ],
   "metadata": {
    "collapsed": false,
    "pycharm": {
     "name": "#%%\n"
    }
   }
  },
  {
   "cell_type": "code",
   "execution_count": 218,
   "outputs": [],
   "source": [
    "\n",
    "np.random.seed(1234)\n",
    "X_lin, beta_true_lin, y_lin, sigma_true_lin = generate_data_v2(20, 10, tf_on=4, val_tf=[5, 5, 5, 5], corr=0.7, n=100)\n",
    "X_train_lin, X_test_lin, y_train_lin, y_test_lin = train_test_split(X_lin, y_lin, test_size=0.3, shuffle=True)\n",
    "J = get_assoc_mat(20, 10)\n",
    "np.fill_diagonal(J, 0.)\n",
    "p = J.shape[1]"
   ],
   "metadata": {
    "collapsed": false,
    "pycharm": {
     "name": "#%%\n"
    }
   }
  },
  {
   "cell_type": "code",
   "execution_count": 230,
   "outputs": [],
   "source": [
    "tau, c = 0.01, 2500.\n",
    "init_sigma_dist = tfd.InverseGamma(1., 1.)\n",
    "init_beta_dist = tfd.MultivariateNormalDiag(loc=jnp.zeros(p), scale_diag=10*jnp.ones(p))\n",
    "init_gamma_dist = tfd.Bernoulli(probs=0.5*jnp.ones(p))\n",
    "eta, mu = 2.5, 10.0\n",
    "init_beta = init_beta_dist.sample(seed=rng_key)\n",
    "init_sigma = jax.nn.softplus(init_sigma_dist.sample(seed=rng_key))\n",
    "init_gamma = init_gamma_dist.sample(seed=rng_key)*1.\n",
    "\n",
    "contin_init_pos = {\"beta\": init_beta, \"sigma\": init_sigma}\n",
    "# contin_init_pos = {\"beta\": init_beta}\n",
    "disc_init_pos = init_gamma\n",
    "\n",
    "disc_logprob = generate_disc_logprob_fn(X_train_lin, y_train_lin, J, mu, eta)\n",
    "init_disc_logp = disc_logprob(disc_init_pos, contin_init_pos)\n",
    "\n",
    "init_disc_grad = jax.grad(disc_logprob)(disc_init_pos, contin_init_pos)\n",
    "contin_logprob = generate_contin_logprob_fn(X_train_lin, y_train_lin, tau, c)\n",
    "init_contin_logp = contin_logprob(disc_init_pos ,contin_init_pos)\n",
    "#\n",
    "init_contin_grad = jax.grad(contin_logprob, argnums=1)(disc_init_pos, contin_init_pos)"
   ],
   "metadata": {
    "collapsed": false,
    "pycharm": {
     "name": "#%%\n"
    }
   }
  },
  {
   "cell_type": "code",
   "execution_count": 231,
   "outputs": [
    {
     "data": {
      "text/plain": "DeviceArray(-51866588., dtype=float32)"
     },
     "execution_count": 231,
     "metadata": {},
     "output_type": "execute_result"
    }
   ],
   "source": [
    "init_contin_logp"
   ],
   "metadata": {
    "collapsed": false,
    "pycharm": {
     "name": "#%%\n"
    }
   }
  },
  {
   "cell_type": "code",
   "execution_count": 232,
   "outputs": [],
   "source": [
    "disc_step_size = 0.1\n",
    "contin_step_size = 1e-5\n",
    "n_steps = 10000\n",
    "init_state = MixedMALAState(disc_init_pos, contin_init_pos, init_disc_logp, init_contin_logp,\n",
    "                               init_disc_grad, init_contin_grad, disc_step_size, contin_step_size)\n",
    "\n",
    "kernel_lin = jax.jit(lambda key, state : one_step(key, state, disc_logprob, contin_logprob, disc_step_size, contin_step_size))\n",
    "states = inference_loop(rng_key, kernel_lin, init_state, n_steps)"
   ],
   "metadata": {
    "collapsed": false,
    "pycharm": {
     "name": "#%%\n"
    }
   }
  },
  {
   "cell_type": "code",
   "execution_count": 233,
   "outputs": [
    {
     "data": {
      "text/plain": "Text(0.5, 1.0, '$\\\\sigma_t = $ 7.071')"
     },
     "execution_count": 233,
     "metadata": {},
     "output_type": "execute_result"
    },
    {
     "data": {
      "text/plain": "<Figure size 432x288 with 1 Axes>",
      "image/png": "[encoded data removed]"
     },
     "metadata": {
      "needs_background": "light"
     },
     "output_type": "display_data"
    }
   ],
   "source": [
    "plt.plot(states.contin_position[\"sigma\"])\n",
    "plt.xlabel(r\"$i$\")\n",
    "plt.ylabel(r\"$\\sigma$\")\n",
    "plt.title(r\"$\\sigma_t = $ {s:.3f}\".format(s=sigma_true_lin))"
   ],
   "metadata": {
    "collapsed": false,
    "pycharm": {
     "name": "#%%\n"
    }
   }
  },
  {
   "cell_type": "code",
   "execution_count": 234,
   "outputs": [],
   "source": [
    "beta_pos = states.contin_position[\"beta\"]\n",
    "gamma_pos = states.discrete_position"
   ],
   "metadata": {
    "collapsed": false,
    "pycharm": {
     "name": "#%%\n"
    }
   }
  },
  {
   "cell_type": "code",
   "execution_count": 235,
   "outputs": [
    {
     "data": {
      "text/plain": "DeviceArray([[ 6.7195220e+00, -1.5035705e+01,  8.3865576e+00, ...,\n               2.5128343e+00, -2.7987025e+00,  9.4682884e+00],\n             [ 6.7227516e+00, -1.3527521e+01,  8.3846912e+00, ...,\n               2.2633059e+00, -2.5159209e+00,  8.5171509e+00],\n             [ 6.0535808e+00, -1.3521518e+01,  7.5475373e+00, ...,\n               2.0350771e+00, -2.2716188e+00,  8.5117416e+00],\n             ...,\n             [ 2.2371154e+00,  3.4500524e-01,  3.7417510e+00, ...,\n               3.5266001e-02,  4.1673797e-01,  1.3348281e-02],\n             [ 2.2360075e+00,  3.4773147e-01,  3.7443020e+00, ...,\n               3.9230101e-02,  4.1939455e-01,  9.2439819e-03],\n             [ 2.2353423e+00,  3.4716403e-01,  3.7440910e+00, ...,\n               3.8593922e-02,  4.1550171e-01,  9.7414497e-03]],            dtype=float32)"
     },
     "execution_count": 235,
     "metadata": {},
     "output_type": "execute_result"
    }
   ],
   "source": [
    "beta_pos"
   ],
   "metadata": {
    "collapsed": false,
    "pycharm": {
     "name": "#%%\n"
    }
   }
  },
  {
   "cell_type": "code",
   "execution_count": 236,
   "outputs": [],
   "source": [
    "beta_gamma = beta_pos * gamma_pos\n",
    "beta_gamma_mean = jnp.mean(beta_gamma, axis=0)"
   ],
   "metadata": {
    "collapsed": false,
    "pycharm": {
     "name": "#%%\n"
    }
   }
  },
  {
   "cell_type": "code",
   "execution_count": 237,
   "outputs": [
    {
     "data": {
      "text/plain": "<matplotlib.legend.Legend at 0x7fcbcd5310a0>"
     },
     "execution_count": 237,
     "metadata": {},
     "output_type": "execute_result"
    },
    {
     "data": {
      "text/plain": "<Figure size 1152x576 with 2 Axes>",
      "image/png": "[encoded data removed]"
     },
     "metadata": {
      "needs_background": "light"
     },
     "output_type": "display_data"
    }
   ],
   "source": [
    "fig, ax = plt.subplots(1, 2, figsize=(16, 8))\n",
    "ax[0].plot(np.arange(0, p), beta_true_lin, color=\"orange\")\n",
    "ax[0].axvline(x=44, linestyle=\"--\", color=\"blue\", label=\"i = 44\")\n",
    "ax[0].set_title(r\"$\\beta_{true}$\")\n",
    "ax[0].set_xlabel(r\"$i$\")\n",
    "ax[0].set_ylabel(r\"$\\beta$\")\n",
    "ax[0].legend()\n",
    "\n",
    "ax[1].plot(np.arange(0, p), beta_gamma_mean, color=\"orange\")\n",
    "ax[1].axvline(x=44, linestyle=\"--\", color=\"blue\", label=\"i = 44\")\n",
    "ax[1].set_title(r\"$\\beta_{inferred}$\")\n",
    "ax[1].set_xlabel(r\"$i$\")\n",
    "ax[1].set_ylabel(r\"$\\beta$\")\n",
    "ax[1].legend()"
   ],
   "metadata": {
    "collapsed": false,
    "pycharm": {
     "name": "#%%\n"
    }
   }
  },
  {
   "cell_type": "code",
   "execution_count": 238,
   "outputs": [
    {
     "name": "stdout",
     "output_type": "stream",
     "text": [
      "107\n"
     ]
    },
    {
     "data": {
      "text/plain": "DeviceArray([  0,   1,   2,   3,   4,   5,   6,   7,   8,   9,  10,  11,\n              12,  13,  14,  15,  16,  17,  18,  19,  20,  21,  22,  23,\n              24,  25,  26,  27,  28,  29,  30,  31,  32,  33,  34,  35,\n              36,  37,  38,  39,  40,  41,  42,  43,  44,  45,  46,  55,\n              57,  59,  64,  66,  70,  71,  75,  77,  81,  83,  85,  87,\n              88,  90,  92,  95,  99, 100, 105, 107, 110, 112, 118, 121,\n             122, 127, 130, 131, 132, 133, 135, 136, 139, 140, 143, 153,\n             154, 165, 166, 169, 171, 175, 176, 179, 184, 186, 187, 188,\n             191, 192, 194, 195, 198, 201, 203, 204, 208, 209, 218],            dtype=int32)"
     },
     "execution_count": 238,
     "metadata": {},
     "output_type": "execute_result"
    }
   ],
   "source": [
    "\n",
    "idx_lin = jnp.squeeze(jnp.argwhere(jnp.mean(gamma_pos, axis=0) > 0.9))\n",
    "print(len(idx_lin))\n",
    "idx_lin"
   ],
   "metadata": {
    "collapsed": false,
    "pycharm": {
     "name": "#%%\n"
    }
   }
  },
  {
   "cell_type": "code",
   "execution_count": 239,
   "outputs": [
    {
     "name": "stdout",
     "output_type": "stream",
     "text": [
      "train rmse: 5.195203371946907e-14\n",
      " test rmse: 11.8541264064528 \n"
     ]
    }
   ],
   "source": [
    "from sklearn.linear_model import LinearRegression\n",
    "from sklearn.metrics import mean_squared_error\n",
    "clf = LinearRegression()\n",
    "clf.fit(X_train_lin[:,idx_lin], y_train_lin)\n",
    "\n",
    "print(f\"train rmse: {mean_squared_error(y_train_lin, clf.predict(X_train_lin[:,idx_lin]), squared=False)}\\n test rmse: {mean_squared_error(y_test_lin, clf.predict(X_test_lin[:,idx_lin]), squared=False)} \")"
   ],
   "metadata": {
    "collapsed": false,
    "pycharm": {
     "name": "#%%\n"
    }
   }
  },
  {
   "cell_type": "markdown",
   "source": [
    "### Try it with binary output data"
   ],
   "metadata": {
    "collapsed": false,
    "pycharm": {
     "name": "#%% md\n"
    }
   }
  },
  {
   "cell_type": "code",
   "execution_count": 11,
   "outputs": [
    {
     "name": "stdout",
     "output_type": "stream",
     "text": [
      "tfp.distributions.Bernoulli(\"Bernoulli\", batch_shape=[100], event_shape=[], dtype=int32)\n"
     ]
    }
   ],
   "source": [
    "X_log, beta_true_log, y_log = generate_log_data(20, 10, tf_on=4, val_tf=[5, 5, 5, 5], corr=0.7, n=100)\n",
    "X_train_log, X_test_log, y_train_log, y_test_log = train_test_split(X_log, y_log, test_size=0.3, shuffle=True)"
   ],
   "metadata": {
    "collapsed": false,
    "pycharm": {
     "name": "#%%\n"
    }
   }
  },
  {
   "cell_type": "code",
   "execution_count": 23,
   "outputs": [],
   "source": [
    "disc_step_size = 0.1\n",
    "contin_step_size = 1e-5\n",
    "n_steps = 10000\n",
    "\n",
    "def generate_disc_logprob_fn(X, y, J, mu, eta):\n",
    "\n",
    "    def discrete_logprob_fn(gamma, beta):\n",
    "        X_gamma = (X @ jnp.diag(gamma))\n",
    "        ising_logp = gamma_energy(gamma, J, eta, mu)\n",
    "        ll_dist = tfd.Bernoulli(logits=(X_gamma @ beta))\n",
    "        log_ll = jnp.sum(ll_dist.log_prob(y), axis=0)\n",
    "\n",
    "        # print(f\"gamma logp: {ising_logp}, log_ll: {log_ll}\")\n",
    "\n",
    "        return ising_logp + log_ll\n",
    "\n",
    "    return discrete_logprob_fn\n",
    "\n",
    "\n",
    "def generate_contin_logprob_fn(X, y, tau, c):\n",
    "    n, p = X.shape\n",
    "    cov = X.T @ X\n",
    "    R = np.identity(p)\n",
    "    v, l = 1., 1.\n",
    "\n",
    "    def contin_logprob_fn(gamma, beta):\n",
    "\n",
    "        D = (gamma*c*tau) + (1 - gamma)*(tau)\n",
    "        # D_inv = jnp.linalg.inv(jnp.diag(D))\n",
    "\n",
    "        # A = jnp.linalg.inv((1./sigma**2)*cov + (D_inv @ R @ D_inv))\n",
    "        beta_dist = tfd.MultivariateNormalDiag(loc=jnp.zeros(p), scale_diag=D)\n",
    "        # print(beta_dist.sample(seed=rng_key))\n",
    "        beta_logp = beta_dist.log_prob(beta)\n",
    "        X_gamma = (X @ jnp.diag(gamma))\n",
    "        ll_dist = tfd.Bernoulli(logits=(X_gamma @ beta))\n",
    "        log_ll = jnp.sum(ll_dist.log_prob(y), axis=0)\n",
    "\n",
    "        # print(f\"beta logp: {beta_logp}, log_ll: {log_ll}\")\n",
    "\n",
    "        return beta_logp + log_ll\n",
    "\n",
    "    return contin_logprob_fn\n"
   ],
   "metadata": {
    "collapsed": false,
    "pycharm": {
     "name": "#%%\n"
    }
   }
  },
  {
   "cell_type": "code",
   "execution_count": 16,
   "outputs": [],
   "source": [
    "param_vals = np.logspace(-1, 1, 10)\n",
    "param_vals = np.insert(param_vals, 0, 0.)"
   ],
   "metadata": {
    "collapsed": false,
    "pycharm": {
     "name": "#%%\n"
    }
   }
  },
  {
   "cell_type": "code",
   "execution_count": 17,
   "outputs": [
    {
     "name": "stderr",
     "output_type": "stream",
     "text": [
      "100%|███████████████████████████████████████████████████████████████████████████████████| 11/11 [13:15<00:00, 72.34s/it]\n"
     ]
    },
    {
     "name": "stdout",
     "output_type": "stream",
     "text": [
      "========= Done for seed - 1234 =========\n"
     ]
    }
   ],
   "source": [
    "init_sigma_dist = tfd.InverseGamma(1., 1.)\n",
    "init_beta_dist = tfd.MultivariateNormalDiag(loc=jnp.zeros(p), scale_diag=10*jnp.ones(p))\n",
    "init_gamma_dist = tfd.Bernoulli(probs=0.5*jnp.ones(J.shape[0]))\n",
    "res_log_df = run_param_sel_exp(key=rng_key, X_train=X_train_log, X_test=X_test_log, y_train=y_train_log, y_test=y_test_log, J=J, vals=param_vals, disc_dist=init_gamma_dist, contin_dist=init_beta_dist,\n",
    "                               disc_step_size=disc_step_size, contin_step_size=contin_step_size, binary=True)"
   ],
   "metadata": {
    "collapsed": false,
    "pycharm": {
     "name": "#%%\n"
    }
   }
  },
  {
   "cell_type": "code",
   "execution_count": 20,
   "outputs": [],
   "source": [
    "res_log_df.to_csv(f\"{data_dir}/res_sim_data_log_gibbs.csv\", index=False)"
   ],
   "metadata": {
    "collapsed": false,
    "pycharm": {
     "name": "#%%\n"
    }
   }
  },
  {
   "cell_type": "code",
   "execution_count": 240,
   "outputs": [
    {
     "data": {
      "text/plain": "          eta         mu  thres  cv_score  test_score  len num_edges  \\\n345  0.278256   0.774264    0.4  0.709184    0.837104  157       274   \n344  0.278256   0.774264    0.3  0.676786    0.877828  220       400   \n317  0.278256   0.166810    0.3  0.676786    0.877828  220       400   \n311  0.278256   0.100000    0.6  0.664456    0.918552  127       214   \n130  0.100000   0.278256    0.5  0.811480    0.782805   50        60   \n..        ...        ...    ...       ...         ...  ...       ...   \n886  3.593814  10.000000    0.5       NaN         NaN    0         0   \n887  3.593814  10.000000    0.6       NaN         NaN    0         0   \n888  3.593814  10.000000    0.7       NaN         NaN    0         0   \n889  3.593814  10.000000    0.8       NaN         NaN    0         0   \n890  3.593814  10.000000    0.9       NaN         NaN    0         0   \n\n     beta_cv_score  beta_test_score  \n345       0.984477         0.990950  \n344       0.988562         0.986425  \n317       0.994281         0.986425  \n311       0.996732         0.986425  \n130       0.967320         0.986425  \n..             ...              ...  \n886            NaN              NaN  \n887            NaN              NaN  \n888            NaN              NaN  \n889            NaN              NaN  \n890            NaN              NaN  \n\n[1089 rows x 9 columns]",
      "text/html": "<div>\n<style scoped>\n    .dataframe tbody tr th:only-of-type {\n        vertical-align: middle;\n    }\n\n    .dataframe tbody tr th {\n        vertical-align: top;\n    }\n\n    .dataframe thead th {\n        text-align: right;\n    }\n</style>\n<table border=\"1\" class=\"dataframe\">\n  <thead>\n    <tr style=\"text-align: right;\">\n      <th></th>\n      <th>eta</th>\n      <th>mu</th>\n      <th>thres</th>\n      <th>cv_score</th>\n      <th>test_score</th>\n      <th>len</th>\n      <th>num_edges</th>\n      <th>beta_cv_score</th>\n      <th>beta_test_score</th>\n    </tr>\n  </thead>\n  <tbody>\n    <tr>\n      <th>345</th>\n      <td>0.278256</td>\n      <td>0.774264</td>\n      <td>0.4</td>\n      <td>0.709184</td>\n      <td>0.837104</td>\n      <td>157</td>\n      <td>274</td>\n      <td>0.984477</td>\n      <td>0.990950</td>\n    </tr>\n    <tr>\n      <th>344</th>\n      <td>0.278256</td>\n      <td>0.774264</td>\n      <td>0.3</td>\n      <td>0.676786</td>\n      <td>0.877828</td>\n      <td>220</td>\n      <td>400</td>\n      <td>0.988562</td>\n      <td>0.986425</td>\n    </tr>\n    <tr>\n      <th>317</th>\n      <td>0.278256</td>\n      <td>0.166810</td>\n      <td>0.3</td>\n      <td>0.676786</td>\n      <td>0.877828</td>\n      <td>220</td>\n      <td>400</td>\n      <td>0.994281</td>\n      <td>0.986425</td>\n    </tr>\n    <tr>\n      <th>311</th>\n      <td>0.278256</td>\n      <td>0.100000</td>\n      <td>0.6</td>\n      <td>0.664456</td>\n      <td>0.918552</td>\n      <td>127</td>\n      <td>214</td>\n      <td>0.996732</td>\n      <td>0.986425</td>\n    </tr>\n    <tr>\n      <th>130</th>\n      <td>0.100000</td>\n      <td>0.278256</td>\n      <td>0.5</td>\n      <td>0.811480</td>\n      <td>0.782805</td>\n      <td>50</td>\n      <td>60</td>\n      <td>0.967320</td>\n      <td>0.986425</td>\n    </tr>\n    <tr>\n      <th>...</th>\n      <td>...</td>\n      <td>...</td>\n      <td>...</td>\n      <td>...</td>\n      <td>...</td>\n      <td>...</td>\n      <td>...</td>\n      <td>...</td>\n      <td>...</td>\n    </tr>\n    <tr>\n      <th>886</th>\n      <td>3.593814</td>\n      <td>10.000000</td>\n      <td>0.5</td>\n      <td>NaN</td>\n      <td>NaN</td>\n      <td>0</td>\n      <td>0</td>\n      <td>NaN</td>\n      <td>NaN</td>\n    </tr>\n    <tr>\n      <th>887</th>\n      <td>3.593814</td>\n      <td>10.000000</td>\n      <td>0.6</td>\n      <td>NaN</td>\n      <td>NaN</td>\n      <td>0</td>\n      <td>0</td>\n      <td>NaN</td>\n      <td>NaN</td>\n    </tr>\n    <tr>\n      <th>888</th>\n      <td>3.593814</td>\n      <td>10.000000</td>\n      <td>0.7</td>\n      <td>NaN</td>\n      <td>NaN</td>\n      <td>0</td>\n      <td>0</td>\n      <td>NaN</td>\n      <td>NaN</td>\n    </tr>\n    <tr>\n      <th>889</th>\n      <td>3.593814</td>\n      <td>10.000000</td>\n      <td>0.8</td>\n      <td>NaN</td>\n      <td>NaN</td>\n      <td>0</td>\n      <td>0</td>\n      <td>NaN</td>\n      <td>NaN</td>\n    </tr>\n    <tr>\n      <th>890</th>\n      <td>3.593814</td>\n      <td>10.000000</td>\n      <td>0.9</td>\n      <td>NaN</td>\n      <td>NaN</td>\n      <td>0</td>\n      <td>0</td>\n      <td>NaN</td>\n      <td>NaN</td>\n    </tr>\n  </tbody>\n</table>\n<p>1089 rows × 9 columns</p>\n</div>"
     },
     "execution_count": 240,
     "metadata": {},
     "output_type": "execute_result"
    }
   ],
   "source": [
    "res_log_df.sort_values(by=\"beta_test_score\", axis=0, ascending=False)"
   ],
   "metadata": {
    "collapsed": false,
    "pycharm": {
     "name": "#%%\n"
    }
   }
  },
  {
   "cell_type": "code",
   "execution_count": 30,
   "outputs": [
    {
     "data": {
      "text/plain": "DeviceArray([  0,  11,  14,  22,  33,  40,  55,  66,  77,  88,  99, 110,\n             121, 132, 143, 154, 165, 176, 187, 198, 209], dtype=int32)"
     },
     "execution_count": 30,
     "metadata": {},
     "output_type": "execute_result"
    }
   ],
   "source": [
    "disc_init_pos = init_gamma_dist.sample(seed=rng_key, sample_shape=(3,)) * 1.\n",
    "contin_init_pos = init_beta_dist.sample(seed=rng_key, sample_shape=(3,))\n",
    "burn_in = 0.1\n",
    "num_samples = 10000\n",
    "p = J.shape[0]\n",
    "eta, mu = 0.1, 0.278256\n",
    "disc_logprob = generate_disc_logprob_fn(X_train_log, y_train_log, J, mu, eta)\n",
    "contin_logprob = generate_contin_logprob_fn(X_train_log, y_train_log, tau, c)\n",
    "kernel = jax.jit(\n",
    "    lambda key, state: one_step(key, state, disc_logprob, contin_logprob, disc_step_size, contin_step_size))\n",
    "\n",
    "init_state = jax.vmap(init, in_axes=(0, 0, None, None, None, None))(disc_init_pos, contin_init_pos, disc_logprob,\n",
    "                                                                    contin_logprob,\n",
    "                                                                    disc_step_size, contin_step_size)\n",
    "states = inference_loop_multiple_chains(rng_key, kernel, init_state, num_samples=num_samples, num_chains=3)\n",
    "\n",
    "gamma_samples = states.discrete_position[int(burn_in * num_samples):]\n",
    "beta_samples = states.contin_position[int(burn_in * num_samples):]\n",
    "gamma_samples = gamma_samples.reshape(-1, p)\n",
    "beta_samples = beta_samples.reshape(-1, p)\n",
    "idx_log = jnp.squeeze(jnp.argwhere(jnp.mean(gamma_samples, axis=0) > 0.6))\n",
    "idx_log"
   ],
   "metadata": {
    "collapsed": false,
    "pycharm": {
     "name": "#%%\n"
    }
   }
  },
  {
   "cell_type": "code",
   "execution_count": 58,
   "outputs": [
    {
     "data": {
      "text/plain": "eta                 1.29155\nmu                 2.154435\nthres                   0.6\ncv_score           0.639711\ntest_score         0.972851\nlen                     143\nnum_edges               246\nbeta_cv_score      0.990196\nbeta_test_score    0.877828\nName: 662, dtype: object"
     },
     "execution_count": 58,
     "metadata": {},
     "output_type": "execute_result"
    }
   ],
   "source": [
    "res_log_df.iloc[res_log_df[\"test_score\"].idxmax()]"
   ],
   "metadata": {
    "collapsed": false,
    "pycharm": {
     "name": "#%%\n"
    }
   }
  },
  {
   "cell_type": "markdown",
   "source": [
    "### BMM Data"
   ],
   "metadata": {
    "collapsed": false,
    "pycharm": {
     "name": "#%% md\n"
    }
   }
  },
  {
   "cell_type": "code",
   "execution_count": 10,
   "outputs": [
    {
     "name": "stdout",
     "output_type": "stream",
     "text": [
      "/home/xabush/code/snet/moses-incons-pen-xp\n"
     ]
    }
   ],
   "source": [
    "%cd \"~/code/snet/moses-incons-pen-xp\"\n",
    "from notebooks.variable_selection.util import load_bmm_files\n",
    "seeds, data_dfs, net_dfs, feats = load_bmm_files(\"data/bmm_data_thr_2_f100\")"
   ],
   "metadata": {
    "collapsed": false,
    "pycharm": {
     "name": "#%%\n"
    }
   }
  },
  {
   "cell_type": "code",
   "execution_count": 11,
   "outputs": [],
   "source": [
    "seed_idx = 5\n",
    "seed = seeds[seed_idx]\n",
    "rng_key = jax.random.PRNGKey(seed)\n",
    "feat = feats[seed_idx]\n",
    "data_df = data_dfs[seed_idx]\n",
    "net_df = net_dfs[seed_idx]"
   ],
   "metadata": {
    "collapsed": false,
    "pycharm": {
     "name": "#%%\n"
    }
   }
  },
  {
   "cell_type": "code",
   "execution_count": 14,
   "outputs": [],
   "source": [
    "X_bmm_10, y_bmm_10 = data_df.iloc[:,:-1], data_df[\"y\"]\n",
    "X_train_bmm_10, X_test_bmm_10, y_train_bmm_10, y_test_bmm_10 = train_test_split(X_bmm_10, y_bmm_10, test_size=0.3, random_state=seed, shuffle=True, stratify=y_bmm_10)"
   ],
   "metadata": {
    "collapsed": false,
    "pycharm": {
     "name": "#%%\n"
    }
   }
  },
  {
   "cell_type": "code",
   "execution_count": 16,
   "outputs": [],
   "source": [
    "J_bmm_10 = jax.device_put(net_df.to_numpy())"
   ],
   "metadata": {
    "collapsed": false,
    "pycharm": {
     "name": "#%%\n"
    }
   }
  },
  {
   "cell_type": "code",
   "execution_count": 45,
   "outputs": [],
   "source": [
    "disc_step_size = 0.1\n",
    "contin_step_size = 1e-5\n",
    "tau, c = 0.01, 1000\n",
    "p = J_bmm_10.shape[0]\n",
    "beta_dist = tfd.MultivariateNormalDiag(loc=jnp.zeros(p), scale_diag=10*jnp.ones(p))\n",
    "gamma_dist = tfd.Bernoulli(probs=0.5*jnp.ones(p))\n",
    "X_train, X_test = jnp.array(X_train_bmm_10.to_numpy()), jnp.array(X_test_bmm_10.to_numpy())\n",
    "y_train, y_test = jnp.array(y_train_bmm_10.to_numpy()), jnp.array(y_test_bmm_10.to_numpy())"
   ],
   "metadata": {
    "collapsed": false,
    "pycharm": {
     "name": "#%%\n"
    }
   }
  },
  {
   "cell_type": "code",
   "execution_count": 76,
   "outputs": [
    {
     "name": "stderr",
     "output_type": "stream",
     "text": [
      "100%|██████████████████████████████████████████████████████████████████████████████████| 11/11 [19:31<00:00, 106.54s/it]"
     ]
    },
    {
     "name": "stdout",
     "output_type": "stream",
     "text": [
      "========= Done for seed - 10 =========\n"
     ]
    },
    {
     "name": "stderr",
     "output_type": "stream",
     "text": [
      "\n"
     ]
    }
   ],
   "source": [
    "\n",
    "res_bmm_s_10_df = run_param_sel_exp(key=rng_key, X_train=X_train, X_test=X_test, y_train=y_train, y_test=y_test, J=J_bmm_10,\n",
    "                               vals=param_vals, disc_dist=gamma_dist, contin_dist=beta_dist,\n",
    "                               disc_step_size=disc_step_size, contin_step_size=contin_step_size, binary=True)"
   ],
   "metadata": {
    "collapsed": false,
    "pycharm": {
     "name": "#%%\n"
    }
   }
  },
  {
   "cell_type": "code",
   "execution_count": null,
   "outputs": [],
   "source": [
    "res_bmm_s_10_df.to_csv(f\"{data_dir}/res_bmm_s_10_gibbs_ula.csv\", index=False)"
   ],
   "metadata": {
    "collapsed": false,
    "pycharm": {
     "name": "#%%\n"
    }
   }
  },
  {
   "cell_type": "code",
   "execution_count": 17,
   "outputs": [
    {
     "ename": "FileNotFoundError",
     "evalue": "[Errno 2] No such file or directory: '/home/xabush/code/snet/moses-incons-pen-xp/data/res_bmm_s_10_gibbs_ula.csv'",
     "output_type": "error",
     "traceback": [
      "\u001B[0;31m---------------------------------------------------------------------------\u001B[0m",
      "\u001B[0;31mFileNotFoundError\u001B[0m                         Traceback (most recent call last)",
      "Input \u001B[0;32mIn [17]\u001B[0m, in \u001B[0;36m<cell line: 1>\u001B[0;34m()\u001B[0m\n\u001B[0;32m----> 1\u001B[0m res_bmm_s_10_df \u001B[38;5;241m=\u001B[39m \u001B[43mpd\u001B[49m\u001B[38;5;241;43m.\u001B[39;49m\u001B[43mread_csv\u001B[49m\u001B[43m(\u001B[49m\u001B[38;5;124;43mf\u001B[39;49m\u001B[38;5;124;43m\"\u001B[39;49m\u001B[38;5;132;43;01m{\u001B[39;49;00m\u001B[43mdata_dir\u001B[49m\u001B[38;5;132;43;01m}\u001B[39;49;00m\u001B[38;5;124;43m/res_bmm_s_10_gibbs_ula.csv\u001B[39;49m\u001B[38;5;124;43m\"\u001B[39;49m\u001B[43m)\u001B[49m\n",
      "File \u001B[0;32m~/miniconda3/lib/python3.9/site-packages/pandas/util/_decorators.py:311\u001B[0m, in \u001B[0;36mdeprecate_nonkeyword_arguments.<locals>.decorate.<locals>.wrapper\u001B[0;34m(*args, **kwargs)\u001B[0m\n\u001B[1;32m    305\u001B[0m \u001B[38;5;28;01mif\u001B[39;00m \u001B[38;5;28mlen\u001B[39m(args) \u001B[38;5;241m>\u001B[39m num_allow_args:\n\u001B[1;32m    306\u001B[0m     warnings\u001B[38;5;241m.\u001B[39mwarn(\n\u001B[1;32m    307\u001B[0m         msg\u001B[38;5;241m.\u001B[39mformat(arguments\u001B[38;5;241m=\u001B[39marguments),\n\u001B[1;32m    308\u001B[0m         \u001B[38;5;167;01mFutureWarning\u001B[39;00m,\n\u001B[1;32m    309\u001B[0m         stacklevel\u001B[38;5;241m=\u001B[39mstacklevel,\n\u001B[1;32m    310\u001B[0m     )\n\u001B[0;32m--> 311\u001B[0m \u001B[38;5;28;01mreturn\u001B[39;00m \u001B[43mfunc\u001B[49m\u001B[43m(\u001B[49m\u001B[38;5;241;43m*\u001B[39;49m\u001B[43margs\u001B[49m\u001B[43m,\u001B[49m\u001B[43m \u001B[49m\u001B[38;5;241;43m*\u001B[39;49m\u001B[38;5;241;43m*\u001B[39;49m\u001B[43mkwargs\u001B[49m\u001B[43m)\u001B[49m\n",
      "File \u001B[0;32m~/miniconda3/lib/python3.9/site-packages/pandas/io/parsers/readers.py:680\u001B[0m, in \u001B[0;36mread_csv\u001B[0;34m(filepath_or_buffer, sep, delimiter, header, names, index_col, usecols, squeeze, prefix, mangle_dupe_cols, dtype, engine, converters, true_values, false_values, skipinitialspace, skiprows, skipfooter, nrows, na_values, keep_default_na, na_filter, verbose, skip_blank_lines, parse_dates, infer_datetime_format, keep_date_col, date_parser, dayfirst, cache_dates, iterator, chunksize, compression, thousands, decimal, lineterminator, quotechar, quoting, doublequote, escapechar, comment, encoding, encoding_errors, dialect, error_bad_lines, warn_bad_lines, on_bad_lines, delim_whitespace, low_memory, memory_map, float_precision, storage_options)\u001B[0m\n\u001B[1;32m    665\u001B[0m kwds_defaults \u001B[38;5;241m=\u001B[39m _refine_defaults_read(\n\u001B[1;32m    666\u001B[0m     dialect,\n\u001B[1;32m    667\u001B[0m     delimiter,\n\u001B[0;32m   (...)\u001B[0m\n\u001B[1;32m    676\u001B[0m     defaults\u001B[38;5;241m=\u001B[39m{\u001B[38;5;124m\"\u001B[39m\u001B[38;5;124mdelimiter\u001B[39m\u001B[38;5;124m\"\u001B[39m: \u001B[38;5;124m\"\u001B[39m\u001B[38;5;124m,\u001B[39m\u001B[38;5;124m\"\u001B[39m},\n\u001B[1;32m    677\u001B[0m )\n\u001B[1;32m    678\u001B[0m kwds\u001B[38;5;241m.\u001B[39mupdate(kwds_defaults)\n\u001B[0;32m--> 680\u001B[0m \u001B[38;5;28;01mreturn\u001B[39;00m \u001B[43m_read\u001B[49m\u001B[43m(\u001B[49m\u001B[43mfilepath_or_buffer\u001B[49m\u001B[43m,\u001B[49m\u001B[43m \u001B[49m\u001B[43mkwds\u001B[49m\u001B[43m)\u001B[49m\n",
      "File \u001B[0;32m~/miniconda3/lib/python3.9/site-packages/pandas/io/parsers/readers.py:575\u001B[0m, in \u001B[0;36m_read\u001B[0;34m(filepath_or_buffer, kwds)\u001B[0m\n\u001B[1;32m    572\u001B[0m _validate_names(kwds\u001B[38;5;241m.\u001B[39mget(\u001B[38;5;124m\"\u001B[39m\u001B[38;5;124mnames\u001B[39m\u001B[38;5;124m\"\u001B[39m, \u001B[38;5;28;01mNone\u001B[39;00m))\n\u001B[1;32m    574\u001B[0m \u001B[38;5;66;03m# Create the parser.\u001B[39;00m\n\u001B[0;32m--> 575\u001B[0m parser \u001B[38;5;241m=\u001B[39m \u001B[43mTextFileReader\u001B[49m\u001B[43m(\u001B[49m\u001B[43mfilepath_or_buffer\u001B[49m\u001B[43m,\u001B[49m\u001B[43m \u001B[49m\u001B[38;5;241;43m*\u001B[39;49m\u001B[38;5;241;43m*\u001B[39;49m\u001B[43mkwds\u001B[49m\u001B[43m)\u001B[49m\n\u001B[1;32m    577\u001B[0m \u001B[38;5;28;01mif\u001B[39;00m chunksize \u001B[38;5;129;01mor\u001B[39;00m iterator:\n\u001B[1;32m    578\u001B[0m     \u001B[38;5;28;01mreturn\u001B[39;00m parser\n",
      "File \u001B[0;32m~/miniconda3/lib/python3.9/site-packages/pandas/io/parsers/readers.py:933\u001B[0m, in \u001B[0;36mTextFileReader.__init__\u001B[0;34m(self, f, engine, **kwds)\u001B[0m\n\u001B[1;32m    930\u001B[0m     \u001B[38;5;28mself\u001B[39m\u001B[38;5;241m.\u001B[39moptions[\u001B[38;5;124m\"\u001B[39m\u001B[38;5;124mhas_index_names\u001B[39m\u001B[38;5;124m\"\u001B[39m] \u001B[38;5;241m=\u001B[39m kwds[\u001B[38;5;124m\"\u001B[39m\u001B[38;5;124mhas_index_names\u001B[39m\u001B[38;5;124m\"\u001B[39m]\n\u001B[1;32m    932\u001B[0m \u001B[38;5;28mself\u001B[39m\u001B[38;5;241m.\u001B[39mhandles: IOHandles \u001B[38;5;241m|\u001B[39m \u001B[38;5;28;01mNone\u001B[39;00m \u001B[38;5;241m=\u001B[39m \u001B[38;5;28;01mNone\u001B[39;00m\n\u001B[0;32m--> 933\u001B[0m \u001B[38;5;28mself\u001B[39m\u001B[38;5;241m.\u001B[39m_engine \u001B[38;5;241m=\u001B[39m \u001B[38;5;28;43mself\u001B[39;49m\u001B[38;5;241;43m.\u001B[39;49m\u001B[43m_make_engine\u001B[49m\u001B[43m(\u001B[49m\u001B[43mf\u001B[49m\u001B[43m,\u001B[49m\u001B[43m \u001B[49m\u001B[38;5;28;43mself\u001B[39;49m\u001B[38;5;241;43m.\u001B[39;49m\u001B[43mengine\u001B[49m\u001B[43m)\u001B[49m\n",
      "File \u001B[0;32m~/miniconda3/lib/python3.9/site-packages/pandas/io/parsers/readers.py:1217\u001B[0m, in \u001B[0;36mTextFileReader._make_engine\u001B[0;34m(self, f, engine)\u001B[0m\n\u001B[1;32m   1213\u001B[0m     mode \u001B[38;5;241m=\u001B[39m \u001B[38;5;124m\"\u001B[39m\u001B[38;5;124mrb\u001B[39m\u001B[38;5;124m\"\u001B[39m\n\u001B[1;32m   1214\u001B[0m \u001B[38;5;66;03m# error: No overload variant of \"get_handle\" matches argument types\u001B[39;00m\n\u001B[1;32m   1215\u001B[0m \u001B[38;5;66;03m# \"Union[str, PathLike[str], ReadCsvBuffer[bytes], ReadCsvBuffer[str]]\"\u001B[39;00m\n\u001B[1;32m   1216\u001B[0m \u001B[38;5;66;03m# , \"str\", \"bool\", \"Any\", \"Any\", \"Any\", \"Any\", \"Any\"\u001B[39;00m\n\u001B[0;32m-> 1217\u001B[0m \u001B[38;5;28mself\u001B[39m\u001B[38;5;241m.\u001B[39mhandles \u001B[38;5;241m=\u001B[39m \u001B[43mget_handle\u001B[49m\u001B[43m(\u001B[49m\u001B[43m  \u001B[49m\u001B[38;5;66;43;03m# type: ignore[call-overload]\u001B[39;49;00m\n\u001B[1;32m   1218\u001B[0m \u001B[43m    \u001B[49m\u001B[43mf\u001B[49m\u001B[43m,\u001B[49m\n\u001B[1;32m   1219\u001B[0m \u001B[43m    \u001B[49m\u001B[43mmode\u001B[49m\u001B[43m,\u001B[49m\n\u001B[1;32m   1220\u001B[0m \u001B[43m    \u001B[49m\u001B[43mencoding\u001B[49m\u001B[38;5;241;43m=\u001B[39;49m\u001B[38;5;28;43mself\u001B[39;49m\u001B[38;5;241;43m.\u001B[39;49m\u001B[43moptions\u001B[49m\u001B[38;5;241;43m.\u001B[39;49m\u001B[43mget\u001B[49m\u001B[43m(\u001B[49m\u001B[38;5;124;43m\"\u001B[39;49m\u001B[38;5;124;43mencoding\u001B[39;49m\u001B[38;5;124;43m\"\u001B[39;49m\u001B[43m,\u001B[49m\u001B[43m \u001B[49m\u001B[38;5;28;43;01mNone\u001B[39;49;00m\u001B[43m)\u001B[49m\u001B[43m,\u001B[49m\n\u001B[1;32m   1221\u001B[0m \u001B[43m    \u001B[49m\u001B[43mcompression\u001B[49m\u001B[38;5;241;43m=\u001B[39;49m\u001B[38;5;28;43mself\u001B[39;49m\u001B[38;5;241;43m.\u001B[39;49m\u001B[43moptions\u001B[49m\u001B[38;5;241;43m.\u001B[39;49m\u001B[43mget\u001B[49m\u001B[43m(\u001B[49m\u001B[38;5;124;43m\"\u001B[39;49m\u001B[38;5;124;43mcompression\u001B[39;49m\u001B[38;5;124;43m\"\u001B[39;49m\u001B[43m,\u001B[49m\u001B[43m \u001B[49m\u001B[38;5;28;43;01mNone\u001B[39;49;00m\u001B[43m)\u001B[49m\u001B[43m,\u001B[49m\n\u001B[1;32m   1222\u001B[0m \u001B[43m    \u001B[49m\u001B[43mmemory_map\u001B[49m\u001B[38;5;241;43m=\u001B[39;49m\u001B[38;5;28;43mself\u001B[39;49m\u001B[38;5;241;43m.\u001B[39;49m\u001B[43moptions\u001B[49m\u001B[38;5;241;43m.\u001B[39;49m\u001B[43mget\u001B[49m\u001B[43m(\u001B[49m\u001B[38;5;124;43m\"\u001B[39;49m\u001B[38;5;124;43mmemory_map\u001B[39;49m\u001B[38;5;124;43m\"\u001B[39;49m\u001B[43m,\u001B[49m\u001B[43m \u001B[49m\u001B[38;5;28;43;01mFalse\u001B[39;49;00m\u001B[43m)\u001B[49m\u001B[43m,\u001B[49m\n\u001B[1;32m   1223\u001B[0m \u001B[43m    \u001B[49m\u001B[43mis_text\u001B[49m\u001B[38;5;241;43m=\u001B[39;49m\u001B[43mis_text\u001B[49m\u001B[43m,\u001B[49m\n\u001B[1;32m   1224\u001B[0m \u001B[43m    \u001B[49m\u001B[43merrors\u001B[49m\u001B[38;5;241;43m=\u001B[39;49m\u001B[38;5;28;43mself\u001B[39;49m\u001B[38;5;241;43m.\u001B[39;49m\u001B[43moptions\u001B[49m\u001B[38;5;241;43m.\u001B[39;49m\u001B[43mget\u001B[49m\u001B[43m(\u001B[49m\u001B[38;5;124;43m\"\u001B[39;49m\u001B[38;5;124;43mencoding_errors\u001B[39;49m\u001B[38;5;124;43m\"\u001B[39;49m\u001B[43m,\u001B[49m\u001B[43m \u001B[49m\u001B[38;5;124;43m\"\u001B[39;49m\u001B[38;5;124;43mstrict\u001B[39;49m\u001B[38;5;124;43m\"\u001B[39;49m\u001B[43m)\u001B[49m\u001B[43m,\u001B[49m\n\u001B[1;32m   1225\u001B[0m \u001B[43m    \u001B[49m\u001B[43mstorage_options\u001B[49m\u001B[38;5;241;43m=\u001B[39;49m\u001B[38;5;28;43mself\u001B[39;49m\u001B[38;5;241;43m.\u001B[39;49m\u001B[43moptions\u001B[49m\u001B[38;5;241;43m.\u001B[39;49m\u001B[43mget\u001B[49m\u001B[43m(\u001B[49m\u001B[38;5;124;43m\"\u001B[39;49m\u001B[38;5;124;43mstorage_options\u001B[39;49m\u001B[38;5;124;43m\"\u001B[39;49m\u001B[43m,\u001B[49m\u001B[43m \u001B[49m\u001B[38;5;28;43;01mNone\u001B[39;49;00m\u001B[43m)\u001B[49m\u001B[43m,\u001B[49m\n\u001B[1;32m   1226\u001B[0m \u001B[43m\u001B[49m\u001B[43m)\u001B[49m\n\u001B[1;32m   1227\u001B[0m \u001B[38;5;28;01massert\u001B[39;00m \u001B[38;5;28mself\u001B[39m\u001B[38;5;241m.\u001B[39mhandles \u001B[38;5;129;01mis\u001B[39;00m \u001B[38;5;129;01mnot\u001B[39;00m \u001B[38;5;28;01mNone\u001B[39;00m\n\u001B[1;32m   1228\u001B[0m f \u001B[38;5;241m=\u001B[39m \u001B[38;5;28mself\u001B[39m\u001B[38;5;241m.\u001B[39mhandles\u001B[38;5;241m.\u001B[39mhandle\n",
      "File \u001B[0;32m~/miniconda3/lib/python3.9/site-packages/pandas/io/common.py:789\u001B[0m, in \u001B[0;36mget_handle\u001B[0;34m(path_or_buf, mode, encoding, compression, memory_map, is_text, errors, storage_options)\u001B[0m\n\u001B[1;32m    784\u001B[0m \u001B[38;5;28;01melif\u001B[39;00m \u001B[38;5;28misinstance\u001B[39m(handle, \u001B[38;5;28mstr\u001B[39m):\n\u001B[1;32m    785\u001B[0m     \u001B[38;5;66;03m# Check whether the filename is to be opened in binary mode.\u001B[39;00m\n\u001B[1;32m    786\u001B[0m     \u001B[38;5;66;03m# Binary mode does not support 'encoding' and 'newline'.\u001B[39;00m\n\u001B[1;32m    787\u001B[0m     \u001B[38;5;28;01mif\u001B[39;00m ioargs\u001B[38;5;241m.\u001B[39mencoding \u001B[38;5;129;01mand\u001B[39;00m \u001B[38;5;124m\"\u001B[39m\u001B[38;5;124mb\u001B[39m\u001B[38;5;124m\"\u001B[39m \u001B[38;5;129;01mnot\u001B[39;00m \u001B[38;5;129;01min\u001B[39;00m ioargs\u001B[38;5;241m.\u001B[39mmode:\n\u001B[1;32m    788\u001B[0m         \u001B[38;5;66;03m# Encoding\u001B[39;00m\n\u001B[0;32m--> 789\u001B[0m         handle \u001B[38;5;241m=\u001B[39m \u001B[38;5;28;43mopen\u001B[39;49m\u001B[43m(\u001B[49m\n\u001B[1;32m    790\u001B[0m \u001B[43m            \u001B[49m\u001B[43mhandle\u001B[49m\u001B[43m,\u001B[49m\n\u001B[1;32m    791\u001B[0m \u001B[43m            \u001B[49m\u001B[43mioargs\u001B[49m\u001B[38;5;241;43m.\u001B[39;49m\u001B[43mmode\u001B[49m\u001B[43m,\u001B[49m\n\u001B[1;32m    792\u001B[0m \u001B[43m            \u001B[49m\u001B[43mencoding\u001B[49m\u001B[38;5;241;43m=\u001B[39;49m\u001B[43mioargs\u001B[49m\u001B[38;5;241;43m.\u001B[39;49m\u001B[43mencoding\u001B[49m\u001B[43m,\u001B[49m\n\u001B[1;32m    793\u001B[0m \u001B[43m            \u001B[49m\u001B[43merrors\u001B[49m\u001B[38;5;241;43m=\u001B[39;49m\u001B[43merrors\u001B[49m\u001B[43m,\u001B[49m\n\u001B[1;32m    794\u001B[0m \u001B[43m            \u001B[49m\u001B[43mnewline\u001B[49m\u001B[38;5;241;43m=\u001B[39;49m\u001B[38;5;124;43m\"\u001B[39;49m\u001B[38;5;124;43m\"\u001B[39;49m\u001B[43m,\u001B[49m\n\u001B[1;32m    795\u001B[0m \u001B[43m        \u001B[49m\u001B[43m)\u001B[49m\n\u001B[1;32m    796\u001B[0m     \u001B[38;5;28;01melse\u001B[39;00m:\n\u001B[1;32m    797\u001B[0m         \u001B[38;5;66;03m# Binary mode\u001B[39;00m\n\u001B[1;32m    798\u001B[0m         handle \u001B[38;5;241m=\u001B[39m \u001B[38;5;28mopen\u001B[39m(handle, ioargs\u001B[38;5;241m.\u001B[39mmode)\n",
      "\u001B[0;31mFileNotFoundError\u001B[0m: [Errno 2] No such file or directory: '/home/xabush/code/snet/moses-incons-pen-xp/data/res_bmm_s_10_gibbs_ula.csv'"
     ]
    }
   ],
   "source": [
    "res_bmm_s_10_df = pd.read_csv(f\"{data_dir}/res_bmm_s_10_gibbs_ula.csv\")"
   ],
   "metadata": {
    "collapsed": false,
    "pycharm": {
     "name": "#%%\n"
    }
   }
  },
  {
   "cell_type": "code",
   "execution_count": 77,
   "outputs": [
    {
     "data": {
      "text/plain": "          eta        mu  thres  cv_score  test_score  len num_edges  \\\n111  0.100000   0.10000    0.4  0.646145    0.646577   69      1648   \n308  0.278256   0.10000    0.3  0.630915    0.642264   71      1740   \n23   0.000000   0.16681    0.6  0.696368    0.640755    4         2   \n317  0.278256   0.16681    0.3  0.631944    0.638706   72      1796   \n299  0.278256   0.00000    0.3  0.631944    0.638706   72      1796   \n..        ...       ...    ...       ...         ...  ...       ...   \n493  0.464159  10.00000    0.8       NaN         NaN    0         0   \n494  0.464159  10.00000    0.9       NaN         NaN    0         0   \n591  0.774264  10.00000    0.7       NaN         NaN    0         0   \n592  0.774264  10.00000    0.8       NaN         NaN    0         0   \n593  0.774264  10.00000    0.9       NaN         NaN    0         0   \n\n     beta_cv_score  beta_test_score  \n111       0.731620         0.636765  \n308       0.742633         0.632237  \n23        0.713157         0.635364  \n317       0.731757         0.643235  \n299       0.735408         0.629111  \n..             ...              ...  \n493            NaN              NaN  \n494            NaN              NaN  \n591            NaN              NaN  \n592            NaN              NaN  \n593            NaN              NaN  \n\n[1089 rows x 9 columns]",
      "text/html": "<div>\n<style scoped>\n    .dataframe tbody tr th:only-of-type {\n        vertical-align: middle;\n    }\n\n    .dataframe tbody tr th {\n        vertical-align: top;\n    }\n\n    .dataframe thead th {\n        text-align: right;\n    }\n</style>\n<table border=\"1\" class=\"dataframe\">\n  <thead>\n    <tr style=\"text-align: right;\">\n      <th></th>\n      <th>eta</th>\n      <th>mu</th>\n      <th>thres</th>\n      <th>cv_score</th>\n      <th>test_score</th>\n      <th>len</th>\n      <th>num_edges</th>\n      <th>beta_cv_score</th>\n      <th>beta_test_score</th>\n    </tr>\n  </thead>\n  <tbody>\n    <tr>\n      <th>111</th>\n      <td>0.100000</td>\n      <td>0.10000</td>\n      <td>0.4</td>\n      <td>0.646145</td>\n      <td>0.646577</td>\n      <td>69</td>\n      <td>1648</td>\n      <td>0.731620</td>\n      <td>0.636765</td>\n    </tr>\n    <tr>\n      <th>308</th>\n      <td>0.278256</td>\n      <td>0.10000</td>\n      <td>0.3</td>\n      <td>0.630915</td>\n      <td>0.642264</td>\n      <td>71</td>\n      <td>1740</td>\n      <td>0.742633</td>\n      <td>0.632237</td>\n    </tr>\n    <tr>\n      <th>23</th>\n      <td>0.000000</td>\n      <td>0.16681</td>\n      <td>0.6</td>\n      <td>0.696368</td>\n      <td>0.640755</td>\n      <td>4</td>\n      <td>2</td>\n      <td>0.713157</td>\n      <td>0.635364</td>\n    </tr>\n    <tr>\n      <th>317</th>\n      <td>0.278256</td>\n      <td>0.16681</td>\n      <td>0.3</td>\n      <td>0.631944</td>\n      <td>0.638706</td>\n      <td>72</td>\n      <td>1796</td>\n      <td>0.731757</td>\n      <td>0.643235</td>\n    </tr>\n    <tr>\n      <th>299</th>\n      <td>0.278256</td>\n      <td>0.00000</td>\n      <td>0.3</td>\n      <td>0.631944</td>\n      <td>0.638706</td>\n      <td>72</td>\n      <td>1796</td>\n      <td>0.735408</td>\n      <td>0.629111</td>\n    </tr>\n    <tr>\n      <th>...</th>\n      <td>...</td>\n      <td>...</td>\n      <td>...</td>\n      <td>...</td>\n      <td>...</td>\n      <td>...</td>\n      <td>...</td>\n      <td>...</td>\n      <td>...</td>\n    </tr>\n    <tr>\n      <th>493</th>\n      <td>0.464159</td>\n      <td>10.00000</td>\n      <td>0.8</td>\n      <td>NaN</td>\n      <td>NaN</td>\n      <td>0</td>\n      <td>0</td>\n      <td>NaN</td>\n      <td>NaN</td>\n    </tr>\n    <tr>\n      <th>494</th>\n      <td>0.464159</td>\n      <td>10.00000</td>\n      <td>0.9</td>\n      <td>NaN</td>\n      <td>NaN</td>\n      <td>0</td>\n      <td>0</td>\n      <td>NaN</td>\n      <td>NaN</td>\n    </tr>\n    <tr>\n      <th>591</th>\n      <td>0.774264</td>\n      <td>10.00000</td>\n      <td>0.7</td>\n      <td>NaN</td>\n      <td>NaN</td>\n      <td>0</td>\n      <td>0</td>\n      <td>NaN</td>\n      <td>NaN</td>\n    </tr>\n    <tr>\n      <th>592</th>\n      <td>0.774264</td>\n      <td>10.00000</td>\n      <td>0.8</td>\n      <td>NaN</td>\n      <td>NaN</td>\n      <td>0</td>\n      <td>0</td>\n      <td>NaN</td>\n      <td>NaN</td>\n    </tr>\n    <tr>\n      <th>593</th>\n      <td>0.774264</td>\n      <td>10.00000</td>\n      <td>0.9</td>\n      <td>NaN</td>\n      <td>NaN</td>\n      <td>0</td>\n      <td>0</td>\n      <td>NaN</td>\n      <td>NaN</td>\n    </tr>\n  </tbody>\n</table>\n<p>1089 rows × 9 columns</p>\n</div>"
     },
     "execution_count": 77,
     "metadata": {},
     "output_type": "execute_result"
    }
   ],
   "source": [
    "res_bmm_s_10_df.sort_values(by=\"test_score\", axis=0, ascending=False)"
   ],
   "metadata": {
    "collapsed": false,
    "pycharm": {
     "name": "#%%\n"
    }
   }
  },
  {
   "cell_type": "code",
   "execution_count": 243,
   "outputs": [
    {
     "ename": "NameError",
     "evalue": "name 'res_bmm_s_10_df' is not defined",
     "output_type": "error",
     "traceback": [
      "\u001B[0;31m---------------------------------------------------------------------------\u001B[0m",
      "\u001B[0;31mNameError\u001B[0m                                 Traceback (most recent call last)",
      "Input \u001B[0;32mIn [243]\u001B[0m, in \u001B[0;36m<cell line: 1>\u001B[0;34m()\u001B[0m\n\u001B[0;32m----> 1\u001B[0m \u001B[43mres_bmm_s_10_df\u001B[49m\u001B[38;5;241m.\u001B[39msort_values(by\u001B[38;5;241m=\u001B[39m\u001B[38;5;124m\"\u001B[39m\u001B[38;5;124mbeta_test_score\u001B[39m\u001B[38;5;124m\"\u001B[39m, axis\u001B[38;5;241m=\u001B[39m\u001B[38;5;241m0\u001B[39m, ascending\u001B[38;5;241m=\u001B[39m\u001B[38;5;28;01mFalse\u001B[39;00m)\n",
      "\u001B[0;31mNameError\u001B[0m: name 'res_bmm_s_10_df' is not defined"
     ]
    }
   ],
   "source": [
    "res_bmm_s_10_df.sort_values(by=\"beta_test_score\", axis=0, ascending=False)"
   ],
   "metadata": {
    "collapsed": false,
    "pycharm": {
     "name": "#%%\n"
    }
   }
  },
  {
   "cell_type": "code",
   "execution_count": 141,
   "outputs": [],
   "source": [
    "X_train, X_test = jnp.array(X_train_bmm_10.to_numpy()), jnp.array(X_test_bmm_10.to_numpy())\n",
    "y_train, y_test = jnp.array(y_train_bmm_10.to_numpy()), jnp.array(y_test_bmm_10.to_numpy())\n",
    "n_chains = 3\n",
    "disc_init_pos = gamma_dist.sample(seed=rng_key, sample_shape=(n_chains,)) * 1.\n",
    "contin_init_pos = beta_dist.sample(seed=rng_key, sample_shape=(n_chains,))\n",
    "burn_in = 0.1\n",
    "num_samples = 10000\n",
    "p = J_bmm_10.shape[0]\n",
    "eta, mu = 0.1, 0.1\n",
    "disc_logprob = generate_disc_logprob_fn(X_train, y_train, J_bmm_10, mu, eta)\n",
    "contin_logprob = generate_contin_logprob_fn(X_train, y_train, tau, c)\n",
    "kernel = jax.jit(lambda key, state: one_step(key, state, disc_logprob, contin_logprob, disc_step_size, contin_step_size))\n",
    "\n",
    "init_state = jax.vmap(init, in_axes=(0, 0, None, None, None, None))(disc_init_pos, contin_init_pos, disc_logprob,\n",
    "                                                                    contin_logprob,\n",
    "                                                                    disc_step_size, contin_step_size)\n",
    "states = inference_loop_multiple_chains(rng_key, kernel, init_state, num_samples=num_samples, num_chains=n_chains)\n",
    "\n",
    "gamma_samples = states.discrete_position[int(burn_in*num_samples):]\n",
    "beta_samples = states.contin_position[int(burn_in*num_samples):]\n",
    "gamma_samples = gamma_samples.reshape(-1, p)\n",
    "beta_samples = beta_samples.reshape(-1, p)"
   ],
   "metadata": {
    "collapsed": false,
    "pycharm": {
     "name": "#%%\n"
    }
   }
  },
  {
   "cell_type": "code",
   "execution_count": 82,
   "outputs": [
    {
     "data": {
      "text/plain": "DeviceArray([42, 58, 60, 92], dtype=int32)"
     },
     "execution_count": 82,
     "metadata": {},
     "output_type": "execute_result"
    }
   ],
   "source": [
    "idx_1 = jnp.squeeze(jnp.argwhere(jnp.mean(gamma_samples, axis=0) > 0.6))\n",
    "idx_1"
   ],
   "metadata": {
    "collapsed": false,
    "pycharm": {
     "name": "#%%\n"
    }
   }
  },
  {
   "cell_type": "code",
   "execution_count": 147,
   "outputs": [
    {
     "data": {
      "text/plain": "DeviceArray([ 0,  2,  4,  5,  6, 11, 12, 14, 15, 17, 18, 19, 20, 24, 25,\n             26, 27, 30, 31, 32, 33, 34, 35, 37, 38, 39, 40, 41, 42, 43,\n             44, 45, 46, 50, 51, 52, 53, 54, 55, 56, 57, 58, 60, 61, 64,\n             66, 67, 68, 70, 71, 73, 74, 78, 81, 82, 83, 84, 85, 86, 87,\n             88, 90, 92, 94, 95, 96, 97, 98, 99], dtype=int32)"
     },
     "execution_count": 147,
     "metadata": {},
     "output_type": "execute_result"
    }
   ],
   "source": [
    "idx_2 = jnp.squeeze(jnp.argwhere(jnp.mean(gamma_samples, axis=0) > 0.4))\n",
    "idx_2"
   ],
   "metadata": {
    "collapsed": false,
    "pycharm": {
     "name": "#%%\n"
    }
   }
  },
  {
   "cell_type": "code",
   "execution_count": 83,
   "outputs": [
    {
     "data": {
      "text/plain": "array([58, 60, 92, 25, 79])"
     },
     "execution_count": 83,
     "metadata": {},
     "output_type": "execute_result"
    }
   ],
   "source": [
    "np.array(feat) - 1"
   ],
   "metadata": {
    "collapsed": false,
    "pycharm": {
     "name": "#%%\n"
    }
   }
  },
  {
   "cell_type": "code",
   "execution_count": 49,
   "outputs": [
    {
     "data": {
      "text/plain": "array([[ 0.      , -0.54721 ,  0.052118,  0.      ,  0.      ],\n       [ 0.      ,  0.      ,  0.      ,  1.0872  , -0.065148],\n       [ 0.      ,  0.      ,  0.      ,  0.      ,  0.      ],\n       [ 0.012367,  0.      ,  0.      ,  0.      ,  0.      ],\n       [ 0.58806 ,  1.1641  ,  0.      ,  0.      ,  0.      ],\n       [ 0.      ,  0.      ,  0.      ,  0.25027 ,  0.049183],\n       [ 0.      ,  0.      ,  1.1449  ,  0.39703 ,  0.      ],\n       [-0.52922 ,  1.05    ,  0.      ,  0.      ,  0.      ],\n       [ 1.514   ,  0.      , -2.6742  ,  0.      , -0.64867 ],\n       [ 0.      ,  0.      ,  0.      , -0.82846 ,  0.      ],\n       [ 0.      ,  0.      ,  0.81707 ,  0.      ,  0.      ],\n       [ 0.      ,  0.      ,  0.      ,  0.      ,  0.      ],\n       [ 0.      ,  0.      ,  0.      ,  0.      , -0.068902],\n       [ 0.      ,  0.017719,  0.      ,  0.10958 ,  0.      ],\n       [ 0.      ,  0.      ,  0.46703 ,  0.      ,  0.33502 ],\n       [-1.0499  ,  0.19164 ,  0.11948 ,  0.      , -0.062189],\n       [ 0.      ,  0.      ,  0.      ,  0.      ,  0.      ],\n       [ 0.      ,  0.      , -0.74942 ,  0.      , -1.6586  ],\n       [-1.2628  ,  0.      ,  0.      ,  0.95421 , -0.33446 ],\n       [ 0.      ,  0.      ,  0.      , -0.16876 ,  0.      ],\n       [ 0.14747 , -1.5855  ,  0.037397,  0.      ,  0.      ],\n       [ 0.      ,  0.48826 ,  1.1469  ,  0.29597 ,  0.      ],\n       [ 0.      ,  0.      ,  0.      ,  0.38193 ,  0.67189 ],\n       [-0.52487 ,  0.      ,  0.      ,  0.      ,  0.      ],\n       [ 0.39462 ,  0.      ,  0.      ,  0.      ,  0.      ],\n       [ 0.      ,  1.6416  ,  0.      ,  0.      ,  0.      ],\n       [ 0.      ,  0.      ,  0.      ,  1.25    ,  0.      ],\n       [ 0.22293 ,  0.062389,  0.28227 ,  1.4936  ,  0.      ],\n       [ 0.      ,  1.5029  ,  0.      , -0.14909 ,  0.      ],\n       [ 0.      ,  0.      ,  0.      ,  0.      , -1.2386  ],\n       [ 0.      ,  0.      ,  0.      ,  0.      ,  0.      ],\n       [-0.53201 ,  0.      ,  1.0403  ,  0.      , -1.2105  ],\n       [ 0.      ,  0.      ,  1.2534  , -0.76007 ,  0.      ],\n       [ 0.      , -2.1596  ,  0.60593 , -1.4507  ,  0.      ],\n       [ 0.      , -0.35295 ,  0.      ,  0.3629  ,  0.63697 ],\n       [ 1.0357  , -0.15352 , -0.43387 ,  1.9037  , -1.0773  ],\n       [ 0.      ,  0.      ,  0.      ,  0.      ,  0.      ],\n       [ 0.60846 ,  0.      ,  0.51485 ,  0.      ,  0.      ],\n       [ 0.      ,  0.3478  ,  0.      ,  1.6374  , -0.8214  ],\n       [ 0.17307 , -1.5826  ,  0.      ,  0.      , -1.7716  ],\n       [ 0.74208 ,  0.      ,  0.      ,  0.1836  ,  0.      ],\n       [ 0.      ,  0.      ,  0.      ,  0.      ,  0.      ],\n       [ 0.      ,  0.      ,  0.      ,  0.      ,  0.      ],\n       [-0.18628 ,  0.      ,  0.      ,  0.10153 ,  0.      ],\n       [ 0.      ,  0.      ,  0.      ,  0.      , -1.2523  ],\n       [ 0.      ,  0.      ,  0.      ,  0.      ,  0.30686 ],\n       [ 0.      ,  2.8454  ,  0.      ,  0.      ,  0.      ],\n       [ 0.      ,  0.      ,  0.66614 ,  0.      ,  0.      ],\n       [ 0.      ,  0.      ,  0.      ,  0.      , -0.71214 ],\n       [ 0.      ,  0.      ,  1.5018  , -0.2757  ,  0.      ],\n       [ 0.      ,  0.      ,  0.      ,  0.      , -0.88023 ],\n       [ 0.      ,  0.      ,  0.      ,  0.      ,  0.31075 ],\n       [ 0.      ,  0.      , -1.0877  , -0.67347 ,  0.28274 ],\n       [ 0.      ,  0.80204 , -0.21865 , -0.79406 , -0.76236 ],\n       [ 0.      ,  0.      , -0.24421 , -2.1858  ,  0.      ],\n       [ 0.      ,  0.      , -0.3641  , -0.21208 ,  1.4331  ],\n       [ 0.      ,  0.      ,  0.      ,  0.      ,  0.      ],\n       [ 0.      ,  0.74102 ,  0.      ,  1.8772  , -1.1709  ],\n       [-0.57523 , -2.039   ,  0.      ,  0.      ,  0.      ],\n       [-0.081053,  0.      ,  0.      ,  0.      ,  0.      ],\n       [ 0.      ,  0.      , -0.99357 ,  0.      ,  0.      ],\n       [ 0.      ,  0.      , -0.20181 , -0.26459 ,  0.6732  ],\n       [ 0.      ,  0.      ,  0.      ,  0.46703 , -0.75842 ],\n       [ 0.      ,  0.      ,  0.      ,  0.      ,  0.      ],\n       [ 0.24443 , -1.1842  ,  0.      ,  0.      , -0.90117 ],\n       [ 0.      ,  0.35171 ,  0.77384 ,  0.      ,  0.5101  ],\n       [ 1.6171  ,  0.      ,  0.      ,  2.5284  ,  0.      ],\n       [ 0.      , -0.064572, -1.4465  ,  1.1351  ,  0.      ],\n       [ 0.      ,  0.      ,  0.      ,  0.      ,  0.      ]],\n      dtype=float32)"
     },
     "execution_count": 49,
     "metadata": {},
     "output_type": "execute_result"
    }
   ],
   "source": [
    "jax.device_get(J_bmm_10[idx_1,:][:,np.array(feat) - 1])"
   ],
   "metadata": {
    "collapsed": false,
    "pycharm": {
     "name": "#%%\n"
    }
   }
  },
  {
   "cell_type": "code",
   "execution_count": 83,
   "outputs": [
    {
     "name": "stdout",
     "output_type": "stream",
     "text": [
      "/home/xabush/code/snet/moses-incons-pen-xp\n"
     ]
    },
    {
     "data": {
      "text/plain": "     f1  f2  f3  f4  y\n613   1   0   0   1  1\n130   1   0   1   1  1\n487   1   1   0   0  1\n176   1   1   1   1  1\n960   1   1   0   0  0",
      "text/html": "<div>\n<style scoped>\n    .dataframe tbody tr th:only-of-type {\n        vertical-align: middle;\n    }\n\n    .dataframe tbody tr th {\n        vertical-align: top;\n    }\n\n    .dataframe thead th {\n        text-align: right;\n    }\n</style>\n<table border=\"1\" class=\"dataframe\">\n  <thead>\n    <tr style=\"text-align: right;\">\n      <th></th>\n      <th>f1</th>\n      <th>f2</th>\n      <th>f3</th>\n      <th>f4</th>\n      <th>y</th>\n    </tr>\n  </thead>\n  <tbody>\n    <tr>\n      <th>613</th>\n      <td>1</td>\n      <td>0</td>\n      <td>0</td>\n      <td>1</td>\n      <td>1</td>\n    </tr>\n    <tr>\n      <th>130</th>\n      <td>1</td>\n      <td>0</td>\n      <td>1</td>\n      <td>1</td>\n      <td>1</td>\n    </tr>\n    <tr>\n      <th>487</th>\n      <td>1</td>\n      <td>1</td>\n      <td>0</td>\n      <td>0</td>\n      <td>1</td>\n    </tr>\n    <tr>\n      <th>176</th>\n      <td>1</td>\n      <td>1</td>\n      <td>1</td>\n      <td>1</td>\n      <td>1</td>\n    </tr>\n    <tr>\n      <th>960</th>\n      <td>1</td>\n      <td>1</td>\n      <td>0</td>\n      <td>0</td>\n      <td>0</td>\n    </tr>\n  </tbody>\n</table>\n</div>"
     },
     "execution_count": 83,
     "metadata": {},
     "output_type": "execute_result"
    }
   ],
   "source": [
    "%cd /home/xabush/code/snet/moses-incons-pen-xp\n",
    "from notebooks.variable_selection.util import assign_cols\n",
    "train_bmm_10_sel = assign_cols(X_train_bmm_10.iloc[:,idx_1], append_y=False)\n",
    "train_bmm_10_sel = pd.concat([train_bmm_10_sel, y_train_bmm_10], axis=1)\n",
    "train_bmm_10_sel.to_csv(f\"{data_dir}/train_bmm_10_sel_gibbs_ula.csv\", index=False)\n",
    "train_bmm_10_sel.head()"
   ],
   "metadata": {
    "collapsed": false,
    "pycharm": {
     "name": "#%%\n"
    }
   }
  },
  {
   "cell_type": "code",
   "execution_count": 18,
   "outputs": [
    {
     "data": {
      "text/plain": "     f1  f2  f3  f4  y\n0     1   0   0   1  1\n1     1   0   1   1  1\n2     1   1   0   0  1\n3     1   1   1   1  1\n4     1   1   0   0  0\n..   ..  ..  ..  .. ..\n695   1   1   0   1  1\n696   1   1   1   0  1\n697   1   1   1   1  1\n698   1   0   1   0  1\n699   1   0   1   0  1\n\n[700 rows x 5 columns]",
      "text/html": "<div>\n<style scoped>\n    .dataframe tbody tr th:only-of-type {\n        vertical-align: middle;\n    }\n\n    .dataframe tbody tr th {\n        vertical-align: top;\n    }\n\n    .dataframe thead th {\n        text-align: right;\n    }\n</style>\n<table border=\"1\" class=\"dataframe\">\n  <thead>\n    <tr style=\"text-align: right;\">\n      <th></th>\n      <th>f1</th>\n      <th>f2</th>\n      <th>f3</th>\n      <th>f4</th>\n      <th>y</th>\n    </tr>\n  </thead>\n  <tbody>\n    <tr>\n      <th>0</th>\n      <td>1</td>\n      <td>0</td>\n      <td>0</td>\n      <td>1</td>\n      <td>1</td>\n    </tr>\n    <tr>\n      <th>1</th>\n      <td>1</td>\n      <td>0</td>\n      <td>1</td>\n      <td>1</td>\n      <td>1</td>\n    </tr>\n    <tr>\n      <th>2</th>\n      <td>1</td>\n      <td>1</td>\n      <td>0</td>\n      <td>0</td>\n      <td>1</td>\n    </tr>\n    <tr>\n      <th>3</th>\n      <td>1</td>\n      <td>1</td>\n      <td>1</td>\n      <td>1</td>\n      <td>1</td>\n    </tr>\n    <tr>\n      <th>4</th>\n      <td>1</td>\n      <td>1</td>\n      <td>0</td>\n      <td>0</td>\n      <td>0</td>\n    </tr>\n    <tr>\n      <th>...</th>\n      <td>...</td>\n      <td>...</td>\n      <td>...</td>\n      <td>...</td>\n      <td>...</td>\n    </tr>\n    <tr>\n      <th>695</th>\n      <td>1</td>\n      <td>1</td>\n      <td>0</td>\n      <td>1</td>\n      <td>1</td>\n    </tr>\n    <tr>\n      <th>696</th>\n      <td>1</td>\n      <td>1</td>\n      <td>1</td>\n      <td>0</td>\n      <td>1</td>\n    </tr>\n    <tr>\n      <th>697</th>\n      <td>1</td>\n      <td>1</td>\n      <td>1</td>\n      <td>1</td>\n      <td>1</td>\n    </tr>\n    <tr>\n      <th>698</th>\n      <td>1</td>\n      <td>0</td>\n      <td>1</td>\n      <td>0</td>\n      <td>1</td>\n    </tr>\n    <tr>\n      <th>699</th>\n      <td>1</td>\n      <td>0</td>\n      <td>1</td>\n      <td>0</td>\n      <td>1</td>\n    </tr>\n  </tbody>\n</table>\n<p>700 rows × 5 columns</p>\n</div>"
     },
     "execution_count": 18,
     "metadata": {},
     "output_type": "execute_result"
    }
   ],
   "source": [
    "train_bmm_10_sel = pd.read_csv(f\"{data_dir}/train_bmm_10_sel_gibbs_ula.csv\")\n",
    "train_bmm_10_sel"
   ],
   "metadata": {
    "collapsed": false,
    "pycharm": {
     "name": "#%%\n"
    }
   }
  },
  {
   "cell_type": "code",
   "execution_count": 148,
   "outputs": [
    {
     "data": {
      "text/plain": "(700, 69)"
     },
     "execution_count": 148,
     "metadata": {},
     "output_type": "execute_result"
    }
   ],
   "source": [
    "X_train, X_test = X_train_bmm_10.to_numpy(), X_test_bmm_10.to_numpy()\n",
    "y_train, y_test = y_train_bmm_10.to_numpy(), y_test_bmm_10.to_numpy()\n",
    "X_train_sel, X_test_sel = X_train[:,idx_2], X_test[:,idx_2]\n",
    "X_train_sel.shape"
   ],
   "metadata": {
    "collapsed": false,
    "pycharm": {
     "name": "#%%\n"
    }
   }
  },
  {
   "cell_type": "code",
   "execution_count": 209,
   "outputs": [],
   "source": [
    "%autoreload\n",
    "from notebooks.variable_selection.MosesEstimator import *\n",
    "from tqdm import tqdm\n",
    "from sklearn.model_selection import StratifiedKFold, KFold\n",
    "\n",
    "def run_fs_moses(X_train, X_test, y_train, y_test, seed, feats=None):\n",
    "    results = {\"complexity_ratio\": [], \"moses_cv_score\": [], \"moses_test_score\": []}\n",
    "    complx_ratios = [5]\n",
    "    cr = 5\n",
    "    # tmps = np.logspace(3, 4, 5)\n",
    "    tmps = [10]\n",
    "    models = []\n",
    "    if feats is None:\n",
    "        X_s_train, X_s_test = X_train.astype(np.int64), X_test.astype(np.int64)\n",
    "    else:\n",
    "        X_s_train, X_s_test = X_train[:,feats].astype(np.int64), X_test[:,feats].astype(np.int64)\n",
    "    y_train, y_test = y_train.astype(np.int64), y_test.astype(np.int64)\n",
    "    print(X_s_train.shape)\n",
    "    # MosesEstimator(fs_algo=None, random_state=seed).fit(X_s_train, y_train)\n",
    "    cv = KFold(n_splits=5)\n",
    "\n",
    "    for tmp in (pgbar := tqdm(tmps)):\n",
    "        moses_opts = [\"--complexity-temperature\", f\"{tmp}\", \"--hc-crossover-min-neighbors\", \"500\", \"--hc-crossover-pop-size\",\n",
    "                      \"100\", \"--hc-fraction-of-nn\", \"2.0\", \"-e\",\n",
    "                      \"or(and(or(and(or(!$39 !$47) $25) and($2 $4 $63) and(!$13 $28) !$14) or(and($27 !$44 $54) $43)) and(or(and($2 $33) and(!$37 $40)) or(!$11 !$28 !$31) $52) !$67)\"]\n",
    "        # cv_scores = []\n",
    "        # j = 0\n",
    "        # for train_idx, test_idx in cv.split(X_s_train, y_train):\n",
    "        #     x_train_cv, x_test_cv = X_s_train[train_idx], X_s_train[test_idx]\n",
    "        #     y_train_cv, y_test_cv = y_train[train_idx], y_train[test_idx]\n",
    "        #     est = MosesEstimator(fs_algo=None, complexity_ratio=cr,\n",
    "        #                          random_state=seed, ensemble=True, num_evals=20000).fit(x_train_cv, y_train_cv, moses_params=moses_opts)\n",
    "        #\n",
    "        #     score = MosesEstimator.score(est, x_test_cv, y_test_cv)\n",
    "        #     print(f\"fold - {j + 1} score: {score : .3f}\")\n",
    "        #     cv_scores.append(score)\n",
    "        #     j += 1\n",
    "        #\n",
    "        # cv_scores = np.array(cv_scores)\n",
    "        # cv_score = np.mean(cv_scores)\n",
    "\n",
    "        moses_est_r = MosesEstimator(fs_algo=None, complexity_ratio=cr, num_models=100,\n",
    "                                     random_state=seed, ensemble=False, num_evals=30000).fit(X_s_train, y_train, moses_params=moses_opts)\n",
    "\n",
    "        train_score = MosesEstimator.score(moses_est_r, X_s_train, y_train)\n",
    "        test_score = MosesEstimator.score(moses_est_r ,X_s_test, y_test)\n",
    "        results[\"complexity_ratio\"].append(tmp)\n",
    "        results[\"moses_cv_score\"].append(train_score)\n",
    "        results[\"moses_test_score\"].append(test_score)\n",
    "        models.append(moses_est_r)\n",
    "        # cv_score_2 = np.mean(cross_val_score(LogisticRegression(max_iter=1000), X_s_train, y_train, scoring=log_roc_auc))\n",
    "        # log_est = LogisticRegression(max_iter=1000).fit(X_s_train, y_train)\n",
    "        # test_score_2 = roc_auc_score(y_test, log_est.predict(X_s_test))\n",
    "        # # print({\"moses_cv_score\": cv_score, \"moses_test_score\": test_score, \"log_cv_score\": cv_score_2, \"log_test_score\": test_score_2}\n",
    "        #\n",
    "        # results[\"log_cv_score\"].append(cv_score_2)\n",
    "        # results[\"log_test_score\"].append(test_score_2)\n",
    "        #\n",
    "        pgbar.set_postfix({\"cr\": f\"{tmp:.2f}\", \"moses_tr\": f\"{train_score:.4f}\", \"moses_te\": f\"{test_score:.4f}\"})\n",
    "    # moses_est_r.cleanup()\n",
    "\n",
    "    return pd.DataFrame(results), models"
   ],
   "metadata": {
    "collapsed": false,
    "pycharm": {
     "name": "#%%\n"
    }
   }
  },
  {
   "cell_type": "code",
   "execution_count": 210,
   "outputs": [
    {
     "name": "stdout",
     "output_type": "stream",
     "text": [
      "(700, 69)\n"
     ]
    },
    {
     "name": "stderr",
     "output_type": "stream",
     "text": [
      "100%|████████████████████████████████████████████| 1/1 [03:15<00:00, 195.81s/it, cr=10.00, moses_tr=0.8562, moses_te=0.6078]\n"
     ]
    }
   ],
   "source": [
    "res_df, models = run_fs_moses(X_train_sel, X_test_sel, y_train, y_test, seed)"
   ],
   "metadata": {
    "collapsed": false,
    "pycharm": {
     "name": "#%%\n"
    }
   }
  },
  {
   "cell_type": "code",
   "execution_count": 211,
   "outputs": [
    {
     "data": {
      "text/plain": "   complexity_ratio  moses_cv_score  moses_test_score\n0                10        0.856154          0.607817",
      "text/html": "<div>\n<style scoped>\n    .dataframe tbody tr th:only-of-type {\n        vertical-align: middle;\n    }\n\n    .dataframe tbody tr th {\n        vertical-align: top;\n    }\n\n    .dataframe thead th {\n        text-align: right;\n    }\n</style>\n<table border=\"1\" class=\"dataframe\">\n  <thead>\n    <tr style=\"text-align: right;\">\n      <th></th>\n      <th>complexity_ratio</th>\n      <th>moses_cv_score</th>\n      <th>moses_test_score</th>\n    </tr>\n  </thead>\n  <tbody>\n    <tr>\n      <th>0</th>\n      <td>10</td>\n      <td>0.856154</td>\n      <td>0.607817</td>\n    </tr>\n  </tbody>\n</table>\n</div>"
     },
     "execution_count": 211,
     "metadata": {},
     "output_type": "execute_result"
    }
   ],
   "source": [
    "res_df"
   ],
   "metadata": {
    "collapsed": false,
    "pycharm": {
     "name": "#%%\n"
    }
   }
  },
  {
   "cell_type": "code",
   "execution_count": 218,
   "outputs": [
    {
     "name": "stdout",
     "output_type": "stream",
     "text": [
      "0.8345082111265159\n",
      "0.6055525606469002\n"
     ]
    }
   ],
   "source": [
    "moses_est = MosesEstimator(ensemble=False)\n",
    "moses_est.models_ = models[0].models_[:5]\n",
    "print(moses_est.score(moses_est, X_train_sel, y_train))\n",
    "print(moses_est.score(moses_est, X_test_sel, y_test))"
   ],
   "metadata": {
    "collapsed": false,
    "pycharm": {
     "name": "#%%\n"
    }
   }
  },
  {
   "cell_type": "code",
   "execution_count": 208,
   "outputs": [
    {
     "data": {
      "text/plain": "'or(and(or(and(or(!$f39 !$f47) $f25) and($f2 $f4 $f63) and(!$f13 $f28) !$f14) or(and($f27 !$f44 $f54) $f43)) and(or(and($f2 $f33) and(!$f37 $f40)) or(!$f11 !$f28 !$f31) $f52) !$f67)'"
     },
     "execution_count": 208,
     "metadata": {},
     "output_type": "execute_result"
    }
   ],
   "source": [
    "models[0].models_[0].model"
   ],
   "metadata": {
    "collapsed": false,
    "pycharm": {
     "name": "#%%\n"
    }
   }
  },
  {
   "cell_type": "markdown",
   "source": [
    "### Seed 55"
   ],
   "metadata": {
    "collapsed": false,
    "pycharm": {
     "name": "#%% md\n"
    }
   }
  },
  {
   "cell_type": "code",
   "execution_count": 101,
   "outputs": [
    {
     "name": "stderr",
     "output_type": "stream",
     "text": [
      "100%|███████████████████████████████████████████████████████████████████████████████████| 11/11 [14:05<00:00, 76.84s/it]"
     ]
    },
    {
     "name": "stdout",
     "output_type": "stream",
     "text": [
      "========= Done for seed - 92 =========\n"
     ]
    },
    {
     "name": "stderr",
     "output_type": "stream",
     "text": [
      "\n"
     ]
    }
   ],
   "source": [
    "seed_idx = 3\n",
    "seed = seeds[seed_idx]\n",
    "rng_key = jax.random.PRNGKey(seed)\n",
    "feat = feats[seed_idx]\n",
    "data_df = data_dfs[seed_idx]\n",
    "net_df = net_dfs[seed_idx]\n",
    "X_bmm, y_bmm = data_df.iloc[:, :-1], data_df[\"y\"]\n",
    "X_train_bmm, X_test_bmm, y_train_bmm, y_test_bmm = train_test_split(X_bmm, y_bmm, test_size=0.3, random_state=seed,\n",
    "                                                                    shuffle=True, stratify=y_bmm)\n",
    "X_train, X_test = jnp.array(X_train_bmm.to_numpy()), jnp.array(X_test_bmm.to_numpy())\n",
    "y_train, y_test = jnp.array(y_train_bmm.to_numpy()), jnp.array(y_test_bmm.to_numpy())\n",
    "J_bmm = jax.device_put(net_df.to_numpy())\n",
    "disc_step_size = 0.1\n",
    "contin_step_size = 1e-5\n",
    "tau, c = 0.01, 2500\n",
    "p = J_bmm.shape[0]\n",
    "beta_dist = tfd.MultivariateNormalDiag(loc=jnp.zeros(p), scale_diag=10 * jnp.ones(p))\n",
    "gamma_dist = tfd.Bernoulli(probs=0.5 * jnp.ones(p))\n",
    "\n",
    "res_bmm_55_df = run_param_sel_exp(key=rng_key, X_train=X_train, X_test=X_test, y_train=y_train, y_test=y_test, J=J_bmm,\n",
    "                               vals=param_vals, disc_dist=gamma_dist, contin_dist=beta_dist,\n",
    "                               disc_step_size=disc_step_size, contin_step_size=contin_step_size, binary=True)"
   ],
   "metadata": {
    "collapsed": false,
    "pycharm": {
     "name": "#%%\n"
    }
   }
  },
  {
   "cell_type": "code",
   "execution_count": null,
   "outputs": [],
   "source": [
    "res_bmm_55_df.to_csv(f\"{data_dir}/res_bmm_s_55_gibbs_ula.csv\", index=False)"
   ],
   "metadata": {
    "collapsed": false,
    "pycharm": {
     "name": "#%%\n"
    }
   }
  },
  {
   "cell_type": "code",
   "execution_count": 102,
   "outputs": [
    {
     "data": {
      "text/plain": "          eta         mu  thres  cv_score  test_score  len num_edges  \\\n264  0.166810   2.154435    0.4  0.567228    0.634094    7        16   \n538  0.774264   0.464159    0.8  0.478239    0.584497   57      1076   \n531  0.774264   0.464159    0.1  0.535227    0.569288   69      1554   \n532  0.774264   0.464159    0.2  0.538932    0.583248   65      1364   \n263  0.166810   2.154435    0.3  0.612350    0.575304    9        32   \n..        ...        ...    ...       ...         ...  ...       ...   \n589  0.774264  10.000000    0.5       NaN         NaN    0         0   \n590  0.774264  10.000000    0.6       NaN         NaN    0         0   \n591  0.774264  10.000000    0.7       NaN         NaN    0         0   \n592  0.774264  10.000000    0.8       NaN         NaN    0         0   \n593  0.774264  10.000000    0.9       NaN         NaN    0         0   \n\n     beta_cv_score  beta_test_score  \n264       0.568656         0.652480  \n538       0.634748         0.650550  \n531       0.662515         0.648394  \n532       0.662744         0.648054  \n263       0.599737         0.646124  \n..             ...              ...  \n589            NaN              NaN  \n590            NaN              NaN  \n591            NaN              NaN  \n592            NaN              NaN  \n593            NaN              NaN  \n\n[1089 rows x 9 columns]",
      "text/html": "<div>\n<style scoped>\n    .dataframe tbody tr th:only-of-type {\n        vertical-align: middle;\n    }\n\n    .dataframe tbody tr th {\n        vertical-align: top;\n    }\n\n    .dataframe thead th {\n        text-align: right;\n    }\n</style>\n<table border=\"1\" class=\"dataframe\">\n  <thead>\n    <tr style=\"text-align: right;\">\n      <th></th>\n      <th>eta</th>\n      <th>mu</th>\n      <th>thres</th>\n      <th>cv_score</th>\n      <th>test_score</th>\n      <th>len</th>\n      <th>num_edges</th>\n      <th>beta_cv_score</th>\n      <th>beta_test_score</th>\n    </tr>\n  </thead>\n  <tbody>\n    <tr>\n      <th>264</th>\n      <td>0.166810</td>\n      <td>2.154435</td>\n      <td>0.4</td>\n      <td>0.567228</td>\n      <td>0.634094</td>\n      <td>7</td>\n      <td>16</td>\n      <td>0.568656</td>\n      <td>0.652480</td>\n    </tr>\n    <tr>\n      <th>538</th>\n      <td>0.774264</td>\n      <td>0.464159</td>\n      <td>0.8</td>\n      <td>0.478239</td>\n      <td>0.584497</td>\n      <td>57</td>\n      <td>1076</td>\n      <td>0.634748</td>\n      <td>0.650550</td>\n    </tr>\n    <tr>\n      <th>531</th>\n      <td>0.774264</td>\n      <td>0.464159</td>\n      <td>0.1</td>\n      <td>0.535227</td>\n      <td>0.569288</td>\n      <td>69</td>\n      <td>1554</td>\n      <td>0.662515</td>\n      <td>0.648394</td>\n    </tr>\n    <tr>\n      <th>532</th>\n      <td>0.774264</td>\n      <td>0.464159</td>\n      <td>0.2</td>\n      <td>0.538932</td>\n      <td>0.583248</td>\n      <td>65</td>\n      <td>1364</td>\n      <td>0.662744</td>\n      <td>0.648054</td>\n    </tr>\n    <tr>\n      <th>263</th>\n      <td>0.166810</td>\n      <td>2.154435</td>\n      <td>0.3</td>\n      <td>0.612350</td>\n      <td>0.575304</td>\n      <td>9</td>\n      <td>32</td>\n      <td>0.599737</td>\n      <td>0.646124</td>\n    </tr>\n    <tr>\n      <th>...</th>\n      <td>...</td>\n      <td>...</td>\n      <td>...</td>\n      <td>...</td>\n      <td>...</td>\n      <td>...</td>\n      <td>...</td>\n      <td>...</td>\n      <td>...</td>\n    </tr>\n    <tr>\n      <th>589</th>\n      <td>0.774264</td>\n      <td>10.000000</td>\n      <td>0.5</td>\n      <td>NaN</td>\n      <td>NaN</td>\n      <td>0</td>\n      <td>0</td>\n      <td>NaN</td>\n      <td>NaN</td>\n    </tr>\n    <tr>\n      <th>590</th>\n      <td>0.774264</td>\n      <td>10.000000</td>\n      <td>0.6</td>\n      <td>NaN</td>\n      <td>NaN</td>\n      <td>0</td>\n      <td>0</td>\n      <td>NaN</td>\n      <td>NaN</td>\n    </tr>\n    <tr>\n      <th>591</th>\n      <td>0.774264</td>\n      <td>10.000000</td>\n      <td>0.7</td>\n      <td>NaN</td>\n      <td>NaN</td>\n      <td>0</td>\n      <td>0</td>\n      <td>NaN</td>\n      <td>NaN</td>\n    </tr>\n    <tr>\n      <th>592</th>\n      <td>0.774264</td>\n      <td>10.000000</td>\n      <td>0.8</td>\n      <td>NaN</td>\n      <td>NaN</td>\n      <td>0</td>\n      <td>0</td>\n      <td>NaN</td>\n      <td>NaN</td>\n    </tr>\n    <tr>\n      <th>593</th>\n      <td>0.774264</td>\n      <td>10.000000</td>\n      <td>0.9</td>\n      <td>NaN</td>\n      <td>NaN</td>\n      <td>0</td>\n      <td>0</td>\n      <td>NaN</td>\n      <td>NaN</td>\n    </tr>\n  </tbody>\n</table>\n<p>1089 rows × 9 columns</p>\n</div>"
     },
     "execution_count": 102,
     "metadata": {},
     "output_type": "execute_result"
    }
   ],
   "source": [
    "res_bmm_55_df.sort_values(by=\"beta_test_score\", axis=0, ascending=False)"
   ],
   "metadata": {
    "collapsed": false,
    "pycharm": {
     "name": "#%%\n"
    }
   }
  },
  {
   "cell_type": "code",
   "execution_count": 96,
   "outputs": [],
   "source": [
    "disc_init_pos = gamma_dist.sample(seed=rng_key, sample_shape=(3,)) * 1.\n",
    "contin_init_pos = beta_dist.sample(seed=rng_key, sample_shape=(3,))\n",
    "burn_in = 0.1\n",
    "num_samples = 10000\n",
    "p = J_bmm.shape[0]\n",
    "eta, mu = 0.16, 2.154\n",
    "disc_logprob = generate_disc_logprob_fn(X_train, y_train, J_bmm, mu, eta)\n",
    "contin_logprob = generate_contin_logprob_fn(X_train, y_train, tau, c)\n",
    "kernel = jax.jit(lambda key, state: one_step(key, state, disc_logprob, contin_logprob, disc_step_size, contin_step_size))\n",
    "\n",
    "init_state = jax.vmap(init, in_axes=(0, 0, None, None, None, None))(disc_init_pos, contin_init_pos, disc_logprob,\n",
    "                                                                    contin_logprob,\n",
    "                                                                    disc_step_size, contin_step_size)\n",
    "states = inference_loop_multiple_chains(rng_key, kernel, init_state, num_samples=num_samples, num_chains=3)\n",
    "\n",
    "gamma_samples = states.discrete_position[int(burn_in*num_samples):]\n",
    "beta_samples = states.contin_position[int(burn_in*num_samples):]\n",
    "gamma_samples = gamma_samples.reshape(-1, p)\n",
    "beta_samples = beta_samples.reshape(-1, p)"
   ],
   "metadata": {
    "collapsed": false,
    "pycharm": {
     "name": "#%%\n"
    }
   }
  },
  {
   "cell_type": "code",
   "execution_count": 100,
   "outputs": [
    {
     "data": {
      "text/plain": "DeviceArray([ 7, 26, 34, 36, 52, 59, 72, 85, 88, 97], dtype=int32)"
     },
     "execution_count": 100,
     "metadata": {},
     "output_type": "execute_result"
    }
   ],
   "source": [
    "idx_2 = jnp.squeeze(jnp.argwhere(jnp.mean(gamma_samples, axis=0) > 0.3))\n",
    "idx_2"
   ],
   "metadata": {
    "collapsed": false,
    "pycharm": {
     "name": "#%%\n"
    }
   }
  },
  {
   "cell_type": "code",
   "execution_count": 99,
   "outputs": [
    {
     "data": {
      "text/plain": "array([45, 94, 72, 20, 79])"
     },
     "execution_count": 99,
     "metadata": {},
     "output_type": "execute_result"
    }
   ],
   "source": [
    "np.array(feat) - 1"
   ],
   "metadata": {
    "collapsed": false,
    "pycharm": {
     "name": "#%%\n"
    }
   }
  },
  {
   "cell_type": "code",
   "execution_count": 245,
   "outputs": [
    {
     "ename": "NameError",
     "evalue": "name 'res_bmm_55_df' is not defined",
     "output_type": "error",
     "traceback": [
      "\u001B[0;31m---------------------------------------------------------------------------\u001B[0m",
      "\u001B[0;31mNameError\u001B[0m                                 Traceback (most recent call last)",
      "Input \u001B[0;32mIn [245]\u001B[0m, in \u001B[0;36m<cell line: 1>\u001B[0;34m()\u001B[0m\n\u001B[0;32m----> 1\u001B[0m \u001B[43mres_bmm_55_df\u001B[49m\n",
      "\u001B[0;31mNameError\u001B[0m: name 'res_bmm_55_df' is not defined"
     ]
    }
   ],
   "source": [
    "res_bmm_55_df"
   ],
   "metadata": {
    "collapsed": false,
    "pycharm": {
     "name": "#%%\n"
    }
   }
  },
  {
   "cell_type": "code",
   "execution_count": null,
   "outputs": [],
   "source": [],
   "metadata": {
    "collapsed": false,
    "pycharm": {
     "name": "#%%\n"
    }
   }
  }
 ],
 "metadata": {
  "kernelspec": {
   "display_name": "Python 3",
   "language": "python",
   "name": "python3"
  },
  "language_info": {
   "codemirror_mode": {
    "name": "ipython",
    "version": 2
   },
   "file_extension": ".py",
   "mimetype": "text/x-python",
   "name": "python",
   "nbconvert_exporter": "python",
   "pygments_lexer": "ipython2",
   "version": "2.7.6"
  }
 },
 "nbformat": 4,
 "nbformat_minor": 0
}