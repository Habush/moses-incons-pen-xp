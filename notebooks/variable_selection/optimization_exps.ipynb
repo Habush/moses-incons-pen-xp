{
 "cells": [
  {
   "cell_type": "code",
   "execution_count": 1,
   "outputs": [
    {
     "name": "stdout",
     "output_type": "stream",
     "text": [
      "/home/xabush/moses-incons-pen-xp\n"
     ]
    }
   ],
   "source": [
    "%cd \"~/moses-incons-pen-xp\"\n",
    "%load_ext autoreload\n",
    "%autoreload 2"
   ],
   "metadata": {
    "collapsed": false,
    "pycharm": {
     "name": "#%%\n"
    }
   }
  },
  {
   "cell_type": "code",
   "execution_count": 36,
   "metadata": {
    "collapsed": true,
    "pycharm": {
     "name": "#%%\n"
    }
   },
   "outputs": [],
   "source": [
    "%matplotlib inline\n",
    "import matplotlib.pyplot as plt\n",
    "plt.style.use('seaborn-white')\n",
    "import autograd.numpy as anp   # Thinly-wrapped version of Numpy\n",
    "from autograd import grad, elementwise_grad as egrad\n",
    "from sklearn.model_selection import train_test_split\n",
    "from mpl_toolkits import mplot3d\n",
    "import scipy\n",
    "from notebooks.variable_selection.util import *"
   ]
  },
  {
   "cell_type": "code",
   "execution_count": 26,
   "outputs": [],
   "source": [
    "def Rosenbrock(X, a=1, b=100):\n",
    "    return (a + X[0])**2 + b*(X[1] - X[0]**2)**2\n",
    "\n",
    "def Grad_Rosenbrock(x, y):\n",
    "    g1 = -400*x*y + 400*x**3 + 2*x - 2\n",
    "    g2 = 200*y - 200*x**2\n",
    "    return np.array([g1,g2])\n",
    "\n",
    "def Hessian_Rosenbrock(x,y):\n",
    "    h11 = -400*y + 1200*x**2 + 2\n",
    "    h12 = -400 * x\n",
    "    h21 = -400 * x\n",
    "    h22 = 200\n",
    "    return np.array([[h11,h12],[h21,h22]])"
   ],
   "metadata": {
    "collapsed": false,
    "pycharm": {
     "name": "#%%\n"
    }
   }
  },
  {
   "cell_type": "code",
   "execution_count": 17,
   "outputs": [
    {
     "name": "stdout",
     "output_type": "stream",
     "text": [
      "[0.91654302 0.83970004]\n"
     ]
    }
   ],
   "source": [
    "\n",
    "def Gradient_Descent(Grad, x, y, gamma = 0.00125, epsilon=0.0001, max_iter=10000):\n",
    "    # Initialization\n",
    "    i = 0\n",
    "    iter_x, iter_y, iter_count = np.empty(0), np.empty(0), np.empty(0)\n",
    "    error = 10\n",
    "    X = np.array([x, y])\n",
    "\n",
    "       #Looping as long as error is greater than epsilon\n",
    "    while np.linalg.norm(error) > epsilon and i < max_iter:\n",
    "        i +=1\n",
    "        iter_x = np.append(iter_x,x)\n",
    "        iter_y = np.append(iter_y,y)\n",
    "        iter_count = np.append(iter_count ,i)\n",
    "        #print(X)\n",
    "\n",
    "        X_prev = X\n",
    "        X = X - gamma * Grad(x,y)\n",
    "        error = X - X_prev\n",
    "        x,y = X[0], X[1]\n",
    "\n",
    "    print(X)\n",
    "    return X, iter_x,iter_y, iter_count\n",
    "\n",
    "\n",
    "root,iter_x,iter_y, iter_count = Gradient_Descent(Grad_Rosenbrock,-2,2)"
   ],
   "metadata": {
    "collapsed": false,
    "pycharm": {
     "name": "#%%\n"
    }
   }
  },
  {
   "cell_type": "code",
   "execution_count": 21,
   "outputs": [],
   "source": [
    "\n",
    "def sigmoid(z):\n",
    "  # z = z.astyp(float)\n",
    "  return 1/(1 + anp.exp(-z))\n",
    "\n",
    "def quad_form(b, X, A):\n",
    "    f = sigmoid(X @ b)\n",
    "    return anp.dot(anp.dot(f.T, A), f)\n",
    "\n",
    "def objective_log_loss_l1(b, X, y, L, l1, l2):\n",
    "    # f = anp.dot(X, b)\n",
    "    f = X @ b\n",
    "    # f = f.astype(float)\n",
    "    m = X.shape[0]\n",
    "    log_ll = anp.sum((y*f) - anp.log(1 + anp.exp(f))) / m\n",
    "    return -log_ll + l1 * anp.sum(anp.abs(b)) \\\n",
    "                + l2 * quad_form(b, X, L)"
   ],
   "metadata": {
    "collapsed": false,
    "pycharm": {
     "name": "#%%\n"
    }
   }
  },
  {
   "cell_type": "code",
   "execution_count": 76,
   "outputs": [],
   "source": [
    "assoc_mat = get_assoc_mat(200, 10)\n",
    "X, beta, y_log = generate_log_data(200, 10, tf_on=4, val_tf=[5, 5, 5, 5], n=100)\n",
    "X_train, X_test, y_train, y_test = train_test_split(X, y_log, test_size=0.5, stratify=y_log, random_state=42)\n",
    "prec = get_emp_covariance(X_train, assoc_mat)\n",
    "L = get_laplacian_mat(X_train, X_train, prec, 1000, norm=True)"
   ],
   "metadata": {
    "collapsed": false,
    "pycharm": {
     "name": "#%%\n"
    }
   }
  },
  {
   "cell_type": "code",
   "execution_count": 77,
   "outputs": [
    {
     "data": {
      "text/plain": "array([[ 1.        , -0.02040816, -0.02040817, ..., -0.02040817,\n        -0.02040816, -0.02040817],\n       [-0.02040816,  1.        , -0.02040816, ..., -0.02040816,\n        -0.02040817, -0.02040817],\n       [-0.02040817, -0.02040816,  1.        , ..., -0.02040816,\n        -0.02040817, -0.02040817],\n       ...,\n       [-0.02040817, -0.02040816, -0.02040816, ...,  1.        ,\n        -0.02040817, -0.02040815],\n       [-0.02040816, -0.02040817, -0.02040817, ..., -0.02040817,\n         1.        , -0.02040816],\n       [-0.02040817, -0.02040817, -0.02040817, ..., -0.02040815,\n        -0.02040816,  1.        ]])"
     },
     "execution_count": 77,
     "metadata": {},
     "output_type": "execute_result"
    }
   ],
   "source": [
    "L"
   ],
   "metadata": {
    "collapsed": false,
    "pycharm": {
     "name": "#%%\n"
    }
   }
  },
  {
   "cell_type": "code",
   "execution_count": 78,
   "outputs": [],
   "source": [
    "beta_t = np.random.rand(beta.shape[0])"
   ],
   "metadata": {
    "collapsed": false,
    "pycharm": {
     "name": "#%%\n"
    }
   }
  },
  {
   "cell_type": "code",
   "execution_count": 79,
   "outputs": [
    {
     "data": {
      "text/plain": "array([-0.16451609, -0.14314487, -0.09203157, ...,  0.04248201,\n        0.10604212,  0.03493956])"
     },
     "execution_count": 79,
     "metadata": {},
     "output_type": "execute_result"
    }
   ],
   "source": [
    "grad_loss = egrad(objective_log_loss_l1)\n",
    "grad_loss(beta_t, X_train, y_train, L, 0.01, 0.00001)"
   ],
   "metadata": {
    "collapsed": false,
    "pycharm": {
     "name": "#%%\n"
    }
   }
  },
  {
   "cell_type": "code",
   "execution_count": 80,
   "outputs": [],
   "source": [
    "beta = scipy.optimize.fmin_l_bfgs_b(objective_log_loss_l1, x0=beta_t, fprime=grad_loss,\n",
    "                                                            args=(X_train, y_train, L, 0.01, 0.00001), maxiter=1000)[0]"
   ],
   "metadata": {
    "collapsed": false,
    "pycharm": {
     "name": "#%%\n"
    }
   }
  },
  {
   "cell_type": "code",
   "execution_count": 81,
   "outputs": [
    {
     "data": {
      "text/plain": "(0.03284373425534282, 1.6901630222692177, 805.0418865327513)"
     },
     "execution_count": 81,
     "metadata": {},
     "output_type": "execute_result"
    }
   ],
   "source": [
    "get_penalty_comp_log(X_train, y_train, beta, L)"
   ],
   "metadata": {
    "collapsed": false,
    "pycharm": {
     "name": "#%%\n"
    }
   }
  },
  {
   "cell_type": "code",
   "execution_count": 82,
   "outputs": [
    {
     "data": {
      "text/plain": "(0.5251389197741428, 1.6901630222692177, 326.88968562975504)"
     },
     "execution_count": 82,
     "metadata": {},
     "output_type": "execute_result"
    }
   ],
   "source": [
    "get_penalty_comp_log(X_test, y_test, beta, L)"
   ],
   "metadata": {
    "collapsed": false,
    "pycharm": {
     "name": "#%%\n"
    }
   }
  },
  {
   "cell_type": "code",
   "execution_count": 49,
   "outputs": [
    {
     "data": {
      "text/plain": "array([ 3.80013347e-02,  2.61468250e-02,  9.54422742e-03, ...,\n       -2.28363402e-06, -2.22346455e-07, -1.29970879e-05])"
     },
     "execution_count": 49,
     "metadata": {},
     "output_type": "execute_result"
    }
   ],
   "source": [
    "beta"
   ],
   "metadata": {
    "collapsed": false,
    "pycharm": {
     "name": "#%%\n"
    }
   }
  }
 ],
 "metadata": {
  "kernelspec": {
   "display_name": "Python 3",
   "language": "python",
   "name": "python3"
  },
  "language_info": {
   "codemirror_mode": {
    "name": "ipython",
    "version": 2
   },
   "file_extension": ".py",
   "mimetype": "text/x-python",
   "name": "python",
   "nbconvert_exporter": "python",
   "pygments_lexer": "ipython2",
   "version": "2.7.6"
  }
 },
 "nbformat": 4,
 "nbformat_minor": 0
}