{
 "nbformat": 4,
 "nbformat_minor": 0,
 "metadata": {
  "colab": {
   "provenance": []
  },
  "kernelspec": {
   "name": "python3",
   "display_name": "Python 3"
  },
  "language_info": {
   "name": "python"
  },
  "accelerator": "GPU",
  "gpuClass": "standard"
 },
 "cells": [
  {
   "cell_type": "code",
   "execution_count": 1,
   "metadata": {
    "id": "0C0j-04g7FWS",
    "pycharm": {
     "name": "#%%\n"
    }
   },
   "outputs": [
    {
     "name": "stdout",
     "output_type": "stream",
     "text": [
      "Looking in links: https://storage.googleapis.com/jax-releases/jax_cuda_releases.html\r\n",
      "Collecting jaxlib[cuda112]==0.3.15\r\n",
      "  Downloading https://storage.googleapis.com/jax-releases/cuda11/jaxlib-0.3.15%2Bcuda11.cudnn82-cp39-none-manylinux2014_x86_64.whl (162.7 MB)\r\n",
      "\u001B[2K     \u001B[90m━━━━━━━━━━━━━━━━━━━━━━━━━━━━━━━━━━━━━━\u001B[0m \u001B[32m162.7/162.7 MB\u001B[0m \u001B[31m12.0 MB/s\u001B[0m eta \u001B[36m0:00:00\u001B[0m00:01\u001B[0m00:01\u001B[0m\r\n",
      "\u001B[?25h\u001B[33mWARNING: jaxlib 0.3.15+cuda11.cudnn82 does not provide the extra 'cuda112'\u001B[0m\u001B[33m\r\n",
      "\u001B[0mRequirement already satisfied: absl-py in /usr/local/lib/python3.9/dist-packages (from jaxlib[cuda112]==0.3.15) (1.1.0)\r\n",
      "Requirement already satisfied: numpy>=1.19 in /usr/local/lib/python3.9/dist-packages (from jaxlib[cuda112]==0.3.15) (1.23.1)\r\n",
      "Requirement already satisfied: scipy>=1.5 in /usr/local/lib/python3.9/dist-packages (from jaxlib[cuda112]==0.3.15) (1.8.1)\r\n",
      "Installing collected packages: jaxlib\r\n",
      "  Attempting uninstall: jaxlib\r\n",
      "    Found existing installation: jaxlib 0.3.8+cuda11.cudnn82\r\n",
      "    Uninstalling jaxlib-0.3.8+cuda11.cudnn82:\r\n",
      "      Successfully uninstalled jaxlib-0.3.8+cuda11.cudnn82\r\n",
      "Successfully installed jaxlib-0.3.15+cuda11.cudnn82\r\n",
      "\u001B[33mWARNING: Running pip as the 'root' user can result in broken permissions and conflicting behaviour with the system package manager. It is recommended to use a virtual environment instead: https://pip.pypa.io/warnings/venv\u001B[0m\u001B[33m\r\n",
      "\u001B[0mLooking in links: https://storage.googleapis.com/jax-releases/jax_cuda_releases.html\r\n",
      "Collecting jax[cuda112]==0.3.17\r\n",
      "  Downloading jax-0.3.17.tar.gz (1.1 MB)\r\n",
      "\u001B[2K     \u001B[90m━━━━━━━━━━━━━━━━━━━━━━━━━━━━━━━━━━━━━━━━\u001B[0m \u001B[32m1.1/1.1 MB\u001B[0m \u001B[31m66.7 MB/s\u001B[0m eta \u001B[36m0:00:00\u001B[0m\r\n",
      "\u001B[?25h  Preparing metadata (setup.py) ... \u001B[?25ldone\r\n",
      "\u001B[33mWARNING: jax 0.3.17 does not provide the extra 'cuda112'\u001B[0m\u001B[33m\r\n",
      "\u001B[0m\u001B[?25hRequirement already satisfied: absl-py in /usr/local/lib/python3.9/dist-packages (from jax[cuda112]==0.3.17) (1.1.0)\r\n",
      "Requirement already satisfied: numpy>=1.20 in /usr/local/lib/python3.9/dist-packages (from jax[cuda112]==0.3.17) (1.23.1)\r\n",
      "Requirement already satisfied: opt_einsum in /usr/local/lib/python3.9/dist-packages (from jax[cuda112]==0.3.17) (3.3.0)\r\n",
      "Requirement already satisfied: scipy>=1.5 in /usr/local/lib/python3.9/dist-packages (from jax[cuda112]==0.3.17) (1.8.1)\r\n",
      "Requirement already satisfied: typing_extensions in /usr/local/lib/python3.9/dist-packages (from jax[cuda112]==0.3.17) (4.3.0)\r\n",
      "Requirement already satisfied: etils[epath] in /usr/local/lib/python3.9/dist-packages (from jax[cuda112]==0.3.17) (0.6.0)\r\n",
      "Requirement already satisfied: zipp in /usr/local/lib/python3.9/dist-packages (from etils[epath]->jax[cuda112]==0.3.17) (3.8.1)\r\n",
      "Requirement already satisfied: importlib_resources in /usr/local/lib/python3.9/dist-packages (from etils[epath]->jax[cuda112]==0.3.17) (5.8.0)\r\n",
      "Building wheels for collected packages: jax\r\n",
      "  Building wheel for jax (setup.py) ... \u001B[?25ldone\r\n",
      "\u001B[?25h  Created wheel for jax: filename=jax-0.3.17-py3-none-any.whl size=1217849 sha256=91e186b43739d9ed07c6336d0041933c19eca32ac1dcca375b2cd4de5611ad2f\r\n",
      "  Stored in directory: /root/.cache/pip/wheels/36/cd/88/2d90379f7549c27d5654e893f74210f30f0c645c23a71e6f56\r\n",
      "Successfully built jax\r\n",
      "Installing collected packages: jax\r\n",
      "  Attempting uninstall: jax\r\n",
      "    Found existing installation: jax 0.3.14\r\n",
      "    Uninstalling jax-0.3.14:\r\n",
      "      Successfully uninstalled jax-0.3.14\r\n",
      "Successfully installed jax-0.3.17\r\n",
      "\u001B[33mWARNING: Running pip as the 'root' user can result in broken permissions and conflicting behaviour with the system package manager. It is recommended to use a virtual environment instead: https://pip.pypa.io/warnings/venv\u001B[0m\u001B[33m\r\n",
      "\u001B[0mCollecting optax\r\n",
      "  Downloading optax-0.1.4-py3-none-any.whl (154 kB)\r\n",
      "\u001B[2K     \u001B[90m━━━━━━━━━━━━━━━━━━━━━━━━━━━━━━━━━━━━━━\u001B[0m \u001B[32m154.9/154.9 kB\u001B[0m \u001B[31m24.9 MB/s\u001B[0m eta \u001B[36m0:00:00\u001B[0m\r\n",
      "\u001B[?25hRequirement already satisfied: jax>=0.1.55 in /usr/local/lib/python3.9/dist-packages (from optax) (0.3.17)\r\n",
      "Requirement already satisfied: typing-extensions>=3.10.0 in /usr/local/lib/python3.9/dist-packages (from optax) (4.3.0)\r\n",
      "Requirement already satisfied: jaxlib>=0.1.37 in /usr/local/lib/python3.9/dist-packages (from optax) (0.3.15+cuda11.cudnn82)\r\n",
      "Requirement already satisfied: absl-py>=0.7.1 in /usr/local/lib/python3.9/dist-packages (from optax) (1.1.0)\r\n",
      "Collecting chex>=0.1.5\r\n",
      "  Downloading chex-0.1.5-py3-none-any.whl (85 kB)\r\n",
      "\u001B[2K     \u001B[90m━━━━━━━━━━━━━━━━━━━━━━━━━━━━━━━━━━━━━━━━\u001B[0m \u001B[32m85.3/85.3 kB\u001B[0m \u001B[31m22.8 MB/s\u001B[0m eta \u001B[36m0:00:00\u001B[0m\r\n",
      "\u001B[?25hRequirement already satisfied: numpy>=1.18.0 in /usr/local/lib/python3.9/dist-packages (from optax) (1.23.1)\r\n",
      "Collecting toolz>=0.9.0\r\n",
      "  Downloading toolz-0.12.0-py3-none-any.whl (55 kB)\r\n",
      "\u001B[2K     \u001B[90m━━━━━━━━━━━━━━━━━━━━━━━━━━━━━━━━━━━━━━━━\u001B[0m \u001B[32m55.8/55.8 kB\u001B[0m \u001B[31m15.7 MB/s\u001B[0m eta \u001B[36m0:00:00\u001B[0m\r\n",
      "\u001B[?25hCollecting dm-tree>=0.1.5\r\n",
      "  Downloading dm_tree-0.1.8-cp39-cp39-manylinux_2_17_x86_64.manylinux2014_x86_64.whl (153 kB)\r\n",
      "\u001B[2K     \u001B[90m━━━━━━━━━━━━━━━━━━━━━━━━━━━━━━━━━━━━━━\u001B[0m \u001B[32m153.0/153.0 kB\u001B[0m \u001B[31m38.8 MB/s\u001B[0m eta \u001B[36m0:00:00\u001B[0m\r\n",
      "\u001B[?25hRequirement already satisfied: etils[epath] in /usr/local/lib/python3.9/dist-packages (from jax>=0.1.55->optax) (0.6.0)\r\n",
      "Requirement already satisfied: opt-einsum in /usr/local/lib/python3.9/dist-packages (from jax>=0.1.55->optax) (3.3.0)\r\n",
      "Requirement already satisfied: scipy>=1.5 in /usr/local/lib/python3.9/dist-packages (from jax>=0.1.55->optax) (1.8.1)\r\n",
      "Requirement already satisfied: zipp in /usr/local/lib/python3.9/dist-packages (from etils[epath]->jax>=0.1.55->optax) (3.8.1)\r\n",
      "Requirement already satisfied: importlib_resources in /usr/local/lib/python3.9/dist-packages (from etils[epath]->jax>=0.1.55->optax) (5.8.0)\r\n",
      "Installing collected packages: dm-tree, toolz, chex, optax\r\n",
      "Successfully installed chex-0.1.5 dm-tree-0.1.8 optax-0.1.4 toolz-0.12.0\r\n",
      "\u001B[33mWARNING: Running pip as the 'root' user can result in broken permissions and conflicting behaviour with the system package manager. It is recommended to use a virtual environment instead: https://pip.pypa.io/warnings/venv\u001B[0m\u001B[33m\r\n",
      "\u001B[0mCollecting optuna\r\n",
      "  Downloading optuna-3.0.5-py3-none-any.whl (348 kB)\r\n",
      "\u001B[2K     \u001B[90m━━━━━━━━━━━━━━━━━━━━━━━━━━━━━━━━━━━━━━\u001B[0m \u001B[32m348.5/348.5 kB\u001B[0m \u001B[31m14.6 MB/s\u001B[0m eta \u001B[36m0:00:00\u001B[0m\r\n",
      "\u001B[?25hCollecting cmaes>=0.8.2\r\n",
      "  Downloading cmaes-0.9.1-py3-none-any.whl (21 kB)\r\n",
      "Collecting colorlog\r\n",
      "  Downloading colorlog-6.7.0-py2.py3-none-any.whl (11 kB)\r\n",
      "Requirement already satisfied: tqdm in /usr/local/lib/python3.9/dist-packages (from optuna) (4.64.0)\r\n",
      "Collecting cliff\r\n",
      "  Downloading cliff-4.1.0-py3-none-any.whl (81 kB)\r\n",
      "\u001B[2K     \u001B[90m━━━━━━━━━━━━━━━━━━━━━━━━━━━━━━━━━━━━━━━━\u001B[0m \u001B[32m81.0/81.0 kB\u001B[0m \u001B[31m25.0 MB/s\u001B[0m eta \u001B[36m0:00:00\u001B[0m\r\n",
      "\u001B[?25hRequirement already satisfied: scipy<1.9.0,>=1.7.0 in /usr/local/lib/python3.9/dist-packages (from optuna) (1.8.1)\r\n",
      "Requirement already satisfied: sqlalchemy>=1.3.0 in /usr/local/lib/python3.9/dist-packages (from optuna) (1.4.39)\r\n",
      "Requirement already satisfied: packaging>=20.0 in /usr/local/lib/python3.9/dist-packages (from optuna) (21.3)\r\n",
      "Requirement already satisfied: numpy in /usr/local/lib/python3.9/dist-packages (from optuna) (1.23.1)\r\n",
      "Requirement already satisfied: importlib-metadata<5.0.0 in /usr/local/lib/python3.9/dist-packages (from optuna) (4.12.0)\r\n",
      "Collecting alembic>=1.5.0\r\n",
      "  Downloading alembic-1.9.1-py3-none-any.whl (210 kB)\r\n",
      "\u001B[2K     \u001B[90m━━━━━━━━━━━━━━━━━━━━━━━━━━━━━━━━━━━━━━\u001B[0m \u001B[32m210.4/210.4 kB\u001B[0m \u001B[31m48.6 MB/s\u001B[0m eta \u001B[36m0:00:00\u001B[0m\r\n",
      "\u001B[?25hRequirement already satisfied: PyYAML in /usr/local/lib/python3.9/dist-packages (from optuna) (5.4.1)\r\n",
      "Collecting Mako\r\n",
      "  Downloading Mako-1.2.4-py3-none-any.whl (78 kB)\r\n",
      "\u001B[2K     \u001B[90m━━━━━━━━━━━━━━━━━━━━━━━━━━━━━━━━━━━━━━━━\u001B[0m \u001B[32m78.7/78.7 kB\u001B[0m \u001B[31m25.0 MB/s\u001B[0m eta \u001B[36m0:00:00\u001B[0m\r\n",
      "\u001B[?25hRequirement already satisfied: zipp>=0.5 in /usr/local/lib/python3.9/dist-packages (from importlib-metadata<5.0.0->optuna) (3.8.1)\r\n",
      "Requirement already satisfied: pyparsing!=3.0.5,>=2.0.2 in /usr/local/lib/python3.9/dist-packages (from packaging>=20.0->optuna) (3.0.9)\r\n",
      "Requirement already satisfied: greenlet!=0.4.17 in /usr/local/lib/python3.9/dist-packages (from sqlalchemy>=1.3.0->optuna) (1.1.2)\r\n",
      "Collecting PrettyTable>=0.7.2\r\n",
      "  Downloading prettytable-3.6.0-py3-none-any.whl (27 kB)\r\n",
      "Collecting cmd2>=1.0.0\r\n",
      "  Downloading cmd2-2.4.2-py3-none-any.whl (147 kB)\r\n",
      "\u001B[2K     \u001B[90m━━━━━━━━━━━━━━━━━━━━━━━━━━━━━━━━━━━━━━\u001B[0m \u001B[32m147.1/147.1 kB\u001B[0m \u001B[31m38.3 MB/s\u001B[0m eta \u001B[36m0:00:00\u001B[0m\r\n",
      "\u001B[?25hCollecting autopage>=0.4.0\r\n",
      "  Downloading autopage-0.5.1-py3-none-any.whl (29 kB)\r\n",
      "Collecting stevedore>=2.0.1\r\n",
      "  Downloading stevedore-4.1.1-py3-none-any.whl (50 kB)\r\n",
      "\u001B[2K     \u001B[90m━━━━━━━━━━━━━━━━━━━━━━━━━━━━━━━━━━━━━━━━\u001B[0m \u001B[32m50.0/50.0 kB\u001B[0m \u001B[31m15.0 MB/s\u001B[0m eta \u001B[36m0:00:00\u001B[0m\r\n",
      "\u001B[?25hCollecting pyperclip>=1.6\r\n",
      "  Downloading pyperclip-1.8.2.tar.gz (20 kB)\r\n",
      "  Preparing metadata (setup.py) ... \u001B[?25ldone\r\n",
      "\u001B[?25hRequirement already satisfied: wcwidth>=0.1.7 in /usr/local/lib/python3.9/dist-packages (from cmd2>=1.0.0->cliff->optuna) (0.2.5)\r\n",
      "Requirement already satisfied: attrs>=16.3.0 in /usr/local/lib/python3.9/dist-packages (from cmd2>=1.0.0->cliff->optuna) (18.2.0)\r\n",
      "Collecting pbr!=2.1.0,>=2.0.0\r\n",
      "  Downloading pbr-5.11.0-py2.py3-none-any.whl (112 kB)\r\n",
      "\u001B[2K     \u001B[90m━━━━━━━━━━━━━━━━━━━━━━━━━━━━━━━━━━━━━━\u001B[0m \u001B[32m112.6/112.6 kB\u001B[0m \u001B[31m31.9 MB/s\u001B[0m eta \u001B[36m0:00:00\u001B[0m\r\n",
      "\u001B[?25hRequirement already satisfied: MarkupSafe>=0.9.2 in /usr/local/lib/python3.9/dist-packages (from Mako->alembic>=1.5.0->optuna) (2.1.1)\r\n",
      "Building wheels for collected packages: pyperclip\r\n",
      "  Building wheel for pyperclip (setup.py) ... \u001B[?25ldone\r\n",
      "\u001B[?25h  Created wheel for pyperclip: filename=pyperclip-1.8.2-py3-none-any.whl size=11125 sha256=379166a317546ec45abcf36d961bfe9205a6358ad93fdb61218c64bbe3d26b08\r\n",
      "  Stored in directory: /root/.cache/pip/wheels/0c/09/9e/49e21a6840ef7955b06d47394afef0058f0378c0914e48b8b8\r\n",
      "Successfully built pyperclip\r\n",
      "Installing collected packages: pyperclip, PrettyTable, pbr, Mako, colorlog, cmd2, cmaes, autopage, stevedore, alembic, cliff, optuna\r\n",
      "Successfully installed Mako-1.2.4 PrettyTable-3.6.0 alembic-1.9.1 autopage-0.5.1 cliff-4.1.0 cmaes-0.9.1 cmd2-2.4.2 colorlog-6.7.0 optuna-3.0.5 pbr-5.11.0 pyperclip-1.8.2 stevedore-4.1.1\r\n",
      "\u001B[33mWARNING: Running pip as the 'root' user can result in broken permissions and conflicting behaviour with the system package manager. It is recommended to use a virtual environment instead: https://pip.pypa.io/warnings/venv\u001B[0m\u001B[33m\r\n",
      "\u001B[0mCollecting dm-haiku\r\n",
      "  Downloading dm_haiku-0.0.9-py3-none-any.whl (352 kB)\r\n",
      "\u001B[2K     \u001B[90m━━━━━━━━━━━━━━━━━━━━━━━━━━━━━━━━━━━━━━\u001B[0m \u001B[32m352.1/352.1 kB\u001B[0m \u001B[31m31.6 MB/s\u001B[0m eta \u001B[36m0:00:00\u001B[0m\r\n",
      "\u001B[?25hRequirement already satisfied: numpy>=1.18.0 in /usr/local/lib/python3.9/dist-packages (from dm-haiku) (1.23.1)\r\n",
      "Collecting tabulate>=0.8.9\r\n",
      "  Downloading tabulate-0.9.0-py3-none-any.whl (35 kB)\r\n",
      "Collecting jmp>=0.0.2\r\n",
      "  Downloading jmp-0.0.2-py3-none-any.whl (16 kB)\r\n",
      "Requirement already satisfied: absl-py>=0.7.1 in /usr/local/lib/python3.9/dist-packages (from dm-haiku) (1.1.0)\r\n",
      "Installing collected packages: tabulate, jmp, dm-haiku\r\n",
      "Successfully installed dm-haiku-0.0.9 jmp-0.0.2 tabulate-0.9.0\r\n",
      "\u001B[33mWARNING: Running pip as the 'root' user can result in broken permissions and conflicting behaviour with the system package manager. It is recommended to use a virtual environment instead: https://pip.pypa.io/warnings/venv\u001B[0m\u001B[33m\r\n",
      "\u001B[0mCollecting tensorflow-probability==0.17\r\n",
      "  Downloading tensorflow_probability-0.17.0-py2.py3-none-any.whl (6.5 MB)\r\n",
      "\u001B[2K     \u001B[90m━━━━━━━━━━━━━━━━━━━━━━━━━━━━━━━━━━━━━━━━\u001B[0m \u001B[32m6.5/6.5 MB\u001B[0m \u001B[31m69.7 MB/s\u001B[0m eta \u001B[36m0:00:00\u001B[0m:00:01\u001B[0m0:01\u001B[0m\r\n",
      "\u001B[?25hRequirement already satisfied: dm-tree in /usr/local/lib/python3.9/dist-packages (from tensorflow-probability==0.17) (0.1.8)\r\n",
      "Requirement already satisfied: numpy>=1.13.3 in /usr/local/lib/python3.9/dist-packages (from tensorflow-probability==0.17) (1.23.1)\r\n",
      "Requirement already satisfied: absl-py in /usr/local/lib/python3.9/dist-packages (from tensorflow-probability==0.17) (1.1.0)\r\n",
      "Requirement already satisfied: cloudpickle>=1.3 in /usr/local/lib/python3.9/dist-packages (from tensorflow-probability==0.17) (2.1.0)\r\n",
      "Requirement already satisfied: six>=1.10.0 in /usr/lib/python3/dist-packages (from tensorflow-probability==0.17) (1.14.0)\r\n",
      "Requirement already satisfied: gast>=0.3.2 in /usr/local/lib/python3.9/dist-packages (from tensorflow-probability==0.17) (0.4.0)\r\n",
      "Requirement already satisfied: decorator in /usr/local/lib/python3.9/dist-packages (from tensorflow-probability==0.17) (5.1.1)\r\n",
      "Installing collected packages: tensorflow-probability\r\n",
      "Successfully installed tensorflow-probability-0.17.0\r\n",
      "\u001B[33mWARNING: Running pip as the 'root' user can result in broken permissions and conflicting behaviour with the system package manager. It is recommended to use a virtual environment instead: https://pip.pypa.io/warnings/venv\u001B[0m\u001B[33m\r\n",
      "\u001B[0m"
     ]
    }
   ],
   "source": [
    "!pip install -U jaxlib[cuda112]==0.3.15 -f https://storage.googleapis.com/jax-releases/jax_cuda_releases.html\n",
    "!pip install -U jax[cuda112]==0.3.17 -f https://storage.googleapis.com/jax-releases/jax_cuda_releases.html\n",
    "!pip install optax\n",
    "!pip install optuna\n",
    "!pip install dm-haiku\n",
    "!pip install tensorflow-probability==0.17"
   ]
  },
  {
   "cell_type": "code",
   "source": [
    "import os\n",
    "os.environ[\"XLA_PYTHON_CLIENT_PREALLOCATE\"] = \"False\"\n",
    "os.environ[\"XLA_PYTHON_CLIENT_ALLOCATOR\"] = \"platform\"\n",
    "SERVER = 1\n",
    "\n",
    "if not SERVER:\n",
    "    %cd /home/xabush/code/snet/moses-incons-pen-xp/notebooks/variable_selection/cancer/nn\n",
    "\n",
    "else:\n",
    "    %cd /home/abdu/bio_ai/moses-incons-pen-xp/notebooks/variable_selection/cancer/nn\n",
    "\n",
    "import pandas as pd\n",
    "import matplotlib.pyplot as plt\n",
    "import tensorflow_probability.substrates.jax as tfp\n",
    "from sklearn.model_selection import train_test_split, cross_val_score, StratifiedKFold, KFold, GridSearchCV\n",
    "from sklearn.preprocessing import StandardScaler\n",
    "tfd = tfp.distributions\n",
    "import jax\n",
    "from jax import random\n",
    "import haiku as hk\n",
    "import numpy as np\n",
    "import optax\n",
    "from nn_util import *\n",
    "from optim_util import *\n",
    "from bnn_models import *\n",
    "from train_utils import *\n",
    "from data_utils import *\n",
    "from hpo_util import *\n",
    "from exp_utils import *\n",
    "plt.style.use('ggplot')\n",
    "%load_ext autoreload"
   ],
   "metadata": {
    "id": "PjXBcCX47Q3Y",
    "pycharm": {
     "name": "#%%\n"
    }
   },
   "execution_count": 1,
   "outputs": [
    {
     "name": "stdout",
     "output_type": "stream",
     "text": [
      "/home/abdu/bio_ai/moses-incons-pen-xp/notebooks/variable_selection/cancer/nn\n"
     ]
    }
   ]
  },
  {
   "cell_type": "code",
   "execution_count": 2,
   "outputs": [],
   "source": [
    "if SERVER:\n",
    "    data_dir = \"/home/abdu/bio_ai/moses-incons-pen-xp/data\"\n",
    "else:\n",
    "    data_dir = \"/home/xabush/code/snet/moses-incons-pen-xp/data\""
   ],
   "metadata": {
    "collapsed": false,
    "pycharm": {
     "name": "#%%\n"
    }
   }
  },
  {
   "cell_type": "code",
   "source": [
    "N = 600\n",
    "P = 500\n",
    "\n",
    "def func_v1(key, x):\n",
    "    _, subkey = random.split(key, 2)\n",
    "    noise = random.normal(subkey, shape=(N,))\n",
    "    t1 = jnp.max(x[:,[0, 1]], axis=1)\n",
    "    t2 = jnp.max(x[:,[2, 3, 4]], axis=1)\n",
    "    y = (((10*jnp.sin(t1) + (t2**3)) / (1 + (x[:,0] + x[:,4])**2)) +\n",
    "         jnp.sin(0.5*x[:,2])*(1 + jnp.exp(x[:,3] - 0.5*x[:,2])) + x[:,2]**2 + 2*jnp.sin(x[:,3]) + 2*x[:,4]) + noise\n",
    "\n",
    "    return y\n",
    "\n",
    "def generate_dataset_v1(seed):\n",
    "    rng_key = random.PRNGKey(seed)\n",
    "    key1, key2 = random.split(rng_key, 2)\n",
    "    e = random.normal(key1, shape=(N,))\n",
    "    z = random.normal(key2, shape=(N, P))\n",
    "    dataset = jax.vmap(lambda a, b: 0.5*(a + b), in_axes=(None, 1), out_axes=1)(e, z)\n",
    "    # dataset = 0.5*(e + z)\n",
    "    output = func_v1(key1, dataset)\n",
    "\n",
    "    return dataset, output"
   ],
   "metadata": {
    "id": "uLlTs_w97hxI",
    "colab": {
     "base_uri": "https://localhost:8080/"
    },
    "outputId": "f845cb24-4e50-45c8-c88d-d8ebc29438f3",
    "pycharm": {
     "name": "#%%\n"
    }
   },
   "execution_count": 39,
   "outputs": []
  },
  {
   "cell_type": "code",
   "execution_count": 108,
   "outputs": [],
   "source": [
    "%autoreload\n",
    "seed = 220\n",
    "dataset, output = generate_dataset_v1(seed)\n",
    "X_train_outer, X_train, X_val, X_test, \\\n",
    "y_train_outer, y_train, y_val, y_test, (train_indices, val_indices) = preprocess_data(seed, pd.DataFrame(dataset), pd.Series(output),\n",
    "                                                           val_size=0.2, test_size=0.2, reset_index=True)"
   ],
   "metadata": {
    "collapsed": false,
    "pycharm": {
     "name": "#%%\n"
    }
   }
  },
  {
   "cell_type": "code",
   "source": [
    "J_zeros = np.zeros((P, P))"
   ],
   "metadata": {
    "colab": {
     "base_uri": "https://localhost:8080/"
    },
    "id": "YopdN3ToA2MI",
    "outputId": "75a812f5-96ae-4e82-e4b3-9f1b1a22134c",
    "pycharm": {
     "name": "#%%\n"
    }
   },
   "execution_count": 164,
   "outputs": []
  },
  {
   "cell_type": "code",
   "execution_count": 75,
   "outputs": [],
   "source": [
    "import pandas as pd\n",
    "from sklearn.ensemble import RandomForestRegressor\n",
    "from sklearn.model_selection import GridSearchCV, KFold\n",
    "from sklearn.metrics import r2_score\n",
    "from tree_utils import tree_stack\n",
    "\n",
    "def false_selection_rate(ft_idxs):\n",
    "    causal_fts = {0, 1, 2, 3, 4}\n",
    "    sel_fts = set(ft_idxs)\n",
    "    diff = sel_fts.difference(causal_fts)\n",
    "\n",
    "    return (len(diff)/len(ft_idxs))\n",
    "\n",
    "def negative_selection_rate(ft_idxs):\n",
    "    causal_fts = {0, 1, 2, 3, 4}\n",
    "    sel_fts = set(ft_idxs)\n",
    "    diff = causal_fts.difference(sel_fts)\n",
    "\n",
    "    return (len(diff)/len(causal_fts))"
   ],
   "metadata": {
    "collapsed": false,
    "pycharm": {
     "name": "#%%\n"
    }
   }
  },
  {
   "cell_type": "code",
   "execution_count": 268,
   "outputs": [
    {
     "name": "stderr",
     "output_type": "stream",
     "text": [
      "100%|█████████████████████████████████████████████████████████████████████████████████| 200/200 [00:08<00:00, 23.17it/s]\n"
     ]
    },
    {
     "name": "stdout",
     "output_type": "stream",
     "text": [
      "Test RMSE: 2.510540008544922, r2_score: 0.7551984421164948\n"
     ]
    }
   ],
   "source": [
    "%autoreload\n",
    "lr_0, disc_lr_0 = 1e-3, 0.5\n",
    "temp = 1.0\n",
    "epochs, num_cycles = 200, 20\n",
    "eta, mu = 1.0, 100.0\n",
    "outer_data_loader = NumpyLoader(NumpyData(X_train_outer, y_train_outer), batch_size=32, shuffle=True)\n",
    "bnn_model, bnn_states, bnn_disc_states = train_bg_bnn_model(seed, outer_data_loader, epochs, num_cycles,\n",
    "                                                            0.25, 3, lr_0, disc_lr_0, [6], temp, 1.0,\n",
    "                                                            eta, mu, J_zeros, \"relu\")\n",
    "\n",
    "bnn_rmse_test, bnn_r2_test = score_bg_bnn_model(bnn_model, X_test, y_test, bnn_states, bnn_disc_states)\n",
    "print(f\"Test RMSE: {bnn_rmse_test}, r2_score: {bnn_r2_test}\")"
   ],
   "metadata": {
    "collapsed": false,
    "pycharm": {
     "name": "#%%\n"
    }
   }
  },
  {
   "cell_type": "code",
   "execution_count": 77,
   "outputs": [
    {
     "name": "stdout",
     "output_type": "stream",
     "text": [
      "Test RMSE: 2.579409599304199, r2_score: 0.6843800086467683\n"
     ]
    }
   ],
   "source": [
    "rf_model = train_rf_model(seed, X_train_outer, y_train_outer, train_indices, val_indices)\n",
    "rf_rmse, rf_r2 = eval_rf_model(rf_model, X_test, y_test)\n",
    "print(f\"Test RMSE: {rf_rmse}, r2_score: {rf_r2}\")"
   ],
   "metadata": {
    "collapsed": false,
    "pycharm": {
     "name": "#%%\n"
    }
   }
  },
  {
   "cell_type": "code",
   "execution_count": 269,
   "outputs": [
    {
     "data": {
      "text/plain": "array([  1,   3,   2,   0,   4, 159,  81, 237, 146,  94, 359, 335, 447,\n       484,  26, 101, 123,  43, 325, 264,  70, 433, 261,  27, 410, 244,\n       247, 404, 391, 151, 446, 425, 252,  96, 321, 475,  86, 298, 144,\n       226, 193, 161, 434, 187, 361, 451, 132, 152, 300, 403, 289, 178,\n       349,  58, 236,  29, 380, 348, 429,  15, 121, 316, 293, 277, 114,\n        59, 337, 158, 412,  38, 323, 342, 129, 254,  60,  84, 191, 273,\n       494, 291,  87, 170, 183, 398, 400, 219, 141, 419, 357, 213, 110,\n       233, 181, 107,  83, 260, 464, 116, 450, 358, 465, 201,  14, 422,\n       372, 476, 461, 192, 167, 474, 200,  12, 390, 409,  71,  89, 103,\n        64, 369, 150, 438, 432, 395, 145, 142, 366, 420, 384, 302, 459,\n       405, 307,  72, 498, 286, 387,  33,  99, 310, 334, 143, 364, 102,\n       153, 466,  24, 281, 138, 112, 234,  85, 217,  35, 313, 284, 468,\n       397, 206, 350, 127, 214, 297,  61,  95,  49, 118, 228,  63, 492,\n       148, 383,  54, 172, 274, 426,  73, 106, 288, 231, 339, 485, 280,\n       341, 389, 255, 437, 220, 124, 265,  16, 241, 117,  93, 332,  74,\n        30, 362,  40, 256, 242, 176,  31, 470, 368, 292, 282, 463, 115,\n       240, 125, 232, 393, 162,  45, 276, 328, 373, 378, 198, 299, 267,\n       109, 392, 104, 253, 365, 262, 269, 479, 326, 128, 194, 453,  19,\n       203, 495, 327, 402,  47, 322, 309,  98, 421, 441, 317, 204,   9,\n        65, 113, 338, 396, 238, 355, 197, 222,  17, 272, 251, 324,  68,\n       311, 413, 478, 207, 431, 210, 386,  67, 493, 381, 130, 250, 430,\n       305, 394, 230, 496, 456, 134, 374,  50, 100, 388,  32,  41, 171,\n       227, 186, 376, 235, 375,  23, 417, 275,  10, 165, 296, 173, 314,\n       367, 278, 401,   8, 257, 439, 406, 320, 497, 354, 270, 137, 343,\n       179,  92,  97, 243,  39, 168,  52, 491, 166, 488,  13,  28,  34,\n       155, 174, 279,  78, 184, 248, 202, 119, 473,  56, 460, 315, 489,\n        36,   5, 418, 209, 149,  37, 182, 399, 483, 414, 131, 245, 318,\n       195, 136, 382, 371,  90,  62, 105, 285,  18, 224, 259, 120, 379,\n       351, 304, 455, 424, 445, 436, 347,  76, 185, 249, 283, 344, 175,\n       189, 319, 126, 471, 377, 360, 306, 205, 415, 435,  48, 356, 268,\n       246,  25, 212, 312, 199, 218, 295,  20, 215, 190, 290,   6, 160,\n       443,  53, 229, 271, 423, 154, 444, 225, 180, 449, 211, 416,  69,\n       480,  66, 333,  80, 346,  21, 303, 239, 108, 482, 490, 407, 486,\n       469, 331, 448, 457,  51, 363, 169, 164,  42, 352, 223, 122, 472,\n       442, 462,  82,  55, 196, 330, 487, 111,  46, 353, 428, 287, 294,\n        44, 499, 208, 308, 345, 458,  88, 147, 336, 340,  79, 467, 188,\n       477, 156, 427,  11, 263,  22,  77, 411, 266, 452, 408, 454,  91,\n         7, 140, 221, 157, 385, 301, 139, 216, 177, 258,  57, 440, 370,\n       163, 133, 329,  75, 481, 135])"
     },
     "execution_count": 269,
     "metadata": {},
     "output_type": "execute_result"
    }
   ],
   "source": [
    "%autoreload\n",
    "params_bnn = tree_utils.tree_stack(bnn_states)\n",
    "gammas_bnn = tree_utils.tree_stack(bnn_disc_states)\n",
    "igs_bnn = jax.vmap(integrated_gradients, in_axes=(None, None, None, 0, None))(bnn_model, params_bnn, gammas_bnn, X_train_outer, 20).squeeze()\n",
    "igs_sorted_bnn = np.argsort(np.mean(np.abs(igs_bnn), axis=0))[::-1]\n",
    "igs_sorted_bnn"
   ],
   "metadata": {
    "collapsed": false,
    "pycharm": {
     "name": "#%%\n"
    }
   }
  },
  {
   "cell_type": "code",
   "execution_count": 119,
   "outputs": [],
   "source": [
    "save_dir = f\"{data_dir}/exp_data_5/synthetic/exp1_mao\""
   ],
   "metadata": {
    "collapsed": false,
    "pycharm": {
     "name": "#%%\n"
    }
   }
  },
  {
   "cell_type": "code",
   "source": [
    "epochs = 200\n",
    "num_cycles = 20\n",
    "batch_size = 32\n",
    "lr_0 = 1e-3\n",
    "hidden_sizes = [6]\n",
    "sigma = 1.0\n",
    "eta = 1.0\n",
    "mu = 100.0\n",
    "act_fn = \"tanh\"\n",
    "k = dataset.shape[0]\n",
    "\n",
    "dropout_loss_lst = []\n",
    "bnn_fdr = []\n",
    "rf_fdr = []\n",
    "optuna.logging.set_verbosity(optuna.logging.WARNING)\n",
    "\n",
    "res_ft_dict = {\"model\": [], \"rmse\": [], \"r2\": [] , \"fdr\": []}\n",
    "\n",
    "seeds = [422,261,968,282,739,573,220,413,745,775]\n",
    "s = 5 # change this? See Wojats et.al 2020\n",
    "\n",
    "for seed in tqdm(seeds):\n",
    "    dataset, output = generate_dataset_v1(seed)\n",
    "    X_train_outer, X_train, X_val, X_test, \\\n",
    "    y_train_outer, y_train, y_val, y_test, (train_indices, val_indices) = preprocess_data(seed, pd.DataFrame(dataset), pd.Series(output),\n",
    "                                                                                          val_size=0.2, test_size=0.2, reset_index=True)\n",
    "    outer_data_loader = NumpyLoader(NumpyData(X_train_outer, y_train_outer), batch_size=32, shuffle=True)\n",
    "    bnn_model, bnn_states, bnn_disc_states = train_bg_bnn_model(seed, outer_data_loader, epochs, num_cycles,\n",
    "                                                                0.25, 3, lr_0, disc_lr_0, [6], temp, 1.0,\n",
    "                                                                eta, mu, J, \"tanh\", show_pgbar=False)\n",
    "\n",
    "    bnn_rmse_test, bnn_r2_test = score_bg_bnn_model(bnn_model, X_test, y_test, bnn_states, bnn_disc_states)\n",
    "    params_bnn = tree_utils.tree_stack(bnn_states)\n",
    "    gammas_bnn = tree_utils.tree_stack(bnn_disc_states)\n",
    "    igs_bnn = jax.vmap(integrated_gradients, in_axes=(None, None, None, 0, None))(bnn_model, params_bnn, gammas_bnn, X_train_outer, 20).squeeze()\n",
    "    igs_sorted_bnn = np.argsort(np.mean(np.abs(igs_bnn), axis=0))[::-1]\n",
    "    bnn_fdr = false_selection_rate(igs_sorted_bnn[:s])\n",
    "\n",
    "    rf_model = train_rf_model(seed, X_train_outer, y_train_outer, train_indices, val_indices)\n",
    "    rf_rmse_test, rf_r2_test = eval_rf_model(rf_model, X_test, y_test)\n",
    "    rf_fdr = false_selection_rate(np.argsort(rf_model.feature_importances_)[::-1][:s])\n",
    "\n",
    "    res_ft_dict[\"model\"].append(\"BNN\")\n",
    "    res_ft_dict[\"rmse\"].append(bnn_rmse_test)\n",
    "    res_ft_dict[\"r2\"].append(bnn_r2_test)\n",
    "    res_ft_dict[\"fdr\"].append(bnn_fdr)\n",
    "\n",
    "    res_ft_dict[\"model\"].append(\"RF\")\n",
    "    res_ft_dict[\"rmse\"].append(rf_rmse_test)\n",
    "    res_ft_dict[\"r2\"].append(rf_r2_test)\n",
    "    res_ft_dict[\"fdr\"].append(rf_fdr)"
   ],
   "metadata": {
    "colab": {
     "base_uri": "https://localhost:8080/"
    },
    "id": "O9dvn0TYBQE9",
    "outputId": "0e37bdfc-476c-4db0-cffe-ddb976411019",
    "pycharm": {
     "name": "#%%\n"
    }
   },
   "execution_count": 112,
   "outputs": [
    {
     "name": "stderr",
     "output_type": "stream",
     "text": [
      "100%|███████████████████████████████████████████████████████████████████████████████████| 10/10 [06:47<00:00, 40.73s/it]\n"
     ]
    }
   ]
  },
  {
   "cell_type": "code",
   "execution_count": 120,
   "outputs": [
    {
     "data": {
      "text/plain": "   model       rmse        r2  fdr\n0    BNN  2.1443584  0.811114  0.0\n1     RF  2.7534924  0.688561  0.6\n2    BNN  2.3724325  0.762188  0.0\n3     RF  2.9484758  0.632683  0.8\n4    BNN  2.2339587  0.766812  0.0\n5     RF  2.7853453  0.637495  1.0\n6    BNN  2.3986297  0.774555  0.0\n7     RF  2.8457959  0.682662  1.0\n8    BNN  2.2497005  0.784137  0.0\n9     RF  3.1658068  0.572537  0.6\n10   BNN  2.2231739  0.779741  0.0\n11    RF  2.9252398  0.618662  0.8\n12   BNN  2.2078054  0.786962  0.0\n13    RF  2.7079017  0.679519  0.8\n14   BNN  2.0726001  0.785263  0.0\n15    RF  2.7362678  0.625723  0.8\n16   BNN  2.1999104  0.823861  0.0\n17    RF  2.6741228  0.739740  1.0\n18   BNN  2.2308507  0.806705  0.0\n19    RF  2.8735852  0.679279  0.6",
      "text/html": "<div>\n<style scoped>\n    .dataframe tbody tr th:only-of-type {\n        vertical-align: middle;\n    }\n\n    .dataframe tbody tr th {\n        vertical-align: top;\n    }\n\n    .dataframe thead th {\n        text-align: right;\n    }\n</style>\n<table border=\"1\" class=\"dataframe\">\n  <thead>\n    <tr style=\"text-align: right;\">\n      <th></th>\n      <th>model</th>\n      <th>rmse</th>\n      <th>r2</th>\n      <th>fdr</th>\n    </tr>\n  </thead>\n  <tbody>\n    <tr>\n      <th>0</th>\n      <td>BNN</td>\n      <td>2.1443584</td>\n      <td>0.811114</td>\n      <td>0.0</td>\n    </tr>\n    <tr>\n      <th>1</th>\n      <td>RF</td>\n      <td>2.7534924</td>\n      <td>0.688561</td>\n      <td>0.6</td>\n    </tr>\n    <tr>\n      <th>2</th>\n      <td>BNN</td>\n      <td>2.3724325</td>\n      <td>0.762188</td>\n      <td>0.0</td>\n    </tr>\n    <tr>\n      <th>3</th>\n      <td>RF</td>\n      <td>2.9484758</td>\n      <td>0.632683</td>\n      <td>0.8</td>\n    </tr>\n    <tr>\n      <th>4</th>\n      <td>BNN</td>\n      <td>2.2339587</td>\n      <td>0.766812</td>\n      <td>0.0</td>\n    </tr>\n    <tr>\n      <th>5</th>\n      <td>RF</td>\n      <td>2.7853453</td>\n      <td>0.637495</td>\n      <td>1.0</td>\n    </tr>\n    <tr>\n      <th>6</th>\n      <td>BNN</td>\n      <td>2.3986297</td>\n      <td>0.774555</td>\n      <td>0.0</td>\n    </tr>\n    <tr>\n      <th>7</th>\n      <td>RF</td>\n      <td>2.8457959</td>\n      <td>0.682662</td>\n      <td>1.0</td>\n    </tr>\n    <tr>\n      <th>8</th>\n      <td>BNN</td>\n      <td>2.2497005</td>\n      <td>0.784137</td>\n      <td>0.0</td>\n    </tr>\n    <tr>\n      <th>9</th>\n      <td>RF</td>\n      <td>3.1658068</td>\n      <td>0.572537</td>\n      <td>0.6</td>\n    </tr>\n    <tr>\n      <th>10</th>\n      <td>BNN</td>\n      <td>2.2231739</td>\n      <td>0.779741</td>\n      <td>0.0</td>\n    </tr>\n    <tr>\n      <th>11</th>\n      <td>RF</td>\n      <td>2.9252398</td>\n      <td>0.618662</td>\n      <td>0.8</td>\n    </tr>\n    <tr>\n      <th>12</th>\n      <td>BNN</td>\n      <td>2.2078054</td>\n      <td>0.786962</td>\n      <td>0.0</td>\n    </tr>\n    <tr>\n      <th>13</th>\n      <td>RF</td>\n      <td>2.7079017</td>\n      <td>0.679519</td>\n      <td>0.8</td>\n    </tr>\n    <tr>\n      <th>14</th>\n      <td>BNN</td>\n      <td>2.0726001</td>\n      <td>0.785263</td>\n      <td>0.0</td>\n    </tr>\n    <tr>\n      <th>15</th>\n      <td>RF</td>\n      <td>2.7362678</td>\n      <td>0.625723</td>\n      <td>0.8</td>\n    </tr>\n    <tr>\n      <th>16</th>\n      <td>BNN</td>\n      <td>2.1999104</td>\n      <td>0.823861</td>\n      <td>0.0</td>\n    </tr>\n    <tr>\n      <th>17</th>\n      <td>RF</td>\n      <td>2.6741228</td>\n      <td>0.739740</td>\n      <td>1.0</td>\n    </tr>\n    <tr>\n      <th>18</th>\n      <td>BNN</td>\n      <td>2.2308507</td>\n      <td>0.806705</td>\n      <td>0.0</td>\n    </tr>\n    <tr>\n      <th>19</th>\n      <td>RF</td>\n      <td>2.8735852</td>\n      <td>0.679279</td>\n      <td>0.6</td>\n    </tr>\n  </tbody>\n</table>\n</div>"
     },
     "execution_count": 120,
     "metadata": {},
     "output_type": "execute_result"
    }
   ],
   "source": [
    "# res_df = pd.read_csv(f\"{save_dir}/res_df_hn_6.csv\")\n",
    "res_df = pd.DataFrame(res_ft_dict)\n",
    "res_df.to_csv(f\"{save_dir}/res_df_hn_6.csv\")\n",
    "res_df"
   ],
   "metadata": {
    "collapsed": false,
    "pycharm": {
     "name": "#%%\n"
    }
   }
  },
  {
   "cell_type": "code",
   "execution_count": 123,
   "outputs": [
    {
     "data": {
      "text/plain": "           rmse\nmodel          \nBNN    2.233342\nRF     2.841603",
      "text/html": "<div>\n<style scoped>\n    .dataframe tbody tr th:only-of-type {\n        vertical-align: middle;\n    }\n\n    .dataframe tbody tr th {\n        vertical-align: top;\n    }\n\n    .dataframe thead th {\n        text-align: right;\n    }\n</style>\n<table border=\"1\" class=\"dataframe\">\n  <thead>\n    <tr style=\"text-align: right;\">\n      <th></th>\n      <th>rmse</th>\n    </tr>\n    <tr>\n      <th>model</th>\n      <th></th>\n    </tr>\n  </thead>\n  <tbody>\n    <tr>\n      <th>BNN</th>\n      <td>2.233342</td>\n    </tr>\n    <tr>\n      <th>RF</th>\n      <td>2.841603</td>\n    </tr>\n  </tbody>\n</table>\n</div>"
     },
     "execution_count": 123,
     "metadata": {},
     "output_type": "execute_result"
    }
   ],
   "source": [
    "res_df.groupby(['model'])[[\"rmse\"]].mean()"
   ],
   "metadata": {
    "collapsed": false,
    "pycharm": {
     "name": "#%%\n"
    }
   }
  },
  {
   "cell_type": "code",
   "execution_count": 124,
   "outputs": [
    {
     "data": {
      "text/plain": "model\nBNN    0.0\nRF     0.8\nName: fdr, dtype: float64"
     },
     "execution_count": 124,
     "metadata": {},
     "output_type": "execute_result"
    }
   ],
   "source": [
    "res_df.groupby(['model'])[\"fdr\"].mean() # lower better"
   ],
   "metadata": {
    "collapsed": false,
    "pycharm": {
     "name": "#%%\n"
    }
   }
  },
  {
   "cell_type": "markdown",
   "source": [
    "### Case 2"
   ],
   "metadata": {
    "collapsed": false,
    "pycharm": {
     "name": "#%% md\n"
    }
   }
  },
  {
   "cell_type": "code",
   "execution_count": 170,
   "outputs": [],
   "source": [
    "import itertools\n",
    "N = 600\n",
    "P = 500\n",
    "\n",
    "def func_v2(key, x):\n",
    "    _, subkey = random.split(key, 2)\n",
    "    noise = random.normal(subkey, shape=(N,))\n",
    "    t1 = jnp.max(x[:,[0, 1]], axis=1)\n",
    "\n",
    "\n",
    "    y = ((4*(t1 ** 3) / (1 + 2*(x[:,2]**2)))*jnp.sin(x[:,3])) + \\\n",
    "            (jnp.exp(x[:,2] - x[:,3])*(1 + x[:,4] + x[:,5]) + noise)\n",
    "    return y\n",
    "\n",
    "def generate_dataset_v2(seed):\n",
    "    rng_key = random.PRNGKey(seed)\n",
    "    key1, key2 = random.split(rng_key, 2)\n",
    "    e = random.normal(key1, shape=(N,))\n",
    "    z = random.normal(key2, shape=(N, P))\n",
    "    dataset = jax.vmap(lambda a, b: 0.5*(a + b), in_axes=(None, 1), out_axes=1)(e, z)\n",
    "    # dataset = 0.5*(e + z)\n",
    "    output = func_v2(key1, dataset)\n",
    "\n",
    "    return dataset, output\n",
    "\n",
    "def generate_graph(p):\n",
    "    J = np.zeros((p, p))\n",
    "    for i in range(0, p-2, 2):\n",
    "        r = np.arange(i, i+4)\n",
    "        indices = tuple(itertools.product(r, repeat=2))\n",
    "        row, col = zip(*indices)\n",
    "        J[row, col] = 1.0\n",
    "\n",
    "    np.fill_diagonal(J, 0.)\n",
    "    return J"
   ],
   "metadata": {
    "collapsed": false,
    "pycharm": {
     "name": "#%%\n"
    }
   }
  },
  {
   "cell_type": "code",
   "execution_count": 196,
   "outputs": [],
   "source": [
    "seed = 56\n",
    "dataset_v2, output_v2 = generate_dataset_v2(seed)\n",
    "X_train_outer_v2, X_train_v2, X_val_v2, X_test_v2, \\\n",
    "y_train_outer_v2, y_train_v2, y_val_v2, y_test_v2, (train_indices_v2, val_indices_v2) = preprocess_data(seed, pd.DataFrame(dataset_v2), pd.Series(output_v2),\n",
    "                                                                                      val_size=0.2, test_size=0.2, reset_index=True)"
   ],
   "metadata": {
    "collapsed": false,
    "pycharm": {
     "name": "#%%\n"
    }
   }
  },
  {
   "cell_type": "code",
   "execution_count": 197,
   "outputs": [],
   "source": [
    "from scipy.sparse import csgraph\n",
    "J = generate_graph(P)\n",
    "L = csgraph.laplacian(J, normed=True)"
   ],
   "metadata": {
    "collapsed": false,
    "pycharm": {
     "name": "#%%\n"
    }
   }
  },
  {
   "cell_type": "code",
   "execution_count": 272,
   "outputs": [
    {
     "name": "stderr",
     "output_type": "stream",
     "text": [
      "100%|█████████████████████████████████████████████████████████████████████████████████| 200/200 [00:09<00:00, 20.77it/s]\n"
     ]
    },
    {
     "name": "stdout",
     "output_type": "stream",
     "text": [
      "40\n",
      "Test RMSE: 2.1013619899749756, r2_score: 0.49873242631472126\n"
     ]
    }
   ],
   "source": [
    "%autoreload\n",
    "lr_0, disc_lr_0 = 1e-3, 0.5\n",
    "temp = 1.0\n",
    "epochs, num_cycles = 200, 20\n",
    "eta, mu = 100.0, 1.0\n",
    "outer_data_loader_v2 = NumpyLoader(NumpyData(X_train_outer_v2, y_train_outer_v2), batch_size=32, shuffle=True)\n",
    "bg_bnn_model, bg_bnn_states, bg_bnn_disc_states = train_bg_bnn_model(seed, outer_data_loader_v2, epochs, num_cycles,\n",
    "                                                                     0.25, 2, lr_0, disc_lr_0, [6], temp, 1.0,\n",
    "                                                                     eta, mu, J, \"swish\")\n",
    "\n",
    "print(len(bg_bnn_states))\n",
    "bnn_bg_rmse_test, bnn_bg_r2_test = score_bg_bnn_model(bg_bnn_model, X_test_v2, y_test_v2, bg_bnn_states, bg_bnn_disc_states)\n",
    "print(f\"Test RMSE: {bnn_bg_rmse_test}, r2_score: {bnn_bg_r2_test}\")"
   ],
   "metadata": {
    "collapsed": false,
    "pycharm": {
     "name": "#%%\n"
    }
   }
  },
  {
   "cell_type": "code",
   "execution_count": 273,
   "outputs": [
    {
     "data": {
      "text/plain": "array([  5,   4,   2,   3,   1, 442, 301, 339, 107,   0, 133, 206, 448,\n       456, 188, 213, 193, 219,  65, 212, 256, 304, 330,  13, 310, 389,\n       302, 278, 419, 234, 491, 478,  29, 477, 319, 250, 483, 315, 211,\n       497, 471, 472, 247, 223,  76,  74, 155, 347, 269, 443, 290, 168,\n       460, 160, 226, 137,  68, 306, 279, 169,  32, 406, 405,  18, 475,\n       312, 300,  77, 240, 255, 349, 320, 229, 281, 360,  87, 170, 283,\n       157, 145,  73, 124, 230, 421, 270, 369, 293, 481, 163, 420, 493,\n       181, 131, 277,  66, 171, 479,  46, 220, 499, 267, 365, 418, 260,\n       134, 409,  90, 371,  53, 162, 262, 376, 321, 231, 392, 153, 297,\n       274, 285, 474, 359, 401, 249, 351, 237, 235, 410, 463, 324, 355,\n       424, 345, 164, 152,  16, 402, 100, 473, 214, 159, 333, 458, 465,\n        11, 184,  61,   8, 106, 492, 257, 390, 176, 397, 101, 151,  30,\n       130, 357, 488, 350, 150, 484, 435, 128, 377, 178,  95, 452, 138,\n       485, 373, 286, 203,  43,  50, 470,  57, 272, 344, 382, 439, 346,\n       308, 407, 453,  42, 378, 385,  70, 356, 496, 198, 445,  75, 428,\n       423, 177, 209, 208, 400, 254,  79, 147, 233, 123, 432, 175, 217,\n       358, 317, 142, 325, 232, 117, 174, 109, 143, 258, 429, 468, 192,\n        80, 259, 201, 115, 366, 263,  89, 121, 167,  48, 329,  28, 341,\n       197,  51,  71, 102, 305,  83, 362,  99, 186,  36, 307, 103,  67,\n       449, 144, 273,  20, 108, 434,  64, 457, 314, 105, 215, 104, 436,\n       489, 396, 446, 395,  78,  34, 447,  84, 161, 239,  47, 110, 141,\n       118, 451, 340, 248, 288,  72, 180, 202, 337, 135, 200, 136, 166,\n       323,  59, 287, 132,  26, 146, 172, 294,  86,  21, 187,  10, 253,\n        54, 438, 238, 246, 149, 426, 244, 116, 464, 275,  97,  69, 427,\n        14,  55,  24, 289, 113,  56, 316, 363,  92,   9,  93, 425, 353,\n       480, 455, 494, 490, 245,  40,  38, 194, 313, 334, 264,  60, 433,\n       399, 486, 416, 261, 335, 495, 417,  91, 210,  94,  49, 354, 216,\n       408, 441, 251,  96, 227, 394, 182, 196,  45, 352, 327, 284, 380,\n       185, 381, 370,  33, 467, 299, 454,  62, 336, 296, 224, 372,  15,\n       326, 122,   7,  98, 158, 199, 414, 190, 374, 367, 422,  81, 461,\n       482, 228, 379,  39, 195, 391, 412, 266, 276, 322, 476, 205, 241,\n       112,  41,  52, 411, 129, 393, 338, 126, 140, 225,  31,  37, 165,\n       487, 415, 191, 403, 309, 120, 342, 236, 242,  23, 361, 280, 469,\n        44, 444, 282, 462, 388,  35, 332, 221, 119, 207, 148, 222, 189,\n       343, 368,   6, 114,  22, 387, 292, 398, 295,  27, 268,  12, 111,\n       348, 466, 183,  88, 364, 243, 450,  63, 413, 265, 204, 154, 318,\n       298, 331, 139, 179,  17, 291, 431, 375, 271, 311, 252, 127, 173,\n       303, 437,  82, 430, 386, 328, 404, 498, 383, 384,  85,  19, 156,\n        58,  25, 459, 218, 440, 125])"
     },
     "execution_count": 273,
     "metadata": {},
     "output_type": "execute_result"
    }
   ],
   "source": [
    "params_bg_bnn = tree_utils.tree_stack(bg_bnn_states)\n",
    "gammas_bg_bnn = tree_utils.tree_stack((bg_bnn_disc_states))\n",
    "igs_bg_bnn = jax.vmap(integrated_gradients, in_axes=(None, None, None, 0, None))(bg_bnn_model, params_bg_bnn, gammas_bg_bnn, X_train_outer_v2, 20).squeeze()\n",
    "igs_sorted_bg_bnn = np.argsort(np.mean(np.abs(igs_bg_bnn), axis=0))[::-1]\n",
    "igs_sorted_bg_bnn"
   ],
   "metadata": {
    "collapsed": false,
    "pycharm": {
     "name": "#%%\n"
    }
   }
  },
  {
   "cell_type": "code",
   "execution_count": null,
   "outputs": [],
   "source": [
    "import pickle\n",
    "\n",
    "epochs = 200\n",
    "hpo_epochs = 100\n",
    "num_cycles = 10\n",
    "batch_size = 80\n",
    "lr_0 = 1e-3\n",
    "hidden_sizes = [100]\n",
    "sigma = 1.0\n",
    "eta = 1.0\n",
    "act_fn = jax.nn.swish\n",
    "k = dataset.shape[0]\n",
    "\n",
    "dropout_loss_lst = []\n",
    "bnn_fdr = []\n",
    "rf_fdr = []\n",
    "optuna.logging.set_verbosity(optuna.logging.WARNING)\n",
    "\n",
    "res_ft_dict_2 = {\"model\": [], \"rmse\": [], \"fdr\": []}\n",
    "\n",
    "seeds = [422,261,968,282,739,573,220,413,745,775]\n",
    "s = 5 # change this? See Wojats et.al 2020\n",
    "\n",
    "for seed in tqdm(seeds):\n",
    "    dataset, output = generate_dataset_v1(seed)\n",
    "    X_df, y_df = pd.DataFrame(dataset), pd.Series(output)\n",
    "    X_train_outer_df, X_test_df, y_train_outer_df, y_test_df = train_test_split(X_df, y_df, shuffle=False, test_size=0.2)\n",
    "    X_train_df, X_val_df, y_train_df, y_val_df = train_test_split(X_train_outer_df, y_train_outer_df, test_size=0.2, shuffle=False)\n",
    "    train_indices, val_indices = X_train_df.index.to_list(), X_val_df.index.to_list()\n",
    "    X_train, X_val, X_test = X_train_df.to_numpy(), X_val_df.to_numpy(), X_test_df.to_numpy()\n",
    "    y_train, y_val, y_test = y_train_df.to_numpy(), y_val_df.to_numpy(), y_test_df.to_numpy()\n",
    "    data_loader = NumpyLoader(NumpyData(X_train, y_train), batch_size=batch_size, shuffle=False)\n",
    "    study = optuna.create_study(sampler=sampler)\n",
    "    study.optimize(lambda trial: objective(trial, seed, X_train, X_val, y_train, y_val, J, hpo_epochs, num_cycles, batch_size, hidden_sizes, lr_0, act_fn), timeout=100)\n",
    "    bnn_config = study.best_params\n",
    "    disc_lr_0 = bnn_config[\"disc_lr\"]\n",
    "    mu = bnn_config[\"mu\"]\n",
    "    temp = bnn_config[\"temp\"]\n",
    "    beta = bnn_config[\"beta\"]\n",
    "\n",
    "    pickle.dump(bnn_config, open(f\"{save_dir}/bnn_config_s_{seed}.pkl\", \"wb\"))\n",
    "\n",
    "    bg_bnn_model, bnn_bg_states, bg_disc_states = train_bg_bnn_model(seed, data_loader, epochs, num_cycles, beta, lr_0, disc_lr_0,\n",
    "                                                                     hidden_sizes, temp, sigma, eta, mu, J, act_fn)\n",
    "    bnn_bg_rmse_test, _ = score_bg_bnn_model(bg_bnn_model, X_test, y_test, bnn_bg_states, bg_disc_states)\n",
    "    dropout_loss = get_feats_dropout_loss(bg_bnn_model, bnn_bg_states, bg_disc_states, X_val, y_val)\n",
    "    dropout_loss_lst.append(dropout_loss)\n",
    "    bnn_fdr = false_selection_rate(dropout_loss[\"feats_idx\"][:s].to_list())\n",
    "\n",
    "    rf_model = train_rf_model(seed, X_train_outer_df, y_train_outer_df, train_indices, val_indices)\n",
    "    rf_rmse_test, _ = eval_rf_model(rf_model, X_test, y_test)\n",
    "    rf_fdr = false_selection_rate(np.argsort(rf_model.feature_importances_)[::-1][:s])\n",
    "\n",
    "    pickle.dump(rf_model, open(f\"{save_dir}/rf_model_{seed}.pkl\", \"wb\"))\n",
    "\n",
    "    res_ft_dict_2[\"model\"].append(\"BNN\")\n",
    "    res_ft_dict_2[\"rmse\"].append(bnn_bg_rmse_test)\n",
    "    res_ft_dict_2[\"fdr\"].append(bnn_fdr)\n",
    "\n",
    "    res_ft_dict_2[\"model\"].append(\"RF\")\n",
    "    res_ft_dict_2[\"rmse\"].append(rf_rmse_test)\n",
    "    res_ft_dict_2[\"fdr\"].append(rf_fdr)"
   ],
   "metadata": {
    "collapsed": false,
    "pycharm": {
     "name": "#%%\n"
    }
   }
  },
  {
   "cell_type": "code",
   "execution_count": 232,
   "outputs": [],
   "source": [
    "rng = random.PRNGKey(seed)\n",
    "dataset_v3, output_v3, beta_true, idx_on =  generate_synthetic_data(key=rng , num_tf=20, num_genes=10,\n",
    "                        tf_on=4, num_samples=600, binary=False, val_tf=4)\n",
    "\n",
    "X_train_outer_v3, X_train_v3, X_val_v3, X_test_v3, \\\n",
    "y_train_outer_v3, y_train_v3, y_val_v3, y_test_v3, (train_indices_v3, val_indices_v3) = preprocess_data(seed, pd.DataFrame(dataset_v3), pd.Series(output_v3),  val_size=0.2, test_size=0.2, reset_index=True)"
   ],
   "metadata": {
    "collapsed": false,
    "pycharm": {
     "name": "#%%\n"
    }
   }
  },
  {
   "cell_type": "code",
   "execution_count": 233,
   "outputs": [
    {
     "data": {
      "text/plain": "(384, 220)"
     },
     "execution_count": 233,
     "metadata": {},
     "output_type": "execute_result"
    }
   ],
   "source": [
    "X_train_v3.shape"
   ],
   "metadata": {
    "collapsed": false,
    "pycharm": {
     "name": "#%%\n"
    }
   }
  },
  {
   "cell_type": "code",
   "execution_count": 235,
   "outputs": [],
   "source": [
    "from scipy.sparse import csgraph\n",
    "J_tf = get_assoc_mat(num_tf=20, num_genes=10)\n",
    "L_tf = csgraph.laplacian(J_tf, normed=True)"
   ],
   "metadata": {
    "collapsed": false,
    "pycharm": {
     "name": "#%%\n"
    }
   }
  },
  {
   "cell_type": "code",
   "execution_count": 280,
   "outputs": [
    {
     "name": "stderr",
     "output_type": "stream",
     "text": [
      "  0%|                                                                                           | 0/200 [00:00<?, ?it/s]\n"
     ]
    },
    {
     "ename": "TypeError",
     "evalue": "dot_general requires contracting dimensions to have the same shape, got (220,) and (500,).",
     "output_type": "error",
     "traceback": [
      "\u001B[0;31m---------------------------------------------------------------------------\u001B[0m",
      "\u001B[0;31mTypeError\u001B[0m                                 Traceback (most recent call last)",
      "Cell \u001B[0;32mIn[280], line 7\u001B[0m\n\u001B[1;32m      5\u001B[0m eta, mu \u001B[38;5;241m=\u001B[39m \u001B[38;5;241m-\u001B[39m\u001B[38;5;241m10.0\u001B[39m, \u001B[38;5;241m10.0\u001B[39m\n\u001B[1;32m      6\u001B[0m outer_data_loader_v2 \u001B[38;5;241m=\u001B[39m NumpyLoader(NumpyData(X_train_outer_v3, y_train_outer_v3), batch_size\u001B[38;5;241m=\u001B[39m\u001B[38;5;241m32\u001B[39m, shuffle\u001B[38;5;241m=\u001B[39m\u001B[38;5;28;01mTrue\u001B[39;00m)\n\u001B[0;32m----> 7\u001B[0m bg_bnn_model_v3, bg_bnn_states_v3, bg_bnn_disc_states_v3 \u001B[38;5;241m=\u001B[39m \u001B[43mtrain_bg_bnn_model\u001B[49m\u001B[43m(\u001B[49m\u001B[43mseed\u001B[49m\u001B[43m,\u001B[49m\u001B[43m \u001B[49m\u001B[43mouter_data_loader_v2\u001B[49m\u001B[43m,\u001B[49m\u001B[43m \u001B[49m\u001B[43mepochs\u001B[49m\u001B[43m,\u001B[49m\u001B[43m \u001B[49m\u001B[43mnum_cycles\u001B[49m\u001B[43m,\u001B[49m\n\u001B[1;32m      8\u001B[0m \u001B[43m                                                                     \u001B[49m\u001B[38;5;241;43m0.25\u001B[39;49m\u001B[43m,\u001B[49m\u001B[43m \u001B[49m\u001B[38;5;241;43m2\u001B[39;49m\u001B[43m,\u001B[49m\u001B[43m \u001B[49m\u001B[43mlr_0\u001B[49m\u001B[43m,\u001B[49m\u001B[43m \u001B[49m\u001B[43mdisc_lr_0\u001B[49m\u001B[43m,\u001B[49m\u001B[43m \u001B[49m\u001B[43m[\u001B[49m\u001B[38;5;241;43m50\u001B[39;49m\u001B[43m]\u001B[49m\u001B[43m,\u001B[49m\u001B[43m \u001B[49m\u001B[43mtemp\u001B[49m\u001B[43m,\u001B[49m\u001B[43m \u001B[49m\u001B[38;5;241;43m1.0\u001B[39;49m\u001B[43m,\u001B[49m\n\u001B[1;32m      9\u001B[0m \u001B[43m                                                                     \u001B[49m\u001B[43meta\u001B[49m\u001B[43m,\u001B[49m\u001B[43m \u001B[49m\u001B[43mmu\u001B[49m\u001B[43m,\u001B[49m\u001B[43m \u001B[49m\u001B[43mJ_zeros\u001B[49m\u001B[43m,\u001B[49m\u001B[43m \u001B[49m\u001B[38;5;124;43m\"\u001B[39;49m\u001B[38;5;124;43mswish\u001B[39;49m\u001B[38;5;124;43m\"\u001B[39;49m\u001B[43m)\u001B[49m\n\u001B[1;32m     11\u001B[0m \u001B[38;5;28mprint\u001B[39m(\u001B[38;5;28mlen\u001B[39m(bg_bnn_states_v3))\n\u001B[1;32m     12\u001B[0m bnn_bg_rmse_test, bnn_bg_r2_test \u001B[38;5;241m=\u001B[39m score_bg_bnn_model(bg_bnn_model_v3, X_test_v3, y_test_v3, bg_bnn_states_v3, bg_bnn_disc_states_v3)\n",
      "File \u001B[0;32m~/bio_ai/moses-incons-pen-xp/notebooks/variable_selection/cancer/nn/train_utils.py:146\u001B[0m, in \u001B[0;36mtrain_bg_bnn_model\u001B[0;34m(seed, train_loader, epochs, num_cycles, beta, m, lr_0, disc_lr_0, hidden_sizes, temp, sigma, eta, mu, J, act_fn_name, show_pgbar)\u001B[0m\n\u001B[1;32m    144\u001B[0m rk \u001B[38;5;241m=\u001B[39m (step \u001B[38;5;241m%\u001B[39m M) \u001B[38;5;241m/\u001B[39m M\n\u001B[1;32m    145\u001B[0m \u001B[38;5;66;03m# params, gamma, opt_state, disc_opt_state, disc_info = model.update(key, params, gamma, opt_state, disc_opt_state, batch_x, batch_y)\u001B[39;00m\n\u001B[0;32m--> 146\u001B[0m params, gamma, opt_state, disc_opt_state \u001B[38;5;241m=\u001B[39m \u001B[43mmodel\u001B[49m\u001B[38;5;241;43m.\u001B[39;49m\u001B[43mupdate\u001B[49m\u001B[43m(\u001B[49m\u001B[43mkey\u001B[49m\u001B[43m,\u001B[49m\u001B[43m \u001B[49m\u001B[43mparams\u001B[49m\u001B[43m,\u001B[49m\u001B[43m \u001B[49m\u001B[43mgamma\u001B[49m\u001B[43m,\u001B[49m\u001B[43m \u001B[49m\u001B[43mopt_state\u001B[49m\u001B[43m,\u001B[49m\u001B[43m \u001B[49m\u001B[43mdisc_opt_state\u001B[49m\u001B[43m,\u001B[49m\u001B[43m \u001B[49m\u001B[43mbatch_x\u001B[49m\u001B[43m,\u001B[49m\u001B[43m \u001B[49m\u001B[43mbatch_y\u001B[49m\u001B[43m)\u001B[49m\n\u001B[1;32m    147\u001B[0m \u001B[38;5;66;03m# disc_posterior_infos.append(disc_info)\u001B[39;00m\n\u001B[1;32m    148\u001B[0m \u001B[38;5;28;01mif\u001B[39;00m rk \u001B[38;5;241m>\u001B[39m beta:\n",
      "    \u001B[0;31m[... skipping hidden 12 frame]\u001B[0m\n",
      "File \u001B[0;32m~/bio_ai/moses-incons-pen-xp/notebooks/variable_selection/cancer/nn/bnn_models.py:189\u001B[0m, in \u001B[0;36mBgBayesNN.update\u001B[0;34m(self, key, params, gamma, opt_state, disc_opt_state, x, y)\u001B[0m\n\u001B[1;32m    186\u001B[0m \u001B[38;5;66;03m# updates, opt_state = self.optimiser.update(grads, opt_state)\u001B[39;00m\n\u001B[1;32m    187\u001B[0m params \u001B[38;5;241m=\u001B[39m optax\u001B[38;5;241m.\u001B[39mapply_updates(params, updates)\n\u001B[0;32m--> 189\u001B[0m disc_grads \u001B[38;5;241m=\u001B[39m \u001B[43mjax\u001B[49m\u001B[38;5;241;43m.\u001B[39;49m\u001B[43mgrad\u001B[49m\u001B[43m(\u001B[49m\u001B[38;5;28;43mself\u001B[39;49m\u001B[38;5;241;43m.\u001B[39;49m\u001B[43mdisc_loss\u001B[49m\u001B[43m)\u001B[49m\u001B[43m(\u001B[49m\u001B[43mgamma\u001B[49m\u001B[43m,\u001B[49m\u001B[43m \u001B[49m\u001B[43mparams\u001B[49m\u001B[43m,\u001B[49m\u001B[43m \u001B[49m\u001B[43mx\u001B[49m\u001B[43m,\u001B[49m\u001B[43m \u001B[49m\u001B[43my\u001B[49m\u001B[43m)\u001B[49m\n\u001B[1;32m    190\u001B[0m \u001B[38;5;66;03m# disc_grads = disc_grads / jnp.linalg.norm(disc_grads)\u001B[39;00m\n\u001B[1;32m    191\u001B[0m \u001B[38;5;66;03m# disc_grads = jnp.clip(disc_grads, -10, 10)\u001B[39;00m\n\u001B[1;32m    192\u001B[0m gamma, disc_opt_state \u001B[38;5;241m=\u001B[39m \u001B[38;5;28mself\u001B[39m\u001B[38;5;241m.\u001B[39mdisc_optimiser\u001B[38;5;241m.\u001B[39mupdate(key, gamma, disc_grads, disc_opt_state)\n",
      "    \u001B[0;31m[... skipping hidden 19 frame]\u001B[0m\n",
      "File \u001B[0;32m~/bio_ai/moses-incons-pen-xp/notebooks/variable_selection/cancer/nn/bnn_models.py:170\u001B[0m, in \u001B[0;36mBgBayesNN.disc_loss\u001B[0;34m(self, gamma, params, x, y)\u001B[0m\n\u001B[1;32m    169\u001B[0m \u001B[38;5;28;01mdef\u001B[39;00m \u001B[38;5;21mdisc_loss\u001B[39m(\u001B[38;5;28mself\u001B[39m, gamma, params, x, y):\n\u001B[0;32m--> 170\u001B[0m     prior_logprob \u001B[38;5;241m=\u001B[39m \u001B[38;5;28;43mself\u001B[39;49m\u001B[38;5;241;43m.\u001B[39;49m\u001B[43mising_prior\u001B[49m\u001B[43m(\u001B[49m\u001B[43mgamma\u001B[49m\u001B[43m)\u001B[49m\n\u001B[1;32m    171\u001B[0m     log_ll_prob \u001B[38;5;241m=\u001B[39m \u001B[38;5;28mself\u001B[39m\u001B[38;5;241m.\u001B[39mlog_likelihood(params, gamma, x, y)\n\u001B[1;32m    172\u001B[0m     \u001B[38;5;28;01mreturn\u001B[39;00m (prior_logprob \u001B[38;5;241m+\u001B[39m log_ll_prob)\u001B[38;5;241m/\u001B[39m\u001B[38;5;28mself\u001B[39m\u001B[38;5;241m.\u001B[39mtemperature\n",
      "File \u001B[0;32m~/bio_ai/moses-incons-pen-xp/notebooks/variable_selection/cancer/nn/bnn_models.py:226\u001B[0m, in \u001B[0;36mBgBayesNN.ising_prior\u001B[0;34m(self, gamma)\u001B[0m\n\u001B[1;32m    224\u001B[0m \u001B[38;5;250m\u001B[39m\u001B[38;5;124;03m\"\"\"Log probability of the Ising model - prior over the discrete variables\"\"\"\u001B[39;00m\n\u001B[1;32m    225\u001B[0m \u001B[38;5;66;03m# return (0.5*self.eta*(gamma.T @ self.J @ gamma) - self.mu*jnp.sum(gamma)) / self.temperature\u001B[39;00m\n\u001B[0;32m--> 226\u001B[0m \u001B[38;5;28;01mreturn\u001B[39;00m (\u001B[38;5;241m0.5\u001B[39m\u001B[38;5;241m*\u001B[39m\u001B[38;5;28mself\u001B[39m\u001B[38;5;241m.\u001B[39meta\u001B[38;5;241m*\u001B[39m(\u001B[43mgamma\u001B[49m\u001B[38;5;241;43m.\u001B[39;49m\u001B[43mT\u001B[49m\u001B[43m \u001B[49m\u001B[38;5;241;43m@\u001B[39;49m\u001B[43m \u001B[49m\u001B[38;5;28;43mself\u001B[39;49m\u001B[38;5;241;43m.\u001B[39;49m\u001B[43mJ\u001B[49m \u001B[38;5;241m@\u001B[39m gamma) \u001B[38;5;241m-\u001B[39m \u001B[38;5;28mself\u001B[39m\u001B[38;5;241m.\u001B[39mmu\u001B[38;5;241m*\u001B[39mjnp\u001B[38;5;241m.\u001B[39msum(gamma))\n",
      "    \u001B[0;31m[... skipping hidden 1 frame]\u001B[0m\n",
      "File \u001B[0;32m~/miniconda3/lib/python3.10/site-packages/jax/_src/numpy/lax_numpy.py:4970\u001B[0m, in \u001B[0;36m_defer_to_unrecognized_arg.<locals>.deferring_binary_op\u001B[0;34m(self, other)\u001B[0m\n\u001B[1;32m   4968\u001B[0m args \u001B[38;5;241m=\u001B[39m (other, \u001B[38;5;28mself\u001B[39m) \u001B[38;5;28;01mif\u001B[39;00m swap \u001B[38;5;28;01melse\u001B[39;00m (\u001B[38;5;28mself\u001B[39m, other)\n\u001B[1;32m   4969\u001B[0m \u001B[38;5;28;01mif\u001B[39;00m \u001B[38;5;28misinstance\u001B[39m(other, _accepted_binop_types):\n\u001B[0;32m-> 4970\u001B[0m   \u001B[38;5;28;01mreturn\u001B[39;00m \u001B[43mbinary_op\u001B[49m\u001B[43m(\u001B[49m\u001B[38;5;241;43m*\u001B[39;49m\u001B[43margs\u001B[49m\u001B[43m)\u001B[49m\n\u001B[1;32m   4971\u001B[0m \u001B[38;5;28;01mif\u001B[39;00m \u001B[38;5;28misinstance\u001B[39m(other, _rejected_binop_types):\n\u001B[1;32m   4972\u001B[0m   \u001B[38;5;28;01mraise\u001B[39;00m \u001B[38;5;167;01mTypeError\u001B[39;00m(\u001B[38;5;124mf\u001B[39m\u001B[38;5;124m\"\u001B[39m\u001B[38;5;124munsupported operand type(s) for \u001B[39m\u001B[38;5;132;01m{\u001B[39;00mopchar\u001B[38;5;132;01m}\u001B[39;00m\u001B[38;5;124m: \u001B[39m\u001B[38;5;124m\"\u001B[39m\n\u001B[1;32m   4973\u001B[0m                   \u001B[38;5;124mf\u001B[39m\u001B[38;5;124m\"\u001B[39m\u001B[38;5;132;01m{\u001B[39;00m\u001B[38;5;28mtype\u001B[39m(args[\u001B[38;5;241m0\u001B[39m])\u001B[38;5;241m.\u001B[39m\u001B[38;5;18m__name__\u001B[39m\u001B[38;5;132;01m!r}\u001B[39;00m\u001B[38;5;124m and \u001B[39m\u001B[38;5;132;01m{\u001B[39;00m\u001B[38;5;28mtype\u001B[39m(args[\u001B[38;5;241m1\u001B[39m])\u001B[38;5;241m.\u001B[39m\u001B[38;5;18m__name__\u001B[39m\u001B[38;5;132;01m!r}\u001B[39;00m\u001B[38;5;124m\"\u001B[39m)\n",
      "    \u001B[0;31m[... skipping hidden 9 frame]\u001B[0m\n",
      "File \u001B[0;32m~/miniconda3/lib/python3.10/site-packages/jax/_src/numpy/lax_numpy.py:3009\u001B[0m, in \u001B[0;36mmatmul\u001B[0;34m(a, b, precision)\u001B[0m\n\u001B[1;32m   3007\u001B[0m a \u001B[38;5;241m=\u001B[39m lax\u001B[38;5;241m.\u001B[39msqueeze(a, \u001B[38;5;28mtuple\u001B[39m(a_squeeze))\n\u001B[1;32m   3008\u001B[0m b \u001B[38;5;241m=\u001B[39m lax\u001B[38;5;241m.\u001B[39msqueeze(b, \u001B[38;5;28mtuple\u001B[39m(b_squeeze))\n\u001B[0;32m-> 3009\u001B[0m out \u001B[38;5;241m=\u001B[39m \u001B[43mlax\u001B[49m\u001B[38;5;241;43m.\u001B[39;49m\u001B[43mdot_general\u001B[49m\u001B[43m(\u001B[49m\n\u001B[1;32m   3010\u001B[0m \u001B[43m  \u001B[49m\u001B[43ma\u001B[49m\u001B[43m,\u001B[49m\u001B[43m \u001B[49m\u001B[43mb\u001B[49m\u001B[43m,\u001B[49m\u001B[43m \u001B[49m\u001B[43m(\u001B[49m\u001B[43m(\u001B[49m\u001B[43m(\u001B[49m\u001B[43mndim\u001B[49m\u001B[43m(\u001B[49m\u001B[43ma\u001B[49m\u001B[43m)\u001B[49m\u001B[43m \u001B[49m\u001B[38;5;241;43m-\u001B[39;49m\u001B[43m \u001B[49m\u001B[38;5;241;43m1\u001B[39;49m\u001B[43m,\u001B[49m\u001B[43m)\u001B[49m\u001B[43m,\u001B[49m\u001B[43m \u001B[49m\u001B[43m(\u001B[49m\u001B[43mndim\u001B[49m\u001B[43m(\u001B[49m\u001B[43mb\u001B[49m\u001B[43m)\u001B[49m\u001B[43m \u001B[49m\u001B[38;5;241;43m-\u001B[39;49m\u001B[43m \u001B[49m\u001B[38;5;241;43m1\u001B[39;49m\u001B[43m \u001B[49m\u001B[38;5;241;43m-\u001B[39;49m\u001B[43m \u001B[49m\u001B[43mb_is_mat\u001B[49m\u001B[43m,\u001B[49m\u001B[43m)\u001B[49m\u001B[43m)\u001B[49m\u001B[43m,\u001B[49m\u001B[43m \u001B[49m\u001B[43m(\u001B[49m\u001B[43ma_batch\u001B[49m\u001B[43m,\u001B[49m\u001B[43m \u001B[49m\u001B[43mb_batch\u001B[49m\u001B[43m)\u001B[49m\u001B[43m)\u001B[49m\u001B[43m,\u001B[49m\n\u001B[1;32m   3011\u001B[0m \u001B[43m  \u001B[49m\u001B[43mprecision\u001B[49m\u001B[38;5;241;43m=\u001B[39;49m\u001B[43mprecision\u001B[49m\u001B[43m)\u001B[49m\n\u001B[1;32m   3012\u001B[0m \u001B[38;5;28;01mreturn\u001B[39;00m lax\u001B[38;5;241m.\u001B[39mtranspose(out, perm)\n",
      "    \u001B[0;31m[... skipping hidden 11 frame]\u001B[0m\n",
      "File \u001B[0;32m~/miniconda3/lib/python3.10/site-packages/jax/_src/lax/lax.py:2545\u001B[0m, in \u001B[0;36m_dot_general_shape_rule\u001B[0;34m(lhs, rhs, dimension_numbers, precision, preferred_element_type)\u001B[0m\n\u001B[1;32m   2542\u001B[0m \u001B[38;5;28;01mif\u001B[39;00m \u001B[38;5;129;01mnot\u001B[39;00m core\u001B[38;5;241m.\u001B[39msymbolic_equal_shape(lhs_contracting_shape, rhs_contracting_shape):\n\u001B[1;32m   2543\u001B[0m   msg \u001B[38;5;241m=\u001B[39m (\u001B[38;5;124m\"\u001B[39m\u001B[38;5;124mdot_general requires contracting dimensions to have the same \u001B[39m\u001B[38;5;124m\"\u001B[39m\n\u001B[1;32m   2544\u001B[0m          \u001B[38;5;124m\"\u001B[39m\u001B[38;5;124mshape, got \u001B[39m\u001B[38;5;132;01m{}\u001B[39;00m\u001B[38;5;124m and \u001B[39m\u001B[38;5;132;01m{}\u001B[39;00m\u001B[38;5;124m.\u001B[39m\u001B[38;5;124m\"\u001B[39m)\n\u001B[0;32m-> 2545\u001B[0m   \u001B[38;5;28;01mraise\u001B[39;00m \u001B[38;5;167;01mTypeError\u001B[39;00m(msg\u001B[38;5;241m.\u001B[39mformat(lhs_contracting_shape, rhs_contracting_shape))\n\u001B[1;32m   2547\u001B[0m \u001B[38;5;28;01mreturn\u001B[39;00m _dot_general_shape_computation(lhs\u001B[38;5;241m.\u001B[39mshape, rhs\u001B[38;5;241m.\u001B[39mshape, dimension_numbers)\n",
      "\u001B[0;31mTypeError\u001B[0m: dot_general requires contracting dimensions to have the same shape, got (220,) and (500,)."
     ]
    }
   ],
   "source": [
    "%autoreload\n",
    "lr_0, disc_lr_0 = 1e-3, 0.5\n",
    "temp = 1.0\n",
    "epochs, num_cycles = 200, 20\n",
    "eta, mu = -10.0, 10.0\n",
    "outer_data_loader_v2 = NumpyLoader(NumpyData(X_train_outer_v3, y_train_outer_v3), batch_size=32, shuffle=True)\n",
    "bg_bnn_model_v3, bg_bnn_states_v3, bg_bnn_disc_states_v3 = train_bg_bnn_model(seed, outer_data_loader_v2, epochs, num_cycles,\n",
    "                                                                     0.25, 2, lr_0, disc_lr_0, [50], temp, 1.0,\n",
    "                                                                     eta, mu, J_zeros, \"swish\")\n",
    "\n",
    "print(len(bg_bnn_states_v3))\n",
    "bnn_bg_rmse_test, bnn_bg_r2_test = score_bg_bnn_model(bg_bnn_model_v3, X_test_v3, y_test_v3, bg_bnn_states_v3, bg_bnn_disc_states_v3)\n",
    "print(f\"Test RMSE: {bnn_bg_rmse_test}, r2_score: {bnn_bg_r2_test}\")"
   ],
   "metadata": {
    "collapsed": false,
    "pycharm": {
     "name": "#%%\n"
    }
   }
  },
  {
   "cell_type": "code",
   "execution_count": 275,
   "outputs": [
    {
     "data": {
      "text/plain": "array([  0,   3,   5,   2,   1,   7,   4,  10,   9,   8,  47, 142, 121,\n         6,  29, 130, 156, 131,  96,  69, 193, 174, 198,  68, 210,  46,\n       209, 214,  22, 105, 203, 128,  50,  45, 201,  39,  82, 216, 165,\n       146, 197,  92,  95, 125,  28, 113, 205, 188, 185,  19,  37,  27,\n       119,  67, 116, 144, 187, 164, 108, 117, 192, 162, 172,  90, 127,\n        53, 154, 170,  87,  86,  73, 191, 215,  70,  83,  59,  88,  61,\n       184,  51,  72, 103,  77, 148, 212, 155, 189, 106, 123, 137, 140,\n        91, 122, 199, 115, 175, 204,  57, 218,  74, 183, 178,  26, 181,\n       101,  25,  94,  63, 202, 211,  98, 143, 158,  56, 129,  85, 120,\n       213, 132, 179, 153, 206,  41,  42, 177,  20,  48,  64,  52, 147,\n        32, 180, 163,  79, 195, 208,  49, 118, 166,  81, 110, 126, 124,\n        93,  38, 168,  33,  24,  60,  58,  31, 219,  89,  97,  43,  78,\n        62,  75, 167,  76, 141, 100, 139,  84,  40, 169, 138, 194, 186,\n        36, 149, 136, 207,  55, 114, 196, 200, 151,  21, 109,  30,  71,\n       157, 160, 176,  44, 159,  65, 150, 133,  99,  80, 152,  34, 134,\n       111, 173,  54, 145, 102, 190, 161,  66,  14,  16, 135, 217,  23,\n       182,  17,  13,  11,  15, 104, 112,  18,  12,  35, 107, 171])"
     },
     "execution_count": 275,
     "metadata": {},
     "output_type": "execute_result"
    }
   ],
   "source": [
    "params_bg_bnn_v3 = tree_utils.tree_stack(bg_bnn_states_v3)\n",
    "gammas_bg_bnn_v3 = tree_utils.tree_stack((bg_bnn_disc_states_v3))\n",
    "igs_bg_bnn = jax.vmap(integrated_gradients, in_axes=(None, None, None, 0, None))(bg_bnn_model_v3, params_bg_bnn_v3, gammas_bg_bnn_v3, X_train_outer_v3, 20).squeeze()\n",
    "igs_sorted_bg_bnn = np.argsort(np.mean(np.abs(igs_bg_bnn), axis=0))[::-1]\n",
    "igs_sorted_bg_bnn"
   ],
   "metadata": {
    "collapsed": false,
    "pycharm": {
     "name": "#%%\n"
    }
   }
  },
  {
   "cell_type": "code",
   "execution_count": 267,
   "outputs": [
    {
     "data": {
      "text/plain": "<BarContainer object of 100 artists>"
     },
     "execution_count": 267,
     "metadata": {},
     "output_type": "execute_result"
    },
    {
     "data": {
      "text/plain": "<Figure size 640x480 with 1 Axes>",
      "image/png": "[encoded data removed]"
     },
     "metadata": {},
     "output_type": "display_data"
    }
   ],
   "source": [
    "k = 100\n",
    "plt.bar(np.arange(k), height=np.mean(np.abs(igs_bg_bnn[:,:k]), axis=0))"
   ],
   "metadata": {
    "collapsed": false,
    "pycharm": {
     "name": "#%%\n"
    }
   }
  },
  {
   "cell_type": "code",
   "execution_count": 278,
   "outputs": [
    {
     "data": {
      "text/plain": "[<matplotlib.lines.Line2D at 0x7f4f145b8970>]"
     },
     "execution_count": 278,
     "metadata": {},
     "output_type": "execute_result"
    },
    {
     "data": {
      "text/plain": "<Figure size 640x480 with 1 Axes>",
      "image/png": "[encoded data removed]"
     },
     "metadata": {},
     "output_type": "display_data"
    }
   ],
   "source": [
    "plt.plot(np.mean(np.abs(igs_bg_bnn), axis=0))"
   ],
   "metadata": {
    "collapsed": false,
    "pycharm": {
     "name": "#%%\n"
    }
   }
  },
  {
   "cell_type": "markdown",
   "source": [
    "### Wine data"
   ],
   "metadata": {
    "collapsed": false,
    "pycharm": {
     "name": "#%% md\n"
    }
   }
  },
  {
   "cell_type": "code",
   "execution_count": 285,
   "outputs": [
    {
     "name": "stdout",
     "output_type": "stream",
     "text": [
      "(1599, 12)\n"
     ]
    },
    {
     "data": {
      "text/plain": "   fixed acidity  volatile acidity  citric acid  residual sugar  chlorides  \\\n0            7.4              0.70         0.00             1.9      0.076   \n1            7.8              0.88         0.00             2.6      0.098   \n2            7.8              0.76         0.04             2.3      0.092   \n3           11.2              0.28         0.56             1.9      0.075   \n4            7.4              0.70         0.00             1.9      0.076   \n\n   free sulfur dioxide  total sulfur dioxide  density    pH  sulphates  \\\n0                 11.0                  34.0   0.9978  3.51       0.56   \n1                 25.0                  67.0   0.9968  3.20       0.68   \n2                 15.0                  54.0   0.9970  3.26       0.65   \n3                 17.0                  60.0   0.9980  3.16       0.58   \n4                 11.0                  34.0   0.9978  3.51       0.56   \n\n   alcohol  quality  \n0      9.4        5  \n1      9.8        5  \n2      9.8        5  \n3      9.8        6  \n4      9.4        5  ",
      "text/html": "<div>\n<style scoped>\n    .dataframe tbody tr th:only-of-type {\n        vertical-align: middle;\n    }\n\n    .dataframe tbody tr th {\n        vertical-align: top;\n    }\n\n    .dataframe thead th {\n        text-align: right;\n    }\n</style>\n<table border=\"1\" class=\"dataframe\">\n  <thead>\n    <tr style=\"text-align: right;\">\n      <th></th>\n      <th>fixed acidity</th>\n      <th>volatile acidity</th>\n      <th>citric acid</th>\n      <th>residual sugar</th>\n      <th>chlorides</th>\n      <th>free sulfur dioxide</th>\n      <th>total sulfur dioxide</th>\n      <th>density</th>\n      <th>pH</th>\n      <th>sulphates</th>\n      <th>alcohol</th>\n      <th>quality</th>\n    </tr>\n  </thead>\n  <tbody>\n    <tr>\n      <th>0</th>\n      <td>7.4</td>\n      <td>0.70</td>\n      <td>0.00</td>\n      <td>1.9</td>\n      <td>0.076</td>\n      <td>11.0</td>\n      <td>34.0</td>\n      <td>0.9978</td>\n      <td>3.51</td>\n      <td>0.56</td>\n      <td>9.4</td>\n      <td>5</td>\n    </tr>\n    <tr>\n      <th>1</th>\n      <td>7.8</td>\n      <td>0.88</td>\n      <td>0.00</td>\n      <td>2.6</td>\n      <td>0.098</td>\n      <td>25.0</td>\n      <td>67.0</td>\n      <td>0.9968</td>\n      <td>3.20</td>\n      <td>0.68</td>\n      <td>9.8</td>\n      <td>5</td>\n    </tr>\n    <tr>\n      <th>2</th>\n      <td>7.8</td>\n      <td>0.76</td>\n      <td>0.04</td>\n      <td>2.3</td>\n      <td>0.092</td>\n      <td>15.0</td>\n      <td>54.0</td>\n      <td>0.9970</td>\n      <td>3.26</td>\n      <td>0.65</td>\n      <td>9.8</td>\n      <td>5</td>\n    </tr>\n    <tr>\n      <th>3</th>\n      <td>11.2</td>\n      <td>0.28</td>\n      <td>0.56</td>\n      <td>1.9</td>\n      <td>0.075</td>\n      <td>17.0</td>\n      <td>60.0</td>\n      <td>0.9980</td>\n      <td>3.16</td>\n      <td>0.58</td>\n      <td>9.8</td>\n      <td>6</td>\n    </tr>\n    <tr>\n      <th>4</th>\n      <td>7.4</td>\n      <td>0.70</td>\n      <td>0.00</td>\n      <td>1.9</td>\n      <td>0.076</td>\n      <td>11.0</td>\n      <td>34.0</td>\n      <td>0.9978</td>\n      <td>3.51</td>\n      <td>0.56</td>\n      <td>9.4</td>\n      <td>5</td>\n    </tr>\n  </tbody>\n</table>\n</div>"
     },
     "execution_count": 285,
     "metadata": {},
     "output_type": "execute_result"
    }
   ],
   "source": [
    "wine_df = pd.read_csv(f\"{data_dir}/winequality-red.csv\", delimiter=\";\")\n",
    "print(wine_df.shape)\n",
    "wine_df.head()"
   ],
   "metadata": {
    "collapsed": false,
    "pycharm": {
     "name": "#%%\n"
    }
   }
  },
  {
   "cell_type": "code",
   "execution_count": 311,
   "outputs": [],
   "source": [
    "from sklearn.preprocessing import QuantileTransformer\n",
    "seed = 739\n"
   ],
   "metadata": {
    "collapsed": false,
    "pycharm": {
     "name": "#%%\n"
    }
   }
  },
  {
   "cell_type": "code",
   "execution_count": 353,
   "outputs": [
    {
     "name": "stderr",
     "output_type": "stream",
     "text": [
      "100%|█████████████████████████████████████████████████████████████████████████████████████████| 5/5 [00:37<00:00,  7.44s/it]\n"
     ]
    },
    {
     "data": {
      "text/plain": "0.64703685"
     },
     "execution_count": 353,
     "metadata": {},
     "output_type": "execute_result"
    }
   ],
   "source": [
    "J_zeros = np.zeros((X_train.shape[-1], X_train.shape[-1]))\n",
    "lr_0, disc_lr_0 = 1e-3, 0.5\n",
    "temp = 1.0\n",
    "epochs, num_cycles = 500, 10\n",
    "eta, mu = 1.0, 10.0\n",
    "seeds = [422,261,968,282,739,573,220,413,745,775,482,442,210,423,760,57,769,920,226,196]\n",
    "curr_seeds = seeds[:5]\n",
    "\n",
    "rmse_scores = []\n",
    "\n",
    "for seed in tqdm(curr_seeds):\n",
    "    transformer = QuantileTransformer(random_state=seed, output_distribution='normal')\n",
    "    X_wine_df, y_wine_df = wine_df.iloc[:,:-1], wine_df.iloc[:,-1]\n",
    "    X_train_outer, X_train, X_val, X_test, \\\n",
    "    y_train_outer, y_train, y_val, y_test, (train_indices, val_indices) = preprocess_data(seed, X_wine_df, y_wine_df, transformer, val_size=0.2, test_size=0.2)\n",
    "\n",
    "    outer_data_loader_v2 = NumpyLoader(NumpyData(X_train_outer, y_train_outer), batch_size=256, shuffle=True)\n",
    "    bg_bnn_model, bg_bnn_states, bg_bnn_disc_states = train_bg_bnn_model(seed, outer_data_loader_v2, epochs, num_cycles,\n",
    "                                                                                  0.25, 2, lr_0, disc_lr_0, [50], temp, 1.0,\n",
    "                                                                                  eta, mu, J_zeros, \"relu\", show_pgbar=False)\n",
    "\n",
    "\n",
    "\n",
    "    # print(len(bg_bnn_states))\n",
    "    bnn_bg_rmse_test, bnn_bg_r2_test = score_bg_bnn_model(bg_bnn_model, X_test, y_test, bg_bnn_states, bg_bnn_disc_states)\n",
    "    # print(f\"Test RMSE: {bnn_bg_rmse_test}, r2_score: {bnn_bg_r2_test}\")\n",
    "    rmse_scores.append(bnn_bg_rmse_test)\n",
    "\n",
    "np.mean(rmse_scores)"
   ],
   "metadata": {
    "collapsed": false,
    "pycharm": {
     "name": "#%%\n"
    }
   }
  },
  {
   "cell_type": "code",
   "execution_count": 351,
   "outputs": [
    {
     "data": {
      "text/plain": "[Array(0.67332584, dtype=float32),\n Array(0.58484507, dtype=float32),\n Array(0.65108687, dtype=float32),\n Array(0.6574644, dtype=float32),\n Array(0.6684622, dtype=float32)]"
     },
     "execution_count": 351,
     "metadata": {},
     "output_type": "execute_result"
    }
   ],
   "source": [
    "rmse_scores"
   ],
   "metadata": {
    "collapsed": false,
    "pycharm": {
     "name": "#%%\n"
    }
   }
  },
  {
   "cell_type": "code",
   "execution_count": null,
   "outputs": [],
   "source": [
    "hp_configs = {\"epochs\": 200, \"num_cycles\": 20, \"batch_size\": 256, \"act_fn\": \"swish\",\n",
    "              \"beta\": 0.25, \"lr_0\": 1e-3, \"disc_lr_0\": 0.5, \"hidden_sizes\": [100],\n",
    "              \"temp\": 1.0, \"sigma\": 1.0, \"num_models\": 2}\n",
    "\n",
    "save_dir = f\"{data_dir}/exp_data_5/synthetic/wine/\"\n",
    "\n",
    "VERSION = \"1\"\n",
    "\n",
    "\n",
    "print(len(curr_seeds))\n",
    "cross_val_runs(curr_seeds, X_wine_df, y_wine_df, J_zeros, VERSION, save_dir, saved_config=False, **hp_configs)"
   ],
   "metadata": {
    "collapsed": false,
    "pycharm": {
     "name": "#%%\n"
    }
   }
  }
 ]
}