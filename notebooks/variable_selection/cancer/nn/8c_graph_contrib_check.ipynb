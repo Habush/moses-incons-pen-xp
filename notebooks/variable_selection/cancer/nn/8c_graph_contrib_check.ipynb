{
 "cells": [
  {
   "cell_type": "code",
   "execution_count": 3,
   "outputs": [
    {
     "name": "stdout",
     "output_type": "stream",
     "text": [
      "/home/abdu/bio_ai/moses-incons-pen-xp/notebooks/variable_selection/cancer/nn\n"
     ]
    }
   ],
   "source": [
    "import os\n",
    "os.environ[\"XLA_PYTHON_CLIENT_PREALLOCATE\"] = \"False\"\n",
    "os.environ[\"XLA_PYTHON_CLIENT_ALLOCATOR\"] = \"platform\"\n",
    "SERVER = 1\n",
    "\n",
    "if not SERVER:\n",
    "    %cd /home/xabush/code/snet/moses-incons-pen-xp/notebooks/variable_selection/cancer/nn\n",
    "\n",
    "else:\n",
    "    %cd /home/abdu/bio_ai/moses-incons-pen-xp/notebooks/variable_selection/cancer/nn\n",
    "\n",
    "import pandas as pd\n",
    "import matplotlib.pyplot as plt\n",
    "import tensorflow_probability.substrates.jax as tfp\n",
    "from sklearn.model_selection import train_test_split, cross_val_score, StratifiedKFold, KFold, GridSearchCV\n",
    "from sklearn.preprocessing import StandardScaler\n",
    "tfd = tfp.distributions\n",
    "import jax\n",
    "import haiku as hk\n",
    "import numpy as np\n",
    "import optax\n",
    "from nn_util import *\n",
    "from optim_util import *\n",
    "from bnn_models import *\n",
    "from train_utils import *\n",
    "from data_utils import *\n",
    "from hpo_util import *\n",
    "plt.style.use('ggplot')\n",
    "%load_ext autoreload"
   ],
   "metadata": {
    "collapsed": false,
    "pycharm": {
     "name": "#%%\n"
    }
   }
  },
  {
   "cell_type": "code",
   "execution_count": 4,
   "outputs": [],
   "source": [
    "if SERVER:\n",
    "    data_dir = \"/home/abdu/bio_ai/moses-incons-pen-xp/data\"\n",
    "else:\n",
    "    data_dir = \"/home/xabush/code/snet/moses-incons-pen-xp/data\""
   ],
   "metadata": {
    "collapsed": false,
    "pycharm": {
     "name": "#%%\n"
    }
   }
  },
  {
   "cell_type": "code",
   "execution_count": 5,
   "outputs": [
    {
     "data": {
      "text/plain": "(406, 37265)"
     },
     "execution_count": 5,
     "metadata": {},
     "output_type": "execute_result"
    }
   ],
   "source": [
    "gdsc_dir = f\"{data_dir}/cell_line/gdsc2\"\n",
    "gdsc_exp_tamox_data = pd.read_csv(f\"{gdsc_dir}/tamoxifen_response_gene_expr.csv\")\n",
    "gdsc_exp_tamox_data.shape"
   ],
   "metadata": {
    "collapsed": false,
    "pycharm": {
     "name": "#%%\n"
    }
   }
  },
  {
   "cell_type": "code",
   "execution_count": 6,
   "outputs": [
    {
     "data": {
      "text/plain": "(406, 768)"
     },
     "execution_count": 6,
     "metadata": {},
     "output_type": "execute_result"
    }
   ],
   "source": [
    "X_df, target_df = gdsc_exp_tamox_data.iloc[:,:-1], gdsc_exp_tamox_data.iloc[:,-1]\n",
    "# change to -log10(IC_50) to make it comparable\n",
    "target_df = -np.log10(np.exp(target_df)) # exp b/c the values are natural logs of raw IC_50\n",
    "cancer_driver_genes_df = pd.read_csv(f\"{data_dir}/cell_line/driver_genes_20221018.csv\")\n",
    "cols = X_df.columns.to_list()\n",
    "driver_syms = cancer_driver_genes_df[\"symbol\"].to_list()\n",
    "driver_sym_list = [sym.strip() for sym in cols if sym in driver_syms]\n",
    "X_selected_df = X_df[driver_sym_list]\n",
    "X_selected_df.shape"
   ],
   "metadata": {
    "collapsed": false,
    "pycharm": {
     "name": "#%%\n"
    }
   }
  },
  {
   "cell_type": "code",
   "execution_count": 10,
   "outputs": [
    {
     "name": "stderr",
     "output_type": "stream",
     "text": [
      "/home/abdu/miniconda3/lib/python3.10/site-packages/sklearn/preprocessing/_data.py:2627: UserWarning: n_quantiles (1000) is greater than the total number of samples (324). n_quantiles is set to n_samples.\n",
      "  warnings.warn(\n"
     ]
    }
   ],
   "source": [
    "%autoreload\n",
    "from sklearn.preprocessing import QuantileTransformer, PowerTransformer, RobustScaler, MinMaxScaler, Normalizer, StandardScaler\n",
    "seed = 739\n",
    "transformer = QuantileTransformer(random_state=seed, output_distribution=\"normal\")\n",
    "X_train_outer, X_train, X_val, X_test, \\\n",
    "    y_train_outer, y_train, yval, y_test, _ = preprocess_data(seed, X_selected_df, target_df,\n",
    "                                                              transformer, 0.2, 0.2)"
   ],
   "metadata": {
    "collapsed": false,
    "pycharm": {
     "name": "#%%\n"
    }
   }
  },
  {
   "cell_type": "code",
   "execution_count": 11,
   "outputs": [],
   "source": [
    "from scipy.sparse import csgraph\n",
    "J = np.load(f\"{data_dir}/cell_line/cancer_genes_net.npy\")\n",
    "L = csgraph.laplacian(J, normed=True)"
   ],
   "metadata": {
    "collapsed": false,
    "pycharm": {
     "name": "#%%\n"
    }
   }
  },
  {
   "cell_type": "markdown",
   "source": [
    "### Elasticnet Regression"
   ],
   "metadata": {
    "collapsed": false,
    "pycharm": {
     "name": "#%% md\n"
    }
   }
  },
  {
   "cell_type": "code",
   "execution_count": 20,
   "outputs": [],
   "source": [
    "from scipy import stats\n",
    "def get_rank_test(seed, betas, G, p, n=1000, alternative=\"two-sided\"):\n",
    "    q = betas.T @ G @ betas\n",
    "    # vals = np.full(n, q)\n",
    "    rand_vals = np.zeros(n)\n",
    "    key = jax.random.PRNGKey(seed)\n",
    "    for i in range(n):\n",
    "        _, key = jax.random.split(key, 2)\n",
    "        idxs = jax.random.permutation(key, p)\n",
    "        betas_shuffled = betas[idxs]\n",
    "        rand_vals[i] = betas_shuffled.T @ G @ betas_shuffled\n",
    "\n",
    "    # return stats.wilcoxon(q, rand_vals, alternative=alternative)\n",
    "    return np.searchsorted(rand_vals, q)"
   ],
   "metadata": {
    "collapsed": false,
    "pycharm": {
     "name": "#%%\n"
    }
   }
  },
  {
   "cell_type": "code",
   "execution_count": 8,
   "outputs": [],
   "source": [
    "from sklearn.linear_model import ElasticNet\n",
    "def train_elastic_net_model(seed, X_train, X_test, y_train, y_test):\n",
    "    cv = KFold(n_splits=5, random_state=seed, shuffle=True)\n",
    "    param_grid = {\"alpha\": np.logspace(-3, 2, 20)}\n",
    "    grid_cv = GridSearchCV(estimator=ElasticNet(random_state=seed ,max_iter=10000), param_grid=param_grid,\n",
    "                           verbose=0, scoring=\"r2\", cv=cv).fit(X_train, y_train)\n",
    "    lin_model = ElasticNet(random_state=seed, max_iter=10000, **grid_cv.best_params_)\n",
    "    lin_model.fit(X_train, y_train)\n",
    "    y_test_pred = lin_model.predict(X_test)\n",
    "\n",
    "    test_rmse_score = np.sqrt(np.mean((y_test - y_test_pred)**2))\n",
    "    test_r2_score = r2_score(y_test, y_test_pred)\n",
    "\n",
    "    return lin_model, test_rmse_score, test_r2_score"
   ],
   "metadata": {
    "collapsed": false,
    "pycharm": {
     "name": "#%%\n"
    }
   }
  },
  {
   "cell_type": "code",
   "execution_count": 17,
   "outputs": [
    {
     "name": "stdout",
     "output_type": "stream",
     "text": [
      "Test RMSE: 0.4512041661016546, r2_score: 0.2859926031437129, alpha: 0.23357214690901212\n"
     ]
    }
   ],
   "source": [
    "esnet_model, test_rmse_score, test_r2_score = train_elastic_net_model(seed, X_train_outer, X_test, y_train_outer, y_test)\n",
    "print(f\"Test RMSE: {test_rmse_score}, r2_score: {test_r2_score}, alpha: {esnet_model.alpha}\")"
   ],
   "metadata": {
    "collapsed": false,
    "pycharm": {
     "name": "#%%\n"
    }
   }
  },
  {
   "cell_type": "code",
   "execution_count": 433,
   "outputs": [
    {
     "data": {
      "text/plain": "array([576,  59, 531, 534, 229, 376, 367, 596, 457, 578, 277, 483, 284,\n       365,  87, 580, 218, 619, 178, 239, 530, 733, 644, 324, 150, 587,\n       142, 448, 317])"
     },
     "execution_count": 433,
     "metadata": {},
     "output_type": "execute_result"
    }
   ],
   "source": [
    "nonzero_idxs = np.nonzero(esnet_model.coef_)[0]\n",
    "esnet_selected_fts = np.argsort(np.abs(esnet_model.coef_))[::-1][:len(nonzero_idxs)]\n",
    "esnet_selected_fts"
   ],
   "metadata": {
    "collapsed": false,
    "pycharm": {
     "name": "#%%\n"
    }
   }
  },
  {
   "cell_type": "code",
   "execution_count": 439,
   "outputs": [
    {
     "data": {
      "text/plain": "['BCL11A',\n 'CBFA2T3',\n 'CSF3R',\n 'CYSLTR2',\n 'EGFR',\n 'FAM135B',\n 'FAT2',\n 'FEV',\n 'GPC3',\n 'HGF',\n 'IL7R',\n 'IRS4',\n 'LMO1',\n 'LOX',\n 'MAF',\n 'NKX2-1',\n 'NRG1',\n 'PAX5',\n 'PREX2',\n 'PRF1',\n 'PRKCB',\n 'RGL3',\n 'RGS7',\n 'RHOH',\n 'ROS1',\n 'RSPH10B2',\n 'SFRP4',\n 'SOX17',\n 'WIF1']"
     },
     "execution_count": 439,
     "metadata": {},
     "output_type": "execute_result"
    }
   ],
   "source": [
    "sorted(X_selected_df.iloc[:, esnet_selected_fts].columns.to_list())"
   ],
   "metadata": {
    "collapsed": false,
    "pycharm": {
     "name": "#%%\n"
    }
   }
  },
  {
   "cell_type": "code",
   "execution_count": 21,
   "outputs": [
    {
     "data": {
      "text/plain": "997"
     },
     "execution_count": 21,
     "metadata": {},
     "output_type": "execute_result"
    }
   ],
   "source": [
    "get_rank_test(seed, esnet_model.coef_, J, X_test.shape[-1], alternative=\"greater\")"
   ],
   "metadata": {
    "collapsed": false,
    "pycharm": {
     "name": "#%%\n"
    }
   }
  },
  {
   "cell_type": "code",
   "execution_count": 22,
   "outputs": [
    {
     "name": "stderr",
     "output_type": "stream",
     "text": [
      "100%|███████████████████████████████████████████████████████████████████████████████████████| 20/20 [04:10<00:00, 12.54s/it]\n"
     ]
    }
   ],
   "source": [
    "%autoreload\n",
    "import warnings\n",
    "warnings.filterwarnings(\"ignore\")\n",
    "seeds = [422,261,968,282,739,573,220,413,745,775,482,442,210,423,760,57,769,920,226,196]\n",
    "\n",
    "res_dict = {\"seed\":[], \"test_rmse\": [], \"test_r2_score\": [], \"num_sel_feats\": [] ,\"adj_p_value\": [], \"lap_p_value\" : []}\n",
    "\n",
    "for seed in tqdm(seeds):\n",
    "    transformer = QuantileTransformer(random_state=seed, output_distribution=\"normal\")\n",
    "    X_train_outer, X_train, X_val, X_test,\\\n",
    "    y_train_outer, y_train, yval, y_test, _ = preprocess_data(seed, X_selected_df, target_df,\n",
    "                                                              transformer, val_size=0.2, test_size=0.2)\n",
    "\n",
    "    p = X_train_outer.shape[-1]\n",
    "\n",
    "    esnet_model, test_rmse_score, test_r2_score = train_elastic_net_model(seed, X_train_outer, X_test, y_train_outer, y_test)\n",
    "    nonzero_idxs = np.nonzero(esnet_model.coef_)[0]\n",
    "    rank_adj = get_rank_test(seed, esnet_model.coef_, J, p, alternative=\"greater\")\n",
    "    rank_lap = get_rank_test(seed, esnet_model.coef_, L, p, alternative=\"less\")\n",
    "    res_dict[\"seed\"].append(seed)\n",
    "    res_dict[\"test_rmse\"].append(test_rmse_score)\n",
    "    res_dict[\"test_r2_score\"].append(test_r2_score)\n",
    "    res_dict[\"num_sel_feats\"].append(len(nonzero_idxs))\n",
    "    res_dict[\"adj_p_value\"].append(rank_adj)\n",
    "    res_dict[\"lap_p_value\"].append(rank_lap)"
   ],
   "metadata": {
    "collapsed": false,
    "pycharm": {
     "name": "#%%\n"
    }
   }
  },
  {
   "cell_type": "code",
   "execution_count": 23,
   "outputs": [
    {
     "data": {
      "text/plain": "    seed  test_rmse  test_r2_score  num_sel_feats  adj_p_value  lap_p_value\n0    422   0.447172       0.131775             19         1000            0\n1    261   0.484312       0.173300             20         1000          126\n2    968   0.504478       0.205721             22         1000            0\n3    282   0.523390       0.214603             24          741          142\n4    739   0.452662       0.164775             29          750            0\n5    573   0.489139       0.262072             24          991           32\n6    220   0.442798       0.255190             21         1000            0\n7    413   0.451204       0.285993             23          997           95\n8    745   0.563548       0.124755             26         1000          501\n9    775   0.492953       0.250564             22          469            1\n10   482   0.458805       0.220869             24         1000          251\n11   442   0.517861       0.196378             30         1000           34\n12   210   0.478674       0.083252             24         1000            2\n13   423   0.433225       0.305827             23          742            0\n14   760   0.556899       0.207240             27          664          134\n15    57   0.460737       0.144988             22         1000            0\n16   769   0.525779       0.266891             21         1000          506\n17   920   0.488477       0.270406             22         1000            0\n18   226   0.560361       0.189761             22         1000          580\n19   196   0.476231       0.241179             29         1000          158",
      "text/html": "<div>\n<style scoped>\n    .dataframe tbody tr th:only-of-type {\n        vertical-align: middle;\n    }\n\n    .dataframe tbody tr th {\n        vertical-align: top;\n    }\n\n    .dataframe thead th {\n        text-align: right;\n    }\n</style>\n<table border=\"1\" class=\"dataframe\">\n  <thead>\n    <tr style=\"text-align: right;\">\n      <th></th>\n      <th>seed</th>\n      <th>test_rmse</th>\n      <th>test_r2_score</th>\n      <th>num_sel_feats</th>\n      <th>adj_p_value</th>\n      <th>lap_p_value</th>\n    </tr>\n  </thead>\n  <tbody>\n    <tr>\n      <th>0</th>\n      <td>422</td>\n      <td>0.447172</td>\n      <td>0.131775</td>\n      <td>19</td>\n      <td>1000</td>\n      <td>0</td>\n    </tr>\n    <tr>\n      <th>1</th>\n      <td>261</td>\n      <td>0.484312</td>\n      <td>0.173300</td>\n      <td>20</td>\n      <td>1000</td>\n      <td>126</td>\n    </tr>\n    <tr>\n      <th>2</th>\n      <td>968</td>\n      <td>0.504478</td>\n      <td>0.205721</td>\n      <td>22</td>\n      <td>1000</td>\n      <td>0</td>\n    </tr>\n    <tr>\n      <th>3</th>\n      <td>282</td>\n      <td>0.523390</td>\n      <td>0.214603</td>\n      <td>24</td>\n      <td>741</td>\n      <td>142</td>\n    </tr>\n    <tr>\n      <th>4</th>\n      <td>739</td>\n      <td>0.452662</td>\n      <td>0.164775</td>\n      <td>29</td>\n      <td>750</td>\n      <td>0</td>\n    </tr>\n    <tr>\n      <th>5</th>\n      <td>573</td>\n      <td>0.489139</td>\n      <td>0.262072</td>\n      <td>24</td>\n      <td>991</td>\n      <td>32</td>\n    </tr>\n    <tr>\n      <th>6</th>\n      <td>220</td>\n      <td>0.442798</td>\n      <td>0.255190</td>\n      <td>21</td>\n      <td>1000</td>\n      <td>0</td>\n    </tr>\n    <tr>\n      <th>7</th>\n      <td>413</td>\n      <td>0.451204</td>\n      <td>0.285993</td>\n      <td>23</td>\n      <td>997</td>\n      <td>95</td>\n    </tr>\n    <tr>\n      <th>8</th>\n      <td>745</td>\n      <td>0.563548</td>\n      <td>0.124755</td>\n      <td>26</td>\n      <td>1000</td>\n      <td>501</td>\n    </tr>\n    <tr>\n      <th>9</th>\n      <td>775</td>\n      <td>0.492953</td>\n      <td>0.250564</td>\n      <td>22</td>\n      <td>469</td>\n      <td>1</td>\n    </tr>\n    <tr>\n      <th>10</th>\n      <td>482</td>\n      <td>0.458805</td>\n      <td>0.220869</td>\n      <td>24</td>\n      <td>1000</td>\n      <td>251</td>\n    </tr>\n    <tr>\n      <th>11</th>\n      <td>442</td>\n      <td>0.517861</td>\n      <td>0.196378</td>\n      <td>30</td>\n      <td>1000</td>\n      <td>34</td>\n    </tr>\n    <tr>\n      <th>12</th>\n      <td>210</td>\n      <td>0.478674</td>\n      <td>0.083252</td>\n      <td>24</td>\n      <td>1000</td>\n      <td>2</td>\n    </tr>\n    <tr>\n      <th>13</th>\n      <td>423</td>\n      <td>0.433225</td>\n      <td>0.305827</td>\n      <td>23</td>\n      <td>742</td>\n      <td>0</td>\n    </tr>\n    <tr>\n      <th>14</th>\n      <td>760</td>\n      <td>0.556899</td>\n      <td>0.207240</td>\n      <td>27</td>\n      <td>664</td>\n      <td>134</td>\n    </tr>\n    <tr>\n      <th>15</th>\n      <td>57</td>\n      <td>0.460737</td>\n      <td>0.144988</td>\n      <td>22</td>\n      <td>1000</td>\n      <td>0</td>\n    </tr>\n    <tr>\n      <th>16</th>\n      <td>769</td>\n      <td>0.525779</td>\n      <td>0.266891</td>\n      <td>21</td>\n      <td>1000</td>\n      <td>506</td>\n    </tr>\n    <tr>\n      <th>17</th>\n      <td>920</td>\n      <td>0.488477</td>\n      <td>0.270406</td>\n      <td>22</td>\n      <td>1000</td>\n      <td>0</td>\n    </tr>\n    <tr>\n      <th>18</th>\n      <td>226</td>\n      <td>0.560361</td>\n      <td>0.189761</td>\n      <td>22</td>\n      <td>1000</td>\n      <td>580</td>\n    </tr>\n    <tr>\n      <th>19</th>\n      <td>196</td>\n      <td>0.476231</td>\n      <td>0.241179</td>\n      <td>29</td>\n      <td>1000</td>\n      <td>158</td>\n    </tr>\n  </tbody>\n</table>\n</div>"
     },
     "execution_count": 23,
     "metadata": {},
     "output_type": "execute_result"
    }
   ],
   "source": [
    "res_df = pd.DataFrame(res_dict)\n",
    "res_df"
   ],
   "metadata": {
    "collapsed": false,
    "pycharm": {
     "name": "#%%\n"
    }
   }
  },
  {
   "cell_type": "code",
   "execution_count": 428,
   "outputs": [
    {
     "data": {
      "text/plain": "test_rmse        0.490435\ntest_r2_score    0.209777\ndtype: float64"
     },
     "execution_count": 428,
     "metadata": {},
     "output_type": "execute_result"
    }
   ],
   "source": [
    "res_df[[\"test_rmse\", \"test_r2_score\"]].mean()"
   ],
   "metadata": {
    "collapsed": false,
    "pycharm": {
     "name": "#%%\n"
    }
   }
  },
  {
   "cell_type": "code",
   "execution_count": null,
   "outputs": [],
   "source": [],
   "metadata": {
    "collapsed": false,
    "pycharm": {
     "name": "#%%\n"
    }
   }
  }
 ],
 "metadata": {
  "kernelspec": {
   "display_name": "Python 3",
   "language": "python",
   "name": "python3"
  },
  "language_info": {
   "codemirror_mode": {
    "name": "ipython",
    "version": 2
   },
   "file_extension": ".py",
   "mimetype": "text/x-python",
   "name": "python",
   "nbconvert_exporter": "python",
   "pygments_lexer": "ipython2",
   "version": "2.7.6"
  }
 },
 "nbformat": 4,
 "nbformat_minor": 0
}