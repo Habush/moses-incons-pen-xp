{
 "cells": [
  {
   "cell_type": "code",
   "execution_count": 1,
   "metadata": {
    "collapsed": true,
    "pycharm": {
     "name": "#%%\n"
    }
   },
   "outputs": [
    {
     "name": "stdout",
     "output_type": "stream",
     "text": [
      "Looking in links: https://storage.googleapis.com/jax-releases/jax_cuda_releases.html\n",
      "Collecting jaxlib[cuda112]==0.3.15\n",
      "  Downloading https://storage.googleapis.com/jax-releases/cuda11/jaxlib-0.3.15%2Bcuda11.cudnn82-cp39-none-manylinux2014_x86_64.whl (162.7 MB)\n",
      "\u001b[2K     \u001b[90m━━━━━━━━━━━━━━━━━━━━━━━━━━━━━━━━━━━━━━\u001b[0m \u001b[32m162.7/162.7 MB\u001b[0m \u001b[31m13.5 MB/s\u001b[0m eta \u001b[36m0:00:00\u001b[0m00:01\u001b[0m00:01\u001b[0m\n",
      "\u001b[?25h\u001b[33mWARNING: jaxlib 0.3.15+cuda11.cudnn82 does not provide the extra 'cuda112'\u001b[0m\u001b[33m\n",
      "\u001b[0mRequirement already satisfied: scipy>=1.5 in /usr/local/lib/python3.9/dist-packages (from jaxlib[cuda112]==0.3.15) (1.8.1)\n",
      "Requirement already satisfied: numpy>=1.19 in /usr/local/lib/python3.9/dist-packages (from jaxlib[cuda112]==0.3.15) (1.23.1)\n",
      "Requirement already satisfied: absl-py in /usr/local/lib/python3.9/dist-packages (from jaxlib[cuda112]==0.3.15) (1.1.0)\n",
      "Installing collected packages: jaxlib\n",
      "  Attempting uninstall: jaxlib\n",
      "    Found existing installation: jaxlib 0.3.8+cuda11.cudnn82\n",
      "    Uninstalling jaxlib-0.3.8+cuda11.cudnn82:\n",
      "      Successfully uninstalled jaxlib-0.3.8+cuda11.cudnn82\n",
      "Successfully installed jaxlib-0.3.15+cuda11.cudnn82\n",
      "\u001b[33mWARNING: Running pip as the 'root' user can result in broken permissions and conflicting behaviour with the system package manager. It is recommended to use a virtual environment instead: https://pip.pypa.io/warnings/venv\u001b[0m\u001b[33m\n",
      "\u001b[0mLooking in links: https://storage.googleapis.com/jax-releases/jax_cuda_releases.html\n",
      "Collecting jax[cuda112]==0.3.17\n",
      "  Downloading jax-0.3.17.tar.gz (1.1 MB)\n",
      "\u001b[2K     \u001b[90m━━━━━━━━━━━━━━━━━━━━━━━━━━━━━━━━━━━━━━━━\u001b[0m \u001b[32m1.1/1.1 MB\u001b[0m \u001b[31m72.8 MB/s\u001b[0m eta \u001b[36m0:00:00\u001b[0m\n",
      "\u001b[?25h  Preparing metadata (setup.py) ... \u001b[?25ldone\n",
      "\u001b[33mWARNING: jax 0.3.17 does not provide the extra 'cuda112'\u001b[0m\u001b[33m\n",
      "\u001b[0m\u001b[?25hRequirement already satisfied: absl-py in /usr/local/lib/python3.9/dist-packages (from jax[cuda112]==0.3.17) (1.1.0)\n",
      "Requirement already satisfied: numpy>=1.20 in /usr/local/lib/python3.9/dist-packages (from jax[cuda112]==0.3.17) (1.23.1)\n",
      "Requirement already satisfied: opt_einsum in /usr/local/lib/python3.9/dist-packages (from jax[cuda112]==0.3.17) (3.3.0)\n",
      "Requirement already satisfied: scipy>=1.5 in /usr/local/lib/python3.9/dist-packages (from jax[cuda112]==0.3.17) (1.8.1)\n",
      "Requirement already satisfied: typing_extensions in /usr/local/lib/python3.9/dist-packages (from jax[cuda112]==0.3.17) (4.3.0)\n",
      "Requirement already satisfied: etils[epath] in /usr/local/lib/python3.9/dist-packages (from jax[cuda112]==0.3.17) (0.6.0)\n",
      "Requirement already satisfied: importlib_resources in /usr/local/lib/python3.9/dist-packages (from etils[epath]->jax[cuda112]==0.3.17) (5.8.0)\n",
      "Requirement already satisfied: zipp in /usr/local/lib/python3.9/dist-packages (from etils[epath]->jax[cuda112]==0.3.17) (3.8.1)\n",
      "Building wheels for collected packages: jax\n",
      "  Building wheel for jax (setup.py) ... \u001b[?25ldone\n",
      "\u001b[?25h  Created wheel for jax: filename=jax-0.3.17-py3-none-any.whl size=1217849 sha256=5be9bba26b84ae62326be878a41fbf8864e0e215620001048a3e96a5c0eebe51\n",
      "  Stored in directory: /root/.cache/pip/wheels/36/cd/88/2d90379f7549c27d5654e893f74210f30f0c645c23a71e6f56\n",
      "Successfully built jax\n",
      "Installing collected packages: jax\n",
      "  Attempting uninstall: jax\n",
      "    Found existing installation: jax 0.3.14\n",
      "    Uninstalling jax-0.3.14:\n",
      "      Successfully uninstalled jax-0.3.14\n",
      "Successfully installed jax-0.3.17\n",
      "\u001b[33mWARNING: Running pip as the 'root' user can result in broken permissions and conflicting behaviour with the system package manager. It is recommended to use a virtual environment instead: https://pip.pypa.io/warnings/venv\u001b[0m\u001b[33m\n",
      "\u001b[0mCollecting optax\n",
      "  Downloading optax-0.1.4-py3-none-any.whl (154 kB)\n",
      "\u001b[2K     \u001b[90m━━━━━━━━━━━━━━━━━━━━━━━━━━━━━━━━━━━━━━\u001b[0m \u001b[32m154.9/154.9 kB\u001b[0m \u001b[31m27.4 MB/s\u001b[0m eta \u001b[36m0:00:00\u001b[0m\n",
      "\u001b[?25hRequirement already satisfied: numpy>=1.18.0 in /usr/local/lib/python3.9/dist-packages (from optax) (1.23.1)\n",
      "Requirement already satisfied: absl-py>=0.7.1 in /usr/local/lib/python3.9/dist-packages (from optax) (1.1.0)\n",
      "Collecting chex>=0.1.5\n",
      "  Downloading chex-0.1.5-py3-none-any.whl (85 kB)\n",
      "\u001b[2K     \u001b[90m━━━━━━━━━━━━━━━━━━━━━━━━━━━━━━━━━━━━━━━━\u001b[0m \u001b[32m85.3/85.3 kB\u001b[0m \u001b[31m27.5 MB/s\u001b[0m eta \u001b[36m0:00:00\u001b[0m\n",
      "\u001b[?25hRequirement already satisfied: jaxlib>=0.1.37 in /usr/local/lib/python3.9/dist-packages (from optax) (0.3.15+cuda11.cudnn82)\n",
      "Requirement already satisfied: typing-extensions>=3.10.0 in /usr/local/lib/python3.9/dist-packages (from optax) (4.3.0)\n",
      "Requirement already satisfied: jax>=0.1.55 in /usr/local/lib/python3.9/dist-packages (from optax) (0.3.17)\n",
      "Collecting toolz>=0.9.0\n",
      "  Downloading toolz-0.12.0-py3-none-any.whl (55 kB)\n",
      "\u001b[2K     \u001b[90m━━━━━━━━━━━━━━━━━━━━━━━━━━━━━━━━━━━━━━━━\u001b[0m \u001b[32m55.8/55.8 kB\u001b[0m \u001b[31m19.3 MB/s\u001b[0m eta \u001b[36m0:00:00\u001b[0m\n",
      "\u001b[?25hCollecting dm-tree>=0.1.5\n",
      "  Downloading dm_tree-0.1.7-cp39-cp39-manylinux_2_12_x86_64.manylinux2010_x86_64.whl (142 kB)\n",
      "\u001b[2K     \u001b[90m━━━━━━━━━━━━━━━━━━━━━━━━━━━━━━━━━━━━━━\u001b[0m \u001b[32m142.7/142.7 kB\u001b[0m \u001b[31m39.5 MB/s\u001b[0m eta \u001b[36m0:00:00\u001b[0m\n",
      "\u001b[?25hRequirement already satisfied: opt-einsum in /usr/local/lib/python3.9/dist-packages (from jax>=0.1.55->optax) (3.3.0)\n",
      "Requirement already satisfied: scipy>=1.5 in /usr/local/lib/python3.9/dist-packages (from jax>=0.1.55->optax) (1.8.1)\n",
      "Requirement already satisfied: etils[epath] in /usr/local/lib/python3.9/dist-packages (from jax>=0.1.55->optax) (0.6.0)\n",
      "Requirement already satisfied: importlib_resources in /usr/local/lib/python3.9/dist-packages (from etils[epath]->jax>=0.1.55->optax) (5.8.0)\n",
      "Requirement already satisfied: zipp in /usr/local/lib/python3.9/dist-packages (from etils[epath]->jax>=0.1.55->optax) (3.8.1)\n",
      "Installing collected packages: dm-tree, toolz, chex, optax\n",
      "Successfully installed chex-0.1.5 dm-tree-0.1.7 optax-0.1.4 toolz-0.12.0\n",
      "\u001b[33mWARNING: Running pip as the 'root' user can result in broken permissions and conflicting behaviour with the system package manager. It is recommended to use a virtual environment instead: https://pip.pypa.io/warnings/venv\u001b[0m\u001b[33m\n",
      "\u001b[0mCollecting dm-haiku\n",
      "  Downloading dm_haiku-0.0.9-py3-none-any.whl (352 kB)\n",
      "\u001b[2K     \u001b[90m━━━━━━━━━━━━━━━━━━━━━━━━━━━━━━━━━━━━━━\u001b[0m \u001b[32m352.1/352.1 kB\u001b[0m \u001b[31m35.9 MB/s\u001b[0m eta \u001b[36m0:00:00\u001b[0m\n",
      "\u001b[?25hCollecting tabulate>=0.8.9\n",
      "  Downloading tabulate-0.9.0-py3-none-any.whl (35 kB)\n",
      "Collecting jmp>=0.0.2\n",
      "  Downloading jmp-0.0.2-py3-none-any.whl (16 kB)\n",
      "Requirement already satisfied: absl-py>=0.7.1 in /usr/local/lib/python3.9/dist-packages (from dm-haiku) (1.1.0)\n",
      "Requirement already satisfied: numpy>=1.18.0 in /usr/local/lib/python3.9/dist-packages (from dm-haiku) (1.23.1)\n",
      "Installing collected packages: tabulate, jmp, dm-haiku\n",
      "Successfully installed dm-haiku-0.0.9 jmp-0.0.2 tabulate-0.9.0\n",
      "\u001b[33mWARNING: Running pip as the 'root' user can result in broken permissions and conflicting behaviour with the system package manager. It is recommended to use a virtual environment instead: https://pip.pypa.io/warnings/venv\u001b[0m\u001b[33m\n",
      "\u001b[0mCollecting tensorflow-probability==0.17\n",
      "  Downloading tensorflow_probability-0.17.0-py2.py3-none-any.whl (6.5 MB)\n",
      "\u001b[2K     \u001b[90m━━━━━━━━━━━━━━━━━━━━━━━━━━━━━━━━━━━━━━━━\u001b[0m \u001b[32m6.5/6.5 MB\u001b[0m \u001b[31m111.6 MB/s\u001b[0m eta \u001b[36m0:00:00\u001b[0m00:01\u001b[0m\n",
      "\u001b[?25hRequirement already satisfied: six>=1.10.0 in /usr/lib/python3/dist-packages (from tensorflow-probability==0.17) (1.14.0)\n",
      "Requirement already satisfied: numpy>=1.13.3 in /usr/local/lib/python3.9/dist-packages (from tensorflow-probability==0.17) (1.23.1)\n",
      "Requirement already satisfied: dm-tree in /usr/local/lib/python3.9/dist-packages (from tensorflow-probability==0.17) (0.1.7)\n",
      "Requirement already satisfied: decorator in /usr/local/lib/python3.9/dist-packages (from tensorflow-probability==0.17) (5.1.1)\n",
      "Requirement already satisfied: cloudpickle>=1.3 in /usr/local/lib/python3.9/dist-packages (from tensorflow-probability==0.17) (2.1.0)\n",
      "Requirement already satisfied: absl-py in /usr/local/lib/python3.9/dist-packages (from tensorflow-probability==0.17) (1.1.0)\n",
      "Requirement already satisfied: gast>=0.3.2 in /usr/local/lib/python3.9/dist-packages (from tensorflow-probability==0.17) (0.4.0)\n",
      "Installing collected packages: tensorflow-probability\n",
      "Successfully installed tensorflow-probability-0.17.0\n",
      "\u001b[33mWARNING: Running pip as the 'root' user can result in broken permissions and conflicting behaviour with the system package manager. It is recommended to use a virtual environment instead: https://pip.pypa.io/warnings/venv\u001b[0m\u001b[33m\n",
      "\u001b[0mCollecting git+https://github.com/blackjax-devs/blackjax.git\n",
      "  Cloning https://github.com/blackjax-devs/blackjax.git to /tmp/pip-req-build-2ywix656\n",
      "  Running command git clone --filter=blob:none --quiet https://github.com/blackjax-devs/blackjax.git /tmp/pip-req-build-2ywix656\n",
      "  Resolved https://github.com/blackjax-devs/blackjax.git to commit bfc78314114c690669ae043fdca61cb83ce47ee1\n",
      "  Preparing metadata (setup.py) ... \u001b[?25ldone\n",
      "\u001b[?25hCollecting fastprogress>=0.2.0\n",
      "  Downloading fastprogress-1.0.3-py3-none-any.whl (12 kB)\n",
      "Requirement already satisfied: jax>=0.3.13 in /usr/local/lib/python3.9/dist-packages (from blackjax==0.9.6+71.gbfc7831) (0.3.17)\n",
      "Requirement already satisfied: jaxlib>=0.3.10 in /usr/local/lib/python3.9/dist-packages (from blackjax==0.9.6+71.gbfc7831) (0.3.15+cuda11.cudnn82)\n",
      "Collecting jaxopt>=0.5.5\n",
      "  Downloading jaxopt-0.5.5-py3-none-any.whl (132 kB)\n",
      "\u001b[2K     \u001b[90m━━━━━━━━━━━━━━━━━━━━━━━━━━━━━━━━━━━━━━\u001b[0m \u001b[32m132.3/132.3 kB\u001b[0m \u001b[31m26.8 MB/s\u001b[0m eta \u001b[36m0:00:00\u001b[0m\n",
      "\u001b[?25hRequirement already satisfied: opt-einsum in /usr/local/lib/python3.9/dist-packages (from jax>=0.3.13->blackjax==0.9.6+71.gbfc7831) (3.3.0)\n",
      "Requirement already satisfied: etils[epath] in /usr/local/lib/python3.9/dist-packages (from jax>=0.3.13->blackjax==0.9.6+71.gbfc7831) (0.6.0)\n",
      "Requirement already satisfied: scipy>=1.5 in /usr/local/lib/python3.9/dist-packages (from jax>=0.3.13->blackjax==0.9.6+71.gbfc7831) (1.8.1)\n",
      "Requirement already satisfied: typing-extensions in /usr/local/lib/python3.9/dist-packages (from jax>=0.3.13->blackjax==0.9.6+71.gbfc7831) (4.3.0)\n",
      "Requirement already satisfied: numpy>=1.20 in /usr/local/lib/python3.9/dist-packages (from jax>=0.3.13->blackjax==0.9.6+71.gbfc7831) (1.23.1)\n",
      "Requirement already satisfied: absl-py in /usr/local/lib/python3.9/dist-packages (from jax>=0.3.13->blackjax==0.9.6+71.gbfc7831) (1.1.0)\n",
      "Requirement already satisfied: matplotlib>=2.0.1 in /usr/local/lib/python3.9/dist-packages (from jaxopt>=0.5.5->blackjax==0.9.6+71.gbfc7831) (3.5.2)\n",
      "Requirement already satisfied: packaging>=20.0 in /usr/local/lib/python3.9/dist-packages (from matplotlib>=2.0.1->jaxopt>=0.5.5->blackjax==0.9.6+71.gbfc7831) (21.3)\n",
      "Requirement already satisfied: python-dateutil>=2.7 in /usr/local/lib/python3.9/dist-packages (from matplotlib>=2.0.1->jaxopt>=0.5.5->blackjax==0.9.6+71.gbfc7831) (2.8.2)\n",
      "Requirement already satisfied: fonttools>=4.22.0 in /usr/local/lib/python3.9/dist-packages (from matplotlib>=2.0.1->jaxopt>=0.5.5->blackjax==0.9.6+71.gbfc7831) (4.34.4)\n",
      "Requirement already satisfied: pyparsing>=2.2.1 in /usr/local/lib/python3.9/dist-packages (from matplotlib>=2.0.1->jaxopt>=0.5.5->blackjax==0.9.6+71.gbfc7831) (3.0.9)\n",
      "Requirement already satisfied: cycler>=0.10 in /usr/local/lib/python3.9/dist-packages (from matplotlib>=2.0.1->jaxopt>=0.5.5->blackjax==0.9.6+71.gbfc7831) (0.11.0)\n",
      "Requirement already satisfied: pillow>=6.2.0 in /usr/local/lib/python3.9/dist-packages (from matplotlib>=2.0.1->jaxopt>=0.5.5->blackjax==0.9.6+71.gbfc7831) (9.2.0)\n",
      "Requirement already satisfied: kiwisolver>=1.0.1 in /usr/local/lib/python3.9/dist-packages (from matplotlib>=2.0.1->jaxopt>=0.5.5->blackjax==0.9.6+71.gbfc7831) (1.4.3)\n",
      "Requirement already satisfied: importlib_resources in /usr/local/lib/python3.9/dist-packages (from etils[epath]->jax>=0.3.13->blackjax==0.9.6+71.gbfc7831) (5.8.0)\n",
      "Requirement already satisfied: zipp in /usr/local/lib/python3.9/dist-packages (from etils[epath]->jax>=0.3.13->blackjax==0.9.6+71.gbfc7831) (3.8.1)\n",
      "Requirement already satisfied: six>=1.5 in /usr/lib/python3/dist-packages (from python-dateutil>=2.7->matplotlib>=2.0.1->jaxopt>=0.5.5->blackjax==0.9.6+71.gbfc7831) (1.14.0)\n",
      "Building wheels for collected packages: blackjax\n",
      "  Building wheel for blackjax (setup.py) ... \u001b[?25ldone\n",
      "\u001b[?25h  Created wheel for blackjax: filename=blackjax-0.9.6+71.gbfc7831-py3-none-any.whl size=126518 sha256=db6eb06b2e6ce101d542cc9069b7084e5f26a9e7efc769449d93d829280018fd\n",
      "  Stored in directory: /tmp/pip-ephem-wheel-cache-68p_ofyc/wheels/e6/1e/f6/a6e0408a4e374b9cdb789b1769716b4ed61eef520a2dd702b1\n",
      "Successfully built blackjax\n",
      "Installing collected packages: fastprogress, jaxopt, blackjax\n",
      "Successfully installed blackjax-0.9.6+71.gbfc7831 fastprogress-1.0.3 jaxopt-0.5.5\n",
      "\u001b[33mWARNING: Running pip as the 'root' user can result in broken permissions and conflicting behaviour with the system package manager. It is recommended to use a virtual environment instead: https://pip.pypa.io/warnings/venv\u001b[0m\u001b[33m\n",
      "Get:1 https://deb.nodesource.com/node_16.x focal InRelease [4583 B]\n",
      "Get:2 https://deb.nodesource.com/node_16.x focal/main amd64 Packages [774 B]   \u001b[0m\u001b[33m\u001b[33m\n",
      "Get:3 http://security.ubuntu.com/ubuntu focal-security InRelease [114 kB]      \u001b[0m\u001b[33m\n",
      "Get:4 http://ppa.launchpad.net/deadsnakes/ppa/ubuntu focal InRelease [18.1 kB] \u001b[0m\n",
      "Get:5 http://archive.ubuntu.com/ubuntu focal InRelease [265 kB]                \u001b[0m\n",
      "Get:6 http://ppa.launchpad.net/deadsnakes/ppa/ubuntu focal/main amd64 Packages [29.5 kB]\u001b[33m\u001b[33m\u001b[33m\n",
      "Get:7 http://security.ubuntu.com/ubuntu focal-security/multiverse amd64 Packages [27.5 kB]\n",
      "Get:8 http://archive.ubuntu.com/ubuntu focal-updates InRelease [114 kB]0m\u001b[33m \u001b[0m\u001b[33m\u001b[33m\n",
      "Get:9 http://security.ubuntu.com/ubuntu focal-security/universe amd64 Packages [967 kB]\n",
      "Get:10 http://archive.ubuntu.com/ubuntu focal-backports InRelease [108 kB]\n",
      "Get:11 http://archive.ubuntu.com/ubuntu focal/universe amd64 Packages [11.3 MB]\n",
      "Get:12 http://security.ubuntu.com/ubuntu focal-security/main amd64 Packages [2314 kB]\n",
      "Get:13 http://security.ubuntu.com/ubuntu focal-security/restricted amd64 Packages [1712 kB]3m\n",
      "Get:14 http://archive.ubuntu.com/ubuntu focal/multiverse amd64 Packages [177 kB][0m\u001b[33m\u001b[33m\u001b[33m\u001b[33m\n",
      "Get:15 http://archive.ubuntu.com/ubuntu focal/main amd64 Packages [1275 kB]\n",
      "Get:16 http://archive.ubuntu.com/ubuntu focal/restricted amd64 Packages [33.4 kB]\n",
      "Get:17 http://archive.ubuntu.com/ubuntu focal-updates/multiverse amd64 Packages [30.2 kB]\n",
      "Get:18 http://archive.ubuntu.com/ubuntu focal-updates/main amd64 Packages [2786 kB]\n",
      "Get:19 http://archive.ubuntu.com/ubuntu focal-updates/restricted amd64 Packages [1829 kB]\n",
      "Get:20 http://archive.ubuntu.com/ubuntu focal-updates/universe amd64 Packages [1268 kB]\n",
      "Get:21 http://archive.ubuntu.com/ubuntu focal-backports/universe amd64 Packages [27.4 kB]\n",
      "Get:22 http://archive.ubuntu.com/ubuntu focal-backports/main amd64 Packages [55.2 kB]\n",
      "Fetched 24.5 MB in 2s (10.7 MB/s)[33m                       \u001b[0m\u001b[33m\u001b[33m\u001b[33m\u001b[33m\u001b[33m\u001b[33m\n",
      "Reading package lists... Done\n",
      "Building dependency tree       \n",
      "Reading state information... Done\n",
      "104 packages can be upgraded. Run 'apt list --upgradable' to see them.\n",
      "Reading package lists... Done\n",
      "Building dependency tree       \n",
      "Reading state information... Done\n",
      "The following additional packages will be installed:\n",
      "  fonts-liberation libann0 libcdt5 libcgraph6 libgts-0.7-5 libgts-bin libgvc6\n",
      "  libgvpr2 liblab-gamut1 libpathplan4\n",
      "Suggested packages:\n",
      "  gsfonts graphviz-doc\n",
      "The following NEW packages will be installed:\n",
      "  fonts-liberation graphviz libann0 libcdt5 libcgraph6 libgts-0.7-5 libgts-bin\n",
      "  libgvc6 libgvpr2 liblab-gamut1 libpathplan4\n",
      "0 upgraded, 11 newly installed, 0 to remove and 104 not upgraded.\n",
      "Need to get 2701 kB of archives.\n",
      "After this operation, 11.3 MB of additional disk space will be used.\n",
      "Get:1 http://archive.ubuntu.com/ubuntu focal/main amd64 fonts-liberation all 1:1.07.4-11 [822 kB]\n",
      "Get:2 http://archive.ubuntu.com/ubuntu focal/universe amd64 libann0 amd64 1.1.2+doc-7build1 [26.0 kB]\n",
      "Get:3 http://archive.ubuntu.com/ubuntu focal/universe amd64 libcdt5 amd64 2.42.2-3build2 [18.7 kB]\n",
      "Get:4 http://archive.ubuntu.com/ubuntu focal/universe amd64 libcgraph6 amd64 2.42.2-3build2 [41.3 kB]\n",
      "Get:5 http://archive.ubuntu.com/ubuntu focal/universe amd64 libgts-0.7-5 amd64 0.7.6+darcs121130-4 [150 kB]\n",
      "Get:6 http://archive.ubuntu.com/ubuntu focal/universe amd64 libpathplan4 amd64 2.42.2-3build2 [21.9 kB]\n",
      "Get:7 http://archive.ubuntu.com/ubuntu focal/universe amd64 libgvc6 amd64 2.42.2-3build2 [647 kB]\n",
      "Get:8 http://archive.ubuntu.com/ubuntu focal/universe amd64 libgvpr2 amd64 2.42.2-3build2 [167 kB]\n",
      "Get:9 http://archive.ubuntu.com/ubuntu focal/universe amd64 liblab-gamut1 amd64 2.42.2-3build2 [177 kB]\n",
      "Get:10 http://archive.ubuntu.com/ubuntu focal/universe amd64 graphviz amd64 2.42.2-3build2 [590 kB]\n",
      "Get:11 http://archive.ubuntu.com/ubuntu focal/universe amd64 libgts-bin amd64 0.7.6+darcs121130-4 [41.3 kB]\n",
      "Fetched 2701 kB in 0s (25.1 MB/s)      \u001b[0m\u001b[33m\n",
      "\n",
      "\u001b7\u001b[0;23r\u001b8\u001b[1ASelecting previously unselected package fonts-liberation.\n",
      "(Reading database ... 78556 files and directories currently installed.)\n",
      "Preparing to unpack .../00-fonts-liberation_1%3a1.07.4-11_all.deb ...\n",
      "\u001b7\u001b[24;0f\u001b[42m\u001b[30mProgress: [  0%]\u001b[49m\u001b[39m [..........................................................] \u001b8\u001b7\u001b[24;0f\u001b[42m\u001b[30mProgress: [  2%]\u001b[49m\u001b[39m [#.........................................................] \u001b8Unpacking fonts-liberation (1:1.07.4-11) ...\n",
      "\u001b7\u001b[24;0f\u001b[42m\u001b[30mProgress: [  4%]\u001b[49m\u001b[39m [##........................................................] \u001b8Selecting previously unselected package libann0.\n",
      "Preparing to unpack .../01-libann0_1.1.2+doc-7build1_amd64.deb ...\n",
      "\u001b7\u001b[24;0f\u001b[42m\u001b[30mProgress: [  7%]\u001b[49m\u001b[39m [###.......................................................] \u001b8Unpacking libann0 (1.1.2+doc-7build1) ...\n",
      "\u001b7\u001b[24;0f\u001b[42m\u001b[30mProgress: [  9%]\u001b[49m\u001b[39m [#####.....................................................] \u001b8Selecting previously unselected package libcdt5:amd64.\n",
      "Preparing to unpack .../02-libcdt5_2.42.2-3build2_amd64.deb ...\n",
      "\u001b7\u001b[24;0f\u001b[42m\u001b[30mProgress: [ 11%]\u001b[49m\u001b[39m [######....................................................] \u001b8Unpacking libcdt5:amd64 (2.42.2-3build2) ...\n",
      "\u001b7\u001b[24;0f\u001b[42m\u001b[30mProgress: [ 13%]\u001b[49m\u001b[39m [#######...................................................] \u001b8Selecting previously unselected package libcgraph6:amd64.\n",
      "Preparing to unpack .../03-libcgraph6_2.42.2-3build2_amd64.deb ...\n",
      "\u001b7\u001b[24;0f\u001b[42m\u001b[30mProgress: [ 16%]\u001b[49m\u001b[39m [#########.................................................] \u001b8Unpacking libcgraph6:amd64 (2.42.2-3build2) ...\n",
      "\u001b7\u001b[24;0f\u001b[42m\u001b[30mProgress: [ 18%]\u001b[49m\u001b[39m [##########................................................] \u001b8Selecting previously unselected package libgts-0.7-5:amd64.\n",
      "Preparing to unpack .../04-libgts-0.7-5_0.7.6+darcs121130-4_amd64.deb ...\n",
      "\u001b7\u001b[24;0f\u001b[42m\u001b[30mProgress: [ 20%]\u001b[49m\u001b[39m [###########...............................................] \u001b8Unpacking libgts-0.7-5:amd64 (0.7.6+darcs121130-4) ...\n",
      "\u001b7\u001b[24;0f\u001b[42m\u001b[30mProgress: [ 22%]\u001b[49m\u001b[39m [############..............................................] \u001b8Selecting previously unselected package libpathplan4:amd64.\n",
      "Preparing to unpack .../05-libpathplan4_2.42.2-3build2_amd64.deb ...\n",
      "\u001b7\u001b[24;0f\u001b[42m\u001b[30mProgress: [ 24%]\u001b[49m\u001b[39m [##############............................................] \u001b8Unpacking libpathplan4:amd64 (2.42.2-3build2) ...\n",
      "\u001b7\u001b[24;0f\u001b[42m\u001b[30mProgress: [ 27%]\u001b[49m\u001b[39m [###############...........................................] \u001b8Selecting previously unselected package libgvc6.\n",
      "Preparing to unpack .../06-libgvc6_2.42.2-3build2_amd64.deb ...\n",
      "\u001b7\u001b[24;0f\u001b[42m\u001b[30mProgress: [ 29%]\u001b[49m\u001b[39m [################..........................................] \u001b8Unpacking libgvc6 (2.42.2-3build2) ...\n",
      "\u001b7\u001b[24;0f\u001b[42m\u001b[30mProgress: [ 31%]\u001b[49m\u001b[39m [##################........................................] \u001b8Selecting previously unselected package libgvpr2:amd64.\n",
      "Preparing to unpack .../07-libgvpr2_2.42.2-3build2_amd64.deb ...\n",
      "\u001b7\u001b[24;0f\u001b[42m\u001b[30mProgress: [ 33%]\u001b[49m\u001b[39m [###################.......................................] \u001b8Unpacking libgvpr2:amd64 (2.42.2-3build2) ...\n",
      "\u001b7\u001b[24;0f\u001b[42m\u001b[30mProgress: [ 36%]\u001b[49m\u001b[39m [####################......................................] \u001b8Selecting previously unselected package liblab-gamut1:amd64.\n",
      "Preparing to unpack .../08-liblab-gamut1_2.42.2-3build2_amd64.deb ...\n",
      "\u001b7\u001b[24;0f\u001b[42m\u001b[30mProgress: [ 38%]\u001b[49m\u001b[39m [#####################.....................................] \u001b8Unpacking liblab-gamut1:amd64 (2.42.2-3build2) ...\n",
      "\u001b7\u001b[24;0f\u001b[42m\u001b[30mProgress: [ 40%]\u001b[49m\u001b[39m [#######################...................................] \u001b8Selecting previously unselected package graphviz.\n",
      "Preparing to unpack .../09-graphviz_2.42.2-3build2_amd64.deb ...\n",
      "\u001b7\u001b[24;0f\u001b[42m\u001b[30mProgress: [ 42%]\u001b[49m\u001b[39m [########################..................................] \u001b8Unpacking graphviz (2.42.2-3build2) ...\n",
      "\u001b7\u001b[24;0f\u001b[42m\u001b[30mProgress: [ 44%]\u001b[49m\u001b[39m [#########################.................................] \u001b8Selecting previously unselected package libgts-bin.\n",
      "Preparing to unpack .../10-libgts-bin_0.7.6+darcs121130-4_amd64.deb ...\n",
      "\u001b7\u001b[24;0f\u001b[42m\u001b[30mProgress: [ 47%]\u001b[49m\u001b[39m [###########################...............................] \u001b8Unpacking libgts-bin (0.7.6+darcs121130-4) ...\n",
      "\u001b7\u001b[24;0f\u001b[42m\u001b[30mProgress: [ 49%]\u001b[49m\u001b[39m [############################..............................] \u001b8Setting up liblab-gamut1:amd64 (2.42.2-3build2) ...\n",
      "\u001b7\u001b[24;0f\u001b[42m\u001b[30mProgress: [ 51%]\u001b[49m\u001b[39m [#############################.............................] \u001b8\u001b7\u001b[24;0f\u001b[42m\u001b[30mProgress: [ 53%]\u001b[49m\u001b[39m [##############################............................] \u001b8Setting up libgts-0.7-5:amd64 (0.7.6+darcs121130-4) ...\n",
      "\u001b7\u001b[24;0f\u001b[42m\u001b[30mProgress: [ 56%]\u001b[49m\u001b[39m [################################..........................] \u001b8\u001b7\u001b[24;0f\u001b[42m\u001b[30mProgress: [ 58%]\u001b[49m\u001b[39m [#################################.........................] \u001b8Setting up libpathplan4:amd64 (2.42.2-3build2) ...\n",
      "\u001b7\u001b[24;0f\u001b[42m\u001b[30mProgress: [ 60%]\u001b[49m\u001b[39m [##################################........................] \u001b8\u001b7\u001b[24;0f\u001b[42m\u001b[30mProgress: [ 62%]\u001b[49m\u001b[39m [####################################......................] \u001b8Setting up libann0 (1.1.2+doc-7build1) ...\n",
      "\u001b7\u001b[24;0f\u001b[42m\u001b[30mProgress: [ 64%]\u001b[49m\u001b[39m [#####################################.....................] \u001b8\u001b7\u001b[24;0f\u001b[42m\u001b[30mProgress: [ 67%]\u001b[49m\u001b[39m [######################################....................] \u001b8Setting up fonts-liberation (1:1.07.4-11) ...\n",
      "\u001b7\u001b[24;0f\u001b[42m\u001b[30mProgress: [ 69%]\u001b[49m\u001b[39m [#######################################...................] \u001b8\u001b7\u001b[24;0f\u001b[42m\u001b[30mProgress: [ 71%]\u001b[49m\u001b[39m [#########################################.................] \u001b8Setting up libcdt5:amd64 (2.42.2-3build2) ...\n",
      "\u001b7\u001b[24;0f\u001b[42m\u001b[30mProgress: [ 73%]\u001b[49m\u001b[39m [##########################################................] \u001b8\u001b7\u001b[24;0f\u001b[42m\u001b[30mProgress: [ 76%]\u001b[49m\u001b[39m [###########################################...............] \u001b8Setting up libcgraph6:amd64 (2.42.2-3build2) ...\n",
      "\u001b7\u001b[24;0f\u001b[42m\u001b[30mProgress: [ 78%]\u001b[49m\u001b[39m [#############################################.............] \u001b8\u001b7\u001b[24;0f\u001b[42m\u001b[30mProgress: [ 80%]\u001b[49m\u001b[39m [##############################################............] \u001b8Setting up libgts-bin (0.7.6+darcs121130-4) ...\n",
      "\u001b7\u001b[24;0f\u001b[42m\u001b[30mProgress: [ 82%]\u001b[49m\u001b[39m [###############################################...........] \u001b8\u001b7\u001b[24;0f\u001b[42m\u001b[30mProgress: [ 84%]\u001b[49m\u001b[39m [################################################..........] \u001b8Setting up libgvc6 (2.42.2-3build2) ...\n",
      "\u001b7\u001b[24;0f\u001b[42m\u001b[30mProgress: [ 87%]\u001b[49m\u001b[39m [##################################################........] \u001b8\u001b7\u001b[24;0f\u001b[42m\u001b[30mProgress: [ 89%]\u001b[49m\u001b[39m [###################################################.......] \u001b8Setting up libgvpr2:amd64 (2.42.2-3build2) ...\n",
      "\u001b7\u001b[24;0f\u001b[42m\u001b[30mProgress: [ 91%]\u001b[49m\u001b[39m [####################################################......] \u001b8\u001b7\u001b[24;0f\u001b[42m\u001b[30mProgress: [ 93%]\u001b[49m\u001b[39m [######################################################....] \u001b8Setting up graphviz (2.42.2-3build2) ...\n",
      "\u001b7\u001b[24;0f\u001b[42m\u001b[30mProgress: [ 96%]\u001b[49m\u001b[39m [#######################################################...] \u001b8\u001b7\u001b[24;0f\u001b[42m\u001b[30mProgress: [ 98%]\u001b[49m\u001b[39m [########################################################..] \u001b8Processing triggers for libc-bin (2.31-0ubuntu9.7) ...\n",
      "Processing triggers for man-db (2.9.1-1) ...\n",
      "Processing triggers for fontconfig (2.13.1-2ubuntu3) ...\n",
      "\n",
      "Reading package lists... Done\n",
      "Building dependency tree       \n",
      "Reading state information... Done\n",
      "The following additional packages will be installed:\n",
      "  swig4.0\n",
      "Suggested packages:\n",
      "  swig-doc swig-examples swig4.0-examples swig4.0-doc\n",
      "The following NEW packages will be installed:\n",
      "  swig swig4.0\n",
      "0 upgraded, 2 newly installed, 0 to remove and 104 not upgraded.\n",
      "Need to get 1086 kB of archives.\n",
      "After this operation, 5413 kB of additional disk space will be used.\n",
      "Get:1 http://archive.ubuntu.com/ubuntu focal/universe amd64 swig4.0 amd64 4.0.1-5build1 [1081 kB]\n",
      "Get:2 http://archive.ubuntu.com/ubuntu focal/universe amd64 swig all 4.0.1-5build1 [5528 B]\n",
      "Fetched 1086 kB in 1s (1392 kB/s)\n",
      "Selecting previously unselected package swig4.0.\n",
      "(Reading database ... 78769 files and directories currently installed.)\n",
      "Preparing to unpack .../swig4.0_4.0.1-5build1_amd64.deb ...\n",
      "Unpacking swig4.0 (4.0.1-5build1) ...\n",
      "Selecting previously unselected package swig.\n",
      "Preparing to unpack .../swig_4.0.1-5build1_all.deb ...\n",
      "Unpacking swig (4.0.1-5build1) ...\n",
      "Setting up swig4.0 (4.0.1-5build1) ...\n",
      "Setting up swig (4.0.1-5build1) ...\n",
      "Processing triggers for man-db (2.9.1-1) ...\n",
      "Collecting smac\n",
      "  Downloading smac-1.4.0.tar.gz (202 kB)\n",
      "\u001b[2K     \u001b[90m━━━━━━━━━━━━━━━━━━━━━━━━━━━━━━━━━━━━━━\u001b[0m \u001b[32m202.9/202.9 kB\u001b[0m \u001b[31m27.0 MB/s\u001b[0m eta \u001b[36m0:00:00\u001b[0m\n",
      "\u001b[?25h  Installing build dependencies ... \u001b[?25ldone\n",
      "\u001b[?25h  Getting requirements to build wheel ... \u001b[?25ldone\n",
      "\u001b[?25h  Preparing metadata (pyproject.toml) ... \u001b[?25ldone\n",
      "\u001b[?25hCollecting emcee>=3.0.0\n",
      "  Downloading emcee-3.1.3-py2.py3-none-any.whl (46 kB)\n",
      "\u001b[2K     \u001b[90m━━━━━━━━━━━━━━━━━━━━━━━━━━━━━━━━━━━━━━━━\u001b[0m \u001b[32m46.2/46.2 kB\u001b[0m \u001b[31m13.8 MB/s\u001b[0m eta \u001b[36m0:00:00\u001b[0m\n",
      "\u001b[?25hCollecting distributed\n",
      "  Downloading distributed-2022.11.1-py3-none-any.whl (923 kB)\n",
      "\u001b[2K     \u001b[90m━━━━━━━━━━━━━━━━━━━━━━━━━━━━━━━━━━━━━━\u001b[0m \u001b[32m923.4/923.4 kB\u001b[0m \u001b[31m89.8 MB/s\u001b[0m eta \u001b[36m0:00:00\u001b[0m\n",
      "\u001b[?25hCollecting ConfigSpace>=0.5.0\n",
      "  Downloading ConfigSpace-0.6.0-cp39-cp39-manylinux_2_17_x86_64.manylinux2014_x86_64.whl (5.6 MB)\n",
      "\u001b[2K     \u001b[90m━━━━━━━━━━━━━━━━━━━━━━━━━━━━━━━━━━━━━━━━\u001b[0m \u001b[32m5.6/5.6 MB\u001b[0m \u001b[31m116.0 MB/s\u001b[0m eta \u001b[36m0:00:00\u001b[0m00:01\u001b[0m\n",
      "\u001b[?25hRequirement already satisfied: regex in /usr/local/lib/python3.9/dist-packages (from smac) (2022.7.9)\n",
      "Requirement already satisfied: numpy>=1.7.1 in /usr/local/lib/python3.9/dist-packages (from smac) (1.23.1)\n",
      "Requirement already satisfied: joblib in /usr/local/lib/python3.9/dist-packages (from smac) (1.1.0)\n",
      "Requirement already satisfied: psutil in /usr/local/lib/python3.9/dist-packages (from smac) (5.9.1)\n",
      "Collecting dask\n",
      "  Downloading dask-2022.11.1-py3-none-any.whl (1.1 MB)\n",
      "\u001b[2K     \u001b[90m━━━━━━━━━━━━━━━━━━━━━━━━━━━━━━━━━━━━━━━━\u001b[0m \u001b[32m1.1/1.1 MB\u001b[0m \u001b[31m98.2 MB/s\u001b[0m eta \u001b[36m0:00:00\u001b[0m\n",
      "\u001b[?25hCollecting pyrfr>=0.8.3\n",
      "  Downloading pyrfr-0.8.3-cp39-cp39-manylinux_2_17_x86_64.manylinux2014_x86_64.whl (4.5 MB)\n",
      "\u001b[2K     \u001b[90m━━━━━━━━━━━━━━━━━━━━━━━━━━━━━━━━━━━━━━━━\u001b[0m \u001b[32m4.5/4.5 MB\u001b[0m \u001b[31m116.2 MB/s\u001b[0m eta \u001b[36m0:00:00\u001b[0m00:01\u001b[0m\n",
      "\u001b[?25hCollecting pynisher<1.0.0\n",
      "  Downloading pynisher-0.6.4.tar.gz (11 kB)\n",
      "  Preparing metadata (setup.py) ... \u001b[?25ldone\n",
      "\u001b[?25hRequirement already satisfied: scipy>=1.7.0 in /usr/local/lib/python3.9/dist-packages (from smac) (1.8.1)\n",
      "Requirement already satisfied: scikit-learn>=0.22.0 in /usr/local/lib/python3.9/dist-packages (from smac) (1.1.1)\n",
      "Requirement already satisfied: typing-extensions in /usr/local/lib/python3.9/dist-packages (from ConfigSpace>=0.5.0->smac) (4.3.0)\n",
      "Requirement already satisfied: cython in /usr/local/lib/python3.9/dist-packages (from ConfigSpace>=0.5.0->smac) (0.29.30)\n",
      "Requirement already satisfied: pyparsing in /usr/local/lib/python3.9/dist-packages (from ConfigSpace>=0.5.0->smac) (3.0.9)\n",
      "Requirement already satisfied: setuptools in /usr/local/lib/python3.9/dist-packages (from pynisher<1.0.0->smac) (63.1.0)\n",
      "Requirement already satisfied: threadpoolctl>=2.0.0 in /usr/local/lib/python3.9/dist-packages (from scikit-learn>=0.22.0->smac) (3.1.0)\n",
      "Collecting partd>=0.3.10\n",
      "  Downloading partd-1.3.0-py3-none-any.whl (18 kB)\n",
      "Requirement already satisfied: packaging>=20.0 in /usr/local/lib/python3.9/dist-packages (from dask->smac) (21.3)\n",
      "Requirement already satisfied: cloudpickle>=1.1.1 in /usr/local/lib/python3.9/dist-packages (from dask->smac) (2.1.0)\n",
      "Requirement already satisfied: pyyaml>=5.3.1 in /usr/local/lib/python3.9/dist-packages (from dask->smac) (5.4.1)\n",
      "Requirement already satisfied: click>=7.0 in /usr/local/lib/python3.9/dist-packages (from dask->smac) (8.1.3)\n",
      "Requirement already satisfied: toolz>=0.8.2 in /usr/local/lib/python3.9/dist-packages (from dask->smac) (0.12.0)\n",
      "Requirement already satisfied: fsspec>=0.6.0 in /usr/local/lib/python3.9/dist-packages (from dask->smac) (2022.5.0)\n",
      "Requirement already satisfied: jinja2 in /usr/local/lib/python3.9/dist-packages (from distributed->smac) (3.1.2)\n",
      "Collecting sortedcontainers!=2.0.0,!=2.0.1\n",
      "  Downloading sortedcontainers-2.4.0-py2.py3-none-any.whl (29 kB)\n",
      "Collecting zict>=0.1.3\n",
      "  Downloading zict-2.2.0-py2.py3-none-any.whl (23 kB)\n",
      "Collecting tornado<6.2,>=6.0.3\n",
      "  Downloading tornado-6.1-cp39-cp39-manylinux2010_x86_64.whl (427 kB)\n",
      "\u001b[2K     \u001b[90m━━━━━━━━━━━━━━━━━━━━━━━━━━━━━━━━━━━━━━\u001b[0m \u001b[32m427.2/427.2 kB\u001b[0m \u001b[31m69.4 MB/s\u001b[0m eta \u001b[36m0:00:00\u001b[0m\n",
      "\u001b[?25hCollecting msgpack>=0.6.0\n",
      "  Downloading msgpack-1.0.4-cp39-cp39-manylinux_2_17_x86_64.manylinux2014_x86_64.whl (322 kB)\n",
      "\u001b[2K     \u001b[90m━━━━━━━━━━━━━━━━━━━━━━━━━━━━━━━━━━━━━━\u001b[0m \u001b[32m322.4/322.4 kB\u001b[0m \u001b[31m68.5 MB/s\u001b[0m eta \u001b[36m0:00:00\u001b[0m\n",
      "\u001b[?25hRequirement already satisfied: urllib3 in /usr/local/lib/python3.9/dist-packages (from distributed->smac) (1.26.10)\n",
      "Collecting tblib>=1.6.0\n",
      "  Downloading tblib-1.7.0-py2.py3-none-any.whl (12 kB)\n",
      "Collecting locket>=1.0.0\n",
      "  Downloading locket-1.0.0-py2.py3-none-any.whl (4.4 kB)\n",
      "Collecting heapdict\n",
      "  Downloading HeapDict-1.0.1-py3-none-any.whl (3.9 kB)\n",
      "Requirement already satisfied: MarkupSafe>=2.0 in /usr/local/lib/python3.9/dist-packages (from jinja2->distributed->smac) (2.1.1)\n",
      "Building wheels for collected packages: smac, pynisher\n",
      "  Building wheel for smac (pyproject.toml) ... \u001b[?25ldone\n",
      "\u001b[?25h  Created wheel for smac: filename=smac-1.4.0-py3-none-any.whl size=262348 sha256=e94c3fbe9c757e5b65ec8237d6343144ceaf0ed1cabf7ab0118f4240c147580b\n",
      "  Stored in directory: /root/.cache/pip/wheels/98/cc/e7/d683d9404760c4701ea2f64faaf689a8de718f701de63e71ea\n",
      "  Building wheel for pynisher (setup.py) ... \u001b[?25ldone\n",
      "\u001b[?25h  Created wheel for pynisher: filename=pynisher-0.6.4-py3-none-any.whl size=7026 sha256=2ce0b0b5f73bf78b28295f5fb37091f084fe476e3c8dbef1fc7ca9e9d4da2555\n",
      "  Stored in directory: /root/.cache/pip/wheels/1d/de/5e/d4947b76b76ba27581d1e09f395eca1583a802203a41c04873\n",
      "Successfully built smac pynisher\n",
      "Installing collected packages: sortedcontainers, msgpack, heapdict, zict, tornado, tblib, pyrfr, pynisher, locket, emcee, partd, ConfigSpace, dask, distributed, smac\n",
      "  Attempting uninstall: tornado\n",
      "    Found existing installation: tornado 6.2\n",
      "    Uninstalling tornado-6.2:\n",
      "      Successfully uninstalled tornado-6.2\n",
      "Successfully installed ConfigSpace-0.6.0 dask-2022.11.1 distributed-2022.11.1 emcee-3.1.3 heapdict-1.0.1 locket-1.0.0 msgpack-1.0.4 partd-1.3.0 pynisher-0.6.4 pyrfr-0.8.3 smac-1.4.0 sortedcontainers-2.4.0 tblib-1.7.0 tornado-6.1 zict-2.2.0\n",
      "\u001b[33mWARNING: Running pip as the 'root' user can result in broken permissions and conflicting behaviour with the system package manager. It is recommended to use a virtual environment instead: https://pip.pypa.io/warnings/venv\u001b[0m\u001b[33m\n",
      "\u001b[0mCollecting graphviz\n",
      "  Downloading graphviz-0.20.1-py3-none-any.whl (47 kB)\n",
      "\u001b[2K     \u001b[90m━━━━━━━━━━━━━━━━━━━━━━━━━━━━━━━━━━━━━━━━\u001b[0m \u001b[32m47.0/47.0 kB\u001b[0m \u001b[31m15.7 MB/s\u001b[0m eta \u001b[36m0:00:00\u001b[0m\n",
      "\u001b[?25hInstalling collected packages: graphviz\n",
      "Successfully installed graphviz-0.20.1\n",
      "\u001b[33mWARNING: Running pip as the 'root' user can result in broken permissions and conflicting behaviour with the system package manager. It is recommended to use a virtual environment instead: https://pip.pypa.io/warnings/venv\u001b[0m\u001b[33m\n",
      "\u001b[0mCollecting gplearn\n",
      "  Downloading gplearn-0.4.2-py3-none-any.whl (25 kB)\n",
      "Requirement already satisfied: joblib>=1.0.0 in /usr/local/lib/python3.9/dist-packages (from gplearn) (1.1.0)\n",
      "Requirement already satisfied: scikit-learn>=1.0.2 in /usr/local/lib/python3.9/dist-packages (from gplearn) (1.1.1)\n",
      "Requirement already satisfied: threadpoolctl>=2.0.0 in /usr/local/lib/python3.9/dist-packages (from scikit-learn>=1.0.2->gplearn) (3.1.0)\n",
      "Requirement already satisfied: numpy>=1.17.3 in /usr/local/lib/python3.9/dist-packages (from scikit-learn>=1.0.2->gplearn) (1.23.1)\n",
      "Requirement already satisfied: scipy>=1.3.2 in /usr/local/lib/python3.9/dist-packages (from scikit-learn>=1.0.2->gplearn) (1.8.1)\n",
      "Installing collected packages: gplearn\n",
      "Successfully installed gplearn-0.4.2\n",
      "\u001b[33mWARNING: Running pip as the 'root' user can result in broken permissions and conflicting behaviour with the system package manager. It is recommended to use a virtual environment instead: https://pip.pypa.io/warnings/venv\u001b[0m\u001b[33m\n",
      "\u001b[0m"
     ]
    }
   ],
   "source": [
    "!pip install -U jaxlib[cuda112]==0.3.15 -f https://storage.googleapis.com/jax-releases/jax_cuda_releases.html\n",
    "!pip install -U jax[cuda112]==0.3.17 -f https://storage.googleapis.com/jax-releases/jax_cuda_releases.html\n",
    "!pip install optax\n",
    "!pip install dm-haiku\n",
    "!pip install tensorflow-probability==0.17\n",
    "!pip install git+https://github.com/blackjax-devs/blackjax.git\n",
    "!apt update\n",
    "!apt install -y graphviz\n",
    "!apt-get -y install swig\n",
    "!pip install smac\n",
    "!pip install graphviz\n",
    "!pip install gplearn"
   ]
  },
  {
   "cell_type": "code",
   "execution_count": 1,
   "metadata": {
    "collapsed": false,
    "pycharm": {
     "name": "#%%\n"
    }
   },
   "outputs": [],
   "source": [
    "import os\n",
    "os.environ[\"XLA_PYTHON_CLIENT_PREALLOCATE\"] = \"False\"\n",
    "os.environ[\"XLA_PYTHON_CLIENT_ALLOCATOR\"] = \"platform\"\n",
    "SERVER = 1"
   ]
  },
  {
   "cell_type": "code",
   "execution_count": 2,
   "metadata": {
    "collapsed": false,
    "pycharm": {
     "name": "#%%\n"
    }
   },
   "outputs": [],
   "source": [
    "if not SERVER:\n",
    "    %cd /home/xabush/code/snet/moses-incons-pen-xp/notebooks/variable_selection/cancer/nn\n",
    "import pandas as pd\n",
    "import matplotlib.pyplot as plt\n",
    "import tensorflow_probability.substrates.jax as tfp\n",
    "from sklearn.model_selection import train_test_split, cross_val_score, StratifiedKFold, KFold, GridSearchCV\n",
    "from sklearn.preprocessing import StandardScaler\n",
    "# tfd = tfp.distributions\n",
    "from gibbs_sampler import *\n",
    "\n",
    "plt.style.use('ggplot')\n",
    "%load_ext autoreload"
   ]
  },
  {
   "cell_type": "code",
   "execution_count": 3,
   "metadata": {
    "collapsed": false,
    "pycharm": {
     "name": "#%%\n"
    }
   },
   "outputs": [],
   "source": [
    "if SERVER:\n",
    "    data_dir = \".\"\n",
    "else:\n",
    "    data_dir = \"/home/xabush/code/snet/moses-incons-pen-xp/data\""
   ]
  },
  {
   "cell_type": "markdown",
   "metadata": {
    "collapsed": false,
    "pycharm": {
     "name": "#%% md\n"
    }
   },
   "source": [
    "### Load Cell Line Data"
   ]
  },
  {
   "cell_type": "code",
   "execution_count": 4,
   "metadata": {
    "collapsed": false,
    "pycharm": {
     "name": "#%%\n"
    }
   },
   "outputs": [
    {
     "data": {
      "text/plain": [
       "(1840, 28)"
      ]
     },
     "execution_count": 4,
     "metadata": {},
     "output_type": "execute_result"
    }
   ],
   "source": [
    "ccle_samples_df = pd.read_csv(f\"{data_dir}/ccle/sample_info.csv\", index_col=\"DepMap_ID\")\n",
    "ccle_samples_df.shape"
   ]
  },
  {
   "cell_type": "code",
   "execution_count": 5,
   "metadata": {},
   "outputs": [
    {
     "data": {
      "text/html": [
       "<div>\n",
       "<style scoped>\n",
       "    .dataframe tbody tr th:only-of-type {\n",
       "        vertical-align: middle;\n",
       "    }\n",
       "\n",
       "    .dataframe tbody tr th {\n",
       "        vertical-align: top;\n",
       "    }\n",
       "\n",
       "    .dataframe thead th {\n",
       "        text-align: right;\n",
       "    }\n",
       "</style>\n",
       "<table border=\"1\" class=\"dataframe\">\n",
       "  <thead>\n",
       "    <tr style=\"text-align: right;\">\n",
       "      <th></th>\n",
       "      <th>cell_line_name</th>\n",
       "      <th>stripped_cell_line_name</th>\n",
       "      <th>CCLE_Name</th>\n",
       "      <th>alias</th>\n",
       "      <th>COSMICID</th>\n",
       "      <th>sex</th>\n",
       "      <th>source</th>\n",
       "      <th>RRID</th>\n",
       "      <th>WTSI_Master_Cell_ID</th>\n",
       "      <th>sample_collection_site</th>\n",
       "      <th>...</th>\n",
       "      <th>lineage_sub_subtype</th>\n",
       "      <th>lineage_molecular_subtype</th>\n",
       "      <th>default_growth_pattern</th>\n",
       "      <th>model_manipulation</th>\n",
       "      <th>model_manipulation_details</th>\n",
       "      <th>patient_id</th>\n",
       "      <th>parent_depmap_id</th>\n",
       "      <th>Cellosaurus_NCIt_disease</th>\n",
       "      <th>Cellosaurus_NCIt_id</th>\n",
       "      <th>Cellosaurus_issues</th>\n",
       "    </tr>\n",
       "    <tr>\n",
       "      <th>DepMap_ID</th>\n",
       "      <th></th>\n",
       "      <th></th>\n",
       "      <th></th>\n",
       "      <th></th>\n",
       "      <th></th>\n",
       "      <th></th>\n",
       "      <th></th>\n",
       "      <th></th>\n",
       "      <th></th>\n",
       "      <th></th>\n",
       "      <th></th>\n",
       "      <th></th>\n",
       "      <th></th>\n",
       "      <th></th>\n",
       "      <th></th>\n",
       "      <th></th>\n",
       "      <th></th>\n",
       "      <th></th>\n",
       "      <th></th>\n",
       "      <th></th>\n",
       "      <th></th>\n",
       "    </tr>\n",
       "  </thead>\n",
       "  <tbody>\n",
       "    <tr>\n",
       "      <th>ACH-000016</th>\n",
       "      <td>SLR 21</td>\n",
       "      <td>SLR21</td>\n",
       "      <td>SLR21_KIDNEY</td>\n",
       "      <td>NaN</td>\n",
       "      <td>NaN</td>\n",
       "      <td>NaN</td>\n",
       "      <td>Academic lab</td>\n",
       "      <td>CVCL_V607</td>\n",
       "      <td>NaN</td>\n",
       "      <td>kidney</td>\n",
       "      <td>...</td>\n",
       "      <td>NaN</td>\n",
       "      <td>NaN</td>\n",
       "      <td>NaN</td>\n",
       "      <td>NaN</td>\n",
       "      <td>NaN</td>\n",
       "      <td>PT-JnARLB</td>\n",
       "      <td>NaN</td>\n",
       "      <td>Clear cell renal cell carcinoma</td>\n",
       "      <td>C4033</td>\n",
       "      <td>NaN</td>\n",
       "    </tr>\n",
       "    <tr>\n",
       "      <th>ACH-000032</th>\n",
       "      <td>MHH-CALL-3</td>\n",
       "      <td>MHHCALL3</td>\n",
       "      <td>MHHCALL3_HAEMATOPOIETIC_AND_LYMPHOID_TISSUE</td>\n",
       "      <td>NaN</td>\n",
       "      <td>NaN</td>\n",
       "      <td>Female</td>\n",
       "      <td>DSMZ</td>\n",
       "      <td>CVCL_0089</td>\n",
       "      <td>NaN</td>\n",
       "      <td>bone_marrow</td>\n",
       "      <td>...</td>\n",
       "      <td>b_cell</td>\n",
       "      <td>NaN</td>\n",
       "      <td>NaN</td>\n",
       "      <td>NaN</td>\n",
       "      <td>NaN</td>\n",
       "      <td>PT-p2KOyI</td>\n",
       "      <td>NaN</td>\n",
       "      <td>Childhood B acute lymphoblastic leukemia</td>\n",
       "      <td>C9140</td>\n",
       "      <td>NaN</td>\n",
       "    </tr>\n",
       "    <tr>\n",
       "      <th>ACH-000033</th>\n",
       "      <td>NCI-H1819</td>\n",
       "      <td>NCIH1819</td>\n",
       "      <td>NCIH1819_LUNG</td>\n",
       "      <td>NaN</td>\n",
       "      <td>NaN</td>\n",
       "      <td>Female</td>\n",
       "      <td>Academic lab</td>\n",
       "      <td>CVCL_1497</td>\n",
       "      <td>NaN</td>\n",
       "      <td>lymph_node</td>\n",
       "      <td>...</td>\n",
       "      <td>NSCLC_adenocarcinoma</td>\n",
       "      <td>NaN</td>\n",
       "      <td>NaN</td>\n",
       "      <td>NaN</td>\n",
       "      <td>NaN</td>\n",
       "      <td>PT-9p1WQv</td>\n",
       "      <td>NaN</td>\n",
       "      <td>Lung adenocarcinoma</td>\n",
       "      <td>C3512</td>\n",
       "      <td>NaN</td>\n",
       "    </tr>\n",
       "    <tr>\n",
       "      <th>ACH-000043</th>\n",
       "      <td>Hs 895.T</td>\n",
       "      <td>HS895T</td>\n",
       "      <td>HS895T_FIBROBLAST</td>\n",
       "      <td>NaN</td>\n",
       "      <td>NaN</td>\n",
       "      <td>Female</td>\n",
       "      <td>ATCC</td>\n",
       "      <td>CVCL_0993</td>\n",
       "      <td>NaN</td>\n",
       "      <td>fibroblast</td>\n",
       "      <td>...</td>\n",
       "      <td>NaN</td>\n",
       "      <td>NaN</td>\n",
       "      <td>2D: adherent</td>\n",
       "      <td>NaN</td>\n",
       "      <td>NaN</td>\n",
       "      <td>PT-rTUVZQ</td>\n",
       "      <td>NaN</td>\n",
       "      <td>Melanoma</td>\n",
       "      <td>C3224</td>\n",
       "      <td>NaN</td>\n",
       "    </tr>\n",
       "    <tr>\n",
       "      <th>ACH-000049</th>\n",
       "      <td>HEK TE</td>\n",
       "      <td>HEKTE</td>\n",
       "      <td>HEKTE_KIDNEY</td>\n",
       "      <td>NaN</td>\n",
       "      <td>NaN</td>\n",
       "      <td>NaN</td>\n",
       "      <td>Academic lab</td>\n",
       "      <td>CVCL_WS59</td>\n",
       "      <td>NaN</td>\n",
       "      <td>kidney</td>\n",
       "      <td>...</td>\n",
       "      <td>NaN</td>\n",
       "      <td>NaN</td>\n",
       "      <td>NaN</td>\n",
       "      <td>immortalized</td>\n",
       "      <td>NaN</td>\n",
       "      <td>PT-qWYYgr</td>\n",
       "      <td>NaN</td>\n",
       "      <td>NaN</td>\n",
       "      <td>NaN</td>\n",
       "      <td>No information is available about this cell li...</td>\n",
       "    </tr>\n",
       "    <tr>\n",
       "      <th>...</th>\n",
       "      <td>...</td>\n",
       "      <td>...</td>\n",
       "      <td>...</td>\n",
       "      <td>...</td>\n",
       "      <td>...</td>\n",
       "      <td>...</td>\n",
       "      <td>...</td>\n",
       "      <td>...</td>\n",
       "      <td>...</td>\n",
       "      <td>...</td>\n",
       "      <td>...</td>\n",
       "      <td>...</td>\n",
       "      <td>...</td>\n",
       "      <td>...</td>\n",
       "      <td>...</td>\n",
       "      <td>...</td>\n",
       "      <td>...</td>\n",
       "      <td>...</td>\n",
       "      <td>...</td>\n",
       "      <td>...</td>\n",
       "      <td>...</td>\n",
       "    </tr>\n",
       "    <tr>\n",
       "      <th>ACH-002393</th>\n",
       "      <td>CRO-AP3</td>\n",
       "      <td>CROAP3</td>\n",
       "      <td>CROAP3_HAEMATOPOIETIC_AND_LYMPHOID_TISSUE</td>\n",
       "      <td>NaN</td>\n",
       "      <td>NaN</td>\n",
       "      <td>Male</td>\n",
       "      <td>Sanger</td>\n",
       "      <td>CVCL_1810</td>\n",
       "      <td>NaN</td>\n",
       "      <td>ascites</td>\n",
       "      <td>...</td>\n",
       "      <td>b_cell_primary_effusion</td>\n",
       "      <td>NaN</td>\n",
       "      <td>NaN</td>\n",
       "      <td>NaN</td>\n",
       "      <td>NaN</td>\n",
       "      <td>PT-TC0lZM</td>\n",
       "      <td>NaN</td>\n",
       "      <td>Primary effusion lymphoma</td>\n",
       "      <td>C6915</td>\n",
       "      <td>NaN</td>\n",
       "    </tr>\n",
       "    <tr>\n",
       "      <th>ACH-002394</th>\n",
       "      <td>GEO</td>\n",
       "      <td>GEO</td>\n",
       "      <td>GEO_LARGE_INTESTINE</td>\n",
       "      <td>NaN</td>\n",
       "      <td>NaN</td>\n",
       "      <td>NaN</td>\n",
       "      <td>Sanger</td>\n",
       "      <td>CVCL_0271</td>\n",
       "      <td>NaN</td>\n",
       "      <td>large_intestine</td>\n",
       "      <td>...</td>\n",
       "      <td>NaN</td>\n",
       "      <td>NaN</td>\n",
       "      <td>NaN</td>\n",
       "      <td>NaN</td>\n",
       "      <td>NaN</td>\n",
       "      <td>PT-Fa1q9q</td>\n",
       "      <td>NaN</td>\n",
       "      <td>Colon carcinoma</td>\n",
       "      <td>C4910</td>\n",
       "      <td>NaN</td>\n",
       "    </tr>\n",
       "    <tr>\n",
       "      <th>ACH-002395</th>\n",
       "      <td>HuH-6 Clone 5</td>\n",
       "      <td>HUH6CLONE5</td>\n",
       "      <td>HUH6CLONE5_LIVER</td>\n",
       "      <td>NaN</td>\n",
       "      <td>NaN</td>\n",
       "      <td>Male</td>\n",
       "      <td>Sanger</td>\n",
       "      <td>CVCL_1296</td>\n",
       "      <td>NaN</td>\n",
       "      <td>liver</td>\n",
       "      <td>...</td>\n",
       "      <td>NaN</td>\n",
       "      <td>NaN</td>\n",
       "      <td>NaN</td>\n",
       "      <td>NaN</td>\n",
       "      <td>NaN</td>\n",
       "      <td>PT-TtIXsL</td>\n",
       "      <td>ACH-000671</td>\n",
       "      <td>Hepatoblastoma</td>\n",
       "      <td>C3728</td>\n",
       "      <td>NaN</td>\n",
       "    </tr>\n",
       "    <tr>\n",
       "      <th>ACH-002396</th>\n",
       "      <td>Sarc9371</td>\n",
       "      <td>SARC9371</td>\n",
       "      <td>SARC9371_BONE</td>\n",
       "      <td>NaN</td>\n",
       "      <td>NaN</td>\n",
       "      <td>NaN</td>\n",
       "      <td>Sanger</td>\n",
       "      <td>CVCL_5G89</td>\n",
       "      <td>NaN</td>\n",
       "      <td>bone</td>\n",
       "      <td>...</td>\n",
       "      <td>NaN</td>\n",
       "      <td>NaN</td>\n",
       "      <td>NaN</td>\n",
       "      <td>NaN</td>\n",
       "      <td>NaN</td>\n",
       "      <td>PT-715FdC</td>\n",
       "      <td>NaN</td>\n",
       "      <td>Osteosarcoma</td>\n",
       "      <td>C9145</td>\n",
       "      <td>NaN</td>\n",
       "    </tr>\n",
       "    <tr>\n",
       "      <th>ACH-002397</th>\n",
       "      <td>KMH-2</td>\n",
       "      <td>KMHDASH2</td>\n",
       "      <td>KMH2_THYROID</td>\n",
       "      <td>NaN</td>\n",
       "      <td>2054094.0</td>\n",
       "      <td>Male</td>\n",
       "      <td>NaN</td>\n",
       "      <td>CVCL_S641</td>\n",
       "      <td>NaN</td>\n",
       "      <td>pleural_effusion</td>\n",
       "      <td>...</td>\n",
       "      <td>NaN</td>\n",
       "      <td>NaN</td>\n",
       "      <td>NaN</td>\n",
       "      <td>NaN</td>\n",
       "      <td>NaN</td>\n",
       "      <td>PT-ix8RHJ</td>\n",
       "      <td>NaN</td>\n",
       "      <td>Thyroid gland anaplastic carcinoma</td>\n",
       "      <td>C3878</td>\n",
       "      <td>NaN</td>\n",
       "    </tr>\n",
       "  </tbody>\n",
       "</table>\n",
       "<p>1840 rows × 28 columns</p>\n",
       "</div>"
      ],
      "text/plain": [
       "           cell_line_name stripped_cell_line_name  \\\n",
       "DepMap_ID                                           \n",
       "ACH-000016         SLR 21                   SLR21   \n",
       "ACH-000032     MHH-CALL-3                MHHCALL3   \n",
       "ACH-000033      NCI-H1819                NCIH1819   \n",
       "ACH-000043       Hs 895.T                  HS895T   \n",
       "ACH-000049         HEK TE                   HEKTE   \n",
       "...                   ...                     ...   \n",
       "ACH-002393        CRO-AP3                  CROAP3   \n",
       "ACH-002394            GEO                     GEO   \n",
       "ACH-002395  HuH-6 Clone 5              HUH6CLONE5   \n",
       "ACH-002396       Sarc9371                SARC9371   \n",
       "ACH-002397          KMH-2                KMHDASH2   \n",
       "\n",
       "                                              CCLE_Name alias   COSMICID  \\\n",
       "DepMap_ID                                                                  \n",
       "ACH-000016                                 SLR21_KIDNEY   NaN        NaN   \n",
       "ACH-000032  MHHCALL3_HAEMATOPOIETIC_AND_LYMPHOID_TISSUE   NaN        NaN   \n",
       "ACH-000033                                NCIH1819_LUNG   NaN        NaN   \n",
       "ACH-000043                            HS895T_FIBROBLAST   NaN        NaN   \n",
       "ACH-000049                                 HEKTE_KIDNEY   NaN        NaN   \n",
       "...                                                 ...   ...        ...   \n",
       "ACH-002393    CROAP3_HAEMATOPOIETIC_AND_LYMPHOID_TISSUE   NaN        NaN   \n",
       "ACH-002394                          GEO_LARGE_INTESTINE   NaN        NaN   \n",
       "ACH-002395                             HUH6CLONE5_LIVER   NaN        NaN   \n",
       "ACH-002396                                SARC9371_BONE   NaN        NaN   \n",
       "ACH-002397                                 KMH2_THYROID   NaN  2054094.0   \n",
       "\n",
       "               sex        source       RRID  WTSI_Master_Cell_ID  \\\n",
       "DepMap_ID                                                          \n",
       "ACH-000016     NaN  Academic lab  CVCL_V607                  NaN   \n",
       "ACH-000032  Female          DSMZ  CVCL_0089                  NaN   \n",
       "ACH-000033  Female  Academic lab  CVCL_1497                  NaN   \n",
       "ACH-000043  Female          ATCC  CVCL_0993                  NaN   \n",
       "ACH-000049     NaN  Academic lab  CVCL_WS59                  NaN   \n",
       "...            ...           ...        ...                  ...   \n",
       "ACH-002393    Male        Sanger  CVCL_1810                  NaN   \n",
       "ACH-002394     NaN        Sanger  CVCL_0271                  NaN   \n",
       "ACH-002395    Male        Sanger  CVCL_1296                  NaN   \n",
       "ACH-002396     NaN        Sanger  CVCL_5G89                  NaN   \n",
       "ACH-002397    Male           NaN  CVCL_S641                  NaN   \n",
       "\n",
       "           sample_collection_site  ...      lineage_sub_subtype  \\\n",
       "DepMap_ID                          ...                            \n",
       "ACH-000016                 kidney  ...                      NaN   \n",
       "ACH-000032            bone_marrow  ...                   b_cell   \n",
       "ACH-000033             lymph_node  ...     NSCLC_adenocarcinoma   \n",
       "ACH-000043             fibroblast  ...                      NaN   \n",
       "ACH-000049                 kidney  ...                      NaN   \n",
       "...                           ...  ...                      ...   \n",
       "ACH-002393                ascites  ...  b_cell_primary_effusion   \n",
       "ACH-002394        large_intestine  ...                      NaN   \n",
       "ACH-002395                  liver  ...                      NaN   \n",
       "ACH-002396                   bone  ...                      NaN   \n",
       "ACH-002397       pleural_effusion  ...                      NaN   \n",
       "\n",
       "           lineage_molecular_subtype default_growth_pattern  \\\n",
       "DepMap_ID                                                     \n",
       "ACH-000016                       NaN                    NaN   \n",
       "ACH-000032                       NaN                    NaN   \n",
       "ACH-000033                       NaN                    NaN   \n",
       "ACH-000043                       NaN           2D: adherent   \n",
       "ACH-000049                       NaN                    NaN   \n",
       "...                              ...                    ...   \n",
       "ACH-002393                       NaN                    NaN   \n",
       "ACH-002394                       NaN                    NaN   \n",
       "ACH-002395                       NaN                    NaN   \n",
       "ACH-002396                       NaN                    NaN   \n",
       "ACH-002397                       NaN                    NaN   \n",
       "\n",
       "           model_manipulation model_manipulation_details patient_id  \\\n",
       "DepMap_ID                                                             \n",
       "ACH-000016                NaN                        NaN  PT-JnARLB   \n",
       "ACH-000032                NaN                        NaN  PT-p2KOyI   \n",
       "ACH-000033                NaN                        NaN  PT-9p1WQv   \n",
       "ACH-000043                NaN                        NaN  PT-rTUVZQ   \n",
       "ACH-000049       immortalized                        NaN  PT-qWYYgr   \n",
       "...                       ...                        ...        ...   \n",
       "ACH-002393                NaN                        NaN  PT-TC0lZM   \n",
       "ACH-002394                NaN                        NaN  PT-Fa1q9q   \n",
       "ACH-002395                NaN                        NaN  PT-TtIXsL   \n",
       "ACH-002396                NaN                        NaN  PT-715FdC   \n",
       "ACH-002397                NaN                        NaN  PT-ix8RHJ   \n",
       "\n",
       "           parent_depmap_id                  Cellosaurus_NCIt_disease  \\\n",
       "DepMap_ID                                                               \n",
       "ACH-000016              NaN           Clear cell renal cell carcinoma   \n",
       "ACH-000032              NaN  Childhood B acute lymphoblastic leukemia   \n",
       "ACH-000033              NaN                       Lung adenocarcinoma   \n",
       "ACH-000043              NaN                                  Melanoma   \n",
       "ACH-000049              NaN                                       NaN   \n",
       "...                     ...                                       ...   \n",
       "ACH-002393              NaN                 Primary effusion lymphoma   \n",
       "ACH-002394              NaN                           Colon carcinoma   \n",
       "ACH-002395       ACH-000671                            Hepatoblastoma   \n",
       "ACH-002396              NaN                              Osteosarcoma   \n",
       "ACH-002397              NaN        Thyroid gland anaplastic carcinoma   \n",
       "\n",
       "           Cellosaurus_NCIt_id  \\\n",
       "DepMap_ID                        \n",
       "ACH-000016               C4033   \n",
       "ACH-000032               C9140   \n",
       "ACH-000033               C3512   \n",
       "ACH-000043               C3224   \n",
       "ACH-000049                 NaN   \n",
       "...                        ...   \n",
       "ACH-002393               C6915   \n",
       "ACH-002394               C4910   \n",
       "ACH-002395               C3728   \n",
       "ACH-002396               C9145   \n",
       "ACH-002397               C3878   \n",
       "\n",
       "                                           Cellosaurus_issues  \n",
       "DepMap_ID                                                      \n",
       "ACH-000016                                                NaN  \n",
       "ACH-000032                                                NaN  \n",
       "ACH-000033                                                NaN  \n",
       "ACH-000043                                                NaN  \n",
       "ACH-000049  No information is available about this cell li...  \n",
       "...                                                       ...  \n",
       "ACH-002393                                                NaN  \n",
       "ACH-002394                                                NaN  \n",
       "ACH-002395                                                NaN  \n",
       "ACH-002396                                                NaN  \n",
       "ACH-002397                                                NaN  \n",
       "\n",
       "[1840 rows x 28 columns]"
      ]
     },
     "execution_count": 5,
     "metadata": {},
     "output_type": "execute_result"
    }
   ],
   "source": [
    "ccle_samples_df"
   ]
  },
  {
   "cell_type": "code",
   "execution_count": 6,
   "metadata": {},
   "outputs": [
    {
     "data": {
      "text/plain": [
       "pleural_effusion                      170\n",
       "haematopoietic_and_lymphoid_tissue    169\n",
       "lung                                  145\n",
       "central_nervous_system                134\n",
       "lymph_node                            130\n",
       "ascites                                91\n",
       "skin                                   84\n",
       "upper_aerodigestive_tract              71\n",
       "bone                                   69\n",
       "soft_tissue                            68\n",
       "bone_marrow                            63\n",
       "kidney                                 55\n",
       "liver                                  54\n",
       "breast                                 43\n",
       "large_intestine                        41\n",
       "ovary                                  41\n",
       "matched_normal_tissue                  39\n",
       "fibroblast                             37\n",
       "endometrium                            36\n",
       "pancreas                               34\n",
       "biliary_tract                          34\n",
       "urinary_tract                          33\n",
       "oesophagus                             32\n",
       "Colon                                  23\n",
       "autonomic_ganglia                      21\n",
       "cervix                                 19\n",
       "abdomen                                18\n",
       "thyroid                                15\n",
       "stomach                                14\n",
       "eye                                    10\n",
       "prostate                                9\n",
       "pleura                                  6\n",
       "uvea                                    6\n",
       "pericardial_effusion                    5\n",
       "spleen                                  4\n",
       "small_intestine                         3\n",
       "Placenta                                2\n",
       "Embryonal                               2\n",
       "sinonasal                               1\n",
       "salivary_gland                          1\n",
       "Testes                                  1\n",
       "Name: sample_collection_site, dtype: int64"
      ]
     },
     "execution_count": 6,
     "metadata": {},
     "output_type": "execute_result"
    }
   ],
   "source": [
    "ccle_samples_df[\"sample_collection_site\"].value_counts()"
   ]
  },
  {
   "cell_type": "code",
   "execution_count": 7,
   "metadata": {
    "collapsed": false,
    "pycharm": {
     "name": "#%%\n"
    }
   },
   "outputs": [
    {
     "data": {
      "text/plain": [
       "(1406, 19221)"
      ]
     },
     "execution_count": 7,
     "metadata": {},
     "output_type": "execute_result"
    }
   ],
   "source": [
    "ccle_gene_expr_df = pd.read_csv(f\"{data_dir}/ccle/CCLE_expression.csv\", index_col=\"DepMap_ID\")\n",
    "ccle_gene_expr_df.shape"
   ]
  },
  {
   "cell_type": "code",
   "execution_count": 8,
   "metadata": {
    "collapsed": false,
    "pycharm": {
     "name": "#%%\n"
    }
   },
   "outputs": [],
   "source": [
    "ccle_drug_response_df = pd.read_csv(f\"{data_dir}/ccle/sanger-dose-response.csv\", index_col=\"DepMap_ID\")\n",
    "ccle_drug_response_gdsc2 = ccle_drug_response_df[ccle_drug_response_df[\"DATASET\"] == \"GDSC2\"]"
   ]
  },
  {
   "cell_type": "code",
   "execution_count": 9,
   "metadata": {},
   "outputs": [
    {
     "data": {
      "text/html": [
       "<div>\n",
       "<style scoped>\n",
       "    .dataframe tbody tr th:only-of-type {\n",
       "        vertical-align: middle;\n",
       "    }\n",
       "\n",
       "    .dataframe tbody tr th {\n",
       "        vertical-align: top;\n",
       "    }\n",
       "\n",
       "    .dataframe thead th {\n",
       "        text-align: right;\n",
       "    }\n",
       "</style>\n",
       "<table border=\"1\" class=\"dataframe\">\n",
       "  <thead>\n",
       "    <tr style=\"text-align: right;\">\n",
       "      <th></th>\n",
       "      <th>DATASET</th>\n",
       "      <th>COSMIC_ID</th>\n",
       "      <th>DRUG_ID</th>\n",
       "      <th>MIN_CONC</th>\n",
       "      <th>MAX_CONC</th>\n",
       "      <th>RMSE_PUBLISHED</th>\n",
       "      <th>Z_SCORE_PUBLISHED</th>\n",
       "      <th>IC50_PUBLISHED</th>\n",
       "      <th>AUC_PUBLISHED</th>\n",
       "      <th>DRUG_NAME</th>\n",
       "      <th>BROAD_ID</th>\n",
       "      <th>upper_limit</th>\n",
       "      <th>ec50</th>\n",
       "      <th>slope</th>\n",
       "      <th>lower_limit</th>\n",
       "      <th>auc</th>\n",
       "      <th>log2.ic50</th>\n",
       "      <th>mse</th>\n",
       "      <th>R2</th>\n",
       "    </tr>\n",
       "    <tr>\n",
       "      <th>DepMap_ID</th>\n",
       "      <th></th>\n",
       "      <th></th>\n",
       "      <th></th>\n",
       "      <th></th>\n",
       "      <th></th>\n",
       "      <th></th>\n",
       "      <th></th>\n",
       "      <th></th>\n",
       "      <th></th>\n",
       "      <th></th>\n",
       "      <th></th>\n",
       "      <th></th>\n",
       "      <th></th>\n",
       "      <th></th>\n",
       "      <th></th>\n",
       "      <th></th>\n",
       "      <th></th>\n",
       "      <th></th>\n",
       "      <th></th>\n",
       "    </tr>\n",
       "  </thead>\n",
       "  <tbody>\n",
       "    <tr>\n",
       "      <th>ACH-000958</th>\n",
       "      <td>GDSC2</td>\n",
       "      <td>909751</td>\n",
       "      <td>1003</td>\n",
       "      <td>0.000098</td>\n",
       "      <td>0.1</td>\n",
       "      <td>0.126397</td>\n",
       "      <td>-0.765768</td>\n",
       "      <td>0.025129</td>\n",
       "      <td>0.706775</td>\n",
       "      <td>CAMPTOTHECIN</td>\n",
       "      <td>BRD-K37890730</td>\n",
       "      <td>0.961510</td>\n",
       "      <td>1.360365e-02</td>\n",
       "      <td>-1.527913</td>\n",
       "      <td>0.375386</td>\n",
       "      <td>0.790291</td>\n",
       "      <td>-4.963610</td>\n",
       "      <td>0.007940</td>\n",
       "      <td>0.867205</td>\n",
       "    </tr>\n",
       "    <tr>\n",
       "      <th>ACH-000651</th>\n",
       "      <td>GDSC2</td>\n",
       "      <td>905962</td>\n",
       "      <td>1003</td>\n",
       "      <td>0.000098</td>\n",
       "      <td>0.1</td>\n",
       "      <td>0.096246</td>\n",
       "      <td>-0.468137</td>\n",
       "      <td>0.049577</td>\n",
       "      <td>0.775083</td>\n",
       "      <td>CAMPTOTHECIN</td>\n",
       "      <td>BRD-K37890730</td>\n",
       "      <td>NaN</td>\n",
       "      <td>NaN</td>\n",
       "      <td>NaN</td>\n",
       "      <td>NaN</td>\n",
       "      <td>NaN</td>\n",
       "      <td>NaN</td>\n",
       "      <td>NaN</td>\n",
       "      <td>NaN</td>\n",
       "    </tr>\n",
       "    <tr>\n",
       "      <th>ACH-000856</th>\n",
       "      <td>GDSC2</td>\n",
       "      <td>910927</td>\n",
       "      <td>1003</td>\n",
       "      <td>0.000098</td>\n",
       "      <td>0.1</td>\n",
       "      <td>0.086042</td>\n",
       "      <td>-0.709881</td>\n",
       "      <td>0.028549</td>\n",
       "      <td>0.767213</td>\n",
       "      <td>CAMPTOTHECIN</td>\n",
       "      <td>BRD-K37890730</td>\n",
       "      <td>0.987030</td>\n",
       "      <td>1.051355e-02</td>\n",
       "      <td>-1.267996</td>\n",
       "      <td>0.452929</td>\n",
       "      <td>0.810229</td>\n",
       "      <td>-3.912988</td>\n",
       "      <td>0.003622</td>\n",
       "      <td>0.919492</td>\n",
       "    </tr>\n",
       "    <tr>\n",
       "      <th>ACH-000360</th>\n",
       "      <td>GDSC2</td>\n",
       "      <td>908442</td>\n",
       "      <td>1003</td>\n",
       "      <td>0.000098</td>\n",
       "      <td>0.1</td>\n",
       "      <td>0.100553</td>\n",
       "      <td>-0.562205</td>\n",
       "      <td>0.039996</td>\n",
       "      <td>0.730769</td>\n",
       "      <td>CAMPTOTHECIN</td>\n",
       "      <td>BRD-K37890730</td>\n",
       "      <td>0.986668</td>\n",
       "      <td>1.653807e-02</td>\n",
       "      <td>-1.122581</td>\n",
       "      <td>0.394468</td>\n",
       "      <td>0.823684</td>\n",
       "      <td>-3.953616</td>\n",
       "      <td>0.003399</td>\n",
       "      <td>0.927201</td>\n",
       "    </tr>\n",
       "    <tr>\n",
       "      <th>ACH-001199</th>\n",
       "      <td>GDSC2</td>\n",
       "      <td>909740</td>\n",
       "      <td>1003</td>\n",
       "      <td>0.000098</td>\n",
       "      <td>0.1</td>\n",
       "      <td>0.080253</td>\n",
       "      <td>1.148459</td>\n",
       "      <td>1.986678</td>\n",
       "      <td>0.921919</td>\n",
       "      <td>CAMPTOTHECIN</td>\n",
       "      <td>BRD-K37890730</td>\n",
       "      <td>0.948195</td>\n",
       "      <td>3.055074e-02</td>\n",
       "      <td>-2.363654</td>\n",
       "      <td>0.822454</td>\n",
       "      <td>0.926233</td>\n",
       "      <td>NaN</td>\n",
       "      <td>0.004085</td>\n",
       "      <td>0.363292</td>\n",
       "    </tr>\n",
       "    <tr>\n",
       "      <th>...</th>\n",
       "      <td>...</td>\n",
       "      <td>...</td>\n",
       "      <td>...</td>\n",
       "      <td>...</td>\n",
       "      <td>...</td>\n",
       "      <td>...</td>\n",
       "      <td>...</td>\n",
       "      <td>...</td>\n",
       "      <td>...</td>\n",
       "      <td>...</td>\n",
       "      <td>...</td>\n",
       "      <td>...</td>\n",
       "      <td>...</td>\n",
       "      <td>...</td>\n",
       "      <td>...</td>\n",
       "      <td>...</td>\n",
       "      <td>...</td>\n",
       "      <td>...</td>\n",
       "      <td>...</td>\n",
       "    </tr>\n",
       "    <tr>\n",
       "      <th>ACH-000288</th>\n",
       "      <td>GDSC2</td>\n",
       "      <td>905951</td>\n",
       "      <td>2172</td>\n",
       "      <td>0.009766</td>\n",
       "      <td>10.0</td>\n",
       "      <td>0.143863</td>\n",
       "      <td>0.042524</td>\n",
       "      <td>25.410793</td>\n",
       "      <td>0.877741</td>\n",
       "      <td>JQ1</td>\n",
       "      <td>BRD-K54606188, NA</td>\n",
       "      <td>3.929045</td>\n",
       "      <td>3.287745e+11</td>\n",
       "      <td>-0.012190</td>\n",
       "      <td>-3.449953</td>\n",
       "      <td>0.856099</td>\n",
       "      <td>NaN</td>\n",
       "      <td>0.006178</td>\n",
       "      <td>0.292447</td>\n",
       "    </tr>\n",
       "    <tr>\n",
       "      <th>ACH-001065</th>\n",
       "      <td>GDSC2</td>\n",
       "      <td>906862</td>\n",
       "      <td>2172</td>\n",
       "      <td>0.009766</td>\n",
       "      <td>10.0</td>\n",
       "      <td>0.088631</td>\n",
       "      <td>-2.223819</td>\n",
       "      <td>0.339325</td>\n",
       "      <td>0.510590</td>\n",
       "      <td>JQ1</td>\n",
       "      <td>BRD-K54606188, NA</td>\n",
       "      <td>0.935866</td>\n",
       "      <td>4.096968e-01</td>\n",
       "      <td>-2.014115</td>\n",
       "      <td>0.176515</td>\n",
       "      <td>0.585800</td>\n",
       "      <td>-1.073816</td>\n",
       "      <td>0.003198</td>\n",
       "      <td>0.971991</td>\n",
       "    </tr>\n",
       "    <tr>\n",
       "      <th>ACH-000930</th>\n",
       "      <td>GDSC2</td>\n",
       "      <td>907046</td>\n",
       "      <td>2172</td>\n",
       "      <td>0.009766</td>\n",
       "      <td>10.0</td>\n",
       "      <td>0.114748</td>\n",
       "      <td>-0.578942</td>\n",
       "      <td>7.780877</td>\n",
       "      <td>0.843211</td>\n",
       "      <td>JQ1</td>\n",
       "      <td>BRD-K54606188, NA</td>\n",
       "      <td>0.960799</td>\n",
       "      <td>3.695946e-01</td>\n",
       "      <td>-1.161533</td>\n",
       "      <td>0.687792</td>\n",
       "      <td>0.830671</td>\n",
       "      <td>NaN</td>\n",
       "      <td>0.002792</td>\n",
       "      <td>0.795935</td>\n",
       "    </tr>\n",
       "    <tr>\n",
       "      <th>ACH-000859</th>\n",
       "      <td>GDSC2</td>\n",
       "      <td>749709</td>\n",
       "      <td>2172</td>\n",
       "      <td>0.009766</td>\n",
       "      <td>10.0</td>\n",
       "      <td>0.047625</td>\n",
       "      <td>1.642265</td>\n",
       "      <td>534.688321</td>\n",
       "      <td>0.983634</td>\n",
       "      <td>JQ1</td>\n",
       "      <td>BRD-K54606188, NA</td>\n",
       "      <td>0.977260</td>\n",
       "      <td>1.161541e+30</td>\n",
       "      <td>-0.031889</td>\n",
       "      <td>0.900234</td>\n",
       "      <td>0.969870</td>\n",
       "      <td>NaN</td>\n",
       "      <td>0.000879</td>\n",
       "      <td>0.000540</td>\n",
       "    </tr>\n",
       "    <tr>\n",
       "      <th>ACH-000536</th>\n",
       "      <td>GDSC2</td>\n",
       "      <td>906801</td>\n",
       "      <td>2172</td>\n",
       "      <td>0.009766</td>\n",
       "      <td>10.0</td>\n",
       "      <td>0.085767</td>\n",
       "      <td>0.858430</td>\n",
       "      <td>120.177282</td>\n",
       "      <td>0.952633</td>\n",
       "      <td>JQ1</td>\n",
       "      <td>BRD-K54606188, NA</td>\n",
       "      <td>0.961719</td>\n",
       "      <td>7.840383e+01</td>\n",
       "      <td>-0.554315</td>\n",
       "      <td>0.664756</td>\n",
       "      <td>0.940827</td>\n",
       "      <td>NaN</td>\n",
       "      <td>0.003325</td>\n",
       "      <td>0.159037</td>\n",
       "    </tr>\n",
       "  </tbody>\n",
       "</table>\n",
       "<p>118908 rows × 19 columns</p>\n",
       "</div>"
      ],
      "text/plain": [
       "           DATASET  COSMIC_ID  DRUG_ID  MIN_CONC  MAX_CONC  RMSE_PUBLISHED  \\\n",
       "DepMap_ID                                                                    \n",
       "ACH-000958   GDSC2     909751     1003  0.000098       0.1        0.126397   \n",
       "ACH-000651   GDSC2     905962     1003  0.000098       0.1        0.096246   \n",
       "ACH-000856   GDSC2     910927     1003  0.000098       0.1        0.086042   \n",
       "ACH-000360   GDSC2     908442     1003  0.000098       0.1        0.100553   \n",
       "ACH-001199   GDSC2     909740     1003  0.000098       0.1        0.080253   \n",
       "...            ...        ...      ...       ...       ...             ...   \n",
       "ACH-000288   GDSC2     905951     2172  0.009766      10.0        0.143863   \n",
       "ACH-001065   GDSC2     906862     2172  0.009766      10.0        0.088631   \n",
       "ACH-000930   GDSC2     907046     2172  0.009766      10.0        0.114748   \n",
       "ACH-000859   GDSC2     749709     2172  0.009766      10.0        0.047625   \n",
       "ACH-000536   GDSC2     906801     2172  0.009766      10.0        0.085767   \n",
       "\n",
       "            Z_SCORE_PUBLISHED  IC50_PUBLISHED  AUC_PUBLISHED     DRUG_NAME  \\\n",
       "DepMap_ID                                                                    \n",
       "ACH-000958          -0.765768        0.025129       0.706775  CAMPTOTHECIN   \n",
       "ACH-000651          -0.468137        0.049577       0.775083  CAMPTOTHECIN   \n",
       "ACH-000856          -0.709881        0.028549       0.767213  CAMPTOTHECIN   \n",
       "ACH-000360          -0.562205        0.039996       0.730769  CAMPTOTHECIN   \n",
       "ACH-001199           1.148459        1.986678       0.921919  CAMPTOTHECIN   \n",
       "...                       ...             ...            ...           ...   \n",
       "ACH-000288           0.042524       25.410793       0.877741           JQ1   \n",
       "ACH-001065          -2.223819        0.339325       0.510590           JQ1   \n",
       "ACH-000930          -0.578942        7.780877       0.843211           JQ1   \n",
       "ACH-000859           1.642265      534.688321       0.983634           JQ1   \n",
       "ACH-000536           0.858430      120.177282       0.952633           JQ1   \n",
       "\n",
       "                     BROAD_ID  upper_limit          ec50     slope  \\\n",
       "DepMap_ID                                                            \n",
       "ACH-000958      BRD-K37890730     0.961510  1.360365e-02 -1.527913   \n",
       "ACH-000651      BRD-K37890730          NaN           NaN       NaN   \n",
       "ACH-000856      BRD-K37890730     0.987030  1.051355e-02 -1.267996   \n",
       "ACH-000360      BRD-K37890730     0.986668  1.653807e-02 -1.122581   \n",
       "ACH-001199      BRD-K37890730     0.948195  3.055074e-02 -2.363654   \n",
       "...                       ...          ...           ...       ...   \n",
       "ACH-000288  BRD-K54606188, NA     3.929045  3.287745e+11 -0.012190   \n",
       "ACH-001065  BRD-K54606188, NA     0.935866  4.096968e-01 -2.014115   \n",
       "ACH-000930  BRD-K54606188, NA     0.960799  3.695946e-01 -1.161533   \n",
       "ACH-000859  BRD-K54606188, NA     0.977260  1.161541e+30 -0.031889   \n",
       "ACH-000536  BRD-K54606188, NA     0.961719  7.840383e+01 -0.554315   \n",
       "\n",
       "            lower_limit       auc  log2.ic50       mse        R2  \n",
       "DepMap_ID                                                         \n",
       "ACH-000958     0.375386  0.790291  -4.963610  0.007940  0.867205  \n",
       "ACH-000651          NaN       NaN        NaN       NaN       NaN  \n",
       "ACH-000856     0.452929  0.810229  -3.912988  0.003622  0.919492  \n",
       "ACH-000360     0.394468  0.823684  -3.953616  0.003399  0.927201  \n",
       "ACH-001199     0.822454  0.926233        NaN  0.004085  0.363292  \n",
       "...                 ...       ...        ...       ...       ...  \n",
       "ACH-000288    -3.449953  0.856099        NaN  0.006178  0.292447  \n",
       "ACH-001065     0.176515  0.585800  -1.073816  0.003198  0.971991  \n",
       "ACH-000930     0.687792  0.830671        NaN  0.002792  0.795935  \n",
       "ACH-000859     0.900234  0.969870        NaN  0.000879  0.000540  \n",
       "ACH-000536     0.664756  0.940827        NaN  0.003325  0.159037  \n",
       "\n",
       "[118908 rows x 19 columns]"
      ]
     },
     "execution_count": 9,
     "metadata": {},
     "output_type": "execute_result"
    }
   ],
   "source": [
    "ccle_drug_response_gdsc2"
   ]
  },
  {
   "cell_type": "code",
   "execution_count": 10,
   "metadata": {},
   "outputs": [
    {
     "data": {
      "text/plain": [
       "PLX-4720         2680\n",
       "AFATINIB         2677\n",
       "OLAPARIB         2629\n",
       "GDC-0941         2596\n",
       "DOCETAXEL        2402\n",
       "                 ... \n",
       "WH-4-023          398\n",
       "GW843682X         398\n",
       "ROSCOVITINE       397\n",
       "JW-7-52-1, NA     386\n",
       "RIBOCICLIB         47\n",
       "Name: DRUG_NAME, Length: 397, dtype: int64"
      ]
     },
     "execution_count": 10,
     "metadata": {},
     "output_type": "execute_result"
    }
   ],
   "source": [
    "ccle_drug_response_df[\"DRUG_NAME\"].value_counts()"
   ]
  },
  {
   "cell_type": "code",
   "execution_count": 11,
   "metadata": {
    "collapsed": false,
    "pycharm": {
     "name": "#%%\n"
    }
   },
   "outputs": [
    {
     "data": {
      "text/html": [
       "<div>\n",
       "<style scoped>\n",
       "    .dataframe tbody tr th:only-of-type {\n",
       "        vertical-align: middle;\n",
       "    }\n",
       "\n",
       "    .dataframe tbody tr th {\n",
       "        vertical-align: top;\n",
       "    }\n",
       "\n",
       "    .dataframe thead th {\n",
       "        text-align: right;\n",
       "    }\n",
       "</style>\n",
       "<table border=\"1\" class=\"dataframe\">\n",
       "  <thead>\n",
       "    <tr style=\"text-align: right;\">\n",
       "      <th></th>\n",
       "      <th>DRUG_ID</th>\n",
       "      <th>SCREENING_SITE</th>\n",
       "      <th>DRUG_NAME</th>\n",
       "      <th>SYNONYMS</th>\n",
       "      <th>TARGET</th>\n",
       "      <th>TARGET_PATHWAY</th>\n",
       "    </tr>\n",
       "  </thead>\n",
       "  <tbody>\n",
       "    <tr>\n",
       "      <th>0</th>\n",
       "      <td>1</td>\n",
       "      <td>MGH</td>\n",
       "      <td>Erlotinib</td>\n",
       "      <td>Tarceva, RG-1415, CP-358774, OSI-774, Ro-50823...</td>\n",
       "      <td>EGFR</td>\n",
       "      <td>EGFR signaling</td>\n",
       "    </tr>\n",
       "    <tr>\n",
       "      <th>1</th>\n",
       "      <td>3</td>\n",
       "      <td>MGH</td>\n",
       "      <td>Rapamycin</td>\n",
       "      <td>AY-22989, Sirolimus, WY-090217, Torisel, Rapamune</td>\n",
       "      <td>MTORC1</td>\n",
       "      <td>PI3K/MTOR signaling</td>\n",
       "    </tr>\n",
       "    <tr>\n",
       "      <th>2</th>\n",
       "      <td>5</td>\n",
       "      <td>MGH</td>\n",
       "      <td>Sunitinib</td>\n",
       "      <td>Sutent, Sunitinib Malate, SU-11248</td>\n",
       "      <td>PDGFR, KIT, VEGFR, FLT3, RET, CSF1R</td>\n",
       "      <td>RTK signaling</td>\n",
       "    </tr>\n",
       "    <tr>\n",
       "      <th>3</th>\n",
       "      <td>6</td>\n",
       "      <td>MGH</td>\n",
       "      <td>PHA-665752</td>\n",
       "      <td>PHA665752, PHA 665752</td>\n",
       "      <td>MET</td>\n",
       "      <td>RTK signaling</td>\n",
       "    </tr>\n",
       "    <tr>\n",
       "      <th>4</th>\n",
       "      <td>9</td>\n",
       "      <td>MGH</td>\n",
       "      <td>MG-132</td>\n",
       "      <td>LLL cpd, MG 132, MG132</td>\n",
       "      <td>Proteasome, CAPN1</td>\n",
       "      <td>Protein stability and degradation</td>\n",
       "    </tr>\n",
       "    <tr>\n",
       "      <th>...</th>\n",
       "      <td>...</td>\n",
       "      <td>...</td>\n",
       "      <td>...</td>\n",
       "      <td>...</td>\n",
       "      <td>...</td>\n",
       "      <td>...</td>\n",
       "    </tr>\n",
       "    <tr>\n",
       "      <th>616</th>\n",
       "      <td>2362</td>\n",
       "      <td>SANGER</td>\n",
       "      <td>THR-103</td>\n",
       "      <td>WIMM synthesis</td>\n",
       "      <td>Mutant RAS</td>\n",
       "      <td>PI3K/MTOR signaling</td>\n",
       "    </tr>\n",
       "    <tr>\n",
       "      <th>617</th>\n",
       "      <td>2438</td>\n",
       "      <td>SANGER</td>\n",
       "      <td>ascorbate (vitamin C)</td>\n",
       "      <td>back-up solution from YWKim</td>\n",
       "      <td>anti-oxidant proteins</td>\n",
       "      <td>Other</td>\n",
       "    </tr>\n",
       "    <tr>\n",
       "      <th>618</th>\n",
       "      <td>2439</td>\n",
       "      <td>SANGER</td>\n",
       "      <td>glutathione</td>\n",
       "      <td>G6013, sigma</td>\n",
       "      <td>anti-oxidant proteins</td>\n",
       "      <td>Other</td>\n",
       "    </tr>\n",
       "    <tr>\n",
       "      <th>619</th>\n",
       "      <td>2498</td>\n",
       "      <td>SANGER</td>\n",
       "      <td>alpha-lipoic acid</td>\n",
       "      <td>aLA</td>\n",
       "      <td>Metabolism</td>\n",
       "      <td>Metabolism</td>\n",
       "    </tr>\n",
       "    <tr>\n",
       "      <th>620</th>\n",
       "      <td>2499</td>\n",
       "      <td>SANGER</td>\n",
       "      <td>N-acetyl cysteine</td>\n",
       "      <td>NAC</td>\n",
       "      <td>Metabolism</td>\n",
       "      <td>Metabolism</td>\n",
       "    </tr>\n",
       "  </tbody>\n",
       "</table>\n",
       "<p>621 rows × 6 columns</p>\n",
       "</div>"
      ],
      "text/plain": [
       "     DRUG_ID SCREENING_SITE              DRUG_NAME  \\\n",
       "0          1            MGH              Erlotinib   \n",
       "1          3            MGH              Rapamycin   \n",
       "2          5            MGH              Sunitinib   \n",
       "3          6            MGH             PHA-665752   \n",
       "4          9            MGH                 MG-132   \n",
       "..       ...            ...                    ...   \n",
       "616     2362         SANGER                THR-103   \n",
       "617     2438         SANGER  ascorbate (vitamin C)   \n",
       "618     2439         SANGER            glutathione   \n",
       "619     2498         SANGER      alpha-lipoic acid   \n",
       "620     2499         SANGER      N-acetyl cysteine   \n",
       "\n",
       "                                              SYNONYMS  \\\n",
       "0    Tarceva, RG-1415, CP-358774, OSI-774, Ro-50823...   \n",
       "1    AY-22989, Sirolimus, WY-090217, Torisel, Rapamune   \n",
       "2                   Sutent, Sunitinib Malate, SU-11248   \n",
       "3                                PHA665752, PHA 665752   \n",
       "4                               LLL cpd, MG 132, MG132   \n",
       "..                                                 ...   \n",
       "616                                     WIMM synthesis   \n",
       "617                        back-up solution from YWKim   \n",
       "618                                       G6013, sigma   \n",
       "619                                                aLA   \n",
       "620                                                NAC   \n",
       "\n",
       "                                  TARGET                     TARGET_PATHWAY  \n",
       "0                                   EGFR                     EGFR signaling  \n",
       "1                                 MTORC1                PI3K/MTOR signaling  \n",
       "2    PDGFR, KIT, VEGFR, FLT3, RET, CSF1R                      RTK signaling  \n",
       "3                                    MET                      RTK signaling  \n",
       "4                      Proteasome, CAPN1  Protein stability and degradation  \n",
       "..                                   ...                                ...  \n",
       "616                           Mutant RAS                PI3K/MTOR signaling  \n",
       "617                anti-oxidant proteins                              Other  \n",
       "618                anti-oxidant proteins                              Other  \n",
       "619                           Metabolism                         Metabolism  \n",
       "620                           Metabolism                         Metabolism  \n",
       "\n",
       "[621 rows x 6 columns]"
      ]
     },
     "execution_count": 11,
     "metadata": {},
     "output_type": "execute_result"
    }
   ],
   "source": [
    "drug_target_rel = pd.read_csv(f\"{data_dir}/ccle/screened_compounds_rel.csv\")\n",
    "drug_target_rel"
   ]
  },
  {
   "cell_type": "markdown",
   "metadata": {},
   "source": [
    "### Tamoxifen"
   ]
  },
  {
   "cell_type": "code",
   "execution_count": 12,
   "metadata": {},
   "outputs": [
    {
     "data": {
      "text/plain": [
       "'ESR1'"
      ]
     },
     "execution_count": 12,
     "metadata": {},
     "output_type": "execute_result"
    }
   ],
   "source": [
    "target_gene = drug_target_rel[drug_target_rel[\"DRUG_NAME\"] == \"Tamoxifen\"][\"TARGET\"].iloc[0]\n",
    "target_gene"
   ]
  },
  {
   "cell_type": "markdown",
   "metadata": {},
   "source": [
    "#### Normalization and Feature Reduction"
   ]
  },
  {
   "cell_type": "code",
   "execution_count": 13,
   "metadata": {},
   "outputs": [
    {
     "data": {
      "text/plain": [
       "(759, 19)"
      ]
     },
     "execution_count": 13,
     "metadata": {},
     "output_type": "execute_result"
    }
   ],
   "source": [
    "tamox_response_ccle = ccle_drug_response_gdsc2[ccle_drug_response_gdsc2[\"DRUG_NAME\"] == \"TAMOXIFEN\"]\n",
    "tamox_response_ccle.shape"
   ]
  },
  {
   "cell_type": "code",
   "execution_count": 14,
   "metadata": {},
   "outputs": [
    {
     "data": {
      "text/plain": [
       "(565, 19222)"
      ]
     },
     "execution_count": 14,
     "metadata": {},
     "output_type": "execute_result"
    }
   ],
   "source": [
    "tamoxifen_ccle_gene_expr = pd.merge(ccle_gene_expr_df, tamox_response_ccle[\"IC50_PUBLISHED\"], left_index=True, right_index=True)\n",
    "tamoxifen_ccle_gene_expr.shape"
   ]
  },
  {
   "cell_type": "code",
   "execution_count": 15,
   "metadata": {},
   "outputs": [],
   "source": [
    "from sklearn.preprocessing import StandardScaler\n",
    "\n",
    "seed = 775\n",
    "\n",
    "X, y = tamoxifen_ccle_gene_expr[tamoxifen_ccle_gene_expr.columns.difference([\"IC50_PUBLISHED\"])], tamoxifen_ccle_gene_expr[\"IC50_PUBLISHED\"]\n"
   ]
  },
  {
   "cell_type": "code",
   "execution_count": 16,
   "metadata": {},
   "outputs": [],
   "source": [
    "X_train_df, X_test_df, y_train_df, y_test_df = train_test_split(X, y, random_state=seed, shuffle=True, test_size=0.2)\n",
    "\n",
    "train_df, test_df = pd.concat([X_train_df, y_train_df], axis=1),\\\n",
    "                                     pd.concat([X_test_df, y_test_df], axis=1)"
   ]
  },
  {
   "cell_type": "code",
   "execution_count": 17,
   "metadata": {},
   "outputs": [],
   "source": [
    "train_scaler = StandardScaler().fit(train_df)\n",
    "train_scaled = train_scaler.transform(train_df)\n",
    "\n",
    "# Scale test separately\n",
    "test_scaler = StandardScaler().fit(test_df)\n",
    "test_scaled = test_scaler.transform(test_df)"
   ]
  },
  {
   "cell_type": "code",
   "execution_count": 18,
   "metadata": {},
   "outputs": [
    {
     "data": {
      "text/plain": [
       "(316, 19221)"
      ]
     },
     "execution_count": 18,
     "metadata": {},
     "output_type": "execute_result"
    }
   ],
   "source": [
    "X_train_df, y_train_df = pd.DataFrame(train_scaled[:,:-1], columns=X_train_df.columns), pd.Series(train_scaled[:,-1])\n",
    "X_test_df, y_test_df = pd.DataFrame(test_scaled[:,:-1], columns=X_test_df.columns), pd.Series(test_scaled[:,-1])\n",
    "X_train_df, X_val_df, y_train_df, y_val_df = train_test_split(X_train_df, y_train_df, random_state=seed, \n",
    "                                                        shuffle=True, test_size=0.3)\n",
    "X_train_df.shape"
   ]
  },
  {
   "cell_type": "markdown",
   "metadata": {},
   "source": [
    "#### Significant Genes"
   ]
  },
  {
   "cell_type": "code",
   "execution_count": 19,
   "metadata": {},
   "outputs": [],
   "source": [
    "import scipy.stats as stats\n",
    "def calculate_sig_genes(X, y):\n",
    "\n",
    "    pvals = np.zeros(X.shape[-1])\n",
    "\n",
    "    for p in range(X_train_df.shape[-1]):\n",
    "        _, pval = stats.spearmanr(X.iloc[:, p], y, nan_policy=\"raise\")\n",
    "        pvals[p] = pval\n",
    "    \n",
    "    sig_genes_idx = np.argwhere(pvals< 0.01).ravel()\n",
    "    sig_genes_idx = np.argsort(pvals)\n",
    "    return sig_genes_idx"
   ]
  },
  {
   "cell_type": "code",
   "execution_count": 20,
   "metadata": {},
   "outputs": [
    {
     "name": "stderr",
     "output_type": "stream",
     "text": [
      "/usr/local/lib/python3.9/dist-packages/scipy/stats/_stats_py.py:4529: SpearmanRConstantInputWarning: An input array is constant; the correlation coefficient is not defined.\n",
      "  warnings.warn(SpearmanRConstantInputWarning())\n"
     ]
    }
   ],
   "source": [
    "sig_genes_idx = calculate_sig_genes(X_train_df, y_train_df)\n",
    "sig_genes_idx = sig_genes_idx[:500]"
   ]
  },
  {
   "cell_type": "code",
   "execution_count": 21,
   "metadata": {},
   "outputs": [],
   "source": [
    "target_gene_idx = [i for i, col in enumerate(X_train_df.columns) if target_gene in col]\n",
    "X_train_sig_df = pd.concat([X_train_df.iloc[:,sig_genes_idx], X_train_df.iloc[:,target_gene_idx]], axis=1)\n",
    "X_val_sig_df = pd.concat([X_val_df.iloc[:,sig_genes_idx], X_val_df.iloc[:,target_gene_idx]], axis=1)\n",
    "X_test_sig_df = pd.concat([X_test_df.iloc[:,sig_genes_idx], X_test_df.iloc[:,target_gene_idx]], axis=1)"
   ]
  },
  {
   "cell_type": "code",
   "execution_count": 22,
   "metadata": {},
   "outputs": [],
   "source": [
    "gene_names = [col.split(\"(\")[0].strip() for col in X_train_sig_df.columns]\n",
    "entrz_ids = [int(col.split(\"(\")[1][:-1].strip()) for col in X_train_sig_df.columns]"
   ]
  },
  {
   "cell_type": "markdown",
   "metadata": {},
   "source": [
    "### Interaction Data"
   ]
  },
  {
   "cell_type": "code",
   "execution_count": 23,
   "metadata": {},
   "outputs": [
    {
     "data": {
      "text/html": [
       "<div>\n",
       "<style scoped>\n",
       "    .dataframe tbody tr th:only-of-type {\n",
       "        vertical-align: middle;\n",
       "    }\n",
       "\n",
       "    .dataframe tbody tr th {\n",
       "        vertical-align: top;\n",
       "    }\n",
       "\n",
       "    .dataframe thead th {\n",
       "        text-align: right;\n",
       "    }\n",
       "</style>\n",
       "<table border=\"1\" class=\"dataframe\">\n",
       "  <thead>\n",
       "    <tr style=\"text-align: right;\">\n",
       "      <th></th>\n",
       "      <th>symbolA</th>\n",
       "      <th>symbolB</th>\n",
       "      <th>weight</th>\n",
       "    </tr>\n",
       "  </thead>\n",
       "  <tbody>\n",
       "    <tr>\n",
       "      <th>0</th>\n",
       "      <td>ARF5</td>\n",
       "      <td>ACAP2</td>\n",
       "      <td>0.767</td>\n",
       "    </tr>\n",
       "    <tr>\n",
       "      <th>1</th>\n",
       "      <td>ARF5</td>\n",
       "      <td>RAB1A</td>\n",
       "      <td>0.730</td>\n",
       "    </tr>\n",
       "    <tr>\n",
       "      <th>2</th>\n",
       "      <td>ARF5</td>\n",
       "      <td>COPE</td>\n",
       "      <td>0.745</td>\n",
       "    </tr>\n",
       "    <tr>\n",
       "      <th>3</th>\n",
       "      <td>ARF5</td>\n",
       "      <td>ACAP1</td>\n",
       "      <td>0.765</td>\n",
       "    </tr>\n",
       "    <tr>\n",
       "      <th>4</th>\n",
       "      <td>ARF5</td>\n",
       "      <td>COPZ1</td>\n",
       "      <td>0.757</td>\n",
       "    </tr>\n",
       "    <tr>\n",
       "      <th>...</th>\n",
       "      <td>...</td>\n",
       "      <td>...</td>\n",
       "      <td>...</td>\n",
       "    </tr>\n",
       "    <tr>\n",
       "      <th>474973</th>\n",
       "      <td>EIF3L</td>\n",
       "      <td>EIF3K</td>\n",
       "      <td>0.999</td>\n",
       "    </tr>\n",
       "    <tr>\n",
       "      <th>474974</th>\n",
       "      <td>EIF3L</td>\n",
       "      <td>EIF4G1</td>\n",
       "      <td>0.908</td>\n",
       "    </tr>\n",
       "    <tr>\n",
       "      <th>474975</th>\n",
       "      <td>EIF3L</td>\n",
       "      <td>EIF3E</td>\n",
       "      <td>0.999</td>\n",
       "    </tr>\n",
       "    <tr>\n",
       "      <th>474976</th>\n",
       "      <td>EIF3L</td>\n",
       "      <td>RPL22</td>\n",
       "      <td>0.738</td>\n",
       "    </tr>\n",
       "    <tr>\n",
       "      <th>474977</th>\n",
       "      <td>EIF3L</td>\n",
       "      <td>RPS2</td>\n",
       "      <td>0.963</td>\n",
       "    </tr>\n",
       "  </tbody>\n",
       "</table>\n",
       "<p>474978 rows × 3 columns</p>\n",
       "</div>"
      ],
      "text/plain": [
       "       symbolA symbolB  weight\n",
       "0         ARF5   ACAP2   0.767\n",
       "1         ARF5   RAB1A   0.730\n",
       "2         ARF5    COPE   0.745\n",
       "3         ARF5   ACAP1   0.765\n",
       "4         ARF5   COPZ1   0.757\n",
       "...        ...     ...     ...\n",
       "474973   EIF3L   EIF3K   0.999\n",
       "474974   EIF3L  EIF4G1   0.908\n",
       "474975   EIF3L   EIF3E   0.999\n",
       "474976   EIF3L   RPL22   0.738\n",
       "474977   EIF3L    RPS2   0.963\n",
       "\n",
       "[474978 rows x 3 columns]"
      ]
     },
     "execution_count": 23,
     "metadata": {},
     "output_type": "execute_result"
    }
   ],
   "source": [
    "string_ppi = pd.read_csv(f\"{data_dir}/ccle/string_ppi.csv\")\n",
    "string_ppi"
   ]
  },
  {
   "cell_type": "code",
   "execution_count": 24,
   "metadata": {},
   "outputs": [],
   "source": [
    "%autoreload\n",
    "from nn_util import build_network_string\n",
    "J = build_network_string(gene_names, string_ppi)"
   ]
  },
  {
   "cell_type": "code",
   "execution_count": 25,
   "metadata": {},
   "outputs": [
    {
     "data": {
      "text/plain": [
       "1268"
      ]
     },
     "execution_count": 25,
     "metadata": {},
     "output_type": "execute_result"
    }
   ],
   "source": [
    "np.count_nonzero(J)"
   ]
  },
  {
   "cell_type": "code",
   "execution_count": 26,
   "metadata": {},
   "outputs": [
    {
     "data": {
      "text/plain": [
       "(316, 501)"
      ]
     },
     "execution_count": 26,
     "metadata": {},
     "output_type": "execute_result"
    }
   ],
   "source": [
    "rng_key = jax.random.PRNGKey(seed)\n",
    "X_train_sig, X_val_sig, X_test_sig = X_train_sig_df.to_numpy(), X_val_sig_df.to_numpy(), X_test_sig_df.to_numpy()\n",
    "y_train, y_test, y_val = y_train_df.to_numpy(), y_test_df.to_numpy(), y_val_df.to_numpy()\n",
    "X_train_sig, X_test_sig, y_train, y_test = jax.device_put(X_train_sig), jax.device_put(X_test_sig), \\\n",
    "                                   jax.device_put(y_train), jax.device_put(y_test)\n",
    "X_train_sig.shape                                   "
   ]
  },
  {
   "cell_type": "code",
   "execution_count": 27,
   "metadata": {},
   "outputs": [],
   "source": [
    "%autoreload\n",
    "from operator import itemgetter\n",
    "from tqdm import tqdm\n",
    "\n",
    "def evaluate_bnn(model, X, y, params, gammas):\n",
    "    eval_fn = lambda p, g: model.apply(p, X, g).ravel()\n",
    "    preds = jax.vmap(eval_fn)(params, gammas)\n",
    "    preds = preds.reshape(-1, preds.shape[-1])\n",
    "    losses = jax.vmap(optax.l2_loss, in_axes=(0, None))(preds, y)\n",
    "    mean_loss = jnp.mean(losses, axis=-1)\n",
    "    return jnp.sum(mean_loss)\n",
    "\n",
    "def get_feats_dropout_loss(sgmcmc, X, y):\n",
    "    var_loss_dict = {\"feats_idx\": [], \"num_models\": [] , \"loss_on\": [], \"loss_off\": [], \"loss_diff\": []}\n",
    "    \n",
    "    disc_states = mixed_sgmcmc.states_.discrete_position\n",
    "    contin_states = mixed_sgmcmc.states_.contin_position\n",
    "    \n",
    "    \n",
    "\n",
    "    num_models = disc_states.shape[0]\n",
    "\n",
    "    p = X.shape[1]\n",
    "\n",
    "    for idx in range(p):\n",
    "        # idx = feats_idx[i]\n",
    "        idx_on = np.argwhere(disc_states[:,idx] == 1.).ravel()\n",
    "        loss_on, loss_off = 0., 0.\n",
    "        if idx_on.size == 0: ## irrelevant feature\n",
    "            loss_diff = 1e9\n",
    "        else:\n",
    "            disc_states_on = disc_states[idx_on]\n",
    "            params_on = jax.tree_util.tree_map(lambda x: x[idx_on], contin_states)\n",
    "            loss_on = evaluate_bnn(sgmcmc.model_, X, y, params_on, disc_states_on)\n",
    "\n",
    "            # Turn-off the variable, and see hwo the loss changes\n",
    "            disc_states_off = disc_states_on.at[:,idx].set(0)\n",
    "            loss_off = evaluate_bnn(sgmcmc.model_, X, y, params_on, disc_states_off)\n",
    "\n",
    "            loss_diff = (loss_on - loss_off) * (len(idx_on) / num_models)\n",
    "\n",
    "\n",
    "        var_loss_dict[\"feats_idx\"].append(idx)\n",
    "        var_loss_dict[\"num_models\"].append(idx_on.size)\n",
    "        var_loss_dict[\"loss_on\"].append(loss_on)\n",
    "        var_loss_dict[\"loss_off\"].append(loss_off)\n",
    "        var_loss_dict[\"loss_diff\"].append(loss_diff)\n",
    "\n",
    "\n",
    "    var_loss_df = pd.DataFrame(var_loss_dict).sort_values(by=\"loss_diff\")\n",
    "\n",
    "    return var_loss_df\n",
    "\n",
    "def get_gene_names(gene_cols):\n",
    "    return [gene.split(\"(\")[0].strip() for gene in gene_cols]"
   ]
  },
  {
   "cell_type": "markdown",
   "metadata": {},
   "source": [
    "### BNN"
   ]
  },
  {
   "cell_type": "code",
   "execution_count": 28,
   "metadata": {},
   "outputs": [],
   "source": [
    "%autoreload\n",
    "from smac.facade.smac_mf_facade import SMAC4MF\n",
    "from smac.facade.smac_hpo_facade import SMAC4HPO\n",
    "from smac.scenario.scenario import Scenario\n",
    "from sklearn.model_selection import cross_val_score, KFold\n",
    "from sklearn.metrics import r2_score\n",
    "from sgmcmc_cyclical_bkp import MixedSGMCMC\n",
    "from run_nn_fisher_test_exp import run_logistic_regression\n",
    "from smac.configspace import ConfigurationSpace\n",
    "from ConfigSpace.hyperparameters import (\n",
    "    CategoricalHyperparameter,\n",
    "    UniformFloatHyperparameter,\n",
    "    UniformIntegerHyperparameter,\n",
    ")\n",
    "\n",
    "from ConfigSpace import InCondition, Configuration\n",
    "\n",
    "import math\n",
    "\n",
    "def get_configspace(input_size)-> ConfigurationSpace:\n",
    "    # Build Configuration Space which defines all parameters and their ranges.\n",
    "\n",
    "    layer_dims = [50, 100, 150, 200, 250, 300, 350]\n",
    "\n",
    "    cs  = ConfigurationSpace()\n",
    "\n",
    "    # layer_dim = CategoricalHyperparameter(\"layer_dim\", layer_dims, default_value=layer_dims[0])\n",
    "    # activation = CategoricalHyperparameter(\"activation\", [\"relu\", \"tanh\"], default_value=\"tanh\")\n",
    "    \n",
    "    # disc_lr = CategoricalHyperparameter(\"disc_lr\", [1e-5, 1e-4, 1e-3, 1e-2, 1e-1, 0.5] , default_value=1e-1)\n",
    "    # contin_lr = CategoricalHyperparameter(\"contin_lr\", [1e-5, 1e-4, 1e-3, 1e-2], default_value=1e-5) #TODO Extend range\n",
    "\n",
    "    # lr_schedule = CategoricalHyperparameter(\"lr_schedule\", [\"cyclical\"], default_value=\"cyclical\")\n",
    "    # num_cycles = CategoricalHyperparameter(\"num_cycles\", [3, 4, 5, 7], default_value=5)\n",
    "    # beta = CategoricalHyperparameter(\"beta\", [0.5, 0.55, 0.6, 0.65, 0.7, 0.75, 0.8, 0.85, 0.9, 0.95], default_value=0.9)\n",
    "\n",
    "    # batch_size = CategoricalHyperparameter(\"batch_size\", [16, 32, 64, 128], default_value=32)\n",
    "    # thinning_interval = CategoricalHyperparameter(\"thinning_interval\", [10, 50, 100, 150, 200], default_value=100)\n",
    "\n",
    "    # eta = CategoricalHyperparameter(\"eta\", [0.01, 0.1, 1., 5, 10., 50., 100.], default_value=1.)\n",
    "    mu = CategoricalHyperparameter(\"mu\", [0.01, 0.1, 1., 5, 10., 50., 100.], default_value=1.)\n",
    "    # temp = CategoricalHyperparameter(\"temp\", [1e-4, 1e-3, 1e-2, 1e-1, 0.5, 1.], default_value=1.)\n",
    "    # sigma = CategoricalHyperparameter(\"sigma\", [1e-3, 1e-2, 1e-1, 0.5, 1., 10.], default_value=1.)\n",
    "\n",
    "\n",
    "    # Add hyper-parameters\n",
    "    # cs.add_hyperparameters([layer_dim, activation, disc_lr, contin_lr, eta, mu, temp, sigma, num_cycles, beta])\n",
    "    cs.add_hyperparameters([mu])\n",
    "\n",
    "    # # Cyclical SG-MCMC condition\n",
    "    # use_cycle_len = InCondition(child=cycle_len, parent=lr_schedule, values=[\"cyclical\"])\n",
    "    # use_beta = InCondition(child=beta, parent=lr_schedule, values=[\"cyclical\"])\n",
    "    #\n",
    "    # cs.add_conditions([use_cycle_len, use_beta])\n",
    "\n",
    "    return cs\n",
    "\n",
    "def get_cv_score(model, X, y, cv, activation_fns, J):\n",
    "\n",
    "    scores = []\n",
    "\n",
    "    for train_idx, test_idx in cv.split(X, y):\n",
    "        x_train_cv, y_train_cv = X[train_idx], y[train_idx]\n",
    "        x_test_cv, y_test_cv = X[test_idx], y[test_idx]\n",
    "        model.fit(x_train_cv, y_train_cv, activation_fns=activation_fns, J=J)\n",
    "        score = jax.device_get(model.score(x_test_cv, y_test_cv))\n",
    "        scores.append(score)\n",
    "    \n",
    "    mean_score = np.mean(np.array(scores))\n",
    "    if math.isnan(mean_score):\n",
    "        return -1e9\n",
    "    \n",
    "    return mean_score\n",
    "\n",
    "def generate_train_cs(seed, X, y, J):\n",
    "    cv = KFold(n_splits=3, shuffle=True, random_state=seed)\n",
    "    # X_tr, X_val, y_tr, y_val = train_test_split(X, y, stratify=y, test_size=0.1, shuffle=seed)\n",
    "    def train_cs(config: Configuration)-> float:\n",
    "\n",
    "        # params = {\"disc_lr\":config[\"disc_lr\"], \"contin_lr\": config[\"contin_lr\"], \"batch_size\": 20,\n",
    "        #           \"mu\": config[\"mu\"], \"eta\": config[\"eta\"], \"temp\": config[\"temp\"],\n",
    "        #           \"sigma\": config[\"sigma\"], \"beta\": config[\"beta\"], \"num_cycles\": config[\"num_cycles\"]}\n",
    "\n",
    "        params = {\"disc_lr\": 0.1, \"contin_lr\": 1e-5, \"batch_size\": 20,\n",
    "                  \"mu\": config[\"mu\"], \"eta\": 1.0, \"temp\": 1.0,\n",
    "                  \"sigma\": 1.0, \"beta\": 0.95, \"num_cycles\": 5}\n",
    "\n",
    "        # print(config)\n",
    "        mixed_sgmcmc = MixedSGMCMC(seed=seed, n_samples=100, n_warmup=0, lr_schedule=\"cyclical\",\n",
    "                            n_chains=1, layer_dims=[300, 100], classifier=False ,**params)\n",
    "\n",
    "        score = get_cv_score(mixed_sgmcmc, X, y, cv, [\"tanh\", \"tanh\"], J)\n",
    "        # print(score)\n",
    "        return 1 - score\n",
    "\n",
    "\n",
    "    return train_cs\n",
    "\n",
    "\n",
    "def optimize_hyper_parameters(seed, X, y, J, total_time=60):\n",
    "    cs = get_configspace(X.shape[1])\n",
    "    scenario = Scenario({\n",
    "        \"run_obj\": \"quality\",\n",
    "        \"wallclock-limit\": total_time,\n",
    "        \"cs\": cs,\n",
    "        \"deterministic\": True,\n",
    "        \"cutoff\": 10,  # runtime limit for the target algorithm\n",
    "        \"verbose_level\": \"DEBUG\", \n",
    "        \"seed\": seed\n",
    "    })\n",
    "\n",
    "    max_steps = 5000\n",
    "\n",
    "    train_cs = generate_train_cs(seed, X, y, J)\n",
    "\n",
    "    intensifier_kwargs = {\"initial_budget\": 2000, \"max_budget\": max_steps}\n",
    "\n",
    "    # smac = SMAC4MF(scenario=scenario, rng=np.random.RandomState(seed),\n",
    "    #                tae_runner=train_cs, intensifier_kwargs=intensifier_kwargs)\n",
    "\n",
    "    smac = SMAC4HPO(scenario=scenario, rng=np.random.RandomState(seed), tae_runner=train_cs)\n",
    "\n",
    "    tae = smac.get_tae_runner()\n",
    "\n",
    "    try:\n",
    "        incumbent = smac.optimize()\n",
    "\n",
    "    finally:\n",
    "        incumbent = smac.solver.incumbent\n",
    "\n",
    "\n",
    "    inc_val = tae.run(config=incumbent, budget=max_steps, seed=seed)\n",
    "\n",
    "    return incumbent, 1 - inc_val[1], smac\n"
   ]
  },
  {
   "cell_type": "code",
   "execution_count": 29,
   "metadata": {},
   "outputs": [],
   "source": [
    "# config, score, smac = optimize_hyper_parameters(seed, X_train_sig, y_train, J, total_time=180)\n",
    "# score"
   ]
  },
  {
   "cell_type": "code",
   "execution_count": 30,
   "metadata": {},
   "outputs": [],
   "source": [
    "config = {\n",
    "  'activation': 'tanh',\n",
    "  'beta': 0.95,\n",
    "  'contin_lr': 1e-05,\n",
    "  'disc_lr': 0.1,\n",
    "  'eta': 1.0,\n",
    "  'layer_dim': [300, 100, 100],\n",
    "  'activation_fns': [\"tanh\", \"tanh\", \"tanh\"],\n",
    "  'mu': 1.0,\n",
    "  'num_cycles': 5,\n",
    "  'sigma': 1.0,\n",
    "  'temp': 1.0,\n",
    "}"
   ]
  },
  {
   "cell_type": "code",
   "execution_count": 31,
   "metadata": {},
   "outputs": [
    {
     "data": {
      "text/plain": [
       "(316, 501)"
      ]
     },
     "execution_count": 31,
     "metadata": {},
     "output_type": "execute_result"
    }
   ],
   "source": [
    "X_train_sig.shape"
   ]
  },
  {
   "cell_type": "code",
   "execution_count": 32,
   "metadata": {},
   "outputs": [
    {
     "name": "stdout",
     "output_type": "stream",
     "text": [
      "Num batches: 10\n",
      "Num models: 100\n",
      "val_score: 0.009575087979897257, test_score: 0.016237003474307676\n"
     ]
    }
   ],
   "source": [
    "%autoreload\n",
    "from sgmcmc_cyclical_bkp import MixedSGMCMC\n",
    "from sklearn.metrics import r2_score\n",
    "cv = KFold(n_splits=3, shuffle=True, random_state=seed)\n",
    "params = {\"disc_lr\":config[\"disc_lr\"], \"contin_lr\": config[\"contin_lr\"], \"batch_size\": 32,\n",
    "                  \"mu\": config[\"mu\"], \"eta\": config[\"eta\"], \"temp\": config[\"temp\"],\n",
    "                  \"sigma\": config[\"sigma\"], \"beta\": config[\"beta\"], \"num_cycles\": config[\"num_cycles\"]}\n",
    "\n",
    "mixed_sgmcmc = MixedSGMCMC(seed=seed, n_samples=200, n_warmup=0, lr_schedule=\"cyclical\",\n",
    "                            layer_dims=config[\"layer_dim\"], classifier=False ,**params)\n",
    "\n",
    "# cv_score_bnn = get_cv_score(mixed_sgmcmc, X_train_sig, y_train, cv, config[\"activation_fns\"], J)\n",
    "# print(cv_score_bnn)\n",
    "mixed_sgmcmc.fit(X_train_sig, y_train, activation_fns=config[\"activation_fns\"] , J=J)\n",
    "n_models = mixed_sgmcmc.states_.discrete_position.shape[0]\n",
    "print(f\"Num models: {n_models}\")\n",
    "print(f\"val_score: {mixed_sgmcmc.score(X_val_sig, y_val)}, test_score: {mixed_sgmcmc.score(X_test_sig, y_test)}\")"
   ]
  },
  {
   "cell_type": "code",
   "execution_count": 33,
   "metadata": {},
   "outputs": [
    {
     "data": {
      "text/plain": [
       "[<matplotlib.lines.Line2D at 0x7f5b385f29a0>]"
      ]
     },
     "execution_count": 33,
     "metadata": {},
     "output_type": "execute_result"
    },
    {
     "data": {
      "image/png": "[encoded data removed]",
      "text/plain": [
       "<Figure size 432x288 with 1 Axes>"
      ]
     },
     "metadata": {
      "needs_background": "light"
     },
     "output_type": "display_data"
    }
   ],
   "source": [
    "plt.plot(mixed_sgmcmc.states_.disc_logprob.ravel())"
   ]
  },
  {
   "cell_type": "code",
   "execution_count": 393,
   "metadata": {},
   "outputs": [
    {
     "data": {
      "text/plain": [
       "[<matplotlib.lines.Line2D at 0x7f09b3e584f0>]"
      ]
     },
     "execution_count": 393,
     "metadata": {},
     "output_type": "execute_result"
    },
    {
     "data": {
      "image/png": "[encoded data removed]",
      "text/plain": [
       "<Figure size 432x288 with 1 Axes>"
      ]
     },
     "metadata": {
      "needs_background": "light"
     },
     "output_type": "display_data"
    }
   ],
   "source": [
    "# plt.plot(mixed_sgmcmc.states_.disc_logprob.ravel())\n",
    "plt.plot(mixed_sgmcmc.states_.contin_logprob.ravel())"
   ]
  },
  {
   "cell_type": "code",
   "execution_count": 394,
   "metadata": {},
   "outputs": [],
   "source": [
    "per_cycle_contin_pos = jax.tree_util.tree_map(lambda x: x.reshape((mixed_sgmcmc.num_cycles, -1) +  x.shape[1:]), mixed_sgmcmc.states_.contin_position)\n",
    "per_cycle_disc_pos = mixed_sgmcmc.states_.discrete_position.reshape(mixed_sgmcmc.num_cycles, -1,\n",
    "                                            mixed_sgmcmc.states_.discrete_position.shape[-1])                                        "
   ]
  },
  {
   "cell_type": "code",
   "execution_count": 395,
   "metadata": {},
   "outputs": [],
   "source": [
    "pred_fn = lambda p, g: mixed_sgmcmc.model_.apply(p, X_test_sig, g).ravel()\n",
    "per_cycle_pred = jnp.mean(jax.vmap(jax.vmap(pred_fn))(per_cycle_contin_pos, per_cycle_disc_pos), axis=1)"
   ]
  },
  {
   "cell_type": "code",
   "execution_count": 396,
   "metadata": {},
   "outputs": [],
   "source": [
    "%autoreload\n",
    "from gibbs_sampler_cyclical_bkp import make_gaussian_likelihood\n",
    "log_ll_fn = make_gaussian_likelihood(mixed_sgmcmc.sigma, mixed_sgmcmc.temp, X_train_sig.shape[0])\n",
    "\n",
    "per_cycle_ll = jax.vmap(jax.vmap(lambda p, g: log_ll_fn(mixed_sgmcmc.model_, p, [X_train_sig[:20], y_train[:20]], g)))(per_cycle_contin_pos, per_cycle_disc_pos)\n",
    "\n",
    "harmonic_mean = 1./(jnp.mean((1./per_cycle_ll), axis=-1))"
   ]
  },
  {
   "cell_type": "code",
   "execution_count": 397,
   "metadata": {},
   "outputs": [
    {
     "data": {
      "text/plain": [
       "DeviceArray([250.21011, 252.91325, 249.59021, 251.23502, 243.86058], dtype=float32)"
      ]
     },
     "execution_count": 397,
     "metadata": {},
     "output_type": "execute_result"
    }
   ],
   "source": [
    "jnp.mean(per_cycle_ll, axis=-1)"
   ]
  },
  {
   "cell_type": "code",
   "execution_count": 398,
   "metadata": {},
   "outputs": [
    {
     "data": {
      "text/plain": [
       "DeviceArray(0.953219, dtype=float32)"
      ]
     },
     "execution_count": 398,
     "metadata": {},
     "output_type": "execute_result"
    }
   ],
   "source": [
    "jnp.mean((y_test - per_cycle_pred[1])**2)"
   ]
  },
  {
   "cell_type": "code",
   "execution_count": 399,
   "metadata": {},
   "outputs": [
    {
     "data": {
      "image/png": "[encoded data removed]",
      "text/plain": [
       "<Figure size 432x288 with 1 Axes>"
      ]
     },
     "metadata": {
      "needs_background": "light"
     },
     "output_type": "display_data"
    }
   ],
   "source": [
    "for i in range(mixed_sgmcmc.num_cycles):\n",
    "    plt.plot(per_cycle_ll[i])"
   ]
  },
  {
   "cell_type": "code",
   "execution_count": 400,
   "metadata": {},
   "outputs": [
    {
     "data": {
      "text/html": [
       "<div>\n",
       "<style scoped>\n",
       "    .dataframe tbody tr th:only-of-type {\n",
       "        vertical-align: middle;\n",
       "    }\n",
       "\n",
       "    .dataframe tbody tr th {\n",
       "        vertical-align: top;\n",
       "    }\n",
       "\n",
       "    .dataframe thead th {\n",
       "        text-align: right;\n",
       "    }\n",
       "</style>\n",
       "<table border=\"1\" class=\"dataframe\">\n",
       "  <thead>\n",
       "    <tr style=\"text-align: right;\">\n",
       "      <th></th>\n",
       "      <th>feats_idx</th>\n",
       "      <th>num_models</th>\n",
       "      <th>loss_on</th>\n",
       "      <th>loss_off</th>\n",
       "      <th>loss_diff</th>\n",
       "    </tr>\n",
       "  </thead>\n",
       "  <tbody>\n",
       "    <tr>\n",
       "      <th>51</th>\n",
       "      <td>51</td>\n",
       "      <td>100</td>\n",
       "      <td>55.801952</td>\n",
       "      <td>55.830696</td>\n",
       "      <td>-0.028743744</td>\n",
       "    </tr>\n",
       "    <tr>\n",
       "      <th>78</th>\n",
       "      <td>78</td>\n",
       "      <td>100</td>\n",
       "      <td>55.801952</td>\n",
       "      <td>55.8303</td>\n",
       "      <td>-0.028347015</td>\n",
       "    </tr>\n",
       "    <tr>\n",
       "      <th>421</th>\n",
       "      <td>421</td>\n",
       "      <td>100</td>\n",
       "      <td>55.801952</td>\n",
       "      <td>55.829483</td>\n",
       "      <td>-0.02753067</td>\n",
       "    </tr>\n",
       "    <tr>\n",
       "      <th>26</th>\n",
       "      <td>26</td>\n",
       "      <td>100</td>\n",
       "      <td>55.801952</td>\n",
       "      <td>55.82834</td>\n",
       "      <td>-0.026386261</td>\n",
       "    </tr>\n",
       "    <tr>\n",
       "      <th>152</th>\n",
       "      <td>152</td>\n",
       "      <td>100</td>\n",
       "      <td>55.801952</td>\n",
       "      <td>55.826576</td>\n",
       "      <td>-0.02462387</td>\n",
       "    </tr>\n",
       "    <tr>\n",
       "      <th>...</th>\n",
       "      <td>...</td>\n",
       "      <td>...</td>\n",
       "      <td>...</td>\n",
       "      <td>...</td>\n",
       "      <td>...</td>\n",
       "    </tr>\n",
       "    <tr>\n",
       "      <th>423</th>\n",
       "      <td>423</td>\n",
       "      <td>0</td>\n",
       "      <td>0.0</td>\n",
       "      <td>0.0</td>\n",
       "      <td>1000000000.0</td>\n",
       "    </tr>\n",
       "    <tr>\n",
       "      <th>275</th>\n",
       "      <td>275</td>\n",
       "      <td>0</td>\n",
       "      <td>0.0</td>\n",
       "      <td>0.0</td>\n",
       "      <td>1000000000.0</td>\n",
       "    </tr>\n",
       "    <tr>\n",
       "      <th>199</th>\n",
       "      <td>199</td>\n",
       "      <td>0</td>\n",
       "      <td>0.0</td>\n",
       "      <td>0.0</td>\n",
       "      <td>1000000000.0</td>\n",
       "    </tr>\n",
       "    <tr>\n",
       "      <th>286</th>\n",
       "      <td>286</td>\n",
       "      <td>0</td>\n",
       "      <td>0.0</td>\n",
       "      <td>0.0</td>\n",
       "      <td>1000000000.0</td>\n",
       "    </tr>\n",
       "    <tr>\n",
       "      <th>331</th>\n",
       "      <td>331</td>\n",
       "      <td>0</td>\n",
       "      <td>0.0</td>\n",
       "      <td>0.0</td>\n",
       "      <td>1000000000.0</td>\n",
       "    </tr>\n",
       "  </tbody>\n",
       "</table>\n",
       "<p>501 rows × 5 columns</p>\n",
       "</div>"
      ],
      "text/plain": [
       "     feats_idx  num_models    loss_on   loss_off     loss_diff\n",
       "51          51         100  55.801952  55.830696  -0.028743744\n",
       "78          78         100  55.801952    55.8303  -0.028347015\n",
       "421        421         100  55.801952  55.829483   -0.02753067\n",
       "26          26         100  55.801952   55.82834  -0.026386261\n",
       "152        152         100  55.801952  55.826576   -0.02462387\n",
       "..         ...         ...        ...        ...           ...\n",
       "423        423           0        0.0        0.0  1000000000.0\n",
       "275        275           0        0.0        0.0  1000000000.0\n",
       "199        199           0        0.0        0.0  1000000000.0\n",
       "286        286           0        0.0        0.0  1000000000.0\n",
       "331        331           0        0.0        0.0  1000000000.0\n",
       "\n",
       "[501 rows x 5 columns]"
      ]
     },
     "execution_count": 400,
     "metadata": {},
     "output_type": "execute_result"
    }
   ],
   "source": [
    "dropout_loss = get_feats_dropout_loss(mixed_sgmcmc, X_train_sig, y_train)\n",
    "dropout_loss"
   ]
  },
  {
   "cell_type": "code",
   "execution_count": 401,
   "metadata": {},
   "outputs": [
    {
     "data": {
      "text/plain": [
       "['NTN4',\n",
       " 'THBS1',\n",
       " 'TGFB2',\n",
       " 'CLCF1',\n",
       " 'SEMA3B',\n",
       " 'RHEB',\n",
       " 'ITGB1',\n",
       " 'ALDH1A3',\n",
       " 'CHMP4B',\n",
       " 'BFSP1',\n",
       " 'PPARG',\n",
       " 'FLNB',\n",
       " 'PLXNB3',\n",
       " 'CREB3',\n",
       " 'PDK4',\n",
       " 'ERRFI1',\n",
       " 'KRT7',\n",
       " 'ARHGAP9',\n",
       " 'TMSB10',\n",
       " 'PPL']"
      ]
     },
     "execution_count": 401,
     "metadata": {},
     "output_type": "execute_result"
    }
   ],
   "source": [
    "bnn_feat_idx = dropout_loss[\"feats_idx\"][:20].to_list()\n",
    "bnn_gene_list = X_train_sig_df.iloc[:,bnn_feat_idx].columns.to_list()\n",
    "bnn_gene_list = get_gene_names(bnn_gene_list)\n",
    "bnn_gene_list"
   ]
  },
  {
   "cell_type": "code",
   "execution_count": 402,
   "metadata": {},
   "outputs": [
    {
     "name": "stdout",
     "output_type": "stream",
     "text": [
      "Fitting 3 folds for each of 288 candidates, totalling 864 fits\n",
      "RF params: {'bootstrap': True, 'max_depth': 80, 'max_features': 2, 'min_samples_leaf': 3, 'min_samples_split': 8, 'n_estimators': 200}\n",
      "cv score: 0.09994573483334172, test_score:  0.12622832816763363\n"
     ]
    }
   ],
   "source": [
    "from sklearn.ensemble import RandomForestRegressor\n",
    "\n",
    "param_grid = {\n",
    "    'bootstrap': [True],\n",
    "    'max_depth': [80, 90, 100, 110],\n",
    "    'max_features': [2, 3],\n",
    "    'min_samples_leaf': [3, 4, 5],\n",
    "    'min_samples_split': [8, 10, 12],\n",
    "    'n_estimators': [100, 200, 300, 1000]\n",
    "}\n",
    "\n",
    "rf_reg = RandomForestRegressor(random_state=seed, max_samples=0.9)\n",
    "grid_cv = GridSearchCV(estimator = rf_reg, param_grid = param_grid, \n",
    "                          cv = cv, n_jobs = -1, verbose = 1, scoring=\"explained_variance\").fit(X_train_sig, y_train)\n",
    "\n",
    "rf_reg = RandomForestRegressor(random_state=seed, max_samples=0.9,**grid_cv.best_params_)\n",
    "rf_reg.fit(X_train_sig, y_train)\n",
    "y_test_pred_rf = rf_reg.predict(X_test_sig)\n",
    "print(f\"RF params: {grid_cv.best_params_}\")\n",
    "print(f\"cv score: {grid_cv.best_score_}, test_score:  {r2_score(y_test, y_test_pred_rf)}\")"
   ]
  },
  {
   "cell_type": "code",
   "execution_count": 403,
   "metadata": {},
   "outputs": [
    {
     "data": {
      "text/plain": [
       "(0.4101100067585304, 6.4480939164351866e-06)"
      ]
     },
     "execution_count": 403,
     "metadata": {},
     "output_type": "execute_result"
    }
   ],
   "source": [
    "stats.pearsonr(y_test, rf_reg.predict(X_test_sig))"
   ]
  },
  {
   "cell_type": "code",
   "execution_count": 404,
   "metadata": {},
   "outputs": [
    {
     "data": {
      "text/plain": [
       "['PPDPF',\n",
       " 'QRSL1',\n",
       " 'CLDN4',\n",
       " 'TRNP1',\n",
       " 'SECTM1',\n",
       " 'YAP1',\n",
       " 'RBPMS',\n",
       " 'ZNF185',\n",
       " 'ZSCAN32',\n",
       " 'KISS1',\n",
       " 'MTF2',\n",
       " 'ITGB6',\n",
       " 'KRT15',\n",
       " 'ENC1',\n",
       " 'RFX7',\n",
       " 'ERBB2',\n",
       " 'DYNLRB1',\n",
       " 'CRLF3',\n",
       " 'KDELR2',\n",
       " 'PLEKHA6']"
      ]
     },
     "execution_count": 404,
     "metadata": {},
     "output_type": "execute_result"
    }
   ],
   "source": [
    "rf_feat_idx = np.argsort(rf_reg.feature_importances_)[::-1][:20]\n",
    "rf_gene_list = X_train_sig_df.iloc[:,rf_feat_idx].columns.to_list()\n",
    "rf_gene_list = get_gene_names(rf_gene_list)\n",
    "rf_gene_list"
   ]
  },
  {
   "cell_type": "markdown",
   "metadata": {},
   "source": [
    "### GP"
   ]
  },
  {
   "cell_type": "code",
   "execution_count": 38,
   "metadata": {},
   "outputs": [],
   "source": [
    "from gplearn.genetic import SymbolicTransformer, SymbolicClassifier, SymbolicRegressor\n",
    "from gplearn.functions import make_function\n",
    "import operator\n",
    "from sklearn.linear_model import Ridge\n",
    "from sklearn.model_selection import GridSearchCV\n",
    "import warnings\n",
    "warnings.filterwarnings(\"ignore\")\n",
    "\n",
    "def get_best_programs(gp, num_models, classifier=True, ascending=True, sort_fit=\"OOB_fitness\"):\n",
    "    gp_dict = {'Gen': [], \"Ind\": [], \"Fitness\": [], 'OOB_fitness': [], \"Equation\": []}\n",
    "\n",
    "    if classifier:\n",
    "        for idGen in range(len(gp._programs)):\n",
    "            for idPopulation in range(gp.population_size):\n",
    "                gp_dict[\"Gen\"].append(idGen)\n",
    "                gp_dict[\"Ind\"].append(idPopulation)\n",
    "                gp_dict[\"Fitness\"].append(gp._programs[idGen][idPopulation].fitness_)\n",
    "                gp_dict[\"OOB_fitness\"].append(gp._programs[idGen][idPopulation].oob_fitness_)\n",
    "                gp_dict[\"Equation\"].append(str(gp._programs[idGen][idPopulation]))\n",
    "    else:\n",
    "        for idx, prog in enumerate(gp._programs[-1]):\n",
    "                gp_dict[\"Gen\"].append(-1)\n",
    "                gp_dict[\"Ind\"].append(idx)\n",
    "                gp_dict[\"Fitness\"].append(prog.fitness_)\n",
    "                gp_dict[\"OOB_fitness\"].append(prog.oob_fitness_)\n",
    "                gp_dict[\"Equation\"].append(str(prog))\n",
    "\n",
    "    gp_df = pd.DataFrame(gp_dict).sort_values(sort_fit, ascending=ascending)[:num_models]\n",
    "    programs = []\n",
    "    for i in range(num_models):\n",
    "        gen, ind = int(gp_df.iloc[i][\"Gen\"]), int(gp_df.iloc[i][\"Ind\"])\n",
    "        programs.append(gp._programs[gen][ind])\n",
    "\n",
    "    return programs, gp_df\n",
    "\n",
    "\n",
    "def gp_transform(est, X, classifier=False, num_models=100, sort_fit=\"Fitness\"):\n",
    "    if classifier or (sort_fit == \"OOB_fitness\"):\n",
    "        programs, gp_df = get_best_programs(est, num_models, classifier, sort_fit=sort_fit, ascending=classifier)\n",
    "        out = np.zeros((X.shape[0], len(programs)))\n",
    "        for i, prog in enumerate(programs):\n",
    "            out[:, i] = prog.execute(X)\n",
    "\n",
    "        return out, gp_df\n",
    "    else:\n",
    "        return est.transform(X), None\n",
    "\n",
    "function_set = ['add', 'sub', 'mul', 'div', 'sqrt', 'log',\n",
    "                'abs', 'neg', 'inv', 'max', 'min']\n",
    "\n",
    "def train_gp(feats_idx, X_train, X_val, X_test, y_train, y_val, y_test, num_models=5, sort_fit=\"OOB_fitness\"):\n",
    "    X_gp_train, X_gp_val, X_gp_test = X_val[:,feats_idx], X_train[:,feats_idx], X_test[:,feats_idx]\n",
    "    gp_est = SymbolicTransformer(population_size=1000, hall_of_fame=100, n_components=20, generations=100,\n",
    "                           p_crossover=0.7, p_subtree_mutation=0.1,\n",
    "                           p_hoist_mutation=0.05, p_point_mutation=0.1,\n",
    "                           max_samples=0.8, verbose=0,\n",
    "                           parsimony_coefficient=0.005, random_state=seed)\n",
    "\n",
    "    gp_est.fit(X_gp_train, y_val)\n",
    "    gp_features_val, gp_val_df = gp_transform(gp_est, X_gp_val, classifier=False, sort_fit=sort_fit, num_models=num_models)\n",
    "    gp_features_test, gp_test_df = gp_transform(gp_est, X_gp_test, classifier=False, sort_fit=sort_fit, num_models=num_models)\n",
    "\n",
    "    X_val_comb, X_test_comb = np.concatenate([X_gp_val, gp_features_val], axis=1),\\\n",
    "                             np.concatenate([X_gp_test, gp_features_test], axis=1)\n",
    "\n",
    "    param_grid = {\"alpha\":np.logspace(-2, 2, 20)}\n",
    "    grid_cv = GridSearchCV(estimator=Ridge(max_iter=10000), param_grid=param_grid, \n",
    "                                            verbose=0, scoring=\"explained_variance\", cv=cv).fit(X_val_comb, y_train)\n",
    "    lin_model = Ridge(max_iter=10000, **grid_cv.best_params_)\n",
    "    cv_score = grid_cv.best_score_\n",
    "    lin_model.fit(X_val_comb, y_train)\n",
    "    y_test_pred = lin_model.predict(X_test_comb)\n",
    "    test_score = r2_score(y_test, y_test_pred)\n",
    "    test_pearson, pval = stats.pearsonr(y_test, y_test_pred)\n",
    "    return cv_score, test_score, test_pearson, pval"
   ]
  },
  {
   "cell_type": "markdown",
   "metadata": {},
   "source": [
    "#### BNN Selected Features"
   ]
  },
  {
   "cell_type": "code",
   "execution_count": 405,
   "metadata": {},
   "outputs": [
    {
     "name": "stdout",
     "output_type": "stream",
     "text": [
      "cv_score: -0.26129580264621416, test_score: 0.06379045714454878,\n",
      "Pearson Corr: 0.2620345089474272, pvalue: 0.005052642903002101\n"
     ]
    }
   ],
   "source": [
    "cv_score, test_score, test_pc, pc_pval = train_gp(bnn_feat_idx, X_train_sig, X_val_sig, X_test_sig, \n",
    "                                                    y_train, y_val, y_test)\n",
    "\n",
    "print(f\"cv_score: {cv_score}, test_score: {test_score},\\nPearson Corr: {test_pc}, pvalue: {pc_pval}\")"
   ]
  },
  {
   "cell_type": "markdown",
   "metadata": {},
   "source": [
    "#### RF Selected Features"
   ]
  },
  {
   "cell_type": "code",
   "execution_count": 406,
   "metadata": {},
   "outputs": [
    {
     "name": "stdout",
     "output_type": "stream",
     "text": [
      "cv_score: 0.039998300252101125, test_score: 0.10149977385374487,\n",
      "Pearson Corr: 0.3226245852860006, pvalue: 0.0004919711794789678\n"
     ]
    }
   ],
   "source": [
    "cv_score, test_score, test_pc, pc_pval = train_gp(rf_feat_idx, X_train_sig, X_val_sig, X_test_sig, \n",
    "                                                    y_train, y_val, y_test, num_models=1)\n",
    "\n",
    "print(f\"cv_score: {cv_score}, test_score: {test_score},\\nPearson Corr: {test_pc}, pvalue: {pc_pval}\")"
   ]
  },
  {
   "cell_type": "markdown",
   "metadata": {},
   "source": [
    "### Multiple Runs"
   ]
  },
  {
   "cell_type": "code",
   "execution_count": 376,
   "metadata": {},
   "outputs": [
    {
     "data": {
      "text/plain": [
       "800"
      ]
     },
     "execution_count": 376,
     "metadata": {},
     "output_type": "execute_result"
    }
   ],
   "source": [
    "200*(X_train_sig.shape[0] // 100 + 1)"
   ]
  },
  {
   "cell_type": "code",
   "execution_count": 35,
   "metadata": {},
   "outputs": [],
   "source": [
    "# seeds = [422,261,968,282,739]\n",
    "seeds = [422,261,968,282,739,573,220,413,745,775,482,442,210,423,760,57,769,920,226,196]"
   ]
  },
  {
   "cell_type": "code",
   "execution_count": 45,
   "metadata": {},
   "outputs": [
    {
     "name": "stdout",
     "output_type": "stream",
     "text": [
      "Running seed: 422\n",
      "Num batches: 1\n",
      "RF cv_score: 0.07444513100837169, RF test_score: 0.14340958099649903\n",
      "BNN cv_score: 0.0599629999893182, BNN test_score: 0.037209186513402326\n",
      "=================== GP Train ======================\n",
      "BNN GP - cv_score: -762814.9384089592, test_score: 0.10361713477759493, Pearson Corr: 0.341391029624674, pvalue: 0.00021517128467983174\n",
      "RF GP - cv_score: -0.30814202885863556, test_score: 0.12099939913504965, Pearson Corr: 0.3495700529689586, pvalue: 0.0001475716901833638\n",
      "Done - seed 422, Elpased time: 0:07:08.841668\n",
      "============================\n",
      "Running seed: 261\n",
      "Num batches: 1\n",
      "RF cv_score: 0.11352835269504746, RF test_score: 0.11687619049433673\n",
      "BNN cv_score: 0.06888662099841347, BNN test_score: 0.06219921897506875\n",
      "=================== GP Train ======================\n",
      "BNN GP - cv_score: -0.30033042567308554, test_score: 0.08642848042291362, Pearson Corr: 0.2977402149941772, pvalue: 0.0013610093826806715\n",
      "RF GP - cv_score: -0.13186501374314913, test_score: 0.08880894418216034, Pearson Corr: 0.3038347469816982, pvalue: 0.0010694095721978832\n",
      "Done - seed 261, Elpased time: 0:06:53.312273\n",
      "============================\n",
      "Running seed: 968\n",
      "Num batches: 1\n",
      "RF cv_score: 0.08061866293877851, RF test_score: 0.10485553355026744\n",
      "BNN cv_score: 0.060932488242550376, BNN test_score: 0.016292860436856182\n",
      "=================== GP Train ======================\n",
      "BNN GP - cv_score: -0.04588849970263231, test_score: 0.07854316804834383, Pearson Corr: 0.2805834652682326, pvalue: 0.002610823331279063\n",
      "RF GP - cv_score: -2.6709908697909306, test_score: 0.019449786661359214, Pearson Corr: 0.22981323564465736, pvalue: 0.014339116664273071\n",
      "Done - seed 968, Elpased time: 0:07:05.100675\n",
      "============================\n",
      "Running seed: 282\n",
      "Num batches: 1\n",
      "RF cv_score: 0.06412780554385245, RF test_score: 0.06858229145353567\n",
      "BNN cv_score: -0.03334434683157639, BNN test_score: -0.025882636514354518\n",
      "=================== GP Train ======================\n",
      "BNN GP - cv_score: -7.6329184899833695, test_score: -0.05314859542495709, Pearson Corr: 0.08673032364706536, pvalue: 0.3610175897372639\n",
      "RF GP - cv_score: 0.04037608759796503, test_score: -0.39282833474320134, Pearson Corr: 0.06848723510256828, pvalue: 0.47104394710520725\n",
      "Done - seed 282, Elpased time: 0:07:02.682235\n",
      "============================\n",
      "Running seed: 739\n",
      "Num batches: 1\n",
      "RF cv_score: 0.06272304101493387, RF test_score: 0.0459615143168669\n",
      "BNN cv_score: 0.046323077523688694, BNN test_score: 0.02471464053986272\n",
      "=================== GP Train ======================\n",
      "BNN GP - cv_score: 0.04812558143913568, test_score: -0.02053580878147865, Pearson Corr: 0.15569575848145475, pvalue: 0.0996145811883105\n",
      "RF GP - cv_score: 0.10555552703949744, test_score: -0.1086181821717862, Pearson Corr: 0.06446738347533475, pvalue: 0.4975280822784113\n",
      "Done - seed 739, Elpased time: 0:06:53.685764\n",
      "============================\n",
      "Running seed: 573\n",
      "Num batches: 1\n",
      "RF cv_score: 0.06362947161709986, RF test_score: 0.060869973694114066\n",
      "BNN cv_score: 0.02819228733808732, BNN test_score: -0.017665409540027932\n",
      "=================== GP Train ======================\n",
      "BNN GP - cv_score: -0.25662227057762216, test_score: 0.002772969097211253, Pearson Corr: 0.13528786508749724, pvalue: 0.15308556059973039\n",
      "RF GP - cv_score: -2.388887499545341, test_score: -0.9174552828422387, Pearson Corr: 0.03490035513597817, pvalue: 0.7136319035903479\n",
      "Done - seed 573, Elpased time: 0:07:02.622872\n",
      "============================\n",
      "Running seed: 220\n"
     ]
    },
    {
     "ename": "",
     "evalue": "",
     "output_type": "error",
     "traceback": [
      "\u001b[1;31mFailed to connect to the remote Jupyter Server 'https://n9bajo5dcn.clg07azjl.paperspacegradient.com/'. Verify the server is running and reachable."
     ]
    }
   ],
   "source": [
    "from sklearn.model_selection import GridSearchCV, train_test_split, KFold\n",
    "from sklearn.ensemble import RandomForestRegressor\n",
    "import pickle \n",
    "from datetime import timedelta\n",
    "import time\n",
    "\n",
    "save_dir = f\"{data_dir}/exp_data_5/cancer/ccle\"\n",
    "\n",
    "bnn_exp_dict = {\"seed\": [], \"model\": [], \"cv_score\": [], \"test_score\": []}\n",
    "bnn_gp_dict = {\"seed\": [], \"model\": [], \"num_feats\": [], \"n_models\": [], \"cv_score\": [], \"test_score\": [], \"test_pearson\": [], \"pvalue\": []}\n",
    "\n",
    "num_feats = 20 # TODO this should be selected by CV\n",
    "n_models = 5 # TODO this should be selected by CV\n",
    "\n",
    "for seed in seeds:\n",
    "    print(f\"Running seed: {seed}\")\n",
    "\n",
    "    start = time.time()\n",
    "\n",
    "    cv = KFold(n_splits=5, shuffle=True, random_state=seed)\n",
    "\n",
    "    ## TODO Wrap this in a function\n",
    "    X_train_df, X_test_df, y_train_df, y_test_df = train_test_split(X, y, random_state=seed, shuffle=True, test_size=0.2)\n",
    "    \n",
    "    train_df, test_df = pd.concat([X_train_df, y_train_df], axis=1),\\\n",
    "                                     pd.concat([X_test_df, y_test_df], axis=1)\n",
    "\n",
    "\n",
    "    train_scaler = StandardScaler().fit(train_df)\n",
    "    train_scaled = train_scaler.transform(train_df)\n",
    "\n",
    "    test_scaler = StandardScaler().fit(test_df)\n",
    "    test_scaled = test_scaler.transform(test_df)\n",
    "\n",
    "    X_train_df, y_train_df = pd.DataFrame(train_scaled[:,:-1], columns=X_train_df.columns), pd.Series(train_scaled[:,-1])\n",
    "    X_test_df, y_test_df = pd.DataFrame(test_scaled[:,:-1], columns=X_test_df.columns), pd.Series(test_scaled[:,-1])\n",
    "\n",
    "    X_train_df, X_val_df, y_train_df, y_val_df = train_test_split(X_train_df, y_train_df, random_state=seed, \n",
    "                                                        shuffle=True, test_size=0.3)\n",
    "\n",
    "    sig_genes_idx = calculate_sig_genes(X_train_df, y_train_df)\n",
    "    sig_genes_idx = sig_genes_idx[:500]\n",
    "\n",
    "    target_gene_idx = [i for i, col in enumerate(X_train_df.columns) if target_gene in col]\n",
    "    X_train_sig_df = pd.concat([X_train_df.iloc[:,sig_genes_idx], X_train_df.iloc[:,target_gene_idx]], axis=1)\n",
    "    X_val_sig_df = pd.concat([X_val_df.iloc[:,sig_genes_idx], X_val_df.iloc[:,target_gene_idx]], axis=1)\n",
    "    X_test_sig_df = pd.concat([X_test_df.iloc[:,sig_genes_idx], X_test_df.iloc[:,target_gene_idx]], axis=1)\n",
    "\n",
    "    gene_names = [col.split(\"(\")[0].strip() for col in X_train_sig_df.columns]\n",
    "   \n",
    "    J = build_network_string(gene_names, string_ppi)\n",
    "\n",
    "    X_train_sig, X_val_sig, X_test_sig = X_train_sig_df.to_numpy(), X_val_sig_df.to_numpy(), X_test_sig_df.to_numpy()\n",
    "    y_train, y_test, y_val = y_train_df.to_numpy(), y_test_df.to_numpy(), y_val_df.to_numpy()\n",
    "    X_train_sig, X_test_sig, y_train, y_test = jax.device_put(X_train_sig), jax.device_put(X_test_sig), \\\n",
    "                                    jax.device_put(y_train), jax.device_put(y_test)\n",
    "\n",
    "    param_grid = {\n",
    "        'bootstrap': [True],\n",
    "        'max_depth': [80, 90, 100, 110],\n",
    "        'max_features': [2, 3],\n",
    "        'min_samples_leaf': [3, 4, 5],\n",
    "        'min_samples_split': [8, 10, 12],\n",
    "        'n_estimators': [100, 200, 300, 1000]\n",
    "    }\n",
    "\n",
    "    rf_reg = RandomForestRegressor(random_state=seed, max_samples=0.9)\n",
    "    grid_cv = GridSearchCV(estimator = rf_reg, param_grid = param_grid, \n",
    "                            cv = cv, n_jobs = -1, verbose = 0, scoring=\"explained_variance\").fit(X_train_sig, y_train)\n",
    "\n",
    "    rf_reg = RandomForestRegressor(random_state=seed, max_samples=0.9, **grid_cv.best_params_)\n",
    "    rf_reg.fit(X_train_sig, y_train)\n",
    "    rf_val_score = r2_score(y_val, rf_reg.predict(X_val_sig))\n",
    "    rf_test_score = r2_score(y_test,  rf_reg.predict(X_test_sig))\n",
    "\n",
    "    # config, bnn_cv_score, _ = optimize_hyper_parameters(seed, X_train_sig, y_train, J, total_time=180)\n",
    "    # config = pickle.load(open(f\"{save_dir_100}/bnn_params_s_{seed}.pickle\", \"rb\"))\n",
    "\n",
    "    params = {\"disc_lr\":config[\"disc_lr\"], \"contin_lr\": config[\"contin_lr\"], \"batch_size\": X_train_sig.shape[0],\n",
    "                    \"mu\": config[\"mu\"], \"eta\": config[\"eta\"], \"temp\": config[\"temp\"],\n",
    "                    \"sigma\": config[\"sigma\"], \"beta\": config[\"beta\"], \"num_cycles\": config[\"num_cycles\"]}\n",
    "\n",
    "    mixed_sgmcmc = MixedSGMCMC(seed=seed, n_samples=1000, n_warmup=0, lr_schedule=\"cyclical\",\n",
    "                            layer_dims=config[\"layer_dim\"], classifier=False ,**params)\n",
    "\n",
    "    mixed_sgmcmc.fit(X_train_sig, y_train, activation_fns=config[\"activation_fns\"] , J=J)\n",
    "\n",
    "    bnn_val_score = mixed_sgmcmc.score(X_val_sig, y_val)\n",
    "    bnn_test_score = mixed_sgmcmc.score(X_test_sig, y_test)\n",
    "\n",
    "    dropout_loss = get_feats_dropout_loss(mixed_sgmcmc, X_train_sig, y_train)\n",
    "    dropout_loss.to_csv(f\"{save_dir}/drop_out_loss_s_{seed}.csv\", index=False)\n",
    "\n",
    "\n",
    "    bnn_exp_dict[\"seed\"].append(seed)\n",
    "    bnn_exp_dict[\"model\"].append(\"RF\")\n",
    "    bnn_exp_dict[\"cv_score\"].append(rf_val_score)\n",
    "    bnn_exp_dict[\"test_score\"].append(rf_test_score)\n",
    "\n",
    "    bnn_exp_dict[\"seed\"].append(seed)\n",
    "    bnn_exp_dict[\"model\"].append(\"BNN\")\n",
    "    bnn_exp_dict[\"cv_score\"].append(bnn_val_score)\n",
    "    bnn_exp_dict[\"test_score\"].append(bnn_test_score)\n",
    "    \n",
    "\n",
    "    \n",
    "    print(f\"RF cv_score: {rf_val_score}, RF test_score: {rf_test_score}\")\n",
    "    print(f\"BNN cv_score: {bnn_val_score}, BNN test_score: {bnn_test_score}\")\n",
    "    print(\"=================== GP Train ======================\")\n",
    "\n",
    "    bnn_feat_idx = dropout_loss[\"feats_idx\"][:num_feats].to_list()\n",
    "    rf_feat_idx = np.argsort(rf_reg.feature_importances_)[::-1][:num_feats]\n",
    "    bnn_gp_cv_score, bnn_gp_test_score, bnn_gp_test_pc, bnn_gp_pc_pval = train_gp(bnn_feat_idx, X_train_sig, X_val_sig, X_test_sig, \n",
    "                                                                                    y_train, y_val, y_test, num_models=n_models)\n",
    "\n",
    "    rf_gp_cv_score, rf_gp_test_score, rf_gp_test_pc, rf_gp_pc_pval = train_gp(rf_feat_idx, X_train_sig, X_val_sig, X_test_sig, \n",
    "                                                                                    y_train, y_val, y_test, num_models=n_models)\n",
    "    bnn_gp_dict[\"seed\"].append(seed)\n",
    "    bnn_gp_dict[\"model\"].append(\"RF\")\n",
    "    bnn_gp_dict[\"num_feats\"].append(num_feats)\n",
    "    bnn_gp_dict[\"n_models\"].append(n_models)\n",
    "    bnn_gp_dict[\"cv_score\"].append(rf_gp_cv_score)\n",
    "    bnn_gp_dict[\"test_score\"].append(rf_gp_test_score)\n",
    "    bnn_gp_dict[\"test_pearson\"].append(rf_gp_test_pc)\n",
    "    bnn_gp_dict[\"pvalue\"].append(rf_gp_pc_pval)\n",
    "\n",
    "    bnn_gp_dict[\"seed\"].append(seed)\n",
    "    bnn_gp_dict[\"model\"].append(\"BNN\")\n",
    "    bnn_gp_dict[\"num_feats\"].append(num_feats)\n",
    "    bnn_gp_dict[\"n_models\"].append(n_models)\n",
    "    bnn_gp_dict[\"cv_score\"].append(bnn_gp_cv_score)\n",
    "    bnn_gp_dict[\"test_score\"].append(bnn_gp_test_score)\n",
    "    bnn_gp_dict[\"test_pearson\"].append(bnn_gp_test_pc)\n",
    "    bnn_gp_dict[\"pvalue\"].append(bnn_gp_pc_pval)\n",
    "\n",
    "    end = time.time()\n",
    "    elapsed = timedelta(seconds=(end - start))\n",
    "\n",
    "    print(f\"BNN GP - cv_score: {bnn_gp_cv_score}, test_score: {bnn_gp_test_score}, Pearson Corr: {bnn_gp_test_pc}, pvalue: {bnn_gp_pc_pval}\")\n",
    "    print(f\"RF GP - cv_score: {rf_gp_cv_score}, test_score: {rf_gp_test_score}, Pearson Corr: {rf_gp_test_pc}, pvalue: {rf_gp_pc_pval}\")\n",
    "    print(f\"Done - seed {seed}, Elpased time: {elapsed}\")\n",
    "    print(\"============================\")\n",
    "\n",
    "bnn_exp_df = pd.DataFrame(bnn_exp_dict)\n",
    "bnn_exp_df.to_csv(f\"{save_dir}/res_bnn_exp_summary.csv\", index=False)\n",
    "bnn_gp_df = pd.DataFrame(bnn_gp_dict)\n",
    "bnn_gp_df.to_csv(f\"{save_dir}/res_bnn_gp_summary.csv\", index=False)"
   ]
  },
  {
   "cell_type": "code",
   "execution_count": 42,
   "metadata": {},
   "outputs": [
    {
     "data": {
      "text/html": [
       "<div>\n",
       "<style scoped>\n",
       "    .dataframe tbody tr th:only-of-type {\n",
       "        vertical-align: middle;\n",
       "    }\n",
       "\n",
       "    .dataframe tbody tr th {\n",
       "        vertical-align: top;\n",
       "    }\n",
       "\n",
       "    .dataframe thead th {\n",
       "        text-align: right;\n",
       "    }\n",
       "</style>\n",
       "<table border=\"1\" class=\"dataframe\">\n",
       "  <thead>\n",
       "    <tr style=\"text-align: right;\">\n",
       "      <th></th>\n",
       "      <th>seed</th>\n",
       "      <th>cv_score</th>\n",
       "      <th>test_score</th>\n",
       "    </tr>\n",
       "    <tr>\n",
       "      <th>model</th>\n",
       "      <th></th>\n",
       "      <th></th>\n",
       "      <th></th>\n",
       "    </tr>\n",
       "  </thead>\n",
       "  <tbody>\n",
       "    <tr>\n",
       "      <th>BNN</th>\n",
       "      <td>494.15</td>\n",
       "      <td>0.013462</td>\n",
       "      <td>0.015567</td>\n",
       "    </tr>\n",
       "    <tr>\n",
       "      <th>RF</th>\n",
       "      <td>494.15</td>\n",
       "      <td>0.070922</td>\n",
       "      <td>0.080446</td>\n",
       "    </tr>\n",
       "  </tbody>\n",
       "</table>\n",
       "</div>"
      ],
      "text/plain": [
       "         seed  cv_score  test_score\n",
       "model                              \n",
       "BNN    494.15  0.013462    0.015567\n",
       "RF     494.15  0.070922    0.080446"
      ]
     },
     "execution_count": 42,
     "metadata": {},
     "output_type": "execute_result"
    }
   ],
   "source": [
    "bnn_exp_df.groupby([\"model\"]).mean()"
   ]
  },
  {
   "cell_type": "code",
   "execution_count": 44,
   "metadata": {},
   "outputs": [
    {
     "data": {
      "text/html": [
       "<div>\n",
       "<style scoped>\n",
       "    .dataframe tbody tr th:only-of-type {\n",
       "        vertical-align: middle;\n",
       "    }\n",
       "\n",
       "    .dataframe tbody tr th {\n",
       "        vertical-align: top;\n",
       "    }\n",
       "\n",
       "    .dataframe thead th {\n",
       "        text-align: right;\n",
       "    }\n",
       "</style>\n",
       "<table border=\"1\" class=\"dataframe\">\n",
       "  <thead>\n",
       "    <tr style=\"text-align: right;\">\n",
       "      <th></th>\n",
       "      <th>cv_score</th>\n",
       "      <th>test_score</th>\n",
       "      <th>test_pearson</th>\n",
       "    </tr>\n",
       "    <tr>\n",
       "      <th>model</th>\n",
       "      <th></th>\n",
       "      <th></th>\n",
       "      <th></th>\n",
       "    </tr>\n",
       "  </thead>\n",
       "  <tbody>\n",
       "    <tr>\n",
       "      <th>BNN</th>\n",
       "      <td>-4.459203</td>\n",
       "      <td>-7.843861</td>\n",
       "      <td>0.197971</td>\n",
       "    </tr>\n",
       "    <tr>\n",
       "      <th>RF</th>\n",
       "      <td>-55.886796</td>\n",
       "      <td>-0.560879</td>\n",
       "      <td>0.160347</td>\n",
       "    </tr>\n",
       "  </tbody>\n",
       "</table>\n",
       "</div>"
      ],
      "text/plain": [
       "        cv_score  test_score  test_pearson\n",
       "model                                     \n",
       "BNN    -4.459203   -7.843861      0.197971\n",
       "RF    -55.886796   -0.560879      0.160347"
      ]
     },
     "execution_count": 44,
     "metadata": {},
     "output_type": "execute_result"
    }
   ],
   "source": [
    "bnn_gp_df.groupby([\"model\"])[\"cv_score\", \"test_score\", \"test_pearson\"].mean()"
   ]
  },
  {
   "cell_type": "code",
   "execution_count": null,
   "metadata": {},
   "outputs": [],
   "source": [
    "import torch\n",
    "from itertools import product\n",
    "\n",
    "data_dim, num_cls = 2, 3\n",
    "\n",
    "zeros_mat = torch.zeros((1, data_dim, num_cls)) \n",
    "\n",
    "classes = [i for i in range(num_cls)]\n",
    "probs = []\n",
    "combos = list(product(classes, repeat=data_dim))"
   ]
  },
  {
   "cell_type": "code",
   "execution_count": 50,
   "metadata": {},
   "outputs": [
    {
     "data": {
      "text/plain": [
       "[(0, 0), (0, 1), (0, 2), (1, 0), (1, 1), (1, 2), (2, 0), (2, 1), (2, 2)]"
      ]
     },
     "execution_count": 50,
     "metadata": {},
     "output_type": "execute_result"
    }
   ],
   "source": [
    "combos"
   ]
  },
  {
   "cell_type": "code",
   "execution_count": 48,
   "metadata": {},
   "outputs": [
    {
     "data": {
      "text/plain": [
       "tensor([[[0.9672, 0.6902, 0.1459],\n",
       "         [0.0576, 0.8922, 0.0325]]])"
      ]
     },
     "execution_count": 48,
     "metadata": {},
     "output_type": "execute_result"
    }
   ],
   "source": [
    "rand_mat = torch.rand_like(zeros_mat)\n",
    "rand_mat"
   ]
  },
  {
   "cell_type": "code",
   "execution_count": 51,
   "metadata": {},
   "outputs": [
    {
     "data": {
      "text/plain": [
       "tensor([[[0.9672, 0.6902],\n",
       "         [0.0576, 0.8922]]])"
      ]
     },
     "execution_count": 51,
     "metadata": {},
     "output_type": "execute_result"
    }
   ],
   "source": [
    "rand_mat[:, :, combos[1]]"
   ]
  },
  {
   "cell_type": "code",
   "execution_count": 85,
   "metadata": {},
   "outputs": [
    {
     "data": {
      "text/plain": [
       "DeviceArray([[1, 2],\n",
       "             [1, 1]], dtype=int32)"
      ]
     },
     "execution_count": 85,
     "metadata": {},
     "output_type": "execute_result"
    }
   ],
   "source": [
    "dist = tfd.Categorical(probs=[[0.1, 0.5, 0.4], [0.1, 0.5, 0.4]])\n",
    "x_cur  = dist.sample(seed=rng_key, sample_shape=(2,))\n",
    "x_cur"
   ]
  },
  {
   "cell_type": "code",
   "execution_count": 86,
   "metadata": {},
   "outputs": [
    {
     "data": {
      "text/plain": [
       "(2, 2, 3)"
      ]
     },
     "execution_count": 86,
     "metadata": {},
     "output_type": "execute_result"
    }
   ],
   "source": [
    "x_cur_oh = jax.nn.one_hot(x_cur, 3)\n",
    "x_cur_oh.shape"
   ]
  },
  {
   "cell_type": "code",
   "execution_count": 87,
   "metadata": {},
   "outputs": [
    {
     "data": {
      "text/plain": [
       "DeviceArray([[[ 0.3708746 , -1.1752596 , -0.51433975],\n",
       "              [ 1.9475722 , -1.298365  , -0.61030054]],\n",
       "\n",
       "             [[ 0.5575748 ,  0.10283418, -0.8314232 ],\n",
       "              [-0.37285715, -0.54886764, -0.5990561 ]]], dtype=float32)"
      ]
     },
     "execution_count": 87,
     "metadata": {},
     "output_type": "execute_result"
    }
   ],
   "source": [
    "grad = jax.random.normal(rng_key, x_cur_oh.shape)\n",
    "grad"
   ]
  },
  {
   "cell_type": "code",
   "execution_count": 84,
   "metadata": {},
   "outputs": [
    {
     "data": {
      "text/plain": [
       "(1, 2, 3)"
      ]
     },
     "execution_count": 84,
     "metadata": {},
     "output_type": "execute_result"
    }
   ],
   "source": [
    "grad.shape"
   ]
  },
  {
   "cell_type": "code",
   "execution_count": 91,
   "metadata": {},
   "outputs": [
    {
     "data": {
      "text/plain": [
       "DeviceArray([[-1.1752596 , -1.298365  ],\n",
       "             [-0.51433975, -0.61030054]], dtype=float32)"
      ]
     },
     "execution_count": 91,
     "metadata": {},
     "output_type": "execute_result"
    }
   ],
   "source": [
    "grad_cur = grad[0, :, x_cur[0, :]]\n",
    "grad_cur"
   ]
  },
  {
   "cell_type": "code",
   "execution_count": 94,
   "metadata": {},
   "outputs": [
    {
     "data": {
      "text/plain": [
       "(2, 2)"
      ]
     },
     "execution_count": 94,
     "metadata": {},
     "output_type": "execute_result"
    }
   ],
   "source": [
    "grad_cur.shape"
   ]
  },
  {
   "cell_type": "code",
   "execution_count": 105,
   "metadata": {},
   "outputs": [
    {
     "data": {
      "text/plain": [
       "DeviceArray([[[-1.1752596 , -1.1752596 ],\n",
       "              [-1.298365  , -1.298365  ]],\n",
       "\n",
       "             [[-0.51433975, -0.51433975],\n",
       "              [-0.61030054, -0.61030054]]], dtype=float32)"
      ]
     },
     "execution_count": 105,
     "metadata": {},
     "output_type": "execute_result"
    }
   ],
   "source": [
    "jnp.tile(grad_cur[:,:,None], (1, 1, 2))"
   ]
  },
  {
   "cell_type": "code",
   "execution_count": 89,
   "metadata": {},
   "outputs": [
    {
     "data": {
      "text/plain": [
       "DeviceArray([[ 0.10283418, -0.54886764],\n",
       "             [ 0.10283418, -0.54886764]], dtype=float32)"
      ]
     },
     "execution_count": 89,
     "metadata": {},
     "output_type": "execute_result"
    }
   ],
   "source": [
    "grad[1, :, x_cur[1, :]]"
   ]
  },
  {
   "cell_type": "code",
   "execution_count": 88,
   "metadata": {},
   "outputs": [
    {
     "data": {
      "text/plain": [
       "DeviceArray([1, 1], dtype=int32)"
      ]
     },
     "execution_count": 88,
     "metadata": {},
     "output_type": "execute_result"
    }
   ],
   "source": [
    "x_cur[1, :]"
   ]
  },
  {
   "cell_type": "code",
   "execution_count": null,
   "metadata": {},
   "outputs": [],
   "source": []
  }
 ],
 "metadata": {
  "kernelspec": {
   "display_name": "Python 3 (ipykernel)",
   "language": "python",
   "name": "python3"
  },
  "language_info": {
   "codemirror_mode": {
    "name": "ipython",
    "version": 3
   },
   "file_extension": ".py",
   "mimetype": "text/x-python",
   "name": "python",
   "nbconvert_exporter": "python",
   "pygments_lexer": "ipython3",
   "version": "3.9.13"
  }
 },
 "nbformat": 4,
 "nbformat_minor": 0
}
