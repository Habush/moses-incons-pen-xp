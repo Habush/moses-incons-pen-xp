{
 "cells": [
  {
   "cell_type": "code",
   "execution_count": null,
   "metadata": {
    "collapsed": true,
    "pycharm": {
     "name": "#%%\n"
    }
   },
   "outputs": [],
   "source": [
    "import pandas as pd\n",
    "!pip install -U jax[cuda112] -f https://storage.googleapis.com/jax-releases/jax_cuda_releases.html\n",
    "!pip install -U jaxlib[cuda112] -f https://storage.googleapis.com/jax-releases/jax_cuda_releases.html\n",
    "!pip install optax\n",
    "!pip install dm-haiku\n",
    "!pip install tensorflow-probability\n",
    "!pip install tensorflow-datasets\n",
    "!pip install imbalanced-learn\n",
    "!pip install git+https://github.com/blackjax-devs/blackjax.git"
   ]
  },
  {
   "cell_type": "code",
   "execution_count": 1,
   "outputs": [],
   "source": [
    "import os\n",
    "os.environ[\"XLA_PYTHON_CLIENT_PREALLOCATE\"] = \"False\"\n",
    "os.environ[\"XLA_PYTHON_CLIENT_ALLOCATOR\"] = \"platform\""
   ],
   "metadata": {
    "collapsed": false,
    "pycharm": {
     "name": "#%%\n"
    }
   }
  },
  {
   "cell_type": "code",
   "execution_count": 2,
   "outputs": [
    {
     "name": "stdout",
     "output_type": "stream",
     "text": [
      "/home/xabush/code/snet/moses-incons-pen-xp/notebooks/variable_selection/cancer/nn\n"
     ]
    },
    {
     "name": "stderr",
     "output_type": "stream",
     "text": [
      "/home/xabush/miniconda3/lib/python3.9/site-packages/chex/_src/pytypes.py:37: FutureWarning: jax.tree_structure is deprecated, and will be removed in a future release. Use jax.tree_util.tree_structure instead.\n",
      "  PyTreeDef = type(jax.tree_structure(None))\n"
     ]
    }
   ],
   "source": [
    "%cd /home/xabush/code/snet/moses-incons-pen-xp/notebooks/variable_selection/cancer/nn\n",
    "import matplotlib.pyplot as plt\n",
    "import tensorflow_probability.substrates.jax as tfp\n",
    "from sklearn.model_selection import train_test_split, cross_val_score, StratifiedKFold\n",
    "from sklearn.preprocessing import StandardScaler\n",
    "tfd = tfp.distributions\n",
    "from gibbs_sampler import *\n",
    "\n",
    "plt.style.use('ggplot')\n",
    "%load_ext autoreload"
   ],
   "metadata": {
    "collapsed": false,
    "pycharm": {
     "name": "#%%\n"
    }
   }
  },
  {
   "cell_type": "code",
   "execution_count": 3,
   "outputs": [],
   "source": [
    "data_dir = \"/home/xabush/code/snet/moses-incons-pen-xp/data\""
   ],
   "metadata": {
    "collapsed": false,
    "pycharm": {
     "name": "#%%\n"
    }
   }
  },
  {
   "cell_type": "code",
   "execution_count": 5,
   "outputs": [
    {
     "data": {
      "text/plain": "               63916   90993    6205    9240    4313  118611   23051    2073  \\\nsample                                                                         \nTCGA.A1.A0SD  0.5071  1.4345  0.7650  0.5260  1.5060 -2.0183  0.0433 -0.1072   \nTCGA.A1.A0SE  0.1814  0.8908  0.7160  0.1318  0.9578 -0.5903 -0.0437 -0.2385   \nTCGA.A1.A0SH  0.4615  2.2593  0.4171  0.3250  2.2855 -1.7268  0.4205  0.0072   \nTCGA.A1.A0SJ  0.8770  0.4378  0.1150  0.7578 -0.0893 -1.7837  0.2510  0.0352   \nTCGA.A1.A0SK  1.4123 -0.6372  0.4929  0.9432 -1.2332 -2.7550 -1.3315  0.7910   \n...              ...     ...     ...     ...     ...     ...     ...     ...   \nTCGA.E2.A1B4 -0.3512  1.7183  0.3261 -0.3635  0.4007 -1.7263  0.6043  0.7085   \nTCGA.E2.A1B5 -0.2104 -0.0718  0.6036 -1.2445 -1.0060  0.9515 -0.8528  1.2777   \nTCGA.E2.A1B6 -0.0371  1.4002  1.4066 -0.4212 -0.2172 -1.4045 -0.5692  0.9170   \nTCGA.E2.A1BC  0.0988  1.6302  0.6498 -0.4498  1.6372 -2.2388 -0.1018  0.4055   \nTCGA.E2.A1BD -0.3150  0.4652  0.6008 -0.2023  1.5050 -1.2552  0.0932  1.3233   \n\n               84059   51289  ...   55127   51504  408263    5720   10734  \\\nsample                        ...                                           \nTCGA.A1.A0SD  0.1031 -0.0620  ... -1.1963 -0.5669  0.4770  0.0337 -2.3310   \nTCGA.A1.A0SE -0.1522  0.4425  ... -0.2114 -0.6249  0.3810  0.3335 -2.2385   \nTCGA.A1.A0SH -0.6960  0.2960  ... -0.9239 -0.0040  0.3005  0.1680 -1.7900   \nTCGA.A1.A0SJ -0.6406  0.6885  ... -1.0014 -0.4110  0.1905  0.7040 -2.2770   \nTCGA.A1.A0SK  0.0145 -0.0600  ... -2.2761 -0.1885 -0.4842 -1.3768 -0.4602   \n...              ...     ...  ...     ...     ...     ...     ...     ...   \nTCGA.E2.A1B4  1.2884 -0.2805  ... -1.4000  0.5351  0.8638  0.1140 -2.0697   \nTCGA.E2.A1B5 -1.0344  0.7400  ... -0.6232  0.5499 -0.0472  0.0658  0.9070   \nTCGA.E2.A1B6  1.0480 -0.0150  ... -1.2822  0.4176  0.8300  0.5608 -0.4182   \nTCGA.E2.A1BC  1.5330 -0.5785  ... -1.1959 -0.6579  0.3167  0.3420 -2.5650   \nTCGA.E2.A1BD  1.0284  0.3850  ...  0.0978  0.0199  0.2780  1.2257 -1.8607   \n\n              201799  114792  254187   84787    7536  \nsample                                                \nTCGA.A1.A0SD  2.7098 -0.2495 -0.7820 -1.0585 -0.7914  \nTCGA.A1.A0SE  0.6798 -0.4920 -1.7955 -0.7757 -1.1238  \nTCGA.A1.A0SH  1.3068 -0.3722 -0.7135 -0.8375 -1.2906  \nTCGA.A1.A0SJ  1.2083  1.2638 -1.3870 -1.2565 -0.8082  \nTCGA.A1.A0SK -0.4422  1.3678 -1.0530  0.2732 -0.1535  \n...              ...     ...     ...     ...     ...  \nTCGA.E2.A1B4  2.8032  0.6227  0.1075 -0.6942 -0.5601  \nTCGA.E2.A1B5  1.3512 -0.0490 -0.3145 -0.7007  0.2822  \nTCGA.E2.A1B6  1.2095  0.0413 -0.7695 -0.8847 -0.7779  \nTCGA.E2.A1BC  0.3807 -1.1030 -0.8350 -0.6302 -0.9589  \nTCGA.E2.A1BD  0.8375  0.1680  0.0910 -0.3448 -1.0576  \n\n[526 rows x 6149 columns]",
      "text/html": "<div>\n<style scoped>\n    .dataframe tbody tr th:only-of-type {\n        vertical-align: middle;\n    }\n\n    .dataframe tbody tr th {\n        vertical-align: top;\n    }\n\n    .dataframe thead th {\n        text-align: right;\n    }\n</style>\n<table border=\"1\" class=\"dataframe\">\n  <thead>\n    <tr style=\"text-align: right;\">\n      <th></th>\n      <th>63916</th>\n      <th>90993</th>\n      <th>6205</th>\n      <th>9240</th>\n      <th>4313</th>\n      <th>118611</th>\n      <th>23051</th>\n      <th>2073</th>\n      <th>84059</th>\n      <th>51289</th>\n      <th>...</th>\n      <th>55127</th>\n      <th>51504</th>\n      <th>408263</th>\n      <th>5720</th>\n      <th>10734</th>\n      <th>201799</th>\n      <th>114792</th>\n      <th>254187</th>\n      <th>84787</th>\n      <th>7536</th>\n    </tr>\n    <tr>\n      <th>sample</th>\n      <th></th>\n      <th></th>\n      <th></th>\n      <th></th>\n      <th></th>\n      <th></th>\n      <th></th>\n      <th></th>\n      <th></th>\n      <th></th>\n      <th></th>\n      <th></th>\n      <th></th>\n      <th></th>\n      <th></th>\n      <th></th>\n      <th></th>\n      <th></th>\n      <th></th>\n      <th></th>\n      <th></th>\n    </tr>\n  </thead>\n  <tbody>\n    <tr>\n      <th>TCGA.A1.A0SD</th>\n      <td>0.5071</td>\n      <td>1.4345</td>\n      <td>0.7650</td>\n      <td>0.5260</td>\n      <td>1.5060</td>\n      <td>-2.0183</td>\n      <td>0.0433</td>\n      <td>-0.1072</td>\n      <td>0.1031</td>\n      <td>-0.0620</td>\n      <td>...</td>\n      <td>-1.1963</td>\n      <td>-0.5669</td>\n      <td>0.4770</td>\n      <td>0.0337</td>\n      <td>-2.3310</td>\n      <td>2.7098</td>\n      <td>-0.2495</td>\n      <td>-0.7820</td>\n      <td>-1.0585</td>\n      <td>-0.7914</td>\n    </tr>\n    <tr>\n      <th>TCGA.A1.A0SE</th>\n      <td>0.1814</td>\n      <td>0.8908</td>\n      <td>0.7160</td>\n      <td>0.1318</td>\n      <td>0.9578</td>\n      <td>-0.5903</td>\n      <td>-0.0437</td>\n      <td>-0.2385</td>\n      <td>-0.1522</td>\n      <td>0.4425</td>\n      <td>...</td>\n      <td>-0.2114</td>\n      <td>-0.6249</td>\n      <td>0.3810</td>\n      <td>0.3335</td>\n      <td>-2.2385</td>\n      <td>0.6798</td>\n      <td>-0.4920</td>\n      <td>-1.7955</td>\n      <td>-0.7757</td>\n      <td>-1.1238</td>\n    </tr>\n    <tr>\n      <th>TCGA.A1.A0SH</th>\n      <td>0.4615</td>\n      <td>2.2593</td>\n      <td>0.4171</td>\n      <td>0.3250</td>\n      <td>2.2855</td>\n      <td>-1.7268</td>\n      <td>0.4205</td>\n      <td>0.0072</td>\n      <td>-0.6960</td>\n      <td>0.2960</td>\n      <td>...</td>\n      <td>-0.9239</td>\n      <td>-0.0040</td>\n      <td>0.3005</td>\n      <td>0.1680</td>\n      <td>-1.7900</td>\n      <td>1.3068</td>\n      <td>-0.3722</td>\n      <td>-0.7135</td>\n      <td>-0.8375</td>\n      <td>-1.2906</td>\n    </tr>\n    <tr>\n      <th>TCGA.A1.A0SJ</th>\n      <td>0.8770</td>\n      <td>0.4378</td>\n      <td>0.1150</td>\n      <td>0.7578</td>\n      <td>-0.0893</td>\n      <td>-1.7837</td>\n      <td>0.2510</td>\n      <td>0.0352</td>\n      <td>-0.6406</td>\n      <td>0.6885</td>\n      <td>...</td>\n      <td>-1.0014</td>\n      <td>-0.4110</td>\n      <td>0.1905</td>\n      <td>0.7040</td>\n      <td>-2.2770</td>\n      <td>1.2083</td>\n      <td>1.2638</td>\n      <td>-1.3870</td>\n      <td>-1.2565</td>\n      <td>-0.8082</td>\n    </tr>\n    <tr>\n      <th>TCGA.A1.A0SK</th>\n      <td>1.4123</td>\n      <td>-0.6372</td>\n      <td>0.4929</td>\n      <td>0.9432</td>\n      <td>-1.2332</td>\n      <td>-2.7550</td>\n      <td>-1.3315</td>\n      <td>0.7910</td>\n      <td>0.0145</td>\n      <td>-0.0600</td>\n      <td>...</td>\n      <td>-2.2761</td>\n      <td>-0.1885</td>\n      <td>-0.4842</td>\n      <td>-1.3768</td>\n      <td>-0.4602</td>\n      <td>-0.4422</td>\n      <td>1.3678</td>\n      <td>-1.0530</td>\n      <td>0.2732</td>\n      <td>-0.1535</td>\n    </tr>\n    <tr>\n      <th>...</th>\n      <td>...</td>\n      <td>...</td>\n      <td>...</td>\n      <td>...</td>\n      <td>...</td>\n      <td>...</td>\n      <td>...</td>\n      <td>...</td>\n      <td>...</td>\n      <td>...</td>\n      <td>...</td>\n      <td>...</td>\n      <td>...</td>\n      <td>...</td>\n      <td>...</td>\n      <td>...</td>\n      <td>...</td>\n      <td>...</td>\n      <td>...</td>\n      <td>...</td>\n      <td>...</td>\n    </tr>\n    <tr>\n      <th>TCGA.E2.A1B4</th>\n      <td>-0.3512</td>\n      <td>1.7183</td>\n      <td>0.3261</td>\n      <td>-0.3635</td>\n      <td>0.4007</td>\n      <td>-1.7263</td>\n      <td>0.6043</td>\n      <td>0.7085</td>\n      <td>1.2884</td>\n      <td>-0.2805</td>\n      <td>...</td>\n      <td>-1.4000</td>\n      <td>0.5351</td>\n      <td>0.8638</td>\n      <td>0.1140</td>\n      <td>-2.0697</td>\n      <td>2.8032</td>\n      <td>0.6227</td>\n      <td>0.1075</td>\n      <td>-0.6942</td>\n      <td>-0.5601</td>\n    </tr>\n    <tr>\n      <th>TCGA.E2.A1B5</th>\n      <td>-0.2104</td>\n      <td>-0.0718</td>\n      <td>0.6036</td>\n      <td>-1.2445</td>\n      <td>-1.0060</td>\n      <td>0.9515</td>\n      <td>-0.8528</td>\n      <td>1.2777</td>\n      <td>-1.0344</td>\n      <td>0.7400</td>\n      <td>...</td>\n      <td>-0.6232</td>\n      <td>0.5499</td>\n      <td>-0.0472</td>\n      <td>0.0658</td>\n      <td>0.9070</td>\n      <td>1.3512</td>\n      <td>-0.0490</td>\n      <td>-0.3145</td>\n      <td>-0.7007</td>\n      <td>0.2822</td>\n    </tr>\n    <tr>\n      <th>TCGA.E2.A1B6</th>\n      <td>-0.0371</td>\n      <td>1.4002</td>\n      <td>1.4066</td>\n      <td>-0.4212</td>\n      <td>-0.2172</td>\n      <td>-1.4045</td>\n      <td>-0.5692</td>\n      <td>0.9170</td>\n      <td>1.0480</td>\n      <td>-0.0150</td>\n      <td>...</td>\n      <td>-1.2822</td>\n      <td>0.4176</td>\n      <td>0.8300</td>\n      <td>0.5608</td>\n      <td>-0.4182</td>\n      <td>1.2095</td>\n      <td>0.0413</td>\n      <td>-0.7695</td>\n      <td>-0.8847</td>\n      <td>-0.7779</td>\n    </tr>\n    <tr>\n      <th>TCGA.E2.A1BC</th>\n      <td>0.0988</td>\n      <td>1.6302</td>\n      <td>0.6498</td>\n      <td>-0.4498</td>\n      <td>1.6372</td>\n      <td>-2.2388</td>\n      <td>-0.1018</td>\n      <td>0.4055</td>\n      <td>1.5330</td>\n      <td>-0.5785</td>\n      <td>...</td>\n      <td>-1.1959</td>\n      <td>-0.6579</td>\n      <td>0.3167</td>\n      <td>0.3420</td>\n      <td>-2.5650</td>\n      <td>0.3807</td>\n      <td>-1.1030</td>\n      <td>-0.8350</td>\n      <td>-0.6302</td>\n      <td>-0.9589</td>\n    </tr>\n    <tr>\n      <th>TCGA.E2.A1BD</th>\n      <td>-0.3150</td>\n      <td>0.4652</td>\n      <td>0.6008</td>\n      <td>-0.2023</td>\n      <td>1.5050</td>\n      <td>-1.2552</td>\n      <td>0.0932</td>\n      <td>1.3233</td>\n      <td>1.0284</td>\n      <td>0.3850</td>\n      <td>...</td>\n      <td>0.0978</td>\n      <td>0.0199</td>\n      <td>0.2780</td>\n      <td>1.2257</td>\n      <td>-1.8607</td>\n      <td>0.8375</td>\n      <td>0.1680</td>\n      <td>0.0910</td>\n      <td>-0.3448</td>\n      <td>-1.0576</td>\n    </tr>\n  </tbody>\n</table>\n<p>526 rows × 6149 columns</p>\n</div>"
     },
     "execution_count": 5,
     "metadata": {},
     "output_type": "execute_result"
    }
   ],
   "source": [
    "tcga_gene_expr_df = pd.read_csv(f\"{data_dir}/tcgaRNAseqEntrez.csv\", index_col=\"sample\")\n",
    "tcga_gene_expr_df"
   ],
   "metadata": {
    "collapsed": false,
    "pycharm": {
     "name": "#%%\n"
    }
   }
  },
  {
   "cell_type": "code",
   "execution_count": 7,
   "outputs": [
    {
     "data": {
      "text/plain": "              years_to_birth  Tumor_purity pathologic_stage pathology_T_stage  \\\nsample                                                                          \nTCGA.A1.A0SD            59.0        0.6906          stageii                t2   \nTCGA.A1.A0SE            56.0        0.7979           stagei                t1   \nTCGA.A1.A0SH            39.0        0.6574          stageii                t2   \nTCGA.A1.A0SJ            39.0        0.7984         stageiii                t3   \nTCGA.A1.A0SK            54.0        0.9288          stageii                t2   \n...                      ...           ...              ...               ...   \nTCGA.E2.A1B4            74.0        0.8854         stageiii                t1   \nTCGA.E2.A1B5            46.0        0.3604          stageii                t2   \nTCGA.E2.A1B6            44.0        0.4396          stageii                t2   \nTCGA.E2.A1BC            63.0        0.7707           stagei                t1   \nTCGA.E2.A1BD            53.0        0.7929          stageii                t2   \n\n             pathology_N_stage pathology_M_stage  \\\nsample                                             \nTCGA.A1.A0SD                n0                m0   \nTCGA.A1.A0SE                n0                m0   \nTCGA.A1.A0SH                n0                m0   \nTCGA.A1.A0SJ                n1                m0   \nTCGA.A1.A0SK                n0                m0   \n...                        ...               ...   \nTCGA.E2.A1B4                n2                m0   \nTCGA.E2.A1B5                n0                m0   \nTCGA.E2.A1B6                n0                m0   \nTCGA.E2.A1BC                n0                m0   \nTCGA.E2.A1BD                n0                m0   \n\n                          histological_type  number_of_lymph_nodes  PAM50  \\\nsample                                                                      \nTCGA.A1.A0SD    infiltratingductalcarcinoma                    0.0   LumA   \nTCGA.A1.A0SE  mixedhistology(pleasespecify)                    0.0   LumA   \nTCGA.A1.A0SH    infiltratingductalcarcinoma                    0.0   LumA   \nTCGA.A1.A0SJ    infiltratingductalcarcinoma                    3.0   LumA   \nTCGA.A1.A0SK                  other,specify                    0.0  Basal   \n...                                     ...                    ...    ...   \nTCGA.E2.A1B4    infiltratingductalcarcinoma                    3.0   LumA   \nTCGA.E2.A1B5   infiltratinglobularcarcinoma                    0.0   LumA   \nTCGA.E2.A1B6    infiltratingductalcarcinoma                    0.0  Basal   \nTCGA.E2.A1BC    infiltratingductalcarcinoma                    0.0   LumA   \nTCGA.E2.A1BD    infiltratingductalcarcinoma                    0.0   LumA   \n\n             ER.Status PR.Status HER2.Status  gender radiation_therapy  \\\nsample                                                                   \nTCGA.A1.A0SD       NaN       NaN         NaN  female               NaN   \nTCGA.A1.A0SE       NaN       NaN         NaN  female               NaN   \nTCGA.A1.A0SH       NaN       NaN         NaN  female               NaN   \nTCGA.A1.A0SJ       NaN       NaN         NaN  female               NaN   \nTCGA.A1.A0SK       NaN       NaN         NaN  female               NaN   \n...                ...       ...         ...     ...               ...   \nTCGA.E2.A1B4       NaN       NaN         NaN  female               yes   \nTCGA.E2.A1B5       NaN       NaN         NaN  female               yes   \nTCGA.E2.A1B6       NaN       NaN         NaN  female                no   \nTCGA.E2.A1BC       NaN       NaN         NaN  female                no   \nTCGA.E2.A1BD       NaN       NaN         NaN  female               yes   \n\n                                race            ethnicity  \\\nsample                                                      \nTCGA.A1.A0SD                   white  nothispanicorlatino   \nTCGA.A1.A0SE                   white  nothispanicorlatino   \nTCGA.A1.A0SH                   white  nothispanicorlatino   \nTCGA.A1.A0SJ  blackorafricanamerican  nothispanicorlatino   \nTCGA.A1.A0SK                   asian  nothispanicorlatino   \n...                              ...                  ...   \nTCGA.E2.A1B4                   white  nothispanicorlatino   \nTCGA.E2.A1B5                   white  nothispanicorlatino   \nTCGA.E2.A1B6                   white  nothispanicorlatino   \nTCGA.E2.A1BC                     NaN                  NaN   \nTCGA.E2.A1BD                   white  nothispanicorlatino   \n\n              Median_overall_survival  overall_survival  status  \\\nsample                                                            \nTCGA.A1.A0SD                      0.0             437.0     0.0   \nTCGA.A1.A0SE                      0.0            1321.0     0.0   \nTCGA.A1.A0SH                      0.0            1437.0     0.0   \nTCGA.A1.A0SJ                      0.0             416.0     0.0   \nTCGA.A1.A0SK                      0.0             967.0     1.0   \n...                               ...               ...     ...   \nTCGA.E2.A1B4                      0.0            1004.0     1.0   \nTCGA.E2.A1B5                      0.0             984.0     0.0   \nTCGA.E2.A1B6                      0.0             867.0     0.0   \nTCGA.E2.A1BC                      0.0             501.0     0.0   \nTCGA.E2.A1BD                      0.0            1133.0     0.0   \n\n             overallsurvival  \nsample                        \nTCGA.A1.A0SD           437,0  \nTCGA.A1.A0SE          1321,0  \nTCGA.A1.A0SH          1437,0  \nTCGA.A1.A0SJ           416,0  \nTCGA.A1.A0SK           967,1  \n...                      ...  \nTCGA.E2.A1B4          1004,1  \nTCGA.E2.A1B5           984,0  \nTCGA.E2.A1B6           867,0  \nTCGA.E2.A1BC           501,0  \nTCGA.E2.A1BD          1133,0  \n\n[526 rows x 20 columns]",
      "text/html": "<div>\n<style scoped>\n    .dataframe tbody tr th:only-of-type {\n        vertical-align: middle;\n    }\n\n    .dataframe tbody tr th {\n        vertical-align: top;\n    }\n\n    .dataframe thead th {\n        text-align: right;\n    }\n</style>\n<table border=\"1\" class=\"dataframe\">\n  <thead>\n    <tr style=\"text-align: right;\">\n      <th></th>\n      <th>years_to_birth</th>\n      <th>Tumor_purity</th>\n      <th>pathologic_stage</th>\n      <th>pathology_T_stage</th>\n      <th>pathology_N_stage</th>\n      <th>pathology_M_stage</th>\n      <th>histological_type</th>\n      <th>number_of_lymph_nodes</th>\n      <th>PAM50</th>\n      <th>ER.Status</th>\n      <th>PR.Status</th>\n      <th>HER2.Status</th>\n      <th>gender</th>\n      <th>radiation_therapy</th>\n      <th>race</th>\n      <th>ethnicity</th>\n      <th>Median_overall_survival</th>\n      <th>overall_survival</th>\n      <th>status</th>\n      <th>overallsurvival</th>\n    </tr>\n    <tr>\n      <th>sample</th>\n      <th></th>\n      <th></th>\n      <th></th>\n      <th></th>\n      <th></th>\n      <th></th>\n      <th></th>\n      <th></th>\n      <th></th>\n      <th></th>\n      <th></th>\n      <th></th>\n      <th></th>\n      <th></th>\n      <th></th>\n      <th></th>\n      <th></th>\n      <th></th>\n      <th></th>\n      <th></th>\n    </tr>\n  </thead>\n  <tbody>\n    <tr>\n      <th>TCGA.A1.A0SD</th>\n      <td>59.0</td>\n      <td>0.6906</td>\n      <td>stageii</td>\n      <td>t2</td>\n      <td>n0</td>\n      <td>m0</td>\n      <td>infiltratingductalcarcinoma</td>\n      <td>0.0</td>\n      <td>LumA</td>\n      <td>NaN</td>\n      <td>NaN</td>\n      <td>NaN</td>\n      <td>female</td>\n      <td>NaN</td>\n      <td>white</td>\n      <td>nothispanicorlatino</td>\n      <td>0.0</td>\n      <td>437.0</td>\n      <td>0.0</td>\n      <td>437,0</td>\n    </tr>\n    <tr>\n      <th>TCGA.A1.A0SE</th>\n      <td>56.0</td>\n      <td>0.7979</td>\n      <td>stagei</td>\n      <td>t1</td>\n      <td>n0</td>\n      <td>m0</td>\n      <td>mixedhistology(pleasespecify)</td>\n      <td>0.0</td>\n      <td>LumA</td>\n      <td>NaN</td>\n      <td>NaN</td>\n      <td>NaN</td>\n      <td>female</td>\n      <td>NaN</td>\n      <td>white</td>\n      <td>nothispanicorlatino</td>\n      <td>0.0</td>\n      <td>1321.0</td>\n      <td>0.0</td>\n      <td>1321,0</td>\n    </tr>\n    <tr>\n      <th>TCGA.A1.A0SH</th>\n      <td>39.0</td>\n      <td>0.6574</td>\n      <td>stageii</td>\n      <td>t2</td>\n      <td>n0</td>\n      <td>m0</td>\n      <td>infiltratingductalcarcinoma</td>\n      <td>0.0</td>\n      <td>LumA</td>\n      <td>NaN</td>\n      <td>NaN</td>\n      <td>NaN</td>\n      <td>female</td>\n      <td>NaN</td>\n      <td>white</td>\n      <td>nothispanicorlatino</td>\n      <td>0.0</td>\n      <td>1437.0</td>\n      <td>0.0</td>\n      <td>1437,0</td>\n    </tr>\n    <tr>\n      <th>TCGA.A1.A0SJ</th>\n      <td>39.0</td>\n      <td>0.7984</td>\n      <td>stageiii</td>\n      <td>t3</td>\n      <td>n1</td>\n      <td>m0</td>\n      <td>infiltratingductalcarcinoma</td>\n      <td>3.0</td>\n      <td>LumA</td>\n      <td>NaN</td>\n      <td>NaN</td>\n      <td>NaN</td>\n      <td>female</td>\n      <td>NaN</td>\n      <td>blackorafricanamerican</td>\n      <td>nothispanicorlatino</td>\n      <td>0.0</td>\n      <td>416.0</td>\n      <td>0.0</td>\n      <td>416,0</td>\n    </tr>\n    <tr>\n      <th>TCGA.A1.A0SK</th>\n      <td>54.0</td>\n      <td>0.9288</td>\n      <td>stageii</td>\n      <td>t2</td>\n      <td>n0</td>\n      <td>m0</td>\n      <td>other,specify</td>\n      <td>0.0</td>\n      <td>Basal</td>\n      <td>NaN</td>\n      <td>NaN</td>\n      <td>NaN</td>\n      <td>female</td>\n      <td>NaN</td>\n      <td>asian</td>\n      <td>nothispanicorlatino</td>\n      <td>0.0</td>\n      <td>967.0</td>\n      <td>1.0</td>\n      <td>967,1</td>\n    </tr>\n    <tr>\n      <th>...</th>\n      <td>...</td>\n      <td>...</td>\n      <td>...</td>\n      <td>...</td>\n      <td>...</td>\n      <td>...</td>\n      <td>...</td>\n      <td>...</td>\n      <td>...</td>\n      <td>...</td>\n      <td>...</td>\n      <td>...</td>\n      <td>...</td>\n      <td>...</td>\n      <td>...</td>\n      <td>...</td>\n      <td>...</td>\n      <td>...</td>\n      <td>...</td>\n      <td>...</td>\n    </tr>\n    <tr>\n      <th>TCGA.E2.A1B4</th>\n      <td>74.0</td>\n      <td>0.8854</td>\n      <td>stageiii</td>\n      <td>t1</td>\n      <td>n2</td>\n      <td>m0</td>\n      <td>infiltratingductalcarcinoma</td>\n      <td>3.0</td>\n      <td>LumA</td>\n      <td>NaN</td>\n      <td>NaN</td>\n      <td>NaN</td>\n      <td>female</td>\n      <td>yes</td>\n      <td>white</td>\n      <td>nothispanicorlatino</td>\n      <td>0.0</td>\n      <td>1004.0</td>\n      <td>1.0</td>\n      <td>1004,1</td>\n    </tr>\n    <tr>\n      <th>TCGA.E2.A1B5</th>\n      <td>46.0</td>\n      <td>0.3604</td>\n      <td>stageii</td>\n      <td>t2</td>\n      <td>n0</td>\n      <td>m0</td>\n      <td>infiltratinglobularcarcinoma</td>\n      <td>0.0</td>\n      <td>LumA</td>\n      <td>NaN</td>\n      <td>NaN</td>\n      <td>NaN</td>\n      <td>female</td>\n      <td>yes</td>\n      <td>white</td>\n      <td>nothispanicorlatino</td>\n      <td>0.0</td>\n      <td>984.0</td>\n      <td>0.0</td>\n      <td>984,0</td>\n    </tr>\n    <tr>\n      <th>TCGA.E2.A1B6</th>\n      <td>44.0</td>\n      <td>0.4396</td>\n      <td>stageii</td>\n      <td>t2</td>\n      <td>n0</td>\n      <td>m0</td>\n      <td>infiltratingductalcarcinoma</td>\n      <td>0.0</td>\n      <td>Basal</td>\n      <td>NaN</td>\n      <td>NaN</td>\n      <td>NaN</td>\n      <td>female</td>\n      <td>no</td>\n      <td>white</td>\n      <td>nothispanicorlatino</td>\n      <td>0.0</td>\n      <td>867.0</td>\n      <td>0.0</td>\n      <td>867,0</td>\n    </tr>\n    <tr>\n      <th>TCGA.E2.A1BC</th>\n      <td>63.0</td>\n      <td>0.7707</td>\n      <td>stagei</td>\n      <td>t1</td>\n      <td>n0</td>\n      <td>m0</td>\n      <td>infiltratingductalcarcinoma</td>\n      <td>0.0</td>\n      <td>LumA</td>\n      <td>NaN</td>\n      <td>NaN</td>\n      <td>NaN</td>\n      <td>female</td>\n      <td>no</td>\n      <td>NaN</td>\n      <td>NaN</td>\n      <td>0.0</td>\n      <td>501.0</td>\n      <td>0.0</td>\n      <td>501,0</td>\n    </tr>\n    <tr>\n      <th>TCGA.E2.A1BD</th>\n      <td>53.0</td>\n      <td>0.7929</td>\n      <td>stageii</td>\n      <td>t2</td>\n      <td>n0</td>\n      <td>m0</td>\n      <td>infiltratingductalcarcinoma</td>\n      <td>0.0</td>\n      <td>LumA</td>\n      <td>NaN</td>\n      <td>NaN</td>\n      <td>NaN</td>\n      <td>female</td>\n      <td>yes</td>\n      <td>white</td>\n      <td>nothispanicorlatino</td>\n      <td>0.0</td>\n      <td>1133.0</td>\n      <td>0.0</td>\n      <td>1133,0</td>\n    </tr>\n  </tbody>\n</table>\n<p>526 rows × 20 columns</p>\n</div>"
     },
     "execution_count": 7,
     "metadata": {},
     "output_type": "execute_result"
    }
   ],
   "source": [
    "tcga_pheno_df = pd.read_csv(f\"{data_dir}/tcgaPheno.csv\", index_col=\"sample\")\n",
    "tcga_pheno_df"
   ],
   "metadata": {
    "collapsed": false,
    "pycharm": {
     "name": "#%%\n"
    }
   }
  },
  {
   "cell_type": "code",
   "execution_count": 18,
   "outputs": [],
   "source": [
    "tcga_brca_df = pd.merge(tcga_gene_expr_df, tcga_pheno_df[\"status\"], left_index=True, right_index=True)\n",
    "tcga_brca_df =  tcga_brca_df[tcga_brca_df[\"status\"].notna()]\n",
    "tcga_brca_df.to_csv(f\"{data_dir}/tcga_brca_entrez.csv\")"
   ],
   "metadata": {
    "collapsed": false,
    "pycharm": {
     "name": "#%%\n"
    }
   }
  },
  {
   "cell_type": "code",
   "execution_count": 19,
   "outputs": [
    {
     "data": {
      "text/plain": "139"
     },
     "execution_count": 19,
     "metadata": {},
     "output_type": "execute_result"
    }
   ],
   "source": [
    "na_columns = tcga_brca_df.columns[tcga_brca_df.isna().any()].to_list()\n",
    "len(na_columns)"
   ],
   "metadata": {
    "collapsed": false,
    "pycharm": {
     "name": "#%%\n"
    }
   }
  },
  {
   "cell_type": "code",
   "execution_count": 20,
   "outputs": [
    {
     "ename": "TypeError",
     "evalue": "unhashable type: 'list'",
     "output_type": "error",
     "traceback": [
      "\u001B[0;31m---------------------------------------------------------------------------\u001B[0m",
      "\u001B[0;31mTypeError\u001B[0m                                 Traceback (most recent call last)",
      "Input \u001B[0;32mIn [20]\u001B[0m, in \u001B[0;36m<cell line: 1>\u001B[0;34m()\u001B[0m\n\u001B[0;32m----> 1\u001B[0m X, y  \u001B[38;5;241m=\u001B[39m tcga_brca_df[\u001B[43mtcga_brca_df\u001B[49m\u001B[38;5;241;43m.\u001B[39;49m\u001B[43mcolumns\u001B[49m\u001B[38;5;241;43m.\u001B[39;49m\u001B[43mdifference\u001B[49m\u001B[43m(\u001B[49m\u001B[43m[\u001B[49m\u001B[43mna_columns\u001B[49m\u001B[43m]\u001B[49m\u001B[43m \u001B[49m\u001B[38;5;241;43m+\u001B[39;49m\u001B[43m \u001B[49m\u001B[43m[\u001B[49m\u001B[38;5;124;43m\"\u001B[39;49m\u001B[38;5;124;43mstatus\u001B[39;49m\u001B[38;5;124;43m\"\u001B[39;49m\u001B[43m]\u001B[49m\u001B[43m)\u001B[49m], tcga_brca_df[\u001B[38;5;124m\"\u001B[39m\u001B[38;5;124mstatus\u001B[39m\u001B[38;5;124m\"\u001B[39m]\n",
      "File \u001B[0;32m~/miniconda3/lib/python3.9/site-packages/pandas/core/indexes/base.py:3448\u001B[0m, in \u001B[0;36mIndex.difference\u001B[0;34m(self, other, sort)\u001B[0m\n\u001B[1;32m   3444\u001B[0m \u001B[38;5;28;01mif\u001B[39;00m \u001B[38;5;129;01mnot\u001B[39;00m \u001B[38;5;28mself\u001B[39m\u001B[38;5;241m.\u001B[39m_should_compare(other):\n\u001B[1;32m   3445\u001B[0m     \u001B[38;5;66;03m# Nothing matches -> difference is everything\u001B[39;00m\n\u001B[1;32m   3446\u001B[0m     \u001B[38;5;28;01mreturn\u001B[39;00m \u001B[38;5;28mself\u001B[39m\u001B[38;5;241m.\u001B[39mrename(result_name)\n\u001B[0;32m-> 3448\u001B[0m result \u001B[38;5;241m=\u001B[39m \u001B[38;5;28;43mself\u001B[39;49m\u001B[38;5;241;43m.\u001B[39;49m\u001B[43m_difference\u001B[49m\u001B[43m(\u001B[49m\u001B[43mother\u001B[49m\u001B[43m,\u001B[49m\u001B[43m \u001B[49m\u001B[43msort\u001B[49m\u001B[38;5;241;43m=\u001B[39;49m\u001B[43msort\u001B[49m\u001B[43m)\u001B[49m\n\u001B[1;32m   3449\u001B[0m \u001B[38;5;28;01mreturn\u001B[39;00m \u001B[38;5;28mself\u001B[39m\u001B[38;5;241m.\u001B[39m_wrap_difference_result(other, result)\n",
      "File \u001B[0;32m~/miniconda3/lib/python3.9/site-packages/pandas/core/indexes/base.py:3456\u001B[0m, in \u001B[0;36mIndex._difference\u001B[0;34m(self, other, sort)\u001B[0m\n\u001B[1;32m   3451\u001B[0m \u001B[38;5;28;01mdef\u001B[39;00m \u001B[38;5;21m_difference\u001B[39m(\u001B[38;5;28mself\u001B[39m, other, sort):\n\u001B[1;32m   3452\u001B[0m     \u001B[38;5;66;03m# overridden by RangeIndex\u001B[39;00m\n\u001B[1;32m   3454\u001B[0m     this \u001B[38;5;241m=\u001B[39m \u001B[38;5;28mself\u001B[39m\u001B[38;5;241m.\u001B[39munique()\n\u001B[0;32m-> 3456\u001B[0m     indexer \u001B[38;5;241m=\u001B[39m \u001B[43mthis\u001B[49m\u001B[38;5;241;43m.\u001B[39;49m\u001B[43mget_indexer_for\u001B[49m\u001B[43m(\u001B[49m\u001B[43mother\u001B[49m\u001B[43m)\u001B[49m\n\u001B[1;32m   3457\u001B[0m     indexer \u001B[38;5;241m=\u001B[39m indexer\u001B[38;5;241m.\u001B[39mtake((indexer \u001B[38;5;241m!=\u001B[39m \u001B[38;5;241m-\u001B[39m\u001B[38;5;241m1\u001B[39m)\u001B[38;5;241m.\u001B[39mnonzero()[\u001B[38;5;241m0\u001B[39m])\n\u001B[1;32m   3459\u001B[0m     label_diff \u001B[38;5;241m=\u001B[39m np\u001B[38;5;241m.\u001B[39msetdiff1d(np\u001B[38;5;241m.\u001B[39marange(this\u001B[38;5;241m.\u001B[39msize), indexer, assume_unique\u001B[38;5;241m=\u001B[39m\u001B[38;5;28;01mTrue\u001B[39;00m)\n",
      "File \u001B[0;32m~/miniconda3/lib/python3.9/site-packages/pandas/core/indexes/base.py:5764\u001B[0m, in \u001B[0;36mIndex.get_indexer_for\u001B[0;34m(self, target)\u001B[0m\n\u001B[1;32m   5746\u001B[0m \u001B[38;5;124;03m\"\"\"\u001B[39;00m\n\u001B[1;32m   5747\u001B[0m \u001B[38;5;124;03mGuaranteed return of an indexer even when non-unique.\u001B[39;00m\n\u001B[1;32m   5748\u001B[0m \n\u001B[0;32m   (...)\u001B[0m\n\u001B[1;32m   5761\u001B[0m \u001B[38;5;124;03marray([0, 2])\u001B[39;00m\n\u001B[1;32m   5762\u001B[0m \u001B[38;5;124;03m\"\"\"\u001B[39;00m\n\u001B[1;32m   5763\u001B[0m \u001B[38;5;28;01mif\u001B[39;00m \u001B[38;5;28mself\u001B[39m\u001B[38;5;241m.\u001B[39m_index_as_unique:\n\u001B[0;32m-> 5764\u001B[0m     \u001B[38;5;28;01mreturn\u001B[39;00m \u001B[38;5;28;43mself\u001B[39;49m\u001B[38;5;241;43m.\u001B[39;49m\u001B[43mget_indexer\u001B[49m\u001B[43m(\u001B[49m\u001B[43mtarget\u001B[49m\u001B[43m)\u001B[49m\n\u001B[1;32m   5765\u001B[0m indexer, _ \u001B[38;5;241m=\u001B[39m \u001B[38;5;28mself\u001B[39m\u001B[38;5;241m.\u001B[39mget_indexer_non_unique(target)\n\u001B[1;32m   5766\u001B[0m \u001B[38;5;28;01mreturn\u001B[39;00m indexer\n",
      "File \u001B[0;32m~/miniconda3/lib/python3.9/site-packages/pandas/core/indexes/base.py:3784\u001B[0m, in \u001B[0;36mIndex.get_indexer\u001B[0;34m(self, target, method, limit, tolerance)\u001B[0m\n\u001B[1;32m   3779\u001B[0m     target \u001B[38;5;241m=\u001B[39m target\u001B[38;5;241m.\u001B[39mastype(dtype, copy\u001B[38;5;241m=\u001B[39m\u001B[38;5;28;01mFalse\u001B[39;00m)\n\u001B[1;32m   3780\u001B[0m     \u001B[38;5;28;01mreturn\u001B[39;00m this\u001B[38;5;241m.\u001B[39m_get_indexer(\n\u001B[1;32m   3781\u001B[0m         target, method\u001B[38;5;241m=\u001B[39mmethod, limit\u001B[38;5;241m=\u001B[39mlimit, tolerance\u001B[38;5;241m=\u001B[39mtolerance\n\u001B[1;32m   3782\u001B[0m     )\n\u001B[0;32m-> 3784\u001B[0m \u001B[38;5;28;01mreturn\u001B[39;00m \u001B[38;5;28;43mself\u001B[39;49m\u001B[38;5;241;43m.\u001B[39;49m\u001B[43m_get_indexer\u001B[49m\u001B[43m(\u001B[49m\u001B[43mtarget\u001B[49m\u001B[43m,\u001B[49m\u001B[43m \u001B[49m\u001B[43mmethod\u001B[49m\u001B[43m,\u001B[49m\u001B[43m \u001B[49m\u001B[43mlimit\u001B[49m\u001B[43m,\u001B[49m\u001B[43m \u001B[49m\u001B[43mtolerance\u001B[49m\u001B[43m)\u001B[49m\n",
      "File \u001B[0;32m~/miniconda3/lib/python3.9/site-packages/pandas/core/indexes/base.py:3809\u001B[0m, in \u001B[0;36mIndex._get_indexer\u001B[0;34m(self, target, method, limit, tolerance)\u001B[0m\n\u001B[1;32m   3804\u001B[0m         \u001B[38;5;66;03m# error: \"IndexEngine\" has no attribute \"_extract_level_codes\"\u001B[39;00m\n\u001B[1;32m   3805\u001B[0m         tgt_values \u001B[38;5;241m=\u001B[39m engine\u001B[38;5;241m.\u001B[39m_extract_level_codes(  \u001B[38;5;66;03m# type: ignore[attr-defined]\u001B[39;00m\n\u001B[1;32m   3806\u001B[0m             target\n\u001B[1;32m   3807\u001B[0m         )\n\u001B[0;32m-> 3809\u001B[0m     indexer \u001B[38;5;241m=\u001B[39m \u001B[38;5;28;43mself\u001B[39;49m\u001B[38;5;241;43m.\u001B[39;49m\u001B[43m_engine\u001B[49m\u001B[38;5;241;43m.\u001B[39;49m\u001B[43mget_indexer\u001B[49m\u001B[43m(\u001B[49m\u001B[43mtgt_values\u001B[49m\u001B[43m)\u001B[49m\n\u001B[1;32m   3811\u001B[0m \u001B[38;5;28;01mreturn\u001B[39;00m ensure_platform_int(indexer)\n",
      "File \u001B[0;32m~/miniconda3/lib/python3.9/site-packages/pandas/_libs/index.pyx:305\u001B[0m, in \u001B[0;36mpandas._libs.index.IndexEngine.get_indexer\u001B[0;34m()\u001B[0m\n",
      "File \u001B[0;32mpandas/_libs/hashtable_class_helper.pxi:5247\u001B[0m, in \u001B[0;36mpandas._libs.hashtable.PyObjectHashTable.lookup\u001B[0;34m()\u001B[0m\n",
      "\u001B[0;31mTypeError\u001B[0m: unhashable type: 'list'"
     ]
    }
   ],
   "source": [
    "X, y  = tcga_brca_df[tcga_brca_df.columns.difference([na_columns] + [\"status\"])], tcga_brca_df[\"status\"]"
   ],
   "metadata": {
    "collapsed": false,
    "pycharm": {
     "name": "#%%\n"
    }
   }
  },
  {
   "cell_type": "code",
   "execution_count": 16,
   "outputs": [
    {
     "ename": "ValueError",
     "evalue": "Input y contains NaN.",
     "output_type": "error",
     "traceback": [
      "\u001B[0;31m---------------------------------------------------------------------------\u001B[0m",
      "\u001B[0;31mValueError\u001B[0m                                Traceback (most recent call last)",
      "Input \u001B[0;32mIn [16]\u001B[0m, in \u001B[0;36m<cell line: 2>\u001B[0;34m()\u001B[0m\n\u001B[1;32m      1\u001B[0m seed \u001B[38;5;241m=\u001B[39m \u001B[38;5;241m1234\u001B[39m\n\u001B[0;32m----> 2\u001B[0m X_train_df, X_test_df, y_train_df, y_test_df \u001B[38;5;241m=\u001B[39m \u001B[43mtrain_test_split\u001B[49m\u001B[43m(\u001B[49m\u001B[43mX\u001B[49m\u001B[43m,\u001B[49m\u001B[43m \u001B[49m\u001B[43my\u001B[49m\u001B[43m,\u001B[49m\u001B[43m \u001B[49m\u001B[43mtest_size\u001B[49m\u001B[38;5;241;43m=\u001B[39;49m\u001B[38;5;241;43m0.2\u001B[39;49m\u001B[43m,\u001B[49m\u001B[43m \u001B[49m\u001B[43mrandom_state\u001B[49m\u001B[38;5;241;43m=\u001B[39;49m\u001B[43mseed\u001B[49m\u001B[43m,\u001B[49m\u001B[43m \u001B[49m\u001B[43mshuffle\u001B[49m\u001B[38;5;241;43m=\u001B[39;49m\u001B[38;5;28;43;01mTrue\u001B[39;49;00m\u001B[43m,\u001B[49m\u001B[43m \u001B[49m\u001B[43mstratify\u001B[49m\u001B[38;5;241;43m=\u001B[39;49m\u001B[43my\u001B[49m\u001B[43m)\u001B[49m\n",
      "File \u001B[0;32m~/miniconda3/lib/python3.9/site-packages/sklearn/model_selection/_split.py:2454\u001B[0m, in \u001B[0;36mtrain_test_split\u001B[0;34m(test_size, train_size, random_state, shuffle, stratify, *arrays)\u001B[0m\n\u001B[1;32m   2450\u001B[0m         CVClass \u001B[38;5;241m=\u001B[39m ShuffleSplit\n\u001B[1;32m   2452\u001B[0m     cv \u001B[38;5;241m=\u001B[39m CVClass(test_size\u001B[38;5;241m=\u001B[39mn_test, train_size\u001B[38;5;241m=\u001B[39mn_train, random_state\u001B[38;5;241m=\u001B[39mrandom_state)\n\u001B[0;32m-> 2454\u001B[0m     train, test \u001B[38;5;241m=\u001B[39m \u001B[38;5;28mnext\u001B[39m(\u001B[43mcv\u001B[49m\u001B[38;5;241;43m.\u001B[39;49m\u001B[43msplit\u001B[49m\u001B[43m(\u001B[49m\u001B[43mX\u001B[49m\u001B[38;5;241;43m=\u001B[39;49m\u001B[43marrays\u001B[49m\u001B[43m[\u001B[49m\u001B[38;5;241;43m0\u001B[39;49m\u001B[43m]\u001B[49m\u001B[43m,\u001B[49m\u001B[43m \u001B[49m\u001B[43my\u001B[49m\u001B[38;5;241;43m=\u001B[39;49m\u001B[43mstratify\u001B[49m\u001B[43m)\u001B[49m)\n\u001B[1;32m   2456\u001B[0m \u001B[38;5;28;01mreturn\u001B[39;00m \u001B[38;5;28mlist\u001B[39m(\n\u001B[1;32m   2457\u001B[0m     chain\u001B[38;5;241m.\u001B[39mfrom_iterable(\n\u001B[1;32m   2458\u001B[0m         (_safe_indexing(a, train), _safe_indexing(a, test)) \u001B[38;5;28;01mfor\u001B[39;00m a \u001B[38;5;129;01min\u001B[39;00m arrays\n\u001B[1;32m   2459\u001B[0m     )\n\u001B[1;32m   2460\u001B[0m )\n",
      "File \u001B[0;32m~/miniconda3/lib/python3.9/site-packages/sklearn/model_selection/_split.py:2035\u001B[0m, in \u001B[0;36mStratifiedShuffleSplit.split\u001B[0;34m(self, X, y, groups)\u001B[0m\n\u001B[1;32m   2001\u001B[0m \u001B[38;5;28;01mdef\u001B[39;00m \u001B[38;5;21msplit\u001B[39m(\u001B[38;5;28mself\u001B[39m, X, y, groups\u001B[38;5;241m=\u001B[39m\u001B[38;5;28;01mNone\u001B[39;00m):\n\u001B[1;32m   2002\u001B[0m     \u001B[38;5;124;03m\"\"\"Generate indices to split data into training and test set.\u001B[39;00m\n\u001B[1;32m   2003\u001B[0m \n\u001B[1;32m   2004\u001B[0m \u001B[38;5;124;03m    Parameters\u001B[39;00m\n\u001B[0;32m   (...)\u001B[0m\n\u001B[1;32m   2033\u001B[0m \u001B[38;5;124;03m    to an integer.\u001B[39;00m\n\u001B[1;32m   2034\u001B[0m \u001B[38;5;124;03m    \"\"\"\u001B[39;00m\n\u001B[0;32m-> 2035\u001B[0m     y \u001B[38;5;241m=\u001B[39m \u001B[43mcheck_array\u001B[49m\u001B[43m(\u001B[49m\u001B[43my\u001B[49m\u001B[43m,\u001B[49m\u001B[43m \u001B[49m\u001B[43minput_name\u001B[49m\u001B[38;5;241;43m=\u001B[39;49m\u001B[38;5;124;43m\"\u001B[39;49m\u001B[38;5;124;43my\u001B[39;49m\u001B[38;5;124;43m\"\u001B[39;49m\u001B[43m,\u001B[49m\u001B[43m \u001B[49m\u001B[43mensure_2d\u001B[49m\u001B[38;5;241;43m=\u001B[39;49m\u001B[38;5;28;43;01mFalse\u001B[39;49;00m\u001B[43m,\u001B[49m\u001B[43m \u001B[49m\u001B[43mdtype\u001B[49m\u001B[38;5;241;43m=\u001B[39;49m\u001B[38;5;28;43;01mNone\u001B[39;49;00m\u001B[43m)\u001B[49m\n\u001B[1;32m   2036\u001B[0m     \u001B[38;5;28;01mreturn\u001B[39;00m \u001B[38;5;28msuper\u001B[39m()\u001B[38;5;241m.\u001B[39msplit(X, y, groups)\n",
      "File \u001B[0;32m~/miniconda3/lib/python3.9/site-packages/sklearn/utils/validation.py:899\u001B[0m, in \u001B[0;36mcheck_array\u001B[0;34m(array, accept_sparse, accept_large_sparse, dtype, order, copy, force_all_finite, ensure_2d, allow_nd, ensure_min_samples, ensure_min_features, estimator, input_name)\u001B[0m\n\u001B[1;32m    893\u001B[0m         \u001B[38;5;28;01mraise\u001B[39;00m \u001B[38;5;167;01mValueError\u001B[39;00m(\n\u001B[1;32m    894\u001B[0m             \u001B[38;5;124m\"\u001B[39m\u001B[38;5;124mFound array with dim \u001B[39m\u001B[38;5;132;01m%d\u001B[39;00m\u001B[38;5;124m. \u001B[39m\u001B[38;5;132;01m%s\u001B[39;00m\u001B[38;5;124m expected <= 2.\u001B[39m\u001B[38;5;124m\"\u001B[39m\n\u001B[1;32m    895\u001B[0m             \u001B[38;5;241m%\u001B[39m (array\u001B[38;5;241m.\u001B[39mndim, estimator_name)\n\u001B[1;32m    896\u001B[0m         )\n\u001B[1;32m    898\u001B[0m     \u001B[38;5;28;01mif\u001B[39;00m force_all_finite:\n\u001B[0;32m--> 899\u001B[0m         \u001B[43m_assert_all_finite\u001B[49m\u001B[43m(\u001B[49m\n\u001B[1;32m    900\u001B[0m \u001B[43m            \u001B[49m\u001B[43marray\u001B[49m\u001B[43m,\u001B[49m\n\u001B[1;32m    901\u001B[0m \u001B[43m            \u001B[49m\u001B[43minput_name\u001B[49m\u001B[38;5;241;43m=\u001B[39;49m\u001B[43minput_name\u001B[49m\u001B[43m,\u001B[49m\n\u001B[1;32m    902\u001B[0m \u001B[43m            \u001B[49m\u001B[43mestimator_name\u001B[49m\u001B[38;5;241;43m=\u001B[39;49m\u001B[43mestimator_name\u001B[49m\u001B[43m,\u001B[49m\n\u001B[1;32m    903\u001B[0m \u001B[43m            \u001B[49m\u001B[43mallow_nan\u001B[49m\u001B[38;5;241;43m=\u001B[39;49m\u001B[43mforce_all_finite\u001B[49m\u001B[43m \u001B[49m\u001B[38;5;241;43m==\u001B[39;49m\u001B[43m \u001B[49m\u001B[38;5;124;43m\"\u001B[39;49m\u001B[38;5;124;43mallow-nan\u001B[39;49m\u001B[38;5;124;43m\"\u001B[39;49m\u001B[43m,\u001B[49m\n\u001B[1;32m    904\u001B[0m \u001B[43m        \u001B[49m\u001B[43m)\u001B[49m\n\u001B[1;32m    906\u001B[0m \u001B[38;5;28;01mif\u001B[39;00m ensure_min_samples \u001B[38;5;241m>\u001B[39m \u001B[38;5;241m0\u001B[39m:\n\u001B[1;32m    907\u001B[0m     n_samples \u001B[38;5;241m=\u001B[39m _num_samples(array)\n",
      "File \u001B[0;32m~/miniconda3/lib/python3.9/site-packages/sklearn/utils/validation.py:146\u001B[0m, in \u001B[0;36m_assert_all_finite\u001B[0;34m(X, allow_nan, msg_dtype, estimator_name, input_name)\u001B[0m\n\u001B[1;32m    124\u001B[0m         \u001B[38;5;28;01mif\u001B[39;00m (\n\u001B[1;32m    125\u001B[0m             \u001B[38;5;129;01mnot\u001B[39;00m allow_nan\n\u001B[1;32m    126\u001B[0m             \u001B[38;5;129;01mand\u001B[39;00m estimator_name\n\u001B[0;32m   (...)\u001B[0m\n\u001B[1;32m    130\u001B[0m             \u001B[38;5;66;03m# Improve the error message on how to handle missing values in\u001B[39;00m\n\u001B[1;32m    131\u001B[0m             \u001B[38;5;66;03m# scikit-learn.\u001B[39;00m\n\u001B[1;32m    132\u001B[0m             msg_err \u001B[38;5;241m+\u001B[39m\u001B[38;5;241m=\u001B[39m (\n\u001B[1;32m    133\u001B[0m                 \u001B[38;5;124mf\u001B[39m\u001B[38;5;124m\"\u001B[39m\u001B[38;5;130;01m\\n\u001B[39;00m\u001B[38;5;132;01m{\u001B[39;00mestimator_name\u001B[38;5;132;01m}\u001B[39;00m\u001B[38;5;124m does not accept missing values\u001B[39m\u001B[38;5;124m\"\u001B[39m\n\u001B[1;32m    134\u001B[0m                 \u001B[38;5;124m\"\u001B[39m\u001B[38;5;124m encoded as NaN natively. For supervised learning, you might want\u001B[39m\u001B[38;5;124m\"\u001B[39m\n\u001B[0;32m   (...)\u001B[0m\n\u001B[1;32m    144\u001B[0m                 \u001B[38;5;124m\"\u001B[39m\u001B[38;5;124m#estimators-that-handle-nan-values\u001B[39m\u001B[38;5;124m\"\u001B[39m\n\u001B[1;32m    145\u001B[0m             )\n\u001B[0;32m--> 146\u001B[0m         \u001B[38;5;28;01mraise\u001B[39;00m \u001B[38;5;167;01mValueError\u001B[39;00m(msg_err)\n\u001B[1;32m    148\u001B[0m \u001B[38;5;66;03m# for object dtype data, we only check for NaNs (GH-13254)\u001B[39;00m\n\u001B[1;32m    149\u001B[0m \u001B[38;5;28;01melif\u001B[39;00m X\u001B[38;5;241m.\u001B[39mdtype \u001B[38;5;241m==\u001B[39m np\u001B[38;5;241m.\u001B[39mdtype(\u001B[38;5;124m\"\u001B[39m\u001B[38;5;124mobject\u001B[39m\u001B[38;5;124m\"\u001B[39m) \u001B[38;5;129;01mand\u001B[39;00m \u001B[38;5;129;01mnot\u001B[39;00m allow_nan:\n",
      "\u001B[0;31mValueError\u001B[0m: Input y contains NaN."
     ]
    }
   ],
   "source": [
    "seed = 1234\n",
    "X_train_df, X_test_df, y_train_df, y_test_df = train_test_split(X, y, test_size=0.2, random_state=seed, shuffle=True, stratify=y)"
   ],
   "metadata": {
    "collapsed": false,
    "pycharm": {
     "name": "#%%\n"
    }
   }
  },
  {
   "cell_type": "code",
   "execution_count": 75,
   "outputs": [],
   "source": [
    "train_mean = X_train_df.mean()\n",
    "train_std = X_train_df.std()\n",
    "\n",
    "X_train_df = (X_train_df - train_mean) / train_std\n",
    "X_test_df = (X_test_df - train_mean) / train_std"
   ],
   "metadata": {
    "collapsed": false,
    "pycharm": {
     "name": "#%%\n"
    }
   }
  },
  {
   "cell_type": "code",
   "execution_count": 65,
   "outputs": [
    {
     "data": {
      "text/plain": "                   7A5      A1BG     A2BP1       A2M    A4GALT      AAAS  \\\nsample                                                                     \nTCGA.AO.A12F  0.944803 -0.521089 -0.088686  2.161283 -0.504189 -0.393695   \nTCGA.E2.A14S -1.435701  0.612919  0.364320  0.235707 -0.444783  0.656335   \nTCGA.E2.A154 -0.040088  0.560822 -0.318574 -1.008668  1.169428  1.815257   \nTCGA.E2.A1B1  0.372548 -0.825536 -0.814882  1.245757  1.506113 -1.463759   \nTCGA.AO.A03P -1.865562  0.609208  1.546514 -0.718382 -0.809749  0.749435   \n...                ...       ...       ...       ...       ...       ...   \nTCGA.A8.A08C  0.196853 -0.515379 -0.688128 -1.256729 -1.338724 -0.049577   \nTCGA.AO.A128 -1.308236  0.609922  0.426989 -0.206896  0.986092 -0.885123   \nTCGA.BH.A0EB  1.236864 -0.230343 -0.160644  0.842327  0.428551 -0.199245   \nTCGA.AO.A03R -2.241069  0.165311  0.229694  0.224006 -0.537872  2.585986   \nTCGA.BH.A0E0  0.620589 -2.126826 -0.665297 -0.731405 -0.692357 -0.973509   \n\n                  AAK1     AANAT     AARS2     AASDH  ...  hCG_18290  \\\nsample                                                ...              \nTCGA.AO.A12F  0.249436 -0.019315  2.145165  0.221888  ...   1.131568   \nTCGA.E2.A14S  0.027372  0.188802  0.573184  0.751236  ...   0.007255   \nTCGA.E2.A154 -0.240907 -1.230712 -1.081060 -0.460050  ...   1.157267   \nTCGA.E2.A1B1  0.661449 -1.175738 -1.833079 -0.777659  ...  -1.130818   \nTCGA.AO.A03P -2.321338  1.213679  0.648119  0.668298  ...   0.949241   \n...                ...       ...       ...       ...  ...        ...   \nTCGA.A8.A08C -0.544825  1.052683  0.626471  0.405981  ...   1.998073   \nTCGA.AO.A128  0.727637 -0.158714 -1.060078 -0.394042  ...  -0.118208   \nTCGA.BH.A0EB  1.457276  0.477417  0.306746 -0.109652  ...   0.558282   \nTCGA.AO.A03R  2.823734  0.178985 -0.507220  0.888181  ...  -0.075105   \nTCGA.BH.A0E0  0.545521  1.353079  3.258540 -0.698793  ...   0.306748   \n\n              hCG_1990170  hCG_2001000  hCG_31916  psiTPTE22      tAKR  \\\nsample                                                                   \nTCGA.AO.A12F    -0.726615     1.868708   0.371048   1.032511 -0.796910   \nTCGA.E2.A14S    -0.218478    -0.170075   2.003324   0.367646 -0.335989   \nTCGA.E2.A154    -1.077419    -0.376896   0.077246  -0.415900 -0.253728   \nTCGA.E2.A1B1     1.198008    -1.242092  -1.315932   0.764677  0.979531   \nTCGA.AO.A03P    -0.583338     0.494524   0.965646   0.479029 -0.261562   \n...                   ...          ...        ...        ...       ...   \nTCGA.A8.A08C    -1.146433     0.937307   1.121220   0.490296  1.400627   \nTCGA.AO.A128    -0.671416    -0.432916   0.575869   0.043905  0.248324   \nTCGA.BH.A0EB    -0.190728     0.091351  -1.108172  -0.005134  0.047460   \nTCGA.AO.A03R     0.390345    -0.579190   0.282068   1.263433 -0.114668   \nTCGA.BH.A0E0     1.051292     0.674750   0.828538   1.589320 -0.169073   \n\n              tcag7.1015  tcag7.1017  tcag7.1260  tcag7.23  \nsample                                                      \nTCGA.AO.A12F    0.430843    2.462129    0.859722  0.573903  \nTCGA.E2.A14S   -1.058018    0.458436   -0.612609 -0.164528  \nTCGA.E2.A154    0.041099    1.565449   -0.764582  1.417542  \nTCGA.E2.A1B1   -0.901090   -0.643199    0.286347  1.128720  \nTCGA.AO.A03P   -0.079536    0.856961   -0.903160  3.797596  \n...                  ...         ...         ...       ...  \nTCGA.A8.A08C   -0.362048    1.842202   -0.841856 -0.110933  \nTCGA.AO.A128   -0.208419    0.794652    0.844782  0.810122  \nTCGA.BH.A0EB   -0.262034   -2.177202    0.013827 -0.292563  \nTCGA.AO.A03R   -0.297503   -0.063441   -1.090679 -0.575430  \nTCGA.BH.A0E0    0.302578   -0.206720    1.192516  2.359440  \n\n[394 rows x 6010 columns]",
      "text/html": "<div>\n<style scoped>\n    .dataframe tbody tr th:only-of-type {\n        vertical-align: middle;\n    }\n\n    .dataframe tbody tr th {\n        vertical-align: top;\n    }\n\n    .dataframe thead th {\n        text-align: right;\n    }\n</style>\n<table border=\"1\" class=\"dataframe\">\n  <thead>\n    <tr style=\"text-align: right;\">\n      <th></th>\n      <th>7A5</th>\n      <th>A1BG</th>\n      <th>A2BP1</th>\n      <th>A2M</th>\n      <th>A4GALT</th>\n      <th>AAAS</th>\n      <th>AAK1</th>\n      <th>AANAT</th>\n      <th>AARS2</th>\n      <th>AASDH</th>\n      <th>...</th>\n      <th>hCG_18290</th>\n      <th>hCG_1990170</th>\n      <th>hCG_2001000</th>\n      <th>hCG_31916</th>\n      <th>psiTPTE22</th>\n      <th>tAKR</th>\n      <th>tcag7.1015</th>\n      <th>tcag7.1017</th>\n      <th>tcag7.1260</th>\n      <th>tcag7.23</th>\n    </tr>\n    <tr>\n      <th>sample</th>\n      <th></th>\n      <th></th>\n      <th></th>\n      <th></th>\n      <th></th>\n      <th></th>\n      <th></th>\n      <th></th>\n      <th></th>\n      <th></th>\n      <th></th>\n      <th></th>\n      <th></th>\n      <th></th>\n      <th></th>\n      <th></th>\n      <th></th>\n      <th></th>\n      <th></th>\n      <th></th>\n      <th></th>\n    </tr>\n  </thead>\n  <tbody>\n    <tr>\n      <th>TCGA.AO.A12F</th>\n      <td>0.944803</td>\n      <td>-0.521089</td>\n      <td>-0.088686</td>\n      <td>2.161283</td>\n      <td>-0.504189</td>\n      <td>-0.393695</td>\n      <td>0.249436</td>\n      <td>-0.019315</td>\n      <td>2.145165</td>\n      <td>0.221888</td>\n      <td>...</td>\n      <td>1.131568</td>\n      <td>-0.726615</td>\n      <td>1.868708</td>\n      <td>0.371048</td>\n      <td>1.032511</td>\n      <td>-0.796910</td>\n      <td>0.430843</td>\n      <td>2.462129</td>\n      <td>0.859722</td>\n      <td>0.573903</td>\n    </tr>\n    <tr>\n      <th>TCGA.E2.A14S</th>\n      <td>-1.435701</td>\n      <td>0.612919</td>\n      <td>0.364320</td>\n      <td>0.235707</td>\n      <td>-0.444783</td>\n      <td>0.656335</td>\n      <td>0.027372</td>\n      <td>0.188802</td>\n      <td>0.573184</td>\n      <td>0.751236</td>\n      <td>...</td>\n      <td>0.007255</td>\n      <td>-0.218478</td>\n      <td>-0.170075</td>\n      <td>2.003324</td>\n      <td>0.367646</td>\n      <td>-0.335989</td>\n      <td>-1.058018</td>\n      <td>0.458436</td>\n      <td>-0.612609</td>\n      <td>-0.164528</td>\n    </tr>\n    <tr>\n      <th>TCGA.E2.A154</th>\n      <td>-0.040088</td>\n      <td>0.560822</td>\n      <td>-0.318574</td>\n      <td>-1.008668</td>\n      <td>1.169428</td>\n      <td>1.815257</td>\n      <td>-0.240907</td>\n      <td>-1.230712</td>\n      <td>-1.081060</td>\n      <td>-0.460050</td>\n      <td>...</td>\n      <td>1.157267</td>\n      <td>-1.077419</td>\n      <td>-0.376896</td>\n      <td>0.077246</td>\n      <td>-0.415900</td>\n      <td>-0.253728</td>\n      <td>0.041099</td>\n      <td>1.565449</td>\n      <td>-0.764582</td>\n      <td>1.417542</td>\n    </tr>\n    <tr>\n      <th>TCGA.E2.A1B1</th>\n      <td>0.372548</td>\n      <td>-0.825536</td>\n      <td>-0.814882</td>\n      <td>1.245757</td>\n      <td>1.506113</td>\n      <td>-1.463759</td>\n      <td>0.661449</td>\n      <td>-1.175738</td>\n      <td>-1.833079</td>\n      <td>-0.777659</td>\n      <td>...</td>\n      <td>-1.130818</td>\n      <td>1.198008</td>\n      <td>-1.242092</td>\n      <td>-1.315932</td>\n      <td>0.764677</td>\n      <td>0.979531</td>\n      <td>-0.901090</td>\n      <td>-0.643199</td>\n      <td>0.286347</td>\n      <td>1.128720</td>\n    </tr>\n    <tr>\n      <th>TCGA.AO.A03P</th>\n      <td>-1.865562</td>\n      <td>0.609208</td>\n      <td>1.546514</td>\n      <td>-0.718382</td>\n      <td>-0.809749</td>\n      <td>0.749435</td>\n      <td>-2.321338</td>\n      <td>1.213679</td>\n      <td>0.648119</td>\n      <td>0.668298</td>\n      <td>...</td>\n      <td>0.949241</td>\n      <td>-0.583338</td>\n      <td>0.494524</td>\n      <td>0.965646</td>\n      <td>0.479029</td>\n      <td>-0.261562</td>\n      <td>-0.079536</td>\n      <td>0.856961</td>\n      <td>-0.903160</td>\n      <td>3.797596</td>\n    </tr>\n    <tr>\n      <th>...</th>\n      <td>...</td>\n      <td>...</td>\n      <td>...</td>\n      <td>...</td>\n      <td>...</td>\n      <td>...</td>\n      <td>...</td>\n      <td>...</td>\n      <td>...</td>\n      <td>...</td>\n      <td>...</td>\n      <td>...</td>\n      <td>...</td>\n      <td>...</td>\n      <td>...</td>\n      <td>...</td>\n      <td>...</td>\n      <td>...</td>\n      <td>...</td>\n      <td>...</td>\n      <td>...</td>\n    </tr>\n    <tr>\n      <th>TCGA.A8.A08C</th>\n      <td>0.196853</td>\n      <td>-0.515379</td>\n      <td>-0.688128</td>\n      <td>-1.256729</td>\n      <td>-1.338724</td>\n      <td>-0.049577</td>\n      <td>-0.544825</td>\n      <td>1.052683</td>\n      <td>0.626471</td>\n      <td>0.405981</td>\n      <td>...</td>\n      <td>1.998073</td>\n      <td>-1.146433</td>\n      <td>0.937307</td>\n      <td>1.121220</td>\n      <td>0.490296</td>\n      <td>1.400627</td>\n      <td>-0.362048</td>\n      <td>1.842202</td>\n      <td>-0.841856</td>\n      <td>-0.110933</td>\n    </tr>\n    <tr>\n      <th>TCGA.AO.A128</th>\n      <td>-1.308236</td>\n      <td>0.609922</td>\n      <td>0.426989</td>\n      <td>-0.206896</td>\n      <td>0.986092</td>\n      <td>-0.885123</td>\n      <td>0.727637</td>\n      <td>-0.158714</td>\n      <td>-1.060078</td>\n      <td>-0.394042</td>\n      <td>...</td>\n      <td>-0.118208</td>\n      <td>-0.671416</td>\n      <td>-0.432916</td>\n      <td>0.575869</td>\n      <td>0.043905</td>\n      <td>0.248324</td>\n      <td>-0.208419</td>\n      <td>0.794652</td>\n      <td>0.844782</td>\n      <td>0.810122</td>\n    </tr>\n    <tr>\n      <th>TCGA.BH.A0EB</th>\n      <td>1.236864</td>\n      <td>-0.230343</td>\n      <td>-0.160644</td>\n      <td>0.842327</td>\n      <td>0.428551</td>\n      <td>-0.199245</td>\n      <td>1.457276</td>\n      <td>0.477417</td>\n      <td>0.306746</td>\n      <td>-0.109652</td>\n      <td>...</td>\n      <td>0.558282</td>\n      <td>-0.190728</td>\n      <td>0.091351</td>\n      <td>-1.108172</td>\n      <td>-0.005134</td>\n      <td>0.047460</td>\n      <td>-0.262034</td>\n      <td>-2.177202</td>\n      <td>0.013827</td>\n      <td>-0.292563</td>\n    </tr>\n    <tr>\n      <th>TCGA.AO.A03R</th>\n      <td>-2.241069</td>\n      <td>0.165311</td>\n      <td>0.229694</td>\n      <td>0.224006</td>\n      <td>-0.537872</td>\n      <td>2.585986</td>\n      <td>2.823734</td>\n      <td>0.178985</td>\n      <td>-0.507220</td>\n      <td>0.888181</td>\n      <td>...</td>\n      <td>-0.075105</td>\n      <td>0.390345</td>\n      <td>-0.579190</td>\n      <td>0.282068</td>\n      <td>1.263433</td>\n      <td>-0.114668</td>\n      <td>-0.297503</td>\n      <td>-0.063441</td>\n      <td>-1.090679</td>\n      <td>-0.575430</td>\n    </tr>\n    <tr>\n      <th>TCGA.BH.A0E0</th>\n      <td>0.620589</td>\n      <td>-2.126826</td>\n      <td>-0.665297</td>\n      <td>-0.731405</td>\n      <td>-0.692357</td>\n      <td>-0.973509</td>\n      <td>0.545521</td>\n      <td>1.353079</td>\n      <td>3.258540</td>\n      <td>-0.698793</td>\n      <td>...</td>\n      <td>0.306748</td>\n      <td>1.051292</td>\n      <td>0.674750</td>\n      <td>0.828538</td>\n      <td>1.589320</td>\n      <td>-0.169073</td>\n      <td>0.302578</td>\n      <td>-0.206720</td>\n      <td>1.192516</td>\n      <td>2.359440</td>\n    </tr>\n  </tbody>\n</table>\n<p>394 rows × 6010 columns</p>\n</div>"
     },
     "execution_count": 65,
     "metadata": {},
     "output_type": "execute_result"
    }
   ],
   "source": [
    "X_train_df"
   ],
   "metadata": {
    "collapsed": false,
    "pycharm": {
     "name": "#%%\n"
    }
   }
  },
  {
   "cell_type": "code",
   "execution_count": 66,
   "outputs": [],
   "source": [
    "cosmic_genes_df = pd.read_csv(f\"{data_dir}/cosmic_genes.csv\")"
   ],
   "metadata": {
    "collapsed": false,
    "pycharm": {
     "name": "#%%\n"
    }
   }
  },
  {
   "cell_type": "code",
   "execution_count": 67,
   "outputs": [],
   "source": [
    "cosmic_genes_symbols = set(cosmic_genes_df[\"Gene Symbol\"].to_list())\n",
    "cosmic_genes_entrez = cosmic_genes_df[\"Entrez GeneId\"].to_list()"
   ],
   "metadata": {
    "collapsed": false,
    "pycharm": {
     "name": "#%%\n"
    }
   }
  },
  {
   "cell_type": "code",
   "execution_count": 68,
   "outputs": [
    {
     "data": {
      "text/plain": "219"
     },
     "execution_count": 68,
     "metadata": {},
     "output_type": "execute_result"
    }
   ],
   "source": [
    "tcga_cols = set(X_train_df.columns.to_list())\n",
    "\n",
    "tcga_cosmic_cols = list(set(tcga_cols & cosmic_genes_symbols))\n",
    "len(tcga_cosmic_cols)"
   ],
   "metadata": {
    "collapsed": false,
    "pycharm": {
     "name": "#%%\n"
    }
   }
  },
  {
   "cell_type": "code",
   "execution_count": 69,
   "outputs": [],
   "source": [
    "X_train_df, X_test_df = X_train_df[tcga_cosmic_cols], X_test_df[tcga_cosmic_cols]"
   ],
   "metadata": {
    "collapsed": false,
    "pycharm": {
     "name": "#%%\n"
    }
   }
  },
  {
   "cell_type": "code",
   "execution_count": 76,
   "outputs": [
    {
     "name": "stdout",
     "output_type": "stream",
     "text": [
      "Fitting 5 folds for each of 10 candidates, totalling 50 fits\n",
      "[CV 1/5] END ............................C=0.01;, score=0.650 total time=   0.6s\n",
      "[CV 2/5] END ............................C=0.01;, score=0.586 total time=   0.4s\n",
      "[CV 3/5] END ............................C=0.01;, score=0.582 total time=   0.7s\n",
      "[CV 4/5] END ............................C=0.01;, score=0.477 total time=   0.4s\n",
      "[CV 5/5] END ............................C=0.01;, score=0.549 total time=   0.3s\n",
      "[CV 1/5] END ............C=0.021544346900318832;, score=0.648 total time=   0.2s\n",
      "[CV 2/5] END ............C=0.021544346900318832;, score=0.592 total time=   0.6s\n",
      "[CV 3/5] END ............C=0.021544346900318832;, score=0.582 total time=   0.4s\n",
      "[CV 4/5] END ............C=0.021544346900318832;, score=0.487 total time=   0.2s\n",
      "[CV 5/5] END ............C=0.021544346900318832;, score=0.559 total time=   0.6s\n",
      "[CV 1/5] END ............C=0.046415888336127774;, score=0.653 total time=   0.4s\n",
      "[CV 2/5] END ............C=0.046415888336127774;, score=0.592 total time=   0.3s\n",
      "[CV 3/5] END ............C=0.046415888336127774;, score=0.579 total time=   0.7s\n",
      "[CV 4/5] END ............C=0.046415888336127774;, score=0.488 total time=   0.4s\n",
      "[CV 5/5] END ............C=0.046415888336127774;, score=0.562 total time=   0.3s\n",
      "[CV 1/5] END .............................C=0.1;, score=0.646 total time=   0.8s\n",
      "[CV 2/5] END .............................C=0.1;, score=0.591 total time=   0.2s\n",
      "[CV 3/5] END .............................C=0.1;, score=0.578 total time=   0.2s\n",
      "[CV 4/5] END .............................C=0.1;, score=0.484 total time=   0.2s\n",
      "[CV 5/5] END .............................C=0.1;, score=0.563 total time=   0.3s\n",
      "[CV 1/5] END .............C=0.21544346900318834;, score=0.648 total time=   0.2s\n",
      "[CV 2/5] END .............C=0.21544346900318834;, score=0.592 total time=   0.2s\n",
      "[CV 3/5] END .............C=0.21544346900318834;, score=0.579 total time=   0.2s\n",
      "[CV 4/5] END .............C=0.21544346900318834;, score=0.482 total time=   0.2s\n",
      "[CV 5/5] END .............C=0.21544346900318834;, score=0.564 total time=   0.2s\n",
      "[CV 1/5] END .............C=0.46415888336127775;, score=0.645 total time=   0.2s\n",
      "[CV 2/5] END .............C=0.46415888336127775;, score=0.590 total time=   0.4s\n",
      "[CV 3/5] END .............C=0.46415888336127775;, score=0.580 total time=   0.2s\n",
      "[CV 4/5] END .............C=0.46415888336127775;, score=0.481 total time=   0.2s\n",
      "[CV 5/5] END .............C=0.46415888336127775;, score=0.563 total time=   0.2s\n",
      "[CV 1/5] END .............................C=1.0;, score=0.645 total time=   0.6s\n",
      "[CV 2/5] END .............................C=1.0;, score=0.590 total time=   0.4s\n",
      "[CV 3/5] END .............................C=1.0;, score=0.577 total time=   0.2s\n",
      "[CV 4/5] END .............................C=1.0;, score=0.484 total time=   0.2s\n",
      "[CV 5/5] END .............................C=1.0;, score=0.566 total time=   0.2s\n",
      "[CV 1/5] END ...............C=2.154434690031882;, score=0.649 total time=   0.2s\n",
      "[CV 2/5] END ...............C=2.154434690031882;, score=0.590 total time=   0.2s\n",
      "[CV 3/5] END ...............C=2.154434690031882;, score=0.577 total time=   0.2s\n",
      "[CV 4/5] END ...............C=2.154434690031882;, score=0.485 total time=   0.2s\n",
      "[CV 5/5] END ...............C=2.154434690031882;, score=0.568 total time=   0.2s\n",
      "[CV 1/5] END ..............C=4.6415888336127775;, score=0.652 total time=   0.2s\n",
      "[CV 2/5] END ..............C=4.6415888336127775;, score=0.589 total time=   0.2s\n",
      "[CV 3/5] END ..............C=4.6415888336127775;, score=0.576 total time=   0.3s\n",
      "[CV 4/5] END ..............C=4.6415888336127775;, score=0.486 total time=   0.2s\n",
      "[CV 5/5] END ..............C=4.6415888336127775;, score=0.568 total time=   0.2s\n",
      "[CV 1/5] END ............................C=10.0;, score=0.652 total time=   0.2s\n",
      "[CV 2/5] END ............................C=10.0;, score=0.587 total time=   0.2s\n",
      "[CV 3/5] END ............................C=10.0;, score=0.571 total time=   0.3s\n",
      "[CV 4/5] END ............................C=10.0;, score=0.486 total time=   0.3s\n",
      "[CV 5/5] END ............................C=10.0;, score=0.572 total time=   0.3s\n"
     ]
    },
    {
     "data": {
      "text/plain": "{'C': 0.046415888336127774}"
     },
     "execution_count": 76,
     "metadata": {},
     "output_type": "execute_result"
    }
   ],
   "source": [
    "from sklearn.model_selection import GridSearchCV, StratifiedKFold, KFold\n",
    "from sklearn.model_selection import cross_val_score\n",
    "\n",
    "cv = StratifiedKFold(n_splits=5, shuffle=True, random_state=seed)\n",
    "from sklearn.linear_model import LogisticRegression\n",
    "\n",
    "log_param_grid = {\"C\": np.logspace(-2, 1, 10)}\n",
    "log_grid_cv = GridSearchCV(estimator=LogisticRegression(max_iter=10000), param_grid=log_param_grid, verbose=3,\n",
    "                           scoring=\"roc_auc\", cv=cv).fit(X_train_df, y_train_df)\n",
    "log_grid_cv.best_params_"
   ],
   "metadata": {
    "collapsed": false,
    "pycharm": {
     "name": "#%%\n"
    }
   }
  },
  {
   "cell_type": "code",
   "execution_count": 77,
   "outputs": [
    {
     "name": "stdout",
     "output_type": "stream",
     "text": [
      "cv score: 0.574810317887241, test_score: 0.5652797704447632\n"
     ]
    }
   ],
   "source": [
    "clf = LogisticRegression(max_iter=10000, C=log_grid_cv.best_params_[\"C\"])\n",
    "cv_score = np.mean(cross_val_score(clf, X_train_df, y_train_df, scoring=\"roc_auc\", cv=cv))\n",
    "clf.fit(X_train_df, y_train_df)\n",
    "test_score = roc_auc_score(y_test_df, clf.predict_proba(X_test_df)[:,1])\n",
    "print(f\"cv score: {cv_score}, test_score: {test_score}\")"
   ],
   "metadata": {
    "collapsed": false,
    "pycharm": {
     "name": "#%%\n"
    }
   }
  },
  {
   "cell_type": "code",
   "execution_count": 52,
   "outputs": [
    {
     "data": {
      "text/plain": "sample\nTCGA.AO.A12F   -1.085519\nTCGA.E2.A14S   -1.329566\nTCGA.E2.A154   -0.159914\nTCGA.E2.A1B1    1.461793\nTCGA.AO.A03P   -1.315656\n                  ...   \nTCGA.A8.A08C   -0.727669\nTCGA.AO.A128   -0.142211\nTCGA.BH.A0EB    0.153047\nTCGA.AO.A03R   -0.778249\nTCGA.BH.A0E0   -0.039788\nName: CDH17, Length: 394, dtype: float64"
     },
     "execution_count": 52,
     "metadata": {},
     "output_type": "execute_result"
    }
   ],
   "source": [
    "X_train_df[\"CDH17\"]"
   ],
   "metadata": {
    "collapsed": false,
    "pycharm": {
     "name": "#%%\n"
    }
   }
  },
  {
   "cell_type": "code",
   "execution_count": null,
   "outputs": [],
   "source": [],
   "metadata": {
    "collapsed": false,
    "pycharm": {
     "name": "#%%\n"
    }
   }
  }
 ],
 "metadata": {
  "kernelspec": {
   "display_name": "Python 3",
   "language": "python",
   "name": "python3"
  },
  "language_info": {
   "codemirror_mode": {
    "name": "ipython",
    "version": 2
   },
   "file_extension": ".py",
   "mimetype": "text/x-python",
   "name": "python",
   "nbconvert_exporter": "python",
   "pygments_lexer": "ipython2",
   "version": "2.7.6"
  }
 },
 "nbformat": 4,
 "nbformat_minor": 0
}