{
 "cells": [
  {
   "cell_type": "code",
   "execution_count": 1,
   "metadata": {
    "collapsed": true,
    "pycharm": {
     "name": "#%%\n"
    }
   },
   "outputs": [
    {
     "name": "stdout",
     "output_type": "stream",
     "text": [
      "Looking in links: https://storage.googleapis.com/jax-releases/jax_cuda_releases.html\r\n",
      "Requirement already satisfied: jax[cuda112] in /usr/local/lib/python3.9/dist-packages (0.3.14)\r\n",
      "Collecting jax[cuda112]\r\n",
      "  Downloading jax-0.3.21.tar.gz (1.1 MB)\r\n",
      "\u001B[2K     \u001B[90m━━━━━━━━━━━━━━━━━━━━━━━━━━━━━━━━━━━━━━━━\u001B[0m \u001B[32m1.1/1.1 MB\u001B[0m \u001B[31m55.2 MB/s\u001B[0m eta \u001B[36m0:00:00\u001B[0m\r\n",
      "\u001B[?25h  Preparing metadata (setup.py) ... \u001B[?25ldone\r\n",
      "\u001B[33mWARNING: jax 0.3.21 does not provide the extra 'cuda112'\u001B[0m\u001B[33m\r\n",
      "\u001B[0m\u001B[?25hRequirement already satisfied: absl-py in /usr/local/lib/python3.9/dist-packages (from jax[cuda112]) (1.1.0)\r\n",
      "Requirement already satisfied: numpy>=1.20 in /usr/local/lib/python3.9/dist-packages (from jax[cuda112]) (1.23.1)\r\n",
      "Requirement already satisfied: opt_einsum in /usr/local/lib/python3.9/dist-packages (from jax[cuda112]) (3.3.0)\r\n",
      "Requirement already satisfied: scipy>=1.5 in /usr/local/lib/python3.9/dist-packages (from jax[cuda112]) (1.8.1)\r\n",
      "Requirement already satisfied: typing_extensions in /usr/local/lib/python3.9/dist-packages (from jax[cuda112]) (4.3.0)\r\n",
      "Requirement already satisfied: etils[epath] in /usr/local/lib/python3.9/dist-packages (from jax[cuda112]) (0.6.0)\r\n",
      "Requirement already satisfied: importlib_resources in /usr/local/lib/python3.9/dist-packages (from etils[epath]->jax[cuda112]) (5.8.0)\r\n",
      "Requirement already satisfied: zipp in /usr/local/lib/python3.9/dist-packages (from etils[epath]->jax[cuda112]) (3.8.1)\r\n",
      "Building wheels for collected packages: jax\r\n",
      "  Building wheel for jax (setup.py) ... \u001B[?25ldone\r\n",
      "\u001B[?25h  Created wheel for jax: filename=jax-0.3.21-py3-none-any.whl size=1263550 sha256=4a7a88ed3b11f3c64f62049489fa60c53dd6d9cf335d1125dacbeb516932a6cb\r\n",
      "  Stored in directory: /root/.cache/pip/wheels/cd/fe/13/b51a21b340580b56f5378c5e68d14d19e74e956d575397c41f\r\n",
      "Successfully built jax\r\n",
      "Installing collected packages: jax\r\n",
      "  Attempting uninstall: jax\r\n",
      "    Found existing installation: jax 0.3.14\r\n",
      "    Uninstalling jax-0.3.14:\r\n",
      "      Successfully uninstalled jax-0.3.14\r\n",
      "Successfully installed jax-0.3.21\r\n",
      "\u001B[33mWARNING: Running pip as the 'root' user can result in broken permissions and conflicting behaviour with the system package manager. It is recommended to use a virtual environment instead: https://pip.pypa.io/warnings/venv\u001B[0m\u001B[33m\r\n",
      "\u001B[0mLooking in links: https://storage.googleapis.com/jax-releases/jax_cuda_releases.html\r\n",
      "Requirement already satisfied: jaxlib[cuda112] in /usr/local/lib/python3.9/dist-packages (0.3.8+cuda11.cudnn82)\r\n",
      "Collecting jaxlib[cuda112]\r\n",
      "  Downloading https://storage.googleapis.com/jax-releases/cuda11/jaxlib-0.3.20%2Bcuda11.cudnn82-cp39-cp39-manylinux2014_x86_64.whl (162.2 MB)\r\n",
      "\u001B[2K     \u001B[90m━━━━━━━━━━━━━━━━━━━━━━━━━━━━━━━━━━━━━━\u001B[0m \u001B[32m162.2/162.2 MB\u001B[0m \u001B[31m10.6 MB/s\u001B[0m eta \u001B[36m0:00:00\u001B[0m00:01\u001B[0m00:01\u001B[0m\r\n",
      "\u001B[?25h\u001B[33mWARNING: jaxlib 0.3.20+cuda11.cudnn82 does not provide the extra 'cuda112'\u001B[0m\u001B[33m\r\n",
      "\u001B[0mRequirement already satisfied: numpy>=1.20 in /usr/local/lib/python3.9/dist-packages (from jaxlib[cuda112]) (1.23.1)\r\n",
      "Requirement already satisfied: absl-py in /usr/local/lib/python3.9/dist-packages (from jaxlib[cuda112]) (1.1.0)\r\n",
      "Requirement already satisfied: scipy>=1.5 in /usr/local/lib/python3.9/dist-packages (from jaxlib[cuda112]) (1.8.1)\r\n",
      "Installing collected packages: jaxlib\r\n",
      "  Attempting uninstall: jaxlib\r\n",
      "    Found existing installation: jaxlib 0.3.8+cuda11.cudnn82\r\n",
      "    Uninstalling jaxlib-0.3.8+cuda11.cudnn82:\r\n",
      "      Successfully uninstalled jaxlib-0.3.8+cuda11.cudnn82\r\n",
      "Successfully installed jaxlib-0.3.20+cuda11.cudnn82\r\n",
      "\u001B[33mWARNING: Running pip as the 'root' user can result in broken permissions and conflicting behaviour with the system package manager. It is recommended to use a virtual environment instead: https://pip.pypa.io/warnings/venv\u001B[0m\u001B[33m\r\n",
      "\u001B[0mCollecting optax\r\n",
      "  Downloading optax-0.1.3-py3-none-any.whl (145 kB)\r\n",
      "\u001B[2K     \u001B[90m━━━━━━━━━━━━━━━━━━━━━━━━━━━━━━━━━━━━━━\u001B[0m \u001B[32m145.1/145.1 kB\u001B[0m \u001B[31m20.6 MB/s\u001B[0m eta \u001B[36m0:00:00\u001B[0m\r\n",
      "\u001B[?25hRequirement already satisfied: typing-extensions>=3.10.0 in /usr/local/lib/python3.9/dist-packages (from optax) (4.3.0)\r\n",
      "Requirement already satisfied: absl-py>=0.7.1 in /usr/local/lib/python3.9/dist-packages (from optax) (1.1.0)\r\n",
      "Requirement already satisfied: jaxlib>=0.1.37 in /usr/local/lib/python3.9/dist-packages (from optax) (0.3.20+cuda11.cudnn82)\r\n",
      "Collecting chex>=0.0.4\r\n",
      "  Downloading chex-0.1.5-py3-none-any.whl (85 kB)\r\n",
      "\u001B[2K     \u001B[90m━━━━━━━━━━━━━━━━━━━━━━━━━━━━━━━━━━━━━━━━\u001B[0m \u001B[32m85.3/85.3 kB\u001B[0m \u001B[31m21.6 MB/s\u001B[0m eta \u001B[36m0:00:00\u001B[0m\r\n",
      "\u001B[?25hRequirement already satisfied: numpy>=1.18.0 in /usr/local/lib/python3.9/dist-packages (from optax) (1.23.1)\r\n",
      "Requirement already satisfied: jax>=0.1.55 in /usr/local/lib/python3.9/dist-packages (from optax) (0.3.21)\r\n",
      "Collecting dm-tree>=0.1.5\r\n",
      "  Downloading dm_tree-0.1.7-cp39-cp39-manylinux_2_12_x86_64.manylinux2010_x86_64.whl (142 kB)\r\n",
      "\u001B[2K     \u001B[90m━━━━━━━━━━━━━━━━━━━━━━━━━━━━━━━━━━━━━━\u001B[0m \u001B[32m142.7/142.7 kB\u001B[0m \u001B[31m35.9 MB/s\u001B[0m eta \u001B[36m0:00:00\u001B[0m\r\n",
      "\u001B[?25hCollecting toolz>=0.9.0\r\n",
      "  Downloading toolz-0.12.0-py3-none-any.whl (55 kB)\r\n",
      "\u001B[2K     \u001B[90m━━━━━━━━━━━━━━━━━━━━━━━━━━━━━━━━━━━━━━━━\u001B[0m \u001B[32m55.8/55.8 kB\u001B[0m \u001B[31m14.2 MB/s\u001B[0m eta \u001B[36m0:00:00\u001B[0m\r\n",
      "\u001B[?25hRequirement already satisfied: scipy>=1.5 in /usr/local/lib/python3.9/dist-packages (from jax>=0.1.55->optax) (1.8.1)\r\n",
      "Requirement already satisfied: opt-einsum in /usr/local/lib/python3.9/dist-packages (from jax>=0.1.55->optax) (3.3.0)\r\n",
      "Requirement already satisfied: etils[epath] in /usr/local/lib/python3.9/dist-packages (from jax>=0.1.55->optax) (0.6.0)\r\n",
      "Requirement already satisfied: importlib_resources in /usr/local/lib/python3.9/dist-packages (from etils[epath]->jax>=0.1.55->optax) (5.8.0)\r\n",
      "Requirement already satisfied: zipp in /usr/local/lib/python3.9/dist-packages (from etils[epath]->jax>=0.1.55->optax) (3.8.1)\r\n",
      "Installing collected packages: dm-tree, toolz, chex, optax\r\n",
      "Successfully installed chex-0.1.5 dm-tree-0.1.7 optax-0.1.3 toolz-0.12.0\r\n",
      "\u001B[33mWARNING: Running pip as the 'root' user can result in broken permissions and conflicting behaviour with the system package manager. It is recommended to use a virtual environment instead: https://pip.pypa.io/warnings/venv\u001B[0m\u001B[33m\r\n",
      "\u001B[0mCollecting dm-haiku\r\n",
      "  Downloading dm_haiku-0.0.8-py3-none-any.whl (350 kB)\r\n",
      "\u001B[2K     \u001B[90m━━━━━━━━━━━━━━━━━━━━━━━━━━━━━━━━━━━━━━\u001B[0m \u001B[32m350.2/350.2 kB\u001B[0m \u001B[31m28.0 MB/s\u001B[0m eta \u001B[36m0:00:00\u001B[0m\r\n",
      "\u001B[?25hRequirement already satisfied: numpy>=1.18.0 in /usr/local/lib/python3.9/dist-packages (from dm-haiku) (1.23.1)\r\n",
      "Collecting tabulate>=0.8.9\r\n",
      "  Downloading tabulate-0.9.0-py3-none-any.whl (35 kB)\r\n",
      "Collecting jmp>=0.0.2\r\n",
      "  Downloading jmp-0.0.2-py3-none-any.whl (16 kB)\r\n",
      "Requirement already satisfied: absl-py>=0.7.1 in /usr/local/lib/python3.9/dist-packages (from dm-haiku) (1.1.0)\r\n",
      "Installing collected packages: tabulate, jmp, dm-haiku\r\n",
      "Successfully installed dm-haiku-0.0.8 jmp-0.0.2 tabulate-0.9.0\r\n",
      "\u001B[33mWARNING: Running pip as the 'root' user can result in broken permissions and conflicting behaviour with the system package manager. It is recommended to use a virtual environment instead: https://pip.pypa.io/warnings/venv\u001B[0m\u001B[33m\r\n",
      "\u001B[0mCollecting tensorflow-probability\r\n",
      "  Downloading tensorflow_probability-0.18.0-py2.py3-none-any.whl (6.6 MB)\r\n",
      "\u001B[2K     \u001B[90m━━━━━━━━━━━━━━━━━━━━━━━━━━━━━━━━━━━━━━━━\u001B[0m \u001B[32m6.6/6.6 MB\u001B[0m \u001B[31m66.2 MB/s\u001B[0m eta \u001B[36m0:00:00\u001B[0m:00:01\u001B[0m0:01\u001B[0m\r\n",
      "\u001B[?25hRequirement already satisfied: absl-py in /usr/local/lib/python3.9/dist-packages (from tensorflow-probability) (1.1.0)\r\n",
      "Requirement already satisfied: six>=1.10.0 in /usr/lib/python3/dist-packages (from tensorflow-probability) (1.14.0)\r\n",
      "Requirement already satisfied: decorator in /usr/local/lib/python3.9/dist-packages (from tensorflow-probability) (5.1.1)\r\n",
      "Requirement already satisfied: numpy>=1.13.3 in /usr/local/lib/python3.9/dist-packages (from tensorflow-probability) (1.23.1)\r\n",
      "Requirement already satisfied: cloudpickle>=1.3 in /usr/local/lib/python3.9/dist-packages (from tensorflow-probability) (2.1.0)\r\n",
      "Requirement already satisfied: dm-tree in /usr/local/lib/python3.9/dist-packages (from tensorflow-probability) (0.1.7)\r\n",
      "Requirement already satisfied: gast>=0.3.2 in /usr/local/lib/python3.9/dist-packages (from tensorflow-probability) (0.4.0)\r\n",
      "Installing collected packages: tensorflow-probability\r\n",
      "Successfully installed tensorflow-probability-0.18.0\r\n",
      "\u001B[33mWARNING: Running pip as the 'root' user can result in broken permissions and conflicting behaviour with the system package manager. It is recommended to use a virtual environment instead: https://pip.pypa.io/warnings/venv\u001B[0m\u001B[33m\r\n",
      "\u001B[0mCollecting tensorflow-datasets\r\n",
      "  Downloading tensorflow_datasets-4.7.0-py3-none-any.whl (4.7 MB)\r\n",
      "\u001B[2K     \u001B[90m━━━━━━━━━━━━━━━━━━━━━━━━━━━━━━━━━━━━━━━━\u001B[0m \u001B[32m4.7/4.7 MB\u001B[0m \u001B[31m65.6 MB/s\u001B[0m eta \u001B[36m0:00:00\u001B[0m:00:01\u001B[0m0:01\u001B[0m\r\n",
      "\u001B[?25hRequirement already satisfied: absl-py in /usr/local/lib/python3.9/dist-packages (from tensorflow-datasets) (1.1.0)\r\n",
      "Requirement already satisfied: numpy in /usr/local/lib/python3.9/dist-packages (from tensorflow-datasets) (1.23.1)\r\n",
      "Collecting tensorflow-metadata\r\n",
      "  Downloading tensorflow_metadata-1.10.0-py3-none-any.whl (50 kB)\r\n",
      "\u001B[2K     \u001B[90m━━━━━━━━━━━━━━━━━━━━━━━━━━━━━━━━━━━━━━━━\u001B[0m \u001B[32m50.8/50.8 kB\u001B[0m \u001B[31m7.5 MB/s\u001B[0m eta \u001B[36m0:00:00\u001B[0m\r\n",
      "\u001B[?25hRequirement already satisfied: requests>=2.19.0 in /usr/local/lib/python3.9/dist-packages (from tensorflow-datasets) (2.28.1)\r\n",
      "Requirement already satisfied: termcolor in /usr/local/lib/python3.9/dist-packages (from tensorflow-datasets) (1.1.0)\r\n",
      "Collecting promise\r\n",
      "  Downloading promise-2.3.tar.gz (19 kB)\r\n",
      "  Preparing metadata (setup.py) ... \u001B[?25ldone\r\n",
      "\u001B[?25hRequirement already satisfied: tqdm in /usr/local/lib/python3.9/dist-packages (from tensorflow-datasets) (4.64.0)\r\n",
      "Requirement already satisfied: etils[epath] in /usr/local/lib/python3.9/dist-packages (from tensorflow-datasets) (0.6.0)\r\n",
      "Requirement already satisfied: dill in /usr/local/lib/python3.9/dist-packages (from tensorflow-datasets) (0.3.5.1)\r\n",
      "Requirement already satisfied: six in /usr/lib/python3/dist-packages (from tensorflow-datasets) (1.14.0)\r\n",
      "Requirement already satisfied: protobuf>=3.12.2 in /usr/local/lib/python3.9/dist-packages (from tensorflow-datasets) (3.19.4)\r\n",
      "Collecting toml\r\n",
      "  Downloading toml-0.10.2-py2.py3-none-any.whl (16 kB)\r\n",
      "Requirement already satisfied: certifi>=2017.4.17 in /usr/lib/python3/dist-packages (from requests>=2.19.0->tensorflow-datasets) (2019.11.28)\r\n",
      "Requirement already satisfied: idna<4,>=2.5 in /usr/lib/python3/dist-packages (from requests>=2.19.0->tensorflow-datasets) (2.8)\r\n",
      "Requirement already satisfied: urllib3<1.27,>=1.21.1 in /usr/local/lib/python3.9/dist-packages (from requests>=2.19.0->tensorflow-datasets) (1.26.10)\r\n",
      "Requirement already satisfied: charset-normalizer<3,>=2 in /usr/local/lib/python3.9/dist-packages (from requests>=2.19.0->tensorflow-datasets) (2.1.0)\r\n",
      "Requirement already satisfied: importlib_resources in /usr/local/lib/python3.9/dist-packages (from etils[epath]->tensorflow-datasets) (5.8.0)\r\n",
      "Requirement already satisfied: zipp in /usr/local/lib/python3.9/dist-packages (from etils[epath]->tensorflow-datasets) (3.8.1)\r\n",
      "Collecting googleapis-common-protos<2,>=1.52.0\r\n",
      "  Downloading googleapis_common_protos-1.56.4-py2.py3-none-any.whl (211 kB)\r\n",
      "\u001B[2K     \u001B[90m━━━━━━━━━━━━━━━━━━━━━━━━━━━━━━━━━━━━━━\u001B[0m \u001B[32m211.7/211.7 kB\u001B[0m \u001B[31m40.9 MB/s\u001B[0m eta \u001B[36m0:00:00\u001B[0m\r\n",
      "\u001B[?25hRequirement already satisfied: typing_extensions in /usr/local/lib/python3.9/dist-packages (from etils[epath]->tensorflow-datasets) (4.3.0)\r\n",
      "Building wheels for collected packages: promise\r\n",
      "  Building wheel for promise (setup.py) ... \u001B[?25ldone\r\n",
      "\u001B[?25h  Created wheel for promise: filename=promise-2.3-py3-none-any.whl size=21486 sha256=b19706d47ba11f25b98098ec324f8870fdad56d7102597a426c9f1753d58bb5f\r\n",
      "  Stored in directory: /root/.cache/pip/wheels/e1/e8/83/ddea66100678d139b14bc87692ece57c6a2a937956d2532608\r\n",
      "Successfully built promise\r\n",
      "Installing collected packages: toml, promise, googleapis-common-protos, tensorflow-metadata, tensorflow-datasets\r\n",
      "Successfully installed googleapis-common-protos-1.56.4 promise-2.3 tensorflow-datasets-4.7.0 tensorflow-metadata-1.10.0 toml-0.10.2\r\n",
      "\u001B[33mWARNING: Running pip as the 'root' user can result in broken permissions and conflicting behaviour with the system package manager. It is recommended to use a virtual environment instead: https://pip.pypa.io/warnings/venv\u001B[0m\u001B[33m\r\n",
      "\u001B[0mCollecting imbalanced-learn\r\n",
      "  Downloading imbalanced_learn-0.9.1-py3-none-any.whl (199 kB)\r\n",
      "\u001B[2K     \u001B[90m━━━━━━━━━━━━━━━━━━━━━━━━━━━━━━━━━━━━━━\u001B[0m \u001B[32m199.3/199.3 kB\u001B[0m \u001B[31m21.8 MB/s\u001B[0m eta \u001B[36m0:00:00\u001B[0m\r\n",
      "\u001B[?25hRequirement already satisfied: scikit-learn>=1.1.0 in /usr/local/lib/python3.9/dist-packages (from imbalanced-learn) (1.1.1)\r\n",
      "Requirement already satisfied: numpy>=1.17.3 in /usr/local/lib/python3.9/dist-packages (from imbalanced-learn) (1.23.1)\r\n",
      "Requirement already satisfied: scipy>=1.3.2 in /usr/local/lib/python3.9/dist-packages (from imbalanced-learn) (1.8.1)\r\n",
      "Requirement already satisfied: joblib>=1.0.0 in /usr/local/lib/python3.9/dist-packages (from imbalanced-learn) (1.1.0)\r\n",
      "Requirement already satisfied: threadpoolctl>=2.0.0 in /usr/local/lib/python3.9/dist-packages (from imbalanced-learn) (3.1.0)\r\n",
      "Installing collected packages: imbalanced-learn\r\n",
      "Successfully installed imbalanced-learn-0.9.1\r\n",
      "\u001B[33mWARNING: Running pip as the 'root' user can result in broken permissions and conflicting behaviour with the system package manager. It is recommended to use a virtual environment instead: https://pip.pypa.io/warnings/venv\u001B[0m\u001B[33m\r\n",
      "\u001B[0mCollecting git+https://github.com/Habush/Sklearn-genetic-opt.git\r\n",
      "  Cloning https://github.com/Habush/Sklearn-genetic-opt.git to /tmp/pip-req-build-uyo_xg8q\r\n",
      "  Running command git clone --filter=blob:none --quiet https://github.com/Habush/Sklearn-genetic-opt.git /tmp/pip-req-build-uyo_xg8q\r\n",
      "  Resolved https://github.com/Habush/Sklearn-genetic-opt.git to commit 6b310576d920d534bc9aa5f4d43e71450c0c1b28\r\n",
      "  Preparing metadata (setup.py) ... \u001B[?25ldone\r\n",
      "\u001B[?25hRequirement already satisfied: scikit-learn>=0.21.3 in /usr/local/lib/python3.9/dist-packages (from sklearn-genetic-opt==0.9.0) (1.1.1)\r\n",
      "Requirement already satisfied: numpy>=1.14.5 in /usr/local/lib/python3.9/dist-packages (from sklearn-genetic-opt==0.9.0) (1.23.1)\r\n",
      "Collecting deap>=1.3.1\r\n",
      "  Downloading deap-1.3.3-cp39-cp39-manylinux_2_5_x86_64.manylinux1_x86_64.manylinux_2_17_x86_64.manylinux2014_x86_64.whl (139 kB)\r\n",
      "\u001B[2K     \u001B[90m━━━━━━━━━━━━━━━━━━━━━━━━━━━━━━━━━━━━━━\u001B[0m \u001B[32m139.8/139.8 kB\u001B[0m \u001B[31m23.1 MB/s\u001B[0m eta \u001B[36m0:00:00\u001B[0m\r\n",
      "\u001B[?25hRequirement already satisfied: tqdm>=4.61.1 in /usr/local/lib/python3.9/dist-packages (from sklearn-genetic-opt==0.9.0) (4.64.0)\r\n",
      "Requirement already satisfied: scipy>=1.3.2 in /usr/local/lib/python3.9/dist-packages (from scikit-learn>=0.21.3->sklearn-genetic-opt==0.9.0) (1.8.1)\r\n",
      "Requirement already satisfied: threadpoolctl>=2.0.0 in /usr/local/lib/python3.9/dist-packages (from scikit-learn>=0.21.3->sklearn-genetic-opt==0.9.0) (3.1.0)\r\n",
      "Requirement already satisfied: joblib>=1.0.0 in /usr/local/lib/python3.9/dist-packages (from scikit-learn>=0.21.3->sklearn-genetic-opt==0.9.0) (1.1.0)\r\n",
      "Building wheels for collected packages: sklearn-genetic-opt\r\n",
      "  Building wheel for sklearn-genetic-opt (setup.py) ... \u001B[?25ldone\r\n",
      "\u001B[?25h  Created wheel for sklearn-genetic-opt: filename=sklearn_genetic_opt-0.9.0-py3-none-any.whl size=31820 sha256=0892583d56b03432f8e582f16ce4936ff73629e796667ae09a2484b485f72ed9\r\n",
      "  Stored in directory: /tmp/pip-ephem-wheel-cache-62ckw7ov/wheels/e1/0c/85/52a428c631ebe2eba1830f5f48586524c76ed095e5fad55e63\r\n",
      "Successfully built sklearn-genetic-opt\r\n",
      "Installing collected packages: deap, sklearn-genetic-opt\r\n",
      "Successfully installed deap-1.3.3 sklearn-genetic-opt-0.9.0\r\n",
      "\u001B[33mWARNING: Running pip as the 'root' user can result in broken permissions and conflicting behaviour with the system package manager. It is recommended to use a virtual environment instead: https://pip.pypa.io/warnings/venv\u001B[0m\u001B[33m\r\n",
      "\u001B[0mCollecting git+https://github.com/blackjax-devs/blackjax.git\r\n",
      "  Cloning https://github.com/blackjax-devs/blackjax.git to /tmp/pip-req-build-aa2m48ot\r\n",
      "  Running command git clone --filter=blob:none --quiet https://github.com/blackjax-devs/blackjax.git /tmp/pip-req-build-aa2m48ot\r\n",
      "  Resolved https://github.com/blackjax-devs/blackjax.git to commit f5e10201646e946e7c9f2ef3f4c59265999720a7\r\n",
      "  Preparing metadata (setup.py) ... \u001B[?25ldone\r\n",
      "\u001B[?25hCollecting fastprogress>=0.2.0\r\n",
      "  Downloading fastprogress-1.0.3-py3-none-any.whl (12 kB)\r\n",
      "Requirement already satisfied: jax>=0.3.13 in /usr/local/lib/python3.9/dist-packages (from blackjax==0.9.6+35.gf5e1020) (0.3.21)\r\n",
      "Requirement already satisfied: jaxlib>=0.3.10 in /usr/local/lib/python3.9/dist-packages (from blackjax==0.9.6+35.gf5e1020) (0.3.20+cuda11.cudnn82)\r\n",
      "Collecting jaxopt>=0.4.2\r\n",
      "  Downloading jaxopt-0.5-py3-none-any.whl (128 kB)\r\n",
      "\u001B[2K     \u001B[90m━━━━━━━━━━━━━━━━━━━━━━━━━━━━━━━━━━━━━━\u001B[0m \u001B[32m128.5/128.5 kB\u001B[0m \u001B[31m21.3 MB/s\u001B[0m eta \u001B[36m0:00:00\u001B[0m\r\n",
      "\u001B[?25hRequirement already satisfied: numpy>=1.20 in /usr/local/lib/python3.9/dist-packages (from jax>=0.3.13->blackjax==0.9.6+35.gf5e1020) (1.23.1)\r\n",
      "Requirement already satisfied: opt-einsum in /usr/local/lib/python3.9/dist-packages (from jax>=0.3.13->blackjax==0.9.6+35.gf5e1020) (3.3.0)\r\n",
      "Requirement already satisfied: etils[epath] in /usr/local/lib/python3.9/dist-packages (from jax>=0.3.13->blackjax==0.9.6+35.gf5e1020) (0.6.0)\r\n",
      "Requirement already satisfied: absl-py in /usr/local/lib/python3.9/dist-packages (from jax>=0.3.13->blackjax==0.9.6+35.gf5e1020) (1.1.0)\r\n",
      "Requirement already satisfied: typing-extensions in /usr/local/lib/python3.9/dist-packages (from jax>=0.3.13->blackjax==0.9.6+35.gf5e1020) (4.3.0)\r\n",
      "Requirement already satisfied: scipy>=1.5 in /usr/local/lib/python3.9/dist-packages (from jax>=0.3.13->blackjax==0.9.6+35.gf5e1020) (1.8.1)\r\n",
      "Requirement already satisfied: matplotlib>=2.0.1 in /usr/local/lib/python3.9/dist-packages (from jaxopt>=0.4.2->blackjax==0.9.6+35.gf5e1020) (3.5.2)\r\n",
      "Requirement already satisfied: kiwisolver>=1.0.1 in /usr/local/lib/python3.9/dist-packages (from matplotlib>=2.0.1->jaxopt>=0.4.2->blackjax==0.9.6+35.gf5e1020) (1.4.3)\r\n",
      "Requirement already satisfied: cycler>=0.10 in /usr/local/lib/python3.9/dist-packages (from matplotlib>=2.0.1->jaxopt>=0.4.2->blackjax==0.9.6+35.gf5e1020) (0.11.0)\r\n",
      "Requirement already satisfied: pillow>=6.2.0 in /usr/local/lib/python3.9/dist-packages (from matplotlib>=2.0.1->jaxopt>=0.4.2->blackjax==0.9.6+35.gf5e1020) (9.2.0)\r\n",
      "Requirement already satisfied: python-dateutil>=2.7 in /usr/local/lib/python3.9/dist-packages (from matplotlib>=2.0.1->jaxopt>=0.4.2->blackjax==0.9.6+35.gf5e1020) (2.8.2)\r\n",
      "Requirement already satisfied: pyparsing>=2.2.1 in /usr/local/lib/python3.9/dist-packages (from matplotlib>=2.0.1->jaxopt>=0.4.2->blackjax==0.9.6+35.gf5e1020) (3.0.9)\r\n",
      "Requirement already satisfied: fonttools>=4.22.0 in /usr/local/lib/python3.9/dist-packages (from matplotlib>=2.0.1->jaxopt>=0.4.2->blackjax==0.9.6+35.gf5e1020) (4.34.4)\r\n",
      "Requirement already satisfied: packaging>=20.0 in /usr/local/lib/python3.9/dist-packages (from matplotlib>=2.0.1->jaxopt>=0.4.2->blackjax==0.9.6+35.gf5e1020) (21.3)\r\n",
      "Requirement already satisfied: importlib_resources in /usr/local/lib/python3.9/dist-packages (from etils[epath]->jax>=0.3.13->blackjax==0.9.6+35.gf5e1020) (5.8.0)\r\n",
      "Requirement already satisfied: zipp in /usr/local/lib/python3.9/dist-packages (from etils[epath]->jax>=0.3.13->blackjax==0.9.6+35.gf5e1020) (3.8.1)\r\n",
      "Requirement already satisfied: six>=1.5 in /usr/lib/python3/dist-packages (from python-dateutil>=2.7->matplotlib>=2.0.1->jaxopt>=0.4.2->blackjax==0.9.6+35.gf5e1020) (1.14.0)\r\n",
      "Building wheels for collected packages: blackjax\r\n",
      "  Building wheel for blackjax (setup.py) ... \u001B[?25ldone\r\n",
      "\u001B[?25h  Created wheel for blackjax: filename=blackjax-0.9.6+35.gf5e1020-py3-none-any.whl size=113114 sha256=3423da826152bdad280d36c81cf351549621e2b3b16aa14d448372d7e616ecb3\r\n",
      "  Stored in directory: /tmp/pip-ephem-wheel-cache-x0s5w0um/wheels/e6/1e/f6/a6e0408a4e374b9cdb789b1769716b4ed61eef520a2dd702b1\r\n",
      "Successfully built blackjax\r\n",
      "Installing collected packages: fastprogress, jaxopt, blackjax\r\n",
      "Successfully installed blackjax-0.9.6+35.gf5e1020 fastprogress-1.0.3 jaxopt-0.5\r\n",
      "\u001B[33mWARNING: Running pip as the 'root' user can result in broken permissions and conflicting behaviour with the system package manager. It is recommended to use a virtual environment instead: https://pip.pypa.io/warnings/venv\u001B[0m\u001B[33m\r\n",
      "\u001B[0m"
     ]
    }
   ],
   "source": [
    "import numpy as np\n",
    "!pip install -U jax[cuda112] -f https://storage.googleapis.com/jax-releases/jax_cuda_releases.html\n",
    "!pip install -U jaxlib[cuda112] -f https://storage.googleapis.com/jax-releases/jax_cuda_releases.html\n",
    "!pip install optax\n",
    "!pip install dm-haiku\n",
    "!pip install tensorflow-probability\n",
    "!pip install tensorflow-datasets\n",
    "!pip install imbalanced-learn\n",
    "!pip install -U git+https://github.com/Habush/Sklearn-genetic-opt.git\n",
    "!pip install git+https://github.com/blackjax-devs/blackjax.git"
   ]
  },
  {
   "cell_type": "code",
   "execution_count": 1,
   "outputs": [],
   "source": [
    "import os\n",
    "os.environ[\"XLA_PYTHON_CLIENT_PREALLOCATE\"] = \"False\"\n",
    "os.environ[\"XLA_PYTHON_CLIENT_ALLOCATOR\"] = \"platform\"\n",
    "SERVER = 0"
   ],
   "metadata": {
    "collapsed": false,
    "pycharm": {
     "name": "#%%\n"
    }
   }
  },
  {
   "cell_type": "code",
   "execution_count": 2,
   "outputs": [
    {
     "name": "stdout",
     "output_type": "stream",
     "text": [
      "/home/xabush/code/snet/moses-incons-pen-xp/notebooks/variable_selection/cancer/nn\n"
     ]
    },
    {
     "name": "stderr",
     "output_type": "stream",
     "text": [
      "/home/xabush/miniconda3/lib/python3.9/site-packages/chex/_src/pytypes.py:37: FutureWarning: jax.tree_structure is deprecated, and will be removed in a future release. Use jax.tree_util.tree_structure instead.\n",
      "  PyTreeDef = type(jax.tree_structure(None))\n"
     ]
    }
   ],
   "source": [
    "if not SERVER:\n",
    "    %cd /home/xabush/code/snet/moses-incons-pen-xp/notebooks/variable_selection/cancer/nn\n",
    "import matplotlib.pyplot as plt\n",
    "import tensorflow_probability.substrates.jax as tfp\n",
    "import pandas as pd\n",
    "from sklearn.model_selection import train_test_split, cross_val_score, StratifiedKFold\n",
    "from sklearn.preprocessing import StandardScaler\n",
    "tfd = tfp.distributions\n",
    "from nn_util import *\n",
    "from nn_models import *\n",
    "from gibbs_sampler import *\n",
    "from sgmcmc import *\n",
    "\n",
    "plt.style.use('ggplot')\n",
    "%load_ext autoreload"
   ],
   "metadata": {
    "collapsed": false,
    "pycharm": {
     "name": "#%%\n"
    }
   }
  },
  {
   "cell_type": "code",
   "execution_count": 3,
   "outputs": [],
   "source": [
    "if SERVER:\n",
    "    data_dir = \".\"\n",
    "else:\n",
    "    data_dir = \"/home/xabush/code/snet/moses-incons-pen-xp/data\""
   ],
   "metadata": {
    "collapsed": false,
    "pycharm": {
     "name": "#%%\n"
    }
   }
  },
  {
   "cell_type": "code",
   "execution_count": 4,
   "outputs": [
    {
     "data": {
      "text/plain": "   posOutcome  4111  4110  10661  131  4438  330  1109  2637  2642  ...  7634  \\\n0           0     0     0      0    1     0    1     1     1     1  ...     0   \n1           1     1     0      0    0     0    0     1     0     1  ...     0   \n2           0     0     0      0    1     0    0     1     1     1  ...     0   \n3           0     0     0      0    0     0    0     1     1     1  ...     0   \n4           1     0     0      0    0     0    1     1     1     1  ...     0   \n\n   55769  7637  7644  741  54993  79364  7791  23140  26009  \n0      0     0     1    1      0      0     1      0      0  \n1      0     0     1    1      0      0     1      0      1  \n2      0     0     1    1      0      0     1      0      0  \n3      0     0     1    0      0      0     1      0      0  \n4      0     0     1    1      0      0     1      0      0  \n\n[5 rows x 8414 columns]",
      "text/html": "<div>\n<style scoped>\n    .dataframe tbody tr th:only-of-type {\n        vertical-align: middle;\n    }\n\n    .dataframe tbody tr th {\n        vertical-align: top;\n    }\n\n    .dataframe thead th {\n        text-align: right;\n    }\n</style>\n<table border=\"1\" class=\"dataframe\">\n  <thead>\n    <tr style=\"text-align: right;\">\n      <th></th>\n      <th>posOutcome</th>\n      <th>4111</th>\n      <th>4110</th>\n      <th>10661</th>\n      <th>131</th>\n      <th>4438</th>\n      <th>330</th>\n      <th>1109</th>\n      <th>2637</th>\n      <th>2642</th>\n      <th>...</th>\n      <th>7634</th>\n      <th>55769</th>\n      <th>7637</th>\n      <th>7644</th>\n      <th>741</th>\n      <th>54993</th>\n      <th>79364</th>\n      <th>7791</th>\n      <th>23140</th>\n      <th>26009</th>\n    </tr>\n  </thead>\n  <tbody>\n    <tr>\n      <th>0</th>\n      <td>0</td>\n      <td>0</td>\n      <td>0</td>\n      <td>0</td>\n      <td>1</td>\n      <td>0</td>\n      <td>1</td>\n      <td>1</td>\n      <td>1</td>\n      <td>1</td>\n      <td>...</td>\n      <td>0</td>\n      <td>0</td>\n      <td>0</td>\n      <td>1</td>\n      <td>1</td>\n      <td>0</td>\n      <td>0</td>\n      <td>1</td>\n      <td>0</td>\n      <td>0</td>\n    </tr>\n    <tr>\n      <th>1</th>\n      <td>1</td>\n      <td>1</td>\n      <td>0</td>\n      <td>0</td>\n      <td>0</td>\n      <td>0</td>\n      <td>0</td>\n      <td>1</td>\n      <td>0</td>\n      <td>1</td>\n      <td>...</td>\n      <td>0</td>\n      <td>0</td>\n      <td>0</td>\n      <td>1</td>\n      <td>1</td>\n      <td>0</td>\n      <td>0</td>\n      <td>1</td>\n      <td>0</td>\n      <td>1</td>\n    </tr>\n    <tr>\n      <th>2</th>\n      <td>0</td>\n      <td>0</td>\n      <td>0</td>\n      <td>0</td>\n      <td>1</td>\n      <td>0</td>\n      <td>0</td>\n      <td>1</td>\n      <td>1</td>\n      <td>1</td>\n      <td>...</td>\n      <td>0</td>\n      <td>0</td>\n      <td>0</td>\n      <td>1</td>\n      <td>1</td>\n      <td>0</td>\n      <td>0</td>\n      <td>1</td>\n      <td>0</td>\n      <td>0</td>\n    </tr>\n    <tr>\n      <th>3</th>\n      <td>0</td>\n      <td>0</td>\n      <td>0</td>\n      <td>0</td>\n      <td>0</td>\n      <td>0</td>\n      <td>0</td>\n      <td>1</td>\n      <td>1</td>\n      <td>1</td>\n      <td>...</td>\n      <td>0</td>\n      <td>0</td>\n      <td>0</td>\n      <td>1</td>\n      <td>0</td>\n      <td>0</td>\n      <td>0</td>\n      <td>1</td>\n      <td>0</td>\n      <td>0</td>\n    </tr>\n    <tr>\n      <th>4</th>\n      <td>1</td>\n      <td>0</td>\n      <td>0</td>\n      <td>0</td>\n      <td>0</td>\n      <td>0</td>\n      <td>1</td>\n      <td>1</td>\n      <td>1</td>\n      <td>1</td>\n      <td>...</td>\n      <td>0</td>\n      <td>0</td>\n      <td>0</td>\n      <td>1</td>\n      <td>1</td>\n      <td>0</td>\n      <td>0</td>\n      <td>1</td>\n      <td>0</td>\n      <td>0</td>\n    </tr>\n  </tbody>\n</table>\n<p>5 rows × 8414 columns</p>\n</div>"
     },
     "execution_count": 4,
     "metadata": {},
     "output_type": "execute_result"
    }
   ],
   "source": [
    "tamox_df = pd.read_csv(f\"{data_dir}/tamoxBinaryEntrez.csv\")\n",
    "tamox_df.head()"
   ],
   "metadata": {
    "collapsed": false,
    "pycharm": {
     "name": "#%%\n"
    }
   }
  },
  {
   "cell_type": "code",
   "execution_count": 5,
   "outputs": [
    {
     "name": "stdout",
     "output_type": "stream",
     "text": [
      "Total interactions: 372774\n"
     ]
    },
    {
     "name": "stderr",
     "output_type": "stream",
     "text": [
      "/tmp/ipykernel_2150/3470585798.py:1: DtypeWarning: Columns (1,3) have mixed types. Specify dtype option on import or set low_memory=False.\n",
      "  regnet_df = pd.read_table(f\"{data_dir}/human.source\", sep=\"\\t\", header=None, names= [\"REGULATOR SYMBOL\", \"REGULATOR ID\", \"TARGET SYMBOL\", \"TARGET ID\"])\n"
     ]
    },
    {
     "data": {
      "text/plain": "  REGULATOR SYMBOL REGULATOR ID TARGET SYMBOL TARGET ID\n0             USF1         7391        S100A6      6277\n1             USF1         7391         DUSP1      1843\n2             USF1         7391           C4A       720\n3             USF1         7391         ABCA1        19\n4             TP53         7157          TP73      7161",
      "text/html": "<div>\n<style scoped>\n    .dataframe tbody tr th:only-of-type {\n        vertical-align: middle;\n    }\n\n    .dataframe tbody tr th {\n        vertical-align: top;\n    }\n\n    .dataframe thead th {\n        text-align: right;\n    }\n</style>\n<table border=\"1\" class=\"dataframe\">\n  <thead>\n    <tr style=\"text-align: right;\">\n      <th></th>\n      <th>REGULATOR SYMBOL</th>\n      <th>REGULATOR ID</th>\n      <th>TARGET SYMBOL</th>\n      <th>TARGET ID</th>\n    </tr>\n  </thead>\n  <tbody>\n    <tr>\n      <th>0</th>\n      <td>USF1</td>\n      <td>7391</td>\n      <td>S100A6</td>\n      <td>6277</td>\n    </tr>\n    <tr>\n      <th>1</th>\n      <td>USF1</td>\n      <td>7391</td>\n      <td>DUSP1</td>\n      <td>1843</td>\n    </tr>\n    <tr>\n      <th>2</th>\n      <td>USF1</td>\n      <td>7391</td>\n      <td>C4A</td>\n      <td>720</td>\n    </tr>\n    <tr>\n      <th>3</th>\n      <td>USF1</td>\n      <td>7391</td>\n      <td>ABCA1</td>\n      <td>19</td>\n    </tr>\n    <tr>\n      <th>4</th>\n      <td>TP53</td>\n      <td>7157</td>\n      <td>TP73</td>\n      <td>7161</td>\n    </tr>\n  </tbody>\n</table>\n</div>"
     },
     "execution_count": 5,
     "metadata": {},
     "output_type": "execute_result"
    }
   ],
   "source": [
    "regnet_df = pd.read_table(f\"{data_dir}/human.source\", sep=\"\\t\", header=None, names= [\"REGULATOR SYMBOL\", \"REGULATOR ID\", \"TARGET SYMBOL\", \"TARGET ID\"])\n",
    "print(f\"Total interactions: {regnet_df.shape[0]}\")\n",
    "regnet_df.head()"
   ],
   "metadata": {
    "collapsed": false,
    "pycharm": {
     "name": "#%%\n"
    }
   }
  },
  {
   "cell_type": "code",
   "execution_count": 6,
   "outputs": [],
   "source": [
    "net_intr = pd.Series(regnet_df[\"REGULATOR ID\"].values, index=regnet_df[\"TARGET ID\"])\n",
    "net_intr_rev = pd.Series(regnet_df[\"TARGET ID\"].values, index=regnet_df[\"REGULATOR ID\"])\n",
    "X_df, y_df = tamox_df[tamox_df.columns.difference([\"posOutcome\"])], tamox_df[\"posOutcome\"]"
   ],
   "metadata": {
    "collapsed": false,
    "pycharm": {
     "name": "#%%\n"
    }
   }
  },
  {
   "cell_type": "code",
   "execution_count": 7,
   "outputs": [],
   "source": [
    "seed = 1234\n",
    "rng_key = jax.random.PRNGKey(seed)"
   ],
   "metadata": {
    "collapsed": false,
    "pycharm": {
     "name": "#%%\n"
    }
   }
  },
  {
   "cell_type": "code",
   "execution_count": 8,
   "outputs": [],
   "source": [
    "X_train_df, X_test_df, y_train_df, y_test_df = train_test_split(X_df, y_df, random_state=seed, shuffle=True, stratify=y_df, test_size=0.3)"
   ],
   "metadata": {
    "collapsed": false,
    "pycharm": {
     "name": "#%%\n"
    }
   }
  },
  {
   "cell_type": "markdown",
   "source": [
    "### Cosmic Genes"
   ],
   "metadata": {
    "collapsed": false,
    "pycharm": {
     "name": "#%% md\n"
    }
   }
  },
  {
   "cell_type": "code",
   "execution_count": 7,
   "outputs": [
    {
     "data": {
      "text/plain": "729"
     },
     "execution_count": 7,
     "metadata": {},
     "output_type": "execute_result"
    }
   ],
   "source": [
    "cosmic_genes_df = pd.read_csv(f\"{data_dir}/cosmic_genes.csv\")\n",
    "cosmic_genes_df = cosmic_genes_df[~cosmic_genes_df[\"Entrez GeneId\"].isnull()]\n",
    "cosmic_genes_ids = cosmic_genes_df[\"Entrez GeneId\"].astype(int)\n",
    "cosmic_genes_ids = cosmic_genes_ids.to_list()\n",
    "len(cosmic_genes_ids)"
   ],
   "metadata": {
    "collapsed": false,
    "pycharm": {
     "name": "#%%\n"
    }
   }
  },
  {
   "cell_type": "code",
   "execution_count": 8,
   "outputs": [
    {
     "data": {
      "text/plain": "497"
     },
     "execution_count": 8,
     "metadata": {},
     "output_type": "execute_result"
    }
   ],
   "source": [
    "cols = X_df.columns.to_list()\n",
    "cols = [int(c) for c in cols]\n",
    "cosmic_intr = list(set(set(cosmic_genes_ids) & set(cols)))\n",
    "cosmic_intr = [str(c) for c in cosmic_intr]\n",
    "len(cosmic_intr)"
   ],
   "metadata": {
    "collapsed": false,
    "pycharm": {
     "name": "#%%\n"
    }
   }
  },
  {
   "cell_type": "code",
   "execution_count": 9,
   "outputs": [
    {
     "name": "stdout",
     "output_type": "stream",
     "text": [
      "242\n"
     ]
    }
   ],
   "source": [
    "J = build_network(X_df.loc[:, cosmic_intr], net_intr, net_intr_rev)\n",
    "p = J.shape[0]\n",
    "print(np.count_nonzero(J) // 2)"
   ],
   "metadata": {
    "collapsed": false,
    "pycharm": {
     "name": "#%%\n"
    }
   }
  },
  {
   "cell_type": "code",
   "execution_count": 10,
   "outputs": [],
   "source": [
    "X_cosmic = X_df.loc[:,cosmic_intr]"
   ],
   "metadata": {
    "collapsed": false,
    "pycharm": {
     "name": "#%%\n"
    }
   }
  },
  {
   "cell_type": "code",
   "execution_count": 11,
   "outputs": [
    {
     "ename": "NameError",
     "evalue": "name 'X_train_df' is not defined",
     "output_type": "error",
     "traceback": [
      "\u001B[0;31m---------------------------------------------------------------------------\u001B[0m",
      "\u001B[0;31mNameError\u001B[0m                                 Traceback (most recent call last)",
      "Input \u001B[0;32mIn [11]\u001B[0m, in \u001B[0;36m<cell line: 1>\u001B[0;34m()\u001B[0m\n\u001B[0;32m----> 1\u001B[0m X_train_sig, X_test_sig \u001B[38;5;241m=\u001B[39m \u001B[43mX_train_df\u001B[49m\u001B[38;5;241m.\u001B[39mloc[:,cosmic_intr], X_test_df\u001B[38;5;241m.\u001B[39mloc[:, cosmic_intr]\n",
      "\u001B[0;31mNameError\u001B[0m: name 'X_train_df' is not defined"
     ]
    }
   ],
   "source": [
    "X_train_sig, X_test_sig = X_train_df.loc[:,cosmic_intr], X_test_df.loc[:, cosmic_intr]"
   ],
   "metadata": {
    "collapsed": false,
    "pycharm": {
     "name": "#%%\n"
    }
   }
  },
  {
   "cell_type": "code",
   "execution_count": 14,
   "outputs": [],
   "source": [
    "X_train, X_test, y_train, y_test = X_train_sig.to_numpy(), X_test_sig.to_numpy(), \\\n",
    "                                   y_train_df.to_numpy(), y_test_df.to_numpy()\n",
    "\n",
    "# X_train, X_test, y_train, y_test = jax.device_put(X_train), jax.device_put(X_test), \\\n",
    "#                                    jax.device_put(y_train), jax.device_put(y_test)"
   ],
   "metadata": {
    "collapsed": false,
    "pycharm": {
     "name": "#%%\n"
    }
   }
  },
  {
   "cell_type": "code",
   "execution_count": 15,
   "outputs": [],
   "source": [
    "from sklearn.model_selection import GridSearchCV, StratifiedKFold, KFold\n",
    "from sklearn.model_selection import cross_val_score\n",
    "cv = StratifiedKFold(n_splits=5, shuffle=True, random_state=seed)"
   ],
   "metadata": {
    "collapsed": false,
    "pycharm": {
     "name": "#%%\n"
    }
   }
  },
  {
   "cell_type": "markdown",
   "source": [
    "### Logistic Regression and SVM"
   ],
   "metadata": {
    "collapsed": false,
    "pycharm": {
     "name": "#%% md\n"
    }
   }
  },
  {
   "cell_type": "code",
   "execution_count": 32,
   "outputs": [
    {
     "name": "stdout",
     "output_type": "stream",
     "text": [
      "Fitting 5 folds for each of 10 candidates, totalling 50 fits\n",
      "[CV 1/5] END ............................C=0.01;, score=0.594 total time=   0.1s\n",
      "[CV 2/5] END ............................C=0.01;, score=0.748 total time=   0.2s\n",
      "[CV 3/5] END ............................C=0.01;, score=0.638 total time=   0.3s\n",
      "[CV 4/5] END ............................C=0.01;, score=0.690 total time=   0.1s\n",
      "[CV 5/5] END ............................C=0.01;, score=0.747 total time=   0.1s\n",
      "[CV 1/5] END ............C=0.021544346900318832;, score=0.612 total time=   0.0s\n",
      "[CV 2/5] END ............C=0.021544346900318832;, score=0.747 total time=   0.0s\n",
      "[CV 3/5] END ............C=0.021544346900318832;, score=0.652 total time=   0.2s\n",
      "[CV 4/5] END ............C=0.021544346900318832;, score=0.687 total time=   0.0s\n",
      "[CV 5/5] END ............C=0.021544346900318832;, score=0.735 total time=   0.1s\n",
      "[CV 1/5] END ............C=0.046415888336127774;, score=0.624 total time=   0.0s\n",
      "[CV 2/5] END ............C=0.046415888336127774;, score=0.749 total time=   0.1s\n",
      "[CV 3/5] END ............C=0.046415888336127774;, score=0.656 total time=   0.0s\n",
      "[CV 4/5] END ............C=0.046415888336127774;, score=0.677 total time=   0.1s\n",
      "[CV 5/5] END ............C=0.046415888336127774;, score=0.728 total time=   0.2s\n",
      "[CV 1/5] END .............................C=0.1;, score=0.633 total time=   0.0s\n",
      "[CV 2/5] END .............................C=0.1;, score=0.743 total time=   0.0s\n",
      "[CV 3/5] END .............................C=0.1;, score=0.670 total time=   0.0s\n",
      "[CV 4/5] END .............................C=0.1;, score=0.674 total time=   0.0s\n",
      "[CV 5/5] END .............................C=0.1;, score=0.717 total time=   0.1s\n",
      "[CV 1/5] END .............C=0.21544346900318834;, score=0.634 total time=   0.0s\n",
      "[CV 2/5] END .............C=0.21544346900318834;, score=0.737 total time=   0.0s\n",
      "[CV 3/5] END .............C=0.21544346900318834;, score=0.681 total time=   0.2s\n",
      "[CV 4/5] END .............C=0.21544346900318834;, score=0.663 total time=   0.0s\n",
      "[CV 5/5] END .............C=0.21544346900318834;, score=0.717 total time=   0.0s\n",
      "[CV 1/5] END .............C=0.46415888336127775;, score=0.634 total time=   0.0s\n",
      "[CV 2/5] END .............C=0.46415888336127775;, score=0.734 total time=   0.0s\n",
      "[CV 3/5] END .............C=0.46415888336127775;, score=0.685 total time=   0.1s\n",
      "[CV 4/5] END .............C=0.46415888336127775;, score=0.658 total time=   0.1s\n",
      "[CV 5/5] END .............C=0.46415888336127775;, score=0.715 total time=   0.0s\n",
      "[CV 1/5] END .............................C=1.0;, score=0.636 total time=   0.2s\n",
      "[CV 2/5] END .............................C=1.0;, score=0.735 total time=   0.0s\n",
      "[CV 3/5] END .............................C=1.0;, score=0.684 total time=   0.1s\n",
      "[CV 4/5] END .............................C=1.0;, score=0.658 total time=   0.1s\n",
      "[CV 5/5] END .............................C=1.0;, score=0.709 total time=   0.1s\n",
      "[CV 1/5] END ...............C=2.154434690031882;, score=0.636 total time=   0.0s\n",
      "[CV 2/5] END ...............C=2.154434690031882;, score=0.734 total time=   0.1s\n",
      "[CV 3/5] END ...............C=2.154434690031882;, score=0.680 total time=   0.1s\n",
      "[CV 4/5] END ...............C=2.154434690031882;, score=0.656 total time=   0.1s\n",
      "[CV 5/5] END ...............C=2.154434690031882;, score=0.709 total time=   0.1s\n",
      "[CV 1/5] END ..............C=4.6415888336127775;, score=0.639 total time=   0.1s\n",
      "[CV 2/5] END ..............C=4.6415888336127775;, score=0.729 total time=   0.1s\n",
      "[CV 3/5] END ..............C=4.6415888336127775;, score=0.679 total time=   0.1s\n",
      "[CV 4/5] END ..............C=4.6415888336127775;, score=0.654 total time=   0.2s\n",
      "[CV 5/5] END ..............C=4.6415888336127775;, score=0.708 total time=   0.1s\n",
      "[CV 1/5] END ............................C=10.0;, score=0.640 total time=   0.1s\n",
      "[CV 2/5] END ............................C=10.0;, score=0.731 total time=   0.1s\n",
      "[CV 3/5] END ............................C=10.0;, score=0.679 total time=   0.1s\n",
      "[CV 4/5] END ............................C=10.0;, score=0.653 total time=   0.2s\n",
      "[CV 5/5] END ............................C=10.0;, score=0.708 total time=   0.1s\n",
      "{'C': 0.1}\n",
      "cv score: 0.6871464646464647, test_score: 0.6037006351836509\n"
     ]
    }
   ],
   "source": [
    "from sklearn.linear_model import LogisticRegression\n",
    "log_param_grid = {\"C\": np.logspace(-2, 1, 10)}\n",
    "log_grid_cv = GridSearchCV(estimator=LogisticRegression(max_iter=10000), param_grid=log_param_grid, verbose=3,\n",
    "                           scoring=\"roc_auc\", cv=cv).fit(X_train, y_train)\n",
    "print(log_grid_cv.best_params_)\n",
    "clf = LogisticRegression(max_iter=10000,  **log_grid_cv.best_params_)\n",
    "log_cv_score_1 = np.mean(cross_val_score(clf, X_train, y_train, scoring=\"roc_auc\", cv=cv))\n",
    "clf.fit(X_train, y_train)\n",
    "log_test_score_1 = roc_auc_score(y_test, clf.predict_proba(X_test)[:, 1])\n",
    "print(f\"cv score: {log_cv_score_1}, test_score: {log_test_score_1}\")"
   ],
   "metadata": {
    "collapsed": false,
    "pycharm": {
     "name": "#%%\n"
    }
   }
  },
  {
   "cell_type": "code",
   "execution_count": 20,
   "outputs": [
    {
     "name": "stdout",
     "output_type": "stream",
     "text": [
      "Fitting 5 folds for each of 60 candidates, totalling 300 fits\n",
      "[CV 1/5] END ......C=0.01, degree=2, kernel=rbf;, score=0.533 total time=   0.5s\n",
      "[CV 2/5] END ......C=0.01, degree=2, kernel=rbf;, score=0.788 total time=   0.2s\n",
      "[CV 3/5] END ......C=0.01, degree=2, kernel=rbf;, score=0.657 total time=   0.2s\n",
      "[CV 4/5] END ......C=0.01, degree=2, kernel=rbf;, score=0.693 total time=   0.1s\n",
      "[CV 5/5] END ......C=0.01, degree=2, kernel=rbf;, score=0.735 total time=   0.5s\n",
      "[CV 1/5] END ...C=0.01, degree=2, kernel=linear;, score=0.606 total time=   0.1s\n",
      "[CV 2/5] END ...C=0.01, degree=2, kernel=linear;, score=0.735 total time=   0.1s\n",
      "[CV 3/5] END ...C=0.01, degree=2, kernel=linear;, score=0.676 total time=   0.1s\n",
      "[CV 4/5] END ...C=0.01, degree=2, kernel=linear;, score=0.701 total time=   0.1s\n",
      "[CV 5/5] END ...C=0.01, degree=2, kernel=linear;, score=0.705 total time=   0.1s\n",
      "[CV 1/5] END .....C=0.01, degree=2, kernel=poly;, score=0.523 total time=   0.1s\n",
      "[CV 2/5] END .....C=0.01, degree=2, kernel=poly;, score=0.738 total time=   0.1s\n",
      "[CV 3/5] END .....C=0.01, degree=2, kernel=poly;, score=0.651 total time=   0.1s\n",
      "[CV 4/5] END .....C=0.01, degree=2, kernel=poly;, score=0.735 total time=   0.1s\n",
      "[CV 5/5] END .....C=0.01, degree=2, kernel=poly;, score=0.700 total time=   0.1s\n",
      "[CV 1/5] END ......C=0.01, degree=3, kernel=rbf;, score=0.533 total time=   0.1s\n",
      "[CV 2/5] END ......C=0.01, degree=3, kernel=rbf;, score=0.788 total time=   0.1s\n",
      "[CV 3/5] END ......C=0.01, degree=3, kernel=rbf;, score=0.657 total time=   0.1s\n",
      "[CV 4/5] END ......C=0.01, degree=3, kernel=rbf;, score=0.693 total time=   0.1s\n",
      "[CV 5/5] END ......C=0.01, degree=3, kernel=rbf;, score=0.735 total time=   0.1s\n",
      "[CV 1/5] END ...C=0.01, degree=3, kernel=linear;, score=0.606 total time=   0.1s\n",
      "[CV 2/5] END ...C=0.01, degree=3, kernel=linear;, score=0.735 total time=   0.1s\n",
      "[CV 3/5] END ...C=0.01, degree=3, kernel=linear;, score=0.676 total time=   0.1s\n",
      "[CV 4/5] END ...C=0.01, degree=3, kernel=linear;, score=0.701 total time=   0.1s\n",
      "[CV 5/5] END ...C=0.01, degree=3, kernel=linear;, score=0.705 total time=   0.1s\n",
      "[CV 1/5] END .....C=0.01, degree=3, kernel=poly;, score=0.486 total time=   0.1s\n",
      "[CV 2/5] END .....C=0.01, degree=3, kernel=poly;, score=0.741 total time=   0.1s\n",
      "[CV 3/5] END .....C=0.01, degree=3, kernel=poly;, score=0.643 total time=   0.1s\n",
      "[CV 4/5] END .....C=0.01, degree=3, kernel=poly;, score=0.737 total time=   0.1s\n",
      "[CV 5/5] END .....C=0.01, degree=3, kernel=poly;, score=0.687 total time=   0.1s\n",
      "[CV 1/5] END C=0.021544346900318832, degree=2, kernel=rbf;, score=0.535 total time=   0.1s\n",
      "[CV 2/5] END C=0.021544346900318832, degree=2, kernel=rbf;, score=0.782 total time=   0.1s\n",
      "[CV 3/5] END C=0.021544346900318832, degree=2, kernel=rbf;, score=0.653 total time=   0.1s\n",
      "[CV 4/5] END C=0.021544346900318832, degree=2, kernel=rbf;, score=0.698 total time=   0.1s\n",
      "[CV 5/5] END C=0.021544346900318832, degree=2, kernel=rbf;, score=0.729 total time=   0.1s\n",
      "[CV 1/5] END C=0.021544346900318832, degree=2, kernel=linear;, score=0.618 total time=   0.1s\n",
      "[CV 2/5] END C=0.021544346900318832, degree=2, kernel=linear;, score=0.735 total time=   0.1s\n",
      "[CV 3/5] END C=0.021544346900318832, degree=2, kernel=linear;, score=0.678 total time=   0.1s\n",
      "[CV 4/5] END C=0.021544346900318832, degree=2, kernel=linear;, score=0.689 total time=   0.1s\n",
      "[CV 5/5] END C=0.021544346900318832, degree=2, kernel=linear;, score=0.706 total time=   0.1s\n",
      "[CV 1/5] END C=0.021544346900318832, degree=2, kernel=poly;, score=0.526 total time=   0.1s\n",
      "[CV 2/5] END C=0.021544346900318832, degree=2, kernel=poly;, score=0.739 total time=   0.1s\n",
      "[CV 3/5] END C=0.021544346900318832, degree=2, kernel=poly;, score=0.651 total time=   0.1s\n",
      "[CV 4/5] END C=0.021544346900318832, degree=2, kernel=poly;, score=0.736 total time=   0.1s\n",
      "[CV 5/5] END C=0.021544346900318832, degree=2, kernel=poly;, score=0.700 total time=   0.1s\n",
      "[CV 1/5] END C=0.021544346900318832, degree=3, kernel=rbf;, score=0.535 total time=   0.1s\n",
      "[CV 2/5] END C=0.021544346900318832, degree=3, kernel=rbf;, score=0.782 total time=   0.1s\n",
      "[CV 3/5] END C=0.021544346900318832, degree=3, kernel=rbf;, score=0.653 total time=   0.1s\n",
      "[CV 4/5] END C=0.021544346900318832, degree=3, kernel=rbf;, score=0.698 total time=   0.1s\n",
      "[CV 5/5] END C=0.021544346900318832, degree=3, kernel=rbf;, score=0.729 total time=   0.1s\n",
      "[CV 1/5] END C=0.021544346900318832, degree=3, kernel=linear;, score=0.618 total time=   0.1s\n",
      "[CV 2/5] END C=0.021544346900318832, degree=3, kernel=linear;, score=0.735 total time=   0.1s\n",
      "[CV 3/5] END C=0.021544346900318832, degree=3, kernel=linear;, score=0.678 total time=   0.1s\n",
      "[CV 4/5] END C=0.021544346900318832, degree=3, kernel=linear;, score=0.689 total time=   0.1s\n",
      "[CV 5/5] END C=0.021544346900318832, degree=3, kernel=linear;, score=0.706 total time=   0.1s\n",
      "[CV 1/5] END C=0.021544346900318832, degree=3, kernel=poly;, score=0.486 total time=   0.1s\n",
      "[CV 2/5] END C=0.021544346900318832, degree=3, kernel=poly;, score=0.740 total time=   0.1s\n",
      "[CV 3/5] END C=0.021544346900318832, degree=3, kernel=poly;, score=0.644 total time=   0.1s\n",
      "[CV 4/5] END C=0.021544346900318832, degree=3, kernel=poly;, score=0.737 total time=   0.1s\n",
      "[CV 5/5] END C=0.021544346900318832, degree=3, kernel=poly;, score=0.685 total time=   0.1s\n",
      "[CV 1/5] END C=0.046415888336127774, degree=2, kernel=rbf;, score=0.535 total time=   0.1s\n",
      "[CV 2/5] END C=0.046415888336127774, degree=2, kernel=rbf;, score=0.785 total time=   0.1s\n",
      "[CV 3/5] END C=0.046415888336127774, degree=2, kernel=rbf;, score=0.653 total time=   0.1s\n",
      "[CV 4/5] END C=0.046415888336127774, degree=2, kernel=rbf;, score=0.695 total time=   0.1s\n",
      "[CV 5/5] END C=0.046415888336127774, degree=2, kernel=rbf;, score=0.731 total time=   0.1s\n",
      "[CV 1/5] END C=0.046415888336127774, degree=2, kernel=linear;, score=0.630 total time=   0.1s\n",
      "[CV 2/5] END C=0.046415888336127774, degree=2, kernel=linear;, score=0.737 total time=   0.1s\n",
      "[CV 3/5] END C=0.046415888336127774, degree=2, kernel=linear;, score=0.687 total time=   0.1s\n",
      "[CV 4/5] END C=0.046415888336127774, degree=2, kernel=linear;, score=0.660 total time=   0.1s\n",
      "[CV 5/5] END C=0.046415888336127774, degree=2, kernel=linear;, score=0.712 total time=   0.1s\n",
      "[CV 1/5] END C=0.046415888336127774, degree=2, kernel=poly;, score=0.525 total time=   0.1s\n",
      "[CV 2/5] END C=0.046415888336127774, degree=2, kernel=poly;, score=0.739 total time=   0.1s\n",
      "[CV 3/5] END C=0.046415888336127774, degree=2, kernel=poly;, score=0.652 total time=   0.1s\n",
      "[CV 4/5] END C=0.046415888336127774, degree=2, kernel=poly;, score=0.735 total time=   0.1s\n",
      "[CV 5/5] END C=0.046415888336127774, degree=2, kernel=poly;, score=0.699 total time=   0.1s\n",
      "[CV 1/5] END C=0.046415888336127774, degree=3, kernel=rbf;, score=0.535 total time=   0.1s\n",
      "[CV 2/5] END C=0.046415888336127774, degree=3, kernel=rbf;, score=0.785 total time=   0.1s\n",
      "[CV 3/5] END C=0.046415888336127774, degree=3, kernel=rbf;, score=0.653 total time=   0.1s\n",
      "[CV 4/5] END C=0.046415888336127774, degree=3, kernel=rbf;, score=0.695 total time=   0.1s\n",
      "[CV 5/5] END C=0.046415888336127774, degree=3, kernel=rbf;, score=0.731 total time=   0.1s\n",
      "[CV 1/5] END C=0.046415888336127774, degree=3, kernel=linear;, score=0.630 total time=   0.1s\n",
      "[CV 2/5] END C=0.046415888336127774, degree=3, kernel=linear;, score=0.737 total time=   0.1s\n",
      "[CV 3/5] END C=0.046415888336127774, degree=3, kernel=linear;, score=0.687 total time=   0.1s\n",
      "[CV 4/5] END C=0.046415888336127774, degree=3, kernel=linear;, score=0.660 total time=   0.1s\n",
      "[CV 5/5] END C=0.046415888336127774, degree=3, kernel=linear;, score=0.712 total time=   0.1s\n",
      "[CV 1/5] END C=0.046415888336127774, degree=3, kernel=poly;, score=0.496 total time=   0.1s\n",
      "[CV 2/5] END C=0.046415888336127774, degree=3, kernel=poly;, score=0.741 total time=   0.1s\n",
      "[CV 3/5] END C=0.046415888336127774, degree=3, kernel=poly;, score=0.643 total time=   0.1s\n",
      "[CV 4/5] END C=0.046415888336127774, degree=3, kernel=poly;, score=0.737 total time=   0.1s\n",
      "[CV 5/5] END C=0.046415888336127774, degree=3, kernel=poly;, score=0.688 total time=   0.1s\n",
      "[CV 1/5] END .......C=0.1, degree=2, kernel=rbf;, score=0.536 total time=   0.1s\n",
      "[CV 2/5] END .......C=0.1, degree=2, kernel=rbf;, score=0.783 total time=   0.1s\n",
      "[CV 3/5] END .......C=0.1, degree=2, kernel=rbf;, score=0.655 total time=   0.1s\n",
      "[CV 4/5] END .......C=0.1, degree=2, kernel=rbf;, score=0.697 total time=   0.1s\n",
      "[CV 5/5] END .......C=0.1, degree=2, kernel=rbf;, score=0.735 total time=   0.1s\n",
      "[CV 1/5] END ....C=0.1, degree=2, kernel=linear;, score=0.639 total time=   0.1s\n",
      "[CV 2/5] END ....C=0.1, degree=2, kernel=linear;, score=0.727 total time=   0.1s\n",
      "[CV 3/5] END ....C=0.1, degree=2, kernel=linear;, score=0.679 total time=   0.1s\n",
      "[CV 4/5] END ....C=0.1, degree=2, kernel=linear;, score=0.633 total time=   0.1s\n",
      "[CV 5/5] END ....C=0.1, degree=2, kernel=linear;, score=0.712 total time=   0.1s\n",
      "[CV 1/5] END ......C=0.1, degree=2, kernel=poly;, score=0.524 total time=   0.1s\n",
      "[CV 2/5] END ......C=0.1, degree=2, kernel=poly;, score=0.739 total time=   0.1s\n",
      "[CV 3/5] END ......C=0.1, degree=2, kernel=poly;, score=0.652 total time=   0.1s\n",
      "[CV 4/5] END ......C=0.1, degree=2, kernel=poly;, score=0.735 total time=   0.1s\n",
      "[CV 5/5] END ......C=0.1, degree=2, kernel=poly;, score=0.699 total time=   0.1s\n",
      "[CV 1/5] END .......C=0.1, degree=3, kernel=rbf;, score=0.536 total time=   0.1s\n",
      "[CV 2/5] END .......C=0.1, degree=3, kernel=rbf;, score=0.783 total time=   0.1s\n",
      "[CV 3/5] END .......C=0.1, degree=3, kernel=rbf;, score=0.655 total time=   0.1s\n",
      "[CV 4/5] END .......C=0.1, degree=3, kernel=rbf;, score=0.697 total time=   0.1s\n",
      "[CV 5/5] END .......C=0.1, degree=3, kernel=rbf;, score=0.735 total time=   0.1s\n",
      "[CV 1/5] END ....C=0.1, degree=3, kernel=linear;, score=0.639 total time=   0.1s\n",
      "[CV 2/5] END ....C=0.1, degree=3, kernel=linear;, score=0.727 total time=   0.1s\n",
      "[CV 3/5] END ....C=0.1, degree=3, kernel=linear;, score=0.679 total time=   0.1s\n",
      "[CV 4/5] END ....C=0.1, degree=3, kernel=linear;, score=0.633 total time=   0.1s\n",
      "[CV 5/5] END ....C=0.1, degree=3, kernel=linear;, score=0.712 total time=   0.1s\n",
      "[CV 1/5] END ......C=0.1, degree=3, kernel=poly;, score=0.525 total time=   0.1s\n",
      "[CV 2/5] END ......C=0.1, degree=3, kernel=poly;, score=0.762 total time=   0.1s\n",
      "[CV 3/5] END ......C=0.1, degree=3, kernel=poly;, score=0.656 total time=   0.1s\n",
      "[CV 4/5] END ......C=0.1, degree=3, kernel=poly;, score=0.729 total time=   0.1s\n",
      "[CV 5/5] END ......C=0.1, degree=3, kernel=poly;, score=0.710 total time=   0.1s\n",
      "[CV 1/5] END C=0.21544346900318834, degree=2, kernel=rbf;, score=0.537 total time=   0.1s\n",
      "[CV 2/5] END C=0.21544346900318834, degree=2, kernel=rbf;, score=0.783 total time=   0.1s\n",
      "[CV 3/5] END C=0.21544346900318834, degree=2, kernel=rbf;, score=0.655 total time=   0.1s\n",
      "[CV 4/5] END C=0.21544346900318834, degree=2, kernel=rbf;, score=0.697 total time=   0.1s\n",
      "[CV 5/5] END C=0.21544346900318834, degree=2, kernel=rbf;, score=0.733 total time=   0.1s\n",
      "[CV 1/5] END C=0.21544346900318834, degree=2, kernel=linear;, score=0.638 total time=   0.1s\n",
      "[CV 2/5] END C=0.21544346900318834, degree=2, kernel=linear;, score=0.727 total time=   0.1s\n",
      "[CV 3/5] END C=0.21544346900318834, degree=2, kernel=linear;, score=0.679 total time=   0.1s\n",
      "[CV 4/5] END C=0.21544346900318834, degree=2, kernel=linear;, score=0.633 total time=   0.1s\n",
      "[CV 5/5] END C=0.21544346900318834, degree=2, kernel=linear;, score=0.708 total time=   0.1s\n",
      "[CV 1/5] END C=0.21544346900318834, degree=2, kernel=poly;, score=0.551 total time=   0.1s\n",
      "[CV 2/5] END C=0.21544346900318834, degree=2, kernel=poly;, score=0.749 total time=   0.1s\n",
      "[CV 3/5] END C=0.21544346900318834, degree=2, kernel=poly;, score=0.649 total time=   0.1s\n",
      "[CV 4/5] END C=0.21544346900318834, degree=2, kernel=poly;, score=0.727 total time=   0.1s\n",
      "[CV 5/5] END C=0.21544346900318834, degree=2, kernel=poly;, score=0.719 total time=   0.1s\n",
      "[CV 1/5] END C=0.21544346900318834, degree=3, kernel=rbf;, score=0.537 total time=   0.1s\n",
      "[CV 2/5] END C=0.21544346900318834, degree=3, kernel=rbf;, score=0.783 total time=   0.1s\n",
      "[CV 3/5] END C=0.21544346900318834, degree=3, kernel=rbf;, score=0.655 total time=   0.1s\n",
      "[CV 4/5] END C=0.21544346900318834, degree=3, kernel=rbf;, score=0.697 total time=   0.1s\n",
      "[CV 5/5] END C=0.21544346900318834, degree=3, kernel=rbf;, score=0.733 total time=   0.1s\n",
      "[CV 1/5] END C=0.21544346900318834, degree=3, kernel=linear;, score=0.638 total time=   0.1s\n",
      "[CV 2/5] END C=0.21544346900318834, degree=3, kernel=linear;, score=0.727 total time=   0.1s\n",
      "[CV 3/5] END C=0.21544346900318834, degree=3, kernel=linear;, score=0.679 total time=   0.1s\n",
      "[CV 4/5] END C=0.21544346900318834, degree=3, kernel=linear;, score=0.633 total time=   0.1s\n",
      "[CV 5/5] END C=0.21544346900318834, degree=3, kernel=linear;, score=0.708 total time=   0.1s\n",
      "[CV 1/5] END C=0.21544346900318834, degree=3, kernel=poly;, score=0.549 total time=   0.1s\n",
      "[CV 2/5] END C=0.21544346900318834, degree=3, kernel=poly;, score=0.786 total time=   0.1s\n",
      "[CV 3/5] END C=0.21544346900318834, degree=3, kernel=poly;, score=0.660 total time=   0.1s\n",
      "[CV 4/5] END C=0.21544346900318834, degree=3, kernel=poly;, score=0.705 total time=   0.1s\n",
      "[CV 5/5] END C=0.21544346900318834, degree=3, kernel=poly;, score=0.721 total time=   0.1s\n",
      "[CV 1/5] END C=0.46415888336127775, degree=2, kernel=rbf;, score=0.536 total time=   0.1s\n",
      "[CV 2/5] END C=0.46415888336127775, degree=2, kernel=rbf;, score=0.782 total time=   0.1s\n",
      "[CV 3/5] END C=0.46415888336127775, degree=2, kernel=rbf;, score=0.655 total time=   0.1s\n",
      "[CV 4/5] END C=0.46415888336127775, degree=2, kernel=rbf;, score=0.697 total time=   0.1s\n",
      "[CV 5/5] END C=0.46415888336127775, degree=2, kernel=rbf;, score=0.733 total time=   0.1s\n",
      "[CV 1/5] END C=0.46415888336127775, degree=2, kernel=linear;, score=0.638 total time=   0.1s\n",
      "[CV 2/5] END C=0.46415888336127775, degree=2, kernel=linear;, score=0.727 total time=   0.1s\n",
      "[CV 3/5] END C=0.46415888336127775, degree=2, kernel=linear;, score=0.679 total time=   0.1s\n",
      "[CV 4/5] END C=0.46415888336127775, degree=2, kernel=linear;, score=0.633 total time=   0.1s\n",
      "[CV 5/5] END C=0.46415888336127775, degree=2, kernel=linear;, score=0.708 total time=   0.1s\n",
      "[CV 1/5] END C=0.46415888336127775, degree=2, kernel=poly;, score=0.562 total time=   0.1s\n",
      "[CV 2/5] END C=0.46415888336127775, degree=2, kernel=poly;, score=0.761 total time=   0.1s\n",
      "[CV 3/5] END C=0.46415888336127775, degree=2, kernel=poly;, score=0.657 total time=   0.1s\n",
      "[CV 4/5] END C=0.46415888336127775, degree=2, kernel=poly;, score=0.708 total time=   0.1s\n",
      "[CV 5/5] END C=0.46415888336127775, degree=2, kernel=poly;, score=0.728 total time=   0.1s\n",
      "[CV 1/5] END C=0.46415888336127775, degree=3, kernel=rbf;, score=0.536 total time=   0.1s\n",
      "[CV 2/5] END C=0.46415888336127775, degree=3, kernel=rbf;, score=0.782 total time=   0.1s\n",
      "[CV 3/5] END C=0.46415888336127775, degree=3, kernel=rbf;, score=0.655 total time=   0.1s\n",
      "[CV 4/5] END C=0.46415888336127775, degree=3, kernel=rbf;, score=0.697 total time=   0.1s\n",
      "[CV 5/5] END C=0.46415888336127775, degree=3, kernel=rbf;, score=0.733 total time=   0.1s\n",
      "[CV 1/5] END C=0.46415888336127775, degree=3, kernel=linear;, score=0.638 total time=   0.1s\n",
      "[CV 2/5] END C=0.46415888336127775, degree=3, kernel=linear;, score=0.727 total time=   0.1s\n",
      "[CV 3/5] END C=0.46415888336127775, degree=3, kernel=linear;, score=0.679 total time=   0.1s\n",
      "[CV 4/5] END C=0.46415888336127775, degree=3, kernel=linear;, score=0.633 total time=   0.1s\n",
      "[CV 5/5] END C=0.46415888336127775, degree=3, kernel=linear;, score=0.708 total time=   0.1s\n",
      "[CV 1/5] END C=0.46415888336127775, degree=3, kernel=poly;, score=0.580 total time=   0.1s\n",
      "[CV 2/5] END C=0.46415888336127775, degree=3, kernel=poly;, score=0.805 total time=   0.1s\n",
      "[CV 3/5] END C=0.46415888336127775, degree=3, kernel=poly;, score=0.643 total time=   0.1s\n",
      "[CV 4/5] END C=0.46415888336127775, degree=3, kernel=poly;, score=0.670 total time=   0.1s\n",
      "[CV 5/5] END C=0.46415888336127775, degree=3, kernel=poly;, score=0.722 total time=   0.1s\n",
      "[CV 1/5] END .......C=1.0, degree=2, kernel=rbf;, score=0.564 total time=   0.1s\n",
      "[CV 2/5] END .......C=1.0, degree=2, kernel=rbf;, score=0.787 total time=   0.1s\n",
      "[CV 3/5] END .......C=1.0, degree=2, kernel=rbf;, score=0.657 total time=   0.1s\n",
      "[CV 4/5] END .......C=1.0, degree=2, kernel=rbf;, score=0.686 total time=   0.1s\n",
      "[CV 5/5] END .......C=1.0, degree=2, kernel=rbf;, score=0.747 total time=   0.1s\n",
      "[CV 1/5] END ....C=1.0, degree=2, kernel=linear;, score=0.638 total time=   0.1s\n",
      "[CV 2/5] END ....C=1.0, degree=2, kernel=linear;, score=0.727 total time=   0.1s\n",
      "[CV 3/5] END ....C=1.0, degree=2, kernel=linear;, score=0.679 total time=   0.1s\n",
      "[CV 4/5] END ....C=1.0, degree=2, kernel=linear;, score=0.633 total time=   0.1s\n",
      "[CV 5/5] END ....C=1.0, degree=2, kernel=linear;, score=0.708 total time=   0.1s\n",
      "[CV 1/5] END ......C=1.0, degree=2, kernel=poly;, score=0.589 total time=   0.1s\n",
      "[CV 2/5] END ......C=1.0, degree=2, kernel=poly;, score=0.775 total time=   0.1s\n",
      "[CV 3/5] END ......C=1.0, degree=2, kernel=poly;, score=0.651 total time=   0.1s\n",
      "[CV 4/5] END ......C=1.0, degree=2, kernel=poly;, score=0.675 total time=   0.1s\n",
      "[CV 5/5] END ......C=1.0, degree=2, kernel=poly;, score=0.718 total time=   0.1s\n",
      "[CV 1/5] END .......C=1.0, degree=3, kernel=rbf;, score=0.564 total time=   0.1s\n",
      "[CV 2/5] END .......C=1.0, degree=3, kernel=rbf;, score=0.787 total time=   0.1s\n",
      "[CV 3/5] END .......C=1.0, degree=3, kernel=rbf;, score=0.657 total time=   0.1s\n",
      "[CV 4/5] END .......C=1.0, degree=3, kernel=rbf;, score=0.686 total time=   0.1s\n",
      "[CV 5/5] END .......C=1.0, degree=3, kernel=rbf;, score=0.747 total time=   0.1s\n",
      "[CV 1/5] END ....C=1.0, degree=3, kernel=linear;, score=0.638 total time=   0.1s\n",
      "[CV 2/5] END ....C=1.0, degree=3, kernel=linear;, score=0.727 total time=   0.1s\n",
      "[CV 3/5] END ....C=1.0, degree=3, kernel=linear;, score=0.679 total time=   0.1s\n",
      "[CV 4/5] END ....C=1.0, degree=3, kernel=linear;, score=0.633 total time=   0.1s\n",
      "[CV 5/5] END ....C=1.0, degree=3, kernel=linear;, score=0.708 total time=   0.1s\n",
      "[CV 1/5] END ......C=1.0, degree=3, kernel=poly;, score=0.589 total time=   0.1s\n",
      "[CV 2/5] END ......C=1.0, degree=3, kernel=poly;, score=0.799 total time=   0.1s\n",
      "[CV 3/5] END ......C=1.0, degree=3, kernel=poly;, score=0.635 total time=   0.1s\n",
      "[CV 4/5] END ......C=1.0, degree=3, kernel=poly;, score=0.671 total time=   0.1s\n",
      "[CV 5/5] END ......C=1.0, degree=3, kernel=poly;, score=0.722 total time=   0.1s\n",
      "[CV 1/5] END C=2.154434690031882, degree=2, kernel=rbf;, score=0.574 total time=   0.1s\n",
      "[CV 2/5] END C=2.154434690031882, degree=2, kernel=rbf;, score=0.798 total time=   0.1s\n",
      "[CV 3/5] END C=2.154434690031882, degree=2, kernel=rbf;, score=0.645 total time=   0.1s\n",
      "[CV 4/5] END C=2.154434690031882, degree=2, kernel=rbf;, score=0.673 total time=   0.1s\n",
      "[CV 5/5] END C=2.154434690031882, degree=2, kernel=rbf;, score=0.740 total time=   0.1s\n",
      "[CV 1/5] END C=2.154434690031882, degree=2, kernel=linear;, score=0.638 total time=   0.1s\n",
      "[CV 2/5] END C=2.154434690031882, degree=2, kernel=linear;, score=0.727 total time=   0.1s\n",
      "[CV 3/5] END C=2.154434690031882, degree=2, kernel=linear;, score=0.679 total time=   0.1s\n",
      "[CV 4/5] END C=2.154434690031882, degree=2, kernel=linear;, score=0.633 total time=   0.1s\n",
      "[CV 5/5] END C=2.154434690031882, degree=2, kernel=linear;, score=0.708 total time=   0.1s\n",
      "[CV 1/5] END C=2.154434690031882, degree=2, kernel=poly;, score=0.604 total time=   0.1s\n",
      "[CV 2/5] END C=2.154434690031882, degree=2, kernel=poly;, score=0.772 total time=   0.1s\n",
      "[CV 3/5] END C=2.154434690031882, degree=2, kernel=poly;, score=0.640 total time=   0.1s\n",
      "[CV 4/5] END C=2.154434690031882, degree=2, kernel=poly;, score=0.674 total time=   0.1s\n",
      "[CV 5/5] END C=2.154434690031882, degree=2, kernel=poly;, score=0.710 total time=   0.1s\n",
      "[CV 1/5] END C=2.154434690031882, degree=3, kernel=rbf;, score=0.574 total time=   0.1s\n",
      "[CV 2/5] END C=2.154434690031882, degree=3, kernel=rbf;, score=0.798 total time=   0.1s\n",
      "[CV 3/5] END C=2.154434690031882, degree=3, kernel=rbf;, score=0.645 total time=   0.1s\n",
      "[CV 4/5] END C=2.154434690031882, degree=3, kernel=rbf;, score=0.673 total time=   0.1s\n",
      "[CV 5/5] END C=2.154434690031882, degree=3, kernel=rbf;, score=0.740 total time=   0.1s\n",
      "[CV 1/5] END C=2.154434690031882, degree=3, kernel=linear;, score=0.638 total time=   0.1s\n",
      "[CV 2/5] END C=2.154434690031882, degree=3, kernel=linear;, score=0.727 total time=   0.1s\n",
      "[CV 3/5] END C=2.154434690031882, degree=3, kernel=linear;, score=0.679 total time=   0.1s\n",
      "[CV 4/5] END C=2.154434690031882, degree=3, kernel=linear;, score=0.633 total time=   0.1s\n",
      "[CV 5/5] END C=2.154434690031882, degree=3, kernel=linear;, score=0.708 total time=   0.1s\n",
      "[CV 1/5] END C=2.154434690031882, degree=3, kernel=poly;, score=0.589 total time=   0.1s\n",
      "[CV 2/5] END C=2.154434690031882, degree=3, kernel=poly;, score=0.799 total time=   0.1s\n",
      "[CV 3/5] END C=2.154434690031882, degree=3, kernel=poly;, score=0.635 total time=   0.1s\n",
      "[CV 4/5] END C=2.154434690031882, degree=3, kernel=poly;, score=0.671 total time=   0.1s\n",
      "[CV 5/5] END C=2.154434690031882, degree=3, kernel=poly;, score=0.722 total time=   0.1s\n",
      "[CV 1/5] END C=4.6415888336127775, degree=2, kernel=rbf;, score=0.580 total time=   0.1s\n",
      "[CV 2/5] END C=4.6415888336127775, degree=2, kernel=rbf;, score=0.795 total time=   0.1s\n",
      "[CV 3/5] END C=4.6415888336127775, degree=2, kernel=rbf;, score=0.633 total time=   0.1s\n",
      "[CV 4/5] END C=4.6415888336127775, degree=2, kernel=rbf;, score=0.671 total time=   0.1s\n",
      "[CV 5/5] END C=4.6415888336127775, degree=2, kernel=rbf;, score=0.735 total time=   0.1s\n",
      "[CV 1/5] END C=4.6415888336127775, degree=2, kernel=linear;, score=0.638 total time=   0.1s\n",
      "[CV 2/5] END C=4.6415888336127775, degree=2, kernel=linear;, score=0.727 total time=   0.1s\n",
      "[CV 3/5] END C=4.6415888336127775, degree=2, kernel=linear;, score=0.679 total time=   0.1s\n",
      "[CV 4/5] END C=4.6415888336127775, degree=2, kernel=linear;, score=0.633 total time=   0.1s\n",
      "[CV 5/5] END C=4.6415888336127775, degree=2, kernel=linear;, score=0.708 total time=   0.1s\n",
      "[CV 1/5] END C=4.6415888336127775, degree=2, kernel=poly;, score=0.604 total time=   0.1s\n",
      "[CV 2/5] END C=4.6415888336127775, degree=2, kernel=poly;, score=0.772 total time=   0.1s\n",
      "[CV 3/5] END C=4.6415888336127775, degree=2, kernel=poly;, score=0.640 total time=   0.1s\n",
      "[CV 4/5] END C=4.6415888336127775, degree=2, kernel=poly;, score=0.674 total time=   0.1s\n",
      "[CV 5/5] END C=4.6415888336127775, degree=2, kernel=poly;, score=0.710 total time=   0.1s\n",
      "[CV 1/5] END C=4.6415888336127775, degree=3, kernel=rbf;, score=0.580 total time=   0.1s\n",
      "[CV 2/5] END C=4.6415888336127775, degree=3, kernel=rbf;, score=0.795 total time=   0.1s\n",
      "[CV 3/5] END C=4.6415888336127775, degree=3, kernel=rbf;, score=0.633 total time=   0.1s\n",
      "[CV 4/5] END C=4.6415888336127775, degree=3, kernel=rbf;, score=0.671 total time=   0.1s\n",
      "[CV 5/5] END C=4.6415888336127775, degree=3, kernel=rbf;, score=0.735 total time=   0.1s\n",
      "[CV 1/5] END C=4.6415888336127775, degree=3, kernel=linear;, score=0.638 total time=   0.1s\n",
      "[CV 2/5] END C=4.6415888336127775, degree=3, kernel=linear;, score=0.727 total time=   0.1s\n",
      "[CV 3/5] END C=4.6415888336127775, degree=3, kernel=linear;, score=0.679 total time=   0.1s\n",
      "[CV 4/5] END C=4.6415888336127775, degree=3, kernel=linear;, score=0.633 total time=   0.1s\n",
      "[CV 5/5] END C=4.6415888336127775, degree=3, kernel=linear;, score=0.708 total time=   0.1s\n",
      "[CV 1/5] END C=4.6415888336127775, degree=3, kernel=poly;, score=0.589 total time=   0.1s\n",
      "[CV 2/5] END C=4.6415888336127775, degree=3, kernel=poly;, score=0.799 total time=   0.1s\n",
      "[CV 3/5] END C=4.6415888336127775, degree=3, kernel=poly;, score=0.635 total time=   0.1s\n",
      "[CV 4/5] END C=4.6415888336127775, degree=3, kernel=poly;, score=0.671 total time=   0.1s\n",
      "[CV 5/5] END C=4.6415888336127775, degree=3, kernel=poly;, score=0.722 total time=   0.1s\n",
      "[CV 1/5] END ......C=10.0, degree=2, kernel=rbf;, score=0.580 total time=   0.1s\n",
      "[CV 2/5] END ......C=10.0, degree=2, kernel=rbf;, score=0.795 total time=   0.1s\n",
      "[CV 3/5] END ......C=10.0, degree=2, kernel=rbf;, score=0.633 total time=   0.1s\n",
      "[CV 4/5] END ......C=10.0, degree=2, kernel=rbf;, score=0.671 total time=   0.1s\n",
      "[CV 5/5] END ......C=10.0, degree=2, kernel=rbf;, score=0.735 total time=   0.1s\n",
      "[CV 1/5] END ...C=10.0, degree=2, kernel=linear;, score=0.638 total time=   0.1s\n",
      "[CV 2/5] END ...C=10.0, degree=2, kernel=linear;, score=0.727 total time=   0.1s\n",
      "[CV 3/5] END ...C=10.0, degree=2, kernel=linear;, score=0.679 total time=   0.1s\n",
      "[CV 4/5] END ...C=10.0, degree=2, kernel=linear;, score=0.633 total time=   0.1s\n",
      "[CV 5/5] END ...C=10.0, degree=2, kernel=linear;, score=0.708 total time=   0.1s\n",
      "[CV 1/5] END .....C=10.0, degree=2, kernel=poly;, score=0.604 total time=   0.1s\n",
      "[CV 2/5] END .....C=10.0, degree=2, kernel=poly;, score=0.772 total time=   0.1s\n",
      "[CV 3/5] END .....C=10.0, degree=2, kernel=poly;, score=0.640 total time=   0.1s\n",
      "[CV 4/5] END .....C=10.0, degree=2, kernel=poly;, score=0.674 total time=   0.1s\n",
      "[CV 5/5] END .....C=10.0, degree=2, kernel=poly;, score=0.710 total time=   0.1s\n",
      "[CV 1/5] END ......C=10.0, degree=3, kernel=rbf;, score=0.580 total time=   0.1s\n",
      "[CV 2/5] END ......C=10.0, degree=3, kernel=rbf;, score=0.795 total time=   0.1s\n",
      "[CV 3/5] END ......C=10.0, degree=3, kernel=rbf;, score=0.633 total time=   0.1s\n",
      "[CV 4/5] END ......C=10.0, degree=3, kernel=rbf;, score=0.671 total time=   0.1s\n",
      "[CV 5/5] END ......C=10.0, degree=3, kernel=rbf;, score=0.735 total time=   0.1s\n",
      "[CV 1/5] END ...C=10.0, degree=3, kernel=linear;, score=0.638 total time=   0.1s\n",
      "[CV 2/5] END ...C=10.0, degree=3, kernel=linear;, score=0.727 total time=   0.1s\n",
      "[CV 3/5] END ...C=10.0, degree=3, kernel=linear;, score=0.679 total time=   0.1s\n",
      "[CV 4/5] END ...C=10.0, degree=3, kernel=linear;, score=0.633 total time=   0.1s\n",
      "[CV 5/5] END ...C=10.0, degree=3, kernel=linear;, score=0.708 total time=   0.1s\n",
      "[CV 1/5] END .....C=10.0, degree=3, kernel=poly;, score=0.589 total time=   0.1s\n",
      "[CV 2/5] END .....C=10.0, degree=3, kernel=poly;, score=0.799 total time=   0.1s\n",
      "[CV 3/5] END .....C=10.0, degree=3, kernel=poly;, score=0.635 total time=   0.1s\n",
      "[CV 4/5] END .....C=10.0, degree=3, kernel=poly;, score=0.671 total time=   0.1s\n",
      "[CV 5/5] END .....C=10.0, degree=3, kernel=poly;, score=0.722 total time=   0.1s\n",
      "{'C': 1.0, 'degree': 2, 'kernel': 'rbf'}\n",
      "cv score: 0.6881235431235432, test_score: 0.6234465617232808\n"
     ]
    }
   ],
   "source": [
    "from sklearn.svm import SVC\n",
    "svc_param_grid = {\"C\": np.logspace(-2, 1, 10), \"kernel\": [\"rbf\", \"linear\", \"poly\"], \"degree\": [2, 3]}\n",
    "svc_grid_cv = GridSearchCV(estimator=SVC(probability=True), param_grid=svc_param_grid, verbose=3,\n",
    "                           scoring=\"roc_auc\", cv=cv).fit(X_train, y_train)\n",
    "print(svc_grid_cv.best_params_)\n",
    "clf = SVC(probability=True,  **svc_grid_cv.best_params_)\n",
    "svc_cv_score = np.mean(cross_val_score(clf, X_train, y_train, scoring=\"roc_auc\", cv=cv))\n",
    "clf.fit(X_train, y_train)\n",
    "svc_test_score = roc_auc_score(y_test, clf.predict_proba(X_test)[:, 1])\n",
    "print(f\"cv score: {svc_cv_score}, test_score: {svc_test_score}\")"
   ],
   "metadata": {
    "collapsed": false,
    "pycharm": {
     "name": "#%%\n"
    }
   }
  },
  {
   "cell_type": "markdown",
   "source": [
    "### BNN"
   ],
   "metadata": {
    "collapsed": false,
    "pycharm": {
     "name": "#%% md\n"
    }
   }
  },
  {
   "cell_type": "code",
   "execution_count": 21,
   "outputs": [],
   "source": [
    "from sklearn_genetic.space import Categorical, Integer, Continuous\n",
    "from sklearn_genetic import GASearchCV\n",
    "gamma_params = Continuous(0, 10., distribution=\"uniform\")\n",
    "sigmas = Continuous(0., 10, distribution=\"uniform\")\n",
    "temps = Continuous(0., 10, distribution=\"uniform\")\n",
    "param_grid = {\"eta\": gamma_params, \"mu\": gamma_params, \"temp\": temps,\n",
    "              \"sigma\": sigmas}"
   ],
   "metadata": {
    "collapsed": false,
    "pycharm": {
     "name": "#%%\n"
    }
   }
  },
  {
   "cell_type": "code",
   "execution_count": 22,
   "outputs": [
    {
     "data": {
      "text/plain": "  0%|          | 0/4 [00:00<?, ?it/s]",
      "application/vnd.jupyter.widget-view+json": {
       "version_major": 2,
       "version_minor": 0,
       "model_id": "d079b5161bd94e2ea7d7c5417450b057"
      }
     },
     "metadata": {},
     "output_type": "display_data"
    },
    {
     "name": "stderr",
     "output_type": "stream",
     "text": [
      "/usr/local/lib/python3.9/dist-packages/jax/_src/numpy/lax_numpy.py:3326: UserWarning: 'kind' argument to argsort is ignored; only 'stable' sorts are supported.\n",
      "  warnings.warn(\"'kind' argument to argsort is ignored; only 'stable' sorts \"\n"
     ]
    },
    {
     "name": "stdout",
     "output_type": "stream",
     "text": [
      "gen\tnevals\tfitness \tfitness_std\tfitness_max\tfitness_min\n",
      "0  \t10    \t0.607591\t0.0726662  \t0.677481   \t0.458901   \n",
      "1  \t20    \t0.663184\t0.0138455  \t0.677481   \t0.637073   \n",
      "2  \t20    \t0.673766\t0.00554944 \t0.681845   \t0.6635     \n",
      "3  \t20    \t0.677093\t0.00604429 \t0.683225   \t0.6635     \n"
     ]
    }
   ],
   "source": [
    "%autoreload\n",
    "from sgmcmc import MixedSGMCMC\n",
    "from sklearn_genetic.callbacks import ProgressBar\n",
    "from sklearn_genetic.callbacks import DeltaThreshold, TimerStopping\n",
    "delta_callback = DeltaThreshold(threshold=0.001, generations=2, metric='fitness')\n",
    "timer_callback = TimerStopping(total_seconds=3600)\n",
    "progres_callback = ProgressBar()\n",
    "mixed_sgmcmc = MixedSGMCMC(seed=seed, n_samples=2000, n_chains=1, disc_lr=1e-1, layer_dims=[350],\n",
    "                           lr_schedule=\"cyclical\", batch_size=20, cycle_len=10)\n",
    "evolved_grid_cv = GASearchCV(estimator=mixed_sgmcmc, cv=cv,\n",
    "                             param_grid=param_grid, verbose=True, population_size=10, generations=3).fit(X_train, y_train, callbacks=[progres_callback, delta_callback, timer_callback],  J=J, activation_fns=[\"tanh\"])"
   ],
   "metadata": {
    "collapsed": false,
    "pycharm": {
     "name": "#%%\n"
    }
   }
  },
  {
   "cell_type": "code",
   "execution_count": 23,
   "outputs": [
    {
     "data": {
      "text/plain": "{'eta': 5.481751028713134,\n 'mu': 6.072047578454063,\n 'temp': 8.402038527687969,\n 'sigma': 0.11192487201077794}"
     },
     "execution_count": 23,
     "metadata": {},
     "output_type": "execute_result"
    }
   ],
   "source": [
    "evolved_grid_cv.best_params_"
   ],
   "metadata": {
    "collapsed": false,
    "pycharm": {
     "name": "#%%\n"
    }
   }
  },
  {
   "cell_type": "code",
   "execution_count": 16,
   "outputs": [],
   "source": [
    "sgmcmc_best_params = {'eta': 5.481751028713134,\n",
    "                      'mu': 6.072047578454063,\n",
    "                      'temp': 8.402038527687969,\n",
    "                      'sigma': 0.11192487201077794}"
   ],
   "metadata": {
    "collapsed": false,
    "pycharm": {
     "name": "#%%\n"
    }
   }
  },
  {
   "cell_type": "code",
   "execution_count": 24,
   "outputs": [
    {
     "name": "stderr",
     "output_type": "stream",
     "text": [
      "/usr/local/lib/python3.9/dist-packages/jax/_src/numpy/lax_numpy.py:3326: UserWarning: 'kind' argument to argsort is ignored; only 'stable' sorts are supported.\n",
      "  warnings.warn(\"'kind' argument to argsort is ignored; only 'stable' sorts \"\n"
     ]
    },
    {
     "name": "stdout",
     "output_type": "stream",
     "text": [
      "0.6816472163605031\n"
     ]
    },
    {
     "data": {
      "text/plain": "0.646644547777659"
     },
     "execution_count": 24,
     "metadata": {},
     "output_type": "execute_result"
    }
   ],
   "source": [
    "mixed_sgmcmc = MixedSGMCMC(seed=seed, lr_schedule=\"cyclical\", n_samples=2000, n_chains=1, disc_lr=1e-1, contin_lr=1e-5,\n",
    "                           batch_size=20, layer_dims=[350], cycle_len=10, **sgmcmc_best_params)\n",
    "\n",
    "cv_score = cross_val_score(mixed_sgmcmc, X_train, y_train, cv=cv, fit_params={\"J\": J, \"activation_fns\": [\"tanh\"]})\n",
    "print(np.mean(cv_score))\n",
    "mixed_sgmcmc.fit(X_train, y_train, J=J, activation_fns=[\"tanh\"])\n",
    "mixed_sgmcmc.score(X_test, y_test)"
   ],
   "metadata": {
    "collapsed": false,
    "pycharm": {
     "name": "#%%\n"
    }
   }
  },
  {
   "cell_type": "code",
   "execution_count": 17,
   "outputs": [
    {
     "name": "stderr",
     "output_type": "stream",
     "text": [
      "/usr/local/lib/python3.9/dist-packages/jax/_src/numpy/lax_numpy.py:3327: UserWarning: 'kind' argument to argsort is ignored; only 'stable' sorts are supported.\n",
      "  warnings.warn(\"'kind' argument to argsort is ignored; only 'stable' sorts \"\n"
     ]
    },
    {
     "name": "stdout",
     "output_type": "stream",
     "text": [
      "cv score: 0.6816472163605031, test score: 0.646644547777659\n"
     ]
    }
   ],
   "source": [
    "mixed_sgmcmc = MixedSGMCMC(seed=seed, lr_schedule=\"cyclical\", n_samples=2000, n_chains=1, disc_lr=1e-1, contin_lr=1e-5,\n",
    "                           batch_size=20, layer_dims=[350], cycle_len=10, **sgmcmc_best_params)\n",
    "\n",
    "bnn_cv_score = np.mean(cross_val_score(mixed_sgmcmc, X_train, y_train, cv=cv, fit_params={\"J\": J, \"activation_fns\": [\"tanh\"]}))\n",
    "mixed_sgmcmc.fit(X_train, y_train, J=J, activation_fns=[\"tanh\"])\n",
    "bnn_test_score = mixed_sgmcmc.score(X_test, y_test)\n",
    "print(f\"cv score: {bnn_cv_score}, test score: {bnn_test_score}\")"
   ],
   "metadata": {
    "collapsed": false,
    "pycharm": {
     "name": "#%%\n"
    }
   }
  },
  {
   "cell_type": "code",
   "execution_count": 18,
   "outputs": [
    {
     "data": {
      "text/plain": "Text(0, 0.5, 'num features')"
     },
     "execution_count": 18,
     "metadata": {},
     "output_type": "execute_result"
    },
    {
     "data": {
      "text/plain": "<Figure size 432x288 with 1 Axes>",
      "image/png": "[encoded data removed]"
     },
     "metadata": {
      "needs_background": "light"
     },
     "output_type": "display_data"
    }
   ],
   "source": [
    "gamma_means = jnp.mean(mixed_sgmcmc.states_.discrete_position, axis=0)\n",
    "plt.hist(gamma_means)\n",
    "plt.xlabel(\"frequency\")\n",
    "plt.ylabel(\"num features\")"
   ],
   "metadata": {
    "collapsed": false,
    "pycharm": {
     "name": "#%%\n"
    }
   }
  },
  {
   "cell_type": "code",
   "execution_count": 57,
   "outputs": [
    {
     "name": "stdout",
     "output_type": "stream",
     "text": [
      "68\n"
     ]
    },
    {
     "data": {
      "text/plain": "DeviceArray([ 12,  15,  17,  21,  30,  31,  41,  46,  50,  53,  54,  55,\n              56,  57,  74,  86, 100, 101, 106, 109, 131, 134, 136, 138,\n             167, 179, 189, 191, 193, 203, 208, 211, 215, 226, 229, 235,\n             239, 250, 255, 272, 282, 283, 287, 291, 292, 297, 301, 303,\n             304, 307, 313, 318, 329, 330, 356, 374, 393, 394, 403, 432,\n             435, 447, 464, 484, 487, 490, 492, 493], dtype=int32)"
     },
     "execution_count": 57,
     "metadata": {},
     "output_type": "execute_result"
    }
   ],
   "source": [
    "gamma_idx = jnp.argwhere(gamma_means > 0.7).ravel()\n",
    "print(len(gamma_idx))\n",
    "gamma_idx"
   ],
   "metadata": {
    "collapsed": false,
    "pycharm": {
     "name": "#%%\n"
    }
   }
  },
  {
   "cell_type": "code",
   "execution_count": 58,
   "outputs": [],
   "source": [
    "# sel_entrz_id = X_train_sig.iloc[:,gamma_idx].columns.to_list()\n",
    "# with open(f\"{data_dir}/exp_data_4/cancer/sel_entrz_id.txt\", \"w\") as fp:\n",
    "#     for i in sel_entrz_id:\n",
    "#         fp.write(f\"{i}\\n\")"
   ],
   "metadata": {
    "collapsed": false,
    "pycharm": {
     "name": "#%%\n"
    }
   }
  },
  {
   "cell_type": "code",
   "execution_count": 59,
   "outputs": [
    {
     "data": {
      "text/plain": "68"
     },
     "execution_count": 59,
     "metadata": {},
     "output_type": "execute_result"
    }
   ],
   "source": [
    "sel_entrz_id = []\n",
    "\n",
    "with open(f\"{data_dir}/exp_data_4/cancer/sel_entrz_id.txt\", \"r\") as fp:\n",
    "    for line in fp.readlines():\n",
    "        sel_entrz_id.append(line.strip())\n",
    "\n",
    "len(sel_entrz_id)"
   ],
   "metadata": {
    "collapsed": false,
    "pycharm": {
     "name": "#%%\n"
    }
   }
  },
  {
   "cell_type": "markdown",
   "source": [
    "\n",
    "### MOSES Run"
   ],
   "metadata": {
    "collapsed": false,
    "pycharm": {
     "name": "#%% md\n"
    }
   }
  },
  {
   "cell_type": "code",
   "execution_count": 60,
   "outputs": [
    {
     "data": {
      "text/plain": "(449, 68)"
     },
     "execution_count": 60,
     "metadata": {},
     "output_type": "execute_result"
    }
   ],
   "source": [
    "X_train_sel, X_test_sel = X_train_df.loc[:, sel_entrz_id], X_test_df.loc[:, sel_entrz_id]\n",
    "X_train_sel.shape"
   ],
   "metadata": {
    "collapsed": false,
    "pycharm": {
     "name": "#%%\n"
    }
   }
  },
  {
   "cell_type": "code",
   "execution_count": 72,
   "outputs": [
    {
     "name": "stdout",
     "output_type": "stream",
     "text": [
      "Fitting 5 folds for each of 200 candidates, totalling 1000 fits\n",
      "[CV 1/5] END complexity_ratio=1.0, complexity_temp=10.0, diversity_pressure=0.0, hc_fraction_nn=0.01;, score=0.566 total time=   3.9s\n",
      "[CV 2/5] END complexity_ratio=1.0, complexity_temp=10.0, diversity_pressure=0.0, hc_fraction_nn=0.01;, score=0.590 total time=   3.8s\n",
      "[CV 3/5] END complexity_ratio=1.0, complexity_temp=10.0, diversity_pressure=0.0, hc_fraction_nn=0.01;, score=0.570 total time=   4.2s\n",
      "[CV 4/5] END complexity_ratio=1.0, complexity_temp=10.0, diversity_pressure=0.0, hc_fraction_nn=0.01;, score=0.606 total time=   5.6s\n",
      "[CV 5/5] END complexity_ratio=1.0, complexity_temp=10.0, diversity_pressure=0.0, hc_fraction_nn=0.01;, score=0.586 total time=   5.1s\n",
      "[CV 1/5] END complexity_ratio=1.0, complexity_temp=10.0, diversity_pressure=0.0, hc_fraction_nn=0.1;, score=0.627 total time=   1.5s\n",
      "[CV 2/5] END complexity_ratio=1.0, complexity_temp=10.0, diversity_pressure=0.0, hc_fraction_nn=0.1;, score=0.600 total time=   1.5s\n",
      "[CV 3/5] END complexity_ratio=1.0, complexity_temp=10.0, diversity_pressure=0.0, hc_fraction_nn=0.1;, score=0.515 total time=   1.5s\n",
      "[CV 4/5] END complexity_ratio=1.0, complexity_temp=10.0, diversity_pressure=0.0, hc_fraction_nn=0.1;, score=0.626 total time=   1.9s\n",
      "[CV 5/5] END complexity_ratio=1.0, complexity_temp=10.0, diversity_pressure=0.0, hc_fraction_nn=0.1;, score=0.606 total time=   2.5s\n",
      "[CV 1/5] END complexity_ratio=1.0, complexity_temp=10.0, diversity_pressure=0.3, hc_fraction_nn=0.01;, score=0.630 total time=   5.6s\n",
      "[CV 2/5] END complexity_ratio=1.0, complexity_temp=10.0, diversity_pressure=0.3, hc_fraction_nn=0.01;, score=0.596 total time=   4.3s\n",
      "[CV 3/5] END complexity_ratio=1.0, complexity_temp=10.0, diversity_pressure=0.3, hc_fraction_nn=0.01;, score=0.496 total time=   8.2s\n",
      "[CV 4/5] END complexity_ratio=1.0, complexity_temp=10.0, diversity_pressure=0.3, hc_fraction_nn=0.01;, score=0.557 total time=   8.8s\n",
      "[CV 5/5] END complexity_ratio=1.0, complexity_temp=10.0, diversity_pressure=0.3, hc_fraction_nn=0.01;, score=0.708 total time=   7.4s\n",
      "[CV 1/5] END complexity_ratio=1.0, complexity_temp=10.0, diversity_pressure=0.3, hc_fraction_nn=0.1;, score=0.651 total time=   2.6s\n",
      "[CV 2/5] END complexity_ratio=1.0, complexity_temp=10.0, diversity_pressure=0.3, hc_fraction_nn=0.1;, score=0.600 total time=   1.7s\n",
      "[CV 3/5] END complexity_ratio=1.0, complexity_temp=10.0, diversity_pressure=0.3, hc_fraction_nn=0.1;, score=0.515 total time=   1.5s\n",
      "[CV 4/5] END complexity_ratio=1.0, complexity_temp=10.0, diversity_pressure=0.3, hc_fraction_nn=0.1;, score=0.626 total time=   1.8s\n",
      "[CV 5/5] END complexity_ratio=1.0, complexity_temp=10.0, diversity_pressure=0.3, hc_fraction_nn=0.1;, score=0.606 total time=   2.7s\n",
      "[CV 1/5] END complexity_ratio=1.0, complexity_temp=10.0, diversity_pressure=0.6, hc_fraction_nn=0.01;, score=0.626 total time=   3.0s\n",
      "[CV 2/5] END complexity_ratio=1.0, complexity_temp=10.0, diversity_pressure=0.6, hc_fraction_nn=0.01;, score=0.591 total time=   4.1s\n",
      "[CV 3/5] END complexity_ratio=1.0, complexity_temp=10.0, diversity_pressure=0.6, hc_fraction_nn=0.01;, score=0.490 total time=   6.7s\n",
      "[CV 4/5] END complexity_ratio=1.0, complexity_temp=10.0, diversity_pressure=0.6, hc_fraction_nn=0.01;, score=0.574 total time=   8.8s\n",
      "[CV 5/5] END complexity_ratio=1.0, complexity_temp=10.0, diversity_pressure=0.6, hc_fraction_nn=0.01;, score=0.660 total time=   5.4s\n",
      "[CV 1/5] END complexity_ratio=1.0, complexity_temp=10.0, diversity_pressure=0.6, hc_fraction_nn=0.1;, score=0.599 total time=   2.6s\n",
      "[CV 2/5] END complexity_ratio=1.0, complexity_temp=10.0, diversity_pressure=0.6, hc_fraction_nn=0.1;, score=0.600 total time=   1.6s\n",
      "[CV 3/5] END complexity_ratio=1.0, complexity_temp=10.0, diversity_pressure=0.6, hc_fraction_nn=0.1;, score=0.515 total time=   1.5s\n",
      "[CV 4/5] END complexity_ratio=1.0, complexity_temp=10.0, diversity_pressure=0.6, hc_fraction_nn=0.1;, score=0.626 total time=   1.8s\n",
      "[CV 5/5] END complexity_ratio=1.0, complexity_temp=10.0, diversity_pressure=0.6, hc_fraction_nn=0.1;, score=0.606 total time=   2.4s\n",
      "[CV 1/5] END complexity_ratio=1.0, complexity_temp=10.0, diversity_pressure=0.9, hc_fraction_nn=0.01;, score=0.539 total time=   3.1s\n",
      "[CV 2/5] END complexity_ratio=1.0, complexity_temp=10.0, diversity_pressure=0.9, hc_fraction_nn=0.01;, score=0.568 total time=   4.5s\n",
      "[CV 3/5] END complexity_ratio=1.0, complexity_temp=10.0, diversity_pressure=0.9, hc_fraction_nn=0.01;, score=0.528 total time=   3.3s\n",
      "[CV 4/5] END complexity_ratio=1.0, complexity_temp=10.0, diversity_pressure=0.9, hc_fraction_nn=0.01;, score=0.536 total time=   3.9s\n",
      "[CV 5/5] END complexity_ratio=1.0, complexity_temp=10.0, diversity_pressure=0.9, hc_fraction_nn=0.01;, score=0.643 total time=   5.2s\n",
      "[CV 1/5] END complexity_ratio=1.0, complexity_temp=10.0, diversity_pressure=0.9, hc_fraction_nn=0.1;, score=0.613 total time=   2.5s\n",
      "[CV 2/5] END complexity_ratio=1.0, complexity_temp=10.0, diversity_pressure=0.9, hc_fraction_nn=0.1;, score=0.600 total time=   1.5s\n",
      "[CV 3/5] END complexity_ratio=1.0, complexity_temp=10.0, diversity_pressure=0.9, hc_fraction_nn=0.1;, score=0.515 total time=   1.4s\n",
      "[CV 4/5] END complexity_ratio=1.0, complexity_temp=10.0, diversity_pressure=0.9, hc_fraction_nn=0.1;, score=0.626 total time=   1.8s\n",
      "[CV 5/5] END complexity_ratio=1.0, complexity_temp=10.0, diversity_pressure=0.9, hc_fraction_nn=0.1;, score=0.606 total time=   2.6s\n",
      "[CV 1/5] END complexity_ratio=1.0, complexity_temp=31.622776601683793, diversity_pressure=0.0, hc_fraction_nn=0.01;, score=0.566 total time=   3.2s\n",
      "[CV 2/5] END complexity_ratio=1.0, complexity_temp=31.622776601683793, diversity_pressure=0.0, hc_fraction_nn=0.01;, score=0.590 total time=   3.6s\n",
      "[CV 3/5] END complexity_ratio=1.0, complexity_temp=31.622776601683793, diversity_pressure=0.0, hc_fraction_nn=0.01;, score=0.570 total time=   3.6s\n",
      "[CV 4/5] END complexity_ratio=1.0, complexity_temp=31.622776601683793, diversity_pressure=0.0, hc_fraction_nn=0.01;, score=0.606 total time=   5.5s\n",
      "[CV 5/5] END complexity_ratio=1.0, complexity_temp=31.622776601683793, diversity_pressure=0.0, hc_fraction_nn=0.01;, score=0.586 total time=   4.8s\n",
      "[CV 1/5] END complexity_ratio=1.0, complexity_temp=31.622776601683793, diversity_pressure=0.0, hc_fraction_nn=0.1;, score=0.623 total time=   2.6s\n",
      "[CV 2/5] END complexity_ratio=1.0, complexity_temp=31.622776601683793, diversity_pressure=0.0, hc_fraction_nn=0.1;, score=0.597 total time=   2.6s\n",
      "[CV 3/5] END complexity_ratio=1.0, complexity_temp=31.622776601683793, diversity_pressure=0.0, hc_fraction_nn=0.1;, score=0.584 total time=   2.9s\n",
      "[CV 4/5] END complexity_ratio=1.0, complexity_temp=31.622776601683793, diversity_pressure=0.0, hc_fraction_nn=0.1;, score=0.604 total time=   3.3s\n",
      "[CV 5/5] END complexity_ratio=1.0, complexity_temp=31.622776601683793, diversity_pressure=0.0, hc_fraction_nn=0.1;, score=0.605 total time=   3.3s\n",
      "[CV 1/5] END complexity_ratio=1.0, complexity_temp=31.622776601683793, diversity_pressure=0.3, hc_fraction_nn=0.01;, score=0.630 total time=   5.9s\n",
      "[CV 2/5] END complexity_ratio=1.0, complexity_temp=31.622776601683793, diversity_pressure=0.3, hc_fraction_nn=0.01;, score=0.596 total time=   4.2s\n",
      "[CV 3/5] END complexity_ratio=1.0, complexity_temp=31.622776601683793, diversity_pressure=0.3, hc_fraction_nn=0.01;, score=0.495 total time=   7.6s\n",
      "[CV 4/5] END complexity_ratio=1.0, complexity_temp=31.622776601683793, diversity_pressure=0.3, hc_fraction_nn=0.01;, score=0.557 total time=   7.9s\n",
      "[CV 5/5] END complexity_ratio=1.0, complexity_temp=31.622776601683793, diversity_pressure=0.3, hc_fraction_nn=0.01;, score=0.708 total time=   6.8s\n",
      "[CV 1/5] END complexity_ratio=1.0, complexity_temp=31.622776601683793, diversity_pressure=0.3, hc_fraction_nn=0.1;, score=0.598 total time=   2.6s\n",
      "[CV 2/5] END complexity_ratio=1.0, complexity_temp=31.622776601683793, diversity_pressure=0.3, hc_fraction_nn=0.1;, score=0.634 total time=   2.6s\n",
      "[CV 3/5] END complexity_ratio=1.0, complexity_temp=31.622776601683793, diversity_pressure=0.3, hc_fraction_nn=0.1;, score=0.571 total time=   3.3s\n",
      "[CV 4/5] END complexity_ratio=1.0, complexity_temp=31.622776601683793, diversity_pressure=0.3, hc_fraction_nn=0.1;, score=0.585 total time=   3.2s\n",
      "[CV 5/5] END complexity_ratio=1.0, complexity_temp=31.622776601683793, diversity_pressure=0.3, hc_fraction_nn=0.1;, score=0.583 total time=   3.3s\n",
      "[CV 1/5] END complexity_ratio=1.0, complexity_temp=31.622776601683793, diversity_pressure=0.6, hc_fraction_nn=0.01;, score=0.626 total time=   3.0s\n",
      "[CV 2/5] END complexity_ratio=1.0, complexity_temp=31.622776601683793, diversity_pressure=0.6, hc_fraction_nn=0.01;, score=0.591 total time=   4.0s\n",
      "[CV 3/5] END complexity_ratio=1.0, complexity_temp=31.622776601683793, diversity_pressure=0.6, hc_fraction_nn=0.01;, score=0.480 total time=   6.2s\n",
      "[CV 4/5] END complexity_ratio=1.0, complexity_temp=31.622776601683793, diversity_pressure=0.6, hc_fraction_nn=0.01;, score=0.574 total time=   8.5s\n",
      "[CV 5/5] END complexity_ratio=1.0, complexity_temp=31.622776601683793, diversity_pressure=0.6, hc_fraction_nn=0.01;, score=0.660 total time=   5.4s\n",
      "[CV 1/5] END complexity_ratio=1.0, complexity_temp=31.622776601683793, diversity_pressure=0.6, hc_fraction_nn=0.1;, score=0.634 total time=   2.9s\n",
      "[CV 2/5] END complexity_ratio=1.0, complexity_temp=31.622776601683793, diversity_pressure=0.6, hc_fraction_nn=0.1;, score=0.641 total time=   2.7s\n",
      "[CV 3/5] END complexity_ratio=1.0, complexity_temp=31.622776601683793, diversity_pressure=0.6, hc_fraction_nn=0.1;, score=0.574 total time=   3.1s\n",
      "[CV 4/5] END complexity_ratio=1.0, complexity_temp=31.622776601683793, diversity_pressure=0.6, hc_fraction_nn=0.1;, score=0.583 total time=   3.4s\n",
      "[CV 5/5] END complexity_ratio=1.0, complexity_temp=31.622776601683793, diversity_pressure=0.6, hc_fraction_nn=0.1;, score=0.601 total time=   3.3s\n",
      "[CV 1/5] END complexity_ratio=1.0, complexity_temp=31.622776601683793, diversity_pressure=0.9, hc_fraction_nn=0.01;, score=0.602 total time=   3.4s\n",
      "[CV 2/5] END complexity_ratio=1.0, complexity_temp=31.622776601683793, diversity_pressure=0.9, hc_fraction_nn=0.01;, score=0.568 total time=   5.0s\n",
      "[CV 3/5] END complexity_ratio=1.0, complexity_temp=31.622776601683793, diversity_pressure=0.9, hc_fraction_nn=0.01;, score=0.528 total time=   3.6s\n",
      "[CV 4/5] END complexity_ratio=1.0, complexity_temp=31.622776601683793, diversity_pressure=0.9, hc_fraction_nn=0.01;, score=0.542 total time=   4.3s\n",
      "[CV 5/5] END complexity_ratio=1.0, complexity_temp=31.622776601683793, diversity_pressure=0.9, hc_fraction_nn=0.01;, score=0.643 total time=   5.4s\n",
      "[CV 1/5] END complexity_ratio=1.0, complexity_temp=31.622776601683793, diversity_pressure=0.9, hc_fraction_nn=0.1;, score=0.598 total time=   2.8s\n",
      "[CV 2/5] END complexity_ratio=1.0, complexity_temp=31.622776601683793, diversity_pressure=0.9, hc_fraction_nn=0.1;, score=0.641 total time=   2.8s\n",
      "[CV 3/5] END complexity_ratio=1.0, complexity_temp=31.622776601683793, diversity_pressure=0.9, hc_fraction_nn=0.1;, score=0.576 total time=   3.2s\n",
      "[CV 4/5] END complexity_ratio=1.0, complexity_temp=31.622776601683793, diversity_pressure=0.9, hc_fraction_nn=0.1;, score=0.585 total time=   3.4s\n",
      "[CV 5/5] END complexity_ratio=1.0, complexity_temp=31.622776601683793, diversity_pressure=0.9, hc_fraction_nn=0.1;, score=0.601 total time=   3.6s\n",
      "[CV 1/5] END complexity_ratio=1.0, complexity_temp=100.0, diversity_pressure=0.0, hc_fraction_nn=0.01;, score=0.627 total time=   4.5s\n",
      "[CV 2/5] END complexity_ratio=1.0, complexity_temp=100.0, diversity_pressure=0.0, hc_fraction_nn=0.01;, score=0.525 total time=   4.6s\n",
      "[CV 3/5] END complexity_ratio=1.0, complexity_temp=100.0, diversity_pressure=0.0, hc_fraction_nn=0.01;, score=0.544 total time=   4.7s\n",
      "[CV 4/5] END complexity_ratio=1.0, complexity_temp=100.0, diversity_pressure=0.0, hc_fraction_nn=0.01;, score=0.599 total time=   4.1s\n",
      "[CV 5/5] END complexity_ratio=1.0, complexity_temp=100.0, diversity_pressure=0.0, hc_fraction_nn=0.01;, score=0.644 total time=   5.4s\n",
      "[CV 1/5] END complexity_ratio=1.0, complexity_temp=100.0, diversity_pressure=0.0, hc_fraction_nn=0.1;, score=0.622 total time=   3.2s\n",
      "[CV 2/5] END complexity_ratio=1.0, complexity_temp=100.0, diversity_pressure=0.0, hc_fraction_nn=0.1;, score=0.557 total time=   3.2s\n",
      "[CV 3/5] END complexity_ratio=1.0, complexity_temp=100.0, diversity_pressure=0.0, hc_fraction_nn=0.1;, score=0.584 total time=   3.3s\n",
      "[CV 4/5] END complexity_ratio=1.0, complexity_temp=100.0, diversity_pressure=0.0, hc_fraction_nn=0.1;, score=0.604 total time=   3.5s\n",
      "[CV 5/5] END complexity_ratio=1.0, complexity_temp=100.0, diversity_pressure=0.0, hc_fraction_nn=0.1;, score=0.605 total time=   3.4s\n",
      "[CV 1/5] END complexity_ratio=1.0, complexity_temp=100.0, diversity_pressure=0.3, hc_fraction_nn=0.01;, score=0.620 total time=   2.7s\n",
      "[CV 2/5] END complexity_ratio=1.0, complexity_temp=100.0, diversity_pressure=0.3, hc_fraction_nn=0.01;, score=0.596 total time=   3.9s\n",
      "[CV 3/5] END complexity_ratio=1.0, complexity_temp=100.0, diversity_pressure=0.3, hc_fraction_nn=0.01;, score=0.506 total time=   2.4s\n",
      "[CV 4/5] END complexity_ratio=1.0, complexity_temp=100.0, diversity_pressure=0.3, hc_fraction_nn=0.01;, score=0.557 total time=   8.4s\n",
      "[CV 5/5] END complexity_ratio=1.0, complexity_temp=100.0, diversity_pressure=0.3, hc_fraction_nn=0.01;, score=0.708 total time=   7.0s\n",
      "[CV 1/5] END complexity_ratio=1.0, complexity_temp=100.0, diversity_pressure=0.3, hc_fraction_nn=0.1;, score=0.576 total time=   3.0s\n",
      "[CV 2/5] END complexity_ratio=1.0, complexity_temp=100.0, diversity_pressure=0.3, hc_fraction_nn=0.1;, score=0.644 total time=   2.7s\n",
      "[CV 3/5] END complexity_ratio=1.0, complexity_temp=100.0, diversity_pressure=0.3, hc_fraction_nn=0.1;, score=0.551 total time=   3.1s\n",
      "[CV 4/5] END complexity_ratio=1.0, complexity_temp=100.0, diversity_pressure=0.3, hc_fraction_nn=0.1;, score=0.613 total time=   3.5s\n",
      "[CV 5/5] END complexity_ratio=1.0, complexity_temp=100.0, diversity_pressure=0.3, hc_fraction_nn=0.1;, score=0.597 total time=   3.2s\n",
      "[CV 1/5] END complexity_ratio=1.0, complexity_temp=100.0, diversity_pressure=0.6, hc_fraction_nn=0.01;, score=0.612 total time=   4.7s\n",
      "[CV 2/5] END complexity_ratio=1.0, complexity_temp=100.0, diversity_pressure=0.6, hc_fraction_nn=0.01;, score=0.571 total time=   5.7s\n",
      "[CV 3/5] END complexity_ratio=1.0, complexity_temp=100.0, diversity_pressure=0.6, hc_fraction_nn=0.01;, score=0.471 total time=   4.5s\n",
      "[CV 4/5] END complexity_ratio=1.0, complexity_temp=100.0, diversity_pressure=0.6, hc_fraction_nn=0.01;, score=0.574 total time=   8.6s\n",
      "[CV 5/5] END complexity_ratio=1.0, complexity_temp=100.0, diversity_pressure=0.6, hc_fraction_nn=0.01;, score=0.660 total time=   6.4s\n",
      "[CV 1/5] END complexity_ratio=1.0, complexity_temp=100.0, diversity_pressure=0.6, hc_fraction_nn=0.1;, score=0.662 total time=   2.6s\n",
      "[CV 2/5] END complexity_ratio=1.0, complexity_temp=100.0, diversity_pressure=0.6, hc_fraction_nn=0.1;, score=0.679 total time=   2.7s\n",
      "[CV 3/5] END complexity_ratio=1.0, complexity_temp=100.0, diversity_pressure=0.6, hc_fraction_nn=0.1;, score=0.596 total time=   3.1s\n",
      "[CV 4/5] END complexity_ratio=1.0, complexity_temp=100.0, diversity_pressure=0.6, hc_fraction_nn=0.1;, score=0.620 total time=   3.2s\n",
      "[CV 5/5] END complexity_ratio=1.0, complexity_temp=100.0, diversity_pressure=0.6, hc_fraction_nn=0.1;, score=0.597 total time=   3.3s\n",
      "[CV 1/5] END complexity_ratio=1.0, complexity_temp=100.0, diversity_pressure=0.9, hc_fraction_nn=0.01;, score=0.602 total time=   3.2s\n",
      "[CV 2/5] END complexity_ratio=1.0, complexity_temp=100.0, diversity_pressure=0.9, hc_fraction_nn=0.01;, score=0.568 total time=   5.0s\n",
      "[CV 3/5] END complexity_ratio=1.0, complexity_temp=100.0, diversity_pressure=0.9, hc_fraction_nn=0.01;, score=0.477 total time=   2.9s\n",
      "[CV 4/5] END complexity_ratio=1.0, complexity_temp=100.0, diversity_pressure=0.9, hc_fraction_nn=0.01;, score=0.535 total time=   4.0s\n",
      "[CV 5/5] END complexity_ratio=1.0, complexity_temp=100.0, diversity_pressure=0.9, hc_fraction_nn=0.01;, score=0.643 total time=   5.3s\n",
      "[CV 1/5] END complexity_ratio=1.0, complexity_temp=100.0, diversity_pressure=0.9, hc_fraction_nn=0.1;, score=0.663 total time=   2.7s\n",
      "[CV 2/5] END complexity_ratio=1.0, complexity_temp=100.0, diversity_pressure=0.9, hc_fraction_nn=0.1;, score=0.643 total time=   2.7s\n",
      "[CV 3/5] END complexity_ratio=1.0, complexity_temp=100.0, diversity_pressure=0.9, hc_fraction_nn=0.1;, score=0.578 total time=   3.1s\n",
      "[CV 4/5] END complexity_ratio=1.0, complexity_temp=100.0, diversity_pressure=0.9, hc_fraction_nn=0.1;, score=0.637 total time=   3.2s\n",
      "[CV 5/5] END complexity_ratio=1.0, complexity_temp=100.0, diversity_pressure=0.9, hc_fraction_nn=0.1;, score=0.613 total time=   3.2s\n",
      "[CV 1/5] END complexity_ratio=1.0, complexity_temp=316.22776601683796, diversity_pressure=0.0, hc_fraction_nn=0.01;, score=0.599 total time=   5.1s\n",
      "[CV 2/5] END complexity_ratio=1.0, complexity_temp=316.22776601683796, diversity_pressure=0.0, hc_fraction_nn=0.01;, score=0.572 total time=   6.4s\n",
      "[CV 3/5] END complexity_ratio=1.0, complexity_temp=316.22776601683796, diversity_pressure=0.0, hc_fraction_nn=0.01;, score=0.534 total time=   3.8s\n",
      "[CV 4/5] END complexity_ratio=1.0, complexity_temp=316.22776601683796, diversity_pressure=0.0, hc_fraction_nn=0.01;, score=0.503 total time=   4.3s\n",
      "[CV 5/5] END complexity_ratio=1.0, complexity_temp=316.22776601683796, diversity_pressure=0.0, hc_fraction_nn=0.01;, score=0.538 total time=   5.4s\n",
      "[CV 1/5] END complexity_ratio=1.0, complexity_temp=316.22776601683796, diversity_pressure=0.0, hc_fraction_nn=0.1;, score=0.598 total time=   2.9s\n",
      "[CV 2/5] END complexity_ratio=1.0, complexity_temp=316.22776601683796, diversity_pressure=0.0, hc_fraction_nn=0.1;, score=0.562 total time=   2.2s\n",
      "[CV 3/5] END complexity_ratio=1.0, complexity_temp=316.22776601683796, diversity_pressure=0.0, hc_fraction_nn=0.1;, score=0.598 total time=   3.0s\n",
      "[CV 4/5] END complexity_ratio=1.0, complexity_temp=316.22776601683796, diversity_pressure=0.0, hc_fraction_nn=0.1;, score=0.632 total time=   3.1s\n",
      "[CV 5/5] END complexity_ratio=1.0, complexity_temp=316.22776601683796, diversity_pressure=0.0, hc_fraction_nn=0.1;, score=0.622 total time=   3.3s\n",
      "[CV 1/5] END complexity_ratio=1.0, complexity_temp=316.22776601683796, diversity_pressure=0.3, hc_fraction_nn=0.01;, score=0.585 total time=   2.9s\n",
      "[CV 2/5] END complexity_ratio=1.0, complexity_temp=316.22776601683796, diversity_pressure=0.3, hc_fraction_nn=0.01;, score=0.612 total time=   3.0s\n",
      "[CV 3/5] END complexity_ratio=1.0, complexity_temp=316.22776601683796, diversity_pressure=0.3, hc_fraction_nn=0.01;, score=0.485 total time=   3.8s\n",
      "[CV 4/5] END complexity_ratio=1.0, complexity_temp=316.22776601683796, diversity_pressure=0.3, hc_fraction_nn=0.01;, score=0.642 total time=   6.8s\n",
      "[CV 5/5] END complexity_ratio=1.0, complexity_temp=316.22776601683796, diversity_pressure=0.3, hc_fraction_nn=0.01;, score=0.708 total time=   6.4s\n",
      "[CV 1/5] END complexity_ratio=1.0, complexity_temp=316.22776601683796, diversity_pressure=0.3, hc_fraction_nn=0.1;, score=0.576 total time=   2.7s\n",
      "[CV 2/5] END complexity_ratio=1.0, complexity_temp=316.22776601683796, diversity_pressure=0.3, hc_fraction_nn=0.1;, score=0.644 total time=   2.7s\n",
      "[CV 3/5] END complexity_ratio=1.0, complexity_temp=316.22776601683796, diversity_pressure=0.3, hc_fraction_nn=0.1;, score=0.551 total time=   3.0s\n",
      "[CV 4/5] END complexity_ratio=1.0, complexity_temp=316.22776601683796, diversity_pressure=0.3, hc_fraction_nn=0.1;, score=0.613 total time=   3.2s\n",
      "[CV 5/5] END complexity_ratio=1.0, complexity_temp=316.22776601683796, diversity_pressure=0.3, hc_fraction_nn=0.1;, score=0.597 total time=   3.2s\n",
      "[CV 1/5] END complexity_ratio=1.0, complexity_temp=316.22776601683796, diversity_pressure=0.6, hc_fraction_nn=0.01;, score=0.619 total time=   4.5s\n",
      "[CV 2/5] END complexity_ratio=1.0, complexity_temp=316.22776601683796, diversity_pressure=0.6, hc_fraction_nn=0.01;, score=0.574 total time=   3.1s\n",
      "[CV 3/5] END complexity_ratio=1.0, complexity_temp=316.22776601683796, diversity_pressure=0.6, hc_fraction_nn=0.01;, score=0.449 total time=   4.8s\n",
      "[CV 4/5] END complexity_ratio=1.0, complexity_temp=316.22776601683796, diversity_pressure=0.6, hc_fraction_nn=0.01;, score=0.574 total time=   8.1s\n",
      "[CV 5/5] END complexity_ratio=1.0, complexity_temp=316.22776601683796, diversity_pressure=0.6, hc_fraction_nn=0.01;, score=0.660 total time=   5.1s\n",
      "[CV 1/5] END complexity_ratio=1.0, complexity_temp=316.22776601683796, diversity_pressure=0.6, hc_fraction_nn=0.1;, score=0.656 total time=   2.7s\n",
      "[CV 2/5] END complexity_ratio=1.0, complexity_temp=316.22776601683796, diversity_pressure=0.6, hc_fraction_nn=0.1;, score=0.679 total time=   2.7s\n",
      "[CV 3/5] END complexity_ratio=1.0, complexity_temp=316.22776601683796, diversity_pressure=0.6, hc_fraction_nn=0.1;, score=0.596 total time=   3.0s\n",
      "[CV 4/5] END complexity_ratio=1.0, complexity_temp=316.22776601683796, diversity_pressure=0.6, hc_fraction_nn=0.1;, score=0.620 total time=   3.2s\n",
      "[CV 5/5] END complexity_ratio=1.0, complexity_temp=316.22776601683796, diversity_pressure=0.6, hc_fraction_nn=0.1;, score=0.597 total time=   3.2s\n",
      "[CV 1/5] END complexity_ratio=1.0, complexity_temp=316.22776601683796, diversity_pressure=0.9, hc_fraction_nn=0.01;, score=0.563 total time=   3.0s\n",
      "[CV 2/5] END complexity_ratio=1.0, complexity_temp=316.22776601683796, diversity_pressure=0.9, hc_fraction_nn=0.01;, score=0.544 total time=   3.1s\n",
      "[CV 3/5] END complexity_ratio=1.0, complexity_temp=316.22776601683796, diversity_pressure=0.9, hc_fraction_nn=0.01;, score=0.497 total time=   3.1s\n",
      "[CV 4/5] END complexity_ratio=1.0, complexity_temp=316.22776601683796, diversity_pressure=0.9, hc_fraction_nn=0.01;, score=0.545 total time=   3.2s\n",
      "[CV 5/5] END complexity_ratio=1.0, complexity_temp=316.22776601683796, diversity_pressure=0.9, hc_fraction_nn=0.01;, score=0.643 total time=   5.2s\n",
      "[CV 1/5] END complexity_ratio=1.0, complexity_temp=316.22776601683796, diversity_pressure=0.9, hc_fraction_nn=0.1;, score=0.637 total time=   2.6s\n",
      "[CV 2/5] END complexity_ratio=1.0, complexity_temp=316.22776601683796, diversity_pressure=0.9, hc_fraction_nn=0.1;, score=0.652 total time=   2.7s\n",
      "[CV 3/5] END complexity_ratio=1.0, complexity_temp=316.22776601683796, diversity_pressure=0.9, hc_fraction_nn=0.1;, score=0.583 total time=   3.1s\n",
      "[CV 4/5] END complexity_ratio=1.0, complexity_temp=316.22776601683796, diversity_pressure=0.9, hc_fraction_nn=0.1;, score=0.644 total time=   3.2s\n",
      "[CV 5/5] END complexity_ratio=1.0, complexity_temp=316.22776601683796, diversity_pressure=0.9, hc_fraction_nn=0.1;, score=0.627 total time=   3.3s\n",
      "[CV 1/5] END complexity_ratio=1.0, complexity_temp=1000.0, diversity_pressure=0.0, hc_fraction_nn=0.01;, score=0.586 total time=   5.7s\n",
      "[CV 2/5] END complexity_ratio=1.0, complexity_temp=1000.0, diversity_pressure=0.0, hc_fraction_nn=0.01;, score=0.595 total time=   2.7s\n",
      "[CV 3/5] END complexity_ratio=1.0, complexity_temp=1000.0, diversity_pressure=0.0, hc_fraction_nn=0.01;, score=0.496 total time=   6.3s\n",
      "[CV 4/5] END complexity_ratio=1.0, complexity_temp=1000.0, diversity_pressure=0.0, hc_fraction_nn=0.01;, score=0.596 total time=   3.6s\n",
      "[CV 5/5] END complexity_ratio=1.0, complexity_temp=1000.0, diversity_pressure=0.0, hc_fraction_nn=0.01;, score=0.660 total time=   4.2s\n",
      "[CV 1/5] END complexity_ratio=1.0, complexity_temp=1000.0, diversity_pressure=0.0, hc_fraction_nn=0.1;, score=0.629 total time=   3.4s\n",
      "[CV 2/5] END complexity_ratio=1.0, complexity_temp=1000.0, diversity_pressure=0.0, hc_fraction_nn=0.1;, score=0.593 total time=   3.0s\n",
      "[CV 3/5] END complexity_ratio=1.0, complexity_temp=1000.0, diversity_pressure=0.0, hc_fraction_nn=0.1;, score=0.598 total time=   3.8s\n",
      "[CV 4/5] END complexity_ratio=1.0, complexity_temp=1000.0, diversity_pressure=0.0, hc_fraction_nn=0.1;, score=0.583 total time=   3.9s\n",
      "[CV 5/5] END complexity_ratio=1.0, complexity_temp=1000.0, diversity_pressure=0.0, hc_fraction_nn=0.1;, score=0.613 total time=   3.9s\n",
      "[CV 1/5] END complexity_ratio=1.0, complexity_temp=1000.0, diversity_pressure=0.3, hc_fraction_nn=0.01;, score=0.612 total time=   2.9s\n",
      "[CV 2/5] END complexity_ratio=1.0, complexity_temp=1000.0, diversity_pressure=0.3, hc_fraction_nn=0.01;, score=0.604 total time=   4.3s\n",
      "[CV 3/5] END complexity_ratio=1.0, complexity_temp=1000.0, diversity_pressure=0.3, hc_fraction_nn=0.01;, score=0.505 total time=   3.3s\n",
      "[CV 4/5] END complexity_ratio=1.0, complexity_temp=1000.0, diversity_pressure=0.3, hc_fraction_nn=0.01;, score=0.567 total time=   4.3s\n",
      "[CV 5/5] END complexity_ratio=1.0, complexity_temp=1000.0, diversity_pressure=0.3, hc_fraction_nn=0.01;, score=0.684 total time=   2.9s\n",
      "[CV 1/5] END complexity_ratio=1.0, complexity_temp=1000.0, diversity_pressure=0.3, hc_fraction_nn=0.1;, score=0.618 total time=   2.6s\n",
      "[CV 2/5] END complexity_ratio=1.0, complexity_temp=1000.0, diversity_pressure=0.3, hc_fraction_nn=0.1;, score=0.610 total time=   2.8s\n",
      "[CV 3/5] END complexity_ratio=1.0, complexity_temp=1000.0, diversity_pressure=0.3, hc_fraction_nn=0.1;, score=0.599 total time=   2.4s\n",
      "[CV 4/5] END complexity_ratio=1.0, complexity_temp=1000.0, diversity_pressure=0.3, hc_fraction_nn=0.1;, score=0.612 total time=   3.2s\n",
      "[CV 5/5] END complexity_ratio=1.0, complexity_temp=1000.0, diversity_pressure=0.3, hc_fraction_nn=0.1;, score=0.634 total time=   3.3s\n",
      "[CV 1/5] END complexity_ratio=1.0, complexity_temp=1000.0, diversity_pressure=0.6, hc_fraction_nn=0.01;, score=0.601 total time=   3.4s\n",
      "[CV 2/5] END complexity_ratio=1.0, complexity_temp=1000.0, diversity_pressure=0.6, hc_fraction_nn=0.01;, score=0.596 total time=   7.6s\n",
      "[CV 3/5] END complexity_ratio=1.0, complexity_temp=1000.0, diversity_pressure=0.6, hc_fraction_nn=0.01;, score=0.498 total time=   3.3s\n",
      "[CV 4/5] END complexity_ratio=1.0, complexity_temp=1000.0, diversity_pressure=0.6, hc_fraction_nn=0.01;, score=0.564 total time=   3.8s\n",
      "[CV 5/5] END complexity_ratio=1.0, complexity_temp=1000.0, diversity_pressure=0.6, hc_fraction_nn=0.01;, score=0.704 total time=   3.3s\n",
      "[CV 1/5] END complexity_ratio=1.0, complexity_temp=1000.0, diversity_pressure=0.6, hc_fraction_nn=0.1;, score=0.644 total time=   3.1s\n",
      "[CV 2/5] END complexity_ratio=1.0, complexity_temp=1000.0, diversity_pressure=0.6, hc_fraction_nn=0.1;, score=0.679 total time=   2.8s\n",
      "[CV 3/5] END complexity_ratio=1.0, complexity_temp=1000.0, diversity_pressure=0.6, hc_fraction_nn=0.1;, score=0.596 total time=   3.1s\n",
      "[CV 4/5] END complexity_ratio=1.0, complexity_temp=1000.0, diversity_pressure=0.6, hc_fraction_nn=0.1;, score=0.620 total time=   3.5s\n",
      "[CV 5/5] END complexity_ratio=1.0, complexity_temp=1000.0, diversity_pressure=0.6, hc_fraction_nn=0.1;, score=0.597 total time=   3.7s\n",
      "[CV 1/5] END complexity_ratio=1.0, complexity_temp=1000.0, diversity_pressure=0.9, hc_fraction_nn=0.01;, score=0.596 total time=   4.0s\n",
      "[CV 2/5] END complexity_ratio=1.0, complexity_temp=1000.0, diversity_pressure=0.9, hc_fraction_nn=0.01;, score=0.570 total time=   3.0s\n",
      "[CV 3/5] END complexity_ratio=1.0, complexity_temp=1000.0, diversity_pressure=0.9, hc_fraction_nn=0.01;, score=0.526 total time=   2.7s\n",
      "[CV 4/5] END complexity_ratio=1.0, complexity_temp=1000.0, diversity_pressure=0.9, hc_fraction_nn=0.01;, score=0.536 total time=   4.3s\n",
      "[CV 5/5] END complexity_ratio=1.0, complexity_temp=1000.0, diversity_pressure=0.9, hc_fraction_nn=0.01;, score=0.655 total time=   2.9s\n",
      "[CV 1/5] END complexity_ratio=1.0, complexity_temp=1000.0, diversity_pressure=0.9, hc_fraction_nn=0.1;, score=0.645 total time=   3.3s\n",
      "[CV 2/5] END complexity_ratio=1.0, complexity_temp=1000.0, diversity_pressure=0.9, hc_fraction_nn=0.1;, score=0.652 total time=   3.0s\n",
      "[CV 3/5] END complexity_ratio=1.0, complexity_temp=1000.0, diversity_pressure=0.9, hc_fraction_nn=0.1;, score=0.583 total time=   3.0s\n",
      "[CV 4/5] END complexity_ratio=1.0, complexity_temp=1000.0, diversity_pressure=0.9, hc_fraction_nn=0.1;, score=0.644 total time=   3.3s\n",
      "[CV 5/5] END complexity_ratio=1.0, complexity_temp=1000.0, diversity_pressure=0.9, hc_fraction_nn=0.1;, score=0.627 total time=   3.4s\n",
      "[CV 1/5] END complexity_ratio=5.623413251903491, complexity_temp=10.0, diversity_pressure=0.0, hc_fraction_nn=0.01;, score=0.564 total time=   3.2s\n",
      "[CV 2/5] END complexity_ratio=5.623413251903491, complexity_temp=10.0, diversity_pressure=0.0, hc_fraction_nn=0.01;, score=0.459 total time=   3.4s\n",
      "[CV 3/5] END complexity_ratio=5.623413251903491, complexity_temp=10.0, diversity_pressure=0.0, hc_fraction_nn=0.01;, score=0.549 total time=   6.1s\n",
      "[CV 4/5] END complexity_ratio=5.623413251903491, complexity_temp=10.0, diversity_pressure=0.0, hc_fraction_nn=0.01;, score=0.538 total time=   9.5s\n",
      "[CV 5/5] END complexity_ratio=5.623413251903491, complexity_temp=10.0, diversity_pressure=0.0, hc_fraction_nn=0.01;, score=0.531 total time=   7.1s\n",
      "[CV 1/5] END complexity_ratio=5.623413251903491, complexity_temp=10.0, diversity_pressure=0.0, hc_fraction_nn=0.1;, score=0.612 total time=   2.2s\n",
      "[CV 2/5] END complexity_ratio=5.623413251903491, complexity_temp=10.0, diversity_pressure=0.0, hc_fraction_nn=0.1;, score=0.549 total time=   1.8s\n",
      "[CV 3/5] END complexity_ratio=5.623413251903491, complexity_temp=10.0, diversity_pressure=0.0, hc_fraction_nn=0.1;, score=0.591 total time=   5.5s\n",
      "[CV 4/5] END complexity_ratio=5.623413251903491, complexity_temp=10.0, diversity_pressure=0.0, hc_fraction_nn=0.1;, score=0.603 total time=   2.2s\n",
      "[CV 5/5] END complexity_ratio=5.623413251903491, complexity_temp=10.0, diversity_pressure=0.0, hc_fraction_nn=0.1;, score=0.607 total time=   2.3s\n",
      "[CV 1/5] END complexity_ratio=5.623413251903491, complexity_temp=10.0, diversity_pressure=0.3, hc_fraction_nn=0.01;, score=0.611 total time=   2.9s\n",
      "[CV 2/5] END complexity_ratio=5.623413251903491, complexity_temp=10.0, diversity_pressure=0.3, hc_fraction_nn=0.01;, score=0.552 total time=   3.6s\n",
      "[CV 3/5] END complexity_ratio=5.623413251903491, complexity_temp=10.0, diversity_pressure=0.3, hc_fraction_nn=0.01;, score=0.494 total time=   5.8s\n",
      "[CV 4/5] END complexity_ratio=5.623413251903491, complexity_temp=10.0, diversity_pressure=0.3, hc_fraction_nn=0.01;, score=0.570 total time=   7.1s\n",
      "[CV 5/5] END complexity_ratio=5.623413251903491, complexity_temp=10.0, diversity_pressure=0.3, hc_fraction_nn=0.01;, score=0.633 total time=   4.3s\n",
      "[CV 1/5] END complexity_ratio=5.623413251903491, complexity_temp=10.0, diversity_pressure=0.3, hc_fraction_nn=0.1;, score=0.612 total time=   2.2s\n",
      "[CV 2/5] END complexity_ratio=5.623413251903491, complexity_temp=10.0, diversity_pressure=0.3, hc_fraction_nn=0.1;, score=0.549 total time=   1.6s\n",
      "[CV 3/5] END complexity_ratio=5.623413251903491, complexity_temp=10.0, diversity_pressure=0.3, hc_fraction_nn=0.1;, score=0.591 total time=   5.3s\n",
      "[CV 4/5] END complexity_ratio=5.623413251903491, complexity_temp=10.0, diversity_pressure=0.3, hc_fraction_nn=0.1;, score=0.603 total time=   1.9s\n",
      "[CV 5/5] END complexity_ratio=5.623413251903491, complexity_temp=10.0, diversity_pressure=0.3, hc_fraction_nn=0.1;, score=0.607 total time=   2.5s\n",
      "[CV 1/5] END complexity_ratio=5.623413251903491, complexity_temp=10.0, diversity_pressure=0.6, hc_fraction_nn=0.01;, score=0.646 total time=   2.7s\n",
      "[CV 2/5] END complexity_ratio=5.623413251903491, complexity_temp=10.0, diversity_pressure=0.6, hc_fraction_nn=0.01;, score=0.554 total time=   3.7s\n",
      "[CV 3/5] END complexity_ratio=5.623413251903491, complexity_temp=10.0, diversity_pressure=0.6, hc_fraction_nn=0.01;, score=0.506 total time=   5.9s\n",
      "[CV 4/5] END complexity_ratio=5.623413251903491, complexity_temp=10.0, diversity_pressure=0.6, hc_fraction_nn=0.01;, score=0.553 total time=   7.0s\n",
      "[CV 5/5] END complexity_ratio=5.623413251903491, complexity_temp=10.0, diversity_pressure=0.6, hc_fraction_nn=0.01;, score=0.664 total time=   4.3s\n",
      "[CV 1/5] END complexity_ratio=5.623413251903491, complexity_temp=10.0, diversity_pressure=0.6, hc_fraction_nn=0.1;, score=0.612 total time=   2.4s\n",
      "[CV 2/5] END complexity_ratio=5.623413251903491, complexity_temp=10.0, diversity_pressure=0.6, hc_fraction_nn=0.1;, score=0.549 total time=   1.6s\n",
      "[CV 3/5] END complexity_ratio=5.623413251903491, complexity_temp=10.0, diversity_pressure=0.6, hc_fraction_nn=0.1;, score=0.591 total time=   5.7s\n",
      "[CV 4/5] END complexity_ratio=5.623413251903491, complexity_temp=10.0, diversity_pressure=0.6, hc_fraction_nn=0.1;, score=0.603 total time=   2.2s\n",
      "[CV 5/5] END complexity_ratio=5.623413251903491, complexity_temp=10.0, diversity_pressure=0.6, hc_fraction_nn=0.1;, score=0.607 total time=   2.5s\n",
      "[CV 1/5] END complexity_ratio=5.623413251903491, complexity_temp=10.0, diversity_pressure=0.9, hc_fraction_nn=0.01;, score=0.622 total time=   2.9s\n",
      "[CV 2/5] END complexity_ratio=5.623413251903491, complexity_temp=10.0, diversity_pressure=0.9, hc_fraction_nn=0.01;, score=0.567 total time=   3.6s\n",
      "[CV 3/5] END complexity_ratio=5.623413251903491, complexity_temp=10.0, diversity_pressure=0.9, hc_fraction_nn=0.01;, score=0.548 total time=   6.5s\n",
      "[CV 4/5] END complexity_ratio=5.623413251903491, complexity_temp=10.0, diversity_pressure=0.9, hc_fraction_nn=0.01;, score=0.522 total time=   7.3s\n",
      "[CV 5/5] END complexity_ratio=5.623413251903491, complexity_temp=10.0, diversity_pressure=0.9, hc_fraction_nn=0.01;, score=0.657 total time=   5.0s\n",
      "[CV 1/5] END complexity_ratio=5.623413251903491, complexity_temp=10.0, diversity_pressure=0.9, hc_fraction_nn=0.1;, score=0.612 total time=   2.2s\n",
      "[CV 2/5] END complexity_ratio=5.623413251903491, complexity_temp=10.0, diversity_pressure=0.9, hc_fraction_nn=0.1;, score=0.549 total time=   1.6s\n",
      "[CV 3/5] END complexity_ratio=5.623413251903491, complexity_temp=10.0, diversity_pressure=0.9, hc_fraction_nn=0.1;, score=0.591 total time=   5.8s\n",
      "[CV 4/5] END complexity_ratio=5.623413251903491, complexity_temp=10.0, diversity_pressure=0.9, hc_fraction_nn=0.1;, score=0.603 total time=   1.9s\n",
      "[CV 5/5] END complexity_ratio=5.623413251903491, complexity_temp=10.0, diversity_pressure=0.9, hc_fraction_nn=0.1;, score=0.607 total time=   2.2s\n",
      "[CV 1/5] END complexity_ratio=5.623413251903491, complexity_temp=31.622776601683793, diversity_pressure=0.0, hc_fraction_nn=0.01;, score=0.587 total time=   3.4s\n",
      "[CV 2/5] END complexity_ratio=5.623413251903491, complexity_temp=31.622776601683793, diversity_pressure=0.0, hc_fraction_nn=0.01;, score=0.476 total time=   3.6s\n",
      "[CV 3/5] END complexity_ratio=5.623413251903491, complexity_temp=31.622776601683793, diversity_pressure=0.0, hc_fraction_nn=0.01;, score=0.549 total time=   6.0s\n",
      "[CV 4/5] END complexity_ratio=5.623413251903491, complexity_temp=31.622776601683793, diversity_pressure=0.0, hc_fraction_nn=0.01;, score=0.561 total time=   8.3s\n",
      "[CV 5/5] END complexity_ratio=5.623413251903491, complexity_temp=31.622776601683793, diversity_pressure=0.0, hc_fraction_nn=0.01;, score=0.553 total time=   4.0s\n",
      "[CV 1/5] END complexity_ratio=5.623413251903491, complexity_temp=31.622776601683793, diversity_pressure=0.0, hc_fraction_nn=0.1;, score=0.644 total time=   3.5s\n",
      "[CV 2/5] END complexity_ratio=5.623413251903491, complexity_temp=31.622776601683793, diversity_pressure=0.0, hc_fraction_nn=0.1;, score=0.556 total time=   3.2s\n",
      "[CV 3/5] END complexity_ratio=5.623413251903491, complexity_temp=31.622776601683793, diversity_pressure=0.0, hc_fraction_nn=0.1;, score=0.573 total time=   6.8s\n",
      "[CV 4/5] END complexity_ratio=5.623413251903491, complexity_temp=31.622776601683793, diversity_pressure=0.0, hc_fraction_nn=0.1;, score=0.630 total time=   3.9s\n",
      "[CV 5/5] END complexity_ratio=5.623413251903491, complexity_temp=31.622776601683793, diversity_pressure=0.0, hc_fraction_nn=0.1;, score=0.590 total time=   3.0s\n",
      "[CV 1/5] END complexity_ratio=5.623413251903491, complexity_temp=31.622776601683793, diversity_pressure=0.3, hc_fraction_nn=0.01;, score=0.623 total time=   2.8s\n",
      "[CV 2/5] END complexity_ratio=5.623413251903491, complexity_temp=31.622776601683793, diversity_pressure=0.3, hc_fraction_nn=0.01;, score=0.562 total time=   3.5s\n",
      "[CV 3/5] END complexity_ratio=5.623413251903491, complexity_temp=31.622776601683793, diversity_pressure=0.3, hc_fraction_nn=0.01;, score=0.494 total time=   6.2s\n",
      "[CV 4/5] END complexity_ratio=5.623413251903491, complexity_temp=31.622776601683793, diversity_pressure=0.3, hc_fraction_nn=0.01;, score=0.581 total time=   7.6s\n",
      "[CV 5/5] END complexity_ratio=5.623413251903491, complexity_temp=31.622776601683793, diversity_pressure=0.3, hc_fraction_nn=0.01;, score=0.635 total time=   4.8s\n",
      "[CV 1/5] END complexity_ratio=5.623413251903491, complexity_temp=31.622776601683793, diversity_pressure=0.3, hc_fraction_nn=0.1;, score=0.678 total time=   3.5s\n",
      "[CV 2/5] END complexity_ratio=5.623413251903491, complexity_temp=31.622776601683793, diversity_pressure=0.3, hc_fraction_nn=0.1;, score=0.551 total time=   2.9s\n",
      "[CV 3/5] END complexity_ratio=5.623413251903491, complexity_temp=31.622776601683793, diversity_pressure=0.3, hc_fraction_nn=0.1;, score=0.610 total time=   6.3s\n",
      "[CV 4/5] END complexity_ratio=5.623413251903491, complexity_temp=31.622776601683793, diversity_pressure=0.3, hc_fraction_nn=0.1;, score=0.607 total time=   3.6s\n",
      "[CV 5/5] END complexity_ratio=5.623413251903491, complexity_temp=31.622776601683793, diversity_pressure=0.3, hc_fraction_nn=0.1;, score=0.601 total time=   3.0s\n",
      "[CV 1/5] END complexity_ratio=5.623413251903491, complexity_temp=31.622776601683793, diversity_pressure=0.6, hc_fraction_nn=0.01;, score=0.635 total time=   2.7s\n",
      "[CV 2/5] END complexity_ratio=5.623413251903491, complexity_temp=31.622776601683793, diversity_pressure=0.6, hc_fraction_nn=0.01;, score=0.578 total time=   3.4s\n",
      "[CV 3/5] END complexity_ratio=5.623413251903491, complexity_temp=31.622776601683793, diversity_pressure=0.6, hc_fraction_nn=0.01;, score=0.506 total time=   5.6s\n",
      "[CV 4/5] END complexity_ratio=5.623413251903491, complexity_temp=31.622776601683793, diversity_pressure=0.6, hc_fraction_nn=0.01;, score=0.578 total time=   7.3s\n",
      "[CV 5/5] END complexity_ratio=5.623413251903491, complexity_temp=31.622776601683793, diversity_pressure=0.6, hc_fraction_nn=0.01;, score=0.665 total time=   4.3s\n",
      "[CV 1/5] END complexity_ratio=5.623413251903491, complexity_temp=31.622776601683793, diversity_pressure=0.6, hc_fraction_nn=0.1;, score=0.678 total time=   3.5s\n",
      "[CV 2/5] END complexity_ratio=5.623413251903491, complexity_temp=31.622776601683793, diversity_pressure=0.6, hc_fraction_nn=0.1;, score=0.554 total time=   2.9s\n",
      "[CV 3/5] END complexity_ratio=5.623413251903491, complexity_temp=31.622776601683793, diversity_pressure=0.6, hc_fraction_nn=0.1;, score=0.610 total time=   6.2s\n",
      "[CV 4/5] END complexity_ratio=5.623413251903491, complexity_temp=31.622776601683793, diversity_pressure=0.6, hc_fraction_nn=0.1;, score=0.608 total time=   3.5s\n",
      "[CV 5/5] END complexity_ratio=5.623413251903491, complexity_temp=31.622776601683793, diversity_pressure=0.6, hc_fraction_nn=0.1;, score=0.620 total time=   3.0s\n",
      "[CV 1/5] END complexity_ratio=5.623413251903491, complexity_temp=31.622776601683793, diversity_pressure=0.9, hc_fraction_nn=0.01;, score=0.626 total time=   2.8s\n",
      "[CV 2/5] END complexity_ratio=5.623413251903491, complexity_temp=31.622776601683793, diversity_pressure=0.9, hc_fraction_nn=0.01;, score=0.560 total time=   3.4s\n",
      "[CV 3/5] END complexity_ratio=5.623413251903491, complexity_temp=31.622776601683793, diversity_pressure=0.9, hc_fraction_nn=0.01;, score=0.548 total time=   5.6s\n",
      "[CV 4/5] END complexity_ratio=5.623413251903491, complexity_temp=31.622776601683793, diversity_pressure=0.9, hc_fraction_nn=0.01;, score=0.541 total time=   7.4s\n",
      "[CV 5/5] END complexity_ratio=5.623413251903491, complexity_temp=31.622776601683793, diversity_pressure=0.9, hc_fraction_nn=0.01;, score=0.646 total time=   4.4s\n",
      "[CV 1/5] END complexity_ratio=5.623413251903491, complexity_temp=31.622776601683793, diversity_pressure=0.9, hc_fraction_nn=0.1;, score=0.679 total time=   3.5s\n",
      "[CV 2/5] END complexity_ratio=5.623413251903491, complexity_temp=31.622776601683793, diversity_pressure=0.9, hc_fraction_nn=0.1;, score=0.552 total time=   2.9s\n",
      "[CV 3/5] END complexity_ratio=5.623413251903491, complexity_temp=31.622776601683793, diversity_pressure=0.9, hc_fraction_nn=0.1;, score=0.612 total time=   6.2s\n",
      "[CV 4/5] END complexity_ratio=5.623413251903491, complexity_temp=31.622776601683793, diversity_pressure=0.9, hc_fraction_nn=0.1;, score=0.607 total time=   3.6s\n",
      "[CV 5/5] END complexity_ratio=5.623413251903491, complexity_temp=31.622776601683793, diversity_pressure=0.9, hc_fraction_nn=0.1;, score=0.621 total time=   3.1s\n",
      "[CV 1/5] END complexity_ratio=5.623413251903491, complexity_temp=100.0, diversity_pressure=0.0, hc_fraction_nn=0.01;, score=0.593 total time=   3.5s\n",
      "[CV 2/5] END complexity_ratio=5.623413251903491, complexity_temp=100.0, diversity_pressure=0.0, hc_fraction_nn=0.01;, score=0.518 total time=   3.1s\n",
      "[CV 3/5] END complexity_ratio=5.623413251903491, complexity_temp=100.0, diversity_pressure=0.0, hc_fraction_nn=0.01;, score=0.547 total time=   6.3s\n",
      "[CV 4/5] END complexity_ratio=5.623413251903491, complexity_temp=100.0, diversity_pressure=0.0, hc_fraction_nn=0.01;, score=0.565 total time=   3.0s\n",
      "[CV 5/5] END complexity_ratio=5.623413251903491, complexity_temp=100.0, diversity_pressure=0.0, hc_fraction_nn=0.01;, score=0.558 total time=   2.8s\n",
      "[CV 1/5] END complexity_ratio=5.623413251903491, complexity_temp=100.0, diversity_pressure=0.0, hc_fraction_nn=0.1;, score=0.600 total time=   3.4s\n",
      "[CV 2/5] END complexity_ratio=5.623413251903491, complexity_temp=100.0, diversity_pressure=0.0, hc_fraction_nn=0.1;, score=0.557 total time=   3.0s\n",
      "[CV 3/5] END complexity_ratio=5.623413251903491, complexity_temp=100.0, diversity_pressure=0.0, hc_fraction_nn=0.1;, score=0.573 total time=   6.3s\n",
      "[CV 4/5] END complexity_ratio=5.623413251903491, complexity_temp=100.0, diversity_pressure=0.0, hc_fraction_nn=0.1;, score=0.630 total time=   3.6s\n",
      "[CV 5/5] END complexity_ratio=5.623413251903491, complexity_temp=100.0, diversity_pressure=0.0, hc_fraction_nn=0.1;, score=0.590 total time=   3.0s\n",
      "[CV 1/5] END complexity_ratio=5.623413251903491, complexity_temp=100.0, diversity_pressure=0.3, hc_fraction_nn=0.01;, score=0.613 total time=   2.7s\n",
      "[CV 2/5] END complexity_ratio=5.623413251903491, complexity_temp=100.0, diversity_pressure=0.3, hc_fraction_nn=0.01;, score=0.563 total time=   3.4s\n",
      "[CV 3/5] END complexity_ratio=5.623413251903491, complexity_temp=100.0, diversity_pressure=0.3, hc_fraction_nn=0.01;, score=0.494 total time=   5.6s\n",
      "[CV 4/5] END complexity_ratio=5.623413251903491, complexity_temp=100.0, diversity_pressure=0.3, hc_fraction_nn=0.01;, score=0.587 total time=   7.3s\n",
      "[CV 5/5] END complexity_ratio=5.623413251903491, complexity_temp=100.0, diversity_pressure=0.3, hc_fraction_nn=0.01;, score=0.635 total time=   4.3s\n",
      "[CV 1/5] END complexity_ratio=5.623413251903491, complexity_temp=100.0, diversity_pressure=0.3, hc_fraction_nn=0.1;, score=0.648 total time=   3.6s\n",
      "[CV 2/5] END complexity_ratio=5.623413251903491, complexity_temp=100.0, diversity_pressure=0.3, hc_fraction_nn=0.1;, score=0.600 total time=   2.9s\n",
      "[CV 3/5] END complexity_ratio=5.623413251903491, complexity_temp=100.0, diversity_pressure=0.3, hc_fraction_nn=0.1;, score=0.580 total time=   6.2s\n",
      "[CV 4/5] END complexity_ratio=5.623413251903491, complexity_temp=100.0, diversity_pressure=0.3, hc_fraction_nn=0.1;, score=0.609 total time=   3.6s\n",
      "[CV 5/5] END complexity_ratio=5.623413251903491, complexity_temp=100.0, diversity_pressure=0.3, hc_fraction_nn=0.1;, score=0.599 total time=   3.1s\n",
      "[CV 1/5] END complexity_ratio=5.623413251903491, complexity_temp=100.0, diversity_pressure=0.6, hc_fraction_nn=0.01;, score=0.628 total time=   2.7s\n",
      "[CV 2/5] END complexity_ratio=5.623413251903491, complexity_temp=100.0, diversity_pressure=0.6, hc_fraction_nn=0.01;, score=0.576 total time=   3.4s\n",
      "[CV 3/5] END complexity_ratio=5.623413251903491, complexity_temp=100.0, diversity_pressure=0.6, hc_fraction_nn=0.01;, score=0.506 total time=   5.6s\n",
      "[CV 4/5] END complexity_ratio=5.623413251903491, complexity_temp=100.0, diversity_pressure=0.6, hc_fraction_nn=0.01;, score=0.586 total time=   7.3s\n",
      "[CV 5/5] END complexity_ratio=5.623413251903491, complexity_temp=100.0, diversity_pressure=0.6, hc_fraction_nn=0.01;, score=0.667 total time=   4.3s\n",
      "[CV 1/5] END complexity_ratio=5.623413251903491, complexity_temp=100.0, diversity_pressure=0.6, hc_fraction_nn=0.1;, score=0.666 total time=   3.6s\n",
      "[CV 2/5] END complexity_ratio=5.623413251903491, complexity_temp=100.0, diversity_pressure=0.6, hc_fraction_nn=0.1;, score=0.616 total time=   3.0s\n",
      "[CV 3/5] END complexity_ratio=5.623413251903491, complexity_temp=100.0, diversity_pressure=0.6, hc_fraction_nn=0.1;, score=0.604 total time=   6.2s\n",
      "[CV 4/5] END complexity_ratio=5.623413251903491, complexity_temp=100.0, diversity_pressure=0.6, hc_fraction_nn=0.1;, score=0.621 total time=   3.6s\n",
      "[CV 5/5] END complexity_ratio=5.623413251903491, complexity_temp=100.0, diversity_pressure=0.6, hc_fraction_nn=0.1;, score=0.603 total time=   3.1s\n",
      "[CV 1/5] END complexity_ratio=5.623413251903491, complexity_temp=100.0, diversity_pressure=0.9, hc_fraction_nn=0.01;, score=0.640 total time=   2.7s\n",
      "[CV 2/5] END complexity_ratio=5.623413251903491, complexity_temp=100.0, diversity_pressure=0.9, hc_fraction_nn=0.01;, score=0.555 total time=   3.4s\n",
      "[CV 3/5] END complexity_ratio=5.623413251903491, complexity_temp=100.0, diversity_pressure=0.9, hc_fraction_nn=0.01;, score=0.548 total time=   5.6s\n",
      "[CV 4/5] END complexity_ratio=5.623413251903491, complexity_temp=100.0, diversity_pressure=0.9, hc_fraction_nn=0.01;, score=0.576 total time=   7.3s\n",
      "[CV 5/5] END complexity_ratio=5.623413251903491, complexity_temp=100.0, diversity_pressure=0.9, hc_fraction_nn=0.01;, score=0.648 total time=   4.3s\n",
      "[CV 1/5] END complexity_ratio=5.623413251903491, complexity_temp=100.0, diversity_pressure=0.9, hc_fraction_nn=0.1;, score=0.676 total time=   3.6s\n",
      "[CV 2/5] END complexity_ratio=5.623413251903491, complexity_temp=100.0, diversity_pressure=0.9, hc_fraction_nn=0.1;, score=0.603 total time=   3.0s\n",
      "[CV 3/5] END complexity_ratio=5.623413251903491, complexity_temp=100.0, diversity_pressure=0.9, hc_fraction_nn=0.1;, score=0.604 total time=   6.2s\n",
      "[CV 4/5] END complexity_ratio=5.623413251903491, complexity_temp=100.0, diversity_pressure=0.9, hc_fraction_nn=0.1;, score=0.622 total time=   3.6s\n",
      "[CV 5/5] END complexity_ratio=5.623413251903491, complexity_temp=100.0, diversity_pressure=0.9, hc_fraction_nn=0.1;, score=0.614 total time=   3.1s\n",
      "[CV 1/5] END complexity_ratio=5.623413251903491, complexity_temp=316.22776601683796, diversity_pressure=0.0, hc_fraction_nn=0.01;, score=0.551 total time=   3.1s\n",
      "[CV 2/5] END complexity_ratio=5.623413251903491, complexity_temp=316.22776601683796, diversity_pressure=0.0, hc_fraction_nn=0.01;, score=0.582 total time=   3.9s\n",
      "[CV 3/5] END complexity_ratio=5.623413251903491, complexity_temp=316.22776601683796, diversity_pressure=0.0, hc_fraction_nn=0.01;, score=0.557 total time=   5.1s\n",
      "[CV 4/5] END complexity_ratio=5.623413251903491, complexity_temp=316.22776601683796, diversity_pressure=0.0, hc_fraction_nn=0.01;, score=0.519 total time=   4.4s\n",
      "[CV 5/5] END complexity_ratio=5.623413251903491, complexity_temp=316.22776601683796, diversity_pressure=0.0, hc_fraction_nn=0.01;, score=0.561 total time=   4.5s\n",
      "[CV 1/5] END complexity_ratio=5.623413251903491, complexity_temp=316.22776601683796, diversity_pressure=0.0, hc_fraction_nn=0.1;, score=0.588 total time=   3.0s\n",
      "[CV 2/5] END complexity_ratio=5.623413251903491, complexity_temp=316.22776601683796, diversity_pressure=0.0, hc_fraction_nn=0.1;, score=0.585 total time=   2.5s\n",
      "[CV 3/5] END complexity_ratio=5.623413251903491, complexity_temp=316.22776601683796, diversity_pressure=0.0, hc_fraction_nn=0.1;, score=0.601 total time=   4.4s\n",
      "[CV 4/5] END complexity_ratio=5.623413251903491, complexity_temp=316.22776601683796, diversity_pressure=0.0, hc_fraction_nn=0.1;, score=0.630 total time=   2.9s\n",
      "[CV 5/5] END complexity_ratio=5.623413251903491, complexity_temp=316.22776601683796, diversity_pressure=0.0, hc_fraction_nn=0.1;, score=0.637 total time=   3.4s\n",
      "[CV 1/5] END complexity_ratio=5.623413251903491, complexity_temp=316.22776601683796, diversity_pressure=0.3, hc_fraction_nn=0.01;, score=0.613 total time=   2.7s\n",
      "[CV 2/5] END complexity_ratio=5.623413251903491, complexity_temp=316.22776601683796, diversity_pressure=0.3, hc_fraction_nn=0.01;, score=0.562 total time=   3.4s\n",
      "[CV 3/5] END complexity_ratio=5.623413251903491, complexity_temp=316.22776601683796, diversity_pressure=0.3, hc_fraction_nn=0.01;, score=0.494 total time=   5.6s\n",
      "[CV 4/5] END complexity_ratio=5.623413251903491, complexity_temp=316.22776601683796, diversity_pressure=0.3, hc_fraction_nn=0.01;, score=0.587 total time=   7.3s\n",
      "[CV 5/5] END complexity_ratio=5.623413251903491, complexity_temp=316.22776601683796, diversity_pressure=0.3, hc_fraction_nn=0.01;, score=0.635 total time=   4.3s\n",
      "[CV 1/5] END complexity_ratio=5.623413251903491, complexity_temp=316.22776601683796, diversity_pressure=0.3, hc_fraction_nn=0.1;, score=0.648 total time=   3.6s\n",
      "[CV 2/5] END complexity_ratio=5.623413251903491, complexity_temp=316.22776601683796, diversity_pressure=0.3, hc_fraction_nn=0.1;, score=0.600 total time=   3.0s\n",
      "[CV 3/5] END complexity_ratio=5.623413251903491, complexity_temp=316.22776601683796, diversity_pressure=0.3, hc_fraction_nn=0.1;, score=0.580 total time=   6.3s\n",
      "[CV 4/5] END complexity_ratio=5.623413251903491, complexity_temp=316.22776601683796, diversity_pressure=0.3, hc_fraction_nn=0.1;, score=0.609 total time=   3.6s\n",
      "[CV 5/5] END complexity_ratio=5.623413251903491, complexity_temp=316.22776601683796, diversity_pressure=0.3, hc_fraction_nn=0.1;, score=0.599 total time=   3.3s\n",
      "[CV 1/5] END complexity_ratio=5.623413251903491, complexity_temp=316.22776601683796, diversity_pressure=0.6, hc_fraction_nn=0.01;, score=0.635 total time=   2.8s\n",
      "[CV 2/5] END complexity_ratio=5.623413251903491, complexity_temp=316.22776601683796, diversity_pressure=0.6, hc_fraction_nn=0.01;, score=0.586 total time=   3.4s\n",
      "[CV 3/5] END complexity_ratio=5.623413251903491, complexity_temp=316.22776601683796, diversity_pressure=0.6, hc_fraction_nn=0.01;, score=0.506 total time=   5.7s\n",
      "[CV 4/5] END complexity_ratio=5.623413251903491, complexity_temp=316.22776601683796, diversity_pressure=0.6, hc_fraction_nn=0.01;, score=0.563 total time=   7.3s\n",
      "[CV 5/5] END complexity_ratio=5.623413251903491, complexity_temp=316.22776601683796, diversity_pressure=0.6, hc_fraction_nn=0.01;, score=0.667 total time=   4.3s\n",
      "[CV 1/5] END complexity_ratio=5.623413251903491, complexity_temp=316.22776601683796, diversity_pressure=0.6, hc_fraction_nn=0.1;, score=0.652 total time=   3.6s\n",
      "[CV 2/5] END complexity_ratio=5.623413251903491, complexity_temp=316.22776601683796, diversity_pressure=0.6, hc_fraction_nn=0.1;, score=0.625 total time=   3.0s\n",
      "[CV 3/5] END complexity_ratio=5.623413251903491, complexity_temp=316.22776601683796, diversity_pressure=0.6, hc_fraction_nn=0.1;, score=0.604 total time=   6.2s\n",
      "[CV 4/5] END complexity_ratio=5.623413251903491, complexity_temp=316.22776601683796, diversity_pressure=0.6, hc_fraction_nn=0.1;, score=0.632 total time=   3.6s\n",
      "[CV 5/5] END complexity_ratio=5.623413251903491, complexity_temp=316.22776601683796, diversity_pressure=0.6, hc_fraction_nn=0.1;, score=0.603 total time=   3.1s\n",
      "[CV 1/5] END complexity_ratio=5.623413251903491, complexity_temp=316.22776601683796, diversity_pressure=0.9, hc_fraction_nn=0.01;, score=0.633 total time=   2.7s\n",
      "[CV 2/5] END complexity_ratio=5.623413251903491, complexity_temp=316.22776601683796, diversity_pressure=0.9, hc_fraction_nn=0.01;, score=0.565 total time=   3.5s\n",
      "[CV 3/5] END complexity_ratio=5.623413251903491, complexity_temp=316.22776601683796, diversity_pressure=0.9, hc_fraction_nn=0.01;, score=0.548 total time=   5.6s\n",
      "[CV 4/5] END complexity_ratio=5.623413251903491, complexity_temp=316.22776601683796, diversity_pressure=0.9, hc_fraction_nn=0.01;, score=0.587 total time=   7.4s\n",
      "[CV 5/5] END complexity_ratio=5.623413251903491, complexity_temp=316.22776601683796, diversity_pressure=0.9, hc_fraction_nn=0.01;, score=0.638 total time=   4.3s\n",
      "[CV 1/5] END complexity_ratio=5.623413251903491, complexity_temp=316.22776601683796, diversity_pressure=0.9, hc_fraction_nn=0.1;, score=0.685 total time=   3.6s\n",
      "[CV 2/5] END complexity_ratio=5.623413251903491, complexity_temp=316.22776601683796, diversity_pressure=0.9, hc_fraction_nn=0.1;, score=0.591 total time=   3.0s\n",
      "[CV 3/5] END complexity_ratio=5.623413251903491, complexity_temp=316.22776601683796, diversity_pressure=0.9, hc_fraction_nn=0.1;, score=0.609 total time=   6.2s\n",
      "[CV 4/5] END complexity_ratio=5.623413251903491, complexity_temp=316.22776601683796, diversity_pressure=0.9, hc_fraction_nn=0.1;, score=0.637 total time=   3.6s\n",
      "[CV 5/5] END complexity_ratio=5.623413251903491, complexity_temp=316.22776601683796, diversity_pressure=0.9, hc_fraction_nn=0.1;, score=0.627 total time=   3.1s\n",
      "[CV 1/5] END complexity_ratio=5.623413251903491, complexity_temp=1000.0, diversity_pressure=0.0, hc_fraction_nn=0.01;, score=0.558 total time=   4.9s\n",
      "[CV 2/5] END complexity_ratio=5.623413251903491, complexity_temp=1000.0, diversity_pressure=0.0, hc_fraction_nn=0.01;, score=0.608 total time=   3.0s\n",
      "[CV 3/5] END complexity_ratio=5.623413251903491, complexity_temp=1000.0, diversity_pressure=0.0, hc_fraction_nn=0.01;, score=0.539 total time=   5.7s\n",
      "[CV 4/5] END complexity_ratio=5.623413251903491, complexity_temp=1000.0, diversity_pressure=0.0, hc_fraction_nn=0.01;, score=0.523 total time=   3.0s\n",
      "[CV 5/5] END complexity_ratio=5.623413251903491, complexity_temp=1000.0, diversity_pressure=0.0, hc_fraction_nn=0.01;, score=0.545 total time=   4.8s\n",
      "[CV 1/5] END complexity_ratio=5.623413251903491, complexity_temp=1000.0, diversity_pressure=0.0, hc_fraction_nn=0.1;, score=0.617 total time=   3.0s\n",
      "[CV 2/5] END complexity_ratio=5.623413251903491, complexity_temp=1000.0, diversity_pressure=0.0, hc_fraction_nn=0.1;, score=0.589 total time=   2.5s\n",
      "[CV 3/5] END complexity_ratio=5.623413251903491, complexity_temp=1000.0, diversity_pressure=0.0, hc_fraction_nn=0.1;, score=0.584 total time=   4.4s\n",
      "[CV 4/5] END complexity_ratio=5.623413251903491, complexity_temp=1000.0, diversity_pressure=0.0, hc_fraction_nn=0.1;, score=0.616 total time=   3.7s\n",
      "[CV 5/5] END complexity_ratio=5.623413251903491, complexity_temp=1000.0, diversity_pressure=0.0, hc_fraction_nn=0.1;, score=0.602 total time=   2.4s\n",
      "[CV 1/5] END complexity_ratio=5.623413251903491, complexity_temp=1000.0, diversity_pressure=0.3, hc_fraction_nn=0.01;, score=0.613 total time=   2.8s\n",
      "[CV 2/5] END complexity_ratio=5.623413251903491, complexity_temp=1000.0, diversity_pressure=0.3, hc_fraction_nn=0.01;, score=0.570 total time=   2.9s\n",
      "[CV 3/5] END complexity_ratio=5.623413251903491, complexity_temp=1000.0, diversity_pressure=0.3, hc_fraction_nn=0.01;, score=0.494 total time=   5.6s\n",
      "[CV 4/5] END complexity_ratio=5.623413251903491, complexity_temp=1000.0, diversity_pressure=0.3, hc_fraction_nn=0.01;, score=0.557 total time=   4.8s\n",
      "[CV 5/5] END complexity_ratio=5.623413251903491, complexity_temp=1000.0, diversity_pressure=0.3, hc_fraction_nn=0.01;, score=0.630 total time=   3.3s\n",
      "[CV 1/5] END complexity_ratio=5.623413251903491, complexity_temp=1000.0, diversity_pressure=0.3, hc_fraction_nn=0.1;, score=0.590 total time=   2.6s\n",
      "[CV 2/5] END complexity_ratio=5.623413251903491, complexity_temp=1000.0, diversity_pressure=0.3, hc_fraction_nn=0.1;, score=0.675 total time=   2.6s\n",
      "[CV 3/5] END complexity_ratio=5.623413251903491, complexity_temp=1000.0, diversity_pressure=0.3, hc_fraction_nn=0.1;, score=0.620 total time=   2.1s\n",
      "[CV 4/5] END complexity_ratio=5.623413251903491, complexity_temp=1000.0, diversity_pressure=0.3, hc_fraction_nn=0.1;, score=0.638 total time=   2.4s\n",
      "[CV 5/5] END complexity_ratio=5.623413251903491, complexity_temp=1000.0, diversity_pressure=0.3, hc_fraction_nn=0.1;, score=0.650 total time=   3.2s\n",
      "[CV 1/5] END complexity_ratio=5.623413251903491, complexity_temp=1000.0, diversity_pressure=0.6, hc_fraction_nn=0.01;, score=0.621 total time=   2.3s\n",
      "[CV 2/5] END complexity_ratio=5.623413251903491, complexity_temp=1000.0, diversity_pressure=0.6, hc_fraction_nn=0.01;, score=0.584 total time=   3.5s\n",
      "[CV 3/5] END complexity_ratio=5.623413251903491, complexity_temp=1000.0, diversity_pressure=0.6, hc_fraction_nn=0.01;, score=0.506 total time=   5.6s\n",
      "[CV 4/5] END complexity_ratio=5.623413251903491, complexity_temp=1000.0, diversity_pressure=0.6, hc_fraction_nn=0.01;, score=0.589 total time=   4.4s\n",
      "[CV 5/5] END complexity_ratio=5.623413251903491, complexity_temp=1000.0, diversity_pressure=0.6, hc_fraction_nn=0.01;, score=0.666 total time=   2.8s\n",
      "[CV 1/5] END complexity_ratio=5.623413251903491, complexity_temp=1000.0, diversity_pressure=0.6, hc_fraction_nn=0.1;, score=0.652 total time=   3.6s\n",
      "[CV 2/5] END complexity_ratio=5.623413251903491, complexity_temp=1000.0, diversity_pressure=0.6, hc_fraction_nn=0.1;, score=0.625 total time=   3.0s\n",
      "[CV 3/5] END complexity_ratio=5.623413251903491, complexity_temp=1000.0, diversity_pressure=0.6, hc_fraction_nn=0.1;, score=0.604 total time=   6.3s\n",
      "[CV 4/5] END complexity_ratio=5.623413251903491, complexity_temp=1000.0, diversity_pressure=0.6, hc_fraction_nn=0.1;, score=0.632 total time=   3.6s\n",
      "[CV 5/5] END complexity_ratio=5.623413251903491, complexity_temp=1000.0, diversity_pressure=0.6, hc_fraction_nn=0.1;, score=0.603 total time=   3.2s\n",
      "[CV 1/5] END complexity_ratio=5.623413251903491, complexity_temp=1000.0, diversity_pressure=0.9, hc_fraction_nn=0.01;, score=0.634 total time=   2.7s\n",
      "[CV 2/5] END complexity_ratio=5.623413251903491, complexity_temp=1000.0, diversity_pressure=0.9, hc_fraction_nn=0.01;, score=0.568 total time=   3.4s\n",
      "[CV 3/5] END complexity_ratio=5.623413251903491, complexity_temp=1000.0, diversity_pressure=0.9, hc_fraction_nn=0.01;, score=0.548 total time=   5.6s\n",
      "[CV 4/5] END complexity_ratio=5.623413251903491, complexity_temp=1000.0, diversity_pressure=0.9, hc_fraction_nn=0.01;, score=0.508 total time=   5.9s\n",
      "[CV 5/5] END complexity_ratio=5.623413251903491, complexity_temp=1000.0, diversity_pressure=0.9, hc_fraction_nn=0.01;, score=0.675 total time=   2.4s\n",
      "[CV 1/5] END complexity_ratio=5.623413251903491, complexity_temp=1000.0, diversity_pressure=0.9, hc_fraction_nn=0.1;, score=0.685 total time=   3.6s\n",
      "[CV 2/5] END complexity_ratio=5.623413251903491, complexity_temp=1000.0, diversity_pressure=0.9, hc_fraction_nn=0.1;, score=0.591 total time=   3.1s\n",
      "[CV 3/5] END complexity_ratio=5.623413251903491, complexity_temp=1000.0, diversity_pressure=0.9, hc_fraction_nn=0.1;, score=0.609 total time=   6.3s\n",
      "[CV 4/5] END complexity_ratio=5.623413251903491, complexity_temp=1000.0, diversity_pressure=0.9, hc_fraction_nn=0.1;, score=0.637 total time=   3.6s\n",
      "[CV 5/5] END complexity_ratio=5.623413251903491, complexity_temp=1000.0, diversity_pressure=0.9, hc_fraction_nn=0.1;, score=0.627 total time=   3.2s\n",
      "[CV 1/5] END complexity_ratio=31.622776601683793, complexity_temp=10.0, diversity_pressure=0.0, hc_fraction_nn=0.01;, score=0.571 total time=   3.2s\n",
      "[CV 2/5] END complexity_ratio=31.622776601683793, complexity_temp=10.0, diversity_pressure=0.0, hc_fraction_nn=0.01;, score=0.459 total time=   3.4s\n",
      "[CV 3/5] END complexity_ratio=31.622776601683793, complexity_temp=10.0, diversity_pressure=0.0, hc_fraction_nn=0.01;, score=0.555 total time=   5.5s\n",
      "[CV 4/5] END complexity_ratio=31.622776601683793, complexity_temp=10.0, diversity_pressure=0.0, hc_fraction_nn=0.01;, score=0.498 total time=   6.1s\n",
      "[CV 5/5] END complexity_ratio=31.622776601683793, complexity_temp=10.0, diversity_pressure=0.0, hc_fraction_nn=0.01;, score=0.518 total time=   6.6s\n",
      "[CV 1/5] END complexity_ratio=31.622776601683793, complexity_temp=10.0, diversity_pressure=0.0, hc_fraction_nn=0.1;, score=0.603 total time=   3.0s\n",
      "[CV 2/5] END complexity_ratio=31.622776601683793, complexity_temp=10.0, diversity_pressure=0.0, hc_fraction_nn=0.1;, score=0.549 total time=   1.6s\n",
      "[CV 3/5] END complexity_ratio=31.622776601683793, complexity_temp=10.0, diversity_pressure=0.0, hc_fraction_nn=0.1;, score=0.591 total time=   5.0s\n",
      "[CV 4/5] END complexity_ratio=31.622776601683793, complexity_temp=10.0, diversity_pressure=0.0, hc_fraction_nn=0.1;, score=0.603 total time=   1.9s\n",
      "[CV 5/5] END complexity_ratio=31.622776601683793, complexity_temp=10.0, diversity_pressure=0.0, hc_fraction_nn=0.1;, score=0.607 total time=   2.2s\n",
      "[CV 1/5] END complexity_ratio=31.622776601683793, complexity_temp=10.0, diversity_pressure=0.3, hc_fraction_nn=0.01;, score=0.609 total time=   2.7s\n",
      "[CV 2/5] END complexity_ratio=31.622776601683793, complexity_temp=10.0, diversity_pressure=0.3, hc_fraction_nn=0.01;, score=0.571 total time=   3.4s\n",
      "[CV 3/5] END complexity_ratio=31.622776601683793, complexity_temp=10.0, diversity_pressure=0.3, hc_fraction_nn=0.01;, score=0.491 total time=   5.6s\n",
      "[CV 4/5] END complexity_ratio=31.622776601683793, complexity_temp=10.0, diversity_pressure=0.3, hc_fraction_nn=0.01;, score=0.537 total time=   6.0s\n",
      "[CV 5/5] END complexity_ratio=31.622776601683793, complexity_temp=10.0, diversity_pressure=0.3, hc_fraction_nn=0.01;, score=0.644 total time=   4.3s\n",
      "[CV 1/5] END complexity_ratio=31.622776601683793, complexity_temp=10.0, diversity_pressure=0.3, hc_fraction_nn=0.1;, score=0.612 total time=   2.2s\n",
      "[CV 2/5] END complexity_ratio=31.622776601683793, complexity_temp=10.0, diversity_pressure=0.3, hc_fraction_nn=0.1;, score=0.549 total time=   1.7s\n",
      "[CV 3/5] END complexity_ratio=31.622776601683793, complexity_temp=10.0, diversity_pressure=0.3, hc_fraction_nn=0.1;, score=0.591 total time=   5.2s\n",
      "[CV 4/5] END complexity_ratio=31.622776601683793, complexity_temp=10.0, diversity_pressure=0.3, hc_fraction_nn=0.1;, score=0.603 total time=   1.9s\n",
      "[CV 5/5] END complexity_ratio=31.622776601683793, complexity_temp=10.0, diversity_pressure=0.3, hc_fraction_nn=0.1;, score=0.607 total time=   2.2s\n",
      "[CV 1/5] END complexity_ratio=31.622776601683793, complexity_temp=10.0, diversity_pressure=0.6, hc_fraction_nn=0.01;, score=0.646 total time=   2.7s\n",
      "[CV 2/5] END complexity_ratio=31.622776601683793, complexity_temp=10.0, diversity_pressure=0.6, hc_fraction_nn=0.01;, score=0.556 total time=   3.4s\n",
      "[CV 3/5] END complexity_ratio=31.622776601683793, complexity_temp=10.0, diversity_pressure=0.6, hc_fraction_nn=0.01;, score=0.508 total time=   5.5s\n",
      "[CV 4/5] END complexity_ratio=31.622776601683793, complexity_temp=10.0, diversity_pressure=0.6, hc_fraction_nn=0.01;, score=0.474 total time=   6.0s\n",
      "[CV 5/5] END complexity_ratio=31.622776601683793, complexity_temp=10.0, diversity_pressure=0.6, hc_fraction_nn=0.01;, score=0.659 total time=   4.3s\n",
      "[CV 1/5] END complexity_ratio=31.622776601683793, complexity_temp=10.0, diversity_pressure=0.6, hc_fraction_nn=0.1;, score=0.612 total time=   2.2s\n",
      "[CV 2/5] END complexity_ratio=31.622776601683793, complexity_temp=10.0, diversity_pressure=0.6, hc_fraction_nn=0.1;, score=0.549 total time=   1.6s\n",
      "[CV 3/5] END complexity_ratio=31.622776601683793, complexity_temp=10.0, diversity_pressure=0.6, hc_fraction_nn=0.1;, score=0.591 total time=   5.0s\n",
      "[CV 4/5] END complexity_ratio=31.622776601683793, complexity_temp=10.0, diversity_pressure=0.6, hc_fraction_nn=0.1;, score=0.603 total time=   1.9s\n",
      "[CV 5/5] END complexity_ratio=31.622776601683793, complexity_temp=10.0, diversity_pressure=0.6, hc_fraction_nn=0.1;, score=0.607 total time=   2.2s\n",
      "[CV 1/5] END complexity_ratio=31.622776601683793, complexity_temp=10.0, diversity_pressure=0.9, hc_fraction_nn=0.01;, score=0.616 total time=   2.7s\n",
      "[CV 2/5] END complexity_ratio=31.622776601683793, complexity_temp=10.0, diversity_pressure=0.9, hc_fraction_nn=0.01;, score=0.567 total time=   3.4s\n",
      "[CV 3/5] END complexity_ratio=31.622776601683793, complexity_temp=10.0, diversity_pressure=0.9, hc_fraction_nn=0.01;, score=0.548 total time=   5.6s\n",
      "[CV 4/5] END complexity_ratio=31.622776601683793, complexity_temp=10.0, diversity_pressure=0.9, hc_fraction_nn=0.01;, score=0.479 total time=   6.1s\n",
      "[CV 5/5] END complexity_ratio=31.622776601683793, complexity_temp=10.0, diversity_pressure=0.9, hc_fraction_nn=0.01;, score=0.654 total time=   4.3s\n",
      "[CV 1/5] END complexity_ratio=31.622776601683793, complexity_temp=10.0, diversity_pressure=0.9, hc_fraction_nn=0.1;, score=0.612 total time=   2.2s\n",
      "[CV 2/5] END complexity_ratio=31.622776601683793, complexity_temp=10.0, diversity_pressure=0.9, hc_fraction_nn=0.1;, score=0.549 total time=   1.6s\n",
      "[CV 3/5] END complexity_ratio=31.622776601683793, complexity_temp=10.0, diversity_pressure=0.9, hc_fraction_nn=0.1;, score=0.591 total time=   5.0s\n",
      "[CV 4/5] END complexity_ratio=31.622776601683793, complexity_temp=10.0, diversity_pressure=0.9, hc_fraction_nn=0.1;, score=0.603 total time=   1.9s\n",
      "[CV 5/5] END complexity_ratio=31.622776601683793, complexity_temp=10.0, diversity_pressure=0.9, hc_fraction_nn=0.1;, score=0.607 total time=   2.2s\n",
      "[CV 1/5] END complexity_ratio=31.622776601683793, complexity_temp=31.622776601683793, diversity_pressure=0.0, hc_fraction_nn=0.01;, score=0.582 total time=   2.9s\n",
      "[CV 2/5] END complexity_ratio=31.622776601683793, complexity_temp=31.622776601683793, diversity_pressure=0.0, hc_fraction_nn=0.01;, score=0.474 total time=   3.5s\n",
      "[CV 3/5] END complexity_ratio=31.622776601683793, complexity_temp=31.622776601683793, diversity_pressure=0.0, hc_fraction_nn=0.01;, score=0.534 total time=   5.7s\n",
      "[CV 4/5] END complexity_ratio=31.622776601683793, complexity_temp=31.622776601683793, diversity_pressure=0.0, hc_fraction_nn=0.01;, score=0.498 total time=   6.2s\n",
      "[CV 5/5] END complexity_ratio=31.622776601683793, complexity_temp=31.622776601683793, diversity_pressure=0.0, hc_fraction_nn=0.01;, score=0.538 total time=   4.4s\n",
      "[CV 1/5] END complexity_ratio=31.622776601683793, complexity_temp=31.622776601683793, diversity_pressure=0.0, hc_fraction_nn=0.1;, score=0.600 total time=   3.3s\n",
      "[CV 2/5] END complexity_ratio=31.622776601683793, complexity_temp=31.622776601683793, diversity_pressure=0.0, hc_fraction_nn=0.1;, score=0.556 total time=   2.8s\n",
      "[CV 3/5] END complexity_ratio=31.622776601683793, complexity_temp=31.622776601683793, diversity_pressure=0.0, hc_fraction_nn=0.1;, score=0.573 total time=   6.1s\n",
      "[CV 4/5] END complexity_ratio=31.622776601683793, complexity_temp=31.622776601683793, diversity_pressure=0.0, hc_fraction_nn=0.1;, score=0.630 total time=   3.5s\n",
      "[CV 5/5] END complexity_ratio=31.622776601683793, complexity_temp=31.622776601683793, diversity_pressure=0.0, hc_fraction_nn=0.1;, score=0.590 total time=   3.0s\n",
      "[CV 1/5] END complexity_ratio=31.622776601683793, complexity_temp=31.622776601683793, diversity_pressure=0.3, hc_fraction_nn=0.01;, score=0.630 total time=   2.7s\n",
      "[CV 2/5] END complexity_ratio=31.622776601683793, complexity_temp=31.622776601683793, diversity_pressure=0.3, hc_fraction_nn=0.01;, score=0.564 total time=   3.4s\n",
      "[CV 3/5] END complexity_ratio=31.622776601683793, complexity_temp=31.622776601683793, diversity_pressure=0.3, hc_fraction_nn=0.01;, score=0.491 total time=   5.6s\n",
      "[CV 4/5] END complexity_ratio=31.622776601683793, complexity_temp=31.622776601683793, diversity_pressure=0.3, hc_fraction_nn=0.01;, score=0.508 total time=   6.0s\n",
      "[CV 5/5] END complexity_ratio=31.622776601683793, complexity_temp=31.622776601683793, diversity_pressure=0.3, hc_fraction_nn=0.01;, score=0.633 total time=   4.3s\n",
      "[CV 1/5] END complexity_ratio=31.622776601683793, complexity_temp=31.622776601683793, diversity_pressure=0.3, hc_fraction_nn=0.1;, score=0.678 total time=   3.5s\n",
      "[CV 2/5] END complexity_ratio=31.622776601683793, complexity_temp=31.622776601683793, diversity_pressure=0.3, hc_fraction_nn=0.1;, score=0.550 total time=   2.8s\n",
      "[CV 3/5] END complexity_ratio=31.622776601683793, complexity_temp=31.622776601683793, diversity_pressure=0.3, hc_fraction_nn=0.1;, score=0.612 total time=   6.2s\n",
      "[CV 4/5] END complexity_ratio=31.622776601683793, complexity_temp=31.622776601683793, diversity_pressure=0.3, hc_fraction_nn=0.1;, score=0.614 total time=   3.5s\n",
      "[CV 5/5] END complexity_ratio=31.622776601683793, complexity_temp=31.622776601683793, diversity_pressure=0.3, hc_fraction_nn=0.1;, score=0.602 total time=   3.1s\n",
      "[CV 1/5] END complexity_ratio=31.622776601683793, complexity_temp=31.622776601683793, diversity_pressure=0.6, hc_fraction_nn=0.01;, score=0.637 total time=   2.7s\n",
      "[CV 2/5] END complexity_ratio=31.622776601683793, complexity_temp=31.622776601683793, diversity_pressure=0.6, hc_fraction_nn=0.01;, score=0.576 total time=   3.4s\n",
      "[CV 3/5] END complexity_ratio=31.622776601683793, complexity_temp=31.622776601683793, diversity_pressure=0.6, hc_fraction_nn=0.01;, score=0.508 total time=   5.6s\n",
      "[CV 4/5] END complexity_ratio=31.622776601683793, complexity_temp=31.622776601683793, diversity_pressure=0.6, hc_fraction_nn=0.01;, score=0.474 total time=   6.1s\n",
      "[CV 5/5] END complexity_ratio=31.622776601683793, complexity_temp=31.622776601683793, diversity_pressure=0.6, hc_fraction_nn=0.01;, score=0.657 total time=   4.3s\n",
      "[CV 1/5] END complexity_ratio=31.622776601683793, complexity_temp=31.622776601683793, diversity_pressure=0.6, hc_fraction_nn=0.1;, score=0.678 total time=   3.5s\n",
      "[CV 2/5] END complexity_ratio=31.622776601683793, complexity_temp=31.622776601683793, diversity_pressure=0.6, hc_fraction_nn=0.1;, score=0.552 total time=   2.8s\n",
      "[CV 3/5] END complexity_ratio=31.622776601683793, complexity_temp=31.622776601683793, diversity_pressure=0.6, hc_fraction_nn=0.1;, score=0.614 total time=   6.1s\n",
      "[CV 4/5] END complexity_ratio=31.622776601683793, complexity_temp=31.622776601683793, diversity_pressure=0.6, hc_fraction_nn=0.1;, score=0.617 total time=   3.5s\n",
      "[CV 5/5] END complexity_ratio=31.622776601683793, complexity_temp=31.622776601683793, diversity_pressure=0.6, hc_fraction_nn=0.1;, score=0.620 total time=   3.0s\n",
      "[CV 1/5] END complexity_ratio=31.622776601683793, complexity_temp=31.622776601683793, diversity_pressure=0.9, hc_fraction_nn=0.01;, score=0.631 total time=   2.8s\n",
      "[CV 2/5] END complexity_ratio=31.622776601683793, complexity_temp=31.622776601683793, diversity_pressure=0.9, hc_fraction_nn=0.01;, score=0.559 total time=   3.5s\n",
      "[CV 3/5] END complexity_ratio=31.622776601683793, complexity_temp=31.622776601683793, diversity_pressure=0.9, hc_fraction_nn=0.01;, score=0.548 total time=   5.6s\n",
      "[CV 4/5] END complexity_ratio=31.622776601683793, complexity_temp=31.622776601683793, diversity_pressure=0.9, hc_fraction_nn=0.01;, score=0.479 total time=   6.0s\n",
      "[CV 5/5] END complexity_ratio=31.622776601683793, complexity_temp=31.622776601683793, diversity_pressure=0.9, hc_fraction_nn=0.01;, score=0.647 total time=   4.3s\n",
      "[CV 1/5] END complexity_ratio=31.622776601683793, complexity_temp=31.622776601683793, diversity_pressure=0.9, hc_fraction_nn=0.1;, score=0.677 total time=   3.4s\n",
      "[CV 2/5] END complexity_ratio=31.622776601683793, complexity_temp=31.622776601683793, diversity_pressure=0.9, hc_fraction_nn=0.1;, score=0.554 total time=   2.9s\n",
      "[CV 3/5] END complexity_ratio=31.622776601683793, complexity_temp=31.622776601683793, diversity_pressure=0.9, hc_fraction_nn=0.1;, score=0.614 total time=   6.2s\n",
      "[CV 4/5] END complexity_ratio=31.622776601683793, complexity_temp=31.622776601683793, diversity_pressure=0.9, hc_fraction_nn=0.1;, score=0.615 total time=   3.5s\n",
      "[CV 5/5] END complexity_ratio=31.622776601683793, complexity_temp=31.622776601683793, diversity_pressure=0.9, hc_fraction_nn=0.1;, score=0.621 total time=   3.0s\n",
      "[CV 1/5] END complexity_ratio=31.622776601683793, complexity_temp=100.0, diversity_pressure=0.0, hc_fraction_nn=0.01;, score=0.588 total time=   3.4s\n",
      "[CV 2/5] END complexity_ratio=31.622776601683793, complexity_temp=100.0, diversity_pressure=0.0, hc_fraction_nn=0.01;, score=0.518 total time=   3.2s\n",
      "[CV 3/5] END complexity_ratio=31.622776601683793, complexity_temp=100.0, diversity_pressure=0.0, hc_fraction_nn=0.01;, score=0.569 total time=   6.3s\n",
      "[CV 4/5] END complexity_ratio=31.622776601683793, complexity_temp=100.0, diversity_pressure=0.0, hc_fraction_nn=0.01;, score=0.511 total time=   5.7s\n",
      "[CV 5/5] END complexity_ratio=31.622776601683793, complexity_temp=100.0, diversity_pressure=0.0, hc_fraction_nn=0.01;, score=0.541 total time=   3.4s\n",
      "[CV 1/5] END complexity_ratio=31.622776601683793, complexity_temp=100.0, diversity_pressure=0.0, hc_fraction_nn=0.1;, score=0.600 total time=   3.4s\n",
      "[CV 2/5] END complexity_ratio=31.622776601683793, complexity_temp=100.0, diversity_pressure=0.0, hc_fraction_nn=0.1;, score=0.557 total time=   3.0s\n",
      "[CV 3/5] END complexity_ratio=31.622776601683793, complexity_temp=100.0, diversity_pressure=0.0, hc_fraction_nn=0.1;, score=0.573 total time=   6.2s\n",
      "[CV 4/5] END complexity_ratio=31.622776601683793, complexity_temp=100.0, diversity_pressure=0.0, hc_fraction_nn=0.1;, score=0.630 total time=   3.5s\n",
      "[CV 5/5] END complexity_ratio=31.622776601683793, complexity_temp=100.0, diversity_pressure=0.0, hc_fraction_nn=0.1;, score=0.590 total time=   3.0s\n",
      "[CV 1/5] END complexity_ratio=31.622776601683793, complexity_temp=100.0, diversity_pressure=0.3, hc_fraction_nn=0.01;, score=0.617 total time=   2.7s\n",
      "[CV 2/5] END complexity_ratio=31.622776601683793, complexity_temp=100.0, diversity_pressure=0.3, hc_fraction_nn=0.01;, score=0.561 total time=   3.5s\n",
      "[CV 3/5] END complexity_ratio=31.622776601683793, complexity_temp=100.0, diversity_pressure=0.3, hc_fraction_nn=0.01;, score=0.491 total time=   5.6s\n",
      "[CV 4/5] END complexity_ratio=31.622776601683793, complexity_temp=100.0, diversity_pressure=0.3, hc_fraction_nn=0.01;, score=0.508 total time=   6.2s\n",
      "[CV 5/5] END complexity_ratio=31.622776601683793, complexity_temp=100.0, diversity_pressure=0.3, hc_fraction_nn=0.01;, score=0.631 total time=   4.3s\n",
      "[CV 1/5] END complexity_ratio=31.622776601683793, complexity_temp=100.0, diversity_pressure=0.3, hc_fraction_nn=0.1;, score=0.647 total time=   3.6s\n",
      "[CV 2/5] END complexity_ratio=31.622776601683793, complexity_temp=100.0, diversity_pressure=0.3, hc_fraction_nn=0.1;, score=0.598 total time=   3.0s\n",
      "[CV 3/5] END complexity_ratio=31.622776601683793, complexity_temp=100.0, diversity_pressure=0.3, hc_fraction_nn=0.1;, score=0.582 total time=   6.3s\n",
      "[CV 4/5] END complexity_ratio=31.622776601683793, complexity_temp=100.0, diversity_pressure=0.3, hc_fraction_nn=0.1;, score=0.615 total time=   3.6s\n",
      "[CV 5/5] END complexity_ratio=31.622776601683793, complexity_temp=100.0, diversity_pressure=0.3, hc_fraction_nn=0.1;, score=0.602 total time=   3.1s\n",
      "[CV 1/5] END complexity_ratio=31.622776601683793, complexity_temp=100.0, diversity_pressure=0.6, hc_fraction_nn=0.01;, score=0.637 total time=   2.8s\n",
      "[CV 2/5] END complexity_ratio=31.622776601683793, complexity_temp=100.0, diversity_pressure=0.6, hc_fraction_nn=0.01;, score=0.575 total time=   3.4s\n",
      "[CV 3/5] END complexity_ratio=31.622776601683793, complexity_temp=100.0, diversity_pressure=0.6, hc_fraction_nn=0.01;, score=0.508 total time=   5.6s\n",
      "[CV 4/5] END complexity_ratio=31.622776601683793, complexity_temp=100.0, diversity_pressure=0.6, hc_fraction_nn=0.01;, score=0.474 total time=   6.0s\n",
      "[CV 5/5] END complexity_ratio=31.622776601683793, complexity_temp=100.0, diversity_pressure=0.6, hc_fraction_nn=0.01;, score=0.669 total time=   4.4s\n",
      "[CV 1/5] END complexity_ratio=31.622776601683793, complexity_temp=100.0, diversity_pressure=0.6, hc_fraction_nn=0.1;, score=0.644 total time=   3.6s\n",
      "[CV 2/5] END complexity_ratio=31.622776601683793, complexity_temp=100.0, diversity_pressure=0.6, hc_fraction_nn=0.1;, score=0.617 total time=   3.0s\n",
      "[CV 3/5] END complexity_ratio=31.622776601683793, complexity_temp=100.0, diversity_pressure=0.6, hc_fraction_nn=0.1;, score=0.595 total time=   6.2s\n",
      "[CV 4/5] END complexity_ratio=31.622776601683793, complexity_temp=100.0, diversity_pressure=0.6, hc_fraction_nn=0.1;, score=0.623 total time=   3.5s\n",
      "[CV 5/5] END complexity_ratio=31.622776601683793, complexity_temp=100.0, diversity_pressure=0.6, hc_fraction_nn=0.1;, score=0.608 total time=   3.1s\n",
      "[CV 1/5] END complexity_ratio=31.622776601683793, complexity_temp=100.0, diversity_pressure=0.9, hc_fraction_nn=0.01;, score=0.639 total time=   2.8s\n",
      "[CV 2/5] END complexity_ratio=31.622776601683793, complexity_temp=100.0, diversity_pressure=0.9, hc_fraction_nn=0.01;, score=0.560 total time=   3.4s\n",
      "[CV 3/5] END complexity_ratio=31.622776601683793, complexity_temp=100.0, diversity_pressure=0.9, hc_fraction_nn=0.01;, score=0.548 total time=   5.6s\n",
      "[CV 4/5] END complexity_ratio=31.622776601683793, complexity_temp=100.0, diversity_pressure=0.9, hc_fraction_nn=0.01;, score=0.479 total time=   6.0s\n",
      "[CV 5/5] END complexity_ratio=31.622776601683793, complexity_temp=100.0, diversity_pressure=0.9, hc_fraction_nn=0.01;, score=0.653 total time=   4.3s\n",
      "[CV 1/5] END complexity_ratio=31.622776601683793, complexity_temp=100.0, diversity_pressure=0.9, hc_fraction_nn=0.1;, score=0.674 total time=   3.7s\n",
      "[CV 2/5] END complexity_ratio=31.622776601683793, complexity_temp=100.0, diversity_pressure=0.9, hc_fraction_nn=0.1;, score=0.599 total time=   3.1s\n",
      "[CV 3/5] END complexity_ratio=31.622776601683793, complexity_temp=100.0, diversity_pressure=0.9, hc_fraction_nn=0.1;, score=0.593 total time=   6.3s\n",
      "[CV 4/5] END complexity_ratio=31.622776601683793, complexity_temp=100.0, diversity_pressure=0.9, hc_fraction_nn=0.1;, score=0.621 total time=   3.6s\n",
      "[CV 5/5] END complexity_ratio=31.622776601683793, complexity_temp=100.0, diversity_pressure=0.9, hc_fraction_nn=0.1;, score=0.616 total time=   3.1s\n",
      "[CV 1/5] END complexity_ratio=31.622776601683793, complexity_temp=316.22776601683796, diversity_pressure=0.0, hc_fraction_nn=0.01;, score=0.539 total time=   3.0s\n",
      "[CV 2/5] END complexity_ratio=31.622776601683793, complexity_temp=316.22776601683796, diversity_pressure=0.0, hc_fraction_nn=0.01;, score=0.582 total time=   3.9s\n",
      "[CV 3/5] END complexity_ratio=31.622776601683793, complexity_temp=316.22776601683796, diversity_pressure=0.0, hc_fraction_nn=0.01;, score=0.537 total time=   4.2s\n",
      "[CV 4/5] END complexity_ratio=31.622776601683793, complexity_temp=316.22776601683796, diversity_pressure=0.0, hc_fraction_nn=0.01;, score=0.477 total time=   5.6s\n",
      "[CV 5/5] END complexity_ratio=31.622776601683793, complexity_temp=316.22776601683796, diversity_pressure=0.0, hc_fraction_nn=0.01;, score=0.587 total time=   3.5s\n",
      "[CV 1/5] END complexity_ratio=31.622776601683793, complexity_temp=316.22776601683796, diversity_pressure=0.0, hc_fraction_nn=0.1;, score=0.588 total time=   3.0s\n",
      "[CV 2/5] END complexity_ratio=31.622776601683793, complexity_temp=316.22776601683796, diversity_pressure=0.0, hc_fraction_nn=0.1;, score=0.555 total time=   2.1s\n",
      "[CV 3/5] END complexity_ratio=31.622776601683793, complexity_temp=316.22776601683796, diversity_pressure=0.0, hc_fraction_nn=0.1;, score=0.573 total time=   5.2s\n",
      "[CV 4/5] END complexity_ratio=31.622776601683793, complexity_temp=316.22776601683796, diversity_pressure=0.0, hc_fraction_nn=0.1;, score=0.630 total time=   2.9s\n",
      "[CV 5/5] END complexity_ratio=31.622776601683793, complexity_temp=316.22776601683796, diversity_pressure=0.0, hc_fraction_nn=0.1;, score=0.637 total time=   3.4s\n",
      "[CV 1/5] END complexity_ratio=31.622776601683793, complexity_temp=316.22776601683796, diversity_pressure=0.3, hc_fraction_nn=0.01;, score=0.617 total time=   2.8s\n",
      "[CV 2/5] END complexity_ratio=31.622776601683793, complexity_temp=316.22776601683796, diversity_pressure=0.3, hc_fraction_nn=0.01;, score=0.561 total time=   3.6s\n",
      "[CV 3/5] END complexity_ratio=31.622776601683793, complexity_temp=316.22776601683796, diversity_pressure=0.3, hc_fraction_nn=0.01;, score=0.491 total time=   5.6s\n",
      "[CV 4/5] END complexity_ratio=31.622776601683793, complexity_temp=316.22776601683796, diversity_pressure=0.3, hc_fraction_nn=0.01;, score=0.508 total time=   6.1s\n",
      "[CV 5/5] END complexity_ratio=31.622776601683793, complexity_temp=316.22776601683796, diversity_pressure=0.3, hc_fraction_nn=0.01;, score=0.631 total time=   4.5s\n",
      "[CV 1/5] END complexity_ratio=31.622776601683793, complexity_temp=316.22776601683796, diversity_pressure=0.3, hc_fraction_nn=0.1;, score=0.647 total time=   3.6s\n",
      "[CV 2/5] END complexity_ratio=31.622776601683793, complexity_temp=316.22776601683796, diversity_pressure=0.3, hc_fraction_nn=0.1;, score=0.598 total time=   3.0s\n",
      "[CV 3/5] END complexity_ratio=31.622776601683793, complexity_temp=316.22776601683796, diversity_pressure=0.3, hc_fraction_nn=0.1;, score=0.582 total time=   6.3s\n",
      "[CV 4/5] END complexity_ratio=31.622776601683793, complexity_temp=316.22776601683796, diversity_pressure=0.3, hc_fraction_nn=0.1;, score=0.615 total time=   3.6s\n",
      "[CV 5/5] END complexity_ratio=31.622776601683793, complexity_temp=316.22776601683796, diversity_pressure=0.3, hc_fraction_nn=0.1;, score=0.602 total time=   3.2s\n",
      "[CV 1/5] END complexity_ratio=31.622776601683793, complexity_temp=316.22776601683796, diversity_pressure=0.6, hc_fraction_nn=0.01;, score=0.645 total time=   2.8s\n",
      "[CV 2/5] END complexity_ratio=31.622776601683793, complexity_temp=316.22776601683796, diversity_pressure=0.6, hc_fraction_nn=0.01;, score=0.583 total time=   3.5s\n",
      "[CV 3/5] END complexity_ratio=31.622776601683793, complexity_temp=316.22776601683796, diversity_pressure=0.6, hc_fraction_nn=0.01;, score=0.508 total time=   5.6s\n",
      "[CV 4/5] END complexity_ratio=31.622776601683793, complexity_temp=316.22776601683796, diversity_pressure=0.6, hc_fraction_nn=0.01;, score=0.477 total time=   6.1s\n",
      "[CV 5/5] END complexity_ratio=31.622776601683793, complexity_temp=316.22776601683796, diversity_pressure=0.6, hc_fraction_nn=0.01;, score=0.669 total time=   4.3s\n",
      "[CV 1/5] END complexity_ratio=31.622776601683793, complexity_temp=316.22776601683796, diversity_pressure=0.6, hc_fraction_nn=0.1;, score=0.651 total time=   3.6s\n",
      "[CV 2/5] END complexity_ratio=31.622776601683793, complexity_temp=316.22776601683796, diversity_pressure=0.6, hc_fraction_nn=0.1;, score=0.627 total time=   3.0s\n",
      "[CV 3/5] END complexity_ratio=31.622776601683793, complexity_temp=316.22776601683796, diversity_pressure=0.6, hc_fraction_nn=0.1;, score=0.604 total time=   6.3s\n",
      "[CV 4/5] END complexity_ratio=31.622776601683793, complexity_temp=316.22776601683796, diversity_pressure=0.6, hc_fraction_nn=0.1;, score=0.634 total time=   3.6s\n",
      "[CV 5/5] END complexity_ratio=31.622776601683793, complexity_temp=316.22776601683796, diversity_pressure=0.6, hc_fraction_nn=0.1;, score=0.608 total time=   3.1s\n",
      "[CV 1/5] END complexity_ratio=31.622776601683793, complexity_temp=316.22776601683796, diversity_pressure=0.9, hc_fraction_nn=0.01;, score=0.633 total time=   2.8s\n",
      "[CV 2/5] END complexity_ratio=31.622776601683793, complexity_temp=316.22776601683796, diversity_pressure=0.9, hc_fraction_nn=0.01;, score=0.560 total time=   3.5s\n",
      "[CV 3/5] END complexity_ratio=31.622776601683793, complexity_temp=316.22776601683796, diversity_pressure=0.9, hc_fraction_nn=0.01;, score=0.548 total time=   5.6s\n",
      "[CV 4/5] END complexity_ratio=31.622776601683793, complexity_temp=316.22776601683796, diversity_pressure=0.9, hc_fraction_nn=0.01;, score=0.490 total time=   6.0s\n",
      "[CV 5/5] END complexity_ratio=31.622776601683793, complexity_temp=316.22776601683796, diversity_pressure=0.9, hc_fraction_nn=0.01;, score=0.645 total time=   4.3s\n",
      "[CV 1/5] END complexity_ratio=31.622776601683793, complexity_temp=316.22776601683796, diversity_pressure=0.9, hc_fraction_nn=0.1;, score=0.674 total time=   3.6s\n",
      "[CV 2/5] END complexity_ratio=31.622776601683793, complexity_temp=316.22776601683796, diversity_pressure=0.9, hc_fraction_nn=0.1;, score=0.597 total time=   3.0s\n",
      "[CV 3/5] END complexity_ratio=31.622776601683793, complexity_temp=316.22776601683796, diversity_pressure=0.9, hc_fraction_nn=0.1;, score=0.608 total time=   6.3s\n",
      "[CV 4/5] END complexity_ratio=31.622776601683793, complexity_temp=316.22776601683796, diversity_pressure=0.9, hc_fraction_nn=0.1;, score=0.636 total time=   3.6s\n",
      "[CV 5/5] END complexity_ratio=31.622776601683793, complexity_temp=316.22776601683796, diversity_pressure=0.9, hc_fraction_nn=0.1;, score=0.630 total time=   3.1s\n",
      "[CV 1/5] END complexity_ratio=31.622776601683793, complexity_temp=1000.0, diversity_pressure=0.0, hc_fraction_nn=0.01;, score=0.558 total time=   4.9s\n",
      "[CV 2/5] END complexity_ratio=31.622776601683793, complexity_temp=1000.0, diversity_pressure=0.0, hc_fraction_nn=0.01;, score=0.608 total time=   3.0s\n",
      "[CV 3/5] END complexity_ratio=31.622776601683793, complexity_temp=1000.0, diversity_pressure=0.0, hc_fraction_nn=0.01;, score=0.473 total time=   2.5s\n",
      "[CV 4/5] END complexity_ratio=31.622776601683793, complexity_temp=1000.0, diversity_pressure=0.0, hc_fraction_nn=0.01;, score=0.614 total time=   2.4s\n",
      "[CV 5/5] END complexity_ratio=31.622776601683793, complexity_temp=1000.0, diversity_pressure=0.0, hc_fraction_nn=0.01;, score=0.537 total time=   4.5s\n",
      "[CV 1/5] END complexity_ratio=31.622776601683793, complexity_temp=1000.0, diversity_pressure=0.0, hc_fraction_nn=0.1;, score=0.609 total time=   3.3s\n",
      "[CV 2/5] END complexity_ratio=31.622776601683793, complexity_temp=1000.0, diversity_pressure=0.0, hc_fraction_nn=0.1;, score=0.580 total time=   2.4s\n",
      "[CV 3/5] END complexity_ratio=31.622776601683793, complexity_temp=1000.0, diversity_pressure=0.0, hc_fraction_nn=0.1;, score=0.589 total time=   2.2s\n",
      "[CV 4/5] END complexity_ratio=31.622776601683793, complexity_temp=1000.0, diversity_pressure=0.0, hc_fraction_nn=0.1;, score=0.616 total time=   3.7s\n",
      "[CV 5/5] END complexity_ratio=31.622776601683793, complexity_temp=1000.0, diversity_pressure=0.0, hc_fraction_nn=0.1;, score=0.629 total time=   4.2s\n",
      "[CV 1/5] END complexity_ratio=31.622776601683793, complexity_temp=1000.0, diversity_pressure=0.3, hc_fraction_nn=0.01;, score=0.607 total time=   2.5s\n",
      "[CV 2/5] END complexity_ratio=31.622776601683793, complexity_temp=1000.0, diversity_pressure=0.3, hc_fraction_nn=0.01;, score=0.558 total time=   2.8s\n",
      "[CV 3/5] END complexity_ratio=31.622776601683793, complexity_temp=1000.0, diversity_pressure=0.3, hc_fraction_nn=0.01;, score=0.491 total time=   5.6s\n",
      "[CV 4/5] END complexity_ratio=31.622776601683793, complexity_temp=1000.0, diversity_pressure=0.3, hc_fraction_nn=0.01;, score=0.487 total time=   3.6s\n",
      "[CV 5/5] END complexity_ratio=31.622776601683793, complexity_temp=1000.0, diversity_pressure=0.3, hc_fraction_nn=0.01;, score=0.640 total time=   3.0s\n",
      "[CV 1/5] END complexity_ratio=31.622776601683793, complexity_temp=1000.0, diversity_pressure=0.3, hc_fraction_nn=0.1;, score=0.631 total time=   3.4s\n",
      "[CV 2/5] END complexity_ratio=31.622776601683793, complexity_temp=1000.0, diversity_pressure=0.3, hc_fraction_nn=0.1;, score=0.676 total time=   2.6s\n",
      "[CV 3/5] END complexity_ratio=31.622776601683793, complexity_temp=1000.0, diversity_pressure=0.3, hc_fraction_nn=0.1;, score=0.577 total time=   2.9s\n",
      "[CV 4/5] END complexity_ratio=31.622776601683793, complexity_temp=1000.0, diversity_pressure=0.3, hc_fraction_nn=0.1;, score=0.672 total time=   3.0s\n",
      "[CV 5/5] END complexity_ratio=31.622776601683793, complexity_temp=1000.0, diversity_pressure=0.3, hc_fraction_nn=0.1;, score=0.630 total time=   2.7s\n",
      "[CV 1/5] END complexity_ratio=31.622776601683793, complexity_temp=1000.0, diversity_pressure=0.6, hc_fraction_nn=0.01;, score=0.604 total time=   2.3s\n",
      "[CV 2/5] END complexity_ratio=31.622776601683793, complexity_temp=1000.0, diversity_pressure=0.6, hc_fraction_nn=0.01;, score=0.583 total time=   3.4s\n",
      "[CV 3/5] END complexity_ratio=31.622776601683793, complexity_temp=1000.0, diversity_pressure=0.6, hc_fraction_nn=0.01;, score=0.508 total time=   5.6s\n",
      "[CV 4/5] END complexity_ratio=31.622776601683793, complexity_temp=1000.0, diversity_pressure=0.6, hc_fraction_nn=0.01;, score=0.477 total time=   6.3s\n",
      "[CV 5/5] END complexity_ratio=31.622776601683793, complexity_temp=1000.0, diversity_pressure=0.6, hc_fraction_nn=0.01;, score=0.695 total time=   3.7s\n",
      "[CV 1/5] END complexity_ratio=31.622776601683793, complexity_temp=1000.0, diversity_pressure=0.6, hc_fraction_nn=0.1;, score=0.651 total time=   3.6s\n",
      "[CV 2/5] END complexity_ratio=31.622776601683793, complexity_temp=1000.0, diversity_pressure=0.6, hc_fraction_nn=0.1;, score=0.627 total time=   3.0s\n",
      "[CV 3/5] END complexity_ratio=31.622776601683793, complexity_temp=1000.0, diversity_pressure=0.6, hc_fraction_nn=0.1;, score=0.604 total time=   6.3s\n",
      "[CV 4/5] END complexity_ratio=31.622776601683793, complexity_temp=1000.0, diversity_pressure=0.6, hc_fraction_nn=0.1;, score=0.634 total time=   3.6s\n",
      "[CV 5/5] END complexity_ratio=31.622776601683793, complexity_temp=1000.0, diversity_pressure=0.6, hc_fraction_nn=0.1;, score=0.608 total time=   3.2s\n",
      "[CV 1/5] END complexity_ratio=31.622776601683793, complexity_temp=1000.0, diversity_pressure=0.9, hc_fraction_nn=0.01;, score=0.634 total time=   2.8s\n",
      "[CV 2/5] END complexity_ratio=31.622776601683793, complexity_temp=1000.0, diversity_pressure=0.9, hc_fraction_nn=0.01;, score=0.562 total time=   3.5s\n",
      "[CV 3/5] END complexity_ratio=31.622776601683793, complexity_temp=1000.0, diversity_pressure=0.9, hc_fraction_nn=0.01;, score=0.548 total time=   5.6s\n",
      "[CV 4/5] END complexity_ratio=31.622776601683793, complexity_temp=1000.0, diversity_pressure=0.9, hc_fraction_nn=0.01;, score=0.490 total time=   6.0s\n",
      "[CV 5/5] END complexity_ratio=31.622776601683793, complexity_temp=1000.0, diversity_pressure=0.9, hc_fraction_nn=0.01;, score=0.583 total time=   3.2s\n",
      "[CV 1/5] END complexity_ratio=31.622776601683793, complexity_temp=1000.0, diversity_pressure=0.9, hc_fraction_nn=0.1;, score=0.674 total time=   3.6s\n",
      "[CV 2/5] END complexity_ratio=31.622776601683793, complexity_temp=1000.0, diversity_pressure=0.9, hc_fraction_nn=0.1;, score=0.597 total time=   3.1s\n",
      "[CV 3/5] END complexity_ratio=31.622776601683793, complexity_temp=1000.0, diversity_pressure=0.9, hc_fraction_nn=0.1;, score=0.608 total time=   6.3s\n",
      "[CV 4/5] END complexity_ratio=31.622776601683793, complexity_temp=1000.0, diversity_pressure=0.9, hc_fraction_nn=0.1;, score=0.636 total time=   3.6s\n",
      "[CV 5/5] END complexity_ratio=31.622776601683793, complexity_temp=1000.0, diversity_pressure=0.9, hc_fraction_nn=0.1;, score=0.630 total time=   3.1s\n",
      "[CV 1/5] END complexity_ratio=177.82794100389228, complexity_temp=10.0, diversity_pressure=0.0, hc_fraction_nn=0.01;, score=0.571 total time=   3.3s\n",
      "[CV 2/5] END complexity_ratio=177.82794100389228, complexity_temp=10.0, diversity_pressure=0.0, hc_fraction_nn=0.01;, score=0.459 total time=   3.4s\n",
      "[CV 3/5] END complexity_ratio=177.82794100389228, complexity_temp=10.0, diversity_pressure=0.0, hc_fraction_nn=0.01;, score=0.534 total time=   5.7s\n",
      "[CV 4/5] END complexity_ratio=177.82794100389228, complexity_temp=10.0, diversity_pressure=0.0, hc_fraction_nn=0.01;, score=0.498 total time=   6.2s\n",
      "[CV 5/5] END complexity_ratio=177.82794100389228, complexity_temp=10.0, diversity_pressure=0.0, hc_fraction_nn=0.01;, score=0.518 total time=   6.7s\n",
      "[CV 1/5] END complexity_ratio=177.82794100389228, complexity_temp=10.0, diversity_pressure=0.0, hc_fraction_nn=0.1;, score=0.603 total time=   3.0s\n",
      "[CV 2/5] END complexity_ratio=177.82794100389228, complexity_temp=10.0, diversity_pressure=0.0, hc_fraction_nn=0.1;, score=0.549 total time=   1.6s\n",
      "[CV 3/5] END complexity_ratio=177.82794100389228, complexity_temp=10.0, diversity_pressure=0.0, hc_fraction_nn=0.1;, score=0.591 total time=   5.0s\n",
      "[CV 4/5] END complexity_ratio=177.82794100389228, complexity_temp=10.0, diversity_pressure=0.0, hc_fraction_nn=0.1;, score=0.603 total time=   1.9s\n",
      "[CV 5/5] END complexity_ratio=177.82794100389228, complexity_temp=10.0, diversity_pressure=0.0, hc_fraction_nn=0.1;, score=0.607 total time=   2.2s\n",
      "[CV 1/5] END complexity_ratio=177.82794100389228, complexity_temp=10.0, diversity_pressure=0.3, hc_fraction_nn=0.01;, score=0.614 total time=   2.7s\n",
      "[CV 2/5] END complexity_ratio=177.82794100389228, complexity_temp=10.0, diversity_pressure=0.3, hc_fraction_nn=0.01;, score=0.577 total time=   3.4s\n",
      "[CV 3/5] END complexity_ratio=177.82794100389228, complexity_temp=10.0, diversity_pressure=0.3, hc_fraction_nn=0.01;, score=0.491 total time=   5.6s\n",
      "[CV 4/5] END complexity_ratio=177.82794100389228, complexity_temp=10.0, diversity_pressure=0.3, hc_fraction_nn=0.01;, score=0.537 total time=   6.0s\n",
      "[CV 5/5] END complexity_ratio=177.82794100389228, complexity_temp=10.0, diversity_pressure=0.3, hc_fraction_nn=0.01;, score=0.644 total time=   4.3s\n",
      "[CV 1/5] END complexity_ratio=177.82794100389228, complexity_temp=10.0, diversity_pressure=0.3, hc_fraction_nn=0.1;, score=0.612 total time=   2.2s\n",
      "[CV 2/5] END complexity_ratio=177.82794100389228, complexity_temp=10.0, diversity_pressure=0.3, hc_fraction_nn=0.1;, score=0.549 total time=   1.6s\n",
      "[CV 3/5] END complexity_ratio=177.82794100389228, complexity_temp=10.0, diversity_pressure=0.3, hc_fraction_nn=0.1;, score=0.591 total time=   5.0s\n",
      "[CV 4/5] END complexity_ratio=177.82794100389228, complexity_temp=10.0, diversity_pressure=0.3, hc_fraction_nn=0.1;, score=0.603 total time=   1.9s\n",
      "[CV 5/5] END complexity_ratio=177.82794100389228, complexity_temp=10.0, diversity_pressure=0.3, hc_fraction_nn=0.1;, score=0.607 total time=   2.2s\n",
      "[CV 1/5] END complexity_ratio=177.82794100389228, complexity_temp=10.0, diversity_pressure=0.6, hc_fraction_nn=0.01;, score=0.646 total time=   2.7s\n",
      "[CV 2/5] END complexity_ratio=177.82794100389228, complexity_temp=10.0, diversity_pressure=0.6, hc_fraction_nn=0.01;, score=0.556 total time=   3.4s\n",
      "[CV 3/5] END complexity_ratio=177.82794100389228, complexity_temp=10.0, diversity_pressure=0.6, hc_fraction_nn=0.01;, score=0.508 total time=   5.6s\n",
      "[CV 4/5] END complexity_ratio=177.82794100389228, complexity_temp=10.0, diversity_pressure=0.6, hc_fraction_nn=0.01;, score=0.474 total time=   6.0s\n",
      "[CV 5/5] END complexity_ratio=177.82794100389228, complexity_temp=10.0, diversity_pressure=0.6, hc_fraction_nn=0.01;, score=0.659 total time=   4.3s\n",
      "[CV 1/5] END complexity_ratio=177.82794100389228, complexity_temp=10.0, diversity_pressure=0.6, hc_fraction_nn=0.1;, score=0.612 total time=   2.2s\n",
      "[CV 2/5] END complexity_ratio=177.82794100389228, complexity_temp=10.0, diversity_pressure=0.6, hc_fraction_nn=0.1;, score=0.549 total time=   1.6s\n",
      "[CV 3/5] END complexity_ratio=177.82794100389228, complexity_temp=10.0, diversity_pressure=0.6, hc_fraction_nn=0.1;, score=0.591 total time=   5.0s\n",
      "[CV 4/5] END complexity_ratio=177.82794100389228, complexity_temp=10.0, diversity_pressure=0.6, hc_fraction_nn=0.1;, score=0.603 total time=   1.9s\n",
      "[CV 5/5] END complexity_ratio=177.82794100389228, complexity_temp=10.0, diversity_pressure=0.6, hc_fraction_nn=0.1;, score=0.607 total time=   2.2s\n",
      "[CV 1/5] END complexity_ratio=177.82794100389228, complexity_temp=10.0, diversity_pressure=0.9, hc_fraction_nn=0.01;, score=0.616 total time=   2.7s\n",
      "[CV 2/5] END complexity_ratio=177.82794100389228, complexity_temp=10.0, diversity_pressure=0.9, hc_fraction_nn=0.01;, score=0.567 total time=   3.5s\n",
      "[CV 3/5] END complexity_ratio=177.82794100389228, complexity_temp=10.0, diversity_pressure=0.9, hc_fraction_nn=0.01;, score=0.547 total time=   5.6s\n",
      "[CV 4/5] END complexity_ratio=177.82794100389228, complexity_temp=10.0, diversity_pressure=0.9, hc_fraction_nn=0.01;, score=0.479 total time=   6.0s\n",
      "[CV 5/5] END complexity_ratio=177.82794100389228, complexity_temp=10.0, diversity_pressure=0.9, hc_fraction_nn=0.01;, score=0.654 total time=   4.3s\n",
      "[CV 1/5] END complexity_ratio=177.82794100389228, complexity_temp=10.0, diversity_pressure=0.9, hc_fraction_nn=0.1;, score=0.612 total time=   2.2s\n",
      "[CV 2/5] END complexity_ratio=177.82794100389228, complexity_temp=10.0, diversity_pressure=0.9, hc_fraction_nn=0.1;, score=0.549 total time=   1.6s\n",
      "[CV 3/5] END complexity_ratio=177.82794100389228, complexity_temp=10.0, diversity_pressure=0.9, hc_fraction_nn=0.1;, score=0.591 total time=   5.1s\n",
      "[CV 4/5] END complexity_ratio=177.82794100389228, complexity_temp=10.0, diversity_pressure=0.9, hc_fraction_nn=0.1;, score=0.603 total time=   2.0s\n",
      "[CV 5/5] END complexity_ratio=177.82794100389228, complexity_temp=10.0, diversity_pressure=0.9, hc_fraction_nn=0.1;, score=0.607 total time=   2.2s\n",
      "[CV 1/5] END complexity_ratio=177.82794100389228, complexity_temp=31.622776601683793, diversity_pressure=0.0, hc_fraction_nn=0.01;, score=0.614 total time=   2.7s\n",
      "[CV 2/5] END complexity_ratio=177.82794100389228, complexity_temp=31.622776601683793, diversity_pressure=0.0, hc_fraction_nn=0.01;, score=0.474 total time=   3.5s\n",
      "[CV 3/5] END complexity_ratio=177.82794100389228, complexity_temp=31.622776601683793, diversity_pressure=0.0, hc_fraction_nn=0.01;, score=0.534 total time=   5.7s\n",
      "[CV 4/5] END complexity_ratio=177.82794100389228, complexity_temp=31.622776601683793, diversity_pressure=0.0, hc_fraction_nn=0.01;, score=0.498 total time=   6.2s\n",
      "[CV 5/5] END complexity_ratio=177.82794100389228, complexity_temp=31.622776601683793, diversity_pressure=0.0, hc_fraction_nn=0.01;, score=0.538 total time=   4.4s\n",
      "[CV 1/5] END complexity_ratio=177.82794100389228, complexity_temp=31.622776601683793, diversity_pressure=0.0, hc_fraction_nn=0.1;, score=0.600 total time=   3.4s\n",
      "[CV 2/5] END complexity_ratio=177.82794100389228, complexity_temp=31.622776601683793, diversity_pressure=0.0, hc_fraction_nn=0.1;, score=0.556 total time=   2.9s\n",
      "[CV 3/5] END complexity_ratio=177.82794100389228, complexity_temp=31.622776601683793, diversity_pressure=0.0, hc_fraction_nn=0.1;, score=0.573 total time=   6.2s\n",
      "[CV 4/5] END complexity_ratio=177.82794100389228, complexity_temp=31.622776601683793, diversity_pressure=0.0, hc_fraction_nn=0.1;, score=0.630 total time=   3.5s\n",
      "[CV 5/5] END complexity_ratio=177.82794100389228, complexity_temp=31.622776601683793, diversity_pressure=0.0, hc_fraction_nn=0.1;, score=0.590 total time=   3.0s\n",
      "[CV 1/5] END complexity_ratio=177.82794100389228, complexity_temp=31.622776601683793, diversity_pressure=0.3, hc_fraction_nn=0.01;, score=0.629 total time=   2.7s\n",
      "[CV 2/5] END complexity_ratio=177.82794100389228, complexity_temp=31.622776601683793, diversity_pressure=0.3, hc_fraction_nn=0.01;, score=0.565 total time=   3.4s\n",
      "[CV 3/5] END complexity_ratio=177.82794100389228, complexity_temp=31.622776601683793, diversity_pressure=0.3, hc_fraction_nn=0.01;, score=0.491 total time=   5.6s\n",
      "[CV 4/5] END complexity_ratio=177.82794100389228, complexity_temp=31.622776601683793, diversity_pressure=0.3, hc_fraction_nn=0.01;, score=0.508 total time=   6.1s\n",
      "[CV 5/5] END complexity_ratio=177.82794100389228, complexity_temp=31.622776601683793, diversity_pressure=0.3, hc_fraction_nn=0.01;, score=0.633 total time=   4.3s\n",
      "[CV 1/5] END complexity_ratio=177.82794100389228, complexity_temp=31.622776601683793, diversity_pressure=0.3, hc_fraction_nn=0.1;, score=0.678 total time=   3.5s\n",
      "[CV 2/5] END complexity_ratio=177.82794100389228, complexity_temp=31.622776601683793, diversity_pressure=0.3, hc_fraction_nn=0.1;, score=0.550 total time=   2.9s\n",
      "[CV 3/5] END complexity_ratio=177.82794100389228, complexity_temp=31.622776601683793, diversity_pressure=0.3, hc_fraction_nn=0.1;, score=0.613 total time=   6.2s\n",
      "[CV 4/5] END complexity_ratio=177.82794100389228, complexity_temp=31.622776601683793, diversity_pressure=0.3, hc_fraction_nn=0.1;, score=0.615 total time=   3.5s\n",
      "[CV 5/5] END complexity_ratio=177.82794100389228, complexity_temp=31.622776601683793, diversity_pressure=0.3, hc_fraction_nn=0.1;, score=0.602 total time=   3.0s\n",
      "[CV 1/5] END complexity_ratio=177.82794100389228, complexity_temp=31.622776601683793, diversity_pressure=0.6, hc_fraction_nn=0.01;, score=0.637 total time=   2.7s\n",
      "[CV 2/5] END complexity_ratio=177.82794100389228, complexity_temp=31.622776601683793, diversity_pressure=0.6, hc_fraction_nn=0.01;, score=0.573 total time=   3.5s\n",
      "[CV 3/5] END complexity_ratio=177.82794100389228, complexity_temp=31.622776601683793, diversity_pressure=0.6, hc_fraction_nn=0.01;, score=0.508 total time=   5.6s\n",
      "[CV 4/5] END complexity_ratio=177.82794100389228, complexity_temp=31.622776601683793, diversity_pressure=0.6, hc_fraction_nn=0.01;, score=0.483 total time=   6.1s\n",
      "[CV 5/5] END complexity_ratio=177.82794100389228, complexity_temp=31.622776601683793, diversity_pressure=0.6, hc_fraction_nn=0.01;, score=0.665 total time=   4.3s\n",
      "[CV 1/5] END complexity_ratio=177.82794100389228, complexity_temp=31.622776601683793, diversity_pressure=0.6, hc_fraction_nn=0.1;, score=0.677 total time=   3.5s\n",
      "[CV 2/5] END complexity_ratio=177.82794100389228, complexity_temp=31.622776601683793, diversity_pressure=0.6, hc_fraction_nn=0.1;, score=0.552 total time=   2.9s\n",
      "[CV 3/5] END complexity_ratio=177.82794100389228, complexity_temp=31.622776601683793, diversity_pressure=0.6, hc_fraction_nn=0.1;, score=0.614 total time=   6.2s\n",
      "[CV 4/5] END complexity_ratio=177.82794100389228, complexity_temp=31.622776601683793, diversity_pressure=0.6, hc_fraction_nn=0.1;, score=0.617 total time=   3.5s\n",
      "[CV 5/5] END complexity_ratio=177.82794100389228, complexity_temp=31.622776601683793, diversity_pressure=0.6, hc_fraction_nn=0.1;, score=0.620 total time=   3.0s\n",
      "[CV 1/5] END complexity_ratio=177.82794100389228, complexity_temp=31.622776601683793, diversity_pressure=0.9, hc_fraction_nn=0.01;, score=0.631 total time=   2.7s\n",
      "[CV 2/5] END complexity_ratio=177.82794100389228, complexity_temp=31.622776601683793, diversity_pressure=0.9, hc_fraction_nn=0.01;, score=0.558 total time=   3.4s\n",
      "[CV 3/5] END complexity_ratio=177.82794100389228, complexity_temp=31.622776601683793, diversity_pressure=0.9, hc_fraction_nn=0.01;, score=0.547 total time=   5.6s\n",
      "[CV 4/5] END complexity_ratio=177.82794100389228, complexity_temp=31.622776601683793, diversity_pressure=0.9, hc_fraction_nn=0.01;, score=0.486 total time=   6.1s\n",
      "[CV 5/5] END complexity_ratio=177.82794100389228, complexity_temp=31.622776601683793, diversity_pressure=0.9, hc_fraction_nn=0.01;, score=0.647 total time=   4.3s\n",
      "[CV 1/5] END complexity_ratio=177.82794100389228, complexity_temp=31.622776601683793, diversity_pressure=0.9, hc_fraction_nn=0.1;, score=0.677 total time=   3.5s\n",
      "[CV 2/5] END complexity_ratio=177.82794100389228, complexity_temp=31.622776601683793, diversity_pressure=0.9, hc_fraction_nn=0.1;, score=0.554 total time=   2.8s\n",
      "[CV 3/5] END complexity_ratio=177.82794100389228, complexity_temp=31.622776601683793, diversity_pressure=0.9, hc_fraction_nn=0.1;, score=0.614 total time=   6.1s\n",
      "[CV 4/5] END complexity_ratio=177.82794100389228, complexity_temp=31.622776601683793, diversity_pressure=0.9, hc_fraction_nn=0.1;, score=0.613 total time=   3.5s\n",
      "[CV 5/5] END complexity_ratio=177.82794100389228, complexity_temp=31.622776601683793, diversity_pressure=0.9, hc_fraction_nn=0.1;, score=0.621 total time=   3.0s\n",
      "[CV 1/5] END complexity_ratio=177.82794100389228, complexity_temp=100.0, diversity_pressure=0.0, hc_fraction_nn=0.01;, score=0.588 total time=   3.3s\n",
      "[CV 2/5] END complexity_ratio=177.82794100389228, complexity_temp=100.0, diversity_pressure=0.0, hc_fraction_nn=0.01;, score=0.518 total time=   3.2s\n",
      "[CV 3/5] END complexity_ratio=177.82794100389228, complexity_temp=100.0, diversity_pressure=0.0, hc_fraction_nn=0.01;, score=0.569 total time=   6.3s\n",
      "[CV 4/5] END complexity_ratio=177.82794100389228, complexity_temp=100.0, diversity_pressure=0.0, hc_fraction_nn=0.01;, score=0.477 total time=   5.5s\n",
      "[CV 5/5] END complexity_ratio=177.82794100389228, complexity_temp=100.0, diversity_pressure=0.0, hc_fraction_nn=0.01;, score=0.571 total time=   3.1s\n",
      "[CV 1/5] END complexity_ratio=177.82794100389228, complexity_temp=100.0, diversity_pressure=0.0, hc_fraction_nn=0.1;, score=0.600 total time=   3.4s\n",
      "[CV 2/5] END complexity_ratio=177.82794100389228, complexity_temp=100.0, diversity_pressure=0.0, hc_fraction_nn=0.1;, score=0.557 total time=   3.1s\n",
      "[CV 3/5] END complexity_ratio=177.82794100389228, complexity_temp=100.0, diversity_pressure=0.0, hc_fraction_nn=0.1;, score=0.573 total time=   6.2s\n",
      "[CV 4/5] END complexity_ratio=177.82794100389228, complexity_temp=100.0, diversity_pressure=0.0, hc_fraction_nn=0.1;, score=0.630 total time=   3.5s\n",
      "[CV 5/5] END complexity_ratio=177.82794100389228, complexity_temp=100.0, diversity_pressure=0.0, hc_fraction_nn=0.1;, score=0.617 total time=   3.7s\n",
      "[CV 1/5] END complexity_ratio=177.82794100389228, complexity_temp=100.0, diversity_pressure=0.3, hc_fraction_nn=0.01;, score=0.622 total time=   2.7s\n",
      "[CV 2/5] END complexity_ratio=177.82794100389228, complexity_temp=100.0, diversity_pressure=0.3, hc_fraction_nn=0.01;, score=0.561 total time=   3.4s\n",
      "[CV 3/5] END complexity_ratio=177.82794100389228, complexity_temp=100.0, diversity_pressure=0.3, hc_fraction_nn=0.01;, score=0.491 total time=   5.6s\n",
      "[CV 4/5] END complexity_ratio=177.82794100389228, complexity_temp=100.0, diversity_pressure=0.3, hc_fraction_nn=0.01;, score=0.508 total time=   6.0s\n",
      "[CV 5/5] END complexity_ratio=177.82794100389228, complexity_temp=100.0, diversity_pressure=0.3, hc_fraction_nn=0.01;, score=0.631 total time=   4.3s\n",
      "[CV 1/5] END complexity_ratio=177.82794100389228, complexity_temp=100.0, diversity_pressure=0.3, hc_fraction_nn=0.1;, score=0.647 total time=   3.6s\n",
      "[CV 2/5] END complexity_ratio=177.82794100389228, complexity_temp=100.0, diversity_pressure=0.3, hc_fraction_nn=0.1;, score=0.597 total time=   3.0s\n",
      "[CV 3/5] END complexity_ratio=177.82794100389228, complexity_temp=100.0, diversity_pressure=0.3, hc_fraction_nn=0.1;, score=0.582 total time=   6.3s\n",
      "[CV 4/5] END complexity_ratio=177.82794100389228, complexity_temp=100.0, diversity_pressure=0.3, hc_fraction_nn=0.1;, score=0.615 total time=   3.6s\n",
      "[CV 5/5] END complexity_ratio=177.82794100389228, complexity_temp=100.0, diversity_pressure=0.3, hc_fraction_nn=0.1;, score=0.602 total time=   3.1s\n",
      "[CV 1/5] END complexity_ratio=177.82794100389228, complexity_temp=100.0, diversity_pressure=0.6, hc_fraction_nn=0.01;, score=0.637 total time=   2.9s\n",
      "[CV 2/5] END complexity_ratio=177.82794100389228, complexity_temp=100.0, diversity_pressure=0.6, hc_fraction_nn=0.01;, score=0.572 total time=   3.4s\n",
      "[CV 3/5] END complexity_ratio=177.82794100389228, complexity_temp=100.0, diversity_pressure=0.6, hc_fraction_nn=0.01;, score=0.508 total time=   5.6s\n",
      "[CV 4/5] END complexity_ratio=177.82794100389228, complexity_temp=100.0, diversity_pressure=0.6, hc_fraction_nn=0.01;, score=0.483 total time=   6.0s\n",
      "[CV 5/5] END complexity_ratio=177.82794100389228, complexity_temp=100.0, diversity_pressure=0.6, hc_fraction_nn=0.01;, score=0.669 total time=   4.4s\n",
      "[CV 1/5] END complexity_ratio=177.82794100389228, complexity_temp=100.0, diversity_pressure=0.6, hc_fraction_nn=0.1;, score=0.641 total time=   3.6s\n",
      "[CV 2/5] END complexity_ratio=177.82794100389228, complexity_temp=100.0, diversity_pressure=0.6, hc_fraction_nn=0.1;, score=0.617 total time=   3.0s\n",
      "[CV 3/5] END complexity_ratio=177.82794100389228, complexity_temp=100.0, diversity_pressure=0.6, hc_fraction_nn=0.1;, score=0.595 total time=   6.2s\n",
      "[CV 4/5] END complexity_ratio=177.82794100389228, complexity_temp=100.0, diversity_pressure=0.6, hc_fraction_nn=0.1;, score=0.623 total time=   3.5s\n",
      "[CV 5/5] END complexity_ratio=177.82794100389228, complexity_temp=100.0, diversity_pressure=0.6, hc_fraction_nn=0.1;, score=0.608 total time=   3.1s\n",
      "[CV 1/5] END complexity_ratio=177.82794100389228, complexity_temp=100.0, diversity_pressure=0.9, hc_fraction_nn=0.01;, score=0.637 total time=   2.8s\n",
      "[CV 2/5] END complexity_ratio=177.82794100389228, complexity_temp=100.0, diversity_pressure=0.9, hc_fraction_nn=0.01;, score=0.560 total time=   3.4s\n",
      "[CV 3/5] END complexity_ratio=177.82794100389228, complexity_temp=100.0, diversity_pressure=0.9, hc_fraction_nn=0.01;, score=0.547 total time=   5.6s\n",
      "[CV 4/5] END complexity_ratio=177.82794100389228, complexity_temp=100.0, diversity_pressure=0.9, hc_fraction_nn=0.01;, score=0.486 total time=   6.0s\n",
      "[CV 5/5] END complexity_ratio=177.82794100389228, complexity_temp=100.0, diversity_pressure=0.9, hc_fraction_nn=0.01;, score=0.653 total time=   4.3s\n",
      "[CV 1/5] END complexity_ratio=177.82794100389228, complexity_temp=100.0, diversity_pressure=0.9, hc_fraction_nn=0.1;, score=0.674 total time=   3.6s\n",
      "[CV 2/5] END complexity_ratio=177.82794100389228, complexity_temp=100.0, diversity_pressure=0.9, hc_fraction_nn=0.1;, score=0.599 total time=   3.0s\n",
      "[CV 3/5] END complexity_ratio=177.82794100389228, complexity_temp=100.0, diversity_pressure=0.9, hc_fraction_nn=0.1;, score=0.593 total time=   6.2s\n",
      "[CV 4/5] END complexity_ratio=177.82794100389228, complexity_temp=100.0, diversity_pressure=0.9, hc_fraction_nn=0.1;, score=0.620 total time=   3.6s\n",
      "[CV 5/5] END complexity_ratio=177.82794100389228, complexity_temp=100.0, diversity_pressure=0.9, hc_fraction_nn=0.1;, score=0.619 total time=   3.1s\n",
      "[CV 1/5] END complexity_ratio=177.82794100389228, complexity_temp=316.22776601683796, diversity_pressure=0.0, hc_fraction_nn=0.01;, score=0.582 total time=   2.9s\n",
      "[CV 2/5] END complexity_ratio=177.82794100389228, complexity_temp=316.22776601683796, diversity_pressure=0.0, hc_fraction_nn=0.01;, score=0.582 total time=   4.0s\n",
      "[CV 3/5] END complexity_ratio=177.82794100389228, complexity_temp=316.22776601683796, diversity_pressure=0.0, hc_fraction_nn=0.01;, score=0.539 total time=   4.4s\n",
      "[CV 4/5] END complexity_ratio=177.82794100389228, complexity_temp=316.22776601683796, diversity_pressure=0.0, hc_fraction_nn=0.01;, score=0.499 total time=   5.6s\n",
      "[CV 5/5] END complexity_ratio=177.82794100389228, complexity_temp=316.22776601683796, diversity_pressure=0.0, hc_fraction_nn=0.01;, score=0.589 total time=   5.3s\n",
      "[CV 1/5] END complexity_ratio=177.82794100389228, complexity_temp=316.22776601683796, diversity_pressure=0.0, hc_fraction_nn=0.1;, score=0.588 total time=   3.0s\n",
      "[CV 2/5] END complexity_ratio=177.82794100389228, complexity_temp=316.22776601683796, diversity_pressure=0.0, hc_fraction_nn=0.1;, score=0.555 total time=   2.2s\n",
      "[CV 3/5] END complexity_ratio=177.82794100389228, complexity_temp=316.22776601683796, diversity_pressure=0.0, hc_fraction_nn=0.1;, score=0.573 total time=   5.2s\n",
      "[CV 4/5] END complexity_ratio=177.82794100389228, complexity_temp=316.22776601683796, diversity_pressure=0.0, hc_fraction_nn=0.1;, score=0.630 total time=   2.9s\n",
      "[CV 5/5] END complexity_ratio=177.82794100389228, complexity_temp=316.22776601683796, diversity_pressure=0.0, hc_fraction_nn=0.1;, score=0.637 total time=   3.4s\n",
      "[CV 1/5] END complexity_ratio=177.82794100389228, complexity_temp=316.22776601683796, diversity_pressure=0.3, hc_fraction_nn=0.01;, score=0.622 total time=   2.7s\n",
      "[CV 2/5] END complexity_ratio=177.82794100389228, complexity_temp=316.22776601683796, diversity_pressure=0.3, hc_fraction_nn=0.01;, score=0.561 total time=   3.4s\n",
      "[CV 3/5] END complexity_ratio=177.82794100389228, complexity_temp=316.22776601683796, diversity_pressure=0.3, hc_fraction_nn=0.01;, score=0.491 total time=   5.6s\n",
      "[CV 4/5] END complexity_ratio=177.82794100389228, complexity_temp=316.22776601683796, diversity_pressure=0.3, hc_fraction_nn=0.01;, score=0.508 total time=   6.1s\n",
      "[CV 5/5] END complexity_ratio=177.82794100389228, complexity_temp=316.22776601683796, diversity_pressure=0.3, hc_fraction_nn=0.01;, score=0.631 total time=   4.3s\n",
      "[CV 1/5] END complexity_ratio=177.82794100389228, complexity_temp=316.22776601683796, diversity_pressure=0.3, hc_fraction_nn=0.1;, score=0.647 total time=   3.6s\n",
      "[CV 2/5] END complexity_ratio=177.82794100389228, complexity_temp=316.22776601683796, diversity_pressure=0.3, hc_fraction_nn=0.1;, score=0.597 total time=   3.0s\n",
      "[CV 3/5] END complexity_ratio=177.82794100389228, complexity_temp=316.22776601683796, diversity_pressure=0.3, hc_fraction_nn=0.1;, score=0.582 total time=   6.3s\n",
      "[CV 4/5] END complexity_ratio=177.82794100389228, complexity_temp=316.22776601683796, diversity_pressure=0.3, hc_fraction_nn=0.1;, score=0.615 total time=   3.6s\n",
      "[CV 5/5] END complexity_ratio=177.82794100389228, complexity_temp=316.22776601683796, diversity_pressure=0.3, hc_fraction_nn=0.1;, score=0.602 total time=   3.1s\n",
      "[CV 1/5] END complexity_ratio=177.82794100389228, complexity_temp=316.22776601683796, diversity_pressure=0.6, hc_fraction_nn=0.01;, score=0.646 total time=   2.7s\n",
      "[CV 2/5] END complexity_ratio=177.82794100389228, complexity_temp=316.22776601683796, diversity_pressure=0.6, hc_fraction_nn=0.01;, score=0.580 total time=   3.6s\n",
      "[CV 3/5] END complexity_ratio=177.82794100389228, complexity_temp=316.22776601683796, diversity_pressure=0.6, hc_fraction_nn=0.01;, score=0.508 total time=   5.6s\n",
      "[CV 4/5] END complexity_ratio=177.82794100389228, complexity_temp=316.22776601683796, diversity_pressure=0.6, hc_fraction_nn=0.01;, score=0.477 total time=   6.1s\n",
      "[CV 5/5] END complexity_ratio=177.82794100389228, complexity_temp=316.22776601683796, diversity_pressure=0.6, hc_fraction_nn=0.01;, score=0.669 total time=   4.3s\n",
      "[CV 1/5] END complexity_ratio=177.82794100389228, complexity_temp=316.22776601683796, diversity_pressure=0.6, hc_fraction_nn=0.1;, score=0.650 total time=   3.6s\n",
      "[CV 2/5] END complexity_ratio=177.82794100389228, complexity_temp=316.22776601683796, diversity_pressure=0.6, hc_fraction_nn=0.1;, score=0.627 total time=   3.0s\n",
      "[CV 3/5] END complexity_ratio=177.82794100389228, complexity_temp=316.22776601683796, diversity_pressure=0.6, hc_fraction_nn=0.1;, score=0.604 total time=   6.2s\n",
      "[CV 4/5] END complexity_ratio=177.82794100389228, complexity_temp=316.22776601683796, diversity_pressure=0.6, hc_fraction_nn=0.1;, score=0.634 total time=   3.6s\n",
      "[CV 5/5] END complexity_ratio=177.82794100389228, complexity_temp=316.22776601683796, diversity_pressure=0.6, hc_fraction_nn=0.1;, score=0.608 total time=   3.1s\n",
      "[CV 1/5] END complexity_ratio=177.82794100389228, complexity_temp=316.22776601683796, diversity_pressure=0.9, hc_fraction_nn=0.01;, score=0.632 total time=   2.8s\n",
      "[CV 2/5] END complexity_ratio=177.82794100389228, complexity_temp=316.22776601683796, diversity_pressure=0.9, hc_fraction_nn=0.01;, score=0.560 total time=   3.4s\n",
      "[CV 3/5] END complexity_ratio=177.82794100389228, complexity_temp=316.22776601683796, diversity_pressure=0.9, hc_fraction_nn=0.01;, score=0.547 total time=   5.6s\n",
      "[CV 4/5] END complexity_ratio=177.82794100389228, complexity_temp=316.22776601683796, diversity_pressure=0.9, hc_fraction_nn=0.01;, score=0.490 total time=   6.0s\n",
      "[CV 5/5] END complexity_ratio=177.82794100389228, complexity_temp=316.22776601683796, diversity_pressure=0.9, hc_fraction_nn=0.01;, score=0.645 total time=   4.4s\n",
      "[CV 1/5] END complexity_ratio=177.82794100389228, complexity_temp=316.22776601683796, diversity_pressure=0.9, hc_fraction_nn=0.1;, score=0.674 total time=   3.6s\n",
      "[CV 2/5] END complexity_ratio=177.82794100389228, complexity_temp=316.22776601683796, diversity_pressure=0.9, hc_fraction_nn=0.1;, score=0.597 total time=   3.0s\n",
      "[CV 3/5] END complexity_ratio=177.82794100389228, complexity_temp=316.22776601683796, diversity_pressure=0.9, hc_fraction_nn=0.1;, score=0.609 total time=   6.4s\n",
      "[CV 4/5] END complexity_ratio=177.82794100389228, complexity_temp=316.22776601683796, diversity_pressure=0.9, hc_fraction_nn=0.1;, score=0.634 total time=   3.7s\n",
      "[CV 5/5] END complexity_ratio=177.82794100389228, complexity_temp=316.22776601683796, diversity_pressure=0.9, hc_fraction_nn=0.1;, score=0.613 total time=   3.1s\n",
      "[CV 1/5] END complexity_ratio=177.82794100389228, complexity_temp=1000.0, diversity_pressure=0.0, hc_fraction_nn=0.01;, score=0.558 total time=   5.0s\n",
      "[CV 2/5] END complexity_ratio=177.82794100389228, complexity_temp=1000.0, diversity_pressure=0.0, hc_fraction_nn=0.01;, score=0.608 total time=   3.1s\n",
      "[CV 3/5] END complexity_ratio=177.82794100389228, complexity_temp=1000.0, diversity_pressure=0.0, hc_fraction_nn=0.01;, score=0.473 total time=   2.5s\n",
      "[CV 4/5] END complexity_ratio=177.82794100389228, complexity_temp=1000.0, diversity_pressure=0.0, hc_fraction_nn=0.01;, score=0.595 total time=   3.2s\n",
      "[CV 5/5] END complexity_ratio=177.82794100389228, complexity_temp=1000.0, diversity_pressure=0.0, hc_fraction_nn=0.01;, score=0.565 total time=   4.6s\n",
      "[CV 1/5] END complexity_ratio=177.82794100389228, complexity_temp=1000.0, diversity_pressure=0.0, hc_fraction_nn=0.1;, score=0.609 total time=   3.3s\n",
      "[CV 2/5] END complexity_ratio=177.82794100389228, complexity_temp=1000.0, diversity_pressure=0.0, hc_fraction_nn=0.1;, score=0.580 total time=   2.4s\n",
      "[CV 3/5] END complexity_ratio=177.82794100389228, complexity_temp=1000.0, diversity_pressure=0.0, hc_fraction_nn=0.1;, score=0.589 total time=   2.2s\n",
      "[CV 4/5] END complexity_ratio=177.82794100389228, complexity_temp=1000.0, diversity_pressure=0.0, hc_fraction_nn=0.1;, score=0.616 total time=   3.7s\n",
      "[CV 5/5] END complexity_ratio=177.82794100389228, complexity_temp=1000.0, diversity_pressure=0.0, hc_fraction_nn=0.1;, score=0.629 total time=   4.1s\n",
      "[CV 1/5] END complexity_ratio=177.82794100389228, complexity_temp=1000.0, diversity_pressure=0.3, hc_fraction_nn=0.01;, score=0.607 total time=   2.5s\n",
      "[CV 2/5] END complexity_ratio=177.82794100389228, complexity_temp=1000.0, diversity_pressure=0.3, hc_fraction_nn=0.01;, score=0.558 total time=   2.8s\n",
      "[CV 3/5] END complexity_ratio=177.82794100389228, complexity_temp=1000.0, diversity_pressure=0.3, hc_fraction_nn=0.01;, score=0.491 total time=   5.6s\n",
      "[CV 4/5] END complexity_ratio=177.82794100389228, complexity_temp=1000.0, diversity_pressure=0.3, hc_fraction_nn=0.01;, score=0.555 total time=   3.6s\n",
      "[CV 5/5] END complexity_ratio=177.82794100389228, complexity_temp=1000.0, diversity_pressure=0.3, hc_fraction_nn=0.01;, score=0.640 total time=   3.0s\n",
      "[CV 1/5] END complexity_ratio=177.82794100389228, complexity_temp=1000.0, diversity_pressure=0.3, hc_fraction_nn=0.1;, score=0.631 total time=   3.4s\n",
      "[CV 2/5] END complexity_ratio=177.82794100389228, complexity_temp=1000.0, diversity_pressure=0.3, hc_fraction_nn=0.1;, score=0.675 total time=   2.6s\n",
      "[CV 3/5] END complexity_ratio=177.82794100389228, complexity_temp=1000.0, diversity_pressure=0.3, hc_fraction_nn=0.1;, score=0.577 total time=   3.5s\n",
      "[CV 4/5] END complexity_ratio=177.82794100389228, complexity_temp=1000.0, diversity_pressure=0.3, hc_fraction_nn=0.1;, score=0.585 total time=   3.4s\n",
      "[CV 5/5] END complexity_ratio=177.82794100389228, complexity_temp=1000.0, diversity_pressure=0.3, hc_fraction_nn=0.1;, score=0.630 total time=   2.7s\n",
      "[CV 1/5] END complexity_ratio=177.82794100389228, complexity_temp=1000.0, diversity_pressure=0.6, hc_fraction_nn=0.01;, score=0.604 total time=   2.3s\n",
      "[CV 2/5] END complexity_ratio=177.82794100389228, complexity_temp=1000.0, diversity_pressure=0.6, hc_fraction_nn=0.01;, score=0.580 total time=   3.5s\n",
      "[CV 3/5] END complexity_ratio=177.82794100389228, complexity_temp=1000.0, diversity_pressure=0.6, hc_fraction_nn=0.01;, score=0.508 total time=   5.5s\n",
      "[CV 4/5] END complexity_ratio=177.82794100389228, complexity_temp=1000.0, diversity_pressure=0.6, hc_fraction_nn=0.01;, score=0.477 total time=   6.0s\n",
      "[CV 5/5] END complexity_ratio=177.82794100389228, complexity_temp=1000.0, diversity_pressure=0.6, hc_fraction_nn=0.01;, score=0.557 total time=   2.4s\n",
      "[CV 1/5] END complexity_ratio=177.82794100389228, complexity_temp=1000.0, diversity_pressure=0.6, hc_fraction_nn=0.1;, score=0.650 total time=   3.6s\n",
      "[CV 2/5] END complexity_ratio=177.82794100389228, complexity_temp=1000.0, diversity_pressure=0.6, hc_fraction_nn=0.1;, score=0.627 total time=   3.0s\n",
      "[CV 3/5] END complexity_ratio=177.82794100389228, complexity_temp=1000.0, diversity_pressure=0.6, hc_fraction_nn=0.1;, score=0.604 total time=   6.2s\n",
      "[CV 4/5] END complexity_ratio=177.82794100389228, complexity_temp=1000.0, diversity_pressure=0.6, hc_fraction_nn=0.1;, score=0.634 total time=   3.6s\n",
      "[CV 5/5] END complexity_ratio=177.82794100389228, complexity_temp=1000.0, diversity_pressure=0.6, hc_fraction_nn=0.1;, score=0.608 total time=   3.1s\n",
      "[CV 1/5] END complexity_ratio=177.82794100389228, complexity_temp=1000.0, diversity_pressure=0.9, hc_fraction_nn=0.01;, score=0.633 total time=   2.7s\n",
      "[CV 2/5] END complexity_ratio=177.82794100389228, complexity_temp=1000.0, diversity_pressure=0.9, hc_fraction_nn=0.01;, score=0.562 total time=   3.4s\n",
      "[CV 3/5] END complexity_ratio=177.82794100389228, complexity_temp=1000.0, diversity_pressure=0.9, hc_fraction_nn=0.01;, score=0.547 total time=   5.5s\n",
      "[CV 4/5] END complexity_ratio=177.82794100389228, complexity_temp=1000.0, diversity_pressure=0.9, hc_fraction_nn=0.01;, score=0.490 total time=   6.0s\n",
      "[CV 5/5] END complexity_ratio=177.82794100389228, complexity_temp=1000.0, diversity_pressure=0.9, hc_fraction_nn=0.01;, score=0.583 total time=   3.2s\n",
      "[CV 1/5] END complexity_ratio=177.82794100389228, complexity_temp=1000.0, diversity_pressure=0.9, hc_fraction_nn=0.1;, score=0.674 total time=   3.6s\n",
      "[CV 2/5] END complexity_ratio=177.82794100389228, complexity_temp=1000.0, diversity_pressure=0.9, hc_fraction_nn=0.1;, score=0.597 total time=   3.0s\n",
      "[CV 3/5] END complexity_ratio=177.82794100389228, complexity_temp=1000.0, diversity_pressure=0.9, hc_fraction_nn=0.1;, score=0.609 total time=   6.3s\n",
      "[CV 4/5] END complexity_ratio=177.82794100389228, complexity_temp=1000.0, diversity_pressure=0.9, hc_fraction_nn=0.1;, score=0.634 total time=   3.6s\n",
      "[CV 5/5] END complexity_ratio=177.82794100389228, complexity_temp=1000.0, diversity_pressure=0.9, hc_fraction_nn=0.1;, score=0.613 total time=   3.1s\n",
      "[CV 1/5] END complexity_ratio=1000.0, complexity_temp=10.0, diversity_pressure=0.0, hc_fraction_nn=0.01;, score=0.571 total time=   3.2s\n",
      "[CV 2/5] END complexity_ratio=1000.0, complexity_temp=10.0, diversity_pressure=0.0, hc_fraction_nn=0.01;, score=0.474 total time=   3.4s\n",
      "[CV 3/5] END complexity_ratio=1000.0, complexity_temp=10.0, diversity_pressure=0.0, hc_fraction_nn=0.01;, score=0.534 total time=   5.7s\n",
      "[CV 4/5] END complexity_ratio=1000.0, complexity_temp=10.0, diversity_pressure=0.0, hc_fraction_nn=0.01;, score=0.498 total time=   6.2s\n",
      "[CV 5/5] END complexity_ratio=1000.0, complexity_temp=10.0, diversity_pressure=0.0, hc_fraction_nn=0.01;, score=0.518 total time=   6.6s\n",
      "[CV 1/5] END complexity_ratio=1000.0, complexity_temp=10.0, diversity_pressure=0.0, hc_fraction_nn=0.1;, score=0.603 total time=   2.9s\n",
      "[CV 2/5] END complexity_ratio=1000.0, complexity_temp=10.0, diversity_pressure=0.0, hc_fraction_nn=0.1;, score=0.549 total time=   1.6s\n",
      "[CV 3/5] END complexity_ratio=1000.0, complexity_temp=10.0, diversity_pressure=0.0, hc_fraction_nn=0.1;, score=0.591 total time=   5.0s\n",
      "[CV 4/5] END complexity_ratio=1000.0, complexity_temp=10.0, diversity_pressure=0.0, hc_fraction_nn=0.1;, score=0.603 total time=   1.9s\n",
      "[CV 5/5] END complexity_ratio=1000.0, complexity_temp=10.0, diversity_pressure=0.0, hc_fraction_nn=0.1;, score=0.607 total time=   2.2s\n",
      "[CV 1/5] END complexity_ratio=1000.0, complexity_temp=10.0, diversity_pressure=0.3, hc_fraction_nn=0.01;, score=0.614 total time=   2.7s\n",
      "[CV 2/5] END complexity_ratio=1000.0, complexity_temp=10.0, diversity_pressure=0.3, hc_fraction_nn=0.01;, score=0.577 total time=   3.4s\n",
      "[CV 3/5] END complexity_ratio=1000.0, complexity_temp=10.0, diversity_pressure=0.3, hc_fraction_nn=0.01;, score=0.491 total time=   5.5s\n",
      "[CV 4/5] END complexity_ratio=1000.0, complexity_temp=10.0, diversity_pressure=0.3, hc_fraction_nn=0.01;, score=0.537 total time=   5.9s\n",
      "[CV 5/5] END complexity_ratio=1000.0, complexity_temp=10.0, diversity_pressure=0.3, hc_fraction_nn=0.01;, score=0.644 total time=   4.2s\n",
      "[CV 1/5] END complexity_ratio=1000.0, complexity_temp=10.0, diversity_pressure=0.3, hc_fraction_nn=0.1;, score=0.612 total time=   2.2s\n",
      "[CV 2/5] END complexity_ratio=1000.0, complexity_temp=10.0, diversity_pressure=0.3, hc_fraction_nn=0.1;, score=0.549 total time=   1.6s\n",
      "[CV 3/5] END complexity_ratio=1000.0, complexity_temp=10.0, diversity_pressure=0.3, hc_fraction_nn=0.1;, score=0.591 total time=   5.0s\n",
      "[CV 4/5] END complexity_ratio=1000.0, complexity_temp=10.0, diversity_pressure=0.3, hc_fraction_nn=0.1;, score=0.603 total time=   1.9s\n",
      "[CV 5/5] END complexity_ratio=1000.0, complexity_temp=10.0, diversity_pressure=0.3, hc_fraction_nn=0.1;, score=0.607 total time=   2.2s\n",
      "[CV 1/5] END complexity_ratio=1000.0, complexity_temp=10.0, diversity_pressure=0.6, hc_fraction_nn=0.01;, score=0.646 total time=   2.7s\n",
      "[CV 2/5] END complexity_ratio=1000.0, complexity_temp=10.0, diversity_pressure=0.6, hc_fraction_nn=0.01;, score=0.556 total time=   3.4s\n",
      "[CV 3/5] END complexity_ratio=1000.0, complexity_temp=10.0, diversity_pressure=0.6, hc_fraction_nn=0.01;, score=0.508 total time=   5.5s\n",
      "[CV 4/5] END complexity_ratio=1000.0, complexity_temp=10.0, diversity_pressure=0.6, hc_fraction_nn=0.01;, score=0.474 total time=   6.0s\n",
      "[CV 5/5] END complexity_ratio=1000.0, complexity_temp=10.0, diversity_pressure=0.6, hc_fraction_nn=0.01;, score=0.659 total time=   4.2s\n",
      "[CV 1/5] END complexity_ratio=1000.0, complexity_temp=10.0, diversity_pressure=0.6, hc_fraction_nn=0.1;, score=0.612 total time=   2.2s\n",
      "[CV 2/5] END complexity_ratio=1000.0, complexity_temp=10.0, diversity_pressure=0.6, hc_fraction_nn=0.1;, score=0.549 total time=   1.6s\n",
      "[CV 3/5] END complexity_ratio=1000.0, complexity_temp=10.0, diversity_pressure=0.6, hc_fraction_nn=0.1;, score=0.591 total time=   4.9s\n",
      "[CV 4/5] END complexity_ratio=1000.0, complexity_temp=10.0, diversity_pressure=0.6, hc_fraction_nn=0.1;, score=0.603 total time=   1.9s\n",
      "[CV 5/5] END complexity_ratio=1000.0, complexity_temp=10.0, diversity_pressure=0.6, hc_fraction_nn=0.1;, score=0.607 total time=   2.2s\n",
      "[CV 1/5] END complexity_ratio=1000.0, complexity_temp=10.0, diversity_pressure=0.9, hc_fraction_nn=0.01;, score=0.616 total time=   2.7s\n",
      "[CV 2/5] END complexity_ratio=1000.0, complexity_temp=10.0, diversity_pressure=0.9, hc_fraction_nn=0.01;, score=0.567 total time=   3.4s\n",
      "[CV 3/5] END complexity_ratio=1000.0, complexity_temp=10.0, diversity_pressure=0.9, hc_fraction_nn=0.01;, score=0.547 total time=   5.5s\n",
      "[CV 4/5] END complexity_ratio=1000.0, complexity_temp=10.0, diversity_pressure=0.9, hc_fraction_nn=0.01;, score=0.479 total time=   5.9s\n",
      "[CV 5/5] END complexity_ratio=1000.0, complexity_temp=10.0, diversity_pressure=0.9, hc_fraction_nn=0.01;, score=0.654 total time=   4.2s\n",
      "[CV 1/5] END complexity_ratio=1000.0, complexity_temp=10.0, diversity_pressure=0.9, hc_fraction_nn=0.1;, score=0.612 total time=   2.2s\n",
      "[CV 2/5] END complexity_ratio=1000.0, complexity_temp=10.0, diversity_pressure=0.9, hc_fraction_nn=0.1;, score=0.549 total time=   1.6s\n",
      "[CV 3/5] END complexity_ratio=1000.0, complexity_temp=10.0, diversity_pressure=0.9, hc_fraction_nn=0.1;, score=0.591 total time=   4.9s\n",
      "[CV 4/5] END complexity_ratio=1000.0, complexity_temp=10.0, diversity_pressure=0.9, hc_fraction_nn=0.1;, score=0.603 total time=   1.9s\n",
      "[CV 5/5] END complexity_ratio=1000.0, complexity_temp=10.0, diversity_pressure=0.9, hc_fraction_nn=0.1;, score=0.607 total time=   2.2s\n",
      "[CV 1/5] END complexity_ratio=1000.0, complexity_temp=31.622776601683793, diversity_pressure=0.0, hc_fraction_nn=0.01;, score=0.614 total time=   2.7s\n",
      "[CV 2/5] END complexity_ratio=1000.0, complexity_temp=31.622776601683793, diversity_pressure=0.0, hc_fraction_nn=0.01;, score=0.474 total time=   3.5s\n",
      "[CV 3/5] END complexity_ratio=1000.0, complexity_temp=31.622776601683793, diversity_pressure=0.0, hc_fraction_nn=0.01;, score=0.534 total time=   5.7s\n",
      "[CV 4/5] END complexity_ratio=1000.0, complexity_temp=31.622776601683793, diversity_pressure=0.0, hc_fraction_nn=0.01;, score=0.498 total time=   6.1s\n",
      "[CV 5/5] END complexity_ratio=1000.0, complexity_temp=31.622776601683793, diversity_pressure=0.0, hc_fraction_nn=0.01;, score=0.538 total time=   4.4s\n",
      "[CV 1/5] END complexity_ratio=1000.0, complexity_temp=31.622776601683793, diversity_pressure=0.0, hc_fraction_nn=0.1;, score=0.600 total time=   3.3s\n",
      "[CV 2/5] END complexity_ratio=1000.0, complexity_temp=31.622776601683793, diversity_pressure=0.0, hc_fraction_nn=0.1;, score=0.556 total time=   2.8s\n",
      "[CV 3/5] END complexity_ratio=1000.0, complexity_temp=31.622776601683793, diversity_pressure=0.0, hc_fraction_nn=0.1;, score=0.573 total time=   6.1s\n",
      "[CV 4/5] END complexity_ratio=1000.0, complexity_temp=31.622776601683793, diversity_pressure=0.0, hc_fraction_nn=0.1;, score=0.630 total time=   3.4s\n",
      "[CV 5/5] END complexity_ratio=1000.0, complexity_temp=31.622776601683793, diversity_pressure=0.0, hc_fraction_nn=0.1;, score=0.590 total time=   2.9s\n",
      "[CV 1/5] END complexity_ratio=1000.0, complexity_temp=31.622776601683793, diversity_pressure=0.3, hc_fraction_nn=0.01;, score=0.629 total time=   2.7s\n",
      "[CV 2/5] END complexity_ratio=1000.0, complexity_temp=31.622776601683793, diversity_pressure=0.3, hc_fraction_nn=0.01;, score=0.566 total time=   3.4s\n",
      "[CV 3/5] END complexity_ratio=1000.0, complexity_temp=31.622776601683793, diversity_pressure=0.3, hc_fraction_nn=0.01;, score=0.491 total time=   5.5s\n",
      "[CV 4/5] END complexity_ratio=1000.0, complexity_temp=31.622776601683793, diversity_pressure=0.3, hc_fraction_nn=0.01;, score=0.508 total time=   5.9s\n",
      "[CV 5/5] END complexity_ratio=1000.0, complexity_temp=31.622776601683793, diversity_pressure=0.3, hc_fraction_nn=0.01;, score=0.633 total time=   4.2s\n",
      "[CV 1/5] END complexity_ratio=1000.0, complexity_temp=31.622776601683793, diversity_pressure=0.3, hc_fraction_nn=0.1;, score=0.678 total time=   3.4s\n",
      "[CV 2/5] END complexity_ratio=1000.0, complexity_temp=31.622776601683793, diversity_pressure=0.3, hc_fraction_nn=0.1;, score=0.550 total time=   2.8s\n",
      "[CV 3/5] END complexity_ratio=1000.0, complexity_temp=31.622776601683793, diversity_pressure=0.3, hc_fraction_nn=0.1;, score=0.613 total time=   6.2s\n",
      "[CV 4/5] END complexity_ratio=1000.0, complexity_temp=31.622776601683793, diversity_pressure=0.3, hc_fraction_nn=0.1;, score=0.615 total time=   3.4s\n",
      "[CV 5/5] END complexity_ratio=1000.0, complexity_temp=31.622776601683793, diversity_pressure=0.3, hc_fraction_nn=0.1;, score=0.602 total time=   3.0s\n",
      "[CV 1/5] END complexity_ratio=1000.0, complexity_temp=31.622776601683793, diversity_pressure=0.6, hc_fraction_nn=0.01;, score=0.637 total time=   2.7s\n",
      "[CV 2/5] END complexity_ratio=1000.0, complexity_temp=31.622776601683793, diversity_pressure=0.6, hc_fraction_nn=0.01;, score=0.573 total time=   3.4s\n",
      "[CV 3/5] END complexity_ratio=1000.0, complexity_temp=31.622776601683793, diversity_pressure=0.6, hc_fraction_nn=0.01;, score=0.508 total time=   5.5s\n",
      "[CV 4/5] END complexity_ratio=1000.0, complexity_temp=31.622776601683793, diversity_pressure=0.6, hc_fraction_nn=0.01;, score=0.483 total time=   6.0s\n",
      "[CV 5/5] END complexity_ratio=1000.0, complexity_temp=31.622776601683793, diversity_pressure=0.6, hc_fraction_nn=0.01;, score=0.665 total time=   4.3s\n",
      "[CV 1/5] END complexity_ratio=1000.0, complexity_temp=31.622776601683793, diversity_pressure=0.6, hc_fraction_nn=0.1;, score=0.677 total time=   3.4s\n",
      "[CV 2/5] END complexity_ratio=1000.0, complexity_temp=31.622776601683793, diversity_pressure=0.6, hc_fraction_nn=0.1;, score=0.552 total time=   2.8s\n",
      "[CV 3/5] END complexity_ratio=1000.0, complexity_temp=31.622776601683793, diversity_pressure=0.6, hc_fraction_nn=0.1;, score=0.614 total time=   6.1s\n",
      "[CV 4/5] END complexity_ratio=1000.0, complexity_temp=31.622776601683793, diversity_pressure=0.6, hc_fraction_nn=0.1;, score=0.617 total time=   3.4s\n",
      "[CV 5/5] END complexity_ratio=1000.0, complexity_temp=31.622776601683793, diversity_pressure=0.6, hc_fraction_nn=0.1;, score=0.620 total time=   3.0s\n",
      "[CV 1/5] END complexity_ratio=1000.0, complexity_temp=31.622776601683793, diversity_pressure=0.9, hc_fraction_nn=0.01;, score=0.631 total time=   2.7s\n",
      "[CV 2/5] END complexity_ratio=1000.0, complexity_temp=31.622776601683793, diversity_pressure=0.9, hc_fraction_nn=0.01;, score=0.558 total time=   3.4s\n",
      "[CV 3/5] END complexity_ratio=1000.0, complexity_temp=31.622776601683793, diversity_pressure=0.9, hc_fraction_nn=0.01;, score=0.547 total time=   5.5s\n",
      "[CV 4/5] END complexity_ratio=1000.0, complexity_temp=31.622776601683793, diversity_pressure=0.9, hc_fraction_nn=0.01;, score=0.486 total time=   6.0s\n",
      "[CV 5/5] END complexity_ratio=1000.0, complexity_temp=31.622776601683793, diversity_pressure=0.9, hc_fraction_nn=0.01;, score=0.647 total time=   4.3s\n",
      "[CV 1/5] END complexity_ratio=1000.0, complexity_temp=31.622776601683793, diversity_pressure=0.9, hc_fraction_nn=0.1;, score=0.677 total time=   3.4s\n",
      "[CV 2/5] END complexity_ratio=1000.0, complexity_temp=31.622776601683793, diversity_pressure=0.9, hc_fraction_nn=0.1;, score=0.554 total time=   2.8s\n",
      "[CV 3/5] END complexity_ratio=1000.0, complexity_temp=31.622776601683793, diversity_pressure=0.9, hc_fraction_nn=0.1;, score=0.614 total time=   6.1s\n",
      "[CV 4/5] END complexity_ratio=1000.0, complexity_temp=31.622776601683793, diversity_pressure=0.9, hc_fraction_nn=0.1;, score=0.613 total time=   3.4s\n",
      "[CV 5/5] END complexity_ratio=1000.0, complexity_temp=31.622776601683793, diversity_pressure=0.9, hc_fraction_nn=0.1;, score=0.621 total time=   3.0s\n",
      "[CV 1/5] END complexity_ratio=1000.0, complexity_temp=100.0, diversity_pressure=0.0, hc_fraction_nn=0.01;, score=0.588 total time=   3.3s\n",
      "[CV 2/5] END complexity_ratio=1000.0, complexity_temp=100.0, diversity_pressure=0.0, hc_fraction_nn=0.01;, score=0.518 total time=   3.1s\n",
      "[CV 3/5] END complexity_ratio=1000.0, complexity_temp=100.0, diversity_pressure=0.0, hc_fraction_nn=0.01;, score=0.569 total time=   6.2s\n",
      "[CV 4/5] END complexity_ratio=1000.0, complexity_temp=100.0, diversity_pressure=0.0, hc_fraction_nn=0.01;, score=0.477 total time=   5.4s\n",
      "[CV 5/5] END complexity_ratio=1000.0, complexity_temp=100.0, diversity_pressure=0.0, hc_fraction_nn=0.01;, score=0.571 total time=   3.1s\n",
      "[CV 1/5] END complexity_ratio=1000.0, complexity_temp=100.0, diversity_pressure=0.0, hc_fraction_nn=0.1;, score=0.600 total time=   3.3s\n",
      "[CV 2/5] END complexity_ratio=1000.0, complexity_temp=100.0, diversity_pressure=0.0, hc_fraction_nn=0.1;, score=0.557 total time=   3.0s\n",
      "[CV 3/5] END complexity_ratio=1000.0, complexity_temp=100.0, diversity_pressure=0.0, hc_fraction_nn=0.1;, score=0.573 total time=   6.1s\n",
      "[CV 4/5] END complexity_ratio=1000.0, complexity_temp=100.0, diversity_pressure=0.0, hc_fraction_nn=0.1;, score=0.630 total time=   3.5s\n",
      "[CV 5/5] END complexity_ratio=1000.0, complexity_temp=100.0, diversity_pressure=0.0, hc_fraction_nn=0.1;, score=0.617 total time=   3.6s\n",
      "[CV 1/5] END complexity_ratio=1000.0, complexity_temp=100.0, diversity_pressure=0.3, hc_fraction_nn=0.01;, score=0.622 total time=   2.8s\n",
      "[CV 2/5] END complexity_ratio=1000.0, complexity_temp=100.0, diversity_pressure=0.3, hc_fraction_nn=0.01;, score=0.561 total time=   3.4s\n",
      "[CV 3/5] END complexity_ratio=1000.0, complexity_temp=100.0, diversity_pressure=0.3, hc_fraction_nn=0.01;, score=0.491 total time=   5.5s\n",
      "[CV 4/5] END complexity_ratio=1000.0, complexity_temp=100.0, diversity_pressure=0.3, hc_fraction_nn=0.01;, score=0.508 total time=   5.9s\n",
      "[CV 5/5] END complexity_ratio=1000.0, complexity_temp=100.0, diversity_pressure=0.3, hc_fraction_nn=0.01;, score=0.631 total time=   4.3s\n",
      "[CV 1/5] END complexity_ratio=1000.0, complexity_temp=100.0, diversity_pressure=0.3, hc_fraction_nn=0.1;, score=0.647 total time=   3.5s\n",
      "[CV 2/5] END complexity_ratio=1000.0, complexity_temp=100.0, diversity_pressure=0.3, hc_fraction_nn=0.1;, score=0.603 total time=   2.9s\n",
      "[CV 3/5] END complexity_ratio=1000.0, complexity_temp=100.0, diversity_pressure=0.3, hc_fraction_nn=0.1;, score=0.583 total time=   6.2s\n",
      "[CV 4/5] END complexity_ratio=1000.0, complexity_temp=100.0, diversity_pressure=0.3, hc_fraction_nn=0.1;, score=0.615 total time=   3.5s\n",
      "[CV 5/5] END complexity_ratio=1000.0, complexity_temp=100.0, diversity_pressure=0.3, hc_fraction_nn=0.1;, score=0.602 total time=   3.1s\n",
      "[CV 1/5] END complexity_ratio=1000.0, complexity_temp=100.0, diversity_pressure=0.6, hc_fraction_nn=0.01;, score=0.637 total time=   2.7s\n",
      "[CV 2/5] END complexity_ratio=1000.0, complexity_temp=100.0, diversity_pressure=0.6, hc_fraction_nn=0.01;, score=0.572 total time=   3.4s\n",
      "[CV 3/5] END complexity_ratio=1000.0, complexity_temp=100.0, diversity_pressure=0.6, hc_fraction_nn=0.01;, score=0.508 total time=   5.5s\n",
      "[CV 4/5] END complexity_ratio=1000.0, complexity_temp=100.0, diversity_pressure=0.6, hc_fraction_nn=0.01;, score=0.483 total time=   5.9s\n",
      "[CV 5/5] END complexity_ratio=1000.0, complexity_temp=100.0, diversity_pressure=0.6, hc_fraction_nn=0.01;, score=0.669 total time=   4.3s\n",
      "[CV 1/5] END complexity_ratio=1000.0, complexity_temp=100.0, diversity_pressure=0.6, hc_fraction_nn=0.1;, score=0.641 total time=   3.5s\n",
      "[CV 2/5] END complexity_ratio=1000.0, complexity_temp=100.0, diversity_pressure=0.6, hc_fraction_nn=0.1;, score=0.617 total time=   2.9s\n",
      "[CV 3/5] END complexity_ratio=1000.0, complexity_temp=100.0, diversity_pressure=0.6, hc_fraction_nn=0.1;, score=0.595 total time=   6.2s\n",
      "[CV 4/5] END complexity_ratio=1000.0, complexity_temp=100.0, diversity_pressure=0.6, hc_fraction_nn=0.1;, score=0.623 total time=   3.5s\n",
      "[CV 5/5] END complexity_ratio=1000.0, complexity_temp=100.0, diversity_pressure=0.6, hc_fraction_nn=0.1;, score=0.608 total time=   3.0s\n",
      "[CV 1/5] END complexity_ratio=1000.0, complexity_temp=100.0, diversity_pressure=0.9, hc_fraction_nn=0.01;, score=0.637 total time=   2.7s\n",
      "[CV 2/5] END complexity_ratio=1000.0, complexity_temp=100.0, diversity_pressure=0.9, hc_fraction_nn=0.01;, score=0.560 total time=   3.4s\n",
      "[CV 3/5] END complexity_ratio=1000.0, complexity_temp=100.0, diversity_pressure=0.9, hc_fraction_nn=0.01;, score=0.547 total time=   5.5s\n",
      "[CV 4/5] END complexity_ratio=1000.0, complexity_temp=100.0, diversity_pressure=0.9, hc_fraction_nn=0.01;, score=0.486 total time=   6.0s\n",
      "[CV 5/5] END complexity_ratio=1000.0, complexity_temp=100.0, diversity_pressure=0.9, hc_fraction_nn=0.01;, score=0.653 total time=   4.3s\n",
      "[CV 1/5] END complexity_ratio=1000.0, complexity_temp=100.0, diversity_pressure=0.9, hc_fraction_nn=0.1;, score=0.674 total time=   3.5s\n",
      "[CV 2/5] END complexity_ratio=1000.0, complexity_temp=100.0, diversity_pressure=0.9, hc_fraction_nn=0.1;, score=0.599 total time=   2.9s\n",
      "[CV 3/5] END complexity_ratio=1000.0, complexity_temp=100.0, diversity_pressure=0.9, hc_fraction_nn=0.1;, score=0.593 total time=   6.1s\n",
      "[CV 4/5] END complexity_ratio=1000.0, complexity_temp=100.0, diversity_pressure=0.9, hc_fraction_nn=0.1;, score=0.619 total time=   3.5s\n",
      "[CV 5/5] END complexity_ratio=1000.0, complexity_temp=100.0, diversity_pressure=0.9, hc_fraction_nn=0.1;, score=0.619 total time=   3.1s\n",
      "[CV 1/5] END complexity_ratio=1000.0, complexity_temp=316.22776601683796, diversity_pressure=0.0, hc_fraction_nn=0.01;, score=0.582 total time=   2.9s\n",
      "[CV 2/5] END complexity_ratio=1000.0, complexity_temp=316.22776601683796, diversity_pressure=0.0, hc_fraction_nn=0.01;, score=0.582 total time=   3.9s\n",
      "[CV 3/5] END complexity_ratio=1000.0, complexity_temp=316.22776601683796, diversity_pressure=0.0, hc_fraction_nn=0.01;, score=0.539 total time=   4.1s\n",
      "[CV 4/5] END complexity_ratio=1000.0, complexity_temp=316.22776601683796, diversity_pressure=0.0, hc_fraction_nn=0.01;, score=0.499 total time=   5.5s\n",
      "[CV 5/5] END complexity_ratio=1000.0, complexity_temp=316.22776601683796, diversity_pressure=0.0, hc_fraction_nn=0.01;, score=0.589 total time=   5.1s\n",
      "[CV 1/5] END complexity_ratio=1000.0, complexity_temp=316.22776601683796, diversity_pressure=0.0, hc_fraction_nn=0.1;, score=0.588 total time=   3.0s\n",
      "[CV 2/5] END complexity_ratio=1000.0, complexity_temp=316.22776601683796, diversity_pressure=0.0, hc_fraction_nn=0.1;, score=0.555 total time=   2.1s\n",
      "[CV 3/5] END complexity_ratio=1000.0, complexity_temp=316.22776601683796, diversity_pressure=0.0, hc_fraction_nn=0.1;, score=0.573 total time=   5.2s\n",
      "[CV 4/5] END complexity_ratio=1000.0, complexity_temp=316.22776601683796, diversity_pressure=0.0, hc_fraction_nn=0.1;, score=0.630 total time=   2.9s\n",
      "[CV 5/5] END complexity_ratio=1000.0, complexity_temp=316.22776601683796, diversity_pressure=0.0, hc_fraction_nn=0.1;, score=0.637 total time=   3.3s\n",
      "[CV 1/5] END complexity_ratio=1000.0, complexity_temp=316.22776601683796, diversity_pressure=0.3, hc_fraction_nn=0.01;, score=0.622 total time=   2.7s\n",
      "[CV 2/5] END complexity_ratio=1000.0, complexity_temp=316.22776601683796, diversity_pressure=0.3, hc_fraction_nn=0.01;, score=0.561 total time=   3.4s\n",
      "[CV 3/5] END complexity_ratio=1000.0, complexity_temp=316.22776601683796, diversity_pressure=0.3, hc_fraction_nn=0.01;, score=0.491 total time=   5.5s\n",
      "[CV 4/5] END complexity_ratio=1000.0, complexity_temp=316.22776601683796, diversity_pressure=0.3, hc_fraction_nn=0.01;, score=0.508 total time=   6.0s\n",
      "[CV 5/5] END complexity_ratio=1000.0, complexity_temp=316.22776601683796, diversity_pressure=0.3, hc_fraction_nn=0.01;, score=0.631 total time=   4.3s\n",
      "[CV 1/5] END complexity_ratio=1000.0, complexity_temp=316.22776601683796, diversity_pressure=0.3, hc_fraction_nn=0.1;, score=0.647 total time=   3.5s\n",
      "[CV 2/5] END complexity_ratio=1000.0, complexity_temp=316.22776601683796, diversity_pressure=0.3, hc_fraction_nn=0.1;, score=0.603 total time=   2.9s\n",
      "[CV 3/5] END complexity_ratio=1000.0, complexity_temp=316.22776601683796, diversity_pressure=0.3, hc_fraction_nn=0.1;, score=0.583 total time=   6.2s\n",
      "[CV 4/5] END complexity_ratio=1000.0, complexity_temp=316.22776601683796, diversity_pressure=0.3, hc_fraction_nn=0.1;, score=0.615 total time=   3.6s\n",
      "[CV 5/5] END complexity_ratio=1000.0, complexity_temp=316.22776601683796, diversity_pressure=0.3, hc_fraction_nn=0.1;, score=0.602 total time=   3.1s\n",
      "[CV 1/5] END complexity_ratio=1000.0, complexity_temp=316.22776601683796, diversity_pressure=0.6, hc_fraction_nn=0.01;, score=0.646 total time=   2.7s\n",
      "[CV 2/5] END complexity_ratio=1000.0, complexity_temp=316.22776601683796, diversity_pressure=0.6, hc_fraction_nn=0.01;, score=0.580 total time=   3.4s\n",
      "[CV 3/5] END complexity_ratio=1000.0, complexity_temp=316.22776601683796, diversity_pressure=0.6, hc_fraction_nn=0.01;, score=0.508 total time=   5.5s\n",
      "[CV 4/5] END complexity_ratio=1000.0, complexity_temp=316.22776601683796, diversity_pressure=0.6, hc_fraction_nn=0.01;, score=0.477 total time=   6.0s\n",
      "[CV 5/5] END complexity_ratio=1000.0, complexity_temp=316.22776601683796, diversity_pressure=0.6, hc_fraction_nn=0.01;, score=0.669 total time=   4.3s\n",
      "[CV 1/5] END complexity_ratio=1000.0, complexity_temp=316.22776601683796, diversity_pressure=0.6, hc_fraction_nn=0.1;, score=0.650 total time=   3.5s\n",
      "[CV 2/5] END complexity_ratio=1000.0, complexity_temp=316.22776601683796, diversity_pressure=0.6, hc_fraction_nn=0.1;, score=0.627 total time=   3.0s\n",
      "[CV 3/5] END complexity_ratio=1000.0, complexity_temp=316.22776601683796, diversity_pressure=0.6, hc_fraction_nn=0.1;, score=0.604 total time=   6.2s\n",
      "[CV 4/5] END complexity_ratio=1000.0, complexity_temp=316.22776601683796, diversity_pressure=0.6, hc_fraction_nn=0.1;, score=0.634 total time=   3.5s\n",
      "[CV 5/5] END complexity_ratio=1000.0, complexity_temp=316.22776601683796, diversity_pressure=0.6, hc_fraction_nn=0.1;, score=0.608 total time=   3.1s\n",
      "[CV 1/5] END complexity_ratio=1000.0, complexity_temp=316.22776601683796, diversity_pressure=0.9, hc_fraction_nn=0.01;, score=0.632 total time=   2.7s\n",
      "[CV 2/5] END complexity_ratio=1000.0, complexity_temp=316.22776601683796, diversity_pressure=0.9, hc_fraction_nn=0.01;, score=0.560 total time=   3.3s\n",
      "[CV 3/5] END complexity_ratio=1000.0, complexity_temp=316.22776601683796, diversity_pressure=0.9, hc_fraction_nn=0.01;, score=0.547 total time=   5.5s\n",
      "[CV 4/5] END complexity_ratio=1000.0, complexity_temp=316.22776601683796, diversity_pressure=0.9, hc_fraction_nn=0.01;, score=0.490 total time=   6.0s\n",
      "[CV 5/5] END complexity_ratio=1000.0, complexity_temp=316.22776601683796, diversity_pressure=0.9, hc_fraction_nn=0.01;, score=0.645 total time=   4.3s\n",
      "[CV 1/5] END complexity_ratio=1000.0, complexity_temp=316.22776601683796, diversity_pressure=0.9, hc_fraction_nn=0.1;, score=0.674 total time=   3.6s\n",
      "[CV 2/5] END complexity_ratio=1000.0, complexity_temp=316.22776601683796, diversity_pressure=0.9, hc_fraction_nn=0.1;, score=0.597 total time=   3.0s\n",
      "[CV 3/5] END complexity_ratio=1000.0, complexity_temp=316.22776601683796, diversity_pressure=0.9, hc_fraction_nn=0.1;, score=0.609 total time=   6.2s\n",
      "[CV 4/5] END complexity_ratio=1000.0, complexity_temp=316.22776601683796, diversity_pressure=0.9, hc_fraction_nn=0.1;, score=0.634 total time=   3.5s\n",
      "[CV 5/5] END complexity_ratio=1000.0, complexity_temp=316.22776601683796, diversity_pressure=0.9, hc_fraction_nn=0.1;, score=0.613 total time=   3.1s\n",
      "[CV 1/5] END complexity_ratio=1000.0, complexity_temp=1000.0, diversity_pressure=0.0, hc_fraction_nn=0.01;, score=0.558 total time=   5.0s\n",
      "[CV 2/5] END complexity_ratio=1000.0, complexity_temp=1000.0, diversity_pressure=0.0, hc_fraction_nn=0.01;, score=0.608 total time=   3.0s\n",
      "[CV 3/5] END complexity_ratio=1000.0, complexity_temp=1000.0, diversity_pressure=0.0, hc_fraction_nn=0.01;, score=0.473 total time=   2.4s\n",
      "[CV 4/5] END complexity_ratio=1000.0, complexity_temp=1000.0, diversity_pressure=0.0, hc_fraction_nn=0.01;, score=0.595 total time=   3.2s\n",
      "[CV 5/5] END complexity_ratio=1000.0, complexity_temp=1000.0, diversity_pressure=0.0, hc_fraction_nn=0.01;, score=0.565 total time=   4.5s\n",
      "[CV 1/5] END complexity_ratio=1000.0, complexity_temp=1000.0, diversity_pressure=0.0, hc_fraction_nn=0.1;, score=0.609 total time=   3.2s\n",
      "[CV 2/5] END complexity_ratio=1000.0, complexity_temp=1000.0, diversity_pressure=0.0, hc_fraction_nn=0.1;, score=0.580 total time=   2.3s\n",
      "[CV 3/5] END complexity_ratio=1000.0, complexity_temp=1000.0, diversity_pressure=0.0, hc_fraction_nn=0.1;, score=0.589 total time=   2.2s\n",
      "[CV 4/5] END complexity_ratio=1000.0, complexity_temp=1000.0, diversity_pressure=0.0, hc_fraction_nn=0.1;, score=0.616 total time=   3.6s\n",
      "[CV 5/5] END complexity_ratio=1000.0, complexity_temp=1000.0, diversity_pressure=0.0, hc_fraction_nn=0.1;, score=0.629 total time=   4.0s\n",
      "[CV 1/5] END complexity_ratio=1000.0, complexity_temp=1000.0, diversity_pressure=0.3, hc_fraction_nn=0.01;, score=0.609 total time=   2.4s\n",
      "[CV 2/5] END complexity_ratio=1000.0, complexity_temp=1000.0, diversity_pressure=0.3, hc_fraction_nn=0.01;, score=0.558 total time=   2.8s\n",
      "[CV 3/5] END complexity_ratio=1000.0, complexity_temp=1000.0, diversity_pressure=0.3, hc_fraction_nn=0.01;, score=0.491 total time=   5.5s\n",
      "[CV 4/5] END complexity_ratio=1000.0, complexity_temp=1000.0, diversity_pressure=0.3, hc_fraction_nn=0.01;, score=0.555 total time=   3.6s\n",
      "[CV 5/5] END complexity_ratio=1000.0, complexity_temp=1000.0, diversity_pressure=0.3, hc_fraction_nn=0.01;, score=0.640 total time=   2.9s\n",
      "[CV 1/5] END complexity_ratio=1000.0, complexity_temp=1000.0, diversity_pressure=0.3, hc_fraction_nn=0.1;, score=0.631 total time=   3.3s\n",
      "[CV 2/5] END complexity_ratio=1000.0, complexity_temp=1000.0, diversity_pressure=0.3, hc_fraction_nn=0.1;, score=0.675 total time=   2.6s\n",
      "[CV 3/5] END complexity_ratio=1000.0, complexity_temp=1000.0, diversity_pressure=0.3, hc_fraction_nn=0.1;, score=0.577 total time=   2.9s\n",
      "[CV 4/5] END complexity_ratio=1000.0, complexity_temp=1000.0, diversity_pressure=0.3, hc_fraction_nn=0.1;, score=0.584 total time=   3.1s\n",
      "[CV 5/5] END complexity_ratio=1000.0, complexity_temp=1000.0, diversity_pressure=0.3, hc_fraction_nn=0.1;, score=0.630 total time=   2.6s\n",
      "[CV 1/5] END complexity_ratio=1000.0, complexity_temp=1000.0, diversity_pressure=0.6, hc_fraction_nn=0.01;, score=0.604 total time=   2.3s\n",
      "[CV 2/5] END complexity_ratio=1000.0, complexity_temp=1000.0, diversity_pressure=0.6, hc_fraction_nn=0.01;, score=0.580 total time=   3.4s\n",
      "[CV 3/5] END complexity_ratio=1000.0, complexity_temp=1000.0, diversity_pressure=0.6, hc_fraction_nn=0.01;, score=0.508 total time=   5.5s\n",
      "[CV 4/5] END complexity_ratio=1000.0, complexity_temp=1000.0, diversity_pressure=0.6, hc_fraction_nn=0.01;, score=0.477 total time=   6.0s\n",
      "[CV 5/5] END complexity_ratio=1000.0, complexity_temp=1000.0, diversity_pressure=0.6, hc_fraction_nn=0.01;, score=0.557 total time=   2.4s\n",
      "[CV 1/5] END complexity_ratio=1000.0, complexity_temp=1000.0, diversity_pressure=0.6, hc_fraction_nn=0.1;, score=0.650 total time=   3.6s\n",
      "[CV 2/5] END complexity_ratio=1000.0, complexity_temp=1000.0, diversity_pressure=0.6, hc_fraction_nn=0.1;, score=0.627 total time=   3.0s\n",
      "[CV 3/5] END complexity_ratio=1000.0, complexity_temp=1000.0, diversity_pressure=0.6, hc_fraction_nn=0.1;, score=0.604 total time=   6.2s\n",
      "[CV 4/5] END complexity_ratio=1000.0, complexity_temp=1000.0, diversity_pressure=0.6, hc_fraction_nn=0.1;, score=0.634 total time=   3.6s\n",
      "[CV 5/5] END complexity_ratio=1000.0, complexity_temp=1000.0, diversity_pressure=0.6, hc_fraction_nn=0.1;, score=0.608 total time=   3.1s\n",
      "[CV 1/5] END complexity_ratio=1000.0, complexity_temp=1000.0, diversity_pressure=0.9, hc_fraction_nn=0.01;, score=0.633 total time=   2.7s\n",
      "[CV 2/5] END complexity_ratio=1000.0, complexity_temp=1000.0, diversity_pressure=0.9, hc_fraction_nn=0.01;, score=0.562 total time=   3.4s\n",
      "[CV 3/5] END complexity_ratio=1000.0, complexity_temp=1000.0, diversity_pressure=0.9, hc_fraction_nn=0.01;, score=0.547 total time=   5.5s\n",
      "[CV 4/5] END complexity_ratio=1000.0, complexity_temp=1000.0, diversity_pressure=0.9, hc_fraction_nn=0.01;, score=0.490 total time=   6.0s\n",
      "[CV 5/5] END complexity_ratio=1000.0, complexity_temp=1000.0, diversity_pressure=0.9, hc_fraction_nn=0.01;, score=0.583 total time=   3.3s\n",
      "[CV 1/5] END complexity_ratio=1000.0, complexity_temp=1000.0, diversity_pressure=0.9, hc_fraction_nn=0.1;, score=0.674 total time=   3.6s\n",
      "[CV 2/5] END complexity_ratio=1000.0, complexity_temp=1000.0, diversity_pressure=0.9, hc_fraction_nn=0.1;, score=0.597 total time=   3.0s\n",
      "[CV 3/5] END complexity_ratio=1000.0, complexity_temp=1000.0, diversity_pressure=0.9, hc_fraction_nn=0.1;, score=0.609 total time=   6.2s\n",
      "[CV 4/5] END complexity_ratio=1000.0, complexity_temp=1000.0, diversity_pressure=0.9, hc_fraction_nn=0.1;, score=0.634 total time=   3.6s\n",
      "[CV 5/5] END complexity_ratio=1000.0, complexity_temp=1000.0, diversity_pressure=0.9, hc_fraction_nn=0.1;, score=0.613 total time=   3.1s\n",
      "{'complexity_ratio': 31.622776601683793, 'complexity_temp': 1000.0, 'diversity_pressure': 0.3, 'hc_fraction_nn': 0.1}\n"
     ]
    }
   ],
   "source": [
    "%autoreload\n",
    "from moses_estimator import *\n",
    "\n",
    "moses_grid_params = {\"complexity_ratio\": np.logspace(0, 3, 5), \"complexity_temp\": np.logspace(1, 3, 5),\n",
    "                     \"diversity_pressure\": [0.0, 0.3, 0.6, 0.9], \"hc_fraction_nn\": [0.01, 0.1],\n",
    "                     }\n",
    "\n",
    "moses_est = MosesEstimator(seed=1234, num_models=100, num_evals=1000, prob=\"it\")\n",
    "\n",
    "\n",
    "moses_grid_cv = GridSearchCV(estimator=moses_est, param_grid=moses_grid_params, verbose=3,\n",
    "                             cv=cv).fit(X_train_sel, y_train_df, output_label=\"posOutcome\")\n",
    "\n",
    "print(moses_grid_cv.best_params_)"
   ],
   "metadata": {
    "collapsed": false,
    "pycharm": {
     "name": "#%%\n"
    }
   }
  },
  {
   "cell_type": "code",
   "execution_count": 72,
   "outputs": [
    {
     "name": "stdout",
     "output_type": "stream",
     "text": [
      "0.6374533799533799\n"
     ]
    },
    {
     "data": {
      "text/plain": "0.6177161005247169"
     },
     "execution_count": 72,
     "metadata": {},
     "output_type": "execute_result"
    }
   ],
   "source": [
    "%autoreload\n",
    "from moses_estimator import *\n",
    "moses_best_params = {'complexity_ratio': 31.622776601683793,\n",
    "                     'complexity_temp': 1000.0,\n",
    "                     'diversity_pressure': 0.3, 'hc_fraction_nn': 0.1}\n",
    "moses_est = MosesEstimator(seed=1234, num_models=100, num_evals=1000,\n",
    "                           prob=\"it\", **moses_best_params)\n",
    "cv_score = cross_val_score(moses_est, X_train_sel, y_train_df, cv=cv, fit_params={\"output_label\": \"posOutcome\"})\n",
    "print(np.mean(cv_score))\n",
    "moses_est.fit(X_train_sel, y_train_df, output_label=\"posOutcome\")\n",
    "moses_est.score(X_test_sel, y_test_df)"
   ],
   "metadata": {
    "collapsed": false,
    "pycharm": {
     "name": "#%%\n"
    }
   }
  },
  {
   "cell_type": "code",
   "execution_count": 73,
   "outputs": [],
   "source": [
    "# import pickle\n",
    "# with open(f\"{data_dir}/exp_data_4/moses_best_params_s_1234_cosmic.pickle\", \"wb\") as fp:\n",
    "#     pickle.dump(moses_grid_cv.best_params_, fp, protocol=pickle.HIGHEST_PROTOCOL)\n",
    "\n",
    "train_eval_out = moses_est._eval_models(moses_est.models_, assign_cols(X_train_sel)).T\n",
    "test_eval_out = moses_est._eval_models(moses_est.models_, assign_cols(X_test_sel)).T"
   ],
   "metadata": {
    "collapsed": false,
    "pycharm": {
     "name": "#%%\n"
    }
   }
  },
  {
   "cell_type": "code",
   "execution_count": 74,
   "outputs": [
    {
     "data": {
      "text/plain": "array([[0., 1., 1., ..., 1., 1., 1.],\n       [0., 0., 0., ..., 1., 1., 1.],\n       [0., 0., 1., ..., 1., 1., 1.],\n       ...,\n       [0., 1., 1., ..., 1., 1., 1.],\n       [0., 1., 0., ..., 1., 1., 1.],\n       [0., 0., 1., ..., 1., 1., 1.]])"
     },
     "execution_count": 74,
     "metadata": {},
     "output_type": "execute_result"
    }
   ],
   "source": [
    "X_train_sel_moses = np.concatenate([X_train_sel.to_numpy(), train_eval_out], axis=1)\n",
    "X_test_sel_moses = np.concatenate([X_test_sel.to_numpy(), test_eval_out], axis=1)\n",
    "X_train_sel_moses"
   ],
   "metadata": {
    "collapsed": false,
    "pycharm": {
     "name": "#%%\n"
    }
   }
  },
  {
   "cell_type": "code",
   "execution_count": 75,
   "outputs": [
    {
     "name": "stdout",
     "output_type": "stream",
     "text": [
      "Fitting 5 folds for each of 10 candidates, totalling 50 fits\n",
      "[CV 1/5] END ............................C=0.01;, score=0.494 total time=   0.1s\n",
      "[CV 2/5] END ............................C=0.01;, score=0.670 total time=   0.0s\n",
      "[CV 3/5] END ............................C=0.01;, score=0.530 total time=   0.0s\n",
      "[CV 4/5] END ............................C=0.01;, score=0.704 total time=   0.1s\n",
      "[CV 5/5] END ............................C=0.01;, score=0.755 total time=   0.0s\n",
      "[CV 1/5] END ............C=0.021544346900318832;, score=0.498 total time=   0.0s\n",
      "[CV 2/5] END ............C=0.021544346900318832;, score=0.676 total time=   0.0s\n",
      "[CV 3/5] END ............C=0.021544346900318832;, score=0.527 total time=   0.1s\n",
      "[CV 4/5] END ............C=0.021544346900318832;, score=0.696 total time=   0.0s\n",
      "[CV 5/5] END ............C=0.021544346900318832;, score=0.746 total time=   0.0s\n",
      "[CV 1/5] END ............C=0.046415888336127774;, score=0.500 total time=   0.0s\n",
      "[CV 2/5] END ............C=0.046415888336127774;, score=0.680 total time=   0.1s\n",
      "[CV 3/5] END ............C=0.046415888336127774;, score=0.533 total time=   0.0s\n",
      "[CV 4/5] END ............C=0.046415888336127774;, score=0.687 total time=   0.0s\n",
      "[CV 5/5] END ............C=0.046415888336127774;, score=0.734 total time=   0.0s\n",
      "[CV 1/5] END .............................C=0.1;, score=0.499 total time=   0.0s\n",
      "[CV 2/5] END .............................C=0.1;, score=0.686 total time=   0.0s\n",
      "[CV 3/5] END .............................C=0.1;, score=0.528 total time=   0.0s\n",
      "[CV 4/5] END .............................C=0.1;, score=0.665 total time=   0.0s\n",
      "[CV 5/5] END .............................C=0.1;, score=0.717 total time=   0.0s\n",
      "[CV 1/5] END .............C=0.21544346900318834;, score=0.494 total time=   0.0s\n",
      "[CV 2/5] END .............C=0.21544346900318834;, score=0.677 total time=   0.0s\n",
      "[CV 3/5] END .............C=0.21544346900318834;, score=0.523 total time=   0.0s\n",
      "[CV 4/5] END .............C=0.21544346900318834;, score=0.652 total time=   0.0s\n",
      "[CV 5/5] END .............C=0.21544346900318834;, score=0.697 total time=   0.0s\n",
      "[CV 1/5] END .............C=0.46415888336127775;, score=0.491 total time=   0.0s\n",
      "[CV 2/5] END .............C=0.46415888336127775;, score=0.678 total time=   0.0s\n",
      "[CV 3/5] END .............C=0.46415888336127775;, score=0.518 total time=   0.0s\n",
      "[CV 4/5] END .............C=0.46415888336127775;, score=0.641 total time=   0.0s\n",
      "[CV 5/5] END .............C=0.46415888336127775;, score=0.677 total time=   0.0s\n",
      "[CV 1/5] END .............................C=1.0;, score=0.492 total time=   0.0s\n",
      "[CV 2/5] END .............................C=1.0;, score=0.672 total time=   0.0s\n",
      "[CV 3/5] END .............................C=1.0;, score=0.521 total time=   0.1s\n",
      "[CV 4/5] END .............................C=1.0;, score=0.638 total time=   0.0s\n",
      "[CV 5/5] END .............................C=1.0;, score=0.666 total time=   0.0s\n",
      "[CV 1/5] END ...............C=2.154434690031882;, score=0.488 total time=   0.0s\n",
      "[CV 2/5] END ...............C=2.154434690031882;, score=0.671 total time=   0.0s\n",
      "[CV 3/5] END ...............C=2.154434690031882;, score=0.516 total time=   0.0s\n",
      "[CV 4/5] END ...............C=2.154434690031882;, score=0.638 total time=   0.0s\n",
      "[CV 5/5] END ...............C=2.154434690031882;, score=0.662 total time=   0.0s\n",
      "[CV 1/5] END ..............C=4.6415888336127775;, score=0.489 total time=   0.0s\n",
      "[CV 2/5] END ..............C=4.6415888336127775;, score=0.670 total time=   0.0s\n",
      "[CV 3/5] END ..............C=4.6415888336127775;, score=0.514 total time=   0.0s\n",
      "[CV 4/5] END ..............C=4.6415888336127775;, score=0.636 total time=   0.0s\n",
      "[CV 5/5] END ..............C=4.6415888336127775;, score=0.656 total time=   0.0s\n",
      "[CV 1/5] END ............................C=10.0;, score=0.490 total time=   0.0s\n",
      "[CV 2/5] END ............................C=10.0;, score=0.669 total time=   0.0s\n",
      "[CV 3/5] END ............................C=10.0;, score=0.511 total time=   0.0s\n",
      "[CV 4/5] END ............................C=10.0;, score=0.639 total time=   0.0s\n",
      "[CV 5/5] END ............................C=10.0;, score=0.652 total time=   0.0s\n",
      "{'C': 0.01}\n",
      "cv score: 0.6305710955710955, test_score: 0.647473073736537\n"
     ]
    }
   ],
   "source": [
    "from sklearn.linear_model import LogisticRegression\n",
    "\n",
    "log_param_grid = {\"C\":np.logspace(-2, 1, 10)}\n",
    "log_grid_cv = GridSearchCV(estimator=LogisticRegression(max_iter=10000), param_grid=log_param_grid, verbose=3, scoring=\"roc_auc\", cv=cv).fit(X_train_sel, y_train)\n",
    "print(log_grid_cv.best_params_)\n",
    "clf = LogisticRegression(max_iter=10000, C=log_grid_cv.best_params_[\"C\"])\n",
    "log_cv_score_2 = np.mean(cross_val_score(clf, X_train_sel, y_train, scoring=\"roc_auc\", cv=cv))\n",
    "clf.fit(X_train_sel, y_train)\n",
    "log_test_score_2 = roc_auc_score(y_test, clf.predict_proba(X_test_sel)[:,1])\n",
    "print(f\"cv score: {log_cv_score_2}, test_score: {log_test_score_2}\")"
   ],
   "metadata": {
    "collapsed": false,
    "pycharm": {
     "name": "#%%\n"
    }
   }
  },
  {
   "cell_type": "code",
   "execution_count": 76,
   "outputs": [
    {
     "name": "stdout",
     "output_type": "stream",
     "text": [
      "Fitting 5 folds for each of 10 candidates, totalling 50 fits\n",
      "[CV 1/5] END ............................C=0.01;, score=0.581 total time=   0.0s\n",
      "[CV 2/5] END ............................C=0.01;, score=0.723 total time=   0.1s\n",
      "[CV 3/5] END ............................C=0.01;, score=0.607 total time=   0.0s\n",
      "[CV 4/5] END ............................C=0.01;, score=0.721 total time=   0.0s\n",
      "[CV 5/5] END ............................C=0.01;, score=0.779 total time=   0.0s\n",
      "[CV 1/5] END ............C=0.021544346900318832;, score=0.568 total time=   0.0s\n",
      "[CV 2/5] END ............C=0.021544346900318832;, score=0.736 total time=   0.0s\n",
      "[CV 3/5] END ............C=0.021544346900318832;, score=0.591 total time=   0.0s\n",
      "[CV 4/5] END ............C=0.021544346900318832;, score=0.719 total time=   0.1s\n",
      "[CV 5/5] END ............C=0.021544346900318832;, score=0.767 total time=   0.0s\n",
      "[CV 1/5] END ............C=0.046415888336127774;, score=0.552 total time=   0.0s\n",
      "[CV 2/5] END ............C=0.046415888336127774;, score=0.740 total time=   0.0s\n",
      "[CV 3/5] END ............C=0.046415888336127774;, score=0.589 total time=   0.0s\n",
      "[CV 4/5] END ............C=0.046415888336127774;, score=0.703 total time=   0.0s\n",
      "[CV 5/5] END ............C=0.046415888336127774;, score=0.751 total time=   0.0s\n",
      "[CV 1/5] END .............................C=0.1;, score=0.533 total time=   0.0s\n",
      "[CV 2/5] END .............................C=0.1;, score=0.744 total time=   0.0s\n",
      "[CV 3/5] END .............................C=0.1;, score=0.574 total time=   0.0s\n",
      "[CV 4/5] END .............................C=0.1;, score=0.705 total time=   0.0s\n",
      "[CV 5/5] END .............................C=0.1;, score=0.724 total time=   0.0s\n",
      "[CV 1/5] END .............C=0.21544346900318834;, score=0.515 total time=   0.0s\n",
      "[CV 2/5] END .............C=0.21544346900318834;, score=0.725 total time=   0.0s\n",
      "[CV 3/5] END .............C=0.21544346900318834;, score=0.563 total time=   0.0s\n",
      "[CV 4/5] END .............C=0.21544346900318834;, score=0.691 total time=   0.0s\n",
      "[CV 5/5] END .............C=0.21544346900318834;, score=0.694 total time=   0.0s\n",
      "[CV 1/5] END .............C=0.46415888336127775;, score=0.506 total time=   0.0s\n",
      "[CV 2/5] END .............C=0.46415888336127775;, score=0.707 total time=   0.0s\n",
      "[CV 3/5] END .............C=0.46415888336127775;, score=0.557 total time=   0.0s\n",
      "[CV 4/5] END .............C=0.46415888336127775;, score=0.671 total time=   0.0s\n",
      "[CV 5/5] END .............C=0.46415888336127775;, score=0.672 total time=   0.0s\n",
      "[CV 1/5] END .............................C=1.0;, score=0.503 total time=   0.0s\n",
      "[CV 2/5] END .............................C=1.0;, score=0.678 total time=   0.1s\n",
      "[CV 3/5] END .............................C=1.0;, score=0.540 total time=   0.0s\n",
      "[CV 4/5] END .............................C=1.0;, score=0.648 total time=   0.0s\n",
      "[CV 5/5] END .............................C=1.0;, score=0.656 total time=   0.0s\n",
      "[CV 1/5] END ...............C=2.154434690031882;, score=0.503 total time=   0.0s\n",
      "[CV 2/5] END ...............C=2.154434690031882;, score=0.650 total time=   0.0s\n",
      "[CV 3/5] END ...............C=2.154434690031882;, score=0.527 total time=   0.0s\n",
      "[CV 4/5] END ...............C=2.154434690031882;, score=0.631 total time=   0.1s\n",
      "[CV 5/5] END ...............C=2.154434690031882;, score=0.636 total time=   0.0s\n",
      "[CV 1/5] END ..............C=4.6415888336127775;, score=0.500 total time=   0.1s\n",
      "[CV 2/5] END ..............C=4.6415888336127775;, score=0.609 total time=   0.0s\n",
      "[CV 3/5] END ..............C=4.6415888336127775;, score=0.515 total time=   0.1s\n",
      "[CV 4/5] END ..............C=4.6415888336127775;, score=0.607 total time=   0.1s\n",
      "[CV 5/5] END ..............C=4.6415888336127775;, score=0.616 total time=   0.1s\n",
      "[CV 1/5] END ............................C=10.0;, score=0.509 total time=   0.1s\n",
      "[CV 2/5] END ............................C=10.0;, score=0.564 total time=   0.1s\n",
      "[CV 3/5] END ............................C=10.0;, score=0.498 total time=   0.1s\n",
      "[CV 4/5] END ............................C=10.0;, score=0.582 total time=   0.1s\n",
      "[CV 5/5] END ............................C=10.0;, score=0.603 total time=   0.1s\n",
      "{'C': 0.01}\n",
      "cv score: 0.6821581196581197, test_score: 0.6542391604529135\n"
     ]
    }
   ],
   "source": [
    "from sklearn.linear_model import LogisticRegression\n",
    "\n",
    "log_param_grid = {\"C\":np.logspace(-2, 1, 10)}\n",
    "log_grid_cv = GridSearchCV(estimator=LogisticRegression(max_iter=10000), param_grid=log_param_grid, verbose=3, scoring=\"roc_auc\", cv=cv).fit(X_train_sel_moses, y_train)\n",
    "print(log_grid_cv.best_params_)\n",
    "clf = LogisticRegression(max_iter=10000, C=log_grid_cv.best_params_[\"C\"])\n",
    "log_cv_score_3 = np.mean(cross_val_score(clf, X_train_sel_moses, y_train, scoring=\"roc_auc\", cv=cv))\n",
    "clf.fit(X_train_sel_moses, y_train)\n",
    "log_test_score_3 = roc_auc_score(y_test, clf.predict_proba(X_test_sel_moses)[:,1])\n",
    "print(f\"cv score: {log_cv_score_3}, test_score: {log_test_score_3}\")"
   ],
   "metadata": {
    "collapsed": false,
    "pycharm": {
     "name": "#%%\n"
    }
   }
  },
  {
   "cell_type": "code",
   "execution_count": 79,
   "outputs": [
    {
     "data": {
      "text/plain": "         classifier  num_feats  cv_score  test_score\n0                LR        497  0.687146    0.603701\n1               SVM        497  0.688124    0.623447\n2               BNN        497  0.682026    0.646645\n3          BNN + LR         68  0.630571    0.647473\n4  BNN + MOSES + LR        168  0.682158    0.654239",
      "text/html": "<div>\n<style scoped>\n    .dataframe tbody tr th:only-of-type {\n        vertical-align: middle;\n    }\n\n    .dataframe tbody tr th {\n        vertical-align: top;\n    }\n\n    .dataframe thead th {\n        text-align: right;\n    }\n</style>\n<table border=\"1\" class=\"dataframe\">\n  <thead>\n    <tr style=\"text-align: right;\">\n      <th></th>\n      <th>classifier</th>\n      <th>num_feats</th>\n      <th>cv_score</th>\n      <th>test_score</th>\n    </tr>\n  </thead>\n  <tbody>\n    <tr>\n      <th>0</th>\n      <td>LR</td>\n      <td>497</td>\n      <td>0.687146</td>\n      <td>0.603701</td>\n    </tr>\n    <tr>\n      <th>1</th>\n      <td>SVM</td>\n      <td>497</td>\n      <td>0.688124</td>\n      <td>0.623447</td>\n    </tr>\n    <tr>\n      <th>2</th>\n      <td>BNN</td>\n      <td>497</td>\n      <td>0.682026</td>\n      <td>0.646645</td>\n    </tr>\n    <tr>\n      <th>3</th>\n      <td>BNN + LR</td>\n      <td>68</td>\n      <td>0.630571</td>\n      <td>0.647473</td>\n    </tr>\n    <tr>\n      <th>4</th>\n      <td>BNN + MOSES + LR</td>\n      <td>168</td>\n      <td>0.682158</td>\n      <td>0.654239</td>\n    </tr>\n  </tbody>\n</table>\n</div>"
     },
     "execution_count": 79,
     "metadata": {},
     "output_type": "execute_result"
    }
   ],
   "source": [
    "result_summary_dict = {}\n",
    "result_summary_dict[\"classifier\"] = [\"LR\", \"SVM\", \"BNN\", \"BNN + LR\", \"BNN + MOSES + LR\"]\n",
    "result_summary_dict[\"num_feats\"] = [len(cosmic_intr), len(cosmic_intr), len(cosmic_intr), len(sel_entrz_id), X_train_sel_moses.shape[1]]\n",
    "result_summary_dict[\"cv_score\"] = [log_cv_score_1, svc_cv_score, bnn_cv_score, log_cv_score_2, log_cv_score_3]\n",
    "result_summary_dict[\"test_score\"] = [log_test_score_1, svc_test_score, bnn_test_score, log_test_score_2, log_test_score_3]\n",
    "\n",
    "result_summary_df = pd.DataFrame(result_summary_dict)\n",
    "result_summary_df.to_csv(f\"{data_dir}/exp_data_4/cancer/result_summary_cosmic_genes.csv\", index=False)\n",
    "result_summary_df"
   ],
   "metadata": {
    "collapsed": false,
    "pycharm": {
     "name": "#%%\n"
    }
   }
  },
  {
   "cell_type": "markdown",
   "source": [
    "### Multiple Runs"
   ],
   "metadata": {
    "collapsed": false,
    "pycharm": {
     "name": "#%% md\n"
    }
   }
  },
  {
   "cell_type": "code",
   "execution_count": 12,
   "outputs": [],
   "source": [
    "exp_dir = f\"{data_dir}/exp_data_4/cancer/cosmic\"\n",
    "exp_seeds = []\n",
    "with open(f\"{exp_dir}/seeds_main.txt\", \"r\") as fp:\n",
    "    for line in fp.readlines():\n",
    "        exp_seeds.append(int(line.strip()))"
   ],
   "metadata": {
    "collapsed": false,
    "pycharm": {
     "name": "#%%\n"
    }
   }
  },
  {
   "cell_type": "code",
   "execution_count": 13,
   "outputs": [
    {
     "data": {
      "text/plain": "20"
     },
     "execution_count": 13,
     "metadata": {},
     "output_type": "execute_result"
    }
   ],
   "source": [
    "# Load the result dfs\n",
    "\n",
    "res_dfs = []\n",
    "\n",
    "for seed in exp_seeds:\n",
    "    res_df = pd.read_csv(f\"{exp_dir}/res_summary_cosmic_genes_s_{seed}.csv\")\n",
    "    res_dfs.append(res_df)\n",
    "\n",
    "len(res_dfs)"
   ],
   "metadata": {
    "collapsed": false,
    "pycharm": {
     "name": "#%%\n"
    }
   }
  },
  {
   "cell_type": "code",
   "execution_count": 14,
   "outputs": [
    {
     "data": {
      "text/plain": "    seed classifier  num_feats  cv_score  test_score\n0    422         LR        497  0.665913    0.691522\n1    422        SVM        497  0.679388    0.667909\n2    422        BNN        497  0.677673    0.659901\n3    422   BNN + LR         70  0.742209    0.602458\n0    261         LR        497  0.632749    0.684203\n..   ...        ...        ...       ...         ...\n3    226   BNN + LR         70  0.746323    0.636150\n0    196         LR        497  0.675488    0.653134\n1    196        SVM        497  0.673046    0.642226\n2    196        BNN        497  0.657710    0.644159\n3    196   BNN + LR         70  0.683184    0.561861\n\n[80 rows x 5 columns]",
      "text/html": "<div>\n<style scoped>\n    .dataframe tbody tr th:only-of-type {\n        vertical-align: middle;\n    }\n\n    .dataframe tbody tr th {\n        vertical-align: top;\n    }\n\n    .dataframe thead th {\n        text-align: right;\n    }\n</style>\n<table border=\"1\" class=\"dataframe\">\n  <thead>\n    <tr style=\"text-align: right;\">\n      <th></th>\n      <th>seed</th>\n      <th>classifier</th>\n      <th>num_feats</th>\n      <th>cv_score</th>\n      <th>test_score</th>\n    </tr>\n  </thead>\n  <tbody>\n    <tr>\n      <th>0</th>\n      <td>422</td>\n      <td>LR</td>\n      <td>497</td>\n      <td>0.665913</td>\n      <td>0.691522</td>\n    </tr>\n    <tr>\n      <th>1</th>\n      <td>422</td>\n      <td>SVM</td>\n      <td>497</td>\n      <td>0.679388</td>\n      <td>0.667909</td>\n    </tr>\n    <tr>\n      <th>2</th>\n      <td>422</td>\n      <td>BNN</td>\n      <td>497</td>\n      <td>0.677673</td>\n      <td>0.659901</td>\n    </tr>\n    <tr>\n      <th>3</th>\n      <td>422</td>\n      <td>BNN + LR</td>\n      <td>70</td>\n      <td>0.742209</td>\n      <td>0.602458</td>\n    </tr>\n    <tr>\n      <th>0</th>\n      <td>261</td>\n      <td>LR</td>\n      <td>497</td>\n      <td>0.632749</td>\n      <td>0.684203</td>\n    </tr>\n    <tr>\n      <th>...</th>\n      <td>...</td>\n      <td>...</td>\n      <td>...</td>\n      <td>...</td>\n      <td>...</td>\n    </tr>\n    <tr>\n      <th>3</th>\n      <td>226</td>\n      <td>BNN + LR</td>\n      <td>70</td>\n      <td>0.746323</td>\n      <td>0.636150</td>\n    </tr>\n    <tr>\n      <th>0</th>\n      <td>196</td>\n      <td>LR</td>\n      <td>497</td>\n      <td>0.675488</td>\n      <td>0.653134</td>\n    </tr>\n    <tr>\n      <th>1</th>\n      <td>196</td>\n      <td>SVM</td>\n      <td>497</td>\n      <td>0.673046</td>\n      <td>0.642226</td>\n    </tr>\n    <tr>\n      <th>2</th>\n      <td>196</td>\n      <td>BNN</td>\n      <td>497</td>\n      <td>0.657710</td>\n      <td>0.644159</td>\n    </tr>\n    <tr>\n      <th>3</th>\n      <td>196</td>\n      <td>BNN + LR</td>\n      <td>70</td>\n      <td>0.683184</td>\n      <td>0.561861</td>\n    </tr>\n  </tbody>\n</table>\n<p>80 rows × 5 columns</p>\n</div>"
     },
     "execution_count": 14,
     "metadata": {},
     "output_type": "execute_result"
    }
   ],
   "source": [
    "exp_res_summary_df = pd.concat(res_dfs, axis=0)\n",
    "exp_res_summary_df"
   ],
   "metadata": {
    "collapsed": false,
    "pycharm": {
     "name": "#%%\n"
    }
   }
  },
  {
   "cell_type": "code",
   "execution_count": 18,
   "outputs": [
    {
     "data": {
      "text/plain": "   seed classifier  num_feats  cv_score  test_score\n3   422   BNN + LR         70  0.742209    0.602458\n3   261   BNN + LR         70  0.548834    0.602182\n3   968   BNN + LR         70  0.733143    0.662524\n3   282   BNN + LR         70  0.626206    0.622066\n3   739   BNN + LR         70  0.677834    0.652720\n3   573   BNN + LR         70  0.642308    0.649406\n3   220   BNN + LR         70  0.705625    0.695526\n3   413   BNN + LR         70  0.672249    0.645126\n3   745   BNN + LR         70  0.729746    0.546810\n3   775   BNN + LR         70  0.760346    0.587131\n3   482   BNN + LR         70  0.606272    0.673571\n3   442   BNN + LR         70  0.759645    0.602044\n3   210   BNN + LR         70  0.678007    0.578431\n3   423   BNN + LR         70  0.549172    0.739989\n3   760   BNN + LR         70  0.747611    0.629522\n3    57   BNN + LR         70  0.707539    0.678404\n3   769   BNN + LR         70  0.741601    0.653411\n3   920   BNN + LR         70  0.777028    0.600801\n3   226   BNN + LR         70  0.746323    0.636150\n3   196   BNN + LR         70  0.683184    0.561861",
      "text/html": "<div>\n<style scoped>\n    .dataframe tbody tr th:only-of-type {\n        vertical-align: middle;\n    }\n\n    .dataframe tbody tr th {\n        vertical-align: top;\n    }\n\n    .dataframe thead th {\n        text-align: right;\n    }\n</style>\n<table border=\"1\" class=\"dataframe\">\n  <thead>\n    <tr style=\"text-align: right;\">\n      <th></th>\n      <th>seed</th>\n      <th>classifier</th>\n      <th>num_feats</th>\n      <th>cv_score</th>\n      <th>test_score</th>\n    </tr>\n  </thead>\n  <tbody>\n    <tr>\n      <th>3</th>\n      <td>422</td>\n      <td>BNN + LR</td>\n      <td>70</td>\n      <td>0.742209</td>\n      <td>0.602458</td>\n    </tr>\n    <tr>\n      <th>3</th>\n      <td>261</td>\n      <td>BNN + LR</td>\n      <td>70</td>\n      <td>0.548834</td>\n      <td>0.602182</td>\n    </tr>\n    <tr>\n      <th>3</th>\n      <td>968</td>\n      <td>BNN + LR</td>\n      <td>70</td>\n      <td>0.733143</td>\n      <td>0.662524</td>\n    </tr>\n    <tr>\n      <th>3</th>\n      <td>282</td>\n      <td>BNN + LR</td>\n      <td>70</td>\n      <td>0.626206</td>\n      <td>0.622066</td>\n    </tr>\n    <tr>\n      <th>3</th>\n      <td>739</td>\n      <td>BNN + LR</td>\n      <td>70</td>\n      <td>0.677834</td>\n      <td>0.652720</td>\n    </tr>\n    <tr>\n      <th>3</th>\n      <td>573</td>\n      <td>BNN + LR</td>\n      <td>70</td>\n      <td>0.642308</td>\n      <td>0.649406</td>\n    </tr>\n    <tr>\n      <th>3</th>\n      <td>220</td>\n      <td>BNN + LR</td>\n      <td>70</td>\n      <td>0.705625</td>\n      <td>0.695526</td>\n    </tr>\n    <tr>\n      <th>3</th>\n      <td>413</td>\n      <td>BNN + LR</td>\n      <td>70</td>\n      <td>0.672249</td>\n      <td>0.645126</td>\n    </tr>\n    <tr>\n      <th>3</th>\n      <td>745</td>\n      <td>BNN + LR</td>\n      <td>70</td>\n      <td>0.729746</td>\n      <td>0.546810</td>\n    </tr>\n    <tr>\n      <th>3</th>\n      <td>775</td>\n      <td>BNN + LR</td>\n      <td>70</td>\n      <td>0.760346</td>\n      <td>0.587131</td>\n    </tr>\n    <tr>\n      <th>3</th>\n      <td>482</td>\n      <td>BNN + LR</td>\n      <td>70</td>\n      <td>0.606272</td>\n      <td>0.673571</td>\n    </tr>\n    <tr>\n      <th>3</th>\n      <td>442</td>\n      <td>BNN + LR</td>\n      <td>70</td>\n      <td>0.759645</td>\n      <td>0.602044</td>\n    </tr>\n    <tr>\n      <th>3</th>\n      <td>210</td>\n      <td>BNN + LR</td>\n      <td>70</td>\n      <td>0.678007</td>\n      <td>0.578431</td>\n    </tr>\n    <tr>\n      <th>3</th>\n      <td>423</td>\n      <td>BNN + LR</td>\n      <td>70</td>\n      <td>0.549172</td>\n      <td>0.739989</td>\n    </tr>\n    <tr>\n      <th>3</th>\n      <td>760</td>\n      <td>BNN + LR</td>\n      <td>70</td>\n      <td>0.747611</td>\n      <td>0.629522</td>\n    </tr>\n    <tr>\n      <th>3</th>\n      <td>57</td>\n      <td>BNN + LR</td>\n      <td>70</td>\n      <td>0.707539</td>\n      <td>0.678404</td>\n    </tr>\n    <tr>\n      <th>3</th>\n      <td>769</td>\n      <td>BNN + LR</td>\n      <td>70</td>\n      <td>0.741601</td>\n      <td>0.653411</td>\n    </tr>\n    <tr>\n      <th>3</th>\n      <td>920</td>\n      <td>BNN + LR</td>\n      <td>70</td>\n      <td>0.777028</td>\n      <td>0.600801</td>\n    </tr>\n    <tr>\n      <th>3</th>\n      <td>226</td>\n      <td>BNN + LR</td>\n      <td>70</td>\n      <td>0.746323</td>\n      <td>0.636150</td>\n    </tr>\n    <tr>\n      <th>3</th>\n      <td>196</td>\n      <td>BNN + LR</td>\n      <td>70</td>\n      <td>0.683184</td>\n      <td>0.561861</td>\n    </tr>\n  </tbody>\n</table>\n</div>"
     },
     "execution_count": 18,
     "metadata": {},
     "output_type": "execute_result"
    }
   ],
   "source": [
    "exp_res_summary_df[exp_res_summary_df[\"classifier\"] == \"BNN + LR\"]"
   ],
   "metadata": {
    "collapsed": false,
    "pycharm": {
     "name": "#%%\n"
    }
   }
  },
  {
   "cell_type": "code",
   "execution_count": 17,
   "outputs": [
    {
     "name": "stderr",
     "output_type": "stream",
     "text": [
      "/tmp/ipykernel_13377/1692140464.py:1: FutureWarning: Indexing with multiple keys (implicitly converted to a tuple of keys) will be deprecated, use a list instead.\n",
      "  clf_mean_scs = exp_res_summary_df.groupby(\"classifier\")[\"cv_score\", \"test_score\"].mean()\n"
     ]
    },
    {
     "data": {
      "text/plain": "            cv_score  test_score\nclassifier                      \nBNN         0.677512    0.649503\nBNN + LR    0.691744    0.631007\nLR          0.673300    0.675007\nSVM         0.678274    0.671866",
      "text/html": "<div>\n<style scoped>\n    .dataframe tbody tr th:only-of-type {\n        vertical-align: middle;\n    }\n\n    .dataframe tbody tr th {\n        vertical-align: top;\n    }\n\n    .dataframe thead th {\n        text-align: right;\n    }\n</style>\n<table border=\"1\" class=\"dataframe\">\n  <thead>\n    <tr style=\"text-align: right;\">\n      <th></th>\n      <th>cv_score</th>\n      <th>test_score</th>\n    </tr>\n    <tr>\n      <th>classifier</th>\n      <th></th>\n      <th></th>\n    </tr>\n  </thead>\n  <tbody>\n    <tr>\n      <th>BNN</th>\n      <td>0.677512</td>\n      <td>0.649503</td>\n    </tr>\n    <tr>\n      <th>BNN + LR</th>\n      <td>0.691744</td>\n      <td>0.631007</td>\n    </tr>\n    <tr>\n      <th>LR</th>\n      <td>0.673300</td>\n      <td>0.675007</td>\n    </tr>\n    <tr>\n      <th>SVM</th>\n      <td>0.678274</td>\n      <td>0.671866</td>\n    </tr>\n  </tbody>\n</table>\n</div>"
     },
     "execution_count": 17,
     "metadata": {},
     "output_type": "execute_result"
    }
   ],
   "source": [
    "clf_mean_scs = exp_res_summary_df.groupby(\"classifier\")[\"cv_score\", \"test_score\"].mean()\n",
    "clf_mean_scs"
   ],
   "metadata": {
    "collapsed": false,
    "pycharm": {
     "name": "#%%\n"
    }
   }
  },
  {
   "cell_type": "code",
   "execution_count": 142,
   "outputs": [
    {
     "data": {
      "text/plain": "<Figure size 2000x1200 with 20 Axes>",
      "image/png": "[encoded data removed]"
     },
     "metadata": {},
     "output_type": "display_data"
    }
   ],
   "source": [
    "import glob\n",
    "bnn_disc_means = []\n",
    "\n",
    "for seed in exp_seeds:\n",
    "    disc_mean = np.load(f\"{exp_dir}/bnn_disc_mean_s_{seed}.npy\")\n",
    "    bnn_disc_means.append(disc_mean)\n",
    "\n",
    "\n",
    "nrows = 4\n",
    "ncols = 5\n",
    "fig, axs = plt.subplots(4, 5, figsize=(20, 12))\n",
    "fig.suptitle(\"Hist mean & CV scores\")\n",
    "k = 0\n",
    "for i in range(nrows):\n",
    "    for j in range(ncols):\n",
    "        seed = exp_seeds[k]\n",
    "        scores = exp_res_summary_df[exp_res_summary_df[\"seed\"] == seed][\"cv_score\"].to_list()\n",
    "        axs[i, j].hist(bnn_disc_means[k], label=f\"seed - {seed}\\nLR: {scores[0]:.2f}, SVM: {scores[1]:.2f}\\nBNN: {scores[2]:.2f}, B-LR:{scores[3]:.2f}\")\n",
    "        k += 1\n",
    "        # axs[i, j].set_title(f\"Seed - {seed}\")\n",
    "        axs[i, j].legend()\n"
   ],
   "metadata": {
    "collapsed": false,
    "pycharm": {
     "name": "#%%\n"
    }
   }
  },
  {
   "cell_type": "code",
   "execution_count": 48,
   "outputs": [
    {
     "data": {
      "text/plain": "<Figure size 2000x1200 with 20 Axes>",
      "image/png": "[encoded data removed]"
     },
     "metadata": {},
     "output_type": "display_data"
    }
   ],
   "source": [
    "nrows = 4\n",
    "ncols = 5\n",
    "fig, axs = plt.subplots(4, 5, figsize=(20, 12), sharex=True)\n",
    "fig.suptitle(\"Hist mean & Test scores\")\n",
    "k = 0\n",
    "for i in range(nrows):\n",
    "    for j in range(ncols):\n",
    "        seed = exp_seeds[k]\n",
    "        scores = exp_res_summary_df[exp_res_summary_df[\"seed\"] == seed][\"test_score\"].to_list()\n",
    "        axs[i, j].hist(bnn_disc_means[k], label=f\"seed - {seed}\\nLR: {scores[0]:.2f}, SVM: {scores[1]:.2f}\\nBNN: {scores[2]:.2f}, B-LR:{scores[3]:.2f}\")\n",
    "        k += 1\n",
    "        axs[i, j].set_title(f\"Seed - {seed}\")\n",
    "        axs[i, j].legend()"
   ],
   "metadata": {
    "collapsed": false,
    "pycharm": {
     "name": "#%%\n"
    }
   }
  },
  {
   "cell_type": "code",
   "execution_count": 109,
   "outputs": [
    {
     "name": "stdout",
     "output_type": "stream",
     "text": [
      "seed - 422, gamma >75% - 113\n",
      "Fitting 5 folds for each of 10 candidates, totalling 50 fits\n",
      "{'C': 0.01}\n",
      "cv score: 0.7447105672105672, test_score: 0.6322838994752831\n",
      "seed - 261, gamma >75% - 122\n",
      "Fitting 5 folds for each of 10 candidates, totalling 50 fits\n",
      "{'C': 0.01}\n",
      "cv score: 0.5571250971250972, test_score: 0.6500966583816625\n",
      "seed - 968, gamma >75% - 123\n",
      "Fitting 5 folds for each of 10 candidates, totalling 50 fits\n",
      "{'C': 0.021544346900318832}\n",
      "cv score: 0.7382420357420358, test_score: 0.6413974040320354\n",
      "seed - 282, gamma >75% - 118\n",
      "Fitting 5 folds for each of 10 candidates, totalling 50 fits\n",
      "{'C': 0.01}\n",
      "cv score: 0.6207051282051281, test_score: 0.5647611157138912\n",
      "seed - 739, gamma >75% - 121\n",
      "Fitting 5 folds for each of 10 candidates, totalling 50 fits\n",
      "{'C': 0.046415888336127774}\n",
      "cv score: 0.6888267288267287, test_score: 0.5934824634078983\n",
      "seed - 573, gamma >75% - 123\n",
      "Fitting 5 folds for each of 10 candidates, totalling 50 fits\n",
      "{'C': 0.021544346900318832}\n",
      "cv score: 0.6364005439005439, test_score: 0.6819939243302955\n",
      "seed - 220, gamma >75% - 116\n",
      "Fitting 5 folds for each of 10 candidates, totalling 50 fits\n",
      "{'C': 0.046415888336127774}\n",
      "cv score: 0.710514763014763, test_score: 0.6581054957194145\n",
      "seed - 413, gamma >75% - 119\n",
      "Fitting 5 folds for each of 10 candidates, totalling 50 fits\n",
      "{'C': 0.021544346900318832}\n",
      "cv score: 0.7082731157731158, test_score: 0.6578293289146644\n",
      "seed - 745, gamma >75% - 121\n",
      "Fitting 5 folds for each of 10 candidates, totalling 50 fits\n",
      "{'C': 0.1}\n",
      "cv score: 0.7711732711732713, test_score: 0.5973487986743993\n",
      "seed - 775, gamma >75% - 115\n",
      "Fitting 5 folds for each of 10 candidates, totalling 50 fits\n",
      "{'C': 0.021544346900318832}\n",
      "cv score: 0.7535878010878011, test_score: 0.6070146368406517\n",
      "seed - 482, gamma >75% - 124\n",
      "Fitting 5 folds for each of 10 candidates, totalling 50 fits\n",
      "{'C': 0.01}\n",
      "cv score: 0.6093978243978244, test_score: 0.6652858326429163\n",
      "seed - 442, gamma >75% - 116\n",
      "Fitting 5 folds for each of 10 candidates, totalling 50 fits\n",
      "{'C': 0.021544346900318832}\n",
      "cv score: 0.7524242424242424, test_score: 0.5963822148577741\n",
      "seed - 210, gamma >75% - 121\n",
      "Fitting 5 folds for each of 10 candidates, totalling 50 fits\n",
      "{'C': 0.021544346900318832}\n",
      "cv score: 0.6986460761460761, test_score: 0.5817453742060205\n",
      "seed - 423, gamma >75% - 122\n",
      "Fitting 5 folds for each of 10 candidates, totalling 50 fits\n",
      "{'C': 0.01}\n",
      "cv score: 0.5579156954156954, test_score: 0.7247997790665562\n",
      "seed - 760, gamma >75% - 120\n",
      "Fitting 5 folds for each of 10 candidates, totalling 50 fits\n",
      "{'C': 0.021544346900318832}\n",
      "cv score: 0.7461460761460762, test_score: 0.6197183098591549\n",
      "seed - 57, gamma >75% - 121\n",
      "Fitting 5 folds for each of 10 candidates, totalling 50 fits\n",
      "{'C': 0.021544346900318832}\n",
      "cv score: 0.7332439782439781, test_score: 0.6721900027616681\n",
      "seed - 769, gamma >75% - 124\n",
      "Fitting 5 folds for each of 10 candidates, totalling 50 fits\n",
      "{'C': 0.021544346900318832}\n",
      "cv score: 0.7582187257187256, test_score: 0.6655619994476664\n",
      "seed - 920, gamma >75% - 118\n",
      "Fitting 5 folds for each of 10 candidates, totalling 50 fits\n",
      "{'C': 0.046415888336127774}\n",
      "cv score: 0.7785644910644911, test_score: 0.6541010770505384\n",
      "seed - 226, gamma >75% - 123\n",
      "Fitting 5 folds for each of 10 candidates, totalling 50 fits\n",
      "{'C': 0.01}\n",
      "cv score: 0.7404156954156954, test_score: 0.6217895608947804\n",
      "seed - 196, gamma >75% - 121\n",
      "Fitting 5 folds for each of 10 candidates, totalling 50 fits\n",
      "{'C': 0.1}\n",
      "cv score: 0.7106099456099456, test_score: 0.6027340513670257\n"
     ]
    }
   ],
   "source": [
    "bnn_lr_quantile = {\"seed\": [], \"cv_score\": [], \"test_score\": [], \"feat_len\": [], \"75%\": []}\n",
    "\n",
    "for seed in exp_seeds:\n",
    "    cv = StratifiedKFold(random_state=seed, shuffle=True, n_splits=5)\n",
    "    gamma_means_s = np.load(f\"{exp_dir}/bnn_disc_mean_s_{seed}.npy\")\n",
    "    gamma_means_quantile = np.quantile(gamma_means_s, [0., 0.25, 0.5, 0.75, 1.])\n",
    "    gamma_mean_75 = gamma_means_quantile[3]\n",
    "    gamma_idx = np.argwhere(gamma_means_s > gamma_mean_75).ravel()\n",
    "    print(f\"seed - {seed}, gamma >75% - {len(gamma_idx)}\")\n",
    "    X_train, X_test, y_train, y_test = train_test_split(X_cosmic, y_df, test_size=0.3, random_state=seed, shuffle=True, stratify=y_df)\n",
    "    X_train_sel, X_test_sel = X_train.iloc[:, gamma_idx], X_test.iloc[:, gamma_idx]\n",
    "    log_param_grid = {\"C\":np.logspace(-2, 1, 10)}\n",
    "    log_grid_cv = GridSearchCV(estimator=LogisticRegression(max_iter=10000), param_grid=log_param_grid, verbose=1, scoring=\"roc_auc\", cv=cv).fit(X_train_sel, y_train.to_numpy())\n",
    "    print(log_grid_cv.best_params_)\n",
    "    clf = LogisticRegression(max_iter=10000, C=log_grid_cv.best_params_[\"C\"])\n",
    "    log_cv_score= np.mean(cross_val_score(clf, X_train_sel, y_train, scoring=\"roc_auc\", cv=cv))\n",
    "    clf.fit(X_train_sel, y_train)\n",
    "    log_test_score= roc_auc_score(y_test.to_numpy(), clf.predict_proba(X_test_sel)[:,1])\n",
    "    print(f\"cv score: {log_cv_score}, test_score: {log_test_score}\")\n",
    "\n",
    "    bnn_lr_quantile[\"seed\"].append(seed)\n",
    "    bnn_lr_quantile[\"cv_score\"].append(log_cv_score)\n",
    "    bnn_lr_quantile[\"test_score\"].append(log_test_score)\n",
    "    bnn_lr_quantile[\"feat_len\"].append(len(gamma_idx))\n",
    "    bnn_lr_quantile[\"75%\"].append(gamma_mean_75)"
   ],
   "metadata": {
    "collapsed": false,
    "pycharm": {
     "name": "#%%\n"
    }
   }
  },
  {
   "cell_type": "code",
   "execution_count": 110,
   "outputs": [
    {
     "data": {
      "text/plain": "    seed  cv_score  test_score  feat_len    75%\n0    422  0.744711    0.632284       113  0.410\n1    261  0.557125    0.650097       122  0.924\n2    968  0.738242    0.641397       123  0.414\n3    282  0.620705    0.564761       118  0.562\n4    739  0.688827    0.593482       121  0.600\n5    573  0.636401    0.681994       123  0.622\n6    220  0.710515    0.658105       116  0.466\n7    413  0.708273    0.657829       119  0.540\n8    745  0.771173    0.597349       121  0.448\n9    775  0.753588    0.607015       115  0.458\n10   482  0.609398    0.665286       124  0.512\n11   442  0.752424    0.596382       116  0.382\n12   210  0.698646    0.581745       121  0.442\n13   423  0.557916    0.724800       122  0.984\n14   760  0.746146    0.619718       120  0.438\n15    57  0.733244    0.672190       121  0.370\n16   769  0.758219    0.665562       124  0.352\n17   920  0.778564    0.654101       118  0.234\n18   226  0.740416    0.621790       123  0.250\n19   196  0.710610    0.602734       121  0.508",
      "text/html": "<div>\n<style scoped>\n    .dataframe tbody tr th:only-of-type {\n        vertical-align: middle;\n    }\n\n    .dataframe tbody tr th {\n        vertical-align: top;\n    }\n\n    .dataframe thead th {\n        text-align: right;\n    }\n</style>\n<table border=\"1\" class=\"dataframe\">\n  <thead>\n    <tr style=\"text-align: right;\">\n      <th></th>\n      <th>seed</th>\n      <th>cv_score</th>\n      <th>test_score</th>\n      <th>feat_len</th>\n      <th>75%</th>\n    </tr>\n  </thead>\n  <tbody>\n    <tr>\n      <th>0</th>\n      <td>422</td>\n      <td>0.744711</td>\n      <td>0.632284</td>\n      <td>113</td>\n      <td>0.410</td>\n    </tr>\n    <tr>\n      <th>1</th>\n      <td>261</td>\n      <td>0.557125</td>\n      <td>0.650097</td>\n      <td>122</td>\n      <td>0.924</td>\n    </tr>\n    <tr>\n      <th>2</th>\n      <td>968</td>\n      <td>0.738242</td>\n      <td>0.641397</td>\n      <td>123</td>\n      <td>0.414</td>\n    </tr>\n    <tr>\n      <th>3</th>\n      <td>282</td>\n      <td>0.620705</td>\n      <td>0.564761</td>\n      <td>118</td>\n      <td>0.562</td>\n    </tr>\n    <tr>\n      <th>4</th>\n      <td>739</td>\n      <td>0.688827</td>\n      <td>0.593482</td>\n      <td>121</td>\n      <td>0.600</td>\n    </tr>\n    <tr>\n      <th>5</th>\n      <td>573</td>\n      <td>0.636401</td>\n      <td>0.681994</td>\n      <td>123</td>\n      <td>0.622</td>\n    </tr>\n    <tr>\n      <th>6</th>\n      <td>220</td>\n      <td>0.710515</td>\n      <td>0.658105</td>\n      <td>116</td>\n      <td>0.466</td>\n    </tr>\n    <tr>\n      <th>7</th>\n      <td>413</td>\n      <td>0.708273</td>\n      <td>0.657829</td>\n      <td>119</td>\n      <td>0.540</td>\n    </tr>\n    <tr>\n      <th>8</th>\n      <td>745</td>\n      <td>0.771173</td>\n      <td>0.597349</td>\n      <td>121</td>\n      <td>0.448</td>\n    </tr>\n    <tr>\n      <th>9</th>\n      <td>775</td>\n      <td>0.753588</td>\n      <td>0.607015</td>\n      <td>115</td>\n      <td>0.458</td>\n    </tr>\n    <tr>\n      <th>10</th>\n      <td>482</td>\n      <td>0.609398</td>\n      <td>0.665286</td>\n      <td>124</td>\n      <td>0.512</td>\n    </tr>\n    <tr>\n      <th>11</th>\n      <td>442</td>\n      <td>0.752424</td>\n      <td>0.596382</td>\n      <td>116</td>\n      <td>0.382</td>\n    </tr>\n    <tr>\n      <th>12</th>\n      <td>210</td>\n      <td>0.698646</td>\n      <td>0.581745</td>\n      <td>121</td>\n      <td>0.442</td>\n    </tr>\n    <tr>\n      <th>13</th>\n      <td>423</td>\n      <td>0.557916</td>\n      <td>0.724800</td>\n      <td>122</td>\n      <td>0.984</td>\n    </tr>\n    <tr>\n      <th>14</th>\n      <td>760</td>\n      <td>0.746146</td>\n      <td>0.619718</td>\n      <td>120</td>\n      <td>0.438</td>\n    </tr>\n    <tr>\n      <th>15</th>\n      <td>57</td>\n      <td>0.733244</td>\n      <td>0.672190</td>\n      <td>121</td>\n      <td>0.370</td>\n    </tr>\n    <tr>\n      <th>16</th>\n      <td>769</td>\n      <td>0.758219</td>\n      <td>0.665562</td>\n      <td>124</td>\n      <td>0.352</td>\n    </tr>\n    <tr>\n      <th>17</th>\n      <td>920</td>\n      <td>0.778564</td>\n      <td>0.654101</td>\n      <td>118</td>\n      <td>0.234</td>\n    </tr>\n    <tr>\n      <th>18</th>\n      <td>226</td>\n      <td>0.740416</td>\n      <td>0.621790</td>\n      <td>123</td>\n      <td>0.250</td>\n    </tr>\n    <tr>\n      <th>19</th>\n      <td>196</td>\n      <td>0.710610</td>\n      <td>0.602734</td>\n      <td>121</td>\n      <td>0.508</td>\n    </tr>\n  </tbody>\n</table>\n</div>"
     },
     "execution_count": 110,
     "metadata": {},
     "output_type": "execute_result"
    }
   ],
   "source": [
    "bnn_lr_quantile_df = pd.DataFrame(bnn_lr_quantile)\n",
    "bnn_lr_quantile_df"
   ],
   "metadata": {
    "collapsed": false,
    "pycharm": {
     "name": "#%%\n"
    }
   }
  },
  {
   "cell_type": "code",
   "execution_count": 111,
   "outputs": [
    {
     "data": {
      "text/plain": "cv_score      0.700757\ntest_score    0.634431\ndtype: float64"
     },
     "execution_count": 111,
     "metadata": {},
     "output_type": "execute_result"
    }
   ],
   "source": [
    "bnn_lr_quantile_df[[\"cv_score\", \"test_score\"]].mean()"
   ],
   "metadata": {
    "collapsed": false,
    "pycharm": {
     "name": "#%%\n"
    }
   }
  },
  {
   "cell_type": "code",
   "execution_count": 32,
   "outputs": [
    {
     "name": "stdout",
     "output_type": "stream",
     "text": [
      "Fitting 5 folds for each of 10 candidates, totalling 50 fits\n",
      "Fitting 5 folds for each of 10 candidates, totalling 50 fits\n",
      "Fitting 5 folds for each of 10 candidates, totalling 50 fits\n",
      "Fitting 5 folds for each of 10 candidates, totalling 50 fits\n",
      "Fitting 5 folds for each of 10 candidates, totalling 50 fits\n",
      "thr: 0.4, len: 186  ,cv score: 0.742952602952603, test_score: 0.6444352388842861\n",
      "Fitting 5 folds for each of 10 candidates, totalling 50 fits\n",
      "Fitting 5 folds for each of 10 candidates, totalling 50 fits\n",
      "Fitting 5 folds for each of 10 candidates, totalling 50 fits\n",
      "Fitting 5 folds for each of 10 candidates, totalling 50 fits\n",
      "Fitting 5 folds for each of 10 candidates, totalling 50 fits\n",
      "Fitting 5 folds for each of 10 candidates, totalling 50 fits\n",
      "Fitting 5 folds for each of 10 candidates, totalling 50 fits\n",
      "Fitting 5 folds for each of 10 candidates, totalling 50 fits\n",
      "Fitting 5 folds for each of 10 candidates, totalling 50 fits\n",
      "thr: 0.7000000000000001, len: 181  ,cv score: 0.6133702408702408, test_score: 0.5861640430820215\n",
      "Fitting 5 folds for each of 10 candidates, totalling 50 fits\n",
      "Fitting 5 folds for each of 10 candidates, totalling 50 fits\n",
      "Fitting 5 folds for each of 10 candidates, totalling 50 fits\n",
      "Fitting 5 folds for each of 10 candidates, totalling 50 fits\n",
      "thr: 0.4, len: 221  ,cv score: 0.7449203574203573, test_score: 0.6306268986467827\n",
      "Fitting 5 folds for each of 10 candidates, totalling 50 fits\n",
      "Fitting 5 folds for each of 10 candidates, totalling 50 fits\n",
      "Fitting 5 folds for each of 10 candidates, totalling 50 fits\n",
      "Fitting 5 folds for each of 10 candidates, totalling 50 fits\n",
      "Fitting 5 folds for each of 10 candidates, totalling 50 fits\n",
      "Fitting 5 folds for each of 10 candidates, totalling 50 fits\n",
      "Fitting 5 folds for each of 10 candidates, totalling 50 fits\n",
      "Fitting 5 folds for each of 10 candidates, totalling 50 fits\n",
      "Fitting 5 folds for each of 10 candidates, totalling 50 fits\n",
      "thr: 0.5, len: 329  ,cv score: 0.694527972027972, test_score: 0.6063242198287766\n",
      "Fitting 5 folds for each of 10 candidates, totalling 50 fits\n",
      "Fitting 5 folds for each of 10 candidates, totalling 50 fits\n",
      "Fitting 5 folds for each of 10 candidates, totalling 50 fits\n",
      "Fitting 5 folds for each of 10 candidates, totalling 50 fits\n",
      "Fitting 5 folds for each of 10 candidates, totalling 50 fits\n",
      "Fitting 5 folds for each of 10 candidates, totalling 50 fits\n",
      "Fitting 5 folds for each of 10 candidates, totalling 50 fits\n",
      "Fitting 5 folds for each of 10 candidates, totalling 50 fits\n",
      "Fitting 5 folds for each of 10 candidates, totalling 50 fits\n",
      "thr: 0.4, len: 330  ,cv score: 0.7499708624708624, test_score: 0.6926263463131731\n",
      "Fitting 5 folds for each of 10 candidates, totalling 50 fits\n",
      "Fitting 5 folds for each of 10 candidates, totalling 50 fits\n",
      "Fitting 5 folds for each of 10 candidates, totalling 50 fits\n",
      "Fitting 5 folds for each of 10 candidates, totalling 50 fits\n",
      "Fitting 5 folds for each of 10 candidates, totalling 50 fits\n",
      "Fitting 5 folds for each of 10 candidates, totalling 50 fits\n",
      "Fitting 5 folds for each of 10 candidates, totalling 50 fits\n",
      "Fitting 5 folds for each of 10 candidates, totalling 50 fits\n",
      "Fitting 5 folds for each of 10 candidates, totalling 50 fits\n",
      "thr: 0.4, len: 284  ,cv score: 0.6689724164724165, test_score: 0.7061585197459265\n",
      "Fitting 5 folds for each of 10 candidates, totalling 50 fits\n",
      "Fitting 5 folds for each of 10 candidates, totalling 50 fits\n",
      "Fitting 5 folds for each of 10 candidates, totalling 50 fits\n",
      "Fitting 5 folds for each of 10 candidates, totalling 50 fits\n",
      "Fitting 5 folds for each of 10 candidates, totalling 50 fits\n",
      "thr: 0.4, len: 477  ,cv score: 0.6563403263403262, test_score: 0.6828224247445457\n",
      "Fitting 5 folds for each of 10 candidates, totalling 50 fits\n",
      "Fitting 5 folds for each of 10 candidates, totalling 50 fits\n",
      "Fitting 5 folds for each of 10 candidates, totalling 50 fits\n",
      "Fitting 5 folds for each of 10 candidates, totalling 50 fits\n",
      "Fitting 5 folds for each of 10 candidates, totalling 50 fits\n",
      "Fitting 5 folds for each of 10 candidates, totalling 50 fits\n",
      "Fitting 5 folds for each of 10 candidates, totalling 50 fits\n",
      "Fitting 5 folds for each of 10 candidates, totalling 50 fits\n",
      "Fitting 5 folds for each of 10 candidates, totalling 50 fits\n",
      "thr: 0.5, len: 324  ,cv score: 0.7183100233100232, test_score: 0.6658381662524164\n",
      "Fitting 5 folds for each of 10 candidates, totalling 50 fits\n",
      "Fitting 5 folds for each of 10 candidates, totalling 50 fits\n",
      "Fitting 5 folds for each of 10 candidates, totalling 50 fits\n",
      "Fitting 5 folds for each of 10 candidates, totalling 50 fits\n",
      "Fitting 5 folds for each of 10 candidates, totalling 50 fits\n",
      "Fitting 5 folds for each of 10 candidates, totalling 50 fits\n",
      "Fitting 5 folds for each of 10 candidates, totalling 50 fits\n",
      "thr: 0.4, len: 421  ,cv score: 0.7054118104118104, test_score: 0.6291079812206573\n",
      "Fitting 5 folds for each of 10 candidates, totalling 50 fits\n",
      "Fitting 5 folds for each of 10 candidates, totalling 50 fits\n",
      "Fitting 5 folds for each of 10 candidates, totalling 50 fits\n",
      "Fitting 5 folds for each of 10 candidates, totalling 50 fits\n",
      "Fitting 5 folds for each of 10 candidates, totalling 50 fits\n",
      "thr: 0.5, len: 9  ,cv score: 0.7000446775446776, test_score: 0.5459817729908863\n",
      "Fitting 5 folds for each of 10 candidates, totalling 50 fits\n",
      "Fitting 5 folds for each of 10 candidates, totalling 50 fits\n",
      "Fitting 5 folds for each of 10 candidates, totalling 50 fits\n",
      "Fitting 5 folds for each of 10 candidates, totalling 50 fits\n",
      "Fitting 5 folds for each of 10 candidates, totalling 50 fits\n",
      "Fitting 5 folds for each of 10 candidates, totalling 50 fits\n",
      "Fitting 5 folds for each of 10 candidates, totalling 50 fits\n",
      "Fitting 5 folds for each of 10 candidates, totalling 50 fits\n",
      "Fitting 5 folds for each of 10 candidates, totalling 50 fits\n",
      "thr: 0.4, len: 255  ,cv score: 0.6734304584304585, test_score: 0.7074012703673018\n",
      "Fitting 5 folds for each of 10 candidates, totalling 50 fits\n",
      "Fitting 5 folds for each of 10 candidates, totalling 50 fits\n",
      "Fitting 5 folds for each of 10 candidates, totalling 50 fits\n",
      "Fitting 5 folds for each of 10 candidates, totalling 50 fits\n",
      "Fitting 5 folds for each of 10 candidates, totalling 50 fits\n",
      "Fitting 5 folds for each of 10 candidates, totalling 50 fits\n",
      "Fitting 5 folds for each of 10 candidates, totalling 50 fits\n",
      "Fitting 5 folds for each of 10 candidates, totalling 50 fits\n",
      "thr: 0.4, len: 52  ,cv score: 0.7538947163947165, test_score: 0.5984534658933995\n",
      "Fitting 5 folds for each of 10 candidates, totalling 50 fits\n",
      "Fitting 5 folds for each of 10 candidates, totalling 50 fits\n",
      "Fitting 5 folds for each of 10 candidates, totalling 50 fits\n",
      "Fitting 5 folds for each of 10 candidates, totalling 50 fits\n",
      "Fitting 5 folds for each of 10 candidates, totalling 50 fits\n",
      "Fitting 5 folds for each of 10 candidates, totalling 50 fits\n",
      "Fitting 5 folds for each of 10 candidates, totalling 50 fits\n",
      "Fitting 5 folds for each of 10 candidates, totalling 50 fits\n",
      "Fitting 5 folds for each of 10 candidates, totalling 50 fits\n",
      "thr: 0.4, len: 355  ,cv score: 0.7184498834498834, test_score: 0.6241369787351561\n",
      "Fitting 5 folds for each of 10 candidates, totalling 50 fits\n",
      "Fitting 5 folds for each of 10 candidates, totalling 50 fits\n",
      "Fitting 5 folds for each of 10 candidates, totalling 50 fits\n",
      "Fitting 5 folds for each of 10 candidates, totalling 50 fits\n",
      "Fitting 5 folds for each of 10 candidates, totalling 50 fits\n",
      "Fitting 5 folds for each of 10 candidates, totalling 50 fits\n",
      "Fitting 5 folds for each of 10 candidates, totalling 50 fits\n",
      "Fitting 5 folds for each of 10 candidates, totalling 50 fits\n",
      "Fitting 5 folds for each of 10 candidates, totalling 50 fits\n",
      "thr: 0.1, len: 183  ,cv score: 0.6117560217560217, test_score: 0.7148577740955537\n",
      "Fitting 5 folds for each of 10 candidates, totalling 50 fits\n",
      "Fitting 5 folds for each of 10 candidates, totalling 50 fits\n",
      "Fitting 5 folds for each of 10 candidates, totalling 50 fits\n",
      "Fitting 5 folds for each of 10 candidates, totalling 50 fits\n",
      "Fitting 5 folds for each of 10 candidates, totalling 50 fits\n",
      "Fitting 5 folds for each of 10 candidates, totalling 50 fits\n",
      "thr: 0.4, len: 379  ,cv score: 0.7300019425019425, test_score: 0.64015465341066\n",
      "Fitting 5 folds for each of 10 candidates, totalling 50 fits\n",
      "Fitting 5 folds for each of 10 candidates, totalling 50 fits\n",
      "Fitting 5 folds for each of 10 candidates, totalling 50 fits\n",
      "Fitting 5 folds for each of 10 candidates, totalling 50 fits\n",
      "Fitting 5 folds for each of 10 candidates, totalling 50 fits\n",
      "Fitting 5 folds for each of 10 candidates, totalling 50 fits\n",
      "Fitting 5 folds for each of 10 candidates, totalling 50 fits\n",
      "thr: 0.30000000000000004, len: 485  ,cv score: 0.665456487956488, test_score: 0.7223142778238056\n",
      "Fitting 5 folds for each of 10 candidates, totalling 50 fits\n",
      "Fitting 5 folds for each of 10 candidates, totalling 50 fits\n",
      "Fitting 5 folds for each of 10 candidates, totalling 50 fits\n",
      "Fitting 5 folds for each of 10 candidates, totalling 50 fits\n",
      "Fitting 5 folds for each of 10 candidates, totalling 50 fits\n",
      "Fitting 5 folds for each of 10 candidates, totalling 50 fits\n",
      "thr: 0.4, len: 22  ,cv score: 0.7209003496503497, test_score: 0.5828500414250206\n",
      "Fitting 5 folds for each of 10 candidates, totalling 50 fits\n",
      "Fitting 5 folds for each of 10 candidates, totalling 50 fits\n",
      "Fitting 5 folds for each of 10 candidates, totalling 50 fits\n",
      "Fitting 5 folds for each of 10 candidates, totalling 50 fits\n",
      "Fitting 5 folds for each of 10 candidates, totalling 50 fits\n",
      "Fitting 5 folds for each of 10 candidates, totalling 50 fits\n",
      "Fitting 5 folds for each of 10 candidates, totalling 50 fits\n",
      "thr: 0.2, len: 361  ,cv score: 0.7388422688422688, test_score: 0.6467826567246617\n",
      "Fitting 5 folds for each of 10 candidates, totalling 50 fits\n",
      "Fitting 5 folds for each of 10 candidates, totalling 50 fits\n",
      "Fitting 5 folds for each of 10 candidates, totalling 50 fits\n",
      "Fitting 5 folds for each of 10 candidates, totalling 50 fits\n",
      "Fitting 5 folds for each of 10 candidates, totalling 50 fits\n",
      "thr: 0.30000000000000004, len: 19  ,cv score: 0.7379972804972805, test_score: 0.5928610880972107\n",
      "Fitting 5 folds for each of 10 candidates, totalling 50 fits\n",
      "Fitting 5 folds for each of 10 candidates, totalling 50 fits\n",
      "Fitting 5 folds for each of 10 candidates, totalling 50 fits\n",
      "Fitting 5 folds for each of 10 candidates, totalling 50 fits\n",
      "Fitting 5 folds for each of 10 candidates, totalling 50 fits\n",
      "thr: 0.5, len: 166  ,cv score: 0.7289860139860139, test_score: 0.6340789837061584\n"
     ]
    }
   ],
   "source": [
    "bnn_lr_thr = {\"seed\": [], \"cv_score\": [], \"test_score\": [], \"feat_len\": [], \"thr\": []}\n",
    "\n",
    "thr = np.linspace(0.1, 0.9, 9)\n",
    "\n",
    "for seed in exp_seeds:\n",
    "    cv = StratifiedKFold(random_state=seed, shuffle=True, n_splits=5)\n",
    "    gamma_means_s = np.load(f\"{exp_dir}/bnn_disc_mean_s_{seed}.npy\")\n",
    "    X_train, X_test, y_train, y_test = train_test_split(X_cosmic, y_df, test_size=0.3, random_state=seed, shuffle=True, stratify=y_df)\n",
    "    cv_score_max = 0.0\n",
    "    t_max = 0.0\n",
    "    param_t_max = None\n",
    "    for t in thr:\n",
    "        gamma_idx = np.argwhere(gamma_means_s > t).ravel()\n",
    "        if gamma_idx.size == 0: break\n",
    "        X_train_sel, X_test_sel = X_train.iloc[:, gamma_idx], X_test.iloc[:, gamma_idx]\n",
    "        log_param_grid = {\"C\":np.logspace(-2, 1, 10)}\n",
    "        log_grid_cv = GridSearchCV(estimator=LogisticRegression(max_iter=10000), param_grid=log_param_grid, verbose=1, scoring=\"roc_auc\", cv=cv).fit(X_train_sel, y_train.to_numpy())\n",
    "        clf = LogisticRegression(max_iter=10000, C=log_grid_cv.best_params_[\"C\"])\n",
    "        log_cv_score = log_grid_cv.best_score_\n",
    "        if log_cv_score > cv_score_max:\n",
    "            t_max = t\n",
    "            cv_score_max = log_cv_score\n",
    "            param_t_max = log_grid_cv.best_params_\n",
    "\n",
    "    gamma_idx = np.argwhere(gamma_means_s > t_max).ravel()\n",
    "    X_train_sel, X_test_sel = X_train.iloc[:, gamma_idx], X_test.iloc[:, gamma_idx]\n",
    "    clf = LogisticRegression(max_iter=10000, **param_t_max)\n",
    "    log_cv_score= np.mean(cross_val_score(clf, X_train_sel, y_train, scoring=\"roc_auc\", cv=cv))\n",
    "    clf.fit(X_train_sel, y_train)\n",
    "    log_test_score= roc_auc_score(y_test.to_numpy(), clf.predict_proba(X_test_sel)[:,1])\n",
    "    print(f\"thr: {t_max}, len: {len(gamma_idx)}  ,cv score: {log_cv_score}, test_score: {log_test_score}\")\n",
    "\n",
    "    bnn_lr_thr[\"seed\"].append(seed)\n",
    "    bnn_lr_thr[\"cv_score\"].append(log_cv_score)\n",
    "    bnn_lr_thr[\"test_score\"].append(log_test_score)\n",
    "    bnn_lr_thr[\"feat_len\"].append(len(gamma_idx))\n",
    "    bnn_lr_thr[\"thr\"].append(t_max)"
   ],
   "metadata": {
    "collapsed": false,
    "pycharm": {
     "name": "#%%\n"
    }
   }
  },
  {
   "cell_type": "code",
   "execution_count": 33,
   "outputs": [
    {
     "data": {
      "text/plain": "    seed  cv_score  test_score  feat_len  thr\n0    422  0.742953    0.644435       186  0.4\n1    261  0.613370    0.586164       181  0.7\n2    968  0.744920    0.630627       221  0.4\n3    282  0.694528    0.606324       329  0.5\n4    739  0.749971    0.692626       330  0.4\n5    573  0.668972    0.706159       284  0.4\n6    220  0.656340    0.682822       477  0.4\n7    413  0.718310    0.665838       324  0.5\n8    745  0.705412    0.629108       421  0.4\n9    775  0.700045    0.545982         9  0.5\n10   482  0.673430    0.707401       255  0.4\n11   442  0.753895    0.598453        52  0.4\n12   210  0.718450    0.624137       355  0.4\n13   423  0.611756    0.714858       183  0.1\n14   760  0.730002    0.640155       379  0.4\n15    57  0.665456    0.722314       485  0.3\n16   769  0.720900    0.582850        22  0.4\n17   920  0.738842    0.646783       361  0.2\n18   226  0.737997    0.592861        19  0.3\n19   196  0.728986    0.634079       166  0.5",
      "text/html": "<div>\n<style scoped>\n    .dataframe tbody tr th:only-of-type {\n        vertical-align: middle;\n    }\n\n    .dataframe tbody tr th {\n        vertical-align: top;\n    }\n\n    .dataframe thead th {\n        text-align: right;\n    }\n</style>\n<table border=\"1\" class=\"dataframe\">\n  <thead>\n    <tr style=\"text-align: right;\">\n      <th></th>\n      <th>seed</th>\n      <th>cv_score</th>\n      <th>test_score</th>\n      <th>feat_len</th>\n      <th>thr</th>\n    </tr>\n  </thead>\n  <tbody>\n    <tr>\n      <th>0</th>\n      <td>422</td>\n      <td>0.742953</td>\n      <td>0.644435</td>\n      <td>186</td>\n      <td>0.4</td>\n    </tr>\n    <tr>\n      <th>1</th>\n      <td>261</td>\n      <td>0.613370</td>\n      <td>0.586164</td>\n      <td>181</td>\n      <td>0.7</td>\n    </tr>\n    <tr>\n      <th>2</th>\n      <td>968</td>\n      <td>0.744920</td>\n      <td>0.630627</td>\n      <td>221</td>\n      <td>0.4</td>\n    </tr>\n    <tr>\n      <th>3</th>\n      <td>282</td>\n      <td>0.694528</td>\n      <td>0.606324</td>\n      <td>329</td>\n      <td>0.5</td>\n    </tr>\n    <tr>\n      <th>4</th>\n      <td>739</td>\n      <td>0.749971</td>\n      <td>0.692626</td>\n      <td>330</td>\n      <td>0.4</td>\n    </tr>\n    <tr>\n      <th>5</th>\n      <td>573</td>\n      <td>0.668972</td>\n      <td>0.706159</td>\n      <td>284</td>\n      <td>0.4</td>\n    </tr>\n    <tr>\n      <th>6</th>\n      <td>220</td>\n      <td>0.656340</td>\n      <td>0.682822</td>\n      <td>477</td>\n      <td>0.4</td>\n    </tr>\n    <tr>\n      <th>7</th>\n      <td>413</td>\n      <td>0.718310</td>\n      <td>0.665838</td>\n      <td>324</td>\n      <td>0.5</td>\n    </tr>\n    <tr>\n      <th>8</th>\n      <td>745</td>\n      <td>0.705412</td>\n      <td>0.629108</td>\n      <td>421</td>\n      <td>0.4</td>\n    </tr>\n    <tr>\n      <th>9</th>\n      <td>775</td>\n      <td>0.700045</td>\n      <td>0.545982</td>\n      <td>9</td>\n      <td>0.5</td>\n    </tr>\n    <tr>\n      <th>10</th>\n      <td>482</td>\n      <td>0.673430</td>\n      <td>0.707401</td>\n      <td>255</td>\n      <td>0.4</td>\n    </tr>\n    <tr>\n      <th>11</th>\n      <td>442</td>\n      <td>0.753895</td>\n      <td>0.598453</td>\n      <td>52</td>\n      <td>0.4</td>\n    </tr>\n    <tr>\n      <th>12</th>\n      <td>210</td>\n      <td>0.718450</td>\n      <td>0.624137</td>\n      <td>355</td>\n      <td>0.4</td>\n    </tr>\n    <tr>\n      <th>13</th>\n      <td>423</td>\n      <td>0.611756</td>\n      <td>0.714858</td>\n      <td>183</td>\n      <td>0.1</td>\n    </tr>\n    <tr>\n      <th>14</th>\n      <td>760</td>\n      <td>0.730002</td>\n      <td>0.640155</td>\n      <td>379</td>\n      <td>0.4</td>\n    </tr>\n    <tr>\n      <th>15</th>\n      <td>57</td>\n      <td>0.665456</td>\n      <td>0.722314</td>\n      <td>485</td>\n      <td>0.3</td>\n    </tr>\n    <tr>\n      <th>16</th>\n      <td>769</td>\n      <td>0.720900</td>\n      <td>0.582850</td>\n      <td>22</td>\n      <td>0.4</td>\n    </tr>\n    <tr>\n      <th>17</th>\n      <td>920</td>\n      <td>0.738842</td>\n      <td>0.646783</td>\n      <td>361</td>\n      <td>0.2</td>\n    </tr>\n    <tr>\n      <th>18</th>\n      <td>226</td>\n      <td>0.737997</td>\n      <td>0.592861</td>\n      <td>19</td>\n      <td>0.3</td>\n    </tr>\n    <tr>\n      <th>19</th>\n      <td>196</td>\n      <td>0.728986</td>\n      <td>0.634079</td>\n      <td>166</td>\n      <td>0.5</td>\n    </tr>\n  </tbody>\n</table>\n</div>"
     },
     "execution_count": 33,
     "metadata": {},
     "output_type": "execute_result"
    }
   ],
   "source": [
    "bnn_lr_thr_df = pd.DataFrame(bnn_lr_thr)\n",
    "bnn_lr_thr_df"
   ],
   "metadata": {
    "collapsed": false,
    "pycharm": {
     "name": "#%%\n"
    }
   }
  },
  {
   "cell_type": "code",
   "execution_count": 34,
   "outputs": [
    {
     "data": {
      "text/plain": "cv_score        0.703727\ntest_score      0.642699\nfeat_len      251.950000\ndtype: float64"
     },
     "execution_count": 34,
     "metadata": {},
     "output_type": "execute_result"
    }
   ],
   "source": [
    "bnn_lr_thr_df[[\"cv_score\", \"test_score\", \"feat_len\"]].mean()"
   ],
   "metadata": {
    "collapsed": false,
    "pycharm": {
     "name": "#%%\n"
    }
   }
  },
  {
   "cell_type": "markdown",
   "source": [
    "### MOSES"
   ],
   "metadata": {
    "collapsed": false,
    "pycharm": {
     "name": "#%% md\n"
    }
   }
  },
  {
   "cell_type": "code",
   "execution_count": 10,
   "outputs": [],
   "source": [
    "exp_dir = f\"{data_dir}/exp_data_4/cancer/cosmic\"\n",
    "exp_seeds = []\n",
    "with open(f\"{exp_dir}/seeds_main.txt\", \"r\") as fp:\n",
    "    for line in fp.readlines():\n",
    "        exp_seeds.append(int(line.strip()))"
   ],
   "metadata": {
    "collapsed": false,
    "pycharm": {
     "name": "#%%\n"
    }
   }
  },
  {
   "cell_type": "code",
   "execution_count": 11,
   "outputs": [
    {
     "data": {
      "text/plain": "20"
     },
     "execution_count": 11,
     "metadata": {},
     "output_type": "execute_result"
    }
   ],
   "source": [
    "moses_res_dfs = []\n",
    "import glob\n",
    "for file in glob.glob(f\"{exp_dir}/moses/res_summary_cosmic_genes_moses_s_*.csv\"):\n",
    "    # print(file)\n",
    "    moses_res_df = pd.read_csv(file)\n",
    "    moses_res_dfs.append(moses_res_df)\n",
    "\n",
    "len(moses_res_dfs)"
   ],
   "metadata": {
    "collapsed": false,
    "pycharm": {
     "name": "#%%\n"
    }
   }
  },
  {
   "cell_type": "code",
   "execution_count": 12,
   "outputs": [
    {
     "data": {
      "text/plain": "   seed        classifier  num_feats  cv_score  test_score\n0   775       BNN + MOSES         70  0.677467    0.638944\n1   775  BNN + MOSES + LR         70  0.773116    0.648207\n0   482       BNN + MOSES         70  0.602535    0.674813\n1   482  BNN + MOSES + LR         70  0.617033    0.690185\n0   261       BNN + MOSES         70  0.577613    0.502562\n1   261  BNN + MOSES + LR         70  0.583853    0.657272\n0   226       BNN + MOSES         70  0.698382    0.623768\n1   226  BNN + MOSES + LR         70  0.762165    0.671857\n0   920       BNN + MOSES         70  0.689792    0.616673\n1   920  BNN + MOSES + LR         70  0.767256    0.615294\n0   769       BNN + MOSES         70  0.651275    0.585436\n1   769  BNN + MOSES + LR         70  0.729668    0.656484\n0   423       BNN + MOSES         70  0.592178    0.592038\n1   423  BNN + MOSES + LR         70  0.584133    0.704572\n0   210       BNN + MOSES         70  0.563703    0.491624\n1   210  BNN + MOSES + LR         70  0.682741    0.581790\n0   968       BNN + MOSES         70  0.651225    0.654710\n1   968  BNN + MOSES + LR         70  0.740878    0.660426\n0   196       BNN + MOSES         70  0.606099    0.492708\n1   196  BNN + MOSES + LR         70  0.676084    0.535475\n0   220       BNN + MOSES         70  0.628829    0.562574\n1   220  BNN + MOSES + LR         70  0.752719    0.694324\n0   745       BNN + MOSES         70  0.632959    0.503942\n1   745  BNN + MOSES + LR         70  0.728446    0.506504\n0   422       BNN + MOSES         70  0.648558    0.607016\n1   422  BNN + MOSES + LR         70  0.747100    0.611155\n0   760       BNN + MOSES         70  0.640760    0.618151\n1   760  BNN + MOSES + LR         70  0.713269    0.618841\n0   739       BNN + MOSES         70  0.575424    0.521186\n1   739  BNN + MOSES + LR         70  0.657034    0.660820\n0   413       BNN + MOSES         70  0.681297    0.598936\n1   413  BNN + MOSES + LR         70  0.693785    0.598345\n0   282       BNN + MOSES         70  0.634757    0.587702\n1   282  BNN + MOSES + LR         70  0.645883    0.611549\n0   573       BNN + MOSES         70  0.603701    0.613126\n1   573  BNN + MOSES + LR         70  0.650853    0.637958\n0   442       BNN + MOSES         70  0.663045    0.522566\n1   442  BNN + MOSES + LR         70  0.706682    0.587899\n0    57       BNN + MOSES         70  0.637331    0.612337\n1    57  BNN + MOSES + LR         70  0.703859    0.656090",
      "text/html": "<div>\n<style scoped>\n    .dataframe tbody tr th:only-of-type {\n        vertical-align: middle;\n    }\n\n    .dataframe tbody tr th {\n        vertical-align: top;\n    }\n\n    .dataframe thead th {\n        text-align: right;\n    }\n</style>\n<table border=\"1\" class=\"dataframe\">\n  <thead>\n    <tr style=\"text-align: right;\">\n      <th></th>\n      <th>seed</th>\n      <th>classifier</th>\n      <th>num_feats</th>\n      <th>cv_score</th>\n      <th>test_score</th>\n    </tr>\n  </thead>\n  <tbody>\n    <tr>\n      <th>0</th>\n      <td>775</td>\n      <td>BNN + MOSES</td>\n      <td>70</td>\n      <td>0.677467</td>\n      <td>0.638944</td>\n    </tr>\n    <tr>\n      <th>1</th>\n      <td>775</td>\n      <td>BNN + MOSES + LR</td>\n      <td>70</td>\n      <td>0.773116</td>\n      <td>0.648207</td>\n    </tr>\n    <tr>\n      <th>0</th>\n      <td>482</td>\n      <td>BNN + MOSES</td>\n      <td>70</td>\n      <td>0.602535</td>\n      <td>0.674813</td>\n    </tr>\n    <tr>\n      <th>1</th>\n      <td>482</td>\n      <td>BNN + MOSES + LR</td>\n      <td>70</td>\n      <td>0.617033</td>\n      <td>0.690185</td>\n    </tr>\n    <tr>\n      <th>0</th>\n      <td>261</td>\n      <td>BNN + MOSES</td>\n      <td>70</td>\n      <td>0.577613</td>\n      <td>0.502562</td>\n    </tr>\n    <tr>\n      <th>1</th>\n      <td>261</td>\n      <td>BNN + MOSES + LR</td>\n      <td>70</td>\n      <td>0.583853</td>\n      <td>0.657272</td>\n    </tr>\n    <tr>\n      <th>0</th>\n      <td>226</td>\n      <td>BNN + MOSES</td>\n      <td>70</td>\n      <td>0.698382</td>\n      <td>0.623768</td>\n    </tr>\n    <tr>\n      <th>1</th>\n      <td>226</td>\n      <td>BNN + MOSES + LR</td>\n      <td>70</td>\n      <td>0.762165</td>\n      <td>0.671857</td>\n    </tr>\n    <tr>\n      <th>0</th>\n      <td>920</td>\n      <td>BNN + MOSES</td>\n      <td>70</td>\n      <td>0.689792</td>\n      <td>0.616673</td>\n    </tr>\n    <tr>\n      <th>1</th>\n      <td>920</td>\n      <td>BNN + MOSES + LR</td>\n      <td>70</td>\n      <td>0.767256</td>\n      <td>0.615294</td>\n    </tr>\n    <tr>\n      <th>0</th>\n      <td>769</td>\n      <td>BNN + MOSES</td>\n      <td>70</td>\n      <td>0.651275</td>\n      <td>0.585436</td>\n    </tr>\n    <tr>\n      <th>1</th>\n      <td>769</td>\n      <td>BNN + MOSES + LR</td>\n      <td>70</td>\n      <td>0.729668</td>\n      <td>0.656484</td>\n    </tr>\n    <tr>\n      <th>0</th>\n      <td>423</td>\n      <td>BNN + MOSES</td>\n      <td>70</td>\n      <td>0.592178</td>\n      <td>0.592038</td>\n    </tr>\n    <tr>\n      <th>1</th>\n      <td>423</td>\n      <td>BNN + MOSES + LR</td>\n      <td>70</td>\n      <td>0.584133</td>\n      <td>0.704572</td>\n    </tr>\n    <tr>\n      <th>0</th>\n      <td>210</td>\n      <td>BNN + MOSES</td>\n      <td>70</td>\n      <td>0.563703</td>\n      <td>0.491624</td>\n    </tr>\n    <tr>\n      <th>1</th>\n      <td>210</td>\n      <td>BNN + MOSES + LR</td>\n      <td>70</td>\n      <td>0.682741</td>\n      <td>0.581790</td>\n    </tr>\n    <tr>\n      <th>0</th>\n      <td>968</td>\n      <td>BNN + MOSES</td>\n      <td>70</td>\n      <td>0.651225</td>\n      <td>0.654710</td>\n    </tr>\n    <tr>\n      <th>1</th>\n      <td>968</td>\n      <td>BNN + MOSES + LR</td>\n      <td>70</td>\n      <td>0.740878</td>\n      <td>0.660426</td>\n    </tr>\n    <tr>\n      <th>0</th>\n      <td>196</td>\n      <td>BNN + MOSES</td>\n      <td>70</td>\n      <td>0.606099</td>\n      <td>0.492708</td>\n    </tr>\n    <tr>\n      <th>1</th>\n      <td>196</td>\n      <td>BNN + MOSES + LR</td>\n      <td>70</td>\n      <td>0.676084</td>\n      <td>0.535475</td>\n    </tr>\n    <tr>\n      <th>0</th>\n      <td>220</td>\n      <td>BNN + MOSES</td>\n      <td>70</td>\n      <td>0.628829</td>\n      <td>0.562574</td>\n    </tr>\n    <tr>\n      <th>1</th>\n      <td>220</td>\n      <td>BNN + MOSES + LR</td>\n      <td>70</td>\n      <td>0.752719</td>\n      <td>0.694324</td>\n    </tr>\n    <tr>\n      <th>0</th>\n      <td>745</td>\n      <td>BNN + MOSES</td>\n      <td>70</td>\n      <td>0.632959</td>\n      <td>0.503942</td>\n    </tr>\n    <tr>\n      <th>1</th>\n      <td>745</td>\n      <td>BNN + MOSES + LR</td>\n      <td>70</td>\n      <td>0.728446</td>\n      <td>0.506504</td>\n    </tr>\n    <tr>\n      <th>0</th>\n      <td>422</td>\n      <td>BNN + MOSES</td>\n      <td>70</td>\n      <td>0.648558</td>\n      <td>0.607016</td>\n    </tr>\n    <tr>\n      <th>1</th>\n      <td>422</td>\n      <td>BNN + MOSES + LR</td>\n      <td>70</td>\n      <td>0.747100</td>\n      <td>0.611155</td>\n    </tr>\n    <tr>\n      <th>0</th>\n      <td>760</td>\n      <td>BNN + MOSES</td>\n      <td>70</td>\n      <td>0.640760</td>\n      <td>0.618151</td>\n    </tr>\n    <tr>\n      <th>1</th>\n      <td>760</td>\n      <td>BNN + MOSES + LR</td>\n      <td>70</td>\n      <td>0.713269</td>\n      <td>0.618841</td>\n    </tr>\n    <tr>\n      <th>0</th>\n      <td>739</td>\n      <td>BNN + MOSES</td>\n      <td>70</td>\n      <td>0.575424</td>\n      <td>0.521186</td>\n    </tr>\n    <tr>\n      <th>1</th>\n      <td>739</td>\n      <td>BNN + MOSES + LR</td>\n      <td>70</td>\n      <td>0.657034</td>\n      <td>0.660820</td>\n    </tr>\n    <tr>\n      <th>0</th>\n      <td>413</td>\n      <td>BNN + MOSES</td>\n      <td>70</td>\n      <td>0.681297</td>\n      <td>0.598936</td>\n    </tr>\n    <tr>\n      <th>1</th>\n      <td>413</td>\n      <td>BNN + MOSES + LR</td>\n      <td>70</td>\n      <td>0.693785</td>\n      <td>0.598345</td>\n    </tr>\n    <tr>\n      <th>0</th>\n      <td>282</td>\n      <td>BNN + MOSES</td>\n      <td>70</td>\n      <td>0.634757</td>\n      <td>0.587702</td>\n    </tr>\n    <tr>\n      <th>1</th>\n      <td>282</td>\n      <td>BNN + MOSES + LR</td>\n      <td>70</td>\n      <td>0.645883</td>\n      <td>0.611549</td>\n    </tr>\n    <tr>\n      <th>0</th>\n      <td>573</td>\n      <td>BNN + MOSES</td>\n      <td>70</td>\n      <td>0.603701</td>\n      <td>0.613126</td>\n    </tr>\n    <tr>\n      <th>1</th>\n      <td>573</td>\n      <td>BNN + MOSES + LR</td>\n      <td>70</td>\n      <td>0.650853</td>\n      <td>0.637958</td>\n    </tr>\n    <tr>\n      <th>0</th>\n      <td>442</td>\n      <td>BNN + MOSES</td>\n      <td>70</td>\n      <td>0.663045</td>\n      <td>0.522566</td>\n    </tr>\n    <tr>\n      <th>1</th>\n      <td>442</td>\n      <td>BNN + MOSES + LR</td>\n      <td>70</td>\n      <td>0.706682</td>\n      <td>0.587899</td>\n    </tr>\n    <tr>\n      <th>0</th>\n      <td>57</td>\n      <td>BNN + MOSES</td>\n      <td>70</td>\n      <td>0.637331</td>\n      <td>0.612337</td>\n    </tr>\n    <tr>\n      <th>1</th>\n      <td>57</td>\n      <td>BNN + MOSES + LR</td>\n      <td>70</td>\n      <td>0.703859</td>\n      <td>0.656090</td>\n    </tr>\n  </tbody>\n</table>\n</div>"
     },
     "execution_count": 12,
     "metadata": {},
     "output_type": "execute_result"
    }
   ],
   "source": [
    "exp_moses_res_df = pd.concat(moses_res_dfs, axis=0)\n",
    "exp_moses_res_df"
   ],
   "metadata": {
    "collapsed": false,
    "pycharm": {
     "name": "#%%\n"
    }
   }
  },
  {
   "cell_type": "code",
   "execution_count": 114,
   "outputs": [
    {
     "data": {
      "text/plain": "                  cv_score  test_score\nclassifier                            \nBNN + MOSES       0.632846    0.581041\nBNN + MOSES + LR  0.695828    0.630252",
      "text/html": "<div>\n<style scoped>\n    .dataframe tbody tr th:only-of-type {\n        vertical-align: middle;\n    }\n\n    .dataframe tbody tr th {\n        vertical-align: top;\n    }\n\n    .dataframe thead th {\n        text-align: right;\n    }\n</style>\n<table border=\"1\" class=\"dataframe\">\n  <thead>\n    <tr style=\"text-align: right;\">\n      <th></th>\n      <th>cv_score</th>\n      <th>test_score</th>\n    </tr>\n    <tr>\n      <th>classifier</th>\n      <th></th>\n      <th></th>\n    </tr>\n  </thead>\n  <tbody>\n    <tr>\n      <th>BNN + MOSES</th>\n      <td>0.632846</td>\n      <td>0.581041</td>\n    </tr>\n    <tr>\n      <th>BNN + MOSES + LR</th>\n      <td>0.695828</td>\n      <td>0.630252</td>\n    </tr>\n  </tbody>\n</table>\n</div>"
     },
     "execution_count": 114,
     "metadata": {},
     "output_type": "execute_result"
    }
   ],
   "source": [
    "moses_clf_mean_scs = exp_moses_res_df.groupby(\"classifier\")[[\"cv_score\", \"test_score\"]].mean()\n",
    "moses_clf_mean_scs"
   ],
   "metadata": {
    "collapsed": false,
    "pycharm": {
     "name": "#%%\n"
    }
   }
  },
  {
   "cell_type": "code",
   "execution_count": 116,
   "outputs": [
    {
     "data": {
      "text/plain": "         classifier  num_feats  mean_cv_score  mean_test_score\n0                LR        497       0.673300         0.675007\n1               SVM        497       0.678274         0.671866\n2               BNN        497       0.677512         0.649503\n3          BNN + LR         70       0.691744         0.631007\n4  BNN + LR + MOSES        170       0.695828         0.630252",
      "text/html": "<div>\n<style scoped>\n    .dataframe tbody tr th:only-of-type {\n        vertical-align: middle;\n    }\n\n    .dataframe tbody tr th {\n        vertical-align: top;\n    }\n\n    .dataframe thead th {\n        text-align: right;\n    }\n</style>\n<table border=\"1\" class=\"dataframe\">\n  <thead>\n    <tr style=\"text-align: right;\">\n      <th></th>\n      <th>classifier</th>\n      <th>num_feats</th>\n      <th>mean_cv_score</th>\n      <th>mean_test_score</th>\n    </tr>\n  </thead>\n  <tbody>\n    <tr>\n      <th>0</th>\n      <td>LR</td>\n      <td>497</td>\n      <td>0.673300</td>\n      <td>0.675007</td>\n    </tr>\n    <tr>\n      <th>1</th>\n      <td>SVM</td>\n      <td>497</td>\n      <td>0.678274</td>\n      <td>0.671866</td>\n    </tr>\n    <tr>\n      <th>2</th>\n      <td>BNN</td>\n      <td>497</td>\n      <td>0.677512</td>\n      <td>0.649503</td>\n    </tr>\n    <tr>\n      <th>3</th>\n      <td>BNN + LR</td>\n      <td>70</td>\n      <td>0.691744</td>\n      <td>0.631007</td>\n    </tr>\n    <tr>\n      <th>4</th>\n      <td>BNN + LR + MOSES</td>\n      <td>170</td>\n      <td>0.695828</td>\n      <td>0.630252</td>\n    </tr>\n  </tbody>\n</table>\n</div>"
     },
     "execution_count": 116,
     "metadata": {},
     "output_type": "execute_result"
    }
   ],
   "source": [
    "avg_num_feats = len(cosmic_intr)\n",
    "res_summary_dict = {\"classifier\": [\"LR\", \"SVM\", \"BNN\", \"BNN + LR\", \"BNN + LR + MOSES\"],\n",
    "                    \"num_feats\": [avg_num_feats, avg_num_feats, avg_num_feats, 70, 170],\n",
    "                    \"mean_cv_score\": [clf_mean_scs.loc[\"LR\"].cv_score, clf_mean_scs.loc[\"SVM\"].cv_score,\n",
    "                                      clf_mean_scs.loc[\"BNN\"].cv_score,\n",
    "                                      clf_mean_scs.loc[\"BNN + LR\"].cv_score,\n",
    "                                      moses_clf_mean_scs.loc[\"BNN + MOSES + LR\"].cv_score], \"mean_test_score\":\n",
    "                        [clf_mean_scs.loc[\"LR\"].test_score, clf_mean_scs.loc[\"SVM\"].test_score,\n",
    "                         clf_mean_scs.loc[\"BNN\"].test_score,\n",
    "                         clf_mean_scs.loc[\"BNN + LR\"].test_score,\n",
    "                         moses_clf_mean_scs.loc[\"BNN + MOSES + LR\"].test_score]}\n",
    "\n",
    "res_summary_df = pd.DataFrame(res_summary_dict)\n",
    "res_summary_df"
   ],
   "metadata": {
    "collapsed": false,
    "pycharm": {
     "name": "#%%\n"
    }
   }
  },
  {
   "cell_type": "markdown",
   "source": [
    "### Check the added columns from MOSES"
   ],
   "metadata": {
    "collapsed": false,
    "pycharm": {
     "name": "#%% md\n"
    }
   }
  },
  {
   "cell_type": "code",
   "execution_count": 13,
   "outputs": [],
   "source": [
    "train_evals = []\n",
    "test_evals = []\n",
    "exp_dir = f\"{data_dir}/exp_data_4/cancer/cosmic\"\n",
    "for seed in exp_seeds:\n",
    "    train_eval = np.load(f\"{exp_dir}/moses/moses_train_eval_out_s_{seed}.npy\")\n",
    "    test_eval = np.load(f\"{exp_dir}/moses/moses_test_eval_out_s_{seed}.npy\")\n",
    "\n",
    "    train_evals.append(train_eval)\n",
    "    test_evals.append(test_eval)"
   ],
   "metadata": {
    "collapsed": false,
    "pycharm": {
     "name": "#%%\n"
    }
   }
  },
  {
   "cell_type": "code",
   "execution_count": 95,
   "outputs": [
    {
     "name": "stderr",
     "output_type": "stream",
     "text": [
      "100%|██████████████████████████████████████████████████████████████████████████████████| 20/20 [54:15<00:00, 162.76s/it]\n"
     ]
    }
   ],
   "source": [
    "import pickle\n",
    "from tqdm import tqdm\n",
    "\n",
    "moses_lr_eval = {\"nfeats\": [],  \"cv_score\": [], \"test_score\": []}\n",
    "\n",
    "for t in tqdm(range(len(exp_seeds))):\n",
    "    seed = exp_seeds[t]\n",
    "    train_eval = train_evals[t]\n",
    "    test_eval = test_evals[t]\n",
    "    sel_feat_idx = np.load(f\"{exp_dir}/bnn_sel_idx_s_{seed}_n_70.npy\")\n",
    "    params = pickle.load(open(f\"{exp_dir}/bnn_lr_best_params_s_{seed}.pickle\", \"rb\"))\n",
    "    X_train, X_test, y_train, y_test = train_test_split(X_cosmic, y_df, random_state=seed, shuffle=True, stratify=y_df) ## TODO Check this\n",
    "    X_train_sel, X_test_sel = X_train.iloc[:, sel_feat_idx].to_numpy(), X_test.iloc[:, sel_feat_idx].to_numpy()\n",
    "    y_train, y_test = y_train.to_numpy(), y_test.to_numpy()\n",
    "\n",
    "    lr_clf = LogisticRegression(max_iter=10000, **params)\n",
    "    cv_score = np.mean(cross_val_score(lr_clf, X_train_sel, y_train, cv=cv))\n",
    "    lr_clf.fit(X_train_sel, y_train)\n",
    "    test_score = roc_auc_score(y_test, lr_clf.predict_proba(X_test_sel)[:,1])\n",
    "    Cs = {\"C\": np.logspace(-2, 1, 10)}\n",
    "\n",
    "    mm_cv_scs = np.zeros(train_eval.shape[1])\n",
    "    mm_test_scs = np.zeros(train_eval.shape[1])\n",
    "\n",
    "    for i in range(train_eval.shape[1]):\n",
    "        X_train_sel_moses, X_test_sel_moses = np.concatenate([X_train_sel, train_eval[:,:i]], axis=1), \\\n",
    "                                              np.concatenate([X_test_sel, test_eval[:,:i]], axis=1)\n",
    "\n",
    "        lr_clf = LogisticRegression(max_iter=10000)\n",
    "        grid_search_cv = GridSearchCV(lr_clf, Cs, scoring=\"roc_auc\").fit(X_train_sel_moses, y_train)\n",
    "        cv_score = grid_search_cv.best_score_\n",
    "        lr_clf = LogisticRegression(max_iter=10000, **grid_search_cv.best_params_)\n",
    "        lr_clf.fit(X_train_sel_moses, y_train)\n",
    "        test_score = roc_auc_score(y_test, lr_clf.predict_proba(X_test_sel_moses)[:,1])\n",
    "\n",
    "        mm_cv_scs[i] = cv_score\n",
    "        mm_test_scs[i] = test_score\n",
    "\n",
    "    idx_max = np.argmax(mm_cv_scs)\n",
    "    cv_score = mm_cv_scs[idx_max]\n",
    "    test_score = mm_test_scs[idx_max]\n",
    "\n",
    "    moses_lr_eval[\"nfeats\"].append(idx_max)\n",
    "    moses_lr_eval[\"cv_score\"].append(cv_score)\n",
    "    moses_lr_eval[\"test_score\"].append(test_score)"
   ],
   "metadata": {
    "collapsed": false,
    "pycharm": {
     "name": "#%%\n"
    }
   }
  },
  {
   "cell_type": "code",
   "execution_count": 143,
   "outputs": [
    {
     "data": {
      "text/plain": "    nfeats  cv_score  test_score\n0       13  0.750903    0.620615\n1       99  0.581013    0.652937\n2       11  0.727245    0.697280\n3       23  0.666135    0.614505\n4       33  0.656750    0.687426\n5       56  0.660224    0.636776\n6       39  0.756881    0.686244\n7       20  0.704130    0.599724\n8       16  0.739489    0.492905\n9       13  0.788771    0.640323\n10      42  0.621347    0.684864\n11      15  0.735221    0.601301\n12       1  0.704329    0.545329\n13      86  0.608973    0.715018\n14       0  0.722077    0.609184\n15      34  0.717554    0.687623\n16      15  0.733850    0.648404\n17      18  0.771908    0.618250\n18      64  0.765881    0.669689\n19       7  0.683806    0.547300",
      "text/html": "<div>\n<style scoped>\n    .dataframe tbody tr th:only-of-type {\n        vertical-align: middle;\n    }\n\n    .dataframe tbody tr th {\n        vertical-align: top;\n    }\n\n    .dataframe thead th {\n        text-align: right;\n    }\n</style>\n<table border=\"1\" class=\"dataframe\">\n  <thead>\n    <tr style=\"text-align: right;\">\n      <th></th>\n      <th>nfeats</th>\n      <th>cv_score</th>\n      <th>test_score</th>\n    </tr>\n  </thead>\n  <tbody>\n    <tr>\n      <th>0</th>\n      <td>13</td>\n      <td>0.750903</td>\n      <td>0.620615</td>\n    </tr>\n    <tr>\n      <th>1</th>\n      <td>99</td>\n      <td>0.581013</td>\n      <td>0.652937</td>\n    </tr>\n    <tr>\n      <th>2</th>\n      <td>11</td>\n      <td>0.727245</td>\n      <td>0.697280</td>\n    </tr>\n    <tr>\n      <th>3</th>\n      <td>23</td>\n      <td>0.666135</td>\n      <td>0.614505</td>\n    </tr>\n    <tr>\n      <th>4</th>\n      <td>33</td>\n      <td>0.656750</td>\n      <td>0.687426</td>\n    </tr>\n    <tr>\n      <th>5</th>\n      <td>56</td>\n      <td>0.660224</td>\n      <td>0.636776</td>\n    </tr>\n    <tr>\n      <th>6</th>\n      <td>39</td>\n      <td>0.756881</td>\n      <td>0.686244</td>\n    </tr>\n    <tr>\n      <th>7</th>\n      <td>20</td>\n      <td>0.704130</td>\n      <td>0.599724</td>\n    </tr>\n    <tr>\n      <th>8</th>\n      <td>16</td>\n      <td>0.739489</td>\n      <td>0.492905</td>\n    </tr>\n    <tr>\n      <th>9</th>\n      <td>13</td>\n      <td>0.788771</td>\n      <td>0.640323</td>\n    </tr>\n    <tr>\n      <th>10</th>\n      <td>42</td>\n      <td>0.621347</td>\n      <td>0.684864</td>\n    </tr>\n    <tr>\n      <th>11</th>\n      <td>15</td>\n      <td>0.735221</td>\n      <td>0.601301</td>\n    </tr>\n    <tr>\n      <th>12</th>\n      <td>1</td>\n      <td>0.704329</td>\n      <td>0.545329</td>\n    </tr>\n    <tr>\n      <th>13</th>\n      <td>86</td>\n      <td>0.608973</td>\n      <td>0.715018</td>\n    </tr>\n    <tr>\n      <th>14</th>\n      <td>0</td>\n      <td>0.722077</td>\n      <td>0.609184</td>\n    </tr>\n    <tr>\n      <th>15</th>\n      <td>34</td>\n      <td>0.717554</td>\n      <td>0.687623</td>\n    </tr>\n    <tr>\n      <th>16</th>\n      <td>15</td>\n      <td>0.733850</td>\n      <td>0.648404</td>\n    </tr>\n    <tr>\n      <th>17</th>\n      <td>18</td>\n      <td>0.771908</td>\n      <td>0.618250</td>\n    </tr>\n    <tr>\n      <th>18</th>\n      <td>64</td>\n      <td>0.765881</td>\n      <td>0.669689</td>\n    </tr>\n    <tr>\n      <th>19</th>\n      <td>7</td>\n      <td>0.683806</td>\n      <td>0.547300</td>\n    </tr>\n  </tbody>\n</table>\n</div>"
     },
     "execution_count": 143,
     "metadata": {},
     "output_type": "execute_result"
    }
   ],
   "source": [
    "moses_lr_eval_df = pd.DataFrame(moses_lr_eval)\n",
    "# moses_lr_eval_df.to_csv(f\"{exp_dir}/moses/moses_lr_eval.csv\", index=False)\n",
    "moses_lr_eval_df"
   ],
   "metadata": {
    "collapsed": false,
    "pycharm": {
     "name": "#%%\n"
    }
   }
  },
  {
   "cell_type": "code",
   "execution_count": 112,
   "outputs": [
    {
     "data": {
      "text/plain": "cv_score      0.704824\ntest_score    0.632785\ndtype: float64"
     },
     "execution_count": 112,
     "metadata": {},
     "output_type": "execute_result"
    }
   ],
   "source": [
    "moses_lr_eval_df[[\"cv_score\", \"test_score\"]].mean()"
   ],
   "metadata": {
    "collapsed": false,
    "pycharm": {
     "name": "#%%\n"
    }
   }
  },
  {
   "cell_type": "markdown",
   "source": [
    "### Rank the models by logistic regression coefficient"
   ],
   "metadata": {
    "collapsed": false,
    "pycharm": {
     "name": "#%% md\n"
    }
   }
  },
  {
   "cell_type": "code",
   "execution_count": 137,
   "outputs": [
    {
     "name": "stderr",
     "output_type": "stream",
     "text": [
      "100%|███████████████████████████████████████████████████████████████████████████████████| 20/20 [01:19<00:00,  3.97s/it]\n"
     ]
    }
   ],
   "source": [
    "moses_models_lr_eval = {\"seed\": [],  \"cv_score\": [], \"test_score\": []}\n",
    "\n",
    "for t in tqdm(range(len(exp_seeds))):\n",
    "    seed = exp_seeds[t]\n",
    "    train_eval = train_evals[t]\n",
    "    test_eval = test_evals[t]\n",
    "    _, _, y_train, y_test = train_test_split(X_cosmic, y_df, random_state=seed, shuffle=True, stratify=y_df) ## TODO Check this\n",
    "    y_train, y_test = y_train.to_numpy(), y_test.to_numpy()\n",
    "    Cs = {\"C\": np.logspace(-2, 1, 10)}\n",
    "\n",
    "    lr_clf = LogisticRegression(max_iter=10000)\n",
    "    grid_search_cv = GridSearchCV(lr_clf, Cs, scoring=\"roc_auc\").fit(train_eval, y_train)\n",
    "    cv_score = grid_search_cv.best_score_\n",
    "    lr_clf = LogisticRegression(max_iter=10000, **grid_search_cv.best_params_)\n",
    "    lr_clf.fit(train_eval, y_train)\n",
    "    test_score = roc_auc_score(y_test, lr_clf.predict_proba(test_eval)[:,1])\n",
    "\n",
    "\n",
    "    moses_models_lr_eval[\"seed\"].append(seed)\n",
    "    moses_models_lr_eval[\"cv_score\"].append(cv_score)\n",
    "    moses_models_lr_eval[\"test_score\"].append(test_score)"
   ],
   "metadata": {
    "collapsed": false,
    "pycharm": {
     "name": "#%%\n"
    }
   }
  },
  {
   "cell_type": "code",
   "execution_count": 138,
   "outputs": [
    {
     "data": {
      "text/plain": "cv_score      0.640002\ntest_score    0.584076\ndtype: float64"
     },
     "execution_count": 138,
     "metadata": {},
     "output_type": "execute_result"
    }
   ],
   "source": [
    "moses_models_lr_eval_df = pd.DataFrame(moses_models_lr_eval)\n",
    "moses_models_lr_eval_df[[\"cv_score\", \"test_score\"]].mean()"
   ],
   "metadata": {
    "collapsed": false,
    "pycharm": {
     "name": "#%%\n"
    }
   }
  },
  {
   "cell_type": "code",
   "execution_count": 139,
   "outputs": [
    {
     "name": "stderr",
     "output_type": "stream",
     "text": [
      "100%|███████████████████████████████████████████████████████████████████████████████████| 20/20 [02:25<00:00,  7.26s/it]\n"
     ]
    }
   ],
   "source": [
    "moses_models_lr_ranked = {\"seed\": [],  \"cv_score\": [], \"test_score\": []}\n",
    "\n",
    "for t in tqdm(range(len(exp_seeds))):\n",
    "    seed = exp_seeds[t]\n",
    "    train_eval = train_evals[t]\n",
    "    test_eval = test_evals[t]\n",
    "\n",
    "    sel_feat_idx = np.load(f\"{exp_dir}/bnn_sel_idx_s_{seed}_n_70.npy\")\n",
    "    params = pickle.load(open(f\"{exp_dir}/bnn_lr_best_params_s_{seed}.pickle\", \"rb\"))\n",
    "    X_train, X_test, y_train, y_test = train_test_split(X_cosmic, y_df, random_state=seed, shuffle=True, stratify=y_df) ## TODO Check this\n",
    "    X_train_sel, X_test_sel = X_train.iloc[:, sel_feat_idx].to_numpy(), X_test.iloc[:, sel_feat_idx].to_numpy()\n",
    "    y_train, y_test = y_train.to_numpy(), y_test.to_numpy()\n",
    "\n",
    "    Cs = {\"C\": np.logspace(-2, 1, 10)}\n",
    "\n",
    "    lr_clf = LogisticRegression(max_iter=10000)\n",
    "    grid_search_cv = GridSearchCV(lr_clf, Cs, scoring=\"roc_auc\").fit(train_eval, y_train)\n",
    "    cv_score = grid_search_cv.best_score_\n",
    "    lr_clf = LogisticRegression(max_iter=10000, **grid_search_cv.best_params_)\n",
    "    lr_clf.fit(train_eval, y_train)\n",
    "    weights = lr_clf.coef_[0]\n",
    "    weight_idx = np.argsort(weights)[::-1][:10]\n",
    "\n",
    "    X_train_sel_moses, X_test_sel_moses = np.concatenate([X_train_sel, train_eval[:,weight_idx]], axis=1), \\\n",
    "                                          np.concatenate([X_test_sel, test_eval[:,weight_idx]], axis=1)\n",
    "\n",
    "    lr_clf = LogisticRegression(max_iter=10000)\n",
    "    grid_search_cv = GridSearchCV(lr_clf, Cs, scoring=\"roc_auc\").fit(X_train_sel_moses, y_train)\n",
    "    cv_score = grid_search_cv.best_score_\n",
    "    lr_clf = LogisticRegression(max_iter=10000, **grid_search_cv.best_params_)\n",
    "    lr_clf.fit(X_train_sel_moses, y_train)\n",
    "    test_score = roc_auc_score(y_test, lr_clf.predict_proba(X_test_sel_moses)[:,1])\n",
    "\n",
    "\n",
    "    moses_models_lr_ranked[\"seed\"].append(seed)\n",
    "    moses_models_lr_ranked[\"cv_score\"].append(cv_score)\n",
    "    moses_models_lr_ranked[\"test_score\"].append(test_score)"
   ],
   "metadata": {
    "collapsed": false,
    "pycharm": {
     "name": "#%%\n"
    }
   }
  },
  {
   "cell_type": "code",
   "execution_count": 140,
   "outputs": [
    {
     "data": {
      "text/plain": "cv_score      0.703536\ntest_score    0.632036\ndtype: float64"
     },
     "execution_count": 140,
     "metadata": {},
     "output_type": "execute_result"
    }
   ],
   "source": [
    "moses_models_lr_ranked_df = pd.DataFrame(moses_models_lr_ranked)\n",
    "moses_models_lr_ranked_df[[\"cv_score\", \"test_score\"]].mean()"
   ],
   "metadata": {
    "collapsed": false,
    "pycharm": {
     "name": "#%%\n"
    }
   }
  },
  {
   "cell_type": "markdown",
   "source": [
    "### Check Non-linearity of selected features"
   ],
   "metadata": {
    "collapsed": false,
    "pycharm": {
     "name": "#%% md\n"
    }
   }
  },
  {
   "cell_type": "code",
   "execution_count": 165,
   "outputs": [
    {
     "name": "stderr",
     "output_type": "stream",
     "text": [
      "100%|█████████████████████████████████████████████████████████████████████████████████| 20/20 [00:00<00:00, 2138.10it/s]\n"
     ]
    },
    {
     "data": {
      "text/plain": "    seed  cv_score  test_score  kernel\n0    422  0.679388    0.667909     rbf\n1    261  0.652259    0.695526     rbf\n2    968  0.720783    0.643745     rbf\n3    282  0.691037    0.643192     rbf\n4    739  0.702133    0.673985     rbf\n5    573  0.639540    0.701464     rbf\n6    220  0.649957    0.703673     rbf\n7    413  0.702341    0.701188     rbf\n8    745  0.691233    0.639878     rbf\n9    775  0.685546    0.652030     rbf\n10   482  0.647716    0.718310     rbf\n11   442  0.699936    0.617095     rbf\n12   210  0.701346    0.568213  linear\n13   423  0.644110    0.742198     rbf\n14   760  0.699396    0.661143     rbf\n15    57  0.658611    0.731980     rbf\n16   769  0.676535    0.694560  linear\n17   920  0.683413    0.671776     rbf\n18   226  0.667146    0.667219     rbf\n19   196  0.673046    0.642226     rbf",
      "text/html": "<div>\n<style scoped>\n    .dataframe tbody tr th:only-of-type {\n        vertical-align: middle;\n    }\n\n    .dataframe tbody tr th {\n        vertical-align: top;\n    }\n\n    .dataframe thead th {\n        text-align: right;\n    }\n</style>\n<table border=\"1\" class=\"dataframe\">\n  <thead>\n    <tr style=\"text-align: right;\">\n      <th></th>\n      <th>seed</th>\n      <th>cv_score</th>\n      <th>test_score</th>\n      <th>kernel</th>\n    </tr>\n  </thead>\n  <tbody>\n    <tr>\n      <th>0</th>\n      <td>422</td>\n      <td>0.679388</td>\n      <td>0.667909</td>\n      <td>rbf</td>\n    </tr>\n    <tr>\n      <th>1</th>\n      <td>261</td>\n      <td>0.652259</td>\n      <td>0.695526</td>\n      <td>rbf</td>\n    </tr>\n    <tr>\n      <th>2</th>\n      <td>968</td>\n      <td>0.720783</td>\n      <td>0.643745</td>\n      <td>rbf</td>\n    </tr>\n    <tr>\n      <th>3</th>\n      <td>282</td>\n      <td>0.691037</td>\n      <td>0.643192</td>\n      <td>rbf</td>\n    </tr>\n    <tr>\n      <th>4</th>\n      <td>739</td>\n      <td>0.702133</td>\n      <td>0.673985</td>\n      <td>rbf</td>\n    </tr>\n    <tr>\n      <th>5</th>\n      <td>573</td>\n      <td>0.639540</td>\n      <td>0.701464</td>\n      <td>rbf</td>\n    </tr>\n    <tr>\n      <th>6</th>\n      <td>220</td>\n      <td>0.649957</td>\n      <td>0.703673</td>\n      <td>rbf</td>\n    </tr>\n    <tr>\n      <th>7</th>\n      <td>413</td>\n      <td>0.702341</td>\n      <td>0.701188</td>\n      <td>rbf</td>\n    </tr>\n    <tr>\n      <th>8</th>\n      <td>745</td>\n      <td>0.691233</td>\n      <td>0.639878</td>\n      <td>rbf</td>\n    </tr>\n    <tr>\n      <th>9</th>\n      <td>775</td>\n      <td>0.685546</td>\n      <td>0.652030</td>\n      <td>rbf</td>\n    </tr>\n    <tr>\n      <th>10</th>\n      <td>482</td>\n      <td>0.647716</td>\n      <td>0.718310</td>\n      <td>rbf</td>\n    </tr>\n    <tr>\n      <th>11</th>\n      <td>442</td>\n      <td>0.699936</td>\n      <td>0.617095</td>\n      <td>rbf</td>\n    </tr>\n    <tr>\n      <th>12</th>\n      <td>210</td>\n      <td>0.701346</td>\n      <td>0.568213</td>\n      <td>linear</td>\n    </tr>\n    <tr>\n      <th>13</th>\n      <td>423</td>\n      <td>0.644110</td>\n      <td>0.742198</td>\n      <td>rbf</td>\n    </tr>\n    <tr>\n      <th>14</th>\n      <td>760</td>\n      <td>0.699396</td>\n      <td>0.661143</td>\n      <td>rbf</td>\n    </tr>\n    <tr>\n      <th>15</th>\n      <td>57</td>\n      <td>0.658611</td>\n      <td>0.731980</td>\n      <td>rbf</td>\n    </tr>\n    <tr>\n      <th>16</th>\n      <td>769</td>\n      <td>0.676535</td>\n      <td>0.694560</td>\n      <td>linear</td>\n    </tr>\n    <tr>\n      <th>17</th>\n      <td>920</td>\n      <td>0.683413</td>\n      <td>0.671776</td>\n      <td>rbf</td>\n    </tr>\n    <tr>\n      <th>18</th>\n      <td>226</td>\n      <td>0.667146</td>\n      <td>0.667219</td>\n      <td>rbf</td>\n    </tr>\n    <tr>\n      <th>19</th>\n      <td>196</td>\n      <td>0.673046</td>\n      <td>0.642226</td>\n      <td>rbf</td>\n    </tr>\n  </tbody>\n</table>\n</div>"
     },
     "execution_count": 165,
     "metadata": {},
     "output_type": "execute_result"
    }
   ],
   "source": [
    "svm_param_kernels = {\"seed\": [], \"cv_score\": [], \"test_score\": [], \"kernel\": []}\n",
    "\n",
    "for seed in tqdm(exp_seeds):\n",
    "    svc_params = pickle.load(open(f\"{exp_dir}/svm_best_params_s_{seed}.pickle\", \"rb\"))\n",
    "\n",
    "    svm_res = exp_res_summary_df[(exp_res_summary_df[\"seed\"] == seed) &\n",
    "                                 (exp_res_summary_df[\"classifier\"] == \"SVM\")]\n",
    "    svc_cv_score = svm_res[\"cv_score\"].iloc[0]\n",
    "    svc_test_score = svm_res[\"test_score\"].iloc[0]\n",
    "\n",
    "    svm_param_kernels[\"seed\"].append(seed)\n",
    "    svm_param_kernels[\"cv_score\"].append(svc_cv_score)\n",
    "    svm_param_kernels[\"test_score\"].append(svc_test_score)\n",
    "    svm_param_kernels[\"kernel\"].append(svc_params[\"kernel\"])\n",
    "\n",
    "\n",
    "svm_param_kernels_df = pd.DataFrame(svm_param_kernels)\n",
    "svm_param_kernels_df"
   ],
   "metadata": {
    "collapsed": false,
    "pycharm": {
     "name": "#%%\n"
    }
   }
  },
  {
   "cell_type": "code",
   "execution_count": 24,
   "outputs": [
    {
     "name": "stderr",
     "output_type": "stream",
     "text": [
      "100%|███████████████████████████████████████████████████████████████████████████████████| 20/20 [04:16<00:00, 12.82s/it]\n"
     ]
    },
    {
     "data": {
      "text/plain": "    seed  cv_score  test_score  kernel\n0    422  0.744633    0.608672    poly\n1    261  0.584643    0.579398    poly\n2    968  0.731090    0.681856     rbf\n3    282  0.653846    0.638912     rbf\n4    739  0.686620    0.628556     rbf\n5    573  0.645245    0.616819    poly\n6    220  0.705462    0.668876  linear\n7    413  0.694066    0.644573     rbf\n8    745  0.739303    0.558824     rbf\n9    775  0.769274    0.586854     rbf\n10   482  0.630342    0.677023     rbf\n11   442  0.755721    0.640155     rbf\n12   210  0.674106    0.602320  linear\n13   423  0.607304    0.704087     rbf\n14   760  0.740616    0.636772  linear\n15    57  0.701484    0.658934  linear\n16   769  0.764341    0.652444     rbf\n17   920  0.780567    0.578155     rbf\n18   226  0.747787    0.618890  linear\n19   196  0.701020    0.561171    poly",
      "text/html": "<div>\n<style scoped>\n    .dataframe tbody tr th:only-of-type {\n        vertical-align: middle;\n    }\n\n    .dataframe tbody tr th {\n        vertical-align: top;\n    }\n\n    .dataframe thead th {\n        text-align: right;\n    }\n</style>\n<table border=\"1\" class=\"dataframe\">\n  <thead>\n    <tr style=\"text-align: right;\">\n      <th></th>\n      <th>seed</th>\n      <th>cv_score</th>\n      <th>test_score</th>\n      <th>kernel</th>\n    </tr>\n  </thead>\n  <tbody>\n    <tr>\n      <th>0</th>\n      <td>422</td>\n      <td>0.744633</td>\n      <td>0.608672</td>\n      <td>poly</td>\n    </tr>\n    <tr>\n      <th>1</th>\n      <td>261</td>\n      <td>0.584643</td>\n      <td>0.579398</td>\n      <td>poly</td>\n    </tr>\n    <tr>\n      <th>2</th>\n      <td>968</td>\n      <td>0.731090</td>\n      <td>0.681856</td>\n      <td>rbf</td>\n    </tr>\n    <tr>\n      <th>3</th>\n      <td>282</td>\n      <td>0.653846</td>\n      <td>0.638912</td>\n      <td>rbf</td>\n    </tr>\n    <tr>\n      <th>4</th>\n      <td>739</td>\n      <td>0.686620</td>\n      <td>0.628556</td>\n      <td>rbf</td>\n    </tr>\n    <tr>\n      <th>5</th>\n      <td>573</td>\n      <td>0.645245</td>\n      <td>0.616819</td>\n      <td>poly</td>\n    </tr>\n    <tr>\n      <th>6</th>\n      <td>220</td>\n      <td>0.705462</td>\n      <td>0.668876</td>\n      <td>linear</td>\n    </tr>\n    <tr>\n      <th>7</th>\n      <td>413</td>\n      <td>0.694066</td>\n      <td>0.644573</td>\n      <td>rbf</td>\n    </tr>\n    <tr>\n      <th>8</th>\n      <td>745</td>\n      <td>0.739303</td>\n      <td>0.558824</td>\n      <td>rbf</td>\n    </tr>\n    <tr>\n      <th>9</th>\n      <td>775</td>\n      <td>0.769274</td>\n      <td>0.586854</td>\n      <td>rbf</td>\n    </tr>\n    <tr>\n      <th>10</th>\n      <td>482</td>\n      <td>0.630342</td>\n      <td>0.677023</td>\n      <td>rbf</td>\n    </tr>\n    <tr>\n      <th>11</th>\n      <td>442</td>\n      <td>0.755721</td>\n      <td>0.640155</td>\n      <td>rbf</td>\n    </tr>\n    <tr>\n      <th>12</th>\n      <td>210</td>\n      <td>0.674106</td>\n      <td>0.602320</td>\n      <td>linear</td>\n    </tr>\n    <tr>\n      <th>13</th>\n      <td>423</td>\n      <td>0.607304</td>\n      <td>0.704087</td>\n      <td>rbf</td>\n    </tr>\n    <tr>\n      <th>14</th>\n      <td>760</td>\n      <td>0.740616</td>\n      <td>0.636772</td>\n      <td>linear</td>\n    </tr>\n    <tr>\n      <th>15</th>\n      <td>57</td>\n      <td>0.701484</td>\n      <td>0.658934</td>\n      <td>linear</td>\n    </tr>\n    <tr>\n      <th>16</th>\n      <td>769</td>\n      <td>0.764341</td>\n      <td>0.652444</td>\n      <td>rbf</td>\n    </tr>\n    <tr>\n      <th>17</th>\n      <td>920</td>\n      <td>0.780567</td>\n      <td>0.578155</td>\n      <td>rbf</td>\n    </tr>\n    <tr>\n      <th>18</th>\n      <td>226</td>\n      <td>0.747787</td>\n      <td>0.618890</td>\n      <td>linear</td>\n    </tr>\n    <tr>\n      <th>19</th>\n      <td>196</td>\n      <td>0.701020</td>\n      <td>0.561171</td>\n      <td>poly</td>\n    </tr>\n  </tbody>\n</table>\n</div>"
     },
     "execution_count": 24,
     "metadata": {},
     "output_type": "execute_result"
    }
   ],
   "source": [
    "from sklearn.svm import SVC\n",
    "from tqdm import tqdm\n",
    "bnn_sel_fts_svm = {\"seed\": [], \"cv_score\": [], \"test_score\": [], \"kernel\": []}\n",
    "\n",
    "for seed in tqdm(exp_seeds):\n",
    "    cv = StratifiedKFold(random_state=seed, shuffle=True, n_splits=5)\n",
    "    sel_feat_idx = np.load(f\"{exp_dir}/bnn_sel_idx_s_{seed}_n_70.npy\")\n",
    "    # print(idx_sig)\n",
    "    X_train, X_test, y_train, y_test = train_test_split(X_cosmic, y_df, test_size=0.3, random_state=seed, shuffle=True, stratify=y_df)\n",
    "    X_train_sel, X_test_sel = X_train.iloc[:, sel_feat_idx].to_numpy(), X_test.iloc[:, sel_feat_idx].to_numpy()\n",
    "\n",
    "    y_train, y_test = y_train.to_numpy(), y_test.to_numpy()\n",
    "\n",
    "    svc_param_grid = {\"C\": np.logspace(-2, 1, 10), \"kernel\": [\"rbf\", \"linear\", \"poly\"], \"degree\": [2, 3]}\n",
    "    svc_grid_cv = GridSearchCV(estimator=SVC(probability=True), param_grid=svc_param_grid, verbose=0,\n",
    "                               scoring=\"roc_auc\", cv=cv).fit(X_train_sel, y_train)\n",
    "\n",
    "    svc_cv_score = svc_grid_cv.best_score_\n",
    "    clf = SVC(probability=True,  **svc_grid_cv.best_params_)\n",
    "    clf.fit(X_train_sel, y_train)\n",
    "    svc_test_score = roc_auc_score(y_test, clf.predict_proba(X_test_sel)[:, 1])\n",
    "\n",
    "    bnn_sel_fts_svm[\"seed\"].append(seed)\n",
    "    bnn_sel_fts_svm[\"cv_score\"].append(svc_cv_score)\n",
    "    bnn_sel_fts_svm[\"test_score\"].append(svc_test_score)\n",
    "    bnn_sel_fts_svm[\"kernel\"].append(svc_grid_cv.best_params_[\"kernel\"])\n",
    "\n",
    "\n",
    "bnn_sel_fts_svm_df = pd.DataFrame(bnn_sel_fts_svm)\n",
    "bnn_sel_fts_svm_df"
   ],
   "metadata": {
    "collapsed": false,
    "pycharm": {
     "name": "#%%\n"
    }
   }
  },
  {
   "cell_type": "code",
   "execution_count": 147,
   "outputs": [
    {
     "data": {
      "text/plain": "cv_score      0.702873\ntest_score    0.627182\ndtype: float64"
     },
     "execution_count": 147,
     "metadata": {},
     "output_type": "execute_result"
    }
   ],
   "source": [
    "bnn_sel_fts_svm_df[[\"cv_score\", \"test_score\"]].mean()"
   ],
   "metadata": {
    "collapsed": false,
    "pycharm": {
     "name": "#%%\n"
    }
   }
  },
  {
   "cell_type": "code",
   "execution_count": 197,
   "outputs": [
    {
     "name": "stderr",
     "output_type": "stream",
     "text": [
      "100%|███████████████████████████████████████████████████████████████████████████████████| 20/20 [02:07<00:00,  6.40s/it]\n"
     ]
    },
    {
     "data": {
      "text/plain": "    seed  num_feats  cv_score  test_score\n0    422         40  0.725270    0.627727\n1    261        100  0.583493    0.567385\n2    968         70  0.713561    0.655344\n3    282         70  0.642836    0.649820\n4    739        100  0.681232    0.579950\n5    573        100  0.618996    0.611709\n6    220         90  0.685148    0.648440\n7    413         90  0.662178    0.658105\n8    745        100  0.694918    0.656587\n9    775         80  0.757523    0.593206\n10   482        100  0.587424    0.703535\n11   442        100  0.741777    0.489368\n12   210         70  0.665594    0.585474\n13   423         50  0.578720    0.594725\n14   760        100  0.712692    0.644159\n15    57        100  0.718916    0.678266\n16   769        100  0.734983    0.626208\n17   920         60  0.752325    0.587683\n18   226         70  0.736416    0.611019\n19   196        100  0.659139    0.555371",
      "text/html": "<div>\n<style scoped>\n    .dataframe tbody tr th:only-of-type {\n        vertical-align: middle;\n    }\n\n    .dataframe tbody tr th {\n        vertical-align: top;\n    }\n\n    .dataframe thead th {\n        text-align: right;\n    }\n</style>\n<table border=\"1\" class=\"dataframe\">\n  <thead>\n    <tr style=\"text-align: right;\">\n      <th></th>\n      <th>seed</th>\n      <th>num_feats</th>\n      <th>cv_score</th>\n      <th>test_score</th>\n    </tr>\n  </thead>\n  <tbody>\n    <tr>\n      <th>0</th>\n      <td>422</td>\n      <td>40</td>\n      <td>0.725270</td>\n      <td>0.627727</td>\n    </tr>\n    <tr>\n      <th>1</th>\n      <td>261</td>\n      <td>100</td>\n      <td>0.583493</td>\n      <td>0.567385</td>\n    </tr>\n    <tr>\n      <th>2</th>\n      <td>968</td>\n      <td>70</td>\n      <td>0.713561</td>\n      <td>0.655344</td>\n    </tr>\n    <tr>\n      <th>3</th>\n      <td>282</td>\n      <td>70</td>\n      <td>0.642836</td>\n      <td>0.649820</td>\n    </tr>\n    <tr>\n      <th>4</th>\n      <td>739</td>\n      <td>100</td>\n      <td>0.681232</td>\n      <td>0.579950</td>\n    </tr>\n    <tr>\n      <th>5</th>\n      <td>573</td>\n      <td>100</td>\n      <td>0.618996</td>\n      <td>0.611709</td>\n    </tr>\n    <tr>\n      <th>6</th>\n      <td>220</td>\n      <td>90</td>\n      <td>0.685148</td>\n      <td>0.648440</td>\n    </tr>\n    <tr>\n      <th>7</th>\n      <td>413</td>\n      <td>90</td>\n      <td>0.662178</td>\n      <td>0.658105</td>\n    </tr>\n    <tr>\n      <th>8</th>\n      <td>745</td>\n      <td>100</td>\n      <td>0.694918</td>\n      <td>0.656587</td>\n    </tr>\n    <tr>\n      <th>9</th>\n      <td>775</td>\n      <td>80</td>\n      <td>0.757523</td>\n      <td>0.593206</td>\n    </tr>\n    <tr>\n      <th>10</th>\n      <td>482</td>\n      <td>100</td>\n      <td>0.587424</td>\n      <td>0.703535</td>\n    </tr>\n    <tr>\n      <th>11</th>\n      <td>442</td>\n      <td>100</td>\n      <td>0.741777</td>\n      <td>0.489368</td>\n    </tr>\n    <tr>\n      <th>12</th>\n      <td>210</td>\n      <td>70</td>\n      <td>0.665594</td>\n      <td>0.585474</td>\n    </tr>\n    <tr>\n      <th>13</th>\n      <td>423</td>\n      <td>50</td>\n      <td>0.578720</td>\n      <td>0.594725</td>\n    </tr>\n    <tr>\n      <th>14</th>\n      <td>760</td>\n      <td>100</td>\n      <td>0.712692</td>\n      <td>0.644159</td>\n    </tr>\n    <tr>\n      <th>15</th>\n      <td>57</td>\n      <td>100</td>\n      <td>0.718916</td>\n      <td>0.678266</td>\n    </tr>\n    <tr>\n      <th>16</th>\n      <td>769</td>\n      <td>100</td>\n      <td>0.734983</td>\n      <td>0.626208</td>\n    </tr>\n    <tr>\n      <th>17</th>\n      <td>920</td>\n      <td>60</td>\n      <td>0.752325</td>\n      <td>0.587683</td>\n    </tr>\n    <tr>\n      <th>18</th>\n      <td>226</td>\n      <td>70</td>\n      <td>0.736416</td>\n      <td>0.611019</td>\n    </tr>\n    <tr>\n      <th>19</th>\n      <td>196</td>\n      <td>100</td>\n      <td>0.659139</td>\n      <td>0.555371</td>\n    </tr>\n  </tbody>\n</table>\n</div>"
     },
     "execution_count": 197,
     "metadata": {},
     "output_type": "execute_result"
    }
   ],
   "source": [
    "from sklearn.neural_network import MLPClassifier\n",
    "\n",
    "feat_lens = np.arange(10, 110, 10)\n",
    "\n",
    "bnn_feat_len_dict = {\"seed\": [], \"num_feats\": [], \"cv_score\": [], \"test_score\": []}\n",
    "\n",
    "for seed in tqdm(exp_seeds):\n",
    "\n",
    "    cv = StratifiedKFold(random_state=seed, shuffle=True, n_splits=5)\n",
    "    gamma_means = np.load(f\"{exp_dir}/bnn_disc_mean_s_{seed}.npy\")\n",
    "    gamma_means_idx_s = np.argsort(gamma_means)[::-1]\n",
    "    X_train, X_test, y_train, y_test = train_test_split(X_cosmic, y_df, test_size=0.3, random_state=seed, shuffle=True, stratify=y_df)\n",
    "    X_train, X_test = X_train.to_numpy(), X_test.to_numpy()\n",
    "    y_train, y_test = y_train.to_numpy(), y_test.to_numpy()\n",
    "\n",
    "    cv_score_max = 0.0\n",
    "    flen_max = 0.0\n",
    "    param_flen_max = None\n",
    "\n",
    "    layer_dim = 100\n",
    "\n",
    "    for feat_len in feat_lens:\n",
    "        gamma_idx = gamma_means_idx_s[:feat_len]\n",
    "        cv_scores = []\n",
    "        # layer_dim = int(2/3*(feat_len + 1))\n",
    "\n",
    "        mlp = MLPClassifier(hidden_layer_sizes=(layer_dim,), activation=\"tanh\", early_stopping=True, random_state=seed, batch_size=20, max_iter=300)\n",
    "        for train_idx, test_idx in cv.split(X_train, y_train):\n",
    "            x_train_cv, y_train_cv = X_train[train_idx], y_train[train_idx]\n",
    "            x_test_cv, y_test_cv = X_train[test_idx], y_train[test_idx]\n",
    "            x_train_cv_sel, x_test_cv_sel = x_train_cv[:,gamma_idx], x_test_cv[:,gamma_idx]\n",
    "            mlp.fit(x_train_cv_sel, y_train_cv)\n",
    "            cv_scores.append(roc_auc_score(y_test_cv, mlp.predict_proba(x_test_cv_sel)[:,1]))\n",
    "\n",
    "        cv_score = np.mean(np.array(cv_scores))\n",
    "        # print(f\"feat_len: {feat_len}, cv_score: {cv_score}\")\n",
    "        if cv_score > cv_score_max:\n",
    "            cv_score_max = cv_score\n",
    "            flen_max = feat_len\n",
    "\n",
    "    # layer_dim = int(2/3*(flen_max + 1))\n",
    "    mlp = MLPClassifier(hidden_layer_sizes=(layer_dim,), activation=\"tanh\", early_stopping=True, random_state=seed, batch_size=20, max_iter=300)\n",
    "    gamma_idx = gamma_means_idx_s[:flen_max]\n",
    "    X_train_sel, X_test_sel = X_train[:,gamma_idx], X_test[:,gamma_idx]\n",
    "    mlp.fit(X_train_sel, y_train)\n",
    "    test_score = roc_auc_score(y_test, mlp.predict_proba(X_test_sel)[:,1])\n",
    "    # print(f\"seed: {seed}, Optim feat len: {flen_max}, cv_score: {cv_score_max}, test_score: {test_score}\")\n",
    "\n",
    "    bnn_feat_len_dict[\"seed\"].append(seed)\n",
    "    bnn_feat_len_dict[\"num_feats\"].append(flen_max)\n",
    "    bnn_feat_len_dict[\"cv_score\"].append(cv_score_max)\n",
    "    bnn_feat_len_dict[\"test_score\"].append(test_score)\n",
    "\n",
    "\n",
    "\n",
    "bnn_feat_len_df = pd.DataFrame(bnn_feat_len_dict)\n",
    "bnn_feat_len_df\n"
   ],
   "metadata": {
    "collapsed": false,
    "pycharm": {
     "name": "#%%\n"
    }
   }
  },
  {
   "cell_type": "code",
   "execution_count": 198,
   "outputs": [
    {
     "data": {
      "text/plain": "cv_score      0.682657\ntest_score    0.616204\ndtype: float64"
     },
     "execution_count": 198,
     "metadata": {},
     "output_type": "execute_result"
    }
   ],
   "source": [
    "bnn_feat_len_df[[\"cv_score\", \"test_score\"]].mean()"
   ],
   "metadata": {
    "collapsed": false,
    "pycharm": {
     "name": "#%%\n"
    }
   }
  },
  {
   "cell_type": "code",
   "execution_count": 200,
   "outputs": [
    {
     "name": "stderr",
     "output_type": "stream",
     "text": [
      "100%|███████████████████████████████████████████████████████████████████████████████████| 20/20 [32:01<00:00, 96.06s/it]\n"
     ]
    },
    {
     "data": {
      "text/plain": "    seed  num_feats  cv_score  test_score  kernel\n0    422         90  0.760674    0.604943    poly\n1    261        100  0.594893    0.610191    poly\n2    968         90  0.739734    0.634493     rbf\n3    282         50  0.676045    0.668738     rbf\n4    739        100  0.713963    0.568351     rbf\n5    573         80  0.665754    0.640983    poly\n6    220         80  0.708895    0.657967  linear\n7    413        100  0.730118    0.672466     rbf\n8    745        100  0.768720    0.595001    poly\n9    775         70  0.777201    0.595554     rbf\n10   482         50  0.644406    0.687379    poly\n11   442         80  0.751659    0.626484     rbf\n12   210         70  0.684009    0.596796  linear\n13   423         70  0.619470    0.704363     rbf\n14   760         60  0.751638    0.629177    poly\n15    57        100  0.742813    0.658382  linear\n16   769         70  0.768013    0.647473     rbf\n17   920         80  0.781546    0.636841     rbf\n18   226         50  0.749066    0.632422  linear\n19   196         50  0.715033    0.570837    poly",
      "text/html": "<div>\n<style scoped>\n    .dataframe tbody tr th:only-of-type {\n        vertical-align: middle;\n    }\n\n    .dataframe tbody tr th {\n        vertical-align: top;\n    }\n\n    .dataframe thead th {\n        text-align: right;\n    }\n</style>\n<table border=\"1\" class=\"dataframe\">\n  <thead>\n    <tr style=\"text-align: right;\">\n      <th></th>\n      <th>seed</th>\n      <th>num_feats</th>\n      <th>cv_score</th>\n      <th>test_score</th>\n      <th>kernel</th>\n    </tr>\n  </thead>\n  <tbody>\n    <tr>\n      <th>0</th>\n      <td>422</td>\n      <td>90</td>\n      <td>0.760674</td>\n      <td>0.604943</td>\n      <td>poly</td>\n    </tr>\n    <tr>\n      <th>1</th>\n      <td>261</td>\n      <td>100</td>\n      <td>0.594893</td>\n      <td>0.610191</td>\n      <td>poly</td>\n    </tr>\n    <tr>\n      <th>2</th>\n      <td>968</td>\n      <td>90</td>\n      <td>0.739734</td>\n      <td>0.634493</td>\n      <td>rbf</td>\n    </tr>\n    <tr>\n      <th>3</th>\n      <td>282</td>\n      <td>50</td>\n      <td>0.676045</td>\n      <td>0.668738</td>\n      <td>rbf</td>\n    </tr>\n    <tr>\n      <th>4</th>\n      <td>739</td>\n      <td>100</td>\n      <td>0.713963</td>\n      <td>0.568351</td>\n      <td>rbf</td>\n    </tr>\n    <tr>\n      <th>5</th>\n      <td>573</td>\n      <td>80</td>\n      <td>0.665754</td>\n      <td>0.640983</td>\n      <td>poly</td>\n    </tr>\n    <tr>\n      <th>6</th>\n      <td>220</td>\n      <td>80</td>\n      <td>0.708895</td>\n      <td>0.657967</td>\n      <td>linear</td>\n    </tr>\n    <tr>\n      <th>7</th>\n      <td>413</td>\n      <td>100</td>\n      <td>0.730118</td>\n      <td>0.672466</td>\n      <td>rbf</td>\n    </tr>\n    <tr>\n      <th>8</th>\n      <td>745</td>\n      <td>100</td>\n      <td>0.768720</td>\n      <td>0.595001</td>\n      <td>poly</td>\n    </tr>\n    <tr>\n      <th>9</th>\n      <td>775</td>\n      <td>70</td>\n      <td>0.777201</td>\n      <td>0.595554</td>\n      <td>rbf</td>\n    </tr>\n    <tr>\n      <th>10</th>\n      <td>482</td>\n      <td>50</td>\n      <td>0.644406</td>\n      <td>0.687379</td>\n      <td>poly</td>\n    </tr>\n    <tr>\n      <th>11</th>\n      <td>442</td>\n      <td>80</td>\n      <td>0.751659</td>\n      <td>0.626484</td>\n      <td>rbf</td>\n    </tr>\n    <tr>\n      <th>12</th>\n      <td>210</td>\n      <td>70</td>\n      <td>0.684009</td>\n      <td>0.596796</td>\n      <td>linear</td>\n    </tr>\n    <tr>\n      <th>13</th>\n      <td>423</td>\n      <td>70</td>\n      <td>0.619470</td>\n      <td>0.704363</td>\n      <td>rbf</td>\n    </tr>\n    <tr>\n      <th>14</th>\n      <td>760</td>\n      <td>60</td>\n      <td>0.751638</td>\n      <td>0.629177</td>\n      <td>poly</td>\n    </tr>\n    <tr>\n      <th>15</th>\n      <td>57</td>\n      <td>100</td>\n      <td>0.742813</td>\n      <td>0.658382</td>\n      <td>linear</td>\n    </tr>\n    <tr>\n      <th>16</th>\n      <td>769</td>\n      <td>70</td>\n      <td>0.768013</td>\n      <td>0.647473</td>\n      <td>rbf</td>\n    </tr>\n    <tr>\n      <th>17</th>\n      <td>920</td>\n      <td>80</td>\n      <td>0.781546</td>\n      <td>0.636841</td>\n      <td>rbf</td>\n    </tr>\n    <tr>\n      <th>18</th>\n      <td>226</td>\n      <td>50</td>\n      <td>0.749066</td>\n      <td>0.632422</td>\n      <td>linear</td>\n    </tr>\n    <tr>\n      <th>19</th>\n      <td>196</td>\n      <td>50</td>\n      <td>0.715033</td>\n      <td>0.570837</td>\n      <td>poly</td>\n    </tr>\n  </tbody>\n</table>\n</div>"
     },
     "execution_count": 200,
     "metadata": {},
     "output_type": "execute_result"
    }
   ],
   "source": [
    "bnn_sel_fts_svm_df[[\"cv_score\", \"test_score\"]].mean()\n",
    "from sklearn.neural_network import MLPClassifier\n",
    "\n",
    "feat_lens = np.arange(10, 110, 10)\n",
    "\n",
    "bnn_feat_len_svm_dict = {\"seed\": [], \"num_feats\": [], \"cv_score\": [], \"test_score\": [], \"kernel\": []}\n",
    "\n",
    "for seed in tqdm(exp_seeds):\n",
    "\n",
    "    cv = StratifiedKFold(random_state=seed, shuffle=True, n_splits=5)\n",
    "    gamma_means = np.load(f\"{exp_dir}/bnn_disc_mean_s_{seed}.npy\")\n",
    "    gamma_means_idx_s = np.argsort(gamma_means)[::-1]\n",
    "    X_train, X_test, y_train, y_test = train_test_split(X_cosmic, y_df, test_size=0.3, random_state=seed, shuffle=True,\n",
    "                                                        stratify=y_df)\n",
    "    X_train, X_test = X_train.to_numpy(), X_test.to_numpy()\n",
    "    y_train, y_test = y_train.to_numpy(), y_test.to_numpy()\n",
    "\n",
    "    cv_score_max = 0.0\n",
    "    flen_max = 0.0\n",
    "    param_flen_max = None\n",
    "\n",
    "    svc_param_grid = {\"C\": np.logspace(-2, 1, 10), \"kernel\": [\"rbf\", \"linear\", \"poly\"], \"degree\": [2, 3]}\n",
    "    for feat_len in feat_lens:\n",
    "        gamma_idx = gamma_means_idx_s[:feat_len]\n",
    "        X_train_sel, X_test_sel = X_train[:,gamma_idx], X_test[:,gamma_idx]\n",
    "        svc_grid_cv = GridSearchCV(estimator=SVC(probability=True), param_grid=svc_param_grid, verbose=0,\n",
    "                                   scoring=\"roc_auc\", cv=cv).fit(X_train_sel, y_train)\n",
    "\n",
    "        cv_score = svc_grid_cv.best_score_\n",
    "        if cv_score > cv_score_max:\n",
    "            cv_score_max = cv_score\n",
    "            flen_max = feat_len\n",
    "            param_flen_max = svc_grid_cv.best_params_\n",
    "\n",
    "    gamma_idx = gamma_means_idx_s[:flen_max]\n",
    "    X_train_sel, X_test_sel = X_train[:, gamma_idx], X_test[:, gamma_idx]\n",
    "    svc_clf = SVC(probability=True, **param_flen_max)\n",
    "    svc_clf.fit(X_train_sel, y_train)\n",
    "    test_score = roc_auc_score(y_test, svc_clf.predict_proba(X_test_sel)[:, 1])\n",
    "    # print(f\"seed: {seed}, Optim feat len: {flen_max}, cv_score: {cv_score_max}, test_score: {test_score}\")\n",
    "\n",
    "    bnn_feat_len_svm_dict[\"seed\"].append(seed)\n",
    "    bnn_feat_len_svm_dict[\"num_feats\"].append(flen_max)\n",
    "    bnn_feat_len_svm_dict[\"cv_score\"].append(cv_score_max)\n",
    "    bnn_feat_len_svm_dict[\"test_score\"].append(test_score)\n",
    "    bnn_feat_len_svm_dict[\"kernel\"].append(param_flen_max[\"kernel\"])\n",
    "\n",
    "bnn_feat_len_svm_df = pd.DataFrame(bnn_feat_len_svm_dict)\n",
    "bnn_feat_len_svm_df"
   ],
   "metadata": {
    "collapsed": false,
    "pycharm": {
     "name": "#%%\n"
    }
   }
  },
  {
   "cell_type": "code",
   "execution_count": 14,
   "outputs": [],
   "source": [
    "# bnn_feat_len_svm_df.to_csv(f\"{exp_dir}/moses/bnn_cosmic_feat_len_svm.csv\")\n",
    "bnn_feat_len_svm_df = pd.read_csv(f\"{exp_dir}/moses/bnn_cosmic_feat_len_svm.csv\")"
   ],
   "metadata": {
    "collapsed": false,
    "pycharm": {
     "name": "#%%\n"
    }
   }
  },
  {
   "cell_type": "code",
   "execution_count": 21,
   "outputs": [
    {
     "data": {
      "text/plain": "num_feats     77.000000\ncv_score       0.717182\ntest_score     0.631942\ndtype: float64"
     },
     "execution_count": 21,
     "metadata": {},
     "output_type": "execute_result"
    }
   ],
   "source": [
    "bnn_feat_len_svm_df[[\"num_feats\", \"cv_score\", \"test_score\"]].mean()"
   ],
   "metadata": {
    "collapsed": false,
    "pycharm": {
     "name": "#%%\n"
    }
   }
  },
  {
   "cell_type": "code",
   "execution_count": 15,
   "outputs": [
    {
     "data": {
      "text/plain": "cv_score      0.716179\ntest_score    0.630830\ndtype: float64"
     },
     "execution_count": 15,
     "metadata": {},
     "output_type": "execute_result"
    }
   ],
   "source": [
    "bnn_feat_len_svm_df[(bnn_feat_len_svm_df[\"kernel\"] != \"linear\")][[\"cv_score\", \"test_score\"]].mean()"
   ],
   "metadata": {
    "collapsed": false,
    "pycharm": {
     "name": "#%%\n"
    }
   }
  },
  {
   "cell_type": "code",
   "execution_count": 16,
   "outputs": [
    {
     "data": {
      "text/plain": "rbf       9\npoly      7\nlinear    4\nName: kernel, dtype: int64"
     },
     "execution_count": 16,
     "metadata": {},
     "output_type": "execute_result"
    }
   ],
   "source": [
    "bnn_feat_len_svm_df[\"kernel\"].value_counts()"
   ],
   "metadata": {
    "collapsed": false,
    "pycharm": {
     "name": "#%%\n"
    }
   }
  },
  {
   "cell_type": "code",
   "execution_count": 26,
   "outputs": [
    {
     "data": {
      "text/plain": "cv_score      0.721196\ntest_score    0.636392\ndtype: float64"
     },
     "execution_count": 26,
     "metadata": {},
     "output_type": "execute_result"
    }
   ],
   "source": [
    "bnn_feat_len_svm_df[(bnn_feat_len_svm_df[\"kernel\"] == \"linear\")][[\"cv_score\", \"test_score\"]].mean()"
   ],
   "metadata": {
    "collapsed": false,
    "pycharm": {
     "name": "#%%\n"
    }
   }
  },
  {
   "cell_type": "code",
   "execution_count": null,
   "outputs": [],
   "source": [
    "%autoreload\n",
    "from run_moses_cosmic_exp import run_moses, run_logistc_regression\n",
    "\n",
    "feat_lens = np.arange(10, 110, 10)\n",
    "\n",
    "bnn_feat_len_moses_dict = {\"seed\": [], \"classifier\": [] ,\"num_feats\": [], \"cv_score\": [], \"test_score\": [],\n",
    "                           \"kernel\": []}\n",
    "\n",
    "moses_grid_params = {\"complexity_ratio\": np.logspace(0, 3, 5), \"complexity_temp\": np.logspace(1, 3, 5),\n",
    "                     \"diversity_pressure\": [0.0, 0.3, 0.6, 0.9], \"hc_fraction_nn\": [0.01, 0.1],\n",
    "                     }\n",
    "\n",
    "for seed in exp_seeds:\n",
    "\n",
    "    cv = StratifiedKFold(random_state=seed, shuffle=True, n_splits=5)\n",
    "    gamma_means = np.load(f\"{exp_dir}/bnn_disc_mean_s_{seed}.npy\")\n",
    "    gamma_means_idx_s = np.argsort(gamma_means)[::-1]\n",
    "    X_train, X_test, y_train, y_test = train_test_split(X_cosmic, y_df, test_size=0.3, random_state=seed, shuffle=True,\n",
    "                                                        stratify=y_df)\n",
    "    # X_train, X_test = X_train.to_numpy(), X_test.to_numpy()\n",
    "    # y_train, y_test = y_train.to_numpy(), y_test.to_numpy()\n",
    "\n",
    "    feat_len = bnn_feat_len_svm_df[bnn_sel_fts_svm_df[\"seed\"] == seed][\"num_feats\"].iloc[0]\n",
    "    kernel = bnn_feat_len_svm_df[bnn_sel_fts_svm_df[\"seed\"] == seed][\"kernel\"].iloc[0]\n",
    "    gamma_idx = gamma_means_idx_s[:feat_len]\n",
    "    X_train_sel, X_test_sel = X_train.iloc[:,gamma_idx], X_test.iloc[:,gamma_idx]\n",
    "\n",
    "    _, moses_cv_score, moses_test_score, \\\n",
    "        train_eval_out, test_eval_out = run_moses(seed, X_train_sel, X_test_sel, y_train, y_test, \"posOutcome\", cv)\n",
    "\n",
    "    X_train_sel_moses = np.concatenate([X_train_sel.to_numpy(), train_eval_out], axis=1)\n",
    "    X_test_sel_moses = np.concatenate([X_test_sel.to_numpy(), test_eval_out], axis=1)\n",
    "\n",
    "    _, log_cv_score, log_test_score = run_logistc_regression(X_train_sel_moses, X_test_sel_moses,\n",
    "                                                                                 y_train, y_test, cv)\n",
    "\n",
    "    bnn_feat_len_moses_dict[\"classifier\"].append(\"MOSES\")\n",
    "    bnn_feat_len_moses_dict[\"seed\"].append(seed)\n",
    "    bnn_feat_len_moses_dict[\"num_feats\"].append(feat_len)\n",
    "    bnn_feat_len_moses_dict[\"cv_score\"].append(moses_cv_score)\n",
    "    bnn_feat_len_moses_dict[\"test_score\"].append(moses_test_score)\n",
    "    bnn_feat_len_moses_dict[\"kernel\"].append(kernel)\n",
    "\n",
    "    bnn_feat_len_moses_dict[\"classifier\"].append(\"MOSES + LR\")\n",
    "    bnn_feat_len_moses_dict[\"seed\"].append(seed)\n",
    "    bnn_feat_len_moses_dict[\"num_feats\"].append(feat_len + train_eval_out.shape[1])\n",
    "    bnn_feat_len_moses_dict[\"cv_score\"].append(log_cv_score)\n",
    "    bnn_feat_len_moses_dict[\"test_score\"].append(log_test_score)\n",
    "    bnn_feat_len_moses_dict[\"kernel\"].append(kernel)\n",
    "\n",
    "bnn_feat_len_moses_df = pd.DataFrame(bnn_feat_len_moses_dict)\n",
    "bnn_feat_len_moses_df"
   ],
   "metadata": {
    "collapsed": false,
    "pycharm": {
     "name": "#%%\n",
     "is_executing": true
    }
   }
  },
  {
   "cell_type": "code",
   "execution_count": 213,
   "outputs": [
    {
     "data": {
      "text/plain": "            cv_score  test_score\nclassifier                      \nMOSES       0.628525    0.575970\nMOSES + LR  0.710400    0.630544",
      "text/html": "<div>\n<style scoped>\n    .dataframe tbody tr th:only-of-type {\n        vertical-align: middle;\n    }\n\n    .dataframe tbody tr th {\n        vertical-align: top;\n    }\n\n    .dataframe thead th {\n        text-align: right;\n    }\n</style>\n<table border=\"1\" class=\"dataframe\">\n  <thead>\n    <tr style=\"text-align: right;\">\n      <th></th>\n      <th>cv_score</th>\n      <th>test_score</th>\n    </tr>\n    <tr>\n      <th>classifier</th>\n      <th></th>\n      <th></th>\n    </tr>\n  </thead>\n  <tbody>\n    <tr>\n      <th>MOSES</th>\n      <td>0.628525</td>\n      <td>0.575970</td>\n    </tr>\n    <tr>\n      <th>MOSES + LR</th>\n      <td>0.710400</td>\n      <td>0.630544</td>\n    </tr>\n  </tbody>\n</table>\n</div>"
     },
     "execution_count": 213,
     "metadata": {},
     "output_type": "execute_result"
    }
   ],
   "source": [
    "bnn_feat_len_moses_df.groupby(\"classifier\")[[\"cv_score\", \"test_score\"]].mean()"
   ],
   "metadata": {
    "collapsed": false,
    "pycharm": {
     "name": "#%%\n"
    }
   }
  },
  {
   "cell_type": "code",
   "execution_count": 220,
   "outputs": [
    {
     "data": {
      "text/plain": "cv_score      0.708501\ntest_score    0.631317\ndtype: float64"
     },
     "execution_count": 220,
     "metadata": {},
     "output_type": "execute_result"
    }
   ],
   "source": [
    "bnn_feat_len_moses_df[(bnn_feat_len_moses_df[\"kernel\"] != \"linear\") & (bnn_feat_len_moses_df[\"classifier\"] == \"MOSES + LR\")][[\"cv_score\", \"test_score\"]].mean()"
   ],
   "metadata": {
    "collapsed": false,
    "pycharm": {
     "name": "#%%\n"
    }
   }
  },
  {
   "cell_type": "code",
   "execution_count": 214,
   "outputs": [],
   "source": [
    "bnn_feat_len_moses_df.to_csv(f\"{exp_dir}/moses/bnn_cosmic_feat_len_moses.csv\")"
   ],
   "metadata": {
    "collapsed": false,
    "pycharm": {
     "name": "#%%\n"
    }
   }
  },
  {
   "cell_type": "code",
   "execution_count": null,
   "outputs": [],
   "source": [
    "%autoreload\n",
    "from run_moses_cosmic_exp import run_moses, run_logistc_regression\n",
    "\n",
    "feat_lens = np.arange(10, 110, 10)\n",
    "\n",
    "bnn_feat_len_lr_dict = {\"seed\": [], \"classifier\": [] ,\"num_feats\": [], \"cv_score\": [], \"test_score\": [],\n",
    "                        \"kernel\": []}\n",
    "\n",
    "moses_grid_params = {\"complexity_ratio\": np.logspace(0, 3, 5), \"complexity_temp\": np.logspace(1, 3, 5),\n",
    "                     \"diversity_pressure\": [0.0, 0.3, 0.6, 0.9], \"hc_fraction_nn\": [0.01, 0.1],\n",
    "                     }\n",
    "\n",
    "for seed in exp_seeds:\n",
    "\n",
    "    cv = StratifiedKFold(random_state=seed, shuffle=True, n_splits=5)\n",
    "    gamma_means = np.load(f\"{exp_dir}/bnn_disc_mean_s_{seed}.npy\")\n",
    "    gamma_means_idx_s = np.argsort(gamma_means)[::-1]\n",
    "    X_train, X_test, y_train, y_test = train_test_split(X_cosmic, y_df, test_size=0.3, random_state=seed, shuffle=True,\n",
    "                                                        stratify=y_df)\n",
    "    # X_train, X_test = X_train.to_numpy(), X_test.to_numpy()\n",
    "    # y_train, y_test = y_train.to_numpy(), y_test.to_numpy()\n",
    "    feat_len = bnn_feat_len_svm_df[bnn_sel_fts_svm_df[\"seed\"] == seed][\"num_feats\"].iloc[0]\n",
    "    kernel = bnn_feat_len_svm_df[bnn_sel_fts_svm_df[\"seed\"] == seed][\"kernel\"].iloc[0]\n",
    "    gamma_idx = gamma_means_idx_s[:feat_len]\n",
    "    X_train_sel, X_test_sel = X_train.iloc[:,gamma_idx], X_test.iloc[:,gamma_idx]\n",
    "\n",
    "    _, log_cv_score, log_test_score = run_logistc_regression(X_train_sel, X_test_sel, y_train, y_test, cv)\n",
    "\n",
    "\n",
    "    bnn_feat_len_lr_dict[\"classifier\"].append(\"LR\")\n",
    "    bnn_feat_len_lr_dict[\"seed\"].append(seed)\n",
    "    bnn_feat_len_lr_dict[\"num_feats\"].append(feat_len)\n",
    "    bnn_feat_len_lr_dict[\"cv_score\"].append(log_cv_score)\n",
    "    bnn_feat_len_lr_dict[\"test_score\"].append(log_test_score)\n",
    "    bnn_feat_len_lr_dict[\"kernel\"].append(kernel)\n",
    "\n",
    "\n",
    "bnn_feat_len_lr_df = pd.DataFrame(bnn_feat_len_lr_dict)\n",
    "bnn_feat_len_lr_df"
   ],
   "metadata": {
    "collapsed": false,
    "pycharm": {
     "name": "#%%\n",
     "is_executing": true
    }
   }
  },
  {
   "cell_type": "code",
   "execution_count": 218,
   "outputs": [
    {
     "data": {
      "text/plain": "cv_score      0.696233\ntest_score    0.630679\ndtype: float64"
     },
     "execution_count": 218,
     "metadata": {},
     "output_type": "execute_result"
    }
   ],
   "source": [
    "bnn_feat_len_lr_df[bnn_feat_len_lr_df[\"kernel\"] != \"linear\"][[\"cv_score\", \"test_score\"]].mean()"
   ],
   "metadata": {
    "collapsed": false,
    "pycharm": {
     "name": "#%%\n"
    }
   }
  },
  {
   "cell_type": "markdown",
   "source": [
    "### Check very small feature size"
   ],
   "metadata": {
    "collapsed": false,
    "pycharm": {
     "name": "#%% md\n"
    }
   }
  },
  {
   "cell_type": "markdown",
   "source": [
    "#### Randomly selected features vs BNN Selected features"
   ],
   "metadata": {
    "collapsed": false,
    "pycharm": {
     "name": "#%% md\n"
    }
   }
  },
  {
   "cell_type": "code",
   "execution_count": 26,
   "outputs": [
    {
     "name": "stderr",
     "output_type": "stream",
     "text": [
      "100%|███████████████████████████████████████████████████████████████████████████████████| 20/20 [00:29<00:00,  1.47s/it]\n"
     ]
    }
   ],
   "source": [
    "%autoreload\n",
    "from run_moses_cosmic_exp import run_moses, run_logistc_regression\n",
    "from tqdm import tqdm\n",
    "\n",
    "rand_v_bnn_sel_fts_dict = {\"seed\": [], \"feat_sel\": [], \"num_feats\": [], \"cv_score\": [], \"test_score\": []}\n",
    "\n",
    "all_feats = np.arange(X_df.shape[1])\n",
    "\n",
    "feat_lens = [5, 10, 15, 20]\n",
    "\n",
    "for seed in tqdm(exp_seeds):\n",
    "\n",
    "    cv = StratifiedKFold(random_state=seed, shuffle=True, n_splits=5)\n",
    "    gamma_means = np.load(f\"{exp_dir}/bnn_disc_mean_s_{seed}.npy\")\n",
    "    gamma_means_idx_s = np.argsort(gamma_means)[::-1]\n",
    "    X_train_cosmic, X_test_cosmic, y_train, y_test = train_test_split(X_cosmic, y_df, test_size=0.3, random_state=seed, shuffle=True, stratify=y_df)\n",
    "    X_train_cosmic, X_test_cosmic = X_train_cosmic.to_numpy(), X_test_cosmic.to_numpy()\n",
    "    y_train, y_test = y_train.to_numpy(), y_test.to_numpy()\n",
    "\n",
    "    X_train, X_test, _, _ = train_test_split(X_df, y_df, test_size=0.3, random_state=seed, shuffle=True, stratify=y_df)\n",
    "\n",
    "    X_train, X_test = X_train.to_numpy(), X_test.to_numpy()\n",
    "\n",
    "    rng_key = jax.random.PRNGKey(seed)\n",
    "\n",
    "    for ft_len in feat_lens:\n",
    "        rand_sel_fts = jax.random.choice(rng_key, all_feats, (ft_len,), replace=False)\n",
    "\n",
    "        X_train_rand_sel, X_test_rand_sel = X_train[:,rand_sel_fts], X_test[:,rand_sel_fts]\n",
    "\n",
    "        _, rand_cv_score, rand_test_score = run_logistc_regression(X_train_rand_sel, X_test_rand_sel,\n",
    "                                                                 y_train, y_test, cv, verbose=0)\n",
    "\n",
    "        sel_fts = gamma_means_idx_s[:ft_len]\n",
    "\n",
    "        X_train_sel, X_test_sel = X_train_cosmic[:,sel_fts], X_test_cosmic[:,sel_fts]\n",
    "\n",
    "        _, cv_score, test_score = run_logistc_regression(X_train_sel, X_test_sel,\n",
    "                                                         y_train, y_test, cv, verbose=0)\n",
    "\n",
    "        rand_v_bnn_sel_fts_dict[\"seed\"].append(seed)\n",
    "        rand_v_bnn_sel_fts_dict[\"feat_sel\"].append(\"random\")\n",
    "        rand_v_bnn_sel_fts_dict[\"num_feats\"].append(ft_len)\n",
    "        rand_v_bnn_sel_fts_dict[\"cv_score\"].append(rand_cv_score)\n",
    "        rand_v_bnn_sel_fts_dict[\"test_score\"].append(rand_test_score)\n",
    "\n",
    "        rand_v_bnn_sel_fts_dict[\"seed\"].append(seed)\n",
    "        rand_v_bnn_sel_fts_dict[\"feat_sel\"].append(\"bnn\")\n",
    "        rand_v_bnn_sel_fts_dict[\"num_feats\"].append(ft_len)\n",
    "        rand_v_bnn_sel_fts_dict[\"cv_score\"].append(cv_score)\n",
    "        rand_v_bnn_sel_fts_dict[\"test_score\"].append(test_score)\n",
    "\n",
    "\n",
    "rand_v_bnn_sel_fts_df = pd.DataFrame(rand_v_bnn_sel_fts_dict)"
   ],
   "metadata": {
    "collapsed": false,
    "pycharm": {
     "name": "#%%\n"
    }
   }
  },
  {
   "cell_type": "code",
   "execution_count": 21,
   "outputs": [
    {
     "data": {
      "text/plain": "     seed feat_sel  num_feats  cv_score  test_score\n0     422   random          5  0.519374    0.535487\n1     422      bnn          5  0.671839    0.570561\n2     422   random         10  0.540410    0.533761\n3     422      bnn         10  0.670679    0.588926\n4     422   random         15  0.533021    0.583264\n..    ...      ...        ...       ...         ...\n155   196      bnn         10  0.506659    0.518572\n156   196   random         15  0.557913    0.578984\n157   196      bnn         15  0.506500    0.537144\n158   196   random         20  0.625684    0.612607\n159   196      bnn         20  0.499812    0.535833\n\n[160 rows x 5 columns]",
      "text/html": "<div>\n<style scoped>\n    .dataframe tbody tr th:only-of-type {\n        vertical-align: middle;\n    }\n\n    .dataframe tbody tr th {\n        vertical-align: top;\n    }\n\n    .dataframe thead th {\n        text-align: right;\n    }\n</style>\n<table border=\"1\" class=\"dataframe\">\n  <thead>\n    <tr style=\"text-align: right;\">\n      <th></th>\n      <th>seed</th>\n      <th>feat_sel</th>\n      <th>num_feats</th>\n      <th>cv_score</th>\n      <th>test_score</th>\n    </tr>\n  </thead>\n  <tbody>\n    <tr>\n      <th>0</th>\n      <td>422</td>\n      <td>random</td>\n      <td>5</td>\n      <td>0.519374</td>\n      <td>0.535487</td>\n    </tr>\n    <tr>\n      <th>1</th>\n      <td>422</td>\n      <td>bnn</td>\n      <td>5</td>\n      <td>0.671839</td>\n      <td>0.570561</td>\n    </tr>\n    <tr>\n      <th>2</th>\n      <td>422</td>\n      <td>random</td>\n      <td>10</td>\n      <td>0.540410</td>\n      <td>0.533761</td>\n    </tr>\n    <tr>\n      <th>3</th>\n      <td>422</td>\n      <td>bnn</td>\n      <td>10</td>\n      <td>0.670679</td>\n      <td>0.588926</td>\n    </tr>\n    <tr>\n      <th>4</th>\n      <td>422</td>\n      <td>random</td>\n      <td>15</td>\n      <td>0.533021</td>\n      <td>0.583264</td>\n    </tr>\n    <tr>\n      <th>...</th>\n      <td>...</td>\n      <td>...</td>\n      <td>...</td>\n      <td>...</td>\n      <td>...</td>\n    </tr>\n    <tr>\n      <th>155</th>\n      <td>196</td>\n      <td>bnn</td>\n      <td>10</td>\n      <td>0.506659</td>\n      <td>0.518572</td>\n    </tr>\n    <tr>\n      <th>156</th>\n      <td>196</td>\n      <td>random</td>\n      <td>15</td>\n      <td>0.557913</td>\n      <td>0.578984</td>\n    </tr>\n    <tr>\n      <th>157</th>\n      <td>196</td>\n      <td>bnn</td>\n      <td>15</td>\n      <td>0.506500</td>\n      <td>0.537144</td>\n    </tr>\n    <tr>\n      <th>158</th>\n      <td>196</td>\n      <td>random</td>\n      <td>20</td>\n      <td>0.625684</td>\n      <td>0.612607</td>\n    </tr>\n    <tr>\n      <th>159</th>\n      <td>196</td>\n      <td>bnn</td>\n      <td>20</td>\n      <td>0.499812</td>\n      <td>0.535833</td>\n    </tr>\n  </tbody>\n</table>\n<p>160 rows × 5 columns</p>\n</div>"
     },
     "execution_count": 21,
     "metadata": {},
     "output_type": "execute_result"
    }
   ],
   "source": [
    "rand_v_bnn_sel_fts_df"
   ],
   "metadata": {
    "collapsed": false,
    "pycharm": {
     "name": "#%%\n"
    }
   }
  },
  {
   "cell_type": "code",
   "execution_count": 27,
   "outputs": [
    {
     "data": {
      "text/plain": "                    cv_score  test_score\nfeat_sel num_feats                      \nbnn      5          0.556593    0.549040\n         10         0.579746    0.572535\n         15         0.609447    0.588322\n         20         0.626533    0.590565\nrandom   5          0.538098    0.552075\n         10         0.572175    0.569200\n         15         0.587249    0.588398\n         20         0.602351    0.589457",
      "text/html": "<div>\n<style scoped>\n    .dataframe tbody tr th:only-of-type {\n        vertical-align: middle;\n    }\n\n    .dataframe tbody tr th {\n        vertical-align: top;\n    }\n\n    .dataframe thead th {\n        text-align: right;\n    }\n</style>\n<table border=\"1\" class=\"dataframe\">\n  <thead>\n    <tr style=\"text-align: right;\">\n      <th></th>\n      <th></th>\n      <th>cv_score</th>\n      <th>test_score</th>\n    </tr>\n    <tr>\n      <th>feat_sel</th>\n      <th>num_feats</th>\n      <th></th>\n      <th></th>\n    </tr>\n  </thead>\n  <tbody>\n    <tr>\n      <th rowspan=\"4\" valign=\"top\">bnn</th>\n      <th>5</th>\n      <td>0.556593</td>\n      <td>0.549040</td>\n    </tr>\n    <tr>\n      <th>10</th>\n      <td>0.579746</td>\n      <td>0.572535</td>\n    </tr>\n    <tr>\n      <th>15</th>\n      <td>0.609447</td>\n      <td>0.588322</td>\n    </tr>\n    <tr>\n      <th>20</th>\n      <td>0.626533</td>\n      <td>0.590565</td>\n    </tr>\n    <tr>\n      <th rowspan=\"4\" valign=\"top\">random</th>\n      <th>5</th>\n      <td>0.538098</td>\n      <td>0.552075</td>\n    </tr>\n    <tr>\n      <th>10</th>\n      <td>0.572175</td>\n      <td>0.569200</td>\n    </tr>\n    <tr>\n      <th>15</th>\n      <td>0.587249</td>\n      <td>0.588398</td>\n    </tr>\n    <tr>\n      <th>20</th>\n      <td>0.602351</td>\n      <td>0.589457</td>\n    </tr>\n  </tbody>\n</table>\n</div>"
     },
     "execution_count": 27,
     "metadata": {},
     "output_type": "execute_result"
    }
   ],
   "source": [
    "rand_v_bnn_sel_fts_df.groupby([\"feat_sel\", \"num_feats\"])[[\"cv_score\", \"test_score\"]].mean()"
   ],
   "metadata": {
    "collapsed": false,
    "pycharm": {
     "name": "#%%\n"
    }
   }
  },
  {
   "cell_type": "code",
   "execution_count": null,
   "outputs": [],
   "source": [],
   "metadata": {
    "collapsed": false,
    "pycharm": {
     "name": "#%%\n"
    }
   }
  }
 ],
 "metadata": {
  "kernelspec": {
   "display_name": "Python 3",
   "language": "python",
   "name": "python3"
  },
  "language_info": {
   "codemirror_mode": {
    "name": "ipython",
    "version": 2
   },
   "file_extension": ".py",
   "mimetype": "text/x-python",
   "name": "python",
   "nbconvert_exporter": "python",
   "pygments_lexer": "ipython2",
   "version": "2.7.6"
  }
 },
 "nbformat": 4,
 "nbformat_minor": 0
}