{
 "cells": [
  {
   "cell_type": "code",
   "execution_count": 1,
   "metadata": {
    "pycharm": {
     "name": "#%%\n"
    }
   },
   "outputs": [
    {
     "name": "stdout",
     "output_type": "stream",
     "text": [
      "/home/abdu/bio_ai/moses-incons-pen-xp/notebooks/variable_selection/cancer/nn\n"
     ]
    }
   ],
   "source": [
    "import os\n",
    "os.environ[\"XLA_PYTHON_CLIENT_PREALLOCATE\"] = \"False\"\n",
    "os.environ[\"XLA_PYTHON_CLIENT_ALLOCATOR\"] = \"platform\"\n",
    "SERVER = 1\n",
    "\n",
    "if not SERVER:\n",
    "    %cd /home/xabush/code/snet/moses-incons-pen-xp/notebooks/variable_selection/cancer/nn\n",
    "\n",
    "else:\n",
    "    %cd /home/abdu/bio_ai/moses-incons-pen-xp/notebooks/variable_selection/cancer/nn\n",
    "\n",
    "import pandas as pd\n",
    "import matplotlib.pyplot as plt\n",
    "import tensorflow_probability.substrates.jax as tfp\n",
    "from sklearn.model_selection import train_test_split, cross_val_score, StratifiedKFold, KFold, GridSearchCV\n",
    "from sklearn.preprocessing import StandardScaler\n",
    "tfd = tfp.distributions\n",
    "import jax\n",
    "import haiku as hk\n",
    "import numpy as np\n",
    "import optax\n",
    "from nn_util import *\n",
    "from optim_util import *\n",
    "from bnn_models import *\n",
    "from train_utils import *\n",
    "from data_utils import *\n",
    "from hpo_util import *\n",
    "from exp_utils import *\n",
    "plt.style.use('ggplot')\n",
    "%load_ext autoreload"
   ]
  },
  {
   "cell_type": "code",
   "execution_count": 2,
   "metadata": {
    "pycharm": {
     "name": "#%%\n"
    }
   },
   "outputs": [],
   "source": [
    "if SERVER:\n",
    "    data_dir = \"/home/abdu/bio_ai/moses-incons-pen-xp/data\"\n",
    "else:\n",
    "    data_dir = \"/home/xabush/code/snet/moses-incons-pen-xp/data\""
   ]
  },
  {
   "cell_type": "markdown",
   "metadata": {
    "pycharm": {
     "name": "#%% md\n"
    }
   },
   "source": [
    "### GDSC Cell Line"
   ]
  },
  {
   "cell_type": "code",
   "execution_count": 3,
   "outputs": [
    {
     "data": {
      "text/plain": "(442, 37263)"
     },
     "execution_count": 3,
     "metadata": {},
     "output_type": "execute_result"
    }
   ],
   "source": [
    "gdsc_dir = f\"{data_dir}/cell_line/gdsc2\"\n",
    "gdsc_exp_data = pd.read_csv(f\"{gdsc_dir}/gdsc_gene_expr.csv\", index_col=\"model_id\")\n",
    "gdsc_exp_data.shape"
   ],
   "metadata": {
    "collapsed": false,
    "pycharm": {
     "name": "#%%\n"
    }
   }
  },
  {
   "cell_type": "code",
   "execution_count": 4,
   "outputs": [
    {
     "data": {
      "text/plain": "(242036, 18)"
     },
     "execution_count": 4,
     "metadata": {},
     "output_type": "execute_result"
    }
   ],
   "source": [
    "gdsc_response_data = pd.read_csv(f\"{gdsc_dir}/GDSC2_fitted_dose_response_24Jul22.csv\", index_col=\"SANGER_MODEL_ID\")\n",
    "gdsc_response_data.shape"
   ],
   "metadata": {
    "collapsed": false,
    "pycharm": {
     "name": "#%%\n"
    }
   }
  },
  {
   "cell_type": "markdown",
   "metadata": {
    "pycharm": {
     "name": "#%% md\n"
    }
   },
   "source": [
    "#### Bortezomib"
   ]
  },
  {
   "cell_type": "code",
   "execution_count": 46,
   "outputs": [
    {
     "data": {
      "text/plain": "UNCLASSIFIED    179\nLUAD             62\nSCLC             57\nSKCM             54\nBRCA             50\nCOREAD           44\nHNSC             39\nESCA             34\nDLBC             34\nOV               34\nGBM              33\nKIRC             32\nNB               32\nPAAD             29\nALL              26\nLAML             25\nSTAD             24\nMESO             21\nBLCA             18\nMM               17\nLGG              17\nTHCA             16\nLIHC             15\nLUSC             14\nCESC             14\nUCEC              9\nLCML              8\nPRAD              6\nMB                4\nCLL               2\nACC               1\nOTHER             1\nName: TCGA_DESC, dtype: int64"
     },
     "execution_count": 46,
     "metadata": {},
     "output_type": "execute_result"
    }
   ],
   "source": [
    "bortezomib_response = gdsc_response_data[gdsc_response_data[\"DRUG_NAME\"] == \"Tamoxifen\"]\n",
    "bortezomib_response[\"TCGA_DESC\"].value_counts()"
   ],
   "metadata": {
    "collapsed": false,
    "pycharm": {
     "name": "#%%\n"
    }
   }
  },
  {
   "cell_type": "code",
   "execution_count": 47,
   "metadata": {
    "pycharm": {
     "name": "#%%\n"
    }
   },
   "outputs": [
    {
     "data": {
      "text/plain": "(406, 37265)"
     },
     "execution_count": 47,
     "metadata": {},
     "output_type": "execute_result"
    }
   ],
   "source": [
    "gdsc_exp_bortezomib_data = pd.merge(gdsc_exp_data, bortezomib_response[[\"LN_IC50\", \"TCGA_DESC\"]], left_index=True, right_index=True)\n",
    "gdsc_exp_bortezomib_data.shape"
   ]
  },
  {
   "cell_type": "code",
   "execution_count": 48,
   "outputs": [
    {
     "data": {
      "text/plain": "UNCLASSIFIED    90\nCOREAD          28\nHNSC            24\nSKCM            22\nNB              21\nSCLC            20\nDLBC            19\nKIRC            19\nMESO            16\nCESC            14\nESCA            14\nGBM             13\nALL             13\nOV              12\nBRCA            10\nSTAD             9\nTHCA             8\nLGG              8\nLUAD             7\nLAML             7\nPAAD             5\nLCML             5\nBLCA             4\nMM               4\nLIHC             2\nPRAD             2\nLUSC             2\nUCEC             1\nACC              1\nMB               1\nName: TCGA_DESC, dtype: int64"
     },
     "execution_count": 48,
     "metadata": {},
     "output_type": "execute_result"
    }
   ],
   "source": [
    "gdsc_exp_bortezomib_data[\"TCGA_DESC\"].value_counts()"
   ],
   "metadata": {
    "collapsed": false,
    "pycharm": {
     "name": "#%%\n"
    }
   }
  },
  {
   "cell_type": "code",
   "execution_count": 20,
   "metadata": {
    "pycharm": {
     "name": "#%%\n"
    }
   },
   "outputs": [],
   "source": [
    "X, target = gdsc_exp_bortezomib_data.iloc[:,:-1], gdsc_exp_bortezomib_data.iloc[:,-1]\n",
    "# change to -log10(IC_50) to make it comparable\n",
    "target = -np.log10(np.exp(target)) # exp b/c the values are natural logs of raw IC_50\n",
    "cancer_driver_genes_df = pd.read_csv(f\"{data_dir}/cell_line/driver_genes_20221018.csv\")"
   ]
  },
  {
   "cell_type": "code",
   "execution_count": 21,
   "metadata": {
    "pycharm": {
     "name": "#%%\n"
    }
   },
   "outputs": [],
   "source": [
    "cols = X.columns.to_list()\n",
    "driver_syms = cancer_driver_genes_df[\"symbol\"].to_list()\n",
    "driver_sym_list = [sym.strip() for sym in cols if sym in driver_syms]"
   ]
  },
  {
   "cell_type": "code",
   "execution_count": 9,
   "outputs": [
    {
     "data": {
      "text/plain": "970"
     },
     "execution_count": 9,
     "metadata": {},
     "output_type": "execute_result"
    }
   ],
   "source": [
    "# landmark_genes_df = pd.read_table(f\"{data_dir}/cell_line/cmap_L1000_genes.txt\")\n",
    "# landmark_genes = [sym.strip() for sym in landmark_genes_df[\"Symbol\"].to_list() if sym in cols]\n",
    "# len(landmark_genes)"
   ],
   "metadata": {
    "collapsed": false,
    "pycharm": {
     "name": "#%%\n"
    }
   }
  },
  {
   "cell_type": "code",
   "execution_count": 27,
   "metadata": {
    "pycharm": {
     "name": "#%%\n"
    }
   },
   "outputs": [
    {
     "data": {
      "text/plain": "(699, 768)"
     },
     "execution_count": 27,
     "metadata": {},
     "output_type": "execute_result"
    }
   ],
   "source": [
    "X_selected = X[driver_sym_list]\n",
    "X_selected.shape"
   ]
  },
  {
   "cell_type": "markdown",
   "metadata": {
    "pycharm": {
     "name": "#%% md\n"
    }
   },
   "source": [
    "#### Data Preprocessing"
   ]
  },
  {
   "cell_type": "code",
   "execution_count": 28,
   "outputs": [],
   "source": [
    "from sklearn.preprocessing import QuantileTransformer, PowerTransformer, RobustScaler, MinMaxScaler, Normalizer, StandardScaler\n",
    "seed = 261\n",
    "transformer = QuantileTransformer(random_state=seed, output_distribution=\"normal\")\n",
    "X_train_outer, X_train, X_val, X_test, \\\n",
    "y_train_outer, y_train, y_val, y_test, _ = preprocess_data(seed, X_selected, target,\n",
    "                                                           transformer, val_size=0.2, test_size=0.2)"
   ],
   "metadata": {
    "collapsed": false,
    "pycharm": {
     "name": "#%%\n"
    }
   }
  },
  {
   "cell_type": "code",
   "execution_count": 29,
   "outputs": [
    {
     "name": "stdout",
     "output_type": "stream",
     "text": [
      "11862\n"
     ]
    },
    {
     "data": {
      "text/plain": "12548"
     },
     "execution_count": 29,
     "metadata": {},
     "output_type": "execute_result"
    }
   ],
   "source": [
    "from scipy.sparse import csgraph\n",
    "J = np.load(f\"{data_dir}/cell_line/cancer_genes_net.npy\")\n",
    "# J_lm = np.load(f\"{data_dir}/cell_line/landmark_genes_net.npy\")\n",
    "print(np.count_nonzero(J))\n",
    "J_zeros  = np.zeros_like(J)\n",
    "L = csgraph.laplacian(J, normed=True)\n",
    "np.count_nonzero(L)\n",
    "# print(np.count_nonzero(J_lm))"
   ],
   "metadata": {
    "collapsed": false,
    "pycharm": {
     "name": "#%%\n"
    }
   }
  },
  {
   "cell_type": "code",
   "execution_count": 41,
   "outputs": [],
   "source": [
    "# rh_network = pd.read_table(f\"{data_dir}/cell_line/fully_combined_RH_network.txt\")"
   ],
   "metadata": {
    "collapsed": false,
    "pycharm": {
     "name": "#%%\n"
    }
   }
  },
  {
   "cell_type": "markdown",
   "source": [
    "#### Multiple Runs"
   ],
   "metadata": {
    "collapsed": false,
    "pycharm": {
     "name": "#%% md\n"
    }
   }
  },
  {
   "cell_type": "code",
   "execution_count": null,
   "outputs": [
    {
     "name": "stdout",
     "output_type": "stream",
     "text": [
      "20\n"
     ]
    },
    {
     "name": "stderr",
     "output_type": "stream",
     "text": [
      "  0%|                                                                                            | 0/20 [00:00<?, ?it/s]"
     ]
    }
   ],
   "source": [
    "%autoreload\n",
    "import warnings\n",
    "warnings.filterwarnings(\"ignore\")\n",
    "\n",
    "hp_configs = {\"epochs\": 500, \"num_cycles\": 50, \"batch_size\": 32, \"act_fn\": \"swish\",\n",
    "              \"beta\": 0.25, \"lr_0\": 1e-3, \"disc_lr_0\": 0.5, \"hidden_sizes\": [500],\n",
    "              \"temp\": 1.0, \"sigma\": 1.0, \"num_models\": 2}\n",
    "\n",
    "save_dir = f\"{data_dir}/exp_data_5/cancer/gdsc/oxaliplatin\"\n",
    "\n",
    "VERSION = \"1a\"\n",
    "\n",
    "seeds = [422,261,968,282,739,573,220,413,745,775,482,442,210,423,760,57,769,920,226,196]\n",
    "curr_seeds = seeds\n",
    "print(len(curr_seeds))\n",
    "cross_val_runs(curr_seeds, X_selected, target, L, VERSION, save_dir, saved_config=False, **hp_configs)\n"
   ],
   "metadata": {
    "collapsed": false,
    "pycharm": {
     "name": "#%%\n",
     "is_executing": true
    }
   }
  },
  {
   "cell_type": "code",
   "execution_count": 24,
   "outputs": [
    {
     "data": {
      "text/plain": "            test_rmse  test_r2_score\nmodel                               \nBNN + BG     0.381585       0.145135\nBNN w/o BG   0.381317       0.146375\nRF           0.388628       0.114299",
      "text/html": "<div>\n<style scoped>\n    .dataframe tbody tr th:only-of-type {\n        vertical-align: middle;\n    }\n\n    .dataframe tbody tr th {\n        vertical-align: top;\n    }\n\n    .dataframe thead th {\n        text-align: right;\n    }\n</style>\n<table border=\"1\" class=\"dataframe\">\n  <thead>\n    <tr style=\"text-align: right;\">\n      <th></th>\n      <th>test_rmse</th>\n      <th>test_r2_score</th>\n    </tr>\n    <tr>\n      <th>model</th>\n      <th></th>\n      <th></th>\n    </tr>\n  </thead>\n  <tbody>\n    <tr>\n      <th>BNN + BG</th>\n      <td>0.381585</td>\n      <td>0.145135</td>\n    </tr>\n    <tr>\n      <th>BNN w/o BG</th>\n      <td>0.381317</td>\n      <td>0.146375</td>\n    </tr>\n    <tr>\n      <th>RF</th>\n      <td>0.388628</td>\n      <td>0.114299</td>\n    </tr>\n  </tbody>\n</table>\n</div>"
     },
     "execution_count": 24,
     "metadata": {},
     "output_type": "execute_result"
    }
   ],
   "source": [
    "res_dfs = []\n",
    "for seed in curr_seeds:\n",
    "    df = pd.read_csv(f\"{save_dir}/results/bnn_rf_bg_s_{seed}_v{VERSION}.csv\")\n",
    "    res_dfs.append(df)\n",
    "\n",
    "bnn_rf_df_1a = pd.concat(res_dfs, ignore_index=True, axis=0)\n",
    "# bnn_rf_df_1a = bnn_rf_df_1a.drop_duplicates()\n",
    "bnn_rf_df_1a.groupby([\"model\"]).mean().iloc[:,1:]"
   ],
   "metadata": {
    "collapsed": false,
    "pycharm": {
     "name": "#%%\n"
    }
   }
  },
  {
   "cell_type": "code",
   "execution_count": 32,
   "outputs": [
    {
     "data": {
      "text/plain": "            test_rmse  test_r2_score\nmodel                               \nBNN + BG     0.576784       0.441580\nBNN w/o BG   0.574455       0.446608\nRF           0.575227       0.445428",
      "text/html": "<div>\n<style scoped>\n    .dataframe tbody tr th:only-of-type {\n        vertical-align: middle;\n    }\n\n    .dataframe tbody tr th {\n        vertical-align: top;\n    }\n\n    .dataframe thead th {\n        text-align: right;\n    }\n</style>\n<table border=\"1\" class=\"dataframe\">\n  <thead>\n    <tr style=\"text-align: right;\">\n      <th></th>\n      <th>test_rmse</th>\n      <th>test_r2_score</th>\n    </tr>\n    <tr>\n      <th>model</th>\n      <th></th>\n      <th></th>\n    </tr>\n  </thead>\n  <tbody>\n    <tr>\n      <th>BNN + BG</th>\n      <td>0.576784</td>\n      <td>0.441580</td>\n    </tr>\n    <tr>\n      <th>BNN w/o BG</th>\n      <td>0.574455</td>\n      <td>0.446608</td>\n    </tr>\n    <tr>\n      <th>RF</th>\n      <td>0.575227</td>\n      <td>0.445428</td>\n    </tr>\n  </tbody>\n</table>\n</div>"
     },
     "execution_count": 32,
     "metadata": {},
     "output_type": "execute_result"
    }
   ],
   "source": [
    "res_dfs = []\n",
    "for seed in curr_seeds:\n",
    "    df = pd.read_csv(f\"{save_dir}/results/bnn_rf_bg_s_{seed}_v{VERSION}.csv\")\n",
    "    res_dfs.append(df)\n",
    "\n",
    "bnn_rf_df_1a = pd.concat(res_dfs, ignore_index=True, axis=0)\n",
    "# bnn_rf_df_1a = bnn_rf_df_1a.drop_duplicates()\n",
    "bnn_rf_df_1a.groupby([\"model\"]).mean().iloc[:,1:]"
   ],
   "metadata": {
    "collapsed": false,
    "pycharm": {
     "name": "#%%\n"
    }
   }
  },
  {
   "cell_type": "code",
   "execution_count": 1,
   "outputs": [
    {
     "ename": "NameError",
     "evalue": "name 'bnn_rf_df_1a' is not defined",
     "output_type": "error",
     "traceback": [
      "\u001B[0;31m---------------------------------------------------------------------------\u001B[0m",
      "\u001B[0;31mNameError\u001B[0m                                 Traceback (most recent call last)",
      "Cell \u001B[0;32mIn[1], line 3\u001B[0m\n\u001B[1;32m      1\u001B[0m \u001B[38;5;28;01mfrom\u001B[39;00m \u001B[38;5;21;01mscipy\u001B[39;00m \u001B[38;5;28;01mimport\u001B[39;00m stats\n\u001B[0;32m----> 3\u001B[0m bg_test_rmse \u001B[38;5;241m=\u001B[39m \u001B[43mbnn_rf_df_1a\u001B[49m[bnn_rf_df_1a[\u001B[38;5;124m\"\u001B[39m\u001B[38;5;124mmodel\u001B[39m\u001B[38;5;124m\"\u001B[39m] \u001B[38;5;241m==\u001B[39m \u001B[38;5;124m\"\u001B[39m\u001B[38;5;124mBNN + BG\u001B[39m\u001B[38;5;124m\"\u001B[39m][\u001B[38;5;124m\"\u001B[39m\u001B[38;5;124mtest_rmse\u001B[39m\u001B[38;5;124m\"\u001B[39m]\u001B[38;5;241m.\u001B[39mto_list()\n\u001B[1;32m      4\u001B[0m bnn_test_rmse \u001B[38;5;241m=\u001B[39m bnn_rf_df_1a[bnn_rf_df_1a[\u001B[38;5;124m\"\u001B[39m\u001B[38;5;124mmodel\u001B[39m\u001B[38;5;124m\"\u001B[39m] \u001B[38;5;241m==\u001B[39m \u001B[38;5;124m\"\u001B[39m\u001B[38;5;124mBNN w/o BG\u001B[39m\u001B[38;5;124m\"\u001B[39m][\u001B[38;5;124m\"\u001B[39m\u001B[38;5;124mtest_rmse\u001B[39m\u001B[38;5;124m\"\u001B[39m]\u001B[38;5;241m.\u001B[39mto_list()\n\u001B[1;32m      5\u001B[0m rf_test_rmse \u001B[38;5;241m=\u001B[39m bnn_rf_df_1a[bnn_rf_df_1a[\u001B[38;5;124m\"\u001B[39m\u001B[38;5;124mmodel\u001B[39m\u001B[38;5;124m\"\u001B[39m] \u001B[38;5;241m==\u001B[39m \u001B[38;5;124m\"\u001B[39m\u001B[38;5;124mRF\u001B[39m\u001B[38;5;124m\"\u001B[39m][\u001B[38;5;124m\"\u001B[39m\u001B[38;5;124mtest_rmse\u001B[39m\u001B[38;5;124m\"\u001B[39m]\u001B[38;5;241m.\u001B[39mto_list()\n",
      "\u001B[0;31mNameError\u001B[0m: name 'bnn_rf_df_1a' is not defined"
     ]
    }
   ],
   "source": [
    "from scipy import stats\n",
    "\n",
    "bg_test_rmse = bnn_rf_df_1a[bnn_rf_df_1a[\"model\"] == \"BNN + BG\"][\"test_rmse\"].to_list()\n",
    "bnn_test_rmse = bnn_rf_df_1a[bnn_rf_df_1a[\"model\"] == \"BNN w/o BG\"][\"test_rmse\"].to_list()\n",
    "rf_test_rmse = bnn_rf_df_1a[bnn_rf_df_1a[\"model\"] == \"RF\"][\"test_rmse\"].to_list()"
   ],
   "metadata": {
    "collapsed": false,
    "pycharm": {
     "name": "#%%\n"
    }
   }
  },
  {
   "cell_type": "code",
   "execution_count": 27,
   "outputs": [
    {
     "data": {
      "text/plain": "TtestResult(statistic=0.19716506991220373, pvalue=0.8457922340719454, df=19)"
     },
     "execution_count": 27,
     "metadata": {},
     "output_type": "execute_result"
    }
   ],
   "source": [
    "stats.ttest_rel(bg_test_rmse, bnn_test_rmse)"
   ],
   "metadata": {
    "collapsed": false,
    "pycharm": {
     "name": "#%%\n"
    }
   }
  },
  {
   "cell_type": "code",
   "execution_count": 30,
   "outputs": [
    {
     "data": {
      "text/plain": "TtestResult(statistic=-3.101879445163787, pvalue=0.002935237906388704, df=19)"
     },
     "execution_count": 30,
     "metadata": {},
     "output_type": "execute_result"
    }
   ],
   "source": [
    "stats.ttest_rel(bg_test_rmse, rf_test_rmse, alternative=\"less\")"
   ],
   "metadata": {
    "collapsed": false,
    "pycharm": {
     "name": "#%%\n"
    }
   }
  },
  {
   "cell_type": "code",
   "execution_count": 31,
   "outputs": [
    {
     "data": {
      "text/plain": "TtestResult(statistic=-3.6728817236255917, pvalue=0.0008083160022980595, df=19)"
     },
     "execution_count": 31,
     "metadata": {},
     "output_type": "execute_result"
    }
   ],
   "source": [
    "stats.ttest_rel(bnn_test_rmse, rf_test_rmse, alternative=\"less\")"
   ],
   "metadata": {
    "collapsed": false,
    "pycharm": {
     "name": "#%%\n"
    }
   }
  },
  {
   "cell_type": "code",
   "execution_count": 42,
   "outputs": [
    {
     "data": {
      "text/plain": "0.04335967536554988"
     },
     "execution_count": 42,
     "metadata": {},
     "output_type": "execute_result"
    }
   ],
   "source": [
    "np.std(rf_test_rmse)"
   ],
   "metadata": {
    "collapsed": false,
    "pycharm": {
     "name": "#%%\n"
    }
   }
  },
  {
   "cell_type": "code",
   "execution_count": 30,
   "outputs": [],
   "source": [
    "import pickle\n",
    "bg_bnn_configs = []\n",
    "for seed in curr_seeds:\n",
    "    bg_bnn_configs.append(pickle.load(open(f\"{save_dir}/configs/bg_bnn_config_s_{seed}_optuna_v{VERSION}.pkl\", \"rb\")))"
   ],
   "metadata": {
    "collapsed": false,
    "pycharm": {
     "name": "#%%\n"
    }
   }
  },
  {
   "cell_type": "code",
   "execution_count": 31,
   "outputs": [],
   "source": [
    "bnn_configs = []\n",
    "for seed in curr_seeds:\n",
    "    bnn_configs.append(pickle.load(open(f\"{save_dir}/configs/bnn_config_s_{seed}_optuna_v{VERSION}.pkl\", \"rb\")))"
   ],
   "metadata": {
    "collapsed": false,
    "pycharm": {
     "name": "#%%\n"
    }
   }
  },
  {
   "cell_type": "markdown",
   "source": [
    "#### Zero-Out Ranking"
   ],
   "metadata": {
    "collapsed": false,
    "pycharm": {
     "name": "#%% md\n"
    }
   }
  },
  {
   "cell_type": "code",
   "execution_count": 40,
   "outputs": [],
   "source": [
    "%autoreload\n",
    "hp_configs = {\"epochs\": 500, \"num_cycles\": 50, \"batch_size\": 32, \"act_fn\": \"swish\",\n",
    "              \"beta\": 0.25, \"lr_0\": 1e-3, \"disc_lr_0\": 0.5, \"hidden_sizes\": [500],\n",
    "              \"temp\": 1.0, \"sigma\": 1.0, \"num_models\": 2}\n",
    "\n",
    "save_dir = f\"{data_dir}/exp_data_5/cancer/gdsc/bortezomib\"\n",
    "\n",
    "VERSION = \"1a\"\n",
    "\n",
    "seeds = [422,261,968,282,739,573,220,413,745,775,482,442,210,423,760,57,769,920,226,196]\n",
    "curr_seeds = seeds\n",
    "num_feats = [10, 20, 30, 40, 50]\n",
    "# zero_out_ranking(curr_seeds, X_selected, target, L, num_feats,\n",
    "#                  VERSION, save_dir, dropout=False, **hp_configs)"
   ],
   "metadata": {
    "collapsed": false,
    "pycharm": {
     "name": "#%%\n"
    }
   }
  },
  {
   "cell_type": "code",
   "execution_count": 39,
   "outputs": [
    {
     "data": {
      "text/plain": "                    test_rmse_score\nmodel    num_feats                 \nBNN      10                0.416322\n         20                0.416129\n         30                0.414190\n         40                0.412279\n         50                0.409921\nBNN + BG 10                0.421970\n         20                0.418734\n         30                0.417337\n         40                0.414566\n         50                0.411154\nRF       10                0.413269\n         20                0.410905\n         30                0.409383\n         40                0.407776\n         50                0.406726",
      "text/html": "<div>\n<style scoped>\n    .dataframe tbody tr th:only-of-type {\n        vertical-align: middle;\n    }\n\n    .dataframe tbody tr th {\n        vertical-align: top;\n    }\n\n    .dataframe thead th {\n        text-align: right;\n    }\n</style>\n<table border=\"1\" class=\"dataframe\">\n  <thead>\n    <tr style=\"text-align: right;\">\n      <th></th>\n      <th></th>\n      <th>test_rmse_score</th>\n    </tr>\n    <tr>\n      <th>model</th>\n      <th>num_feats</th>\n      <th></th>\n    </tr>\n  </thead>\n  <tbody>\n    <tr>\n      <th rowspan=\"5\" valign=\"top\">BNN</th>\n      <th>10</th>\n      <td>0.416322</td>\n    </tr>\n    <tr>\n      <th>20</th>\n      <td>0.416129</td>\n    </tr>\n    <tr>\n      <th>30</th>\n      <td>0.414190</td>\n    </tr>\n    <tr>\n      <th>40</th>\n      <td>0.412279</td>\n    </tr>\n    <tr>\n      <th>50</th>\n      <td>0.409921</td>\n    </tr>\n    <tr>\n      <th rowspan=\"5\" valign=\"top\">BNN + BG</th>\n      <th>10</th>\n      <td>0.421970</td>\n    </tr>\n    <tr>\n      <th>20</th>\n      <td>0.418734</td>\n    </tr>\n    <tr>\n      <th>30</th>\n      <td>0.417337</td>\n    </tr>\n    <tr>\n      <th>40</th>\n      <td>0.414566</td>\n    </tr>\n    <tr>\n      <th>50</th>\n      <td>0.411154</td>\n    </tr>\n    <tr>\n      <th rowspan=\"5\" valign=\"top\">RF</th>\n      <th>10</th>\n      <td>0.413269</td>\n    </tr>\n    <tr>\n      <th>20</th>\n      <td>0.410905</td>\n    </tr>\n    <tr>\n      <th>30</th>\n      <td>0.409383</td>\n    </tr>\n    <tr>\n      <th>40</th>\n      <td>0.407776</td>\n    </tr>\n    <tr>\n      <th>50</th>\n      <td>0.406726</td>\n    </tr>\n  </tbody>\n</table>\n</div>"
     },
     "execution_count": 39,
     "metadata": {},
     "output_type": "execute_result"
    }
   ],
   "source": [
    "# save_dir = f\"{data_dir}/exp_data_5/cancer/gdsc/bortezomib\"\n",
    "res_dfs = []\n",
    "for seed in curr_seeds:\n",
    "    df = pd.read_csv(f\"{save_dir}/results/feat_zero_out_comp_bnn_bg_rf_s_{seed}_ig_v{VERSION}.csv\")\n",
    "    res_dfs.append(df)\n",
    "\n",
    "bg_bnn_res_zero_out_1a = pd.concat(res_dfs, axis=0)\n",
    "# bg_bnn_res_zero_out_1a = bg_bnn_res_zero_out_1a.drop_duplicates()\n",
    "bg_bnn_res_zero_out_1a.groupby([\"model\", \"num_feats\"]).mean().iloc[:,1:]"
   ],
   "metadata": {
    "collapsed": false,
    "pycharm": {
     "name": "#%%\n"
    }
   }
  },
  {
   "cell_type": "code",
   "execution_count": 41,
   "outputs": [
    {
     "data": {
      "text/plain": "<Figure size 800x600 with 1 Axes>",
      "image/png": "[encoded data removed]"
     },
     "metadata": {},
     "output_type": "display_data"
    }
   ],
   "source": [
    "plt.rcParams[\"figure.figsize\"] = (8,6)\n",
    "for model in [\"BNN\", \"BNN + BG\", \"RF\"]:\n",
    "    plt.plot(num_feats, bg_bnn_res_zero_out_1a[bg_bnn_res_zero_out_1a[\"model\"] == model].groupby([\"num_feats\"]).mean()[\"test_rmse_score\"].to_list(), label=model)\n",
    "    plt.xticks(num_feats)\n",
    "    plt.ylabel(\"Test RMSE\")\n",
    "    plt.xlabel(\"Num feats\")\n",
    "    plt.legend()"
   ],
   "metadata": {
    "collapsed": false,
    "pycharm": {
     "name": "#%%\n"
    }
   }
  },
  {
   "cell_type": "markdown",
   "source": [
    "### Retrain Ranking"
   ],
   "metadata": {
    "collapsed": false,
    "pycharm": {
     "name": "#%% md\n"
    }
   }
  },
  {
   "cell_type": "code",
   "execution_count": 12,
   "outputs": [
    {
     "name": "stderr",
     "output_type": "stream",
     "text": [
      "100%|██████████████████████████████████████████████████████████████████████████████████| 20/20 [42:26<00:00, 127.33s/it]"
     ]
    },
    {
     "name": "stdout",
     "output_type": "stream",
     "text": [
      "Done\n"
     ]
    },
    {
     "name": "stderr",
     "output_type": "stream",
     "text": [
      "\n"
     ]
    }
   ],
   "source": [
    "import warnings\n",
    "warnings.filterwarnings(\"ignore\")\n",
    "retrain_hp_configs = {\"epochs\": 500, \"num_cycles\": 50, \"batch_size\": 32, \"act_fn\": \"swish\",\n",
    "                      \"beta\": 0.36, \"lr_0\": 1e-3, \"disc_lr_0\": 0.5, \"hidden_sizes\": [500],\n",
    "                      \"temp\": 1.0, \"sigma\": 1.0, \"num_models\": 2,\n",
    "                      \"mlp_config\": {\"epochs\": 500, \"lr_0\": 1e-3, \"hidden_sizes\": [50],\n",
    "                                     \"act_fn\": \"swish\"}}\n",
    "\n",
    "save_dir = f\"{data_dir}/exp_data_5/cancer/gdsc/bortezomib\"\n",
    "\n",
    "VERSION = \"1a\"\n",
    "\n",
    "num_feats = [10, 20, 30, 40, 50]\n",
    "seeds = [422,261,968,282,739,573,220,413,745,775,482,442,210,423,760,57,769,920,226,196]\n",
    "curr_seeds = seeds\n",
    "retrain_with_mlp(curr_seeds, X_selected, target, L, num_feats, VERSION, save_dir, dropout=False,\n",
    "                 **retrain_hp_configs)"
   ],
   "metadata": {
    "collapsed": false,
    "pycharm": {
     "name": "#%%\n"
    }
   }
  },
  {
   "cell_type": "code",
   "execution_count": 14,
   "outputs": [
    {
     "data": {
      "text/plain": "                    test_rmse_score\nmodel    num_feats                 \nBNN      10                0.579363\n         20                0.717795\n         30                0.715821\n         40                0.690571\n         50                0.675981\nBNN + BG 10                0.570403\n         20                0.769370\n         30                0.693001\n         40                0.678657\n         50                0.670530\nRF       10                0.475870\n         20                0.655604\n         30                0.693627\n         40                0.657213\n         50                0.675565",
      "text/html": "<div>\n<style scoped>\n    .dataframe tbody tr th:only-of-type {\n        vertical-align: middle;\n    }\n\n    .dataframe tbody tr th {\n        vertical-align: top;\n    }\n\n    .dataframe thead th {\n        text-align: right;\n    }\n</style>\n<table border=\"1\" class=\"dataframe\">\n  <thead>\n    <tr style=\"text-align: right;\">\n      <th></th>\n      <th></th>\n      <th>test_rmse_score</th>\n    </tr>\n    <tr>\n      <th>model</th>\n      <th>num_feats</th>\n      <th></th>\n    </tr>\n  </thead>\n  <tbody>\n    <tr>\n      <th rowspan=\"5\" valign=\"top\">BNN</th>\n      <th>10</th>\n      <td>0.579363</td>\n    </tr>\n    <tr>\n      <th>20</th>\n      <td>0.717795</td>\n    </tr>\n    <tr>\n      <th>30</th>\n      <td>0.715821</td>\n    </tr>\n    <tr>\n      <th>40</th>\n      <td>0.690571</td>\n    </tr>\n    <tr>\n      <th>50</th>\n      <td>0.675981</td>\n    </tr>\n    <tr>\n      <th rowspan=\"5\" valign=\"top\">BNN + BG</th>\n      <th>10</th>\n      <td>0.570403</td>\n    </tr>\n    <tr>\n      <th>20</th>\n      <td>0.769370</td>\n    </tr>\n    <tr>\n      <th>30</th>\n      <td>0.693001</td>\n    </tr>\n    <tr>\n      <th>40</th>\n      <td>0.678657</td>\n    </tr>\n    <tr>\n      <th>50</th>\n      <td>0.670530</td>\n    </tr>\n    <tr>\n      <th rowspan=\"5\" valign=\"top\">RF</th>\n      <th>10</th>\n      <td>0.475870</td>\n    </tr>\n    <tr>\n      <th>20</th>\n      <td>0.655604</td>\n    </tr>\n    <tr>\n      <th>30</th>\n      <td>0.693627</td>\n    </tr>\n    <tr>\n      <th>40</th>\n      <td>0.657213</td>\n    </tr>\n    <tr>\n      <th>50</th>\n      <td>0.675565</td>\n    </tr>\n  </tbody>\n</table>\n</div>"
     },
     "execution_count": 14,
     "metadata": {},
     "output_type": "execute_result"
    }
   ],
   "source": [
    "save_dir = f\"{data_dir}/exp_data_5/cancer/gdsc/bortezomib\"\n",
    "res_dfs = []\n",
    "for seed in curr_seeds:\n",
    "    df = pd.read_csv(f\"{save_dir}/results/feat_retrain_comp_bnn_bg_rf_s_{seed}_ig_v{VERSION}.csv\")\n",
    "    res_dfs.append(df)\n",
    "\n",
    "bg_bnn_res_retrain_1a = pd.concat(res_dfs, axis=0)\n",
    "# bg_bnn_res_retrain_1a = bg_bnn_res_retrain_1a.drop_duplicates()\n",
    "bg_bnn_res_retrain_1a.groupby([\"model\", \"num_feats\"]).mean().iloc[:,1:]"
   ],
   "metadata": {
    "collapsed": false,
    "pycharm": {
     "name": "#%%\n"
    }
   }
  },
  {
   "cell_type": "code",
   "execution_count": 15,
   "outputs": [
    {
     "data": {
      "text/plain": "<Figure size 800x600 with 1 Axes>",
      "image/png": "[encoded data removed]"
     },
     "metadata": {},
     "output_type": "display_data"
    }
   ],
   "source": [
    "plt.rcParams[\"figure.figsize\"] = (8,6)\n",
    "for model in [\"BNN\", \"BNN + BG\", \"RF\"]:\n",
    "    plt.plot(num_feats, bg_bnn_res_retrain_1a[bg_bnn_res_retrain_1a[\"model\"] == model].groupby([\"num_feats\"]).mean()[\"test_rmse_score\"].to_list(), label=model)\n",
    "    plt.xticks(num_feats)\n",
    "    plt.ylabel(\"Test RMSE\")\n",
    "    plt.xlabel(\"Num feats\")\n",
    "    plt.legend()"
   ],
   "metadata": {
    "collapsed": false,
    "pycharm": {
     "name": "#%%\n"
    }
   }
  }
 ],
 "metadata": {
  "kernelspec": {
   "display_name": "Python 3 (ipykernel)",
   "language": "python",
   "name": "python3"
  },
  "language_info": {
   "codemirror_mode": {
    "name": "ipython",
    "version": 3
   },
   "file_extension": ".py",
   "mimetype": "text/x-python",
   "name": "python",
   "nbconvert_exporter": "python",
   "pygments_lexer": "ipython3",
   "version": "3.8.10 (default, Mar 15 2022, 12:22:08) \n[GCC 9.4.0]"
  },
  "orig_nbformat": 4,
  "vscode": {
   "interpreter": {
    "hash": "916dbcbb3f70747c44a77c7bcd40155683ae19c65e1c03b4aa3499c5328201f1"
   }
  }
 },
 "nbformat": 4,
 "nbformat_minor": 2
}