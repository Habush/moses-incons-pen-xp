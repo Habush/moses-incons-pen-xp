{
 "cells": [
  {
   "cell_type": "code",
   "execution_count": 1,
   "metadata": {
    "pycharm": {
     "name": "#%%\n"
    }
   },
   "outputs": [
    {
     "name": "stdout",
     "output_type": "stream",
     "text": [
      "Looking in links: https://storage.googleapis.com/jax-releases/jax_cuda_releases.html\r\n",
      "Requirement already satisfied: jaxlib[cuda112] in /usr/local/lib/python3.9/dist-packages (0.3.8+cuda11.cudnn82)\r\n",
      "Collecting jaxlib[cuda112]\r\n",
      "  Downloading https://storage.googleapis.com/jax-releases/cuda11/jaxlib-0.4.2%2Bcuda11.cudnn86-cp39-cp39-manylinux2014_x86_64.whl (167.0 MB)\r\n",
      "\u001B[2K     \u001B[90m━━━━━━━━━━━━━━━━━━━━━━━━━━━━━━━━━━━━━━\u001B[0m \u001B[32m167.0/167.0 MB\u001B[0m \u001B[31m11.6 MB/s\u001B[0m eta \u001B[36m0:00:00\u001B[0m00:01\u001B[0m00:01\u001B[0m\r\n",
      "\u001B[?25h\u001B[33mWARNING: jaxlib 0.4.2+cuda11.cudnn86 does not provide the extra 'cuda112'\u001B[0m\u001B[33m\r\n",
      "\u001B[0mRequirement already satisfied: numpy>=1.20 in /usr/local/lib/python3.9/dist-packages (from jaxlib[cuda112]) (1.23.1)\r\n",
      "Requirement already satisfied: scipy>=1.5 in /usr/local/lib/python3.9/dist-packages (from jaxlib[cuda112]) (1.8.1)\r\n",
      "Installing collected packages: jaxlib\r\n",
      "  Attempting uninstall: jaxlib\r\n",
      "    Found existing installation: jaxlib 0.3.8+cuda11.cudnn82\r\n",
      "    Uninstalling jaxlib-0.3.8+cuda11.cudnn82:\r\n",
      "      Successfully uninstalled jaxlib-0.3.8+cuda11.cudnn82\r\n",
      "Successfully installed jaxlib-0.4.2+cuda11.cudnn86\r\n",
      "\u001B[33mWARNING: Running pip as the 'root' user can result in broken permissions and conflicting behaviour with the system package manager. It is recommended to use a virtual environment instead: https://pip.pypa.io/warnings/venv\u001B[0m\u001B[33m\r\n",
      "\u001B[0mLooking in links: https://storage.googleapis.com/jax-releases/jax_cuda_releases.html\r\n",
      "Requirement already satisfied: jax[cuda112] in /usr/local/lib/python3.9/dist-packages (0.3.14)\r\n",
      "Collecting jax[cuda112]\r\n",
      "  Downloading jax-0.4.2.tar.gz (1.2 MB)\r\n",
      "\u001B[2K     \u001B[90m━━━━━━━━━━━━━━━━━━━━━━━━━━━━━━━━━━━━━━━━\u001B[0m \u001B[32m1.2/1.2 MB\u001B[0m \u001B[31m58.1 MB/s\u001B[0m eta \u001B[36m0:00:00\u001B[0m\r\n",
      "\u001B[?25h  Preparing metadata (setup.py) ... \u001B[?25ldone\r\n",
      "\u001B[33mWARNING: jax 0.4.2 does not provide the extra 'cuda112'\u001B[0m\u001B[33m\r\n",
      "\u001B[0m\u001B[?25hRequirement already satisfied: numpy>=1.20 in /usr/local/lib/python3.9/dist-packages (from jax[cuda112]) (1.23.1)\r\n",
      "Requirement already satisfied: opt_einsum in /usr/local/lib/python3.9/dist-packages (from jax[cuda112]) (3.3.0)\r\n",
      "Requirement already satisfied: scipy>=1.5 in /usr/local/lib/python3.9/dist-packages (from jax[cuda112]) (1.8.1)\r\n",
      "Building wheels for collected packages: jax\r\n",
      "  Building wheel for jax (setup.py) ... \u001B[?25ldone\r\n",
      "\u001B[?25h  Created wheel for jax: filename=jax-0.4.2-py3-none-any.whl size=1363010 sha256=94b4b86acec5c15112552165c1b27dc87c185100c00b62848200ad88699d6021\r\n",
      "  Stored in directory: /root/.cache/pip/wheels/dc/4f/2b/e0dd187e3644b96d8d54f832ec9f9a4560dfb0a896f55dffe4\r\n",
      "Successfully built jax\r\n",
      "Installing collected packages: jax\r\n",
      "  Attempting uninstall: jax\r\n",
      "    Found existing installation: jax 0.3.14\r\n",
      "    Uninstalling jax-0.3.14:\r\n",
      "      Successfully uninstalled jax-0.3.14\r\n",
      "Successfully installed jax-0.4.2\r\n",
      "\u001B[33mWARNING: Running pip as the 'root' user can result in broken permissions and conflicting behaviour with the system package manager. It is recommended to use a virtual environment instead: https://pip.pypa.io/warnings/venv\u001B[0m\u001B[33m\r\n",
      "\u001B[0mCollecting optax\r\n",
      "  Downloading optax-0.1.4-py3-none-any.whl (154 kB)\r\n",
      "\u001B[2K     \u001B[90m━━━━━━━━━━━━━━━━━━━━━━━━━━━━━━━━━━━━━━\u001B[0m \u001B[32m154.9/154.9 kB\u001B[0m \u001B[31m25.8 MB/s\u001B[0m eta \u001B[36m0:00:00\u001B[0m\r\n",
      "\u001B[?25hRequirement already satisfied: jax>=0.1.55 in /usr/local/lib/python3.9/dist-packages (from optax) (0.4.2)\r\n",
      "Requirement already satisfied: typing-extensions>=3.10.0 in /usr/local/lib/python3.9/dist-packages (from optax) (4.3.0)\r\n",
      "Requirement already satisfied: jaxlib>=0.1.37 in /usr/local/lib/python3.9/dist-packages (from optax) (0.4.2+cuda11.cudnn86)\r\n",
      "Requirement already satisfied: numpy>=1.18.0 in /usr/local/lib/python3.9/dist-packages (from optax) (1.23.1)\r\n",
      "Collecting chex>=0.1.5\r\n",
      "  Downloading chex-0.1.5-py3-none-any.whl (85 kB)\r\n",
      "\u001B[2K     \u001B[90m━━━━━━━━━━━━━━━━━━━━━━━━━━━━━━━━━━━━━━━━\u001B[0m \u001B[32m85.3/85.3 kB\u001B[0m \u001B[31m33.2 MB/s\u001B[0m eta \u001B[36m0:00:00\u001B[0m\r\n",
      "\u001B[?25hRequirement already satisfied: absl-py>=0.7.1 in /usr/local/lib/python3.9/dist-packages (from optax) (1.1.0)\r\n",
      "Collecting dm-tree>=0.1.5\r\n",
      "  Downloading dm_tree-0.1.8-cp39-cp39-manylinux_2_17_x86_64.manylinux2014_x86_64.whl (153 kB)\r\n",
      "\u001B[2K     \u001B[90m━━━━━━━━━━━━━━━━━━━━━━━━━━━━━━━━━━━━━━\u001B[0m \u001B[32m153.0/153.0 kB\u001B[0m \u001B[31m52.0 MB/s\u001B[0m eta \u001B[36m0:00:00\u001B[0m\r\n",
      "\u001B[?25hCollecting toolz>=0.9.0\r\n",
      "  Downloading toolz-0.12.0-py3-none-any.whl (55 kB)\r\n",
      "\u001B[2K     \u001B[90m━━━━━━━━━━━━━━━━━━━━━━━━━━━━━━━━━━━━━━━━\u001B[0m \u001B[32m55.8/55.8 kB\u001B[0m \u001B[31m22.3 MB/s\u001B[0m eta \u001B[36m0:00:00\u001B[0m\r\n",
      "\u001B[?25hRequirement already satisfied: scipy>=1.5 in /usr/local/lib/python3.9/dist-packages (from jax>=0.1.55->optax) (1.8.1)\r\n",
      "Requirement already satisfied: opt-einsum in /usr/local/lib/python3.9/dist-packages (from jax>=0.1.55->optax) (3.3.0)\r\n",
      "Installing collected packages: dm-tree, toolz, chex, optax\r\n",
      "Successfully installed chex-0.1.5 dm-tree-0.1.8 optax-0.1.4 toolz-0.12.0\r\n",
      "\u001B[33mWARNING: Running pip as the 'root' user can result in broken permissions and conflicting behaviour with the system package manager. It is recommended to use a virtual environment instead: https://pip.pypa.io/warnings/venv\u001B[0m\u001B[33m\r\n",
      "\u001B[0mCollecting dm-haiku\r\n",
      "  Downloading dm_haiku-0.0.9-py3-none-any.whl (352 kB)\r\n",
      "\u001B[2K     \u001B[90m━━━━━━━━━━━━━━━━━━━━━━━━━━━━━━━━━━━━━━\u001B[0m \u001B[32m352.1/352.1 kB\u001B[0m \u001B[31m42.3 MB/s\u001B[0m eta \u001B[36m0:00:00\u001B[0m\r\n",
      "\u001B[?25hCollecting jmp>=0.0.2\r\n",
      "  Downloading jmp-0.0.3-py3-none-any.whl (18 kB)\r\n",
      "Requirement already satisfied: numpy>=1.18.0 in /usr/local/lib/python3.9/dist-packages (from dm-haiku) (1.23.1)\r\n",
      "Collecting tabulate>=0.8.9\r\n",
      "  Downloading tabulate-0.9.0-py3-none-any.whl (35 kB)\r\n",
      "Requirement already satisfied: absl-py>=0.7.1 in /usr/local/lib/python3.9/dist-packages (from dm-haiku) (1.1.0)\r\n",
      "Installing collected packages: tabulate, jmp, dm-haiku\r\n",
      "Successfully installed dm-haiku-0.0.9 jmp-0.0.3 tabulate-0.9.0\r\n",
      "\u001B[33mWARNING: Running pip as the 'root' user can result in broken permissions and conflicting behaviour with the system package manager. It is recommended to use a virtual environment instead: https://pip.pypa.io/warnings/venv\u001B[0m\u001B[33m\r\n",
      "\u001B[0mCollecting tensorflow-probability\r\n",
      "  Downloading tensorflow_probability-0.19.0-py2.py3-none-any.whl (6.7 MB)\r\n",
      "\u001B[2K     \u001B[90m━━━━━━━━━━━━━━━━━━━━━━━━━━━━━━━━━━━━━━━━\u001B[0m \u001B[32m6.7/6.7 MB\u001B[0m \u001B[31m88.8 MB/s\u001B[0m eta \u001B[36m0:00:00\u001B[0m:00:01\u001B[0m00:01\u001B[0m\r\n",
      "\u001B[?25hRequirement already satisfied: cloudpickle>=1.3 in /usr/local/lib/python3.9/dist-packages (from tensorflow-probability) (2.1.0)\r\n",
      "Requirement already satisfied: dm-tree in /usr/local/lib/python3.9/dist-packages (from tensorflow-probability) (0.1.8)\r\n",
      "Requirement already satisfied: gast>=0.3.2 in /usr/local/lib/python3.9/dist-packages (from tensorflow-probability) (0.4.0)\r\n",
      "Requirement already satisfied: decorator in /usr/local/lib/python3.9/dist-packages (from tensorflow-probability) (5.1.1)\r\n",
      "Requirement already satisfied: six>=1.10.0 in /usr/lib/python3/dist-packages (from tensorflow-probability) (1.14.0)\r\n",
      "Requirement already satisfied: numpy>=1.13.3 in /usr/local/lib/python3.9/dist-packages (from tensorflow-probability) (1.23.1)\r\n",
      "Requirement already satisfied: absl-py in /usr/local/lib/python3.9/dist-packages (from tensorflow-probability) (1.1.0)\r\n",
      "Installing collected packages: tensorflow-probability\r\n",
      "Successfully installed tensorflow-probability-0.19.0\r\n",
      "\u001B[33mWARNING: Running pip as the 'root' user can result in broken permissions and conflicting behaviour with the system package manager. It is recommended to use a virtual environment instead: https://pip.pypa.io/warnings/venv\u001B[0m\u001B[33m\r\n",
      "\u001B[0mCollecting git+https://github.com/blackjax-devs/blackjax.git\r\n",
      "  Cloning https://github.com/blackjax-devs/blackjax.git to /tmp/pip-req-build-s0b_7s8c\r\n",
      "  Running command git clone --filter=blob:none --quiet https://github.com/blackjax-devs/blackjax.git /tmp/pip-req-build-s0b_7s8c\r\n",
      "  Resolved https://github.com/blackjax-devs/blackjax.git to commit 4fa296fd2334991d4aadb8f15096e530449bfdb3\r\n",
      "  Installing build dependencies ... \u001B[?25ldone\r\n",
      "\u001B[?25h  Getting requirements to build wheel ... \u001B[?25ldone\r\n",
      "\u001B[?25h  Installing backend dependencies ... \u001B[?25ldone\r\n",
      "\u001B[?25h  Preparing metadata (pyproject.toml) ... \u001B[?25ldone\r\n",
      "\u001B[?25hRequirement already satisfied: jaxlib>=0.3.10 in /usr/local/lib/python3.9/dist-packages (from blackjax==0.9.7.dev130+g4fa296f) (0.4.2+cuda11.cudnn86)\r\n",
      "Collecting typing-extensions>=4.4.0\r\n",
      "  Using cached typing_extensions-4.4.0-py3-none-any.whl (26 kB)\r\n",
      "Requirement already satisfied: optax in /usr/local/lib/python3.9/dist-packages (from blackjax==0.9.7.dev130+g4fa296f) (0.1.4)\r\n",
      "Collecting fastprogress>=0.2.0\r\n",
      "  Downloading fastprogress-1.0.3-py3-none-any.whl (12 kB)\r\n",
      "Collecting jaxopt>=0.5.5\r\n",
      "  Downloading jaxopt-0.5.5-py3-none-any.whl (132 kB)\r\n",
      "\u001B[2K     \u001B[90m━━━━━━━━━━━━━━━━━━━━━━━━━━━━━━━━━━━━━━\u001B[0m \u001B[32m132.3/132.3 kB\u001B[0m \u001B[31m24.3 MB/s\u001B[0m eta \u001B[36m0:00:00\u001B[0m\r\n",
      "\u001B[?25hRequirement already satisfied: jax>=0.3.13 in /usr/local/lib/python3.9/dist-packages (from blackjax==0.9.7.dev130+g4fa296f) (0.4.2)\r\n",
      "Requirement already satisfied: opt-einsum in /usr/local/lib/python3.9/dist-packages (from jax>=0.3.13->blackjax==0.9.7.dev130+g4fa296f) (3.3.0)\r\n",
      "Requirement already satisfied: numpy>=1.20 in /usr/local/lib/python3.9/dist-packages (from jax>=0.3.13->blackjax==0.9.7.dev130+g4fa296f) (1.23.1)\r\n",
      "Requirement already satisfied: scipy>=1.5 in /usr/local/lib/python3.9/dist-packages (from jax>=0.3.13->blackjax==0.9.7.dev130+g4fa296f) (1.8.1)\r\n",
      "Requirement already satisfied: absl-py>=0.7.0 in /usr/local/lib/python3.9/dist-packages (from jaxopt>=0.5.5->blackjax==0.9.7.dev130+g4fa296f) (1.1.0)\r\n",
      "Requirement already satisfied: matplotlib>=2.0.1 in /usr/local/lib/python3.9/dist-packages (from jaxopt>=0.5.5->blackjax==0.9.7.dev130+g4fa296f) (3.5.2)\r\n",
      "Requirement already satisfied: chex>=0.1.5 in /usr/local/lib/python3.9/dist-packages (from optax->blackjax==0.9.7.dev130+g4fa296f) (0.1.5)\r\n",
      "Requirement already satisfied: toolz>=0.9.0 in /usr/local/lib/python3.9/dist-packages (from chex>=0.1.5->optax->blackjax==0.9.7.dev130+g4fa296f) (0.12.0)\r\n",
      "Requirement already satisfied: dm-tree>=0.1.5 in /usr/local/lib/python3.9/dist-packages (from chex>=0.1.5->optax->blackjax==0.9.7.dev130+g4fa296f) (0.1.8)\r\n",
      "Requirement already satisfied: pyparsing>=2.2.1 in /usr/local/lib/python3.9/dist-packages (from matplotlib>=2.0.1->jaxopt>=0.5.5->blackjax==0.9.7.dev130+g4fa296f) (3.0.9)\r\n",
      "Requirement already satisfied: fonttools>=4.22.0 in /usr/local/lib/python3.9/dist-packages (from matplotlib>=2.0.1->jaxopt>=0.5.5->blackjax==0.9.7.dev130+g4fa296f) (4.34.4)\r\n",
      "Requirement already satisfied: pillow>=6.2.0 in /usr/local/lib/python3.9/dist-packages (from matplotlib>=2.0.1->jaxopt>=0.5.5->blackjax==0.9.7.dev130+g4fa296f) (9.2.0)\r\n",
      "Requirement already satisfied: python-dateutil>=2.7 in /usr/local/lib/python3.9/dist-packages (from matplotlib>=2.0.1->jaxopt>=0.5.5->blackjax==0.9.7.dev130+g4fa296f) (2.8.2)\r\n",
      "Requirement already satisfied: cycler>=0.10 in /usr/local/lib/python3.9/dist-packages (from matplotlib>=2.0.1->jaxopt>=0.5.5->blackjax==0.9.7.dev130+g4fa296f) (0.11.0)\r\n",
      "Requirement already satisfied: packaging>=20.0 in /usr/local/lib/python3.9/dist-packages (from matplotlib>=2.0.1->jaxopt>=0.5.5->blackjax==0.9.7.dev130+g4fa296f) (21.3)\r\n",
      "Requirement already satisfied: kiwisolver>=1.0.1 in /usr/local/lib/python3.9/dist-packages (from matplotlib>=2.0.1->jaxopt>=0.5.5->blackjax==0.9.7.dev130+g4fa296f) (1.4.3)\r\n",
      "Requirement already satisfied: six>=1.5 in /usr/lib/python3/dist-packages (from python-dateutil>=2.7->matplotlib>=2.0.1->jaxopt>=0.5.5->blackjax==0.9.7.dev130+g4fa296f) (1.14.0)\r\n",
      "Building wheels for collected packages: blackjax\r\n",
      "  Building wheel for blackjax (pyproject.toml) ... \u001B[?25ldone\r\n",
      "\u001B[?25h  Created wheel for blackjax: filename=blackjax-0.9.7.dev130+g4fa296f-py3-none-any.whl size=320046 sha256=849300eecd2c656bf44138319c95d008a339d9fa27e5e35e8779597dc5be6dc4\r\n",
      "  Stored in directory: /tmp/pip-ephem-wheel-cache-ayz6y_s0/wheels/e6/1e/f6/a6e0408a4e374b9cdb789b1769716b4ed61eef520a2dd702b1\r\n",
      "Successfully built blackjax\r\n",
      "Installing collected packages: typing-extensions, fastprogress, jaxopt, blackjax\r\n",
      "  Attempting uninstall: typing-extensions\r\n",
      "    Found existing installation: typing_extensions 4.3.0\r\n",
      "    Uninstalling typing_extensions-4.3.0:\r\n",
      "      Successfully uninstalled typing_extensions-4.3.0\r\n",
      "Successfully installed blackjax-0.9.7.dev130+g4fa296f fastprogress-1.0.3 jaxopt-0.5.5 typing-extensions-4.4.0\r\n",
      "\u001B[33mWARNING: Running pip as the 'root' user can result in broken permissions and conflicting behaviour with the system package manager. It is recommended to use a virtual environment instead: https://pip.pypa.io/warnings/venv\u001B[0m\u001B[33m\r\n",
      "\u001B[0mCollecting plotly\r\n",
      "  Downloading plotly-5.13.0-py2.py3-none-any.whl (15.2 MB)\r\n",
      "\u001B[2K     \u001B[90m━━━━━━━━━━━━━━━━━━━━━━━━━━━━━━━━━━━━━━━━\u001B[0m \u001B[32m15.2/15.2 MB\u001B[0m \u001B[31m62.5 MB/s\u001B[0m eta \u001B[36m0:00:00\u001B[0m00:01\u001B[0m0:01\u001B[0mm\r\n",
      "\u001B[?25hCollecting tenacity>=6.2.0\r\n",
      "  Downloading tenacity-8.1.0-py3-none-any.whl (23 kB)\r\n",
      "Installing collected packages: tenacity, plotly\r\n",
      "Successfully installed plotly-5.13.0 tenacity-8.1.0\r\n",
      "\u001B[33mWARNING: Running pip as the 'root' user can result in broken permissions and conflicting behaviour with the system package manager. It is recommended to use a virtual environment instead: https://pip.pypa.io/warnings/venv\u001B[0m\u001B[33m\r\n",
      "\u001B[0mCollecting optuna\r\n",
      "  Downloading optuna-3.1.0-py3-none-any.whl (365 kB)\r\n",
      "\u001B[2K     \u001B[90m━━━━━━━━━━━━━━━━━━━━━━━━━━━━━━━━━━━━━━\u001B[0m \u001B[32m365.3/365.3 kB\u001B[0m \u001B[31m14.3 MB/s\u001B[0m eta \u001B[36m0:00:00\u001B[0m\r\n",
      "\u001B[?25hRequirement already satisfied: PyYAML in /usr/local/lib/python3.9/dist-packages (from optuna) (5.4.1)\r\n",
      "Collecting cmaes>=0.9.1\r\n",
      "  Downloading cmaes-0.9.1-py3-none-any.whl (21 kB)\r\n",
      "Collecting colorlog\r\n",
      "  Downloading colorlog-6.7.0-py2.py3-none-any.whl (11 kB)\r\n",
      "Collecting alembic>=1.5.0\r\n",
      "  Downloading alembic-1.9.2-py3-none-any.whl (210 kB)\r\n",
      "\u001B[2K     \u001B[90m━━━━━━━━━━━━━━━━━━━━━━━━━━━━━━━━━━━━━━\u001B[0m \u001B[32m210.6/210.6 kB\u001B[0m \u001B[31m10.1 MB/s\u001B[0m eta \u001B[36m0:00:00\u001B[0m\r\n",
      "\u001B[?25hRequirement already satisfied: packaging>=20.0 in /usr/local/lib/python3.9/dist-packages (from optuna) (21.3)\r\n",
      "Requirement already satisfied: sqlalchemy>=1.3.0 in /usr/local/lib/python3.9/dist-packages (from optuna) (1.4.39)\r\n",
      "Requirement already satisfied: tqdm in /usr/local/lib/python3.9/dist-packages (from optuna) (4.64.0)\r\n",
      "Requirement already satisfied: numpy in /usr/local/lib/python3.9/dist-packages (from optuna) (1.23.1)\r\n",
      "Collecting Mako\r\n",
      "  Downloading Mako-1.2.4-py3-none-any.whl (78 kB)\r\n",
      "\u001B[2K     \u001B[90m━━━━━━━━━━━━━━━━━━━━━━━━━━━━━━━━━━━━━━━━\u001B[0m \u001B[32m78.7/78.7 kB\u001B[0m \u001B[31m6.3 MB/s\u001B[0m eta \u001B[36m0:00:00\u001B[0m\r\n",
      "\u001B[?25hRequirement already satisfied: pyparsing!=3.0.5,>=2.0.2 in /usr/local/lib/python3.9/dist-packages (from packaging>=20.0->optuna) (3.0.9)\r\n",
      "Requirement already satisfied: greenlet!=0.4.17 in /usr/local/lib/python3.9/dist-packages (from sqlalchemy>=1.3.0->optuna) (1.1.2)\r\n",
      "Requirement already satisfied: MarkupSafe>=0.9.2 in /usr/local/lib/python3.9/dist-packages (from Mako->alembic>=1.5.0->optuna) (2.1.1)\r\n",
      "Installing collected packages: Mako, colorlog, cmaes, alembic, optuna\r\n",
      "Successfully installed Mako-1.2.4 alembic-1.9.2 cmaes-0.9.1 colorlog-6.7.0 optuna-3.1.0\r\n",
      "\u001B[33mWARNING: Running pip as the 'root' user can result in broken permissions and conflicting behaviour with the system package manager. It is recommended to use a virtual environment instead: https://pip.pypa.io/warnings/venv\u001B[0m\u001B[33m\r\n",
      "\u001B[0m"
     ]
    }
   ],
   "source": [
    "!pip install -U jaxlib[cuda112] -f https://storage.googleapis.com/jax-releases/jax_cuda_releases.html\n",
    "!pip install -U jax[cuda112] -f https://storage.googleapis.com/jax-releases/jax_cuda_releases.html\n",
    "!pip install optax\n",
    "!pip install dm-haiku\n",
    "!pip install tensorflow-probability\n",
    "!pip install git+https://github.com/blackjax-devs/blackjax.git\n",
    "# !apt update\n",
    "# !apt install -y graphviz\n",
    "# !pip install graphviz\n",
    "# !pip install gplearn\n",
    "!pip install plotly\n",
    "!pip install optuna"
   ]
  },
  {
   "cell_type": "code",
   "execution_count": 1,
   "metadata": {
    "pycharm": {
     "name": "#%%\n"
    }
   },
   "outputs": [],
   "source": [
    "import os\n",
    "os.environ[\"XLA_PYTHON_CLIENT_PREALLOCATE\"] = \"False\"\n",
    "os.environ[\"XLA_PYTHON_CLIENT_ALLOCATOR\"] = \"platform\"\n",
    "SERVER = 1\n",
    "\n",
    "if not SERVER:\n",
    "    %cd /home/xabush/code/snet/moses-incons-pen-xp/notebooks/variable_selection/cancer/nn\n",
    "\n",
    "import pandas as pd\n",
    "import matplotlib.pyplot as plt\n",
    "import tensorflow_probability.substrates.jax as tfp\n",
    "from sklearn.model_selection import train_test_split, cross_val_score, StratifiedKFold, KFold, GridSearchCV\n",
    "from sklearn.preprocessing import StandardScaler\n",
    "tfd = tfp.distributions\n",
    "import jax\n",
    "import haiku as hk\n",
    "import numpy as np\n",
    "import optax\n",
    "from nn_util import *\n",
    "from optim_util import *\n",
    "plt.style.use('ggplot')\n",
    "%load_ext autoreload"
   ]
  },
  {
   "cell_type": "code",
   "execution_count": 2,
   "metadata": {
    "pycharm": {
     "name": "#%%\n"
    }
   },
   "outputs": [],
   "source": [
    "if SERVER:\n",
    "    data_dir = \".\"\n",
    "else:\n",
    "    data_dir = \"/home/xabush/code/snet/moses-incons-pen-xp/data\"\n",
    "save_dir = f\"{data_dir}/exp_data_5/cancer/gdsc/bortezomib\""
   ]
  },
  {
   "cell_type": "markdown",
   "metadata": {
    "pycharm": {
     "name": "#%% md\n"
    }
   },
   "source": [
    "### GDSC Cell Line"
   ]
  },
  {
   "cell_type": "code",
   "execution_count": 3,
   "outputs": [
    {
     "data": {
      "text/plain": "(442, 37263)"
     },
     "execution_count": 3,
     "metadata": {},
     "output_type": "execute_result"
    }
   ],
   "source": [
    "gdsc_dir = f\"{data_dir}/cell_line/gdsc2\"\n",
    "gdsc_exp_data = pd.read_csv(f\"{gdsc_dir}/gdsc_gene_expr.csv\", index_col=\"model_id\")\n",
    "gdsc_exp_data.shape"
   ],
   "metadata": {
    "collapsed": false,
    "pycharm": {
     "name": "#%%\n"
    }
   }
  },
  {
   "cell_type": "code",
   "execution_count": 4,
   "outputs": [
    {
     "data": {
      "text/plain": "(242036, 18)"
     },
     "execution_count": 4,
     "metadata": {},
     "output_type": "execute_result"
    }
   ],
   "source": [
    "gdsc_response_data = pd.read_csv(f\"{gdsc_dir}/GDSC2_fitted_dose_response_24Jul22.csv\", index_col=\"SANGER_MODEL_ID\")\n",
    "gdsc_response_data.shape"
   ],
   "metadata": {
    "collapsed": false,
    "pycharm": {
     "name": "#%%\n"
    }
   }
  },
  {
   "cell_type": "markdown",
   "metadata": {
    "pycharm": {
     "name": "#%% md\n"
    }
   },
   "source": [
    "#### Bortezomib"
   ]
  },
  {
   "cell_type": "code",
   "execution_count": 5,
   "outputs": [
    {
     "data": {
      "text/plain": "(957, 18)"
     },
     "execution_count": 5,
     "metadata": {},
     "output_type": "execute_result"
    }
   ],
   "source": [
    "bortezomib_response = gdsc_response_data[gdsc_response_data[\"DRUG_NAME\"] == \"Bortezomib\"]\n",
    "bortezomib_response.shape"
   ],
   "metadata": {
    "collapsed": false,
    "pycharm": {
     "name": "#%%\n"
    }
   }
  },
  {
   "cell_type": "code",
   "execution_count": 6,
   "metadata": {
    "pycharm": {
     "name": "#%%\n"
    }
   },
   "outputs": [
    {
     "data": {
      "text/plain": "(406, 37264)"
     },
     "execution_count": 6,
     "metadata": {},
     "output_type": "execute_result"
    }
   ],
   "source": [
    "gdsc_exp_bortezomib_data = pd.merge(gdsc_exp_data, bortezomib_response[\"LN_IC50\"], left_index=True, right_index=True)\n",
    "gdsc_exp_bortezomib_data.shape"
   ]
  },
  {
   "cell_type": "code",
   "execution_count": 7,
   "metadata": {
    "pycharm": {
     "name": "#%%\n"
    }
   },
   "outputs": [],
   "source": [
    "X, target = gdsc_exp_bortezomib_data.iloc[:,:-1], gdsc_exp_bortezomib_data.iloc[:,-1]\n",
    "# change to -log10(IC_50) to make it comparable\n",
    "target = -np.log10(np.exp(target)) # exp b/c the values are natural logs of raw IC_50\n",
    "cancer_driver_genes_df = pd.read_csv(f\"{data_dir}/cell_line/driver_genes_20221018.csv\")"
   ]
  },
  {
   "cell_type": "code",
   "execution_count": 8,
   "metadata": {
    "pycharm": {
     "name": "#%%\n"
    }
   },
   "outputs": [],
   "source": [
    "cols = X.columns.to_list()\n",
    "driver_syms = cancer_driver_genes_df[\"symbol\"].to_list()\n",
    "driver_sym_list = [sym.strip() for sym in cols if sym in driver_syms]"
   ]
  },
  {
   "cell_type": "code",
   "execution_count": 9,
   "outputs": [
    {
     "data": {
      "text/plain": "970"
     },
     "execution_count": 9,
     "metadata": {},
     "output_type": "execute_result"
    }
   ],
   "source": [
    "landmark_genes_df = pd.read_table(f\"{data_dir}/cell_line/cmap_L1000_genes.txt\")\n",
    "landmark_genes = [sym.strip() for sym in landmark_genes_df[\"Symbol\"].to_list() if sym in cols]\n",
    "len(landmark_genes)"
   ],
   "metadata": {
    "collapsed": false,
    "pycharm": {
     "name": "#%%\n"
    }
   }
  },
  {
   "cell_type": "code",
   "execution_count": 10,
   "metadata": {
    "pycharm": {
     "name": "#%%\n"
    }
   },
   "outputs": [
    {
     "data": {
      "text/plain": "(406, 768)"
     },
     "execution_count": 10,
     "metadata": {},
     "output_type": "execute_result"
    }
   ],
   "source": [
    "X_selected = X[driver_sym_list]\n",
    "X_selected.shape"
   ]
  },
  {
   "cell_type": "code",
   "execution_count": 11,
   "outputs": [
    {
     "data": {
      "text/plain": "(406, 970)"
     },
     "execution_count": 11,
     "metadata": {},
     "output_type": "execute_result"
    }
   ],
   "source": [
    "X_selected_lm = X[landmark_genes]\n",
    "X_selected_lm.shape"
   ],
   "metadata": {
    "collapsed": false,
    "pycharm": {
     "name": "#%%\n"
    }
   }
  },
  {
   "cell_type": "code",
   "execution_count": 12,
   "outputs": [
    {
     "data": {
      "text/plain": "108"
     },
     "execution_count": 12,
     "metadata": {},
     "output_type": "execute_result"
    }
   ],
   "source": [
    "len(set(driver_sym_list) & set(landmark_genes))"
   ],
   "metadata": {
    "collapsed": false,
    "pycharm": {
     "name": "#%%\n"
    }
   }
  },
  {
   "cell_type": "markdown",
   "metadata": {
    "pycharm": {
     "name": "#%% md\n"
    }
   },
   "source": [
    "#### Data Preprocessing"
   ]
  },
  {
   "cell_type": "code",
   "execution_count": 13,
   "outputs": [],
   "source": [
    "seed = 422\n",
    "X_train_outer_df, X_test_df, y_train_outer_df, y_test_df = train_test_split(X_selected, target, random_state=seed, shuffle=True, test_size=0.2)"
   ],
   "metadata": {
    "collapsed": false,
    "pycharm": {
     "name": "#%%\n"
    }
   }
  },
  {
   "cell_type": "code",
   "execution_count": 14,
   "outputs": [
    {
     "name": "stderr",
     "output_type": "stream",
     "text": [
      "/usr/local/lib/python3.9/dist-packages/sklearn/preprocessing/_data.py:2583: UserWarning: n_quantiles (1000) is greater than the total number of samples (324). n_quantiles is set to n_samples.\n",
      "  warnings.warn(\n"
     ]
    }
   ],
   "source": [
    "from sklearn.preprocessing import QuantileTransformer, PowerTransformer, RobustScaler, MinMaxScaler, Normalizer, StandardScaler\n",
    "\n",
    "train_transformer = QuantileTransformer(random_state=seed, output_distribution=\"normal\").fit(X_train_outer_df)\n",
    "# train_transformer = StandardScaler().fit(X_train_outer_df)\n",
    "# train_transformer = PowerTransformer().fit(X_train_df)\n",
    "train_transformed = train_transformer.transform(X_train_outer_df)\n",
    "test_transformed = train_transformer.transform(X_test_df)\n",
    "\n",
    "X_train_outer_df = pd.DataFrame(train_transformed, columns=X_train_outer_df.columns)\n",
    "X_test_df = pd.DataFrame(test_transformed, columns=X_test_df.columns)"
   ],
   "metadata": {
    "collapsed": false,
    "pycharm": {
     "name": "#%%\n"
    }
   }
  },
  {
   "cell_type": "code",
   "execution_count": 15,
   "outputs": [],
   "source": [
    "X_train_df, X_val_df, y_train_df, y_val_df = train_test_split(X_train_outer_df, y_train_outer_df, shuffle=True,\n",
    "                                                              random_state=seed, test_size=0.2)\n",
    "train_indices, val_indices = X_train_df.index.to_list(), X_val_df.index.to_list()"
   ],
   "metadata": {
    "collapsed": false,
    "pycharm": {
     "name": "#%%\n"
    }
   }
  },
  {
   "cell_type": "code",
   "execution_count": 16,
   "outputs": [],
   "source": [
    "X_train_outer, y_train_outer = X_train_outer_df.values, y_train_outer_df.values\n",
    "X_train, y_train = X_train_df.values, y_train_df.values\n",
    "X_val, y_val = X_val_df.values, y_val_df.values\n",
    "X_test, y_test = X_test_df.values, y_test_df.values"
   ],
   "metadata": {
    "collapsed": false,
    "pycharm": {
     "name": "#%%\n"
    }
   }
  },
  {
   "cell_type": "markdown",
   "source": [
    "#### BNN without BG"
   ],
   "metadata": {
    "collapsed": false,
    "pycharm": {
     "name": "#%% md\n"
    }
   }
  },
  {
   "cell_type": "code",
   "execution_count": 17,
   "outputs": [],
   "source": [
    "class BayesNN():\n",
    "    def __init__(self, sgd_optim, sgld_optim, temperature, sigma, data_size, hidden_sizes, act_fn=jax.nn.relu):\n",
    "        self.hidden_sizes = hidden_sizes\n",
    "        self.act_fn = act_fn\n",
    "        self.sgd_optim = sgd_optim\n",
    "        self.sgld_optim = sgld_optim\n",
    "        self.optimiser = sgd_optim\n",
    "        self._forward = hk.without_apply_rng(hk.transform(self._forward_fn))\n",
    "        self.loss = jax.jit(self.loss)\n",
    "        self.update = jax.jit(self.update)\n",
    "\n",
    "        self.temperature = temperature\n",
    "        self.sigma = sigma\n",
    "        self.data_size = data_size\n",
    "        self.add_noise = False\n",
    "\n",
    "        # weight_decay = self.sigma*self.temperature\n",
    "        # self.weight_prior = tfd.Normal(0, self.sigma)\n",
    "        self.weight_prior = tfd.StudentT(df=2, loc=0, scale=self.sigma)\n",
    "        # self.weight_prior = tfd.Laplace(0, self.sigma)\n",
    "\n",
    "    def init(self, rng, x):\n",
    "        params = self._forward.init(rng, x)\n",
    "        opt_state = self.optimiser.init(params)\n",
    "        return params, opt_state\n",
    "\n",
    "    def apply(self, params, x):\n",
    "        return self._forward.apply(params, x).ravel()\n",
    "\n",
    "\n",
    "    def update(self, key, params, opt_state, x, y):\n",
    "        if self.add_noise:\n",
    "            self.optimiser = self.sgld_optim\n",
    "        else:\n",
    "            self.optimiser = self.sgd_optim\n",
    "        grads = jax.grad(self.loss)(params, x, y)\n",
    "        updates, opt_state = self.optimiser.update(key, grads, opt_state)\n",
    "        params = optax.apply_updates(params, updates)\n",
    "        return params, opt_state\n",
    "\n",
    "    def _forward_fn(self, x):\n",
    "        init_fn = hk.initializers.VarianceScaling()\n",
    "        for hd in self.hidden_sizes:\n",
    "            x = hk.Linear(hd, w_init=init_fn, b_init=init_fn)(x)\n",
    "            x = self.act_fn(x)\n",
    "\n",
    "        x = hk.Linear(1)(x)\n",
    "        return x\n",
    "\n",
    "    def log_prior(self, params):\n",
    "        \"\"\"Computes the Gaussian prior log-density.\"\"\"\n",
    "        logprob_tree = jax.tree_util.tree_leaves(jax.tree_util.tree_map(lambda x: jnp.sum(self.weight_prior.log_prob(x.reshape(-1))/self.temperature),\n",
    "                                                                        params))\n",
    "\n",
    "        return sum(logprob_tree)\n",
    "\n",
    "    def log_likelihood(self, params, x, y):\n",
    "        preds = self.apply(params, x).ravel()\n",
    "        log_prob = jnp.sum(tfd.Normal(preds, self.temperature).log_prob(y))\n",
    "        batch_size = x.shape[0]\n",
    "        log_prob = (self.data_size / batch_size)*log_prob\n",
    "        return log_prob\n",
    "\n",
    "    def loss(self, params, x, y):\n",
    "        logprob_prior = self.log_prior(params)\n",
    "        logprob_likelihood = self.log_likelihood(params, x, y)\n",
    "        return logprob_likelihood + logprob_prior\n"
   ],
   "metadata": {
    "collapsed": false,
    "pycharm": {
     "name": "#%%\n"
    }
   }
  },
  {
   "cell_type": "code",
   "execution_count": 18,
   "outputs": [],
   "source": [
    "class BgBayesNN():\n",
    "    def __init__(self, sgd_optim, sgld_optim, disc_sgd_optim, disc_sgld_optim,\n",
    "                 temperature, sigma, data_size, hidden_sizes,\n",
    "                 J, eta, mu, alpha,\n",
    "                 act_fn):\n",
    "        self.hidden_sizes = hidden_sizes\n",
    "        self.act_fn = act_fn\n",
    "        self.sgd_optim = sgd_optim\n",
    "        self.sgld_optim = sgld_optim\n",
    "        self.optimiser = sgd_optim\n",
    "\n",
    "        self.disc_optimiser = disc_sgd_optim\n",
    "        self.disc_sgd_optim = disc_sgd_optim\n",
    "        self.disc_sgld_optim = disc_sgld_optim\n",
    "\n",
    "        self._forward = hk.transform(self._forward_fn)\n",
    "        self.loss = jax.jit(self.loss)\n",
    "        self.update = jax.jit(self.update)\n",
    "\n",
    "        self.temperature = temperature\n",
    "        self.sigma = sigma\n",
    "        self.data_size = data_size\n",
    "        self.add_noise = False\n",
    "        self.J = J\n",
    "        self.eta = eta\n",
    "        self.mu = mu\n",
    "        self.alpha = alpha\n",
    "\n",
    "        # weight_decay = self.sigma*self.temperature\n",
    "        # self.weight_prior = tfd.Normal(0, self.sigma)\n",
    "        self.weight_prior = tfd.StudentT(df=2, loc=0, scale=self.sigma)\n",
    "\n",
    "    def init(self, rng, x):\n",
    "        gamma = tfd.Bernoulli(0.5*jnp.ones(x.shape[-1])).sample(seed=rng)*1.\n",
    "        params = self._forward.init(rng, x, gamma, True)\n",
    "        opt_state = self.optimiser.init(params)\n",
    "        disc_opt_state = self.disc_optimiser.init(gamma)\n",
    "        return params, gamma, opt_state, disc_opt_state\n",
    "\n",
    "    def apply(self, params, gamma, x, is_training=True):\n",
    "        return self._forward.apply(params, None, x, gamma, is_training).ravel()\n",
    "\n",
    "\n",
    "    def loss(self, params, gamma, x, y):\n",
    "        logprob_prior = self.log_prior(params)\n",
    "        logprob_likelihood = self.log_likelihood(params, gamma, x, y)\n",
    "        return logprob_likelihood + logprob_prior\n",
    "\n",
    "    def update(self, key, params, gamma, opt_state, disc_opt_state, x, y):\n",
    "        if self.add_noise:\n",
    "            self.optimiser = self.sgld_optim\n",
    "            self.disc_optimiser = self.disc_sgld_optim\n",
    "        else:\n",
    "            self.optimiser = self.sgd_optim\n",
    "            self.disc_optimiser = self.disc_sgd_optim\n",
    "\n",
    "        contin_loss = lambda p: self.log_prior(params) + self.log_likelihood(p, gamma, x, y)\n",
    "        # contin_loss = lambda p: self.log_likelihood(p, gamma, x, y)\n",
    "\n",
    "        grads = jax.grad(contin_loss)(params)\n",
    "        updates, opt_state = self.optimiser.update(key, grads, opt_state)\n",
    "        params = optax.apply_updates(params, updates)\n",
    "\n",
    "        disc_loss = lambda g: self.alpha*self.ising_prior(g) + self.log_likelihood(params, g, x, y)\n",
    "        disc_grads = jax.grad(disc_loss)(gamma)\n",
    "        gamma, disc_opt_state = self.disc_optimiser.update(key, gamma, disc_grads, disc_opt_state)\n",
    "        return params, gamma, opt_state, disc_opt_state\n",
    "\n",
    "    def _forward_fn(self, x, gamma, is_training):\n",
    "        if is_training:\n",
    "            x = x @ jnp.diag(gamma)\n",
    "        # init_fn = hk.initializers.VarianceScaling(2.0, \"fan_in\",  \"truncated_normal\")\n",
    "        init_fn = hk.initializers.VarianceScaling()\n",
    "        for hd in self.hidden_sizes:\n",
    "            x = hk.Linear(hd, w_init=init_fn)(x)\n",
    "            x = self.act_fn(x)\n",
    "\n",
    "        x = hk.Linear(1)(x)\n",
    "        return x\n",
    "\n",
    "    def log_prior(self, params):\n",
    "        \"\"\"Computes the Gaussian prior log-density.\"\"\"\n",
    "        logprob_tree = jax.tree_util.tree_leaves(jax.tree_util.tree_map(lambda x: jnp.sum(self.weight_prior.log_prob(x.reshape(-1)) / self.temperature),\n",
    "                                                                        params))\n",
    "\n",
    "        return sum(logprob_tree)\n",
    "\n",
    "    def log_likelihood(self, params, gamma, x, y):\n",
    "        preds = self.apply(params, gamma, x).ravel()\n",
    "        # preds_mean, preds_std = preds[::2], preds[1::2]\n",
    "        # print(preds.shape)\n",
    "        # print(preds_mean.shape)\n",
    "        # print(preds_std.shape)\n",
    "        # preds_std = jax.nn.softplus(preds_std.squeeze())\n",
    "        # preds_mean = preds_mean.squeeze()\n",
    "        # preds_std = (preds_std**2)*self.temperature\n",
    "        log_prob = jnp.sum(tfd.Normal(preds, self.temperature).log_prob(y))\n",
    "        # log_prob = jnp.sum(tfd.MultivariateNormalDiag(preds_mean, preds_std).log_prob(y))\n",
    "        batch_size = x.shape[0]\n",
    "        log_prob = (self.data_size/batch_size)*log_prob\n",
    "\n",
    "        # l2_regulariser = 0.5 * sum(\n",
    "        #     jnp.sum(jnp.square(p)) for p in jax.tree_util.tree_leaves(params))\n",
    "\n",
    "        return log_prob\n",
    "\n",
    "    def ising_prior(self, gamma):\n",
    "        \"\"\"Log probability of the Ising model - prior over the discrete variables\"\"\"\n",
    "        return (0.5*self.eta*(gamma.T @ self.J @ gamma) - self.mu*jnp.sum(gamma))"
   ],
   "metadata": {
    "collapsed": false,
    "pycharm": {
     "name": "#%%\n"
    }
   }
  },
  {
   "cell_type": "markdown",
   "source": [
    "##### MLP"
   ],
   "metadata": {
    "collapsed": false,
    "pycharm": {
     "name": "#%% md\n"
    }
   }
  },
  {
   "cell_type": "code",
   "execution_count": 38,
   "outputs": [],
   "source": [
    "class MLP():\n",
    "    def __init__(self, optim, disc_optim,\n",
    "                 hidden_sizes, J, eta, mu, alpha,\n",
    "                 act_fn, dropout_rate, l2_coef):\n",
    "        self.hidden_sizes = hidden_sizes\n",
    "        self.act_fn = act_fn\n",
    "        self.optimiser = optim\n",
    "        self.disc_optimiser = disc_optim\n",
    "\n",
    "        self._forward = hk.transform(self._forward_fn)\n",
    "        self.loss = jax.jit(self.contin_loss)\n",
    "        self.update = jax.jit(self.update)\n",
    "\n",
    "        self.J = J\n",
    "        self.eta = eta\n",
    "        self.mu = mu\n",
    "        self.alpha = alpha\n",
    "        self.dropout_rate = dropout_rate\n",
    "        self.l2_coef = l2_coef\n",
    "\n",
    "    def init(self, rng, x):\n",
    "        gamma = tfd.Bernoulli(0.5*jnp.ones(x.shape[-1])).sample(seed=rng)*1.\n",
    "        params = self._forward.init(rng, x, gamma, True)\n",
    "        opt_state = self.optimiser.init(params)\n",
    "        disc_opt_state = self.disc_optimiser.init(gamma)\n",
    "        return params, gamma, opt_state, disc_opt_state\n",
    "\n",
    "    def apply(self, params, rng, gamma, x, is_training=True):\n",
    "        return self._forward.apply(params, rng, x, gamma, is_training)\n",
    "\n",
    "\n",
    "    def update(self, key, params, gamma, opt_state, disc_opt_state, x, y):\n",
    "\n",
    "\n",
    "        grads = jax.grad(self.loss)(params, key, gamma, x, y)\n",
    "        updates, opt_state = self.optimiser.update(grads, opt_state)\n",
    "        params = optax.apply_updates(params, updates)\n",
    "\n",
    "        disc_loss = lambda g: self.alpha*self.ising_prior(g) - self.contin_loss(params, key, g, x, y)\n",
    "        disc_logprob, disc_grads = jax.value_and_grad(disc_loss)(gamma)\n",
    "        gamma, disc_opt_state = self.disc_optimiser.update(key, gamma, disc_grads, disc_opt_state)\n",
    "        return params, gamma, opt_state, disc_opt_state\n",
    "\n",
    "    def _forward_fn(self, x, gamma, is_training):\n",
    "        key = hk.next_rng_key()\n",
    "        if is_training:\n",
    "            x = x @ jnp.diag(gamma)\n",
    "        init_fn = hk.initializers.VarianceScaling(2.0, \"fan_in\",  \"truncated_normal\")\n",
    "        for hd in self.hidden_sizes:\n",
    "            x = hk.Linear(hd, w_init=init_fn)(x)\n",
    "            x = self.act_fn(x)\n",
    "            if is_training:\n",
    "                x = hk.dropout(key, self.dropout_rate, x)\n",
    "\n",
    "        x = hk.Linear(1)(x)\n",
    "        return x\n",
    "\n",
    "    def contin_loss(self, params, rng, gamma, x, y):\n",
    "        preds = self.apply(params, rng, gamma, x).squeeze()\n",
    "\n",
    "        loss = jnp.mean((y - preds)**2)\n",
    "        batch_size = x.shape[0]\n",
    "        loss /= batch_size\n",
    "\n",
    "        l2_regulariser = 0.5 * sum(\n",
    "            jnp.sum(jnp.square(p)) for p in jax.tree_util.tree_leaves(params))\n",
    "\n",
    "        return loss + self.l2_coef*l2_regulariser\n",
    "\n",
    "    def ising_prior(self, gamma):\n",
    "        \"\"\"Log probability of the Ising model - prior over the discrete variables\"\"\"\n",
    "        return (0.5*self.eta*(gamma.T @ self.J @ gamma) - self.mu*jnp.sum(gamma))"
   ],
   "metadata": {
    "collapsed": false,
    "pycharm": {
     "name": "#%%\n"
    }
   }
  },
  {
   "cell_type": "code",
   "execution_count": 19,
   "outputs": [],
   "source": [
    "from sklearn.metrics import r2_score\n",
    "import torch\n",
    "torch.backends.cudnn.deterministic = True\n",
    "\n",
    "def init_bnn_model(seed, train_loader, epochs, lr_0, num_cycles, temp, sigma, hidden_sizes, act_fn):\n",
    "    torch.manual_seed(seed)\n",
    "    num_batches = len(train_loader)\n",
    "    data_size = X.shape[0]\n",
    "    total_steps = num_batches*epochs\n",
    "    step_size_fn = make_cyclical_lr_fn(lr_0, total_steps, num_cycles)\n",
    "    sgd_optim = sgd_gradient_update(step_size_fn, momentum_decay=0, preconditioner=get_rmsprop_preconditioner())\n",
    "    sgld_optim = sgld_gradient_update(step_size_fn, momentum_decay=0, preconditioner=get_rmsprop_preconditioner())\n",
    "\n",
    "    model = BayesNN(sgd_optim, sgld_optim,\n",
    "                    temp, sigma, data_size, hidden_sizes, act_fn)\n",
    "\n",
    "    return model\n",
    "\n",
    "\n",
    "def train_bnn_model(seed, train_loader, epochs, num_cycles, beta, lr_0,\n",
    "                    hidden_sizes, temp, sigma, act_fn=jax.nn.relu):\n",
    "\n",
    "    rng_key = jax.random.PRNGKey(seed)\n",
    "    model = init_bnn_model(seed, train_loader, epochs, lr_0, num_cycles, temp, sigma, hidden_sizes, act_fn)\n",
    "\n",
    "    # cycle_len = epochs // num_cycles\n",
    "    num_batches = len(train_loader)\n",
    "    M = (epochs*num_batches) // num_cycles\n",
    "    init_params, init_opt_state = model.init(rng_key, next(iter(train_loader))[0])\n",
    "\n",
    "\n",
    "    states = []\n",
    "    params, opt_state = init_params, init_opt_state\n",
    "    step = 0\n",
    "    key = rng_key\n",
    "    for epoch in range(epochs):\n",
    "        for batch_x, batch_y in train_loader:\n",
    "            _, key = jax.random.split(key, 2)\n",
    "            rk = (step % M) / M\n",
    "            params, opt_state = model.update(key, params, opt_state, batch_x, batch_y)\n",
    "            if rk > beta:\n",
    "                model.add_noise = True\n",
    "                states.append(params)\n",
    "            else:\n",
    "                model.add_noise = False\n",
    "            step += 1\n",
    "\n",
    "    return model, states\n",
    "\n",
    "def eval_bnn_model(model, X, y, params):\n",
    "\n",
    "    if isinstance(params, list):\n",
    "        y_preds = np.zeros((len(params), len(y)))\n",
    "        for i, param in enumerate(params):\n",
    "            preds = model.apply(param, X).ravel()\n",
    "            y_preds[i] = preds\n",
    "\n",
    "        y_preds = np.mean(y_preds, axis=0)\n",
    "        rmse = jnp.sqrt(jnp.mean((y - y_preds)**2))\n",
    "    else:\n",
    "        y_preds = model.apply(params, X).ravel()\n",
    "        rmse = jnp.sqrt(jnp.mean((y - y_preds)**2))\n",
    "\n",
    "    return rmse\n",
    "\n",
    "def score_bnn_model(model, X, y, params):\n",
    "    if isinstance(params, list):\n",
    "        y_preds = np.zeros((len(params), len(y)))\n",
    "        for i, param in enumerate(params):\n",
    "            preds = model.apply(param, X).ravel()\n",
    "            # preds_mean = preds[::2]\n",
    "            y_preds[i] = preds\n",
    "\n",
    "        y_preds = np.mean(y_preds, axis=0)\n",
    "        rmse = jnp.sqrt(jnp.mean((y - y_preds)**2))\n",
    "        if np.isfinite(y_preds).all():\n",
    "            r2 = r2_score(y, y_preds)\n",
    "        else:\n",
    "            r2 = np.nan\n",
    "    else:\n",
    "        y_preds = model.apply(params, X)\n",
    "        preds_mean = y_preds[::2]\n",
    "        rmse = jnp.sqrt(jnp.mean((y - preds_mean)**2))\n",
    "        if np.isfinite(y_preds).all():\n",
    "            r2 = r2_score(y, y_preds)\n",
    "        else:\n",
    "            r2 = np.nan\n",
    "\n",
    "    return rmse, r2\n",
    "\n",
    "def eval_per_model_score(model, X, y, params):\n",
    "    scores = []\n",
    "\n",
    "    for param in params:\n",
    "        preds = model.apply(param, X).ravel()\n",
    "        # preds_mean = preds[::2]\n",
    "        rmse = jnp.sqrt(jnp.mean((y - preds)**2))\n",
    "        scores.append(rmse)\n",
    "\n",
    "\n",
    "\n",
    "    return np.array(scores)"
   ],
   "metadata": {
    "collapsed": false,
    "pycharm": {
     "name": "#%%\n"
    }
   }
  },
  {
   "cell_type": "code",
   "execution_count": 20,
   "outputs": [
    {
     "name": "stdout",
     "output_type": "stream",
     "text": [
      "11862\n",
      "9186\n"
     ]
    }
   ],
   "source": [
    "J = np.load(f\"{data_dir}/cell_line/cancer_genes_net.npy\")\n",
    "J_lm = np.load(f\"{data_dir}/cell_line/landmark_genes_net.npy\")\n",
    "J_zero = np.zeros_like(J)\n",
    "print(np.count_nonzero(J))\n",
    "print(np.count_nonzero(J_lm))"
   ],
   "metadata": {
    "collapsed": false,
    "pycharm": {
     "name": "#%%\n"
    }
   }
  },
  {
   "cell_type": "code",
   "execution_count": 41,
   "outputs": [],
   "source": [
    "# rh_network = pd.read_table(f\"{data_dir}/cell_line/fully_combined_RH_network.txt\")"
   ],
   "metadata": {
    "collapsed": false,
    "pycharm": {
     "name": "#%%\n"
    }
   }
  },
  {
   "cell_type": "code",
   "execution_count": 42,
   "outputs": [],
   "source": [
    "# net_intr = pd.Series(rh_network[\"gene1\"].values, index=rh_network[\"gene2\"])\n",
    "# net_intr_rev = pd.Series(rh_network[\"gene2\"].values, index=rh_network[\"gene1\"])\n",
    "J_rh_net = build_network(X_train_outer_df, net_intr, net_intr_rev)"
   ],
   "metadata": {
    "collapsed": false,
    "pycharm": {
     "name": "#%%\n"
    }
   }
  },
  {
   "cell_type": "markdown",
   "source": [
    "#### BNN with BG"
   ],
   "metadata": {
    "collapsed": false,
    "pycharm": {
     "name": "#%% md\n"
    }
   }
  },
  {
   "cell_type": "code",
   "execution_count": 26,
   "outputs": [],
   "source": [
    "import torch\n",
    "from sklearn.metrics import r2_score\n",
    "\n",
    "def get_act_fn(name):\n",
    "    if name == \"relu\":\n",
    "        return jax.nn.relu\n",
    "    if name == \"swish\":\n",
    "        return jax.nn.swish\n",
    "    if name == \"tanh\":\n",
    "        return jax.nn.tanh\n",
    "    if name == \"sigmoid\":\n",
    "        return jax.nn.sigmoid\n",
    "    if name == \"celu\":\n",
    "        return jax.nn.celu\n",
    "    if name == \"relu6\":\n",
    "        return jax.nn.relu6\n",
    "    if name == \"glu\":\n",
    "        return jax.nn.glu\n",
    "    if name == \"elu\":\n",
    "        return jax.nn.elu\n",
    "    if name == \"leaky_relu\":\n",
    "        return jax.nn.leaky_relu\n",
    "    if name == \"log_sigmoid\":\n",
    "        return jax.nn.log_sigmoid\n",
    "\n",
    "    return ValueError(f\"Unknown activation function: {name}\")\n",
    "\n",
    "\n",
    "import torch\n",
    "from sklearn.metrics import r2_score\n",
    "\n",
    "def init_bg_bnn_model(seed, train_loader, epochs, lr_0, disc_lr_0, num_cycles, temp, sigma, hidden_sizes, J, eta, mu, alpha, act_fn):\n",
    "    torch.manual_seed(seed)\n",
    "    num_batches = len(train_loader)\n",
    "    data_size = X.shape[0]\n",
    "    total_steps = num_batches*epochs\n",
    "    step_size_fn = make_cyclical_lr_fn(lr_0, total_steps, num_cycles)\n",
    "    disc_step_size_fn = make_cyclical_lr_fn(disc_lr_0, total_steps, num_cycles)\n",
    "    # disc_step_size_fn = lambda step: disc_lr_0\n",
    "    sgd_optim = sgd_gradient_update(step_size_fn, momentum_decay=0, preconditioner=get_rmsprop_preconditioner())\n",
    "    sgld_optim = sgld_gradient_update(step_size_fn, momentum_decay=0, preconditioner=get_rmsprop_preconditioner())\n",
    "\n",
    "    disc_sgd_optim = disc_sgld_gradient_update(disc_step_size_fn, momentum_decay=0, preconditioner=get_identity_preconditioner())\n",
    "    disc_sgld_optim = disc_sgld_gradient_update(disc_step_size_fn, momentum_decay=0, preconditioner=get_identity_preconditioner())\n",
    "\n",
    "    model = BgBayesNN(sgd_optim, sgld_optim, disc_sgd_optim, disc_sgld_optim,\n",
    "                      temp, sigma, data_size, hidden_sizes,\n",
    "                      J, eta, mu, alpha, act_fn)\n",
    "\n",
    "    return model\n",
    "\n",
    "\n",
    "def train_bg_bnn_model(seed, train_loader, epochs, num_cycles, beta, beta_noise, lr_0, disc_lr_0,\n",
    "                       hidden_sizes, temp, sigma, eta, mu, alpha, J, act_fn_name):\n",
    "\n",
    "    rng_key = jax.random.PRNGKey(seed)\n",
    "    act_fn = get_act_fn(act_fn_name)\n",
    "    model = init_bg_bnn_model(seed, train_loader, epochs, lr_0, disc_lr_0, num_cycles, temp, sigma, hidden_sizes, J, eta, mu, alpha, act_fn)\n",
    "\n",
    "    num_batches = len(train_loader)\n",
    "    M = (epochs*num_batches) // num_cycles\n",
    "    init_params, init_gamma, init_opt_state, init_disc_opt_state = model.init(rng_key, next(iter(train_loader))[0])\n",
    "\n",
    "    # print(f\"Total iterations: {epochs*num_batches}, Num Batches: {num_batches}, Cycle Len: {M}\")\n",
    "    states = []\n",
    "    disc_states = []\n",
    "    val_losses = []\n",
    "    params, gamma, opt_state, disc_opt_state = init_params, init_gamma, init_opt_state, init_disc_opt_state\n",
    "    step = 0\n",
    "    key = rng_key\n",
    "    for epoch in range(epochs):\n",
    "        for batch_x, batch_y in train_loader:\n",
    "            _, key = jax.random.split(key, 2)\n",
    "            rk = (step % M) / M\n",
    "            params, gamma, opt_state, disc_opt_state = model.update(key, params, gamma, opt_state, disc_opt_state, batch_x, batch_y)\n",
    "            if rk > beta_noise:\n",
    "                model.add_noise = True\n",
    "            else:\n",
    "                model.add_noise = False\n",
    "\n",
    "            if rk > beta:\n",
    "                states.append(params)\n",
    "                disc_states.append(gamma)\n",
    "\n",
    "            step += 1\n",
    "        # if (epoch % cycle_len) + 1 > (cycle_len - n_models_per_cycle):\n",
    "        #     # print(epoch)\n",
    "        #     states.append(params)\n",
    "        #     disc_states.append(gamma)\n",
    "        # val_loss = eval_bg_bnn_model(model, X_val, y_val, params, gamma)\n",
    "        # val_losses.append(val_loss)\n",
    "\n",
    "    return model, states, disc_states\n",
    "\n",
    "def eval_bg_bnn_model(model, X, y, params, gammas):\n",
    "\n",
    "    if isinstance(params, list):\n",
    "        y_preds = np.zeros((len(params), len(y)))\n",
    "        for i, (param, gamma) in enumerate(zip(params, gammas)):\n",
    "            preds = model.apply(param, gamma, X).ravel()\n",
    "            y_preds[i] = preds\n",
    "\n",
    "        y_preds = np.mean(y_preds, axis=0)\n",
    "        rmse = jnp.sqrt(jnp.mean((y - y_preds)**2))\n",
    "    else:\n",
    "        y_preds = model.apply(params, gammas, X).ravel()\n",
    "        rmse = jnp.sqrt(jnp.mean((y - y_preds)**2))\n",
    "\n",
    "    return rmse\n",
    "\n",
    "def score_bg_bnn_model(model, X, y, params, gammas):\n",
    "    if isinstance(params, list):\n",
    "        y_preds = np.zeros((len(params), len(y)))\n",
    "        for i, (param, gamma) in enumerate(zip(params, gammas)):\n",
    "            preds = model.apply(param, gamma, X).ravel()\n",
    "            # preds_mean = preds[::2]\n",
    "            y_preds[i] = preds\n",
    "\n",
    "        y_preds = np.mean(y_preds, axis=0)\n",
    "        rmse = jnp.sqrt(jnp.mean((y - y_preds)**2))\n",
    "        if np.isfinite(y_preds).all():\n",
    "            r2 = r2_score(y, y_preds)\n",
    "        else:\n",
    "            r2 = np.nan\n",
    "    else:\n",
    "        y_preds = model.apply(params, gammas, X)\n",
    "        preds_mean = y_preds[::2]\n",
    "        rmse = jnp.sqrt(jnp.mean((y - preds_mean)**2))\n",
    "        if np.isfinite(y_preds).all():\n",
    "            r2 = r2_score(y, y_preds)\n",
    "        else:\n",
    "            r2 = np.nan\n",
    "\n",
    "    return rmse, r2\n",
    "\n",
    "def eval_per_model_score_bg(model, X, y, params, gammas):\n",
    "    scores = []\n",
    "\n",
    "    for param, gamma in zip(params, gammas):\n",
    "        preds = model.apply(param, gamma, X).ravel()\n",
    "        # preds_mean = preds[::2]\n",
    "        rmse = jnp.sqrt(jnp.mean((y - preds)**2))\n",
    "        scores.append(rmse)\n",
    "\n",
    "\n",
    "\n",
    "    return np.array(scores)"
   ],
   "metadata": {
    "collapsed": false,
    "pycharm": {
     "name": "#%%\n"
    }
   }
  },
  {
   "cell_type": "code",
   "execution_count": 22,
   "outputs": [],
   "source": [
    "from tqdm import tqdm\n",
    "\n",
    "def init_mlp_model(lr_0, disc_lr_0, hidden_sizes, J, eta, mu, alpha, act_fn, dropout_rate, l2_coef):\n",
    "\n",
    "    contin_optim = optax.chain(optax.scale_by_adam(), optax.scale(-lr_0))\n",
    "    disc_step_size_fn = lambda step: disc_lr_0\n",
    "    disc_optim = disc_sgld_gradient_update(disc_step_size_fn, momentum_decay=0, preconditioner=get_identity_preconditioner())\n",
    "\n",
    "    model = MLP(contin_optim, disc_optim,\n",
    "                    hidden_sizes, J, eta, mu, alpha,\n",
    "                    act_fn, dropout_rate, l2_coef)\n",
    "\n",
    "    return model\n",
    "\n",
    "\n",
    "def train_mlp_model(rng_key, train_loader, epochs, lr_0, disc_lr_0,\n",
    "                       hidden_sizes, eta, mu, alpha, J,\n",
    "                       act_fn_name, dropout_rate, l2_coef,\n",
    "                      max_patience, eval_every=50, show_pgbar=False):\n",
    "\n",
    "    act_fn = get_act_fn(act_fn_name)\n",
    "    model = init_mlp_model(lr_0, disc_lr_0, hidden_sizes, J, eta, mu, alpha, act_fn, dropout_rate, l2_coef)\n",
    "\n",
    "    init_params, init_gamma, init_opt_state, init_disc_opt_state = model.init(rng_key, next(iter(train_loader))[0])\n",
    "\n",
    "    val_losses = []\n",
    "    params, gamma, opt_state, disc_opt_state = init_params, init_gamma, init_opt_state, init_disc_opt_state\n",
    "    states, disc_states = params, gamma\n",
    "    lst_loss = 1e6\n",
    "    patience = 0\n",
    "    key = rng_key\n",
    "    if show_pgbar:\n",
    "        pgbar = tqdm(range(epochs))\n",
    "    else:\n",
    "        pgbar = range(epochs)\n",
    "    for epoch in pgbar:\n",
    "        for batch_x, batch_y in train_loader:\n",
    "            _, key = jax.random.split(key, 2)\n",
    "            params, gamma, opt_state, disc_opt_state = model.update(key, params, gamma, opt_state, disc_opt_state, batch_x, batch_y)\n",
    "\n",
    "        if epoch % eval_every == 0:\n",
    "            val_loss = eval_mlp_model(key, model, X_val, y_val, params, gamma)\n",
    "            if epoch > 0:\n",
    "                if val_loss > val_losses[-1]:\n",
    "                    patience += 1\n",
    "                else:\n",
    "                    if val_loss < lst_loss:\n",
    "                        states = params\n",
    "                        disc_states = gamma\n",
    "                        lst_loss = val_loss\n",
    "\n",
    "            val_losses.append(val_loss)\n",
    "            if show_pgbar:\n",
    "                pgbar.set_postfix({\"val_loss\": val_loss, \"lst_loss\": lst_loss, \"patience\": patience})\n",
    "\n",
    "\n",
    "        if patience > max_patience:\n",
    "            break\n",
    "\n",
    "\n",
    "    return model, states, disc_states, val_losses\n",
    "\n",
    "\n",
    "def train_deep_ensembles(rng_key, train_loader, epochs, lr_0, disc_lr_0,\n",
    "                            hidden_sizes, eta, mu, alpha, J,\n",
    "                            act_fn_name, dropout_rate, l2_coef,\n",
    "                            max_patience, num_ensembles=5 ,eval_every=50, show_pgbar=False):\n",
    "\n",
    "    ens_models = []\n",
    "    ens_states = []\n",
    "    ens_disc_states = []\n",
    "    ens_val_losses = []\n",
    "    key = rng_key\n",
    "    for i in range(num_ensembles):\n",
    "        _, key = jax.random.split(key, 2)\n",
    "        model, state, disc_state, val_losses = train_mlp_model(key, train_loader, epochs, lr_0, disc_lr_0,\n",
    "                                                               hidden_sizes, eta, mu, alpha, J,\n",
    "                                                               act_fn_name, dropout_rate, l2_coef,\n",
    "                                                               max_patience, eval_every, show_pgbar)\n",
    "\n",
    "        ens_models.append(model)\n",
    "        ens_states.append(state)\n",
    "        ens_disc_states.append(disc_state)\n",
    "        ens_val_losses.append(val_losses)\n",
    "\n",
    "    return ens_models, ens_states, ens_disc_states, ens_val_losses\n",
    "\n",
    "def eval_deep_ens_model(rng, models, X, y, states, disc_states):\n",
    "    num_ens = len(models)\n",
    "    key = rng\n",
    "    y_preds = np.zeros((num_ens, len(y)))\n",
    "    for i in range(num_ens):\n",
    "        _, key = jax.random.split(key, 2)\n",
    "        y_preds[i] = models[i].apply(states[i], key, disc_states[i], X, False).squeeze()\n",
    "\n",
    "\n",
    "    y_preds = np.mean(y_preds, axis=0)\n",
    "    rmse = jnp.sqrt(jnp.mean((y - y_preds)**2))\n",
    "    return rmse\n",
    "\n",
    "def score_deep_ens_model(rng, models, X, y, states, disc_states):\n",
    "    num_ens = len(models)\n",
    "    key = rng\n",
    "    y_preds = np.zeros((num_ens, len(y)))\n",
    "    for i in range(num_ens):\n",
    "        _, key = jax.random.split(key, 2)\n",
    "        y_preds[i] = models[i].apply(states[i], key, disc_states[i], X, True).squeeze()\n",
    "\n",
    "\n",
    "    y_preds = np.mean(y_preds, axis=0)\n",
    "    rmse = jnp.sqrt(jnp.mean((y - y_preds)**2))\n",
    "    if np.isfinite(y_preds).all():\n",
    "        r2 = r2_score(y, y_preds)\n",
    "    else:\n",
    "        r2 = np.nan\n",
    "    return rmse, r2\n",
    "\n",
    "def eval_mlp_model(key, model, X, y, params, gammas):\n",
    "\n",
    "    if isinstance(params, list):\n",
    "        y_preds = np.zeros((len(params), len(y)))\n",
    "        for i, (param, gamma) in enumerate(zip(params, gammas)):\n",
    "            preds = model.apply(param, key, gamma, X, False).ravel()\n",
    "            y_preds[i] = preds\n",
    "\n",
    "        y_preds = np.mean(y_preds, axis=0)\n",
    "        rmse = jnp.sqrt(jnp.mean((y - y_preds)**2))\n",
    "    else:\n",
    "        y_preds = model.apply(params, key, gammas, X, False).ravel()\n",
    "        rmse = jnp.sqrt(jnp.mean((y - y_preds)**2))\n",
    "\n",
    "    return rmse\n",
    "\n",
    "def score_mlp_model(key, model, X, y, params, gammas):\n",
    "    if isinstance(params, list):\n",
    "        y_preds = np.zeros((len(params), len(y)))\n",
    "        for i, (param, gamma) in enumerate(zip(params, gammas)):\n",
    "            preds = model.apply(param, key, gamma, X, False).squeeze()\n",
    "            # preds_mean = preds[::2]\n",
    "            y_preds[i] = preds\n",
    "\n",
    "        y_preds = np.mean(y_preds, axis=0)\n",
    "        rmse = jnp.sqrt(jnp.mean((y - y_preds)**2))\n",
    "        if np.isfinite(y_preds).all():\n",
    "            r2 = r2_score(y, y_preds)\n",
    "        else:\n",
    "            r2 = np.nan\n",
    "    else:\n",
    "        y_preds = model.apply(params, key, gammas, X, False).squeeze()\n",
    "        rmse = jnp.sqrt(jnp.mean((y - y_preds)**2))\n",
    "        if np.isfinite(y_preds).all():\n",
    "            r2 = r2_score(y, y_preds)\n",
    "        else:\n",
    "            r2 = np.nan\n",
    "\n",
    "    return rmse, r2\n",
    "\n",
    "def eval_per_model_score_bg(model, X, y, params, gammas):\n",
    "    disc_states = tree_utils.tree_stack(gammas)\n",
    "    contin_states = tree_utils.tree_stack(params)\n",
    "\n",
    "    def eval(p, g):\n",
    "        preds = model.apply(p, g, X, False).ravel()\n",
    "        rmse = jnp.sqrt(jnp.mean((y - preds)**2))\n",
    "        return rmse\n",
    "\n",
    "    scores = jax.vmap(eval)(contin_states, disc_states)\n",
    "\n",
    "\n",
    "    return scores"
   ],
   "metadata": {
    "collapsed": false,
    "pycharm": {
     "name": "#%%\n"
    }
   }
  },
  {
   "cell_type": "code",
   "execution_count": 23,
   "outputs": [],
   "source": [
    "from tqdm import tqdm\n",
    "def evaluate_bnn_bg_models(model, X, y, params, gammas):\n",
    "    # eval_fn = lambda p, g: model.apply(p, g, X).ravel()\n",
    "    # preds = jax.vmap(eval_fn)(params, gammas)\n",
    "    # preds = preds.reshape(-1, preds.shape[-1])\n",
    "    # losses = jax.vmap(lambda x, z: jnp.sqrt(jnp.mean((x - z)**2)), in_axes=(0, None))(preds, y)\n",
    "    def eval(p, g):\n",
    "        preds = model.apply(p, g, X, False).ravel()\n",
    "        rmse = jnp.sqrt(jnp.mean((y - preds)**2))\n",
    "        return rmse\n",
    "    losses = jax.vmap(eval)(params, gammas)\n",
    "    return jnp.mean(losses)\n",
    "\n",
    "\n",
    "def get_feats_dropout_loss(rng, model, params, gammas, X, y):\n",
    "    var_loss_dict = {\"feats_idx\": [], \"num_models\": [] , \"loss_on\": [], \"loss_off\": [], \"loss_diff\": []}\n",
    "\n",
    "    disc_states = tree_utils.tree_stack(gammas)\n",
    "    contin_states = tree_utils.tree_stack(params)\n",
    "\n",
    "    eval_fn = jax.jit(lambda X, y, params, gammas: evaluate_bnn_bg_models(model, X, y, params, gammas))\n",
    "    n, p = X.shape\n",
    "    key = rng\n",
    "    pgbar = tqdm(range(p))\n",
    "    for idx in pgbar:\n",
    "        key, _ = jax.random.split(key, 2)\n",
    "        idx_on = np.argwhere(disc_states[:,idx] == 1.).ravel()\n",
    "        loss_on, loss_off = 0., 0.\n",
    "        if idx_on.size == 0: ## irrelevant feature\n",
    "            loss_diff = 1e9\n",
    "        else:\n",
    "            disc_states_on = disc_states[idx_on]\n",
    "            params_on = jax.tree_util.tree_map(lambda x: x[idx_on], contin_states)\n",
    "            loss_on = eval_fn(X, y, params_on, disc_states_on)\n",
    "\n",
    "            # Turn-off the variable, and see how the loss changes\n",
    "            # disc_states_off = disc_states_on.at[:,idx].set(0)\n",
    "            X_off = np.copy(X)\n",
    "            # X_off[:,idx] = np.zeros(n)\n",
    "            X_off[:,idx] = jax.random.normal(key, shape=(n,))\n",
    "            loss_off = eval_fn(X_off, y, params_on, disc_states_on)\n",
    "\n",
    "            # loss_diff = (loss_on - loss_off) * (len(idx_on) / num_models)\n",
    "            loss_diff = (loss_on - loss_off)\n",
    "\n",
    "\n",
    "        pgbar.set_postfix({\"loss_diff\": loss_diff})\n",
    "\n",
    "\n",
    "        var_loss_dict[\"feats_idx\"].append(idx)\n",
    "        var_loss_dict[\"num_models\"].append(idx_on.size)\n",
    "        var_loss_dict[\"loss_on\"].append(loss_on)\n",
    "        var_loss_dict[\"loss_off\"].append(loss_off)\n",
    "        var_loss_dict[\"loss_diff\"].append(loss_diff)\n",
    "\n",
    "\n",
    "    var_loss_df = pd.DataFrame(var_loss_dict).sort_values(by=\"loss_diff\")\n",
    "\n",
    "    return var_loss_df\n",
    "\n",
    "def get_gene_names(gene_cols):\n",
    "    return [gene.split(\"(\")[0].strip() for gene in gene_cols]"
   ],
   "metadata": {
    "collapsed": false,
    "pycharm": {
     "name": "#%%\n"
    }
   }
  },
  {
   "cell_type": "markdown",
   "source": [
    "##### Optuna"
   ],
   "metadata": {
    "collapsed": false,
    "pycharm": {
     "name": "#%% md\n"
    }
   }
  },
  {
   "cell_type": "code",
   "execution_count": 1,
   "outputs": [],
   "source": [
    "import optuna\n",
    "from operator import itemgetter\n",
    "def objective(trial, seed, x_train, x_val, y_train, y_val, J, epochs,\n",
    "              batch_size, hidden_sizes ,bg=True):\n",
    "\n",
    "    disc_lr = trial.suggest_categorical(\"disc_lr\", [1e-3, 1e-2, 1e-1, 0.5, 0.8])\n",
    "    lr_0 = trial.suggest_categorical(\"lr_0\", [1e-3, 5e-3, 1e-2, 1e-1])\n",
    "    # temp = trial.suggest_categorical(\"temp\", [1e-5, 1e-4, 1e-3, 1e-2])\n",
    "    temp = 1.0\n",
    "    # act_fn = trial.suggest_categorical(\"act_fn\", [\"relu\", \"swish\", \"celu\", \"tanh\", \"relu6\", \"glu\"])\n",
    "    # act_fn = trial.suggest_categorical(\"act_fn\", [\"relu\", \"swish\", \"celu\", \"relu6\"])\n",
    "    # act_fn = \"tanh\"\n",
    "    act_fn = \"relu6\"\n",
    "    if bg:\n",
    "        eta = trial.suggest_float(\"eta\", 1.0, 1e2)\n",
    "    else:\n",
    "        eta = 1.0\n",
    "    mu = trial.suggest_float(\"mu\", 1.0, 1e2)\n",
    "    num_cycles = trial.suggest_int(\"num_cycles\", 2, 10)\n",
    "    alpha = trial.suggest_float(\"alpha\", 10, 1e3, log=True)\n",
    "    # beta = trial.suggest_float(\"beta\", 0.1, 0.9)\n",
    "    beta = 0.8\n",
    "    # M = trial.suggest_int(\"M\", 1, 5)\n",
    "    M = 1\n",
    "    sigma = 1.0\n",
    "\n",
    "    # num_layers = trial.suggest_int(\"num_layers\", 1, 5)\n",
    "    # hidden_sizes = []\n",
    "    # for i in range(num_layers):\n",
    "    #     n_units = trial.suggest_categorical(f\"n_units_{i+1}\", [32, 64, 128, 256])\n",
    "    #     hidden_sizes.append(n_units)\n",
    "\n",
    "\n",
    "    torch.manual_seed(seed)\n",
    "    data_loader = NumpyLoader(NumpyData(x_train, y_train), batch_size=batch_size, shuffle=False)\n",
    "\n",
    "    bg_bnn_model, states, disc_states, _, _, _, _ = train_bg_bnn_model(seed, data_loader, epochs, num_cycles, beta, M, lr_0, disc_lr,\n",
    "                                                           hidden_sizes, temp, sigma, eta, mu, alpha, J, act_fn)\n",
    "\n",
    "    rmse = eval_bg_bnn_model(bg_bnn_model, x_val, y_val, states, disc_states)\n",
    "    # val_losses = eval_per_model_score_bg(bg_bnn_model, x_val, y_val, states, disc_states)\n",
    "    # model_idxs = jnp.argsort(val_losses).squeeze()\n",
    "    # # states_sel, disc_states_sel = list(itemgetter(*model_idxs)(states)), list(itemgetter(*model_idxs)(disc_states))\n",
    "    # states_sel, disc_states_sel = states[model_idxs[0]], disc_states[model_idxs[0]]\n",
    "    # rmse = eval_bg_bnn_model(bg_bnn_model, x_val, y_val, states_sel, disc_states_sel)\n",
    "    return rmse\n",
    "\n",
    "\n",
    "def objective_mlp(trial, seed, x_train, x_val, y_train, y_val, J, epochs,\n",
    "              batch_size, hidden_sizes, bg=True):\n",
    "\n",
    "    disc_lr = trial.suggest_categorical(\"disc_lr\", [1e-3, 1e-2, 1e-1, 0.5, 0.8])\n",
    "    lr_0 = trial.suggest_categorical(\"lr_0\", [1e-3, 5e-3, 1e-2, 1e-1])\n",
    "    act_fn = trial.suggest_categorical(\"act_fn\", [\"relu\", \"swish\", \"celu\", \"tanh\", \"relu6\", \"glu\"])\n",
    "    if bg:\n",
    "        eta = trial.suggest_float(\"eta\", 1.0, 1e2)\n",
    "    else:\n",
    "        eta = 1.0\n",
    "    mu = trial.suggest_float(\"mu\", 10.0, 1e2)\n",
    "    alpha = trial.suggest_float(\"alpha\", 1e-2, 1e2, log=True)\n",
    "\n",
    "    dropout_rate = trial.suggest_categorical(\"dropout_rate\", [0, 0.1, 0.2, 0.3, 0.4, 0.5, 0.6, 0.7])\n",
    "    l2_coef = trial.suggest_float(\"l2_coef\", 1e-6, 1e-3, log=True)\n",
    "    max_patience = trial.suggest_categorical(\"max_patience\", [10, 20, 30, 40, 50])\n",
    "    # num_ens = trial.suggest_int(\"num_ens\", 3, 15)\n",
    "    num_ens = 5\n",
    "    torch.manual_seed(seed)\n",
    "    rng = jax.random.PRNGKey(seed)\n",
    "    data_loader = NumpyLoader(NumpyData(x_train, y_train), batch_size=batch_size, shuffle=False)\n",
    "\n",
    "    # mlp_model, states, disc_states, _ = train_mlp_model(seed, data_loader, epochs, lr_0, disc_lr,\n",
    "    #                                                        hidden_sizes,eta, mu, alpha, J, act_fn, dropout_rate, l2_coef, max_patience)\n",
    "\n",
    "    # rmse = eval_mlp_model(rng, mlp_model, x_val, y_val, states, disc_states)\n",
    "\n",
    "    ens_models, ens_states, ens_disc_states, _ = train_deep_ensembles(rng, data_loader, epochs, lr_0, disc_lr,\n",
    "                                                           hidden_sizes,eta, mu, alpha, J, act_fn, dropout_rate, l2_coef, max_patience, num_ensembles=num_ens)\n",
    "\n",
    "    rmse = eval_deep_ens_model(rng, ens_models, x_val, y_val, ens_states, disc_states)\n",
    "\n",
    "    return rmse"
   ],
   "metadata": {
    "collapsed": false,
    "pycharm": {
     "name": "#%%\n"
    }
   }
  },
  {
   "cell_type": "code",
   "execution_count": null,
   "outputs": [],
   "source": [
    "optuna.logging.set_verbosity(optuna.logging.INFO)\n",
    "sampler = optuna.samplers.TPESampler()\n",
    "study = optuna.create_study(sampler=sampler)\n",
    "study.optimize(lambda trial: objective(trial, seed, X_train, X_val, y_train, y_val, J_cov, 50, 128, [256, 128, 64,  32]), timeout=120)"
   ],
   "metadata": {
    "collapsed": false,
    "pycharm": {
     "name": "#%%\n",
     "is_executing": true
    }
   }
  },
  {
   "cell_type": "code",
   "execution_count": 133,
   "outputs": [
    {
     "name": "stdout",
     "output_type": "stream",
     "text": [
      "{'disc_lr': 0.5, 'lr_0': 0.1, 'eta': 58.13148255884603, 'mu': 72.09744819383889, 'num_cycles': 8, 'alpha': 21.81689673714172}\n"
     ]
    }
   ],
   "source": [
    "# bg_config = study.best_params\n",
    "bg_config = {'disc_lr': 0.5, 'lr_0': 0.1, 'eta': 58.13148255884603, 'mu': 72.09744819383889, 'num_cycles': 8, 'alpha': 21.81689673714172}\n",
    "print(bg_config)"
   ],
   "metadata": {
    "collapsed": false,
    "pycharm": {
     "name": "#%%\n"
    }
   }
  },
  {
   "cell_type": "code",
   "execution_count": 497,
   "outputs": [
    {
     "data": {
      "application/vnd.plotly.v1+json": {
       "data": [
        {
         "cliponaxis": false,
         "hovertemplate": [
          "num_cycles (IntDistribution): 0.007844236466942798<extra></extra>",
          "mu (FloatDistribution): 0.0984666728456066<extra></extra>",
          "eta (FloatDistribution): 0.17078558895749038<extra></extra>",
          "alpha (FloatDistribution): 0.1881356400877991<extra></extra>",
          "disc_lr (CategoricalDistribution): 0.20721269845177878<extra></extra>",
          "lr_0 (CategoricalDistribution): 0.32755516319038225<extra></extra>"
         ],
         "marker": {
          "color": "rgb(66,146,198)"
         },
         "orientation": "h",
         "text": [
          "<0.01",
          "0.10",
          "0.17",
          "0.19",
          "0.21",
          "0.33"
         ],
         "textposition": "outside",
         "x": [
          0.007844236466942798,
          0.0984666728456066,
          0.17078558895749038,
          0.1881356400877991,
          0.20721269845177878,
          0.32755516319038225
         ],
         "y": [
          "num_cycles",
          "mu",
          "eta",
          "alpha",
          "disc_lr",
          "lr_0"
         ],
         "type": "bar"
        }
       ],
       "layout": {
        "showlegend": false,
        "title": {
         "text": "Hyperparameter Importances"
        },
        "xaxis": {
         "title": {
          "text": "Importance for Objective Value"
         }
        },
        "yaxis": {
         "title": {
          "text": "Hyperparameter"
         }
        },
        "template": {
         "data": {
          "histogram2dcontour": [
           {
            "type": "histogram2dcontour",
            "colorbar": {
             "outlinewidth": 0,
             "ticks": ""
            },
            "colorscale": [
             [
              0.0,
              "#0d0887"
             ],
             [
              0.1111111111111111,
              "#46039f"
             ],
             [
              0.2222222222222222,
              "#7201a8"
             ],
             [
              0.3333333333333333,
              "#9c179e"
             ],
             [
              0.4444444444444444,
              "#bd3786"
             ],
             [
              0.5555555555555556,
              "#d8576b"
             ],
             [
              0.6666666666666666,
              "#ed7953"
             ],
             [
              0.7777777777777778,
              "#fb9f3a"
             ],
             [
              0.8888888888888888,
              "#fdca26"
             ],
             [
              1.0,
              "#f0f921"
             ]
            ]
           }
          ],
          "choropleth": [
           {
            "type": "choropleth",
            "colorbar": {
             "outlinewidth": 0,
             "ticks": ""
            }
           }
          ],
          "histogram2d": [
           {
            "type": "histogram2d",
            "colorbar": {
             "outlinewidth": 0,
             "ticks": ""
            },
            "colorscale": [
             [
              0.0,
              "#0d0887"
             ],
             [
              0.1111111111111111,
              "#46039f"
             ],
             [
              0.2222222222222222,
              "#7201a8"
             ],
             [
              0.3333333333333333,
              "#9c179e"
             ],
             [
              0.4444444444444444,
              "#bd3786"
             ],
             [
              0.5555555555555556,
              "#d8576b"
             ],
             [
              0.6666666666666666,
              "#ed7953"
             ],
             [
              0.7777777777777778,
              "#fb9f3a"
             ],
             [
              0.8888888888888888,
              "#fdca26"
             ],
             [
              1.0,
              "#f0f921"
             ]
            ]
           }
          ],
          "heatmap": [
           {
            "type": "heatmap",
            "colorbar": {
             "outlinewidth": 0,
             "ticks": ""
            },
            "colorscale": [
             [
              0.0,
              "#0d0887"
             ],
             [
              0.1111111111111111,
              "#46039f"
             ],
             [
              0.2222222222222222,
              "#7201a8"
             ],
             [
              0.3333333333333333,
              "#9c179e"
             ],
             [
              0.4444444444444444,
              "#bd3786"
             ],
             [
              0.5555555555555556,
              "#d8576b"
             ],
             [
              0.6666666666666666,
              "#ed7953"
             ],
             [
              0.7777777777777778,
              "#fb9f3a"
             ],
             [
              0.8888888888888888,
              "#fdca26"
             ],
             [
              1.0,
              "#f0f921"
             ]
            ]
           }
          ],
          "heatmapgl": [
           {
            "type": "heatmapgl",
            "colorbar": {
             "outlinewidth": 0,
             "ticks": ""
            },
            "colorscale": [
             [
              0.0,
              "#0d0887"
             ],
             [
              0.1111111111111111,
              "#46039f"
             ],
             [
              0.2222222222222222,
              "#7201a8"
             ],
             [
              0.3333333333333333,
              "#9c179e"
             ],
             [
              0.4444444444444444,
              "#bd3786"
             ],
             [
              0.5555555555555556,
              "#d8576b"
             ],
             [
              0.6666666666666666,
              "#ed7953"
             ],
             [
              0.7777777777777778,
              "#fb9f3a"
             ],
             [
              0.8888888888888888,
              "#fdca26"
             ],
             [
              1.0,
              "#f0f921"
             ]
            ]
           }
          ],
          "contourcarpet": [
           {
            "type": "contourcarpet",
            "colorbar": {
             "outlinewidth": 0,
             "ticks": ""
            }
           }
          ],
          "contour": [
           {
            "type": "contour",
            "colorbar": {
             "outlinewidth": 0,
             "ticks": ""
            },
            "colorscale": [
             [
              0.0,
              "#0d0887"
             ],
             [
              0.1111111111111111,
              "#46039f"
             ],
             [
              0.2222222222222222,
              "#7201a8"
             ],
             [
              0.3333333333333333,
              "#9c179e"
             ],
             [
              0.4444444444444444,
              "#bd3786"
             ],
             [
              0.5555555555555556,
              "#d8576b"
             ],
             [
              0.6666666666666666,
              "#ed7953"
             ],
             [
              0.7777777777777778,
              "#fb9f3a"
             ],
             [
              0.8888888888888888,
              "#fdca26"
             ],
             [
              1.0,
              "#f0f921"
             ]
            ]
           }
          ],
          "surface": [
           {
            "type": "surface",
            "colorbar": {
             "outlinewidth": 0,
             "ticks": ""
            },
            "colorscale": [
             [
              0.0,
              "#0d0887"
             ],
             [
              0.1111111111111111,
              "#46039f"
             ],
             [
              0.2222222222222222,
              "#7201a8"
             ],
             [
              0.3333333333333333,
              "#9c179e"
             ],
             [
              0.4444444444444444,
              "#bd3786"
             ],
             [
              0.5555555555555556,
              "#d8576b"
             ],
             [
              0.6666666666666666,
              "#ed7953"
             ],
             [
              0.7777777777777778,
              "#fb9f3a"
             ],
             [
              0.8888888888888888,
              "#fdca26"
             ],
             [
              1.0,
              "#f0f921"
             ]
            ]
           }
          ],
          "mesh3d": [
           {
            "type": "mesh3d",
            "colorbar": {
             "outlinewidth": 0,
             "ticks": ""
            }
           }
          ],
          "scatter": [
           {
            "fillpattern": {
             "fillmode": "overlay",
             "size": 10,
             "solidity": 0.2
            },
            "type": "scatter"
           }
          ],
          "parcoords": [
           {
            "type": "parcoords",
            "line": {
             "colorbar": {
              "outlinewidth": 0,
              "ticks": ""
             }
            }
           }
          ],
          "scatterpolargl": [
           {
            "type": "scatterpolargl",
            "marker": {
             "colorbar": {
              "outlinewidth": 0,
              "ticks": ""
             }
            }
           }
          ],
          "bar": [
           {
            "error_x": {
             "color": "#2a3f5f"
            },
            "error_y": {
             "color": "#2a3f5f"
            },
            "marker": {
             "line": {
              "color": "#E5ECF6",
              "width": 0.5
             },
             "pattern": {
              "fillmode": "overlay",
              "size": 10,
              "solidity": 0.2
             }
            },
            "type": "bar"
           }
          ],
          "scattergeo": [
           {
            "type": "scattergeo",
            "marker": {
             "colorbar": {
              "outlinewidth": 0,
              "ticks": ""
             }
            }
           }
          ],
          "scatterpolar": [
           {
            "type": "scatterpolar",
            "marker": {
             "colorbar": {
              "outlinewidth": 0,
              "ticks": ""
             }
            }
           }
          ],
          "histogram": [
           {
            "marker": {
             "pattern": {
              "fillmode": "overlay",
              "size": 10,
              "solidity": 0.2
             }
            },
            "type": "histogram"
           }
          ],
          "scattergl": [
           {
            "type": "scattergl",
            "marker": {
             "colorbar": {
              "outlinewidth": 0,
              "ticks": ""
             }
            }
           }
          ],
          "scatter3d": [
           {
            "type": "scatter3d",
            "line": {
             "colorbar": {
              "outlinewidth": 0,
              "ticks": ""
             }
            },
            "marker": {
             "colorbar": {
              "outlinewidth": 0,
              "ticks": ""
             }
            }
           }
          ],
          "scattermapbox": [
           {
            "type": "scattermapbox",
            "marker": {
             "colorbar": {
              "outlinewidth": 0,
              "ticks": ""
             }
            }
           }
          ],
          "scatterternary": [
           {
            "type": "scatterternary",
            "marker": {
             "colorbar": {
              "outlinewidth": 0,
              "ticks": ""
             }
            }
           }
          ],
          "scattercarpet": [
           {
            "type": "scattercarpet",
            "marker": {
             "colorbar": {
              "outlinewidth": 0,
              "ticks": ""
             }
            }
           }
          ],
          "carpet": [
           {
            "aaxis": {
             "endlinecolor": "#2a3f5f",
             "gridcolor": "white",
             "linecolor": "white",
             "minorgridcolor": "white",
             "startlinecolor": "#2a3f5f"
            },
            "baxis": {
             "endlinecolor": "#2a3f5f",
             "gridcolor": "white",
             "linecolor": "white",
             "minorgridcolor": "white",
             "startlinecolor": "#2a3f5f"
            },
            "type": "carpet"
           }
          ],
          "table": [
           {
            "cells": {
             "fill": {
              "color": "#EBF0F8"
             },
             "line": {
              "color": "white"
             }
            },
            "header": {
             "fill": {
              "color": "#C8D4E3"
             },
             "line": {
              "color": "white"
             }
            },
            "type": "table"
           }
          ],
          "barpolar": [
           {
            "marker": {
             "line": {
              "color": "#E5ECF6",
              "width": 0.5
             },
             "pattern": {
              "fillmode": "overlay",
              "size": 10,
              "solidity": 0.2
             }
            },
            "type": "barpolar"
           }
          ],
          "pie": [
           {
            "automargin": true,
            "type": "pie"
           }
          ]
         },
         "layout": {
          "autotypenumbers": "strict",
          "colorway": [
           "#636efa",
           "#EF553B",
           "#00cc96",
           "#ab63fa",
           "#FFA15A",
           "#19d3f3",
           "#FF6692",
           "#B6E880",
           "#FF97FF",
           "#FECB52"
          ],
          "font": {
           "color": "#2a3f5f"
          },
          "hovermode": "closest",
          "hoverlabel": {
           "align": "left"
          },
          "paper_bgcolor": "white",
          "plot_bgcolor": "#E5ECF6",
          "polar": {
           "bgcolor": "#E5ECF6",
           "angularaxis": {
            "gridcolor": "white",
            "linecolor": "white",
            "ticks": ""
           },
           "radialaxis": {
            "gridcolor": "white",
            "linecolor": "white",
            "ticks": ""
           }
          },
          "ternary": {
           "bgcolor": "#E5ECF6",
           "aaxis": {
            "gridcolor": "white",
            "linecolor": "white",
            "ticks": ""
           },
           "baxis": {
            "gridcolor": "white",
            "linecolor": "white",
            "ticks": ""
           },
           "caxis": {
            "gridcolor": "white",
            "linecolor": "white",
            "ticks": ""
           }
          },
          "coloraxis": {
           "colorbar": {
            "outlinewidth": 0,
            "ticks": ""
           }
          },
          "colorscale": {
           "sequential": [
            [
             0.0,
             "#0d0887"
            ],
            [
             0.1111111111111111,
             "#46039f"
            ],
            [
             0.2222222222222222,
             "#7201a8"
            ],
            [
             0.3333333333333333,
             "#9c179e"
            ],
            [
             0.4444444444444444,
             "#bd3786"
            ],
            [
             0.5555555555555556,
             "#d8576b"
            ],
            [
             0.6666666666666666,
             "#ed7953"
            ],
            [
             0.7777777777777778,
             "#fb9f3a"
            ],
            [
             0.8888888888888888,
             "#fdca26"
            ],
            [
             1.0,
             "#f0f921"
            ]
           ],
           "sequentialminus": [
            [
             0.0,
             "#0d0887"
            ],
            [
             0.1111111111111111,
             "#46039f"
            ],
            [
             0.2222222222222222,
             "#7201a8"
            ],
            [
             0.3333333333333333,
             "#9c179e"
            ],
            [
             0.4444444444444444,
             "#bd3786"
            ],
            [
             0.5555555555555556,
             "#d8576b"
            ],
            [
             0.6666666666666666,
             "#ed7953"
            ],
            [
             0.7777777777777778,
             "#fb9f3a"
            ],
            [
             0.8888888888888888,
             "#fdca26"
            ],
            [
             1.0,
             "#f0f921"
            ]
           ],
           "diverging": [
            [
             0,
             "#8e0152"
            ],
            [
             0.1,
             "#c51b7d"
            ],
            [
             0.2,
             "#de77ae"
            ],
            [
             0.3,
             "#f1b6da"
            ],
            [
             0.4,
             "#fde0ef"
            ],
            [
             0.5,
             "#f7f7f7"
            ],
            [
             0.6,
             "#e6f5d0"
            ],
            [
             0.7,
             "#b8e186"
            ],
            [
             0.8,
             "#7fbc41"
            ],
            [
             0.9,
             "#4d9221"
            ],
            [
             1,
             "#276419"
            ]
           ]
          },
          "xaxis": {
           "gridcolor": "white",
           "linecolor": "white",
           "ticks": "",
           "title": {
            "standoff": 15
           },
           "zerolinecolor": "white",
           "automargin": true,
           "zerolinewidth": 2
          },
          "yaxis": {
           "gridcolor": "white",
           "linecolor": "white",
           "ticks": "",
           "title": {
            "standoff": 15
           },
           "zerolinecolor": "white",
           "automargin": true,
           "zerolinewidth": 2
          },
          "scene": {
           "xaxis": {
            "backgroundcolor": "#E5ECF6",
            "gridcolor": "white",
            "linecolor": "white",
            "showbackground": true,
            "ticks": "",
            "zerolinecolor": "white",
            "gridwidth": 2
           },
           "yaxis": {
            "backgroundcolor": "#E5ECF6",
            "gridcolor": "white",
            "linecolor": "white",
            "showbackground": true,
            "ticks": "",
            "zerolinecolor": "white",
            "gridwidth": 2
           },
           "zaxis": {
            "backgroundcolor": "#E5ECF6",
            "gridcolor": "white",
            "linecolor": "white",
            "showbackground": true,
            "ticks": "",
            "zerolinecolor": "white",
            "gridwidth": 2
           }
          },
          "shapedefaults": {
           "line": {
            "color": "#2a3f5f"
           }
          },
          "annotationdefaults": {
           "arrowcolor": "#2a3f5f",
           "arrowhead": 0,
           "arrowwidth": 1
          },
          "geo": {
           "bgcolor": "white",
           "landcolor": "#E5ECF6",
           "subunitcolor": "white",
           "showland": true,
           "showlakes": true,
           "lakecolor": "white"
          },
          "title": {
           "x": 0.05
          },
          "mapbox": {
           "style": "light"
          }
         }
        }
       },
       "config": {
        "plotlyServerURL": "https://plot.ly"
       }
      },
      "text/html": "<div>                            <div id=\"b5a403f3-7eb7-4050-acfc-889bc3703b4d\" class=\"plotly-graph-div\" style=\"height:525px; width:100%;\"></div>            <script type=\"text/javascript\">                require([\"plotly\"], function(Plotly) {                    window.PLOTLYENV=window.PLOTLYENV || {};                                    if (document.getElementById(\"b5a403f3-7eb7-4050-acfc-889bc3703b4d\")) {                    Plotly.newPlot(                        \"b5a403f3-7eb7-4050-acfc-889bc3703b4d\",                        [{\"cliponaxis\":false,\"hovertemplate\":[\"num_cycles (IntDistribution): 0.007844236466942798<extra></extra>\",\"mu (FloatDistribution): 0.0984666728456066<extra></extra>\",\"eta (FloatDistribution): 0.17078558895749038<extra></extra>\",\"alpha (FloatDistribution): 0.1881356400877991<extra></extra>\",\"disc_lr (CategoricalDistribution): 0.20721269845177878<extra></extra>\",\"lr_0 (CategoricalDistribution): 0.32755516319038225<extra></extra>\"],\"marker\":{\"color\":\"rgb(66,146,198)\"},\"orientation\":\"h\",\"text\":[\"<0.01\",\"0.10\",\"0.17\",\"0.19\",\"0.21\",\"0.33\"],\"textposition\":\"outside\",\"x\":[0.007844236466942798,0.0984666728456066,0.17078558895749038,0.1881356400877991,0.20721269845177878,0.32755516319038225],\"y\":[\"num_cycles\",\"mu\",\"eta\",\"alpha\",\"disc_lr\",\"lr_0\"],\"type\":\"bar\"}],                        {\"showlegend\":false,\"title\":{\"text\":\"Hyperparameter Importances\"},\"xaxis\":{\"title\":{\"text\":\"Importance for Objective Value\"}},\"yaxis\":{\"title\":{\"text\":\"Hyperparameter\"}},\"template\":{\"data\":{\"histogram2dcontour\":[{\"type\":\"histogram2dcontour\",\"colorbar\":{\"outlinewidth\":0,\"ticks\":\"\"},\"colorscale\":[[0.0,\"#0d0887\"],[0.1111111111111111,\"#46039f\"],[0.2222222222222222,\"#7201a8\"],[0.3333333333333333,\"#9c179e\"],[0.4444444444444444,\"#bd3786\"],[0.5555555555555556,\"#d8576b\"],[0.6666666666666666,\"#ed7953\"],[0.7777777777777778,\"#fb9f3a\"],[0.8888888888888888,\"#fdca26\"],[1.0,\"#f0f921\"]]}],\"choropleth\":[{\"type\":\"choropleth\",\"colorbar\":{\"outlinewidth\":0,\"ticks\":\"\"}}],\"histogram2d\":[{\"type\":\"histogram2d\",\"colorbar\":{\"outlinewidth\":0,\"ticks\":\"\"},\"colorscale\":[[0.0,\"#0d0887\"],[0.1111111111111111,\"#46039f\"],[0.2222222222222222,\"#7201a8\"],[0.3333333333333333,\"#9c179e\"],[0.4444444444444444,\"#bd3786\"],[0.5555555555555556,\"#d8576b\"],[0.6666666666666666,\"#ed7953\"],[0.7777777777777778,\"#fb9f3a\"],[0.8888888888888888,\"#fdca26\"],[1.0,\"#f0f921\"]]}],\"heatmap\":[{\"type\":\"heatmap\",\"colorbar\":{\"outlinewidth\":0,\"ticks\":\"\"},\"colorscale\":[[0.0,\"#0d0887\"],[0.1111111111111111,\"#46039f\"],[0.2222222222222222,\"#7201a8\"],[0.3333333333333333,\"#9c179e\"],[0.4444444444444444,\"#bd3786\"],[0.5555555555555556,\"#d8576b\"],[0.6666666666666666,\"#ed7953\"],[0.7777777777777778,\"#fb9f3a\"],[0.8888888888888888,\"#fdca26\"],[1.0,\"#f0f921\"]]}],\"heatmapgl\":[{\"type\":\"heatmapgl\",\"colorbar\":{\"outlinewidth\":0,\"ticks\":\"\"},\"colorscale\":[[0.0,\"#0d0887\"],[0.1111111111111111,\"#46039f\"],[0.2222222222222222,\"#7201a8\"],[0.3333333333333333,\"#9c179e\"],[0.4444444444444444,\"#bd3786\"],[0.5555555555555556,\"#d8576b\"],[0.6666666666666666,\"#ed7953\"],[0.7777777777777778,\"#fb9f3a\"],[0.8888888888888888,\"#fdca26\"],[1.0,\"#f0f921\"]]}],\"contourcarpet\":[{\"type\":\"contourcarpet\",\"colorbar\":{\"outlinewidth\":0,\"ticks\":\"\"}}],\"contour\":[{\"type\":\"contour\",\"colorbar\":{\"outlinewidth\":0,\"ticks\":\"\"},\"colorscale\":[[0.0,\"#0d0887\"],[0.1111111111111111,\"#46039f\"],[0.2222222222222222,\"#7201a8\"],[0.3333333333333333,\"#9c179e\"],[0.4444444444444444,\"#bd3786\"],[0.5555555555555556,\"#d8576b\"],[0.6666666666666666,\"#ed7953\"],[0.7777777777777778,\"#fb9f3a\"],[0.8888888888888888,\"#fdca26\"],[1.0,\"#f0f921\"]]}],\"surface\":[{\"type\":\"surface\",\"colorbar\":{\"outlinewidth\":0,\"ticks\":\"\"},\"colorscale\":[[0.0,\"#0d0887\"],[0.1111111111111111,\"#46039f\"],[0.2222222222222222,\"#7201a8\"],[0.3333333333333333,\"#9c179e\"],[0.4444444444444444,\"#bd3786\"],[0.5555555555555556,\"#d8576b\"],[0.6666666666666666,\"#ed7953\"],[0.7777777777777778,\"#fb9f3a\"],[0.8888888888888888,\"#fdca26\"],[1.0,\"#f0f921\"]]}],\"mesh3d\":[{\"type\":\"mesh3d\",\"colorbar\":{\"outlinewidth\":0,\"ticks\":\"\"}}],\"scatter\":[{\"fillpattern\":{\"fillmode\":\"overlay\",\"size\":10,\"solidity\":0.2},\"type\":\"scatter\"}],\"parcoords\":[{\"type\":\"parcoords\",\"line\":{\"colorbar\":{\"outlinewidth\":0,\"ticks\":\"\"}}}],\"scatterpolargl\":[{\"type\":\"scatterpolargl\",\"marker\":{\"colorbar\":{\"outlinewidth\":0,\"ticks\":\"\"}}}],\"bar\":[{\"error_x\":{\"color\":\"#2a3f5f\"},\"error_y\":{\"color\":\"#2a3f5f\"},\"marker\":{\"line\":{\"color\":\"#E5ECF6\",\"width\":0.5},\"pattern\":{\"fillmode\":\"overlay\",\"size\":10,\"solidity\":0.2}},\"type\":\"bar\"}],\"scattergeo\":[{\"type\":\"scattergeo\",\"marker\":{\"colorbar\":{\"outlinewidth\":0,\"ticks\":\"\"}}}],\"scatterpolar\":[{\"type\":\"scatterpolar\",\"marker\":{\"colorbar\":{\"outlinewidth\":0,\"ticks\":\"\"}}}],\"histogram\":[{\"marker\":{\"pattern\":{\"fillmode\":\"overlay\",\"size\":10,\"solidity\":0.2}},\"type\":\"histogram\"}],\"scattergl\":[{\"type\":\"scattergl\",\"marker\":{\"colorbar\":{\"outlinewidth\":0,\"ticks\":\"\"}}}],\"scatter3d\":[{\"type\":\"scatter3d\",\"line\":{\"colorbar\":{\"outlinewidth\":0,\"ticks\":\"\"}},\"marker\":{\"colorbar\":{\"outlinewidth\":0,\"ticks\":\"\"}}}],\"scattermapbox\":[{\"type\":\"scattermapbox\",\"marker\":{\"colorbar\":{\"outlinewidth\":0,\"ticks\":\"\"}}}],\"scatterternary\":[{\"type\":\"scatterternary\",\"marker\":{\"colorbar\":{\"outlinewidth\":0,\"ticks\":\"\"}}}],\"scattercarpet\":[{\"type\":\"scattercarpet\",\"marker\":{\"colorbar\":{\"outlinewidth\":0,\"ticks\":\"\"}}}],\"carpet\":[{\"aaxis\":{\"endlinecolor\":\"#2a3f5f\",\"gridcolor\":\"white\",\"linecolor\":\"white\",\"minorgridcolor\":\"white\",\"startlinecolor\":\"#2a3f5f\"},\"baxis\":{\"endlinecolor\":\"#2a3f5f\",\"gridcolor\":\"white\",\"linecolor\":\"white\",\"minorgridcolor\":\"white\",\"startlinecolor\":\"#2a3f5f\"},\"type\":\"carpet\"}],\"table\":[{\"cells\":{\"fill\":{\"color\":\"#EBF0F8\"},\"line\":{\"color\":\"white\"}},\"header\":{\"fill\":{\"color\":\"#C8D4E3\"},\"line\":{\"color\":\"white\"}},\"type\":\"table\"}],\"barpolar\":[{\"marker\":{\"line\":{\"color\":\"#E5ECF6\",\"width\":0.5},\"pattern\":{\"fillmode\":\"overlay\",\"size\":10,\"solidity\":0.2}},\"type\":\"barpolar\"}],\"pie\":[{\"automargin\":true,\"type\":\"pie\"}]},\"layout\":{\"autotypenumbers\":\"strict\",\"colorway\":[\"#636efa\",\"#EF553B\",\"#00cc96\",\"#ab63fa\",\"#FFA15A\",\"#19d3f3\",\"#FF6692\",\"#B6E880\",\"#FF97FF\",\"#FECB52\"],\"font\":{\"color\":\"#2a3f5f\"},\"hovermode\":\"closest\",\"hoverlabel\":{\"align\":\"left\"},\"paper_bgcolor\":\"white\",\"plot_bgcolor\":\"#E5ECF6\",\"polar\":{\"bgcolor\":\"#E5ECF6\",\"angularaxis\":{\"gridcolor\":\"white\",\"linecolor\":\"white\",\"ticks\":\"\"},\"radialaxis\":{\"gridcolor\":\"white\",\"linecolor\":\"white\",\"ticks\":\"\"}},\"ternary\":{\"bgcolor\":\"#E5ECF6\",\"aaxis\":{\"gridcolor\":\"white\",\"linecolor\":\"white\",\"ticks\":\"\"},\"baxis\":{\"gridcolor\":\"white\",\"linecolor\":\"white\",\"ticks\":\"\"},\"caxis\":{\"gridcolor\":\"white\",\"linecolor\":\"white\",\"ticks\":\"\"}},\"coloraxis\":{\"colorbar\":{\"outlinewidth\":0,\"ticks\":\"\"}},\"colorscale\":{\"sequential\":[[0.0,\"#0d0887\"],[0.1111111111111111,\"#46039f\"],[0.2222222222222222,\"#7201a8\"],[0.3333333333333333,\"#9c179e\"],[0.4444444444444444,\"#bd3786\"],[0.5555555555555556,\"#d8576b\"],[0.6666666666666666,\"#ed7953\"],[0.7777777777777778,\"#fb9f3a\"],[0.8888888888888888,\"#fdca26\"],[1.0,\"#f0f921\"]],\"sequentialminus\":[[0.0,\"#0d0887\"],[0.1111111111111111,\"#46039f\"],[0.2222222222222222,\"#7201a8\"],[0.3333333333333333,\"#9c179e\"],[0.4444444444444444,\"#bd3786\"],[0.5555555555555556,\"#d8576b\"],[0.6666666666666666,\"#ed7953\"],[0.7777777777777778,\"#fb9f3a\"],[0.8888888888888888,\"#fdca26\"],[1.0,\"#f0f921\"]],\"diverging\":[[0,\"#8e0152\"],[0.1,\"#c51b7d\"],[0.2,\"#de77ae\"],[0.3,\"#f1b6da\"],[0.4,\"#fde0ef\"],[0.5,\"#f7f7f7\"],[0.6,\"#e6f5d0\"],[0.7,\"#b8e186\"],[0.8,\"#7fbc41\"],[0.9,\"#4d9221\"],[1,\"#276419\"]]},\"xaxis\":{\"gridcolor\":\"white\",\"linecolor\":\"white\",\"ticks\":\"\",\"title\":{\"standoff\":15},\"zerolinecolor\":\"white\",\"automargin\":true,\"zerolinewidth\":2},\"yaxis\":{\"gridcolor\":\"white\",\"linecolor\":\"white\",\"ticks\":\"\",\"title\":{\"standoff\":15},\"zerolinecolor\":\"white\",\"automargin\":true,\"zerolinewidth\":2},\"scene\":{\"xaxis\":{\"backgroundcolor\":\"#E5ECF6\",\"gridcolor\":\"white\",\"linecolor\":\"white\",\"showbackground\":true,\"ticks\":\"\",\"zerolinecolor\":\"white\",\"gridwidth\":2},\"yaxis\":{\"backgroundcolor\":\"#E5ECF6\",\"gridcolor\":\"white\",\"linecolor\":\"white\",\"showbackground\":true,\"ticks\":\"\",\"zerolinecolor\":\"white\",\"gridwidth\":2},\"zaxis\":{\"backgroundcolor\":\"#E5ECF6\",\"gridcolor\":\"white\",\"linecolor\":\"white\",\"showbackground\":true,\"ticks\":\"\",\"zerolinecolor\":\"white\",\"gridwidth\":2}},\"shapedefaults\":{\"line\":{\"color\":\"#2a3f5f\"}},\"annotationdefaults\":{\"arrowcolor\":\"#2a3f5f\",\"arrowhead\":0,\"arrowwidth\":1},\"geo\":{\"bgcolor\":\"white\",\"landcolor\":\"#E5ECF6\",\"subunitcolor\":\"white\",\"showland\":true,\"showlakes\":true,\"lakecolor\":\"white\"},\"title\":{\"x\":0.05},\"mapbox\":{\"style\":\"light\"}}}},                        {\"responsive\": true}                    ).then(function(){\n                            \nvar gd = document.getElementById('b5a403f3-7eb7-4050-acfc-889bc3703b4d');\nvar x = new MutationObserver(function (mutations, observer) {{\n        var display = window.getComputedStyle(gd).display;\n        if (!display || display === 'none') {{\n            console.log([gd, 'removed!']);\n            Plotly.purge(gd);\n            observer.disconnect();\n        }}\n}});\n\n// Listen for the removal of the full notebook cells\nvar notebookContainer = gd.closest('#notebook-container');\nif (notebookContainer) {{\n    x.observe(notebookContainer, {childList: true});\n}}\n\n// Listen for the clearing of the current output cell\nvar outputEl = gd.closest('.output');\nif (outputEl) {{\n    x.observe(outputEl, {childList: true});\n}}\n\n                        })                };                });            </script>        </div>"
     },
     "metadata": {},
     "output_type": "display_data"
    }
   ],
   "source": [
    "from optuna.visualization import plot_slice, plot_parallel_coordinate, plot_param_importances, plot_contour\n",
    "plot_param_importances(study)"
   ],
   "metadata": {
    "collapsed": false,
    "pycharm": {
     "name": "#%%\n"
    }
   }
  },
  {
   "cell_type": "code",
   "execution_count": 27,
   "outputs": [
    {
     "data": {
      "text/plain": "{'disc_lr': 0.5,\n 'lr_0': 0.005,\n 'temp': 1e-05,\n 'act_fn': 'tanh',\n 'eta': 49.86731498163175,\n 'mu': 20.064869172475397,\n 'num_cycles': 7,\n 'alpha': 0.05552015293299009,\n 'beta': 0.32172066704270863,\n 'M': 3}"
     },
     "execution_count": 27,
     "metadata": {},
     "output_type": "execute_result"
    }
   ],
   "source": [
    "import pickle\n",
    "bg_config = pickle.load(open(f\"{save_dir}/configs/bg_bnn_config_s_{seed}_optuna_v1a.pkl\", \"rb\"))\n",
    "bg_config"
   ],
   "metadata": {
    "collapsed": false,
    "pycharm": {
     "name": "#%%\n"
    }
   }
  },
  {
   "cell_type": "code",
   "execution_count": 36,
   "outputs": [
    {
     "data": {
      "text/plain": "14"
     },
     "execution_count": 36,
     "metadata": {},
     "output_type": "execute_result"
    }
   ],
   "source": [
    "\n",
    "rng_key = jax.random.PRNGKey(seed)\n",
    "\n",
    "epochs = 100\n",
    "hidden_sizes = [256, 128, 64, 32]\n",
    "# hidden_sizes = [256, 32, 64, 128, 64]\n",
    "num_cycles = bg_config[\"num_cycles\"]\n",
    "# num_cycles = 10\n",
    "batch_size = 128\n",
    "lr_0, disc_lr_0 = bg_config[\"lr_0\"], bg_config[\"disc_lr\"]\n",
    "temp, sigma = 1.0, 1.0\n",
    "eta, mu = bg_config[\"eta\"], bg_config[\"mu\"]\n",
    "alpha = bg_config[\"alpha\"]\n",
    "beta, beta_noise = 0.9, 0.3\n",
    "# alpha = 1000.0\n",
    "M = 3\n",
    "act_fn = bg_config[\"act_fn\"]\n",
    "\n",
    "torch.manual_seed(seed)\n",
    "data_loader = NumpyLoader(NumpyData(X_train_outer, y_train_outer), batch_size=batch_size, shuffle=False, drop_last=True)\n",
    "val_data = NumpyData(X_val, y_val)\n",
    "\n",
    "\n",
    "bg_bnn_model, bg_bnn_states, bg_disc_states = train_bg_bnn_model(seed, data_loader, epochs, num_cycles, beta, beta_noise, lr_0, disc_lr_0,\n",
    "                                                                 hidden_sizes, temp, sigma, eta, mu, alpha, J, act_fn)\n",
    "\n",
    "len(bg_bnn_states)"
   ],
   "metadata": {
    "collapsed": false,
    "pycharm": {
     "name": "#%%\n"
    }
   }
  },
  {
   "cell_type": "code",
   "execution_count": 37,
   "outputs": [
    {
     "name": "stdout",
     "output_type": "stream",
     "text": [
      "Val  RMSE: 0.22661420702934265, r2_score: 0.6029697443316805\n",
      "Test RMSE: 0.4270890951156616, r2_score: -0.06975229442660069\n"
     ]
    }
   ],
   "source": [
    "bnn_bg_rmse_val, bnn_bg_r2_val = score_bg_bnn_model(bg_bnn_model, X_val, y_val, bg_bnn_states, bg_disc_states)\n",
    "bnn_bg_rmse_test, bnn_bg_r2_test = score_bg_bnn_model(bg_bnn_model, X_test, y_test, bg_bnn_states, bg_disc_states)\n",
    "print(f\"Val  RMSE: {bnn_bg_rmse_val}, r2_score: {bnn_bg_r2_val}\")\n",
    "print(f\"Test RMSE: {bnn_bg_rmse_test}, r2_score: {bnn_bg_r2_test}\")"
   ],
   "metadata": {
    "collapsed": false,
    "pycharm": {
     "name": "#%%\n"
    }
   }
  },
  {
   "cell_type": "code",
   "execution_count": 486,
   "outputs": [],
   "source": [
    "k = 50\n",
    "def zero_out(model, X, y, states, disc_states, m, lst):\n",
    "    feat_idxs = lst[:m]\n",
    "    # feats_idx = np.argsort(np.mean(np.abs(igs), axis=0))[::-1][:m]\n",
    "    mask = np.zeros(X.shape[1])\n",
    "    mask[feat_idxs] = 1.0\n",
    "    X_mask = X @ np.diag(mask)\n",
    "    rmse, r2 = score_bg_bnn_model(model, X_mask, y, states, disc_states)\n",
    "    return rmse, r2"
   ],
   "metadata": {
    "collapsed": false,
    "pycharm": {
     "name": "#%%\n"
    }
   }
  },
  {
   "cell_type": "code",
   "execution_count": 468,
   "outputs": [
    {
     "data": {
      "text/plain": "(Array(0.44322366, dtype=float32), -0.555430447712524)"
     },
     "execution_count": 468,
     "metadata": {},
     "output_type": "execute_result"
    }
   ],
   "source": [
    "zero_out(bg_bnn_model, X_test, y_test, bg_bnn_states, bg_disc_states, k, dropout_df[\"feats_idx\"].to_list())"
   ],
   "metadata": {
    "collapsed": false,
    "pycharm": {
     "name": "#%%\n"
    }
   }
  },
  {
   "cell_type": "code",
   "execution_count": 487,
   "outputs": [],
   "source": [
    "def integrated_gradients(model, st, disc_st, x, N):\n",
    "\n",
    "    params = tree_utils.tree_stack(st)\n",
    "    gammas = tree_utils.tree_stack(disc_st)\n",
    "\n",
    "    p = x.shape[-1]\n",
    "    baseline = jnp.zeros((1, p))\n",
    "    t = jnp.linspace(0, 1, N).reshape(-1, 1)\n",
    "    path = baseline * (1 - t) + x * t\n",
    "\n",
    "    def get_grad(pi):\n",
    "        # compute gradient\n",
    "        # add/remove batch axes\n",
    "        return jnp.mean(jax.vmap(jax.grad(lambda param, gamma, p: model.apply(param, gamma, p).squeeze(), argnums=2), in_axes=(0, 0, None))(params, gammas, pi), axis=0)\n",
    "        # return jnp.mean(jax.vmap(jax.grad(lambda param, gamma, p: model.log_likelihood(param, gamma, p, y).squeeze(), argnums=2), in_axes=(0, 0, None,))(params, gammas, pi), axis=0)\n",
    "\n",
    "    gs = jax.vmap(get_grad)(path)\n",
    "    # print(gs.shape)\n",
    "    # sum pieces (Riemann sum), multiply by (x - x')\n",
    "    ig = jnp.mean(gs, axis=0) * (x.reshape(1, -1) - baseline)\n",
    "    return ig"
   ],
   "metadata": {
    "collapsed": false,
    "pycharm": {
     "name": "#%%\n"
    }
   }
  },
  {
   "cell_type": "code",
   "execution_count": 488,
   "outputs": [],
   "source": [
    "igs = jax.vmap(integrated_gradients, in_axes=(None, None, None, 0, None))(bg_bnn_model, bg_bnn_states, bg_disc_states, X_val, 100).squeeze()"
   ],
   "metadata": {
    "collapsed": false,
    "pycharm": {
     "name": "#%%\n"
    }
   }
  },
  {
   "cell_type": "code",
   "execution_count": 491,
   "outputs": [
    {
     "data": {
      "text/plain": "(Array(0.36578923, dtype=float32), -0.05941612612001235)"
     },
     "execution_count": 491,
     "metadata": {},
     "output_type": "execute_result"
    }
   ],
   "source": [
    "k = 60\n",
    "igs_sorted = np.argsort(np.mean(np.abs(igs), axis=0))[::-1]\n",
    "zero_out(bg_bnn_model, X_test, y_test, bg_bnn_states, bg_disc_states, k, igs_sorted)"
   ],
   "metadata": {
    "collapsed": false,
    "pycharm": {
     "name": "#%%\n"
    }
   }
  },
  {
   "cell_type": "markdown",
   "source": [
    "#### Random Forest"
   ],
   "metadata": {
    "collapsed": false,
    "pycharm": {
     "name": "#%% md\n"
    }
   }
  },
  {
   "cell_type": "code",
   "execution_count": 408,
   "outputs": [],
   "source": [
    "from sklearn.ensemble import RandomForestRegressor\n",
    "from sklearn.model_selection import GridSearchCV, KFold\n",
    "from sklearn.metrics import r2_score\n",
    "\n",
    "def train_rf_model(seed, X, y, train_idxs, val_idxs):\n",
    "\n",
    "    # cv = KFold(n_splits=5)\n",
    "    cv = [(train_idxs, val_idxs) for _ in range(5)]\n",
    "    param_grid = {\n",
    "        'max_depth': [80, 100, 120],\n",
    "        'max_features': [2, 3],\n",
    "        'min_samples_leaf': [3, 4, 5],\n",
    "        'min_samples_split': [8, 10, 12],\n",
    "        'n_estimators': [100, 500, 1000]\n",
    "    }\n",
    "\n",
    "    rf_reg = RandomForestRegressor(random_state=seed, max_samples=1.0)\n",
    "    grid_cv = GridSearchCV(estimator = rf_reg, param_grid = param_grid,\n",
    "                           cv = cv, n_jobs = -1, verbose = 0, scoring=\"neg_root_mean_squared_error\").fit(X, y)\n",
    "\n",
    "    rf_reg = RandomForestRegressor(random_state=seed, max_samples=1.0, **grid_cv.best_params_)\n",
    "    rf_reg.fit(X, y)\n",
    "\n",
    "    return rf_reg\n",
    "\n",
    "def eval_rf_model(model, X, y):\n",
    "    y_preds = model.predict(X)\n",
    "    rmse = jnp.sqrt(jnp.mean((y - y_preds)**2))\n",
    "    r2 = r2_score(y, y_preds)\n",
    "    return rmse, r2"
   ],
   "metadata": {
    "collapsed": false,
    "pycharm": {
     "name": "#%%\n"
    }
   }
  },
  {
   "cell_type": "code",
   "execution_count": 409,
   "outputs": [
    {
     "name": "stdout",
     "output_type": "stream",
     "text": [
      "Val RMSE: 0.22267945110797882, r2_score: 0.6216597767641987\n",
      "Test RMSE: 0.3275291323661804, r2_score: 0.15061510172773818\n"
     ]
    }
   ],
   "source": [
    "# rf_model = train_rf_model(seed, X_train_outer, y_train_outer, train_indices, val_indices)\n",
    "rf_model = pickle.load(open(f\"{save_dir}/checkpoints/rf_model_s_{seed}.pkl\", \"rb\"))\n",
    "val_rf_rmse, val_rf_r2 = eval_rf_model(rf_model, X_val, y_val)\n",
    "test_rf_rmse, test_rf_r2 = eval_rf_model(rf_model, X_test, y_test)\n",
    "print(f\"Val RMSE: {val_rf_rmse}, r2_score: {val_rf_r2}\")\n",
    "print(f\"Test RMSE: {test_rf_rmse}, r2_score: {test_rf_r2}\")"
   ],
   "metadata": {
    "collapsed": false,
    "pycharm": {
     "name": "#%%\n"
    }
   }
  },
  {
   "cell_type": "code",
   "execution_count": 410,
   "outputs": [
    {
     "data": {
      "text/plain": "(Array(0.3439107, dtype=float32), 0.06352511316969289)"
     },
     "execution_count": 410,
     "metadata": {},
     "output_type": "execute_result"
    }
   ],
   "source": [
    "rf_mask = np.zeros(X_val.shape[1])\n",
    "feat_idxs = np.argsort(rf_model.feature_importances_)[::-1][:k]\n",
    "rf_mask[feat_idxs] = 1.0\n",
    "eval_rf_model(rf_model, X_test @ np.diag(rf_mask), y_test)"
   ],
   "metadata": {
    "collapsed": false,
    "pycharm": {
     "name": "#%%\n"
    }
   }
  },
  {
   "cell_type": "markdown",
   "source": [
    "#### Multiple Runs"
   ],
   "metadata": {
    "collapsed": false,
    "pycharm": {
     "name": "#%% md\n"
    }
   }
  },
  {
   "cell_type": "code",
   "execution_count": 275,
   "outputs": [],
   "source": [
    "from tqdm import tqdm\n",
    "from sklearn.preprocessing import QuantileTransformer\n",
    "from sklearn.metrics import r2_score\n",
    "import pickle\n",
    "import warnings\n",
    "from operator import itemgetter\n",
    "\n",
    "warnings.filterwarnings(\"ignore\")\n",
    "\n",
    "\n",
    "# epochs = 2000\n",
    "# num_cycles = 10\n",
    "# batch_size = 80\n",
    "# beta = 0.99\n",
    "# lr_0, disc_lr_0 = 1e-3, 0.5\n",
    "# hidden_sizes = [1000, 500, 300, 10]\n",
    "# sigma = 1.0\n",
    "# eta, mu = 1.0, 1.0\n",
    "# temp = 1e-3\n",
    "epochs = 500\n",
    "batch_size = 128\n",
    "# beta, beta_noise = 0.99, 0.3\n",
    "# lr_0, disc_lr_0 = 1e-3, 0.5\n",
    "hidden_sizes = [256, 128, 64, 32]\n",
    "# temp, sigma = 1e-4, 1.0\n",
    "# eta, mu = 1.0, 1.0\n",
    "\n",
    "# M = 30\n",
    "\n",
    "\n",
    "optuna.logging.set_verbosity(optuna.logging.WARNING)\n",
    "\n",
    "# bg_bnn_configs = []\n",
    "# bnn_configs = []\n",
    "\n",
    "\n",
    "VERSION = \"1c\"\n",
    "\n",
    "def cross_val_run(seeds, X, y, J):\n",
    "    J_zero = np.zeros_like(J)\n",
    "\n",
    "    i = 0\n",
    "    for seed in tqdm(seeds):\n",
    "\n",
    "        bnn_rf_bg_dict = {\"seed\":[], \"model\": [], \"test_rmse\": [], \"test_r2_score\": []}\n",
    "        X_train_outer_df, X_test_df, y_train_outer_df, y_test_df = train_test_split(X, y, random_state=seed, shuffle=True, test_size=0.2)\n",
    "\n",
    "        train_transformer = QuantileTransformer(random_state=seed, output_distribution=\"normal\").fit(X_train_outer_df)\n",
    "        train_transformed = train_transformer.transform(X_train_outer_df)\n",
    "        test_transformed = train_transformer.transform(X_test_df)\n",
    "\n",
    "        X_train_outer_df = pd.DataFrame(train_transformed, columns=X_train_outer_df.columns)\n",
    "        X_test_df = pd.DataFrame(test_transformed, columns=X_test_df.columns)\n",
    "\n",
    "        X_train_df, X_val_df, y_train_df, y_val_df = train_test_split(X_train_outer_df, y_train_outer_df, shuffle=True,\n",
    "                                                                      random_state=seed, test_size=0.2)\n",
    "\n",
    "\n",
    "        train_indices, val_indices = X_train_df.index.to_list(), X_val_df.index.to_list()\n",
    "        X_train_outer, y_train_outer = X_train_outer_df.values, y_train_outer_df.values\n",
    "        X_train, y_train = X_train_df.values, y_train_df.values\n",
    "        X_val, y_val = X_val_df.values, y_val_df.values\n",
    "        X_test, y_test = X_test_df.values, y_test_df.values\n",
    "\n",
    "        torch.manual_seed(seed)\n",
    "        data_loader = NumpyLoader(NumpyData(X_train_outer, y_train_outer), batch_size=batch_size, shuffle=False)\n",
    "\n",
    "        ### BNN + BG\n",
    "        if os.path.exists(f\"{save_dir}/configs/bg_bnn_config_s_{seed}_optuna_v1a.pkl\"):\n",
    "            bnn_bg_config = pickle.load(open(f\"{save_dir}/configs/bg_bnn_config_s_{seed}_optuna_v1a.pkl\", \"rb\"))\n",
    "\n",
    "        else:\n",
    "            sampler = optuna.samplers.TPESampler(seed=seed)\n",
    "            study = optuna.create_study(sampler=sampler)\n",
    "            study.optimize(lambda trial: objective(trial, seed, X_train, X_val, y_train, y_val, J, epochs, batch_size, hidden_sizes, bg=True), timeout=180)\n",
    "            bnn_bg_config = study.best_params\n",
    "            pickle.dump(bnn_bg_config ,open(f\"{save_dir}/configs/bg_bnn_config_s_{seed}_optuna_v1a.pkl\", \"wb\"))\n",
    "\n",
    "\n",
    "        lr_0, disc_lr_0 = bnn_bg_config[\"lr_0\"] ,bnn_bg_config[\"disc_lr\"]\n",
    "        eta, mu = bnn_bg_config[\"eta\"], bnn_bg_config[\"mu\"]\n",
    "        temp, sigma = bnn_bg_config[\"temp\"], 1.0\n",
    "        num_cycles, beta = bnn_bg_config[\"num_cycles\"], bnn_bg_config[\"beta\"]\n",
    "        alpha = bnn_bg_config[\"alpha\"]\n",
    "        M = bnn_bg_config[\"M\"]\n",
    "\n",
    "        bg_bnn_model, bg_bnn_states, bg_disc_states = train_bg_bnn_model(seed, data_loader, epochs, num_cycles, beta, M, lr_0, disc_lr_0,\n",
    "                                                                         hidden_sizes, temp, sigma, eta, mu, alpha, J, \"relu6\")\n",
    "\n",
    "\n",
    "        bnn_bg_rmse_test, bnn_bg_r2_test = score_bg_bnn_model(bg_bnn_model, X_test, y_test, bg_bnn_states, bg_disc_states)\n",
    "\n",
    "        pickle.dump(bg_bnn_states, open(f\"{save_dir}/checkpoints/bg_bnn_states_s_{seed}_v{VERSION}.pkl\", \"wb\"))\n",
    "        pickle.dump(bg_disc_states, open(f\"{save_dir}/checkpoints/bg_bnn_disc_states_s_{seed}_v{VERSION}.pkl\", \"wb\"))\n",
    "\n",
    "        ### BNN w/o BG\n",
    "        # if os.path.exists(f\"{save_dir}/configs/bnn_config_s_{seed}_optuna_v{VERSION}.pkl\"):\n",
    "        #     bnn_config = pickle.load(open(f\"{save_dir}/configs/bnn_config_s_{seed}_optuna_v{VERSION}.pkl\", \"rb\"))\n",
    "        # else:\n",
    "        #     sampler = optuna.samplers.TPESampler(seed=seed)\n",
    "        #     study = optuna.create_study(sampler=sampler)\n",
    "        #     study.optimize(lambda trial: objective(trial, seed, X_train, X_val, y_train, y_val, J_zero, epochs, batch_size, hidden_sizes, bg=False), timeout=180)\n",
    "        #     bnn_config = study.best_params\n",
    "        #     pickle.dump(bnn_config ,open(f\"{save_dir}/configs/bnn_config_s_{seed}_optuna_v{VERSION}.pkl\", \"wb\"))\n",
    "        #\n",
    "        #\n",
    "        #\n",
    "        # lr_0, disc_lr_0 = bnn_config[\"lr_0\"] ,bnn_config[\"disc_lr\"]\n",
    "        # eta, mu = 1.0, bnn_config[\"mu\"]\n",
    "        # temp, sigma = bnn_config[\"temp\"], 1.0\n",
    "        # num_cycles, beta = bnn_config[\"num_cycles\"], bnn_config[\"beta\"]\n",
    "        # act_fn, alpha = bnn_config[\"act_fn\"], bnn_config[\"alpha\"]\n",
    "        # M = bnn_config[\"M\"]\n",
    "        #\n",
    "        # bnn_model, bnn_states, bnn_disc_states = train_bg_bnn_model(seed, data_loader, epochs, num_cycles, beta, M, lr_0, disc_lr_0,\n",
    "        #                                                                  hidden_sizes, temp, sigma, eta, mu, alpha, J_zero, act_fn)\n",
    "        #\n",
    "        # bnn_rmse_test, bnn_r2_test = score_bg_bnn_model(bnn_model, X_test, y_test, bnn_states, bnn_disc_states)\n",
    "        #\n",
    "        # pickle.dump(bnn_states, open(f\"{save_dir}/checkpoints/bnn_states_s_{seed}_v{VERSION}.pkl\", \"wb\"))\n",
    "        # pickle.dump(bnn_disc_states, open(f\"{save_dir}/checkpoints/bnn_disc_states_s_{seed}_v{VERSION}.pkl\", \"wb\"))\n",
    "        #\n",
    "        #\n",
    "        # if os.path.exists(f\"{save_dir}/checkpoints/rf_model_s_{seed}.pkl\"):\n",
    "        #     rf_model = pickle.load(open(f\"{save_dir}/checkpoints/rf_model_s_{seed}.pkl\", \"rb\"))\n",
    "        # else:\n",
    "        #     rf_model = train_rf_model(seed, X_train_outer, y_train_outer, train_indices, val_indices)\n",
    "        #     pickle.dump(rf_model, open(f\"{save_dir}/checkpoints/rf_model_s_{seed}.pkl\", \"wb\"))\n",
    "        #\n",
    "        # rmse_test_rf, r2_test_rf = eval_rf_model(rf_model, X_test, y_test)\n",
    "\n",
    "        # bnn_rf_bg_dict[\"seed\"].append(seed)\n",
    "        # bnn_rf_bg_dict[\"model\"].append(\"RF\")\n",
    "        # bnn_rf_bg_dict[\"test_rmse\"].append(rmse_test_rf)\n",
    "        # bnn_rf_bg_dict[\"test_r2_score\"].append(r2_test_rf)\n",
    "\n",
    "        # bnn_rf_bg_dict[\"seed\"].append(seed)\n",
    "        # bnn_rf_bg_dict[\"model\"].append(\"BNN w/o BG\")\n",
    "        # bnn_rf_bg_dict[\"test_rmse\"].append(bnn_rmse_test)\n",
    "        # bnn_rf_bg_dict[\"test_r2_score\"].append(bnn_r2_test)\n",
    "\n",
    "        bnn_rf_bg_dict[\"seed\"].append(seed)\n",
    "        bnn_rf_bg_dict[\"model\"].append(\"BNN + BG\")\n",
    "        bnn_rf_bg_dict[\"test_rmse\"].append(bnn_bg_rmse_test)\n",
    "        bnn_rf_bg_dict[\"test_r2_score\"].append(bnn_bg_r2_test)\n",
    "\n",
    "        # print(f\"RF scores - {rmse_test_rf}\")\n",
    "        # print(f\"BNN w/o scores - {bnn_rmse_test}\")\n",
    "        print(f\"BNN + BG scores - {bnn_bg_rmse_test}\")\n",
    "\n",
    "        pd.DataFrame(bnn_rf_bg_dict).to_csv(f\"{save_dir}/results/bnn_rf_bg_s_{seed}_v{VERSION}.csv\", index=False)\n",
    "        i += 1\n",
    "\n",
    "    return print(\"Done\")"
   ],
   "metadata": {
    "collapsed": false,
    "pycharm": {
     "name": "#%%\n"
    }
   }
  },
  {
   "cell_type": "code",
   "execution_count": null,
   "outputs": [],
   "source": [
    "save_dir = f\"{data_dir}/exp_data_5/cancer/gdsc/bortezomib\"\n",
    "seeds = [422,261,968,282,739,573,220,413,745,775,482,442,210,423,760,57,769,920,226,196]\n",
    "curr_seeds = seeds[:5]\n",
    "print(len(curr_seeds))\n",
    "bnn_rf_bg_df = cross_val_run(curr_seeds, X_selected, target, J)"
   ],
   "metadata": {
    "collapsed": false,
    "pycharm": {
     "name": "#%%\n",
     "is_executing": true
    }
   }
  },
  {
   "cell_type": "code",
   "execution_count": 280,
   "outputs": [
    {
     "data": {
      "text/plain": "          test_rmse  test_r2_score\nmodel                             \nBNN + BG   0.424305       0.063406",
      "text/html": "<div>\n<style scoped>\n    .dataframe tbody tr th:only-of-type {\n        vertical-align: middle;\n    }\n\n    .dataframe tbody tr th {\n        vertical-align: top;\n    }\n\n    .dataframe thead th {\n        text-align: right;\n    }\n</style>\n<table border=\"1\" class=\"dataframe\">\n  <thead>\n    <tr style=\"text-align: right;\">\n      <th></th>\n      <th>test_rmse</th>\n      <th>test_r2_score</th>\n    </tr>\n    <tr>\n      <th>model</th>\n      <th></th>\n      <th></th>\n    </tr>\n  </thead>\n  <tbody>\n    <tr>\n      <th>BNN + BG</th>\n      <td>0.424305</td>\n      <td>0.063406</td>\n    </tr>\n  </tbody>\n</table>\n</div>"
     },
     "execution_count": 280,
     "metadata": {},
     "output_type": "execute_result"
    }
   ],
   "source": [
    "res_dfs = []\n",
    "for seed in curr_seeds:\n",
    "    df = pd.read_csv(f\"{save_dir}/results/bnn_rf_bg_s_{seed}_v1c.csv\")\n",
    "    res_dfs.append(df)\n",
    "\n",
    "bnn_rf_df_1a = pd.concat(res_dfs, ignore_index=True, axis=0)\n",
    "# bnn_rf_df_1a = bnn_rf_df_1a.drop_duplicates()\n",
    "bnn_rf_df_1a.groupby([\"model\"]).mean().iloc[:,1:]"
   ],
   "metadata": {
    "collapsed": false,
    "pycharm": {
     "name": "#%%\n"
    }
   }
  },
  {
   "cell_type": "code",
   "execution_count": 279,
   "outputs": [
    {
     "data": {
      "text/plain": "            test_rmse  test_r2_score\nmodel                               \nBNN + BG     0.420779       0.078315\nBNN w/o BG   0.422716       0.067552\nRF           0.410935       0.125300",
      "text/html": "<div>\n<style scoped>\n    .dataframe tbody tr th:only-of-type {\n        vertical-align: middle;\n    }\n\n    .dataframe tbody tr th {\n        vertical-align: top;\n    }\n\n    .dataframe thead th {\n        text-align: right;\n    }\n</style>\n<table border=\"1\" class=\"dataframe\">\n  <thead>\n    <tr style=\"text-align: right;\">\n      <th></th>\n      <th>test_rmse</th>\n      <th>test_r2_score</th>\n    </tr>\n    <tr>\n      <th>model</th>\n      <th></th>\n      <th></th>\n    </tr>\n  </thead>\n  <tbody>\n    <tr>\n      <th>BNN + BG</th>\n      <td>0.420779</td>\n      <td>0.078315</td>\n    </tr>\n    <tr>\n      <th>BNN w/o BG</th>\n      <td>0.422716</td>\n      <td>0.067552</td>\n    </tr>\n    <tr>\n      <th>RF</th>\n      <td>0.410935</td>\n      <td>0.125300</td>\n    </tr>\n  </tbody>\n</table>\n</div>"
     },
     "execution_count": 279,
     "metadata": {},
     "output_type": "execute_result"
    }
   ],
   "source": [
    "res_dfs = []\n",
    "for seed in curr_seeds:\n",
    "    df = pd.read_csv(f\"{save_dir}/results/bnn_rf_bg_s_{seed}_v1a.csv\")\n",
    "    res_dfs.append(df)\n",
    "\n",
    "bnn_rf_df_1a = pd.concat(res_dfs, ignore_index=True, axis=0)\n",
    "# bnn_rf_df_1a = bnn_rf_df_1a.drop_duplicates()\n",
    "bnn_rf_df_1a.groupby([\"model\"]).mean().iloc[:,1:]"
   ],
   "metadata": {
    "collapsed": false,
    "pycharm": {
     "name": "#%%\n"
    }
   }
  },
  {
   "cell_type": "code",
   "execution_count": 32,
   "outputs": [
    {
     "data": {
      "text/plain": "          test_rmse  test_r2_score\nmodel                             \nBNN + BG   0.398506       0.082683",
      "text/html": "<div>\n<style scoped>\n    .dataframe tbody tr th:only-of-type {\n        vertical-align: middle;\n    }\n\n    .dataframe tbody tr th {\n        vertical-align: top;\n    }\n\n    .dataframe thead th {\n        text-align: right;\n    }\n</style>\n<table border=\"1\" class=\"dataframe\">\n  <thead>\n    <tr style=\"text-align: right;\">\n      <th></th>\n      <th>test_rmse</th>\n      <th>test_r2_score</th>\n    </tr>\n    <tr>\n      <th>model</th>\n      <th></th>\n      <th></th>\n    </tr>\n  </thead>\n  <tbody>\n    <tr>\n      <th>BNN + BG</th>\n      <td>0.398506</td>\n      <td>0.082683</td>\n    </tr>\n  </tbody>\n</table>\n</div>"
     },
     "execution_count": 32,
     "metadata": {},
     "output_type": "execute_result"
    }
   ],
   "source": [
    "res_dfs = []\n",
    "for seed in curr_seeds:\n",
    "    df = pd.read_csv(f\"{save_dir}/results/bnn_rf_bg_s_{seed}_v{VERSION}.csv\")\n",
    "    res_dfs.append(df)\n",
    "\n",
    "bnn_rf_df_1a = pd.concat(res_dfs, ignore_index=True, axis=0)\n",
    "# bnn_rf_df_1a = bnn_rf_df_1a.drop_duplicates()\n",
    "bnn_rf_df_1a.groupby([\"model\"]).mean().iloc[:,1:]"
   ],
   "metadata": {
    "collapsed": false,
    "pycharm": {
     "name": "#%%\n"
    }
   }
  },
  {
   "cell_type": "code",
   "execution_count": 25,
   "outputs": [],
   "source": [
    "from scipy import stats\n",
    "\n",
    "bg_test_rmse = bnn_rf_df_1a[bnn_rf_df_1a[\"model\"] == \"BNN + BG\"][\"test_rmse\"].to_list()\n",
    "bnn_test_rmse = bnn_rf_df_1a[bnn_rf_df_1a[\"model\"] == \"BNN w/o BG\"][\"test_rmse\"].to_list()\n",
    "rf_test_rmse = bnn_rf_df_1a[bnn_rf_df_1a[\"model\"] == \"RF\"][\"test_rmse\"].to_list()"
   ],
   "metadata": {
    "collapsed": false,
    "pycharm": {
     "name": "#%%\n"
    }
   }
  },
  {
   "cell_type": "code",
   "execution_count": 26,
   "outputs": [
    {
     "data": {
      "text/plain": "Ttest_relResult(statistic=-0.8914498548433794, pvalue=0.383838396223362)"
     },
     "execution_count": 26,
     "metadata": {},
     "output_type": "execute_result"
    }
   ],
   "source": [
    "stats.ttest_rel(bg_test_rmse, bnn_test_rmse)"
   ],
   "metadata": {
    "collapsed": false,
    "pycharm": {
     "name": "#%%\n"
    }
   }
  },
  {
   "cell_type": "code",
   "execution_count": 27,
   "outputs": [
    {
     "data": {
      "text/plain": "Ttest_relResult(statistic=1.1927688206480656, pvalue=0.2476431942775404)"
     },
     "execution_count": 27,
     "metadata": {},
     "output_type": "execute_result"
    }
   ],
   "source": [
    "stats.ttest_rel(bg_test_rmse, rf_test_rmse)"
   ],
   "metadata": {
    "collapsed": false,
    "pycharm": {
     "name": "#%%\n"
    }
   }
  },
  {
   "cell_type": "code",
   "execution_count": 28,
   "outputs": [
    {
     "data": {
      "text/plain": "Ttest_relResult(statistic=1.638840594071587, pvalue=0.11769995285631482)"
     },
     "execution_count": 28,
     "metadata": {},
     "output_type": "execute_result"
    }
   ],
   "source": [
    "stats.ttest_rel(bnn_test_rmse, rf_test_rmse)"
   ],
   "metadata": {
    "collapsed": false,
    "pycharm": {
     "name": "#%%\n"
    }
   }
  },
  {
   "cell_type": "code",
   "execution_count": 42,
   "outputs": [
    {
     "data": {
      "text/plain": "0.04335967536554988"
     },
     "execution_count": 42,
     "metadata": {},
     "output_type": "execute_result"
    }
   ],
   "source": [
    "np.std(rf_test_rmse)"
   ],
   "metadata": {
    "collapsed": false,
    "pycharm": {
     "name": "#%%\n"
    }
   }
  },
  {
   "cell_type": "code",
   "execution_count": 30,
   "outputs": [],
   "source": [
    "import pickle\n",
    "bg_bnn_configs = []\n",
    "for seed in curr_seeds:\n",
    "    bg_bnn_configs.append(pickle.load(open(f\"{save_dir}/configs/bg_bnn_config_s_{seed}_optuna_v{VERSION}.pkl\", \"rb\")))"
   ],
   "metadata": {
    "collapsed": false,
    "pycharm": {
     "name": "#%%\n"
    }
   }
  },
  {
   "cell_type": "code",
   "execution_count": 31,
   "outputs": [],
   "source": [
    "bnn_configs = []\n",
    "for seed in curr_seeds:\n",
    "    bnn_configs.append(pickle.load(open(f\"{save_dir}/configs/bnn_config_s_{seed}_optuna_v{VERSION}.pkl\", \"rb\")))"
   ],
   "metadata": {
    "collapsed": false,
    "pycharm": {
     "name": "#%%\n"
    }
   }
  },
  {
   "cell_type": "code",
   "execution_count": 47,
   "outputs": [
    {
     "data": {
      "text/plain": "{'disc_lr': 0.8,\n 'lr_0': 0.005,\n 'temp': 0.001,\n 'act_fn': 'tanh',\n 'mu': 45.29969184055999,\n 'num_cycles': 9,\n 'alpha': 53.95445986780151,\n 'beta': 0.10337779935010859,\n 'M': 4}"
     },
     "execution_count": 47,
     "metadata": {},
     "output_type": "execute_result"
    }
   ],
   "source": [
    "bnn_configs[6]"
   ],
   "metadata": {
    "collapsed": false,
    "pycharm": {
     "name": "#%%\n"
    }
   }
  },
  {
   "cell_type": "code",
   "execution_count": 48,
   "outputs": [
    {
     "data": {
      "text/plain": "{'disc_lr': 0.01,\n 'lr_0': 0.001,\n 'temp': 1e-05,\n 'act_fn': 'tanh',\n 'eta': 87.75476664169481,\n 'mu': 99.97321019759495,\n 'num_cycles': 10,\n 'alpha': 65.24385242638076,\n 'beta': 0.23080658598610826,\n 'M': 4}"
     },
     "execution_count": 48,
     "metadata": {},
     "output_type": "execute_result"
    }
   ],
   "source": [
    "bg_bnn_configs[6]"
   ],
   "metadata": {
    "collapsed": false,
    "pycharm": {
     "name": "#%%\n"
    }
   }
  },
  {
   "cell_type": "markdown",
   "source": [
    "#### Zero-Out Ranking"
   ],
   "metadata": {
    "collapsed": false,
    "pycharm": {
     "name": "#%% md\n"
    }
   }
  },
  {
   "cell_type": "code",
   "execution_count": 46,
   "outputs": [],
   "source": [
    "import pickle\n",
    "from tqdm import tqdm\n",
    "from sklearn.preprocessing import QuantileTransformer\n",
    "from scipy.stats import pearsonr\n",
    "import warnings\n",
    "import optuna\n",
    "warnings.filterwarnings(\"ignore\")\n",
    "\n",
    "num_feats = [10, 20, 30, 40, 50]\n",
    "VERSION = \"1a\"\n",
    "\n",
    "def zero_out_ranking(seeds, X, y, J):\n",
    "    J_zero = np.zeros_like(J)\n",
    "    p = X.shape[1]\n",
    "    for seed in tqdm(seeds):\n",
    "        bg_bnn_rf_res_dict = {\"seed\": [], \"model\": [], \"num_feats\": [], \"test_rmse_score\": []}\n",
    "\n",
    "        X_train_outer_df, X_test_df, y_train_outer_df, y_test_df = train_test_split(X, y, random_state=seed, shuffle=True, test_size=0.2)\n",
    "\n",
    "        train_transformer = QuantileTransformer(random_state=seed, output_distribution=\"normal\").fit(X_train_outer_df)\n",
    "        train_transformed = train_transformer.transform(X_train_outer_df)\n",
    "        test_transformed = train_transformer.transform(X_test_df)\n",
    "\n",
    "        X_train_outer_df = pd.DataFrame(train_transformed, columns=X_train_outer_df.columns)\n",
    "        X_test_df = pd.DataFrame(test_transformed, columns=X_test_df.columns)\n",
    "\n",
    "        X_train_df, X_val_df, y_train_df, y_val_df = train_test_split(X_train_outer_df, y_train_outer_df, shuffle=True,\n",
    "                                                                      random_state=seed, test_size=0.2)\n",
    "\n",
    "\n",
    "        train_indices, val_indices = X_train_df.index.to_list(), X_val_df.index.to_list()\n",
    "        X_train_outer, y_train_outer = X_train_outer_df.values, y_train_outer_df.values\n",
    "        X_train, y_train = X_train_df.values, y_train_df.values\n",
    "        X_val, y_val = X_val_df.values, y_val_df.values\n",
    "        X_test, y_test = X_test_df.values, y_test_df.values\n",
    "\n",
    "        torch.manual_seed(seed)\n",
    "        data_loader = NumpyLoader(NumpyData(X_train, y_train), batch_size=batch_size, shuffle=True)\n",
    "\n",
    "\n",
    "        # bnn_bg_config = pickle.load(open(f\"{save_dir}/configs/bg_bnn_config_s_{seed}_optuna_v9c.pkl\", \"rb\"))\n",
    "        eta, mu = 1.0, 1.0\n",
    "        bg_bnn_model = init_bg_bnn_model(seed, data_loader, epochs, lr_0, disc_lr_0, num_cycles, temp, sigma, hidden_sizes, J, eta, mu, alpha, act_fn)\n",
    "        bg_states =  pickle.load(open(f\"{save_dir}/checkpoints/bg_bnn_states_s_{seed}_v{VERSION}.pkl\", \"rb\"))\n",
    "        bg_disc_states = pickle.load(open(f\"{save_dir}/checkpoints/bg_bnn_disc_states_s_{seed}_v{VERSION}.pkl\", \"rb\"))\n",
    "\n",
    "        if os.path.exists(f\"{save_dir}/dropout/bg_bnn_dropout_loss_s_{seed}_v{VERSION}.csv\"):\n",
    "            bg_bnn_dropout_loss_df = pd.read_csv(f\"{save_dir}/dropout/bg_bnn_dropout_loss_s_{seed}_v{VERSION}.csv\")\n",
    "        else:\n",
    "            bg_bnn_dropout_loss_df = get_feats_dropout_loss(bg_bnn_model, bg_states, bg_disc_states, X_val, y_val)\n",
    "            bg_bnn_dropout_loss_df.to_csv(f\"{save_dir}/dropout/bg_bnn_dropout_loss_s_{seed}_v{VERSION}.csv\", index=False)\n",
    "\n",
    "        # bg_bnn_mean = np.mean(np.array(bg_disc_states), axis=0)\n",
    "\n",
    "        # bnn_config = pickle.load(open(f\"{save_dir}/configs/bnn_config_s_{seed}_optuna_v9c.pkl\", \"rb\"))\n",
    "        eta, mu = 1.0, 1.0\n",
    "        bnn_model = init_bg_bnn_model(seed, data_loader, epochs, lr_0, disc_lr_0, num_cycles, temp, sigma, hidden_sizes, J_zero, eta, mu, alpha, act_fn)\n",
    "        bnn_states = pickle.load(open(f\"{save_dir}/checkpoints/bnn_states_s_{seed}_v{VERSION}.pkl\", \"rb\"))\n",
    "        bnn_disc_states = pickle.load(open(f\"{save_dir}/checkpoints/bnn_disc_states_s_{seed}_v{VERSION}.pkl\", \"rb\"))\n",
    "\n",
    "        # bnn_mean = np.mean(np.array(bnn_disc_states), axis=0)\n",
    "\n",
    "        # if os.path.exists(f\"{save_dir}/dropout/bnn_dropout_loss_s_{seed}_v9d.csv\"):\n",
    "        #     bnn_dropout_loss_df = pd.read_csv(f\"{save_dir}/dropout/bnn_dropout_loss_s_{seed}_v9d.csv\")\n",
    "        # else:\n",
    "        bnn_dropout_loss_df = get_feats_dropout_loss(bnn_model, bnn_states, bnn_disc_states, X_val, y_val)\n",
    "        bnn_dropout_loss_df.to_csv(f\"{save_dir}/dropout/bnn_dropout_loss_s_{seed}_v9d.csv\", index=False)\n",
    "        #\n",
    "        if os.path.exists(f\"{save_dir}/checkpoints/rf_model_s_{seed}.pkl\"):\n",
    "            rf_model = pickle.load(open(f\"{save_dir}/checkpoints/rf_model_s_{seed}.pkl\", \"rb\"))\n",
    "        else:\n",
    "            rf_model = train_rf_model(seed, X_train_outer, y_train_outer, train_indices, val_indices)\n",
    "            pickle.dump(rf_model, open(f\"{save_dir}/checkpoints/rf_model_s_{seed}.pkl\", \"wb\"))\n",
    "\n",
    "\n",
    "        for num_feat in num_feats:\n",
    "            bg_bnn_feat_idx = bg_bnn_dropout_loss_df[\"feats_idx\"][:num_feat].to_list()\n",
    "            bnn_feat_idx = bnn_dropout_loss_df[\"feats_idx\"][:num_feat].to_list()\n",
    "            rf_feat_idx = np.argsort(rf_model.feature_importances_)[::-1][:num_feat]\n",
    "\n",
    "\n",
    "            # bg_bnn_feat_idx = np.argsort(bg_bnn_mean)[::-1][:num_feat]\n",
    "            # bnn_feat_idx = np.argsort(bnn_mean)[::-1][:num_feat]\n",
    "            # rf_feat_idx = np.argsort(rf_model.feature_importances_)[::-1][:num_feat]\n",
    "\n",
    "            ### BNN + BG\n",
    "            bg_bnn_mask = np.zeros(p)\n",
    "            bg_bnn_mask[bg_bnn_feat_idx] = 1.0\n",
    "            X_test_bg_bnn_m = X_test @ np.diag(bg_bnn_mask)\n",
    "            rmse_bg_bnn, r2_bg_bnn = score_bg_bnn_model(bg_bnn_model, X_test_bg_bnn_m, y_test, bg_states, bg_disc_states)\n",
    "\n",
    "            ## BNN w/o BG\n",
    "            bnn_mask = np.zeros(p)\n",
    "            bnn_mask[bnn_feat_idx] = 1.0\n",
    "            X_test_bnn_m = X_test @ np.diag(bnn_mask)\n",
    "            rmse_bnn, r2_bnn = score_bg_bnn_model(bnn_model, X_test_bnn_m, y_test, bnn_states, bnn_disc_states)\n",
    "\n",
    "            ## RF\n",
    "            rf_mask = np.zeros(p)\n",
    "            rf_mask[rf_feat_idx] = 1.0\n",
    "            X_test_rf_m = X_test @ np.diag(rf_mask)\n",
    "            rmse_rf, r2_rf = eval_rf_model(rf_model, X_test_rf_m, y_test)\n",
    "\n",
    "            bg_bnn_rf_res_dict[\"seed\"].append(seed)\n",
    "            bg_bnn_rf_res_dict[\"model\"].append(\"RF\")\n",
    "            bg_bnn_rf_res_dict[\"num_feats\"].append(num_feat)\n",
    "            bg_bnn_rf_res_dict[\"test_rmse_score\"].append(rmse_rf)\n",
    "            # bg_bnn_rf_res_dict[\"test_r2_score\"].append(r2_rf)\n",
    "\n",
    "            bg_bnn_rf_res_dict[\"seed\"].append(seed)\n",
    "            bg_bnn_rf_res_dict[\"model\"].append(\"BNN\")\n",
    "            bg_bnn_rf_res_dict[\"num_feats\"].append(num_feat)\n",
    "            bg_bnn_rf_res_dict[\"test_rmse_score\"].append(rmse_bnn)\n",
    "            # bg_bnn_rf_res_dict[\"test_r2_score\"].append(r2_bnn)\n",
    "\n",
    "\n",
    "            bg_bnn_rf_res_dict[\"seed\"].append(seed)\n",
    "            bg_bnn_rf_res_dict[\"model\"].append(\"BNN + BG\")\n",
    "            bg_bnn_rf_res_dict[\"num_feats\"].append(num_feat)\n",
    "            bg_bnn_rf_res_dict[\"test_rmse_score\"].append(rmse_bg_bnn)\n",
    "            # bg_bnn_rf_res_dict[\"test_r2_score\"].append(r2_bg_bnn)\n",
    "\n",
    "\n",
    "\n",
    "        pd.DataFrame(bg_bnn_rf_res_dict).to_csv(f\"{save_dir}/results/feat_zero_out_comp_bnn_bg_rf_s_{seed}_v{VERSION}.csv\", index=False)\n",
    "\n",
    "    print(\"Done\")"
   ],
   "metadata": {
    "collapsed": false,
    "pycharm": {
     "name": "#%%\n"
    }
   }
  },
  {
   "cell_type": "code",
   "execution_count": 82,
   "outputs": [
    {
     "name": "stderr",
     "output_type": "stream",
     "text": [
      "100%|██████████| 20/20 [17:26<00:00, 52.33s/it]"
     ]
    },
    {
     "name": "stdout",
     "output_type": "stream",
     "text": [
      "Done\n"
     ]
    },
    {
     "name": "stderr",
     "output_type": "stream",
     "text": [
      "\n"
     ]
    }
   ],
   "source": [
    "seeds = [422,261,968,282,739,573,220,413,745,775,482,442,210,423,760,57,769,920,226,196]\n",
    "curr_seeds = seeds\n",
    "zero_out_ranking(curr_seeds, X_selected, target, J)"
   ],
   "metadata": {
    "collapsed": false,
    "pycharm": {
     "name": "#%%\n"
    }
   }
  },
  {
   "cell_type": "code",
   "execution_count": 47,
   "outputs": [
    {
     "data": {
      "text/plain": "                    test_rmse_score\nmodel    num_feats                 \nBNN      10                0.566154\n         20                0.553823\n         30                0.546879\n         40                0.543540\n         50                0.541135\nBNN + BG 10                0.562243\n         20                0.551738\n         30                0.546916\n         40                0.545497\n         50                0.542858\nRF       10                0.548019\n         20                0.537257\n         30                0.529850\n         40                0.524423\n         50                0.519199",
      "text/html": "<div>\n<style scoped>\n    .dataframe tbody tr th:only-of-type {\n        vertical-align: middle;\n    }\n\n    .dataframe tbody tr th {\n        vertical-align: top;\n    }\n\n    .dataframe thead th {\n        text-align: right;\n    }\n</style>\n<table border=\"1\" class=\"dataframe\">\n  <thead>\n    <tr style=\"text-align: right;\">\n      <th></th>\n      <th></th>\n      <th>test_rmse_score</th>\n    </tr>\n    <tr>\n      <th>model</th>\n      <th>num_feats</th>\n      <th></th>\n    </tr>\n  </thead>\n  <tbody>\n    <tr>\n      <th rowspan=\"5\" valign=\"top\">BNN</th>\n      <th>10</th>\n      <td>0.566154</td>\n    </tr>\n    <tr>\n      <th>20</th>\n      <td>0.553823</td>\n    </tr>\n    <tr>\n      <th>30</th>\n      <td>0.546879</td>\n    </tr>\n    <tr>\n      <th>40</th>\n      <td>0.543540</td>\n    </tr>\n    <tr>\n      <th>50</th>\n      <td>0.541135</td>\n    </tr>\n    <tr>\n      <th rowspan=\"5\" valign=\"top\">BNN + BG</th>\n      <th>10</th>\n      <td>0.562243</td>\n    </tr>\n    <tr>\n      <th>20</th>\n      <td>0.551738</td>\n    </tr>\n    <tr>\n      <th>30</th>\n      <td>0.546916</td>\n    </tr>\n    <tr>\n      <th>40</th>\n      <td>0.545497</td>\n    </tr>\n    <tr>\n      <th>50</th>\n      <td>0.542858</td>\n    </tr>\n    <tr>\n      <th rowspan=\"5\" valign=\"top\">RF</th>\n      <th>10</th>\n      <td>0.548019</td>\n    </tr>\n    <tr>\n      <th>20</th>\n      <td>0.537257</td>\n    </tr>\n    <tr>\n      <th>30</th>\n      <td>0.529850</td>\n    </tr>\n    <tr>\n      <th>40</th>\n      <td>0.524423</td>\n    </tr>\n    <tr>\n      <th>50</th>\n      <td>0.519199</td>\n    </tr>\n  </tbody>\n</table>\n</div>"
     },
     "execution_count": 47,
     "metadata": {},
     "output_type": "execute_result"
    }
   ],
   "source": [
    "save_dir = f\"{data_dir}/exp_data_5/cancer/gdsc\"\n",
    "res_dfs = []\n",
    "for seed in curr_seeds:\n",
    "    df = pd.read_csv(f\"{save_dir}/results/feat_zero_out_comp_bnn_bg_rf_s_{seed}_v{VERSION}.csv\")\n",
    "    res_dfs.append(df)\n",
    "\n",
    "bg_bnn_res_zero_out_1a = pd.concat(res_dfs, axis=0)\n",
    "# bg_bnn_res_zero_out_1a = bg_bnn_res_zero_out_1a.drop_duplicates()\n",
    "bg_bnn_res_zero_out_1a.groupby([\"model\", \"num_feats\"]).mean().iloc[:,1:]"
   ],
   "metadata": {
    "collapsed": false,
    "pycharm": {
     "name": "#%%\n"
    }
   }
  },
  {
   "cell_type": "code",
   "execution_count": 48,
   "outputs": [
    {
     "data": {
      "text/plain": "                    test_rmse_score\nmodel    num_feats                 \nBNN      10                0.561515\n         20                0.550101\n         30                0.546351\n         40                0.542350\n         50                0.540378\nBNN + BG 10                0.562542\n         20                0.552185\n         30                0.547478\n         40                0.543652\n         50                0.540214\nRF       10                0.548019\n         20                0.537257\n         30                0.529850\n         40                0.524423\n         50                0.519199",
      "text/html": "<div>\n<style scoped>\n    .dataframe tbody tr th:only-of-type {\n        vertical-align: middle;\n    }\n\n    .dataframe tbody tr th {\n        vertical-align: top;\n    }\n\n    .dataframe thead th {\n        text-align: right;\n    }\n</style>\n<table border=\"1\" class=\"dataframe\">\n  <thead>\n    <tr style=\"text-align: right;\">\n      <th></th>\n      <th></th>\n      <th>test_rmse_score</th>\n    </tr>\n    <tr>\n      <th>model</th>\n      <th>num_feats</th>\n      <th></th>\n    </tr>\n  </thead>\n  <tbody>\n    <tr>\n      <th rowspan=\"5\" valign=\"top\">BNN</th>\n      <th>10</th>\n      <td>0.561515</td>\n    </tr>\n    <tr>\n      <th>20</th>\n      <td>0.550101</td>\n    </tr>\n    <tr>\n      <th>30</th>\n      <td>0.546351</td>\n    </tr>\n    <tr>\n      <th>40</th>\n      <td>0.542350</td>\n    </tr>\n    <tr>\n      <th>50</th>\n      <td>0.540378</td>\n    </tr>\n    <tr>\n      <th rowspan=\"5\" valign=\"top\">BNN + BG</th>\n      <th>10</th>\n      <td>0.562542</td>\n    </tr>\n    <tr>\n      <th>20</th>\n      <td>0.552185</td>\n    </tr>\n    <tr>\n      <th>30</th>\n      <td>0.547478</td>\n    </tr>\n    <tr>\n      <th>40</th>\n      <td>0.543652</td>\n    </tr>\n    <tr>\n      <th>50</th>\n      <td>0.540214</td>\n    </tr>\n    <tr>\n      <th rowspan=\"5\" valign=\"top\">RF</th>\n      <th>10</th>\n      <td>0.548019</td>\n    </tr>\n    <tr>\n      <th>20</th>\n      <td>0.537257</td>\n    </tr>\n    <tr>\n      <th>30</th>\n      <td>0.529850</td>\n    </tr>\n    <tr>\n      <th>40</th>\n      <td>0.524423</td>\n    </tr>\n    <tr>\n      <th>50</th>\n      <td>0.519199</td>\n    </tr>\n  </tbody>\n</table>\n</div>"
     },
     "execution_count": 48,
     "metadata": {},
     "output_type": "execute_result"
    }
   ],
   "source": [
    "save_dir = f\"{data_dir}/exp_data_5/cancer/gdsc\"\n",
    "res_dfs = []\n",
    "for seed in curr_seeds:\n",
    "    df = pd.read_csv(f\"{save_dir}/results/feat_zero_out_comp_bnn_bg_rf_s_{seed}_v9d.csv\")\n",
    "    res_dfs.append(df)\n",
    "\n",
    "bg_bnn_res_zero_out_9d = pd.concat(res_dfs, axis=0)\n",
    "# bg_bnn_res_zero_out_9d = bg_bnn_res_zero_out_9d.drop_duplicates()\n",
    "bg_bnn_res_zero_out_9d.groupby([\"model\", \"num_feats\"]).mean().iloc[:,1:]"
   ],
   "metadata": {
    "collapsed": false,
    "pycharm": {
     "name": "#%%\n"
    }
   }
  },
  {
   "cell_type": "code",
   "execution_count": 49,
   "outputs": [
    {
     "data": {
      "text/plain": "<Figure size 432x288 with 1 Axes>",
      "image/png": "[encoded data removed]"
     },
     "metadata": {
      "needs_background": "light"
     },
     "output_type": "display_data"
    }
   ],
   "source": [
    "plt.rcParams[\"figure.figsize\"] = (8,6)\n",
    "for model in [\"BNN\", \"BNN + BG\", \"RF\"]:\n",
    "    plt.plot(num_feats, bg_bnn_res_zero_out_9c[bg_bnn_res_zero_out_9c[\"model\"] == model].groupby([\"num_feats\"]).mean()[\"test_rmse_score\"].to_list(), label=model)\n",
    "    plt.xticks(num_feats)\n",
    "    plt.ylabel(\"Test RMSE\")\n",
    "    plt.xlabel(\"Num feats\")\n",
    "    plt.legend()"
   ],
   "metadata": {
    "collapsed": false,
    "pycharm": {
     "name": "#%%\n"
    }
   }
  },
  {
   "cell_type": "code",
   "execution_count": 50,
   "outputs": [
    {
     "data": {
      "text/plain": "<Figure size 576x432 with 1 Axes>",
      "image/png": "[encoded data removed]"
     },
     "metadata": {
      "needs_background": "light"
     },
     "output_type": "display_data"
    }
   ],
   "source": [
    "plt.rcParams[\"figure.figsize\"] = (8,6)\n",
    "for model in [\"BNN\", \"BNN + BG\", \"RF\"]:\n",
    "    plt.plot(num_feats, bg_bnn_res_zero_out_9d[bg_bnn_res_zero_out_9d[\"model\"] == model].groupby([\"num_feats\"]).mean()[\"test_rmse_score\"].to_list(), label=model)\n",
    "    plt.xticks(num_feats)\n",
    "    plt.ylabel(\"Test RMSE\")\n",
    "    plt.xlabel(\"Num feats\")\n",
    "    plt.legend()"
   ],
   "metadata": {
    "collapsed": false,
    "pycharm": {
     "name": "#%%\n"
    }
   }
  },
  {
   "cell_type": "code",
   "execution_count": 55,
   "outputs": [],
   "source": [
    "k = 20\n",
    "bg_rmse  = bg_bnn_res_zero_out_9d[(bg_bnn_res_zero_out_9d[\"model\"] == \"BNN + BG\") & (bg_bnn_res_zero_out_9d[\"num_feats\"] == k)][\"test_rmse_score\"].to_list()\n",
    "bnn_rmse  = bg_bnn_res_zero_out_9d[(bg_bnn_res_zero_out_9d[\"model\"] == \"BNN\") & (bg_bnn_res_zero_out_9d[\"num_feats\"] == k)][\"test_rmse_score\"].to_list()\n",
    "rf_rmse = bg_bnn_res_zero_out_9d[(bg_bnn_res_zero_out_9d[\"model\"] == \"RF\") & (bg_bnn_res_zero_out_9d[\"num_feats\"] == k)][\"test_rmse_score\"].to_list()"
   ],
   "metadata": {
    "collapsed": false,
    "pycharm": {
     "name": "#%%\n"
    }
   }
  },
  {
   "cell_type": "code",
   "execution_count": 56,
   "outputs": [
    {
     "data": {
      "text/plain": "   seed     model  num_feats  test_rmse_score\n3   422        RF         20         0.467902\n4   422       BNN         20         0.476825\n5   422  BNN + BG         20         0.477959\n3   261        RF         20         0.526706\n4   261       BNN         20         0.521276\n5   261  BNN + BG         20         0.523739\n3   968        RF         20         0.555036\n4   968       BNN         20         0.553267\n5   968  BNN + BG         20         0.550025\n3   282        RF         20         0.568548\n4   282       BNN         20         0.583371\n5   282  BNN + BG         20         0.592110\n3   739        RF         20         0.486812\n4   739       BNN         20         0.482552\n5   739  BNN + BG         20         0.483033\n3   573        RF         20         0.548462\n4   573       BNN         20         0.559185\n5   573  BNN + BG         20         0.564441\n3   220        RF         20         0.486899\n4   220       BNN         20         0.519210\n5   220  BNN + BG         20         0.521192\n3   413        RF         20         0.510458\n4   413       BNN         20         0.527150\n5   413  BNN + BG         20         0.534741\n3   745        RF         20         0.593969\n4   745       BNN         20         0.599368\n5   745  BNN + BG         20         0.590697\n3   775        RF         20         0.551865\n4   775       BNN         20         0.593941\n5   775  BNN + BG         20         0.558410\n3   482        RF         20         0.508278\n4   482       BNN         20         0.525208\n5   482  BNN + BG         20         0.527209\n3   442        RF         20         0.562625\n4   442       BNN         20         0.587384\n5   442  BNN + BG         20         0.581929\n3   210        RF         20         0.498292\n4   210       BNN         20         0.496948\n5   210  BNN + BG         20         0.497118\n3   423        RF         20         0.510952\n4   423       BNN         20         0.531811\n5   423  BNN + BG         20         0.525564\n3   760        RF         20         0.600117\n4   760       BNN         20         0.653082\n5   760  BNN + BG         20         0.667516\n3    57        RF         20         0.482612\n4    57       BNN         20         0.491862\n5    57  BNN + BG         20         0.502572\n3   769        RF         20         0.591469\n4   769       BNN         20         0.595965\n5   769  BNN + BG         20         0.597527\n3   920        RF         20         0.540765\n4   920       BNN         20         0.605932\n5   920  BNN + BG         20         0.573074\n3   226        RF         20         0.628834\n4   226       BNN         20         0.599602\n5   226  BNN + BG         20         0.620356\n3   196        RF         20         0.524545\n4   196       BNN         20         0.572522\n5   196  BNN + BG         20         0.545557",
      "text/html": "<div>\n<style scoped>\n    .dataframe tbody tr th:only-of-type {\n        vertical-align: middle;\n    }\n\n    .dataframe tbody tr th {\n        vertical-align: top;\n    }\n\n    .dataframe thead th {\n        text-align: right;\n    }\n</style>\n<table border=\"1\" class=\"dataframe\">\n  <thead>\n    <tr style=\"text-align: right;\">\n      <th></th>\n      <th>seed</th>\n      <th>model</th>\n      <th>num_feats</th>\n      <th>test_rmse_score</th>\n    </tr>\n  </thead>\n  <tbody>\n    <tr>\n      <th>3</th>\n      <td>422</td>\n      <td>RF</td>\n      <td>20</td>\n      <td>0.467902</td>\n    </tr>\n    <tr>\n      <th>4</th>\n      <td>422</td>\n      <td>BNN</td>\n      <td>20</td>\n      <td>0.476825</td>\n    </tr>\n    <tr>\n      <th>5</th>\n      <td>422</td>\n      <td>BNN + BG</td>\n      <td>20</td>\n      <td>0.477959</td>\n    </tr>\n    <tr>\n      <th>3</th>\n      <td>261</td>\n      <td>RF</td>\n      <td>20</td>\n      <td>0.526706</td>\n    </tr>\n    <tr>\n      <th>4</th>\n      <td>261</td>\n      <td>BNN</td>\n      <td>20</td>\n      <td>0.521276</td>\n    </tr>\n    <tr>\n      <th>5</th>\n      <td>261</td>\n      <td>BNN + BG</td>\n      <td>20</td>\n      <td>0.523739</td>\n    </tr>\n    <tr>\n      <th>3</th>\n      <td>968</td>\n      <td>RF</td>\n      <td>20</td>\n      <td>0.555036</td>\n    </tr>\n    <tr>\n      <th>4</th>\n      <td>968</td>\n      <td>BNN</td>\n      <td>20</td>\n      <td>0.553267</td>\n    </tr>\n    <tr>\n      <th>5</th>\n      <td>968</td>\n      <td>BNN + BG</td>\n      <td>20</td>\n      <td>0.550025</td>\n    </tr>\n    <tr>\n      <th>3</th>\n      <td>282</td>\n      <td>RF</td>\n      <td>20</td>\n      <td>0.568548</td>\n    </tr>\n    <tr>\n      <th>4</th>\n      <td>282</td>\n      <td>BNN</td>\n      <td>20</td>\n      <td>0.583371</td>\n    </tr>\n    <tr>\n      <th>5</th>\n      <td>282</td>\n      <td>BNN + BG</td>\n      <td>20</td>\n      <td>0.592110</td>\n    </tr>\n    <tr>\n      <th>3</th>\n      <td>739</td>\n      <td>RF</td>\n      <td>20</td>\n      <td>0.486812</td>\n    </tr>\n    <tr>\n      <th>4</th>\n      <td>739</td>\n      <td>BNN</td>\n      <td>20</td>\n      <td>0.482552</td>\n    </tr>\n    <tr>\n      <th>5</th>\n      <td>739</td>\n      <td>BNN + BG</td>\n      <td>20</td>\n      <td>0.483033</td>\n    </tr>\n    <tr>\n      <th>3</th>\n      <td>573</td>\n      <td>RF</td>\n      <td>20</td>\n      <td>0.548462</td>\n    </tr>\n    <tr>\n      <th>4</th>\n      <td>573</td>\n      <td>BNN</td>\n      <td>20</td>\n      <td>0.559185</td>\n    </tr>\n    <tr>\n      <th>5</th>\n      <td>573</td>\n      <td>BNN + BG</td>\n      <td>20</td>\n      <td>0.564441</td>\n    </tr>\n    <tr>\n      <th>3</th>\n      <td>220</td>\n      <td>RF</td>\n      <td>20</td>\n      <td>0.486899</td>\n    </tr>\n    <tr>\n      <th>4</th>\n      <td>220</td>\n      <td>BNN</td>\n      <td>20</td>\n      <td>0.519210</td>\n    </tr>\n    <tr>\n      <th>5</th>\n      <td>220</td>\n      <td>BNN + BG</td>\n      <td>20</td>\n      <td>0.521192</td>\n    </tr>\n    <tr>\n      <th>3</th>\n      <td>413</td>\n      <td>RF</td>\n      <td>20</td>\n      <td>0.510458</td>\n    </tr>\n    <tr>\n      <th>4</th>\n      <td>413</td>\n      <td>BNN</td>\n      <td>20</td>\n      <td>0.527150</td>\n    </tr>\n    <tr>\n      <th>5</th>\n      <td>413</td>\n      <td>BNN + BG</td>\n      <td>20</td>\n      <td>0.534741</td>\n    </tr>\n    <tr>\n      <th>3</th>\n      <td>745</td>\n      <td>RF</td>\n      <td>20</td>\n      <td>0.593969</td>\n    </tr>\n    <tr>\n      <th>4</th>\n      <td>745</td>\n      <td>BNN</td>\n      <td>20</td>\n      <td>0.599368</td>\n    </tr>\n    <tr>\n      <th>5</th>\n      <td>745</td>\n      <td>BNN + BG</td>\n      <td>20</td>\n      <td>0.590697</td>\n    </tr>\n    <tr>\n      <th>3</th>\n      <td>775</td>\n      <td>RF</td>\n      <td>20</td>\n      <td>0.551865</td>\n    </tr>\n    <tr>\n      <th>4</th>\n      <td>775</td>\n      <td>BNN</td>\n      <td>20</td>\n      <td>0.593941</td>\n    </tr>\n    <tr>\n      <th>5</th>\n      <td>775</td>\n      <td>BNN + BG</td>\n      <td>20</td>\n      <td>0.558410</td>\n    </tr>\n    <tr>\n      <th>3</th>\n      <td>482</td>\n      <td>RF</td>\n      <td>20</td>\n      <td>0.508278</td>\n    </tr>\n    <tr>\n      <th>4</th>\n      <td>482</td>\n      <td>BNN</td>\n      <td>20</td>\n      <td>0.525208</td>\n    </tr>\n    <tr>\n      <th>5</th>\n      <td>482</td>\n      <td>BNN + BG</td>\n      <td>20</td>\n      <td>0.527209</td>\n    </tr>\n    <tr>\n      <th>3</th>\n      <td>442</td>\n      <td>RF</td>\n      <td>20</td>\n      <td>0.562625</td>\n    </tr>\n    <tr>\n      <th>4</th>\n      <td>442</td>\n      <td>BNN</td>\n      <td>20</td>\n      <td>0.587384</td>\n    </tr>\n    <tr>\n      <th>5</th>\n      <td>442</td>\n      <td>BNN + BG</td>\n      <td>20</td>\n      <td>0.581929</td>\n    </tr>\n    <tr>\n      <th>3</th>\n      <td>210</td>\n      <td>RF</td>\n      <td>20</td>\n      <td>0.498292</td>\n    </tr>\n    <tr>\n      <th>4</th>\n      <td>210</td>\n      <td>BNN</td>\n      <td>20</td>\n      <td>0.496948</td>\n    </tr>\n    <tr>\n      <th>5</th>\n      <td>210</td>\n      <td>BNN + BG</td>\n      <td>20</td>\n      <td>0.497118</td>\n    </tr>\n    <tr>\n      <th>3</th>\n      <td>423</td>\n      <td>RF</td>\n      <td>20</td>\n      <td>0.510952</td>\n    </tr>\n    <tr>\n      <th>4</th>\n      <td>423</td>\n      <td>BNN</td>\n      <td>20</td>\n      <td>0.531811</td>\n    </tr>\n    <tr>\n      <th>5</th>\n      <td>423</td>\n      <td>BNN + BG</td>\n      <td>20</td>\n      <td>0.525564</td>\n    </tr>\n    <tr>\n      <th>3</th>\n      <td>760</td>\n      <td>RF</td>\n      <td>20</td>\n      <td>0.600117</td>\n    </tr>\n    <tr>\n      <th>4</th>\n      <td>760</td>\n      <td>BNN</td>\n      <td>20</td>\n      <td>0.653082</td>\n    </tr>\n    <tr>\n      <th>5</th>\n      <td>760</td>\n      <td>BNN + BG</td>\n      <td>20</td>\n      <td>0.667516</td>\n    </tr>\n    <tr>\n      <th>3</th>\n      <td>57</td>\n      <td>RF</td>\n      <td>20</td>\n      <td>0.482612</td>\n    </tr>\n    <tr>\n      <th>4</th>\n      <td>57</td>\n      <td>BNN</td>\n      <td>20</td>\n      <td>0.491862</td>\n    </tr>\n    <tr>\n      <th>5</th>\n      <td>57</td>\n      <td>BNN + BG</td>\n      <td>20</td>\n      <td>0.502572</td>\n    </tr>\n    <tr>\n      <th>3</th>\n      <td>769</td>\n      <td>RF</td>\n      <td>20</td>\n      <td>0.591469</td>\n    </tr>\n    <tr>\n      <th>4</th>\n      <td>769</td>\n      <td>BNN</td>\n      <td>20</td>\n      <td>0.595965</td>\n    </tr>\n    <tr>\n      <th>5</th>\n      <td>769</td>\n      <td>BNN + BG</td>\n      <td>20</td>\n      <td>0.597527</td>\n    </tr>\n    <tr>\n      <th>3</th>\n      <td>920</td>\n      <td>RF</td>\n      <td>20</td>\n      <td>0.540765</td>\n    </tr>\n    <tr>\n      <th>4</th>\n      <td>920</td>\n      <td>BNN</td>\n      <td>20</td>\n      <td>0.605932</td>\n    </tr>\n    <tr>\n      <th>5</th>\n      <td>920</td>\n      <td>BNN + BG</td>\n      <td>20</td>\n      <td>0.573074</td>\n    </tr>\n    <tr>\n      <th>3</th>\n      <td>226</td>\n      <td>RF</td>\n      <td>20</td>\n      <td>0.628834</td>\n    </tr>\n    <tr>\n      <th>4</th>\n      <td>226</td>\n      <td>BNN</td>\n      <td>20</td>\n      <td>0.599602</td>\n    </tr>\n    <tr>\n      <th>5</th>\n      <td>226</td>\n      <td>BNN + BG</td>\n      <td>20</td>\n      <td>0.620356</td>\n    </tr>\n    <tr>\n      <th>3</th>\n      <td>196</td>\n      <td>RF</td>\n      <td>20</td>\n      <td>0.524545</td>\n    </tr>\n    <tr>\n      <th>4</th>\n      <td>196</td>\n      <td>BNN</td>\n      <td>20</td>\n      <td>0.572522</td>\n    </tr>\n    <tr>\n      <th>5</th>\n      <td>196</td>\n      <td>BNN + BG</td>\n      <td>20</td>\n      <td>0.545557</td>\n    </tr>\n  </tbody>\n</table>\n</div>"
     },
     "execution_count": 56,
     "metadata": {},
     "output_type": "execute_result"
    }
   ],
   "source": [
    "bg_bnn_res_zero_out_9c[(bg_bnn_res_zero_out_9c[\"num_feats\"] == k)]"
   ],
   "metadata": {
    "collapsed": false,
    "pycharm": {
     "name": "#%%\n"
    }
   }
  },
  {
   "cell_type": "code",
   "execution_count": 57,
   "outputs": [
    {
     "data": {
      "text/plain": "Ttest_relResult(statistic=1.1081128775352531, pvalue=0.2816439743249882)"
     },
     "execution_count": 57,
     "metadata": {},
     "output_type": "execute_result"
    }
   ],
   "source": [
    "stats.ttest_rel(bg_rmse, bnn_rmse)"
   ],
   "metadata": {
    "collapsed": false,
    "pycharm": {
     "name": "#%%\n"
    }
   }
  },
  {
   "cell_type": "code",
   "execution_count": 58,
   "outputs": [
    {
     "data": {
      "text/plain": "Ttest_relResult(statistic=4.0486962271891835, pvalue=0.0006855383672629304)"
     },
     "execution_count": 58,
     "metadata": {},
     "output_type": "execute_result"
    }
   ],
   "source": [
    "stats.ttest_rel(bg_rmse, rf_rmse)"
   ],
   "metadata": {
    "collapsed": false,
    "pycharm": {
     "name": "#%%\n"
    }
   }
  },
  {
   "cell_type": "markdown",
   "source": [
    "### Retrain Ranking"
   ],
   "metadata": {
    "collapsed": false,
    "pycharm": {
     "name": "#%% md\n"
    }
   }
  },
  {
   "cell_type": "code",
   "execution_count": 59,
   "outputs": [],
   "source": [
    "import pickle\n",
    "from tqdm import tqdm\n",
    "from sklearn.preprocessing import QuantileTransformer\n",
    "from scipy.stats import pearsonr\n",
    "import warnings\n",
    "import optuna\n",
    "warnings.filterwarnings(\"ignore\")\n",
    "\n",
    "num_feats = [10, 20, 30, 40, 50]\n",
    "\n",
    "def retrain_ranking(seeds, X, y, J):\n",
    "    J_zero = np.zeros_like(J)\n",
    "    p = X.shape[1]\n",
    "    for seed in tqdm(seeds):\n",
    "        bg_bnn_rf_res_dict = {\"seed\": [], \"model\": [], \"num_feats\": [], \"test_rmse_score\": []}\n",
    "\n",
    "        X_train_outer_df, X_test_df, y_train_outer_df, y_test_df = train_test_split(X, y, random_state=seed, shuffle=True, test_size=0.2)\n",
    "\n",
    "        train_transformer = QuantileTransformer(random_state=seed, output_distribution=\"normal\").fit(X_train_outer_df)\n",
    "        train_transformed = train_transformer.transform(X_train_outer_df)\n",
    "        test_transformed = train_transformer.transform(X_test_df)\n",
    "\n",
    "        X_train_outer_df = pd.DataFrame(train_transformed, columns=X_train_outer_df.columns)\n",
    "        X_test_df = pd.DataFrame(test_transformed, columns=X_test_df.columns)\n",
    "\n",
    "        X_train_df, X_val_df, y_train_df, y_val_df = train_test_split(X_train_outer_df, y_train_outer_df, shuffle=True,\n",
    "                                                                      random_state=seed, test_size=0.2)\n",
    "\n",
    "\n",
    "        train_indices, val_indices = X_train_df.index.to_list(), X_val_df.index.to_list()\n",
    "        X_train_outer, y_train_outer = X_train_outer_df.values, y_train_outer_df.values\n",
    "        X_train, y_train = X_train_df.values, y_train_df.values\n",
    "        X_val, y_val = X_val_df.values, y_val_df.values\n",
    "        X_test, y_test = X_test_df.values, y_test_df.values\n",
    "\n",
    "        torch.manual_seed(seed)\n",
    "        data_loader = NumpyLoader(NumpyData(X_train, y_train), batch_size=batch_size, shuffle=True)\n",
    "\n",
    "\n",
    "        bnn_bg_config = pickle.load(open(f\"{save_dir}/configs/bg_bnn_config_s_{seed}_optuna_v9c.pkl\", \"rb\"))\n",
    "        eta, mu_bg= 1.0, bnn_bg_config[\"mu\"]\n",
    "\n",
    "        if os.path.exists(f\"{save_dir}/dropout/bg_bnn_dropout_loss_s_{seed}_v9c.csv\"):\n",
    "            bg_bnn_dropout_loss_df = pd.read_csv(f\"{save_dir}/dropout/bg_bnn_dropout_loss_s_{seed}_v9c.csv\")\n",
    "        else:\n",
    "            bg_bnn_model = init_bg_bnn_model(seed, data_loader, epochs, lr_0, disc_lr_0, num_cycles, temp, sigma, hidden_sizes, J, eta, mu_bg, alpha, act_fn)\n",
    "            bg_states =  pickle.load(open(f\"{save_dir}/checkpoints/bg_bnn_states_s_{seed}_v9c.pkl\", \"rb\"))\n",
    "            bg_disc_states = pickle.load(open(f\"{save_dir}/checkpoints/bg_bnn_disc_states_s_{seed}_v9c.pkl\", \"rb\"))\n",
    "            bg_bnn_dropout_loss_df = get_feats_dropout_loss(bg_bnn_model, bg_states, bg_disc_states, X_val, y_val)\n",
    "            bg_bnn_dropout_loss_df.to_csv(f\"{save_dir}/dropout/bg_bnn_dropout_loss_s_{seed}_v9c.csv\", index=False)\n",
    "\n",
    "        bnn_config = pickle.load(open(f\"{save_dir}/configs/bnn_config_s_{seed}_optuna_v9c.pkl\", \"rb\"))\n",
    "        eta, mu = 1.0, bnn_config[\"mu\"]\n",
    "        if os.path.exists(f\"{save_dir}/dropout/bnn_dropout_loss_s_{seed}_v9c.csv\"):\n",
    "            bnn_dropout_loss_df = pd.read_csv(f\"{save_dir}/dropout/bnn_dropout_loss_s_{seed}_v9c.csv\")\n",
    "        else:\n",
    "\n",
    "            bnn_model = init_bg_bnn_model(seed, data_loader, epochs, lr_0, disc_lr_0, num_cycles, temp, sigma, hidden_sizes, J_zero, eta, mu, alpha, act_fn)\n",
    "            bnn_states = pickle.load(open(f\"{save_dir}/checkpoints/bnn_states_s_{seed}_v9c.pkl\", \"rb\"))\n",
    "            bnn_disc_states = pickle.load(open(f\"{save_dir}/checkpoints/bnn_disc_states_s_{seed}_v9c.pkl\", \"rb\"))\n",
    "            bnn_dropout_loss_df = get_feats_dropout_loss(bnn_model, bnn_states, bnn_disc_states, X_val, y_val)\n",
    "            bnn_dropout_loss_df.to_csv(f\"{save_dir}/dropout/bg_bnn_dropout_loss_s_{seed}_v9c.csv\", index=False)\n",
    "        #\n",
    "        if os.path.exists(f\"{save_dir}/checkpoints/rf_model_s_{seed}.pkl\"):\n",
    "            rf_model = pickle.load(open(f\"{save_dir}/checkpoints/rf_model_s_{seed}.pkl\", \"rb\"))\n",
    "        else:\n",
    "            rf_model = train_rf_model(seed, X_train_outer, y_train_outer, train_indices, val_indices)\n",
    "            pickle.dump(rf_model, open(f\"{save_dir}/checkpoints/rf_model_s_{seed}.pkl\", \"wb\"))\n",
    "\n",
    "\n",
    "        for num_feat in num_feats:\n",
    "            bg_bnn_feat_idx = bg_bnn_dropout_loss_df[\"feats_idx\"][:num_feat].to_list()\n",
    "            bnn_feat_idx = bnn_dropout_loss_df[\"feats_idx\"][:num_feat].to_list()\n",
    "            rf_feat_idx = np.argsort(rf_model.feature_importances_)[::-1][:num_feat]\n",
    "\n",
    "\n",
    "\n",
    "            ### BNN + BG\n",
    "            bg_bnn_mask = np.zeros(p)\n",
    "            bg_bnn_mask[bg_bnn_feat_idx] = 1.0\n",
    "            X_train_bg_bnn_m, X_test_bg_bnn_m = X_train @ np.diag(bg_bnn_mask),  X_test @ np.diag(bg_bnn_mask)\n",
    "            torch.manual_seed(seed)\n",
    "            data_loader_bg = NumpyLoader(NumpyData(X_train_bg_bnn_m, y_train), batch_size=batch_size, shuffle=True)\n",
    "            bg_bnn_model, bg_states_re, bg_disc_states_re = train_bg_bnn_model(seed, data_loader_bg, epochs, num_cycles, beta, beta_noise, lr_0, disc_lr_0, hidden_sizes, temp, sigma, eta, mu_bg, alpha, J, act_fn)\n",
    "            rmse_bg_bnn, r2_bg_bnn = score_bg_bnn_model(bg_bnn_model, X_test_bg_bnn_m, y_test, bg_states_re, bg_disc_states_re)\n",
    "\n",
    "            ## BNN w/o BG\n",
    "            bnn_mask = np.zeros(p)\n",
    "            bnn_mask[bnn_feat_idx] = 1.0\n",
    "            X_train_bnn_m, X_test_bnn_m = X_train @ np.diag(bnn_mask), X_test @ np.diag(bnn_mask)\n",
    "            data_loader_bnn = NumpyLoader(NumpyData(X_train_bnn_m, y_train), batch_size=batch_size, shuffle=True)\n",
    "            bnn_model, bnn_states_re, bnn_disc_states_re = train_bg_bnn_model(seed, data_loader_bnn, epochs, num_cycles, beta, beta_noise, lr_0, disc_lr_0, hidden_sizes, temp, sigma, eta, mu, alpha, J_zero, act_fn)\n",
    "            rmse_bnn, r2_bnn = score_bg_bnn_model(bnn_model, X_test_bnn_m, y_test, bnn_states_re, bnn_disc_states_re)\n",
    "\n",
    "            ## RF\n",
    "            rf_mask = np.zeros(p)\n",
    "            rf_mask[rf_feat_idx] = 1.0\n",
    "            X_train_rf_m, X_test_rf_m = X_train @ np.diag(rf_mask),  X_test @ np.diag(rf_mask)\n",
    "            rf_model.fit(X_train_rf_m, y_train)\n",
    "            rmse_rf, r2_rf = eval_rf_model(rf_model, X_test_rf_m, y_test)\n",
    "\n",
    "            bg_bnn_rf_res_dict[\"seed\"].append(seed)\n",
    "            bg_bnn_rf_res_dict[\"model\"].append(\"RF\")\n",
    "            bg_bnn_rf_res_dict[\"num_feats\"].append(num_feat)\n",
    "            bg_bnn_rf_res_dict[\"test_rmse_score\"].append(rmse_rf)\n",
    "            # bg_bnn_rf_res_dict[\"test_r2_score\"].append(r2_rf)\n",
    "\n",
    "            bg_bnn_rf_res_dict[\"seed\"].append(seed)\n",
    "            bg_bnn_rf_res_dict[\"model\"].append(\"BNN\")\n",
    "            bg_bnn_rf_res_dict[\"num_feats\"].append(num_feat)\n",
    "            bg_bnn_rf_res_dict[\"test_rmse_score\"].append(rmse_bnn)\n",
    "            # bg_bnn_rf_res_dict[\"test_r2_score\"].append(r2_bnn)\n",
    "\n",
    "\n",
    "            bg_bnn_rf_res_dict[\"seed\"].append(seed)\n",
    "            bg_bnn_rf_res_dict[\"model\"].append(\"BNN + BG\")\n",
    "            bg_bnn_rf_res_dict[\"num_feats\"].append(num_feat)\n",
    "            bg_bnn_rf_res_dict[\"test_rmse_score\"].append(rmse_bg_bnn)\n",
    "            # bg_bnn_rf_res_dict[\"test_r2_score\"].append(r2_bg_bnn)\n",
    "\n",
    "\n",
    "\n",
    "        pd.DataFrame(bg_bnn_rf_res_dict).to_csv(f\"{save_dir}/results/feat_retrain_comp_bnn_bg_rf_s_{seed}_v9c.csv\", index=False)\n",
    "\n",
    "    print(\"Done\")"
   ],
   "metadata": {
    "collapsed": false,
    "pycharm": {
     "name": "#%%\n"
    }
   }
  },
  {
   "cell_type": "code",
   "execution_count": null,
   "outputs": [
    {
     "name": "stderr",
     "output_type": "stream",
     "text": [
      "  0%|          | 0/20 [00:00<?, ?it/s]"
     ]
    }
   ],
   "source": [
    "seeds = [422,261,968,282,739,573,220,413,745,775,482,442,210,423,760,57,769,920,226,196]\n",
    "curr_seeds = seeds\n",
    "retrain_ranking(curr_seeds, X_selected, target, J)"
   ],
   "metadata": {
    "collapsed": false,
    "pycharm": {
     "name": "#%%\n"
    }
   }
  },
  {
   "cell_type": "code",
   "execution_count": 135,
   "outputs": [
    {
     "data": {
      "text/plain": "                    test_rmse_score\nmodel    num_feats                 \nBNN      10                0.511866\n         20                0.501745\n         30                0.505474\n         40                0.504469\n         50                0.496631\nBNN + BG 10                0.511866\n         20                0.501745\n         30                0.505474\n         40                0.504427\n         50                0.496703\nRF       10                0.479958\n         20                0.482911\n         30                0.483801\n         40                0.485174\n         50                0.481013",
      "text/html": "<div>\n<style scoped>\n    .dataframe tbody tr th:only-of-type {\n        vertical-align: middle;\n    }\n\n    .dataframe tbody tr th {\n        vertical-align: top;\n    }\n\n    .dataframe thead th {\n        text-align: right;\n    }\n</style>\n<table border=\"1\" class=\"dataframe\">\n  <thead>\n    <tr style=\"text-align: right;\">\n      <th></th>\n      <th></th>\n      <th>test_rmse_score</th>\n    </tr>\n    <tr>\n      <th>model</th>\n      <th>num_feats</th>\n      <th></th>\n    </tr>\n  </thead>\n  <tbody>\n    <tr>\n      <th rowspan=\"5\" valign=\"top\">BNN</th>\n      <th>10</th>\n      <td>0.511866</td>\n    </tr>\n    <tr>\n      <th>20</th>\n      <td>0.501745</td>\n    </tr>\n    <tr>\n      <th>30</th>\n      <td>0.505474</td>\n    </tr>\n    <tr>\n      <th>40</th>\n      <td>0.504469</td>\n    </tr>\n    <tr>\n      <th>50</th>\n      <td>0.496631</td>\n    </tr>\n    <tr>\n      <th rowspan=\"5\" valign=\"top\">BNN + BG</th>\n      <th>10</th>\n      <td>0.511866</td>\n    </tr>\n    <tr>\n      <th>20</th>\n      <td>0.501745</td>\n    </tr>\n    <tr>\n      <th>30</th>\n      <td>0.505474</td>\n    </tr>\n    <tr>\n      <th>40</th>\n      <td>0.504427</td>\n    </tr>\n    <tr>\n      <th>50</th>\n      <td>0.496703</td>\n    </tr>\n    <tr>\n      <th rowspan=\"5\" valign=\"top\">RF</th>\n      <th>10</th>\n      <td>0.479958</td>\n    </tr>\n    <tr>\n      <th>20</th>\n      <td>0.482911</td>\n    </tr>\n    <tr>\n      <th>30</th>\n      <td>0.483801</td>\n    </tr>\n    <tr>\n      <th>40</th>\n      <td>0.485174</td>\n    </tr>\n    <tr>\n      <th>50</th>\n      <td>0.481013</td>\n    </tr>\n  </tbody>\n</table>\n</div>"
     },
     "execution_count": 135,
     "metadata": {},
     "output_type": "execute_result"
    }
   ],
   "source": [
    "save_dir = f\"{data_dir}/exp_data_5/cancer/gdsc\"\n",
    "res_dfs = []\n",
    "for seed in curr_seeds:\n",
    "    df = pd.read_csv(f\"{save_dir}/results/feat_retrain_comp_bnn_bg_rf_s_{seed}_v9c.csv\")\n",
    "    res_dfs.append(df)\n",
    "\n",
    "bg_bnn_res_retrain_9c = pd.concat(res_dfs, axis=0)\n",
    "# bg_bnn_res_retrain_9c = bg_bnn_res_retrain_9c.drop_duplicates()\n",
    "bg_bnn_res_retrain_9c.groupby([\"model\", \"num_feats\"]).mean().iloc[:,1:]"
   ],
   "metadata": {
    "collapsed": false,
    "pycharm": {
     "name": "#%%\n"
    }
   }
  },
  {
   "cell_type": "code",
   "execution_count": 136,
   "outputs": [
    {
     "data": {
      "text/plain": "<Figure size 576x432 with 1 Axes>",
      "image/png": "[encoded data removed]"
     },
     "metadata": {
      "needs_background": "light"
     },
     "output_type": "display_data"
    }
   ],
   "source": [
    "plt.rcParams[\"figure.figsize\"] = (8,6)\n",
    "for model in [\"BNN\", \"BNN + BG\", \"RF\"]:\n",
    "    plt.plot(num_feats, bg_bnn_res_retrain_9c[bg_bnn_res_retrain_9c[\"model\"] == model].groupby([\"num_feats\"]).mean()[\"test_rmse_score\"].to_list(), label=model)\n",
    "    plt.xticks(num_feats)\n",
    "    plt.ylabel(\"Test RMSE\")\n",
    "    plt.xlabel(\"Num feats\")\n",
    "    plt.legend()"
   ],
   "metadata": {
    "collapsed": false,
    "pycharm": {
     "name": "#%%\n"
    }
   }
  },
  {
   "cell_type": "markdown",
   "source": [
    "#### GP"
   ],
   "metadata": {
    "collapsed": false,
    "pycharm": {
     "name": "#%% md\n"
    }
   }
  },
  {
   "cell_type": "markdown",
   "metadata": {
    "collapsed": false,
    "pycharm": {
     "name": "#%% md\n"
    }
   },
   "source": []
  },
  {
   "cell_type": "code",
   "execution_count": 62,
   "metadata": {
    "collapsed": false,
    "pycharm": {
     "name": "#%%\n"
    }
   },
   "outputs": [],
   "source": [
    "from gplearn.genetic import SymbolicTransformer, SymbolicClassifier, SymbolicRegressor\n",
    "from gplearn.functions import make_function\n",
    "import operator\n",
    "from sklearn.linear_model import Ridge\n",
    "from sklearn.model_selection import GridSearchCV\n",
    "from scipy import stats\n",
    "import warnings\n",
    "warnings.filterwarnings(\"ignore\")\n",
    "\n",
    "def get_best_programs(gp, num_models, classifier=True, ascending=True, sort_fit=\"OOB_fitness\"):\n",
    "    gp_dict = {'Gen': [], \"Ind\": [], \"Fitness\": [], 'OOB_fitness': [], \"Equation\": []}\n",
    "\n",
    "    if classifier:\n",
    "        for idGen in range(len(gp._programs)):\n",
    "            for idPopulation in range(gp.population_size):\n",
    "                gp_dict[\"Gen\"].append(idGen)\n",
    "                gp_dict[\"Ind\"].append(idPopulation)\n",
    "                gp_dict[\"Fitness\"].append(gp._programs[idGen][idPopulation].fitness_)\n",
    "                gp_dict[\"OOB_fitness\"].append(gp._programs[idGen][idPopulation].oob_fitness_)\n",
    "                gp_dict[\"Equation\"].append(str(gp._programs[idGen][idPopulation]))\n",
    "    else:\n",
    "        for idx, prog in enumerate(gp._programs[-1]):\n",
    "                gp_dict[\"Gen\"].append(-1)\n",
    "                gp_dict[\"Ind\"].append(idx)\n",
    "                gp_dict[\"Fitness\"].append(prog.fitness_)\n",
    "                gp_dict[\"OOB_fitness\"].append(prog.oob_fitness_)\n",
    "                gp_dict[\"Equation\"].append(str(prog))\n",
    "\n",
    "    gp_df = pd.DataFrame(gp_dict).sort_values(sort_fit, ascending=ascending)[:num_models]\n",
    "    programs = []\n",
    "    for i in range(num_models):\n",
    "        gen, ind = int(gp_df.iloc[i][\"Gen\"]), int(gp_df.iloc[i][\"Ind\"])\n",
    "        programs.append(gp._programs[gen][ind])\n",
    "\n",
    "    return programs, gp_df\n",
    "\n",
    "\n",
    "def gp_transform(est, X, classifier=False, num_models=100, sort_fit=\"Fitness\"):\n",
    "    if classifier or (sort_fit == \"OOB_fitness\"):\n",
    "        programs, gp_df = get_best_programs(est, num_models, classifier, sort_fit=sort_fit, ascending=classifier)\n",
    "        out = np.zeros((X.shape[0], len(programs)))\n",
    "        for i, prog in enumerate(programs):\n",
    "            out[:, i] = prog.execute(X)\n",
    "\n",
    "        return out, gp_df\n",
    "    else:\n",
    "        return est.transform(X), None\n",
    "\n",
    "function_set = ['add', 'sub', 'mul', 'div', 'sqrt', 'log',\n",
    "                'abs', 'neg', 'inv', 'max', 'min', 'sin', 'cos']\n",
    "\n",
    "def train_linear_model(seed, X_train, X_test, y_train, y_test):\n",
    "    cv = KFold(n_splits=3, random_state=seed, shuffle=True)\n",
    "    param_grid = {\"alpha\": np.logspace(-2, 2, 20)}\n",
    "    grid_cv = GridSearchCV(estimator=Ridge(max_iter=10000), param_grid=param_grid, \n",
    "                                            verbose=0, scoring=\"r2\", cv=cv).fit(X_train, y_train)\n",
    "    lin_model = Ridge(max_iter=10000, **grid_cv.best_params_)\n",
    "    lin_model.fit(X_train, y_train)\n",
    "    y_test_pred = lin_model.predict(X_test)\n",
    "\n",
    "    test_rmse_score = np.sqrt(np.mean((y_test - y_test_pred)**2))\n",
    "    test_r2_score = r2_score(y_test, y_test_pred)\n",
    "    test_pearson, test_pval = stats.pearsonr(y_test, y_test_pred)\n",
    "\n",
    "    return test_rmse_score, test_r2_score, test_pearson, test_pval\n",
    "\n",
    "def train_gp(seed, X_train, X_test, y_train, y_test, num_models=5, sort_fit=\"OOB_fitness\", verbose=0, num_gen=100,\n",
    "                        p_cxvr=0.8, p_subt_mut=0.1, p_hmut=0.05, p_pmut=0.1, subsample=0.8, complexity_coef=0.05):\n",
    "    gp_est = SymbolicTransformer(population_size=1000, hall_of_fame=200, n_components=50, generations=num_gen,\n",
    "                                 function_set=function_set,\n",
    "                           p_crossover=p_cxvr, p_subtree_mutation=p_subt_mut,\n",
    "                           p_hoist_mutation=p_hmut, p_point_mutation=p_pmut,\n",
    "                           max_samples=subsample, verbose=verbose,\n",
    "                           parsimony_coefficient=complexity_coef, random_state=seed)\n",
    "\n",
    "    gp_est.fit(X_train, y_train)\n",
    "\n",
    "    gp_features_train, gp_train_df = gp_transform(gp_est, X_train, classifier=False, sort_fit=sort_fit, num_models=num_models)\n",
    "    gp_features_test, gp_test_df = gp_transform(gp_est, X_test, classifier=False, sort_fit=sort_fit, num_models=num_models)\n",
    "\n",
    "    X_train_comb = np.concatenate([X_train, gp_features_train], axis=1)\n",
    "    X_test_comb = np.concatenate([X_test, gp_features_test], axis=1)\n",
    "\n",
    "\n",
    "    test_rmse_score, test_r2_score, test_pearson, test_pval = train_linear_model(seed, X_train_comb, X_test_comb, y_train, y_test)\n",
    "\n",
    "    return test_rmse_score, test_r2_score, test_pearson, test_pval, gp_test_df\n",
    "\n",
    "def train_gp_v2(seed, X_train, X_test, y_train,y_test, verbose=0, num_gen=100,\n",
    "             p_cxvr=0.8, p_subt_mut=0.1, p_hmut=0.05, p_pmut=0.1, subsample=0.8, complexity_coef=0.05):\n",
    "    gp_est = SymbolicRegressor(population_size=1000, generations=num_gen,\n",
    "                                 function_set=function_set,\n",
    "                                 p_crossover=p_cxvr, p_subtree_mutation=p_subt_mut,\n",
    "                                 p_hoist_mutation=p_hmut, p_point_mutation=p_pmut,\n",
    "                                 max_samples=subsample, verbose=verbose,\n",
    "                                 parsimony_coefficient=complexity_coef, random_state=seed)\n",
    "\n",
    "    gp_est.fit(X_train, y_train)\n",
    "\n",
    "    y_test_pred = gp_est.predict(X_test)\n",
    "    test_rmse_score = np.sqrt(np.mean((y_test - y_test_pred)**2))\n",
    "    test_r2_score = r2_score(y_test, y_test_pred)\n",
    "    test_pearson, test_pval = stats.pearsonr(y_test, y_test_pred)\n",
    "\n",
    "    return test_rmse_score, test_r2_score, test_pearson, test_pval, gp_est"
   ]
  },
  {
   "cell_type": "code",
   "execution_count": 70,
   "metadata": {
    "collapsed": false,
    "pycharm": {
     "name": "#%%\n"
    }
   },
   "outputs": [],
   "source": [
    "import pickle\n",
    "from tqdm import tqdm\n",
    "from sklearn.preprocessing import QuantileTransformer\n",
    "from scipy.stats import pearsonr\n",
    "import warnings\n",
    "import optuna\n",
    "warnings.filterwarnings(\"ignore\")\n",
    "\n",
    "# epochs = 200\n",
    "# hidden_sizes = [1000, 500, 300, 100]\n",
    "# num_cycles = 10\n",
    "# batch_size = 80\n",
    "# lr_0 = 1e-3\n",
    "# sigma = 1.0\n",
    "# eta = 1.0\n",
    "num_feats = [50]\n",
    "epochs = 500\n",
    "num_cycles = 50\n",
    "batch_size = 16\n",
    "act_fn = jax.nn.swish\n",
    "beta = 0.80\n",
    "lr_0, disc_lr_0 = 1e-3, 1e-3\n",
    "hidden_sizes = [500]\n",
    "temp, sigma = 1e-4, 1.0\n",
    "# eta, mu = 1.0, 1.0\n",
    "alpha = 1.0\n",
    "\n",
    "num_gp_models = 5\n",
    "save_dir = f\"{data_dir}/exp_data_5/cancer/gdsc\"\n",
    "\n",
    "\n",
    "def cross_val_gp_train(seeds, X, y, J):\n",
    "    J_zero = np.zeros_like(J)\n",
    "    i = 0\n",
    "    for seed in tqdm(seeds):\n",
    "        rng_key = jax.random.PRNGKey(seed)\n",
    "        bnn_rf_gp_dict = {\"seed\": [], \"model\": [], \"num_feats\": [], \"test_rmse_score\": [],\n",
    "                          \"test_r2_score\": [], \"test_pcc\": [], \"test_pcc_pval\": []}\n",
    "\n",
    "        X_train_outer_df, X_test_df, y_train_outer_df, y_test_df = train_test_split(X, y, random_state=seed, shuffle=True, test_size=0.2)\n",
    "\n",
    "        train_transformer = QuantileTransformer(random_state=seed, output_distribution=\"normal\").fit(X_train_outer_df)\n",
    "        train_transformed = train_transformer.transform(X_train_outer_df)\n",
    "        test_transformed = train_transformer.transform(X_test_df)\n",
    "\n",
    "        X_train_outer_df = pd.DataFrame(train_transformed, columns=X_train_outer_df.columns)\n",
    "        X_test_df = pd.DataFrame(test_transformed, columns=X_test_df.columns)\n",
    "\n",
    "        X_train_df, X_val_df, y_train_df, y_val_df = train_test_split(X_train_outer_df, y_train_outer_df, shuffle=True,\n",
    "                                                                      random_state=seed, test_size=0.2)\n",
    "\n",
    "\n",
    "        train_indices, val_indices = X_train_df.index.to_list(), X_val_df.index.to_list()\n",
    "        X_train_outer, y_train_outer = X_train_outer_df.values, y_train_outer_df.values\n",
    "        X_train, y_train = X_train_df.values, y_train_df.values\n",
    "        X_val, y_val = X_val_df.values, y_val_df.values\n",
    "        X_test, y_test = X_test_df.values, y_test_df.values\n",
    "\n",
    "\n",
    "        # Train BNN and RF models and select features\n",
    "        torch.manual_seed(seed)\n",
    "        data_loader = NumpyLoader(NumpyData(X_train, y_train), batch_size=batch_size, shuffle=True)\n",
    "        if os.path.exists(f\"{save_dir}/dropout/bg_bnn_dropout_loss_s_{seed}_v9a.csv\"):\n",
    "            bg_bnn_dropout_loss_df = pd.read_csv(f\"{save_dir}/dropout/bg_bnn_dropout_loss_s_{seed}_v9a.csv\")\n",
    "        else:\n",
    "            bnn_bg_config = pickle.load(open(f\"{save_dir}/configs/bg_bnn_config_s_{seed}_optuna_v9a.pkl\", \"rb\"))\n",
    "            eta, mu = bnn_bg_config[\"eta\"], bnn_bg_config[\"mu\"]\n",
    "            bg_bnn_model = init_bg_bnn_model(seed, data_loader, epochs, lr_0, disc_lr_0, num_cycles, temp, sigma, hidden_sizes, J, eta, mu, alpha, act_fn)\n",
    "            bg_states =  pickle.load(open(f\"{save_dir}/checkpoints/bg_bnn_states_s_{seed}_v9a.pkl\", \"rb\"))\n",
    "            bg_disc_states = pickle.load(open(f\"{save_dir}/checkpoints/bg_bnn_disc_states_s_{seed}_v9a.pkl\", \"rb\"))\n",
    "            bg_bnn_dropout_loss_df = get_feats_dropout_loss(bg_bnn_model, bg_states, bg_disc_states, X_val, y_val)\n",
    "            bg_bnn_dropout_loss_df.to_csv(f\"{save_dir}/dropout/bg_bnn_dropout_loss_s_{seed}_v9a.csv\", index=False)\n",
    "\n",
    "        if os.path.exists(f\"{save_dir}/dropout/bnn_dropout_loss_s_{seed}_v9a.csv\"):\n",
    "            bnn_dropout_loss_df = pd.read_csv(f\"{save_dir}/dropout/bnn_dropout_loss_s_{seed}_v9a.csv\")\n",
    "        else:\n",
    "            bnn_config = pickle.load(open(f\"{save_dir}/configs/bnn_config_s_{seed}_optuna_v9a.pkl\", \"rb\"))\n",
    "            eta, mu = 1.0, bnn_config[\"mu\"]\n",
    "            bnn_model = init_bg_bnn_model(seed, data_loader, epochs, lr_0, disc_lr_0, num_cycles, temp, sigma, hidden_sizes, J_zero, eta, mu, alpha, act_fn)\n",
    "            bnn_states = pickle.load(open(f\"{save_dir}/checkpoints/bnn_states_s_{seed}_v9a.pkl\", \"rb\"))\n",
    "            bnn_disc_states = pickle.load(open(f\"{save_dir}/checkpoints/bnn_disc_states_s_{seed}_v9a.pkl\", \"rb\"))\n",
    "            bnn_dropout_loss_df = get_feats_dropout_loss(bnn_model, bnn_states, bnn_disc_states, X_val, y_val)\n",
    "            bnn_dropout_loss_df.to_csv(f\"{save_dir}/dropout/bg_bnn_dropout_loss_s_{seed}_v9a.csv\", index=False)\n",
    "\n",
    "        if os.path.exists(f\"{save_dir}/checkpoints/rf_model_s_{seed}.pkl\"):\n",
    "            rf_model = pickle.load(open(f\"{save_dir}/checkpoints/rf_model_s_{seed}.pkl\", \"rb\"))\n",
    "        else:\n",
    "            rf_model = train_rf_model(seed, X_train_outer, y_train_outer, train_indices, val_indices)\n",
    "            pickle.dump(rf_model, open(f\"{save_dir}/checkpoints/rf_model_s_{seed}.pkl\", \"wb\"))\n",
    "\n",
    "\n",
    "        for num_feat in num_feats:\n",
    "\n",
    "            bg_bnn_feat_idx = bg_bnn_dropout_loss_df[\"feats_idx\"][:num_feat].to_list()\n",
    "            bnn_feat_idx = bnn_dropout_loss_df[\"feats_idx\"][:num_feat].to_list()\n",
    "            rf_feat_idx = np.argsort(rf_model.feature_importances_)[::-1][:num_feat]\n",
    "\n",
    "            X_train_2, y_train_2 = jax.random.choice(rng_key, X_train, shape=(X_val.shape[0],), replace=False), jax.random.choice(rng_key, y_train, shape=(X_val.shape[0],), replace=False)\n",
    "\n",
    "            # Create new validation for training Linear Regression models same size as outer validation\n",
    "            # X_gp_train_rf, X_gp_train_2_rf, X_gp_val_rf, X_gp_test_rf = X_val[:,rf_feat_idx], X_train_2[:,rf_feat_idx], X_train[:,rf_feat_idx], X_test[:,rf_feat_idx]\n",
    "            # X_gp_train_bg_bnn, X_gp_train_2_bg_bnn, X_gp_val_bg_bnn, X_gp_test_bg_bnn = X_val[:,bg_bnn_feat_idx], X_train_2[:,bg_bnn_feat_idx], X_train[:,bg_bnn_feat_idx], X_test[:,bg_bnn_feat_idx]\n",
    "            # X_gp_train_bnn, X_gp_train_2_bnn, X_gp_val_bnn, X_gp_test_bnn = X_val[:,bnn_feat_idx], X_train_2[:,bnn_feat_idx], X_train[:,bnn_feat_idx], X_test[:,bnn_feat_idx]\n",
    "            X_gp_train_rf, X_gp_test_rf = X_train[:,rf_feat_idx], X_test[:,rf_feat_idx]\n",
    "            X_gp_train_bg_bnn, X_gp_test_bg_bnn = X_train[:,bg_bnn_feat_idx], X_test[:,bg_bnn_feat_idx]\n",
    "            X_gp_train_bnn, X_gp_test_bnn = X_train[:,bnn_feat_idx], X_test[:,bnn_feat_idx]\n",
    "\n",
    "            y_train_gp, y_test_gp = y_train, y_test\n",
    "\n",
    "            ## Run LR\n",
    "            bnn_test_rmse_score, bnn_test_r2_score, bnn_test_pcc, bnn_test_pval = train_linear_model(seed, X_gp_train_bnn, X_gp_test_bnn, y_train, y_test_gp)\n",
    "            rf_test_rmse_score, rf_test_r2_score, rf_test_pcc, rf_test_pval = train_linear_model(seed, X_gp_train_rf, X_gp_test_rf, y_train, y_test_gp)\n",
    "            bg_bnn_test_rmse_score, bg_bnn_test_r2_score, bg_bnn_test_pcc, bg_bnn_test_pval = train_linear_model(seed, X_gp_train_bg_bnn, X_gp_test_bg_bnn, y_train, y_test_gp)\n",
    "\n",
    "            ## Run GP + LR\n",
    "            bg_bnn_gp_test_rmse_score, bg_bnn_gp_test_r2_score, bg_bnn_gp_test_pcc, bg_bnn_gp_test_pval, _ = train_gp(seed, X_gp_train_bg_bnn, X_gp_test_bg_bnn,\n",
    "                                                                                                          y_train_gp, y_test_gp, num_models=num_gp_models, verbose=0, p_cxvr=0.8, p_subt_mut=0.05,\n",
    "                                                                                                          p_hmut=0.05, p_pmut=0.05, complexity_coef=0.001)\n",
    "\n",
    "            bnn_gp_test_rmse_score, bnn_gp_test_r2_score, bnn_gp_test_pcc, bnn_gp_test_pval, _ = train_gp(seed, X_gp_train_bnn, X_gp_test_bnn,\n",
    "                                                                                                          y_train_gp, y_test_gp, num_models=num_gp_models, verbose=0, p_cxvr=0.8, p_subt_mut=0.05,\n",
    "                                                                                                          p_hmut=0.05, p_pmut=0.05, complexity_coef=0.001)\n",
    "\n",
    "\n",
    "            rf_gp_test_rmse_score, rf_gp_test_r2_score, rf_gp_test_pcc, rf_gp_test_pval, _ = train_gp(seed, X_gp_train_rf, X_gp_test_rf,\n",
    "                                                                                                      y_train_gp, y_test_gp, num_models=num_gp_models, verbose=0, p_cxvr=0.8, p_subt_mut=0.05,\n",
    "                                                                                                      p_hmut=0.05, p_pmut=0.05, complexity_coef=0.001)\n",
    "\n",
    "\n",
    "            # ======================== Save scores for compressed models =========================\n",
    "\n",
    "            bnn_rf_gp_dict[\"seed\"].append(seed)\n",
    "            bnn_rf_gp_dict[\"model\"].append(\"RF + LR\")\n",
    "            bnn_rf_gp_dict[\"num_feats\"].append(num_feat)\n",
    "            bnn_rf_gp_dict[\"test_rmse_score\"].append(rf_test_rmse_score)\n",
    "            bnn_rf_gp_dict[\"test_r2_score\"].append(rf_test_r2_score)\n",
    "            bnn_rf_gp_dict[\"test_pcc\"].append(rf_test_pcc)\n",
    "            bnn_rf_gp_dict[\"test_pcc_pval\"].append(rf_test_pval)\n",
    "\n",
    "            bnn_rf_gp_dict[\"seed\"].append(seed)\n",
    "            bnn_rf_gp_dict[\"model\"].append(\"RF + LR + GP\")\n",
    "            bnn_rf_gp_dict[\"num_feats\"].append(num_feat)\n",
    "            bnn_rf_gp_dict[\"test_rmse_score\"].append(rf_gp_test_rmse_score)\n",
    "            bnn_rf_gp_dict[\"test_r2_score\"].append(rf_gp_test_r2_score)\n",
    "            bnn_rf_gp_dict[\"test_pcc\"].append(rf_gp_test_pcc)\n",
    "            bnn_rf_gp_dict[\"test_pcc_pval\"].append(rf_gp_test_pval)\n",
    "\n",
    "            bnn_rf_gp_dict[\"seed\"].append(seed)\n",
    "            bnn_rf_gp_dict[\"model\"].append(\"BNN + LR\")\n",
    "            bnn_rf_gp_dict[\"num_feats\"].append(num_feat)\n",
    "            bnn_rf_gp_dict[\"test_rmse_score\"].append(bnn_test_rmse_score)\n",
    "            bnn_rf_gp_dict[\"test_r2_score\"].append(bnn_test_r2_score)\n",
    "            bnn_rf_gp_dict[\"test_pcc\"].append(bnn_test_pcc)\n",
    "            bnn_rf_gp_dict[\"test_pcc_pval\"].append(bnn_test_pval)\n",
    "\n",
    "\n",
    "            bnn_rf_gp_dict[\"seed\"].append(seed)\n",
    "            bnn_rf_gp_dict[\"model\"].append(\"BNN + LR + GP\")\n",
    "            bnn_rf_gp_dict[\"num_feats\"].append(num_feat)\n",
    "            bnn_rf_gp_dict[\"test_rmse_score\"].append(bnn_gp_test_rmse_score)\n",
    "            bnn_rf_gp_dict[\"test_r2_score\"].append(bnn_gp_test_r2_score)\n",
    "            bnn_rf_gp_dict[\"test_pcc\"].append(bnn_gp_test_pcc)\n",
    "            bnn_rf_gp_dict[\"test_pcc_pval\"].append(bnn_gp_test_pval)\n",
    "\n",
    "            bnn_rf_gp_dict[\"seed\"].append(seed)\n",
    "            bnn_rf_gp_dict[\"model\"].append(\"BNN + BG + LR\")\n",
    "            bnn_rf_gp_dict[\"num_feats\"].append(num_feat)\n",
    "            bnn_rf_gp_dict[\"test_rmse_score\"].append(bg_bnn_test_rmse_score)\n",
    "            bnn_rf_gp_dict[\"test_r2_score\"].append(bg_bnn_test_r2_score)\n",
    "            bnn_rf_gp_dict[\"test_pcc\"].append(bg_bnn_test_pcc)\n",
    "            bnn_rf_gp_dict[\"test_pcc_pval\"].append(bg_bnn_test_pval)\n",
    "\n",
    "\n",
    "            bnn_rf_gp_dict[\"seed\"].append(seed)\n",
    "            bnn_rf_gp_dict[\"model\"].append(\"BNN + BG + LR + GP\")\n",
    "            bnn_rf_gp_dict[\"num_feats\"].append(num_feat)\n",
    "            bnn_rf_gp_dict[\"test_rmse_score\"].append(bg_bnn_gp_test_rmse_score)\n",
    "            bnn_rf_gp_dict[\"test_r2_score\"].append(bg_bnn_gp_test_r2_score)\n",
    "            bnn_rf_gp_dict[\"test_pcc\"].append(bg_bnn_gp_test_pcc)\n",
    "            bnn_rf_gp_dict[\"test_pcc_pval\"].append(bg_bnn_gp_test_pval)\n",
    "\n",
    "\n",
    "\n",
    "        pd.DataFrame(bnn_rf_gp_dict).to_csv(f\"{save_dir}/results/model_comp_bnn_bg_rf_s_{seed}_v9a.csv\", index=False)\n",
    "\n",
    "\n",
    "        i += 1\n",
    "\n",
    "\n",
    "    print(\"Done\")"
   ]
  },
  {
   "cell_type": "code",
   "execution_count": 73,
   "metadata": {
    "collapsed": false,
    "pycharm": {
     "name": "#%%\n"
    }
   },
   "outputs": [
    {
     "name": "stderr",
     "output_type": "stream",
     "text": [
      "100%|██████████| 5/5 [31:05<00:00, 373.06s/it]"
     ]
    },
    {
     "name": "stdout",
     "output_type": "stream",
     "text": [
      "Done\n"
     ]
    },
    {
     "name": "stderr",
     "output_type": "stream",
     "text": [
      "\n"
     ]
    }
   ],
   "source": [
    "seeds = [422,261,968,282,739,573,220,413,745,775,482,442,210,423,760,57,769,920,226,196]\n",
    "curr_seeds = seeds[5:10]\n",
    "bnn_rf_gp_dict = cross_val_gp_train(curr_seeds, X_selected, target, J)"
   ]
  },
  {
   "cell_type": "code",
   "execution_count": 74,
   "outputs": [
    {
     "data": {
      "text/plain": "                              test_rmse_score  test_r2_score  test_pcc  \\\nmodel              num_feats                                             \nBNN + BG + LR      50                0.511521       0.118143  0.409041   \nBNN + BG + LR + GP 50                0.530124       0.052099  0.386198   \nBNN + LR           50                0.519739       0.089570  0.384870   \nBNN + LR + GP      50                0.541219       0.011248  0.364772   \nRF + LR            50                0.486262       0.198384  0.472615   \nRF + LR + GP       50                0.503325       0.136621  0.453537   \n\n                              test_pcc_pval  \nmodel              num_feats                 \nBNN + BG + LR      50              0.000681  \nBNN + BG + LR + GP 50              0.002462  \nBNN + LR           50              0.004507  \nBNN + LR + GP      50              0.007797  \nRF + LR            50              0.000355  \nRF + LR + GP       50              0.000509  ",
      "text/html": "<div>\n<style scoped>\n    .dataframe tbody tr th:only-of-type {\n        vertical-align: middle;\n    }\n\n    .dataframe tbody tr th {\n        vertical-align: top;\n    }\n\n    .dataframe thead th {\n        text-align: right;\n    }\n</style>\n<table border=\"1\" class=\"dataframe\">\n  <thead>\n    <tr style=\"text-align: right;\">\n      <th></th>\n      <th></th>\n      <th>test_rmse_score</th>\n      <th>test_r2_score</th>\n      <th>test_pcc</th>\n      <th>test_pcc_pval</th>\n    </tr>\n    <tr>\n      <th>model</th>\n      <th>num_feats</th>\n      <th></th>\n      <th></th>\n      <th></th>\n      <th></th>\n    </tr>\n  </thead>\n  <tbody>\n    <tr>\n      <th>BNN + BG + LR</th>\n      <th>50</th>\n      <td>0.511521</td>\n      <td>0.118143</td>\n      <td>0.409041</td>\n      <td>0.000681</td>\n    </tr>\n    <tr>\n      <th>BNN + BG + LR + GP</th>\n      <th>50</th>\n      <td>0.530124</td>\n      <td>0.052099</td>\n      <td>0.386198</td>\n      <td>0.002462</td>\n    </tr>\n    <tr>\n      <th>BNN + LR</th>\n      <th>50</th>\n      <td>0.519739</td>\n      <td>0.089570</td>\n      <td>0.384870</td>\n      <td>0.004507</td>\n    </tr>\n    <tr>\n      <th>BNN + LR + GP</th>\n      <th>50</th>\n      <td>0.541219</td>\n      <td>0.011248</td>\n      <td>0.364772</td>\n      <td>0.007797</td>\n    </tr>\n    <tr>\n      <th>RF + LR</th>\n      <th>50</th>\n      <td>0.486262</td>\n      <td>0.198384</td>\n      <td>0.472615</td>\n      <td>0.000355</td>\n    </tr>\n    <tr>\n      <th>RF + LR + GP</th>\n      <th>50</th>\n      <td>0.503325</td>\n      <td>0.136621</td>\n      <td>0.453537</td>\n      <td>0.000509</td>\n    </tr>\n  </tbody>\n</table>\n</div>"
     },
     "execution_count": 74,
     "metadata": {},
     "output_type": "execute_result"
    }
   ],
   "source": [
    "save_dir = f\"{data_dir}/exp_data_5/cancer/gdsc\"\n",
    "seeds = [422,261,968,282,739,573,220,413,745,775,482,442,210,423,760,57,769,920,226,196]\n",
    "# seeds = [422,261,968,282,739,573,220,413,745,775,482,442,210,423,760,57]\n",
    "res_dfs = []\n",
    "for seed in seeds[:10]:\n",
    "    df = pd.read_csv(f\"{save_dir}/results/model_comp_bnn_bg_rf_s_{seed}_v9b.csv\")\n",
    "    res_dfs.append(df)\n",
    "\n",
    "gp_bg_bnn_rf_df_9a = pd.concat(res_dfs, axis=0)\n",
    "gp_bg_bnn_rf_df_9a.groupby([\"model\", \"num_feats\"]).mean().iloc[:,1:]"
   ],
   "metadata": {
    "collapsed": false,
    "pycharm": {
     "name": "#%%\n"
    }
   }
  },
  {
   "cell_type": "code",
   "execution_count": 9,
   "outputs": [
    {
     "data": {
      "text/plain": "                         test_rmse_score  test_r2_score  test_pcc  \\\nmodel         num_feats                                             \nBNN + LR      10                0.537268       0.047827  0.268009   \n              20                0.537873       0.046022  0.312778   \n              30                0.545694       0.014559  0.314402   \n              40                0.548733       0.005249  0.325595   \n              50                0.562054      -0.041952  0.303852   \nBNN + LR + GP 10                0.596980      -0.262101  0.217735   \n              20                0.573259      -0.098103  0.275400   \n              30                0.566625      -0.070660  0.304064   \n              40                0.563732      -0.056073  0.311494   \n              50                0.574822      -0.094130  0.299497   \nRF + LR       10                0.494575       0.197003  0.458374   \n              20                0.493651       0.197615  0.465853   \n              30                0.488648       0.215022  0.480978   \n              40                0.492449       0.202834  0.474456   \n              50                0.494120       0.197730  0.473012   \nRF + LR + GP  10                0.544896      -0.109444  0.429179   \n              20                0.497218       0.185374  0.458679   \n              30                0.494995       0.194069  0.471333   \n              40                0.500833       0.174388  0.460211   \n              50                0.501782       0.171145  0.459229   \n\n                         test_pcc_pval  \nmodel         num_feats                 \nBNN + LR      10              0.119289  \n              20              0.027440  \n              30              0.031976  \n              40              0.036093  \n              50              0.043030  \nBNN + LR + GP 10              0.199679  \n              20              0.056152  \n              30              0.041436  \n              40              0.049129  \n              50              0.058287  \nRF + LR       10              0.000611  \n              20              0.001160  \n              30              0.000446  \n              40              0.000963  \n              50              0.001095  \nRF + LR + GP  10              0.037417  \n              20              0.001031  \n              30              0.000402  \n              40              0.001183  \n              50              0.001432  ",
      "text/html": "<div>\n<style scoped>\n    .dataframe tbody tr th:only-of-type {\n        vertical-align: middle;\n    }\n\n    .dataframe tbody tr th {\n        vertical-align: top;\n    }\n\n    .dataframe thead th {\n        text-align: right;\n    }\n</style>\n<table border=\"1\" class=\"dataframe\">\n  <thead>\n    <tr style=\"text-align: right;\">\n      <th></th>\n      <th></th>\n      <th>test_rmse_score</th>\n      <th>test_r2_score</th>\n      <th>test_pcc</th>\n      <th>test_pcc_pval</th>\n    </tr>\n    <tr>\n      <th>model</th>\n      <th>num_feats</th>\n      <th></th>\n      <th></th>\n      <th></th>\n      <th></th>\n    </tr>\n  </thead>\n  <tbody>\n    <tr>\n      <th rowspan=\"5\" valign=\"top\">BNN + LR</th>\n      <th>10</th>\n      <td>0.537268</td>\n      <td>0.047827</td>\n      <td>0.268009</td>\n      <td>0.119289</td>\n    </tr>\n    <tr>\n      <th>20</th>\n      <td>0.537873</td>\n      <td>0.046022</td>\n      <td>0.312778</td>\n      <td>0.027440</td>\n    </tr>\n    <tr>\n      <th>30</th>\n      <td>0.545694</td>\n      <td>0.014559</td>\n      <td>0.314402</td>\n      <td>0.031976</td>\n    </tr>\n    <tr>\n      <th>40</th>\n      <td>0.548733</td>\n      <td>0.005249</td>\n      <td>0.325595</td>\n      <td>0.036093</td>\n    </tr>\n    <tr>\n      <th>50</th>\n      <td>0.562054</td>\n      <td>-0.041952</td>\n      <td>0.303852</td>\n      <td>0.043030</td>\n    </tr>\n    <tr>\n      <th rowspan=\"5\" valign=\"top\">BNN + LR + GP</th>\n      <th>10</th>\n      <td>0.596980</td>\n      <td>-0.262101</td>\n      <td>0.217735</td>\n      <td>0.199679</td>\n    </tr>\n    <tr>\n      <th>20</th>\n      <td>0.573259</td>\n      <td>-0.098103</td>\n      <td>0.275400</td>\n      <td>0.056152</td>\n    </tr>\n    <tr>\n      <th>30</th>\n      <td>0.566625</td>\n      <td>-0.070660</td>\n      <td>0.304064</td>\n      <td>0.041436</td>\n    </tr>\n    <tr>\n      <th>40</th>\n      <td>0.563732</td>\n      <td>-0.056073</td>\n      <td>0.311494</td>\n      <td>0.049129</td>\n    </tr>\n    <tr>\n      <th>50</th>\n      <td>0.574822</td>\n      <td>-0.094130</td>\n      <td>0.299497</td>\n      <td>0.058287</td>\n    </tr>\n    <tr>\n      <th rowspan=\"5\" valign=\"top\">RF + LR</th>\n      <th>10</th>\n      <td>0.494575</td>\n      <td>0.197003</td>\n      <td>0.458374</td>\n      <td>0.000611</td>\n    </tr>\n    <tr>\n      <th>20</th>\n      <td>0.493651</td>\n      <td>0.197615</td>\n      <td>0.465853</td>\n      <td>0.001160</td>\n    </tr>\n    <tr>\n      <th>30</th>\n      <td>0.488648</td>\n      <td>0.215022</td>\n      <td>0.480978</td>\n      <td>0.000446</td>\n    </tr>\n    <tr>\n      <th>40</th>\n      <td>0.492449</td>\n      <td>0.202834</td>\n      <td>0.474456</td>\n      <td>0.000963</td>\n    </tr>\n    <tr>\n      <th>50</th>\n      <td>0.494120</td>\n      <td>0.197730</td>\n      <td>0.473012</td>\n      <td>0.001095</td>\n    </tr>\n    <tr>\n      <th rowspan=\"5\" valign=\"top\">RF + LR + GP</th>\n      <th>10</th>\n      <td>0.544896</td>\n      <td>-0.109444</td>\n      <td>0.429179</td>\n      <td>0.037417</td>\n    </tr>\n    <tr>\n      <th>20</th>\n      <td>0.497218</td>\n      <td>0.185374</td>\n      <td>0.458679</td>\n      <td>0.001031</td>\n    </tr>\n    <tr>\n      <th>30</th>\n      <td>0.494995</td>\n      <td>0.194069</td>\n      <td>0.471333</td>\n      <td>0.000402</td>\n    </tr>\n    <tr>\n      <th>40</th>\n      <td>0.500833</td>\n      <td>0.174388</td>\n      <td>0.460211</td>\n      <td>0.001183</td>\n    </tr>\n    <tr>\n      <th>50</th>\n      <td>0.501782</td>\n      <td>0.171145</td>\n      <td>0.459229</td>\n      <td>0.001432</td>\n    </tr>\n  </tbody>\n</table>\n</div>"
     },
     "execution_count": 9,
     "metadata": {},
     "output_type": "execute_result"
    }
   ],
   "source": [
    "save_dir = f\"{data_dir}/exp_data_5/cancer/gdsc\"\n",
    "seeds = [422,261,968,282,739,573,220,413,745,775,482,442,210,423,760,57,769,920,226,196]\n",
    "# seeds = [422,261,968,282,739,573,220,413,745,775,482,442,210,423,760,57]\n",
    "res_dfs = []\n",
    "for seed in curr_seeds:\n",
    "    df = pd.read_csv(f\"{save_dir}/results/model_comp_bnn_bg_rf_s_{seed}_v9a.csv\")\n",
    "    res_dfs.append(df)\n",
    "\n",
    "gp_bg_bnn_rf_df_9a = pd.concat(res_dfs, axis=0)\n",
    "gp_bg_bnn_rf_df_9a.groupby([\"model\", \"num_feats\"]).mean().iloc[:,1:]"
   ],
   "metadata": {
    "collapsed": false,
    "pycharm": {
     "name": "#%%\n"
    }
   }
  },
  {
   "cell_type": "code",
   "execution_count": null,
   "outputs": [],
   "source": [
    "gp_bg_bnn_rf_df_9a"
   ],
   "metadata": {
    "collapsed": false,
    "pycharm": {
     "name": "#%%\n"
    }
   }
  },
  {
   "cell_type": "code",
   "execution_count": 10,
   "outputs": [
    {
     "data": {
      "text/plain": "          test_rmse_score  test_r2_score\nmodel                                   \nBNN + BG         0.481284       0.238046\nRF               0.479711       0.245956",
      "text/html": "<div>\n<style scoped>\n    .dataframe tbody tr th:only-of-type {\n        vertical-align: middle;\n    }\n\n    .dataframe tbody tr th {\n        vertical-align: top;\n    }\n\n    .dataframe thead th {\n        text-align: right;\n    }\n</style>\n<table border=\"1\" class=\"dataframe\">\n  <thead>\n    <tr style=\"text-align: right;\">\n      <th></th>\n      <th>test_rmse_score</th>\n      <th>test_r2_score</th>\n    </tr>\n    <tr>\n      <th>model</th>\n      <th></th>\n      <th></th>\n    </tr>\n  </thead>\n  <tbody>\n    <tr>\n      <th>BNN + BG</th>\n      <td>0.481284</td>\n      <td>0.238046</td>\n    </tr>\n    <tr>\n      <th>RF</th>\n      <td>0.479711</td>\n      <td>0.245956</td>\n    </tr>\n  </tbody>\n</table>\n</div>"
     },
     "execution_count": 10,
     "metadata": {},
     "output_type": "execute_result"
    }
   ],
   "source": [
    "save_dir = f\"{data_dir}/exp_data_5/cancer/gdsc\"\n",
    "seeds = [422,261,968,282,739,573,220,413,745,775,482,442,210,423,760,57,769,920,226,196]\n",
    "# seeds = [422,261,968,282,739,573,220,413,745,775,482,442,210,423,760,57]\n",
    "res_dfs = []\n",
    "for seed in seeds:\n",
    "    df = pd.read_csv(f\"{save_dir}/results/bnn_bg_rf_s_{seed}_v5.csv\")\n",
    "    res_dfs.append(df)\n",
    "\n",
    "bnn_rf_df = pd.concat(res_dfs, axis=0)\n",
    "bnn_rf_df.groupby([\"model\"]).mean().iloc[:,1:]"
   ],
   "metadata": {
    "collapsed": false,
    "pycharm": {
     "name": "#%%\n"
    }
   }
  },
  {
   "cell_type": "code",
   "execution_count": 11,
   "outputs": [
    {
     "data": {
      "text/plain": "   seed     model  test_rmse_score  test_r2_score\n0   422        RF         0.407726       0.278194\n1   422  BNN + BG         0.442979       0.147982\n0   261        RF         0.478135       0.194252\n1   261  BNN + BG         0.479764       0.188752\n0   968        RF         0.495877       0.232576\n1   968  BNN + BG         0.503923       0.207468\n0   282        RF         0.513891       0.242852\n1   282  BNN + BG         0.507014       0.262980\n0   739        RF         0.431555       0.240847\n1   739  BNN + BG         0.481845       0.053607\n0   573        RF         0.486312       0.270578\n1   573  BNN + BG         0.476804       0.298822\n0   220        RF         0.435753       0.278702\n1   220  BNN + BG         0.440943       0.261417\n0   413        RF         0.450709       0.287558\n1   413  BNN + BG         0.440170       0.320488\n0   745        RF         0.559834       0.136251\n1   745  BNN + BG         0.557950       0.142057\n0   775        RF         0.489098       0.262239\n1   775  BNN + BG         0.484293       0.276666\n0   482        RF         0.443069       0.273397\n1   482  BNN + BG         0.440383       0.282177\n0   442        RF         0.505373       0.234671\n1   442  BNN + BG         0.520544       0.188031\n0   210        RF         0.452632       0.180289\n1   210  BNN + BG         0.450840       0.186768\n0   423        RF         0.428119       0.322094\n1   423  BNN + BG         0.424429       0.333730\n0   760        RF         0.542658       0.247267\n1   760  BNN + BG         0.574021       0.157743\n0    57        RF         0.435339       0.236654\n1    57  BNN + BG         0.435670       0.235491\n0   769        RF         0.522849       0.275037\n1   769  BNN + BG         0.500570       0.335506\n0   920        RF         0.475550       0.308512\n1   920  BNN + BG         0.459187       0.355277\n0   226        RF         0.550391       0.218335\n1   226  BNN + BG         0.539483       0.249011\n0   196        RF         0.489346       0.198808\n1   196  BNN + BG         0.464872       0.276947",
      "text/html": "<div>\n<style scoped>\n    .dataframe tbody tr th:only-of-type {\n        vertical-align: middle;\n    }\n\n    .dataframe tbody tr th {\n        vertical-align: top;\n    }\n\n    .dataframe thead th {\n        text-align: right;\n    }\n</style>\n<table border=\"1\" class=\"dataframe\">\n  <thead>\n    <tr style=\"text-align: right;\">\n      <th></th>\n      <th>seed</th>\n      <th>model</th>\n      <th>test_rmse_score</th>\n      <th>test_r2_score</th>\n    </tr>\n  </thead>\n  <tbody>\n    <tr>\n      <th>0</th>\n      <td>422</td>\n      <td>RF</td>\n      <td>0.407726</td>\n      <td>0.278194</td>\n    </tr>\n    <tr>\n      <th>1</th>\n      <td>422</td>\n      <td>BNN + BG</td>\n      <td>0.442979</td>\n      <td>0.147982</td>\n    </tr>\n    <tr>\n      <th>0</th>\n      <td>261</td>\n      <td>RF</td>\n      <td>0.478135</td>\n      <td>0.194252</td>\n    </tr>\n    <tr>\n      <th>1</th>\n      <td>261</td>\n      <td>BNN + BG</td>\n      <td>0.479764</td>\n      <td>0.188752</td>\n    </tr>\n    <tr>\n      <th>0</th>\n      <td>968</td>\n      <td>RF</td>\n      <td>0.495877</td>\n      <td>0.232576</td>\n    </tr>\n    <tr>\n      <th>1</th>\n      <td>968</td>\n      <td>BNN + BG</td>\n      <td>0.503923</td>\n      <td>0.207468</td>\n    </tr>\n    <tr>\n      <th>0</th>\n      <td>282</td>\n      <td>RF</td>\n      <td>0.513891</td>\n      <td>0.242852</td>\n    </tr>\n    <tr>\n      <th>1</th>\n      <td>282</td>\n      <td>BNN + BG</td>\n      <td>0.507014</td>\n      <td>0.262980</td>\n    </tr>\n    <tr>\n      <th>0</th>\n      <td>739</td>\n      <td>RF</td>\n      <td>0.431555</td>\n      <td>0.240847</td>\n    </tr>\n    <tr>\n      <th>1</th>\n      <td>739</td>\n      <td>BNN + BG</td>\n      <td>0.481845</td>\n      <td>0.053607</td>\n    </tr>\n    <tr>\n      <th>0</th>\n      <td>573</td>\n      <td>RF</td>\n      <td>0.486312</td>\n      <td>0.270578</td>\n    </tr>\n    <tr>\n      <th>1</th>\n      <td>573</td>\n      <td>BNN + BG</td>\n      <td>0.476804</td>\n      <td>0.298822</td>\n    </tr>\n    <tr>\n      <th>0</th>\n      <td>220</td>\n      <td>RF</td>\n      <td>0.435753</td>\n      <td>0.278702</td>\n    </tr>\n    <tr>\n      <th>1</th>\n      <td>220</td>\n      <td>BNN + BG</td>\n      <td>0.440943</td>\n      <td>0.261417</td>\n    </tr>\n    <tr>\n      <th>0</th>\n      <td>413</td>\n      <td>RF</td>\n      <td>0.450709</td>\n      <td>0.287558</td>\n    </tr>\n    <tr>\n      <th>1</th>\n      <td>413</td>\n      <td>BNN + BG</td>\n      <td>0.440170</td>\n      <td>0.320488</td>\n    </tr>\n    <tr>\n      <th>0</th>\n      <td>745</td>\n      <td>RF</td>\n      <td>0.559834</td>\n      <td>0.136251</td>\n    </tr>\n    <tr>\n      <th>1</th>\n      <td>745</td>\n      <td>BNN + BG</td>\n      <td>0.557950</td>\n      <td>0.142057</td>\n    </tr>\n    <tr>\n      <th>0</th>\n      <td>775</td>\n      <td>RF</td>\n      <td>0.489098</td>\n      <td>0.262239</td>\n    </tr>\n    <tr>\n      <th>1</th>\n      <td>775</td>\n      <td>BNN + BG</td>\n      <td>0.484293</td>\n      <td>0.276666</td>\n    </tr>\n    <tr>\n      <th>0</th>\n      <td>482</td>\n      <td>RF</td>\n      <td>0.443069</td>\n      <td>0.273397</td>\n    </tr>\n    <tr>\n      <th>1</th>\n      <td>482</td>\n      <td>BNN + BG</td>\n      <td>0.440383</td>\n      <td>0.282177</td>\n    </tr>\n    <tr>\n      <th>0</th>\n      <td>442</td>\n      <td>RF</td>\n      <td>0.505373</td>\n      <td>0.234671</td>\n    </tr>\n    <tr>\n      <th>1</th>\n      <td>442</td>\n      <td>BNN + BG</td>\n      <td>0.520544</td>\n      <td>0.188031</td>\n    </tr>\n    <tr>\n      <th>0</th>\n      <td>210</td>\n      <td>RF</td>\n      <td>0.452632</td>\n      <td>0.180289</td>\n    </tr>\n    <tr>\n      <th>1</th>\n      <td>210</td>\n      <td>BNN + BG</td>\n      <td>0.450840</td>\n      <td>0.186768</td>\n    </tr>\n    <tr>\n      <th>0</th>\n      <td>423</td>\n      <td>RF</td>\n      <td>0.428119</td>\n      <td>0.322094</td>\n    </tr>\n    <tr>\n      <th>1</th>\n      <td>423</td>\n      <td>BNN + BG</td>\n      <td>0.424429</td>\n      <td>0.333730</td>\n    </tr>\n    <tr>\n      <th>0</th>\n      <td>760</td>\n      <td>RF</td>\n      <td>0.542658</td>\n      <td>0.247267</td>\n    </tr>\n    <tr>\n      <th>1</th>\n      <td>760</td>\n      <td>BNN + BG</td>\n      <td>0.574021</td>\n      <td>0.157743</td>\n    </tr>\n    <tr>\n      <th>0</th>\n      <td>57</td>\n      <td>RF</td>\n      <td>0.435339</td>\n      <td>0.236654</td>\n    </tr>\n    <tr>\n      <th>1</th>\n      <td>57</td>\n      <td>BNN + BG</td>\n      <td>0.435670</td>\n      <td>0.235491</td>\n    </tr>\n    <tr>\n      <th>0</th>\n      <td>769</td>\n      <td>RF</td>\n      <td>0.522849</td>\n      <td>0.275037</td>\n    </tr>\n    <tr>\n      <th>1</th>\n      <td>769</td>\n      <td>BNN + BG</td>\n      <td>0.500570</td>\n      <td>0.335506</td>\n    </tr>\n    <tr>\n      <th>0</th>\n      <td>920</td>\n      <td>RF</td>\n      <td>0.475550</td>\n      <td>0.308512</td>\n    </tr>\n    <tr>\n      <th>1</th>\n      <td>920</td>\n      <td>BNN + BG</td>\n      <td>0.459187</td>\n      <td>0.355277</td>\n    </tr>\n    <tr>\n      <th>0</th>\n      <td>226</td>\n      <td>RF</td>\n      <td>0.550391</td>\n      <td>0.218335</td>\n    </tr>\n    <tr>\n      <th>1</th>\n      <td>226</td>\n      <td>BNN + BG</td>\n      <td>0.539483</td>\n      <td>0.249011</td>\n    </tr>\n    <tr>\n      <th>0</th>\n      <td>196</td>\n      <td>RF</td>\n      <td>0.489346</td>\n      <td>0.198808</td>\n    </tr>\n    <tr>\n      <th>1</th>\n      <td>196</td>\n      <td>BNN + BG</td>\n      <td>0.464872</td>\n      <td>0.276947</td>\n    </tr>\n  </tbody>\n</table>\n</div>"
     },
     "execution_count": 11,
     "metadata": {},
     "output_type": "execute_result"
    }
   ],
   "source": [
    "bnn_rf_df"
   ],
   "metadata": {
    "collapsed": false,
    "pycharm": {
     "name": "#%%\n"
    }
   }
  },
  {
   "cell_type": "code",
   "execution_count": 24,
   "outputs": [
    {
     "data": {
      "text/plain": "          test_rmse_score  test_r2_score\nmodel                                   \nBNN + BG         0.496011       0.189143\nRF               0.479711       0.245956",
      "text/html": "<div>\n<style scoped>\n    .dataframe tbody tr th:only-of-type {\n        vertical-align: middle;\n    }\n\n    .dataframe tbody tr th {\n        vertical-align: top;\n    }\n\n    .dataframe thead th {\n        text-align: right;\n    }\n</style>\n<table border=\"1\" class=\"dataframe\">\n  <thead>\n    <tr style=\"text-align: right;\">\n      <th></th>\n      <th>test_rmse_score</th>\n      <th>test_r2_score</th>\n    </tr>\n    <tr>\n      <th>model</th>\n      <th></th>\n      <th></th>\n    </tr>\n  </thead>\n  <tbody>\n    <tr>\n      <th>BNN + BG</th>\n      <td>0.496011</td>\n      <td>0.189143</td>\n    </tr>\n    <tr>\n      <th>RF</th>\n      <td>0.479711</td>\n      <td>0.245956</td>\n    </tr>\n  </tbody>\n</table>\n</div>"
     },
     "execution_count": 24,
     "metadata": {},
     "output_type": "execute_result"
    }
   ],
   "source": [
    "save_dir = f\"{data_dir}/exp_data_5/cancer/gdsc\"\n",
    "seeds = [422,261,968,282,739,573,220,413,745,775,482,442,210,423,760,57,769,920,226,196]\n",
    "res_dfs = []\n",
    "for seed in seeds:\n",
    "    df = pd.read_csv(f\"{save_dir}/results/bnn_bg_rf_s_{seed}_v3.csv\")\n",
    "    res_dfs.append(df)\n",
    "\n",
    "bnn_rf_df = pd.concat(res_dfs, axis=0)\n",
    "bnn_rf_df.groupby([\"model\"]).mean().iloc[:,1:]"
   ],
   "metadata": {
    "collapsed": false,
    "pycharm": {
     "name": "#%%\n"
    }
   }
  },
  {
   "cell_type": "code",
   "execution_count": 24,
   "metadata": {
    "collapsed": false,
    "pycharm": {
     "name": "#%%\n"
    }
   },
   "outputs": [
    {
     "data": {
      "text/plain": "                         test_rmse_score  test_r2_score  test_pcc  \\\nmodel         num_feats                                             \nBNN + LR      20                0.549379       0.003239  0.271716   \n              40                0.546482       0.013174  0.337297   \n              60                0.554629      -0.018310  0.335159   \nBNN + LR + GP 20                0.555483      -0.019855  0.263980   \n              40                0.550449      -0.001111  0.332696   \n              60                0.561666      -0.044314  0.326638   \nRF + LR       20                0.495686       0.191597  0.460010   \n              40                0.503463       0.165533  0.452178   \n              60                0.509864       0.141250  0.431336   \nRF + LR + GP  20                0.498977       0.180815  0.456942   \n              40                0.503225       0.165837  0.453768   \n              60                0.511880       0.133692  0.432519   \n\n                         test_pcc_pval  \nmodel         num_feats                 \nBNN + LR      20              0.103979  \n              40              0.019269  \n              60              0.026847  \nBNN + LR + GP 20              0.093821  \n              40              0.024275  \n              60              0.030761  \nRF + LR       20              0.000520  \n              40              0.000141  \n              60              0.000862  \nRF + LR + GP  20              0.000486  \n              40              0.000171  \n              60              0.000989  ",
      "text/html": "<div>\n<style scoped>\n    .dataframe tbody tr th:only-of-type {\n        vertical-align: middle;\n    }\n\n    .dataframe tbody tr th {\n        vertical-align: top;\n    }\n\n    .dataframe thead th {\n        text-align: right;\n    }\n</style>\n<table border=\"1\" class=\"dataframe\">\n  <thead>\n    <tr style=\"text-align: right;\">\n      <th></th>\n      <th></th>\n      <th>test_rmse_score</th>\n      <th>test_r2_score</th>\n      <th>test_pcc</th>\n      <th>test_pcc_pval</th>\n    </tr>\n    <tr>\n      <th>model</th>\n      <th>num_feats</th>\n      <th></th>\n      <th></th>\n      <th></th>\n      <th></th>\n    </tr>\n  </thead>\n  <tbody>\n    <tr>\n      <th rowspan=\"3\" valign=\"top\">BNN + LR</th>\n      <th>20</th>\n      <td>0.549379</td>\n      <td>0.003239</td>\n      <td>0.271716</td>\n      <td>0.103979</td>\n    </tr>\n    <tr>\n      <th>40</th>\n      <td>0.546482</td>\n      <td>0.013174</td>\n      <td>0.337297</td>\n      <td>0.019269</td>\n    </tr>\n    <tr>\n      <th>60</th>\n      <td>0.554629</td>\n      <td>-0.018310</td>\n      <td>0.335159</td>\n      <td>0.026847</td>\n    </tr>\n    <tr>\n      <th rowspan=\"3\" valign=\"top\">BNN + LR + GP</th>\n      <th>20</th>\n      <td>0.555483</td>\n      <td>-0.019855</td>\n      <td>0.263980</td>\n      <td>0.093821</td>\n    </tr>\n    <tr>\n      <th>40</th>\n      <td>0.550449</td>\n      <td>-0.001111</td>\n      <td>0.332696</td>\n      <td>0.024275</td>\n    </tr>\n    <tr>\n      <th>60</th>\n      <td>0.561666</td>\n      <td>-0.044314</td>\n      <td>0.326638</td>\n      <td>0.030761</td>\n    </tr>\n    <tr>\n      <th rowspan=\"3\" valign=\"top\">RF + LR</th>\n      <th>20</th>\n      <td>0.495686</td>\n      <td>0.191597</td>\n      <td>0.460010</td>\n      <td>0.000520</td>\n    </tr>\n    <tr>\n      <th>40</th>\n      <td>0.503463</td>\n      <td>0.165533</td>\n      <td>0.452178</td>\n      <td>0.000141</td>\n    </tr>\n    <tr>\n      <th>60</th>\n      <td>0.509864</td>\n      <td>0.141250</td>\n      <td>0.431336</td>\n      <td>0.000862</td>\n    </tr>\n    <tr>\n      <th rowspan=\"3\" valign=\"top\">RF + LR + GP</th>\n      <th>20</th>\n      <td>0.498977</td>\n      <td>0.180815</td>\n      <td>0.456942</td>\n      <td>0.000486</td>\n    </tr>\n    <tr>\n      <th>40</th>\n      <td>0.503225</td>\n      <td>0.165837</td>\n      <td>0.453768</td>\n      <td>0.000171</td>\n    </tr>\n    <tr>\n      <th>60</th>\n      <td>0.511880</td>\n      <td>0.133692</td>\n      <td>0.432519</td>\n      <td>0.000989</td>\n    </tr>\n  </tbody>\n</table>\n</div>"
     },
     "execution_count": 24,
     "metadata": {},
     "output_type": "execute_result"
    }
   ],
   "source": [
    "bnn_rf_gp_lsw = pd.read_csv(f\"{save_dir}/bnn_rf_gp_feature_sel_summary.csv\")\n",
    "bnn_rf_gp_lsw = bnn_rf_gp_lsw.drop_duplicates().drop(\"Unnamed: 0\", axis=1)\n",
    "bnn_rf_gp_lsw.groupby([\"model\", \"num_feats\"]).mean().iloc[:,1:]"
   ]
  },
  {
   "cell_type": "code",
   "execution_count": 57,
   "outputs": [
    {
     "data": {
      "text/plain": "                         test_rmse_score  test_r2_score  test_pcc  \\\nmodel         num_feats                                             \nBNN + LR      20                0.535148       0.059113  0.310668   \nBNN + LR + GP 20                0.553210      -0.009103  0.280440   \nRF + LR       20                0.495686       0.191597  0.460010   \nRF + LR + GP  20                0.499409       0.179732  0.457535   \n\n                         test_pcc_pval  \nmodel         num_feats                 \nBNN + LR      20              0.050418  \nBNN + LR + GP 20              0.094543  \nRF + LR       20              0.000520  \nRF + LR + GP  20              0.000252  ",
      "text/html": "<div>\n<style scoped>\n    .dataframe tbody tr th:only-of-type {\n        vertical-align: middle;\n    }\n\n    .dataframe tbody tr th {\n        vertical-align: top;\n    }\n\n    .dataframe thead th {\n        text-align: right;\n    }\n</style>\n<table border=\"1\" class=\"dataframe\">\n  <thead>\n    <tr style=\"text-align: right;\">\n      <th></th>\n      <th></th>\n      <th>test_rmse_score</th>\n      <th>test_r2_score</th>\n      <th>test_pcc</th>\n      <th>test_pcc_pval</th>\n    </tr>\n    <tr>\n      <th>model</th>\n      <th>num_feats</th>\n      <th></th>\n      <th></th>\n      <th></th>\n      <th></th>\n    </tr>\n  </thead>\n  <tbody>\n    <tr>\n      <th>BNN + LR</th>\n      <th>20</th>\n      <td>0.535148</td>\n      <td>0.059113</td>\n      <td>0.310668</td>\n      <td>0.050418</td>\n    </tr>\n    <tr>\n      <th>BNN + LR + GP</th>\n      <th>20</th>\n      <td>0.553210</td>\n      <td>-0.009103</td>\n      <td>0.280440</td>\n      <td>0.094543</td>\n    </tr>\n    <tr>\n      <th>RF + LR</th>\n      <th>20</th>\n      <td>0.495686</td>\n      <td>0.191597</td>\n      <td>0.460010</td>\n      <td>0.000520</td>\n    </tr>\n    <tr>\n      <th>RF + LR + GP</th>\n      <th>20</th>\n      <td>0.499409</td>\n      <td>0.179732</td>\n      <td>0.457535</td>\n      <td>0.000252</td>\n    </tr>\n  </tbody>\n</table>\n</div>"
     },
     "execution_count": 57,
     "metadata": {},
     "output_type": "execute_result"
    }
   ],
   "source": [
    "save_dir = f\"{data_dir}/exp_data_5/cancer/gdsc\"\n",
    "# seeds = [422,261,968,282,739,573,220,413,745,775,482,442,210,423,760,57,769,920,226,196]\n",
    "seeds = [422,261,968,282,739,573,220,413,745,775]\n",
    "res_dfs = []\n",
    "for seed in seeds:\n",
    "    /notebooks/exp_data_5/cancer/gdsc/bnn_rf_gp_df_dropout.csv\n",
    "    df = pd.read_csv(f\"{save_dir}/results/bnn_rf_gp_s_{seed}_v4.csv\")\n",
    "    res_dfs.append(df)\n",
    "\n",
    "bnn_rf_gp_df = pd.concat(res_dfs, axis=0)\n",
    "bnn_rf_gp_df.groupby([\"model\", \"num_feats\"]).mean().iloc[:,1:]"
   ],
   "metadata": {
    "collapsed": false,
    "pycharm": {
     "name": "#%%\n"
    }
   }
  },
  {
   "cell_type": "code",
   "execution_count": 58,
   "outputs": [
    {
     "data": {
      "text/plain": "    seed          model  num_feats  test_rmse_score  test_r2_score  test_pcc  \\\n0    422        RF + LR         20         0.445575       0.137967  0.441134   \n1    422   RF + LR + GP         20         0.440351       0.158062  0.437110   \n2    422       BNN + LR         20         0.446160       0.135702  0.378847   \n3    422  BNN + LR + GP         20         0.432252       0.188745  0.438863   \n0    261        RF + LR         20         0.515131       0.064735  0.299998   \n..   ...            ...        ...              ...            ...       ...   \n3    226  BNN + LR + GP         20         0.580038       0.131860  0.382773   \n0    196        RF + LR         20         0.497757       0.171029  0.438416   \n1    196   RF + LR + GP         20         0.497990       0.170254  0.439247   \n2    196       BNN + LR         20         0.535433       0.040789  0.296835   \n3    196  BNN + LR + GP         20         0.541201       0.020010  0.301244   \n\n    test_pcc_pval  \n0        0.000034  \n1        0.000040  \n2        0.000449  \n3        0.000037  \n0        0.006176  \n..            ...  \n3        0.000387  \n0        0.000038  \n1        0.000037  \n2        0.006769  \n3        0.005956  \n\n[80 rows x 7 columns]",
      "text/html": "<div>\n<style scoped>\n    .dataframe tbody tr th:only-of-type {\n        vertical-align: middle;\n    }\n\n    .dataframe tbody tr th {\n        vertical-align: top;\n    }\n\n    .dataframe thead th {\n        text-align: right;\n    }\n</style>\n<table border=\"1\" class=\"dataframe\">\n  <thead>\n    <tr style=\"text-align: right;\">\n      <th></th>\n      <th>seed</th>\n      <th>model</th>\n      <th>num_feats</th>\n      <th>test_rmse_score</th>\n      <th>test_r2_score</th>\n      <th>test_pcc</th>\n      <th>test_pcc_pval</th>\n    </tr>\n  </thead>\n  <tbody>\n    <tr>\n      <th>0</th>\n      <td>422</td>\n      <td>RF + LR</td>\n      <td>20</td>\n      <td>0.445575</td>\n      <td>0.137967</td>\n      <td>0.441134</td>\n      <td>0.000034</td>\n    </tr>\n    <tr>\n      <th>1</th>\n      <td>422</td>\n      <td>RF + LR + GP</td>\n      <td>20</td>\n      <td>0.440351</td>\n      <td>0.158062</td>\n      <td>0.437110</td>\n      <td>0.000040</td>\n    </tr>\n    <tr>\n      <th>2</th>\n      <td>422</td>\n      <td>BNN + LR</td>\n      <td>20</td>\n      <td>0.446160</td>\n      <td>0.135702</td>\n      <td>0.378847</td>\n      <td>0.000449</td>\n    </tr>\n    <tr>\n      <th>3</th>\n      <td>422</td>\n      <td>BNN + LR + GP</td>\n      <td>20</td>\n      <td>0.432252</td>\n      <td>0.188745</td>\n      <td>0.438863</td>\n      <td>0.000037</td>\n    </tr>\n    <tr>\n      <th>0</th>\n      <td>261</td>\n      <td>RF + LR</td>\n      <td>20</td>\n      <td>0.515131</td>\n      <td>0.064735</td>\n      <td>0.299998</td>\n      <td>0.006176</td>\n    </tr>\n    <tr>\n      <th>...</th>\n      <td>...</td>\n      <td>...</td>\n      <td>...</td>\n      <td>...</td>\n      <td>...</td>\n      <td>...</td>\n      <td>...</td>\n    </tr>\n    <tr>\n      <th>3</th>\n      <td>226</td>\n      <td>BNN + LR + GP</td>\n      <td>20</td>\n      <td>0.580038</td>\n      <td>0.131860</td>\n      <td>0.382773</td>\n      <td>0.000387</td>\n    </tr>\n    <tr>\n      <th>0</th>\n      <td>196</td>\n      <td>RF + LR</td>\n      <td>20</td>\n      <td>0.497757</td>\n      <td>0.171029</td>\n      <td>0.438416</td>\n      <td>0.000038</td>\n    </tr>\n    <tr>\n      <th>1</th>\n      <td>196</td>\n      <td>RF + LR + GP</td>\n      <td>20</td>\n      <td>0.497990</td>\n      <td>0.170254</td>\n      <td>0.439247</td>\n      <td>0.000037</td>\n    </tr>\n    <tr>\n      <th>2</th>\n      <td>196</td>\n      <td>BNN + LR</td>\n      <td>20</td>\n      <td>0.535433</td>\n      <td>0.040789</td>\n      <td>0.296835</td>\n      <td>0.006769</td>\n    </tr>\n    <tr>\n      <th>3</th>\n      <td>196</td>\n      <td>BNN + LR + GP</td>\n      <td>20</td>\n      <td>0.541201</td>\n      <td>0.020010</td>\n      <td>0.301244</td>\n      <td>0.005956</td>\n    </tr>\n  </tbody>\n</table>\n<p>80 rows × 7 columns</p>\n</div>"
     },
     "execution_count": 58,
     "metadata": {},
     "output_type": "execute_result"
    }
   ],
   "source": [
    "bnn_rf_gp_df"
   ],
   "metadata": {
    "collapsed": false,
    "pycharm": {
     "name": "#%%\n"
    }
   }
  },
  {
   "cell_type": "code",
   "execution_count": 4,
   "outputs": [
    {
     "data": {
      "text/plain": "                seed  test_rmse_score  test_r2_score  test_pcc  test_pcc_pval\nmodel                                                                        \nBNN + LR       539.8         0.588019      -0.173377  0.255526       0.073057\nBNN + LR + GP  539.8         0.592641      -0.191702  0.252452       0.086305\nRF + LR        539.8         0.512898       0.109117  0.407862       0.000725\nRF + LR + GP   539.8         0.516063       0.097912  0.406975       0.000834",
      "text/html": "<div>\n<style scoped>\n    .dataframe tbody tr th:only-of-type {\n        vertical-align: middle;\n    }\n\n    .dataframe tbody tr th {\n        vertical-align: top;\n    }\n\n    .dataframe thead th {\n        text-align: right;\n    }\n</style>\n<table border=\"1\" class=\"dataframe\">\n  <thead>\n    <tr style=\"text-align: right;\">\n      <th></th>\n      <th>seed</th>\n      <th>test_rmse_score</th>\n      <th>test_r2_score</th>\n      <th>test_pcc</th>\n      <th>test_pcc_pval</th>\n    </tr>\n    <tr>\n      <th>model</th>\n      <th></th>\n      <th></th>\n      <th></th>\n      <th></th>\n      <th></th>\n    </tr>\n  </thead>\n  <tbody>\n    <tr>\n      <th>BNN + LR</th>\n      <td>539.8</td>\n      <td>0.588019</td>\n      <td>-0.173377</td>\n      <td>0.255526</td>\n      <td>0.073057</td>\n    </tr>\n    <tr>\n      <th>BNN + LR + GP</th>\n      <td>539.8</td>\n      <td>0.592641</td>\n      <td>-0.191702</td>\n      <td>0.252452</td>\n      <td>0.086305</td>\n    </tr>\n    <tr>\n      <th>RF + LR</th>\n      <td>539.8</td>\n      <td>0.512898</td>\n      <td>0.109117</td>\n      <td>0.407862</td>\n      <td>0.000725</td>\n    </tr>\n    <tr>\n      <th>RF + LR + GP</th>\n      <td>539.8</td>\n      <td>0.516063</td>\n      <td>0.097912</td>\n      <td>0.406975</td>\n      <td>0.000834</td>\n    </tr>\n  </tbody>\n</table>\n</div>"
     },
     "execution_count": 4,
     "metadata": {},
     "output_type": "execute_result"
    }
   ],
   "source": [
    "import pandas as pd\n",
    "save_dir = f\"{data_dir}/exp_data_5/cancer/gdsc\"\n",
    "df = pd.read_csv(f\"{save_dir}/bnn_rf_gp_df_dropout.csv\")\n",
    "df.groupby([\"model\"]).mean()"
   ],
   "metadata": {
    "collapsed": false,
    "pycharm": {
     "name": "#%%\n"
    }
   }
  },
  {
   "cell_type": "code",
   "execution_count": null,
   "outputs": [],
   "source": [],
   "metadata": {
    "collapsed": false,
    "pycharm": {
     "name": "#%%\n"
    }
   }
  }
 ],
 "metadata": {
  "kernelspec": {
   "display_name": "Python 3 (ipykernel)",
   "language": "python",
   "name": "python3"
  },
  "language_info": {
   "codemirror_mode": {
    "name": "ipython",
    "version": 3
   },
   "file_extension": ".py",
   "mimetype": "text/x-python",
   "name": "python",
   "nbconvert_exporter": "python",
   "pygments_lexer": "ipython3",
   "version": "3.8.10 (default, Mar 15 2022, 12:22:08) \n[GCC 9.4.0]"
  },
  "orig_nbformat": 4,
  "vscode": {
   "interpreter": {
    "hash": "916dbcbb3f70747c44a77c7bcd40155683ae19c65e1c03b4aa3499c5328201f1"
   }
  }
 },
 "nbformat": 4,
 "nbformat_minor": 2
}