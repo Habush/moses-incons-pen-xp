{
 "cells": [
  {
   "cell_type": "code",
   "execution_count": 1,
   "outputs": [
    {
     "name": "stdout",
     "output_type": "stream",
     "text": [
      "/home/xabush/code/snet/moses-incons-pen-xp\n"
     ]
    }
   ],
   "source": [
    "%cd /home/xabush/code/snet/moses-incons-pen-xp\n",
    "import haiku as hk\n",
    "import jax\n",
    "import jax.numpy as jnp\n",
    "import numpy as np\n",
    "import matplotlib.pyplot as plt\n",
    "from sklearn.datasets import make_moons\n",
    "import blackjax\n",
    "import tensorflow_probability.substrates.jax as tfp\n",
    "tfd = tfp.distributions\n",
    "from functools import partial\n",
    "import pandas as pd\n",
    "from sklearn.metrics import roc_auc_score\n",
    "from sklearn.model_selection import train_test_split\n",
    "from imblearn.under_sampling import RandomUnderSampler"
   ],
   "metadata": {
    "collapsed": false,
    "pycharm": {
     "name": "#%%\n"
    }
   }
  },
  {
   "cell_type": "code",
   "execution_count": 2,
   "outputs": [],
   "source": [
    "import os\n",
    "\n",
    "def assign_cols(X, append_y=True):\n",
    "    X_copy = X.copy()\n",
    "    cols = []\n",
    "    if append_y:\n",
    "        for i in range(X_copy.shape[1] - 1):\n",
    "            cols.append(f\"f{i + 1}\")\n",
    "\n",
    "        cols.append(\"y\")\n",
    "    else:\n",
    "        for i in range(X_copy.shape[1]):\n",
    "            cols.append(f\"f{i + 1}\")\n",
    "    X_copy.columns = cols\n",
    "\n",
    "    return X_copy\n",
    "\n",
    "def load_bmm_files(parent_dir):\n",
    "    net_dir = os.path.join(parent_dir, \"net\")\n",
    "    feat_dir = os.path.join(parent_dir, \"feats\")\n",
    "    data_dir = os.path.join(parent_dir, \"data\")\n",
    "\n",
    "    net_dfs = []\n",
    "    data_dfs = []\n",
    "    feat_ls = []\n",
    "\n",
    "    with open(os.path.join(parent_dir, \"rand_seeds.txt\"), \"r\") as fp:\n",
    "        seed_str = fp.readline().strip()\n",
    "\n",
    "    seeds = [int(s) for s in seed_str.split(',')]\n",
    "\n",
    "    for s in seeds:\n",
    "        data_df = pd.read_csv(os.path.join(data_dir, f\"data_bm_{s}.csv\"), header=None)\n",
    "        net_df = pd.read_csv(os.path.join(net_dir, f\"feat_net_{s}.csv\"), header=None)\n",
    "        with open(os.path.join(feat_dir, f\"feats_{s}.txt\"), \"r\") as fp:\n",
    "            feats_str = fp.readline().strip()\n",
    "\n",
    "        feats = [int(f) for f in feats_str.split(',')]\n",
    "\n",
    "        data_df = assign_cols(data_df)\n",
    "\n",
    "        data_dfs.append(data_df)\n",
    "        net_dfs.append(net_df)\n",
    "        feat_ls.append(feats)\n",
    "\n",
    "\n",
    "    return seeds, data_dfs, net_dfs, feat_ls\n",
    "\n",
    "def build_network(X):\n",
    "    p = X.shape[1]\n",
    "    J = np.zeros((p, p))\n",
    "    cols = X.columns\n",
    "    intrs = []\n",
    "    intrs_rev = []\n",
    "    for i, g1 in enumerate(cols):\n",
    "        try:\n",
    "            g_intrs = list(net_intr[g1])\n",
    "            for g2 in g_intrs:\n",
    "                if (g2, g1) not in intrs_rev: # check if we haven't encountered the reverse interaction\n",
    "                    j = cols.get_loc(g2)\n",
    "                    J[i, j] = 1.0\n",
    "                    J[j, i] = 1.0\n",
    "                    intrs.append((g1, g2))\n",
    "        except KeyError:\n",
    "            continue\n",
    "\n",
    "        # Check the reverse direction\n",
    "        try:\n",
    "            g_intrs_rev = list(net_intr_rev[g1])\n",
    "            for g2 in g_intrs_rev:\n",
    "                if (g1, g2) not in intrs:\n",
    "                    j = cols.get_loc(g2)\n",
    "                    J[i, j] = 1.0\n",
    "                    J[j, i] = 1.0\n",
    "                    intrs_rev.append((g2, g1))\n",
    "\n",
    "        except KeyError:\n",
    "            continue\n",
    "\n",
    "\n",
    "    return J\n",
    "\n",
    "def get_ess(n_chain, samples):\n",
    "    k = int(samples.shape[0] / n_chain)\n",
    "    chains = samples.reshape(n_chain, k, samples.shape[-1])\n",
    "    ess = npyro.diagnostics.effective_sample_size(jax.device_get(chains))\n",
    "    ess[np.isnan(ess)] = 1.0\n",
    "    return ess\n",
    "\n",
    "def prepare_data(seed_idx, data, nets):\n",
    "    seed = seeds[seed_idx]\n",
    "    X, y = data[seed_idx].iloc[:,:-1].to_numpy(), data[seed_idx].iloc[:,-1].to_numpy()\n",
    "    X_train, X_test, y_train, y_test = train_test_split(X, y, random_state=seed, shuffle=True, stratify=y)\n",
    "    net = nets[seed_idx].to_numpy()\n",
    "    return seed, net, (X_train, X_test, y_train, y_test)\n",
    "\n",
    "def recall(y_true, y_pred):\n",
    "    true_positives = jnp.sum(jnp.round(jnp.clip(y_true * y_pred, 0, 1)))\n",
    "    possible_positives = jnp.sum(jnp.round(jnp.clip(y_true, 0, 1)))\n",
    "    return (true_positives / (possible_positives + 1e-12))\n",
    "\n",
    "def precision(y_true, y_pred):\n",
    "    true_positives = jnp.sum(jnp.round(jnp.clip(y_true * y_pred, 0, 1)))\n",
    "    predicted_positives = jnp.sum(jnp.round(jnp.clip(y_pred, 0, 1)))\n",
    "    return (true_positives / (predicted_positives + 1e-12))\n",
    "\n",
    "def f1_score(y_true, y_pred):\n",
    "    rec = recall(y_true, y_pred)\n",
    "    prec = precision(y_true, y_pred)\n",
    "    return 2*((prec*rec) / (prec + rec + 1e-12))"
   ],
   "metadata": {
    "collapsed": false,
    "pycharm": {
     "name": "#%%\n"
    }
   }
  },
  {
   "cell_type": "code",
   "execution_count": 3,
   "outputs": [
    {
     "data": {
      "text/plain": "   posOutcome  4111  4110  10661  131  4438  330  1109  2637  2642  ...  7634  \\\n0           0     0     0      0    1     0    1     1     1     1  ...     0   \n1           1     1     0      0    0     0    0     1     0     1  ...     0   \n2           0     0     0      0    1     0    0     1     1     1  ...     0   \n3           0     0     0      0    0     0    0     1     1     1  ...     0   \n4           1     0     0      0    0     0    1     1     1     1  ...     0   \n\n   55769  7637  7644  741  54993  79364  7791  23140  26009  \n0      0     0     1    1      0      0     1      0      0  \n1      0     0     1    1      0      0     1      0      1  \n2      0     0     1    1      0      0     1      0      0  \n3      0     0     1    0      0      0     1      0      0  \n4      0     0     1    1      0      0     1      0      0  \n\n[5 rows x 8414 columns]",
      "text/html": "<div>\n<style scoped>\n    .dataframe tbody tr th:only-of-type {\n        vertical-align: middle;\n    }\n\n    .dataframe tbody tr th {\n        vertical-align: top;\n    }\n\n    .dataframe thead th {\n        text-align: right;\n    }\n</style>\n<table border=\"1\" class=\"dataframe\">\n  <thead>\n    <tr style=\"text-align: right;\">\n      <th></th>\n      <th>posOutcome</th>\n      <th>4111</th>\n      <th>4110</th>\n      <th>10661</th>\n      <th>131</th>\n      <th>4438</th>\n      <th>330</th>\n      <th>1109</th>\n      <th>2637</th>\n      <th>2642</th>\n      <th>...</th>\n      <th>7634</th>\n      <th>55769</th>\n      <th>7637</th>\n      <th>7644</th>\n      <th>741</th>\n      <th>54993</th>\n      <th>79364</th>\n      <th>7791</th>\n      <th>23140</th>\n      <th>26009</th>\n    </tr>\n  </thead>\n  <tbody>\n    <tr>\n      <th>0</th>\n      <td>0</td>\n      <td>0</td>\n      <td>0</td>\n      <td>0</td>\n      <td>1</td>\n      <td>0</td>\n      <td>1</td>\n      <td>1</td>\n      <td>1</td>\n      <td>1</td>\n      <td>...</td>\n      <td>0</td>\n      <td>0</td>\n      <td>0</td>\n      <td>1</td>\n      <td>1</td>\n      <td>0</td>\n      <td>0</td>\n      <td>1</td>\n      <td>0</td>\n      <td>0</td>\n    </tr>\n    <tr>\n      <th>1</th>\n      <td>1</td>\n      <td>1</td>\n      <td>0</td>\n      <td>0</td>\n      <td>0</td>\n      <td>0</td>\n      <td>0</td>\n      <td>1</td>\n      <td>0</td>\n      <td>1</td>\n      <td>...</td>\n      <td>0</td>\n      <td>0</td>\n      <td>0</td>\n      <td>1</td>\n      <td>1</td>\n      <td>0</td>\n      <td>0</td>\n      <td>1</td>\n      <td>0</td>\n      <td>1</td>\n    </tr>\n    <tr>\n      <th>2</th>\n      <td>0</td>\n      <td>0</td>\n      <td>0</td>\n      <td>0</td>\n      <td>1</td>\n      <td>0</td>\n      <td>0</td>\n      <td>1</td>\n      <td>1</td>\n      <td>1</td>\n      <td>...</td>\n      <td>0</td>\n      <td>0</td>\n      <td>0</td>\n      <td>1</td>\n      <td>1</td>\n      <td>0</td>\n      <td>0</td>\n      <td>1</td>\n      <td>0</td>\n      <td>0</td>\n    </tr>\n    <tr>\n      <th>3</th>\n      <td>0</td>\n      <td>0</td>\n      <td>0</td>\n      <td>0</td>\n      <td>0</td>\n      <td>0</td>\n      <td>0</td>\n      <td>1</td>\n      <td>1</td>\n      <td>1</td>\n      <td>...</td>\n      <td>0</td>\n      <td>0</td>\n      <td>0</td>\n      <td>1</td>\n      <td>0</td>\n      <td>0</td>\n      <td>0</td>\n      <td>1</td>\n      <td>0</td>\n      <td>0</td>\n    </tr>\n    <tr>\n      <th>4</th>\n      <td>1</td>\n      <td>0</td>\n      <td>0</td>\n      <td>0</td>\n      <td>0</td>\n      <td>0</td>\n      <td>1</td>\n      <td>1</td>\n      <td>1</td>\n      <td>1</td>\n      <td>...</td>\n      <td>0</td>\n      <td>0</td>\n      <td>0</td>\n      <td>1</td>\n      <td>1</td>\n      <td>0</td>\n      <td>0</td>\n      <td>1</td>\n      <td>0</td>\n      <td>0</td>\n    </tr>\n  </tbody>\n</table>\n<p>5 rows × 8414 columns</p>\n</div>"
     },
     "execution_count": 3,
     "metadata": {},
     "output_type": "execute_result"
    }
   ],
   "source": [
    "data_dir = \"/home/xabush/code/snet/moses-incons-pen-xp/data\"\n",
    "# data_dir = \".\"\n",
    "tamox_df = pd.read_csv(f\"{data_dir}/tamoxBinaryEntrez.csv\")\n",
    "tamox_df.head()"
   ],
   "metadata": {
    "collapsed": false,
    "pycharm": {
     "name": "#%%\n"
    }
   }
  },
  {
   "cell_type": "code",
   "execution_count": 4,
   "outputs": [
    {
     "name": "stdout",
     "output_type": "stream",
     "text": [
      "Total interactions: 372774\n"
     ]
    },
    {
     "name": "stderr",
     "output_type": "stream",
     "text": [
      "/tmp/ipykernel_15316/3470585798.py:1: DtypeWarning: Columns (1,3) have mixed types. Specify dtype option on import or set low_memory=False.\n",
      "  regnet_df = pd.read_table(f\"{data_dir}/human.source\", sep=\"\\t\", header=None, names= [\"REGULATOR SYMBOL\", \"REGULATOR ID\", \"TARGET SYMBOL\", \"TARGET ID\"])\n"
     ]
    },
    {
     "data": {
      "text/plain": "  REGULATOR SYMBOL REGULATOR ID TARGET SYMBOL TARGET ID\n0             USF1         7391        S100A6      6277\n1             USF1         7391         DUSP1      1843\n2             USF1         7391           C4A       720\n3             USF1         7391         ABCA1        19\n4             TP53         7157          TP73      7161",
      "text/html": "<div>\n<style scoped>\n    .dataframe tbody tr th:only-of-type {\n        vertical-align: middle;\n    }\n\n    .dataframe tbody tr th {\n        vertical-align: top;\n    }\n\n    .dataframe thead th {\n        text-align: right;\n    }\n</style>\n<table border=\"1\" class=\"dataframe\">\n  <thead>\n    <tr style=\"text-align: right;\">\n      <th></th>\n      <th>REGULATOR SYMBOL</th>\n      <th>REGULATOR ID</th>\n      <th>TARGET SYMBOL</th>\n      <th>TARGET ID</th>\n    </tr>\n  </thead>\n  <tbody>\n    <tr>\n      <th>0</th>\n      <td>USF1</td>\n      <td>7391</td>\n      <td>S100A6</td>\n      <td>6277</td>\n    </tr>\n    <tr>\n      <th>1</th>\n      <td>USF1</td>\n      <td>7391</td>\n      <td>DUSP1</td>\n      <td>1843</td>\n    </tr>\n    <tr>\n      <th>2</th>\n      <td>USF1</td>\n      <td>7391</td>\n      <td>C4A</td>\n      <td>720</td>\n    </tr>\n    <tr>\n      <th>3</th>\n      <td>USF1</td>\n      <td>7391</td>\n      <td>ABCA1</td>\n      <td>19</td>\n    </tr>\n    <tr>\n      <th>4</th>\n      <td>TP53</td>\n      <td>7157</td>\n      <td>TP73</td>\n      <td>7161</td>\n    </tr>\n  </tbody>\n</table>\n</div>"
     },
     "execution_count": 4,
     "metadata": {},
     "output_type": "execute_result"
    }
   ],
   "source": [
    "regnet_df = pd.read_table(f\"{data_dir}/human.source\", sep=\"\\t\", header=None, names= [\"REGULATOR SYMBOL\", \"REGULATOR ID\", \"TARGET SYMBOL\", \"TARGET ID\"])\n",
    "print(f\"Total interactions: {regnet_df.shape[0]}\")\n",
    "regnet_df.head()"
   ],
   "metadata": {
    "collapsed": false,
    "pycharm": {
     "name": "#%%\n"
    }
   }
  },
  {
   "cell_type": "code",
   "execution_count": 5,
   "outputs": [
    {
     "data": {
      "text/plain": "1    471\n0    171\nName: posOutcome, dtype: int64"
     },
     "execution_count": 5,
     "metadata": {},
     "output_type": "execute_result"
    }
   ],
   "source": [
    "tamox_df[\"posOutcome\"].value_counts()"
   ],
   "metadata": {
    "collapsed": false,
    "pycharm": {
     "name": "#%%\n"
    }
   }
  },
  {
   "cell_type": "code",
   "execution_count": 6,
   "outputs": [],
   "source": [
    "net_intr = pd.Series(regnet_df[\"REGULATOR ID\"].values, index=regnet_df[\"TARGET ID\"])\n",
    "net_intr_rev = pd.Series(regnet_df[\"TARGET ID\"].values, index=regnet_df[\"REGULATOR ID\"])\n",
    "X_df, y_df = tamox_df.iloc[:, 1:], tamox_df[\"posOutcome\"]"
   ],
   "metadata": {
    "collapsed": false,
    "pycharm": {
     "name": "#%%\n"
    }
   }
  },
  {
   "cell_type": "code",
   "execution_count": 7,
   "outputs": [
    {
     "name": "stdout",
     "output_type": "stream",
     "text": [
      "dim: 1512\n"
     ]
    }
   ],
   "source": [
    "seed = 644\n",
    "rng_key = jax.random.PRNGKey(seed)\n",
    "X_train, X_test, y_train, y_test = train_test_split(X_df, y_df, shuffle=True, random_state=seed,\n",
    "                                                    stratify=y_df, test_size=0.3)\n",
    "\n",
    "\n",
    "idx_sig = np.load(f\"{data_dir}/exp_data_2/npy/idx_sig_s_{seed}.npy\")\n",
    "X_train, X_test = X_train.iloc[:,idx_sig], X_test.iloc[:,idx_sig]\n",
    "J = build_network(X_train)\n",
    "\n",
    "X_train, X_test = X_train.to_numpy(), X_test.to_numpy()\n",
    "y_train, y_test = y_train.to_numpy(), y_test.to_numpy()\n",
    "X_train, X_val, y_train, y_val = train_test_split(X_train, y_train, shuffle=True, random_state=seed,\n",
    "                                                    stratify=y_train, test_size=0.3)\n",
    "\n",
    "n, p = X_train.shape\n",
    "print(f\"dim: {p}\")"
   ],
   "metadata": {
    "collapsed": false,
    "pycharm": {
     "name": "#%%\n"
    }
   }
  },
  {
   "cell_type": "code",
   "execution_count": 8,
   "outputs": [],
   "source": [
    "X_train, X_val, y_train, y_val = jax.device_put(X_train), jax.device_put(X_val), jax.device_put(y_train), \\\n",
    "                                 jax.device_put(y_val)\n",
    "\n",
    "X_test, y_test = jax.device_put(X_test), jax.device_put(y_test)"
   ],
   "metadata": {
    "collapsed": false,
    "pycharm": {
     "name": "#%%\n"
    }
   }
  },
  {
   "cell_type": "code",
   "execution_count": 9,
   "outputs": [],
   "source": [
    "key_samples, key_init, key_warmup, key = jax.random.split(rng_key, 4)"
   ],
   "metadata": {
    "collapsed": false,
    "pycharm": {
     "name": "#%%\n"
    }
   }
  },
  {
   "cell_type": "code",
   "execution_count": 10,
   "outputs": [],
   "source": [
    "class BNN(hk.Module):\n",
    "    def __init__(self, output_size, feat_size, name=None):\n",
    "        super().__init__(name)\n",
    "        self.output_size = output_size\n",
    "        self.p = feat_size\n",
    "    def __call__(self, x, gamma):\n",
    "        w_init = hk.initializers.TruncatedNormal(1./np.sqrt(p))\n",
    "        w1 = hk.get_parameter(\"w1\", shape=[self.p, self.p], dtype=x.dtype, init=w_init)\n",
    "        w2 = hk.get_parameter(\"w2\", shape=[self.p, 500], dtype=x.dtype, init=w_init)\n",
    "        w3 = hk.get_parameter(\"w3\", shape=[500, 200], dtype=x.dtype, init=w_init)\n",
    "        w4 = hk.get_parameter(\"w4\", shape=[200, 1], dtype=x.dtype, init=w_init)\n",
    "        b1 = hk.get_parameter(\"b1\", shape=[self.p], dtype=x.dtype, init=jnp.ones)\n",
    "        b2 = hk.get_parameter(\"b2\", shape=[500], dtype=x.dtype, init=jnp.ones)\n",
    "        b3 = hk.get_parameter(\"b3\", shape=[200], dtype=x.dtype, init=jnp.ones)\n",
    "        b4 = hk.get_parameter(\"b4\", shape=[1], dtype=x.dtype, init=jnp.ones)\n",
    "\n",
    "        x = jnp.dot(x, jnp.diag(gamma))\n",
    "        x = jnp.dot(x, w1) + b1\n",
    "        x = jax.nn.silu(x)\n",
    "        x = jnp.dot(x, w2) + b2\n",
    "        x = jax.nn.silu(x)\n",
    "        x = jnp.dot(x, w3) + b3\n",
    "        x = jax.nn.silu(x)\n",
    "        x = jnp.dot(x, w4) + b4\n",
    "        return x\n",
    "\n",
    "class BMM(hk.Module):\n",
    "    def __init__(self, key, rate, name=None):\n",
    "        super().__init__(name)\n",
    "        self.key = key\n",
    "        self.rate = rate\n",
    "\n",
    "    def __call__(self, x):\n",
    "        x = hk.Linear(100)(x)\n",
    "        # x = hk.dropout(self.key, self.rate, x)\n",
    "        x = jax.nn.relu(x)\n",
    "\n",
    "        x = hk.Linear(100)(x)\n",
    "        # x = hk.dropout(self.key, self.rate, x)\n",
    "        x = jax.nn.relu(x)\n",
    "\n",
    "        x = hk.Linear(100)(x)\n",
    "        x = jax.nn.relu(x)\n",
    "\n",
    "        x = hk.Linear(1)(x)\n",
    "\n",
    "        return x\n",
    "\n",
    "\n",
    "def model_prediction(model, params, x, gamma):\n",
    "    logits = model.apply(params, x, gamma).ravel()\n",
    "    return (logits > 0).astype(jnp.float32)\n",
    "\n",
    "def net_fn(x, gamma):\n",
    "    \"\"\"Defines a 3-layer MLP with hidden sizes of [300, 300, 100]\"\"\"\n",
    "    # model = hk.Sequential([\n",
    "    #     hk.Linear(p, name=\"L1\"), jax.nn.relu, # Feature layer\n",
    "    #     hk.Linear(300, name=\"L2\"), jax.nn.relu,\n",
    "    #     # hk.Linear(300), jax.nn.relu,\n",
    "    #     hk.Linear(100, name=\"L3\"), jax.nn.relu,\n",
    "    #     hk.Linear(1, name=\"out\")\n",
    "    # ])\n",
    "    model = BNN(1, p, \"bnn\")\n",
    "    return model(x, gamma)"
   ],
   "metadata": {
    "collapsed": false,
    "pycharm": {
     "name": "#%%\n"
    }
   }
  },
  {
   "cell_type": "code",
   "execution_count": 24,
   "outputs": [],
   "source": [
    "\n",
    "def inference_loop(rng_key, model, kernel, initial_state, X_val, X_test,\n",
    "                   y_val, y_test, num_samples):\n",
    "    @jax.jit\n",
    "    def inner_step(state, rng_key):\n",
    "        state = kernel(rng_key, state)\n",
    "        return state, state\n",
    "\n",
    "    steps = 10\n",
    "\n",
    "    @jax.jit\n",
    "    def outer_step(state, key):\n",
    "        \"\"\"\n",
    "        outer step will store 10th sample & accuracy using that sample after each one complete iteration of inner step\n",
    "        \"\"\"\n",
    "\n",
    "        keys = jax.random.split(key, steps)\n",
    "        state, _ = jax.lax.scan(inner_step, state, keys)\n",
    "        gamma, params = state.discrete_position, state.contin_position\n",
    "        val_pred = model_prediction(model, params, X_val, gamma)\n",
    "        # val_acc = jnp.mean(val_pred == y_val)\n",
    "        val_f1 = f1_score(y_val, val_pred)\n",
    "        test_pred = model_prediction(model, params, X_test, gamma)\n",
    "        # test_acc = jnp.mean(test_pred == y_test)\n",
    "        test_f1 = f1_score(y_test, test_pred)\n",
    "\n",
    "        return state, (state, val_f1, test_f1)\n",
    "\n",
    "    n_steps = num_samples / steps\n",
    "    keys = jax.random.split(rng_key, n_steps)\n",
    "    final_state, (states, val_f1, test_f1) = jax.lax.scan(outer_step, initial_state, keys)\n",
    "    # _, states = jax.lax.scan(inner_step, initial_state, keys)\n",
    "    return final_state, states, val_f1, test_f1\n",
    "    # return states\n",
    "\n",
    "def inference_loop_multiple_chains(rng_key, kernel, initial_state, num_samples, num_chains):\n",
    "\n",
    "    @jax.jit\n",
    "    def one_step(state, step_key):\n",
    "        subkeys = jax.random.split(step_key, num_chains)\n",
    "        state = jax.vmap(kernel)(subkeys, state)\n",
    "        return state, state\n",
    "\n",
    "    keys = jax.random.split(rng_key, num_samples)\n",
    "    _, states = jax.lax.scan(one_step, initial_state, keys)\n",
    "\n",
    "    return states"
   ],
   "metadata": {
    "collapsed": false,
    "pycharm": {
     "name": "#%%\n"
    }
   }
  },
  {
   "cell_type": "code",
   "execution_count": 25,
   "outputs": [],
   "source": [
    "def gamma_energy(theta, J, eta, mu):\n",
    "    xg = theta.T @ J\n",
    "    xgx = xg @ theta\n",
    "    return eta*xgx - mu*jnp.sum(theta)\n",
    "\n",
    "# alpha, beta = 0.5, 10.0\n",
    "alpha = 1.\n",
    "\n",
    "def generate_disc_logprob_fn(model, X, y, J, mu, eta):\n",
    "\n",
    "    def discrete_logprob_fn(gamma, params):\n",
    "        logits = model.apply(params, x=X, gamma=gamma).ravel()\n",
    "        log_prior = gamma_energy(gamma, J, eta, mu)\n",
    "        # log_ll = jnp.sum(tfd.Bernoulli(logits=logits).log_prob(y), axis=0)\n",
    "        pos_logp = jax.nn.log_sigmoid(logits)\n",
    "        neg_logp = jax.nn.log_sigmoid(-logits)\n",
    "        log_ll = jnp.sum(y*pos_logp + alpha*(1 - y)*neg_logp)\n",
    "        # print(f\"gamma logp: {ising_logp}, log_ll: {log_ll}\")\n",
    "\n",
    "        return log_prior + log_ll\n",
    "\n",
    "    return discrete_logprob_fn\n",
    "\n",
    "\n",
    "def generate_contin_logprob_fn(model, X, y, tau, c):\n",
    "    def contin_logprob_fn(gamma, params):\n",
    "\n",
    "        flat_params, _ = jax.flatten_util.ravel_pytree(params)\n",
    "        log_prior = jnp.sum(tfd.Normal(0, tau*c).log_prob(flat_params))\n",
    "\n",
    "        logits = model.apply(params, X, gamma).ravel()\n",
    "        # log_ll = jnp.sum(tfd.Bernoulli(logits=logits).log_prob(y), axis=0)\n",
    "        pos_logp = jax.nn.log_sigmoid(logits)\n",
    "        neg_logp = jax.nn.log_sigmoid(-logits)\n",
    "        log_ll = jnp.sum(y*pos_logp + alpha*(1 - y)*neg_logp)\n",
    "\n",
    "        return log_prior + log_ll\n",
    "\n",
    "    return contin_logprob_fn"
   ],
   "metadata": {
    "collapsed": false,
    "pycharm": {
     "name": "#%%\n"
    }
   }
  },
  {
   "cell_type": "code",
   "execution_count": 26,
   "outputs": [],
   "source": [
    "def compute_model_accuracy(param, gamma, model, X, y):\n",
    "    logits = model.apply(param, X, gamma)\n",
    "    pred = (logits > 0).astype(jnp.float32)\n",
    "    acc = jnp.mean(pred == y)\n",
    "    return acc\n",
    "\n",
    "\n",
    "\n",
    "def posterior_prob_predict(model, gamma_samples, param_samples, X):\n",
    "    \"\"\"\n",
    "    code taken from https://github.com/probml/pyprobml/blob/master/notebooks/book2/19/bnn_mnist_sgld_blackjax.ipynb\n",
    "   net_model: neural net model for predictions\n",
    "   params_sample: params of neural net sampled using MCMC\n",
    "   X: data\n",
    "\n",
    "   how to calculate posterior preds?\n",
    "   .......\n",
    "   Let n_samples_of_params = 5\n",
    "   For given Xi:\n",
    "       model_predicted_labels = [2, 2, 2, 8, 0]\n",
    "       then,\n",
    "       pred_prob (x1) = freq of most repeated labels / n_samles = 3/5\n",
    "\n",
    "   returns\n",
    "   .......\n",
    "   posterior predictive probabilities of size len(X)\n",
    "   \"\"\"\n",
    "\n",
    "    NUM_CLS = 2\n",
    "\n",
    "    def calc_prob(i, pred_cls):\n",
    "        cls_cnt = jnp.bincount(pred_cls, length=NUM_CLS)\n",
    "        total = jnp.sum(cls_cnt)\n",
    "        prob_c_0 = cls_cnt[0] / total\n",
    "        prob_c_1 = cls_cnt[1] / total\n",
    "\n",
    "        return i+1, jnp.array([prob_c_0, prob_c_1])\n",
    "\n",
    "\n",
    "    # predictive probabilities of X for each param\n",
    "    predicted_class = jax.vmap(model.apply, in_axes=(0, None, 0))(param_samples, X, gamma_samples).squeeze()\n",
    "\n",
    "    predicted_class = predicted_class.astype(jnp.int32).T\n",
    "    # posterior predictive probability using histogram\n",
    "    _, posterior_pred_probs = jax.lax.scan(calc_prob, 0, predicted_class)\n",
    "\n",
    "    return posterior_pred_probs\n",
    "\n",
    "\n",
    "\n",
    "def get_accuracy_vs_percentage_certainity(X, y, posterior_pred_probs, model, params_samples, gamma_samples):\n",
    "    thresholds = jnp.arange(0, 1.1, 0.1)\n",
    "    pcts = []\n",
    "    accs = []\n",
    "    for thr in thresholds:\n",
    "        certain_mask = posterior_pred_probs >= thr\n",
    "\n",
    "        # accuracy\n",
    "        if certain_mask.sum() == 0:\n",
    "            acc_sample = 1\n",
    "\n",
    "        else:\n",
    "            acc_sample = jax.vmap(compute_model_accuracy, in_axes=(0, 0, None, None, None))(\n",
    "                params_samples, gamma_samples, model, X[certain_mask], y[certain_mask]\n",
    "            ).mean()\n",
    "\n",
    "        accs.append(acc_sample)\n",
    "\n",
    "        # percentage of certainty\n",
    "        pct = jnp.mean(certain_mask.mean())\n",
    "        print(pct, acc_sample)\n",
    "        pcts.append(pct)\n",
    "\n",
    "    return accs, pcts\n",
    "\n",
    "def plot_accuracy_perc_certainity(ax, accs, pcts, thresholds, bbox=(0.8, 0.8), show_legend=True):\n",
    "    ax_l = ax\n",
    "\n",
    "    # plot perc_certainity\n",
    "    ax_r = ax_l.twinx()\n",
    "    pct_plot = ax_r.plot(thresholds, pcts, \"-+\", color=\"green\", label=\"pct of certain preds\")\n",
    "    ax_r.set_ylabel(\"pct\")\n",
    "    ax_l.set_xlabel(\"certainty threshold\")\n",
    "    ax_r.set_ylim(0, 1.05)\n",
    "\n",
    "    # plot accuracy\n",
    "    acc_plot = ax_l.plot(thresholds, accs, \"-+\", label=\"Certainty Accuracy\")\n",
    "    ax_l.set_ylabel(\"accuracy\")\n",
    "\n",
    "    # plot accuracy on whole batch\n",
    "    mn, mx = ax_r.get_xlim()\n",
    "    acc_hline = ax_l.hlines(accs[0], mn, mx, color=\"black\", linestyle=\"-.\", label=\"Test accuracy\")\n",
    "    if show_legend:\n",
    "        ax_r.legend(handles=[acc_plot[0], pct_plot[0], acc_hline], bbox_to_anchor=bbox, frameon=False)\n",
    "\n",
    "    return ax_l, ax_r"
   ],
   "metadata": {
    "collapsed": false,
    "pycharm": {
     "name": "#%%\n"
    }
   }
  },
  {
   "cell_type": "code",
   "execution_count": 28,
   "outputs": [],
   "source": [
    "from notebooks.gibbs_sampler import *\n",
    "tau, c = 0.01, 100\n",
    "eta, mu = 0.1, 0.1\n",
    "num_samples = 5000\n",
    "num_warmup = 100\n",
    "num_chains = 1\n",
    "disc_step_size, contin_step_size = 0.2, 1e-5\n",
    "\n",
    "model = hk.without_apply_rng(hk.transform(net_fn))\n",
    "batch = jnp.ones((n, p))\n",
    "init_gamma = tfd.Bernoulli(probs=0.5*jnp.ones(p)).sample(seed=key_init)*1.\n",
    "# init_params = jax.vmap(model.init, in_axes=(None, None, 0))(key_init, batch, init_gamma)\n",
    "init_params = model.init(key_init, batch, init_gamma)\n",
    "contin_logprob_fn = generate_contin_logprob_fn(model, X_train, y_train, tau, c)\n",
    "discrete_logprob_fn = generate_disc_logprob_fn(model , X_train, y_train, J, mu, eta)\n",
    "init_state = init(init_gamma, init_params, discrete_logprob_fn, contin_logprob_fn, disc_step_size, contin_step_size)\n",
    "# init_state = jax.vmap(init, in_axes=(0, 0, None, None, None, None))(init_gamma, init_params, discrete_logprob_fn, contin_logprob_fn,\n",
    "#                                                                     disc_step_size, contin_step_size)"
   ],
   "metadata": {
    "collapsed": false,
    "pycharm": {
     "name": "#%%\n"
    }
   }
  },
  {
   "cell_type": "code",
   "execution_count": 29,
   "outputs": [
    {
     "data": {
      "text/plain": "(DeviceArray([0, 1], dtype=int32), DeviceArray([36, 99], dtype=int32))"
     },
     "execution_count": 29,
     "metadata": {},
     "output_type": "execute_result"
    }
   ],
   "source": [
    "jnp.unique(y_val, return_counts=True)"
   ],
   "metadata": {
    "collapsed": false,
    "pycharm": {
     "name": "#%%\n"
    }
   }
  },
  {
   "cell_type": "code",
   "execution_count": 30,
   "outputs": [
    {
     "name": "stderr",
     "output_type": "stream",
     "text": [
      "2022-09-28 16:14:25.467155: E external/org_tensorflow/tensorflow/compiler/xla/pjrt/pjrt_stream_executor_client.cc:2130] Execution of replica 0 failed: RESOURCE_EXHAUSTED: Failed to allocate request for 4.26GiB (4572288000B) on device ordinal 0\n",
      "BufferAssignment OOM Debugging.\n",
      "BufferAssignment stats:\n",
      "             parameter allocation:   36.43MiB\n",
      "              constant allocation:        40B\n",
      "        maybe_live_out allocation:   11.74GiB\n",
      "     preallocated temp allocation:   54.54MiB\n",
      "  preallocated temp fragmentation:       624B (0.00%)\n",
      "                 total allocation:   11.83GiB\n",
      "Peak buffers:\n",
      "\tBuffer 1:\n",
      "\t\tSize: 4.26GiB\n",
      "\t\tXLA Label: copy\n",
      "\t\tShape: f32[500,1512,1512]\n",
      "\t\t==========================\n",
      "\n",
      "\tBuffer 2:\n",
      "\t\tSize: 4.26GiB\n",
      "\t\tOperator: op_name=\"jit(scan)/jit(main)/broadcast_in_dim[shape=(500, 1512, 1512) broadcast_dimensions=()]\" source_file=\"/tmp/ipykernel_15316/2364558265.py\" source_line=30\n",
      "\t\tXLA Label: broadcast\n",
      "\t\tShape: f32[500,1512,1512]\n",
      "\t\t==========================\n",
      "\n",
      "\tBuffer 3:\n",
      "\t\tSize: 1.41GiB\n",
      "\t\tXLA Label: copy\n",
      "\t\tShape: f32[500,1512,500]\n",
      "\t\t==========================\n",
      "\n",
      "\tBuffer 4:\n",
      "\t\tSize: 1.41GiB\n",
      "\t\tOperator: op_name=\"jit(scan)/jit(main)/broadcast_in_dim[shape=(500, 1512, 500) broadcast_dimensions=()]\" source_file=\"/tmp/ipykernel_15316/2364558265.py\" source_line=30\n",
      "\t\tXLA Label: broadcast\n",
      "\t\tShape: f32[500,1512,500]\n",
      "\t\t==========================\n",
      "\n",
      "\tBuffer 5:\n",
      "\t\tSize: 190.73MiB\n",
      "\t\tXLA Label: copy\n",
      "\t\tShape: f32[500,500,200]\n",
      "\t\t==========================\n",
      "\n",
      "\tBuffer 6:\n",
      "\t\tSize: 190.73MiB\n",
      "\t\tOperator: op_name=\"jit(scan)/jit(main)/broadcast_in_dim[shape=(500, 500, 200) broadcast_dimensions=()]\" source_file=\"/tmp/ipykernel_15316/2364558265.py\" source_line=30\n",
      "\t\tXLA Label: broadcast\n",
      "\t\tShape: f32[500,500,200]\n",
      "\t\t==========================\n",
      "\n",
      "\tBuffer 7:\n",
      "\t\tSize: 17.44MiB\n",
      "\t\tOperator: op_name=\"jit(scan)/jit(main)/while/body/jit(outer_step)/while/body/jit(inner_step)/jit(<lambda>)/add\" source_file=\"/home/xabush/code/snet/moses-incons-pen-xp/notebooks/gibbs_sampler.py\" source_line=63\n",
      "\t\tXLA Label: concatenate\n",
      "\t\tShape: f32[1512,3024]\n",
      "\t\t==========================\n",
      "\n",
      "\tBuffer 8:\n",
      "\t\tSize: 12.00MiB\n",
      "\t\tOperator: op_name=\"jit(scan)/jit(main)/while/body/jit(outer_step)/while/body/jit(inner_step)/jit(<lambda>)/mul\" source_file=\"/home/xabush/miniconda3/lib/python3.9/site-packages/blackjax/mcmc/diffusion.py\" source_line=20\n",
      "\t\tXLA Label: fusion\n",
      "\t\tShape: f32[3144557]\n",
      "\t\t==========================\n",
      "\n",
      "\tBuffer 9:\n",
      "\t\tSize: 8.72MiB\n",
      "\t\tXLA Label: copy\n",
      "\t\tShape: f32[1512,1512]\n",
      "\t\t==========================\n",
      "\n",
      "\tBuffer 10:\n",
      "\t\tSize: 8.72MiB\n",
      "\t\tEntry Parameter Subshape: f32[1512,1512]\n",
      "\t\t==========================\n",
      "\n",
      "\tBuffer 11:\n",
      "\t\tSize: 8.72MiB\n",
      "\t\tEntry Parameter Subshape: f32[1512,1512]\n",
      "\t\t==========================\n",
      "\n",
      "\tBuffer 12:\n",
      "\t\tSize: 8.72MiB\n",
      "\t\tEntry Parameter Subshape: f32[1512,1512]\n",
      "\t\t==========================\n",
      "\n",
      "\tBuffer 13:\n",
      "\t\tSize: 8.72MiB\n",
      "\t\tXLA Label: copy\n",
      "\t\tShape: f32[1512,1512]\n",
      "\t\t==========================\n",
      "\n",
      "\tBuffer 14:\n",
      "\t\tSize: 8.72MiB\n",
      "\t\tXLA Label: copy\n",
      "\t\tShape: f32[1512,1512]\n",
      "\t\t==========================\n",
      "\n",
      "\tBuffer 15:\n",
      "\t\tSize: 7.24MiB\n",
      "\t\tOperator: op_name=\"jit(scan)/jit(main)/while/body/jit(outer_step)/while/body/jit(inner_step)/jit(<lambda>)/bnn/dot_general[dimension_numbers=(((1,), (0,)), ((), ())) precision=None preferred_element_type=None]\" source_file=\"/tmp/ipykernel_15316/3334068148.py\" source_line=18\n",
      "\t\tXLA Label: custom-call\n",
      "\t\tShape: f32[628,3024]\n",
      "\t\t==========================\n",
      "\n",
      "\n"
     ]
    },
    {
     "ename": "XlaRuntimeError",
     "evalue": "RESOURCE_EXHAUSTED: Failed to allocate request for 4.26GiB (4572288000B) on device ordinal 0\nBufferAssignment OOM Debugging.\nBufferAssignment stats:\n             parameter allocation:   36.43MiB\n              constant allocation:        40B\n        maybe_live_out allocation:   11.74GiB\n     preallocated temp allocation:   54.54MiB\n  preallocated temp fragmentation:       624B (0.00%)\n                 total allocation:   11.83GiB\nPeak buffers:\n\tBuffer 1:\n\t\tSize: 4.26GiB\n\t\tXLA Label: copy\n\t\tShape: f32[500,1512,1512]\n\t\t==========================\n\n\tBuffer 2:\n\t\tSize: 4.26GiB\n\t\tOperator: op_name=\"jit(scan)/jit(main)/broadcast_in_dim[shape=(500, 1512, 1512) broadcast_dimensions=()]\" source_file=\"/tmp/ipykernel_15316/2364558265.py\" source_line=30\n\t\tXLA Label: broadcast\n\t\tShape: f32[500,1512,1512]\n\t\t==========================\n\n\tBuffer 3:\n\t\tSize: 1.41GiB\n\t\tXLA Label: copy\n\t\tShape: f32[500,1512,500]\n\t\t==========================\n\n\tBuffer 4:\n\t\tSize: 1.41GiB\n\t\tOperator: op_name=\"jit(scan)/jit(main)/broadcast_in_dim[shape=(500, 1512, 500) broadcast_dimensions=()]\" source_file=\"/tmp/ipykernel_15316/2364558265.py\" source_line=30\n\t\tXLA Label: broadcast\n\t\tShape: f32[500,1512,500]\n\t\t==========================\n\n\tBuffer 5:\n\t\tSize: 190.73MiB\n\t\tXLA Label: copy\n\t\tShape: f32[500,500,200]\n\t\t==========================\n\n\tBuffer 6:\n\t\tSize: 190.73MiB\n\t\tOperator: op_name=\"jit(scan)/jit(main)/broadcast_in_dim[shape=(500, 500, 200) broadcast_dimensions=()]\" source_file=\"/tmp/ipykernel_15316/2364558265.py\" source_line=30\n\t\tXLA Label: broadcast\n\t\tShape: f32[500,500,200]\n\t\t==========================\n\n\tBuffer 7:\n\t\tSize: 17.44MiB\n\t\tOperator: op_name=\"jit(scan)/jit(main)/while/body/jit(outer_step)/while/body/jit(inner_step)/jit(<lambda>)/add\" source_file=\"/home/xabush/code/snet/moses-incons-pen-xp/notebooks/gibbs_sampler.py\" source_line=63\n\t\tXLA Label: concatenate\n\t\tShape: f32[1512,3024]\n\t\t==========================\n\n\tBuffer 8:\n\t\tSize: 12.00MiB\n\t\tOperator: op_name=\"jit(scan)/jit(main)/while/body/jit(outer_step)/while/body/jit(inner_step)/jit(<lambda>)/mul\" source_file=\"/home/xabush/miniconda3/lib/python3.9/site-packages/blackjax/mcmc/diffusion.py\" source_line=20\n\t\tXLA Label: fusion\n\t\tShape: f32[3144557]\n\t\t==========================\n\n\tBuffer 9:\n\t\tSize: 8.72MiB\n\t\tXLA Label: copy\n\t\tShape: f32[1512,1512]\n\t\t==========================\n\n\tBuffer 10:\n\t\tSize: 8.72MiB\n\t\tEntry Parameter Subshape: f32[1512,1512]\n\t\t==========================\n\n\tBuffer 11:\n\t\tSize: 8.72MiB\n\t\tEntry Parameter Subshape: f32[1512,1512]\n\t\t==========================\n\n\tBuffer 12:\n\t\tSize: 8.72MiB\n\t\tEntry Parameter Subshape: f32[1512,1512]\n\t\t==========================\n\n\tBuffer 13:\n\t\tSize: 8.72MiB\n\t\tXLA Label: copy\n\t\tShape: f32[1512,1512]\n\t\t==========================\n\n\tBuffer 14:\n\t\tSize: 8.72MiB\n\t\tXLA Label: copy\n\t\tShape: f32[1512,1512]\n\t\t==========================\n\n\tBuffer 15:\n\t\tSize: 7.24MiB\n\t\tOperator: op_name=\"jit(scan)/jit(main)/while/body/jit(outer_step)/while/body/jit(inner_step)/jit(<lambda>)/bnn/dot_general[dimension_numbers=(((1,), (0,)), ((), ())) precision=None preferred_element_type=None]\" source_file=\"/tmp/ipykernel_15316/3334068148.py\" source_line=18\n\t\tXLA Label: custom-call\n\t\tShape: f32[628,3024]\n\t\t==========================\n\n",
     "output_type": "error",
     "traceback": [
      "\u001B[0;31m---------------------------------------------------------------------------\u001B[0m",
      "\u001B[0;31mXlaRuntimeError\u001B[0m                           Traceback (most recent call last)",
      "Input \u001B[0;32mIn [30]\u001B[0m, in \u001B[0;36m<cell line: 2>\u001B[0;34m()\u001B[0m\n\u001B[1;32m      1\u001B[0m kernel \u001B[38;5;241m=\u001B[39m jax\u001B[38;5;241m.\u001B[39mjit(\u001B[38;5;28;01mlambda\u001B[39;00m key, state: one_step(key, state, discrete_logprob_fn, contin_logprob_fn, disc_step_size, contin_step_size))\n\u001B[0;32m----> 2\u001B[0m final_state, states, val_f1, test_f1 \u001B[38;5;241m=\u001B[39m \u001B[43minference_loop\u001B[49m\u001B[43m(\u001B[49m\u001B[43mkey_samples\u001B[49m\u001B[43m,\u001B[49m\u001B[43m \u001B[49m\u001B[43mmodel\u001B[49m\u001B[43m,\u001B[49m\u001B[43m \u001B[49m\u001B[43mkernel\u001B[49m\u001B[43m,\u001B[49m\u001B[43m \u001B[49m\u001B[43minit_state\u001B[49m\u001B[43m,\u001B[49m\n\u001B[1;32m      3\u001B[0m \u001B[43m                                                      \u001B[49m\u001B[43mX_val\u001B[49m\u001B[43m,\u001B[49m\u001B[43m \u001B[49m\u001B[43mX_test\u001B[49m\u001B[43m,\u001B[49m\u001B[43m \u001B[49m\u001B[43my_val\u001B[49m\u001B[43m,\u001B[49m\u001B[43m \u001B[49m\u001B[43my_test\u001B[49m\u001B[43m,\u001B[49m\n\u001B[1;32m      4\u001B[0m \u001B[43m                                                      \u001B[49m\u001B[43mnum_samples\u001B[49m\u001B[43m)\u001B[49m\n\u001B[1;32m      5\u001B[0m val_f1\u001B[38;5;241m.\u001B[39mshape\n",
      "Input \u001B[0;32mIn [24]\u001B[0m, in \u001B[0;36minference_loop\u001B[0;34m(rng_key, model, kernel, initial_state, X_val, X_test, y_val, y_test, num_samples)\u001B[0m\n\u001B[1;32m     28\u001B[0m n_steps \u001B[38;5;241m=\u001B[39m num_samples \u001B[38;5;241m/\u001B[39m steps\n\u001B[1;32m     29\u001B[0m keys \u001B[38;5;241m=\u001B[39m jax\u001B[38;5;241m.\u001B[39mrandom\u001B[38;5;241m.\u001B[39msplit(rng_key, n_steps)\n\u001B[0;32m---> 30\u001B[0m final_state, (states, val_f1, test_f1) \u001B[38;5;241m=\u001B[39m \u001B[43mjax\u001B[49m\u001B[38;5;241;43m.\u001B[39;49m\u001B[43mlax\u001B[49m\u001B[38;5;241;43m.\u001B[39;49m\u001B[43mscan\u001B[49m\u001B[43m(\u001B[49m\u001B[43mouter_step\u001B[49m\u001B[43m,\u001B[49m\u001B[43m \u001B[49m\u001B[43minitial_state\u001B[49m\u001B[43m,\u001B[49m\u001B[43m \u001B[49m\u001B[43mkeys\u001B[49m\u001B[43m)\u001B[49m\n\u001B[1;32m     31\u001B[0m \u001B[38;5;66;03m# _, states = jax.lax.scan(inner_step, initial_state, keys)\u001B[39;00m\n\u001B[1;32m     32\u001B[0m \u001B[38;5;28;01mreturn\u001B[39;00m final_state, states, val_f1, test_f1\n",
      "    \u001B[0;31m[... skipping hidden 7 frame]\u001B[0m\n",
      "File \u001B[0;32m~/miniconda3/lib/python3.9/site-packages/jax/_src/dispatch.py:837\u001B[0m, in \u001B[0;36m_execute_compiled\u001B[0;34m(name, compiled, input_handler, output_buffer_counts, result_handler, has_unordered_effects, ordered_effects, kept_var_idx, has_host_callbacks, *args)\u001B[0m\n\u001B[1;32m    835\u001B[0m     runtime_token \u001B[38;5;241m=\u001B[39m \u001B[38;5;28;01mNone\u001B[39;00m\n\u001B[1;32m    836\u001B[0m \u001B[38;5;28;01melse\u001B[39;00m:\n\u001B[0;32m--> 837\u001B[0m   out_flat \u001B[38;5;241m=\u001B[39m \u001B[43mcompiled\u001B[49m\u001B[38;5;241;43m.\u001B[39;49m\u001B[43mexecute\u001B[49m\u001B[43m(\u001B[49m\u001B[43min_flat\u001B[49m\u001B[43m)\u001B[49m\n\u001B[1;32m    838\u001B[0m check_special(name, out_flat)\n\u001B[1;32m    839\u001B[0m out_bufs \u001B[38;5;241m=\u001B[39m unflatten(out_flat, output_buffer_counts)\n",
      "\u001B[0;31mXlaRuntimeError\u001B[0m: RESOURCE_EXHAUSTED: Failed to allocate request for 4.26GiB (4572288000B) on device ordinal 0\nBufferAssignment OOM Debugging.\nBufferAssignment stats:\n             parameter allocation:   36.43MiB\n              constant allocation:        40B\n        maybe_live_out allocation:   11.74GiB\n     preallocated temp allocation:   54.54MiB\n  preallocated temp fragmentation:       624B (0.00%)\n                 total allocation:   11.83GiB\nPeak buffers:\n\tBuffer 1:\n\t\tSize: 4.26GiB\n\t\tXLA Label: copy\n\t\tShape: f32[500,1512,1512]\n\t\t==========================\n\n\tBuffer 2:\n\t\tSize: 4.26GiB\n\t\tOperator: op_name=\"jit(scan)/jit(main)/broadcast_in_dim[shape=(500, 1512, 1512) broadcast_dimensions=()]\" source_file=\"/tmp/ipykernel_15316/2364558265.py\" source_line=30\n\t\tXLA Label: broadcast\n\t\tShape: f32[500,1512,1512]\n\t\t==========================\n\n\tBuffer 3:\n\t\tSize: 1.41GiB\n\t\tXLA Label: copy\n\t\tShape: f32[500,1512,500]\n\t\t==========================\n\n\tBuffer 4:\n\t\tSize: 1.41GiB\n\t\tOperator: op_name=\"jit(scan)/jit(main)/broadcast_in_dim[shape=(500, 1512, 500) broadcast_dimensions=()]\" source_file=\"/tmp/ipykernel_15316/2364558265.py\" source_line=30\n\t\tXLA Label: broadcast\n\t\tShape: f32[500,1512,500]\n\t\t==========================\n\n\tBuffer 5:\n\t\tSize: 190.73MiB\n\t\tXLA Label: copy\n\t\tShape: f32[500,500,200]\n\t\t==========================\n\n\tBuffer 6:\n\t\tSize: 190.73MiB\n\t\tOperator: op_name=\"jit(scan)/jit(main)/broadcast_in_dim[shape=(500, 500, 200) broadcast_dimensions=()]\" source_file=\"/tmp/ipykernel_15316/2364558265.py\" source_line=30\n\t\tXLA Label: broadcast\n\t\tShape: f32[500,500,200]\n\t\t==========================\n\n\tBuffer 7:\n\t\tSize: 17.44MiB\n\t\tOperator: op_name=\"jit(scan)/jit(main)/while/body/jit(outer_step)/while/body/jit(inner_step)/jit(<lambda>)/add\" source_file=\"/home/xabush/code/snet/moses-incons-pen-xp/notebooks/gibbs_sampler.py\" source_line=63\n\t\tXLA Label: concatenate\n\t\tShape: f32[1512,3024]\n\t\t==========================\n\n\tBuffer 8:\n\t\tSize: 12.00MiB\n\t\tOperator: op_name=\"jit(scan)/jit(main)/while/body/jit(outer_step)/while/body/jit(inner_step)/jit(<lambda>)/mul\" source_file=\"/home/xabush/miniconda3/lib/python3.9/site-packages/blackjax/mcmc/diffusion.py\" source_line=20\n\t\tXLA Label: fusion\n\t\tShape: f32[3144557]\n\t\t==========================\n\n\tBuffer 9:\n\t\tSize: 8.72MiB\n\t\tXLA Label: copy\n\t\tShape: f32[1512,1512]\n\t\t==========================\n\n\tBuffer 10:\n\t\tSize: 8.72MiB\n\t\tEntry Parameter Subshape: f32[1512,1512]\n\t\t==========================\n\n\tBuffer 11:\n\t\tSize: 8.72MiB\n\t\tEntry Parameter Subshape: f32[1512,1512]\n\t\t==========================\n\n\tBuffer 12:\n\t\tSize: 8.72MiB\n\t\tEntry Parameter Subshape: f32[1512,1512]\n\t\t==========================\n\n\tBuffer 13:\n\t\tSize: 8.72MiB\n\t\tXLA Label: copy\n\t\tShape: f32[1512,1512]\n\t\t==========================\n\n\tBuffer 14:\n\t\tSize: 8.72MiB\n\t\tXLA Label: copy\n\t\tShape: f32[1512,1512]\n\t\t==========================\n\n\tBuffer 15:\n\t\tSize: 7.24MiB\n\t\tOperator: op_name=\"jit(scan)/jit(main)/while/body/jit(outer_step)/while/body/jit(inner_step)/jit(<lambda>)/bnn/dot_general[dimension_numbers=(((1,), (0,)), ((), ())) precision=None preferred_element_type=None]\" source_file=\"/tmp/ipykernel_15316/3334068148.py\" source_line=18\n\t\tXLA Label: custom-call\n\t\tShape: f32[628,3024]\n\t\t==========================\n\n"
     ]
    }
   ],
   "source": [
    "kernel = jax.jit(lambda key, state: one_step(key, state, discrete_logprob_fn, contin_logprob_fn, disc_step_size, contin_step_size))\n",
    "final_state, states, val_f1, test_f1 = inference_loop(key_samples, model, kernel, init_state,\n",
    "                                                      X_val, X_test, y_val, y_test,\n",
    "                                                      num_samples)\n",
    "val_f1.shape\n",
    "# states = inference_loop(key_samples, model, kernel, init_state, X_val, X_test, y_val, y_test, num_samples)"
   ],
   "metadata": {
    "collapsed": false,
    "pycharm": {
     "name": "#%%\n"
    }
   }
  },
  {
   "cell_type": "code",
   "execution_count": 18,
   "outputs": [
    {
     "data": {
      "text/plain": "<matplotlib.legend.Legend at 0x7f2b84116f10>"
     },
     "execution_count": 18,
     "metadata": {},
     "output_type": "execute_result"
    },
    {
     "data": {
      "text/plain": "<Figure size 1400x400 with 2 Axes>",
      "image/png": "[encoded data removed]"
     },
     "metadata": {},
     "output_type": "display_data"
    }
   ],
   "source": [
    "fig, (ax1, ax2) = plt.subplots(1, 2, figsize=(14, 4))\n",
    "ax1.plot(val_f1[num_warmup:], \"r\", label=\"validation accuracy\")\n",
    "ax1.legend()\n",
    "ax1.set_title(f\"Validation F1 Score: {jnp.mean(val_f1[num_warmup:]):.2f}\")\n",
    "\n",
    "ax2.plot(test_f1[num_warmup:], \"g\", label=\"test accuracy\")\n",
    "ax2.set_title(f\"Test F1 Score: {jnp.mean(test_f1[num_warmup:]):.2f}\")\n",
    "ax2.legend()"
   ],
   "metadata": {
    "collapsed": false,
    "pycharm": {
     "name": "#%%\n"
    }
   }
  },
  {
   "cell_type": "code",
   "execution_count": 20,
   "outputs": [
    {
     "data": {
      "text/plain": "DeviceArray([0.61333334, 0.590604  , 0.        , 0.84482765, 0.8118812 ,\n             0.0776699 , 0.836207  , 0.        , 0.        , 0.2881356 ,\n             0.05882353, 0.02      , 0.8355556 , 0.        , 0.8018019 ,\n             0.146789  , 0.7922706 , 0.81938326, 0.84482765, 0.79464287,\n             0.        , 0.8214286 , 0.295082  , 0.03960396, 0.84347826,\n             0.77073175, 0.71657753, 0.65957445, 0.6470588 , 0.6593407 ,\n             0.7963801 , 0.7604166 , 0.8340807 , 0.4324324 , 0.8073395 ,\n             0.7111112 , 0.7526881 , 0.5100671 , 0.76470596, 0.57831323,\n             0.78504676, 0.41221374, 0.8071749 , 0.20689656, 0.406015  ,\n             0.28571427, 0.11111112, 0.25210086, 0.07619048, 0.4113475 ,\n             0.31666666, 0.18181817, 0.14159292, 0.0952381 , 0.22608696,\n             0.03960396, 0.07619048, 0.09615384, 0.11214954, 0.0776699 ,\n             0.33333334, 0.43971634, 0.2975207 , 0.12962963, 0.25210086,\n             0.40287772, 0.03960396, 0.146789  , 0.02      , 0.01980198,\n             0.39393935, 0.38518515, 0.        , 0.01941747, 0.        ,\n             0.02      , 0.03921569, 0.05882353, 0.01980198, 0.07692308,\n             0.        , 0.03921569, 0.        , 0.03960396, 0.12844037,\n             0.01980198, 0.        , 0.01980198, 0.        , 0.3140496 ,\n             0.        , 0.05714286, 0.03921569, 0.03960396, 0.02      ,\n             0.28333333, 0.05882353, 0.03960396, 0.03921569, 0.09433963,\n             0.09615384, 0.05769231, 0.11428572, 0.0776699 , 0.03960396,\n             0.02      , 0.        , 0.01980198, 0.31999996, 0.09433963,\n             0.        , 0.03921569, 0.        , 0.09615384, 0.02      ,\n             0.03846154, 0.03960396, 0.        , 0.07692308, 0.        ,\n             0.        , 0.01980198, 0.        , 0.        , 0.03960396,\n             0.02      , 0.34920636, 0.03921569, 0.        , 0.01960784,\n             0.6666667 , 0.02      , 0.        , 0.22807015, 0.09433963,\n             0.        , 0.03960396, 0.03921569, 0.02      , 0.02      ,\n             0.        , 0.        , 0.        , 0.03960396, 0.        ,\n             0.07692308, 0.02      , 0.05882353, 0.02      , 0.        ,\n             0.        , 0.1495327 , 0.03883495, 0.05825243, 0.11428572,\n             0.11428572, 0.        , 0.        , 0.02      , 0.01980198,\n             0.03960396, 0.        , 0.16666667, 0.03960396, 0.        ,\n             0.02      , 0.        , 0.02      , 0.0776699 , 0.        ,\n             0.        , 0.        , 0.        , 0.        , 0.        ,\n             0.02      , 0.03960396, 0.        , 0.        , 0.03883495,\n             0.07619048, 0.01980198, 0.02      , 0.        , 0.03921569,\n             0.17857142, 0.        , 0.        , 0.        , 0.01960784,\n             0.        , 0.02      , 0.02      , 0.01980198, 0.03960396,\n             0.11320756, 0.34920636, 0.        , 0.        , 0.02      ],            dtype=float32)"
     },
     "execution_count": 20,
     "metadata": {},
     "output_type": "execute_result"
    }
   ],
   "source": [
    "val_f1"
   ],
   "metadata": {
    "collapsed": false,
    "pycharm": {
     "name": "#%%\n"
    }
   }
  },
  {
   "cell_type": "code",
   "execution_count": 22,
   "outputs": [
    {
     "data": {
      "text/plain": "DeviceArray([0., 1., 0., ..., 1., 0., 0.], dtype=float32, weak_type=True)"
     },
     "execution_count": 22,
     "metadata": {},
     "output_type": "execute_result"
    }
   ],
   "source": [
    "states.discrete_position[3]"
   ],
   "metadata": {
    "collapsed": false,
    "pycharm": {
     "name": "#%%\n"
    }
   }
  },
  {
   "cell_type": "code",
   "execution_count": 36,
   "outputs": [
    {
     "ename": "XlaRuntimeError",
     "evalue": "RESOURCE_EXHAUSTED: Failed to allocate request for 872.09MiB (914457600B) on device ordinal 0",
     "output_type": "error",
     "traceback": [
      "\u001B[0;31m---------------------------------------------------------------------------\u001B[0m",
      "\u001B[0;31mXlaRuntimeError\u001B[0m                           Traceback (most recent call last)",
      "Input \u001B[0;32mIn [36]\u001B[0m, in \u001B[0;36m<cell line: 7>\u001B[0;34m()\u001B[0m\n\u001B[1;32m      5\u001B[0m param_samples \u001B[38;5;241m=\u001B[39m  jax\u001B[38;5;241m.\u001B[39mtree_map(\u001B[38;5;28;01mlambda\u001B[39;00m x: x[num_warmup:], param_samples)\n\u001B[1;32m      6\u001B[0m gamma_mean \u001B[38;5;241m=\u001B[39m jnp\u001B[38;5;241m.\u001B[39mmean(gamma_samples, axis\u001B[38;5;241m=\u001B[39m\u001B[38;5;241m0\u001B[39m)\n\u001B[0;32m----> 7\u001B[0m param_mean \u001B[38;5;241m=\u001B[39m \u001B[43mjax\u001B[49m\u001B[38;5;241;43m.\u001B[39;49m\u001B[43mtree_util\u001B[49m\u001B[38;5;241;43m.\u001B[39;49m\u001B[43mtree_map\u001B[49m\u001B[43m(\u001B[49m\u001B[38;5;28;43;01mlambda\u001B[39;49;00m\u001B[43m \u001B[49m\u001B[43mx\u001B[49m\u001B[43m:\u001B[49m\u001B[43m \u001B[49m\u001B[43mjnp\u001B[49m\u001B[38;5;241;43m.\u001B[39;49m\u001B[43mmean\u001B[49m\u001B[43m(\u001B[49m\u001B[43mx\u001B[49m\u001B[43m,\u001B[49m\u001B[43m \u001B[49m\u001B[43maxis\u001B[49m\u001B[38;5;241;43m=\u001B[39;49m\u001B[38;5;241;43m0\u001B[39;49m\u001B[43m)\u001B[49m\u001B[43m,\u001B[49m\u001B[43m \u001B[49m\u001B[43mparam_samples\u001B[49m\u001B[43m)\u001B[49m\n",
      "File \u001B[0;32m~/miniconda3/lib/python3.9/site-packages/jax/_src/tree_util.py:205\u001B[0m, in \u001B[0;36mtree_map\u001B[0;34m(f, tree, is_leaf, *rest)\u001B[0m\n\u001B[1;32m    203\u001B[0m leaves, treedef \u001B[38;5;241m=\u001B[39m tree_flatten(tree, is_leaf)\n\u001B[1;32m    204\u001B[0m all_leaves \u001B[38;5;241m=\u001B[39m [leaves] \u001B[38;5;241m+\u001B[39m [treedef\u001B[38;5;241m.\u001B[39mflatten_up_to(r) \u001B[38;5;28;01mfor\u001B[39;00m r \u001B[38;5;129;01min\u001B[39;00m rest]\n\u001B[0;32m--> 205\u001B[0m \u001B[38;5;28;01mreturn\u001B[39;00m \u001B[43mtreedef\u001B[49m\u001B[38;5;241;43m.\u001B[39;49m\u001B[43munflatten\u001B[49m\u001B[43m(\u001B[49m\u001B[43mf\u001B[49m\u001B[43m(\u001B[49m\u001B[38;5;241;43m*\u001B[39;49m\u001B[43mxs\u001B[49m\u001B[43m)\u001B[49m\u001B[43m \u001B[49m\u001B[38;5;28;43;01mfor\u001B[39;49;00m\u001B[43m \u001B[49m\u001B[43mxs\u001B[49m\u001B[43m \u001B[49m\u001B[38;5;129;43;01min\u001B[39;49;00m\u001B[43m \u001B[49m\u001B[38;5;28;43mzip\u001B[39;49m\u001B[43m(\u001B[49m\u001B[38;5;241;43m*\u001B[39;49m\u001B[43mall_leaves\u001B[49m\u001B[43m)\u001B[49m\u001B[43m)\u001B[49m\n",
      "File \u001B[0;32m~/miniconda3/lib/python3.9/site-packages/jax/_src/tree_util.py:205\u001B[0m, in \u001B[0;36m<genexpr>\u001B[0;34m(.0)\u001B[0m\n\u001B[1;32m    203\u001B[0m leaves, treedef \u001B[38;5;241m=\u001B[39m tree_flatten(tree, is_leaf)\n\u001B[1;32m    204\u001B[0m all_leaves \u001B[38;5;241m=\u001B[39m [leaves] \u001B[38;5;241m+\u001B[39m [treedef\u001B[38;5;241m.\u001B[39mflatten_up_to(r) \u001B[38;5;28;01mfor\u001B[39;00m r \u001B[38;5;129;01min\u001B[39;00m rest]\n\u001B[0;32m--> 205\u001B[0m \u001B[38;5;28;01mreturn\u001B[39;00m treedef\u001B[38;5;241m.\u001B[39munflatten(\u001B[43mf\u001B[49m\u001B[43m(\u001B[49m\u001B[38;5;241;43m*\u001B[39;49m\u001B[43mxs\u001B[49m\u001B[43m)\u001B[49m \u001B[38;5;28;01mfor\u001B[39;00m xs \u001B[38;5;129;01min\u001B[39;00m \u001B[38;5;28mzip\u001B[39m(\u001B[38;5;241m*\u001B[39mall_leaves))\n",
      "Input \u001B[0;32mIn [36]\u001B[0m, in \u001B[0;36m<lambda>\u001B[0;34m(x)\u001B[0m\n\u001B[1;32m      5\u001B[0m param_samples \u001B[38;5;241m=\u001B[39m  jax\u001B[38;5;241m.\u001B[39mtree_map(\u001B[38;5;28;01mlambda\u001B[39;00m x: x[num_warmup:], param_samples)\n\u001B[1;32m      6\u001B[0m gamma_mean \u001B[38;5;241m=\u001B[39m jnp\u001B[38;5;241m.\u001B[39mmean(gamma_samples, axis\u001B[38;5;241m=\u001B[39m\u001B[38;5;241m0\u001B[39m)\n\u001B[0;32m----> 7\u001B[0m param_mean \u001B[38;5;241m=\u001B[39m jax\u001B[38;5;241m.\u001B[39mtree_util\u001B[38;5;241m.\u001B[39mtree_map(\u001B[38;5;28;01mlambda\u001B[39;00m x: \u001B[43mjnp\u001B[49m\u001B[38;5;241;43m.\u001B[39;49m\u001B[43mmean\u001B[49m\u001B[43m(\u001B[49m\u001B[43mx\u001B[49m\u001B[43m,\u001B[49m\u001B[43m \u001B[49m\u001B[43maxis\u001B[49m\u001B[38;5;241;43m=\u001B[39;49m\u001B[38;5;241;43m0\u001B[39;49m\u001B[43m)\u001B[49m, param_samples)\n",
      "File \u001B[0;32m~/miniconda3/lib/python3.9/site-packages/jax/_src/numpy/reductions.py:260\u001B[0m, in \u001B[0;36mmean\u001B[0;34m(a, axis, dtype, out, keepdims, where)\u001B[0m\n\u001B[1;32m    257\u001B[0m \u001B[38;5;129m@_wraps\u001B[39m(np\u001B[38;5;241m.\u001B[39mmean, skip_params\u001B[38;5;241m=\u001B[39m[\u001B[38;5;124m'\u001B[39m\u001B[38;5;124mout\u001B[39m\u001B[38;5;124m'\u001B[39m])\n\u001B[1;32m    258\u001B[0m \u001B[38;5;28;01mdef\u001B[39;00m \u001B[38;5;21mmean\u001B[39m(a, axis: Optional[Union[\u001B[38;5;28mint\u001B[39m, Tuple[\u001B[38;5;28mint\u001B[39m, \u001B[38;5;241m.\u001B[39m\u001B[38;5;241m.\u001B[39m\u001B[38;5;241m.\u001B[39m]]] \u001B[38;5;241m=\u001B[39m \u001B[38;5;28;01mNone\u001B[39;00m, dtype\u001B[38;5;241m=\u001B[39m\u001B[38;5;28;01mNone\u001B[39;00m,\n\u001B[1;32m    259\u001B[0m          out\u001B[38;5;241m=\u001B[39m\u001B[38;5;28;01mNone\u001B[39;00m, keepdims\u001B[38;5;241m=\u001B[39m\u001B[38;5;28;01mFalse\u001B[39;00m, \u001B[38;5;241m*\u001B[39m, where\u001B[38;5;241m=\u001B[39m\u001B[38;5;28;01mNone\u001B[39;00m):\n\u001B[0;32m--> 260\u001B[0m   \u001B[38;5;28;01mreturn\u001B[39;00m \u001B[43m_mean\u001B[49m\u001B[43m(\u001B[49m\u001B[43ma\u001B[49m\u001B[43m,\u001B[49m\u001B[43m \u001B[49m\u001B[43m_ensure_optional_axes\u001B[49m\u001B[43m(\u001B[49m\u001B[43maxis\u001B[49m\u001B[43m)\u001B[49m\u001B[43m,\u001B[49m\u001B[43m \u001B[49m\u001B[43mdtype\u001B[49m\u001B[43m,\u001B[49m\u001B[43m \u001B[49m\u001B[43mout\u001B[49m\u001B[43m,\u001B[49m\u001B[43m \u001B[49m\u001B[43mkeepdims\u001B[49m\u001B[43m,\u001B[49m\n\u001B[1;32m    261\u001B[0m \u001B[43m               \u001B[49m\u001B[43mwhere\u001B[49m\u001B[38;5;241;43m=\u001B[39;49m\u001B[43mwhere\u001B[49m\u001B[43m)\u001B[49m\n",
      "    \u001B[0;31m[... skipping hidden 10 frame]\u001B[0m\n",
      "File \u001B[0;32m~/miniconda3/lib/python3.9/site-packages/jax/_src/dispatch.py:1126\u001B[0m, in \u001B[0;36m_device_put_array\u001B[0;34m(x, device)\u001B[0m\n\u001B[1;32m   1124\u001B[0m \u001B[38;5;28;01mif\u001B[39;00m x\u001B[38;5;241m.\u001B[39mdtype \u001B[38;5;241m==\u001B[39m dtypes\u001B[38;5;241m.\u001B[39mfloat0:\n\u001B[1;32m   1125\u001B[0m   x \u001B[38;5;241m=\u001B[39m np\u001B[38;5;241m.\u001B[39mzeros(x\u001B[38;5;241m.\u001B[39mshape, dtype\u001B[38;5;241m=\u001B[39mnp\u001B[38;5;241m.\u001B[39mdtype(\u001B[38;5;28mbool\u001B[39m))\n\u001B[0;32m-> 1126\u001B[0m \u001B[38;5;28;01mreturn\u001B[39;00m (\u001B[43mbackend\u001B[49m\u001B[38;5;241;43m.\u001B[39;49m\u001B[43mbuffer_from_pyval\u001B[49m\u001B[43m(\u001B[49m\u001B[43mx\u001B[49m\u001B[43m,\u001B[49m\u001B[43m \u001B[49m\u001B[43mdevice\u001B[49m\u001B[43m)\u001B[49m,)\n",
      "\u001B[0;31mXlaRuntimeError\u001B[0m: RESOURCE_EXHAUSTED: Failed to allocate request for 872.09MiB (914457600B) on device ordinal 0"
     ]
    }
   ],
   "source": [
    "# remove warmup samples\n",
    "gamma_samples = jax.device_get(states.discrete_position)\n",
    "param_samples = jax.device_get(states.contin_position)\n",
    "gamma_samples = gamma_samples[num_warmup:]\n",
    "param_samples =  jax.tree_map(lambda x: x[num_warmup:], param_samples)\n",
    "gamma_mean = jnp.mean(gamma_samples, axis=0)\n",
    "param_mean = jax.tree_util.tree_map(lambda x: jnp.mean(x, axis=0), param_samples)"
   ],
   "metadata": {
    "collapsed": false,
    "pycharm": {
     "name": "#%%\n"
    }
   }
  },
  {
   "cell_type": "code",
   "execution_count": 30,
   "outputs": [],
   "source": [
    "param_mean = jax.tree_util.tree_map(lambda x: x[3], states.contin_position)\n",
    "gamma_mean = states.discrete_position[3]"
   ],
   "metadata": {
    "collapsed": false,
    "pycharm": {
     "name": "#%%\n"
    }
   }
  },
  {
   "cell_type": "code",
   "execution_count": 39,
   "outputs": [
    {
     "data": {
      "text/plain": "{'bnn': {'b1': DeviceArray([1.114471 , 1.0563127, 0.8770529, ..., 0.9890104, 0.9360884,\n               1.0919064], dtype=float32),\n  'b2': DeviceArray([0.99666834, 0.9451201 , 0.9537161 , 1.0428755 , 1.122328  ,\n               0.98730564, 1.1112125 , 0.9585712 , 1.1091399 , 1.0754973 ,\n               0.96470207, 0.9335122 , 0.90045136, 1.0309726 , 0.9714803 ,\n               0.9633539 , 1.028244  , 1.0386386 , 0.9846919 , 0.96187496,\n               0.9870108 , 0.9974179 , 1.0865328 , 0.9662719 , 0.98954815,\n               0.96729004, 0.9907957 , 1.0720867 , 0.9701877 , 1.0236175 ,\n               1.0128499 , 0.9886066 , 0.9794465 , 1.1025102 , 1.0055608 ,\n               0.97327   , 0.9859666 , 1.0638647 , 0.96839315, 1.06556   ,\n               1.0482883 , 1.005872  , 0.9329445 , 1.0747223 , 1.0705413 ,\n               1.0804367 , 1.0773225 , 0.89174694, 1.0215031 , 0.9264008 ,\n               1.0933161 , 1.104626  , 0.99685323, 0.9596254 , 1.0625716 ,\n               0.93998814, 1.1180092 , 0.977602  , 1.0405576 , 1.0466087 ,\n               1.017944  , 1.002686  , 0.9766725 , 1.051211  , 0.9831881 ,\n               0.9180463 , 0.9942311 , 0.9853138 , 0.87543446, 0.94575983,\n               0.9693457 , 0.93106353, 1.0292464 , 0.91318405, 1.0269015 ,\n               0.94600725, 0.95097893, 0.9463317 , 1.0357904 , 1.0319612 ,\n               0.876541  , 1.052836  , 1.0452328 , 1.0320112 , 1.0460305 ,\n               1.0128963 , 0.9764476 , 0.86934406, 1.0385532 , 0.97660786,\n               1.0160373 , 1.0174413 , 1.1283374 , 0.97408026, 0.97313833,\n               1.0218661 , 1.012193  , 1.0018189 , 0.9409286 , 1.025471  ,\n               1.0513624 , 1.0504509 , 0.92687947, 1.1741343 , 0.9029454 ,\n               0.8715702 , 0.97355014, 1.1117868 , 0.985295  , 1.0821424 ,\n               0.9948941 , 1.0194926 , 1.0735705 , 0.91685647, 0.95918316,\n               1.0026454 , 1.0566708 , 1.0061961 , 1.0126024 , 1.0945044 ,\n               1.0526321 , 0.9864445 , 0.89705586, 1.0601391 , 0.9570214 ,\n               1.0339245 , 1.1046051 , 1.0607506 , 0.94545054, 1.0471898 ,\n               0.95384   , 0.93262744, 0.90638655, 0.9988801 , 1.0101713 ,\n               0.9359401 , 0.92758   , 0.9540077 , 1.0337435 , 1.0127355 ,\n               0.9138409 , 1.0421135 , 1.0605701 , 0.9912308 , 1.0906216 ,\n               0.9908955 , 0.92633003, 0.9576061 , 1.1178752 , 1.0048143 ,\n               1.0199136 , 1.0145209 , 1.052657  , 0.929202  , 0.93228024,\n               1.0299983 , 0.9267286 , 0.99029934, 0.98256487, 1.0142475 ,\n               0.9979895 , 0.9866949 , 0.93488955, 1.056258  , 0.9435838 ,\n               1.0337471 , 1.028942  , 0.9518559 , 0.98111737, 0.99850446,\n               0.9321476 , 1.0770797 , 1.0347564 , 0.9148274 , 0.9712824 ,\n               1.0569253 , 0.9751913 , 1.1255482 , 0.90133375, 1.1420945 ,\n               1.0135497 , 1.0367578 , 1.1261353 , 1.1061819 , 0.9969269 ,\n               1.004446  , 0.8885061 , 1.065871  , 0.9198664 , 1.0248908 ,\n               1.0218234 , 1.0022908 , 1.0198487 , 1.0220002 , 0.932833  ,\n               0.9764484 , 1.0573351 , 1.0021355 , 1.0784332 , 1.0219672 ,\n               1.0417365 , 0.88836914, 0.960342  , 0.9153069 , 0.92519766,\n               1.0563335 , 1.0818732 , 1.0738491 , 1.0158504 , 1.188371  ,\n               1.0188211 , 1.0391829 , 0.9118533 , 1.0267158 , 0.9835204 ,\n               1.072803  , 0.88456327, 0.86533153, 1.0633831 , 1.0322871 ,\n               0.9455369 , 1.019503  , 0.96392924, 1.0633656 , 1.2371228 ,\n               1.0691539 , 0.9129945 , 1.0500259 , 0.9749982 , 1.0579579 ,\n               1.0229833 , 1.0723577 , 1.0136032 , 1.0294231 , 0.93023527,\n               1.0452657 , 0.9173152 , 1.0175278 , 1.0559734 , 0.83727306,\n               1.0898503 , 0.9380356 , 1.0393697 , 0.99041027, 0.98951197,\n               0.9166678 , 1.0612885 , 0.98339087, 0.92770857, 0.9302664 ,\n               0.9483786 , 0.9113655 , 1.0678619 , 1.0774012 , 0.9967353 ,\n               1.1500497 , 1.0070848 , 1.0927219 , 1.0140575 , 0.9598699 ,\n               0.8963715 , 0.95901746, 1.0317909 , 0.97164124, 0.88729954,\n               1.0582533 , 0.8697085 , 1.0530915 , 0.87724763, 0.9201061 ,\n               1.0269889 , 1.0315759 , 1.1184318 , 0.98113483, 1.0637906 ,\n               0.95347655, 0.9035021 , 0.97369957, 0.9476988 , 0.9917104 ,\n               1.1347803 , 0.8973455 , 0.88461137, 1.081847  , 0.87443686,\n               1.0302788 , 1.0498319 , 1.1095954 , 1.0473659 , 1.0295415 ,\n               0.9548984 , 1.0152005 , 1.1350257 , 0.9045102 , 1.0891061 ,\n               0.97781456, 1.051891  , 1.091548  , 1.0854424 , 1.062545  ,\n               0.90139437, 0.9370893 , 0.8743385 , 1.0208251 , 1.0325693 ,\n               0.9717303 , 0.93940216, 1.019454  , 1.013428  , 0.95306647,\n               0.87781256, 0.9711477 , 1.0281162 , 0.9861904 , 1.0373079 ,\n               1.0351459 , 0.9463239 , 1.0534812 , 0.99215084, 1.0308428 ,\n               1.0186939 , 0.9930974 , 0.9563959 , 0.94475657, 0.99196136,\n               0.9428541 , 0.9190447 , 1.0189557 , 0.9932016 , 0.9738107 ,\n               1.0279788 , 0.95757306, 0.900574  , 1.2058897 , 1.0814084 ,\n               0.9638519 , 0.94542104, 1.0351112 , 0.97322726, 0.8891901 ,\n               1.1111269 , 0.9720043 , 0.9006822 , 0.96878946, 0.9612357 ,\n               1.025309  , 1.1447401 , 1.0110689 , 0.9483487 , 1.0246549 ,\n               1.016719  , 0.8428857 , 0.91391957, 0.9879062 , 1.11321   ,\n               0.95293736, 0.9959521 , 0.9981204 , 1.0362327 , 1.0463452 ,\n               0.9481773 , 1.0277874 , 1.029949  , 1.0448568 , 0.89432   ,\n               0.97859263, 1.0170473 , 1.0561727 , 1.0644603 , 1.0089525 ,\n               0.9094922 , 1.0296476 , 0.95279723, 0.940575  , 0.9956891 ,\n               1.0122666 , 0.97467583, 1.1108679 , 1.0063134 , 1.0738094 ,\n               0.9764024 , 0.98604864, 1.0162169 , 0.9256696 , 0.8556754 ,\n               1.1109047 , 0.9919582 , 0.9084256 , 1.0389215 , 0.94648296,\n               1.0112743 , 0.8229442 , 0.96414506, 1.052222  , 0.93106675,\n               0.9360891 , 1.0122875 , 0.9682588 , 0.97304475, 1.0064049 ,\n               0.94118667, 1.021939  , 0.97927123, 1.1167427 , 0.91603607,\n               0.9673645 , 0.9297797 , 0.91002524, 0.946719  , 1.1012527 ,\n               0.93101215, 0.99170125, 1.0258484 , 0.99182504, 0.93662876,\n               0.9896618 , 0.98059016, 1.1097167 , 1.067792  , 0.9889363 ,\n               1.0020794 , 1.0435126 , 0.9802617 , 1.0965656 , 0.9855768 ,\n               0.92257714, 0.9565246 , 1.028698  , 1.1272644 , 0.99958587,\n               0.9341024 , 0.99306524, 1.1099471 , 1.0432521 , 1.033595  ,\n               1.0804877 , 1.0028546 , 0.98444307, 0.92796886, 1.1632713 ,\n               0.99898726, 0.93316174, 0.84841084, 0.9874343 , 0.99750227,\n               0.96151936, 1.0523505 , 0.87457925, 1.0684043 , 1.021322  ,\n               0.9536317 , 1.0797108 , 1.0015911 , 1.019625  , 0.9215309 ,\n               0.9049947 , 1.039764  , 1.0385998 , 1.0412908 , 1.0696324 ,\n               1.0459694 , 0.94482857, 0.9758537 , 0.9727781 , 1.0243531 ,\n               0.9660589 , 0.92792886, 0.960259  , 0.998434  , 1.135848  ,\n               1.0500363 , 1.0161438 , 1.0363997 , 1.0029994 , 1.0642503 ,\n               1.063515  , 1.08554   , 1.0380386 , 1.0544645 , 0.97724366,\n               0.96649796, 1.0431566 , 0.9998534 , 0.99436504, 0.948576  ,\n               0.9440411 , 1.0216682 , 1.0227559 , 1.0610429 , 1.0228809 ,\n               1.0356112 , 1.0080943 , 0.9213249 , 1.0580034 , 0.9770841 ,\n               1.0542735 , 0.9752329 , 1.0516948 , 1.0047913 , 1.0449747 ],            dtype=float32),\n  'b3': DeviceArray([1.0088562 , 0.96998066, 1.0242941 , 0.8739128 , 0.96745884,\n               0.99837464, 1.0502082 , 0.9647097 , 1.0281492 , 0.9914285 ,\n               1.0040063 , 0.9369232 , 1.0243276 , 1.0391014 , 1.1108673 ,\n               1.0235976 , 0.90451473, 1.1593673 , 1.1038274 , 0.99516773,\n               1.0609351 , 1.0045782 , 1.0589789 , 1.0002388 , 0.9920429 ,\n               0.9557081 , 1.0238771 , 1.0770562 , 1.0213207 , 0.98253137,\n               1.025266  , 1.0494882 , 1.0814089 , 0.9092233 , 0.96094954,\n               0.908444  , 1.0072773 , 1.0665256 , 1.044257  , 1.0100726 ,\n               0.9877897 , 1.0094903 , 0.9403672 , 1.1047614 , 1.0454592 ,\n               0.9690024 , 1.0028992 , 1.1012183 , 1.0432334 , 0.9477824 ,\n               0.9640719 , 0.83746725, 0.97093654, 0.99129647, 0.9693487 ,\n               1.0654134 , 1.0147495 , 0.91924083, 0.94630516, 0.9406726 ,\n               0.98316383, 1.0062099 , 0.99026465, 1.0647186 , 0.88502795,\n               1.0720079 , 0.98586243, 1.0593085 , 1.0366089 , 0.88583195,\n               1.0194006 , 1.0747014 , 1.0090646 , 1.0217484 , 1.0617967 ,\n               0.95112133, 1.0499786 , 1.0639727 , 0.9631168 , 1.0027735 ,\n               0.9708389 , 1.164305  , 1.0000353 , 0.96313035, 1.0169153 ,\n               0.9729508 , 0.91918546, 0.9697946 , 1.0134195 , 1.0297608 ,\n               0.88694876, 1.0242624 , 0.89780575, 0.9330836 , 0.99381864,\n               0.93806404, 0.9759096 , 0.90364593, 0.9596744 , 0.89727026,\n               1.0233759 , 0.9592492 , 0.93169266, 0.92260045, 1.0213923 ,\n               1.0356654 , 0.95874065, 1.0409148 , 1.1073998 , 1.0084912 ,\n               0.91849905, 1.0398432 , 1.0253468 , 1.0529145 , 1.0459757 ,\n               0.9274012 , 0.9733889 , 0.8886281 , 0.913161  , 0.996145  ,\n               0.9232226 , 0.89008665, 0.9829591 , 1.0278335 , 1.0561723 ,\n               0.98698026, 0.9826735 , 1.0180142 , 0.8500844 , 0.9543467 ,\n               1.0290269 , 0.97126496, 1.037575  , 1.1033621 , 0.8734307 ,\n               0.893387  , 0.927258  , 1.1039282 , 0.9793942 , 0.9507898 ,\n               0.9873635 , 0.9317845 , 0.96101403, 0.96478117, 1.0418208 ,\n               1.0739447 , 1.0190645 , 1.0858569 , 1.0399405 , 0.90390784,\n               0.99298257, 1.0034469 , 1.0492431 , 1.0182189 , 0.9916775 ,\n               0.9490979 , 1.1130989 , 0.8925848 , 1.0425828 , 0.93202925,\n               0.9989508 , 1.0734448 , 0.9368235 , 0.999743  , 0.9932177 ,\n               0.95135283, 0.9884577 , 0.9920852 , 0.9479781 , 0.9817806 ,\n               1.0920781 , 0.93395096, 0.9735202 , 1.0543363 , 0.990379  ,\n               0.96582264, 0.916176  , 0.96302396, 1.0083576 , 1.033461  ,\n               1.009611  , 1.0816927 , 0.952086  , 0.97456837, 1.0212516 ,\n               0.95337766, 1.0162597 , 0.9837333 , 0.98298395, 1.0615919 ,\n               1.099684  , 0.9974781 , 0.95457274, 0.92927486, 0.971545  ,\n               0.9814116 , 1.1627526 , 1.0386035 , 0.88405746, 1.053978  ],            dtype=float32),\n  'b4': DeviceArray([0.93149424], dtype=float32),\n  'w1': DeviceArray([[-0.05876336, -0.04700026, -0.04960461, ...,  0.07308919,\n                 0.00920752,  0.06007701],\n               [ 0.1086217 , -0.09640332, -0.06507037, ...,  0.09124897,\n                 0.072749  , -0.02754321],\n               [-0.11586922,  0.05525927,  0.00541744, ...,  0.09423427,\n                 0.08251018, -0.08945972],\n               ...,\n               [-0.01241592, -0.03585098,  0.00411692, ...,  0.09992145,\n                 0.0525205 ,  0.00704163],\n               [-0.02620811,  0.14886744,  0.03206279, ...,  0.0174484 ,\n                 0.03975162,  0.09764586],\n               [-0.08884548, -0.07946287, -0.00275965, ...,  0.01870719,\n                 0.02997452, -0.04100097]], dtype=float32),\n  'w2': DeviceArray([[-0.0424096 ,  0.03390296, -0.05568208, ..., -0.11769494,\n                -0.11464433,  0.04248939],\n               [-0.07159616, -0.02546921, -0.01102152, ...,  0.01815076,\n                -0.05493412, -0.03587   ],\n               [ 0.04706442,  0.02676512, -0.10835628, ..., -0.06036633,\n                -0.02603544, -0.03429644],\n               ...,\n               [ 0.06424819,  0.0567569 , -0.11263876, ...,  0.06240229,\n                -0.05127109, -0.0595424 ],\n               [ 0.04310725,  0.04742665,  0.03151795, ...,  0.0358815 ,\n                 0.08489519,  0.10907909],\n               [ 0.03526462, -0.06750306,  0.03929209, ..., -0.0138727 ,\n                 0.05564347, -0.00300943]], dtype=float32),\n  'w3': DeviceArray([[-6.99255615e-02,  5.21461070e-02,  6.12866692e-03, ...,\n                 1.39418077e-02,  2.88357884e-02,  1.26758352e-01],\n               [ 2.29397453e-02,  3.27551663e-02, -1.96632557e-03, ...,\n                -1.54154310e-02,  4.00581844e-02,  3.90080595e-03],\n               [ 2.04880968e-01,  5.51334433e-02,  1.05503738e-01, ...,\n                -6.99241692e-03, -1.07143126e-01,  8.69471300e-03],\n               ...,\n               [-1.04347304e-01, -5.72495833e-02,  8.56020376e-02, ...,\n                -3.99917476e-02, -1.13839366e-01,  6.86090738e-02],\n               [ 1.78044081e-01,  4.83590402e-02, -2.42675412e-02, ...,\n                 8.09703395e-03, -8.44059587e-02,  8.70999787e-03],\n               [-2.32748482e-02,  7.34266918e-03,  1.87519705e-04, ...,\n                -3.17252241e-02,  5.35803884e-02,  1.92118380e-02]],            dtype=float32),\n  'w4': DeviceArray([[ 1.21132970e-01],\n               [-7.22716562e-04],\n               [ 7.24236481e-03],\n               [ 1.10514127e-02],\n               [ 5.19484766e-02],\n               [ 9.10914987e-02],\n               [-2.35287137e-02],\n               [ 2.75056306e-02],\n               [-2.17574816e-02],\n               [-7.87138268e-02],\n               [ 4.00383845e-02],\n               [ 2.97076143e-02],\n               [-3.51380780e-02],\n               [-2.95787174e-02],\n               [-2.67147142e-02],\n               [ 1.17300814e-02],\n               [ 2.06166655e-02],\n               [-1.08117647e-01],\n               [-3.09648719e-02],\n               [ 7.37618357e-02],\n               [ 8.24498609e-02],\n               [-1.06578693e-02],\n               [-4.13618311e-02],\n               [-1.00667641e-01],\n               [ 3.90958302e-02],\n               [-7.97878206e-02],\n               [ 5.74722290e-02],\n               [-1.33859813e-02],\n               [-3.19034643e-02],\n               [ 9.05091241e-02],\n               [ 6.89904019e-02],\n               [-7.99392462e-02],\n               [-1.52798984e-02],\n               [ 9.89989862e-02],\n               [-1.81671288e-02],\n               [-1.49667505e-02],\n               [ 7.41415769e-02],\n               [ 2.57267244e-03],\n               [-6.10344186e-02],\n               [-4.85800803e-02],\n               [ 1.35366553e-02],\n               [-1.57354604e-02],\n               [-3.57945971e-02],\n               [-1.07747331e-01],\n               [-3.69151868e-02],\n               [ 7.43145030e-03],\n               [ 1.56019777e-01],\n               [-4.13571037e-02],\n               [-5.61010204e-02],\n               [ 7.38622993e-02],\n               [-3.32889073e-02],\n               [ 1.64397061e-05],\n               [-1.48941763e-02],\n               [ 8.52754153e-03],\n               [-2.87845619e-02],\n               [-1.15654301e-02],\n               [-1.47916321e-02],\n               [ 3.22368145e-02],\n               [ 1.96406990e-02],\n               [-9.74930301e-02],\n               [-9.29452293e-03],\n               [-7.41611868e-02],\n               [-3.49434167e-02],\n               [ 1.61758363e-02],\n               [-1.12373661e-02],\n               [ 1.85668084e-03],\n               [-1.31002534e-02],\n               [-1.52760046e-03],\n               [-1.22710504e-03],\n               [-2.52040699e-02],\n               [ 3.33699659e-02],\n               [ 1.81215927e-02],\n               [-1.25463933e-01],\n               [-3.61835212e-02],\n               [ 1.66255943e-02],\n               [ 4.87358794e-02],\n               [-3.58323455e-02],\n               [ 8.82134065e-02],\n               [-3.90335498e-03],\n               [-1.18581671e-03],\n               [ 3.02542131e-02],\n               [ 5.61102964e-02],\n               [-5.84864207e-02],\n               [ 1.25897769e-02],\n               [ 3.36344540e-02],\n               [-5.14798164e-02],\n               [ 5.84588060e-03],\n               [-1.44822020e-02],\n               [ 1.90416202e-02],\n               [-2.35325601e-02],\n               [ 7.86613449e-02],\n               [-1.02877915e-01],\n               [-9.44966152e-02],\n               [-1.67140272e-02],\n               [-7.26416195e-03],\n               [-1.77185573e-02],\n               [ 8.44566375e-02],\n               [ 6.01051375e-02],\n               [-5.16763814e-02],\n               [ 4.70426977e-02],\n               [-6.74812198e-02],\n               [-2.17618980e-02],\n               [-4.68847118e-02],\n               [-2.35641804e-02],\n               [-1.46293556e-02],\n               [ 2.56472901e-02],\n               [-1.16515532e-02],\n               [-3.94995604e-03],\n               [-2.52317619e-02],\n               [-1.26928404e-01],\n               [ 4.31647934e-02],\n               [-4.16009314e-03],\n               [ 2.23369524e-02],\n               [-8.34712014e-03],\n               [ 2.23029125e-03],\n               [-4.98746075e-02],\n               [-2.84992158e-03],\n               [-3.41202430e-02],\n               [-9.31062736e-03],\n               [-2.04910729e-02],\n               [-6.62396243e-03],\n               [-2.37905160e-02],\n               [ 4.99547273e-02],\n               [ 2.33874414e-02],\n               [-1.03749055e-02],\n               [-1.49329072e-02],\n               [-6.17305115e-02],\n               [ 5.67615926e-02],\n               [-3.42356488e-02],\n               [ 4.86873575e-02],\n               [-2.96206716e-02],\n               [ 5.62012121e-02],\n               [ 3.99736911e-02],\n               [-4.69007231e-02],\n               [ 1.98218785e-02],\n               [ 4.98399921e-02],\n               [ 7.07509220e-02],\n               [-1.61993966e-01],\n               [-8.07117224e-02],\n               [-8.58975574e-03],\n               [-2.81213298e-02],\n               [ 3.43298838e-02],\n               [ 7.47338235e-02],\n               [-1.26904584e-02],\n               [ 4.71178954e-03],\n               [ 9.63635296e-02],\n               [ 1.72740500e-02],\n               [-3.36198136e-02],\n               [ 1.72901228e-02],\n               [ 8.97530746e-03],\n               [ 2.74327490e-03],\n               [-5.86357117e-02],\n               [-4.90010483e-03],\n               [-7.37546757e-02],\n               [-8.15975387e-03],\n               [-9.68958531e-03],\n               [-8.44622478e-02],\n               [ 4.06388566e-02],\n               [-5.56857884e-02],\n               [-5.88393398e-02],\n               [ 2.16054078e-02],\n               [-2.73158913e-03],\n               [-4.10667956e-02],\n               [-1.41356103e-02],\n               [-1.26418192e-04],\n               [-2.43895277e-02],\n               [ 6.48706630e-02],\n               [ 2.33100038e-02],\n               [-2.94968598e-02],\n               [-1.22487247e-02],\n               [-5.31309769e-02],\n               [-2.03162264e-02],\n               [-5.51970080e-02],\n               [-3.76786292e-02],\n               [-9.74080339e-02],\n               [ 1.67967416e-02],\n               [-1.58878826e-02],\n               [-6.03588996e-04],\n               [-4.56385389e-02],\n               [ 4.72648405e-02],\n               [ 1.58325695e-02],\n               [-2.54714899e-02],\n               [ 4.38787695e-03],\n               [ 5.94658405e-02],\n               [-5.62565550e-02],\n               [-1.33048147e-02],\n               [-3.11337458e-03],\n               [-1.23864606e-01],\n               [ 6.54559359e-02],\n               [-3.68886888e-02],\n               [-4.49892040e-03],\n               [-2.00607553e-02],\n               [-2.69925874e-03],\n               [-1.00181945e-01],\n               [-3.86085808e-02],\n               [-9.58989859e-02],\n               [ 5.77716157e-02],\n               [ 2.26106644e-02],\n               [-9.75681562e-03],\n               [ 4.13983949e-02]], dtype=float32)}}"
     },
     "execution_count": 39,
     "metadata": {},
     "output_type": "execute_result"
    }
   ],
   "source": [
    "param_mean"
   ],
   "metadata": {
    "collapsed": false,
    "pycharm": {
     "name": "#%%\n"
    }
   }
  },
  {
   "cell_type": "code",
   "execution_count": 31,
   "outputs": [
    {
     "data": {
      "text/plain": "DeviceArray(0.8484848, dtype=float32)"
     },
     "execution_count": 31,
     "metadata": {},
     "output_type": "execute_result"
    }
   ],
   "source": [
    "f1_score(y_test, model_prediction(model, param_mean, X_test, gamma_mean))"
   ],
   "metadata": {
    "collapsed": false,
    "pycharm": {
     "name": "#%%\n"
    }
   }
  },
  {
   "cell_type": "code",
   "execution_count": 32,
   "outputs": [
    {
     "data": {
      "text/plain": "DeviceArray(0.9859155, dtype=float32)"
     },
     "execution_count": 32,
     "metadata": {},
     "output_type": "execute_result"
    }
   ],
   "source": [
    "recall(y_test, model_prediction(model, param_mean, X_test, states.discrete_position[3]))"
   ],
   "metadata": {
    "collapsed": false,
    "pycharm": {
     "name": "#%%\n"
    }
   }
  },
  {
   "cell_type": "code",
   "execution_count": 33,
   "outputs": [
    {
     "data": {
      "text/plain": "DeviceArray(0.7446808, dtype=float32)"
     },
     "execution_count": 33,
     "metadata": {},
     "output_type": "execute_result"
    }
   ],
   "source": [
    "precision(y_test, model_prediction(model, param_mean, X_test, states.discrete_position[3]))"
   ],
   "metadata": {
    "collapsed": false,
    "pycharm": {
     "name": "#%%\n"
    }
   }
  },
  {
   "cell_type": "code",
   "execution_count": 34,
   "outputs": [
    {
     "data": {
      "text/plain": "DeviceArray([   1,    4,    5,    6,    7,   10,   12,   14,   15,   16,\n               17,   18,   20,   25,   26,   29,   30,   38,   39,   40,\n               43,   44,   45,   46,   47,   50,   51,   57,   61,   62,\n               63,   64,   66,   68,   70,   79,   81,   83,   84,   86,\n               88,   89,   91,   92,   93,   94,   95,   97,   99,  109,\n              110,  112,  113,  115,  116,  117,  119,  120,  121,  123,\n              124,  126,  127,  130,  137,  138,  140,  141,  143,  147,\n              148,  151,  152,  153,  160,  161,  162,  164,  166,  168,\n              170,  172,  173,  175,  178,  179,  180,  181,  182,  184,\n              189,  191,  193,  201,  202,  203,  205,  206,  208,  210,\n              211,  214,  216,  217,  218,  220,  223,  226,  229,  230,\n              232,  235,  236,  238,  239,  240,  242,  244,  247,  250,\n              253,  256,  257,  260,  264,  266,  267,  269,  270,  271,\n              272,  276,  277,  278,  279,  283,  284,  285,  286,  288,\n              289,  290,  291,  292,  295,  298,  299,  302,  303,  305,\n              308,  310,  311,  312,  313,  314,  321,  322,  324,  325,\n              326,  329,  330,  331,  332,  334,  335,  339,  340,  341,\n              346,  347,  350,  352,  353,  359,  361,  365,  367,  368,\n              369,  372,  374,  375,  377,  378,  383,  384,  385,  386,\n              389,  394,  395,  397,  399,  400,  401,  403,  404,  405,\n              406,  407,  408,  410,  412,  415,  416,  418,  419,  421,\n              424,  425,  426,  427,  428,  429,  430,  431,  433,  434,\n              438,  441,  443,  444,  446,  448,  450,  453,  454,  455,\n              456,  458,  459,  461,  465,  469,  470,  474,  477,  481,\n              485,  486,  490,  492,  494,  498,  499,  500,  502,  504,\n              507,  512,  513,  516,  519,  520,  522,  526,  528,  529,\n              531,  532,  533,  534,  536,  541,  542,  545,  546,  547,\n              549,  550,  551,  552,  554,  556,  560,  562,  563,  564,\n              565,  567,  569,  570,  572,  582,  583,  584,  586,  587,\n              588,  590,  592,  594,  598,  601,  602,  605,  609,  610,\n              612,  614,  615,  616,  619,  620,  623,  624,  626,  627,\n              629,  631,  634,  635,  637,  639,  641,  642,  644,  648,\n              650,  656,  658,  660,  663,  669,  671,  672,  675,  676,\n              678,  682,  687,  690,  692,  701,  704,  706,  707,  708,\n              709,  710,  711,  714,  715,  716,  720,  721,  722,  723,\n              725,  728,  730,  733,  734,  735,  737,  738,  739,  740,\n              741,  742,  743,  745,  747,  748,  749,  751,  752,  760,\n              762,  763,  765,  767,  768,  769,  770,  771,  772,  773,\n              774,  782,  783,  787,  790,  791,  794,  798,  799,  800,\n              801,  802,  803,  808,  809,  810,  811,  812,  813,  815,\n              816,  817,  823,  824,  827,  831,  833,  836,  837,  839,\n              840,  841,  842,  843,  845,  846,  848,  851,  852,  853,\n              855,  856,  857,  859,  860,  861,  862,  864,  866,  870,\n              872,  873,  876,  877,  878,  879,  882,  883,  885,  886,\n              887,  890,  891,  892,  893,  897,  898,  900,  901,  904,\n              905,  906,  907,  908,  909,  910,  911,  914,  915,  916,\n              918,  920,  921,  925,  928,  931,  933,  937,  938,  939,\n              944,  946,  947,  948,  950,  952,  954,  955,  957,  958,\n              959,  960,  961,  962,  963,  965,  973,  975,  976,  978,\n              979,  982,  985,  987,  989,  991,  992,  999, 1000, 1001,\n             1006, 1007, 1009, 1015, 1017, 1019, 1022, 1025, 1030, 1031,\n             1033, 1036, 1037, 1039, 1040, 1041, 1042, 1045, 1046, 1047,\n             1050, 1052, 1053, 1054, 1055, 1057, 1058, 1060, 1063, 1064,\n             1065, 1066, 1067, 1068, 1071, 1072, 1077, 1078, 1079, 1081,\n             1082, 1083, 1084, 1085, 1086, 1087, 1092, 1095, 1098, 1099,\n             1101, 1102, 1106, 1108, 1112, 1115, 1116, 1117, 1118, 1119,\n             1120, 1122, 1126, 1127, 1128, 1130, 1132, 1133, 1135, 1138,\n             1139, 1141, 1142, 1143, 1144, 1145, 1147, 1148, 1155, 1161,\n             1162, 1163, 1164, 1165, 1168, 1169, 1174, 1177, 1184, 1185,\n             1187, 1188, 1190, 1191, 1193, 1194, 1195, 1198, 1199, 1202,\n             1203, 1210, 1211, 1212, 1215, 1216, 1217, 1218, 1221, 1223,\n             1224, 1226, 1230, 1233, 1234, 1236, 1237, 1240, 1241, 1244,\n             1245, 1247, 1248, 1251, 1253, 1254, 1256, 1257, 1259, 1260,\n             1262, 1263, 1264, 1266, 1267, 1268, 1270, 1273, 1276, 1283,\n             1284, 1287, 1288, 1289, 1292, 1294, 1295, 1297, 1298, 1305,\n             1306, 1307, 1308, 1309, 1311, 1312, 1316, 1317, 1319, 1320,\n             1321, 1324, 1325, 1327, 1328, 1332, 1334, 1335, 1338, 1339,\n             1340, 1344, 1345, 1349, 1352, 1353, 1356, 1357, 1358, 1359,\n             1361, 1362, 1365, 1370, 1372, 1374, 1375, 1376, 1380, 1381,\n             1386, 1387, 1389, 1390, 1391, 1393, 1395, 1396, 1398, 1399,\n             1401, 1402, 1405, 1406, 1408, 1411, 1413, 1415, 1418, 1422,\n             1423, 1425, 1427, 1428, 1430, 1432, 1433, 1437, 1438, 1443,\n             1444, 1445, 1448, 1449, 1450, 1451, 1452, 1455, 1457, 1461,\n             1464, 1469, 1470, 1472, 1473, 1479, 1481, 1482, 1483, 1484,\n             1485, 1487, 1488, 1490, 1494, 1495, 1497, 1502, 1503, 1506,\n             1509], dtype=int32)"
     },
     "execution_count": 34,
     "metadata": {},
     "output_type": "execute_result"
    }
   ],
   "source": [
    "jnp.argwhere(gamma_mean > 0.9).ravel()"
   ],
   "metadata": {
    "collapsed": false,
    "pycharm": {
     "name": "#%%\n"
    }
   }
  },
  {
   "cell_type": "code",
   "execution_count": 36,
   "outputs": [
    {
     "data": {
      "text/plain": "DeviceArray([1., 1., 1., 1., 1., 1., 1., 1., 1., 1., 1., 1., 1., 1., 1.,\n             1., 1., 1., 1., 1., 1., 1., 1., 1., 1., 1., 1., 1., 1., 1.,\n             1., 1., 1., 1., 1., 1., 1., 1., 1., 1., 1., 1., 1., 1., 1.,\n             1., 1., 1., 1., 1., 1., 1., 1., 1., 1., 1., 1., 1., 1., 1.,\n             1., 1., 0., 1., 1., 1., 1., 1., 1., 1., 1., 1., 1., 1., 1.,\n             1., 1., 1., 1., 0., 1., 1., 1., 1., 1., 1., 1., 1., 1., 1.,\n             1., 1., 1., 1., 1., 1., 1., 1., 1., 1., 1., 1., 1., 1., 1.,\n             1., 1., 1., 1., 1., 1., 1., 1., 1., 1., 1., 1., 1., 1., 1.,\n             1., 1., 1., 1., 1., 1., 0., 0., 1., 1., 1., 1., 1., 1., 1.,\n             1., 1., 1., 1., 1., 1., 1., 1., 1., 1., 1., 1., 1., 1., 1.,\n             1., 1., 1., 1., 1., 1., 1., 1., 1., 1., 1., 1., 1., 1., 1.,\n             1., 1., 1., 1., 1., 1., 1., 1., 1., 1., 1., 1., 1., 1., 1.,\n             1., 1., 0., 1., 1., 1., 1., 1., 1., 1., 1., 1., 1.],            dtype=float32)"
     },
     "execution_count": 36,
     "metadata": {},
     "output_type": "execute_result"
    }
   ],
   "source": [
    "model_prediction(model, param_mean, X_test, gamma_mean)"
   ],
   "metadata": {
    "collapsed": false,
    "pycharm": {
     "name": "#%%\n"
    }
   }
  },
  {
   "cell_type": "code",
   "execution_count": 38,
   "outputs": [
    {
     "data": {
      "text/plain": "0.6242985409652076"
     },
     "execution_count": 38,
     "metadata": {},
     "output_type": "execute_result"
    }
   ],
   "source": [
    "roc_auc_score(y_val, jax.nn.sigmoid(model.apply(param_mean, X_val, gamma_mean).ravel()))"
   ],
   "metadata": {
    "collapsed": false,
    "pycharm": {
     "name": "#%%\n"
    }
   }
  },
  {
   "cell_type": "code",
   "execution_count": 98,
   "outputs": [
    {
     "data": {
      "text/plain": "DeviceArray([0.29704967, 0.29704967, 0.29704967, 0.29704967, 0.29704967,\n             0.29704967, 0.29704967, 0.29704967, 0.29704967, 0.29704967,\n             0.29704967, 0.29704967, 0.29704967, 0.29704967, 0.29704967,\n             0.29704967, 0.29704967, 0.29704967, 0.29704967, 0.29704967,\n             0.29704967, 0.29704967, 0.29704967, 0.29704967, 0.29704967,\n             0.29704967, 0.29704967, 0.29704967, 0.29704967, 0.29704967,\n             0.29704967, 0.29704967, 0.29704967, 0.29704967, 0.29704967,\n             0.29704967, 0.29704967, 0.29704967, 0.29704967, 0.29704967,\n             0.29704967, 0.29704967, 0.29704967, 0.29704967, 0.29704967,\n             0.29704967, 0.29704967, 0.29704967, 0.29704967, 0.29704967,\n             0.29704967, 0.29704967, 0.29704967, 0.29704967, 0.29704967,\n             0.29704967, 0.29704967, 0.29704967, 0.29704967, 0.29704967,\n             0.29704967, 0.29704967, 0.29704967, 0.29704967, 0.29704967,\n             0.29704967, 0.29704967, 0.29704967, 0.29704967, 0.29704967,\n             0.29704967, 0.29704967, 0.29704967, 0.29704967, 0.29704967,\n             0.29704967, 0.29704967, 0.29704967, 0.29704967, 0.29704967,\n             0.29704967, 0.29704967, 0.29704967, 0.29704967, 0.29704967,\n             0.29704967, 0.29704967, 0.29704967, 0.29704967, 0.29704967,\n             0.29704967, 0.29704967, 0.29704967, 0.29704967, 0.29704967,\n             0.29704967, 0.29704967, 0.29704967, 0.29704967, 0.29704967,\n             0.29704967, 0.29704967, 0.29704967, 0.29704967, 0.29704967,\n             0.29704967, 0.29704967, 0.29704967, 0.29704967, 0.29704967,\n             0.29704967, 0.29704967, 0.29704967, 0.29704967, 0.29704967,\n             0.29704967, 0.29704967, 0.29704967, 0.29704967, 0.29704967,\n             0.29704967, 0.29704967, 0.29704967, 0.29704967, 0.29704967,\n             0.29704967, 0.29704967, 0.29704967, 0.29704967, 0.29704967,\n             0.29704967, 0.29704967, 0.29704967, 0.29704967, 0.29704967,\n             0.29704967, 0.29704967, 0.29704967, 0.29704967, 0.29704967,\n             0.29704967, 0.29704967, 0.29704967, 0.29704967, 0.29704967,\n             0.29704967, 0.29704967, 0.29704967, 0.29704967, 0.29704967,\n             0.29704967, 0.29704967, 0.29704967, 0.29704967, 0.29704967,\n             0.29704967, 0.29704967, 0.29704967, 0.29704967, 0.29704967,\n             0.29704967, 0.29704967, 0.29704967, 0.29704967, 0.29704967,\n             0.29704967, 0.29704967, 0.29704967, 0.29704967, 0.29704967,\n             0.29704967, 0.29704967, 0.29704967, 0.29704967, 0.29704967,\n             0.29704967, 0.29704967, 0.29704967, 0.29704967, 0.29704967,\n             0.29704967, 0.29704967, 0.29704967, 0.29704967, 0.29704967,\n             0.29704967, 0.29704967, 0.29704967, 0.29704967, 0.29704967,\n             0.29704967, 0.29704967, 0.29704967, 0.29704967, 0.29704967,\n             0.29704967, 0.29704967, 0.29704967, 0.29704967, 0.29704967,\n             0.29704967, 0.29704967, 0.29704967, 0.29704967, 0.29704967,\n             0.29704967, 0.29704967, 0.29704967, 0.29704967, 0.29704967,\n             0.29704967, 0.29704967, 0.29704967, 0.29704967, 0.29704967,\n             0.29704967, 0.29704967, 0.29704967, 0.29704967, 0.29704967,\n             0.29704967, 0.29704967, 0.29704967, 0.29704967, 0.29704967,\n             0.29704967, 0.29704967, 0.29704967, 0.29704967, 0.29704967,\n             0.29704967, 0.29704967, 0.29704967, 0.29704967, 0.29704967,\n             0.29704967, 0.29704967, 0.29704967, 0.29704967, 0.29704967,\n             0.29704967, 0.29704967, 0.29704967, 0.29704967, 0.29704967,\n             0.29704967, 0.29704967, 0.29704967, 0.29704967, 0.29704967,\n             0.29704967, 0.29704967, 0.29704967, 0.29704967, 0.29704967,\n             0.29704967, 0.29704967, 0.29704967, 0.29704967, 0.29704967,\n             0.29704967, 0.29704967, 0.29704967, 0.29704967, 0.29704967,\n             0.29704967, 0.29704967, 0.29704967, 0.29704967, 0.29704967,\n             0.29704967, 0.29704967, 0.29704967, 0.29704967, 0.29704967,\n             0.29704967, 0.29704967, 0.29704967, 0.29704967, 0.29704967,\n             0.29704967, 0.29704967, 0.29704967, 0.29704967, 0.29704967,\n             0.29704967, 0.29704967, 0.29704967, 0.29704967, 0.29704967,\n             0.29704967, 0.29704967, 0.29704967, 0.29704967, 0.29704967,\n             0.29704967, 0.29704967, 0.29704967, 0.29704967, 0.29704967,\n             0.29704967, 0.29704967, 0.29704967, 0.29704967, 0.29704967,\n             0.29704967, 0.29704967, 0.29704967, 0.29704967, 0.29704967,\n             0.29704967, 0.29704967, 0.29704967, 0.29704967, 0.29704967,\n             0.29704967, 0.29704967, 0.29704967, 0.29704967, 0.29704967,\n             0.29704967, 0.29704967, 0.29704967, 0.29704967, 0.29704967,\n             0.29704967, 0.29704967, 0.29704967, 0.29704967, 0.29704967,\n             0.29704967, 0.29704967, 0.29704967, 0.29704967, 0.29704967,\n             0.29704967, 0.29704967, 0.29704967, 0.29704967, 0.29704967,\n             0.29704967, 0.29704967, 0.29704967, 0.29704967, 0.29704967,\n             0.29704967, 0.29704967, 0.29704967, 0.29704967, 0.29704967,\n             0.29704967, 0.29704967, 0.29704967, 0.29704967, 0.29704967,\n             0.29704967, 0.29704967, 0.29704967, 0.29704967, 0.29704967,\n             0.29704967, 0.29704967, 0.29704967, 0.29704967, 0.29704967,\n             0.29704967, 0.29704967, 0.29704967, 0.29704967, 0.29704967,\n             0.29704967, 0.29704967, 0.29704967, 0.29704967, 0.29704967],            dtype=float32)"
     },
     "execution_count": 98,
     "metadata": {},
     "output_type": "execute_result"
    }
   ],
   "source": [
    "jax.nn.sigmoid(model.apply(param_mean, X_val, gamma_mean).ravel())"
   ],
   "metadata": {
    "collapsed": false,
    "pycharm": {
     "name": "#%%\n"
    }
   }
  },
  {
   "cell_type": "code",
   "execution_count": 81,
   "outputs": [
    {
     "data": {
      "text/plain": "DeviceArray([1, 0, 0, 1, 1, 0, 1, 1, 1, 1, 1, 0, 1, 0, 1, 1, 0, 0, 1, 1,\n             0, 1, 0, 1, 1, 1, 0, 1, 1, 1, 1, 0, 0, 0, 1, 1, 0, 1, 1, 1,\n             1, 1, 0, 1, 1, 1, 0, 1, 1, 1, 1, 0, 0, 1, 1, 0, 1, 1, 1, 1,\n             1, 1, 0, 0, 1, 1, 0, 0, 1, 1, 1, 1, 1, 1, 0, 0, 0, 0, 0, 0,\n             1, 1, 1, 0, 1, 1, 1, 1, 1, 0, 1, 0, 1, 1, 0, 0, 0, 0, 1, 0,\n             0, 0, 1, 0, 1, 0, 1, 0, 0, 1, 0, 1, 1, 0, 0, 0, 1, 1, 0, 1,\n             0, 1, 1, 0, 0, 1, 1, 0, 0, 1, 1, 0, 0, 1, 1, 0, 0, 0, 1, 1,\n             0, 1, 1, 0, 1, 1, 1, 0, 1, 1, 1, 1, 1, 1, 0, 1, 0, 1, 0, 1,\n             0, 1, 1, 1, 1, 1, 0, 0, 1, 1, 0, 1, 0, 0, 1, 1, 0, 0, 1, 1,\n             1, 0, 0, 1, 0, 1, 1, 0, 0, 0, 0, 0, 0, 1, 0, 1, 0, 1, 0, 1,\n             1, 0, 1, 1, 0, 1, 1, 1, 1, 1, 1, 0, 0, 1, 1, 0, 1, 1, 0, 0,\n             0, 0, 1, 0, 1, 1, 1, 1, 0, 0, 0, 1, 1, 0, 1, 0, 0, 1, 0, 1,\n             1, 1, 1, 1, 1, 1, 0, 0, 0, 1, 0, 0, 1, 0, 1, 1, 1, 0, 1, 0,\n             0, 1, 1, 0, 1, 1, 1, 1, 0, 0, 1, 1, 1, 1, 1, 1, 1, 1, 1, 0,\n             1, 1, 1, 1, 0, 1, 1, 0, 1, 1, 1, 1, 1, 0, 1, 1, 1, 1, 1, 1,\n             0, 1, 1, 1, 0, 1, 1, 0, 0, 0, 0, 1, 0, 1, 0, 1, 0, 1, 1, 0,\n             1, 0, 1, 0, 1, 0, 0, 0, 1, 1, 0, 0, 1, 1, 1, 1, 0, 0, 1, 0,\n             0, 1, 1, 1, 1, 1, 0, 1, 1, 0, 1, 0, 1, 1, 0, 1, 0, 0, 1, 0,\n             1, 1, 1, 1, 0, 1, 0, 0, 1, 1, 1, 0, 1, 1, 1], dtype=int32)"
     },
     "execution_count": 81,
     "metadata": {},
     "output_type": "execute_result"
    }
   ],
   "source": [
    "y_val"
   ],
   "metadata": {
    "collapsed": false,
    "pycharm": {
     "name": "#%%\n"
    }
   }
  },
  {
   "cell_type": "code",
   "execution_count": null,
   "outputs": [],
   "source": [],
   "metadata": {
    "collapsed": false,
    "pycharm": {
     "name": "#%%\n"
    }
   }
  }
 ],
 "metadata": {
  "kernelspec": {
   "display_name": "Python 3",
   "language": "python",
   "name": "python3"
  },
  "language_info": {
   "codemirror_mode": {
    "name": "ipython",
    "version": 2
   },
   "file_extension": ".py",
   "mimetype": "text/x-python",
   "name": "python",
   "nbconvert_exporter": "python",
   "pygments_lexer": "ipython2",
   "version": "2.7.6"
  }
 },
 "nbformat": 4,
 "nbformat_minor": 0
}