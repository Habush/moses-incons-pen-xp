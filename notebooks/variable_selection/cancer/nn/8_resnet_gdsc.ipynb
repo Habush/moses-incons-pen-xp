{
 "cells": [
  {
   "cell_type": "code",
   "execution_count": 1,
   "metadata": {
    "pycharm": {
     "name": "#%%\n"
    }
   },
   "outputs": [
    {
     "name": "stdout",
     "output_type": "stream",
     "text": [
      "Looking in links: https://storage.googleapis.com/jax-releases/jax_cuda_releases.html\r\n",
      "Collecting jaxlib[cuda112]==0.3.15\r\n",
      "  Downloading https://storage.googleapis.com/jax-releases/cuda11/jaxlib-0.3.15%2Bcuda11.cudnn82-cp39-none-manylinux2014_x86_64.whl (162.7 MB)\r\n",
      "\u001B[2K     \u001B[90m━━━━━━━━━━━━━━━━━━━━━━━━━━━━━━━━━━━━━━\u001B[0m \u001B[32m162.7/162.7 MB\u001B[0m \u001B[31m13.5 MB/s\u001B[0m eta \u001B[36m0:00:00\u001B[0m00:01\u001B[0m00:01\u001B[0m\r\n",
      "\u001B[?25h\u001B[33mWARNING: jaxlib 0.3.15+cuda11.cudnn82 does not provide the extra 'cuda112'\u001B[0m\u001B[33m\r\n",
      "\u001B[0mRequirement already satisfied: absl-py in /usr/local/lib/python3.9/dist-packages (from jaxlib[cuda112]==0.3.15) (1.1.0)\r\n",
      "Requirement already satisfied: numpy>=1.19 in /usr/local/lib/python3.9/dist-packages (from jaxlib[cuda112]==0.3.15) (1.23.1)\r\n",
      "Requirement already satisfied: scipy>=1.5 in /usr/local/lib/python3.9/dist-packages (from jaxlib[cuda112]==0.3.15) (1.8.1)\r\n",
      "Installing collected packages: jaxlib\r\n",
      "  Attempting uninstall: jaxlib\r\n",
      "    Found existing installation: jaxlib 0.3.8+cuda11.cudnn82\r\n",
      "    Uninstalling jaxlib-0.3.8+cuda11.cudnn82:\r\n",
      "      Successfully uninstalled jaxlib-0.3.8+cuda11.cudnn82\r\n",
      "Successfully installed jaxlib-0.3.15+cuda11.cudnn82\r\n",
      "\u001B[33mWARNING: Running pip as the 'root' user can result in broken permissions and conflicting behaviour with the system package manager. It is recommended to use a virtual environment instead: https://pip.pypa.io/warnings/venv\u001B[0m\u001B[33m\r\n",
      "\u001B[0mLooking in links: https://storage.googleapis.com/jax-releases/jax_cuda_releases.html\r\n",
      "Collecting jax[cuda112]==0.3.17\r\n",
      "  Downloading jax-0.3.17.tar.gz (1.1 MB)\r\n",
      "\u001B[2K     \u001B[90m━━━━━━━━━━━━━━━━━━━━━━━━━━━━━━━━━━━━━━━━\u001B[0m \u001B[32m1.1/1.1 MB\u001B[0m \u001B[31m62.2 MB/s\u001B[0m eta \u001B[36m0:00:00\u001B[0m\r\n",
      "\u001B[?25h  Preparing metadata (setup.py) ... \u001B[?25ldone\r\n",
      "\u001B[33mWARNING: jax 0.3.17 does not provide the extra 'cuda112'\u001B[0m\u001B[33m\r\n",
      "\u001B[0m\u001B[?25hRequirement already satisfied: absl-py in /usr/local/lib/python3.9/dist-packages (from jax[cuda112]==0.3.17) (1.1.0)\r\n",
      "Requirement already satisfied: numpy>=1.20 in /usr/local/lib/python3.9/dist-packages (from jax[cuda112]==0.3.17) (1.23.1)\r\n",
      "Requirement already satisfied: opt_einsum in /usr/local/lib/python3.9/dist-packages (from jax[cuda112]==0.3.17) (3.3.0)\r\n",
      "Requirement already satisfied: scipy>=1.5 in /usr/local/lib/python3.9/dist-packages (from jax[cuda112]==0.3.17) (1.8.1)\r\n",
      "Requirement already satisfied: typing_extensions in /usr/local/lib/python3.9/dist-packages (from jax[cuda112]==0.3.17) (4.3.0)\r\n",
      "Requirement already satisfied: etils[epath] in /usr/local/lib/python3.9/dist-packages (from jax[cuda112]==0.3.17) (0.6.0)\r\n",
      "Requirement already satisfied: importlib_resources in /usr/local/lib/python3.9/dist-packages (from etils[epath]->jax[cuda112]==0.3.17) (5.8.0)\r\n",
      "Requirement already satisfied: zipp in /usr/local/lib/python3.9/dist-packages (from etils[epath]->jax[cuda112]==0.3.17) (3.8.1)\r\n",
      "Building wheels for collected packages: jax\r\n",
      "  Building wheel for jax (setup.py) ... \u001B[?25ldone\r\n",
      "\u001B[?25h  Created wheel for jax: filename=jax-0.3.17-py3-none-any.whl size=1217849 sha256=b3c9a976db17c191e23c35f155901cc69d126540cdb47daccbd700a3e9ae6c78\r\n",
      "  Stored in directory: /root/.cache/pip/wheels/36/cd/88/2d90379f7549c27d5654e893f74210f30f0c645c23a71e6f56\r\n",
      "Successfully built jax\r\n",
      "Installing collected packages: jax\r\n",
      "  Attempting uninstall: jax\r\n",
      "    Found existing installation: jax 0.3.14\r\n",
      "    Uninstalling jax-0.3.14:\r\n",
      "      Successfully uninstalled jax-0.3.14\r\n",
      "Successfully installed jax-0.3.17\r\n",
      "\u001B[33mWARNING: Running pip as the 'root' user can result in broken permissions and conflicting behaviour with the system package manager. It is recommended to use a virtual environment instead: https://pip.pypa.io/warnings/venv\u001B[0m\u001B[33m\r\n",
      "\u001B[0mCollecting optax\r\n",
      "  Downloading optax-0.1.4-py3-none-any.whl (154 kB)\r\n",
      "\u001B[2K     \u001B[90m━━━━━━━━━━━━━━━━━━━━━━━━━━━━━━━━━━━━━━\u001B[0m \u001B[32m154.9/154.9 kB\u001B[0m \u001B[31m27.5 MB/s\u001B[0m eta \u001B[36m0:00:00\u001B[0m\r\n",
      "\u001B[?25hRequirement already satisfied: jax>=0.1.55 in /usr/local/lib/python3.9/dist-packages (from optax) (0.3.17)\r\n",
      "Requirement already satisfied: typing-extensions>=3.10.0 in /usr/local/lib/python3.9/dist-packages (from optax) (4.3.0)\r\n",
      "Collecting chex>=0.1.5\r\n",
      "  Downloading chex-0.1.5-py3-none-any.whl (85 kB)\r\n",
      "\u001B[2K     \u001B[90m━━━━━━━━━━━━━━━━━━━━━━━━━━━━━━━━━━━━━━━━\u001B[0m \u001B[32m85.3/85.3 kB\u001B[0m \u001B[31m26.3 MB/s\u001B[0m eta \u001B[36m0:00:00\u001B[0m\r\n",
      "\u001B[?25hRequirement already satisfied: absl-py>=0.7.1 in /usr/local/lib/python3.9/dist-packages (from optax) (1.1.0)\r\n",
      "Requirement already satisfied: numpy>=1.18.0 in /usr/local/lib/python3.9/dist-packages (from optax) (1.23.1)\r\n",
      "Requirement already satisfied: jaxlib>=0.1.37 in /usr/local/lib/python3.9/dist-packages (from optax) (0.3.15+cuda11.cudnn82)\r\n",
      "Collecting toolz>=0.9.0\r\n",
      "  Downloading toolz-0.12.0-py3-none-any.whl (55 kB)\r\n",
      "\u001B[2K     \u001B[90m━━━━━━━━━━━━━━━━━━━━━━━━━━━━━━━━━━━━━━━━\u001B[0m \u001B[32m55.8/55.8 kB\u001B[0m \u001B[31m18.6 MB/s\u001B[0m eta \u001B[36m0:00:00\u001B[0m\r\n",
      "\u001B[?25hCollecting dm-tree>=0.1.5\r\n",
      "  Downloading dm_tree-0.1.7-cp39-cp39-manylinux_2_12_x86_64.manylinux2010_x86_64.whl (142 kB)\r\n",
      "\u001B[2K     \u001B[90m━━━━━━━━━━━━━━━━━━━━━━━━━━━━━━━━━━━━━━\u001B[0m \u001B[32m142.7/142.7 kB\u001B[0m \u001B[31m39.6 MB/s\u001B[0m eta \u001B[36m0:00:00\u001B[0m\r\n",
      "\u001B[?25hRequirement already satisfied: opt-einsum in /usr/local/lib/python3.9/dist-packages (from jax>=0.1.55->optax) (3.3.0)\r\n",
      "Requirement already satisfied: etils[epath] in /usr/local/lib/python3.9/dist-packages (from jax>=0.1.55->optax) (0.6.0)\r\n",
      "Requirement already satisfied: scipy>=1.5 in /usr/local/lib/python3.9/dist-packages (from jax>=0.1.55->optax) (1.8.1)\r\n",
      "Requirement already satisfied: zipp in /usr/local/lib/python3.9/dist-packages (from etils[epath]->jax>=0.1.55->optax) (3.8.1)\r\n",
      "Requirement already satisfied: importlib_resources in /usr/local/lib/python3.9/dist-packages (from etils[epath]->jax>=0.1.55->optax) (5.8.0)\r\n",
      "Installing collected packages: dm-tree, toolz, chex, optax\r\n",
      "Successfully installed chex-0.1.5 dm-tree-0.1.7 optax-0.1.4 toolz-0.12.0\r\n",
      "\u001B[33mWARNING: Running pip as the 'root' user can result in broken permissions and conflicting behaviour with the system package manager. It is recommended to use a virtual environment instead: https://pip.pypa.io/warnings/venv\u001B[0m\u001B[33m\r\n",
      "\u001B[0mCollecting dm-haiku\r\n",
      "  Downloading dm_haiku-0.0.9-py3-none-any.whl (352 kB)\r\n",
      "\u001B[2K     \u001B[90m━━━━━━━━━━━━━━━━━━━━━━━━━━━━━━━━━━━━━━\u001B[0m \u001B[32m352.1/352.1 kB\u001B[0m \u001B[31m29.0 MB/s\u001B[0m eta \u001B[36m0:00:00\u001B[0m\r\n",
      "\u001B[?25hRequirement already satisfied: numpy>=1.18.0 in /usr/local/lib/python3.9/dist-packages (from dm-haiku) (1.23.1)\r\n",
      "Requirement already satisfied: absl-py>=0.7.1 in /usr/local/lib/python3.9/dist-packages (from dm-haiku) (1.1.0)\r\n",
      "Collecting jmp>=0.0.2\r\n",
      "  Downloading jmp-0.0.2-py3-none-any.whl (16 kB)\r\n",
      "Collecting tabulate>=0.8.9\r\n",
      "  Downloading tabulate-0.9.0-py3-none-any.whl (35 kB)\r\n",
      "Installing collected packages: tabulate, jmp, dm-haiku\r\n",
      "Successfully installed dm-haiku-0.0.9 jmp-0.0.2 tabulate-0.9.0\r\n",
      "\u001B[33mWARNING: Running pip as the 'root' user can result in broken permissions and conflicting behaviour with the system package manager. It is recommended to use a virtual environment instead: https://pip.pypa.io/warnings/venv\u001B[0m\u001B[33m\r\n",
      "\u001B[0mCollecting tensorflow-probability==0.17\r\n",
      "  Downloading tensorflow_probability-0.17.0-py2.py3-none-any.whl (6.5 MB)\r\n",
      "\u001B[2K     \u001B[90m━━━━━━━━━━━━━━━━━━━━━━━━━━━━━━━━━━━━━━━━\u001B[0m \u001B[32m6.5/6.5 MB\u001B[0m \u001B[31m62.3 MB/s\u001B[0m eta \u001B[36m0:00:00\u001B[0m00:01\u001B[0m00:01\u001B[0m\r\n",
      "\u001B[?25hRequirement already satisfied: decorator in /usr/local/lib/python3.9/dist-packages (from tensorflow-probability==0.17) (5.1.1)\r\n",
      "Requirement already satisfied: cloudpickle>=1.3 in /usr/local/lib/python3.9/dist-packages (from tensorflow-probability==0.17) (2.1.0)\r\n",
      "Requirement already satisfied: dm-tree in /usr/local/lib/python3.9/dist-packages (from tensorflow-probability==0.17) (0.1.7)\r\n",
      "Requirement already satisfied: gast>=0.3.2 in /usr/local/lib/python3.9/dist-packages (from tensorflow-probability==0.17) (0.4.0)\r\n",
      "Requirement already satisfied: absl-py in /usr/local/lib/python3.9/dist-packages (from tensorflow-probability==0.17) (1.1.0)\r\n",
      "Requirement already satisfied: numpy>=1.13.3 in /usr/local/lib/python3.9/dist-packages (from tensorflow-probability==0.17) (1.23.1)\r\n",
      "Requirement already satisfied: six>=1.10.0 in /usr/lib/python3/dist-packages (from tensorflow-probability==0.17) (1.14.0)\r\n",
      "Installing collected packages: tensorflow-probability\r\n",
      "Successfully installed tensorflow-probability-0.17.0\r\n",
      "\u001B[33mWARNING: Running pip as the 'root' user can result in broken permissions and conflicting behaviour with the system package manager. It is recommended to use a virtual environment instead: https://pip.pypa.io/warnings/venv\u001B[0m\u001B[33m\r\n",
      "\u001B[0mCollecting git+https://github.com/blackjax-devs/blackjax.git\r\n",
      "  Cloning https://github.com/blackjax-devs/blackjax.git to /tmp/pip-req-build-_wcbxo7l\r\n",
      "  Running command git clone --filter=blob:none --quiet https://github.com/blackjax-devs/blackjax.git /tmp/pip-req-build-_wcbxo7l\r\n",
      "  Resolved https://github.com/blackjax-devs/blackjax.git to commit eb2ee2680fa0754a4ad49c9dcbd8ed9ba68cf494\r\n",
      "  Preparing metadata (setup.py) ... \u001B[?25ldone\r\n",
      "\u001B[?25hCollecting fastprogress>=0.2.0\r\n",
      "  Downloading fastprogress-1.0.3-py3-none-any.whl (12 kB)\r\n",
      "Requirement already satisfied: jax>=0.3.13 in /usr/local/lib/python3.9/dist-packages (from blackjax==0.9.6+78.geb2ee26) (0.3.17)\r\n",
      "Requirement already satisfied: jaxlib>=0.3.10 in /usr/local/lib/python3.9/dist-packages (from blackjax==0.9.6+78.geb2ee26) (0.3.15+cuda11.cudnn82)\r\n",
      "Collecting jaxopt>=0.5.5\r\n",
      "  Downloading jaxopt-0.5.5-py3-none-any.whl (132 kB)\r\n",
      "\u001B[2K     \u001B[90m━━━━━━━━━━━━━━━━━━━━━━━━━━━━━━━━━━━━━━\u001B[0m \u001B[32m132.3/132.3 kB\u001B[0m \u001B[31m25.9 MB/s\u001B[0m eta \u001B[36m0:00:00\u001B[0m\r\n",
      "\u001B[?25hRequirement already satisfied: typing-extensions in /usr/local/lib/python3.9/dist-packages (from jax>=0.3.13->blackjax==0.9.6+78.geb2ee26) (4.3.0)\r\n",
      "Requirement already satisfied: scipy>=1.5 in /usr/local/lib/python3.9/dist-packages (from jax>=0.3.13->blackjax==0.9.6+78.geb2ee26) (1.8.1)\r\n",
      "Requirement already satisfied: etils[epath] in /usr/local/lib/python3.9/dist-packages (from jax>=0.3.13->blackjax==0.9.6+78.geb2ee26) (0.6.0)\r\n",
      "Requirement already satisfied: absl-py in /usr/local/lib/python3.9/dist-packages (from jax>=0.3.13->blackjax==0.9.6+78.geb2ee26) (1.1.0)\r\n",
      "Requirement already satisfied: opt-einsum in /usr/local/lib/python3.9/dist-packages (from jax>=0.3.13->blackjax==0.9.6+78.geb2ee26) (3.3.0)\r\n",
      "Requirement already satisfied: numpy>=1.20 in /usr/local/lib/python3.9/dist-packages (from jax>=0.3.13->blackjax==0.9.6+78.geb2ee26) (1.23.1)\r\n",
      "Requirement already satisfied: matplotlib>=2.0.1 in /usr/local/lib/python3.9/dist-packages (from jaxopt>=0.5.5->blackjax==0.9.6+78.geb2ee26) (3.5.2)\r\n",
      "Requirement already satisfied: python-dateutil>=2.7 in /usr/local/lib/python3.9/dist-packages (from matplotlib>=2.0.1->jaxopt>=0.5.5->blackjax==0.9.6+78.geb2ee26) (2.8.2)\r\n",
      "Requirement already satisfied: packaging>=20.0 in /usr/local/lib/python3.9/dist-packages (from matplotlib>=2.0.1->jaxopt>=0.5.5->blackjax==0.9.6+78.geb2ee26) (21.3)\r\n",
      "Requirement already satisfied: kiwisolver>=1.0.1 in /usr/local/lib/python3.9/dist-packages (from matplotlib>=2.0.1->jaxopt>=0.5.5->blackjax==0.9.6+78.geb2ee26) (1.4.3)\r\n",
      "Requirement already satisfied: fonttools>=4.22.0 in /usr/local/lib/python3.9/dist-packages (from matplotlib>=2.0.1->jaxopt>=0.5.5->blackjax==0.9.6+78.geb2ee26) (4.34.4)\r\n",
      "Requirement already satisfied: cycler>=0.10 in /usr/local/lib/python3.9/dist-packages (from matplotlib>=2.0.1->jaxopt>=0.5.5->blackjax==0.9.6+78.geb2ee26) (0.11.0)\r\n",
      "Requirement already satisfied: pyparsing>=2.2.1 in /usr/local/lib/python3.9/dist-packages (from matplotlib>=2.0.1->jaxopt>=0.5.5->blackjax==0.9.6+78.geb2ee26) (3.0.9)\r\n",
      "Requirement already satisfied: pillow>=6.2.0 in /usr/local/lib/python3.9/dist-packages (from matplotlib>=2.0.1->jaxopt>=0.5.5->blackjax==0.9.6+78.geb2ee26) (9.2.0)\r\n",
      "Requirement already satisfied: zipp in /usr/local/lib/python3.9/dist-packages (from etils[epath]->jax>=0.3.13->blackjax==0.9.6+78.geb2ee26) (3.8.1)\r\n",
      "Requirement already satisfied: importlib_resources in /usr/local/lib/python3.9/dist-packages (from etils[epath]->jax>=0.3.13->blackjax==0.9.6+78.geb2ee26) (5.8.0)\r\n",
      "Requirement already satisfied: six>=1.5 in /usr/lib/python3/dist-packages (from python-dateutil>=2.7->matplotlib>=2.0.1->jaxopt>=0.5.5->blackjax==0.9.6+78.geb2ee26) (1.14.0)\r\n",
      "Building wheels for collected packages: blackjax\r\n",
      "  Building wheel for blackjax (setup.py) ... \u001B[?25ldone\r\n",
      "\u001B[?25h  Created wheel for blackjax: filename=blackjax-0.9.6+78.geb2ee26-py3-none-any.whl size=126440 sha256=ad3ad8b2409c7c7a414449faae2e5e69f22ad09a03496ff1ab5e2263f771a6c6\r\n",
      "  Stored in directory: /tmp/pip-ephem-wheel-cache-fk1q1ano/wheels/e6/1e/f6/a6e0408a4e374b9cdb789b1769716b4ed61eef520a2dd702b1\r\n",
      "Successfully built blackjax\r\n",
      "Installing collected packages: fastprogress, jaxopt, blackjax\r\n",
      "Successfully installed blackjax-0.9.6+78.geb2ee26 fastprogress-1.0.3 jaxopt-0.5.5\r\n",
      "\u001B[33mWARNING: Running pip as the 'root' user can result in broken permissions and conflicting behaviour with the system package manager. It is recommended to use a virtual environment instead: https://pip.pypa.io/warnings/venv\u001B[0m\u001B[33m\r\n",
      "Get:1 https://deb.nodesource.com/node_16.x focal InRelease [4583 B]\r\n",
      "Get:2 http://ppa.launchpad.net/deadsnakes/ppa/ubuntu focal InRelease [18.1 kB] \u001B[0m\u001B[33m\r\n",
      "Get:3 https://deb.nodesource.com/node_16.x focal/main amd64 Packages [774 B]   \u001B[0m\u001B[33m\r\n",
      "Get:4 http://security.ubuntu.com/ubuntu focal-security InRelease [114 kB]      \u001B[0m\u001B[33m\r\n",
      "Get:5 http://archive.ubuntu.com/ubuntu focal InRelease [265 kB]\r\n",
      "Get:6 http://ppa.launchpad.net/deadsnakes/ppa/ubuntu focal/main amd64 Packages [29.5 kB]\r\n",
      "Get:7 http://security.ubuntu.com/ubuntu focal-security/universe amd64 Packages [972 kB]m\u001B[33m\u001B[33m\u001B[33m\r\n",
      "Get:8 http://archive.ubuntu.com/ubuntu focal-updates InRelease [114 kB]\r\n",
      "Get:9 http://archive.ubuntu.com/ubuntu focal-backports InRelease [108 kB]m\r\n",
      "Get:10 http://archive.ubuntu.com/ubuntu focal/universe amd64 Packages [11.3 MB]\r\n",
      "Get:11 http://security.ubuntu.com/ubuntu focal-security/main amd64 Packages [2358 kB]33m\r\n",
      "Get:12 http://security.ubuntu.com/ubuntu focal-security/restricted amd64 Packages [1779 kB]\r\n",
      "Get:13 http://security.ubuntu.com/ubuntu focal-security/multiverse amd64 Packages [27.7 kB]\r\n",
      "Get:14 http://archive.ubuntu.com/ubuntu focal/multiverse amd64 Packages [177 kB][0m\u001B[33m\u001B[33m\u001B[33m\u001B[33m\r\n",
      "Get:15 http://archive.ubuntu.com/ubuntu focal/restricted amd64 Packages [33.4 kB]\r\n",
      "Get:16 http://archive.ubuntu.com/ubuntu focal/main amd64 Packages [1275 kB]\r\n",
      "Get:17 http://archive.ubuntu.com/ubuntu focal-updates/main amd64 Packages [2827 kB]\r\n",
      "Get:18 http://archive.ubuntu.com/ubuntu focal-updates/universe amd64 Packages [1275 kB]\r\n",
      "Get:19 http://archive.ubuntu.com/ubuntu focal-updates/multiverse amd64 Packages [30.4 kB]\r\n",
      "Get:20 http://archive.ubuntu.com/ubuntu focal-updates/restricted amd64 Packages [1894 kB]\r\n",
      "Get:21 http://archive.ubuntu.com/ubuntu focal-backports/main amd64 Packages [55.2 kB]\r\n",
      "Get:22 http://archive.ubuntu.com/ubuntu focal-backports/universe amd64 Packages [28.6 kB]\r\n",
      "Fetched 24.7 MB in 2s (11.1 MB/s)[33m                   \u001B[0m\u001B[33m\u001B[33m\u001B[33m\u001B[33m\u001B[33m\u001B[33m\r\n",
      "Reading package lists... Done\r\n",
      "Building dependency tree       \r\n",
      "Reading state information... Done\r\n",
      "111 packages can be upgraded. Run 'apt list --upgradable' to see them.\r\n",
      "Reading package lists... Done\r\n",
      "Building dependency tree       \r\n",
      "Reading state information... Done\r\n",
      "The following additional packages will be installed:\r\n",
      "  fonts-liberation libann0 libcdt5 libcgraph6 libgts-0.7-5 libgts-bin libgvc6\r\n",
      "  libgvpr2 liblab-gamut1 libpathplan4\r\n",
      "Suggested packages:\r\n",
      "  gsfonts graphviz-doc\r\n",
      "The following NEW packages will be installed:\r\n",
      "  fonts-liberation graphviz libann0 libcdt5 libcgraph6 libgts-0.7-5 libgts-bin\r\n",
      "  libgvc6 libgvpr2 liblab-gamut1 libpathplan4\r\n",
      "0 upgraded, 11 newly installed, 0 to remove and 111 not upgraded.\r\n",
      "Need to get 2701 kB of archives.\r\n",
      "After this operation, 11.3 MB of additional disk space will be used.\r\n",
      "Get:1 http://archive.ubuntu.com/ubuntu focal/main amd64 fonts-liberation all 1:1.07.4-11 [822 kB]\r\n",
      "Get:2 http://archive.ubuntu.com/ubuntu focal/universe amd64 libann0 amd64 1.1.2+doc-7build1 [26.0 kB]\r\n",
      "Get:3 http://archive.ubuntu.com/ubuntu focal/universe amd64 libcdt5 amd64 2.42.2-3build2 [18.7 kB]\r\n",
      "Get:4 http://archive.ubuntu.com/ubuntu focal/universe amd64 libcgraph6 amd64 2.42.2-3build2 [41.3 kB]\r\n",
      "Get:5 http://archive.ubuntu.com/ubuntu focal/universe amd64 libgts-0.7-5 amd64 0.7.6+darcs121130-4 [150 kB]\r\n",
      "Get:6 http://archive.ubuntu.com/ubuntu focal/universe amd64 libpathplan4 amd64 2.42.2-3build2 [21.9 kB]\r\n",
      "Get:7 http://archive.ubuntu.com/ubuntu focal/universe amd64 libgvc6 amd64 2.42.2-3build2 [647 kB]\r\n",
      "Get:8 http://archive.ubuntu.com/ubuntu focal/universe amd64 libgvpr2 amd64 2.42.2-3build2 [167 kB]\r\n",
      "Get:9 http://archive.ubuntu.com/ubuntu focal/universe amd64 liblab-gamut1 amd64 2.42.2-3build2 [177 kB]\r\n",
      "Get:10 http://archive.ubuntu.com/ubuntu focal/universe amd64 graphviz amd64 2.42.2-3build2 [590 kB]\r\n",
      "Get:11 http://archive.ubuntu.com/ubuntu focal/universe amd64 libgts-bin amd64 0.7.6+darcs121130-4 [41.3 kB]\r\n",
      "Fetched 2701 kB in 1s (3395 kB/s)     \u001B[0m\u001B[33m\r\n",
      "\n",
      "\u001B7\u001B[0;23r\u001B8\u001B[1ASelecting previously unselected package fonts-liberation.\r\n",
      "(Reading database ... 78556 files and directories currently installed.)\r\n",
      "Preparing to unpack .../00-fonts-liberation_1%3a1.07.4-11_all.deb ...\r\n",
      "\u001B7\u001B[24;0f\u001B[42m\u001B[30mProgress: [  0%]\u001B[49m\u001B[39m [..........................................................] \u001B8\u001B7\u001B[24;0f\u001B[42m\u001B[30mProgress: [  2%]\u001B[49m\u001B[39m [#.........................................................] \u001B8Unpacking fonts-liberation (1:1.07.4-11) ...\r\n",
      "\u001B7\u001B[24;0f\u001B[42m\u001B[30mProgress: [  4%]\u001B[49m\u001B[39m [##........................................................] \u001B8Selecting previously unselected package libann0.\r\n",
      "Preparing to unpack .../01-libann0_1.1.2+doc-7build1_amd64.deb ...\r\n",
      "\u001B7\u001B[24;0f\u001B[42m\u001B[30mProgress: [  7%]\u001B[49m\u001B[39m [###.......................................................] \u001B8Unpacking libann0 (1.1.2+doc-7build1) ...\r\n",
      "\u001B7\u001B[24;0f\u001B[42m\u001B[30mProgress: [  9%]\u001B[49m\u001B[39m [#####.....................................................] \u001B8Selecting previously unselected package libcdt5:amd64.\r\n",
      "Preparing to unpack .../02-libcdt5_2.42.2-3build2_amd64.deb ...\r\n",
      "\u001B7\u001B[24;0f\u001B[42m\u001B[30mProgress: [ 11%]\u001B[49m\u001B[39m [######....................................................] \u001B8Unpacking libcdt5:amd64 (2.42.2-3build2) ...\r\n",
      "\u001B7\u001B[24;0f\u001B[42m\u001B[30mProgress: [ 13%]\u001B[49m\u001B[39m [#######...................................................] \u001B8Selecting previously unselected package libcgraph6:amd64.\r\n",
      "Preparing to unpack .../03-libcgraph6_2.42.2-3build2_amd64.deb ...\r\n",
      "\u001B7\u001B[24;0f\u001B[42m\u001B[30mProgress: [ 16%]\u001B[49m\u001B[39m [#########.................................................] \u001B8Unpacking libcgraph6:amd64 (2.42.2-3build2) ...\r\n",
      "\u001B7\u001B[24;0f\u001B[42m\u001B[30mProgress: [ 18%]\u001B[49m\u001B[39m [##########................................................] \u001B8Selecting previously unselected package libgts-0.7-5:amd64.\r\n",
      "Preparing to unpack .../04-libgts-0.7-5_0.7.6+darcs121130-4_amd64.deb ...\r\n",
      "\u001B7\u001B[24;0f\u001B[42m\u001B[30mProgress: [ 20%]\u001B[49m\u001B[39m [###########...............................................] \u001B8Unpacking libgts-0.7-5:amd64 (0.7.6+darcs121130-4) ...\r\n",
      "\u001B7\u001B[24;0f\u001B[42m\u001B[30mProgress: [ 22%]\u001B[49m\u001B[39m [############..............................................] \u001B8Selecting previously unselected package libpathplan4:amd64.\r\n",
      "Preparing to unpack .../05-libpathplan4_2.42.2-3build2_amd64.deb ...\r\n",
      "\u001B7\u001B[24;0f\u001B[42m\u001B[30mProgress: [ 24%]\u001B[49m\u001B[39m [##############............................................] \u001B8Unpacking libpathplan4:amd64 (2.42.2-3build2) ...\r\n",
      "\u001B7\u001B[24;0f\u001B[42m\u001B[30mProgress: [ 27%]\u001B[49m\u001B[39m [###############...........................................] \u001B8Selecting previously unselected package libgvc6.\r\n",
      "Preparing to unpack .../06-libgvc6_2.42.2-3build2_amd64.deb ...\r\n",
      "\u001B7\u001B[24;0f\u001B[42m\u001B[30mProgress: [ 29%]\u001B[49m\u001B[39m [################..........................................] \u001B8Unpacking libgvc6 (2.42.2-3build2) ...\r\n",
      "\u001B7\u001B[24;0f\u001B[42m\u001B[30mProgress: [ 31%]\u001B[49m\u001B[39m [##################........................................] \u001B8Selecting previously unselected package libgvpr2:amd64.\r\n",
      "Preparing to unpack .../07-libgvpr2_2.42.2-3build2_amd64.deb ...\r\n",
      "\u001B7\u001B[24;0f\u001B[42m\u001B[30mProgress: [ 33%]\u001B[49m\u001B[39m [###################.......................................] \u001B8Unpacking libgvpr2:amd64 (2.42.2-3build2) ...\r\n",
      "\u001B7\u001B[24;0f\u001B[42m\u001B[30mProgress: [ 36%]\u001B[49m\u001B[39m [####################......................................] \u001B8Selecting previously unselected package liblab-gamut1:amd64.\r\n",
      "Preparing to unpack .../08-liblab-gamut1_2.42.2-3build2_amd64.deb ...\r\n",
      "\u001B7\u001B[24;0f\u001B[42m\u001B[30mProgress: [ 38%]\u001B[49m\u001B[39m [#####################.....................................] \u001B8Unpacking liblab-gamut1:amd64 (2.42.2-3build2) ...\r\n",
      "\u001B7\u001B[24;0f\u001B[42m\u001B[30mProgress: [ 40%]\u001B[49m\u001B[39m [#######################...................................] \u001B8Selecting previously unselected package graphviz.\r\n",
      "Preparing to unpack .../09-graphviz_2.42.2-3build2_amd64.deb ...\r\n",
      "\u001B7\u001B[24;0f\u001B[42m\u001B[30mProgress: [ 42%]\u001B[49m\u001B[39m [########################..................................] \u001B8Unpacking graphviz (2.42.2-3build2) ...\r\n",
      "\u001B7\u001B[24;0f\u001B[42m\u001B[30mProgress: [ 44%]\u001B[49m\u001B[39m [#########################.................................] \u001B8Selecting previously unselected package libgts-bin.\r\n",
      "Preparing to unpack .../10-libgts-bin_0.7.6+darcs121130-4_amd64.deb ...\r\n",
      "\u001B7\u001B[24;0f\u001B[42m\u001B[30mProgress: [ 47%]\u001B[49m\u001B[39m [###########################...............................] \u001B8Unpacking libgts-bin (0.7.6+darcs121130-4) ...\r\n",
      "\u001B7\u001B[24;0f\u001B[42m\u001B[30mProgress: [ 49%]\u001B[49m\u001B[39m [############################..............................] \u001B8Setting up liblab-gamut1:amd64 (2.42.2-3build2) ...\r\n",
      "\u001B7\u001B[24;0f\u001B[42m\u001B[30mProgress: [ 51%]\u001B[49m\u001B[39m [#############################.............................] \u001B8\u001B7\u001B[24;0f\u001B[42m\u001B[30mProgress: [ 53%]\u001B[49m\u001B[39m [##############################............................] \u001B8Setting up libgts-0.7-5:amd64 (0.7.6+darcs121130-4) ...\r\n",
      "\u001B7\u001B[24;0f\u001B[42m\u001B[30mProgress: [ 56%]\u001B[49m\u001B[39m [################################..........................] \u001B8\u001B7\u001B[24;0f\u001B[42m\u001B[30mProgress: [ 58%]\u001B[49m\u001B[39m [#################################.........................] \u001B8Setting up libpathplan4:amd64 (2.42.2-3build2) ...\r\n",
      "\u001B7\u001B[24;0f\u001B[42m\u001B[30mProgress: [ 60%]\u001B[49m\u001B[39m [##################################........................] \u001B8\u001B7\u001B[24;0f\u001B[42m\u001B[30mProgress: [ 62%]\u001B[49m\u001B[39m [####################################......................] \u001B8Setting up libann0 (1.1.2+doc-7build1) ...\r\n",
      "\u001B7\u001B[24;0f\u001B[42m\u001B[30mProgress: [ 64%]\u001B[49m\u001B[39m [#####################################.....................] \u001B8\u001B7\u001B[24;0f\u001B[42m\u001B[30mProgress: [ 67%]\u001B[49m\u001B[39m [######################################....................] \u001B8Setting up fonts-liberation (1:1.07.4-11) ...\r\n",
      "\u001B7\u001B[24;0f\u001B[42m\u001B[30mProgress: [ 69%]\u001B[49m\u001B[39m [#######################################...................] \u001B8\u001B7\u001B[24;0f\u001B[42m\u001B[30mProgress: [ 71%]\u001B[49m\u001B[39m [#########################################.................] \u001B8Setting up libcdt5:amd64 (2.42.2-3build2) ...\r\n",
      "\u001B7\u001B[24;0f\u001B[42m\u001B[30mProgress: [ 73%]\u001B[49m\u001B[39m [##########################################................] \u001B8\u001B7\u001B[24;0f\u001B[42m\u001B[30mProgress: [ 76%]\u001B[49m\u001B[39m [###########################################...............] \u001B8Setting up libcgraph6:amd64 (2.42.2-3build2) ...\r\n",
      "\u001B7\u001B[24;0f\u001B[42m\u001B[30mProgress: [ 78%]\u001B[49m\u001B[39m [#############################################.............] \u001B8\u001B7\u001B[24;0f\u001B[42m\u001B[30mProgress: [ 80%]\u001B[49m\u001B[39m [##############################################............] \u001B8Setting up libgts-bin (0.7.6+darcs121130-4) ...\r\n",
      "\u001B7\u001B[24;0f\u001B[42m\u001B[30mProgress: [ 82%]\u001B[49m\u001B[39m [###############################################...........] \u001B8\u001B7\u001B[24;0f\u001B[42m\u001B[30mProgress: [ 84%]\u001B[49m\u001B[39m [################################################..........] \u001B8Setting up libgvc6 (2.42.2-3build2) ...\r\n",
      "\u001B7\u001B[24;0f\u001B[42m\u001B[30mProgress: [ 87%]\u001B[49m\u001B[39m [##################################################........] \u001B8\u001B7\u001B[24;0f\u001B[42m\u001B[30mProgress: [ 89%]\u001B[49m\u001B[39m [###################################################.......] \u001B8Setting up libgvpr2:amd64 (2.42.2-3build2) ...\r\n",
      "\u001B7\u001B[24;0f\u001B[42m\u001B[30mProgress: [ 91%]\u001B[49m\u001B[39m [####################################################......] \u001B8\u001B7\u001B[24;0f\u001B[42m\u001B[30mProgress: [ 93%]\u001B[49m\u001B[39m [######################################################....] \u001B8Setting up graphviz (2.42.2-3build2) ...\r\n",
      "\u001B7\u001B[24;0f\u001B[42m\u001B[30mProgress: [ 96%]\u001B[49m\u001B[39m [#######################################################...] \u001B8\u001B7\u001B[24;0f\u001B[42m\u001B[30mProgress: [ 98%]\u001B[49m\u001B[39m [########################################################..] \u001B8Processing triggers for libc-bin (2.31-0ubuntu9.7) ...\r\n",
      "Processing triggers for man-db (2.9.1-1) ...\r\n",
      "Processing triggers for fontconfig (2.13.1-2ubuntu3) ...\r\n",
      "\r\n",
      "Reading package lists... Done\r\n",
      "Building dependency tree       \r\n",
      "Reading state information... Done\r\n",
      "The following additional packages will be installed:\r\n",
      "  swig4.0\r\n",
      "Suggested packages:\r\n",
      "  swig-doc swig-examples swig4.0-examples swig4.0-doc\r\n",
      "The following NEW packages will be installed:\r\n",
      "  swig swig4.0\r\n",
      "0 upgraded, 2 newly installed, 0 to remove and 111 not upgraded.\r\n",
      "Need to get 1086 kB of archives.\r\n",
      "After this operation, 5413 kB of additional disk space will be used.\r\n",
      "Get:1 http://archive.ubuntu.com/ubuntu focal/universe amd64 swig4.0 amd64 4.0.1-5build1 [1081 kB]\r\n",
      "Get:2 http://archive.ubuntu.com/ubuntu focal/universe amd64 swig all 4.0.1-5build1 [5528 B]\r\n",
      "Fetched 1086 kB in 1s (1553 kB/s)\r\n",
      "Selecting previously unselected package swig4.0.\r\n",
      "(Reading database ... 78769 files and directories currently installed.)\r\n",
      "Preparing to unpack .../swig4.0_4.0.1-5build1_amd64.deb ...\r\n",
      "Unpacking swig4.0 (4.0.1-5build1) ...\r\n",
      "Selecting previously unselected package swig.\r\n",
      "Preparing to unpack .../swig_4.0.1-5build1_all.deb ...\r\n",
      "Unpacking swig (4.0.1-5build1) ...\r\n",
      "Setting up swig4.0 (4.0.1-5build1) ...\r\n",
      "Setting up swig (4.0.1-5build1) ...\r\n",
      "Processing triggers for man-db (2.9.1-1) ...\r\n",
      "Collecting smac\r\n",
      "  Downloading smac-1.4.0.tar.gz (202 kB)\r\n",
      "\u001B[2K     \u001B[90m━━━━━━━━━━━━━━━━━━━━━━━━━━━━━━━━━━━━━━\u001B[0m \u001B[32m202.9/202.9 kB\u001B[0m \u001B[31m27.0 MB/s\u001B[0m eta \u001B[36m0:00:00\u001B[0m\r\n",
      "\u001B[?25h  Installing build dependencies ... \u001B[?25ldone\r\n",
      "\u001B[?25h  Getting requirements to build wheel ... \u001B[?25ldone\r\n",
      "\u001B[?25h  Preparing metadata (pyproject.toml) ... \u001B[?25ldone\r\n",
      "\u001B[?25hRequirement already satisfied: numpy>=1.7.1 in /usr/local/lib/python3.9/dist-packages (from smac) (1.23.1)\r\n",
      "Collecting ConfigSpace>=0.5.0\r\n",
      "  Downloading ConfigSpace-0.6.0-cp39-cp39-manylinux_2_17_x86_64.manylinux2014_x86_64.whl (5.6 MB)\r\n",
      "\u001B[2K     \u001B[90m━━━━━━━━━━━━━━━━━━━━━━━━━━━━━━━━━━━━━━━━\u001B[0m \u001B[32m5.6/5.6 MB\u001B[0m \u001B[31m43.8 MB/s\u001B[0m eta \u001B[36m0:00:00\u001B[0m00:01\u001B[0m:00:01\u001B[0m\r\n",
      "\u001B[?25hRequirement already satisfied: scikit-learn>=0.22.0 in /usr/local/lib/python3.9/dist-packages (from smac) (1.1.1)\r\n",
      "Collecting dask\r\n",
      "  Downloading dask-2022.12.0-py3-none-any.whl (1.1 MB)\r\n",
      "\u001B[2K     \u001B[90m━━━━━━━━━━━━━━━━━━━━━━━━━━━━━━━━━━━━━━━━\u001B[0m \u001B[32m1.1/1.1 MB\u001B[0m \u001B[31m86.4 MB/s\u001B[0m eta \u001B[36m0:00:00\u001B[0m\r\n",
      "\u001B[?25hRequirement already satisfied: scipy>=1.7.0 in /usr/local/lib/python3.9/dist-packages (from smac) (1.8.1)\r\n",
      "Requirement already satisfied: joblib in /usr/local/lib/python3.9/dist-packages (from smac) (1.1.0)\r\n",
      "Collecting pyrfr>=0.8.3\r\n",
      "  Downloading pyrfr-0.8.3-cp39-cp39-manylinux_2_17_x86_64.manylinux2014_x86_64.whl (4.5 MB)\r\n",
      "\u001B[2K     \u001B[90m━━━━━━━━━━━━━━━━━━━━━━━━━━━━━━━━━━━━━━━━\u001B[0m \u001B[32m4.5/4.5 MB\u001B[0m \u001B[31m14.8 MB/s\u001B[0m eta \u001B[36m0:00:00\u001B[0ma \u001B[36m0:00:01\u001B[0mm\r\n",
      "\u001B[?25hRequirement already satisfied: regex in /usr/local/lib/python3.9/dist-packages (from smac) (2022.7.9)\r\n",
      "Requirement already satisfied: psutil in /usr/local/lib/python3.9/dist-packages (from smac) (5.9.1)\r\n",
      "Collecting distributed\r\n",
      "  Downloading distributed-2022.12.0-py3-none-any.whl (925 kB)\r\n",
      "\u001B[2K     \u001B[90m━━━━━━━━━━━━━━━━━━━━━━━━━━━━━━━━━━━━━━\u001B[0m \u001B[32m925.3/925.3 kB\u001B[0m \u001B[31m92.1 MB/s\u001B[0m eta \u001B[36m0:00:00\u001B[0m\r\n",
      "\u001B[?25hCollecting pynisher<1.0.0\r\n",
      "  Downloading pynisher-0.6.4.tar.gz (11 kB)\r\n",
      "  Preparing metadata (setup.py) ... \u001B[?25ldone\r\n",
      "\u001B[?25hCollecting emcee>=3.0.0\r\n",
      "  Downloading emcee-3.1.3-py2.py3-none-any.whl (46 kB)\r\n",
      "\u001B[2K     \u001B[90m━━━━━━━━━━━━━━━━━━━━━━━━━━━━━━━━━━━━━━━━\u001B[0m \u001B[32m46.2/46.2 kB\u001B[0m \u001B[31m15.5 MB/s\u001B[0m eta \u001B[36m0:00:00\u001B[0m\r\n",
      "\u001B[?25hRequirement already satisfied: cython in /usr/local/lib/python3.9/dist-packages (from ConfigSpace>=0.5.0->smac) (0.29.30)\r\n",
      "Requirement already satisfied: typing-extensions in /usr/local/lib/python3.9/dist-packages (from ConfigSpace>=0.5.0->smac) (4.3.0)\r\n",
      "Requirement already satisfied: pyparsing in /usr/local/lib/python3.9/dist-packages (from ConfigSpace>=0.5.0->smac) (3.0.9)\r\n",
      "Requirement already satisfied: setuptools in /usr/local/lib/python3.9/dist-packages (from pynisher<1.0.0->smac) (63.1.0)\r\n",
      "Requirement already satisfied: threadpoolctl>=2.0.0 in /usr/local/lib/python3.9/dist-packages (from scikit-learn>=0.22.0->smac) (3.1.0)\r\n",
      "Requirement already satisfied: fsspec>=0.6.0 in /usr/local/lib/python3.9/dist-packages (from dask->smac) (2022.5.0)\r\n",
      "Requirement already satisfied: packaging>=20.0 in /usr/local/lib/python3.9/dist-packages (from dask->smac) (21.3)\r\n",
      "Collecting partd>=0.3.10\r\n",
      "  Downloading partd-1.3.0-py3-none-any.whl (18 kB)\r\n",
      "Requirement already satisfied: pyyaml>=5.3.1 in /usr/local/lib/python3.9/dist-packages (from dask->smac) (5.4.1)\r\n",
      "Requirement already satisfied: click>=7.0 in /usr/local/lib/python3.9/dist-packages (from dask->smac) (8.1.3)\r\n",
      "Requirement already satisfied: cloudpickle>=1.1.1 in /usr/local/lib/python3.9/dist-packages (from dask->smac) (2.1.0)\r\n",
      "Requirement already satisfied: toolz>=0.8.2 in /usr/local/lib/python3.9/dist-packages (from dask->smac) (0.12.0)\r\n",
      "Collecting sortedcontainers!=2.0.0,!=2.0.1\r\n",
      "  Downloading sortedcontainers-2.4.0-py2.py3-none-any.whl (29 kB)\r\n",
      "Collecting locket>=1.0.0\r\n",
      "  Downloading locket-1.0.0-py2.py3-none-any.whl (4.4 kB)\r\n",
      "Requirement already satisfied: tornado>=6.0.3 in /usr/local/lib/python3.9/dist-packages (from distributed->smac) (6.2)\r\n",
      "Collecting zict>=0.1.3\r\n",
      "  Downloading zict-2.2.0-py2.py3-none-any.whl (23 kB)\r\n",
      "Collecting msgpack>=0.6.0\r\n",
      "  Downloading msgpack-1.0.4-cp39-cp39-manylinux_2_17_x86_64.manylinux2014_x86_64.whl (322 kB)\r\n",
      "\u001B[2K     \u001B[90m━━━━━━━━━━━━━━━━━━━━━━━━━━━━━━━━━━━━━━\u001B[0m \u001B[32m322.4/322.4 kB\u001B[0m \u001B[31m60.3 MB/s\u001B[0m eta \u001B[36m0:00:00\u001B[0m\r\n",
      "\u001B[?25hCollecting tblib>=1.6.0\r\n",
      "  Downloading tblib-1.7.0-py2.py3-none-any.whl (12 kB)\r\n",
      "Requirement already satisfied: jinja2 in /usr/local/lib/python3.9/dist-packages (from distributed->smac) (3.1.2)\r\n",
      "Requirement already satisfied: urllib3 in /usr/local/lib/python3.9/dist-packages (from distributed->smac) (1.26.10)\r\n",
      "Collecting heapdict\r\n",
      "  Downloading HeapDict-1.0.1-py3-none-any.whl (3.9 kB)\r\n",
      "Requirement already satisfied: MarkupSafe>=2.0 in /usr/local/lib/python3.9/dist-packages (from jinja2->distributed->smac) (2.1.1)\r\n",
      "Building wheels for collected packages: smac, pynisher\r\n",
      "  Building wheel for smac (pyproject.toml) ... \u001B[?25ldone\r\n",
      "\u001B[?25h  Created wheel for smac: filename=smac-1.4.0-py3-none-any.whl size=262348 sha256=9d31b81e8130cec4276bd62053578435b55225ba77b4d5f6fa24975264bd624c\r\n",
      "  Stored in directory: /root/.cache/pip/wheels/98/cc/e7/d683d9404760c4701ea2f64faaf689a8de718f701de63e71ea\r\n",
      "  Building wheel for pynisher (setup.py) ... \u001B[?25ldone\r\n",
      "\u001B[?25h  Created wheel for pynisher: filename=pynisher-0.6.4-py3-none-any.whl size=7026 sha256=e86463328883aa7b4419ee7126edf0b7daa891c594c7287407ae88fc27e35075\r\n",
      "  Stored in directory: /root/.cache/pip/wheels/1d/de/5e/d4947b76b76ba27581d1e09f395eca1583a802203a41c04873\r\n",
      "Successfully built smac pynisher\r\n",
      "Installing collected packages: sortedcontainers, msgpack, heapdict, zict, tblib, pyrfr, pynisher, locket, emcee, partd, ConfigSpace, dask, distributed, smac\r\n",
      "Successfully installed ConfigSpace-0.6.0 dask-2022.12.0 distributed-2022.12.0 emcee-3.1.3 heapdict-1.0.1 locket-1.0.0 msgpack-1.0.4 partd-1.3.0 pynisher-0.6.4 pyrfr-0.8.3 smac-1.4.0 sortedcontainers-2.4.0 tblib-1.7.0 zict-2.2.0\r\n",
      "\u001B[33mWARNING: Running pip as the 'root' user can result in broken permissions and conflicting behaviour with the system package manager. It is recommended to use a virtual environment instead: https://pip.pypa.io/warnings/venv\u001B[0m\u001B[33m\r\n",
      "\u001B[0mCollecting graphviz\r\n",
      "  Downloading graphviz-0.20.1-py3-none-any.whl (47 kB)\r\n",
      "\u001B[2K     \u001B[90m━━━━━━━━━━━━━━━━━━━━━━━━━━━━━━━━━━━━━━━━\u001B[0m \u001B[32m47.0/47.0 kB\u001B[0m \u001B[31m12.8 MB/s\u001B[0m eta \u001B[36m0:00:00\u001B[0m\r\n",
      "\u001B[?25hInstalling collected packages: graphviz\r\n",
      "Successfully installed graphviz-0.20.1\r\n",
      "\u001B[33mWARNING: Running pip as the 'root' user can result in broken permissions and conflicting behaviour with the system package manager. It is recommended to use a virtual environment instead: https://pip.pypa.io/warnings/venv\u001B[0m\u001B[33m\r\n",
      "\u001B[0mCollecting gplearn\r\n",
      "  Downloading gplearn-0.4.2-py3-none-any.whl (25 kB)\r\n",
      "Requirement already satisfied: scikit-learn>=1.0.2 in /usr/local/lib/python3.9/dist-packages (from gplearn) (1.1.1)\r\n",
      "Requirement already satisfied: joblib>=1.0.0 in /usr/local/lib/python3.9/dist-packages (from gplearn) (1.1.0)\r\n",
      "Requirement already satisfied: numpy>=1.17.3 in /usr/local/lib/python3.9/dist-packages (from scikit-learn>=1.0.2->gplearn) (1.23.1)\r\n",
      "Requirement already satisfied: scipy>=1.3.2 in /usr/local/lib/python3.9/dist-packages (from scikit-learn>=1.0.2->gplearn) (1.8.1)\r\n",
      "Requirement already satisfied: threadpoolctl>=2.0.0 in /usr/local/lib/python3.9/dist-packages (from scikit-learn>=1.0.2->gplearn) (3.1.0)\r\n",
      "Installing collected packages: gplearn\r\n",
      "Successfully installed gplearn-0.4.2\r\n",
      "\u001B[33mWARNING: Running pip as the 'root' user can result in broken permissions and conflicting behaviour with the system package manager. It is recommended to use a virtual environment instead: https://pip.pypa.io/warnings/venv\u001B[0m\u001B[33m\r\n",
      "\u001B[0m"
     ]
    }
   ],
   "source": [
    "!pip install -U jaxlib[cuda112]==0.3.15 -f https://storage.googleapis.com/jax-releases/jax_cuda_releases.html\n",
    "!pip install -U jax[cuda112]==0.3.17 -f https://storage.googleapis.com/jax-releases/jax_cuda_releases.html\n",
    "!pip install optax\n",
    "!pip install dm-haiku\n",
    "!pip install tensorflow-probability==0.17\n",
    "!pip install git+https://github.com/blackjax-devs/blackjax.git\n",
    "!apt update\n",
    "!apt install -y graphviz\n",
    "!apt-get -y install swig\n",
    "!pip install smac\n",
    "!pip install graphviz\n",
    "!pip install gplearn"
   ]
  },
  {
   "cell_type": "code",
   "execution_count": 1,
   "metadata": {
    "pycharm": {
     "name": "#%%\n"
    }
   },
   "outputs": [
    {
     "name": "stdout",
     "output_type": "stream",
     "text": [
      "/home/xabush/code/snet/moses-incons-pen-xp/notebooks/variable_selection/cancer/nn\n"
     ]
    },
    {
     "name": "stderr",
     "output_type": "stream",
     "text": [
      "/home/xabush/miniconda3/lib/python3.9/site-packages/chex/_src/pytypes.py:37: FutureWarning: jax.tree_structure is deprecated, and will be removed in a future release. Use jax.tree_util.tree_structure instead.\n",
      "  PyTreeDef = type(jax.tree_structure(None))\n"
     ]
    }
   ],
   "source": [
    "import os\n",
    "os.environ[\"XLA_PYTHON_CLIENT_PREALLOCATE\"] = \"False\"\n",
    "os.environ[\"XLA_PYTHON_CLIENT_ALLOCATOR\"] = \"platform\"\n",
    "SERVER = 0\n",
    "\n",
    "if not SERVER:\n",
    "    %cd /home/xabush/code/snet/moses-incons-pen-xp/notebooks/variable_selection/cancer/nn\n",
    "\n",
    "import pandas as pd\n",
    "import matplotlib.pyplot as plt\n",
    "import tensorflow_probability.substrates.jax as tfp\n",
    "from sklearn.model_selection import train_test_split, cross_val_score, StratifiedKFold, KFold, GridSearchCV\n",
    "from sklearn.preprocessing import StandardScaler\n",
    "tfd = tfp.distributions\n",
    "import jax\n",
    "import haiku as hk\n",
    "import numpy as np\n",
    "import optax\n",
    "from nn_util import *\n",
    "from optim_util import *\n",
    "plt.style.use('ggplot')\n",
    "%load_ext autoreload"
   ]
  },
  {
   "cell_type": "code",
   "execution_count": 2,
   "metadata": {
    "pycharm": {
     "name": "#%%\n"
    }
   },
   "outputs": [
    {
     "name": "stdout",
     "output_type": "stream",
     "text": [
      "env: JAX_ENABLE_X64=True\n"
     ]
    }
   ],
   "source": [
    "if SERVER:\n",
    "    data_dir = \".\"\n",
    "else:\n",
    "    data_dir = \"/home/xabush/code/snet/moses-incons-pen-xp/data\"\n",
    "\n",
    "%env JAX_ENABLE_X64=True"
   ]
  },
  {
   "cell_type": "markdown",
   "metadata": {
    "pycharm": {
     "name": "#%% md\n"
    }
   },
   "source": [
    "### GDSC Cell Line"
   ]
  },
  {
   "cell_type": "markdown",
   "metadata": {
    "pycharm": {
     "name": "#%% md\n"
    }
   },
   "source": [
    "#### Tamoxifen"
   ]
  },
  {
   "cell_type": "code",
   "execution_count": 3,
   "outputs": [
    {
     "data": {
      "text/plain": "(406, 37265)"
     },
     "execution_count": 3,
     "metadata": {},
     "output_type": "execute_result"
    }
   ],
   "source": [
    "gdsc_dir = f\"{data_dir}/cell_line/gdsc2\"\n",
    "gdsc_exp_tamox_data = pd.read_csv(f\"{gdsc_dir}/tamoxifen_response_gene_expr.csv\")\n",
    "gdsc_exp_tamox_data.shape"
   ],
   "metadata": {
    "collapsed": false,
    "pycharm": {
     "name": "#%%\n"
    }
   }
  },
  {
   "cell_type": "code",
   "execution_count": 4,
   "outputs": [],
   "source": [
    "X, target = gdsc_exp_tamox_data.iloc[:,:-1], gdsc_exp_tamox_data.iloc[:,-1]\n",
    "# change to -log10(IC_50) to make it comparable\n",
    "target = -np.log10(np.exp(target)) # exp b/c the values are natural logs of raw IC_50"
   ],
   "metadata": {
    "collapsed": false,
    "pycharm": {
     "name": "#%%\n"
    }
   }
  },
  {
   "cell_type": "code",
   "execution_count": 5,
   "outputs": [
    {
     "data": {
      "text/plain": "     symbol method_of_action        cosmic_moa intogen_moa    gene_id\n0     ABCB1              Act               NaN         Act  SIDG00064\n1      ABI1        ambiguous       TSG, fusion   ambiguous  SIDG00145\n2      ABL1              Act  oncogene, fusion         Act  SIDG00150\n3      ABL2              Act  oncogene, fusion         Act  SIDG00151\n4     ACKR3              Act  oncogene, fusion         Act  SIDG00205\n..      ...              ...               ...         ...        ...\n778  ZNF814              Act               NaN         Act  SIDG42334\n779   ZNF93              LoF               NaN         LoF  SIDG41755\n780   ZNRF3              LoF               NaN         LoF  SIDG42403\n781   ZRSR2              LoF               TSG         LoF  SIDG42422\n782    ZXDB              LoF               NaN         LoF  SIDG42467\n\n[783 rows x 5 columns]",
      "text/html": "<div>\n<style scoped>\n    .dataframe tbody tr th:only-of-type {\n        vertical-align: middle;\n    }\n\n    .dataframe tbody tr th {\n        vertical-align: top;\n    }\n\n    .dataframe thead th {\n        text-align: right;\n    }\n</style>\n<table border=\"1\" class=\"dataframe\">\n  <thead>\n    <tr style=\"text-align: right;\">\n      <th></th>\n      <th>symbol</th>\n      <th>method_of_action</th>\n      <th>cosmic_moa</th>\n      <th>intogen_moa</th>\n      <th>gene_id</th>\n    </tr>\n  </thead>\n  <tbody>\n    <tr>\n      <th>0</th>\n      <td>ABCB1</td>\n      <td>Act</td>\n      <td>NaN</td>\n      <td>Act</td>\n      <td>SIDG00064</td>\n    </tr>\n    <tr>\n      <th>1</th>\n      <td>ABI1</td>\n      <td>ambiguous</td>\n      <td>TSG, fusion</td>\n      <td>ambiguous</td>\n      <td>SIDG00145</td>\n    </tr>\n    <tr>\n      <th>2</th>\n      <td>ABL1</td>\n      <td>Act</td>\n      <td>oncogene, fusion</td>\n      <td>Act</td>\n      <td>SIDG00150</td>\n    </tr>\n    <tr>\n      <th>3</th>\n      <td>ABL2</td>\n      <td>Act</td>\n      <td>oncogene, fusion</td>\n      <td>Act</td>\n      <td>SIDG00151</td>\n    </tr>\n    <tr>\n      <th>4</th>\n      <td>ACKR3</td>\n      <td>Act</td>\n      <td>oncogene, fusion</td>\n      <td>Act</td>\n      <td>SIDG00205</td>\n    </tr>\n    <tr>\n      <th>...</th>\n      <td>...</td>\n      <td>...</td>\n      <td>...</td>\n      <td>...</td>\n      <td>...</td>\n    </tr>\n    <tr>\n      <th>778</th>\n      <td>ZNF814</td>\n      <td>Act</td>\n      <td>NaN</td>\n      <td>Act</td>\n      <td>SIDG42334</td>\n    </tr>\n    <tr>\n      <th>779</th>\n      <td>ZNF93</td>\n      <td>LoF</td>\n      <td>NaN</td>\n      <td>LoF</td>\n      <td>SIDG41755</td>\n    </tr>\n    <tr>\n      <th>780</th>\n      <td>ZNRF3</td>\n      <td>LoF</td>\n      <td>NaN</td>\n      <td>LoF</td>\n      <td>SIDG42403</td>\n    </tr>\n    <tr>\n      <th>781</th>\n      <td>ZRSR2</td>\n      <td>LoF</td>\n      <td>TSG</td>\n      <td>LoF</td>\n      <td>SIDG42422</td>\n    </tr>\n    <tr>\n      <th>782</th>\n      <td>ZXDB</td>\n      <td>LoF</td>\n      <td>NaN</td>\n      <td>LoF</td>\n      <td>SIDG42467</td>\n    </tr>\n  </tbody>\n</table>\n<p>783 rows × 5 columns</p>\n</div>"
     },
     "execution_count": 5,
     "metadata": {},
     "output_type": "execute_result"
    }
   ],
   "source": [
    "cancer_driver_genes_df = pd.read_csv(f\"{data_dir}/cell_line/driver_genes_20221018.csv\")\n",
    "cancer_driver_genes_df"
   ],
   "metadata": {
    "collapsed": false,
    "pycharm": {
     "name": "#%%\n"
    }
   }
  },
  {
   "cell_type": "code",
   "execution_count": 6,
   "outputs": [],
   "source": [
    "cols = X.columns.to_list()\n",
    "driver_syms = cancer_driver_genes_df[\"symbol\"].to_list()\n",
    "sym_list = [sym.strip() for sym in cols if sym in driver_syms]"
   ],
   "metadata": {
    "collapsed": false,
    "pycharm": {
     "name": "#%%\n"
    }
   }
  },
  {
   "cell_type": "code",
   "execution_count": 7,
   "outputs": [
    {
     "data": {
      "text/plain": "(406, 768)"
     },
     "execution_count": 7,
     "metadata": {},
     "output_type": "execute_result"
    }
   ],
   "source": [
    "X_selected = X[sym_list]\n",
    "X_selected.shape"
   ],
   "metadata": {
    "collapsed": false,
    "pycharm": {
     "name": "#%%\n"
    }
   }
  },
  {
   "cell_type": "markdown",
   "source": [
    "#### Data Preprocessing"
   ],
   "metadata": {
    "collapsed": false,
    "pycharm": {
     "name": "#%% md\n"
    }
   }
  },
  {
   "cell_type": "code",
   "execution_count": 8,
   "outputs": [],
   "source": [
    "seed = 739\n",
    "X_train_outer_df, X_test_df, y_train_outer_df, y_test_df = train_test_split(X_selected, target, random_state=seed, shuffle=True, test_size=0.2)"
   ],
   "metadata": {
    "collapsed": false,
    "pycharm": {
     "name": "#%%\n"
    }
   }
  },
  {
   "cell_type": "code",
   "execution_count": 9,
   "outputs": [
    {
     "name": "stderr",
     "output_type": "stream",
     "text": [
      "/home/xabush/miniconda3/lib/python3.9/site-packages/sklearn/preprocessing/_data.py:2583: UserWarning: n_quantiles (1000) is greater than the total number of samples (324). n_quantiles is set to n_samples.\n",
      "  warnings.warn(\n"
     ]
    }
   ],
   "source": [
    "from sklearn.preprocessing import QuantileTransformer, PowerTransformer, RobustScaler, MinMaxScaler, Normalizer, StandardScaler\n",
    "\n",
    "train_transformer = QuantileTransformer(random_state=seed, output_distribution=\"normal\").fit(X_train_outer_df)\n",
    "# train_transformer = PowerTransformer().fit(X_train_df)\n",
    "train_transformed = train_transformer.transform(X_train_outer_df)\n",
    "test_transformed = train_transformer.transform(X_test_df)\n",
    "\n",
    "X_train_outer_df = pd.DataFrame(train_transformed, columns=X_train_outer_df.columns)\n",
    "X_test_df = pd.DataFrame(test_transformed, columns=X_test_df.columns)"
   ],
   "metadata": {
    "collapsed": false,
    "pycharm": {
     "name": "#%%\n"
    }
   }
  },
  {
   "cell_type": "code",
   "execution_count": 10,
   "outputs": [],
   "source": [
    "X_train_df, X_val_df, y_train_df, y_val_df = train_test_split(X_train_outer_df, y_train_outer_df, shuffle=True,\n",
    "                                                              random_state=seed, test_size=0.2)\n",
    "train_indices, val_indices = X_train_df.index.to_list(), X_val_df.index.to_list()"
   ],
   "metadata": {
    "collapsed": false,
    "pycharm": {
     "name": "#%%\n"
    }
   }
  },
  {
   "cell_type": "code",
   "execution_count": 11,
   "outputs": [],
   "source": [
    "X_train_outer, y_train_outer = X_train_outer_df.values, y_train_outer_df.values\n",
    "X_train, y_train = X_train_df.values, y_train_df.values\n",
    "X_val, y_val = X_val_df.values, y_val_df.values\n",
    "X_test, y_test = X_test_df.values, y_test_df.values"
   ],
   "metadata": {
    "collapsed": false,
    "pycharm": {
     "name": "#%%\n"
    }
   }
  },
  {
   "cell_type": "code",
   "execution_count": 117,
   "outputs": [],
   "source": [
    "class ResnetState(NamedTuple):\n",
    "    params: hk.Params\n",
    "    opt_state: hk.Params\n",
    "    net_state: hk.State\n",
    "\n",
    "class ResNetBlock(hk.Module):\n",
    "    def __init__(self, act_fn, dim, init_fn, dropout_rate, name=None):\n",
    "        super().__init__(name)\n",
    "        self.act_fn = act_fn\n",
    "        self.dim = dim\n",
    "        self.init_fn = init_fn\n",
    "        self.dropout_rate = dropout_rate\n",
    "\n",
    "    def __call__(self, x, is_training):\n",
    "        key = hk.next_rng_key()\n",
    "        subkey1, subkey2 = jax.random.split(key, 2)\n",
    "        z = hk.Linear(self.dim, w_init=self.init_fn, with_bias=False)(x)\n",
    "        z = hk.BatchNorm(True, True, 0.9)(z, is_training)\n",
    "        z = self.act_fn(z)\n",
    "        if is_training:\n",
    "            z = hk.dropout(subkey1, self.dropout_rate, z)\n",
    "        z = hk.Linear(self.dim, w_init=self.init_fn, with_bias=False)(z)\n",
    "        if is_training:\n",
    "            z = hk.dropout(subkey2, self.dropout_rate, z)\n",
    "        x_out = self.act_fn(z + x)\n",
    "        return x_out\n",
    "\n",
    "class PreActResNetBlock(ResNetBlock):\n",
    "\n",
    "    def __init__(self, act_fn, dim, init_fn, dropout_rate, name=None):\n",
    "        super().__init__(act_fn, dim, init_fn, dropout_rate, name)\n",
    "\n",
    "\n",
    "    def __call__(self, x, is_training):\n",
    "        key = hk.next_rng_key()\n",
    "        subkey1, subkey2, subkey3 = jax.random.split(key, 3)\n",
    "        z = hk.BatchNorm(True, True, 0.9)(x, is_training)\n",
    "        z = self.act_fn(z)\n",
    "        if is_training:\n",
    "            z = hk.dropout(subkey1, self.dropout_rate, z)\n",
    "        z = hk.Linear(self.dim, w_init=self.init_fn, with_bias=False)(z)\n",
    "        z = hk.BatchNorm(True, True, 0.9)(z, is_training)\n",
    "        z = self.act_fn(z)\n",
    "        if is_training:\n",
    "            z = hk.dropout(subkey2, self.dropout_rate, z)\n",
    "        z = hk.Linear(self.dim, w_init=self.init_fn, with_bias=False)(z)\n",
    "        if is_training:\n",
    "            z = hk.dropout(subkey3, self.dropout_rate, z)\n",
    "        x_out = z + x\n",
    "        return x_out\n",
    "\n",
    "\n",
    "class ResNet:\n",
    "    def __init__(self, block_class, num_blocks, hidden_dims,\n",
    "                 optim, init_fn, act_fn, dropout_rate):\n",
    "\n",
    "        self.block_class = block_class\n",
    "        self.num_blocks = num_blocks\n",
    "        self.hidden_dims = hidden_dims\n",
    "        self.act_fn = act_fn\n",
    "        self.optimiser = optim\n",
    "        self.init_fn = init_fn #TODO try d/t values\n",
    "        self.dropout_rate = dropout_rate\n",
    "        self._forward = hk.transform_with_state(self._forward_fn)\n",
    "        self.loss = jax.jit(self.loss)\n",
    "        self.update = jax.jit(self.update)\n",
    "\n",
    "        assert len(self.num_blocks) == len(self.hidden_dims)\n",
    "\n",
    "    def init(self, rng, x):\n",
    "        params, net_state = self._forward.init(rng, x, is_training=True)\n",
    "        opt_state = self.optimiser.init(params)\n",
    "        return ResnetState(params, opt_state, net_state)\n",
    "\n",
    "    def apply(self, state, x, key, is_training=True):\n",
    "        return self._forward.apply(state.params, state.net_state, key, x, is_training)\n",
    "\n",
    "\n",
    "    def update(self, key, train_state, x, y):\n",
    "        params, opt_state, net_state = train_state\n",
    "        grads, net_state = jax.grad(self.loss, has_aux=True)(params, net_state, key, x, y)\n",
    "        updates, opt_state = self.optimiser.update(grads, opt_state, params)\n",
    "        params = optax.apply_updates(params, updates)\n",
    "        return ResnetState(params, opt_state, net_state)\n",
    "\n",
    "    def _forward_fn(self, x, is_training):\n",
    "\n",
    "        # First layer\n",
    "        x = hk.Linear(self.hidden_dims[0], w_init=self.init_fn, with_bias=False)(x)\n",
    "\n",
    "        if self.block_class == ResNetBlock: # If pre-activation block , we don't apply non-linearities  yet\n",
    "            x = hk.BatchNorm(True, True, 0.9)(x, is_training)\n",
    "            x = self.act_fn(x)\n",
    "\n",
    "        for block_idx, block_count in enumerate(self.num_blocks):\n",
    "            for bc in range(block_count):\n",
    "                x = self.block_class(self.act_fn, self.hidden_dims[block_idx], self.init_fn, self.dropout_rate)(x, is_training)\n",
    "\n",
    "\n",
    "        x = hk.Linear(1)(x)\n",
    "\n",
    "        return x\n",
    "\n",
    "    def loss(self, params, net_state, key, x, y):\n",
    "        preds, state = self._forward.apply(params, net_state, key, x, True)\n",
    "        preds = preds.squeeze()\n",
    "        nll_loss = jnp.mean((preds - y)**2)\n",
    "\n",
    "        return nll_loss, state"
   ],
   "metadata": {
    "collapsed": false,
    "pycharm": {
     "name": "#%%\n"
    }
   }
  },
  {
   "cell_type": "markdown",
   "source": [
    "##### NN Model"
   ],
   "metadata": {
    "collapsed": false,
    "pycharm": {
     "name": "#%% md\n"
    }
   }
  },
  {
   "cell_type": "code",
   "execution_count": 287,
   "outputs": [],
   "source": [
    "from tqdm import tqdm\n",
    "\n",
    "def get_act_fn(name):\n",
    "    if name == \"relu\":\n",
    "        return jax.nn.relu\n",
    "    if name == \"swish\":\n",
    "        return jax.nn.swish\n",
    "    if name == \"tanh\":\n",
    "        return jax.nn.tanh\n",
    "    if name == \"sigmoid\":\n",
    "        return jax.nn.sigmoid\n",
    "    if name == \"celu\":\n",
    "        return jax.nn.celu\n",
    "    if name == \"relu6\":\n",
    "        return jax.nn.relu6\n",
    "    if name == \"glu\":\n",
    "        return jax.nn.glu\n",
    "    if name == \"elu\":\n",
    "        return jax.nn.elu\n",
    "    if name == \"leaky_relu\":\n",
    "        return jax.nn.leaky_relu\n",
    "    if name == \"log_sigmoid\":\n",
    "        return jax.nn.log_sigmoid\n",
    "\n",
    "    return ValueError(f\"Unknown activation function: {name}\")\n",
    "\n",
    "def init_nn_model(optim,\n",
    "                  block_type, num_blocks,\n",
    "                  hidden_sizes, init_fn, act_fn, dropout_rate):\n",
    "\n",
    "    if block_type == \"ResNet\":\n",
    "        block_class = ResNetBlock\n",
    "    else:\n",
    "        block_class = PreActResNetBlock\n",
    "\n",
    "    model = ResNet(block_class, num_blocks, hidden_sizes, optim, init_fn, act_fn, dropout_rate)\n",
    "\n",
    "    return model\n",
    "\n",
    "\n",
    "def train_nn_model(rng_key, data_loader, epochs, num_cycles, lr_0,\n",
    "                       block_type, num_blocks, hidden_sizes, init_fn, weight_decay,\n",
    "                        act_fn_name, dropout_rate ,show_pgbar=True):\n",
    "\n",
    "\n",
    "    act_fn = get_act_fn(act_fn_name)\n",
    "    total_steps = len(data_loader)*epochs\n",
    "\n",
    "    schedule_fn = make_cyclical_lr_fn(lr_0, epochs, num_cycles)\n",
    "    optim = optax.chain(optax.scale_by_adam(), optax.add_decayed_weights(weight_decay),\n",
    "                        optax.scale_by_schedule(schedule_fn), optax.scale(-1.0))\n",
    "    model = init_nn_model(optim, block_type, num_blocks, hidden_sizes, init_fn, act_fn, dropout_rate)\n",
    "\n",
    "    cycle_len = epochs // num_cycles\n",
    "    init_state = model.init(rng_key, next(iter(data_loader))[0])\n",
    "\n",
    "    state = init_state\n",
    "\n",
    "    # print(f\"Total iterations: {epochs*num_batches}, Num Batches: {num_batches}, Cycle Len: {M}\")\n",
    "    states = []\n",
    "    val_losses = []\n",
    "    step = 0\n",
    "    key = rng_key\n",
    "\n",
    "    if show_pgbar:\n",
    "        pgbar = tqdm(range(epochs))\n",
    "    else:\n",
    "        pgbar = range(epochs)\n",
    "\n",
    "    for epoch in pgbar:\n",
    "        for batch_x, batch_y in data_loader:\n",
    "            _, key = jax.random.split(key, 2)\n",
    "            state = model.update(key, state, batch_x, batch_y)\n",
    "            step += 1\n",
    "\n",
    "        if epoch > 0 and ((epoch + 1) % cycle_len == 0): # take snapshot\n",
    "            states.append(state)\n",
    "\n",
    "\n",
    "    return model, states, val_losses\n",
    "\n",
    "\n",
    "def eval_nn_model(key, model, x, y, states):\n",
    "\n",
    "    if isinstance(states, list):\n",
    "        y_preds = np.zeros((len(states), len(y)))\n",
    "        for i, state in enumerate(states):\n",
    "            preds, _ = model.apply(state, x, key, False)\n",
    "            y_preds[i] = preds.squeeze()\n",
    "\n",
    "        y_preds = np.mean(y_preds, axis=0)\n",
    "        rmse = jnp.sqrt(jnp.mean((y - y_preds)**2))\n",
    "    else:\n",
    "        y_preds, _ = model.apply(states, x, key, False)\n",
    "        rmse = jnp.sqrt(jnp.mean((y - y_preds.squeeze())**2))\n",
    "\n",
    "    return rmse"
   ],
   "metadata": {
    "collapsed": false,
    "pycharm": {
     "name": "#%%\n"
    }
   }
  },
  {
   "cell_type": "code",
   "execution_count": 297,
   "outputs": [],
   "source": [
    "import optuna\n",
    "def objective_resnet(trial, seed, x_train, x_val, y_train, y_val, epochs,\n",
    "                  batch_size, num_blocks, hidden_sizes, init_fn):\n",
    "\n",
    "    lr_0 = trial.suggest_categorical(\"lr_0\", [1e-3, 5e-3, 1e-2, 1e-1])\n",
    "    act_fn = \"relu\"\n",
    "    weight_decay = trial.suggest_float(\"weight_decay\", 1e-10, 1., log=True)\n",
    "    dropout_rate = trial.suggest_categorical(\"dropout_rate\", [0., 0.1, 0.2, 0.3, 0.4, 0.5, 0.6, 0.7])\n",
    "    num_cycles = trial.suggest_categorical(\"num_cycles\", [2, 4, 6, 8, 10])\n",
    "    block_type = trial.suggest_categorical(\"block_type\", [\"ResNet\", \"PreActResNet\"])\n",
    "\n",
    "    torch.manual_seed(seed)\n",
    "    rng = jax.random.PRNGKey(seed)\n",
    "    data_loader = NumpyLoader(NumpyData(x_train, y_train), batch_size=batch_size, shuffle=True, drop_last=True)\n",
    "\n",
    "    bnn_model, state, _ = train_nn_model(rng, data_loader, epochs, num_cycles, lr_0,\n",
    "                                                                block_type, num_blocks, hidden_sizes,\n",
    "                                                                init_fn, weight_decay, act_fn, dropout_rate ,show_pgbar=False)\n",
    "\n",
    "    rmse = eval_nn_model(rng_key, bnn_model, x_val, y_val, state)\n",
    "\n",
    "    return rmse"
   ],
   "metadata": {
    "collapsed": false,
    "pycharm": {
     "name": "#%%\n"
    }
   }
  },
  {
   "cell_type": "code",
   "execution_count": 313,
   "outputs": [
    {
     "name": "stderr",
     "output_type": "stream",
     "text": [
      "\u001B[32m[I 2023-01-31 18:13:06,560]\u001B[0m A new study created in memory with name: no-name-697efa14-e31c-4452-9a69-4f752b779415\u001B[0m\n",
      "\u001B[32m[I 2023-01-31 18:13:56,467]\u001B[0m Trial 0 finished with value: 0.9390432238578796 and parameters: {'lr_0': 0.1, 'weight_decay': 0.0018197136825097908, 'dropout_rate': 0.6, 'num_cycles': 10, 'block_type': 'ResNet'}. Best is trial 0 with value: 0.9390432238578796.\u001B[0m\n",
      "\u001B[32m[I 2023-01-31 18:14:41,397]\u001B[0m Trial 1 finished with value: 0.5342723727226257 and parameters: {'lr_0': 0.01, 'weight_decay': 0.032854033879743144, 'dropout_rate': 0.1, 'num_cycles': 2, 'block_type': 'ResNet'}. Best is trial 1 with value: 0.5342723727226257.\u001B[0m\n",
      "\u001B[32m[I 2023-01-31 18:15:27,790]\u001B[0m Trial 2 finished with value: 0.5291550755500793 and parameters: {'lr_0': 0.01, 'weight_decay': 1.5295816507885268e-06, 'dropout_rate': 0.0, 'num_cycles': 6, 'block_type': 'ResNet'}. Best is trial 2 with value: 0.5291550755500793.\u001B[0m\n",
      "\u001B[32m[I 2023-01-31 18:16:15,859]\u001B[0m Trial 3 finished with value: 0.5546969771385193 and parameters: {'lr_0': 0.005, 'weight_decay': 3.420976960866209e-05, 'dropout_rate': 0.3, 'num_cycles': 8, 'block_type': 'ResNet'}. Best is trial 2 with value: 0.5291550755500793.\u001B[0m\n"
     ]
    }
   ],
   "source": [
    "optuna.logging.set_verbosity(optuna.logging.INFO)\n",
    "sampler = optuna.samplers.TPESampler()\n",
    "study = optuna.create_study(sampler=sampler)\n",
    "init_fn = hk.initializers.VarianceScaling(2.0, \"fan_in\",  \"truncated_normal\")\n",
    "study.optimize(lambda trial: objective_resnet(trial, seed, X_train, X_val, y_train, y_val, 200, 32,\n",
    "                                              [1, 1, 1], [512, 512, 512], init_fn), timeout=180)"
   ],
   "metadata": {
    "collapsed": false,
    "pycharm": {
     "name": "#%%\n"
    }
   }
  },
  {
   "cell_type": "code",
   "execution_count": 314,
   "outputs": [
    {
     "name": "stdout",
     "output_type": "stream",
     "text": [
      "{'lr_0': 0.01, 'weight_decay': 1.5295816507885268e-06, 'dropout_rate': 0.0, 'num_cycles': 6, 'block_type': 'ResNet'}\n"
     ]
    }
   ],
   "source": [
    "resnet_config = study.best_params\n",
    "print(resnet_config)"
   ],
   "metadata": {
    "collapsed": false,
    "pycharm": {
     "name": "#%%\n"
    }
   }
  },
  {
   "cell_type": "code",
   "execution_count": 112,
   "outputs": [
    {
     "ename": "ImportError",
     "evalue": "Tried to import 'plotly' but failed. Please make sure that the package is installed correctly to use this feature. Actual error: No module named 'plotly'.",
     "output_type": "error",
     "traceback": [
      "\u001B[0;31m---------------------------------------------------------------------------\u001B[0m",
      "\u001B[0;31mModuleNotFoundError\u001B[0m                       Traceback (most recent call last)",
      "File \u001B[0;32m~/miniconda3/lib/python3.9/site-packages/optuna/visualization/_plotly_imports.py:7\u001B[0m, in \u001B[0;36m<module>\u001B[0;34m\u001B[0m\n\u001B[1;32m      6\u001B[0m \u001B[38;5;28;01mwith\u001B[39;00m try_import() \u001B[38;5;28;01mas\u001B[39;00m _imports:  \u001B[38;5;66;03m# NOQA\u001B[39;00m\n\u001B[0;32m----> 7\u001B[0m     \u001B[38;5;28;01mimport\u001B[39;00m \u001B[38;5;21;01mplotly\u001B[39;00m  \u001B[38;5;66;03m# NOQA\u001B[39;00m\n\u001B[1;32m      8\u001B[0m     \u001B[38;5;28;01mfrom\u001B[39;00m \u001B[38;5;21;01mplotly\u001B[39;00m \u001B[38;5;28;01mimport\u001B[39;00m __version__ \u001B[38;5;28;01mas\u001B[39;00m plotly_version\n",
      "\u001B[0;31mModuleNotFoundError\u001B[0m: No module named 'plotly'",
      "\nThe above exception was the direct cause of the following exception:\n",
      "\u001B[0;31mImportError\u001B[0m                               Traceback (most recent call last)",
      "Input \u001B[0;32mIn [112]\u001B[0m, in \u001B[0;36m<cell line: 2>\u001B[0;34m()\u001B[0m\n\u001B[1;32m      1\u001B[0m \u001B[38;5;28;01mfrom\u001B[39;00m \u001B[38;5;21;01moptuna\u001B[39;00m\u001B[38;5;21;01m.\u001B[39;00m\u001B[38;5;21;01mvisualization\u001B[39;00m \u001B[38;5;28;01mimport\u001B[39;00m plot_param_importances\n\u001B[0;32m----> 2\u001B[0m \u001B[43mplot_param_importances\u001B[49m\u001B[43m(\u001B[49m\u001B[43mstudy\u001B[49m\u001B[43m)\u001B[49m\n",
      "File \u001B[0;32m~/miniconda3/lib/python3.9/site-packages/optuna/visualization/_param_importances.py:138\u001B[0m, in \u001B[0;36mplot_param_importances\u001B[0;34m(study, evaluator, params, target, target_name)\u001B[0m\n\u001B[1;32m     74\u001B[0m \u001B[38;5;28;01mdef\u001B[39;00m \u001B[38;5;21mplot_param_importances\u001B[39m(\n\u001B[1;32m     75\u001B[0m     study: Study,\n\u001B[1;32m     76\u001B[0m     evaluator: Optional[BaseImportanceEvaluator] \u001B[38;5;241m=\u001B[39m \u001B[38;5;28;01mNone\u001B[39;00m,\n\u001B[0;32m   (...)\u001B[0m\n\u001B[1;32m     80\u001B[0m     target_name: \u001B[38;5;28mstr\u001B[39m \u001B[38;5;241m=\u001B[39m \u001B[38;5;124m\"\u001B[39m\u001B[38;5;124mObjective Value\u001B[39m\u001B[38;5;124m\"\u001B[39m,\n\u001B[1;32m     81\u001B[0m ) \u001B[38;5;241m-\u001B[39m\u001B[38;5;241m>\u001B[39m \u001B[38;5;124m\"\u001B[39m\u001B[38;5;124mgo.Figure\u001B[39m\u001B[38;5;124m\"\u001B[39m:\n\u001B[1;32m     82\u001B[0m     \u001B[38;5;124;03m\"\"\"Plot hyperparameter importances.\u001B[39;00m\n\u001B[1;32m     83\u001B[0m \n\u001B[1;32m     84\u001B[0m \u001B[38;5;124;03m    Example:\u001B[39;00m\n\u001B[0;32m   (...)\u001B[0m\n\u001B[1;32m    135\u001B[0m \u001B[38;5;124;03m        A :class:`plotly.graph_objs.Figure` object.\u001B[39;00m\n\u001B[1;32m    136\u001B[0m \u001B[38;5;124;03m    \"\"\"\u001B[39;00m\n\u001B[0;32m--> 138\u001B[0m     \u001B[43m_imports\u001B[49m\u001B[38;5;241;43m.\u001B[39;49m\u001B[43mcheck\u001B[49m\u001B[43m(\u001B[49m\u001B[43m)\u001B[49m\n\u001B[1;32m    140\u001B[0m     importances_info \u001B[38;5;241m=\u001B[39m _get_importances_info(study, evaluator, params, target, target_name)\n\u001B[1;32m    141\u001B[0m     hover_template \u001B[38;5;241m=\u001B[39m _get_hover_template(importances_info, study)\n",
      "File \u001B[0;32m~/miniconda3/lib/python3.9/site-packages/optuna/_imports.py:89\u001B[0m, in \u001B[0;36m_DeferredImportExceptionContextManager.check\u001B[0;34m(self)\u001B[0m\n\u001B[1;32m     87\u001B[0m \u001B[38;5;28;01mif\u001B[39;00m \u001B[38;5;28mself\u001B[39m\u001B[38;5;241m.\u001B[39m_deferred \u001B[38;5;129;01mis\u001B[39;00m \u001B[38;5;129;01mnot\u001B[39;00m \u001B[38;5;28;01mNone\u001B[39;00m:\n\u001B[1;32m     88\u001B[0m     exc_value, message \u001B[38;5;241m=\u001B[39m \u001B[38;5;28mself\u001B[39m\u001B[38;5;241m.\u001B[39m_deferred\n\u001B[0;32m---> 89\u001B[0m     \u001B[38;5;28;01mraise\u001B[39;00m \u001B[38;5;167;01mImportError\u001B[39;00m(message) \u001B[38;5;28;01mfrom\u001B[39;00m \u001B[38;5;21;01mexc_value\u001B[39;00m\n",
      "\u001B[0;31mImportError\u001B[0m: Tried to import 'plotly' but failed. Please make sure that the package is installed correctly to use this feature. Actual error: No module named 'plotly'."
     ]
    }
   ],
   "source": [
    "from optuna.visualization import plot_param_importances\n",
    "plot_param_importances(study)"
   ],
   "metadata": {
    "collapsed": false,
    "pycharm": {
     "name": "#%%\n"
    }
   }
  },
  {
   "cell_type": "code",
   "execution_count": 323,
   "outputs": [
    {
     "name": "stderr",
     "output_type": "stream",
     "text": [
      "100%|█████████████████████████████████████████████████████████████████████████████████| 200/200 [00:57<00:00,  3.49it/s]\n"
     ]
    }
   ],
   "source": [
    "import torch\n",
    "rng_key = jax.random.PRNGKey(seed)\n",
    "epochs = 200\n",
    "num_cycles = resnet_config[\"num_cycles\"]\n",
    "# num_cycles = 6\n",
    "batch_size = 32\n",
    "lr_0 = resnet_config[\"lr_0\"]\n",
    "# lr_0 = 0.005\n",
    "hidden_sizes = [512, 512, 512]\n",
    "num_blocks = [1, 1, 1]\n",
    "weight_decay = resnet_config[\"weight_decay\"]\n",
    "block_type = \"ResNet\"\n",
    "dropout_rate = resnet_config[\"dropout_rate\"]\n",
    "init_fn = hk.initializers.VarianceScaling(2.0, \"fan_in\",  \"truncated_normal\")\n",
    "torch.manual_seed(seed)\n",
    "data_loader = NumpyLoader(NumpyData(X_train_outer, y_train_outer), batch_size=batch_size, shuffle=True, drop_last=True)\n",
    "val_data = NumpyData(X_val, y_val)\n",
    "\n",
    "bnn_model, state, val_losses = train_nn_model(rng_key, data_loader, epochs, num_cycles, lr_0,\n",
    "                                    block_type, num_blocks, hidden_sizes,\n",
    "                                    init_fn, weight_decay, \"relu\" , 0.1)"
   ],
   "metadata": {
    "collapsed": false,
    "pycharm": {
     "name": "#%%\n"
    }
   }
  },
  {
   "cell_type": "code",
   "execution_count": 324,
   "outputs": [
    {
     "name": "stdout",
     "output_type": "stream",
     "text": [
      "Val RMSE: 0.05866165831685066\n",
      "Test RMSE: 0.5023300051689148\n"
     ]
    }
   ],
   "source": [
    "rmse_val = eval_nn_model(rng_key, bnn_model, X_train_outer, y_train_outer, state)\n",
    "rmse_test = eval_nn_model(rng_key, bnn_model, X_test, y_test, state)\n",
    "print(f\"Val RMSE: {rmse_val}\")\n",
    "print(f\"Test RMSE: {rmse_test}\")"
   ],
   "metadata": {
    "collapsed": false,
    "pycharm": {
     "name": "#%%\n"
    }
   }
  },
  {
   "cell_type": "code",
   "execution_count": 325,
   "outputs": [
    {
     "data": {
      "text/plain": "10"
     },
     "execution_count": 325,
     "metadata": {},
     "output_type": "execute_result"
    }
   ],
   "source": [
    "len(data_loader)"
   ],
   "metadata": {
    "collapsed": false,
    "pycharm": {
     "name": "#%%\n"
    }
   }
  },
  {
   "cell_type": "code",
   "execution_count": 326,
   "outputs": [
    {
     "name": "stdout",
     "output_type": "stream",
     "text": [
      "2000\n",
      "10\n"
     ]
    },
    {
     "data": {
      "text/plain": "[<matplotlib.lines.Line2D at 0x7fe2f700f070>]"
     },
     "execution_count": 326,
     "metadata": {},
     "output_type": "execute_result"
    },
    {
     "data": {
      "text/plain": "<Figure size 640x480 with 1 Axes>",
      "image/png": "[encoded data removed]"
     },
     "metadata": {},
     "output_type": "display_data"
    }
   ],
   "source": [
    "epochs = 200\n",
    "num_cycles = 6\n",
    "total_steps = len(data_loader)*epochs\n",
    "print(total_steps)\n",
    "print(len(data_loader))\n",
    "schedule_fn = make_cyclical_lr_fn(lr_0, epochs, num_cycles)\n",
    "lrs = []\n",
    "cycle_ends = []\n",
    "for i in range(total_steps):\n",
    "    curr_lr = schedule_fn(i)\n",
    "    lrs.append(curr_lr)\n",
    "    if curr_lr == 0.0:\n",
    "        cycle_ends.append(i)\n",
    "\n",
    "plt.plot(lrs)"
   ],
   "metadata": {
    "collapsed": false,
    "pycharm": {
     "name": "#%%\n"
    }
   }
  },
  {
   "cell_type": "code",
   "execution_count": 322,
   "outputs": [
    {
     "data": {
      "text/plain": "DeviceArray(0.01, dtype=float32, weak_type=True)"
     },
     "execution_count": 322,
     "metadata": {},
     "output_type": "execute_result"
    }
   ],
   "source": [
    "lrs[33]"
   ],
   "metadata": {
    "collapsed": false,
    "pycharm": {
     "name": "#%%\n"
    }
   }
  },
  {
   "cell_type": "markdown",
   "source": [
    "##### ResNet Model"
   ],
   "metadata": {
    "collapsed": false,
    "pycharm": {
     "name": "#%% md\n"
    }
   }
  },
  {
   "cell_type": "code",
   "execution_count": null,
   "outputs": [],
   "source": [
    "rng_key = jax.random.PRNGKey(seed)\n",
    "epochs = 1000\n",
    "num_cycles = 7\n",
    "batch_size = 80\n",
    "beta = 0.7\n",
    "lr_0 = 1e-3\n",
    "num_blocks = 1\n",
    "hidden_dims = [1000, 500]\n",
    "temp, sigma = 1e-2, 1.0\n",
    "\n",
    "torch.manual_seed(seed)\n",
    "data_loader = NumpyLoader(NumpyData(X_train, y_train), batch_size=batch_size, shuffle=True)\n",
    "val_data = NumpyData(X_val, y_val)\n",
    "\n",
    "bnn_model, state, val_losses = train_resnet_model(rng_key, data_loader, val_data, epochs, num_cycles, beta, lr_0, num_blocks,\n",
    "                                                  hidden_dims, dropout_rate=0.0, act_fn=jax.nn.swish, patience=20)"
   ],
   "metadata": {
    "collapsed": false,
    "pycharm": {
     "name": "#%%\n"
    }
   }
  },
  {
   "cell_type": "code",
   "execution_count": null,
   "outputs": [],
   "source": [
    "rmse_val, r2_val = eval_bnn_model(rng_key, bnn_model, X_val, y_val, state)\n",
    "rmse_test, r2_test = eval_bnn_model(rng_key, bnn_model, X_test, y_test, state)\n",
    "print(f\"Val RMSE: {rmse_val}, r2_score: {r2_val}\")\n",
    "print(f\"Test RMSE: {rmse_test}, r2_score: {r2_test}\")"
   ],
   "metadata": {
    "collapsed": false,
    "pycharm": {
     "name": "#%%\n"
    }
   }
  },
  {
   "cell_type": "code",
   "execution_count": null,
   "outputs": [],
   "source": [
    "def train_deep_ens_model(rng_key, train_loader, val_data, epochs, num_cycles, beta, lr_0,\n",
    "                         hidden_sizes, num_ensembles=4, dropout_rate=0.0, act_fn=jax.nn.relu, patience=20):\n",
    "\n",
    "    \n",
    "    subkeys = jax.random.split(rng_key, num_ensembles)\n",
    "    ens_models = []\n",
    "    ens_states = []\n",
    "\n",
    "    val_losses = []\n",
    "    for ens_key in subkeys:\n",
    "        model, state, val_loss = train_nn_model(ens_key, train_loader, val_data, epochs, num_cycles, beta, lr_0,\n",
    "                                            hidden_sizes, dropout_rate=dropout_rate, act_fn=act_fn, patience=patience)\n",
    "\n",
    "        ens_models.append(model)\n",
    "        ens_states.append(state)\n",
    "        val_losses.append(val_loss)\n",
    "        \n",
    "    return ens_models, ens_states, val_losses\n",
    "\n",
    "\n",
    "def train_resnet_deep_ens_model(rng_key, train_loader, val_data, epochs, num_cycles, beta, lr_0,\n",
    "                                num_blocks, hidden_dim, output_dim, num_ensembles=4, dropout_rate=0.3, act_fn=jax.nn.relu, patience=20):\n",
    "\n",
    "    \n",
    "    subkeys = jax.random.split(rng_key, num_ensembles)\n",
    "    ens_models = []\n",
    "    ens_states = []\n",
    "\n",
    "    val_losses = []\n",
    "    for ens_key in subkeys:\n",
    "        model, state, val_loss = train_resnet_model(rng_key, train_loader, val_data, epochs, num_cycles, beta, lr_0, num_blocks,\n",
    "                                                    hidden_dim, output_dim, dropout_rate=dropout_rate, act_fn=act_fn, patience=patience)\n",
    "\n",
    "        ens_models.append(model)\n",
    "        ens_states.append(state)\n",
    "        val_losses.append(val_loss)\n",
    "        \n",
    "    return ens_models, ens_states, val_losses\n",
    "\n",
    "def eval_deep_ens_model(rng_key, models, X, y, ens_states):\n",
    "    y_preds = np.zeros((len(models), len(y)))\n",
    "\n",
    "    for i, (model, state) in enumerate(zip(models, ens_states)):\n",
    "        preds, _ = model.apply(state.avg_params, state.net_state, X, rng_key, is_training=False)\n",
    "        preds_mean, preds_std = jnp.split(preds, [1], axis=-1)\n",
    "        preds_mean = preds_mean.squeeze()\n",
    "        y_preds[i] = preds_mean\n",
    "\n",
    "    y_preds = np.mean(y_preds, axis=0)\n",
    "\n",
    "    rmse = jnp.sqrt(jnp.mean((y - y_preds)**2))\n",
    "    r2 = r2_score(y, y_preds)\n",
    "\n",
    "    return rmse, r2"
   ],
   "metadata": {
    "collapsed": false,
    "pycharm": {
     "name": "#%%\n"
    }
   }
  },
  {
   "cell_type": "code",
   "execution_count": null,
   "outputs": [],
   "source": [
    "rng_key = jax.random.PRNGKey(seed)\n",
    "epochs = 1000\n",
    "num_cycles = 3\n",
    "batch_size = 80\n",
    "beta = 0.80\n",
    "lr_0 = 1e-3\n",
    "hidden_sizes = [1000, 500, 300, 100]\n",
    "temp, sigma = 1e-2, 1.0\n",
    "\n",
    "torch.manual_seed(seed)\n",
    "data_loader = NumpyLoader(NumpyData(X_train, y_train), batch_size=batch_size, shuffle=True)\n",
    "val_data = NumpyData(X_val, y_val)\n",
    "models, states, val_losses = train_deep_ens_model(rng_key, data_loader, val_data, epochs, num_cycles, beta, lr_0,\n",
    "                                        hidden_sizes, dropout_rate=0.0, act_fn=jax.nn.swish, num_ensembles=5, patience=20)"
   ],
   "metadata": {
    "collapsed": false,
    "pycharm": {
     "name": "#%%\n"
    }
   }
  },
  {
   "cell_type": "code",
   "execution_count": null,
   "outputs": [],
   "source": [
    "for loss in val_losses:\n",
    "    plt.plot(loss)"
   ],
   "metadata": {
    "collapsed": false,
    "pycharm": {
     "name": "#%%\n"
    }
   }
  },
  {
   "cell_type": "code",
   "execution_count": null,
   "outputs": [],
   "source": [
    "rmse_val, r2_val = eval_deep_ens_model(rng_key, models, X_val, y_val, states)\n",
    "rmse_test, r2_test = eval_deep_ens_model(rng_key, models, X_test, y_test, states)\n",
    "print(f\"Val RMSE: {rmse_val}, r2_score: {r2_val}\")\n",
    "print(f\"Test RMSE: {rmse_test}, r2_score: {r2_test}\")"
   ],
   "metadata": {
    "collapsed": false,
    "pycharm": {
     "name": "#%%\n"
    }
   }
  },
  {
   "cell_type": "code",
   "execution_count": null,
   "outputs": [],
   "source": [
    "for model, state in zip(models, states):\n",
    "    rmse_val, r2_val = eval_bnn_model(rng_key, model, X_val, y_val, state)\n",
    "    rmse_test, r2_test = eval_bnn_model(rng_key, model, X_test, y_test, state)\n",
    "    print(f\"Val RMSE: {rmse_val}, r2_score: {r2_val}\")\n",
    "    print(f\"Test RMSE: {rmse_test}, r2_score: {r2_test}\")"
   ],
   "metadata": {
    "collapsed": false,
    "pycharm": {
     "name": "#%%\n"
    }
   }
  },
  {
   "cell_type": "code",
   "execution_count": null,
   "outputs": [],
   "source": [
    "J = np.load(f\"{data_dir}/cell_line/cancer_genes_net.npy\")\n",
    "np.count_nonzero(J)"
   ],
   "metadata": {
    "collapsed": false,
    "pycharm": {
     "name": "#%%\n"
    }
   }
  },
  {
   "cell_type": "code",
   "execution_count": null,
   "outputs": [],
   "source": [
    "def disc_sgd_gradient_update(step_size_fn,\n",
    "                         momentum_decay=0.,\n",
    "                         preconditioner=None):\n",
    "  \"\"\"Optax implementation of the SGD optimizer.\n",
    "  \"\"\"\n",
    "\n",
    "  if preconditioner is None:\n",
    "    preconditioner = get_identity_preconditioner()\n",
    "\n",
    "  def init_fn(gamma):\n",
    "    return OptaxSGLDState(\n",
    "        count=jnp.zeros([], jnp.int32),\n",
    "        momentum=jax.tree_map(jnp.zeros_like, gamma),\n",
    "        preconditioner_state=preconditioner.init(gamma))\n",
    "\n",
    "  def update_fn(key, gamma, gradient, state):\n",
    "    lr = step_size_fn(state.count)\n",
    "    lr_sqrt = jnp.sqrt(lr)\n",
    "\n",
    "    preconditioner_state = preconditioner.update_preconditioner(\n",
    "        gradient, state.preconditioner_state)\n",
    "\n",
    "    def update_momentum(m, g):\n",
    "      return momentum_decay * m + g * lr_sqrt\n",
    "      \n",
    "    def proposal(theta, g, step_size):\n",
    "        diff = (0.5*g*-(2*theta - 1)) - (1./(2*step_size))\n",
    "        prob = jax.nn.sigmoid(diff)\n",
    "        prob_inv = 1 - prob\n",
    "        prob = prob[...,None]\n",
    "        prob_inv = prob_inv[...,None]\n",
    "        delta = jnp.argmax(jnp.concatenate([prob, prob_inv], axis=1), axis=-1)  \n",
    "\n",
    "        theta_delta = (1 - theta)*delta + theta*(1 - delta)\n",
    "        return theta_delta*1.\n",
    "\n",
    "    momentum = jax.tree_map(update_momentum, state.momentum, gradient)\n",
    "    # updates = preconditioner.multiply_by_m_inv(momentum, preconditioner_state)\n",
    "    # updates = jax.tree_map(lambda m: m * lr_sqrt, updates)\n",
    "    gamma = proposal(gamma, gradient, lr)\n",
    "\n",
    "    return gamma, OptaxSGLDState(\n",
    "        count=state.count + 1,\n",
    "        momentum=momentum,\n",
    "        preconditioner_state=preconditioner_state)\n",
    "\n",
    "  return GradientTransformation(init_fn, update_fn)\n",
    "\n",
    "\n",
    "def disc_sgld_gradient_update(step_size_fn, \n",
    "                         momentum_decay=0.,\n",
    "                         preconditioner=None):\n",
    "  \"\"\"Optax implementation of the SGLD optimizer.\n",
    "\n",
    "  If momentum_decay is set to zero, we get the SGLD method [1]. Otherwise,\n",
    "  we get the underdamped SGLD (SGHMC) method [2].\n",
    "\n",
    "  Args:\n",
    "    step_size_fn: a function taking training step as input and prodng the\n",
    "      step size as output.\n",
    "    seed: int, random seed.\n",
    "    momentum_decay: float, momentum decay parameter (default: 0).\n",
    "    preconditioner: Preconditioner, an object representing the preconditioner\n",
    "      or None; if None, identity preconditioner is used (default: None).  [1]\n",
    "        \"Bayesian Learning via Stochastic Gradient Langevin Dynamics\" Max\n",
    "        Welling, Yee Whye Teh; ICML 2011  [2] \"Stochastic Gradient Hamiltonian\n",
    "        Monte Carlo\" Tianqi Chen, Emily B. Fox, Carlos Guestrin; ICML 2014\n",
    "  \"\"\"\n",
    "\n",
    "  if preconditioner is None:\n",
    "    preconditioner = get_identity_preconditioner()\n",
    "\n",
    "  def init_fn(gamma):\n",
    "    return OptaxSGLDState(\n",
    "        count=jnp.zeros([], jnp.int32),\n",
    "        momentum=jax.tree_map(jnp.zeros_like, gamma),\n",
    "        preconditioner_state=preconditioner.init(gamma))\n",
    "\n",
    "  def update_fn(key, gamma, gradient, state):\n",
    "    lr = step_size_fn(state.count)\n",
    "    lr_sqrt = jnp.sqrt(lr)\n",
    "\n",
    "    preconditioner_state = preconditioner.update_preconditioner(\n",
    "        gradient, state.preconditioner_state)\n",
    "\n",
    "    def update_momentum(m, g):\n",
    "      return momentum_decay * m + g * lr_sqrt\n",
    "      \n",
    "    def proposal(key, theta, g, step_size):\n",
    "        diff = (-0.5*g*(2*theta - 1)) - (1./(2*step_size))\n",
    "        delta = jax.random.bernoulli(key, jax.nn.sigmoid(diff))\n",
    "        theta_delta = (1 - theta)*delta + theta*(1 - delta)\n",
    "        return theta_delta*1.\n",
    "\n",
    "\n",
    "\n",
    "    momentum = jax.tree_map(update_momentum, state.momentum, gradient)\n",
    "    # updates = preconditioner.multiply_by_m_inv(momentum, preconditioner_state)\n",
    "    # updates = jax.tree_map(lambda m: m * lr_sqrt, updates)\n",
    "    gamma = proposal(key, gamma, gradient, lr)\n",
    "\n",
    "\n",
    "    return gamma, OptaxSGLDState(\n",
    "        count=state.count + 1,\n",
    "        momentum=momentum,\n",
    "        preconditioner_state=preconditioner_state)\n",
    "\n",
    "  return GradientTransformation(init_fn, update_fn)\n"
   ],
   "metadata": {
    "collapsed": false,
    "pycharm": {
     "name": "#%%\n"
    }
   }
  },
  {
   "cell_type": "markdown",
   "source": [
    "#### BNN with BG"
   ],
   "metadata": {
    "collapsed": false,
    "pycharm": {
     "name": "#%% md\n"
    }
   }
  },
  {
   "cell_type": "code",
   "execution_count": null,
   "outputs": [],
   "source": [
    "from typing import Any\n",
    "\n",
    "Pytree = Any\n",
    "\n",
    "class BgTrainingState(NamedTuple):\n",
    "  params: hk.Params\n",
    "  avg_params: hk.Params\n",
    "  opt_state: optax.OptState\n",
    "  net_state: hk.State\n",
    "  disc_state: Pytree\n",
    "  avg_disc_state: Pytree\n",
    "  disc_opt_state: OptaxSGLDState\n",
    "\n",
    "class BgBayesNN():\n",
    "    def __init__(self, sgd_optim, sgld_optim, disc_sgd_optim, disc_sgld_optim, \n",
    "                        weight_prior, temp,\n",
    "                        hidden_sizes, J, eta, mu, act_fn=jax.nn.relu):\n",
    "        self.hidden_sizes = hidden_sizes\n",
    "        self.act_fn = act_fn\n",
    "        self.sgd_optim = sgd_optim\n",
    "        self.sgld_optim = sgld_optim\n",
    "        self.optimiser = sgd_optim\n",
    "\n",
    "        self.disc_optimiser = disc_sgd_optim\n",
    "        self.disc_sgd_optim = disc_sgd_optim\n",
    "        self.disc_sgld_optim = disc_sgld_optim\n",
    "\n",
    "        self._forward = hk.transform_with_state(self._forward_fn)\n",
    "        self.loss = jax.jit(self.loss)\n",
    "        self.update = jax.jit(self.update)\n",
    "\n",
    "        self.add_noise = False\n",
    "        self.J = J\n",
    "        self.eta = eta\n",
    "        self.mu = mu\n",
    "\n",
    "        self.temperature = temp\n",
    "        self.weight_prior = weight_prior\n",
    "        # weight_decay = self.sigma*self.temperature\n",
    "        # self.weight_prior = tfd.Normal(0, self.sigma)\n",
    "        # self.weight_prior = tfd.StudentT(df=2, loc=0, scale=self.sigma)\n",
    "        # self.weight_prior = tfd.Horseshoe(scale=self.sigma)\n",
    "        # self.weight_prior = tfd.Laplace(0, self.sigma)\n",
    "\n",
    "    def init(self, rng, x):\n",
    "        gamma = tfd.Bernoulli(0.5*jnp.ones(x.shape[-1])).sample(seed=rng)*1.\n",
    "        params, net_state = self._forward.init(rng, x, gamma, is_training=True)\n",
    "        opt_state = self.optimiser.init(params)\n",
    "        disc_opt_state = self.disc_optimiser.init(gamma)\n",
    "        return BgTrainingState(params, params, opt_state, net_state, gamma, gamma, disc_opt_state)\n",
    "\n",
    "    def apply(self, params, net_state, key, gamma, x, is_training):\n",
    "        return self._forward.apply(params, net_state, key, x, gamma, is_training)\n",
    "\n",
    "\n",
    "    def update(self, key, train_state, x, y):\n",
    "        if self.add_noise:\n",
    "            self.optimiser = self.sgld_optim\n",
    "            self.disc_optimiser = self.disc_sgld_optim\n",
    "        else:\n",
    "            self.optimiser = self.sgd_optim\n",
    "            self.disc_optimiser = self.disc_sgd_optim\n",
    "        \n",
    "        params, avg_params, opt_state, net_state, gamma, avg_gamma, disc_opt_state = train_state\n",
    "        grads, net_state = jax.grad(self.loss, has_aux=True)(params, net_state, key, gamma, x, y)\n",
    "        updates, opt_state = self.optimiser.update(grads, opt_state)\n",
    "        params = optax.apply_updates(params, updates)\n",
    "        avg_params = optax.incremental_update(params, avg_params, step_size=0.001)\n",
    "\n",
    "        disc_grads, net_state = jax.grad(self.disc_loss, has_aux=True)(gamma, params, net_state, key, x, y)\n",
    "        gamma, disc_opt_state = self.disc_optimiser.update(key, gamma, disc_grads, disc_opt_state)\n",
    "        avg_gamma = optax.incremental_update(gamma, avg_gamma, step_size=0.01)\n",
    "        return BgTrainingState(params, avg_params, opt_state, net_state, gamma, avg_gamma, disc_opt_state)\n",
    "\n",
    "    def _forward_fn(self, x, gamma, is_training=True):\n",
    "        x = x @ jnp.diag(gamma)\n",
    "        init_fn = hk.initializers.VarianceScaling()\n",
    "        for hd in self.hidden_sizes:\n",
    "            x = hk.Linear(hd, w_init = init_fn)(x)\n",
    "            \n",
    "            # x = hk.BatchNorm(False, False, 0.9)(x, is_training)\n",
    "            x = self.act_fn(x)\n",
    "\n",
    "        x = hk.Linear(2)(x)\n",
    "        return x\n",
    "\n",
    "    def loss(self, params, net_state, key, gamma, x, y, is_training=True):\n",
    "        preds, state = self.apply(params, net_state, key, gamma, x, is_training)\n",
    "        preds_mean, preds_std = jnp.split(preds, [1], axis=-1)\n",
    "        preds_std = jax.nn.softplus(preds_std.squeeze())\n",
    "        tempered_var = (preds_std * jnp.sqrt(self.temperature))**2\n",
    "        preds_mean = preds_mean.squeeze()\n",
    "        # se = (y - preds_mean)**2\n",
    "        # log_likelihood = (-0.5*se / (preds_std**2) - \n",
    "        #                  0.5*jnp.log((preds_std**2)*2*jnp.pi))\n",
    "        # log_likelihood = jnp.sum(log_likelihood)\n",
    "        # preds = preds.squeeze()\n",
    "        # l2_loss = jnp.mean(optax.l2_loss(y, preds))\n",
    "        # l2_reg =  l2_regulariser = 0.5 * sum(\n",
    "        #         jnp.sum(jnp.square(p)) for p in jax.tree_util.tree_leaves(params))\n",
    "        \n",
    "        log_likelihood = jnp.sum(tfd.Normal(preds_mean, tempered_var).log_prob(y))\n",
    "        # batch_size = x.shape[0]\n",
    "        # log_likelihood = (self.data_size / batch_size)*log_likelihood\n",
    "        log_prior = self.log_prior(params)\n",
    "\n",
    "        return log_likelihood + log_prior, state\n",
    "\n",
    "    def log_prior(self, params):\n",
    "        \"\"\"Computes the Gaussian prior log-density.\"\"\"\n",
    "        logprob_tree = jax.tree_util.tree_leaves(jax.tree_util.tree_map(lambda x: jnp.sum(self.weight_prior.log_prob(x.reshape(-1))/self.temperature), \n",
    "                                                                            params))\n",
    "        \n",
    "        return sum(logprob_tree)\n",
    "\n",
    "    def disc_loss(self, gamma, params, net_state, key, x, y):\n",
    "        log_ll, state = self.loss(params, net_state, key, gamma, x, y)\n",
    "        log_prior = self.ising_prior(gamma)\n",
    "\n",
    "        return (log_prior + log_ll) / self.temperature, state\n",
    "\n",
    "    def ising_prior(self, gamma):\n",
    "        \"\"\"Log probability of the Ising model - prior over the discrete variables\"\"\"\n",
    "        return (self.eta*(gamma.T @ self.J @ gamma) + mu*jnp.sum(gamma))\n"
   ],
   "metadata": {
    "collapsed": false,
    "pycharm": {
     "name": "#%%\n"
    }
   }
  },
  {
   "cell_type": "code",
   "execution_count": null,
   "outputs": [],
   "source": [
    "class BGResNet:\n",
    "    def __init__(self, sgd_optim, sgld_optim, disc_sgd_optim, disc_sgld_optim,\n",
    "                 num_blocks, hidden_dim, skip_dim, J, eta, mu, act_fn=jax.nn.relu, dropout_rate=0.0):\n",
    "        self.hidden_sizes = hidden_sizes\n",
    "        self.act_fn = act_fn\n",
    "        self.sgd_optim = sgd_optim\n",
    "        self.sgld_optim = sgld_optim\n",
    "        self.optimiser = sgd_optim\n",
    "\n",
    "        self.num_blocks = num_blocks\n",
    "        self.hidden_dim = hidden_dim\n",
    "        self.skip_dim = skip_dim\n",
    "        self.dropout_rate = dropout_rate\n",
    "\n",
    "        self.disc_optimiser = disc_sgd_optim\n",
    "        self.disc_sgd_optim = disc_sgd_optim\n",
    "        self.disc_sgld_optim = disc_sgld_optim\n",
    "\n",
    "        self._forward = hk.transform_with_state(self._forward_fn)\n",
    "        self.loss = jax.jit(self.loss)\n",
    "        self.update = jax.jit(self.update)\n",
    "\n",
    "        self.add_noise = False\n",
    "        self.J = J\n",
    "        self.eta = eta\n",
    "        self.mu = mu\n",
    "\n",
    "        # weight_decay = self.sigma*self.temperature\n",
    "        # self.weight_prior = tfd.Normal(0, self.sigma)\n",
    "        # self.weight_prior = tfd.StudentT(df=2, loc=0, scale=self.sigma)\n",
    "        # self.weight_prior = tfd.Horseshoe(scale=self.sigma)\n",
    "        # self.weight_prior = tfd.Laplace(0, self.sigma)\n",
    "\n",
    "    def init(self, rng, x):\n",
    "        gamma = tfd.Bernoulli(0.5*jnp.ones(x.shape[-1])).sample(seed=rng)*1.\n",
    "        params, net_state = self._forward.init(rng, x, gamma, is_training=True)\n",
    "        opt_state = self.optimiser.init(params)\n",
    "        disc_opt_state = self.disc_optimiser.init(gamma)\n",
    "        return BgTrainingState(params, params, opt_state, net_state, gamma, gamma, disc_opt_state)\n",
    "\n",
    "    def apply(self, params, net_state, key, gamma, x, is_training):\n",
    "        return self._forward.apply(params, net_state, key, x, gamma, is_training)\n",
    "\n",
    "\n",
    "    def update(self, key, train_state, x, y):\n",
    "        if self.add_noise:\n",
    "            self.optimiser = self.sgld_optim\n",
    "            self.disc_optimiser = self.disc_sgld_optim\n",
    "        else:\n",
    "            self.optimiser = self.sgd_optim\n",
    "            self.disc_optimiser = self.disc_sgd_optim\n",
    "\n",
    "        params, avg_params, opt_state, net_state, gamma, avg_gamma, disc_opt_state = train_state\n",
    "        grads, net_state = jax.grad(self.loss, has_aux=True)(params, net_state, key, gamma, x, y)\n",
    "        updates, opt_state = self.optimiser.update(grads, opt_state)\n",
    "        params = optax.apply_updates(params, updates)\n",
    "        avg_params = optax.incremental_update(params, avg_params, step_size=0.001)\n",
    "\n",
    "        disc_grads, net_state = jax.grad(self.disc_loss, has_aux=True)(gamma, params, net_state, key, x, y)\n",
    "        gamma, disc_opt_state = self.disc_optimiser.update(key, gamma, disc_grads, disc_opt_state)\n",
    "        avg_gamma = optax.incremental_update(gamma, avg_gamma, step_size=0.01)\n",
    "        return BgTrainingState(params, avg_params, opt_state, net_state, gamma, avg_gamma, disc_opt_state)\n",
    "\n",
    "    def _forward_fn(self, x, gamma, is_training=True):\n",
    "        x = x @ jnp.diag(gamma)\n",
    "        init_fn = hk.initializers.VarianceScaling()\n",
    "        x = hk.Linear(self.skip_dim, w_init=init_fn)(x)\n",
    "        for _ in range(self.num_blocks):\n",
    "            z = x\n",
    "            z = ResNetBlock(self.act_fn, self.hidden_dim, self.skip_dim, self.dropout_rate)(z, is_training)\n",
    "            x = x + z\n",
    "\n",
    "        x = hk.BatchNorm(False, False, 0.9)(x, is_training)\n",
    "        x = self.act_fn(x)\n",
    "        x = hk.Linear(2)(x)\n",
    "\n",
    "        return x\n",
    "\n",
    "    def loss(self, params, net_state, key, gamma, x, y, is_training=True):\n",
    "        preds, state = self.apply(params, net_state, key, gamma, x, is_training)\n",
    "        preds_mean, preds_std = jnp.split(preds, [1], axis=-1)\n",
    "        preds_std = jax.nn.softplus(preds_std)\n",
    "        preds_mean = preds_mean.squeeze()\n",
    "        se = (y - preds_mean)**2\n",
    "        log_likelihood = (-0.5*se / (preds_std**2) -\n",
    "                          0.5*jnp.log((preds_std**2)*2*jnp.pi))\n",
    "        log_likelihood = jnp.sum(log_likelihood)\n",
    "        # preds = preds.squeeze()\n",
    "        # l2_loss = jnp.mean(optax.l2_loss(y, preds))\n",
    "        # l2_reg =  l2_regulariser = 0.5 * sum(\n",
    "        #         jnp.sum(jnp.square(p)) for p in jax.tree_util.tree_leaves(params))\n",
    "\n",
    "        return -log_likelihood, state\n",
    "\n",
    "    def log_prior(self, params):\n",
    "        \"\"\"Computes the Gaussian prior log-density.\"\"\"\n",
    "        logprob_tree = jax.tree_util.tree_leaves(jax.tree_util.tree_map(lambda x: jnp.sum(self.weight_prior.log_prob(x.reshape(-1))/self.temperature),\n",
    "                                                                        params))\n",
    "\n",
    "        return sum(logprob_tree)\n",
    "\n",
    "    def disc_loss(self, gamma, params, net_state, key, x, y):\n",
    "        log_ll, state = self.loss(params, net_state, key, gamma, x, y)\n",
    "        log_prior = self.ising_prior(gamma)\n",
    "\n",
    "        return log_prior - log_ll, state\n",
    "\n",
    "    def ising_prior(self, gamma):\n",
    "        \"\"\"Log probability of the Ising model - prior over the discrete variables\"\"\"\n",
    "        return (self.eta*(gamma.T @ self.J @ gamma) + mu*jnp.sum(gamma))\n"
   ],
   "metadata": {
    "collapsed": false,
    "pycharm": {
     "name": "#%%\n"
    }
   }
  },
  {
   "cell_type": "code",
   "execution_count": null,
   "outputs": [],
   "source": [
    "def train_bg_bnn_model(rng_key, train_loader, val_data, epochs, num_cycles, num_models, lr_0,\n",
    "                        disc_lr_0, weight_prior, temp, hidden_sizes, eta, mu, J, act_fn=jax.nn.relu, patience=20):\n",
    "\n",
    "    num_batches = len(train_loader)\n",
    "    total_steps = num_batches*epochs\n",
    "    cycle_len = epochs // num_cycles\n",
    "    print(cycle_len)\n",
    "    step_size_fn = make_cyclical_lr_fn(lr_0, total_steps, num_cycles)\n",
    "    disc_step_size_fn = make_cyclical_lr_fn(disc_lr_0, total_steps, num_cycles)\n",
    "\n",
    "    # step_size_fn = lambda c: lr_0\n",
    "    # disc_step_size_fn = lambda c: disc_lr_0\n",
    "\n",
    "    sgld_optim = optax.chain(optax.scale_by_schedule(step_size_fn),  optax.adam(lr_0), optax.scale(-1.0))\n",
    "    sgd_optim = optax.chain(optax.scale_by_schedule(step_size_fn),  optax.adam(lr_0), optax.scale(-1.0))\n",
    "\n",
    "    # sgd_optim = sgd_gradient_update(step_size_fn, momentum_decay=0, preconditioner=get_rmsprop_preconditioner())\n",
    "    # sgld_optim = sgld_gradient_update(step_size_fn, momentum_decay=0, preconditioner=get_rmsprop_preconditioner())\n",
    "    \n",
    "    disc_sgd_optim = disc_sgd_gradient_update(disc_step_size_fn, momentum_decay=0, preconditioner=get_identity_preconditioner())\n",
    "    disc_sgld_optim = disc_sgld_gradient_update(disc_step_size_fn, momentum_decay=0, preconditioner=get_identity_preconditioner())\n",
    "\n",
    "\n",
    "    model = BgBayesNN(sgd_optim, sgld_optim, disc_sgd_optim, disc_sgld_optim,\n",
    "                        weight_prior, temp,\n",
    "                        hidden_sizes, J, eta, mu, act_fn=act_fn)\n",
    "\n",
    "    train_state = model.init(rng_key, next(iter(train_loader))[0])\n",
    "\n",
    "    val_losses = []\n",
    "    lrs = []\n",
    "    key = rng_key\n",
    "    early_stopping = 0\n",
    "    step = 0\n",
    "    states = []\n",
    "    for epoch in range(epochs):\n",
    "        for batch_x, batch_y in train_loader:\n",
    "            _, key = jax.random.split(key, 2)\n",
    "            train_state = model.update(key, train_state, batch_x, batch_y)\n",
    "            step += 1\n",
    "        val_loss, _  = eval_bg_bnn_model(key, model, val_data.data, val_data.target, train_state)\n",
    "        c_lr = step_size_fn(step)\n",
    "        lrs.append(c_lr)\n",
    "        if (epoch % cycle_len) + 1 > (cycle_len - num_models):\n",
    "            states.append(train_state)\n",
    "\n",
    "        if epoch != 0 and (val_loss > val_losses[-1]):\n",
    "            early_stopping += 1\n",
    "            if early_stopping > patience:\n",
    "                print(f\"Stopping at epoch: {epoch}, Total train steps: {step}\")\n",
    "                break\n",
    "        else:\n",
    "            early_stopping = 0 #reset\n",
    "\n",
    "        val_losses.append(val_loss)\n",
    "\n",
    "    print(f\"Total number of steps trained: {step}\")\n",
    "\n",
    "    return model, states, val_losses, lrs\n",
    "\n",
    "def train_bg_bnn_model_v2(rng_key, train_loader, val_data, epochs, lr_0,\n",
    "                       disc_lr_0, weight_prior, temp, hidden_sizes, eta, mu, J, act_fn=jax.nn.relu, patience=20):\n",
    "\n",
    "    num_batches = len(train_loader)\n",
    "\n",
    "    step_size_fn = lambda c: lr_0\n",
    "    disc_step_size_fn = lambda c: disc_lr_0\n",
    "\n",
    "    sgld_optim = optax.chain(optax.scale_by_schedule(step_size_fn),  optax.adam(lr_0), optax.scale(-1.0))\n",
    "    sgd_optim = optax.chain(optax.scale_by_schedule(step_size_fn),  optax.adam(lr_0), optax.scale(-1.0))\n",
    "\n",
    "\n",
    "\n",
    "    disc_sgd_optim = disc_sgd_gradient_update(disc_step_size_fn, momentum_decay=0, preconditioner=get_identity_preconditioner())\n",
    "    disc_sgld_optim = disc_sgld_gradient_update(disc_step_size_fn, momentum_decay=0, preconditioner=get_identity_preconditioner())\n",
    "\n",
    "\n",
    "    model = BgBayesNN(sgd_optim, sgld_optim, disc_sgd_optim, disc_sgld_optim,\n",
    "                      weight_prior, temp,\n",
    "                      hidden_sizes, J, eta, mu, act_fn=act_fn)\n",
    "\n",
    "    train_state = model.init(rng_key, next(iter(train_loader))[0])\n",
    "\n",
    "    val_losses = []\n",
    "    key = rng_key\n",
    "    early_stopping = 0\n",
    "    step = 0\n",
    "\n",
    "    for epoch in range(epochs):\n",
    "        for batch_x, batch_y in train_loader:\n",
    "            _, key = jax.random.split(key, 2)\n",
    "            train_state = model.update(key, train_state, batch_x, batch_y)\n",
    "            step += 1\n",
    "        val_loss, _  = eval_bg_bnn_model(key, model, val_data.data, val_data.target, train_state)\n",
    "        if epoch != 0 and (val_loss > val_losses[-1]):\n",
    "            early_stopping += 1\n",
    "            if early_stopping > patience:\n",
    "                # print(f\"Stopping at epoch: {epoch}, Total train steps: {step}\")\n",
    "                break\n",
    "        else:\n",
    "            early_stopping = 0 #reset\n",
    "\n",
    "        val_losses.append(val_loss)\n",
    "\n",
    "    # print(f\"Total number of steps trained: {step}\")\n",
    "\n",
    "    return model, train_state, val_losses\n",
    "\n",
    "\n",
    "def eval_bg_bnn_model(rng_key, model, X, y, state):\n",
    "    # disc_state = jax.random.bernoulli(rng_key, state.avg_disc_state)\n",
    "    preds, _ = model.apply(state.params, state.net_state, rng_key, state.disc_state, X, is_training=False)\n",
    "    preds_mean, preds_std = jnp.split(preds, [1], axis=-1)\n",
    "    preds_mean = preds_mean.squeeze()\n",
    "\n",
    "    rmse = jnp.sqrt(jnp.mean((y - preds_mean)**2))\n",
    "    r2 = r2_score(y, preds_mean)\n",
    "\n",
    "    return rmse, r2\n",
    "\n",
    "def eval_per_model_score(rng_key, model, X, y, ens_states):\n",
    "    y_preds = np.zeros(len(y))\n",
    "\n",
    "    for i, state in enumerate(ens_states):\n",
    "        # disc_state = jax.random.bernoulli(rng_key, state.avg_disc_state)\n",
    "        preds, _ = model.apply(state.params, state.net_state, rng_key, state.disc_state, X, is_training=False)\n",
    "        preds_mean, preds_std = jnp.split(preds, [1], axis=-1)\n",
    "        preds_mean = preds_mean.squeeze()\n",
    "        y_preds += preds_mean\n",
    "\n",
    "    y_preds = y_preds / len(ens_states)\n",
    "\n",
    "    rmse = jnp.sqrt(jnp.mean((y - y_preds)**2))\n",
    "    r2 = r2_score(y, y_preds)\n",
    "\n",
    "    return rmse, r2\n",
    "\n"
   ],
   "metadata": {
    "collapsed": false,
    "pycharm": {
     "name": "#%%\n"
    }
   }
  },
  {
   "cell_type": "markdown",
   "source": [
    "##### BG + NN model"
   ],
   "metadata": {
    "collapsed": false,
    "pycharm": {
     "name": "#%% md\n"
    }
   }
  },
  {
   "cell_type": "code",
   "execution_count": null,
   "outputs": [],
   "source": [
    "rng_key = jax.random.PRNGKey(seed)\n",
    "epochs = 1000\n",
    "num_cycles = 10\n",
    "batch_size = 80\n",
    "num_models = 79\n",
    "lr_0, disc_lr_0 = 1e-3, 0.8\n",
    "hidden_sizes = [1000, 500, 300, 100]\n",
    "eta, mu = 10.0, 1.0\n",
    "\n",
    "temp, sigma = 1.0, 1.0\n",
    "weight_prior = tfd.StudentT(df=2, loc=0, scale=sigma)\n",
    "\n",
    "torch.manual_seed(seed)\n",
    "data_loader = NumpyLoader(NumpyData(X_train, y_train), batch_size=batch_size, shuffle=True)\n",
    "val_data = NumpyData(X_val, y_val)\n",
    "bg_bnn_model, states, val_losses, lrs = train_bg_bnn_model(rng_key, data_loader, val_data, epochs, num_cycles, num_models, lr_0, disc_lr_0,\n",
    "                                                        weight_prior, sigma,\n",
    "                                                        hidden_sizes, eta, mu, J, act_fn=jax.nn.swish)\n",
    "\n",
    "len(states)                                            "
   ],
   "metadata": {
    "collapsed": false,
    "pycharm": {
     "name": "#%%\n"
    }
   }
  },
  {
   "cell_type": "code",
   "execution_count": null,
   "outputs": [],
   "source": [
    "rmse_val, r2_val = eval_per_model_score(rng_key, bg_bnn_model, X_val, y_val, states)\n",
    "rmse_test, r2_test = eval_per_model_score(rng_key, bg_bnn_model, X_test, y_test, states)\n",
    "print(f\"Val  RMSE: {rmse_val}, r2_score: {r2_val}\")\n",
    "print(f\"Test RMSE: {rmse_test}, r2_score: {r2_test}\")"
   ],
   "metadata": {
    "collapsed": false,
    "pycharm": {
     "name": "#%%\n"
    }
   }
  },
  {
   "cell_type": "code",
   "execution_count": null,
   "outputs": [],
   "source": [
    "for state in states:\n",
    "    rmse_val, r2_val = eval_bg_bnn_model(rng_key, bg_bnn_model, X_val, y_val, state)\n",
    "    rmse_test, r2_test = eval_bg_bnn_model(rng_key, bg_bnn_model, X_test, y_test, state)\n",
    "    print(f\"Val  RMSE: {rmse_val}, r2_score: {r2_val}\")\n",
    "    print(f\"Test RMSE: {rmse_test}, r2_score: {r2_test}\")"
   ],
   "metadata": {
    "collapsed": false,
    "pycharm": {
     "name": "#%%\n"
    }
   }
  },
  {
   "cell_type": "code",
   "execution_count": null,
   "outputs": [],
   "source": [
    "from operator import itemgetter\n",
    "\n",
    "def train_bg_deep_ens_model(rng_key, train_loader, val_data, epochs, lr_0, disc_lr_0,\n",
    "                            weight_prior, temp, hidden_sizes, eta, mu, J, act_fn=jax.nn.relu, patience=20, num_ensembles=5):\n",
    "\n",
    "    \n",
    "    subkeys = jax.random.split(rng_key, num_ensembles)\n",
    "    ens_models = []\n",
    "    ens_states = []\n",
    "\n",
    "    val_losses = []\n",
    "\n",
    "    for ens_key in subkeys:\n",
    "        model, state, val_loss = train_bg_bnn_model_v2(ens_key, train_loader, val_data, epochs, lr_0, disc_lr_0,\n",
    "                                                    weight_prior, temp, hidden_sizes, eta, mu, J, act_fn=act_fn, patience=patience)\n",
    "\n",
    "        ens_models.append(model)\n",
    "        ens_states.append(state)\n",
    "        val_losses.append(val_loss)\n",
    "\n",
    "    return ens_models, ens_states, val_losses\n",
    "\n",
    "def eval_bg_deep_ens_model(rng_key, models, X, y, ens_states):\n",
    "    y_preds = np.zeros((len(models), len(y)))\n",
    "\n",
    "    for i, (model, state) in enumerate(zip(models, ens_states)):\n",
    "        # disc_state = jax.random.bernoulli(rng_key, state.avg_disc_state)\n",
    "        preds, _ = model.apply(state.params, state.net_state, rng_key, state.disc_state, X, is_training=False)\n",
    "        preds_mean, preds_std = jnp.split(preds, [1], axis=-1)\n",
    "        preds_mean = preds_mean.squeeze()\n",
    "        y_preds[i] = preds_mean\n",
    "\n",
    "    y_preds = np.mean(y_preds, axis=0)\n",
    "\n",
    "    rmse = jnp.sqrt(jnp.mean((y - y_preds)**2))\n",
    "    r2 = r2_score(y, y_preds)\n",
    "\n",
    "    return rmse, r2\n",
    "\n",
    "\n",
    "def get_feats_dropout_loss(models, states, X, y):\n",
    "\n",
    "    def eval_fn(models, X, y, ens_states, p, on=True):\n",
    "        y_preds = np.zeros((len(models), len(y)))\n",
    "        for i, (models, state) in enumerate(zip(models, ens_states)):\n",
    "            disc_state = state.disc_state\n",
    "            if not on:\n",
    "                disc_state = disc_state.at[p].set(0)\n",
    "            # disc_state = jax.random.bernoulli(rng_key, state.avg_disc_state)\n",
    "            preds, _ = model.apply(state.params, state.net_state, rng_key,  disc_state, X, is_training=False)\n",
    "            preds_mean, preds_std = jnp.split(preds, [1], axis=-1)\n",
    "            preds_mean = preds_mean.squeeze()\n",
    "            y_preds[i] = preds_mean\n",
    "\n",
    "        y_preds = np.mean(y_preds, axis=0)\n",
    "\n",
    "        rmse = jnp.sqrt(jnp.mean((y - y_preds)**2))\n",
    "        return rmse\n",
    "\n",
    "\n",
    "    var_loss_dict = {\"feats_idx\": [], \"num_models\": [] , \"loss_on\": [], \"loss_off\": [], \"loss_diff\": []}\n",
    "    disc_states  = np.array([state.disc_state for state in states])\n",
    "    # mean_gammas = np.mean(disc_states, axis=0)\n",
    "    # idxs = np.argwhere(mean_gammas == 1.0).ravel()\n",
    "    p = X.shape[-1]\n",
    "\n",
    "    for idx in range(p):\n",
    "        loss_diff = 0.0\n",
    "        idx_on = np.argwhere(disc_states[:,idx] == 1.).ravel()\n",
    "        loss_on, loss_off = 0., 0.\n",
    "        if idx_on.size == 0: ## irrelevant feature\n",
    "            loss_diff = 1e9\n",
    "        else:\n",
    "            models_on = itemgetter(*idx_on)(models)\n",
    "            states_on = itemgetter(*idx_on)(states)\n",
    "            if idx_on.size == 1:\n",
    "                models_on = [models_on]\n",
    "                states_on = [states_on]\n",
    "            loss_on += eval_fn(models_on, X, y, states_on, idx)\n",
    "            loss_off += eval_fn(models_on, X, y, states_on, idx, on=False)\n",
    "            loss_diff += (loss_on - loss_off)\n",
    "\n",
    "        var_loss_dict[\"feats_idx\"].append(idx)\n",
    "        var_loss_dict[\"num_models\"].append(idx_on.size)\n",
    "        var_loss_dict[\"loss_on\"].append(loss_on)\n",
    "        var_loss_dict[\"loss_off\"].append(loss_off)\n",
    "        var_loss_dict[\"loss_diff\"].append(loss_diff)\n",
    "\n",
    "\n",
    "    var_loss_df = pd.DataFrame(var_loss_dict).sort_values(by=\"loss_diff\")\n",
    "\n",
    "    return var_loss_df"
   ],
   "metadata": {
    "collapsed": false,
    "pycharm": {
     "name": "#%%\n"
    }
   }
  },
  {
   "cell_type": "markdown",
   "source": [
    "##### Deep Ensembles"
   ],
   "metadata": {
    "collapsed": false,
    "pycharm": {
     "name": "#%% md\n"
    }
   }
  },
  {
   "cell_type": "code",
   "execution_count": null,
   "outputs": [],
   "source": [
    "import torch\n",
    "rng_key = jax.random.PRNGKey(seed)\n",
    "epochs = 500\n",
    "num_cycles = 4\n",
    "batch_size = 80\n",
    "num_models = 5\n",
    "lr_0, disc_lr_0 = 1e-3, 0.8\n",
    "hidden_sizes = [1000, 500, 300, 100]\n",
    "eta, mu = 10.0, 1.0\n",
    "\n",
    "temp, sigma = 1.0, 1.0\n",
    "weight_prior = tfd.StudentT(df=2, loc=0, scale=sigma)\n",
    "\n",
    "torch.manual_seed(seed)\n",
    "data_loader = NumpyLoader(NumpyData(X_train, y_train), batch_size=batch_size, shuffle=True)\n",
    "val_data = NumpyData(X_val, y_val)\n",
    "bg_bnn_models, bg_states, val_losses = train_bg_deep_ens_model(rng_key, data_loader, val_data, epochs, lr_0, disc_lr_0,\n",
    "                                                               weight_prior, temp, hidden_sizes, eta, mu, J, num_ensembles=20, act_fn=jax.nn.swish, patience=10)"
   ],
   "metadata": {
    "collapsed": false,
    "pycharm": {
     "name": "#%%\n"
    }
   }
  },
  {
   "cell_type": "code",
   "execution_count": null,
   "outputs": [],
   "source": [
    "for i, loss in enumerate(val_losses):\n",
    "    plt.plot(loss, label=f\"Ens - {i}\")\n",
    "\n",
    "# plt.legend()"
   ],
   "metadata": {
    "collapsed": false,
    "pycharm": {
     "name": "#%%\n"
    }
   }
  },
  {
   "cell_type": "code",
   "execution_count": null,
   "outputs": [],
   "source": [
    "rmse_val, r2_val = eval_bg_deep_ens_model(rng_key, bg_bnn_models, X_val, y_val, bg_states)\n",
    "rmse_test, r2_test = eval_bg_deep_ens_model(rng_key, bg_bnn_models, X_test, y_test, bg_states)\n",
    "print(f\"Val  RMSE: {rmse_val}, r2_score: {r2_val}\")\n",
    "print(f\"Test RMSE: {rmse_test}, r2_score: {r2_test}\")"
   ],
   "metadata": {
    "collapsed": false,
    "pycharm": {
     "name": "#%%\n"
    }
   }
  },
  {
   "cell_type": "code",
   "execution_count": null,
   "outputs": [],
   "source": [
    "for model, state in zip(bg_bnn_models, bg_states):\n",
    "    rmse_val, r2_val = eval_bg_bnn_model(rng_key, model, X_val, y_val, state)\n",
    "    rmse_test, r2_test = eval_bg_bnn_model(rng_key, model, X_test, y_test, state)\n",
    "    print(f\"Val  RMSE: {rmse_val}, r2_score: {r2_val}\")\n",
    "    print(f\"Test RMSE: {rmse_test}, r2_score: {r2_test}\")"
   ],
   "metadata": {
    "collapsed": false,
    "pycharm": {
     "name": "#%%\n"
    }
   }
  },
  {
   "cell_type": "code",
   "execution_count": null,
   "outputs": [],
   "source": [
    "from sklearn.ensemble import RandomForestRegressor\n",
    "from sklearn.model_selection import GridSearchCV, KFold\n",
    "from sklearn.metrics import r2_score\n",
    "\n",
    "def train_rf_model(seed, X, y):\n",
    "\n",
    "    cv = KFold(n_splits=5, random_state=seed, shuffle=True)\n",
    "\n",
    "    param_grid = {\n",
    "        'bootstrap': [True],\n",
    "        'max_depth': [80, 90, 100, 110],\n",
    "        'max_features': [2, 3],\n",
    "        'min_samples_leaf': [3, 4, 5],\n",
    "        'min_samples_split': [8, 10, 12],\n",
    "        'n_estimators': [100, 200, 300, 1000]\n",
    "    }\n",
    "\n",
    "    rf_reg = RandomForestRegressor(random_state=seed, max_samples=1.0)\n",
    "    grid_cv = GridSearchCV(estimator = rf_reg, param_grid = param_grid,\n",
    "                           cv = cv, n_jobs = -1, verbose = 0, scoring=\"r2\").fit(X, y)\n",
    "\n",
    "    rf_reg = RandomForestRegressor(random_state=seed, max_samples=1.0,**grid_cv.best_params_)\n",
    "    rf_reg.fit(X, y)\n",
    "\n",
    "    return rf_reg\n",
    "\n",
    "def eval_rf_model(model, X, y):\n",
    "    y_preds = model.predict(X)\n",
    "    rmse = jnp.sqrt(jnp.mean((y - y_preds)**2))\n",
    "    r2 = r2_score(y, y_preds)\n",
    "    return rmse, r2"
   ],
   "metadata": {
    "collapsed": false,
    "pycharm": {
     "name": "#%%\n"
    }
   }
  },
  {
   "cell_type": "code",
   "execution_count": null,
   "outputs": [],
   "source": [
    "rf_model = train_rf_model(seed, X_train, y_train)\n",
    "\n",
    "rmse_val, r2_val = eval_rf_model(rf_model, X_val, y_val)\n",
    "rmse_test, r2_test = eval_rf_model(rf_model, X_test, y_test)\n",
    "\n",
    "print(f\"Val RMSE: {rmse_val}, r2_score:  {r2_val}\")\n",
    "print(f\"Test RMSE: {rmse_test}, test_score:  {r2_test}\")"
   ],
   "metadata": {
    "collapsed": false,
    "pycharm": {
     "name": "#%%\n"
    }
   }
  },
  {
   "cell_type": "code",
   "execution_count": null,
   "outputs": [],
   "source": [
    "np.quantile(mean_gammas, q=[0., 0.25, 0.5, 0.95, 1.])"
   ],
   "metadata": {
    "collapsed": false,
    "pycharm": {
     "name": "#%%\n"
    }
   }
  },
  {
   "cell_type": "code",
   "execution_count": null,
   "outputs": [],
   "source": [
    "bnn_feat_idx = np.argsort(mean_gammas)[::-1][:50]\n",
    "# bnn_feat_idx = dropout_loss_df[\"feats_idx\"][:10].to_list()\n",
    "# X_train_df.iloc[:, bnn_feat_idx].columns.to_list()"
   ],
   "metadata": {
    "collapsed": false,
    "pycharm": {
     "name": "#%%\n"
    }
   }
  },
  {
   "cell_type": "code",
   "execution_count": null,
   "outputs": [],
   "source": [
    "rf_feat_idx = np.argsort(rf_model.feature_importances_)[::-1][:50]\n",
    "# X_train_df.iloc[:, rf_feat_idx].columns.to_list()"
   ],
   "metadata": {
    "collapsed": false,
    "pycharm": {
     "name": "#%%\n"
    }
   }
  },
  {
   "cell_type": "code",
   "execution_count": null,
   "outputs": [],
   "source": [
    "X_train_2, y_train_2 = jax.random.choice(rng_key, X_train, shape=(X_val.shape[0],), replace=False), jax.random.choice(rng_key, y_train, shape=(X_val.shape[0],), replace=False)\n",
    "X_gp_train_rf, X_gp_train_2_rf, X_gp_val_rf, X_gp_test_rf = X_val[:,rf_feat_idx], X_train_2[:,rf_feat_idx], X_train[:,rf_feat_idx], X_test[:,rf_feat_idx]\n",
    "rf_val_rmse_score, rf_val_r2_score, rf_val_pcc, rf_val_pval, \\\n",
    "    rf_test_rmse_score, rf_test_r2_score, rf_test_pcc, rf_test_pval = train_linear_model(seed, X_gp_train_2_rf, X_gp_train_rf, X_gp_test_rf, y_train_2, y_val, y_test)\n",
    "\n",
    "print(f\"val_r2_score: {rf_val_r2_score}, test_r2_score: {rf_test_r2_score}\")\n",
    "print(f\"val_pcc: {rf_val_pcc}, pval: {rf_val_pval}, test_pcc: {rf_test_pcc}, pval: {rf_test_pval}\")"
   ],
   "metadata": {
    "collapsed": false,
    "pycharm": {
     "name": "#%%\n"
    }
   }
  },
  {
   "cell_type": "code",
   "execution_count": null,
   "outputs": [],
   "source": [
    "X_gp_train_bnn, X_gp_train_2_bnn, X_gp_val_bnn, X_gp_test_bnn = X_val[:,bnn_feat_idx], X_train_2[:,bnn_feat_idx], X_train[:,bnn_feat_idx], X_test[:,bnn_feat_idx]\n",
    "bnn_val_rmse_score, bnn_val_r2_score, bnn_val_pcc, bnn_val_pval, \\\n",
    "         bnn_test_rmse_score, bnn_test_r2_score, bnn_test_pcc, bnn_test_pval = train_linear_model(seed, X_gp_train_2_bnn, X_gp_train_bnn, X_gp_test_bnn, y_train_2, y_val, y_test)\n",
    "\n",
    "print(f\"val_r2_score: {bnn_val_r2_score}, test_r2_score: {bnn_test_r2_score}\")\n",
    "print(f\"val_pcc: {bnn_val_pcc}, pval: {bnn_val_pval}, test_pcc: {bnn_test_pcc}, pval: {bnn_test_pval}\")"
   ],
   "metadata": {
    "collapsed": false,
    "pycharm": {
     "name": "#%%\n"
    }
   }
  },
  {
   "cell_type": "code",
   "execution_count": null,
   "outputs": [],
   "source": [
    "rf_gp_val_rmse_score, rf_gp_val_r2_score, rf_gp_val_pcc, rf_gp_val_pval, \\\n",
    "         rf_gp_test_rmse_score, rf_gp_test_r2_score, rf_gp_test_pcc, rf_gp_test_pval, gp_df = train_gp(seed, X_gp_train_rf, X_gp_train_2_rf, X_gp_val_rf, X_gp_test_rf, \n",
    "                                                                                                      y_val, y_train_2, y_train, y_test, num_models=5, verbose=1, \n",
    "                                                                                                      p_cxvr=0.8, p_subt_mut=0.1, p_hmut=0.05, p_pmut=0.05, complexity_coef=0.01)\n",
    "\n",
    "print(f\"val_r2_score: {rf_gp_val_r2_score}, test_r2_score: {rf_gp_test_r2_score}\")\n",
    "print(f\"val_pcc: {rf_gp_val_pcc}, test_pcc: {rf_gp_test_pcc}\")"
   ],
   "metadata": {
    "collapsed": false,
    "pycharm": {
     "name": "#%%\n"
    }
   }
  },
  {
   "cell_type": "code",
   "execution_count": null,
   "outputs": [],
   "source": [
    "bnn_gp_val_rmse_score, bnn_gp_val_r2_score, bnn_gp_val_pcc, bnn_gp_val_pval, \\\n",
    "         bnn_gp_test_rmse_score, bnn_gp_test_r2_score, bnn_gp_test_pcc, bnn_gp_test_pval, gp_df = train_gp(seed, X_gp_train_bnn, X_gp_train_2_bnn, X_gp_val_bnn, X_gp_test_bnn, \n",
    "                                                                                                      y_val, y_train_2, y_train, y_test, num_models=5, verbose=1, p_cxvr=0.8, p_subt_mut=0.1, \n",
    "                                                                                                      p_hmut=0.05, p_pmut=0.05, complexity_coef=0.01)\n",
    "\n",
    "print(f\"val_r2_score: {bnn_gp_val_r2_score}, test_r2_score: {bnn_gp_test_r2_score}\")\n",
    "print(f\"val_pcc: {bnn_gp_val_pcc}, test_pcc: {bnn_gp_test_pcc}\")"
   ],
   "metadata": {
    "collapsed": false,
    "pycharm": {
     "name": "#%%\n"
    }
   }
  },
  {
   "cell_type": "code",
   "execution_count": null,
   "outputs": [],
   "source": [
    "print(f\"val_r2_score: {bnn_gp_val_r2_score}, test_r2_score: {bnn_gp_test_r2_score}\")\n",
    "print(f\"val_pcc: {bnn_gp_val_pcc}, test_pcc: {bnn_gp_test_pcc}\")"
   ],
   "metadata": {
    "collapsed": false,
    "pycharm": {
     "name": "#%%\n"
    }
   }
  },
  {
   "cell_type": "code",
   "execution_count": null,
   "outputs": [],
   "source": [
    "gp_df"
   ],
   "metadata": {
    "collapsed": false,
    "pycharm": {
     "name": "#%%\n"
    }
   }
  },
  {
   "cell_type": "code",
   "execution_count": null,
   "outputs": [],
   "source": [
    "X_train_df.iloc[:,np.array(bnn_feat_idx)[[53, 5, 44]]]"
   ],
   "metadata": {
    "collapsed": false,
    "pycharm": {
     "name": "#%%\n"
    }
   }
  },
  {
   "cell_type": "code",
   "execution_count": null,
   "outputs": [],
   "source": [
    "bnn_feat_idx[5]"
   ],
   "metadata": {
    "collapsed": false,
    "pycharm": {
     "name": "#%%\n"
    }
   }
  },
  {
   "cell_type": "code",
   "execution_count": null,
   "outputs": [],
   "source": [
    "from operator import itemgetter\n",
    "\n",
    "def evaluate_bnn_bg_models(model, X, y, params, gammas):\n",
    "    eval_fn = lambda p, g: model.apply(p, g, X).ravel()\n",
    "    preds = jax.vmap(eval_fn)(params, gammas)\n",
    "    preds = preds.reshape(-1, preds.shape[-1])\n",
    "    losses = jax.vmap(optax.l2_loss, in_axes=(0, None))(preds, y)\n",
    "    mean_loss = jnp.sqrt(jnp.mean(losses, axis=-1))\n",
    "    return jnp.sum(mean_loss)\n",
    "\n",
    "def get_feats_dropout_loss(models, states, X, y):\n",
    "\n",
    "    def eval_fn(model, X, y, ens_states, p, on=True):\n",
    "        y_preds = np.zeros(len(y))\n",
    "\n",
    "        for i, state in enumerate(ens_states):\n",
    "            # disc_state = jax.random.bernoulli(rng_key, state.avg_disc_state)\n",
    "            disc_state = state.disc_state\n",
    "            if not on:\n",
    "                disc_state = disc_state.at[:,p].set(0)\n",
    "            preds, _ = model.apply(state.params, state.net_state, rng_key, disc_state, X, is_training=False)\n",
    "            preds_mean, preds_std = jnp.split(preds, [1], axis=-1)\n",
    "            preds_mean = preds_mean.squeeze()\n",
    "            y_preds += preds_mean\n",
    "\n",
    "        y_preds = y_preds / len(ens_states)\n",
    "\n",
    "        rmse = jnp.sqrt(jnp.mean((y - y_preds)**2))\n",
    "        return rmse\n",
    "\n",
    "\n",
    "    var_loss_dict = {\"feats_idx\": [], \"num_models\": [] , \"loss_on\": [], \"loss_off\": [], \"loss_diff\": []}\n",
    "    disc_states  = np.array([state.disc_state for state in states])\n",
    "    p = X.shape[1]\n",
    "\n",
    "    for idx in range(p):\n",
    "        loss_diff = 0.0\n",
    "        idx_on = np.argwhere(disc_states[:,idx] == 1.).ravel()\n",
    "        loss_on, loss_off = 0., 0.\n",
    "        if idx_on.size == 0: ## irrelevant feature\n",
    "            loss_diff = 1e9\n",
    "        else:\n",
    "            models_on = itemgetter(*idx_on)(models)\n",
    "            states_on = itemgetter(*idx_on)(states)\n",
    "            for (model, state) in zip(models_on, states_on):\n",
    "                loss_on += eval_fn(model, X, y, state, idx)\n",
    "                loss_off += eval_fn(model, X, y, state, idx, on=False)\n",
    "                loss_diff += (loss_on - loss_off)\n",
    "\n",
    "\n",
    "        var_loss_dict[\"feats_idx\"].append(idx)\n",
    "        var_loss_dict[\"num_models\"].append(idx_on.size)\n",
    "        var_loss_dict[\"loss_on\"].append(loss_on)\n",
    "        var_loss_dict[\"loss_off\"].append(loss_off)\n",
    "        var_loss_dict[\"loss_diff\"].append(loss_diff)\n",
    "\n",
    "\n",
    "    var_loss_df = pd.DataFrame(var_loss_dict).sort_values(by=\"loss_diff\")\n",
    "\n",
    "    return var_loss_df\n",
    "\n",
    "def get_gene_names(gene_cols):\n",
    "    return [gene.split(\"(\")[0].strip() for gene in gene_cols]"
   ],
   "metadata": {
    "collapsed": false,
    "pycharm": {
     "name": "#%%\n"
    }
   }
  },
  {
   "cell_type": "code",
   "execution_count": null,
   "outputs": [],
   "source": [
    "from smac.facade.smac_hpo_facade import SMAC4HPO\n",
    "from smac.scenario.scenario import Scenario\n",
    "from smac.configspace import ConfigurationSpace\n",
    "from ConfigSpace.hyperparameters import (\n",
    "    CategoricalHyperparameter,\n",
    "    UniformFloatHyperparameter,\n",
    "    UniformIntegerHyperparameter,\n",
    ")\n",
    "\n",
    "from ConfigSpace import InCondition, Configuration\n",
    "\n",
    "import math\n",
    "\n",
    "def get_configspace_bnn_bg()-> ConfigurationSpace:\n",
    "    \n",
    "    # Build Configuration Space which defines all parameters and their ranges.\n",
    "    cs  = ConfigurationSpace()    \n",
    "    mu = CategoricalHyperparameter(\"mu\", [1., 5., 10.], default_value=1.)\n",
    "    temp = CategoricalHyperparameter(\"temp\", [1e-4, 1e-3, 1e-2, 1e-1, 1.0], default_value=1e-3)\n",
    "    cs.add_hyperparameters([temp, mu])\n",
    "    return cs\n",
    "\n",
    "def get_configspace_bnn()-> ConfigurationSpace:\n",
    "    \n",
    "    # Build Configuration Space which defines all parameters and their ranges.\n",
    "    cs  = ConfigurationSpace()    \n",
    "    temp = CategoricalHyperparameter(\"temp\", [1e-4, 1e-3, 1e-2, 1e-1, 1.], default_value=1e-3)\n",
    "    cs.add_hyperparameters([temp])\n",
    "    return cs\n",
    "\n",
    "def generate_train_bnn_bg_cs(seed, X, y, J):\n",
    "    cv = KFold(n_splits=3, shuffle=True, random_state=seed)\n",
    "    def train_cs(config: Configuration)-> float:\n",
    "        epochs = 2000\n",
    "        num_cycles = 10\n",
    "        bathc_size = 80\n",
    "        beta = 0.99\n",
    "        lr_0, disc_lr_0 = 1e-3, 0.8\n",
    "        hidden_sizes = [1000, 500, 300, 100]\n",
    "        sigma = 1.0\n",
    "        eta = 1.0\n",
    "\n",
    "        scores = []\n",
    "\n",
    "        for train_idx, test_idx in cv.split(X, y):\n",
    "            x_train_cv, y_train_cv = X[train_idx], y[train_idx]\n",
    "            x_test_cv, y_test_cv = X[test_idx], y[test_idx]\n",
    "            bg_bnn_model, states, disc_states = train_bg_bnn_model(seed, x_train_cv, y_train_cv, epochs,\n",
    "                                                                     num_cycles, beta, lr_0, disc_lr_0,\n",
    "                                                                     batch_size, hidden_sizes, config[\"temp\"], sigma, eta, config[\"mu\"], J)\n",
    "            \n",
    "            _, r2 = eval_bg_bnn_model(bg_bnn_model, x_test_cv, y_test_cv, states, disc_states)\n",
    "            scores.append(r2)\n",
    "\n",
    "        mean_score = np.mean(np.array(scores))\n",
    "        if math.isnan(mean_score) or mean_score < 0:\n",
    "            return 1e9\n",
    "        \n",
    "        return 1 - mean_score\n",
    "\n",
    "\n",
    "    return train_cs\n",
    "\n",
    "def generate_train_bnn_cs(seed, X, y):\n",
    "    cv = KFold(n_splits=3, shuffle=True, random_state=seed)\n",
    "    def train_cs(config: Configuration)-> float:\n",
    "        epochs = 2000\n",
    "        num_cycles = 10\n",
    "        bathc_size = 80\n",
    "        beta = 0.99\n",
    "        lr_0 = 1e-3\n",
    "        hidden_sizes = [1000, 500, 300, 100]\n",
    "        sigma = 1.0\n",
    "\n",
    "        scores = []\n",
    "\n",
    "        for train_idx, test_idx in cv.split(X, y):\n",
    "            x_train_cv, y_train_cv = X[train_idx], y[train_idx]\n",
    "            x_test_cv, y_test_cv = X[test_idx], y[test_idx]\n",
    "            bnn_model, states = train_bnn_model(seed, x_train_cv, y_train_cv, epochs, num_cycles, beta, lr_0,\n",
    "                                                    batch_size, hidden_sizes, config[\"temp\"], sigma)\n",
    "            \n",
    "            _, r2 = eval_bnn_model(bnn_model, x_test_cv, y_test_cv, states)\n",
    "            scores.append(r2)\n",
    "\n",
    "        mean_score = np.mean(np.array(scores))\n",
    "        if math.isnan(mean_score) or mean_score < 0:\n",
    "            return 1e9\n",
    "        \n",
    "        return 1 - mean_score\n",
    "\n",
    "\n",
    "    return train_cs\n",
    "\n",
    "\n",
    "def optimize_hyper_parameters(seed, X, y, J, total_time=60, bg=True):\n",
    "    if bg:\n",
    "        cs = get_configspace_bnn_bg()\n",
    "        train_cs = generate_train_bnn_bg_cs(seed, X, y, J)\n",
    "    else:\n",
    "        cs = get_configspace_bnn()\n",
    "        train_cs = generate_train_bnn_cs(seed, X, y)\n",
    "\n",
    "    scenario = Scenario({\n",
    "        \"run_obj\": \"quality\",\n",
    "        \"wallclock-limit\": total_time,\n",
    "        \"cs\": cs,\n",
    "        \"deterministic\": True,\n",
    "        \"cutoff\": 10,  # runtime limit for the target algorithm\n",
    "        \"seed\": seed\n",
    "    })\n",
    "\n",
    "    smac = SMAC4HPO(scenario=scenario, rng=np.random.RandomState(seed), tae_runner=train_cs)\n",
    "\n",
    "    tae = smac.get_tae_runner()\n",
    "\n",
    "    try:\n",
    "        incumbent = smac.optimize()\n",
    "\n",
    "    finally:\n",
    "        incumbent = smac.solver.incumbent\n",
    "\n",
    "\n",
    "    inc_val = tae.run(config=incumbent, seed=seed)\n",
    "\n",
    "    return incumbent, 1 - inc_val[1]\n"
   ],
   "metadata": {
    "collapsed": false,
    "pycharm": {
     "name": "#%%\n"
    }
   }
  },
  {
   "cell_type": "code",
   "execution_count": null,
   "outputs": [],
   "source": [
    "# config, score = optimize_hyper_parameters(seed, X_train, y_train, J, total_time=180)\n",
    "# score"
   ],
   "metadata": {
    "collapsed": false,
    "pycharm": {
     "name": "#%%\n"
    }
   }
  },
  {
   "cell_type": "code",
   "execution_count": null,
   "outputs": [],
   "source": [
    "from tqdm import tqdm\n",
    "from sklearn.preprocessing import QuantileTransformer\n",
    "from sklearn.metrics import r2_score\n",
    "# epochs = 2000\n",
    "# num_cycles = 10\n",
    "# batch_size = 80\n",
    "# beta = 0.99\n",
    "# lr_0, disc_lr_0 = 1e-3, 0.5\n",
    "# hidden_sizes = [1000, 500, 300, 10]\n",
    "# sigma = 1.0\n",
    "# eta, mu = 1.0, 1.0\n",
    "# temp = 1e-3\n",
    "epochs = 1000\n",
    "num_cycles = 10\n",
    "batch_size = 80\n",
    "beta = 0.80\n",
    "lr_0, disc_lr_0 = 1e-3, 0.5\n",
    "hidden_sizes = [1000, 500, 300, 100]\n",
    "temp, sigma = 1e-2, 1.0\n",
    "eta, mu = 1.0, 1.0\n",
    "\n",
    "\n",
    "def cross_val_run(seeds, X, y):\n",
    "\n",
    "    bnn_rf_bg_dict = {\"seed\":[], \"model\": [], \"val_rmse\": [], \"test_rmse\": [], \"val_r2_score\": [], \"test_r2_score\": [], \"temp\": [], \"mu\": []}\n",
    "\n",
    "    for seed in tqdm(seeds):\n",
    "        X_train_df, X_test_df, y_train_df, y_test_df = train_test_split(X, y, random_state=seed, shuffle=True, test_size=0.2)\n",
    "        X_train_df, X_val_df, y_train_df, y_val_df = train_test_split(X_train_df, y_train_df, shuffle=True, \n",
    "                                                    random_state=seed, test_size=0.2)\n",
    "        # train_transformer = PowerTransformer().fit(X_train_df)\n",
    "        train_transformer = QuantileTransformer(random_state=seed, output_distribution=\"normal\").fit(X_train_df)\n",
    "        train_transformed = train_transformer.transform(X_train_df)\n",
    "        val_transformed = train_transformer.transform(X_val_df)\n",
    "        test_transformed = train_transformer.transform(X_test_df)\n",
    "\n",
    "        X_train_df = pd.DataFrame(train_transformed, columns=X_train_df.columns)\n",
    "        X_val_df = pd.DataFrame(val_transformed, columns=X_val_df.columns)\n",
    "        X_test_df = pd.DataFrame(test_transformed, columns=X_test_df.columns)\n",
    "        X_train, y_train = X_train_df.values, y_train_df.values\n",
    "        X_val, y_val = X_val_df.values, y_val_df.values\n",
    "        X_test, y_test = X_test_df.values, y_test_df.values\n",
    "\n",
    "\n",
    "        # config_bnn_bg, score = optimize_hyper_parameters(seed, X_train, y_train, J, total_time=180, bg=True)\n",
    "        bg_bnn_model, states, disc_states = train_bg_bnn_model(seed, X_train, y_train, epochs, num_cycles, beta, lr_0, disc_lr_0,\n",
    "                                                                        batch_size, hidden_sizes, temp, sigma, eta, mu, J)\n",
    "\n",
    "        rmse_val_bnn_bg, r2_val_bnn_bg = eval_bg_bnn_model(bg_bnn_model, X_val, y_val, states, disc_states)\n",
    "        rmse_test_bnn_bg, r2_test_bnn_bg = eval_bg_bnn_model(bg_bnn_model, X_test, y_test, states, disc_states)\n",
    "\n",
    "        # config_bnn, score = optimize_hyper_parameters(seed, X_train, y_train, J, total_time=180, bg=False)\n",
    "        bnn_model, states = train_bnn_model(seed, X_train, y_train, epochs, num_cycles, beta, lr_0,\n",
    "                                                batch_size, hidden_sizes, temp, sigma)\n",
    "\n",
    "        rmse_val_bnn, r2_val_bnn = eval_bnn_model(bnn_model, X_val, y_val, states)\n",
    "        rmse_test_bnn, r2_test_bnn = eval_bnn_model(bnn_model, X_test, y_test, states)\n",
    "\n",
    "        rf_model = train_rf_model(seed, X_train, y_train)\n",
    "        rmse_val_rf, r2_val_rf = eval_rf_model(rf_model, X_val, y_val)\n",
    "        rmse_test_rf, r2_test_rf = eval_rf_model(rf_model, X_test, y_test)\n",
    "\n",
    "        bnn_rf_bg_dict[\"seed\"].append(seed)\n",
    "        bnn_rf_bg_dict[\"model\"].append(\"RF\")\n",
    "        bnn_rf_bg_dict[\"val_rmse\"].append(rmse_val_rf)\n",
    "        bnn_rf_bg_dict[\"test_rmse\"].append(rmse_test_rf)\n",
    "        bnn_rf_bg_dict[\"val_r2_score\"].append(r2_val_rf)\n",
    "        bnn_rf_bg_dict[\"test_r2_score\"].append(r2_test_rf)\n",
    "        bnn_rf_bg_dict[\"temp\"].append(0.0)\n",
    "        bnn_rf_bg_dict[\"mu\"].append(0.0)\n",
    "\n",
    "        bnn_rf_bg_dict[\"seed\"].append(seed)\n",
    "        bnn_rf_bg_dict[\"model\"].append(\"BNN\")\n",
    "        bnn_rf_bg_dict[\"val_rmse\"].append(rmse_val_bnn)\n",
    "        bnn_rf_bg_dict[\"test_rmse\"].append(rmse_test_bnn)\n",
    "        bnn_rf_bg_dict[\"val_r2_score\"].append(r2_val_bnn)\n",
    "        bnn_rf_bg_dict[\"test_r2_score\"].append(r2_test_bnn)\n",
    "        bnn_rf_bg_dict[\"temp\"].append(temp)\n",
    "        bnn_rf_bg_dict[\"mu\"].append(0.0)\n",
    "\n",
    "        bnn_rf_bg_dict[\"seed\"].append(seed)\n",
    "        bnn_rf_bg_dict[\"model\"].append(\"BNN + BG\")\n",
    "        bnn_rf_bg_dict[\"val_rmse\"].append(rmse_val_bnn_bg)\n",
    "        bnn_rf_bg_dict[\"test_rmse\"].append(rmse_test_bnn_bg)\n",
    "        bnn_rf_bg_dict[\"val_r2_score\"].append(r2_val_bnn_bg)\n",
    "        bnn_rf_bg_dict[\"test_r2_score\"].append(r2_test_bnn_bg)\n",
    "        bnn_rf_bg_dict[\"temp\"].append(temp)\n",
    "        bnn_rf_bg_dict[\"mu\"].append(mu)\n",
    "\n",
    "        print(f\"RF scores - Val: {r2_val_rf}, Test: {r2_test_rf}\")\n",
    "        print(f\"BNN scores - Val: {r2_val_bnn}, Test: {r2_test_bnn}\")\n",
    "        print(f\"BNN + BG scores - Val: {r2_val_bnn_bg}, Test: {r2_test_bnn_bg}\")\n",
    "\n",
    "        \n",
    "    return pd.DataFrame(bnn_rf_bg_dict)"
   ],
   "metadata": {
    "collapsed": false,
    "pycharm": {
     "name": "#%%\n"
    }
   }
  },
  {
   "cell_type": "code",
   "execution_count": null,
   "outputs": [],
   "source": [
    "# seeds = [422,261,968,282,739,573,220,413,745,775,482,442,210,423,760,57,769,920,226,196]\n",
    "# bnn_rf_bg_df = cross_val_run(seeds, X_selected, target)\n",
    "save_dir = f\"{data_dir}/exp_data_5/cancer/gdsc\"\n",
    "# bnn_rf_bg_df.to_csv(f\"{save_dir}/bnn_rf_bg_df_v5.csv\", index=False)"
   ],
   "metadata": {
    "collapsed": false,
    "pycharm": {
     "name": "#%%\n"
    }
   }
  },
  {
   "cell_type": "code",
   "execution_count": null,
   "outputs": [],
   "source": [
    "bnn_rf_bg_df = pd.read_csv(f\"{save_dir}/bnn_rf_bg_df_v5.csv\")\n",
    "bnn_rf_bg_df.groupby(\"model\").mean().iloc[:,1:]"
   ],
   "metadata": {
    "collapsed": false,
    "pycharm": {
     "name": "#%%\n"
    }
   }
  },
  {
   "cell_type": "code",
   "execution_count": null,
   "outputs": [],
   "source": [
    "bnn_rf_bg_df.groupby([\"model\"])[\"val_r2_score\" ,\"test_r2_score\"].mean()"
   ],
   "metadata": {
    "collapsed": false,
    "pycharm": {
     "name": "#%%\n"
    }
   }
  },
  {
   "cell_type": "code",
   "execution_count": null,
   "outputs": [],
   "source": [
    "labels = [\"RF\", \"BNN\", \"BNN + BG\"]\n",
    "\n",
    "rf_val_r2_scores, rf_test_r2_scores = bnn_rf_bg_df[bnn_rf_bg_df[\"model\"] == \"RF\"][\"val_r2_score\"], \\\n",
    "                                               bnn_rf_bg_df[bnn_rf_bg_df[\"model\"] == \"RF\"][\"test_r2_score\"]\n",
    "\n",
    "bnn_val_r2_scores, bnn_test_r2_scores = bnn_rf_bg_df[bnn_rf_bg_df[\"model\"] == \"BNN\"][\"val_r2_score\"], \\\n",
    "                                                  bnn_rf_bg_df[bnn_rf_bg_df[\"model\"] == \"BNN\"][\"test_r2_score\"]\n",
    "\n",
    "bnn_bg_val_r2_scores, bnn_bg_test_r2_scores = bnn_rf_bg_df[bnn_rf_bg_df[\"model\"] == \"BNN + BG\"][\"val_r2_score\"], \\\n",
    "                                                  bnn_rf_bg_df[bnn_rf_bg_df[\"model\"] == \"BNN + BG\"][\"test_r2_score\"]                                              \n",
    "\n",
    "fig, (ax1, ax2) = plt.subplots(1, 2, figsize=(12, 6))\n",
    "\n",
    "ax1.grid(color='grey', axis='y', linestyle='-', linewidth=0.25, alpha=0.5)\n",
    "ax2.grid(color='grey', axis='y', linestyle='-', linewidth=0.25, alpha=0.5)\n",
    "\n",
    "bplot1 = ax1.boxplot([rf_val_r2_scores, bnn_val_r2_scores, bnn_bg_val_r2_scores], showmeans=True, patch_artist=True, labels=labels)\n",
    "bplot2 = ax2.boxplot([rf_test_r2_scores, bnn_test_r2_scores, bnn_bg_test_r2_scores], showmeans=True, patch_artist=True, labels=labels)\n",
    "\n",
    "# fill with colors\n",
    "colors = ['lightyellow' ,'lightblue', 'lightgreen']\n",
    "for bplot in (bplot1, bplot2):\n",
    "    for patch, color in zip(bplot['boxes'], colors):\n",
    "        patch.set_facecolor(color)\n",
    "\n",
    "fig.suptitle(\"Model Comparison\")\n",
    "plt.legend([bplot1['medians'][0], bplot1['means'][0]], ['median', 'mean'])\n",
    "\n",
    "ax1.set_ylabel(\"$R^{2}$\")\n",
    "ax1.set_title(\"Validation Scores\")\n",
    "\n",
    "ax2.set_ylabel(\"$R^{2}$\")\n",
    "ax2.set_title(\"Test Scores\")\n",
    "\n",
    "plt.show()"
   ],
   "metadata": {
    "collapsed": false,
    "pycharm": {
     "name": "#%%\n"
    }
   }
  },
  {
   "cell_type": "code",
   "execution_count": null,
   "outputs": [],
   "source": [
    "from scipy import stats\n",
    "\n",
    "stats.ttest_rel(bnn_bg_test_r2_scores, rf_test_r2_scores, alternative=\"greater\")"
   ],
   "metadata": {
    "collapsed": false,
    "pycharm": {
     "name": "#%%\n"
    }
   }
  },
  {
   "cell_type": "markdown",
   "source": [
    "#### GP"
   ],
   "metadata": {
    "collapsed": false,
    "pycharm": {
     "name": "#%% md\n"
    }
   }
  },
  {
   "cell_type": "code",
   "execution_count": null,
   "outputs": [],
   "source": [
    "from gplearn.genetic import SymbolicTransformer, SymbolicClassifier, SymbolicRegressor\n",
    "from gplearn.functions import make_function\n",
    "import operator\n",
    "from sklearn.linear_model import Ridge\n",
    "from sklearn.model_selection import GridSearchCV\n",
    "from scipy import stats\n",
    "import warnings\n",
    "warnings.filterwarnings(\"ignore\")\n",
    "\n",
    "def get_best_programs(gp, num_models, classifier=True, ascending=True, sort_fit=\"OOB_fitness\"):\n",
    "    gp_dict = {'Gen': [], \"Ind\": [], \"Fitness\": [], 'OOB_fitness': [], \"Equation\": []}\n",
    "\n",
    "    if classifier:\n",
    "        for idGen in range(len(gp._programs)):\n",
    "            for idPopulation in range(gp.population_size):\n",
    "                gp_dict[\"Gen\"].append(idGen)\n",
    "                gp_dict[\"Ind\"].append(idPopulation)\n",
    "                gp_dict[\"Fitness\"].append(gp._programs[idGen][idPopulation].fitness_)\n",
    "                gp_dict[\"OOB_fitness\"].append(gp._programs[idGen][idPopulation].oob_fitness_)\n",
    "                gp_dict[\"Equation\"].append(str(gp._programs[idGen][idPopulation]))\n",
    "    else:\n",
    "        for idx, prog in enumerate(gp._programs[-1]):\n",
    "                gp_dict[\"Gen\"].append(-1)\n",
    "                gp_dict[\"Ind\"].append(idx)\n",
    "                gp_dict[\"Fitness\"].append(prog.fitness_)\n",
    "                gp_dict[\"OOB_fitness\"].append(prog.oob_fitness_)\n",
    "                gp_dict[\"Equation\"].append(str(prog))\n",
    "\n",
    "    gp_df = pd.DataFrame(gp_dict).sort_values(sort_fit, ascending=ascending)[:num_models]\n",
    "    programs = []\n",
    "    for i in range(num_models):\n",
    "        gen, ind = int(gp_df.iloc[i][\"Gen\"]), int(gp_df.iloc[i][\"Ind\"])\n",
    "        programs.append(gp._programs[gen][ind])\n",
    "\n",
    "    return programs, gp_df\n",
    "\n",
    "\n",
    "def gp_transform(est, X, classifier=False, num_models=100, sort_fit=\"Fitness\"):\n",
    "    if classifier or (sort_fit == \"OOB_fitness\"):\n",
    "        programs, gp_df = get_best_programs(est, num_models, classifier, sort_fit=sort_fit, ascending=classifier)\n",
    "        out = np.zeros((X.shape[0], len(programs)))\n",
    "        for i, prog in enumerate(programs):\n",
    "            out[:, i] = prog.execute(X)\n",
    "\n",
    "        return out, gp_df\n",
    "    else:\n",
    "        return est.transform(X), None\n",
    "\n",
    "function_set = ['add', 'sub', 'mul', 'div', 'sqrt', 'log',\n",
    "                'abs', 'neg', 'inv', 'max', 'min']\n",
    "\n",
    "def train_linear_model(seed, X_train, X_test, y_train, y_test):\n",
    "    cv = KFold(n_splits=3, random_state=seed, shuffle=True)\n",
    "    param_grid = {\"alpha\": np.logspace(-2, 2, 20)}\n",
    "    grid_cv = GridSearchCV(estimator=Ridge(max_iter=10000), param_grid=param_grid, \n",
    "                                            verbose=0, scoring=\"r2\", cv=cv).fit(X_train, y_train)\n",
    "    lin_model = Ridge(max_iter=10000, **grid_cv.best_params_)\n",
    "    lin_model.fit(X_train, y_train)\n",
    "    y_test_pred = lin_model.predict(X_test)\n",
    "\n",
    "    test_rmse_score = np.sqrt(np.mean((y_test - y_test_pred)**2))\n",
    "    test_r2_score = r2_score(y_test, y_test_pred)\n",
    "    test_pearson, test_pval = stats.pearsonr(y_test, y_test_pred)\n",
    "\n",
    "    return test_rmse_score, test_r2_score, test_pearson, test_pval\n",
    "\n",
    "def train_gp(seed, X_train, X_train_2, X_test, y_train, y_train_2, y_test, num_models=5, sort_fit=\"OOB_fitness\", verbose=0, num_gen=100, \n",
    "                        p_cxvr=0.8, p_subt_mut=0.1, p_hmut=0.05, p_pmut=0.1, subsample=0.8, complexity_coef=0.05):\n",
    "    gp_est = SymbolicTransformer(population_size=1000, hall_of_fame=200, n_components=50, generations=num_gen,\n",
    "                           p_crossover=p_cxvr, p_subtree_mutation=p_subt_mut,\n",
    "                           p_hoist_mutation=p_hmut, p_point_mutation=p_pmut,\n",
    "                           max_samples=subsample, verbose=verbose,\n",
    "                           parsimony_coefficient=complexity_coef, random_state=seed)\n",
    "\n",
    "    gp_est.fit(X_train, y_train)\n",
    "\n",
    "    gp_features_train, gp_train_df = gp_transform(gp_est, X_train_2, classifier=False, sort_fit=sort_fit, num_models=num_models)\n",
    "    gp_features_test, gp_test_df = gp_transform(gp_est, X_test, classifier=False, sort_fit=sort_fit, num_models=num_models)\n",
    "\n",
    "    X_train_comb = np.concatenate([X_train_2, gp_features_train], axis=1)\n",
    "    X_test_comb = np.concatenate([X_test, gp_features_test], axis=1)\n",
    "\n",
    "\n",
    "    test_rmse_score, test_r2_score, test_pearson, test_pval = train_linear_model(seed, X_train_comb, X_test_comb, y_train_2, y_test)\n",
    "\n",
    "    return test_rmse_score, test_r2_score, test_pearson, test_pval, gp_test_df\n"
   ],
   "metadata": {
    "collapsed": false,
    "pycharm": {
     "name": "#%%\n"
    }
   }
  },
  {
   "cell_type": "code",
   "execution_count": null,
   "outputs": [],
   "source": [
    "from tqdm import tqdm\n",
    "import pickle\n",
    "from sklearn.preprocessing import QuantileTransformer\n",
    "from scipy.stats import pearsonr\n",
    "epochs = 500\n",
    "batch_size = 80\n",
    "num_models = 5\n",
    "lr_0, disc_lr_0 = 1e-3, 0.8\n",
    "hidden_sizes = [1000, 500, 300, 100]\n",
    "eta, mu = 10.0, 1.0\n",
    "\n",
    "temp, sigma = 1.0, 1.0\n",
    "weight_prior = tfd.StudentT(df=2, loc=0, scale=sigma)\n",
    "num_feats = [20, 40, 60]\n",
    "num_ens = 10\n",
    "\n",
    "save_dir = f\"{data_dir}/exp_data_5/cancer/gdsc\"\n",
    "\n",
    "def cross_val_gp_train(seeds, X, y):\n",
    "   \n",
    "   bnn_rf_gp_dict = {\"seed\": [], \"model\": [], \"num_feats\": [], \"test_rmse_score\": [], \n",
    "                    \"test_r2_score\": [], \"test_pcc\": [], \"test_pcc_pval\": []}\n",
    "\n",
    "   bnn_bg_rf_dict = {\"seed\":[], \"model\": [], \"val_rmse\": [], \"test_rmse\": [], \"val_r2_score\": [], \"test_r2_score\": []}\n",
    "\n",
    "   for seed in tqdm(seeds):\n",
    "      rng_key = jax.random.PRNGKey(seed)\n",
    "      X_train_df, X_test_df, y_train_df, y_test_df = train_test_split(X, y, random_state=seed, shuffle=True, test_size=0.2)\n",
    "      X_train_df, X_val_df, y_train_df, y_val_df = train_test_split(X_train_df, y_train_df, shuffle=True, \n",
    "                                                   random_state=seed, test_size=0.2)\n",
    "      train_transformer = QuantileTransformer(random_state=seed, output_distribution=\"normal\").fit(X_train_df)\n",
    "      train_transformed = train_transformer.transform(X_train_df)\n",
    "      val_transformed = train_transformer.transform(X_val_df)\n",
    "      test_transformed = train_transformer.transform(X_test_df)\n",
    "\n",
    "      X_train_df = pd.DataFrame(train_transformed, columns=X_train_df.columns)\n",
    "      X_val_df = pd.DataFrame(val_transformed, columns=X_val_df.columns)\n",
    "      X_test_df = pd.DataFrame(test_transformed, columns=X_test_df.columns)\n",
    "      X_train, y_train = X_train_df.values, y_train_df.values\n",
    "      X_val, y_val = X_val_df.values, y_val_df.values\n",
    "      X_test, y_test = X_test_df.values, y_test_df.values\n",
    "\n",
    "      # Train BNN and RF models and select features\n",
    "      torch.manual_seed(seed)\n",
    "      data_loader = NumpyLoader(NumpyData(X_train, y_train), batch_size=batch_size, shuffle=True)\n",
    "      val_data = NumpyData(X_val, y_val)\n",
    "\n",
    "      bg_bnn_models, bg_states, val_losses = train_bg_deep_ens_model(rng_key, data_loader, val_data, epochs, lr_0, disc_lr_0,\n",
    "                                                                     weight_prior, temp, hidden_sizes, eta, mu, J, num_ensembles=num_ens, act_fn=jax.nn.swish, patience=10)\n",
    "      \n",
    "      bnn_bg_rmse_val, bnn_bg_r2_val = eval_bg_deep_ens_model(rng_key, bg_bnn_models, X_val, y_val, bg_states)\n",
    "      bnn_bg_rmse_test, bnn_bg_r2_test = eval_bg_deep_ens_model(rng_key, bg_bnn_models, X_test, y_test, bg_states)\n",
    "\n",
    "      gammas = np.array([state.avg_disc_state for state in bg_states])\n",
    "      mean_gammas = np.mean(gammas, axis=0)\n",
    "      \n",
    "\n",
    "      rf_model = train_rf_model(seed, X_train, y_train)\n",
    "      rf_rmse_val, rf_r2_val = eval_rf_model(rf_model, X_val, y_val)\n",
    "      rf_rmse_test, rf_r2_test = eval_rf_model(rf_model, X_test, y_test)\n",
    "\n",
    "      X_train_2, y_train_2 = jax.random.choice(rng_key, X_train, shape=(X_val.shape[0],), replace=False), jax.random.choice(rng_key, y_train, shape=(X_val.shape[0],), replace=False)\n",
    "\n",
    "      for num_feat in num_feats:\n",
    "         bnn_feat_idx = np.argsort(mean_gammas)[::-1][:num_feat]\n",
    "\n",
    "         rf_feat_idx = np.argsort(rf_model.feature_importances_)[::-1][:num_feat]\n",
    "\n",
    "         # Create new validation for training Linear Regression models same size as outer validation\n",
    "         X_gp_train_rf, X_gp_train_2_rf, X_gp_val_rf, X_gp_test_rf = X_val[:,rf_feat_idx], X_train_2[:,rf_feat_idx], X_train[:,rf_feat_idx], X_test[:,rf_feat_idx] \n",
    "         X_gp_train_bnn, X_gp_train_2_bnn, X_gp_val_bnn, X_gp_test_bnn = X_val[:,bnn_feat_idx], X_train_2[:,bnn_feat_idx], X_train[:,bnn_feat_idx], X_test[:,bnn_feat_idx]\n",
    "         \n",
    "         y_train_gp, y_train_gp_2, y_val_gp, y_test_gp = y_val, y_train_2, y_train, y_test\n",
    "\n",
    "         ## Run GP\n",
    "\n",
    "   \n",
    "         bnn_test_rmse_score, bnn_test_r2_score, bnn_test_pcc, bnn_test_pval = train_linear_model(seed, X_gp_train_2_bnn, X_gp_test_bnn, y_train_gp_2, y_test_gp)\n",
    "         rf_test_rmse_score, rf_test_r2_score, rf_test_pcc, rf_test_pval = train_linear_model(seed, X_gp_train_2_rf, X_gp_test_rf, y_train_gp_2, y_test_gp)\n",
    "\n",
    "\n",
    "         bnn_gp_test_rmse_score, bnn_gp_test_r2_score, bnn_gp_test_pcc, bnn_gp_test_pval, _ = train_gp(seed, X_gp_train_bnn, X_gp_train_2_bnn, X_gp_test_bnn, \n",
    "                                                                                                               y_train_gp, y_train_gp_2, y_test_gp, num_models=num_models, verbose=0, p_cxvr=0.8, p_subt_mut=0.1, \n",
    "                                                                                                               p_hmut=0.05, p_pmut=0.05, complexity_coef=0.01)\n",
    "\n",
    "\n",
    "         rf_gp_test_rmse_score, rf_gp_test_r2_score, rf_gp_test_pcc, rf_gp_test_pval, _ = train_gp(seed, X_gp_train_rf, X_gp_train_2_rf, X_gp_test_rf, \n",
    "                                                                                                               y_train_gp, y_train_gp_2, y_test_gp, num_models=num_models, verbose=0, p_cxvr=0.8, p_subt_mut=0.1, \n",
    "                                                                                                               p_hmut=0.05, p_pmut=0.05, complexity_coef=0.01)\n",
    "\n",
    "\n",
    "         # ======================== Save scores for compressed models =========================\n",
    "\n",
    "         bnn_rf_gp_dict[\"seed\"].append(seed)\n",
    "         bnn_rf_gp_dict[\"model\"].append(\"RF + LR\")\n",
    "         bnn_rf_gp_dict[\"num_feats\"].append(num_feat)\n",
    "         bnn_rf_gp_dict[\"test_rmse_score\"].append(rf_test_rmse_score)\n",
    "         bnn_rf_gp_dict[\"test_r2_score\"].append(rf_test_r2_score)\n",
    "         bnn_rf_gp_dict[\"test_pcc\"].append(rf_test_pcc)\n",
    "         bnn_rf_gp_dict[\"test_pcc_pval\"].append(rf_test_pval)\n",
    "\n",
    "         bnn_rf_gp_dict[\"seed\"].append(seed)\n",
    "         bnn_rf_gp_dict[\"model\"].append(\"RF + LR + GP\")\n",
    "         bnn_rf_gp_dict[\"num_feats\"].append(num_feat)\n",
    "         bnn_rf_gp_dict[\"test_rmse_score\"].append(rf_gp_test_rmse_score)\n",
    "         bnn_rf_gp_dict[\"test_r2_score\"].append(rf_gp_test_r2_score)\n",
    "         bnn_rf_gp_dict[\"test_pcc\"].append(rf_gp_test_pcc)\n",
    "         bnn_rf_gp_dict[\"test_pcc_pval\"].append(rf_gp_test_pval)\n",
    "\n",
    "         bnn_rf_gp_dict[\"seed\"].append(seed)\n",
    "         bnn_rf_gp_dict[\"model\"].append(\"BNN + LR\")\n",
    "         bnn_rf_gp_dict[\"num_feats\"].append(num_feat)\n",
    "         bnn_rf_gp_dict[\"test_rmse_score\"].append(bnn_test_rmse_score)\n",
    "         bnn_rf_gp_dict[\"test_r2_score\"].append(bnn_test_r2_score)\n",
    "         bnn_rf_gp_dict[\"test_pcc\"].append(bnn_test_pcc)\n",
    "         bnn_rf_gp_dict[\"test_pcc_pval\"].append(bnn_test_pval)\n",
    "\n",
    "\n",
    "         bnn_rf_gp_dict[\"seed\"].append(seed)\n",
    "         bnn_rf_gp_dict[\"model\"].append(\"BNN + LR + GP\")\n",
    "         bnn_rf_gp_dict[\"num_feats\"].append(num_feat)\n",
    "         bnn_rf_gp_dict[\"test_rmse_score\"].append(bnn_gp_test_rmse_score)\n",
    "         bnn_rf_gp_dict[\"test_r2_score\"].append(bnn_gp_test_r2_score)\n",
    "         bnn_rf_gp_dict[\"test_pcc\"].append(bnn_gp_test_pcc)\n",
    "         bnn_rf_gp_dict[\"test_pcc_pval\"].append(bnn_gp_test_pval)\n",
    "\n",
    "\n",
    "         print(f\"RF scores - LR: {rf_test_r2_score} GP: {rf_gp_test_r2_score}\")\n",
    "         print(f\"BNN scores - LR: {bnn_test_r2_score} GP: {bnn_gp_test_r2_score}\")\n",
    "\n",
    "\n",
    "      # ======================== Save scores for non-compressed models =========================\n",
    "      bnn_rf_deep_ens_bg_dict[\"seed\"].append(seed)\n",
    "      bnn_rf_deep_ens_bg_dict[\"model\"].append(\"RF\")\n",
    "      bnn_rf_deep_ens_bg_dict[\"val_rmse\"].append(rf_rmse_val)\n",
    "      bnn_rf_deep_ens_bg_dict[\"val_r2_score\"].append(rf_r2_val)\n",
    "      bnn_rf_deep_ens_bg_dict[\"test_rmse\"].append(rf_rmse_test)\n",
    "      bnn_rf_deep_ens_bg_dict[\"test_r2_score\"].append(rf_r2_test)\n",
    "\n",
    "      bnn_rf_deep_ens_bg_dict[\"seed\"].append(seed)\n",
    "      bnn_rf_deep_ens_bg_dict[\"model\"].append(\"Deep Ens\")\n",
    "      bnn_rf_deep_ens_bg_dict[\"val_rmse\"].append(bnn_bg_rmse_val)\n",
    "      bnn_rf_deep_ens_bg_dict[\"val_r2_score\"].append(bnn_bg_r2_val)\n",
    "      bnn_rf_deep_ens_bg_dict[\"test_rmse\"].append(bnn_bg_rmse_test)\n",
    "      bnn_rf_deep_ens_bg_dict[\"test_r2_score\"].append(bnn_bg_r2_test)\n",
    "\n",
    "\n",
    "\n",
    "   return bnn_rf_deep_ens_bg_dict, bnn_rf_gp_dict"
   ],
   "metadata": {
    "collapsed": false,
    "pycharm": {
     "name": "#%%\n"
    }
   }
  },
  {
   "cell_type": "code",
   "execution_count": null,
   "outputs": [],
   "source": [
    "# seeds = [422,261,968,282,739,573,220,413,745,775,482,442,210,423,760,57,769,920,226,196]\n",
    "seeds = [422,261,968,282,739]\n",
    "bnn_rf_deep_ens_bg_dict, bnn_rf_gp_dict = cross_val_gp_train(seeds, X_selected, target)\n",
    "save_dir = f\"{data_dir}/exp_data_5/cancer/gdsc\"\n",
    "bnn_rf_gp_df = pd.DataFrame(bnn_rf_gp_dict)\n",
    "bnn_rf_gp_df.to_csv(f\"{save_dir}/bnn_rf_gp_df_avg_state_v2.csv\", index=False)\n",
    "bnn_rf_deep_ens_bg_df = pd.DataFrame(bnn_rf_deep_ens_bg_dict)\n",
    "bnn_rf_deep_ens_bg_df.to_csv(f\"{save_dir}/bnn_deep_ens_rf.csv\", index=False)"
   ],
   "metadata": {
    "collapsed": false,
    "pycharm": {
     "name": "#%%\n"
    }
   }
  },
  {
   "cell_type": "code",
   "execution_count": null,
   "outputs": [],
   "source": [
    "bnn_rf_deep_ens_bg_df = pd.read_csv(f\"{save_dir}/bnn_deep_ens_rf.csv\")\n",
    "bnn_rf_deep_ens_bg_df.drop(index=[36, 37]).groupby(\"model\").mean()"
   ],
   "metadata": {
    "collapsed": false,
    "pycharm": {
     "name": "#%%\n"
    }
   }
  },
  {
   "cell_type": "code",
   "execution_count": null,
   "outputs": [],
   "source": [
    "pd.read_csv(f\"{save_dir}/bnn_deep_ens_rf.csv\")"
   ],
   "metadata": {
    "collapsed": false,
    "pycharm": {
     "name": "#%%\n"
    }
   }
  },
  {
   "cell_type": "code",
   "execution_count": null,
   "outputs": [],
   "source": [
    "save_dir = f\"{data_dir}/exp_data_5/cancer/gdsc\"\n",
    "bnn_rf_gp_df = pd.read_csv(f\"{save_dir}/bnn_rf_gp_df_avg_state_v2.csv\")\n",
    "bnn_rf_gp_df.groupby([\"model\", \"num_feats\"]).mean().iloc[:,1:]"
   ],
   "metadata": {
    "collapsed": false,
    "pycharm": {
     "name": "#%%\n"
    }
   }
  },
  {
   "cell_type": "code",
   "execution_count": null,
   "outputs": [],
   "source": [
    "bnn_rf_gp_df.groupby([\"model\"]).mean().iloc[:,1:]"
   ],
   "metadata": {
    "collapsed": false,
    "pycharm": {
     "name": "#%%\n"
    }
   }
  },
  {
   "cell_type": "code",
   "execution_count": null,
   "outputs": [],
   "source": [],
   "metadata": {
    "collapsed": false,
    "pycharm": {
     "name": "#%%\n"
    }
   }
  },
  {
   "cell_type": "code",
   "execution_count": null,
   "outputs": [],
   "source": [
    "bnn_rf_deep_ens_bg_df.iloc[37]"
   ],
   "metadata": {
    "collapsed": false,
    "pycharm": {
     "name": "#%%\n"
    }
   }
  },
  {
   "cell_type": "code",
   "execution_count": null,
   "outputs": [],
   "source": [
    "bnn_rf_gp_df_2 = pd.read_csv(f\"{save_dir}/bnn_rf_gp_df_avg_state.csv\")\n",
    "bnn_rf_gp_df_2.groupby(\"model\").mean().iloc[:,1:]"
   ],
   "metadata": {
    "collapsed": false,
    "pycharm": {
     "name": "#%%\n"
    }
   }
  },
  {
   "cell_type": "code",
   "execution_count": null,
   "outputs": [],
   "source": [
    "def input_mapping(x, B):\n",
    "  if B is None:\n",
    "    return x\n",
    "  else:\n",
    "    def transform_fn(x):\n",
    "      x_proj = (2.*jnp.pi*x) * B\n",
    "      return jnp.concatenate([jnp.sin(x_proj), jnp.cos(x_proj)], axis=-1)\n",
    "\n",
    "    x_fft = jax.vmap(transform_fn)(x)\n",
    "    return x_fft\n"
   ],
   "metadata": {
    "collapsed": false,
    "pycharm": {
     "name": "#%%\n"
    }
   }
  },
  {
   "cell_type": "code",
   "execution_count": null,
   "outputs": [],
   "source": [
    "rng_key = jax.random.PRNGKey(seed)\n",
    "epochs = 1000\n",
    "num_cycles = 3\n",
    "batch_size = 80\n",
    "beta = 0.8\n",
    "lr_0 = 1e-3\n",
    "hidden_sizes = [1000, 500, 300, 100]\n",
    "temp, sigma = 1e-2, 1.0\n",
    "n, p = X_train.shape\n",
    "\n",
    "# scales = [1.0, 10., 100.0]\n",
    "scales = [15, 20, 50]\n",
    "\n",
    "for scale in scales:\n",
    "    B_gauss = scale*jax.random.normal(rng_key, (p,))\n",
    "    X_train_fft = input_mapping(X_train, B_gauss)\n",
    "    X_val_fft = input_mapping(X_val, B_gauss)\n",
    "    X_test_fft = input_mapping(X_test, B_gauss)\n",
    "    X_train_fft.shape\n",
    "    torch.manual_seed(seed)\n",
    "    data_loader = NumpyLoader(NumpyData(X_train_fft, y_train), batch_size=batch_size, shuffle=True)\n",
    "    val_data = NumpyData(X_val_fft, y_val)\n",
    "\n",
    "    bnn_model, state, val_losses = train_nn_model(rng_key, data_loader, val_data, epochs, num_cycles, beta, lr_0,\n",
    "                                        hidden_sizes, dropout_rate=0.0, act_fn=jax.nn.swish, patience=20)\n",
    "\n",
    "    rmse_val, r2_val = eval_bnn_model(rng_key, bnn_model, X_val_fft, y_val, state)\n",
    "    rmse_test, r2_test = eval_bnn_model(rng_key, bnn_model, X_test_fft, y_test, state)\n",
    "    print(f\"Scale: {scale}\")\n",
    "    print(f\"Val RMSE: {rmse_val}, r2_score: {r2_val}\")\n",
    "    print(f\"Test RMSE: {rmse_test}, r2_score: {r2_test}\")                                    "
   ],
   "metadata": {
    "collapsed": false,
    "pycharm": {
     "name": "#%%\n"
    }
   }
  },
  {
   "cell_type": "code",
   "execution_count": null,
   "outputs": [],
   "source": [
    "rng_key = jax.random.PRNGKey(seed)\n",
    "n, p = X_train.shape\n",
    "B_gauss = 10.*jax.random.normal(rng_key, (p, ))"
   ],
   "metadata": {
    "collapsed": false,
    "pycharm": {
     "name": "#%%\n"
    }
   }
  },
  {
   "cell_type": "code",
   "execution_count": null,
   "outputs": [],
   "source": [
    "X_train_fft = input_mapping(X_train, B_gauss)"
   ],
   "metadata": {
    "collapsed": false,
    "pycharm": {
     "name": "#%%\n"
    }
   }
  },
  {
   "cell_type": "code",
   "execution_count": null,
   "outputs": [],
   "source": [
    "X_train_fft.shape"
   ],
   "metadata": {
    "collapsed": false,
    "pycharm": {
     "name": "#%%\n"
    }
   }
  },
  {
   "cell_type": "code",
   "execution_count": null,
   "outputs": [],
   "source": [],
   "metadata": {
    "collapsed": false,
    "pycharm": {
     "name": "#%%\n"
    }
   }
  }
 ],
 "metadata": {
  "kernelspec": {
   "display_name": "Python 3 (ipykernel)",
   "language": "python",
   "name": "python3"
  },
  "language_info": {
   "codemirror_mode": {
    "name": "ipython",
    "version": 3
   },
   "file_extension": ".py",
   "mimetype": "text/x-python",
   "name": "python",
   "nbconvert_exporter": "python",
   "pygments_lexer": "ipython3",
   "version": "3.9.13"
  },
  "orig_nbformat": 4,
  "vscode": {
   "interpreter": {
    "hash": "916dbcbb3f70747c44a77c7bcd40155683ae19c65e1c03b4aa3499c5328201f1"
   }
  }
 },
 "nbformat": 4,
 "nbformat_minor": 2
}