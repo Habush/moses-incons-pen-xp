{
 "cells": [
  {
   "cell_type": "code",
   "execution_count": 1,
   "metadata": {
    "collapsed": true,
    "pycharm": {
     "name": "#%%\n"
    }
   },
   "outputs": [
    {
     "name": "stdout",
     "output_type": "stream",
     "text": [
      "Looking in links: https://storage.googleapis.com/jax-releases/jax_cuda_releases.html\r\n",
      "Requirement already satisfied: jax[cuda112] in /usr/local/lib/python3.9/dist-packages (0.3.14)\r\n",
      "Collecting jax[cuda112]\r\n",
      "  Downloading jax-0.3.21.tar.gz (1.1 MB)\r\n",
      "\u001B[2K     \u001B[90m━━━━━━━━━━━━━━━━━━━━━━━━━━━━━━━━━━━━━━━━\u001B[0m \u001B[32m1.1/1.1 MB\u001B[0m \u001B[31m26.0 MB/s\u001B[0m eta \u001B[36m0:00:00\u001B[0m00:01\u001B[0m\r\n",
      "\u001B[?25h  Preparing metadata (setup.py) ... \u001B[?25ldone\r\n",
      "\u001B[33mWARNING: jax 0.3.21 does not provide the extra 'cuda112'\u001B[0m\u001B[33m\r\n",
      "\u001B[0m\u001B[?25hRequirement already satisfied: absl-py in /usr/local/lib/python3.9/dist-packages (from jax[cuda112]) (1.1.0)\r\n",
      "Requirement already satisfied: numpy>=1.20 in /usr/local/lib/python3.9/dist-packages (from jax[cuda112]) (1.23.1)\r\n",
      "Requirement already satisfied: opt_einsum in /usr/local/lib/python3.9/dist-packages (from jax[cuda112]) (3.3.0)\r\n",
      "Requirement already satisfied: scipy>=1.5 in /usr/local/lib/python3.9/dist-packages (from jax[cuda112]) (1.8.1)\r\n",
      "Requirement already satisfied: typing_extensions in /usr/local/lib/python3.9/dist-packages (from jax[cuda112]) (4.3.0)\r\n",
      "Requirement already satisfied: etils[epath] in /usr/local/lib/python3.9/dist-packages (from jax[cuda112]) (0.6.0)\r\n",
      "Requirement already satisfied: importlib_resources in /usr/local/lib/python3.9/dist-packages (from etils[epath]->jax[cuda112]) (5.8.0)\r\n",
      "Requirement already satisfied: zipp in /usr/local/lib/python3.9/dist-packages (from etils[epath]->jax[cuda112]) (3.8.1)\r\n",
      "Building wheels for collected packages: jax\r\n",
      "  Building wheel for jax (setup.py) ... \u001B[?25ldone\r\n",
      "\u001B[?25h  Created wheel for jax: filename=jax-0.3.21-py3-none-any.whl size=1263550 sha256=b7ed5c427e41174b6972143d216d60ffb97cb916b180c773b1b79fd18a428fc7\r\n",
      "  Stored in directory: /root/.cache/pip/wheels/cd/fe/13/b51a21b340580b56f5378c5e68d14d19e74e956d575397c41f\r\n",
      "Successfully built jax\r\n",
      "Installing collected packages: jax\r\n",
      "  Attempting uninstall: jax\r\n",
      "    Found existing installation: jax 0.3.14\r\n",
      "    Uninstalling jax-0.3.14:\r\n",
      "      Successfully uninstalled jax-0.3.14\r\n",
      "Successfully installed jax-0.3.21\r\n",
      "\u001B[33mWARNING: Running pip as the 'root' user can result in broken permissions and conflicting behaviour with the system package manager. It is recommended to use a virtual environment instead: https://pip.pypa.io/warnings/venv\u001B[0m\u001B[33m\r\n",
      "\u001B[0mLooking in links: https://storage.googleapis.com/jax-releases/jax_cuda_releases.html\r\n",
      "Requirement already satisfied: jaxlib[cuda112] in /usr/local/lib/python3.9/dist-packages (0.3.8+cuda11.cudnn82)\r\n",
      "Collecting jaxlib[cuda112]\r\n",
      "  Downloading https://storage.googleapis.com/jax-releases/cuda11/jaxlib-0.3.20%2Bcuda11.cudnn82-cp39-cp39-manylinux2014_x86_64.whl (162.2 MB)\r\n",
      "\u001B[2K     \u001B[90m━━━━━━━━━━━━━━━━━━━━━━━━━━━━━━━━━━━━━━\u001B[0m \u001B[32m162.2/162.2 MB\u001B[0m \u001B[31m14.6 MB/s\u001B[0m eta \u001B[36m0:00:00\u001B[0m00:01\u001B[0m00:01\u001B[0m\r\n",
      "\u001B[?25h\u001B[33mWARNING: jaxlib 0.3.20+cuda11.cudnn82 does not provide the extra 'cuda112'\u001B[0m\u001B[33m\r\n",
      "\u001B[0mRequirement already satisfied: numpy>=1.20 in /usr/local/lib/python3.9/dist-packages (from jaxlib[cuda112]) (1.23.1)\r\n",
      "Requirement already satisfied: absl-py in /usr/local/lib/python3.9/dist-packages (from jaxlib[cuda112]) (1.1.0)\r\n",
      "Requirement already satisfied: scipy>=1.5 in /usr/local/lib/python3.9/dist-packages (from jaxlib[cuda112]) (1.8.1)\r\n",
      "Installing collected packages: jaxlib\r\n",
      "  Attempting uninstall: jaxlib\r\n",
      "    Found existing installation: jaxlib 0.3.8+cuda11.cudnn82\r\n",
      "    Uninstalling jaxlib-0.3.8+cuda11.cudnn82:\r\n",
      "      Successfully uninstalled jaxlib-0.3.8+cuda11.cudnn82\r\n",
      "Successfully installed jaxlib-0.3.20+cuda11.cudnn82\r\n",
      "\u001B[33mWARNING: Running pip as the 'root' user can result in broken permissions and conflicting behaviour with the system package manager. It is recommended to use a virtual environment instead: https://pip.pypa.io/warnings/venv\u001B[0m\u001B[33m\r\n",
      "\u001B[0mCollecting optax\r\n",
      "  Downloading optax-0.1.3-py3-none-any.whl (145 kB)\r\n",
      "\u001B[2K     \u001B[90m━━━━━━━━━━━━━━━━━━━━━━━━━━━━━━━━━━━━━━\u001B[0m \u001B[32m145.1/145.1 kB\u001B[0m \u001B[31m26.3 MB/s\u001B[0m eta \u001B[36m0:00:00\u001B[0m\r\n",
      "\u001B[?25hCollecting chex>=0.0.4\r\n",
      "  Downloading chex-0.1.5-py3-none-any.whl (85 kB)\r\n",
      "\u001B[2K     \u001B[90m━━━━━━━━━━━━━━━━━━━━━━━━━━━━━━━━━━━━━━━━\u001B[0m \u001B[32m85.3/85.3 kB\u001B[0m \u001B[31m36.1 MB/s\u001B[0m eta \u001B[36m0:00:00\u001B[0m\r\n",
      "\u001B[?25hRequirement already satisfied: jax>=0.1.55 in /usr/local/lib/python3.9/dist-packages (from optax) (0.3.21)\r\n",
      "Requirement already satisfied: numpy>=1.18.0 in /usr/local/lib/python3.9/dist-packages (from optax) (1.23.1)\r\n",
      "Requirement already satisfied: typing-extensions>=3.10.0 in /usr/local/lib/python3.9/dist-packages (from optax) (4.3.0)\r\n",
      "Requirement already satisfied: absl-py>=0.7.1 in /usr/local/lib/python3.9/dist-packages (from optax) (1.1.0)\r\n",
      "Requirement already satisfied: jaxlib>=0.1.37 in /usr/local/lib/python3.9/dist-packages (from optax) (0.3.20+cuda11.cudnn82)\r\n",
      "Collecting dm-tree>=0.1.5\r\n",
      "  Downloading dm_tree-0.1.7-cp39-cp39-manylinux_2_12_x86_64.manylinux2010_x86_64.whl (142 kB)\r\n",
      "\u001B[2K     \u001B[90m━━━━━━━━━━━━━━━━━━━━━━━━━━━━━━━━━━━━━━\u001B[0m \u001B[32m142.7/142.7 kB\u001B[0m \u001B[31m47.4 MB/s\u001B[0m eta \u001B[36m0:00:00\u001B[0m\r\n",
      "\u001B[?25hCollecting toolz>=0.9.0\r\n",
      "  Downloading toolz-0.12.0-py3-none-any.whl (55 kB)\r\n",
      "\u001B[2K     \u001B[90m━━━━━━━━━━━━━━━━━━━━━━━━━━━━━━━━━━━━━━━━\u001B[0m \u001B[32m55.8/55.8 kB\u001B[0m \u001B[31m25.6 MB/s\u001B[0m eta \u001B[36m0:00:00\u001B[0m\r\n",
      "\u001B[?25hRequirement already satisfied: opt-einsum in /usr/local/lib/python3.9/dist-packages (from jax>=0.1.55->optax) (3.3.0)\r\n",
      "Requirement already satisfied: scipy>=1.5 in /usr/local/lib/python3.9/dist-packages (from jax>=0.1.55->optax) (1.8.1)\r\n",
      "Requirement already satisfied: etils[epath] in /usr/local/lib/python3.9/dist-packages (from jax>=0.1.55->optax) (0.6.0)\r\n",
      "Requirement already satisfied: zipp in /usr/local/lib/python3.9/dist-packages (from etils[epath]->jax>=0.1.55->optax) (3.8.1)\r\n",
      "Requirement already satisfied: importlib_resources in /usr/local/lib/python3.9/dist-packages (from etils[epath]->jax>=0.1.55->optax) (5.8.0)\r\n",
      "Installing collected packages: dm-tree, toolz, chex, optax\r\n",
      "Successfully installed chex-0.1.5 dm-tree-0.1.7 optax-0.1.3 toolz-0.12.0\r\n",
      "\u001B[33mWARNING: Running pip as the 'root' user can result in broken permissions and conflicting behaviour with the system package manager. It is recommended to use a virtual environment instead: https://pip.pypa.io/warnings/venv\u001B[0m\u001B[33m\r\n",
      "\u001B[0mCollecting dm-haiku\r\n",
      "  Downloading dm_haiku-0.0.8-py3-none-any.whl (350 kB)\r\n",
      "\u001B[2K     \u001B[90m━━━━━━━━━━━━━━━━━━━━━━━━━━━━━━━━━━━━━━\u001B[0m \u001B[32m350.2/350.2 kB\u001B[0m \u001B[31m40.6 MB/s\u001B[0m eta \u001B[36m0:00:00\u001B[0m\r\n",
      "\u001B[?25hCollecting jmp>=0.0.2\r\n",
      "  Downloading jmp-0.0.2-py3-none-any.whl (16 kB)\r\n",
      "Requirement already satisfied: numpy>=1.18.0 in /usr/local/lib/python3.9/dist-packages (from dm-haiku) (1.23.1)\r\n",
      "Collecting tabulate>=0.8.9\r\n",
      "  Downloading tabulate-0.9.0-py3-none-any.whl (35 kB)\r\n",
      "Requirement already satisfied: absl-py>=0.7.1 in /usr/local/lib/python3.9/dist-packages (from dm-haiku) (1.1.0)\r\n",
      "Installing collected packages: tabulate, jmp, dm-haiku\r\n",
      "Successfully installed dm-haiku-0.0.8 jmp-0.0.2 tabulate-0.9.0\r\n",
      "\u001B[33mWARNING: Running pip as the 'root' user can result in broken permissions and conflicting behaviour with the system package manager. It is recommended to use a virtual environment instead: https://pip.pypa.io/warnings/venv\u001B[0m\u001B[33m\r\n",
      "\u001B[0mCollecting tensorflow-probability\r\n",
      "  Downloading tensorflow_probability-0.18.0-py2.py3-none-any.whl (6.6 MB)\r\n",
      "\u001B[2K     \u001B[90m━━━━━━━━━━━━━━━━━━━━━━━━━━━━━━━━━━━━━━━━\u001B[0m \u001B[32m6.6/6.6 MB\u001B[0m \u001B[31m104.5 MB/s\u001B[0m eta \u001B[36m0:00:00\u001B[0ma \u001B[36m0:00:01\u001B[0m\r\n",
      "\u001B[?25hRequirement already satisfied: cloudpickle>=1.3 in /usr/local/lib/python3.9/dist-packages (from tensorflow-probability) (2.1.0)\r\n",
      "Requirement already satisfied: dm-tree in /usr/local/lib/python3.9/dist-packages (from tensorflow-probability) (0.1.7)\r\n",
      "Requirement already satisfied: numpy>=1.13.3 in /usr/local/lib/python3.9/dist-packages (from tensorflow-probability) (1.23.1)\r\n",
      "Requirement already satisfied: gast>=0.3.2 in /usr/local/lib/python3.9/dist-packages (from tensorflow-probability) (0.4.0)\r\n",
      "Requirement already satisfied: absl-py in /usr/local/lib/python3.9/dist-packages (from tensorflow-probability) (1.1.0)\r\n",
      "Requirement already satisfied: decorator in /usr/local/lib/python3.9/dist-packages (from tensorflow-probability) (5.1.1)\r\n",
      "Requirement already satisfied: six>=1.10.0 in /usr/lib/python3/dist-packages (from tensorflow-probability) (1.14.0)\r\n",
      "Installing collected packages: tensorflow-probability\r\n",
      "Successfully installed tensorflow-probability-0.18.0\r\n",
      "\u001B[33mWARNING: Running pip as the 'root' user can result in broken permissions and conflicting behaviour with the system package manager. It is recommended to use a virtual environment instead: https://pip.pypa.io/warnings/venv\u001B[0m\u001B[33m\r\n",
      "\u001B[0mCollecting tensorflow-datasets\r\n",
      "  Downloading tensorflow_datasets-4.7.0-py3-none-any.whl (4.7 MB)\r\n",
      "\u001B[2K     \u001B[90m━━━━━━━━━━━━━━━━━━━━━━━━━━━━━━━━━━━━━━━━\u001B[0m \u001B[32m4.7/4.7 MB\u001B[0m \u001B[31m100.6 MB/s\u001B[0m eta \u001B[36m0:00:00\u001B[0m00:01\u001B[0m\r\n",
      "\u001B[?25hCollecting toml\r\n",
      "  Downloading toml-0.10.2-py2.py3-none-any.whl (16 kB)\r\n",
      "Requirement already satisfied: requests>=2.19.0 in /usr/local/lib/python3.9/dist-packages (from tensorflow-datasets) (2.28.1)\r\n",
      "Requirement already satisfied: tqdm in /usr/local/lib/python3.9/dist-packages (from tensorflow-datasets) (4.64.0)\r\n",
      "Requirement already satisfied: dill in /usr/local/lib/python3.9/dist-packages (from tensorflow-datasets) (0.3.5.1)\r\n",
      "Requirement already satisfied: etils[epath] in /usr/local/lib/python3.9/dist-packages (from tensorflow-datasets) (0.6.0)\r\n",
      "Collecting promise\r\n",
      "  Downloading promise-2.3.tar.gz (19 kB)\r\n",
      "  Preparing metadata (setup.py) ... \u001B[?25ldone\r\n",
      "\u001B[?25hRequirement already satisfied: numpy in /usr/local/lib/python3.9/dist-packages (from tensorflow-datasets) (1.23.1)\r\n",
      "Requirement already satisfied: absl-py in /usr/local/lib/python3.9/dist-packages (from tensorflow-datasets) (1.1.0)\r\n",
      "Collecting tensorflow-metadata\r\n",
      "  Downloading tensorflow_metadata-1.10.0-py3-none-any.whl (50 kB)\r\n",
      "\u001B[2K     \u001B[90m━━━━━━━━━━━━━━━━━━━━━━━━━━━━━━━━━━━━━━━━\u001B[0m \u001B[32m50.8/50.8 kB\u001B[0m \u001B[31m18.8 MB/s\u001B[0m eta \u001B[36m0:00:00\u001B[0m\r\n",
      "\u001B[?25hRequirement already satisfied: protobuf>=3.12.2 in /usr/local/lib/python3.9/dist-packages (from tensorflow-datasets) (3.19.4)\r\n",
      "Requirement already satisfied: six in /usr/lib/python3/dist-packages (from tensorflow-datasets) (1.14.0)\r\n",
      "Requirement already satisfied: termcolor in /usr/local/lib/python3.9/dist-packages (from tensorflow-datasets) (1.1.0)\r\n",
      "Requirement already satisfied: certifi>=2017.4.17 in /usr/lib/python3/dist-packages (from requests>=2.19.0->tensorflow-datasets) (2019.11.28)\r\n",
      "Requirement already satisfied: urllib3<1.27,>=1.21.1 in /usr/local/lib/python3.9/dist-packages (from requests>=2.19.0->tensorflow-datasets) (1.26.10)\r\n",
      "Requirement already satisfied: idna<4,>=2.5 in /usr/lib/python3/dist-packages (from requests>=2.19.0->tensorflow-datasets) (2.8)\r\n",
      "Requirement already satisfied: charset-normalizer<3,>=2 in /usr/local/lib/python3.9/dist-packages (from requests>=2.19.0->tensorflow-datasets) (2.1.0)\r\n",
      "Requirement already satisfied: importlib_resources in /usr/local/lib/python3.9/dist-packages (from etils[epath]->tensorflow-datasets) (5.8.0)\r\n",
      "Requirement already satisfied: zipp in /usr/local/lib/python3.9/dist-packages (from etils[epath]->tensorflow-datasets) (3.8.1)\r\n",
      "Collecting googleapis-common-protos<2,>=1.52.0\r\n",
      "  Downloading googleapis_common_protos-1.56.4-py2.py3-none-any.whl (211 kB)\r\n",
      "\u001B[2K     \u001B[90m━━━━━━━━━━━━━━━━━━━━━━━━━━━━━━━━━━━━━━\u001B[0m \u001B[32m211.7/211.7 kB\u001B[0m \u001B[31m63.3 MB/s\u001B[0m eta \u001B[36m0:00:00\u001B[0m\r\n",
      "\u001B[?25hRequirement already satisfied: typing_extensions in /usr/local/lib/python3.9/dist-packages (from etils[epath]->tensorflow-datasets) (4.3.0)\r\n",
      "Building wheels for collected packages: promise\r\n",
      "  Building wheel for promise (setup.py) ... \u001B[?25ldone\r\n",
      "\u001B[?25h  Created wheel for promise: filename=promise-2.3-py3-none-any.whl size=21486 sha256=47460f231dd621182916931980736a68e878320931ef8387b87926663f64b371\r\n",
      "  Stored in directory: /root/.cache/pip/wheels/e1/e8/83/ddea66100678d139b14bc87692ece57c6a2a937956d2532608\r\n",
      "Successfully built promise\r\n",
      "Installing collected packages: toml, promise, googleapis-common-protos, tensorflow-metadata, tensorflow-datasets\r\n",
      "Successfully installed googleapis-common-protos-1.56.4 promise-2.3 tensorflow-datasets-4.7.0 tensorflow-metadata-1.10.0 toml-0.10.2\r\n",
      "\u001B[33mWARNING: Running pip as the 'root' user can result in broken permissions and conflicting behaviour with the system package manager. It is recommended to use a virtual environment instead: https://pip.pypa.io/warnings/venv\u001B[0m\u001B[33m\r\n",
      "\u001B[0mCollecting imbalanced-learn\r\n",
      "  Downloading imbalanced_learn-0.9.1-py3-none-any.whl (199 kB)\r\n",
      "\u001B[2K     \u001B[90m━━━━━━━━━━━━━━━━━━━━━━━━━━━━━━━━━━━━━━\u001B[0m \u001B[32m199.3/199.3 kB\u001B[0m \u001B[31m28.1 MB/s\u001B[0m eta \u001B[36m0:00:00\u001B[0m\r\n",
      "\u001B[?25hRequirement already satisfied: scikit-learn>=1.1.0 in /usr/local/lib/python3.9/dist-packages (from imbalanced-learn) (1.1.1)\r\n",
      "Requirement already satisfied: threadpoolctl>=2.0.0 in /usr/local/lib/python3.9/dist-packages (from imbalanced-learn) (3.1.0)\r\n",
      "Requirement already satisfied: joblib>=1.0.0 in /usr/local/lib/python3.9/dist-packages (from imbalanced-learn) (1.1.0)\r\n",
      "Requirement already satisfied: numpy>=1.17.3 in /usr/local/lib/python3.9/dist-packages (from imbalanced-learn) (1.23.1)\r\n",
      "Requirement already satisfied: scipy>=1.3.2 in /usr/local/lib/python3.9/dist-packages (from imbalanced-learn) (1.8.1)\r\n",
      "Installing collected packages: imbalanced-learn\r\n",
      "Successfully installed imbalanced-learn-0.9.1\r\n",
      "\u001B[33mWARNING: Running pip as the 'root' user can result in broken permissions and conflicting behaviour with the system package manager. It is recommended to use a virtual environment instead: https://pip.pypa.io/warnings/venv\u001B[0m\u001B[33m\r\n",
      "\u001B[0mCollecting git+https://github.com/Habush/Sklearn-genetic-opt.git\r\n",
      "  Cloning https://github.com/Habush/Sklearn-genetic-opt.git to /tmp/pip-req-build-k8elaadk\r\n",
      "  Running command git clone --filter=blob:none --quiet https://github.com/Habush/Sklearn-genetic-opt.git /tmp/pip-req-build-k8elaadk\r\n",
      "  Resolved https://github.com/Habush/Sklearn-genetic-opt.git to commit 6b310576d920d534bc9aa5f4d43e71450c0c1b28\r\n",
      "  Preparing metadata (setup.py) ... \u001B[?25ldone\r\n",
      "\u001B[?25hRequirement already satisfied: scikit-learn>=0.21.3 in /usr/local/lib/python3.9/dist-packages (from sklearn-genetic-opt==0.9.0) (1.1.1)\r\n",
      "Requirement already satisfied: numpy>=1.14.5 in /usr/local/lib/python3.9/dist-packages (from sklearn-genetic-opt==0.9.0) (1.23.1)\r\n",
      "Collecting deap>=1.3.1\r\n",
      "  Downloading deap-1.3.3-cp39-cp39-manylinux_2_5_x86_64.manylinux1_x86_64.manylinux_2_17_x86_64.manylinux2014_x86_64.whl (139 kB)\r\n",
      "\u001B[2K     \u001B[90m━━━━━━━━━━━━━━━━━━━━━━━━━━━━━━━━━━━━━━\u001B[0m \u001B[32m139.8/139.8 kB\u001B[0m \u001B[31m26.1 MB/s\u001B[0m eta \u001B[36m0:00:00\u001B[0m\r\n",
      "\u001B[?25hRequirement already satisfied: tqdm>=4.61.1 in /usr/local/lib/python3.9/dist-packages (from sklearn-genetic-opt==0.9.0) (4.64.0)\r\n",
      "Requirement already satisfied: threadpoolctl>=2.0.0 in /usr/local/lib/python3.9/dist-packages (from scikit-learn>=0.21.3->sklearn-genetic-opt==0.9.0) (3.1.0)\r\n",
      "Requirement already satisfied: joblib>=1.0.0 in /usr/local/lib/python3.9/dist-packages (from scikit-learn>=0.21.3->sklearn-genetic-opt==0.9.0) (1.1.0)\r\n",
      "Requirement already satisfied: scipy>=1.3.2 in /usr/local/lib/python3.9/dist-packages (from scikit-learn>=0.21.3->sklearn-genetic-opt==0.9.0) (1.8.1)\r\n",
      "Building wheels for collected packages: sklearn-genetic-opt\r\n",
      "  Building wheel for sklearn-genetic-opt (setup.py) ... \u001B[?25ldone\r\n",
      "\u001B[?25h  Created wheel for sklearn-genetic-opt: filename=sklearn_genetic_opt-0.9.0-py3-none-any.whl size=31820 sha256=939d8f16b7f43eb173469950fddce386b46a98a5bc993cd89d94563d638c0254\r\n",
      "  Stored in directory: /tmp/pip-ephem-wheel-cache-qp9axjuz/wheels/e1/0c/85/52a428c631ebe2eba1830f5f48586524c76ed095e5fad55e63\r\n",
      "Successfully built sklearn-genetic-opt\r\n",
      "Installing collected packages: deap, sklearn-genetic-opt\r\n",
      "Successfully installed deap-1.3.3 sklearn-genetic-opt-0.9.0\r\n",
      "\u001B[33mWARNING: Running pip as the 'root' user can result in broken permissions and conflicting behaviour with the system package manager. It is recommended to use a virtual environment instead: https://pip.pypa.io/warnings/venv\u001B[0m\u001B[33m\r\n",
      "\u001B[0mCollecting git+https://github.com/blackjax-devs/blackjax.git\r\n",
      "  Cloning https://github.com/blackjax-devs/blackjax.git to /tmp/pip-req-build-scny9miv\r\n",
      "  Running command git clone --filter=blob:none --quiet https://github.com/blackjax-devs/blackjax.git /tmp/pip-req-build-scny9miv\r\n",
      "  Resolved https://github.com/blackjax-devs/blackjax.git to commit f5e10201646e946e7c9f2ef3f4c59265999720a7\r\n",
      "  Preparing metadata (setup.py) ... \u001B[?25ldone\r\n",
      "\u001B[?25hCollecting fastprogress>=0.2.0\r\n",
      "  Downloading fastprogress-1.0.3-py3-none-any.whl (12 kB)\r\n",
      "Requirement already satisfied: jax>=0.3.13 in /usr/local/lib/python3.9/dist-packages (from blackjax==0.9.6+35.gf5e1020) (0.3.21)\r\n",
      "Requirement already satisfied: jaxlib>=0.3.10 in /usr/local/lib/python3.9/dist-packages (from blackjax==0.9.6+35.gf5e1020) (0.3.20+cuda11.cudnn82)\r\n",
      "Collecting jaxopt>=0.4.2\r\n",
      "  Downloading jaxopt-0.5-py3-none-any.whl (128 kB)\r\n",
      "\u001B[2K     \u001B[90m━━━━━━━━━━━━━━━━━━━━━━━━━━━━━━━━━━━━━━\u001B[0m \u001B[32m128.5/128.5 kB\u001B[0m \u001B[31m32.9 MB/s\u001B[0m eta \u001B[36m0:00:00\u001B[0m\r\n",
      "\u001B[?25hRequirement already satisfied: numpy>=1.20 in /usr/local/lib/python3.9/dist-packages (from jax>=0.3.13->blackjax==0.9.6+35.gf5e1020) (1.23.1)\r\n",
      "Requirement already satisfied: opt-einsum in /usr/local/lib/python3.9/dist-packages (from jax>=0.3.13->blackjax==0.9.6+35.gf5e1020) (3.3.0)\r\n",
      "Requirement already satisfied: typing-extensions in /usr/local/lib/python3.9/dist-packages (from jax>=0.3.13->blackjax==0.9.6+35.gf5e1020) (4.3.0)\r\n",
      "Requirement already satisfied: etils[epath] in /usr/local/lib/python3.9/dist-packages (from jax>=0.3.13->blackjax==0.9.6+35.gf5e1020) (0.6.0)\r\n",
      "Requirement already satisfied: absl-py in /usr/local/lib/python3.9/dist-packages (from jax>=0.3.13->blackjax==0.9.6+35.gf5e1020) (1.1.0)\r\n",
      "Requirement already satisfied: scipy>=1.5 in /usr/local/lib/python3.9/dist-packages (from jax>=0.3.13->blackjax==0.9.6+35.gf5e1020) (1.8.1)\r\n",
      "Requirement already satisfied: matplotlib>=2.0.1 in /usr/local/lib/python3.9/dist-packages (from jaxopt>=0.4.2->blackjax==0.9.6+35.gf5e1020) (3.5.2)\r\n",
      "Requirement already satisfied: cycler>=0.10 in /usr/local/lib/python3.9/dist-packages (from matplotlib>=2.0.1->jaxopt>=0.4.2->blackjax==0.9.6+35.gf5e1020) (0.11.0)\r\n",
      "Requirement already satisfied: pyparsing>=2.2.1 in /usr/local/lib/python3.9/dist-packages (from matplotlib>=2.0.1->jaxopt>=0.4.2->blackjax==0.9.6+35.gf5e1020) (3.0.9)\r\n",
      "Requirement already satisfied: fonttools>=4.22.0 in /usr/local/lib/python3.9/dist-packages (from matplotlib>=2.0.1->jaxopt>=0.4.2->blackjax==0.9.6+35.gf5e1020) (4.34.4)\r\n",
      "Requirement already satisfied: python-dateutil>=2.7 in /usr/local/lib/python3.9/dist-packages (from matplotlib>=2.0.1->jaxopt>=0.4.2->blackjax==0.9.6+35.gf5e1020) (2.8.2)\r\n",
      "Requirement already satisfied: packaging>=20.0 in /usr/local/lib/python3.9/dist-packages (from matplotlib>=2.0.1->jaxopt>=0.4.2->blackjax==0.9.6+35.gf5e1020) (21.3)\r\n",
      "Requirement already satisfied: pillow>=6.2.0 in /usr/local/lib/python3.9/dist-packages (from matplotlib>=2.0.1->jaxopt>=0.4.2->blackjax==0.9.6+35.gf5e1020) (9.2.0)\r\n",
      "Requirement already satisfied: kiwisolver>=1.0.1 in /usr/local/lib/python3.9/dist-packages (from matplotlib>=2.0.1->jaxopt>=0.4.2->blackjax==0.9.6+35.gf5e1020) (1.4.3)\r\n",
      "Requirement already satisfied: zipp in /usr/local/lib/python3.9/dist-packages (from etils[epath]->jax>=0.3.13->blackjax==0.9.6+35.gf5e1020) (3.8.1)\r\n",
      "Requirement already satisfied: importlib_resources in /usr/local/lib/python3.9/dist-packages (from etils[epath]->jax>=0.3.13->blackjax==0.9.6+35.gf5e1020) (5.8.0)\r\n",
      "Requirement already satisfied: six>=1.5 in /usr/lib/python3/dist-packages (from python-dateutil>=2.7->matplotlib>=2.0.1->jaxopt>=0.4.2->blackjax==0.9.6+35.gf5e1020) (1.14.0)\r\n",
      "Building wheels for collected packages: blackjax\r\n",
      "  Building wheel for blackjax (setup.py) ... \u001B[?25ldone\r\n",
      "\u001B[?25h  Created wheel for blackjax: filename=blackjax-0.9.6+35.gf5e1020-py3-none-any.whl size=113114 sha256=d72400fdc0a5131b9101f1bb40faf863d281ec0307a6c59581fcd0855c4aca47\r\n",
      "  Stored in directory: /tmp/pip-ephem-wheel-cache-o3lhdf8z/wheels/e6/1e/f6/a6e0408a4e374b9cdb789b1769716b4ed61eef520a2dd702b1\r\n",
      "Successfully built blackjax\r\n",
      "Installing collected packages: fastprogress, jaxopt, blackjax\r\n",
      "Successfully installed blackjax-0.9.6+35.gf5e1020 fastprogress-1.0.3 jaxopt-0.5\r\n",
      "\u001B[33mWARNING: Running pip as the 'root' user can result in broken permissions and conflicting behaviour with the system package manager. It is recommended to use a virtual environment instead: https://pip.pypa.io/warnings/venv\u001B[0m\u001B[33m\r\n",
      "\u001B[0m"
     ]
    }
   ],
   "source": [
    "!pip install -U jax[cuda112] -f https://storage.googleapis.com/jax-releases/jax_cuda_releases.html\n",
    "!pip install -U jaxlib[cuda112] -f https://storage.googleapis.com/jax-releases/jax_cuda_releases.html\n",
    "!pip install optax\n",
    "!pip install dm-haiku\n",
    "!pip install tensorflow-probability\n",
    "!pip install tensorflow-datasets\n",
    "!pip install imbalanced-learn\n",
    "!pip install -U git+https://github.com/Habush/Sklearn-genetic-opt.git\n",
    "!pip install git+https://github.com/blackjax-devs/blackjax.git"
   ]
  },
  {
   "cell_type": "code",
   "execution_count": 1,
   "outputs": [],
   "source": [
    "import os\n",
    "os.environ[\"XLA_PYTHON_CLIENT_PREALLOCATE\"] = \"False\"\n",
    "os.environ[\"XLA_PYTHON_CLIENT_ALLOCATOR\"] = \"platform\""
   ],
   "metadata": {
    "collapsed": false,
    "pycharm": {
     "name": "#%%\n"
    }
   }
  },
  {
   "cell_type": "code",
   "execution_count": 2,
   "outputs": [],
   "source": [
    "# %cd /home/xabush/code/personal/nn_tutorial\n",
    "import jax\n",
    "import haiku as hk\n",
    "import jax.numpy as jnp\n",
    "import numpy as np\n",
    "import matplotlib.pyplot as plt\n",
    "from sklearn.datasets import make_moons\n",
    "import blackjax\n",
    "import tensorflow_probability.substrates.jax as tfp\n",
    "tfd = tfp.distributions\n",
    "from functools import partial\n",
    "import pandas as pd\n",
    "from sklearn.metrics import roc_auc_score\n",
    "from sklearn.model_selection import train_test_split\n",
    "from imblearn.under_sampling import RandomUnderSampler\n",
    "from nn_util import *\n",
    "from gibbs_sampler import *\n",
    "plt.style.use('ggplot')\n",
    "%load_ext autoreload"
   ],
   "metadata": {
    "collapsed": false,
    "pycharm": {
     "name": "#%%\n"
    }
   }
  },
  {
   "cell_type": "code",
   "execution_count": 3,
   "outputs": [
    {
     "data": {
      "text/plain": "'gpu'"
     },
     "execution_count": 3,
     "metadata": {},
     "output_type": "execute_result"
    }
   ],
   "source": [
    "jax.default_backend()"
   ],
   "metadata": {
    "collapsed": false,
    "pycharm": {
     "name": "#%%\n"
    }
   }
  },
  {
   "cell_type": "code",
   "execution_count": 4,
   "outputs": [
    {
     "data": {
      "text/plain": "[82, 91, 13, 92, 64, 10, 28, 55, 96, 97]"
     },
     "execution_count": 4,
     "metadata": {},
     "output_type": "execute_result"
    }
   ],
   "source": [
    "seeds, data_dfs, net_dfs, feat_ls = load_bmm_files(\"./bmm_data_thr_5_F_8_f100\")\n",
    "seeds"
   ],
   "metadata": {
    "collapsed": false,
    "pycharm": {
     "name": "#%%\n"
    }
   }
  },
  {
   "cell_type": "code",
   "execution_count": 5,
   "outputs": [
    {
     "name": "stdout",
     "output_type": "stream",
     "text": [
      "(array([0., 1.]), array([133, 167]))\n",
      "seed: 55\n"
     ]
    }
   ],
   "source": [
    "seed_idx = 7\n",
    "seed, net, data = prepare_data(seeds, seed_idx, data_dfs, net_dfs, test_size=0.2)\n",
    "print(f\"seed: {seed}\")\n",
    "X_train, X_test, y_train, y_test = data\n",
    "p = X_train.shape[1]\n",
    "rng_key = jax.random.PRNGKey(seed)"
   ],
   "metadata": {
    "collapsed": false,
    "pycharm": {
     "name": "#%%\n"
    }
   }
  },
  {
   "cell_type": "code",
   "execution_count": 6,
   "outputs": [],
   "source": [
    "# from imblearn.under_sampling import RandomUnderSampler\n",
    "#\n",
    "# rus = RandomUnderSampler(random_state=seed)\n",
    "# X_train_res, y_train_res = rus.fit_resample(X_train, y_train)\n",
    "# np.unique(y_train_res, return_counts=True)"
   ],
   "metadata": {
    "collapsed": false,
    "pycharm": {
     "name": "#%%\n"
    }
   }
  },
  {
   "cell_type": "code",
   "execution_count": 7,
   "outputs": [],
   "source": [
    "X_train, X_test, y_train, y_test = jax.device_put(X_train), jax.device_put(X_test), \\\n",
    "                                    jax.device_put(y_train), jax.device_put(y_test)"
   ],
   "metadata": {
    "collapsed": false,
    "pycharm": {
     "name": "#%%\n"
    }
   }
  },
  {
   "cell_type": "markdown",
   "source": [
    "### Baseline Logistic Regression"
   ],
   "metadata": {
    "collapsed": false,
    "pycharm": {
     "name": "#%% md\n"
    }
   }
  },
  {
   "cell_type": "code",
   "execution_count": 8,
   "outputs": [],
   "source": [
    "from sklearn.model_selection import GridSearchCV, StratifiedKFold, KFold\n",
    "from sklearn.model_selection import cross_val_score\n",
    "cv = StratifiedKFold(n_splits=5, shuffle=True, random_state=seed)"
   ],
   "metadata": {
    "collapsed": false,
    "pycharm": {
     "name": "#%%\n"
    }
   }
  },
  {
   "cell_type": "code",
   "execution_count": 9,
   "outputs": [
    {
     "name": "stdout",
     "output_type": "stream",
     "text": [
      "Fitting 5 folds for each of 10 candidates, totalling 50 fits\n",
      "[CV 1/5] END ............................C=0.01;, score=0.689 total time=   0.7s\n",
      "[CV 2/5] END ............................C=0.01;, score=0.578 total time=   0.0s\n",
      "[CV 3/5] END ............................C=0.01;, score=0.727 total time=   0.0s\n",
      "[CV 4/5] END ............................C=0.01;, score=0.571 total time=   0.0s\n",
      "[CV 5/5] END ............................C=0.01;, score=0.608 total time=   0.0s\n",
      "[CV 1/5] END ............C=0.021544346900318832;, score=0.692 total time=   0.0s\n",
      "[CV 2/5] END ............C=0.021544346900318832;, score=0.580 total time=   0.0s\n",
      "[CV 3/5] END ............C=0.021544346900318832;, score=0.727 total time=   0.0s\n",
      "[CV 4/5] END ............C=0.021544346900318832;, score=0.561 total time=   0.0s\n",
      "[CV 5/5] END ............C=0.021544346900318832;, score=0.605 total time=   0.0s\n",
      "[CV 1/5] END ............C=0.046415888336127774;, score=0.713 total time=   0.0s\n",
      "[CV 2/5] END ............C=0.046415888336127774;, score=0.584 total time=   0.0s\n",
      "[CV 3/5] END ............C=0.046415888336127774;, score=0.730 total time=   0.0s\n",
      "[CV 4/5] END ............C=0.046415888336127774;, score=0.543 total time=   0.0s\n",
      "[CV 5/5] END ............C=0.046415888336127774;, score=0.589 total time=   0.0s\n",
      "[CV 1/5] END .............................C=0.1;, score=0.741 total time=   0.0s\n",
      "[CV 2/5] END .............................C=0.1;, score=0.578 total time=   0.0s\n",
      "[CV 3/5] END .............................C=0.1;, score=0.732 total time=   0.0s\n",
      "[CV 4/5] END .............................C=0.1;, score=0.545 total time=   0.0s\n",
      "[CV 5/5] END .............................C=0.1;, score=0.593 total time=   0.1s\n",
      "[CV 1/5] END .............C=0.21544346900318834;, score=0.764 total time=   0.0s\n",
      "[CV 2/5] END .............C=0.21544346900318834;, score=0.571 total time=   0.0s\n",
      "[CV 3/5] END .............C=0.21544346900318834;, score=0.732 total time=   0.0s\n",
      "[CV 4/5] END .............C=0.21544346900318834;, score=0.554 total time=   0.0s\n",
      "[CV 5/5] END .............C=0.21544346900318834;, score=0.587 total time=   0.0s\n",
      "[CV 1/5] END .............C=0.46415888336127775;, score=0.787 total time=   0.0s\n",
      "[CV 2/5] END .............C=0.46415888336127775;, score=0.557 total time=   0.0s\n",
      "[CV 3/5] END .............C=0.46415888336127775;, score=0.734 total time=   0.0s\n",
      "[CV 4/5] END .............C=0.46415888336127775;, score=0.563 total time=   0.0s\n",
      "[CV 5/5] END .............C=0.46415888336127775;, score=0.582 total time=   0.0s\n",
      "[CV 1/5] END .............................C=1.0;, score=0.783 total time=   0.0s\n",
      "[CV 2/5] END .............................C=1.0;, score=0.545 total time=   0.0s\n",
      "[CV 3/5] END .............................C=1.0;, score=0.728 total time=   0.0s\n",
      "[CV 4/5] END .............................C=1.0;, score=0.564 total time=   0.0s\n",
      "[CV 5/5] END .............................C=1.0;, score=0.600 total time=   0.0s\n",
      "[CV 1/5] END ...............C=2.154434690031882;, score=0.783 total time=   0.0s\n",
      "[CV 2/5] END ...............C=2.154434690031882;, score=0.524 total time=   0.0s\n",
      "[CV 3/5] END ...............C=2.154434690031882;, score=0.734 total time=   0.0s\n",
      "[CV 4/5] END ...............C=2.154434690031882;, score=0.561 total time=   0.0s\n",
      "[CV 5/5] END ...............C=2.154434690031882;, score=0.612 total time=   0.0s\n",
      "[CV 1/5] END ..............C=4.6415888336127775;, score=0.785 total time=   0.0s\n",
      "[CV 2/5] END ..............C=4.6415888336127775;, score=0.503 total time=   0.0s\n",
      "[CV 3/5] END ..............C=4.6415888336127775;, score=0.718 total time=   0.0s\n",
      "[CV 4/5] END ..............C=4.6415888336127775;, score=0.556 total time=   0.0s\n",
      "[CV 5/5] END ..............C=4.6415888336127775;, score=0.610 total time=   0.0s\n",
      "[CV 1/5] END ............................C=10.0;, score=0.783 total time=   0.0s\n",
      "[CV 2/5] END ............................C=10.0;, score=0.487 total time=   0.0s\n",
      "[CV 3/5] END ............................C=10.0;, score=0.698 total time=   0.0s\n",
      "[CV 4/5] END ............................C=10.0;, score=0.536 total time=   0.0s\n",
      "[CV 5/5] END ............................C=10.0;, score=0.617 total time=   0.0s\n"
     ]
    },
    {
     "data": {
      "text/plain": "{'C': 0.46415888336127775}"
     },
     "execution_count": 9,
     "metadata": {},
     "output_type": "execute_result"
    }
   ],
   "source": [
    "from sklearn.linear_model import LogisticRegression\n",
    "\n",
    "\n",
    "log_param_grid = {\"C\":np.logspace(-2, 1, 10)}\n",
    "log_grid_cv = GridSearchCV(estimator=LogisticRegression(max_iter=10000), param_grid=log_param_grid, verbose=3, scoring=\"roc_auc\", cv=cv).fit(X_train, y_train)\n",
    "log_grid_cv.best_params_"
   ],
   "metadata": {
    "collapsed": false,
    "pycharm": {
     "name": "#%%\n"
    }
   }
  },
  {
   "cell_type": "code",
   "execution_count": 11,
   "outputs": [
    {
     "name": "stdout",
     "output_type": "stream",
     "text": [
      "cv score: 0.6444678778012112, test_score: 0.7059483456495408\n"
     ]
    }
   ],
   "source": [
    "clf = LogisticRegression(max_iter=10000, C=log_grid_cv.best_params_[\"C\"])\n",
    "cv_score = np.mean(cross_val_score(clf, X_train, y_train, scoring=\"roc_auc\", cv=cv))\n",
    "clf.fit(X_train, y_train)\n",
    "test_score = roc_auc_score(y_test, clf.predict_proba(X_test)[:,1])\n",
    "print(f\"cv score: {cv_score}, test_score: {test_score}\")"
   ],
   "metadata": {
    "collapsed": false,
    "pycharm": {
     "name": "#%%\n"
    }
   }
  },
  {
   "cell_type": "markdown",
   "source": [
    "### Grid Search Bayesian NN hyper parameters"
   ],
   "metadata": {
    "collapsed": false,
    "pycharm": {
     "name": "#%% md\n"
    }
   }
  },
  {
   "cell_type": "code",
   "execution_count": 53,
   "outputs": [],
   "source": [
    "gamma_params = np.logspace(-1, 1, 5)\n",
    "gamma_params = np.insert(gamma_params, 0, 0.0)\n",
    "temps = np.geomspace(1.0, 10, 5)\n",
    "# init_lr = [1e-3, 1e-4, 1e-5, 1e-6]\n",
    "# batch_sizes = np.linspace(50, 100, 6, dtype=np.int32)\n",
    "# lr_schedules = [\"constant\", \"cyclic\"]"
   ],
   "metadata": {
    "collapsed": false,
    "pycharm": {
     "name": "#%%\n"
    }
   }
  },
  {
   "cell_type": "code",
   "execution_count": null,
   "outputs": [
    {
     "name": "stdout",
     "output_type": "stream",
     "text": [
      "Fitting 5 folds for each of 180 candidates, totalling 900 fits\n"
     ]
    }
   ],
   "source": [
    "\n",
    "%autoreload\n",
    "from sgmcmc import MixedSGMCMC\n",
    "from gibbs_sampler import *\n",
    "from nn_util import *\n",
    "param_grid = {\"eta\": gamma_params, \"mu\": gamma_params, \"temp\": temps}\n",
    "\n",
    "grid_cv = GridSearchCV(estimator=MixedSGMCMC(seed=seed, sigma=1.0, lr_schedule=\"cyclical\",n_samples=2000, n_chains=3,\n",
    "                                             batch_size=20, disc_lr=5e-5, contin_lr=1e-5, layer_dims=[200]), param_grid=param_grid, cv=cv, verbose=1).fit(X_train, y_train, J=net, activation_fns=[\"tanh\"])"
   ],
   "metadata": {
    "collapsed": false,
    "pycharm": {
     "name": "#%%\n"
    }
   }
  },
  {
   "cell_type": "code",
   "execution_count": null,
   "outputs": [],
   "source": [
    "print(grid_cv.best_score_)\n",
    "best_params = grid_cv.best_params_\n",
    "print(best_params)"
   ],
   "metadata": {
    "collapsed": false,
    "pycharm": {
     "name": "#%%\n"
    }
   }
  },
  {
   "cell_type": "code",
   "execution_count": null,
   "outputs": [],
   "source": [
    "import pickle\n",
    "with open(f\"./exp_data_4/bmm/grid_cv_seed_{seed}\", \"wb\") as fp:\n",
    "    pickle.dump(grid_cv.best_params_, fp)"
   ],
   "metadata": {
    "collapsed": false,
    "pycharm": {
     "name": "#%%\n"
    }
   }
  },
  {
   "cell_type": "code",
   "execution_count": 25,
   "outputs": [],
   "source": [
    "# grid_cv.best_params_\n",
    "%autoreload\n",
    "from sgmcmc import MixedSGMCMC\n",
    "best_params = {'eta': 0.1, 'lr_schedule': 'constant', 'mu': 0.1, 'sigma': 1.0}"
   ],
   "metadata": {
    "collapsed": false,
    "pycharm": {
     "name": "#%%\n"
    }
   }
  },
  {
   "cell_type": "code",
   "execution_count": 11,
   "outputs": [
    {
     "data": {
      "text/plain": "array([[0., 1., 0., ..., 0., 0., 1.],\n       [1., 0., 1., ..., 0., 0., 1.],\n       [0., 1., 0., ..., 1., 0., 1.],\n       ...,\n       [0., 0., 1., ..., 0., 0., 1.],\n       [0., 0., 0., ..., 0., 0., 0.],\n       [1., 1., 1., ..., 1., 0., 0.]])"
     },
     "execution_count": 11,
     "metadata": {},
     "output_type": "execute_result"
    }
   ],
   "source": [
    "net_abs = np.abs(net)\n",
    "net_abs[net_abs > 0.] = 1.\n",
    "net_abs"
   ],
   "metadata": {
    "collapsed": false,
    "pycharm": {
     "name": "#%%\n"
    }
   }
  },
  {
   "cell_type": "code",
   "execution_count": 47,
   "outputs": [
    {
     "name": "stdout",
     "output_type": "stream",
     "text": [
      "0.6252031916329556\n"
     ]
    },
    {
     "data": {
      "text/plain": "0.729517364245239"
     },
     "execution_count": 47,
     "metadata": {},
     "output_type": "execute_result"
    }
   ],
   "source": [
    "%autoreload\n",
    "\n",
    "from sgmcmc import MixedSGMCMC\n",
    "eta, mu = 1.0, 1.0\n",
    "sigma = 1.0\n",
    "mixed_sgmcmc = MixedSGMCMC(seed=seed, lr_schedule=\"cyclical\", n_samples=2000, n_chains=3, disc_lr=5e-5, contin_lr=1e-5,\n",
    "                           batch_size=20, layer_dims=[200], cycle_len=20, eta=eta, mu=mu, sigma=sigma)\n",
    "cv_score = cross_val_score(mixed_sgmcmc, X_train, y_train, cv=cv, fit_params={\"J\": net, \"activation_fns\": [\"tanh\"]})\n",
    "print(np.mean(cv_score))\n",
    "mixed_sgmcmc.fit(X_train, y_train, J=net, activation_fns=[\"tanh\"])\n",
    "mixed_sgmcmc.score(X_test, y_test)"
   ],
   "metadata": {
    "collapsed": false,
    "pycharm": {
     "name": "#%%\n"
    }
   }
  },
  {
   "cell_type": "code",
   "execution_count": 48,
   "outputs": [
    {
     "data": {
      "text/plain": "array([0.70979023, 0.56437389, 0.68606701, 0.57495591, 0.59082892])"
     },
     "execution_count": 48,
     "metadata": {},
     "output_type": "execute_result"
    }
   ],
   "source": [
    "cv_score"
   ],
   "metadata": {
    "collapsed": false,
    "pycharm": {
     "name": "#%%\n"
    }
   }
  },
  {
   "cell_type": "code",
   "execution_count": 37,
   "outputs": [
    {
     "data": {
      "text/plain": "(1500, 100)"
     },
     "execution_count": 37,
     "metadata": {},
     "output_type": "execute_result"
    }
   ],
   "source": [
    "mixed_sgmcmc.states_.discrete_position.shape"
   ],
   "metadata": {
    "collapsed": false,
    "pycharm": {
     "name": "#%%\n"
    }
   }
  },
  {
   "cell_type": "code",
   "execution_count": 39,
   "outputs": [],
   "source": [
    "k = mixed_sgmcmc.n_samples - mixed_sgmcmc.n_warmup\n",
    "if mixed_sgmcmc.lr_schedule == \"cyclical\":\n",
    "    j = k // mixed_sgmcmc.cycle_len\n",
    "\n",
    "else:\n",
    "    j = k\n",
    "\n",
    "warmup_gamma_samples_1 = mixed_sgmcmc.warmup_states_.discrete_position.reshape(mixed_sgmcmc.n_chains, -1 , p)\n",
    "warmup_param_samples_1 = jax.tree_util.tree_map(lambda x: x.reshape((mixed_sgmcmc.n_chains, mixed_sgmcmc.n_warmup) +  x.shape[1:]),  mixed_sgmcmc.warmup_states_.contin_position)\n",
    "gamma_samples_1 = mixed_sgmcmc.states_.discrete_position.reshape(mixed_sgmcmc.n_chains, -1, p)\n",
    "param_samples_1 = jax.tree_util.tree_map(lambda x: x.reshape((mixed_sgmcmc.n_chains, -1) +  x.shape[1:]),  mixed_sgmcmc.states_.contin_position)"
   ],
   "metadata": {
    "collapsed": false,
    "pycharm": {
     "name": "#%%\n"
    }
   }
  },
  {
   "cell_type": "code",
   "execution_count": 38,
   "outputs": [
    {
     "data": {
      "text/plain": "(1500, 100, 200)"
     },
     "execution_count": 38,
     "metadata": {},
     "output_type": "execute_result"
    }
   ],
   "source": [
    "mixed_sgmcmc.states_.contin_position[\"linear\"][\"w\"].shape"
   ],
   "metadata": {
    "collapsed": false,
    "pycharm": {
     "name": "#%%\n"
    }
   }
  },
  {
   "cell_type": "code",
   "execution_count": 40,
   "outputs": [],
   "source": [
    "disc_log_prior = generate_disc_logprior_fn(net, mu, eta)\n",
    "contin_log_prior = generate_contin_logprior_fn(sigma)\n",
    "\n",
    "\n",
    "warmup_disc_logprobs = jax.vmap(jax.vmap(disc_log_prior))(warmup_gamma_samples_1)\n",
    "final_disc_logprobs = jax.vmap(jax.vmap(disc_log_prior))(gamma_samples_1)\n",
    "\n",
    "# disc_logprobs[c] = np.concatenate([warmup_disc_logprobs, final_disc_logprobs], axis=0)\n",
    "\n",
    "warmup_contin_logprobs = jax.vmap(jax.vmap(contin_log_prior))(warmup_param_samples_1)\n",
    "final_contin_logprobs = jax.vmap(jax.vmap(contin_log_prior))(param_samples_1)\n",
    "\n",
    "disc_logprobs = jnp.concatenate([warmup_disc_logprobs, final_disc_logprobs], axis=-1)\n",
    "contin_logprobs = jnp.concatenate([warmup_contin_logprobs, final_contin_logprobs], axis=-1)\n",
    "# contin_logprobs[c] = np.concatenate([warmup_contin_logprobs, final_contin_logprobs], axis=0)\n"
   ],
   "metadata": {
    "collapsed": false,
    "pycharm": {
     "name": "#%%\n"
    }
   }
  },
  {
   "cell_type": "code",
   "execution_count": 41,
   "outputs": [
    {
     "data": {
      "text/plain": "(3, 1500)"
     },
     "execution_count": 41,
     "metadata": {},
     "output_type": "execute_result"
    }
   ],
   "source": [
    "contin_logprobs.shape"
   ],
   "metadata": {
    "collapsed": false,
    "pycharm": {
     "name": "#%%\n"
    }
   }
  },
  {
   "cell_type": "code",
   "execution_count": 42,
   "outputs": [
    {
     "data": {
      "text/plain": "<Figure size 2304x864 with 2 Axes>",
      "image/png": "[encoded data removed]"
     },
     "metadata": {
      "needs_background": "light"
     },
     "output_type": "display_data"
    }
   ],
   "source": [
    "fig, (ax1, ax2) = plt.subplots(2, 1, figsize=(32, 12))\n",
    "\n",
    "for i in range(1):\n",
    "    ax1.plot(disc_logprobs[i])\n",
    "    ax2.plot(contin_logprobs[i])"
   ],
   "metadata": {
    "collapsed": false,
    "pycharm": {
     "name": "#%%\n"
    }
   }
  },
  {
   "cell_type": "code",
   "execution_count": 52,
   "outputs": [
    {
     "data": {
      "text/plain": "DeviceArray([  1,   2,   4,   5,   7,   9,  11,  13,  14,  18,  20,  21,\n              26,  27,  34,  40,  44,  45,  48,  50,  57,  59,  61,  63,\n              66,  70,  74,  81,  91,  93,  96,  97,  98, 100],            dtype=int32)"
     },
     "execution_count": 52,
     "metadata": {},
     "output_type": "execute_result"
    }
   ],
   "source": [
    "jnp.argwhere(jnp.mean(mixed_sgmcmc.states_.discrete_position, axis=0) == 1.0).ravel() + 1"
   ],
   "metadata": {
    "collapsed": false,
    "pycharm": {
     "name": "#%%\n"
    }
   }
  },
  {
   "cell_type": "code",
   "execution_count": 51,
   "outputs": [
    {
     "data": {
      "text/plain": "DeviceArray([1.0000000e+00, 1.0000000e+00, 9.6733332e-01, 1.0000000e+00,\n             1.0000000e+00, 6.0000001e-03, 1.0000000e+00, 1.5333333e-02,\n             1.0000000e+00, 9.9066663e-01, 1.0000000e+00, 9.3999997e-02,\n             1.0000000e+00, 1.0000000e+00, 2.1200000e-01, 2.6199999e-01,\n             4.5600000e-01, 1.0000000e+00, 9.5800000e-01, 1.0000000e+00,\n             1.0000000e+00, 1.7999999e-02, 3.7666667e-01, 1.6666666e-02,\n             4.3399999e-01, 1.0000000e+00, 1.0000000e+00, 3.4599999e-01,\n             8.2666665e-01, 4.7200000e-01, 6.1999999e-02, 2.9333333e-02,\n             1.4933333e-01, 1.0000000e+00, 1.2066667e-01, 3.3999998e-02,\n             6.6666666e-04, 0.0000000e+00, 9.4533330e-01, 1.0000000e+00,\n             5.5266666e-01, 1.9800000e-01, 0.0000000e+00, 1.0000000e+00,\n             1.0000000e+00, 9.9333334e-01, 5.0733334e-01, 1.0000000e+00,\n             0.0000000e+00, 1.0000000e+00, 9.9999998e-03, 3.9999997e-03,\n             4.5333333e-02, 6.4866668e-01, 0.0000000e+00, 7.0266664e-01,\n             1.0000000e+00, 7.0666665e-01, 1.0000000e+00, 7.1999997e-01,\n             1.0000000e+00, 9.5333332e-01, 1.0000000e+00, 9.1266668e-01,\n             9.8000002e-01, 1.0000000e+00, 9.7933334e-01, 6.6666666e-04,\n             9.9933332e-01, 1.0000000e+00, 2.0666666e-01, 9.9400002e-01,\n             5.6666666e-01, 1.0000000e+00, 9.9333334e-01, 9.9733335e-01,\n             4.6666665e-03, 9.9933332e-01, 6.8000001e-01, 8.1999999e-01,\n             1.0000000e+00, 1.4666666e-02, 3.3533332e-01, 9.1333330e-01,\n             4.0599999e-01, 0.0000000e+00, 1.3333333e-03, 5.1333332e-01,\n             1.7999999e-02, 2.6666666e-03, 1.0000000e+00, 1.3333333e-03,\n             1.0000000e+00, 3.3333334e-03, 1.6200000e-01, 1.0000000e+00,\n             1.0000000e+00, 1.0000000e+00, 1.7999999e-02, 1.0000000e+00],            dtype=float32)"
     },
     "execution_count": 51,
     "metadata": {},
     "output_type": "execute_result"
    }
   ],
   "source": [
    "jnp.mean(mixed_sgmcmc.states_.discrete_position, axis=0)"
   ],
   "metadata": {
    "collapsed": false,
    "pycharm": {
     "name": "#%%\n"
    }
   }
  },
  {
   "cell_type": "code",
   "execution_count": 49,
   "outputs": [
    {
     "name": "stdout",
     "output_type": "stream",
     "text": [
      "0.6227587296585664\n"
     ]
    },
    {
     "data": {
      "text/plain": "0.7059483487915801"
     },
     "execution_count": 49,
     "metadata": {},
     "output_type": "execute_result"
    }
   ],
   "source": [
    "#Slightly increase the temperature\n",
    "mixed_sgmcmc_2 = MixedSGMCMC(seed=seed, lr_schedule=\"constant\", n_samples=2000, n_chains=3, temp=1.0, disc_lr=5e-5, batch_size=20,\n",
    "                           eta=1.0, mu=1.0, sigma=1.0, layer_dims=[200], cycle_len=5)\n",
    "cv_score = cross_val_score(mixed_sgmcmc_2, X_train, y_train, cv=cv, fit_params={\"J\": net, \"activation_fns\": [\"tanh\"]})\n",
    "print(np.mean(cv_score))\n",
    "mixed_sgmcmc_2.fit(X_train, y_train, J=net, activation_fns=[\"tanh\"])\n",
    "mixed_sgmcmc_2.score(X_test, y_test)"
   ],
   "metadata": {
    "collapsed": false,
    "pycharm": {
     "name": "#%%\n"
    }
   }
  },
  {
   "cell_type": "code",
   "execution_count": 65,
   "outputs": [
    {
     "data": {
      "text/plain": "False"
     },
     "execution_count": 65,
     "metadata": {},
     "output_type": "execute_result"
    }
   ],
   "source": [
    "gamma_samples_2 = mixed_sgmcmc_2.states_.discrete_position\n",
    "\n",
    "np.allclose(gamma_samples_1, gamma_samples_2)"
   ],
   "metadata": {
    "collapsed": false,
    "pycharm": {
     "name": "#%%\n"
    }
   }
  },
  {
   "cell_type": "code",
   "execution_count": 66,
   "outputs": [
    {
     "data": {
      "text/plain": "DeviceArray([ 0,  3,  5,  9, 10, 19, 23, 24, 26, 27, 28, 34, 35, 36, 37,\n             38, 40, 43, 46, 47, 48, 49, 52, 53, 54, 57, 58, 60, 65, 66,\n             68, 69, 70, 71, 75, 78, 82, 83, 84, 85, 94, 98], dtype=int32)"
     },
     "execution_count": 66,
     "metadata": {},
     "output_type": "execute_result"
    }
   ],
   "source": [
    "jnp.argwhere(jnp.mean(mixed_sgmcmc_2.states_.discrete_position, axis=0) > 0.7).ravel()"
   ],
   "metadata": {
    "collapsed": false,
    "pycharm": {
     "name": "#%%\n"
    }
   }
  },
  {
   "cell_type": "code",
   "execution_count": 67,
   "outputs": [
    {
     "data": {
      "text/plain": "DeviceArray([0.73833334, 0.41      , 0.20166667, 1.        , 0.26833335,\n             0.71000004, 0.14666668, 0.6383333 , 0.19500001, 0.7016667 ,\n             0.845     , 0.21833333, 0.65333337, 0.11166667, 0.20333333,\n             0.37666667, 0.68833333, 0.61333334, 0.38333336, 0.745     ,\n             0.6566667 , 0.19      , 0.68      , 0.83833337, 1.        ,\n             0.6333333 , 0.75333333, 0.71333337, 0.7166667 , 0.4116667 ,\n             0.28666666, 0.125     , 0.675     , 0.08833334, 0.7916667 ,\n             1.        , 0.73333335, 1.        , 1.        , 0.15666667,\n             1.        , 0.685     , 0.64      , 0.77833337, 0.41500002,\n             0.46666667, 0.7166667 , 0.7016667 , 0.74333334, 0.75666666,\n             0.5366667 , 0.26833335, 1.        , 1.        , 1.        ,\n             0.48833334, 0.69      , 0.7116667 , 0.74666667, 0.685     ,\n             0.81666666, 0.26000002, 0.22333334, 0.51666665, 0.67833334,\n             0.84000003, 1.        , 0.41      , 0.90500003, 0.8066667 ,\n             1.        , 1.        , 0.08666667, 0.63      , 0.29000002,\n             1.        , 0.35666668, 0.25666666, 0.83500004, 0.52500004,\n             0.6716667 , 0.46166667, 0.985     , 1.        , 1.        ,\n             0.9766667 , 0.62666667, 0.45333335, 0.19666667, 0.46833333,\n             0.69666666, 0.5133333 , 0.3866667 , 0.47833335, 1.        ,\n             0.425     , 0.51      , 0.6983333 , 1.        , 0.28      ],            dtype=float32)"
     },
     "execution_count": 67,
     "metadata": {},
     "output_type": "execute_result"
    }
   ],
   "source": [
    "jnp.mean(gamma_samples_2, axis=0)"
   ],
   "metadata": {
    "collapsed": false,
    "pycharm": {
     "name": "#%%\n"
    }
   }
  },
  {
   "cell_type": "code",
   "execution_count": 9,
   "outputs": [],
   "source": [
    "from sklearn_genetic.space import Categorical, Integer, Continuous\n",
    "from sklearn_genetic import GASearchCV\n",
    "gamma_params = Continuous(0, 10., distribution=\"uniform\")\n",
    "sigmas = Continuous(0., 10, distribution=\"uniform\")\n",
    "temps = Continuous(0., 10, distribution=\"uniform\")\n",
    "param_grid = {\"eta\": gamma_params, \"mu\": gamma_params, \"temp\": temps,\n",
    "              \"sigma\": sigmas}"
   ],
   "metadata": {
    "collapsed": false,
    "pycharm": {
     "name": "#%%\n"
    }
   }
  },
  {
   "cell_type": "code",
   "execution_count": 10,
   "outputs": [
    {
     "data": {
      "text/plain": "  0%|          | 0/2 [00:00<?, ?it/s]",
      "application/vnd.jupyter.widget-view+json": {
       "version_major": 2,
       "version_minor": 0,
       "model_id": "49539fdc5348473294a012a537f21d54"
      }
     },
     "metadata": {},
     "output_type": "display_data"
    },
    {
     "name": "stderr",
     "output_type": "stream",
     "text": [
      "/usr/local/lib/python3.9/dist-packages/jax/_src/numpy/lax_numpy.py:3326: UserWarning: 'kind' argument to argsort is ignored; only 'stable' sorts are supported.\n",
      "  warnings.warn(\"'kind' argument to argsort is ignored; only 'stable' sorts \"\n"
     ]
    },
    {
     "name": "stdout",
     "output_type": "stream",
     "text": [
      "gen\tnevals\tfitness \tfitness_std\tfitness_max\tfitness_min\n",
      "0  \t30    \t0.624181\t0.0165976  \t0.66147    \t0.56573    \n",
      "INFO: DeltaThreshold callback met its criteria\n",
      "INFO: Stopping the algorithm\n"
     ]
    }
   ],
   "source": [
    "%autoreload\n",
    "from sgmcmc import MixedSGMCMC\n",
    "from sklearn_genetic.callbacks import ProgressBar\n",
    "from sklearn_genetic.callbacks import DeltaThreshold, TimerStopping\n",
    "delta_callback = DeltaThreshold(threshold=0.001, generations=1, metric='fitness')\n",
    "timer_callback = TimerStopping(total_seconds=3600)\n",
    "progres_callback = ProgressBar()\n",
    "mixed_sgmcmc = MixedSGMCMC(seed=seed, n_samples=2000, n_chains=3, disc_lr=5e-5, layer_dims=[200],\n",
    "                           lr_schedule=\"cyclical\", batch_size=20, cycle_len=20)\n",
    "evolved_grid_cv = GASearchCV(estimator=mixed_sgmcmc, cv=cv,\n",
    "                             param_grid=param_grid, verbose=True, population_size=30, generations=1).fit(X_train, y_train, callbacks=[progres_callback, delta_callback, timer_callback],\n",
    "                               J=net, activation_fns=[\"tanh\"])"
   ],
   "metadata": {
    "collapsed": false,
    "pycharm": {
     "name": "#%%\n"
    }
   }
  },
  {
   "cell_type": "code",
   "execution_count": 21,
   "outputs": [
    {
     "data": {
      "text/plain": "0.6614700166868516"
     },
     "execution_count": 21,
     "metadata": {},
     "output_type": "execute_result"
    }
   ],
   "source": [
    "evolved_grid_cv.best_score_"
   ],
   "metadata": {
    "collapsed": false,
    "pycharm": {
     "name": "#%%\n"
    }
   }
  },
  {
   "cell_type": "code",
   "execution_count": 39,
   "outputs": [
    {
     "data": {
      "text/plain": "{'eta': 0.5400128315507968,\n 'mu': 8.20326355553801,\n 'temp': 0.8786816336151093,\n 'sigma': 2.944415742614189}"
     },
     "execution_count": 39,
     "metadata": {},
     "output_type": "execute_result"
    }
   ],
   "source": [
    "evolved_grid_cv.best_params_"
   ],
   "metadata": {
    "collapsed": false,
    "pycharm": {
     "name": "#%%\n"
    }
   }
  },
  {
   "cell_type": "code",
   "execution_count": null,
   "outputs": [],
   "source": [
    "best_params = {'eta': 0.5400128315507968,\n",
    " 'mu': 8.20326355553801,\n",
    " 'temp': 0.8786816336151093,\n",
    " 'sigma': 2.944415742614189}"
   ],
   "metadata": {
    "collapsed": false,
    "pycharm": {
     "name": "#%%\n"
    }
   }
  },
  {
   "cell_type": "code",
   "execution_count": 22,
   "outputs": [
    {
     "name": "stdout",
     "output_type": "stream",
     "text": [
      "0.6614700166868516\n"
     ]
    },
    {
     "data": {
      "text/plain": "0.7048260194116718"
     },
     "execution_count": 22,
     "metadata": {},
     "output_type": "execute_result"
    }
   ],
   "source": [
    "mixed_sgmcmc = MixedSGMCMC(seed=seed, n_samples=2000, n_chains=3, disc_lr=5e-5, layer_dims=[200],\n",
    "                           lr_schedule=\"cyclical\", batch_size=20, cycle_len=20, **evolved_grid_cv.best_params_)\n",
    "cv_score = cross_val_score(mixed_sgmcmc, X_train, y_train, cv=cv, fit_params={\"J\": net, \"activation_fns\": [\"tanh\"]})\n",
    "print(np.mean(cv_score))\n",
    "mixed_sgmcmc.fit(X_train, y_train, J=net, activation_fns=[\"tanh\"])\n",
    "mixed_sgmcmc.score(X_test, y_test)"
   ],
   "metadata": {
    "collapsed": false,
    "pycharm": {
     "name": "#%%\n"
    }
   }
  },
  {
   "cell_type": "code",
   "execution_count": 28,
   "outputs": [
    {
     "data": {
      "text/plain": "array([0.74650351, 0.61904762, 0.64726632, 0.57142857, 0.72310406])"
     },
     "execution_count": 28,
     "metadata": {},
     "output_type": "execute_result"
    }
   ],
   "source": [
    "cv_score"
   ],
   "metadata": {
    "collapsed": false,
    "pycharm": {
     "name": "#%%\n"
    }
   }
  },
  {
   "cell_type": "code",
   "execution_count": 47,
   "outputs": [
    {
     "data": {
      "text/plain": "DeviceArray([  1,   2,   3,   4,   8,  10,  11,  15,  17,  19,  21,  25,\n              27,  34,  41,  48,  54,  58,  59,  65,  66,  67,  69,  73,\n              75,  78,  80,  84,  86,  88,  92,  93,  96,  98, 100],            dtype=int32)"
     },
     "execution_count": 47,
     "metadata": {},
     "output_type": "execute_result"
    }
   ],
   "source": [
    "gamma_idx = jnp.argwhere(jnp.mean(mixed_sgmcmc.states_.discrete_position, axis=0) > 0.01).ravel() + 1\n",
    "gamma_idx"
   ],
   "metadata": {
    "collapsed": false,
    "pycharm": {
     "name": "#%%\n"
    }
   }
  },
  {
   "cell_type": "code",
   "execution_count": 46,
   "outputs": [
    {
     "name": "stdout",
     "output_type": "stream",
     "text": [
      "cv score: 0.51995411995412, test_score: 0.381593691695203\n"
     ]
    }
   ],
   "source": [
    "from sklearn.linear_model import LogisticRegression\n",
    "clf = LogisticRegression(max_iter=10000, C=0.01)\n",
    "cv_score = np.mean(cross_val_score(clf, X_train[:,gamma_idx], y_train, scoring=\"roc_auc\", cv=cv))\n",
    "clf.fit(X_train[:,gamma_idx], y_train)\n",
    "test_score = roc_auc_score(y_test, clf.predict_proba(X_test[:,gamma_idx])[:,1])\n",
    "print(f\"cv score: {cv_score}, test_score: {test_score}\")"
   ],
   "metadata": {
    "collapsed": false,
    "pycharm": {
     "name": "#%%\n"
    }
   }
  },
  {
   "cell_type": "code",
   "execution_count": null,
   "outputs": [],
   "source": [],
   "metadata": {
    "collapsed": false,
    "pycharm": {
     "name": "#%%\n"
    }
   }
  }
 ],
 "metadata": {
  "kernelspec": {
   "display_name": "Python 3",
   "language": "python",
   "name": "python3"
  },
  "language_info": {
   "codemirror_mode": {
    "name": "ipython",
    "version": 2
   },
   "file_extension": ".py",
   "mimetype": "text/x-python",
   "name": "python",
   "nbconvert_exporter": "python",
   "pygments_lexer": "ipython2",
   "version": "2.7.6"
  }
 },
 "nbformat": 4,
 "nbformat_minor": 0
}