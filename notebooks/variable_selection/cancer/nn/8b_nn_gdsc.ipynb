{
 "cells": [
  {
   "cell_type": "code",
   "execution_count": 1,
   "metadata": {
    "pycharm": {
     "name": "#%%\n"
    }
   },
   "outputs": [
    {
     "name": "stdout",
     "output_type": "stream",
     "text": [
      "Looking in links: https://storage.googleapis.com/jax-releases/jax_cuda_releases.html\r\n",
      "Requirement already satisfied: jaxlib[cuda112] in /usr/local/lib/python3.9/dist-packages (0.3.8+cuda11.cudnn82)\r\n",
      "Collecting jaxlib[cuda112]\r\n",
      "  Downloading https://storage.googleapis.com/jax-releases/cuda11/jaxlib-0.4.2%2Bcuda11.cudnn86-cp39-cp39-manylinux2014_x86_64.whl (167.0 MB)\r\n",
      "\u001B[2K     \u001B[90m━━━━━━━━━━━━━━━━━━━━━━━━━━━━━━━━━━━━━━\u001B[0m \u001B[32m167.0/167.0 MB\u001B[0m \u001B[31m13.1 MB/s\u001B[0m eta \u001B[36m0:00:00\u001B[0m00:01\u001B[0m00:01\u001B[0m\r\n",
      "\u001B[?25h\u001B[33mWARNING: jaxlib 0.4.2+cuda11.cudnn86 does not provide the extra 'cuda112'\u001B[0m\u001B[33m\r\n",
      "\u001B[0mRequirement already satisfied: numpy>=1.20 in /usr/local/lib/python3.9/dist-packages (from jaxlib[cuda112]) (1.23.1)\r\n",
      "Requirement already satisfied: scipy>=1.5 in /usr/local/lib/python3.9/dist-packages (from jaxlib[cuda112]) (1.8.1)\r\n",
      "Installing collected packages: jaxlib\r\n",
      "  Attempting uninstall: jaxlib\r\n",
      "    Found existing installation: jaxlib 0.3.8+cuda11.cudnn82\r\n",
      "    Uninstalling jaxlib-0.3.8+cuda11.cudnn82:\r\n",
      "      Successfully uninstalled jaxlib-0.3.8+cuda11.cudnn82\r\n",
      "Successfully installed jaxlib-0.4.2+cuda11.cudnn86\r\n",
      "\u001B[33mWARNING: Running pip as the 'root' user can result in broken permissions and conflicting behaviour with the system package manager. It is recommended to use a virtual environment instead: https://pip.pypa.io/warnings/venv\u001B[0m\u001B[33m\r\n",
      "\u001B[0mLooking in links: https://storage.googleapis.com/jax-releases/jax_cuda_releases.html\r\n",
      "Requirement already satisfied: jax[cuda112] in /usr/local/lib/python3.9/dist-packages (0.3.14)\r\n",
      "Collecting jax[cuda112]\r\n",
      "  Downloading jax-0.4.2.tar.gz (1.2 MB)\r\n",
      "\u001B[2K     \u001B[90m━━━━━━━━━━━━━━━━━━━━━━━━━━━━━━━━━━━━━━━━\u001B[0m \u001B[32m1.2/1.2 MB\u001B[0m \u001B[31m59.4 MB/s\u001B[0m eta \u001B[36m0:00:00\u001B[0m\r\n",
      "\u001B[?25h  Preparing metadata (setup.py) ... \u001B[?25ldone\r\n",
      "\u001B[33mWARNING: jax 0.4.2 does not provide the extra 'cuda112'\u001B[0m\u001B[33m\r\n",
      "\u001B[0m\u001B[?25hRequirement already satisfied: numpy>=1.20 in /usr/local/lib/python3.9/dist-packages (from jax[cuda112]) (1.23.1)\r\n",
      "Requirement already satisfied: opt_einsum in /usr/local/lib/python3.9/dist-packages (from jax[cuda112]) (3.3.0)\r\n",
      "Requirement already satisfied: scipy>=1.5 in /usr/local/lib/python3.9/dist-packages (from jax[cuda112]) (1.8.1)\r\n",
      "Building wheels for collected packages: jax\r\n",
      "  Building wheel for jax (setup.py) ... \u001B[?25ldone\r\n",
      "\u001B[?25h  Created wheel for jax: filename=jax-0.4.2-py3-none-any.whl size=1363010 sha256=7deabe2355a69952bb621d039049034fb8e90f67632d8b2f1bb6346e7d9f0176\r\n",
      "  Stored in directory: /root/.cache/pip/wheels/dc/4f/2b/e0dd187e3644b96d8d54f832ec9f9a4560dfb0a896f55dffe4\r\n",
      "Successfully built jax\r\n",
      "Installing collected packages: jax\r\n",
      "  Attempting uninstall: jax\r\n",
      "    Found existing installation: jax 0.3.14\r\n",
      "    Uninstalling jax-0.3.14:\r\n",
      "      Successfully uninstalled jax-0.3.14\r\n",
      "Successfully installed jax-0.4.2\r\n",
      "\u001B[33mWARNING: Running pip as the 'root' user can result in broken permissions and conflicting behaviour with the system package manager. It is recommended to use a virtual environment instead: https://pip.pypa.io/warnings/venv\u001B[0m\u001B[33m\r\n",
      "\u001B[0mCollecting optax\r\n",
      "  Downloading optax-0.1.4-py3-none-any.whl (154 kB)\r\n",
      "\u001B[2K     \u001B[90m━━━━━━━━━━━━━━━━━━━━━━━━━━━━━━━━━━━━━━\u001B[0m \u001B[32m154.9/154.9 kB\u001B[0m \u001B[31m26.1 MB/s\u001B[0m eta \u001B[36m0:00:00\u001B[0m\r\n",
      "\u001B[?25hRequirement already satisfied: jaxlib>=0.1.37 in /usr/local/lib/python3.9/dist-packages (from optax) (0.4.2+cuda11.cudnn86)\r\n",
      "Requirement already satisfied: absl-py>=0.7.1 in /usr/local/lib/python3.9/dist-packages (from optax) (1.1.0)\r\n",
      "Collecting chex>=0.1.5\r\n",
      "  Downloading chex-0.1.5-py3-none-any.whl (85 kB)\r\n",
      "\u001B[2K     \u001B[90m━━━━━━━━━━━━━━━━━━━━━━━━━━━━━━━━━━━━━━━━\u001B[0m \u001B[32m85.3/85.3 kB\u001B[0m \u001B[31m28.9 MB/s\u001B[0m eta \u001B[36m0:00:00\u001B[0m\r\n",
      "\u001B[?25hRequirement already satisfied: jax>=0.1.55 in /usr/local/lib/python3.9/dist-packages (from optax) (0.4.2)\r\n",
      "Requirement already satisfied: typing-extensions>=3.10.0 in /usr/local/lib/python3.9/dist-packages (from optax) (4.3.0)\r\n",
      "Requirement already satisfied: numpy>=1.18.0 in /usr/local/lib/python3.9/dist-packages (from optax) (1.23.1)\r\n",
      "Collecting dm-tree>=0.1.5\r\n",
      "  Downloading dm_tree-0.1.8-cp39-cp39-manylinux_2_17_x86_64.manylinux2014_x86_64.whl (153 kB)\r\n",
      "\u001B[2K     \u001B[90m━━━━━━━━━━━━━━━━━━━━━━━━━━━━━━━━━━━━━━\u001B[0m \u001B[32m153.0/153.0 kB\u001B[0m \u001B[31m45.3 MB/s\u001B[0m eta \u001B[36m0:00:00\u001B[0m\r\n",
      "\u001B[?25hCollecting toolz>=0.9.0\r\n",
      "  Downloading toolz-0.12.0-py3-none-any.whl (55 kB)\r\n",
      "\u001B[2K     \u001B[90m━━━━━━━━━━━━━━━━━━━━━━━━━━━━━━━━━━━━━━━━\u001B[0m \u001B[32m55.8/55.8 kB\u001B[0m \u001B[31m21.2 MB/s\u001B[0m eta \u001B[36m0:00:00\u001B[0m\r\n",
      "\u001B[?25hRequirement already satisfied: opt-einsum in /usr/local/lib/python3.9/dist-packages (from jax>=0.1.55->optax) (3.3.0)\r\n",
      "Requirement already satisfied: scipy>=1.5 in /usr/local/lib/python3.9/dist-packages (from jax>=0.1.55->optax) (1.8.1)\r\n",
      "Installing collected packages: dm-tree, toolz, chex, optax\r\n",
      "Successfully installed chex-0.1.5 dm-tree-0.1.8 optax-0.1.4 toolz-0.12.0\r\n",
      "\u001B[33mWARNING: Running pip as the 'root' user can result in broken permissions and conflicting behaviour with the system package manager. It is recommended to use a virtual environment instead: https://pip.pypa.io/warnings/venv\u001B[0m\u001B[33m\r\n",
      "\u001B[0mCollecting dm-haiku\r\n",
      "  Downloading dm_haiku-0.0.9-py3-none-any.whl (352 kB)\r\n",
      "\u001B[2K     \u001B[90m━━━━━━━━━━━━━━━━━━━━━━━━━━━━━━━━━━━━━━\u001B[0m \u001B[32m352.1/352.1 kB\u001B[0m \u001B[31m35.6 MB/s\u001B[0m eta \u001B[36m0:00:00\u001B[0m\r\n",
      "\u001B[?25hCollecting jmp>=0.0.2\r\n",
      "  Downloading jmp-0.0.4-py3-none-any.whl (18 kB)\r\n",
      "Requirement already satisfied: absl-py>=0.7.1 in /usr/local/lib/python3.9/dist-packages (from dm-haiku) (1.1.0)\r\n",
      "Requirement already satisfied: numpy>=1.18.0 in /usr/local/lib/python3.9/dist-packages (from dm-haiku) (1.23.1)\r\n",
      "Collecting tabulate>=0.8.9\r\n",
      "  Downloading tabulate-0.9.0-py3-none-any.whl (35 kB)\r\n",
      "Installing collected packages: tabulate, jmp, dm-haiku\r\n",
      "Successfully installed dm-haiku-0.0.9 jmp-0.0.4 tabulate-0.9.0\r\n",
      "\u001B[33mWARNING: Running pip as the 'root' user can result in broken permissions and conflicting behaviour with the system package manager. It is recommended to use a virtual environment instead: https://pip.pypa.io/warnings/venv\u001B[0m\u001B[33m\r\n",
      "\u001B[0mCollecting tensorflow-probability==0.17\r\n",
      "  Downloading tensorflow_probability-0.17.0-py2.py3-none-any.whl (6.5 MB)\r\n",
      "\u001B[2K     \u001B[90m━━━━━━━━━━━━━━━━━━━━━━━━━━━━━━━━━━━━━━━━\u001B[0m \u001B[32m6.5/6.5 MB\u001B[0m \u001B[31m83.1 MB/s\u001B[0m eta \u001B[36m0:00:00\u001B[0m:00:01\u001B[0m00:01\u001B[0m\r\n",
      "\u001B[?25hRequirement already satisfied: decorator in /usr/local/lib/python3.9/dist-packages (from tensorflow-probability==0.17) (5.1.1)\r\n",
      "Requirement already satisfied: dm-tree in /usr/local/lib/python3.9/dist-packages (from tensorflow-probability==0.17) (0.1.8)\r\n",
      "Requirement already satisfied: six>=1.10.0 in /usr/lib/python3/dist-packages (from tensorflow-probability==0.17) (1.14.0)\r\n",
      "Requirement already satisfied: cloudpickle>=1.3 in /usr/local/lib/python3.9/dist-packages (from tensorflow-probability==0.17) (2.1.0)\r\n",
      "Requirement already satisfied: absl-py in /usr/local/lib/python3.9/dist-packages (from tensorflow-probability==0.17) (1.1.0)\r\n",
      "Requirement already satisfied: numpy>=1.13.3 in /usr/local/lib/python3.9/dist-packages (from tensorflow-probability==0.17) (1.23.1)\r\n",
      "Requirement already satisfied: gast>=0.3.2 in /usr/local/lib/python3.9/dist-packages (from tensorflow-probability==0.17) (0.4.0)\r\n",
      "Installing collected packages: tensorflow-probability\r\n",
      "Successfully installed tensorflow-probability-0.17.0\r\n",
      "\u001B[33mWARNING: Running pip as the 'root' user can result in broken permissions and conflicting behaviour with the system package manager. It is recommended to use a virtual environment instead: https://pip.pypa.io/warnings/venv\u001B[0m\u001B[33m\r\n",
      "\u001B[0mCollecting git+https://github.com/blackjax-devs/blackjax.git\r\n",
      "  Cloning https://github.com/blackjax-devs/blackjax.git to /tmp/pip-req-build-tcmpbd1h\r\n",
      "  Running command git clone --filter=blob:none --quiet https://github.com/blackjax-devs/blackjax.git /tmp/pip-req-build-tcmpbd1h\r\n",
      "  Resolved https://github.com/blackjax-devs/blackjax.git to commit 4fa296fd2334991d4aadb8f15096e530449bfdb3\r\n",
      "  Installing build dependencies ... \u001B[?25ldone\r\n",
      "\u001B[?25h  Getting requirements to build wheel ... \u001B[?25ldone\r\n",
      "\u001B[?25h  Installing backend dependencies ... \u001B[?25ldone\r\n",
      "\u001B[?25h  Preparing metadata (pyproject.toml) ... \u001B[?25ldone\r\n",
      "\u001B[?25hCollecting typing-extensions>=4.4.0\r\n",
      "  Using cached typing_extensions-4.4.0-py3-none-any.whl (26 kB)\r\n",
      "Requirement already satisfied: jax>=0.3.13 in /usr/local/lib/python3.9/dist-packages (from blackjax==0.9.7.dev130+g4fa296f) (0.4.2)\r\n",
      "Requirement already satisfied: optax in /usr/local/lib/python3.9/dist-packages (from blackjax==0.9.7.dev130+g4fa296f) (0.1.4)\r\n",
      "Collecting jaxopt>=0.5.5\r\n",
      "  Downloading jaxopt-0.5.5-py3-none-any.whl (132 kB)\r\n",
      "\u001B[2K     \u001B[90m━━━━━━━━━━━━━━━━━━━━━━━━━━━━━━━━━━━━━━\u001B[0m \u001B[32m132.3/132.3 kB\u001B[0m \u001B[31m23.9 MB/s\u001B[0m eta \u001B[36m0:00:00\u001B[0m\r\n",
      "\u001B[?25hRequirement already satisfied: jaxlib>=0.3.10 in /usr/local/lib/python3.9/dist-packages (from blackjax==0.9.7.dev130+g4fa296f) (0.4.2+cuda11.cudnn86)\r\n",
      "Collecting fastprogress>=0.2.0\r\n",
      "  Downloading fastprogress-1.0.3-py3-none-any.whl (12 kB)\r\n",
      "Requirement already satisfied: numpy>=1.20 in /usr/local/lib/python3.9/dist-packages (from jax>=0.3.13->blackjax==0.9.7.dev130+g4fa296f) (1.23.1)\r\n",
      "Requirement already satisfied: opt-einsum in /usr/local/lib/python3.9/dist-packages (from jax>=0.3.13->blackjax==0.9.7.dev130+g4fa296f) (3.3.0)\r\n",
      "Requirement already satisfied: scipy>=1.5 in /usr/local/lib/python3.9/dist-packages (from jax>=0.3.13->blackjax==0.9.7.dev130+g4fa296f) (1.8.1)\r\n",
      "Requirement already satisfied: matplotlib>=2.0.1 in /usr/local/lib/python3.9/dist-packages (from jaxopt>=0.5.5->blackjax==0.9.7.dev130+g4fa296f) (3.5.2)\r\n",
      "Requirement already satisfied: absl-py>=0.7.0 in /usr/local/lib/python3.9/dist-packages (from jaxopt>=0.5.5->blackjax==0.9.7.dev130+g4fa296f) (1.1.0)\r\n",
      "Requirement already satisfied: chex>=0.1.5 in /usr/local/lib/python3.9/dist-packages (from optax->blackjax==0.9.7.dev130+g4fa296f) (0.1.5)\r\n",
      "Requirement already satisfied: toolz>=0.9.0 in /usr/local/lib/python3.9/dist-packages (from chex>=0.1.5->optax->blackjax==0.9.7.dev130+g4fa296f) (0.12.0)\r\n",
      "Requirement already satisfied: dm-tree>=0.1.5 in /usr/local/lib/python3.9/dist-packages (from chex>=0.1.5->optax->blackjax==0.9.7.dev130+g4fa296f) (0.1.8)\r\n",
      "Requirement already satisfied: python-dateutil>=2.7 in /usr/local/lib/python3.9/dist-packages (from matplotlib>=2.0.1->jaxopt>=0.5.5->blackjax==0.9.7.dev130+g4fa296f) (2.8.2)\r\n",
      "Requirement already satisfied: pyparsing>=2.2.1 in /usr/local/lib/python3.9/dist-packages (from matplotlib>=2.0.1->jaxopt>=0.5.5->blackjax==0.9.7.dev130+g4fa296f) (3.0.9)\r\n",
      "Requirement already satisfied: packaging>=20.0 in /usr/local/lib/python3.9/dist-packages (from matplotlib>=2.0.1->jaxopt>=0.5.5->blackjax==0.9.7.dev130+g4fa296f) (21.3)\r\n",
      "Requirement already satisfied: kiwisolver>=1.0.1 in /usr/local/lib/python3.9/dist-packages (from matplotlib>=2.0.1->jaxopt>=0.5.5->blackjax==0.9.7.dev130+g4fa296f) (1.4.3)\r\n",
      "Requirement already satisfied: cycler>=0.10 in /usr/local/lib/python3.9/dist-packages (from matplotlib>=2.0.1->jaxopt>=0.5.5->blackjax==0.9.7.dev130+g4fa296f) (0.11.0)\r\n",
      "Requirement already satisfied: pillow>=6.2.0 in /usr/local/lib/python3.9/dist-packages (from matplotlib>=2.0.1->jaxopt>=0.5.5->blackjax==0.9.7.dev130+g4fa296f) (9.2.0)\r\n",
      "Requirement already satisfied: fonttools>=4.22.0 in /usr/local/lib/python3.9/dist-packages (from matplotlib>=2.0.1->jaxopt>=0.5.5->blackjax==0.9.7.dev130+g4fa296f) (4.34.4)\r\n",
      "Requirement already satisfied: six>=1.5 in /usr/lib/python3/dist-packages (from python-dateutil>=2.7->matplotlib>=2.0.1->jaxopt>=0.5.5->blackjax==0.9.7.dev130+g4fa296f) (1.14.0)\r\n",
      "Building wheels for collected packages: blackjax\r\n",
      "  Building wheel for blackjax (pyproject.toml) ... \u001B[?25ldone\r\n",
      "\u001B[?25h  Created wheel for blackjax: filename=blackjax-0.9.7.dev130+g4fa296f-py3-none-any.whl size=320046 sha256=04de8ef6dcf261821a01431a350834cf6312722d33613eb347994e46642ee290\r\n",
      "  Stored in directory: /tmp/pip-ephem-wheel-cache-sbtlrqz6/wheels/e6/1e/f6/a6e0408a4e374b9cdb789b1769716b4ed61eef520a2dd702b1\r\n",
      "Successfully built blackjax\r\n",
      "Installing collected packages: typing-extensions, fastprogress, jaxopt, blackjax\r\n",
      "  Attempting uninstall: typing-extensions\r\n",
      "    Found existing installation: typing_extensions 4.3.0\r\n",
      "    Uninstalling typing_extensions-4.3.0:\r\n",
      "      Successfully uninstalled typing_extensions-4.3.0\r\n",
      "Successfully installed blackjax-0.9.7.dev130+g4fa296f fastprogress-1.0.3 jaxopt-0.5.5 typing-extensions-4.4.0\r\n",
      "\u001B[33mWARNING: Running pip as the 'root' user can result in broken permissions and conflicting behaviour with the system package manager. It is recommended to use a virtual environment instead: https://pip.pypa.io/warnings/venv\u001B[0m\u001B[33m\r\n",
      "Get:1 http://archive.ubuntu.com/ubuntu focal InRelease [265 kB]\r\n",
      "Get:2 http://archive.ubuntu.com/ubuntu focal-updates InRelease [114 kB]        \u001B[0m\u001B[33m\r\n",
      "Get:3 http://archive.ubuntu.com/ubuntu focal-backports InRelease [108 kB]      \u001B[0m\u001B[33m\r\n",
      "Get:4 https://deb.nodesource.com/node_16.x focal InRelease [4583 B]            \u001B[0m\u001B[33m\r\n",
      "Get:5 http://archive.ubuntu.com/ubuntu focal/multiverse amd64 Packages [177 kB]\u001B[33m[33m\r\n",
      "Get:6 http://archive.ubuntu.com/ubuntu focal/restricted amd64 Packages [33.4 kB]3m\r\n",
      "Get:7 http://archive.ubuntu.com/ubuntu focal/universe amd64 Packages [11.3 MB] \u001B[0m\u001B[33m\r\n",
      "Get:8 http://security.ubuntu.com/ubuntu focal-security InRelease [114 kB]    \u001B[0m0m\u001B[33m\r\n",
      "Get:9 http://ppa.launchpad.net/deadsnakes/ppa/ubuntu focal InRelease [18.1 kB] \u001B[0m\r\n",
      "Get:10 http://archive.ubuntu.com/ubuntu focal/main amd64 Packages [1275 kB]33m \u001B[0m\u001B[33m\u001B[33m\r\n",
      "Get:11 http://archive.ubuntu.com/ubuntu focal-updates/restricted amd64 Packages [2009 kB]\r\n",
      "Get:12 http://archive.ubuntu.com/ubuntu focal-updates/universe amd64 Packages [1291 kB]\r\n",
      "Get:13 http://archive.ubuntu.com/ubuntu focal-updates/multiverse amd64 Packages [31.2 kB]\r\n",
      "Get:14 http://archive.ubuntu.com/ubuntu focal-updates/main amd64 Packages [2921 kB]\r\n",
      "Get:15 http://archive.ubuntu.com/ubuntu focal-backports/main amd64 Packages [55.2 kB]\r\n",
      "Get:16 http://archive.ubuntu.com/ubuntu focal-backports/universe amd64 Packages [28.6 kB]\r\n",
      "Get:17 https://deb.nodesource.com/node_16.x focal/main amd64 Packages [773 B]\r\n",
      "Get:18 http://security.ubuntu.com/ubuntu focal-security/universe amd64 Packages [990 kB]\r\n",
      "Get:19 http://security.ubuntu.com/ubuntu focal-security/restricted amd64 Packages [1882 kB]\r\n",
      "Get:20 http://security.ubuntu.com/ubuntu focal-security/multiverse amd64 Packages [27.7 kB]\r\n",
      "Get:21 http://security.ubuntu.com/ubuntu focal-security/main amd64 Packages [2448 kB]\r\n",
      "Get:22 http://ppa.launchpad.net/deadsnakes/ppa/ubuntu focal/main amd64 Packages [29.5 kB]\r\n",
      "Fetched 25.2 MB in 1s (17.8 MB/s)[33m                       \u001B[0m             \u001B[33m\u001B[33m\u001B[33m\u001B[33m\u001B[33m\u001B[33m\u001B[33m\u001B[33m\u001B[33m\r\n",
      "Reading package lists... Done\r\n",
      "Building dependency tree       \r\n",
      "Reading state information... Done\r\n",
      "132 packages can be upgraded. Run 'apt list --upgradable' to see them.\r\n",
      "Reading package lists... Done\r\n",
      "Building dependency tree       \r\n",
      "Reading state information... Done\r\n",
      "The following additional packages will be installed:\r\n",
      "  fonts-liberation libann0 libcdt5 libcgraph6 libgts-0.7-5 libgts-bin libgvc6\r\n",
      "  libgvpr2 liblab-gamut1 libpathplan4\r\n",
      "Suggested packages:\r\n",
      "  gsfonts graphviz-doc\r\n",
      "The following NEW packages will be installed:\r\n",
      "  fonts-liberation graphviz libann0 libcdt5 libcgraph6 libgts-0.7-5 libgts-bin\r\n",
      "  libgvc6 libgvpr2 liblab-gamut1 libpathplan4\r\n",
      "0 upgraded, 11 newly installed, 0 to remove and 132 not upgraded.\r\n",
      "Need to get 2701 kB of archives.\r\n",
      "After this operation, 11.3 MB of additional disk space will be used.\r\n",
      "Get:1 http://archive.ubuntu.com/ubuntu focal/main amd64 fonts-liberation all 1:1.07.4-11 [822 kB]\r\n",
      "Get:2 http://archive.ubuntu.com/ubuntu focal/universe amd64 libann0 amd64 1.1.2+doc-7build1 [26.0 kB]\r\n",
      "Get:3 http://archive.ubuntu.com/ubuntu focal/universe amd64 libcdt5 amd64 2.42.2-3build2 [18.7 kB]\r\n",
      "Get:4 http://archive.ubuntu.com/ubuntu focal/universe amd64 libcgraph6 amd64 2.42.2-3build2 [41.3 kB]\r\n",
      "Get:5 http://archive.ubuntu.com/ubuntu focal/universe amd64 libgts-0.7-5 amd64 0.7.6+darcs121130-4 [150 kB]\r\n",
      "Get:6 http://archive.ubuntu.com/ubuntu focal/universe amd64 libpathplan4 amd64 2.42.2-3build2 [21.9 kB]\r\n",
      "Get:7 http://archive.ubuntu.com/ubuntu focal/universe amd64 libgvc6 amd64 2.42.2-3build2 [647 kB]\r\n",
      "Get:8 http://archive.ubuntu.com/ubuntu focal/universe amd64 libgvpr2 amd64 2.42.2-3build2 [167 kB]\r\n",
      "Get:9 http://archive.ubuntu.com/ubuntu focal/universe amd64 liblab-gamut1 amd64 2.42.2-3build2 [177 kB]\r\n",
      "Get:10 http://archive.ubuntu.com/ubuntu focal/universe amd64 graphviz amd64 2.42.2-3build2 [590 kB]\r\n",
      "Get:11 http://archive.ubuntu.com/ubuntu focal/universe amd64 libgts-bin amd64 0.7.6+darcs121130-4 [41.3 kB]\r\n",
      "Fetched 2701 kB in 0s (6816 kB/s)      \u001B[0m\u001B[33m\r\n",
      "\n",
      "\u001B7\u001B[0;23r\u001B8\u001B[1ASelecting previously unselected package fonts-liberation.\r\n",
      "(Reading database ... 78556 files and directories currently installed.)\r\n",
      "Preparing to unpack .../00-fonts-liberation_1%3a1.07.4-11_all.deb ...\r\n",
      "\u001B7\u001B[24;0f\u001B[42m\u001B[30mProgress: [  0%]\u001B[49m\u001B[39m [..........................................................] \u001B8\u001B7\u001B[24;0f\u001B[42m\u001B[30mProgress: [  2%]\u001B[49m\u001B[39m [#.........................................................] \u001B8Unpacking fonts-liberation (1:1.07.4-11) ...\r\n",
      "\u001B7\u001B[24;0f\u001B[42m\u001B[30mProgress: [  4%]\u001B[49m\u001B[39m [##........................................................] \u001B8Selecting previously unselected package libann0.\r\n",
      "Preparing to unpack .../01-libann0_1.1.2+doc-7build1_amd64.deb ...\r\n",
      "\u001B7\u001B[24;0f\u001B[42m\u001B[30mProgress: [  7%]\u001B[49m\u001B[39m [###.......................................................] \u001B8Unpacking libann0 (1.1.2+doc-7build1) ...\r\n",
      "\u001B7\u001B[24;0f\u001B[42m\u001B[30mProgress: [  9%]\u001B[49m\u001B[39m [#####.....................................................] \u001B8Selecting previously unselected package libcdt5:amd64.\r\n",
      "Preparing to unpack .../02-libcdt5_2.42.2-3build2_amd64.deb ...\r\n",
      "\u001B7\u001B[24;0f\u001B[42m\u001B[30mProgress: [ 11%]\u001B[49m\u001B[39m [######....................................................] \u001B8Unpacking libcdt5:amd64 (2.42.2-3build2) ...\r\n",
      "\u001B7\u001B[24;0f\u001B[42m\u001B[30mProgress: [ 13%]\u001B[49m\u001B[39m [#######...................................................] \u001B8Selecting previously unselected package libcgraph6:amd64.\r\n",
      "Preparing to unpack .../03-libcgraph6_2.42.2-3build2_amd64.deb ...\r\n",
      "\u001B7\u001B[24;0f\u001B[42m\u001B[30mProgress: [ 16%]\u001B[49m\u001B[39m [#########.................................................] \u001B8Unpacking libcgraph6:amd64 (2.42.2-3build2) ...\r\n",
      "\u001B7\u001B[24;0f\u001B[42m\u001B[30mProgress: [ 18%]\u001B[49m\u001B[39m [##########................................................] \u001B8Selecting previously unselected package libgts-0.7-5:amd64.\r\n",
      "Preparing to unpack .../04-libgts-0.7-5_0.7.6+darcs121130-4_amd64.deb ...\r\n",
      "\u001B7\u001B[24;0f\u001B[42m\u001B[30mProgress: [ 20%]\u001B[49m\u001B[39m [###########...............................................] \u001B8Unpacking libgts-0.7-5:amd64 (0.7.6+darcs121130-4) ...\r\n",
      "\u001B7\u001B[24;0f\u001B[42m\u001B[30mProgress: [ 22%]\u001B[49m\u001B[39m [############..............................................] \u001B8Selecting previously unselected package libpathplan4:amd64.\r\n",
      "Preparing to unpack .../05-libpathplan4_2.42.2-3build2_amd64.deb ...\r\n",
      "\u001B7\u001B[24;0f\u001B[42m\u001B[30mProgress: [ 24%]\u001B[49m\u001B[39m [##############............................................] \u001B8Unpacking libpathplan4:amd64 (2.42.2-3build2) ...\r\n",
      "\u001B7\u001B[24;0f\u001B[42m\u001B[30mProgress: [ 27%]\u001B[49m\u001B[39m [###############...........................................] \u001B8Selecting previously unselected package libgvc6.\r\n",
      "Preparing to unpack .../06-libgvc6_2.42.2-3build2_amd64.deb ...\r\n",
      "\u001B7\u001B[24;0f\u001B[42m\u001B[30mProgress: [ 29%]\u001B[49m\u001B[39m [################..........................................] \u001B8Unpacking libgvc6 (2.42.2-3build2) ...\r\n",
      "\u001B7\u001B[24;0f\u001B[42m\u001B[30mProgress: [ 31%]\u001B[49m\u001B[39m [##################........................................] \u001B8Selecting previously unselected package libgvpr2:amd64.\r\n",
      "Preparing to unpack .../07-libgvpr2_2.42.2-3build2_amd64.deb ...\r\n",
      "\u001B7\u001B[24;0f\u001B[42m\u001B[30mProgress: [ 33%]\u001B[49m\u001B[39m [###################.......................................] \u001B8Unpacking libgvpr2:amd64 (2.42.2-3build2) ...\r\n",
      "\u001B7\u001B[24;0f\u001B[42m\u001B[30mProgress: [ 36%]\u001B[49m\u001B[39m [####################......................................] \u001B8Selecting previously unselected package liblab-gamut1:amd64.\r\n",
      "Preparing to unpack .../08-liblab-gamut1_2.42.2-3build2_amd64.deb ...\r\n",
      "\u001B7\u001B[24;0f\u001B[42m\u001B[30mProgress: [ 38%]\u001B[49m\u001B[39m [#####################.....................................] \u001B8Unpacking liblab-gamut1:amd64 (2.42.2-3build2) ...\r\n",
      "\u001B7\u001B[24;0f\u001B[42m\u001B[30mProgress: [ 40%]\u001B[49m\u001B[39m [#######################...................................] \u001B8Selecting previously unselected package graphviz.\r\n",
      "Preparing to unpack .../09-graphviz_2.42.2-3build2_amd64.deb ...\r\n",
      "\u001B7\u001B[24;0f\u001B[42m\u001B[30mProgress: [ 42%]\u001B[49m\u001B[39m [########################..................................] \u001B8Unpacking graphviz (2.42.2-3build2) ...\r\n",
      "\u001B7\u001B[24;0f\u001B[42m\u001B[30mProgress: [ 44%]\u001B[49m\u001B[39m [#########################.................................] \u001B8Selecting previously unselected package libgts-bin.\r\n",
      "Preparing to unpack .../10-libgts-bin_0.7.6+darcs121130-4_amd64.deb ...\r\n",
      "\u001B7\u001B[24;0f\u001B[42m\u001B[30mProgress: [ 47%]\u001B[49m\u001B[39m [###########################...............................] \u001B8Unpacking libgts-bin (0.7.6+darcs121130-4) ...\r\n",
      "\u001B7\u001B[24;0f\u001B[42m\u001B[30mProgress: [ 49%]\u001B[49m\u001B[39m [############################..............................] \u001B8Setting up liblab-gamut1:amd64 (2.42.2-3build2) ...\r\n",
      "\u001B7\u001B[24;0f\u001B[42m\u001B[30mProgress: [ 51%]\u001B[49m\u001B[39m [#############################.............................] \u001B8\u001B7\u001B[24;0f\u001B[42m\u001B[30mProgress: [ 53%]\u001B[49m\u001B[39m [##############################............................] \u001B8Setting up libgts-0.7-5:amd64 (0.7.6+darcs121130-4) ...\r\n",
      "\u001B7\u001B[24;0f\u001B[42m\u001B[30mProgress: [ 56%]\u001B[49m\u001B[39m [################################..........................] \u001B8\u001B7\u001B[24;0f\u001B[42m\u001B[30mProgress: [ 58%]\u001B[49m\u001B[39m [#################################.........................] \u001B8Setting up libpathplan4:amd64 (2.42.2-3build2) ...\r\n",
      "Setting up libann0 (1.1.2+doc-7build1) ...\r\n",
      "\u001B7\u001B[24;0f\u001B[42m\u001B[30mProgress: [ 60%]\u001B[49m\u001B[39m [##################################........................] \u001B8\u001B7\u001B[24;0f\u001B[42m\u001B[30mProgress: [ 62%]\u001B[49m\u001B[39m [####################################......................] \u001B8\u001B7\u001B[24;0f\u001B[42m\u001B[30mProgress: [ 64%]\u001B[49m\u001B[39m [#####################################.....................] \u001B8\u001B7\u001B[24;0f\u001B[42m\u001B[30mProgress: [ 67%]\u001B[49m\u001B[39m [######################################....................] \u001B8Setting up fonts-liberation (1:1.07.4-11) ...\r\n",
      "\u001B7\u001B[24;0f\u001B[42m\u001B[30mProgress: [ 69%]\u001B[49m\u001B[39m [#######################################...................] \u001B8\u001B7\u001B[24;0f\u001B[42m\u001B[30mProgress: [ 71%]\u001B[49m\u001B[39m [#########################################.................] \u001B8Setting up libcdt5:amd64 (2.42.2-3build2) ...\r\n",
      "\u001B7\u001B[24;0f\u001B[42m\u001B[30mProgress: [ 73%]\u001B[49m\u001B[39m [##########################################................] \u001B8\u001B7\u001B[24;0f\u001B[42m\u001B[30mProgress: [ 76%]\u001B[49m\u001B[39m [###########################################...............] \u001B8Setting up libcgraph6:amd64 (2.42.2-3build2) ...\r\n",
      "\u001B7\u001B[24;0f\u001B[42m\u001B[30mProgress: [ 78%]\u001B[49m\u001B[39m [#############################################.............] \u001B8\u001B7\u001B[24;0f\u001B[42m\u001B[30mProgress: [ 80%]\u001B[49m\u001B[39m [##############################################............] \u001B8Setting up libgts-bin (0.7.6+darcs121130-4) ...\r\n",
      "\u001B7\u001B[24;0f\u001B[42m\u001B[30mProgress: [ 82%]\u001B[49m\u001B[39m [###############################################...........] \u001B8\u001B7\u001B[24;0f\u001B[42m\u001B[30mProgress: [ 84%]\u001B[49m\u001B[39m [################################################..........] \u001B8Setting up libgvc6 (2.42.2-3build2) ...\r\n",
      "\u001B7\u001B[24;0f\u001B[42m\u001B[30mProgress: [ 87%]\u001B[49m\u001B[39m [##################################################........] \u001B8\u001B7\u001B[24;0f\u001B[42m\u001B[30mProgress: [ 89%]\u001B[49m\u001B[39m [###################################################.......] \u001B8Setting up libgvpr2:amd64 (2.42.2-3build2) ...\r\n",
      "\u001B7\u001B[24;0f\u001B[42m\u001B[30mProgress: [ 91%]\u001B[49m\u001B[39m [####################################################......] \u001B8\u001B7\u001B[24;0f\u001B[42m\u001B[30mProgress: [ 93%]\u001B[49m\u001B[39m [######################################################....] \u001B8Setting up graphviz (2.42.2-3build2) ...\r\n",
      "\u001B7\u001B[24;0f\u001B[42m\u001B[30mProgress: [ 96%]\u001B[49m\u001B[39m [#######################################################...] \u001B8\u001B7\u001B[24;0f\u001B[42m\u001B[30mProgress: [ 98%]\u001B[49m\u001B[39m [########################################################..] \u001B8Processing triggers for libc-bin (2.31-0ubuntu9.7) ...\r\n",
      "Processing triggers for man-db (2.9.1-1) ...\r\n",
      "Processing triggers for fontconfig (2.13.1-2ubuntu3) ...\r\n",
      "\r\n",
      "\u001B7\u001B[0;24r\u001B8\u001B[1A\u001B[JCollecting graphviz\r\n",
      "  Downloading graphviz-0.20.1-py3-none-any.whl (47 kB)\r\n",
      "\u001B[2K     \u001B[90m━━━━━━━━━━━━━━━━━━━━━━━━━━━━━━━━━━━━━━━━\u001B[0m \u001B[32m47.0/47.0 kB\u001B[0m \u001B[31m15.5 MB/s\u001B[0m eta \u001B[36m0:00:00\u001B[0m\r\n",
      "\u001B[?25hInstalling collected packages: graphviz\r\n",
      "Successfully installed graphviz-0.20.1\r\n",
      "\u001B[33mWARNING: Running pip as the 'root' user can result in broken permissions and conflicting behaviour with the system package manager. It is recommended to use a virtual environment instead: https://pip.pypa.io/warnings/venv\u001B[0m\u001B[33m\r\n",
      "\u001B[0mCollecting gplearn\r\n",
      "  Downloading gplearn-0.4.2-py3-none-any.whl (25 kB)\r\n",
      "Requirement already satisfied: scikit-learn>=1.0.2 in /usr/local/lib/python3.9/dist-packages (from gplearn) (1.1.1)\r\n",
      "Requirement already satisfied: joblib>=1.0.0 in /usr/local/lib/python3.9/dist-packages (from gplearn) (1.1.0)\r\n",
      "Requirement already satisfied: threadpoolctl>=2.0.0 in /usr/local/lib/python3.9/dist-packages (from scikit-learn>=1.0.2->gplearn) (3.1.0)\r\n",
      "Requirement already satisfied: numpy>=1.17.3 in /usr/local/lib/python3.9/dist-packages (from scikit-learn>=1.0.2->gplearn) (1.23.1)\r\n",
      "Requirement already satisfied: scipy>=1.3.2 in /usr/local/lib/python3.9/dist-packages (from scikit-learn>=1.0.2->gplearn) (1.8.1)\r\n",
      "Installing collected packages: gplearn\r\n",
      "Successfully installed gplearn-0.4.2\r\n",
      "\u001B[33mWARNING: Running pip as the 'root' user can result in broken permissions and conflicting behaviour with the system package manager. It is recommended to use a virtual environment instead: https://pip.pypa.io/warnings/venv\u001B[0m\u001B[33m\r\n",
      "\u001B[0mCollecting optuna\r\n",
      "  Downloading optuna-3.1.0-py3-none-any.whl (365 kB)\r\n",
      "\u001B[2K     \u001B[90m━━━━━━━━━━━━━━━━━━━━━━━━━━━━━━━━━━━━━━\u001B[0m \u001B[32m365.3/365.3 kB\u001B[0m \u001B[31m38.9 MB/s\u001B[0m eta \u001B[36m0:00:00\u001B[0m\r\n",
      "\u001B[?25hRequirement already satisfied: tqdm in /usr/local/lib/python3.9/dist-packages (from optuna) (4.64.0)\r\n",
      "Collecting alembic>=1.5.0\r\n",
      "  Downloading alembic-1.9.2-py3-none-any.whl (210 kB)\r\n",
      "\u001B[2K     \u001B[90m━━━━━━━━━━━━━━━━━━━━━━━━━━━━━━━━━━━━━━\u001B[0m \u001B[32m210.6/210.6 kB\u001B[0m \u001B[31m49.2 MB/s\u001B[0m eta \u001B[36m0:00:00\u001B[0m\r\n",
      "\u001B[?25hCollecting cmaes>=0.9.1\r\n",
      "  Downloading cmaes-0.9.1-py3-none-any.whl (21 kB)\r\n",
      "Requirement already satisfied: packaging>=20.0 in /usr/local/lib/python3.9/dist-packages (from optuna) (21.3)\r\n",
      "Requirement already satisfied: PyYAML in /usr/local/lib/python3.9/dist-packages (from optuna) (5.4.1)\r\n",
      "Requirement already satisfied: sqlalchemy>=1.3.0 in /usr/local/lib/python3.9/dist-packages (from optuna) (1.4.39)\r\n",
      "Requirement already satisfied: numpy in /usr/local/lib/python3.9/dist-packages (from optuna) (1.23.1)\r\n",
      "Collecting colorlog\r\n",
      "  Downloading colorlog-6.7.0-py2.py3-none-any.whl (11 kB)\r\n",
      "Collecting Mako\r\n",
      "  Downloading Mako-1.2.4-py3-none-any.whl (78 kB)\r\n",
      "\u001B[2K     \u001B[90m━━━━━━━━━━━━━━━━━━━━━━━━━━━━━━━━━━━━━━━━\u001B[0m \u001B[32m78.7/78.7 kB\u001B[0m \u001B[31m28.7 MB/s\u001B[0m eta \u001B[36m0:00:00\u001B[0m\r\n",
      "\u001B[?25hRequirement already satisfied: pyparsing!=3.0.5,>=2.0.2 in /usr/local/lib/python3.9/dist-packages (from packaging>=20.0->optuna) (3.0.9)\r\n",
      "Requirement already satisfied: greenlet!=0.4.17 in /usr/local/lib/python3.9/dist-packages (from sqlalchemy>=1.3.0->optuna) (1.1.2)\r\n",
      "Requirement already satisfied: MarkupSafe>=0.9.2 in /usr/local/lib/python3.9/dist-packages (from Mako->alembic>=1.5.0->optuna) (2.1.1)\r\n",
      "Installing collected packages: Mako, colorlog, cmaes, alembic, optuna\r\n",
      "Successfully installed Mako-1.2.4 alembic-1.9.2 cmaes-0.9.1 colorlog-6.7.0 optuna-3.1.0\r\n",
      "\u001B[33mWARNING: Running pip as the 'root' user can result in broken permissions and conflicting behaviour with the system package manager. It is recommended to use a virtual environment instead: https://pip.pypa.io/warnings/venv\u001B[0m\u001B[33m\r\n",
      "\u001B[0m"
     ]
    }
   ],
   "source": [
    "!pip install -U jaxlib[cuda112] -f https://storage.googleapis.com/jax-releases/jax_cuda_releases.html\n",
    "!pip install -U jax[cuda112] -f https://storage.googleapis.com/jax-releases/jax_cuda_releases.html\n",
    "!pip install optax\n",
    "!pip install dm-haiku\n",
    "!pip install tensorflow-probability==0.17\n",
    "!pip install git+https://github.com/blackjax-devs/blackjax.git\n",
    "!apt update\n",
    "!apt install -y graphviz\n",
    "!pip install graphviz\n",
    "!pip install gplearn\n",
    "!pip install optuna"
   ]
  },
  {
   "cell_type": "code",
   "execution_count": 2,
   "metadata": {
    "pycharm": {
     "name": "#%%\n"
    }
   },
   "outputs": [],
   "source": [
    "import os\n",
    "os.environ[\"XLA_PYTHON_CLIENT_PREALLOCATE\"] = \"False\"\n",
    "os.environ[\"XLA_PYTHON_CLIENT_ALLOCATOR\"] = \"platform\"\n",
    "SERVER = 1\n",
    "\n",
    "if not SERVER:\n",
    "    %cd /home/xabush/code/snet/moses-incons-pen-xp/notebooks/variable_selection/cancer/nn\n",
    "\n",
    "import pandas as pd\n",
    "import matplotlib.pyplot as plt\n",
    "import tensorflow_probability.substrates.jax as tfp\n",
    "from sklearn.model_selection import train_test_split, cross_val_score, StratifiedKFold, KFold, GridSearchCV\n",
    "from sklearn.preprocessing import StandardScaler\n",
    "tfd = tfp.distributions\n",
    "import jax\n",
    "import haiku as hk\n",
    "import numpy as np\n",
    "import optax\n",
    "from nn_util import *\n",
    "from optim_util import *\n",
    "plt.style.use('ggplot')\n",
    "%load_ext autoreload"
   ]
  },
  {
   "cell_type": "code",
   "execution_count": 3,
   "metadata": {
    "pycharm": {
     "name": "#%%\n"
    }
   },
   "outputs": [],
   "source": [
    "if SERVER:\n",
    "    data_dir = \"/home/bizon/bio_ai\"\n",
    "else:\n",
    "    data_dir = \"/home/xabush/code/snet/moses-incons-pen-xp/data\""
   ]
  },
  {
   "cell_type": "markdown",
   "metadata": {
    "pycharm": {
     "name": "#%% md\n"
    }
   },
   "source": [
    "### GDSC Cell Line"
   ]
  },
  {
   "cell_type": "markdown",
   "metadata": {
    "pycharm": {
     "name": "#%% md\n"
    }
   },
   "source": [
    "#### Tamoxifen"
   ]
  },
  {
   "cell_type": "code",
   "execution_count": 4,
   "metadata": {
    "pycharm": {
     "name": "#%%\n"
    }
   },
   "outputs": [
    {
     "data": {
      "text/plain": "(406, 37265)"
     },
     "execution_count": 4,
     "metadata": {},
     "output_type": "execute_result"
    }
   ],
   "source": [
    "gdsc_dir = f\"{data_dir}/cell_line/gdsc2\"\n",
    "gdsc_exp_tamox_data = pd.read_csv(f\"{gdsc_dir}/tamoxifen_response_gene_expr.csv\")\n",
    "gdsc_exp_tamox_data.shape"
   ]
  },
  {
   "cell_type": "code",
   "execution_count": 5,
   "metadata": {
    "pycharm": {
     "name": "#%%\n"
    }
   },
   "outputs": [],
   "source": [
    "X, target = gdsc_exp_tamox_data.iloc[:,:-1], gdsc_exp_tamox_data.iloc[:,-1]\n",
    "# change to -log10(IC_50) to make it comparable\n",
    "target = -np.log10(np.exp(target)) # exp b/c the values are natural logs of raw IC_50\n",
    "cancer_driver_genes_df = pd.read_csv(f\"{data_dir}/cell_line/driver_genes_20221018.csv\")"
   ]
  },
  {
   "cell_type": "code",
   "execution_count": 6,
   "metadata": {
    "pycharm": {
     "name": "#%%\n"
    }
   },
   "outputs": [],
   "source": [
    "cols = X.columns.to_list()\n",
    "driver_syms = cancer_driver_genes_df[\"symbol\"].to_list()\n",
    "driver_sym_list = [sym.strip() for sym in cols if sym in driver_syms]"
   ]
  },
  {
   "cell_type": "code",
   "execution_count": 7,
   "outputs": [
    {
     "data": {
      "text/plain": "970"
     },
     "execution_count": 7,
     "metadata": {},
     "output_type": "execute_result"
    }
   ],
   "source": [
    "landmark_genes_df = pd.read_table(f\"{data_dir}/cell_line/cmap_L1000_genes.txt\")\n",
    "landmark_genes = [sym.strip() for sym in landmark_genes_df[\"Symbol\"].to_list() if sym in cols]\n",
    "len(landmark_genes)"
   ],
   "metadata": {
    "collapsed": false,
    "pycharm": {
     "name": "#%%\n"
    }
   }
  },
  {
   "cell_type": "code",
   "execution_count": 8,
   "metadata": {
    "pycharm": {
     "name": "#%%\n"
    }
   },
   "outputs": [
    {
     "data": {
      "text/plain": "(406, 768)"
     },
     "execution_count": 8,
     "metadata": {},
     "output_type": "execute_result"
    }
   ],
   "source": [
    "X_selected = X[driver_sym_list]\n",
    "X_selected.shape"
   ]
  },
  {
   "cell_type": "code",
   "execution_count": 9,
   "outputs": [
    {
     "data": {
      "text/plain": "(406, 970)"
     },
     "execution_count": 9,
     "metadata": {},
     "output_type": "execute_result"
    }
   ],
   "source": [
    "X_selected_lm = X[landmark_genes]\n",
    "X_selected_lm.shape"
   ],
   "metadata": {
    "collapsed": false,
    "pycharm": {
     "name": "#%%\n"
    }
   }
  },
  {
   "cell_type": "code",
   "execution_count": 10,
   "outputs": [
    {
     "data": {
      "text/plain": "108"
     },
     "execution_count": 10,
     "metadata": {},
     "output_type": "execute_result"
    }
   ],
   "source": [
    "len(set(driver_sym_list) & set(landmark_genes))"
   ],
   "metadata": {
    "collapsed": false,
    "pycharm": {
     "name": "#%%\n"
    }
   }
  },
  {
   "cell_type": "markdown",
   "metadata": {
    "pycharm": {
     "name": "#%% md\n"
    }
   },
   "source": [
    "#### Data Preprocessing"
   ]
  },
  {
   "cell_type": "code",
   "execution_count": 11,
   "outputs": [],
   "source": [
    "seed = 57\n",
    "X_train_outer_df, X_test_df, y_train_outer_df, y_test_df = train_test_split(X_selected, target, random_state=seed, shuffle=True, test_size=0.2)"
   ],
   "metadata": {
    "collapsed": false,
    "pycharm": {
     "name": "#%%\n"
    }
   }
  },
  {
   "cell_type": "code",
   "execution_count": 12,
   "outputs": [
    {
     "name": "stderr",
     "output_type": "stream",
     "text": [
      "/usr/local/lib/python3.9/dist-packages/sklearn/preprocessing/_data.py:2583: UserWarning: n_quantiles (1000) is greater than the total number of samples (324). n_quantiles is set to n_samples.\n",
      "  warnings.warn(\n"
     ]
    }
   ],
   "source": [
    "from sklearn.preprocessing import QuantileTransformer, PowerTransformer, RobustScaler, MinMaxScaler, Normalizer, StandardScaler\n",
    "\n",
    "train_transformer = QuantileTransformer(random_state=seed, output_distribution=\"normal\").fit(X_train_outer_df)\n",
    "# train_transformer = PowerTransformer().fit(X_train_df)\n",
    "train_transformed = train_transformer.transform(X_train_outer_df)\n",
    "test_transformed = train_transformer.transform(X_test_df)\n",
    "\n",
    "X_train_outer_df = pd.DataFrame(train_transformed, columns=X_train_outer_df.columns)\n",
    "X_test_df = pd.DataFrame(test_transformed, columns=X_test_df.columns)"
   ],
   "metadata": {
    "collapsed": false,
    "pycharm": {
     "name": "#%%\n"
    }
   }
  },
  {
   "cell_type": "code",
   "execution_count": 13,
   "outputs": [],
   "source": [
    "X_train_df, X_val_df, y_train_df, y_val_df = train_test_split(X_train_outer_df, y_train_outer_df, shuffle=True,\n",
    "                                                              random_state=seed, test_size=0.2)\n",
    "train_indices, val_indices = X_train_df.index.to_list(), X_val_df.index.to_list()"
   ],
   "metadata": {
    "collapsed": false,
    "pycharm": {
     "name": "#%%\n"
    }
   }
  },
  {
   "cell_type": "code",
   "execution_count": 4,
   "outputs": [
    {
     "ename": "NameError",
     "evalue": "name 'X_train_outer_df' is not defined",
     "output_type": "error",
     "traceback": [
      "\u001B[0;31m---------------------------------------------------------------------------\u001B[0m",
      "\u001B[0;31mNameError\u001B[0m                                 Traceback (most recent call last)",
      "Input \u001B[0;32mIn [4]\u001B[0m, in \u001B[0;36m<cell line: 1>\u001B[0;34m()\u001B[0m\n\u001B[0;32m----> 1\u001B[0m X_train_outer, y_train_outer \u001B[38;5;241m=\u001B[39m \u001B[43mX_train_outer_df\u001B[49m\u001B[38;5;241m.\u001B[39mvalues, y_train_outer_df\u001B[38;5;241m.\u001B[39mvalues\n\u001B[1;32m      2\u001B[0m X_train, y_train \u001B[38;5;241m=\u001B[39m X_train_df\u001B[38;5;241m.\u001B[39mvalues, y_train_df\u001B[38;5;241m.\u001B[39mvalues\n\u001B[1;32m      3\u001B[0m X_val, y_val \u001B[38;5;241m=\u001B[39m X_val_df\u001B[38;5;241m.\u001B[39mvalues, y_val_df\u001B[38;5;241m.\u001B[39mvalues\n",
      "\u001B[0;31mNameError\u001B[0m: name 'X_train_outer_df' is not defined"
     ]
    }
   ],
   "source": [
    "X_train_outer, y_train_outer = X_train_outer_df.values, y_train_outer_df.values\n",
    "X_train, y_train = X_train_df.values, y_train_df.values\n",
    "X_val, y_val = X_val_df.values, y_val_df.values\n",
    "X_test, y_test = X_test_df.values, y_test_df.values"
   ],
   "metadata": {
    "collapsed": false,
    "pycharm": {
     "name": "#%%\n"
    }
   }
  },
  {
   "cell_type": "markdown",
   "source": [
    "#### BNN without BG"
   ],
   "metadata": {
    "collapsed": false,
    "pycharm": {
     "name": "#%% md\n"
    }
   }
  },
  {
   "cell_type": "code",
   "execution_count": 14,
   "outputs": [],
   "source": [
    "class BayesNN():\n",
    "    def __init__(self, sgd_optim, sgld_optim, temperature, sigma, data_size, hidden_sizes, act_fn=jax.nn.relu):\n",
    "        self.hidden_sizes = hidden_sizes\n",
    "        self.act_fn = act_fn\n",
    "        self.sgd_optim = sgd_optim\n",
    "        self.sgld_optim = sgld_optim\n",
    "        self.optimiser = sgd_optim\n",
    "        self._forward = hk.without_apply_rng(hk.transform(self._forward_fn))\n",
    "        self.loss = jax.jit(self.loss)\n",
    "        self.update = jax.jit(self.update)\n",
    "\n",
    "        self.temperature = temperature\n",
    "        self.sigma = sigma\n",
    "        self.data_size = data_size\n",
    "        self.add_noise = False\n",
    "\n",
    "        # weight_decay = self.sigma*self.temperature\n",
    "        # self.weight_prior = tfd.Normal(0, self.sigma)\n",
    "        self.weight_prior = tfd.StudentT(df=2, loc=0, scale=self.sigma)\n",
    "        # self.weight_prior = tfd.Laplace(0, self.sigma)\n",
    "\n",
    "    def init(self, rng, x):\n",
    "        params = self._forward.init(rng, x)\n",
    "        opt_state = self.optimiser.init(params)\n",
    "        return params, opt_state\n",
    "\n",
    "    def apply(self, params, x):\n",
    "        return self._forward.apply(params, x).ravel()\n",
    "\n",
    "\n",
    "    def update(self, key, params, opt_state, x, y):\n",
    "        if self.add_noise:\n",
    "            self.optimiser = self.sgld_optim\n",
    "        else:\n",
    "            self.optimiser = self.sgd_optim\n",
    "        grads = jax.grad(self.loss)(params, x, y)\n",
    "        updates, opt_state = self.optimiser.update(key, grads, opt_state)\n",
    "        params = optax.apply_updates(params, updates)\n",
    "        return params, opt_state\n",
    "\n",
    "    def _forward_fn(self, x):\n",
    "        init_fn = hk.initializers.VarianceScaling()\n",
    "        for hd in self.hidden_sizes:\n",
    "            x = hk.Linear(hd, w_init=init_fn, b_init=init_fn)(x)\n",
    "            x = self.act_fn(x)\n",
    "\n",
    "        x = hk.Linear(1)(x)\n",
    "        return x\n",
    "\n",
    "    def log_prior(self, params):\n",
    "        \"\"\"Computes the Gaussian prior log-density.\"\"\"\n",
    "        logprob_tree = jax.tree_util.tree_leaves(jax.tree_util.tree_map(lambda x: jnp.sum(self.weight_prior.log_prob(x.reshape(-1))/self.temperature),\n",
    "                                                                        params))\n",
    "\n",
    "        return sum(logprob_tree)\n",
    "\n",
    "    def log_likelihood(self, params, x, y):\n",
    "        preds = self.apply(params, x).ravel()\n",
    "        log_prob = jnp.sum(tfd.Normal(preds, self.temperature).log_prob(y))\n",
    "        batch_size = x.shape[0]\n",
    "        log_prob = (self.data_size / batch_size)*log_prob\n",
    "        return log_prob\n",
    "\n",
    "    def loss(self, params, x, y):\n",
    "        logprob_prior = self.log_prior(params)\n",
    "        logprob_likelihood = self.log_likelihood(params, x, y)\n",
    "        return logprob_likelihood + logprob_prior\n"
   ],
   "metadata": {
    "collapsed": false,
    "pycharm": {
     "name": "#%%\n"
    }
   }
  },
  {
   "cell_type": "markdown",
   "source": [
    "#### BNN with BG"
   ],
   "metadata": {
    "collapsed": false,
    "pycharm": {
     "name": "#%% md\n"
    }
   }
  },
  {
   "cell_type": "code",
   "execution_count": 52,
   "outputs": [],
   "source": [
    "class BgBayesNN():\n",
    "    def __init__(self, sgd_optim, sgld_optim, disc_sgd_optim, disc_sgld_optim, \n",
    "                        temperature, sigma, data_size, hidden_sizes, \n",
    "                        J, eta, mu, alpha,\n",
    "                        act_fn, init_fn):\n",
    "        self.hidden_sizes = hidden_sizes\n",
    "        self.act_fn = act_fn\n",
    "        self.sgd_optim = sgd_optim\n",
    "        self.sgld_optim = sgld_optim\n",
    "        self.optimiser = sgd_optim\n",
    "\n",
    "        self.disc_optimiser = disc_sgd_optim\n",
    "        self.disc_sgd_optim = disc_sgd_optim\n",
    "        self.disc_sgld_optim = disc_sgld_optim\n",
    "\n",
    "        self._forward = hk.transform(self._forward_fn)\n",
    "        self.loss = jax.jit(self.loss)\n",
    "        self.update = jax.jit(self.update)\n",
    "\n",
    "        self.temperature = temperature\n",
    "        self.sigma = sigma\n",
    "        self.data_size = data_size\n",
    "        self.add_noise = False\n",
    "        self.J = J\n",
    "        self.eta = eta\n",
    "        self.mu = mu\n",
    "        self.alpha = alpha\n",
    "        self.init_fn = init_fn\n",
    "\n",
    "        # weight_decay = self.sigma*self.temperature\n",
    "        # self.weight_prior = tfd.Normal(0, self.sigma)\n",
    "        self.weight_prior = tfd.StudentT(df=2, loc=0, scale=self.sigma)\n",
    "\n",
    "    def init(self, rng, x):\n",
    "        gamma = tfd.Bernoulli(0.5*jnp.ones(x.shape[-1])).sample(seed=rng)*1.\n",
    "        params = self._forward.init(rng, x, gamma)\n",
    "        opt_state = self.optimiser.init(params)\n",
    "        disc_opt_state = self.disc_optimiser.init(gamma)\n",
    "        return params, gamma, opt_state, disc_opt_state\n",
    "\n",
    "    def apply(self, params, gamma, x):\n",
    "        return self._forward.apply(params, None, x, gamma).ravel()\n",
    "\n",
    "    \n",
    "    def loss(self, params, gamma, x, y):\n",
    "        logprob_prior = self.log_prior(params)\n",
    "        logprob_likelihood = self.log_likelihood(params, gamma, x, y)\n",
    "        return logprob_likelihood + logprob_prior\n",
    "\n",
    "    def update(self, key, params, gamma, opt_state, disc_opt_state, x, y):\n",
    "        if self.add_noise:\n",
    "            self.optimiser = self.sgld_optim\n",
    "            self.disc_optimiser = self.disc_sgld_optim\n",
    "        else:\n",
    "            self.optimiser = self.sgd_optim\n",
    "            self.disc_optimiser = self.disc_sgd_optim\n",
    "\n",
    "        contin_loss = lambda p: self.log_prior(params) + self.log_likelihood(p, gamma, x, y)\n",
    "        # contin_loss = lambda p: self.log_likelihood(p, gamma, x, y)\n",
    "\n",
    "        grads = jax.grad(contin_loss)(params)\n",
    "        updates, opt_state = self.optimiser.update(key, grads, opt_state)\n",
    "        params = optax.apply_updates(params, updates)\n",
    "\n",
    "        disc_loss = lambda g: self.alpha*self.ising_prior(g) + self.log_likelihood(params, g, x, y)\n",
    "        disc_logprob, disc_grads = jax.value_and_grad(disc_loss)(gamma)\n",
    "        gamma, disc_opt_state = self.disc_optimiser.update(key, gamma, disc_grads, disc_opt_state)\n",
    "        return params, gamma, opt_state, disc_opt_state\n",
    "\n",
    "    def _forward_fn(self, x, gamma):\n",
    "        x = x @ jnp.diag(gamma)\n",
    "        for hd in self.hidden_sizes:\n",
    "            x = hk.Linear(hd, w_init=self.init_fn)(x)\n",
    "            x = self.act_fn(x)\n",
    "\n",
    "        x = hk.Linear(1)(x)\n",
    "        return x\n",
    "\n",
    "    def log_prior(self, params):\n",
    "        \"\"\"Computes the Gaussian prior log-density.\"\"\"\n",
    "        logprob_tree = jax.tree_util.tree_leaves(jax.tree_util.tree_map(lambda x: jnp.sum(self.weight_prior.log_prob(x.reshape(-1)) / self.temperature),\n",
    "                                                                            params))\n",
    "        \n",
    "        return sum(logprob_tree)\n",
    "\n",
    "    def log_likelihood(self, params, gamma, x, y):\n",
    "        preds = self.apply(params, gamma, x).ravel()\n",
    "        log_prob = jnp.sum(tfd.Normal(preds, self.temperature).log_prob(y))\n",
    "        batch_size = x.shape[0]\n",
    "        log_prob = (self.data_size/batch_size)*log_prob\n",
    "\n",
    "        # l2_regulariser = 0.5 * sum(\n",
    "        #     jnp.sum(jnp.square(p)) for p in jax.tree_util.tree_leaves(params))\n",
    "\n",
    "        return log_prob\n",
    "\n",
    "    def ising_prior(self, gamma):\n",
    "        \"\"\"Log probability of the Ising model - prior over the discrete variables\"\"\"\n",
    "        return (-0.5*self.eta*(gamma.T @ self.J @ gamma) - self.mu*jnp.sum(gamma)) / self.temperature"
   ],
   "metadata": {
    "collapsed": false,
    "pycharm": {
     "name": "#%%\n"
    }
   }
  },
  {
   "cell_type": "code",
   "execution_count": 16,
   "outputs": [],
   "source": [
    "from sklearn.metrics import r2_score\n",
    "import torch\n",
    "torch.backends.cudnn.deterministic = True\n",
    "\n",
    "def init_bnn_model(seed, train_loader, epochs, lr_0, num_cycles, temp, sigma, hidden_sizes, act_fn):\n",
    "    torch.manual_seed(seed)\n",
    "    num_batches = len(train_loader)\n",
    "    data_size = X.shape[0]\n",
    "    total_steps = num_batches*epochs\n",
    "    step_size_fn = make_cyclical_lr_fn(lr_0, total_steps, num_cycles)\n",
    "    sgd_optim = sgd_gradient_update(step_size_fn, momentum_decay=0, preconditioner=get_rmsprop_preconditioner())\n",
    "    sgld_optim = sgld_gradient_update(step_size_fn, momentum_decay=0, preconditioner=get_rmsprop_preconditioner())\n",
    "\n",
    "    model = BayesNN(sgd_optim, sgld_optim,\n",
    "                      temp, sigma, data_size, hidden_sizes, act_fn)\n",
    "\n",
    "    return model\n",
    "\n",
    "\n",
    "def train_bnn_model(seed, train_loader, epochs, num_cycles, beta, lr_0,\n",
    "                       hidden_sizes, temp, sigma, act_fn=jax.nn.relu):\n",
    "\n",
    "    rng_key = jax.random.PRNGKey(seed)\n",
    "    model = init_bnn_model(seed, train_loader, epochs, lr_0, num_cycles, temp, sigma, hidden_sizes, act_fn)\n",
    "\n",
    "    # cycle_len = epochs // num_cycles\n",
    "    num_batches = len(train_loader)\n",
    "    M = (epochs*num_batches) // num_cycles\n",
    "    init_params, init_opt_state = model.init(rng_key, next(iter(train_loader))[0])\n",
    "\n",
    "\n",
    "    states = []\n",
    "    params, opt_state = init_params, init_opt_state\n",
    "    step = 0\n",
    "    key = rng_key\n",
    "    for epoch in range(epochs):\n",
    "        for batch_x, batch_y in train_loader:\n",
    "            _, key = jax.random.split(key, 2)\n",
    "            rk = (step % M) / M\n",
    "            params, opt_state = model.update(key, params, opt_state, batch_x, batch_y)\n",
    "            if rk > beta:\n",
    "                model.add_noise = True\n",
    "                states.append(params)\n",
    "            else:\n",
    "                model.add_noise = False\n",
    "            step += 1\n",
    "\n",
    "    return model, states\n",
    "\n",
    "def eval_bnn_model(model, X, y, params):\n",
    "\n",
    "    if isinstance(params, list):\n",
    "        y_preds = np.zeros((len(params), len(y)))\n",
    "        for i, param in enumerate(params):\n",
    "            preds = model.apply(param, X).ravel()\n",
    "            y_preds[i] = preds\n",
    "\n",
    "        y_preds = np.mean(y_preds, axis=0)\n",
    "        rmse = jnp.sqrt(jnp.mean((y - y_preds)**2))\n",
    "    else:\n",
    "        y_preds = model.apply(params, X).ravel()\n",
    "        rmse = jnp.sqrt(jnp.mean((y - y_preds)**2))\n",
    "\n",
    "    return rmse\n",
    "\n",
    "def score_bnn_model(model, X, y, params):\n",
    "    if isinstance(params, list):\n",
    "        y_preds = np.zeros((len(params), len(y)))\n",
    "        for i, param in enumerate(params):\n",
    "            preds = model.apply(param, X).ravel()\n",
    "            # preds_mean = preds[::2]\n",
    "            y_preds[i] = preds\n",
    "\n",
    "        y_preds = np.mean(y_preds, axis=0)\n",
    "        rmse = jnp.sqrt(jnp.mean((y - y_preds)**2))\n",
    "        if np.isfinite(y_preds).all():\n",
    "            r2 = r2_score(y, y_preds)\n",
    "        else:\n",
    "            r2 = np.nan\n",
    "    else:\n",
    "        y_preds = model.apply(params, X)\n",
    "        preds_mean = y_preds[::2]\n",
    "        rmse = jnp.sqrt(jnp.mean((y - preds_mean)**2))\n",
    "        if np.isfinite(y_preds).all():\n",
    "            r2 = r2_score(y, y_preds)\n",
    "        else:\n",
    "            r2 = np.nan\n",
    "\n",
    "    return rmse, r2\n",
    "\n",
    "def eval_per_model_score(model, X, y, params):\n",
    "    scores = []\n",
    "\n",
    "    for param in params:\n",
    "        preds = model.apply(param, X).ravel()\n",
    "        # preds_mean = preds[::2]\n",
    "        rmse = jnp.sqrt(jnp.mean((y - preds)**2))\n",
    "        scores.append(rmse)\n",
    "\n",
    "\n",
    "\n",
    "    return np.array(scores)"
   ],
   "metadata": {
    "collapsed": false,
    "pycharm": {
     "name": "#%%\n"
    }
   }
  },
  {
   "cell_type": "code",
   "execution_count": 17,
   "outputs": [
    {
     "name": "stdout",
     "output_type": "stream",
     "text": [
      "11862\n",
      "9186\n"
     ]
    }
   ],
   "source": [
    "J = np.load(f\"{data_dir}/cell_line/cancer_genes_net.npy\")\n",
    "J_lm = np.load(f\"{data_dir}/cell_line/landmark_genes_net.npy\")\n",
    "print(np.count_nonzero(J))\n",
    "print(np.count_nonzero(J_lm))"
   ],
   "metadata": {
    "collapsed": false,
    "pycharm": {
     "name": "#%%\n"
    }
   }
  },
  {
   "cell_type": "code",
   "execution_count": 49,
   "outputs": [
    {
     "data": {
      "text/plain": "array([[ 0.   , -0.   , -0.   , ..., -0.   , -0.   , -0.   ],\n       [-0.   , 20.393, -0.   , ..., -0.   , -0.   , -0.   ],\n       [-0.   , -0.   , 15.877, ..., -0.   , -0.   , -0.   ],\n       ...,\n       [-0.   , -0.   , -0.   , ..., 39.532, -0.   , -0.   ],\n       [-0.   , -0.   , -0.   , ..., -0.   ,  5.724, -0.   ],\n       [-0.   , -0.   , -0.   , ..., -0.   , -0.   ,  2.819]])"
     },
     "execution_count": 49,
     "metadata": {},
     "output_type": "execute_result"
    }
   ],
   "source": [
    "from scipy.sparse import csgraph\n",
    "L = csgraph.laplacian(J, normed=False)\n",
    "L"
   ],
   "metadata": {
    "collapsed": false,
    "pycharm": {
     "name": "#%%\n"
    }
   }
  },
  {
   "cell_type": "markdown",
   "source": [
    "#### Training loop"
   ],
   "metadata": {
    "collapsed": false,
    "pycharm": {
     "name": "#%% md\n"
    }
   }
  },
  {
   "cell_type": "code",
   "execution_count": 18,
   "outputs": [],
   "source": [
    "import torch\n",
    "from sklearn.metrics import r2_score\n",
    "\n",
    "def get_act_fn(name):\n",
    "    if name == \"relu\":\n",
    "        return jax.nn.relu\n",
    "    if name == \"swish\":\n",
    "        return jax.nn.swish\n",
    "    if name == \"tanh\":\n",
    "        return jax.nn.tanh\n",
    "    if name == \"sigmoid\":\n",
    "        return jax.nn.sigmoid\n",
    "    if name == \"celu\":\n",
    "        return jax.nn.celu\n",
    "    if name == \"relu6\":\n",
    "        return jax.nn.relu6\n",
    "    if name == \"glu\":\n",
    "        return jax.nn.glu\n",
    "    if name == \"elu\":\n",
    "        return jax.nn.elu\n",
    "    if name == \"leaky_relu\":\n",
    "        return jax.nn.leaky_relu\n",
    "    if name == \"log_sigmoid\":\n",
    "        return jax.nn.log_sigmoid\n",
    "\n",
    "    return ValueError(f\"Unknown activation function: {name}\")\n",
    "\n",
    "def init_bg_bnn_model(seed, train_loader, epochs, lr_0, disc_lr_0, num_cycles, temp, sigma, hidden_sizes, J, eta, mu, alpha, act_fn, init_fn):\n",
    "    torch.manual_seed(seed)\n",
    "    num_batches = len(train_loader)\n",
    "    data_size = X.shape[0]\n",
    "    total_steps = num_batches*epochs\n",
    "    step_size_fn = make_cyclical_lr_fn(lr_0, total_steps, num_cycles)\n",
    "    disc_step_size_fn = make_cyclical_lr_fn(disc_lr_0, total_steps, num_cycles)\n",
    "    # disc_step_size_fn = lambda step: disc_lr_0\n",
    "    sgd_optim = sgd_gradient_update(step_size_fn, momentum_decay=0, preconditioner=get_rmsprop_preconditioner())\n",
    "    sgld_optim = sgld_gradient_update(step_size_fn, momentum_decay=0, preconditioner=get_rmsprop_preconditioner())\n",
    "\n",
    "    disc_sgd_optim = disc_sgld_gradient_update(disc_step_size_fn, momentum_decay=0, preconditioner=get_identity_preconditioner())\n",
    "    disc_sgld_optim = disc_sgld_gradient_update(disc_step_size_fn, momentum_decay=0, preconditioner=get_identity_preconditioner())\n",
    "\n",
    "    model = BgBayesNN(sgd_optim, sgld_optim, disc_sgd_optim, disc_sgld_optim,\n",
    "                      temp, sigma, data_size, hidden_sizes,\n",
    "                      J, eta, mu, alpha, act_fn, init_fn)\n",
    "\n",
    "    return model\n",
    "\n",
    "\n",
    "def train_bg_bnn_model(seed, train_loader, epochs, num_cycles, beta, beta_noise, lr_0, disc_lr_0,\n",
    "                    hidden_sizes, temp, sigma, eta, mu, alpha, J, act_fn_name):\n",
    "\n",
    "    rng_key = jax.random.PRNGKey(seed)\n",
    "    act_fn = get_act_fn(act_fn_name)\n",
    "\n",
    "    # if act_fn_name in [\"relu\", \"relu6\", \"leaky_relu\", \"swish\"]:\n",
    "    #     init_fn = hk.initializers.VarianceScaling(2.0, \"fan_in\",  \"truncated_normal\")\n",
    "    # else:\n",
    "    #     init_fn = hk.initializers.VarianceScaling(1.0, \"fan_avg\", \"truncated_normal\")\n",
    "    init_fn = hk.initializers.VarianceScaling()\n",
    "\n",
    "    model = init_bg_bnn_model(seed, train_loader, epochs, lr_0, disc_lr_0, num_cycles, temp, sigma, hidden_sizes, J, eta, mu, alpha, act_fn, init_fn)\n",
    "\n",
    "    num_batches = len(train_loader)\n",
    "    M = (epochs*num_batches) // num_cycles\n",
    "    # cycle_len = epochs // num_cycles\n",
    "    init_params, init_gamma, init_opt_state, init_disc_opt_state = model.init(rng_key, next(iter(train_loader))[0])\n",
    "\n",
    "    states = []\n",
    "    disc_states = []\n",
    "    params, gamma, opt_state, disc_opt_state = init_params, init_gamma, init_opt_state, init_disc_opt_state\n",
    "    step = 0\n",
    "    key = rng_key\n",
    "    for epoch in range(epochs):\n",
    "        for batch_x, batch_y in train_loader:\n",
    "            _, key = jax.random.split(key, 2)\n",
    "            rk = (step % M) / M\n",
    "            params, gamma, opt_state, disc_opt_state = model.update(key, params, gamma, opt_state, disc_opt_state, batch_x, batch_y)\n",
    "            if rk > beta_noise:\n",
    "                model.add_noise = True\n",
    "            else:\n",
    "                model.add_noise = False\n",
    "\n",
    "            if rk > beta:\n",
    "                states.append(params)\n",
    "                disc_states.append(gamma)\n",
    "\n",
    "            step += 1\n",
    "        # if (epoch % cycle_len) + 1 > (cycle_len - n_models_per_cycle):\n",
    "        #     # print(epoch)\n",
    "        #     states.append(params)\n",
    "        #     disc_states.append(gamma)\n",
    "        # val_loss = eval_bg_bnn_model(model, X_val, y_val, params, gamma)\n",
    "        # val_losses.append(val_loss)\n",
    "\n",
    "    return model, states, disc_states\n",
    "\n",
    "def eval_bg_bnn_model(model, X, y, params, gammas):\n",
    "\n",
    "    if isinstance(params, list):\n",
    "        y_preds = np.zeros((len(params), len(y)))\n",
    "        for i, (param, gamma) in enumerate(zip(params, gammas)):\n",
    "            preds = model.apply(param, gamma, X).ravel()\n",
    "            y_preds[i] = preds\n",
    "\n",
    "        y_preds = np.mean(y_preds, axis=0)\n",
    "        rmse = jnp.sqrt(jnp.mean((y - y_preds)**2))\n",
    "    else:\n",
    "        y_preds = model.apply(params, gammas, X).ravel()\n",
    "        rmse = jnp.sqrt(jnp.mean((y - y_preds)**2))\n",
    "\n",
    "    return rmse\n",
    "\n",
    "def score_bg_bnn_model(model, X, y, params, gammas):\n",
    "    if isinstance(params, list):\n",
    "        y_preds = np.zeros((len(params), len(y)))\n",
    "        for i, (param, gamma) in enumerate(zip(params, gammas)):\n",
    "            preds = model.apply(param, gamma, X).ravel()\n",
    "            # preds_mean = preds[::2]\n",
    "            y_preds[i] = preds\n",
    "\n",
    "        y_preds = np.mean(y_preds, axis=0)\n",
    "        rmse = jnp.sqrt(jnp.mean((y - y_preds)**2))\n",
    "        if np.isfinite(y_preds).all():\n",
    "            r2 = r2_score(y, y_preds)\n",
    "        else:\n",
    "            r2 = np.nan\n",
    "    else:\n",
    "        y_preds = model.apply(params, gammas, X)\n",
    "        preds_mean = y_preds[::2]\n",
    "        rmse = jnp.sqrt(jnp.mean((y - preds_mean)**2))\n",
    "        if np.isfinite(y_preds).all():\n",
    "            r2 = r2_score(y, y_preds)\n",
    "        else:\n",
    "            r2 = np.nan\n",
    "\n",
    "    return rmse, r2\n",
    "\n",
    "def eval_per_model_score_bg(model, X, y, params, gammas):\n",
    "    scores = []\n",
    "\n",
    "    for param, gamma in zip(params, gammas):\n",
    "        preds = model.apply(param, gamma, X).ravel()\n",
    "        # preds_mean = preds[::2]\n",
    "        rmse = jnp.sqrt(jnp.mean((y - preds)**2))\n",
    "        scores.append(rmse)\n",
    "\n",
    "\n",
    "\n",
    "    return np.array(scores)"
   ],
   "metadata": {
    "collapsed": false,
    "pycharm": {
     "name": "#%%\n"
    }
   }
  },
  {
   "cell_type": "markdown",
   "source": [
    "##### Dropout Loss"
   ],
   "metadata": {
    "collapsed": false,
    "pycharm": {
     "name": "#%% md\n"
    }
   }
  },
  {
   "cell_type": "code",
   "execution_count": 11,
   "outputs": [],
   "source": [
    "def evaluate_bnn_bg_models(model, X, y, params, gammas):\n",
    "    eval_fn = lambda p, g: model.apply(p, g, X).ravel()\n",
    "    preds = jax.vmap(eval_fn)(params, gammas)\n",
    "    preds = preds.reshape(-1, preds.shape[-1])\n",
    "    losses = jax.vmap(lambda x, z: jnp.sqrt(jnp.mean((x - z)**2)), in_axes=(0, None))(preds, y)\n",
    "    # mean_loss = jnp.sqrt(jnp.mean(losses, axis=-1))\n",
    "    return jnp.mean(losses)\n",
    "\n",
    "\n",
    "def get_feats_dropout_loss(model, params, gammas, X, y):\n",
    "    var_loss_dict = {\"feats_idx\": [], \"num_models\": [] , \"loss_on\": [], \"loss_off\": [], \"loss_diff\": []}\n",
    "    \n",
    "    disc_states = tree_utils.tree_stack(gammas)\n",
    "    contin_states = tree_utils.tree_stack(params)\n",
    "\n",
    "    eval_fn = jax.jit(lambda X, y, params, gammas: evaluate_bnn_bg_models(model, X, y, params, gammas))\n",
    "    p = X.shape[1]\n",
    "\n",
    "    for idx in range(p):\n",
    "        idx_on = np.argwhere(disc_states[:,idx] == 1.).ravel()\n",
    "        loss_on, loss_off = 0., 0.\n",
    "        if idx_on.size == 0: ## irrelevant feature\n",
    "            loss_diff = 1e9\n",
    "        else:\n",
    "            disc_states_on = disc_states[idx_on]\n",
    "            params_on = jax.tree_util.tree_map(lambda x: x[idx_on], contin_states)\n",
    "            loss_on = eval_fn(X, y, params_on, disc_states_on)\n",
    "\n",
    "            # Turn-off the variable, and see how the loss changes\n",
    "            disc_states_off = disc_states_on.at[:,idx].set(0)\n",
    "            loss_off = eval_fn(X, y, params_on, disc_states_off)\n",
    "\n",
    "            # loss_diff = (loss_on - loss_off) * (len(idx_on) / num_models)\n",
    "            loss_diff = (loss_on - loss_off)\n",
    "\n",
    "\n",
    "        var_loss_dict[\"feats_idx\"].append(idx)\n",
    "        var_loss_dict[\"num_models\"].append(idx_on.size)\n",
    "        var_loss_dict[\"loss_on\"].append(loss_on)\n",
    "        var_loss_dict[\"loss_off\"].append(loss_off)\n",
    "        var_loss_dict[\"loss_diff\"].append(loss_diff)\n",
    "\n",
    "\n",
    "    var_loss_df = pd.DataFrame(var_loss_dict).sort_values(by=\"loss_diff\")\n",
    "\n",
    "    return var_loss_df\n",
    "\n",
    "def get_gene_names(gene_cols):\n",
    "    return [gene.split(\"(\")[0].strip() for gene in gene_cols]"
   ],
   "metadata": {
    "collapsed": false,
    "pycharm": {
     "name": "#%%\n"
    }
   }
  },
  {
   "cell_type": "markdown",
   "source": [
    "##### Optuna"
   ],
   "metadata": {
    "collapsed": false,
    "pycharm": {
     "name": "#%% md\n"
    }
   }
  },
  {
   "cell_type": "code",
   "execution_count": 12,
   "outputs": [],
   "source": [
    "import optuna\n",
    "from operator import itemgetter\n",
    "\n",
    "def objective(trial, seed, x_train, x_val, y_train, y_val, J, epochs, beta, beta_noise,\n",
    "              batch_size, hidden_sizes, act_fn, bg=True):\n",
    "\n",
    "    num_cycles = 50\n",
    "    beta, beta_noise = 0.99, 0.3\n",
    "    lr_0, disc_lr_0 = 1e-3, 0.5\n",
    "    temp = trial.suggest_categorical(\"temp\", [1e-5, 1e-4, 1e-3, 1e-2, 1e-1, 1.])\n",
    "    sigma = 1.0\n",
    "    if bg:\n",
    "        eta = trial.suggest_float(\"eta\", 1.0, 1e2)\n",
    "    else:\n",
    "        eta = 1.0\n",
    "    mu = trial.suggest_float(\"mu\", 1.0, 1e2)\n",
    "\n",
    "    M = 10\n",
    "\n",
    "\n",
    "    torch.manual_seed(seed)\n",
    "    data_loader = NumpyLoader(NumpyData(x_train, y_train), batch_size=batch_size, shuffle=False, drop_last=True)\n",
    "\n",
    "\n",
    "    bg_bnn_model, states, disc_states = train_bg_bnn_model(seed, data_loader, epochs, num_cycles, beta, beta_noise, lr_0, disc_lr_0,\n",
    "                                                           hidden_sizes, temp, sigma, eta, mu, alpha, J, act_fn)\n",
    "\n",
    "    val_losses = eval_per_model_score_bg(bg_bnn_model, x_val, y_val, states, disc_states)\n",
    "    model_idxs = jnp.argsort(val_losses).squeeze()[:M]\n",
    "    states_sel, disc_states_sel = list(itemgetter(*model_idxs)(states)), list(itemgetter(*model_idxs)(disc_states))\n",
    "    rmse = eval_bg_bnn_model(bg_bnn_model, x_val, y_val, states_sel, disc_states_sel)\n",
    "\n",
    "    return rmse"
   ],
   "metadata": {
    "collapsed": false,
    "pycharm": {
     "name": "#%%\n"
    }
   }
  },
  {
   "cell_type": "code",
   "execution_count": 199,
   "outputs": [
    {
     "name": "stderr",
     "output_type": "stream",
     "text": [
      "\u001B[32m[I 2023-01-31 11:40:01,706]\u001B[0m A new study created in memory with name: no-name-58cae751-3dbe-4b19-975d-f3fd6c3c58a2\u001B[0m\n",
      "\u001B[32m[I 2023-01-31 11:40:33,135]\u001B[0m Trial 0 finished with value: 0.44382748007774353 and parameters: {'eta': 72.83127510216542, 'mu': 29.765881735911844}. Best is trial 0 with value: 0.44382748007774353.\u001B[0m\n",
      "\u001B[32m[I 2023-01-31 11:41:04,039]\u001B[0m Trial 1 finished with value: 0.4497864246368408 and parameters: {'eta': 17.868812604271895, 'mu': 9.210671559757277}. Best is trial 0 with value: 0.44382748007774353.\u001B[0m\n",
      "\u001B[32m[I 2023-01-31 11:41:35,058]\u001B[0m Trial 2 finished with value: 0.4516977369785309 and parameters: {'eta': 39.26543589516153, 'mu': 15.051395065272855}. Best is trial 0 with value: 0.44382748007774353.\u001B[0m\n",
      "\u001B[32m[I 2023-01-31 11:42:05,573]\u001B[0m Trial 3 finished with value: 0.4438244104385376 and parameters: {'eta': 53.5880084803282, 'mu': 41.06212983700065}. Best is trial 3 with value: 0.4438244104385376.\u001B[0m\n"
     ]
    }
   ],
   "source": [
    "optuna.logging.set_verbosity(optuna.logging.INFO)\n",
    "sampler = optuna.samplers.TPESampler()\n",
    "study = optuna.create_study(sampler=sampler)\n",
    "# act_fn = jax.nn.swish\n",
    "study.optimize(lambda trial: objective(trial, seed, X_train, X_val, y_train, y_val, J, 1000, 0.99, 0.3, 16, [500], \"swish\"), timeout=120)"
   ],
   "metadata": {
    "collapsed": false,
    "pycharm": {
     "name": "#%%\n"
    }
   }
  },
  {
   "cell_type": "code",
   "execution_count": 198,
   "outputs": [],
   "source": [
    "def zero_out(model, X, y, states, disc_states, m, dropout_df):\n",
    "    feat_idxs = dropout_df[\"feats_idx\"].iloc[:m].to_list()\n",
    "    mask = np.zeros(X.shape[1])\n",
    "    mask[feat_idxs] = 1.0\n",
    "    X_mask = X @ np.diag(mask)\n",
    "    rmse, _ = score_bg_bnn_model(model, X_mask, y, states, disc_states)\n",
    "    return rmse"
   ],
   "metadata": {
    "collapsed": false,
    "pycharm": {
     "name": "#%%\n"
    }
   }
  },
  {
   "cell_type": "markdown",
   "source": [
    "\n",
    "#### Random Forest"
   ],
   "metadata": {
    "collapsed": false,
    "pycharm": {
     "name": "#%% md\n"
    }
   }
  },
  {
   "cell_type": "code",
   "execution_count": 21,
   "outputs": [],
   "source": [
    "from sklearn.ensemble import RandomForestRegressor\n",
    "from sklearn.model_selection import GridSearchCV, KFold\n",
    "from sklearn.metrics import r2_score\n",
    "\n",
    "def train_rf_model(seed, X, y, train_idxs, val_idxs):\n",
    "\n",
    "    # cv = KFold(n_splits=5)\n",
    "    cv = [(train_idxs, val_idxs) for _ in range(5)]\n",
    "    param_grid = {\n",
    "        'max_depth': [80, 100, 120],\n",
    "        'max_features': [2, 3],\n",
    "        'min_samples_leaf': [3, 4, 5],\n",
    "        'min_samples_split': [8, 10, 12],\n",
    "        'n_estimators': [100, 500, 1000]\n",
    "    }\n",
    "\n",
    "    rf_reg = RandomForestRegressor(random_state=seed, max_samples=1.0)\n",
    "    grid_cv = GridSearchCV(estimator = rf_reg, param_grid = param_grid,\n",
    "                           cv = cv, n_jobs = -1, verbose = 0, scoring=\"neg_root_mean_squared_error\").fit(X, y)\n",
    "\n",
    "    rf_reg = RandomForestRegressor(random_state=seed, max_samples=1.0, **grid_cv.best_params_)\n",
    "    rf_reg.fit(X, y)\n",
    "\n",
    "    return rf_reg\n",
    "\n",
    "def eval_rf_model(model, X, y):\n",
    "    y_preds = model.predict(X)\n",
    "    rmse = jnp.sqrt(jnp.mean((y - y_preds)**2))\n",
    "    r2 = r2_score(y, y_preds)\n",
    "    return rmse, r2"
   ],
   "metadata": {
    "collapsed": false,
    "pycharm": {
     "name": "#%%\n"
    }
   }
  },
  {
   "cell_type": "markdown",
   "source": [
    "#### Multiple Runs"
   ],
   "metadata": {
    "collapsed": false,
    "pycharm": {
     "name": "#%% md\n"
    }
   }
  },
  {
   "cell_type": "code",
   "execution_count": 13,
   "outputs": [],
   "source": [
    "from tqdm import tqdm\n",
    "from sklearn.preprocessing import QuantileTransformer\n",
    "from sklearn.metrics import r2_score\n",
    "import pickle\n",
    "import warnings\n",
    "from operator import itemgetter\n",
    "\n",
    "warnings.filterwarnings(\"ignore\")\n",
    "\n",
    "\n",
    "epochs = 1000\n",
    "num_cycles = 50\n",
    "batch_size = 16\n",
    "act_fn = \"swish\"\n",
    "beta, beta_noise = 0.99, 0.3\n",
    "lr_0, disc_lr_0 = 1e-3, 0.5\n",
    "hidden_sizes = [500]\n",
    "# temp, sigma = 1e-4, 1.0\n",
    "sigma = 1.0\n",
    "# eta, mu = 1.0, 1.0\n",
    "alpha = 1.0\n",
    "\n",
    "M = 30\n",
    "\n",
    "# epochs = 200\n",
    "# hidden_sizes = [512, 256, 128, 64, 32]\n",
    "# beta_noise = 0.25\n",
    "# batch_size = 32\n",
    "# act_fn = \"relu\"\n",
    "\n",
    "save_dir = f\"{data_dir}/exp_data_5/cancer/gdsc/tamox\"\n",
    "\n",
    "optuna.logging.set_verbosity(optuna.logging.WARNING)\n",
    "\n",
    "# bg_bnn_configs = []\n",
    "# bnn_configs = []\n",
    "\n",
    "VERSION = \"9g\"\n",
    "\n",
    "def cross_val_run(seeds, X, y, J):\n",
    "    J_zero = np.zeros_like(J)\n",
    "\n",
    "    i = 0\n",
    "    for seed in tqdm(seeds):\n",
    "        # if not os.path.exists(f\"{save_dir}/results/bnn_rf_bg_s_{seed}_v{VERSION}.csv\"):\n",
    "        bnn_rf_bg_dict = {\"seed\":[], \"model\": [], \"test_rmse\": [], \"test_r2_score\": []}\n",
    "        X_train_outer_df, X_test_df, y_train_outer_df, y_test_df = train_test_split(X, y, random_state=seed, shuffle=True, test_size=0.2)\n",
    "\n",
    "        train_transformer = QuantileTransformer(random_state=seed, output_distribution=\"normal\").fit(X_train_outer_df)\n",
    "        train_transformed = train_transformer.transform(X_train_outer_df)\n",
    "        test_transformed = train_transformer.transform(X_test_df)\n",
    "\n",
    "        X_train_outer_df = pd.DataFrame(train_transformed, columns=X_train_outer_df.columns)\n",
    "        X_test_df = pd.DataFrame(test_transformed, columns=X_test_df.columns)\n",
    "\n",
    "        X_train_df, X_val_df, y_train_df, y_val_df = train_test_split(X_train_outer_df, y_train_outer_df, shuffle=True,\n",
    "                                                                      random_state=seed, test_size=0.2)\n",
    "\n",
    "\n",
    "        train_indices, val_indices = X_train_df.index.to_list(), X_val_df.index.to_list()\n",
    "        X_train_outer, y_train_outer = X_train_outer_df.values, y_train_outer_df.values\n",
    "        X_train, y_train = X_train_df.values, y_train_df.values\n",
    "        X_val, y_val = X_val_df.values, y_val_df.values\n",
    "        X_test, y_test = X_test_df.values, y_test_df.values\n",
    "\n",
    "        torch.manual_seed(seed)\n",
    "        outer_data_loader = NumpyLoader(NumpyData(X_train_outer, y_train_outer), batch_size=batch_size, shuffle=True)\n",
    "\n",
    "        ### BNN + BG\n",
    "        sampler = optuna.samplers.TPESampler(seed=seed)\n",
    "        study = optuna.create_study(sampler=sampler)\n",
    "        study.optimize(lambda trial: objective(trial, seed, X_train, X_val, y_train, y_val, J, epochs, beta, beta_noise, batch_size, hidden_sizes, act_fn, bg=True), timeout=180)\n",
    "        bnn_bg_config = study.best_params\n",
    "\n",
    "        # bnn_bg_config = pickle.load(open(f\"{save_dir}/configs/bg_bnn_config_s_{seed}_optuna_v9f.pkl\", \"rb\"))\n",
    "\n",
    "        eta, mu = bnn_bg_config[\"eta\"], bnn_bg_config[\"mu\"]\n",
    "        temp = bnn_bg_config[\"temp\"]\n",
    "        bg_bnn_model, bg_bnn_states, bg_disc_states = train_bg_bnn_model(seed, outer_data_loader, epochs, num_cycles, beta, beta_noise, lr_0, disc_lr_0,\n",
    "                                                                         hidden_sizes, temp, sigma, eta, mu, alpha, J, act_fn)\n",
    "\n",
    "        bnn_bg_rmse_test, bnn_bg_r2_test = score_bg_bnn_model(bg_bnn_model, X_test, y_test, bg_bnn_states, bg_disc_states)\n",
    "\n",
    "\n",
    "\n",
    "\n",
    "        # pickle.dump(bg_bnn_states, open(f\"{save_dir}/checkpoints/bg_bnn_states_s_{seed}_v{VERSION}.pkl\", \"wb\"))\n",
    "        # pickle.dump(bg_disc_states, open(f\"{save_dir}/checkpoints/bg_bnn_disc_states_s_{seed}_v{VERSION}.pkl\", \"wb\"))\n",
    "        pickle.dump(bnn_bg_config ,open(f\"{save_dir}/configs/bg_bnn_config_s_{seed}_optuna_v9{VERSION}.pkl\", \"wb\"))\n",
    "\n",
    "        ### BNN w/o BG\n",
    "        sampler = optuna.samplers.TPESampler(seed=seed)\n",
    "        study = optuna.create_study(sampler=sampler)\n",
    "        study.optimize(lambda trial: objective(trial, seed, X_train, X_val, y_train, y_val, J_zero, epochs, beta, beta_noise, batch_size, hidden_sizes, act_fn, bg=False), timeout=180)\n",
    "        bnn_config = study.best_params\n",
    "\n",
    "        # bnn_config = pickle.load(open(f\"{save_dir}/configs/bnn_config_s_{seed}_optuna_v9f.pkl\", \"rb\"))\n",
    "\n",
    "        eta, mu = 1.0, bnn_config[\"mu\"]\n",
    "        temp = bnn_config[\"temp\"]\n",
    "        bnn_model, bnn_states, bnn_disc_states = train_bg_bnn_model(seed, outer_data_loader, epochs, num_cycles, beta, beta_noise, lr_0, disc_lr_0,\n",
    "                                                                         hidden_sizes, temp, sigma, eta, mu, alpha, J_zero, act_fn)\n",
    "\n",
    "        bnn_rmse_test, bnn_r2_test = score_bg_bnn_model(bnn_model, X_test, y_test, bnn_states, bnn_disc_states)\n",
    "        # pickle.dump(bnn_states, open(f\"{save_dir}/checkpoints/bnn_states_s_{seed}_v{VERSION}.pkl\", \"wb\"))\n",
    "        # pickle.dump(bnn_disc_states, open(f\"{save_dir}/checkpoints/bnn_disc_states_s_{seed}_v{VERSION}.pkl\", \"wb\"))\n",
    "        pickle.dump(bnn_config ,open(f\"{save_dir}/configs/bnn_config_s_{seed}_optuna_v{VERSION}.pkl\", \"wb\"))\n",
    "\n",
    "        if os.path.exists(f\"{save_dir}/checkpoints/rf_model_s_{seed}.pkl\"):\n",
    "            rf_model = pickle.load(open(f\"{save_dir}/checkpoints/rf_model_s_{seed}.pkl\", \"rb\"))\n",
    "        else:\n",
    "            rf_model = train_rf_model(seed, X_train_outer, y_train_outer, train_indices, val_indices)\n",
    "            pickle.dump(rf_model, open(f\"{save_dir}/checkpoints/rf_model_s_{seed}.pkl\", \"wb\"))\n",
    "\n",
    "        rmse_test_rf, r2_test_rf = eval_rf_model(rf_model, X_test, y_test)\n",
    "\n",
    "        bnn_rf_bg_dict[\"seed\"].append(seed)\n",
    "        bnn_rf_bg_dict[\"model\"].append(\"RF\")\n",
    "        bnn_rf_bg_dict[\"test_rmse\"].append(rmse_test_rf)\n",
    "        bnn_rf_bg_dict[\"test_r2_score\"].append(r2_test_rf)\n",
    "\n",
    "        bnn_rf_bg_dict[\"seed\"].append(seed)\n",
    "        bnn_rf_bg_dict[\"model\"].append(\"BNN w/o BG\")\n",
    "        bnn_rf_bg_dict[\"test_rmse\"].append(bnn_rmse_test)\n",
    "        bnn_rf_bg_dict[\"test_r2_score\"].append(bnn_r2_test)\n",
    "\n",
    "        bnn_rf_bg_dict[\"seed\"].append(seed)\n",
    "        bnn_rf_bg_dict[\"model\"].append(\"BNN + BG\")\n",
    "        bnn_rf_bg_dict[\"test_rmse\"].append(bnn_bg_rmse_test)\n",
    "        bnn_rf_bg_dict[\"test_r2_score\"].append(bnn_bg_r2_test)\n",
    "\n",
    "        print(f\"RF scores - {r2_test_rf}\")\n",
    "        print(f\"BNN w/o scores - {bnn_r2_test}\")\n",
    "        print(f\"BNN + BG scores - {bnn_bg_r2_test}\")\n",
    "\n",
    "        pd.DataFrame(bnn_rf_bg_dict).to_csv(f\"{save_dir}/results/bnn_rf_bg_s_{seed}_v{VERSION}.csv\", index=False)\n",
    "        i += 1\n",
    "        #\n",
    "        # else:\n",
    "        #     print(f\"Result file found for seed {seed}, skipping it...\")\n",
    "\n",
    "    return print(\"Done\")"
   ],
   "metadata": {
    "collapsed": false,
    "pycharm": {
     "name": "#%%\n"
    }
   }
  },
  {
   "cell_type": "code",
   "execution_count": 14,
   "outputs": [
    {
     "name": "stdout",
     "output_type": "stream",
     "text": [
      "20\n"
     ]
    }
   ],
   "source": [
    "save_dir = f\"{data_dir}/exp_data_5/cancer/gdsc/tamox\"\n",
    "seeds = [422,261,968,282,739,573,220,413,745,775,482,442,210,423,760,57,769,920,226,196]\n",
    "curr_seeds = seeds\n",
    "print(len(curr_seeds))\n",
    "# bnn_rf_bg_df = cross_val_run(curr_seeds, X_selected, target, L)\n",
    "# # bnn_rf_bg_df.to_csv(f\"{save_dir}/bnn_rf_bg_df_v5.csv\", index=False)"
   ],
   "metadata": {
    "collapsed": false,
    "pycharm": {
     "name": "#%%\n"
    }
   }
  },
  {
   "cell_type": "code",
   "execution_count": 15,
   "outputs": [
    {
     "data": {
      "text/plain": "            test_rmse  test_r2_score\nmodel                               \nBNN + BG     0.475559       0.257163\nBNN w/o BG   0.474785       0.259563\nRF           0.477881       0.251800",
      "text/html": "<div>\n<style scoped>\n    .dataframe tbody tr th:only-of-type {\n        vertical-align: middle;\n    }\n\n    .dataframe tbody tr th {\n        vertical-align: top;\n    }\n\n    .dataframe thead th {\n        text-align: right;\n    }\n</style>\n<table border=\"1\" class=\"dataframe\">\n  <thead>\n    <tr style=\"text-align: right;\">\n      <th></th>\n      <th>test_rmse</th>\n      <th>test_r2_score</th>\n    </tr>\n    <tr>\n      <th>model</th>\n      <th></th>\n      <th></th>\n    </tr>\n  </thead>\n  <tbody>\n    <tr>\n      <th>BNN + BG</th>\n      <td>0.475559</td>\n      <td>0.257163</td>\n    </tr>\n    <tr>\n      <th>BNN w/o BG</th>\n      <td>0.474785</td>\n      <td>0.259563</td>\n    </tr>\n    <tr>\n      <th>RF</th>\n      <td>0.477881</td>\n      <td>0.251800</td>\n    </tr>\n  </tbody>\n</table>\n</div>"
     },
     "execution_count": 15,
     "metadata": {},
     "output_type": "execute_result"
    }
   ],
   "source": [
    "res_dfs = []\n",
    "for seed in curr_seeds:\n",
    "    df = pd.read_csv(f\"{save_dir}/results/bnn_rf_bg_s_{seed}_v9c.csv\")\n",
    "    res_dfs.append(df)\n",
    "\n",
    "bnn_rf_df_9c = pd.concat(res_dfs, ignore_index=True, axis=0)\n",
    "bnn_rf_df_9c = bnn_rf_df_9c.drop_duplicates()\n",
    "bnn_rf_df_9c.groupby([\"model\"]).mean().iloc[:,1:]"
   ],
   "metadata": {
    "collapsed": false,
    "pycharm": {
     "name": "#%%\n"
    }
   }
  },
  {
   "cell_type": "code",
   "execution_count": 16,
   "outputs": [
    {
     "data": {
      "text/plain": "            test_rmse  test_r2_score\nmodel                               \nBNN + BG     0.471317       0.270662\nBNN w/o BG   0.471387       0.270160\nRF           0.477881       0.251800",
      "text/html": "<div>\n<style scoped>\n    .dataframe tbody tr th:only-of-type {\n        vertical-align: middle;\n    }\n\n    .dataframe tbody tr th {\n        vertical-align: top;\n    }\n\n    .dataframe thead th {\n        text-align: right;\n    }\n</style>\n<table border=\"1\" class=\"dataframe\">\n  <thead>\n    <tr style=\"text-align: right;\">\n      <th></th>\n      <th>test_rmse</th>\n      <th>test_r2_score</th>\n    </tr>\n    <tr>\n      <th>model</th>\n      <th></th>\n      <th></th>\n    </tr>\n  </thead>\n  <tbody>\n    <tr>\n      <th>BNN + BG</th>\n      <td>0.471317</td>\n      <td>0.270662</td>\n    </tr>\n    <tr>\n      <th>BNN w/o BG</th>\n      <td>0.471387</td>\n      <td>0.270160</td>\n    </tr>\n    <tr>\n      <th>RF</th>\n      <td>0.477881</td>\n      <td>0.251800</td>\n    </tr>\n  </tbody>\n</table>\n</div>"
     },
     "execution_count": 16,
     "metadata": {},
     "output_type": "execute_result"
    }
   ],
   "source": [
    "save_dir = f\"{data_dir}/exp_data_5/cancer/gdsc/tamox\"\n",
    "res_dfs = []\n",
    "for seed in curr_seeds:\n",
    "    df = pd.read_csv(f\"{save_dir}/results/bnn_rf_bg_s_{seed}_v9f.csv\")\n",
    "    res_dfs.append(df)\n",
    "\n",
    "bnn_rf_df_9f = pd.concat(res_dfs, axis=0, ignore_index=True)\n",
    "bnn_rf_df_9f = bnn_rf_df_9f.drop_duplicates()\n",
    "bnn_rf_df_9f.groupby([\"model\"]).mean().iloc[:,1:]"
   ],
   "metadata": {
    "collapsed": false,
    "pycharm": {
     "name": "#%%\n"
    }
   }
  },
  {
   "cell_type": "code",
   "execution_count": 18,
   "outputs": [
    {
     "data": {
      "text/plain": "            test_rmse  test_r2_score\nmodel                               \nBNN + BG     0.477275       0.251703\nBNN w/o BG   0.474576       0.260152\nRF           0.477881       0.251800",
      "text/html": "<div>\n<style scoped>\n    .dataframe tbody tr th:only-of-type {\n        vertical-align: middle;\n    }\n\n    .dataframe tbody tr th {\n        vertical-align: top;\n    }\n\n    .dataframe thead th {\n        text-align: right;\n    }\n</style>\n<table border=\"1\" class=\"dataframe\">\n  <thead>\n    <tr style=\"text-align: right;\">\n      <th></th>\n      <th>test_rmse</th>\n      <th>test_r2_score</th>\n    </tr>\n    <tr>\n      <th>model</th>\n      <th></th>\n      <th></th>\n    </tr>\n  </thead>\n  <tbody>\n    <tr>\n      <th>BNN + BG</th>\n      <td>0.477275</td>\n      <td>0.251703</td>\n    </tr>\n    <tr>\n      <th>BNN w/o BG</th>\n      <td>0.474576</td>\n      <td>0.260152</td>\n    </tr>\n    <tr>\n      <th>RF</th>\n      <td>0.477881</td>\n      <td>0.251800</td>\n    </tr>\n  </tbody>\n</table>\n</div>"
     },
     "execution_count": 18,
     "metadata": {},
     "output_type": "execute_result"
    }
   ],
   "source": [
    "save_dir = f\"{data_dir}/exp_data_5/cancer/gdsc/tamox\"\n",
    "res_dfs = []\n",
    "for seed in curr_seeds:\n",
    "    df = pd.read_csv(f\"{save_dir}/results/bnn_rf_bg_s_{seed}_v9g.csv\")\n",
    "    res_dfs.append(df)\n",
    "\n",
    "bnn_rf_df_9g = pd.concat(res_dfs, axis=0, ignore_index=True)\n",
    "bnn_rf_df_9g = bnn_rf_df_9g.drop_duplicates()\n",
    "bnn_rf_df_9g.groupby([\"model\"]).mean().iloc[:,1:]"
   ],
   "metadata": {
    "collapsed": false,
    "pycharm": {
     "name": "#%%\n"
    }
   }
  },
  {
   "cell_type": "code",
   "execution_count": 28,
   "outputs": [],
   "source": [
    "from scipy import stats\n",
    "\n",
    "bg_test_rmse = bnn_rf_df_9g[bnn_rf_df_9g[\"model\"] == \"BNN + BG\"][\"test_rmse\"].to_list()\n",
    "bnn_test_rmse = bnn_rf_df_9g[bnn_rf_df_9g[\"model\"] == \"BNN w/o BG\"][\"test_rmse\"].to_list()\n",
    "rf_test_rmse = bnn_rf_df_9g[bnn_rf_df_9g[\"model\"] == \"RF\"][\"test_rmse\"].to_list()"
   ],
   "metadata": {
    "collapsed": false,
    "pycharm": {
     "name": "#%%\n"
    }
   }
  },
  {
   "cell_type": "code",
   "execution_count": 29,
   "outputs": [
    {
     "data": {
      "text/plain": "          val_rmse  test_rmse  val_r2_score  test_r2_score  temp   mu\nmodel                                                                \nBNN       0.517566   0.498009      0.142463       0.183073  0.01  0.0\nBNN + BG  0.486955   0.474710      0.242950       0.259950  0.01  1.0\nRF        0.489763   0.479711      0.235755       0.245956  0.00  0.0",
      "text/html": "<div>\n<style scoped>\n    .dataframe tbody tr th:only-of-type {\n        vertical-align: middle;\n    }\n\n    .dataframe tbody tr th {\n        vertical-align: top;\n    }\n\n    .dataframe thead th {\n        text-align: right;\n    }\n</style>\n<table border=\"1\" class=\"dataframe\">\n  <thead>\n    <tr style=\"text-align: right;\">\n      <th></th>\n      <th>val_rmse</th>\n      <th>test_rmse</th>\n      <th>val_r2_score</th>\n      <th>test_r2_score</th>\n      <th>temp</th>\n      <th>mu</th>\n    </tr>\n    <tr>\n      <th>model</th>\n      <th></th>\n      <th></th>\n      <th></th>\n      <th></th>\n      <th></th>\n      <th></th>\n    </tr>\n  </thead>\n  <tbody>\n    <tr>\n      <th>BNN</th>\n      <td>0.517566</td>\n      <td>0.498009</td>\n      <td>0.142463</td>\n      <td>0.183073</td>\n      <td>0.01</td>\n      <td>0.0</td>\n    </tr>\n    <tr>\n      <th>BNN + BG</th>\n      <td>0.486955</td>\n      <td>0.474710</td>\n      <td>0.242950</td>\n      <td>0.259950</td>\n      <td>0.01</td>\n      <td>1.0</td>\n    </tr>\n    <tr>\n      <th>RF</th>\n      <td>0.489763</td>\n      <td>0.479711</td>\n      <td>0.235755</td>\n      <td>0.245956</td>\n      <td>0.00</td>\n      <td>0.0</td>\n    </tr>\n  </tbody>\n</table>\n</div>"
     },
     "execution_count": 29,
     "metadata": {},
     "output_type": "execute_result"
    }
   ],
   "source": [
    "bnn_rf_bg_df = pd.read_csv(f\"{save_dir}/bnn_rf_bg_df_v5.csv\")\n",
    "bnn_rf_bg_df.groupby(\"model\").mean().iloc[:,1:]"
   ],
   "metadata": {
    "collapsed": false,
    "pycharm": {
     "name": "#%%\n"
    }
   }
  },
  {
   "cell_type": "code",
   "execution_count": 30,
   "outputs": [],
   "source": [
    "bg_test_rmse_old = bnn_rf_bg_df[bnn_rf_bg_df[\"model\"] == \"BNN + BG\"][\"test_rmse\"]"
   ],
   "metadata": {
    "collapsed": false,
    "pycharm": {
     "name": "#%%\n"
    }
   }
  },
  {
   "cell_type": "code",
   "execution_count": 31,
   "outputs": [
    {
     "data": {
      "text/plain": "Ttest_relResult(statistic=4.729750749471134, pvalue=0.0001458015098575262)"
     },
     "execution_count": 31,
     "metadata": {},
     "output_type": "execute_result"
    }
   ],
   "source": [
    "stats.ttest_rel(bg_test_rmse, bnn_test_rmse)"
   ],
   "metadata": {
    "collapsed": false,
    "pycharm": {
     "name": "#%%\n"
    }
   }
  },
  {
   "cell_type": "code",
   "execution_count": 32,
   "outputs": [
    {
     "data": {
      "text/plain": "Ttest_relResult(statistic=1.019644649049636, pvalue=0.839647185573275)"
     },
     "execution_count": 32,
     "metadata": {},
     "output_type": "execute_result"
    }
   ],
   "source": [
    "stats.ttest_rel(bg_test_rmse, rf_test_rmse, alternative=\"less\")"
   ],
   "metadata": {
    "collapsed": false,
    "pycharm": {
     "name": "#%%\n"
    }
   }
  },
  {
   "cell_type": "code",
   "execution_count": 33,
   "outputs": [
    {
     "data": {
      "text/plain": "Ttest_relResult(statistic=-2.2462956651287844, pvalue=0.018384562171789427)"
     },
     "execution_count": 33,
     "metadata": {},
     "output_type": "execute_result"
    }
   ],
   "source": [
    "stats.ttest_rel(bnn_test_rmse, rf_test_rmse, alternative=\"less\")"
   ],
   "metadata": {
    "collapsed": false,
    "pycharm": {
     "name": "#%%\n"
    }
   }
  },
  {
   "cell_type": "code",
   "execution_count": 34,
   "outputs": [
    {
     "data": {
      "text/plain": "Ttest_relResult(statistic=2.6510615121310845, pvalue=0.9921175358186393)"
     },
     "execution_count": 34,
     "metadata": {},
     "output_type": "execute_result"
    }
   ],
   "source": [
    "stats.ttest_rel(bg_test_rmse, bg_test_rmse_old, alternative=\"less\")"
   ],
   "metadata": {
    "collapsed": false,
    "pycharm": {
     "name": "#%%\n"
    }
   }
  },
  {
   "cell_type": "code",
   "execution_count": 26,
   "outputs": [
    {
     "data": {
      "text/plain": "0.04178123482500186"
     },
     "execution_count": 26,
     "metadata": {},
     "output_type": "execute_result"
    }
   ],
   "source": [
    "np.std(bg_test_rmse)"
   ],
   "metadata": {
    "collapsed": false,
    "pycharm": {
     "name": "#%%\n"
    }
   }
  },
  {
   "cell_type": "code",
   "execution_count": 27,
   "outputs": [
    {
     "data": {
      "text/plain": "0.04088906710737063"
     },
     "execution_count": 27,
     "metadata": {},
     "output_type": "execute_result"
    }
   ],
   "source": [
    "np.std(bnn_test_rmse)"
   ],
   "metadata": {
    "collapsed": false,
    "pycharm": {
     "name": "#%%\n"
    }
   }
  },
  {
   "cell_type": "code",
   "execution_count": 28,
   "outputs": [
    {
     "data": {
      "text/plain": "0.04335967384602632"
     },
     "execution_count": 28,
     "metadata": {},
     "output_type": "execute_result"
    }
   ],
   "source": [
    "np.std(rf_test_rmse)"
   ],
   "metadata": {
    "collapsed": false,
    "pycharm": {
     "name": "#%%\n"
    }
   }
  },
  {
   "cell_type": "code",
   "execution_count": 35,
   "outputs": [],
   "source": [
    "import pickle\n",
    "bg_bnn_configs = []\n",
    "for seed in curr_seeds:\n",
    "    bg_bnn_configs.append(pickle.load(open(f\"{save_dir}/configs/bg_bnn_config_s_{seed}_optuna_v9f.pkl\", \"rb\")))"
   ],
   "metadata": {
    "collapsed": false,
    "pycharm": {
     "name": "#%%\n"
    }
   }
  },
  {
   "cell_type": "code",
   "execution_count": 36,
   "outputs": [],
   "source": [
    "bnn_configs = []\n",
    "for seed in curr_seeds:\n",
    "    bnn_configs.append(pickle.load(open(f\"{save_dir}/configs/bnn_config_s_{seed}_optuna_v9f.pkl\", \"rb\")))"
   ],
   "metadata": {
    "collapsed": false,
    "pycharm": {
     "name": "#%%\n"
    }
   }
  },
  {
   "cell_type": "code",
   "execution_count": 37,
   "outputs": [
    {
     "data": {
      "text/plain": "eta    58.123316\nmu     45.591618\ndtype: float64"
     },
     "execution_count": 37,
     "metadata": {},
     "output_type": "execute_result"
    }
   ],
   "source": [
    "pd.DataFrame(bg_bnn_configs).mean()"
   ],
   "metadata": {
    "collapsed": false,
    "pycharm": {
     "name": "#%%\n"
    }
   }
  },
  {
   "cell_type": "code",
   "execution_count": 46,
   "outputs": [
    {
     "data": {
      "text/plain": "mu    48.207443\ndtype: float64"
     },
     "execution_count": 46,
     "metadata": {},
     "output_type": "execute_result"
    }
   ],
   "source": [
    "pd.DataFrame(bnn_configs).mean()"
   ],
   "metadata": {
    "collapsed": false,
    "pycharm": {
     "name": "#%%\n"
    }
   }
  },
  {
   "cell_type": "code",
   "execution_count": 39,
   "outputs": [],
   "source": [
    "def integrated_gradients(model, st, disc_st, x, N):\n",
    "    params = tree_utils.tree_stack(st)\n",
    "    gammas = tree_utils.tree_stack(disc_st)\n",
    "\n",
    "    p = x.shape[-1]\n",
    "    baseline = jnp.zeros((1, p))\n",
    "    t = jnp.linspace(0, 1, N).reshape(-1, 1)\n",
    "    path = baseline * (1 - t) + x * t\n",
    "\n",
    "    def get_grad(pi):\n",
    "        # compute gradient\n",
    "        # add/remove batch axes\n",
    "        return jnp.mean(jax.vmap(jax.grad(lambda param, gamma, p: model.apply(param, gamma, p).squeeze(), argnums=2),\n",
    "                                 in_axes=(0, 0, None))(params, gammas, pi), axis=0)\n",
    "        # return jnp.mean(jax.vmap(jax.grad(lambda param, gamma, p: model.log_likelihood(param, gamma, p, y).squeeze(), argnums=2), in_axes=(0, 0, None,))(params, gammas, pi), axis=0)\n",
    "\n",
    "    gs = jax.vmap(get_grad)(path)\n",
    "    # print(gs.shape)\n",
    "    # sum pieces (Riemann sum), multiply by (x - x')\n",
    "    ig = jnp.mean(gs, axis=0) * (x.reshape(1, -1) - baseline)\n",
    "    return ig"
   ],
   "metadata": {
    "collapsed": false,
    "pycharm": {
     "name": "#%%\n"
    }
   }
  },
  {
   "cell_type": "markdown",
   "source": [
    "#### Zero-Out Ranking"
   ],
   "metadata": {
    "collapsed": false,
    "pycharm": {
     "name": "#%% md\n"
    }
   }
  },
  {
   "cell_type": "code",
   "execution_count": 42,
   "outputs": [],
   "source": [
    "import pickle\n",
    "from tqdm import tqdm\n",
    "from sklearn.preprocessing import QuantileTransformer\n",
    "from scipy.stats import pearsonr\n",
    "import warnings\n",
    "import optuna\n",
    "warnings.filterwarnings(\"ignore\")\n",
    "\n",
    "num_feats = [10, 20, 30, 40, 50]\n",
    "M = 10\n",
    "def zero_out_ranking(seeds, X, y, J, dropout=True):\n",
    "    J_zero = np.zeros_like(J)\n",
    "    p = X.shape[1]\n",
    "    for seed in tqdm(seeds):\n",
    "        bg_bnn_rf_res_dict = {\"seed\": [], \"model\": [], \"num_feats\": [], \"test_rmse_score\": []}\n",
    "\n",
    "        X_train_outer_df, X_test_df, y_train_outer_df, y_test_df = train_test_split(X, y, random_state=seed, shuffle=True, test_size=0.2)\n",
    "\n",
    "        train_transformer = QuantileTransformer(random_state=seed, output_distribution=\"normal\").fit(X_train_outer_df)\n",
    "        train_transformed = train_transformer.transform(X_train_outer_df)\n",
    "        test_transformed = train_transformer.transform(X_test_df)\n",
    "\n",
    "        X_train_outer_df = pd.DataFrame(train_transformed, columns=X_train_outer_df.columns)\n",
    "        X_test_df = pd.DataFrame(test_transformed, columns=X_test_df.columns)\n",
    "\n",
    "        X_train_df, X_val_df, y_train_df, y_val_df = train_test_split(X_train_outer_df, y_train_outer_df, shuffle=True,\n",
    "                                                                      random_state=seed, test_size=0.2)\n",
    "\n",
    "\n",
    "        train_indices, val_indices = X_train_df.index.to_list(), X_val_df.index.to_list()\n",
    "        X_train_outer, y_train_outer = X_train_outer_df.values, y_train_outer_df.values\n",
    "        X_train, y_train = X_train_df.values, y_train_df.values\n",
    "        X_val, y_val = X_val_df.values, y_val_df.values\n",
    "        X_test, y_test = X_test_df.values, y_test_df.values\n",
    "\n",
    "        torch.manual_seed(seed)\n",
    "        outer_data_loader = NumpyLoader(NumpyData(X_train_outer, y_train_outer), batch_size=batch_size, shuffle=True)\n",
    "\n",
    "\n",
    "        ### BNN + BG\n",
    "\n",
    "        bnn_bg_config = pickle.load(open(f\"{save_dir}/configs/bg_bnn_config_s_{seed}_optuna_v9f.pkl\", \"rb\"))\n",
    "        eta, mu = bnn_bg_config[\"eta\"], bnn_bg_config[\"mu\"]\n",
    "        # bg_bnn_model = init_bg_bnn_model(seed, data_loader, epochs, lr_0, disc_lr_0, num_cycles, temp, sigma, hidden_sizes, J, eta, mu, alpha, act_fn)\n",
    "        # bg_states =  pickle.load(open(f\"{save_dir}/checkpoints/bg_bnn_states_s_{seed}_v{VERSION}.pkl\", \"rb\"))\n",
    "        # bg_disc_states = pickle.load(open(f\"{save_dir}/checkpoints/bg_bnn_disc_states_s_{seed}_v{VERSION}.pkl\", \"rb\"))\n",
    "        bg_bnn_model, bg_bnn_states, bg_disc_states = train_bg_bnn_model(seed, outer_data_loader, epochs, num_cycles, beta, beta_noise, lr_0, disc_lr_0,\n",
    "                                                                         hidden_sizes, temp, sigma, eta, mu, alpha, J, act_fn)\n",
    "\n",
    "        val_losses = eval_per_model_score_bg(bg_bnn_model, X_train_outer, y_train_outer, bg_bnn_states, bg_disc_states)\n",
    "        model_idxs = np.argsort(val_losses)[:M]\n",
    "        bg_bnn_states_sel, bg_disc_states_sel = list(itemgetter(*model_idxs)(bg_bnn_states)), list(itemgetter(*model_idxs)(bg_disc_states))\n",
    "\n",
    "        if dropout:\n",
    "            if os.path.exists(f\"{save_dir}/dropout/bg_bnn_dropout_loss_s_{seed}_v{VERSION}.csv\"):\n",
    "                bg_bnn_dropout_loss_df = pd.read_csv(f\"{save_dir}/dropout/bg_bnn_dropout_loss_s_{seed}_v{VERSION}.csv\")\n",
    "            else:\n",
    "                bg_bnn_dropout_loss_df = get_feats_dropout_loss(bg_bnn_model, bg_bnn_states_sel, bg_disc_states_sel, X_train_outer, y_train)\n",
    "                bg_bnn_dropout_loss_df.to_csv(f\"{save_dir}/dropout/bg_bnn_dropout_loss_s_{seed}_v{VERSION}.csv\", index=False)\n",
    "\n",
    "            bg_bnn_feat_idx = bg_bnn_dropout_loss_df[\"feats_idx\"].to_list()\n",
    "\n",
    "        else:\n",
    "            igs = jax.vmap(integrated_gradients, in_axes=(None, None, None, 0, None))(bg_bnn_model, bg_bnn_states_sel, bg_disc_states_sel, X_train_outer, 50).squeeze()\n",
    "            bg_bnn_feat_idx = np.argsort(np.mean(np.abs(igs), axis=0))[::-1]\n",
    "\n",
    "        ##### BNN w/o BG\n",
    "        bnn_config = pickle.load(open(f\"{save_dir}/configs/bnn_config_s_{seed}_optuna_v9f.pkl\", \"rb\"))\n",
    "        eta, mu = 1.0, bnn_config[\"mu\"]\n",
    "        # bnn_model = init_bg_bnn_model(seed, data_loader, epochs, lr_0, disc_lr_0, num_cycles, temp, sigma, hidden_sizes, J_zero, eta, mu, alpha, act_fn)\n",
    "        # bnn_states = pickle.load(open(f\"{save_dir}/checkpoints/bnn_states_s_{seed}_v{VERSION}.pkl\", \"rb\"))\n",
    "        # bnn_disc_states = pickle.load(open(f\"{save_dir}/checkpoints/bnn_disc_states_s_{seed}_v{VERSION}.pkl\", \"rb\"))\n",
    "        bnn_model, bnn_states, bnn_disc_states = train_bg_bnn_model(seed, outer_data_loader, epochs, num_cycles, beta, beta_noise, lr_0, disc_lr_0,\n",
    "                                                                    hidden_sizes, temp, sigma, eta, mu, alpha, J_zero, act_fn)\n",
    "\n",
    "        val_losses = eval_per_model_score_bg(bnn_model, X_train_outer, y_train_outer, bnn_states, bnn_disc_states)\n",
    "        model_idxs = np.argsort(val_losses)[:M]\n",
    "        bnn_states_sel, bnn_disc_states_sel = list(itemgetter(*model_idxs)(bnn_states)), list(itemgetter(*model_idxs)(bnn_disc_states))\n",
    "        if dropout:\n",
    "            if os.path.exists(f\"{save_dir}/dropout/bnn_dropout_loss_s_{seed}_v{VERSION}.csv\"):\n",
    "                bnn_dropout_loss_df = pd.read_csv(f\"{save_dir}/dropout/bnn_dropout_loss_s_{seed}_v{VERSION}.csv\")\n",
    "            else:\n",
    "                bnn_dropout_loss_df = get_feats_dropout_loss(bnn_model, bnn_states_sel, bnn_disc_states_sel, X_train_outer, y_train_outer)\n",
    "                bnn_dropout_loss_df.to_csv(f\"{save_dir}/dropout/bnn_dropout_loss_s_{seed}_v{VERSION}.csv\", index=False)\n",
    "\n",
    "            bnn_feat_idx = bnn_dropout_loss_df[\"feats_idx\"].to_list()\n",
    "\n",
    "        else:\n",
    "            igs = jax.vmap(integrated_gradients, in_axes=(None, None, None, 0, None))(bnn_model, bnn_states_sel, bnn_disc_states_sel, X_train_outer, 50).squeeze()\n",
    "            bnn_feat_idx = np.argsort(np.mean(np.abs(igs), axis=0))[::-1]\n",
    "\n",
    "        if os.path.exists(f\"{save_dir}/checkpoints/rf_model_s_{seed}.pkl\"):\n",
    "            rf_model = pickle.load(open(f\"{save_dir}/checkpoints/rf_model_s_{seed}.pkl\", \"rb\"))\n",
    "        else:\n",
    "            rf_model = train_rf_model(seed, X_train_outer, y_train_outer, train_indices, val_indices)\n",
    "            pickle.dump(rf_model, open(f\"{save_dir}/checkpoints/rf_model_s_{seed}.pkl\", \"wb\"))\n",
    "\n",
    "        rf_feat_idx = np.argsort(rf_model.feature_importances_)[::-1]\n",
    "\n",
    "        for num_feat in num_feats:\n",
    "            bg_bnn_feat_sel = bg_bnn_feat_idx[:num_feat]\n",
    "            bnn_feat_sel = bnn_feat_idx[:num_feat]\n",
    "            rf_feat_sel = rf_feat_idx[:num_feat]\n",
    "\n",
    "\n",
    "            # bg_bnn_feat_idx = np.argsort(bg_bnn_mean)[::-1][:num_feat]\n",
    "            # bnn_feat_idx = np.argsort(bnn_mean)[::-1][:num_feat]\n",
    "            # rf_feat_idx = np.argsort(rf_model.feature_importances_)[::-1][:num_feat]\n",
    "\n",
    "            ### BNN + BG\n",
    "            bg_bnn_mask = np.zeros(p)\n",
    "            bg_bnn_mask[bg_bnn_feat_sel] = 1.0\n",
    "            X_test_bg_bnn_m = X_test @ np.diag(bg_bnn_mask)\n",
    "            rmse_bg_bnn, r2_bg_bnn = score_bg_bnn_model(bg_bnn_model, X_test_bg_bnn_m, y_test, bg_bnn_states_sel, bg_disc_states_sel)\n",
    "\n",
    "            ## BNN w/o BG\n",
    "            bnn_mask = np.zeros(p)\n",
    "            bnn_mask[bnn_feat_sel] = 1.0\n",
    "            X_test_bnn_m = X_test @ np.diag(bnn_mask)\n",
    "            rmse_bnn, r2_bnn = score_bg_bnn_model(bnn_model, X_test_bnn_m, y_test, bnn_states_sel, bnn_disc_states_sel)\n",
    "\n",
    "            ## RF\n",
    "            rf_mask = np.zeros(p)\n",
    "            rf_mask[rf_feat_sel] = 1.0\n",
    "            X_test_rf_m = X_test @ np.diag(rf_mask)\n",
    "            rmse_rf, r2_rf = eval_rf_model(rf_model, X_test_rf_m, y_test)\n",
    "\n",
    "            bg_bnn_rf_res_dict[\"seed\"].append(seed)\n",
    "            bg_bnn_rf_res_dict[\"model\"].append(\"RF\")\n",
    "            bg_bnn_rf_res_dict[\"num_feats\"].append(num_feat)\n",
    "            bg_bnn_rf_res_dict[\"test_rmse_score\"].append(rmse_rf)\n",
    "            # bg_bnn_rf_res_dict[\"test_r2_score\"].append(r2_rf)\n",
    "\n",
    "            bg_bnn_rf_res_dict[\"seed\"].append(seed)\n",
    "            bg_bnn_rf_res_dict[\"model\"].append(\"BNN\")\n",
    "            bg_bnn_rf_res_dict[\"num_feats\"].append(num_feat)\n",
    "            bg_bnn_rf_res_dict[\"test_rmse_score\"].append(rmse_bnn)\n",
    "            # bg_bnn_rf_res_dict[\"test_r2_score\"].append(r2_bnn)\n",
    "\n",
    "\n",
    "            bg_bnn_rf_res_dict[\"seed\"].append(seed)\n",
    "            bg_bnn_rf_res_dict[\"model\"].append(\"BNN + BG\")\n",
    "            bg_bnn_rf_res_dict[\"num_feats\"].append(num_feat)\n",
    "            bg_bnn_rf_res_dict[\"test_rmse_score\"].append(rmse_bg_bnn)\n",
    "            # bg_bnn_rf_res_dict[\"test_r2_score\"].append(r2_bg_bnn)\n",
    "\n",
    "\n",
    "            print(f\"RF scores - {rmse_rf}\")\n",
    "            print(f\"BNN w/o scores - {rmse_bnn}\")\n",
    "            print(f\"BNN + BG scores - {rmse_bg_bnn}\")\n",
    "\n",
    "        if dropout:\n",
    "            pd.DataFrame(bg_bnn_rf_res_dict).to_csv(f\"{save_dir}/results/feat_zero_out_comp_bnn_bg_rf_s_{seed}_v{VERSION}.csv\", index=False)\n",
    "        else:\n",
    "            pd.DataFrame(bg_bnn_rf_res_dict).to_csv(f\"{save_dir}/results/feat_zero_out_comp_bnn_bg_rf_s_{seed}_ig_v{VERSION}.csv\", index=False)\n",
    "\n",
    "    print(\"Done\")"
   ],
   "metadata": {
    "collapsed": false,
    "pycharm": {
     "name": "#%%\n"
    }
   }
  },
  {
   "cell_type": "code",
   "execution_count": 43,
   "outputs": [
    {
     "name": "stderr",
     "output_type": "stream",
     "text": [
      "  0%|          | 0/20 [00:00<?, ?it/s]"
     ]
    },
    {
     "name": "stdout",
     "output_type": "stream",
     "text": [
      "RF scores - 0.4750652015209198\n",
      "BNN w/o scores - 0.4671628773212433\n",
      "BNN + BG scores - 0.46606215834617615\n",
      "RF scores - 0.46790173649787903\n",
      "BNN w/o scores - 0.4750034213066101\n",
      "BNN + BG scores - 0.46578675508499146\n",
      "RF scores - 0.4606999158859253\n",
      "BNN w/o scores - 0.47162479162216187\n",
      "BNN + BG scores - 0.45833393931388855\n",
      "RF scores - 0.4552218019962311\n",
      "BNN w/o scores - 0.478831946849823\n",
      "BNN + BG scores - 0.45386025309562683\n",
      "RF scores - 0.44910579919815063\n",
      "BNN w/o scores - 0.48948100209236145\n",
      "BNN + BG scores - 0.4560304582118988\n"
     ]
    },
    {
     "name": "stderr",
     "output_type": "stream",
     "text": [
      "  5%|▌         | 1/20 [01:49<34:35, 109.25s/it]"
     ]
    },
    {
     "name": "stdout",
     "output_type": "stream",
     "text": [
      "RF scores - 0.5334607362747192\n",
      "BNN w/o scores - 0.5374490022659302\n",
      "BNN + BG scores - 0.5677180290222168\n",
      "RF scores - 0.5267060995101929\n",
      "BNN w/o scores - 0.5398389101028442\n",
      "BNN + BG scores - 0.6279261708259583\n",
      "RF scores - 0.5197309851646423\n",
      "BNN w/o scores - 0.5378150939941406\n",
      "BNN + BG scores - 0.6105742454528809\n",
      "RF scores - 0.5143607258796692\n",
      "BNN w/o scores - 0.530613124370575\n",
      "BNN + BG scores - 0.5919467210769653\n"
     ]
    },
    {
     "name": "stderr",
     "output_type": "stream",
     "text": [
      " 10%|█         | 2/20 [03:13<28:17, 94.32s/it] "
     ]
    },
    {
     "name": "stdout",
     "output_type": "stream",
     "text": [
      "RF scores - 0.509588360786438\n",
      "BNN w/o scores - 0.5279062986373901\n",
      "BNN + BG scores - 0.5777512788772583\n",
      "RF scores - 0.5695208311080933\n",
      "BNN w/o scores - 0.5595837831497192\n",
      "BNN + BG scores - 0.5616071820259094\n",
      "RF scores - 0.5550363063812256\n",
      "BNN w/o scores - 0.5487000942230225\n",
      "BNN + BG scores - 0.5663183331489563\n",
      "RF scores - 0.542922854423523\n",
      "BNN w/o scores - 0.547486424446106\n",
      "BNN + BG scores - 0.5688940286636353\n",
      "RF scores - 0.5382609367370605\n",
      "BNN w/o scores - 0.5545190572738647\n",
      "BNN + BG scores - 0.5726640820503235\n"
     ]
    },
    {
     "name": "stderr",
     "output_type": "stream",
     "text": [
      " 15%|█▌        | 3/20 [04:37<25:29, 89.96s/it]"
     ]
    },
    {
     "name": "stdout",
     "output_type": "stream",
     "text": [
      "RF scores - 0.5283812284469604\n",
      "BNN w/o scores - 0.5583589673042297\n",
      "BNN + BG scores - 0.5691109895706177\n",
      "RF scores - 0.5784794092178345\n",
      "BNN w/o scores - 0.5791536569595337\n",
      "BNN + BG scores - 0.644507646560669\n",
      "RF scores - 0.5685476064682007\n",
      "BNN w/o scores - 0.5786522030830383\n",
      "BNN + BG scores - 0.6918548345565796\n",
      "RF scores - 0.5610421299934387\n",
      "BNN w/o scores - 0.5785151720046997\n",
      "BNN + BG scores - 0.666497528553009\n",
      "RF scores - 0.5588554739952087\n",
      "BNN w/o scores - 0.5790380835533142\n",
      "BNN + BG scores - 0.6436338424682617\n",
      "RF scores - 0.5497748851776123\n",
      "BNN w/o scores - 0.5822241306304932\n",
      "BNN + BG scores - 0.6304501295089722\n"
     ]
    },
    {
     "name": "stderr",
     "output_type": "stream",
     "text": [
      " 20%|██        | 4/20 [06:06<23:53, 89.62s/it]"
     ]
    },
    {
     "name": "stdout",
     "output_type": "stream",
     "text": [
      "RF scores - 0.5004907846450806\n",
      "BNN w/o scores - 0.5065823197364807\n",
      "BNN + BG scores - 0.5223824977874756\n",
      "RF scores - 0.4868117570877075\n",
      "BNN w/o scores - 0.4911113381385803\n",
      "BNN + BG scores - 0.5309782028198242\n",
      "RF scores - 0.4768422544002533\n",
      "BNN w/o scores - 0.4909375309944153\n",
      "BNN + BG scores - 0.5358469486236572\n"
     ]
    },
    {
     "name": "stderr",
     "output_type": "stream",
     "text": [
      " 25%|██▌       | 5/20 [07:33<22:05, 88.36s/it]"
     ]
    },
    {
     "name": "stdout",
     "output_type": "stream",
     "text": [
      "RF scores - 0.4728910028934479\n",
      "BNN w/o scores - 0.4874742031097412\n",
      "BNN + BG scores - 0.5241754055023193\n",
      "RF scores - 0.46827876567840576\n",
      "BNN w/o scores - 0.49433332681655884\n",
      "BNN + BG scores - 0.5123558044433594\n",
      "RF scores - 0.5641793608665466\n",
      "BNN w/o scores - 0.5650922060012817\n",
      "BNN + BG scores - 0.604576587677002\n",
      "RF scores - 0.5484618544578552\n",
      "BNN w/o scores - 0.5574214458465576\n",
      "BNN + BG scores - 0.6260437965393066\n",
      "RF scores - 0.538408100605011\n",
      "BNN w/o scores - 0.5591830015182495\n",
      "BNN + BG scores - 0.6036996841430664\n",
      "RF scores - 0.5310726165771484\n",
      "BNN w/o scores - 0.5589215755462646\n",
      "BNN + BG scores - 0.5918137431144714\n"
     ]
    },
    {
     "name": "stderr",
     "output_type": "stream",
     "text": [
      " 30%|███       | 6/20 [08:58<20:25, 87.51s/it]"
     ]
    },
    {
     "name": "stdout",
     "output_type": "stream",
     "text": [
      "RF scores - 0.5301151871681213\n",
      "BNN w/o scores - 0.556929886341095\n",
      "BNN + BG scores - 0.5929215550422668\n",
      "RF scores - 0.49821949005126953\n",
      "BNN w/o scores - 0.508944571018219\n",
      "BNN + BG scores - 0.48699960112571716\n",
      "RF scores - 0.48689931631088257\n",
      "BNN w/o scores - 0.5107860565185547\n",
      "BNN + BG scores - 0.4856361746788025\n",
      "RF scores - 0.4779658317565918\n",
      "BNN w/o scores - 0.5139023661613464\n",
      "BNN + BG scores - 0.48184359073638916\n"
     ]
    },
    {
     "name": "stderr",
     "output_type": "stream",
     "text": [
      " 35%|███▌      | 7/20 [10:22<18:42, 86.33s/it]"
     ]
    },
    {
     "name": "stdout",
     "output_type": "stream",
     "text": [
      "RF scores - 0.4711659848690033\n",
      "BNN w/o scores - 0.516045868396759\n",
      "BNN + BG scores - 0.4877282977104187\n",
      "RF scores - 0.46612775325775146\n",
      "BNN w/o scores - 0.509305477142334\n",
      "BNN + BG scores - 0.4946748614311218\n",
      "RF scores - 0.520386815071106\n",
      "BNN w/o scores - 0.5315623879432678\n",
      "BNN + BG scores - 0.545628547668457\n",
      "RF scores - 0.5104579925537109\n",
      "BNN w/o scores - 0.5141534209251404\n",
      "BNN + BG scores - 0.5208591818809509\n",
      "RF scores - 0.5025805234909058\n",
      "BNN w/o scores - 0.5148577690124512\n",
      "BNN + BG scores - 0.5103037357330322\n",
      "RF scores - 0.4956381320953369\n",
      "BNN w/o scores - 0.5228682160377502\n",
      "BNN + BG scores - 0.513388454914093\n"
     ]
    },
    {
     "name": "stderr",
     "output_type": "stream",
     "text": [
      " 40%|████      | 8/20 [11:47<17:10, 85.89s/it]"
     ]
    },
    {
     "name": "stdout",
     "output_type": "stream",
     "text": [
      "RF scores - 0.4925088882446289\n",
      "BNN w/o scores - 0.5173004269599915\n",
      "BNN + BG scores - 0.4959600567817688\n",
      "RF scores - 0.5976442694664001\n",
      "BNN w/o scores - 0.6116742491722107\n",
      "BNN + BG scores - 0.6347510814666748\n",
      "RF scores - 0.5939690470695496\n",
      "BNN w/o scores - 0.6061828136444092\n",
      "BNN + BG scores - 0.6532526016235352\n",
      "RF scores - 0.5903182029724121\n",
      "BNN w/o scores - 0.6052566766738892\n",
      "BNN + BG scores - 0.668505072593689\n",
      "RF scores - 0.5892577171325684\n",
      "BNN w/o scores - 0.606743574142456\n",
      "BNN + BG scores - 0.6656296253204346\n"
     ]
    },
    {
     "name": "stderr",
     "output_type": "stream",
     "text": [
      " 45%|████▌     | 9/20 [13:14<15:48, 86.20s/it]"
     ]
    },
    {
     "name": "stdout",
     "output_type": "stream",
     "text": [
      "RF scores - 0.5857102274894714\n",
      "BNN w/o scores - 0.6011447310447693\n",
      "BNN + BG scores - 0.6529037356376648\n",
      "RF scores - 0.5565360188484192\n",
      "BNN w/o scores - 0.5522426962852478\n",
      "BNN + BG scores - 0.5664174556732178\n",
      "RF scores - 0.5518650412559509\n",
      "BNN w/o scores - 0.551908016204834\n",
      "BNN + BG scores - 0.553312361240387\n",
      "RF scores - 0.5442330241203308\n",
      "BNN w/o scores - 0.553826093673706\n",
      "BNN + BG scores - 0.5566427111625671\n"
     ]
    },
    {
     "name": "stderr",
     "output_type": "stream",
     "text": [
      " 50%|█████     | 10/20 [14:40<14:19, 85.92s/it]"
     ]
    },
    {
     "name": "stdout",
     "output_type": "stream",
     "text": [
      "RF scores - 0.5342076420783997\n",
      "BNN w/o scores - 0.5481491088867188\n",
      "BNN + BG scores - 0.5567057728767395\n",
      "RF scores - 0.5299357175827026\n",
      "BNN w/o scores - 0.5454816222190857\n",
      "BNN + BG scores - 0.5572765469551086\n",
      "RF scores - 0.5186506509780884\n",
      "BNN w/o scores - 0.5077401995658875\n",
      "BNN + BG scores - 0.565339982509613\n",
      "RF scores - 0.508277952671051\n",
      "BNN w/o scores - 0.5148876309394836\n",
      "BNN + BG scores - 0.5668371915817261\n",
      "RF scores - 0.5033929944038391\n",
      "BNN w/o scores - 0.5070279836654663\n",
      "BNN + BG scores - 0.5881757140159607\n"
     ]
    },
    {
     "name": "stderr",
     "output_type": "stream",
     "text": [
      " 55%|█████▌    | 11/20 [16:05<12:51, 85.73s/it]"
     ]
    },
    {
     "name": "stdout",
     "output_type": "stream",
     "text": [
      "RF scores - 0.49863505363464355\n",
      "BNN w/o scores - 0.5006575584411621\n",
      "BNN + BG scores - 0.5801846981048584\n",
      "RF scores - 0.49419349431991577\n",
      "BNN w/o scores - 0.49975302815437317\n",
      "BNN + BG scores - 0.5630264282226562\n",
      "RF scores - 0.5681130290031433\n",
      "BNN w/o scores - 0.5751667618751526\n",
      "BNN + BG scores - 0.5933712124824524\n",
      "RF scores - 0.5626250505447388\n",
      "BNN w/o scores - 0.5725022554397583\n",
      "BNN + BG scores - 0.6347325444221497\n",
      "RF scores - 0.5595045685768127\n",
      "BNN w/o scores - 0.5802260041236877\n",
      "BNN + BG scores - 0.6516955494880676\n"
     ]
    },
    {
     "name": "stderr",
     "output_type": "stream",
     "text": [
      " 60%|██████    | 12/20 [17:31<11:27, 85.99s/it]"
     ]
    },
    {
     "name": "stdout",
     "output_type": "stream",
     "text": [
      "RF scores - 0.5556416511535645\n",
      "BNN w/o scores - 0.585300087928772\n",
      "BNN + BG scores - 0.6514353156089783\n",
      "RF scores - 0.5492351651191711\n",
      "BNN w/o scores - 0.5857310891151428\n",
      "BNN + BG scores - 0.6509101986885071\n",
      "RF scores - 0.5087268352508545\n",
      "BNN w/o scores - 0.5140066146850586\n",
      "BNN + BG scores - 0.5178234577178955\n",
      "RF scores - 0.498292475938797\n",
      "BNN w/o scores - 0.5034784078598022\n",
      "BNN + BG scores - 0.491927832365036\n",
      "RF scores - 0.4899071753025055\n",
      "BNN w/o scores - 0.4978145658969879\n",
      "BNN + BG scores - 0.48710566759109497\n",
      "RF scores - 0.4856293797492981\n",
      "BNN w/o scores - 0.4911049008369446\n",
      "BNN + BG scores - 0.4816855490207672\n"
     ]
    },
    {
     "name": "stderr",
     "output_type": "stream",
     "text": [
      " 65%|██████▌   | 13/20 [18:57<10:01, 85.88s/it]"
     ]
    },
    {
     "name": "stdout",
     "output_type": "stream",
     "text": [
      "RF scores - 0.483337938785553\n",
      "BNN w/o scores - 0.48477956652641296\n",
      "BNN + BG scores - 0.4792448878288269\n",
      "RF scores - 0.5235219597816467\n",
      "BNN w/o scores - 0.5235427618026733\n",
      "BNN + BG scores - 0.5193931460380554\n",
      "RF scores - 0.5109521150588989\n",
      "BNN w/o scores - 0.5032646059989929\n",
      "BNN + BG scores - 0.5407410860061646\n",
      "RF scores - 0.5044934749603271\n",
      "BNN w/o scores - 0.5039315819740295\n",
      "BNN + BG scores - 0.52265465259552\n",
      "RF scores - 0.497278094291687\n",
      "BNN w/o scores - 0.5065569281578064\n",
      "BNN + BG scores - 0.5260677933692932\n"
     ]
    },
    {
     "name": "stderr",
     "output_type": "stream",
     "text": [
      " 70%|███████   | 14/20 [20:23<08:34, 85.82s/it]"
     ]
    },
    {
     "name": "stdout",
     "output_type": "stream",
     "text": [
      "RF scores - 0.4911768436431885\n",
      "BNN w/o scores - 0.5026125907897949\n",
      "BNN + BG scores - 0.5245978832244873\n",
      "RF scores - 0.6108533143997192\n",
      "BNN w/o scores - 0.6294428706169128\n",
      "BNN + BG scores - 0.6420643329620361\n",
      "RF scores - 0.600116491317749\n",
      "BNN w/o scores - 0.6266868710517883\n",
      "BNN + BG scores - 0.6298567652702332\n",
      "RF scores - 0.5930274724960327\n",
      "BNN w/o scores - 0.6292318105697632\n",
      "BNN + BG scores - 0.630806028842926\n"
     ]
    },
    {
     "name": "stderr",
     "output_type": "stream",
     "text": [
      " 75%|███████▌  | 15/20 [21:49<07:09, 85.91s/it]"
     ]
    },
    {
     "name": "stdout",
     "output_type": "stream",
     "text": [
      "RF scores - 0.5883997082710266\n",
      "BNN w/o scores - 0.6313828825950623\n",
      "BNN + BG scores - 0.6308569312095642\n",
      "RF scores - 0.5833904147148132\n",
      "BNN w/o scores - 0.6332749724388123\n",
      "BNN + BG scores - 0.6212286949157715\n",
      "RF scores - 0.49228978157043457\n",
      "BNN w/o scores - 0.4996834695339203\n",
      "BNN + BG scores - 0.5337421894073486\n",
      "RF scores - 0.48261165618896484\n",
      "BNN w/o scores - 0.5041437149047852\n",
      "BNN + BG scores - 0.5486098527908325\n",
      "RF scores - 0.47831296920776367\n",
      "BNN w/o scores - 0.507347583770752\n",
      "BNN + BG scores - 0.5196214914321899\n",
      "RF scores - 0.47357097268104553\n",
      "BNN w/o scores - 0.5007250905036926\n",
      "BNN + BG scores - 0.5151610374450684\n"
     ]
    },
    {
     "name": "stderr",
     "output_type": "stream",
     "text": [
      " 80%|████████  | 16/20 [23:15<05:44, 86.03s/it]"
     ]
    },
    {
     "name": "stdout",
     "output_type": "stream",
     "text": [
      "RF scores - 0.46919363737106323\n",
      "BNN w/o scores - 0.49637892842292786\n",
      "BNN + BG scores - 0.5095139741897583\n",
      "RF scores - 0.6037952303886414\n",
      "BNN w/o scores - 0.6200971603393555\n",
      "BNN + BG scores - 0.6174042224884033\n",
      "RF scores - 0.5914689898490906\n",
      "BNN w/o scores - 0.5962480902671814\n",
      "BNN + BG scores - 0.5862894058227539\n",
      "RF scores - 0.5823734998703003\n",
      "BNN w/o scores - 0.5981079339981079\n",
      "BNN + BG scores - 0.5768647193908691\n",
      "RF scores - 0.5761685371398926\n",
      "BNN w/o scores - 0.5964274406433105\n",
      "BNN + BG scores - 0.5769435167312622\n"
     ]
    },
    {
     "name": "stderr",
     "output_type": "stream",
     "text": [
      " 85%|████████▌ | 17/20 [24:41<04:18, 86.05s/it]"
     ]
    },
    {
     "name": "stdout",
     "output_type": "stream",
     "text": [
      "RF scores - 0.5705035328865051\n",
      "BNN w/o scores - 0.5929945707321167\n",
      "BNN + BG scores - 0.5757861137390137\n",
      "RF scores - 0.5578961968421936\n",
      "BNN w/o scores - 0.5687735676765442\n",
      "BNN + BG scores - 0.6693258881568909\n",
      "RF scores - 0.5407650470733643\n",
      "BNN w/o scores - 0.5575616955757141\n",
      "BNN + BG scores - 0.6914910078048706\n",
      "RF scores - 0.5366058349609375\n",
      "BNN w/o scores - 0.5507664084434509\n",
      "BNN + BG scores - 0.6864644885063171\n",
      "RF scores - 0.5287685990333557\n",
      "BNN w/o scores - 0.551539421081543\n",
      "BNN + BG scores - 0.6513581871986389\n"
     ]
    },
    {
     "name": "stderr",
     "output_type": "stream",
     "text": [
      " 90%|█████████ | 18/20 [26:07<02:51, 85.91s/it]"
     ]
    },
    {
     "name": "stdout",
     "output_type": "stream",
     "text": [
      "RF scores - 0.5237013697624207\n",
      "BNN w/o scores - 0.5527929067611694\n",
      "BNN + BG scores - 0.6299463510513306\n",
      "RF scores - 0.6465353965759277\n",
      "BNN w/o scores - 0.6253232359886169\n",
      "BNN + BG scores - 0.637934148311615\n",
      "RF scores - 0.6288334727287292\n",
      "BNN w/o scores - 0.6191996932029724\n",
      "BNN + BG scores - 0.639716625213623\n",
      "RF scores - 0.6193125247955322\n",
      "BNN w/o scores - 0.6174092888832092\n",
      "BNN + BG scores - 0.6459624767303467\n",
      "RF scores - 0.6090360283851624\n",
      "BNN w/o scores - 0.6129297018051147\n",
      "BNN + BG scores - 0.6374657154083252\n",
      "RF scores - 0.5986635684967041\n",
      "BNN w/o scores - 0.606116771697998\n",
      "BNN + BG scores - 0.619438648223877\n"
     ]
    },
    {
     "name": "stderr",
     "output_type": "stream",
     "text": [
      " 95%|█████████▌| 19/20 [27:33<01:25, 85.92s/it]"
     ]
    },
    {
     "name": "stdout",
     "output_type": "stream",
     "text": [
      "RF scores - 0.5360221266746521\n",
      "BNN w/o scores - 0.5389905571937561\n",
      "BNN + BG scores - 0.5346360206604004\n",
      "RF scores - 0.5245451927185059\n",
      "BNN w/o scores - 0.5346969366073608\n",
      "BNN + BG scores - 0.6050542593002319\n",
      "RF scores - 0.5153228640556335\n",
      "BNN w/o scores - 0.5234612226486206\n",
      "BNN + BG scores - 0.592570424079895\n"
     ]
    },
    {
     "name": "stderr",
     "output_type": "stream",
     "text": [
      "100%|██████████| 20/20 [28:58<00:00, 86.92s/it]"
     ]
    },
    {
     "name": "stdout",
     "output_type": "stream",
     "text": [
      "RF scores - 0.5144035220146179\n",
      "BNN w/o scores - 0.5228710770606995\n",
      "BNN + BG scores - 0.5921304225921631\n",
      "RF scores - 0.5110527873039246\n",
      "BNN w/o scores - 0.5249320268630981\n",
      "BNN + BG scores - 0.5672116279602051\n",
      "Done\n"
     ]
    },
    {
     "name": "stderr",
     "output_type": "stream",
     "text": [
      "\n"
     ]
    }
   ],
   "source": [
    "seeds = [422,261,968,282,739,573,220,413,745,775,482,442,210,423,760,57,769,920,226,196]\n",
    "curr_seeds = seeds\n",
    "zero_out_ranking(curr_seeds, X_selected, target, J, dropout=False)"
   ],
   "metadata": {
    "collapsed": false,
    "pycharm": {
     "name": "#%%\n"
    }
   }
  },
  {
   "cell_type": "code",
   "execution_count": 32,
   "outputs": [
    {
     "data": {
      "text/plain": "                    test_rmse_score\nmodel    num_feats                 \nBNN      10                0.558153\n         20                0.546965\n         30                0.540747\n         40                0.537962\n         50                0.536901\nBNN + BG 10                0.557431\n         20                0.546811\n         30                0.541777\n         40                0.541093\n         50                0.538186\nRF       10                0.542349\n         20                0.532412\n         30                0.525044\n         40                0.519780\n         50                0.514739",
      "text/html": "<div>\n<style scoped>\n    .dataframe tbody tr th:only-of-type {\n        vertical-align: middle;\n    }\n\n    .dataframe tbody tr th {\n        vertical-align: top;\n    }\n\n    .dataframe thead th {\n        text-align: right;\n    }\n</style>\n<table border=\"1\" class=\"dataframe\">\n  <thead>\n    <tr style=\"text-align: right;\">\n      <th></th>\n      <th></th>\n      <th>test_rmse_score</th>\n    </tr>\n    <tr>\n      <th>model</th>\n      <th>num_feats</th>\n      <th></th>\n    </tr>\n  </thead>\n  <tbody>\n    <tr>\n      <th rowspan=\"5\" valign=\"top\">BNN</th>\n      <th>10</th>\n      <td>0.558153</td>\n    </tr>\n    <tr>\n      <th>20</th>\n      <td>0.546965</td>\n    </tr>\n    <tr>\n      <th>30</th>\n      <td>0.540747</td>\n    </tr>\n    <tr>\n      <th>40</th>\n      <td>0.537962</td>\n    </tr>\n    <tr>\n      <th>50</th>\n      <td>0.536901</td>\n    </tr>\n    <tr>\n      <th rowspan=\"5\" valign=\"top\">BNN + BG</th>\n      <th>10</th>\n      <td>0.557431</td>\n    </tr>\n    <tr>\n      <th>20</th>\n      <td>0.546811</td>\n    </tr>\n    <tr>\n      <th>30</th>\n      <td>0.541777</td>\n    </tr>\n    <tr>\n      <th>40</th>\n      <td>0.541093</td>\n    </tr>\n    <tr>\n      <th>50</th>\n      <td>0.538186</td>\n    </tr>\n    <tr>\n      <th rowspan=\"5\" valign=\"top\">RF</th>\n      <th>10</th>\n      <td>0.542349</td>\n    </tr>\n    <tr>\n      <th>20</th>\n      <td>0.532412</td>\n    </tr>\n    <tr>\n      <th>30</th>\n      <td>0.525044</td>\n    </tr>\n    <tr>\n      <th>40</th>\n      <td>0.519780</td>\n    </tr>\n    <tr>\n      <th>50</th>\n      <td>0.514739</td>\n    </tr>\n  </tbody>\n</table>\n</div>"
     },
     "execution_count": 32,
     "metadata": {},
     "output_type": "execute_result"
    }
   ],
   "source": [
    "save_dir = f\"{data_dir}/exp_data_5/cancer/gdsc/tamox\"\n",
    "res_dfs = []\n",
    "for seed in curr_seeds:\n",
    "    df = pd.read_csv(f\"{save_dir}/results/feat_zero_out_comp_bnn_bg_rf_s_{seed}_v9c.csv\")\n",
    "    res_dfs.append(df)\n",
    "\n",
    "bg_bnn_res_zero_out_9c = pd.concat(res_dfs, axis=0)\n",
    "# bg_bnn_res_zero_out_9c = bg_bnn_res_zero_out_9c.drop_duplicates()\n",
    "bg_bnn_res_zero_out_9c.groupby([\"model\", \"num_feats\"]).mean().iloc[:,1:]"
   ],
   "metadata": {
    "collapsed": false,
    "pycharm": {
     "name": "#%%\n"
    }
   }
  },
  {
   "cell_type": "code",
   "execution_count": 44,
   "outputs": [
    {
     "data": {
      "text/plain": "                    test_rmse_score\nmodel    num_feats                 \nBNN      10                0.551111\n         20                0.545321\n         30                0.544436\n         40                0.544135\n         50                0.543092\nBNN + BG 10                0.571584\n         20                0.582861\n         30                0.578153\n         40                0.572242\n         50                0.564017\nRF       10                0.548019\n         20                0.537257\n         30                0.529850\n         40                0.524423\n         50                0.519199",
      "text/html": "<div>\n<style scoped>\n    .dataframe tbody tr th:only-of-type {\n        vertical-align: middle;\n    }\n\n    .dataframe tbody tr th {\n        vertical-align: top;\n    }\n\n    .dataframe thead th {\n        text-align: right;\n    }\n</style>\n<table border=\"1\" class=\"dataframe\">\n  <thead>\n    <tr style=\"text-align: right;\">\n      <th></th>\n      <th></th>\n      <th>test_rmse_score</th>\n    </tr>\n    <tr>\n      <th>model</th>\n      <th>num_feats</th>\n      <th></th>\n    </tr>\n  </thead>\n  <tbody>\n    <tr>\n      <th rowspan=\"5\" valign=\"top\">BNN</th>\n      <th>10</th>\n      <td>0.551111</td>\n    </tr>\n    <tr>\n      <th>20</th>\n      <td>0.545321</td>\n    </tr>\n    <tr>\n      <th>30</th>\n      <td>0.544436</td>\n    </tr>\n    <tr>\n      <th>40</th>\n      <td>0.544135</td>\n    </tr>\n    <tr>\n      <th>50</th>\n      <td>0.543092</td>\n    </tr>\n    <tr>\n      <th rowspan=\"5\" valign=\"top\">BNN + BG</th>\n      <th>10</th>\n      <td>0.571584</td>\n    </tr>\n    <tr>\n      <th>20</th>\n      <td>0.582861</td>\n    </tr>\n    <tr>\n      <th>30</th>\n      <td>0.578153</td>\n    </tr>\n    <tr>\n      <th>40</th>\n      <td>0.572242</td>\n    </tr>\n    <tr>\n      <th>50</th>\n      <td>0.564017</td>\n    </tr>\n    <tr>\n      <th rowspan=\"5\" valign=\"top\">RF</th>\n      <th>10</th>\n      <td>0.548019</td>\n    </tr>\n    <tr>\n      <th>20</th>\n      <td>0.537257</td>\n    </tr>\n    <tr>\n      <th>30</th>\n      <td>0.529850</td>\n    </tr>\n    <tr>\n      <th>40</th>\n      <td>0.524423</td>\n    </tr>\n    <tr>\n      <th>50</th>\n      <td>0.519199</td>\n    </tr>\n  </tbody>\n</table>\n</div>"
     },
     "execution_count": 44,
     "metadata": {},
     "output_type": "execute_result"
    }
   ],
   "source": [
    "save_dir = f\"{data_dir}/exp_data_5/cancer/gdsc/tamox\"\n",
    "res_dfs = []\n",
    "for seed in curr_seeds:\n",
    "    df = pd.read_csv(f\"{save_dir}/results/feat_zero_out_comp_bnn_bg_rf_s_{seed}_ig_v9g.csv\")\n",
    "    res_dfs.append(df)\n",
    "\n",
    "bg_bnn_res_zero_out_9f = pd.concat(res_dfs, axis=0)\n",
    "# bg_bnn_res_zero_out_9f = bg_bnn_res_zero_out_9f.drop_duplicates()\n",
    "bg_bnn_res_zero_out_9f.groupby([\"model\", \"num_feats\"]).mean().iloc[:,1:]"
   ],
   "metadata": {
    "collapsed": false,
    "pycharm": {
     "name": "#%%\n"
    }
   }
  },
  {
   "cell_type": "code",
   "execution_count": 39,
   "outputs": [
    {
     "data": {
      "text/plain": "<Figure size 720x432 with 1 Axes>",
      "image/png": "[encoded data removed]"
     },
     "metadata": {
      "needs_background": "light"
     },
     "output_type": "display_data"
    }
   ],
   "source": [
    "plt.rcParams[\"figure.figsize\"] = (10,6)\n",
    "for model in [\"BNN\", \"BNN + BG\", \"RF\"]:\n",
    "    plt.plot(num_feats, bg_bnn_res_zero_out_9c[bg_bnn_res_zero_out_9c[\"model\"] == model].groupby([\"num_feats\"]).mean()[\"test_rmse_score\"].to_list(), label=model)\n",
    "    plt.xticks(num_feats)\n",
    "    plt.ylabel(\"Test RMSE\")\n",
    "    plt.xlabel(\"Num feats\")\n",
    "    plt.legend()"
   ],
   "metadata": {
    "collapsed": false,
    "pycharm": {
     "name": "#%%\n"
    }
   }
  },
  {
   "cell_type": "code",
   "execution_count": 36,
   "outputs": [
    {
     "data": {
      "text/plain": "                    test_rmse_score\nmodel    num_feats                 \nBNN      20                0.546965\nBNN + BG 20                0.546811\nRF       20                0.532412",
      "text/html": "<div>\n<style scoped>\n    .dataframe tbody tr th:only-of-type {\n        vertical-align: middle;\n    }\n\n    .dataframe tbody tr th {\n        vertical-align: top;\n    }\n\n    .dataframe thead th {\n        text-align: right;\n    }\n</style>\n<table border=\"1\" class=\"dataframe\">\n  <thead>\n    <tr style=\"text-align: right;\">\n      <th></th>\n      <th></th>\n      <th>test_rmse_score</th>\n    </tr>\n    <tr>\n      <th>model</th>\n      <th>num_feats</th>\n      <th></th>\n    </tr>\n  </thead>\n  <tbody>\n    <tr>\n      <th>BNN</th>\n      <th>20</th>\n      <td>0.546965</td>\n    </tr>\n    <tr>\n      <th>BNN + BG</th>\n      <th>20</th>\n      <td>0.546811</td>\n    </tr>\n    <tr>\n      <th>RF</th>\n      <th>20</th>\n      <td>0.532412</td>\n    </tr>\n  </tbody>\n</table>\n</div>"
     },
     "execution_count": 36,
     "metadata": {},
     "output_type": "execute_result"
    }
   ],
   "source": [
    "k = 20\n",
    "bg_rmse  = bg_bnn_res_zero_out_9c[(bg_bnn_res_zero_out_9c[\"model\"] == \"BNN + BG\") & (bg_bnn_res_zero_out_9c[\"num_feats\"] == k)][\"test_rmse_score\"].to_list()\n",
    "bnn_rmse  = bg_bnn_res_zero_out_9c[(bg_bnn_res_zero_out_9c[\"model\"] == \"BNN\") & (bg_bnn_res_zero_out_9c[\"num_feats\"] == k)][\"test_rmse_score\"].to_list()\n",
    "rf_rmse = bg_bnn_res_zero_out_9c[(bg_bnn_res_zero_out_9c[\"model\"] == \"RF\") & (bg_bnn_res_zero_out_9c[\"num_feats\"] == k)][\"test_rmse_score\"].to_list()\n",
    "bg_bnn_res_zero_out_9c[(bg_bnn_res_zero_out_9c[\"num_feats\"] == k)].groupby([\"model\", \"num_feats\"]).mean().iloc[:,1:]"
   ],
   "metadata": {
    "collapsed": false,
    "pycharm": {
     "name": "#%%\n"
    }
   }
  },
  {
   "cell_type": "code",
   "execution_count": 37,
   "outputs": [
    {
     "data": {
      "text/plain": "Ttest_relResult(statistic=3.3000719573186488, pvalue=0.004518617887491635)"
     },
     "execution_count": 37,
     "metadata": {},
     "output_type": "execute_result"
    }
   ],
   "source": [
    "stats.ttest_rel(bg_rmse, rf_rmse)"
   ],
   "metadata": {
    "collapsed": false,
    "pycharm": {
     "name": "#%%\n"
    }
   }
  },
  {
   "cell_type": "code",
   "execution_count": 45,
   "outputs": [
    {
     "data": {
      "text/plain": "<Figure size 720x432 with 1 Axes>",
      "image/png": "[encoded data removed]"
     },
     "metadata": {
      "needs_background": "light"
     },
     "output_type": "display_data"
    }
   ],
   "source": [
    "plt.rcParams[\"figure.figsize\"] = (10,6)\n",
    "for model in [\"BNN\", \"BNN + BG\", \"RF\"]:\n",
    "    plt.plot(num_feats, bg_bnn_res_zero_out_9f[bg_bnn_res_zero_out_9f[\"model\"] == model].groupby([\"num_feats\"]).mean()[\"test_rmse_score\"].to_list(), label=model)\n",
    "    plt.xticks(num_feats)\n",
    "    plt.ylabel(\"Test RMSE\")\n",
    "    plt.xlabel(\"Num feats\")\n",
    "    plt.legend()"
   ],
   "metadata": {
    "collapsed": false,
    "pycharm": {
     "name": "#%%\n"
    }
   }
  },
  {
   "cell_type": "code",
   "execution_count": 36,
   "outputs": [
    {
     "data": {
      "text/plain": "                    test_rmse_score\nmodel    num_feats                 \nBNN      20                0.550101\nBNN + BG 20                0.552185\nRF       20                0.537257",
      "text/html": "<div>\n<style scoped>\n    .dataframe tbody tr th:only-of-type {\n        vertical-align: middle;\n    }\n\n    .dataframe tbody tr th {\n        vertical-align: top;\n    }\n\n    .dataframe thead th {\n        text-align: right;\n    }\n</style>\n<table border=\"1\" class=\"dataframe\">\n  <thead>\n    <tr style=\"text-align: right;\">\n      <th></th>\n      <th></th>\n      <th>test_rmse_score</th>\n    </tr>\n    <tr>\n      <th>model</th>\n      <th>num_feats</th>\n      <th></th>\n    </tr>\n  </thead>\n  <tbody>\n    <tr>\n      <th>BNN</th>\n      <th>20</th>\n      <td>0.550101</td>\n    </tr>\n    <tr>\n      <th>BNN + BG</th>\n      <th>20</th>\n      <td>0.552185</td>\n    </tr>\n    <tr>\n      <th>RF</th>\n      <th>20</th>\n      <td>0.537257</td>\n    </tr>\n  </tbody>\n</table>\n</div>"
     },
     "execution_count": 36,
     "metadata": {},
     "output_type": "execute_result"
    }
   ],
   "source": [
    "bg_rmse  = bg_bnn_res_zero_out_9d[(bg_bnn_res_zero_out_9d[\"model\"] == \"BNN + BG\") & (bg_bnn_res_zero_out_9d[\"num_feats\"] == k)][\"test_rmse_score\"].to_list()\n",
    "bnn_rmse  = bg_bnn_res_zero_out_9d[(bg_bnn_res_zero_out_9d[\"model\"] == \"BNN\") & (bg_bnn_res_zero_out_9d[\"num_feats\"] == k)][\"test_rmse_score\"].to_list()\n",
    "rf_rmse = bg_bnn_res_zero_out_9d[(bg_bnn_res_zero_out_9d[\"model\"] == \"RF\") & (bg_bnn_res_zero_out_9d[\"num_feats\"] == k)][\"test_rmse_score\"].to_list()\n",
    "bg_bnn_res_zero_out_9d[(bg_bnn_res_zero_out_9d[\"num_feats\"] == k)].groupby([\"model\", \"num_feats\"]).mean().iloc[:,1:]"
   ],
   "metadata": {
    "collapsed": false,
    "pycharm": {
     "name": "#%%\n"
    }
   }
  },
  {
   "cell_type": "code",
   "execution_count": 56,
   "outputs": [
    {
     "data": {
      "text/plain": "   seed     model  num_feats  test_rmse_score\n3   422        RF         20         0.467902\n4   422       BNN         20         0.476825\n5   422  BNN + BG         20         0.477959\n3   261        RF         20         0.526706\n4   261       BNN         20         0.521276\n5   261  BNN + BG         20         0.523739\n3   968        RF         20         0.555036\n4   968       BNN         20         0.553267\n5   968  BNN + BG         20         0.550025\n3   282        RF         20         0.568548\n4   282       BNN         20         0.583371\n5   282  BNN + BG         20         0.592110\n3   739        RF         20         0.486812\n4   739       BNN         20         0.482552\n5   739  BNN + BG         20         0.483033\n3   573        RF         20         0.548462\n4   573       BNN         20         0.559185\n5   573  BNN + BG         20         0.564441\n3   220        RF         20         0.486899\n4   220       BNN         20         0.519210\n5   220  BNN + BG         20         0.521192\n3   413        RF         20         0.510458\n4   413       BNN         20         0.527150\n5   413  BNN + BG         20         0.534741\n3   745        RF         20         0.593969\n4   745       BNN         20         0.599368\n5   745  BNN + BG         20         0.590697\n3   775        RF         20         0.551865\n4   775       BNN         20         0.593941\n5   775  BNN + BG         20         0.558410\n3   482        RF         20         0.508278\n4   482       BNN         20         0.525208\n5   482  BNN + BG         20         0.527209\n3   442        RF         20         0.562625\n4   442       BNN         20         0.587384\n5   442  BNN + BG         20         0.581929\n3   210        RF         20         0.498292\n4   210       BNN         20         0.496948\n5   210  BNN + BG         20         0.497118\n3   423        RF         20         0.510952\n4   423       BNN         20         0.531811\n5   423  BNN + BG         20         0.525564\n3   760        RF         20         0.600117\n4   760       BNN         20         0.653082\n5   760  BNN + BG         20         0.667516\n3    57        RF         20         0.482612\n4    57       BNN         20         0.491862\n5    57  BNN + BG         20         0.502572\n3   769        RF         20         0.591469\n4   769       BNN         20         0.595965\n5   769  BNN + BG         20         0.597527\n3   920        RF         20         0.540765\n4   920       BNN         20         0.605932\n5   920  BNN + BG         20         0.573074\n3   226        RF         20         0.628834\n4   226       BNN         20         0.599602\n5   226  BNN + BG         20         0.620356\n3   196        RF         20         0.524545\n4   196       BNN         20         0.572522\n5   196  BNN + BG         20         0.545557",
      "text/html": "<div>\n<style scoped>\n    .dataframe tbody tr th:only-of-type {\n        vertical-align: middle;\n    }\n\n    .dataframe tbody tr th {\n        vertical-align: top;\n    }\n\n    .dataframe thead th {\n        text-align: right;\n    }\n</style>\n<table border=\"1\" class=\"dataframe\">\n  <thead>\n    <tr style=\"text-align: right;\">\n      <th></th>\n      <th>seed</th>\n      <th>model</th>\n      <th>num_feats</th>\n      <th>test_rmse_score</th>\n    </tr>\n  </thead>\n  <tbody>\n    <tr>\n      <th>3</th>\n      <td>422</td>\n      <td>RF</td>\n      <td>20</td>\n      <td>0.467902</td>\n    </tr>\n    <tr>\n      <th>4</th>\n      <td>422</td>\n      <td>BNN</td>\n      <td>20</td>\n      <td>0.476825</td>\n    </tr>\n    <tr>\n      <th>5</th>\n      <td>422</td>\n      <td>BNN + BG</td>\n      <td>20</td>\n      <td>0.477959</td>\n    </tr>\n    <tr>\n      <th>3</th>\n      <td>261</td>\n      <td>RF</td>\n      <td>20</td>\n      <td>0.526706</td>\n    </tr>\n    <tr>\n      <th>4</th>\n      <td>261</td>\n      <td>BNN</td>\n      <td>20</td>\n      <td>0.521276</td>\n    </tr>\n    <tr>\n      <th>5</th>\n      <td>261</td>\n      <td>BNN + BG</td>\n      <td>20</td>\n      <td>0.523739</td>\n    </tr>\n    <tr>\n      <th>3</th>\n      <td>968</td>\n      <td>RF</td>\n      <td>20</td>\n      <td>0.555036</td>\n    </tr>\n    <tr>\n      <th>4</th>\n      <td>968</td>\n      <td>BNN</td>\n      <td>20</td>\n      <td>0.553267</td>\n    </tr>\n    <tr>\n      <th>5</th>\n      <td>968</td>\n      <td>BNN + BG</td>\n      <td>20</td>\n      <td>0.550025</td>\n    </tr>\n    <tr>\n      <th>3</th>\n      <td>282</td>\n      <td>RF</td>\n      <td>20</td>\n      <td>0.568548</td>\n    </tr>\n    <tr>\n      <th>4</th>\n      <td>282</td>\n      <td>BNN</td>\n      <td>20</td>\n      <td>0.583371</td>\n    </tr>\n    <tr>\n      <th>5</th>\n      <td>282</td>\n      <td>BNN + BG</td>\n      <td>20</td>\n      <td>0.592110</td>\n    </tr>\n    <tr>\n      <th>3</th>\n      <td>739</td>\n      <td>RF</td>\n      <td>20</td>\n      <td>0.486812</td>\n    </tr>\n    <tr>\n      <th>4</th>\n      <td>739</td>\n      <td>BNN</td>\n      <td>20</td>\n      <td>0.482552</td>\n    </tr>\n    <tr>\n      <th>5</th>\n      <td>739</td>\n      <td>BNN + BG</td>\n      <td>20</td>\n      <td>0.483033</td>\n    </tr>\n    <tr>\n      <th>3</th>\n      <td>573</td>\n      <td>RF</td>\n      <td>20</td>\n      <td>0.548462</td>\n    </tr>\n    <tr>\n      <th>4</th>\n      <td>573</td>\n      <td>BNN</td>\n      <td>20</td>\n      <td>0.559185</td>\n    </tr>\n    <tr>\n      <th>5</th>\n      <td>573</td>\n      <td>BNN + BG</td>\n      <td>20</td>\n      <td>0.564441</td>\n    </tr>\n    <tr>\n      <th>3</th>\n      <td>220</td>\n      <td>RF</td>\n      <td>20</td>\n      <td>0.486899</td>\n    </tr>\n    <tr>\n      <th>4</th>\n      <td>220</td>\n      <td>BNN</td>\n      <td>20</td>\n      <td>0.519210</td>\n    </tr>\n    <tr>\n      <th>5</th>\n      <td>220</td>\n      <td>BNN + BG</td>\n      <td>20</td>\n      <td>0.521192</td>\n    </tr>\n    <tr>\n      <th>3</th>\n      <td>413</td>\n      <td>RF</td>\n      <td>20</td>\n      <td>0.510458</td>\n    </tr>\n    <tr>\n      <th>4</th>\n      <td>413</td>\n      <td>BNN</td>\n      <td>20</td>\n      <td>0.527150</td>\n    </tr>\n    <tr>\n      <th>5</th>\n      <td>413</td>\n      <td>BNN + BG</td>\n      <td>20</td>\n      <td>0.534741</td>\n    </tr>\n    <tr>\n      <th>3</th>\n      <td>745</td>\n      <td>RF</td>\n      <td>20</td>\n      <td>0.593969</td>\n    </tr>\n    <tr>\n      <th>4</th>\n      <td>745</td>\n      <td>BNN</td>\n      <td>20</td>\n      <td>0.599368</td>\n    </tr>\n    <tr>\n      <th>5</th>\n      <td>745</td>\n      <td>BNN + BG</td>\n      <td>20</td>\n      <td>0.590697</td>\n    </tr>\n    <tr>\n      <th>3</th>\n      <td>775</td>\n      <td>RF</td>\n      <td>20</td>\n      <td>0.551865</td>\n    </tr>\n    <tr>\n      <th>4</th>\n      <td>775</td>\n      <td>BNN</td>\n      <td>20</td>\n      <td>0.593941</td>\n    </tr>\n    <tr>\n      <th>5</th>\n      <td>775</td>\n      <td>BNN + BG</td>\n      <td>20</td>\n      <td>0.558410</td>\n    </tr>\n    <tr>\n      <th>3</th>\n      <td>482</td>\n      <td>RF</td>\n      <td>20</td>\n      <td>0.508278</td>\n    </tr>\n    <tr>\n      <th>4</th>\n      <td>482</td>\n      <td>BNN</td>\n      <td>20</td>\n      <td>0.525208</td>\n    </tr>\n    <tr>\n      <th>5</th>\n      <td>482</td>\n      <td>BNN + BG</td>\n      <td>20</td>\n      <td>0.527209</td>\n    </tr>\n    <tr>\n      <th>3</th>\n      <td>442</td>\n      <td>RF</td>\n      <td>20</td>\n      <td>0.562625</td>\n    </tr>\n    <tr>\n      <th>4</th>\n      <td>442</td>\n      <td>BNN</td>\n      <td>20</td>\n      <td>0.587384</td>\n    </tr>\n    <tr>\n      <th>5</th>\n      <td>442</td>\n      <td>BNN + BG</td>\n      <td>20</td>\n      <td>0.581929</td>\n    </tr>\n    <tr>\n      <th>3</th>\n      <td>210</td>\n      <td>RF</td>\n      <td>20</td>\n      <td>0.498292</td>\n    </tr>\n    <tr>\n      <th>4</th>\n      <td>210</td>\n      <td>BNN</td>\n      <td>20</td>\n      <td>0.496948</td>\n    </tr>\n    <tr>\n      <th>5</th>\n      <td>210</td>\n      <td>BNN + BG</td>\n      <td>20</td>\n      <td>0.497118</td>\n    </tr>\n    <tr>\n      <th>3</th>\n      <td>423</td>\n      <td>RF</td>\n      <td>20</td>\n      <td>0.510952</td>\n    </tr>\n    <tr>\n      <th>4</th>\n      <td>423</td>\n      <td>BNN</td>\n      <td>20</td>\n      <td>0.531811</td>\n    </tr>\n    <tr>\n      <th>5</th>\n      <td>423</td>\n      <td>BNN + BG</td>\n      <td>20</td>\n      <td>0.525564</td>\n    </tr>\n    <tr>\n      <th>3</th>\n      <td>760</td>\n      <td>RF</td>\n      <td>20</td>\n      <td>0.600117</td>\n    </tr>\n    <tr>\n      <th>4</th>\n      <td>760</td>\n      <td>BNN</td>\n      <td>20</td>\n      <td>0.653082</td>\n    </tr>\n    <tr>\n      <th>5</th>\n      <td>760</td>\n      <td>BNN + BG</td>\n      <td>20</td>\n      <td>0.667516</td>\n    </tr>\n    <tr>\n      <th>3</th>\n      <td>57</td>\n      <td>RF</td>\n      <td>20</td>\n      <td>0.482612</td>\n    </tr>\n    <tr>\n      <th>4</th>\n      <td>57</td>\n      <td>BNN</td>\n      <td>20</td>\n      <td>0.491862</td>\n    </tr>\n    <tr>\n      <th>5</th>\n      <td>57</td>\n      <td>BNN + BG</td>\n      <td>20</td>\n      <td>0.502572</td>\n    </tr>\n    <tr>\n      <th>3</th>\n      <td>769</td>\n      <td>RF</td>\n      <td>20</td>\n      <td>0.591469</td>\n    </tr>\n    <tr>\n      <th>4</th>\n      <td>769</td>\n      <td>BNN</td>\n      <td>20</td>\n      <td>0.595965</td>\n    </tr>\n    <tr>\n      <th>5</th>\n      <td>769</td>\n      <td>BNN + BG</td>\n      <td>20</td>\n      <td>0.597527</td>\n    </tr>\n    <tr>\n      <th>3</th>\n      <td>920</td>\n      <td>RF</td>\n      <td>20</td>\n      <td>0.540765</td>\n    </tr>\n    <tr>\n      <th>4</th>\n      <td>920</td>\n      <td>BNN</td>\n      <td>20</td>\n      <td>0.605932</td>\n    </tr>\n    <tr>\n      <th>5</th>\n      <td>920</td>\n      <td>BNN + BG</td>\n      <td>20</td>\n      <td>0.573074</td>\n    </tr>\n    <tr>\n      <th>3</th>\n      <td>226</td>\n      <td>RF</td>\n      <td>20</td>\n      <td>0.628834</td>\n    </tr>\n    <tr>\n      <th>4</th>\n      <td>226</td>\n      <td>BNN</td>\n      <td>20</td>\n      <td>0.599602</td>\n    </tr>\n    <tr>\n      <th>5</th>\n      <td>226</td>\n      <td>BNN + BG</td>\n      <td>20</td>\n      <td>0.620356</td>\n    </tr>\n    <tr>\n      <th>3</th>\n      <td>196</td>\n      <td>RF</td>\n      <td>20</td>\n      <td>0.524545</td>\n    </tr>\n    <tr>\n      <th>4</th>\n      <td>196</td>\n      <td>BNN</td>\n      <td>20</td>\n      <td>0.572522</td>\n    </tr>\n    <tr>\n      <th>5</th>\n      <td>196</td>\n      <td>BNN + BG</td>\n      <td>20</td>\n      <td>0.545557</td>\n    </tr>\n  </tbody>\n</table>\n</div>"
     },
     "execution_count": 56,
     "metadata": {},
     "output_type": "execute_result"
    }
   ],
   "source": [
    "bg_bnn_res_zero_out_9d[(bg_bnn_res_zero_out_9d[\"num_feats\"] == k)]"
   ],
   "metadata": {
    "collapsed": false,
    "pycharm": {
     "name": "#%%\n"
    }
   }
  },
  {
   "cell_type": "code",
   "execution_count": 57,
   "outputs": [
    {
     "data": {
      "text/plain": "Ttest_relResult(statistic=1.1081128775352531, pvalue=0.2816439743249882)"
     },
     "execution_count": 57,
     "metadata": {},
     "output_type": "execute_result"
    }
   ],
   "source": [
    "stats.ttest_rel(bg_rmse, bnn_rmse)"
   ],
   "metadata": {
    "collapsed": false,
    "pycharm": {
     "name": "#%%\n"
    }
   }
  },
  {
   "cell_type": "code",
   "execution_count": 58,
   "outputs": [
    {
     "data": {
      "text/plain": "Ttest_relResult(statistic=4.0486962271891835, pvalue=0.0006855383672629304)"
     },
     "execution_count": 58,
     "metadata": {},
     "output_type": "execute_result"
    }
   ],
   "source": [
    "stats.ttest_rel(bg_rmse, rf_rmse)"
   ],
   "metadata": {
    "collapsed": false,
    "pycharm": {
     "name": "#%%\n"
    }
   }
  },
  {
   "cell_type": "markdown",
   "source": [
    "### Retrain Ranking"
   ],
   "metadata": {
    "collapsed": false,
    "pycharm": {
     "name": "#%% md\n"
    }
   }
  },
  {
   "cell_type": "code",
   "execution_count": 59,
   "outputs": [],
   "source": [
    "import pickle\n",
    "from tqdm import tqdm\n",
    "from sklearn.preprocessing import QuantileTransformer\n",
    "from scipy.stats import pearsonr\n",
    "import warnings\n",
    "import optuna\n",
    "warnings.filterwarnings(\"ignore\")\n",
    "\n",
    "num_feats = [10, 20, 30, 40, 50]\n",
    "\n",
    "def retrain_ranking(seeds, X, y, J):\n",
    "    J_zero = np.zeros_like(J)\n",
    "    p = X.shape[1]\n",
    "    for seed in tqdm(seeds):\n",
    "        bg_bnn_rf_res_dict = {\"seed\": [], \"model\": [], \"num_feats\": [], \"test_rmse_score\": []}\n",
    "\n",
    "        X_train_outer_df, X_test_df, y_train_outer_df, y_test_df = train_test_split(X, y, random_state=seed, shuffle=True, test_size=0.2)\n",
    "\n",
    "        train_transformer = QuantileTransformer(random_state=seed, output_distribution=\"normal\").fit(X_train_outer_df)\n",
    "        train_transformed = train_transformer.transform(X_train_outer_df)\n",
    "        test_transformed = train_transformer.transform(X_test_df)\n",
    "\n",
    "        X_train_outer_df = pd.DataFrame(train_transformed, columns=X_train_outer_df.columns)\n",
    "        X_test_df = pd.DataFrame(test_transformed, columns=X_test_df.columns)\n",
    "\n",
    "        X_train_df, X_val_df, y_train_df, y_val_df = train_test_split(X_train_outer_df, y_train_outer_df, shuffle=True,\n",
    "                                                                      random_state=seed, test_size=0.2)\n",
    "\n",
    "\n",
    "        train_indices, val_indices = X_train_df.index.to_list(), X_val_df.index.to_list()\n",
    "        X_train_outer, y_train_outer = X_train_outer_df.values, y_train_outer_df.values\n",
    "        X_train, y_train = X_train_df.values, y_train_df.values\n",
    "        X_val, y_val = X_val_df.values, y_val_df.values\n",
    "        X_test, y_test = X_test_df.values, y_test_df.values\n",
    "\n",
    "        torch.manual_seed(seed)\n",
    "        data_loader = NumpyLoader(NumpyData(X_train, y_train), batch_size=batch_size, shuffle=True)\n",
    "\n",
    "\n",
    "        bnn_bg_config = pickle.load(open(f\"{save_dir}/configs/bg_bnn_config_s_{seed}_optuna_v9c.pkl\", \"rb\"))\n",
    "        eta, mu_bg= 1.0, bnn_bg_config[\"mu\"]\n",
    "\n",
    "        if os.path.exists(f\"{save_dir}/dropout/bg_bnn_dropout_loss_s_{seed}_v9c.csv\"):\n",
    "            bg_bnn_dropout_loss_df = pd.read_csv(f\"{save_dir}/dropout/bg_bnn_dropout_loss_s_{seed}_v9c.csv\")\n",
    "        else:\n",
    "            bg_bnn_model = init_bg_bnn_model(seed, data_loader, epochs, lr_0, disc_lr_0, num_cycles, temp, sigma, hidden_sizes, J, eta, mu_bg, alpha, act_fn)\n",
    "            bg_states =  pickle.load(open(f\"{save_dir}/checkpoints/bg_bnn_states_s_{seed}_v9c.pkl\", \"rb\"))\n",
    "            bg_disc_states = pickle.load(open(f\"{save_dir}/checkpoints/bg_bnn_disc_states_s_{seed}_v9c.pkl\", \"rb\"))\n",
    "            bg_bnn_dropout_loss_df = get_feats_dropout_loss(bg_bnn_model, bg_states, bg_disc_states, X_val, y_val)\n",
    "            bg_bnn_dropout_loss_df.to_csv(f\"{save_dir}/dropout/bg_bnn_dropout_loss_s_{seed}_v9c.csv\", index=False)\n",
    "\n",
    "        bnn_config = pickle.load(open(f\"{save_dir}/configs/bnn_config_s_{seed}_optuna_v9c.pkl\", \"rb\"))\n",
    "        eta, mu = 1.0, bnn_config[\"mu\"]\n",
    "        if os.path.exists(f\"{save_dir}/dropout/bnn_dropout_loss_s_{seed}_v9c.csv\"):\n",
    "            bnn_dropout_loss_df = pd.read_csv(f\"{save_dir}/dropout/bnn_dropout_loss_s_{seed}_v9c.csv\")\n",
    "        else:\n",
    "\n",
    "            bnn_model = init_bg_bnn_model(seed, data_loader, epochs, lr_0, disc_lr_0, num_cycles, temp, sigma, hidden_sizes, J_zero, eta, mu, alpha, act_fn)\n",
    "            bnn_states = pickle.load(open(f\"{save_dir}/checkpoints/bnn_states_s_{seed}_v9c.pkl\", \"rb\"))\n",
    "            bnn_disc_states = pickle.load(open(f\"{save_dir}/checkpoints/bnn_disc_states_s_{seed}_v9c.pkl\", \"rb\"))\n",
    "            bnn_dropout_loss_df = get_feats_dropout_loss(bnn_model, bnn_states, bnn_disc_states, X_val, y_val)\n",
    "            bnn_dropout_loss_df.to_csv(f\"{save_dir}/dropout/bg_bnn_dropout_loss_s_{seed}_v9c.csv\", index=False)\n",
    "        #\n",
    "        if os.path.exists(f\"{save_dir}/checkpoints/rf_model_s_{seed}.pkl\"):\n",
    "            rf_model = pickle.load(open(f\"{save_dir}/checkpoints/rf_model_s_{seed}.pkl\", \"rb\"))\n",
    "        else:\n",
    "            rf_model = train_rf_model(seed, X_train_outer, y_train_outer, train_indices, val_indices)\n",
    "            pickle.dump(rf_model, open(f\"{save_dir}/checkpoints/rf_model_s_{seed}.pkl\", \"wb\"))\n",
    "\n",
    "\n",
    "        for num_feat in num_feats:\n",
    "            bg_bnn_feat_idx = bg_bnn_dropout_loss_df[\"feats_idx\"][:num_feat].to_list()\n",
    "            bnn_feat_idx = bnn_dropout_loss_df[\"feats_idx\"][:num_feat].to_list()\n",
    "            rf_feat_idx = np.argsort(rf_model.feature_importances_)[::-1][:num_feat]\n",
    "\n",
    "\n",
    "\n",
    "            ### BNN + BG\n",
    "            bg_bnn_mask = np.zeros(p)\n",
    "            bg_bnn_mask[bg_bnn_feat_idx] = 1.0\n",
    "            X_train_bg_bnn_m, X_test_bg_bnn_m = X_train @ np.diag(bg_bnn_mask),  X_test @ np.diag(bg_bnn_mask)\n",
    "            torch.manual_seed(seed)\n",
    "            data_loader_bg = NumpyLoader(NumpyData(X_train_bg_bnn_m, y_train), batch_size=batch_size, shuffle=True)\n",
    "            bg_bnn_model, bg_states_re, bg_disc_states_re = train_bg_bnn_model(seed, data_loader_bg, epochs, num_cycles, beta, beta_noise, lr_0, disc_lr_0, hidden_sizes, temp, sigma, eta, mu_bg, alpha, J, act_fn)\n",
    "            rmse_bg_bnn, r2_bg_bnn = score_bg_bnn_model(bg_bnn_model, X_test_bg_bnn_m, y_test, bg_states_re, bg_disc_states_re)\n",
    "\n",
    "            ## BNN w/o BG\n",
    "            bnn_mask = np.zeros(p)\n",
    "            bnn_mask[bnn_feat_idx] = 1.0\n",
    "            X_train_bnn_m, X_test_bnn_m = X_train @ np.diag(bnn_mask), X_test @ np.diag(bnn_mask)\n",
    "            data_loader_bnn = NumpyLoader(NumpyData(X_train_bnn_m, y_train), batch_size=batch_size, shuffle=True)\n",
    "            bnn_model, bnn_states_re, bnn_disc_states_re = train_bg_bnn_model(seed, data_loader_bnn, epochs, num_cycles, beta, beta_noise, lr_0, disc_lr_0, hidden_sizes, temp, sigma, eta, mu, alpha, J_zero, act_fn)\n",
    "            rmse_bnn, r2_bnn = score_bg_bnn_model(bnn_model, X_test_bnn_m, y_test, bnn_states_re, bnn_disc_states_re)\n",
    "\n",
    "            ## RF\n",
    "            rf_mask = np.zeros(p)\n",
    "            rf_mask[rf_feat_idx] = 1.0\n",
    "            X_train_rf_m, X_test_rf_m = X_train @ np.diag(rf_mask),  X_test @ np.diag(rf_mask)\n",
    "            rf_model.fit(X_train_rf_m, y_train)\n",
    "            rmse_rf, r2_rf = eval_rf_model(rf_model, X_test_rf_m, y_test)\n",
    "\n",
    "            bg_bnn_rf_res_dict[\"seed\"].append(seed)\n",
    "            bg_bnn_rf_res_dict[\"model\"].append(\"RF\")\n",
    "            bg_bnn_rf_res_dict[\"num_feats\"].append(num_feat)\n",
    "            bg_bnn_rf_res_dict[\"test_rmse_score\"].append(rmse_rf)\n",
    "            # bg_bnn_rf_res_dict[\"test_r2_score\"].append(r2_rf)\n",
    "\n",
    "            bg_bnn_rf_res_dict[\"seed\"].append(seed)\n",
    "            bg_bnn_rf_res_dict[\"model\"].append(\"BNN\")\n",
    "            bg_bnn_rf_res_dict[\"num_feats\"].append(num_feat)\n",
    "            bg_bnn_rf_res_dict[\"test_rmse_score\"].append(rmse_bnn)\n",
    "            # bg_bnn_rf_res_dict[\"test_r2_score\"].append(r2_bnn)\n",
    "\n",
    "\n",
    "            bg_bnn_rf_res_dict[\"seed\"].append(seed)\n",
    "            bg_bnn_rf_res_dict[\"model\"].append(\"BNN + BG\")\n",
    "            bg_bnn_rf_res_dict[\"num_feats\"].append(num_feat)\n",
    "            bg_bnn_rf_res_dict[\"test_rmse_score\"].append(rmse_bg_bnn)\n",
    "            # bg_bnn_rf_res_dict[\"test_r2_score\"].append(r2_bg_bnn)\n",
    "\n",
    "\n",
    "\n",
    "        pd.DataFrame(bg_bnn_rf_res_dict).to_csv(f\"{save_dir}/results/feat_retrain_comp_bnn_bg_rf_s_{seed}_v9c.csv\", index=False)\n",
    "\n",
    "    print(\"Done\")"
   ],
   "metadata": {
    "collapsed": false,
    "pycharm": {
     "name": "#%%\n"
    }
   }
  },
  {
   "cell_type": "code",
   "execution_count": 60,
   "outputs": [
    {
     "name": "stderr",
     "output_type": "stream",
     "text": [
      "100%|██████████| 20/20 [1:53:48<00:00, 341.45s/it]"
     ]
    },
    {
     "name": "stdout",
     "output_type": "stream",
     "text": [
      "Done\n"
     ]
    },
    {
     "name": "stderr",
     "output_type": "stream",
     "text": [
      "\n"
     ]
    }
   ],
   "source": [
    "seeds = [422,261,968,282,739,573,220,413,745,775,482,442,210,423,760,57,769,920,226,196]\n",
    "curr_seeds = seeds\n",
    "retrain_ranking(curr_seeds, X_selected, target, J)"
   ],
   "metadata": {
    "collapsed": false,
    "pycharm": {
     "name": "#%%\n"
    }
   }
  },
  {
   "cell_type": "code",
   "execution_count": 40,
   "outputs": [
    {
     "data": {
      "text/plain": "                    test_rmse_score\nmodel    num_feats                 \nBNN      10                0.525038\n         20                0.510743\n         30                0.508887\n         40                0.501736\n         50                0.495603\nBNN + BG 10                0.521024\n         20                0.511047\n         30                0.506719\n         40                0.505639\n         50                0.498612\nRF       10                0.484177\n         20                0.485715\n         30                0.487930\n         40                0.488181\n         50                0.485047",
      "text/html": "<div>\n<style scoped>\n    .dataframe tbody tr th:only-of-type {\n        vertical-align: middle;\n    }\n\n    .dataframe tbody tr th {\n        vertical-align: top;\n    }\n\n    .dataframe thead th {\n        text-align: right;\n    }\n</style>\n<table border=\"1\" class=\"dataframe\">\n  <thead>\n    <tr style=\"text-align: right;\">\n      <th></th>\n      <th></th>\n      <th>test_rmse_score</th>\n    </tr>\n    <tr>\n      <th>model</th>\n      <th>num_feats</th>\n      <th></th>\n    </tr>\n  </thead>\n  <tbody>\n    <tr>\n      <th rowspan=\"5\" valign=\"top\">BNN</th>\n      <th>10</th>\n      <td>0.525038</td>\n    </tr>\n    <tr>\n      <th>20</th>\n      <td>0.510743</td>\n    </tr>\n    <tr>\n      <th>30</th>\n      <td>0.508887</td>\n    </tr>\n    <tr>\n      <th>40</th>\n      <td>0.501736</td>\n    </tr>\n    <tr>\n      <th>50</th>\n      <td>0.495603</td>\n    </tr>\n    <tr>\n      <th rowspan=\"5\" valign=\"top\">BNN + BG</th>\n      <th>10</th>\n      <td>0.521024</td>\n    </tr>\n    <tr>\n      <th>20</th>\n      <td>0.511047</td>\n    </tr>\n    <tr>\n      <th>30</th>\n      <td>0.506719</td>\n    </tr>\n    <tr>\n      <th>40</th>\n      <td>0.505639</td>\n    </tr>\n    <tr>\n      <th>50</th>\n      <td>0.498612</td>\n    </tr>\n    <tr>\n      <th rowspan=\"5\" valign=\"top\">RF</th>\n      <th>10</th>\n      <td>0.484177</td>\n    </tr>\n    <tr>\n      <th>20</th>\n      <td>0.485715</td>\n    </tr>\n    <tr>\n      <th>30</th>\n      <td>0.487930</td>\n    </tr>\n    <tr>\n      <th>40</th>\n      <td>0.488181</td>\n    </tr>\n    <tr>\n      <th>50</th>\n      <td>0.485047</td>\n    </tr>\n  </tbody>\n</table>\n</div>"
     },
     "execution_count": 40,
     "metadata": {},
     "output_type": "execute_result"
    }
   ],
   "source": [
    "save_dir = f\"{data_dir}/exp_data_5/cancer/gdsc/tamox\"\n",
    "res_dfs = []\n",
    "for seed in curr_seeds:\n",
    "    df = pd.read_csv(f\"{save_dir}/results/feat_retrain_comp_bnn_bg_rf_s_{seed}_v9c.csv\")\n",
    "    res_dfs.append(df)\n",
    "\n",
    "bg_bnn_res_retrain_9c = pd.concat(res_dfs, axis=0)\n",
    "# bg_bnn_res_retrain_9c = bg_bnn_res_retrain_9c.drop_duplicates()\n",
    "bg_bnn_res_retrain_9c.groupby([\"model\", \"num_feats\"]).mean().iloc[:,1:]"
   ],
   "metadata": {
    "collapsed": false,
    "pycharm": {
     "name": "#%%\n"
    }
   }
  },
  {
   "cell_type": "code",
   "execution_count": 62,
   "outputs": [
    {
     "data": {
      "text/plain": "<Figure size 576x432 with 1 Axes>",
      "image/png": "[encoded data removed]"
     },
     "metadata": {
      "needs_background": "light"
     },
     "output_type": "display_data"
    }
   ],
   "source": [
    "plt.rcParams[\"figure.figsize\"] = (8,6)\n",
    "for model in [\"BNN\", \"BNN + BG\", \"RF\"]:\n",
    "    plt.plot(num_feats, bg_bnn_res_retrain_9c[bg_bnn_res_retrain_9c[\"model\"] == model].groupby([\"num_feats\"]).mean()[\"test_rmse_score\"].to_list(), label=model)\n",
    "    plt.xticks(num_feats)\n",
    "    plt.ylabel(\"Test RMSE\")\n",
    "    plt.xlabel(\"Num feats\")\n",
    "    plt.legend()"
   ],
   "metadata": {
    "collapsed": false,
    "pycharm": {
     "name": "#%%\n"
    }
   }
  },
  {
   "cell_type": "code",
   "execution_count": null,
   "outputs": [],
   "source": [
    "plt.rcParams[\"figure.figsize\"] = (8,6)\n",
    "for model in [\"BNN\", \"BNN + BG\", \"RF\"]:\n",
    "    plt.plot(num_feats, bg_bnn_res_retrain_9c[bg_bnn_res_retrain_9c[\"model\"] == model].groupby([\"num_feats\"]).mean()[\"test_rmse_score\"].to_list(), label=model)\n",
    "    plt.xticks(num_feats)\n",
    "    plt.ylabel(\"Test RMSE\")\n",
    "    plt.xlabel(\"Num feats\")\n",
    "    plt.legend()"
   ],
   "metadata": {
    "collapsed": false,
    "pycharm": {
     "name": "#%%\n"
    }
   }
  },
  {
   "cell_type": "code",
   "execution_count": 47,
   "outputs": [
    {
     "data": {
      "text/plain": "                    test_rmse_score\nmodel    num_feats                 \nBNN      50                0.495603\nBNN + BG 50                0.498612\nRF       50                0.485047",
      "text/html": "<div>\n<style scoped>\n    .dataframe tbody tr th:only-of-type {\n        vertical-align: middle;\n    }\n\n    .dataframe tbody tr th {\n        vertical-align: top;\n    }\n\n    .dataframe thead th {\n        text-align: right;\n    }\n</style>\n<table border=\"1\" class=\"dataframe\">\n  <thead>\n    <tr style=\"text-align: right;\">\n      <th></th>\n      <th></th>\n      <th>test_rmse_score</th>\n    </tr>\n    <tr>\n      <th>model</th>\n      <th>num_feats</th>\n      <th></th>\n    </tr>\n  </thead>\n  <tbody>\n    <tr>\n      <th>BNN</th>\n      <th>50</th>\n      <td>0.495603</td>\n    </tr>\n    <tr>\n      <th>BNN + BG</th>\n      <th>50</th>\n      <td>0.498612</td>\n    </tr>\n    <tr>\n      <th>RF</th>\n      <th>50</th>\n      <td>0.485047</td>\n    </tr>\n  </tbody>\n</table>\n</div>"
     },
     "execution_count": 47,
     "metadata": {},
     "output_type": "execute_result"
    }
   ],
   "source": [
    "k = 50\n",
    "bg_rmse  = bg_bnn_res_retrain_9c[(bg_bnn_res_retrain_9c[\"model\"] == \"BNN + BG\") & (bg_bnn_res_retrain_9c[\"num_feats\"] == k)][\"test_rmse_score\"].to_list()\n",
    "bnn_rmse  = bg_bnn_res_retrain_9c[(bg_bnn_res_retrain_9c[\"model\"] == \"BNN\") & (bg_bnn_res_retrain_9c[\"num_feats\"] == k)][\"test_rmse_score\"].to_list()\n",
    "rf_rmse = bg_bnn_res_retrain_9c[(bg_bnn_res_retrain_9c[\"model\"] == \"RF\") & (bg_bnn_res_retrain_9c[\"num_feats\"] == k)][\"test_rmse_score\"].to_list()\n",
    "bg_bnn_res_retrain_9c[(bg_bnn_res_retrain_9c[\"num_feats\"] == k)].groupby([\"model\", \"num_feats\"]).mean().iloc[:,1:]"
   ],
   "metadata": {
    "collapsed": false,
    "pycharm": {
     "name": "#%%\n"
    }
   }
  },
  {
   "cell_type": "markdown",
   "source": [
    "#### GP"
   ],
   "metadata": {
    "collapsed": false,
    "pycharm": {
     "name": "#%% md\n"
    }
   }
  },
  {
   "cell_type": "markdown",
   "metadata": {
    "collapsed": false,
    "pycharm": {
     "name": "#%% md\n"
    }
   },
   "source": []
  },
  {
   "cell_type": "code",
   "execution_count": 62,
   "metadata": {
    "collapsed": false,
    "pycharm": {
     "name": "#%%\n"
    }
   },
   "outputs": [],
   "source": [
    "from gplearn.genetic import SymbolicTransformer, SymbolicClassifier, SymbolicRegressor\n",
    "from gplearn.functions import make_function\n",
    "import operator\n",
    "from sklearn.linear_model import Ridge\n",
    "from sklearn.model_selection import GridSearchCV\n",
    "from scipy import stats\n",
    "import warnings\n",
    "warnings.filterwarnings(\"ignore\")\n",
    "\n",
    "def get_best_programs(gp, num_models, classifier=True, ascending=True, sort_fit=\"OOB_fitness\"):\n",
    "    gp_dict = {'Gen': [], \"Ind\": [], \"Fitness\": [], 'OOB_fitness': [], \"Equation\": []}\n",
    "\n",
    "    if classifier:\n",
    "        for idGen in range(len(gp._programs)):\n",
    "            for idPopulation in range(gp.population_size):\n",
    "                gp_dict[\"Gen\"].append(idGen)\n",
    "                gp_dict[\"Ind\"].append(idPopulation)\n",
    "                gp_dict[\"Fitness\"].append(gp._programs[idGen][idPopulation].fitness_)\n",
    "                gp_dict[\"OOB_fitness\"].append(gp._programs[idGen][idPopulation].oob_fitness_)\n",
    "                gp_dict[\"Equation\"].append(str(gp._programs[idGen][idPopulation]))\n",
    "    else:\n",
    "        for idx, prog in enumerate(gp._programs[-1]):\n",
    "                gp_dict[\"Gen\"].append(-1)\n",
    "                gp_dict[\"Ind\"].append(idx)\n",
    "                gp_dict[\"Fitness\"].append(prog.fitness_)\n",
    "                gp_dict[\"OOB_fitness\"].append(prog.oob_fitness_)\n",
    "                gp_dict[\"Equation\"].append(str(prog))\n",
    "\n",
    "    gp_df = pd.DataFrame(gp_dict).sort_values(sort_fit, ascending=ascending)[:num_models]\n",
    "    programs = []\n",
    "    for i in range(num_models):\n",
    "        gen, ind = int(gp_df.iloc[i][\"Gen\"]), int(gp_df.iloc[i][\"Ind\"])\n",
    "        programs.append(gp._programs[gen][ind])\n",
    "\n",
    "    return programs, gp_df\n",
    "\n",
    "\n",
    "def gp_transform(est, X, classifier=False, num_models=100, sort_fit=\"Fitness\"):\n",
    "    if classifier or (sort_fit == \"OOB_fitness\"):\n",
    "        programs, gp_df = get_best_programs(est, num_models, classifier, sort_fit=sort_fit, ascending=classifier)\n",
    "        out = np.zeros((X.shape[0], len(programs)))\n",
    "        for i, prog in enumerate(programs):\n",
    "            out[:, i] = prog.execute(X)\n",
    "\n",
    "        return out, gp_df\n",
    "    else:\n",
    "        return est.transform(X), None\n",
    "\n",
    "function_set = ['add', 'sub', 'mul', 'div', 'sqrt', 'log',\n",
    "                'abs', 'neg', 'inv', 'max', 'min', 'sin', 'cos']\n",
    "\n",
    "def train_linear_model(seed, X_train, X_test, y_train, y_test):\n",
    "    cv = KFold(n_splits=3, random_state=seed, shuffle=True)\n",
    "    param_grid = {\"alpha\": np.logspace(-2, 2, 20)}\n",
    "    grid_cv = GridSearchCV(estimator=Ridge(max_iter=10000), param_grid=param_grid, \n",
    "                                            verbose=0, scoring=\"r2\", cv=cv).fit(X_train, y_train)\n",
    "    lin_model = Ridge(max_iter=10000, **grid_cv.best_params_)\n",
    "    lin_model.fit(X_train, y_train)\n",
    "    y_test_pred = lin_model.predict(X_test)\n",
    "\n",
    "    test_rmse_score = np.sqrt(np.mean((y_test - y_test_pred)**2))\n",
    "    test_r2_score = r2_score(y_test, y_test_pred)\n",
    "    test_pearson, test_pval = stats.pearsonr(y_test, y_test_pred)\n",
    "\n",
    "    return test_rmse_score, test_r2_score, test_pearson, test_pval\n",
    "\n",
    "def train_gp(seed, X_train, X_test, y_train, y_test, num_models=5, sort_fit=\"OOB_fitness\", verbose=0, num_gen=100,\n",
    "                        p_cxvr=0.8, p_subt_mut=0.1, p_hmut=0.05, p_pmut=0.1, subsample=0.8, complexity_coef=0.05):\n",
    "    gp_est = SymbolicTransformer(population_size=1000, hall_of_fame=200, n_components=50, generations=num_gen,\n",
    "                                 function_set=function_set,\n",
    "                           p_crossover=p_cxvr, p_subtree_mutation=p_subt_mut,\n",
    "                           p_hoist_mutation=p_hmut, p_point_mutation=p_pmut,\n",
    "                           max_samples=subsample, verbose=verbose,\n",
    "                           parsimony_coefficient=complexity_coef, random_state=seed)\n",
    "\n",
    "    gp_est.fit(X_train, y_train)\n",
    "\n",
    "    gp_features_train, gp_train_df = gp_transform(gp_est, X_train, classifier=False, sort_fit=sort_fit, num_models=num_models)\n",
    "    gp_features_test, gp_test_df = gp_transform(gp_est, X_test, classifier=False, sort_fit=sort_fit, num_models=num_models)\n",
    "\n",
    "    X_train_comb = np.concatenate([X_train, gp_features_train], axis=1)\n",
    "    X_test_comb = np.concatenate([X_test, gp_features_test], axis=1)\n",
    "\n",
    "\n",
    "    test_rmse_score, test_r2_score, test_pearson, test_pval = train_linear_model(seed, X_train_comb, X_test_comb, y_train, y_test)\n",
    "\n",
    "    return test_rmse_score, test_r2_score, test_pearson, test_pval, gp_test_df\n",
    "\n",
    "def train_gp_v2(seed, X_train, X_test, y_train,y_test, verbose=0, num_gen=100,\n",
    "             p_cxvr=0.8, p_subt_mut=0.1, p_hmut=0.05, p_pmut=0.1, subsample=0.8, complexity_coef=0.05):\n",
    "    gp_est = SymbolicRegressor(population_size=1000, generations=num_gen,\n",
    "                                 function_set=function_set,\n",
    "                                 p_crossover=p_cxvr, p_subtree_mutation=p_subt_mut,\n",
    "                                 p_hoist_mutation=p_hmut, p_point_mutation=p_pmut,\n",
    "                                 max_samples=subsample, verbose=verbose,\n",
    "                                 parsimony_coefficient=complexity_coef, random_state=seed)\n",
    "\n",
    "    gp_est.fit(X_train, y_train)\n",
    "\n",
    "    y_test_pred = gp_est.predict(X_test)\n",
    "    test_rmse_score = np.sqrt(np.mean((y_test - y_test_pred)**2))\n",
    "    test_r2_score = r2_score(y_test, y_test_pred)\n",
    "    test_pearson, test_pval = stats.pearsonr(y_test, y_test_pred)\n",
    "\n",
    "    return test_rmse_score, test_r2_score, test_pearson, test_pval, gp_est"
   ]
  },
  {
   "cell_type": "code",
   "execution_count": 70,
   "metadata": {
    "collapsed": false,
    "pycharm": {
     "name": "#%%\n"
    }
   },
   "outputs": [],
   "source": [
    "import pickle\n",
    "from tqdm import tqdm\n",
    "from sklearn.preprocessing import QuantileTransformer\n",
    "from scipy.stats import pearsonr\n",
    "import warnings\n",
    "import optuna\n",
    "warnings.filterwarnings(\"ignore\")\n",
    "\n",
    "# epochs = 200\n",
    "# hidden_sizes = [1000, 500, 300, 100]\n",
    "# num_cycles = 10\n",
    "# batch_size = 80\n",
    "# lr_0 = 1e-3\n",
    "# sigma = 1.0\n",
    "# eta = 1.0\n",
    "num_feats = [50]\n",
    "epochs = 500\n",
    "num_cycles = 50\n",
    "batch_size = 16\n",
    "act_fn = jax.nn.swish\n",
    "beta = 0.80\n",
    "lr_0, disc_lr_0 = 1e-3, 1e-3\n",
    "hidden_sizes = [500]\n",
    "temp, sigma = 1e-4, 1.0\n",
    "# eta, mu = 1.0, 1.0\n",
    "alpha = 1.0\n",
    "\n",
    "num_gp_models = 5\n",
    "save_dir = f\"{data_dir}/exp_data_5/cancer/gdsc\"\n",
    "\n",
    "\n",
    "def cross_val_gp_train(seeds, X, y, J):\n",
    "    J_zero = np.zeros_like(J)\n",
    "    i = 0\n",
    "    for seed in tqdm(seeds):\n",
    "        rng_key = jax.random.PRNGKey(seed)\n",
    "        bnn_rf_gp_dict = {\"seed\": [], \"model\": [], \"num_feats\": [], \"test_rmse_score\": [],\n",
    "                          \"test_r2_score\": [], \"test_pcc\": [], \"test_pcc_pval\": []}\n",
    "\n",
    "        X_train_outer_df, X_test_df, y_train_outer_df, y_test_df = train_test_split(X, y, random_state=seed, shuffle=True, test_size=0.2)\n",
    "\n",
    "        train_transformer = QuantileTransformer(random_state=seed, output_distribution=\"normal\").fit(X_train_outer_df)\n",
    "        train_transformed = train_transformer.transform(X_train_outer_df)\n",
    "        test_transformed = train_transformer.transform(X_test_df)\n",
    "\n",
    "        X_train_outer_df = pd.DataFrame(train_transformed, columns=X_train_outer_df.columns)\n",
    "        X_test_df = pd.DataFrame(test_transformed, columns=X_test_df.columns)\n",
    "\n",
    "        X_train_df, X_val_df, y_train_df, y_val_df = train_test_split(X_train_outer_df, y_train_outer_df, shuffle=True,\n",
    "                                                                      random_state=seed, test_size=0.2)\n",
    "\n",
    "\n",
    "        train_indices, val_indices = X_train_df.index.to_list(), X_val_df.index.to_list()\n",
    "        X_train_outer, y_train_outer = X_train_outer_df.values, y_train_outer_df.values\n",
    "        X_train, y_train = X_train_df.values, y_train_df.values\n",
    "        X_val, y_val = X_val_df.values, y_val_df.values\n",
    "        X_test, y_test = X_test_df.values, y_test_df.values\n",
    "\n",
    "\n",
    "        # Train BNN and RF models and select features\n",
    "        torch.manual_seed(seed)\n",
    "        data_loader = NumpyLoader(NumpyData(X_train, y_train), batch_size=batch_size, shuffle=True)\n",
    "        if os.path.exists(f\"{save_dir}/dropout/bg_bnn_dropout_loss_s_{seed}_v9a.csv\"):\n",
    "            bg_bnn_dropout_loss_df = pd.read_csv(f\"{save_dir}/dropout/bg_bnn_dropout_loss_s_{seed}_v9a.csv\")\n",
    "        else:\n",
    "            bnn_bg_config = pickle.load(open(f\"{save_dir}/configs/bg_bnn_config_s_{seed}_optuna_v9a.pkl\", \"rb\"))\n",
    "            eta, mu = bnn_bg_config[\"eta\"], bnn_bg_config[\"mu\"]\n",
    "            bg_bnn_model = init_bg_bnn_model(seed, data_loader, epochs, lr_0, disc_lr_0, num_cycles, temp, sigma, hidden_sizes, J, eta, mu, alpha, act_fn)\n",
    "            bg_states =  pickle.load(open(f\"{save_dir}/checkpoints/bg_bnn_states_s_{seed}_v9a.pkl\", \"rb\"))\n",
    "            bg_disc_states = pickle.load(open(f\"{save_dir}/checkpoints/bg_bnn_disc_states_s_{seed}_v9a.pkl\", \"rb\"))\n",
    "            bg_bnn_dropout_loss_df = get_feats_dropout_loss(bg_bnn_model, bg_states, bg_disc_states, X_val, y_val)\n",
    "            bg_bnn_dropout_loss_df.to_csv(f\"{save_dir}/dropout/bg_bnn_dropout_loss_s_{seed}_v9a.csv\", index=False)\n",
    "\n",
    "        if os.path.exists(f\"{save_dir}/dropout/bnn_dropout_loss_s_{seed}_v9a.csv\"):\n",
    "            bnn_dropout_loss_df = pd.read_csv(f\"{save_dir}/dropout/bnn_dropout_loss_s_{seed}_v9a.csv\")\n",
    "        else:\n",
    "            bnn_config = pickle.load(open(f\"{save_dir}/configs/bnn_config_s_{seed}_optuna_v9a.pkl\", \"rb\"))\n",
    "            eta, mu = 1.0, bnn_config[\"mu\"]\n",
    "            bnn_model = init_bg_bnn_model(seed, data_loader, epochs, lr_0, disc_lr_0, num_cycles, temp, sigma, hidden_sizes, J_zero, eta, mu, alpha, act_fn)\n",
    "            bnn_states = pickle.load(open(f\"{save_dir}/checkpoints/bnn_states_s_{seed}_v9a.pkl\", \"rb\"))\n",
    "            bnn_disc_states = pickle.load(open(f\"{save_dir}/checkpoints/bnn_disc_states_s_{seed}_v9a.pkl\", \"rb\"))\n",
    "            bnn_dropout_loss_df = get_feats_dropout_loss(bnn_model, bnn_states, bnn_disc_states, X_val, y_val)\n",
    "            bnn_dropout_loss_df.to_csv(f\"{save_dir}/dropout/bg_bnn_dropout_loss_s_{seed}_v9a.csv\", index=False)\n",
    "\n",
    "        if os.path.exists(f\"{save_dir}/checkpoints/rf_model_s_{seed}.pkl\"):\n",
    "            rf_model = pickle.load(open(f\"{save_dir}/checkpoints/rf_model_s_{seed}.pkl\", \"rb\"))\n",
    "        else:\n",
    "            rf_model = train_rf_model(seed, X_train_outer, y_train_outer, train_indices, val_indices)\n",
    "            pickle.dump(rf_model, open(f\"{save_dir}/checkpoints/rf_model_s_{seed}.pkl\", \"wb\"))\n",
    "\n",
    "\n",
    "        for num_feat in num_feats:\n",
    "\n",
    "            bg_bnn_feat_idx = bg_bnn_dropout_loss_df[\"feats_idx\"][:num_feat].to_list()\n",
    "            bnn_feat_idx = bnn_dropout_loss_df[\"feats_idx\"][:num_feat].to_list()\n",
    "            rf_feat_idx = np.argsort(rf_model.feature_importances_)[::-1][:num_feat]\n",
    "\n",
    "            X_train_2, y_train_2 = jax.random.choice(rng_key, X_train, shape=(X_val.shape[0],), replace=False), jax.random.choice(rng_key, y_train, shape=(X_val.shape[0],), replace=False)\n",
    "\n",
    "            # Create new validation for training Linear Regression models same size as outer validation\n",
    "            # X_gp_train_rf, X_gp_train_2_rf, X_gp_val_rf, X_gp_test_rf = X_val[:,rf_feat_idx], X_train_2[:,rf_feat_idx], X_train[:,rf_feat_idx], X_test[:,rf_feat_idx]\n",
    "            # X_gp_train_bg_bnn, X_gp_train_2_bg_bnn, X_gp_val_bg_bnn, X_gp_test_bg_bnn = X_val[:,bg_bnn_feat_idx], X_train_2[:,bg_bnn_feat_idx], X_train[:,bg_bnn_feat_idx], X_test[:,bg_bnn_feat_idx]\n",
    "            # X_gp_train_bnn, X_gp_train_2_bnn, X_gp_val_bnn, X_gp_test_bnn = X_val[:,bnn_feat_idx], X_train_2[:,bnn_feat_idx], X_train[:,bnn_feat_idx], X_test[:,bnn_feat_idx]\n",
    "            X_gp_train_rf, X_gp_test_rf = X_train[:,rf_feat_idx], X_test[:,rf_feat_idx]\n",
    "            X_gp_train_bg_bnn, X_gp_test_bg_bnn = X_train[:,bg_bnn_feat_idx], X_test[:,bg_bnn_feat_idx]\n",
    "            X_gp_train_bnn, X_gp_test_bnn = X_train[:,bnn_feat_idx], X_test[:,bnn_feat_idx]\n",
    "\n",
    "            y_train_gp, y_test_gp = y_train, y_test\n",
    "\n",
    "            ## Run LR\n",
    "            bnn_test_rmse_score, bnn_test_r2_score, bnn_test_pcc, bnn_test_pval = train_linear_model(seed, X_gp_train_bnn, X_gp_test_bnn, y_train, y_test_gp)\n",
    "            rf_test_rmse_score, rf_test_r2_score, rf_test_pcc, rf_test_pval = train_linear_model(seed, X_gp_train_rf, X_gp_test_rf, y_train, y_test_gp)\n",
    "            bg_bnn_test_rmse_score, bg_bnn_test_r2_score, bg_bnn_test_pcc, bg_bnn_test_pval = train_linear_model(seed, X_gp_train_bg_bnn, X_gp_test_bg_bnn, y_train, y_test_gp)\n",
    "\n",
    "            ## Run GP + LR\n",
    "            bg_bnn_gp_test_rmse_score, bg_bnn_gp_test_r2_score, bg_bnn_gp_test_pcc, bg_bnn_gp_test_pval, _ = train_gp(seed, X_gp_train_bg_bnn, X_gp_test_bg_bnn,\n",
    "                                                                                                          y_train_gp, y_test_gp, num_models=num_gp_models, verbose=0, p_cxvr=0.8, p_subt_mut=0.05,\n",
    "                                                                                                          p_hmut=0.05, p_pmut=0.05, complexity_coef=0.001)\n",
    "\n",
    "            bnn_gp_test_rmse_score, bnn_gp_test_r2_score, bnn_gp_test_pcc, bnn_gp_test_pval, _ = train_gp(seed, X_gp_train_bnn, X_gp_test_bnn,\n",
    "                                                                                                          y_train_gp, y_test_gp, num_models=num_gp_models, verbose=0, p_cxvr=0.8, p_subt_mut=0.05,\n",
    "                                                                                                          p_hmut=0.05, p_pmut=0.05, complexity_coef=0.001)\n",
    "\n",
    "\n",
    "            rf_gp_test_rmse_score, rf_gp_test_r2_score, rf_gp_test_pcc, rf_gp_test_pval, _ = train_gp(seed, X_gp_train_rf, X_gp_test_rf,\n",
    "                                                                                                      y_train_gp, y_test_gp, num_models=num_gp_models, verbose=0, p_cxvr=0.8, p_subt_mut=0.05,\n",
    "                                                                                                      p_hmut=0.05, p_pmut=0.05, complexity_coef=0.001)\n",
    "\n",
    "\n",
    "            # ======================== Save scores for compressed models =========================\n",
    "\n",
    "            bnn_rf_gp_dict[\"seed\"].append(seed)\n",
    "            bnn_rf_gp_dict[\"model\"].append(\"RF + LR\")\n",
    "            bnn_rf_gp_dict[\"num_feats\"].append(num_feat)\n",
    "            bnn_rf_gp_dict[\"test_rmse_score\"].append(rf_test_rmse_score)\n",
    "            bnn_rf_gp_dict[\"test_r2_score\"].append(rf_test_r2_score)\n",
    "            bnn_rf_gp_dict[\"test_pcc\"].append(rf_test_pcc)\n",
    "            bnn_rf_gp_dict[\"test_pcc_pval\"].append(rf_test_pval)\n",
    "\n",
    "            bnn_rf_gp_dict[\"seed\"].append(seed)\n",
    "            bnn_rf_gp_dict[\"model\"].append(\"RF + LR + GP\")\n",
    "            bnn_rf_gp_dict[\"num_feats\"].append(num_feat)\n",
    "            bnn_rf_gp_dict[\"test_rmse_score\"].append(rf_gp_test_rmse_score)\n",
    "            bnn_rf_gp_dict[\"test_r2_score\"].append(rf_gp_test_r2_score)\n",
    "            bnn_rf_gp_dict[\"test_pcc\"].append(rf_gp_test_pcc)\n",
    "            bnn_rf_gp_dict[\"test_pcc_pval\"].append(rf_gp_test_pval)\n",
    "\n",
    "            bnn_rf_gp_dict[\"seed\"].append(seed)\n",
    "            bnn_rf_gp_dict[\"model\"].append(\"BNN + LR\")\n",
    "            bnn_rf_gp_dict[\"num_feats\"].append(num_feat)\n",
    "            bnn_rf_gp_dict[\"test_rmse_score\"].append(bnn_test_rmse_score)\n",
    "            bnn_rf_gp_dict[\"test_r2_score\"].append(bnn_test_r2_score)\n",
    "            bnn_rf_gp_dict[\"test_pcc\"].append(bnn_test_pcc)\n",
    "            bnn_rf_gp_dict[\"test_pcc_pval\"].append(bnn_test_pval)\n",
    "\n",
    "\n",
    "            bnn_rf_gp_dict[\"seed\"].append(seed)\n",
    "            bnn_rf_gp_dict[\"model\"].append(\"BNN + LR + GP\")\n",
    "            bnn_rf_gp_dict[\"num_feats\"].append(num_feat)\n",
    "            bnn_rf_gp_dict[\"test_rmse_score\"].append(bnn_gp_test_rmse_score)\n",
    "            bnn_rf_gp_dict[\"test_r2_score\"].append(bnn_gp_test_r2_score)\n",
    "            bnn_rf_gp_dict[\"test_pcc\"].append(bnn_gp_test_pcc)\n",
    "            bnn_rf_gp_dict[\"test_pcc_pval\"].append(bnn_gp_test_pval)\n",
    "\n",
    "            bnn_rf_gp_dict[\"seed\"].append(seed)\n",
    "            bnn_rf_gp_dict[\"model\"].append(\"BNN + BG + LR\")\n",
    "            bnn_rf_gp_dict[\"num_feats\"].append(num_feat)\n",
    "            bnn_rf_gp_dict[\"test_rmse_score\"].append(bg_bnn_test_rmse_score)\n",
    "            bnn_rf_gp_dict[\"test_r2_score\"].append(bg_bnn_test_r2_score)\n",
    "            bnn_rf_gp_dict[\"test_pcc\"].append(bg_bnn_test_pcc)\n",
    "            bnn_rf_gp_dict[\"test_pcc_pval\"].append(bg_bnn_test_pval)\n",
    "\n",
    "\n",
    "            bnn_rf_gp_dict[\"seed\"].append(seed)\n",
    "            bnn_rf_gp_dict[\"model\"].append(\"BNN + BG + LR + GP\")\n",
    "            bnn_rf_gp_dict[\"num_feats\"].append(num_feat)\n",
    "            bnn_rf_gp_dict[\"test_rmse_score\"].append(bg_bnn_gp_test_rmse_score)\n",
    "            bnn_rf_gp_dict[\"test_r2_score\"].append(bg_bnn_gp_test_r2_score)\n",
    "            bnn_rf_gp_dict[\"test_pcc\"].append(bg_bnn_gp_test_pcc)\n",
    "            bnn_rf_gp_dict[\"test_pcc_pval\"].append(bg_bnn_gp_test_pval)\n",
    "\n",
    "\n",
    "\n",
    "        pd.DataFrame(bnn_rf_gp_dict).to_csv(f\"{save_dir}/results/model_comp_bnn_bg_rf_s_{seed}_v9a.csv\", index=False)\n",
    "\n",
    "\n",
    "        i += 1\n",
    "\n",
    "\n",
    "    print(\"Done\")"
   ]
  },
  {
   "cell_type": "code",
   "execution_count": 73,
   "metadata": {
    "collapsed": false,
    "pycharm": {
     "name": "#%%\n"
    }
   },
   "outputs": [
    {
     "name": "stderr",
     "output_type": "stream",
     "text": [
      "100%|██████████| 5/5 [31:05<00:00, 373.06s/it]"
     ]
    },
    {
     "name": "stdout",
     "output_type": "stream",
     "text": [
      "Done\n"
     ]
    },
    {
     "name": "stderr",
     "output_type": "stream",
     "text": [
      "\n"
     ]
    }
   ],
   "source": [
    "seeds = [422,261,968,282,739,573,220,413,745,775,482,442,210,423,760,57,769,920,226,196]\n",
    "curr_seeds = seeds[5:10]\n",
    "bnn_rf_gp_dict = cross_val_gp_train(curr_seeds, X_selected, target, J)"
   ]
  },
  {
   "cell_type": "code",
   "execution_count": 74,
   "outputs": [
    {
     "data": {
      "text/plain": "                              test_rmse_score  test_r2_score  test_pcc  \\\nmodel              num_feats                                             \nBNN + BG + LR      50                0.511521       0.118143  0.409041   \nBNN + BG + LR + GP 50                0.530124       0.052099  0.386198   \nBNN + LR           50                0.519739       0.089570  0.384870   \nBNN + LR + GP      50                0.541219       0.011248  0.364772   \nRF + LR            50                0.486262       0.198384  0.472615   \nRF + LR + GP       50                0.503325       0.136621  0.453537   \n\n                              test_pcc_pval  \nmodel              num_feats                 \nBNN + BG + LR      50              0.000681  \nBNN + BG + LR + GP 50              0.002462  \nBNN + LR           50              0.004507  \nBNN + LR + GP      50              0.007797  \nRF + LR            50              0.000355  \nRF + LR + GP       50              0.000509  ",
      "text/html": "<div>\n<style scoped>\n    .dataframe tbody tr th:only-of-type {\n        vertical-align: middle;\n    }\n\n    .dataframe tbody tr th {\n        vertical-align: top;\n    }\n\n    .dataframe thead th {\n        text-align: right;\n    }\n</style>\n<table border=\"1\" class=\"dataframe\">\n  <thead>\n    <tr style=\"text-align: right;\">\n      <th></th>\n      <th></th>\n      <th>test_rmse_score</th>\n      <th>test_r2_score</th>\n      <th>test_pcc</th>\n      <th>test_pcc_pval</th>\n    </tr>\n    <tr>\n      <th>model</th>\n      <th>num_feats</th>\n      <th></th>\n      <th></th>\n      <th></th>\n      <th></th>\n    </tr>\n  </thead>\n  <tbody>\n    <tr>\n      <th>BNN + BG + LR</th>\n      <th>50</th>\n      <td>0.511521</td>\n      <td>0.118143</td>\n      <td>0.409041</td>\n      <td>0.000681</td>\n    </tr>\n    <tr>\n      <th>BNN + BG + LR + GP</th>\n      <th>50</th>\n      <td>0.530124</td>\n      <td>0.052099</td>\n      <td>0.386198</td>\n      <td>0.002462</td>\n    </tr>\n    <tr>\n      <th>BNN + LR</th>\n      <th>50</th>\n      <td>0.519739</td>\n      <td>0.089570</td>\n      <td>0.384870</td>\n      <td>0.004507</td>\n    </tr>\n    <tr>\n      <th>BNN + LR + GP</th>\n      <th>50</th>\n      <td>0.541219</td>\n      <td>0.011248</td>\n      <td>0.364772</td>\n      <td>0.007797</td>\n    </tr>\n    <tr>\n      <th>RF + LR</th>\n      <th>50</th>\n      <td>0.486262</td>\n      <td>0.198384</td>\n      <td>0.472615</td>\n      <td>0.000355</td>\n    </tr>\n    <tr>\n      <th>RF + LR + GP</th>\n      <th>50</th>\n      <td>0.503325</td>\n      <td>0.136621</td>\n      <td>0.453537</td>\n      <td>0.000509</td>\n    </tr>\n  </tbody>\n</table>\n</div>"
     },
     "execution_count": 74,
     "metadata": {},
     "output_type": "execute_result"
    }
   ],
   "source": [
    "save_dir = f\"{data_dir}/exp_data_5/cancer/gdsc\"\n",
    "seeds = [422,261,968,282,739,573,220,413,745,775,482,442,210,423,760,57,769,920,226,196]\n",
    "# seeds = [422,261,968,282,739,573,220,413,745,775,482,442,210,423,760,57]\n",
    "res_dfs = []\n",
    "for seed in seeds[:10]:\n",
    "    df = pd.read_csv(f\"{save_dir}/results/model_comp_bnn_bg_rf_s_{seed}_v9b.csv\")\n",
    "    res_dfs.append(df)\n",
    "\n",
    "gp_bg_bnn_rf_df_9a = pd.concat(res_dfs, axis=0)\n",
    "gp_bg_bnn_rf_df_9a.groupby([\"model\", \"num_feats\"]).mean().iloc[:,1:]"
   ],
   "metadata": {
    "collapsed": false,
    "pycharm": {
     "name": "#%%\n"
    }
   }
  },
  {
   "cell_type": "code",
   "execution_count": 9,
   "outputs": [
    {
     "data": {
      "text/plain": "                         test_rmse_score  test_r2_score  test_pcc  \\\nmodel         num_feats                                             \nBNN + LR      10                0.537268       0.047827  0.268009   \n              20                0.537873       0.046022  0.312778   \n              30                0.545694       0.014559  0.314402   \n              40                0.548733       0.005249  0.325595   \n              50                0.562054      -0.041952  0.303852   \nBNN + LR + GP 10                0.596980      -0.262101  0.217735   \n              20                0.573259      -0.098103  0.275400   \n              30                0.566625      -0.070660  0.304064   \n              40                0.563732      -0.056073  0.311494   \n              50                0.574822      -0.094130  0.299497   \nRF + LR       10                0.494575       0.197003  0.458374   \n              20                0.493651       0.197615  0.465853   \n              30                0.488648       0.215022  0.480978   \n              40                0.492449       0.202834  0.474456   \n              50                0.494120       0.197730  0.473012   \nRF + LR + GP  10                0.544896      -0.109444  0.429179   \n              20                0.497218       0.185374  0.458679   \n              30                0.494995       0.194069  0.471333   \n              40                0.500833       0.174388  0.460211   \n              50                0.501782       0.171145  0.459229   \n\n                         test_pcc_pval  \nmodel         num_feats                 \nBNN + LR      10              0.119289  \n              20              0.027440  \n              30              0.031976  \n              40              0.036093  \n              50              0.043030  \nBNN + LR + GP 10              0.199679  \n              20              0.056152  \n              30              0.041436  \n              40              0.049129  \n              50              0.058287  \nRF + LR       10              0.000611  \n              20              0.001160  \n              30              0.000446  \n              40              0.000963  \n              50              0.001095  \nRF + LR + GP  10              0.037417  \n              20              0.001031  \n              30              0.000402  \n              40              0.001183  \n              50              0.001432  ",
      "text/html": "<div>\n<style scoped>\n    .dataframe tbody tr th:only-of-type {\n        vertical-align: middle;\n    }\n\n    .dataframe tbody tr th {\n        vertical-align: top;\n    }\n\n    .dataframe thead th {\n        text-align: right;\n    }\n</style>\n<table border=\"1\" class=\"dataframe\">\n  <thead>\n    <tr style=\"text-align: right;\">\n      <th></th>\n      <th></th>\n      <th>test_rmse_score</th>\n      <th>test_r2_score</th>\n      <th>test_pcc</th>\n      <th>test_pcc_pval</th>\n    </tr>\n    <tr>\n      <th>model</th>\n      <th>num_feats</th>\n      <th></th>\n      <th></th>\n      <th></th>\n      <th></th>\n    </tr>\n  </thead>\n  <tbody>\n    <tr>\n      <th rowspan=\"5\" valign=\"top\">BNN + LR</th>\n      <th>10</th>\n      <td>0.537268</td>\n      <td>0.047827</td>\n      <td>0.268009</td>\n      <td>0.119289</td>\n    </tr>\n    <tr>\n      <th>20</th>\n      <td>0.537873</td>\n      <td>0.046022</td>\n      <td>0.312778</td>\n      <td>0.027440</td>\n    </tr>\n    <tr>\n      <th>30</th>\n      <td>0.545694</td>\n      <td>0.014559</td>\n      <td>0.314402</td>\n      <td>0.031976</td>\n    </tr>\n    <tr>\n      <th>40</th>\n      <td>0.548733</td>\n      <td>0.005249</td>\n      <td>0.325595</td>\n      <td>0.036093</td>\n    </tr>\n    <tr>\n      <th>50</th>\n      <td>0.562054</td>\n      <td>-0.041952</td>\n      <td>0.303852</td>\n      <td>0.043030</td>\n    </tr>\n    <tr>\n      <th rowspan=\"5\" valign=\"top\">BNN + LR + GP</th>\n      <th>10</th>\n      <td>0.596980</td>\n      <td>-0.262101</td>\n      <td>0.217735</td>\n      <td>0.199679</td>\n    </tr>\n    <tr>\n      <th>20</th>\n      <td>0.573259</td>\n      <td>-0.098103</td>\n      <td>0.275400</td>\n      <td>0.056152</td>\n    </tr>\n    <tr>\n      <th>30</th>\n      <td>0.566625</td>\n      <td>-0.070660</td>\n      <td>0.304064</td>\n      <td>0.041436</td>\n    </tr>\n    <tr>\n      <th>40</th>\n      <td>0.563732</td>\n      <td>-0.056073</td>\n      <td>0.311494</td>\n      <td>0.049129</td>\n    </tr>\n    <tr>\n      <th>50</th>\n      <td>0.574822</td>\n      <td>-0.094130</td>\n      <td>0.299497</td>\n      <td>0.058287</td>\n    </tr>\n    <tr>\n      <th rowspan=\"5\" valign=\"top\">RF + LR</th>\n      <th>10</th>\n      <td>0.494575</td>\n      <td>0.197003</td>\n      <td>0.458374</td>\n      <td>0.000611</td>\n    </tr>\n    <tr>\n      <th>20</th>\n      <td>0.493651</td>\n      <td>0.197615</td>\n      <td>0.465853</td>\n      <td>0.001160</td>\n    </tr>\n    <tr>\n      <th>30</th>\n      <td>0.488648</td>\n      <td>0.215022</td>\n      <td>0.480978</td>\n      <td>0.000446</td>\n    </tr>\n    <tr>\n      <th>40</th>\n      <td>0.492449</td>\n      <td>0.202834</td>\n      <td>0.474456</td>\n      <td>0.000963</td>\n    </tr>\n    <tr>\n      <th>50</th>\n      <td>0.494120</td>\n      <td>0.197730</td>\n      <td>0.473012</td>\n      <td>0.001095</td>\n    </tr>\n    <tr>\n      <th rowspan=\"5\" valign=\"top\">RF + LR + GP</th>\n      <th>10</th>\n      <td>0.544896</td>\n      <td>-0.109444</td>\n      <td>0.429179</td>\n      <td>0.037417</td>\n    </tr>\n    <tr>\n      <th>20</th>\n      <td>0.497218</td>\n      <td>0.185374</td>\n      <td>0.458679</td>\n      <td>0.001031</td>\n    </tr>\n    <tr>\n      <th>30</th>\n      <td>0.494995</td>\n      <td>0.194069</td>\n      <td>0.471333</td>\n      <td>0.000402</td>\n    </tr>\n    <tr>\n      <th>40</th>\n      <td>0.500833</td>\n      <td>0.174388</td>\n      <td>0.460211</td>\n      <td>0.001183</td>\n    </tr>\n    <tr>\n      <th>50</th>\n      <td>0.501782</td>\n      <td>0.171145</td>\n      <td>0.459229</td>\n      <td>0.001432</td>\n    </tr>\n  </tbody>\n</table>\n</div>"
     },
     "execution_count": 9,
     "metadata": {},
     "output_type": "execute_result"
    }
   ],
   "source": [
    "save_dir = f\"{data_dir}/exp_data_5/cancer/gdsc\"\n",
    "seeds = [422,261,968,282,739,573,220,413,745,775,482,442,210,423,760,57,769,920,226,196]\n",
    "# seeds = [422,261,968,282,739,573,220,413,745,775,482,442,210,423,760,57]\n",
    "res_dfs = []\n",
    "for seed in curr_seeds:\n",
    "    df = pd.read_csv(f\"{save_dir}/results/model_comp_bnn_bg_rf_s_{seed}_v9a.csv\")\n",
    "    res_dfs.append(df)\n",
    "\n",
    "gp_bg_bnn_rf_df_9a = pd.concat(res_dfs, axis=0)\n",
    "gp_bg_bnn_rf_df_9a.groupby([\"model\", \"num_feats\"]).mean().iloc[:,1:]"
   ],
   "metadata": {
    "collapsed": false,
    "pycharm": {
     "name": "#%%\n"
    }
   }
  },
  {
   "cell_type": "code",
   "execution_count": null,
   "outputs": [],
   "source": [
    "gp_bg_bnn_rf_df_9a"
   ],
   "metadata": {
    "collapsed": false,
    "pycharm": {
     "name": "#%%\n"
    }
   }
  },
  {
   "cell_type": "code",
   "execution_count": 10,
   "outputs": [
    {
     "data": {
      "text/plain": "          test_rmse_score  test_r2_score\nmodel                                   \nBNN + BG         0.481284       0.238046\nRF               0.479711       0.245956",
      "text/html": "<div>\n<style scoped>\n    .dataframe tbody tr th:only-of-type {\n        vertical-align: middle;\n    }\n\n    .dataframe tbody tr th {\n        vertical-align: top;\n    }\n\n    .dataframe thead th {\n        text-align: right;\n    }\n</style>\n<table border=\"1\" class=\"dataframe\">\n  <thead>\n    <tr style=\"text-align: right;\">\n      <th></th>\n      <th>test_rmse_score</th>\n      <th>test_r2_score</th>\n    </tr>\n    <tr>\n      <th>model</th>\n      <th></th>\n      <th></th>\n    </tr>\n  </thead>\n  <tbody>\n    <tr>\n      <th>BNN + BG</th>\n      <td>0.481284</td>\n      <td>0.238046</td>\n    </tr>\n    <tr>\n      <th>RF</th>\n      <td>0.479711</td>\n      <td>0.245956</td>\n    </tr>\n  </tbody>\n</table>\n</div>"
     },
     "execution_count": 10,
     "metadata": {},
     "output_type": "execute_result"
    }
   ],
   "source": [
    "save_dir = f\"{data_dir}/exp_data_5/cancer/gdsc\"\n",
    "seeds = [422,261,968,282,739,573,220,413,745,775,482,442,210,423,760,57,769,920,226,196]\n",
    "# seeds = [422,261,968,282,739,573,220,413,745,775,482,442,210,423,760,57]\n",
    "res_dfs = []\n",
    "for seed in seeds:\n",
    "    df = pd.read_csv(f\"{save_dir}/results/bnn_bg_rf_s_{seed}_v5.csv\")\n",
    "    res_dfs.append(df)\n",
    "\n",
    "bnn_rf_df = pd.concat(res_dfs, axis=0)\n",
    "bnn_rf_df.groupby([\"model\"]).mean().iloc[:,1:]"
   ],
   "metadata": {
    "collapsed": false,
    "pycharm": {
     "name": "#%%\n"
    }
   }
  },
  {
   "cell_type": "code",
   "execution_count": 11,
   "outputs": [
    {
     "data": {
      "text/plain": "   seed     model  test_rmse_score  test_r2_score\n0   422        RF         0.407726       0.278194\n1   422  BNN + BG         0.442979       0.147982\n0   261        RF         0.478135       0.194252\n1   261  BNN + BG         0.479764       0.188752\n0   968        RF         0.495877       0.232576\n1   968  BNN + BG         0.503923       0.207468\n0   282        RF         0.513891       0.242852\n1   282  BNN + BG         0.507014       0.262980\n0   739        RF         0.431555       0.240847\n1   739  BNN + BG         0.481845       0.053607\n0   573        RF         0.486312       0.270578\n1   573  BNN + BG         0.476804       0.298822\n0   220        RF         0.435753       0.278702\n1   220  BNN + BG         0.440943       0.261417\n0   413        RF         0.450709       0.287558\n1   413  BNN + BG         0.440170       0.320488\n0   745        RF         0.559834       0.136251\n1   745  BNN + BG         0.557950       0.142057\n0   775        RF         0.489098       0.262239\n1   775  BNN + BG         0.484293       0.276666\n0   482        RF         0.443069       0.273397\n1   482  BNN + BG         0.440383       0.282177\n0   442        RF         0.505373       0.234671\n1   442  BNN + BG         0.520544       0.188031\n0   210        RF         0.452632       0.180289\n1   210  BNN + BG         0.450840       0.186768\n0   423        RF         0.428119       0.322094\n1   423  BNN + BG         0.424429       0.333730\n0   760        RF         0.542658       0.247267\n1   760  BNN + BG         0.574021       0.157743\n0    57        RF         0.435339       0.236654\n1    57  BNN + BG         0.435670       0.235491\n0   769        RF         0.522849       0.275037\n1   769  BNN + BG         0.500570       0.335506\n0   920        RF         0.475550       0.308512\n1   920  BNN + BG         0.459187       0.355277\n0   226        RF         0.550391       0.218335\n1   226  BNN + BG         0.539483       0.249011\n0   196        RF         0.489346       0.198808\n1   196  BNN + BG         0.464872       0.276947",
      "text/html": "<div>\n<style scoped>\n    .dataframe tbody tr th:only-of-type {\n        vertical-align: middle;\n    }\n\n    .dataframe tbody tr th {\n        vertical-align: top;\n    }\n\n    .dataframe thead th {\n        text-align: right;\n    }\n</style>\n<table border=\"1\" class=\"dataframe\">\n  <thead>\n    <tr style=\"text-align: right;\">\n      <th></th>\n      <th>seed</th>\n      <th>model</th>\n      <th>test_rmse_score</th>\n      <th>test_r2_score</th>\n    </tr>\n  </thead>\n  <tbody>\n    <tr>\n      <th>0</th>\n      <td>422</td>\n      <td>RF</td>\n      <td>0.407726</td>\n      <td>0.278194</td>\n    </tr>\n    <tr>\n      <th>1</th>\n      <td>422</td>\n      <td>BNN + BG</td>\n      <td>0.442979</td>\n      <td>0.147982</td>\n    </tr>\n    <tr>\n      <th>0</th>\n      <td>261</td>\n      <td>RF</td>\n      <td>0.478135</td>\n      <td>0.194252</td>\n    </tr>\n    <tr>\n      <th>1</th>\n      <td>261</td>\n      <td>BNN + BG</td>\n      <td>0.479764</td>\n      <td>0.188752</td>\n    </tr>\n    <tr>\n      <th>0</th>\n      <td>968</td>\n      <td>RF</td>\n      <td>0.495877</td>\n      <td>0.232576</td>\n    </tr>\n    <tr>\n      <th>1</th>\n      <td>968</td>\n      <td>BNN + BG</td>\n      <td>0.503923</td>\n      <td>0.207468</td>\n    </tr>\n    <tr>\n      <th>0</th>\n      <td>282</td>\n      <td>RF</td>\n      <td>0.513891</td>\n      <td>0.242852</td>\n    </tr>\n    <tr>\n      <th>1</th>\n      <td>282</td>\n      <td>BNN + BG</td>\n      <td>0.507014</td>\n      <td>0.262980</td>\n    </tr>\n    <tr>\n      <th>0</th>\n      <td>739</td>\n      <td>RF</td>\n      <td>0.431555</td>\n      <td>0.240847</td>\n    </tr>\n    <tr>\n      <th>1</th>\n      <td>739</td>\n      <td>BNN + BG</td>\n      <td>0.481845</td>\n      <td>0.053607</td>\n    </tr>\n    <tr>\n      <th>0</th>\n      <td>573</td>\n      <td>RF</td>\n      <td>0.486312</td>\n      <td>0.270578</td>\n    </tr>\n    <tr>\n      <th>1</th>\n      <td>573</td>\n      <td>BNN + BG</td>\n      <td>0.476804</td>\n      <td>0.298822</td>\n    </tr>\n    <tr>\n      <th>0</th>\n      <td>220</td>\n      <td>RF</td>\n      <td>0.435753</td>\n      <td>0.278702</td>\n    </tr>\n    <tr>\n      <th>1</th>\n      <td>220</td>\n      <td>BNN + BG</td>\n      <td>0.440943</td>\n      <td>0.261417</td>\n    </tr>\n    <tr>\n      <th>0</th>\n      <td>413</td>\n      <td>RF</td>\n      <td>0.450709</td>\n      <td>0.287558</td>\n    </tr>\n    <tr>\n      <th>1</th>\n      <td>413</td>\n      <td>BNN + BG</td>\n      <td>0.440170</td>\n      <td>0.320488</td>\n    </tr>\n    <tr>\n      <th>0</th>\n      <td>745</td>\n      <td>RF</td>\n      <td>0.559834</td>\n      <td>0.136251</td>\n    </tr>\n    <tr>\n      <th>1</th>\n      <td>745</td>\n      <td>BNN + BG</td>\n      <td>0.557950</td>\n      <td>0.142057</td>\n    </tr>\n    <tr>\n      <th>0</th>\n      <td>775</td>\n      <td>RF</td>\n      <td>0.489098</td>\n      <td>0.262239</td>\n    </tr>\n    <tr>\n      <th>1</th>\n      <td>775</td>\n      <td>BNN + BG</td>\n      <td>0.484293</td>\n      <td>0.276666</td>\n    </tr>\n    <tr>\n      <th>0</th>\n      <td>482</td>\n      <td>RF</td>\n      <td>0.443069</td>\n      <td>0.273397</td>\n    </tr>\n    <tr>\n      <th>1</th>\n      <td>482</td>\n      <td>BNN + BG</td>\n      <td>0.440383</td>\n      <td>0.282177</td>\n    </tr>\n    <tr>\n      <th>0</th>\n      <td>442</td>\n      <td>RF</td>\n      <td>0.505373</td>\n      <td>0.234671</td>\n    </tr>\n    <tr>\n      <th>1</th>\n      <td>442</td>\n      <td>BNN + BG</td>\n      <td>0.520544</td>\n      <td>0.188031</td>\n    </tr>\n    <tr>\n      <th>0</th>\n      <td>210</td>\n      <td>RF</td>\n      <td>0.452632</td>\n      <td>0.180289</td>\n    </tr>\n    <tr>\n      <th>1</th>\n      <td>210</td>\n      <td>BNN + BG</td>\n      <td>0.450840</td>\n      <td>0.186768</td>\n    </tr>\n    <tr>\n      <th>0</th>\n      <td>423</td>\n      <td>RF</td>\n      <td>0.428119</td>\n      <td>0.322094</td>\n    </tr>\n    <tr>\n      <th>1</th>\n      <td>423</td>\n      <td>BNN + BG</td>\n      <td>0.424429</td>\n      <td>0.333730</td>\n    </tr>\n    <tr>\n      <th>0</th>\n      <td>760</td>\n      <td>RF</td>\n      <td>0.542658</td>\n      <td>0.247267</td>\n    </tr>\n    <tr>\n      <th>1</th>\n      <td>760</td>\n      <td>BNN + BG</td>\n      <td>0.574021</td>\n      <td>0.157743</td>\n    </tr>\n    <tr>\n      <th>0</th>\n      <td>57</td>\n      <td>RF</td>\n      <td>0.435339</td>\n      <td>0.236654</td>\n    </tr>\n    <tr>\n      <th>1</th>\n      <td>57</td>\n      <td>BNN + BG</td>\n      <td>0.435670</td>\n      <td>0.235491</td>\n    </tr>\n    <tr>\n      <th>0</th>\n      <td>769</td>\n      <td>RF</td>\n      <td>0.522849</td>\n      <td>0.275037</td>\n    </tr>\n    <tr>\n      <th>1</th>\n      <td>769</td>\n      <td>BNN + BG</td>\n      <td>0.500570</td>\n      <td>0.335506</td>\n    </tr>\n    <tr>\n      <th>0</th>\n      <td>920</td>\n      <td>RF</td>\n      <td>0.475550</td>\n      <td>0.308512</td>\n    </tr>\n    <tr>\n      <th>1</th>\n      <td>920</td>\n      <td>BNN + BG</td>\n      <td>0.459187</td>\n      <td>0.355277</td>\n    </tr>\n    <tr>\n      <th>0</th>\n      <td>226</td>\n      <td>RF</td>\n      <td>0.550391</td>\n      <td>0.218335</td>\n    </tr>\n    <tr>\n      <th>1</th>\n      <td>226</td>\n      <td>BNN + BG</td>\n      <td>0.539483</td>\n      <td>0.249011</td>\n    </tr>\n    <tr>\n      <th>0</th>\n      <td>196</td>\n      <td>RF</td>\n      <td>0.489346</td>\n      <td>0.198808</td>\n    </tr>\n    <tr>\n      <th>1</th>\n      <td>196</td>\n      <td>BNN + BG</td>\n      <td>0.464872</td>\n      <td>0.276947</td>\n    </tr>\n  </tbody>\n</table>\n</div>"
     },
     "execution_count": 11,
     "metadata": {},
     "output_type": "execute_result"
    }
   ],
   "source": [
    "bnn_rf_df"
   ],
   "metadata": {
    "collapsed": false,
    "pycharm": {
     "name": "#%%\n"
    }
   }
  },
  {
   "cell_type": "code",
   "execution_count": 24,
   "outputs": [
    {
     "data": {
      "text/plain": "          test_rmse_score  test_r2_score\nmodel                                   \nBNN + BG         0.496011       0.189143\nRF               0.479711       0.245956",
      "text/html": "<div>\n<style scoped>\n    .dataframe tbody tr th:only-of-type {\n        vertical-align: middle;\n    }\n\n    .dataframe tbody tr th {\n        vertical-align: top;\n    }\n\n    .dataframe thead th {\n        text-align: right;\n    }\n</style>\n<table border=\"1\" class=\"dataframe\">\n  <thead>\n    <tr style=\"text-align: right;\">\n      <th></th>\n      <th>test_rmse_score</th>\n      <th>test_r2_score</th>\n    </tr>\n    <tr>\n      <th>model</th>\n      <th></th>\n      <th></th>\n    </tr>\n  </thead>\n  <tbody>\n    <tr>\n      <th>BNN + BG</th>\n      <td>0.496011</td>\n      <td>0.189143</td>\n    </tr>\n    <tr>\n      <th>RF</th>\n      <td>0.479711</td>\n      <td>0.245956</td>\n    </tr>\n  </tbody>\n</table>\n</div>"
     },
     "execution_count": 24,
     "metadata": {},
     "output_type": "execute_result"
    }
   ],
   "source": [
    "save_dir = f\"{data_dir}/exp_data_5/cancer/gdsc\"\n",
    "seeds = [422,261,968,282,739,573,220,413,745,775,482,442,210,423,760,57,769,920,226,196]\n",
    "res_dfs = []\n",
    "for seed in seeds:\n",
    "    df = pd.read_csv(f\"{save_dir}/results/bnn_bg_rf_s_{seed}_v3.csv\")\n",
    "    res_dfs.append(df)\n",
    "\n",
    "bnn_rf_df = pd.concat(res_dfs, axis=0)\n",
    "bnn_rf_df.groupby([\"model\"]).mean().iloc[:,1:]"
   ],
   "metadata": {
    "collapsed": false,
    "pycharm": {
     "name": "#%%\n"
    }
   }
  },
  {
   "cell_type": "code",
   "execution_count": 24,
   "metadata": {
    "collapsed": false,
    "pycharm": {
     "name": "#%%\n"
    }
   },
   "outputs": [
    {
     "data": {
      "text/plain": "                         test_rmse_score  test_r2_score  test_pcc  \\\nmodel         num_feats                                             \nBNN + LR      20                0.549379       0.003239  0.271716   \n              40                0.546482       0.013174  0.337297   \n              60                0.554629      -0.018310  0.335159   \nBNN + LR + GP 20                0.555483      -0.019855  0.263980   \n              40                0.550449      -0.001111  0.332696   \n              60                0.561666      -0.044314  0.326638   \nRF + LR       20                0.495686       0.191597  0.460010   \n              40                0.503463       0.165533  0.452178   \n              60                0.509864       0.141250  0.431336   \nRF + LR + GP  20                0.498977       0.180815  0.456942   \n              40                0.503225       0.165837  0.453768   \n              60                0.511880       0.133692  0.432519   \n\n                         test_pcc_pval  \nmodel         num_feats                 \nBNN + LR      20              0.103979  \n              40              0.019269  \n              60              0.026847  \nBNN + LR + GP 20              0.093821  \n              40              0.024275  \n              60              0.030761  \nRF + LR       20              0.000520  \n              40              0.000141  \n              60              0.000862  \nRF + LR + GP  20              0.000486  \n              40              0.000171  \n              60              0.000989  ",
      "text/html": "<div>\n<style scoped>\n    .dataframe tbody tr th:only-of-type {\n        vertical-align: middle;\n    }\n\n    .dataframe tbody tr th {\n        vertical-align: top;\n    }\n\n    .dataframe thead th {\n        text-align: right;\n    }\n</style>\n<table border=\"1\" class=\"dataframe\">\n  <thead>\n    <tr style=\"text-align: right;\">\n      <th></th>\n      <th></th>\n      <th>test_rmse_score</th>\n      <th>test_r2_score</th>\n      <th>test_pcc</th>\n      <th>test_pcc_pval</th>\n    </tr>\n    <tr>\n      <th>model</th>\n      <th>num_feats</th>\n      <th></th>\n      <th></th>\n      <th></th>\n      <th></th>\n    </tr>\n  </thead>\n  <tbody>\n    <tr>\n      <th rowspan=\"3\" valign=\"top\">BNN + LR</th>\n      <th>20</th>\n      <td>0.549379</td>\n      <td>0.003239</td>\n      <td>0.271716</td>\n      <td>0.103979</td>\n    </tr>\n    <tr>\n      <th>40</th>\n      <td>0.546482</td>\n      <td>0.013174</td>\n      <td>0.337297</td>\n      <td>0.019269</td>\n    </tr>\n    <tr>\n      <th>60</th>\n      <td>0.554629</td>\n      <td>-0.018310</td>\n      <td>0.335159</td>\n      <td>0.026847</td>\n    </tr>\n    <tr>\n      <th rowspan=\"3\" valign=\"top\">BNN + LR + GP</th>\n      <th>20</th>\n      <td>0.555483</td>\n      <td>-0.019855</td>\n      <td>0.263980</td>\n      <td>0.093821</td>\n    </tr>\n    <tr>\n      <th>40</th>\n      <td>0.550449</td>\n      <td>-0.001111</td>\n      <td>0.332696</td>\n      <td>0.024275</td>\n    </tr>\n    <tr>\n      <th>60</th>\n      <td>0.561666</td>\n      <td>-0.044314</td>\n      <td>0.326638</td>\n      <td>0.030761</td>\n    </tr>\n    <tr>\n      <th rowspan=\"3\" valign=\"top\">RF + LR</th>\n      <th>20</th>\n      <td>0.495686</td>\n      <td>0.191597</td>\n      <td>0.460010</td>\n      <td>0.000520</td>\n    </tr>\n    <tr>\n      <th>40</th>\n      <td>0.503463</td>\n      <td>0.165533</td>\n      <td>0.452178</td>\n      <td>0.000141</td>\n    </tr>\n    <tr>\n      <th>60</th>\n      <td>0.509864</td>\n      <td>0.141250</td>\n      <td>0.431336</td>\n      <td>0.000862</td>\n    </tr>\n    <tr>\n      <th rowspan=\"3\" valign=\"top\">RF + LR + GP</th>\n      <th>20</th>\n      <td>0.498977</td>\n      <td>0.180815</td>\n      <td>0.456942</td>\n      <td>0.000486</td>\n    </tr>\n    <tr>\n      <th>40</th>\n      <td>0.503225</td>\n      <td>0.165837</td>\n      <td>0.453768</td>\n      <td>0.000171</td>\n    </tr>\n    <tr>\n      <th>60</th>\n      <td>0.511880</td>\n      <td>0.133692</td>\n      <td>0.432519</td>\n      <td>0.000989</td>\n    </tr>\n  </tbody>\n</table>\n</div>"
     },
     "execution_count": 24,
     "metadata": {},
     "output_type": "execute_result"
    }
   ],
   "source": [
    "bnn_rf_gp_lsw = pd.read_csv(f\"{save_dir}/bnn_rf_gp_feature_sel_summary.csv\")\n",
    "bnn_rf_gp_lsw = bnn_rf_gp_lsw.drop_duplicates().drop(\"Unnamed: 0\", axis=1)\n",
    "bnn_rf_gp_lsw.groupby([\"model\", \"num_feats\"]).mean().iloc[:,1:]"
   ]
  },
  {
   "cell_type": "code",
   "execution_count": 57,
   "outputs": [
    {
     "data": {
      "text/plain": "                         test_rmse_score  test_r2_score  test_pcc  \\\nmodel         num_feats                                             \nBNN + LR      20                0.535148       0.059113  0.310668   \nBNN + LR + GP 20                0.553210      -0.009103  0.280440   \nRF + LR       20                0.495686       0.191597  0.460010   \nRF + LR + GP  20                0.499409       0.179732  0.457535   \n\n                         test_pcc_pval  \nmodel         num_feats                 \nBNN + LR      20              0.050418  \nBNN + LR + GP 20              0.094543  \nRF + LR       20              0.000520  \nRF + LR + GP  20              0.000252  ",
      "text/html": "<div>\n<style scoped>\n    .dataframe tbody tr th:only-of-type {\n        vertical-align: middle;\n    }\n\n    .dataframe tbody tr th {\n        vertical-align: top;\n    }\n\n    .dataframe thead th {\n        text-align: right;\n    }\n</style>\n<table border=\"1\" class=\"dataframe\">\n  <thead>\n    <tr style=\"text-align: right;\">\n      <th></th>\n      <th></th>\n      <th>test_rmse_score</th>\n      <th>test_r2_score</th>\n      <th>test_pcc</th>\n      <th>test_pcc_pval</th>\n    </tr>\n    <tr>\n      <th>model</th>\n      <th>num_feats</th>\n      <th></th>\n      <th></th>\n      <th></th>\n      <th></th>\n    </tr>\n  </thead>\n  <tbody>\n    <tr>\n      <th>BNN + LR</th>\n      <th>20</th>\n      <td>0.535148</td>\n      <td>0.059113</td>\n      <td>0.310668</td>\n      <td>0.050418</td>\n    </tr>\n    <tr>\n      <th>BNN + LR + GP</th>\n      <th>20</th>\n      <td>0.553210</td>\n      <td>-0.009103</td>\n      <td>0.280440</td>\n      <td>0.094543</td>\n    </tr>\n    <tr>\n      <th>RF + LR</th>\n      <th>20</th>\n      <td>0.495686</td>\n      <td>0.191597</td>\n      <td>0.460010</td>\n      <td>0.000520</td>\n    </tr>\n    <tr>\n      <th>RF + LR + GP</th>\n      <th>20</th>\n      <td>0.499409</td>\n      <td>0.179732</td>\n      <td>0.457535</td>\n      <td>0.000252</td>\n    </tr>\n  </tbody>\n</table>\n</div>"
     },
     "execution_count": 57,
     "metadata": {},
     "output_type": "execute_result"
    }
   ],
   "source": [
    "save_dir = f\"{data_dir}/exp_data_5/cancer/gdsc\"\n",
    "# seeds = [422,261,968,282,739,573,220,413,745,775,482,442,210,423,760,57,769,920,226,196]\n",
    "seeds = [422,261,968,282,739,573,220,413,745,775]\n",
    "res_dfs = []\n",
    "for seed in seeds:\n",
    "    /notebooks/exp_data_5/cancer/gdsc/bnn_rf_gp_df_dropout.csv\n",
    "    df = pd.read_csv(f\"{save_dir}/results/bnn_rf_gp_s_{seed}_v4.csv\")\n",
    "    res_dfs.append(df)\n",
    "\n",
    "bnn_rf_gp_df = pd.concat(res_dfs, axis=0)\n",
    "bnn_rf_gp_df.groupby([\"model\", \"num_feats\"]).mean().iloc[:,1:]"
   ],
   "metadata": {
    "collapsed": false,
    "pycharm": {
     "name": "#%%\n"
    }
   }
  },
  {
   "cell_type": "code",
   "execution_count": 58,
   "outputs": [
    {
     "data": {
      "text/plain": "    seed          model  num_feats  test_rmse_score  test_r2_score  test_pcc  \\\n0    422        RF + LR         20         0.445575       0.137967  0.441134   \n1    422   RF + LR + GP         20         0.440351       0.158062  0.437110   \n2    422       BNN + LR         20         0.446160       0.135702  0.378847   \n3    422  BNN + LR + GP         20         0.432252       0.188745  0.438863   \n0    261        RF + LR         20         0.515131       0.064735  0.299998   \n..   ...            ...        ...              ...            ...       ...   \n3    226  BNN + LR + GP         20         0.580038       0.131860  0.382773   \n0    196        RF + LR         20         0.497757       0.171029  0.438416   \n1    196   RF + LR + GP         20         0.497990       0.170254  0.439247   \n2    196       BNN + LR         20         0.535433       0.040789  0.296835   \n3    196  BNN + LR + GP         20         0.541201       0.020010  0.301244   \n\n    test_pcc_pval  \n0        0.000034  \n1        0.000040  \n2        0.000449  \n3        0.000037  \n0        0.006176  \n..            ...  \n3        0.000387  \n0        0.000038  \n1        0.000037  \n2        0.006769  \n3        0.005956  \n\n[80 rows x 7 columns]",
      "text/html": "<div>\n<style scoped>\n    .dataframe tbody tr th:only-of-type {\n        vertical-align: middle;\n    }\n\n    .dataframe tbody tr th {\n        vertical-align: top;\n    }\n\n    .dataframe thead th {\n        text-align: right;\n    }\n</style>\n<table border=\"1\" class=\"dataframe\">\n  <thead>\n    <tr style=\"text-align: right;\">\n      <th></th>\n      <th>seed</th>\n      <th>model</th>\n      <th>num_feats</th>\n      <th>test_rmse_score</th>\n      <th>test_r2_score</th>\n      <th>test_pcc</th>\n      <th>test_pcc_pval</th>\n    </tr>\n  </thead>\n  <tbody>\n    <tr>\n      <th>0</th>\n      <td>422</td>\n      <td>RF + LR</td>\n      <td>20</td>\n      <td>0.445575</td>\n      <td>0.137967</td>\n      <td>0.441134</td>\n      <td>0.000034</td>\n    </tr>\n    <tr>\n      <th>1</th>\n      <td>422</td>\n      <td>RF + LR + GP</td>\n      <td>20</td>\n      <td>0.440351</td>\n      <td>0.158062</td>\n      <td>0.437110</td>\n      <td>0.000040</td>\n    </tr>\n    <tr>\n      <th>2</th>\n      <td>422</td>\n      <td>BNN + LR</td>\n      <td>20</td>\n      <td>0.446160</td>\n      <td>0.135702</td>\n      <td>0.378847</td>\n      <td>0.000449</td>\n    </tr>\n    <tr>\n      <th>3</th>\n      <td>422</td>\n      <td>BNN + LR + GP</td>\n      <td>20</td>\n      <td>0.432252</td>\n      <td>0.188745</td>\n      <td>0.438863</td>\n      <td>0.000037</td>\n    </tr>\n    <tr>\n      <th>0</th>\n      <td>261</td>\n      <td>RF + LR</td>\n      <td>20</td>\n      <td>0.515131</td>\n      <td>0.064735</td>\n      <td>0.299998</td>\n      <td>0.006176</td>\n    </tr>\n    <tr>\n      <th>...</th>\n      <td>...</td>\n      <td>...</td>\n      <td>...</td>\n      <td>...</td>\n      <td>...</td>\n      <td>...</td>\n      <td>...</td>\n    </tr>\n    <tr>\n      <th>3</th>\n      <td>226</td>\n      <td>BNN + LR + GP</td>\n      <td>20</td>\n      <td>0.580038</td>\n      <td>0.131860</td>\n      <td>0.382773</td>\n      <td>0.000387</td>\n    </tr>\n    <tr>\n      <th>0</th>\n      <td>196</td>\n      <td>RF + LR</td>\n      <td>20</td>\n      <td>0.497757</td>\n      <td>0.171029</td>\n      <td>0.438416</td>\n      <td>0.000038</td>\n    </tr>\n    <tr>\n      <th>1</th>\n      <td>196</td>\n      <td>RF + LR + GP</td>\n      <td>20</td>\n      <td>0.497990</td>\n      <td>0.170254</td>\n      <td>0.439247</td>\n      <td>0.000037</td>\n    </tr>\n    <tr>\n      <th>2</th>\n      <td>196</td>\n      <td>BNN + LR</td>\n      <td>20</td>\n      <td>0.535433</td>\n      <td>0.040789</td>\n      <td>0.296835</td>\n      <td>0.006769</td>\n    </tr>\n    <tr>\n      <th>3</th>\n      <td>196</td>\n      <td>BNN + LR + GP</td>\n      <td>20</td>\n      <td>0.541201</td>\n      <td>0.020010</td>\n      <td>0.301244</td>\n      <td>0.005956</td>\n    </tr>\n  </tbody>\n</table>\n<p>80 rows × 7 columns</p>\n</div>"
     },
     "execution_count": 58,
     "metadata": {},
     "output_type": "execute_result"
    }
   ],
   "source": [
    "bnn_rf_gp_df"
   ],
   "metadata": {
    "collapsed": false,
    "pycharm": {
     "name": "#%%\n"
    }
   }
  },
  {
   "cell_type": "code",
   "execution_count": 4,
   "outputs": [
    {
     "data": {
      "text/plain": "                seed  test_rmse_score  test_r2_score  test_pcc  test_pcc_pval\nmodel                                                                        \nBNN + LR       539.8         0.588019      -0.173377  0.255526       0.073057\nBNN + LR + GP  539.8         0.592641      -0.191702  0.252452       0.086305\nRF + LR        539.8         0.512898       0.109117  0.407862       0.000725\nRF + LR + GP   539.8         0.516063       0.097912  0.406975       0.000834",
      "text/html": "<div>\n<style scoped>\n    .dataframe tbody tr th:only-of-type {\n        vertical-align: middle;\n    }\n\n    .dataframe tbody tr th {\n        vertical-align: top;\n    }\n\n    .dataframe thead th {\n        text-align: right;\n    }\n</style>\n<table border=\"1\" class=\"dataframe\">\n  <thead>\n    <tr style=\"text-align: right;\">\n      <th></th>\n      <th>seed</th>\n      <th>test_rmse_score</th>\n      <th>test_r2_score</th>\n      <th>test_pcc</th>\n      <th>test_pcc_pval</th>\n    </tr>\n    <tr>\n      <th>model</th>\n      <th></th>\n      <th></th>\n      <th></th>\n      <th></th>\n      <th></th>\n    </tr>\n  </thead>\n  <tbody>\n    <tr>\n      <th>BNN + LR</th>\n      <td>539.8</td>\n      <td>0.588019</td>\n      <td>-0.173377</td>\n      <td>0.255526</td>\n      <td>0.073057</td>\n    </tr>\n    <tr>\n      <th>BNN + LR + GP</th>\n      <td>539.8</td>\n      <td>0.592641</td>\n      <td>-0.191702</td>\n      <td>0.252452</td>\n      <td>0.086305</td>\n    </tr>\n    <tr>\n      <th>RF + LR</th>\n      <td>539.8</td>\n      <td>0.512898</td>\n      <td>0.109117</td>\n      <td>0.407862</td>\n      <td>0.000725</td>\n    </tr>\n    <tr>\n      <th>RF + LR + GP</th>\n      <td>539.8</td>\n      <td>0.516063</td>\n      <td>0.097912</td>\n      <td>0.406975</td>\n      <td>0.000834</td>\n    </tr>\n  </tbody>\n</table>\n</div>"
     },
     "execution_count": 4,
     "metadata": {},
     "output_type": "execute_result"
    }
   ],
   "source": [
    "import pandas as pd\n",
    "save_dir = f\"{data_dir}/exp_data_5/cancer/gdsc\"\n",
    "df = pd.read_csv(f\"{save_dir}/bnn_rf_gp_df_dropout.csv\")\n",
    "df.groupby([\"model\"]).mean()"
   ],
   "metadata": {
    "collapsed": false,
    "pycharm": {
     "name": "#%%\n"
    }
   }
  },
  {
   "cell_type": "code",
   "execution_count": null,
   "outputs": [],
   "source": [],
   "metadata": {
    "collapsed": false,
    "pycharm": {
     "name": "#%%\n"
    }
   }
  }
 ],
 "metadata": {
  "kernelspec": {
   "display_name": "Python 3 (ipykernel)",
   "language": "python",
   "name": "python3"
  },
  "language_info": {
   "codemirror_mode": {
    "name": "ipython",
    "version": 3
   },
   "file_extension": ".py",
   "mimetype": "text/x-python",
   "name": "python",
   "nbconvert_exporter": "python",
   "pygments_lexer": "ipython3",
   "version": "3.8.10 (default, Mar 15 2022, 12:22:08) \n[GCC 9.4.0]"
  },
  "orig_nbformat": 4,
  "vscode": {
   "interpreter": {
    "hash": "916dbcbb3f70747c44a77c7bcd40155683ae19c65e1c03b4aa3499c5328201f1"
   }
  }
 },
 "nbformat": 4,
 "nbformat_minor": 2
}