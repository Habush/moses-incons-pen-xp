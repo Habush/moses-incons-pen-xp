{
 "cells": [
  {
   "cell_type": "code",
   "execution_count": 480,
   "outputs": [
    {
     "name": "stdout",
     "output_type": "stream",
     "text": [
      "/home/abdu/bio_ai/moses-incons-pen-xp/notebooks/variable_selection/cancer/nn\n",
      "The autoreload extension is already loaded. To reload it, use:\n",
      "  %reload_ext autoreload\n"
     ]
    }
   ],
   "source": [
    "import os\n",
    "os.environ[\"XLA_PYTHON_CLIENT_PREALLOCATE\"] = \"False\"\n",
    "os.environ[\"XLA_PYTHON_CLIENT_ALLOCATOR\"] = \"platform\"\n",
    "SERVER = 1\n",
    "\n",
    "if not SERVER:\n",
    "    %cd /home/xabush/code/snet/moses-incons-pen-xp/notebooks/variable_selection/cancer/nn\n",
    "\n",
    "else:\n",
    "    %cd /home/abdu/bio_ai/moses-incons-pen-xp/notebooks/variable_selection/cancer/nn\n",
    "\n",
    "import pandas as pd\n",
    "import matplotlib.pyplot as plt\n",
    "import tensorflow_probability.substrates.jax as tfp\n",
    "from sklearn.model_selection import train_test_split, cross_val_score, StratifiedKFold, KFold, GridSearchCV\n",
    "from sklearn.preprocessing import StandardScaler\n",
    "tfd = tfp.distributions\n",
    "import jax\n",
    "import haiku as hk\n",
    "import numpy as np\n",
    "import optax\n",
    "from nn_util import *\n",
    "from optim_util import *\n",
    "from bnn_models import *\n",
    "from train_utils import *\n",
    "from data_utils import *\n",
    "from hpo_util import *\n",
    "from exp_utils import *\n",
    "plt.style.use('ggplot')\n",
    "%load_ext autoreload"
   ],
   "metadata": {
    "collapsed": false,
    "pycharm": {
     "name": "#%%\n"
    }
   }
  },
  {
   "cell_type": "code",
   "execution_count": 481,
   "outputs": [],
   "source": [
    "if SERVER:\n",
    "    data_dir = \"/home/abdu/bio_ai/moses-incons-pen-xp/data\"\n",
    "else:\n",
    "    data_dir = \"/home/xabush/code/snet/moses-incons-pen-xp/data\""
   ],
   "metadata": {
    "collapsed": false,
    "pycharm": {
     "name": "#%%\n"
    }
   }
  },
  {
   "cell_type": "code",
   "execution_count": 482,
   "outputs": [
    {
     "data": {
      "text/plain": "(406, 37265)"
     },
     "execution_count": 482,
     "metadata": {},
     "output_type": "execute_result"
    }
   ],
   "source": [
    "gdsc_dir = f\"{data_dir}/cell_line/gdsc2\"\n",
    "gdsc_exp_tamox_data = pd.read_csv(f\"{gdsc_dir}/tamoxifen_response_gene_expr.csv\")\n",
    "gdsc_exp_tamox_data.shape"
   ],
   "metadata": {
    "collapsed": false,
    "pycharm": {
     "name": "#%%\n"
    }
   }
  },
  {
   "cell_type": "code",
   "execution_count": 502,
   "outputs": [],
   "source": [
    "X, target = gdsc_exp_tamox_data.iloc[:,:-1], gdsc_exp_tamox_data.iloc[:,-1]\n",
    "# change to -log10(IC_50) to make it comparable\n",
    "target = -np.log10(np.exp(target)) # exp b/c the values are natural logs of raw IC_50\n",
    "cancer_driver_genes_df = pd.read_csv(f\"{data_dir}/cell_line/driver_genes_20221018.csv\")\n",
    "cols = X.columns.to_list()\n",
    "driver_syms = cancer_driver_genes_df[\"symbol\"].to_list()\n",
    "driver_sym_list = [sym.strip() for sym in cols if sym in driver_syms]"
   ],
   "metadata": {
    "collapsed": false,
    "pycharm": {
     "name": "#%%\n"
    }
   }
  },
  {
   "cell_type": "code",
   "execution_count": 503,
   "outputs": [
    {
     "data": {
      "text/plain": "(406, 768)"
     },
     "execution_count": 503,
     "metadata": {},
     "output_type": "execute_result"
    }
   ],
   "source": [
    "X_selected = X[driver_sym_list]\n",
    "X_selected.shape"
   ],
   "metadata": {
    "collapsed": false,
    "pycharm": {
     "name": "#%%\n"
    }
   }
  },
  {
   "cell_type": "code",
   "execution_count": 504,
   "outputs": [],
   "source": [
    "from scipy.sparse import csgraph\n",
    "J = np.load(f\"{data_dir}/cell_line/cancer_genes_net.npy\")\n",
    "L = csgraph.laplacian(J, normed=True)\n",
    "J_zeros = np.zeros_like(J)"
   ],
   "metadata": {
    "collapsed": false,
    "pycharm": {
     "name": "#%%\n"
    }
   }
  },
  {
   "cell_type": "code",
   "execution_count": 629,
   "outputs": [
    {
     "name": "stderr",
     "output_type": "stream",
     "text": [
      "/home/abdu/miniconda3/lib/python3.10/site-packages/sklearn/preprocessing/_data.py:2627: UserWarning:\n",
      "\n",
      "n_quantiles (1000) is greater than the total number of samples (324). n_quantiles is set to n_samples.\n",
      "\n"
     ]
    }
   ],
   "source": [
    "from sklearn.preprocessing import QuantileTransformer, PowerTransformer, RobustScaler, MinMaxScaler, Normalizer, StandardScaler\n",
    "seed = 745\n",
    "# idxs = jax.random.choice(jax.random.PRNGKey(seed), jnp.arange(X_selected.shape[0]), (X_selected.shape[0] // 2, ), replace=False)\n",
    "# X_selected_perm = X_selected.iloc[idxs]\n",
    "# target_perm = target.iloc[idxs]\n",
    "# print(X_selected_perm.shape)\n",
    "transformer = QuantileTransformer(random_state=seed, output_distribution=\"normal\")\n",
    "X_train_outer, X_train, X_val, X_test, \\\n",
    "y_train_outer, y_train, y_val, y_test, (train_idxs, val_idxs) = preprocess_data(seed, X_selected, target,\n",
    "                                                           transformer, val_size=0.2, test_size=0.2)"
   ],
   "metadata": {
    "collapsed": false,
    "pycharm": {
     "name": "#%%\n"
    }
   }
  },
  {
   "cell_type": "code",
   "execution_count": 634,
   "outputs": [
    {
     "name": "stderr",
     "output_type": "stream",
     "text": [
      "\u001B[32m[I 2023-02-18 10:14:25,944]\u001B[0m A new study created in memory with name: no-name-9b7c8f0d-5a5b-48e9-80d2-b399ce306f9b\u001B[0m\n",
      "\u001B[32m[I 2023-02-18 10:14:44,804]\u001B[0m Trial 0 finished with value: 0.4659244120121002 and parameters: {'disc_lr_0': 0.1, 'num_cycles': 30, 'temp': 1.0, 'batch_size': 16, 'sigma': 1.0, 'mu': 2.806709715074587}. Best is trial 0 with value: 0.4659244120121002.\u001B[0m\n",
      "\u001B[32m[I 2023-02-18 10:14:50,662]\u001B[0m Trial 1 finished with value: 0.6394447684288025 and parameters: {'disc_lr_0': 0.1, 'num_cycles': 30, 'temp': 0.01, 'batch_size': 64, 'sigma': 0.5, 'mu': 77.07747663364894}. Best is trial 0 with value: 0.4659244120121002.\u001B[0m\n",
      "\u001B[32m[I 2023-02-18 10:15:00,183]\u001B[0m Trial 2 finished with value: 0.49518856406211853 and parameters: {'disc_lr_0': 0.5, 'num_cycles': 10, 'temp': 0.001, 'batch_size': 32, 'sigma': 0.5, 'mu': 15.535922474763439}. Best is trial 0 with value: 0.4659244120121002.\u001B[0m\n",
      "\u001B[32m[I 2023-02-18 10:15:05,647]\u001B[0m Trial 3 finished with value: 0.5737537145614624 and parameters: {'disc_lr_0': 0.5, 'num_cycles': 30, 'temp': 0.01, 'batch_size': 64, 'sigma': 0.5, 'mu': 49.65054212697684}. Best is trial 0 with value: 0.4659244120121002.\u001B[0m\n",
      "\u001B[32m[I 2023-02-18 10:15:11,540]\u001B[0m Trial 4 finished with value: 0.7727059721946716 and parameters: {'disc_lr_0': 0.5, 'num_cycles': 10, 'temp': 0.001, 'batch_size': 64, 'sigma': 1.0, 'mu': 38.185391791005145}. Best is trial 0 with value: 0.4659244120121002.\u001B[0m\n",
      "\u001B[32m[I 2023-02-18 10:15:30,342]\u001B[0m Trial 5 finished with value: 0.49110251665115356 and parameters: {'disc_lr_0': 0.1, 'num_cycles': 10, 'temp': 0.01, 'batch_size': 16, 'sigma': 0.5, 'mu': 80.99805940360812}. Best is trial 0 with value: 0.4659244120121002.\u001B[0m\n",
      "\u001B[32m[I 2023-02-18 10:15:36,159]\u001B[0m Trial 6 finished with value: 1.2486138343811035 and parameters: {'disc_lr_0': 0.1, 'num_cycles': 10, 'temp': 0.001, 'batch_size': 64, 'sigma': 1.0, 'mu': 91.54231255177704}. Best is trial 0 with value: 0.4659244120121002.\u001B[0m\n",
      "\u001B[32m[I 2023-02-18 10:15:55,222]\u001B[0m Trial 7 finished with value: 0.487903356552124 and parameters: {'disc_lr_0': 0.1, 'num_cycles': 10, 'temp': 0.1, 'batch_size': 16, 'sigma': 0.5, 'mu': 75.33252951384216}. Best is trial 0 with value: 0.4659244120121002.\u001B[0m\n",
      "\u001B[32m[I 2023-02-18 10:16:00,898]\u001B[0m Trial 8 finished with value: 0.5706315040588379 and parameters: {'disc_lr_0': 0.1, 'num_cycles': 10, 'temp': 0.01, 'batch_size': 64, 'sigma': 0.5, 'mu': 29.61195249420122}. Best is trial 0 with value: 0.4659244120121002.\u001B[0m\n",
      "\u001B[32m[I 2023-02-18 10:16:19,546]\u001B[0m Trial 9 finished with value: 0.5202957391738892 and parameters: {'disc_lr_0': 0.5, 'num_cycles': 10, 'temp': 1.0, 'batch_size': 16, 'sigma': 1.0, 'mu': 62.09348874414936}. Best is trial 0 with value: 0.4659244120121002.\u001B[0m\n",
      "\u001B[32m[I 2023-02-18 10:16:29,224]\u001B[0m Trial 10 finished with value: 0.4675690233707428 and parameters: {'disc_lr_0': 0.1, 'num_cycles': 20, 'temp': 1.0, 'batch_size': 32, 'sigma': 0.1, 'mu': 3.441887044539362}. Best is trial 0 with value: 0.4659244120121002.\u001B[0m\n"
     ]
    }
   ],
   "source": [
    "%autoreload\n",
    "optuna.logging.set_verbosity(optuna.logging.INFO)\n",
    "sampler = optuna.samplers.TPESampler()\n",
    "study_bnn = optuna.create_study(sampler=sampler)\n",
    "\n",
    "study_bnn.optimize(lambda trial: objective_bg_bnn(trial, seed, X_train, X_val, y_train, y_val, J_zeros, 0.25, [100], \"swish\", bg=False), timeout=120)"
   ],
   "metadata": {
    "collapsed": false,
    "pycharm": {
     "name": "#%%\n"
    }
   }
  },
  {
   "cell_type": "code",
   "execution_count": 635,
   "outputs": [
    {
     "name": "stdout",
     "output_type": "stream",
     "text": [
      "{'disc_lr_0': 0.1, 'num_cycles': 30, 'temp': 1.0, 'batch_size': 16, 'sigma': 1.0, 'mu': 2.806709715074587}\n"
     ]
    },
    {
     "data": {
      "application/vnd.plotly.v1+json": {
       "data": [
        {
         "cliponaxis": false,
         "hovertemplate": [
          "num_cycles (CategoricalDistribution): 0.006766790413261588<extra></extra>",
          "disc_lr_0 (CategoricalDistribution): 0.011759133008454067<extra></extra>",
          "sigma (CategoricalDistribution): 0.07785513848288976<extra></extra>",
          "temp (CategoricalDistribution): 0.11885056920291824<extra></extra>",
          "batch_size (CategoricalDistribution): 0.29367947003998185<extra></extra>",
          "mu (FloatDistribution): 0.4910888988524945<extra></extra>"
         ],
         "marker": {
          "color": "rgb(66,146,198)"
         },
         "orientation": "h",
         "text": [
          "<0.01",
          "0.01",
          "0.08",
          "0.12",
          "0.29",
          "0.49"
         ],
         "textposition": "outside",
         "x": [
          0.006766790413261588,
          0.011759133008454067,
          0.07785513848288976,
          0.11885056920291824,
          0.29367947003998185,
          0.4910888988524945
         ],
         "y": [
          "num_cycles",
          "disc_lr_0",
          "sigma",
          "temp",
          "batch_size",
          "mu"
         ],
         "type": "bar"
        }
       ],
       "layout": {
        "showlegend": false,
        "title": {
         "text": "Hyperparameter Importances"
        },
        "xaxis": {
         "title": {
          "text": "Importance for Objective Value"
         }
        },
        "yaxis": {
         "title": {
          "text": "Hyperparameter"
         }
        },
        "template": {
         "data": {
          "histogram2dcontour": [
           {
            "type": "histogram2dcontour",
            "colorbar": {
             "outlinewidth": 0,
             "ticks": ""
            },
            "colorscale": [
             [
              0.0,
              "#0d0887"
             ],
             [
              0.1111111111111111,
              "#46039f"
             ],
             [
              0.2222222222222222,
              "#7201a8"
             ],
             [
              0.3333333333333333,
              "#9c179e"
             ],
             [
              0.4444444444444444,
              "#bd3786"
             ],
             [
              0.5555555555555556,
              "#d8576b"
             ],
             [
              0.6666666666666666,
              "#ed7953"
             ],
             [
              0.7777777777777778,
              "#fb9f3a"
             ],
             [
              0.8888888888888888,
              "#fdca26"
             ],
             [
              1.0,
              "#f0f921"
             ]
            ]
           }
          ],
          "choropleth": [
           {
            "type": "choropleth",
            "colorbar": {
             "outlinewidth": 0,
             "ticks": ""
            }
           }
          ],
          "histogram2d": [
           {
            "type": "histogram2d",
            "colorbar": {
             "outlinewidth": 0,
             "ticks": ""
            },
            "colorscale": [
             [
              0.0,
              "#0d0887"
             ],
             [
              0.1111111111111111,
              "#46039f"
             ],
             [
              0.2222222222222222,
              "#7201a8"
             ],
             [
              0.3333333333333333,
              "#9c179e"
             ],
             [
              0.4444444444444444,
              "#bd3786"
             ],
             [
              0.5555555555555556,
              "#d8576b"
             ],
             [
              0.6666666666666666,
              "#ed7953"
             ],
             [
              0.7777777777777778,
              "#fb9f3a"
             ],
             [
              0.8888888888888888,
              "#fdca26"
             ],
             [
              1.0,
              "#f0f921"
             ]
            ]
           }
          ],
          "heatmap": [
           {
            "type": "heatmap",
            "colorbar": {
             "outlinewidth": 0,
             "ticks": ""
            },
            "colorscale": [
             [
              0.0,
              "#0d0887"
             ],
             [
              0.1111111111111111,
              "#46039f"
             ],
             [
              0.2222222222222222,
              "#7201a8"
             ],
             [
              0.3333333333333333,
              "#9c179e"
             ],
             [
              0.4444444444444444,
              "#bd3786"
             ],
             [
              0.5555555555555556,
              "#d8576b"
             ],
             [
              0.6666666666666666,
              "#ed7953"
             ],
             [
              0.7777777777777778,
              "#fb9f3a"
             ],
             [
              0.8888888888888888,
              "#fdca26"
             ],
             [
              1.0,
              "#f0f921"
             ]
            ]
           }
          ],
          "heatmapgl": [
           {
            "type": "heatmapgl",
            "colorbar": {
             "outlinewidth": 0,
             "ticks": ""
            },
            "colorscale": [
             [
              0.0,
              "#0d0887"
             ],
             [
              0.1111111111111111,
              "#46039f"
             ],
             [
              0.2222222222222222,
              "#7201a8"
             ],
             [
              0.3333333333333333,
              "#9c179e"
             ],
             [
              0.4444444444444444,
              "#bd3786"
             ],
             [
              0.5555555555555556,
              "#d8576b"
             ],
             [
              0.6666666666666666,
              "#ed7953"
             ],
             [
              0.7777777777777778,
              "#fb9f3a"
             ],
             [
              0.8888888888888888,
              "#fdca26"
             ],
             [
              1.0,
              "#f0f921"
             ]
            ]
           }
          ],
          "contourcarpet": [
           {
            "type": "contourcarpet",
            "colorbar": {
             "outlinewidth": 0,
             "ticks": ""
            }
           }
          ],
          "contour": [
           {
            "type": "contour",
            "colorbar": {
             "outlinewidth": 0,
             "ticks": ""
            },
            "colorscale": [
             [
              0.0,
              "#0d0887"
             ],
             [
              0.1111111111111111,
              "#46039f"
             ],
             [
              0.2222222222222222,
              "#7201a8"
             ],
             [
              0.3333333333333333,
              "#9c179e"
             ],
             [
              0.4444444444444444,
              "#bd3786"
             ],
             [
              0.5555555555555556,
              "#d8576b"
             ],
             [
              0.6666666666666666,
              "#ed7953"
             ],
             [
              0.7777777777777778,
              "#fb9f3a"
             ],
             [
              0.8888888888888888,
              "#fdca26"
             ],
             [
              1.0,
              "#f0f921"
             ]
            ]
           }
          ],
          "surface": [
           {
            "type": "surface",
            "colorbar": {
             "outlinewidth": 0,
             "ticks": ""
            },
            "colorscale": [
             [
              0.0,
              "#0d0887"
             ],
             [
              0.1111111111111111,
              "#46039f"
             ],
             [
              0.2222222222222222,
              "#7201a8"
             ],
             [
              0.3333333333333333,
              "#9c179e"
             ],
             [
              0.4444444444444444,
              "#bd3786"
             ],
             [
              0.5555555555555556,
              "#d8576b"
             ],
             [
              0.6666666666666666,
              "#ed7953"
             ],
             [
              0.7777777777777778,
              "#fb9f3a"
             ],
             [
              0.8888888888888888,
              "#fdca26"
             ],
             [
              1.0,
              "#f0f921"
             ]
            ]
           }
          ],
          "mesh3d": [
           {
            "type": "mesh3d",
            "colorbar": {
             "outlinewidth": 0,
             "ticks": ""
            }
           }
          ],
          "scatter": [
           {
            "fillpattern": {
             "fillmode": "overlay",
             "size": 10,
             "solidity": 0.2
            },
            "type": "scatter"
           }
          ],
          "parcoords": [
           {
            "type": "parcoords",
            "line": {
             "colorbar": {
              "outlinewidth": 0,
              "ticks": ""
             }
            }
           }
          ],
          "scatterpolargl": [
           {
            "type": "scatterpolargl",
            "marker": {
             "colorbar": {
              "outlinewidth": 0,
              "ticks": ""
             }
            }
           }
          ],
          "bar": [
           {
            "error_x": {
             "color": "#2a3f5f"
            },
            "error_y": {
             "color": "#2a3f5f"
            },
            "marker": {
             "line": {
              "color": "#E5ECF6",
              "width": 0.5
             },
             "pattern": {
              "fillmode": "overlay",
              "size": 10,
              "solidity": 0.2
             }
            },
            "type": "bar"
           }
          ],
          "scattergeo": [
           {
            "type": "scattergeo",
            "marker": {
             "colorbar": {
              "outlinewidth": 0,
              "ticks": ""
             }
            }
           }
          ],
          "scatterpolar": [
           {
            "type": "scatterpolar",
            "marker": {
             "colorbar": {
              "outlinewidth": 0,
              "ticks": ""
             }
            }
           }
          ],
          "histogram": [
           {
            "marker": {
             "pattern": {
              "fillmode": "overlay",
              "size": 10,
              "solidity": 0.2
             }
            },
            "type": "histogram"
           }
          ],
          "scattergl": [
           {
            "type": "scattergl",
            "marker": {
             "colorbar": {
              "outlinewidth": 0,
              "ticks": ""
             }
            }
           }
          ],
          "scatter3d": [
           {
            "type": "scatter3d",
            "line": {
             "colorbar": {
              "outlinewidth": 0,
              "ticks": ""
             }
            },
            "marker": {
             "colorbar": {
              "outlinewidth": 0,
              "ticks": ""
             }
            }
           }
          ],
          "scattermapbox": [
           {
            "type": "scattermapbox",
            "marker": {
             "colorbar": {
              "outlinewidth": 0,
              "ticks": ""
             }
            }
           }
          ],
          "scatterternary": [
           {
            "type": "scatterternary",
            "marker": {
             "colorbar": {
              "outlinewidth": 0,
              "ticks": ""
             }
            }
           }
          ],
          "scattercarpet": [
           {
            "type": "scattercarpet",
            "marker": {
             "colorbar": {
              "outlinewidth": 0,
              "ticks": ""
             }
            }
           }
          ],
          "carpet": [
           {
            "aaxis": {
             "endlinecolor": "#2a3f5f",
             "gridcolor": "white",
             "linecolor": "white",
             "minorgridcolor": "white",
             "startlinecolor": "#2a3f5f"
            },
            "baxis": {
             "endlinecolor": "#2a3f5f",
             "gridcolor": "white",
             "linecolor": "white",
             "minorgridcolor": "white",
             "startlinecolor": "#2a3f5f"
            },
            "type": "carpet"
           }
          ],
          "table": [
           {
            "cells": {
             "fill": {
              "color": "#EBF0F8"
             },
             "line": {
              "color": "white"
             }
            },
            "header": {
             "fill": {
              "color": "#C8D4E3"
             },
             "line": {
              "color": "white"
             }
            },
            "type": "table"
           }
          ],
          "barpolar": [
           {
            "marker": {
             "line": {
              "color": "#E5ECF6",
              "width": 0.5
             },
             "pattern": {
              "fillmode": "overlay",
              "size": 10,
              "solidity": 0.2
             }
            },
            "type": "barpolar"
           }
          ],
          "pie": [
           {
            "automargin": true,
            "type": "pie"
           }
          ]
         },
         "layout": {
          "autotypenumbers": "strict",
          "colorway": [
           "#636efa",
           "#EF553B",
           "#00cc96",
           "#ab63fa",
           "#FFA15A",
           "#19d3f3",
           "#FF6692",
           "#B6E880",
           "#FF97FF",
           "#FECB52"
          ],
          "font": {
           "color": "#2a3f5f"
          },
          "hovermode": "closest",
          "hoverlabel": {
           "align": "left"
          },
          "paper_bgcolor": "white",
          "plot_bgcolor": "#E5ECF6",
          "polar": {
           "bgcolor": "#E5ECF6",
           "angularaxis": {
            "gridcolor": "white",
            "linecolor": "white",
            "ticks": ""
           },
           "radialaxis": {
            "gridcolor": "white",
            "linecolor": "white",
            "ticks": ""
           }
          },
          "ternary": {
           "bgcolor": "#E5ECF6",
           "aaxis": {
            "gridcolor": "white",
            "linecolor": "white",
            "ticks": ""
           },
           "baxis": {
            "gridcolor": "white",
            "linecolor": "white",
            "ticks": ""
           },
           "caxis": {
            "gridcolor": "white",
            "linecolor": "white",
            "ticks": ""
           }
          },
          "coloraxis": {
           "colorbar": {
            "outlinewidth": 0,
            "ticks": ""
           }
          },
          "colorscale": {
           "sequential": [
            [
             0.0,
             "#0d0887"
            ],
            [
             0.1111111111111111,
             "#46039f"
            ],
            [
             0.2222222222222222,
             "#7201a8"
            ],
            [
             0.3333333333333333,
             "#9c179e"
            ],
            [
             0.4444444444444444,
             "#bd3786"
            ],
            [
             0.5555555555555556,
             "#d8576b"
            ],
            [
             0.6666666666666666,
             "#ed7953"
            ],
            [
             0.7777777777777778,
             "#fb9f3a"
            ],
            [
             0.8888888888888888,
             "#fdca26"
            ],
            [
             1.0,
             "#f0f921"
            ]
           ],
           "sequentialminus": [
            [
             0.0,
             "#0d0887"
            ],
            [
             0.1111111111111111,
             "#46039f"
            ],
            [
             0.2222222222222222,
             "#7201a8"
            ],
            [
             0.3333333333333333,
             "#9c179e"
            ],
            [
             0.4444444444444444,
             "#bd3786"
            ],
            [
             0.5555555555555556,
             "#d8576b"
            ],
            [
             0.6666666666666666,
             "#ed7953"
            ],
            [
             0.7777777777777778,
             "#fb9f3a"
            ],
            [
             0.8888888888888888,
             "#fdca26"
            ],
            [
             1.0,
             "#f0f921"
            ]
           ],
           "diverging": [
            [
             0,
             "#8e0152"
            ],
            [
             0.1,
             "#c51b7d"
            ],
            [
             0.2,
             "#de77ae"
            ],
            [
             0.3,
             "#f1b6da"
            ],
            [
             0.4,
             "#fde0ef"
            ],
            [
             0.5,
             "#f7f7f7"
            ],
            [
             0.6,
             "#e6f5d0"
            ],
            [
             0.7,
             "#b8e186"
            ],
            [
             0.8,
             "#7fbc41"
            ],
            [
             0.9,
             "#4d9221"
            ],
            [
             1,
             "#276419"
            ]
           ]
          },
          "xaxis": {
           "gridcolor": "white",
           "linecolor": "white",
           "ticks": "",
           "title": {
            "standoff": 15
           },
           "zerolinecolor": "white",
           "automargin": true,
           "zerolinewidth": 2
          },
          "yaxis": {
           "gridcolor": "white",
           "linecolor": "white",
           "ticks": "",
           "title": {
            "standoff": 15
           },
           "zerolinecolor": "white",
           "automargin": true,
           "zerolinewidth": 2
          },
          "scene": {
           "xaxis": {
            "backgroundcolor": "#E5ECF6",
            "gridcolor": "white",
            "linecolor": "white",
            "showbackground": true,
            "ticks": "",
            "zerolinecolor": "white",
            "gridwidth": 2
           },
           "yaxis": {
            "backgroundcolor": "#E5ECF6",
            "gridcolor": "white",
            "linecolor": "white",
            "showbackground": true,
            "ticks": "",
            "zerolinecolor": "white",
            "gridwidth": 2
           },
           "zaxis": {
            "backgroundcolor": "#E5ECF6",
            "gridcolor": "white",
            "linecolor": "white",
            "showbackground": true,
            "ticks": "",
            "zerolinecolor": "white",
            "gridwidth": 2
           }
          },
          "shapedefaults": {
           "line": {
            "color": "#2a3f5f"
           }
          },
          "annotationdefaults": {
           "arrowcolor": "#2a3f5f",
           "arrowhead": 0,
           "arrowwidth": 1
          },
          "geo": {
           "bgcolor": "white",
           "landcolor": "#E5ECF6",
           "subunitcolor": "white",
           "showland": true,
           "showlakes": true,
           "lakecolor": "white"
          },
          "title": {
           "x": 0.05
          },
          "mapbox": {
           "style": "light"
          }
         }
        }
       },
       "config": {
        "plotlyServerURL": "https://plot.ly"
       }
      },
      "text/html": "<div>                            <div id=\"59731501-2a79-484b-a1cd-24cddc1b5f41\" class=\"plotly-graph-div\" style=\"height:525px; width:100%;\"></div>            <script type=\"text/javascript\">                require([\"plotly\"], function(Plotly) {                    window.PLOTLYENV=window.PLOTLYENV || {};                                    if (document.getElementById(\"59731501-2a79-484b-a1cd-24cddc1b5f41\")) {                    Plotly.newPlot(                        \"59731501-2a79-484b-a1cd-24cddc1b5f41\",                        [{\"cliponaxis\":false,\"hovertemplate\":[\"num_cycles (CategoricalDistribution): 0.006766790413261588<extra></extra>\",\"disc_lr_0 (CategoricalDistribution): 0.011759133008454067<extra></extra>\",\"sigma (CategoricalDistribution): 0.07785513848288976<extra></extra>\",\"temp (CategoricalDistribution): 0.11885056920291824<extra></extra>\",\"batch_size (CategoricalDistribution): 0.29367947003998185<extra></extra>\",\"mu (FloatDistribution): 0.4910888988524945<extra></extra>\"],\"marker\":{\"color\":\"rgb(66,146,198)\"},\"orientation\":\"h\",\"text\":[\"<0.01\",\"0.01\",\"0.08\",\"0.12\",\"0.29\",\"0.49\"],\"textposition\":\"outside\",\"x\":[0.006766790413261588,0.011759133008454067,0.07785513848288976,0.11885056920291824,0.29367947003998185,0.4910888988524945],\"y\":[\"num_cycles\",\"disc_lr_0\",\"sigma\",\"temp\",\"batch_size\",\"mu\"],\"type\":\"bar\"}],                        {\"showlegend\":false,\"title\":{\"text\":\"Hyperparameter Importances\"},\"xaxis\":{\"title\":{\"text\":\"Importance for Objective Value\"}},\"yaxis\":{\"title\":{\"text\":\"Hyperparameter\"}},\"template\":{\"data\":{\"histogram2dcontour\":[{\"type\":\"histogram2dcontour\",\"colorbar\":{\"outlinewidth\":0,\"ticks\":\"\"},\"colorscale\":[[0.0,\"#0d0887\"],[0.1111111111111111,\"#46039f\"],[0.2222222222222222,\"#7201a8\"],[0.3333333333333333,\"#9c179e\"],[0.4444444444444444,\"#bd3786\"],[0.5555555555555556,\"#d8576b\"],[0.6666666666666666,\"#ed7953\"],[0.7777777777777778,\"#fb9f3a\"],[0.8888888888888888,\"#fdca26\"],[1.0,\"#f0f921\"]]}],\"choropleth\":[{\"type\":\"choropleth\",\"colorbar\":{\"outlinewidth\":0,\"ticks\":\"\"}}],\"histogram2d\":[{\"type\":\"histogram2d\",\"colorbar\":{\"outlinewidth\":0,\"ticks\":\"\"},\"colorscale\":[[0.0,\"#0d0887\"],[0.1111111111111111,\"#46039f\"],[0.2222222222222222,\"#7201a8\"],[0.3333333333333333,\"#9c179e\"],[0.4444444444444444,\"#bd3786\"],[0.5555555555555556,\"#d8576b\"],[0.6666666666666666,\"#ed7953\"],[0.7777777777777778,\"#fb9f3a\"],[0.8888888888888888,\"#fdca26\"],[1.0,\"#f0f921\"]]}],\"heatmap\":[{\"type\":\"heatmap\",\"colorbar\":{\"outlinewidth\":0,\"ticks\":\"\"},\"colorscale\":[[0.0,\"#0d0887\"],[0.1111111111111111,\"#46039f\"],[0.2222222222222222,\"#7201a8\"],[0.3333333333333333,\"#9c179e\"],[0.4444444444444444,\"#bd3786\"],[0.5555555555555556,\"#d8576b\"],[0.6666666666666666,\"#ed7953\"],[0.7777777777777778,\"#fb9f3a\"],[0.8888888888888888,\"#fdca26\"],[1.0,\"#f0f921\"]]}],\"heatmapgl\":[{\"type\":\"heatmapgl\",\"colorbar\":{\"outlinewidth\":0,\"ticks\":\"\"},\"colorscale\":[[0.0,\"#0d0887\"],[0.1111111111111111,\"#46039f\"],[0.2222222222222222,\"#7201a8\"],[0.3333333333333333,\"#9c179e\"],[0.4444444444444444,\"#bd3786\"],[0.5555555555555556,\"#d8576b\"],[0.6666666666666666,\"#ed7953\"],[0.7777777777777778,\"#fb9f3a\"],[0.8888888888888888,\"#fdca26\"],[1.0,\"#f0f921\"]]}],\"contourcarpet\":[{\"type\":\"contourcarpet\",\"colorbar\":{\"outlinewidth\":0,\"ticks\":\"\"}}],\"contour\":[{\"type\":\"contour\",\"colorbar\":{\"outlinewidth\":0,\"ticks\":\"\"},\"colorscale\":[[0.0,\"#0d0887\"],[0.1111111111111111,\"#46039f\"],[0.2222222222222222,\"#7201a8\"],[0.3333333333333333,\"#9c179e\"],[0.4444444444444444,\"#bd3786\"],[0.5555555555555556,\"#d8576b\"],[0.6666666666666666,\"#ed7953\"],[0.7777777777777778,\"#fb9f3a\"],[0.8888888888888888,\"#fdca26\"],[1.0,\"#f0f921\"]]}],\"surface\":[{\"type\":\"surface\",\"colorbar\":{\"outlinewidth\":0,\"ticks\":\"\"},\"colorscale\":[[0.0,\"#0d0887\"],[0.1111111111111111,\"#46039f\"],[0.2222222222222222,\"#7201a8\"],[0.3333333333333333,\"#9c179e\"],[0.4444444444444444,\"#bd3786\"],[0.5555555555555556,\"#d8576b\"],[0.6666666666666666,\"#ed7953\"],[0.7777777777777778,\"#fb9f3a\"],[0.8888888888888888,\"#fdca26\"],[1.0,\"#f0f921\"]]}],\"mesh3d\":[{\"type\":\"mesh3d\",\"colorbar\":{\"outlinewidth\":0,\"ticks\":\"\"}}],\"scatter\":[{\"fillpattern\":{\"fillmode\":\"overlay\",\"size\":10,\"solidity\":0.2},\"type\":\"scatter\"}],\"parcoords\":[{\"type\":\"parcoords\",\"line\":{\"colorbar\":{\"outlinewidth\":0,\"ticks\":\"\"}}}],\"scatterpolargl\":[{\"type\":\"scatterpolargl\",\"marker\":{\"colorbar\":{\"outlinewidth\":0,\"ticks\":\"\"}}}],\"bar\":[{\"error_x\":{\"color\":\"#2a3f5f\"},\"error_y\":{\"color\":\"#2a3f5f\"},\"marker\":{\"line\":{\"color\":\"#E5ECF6\",\"width\":0.5},\"pattern\":{\"fillmode\":\"overlay\",\"size\":10,\"solidity\":0.2}},\"type\":\"bar\"}],\"scattergeo\":[{\"type\":\"scattergeo\",\"marker\":{\"colorbar\":{\"outlinewidth\":0,\"ticks\":\"\"}}}],\"scatterpolar\":[{\"type\":\"scatterpolar\",\"marker\":{\"colorbar\":{\"outlinewidth\":0,\"ticks\":\"\"}}}],\"histogram\":[{\"marker\":{\"pattern\":{\"fillmode\":\"overlay\",\"size\":10,\"solidity\":0.2}},\"type\":\"histogram\"}],\"scattergl\":[{\"type\":\"scattergl\",\"marker\":{\"colorbar\":{\"outlinewidth\":0,\"ticks\":\"\"}}}],\"scatter3d\":[{\"type\":\"scatter3d\",\"line\":{\"colorbar\":{\"outlinewidth\":0,\"ticks\":\"\"}},\"marker\":{\"colorbar\":{\"outlinewidth\":0,\"ticks\":\"\"}}}],\"scattermapbox\":[{\"type\":\"scattermapbox\",\"marker\":{\"colorbar\":{\"outlinewidth\":0,\"ticks\":\"\"}}}],\"scatterternary\":[{\"type\":\"scatterternary\",\"marker\":{\"colorbar\":{\"outlinewidth\":0,\"ticks\":\"\"}}}],\"scattercarpet\":[{\"type\":\"scattercarpet\",\"marker\":{\"colorbar\":{\"outlinewidth\":0,\"ticks\":\"\"}}}],\"carpet\":[{\"aaxis\":{\"endlinecolor\":\"#2a3f5f\",\"gridcolor\":\"white\",\"linecolor\":\"white\",\"minorgridcolor\":\"white\",\"startlinecolor\":\"#2a3f5f\"},\"baxis\":{\"endlinecolor\":\"#2a3f5f\",\"gridcolor\":\"white\",\"linecolor\":\"white\",\"minorgridcolor\":\"white\",\"startlinecolor\":\"#2a3f5f\"},\"type\":\"carpet\"}],\"table\":[{\"cells\":{\"fill\":{\"color\":\"#EBF0F8\"},\"line\":{\"color\":\"white\"}},\"header\":{\"fill\":{\"color\":\"#C8D4E3\"},\"line\":{\"color\":\"white\"}},\"type\":\"table\"}],\"barpolar\":[{\"marker\":{\"line\":{\"color\":\"#E5ECF6\",\"width\":0.5},\"pattern\":{\"fillmode\":\"overlay\",\"size\":10,\"solidity\":0.2}},\"type\":\"barpolar\"}],\"pie\":[{\"automargin\":true,\"type\":\"pie\"}]},\"layout\":{\"autotypenumbers\":\"strict\",\"colorway\":[\"#636efa\",\"#EF553B\",\"#00cc96\",\"#ab63fa\",\"#FFA15A\",\"#19d3f3\",\"#FF6692\",\"#B6E880\",\"#FF97FF\",\"#FECB52\"],\"font\":{\"color\":\"#2a3f5f\"},\"hovermode\":\"closest\",\"hoverlabel\":{\"align\":\"left\"},\"paper_bgcolor\":\"white\",\"plot_bgcolor\":\"#E5ECF6\",\"polar\":{\"bgcolor\":\"#E5ECF6\",\"angularaxis\":{\"gridcolor\":\"white\",\"linecolor\":\"white\",\"ticks\":\"\"},\"radialaxis\":{\"gridcolor\":\"white\",\"linecolor\":\"white\",\"ticks\":\"\"}},\"ternary\":{\"bgcolor\":\"#E5ECF6\",\"aaxis\":{\"gridcolor\":\"white\",\"linecolor\":\"white\",\"ticks\":\"\"},\"baxis\":{\"gridcolor\":\"white\",\"linecolor\":\"white\",\"ticks\":\"\"},\"caxis\":{\"gridcolor\":\"white\",\"linecolor\":\"white\",\"ticks\":\"\"}},\"coloraxis\":{\"colorbar\":{\"outlinewidth\":0,\"ticks\":\"\"}},\"colorscale\":{\"sequential\":[[0.0,\"#0d0887\"],[0.1111111111111111,\"#46039f\"],[0.2222222222222222,\"#7201a8\"],[0.3333333333333333,\"#9c179e\"],[0.4444444444444444,\"#bd3786\"],[0.5555555555555556,\"#d8576b\"],[0.6666666666666666,\"#ed7953\"],[0.7777777777777778,\"#fb9f3a\"],[0.8888888888888888,\"#fdca26\"],[1.0,\"#f0f921\"]],\"sequentialminus\":[[0.0,\"#0d0887\"],[0.1111111111111111,\"#46039f\"],[0.2222222222222222,\"#7201a8\"],[0.3333333333333333,\"#9c179e\"],[0.4444444444444444,\"#bd3786\"],[0.5555555555555556,\"#d8576b\"],[0.6666666666666666,\"#ed7953\"],[0.7777777777777778,\"#fb9f3a\"],[0.8888888888888888,\"#fdca26\"],[1.0,\"#f0f921\"]],\"diverging\":[[0,\"#8e0152\"],[0.1,\"#c51b7d\"],[0.2,\"#de77ae\"],[0.3,\"#f1b6da\"],[0.4,\"#fde0ef\"],[0.5,\"#f7f7f7\"],[0.6,\"#e6f5d0\"],[0.7,\"#b8e186\"],[0.8,\"#7fbc41\"],[0.9,\"#4d9221\"],[1,\"#276419\"]]},\"xaxis\":{\"gridcolor\":\"white\",\"linecolor\":\"white\",\"ticks\":\"\",\"title\":{\"standoff\":15},\"zerolinecolor\":\"white\",\"automargin\":true,\"zerolinewidth\":2},\"yaxis\":{\"gridcolor\":\"white\",\"linecolor\":\"white\",\"ticks\":\"\",\"title\":{\"standoff\":15},\"zerolinecolor\":\"white\",\"automargin\":true,\"zerolinewidth\":2},\"scene\":{\"xaxis\":{\"backgroundcolor\":\"#E5ECF6\",\"gridcolor\":\"white\",\"linecolor\":\"white\",\"showbackground\":true,\"ticks\":\"\",\"zerolinecolor\":\"white\",\"gridwidth\":2},\"yaxis\":{\"backgroundcolor\":\"#E5ECF6\",\"gridcolor\":\"white\",\"linecolor\":\"white\",\"showbackground\":true,\"ticks\":\"\",\"zerolinecolor\":\"white\",\"gridwidth\":2},\"zaxis\":{\"backgroundcolor\":\"#E5ECF6\",\"gridcolor\":\"white\",\"linecolor\":\"white\",\"showbackground\":true,\"ticks\":\"\",\"zerolinecolor\":\"white\",\"gridwidth\":2}},\"shapedefaults\":{\"line\":{\"color\":\"#2a3f5f\"}},\"annotationdefaults\":{\"arrowcolor\":\"#2a3f5f\",\"arrowhead\":0,\"arrowwidth\":1},\"geo\":{\"bgcolor\":\"white\",\"landcolor\":\"#E5ECF6\",\"subunitcolor\":\"white\",\"showland\":true,\"showlakes\":true,\"lakecolor\":\"white\"},\"title\":{\"x\":0.05},\"mapbox\":{\"style\":\"light\"}}}},                        {\"responsive\": true}                    ).then(function(){\n                            \nvar gd = document.getElementById('59731501-2a79-484b-a1cd-24cddc1b5f41');\nvar x = new MutationObserver(function (mutations, observer) {{\n        var display = window.getComputedStyle(gd).display;\n        if (!display || display === 'none') {{\n            console.log([gd, 'removed!']);\n            Plotly.purge(gd);\n            observer.disconnect();\n        }}\n}});\n\n// Listen for the removal of the full notebook cells\nvar notebookContainer = gd.closest('#notebook-container');\nif (notebookContainer) {{\n    x.observe(notebookContainer, {childList: true});\n}}\n\n// Listen for the clearing of the current output cell\nvar outputEl = gd.closest('.output');\nif (outputEl) {{\n    x.observe(outputEl, {childList: true});\n}}\n\n                        })                };                });            </script>        </div>"
     },
     "metadata": {},
     "output_type": "display_data"
    }
   ],
   "source": [
    "from optuna.visualization import plot_param_importances\n",
    "bnn_config = study_bnn.best_params\n",
    "print(bnn_config)\n",
    "plot_param_importances(study_bnn)"
   ],
   "metadata": {
    "collapsed": false,
    "pycharm": {
     "name": "#%%\n"
    }
   }
  },
  {
   "cell_type": "code",
   "execution_count": 680,
   "outputs": [
    {
     "name": "stderr",
     "output_type": "stream",
     "text": [
      "\u001B[32m[I 2023-02-18 10:28:09,551]\u001B[0m A new study created in memory with name: no-name-214107f0-3060-4196-890a-914a7a9ef1e0\u001B[0m\n",
      "\u001B[32m[I 2023-02-18 10:28:34,240]\u001B[0m Trial 0 finished with value: 0.48051005601882935 and parameters: {'disc_lr_0': 0.1, 'num_cycles': 20, 'temp': 0.001, 'batch_size': 16, 'sigma': 1.0, 'eta': 52.67562736765473, 'mu': 58.61329522172229}. Best is trial 0 with value: 0.48051005601882935.\u001B[0m\n",
      "\u001B[32m[I 2023-02-18 10:28:58,463]\u001B[0m Trial 1 finished with value: 0.5241856575012207 and parameters: {'disc_lr_0': 0.5, 'num_cycles': 50, 'temp': 1.0, 'batch_size': 16, 'sigma': 0.1, 'eta': -15.284808056855411, 'mu': 33.567006430679726}. Best is trial 0 with value: 0.48051005601882935.\u001B[0m\n",
      "\u001B[32m[I 2023-02-18 10:29:22,435]\u001B[0m Trial 2 finished with value: 0.7390639185905457 and parameters: {'disc_lr_0': 0.5, 'num_cycles': 20, 'temp': 0.1, 'batch_size': 16, 'sigma': 0.1, 'eta': 32.03937223414039, 'mu': 98.65796895812205}. Best is trial 0 with value: 0.48051005601882935.\u001B[0m\n",
      "\u001B[32m[I 2023-02-18 10:29:29,980]\u001B[0m Trial 3 finished with value: 0.49146899580955505 and parameters: {'disc_lr_0': 0.5, 'num_cycles': 10, 'temp': 0.001, 'batch_size': 64, 'sigma': 0.5, 'eta': -35.989095393810146, 'mu': 58.772639573323964}. Best is trial 0 with value: 0.48051005601882935.\u001B[0m\n",
      "\u001B[32m[I 2023-02-18 10:29:54,220]\u001B[0m Trial 4 finished with value: 0.4981267750263214 and parameters: {'disc_lr_0': 0.1, 'num_cycles': 20, 'temp': 0.001, 'batch_size': 16, 'sigma': 0.1, 'eta': -60.12673416348437, 'mu': 2.699891286361154}. Best is trial 0 with value: 0.48051005601882935.\u001B[0m\n",
      "\u001B[32m[I 2023-02-18 10:30:18,329]\u001B[0m Trial 5 finished with value: 0.49813470244407654 and parameters: {'disc_lr_0': 0.1, 'num_cycles': 20, 'temp': 0.1, 'batch_size': 16, 'sigma': 0.1, 'eta': 89.52659532860008, 'mu': 85.21997946186632}. Best is trial 0 with value: 0.48051005601882935.\u001B[0m\n"
     ]
    }
   ],
   "source": [
    "%autoreload\n",
    "optuna.logging.set_verbosity(optuna.logging.INFO)\n",
    "sampler = optuna.samplers.TPESampler()\n",
    "study_bg = optuna.create_study(sampler=sampler)\n",
    "\n",
    "study_bg.optimize(lambda trial: objective_bg_bnn(trial, seed, X_train, X_val, y_train, y_val, J, 0.25, [100, 100, 100], \"swish\", bg=True), timeout=120)"
   ],
   "metadata": {
    "collapsed": false,
    "pycharm": {
     "name": "#%%\n"
    }
   }
  },
  {
   "cell_type": "code",
   "execution_count": 681,
   "outputs": [
    {
     "name": "stdout",
     "output_type": "stream",
     "text": [
      "{'disc_lr_0': 0.1, 'num_cycles': 20, 'temp': 0.001, 'batch_size': 16, 'sigma': 1.0, 'eta': 52.67562736765473, 'mu': 58.61329522172229}\n"
     ]
    },
    {
     "data": {
      "application/vnd.plotly.v1+json": {
       "data": [
        {
         "cliponaxis": false,
         "hovertemplate": [
          "batch_size (CategoricalDistribution): 0.016360194037476378<extra></extra>",
          "sigma (CategoricalDistribution): 0.03762250574214558<extra></extra>",
          "eta (FloatDistribution): 0.048397296360593776<extra></extra>",
          "num_cycles (CategoricalDistribution): 0.06703876662935124<extra></extra>",
          "disc_lr_0 (CategoricalDistribution): 0.12683981731334631<extra></extra>",
          "temp (CategoricalDistribution): 0.24890240455740872<extra></extra>",
          "mu (FloatDistribution): 0.45483901535967813<extra></extra>"
         ],
         "marker": {
          "color": "rgb(66,146,198)"
         },
         "orientation": "h",
         "text": [
          "0.02",
          "0.04",
          "0.05",
          "0.07",
          "0.13",
          "0.25",
          "0.45"
         ],
         "textposition": "outside",
         "x": [
          0.016360194037476378,
          0.03762250574214558,
          0.048397296360593776,
          0.06703876662935124,
          0.12683981731334631,
          0.24890240455740872,
          0.45483901535967813
         ],
         "y": [
          "batch_size",
          "sigma",
          "eta",
          "num_cycles",
          "disc_lr_0",
          "temp",
          "mu"
         ],
         "type": "bar"
        }
       ],
       "layout": {
        "showlegend": false,
        "title": {
         "text": "Hyperparameter Importances"
        },
        "xaxis": {
         "title": {
          "text": "Importance for Objective Value"
         }
        },
        "yaxis": {
         "title": {
          "text": "Hyperparameter"
         }
        },
        "template": {
         "data": {
          "histogram2dcontour": [
           {
            "type": "histogram2dcontour",
            "colorbar": {
             "outlinewidth": 0,
             "ticks": ""
            },
            "colorscale": [
             [
              0.0,
              "#0d0887"
             ],
             [
              0.1111111111111111,
              "#46039f"
             ],
             [
              0.2222222222222222,
              "#7201a8"
             ],
             [
              0.3333333333333333,
              "#9c179e"
             ],
             [
              0.4444444444444444,
              "#bd3786"
             ],
             [
              0.5555555555555556,
              "#d8576b"
             ],
             [
              0.6666666666666666,
              "#ed7953"
             ],
             [
              0.7777777777777778,
              "#fb9f3a"
             ],
             [
              0.8888888888888888,
              "#fdca26"
             ],
             [
              1.0,
              "#f0f921"
             ]
            ]
           }
          ],
          "choropleth": [
           {
            "type": "choropleth",
            "colorbar": {
             "outlinewidth": 0,
             "ticks": ""
            }
           }
          ],
          "histogram2d": [
           {
            "type": "histogram2d",
            "colorbar": {
             "outlinewidth": 0,
             "ticks": ""
            },
            "colorscale": [
             [
              0.0,
              "#0d0887"
             ],
             [
              0.1111111111111111,
              "#46039f"
             ],
             [
              0.2222222222222222,
              "#7201a8"
             ],
             [
              0.3333333333333333,
              "#9c179e"
             ],
             [
              0.4444444444444444,
              "#bd3786"
             ],
             [
              0.5555555555555556,
              "#d8576b"
             ],
             [
              0.6666666666666666,
              "#ed7953"
             ],
             [
              0.7777777777777778,
              "#fb9f3a"
             ],
             [
              0.8888888888888888,
              "#fdca26"
             ],
             [
              1.0,
              "#f0f921"
             ]
            ]
           }
          ],
          "heatmap": [
           {
            "type": "heatmap",
            "colorbar": {
             "outlinewidth": 0,
             "ticks": ""
            },
            "colorscale": [
             [
              0.0,
              "#0d0887"
             ],
             [
              0.1111111111111111,
              "#46039f"
             ],
             [
              0.2222222222222222,
              "#7201a8"
             ],
             [
              0.3333333333333333,
              "#9c179e"
             ],
             [
              0.4444444444444444,
              "#bd3786"
             ],
             [
              0.5555555555555556,
              "#d8576b"
             ],
             [
              0.6666666666666666,
              "#ed7953"
             ],
             [
              0.7777777777777778,
              "#fb9f3a"
             ],
             [
              0.8888888888888888,
              "#fdca26"
             ],
             [
              1.0,
              "#f0f921"
             ]
            ]
           }
          ],
          "heatmapgl": [
           {
            "type": "heatmapgl",
            "colorbar": {
             "outlinewidth": 0,
             "ticks": ""
            },
            "colorscale": [
             [
              0.0,
              "#0d0887"
             ],
             [
              0.1111111111111111,
              "#46039f"
             ],
             [
              0.2222222222222222,
              "#7201a8"
             ],
             [
              0.3333333333333333,
              "#9c179e"
             ],
             [
              0.4444444444444444,
              "#bd3786"
             ],
             [
              0.5555555555555556,
              "#d8576b"
             ],
             [
              0.6666666666666666,
              "#ed7953"
             ],
             [
              0.7777777777777778,
              "#fb9f3a"
             ],
             [
              0.8888888888888888,
              "#fdca26"
             ],
             [
              1.0,
              "#f0f921"
             ]
            ]
           }
          ],
          "contourcarpet": [
           {
            "type": "contourcarpet",
            "colorbar": {
             "outlinewidth": 0,
             "ticks": ""
            }
           }
          ],
          "contour": [
           {
            "type": "contour",
            "colorbar": {
             "outlinewidth": 0,
             "ticks": ""
            },
            "colorscale": [
             [
              0.0,
              "#0d0887"
             ],
             [
              0.1111111111111111,
              "#46039f"
             ],
             [
              0.2222222222222222,
              "#7201a8"
             ],
             [
              0.3333333333333333,
              "#9c179e"
             ],
             [
              0.4444444444444444,
              "#bd3786"
             ],
             [
              0.5555555555555556,
              "#d8576b"
             ],
             [
              0.6666666666666666,
              "#ed7953"
             ],
             [
              0.7777777777777778,
              "#fb9f3a"
             ],
             [
              0.8888888888888888,
              "#fdca26"
             ],
             [
              1.0,
              "#f0f921"
             ]
            ]
           }
          ],
          "surface": [
           {
            "type": "surface",
            "colorbar": {
             "outlinewidth": 0,
             "ticks": ""
            },
            "colorscale": [
             [
              0.0,
              "#0d0887"
             ],
             [
              0.1111111111111111,
              "#46039f"
             ],
             [
              0.2222222222222222,
              "#7201a8"
             ],
             [
              0.3333333333333333,
              "#9c179e"
             ],
             [
              0.4444444444444444,
              "#bd3786"
             ],
             [
              0.5555555555555556,
              "#d8576b"
             ],
             [
              0.6666666666666666,
              "#ed7953"
             ],
             [
              0.7777777777777778,
              "#fb9f3a"
             ],
             [
              0.8888888888888888,
              "#fdca26"
             ],
             [
              1.0,
              "#f0f921"
             ]
            ]
           }
          ],
          "mesh3d": [
           {
            "type": "mesh3d",
            "colorbar": {
             "outlinewidth": 0,
             "ticks": ""
            }
           }
          ],
          "scatter": [
           {
            "fillpattern": {
             "fillmode": "overlay",
             "size": 10,
             "solidity": 0.2
            },
            "type": "scatter"
           }
          ],
          "parcoords": [
           {
            "type": "parcoords",
            "line": {
             "colorbar": {
              "outlinewidth": 0,
              "ticks": ""
             }
            }
           }
          ],
          "scatterpolargl": [
           {
            "type": "scatterpolargl",
            "marker": {
             "colorbar": {
              "outlinewidth": 0,
              "ticks": ""
             }
            }
           }
          ],
          "bar": [
           {
            "error_x": {
             "color": "#2a3f5f"
            },
            "error_y": {
             "color": "#2a3f5f"
            },
            "marker": {
             "line": {
              "color": "#E5ECF6",
              "width": 0.5
             },
             "pattern": {
              "fillmode": "overlay",
              "size": 10,
              "solidity": 0.2
             }
            },
            "type": "bar"
           }
          ],
          "scattergeo": [
           {
            "type": "scattergeo",
            "marker": {
             "colorbar": {
              "outlinewidth": 0,
              "ticks": ""
             }
            }
           }
          ],
          "scatterpolar": [
           {
            "type": "scatterpolar",
            "marker": {
             "colorbar": {
              "outlinewidth": 0,
              "ticks": ""
             }
            }
           }
          ],
          "histogram": [
           {
            "marker": {
             "pattern": {
              "fillmode": "overlay",
              "size": 10,
              "solidity": 0.2
             }
            },
            "type": "histogram"
           }
          ],
          "scattergl": [
           {
            "type": "scattergl",
            "marker": {
             "colorbar": {
              "outlinewidth": 0,
              "ticks": ""
             }
            }
           }
          ],
          "scatter3d": [
           {
            "type": "scatter3d",
            "line": {
             "colorbar": {
              "outlinewidth": 0,
              "ticks": ""
             }
            },
            "marker": {
             "colorbar": {
              "outlinewidth": 0,
              "ticks": ""
             }
            }
           }
          ],
          "scattermapbox": [
           {
            "type": "scattermapbox",
            "marker": {
             "colorbar": {
              "outlinewidth": 0,
              "ticks": ""
             }
            }
           }
          ],
          "scatterternary": [
           {
            "type": "scatterternary",
            "marker": {
             "colorbar": {
              "outlinewidth": 0,
              "ticks": ""
             }
            }
           }
          ],
          "scattercarpet": [
           {
            "type": "scattercarpet",
            "marker": {
             "colorbar": {
              "outlinewidth": 0,
              "ticks": ""
             }
            }
           }
          ],
          "carpet": [
           {
            "aaxis": {
             "endlinecolor": "#2a3f5f",
             "gridcolor": "white",
             "linecolor": "white",
             "minorgridcolor": "white",
             "startlinecolor": "#2a3f5f"
            },
            "baxis": {
             "endlinecolor": "#2a3f5f",
             "gridcolor": "white",
             "linecolor": "white",
             "minorgridcolor": "white",
             "startlinecolor": "#2a3f5f"
            },
            "type": "carpet"
           }
          ],
          "table": [
           {
            "cells": {
             "fill": {
              "color": "#EBF0F8"
             },
             "line": {
              "color": "white"
             }
            },
            "header": {
             "fill": {
              "color": "#C8D4E3"
             },
             "line": {
              "color": "white"
             }
            },
            "type": "table"
           }
          ],
          "barpolar": [
           {
            "marker": {
             "line": {
              "color": "#E5ECF6",
              "width": 0.5
             },
             "pattern": {
              "fillmode": "overlay",
              "size": 10,
              "solidity": 0.2
             }
            },
            "type": "barpolar"
           }
          ],
          "pie": [
           {
            "automargin": true,
            "type": "pie"
           }
          ]
         },
         "layout": {
          "autotypenumbers": "strict",
          "colorway": [
           "#636efa",
           "#EF553B",
           "#00cc96",
           "#ab63fa",
           "#FFA15A",
           "#19d3f3",
           "#FF6692",
           "#B6E880",
           "#FF97FF",
           "#FECB52"
          ],
          "font": {
           "color": "#2a3f5f"
          },
          "hovermode": "closest",
          "hoverlabel": {
           "align": "left"
          },
          "paper_bgcolor": "white",
          "plot_bgcolor": "#E5ECF6",
          "polar": {
           "bgcolor": "#E5ECF6",
           "angularaxis": {
            "gridcolor": "white",
            "linecolor": "white",
            "ticks": ""
           },
           "radialaxis": {
            "gridcolor": "white",
            "linecolor": "white",
            "ticks": ""
           }
          },
          "ternary": {
           "bgcolor": "#E5ECF6",
           "aaxis": {
            "gridcolor": "white",
            "linecolor": "white",
            "ticks": ""
           },
           "baxis": {
            "gridcolor": "white",
            "linecolor": "white",
            "ticks": ""
           },
           "caxis": {
            "gridcolor": "white",
            "linecolor": "white",
            "ticks": ""
           }
          },
          "coloraxis": {
           "colorbar": {
            "outlinewidth": 0,
            "ticks": ""
           }
          },
          "colorscale": {
           "sequential": [
            [
             0.0,
             "#0d0887"
            ],
            [
             0.1111111111111111,
             "#46039f"
            ],
            [
             0.2222222222222222,
             "#7201a8"
            ],
            [
             0.3333333333333333,
             "#9c179e"
            ],
            [
             0.4444444444444444,
             "#bd3786"
            ],
            [
             0.5555555555555556,
             "#d8576b"
            ],
            [
             0.6666666666666666,
             "#ed7953"
            ],
            [
             0.7777777777777778,
             "#fb9f3a"
            ],
            [
             0.8888888888888888,
             "#fdca26"
            ],
            [
             1.0,
             "#f0f921"
            ]
           ],
           "sequentialminus": [
            [
             0.0,
             "#0d0887"
            ],
            [
             0.1111111111111111,
             "#46039f"
            ],
            [
             0.2222222222222222,
             "#7201a8"
            ],
            [
             0.3333333333333333,
             "#9c179e"
            ],
            [
             0.4444444444444444,
             "#bd3786"
            ],
            [
             0.5555555555555556,
             "#d8576b"
            ],
            [
             0.6666666666666666,
             "#ed7953"
            ],
            [
             0.7777777777777778,
             "#fb9f3a"
            ],
            [
             0.8888888888888888,
             "#fdca26"
            ],
            [
             1.0,
             "#f0f921"
            ]
           ],
           "diverging": [
            [
             0,
             "#8e0152"
            ],
            [
             0.1,
             "#c51b7d"
            ],
            [
             0.2,
             "#de77ae"
            ],
            [
             0.3,
             "#f1b6da"
            ],
            [
             0.4,
             "#fde0ef"
            ],
            [
             0.5,
             "#f7f7f7"
            ],
            [
             0.6,
             "#e6f5d0"
            ],
            [
             0.7,
             "#b8e186"
            ],
            [
             0.8,
             "#7fbc41"
            ],
            [
             0.9,
             "#4d9221"
            ],
            [
             1,
             "#276419"
            ]
           ]
          },
          "xaxis": {
           "gridcolor": "white",
           "linecolor": "white",
           "ticks": "",
           "title": {
            "standoff": 15
           },
           "zerolinecolor": "white",
           "automargin": true,
           "zerolinewidth": 2
          },
          "yaxis": {
           "gridcolor": "white",
           "linecolor": "white",
           "ticks": "",
           "title": {
            "standoff": 15
           },
           "zerolinecolor": "white",
           "automargin": true,
           "zerolinewidth": 2
          },
          "scene": {
           "xaxis": {
            "backgroundcolor": "#E5ECF6",
            "gridcolor": "white",
            "linecolor": "white",
            "showbackground": true,
            "ticks": "",
            "zerolinecolor": "white",
            "gridwidth": 2
           },
           "yaxis": {
            "backgroundcolor": "#E5ECF6",
            "gridcolor": "white",
            "linecolor": "white",
            "showbackground": true,
            "ticks": "",
            "zerolinecolor": "white",
            "gridwidth": 2
           },
           "zaxis": {
            "backgroundcolor": "#E5ECF6",
            "gridcolor": "white",
            "linecolor": "white",
            "showbackground": true,
            "ticks": "",
            "zerolinecolor": "white",
            "gridwidth": 2
           }
          },
          "shapedefaults": {
           "line": {
            "color": "#2a3f5f"
           }
          },
          "annotationdefaults": {
           "arrowcolor": "#2a3f5f",
           "arrowhead": 0,
           "arrowwidth": 1
          },
          "geo": {
           "bgcolor": "white",
           "landcolor": "#E5ECF6",
           "subunitcolor": "white",
           "showland": true,
           "showlakes": true,
           "lakecolor": "white"
          },
          "title": {
           "x": 0.05
          },
          "mapbox": {
           "style": "light"
          }
         }
        }
       },
       "config": {
        "plotlyServerURL": "https://plot.ly"
       }
      },
      "text/html": "<div>                            <div id=\"ddae1a84-ccfa-4865-8ecf-7750e2b64474\" class=\"plotly-graph-div\" style=\"height:525px; width:100%;\"></div>            <script type=\"text/javascript\">                require([\"plotly\"], function(Plotly) {                    window.PLOTLYENV=window.PLOTLYENV || {};                                    if (document.getElementById(\"ddae1a84-ccfa-4865-8ecf-7750e2b64474\")) {                    Plotly.newPlot(                        \"ddae1a84-ccfa-4865-8ecf-7750e2b64474\",                        [{\"cliponaxis\":false,\"hovertemplate\":[\"batch_size (CategoricalDistribution): 0.016360194037476378<extra></extra>\",\"sigma (CategoricalDistribution): 0.03762250574214558<extra></extra>\",\"eta (FloatDistribution): 0.048397296360593776<extra></extra>\",\"num_cycles (CategoricalDistribution): 0.06703876662935124<extra></extra>\",\"disc_lr_0 (CategoricalDistribution): 0.12683981731334631<extra></extra>\",\"temp (CategoricalDistribution): 0.24890240455740872<extra></extra>\",\"mu (FloatDistribution): 0.45483901535967813<extra></extra>\"],\"marker\":{\"color\":\"rgb(66,146,198)\"},\"orientation\":\"h\",\"text\":[\"0.02\",\"0.04\",\"0.05\",\"0.07\",\"0.13\",\"0.25\",\"0.45\"],\"textposition\":\"outside\",\"x\":[0.016360194037476378,0.03762250574214558,0.048397296360593776,0.06703876662935124,0.12683981731334631,0.24890240455740872,0.45483901535967813],\"y\":[\"batch_size\",\"sigma\",\"eta\",\"num_cycles\",\"disc_lr_0\",\"temp\",\"mu\"],\"type\":\"bar\"}],                        {\"showlegend\":false,\"title\":{\"text\":\"Hyperparameter Importances\"},\"xaxis\":{\"title\":{\"text\":\"Importance for Objective Value\"}},\"yaxis\":{\"title\":{\"text\":\"Hyperparameter\"}},\"template\":{\"data\":{\"histogram2dcontour\":[{\"type\":\"histogram2dcontour\",\"colorbar\":{\"outlinewidth\":0,\"ticks\":\"\"},\"colorscale\":[[0.0,\"#0d0887\"],[0.1111111111111111,\"#46039f\"],[0.2222222222222222,\"#7201a8\"],[0.3333333333333333,\"#9c179e\"],[0.4444444444444444,\"#bd3786\"],[0.5555555555555556,\"#d8576b\"],[0.6666666666666666,\"#ed7953\"],[0.7777777777777778,\"#fb9f3a\"],[0.8888888888888888,\"#fdca26\"],[1.0,\"#f0f921\"]]}],\"choropleth\":[{\"type\":\"choropleth\",\"colorbar\":{\"outlinewidth\":0,\"ticks\":\"\"}}],\"histogram2d\":[{\"type\":\"histogram2d\",\"colorbar\":{\"outlinewidth\":0,\"ticks\":\"\"},\"colorscale\":[[0.0,\"#0d0887\"],[0.1111111111111111,\"#46039f\"],[0.2222222222222222,\"#7201a8\"],[0.3333333333333333,\"#9c179e\"],[0.4444444444444444,\"#bd3786\"],[0.5555555555555556,\"#d8576b\"],[0.6666666666666666,\"#ed7953\"],[0.7777777777777778,\"#fb9f3a\"],[0.8888888888888888,\"#fdca26\"],[1.0,\"#f0f921\"]]}],\"heatmap\":[{\"type\":\"heatmap\",\"colorbar\":{\"outlinewidth\":0,\"ticks\":\"\"},\"colorscale\":[[0.0,\"#0d0887\"],[0.1111111111111111,\"#46039f\"],[0.2222222222222222,\"#7201a8\"],[0.3333333333333333,\"#9c179e\"],[0.4444444444444444,\"#bd3786\"],[0.5555555555555556,\"#d8576b\"],[0.6666666666666666,\"#ed7953\"],[0.7777777777777778,\"#fb9f3a\"],[0.8888888888888888,\"#fdca26\"],[1.0,\"#f0f921\"]]}],\"heatmapgl\":[{\"type\":\"heatmapgl\",\"colorbar\":{\"outlinewidth\":0,\"ticks\":\"\"},\"colorscale\":[[0.0,\"#0d0887\"],[0.1111111111111111,\"#46039f\"],[0.2222222222222222,\"#7201a8\"],[0.3333333333333333,\"#9c179e\"],[0.4444444444444444,\"#bd3786\"],[0.5555555555555556,\"#d8576b\"],[0.6666666666666666,\"#ed7953\"],[0.7777777777777778,\"#fb9f3a\"],[0.8888888888888888,\"#fdca26\"],[1.0,\"#f0f921\"]]}],\"contourcarpet\":[{\"type\":\"contourcarpet\",\"colorbar\":{\"outlinewidth\":0,\"ticks\":\"\"}}],\"contour\":[{\"type\":\"contour\",\"colorbar\":{\"outlinewidth\":0,\"ticks\":\"\"},\"colorscale\":[[0.0,\"#0d0887\"],[0.1111111111111111,\"#46039f\"],[0.2222222222222222,\"#7201a8\"],[0.3333333333333333,\"#9c179e\"],[0.4444444444444444,\"#bd3786\"],[0.5555555555555556,\"#d8576b\"],[0.6666666666666666,\"#ed7953\"],[0.7777777777777778,\"#fb9f3a\"],[0.8888888888888888,\"#fdca26\"],[1.0,\"#f0f921\"]]}],\"surface\":[{\"type\":\"surface\",\"colorbar\":{\"outlinewidth\":0,\"ticks\":\"\"},\"colorscale\":[[0.0,\"#0d0887\"],[0.1111111111111111,\"#46039f\"],[0.2222222222222222,\"#7201a8\"],[0.3333333333333333,\"#9c179e\"],[0.4444444444444444,\"#bd3786\"],[0.5555555555555556,\"#d8576b\"],[0.6666666666666666,\"#ed7953\"],[0.7777777777777778,\"#fb9f3a\"],[0.8888888888888888,\"#fdca26\"],[1.0,\"#f0f921\"]]}],\"mesh3d\":[{\"type\":\"mesh3d\",\"colorbar\":{\"outlinewidth\":0,\"ticks\":\"\"}}],\"scatter\":[{\"fillpattern\":{\"fillmode\":\"overlay\",\"size\":10,\"solidity\":0.2},\"type\":\"scatter\"}],\"parcoords\":[{\"type\":\"parcoords\",\"line\":{\"colorbar\":{\"outlinewidth\":0,\"ticks\":\"\"}}}],\"scatterpolargl\":[{\"type\":\"scatterpolargl\",\"marker\":{\"colorbar\":{\"outlinewidth\":0,\"ticks\":\"\"}}}],\"bar\":[{\"error_x\":{\"color\":\"#2a3f5f\"},\"error_y\":{\"color\":\"#2a3f5f\"},\"marker\":{\"line\":{\"color\":\"#E5ECF6\",\"width\":0.5},\"pattern\":{\"fillmode\":\"overlay\",\"size\":10,\"solidity\":0.2}},\"type\":\"bar\"}],\"scattergeo\":[{\"type\":\"scattergeo\",\"marker\":{\"colorbar\":{\"outlinewidth\":0,\"ticks\":\"\"}}}],\"scatterpolar\":[{\"type\":\"scatterpolar\",\"marker\":{\"colorbar\":{\"outlinewidth\":0,\"ticks\":\"\"}}}],\"histogram\":[{\"marker\":{\"pattern\":{\"fillmode\":\"overlay\",\"size\":10,\"solidity\":0.2}},\"type\":\"histogram\"}],\"scattergl\":[{\"type\":\"scattergl\",\"marker\":{\"colorbar\":{\"outlinewidth\":0,\"ticks\":\"\"}}}],\"scatter3d\":[{\"type\":\"scatter3d\",\"line\":{\"colorbar\":{\"outlinewidth\":0,\"ticks\":\"\"}},\"marker\":{\"colorbar\":{\"outlinewidth\":0,\"ticks\":\"\"}}}],\"scattermapbox\":[{\"type\":\"scattermapbox\",\"marker\":{\"colorbar\":{\"outlinewidth\":0,\"ticks\":\"\"}}}],\"scatterternary\":[{\"type\":\"scatterternary\",\"marker\":{\"colorbar\":{\"outlinewidth\":0,\"ticks\":\"\"}}}],\"scattercarpet\":[{\"type\":\"scattercarpet\",\"marker\":{\"colorbar\":{\"outlinewidth\":0,\"ticks\":\"\"}}}],\"carpet\":[{\"aaxis\":{\"endlinecolor\":\"#2a3f5f\",\"gridcolor\":\"white\",\"linecolor\":\"white\",\"minorgridcolor\":\"white\",\"startlinecolor\":\"#2a3f5f\"},\"baxis\":{\"endlinecolor\":\"#2a3f5f\",\"gridcolor\":\"white\",\"linecolor\":\"white\",\"minorgridcolor\":\"white\",\"startlinecolor\":\"#2a3f5f\"},\"type\":\"carpet\"}],\"table\":[{\"cells\":{\"fill\":{\"color\":\"#EBF0F8\"},\"line\":{\"color\":\"white\"}},\"header\":{\"fill\":{\"color\":\"#C8D4E3\"},\"line\":{\"color\":\"white\"}},\"type\":\"table\"}],\"barpolar\":[{\"marker\":{\"line\":{\"color\":\"#E5ECF6\",\"width\":0.5},\"pattern\":{\"fillmode\":\"overlay\",\"size\":10,\"solidity\":0.2}},\"type\":\"barpolar\"}],\"pie\":[{\"automargin\":true,\"type\":\"pie\"}]},\"layout\":{\"autotypenumbers\":\"strict\",\"colorway\":[\"#636efa\",\"#EF553B\",\"#00cc96\",\"#ab63fa\",\"#FFA15A\",\"#19d3f3\",\"#FF6692\",\"#B6E880\",\"#FF97FF\",\"#FECB52\"],\"font\":{\"color\":\"#2a3f5f\"},\"hovermode\":\"closest\",\"hoverlabel\":{\"align\":\"left\"},\"paper_bgcolor\":\"white\",\"plot_bgcolor\":\"#E5ECF6\",\"polar\":{\"bgcolor\":\"#E5ECF6\",\"angularaxis\":{\"gridcolor\":\"white\",\"linecolor\":\"white\",\"ticks\":\"\"},\"radialaxis\":{\"gridcolor\":\"white\",\"linecolor\":\"white\",\"ticks\":\"\"}},\"ternary\":{\"bgcolor\":\"#E5ECF6\",\"aaxis\":{\"gridcolor\":\"white\",\"linecolor\":\"white\",\"ticks\":\"\"},\"baxis\":{\"gridcolor\":\"white\",\"linecolor\":\"white\",\"ticks\":\"\"},\"caxis\":{\"gridcolor\":\"white\",\"linecolor\":\"white\",\"ticks\":\"\"}},\"coloraxis\":{\"colorbar\":{\"outlinewidth\":0,\"ticks\":\"\"}},\"colorscale\":{\"sequential\":[[0.0,\"#0d0887\"],[0.1111111111111111,\"#46039f\"],[0.2222222222222222,\"#7201a8\"],[0.3333333333333333,\"#9c179e\"],[0.4444444444444444,\"#bd3786\"],[0.5555555555555556,\"#d8576b\"],[0.6666666666666666,\"#ed7953\"],[0.7777777777777778,\"#fb9f3a\"],[0.8888888888888888,\"#fdca26\"],[1.0,\"#f0f921\"]],\"sequentialminus\":[[0.0,\"#0d0887\"],[0.1111111111111111,\"#46039f\"],[0.2222222222222222,\"#7201a8\"],[0.3333333333333333,\"#9c179e\"],[0.4444444444444444,\"#bd3786\"],[0.5555555555555556,\"#d8576b\"],[0.6666666666666666,\"#ed7953\"],[0.7777777777777778,\"#fb9f3a\"],[0.8888888888888888,\"#fdca26\"],[1.0,\"#f0f921\"]],\"diverging\":[[0,\"#8e0152\"],[0.1,\"#c51b7d\"],[0.2,\"#de77ae\"],[0.3,\"#f1b6da\"],[0.4,\"#fde0ef\"],[0.5,\"#f7f7f7\"],[0.6,\"#e6f5d0\"],[0.7,\"#b8e186\"],[0.8,\"#7fbc41\"],[0.9,\"#4d9221\"],[1,\"#276419\"]]},\"xaxis\":{\"gridcolor\":\"white\",\"linecolor\":\"white\",\"ticks\":\"\",\"title\":{\"standoff\":15},\"zerolinecolor\":\"white\",\"automargin\":true,\"zerolinewidth\":2},\"yaxis\":{\"gridcolor\":\"white\",\"linecolor\":\"white\",\"ticks\":\"\",\"title\":{\"standoff\":15},\"zerolinecolor\":\"white\",\"automargin\":true,\"zerolinewidth\":2},\"scene\":{\"xaxis\":{\"backgroundcolor\":\"#E5ECF6\",\"gridcolor\":\"white\",\"linecolor\":\"white\",\"showbackground\":true,\"ticks\":\"\",\"zerolinecolor\":\"white\",\"gridwidth\":2},\"yaxis\":{\"backgroundcolor\":\"#E5ECF6\",\"gridcolor\":\"white\",\"linecolor\":\"white\",\"showbackground\":true,\"ticks\":\"\",\"zerolinecolor\":\"white\",\"gridwidth\":2},\"zaxis\":{\"backgroundcolor\":\"#E5ECF6\",\"gridcolor\":\"white\",\"linecolor\":\"white\",\"showbackground\":true,\"ticks\":\"\",\"zerolinecolor\":\"white\",\"gridwidth\":2}},\"shapedefaults\":{\"line\":{\"color\":\"#2a3f5f\"}},\"annotationdefaults\":{\"arrowcolor\":\"#2a3f5f\",\"arrowhead\":0,\"arrowwidth\":1},\"geo\":{\"bgcolor\":\"white\",\"landcolor\":\"#E5ECF6\",\"subunitcolor\":\"white\",\"showland\":true,\"showlakes\":true,\"lakecolor\":\"white\"},\"title\":{\"x\":0.05},\"mapbox\":{\"style\":\"light\"}}}},                        {\"responsive\": true}                    ).then(function(){\n                            \nvar gd = document.getElementById('ddae1a84-ccfa-4865-8ecf-7750e2b64474');\nvar x = new MutationObserver(function (mutations, observer) {{\n        var display = window.getComputedStyle(gd).display;\n        if (!display || display === 'none') {{\n            console.log([gd, 'removed!']);\n            Plotly.purge(gd);\n            observer.disconnect();\n        }}\n}});\n\n// Listen for the removal of the full notebook cells\nvar notebookContainer = gd.closest('#notebook-container');\nif (notebookContainer) {{\n    x.observe(notebookContainer, {childList: true});\n}}\n\n// Listen for the clearing of the current output cell\nvar outputEl = gd.closest('.output');\nif (outputEl) {{\n    x.observe(outputEl, {childList: true});\n}}\n\n                        })                };                });            </script>        </div>"
     },
     "metadata": {},
     "output_type": "display_data"
    }
   ],
   "source": [
    "from optuna.visualization import plot_param_importances\n",
    "bg_config = study_bg.best_params\n",
    "print(bg_config)\n",
    "plot_param_importances(study_bg)"
   ],
   "metadata": {
    "collapsed": false,
    "pycharm": {
     "name": "#%%\n"
    }
   }
  },
  {
   "cell_type": "code",
   "execution_count": 605,
   "outputs": [
    {
     "name": "stdout",
     "output_type": "stream",
     "text": [
      "BNN config: {'mu': 33.9170500819158}\n",
      "BG BNN config: {'eta': 58.36007778863549, 'eta_sign': 1, 'mu': 41.208531570369864}\n"
     ]
    }
   ],
   "source": [
    "import pickle\n",
    "save_dir = f\"{data_dir}/exp_data_5/cancer/gdsc/tamox\"\n",
    "VERSION = \"10b\"\n",
    "bnn_config = pickle.load(open(f\"{save_dir}/configs/bnn_config_s_{seed}_optuna_v{VERSION}.pkl\", \"rb\"))\n",
    "bnn_bg_config = pickle.load(open(f\"{save_dir}/configs/bg_bnn_config_s_{seed}_optuna_v{VERSION}.pkl\", \"rb\"))\n",
    "print(f\"BNN config: {bnn_config}\")\n",
    "print(f\"BG BNN config: {bnn_bg_config}\")"
   ],
   "metadata": {
    "collapsed": false,
    "pycharm": {
     "name": "#%%\n"
    }
   }
  },
  {
   "cell_type": "code",
   "execution_count": 648,
   "outputs": [
    {
     "name": "stderr",
     "output_type": "stream",
     "text": [
      "100%|█████████████████████████████████████████████████████████████████████████████████████| 500/500 [00:23<00:00, 21.66it/s]\n"
     ]
    },
    {
     "name": "stdout",
     "output_type": "stream",
     "text": [
      "Train RMSE: 0.21628426015377045, r2_score: 0.8403121328638876\n",
      "Test RMSE: 0.5783125162124634, r2_score: 0.07829120095671382\n"
     ]
    }
   ],
   "source": [
    "%autoreload\n",
    "lr_0, disc_lr_0 = 1e-3, bnn_config[\"disc_lr_0\"]\n",
    "temp, sigma = bnn_config[\"temp\"], bnn_config[\"sigma\"]\n",
    "epochs, num_cycles = 500, bnn_config[\"num_cycles\"]\n",
    "eta, mu = 1.0, bnn_config[\"mu\"]\n",
    "outer_data_loader = NumpyLoader(NumpyData(X_train_outer, y_train_outer), batch_size=bnn_config[\"batch_size\"], shuffle=True, drop_last=True)\n",
    "bnn_model, bnn_states, bnn_disc_states = train_bg_bnn_model(seed, outer_data_loader, epochs, num_cycles,\n",
    "                                                            0.25, 1, lr_0, disc_lr_0, [100], temp, sigma,\n",
    "                                                            eta, mu, J_zeros, \"swish\")\n",
    "\n",
    "bnn_rmse_train, bnn_r2_train = score_bg_bnn_model(bnn_model, X_train_outer, y_train_outer, bnn_states, bnn_disc_states, True)\n",
    "bnn_rmse_test, bnn_r2_test = score_bg_bnn_model(bnn_model, X_test, y_test, bnn_states, bnn_disc_states, True)\n",
    "print(f\"Train RMSE: {bnn_rmse_train}, r2_score: {bnn_r2_train}\")\n",
    "print(f\"Test RMSE: {bnn_rmse_test}, r2_score: {bnn_r2_test}\")"
   ],
   "metadata": {
    "collapsed": false,
    "pycharm": {
     "name": "#%%\n"
    }
   }
  },
  {
   "cell_type": "code",
   "execution_count": 682,
   "outputs": [
    {
     "name": "stderr",
     "output_type": "stream",
     "text": [
      "100%|█████████████████████████████████████████████████████████████████████████████████████| 500/500 [00:30<00:00, 16.40it/s]\n"
     ]
    },
    {
     "name": "stdout",
     "output_type": "stream",
     "text": [
      "20\n",
      "Train RMSE: 0.9465048975948702, r2_score: 0.9465048975948702\n",
      "Test RMSE: 0.6468507647514343, r2_score: -0.1531260331664015\n"
     ]
    }
   ],
   "source": [
    "%autoreload\n",
    "lr_0, disc_lr_0 = 1e-3, bg_config[\"disc_lr_0\"]\n",
    "temp, sigma = bg_config[\"temp\"], bg_config[\"sigma\"]\n",
    "epochs, num_cycles = 500, bg_config[\"num_cycles\"]\n",
    "eta, mu = bg_config[\"eta\"], bg_config[\"mu\"]\n",
    "outer_data_loader = NumpyLoader(NumpyData(X_train_outer, y_train_outer), batch_size=bg_config[\"batch_size\"], shuffle=True, drop_last=True)\n",
    "bg_bnn_model, bg_bnn_states, bg_bnn_disc_states = train_bg_bnn_model(seed, outer_data_loader,epochs, num_cycles,\n",
    "                                                                     0.25, 1, lr_0, disc_lr_0, [100, 100, 100], temp, sigma,\n",
    "                                                                     eta, mu, J, \"swish\")\n",
    "\n",
    "print(len(bg_bnn_states))\n",
    "bnn_bg_rmse_train, bnn_bg_r2_train = score_bg_bnn_model(bg_bnn_model, X_train_outer, y_train_outer, bg_bnn_states, bg_bnn_disc_states, True)\n",
    "bnn_bg_rmse_test, bnn_bg_r2_test = score_bg_bnn_model(bg_bnn_model, X_test, y_test, bg_bnn_states, bg_bnn_disc_states, True)\n",
    "print(f\"Train RMSE: {bnn_bg_r2_train}, r2_score: {bnn_bg_r2_train}\")\n",
    "print(f\"Test RMSE: {bnn_bg_rmse_test}, r2_score: {bnn_bg_r2_test}\")"
   ],
   "metadata": {
    "collapsed": false,
    "pycharm": {
     "name": "#%%\n"
    }
   }
  },
  {
   "cell_type": "code",
   "execution_count": 683,
   "outputs": [
    {
     "data": {
      "text/plain": "Array(nan, dtype=float32)"
     },
     "execution_count": 683,
     "metadata": {},
     "output_type": "execute_result"
    }
   ],
   "source": [
    "np.mean(tfp.mcmc.effective_sample_size(np.array(bg_bnn_disc_states)))"
   ],
   "metadata": {
    "collapsed": false,
    "pycharm": {
     "name": "#%%\n"
    }
   }
  },
  {
   "cell_type": "code",
   "execution_count": 684,
   "outputs": [
    {
     "data": {
      "text/plain": "(array([279.,   0.,   0.,   0.,   0.,   0.,   0.,   0.,   0., 489.]),\n array([0.        , 0.1       , 0.2       , 0.30000001, 0.40000001,\n        0.5       , 0.60000002, 0.69999999, 0.80000001, 0.89999998,\n        1.        ]),\n <BarContainer object of 10 artists>)"
     },
     "execution_count": 684,
     "metadata": {},
     "output_type": "execute_result"
    },
    {
     "data": {
      "text/plain": "<Figure size 640x480 with 1 Axes>",
      "image/png": "[encoded data removed]"
     },
     "metadata": {},
     "output_type": "display_data"
    }
   ],
   "source": [
    "plt.hist(np.mean(np.array(bg_bnn_disc_states), axis=0))"
   ],
   "metadata": {
    "collapsed": false,
    "pycharm": {
     "name": "#%%\n"
    }
   }
  },
  {
   "cell_type": "code",
   "execution_count": 677,
   "outputs": [
    {
     "data": {
      "text/plain": "array([489, 680, 482, 343,  87, 220, 734, 300, 441, 322, 611, 318, 600,\n       152, 161, 314, 587, 176, 310, 178, 447, 617, 129, 433, 132,  79,\n       678, 670,  91, 419, 660, 105, 333, 643, 638, 118, 120, 634, 481,\n       575, 180, 571, 572,  75, 467, 232, 470, 515, 241, 472, 511, 246,\n       508, 248, 504, 253, 497, 477, 479, 284, 526, 286, 195, 568, 566,\n       187, 189, 191, 194, 198, 288, 211, 213, 460, 217, 218, 531,  77,\n       383, 736, 699,   9, 357,   8,  59, 708,  19,  20,  60, 362,  44,\n       724,  36, 375, 385,  68, 742, 706, 741,   1, 717,  50, 690, 387,\n       737, 556, 409, 391, 200, 201, 204, 205, 544, 543, 549,  29, 301,\n       309, 349, 172, 175, 360, 361, 580, 577, 448,  32, 368, 569, 729,\n       567, 730, 367, 458, 190, 562, 370,  21, 540, 756, 384, 279, 505,\n       251, 501, 255, 498,   3, 258, 276, 492, 265, 764, 488, 266, 269,\n       484, 247, 755, 371, 281, 372, 461, 313, 293, 226, 747, 748,  17,\n       386, 522, 283, 469, 236, 237, 239, 753,  11, 720, 324,  42, 635,\n       642,  62, 641, 115, 117, 405, 705, 633, 126, 352, 631, 630, 673,\n       430, 627, 668, 644, 645, 332, 648, 697, 665, 418, 669,  96, 335,\n       421, 422, 656, 655, 654, 334, 106, 701, 425, 125,  86,  85,  46,\n       676, 146, 691, 685, 603, 602, 151, 153, 609, 597, 154, 155, 156,\n       593, 315, 718,  48, 145, 319, 136, 130, 341, 402, 133, 356, 135,\n       344, 693,  71, 140, 712, 338, 272, 339, 374, 346, 345, 275, 278,\n       373, 277, 354, 337, 323, 363, 316, 365, 305, 317, 320, 303, 369,\n       299, 298, 353, 355, 297, 295, 325, 326, 294, 312, 287, 328, 311,\n       183, 271,  90,  61,  63,  72,  74,  80,  81,  82,  83,  84,  89,\n        92, 123,  93,  95,  97, 100, 103, 104, 107, 109, 111, 113,  58,\n        57,  54,  53,   2,   4,   5,   7,  12,  13,  15,  22,  24,  25,\n        26,  27,  28,  30,  31,  34,  35,  39,  41,  49,  51, 121, 124,\n       268, 231, 207, 212, 214, 215, 219, 221, 223, 225, 227, 230, 233,\n       128, 235, 240, 243, 245, 250, 252, 257, 259, 262, 263, 206, 203,\n       199, 196, 131, 134, 141, 142, 143, 144, 147, 150, 157, 159, 160,\n       162, 167, 170, 177, 179, 182, 377, 184, 192, 193, 376,   0, 687,\n       520, 510, 512, 674, 513, 672, 514, 516, 518, 519, 666, 541, 521,\n       523, 527, 661, 659, 533, 534, 535, 536, 509, 677, 503, 681, 704,\n       703, 700, 474, 475, 696, 478, 695, 480, 694, 487, 692, 688, 607,\n       686, 494, 495, 496, 682, 538, 542, 466, 591, 626, 584, 624, 585,\n       622, 586, 621, 619, 590, 592, 652, 595, 596, 598, 599, 601, 614,\n       613, 612, 610, 581, 629, 578, 636, 650, 545, 546, 547, 649, 550,\n       552, 553, 554, 555, 557, 646, 560, 561, 563, 379, 640, 565, 573,\n       468, 608, 439, 435, 727, 432, 404, 403, 754, 400, 725, 752, 437,\n       413, 442, 443, 758, 446, 429, 751, 398, 423, 411, 744, 415, 416,\n       743, 420, 408, 428, 424, 739, 735, 465, 732, 728, 449, 412, 759,\n       760, 393, 714, 396, 456, 457, 455, 389, 454, 713, 453, 462, 452,\n       390, 388, 715, 395, 382, 709, 707, 765, 719, 392, 762,  16, 763,\n       749,  18, 114, 750,  14, 139, 116, 127, 623, 620,   6, 618, 757,\n       615,  10, 625, 639, 137, 628, 138, 122, 761, 632, 637,  56, 657,\n       112,  76, 675, 721, 679,  43, 716, 683, 684,  78,  45,  47, 689,\n       746,  70,  67,  66,  65,  64, 711, 710,  52, 698,  55,  40, 722,\n        37,  88, 745, 647, 110,  23, 651, 653, 733, 102, 731, 101, 658,\n        99,  98, 662,  94, 663, 664,  33, 726, 723, 667, 378, 564, 606,\n       440, 307, 306, 450, 451, 302, 296, 459, 292, 291, 290, 289, 463,\n       464, 285, 282, 471, 473, 476, 274, 273, 485, 486, 267, 490, 605,\n       491, 493, 261, 260, 308, 438, 499, 436, 380, 381, 766, 394, 366,\n       364, 397, 399, 359, 358, 406, 407, 350, 348, 347, 410, 342, 414,\n       340, 417, 336, 426, 331, 330, 329, 427, 431, 434, 321, 256, 264,\n       254, 185, 582, 579, 576, 181, 574, 570, 186, 208, 188, 558, 197,\n       551, 500, 202, 583, 174, 173, 171, 169, 168, 166, 165, 164, 163,\n       588, 589, 158, 594, 604, 149, 148, 548, 767, 224, 222, 234, 524,\n       517, 228, 528, 242, 244, 507, 238, 532, 249, 209, 216, 537, 502,\n       539, 506, 210, 671, 270,  69, 401,  73, 616, 351, 108, 702, 483,\n       525, 280, 304, 740, 738, 529, 119, 530, 327, 559,  38, 445, 444,\n       229])"
     },
     "execution_count": 677,
     "metadata": {},
     "output_type": "execute_result"
    }
   ],
   "source": [
    "np.argsort(np.mean(np.array(bg_bnn_disc_states), axis=0))[::-1]"
   ],
   "metadata": {
    "collapsed": false,
    "pycharm": {
     "name": "#%%\n"
    }
   }
  },
  {
   "cell_type": "code",
   "execution_count": 678,
   "outputs": [
    {
     "data": {
      "text/plain": "       PCDH17      TCL1A      PAX3       KIT   CBFA2T3   FAM186A      WNK2  \\\n0    0.142679   0.000000  5.703500  1.145866  0.000000  0.000000  2.548722   \n1    0.000000   0.000000  1.191607  1.676464  0.455970  0.000000  0.773673   \n2    0.000000   0.081046  0.000000  0.000000  0.081046  0.000000  2.867602   \n3    0.000000   0.000000  0.695845  0.625134  0.054834  0.000000  0.795810   \n4    0.930639   0.000000  0.000000  1.259442  2.439902  0.000000  3.050294   \n..        ...        ...       ...       ...       ...       ...       ...   \n401  0.000000   0.000000  0.000000  7.195149  5.374307  0.050252  0.000000   \n402  3.601899   0.000000  5.227092  4.041402  0.000000  0.000000  3.236843   \n403  0.000000  10.082403  0.000000  0.000000  4.125676  0.051817  5.678354   \n404  0.736563   0.000000  0.115400  2.447639  1.480481  0.000000  2.333094   \n405  0.000000   0.668065  0.000000  0.000000  5.806886  0.000000  0.463209   \n\n       HOXD11      NFIB      IRF1  \n0    0.096670  4.343456  2.386104  \n1    4.713812  3.047038  3.437397  \n2    0.000000  4.617486  3.965274  \n3    2.621141  4.292413  3.701468  \n4    0.097208  0.702492  4.674401  \n..        ...       ...       ...  \n401  0.050252  0.050252  3.617265  \n402  5.724907  4.220613  1.682305  \n403  0.000000  0.196957  5.263435  \n404  0.840858  4.036144  2.680975  \n405  0.000000  4.001621  5.835864  \n\n[406 rows x 10 columns]",
      "text/html": "<div>\n<style scoped>\n    .dataframe tbody tr th:only-of-type {\n        vertical-align: middle;\n    }\n\n    .dataframe tbody tr th {\n        vertical-align: top;\n    }\n\n    .dataframe thead th {\n        text-align: right;\n    }\n</style>\n<table border=\"1\" class=\"dataframe\">\n  <thead>\n    <tr style=\"text-align: right;\">\n      <th></th>\n      <th>PCDH17</th>\n      <th>TCL1A</th>\n      <th>PAX3</th>\n      <th>KIT</th>\n      <th>CBFA2T3</th>\n      <th>FAM186A</th>\n      <th>WNK2</th>\n      <th>HOXD11</th>\n      <th>NFIB</th>\n      <th>IRF1</th>\n    </tr>\n  </thead>\n  <tbody>\n    <tr>\n      <th>0</th>\n      <td>0.142679</td>\n      <td>0.000000</td>\n      <td>5.703500</td>\n      <td>1.145866</td>\n      <td>0.000000</td>\n      <td>0.000000</td>\n      <td>2.548722</td>\n      <td>0.096670</td>\n      <td>4.343456</td>\n      <td>2.386104</td>\n    </tr>\n    <tr>\n      <th>1</th>\n      <td>0.000000</td>\n      <td>0.000000</td>\n      <td>1.191607</td>\n      <td>1.676464</td>\n      <td>0.455970</td>\n      <td>0.000000</td>\n      <td>0.773673</td>\n      <td>4.713812</td>\n      <td>3.047038</td>\n      <td>3.437397</td>\n    </tr>\n    <tr>\n      <th>2</th>\n      <td>0.000000</td>\n      <td>0.081046</td>\n      <td>0.000000</td>\n      <td>0.000000</td>\n      <td>0.081046</td>\n      <td>0.000000</td>\n      <td>2.867602</td>\n      <td>0.000000</td>\n      <td>4.617486</td>\n      <td>3.965274</td>\n    </tr>\n    <tr>\n      <th>3</th>\n      <td>0.000000</td>\n      <td>0.000000</td>\n      <td>0.695845</td>\n      <td>0.625134</td>\n      <td>0.054834</td>\n      <td>0.000000</td>\n      <td>0.795810</td>\n      <td>2.621141</td>\n      <td>4.292413</td>\n      <td>3.701468</td>\n    </tr>\n    <tr>\n      <th>4</th>\n      <td>0.930639</td>\n      <td>0.000000</td>\n      <td>0.000000</td>\n      <td>1.259442</td>\n      <td>2.439902</td>\n      <td>0.000000</td>\n      <td>3.050294</td>\n      <td>0.097208</td>\n      <td>0.702492</td>\n      <td>4.674401</td>\n    </tr>\n    <tr>\n      <th>...</th>\n      <td>...</td>\n      <td>...</td>\n      <td>...</td>\n      <td>...</td>\n      <td>...</td>\n      <td>...</td>\n      <td>...</td>\n      <td>...</td>\n      <td>...</td>\n      <td>...</td>\n    </tr>\n    <tr>\n      <th>401</th>\n      <td>0.000000</td>\n      <td>0.000000</td>\n      <td>0.000000</td>\n      <td>7.195149</td>\n      <td>5.374307</td>\n      <td>0.050252</td>\n      <td>0.000000</td>\n      <td>0.050252</td>\n      <td>0.050252</td>\n      <td>3.617265</td>\n    </tr>\n    <tr>\n      <th>402</th>\n      <td>3.601899</td>\n      <td>0.000000</td>\n      <td>5.227092</td>\n      <td>4.041402</td>\n      <td>0.000000</td>\n      <td>0.000000</td>\n      <td>3.236843</td>\n      <td>5.724907</td>\n      <td>4.220613</td>\n      <td>1.682305</td>\n    </tr>\n    <tr>\n      <th>403</th>\n      <td>0.000000</td>\n      <td>10.082403</td>\n      <td>0.000000</td>\n      <td>0.000000</td>\n      <td>4.125676</td>\n      <td>0.051817</td>\n      <td>5.678354</td>\n      <td>0.000000</td>\n      <td>0.196957</td>\n      <td>5.263435</td>\n    </tr>\n    <tr>\n      <th>404</th>\n      <td>0.736563</td>\n      <td>0.000000</td>\n      <td>0.115400</td>\n      <td>2.447639</td>\n      <td>1.480481</td>\n      <td>0.000000</td>\n      <td>2.333094</td>\n      <td>0.840858</td>\n      <td>4.036144</td>\n      <td>2.680975</td>\n    </tr>\n    <tr>\n      <th>405</th>\n      <td>0.000000</td>\n      <td>0.668065</td>\n      <td>0.000000</td>\n      <td>0.000000</td>\n      <td>5.806886</td>\n      <td>0.000000</td>\n      <td>0.463209</td>\n      <td>0.000000</td>\n      <td>4.001621</td>\n      <td>5.835864</td>\n    </tr>\n  </tbody>\n</table>\n<p>406 rows × 10 columns</p>\n</div>"
     },
     "execution_count": 678,
     "metadata": {},
     "output_type": "execute_result"
    }
   ],
   "source": [
    "X_selected.iloc[:,np.argsort(np.mean(np.array(bg_bnn_disc_states), axis=0))[::-1][:10]]"
   ],
   "metadata": {
    "collapsed": false,
    "pycharm": {
     "name": "#%%\n"
    }
   }
  },
  {
   "cell_type": "code",
   "execution_count": 69,
   "outputs": [
    {
     "data": {
      "text/plain": "(Array(1.0073216, dtype=float32), 0.2729924841841177)"
     },
     "execution_count": 69,
     "metadata": {},
     "output_type": "execute_result"
    }
   ],
   "source": [
    "rf_model = train_rf_model(seed, X_train_outer, y_train_outer, train_idxs, val_idxs)\n",
    "eval_rf_model(rf_model, X_test, y_test)"
   ],
   "metadata": {
    "collapsed": false,
    "pycharm": {
     "name": "#%%\n"
    }
   }
  },
  {
   "cell_type": "markdown",
   "source": [
    "### BMM"
   ],
   "metadata": {
    "collapsed": false,
    "pycharm": {
     "name": "#%% md\n"
    }
   }
  },
  {
   "cell_type": "code",
   "execution_count": 204,
   "outputs": [],
   "source": [
    "seeds, data_dfs, net_dfs, feat_ls = load_bmm_files(f\"{data_dir}/bmm_data_thr_5_F_8_f500\")"
   ],
   "metadata": {
    "collapsed": false,
    "pycharm": {
     "name": "#%%\n"
    }
   }
  },
  {
   "cell_type": "code",
   "execution_count": 328,
   "outputs": [],
   "source": [
    "seed = seeds[-1]\n",
    "X, y = data_dfs[-1].iloc[:,:-1], data_dfs[-1].iloc[:,-1]\n",
    "X_train_outer, X_train, X_val, X_test, y_train_outer, \\\n",
    "    y_train, y_val, y_test, (train_indices, val_indices) = preprocess_data(seed, X, y, reset_index=True)"
   ],
   "metadata": {
    "collapsed": false,
    "pycharm": {
     "name": "#%%\n"
    }
   }
  },
  {
   "cell_type": "code",
   "execution_count": 409,
   "outputs": [
    {
     "data": {
      "text/plain": "(0.7018666666666665, 0.75)"
     },
     "execution_count": 409,
     "metadata": {},
     "output_type": "execute_result"
    }
   ],
   "source": [
    "%autoreload\n",
    "# rf_model = train_rf_model(seed, X_train_outer, y_train_outer,\n",
    "#                           train_indices, val_indices, classifier=True)\n",
    "eval_rf_model(rf_model, X_test, y_test, classifier=True)"
   ],
   "metadata": {
    "collapsed": false,
    "pycharm": {
     "name": "#%%\n"
    }
   }
  },
  {
   "cell_type": "code",
   "execution_count": 437,
   "outputs": [
    {
     "name": "stderr",
     "output_type": "stream",
     "text": [
      "\u001B[32m[I 2023-02-15 10:18:33,480]\u001B[0m A new study created in memory with name: no-name-c7e48510-c938-42ab-8dbc-82f524d0c8cb\u001B[0m\n",
      "\u001B[32m[I 2023-02-15 10:19:25,370]\u001B[0m Trial 0 finished with value: 0.5949656750572082 and parameters: {'lr_0': 0.01, 'disc_lr_0': 0.1, 'num_cycles': 20, 'temp': 0.001, 'batch_size': 16, 'sigma': 0.1, 'mu': 51.52200866433364}. Best is trial 0 with value: 0.5949656750572082.\u001B[0m\n",
      "\u001B[32m[I 2023-02-15 10:20:00,055]\u001B[0m Trial 1 finished with value: 0.5949656750572082 and parameters: {'lr_0': 0.1, 'disc_lr_0': 0.1, 'num_cycles': 20, 'temp': 0.01, 'batch_size': 16, 'sigma': 0.01, 'mu': 37.16330503134095}. Best is trial 0 with value: 0.5949656750572082.\u001B[0m\n",
      "\u001B[32m[I 2023-02-15 10:20:34,766]\u001B[0m Trial 2 finished with value: 0.5949656750572082 and parameters: {'lr_0': 0.005, 'disc_lr_0': 0.1, 'num_cycles': 20, 'temp': 0.01, 'batch_size': 16, 'sigma': 0.1, 'mu': 58.759012415376304}. Best is trial 0 with value: 0.5949656750572082.\u001B[0m\n",
      "\u001B[32m[I 2023-02-15 10:21:06,170]\u001B[0m Trial 3 finished with value: 0.5804729214340199 and parameters: {'lr_0': 0.005, 'disc_lr_0': 0.1, 'num_cycles': 40, 'temp': 0.1, 'batch_size': 16, 'sigma': 0.01, 'mu': 20.99289722384098}. Best is trial 3 with value: 0.5804729214340199.\u001B[0m\n",
      "\u001B[32m[I 2023-02-15 10:21:20,335]\u001B[0m Trial 4 finished with value: 0.5949656750572082 and parameters: {'lr_0': 0.1, 'disc_lr_0': 0.8, 'num_cycles': 20, 'temp': 0.01, 'batch_size': 32, 'sigma': 0.01, 'mu': 30.327452266549617}. Best is trial 3 with value: 0.5804729214340199.\u001B[0m\n",
      "\u001B[32m[I 2023-02-15 10:21:45,300]\u001B[0m Trial 5 finished with value: 0.32875667429443167 and parameters: {'lr_0': 0.001, 'disc_lr_0': 0.1, 'num_cycles': 30, 'temp': 1.0, 'batch_size': 16, 'sigma': 0.1, 'mu': 93.03889995357929}. Best is trial 5 with value: 0.32875667429443167.\u001B[0m\n"
     ]
    }
   ],
   "source": [
    "%autoreload\n",
    "optuna.logging.set_verbosity(optuna.logging.INFO)\n",
    "sampler = optuna.samplers.TPESampler()\n",
    "study = optuna.create_study(sampler=sampler)\n",
    "\n",
    "study.optimize(lambda trial: objective_bg_bnn(trial, seed, X_train, X_val, y_train, y_val, J_zeros, 0.99, [100], \"swish\", bg=False,\n",
    "                                                 classifier=True), timeout=300)"
   ],
   "metadata": {
    "collapsed": false,
    "pycharm": {
     "name": "#%%\n"
    }
   }
  },
  {
   "cell_type": "code",
   "execution_count": 453,
   "outputs": [
    {
     "data": {
      "text/plain": "{'lr_0': 0.001,\n 'disc_lr_0': 0.1,\n 'num_cycles': 30,\n 'temp': 1.0,\n 'batch_size': 16,\n 'sigma': 0.1,\n 'mu': 93.03889995357929}"
     },
     "execution_count": 453,
     "metadata": {},
     "output_type": "execute_result"
    }
   ],
   "source": [
    "bnn_config = study.best_params\n",
    "bnn_config"
   ],
   "metadata": {
    "collapsed": false,
    "pycharm": {
     "name": "#%%\n"
    }
   }
  },
  {
   "cell_type": "code",
   "execution_count": 455,
   "outputs": [
    {
     "name": "stderr",
     "output_type": "stream",
     "text": [
      "\u001B[32m[I 2023-02-15 10:41:37,470]\u001B[0m A new study created in memory with name: no-name-d139faff-9af0-4bb7-ad49-e251b462888d\u001B[0m\n",
      "\u001B[32m[I 2023-02-15 10:42:01,024]\u001B[0m Trial 0 finished with value: 0.5949656750572082 and parameters: {'lr_0': 0.01, 'disc_lr_0': 0.1, 'num_cycles': 40, 'temp': 0.1, 'batch_size': 16, 'sigma': 0.5, 'eta': 35.04825383779141, 'mu': 25.056935028093534}. Best is trial 0 with value: 0.5949656750572082.\u001B[0m\n",
      "\u001B[32m[I 2023-02-15 10:42:13,191]\u001B[0m Trial 1 finished with value: 0.5949656750572082 and parameters: {'lr_0': 0.005, 'disc_lr_0': 0.5, 'num_cycles': 50, 'temp': 0.001, 'batch_size': 32, 'sigma': 0.5, 'eta': -34.00603566379479, 'mu': 58.306669284481295}. Best is trial 0 with value: 0.5949656750572082.\u001B[0m\n",
      "\u001B[32m[I 2023-02-15 10:42:34,422]\u001B[0m Trial 2 finished with value: 0.32875667429443167 and parameters: {'lr_0': 0.001, 'disc_lr_0': 0.1, 'num_cycles': 30, 'temp': 0.1, 'batch_size': 16, 'sigma': 0.1, 'eta': -75.59681975310085, 'mu': 89.93764566107346}. Best is trial 2 with value: 0.32875667429443167.\u001B[0m\n",
      "\u001B[32m[I 2023-02-15 10:42:56,601]\u001B[0m Trial 3 finished with value: 0.5949656750572082 and parameters: {'lr_0': 0.1, 'disc_lr_0': 0.1, 'num_cycles': 20, 'temp': 0.01, 'batch_size': 16, 'sigma': 1.0, 'eta': 41.77668515095576, 'mu': 4.651571939976339}. Best is trial 2 with value: 0.32875667429443167.\u001B[0m\n",
      "\u001B[32m[I 2023-02-15 10:43:03,860]\u001B[0m Trial 4 finished with value: 0.5949656750572082 and parameters: {'lr_0': 0.01, 'disc_lr_0': 0.01, 'num_cycles': 10, 'temp': 0.001, 'batch_size': 64, 'sigma': 1.0, 'eta': -89.42966645286403, 'mu': 29.931384944649757}. Best is trial 2 with value: 0.32875667429443167.\u001B[0m\n",
      "\u001B[32m[I 2023-02-15 10:43:11,048]\u001B[0m Trial 5 finished with value: 0.5949656750572082 and parameters: {'lr_0': 0.1, 'disc_lr_0': 0.01, 'num_cycles': 30, 'temp': 1.0, 'batch_size': 64, 'sigma': 0.5, 'eta': 69.69925815193153, 'mu': 19.162580437076436}. Best is trial 2 with value: 0.32875667429443167.\u001B[0m\n",
      "\u001B[32m[I 2023-02-15 10:43:23,234]\u001B[0m Trial 6 finished with value: 0.5949656750572082 and parameters: {'lr_0': 0.005, 'disc_lr_0': 0.8, 'num_cycles': 10, 'temp': 1.0, 'batch_size': 32, 'sigma': 0.1, 'eta': 72.26868356496183, 'mu': 49.60776081326091}. Best is trial 2 with value: 0.32875667429443167.\u001B[0m\n",
      "\u001B[32m[I 2023-02-15 10:43:30,541]\u001B[0m Trial 7 finished with value: 0.3249427917620138 and parameters: {'lr_0': 0.001, 'disc_lr_0': 0.1, 'num_cycles': 10, 'temp': 0.01, 'batch_size': 64, 'sigma': 0.1, 'eta': 47.5071378444398, 'mu': 76.34921741106076}. Best is trial 7 with value: 0.3249427917620138.\u001B[0m\n",
      "\u001B[32m[I 2023-02-15 10:43:50,891]\u001B[0m Trial 8 finished with value: 0.22273073989321124 and parameters: {'lr_0': 0.001, 'disc_lr_0': 0.5, 'num_cycles': 40, 'temp': 0.01, 'batch_size': 16, 'sigma': 0.5, 'eta': 10.630688481301192, 'mu': 32.13494143774196}. Best is trial 8 with value: 0.22273073989321124.\u001B[0m\n",
      "\u001B[32m[I 2023-02-15 10:44:10,789]\u001B[0m Trial 9 finished with value: 0.21281464530892447 and parameters: {'lr_0': 0.001, 'disc_lr_0': 0.8, 'num_cycles': 50, 'temp': 0.1, 'batch_size': 16, 'sigma': 0.5, 'eta': -79.60034580387256, 'mu': 37.855893510582106}. Best is trial 9 with value: 0.21281464530892447.\u001B[0m\n",
      "\u001B[32m[I 2023-02-15 10:44:31,154]\u001B[0m Trial 10 finished with value: 0.23188405797101452 and parameters: {'lr_0': 0.001, 'disc_lr_0': 0.1, 'num_cycles': 50, 'temp': 0.1, 'batch_size': 16, 'sigma': 0.5, 'eta': -44.72186915638829, 'mu': 52.519211584860784}. Best is trial 9 with value: 0.21281464530892447.\u001B[0m\n",
      "\u001B[32m[I 2023-02-15 10:44:51,668]\u001B[0m Trial 11 finished with value: 0.22273073989321135 and parameters: {'lr_0': 0.001, 'disc_lr_0': 0.1, 'num_cycles': 40, 'temp': 0.01, 'batch_size': 16, 'sigma': 0.5, 'eta': -11.688912828941213, 'mu': 38.6326061458084}. Best is trial 9 with value: 0.21281464530892447.\u001B[0m\n"
     ]
    }
   ],
   "source": [
    "%autoreload\n",
    "optuna.logging.set_verbosity(optuna.logging.INFO)\n",
    "sampler = optuna.samplers.TPESampler()\n",
    "study_bg = optuna.create_study(sampler=sampler)\n",
    "\n",
    "study_bg.optimize(lambda trial: objective_bg_bnn(trial, seed, X_train, X_val, y_train, y_val, J, 0.25, [100], \"swish\", bg=True,\n",
    "                                                 classifier=True), timeout=300)"
   ],
   "metadata": {
    "collapsed": false,
    "pycharm": {
     "name": "#%%\n"
    }
   }
  },
  {
   "cell_type": "code",
   "execution_count": 456,
   "outputs": [
    {
     "data": {
      "text/plain": "{'lr_0': 0.001,\n 'disc_lr_0': 0.8,\n 'num_cycles': 50,\n 'temp': 0.1,\n 'batch_size': 16,\n 'sigma': 0.5,\n 'eta': -79.60034580387256,\n 'mu': 37.855893510582106}"
     },
     "execution_count": 456,
     "metadata": {},
     "output_type": "execute_result"
    }
   ],
   "source": [
    "bg_config = study_bg.best_params\n",
    "bg_config"
   ],
   "metadata": {
    "collapsed": false,
    "pycharm": {
     "name": "#%%\n"
    }
   }
  },
  {
   "cell_type": "code",
   "execution_count": 466,
   "outputs": [
    {
     "name": "stderr",
     "output_type": "stream",
     "text": [
      "100%|█████████████████████████████████████████████████████████████████████████████████████| 500/500 [00:25<00:00, 19.47it/s]"
     ]
    },
    {
     "name": "stdout",
     "output_type": "stream",
     "text": [
      "31\n",
      "Test auc: 0.6997333333333333, accuracy: 0.75\n"
     ]
    },
    {
     "name": "stderr",
     "output_type": "stream",
     "text": [
      "\n"
     ]
    }
   ],
   "source": [
    "%autoreload\n",
    "lr_0, disc_lr_0 = bnn_config[\"lr_0\"], bnn_config[\"disc_lr_0\"]\n",
    "temp, sigma = bnn_config[\"temp\"], bnn_config[\"sigma\"]\n",
    "epochs, num_cycles = 500, bnn_config[\"num_cycles\"]\n",
    "eta, mu = 1., bnn_config[\"mu\"]\n",
    "J = net_dfs[-1].values\n",
    "J_zeros = np.zeros_like(J)\n",
    "outer_data_loader = NumpyLoader(NumpyData(X_train_outer, y_train_outer), batch_size=bnn_config[\"batch_size\"], shuffle=True,\n",
    "                                drop_last=True)\n",
    "bg_bnn_model, bg_bnn_states, bg_bnn_disc_states = train_bg_bnn_model(seed, outer_data_loader, epochs, num_cycles,\n",
    "                                                                     0.99, 1, lr_0, disc_lr_0, [100], temp, sigma,\n",
    "                                                                     eta, mu, J_zeros, \"swish\", classifier=True, show_pgbar=True)\n",
    "\n",
    "print(len(bg_bnn_states))\n",
    "bnn_bg_rmse_test, bnn_bg_r2_test = score_bg_bnn_model(bg_bnn_model, X_test, y_test, bg_bnn_states[-1], bg_bnn_disc_states[-1], True, True)\n",
    "print(f\"Test auc: {bnn_bg_rmse_test}, accuracy: {bnn_bg_r2_test}\")"
   ],
   "metadata": {
    "collapsed": false,
    "pycharm": {
     "name": "#%%\n"
    }
   }
  },
  {
   "cell_type": "code",
   "execution_count": 479,
   "outputs": [
    {
     "name": "stderr",
     "output_type": "stream",
     "text": [
      "100%|█████████████████████████████████████████████████████████████████████████████████████| 500/500 [00:26<00:00, 19.04it/s]\n"
     ]
    },
    {
     "name": "stdout",
     "output_type": "stream",
     "text": [
      "100\n",
      "Test auc: 0.5264, accuracy: 0.25\n"
     ]
    }
   ],
   "source": [
    "%autoreload\n",
    "lr_0, disc_lr_0 = bg_config[\"lr_0\"], bg_config[\"disc_lr_0\"]\n",
    "temp, sigma = bg_config[\"temp\"], 1.0\n",
    "epochs, num_cycles = 500, bg_config[\"num_cycles\"]\n",
    "eta, mu = bg_config[\"eta\"], bg_config[\"mu\"]\n",
    "J = net_dfs[-1].values\n",
    "outer_data_loader = NumpyLoader(NumpyData(X_train_outer, y_train_outer), batch_size=bg_config[\"batch_size\"],\n",
    "                                shuffle=True, drop_last=True)\n",
    "bg_bnn_model, bg_bnn_states, bg_bnn_disc_states = train_bg_bnn_model(seed, outer_data_loader, epochs, num_cycles,\n",
    "                                                                                 0.25, 2, lr_0, disc_lr_0, [10], temp, sigma,\n",
    "                                                                                 eta, mu, J, \"swish\", classifier=True, show_pgbar=True)\n",
    "\n",
    "print(len(bg_bnn_states))\n",
    "bnn_bg_rmse_test, bnn_bg_r2_test = score_bg_bnn_model(bg_bnn_model, X_test, y_test, bg_bnn_states, bg_bnn_disc_states, True, True)\n",
    "print(f\"Test auc: {bnn_bg_rmse_test}, accuracy: {bnn_bg_r2_test}\")"
   ],
   "metadata": {
    "collapsed": false,
    "pycharm": {
     "name": "#%%\n"
    }
   }
  },
  {
   "cell_type": "code",
   "execution_count": 478,
   "outputs": [
    {
     "name": "stdout",
     "output_type": "stream",
     "text": [
      "Train auc: 0.8620821226262803, accuracy: 0.7775\n"
     ]
    }
   ],
   "source": [
    "bnn_bg_rmse_test, bnn_bg_r2_test = score_bg_bnn_model(bg_bnn_model, X_train_outer, y_train_outer, bg_bnn_states, bg_bnn_disc_states, True, True)\n",
    "print(f\"Train auc: {bnn_bg_rmse_test}, accuracy: {bnn_bg_r2_test}\")"
   ],
   "metadata": {
    "collapsed": false,
    "pycharm": {
     "name": "#%%\n"
    }
   }
  },
  {
   "cell_type": "code",
   "execution_count": 461,
   "outputs": [
    {
     "data": {
      "text/plain": "Array([100.      , 100.      , 100.      ,        nan, 100.      ,\n       100.      , 100.      , 100.000015,        nan, 100.      ,\n       100.      ,        nan, 100.      ,        nan, 100.      ,\n       100.      ,        nan, 100.      ,        nan, 100.      ,\n              nan, 100.      ,        nan, 100.000015, 100.      ,\n              nan,        nan,        nan, 100.      , 100.      ,\n       100.      , 100.      ,        nan, 100.      , 100.      ,\n       100.      , 100.      ,        nan,        nan,        nan,\n              nan, 100.      , 100.      ,        nan, 100.      ,\n        50.52588 , 100.      , 100.      , 100.      , 100.      ,\n              nan,        nan, 100.      , 100.      , 100.      ,\n       100.      , 100.000015, 100.      ,        nan, 100.      ,\n       100.      , 100.      , 100.      ,        nan, 100.      ,\n              nan,        nan, 100.      ,        nan,        nan,\n       100.      ,        nan, 100.      ,        nan, 100.      ,\n       100.      ,        nan, 100.      , 100.      , 100.      ,\n       100.      , 100.      ,        nan,        nan, 100.      ,\n       100.      , 100.      ,        nan, 100.      ,        nan,\n       100.      , 100.      ,        nan, 100.      ,        nan,\n       100.      ,        nan,        nan, 100.000015, 100.000015,\n       100.      , 100.      ,        nan,        nan, 100.      ,\n              nan,        nan, 100.      , 100.      ,        nan,\n       100.000015,        nan, 100.      , 100.      ,        nan,\n       100.      , 100.      , 100.      ,        nan, 100.      ,\n              nan, 100.      ,        nan, 100.      , 100.      ,\n              nan, 100.      ,        nan, 100.      , 100.000015,\n       100.      ,        nan, 100.      , 100.      , 100.      ,\n       100.000015, 100.000015, 100.      , 100.      , 100.      ,\n       100.      , 100.      , 100.      ,        nan, 100.      ,\n       100.      , 100.      , 100.      , 100.      ,        nan,\n       100.000015, 100.      , 100.      ,        nan, 100.      ,\n       100.      ,        nan, 100.      ,        nan, 100.      ,\n       100.000015,        nan, 100.000015,        nan, 100.      ,\n       100.      , 100.      , 100.      , 100.      , 100.      ,\n              nan,        nan, 100.      ,        nan,        nan,\n              nan,        nan,        nan, 100.000015, 100.000015,\n       100.000015,        nan,        nan, 100.      ,        nan,\n       100.      , 100.      ,        nan, 100.      ,        nan,\n       100.      , 100.      ,        nan, 100.      , 100.      ,\n       100.      ,        nan, 100.      ,        nan, 100.      ,\n       100.      , 100.      , 100.      ,        nan,        nan,\n        67.05954 ,        nan,        nan, 100.      , 100.      ,\n       100.      , 100.      ,        nan,        nan, 100.      ,\n       100.      , 100.      , 100.      , 100.      , 100.      ,\n       100.      , 100.      , 100.      ,  69.60557 ,        nan,\n              nan,        nan, 100.      , 100.      , 100.      ,\n              nan, 100.      , 100.      ,        nan,        nan,\n              nan,        nan, 100.000015, 100.      ,        nan,\n       100.      ,        nan, 100.      , 100.      ,        nan,\n       100.      , 100.      , 100.      , 100.000015,        nan,\n              nan, 100.      , 100.      , 100.      , 100.      ,\n              nan, 100.      , 100.      ,        nan,        nan,\n              nan, 100.000015,        nan,  43.336945,        nan,\n       100.000015, 100.      , 100.      , 100.      , 100.      ,\n       100.      ,        nan, 100.      ,        nan, 100.000015,\n              nan,  61.545624, 100.      , 100.000015,        nan,\n       100.      , 100.      ,        nan, 100.      ,        nan,\n              nan, 100.      , 100.      , 100.      , 100.      ,\n       100.      , 100.      , 100.      , 100.      , 100.      ,\n       100.      , 100.      , 100.      ,        nan, 100.      ,\n       100.      ,        nan,        nan, 100.      , 100.      ,\n       100.      , 100.      , 100.000015,        nan,        nan,\n       100.      , 100.      , 100.      , 100.      , 100.      ,\n       100.000015, 100.      , 100.      , 100.      , 100.      ,\n       100.      , 100.      , 100.      , 100.      ,        nan,\n       100.      , 100.      , 100.      , 100.      , 100.      ,\n       100.000015,        nan,        nan, 100.      ,        nan,\n       100.      , 100.      ,        nan, 100.      ,        nan,\n              nan, 100.      , 100.000015, 100.      , 100.      ,\n        75.75758 , 100.000015, 100.      ,        nan, 100.      ,\n              nan,        nan, 100.000015,        nan,        nan,\n       100.      , 100.      , 100.      ,        nan, 100.      ,\n       100.      , 100.      , 100.      ,        nan, 100.      ,\n              nan,        nan,  68.61064 ,        nan, 100.      ,\n       100.      , 100.      ,        nan, 100.      ,        nan,\n       100.000015,        nan,        nan, 100.      ,        nan,\n       100.      , 100.      , 100.      , 100.      , 100.      ,\n              nan, 100.      ,        nan, 100.000015, 100.000015,\n       100.      , 100.      , 100.      , 100.      ,        nan,\n       100.      , 100.      ,        nan, 100.      , 100.      ,\n              nan,        nan,        nan, 100.      , 100.      ,\n              nan, 100.      , 100.      ,        nan, 100.      ,\n       100.      , 100.      ,        nan, 100.      , 100.      ,\n       100.      , 100.      , 100.      , 100.      ,        nan,\n       100.      ,        nan, 100.000015,        nan,        nan,\n       100.      ,        nan, 100.      ,        nan, 100.000015,\n              nan, 100.      , 100.      ,        nan,        nan,\n       100.      , 100.      , 100.      , 100.      , 100.      ,\n              nan, 100.      , 100.      ,        nan, 100.      ,\n       100.      ,  75.41241 , 100.      , 100.      , 100.      ,\n              nan,        nan,        nan, 100.      , 100.      ,\n       100.      ,        nan, 100.      ,        nan,        nan,\n              nan, 100.      , 100.      , 100.      , 100.      ,\n              nan, 100.      ,        nan, 100.000015, 100.      ,\n       100.      ,        nan, 100.      , 100.      ,        nan,\n       100.000015,        nan, 100.000015, 100.      , 100.      ,\n              nan,        nan, 100.      , 100.      , 100.      ,\n       100.      , 100.      , 100.      , 100.      ,        nan,\n              nan,        nan,        nan, 100.      , 100.      ,\n       100.      , 100.      , 100.      , 100.      , 100.      ],      dtype=float32)"
     },
     "execution_count": 461,
     "metadata": {},
     "output_type": "execute_result"
    }
   ],
   "source": [
    "tfp.mcmc.effective_sample_size(np.array(bg_bnn_disc_states))"
   ],
   "metadata": {
    "collapsed": false,
    "pycharm": {
     "name": "#%%\n"
    }
   }
  },
  {
   "cell_type": "code",
   "execution_count": 451,
   "outputs": [],
   "source": [
    "params_bnn_bg = tree_utils.tree_stack(bg_bnn_states)\n",
    "gammas_bnn_bg = tree_utils.tree_stack(bg_bnn_disc_states)"
   ],
   "metadata": {
    "collapsed": false,
    "pycharm": {
     "name": "#%%\n"
    }
   }
  },
  {
   "cell_type": "code",
   "execution_count": 394,
   "outputs": [],
   "source": [
    "igs_bg_bnn = jax.vmap(integrated_gradients, in_axes=(None, None, None, 0, None))(bg_bnn_model, params_bnn_bg, gammas_bnn_bg, X_val, 20)"
   ],
   "metadata": {
    "collapsed": false,
    "pycharm": {
     "name": "#%%\n"
    }
   }
  },
  {
   "cell_type": "code",
   "execution_count": 452,
   "outputs": [
    {
     "name": "stderr",
     "output_type": "stream",
     "text": [
      "100%|█████████████████████████████████████████████████████████████████████████████████████| 500/500 [01:31<00:00,  5.45it/s]\n"
     ]
    },
    {
     "data": {
      "text/plain": "     feats_idx  num_models    loss_on   loss_off     loss_diff\n430        430          40  1154.8109   1779.837     -625.0261\n341        341          40  1165.7172  1438.8077    -273.09058\n266        266          40  1143.4028  1281.9012    -138.49841\n293        293          41  1194.8547  1282.5645     -87.70972\n455        455          40   1169.856  1250.6329     -80.77698\n..         ...         ...        ...        ...           ...\n290        290           0        0.0        0.0  1000000000.0\n299        299           0        0.0        0.0  1000000000.0\n308        308           0        0.0        0.0  1000000000.0\n250        250           0        0.0        0.0  1000000000.0\n249        249           0        0.0        0.0  1000000000.0\n\n[500 rows x 5 columns]",
      "text/html": "<div>\n<style scoped>\n    .dataframe tbody tr th:only-of-type {\n        vertical-align: middle;\n    }\n\n    .dataframe tbody tr th {\n        vertical-align: top;\n    }\n\n    .dataframe thead th {\n        text-align: right;\n    }\n</style>\n<table border=\"1\" class=\"dataframe\">\n  <thead>\n    <tr style=\"text-align: right;\">\n      <th></th>\n      <th>feats_idx</th>\n      <th>num_models</th>\n      <th>loss_on</th>\n      <th>loss_off</th>\n      <th>loss_diff</th>\n    </tr>\n  </thead>\n  <tbody>\n    <tr>\n      <th>430</th>\n      <td>430</td>\n      <td>40</td>\n      <td>1154.8109</td>\n      <td>1779.837</td>\n      <td>-625.0261</td>\n    </tr>\n    <tr>\n      <th>341</th>\n      <td>341</td>\n      <td>40</td>\n      <td>1165.7172</td>\n      <td>1438.8077</td>\n      <td>-273.09058</td>\n    </tr>\n    <tr>\n      <th>266</th>\n      <td>266</td>\n      <td>40</td>\n      <td>1143.4028</td>\n      <td>1281.9012</td>\n      <td>-138.49841</td>\n    </tr>\n    <tr>\n      <th>293</th>\n      <td>293</td>\n      <td>41</td>\n      <td>1194.8547</td>\n      <td>1282.5645</td>\n      <td>-87.70972</td>\n    </tr>\n    <tr>\n      <th>455</th>\n      <td>455</td>\n      <td>40</td>\n      <td>1169.856</td>\n      <td>1250.6329</td>\n      <td>-80.77698</td>\n    </tr>\n    <tr>\n      <th>...</th>\n      <td>...</td>\n      <td>...</td>\n      <td>...</td>\n      <td>...</td>\n      <td>...</td>\n    </tr>\n    <tr>\n      <th>290</th>\n      <td>290</td>\n      <td>0</td>\n      <td>0.0</td>\n      <td>0.0</td>\n      <td>1000000000.0</td>\n    </tr>\n    <tr>\n      <th>299</th>\n      <td>299</td>\n      <td>0</td>\n      <td>0.0</td>\n      <td>0.0</td>\n      <td>1000000000.0</td>\n    </tr>\n    <tr>\n      <th>308</th>\n      <td>308</td>\n      <td>0</td>\n      <td>0.0</td>\n      <td>0.0</td>\n      <td>1000000000.0</td>\n    </tr>\n    <tr>\n      <th>250</th>\n      <td>250</td>\n      <td>0</td>\n      <td>0.0</td>\n      <td>0.0</td>\n      <td>1000000000.0</td>\n    </tr>\n    <tr>\n      <th>249</th>\n      <td>249</td>\n      <td>0</td>\n      <td>0.0</td>\n      <td>0.0</td>\n      <td>1000000000.0</td>\n    </tr>\n  </tbody>\n</table>\n<p>500 rows × 5 columns</p>\n</div>"
     },
     "execution_count": 452,
     "metadata": {},
     "output_type": "execute_result"
    }
   ],
   "source": [
    "%autoreload\n",
    "get_feats_dropout_loss(bg_bnn_model, params_bnn_bg, gammas_bnn_bg, X_val, y_val, classifier=True)"
   ],
   "metadata": {
    "collapsed": false,
    "pycharm": {
     "name": "#%%\n"
    }
   }
  },
  {
   "cell_type": "code",
   "execution_count": 388,
   "outputs": [
    {
     "data": {
      "text/plain": "[342, 282, 13, 431, 257, 141, 8, 294]"
     },
     "execution_count": 388,
     "metadata": {},
     "output_type": "execute_result"
    }
   ],
   "source": [
    "feat_ls[-1]"
   ],
   "metadata": {
    "collapsed": false,
    "pycharm": {
     "name": "#%%\n"
    }
   }
  },
  {
   "cell_type": "code",
   "execution_count": 396,
   "outputs": [
    {
     "data": {
      "text/plain": "array([ 0.       ,  0.       ,  0.       ,  0.       , -0.38045  ,\n       -0.24348  ,  0.       , -0.59819  ,  0.       ,  0.       ,\n        0.       ,  0.       ,  0.       ,  0.       ,  1.4049   ,\n       -0.92565  ,  0.       ,  0.31593  ,  0.       , -0.83773  ,\n        0.       ,  0.       ,  0.       ,  0.       ,  0.       ,\n        0.2197   ,  0.       ,  0.       ,  0.       ,  1.4264   ,\n        0.       , -0.68542  , -1.4066   ,  0.       ,  0.       ,\n        0.       , -0.14608  ,  0.       ,  0.       , -1.2284   ,\n        1.5293   ,  0.       ,  0.027992 ,  0.18515  ,  0.       ,\n        0.       ,  1.7999   ,  0.       ,  0.       ,  0.33441  ,\n        0.       ,  0.       ,  0.       ,  0.4929   , -1.1687   ,\n        0.       ,  0.       ,  0.       ,  0.       ,  0.       ,\n       -1.3438   ,  0.88032  ,  0.       ,  0.       ,  0.       ,\n       -1.3041   ,  0.       , -0.12924  ,  0.       ,  0.56425  ,\n        0.       ,  0.       ,  0.       ,  0.1161   ,  0.       ,\n        0.8055   , -0.93632  ,  0.       ,  1.0851   ,  0.       ,\n        0.       ,  0.       ,  0.       ,  0.       ,  0.       ,\n        0.       ,  1.1342   ,  0.       ,  0.       ,  0.       ,\n       -0.091285 ,  0.71757  ,  0.       ,  0.       ,  0.       ,\n        0.       ,  0.       ,  0.       ,  0.       ,  0.       ,\n        1.5034   ,  0.       ,  0.       ,  0.       ,  0.       ,\n        0.       ,  0.28905  ,  0.       ,  0.       ,  0.       ,\n        0.       ,  0.       ,  0.       ,  0.       ,  0.       ,\n        0.       ,  0.       ,  0.       ,  0.049469 ,  0.       ,\n        0.       ,  0.       ,  0.       ,  0.       ,  0.       ,\n        0.       ,  0.       ,  0.       ,  0.       ,  0.       ,\n        0.       ,  0.       ,  0.       ,  0.       ,  0.16601  ,\n        0.       ,  0.       ,  0.       , -1.0948   ,  0.       ,\n        0.       ,  0.       ,  0.       , -0.33251  ,  0.       ,\n        0.       ,  0.89741  ,  0.       ,  0.       ,  0.       ,\n        0.       ,  0.       ,  0.       , -0.77194  ,  0.75121  ,\n        0.       ,  0.       ,  0.       ,  0.       , -0.093164 ,\n        0.       ,  0.       ,  0.15603  ,  0.       , -0.15196  ,\n       -0.74552  ,  0.       , -0.16107  ,  0.       ,  0.       ,\n       -1.5162   , -0.11447  , -1.3806   ,  0.       ,  0.       ,\n        0.       ,  0.       , -0.55044  , -0.26167  ,  0.       ,\n        0.       ,  0.12767  ,  0.       ,  0.       ,  0.       ,\n        0.       ,  0.       ,  0.       ,  0.0768   ,  0.       ,\n       -2.0087   ,  0.       ,  0.       ,  0.       ,  0.       ,\n        0.       ,  0.       ,  0.       ,  0.       , -0.88524  ,\n        0.       ,  0.       ,  0.       ,  0.       ,  0.       ,\n        0.       ,  0.       ,  0.19672  ,  0.       ,  0.       ,\n        0.51169  ,  0.       ,  0.       ,  0.0094872,  0.       ,\n        0.       ,  0.       ,  0.       , -2.0359   ,  0.       ,\n        0.       ,  0.       ,  0.       ,  0.       ,  0.       ,\n        0.       ,  0.       ,  0.       ,  0.       ,  0.       ,\n       -0.15587  ,  0.       ,  0.       ,  0.       ,  0.       ,\n        0.       ,  0.       ,  0.       ,  0.11017  ,  0.       ,\n        0.013359 ,  1.0227   ,  0.       ,  0.       ,  0.       ,\n       -2.588    ,  0.       ,  2.0628   ,  0.       ,  1.3594   ,\n        0.       , -0.12589  ,  0.       ,  0.       ,  0.15239  ,\n        0.       ,  0.22551  ,  0.18516  ,  0.       ,  0.       ,\n        0.       ,  1.3844   ,  0.       , -0.86622  ,  0.       ,\n        0.       ,  0.       ,  0.       ,  0.       ,  0.       ,\n        0.       ,  0.       ,  0.       ,  0.       ,  0.       ,\n        0.       ,  0.       ,  0.       ,  0.       ,  0.       ,\n        0.       , -0.75289  ,  0.       ,  0.       ,  0.       ,\n        0.       ,  0.       ,  0.       ,  0.082831 ,  0.       ,\n        0.       ,  0.       ,  0.       , -0.85191  ,  0.       ,\n        0.       , -0.70621  ,  0.       ,  0.       ,  0.       ,\n        0.       ,  0.       , -0.0048058, -1.3256   ,  0.89693  ,\n        0.       , -1.2901   ,  0.       ,  0.       ,  0.       ,\n       -0.22489  ,  1.9133   , -0.91881  ,  0.       ,  1.8489   ,\n        0.       ,  0.27483  ,  0.78072  ,  0.       , -0.29786  ,\n        0.       ,  0.058649 ,  0.       , -1.8353   , -1.1394   ,\n       -0.37306  ,  0.       , -1.5994   ,  0.       ,  0.       ,\n        0.       ,  0.7575   ,  0.       ,  0.       ,  0.       ,\n        0.       ,  0.       ,  0.       ,  0.       ,  0.       ,\n        0.       ,  0.       ,  0.26269  ,  0.       ,  0.       ,\n        0.       ,  0.       ,  0.       ,  0.64786  ,  0.       ,\n        0.       ,  0.       ,  0.       ,  0.       ,  0.       ,\n        0.       ,  1.3178   ,  0.       ,  0.       ,  0.       ,\n        0.       ,  0.       , -0.87628  ,  0.       , -0.40611  ,\n        0.       ,  0.       ,  0.       , -0.55949  ,  0.       ,\n        0.78786  ,  0.       ,  0.       ,  0.81459  ,  0.       ,\n        0.       ,  0.       ,  1.1737   ,  0.       ,  0.       ,\n        0.       ,  0.       ,  0.       ,  0.       , -0.46706  ,\n        0.       ,  0.       ,  0.       ,  0.       ,  0.5683   ,\n        0.       , -0.12044  ,  0.       ,  0.       ,  0.       ,\n        0.       ,  1.3113   ,  0.40582  ,  0.       ,  0.8935   ,\n        0.       ,  0.       ,  0.       ,  0.       , -1.4206   ,\n       -1.2504   , -0.42013  , -1.5261   ,  0.       ,  0.       ,\n       -0.48527  , -0.32691  ,  0.       ,  0.       ,  0.       ,\n       -0.11209  ,  0.75716  ,  0.       ,  0.       ,  0.       ,\n        0.       ,  0.       ,  0.22724  ,  0.       ,  0.       ,\n        2.0564   ,  0.76034  ,  0.23627  , -0.0063142,  0.       ,\n        0.       ,  0.       ,  0.       ,  0.       ,  0.51518  ,\n        0.       ,  0.       ,  0.       ,  0.       , -0.52529  ,\n        0.       ,  0.       ,  0.       ,  0.       ,  0.       ,\n        0.       ,  0.       ,  0.       ,  0.       ,  0.       ,\n        0.       ,  0.       ,  0.       ,  0.       ,  0.       ,\n       -0.54879  ,  0.       ,  0.       , -1.6106   ,  1.1974   ,\n        0.       ,  0.       ,  0.       ,  0.       , -1.856    ,\n        0.       ,  0.       ,  0.       ,  0.       , -1.3107   ,\n        0.15112  ,  0.       ,  0.       ,  0.       ,  0.       ,\n        0.       ,  0.       ,  0.       ,  1.6865   , -0.32908  ,\n        0.       ,  0.       ,  0.       ,  0.       ,  0.       ,\n        0.39698  ,  0.       ,  0.       , -0.11535  , -0.58009  ,\n        0.       ,  0.       ,  0.       ,  0.       , -0.31581  ,\n        0.       ,  0.       ,  0.       ,  0.       ,  0.       ])"
     },
     "execution_count": 396,
     "metadata": {},
     "output_type": "execute_result"
    }
   ],
   "source": [
    "J[8]"
   ],
   "metadata": {
    "collapsed": false,
    "pycharm": {
     "name": "#%%\n"
    }
   }
  }
 ],
 "metadata": {
  "kernelspec": {
   "display_name": "Python 3",
   "language": "python",
   "name": "python3"
  },
  "language_info": {
   "codemirror_mode": {
    "name": "ipython",
    "version": 2
   },
   "file_extension": ".py",
   "mimetype": "text/x-python",
   "name": "python",
   "nbconvert_exporter": "python",
   "pygments_lexer": "ipython2",
   "version": "2.7.6"
  }
 },
 "nbformat": 4,
 "nbformat_minor": 0
}