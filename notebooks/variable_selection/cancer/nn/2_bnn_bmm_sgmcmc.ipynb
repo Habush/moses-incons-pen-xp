{
 "cells": [
  {
   "cell_type": "code",
   "execution_count": 1,
   "metadata": {
    "collapsed": true,
    "pycharm": {
     "name": "#%%\n"
    }
   },
   "outputs": [
    {
     "name": "stdout",
     "output_type": "stream",
     "text": [
      "Looking in links: https://storage.googleapis.com/jax-releases/jax_cuda_releases.html\n",
      "Requirement already satisfied: jax[cuda112] in /usr/local/lib/python3.9/dist-packages (0.3.14)\n",
      "Collecting jax[cuda112]\n",
      "  Downloading jax-0.3.24.tar.gz (1.1 MB)\n",
      "\u001b[2K     \u001b[90m━━━━━━━━━━━━━━━━━━━━━━━━━━━━━━━━━━━━━━━━\u001b[0m \u001b[32m1.1/1.1 MB\u001b[0m \u001b[31m72.9 MB/s\u001b[0m eta \u001b[36m0:00:00\u001b[0m\n",
      "\u001b[?25h  Preparing metadata (setup.py) ... \u001b[?25ldone\n",
      "\u001b[33mWARNING: jax 0.3.24 does not provide the extra 'cuda112'\u001b[0m\u001b[33m\n",
      "\u001b[0m\u001b[?25hRequirement already satisfied: numpy>=1.20 in /usr/local/lib/python3.9/dist-packages (from jax[cuda112]) (1.23.1)\n",
      "Requirement already satisfied: opt_einsum in /usr/local/lib/python3.9/dist-packages (from jax[cuda112]) (3.3.0)\n",
      "Requirement already satisfied: scipy>=1.5 in /usr/local/lib/python3.9/dist-packages (from jax[cuda112]) (1.8.1)\n",
      "Requirement already satisfied: typing_extensions in /usr/local/lib/python3.9/dist-packages (from jax[cuda112]) (4.3.0)\n",
      "Building wheels for collected packages: jax\n",
      "  Building wheel for jax (setup.py) ... \u001b[?25ldone\n",
      "\u001b[?25h  Created wheel for jax: filename=jax-0.3.24-py3-none-any.whl size=1297412 sha256=0826405ff2ae02cef01cf14ab26ca2f785ae38c2c8ea1d09400134c948e19192\n",
      "  Stored in directory: /root/.cache/pip/wheels/13/d4/90/1904bbdf0ee77093daa3bf6a4939e5ddc266402262423e29d1\n",
      "Successfully built jax\n",
      "Installing collected packages: jax\n",
      "  Attempting uninstall: jax\n",
      "    Found existing installation: jax 0.3.14\n",
      "    Uninstalling jax-0.3.14:\n",
      "      Successfully uninstalled jax-0.3.14\n",
      "Successfully installed jax-0.3.24\n",
      "\u001b[33mWARNING: Running pip as the 'root' user can result in broken permissions and conflicting behaviour with the system package manager. It is recommended to use a virtual environment instead: https://pip.pypa.io/warnings/venv\u001b[0m\u001b[33m\n",
      "\u001b[0mLooking in links: https://storage.googleapis.com/jax-releases/jax_cuda_releases.html\n",
      "Requirement already satisfied: jaxlib[cuda112] in /usr/local/lib/python3.9/dist-packages (0.3.8+cuda11.cudnn82)\n",
      "Collecting jaxlib[cuda112]\n",
      "  Downloading https://storage.googleapis.com/jax-releases/cuda11/jaxlib-0.3.24%2Bcuda11.cudnn82-cp39-cp39-manylinux2014_x86_64.whl (153.3 MB)\n",
      "\u001b[2K     \u001b[90m━━━━━━━━━━━━━━━━━━━━━━━━━━━━━━━━━━━━━━\u001b[0m \u001b[32m153.3/153.3 MB\u001b[0m \u001b[31m14.8 MB/s\u001b[0m eta \u001b[36m0:00:00\u001b[0m00:01\u001b[0m00:01\u001b[0m\n",
      "\u001b[?25h\u001b[33mWARNING: jaxlib 0.3.24+cuda11.cudnn82 does not provide the extra 'cuda112'\u001b[0m\u001b[33m\n",
      "\u001b[0mRequirement already satisfied: numpy>=1.20 in /usr/local/lib/python3.9/dist-packages (from jaxlib[cuda112]) (1.23.1)\n",
      "Requirement already satisfied: scipy>=1.5 in /usr/local/lib/python3.9/dist-packages (from jaxlib[cuda112]) (1.8.1)\n",
      "Installing collected packages: jaxlib\n",
      "  Attempting uninstall: jaxlib\n",
      "    Found existing installation: jaxlib 0.3.8+cuda11.cudnn82\n",
      "    Uninstalling jaxlib-0.3.8+cuda11.cudnn82:\n",
      "      Successfully uninstalled jaxlib-0.3.8+cuda11.cudnn82\n",
      "Successfully installed jaxlib-0.3.24+cuda11.cudnn82\n",
      "\u001b[33mWARNING: Running pip as the 'root' user can result in broken permissions and conflicting behaviour with the system package manager. It is recommended to use a virtual environment instead: https://pip.pypa.io/warnings/venv\u001b[0m\u001b[33m\n",
      "\u001b[0mCollecting optax\n",
      "  Downloading optax-0.1.3-py3-none-any.whl (145 kB)\n",
      "\u001b[2K     \u001b[90m━━━━━━━━━━━━━━━━━━━━━━━━━━━━━━━━━━━━━━\u001b[0m \u001b[32m145.1/145.1 kB\u001b[0m \u001b[31m27.2 MB/s\u001b[0m eta \u001b[36m0:00:00\u001b[0m\n",
      "\u001b[?25hRequirement already satisfied: typing-extensions>=3.10.0 in /usr/local/lib/python3.9/dist-packages (from optax) (4.3.0)\n",
      "Requirement already satisfied: jaxlib>=0.1.37 in /usr/local/lib/python3.9/dist-packages (from optax) (0.3.24+cuda11.cudnn82)\n",
      "Collecting chex>=0.0.4\n",
      "  Downloading chex-0.1.5-py3-none-any.whl (85 kB)\n",
      "\u001b[2K     \u001b[90m━━━━━━━━━━━━━━━━━━━━━━━━━━━━━━━━━━━━━━━━\u001b[0m \u001b[32m85.3/85.3 kB\u001b[0m \u001b[31m29.4 MB/s\u001b[0m eta \u001b[36m0:00:00\u001b[0m\n",
      "\u001b[?25hRequirement already satisfied: absl-py>=0.7.1 in /usr/local/lib/python3.9/dist-packages (from optax) (1.1.0)\n",
      "Requirement already satisfied: numpy>=1.18.0 in /usr/local/lib/python3.9/dist-packages (from optax) (1.23.1)\n",
      "Requirement already satisfied: jax>=0.1.55 in /usr/local/lib/python3.9/dist-packages (from optax) (0.3.24)\n",
      "Collecting toolz>=0.9.0\n",
      "  Downloading toolz-0.12.0-py3-none-any.whl (55 kB)\n",
      "\u001b[2K     \u001b[90m━━━━━━━━━━━━━━━━━━━━━━━━━━━━━━━━━━━━━━━━\u001b[0m \u001b[32m55.8/55.8 kB\u001b[0m \u001b[31m22.8 MB/s\u001b[0m eta \u001b[36m0:00:00\u001b[0m\n",
      "\u001b[?25hCollecting dm-tree>=0.1.5\n",
      "  Downloading dm_tree-0.1.7-cp39-cp39-manylinux_2_12_x86_64.manylinux2010_x86_64.whl (142 kB)\n",
      "\u001b[2K     \u001b[90m━━━━━━━━━━━━━━━━━━━━━━━━━━━━━━━━━━━━━━\u001b[0m \u001b[32m142.7/142.7 kB\u001b[0m \u001b[31m36.7 MB/s\u001b[0m eta \u001b[36m0:00:00\u001b[0m\n",
      "\u001b[?25hRequirement already satisfied: scipy>=1.5 in /usr/local/lib/python3.9/dist-packages (from jax>=0.1.55->optax) (1.8.1)\n",
      "Requirement already satisfied: opt-einsum in /usr/local/lib/python3.9/dist-packages (from jax>=0.1.55->optax) (3.3.0)\n",
      "Installing collected packages: dm-tree, toolz, chex, optax\n",
      "Successfully installed chex-0.1.5 dm-tree-0.1.7 optax-0.1.3 toolz-0.12.0\n",
      "\u001b[33mWARNING: Running pip as the 'root' user can result in broken permissions and conflicting behaviour with the system package manager. It is recommended to use a virtual environment instead: https://pip.pypa.io/warnings/venv\u001b[0m\u001b[33m\n",
      "\u001b[0mCollecting dm-haiku\n",
      "  Downloading dm_haiku-0.0.8-py3-none-any.whl (350 kB)\n",
      "\u001b[2K     \u001b[90m━━━━━━━━━━━━━━━━━━━━━━━━━━━━━━━━━━━━━━\u001b[0m \u001b[32m350.2/350.2 kB\u001b[0m \u001b[31m44.3 MB/s\u001b[0m eta \u001b[36m0:00:00\u001b[0m\n",
      "\u001b[?25hCollecting jmp>=0.0.2\n",
      "  Downloading jmp-0.0.2-py3-none-any.whl (16 kB)\n",
      "Requirement already satisfied: numpy>=1.18.0 in /usr/local/lib/python3.9/dist-packages (from dm-haiku) (1.23.1)\n",
      "Collecting tabulate>=0.8.9\n",
      "  Downloading tabulate-0.9.0-py3-none-any.whl (35 kB)\n",
      "Requirement already satisfied: absl-py>=0.7.1 in /usr/local/lib/python3.9/dist-packages (from dm-haiku) (1.1.0)\n",
      "Installing collected packages: tabulate, jmp, dm-haiku\n",
      "Successfully installed dm-haiku-0.0.8 jmp-0.0.2 tabulate-0.9.0\n",
      "\u001b[33mWARNING: Running pip as the 'root' user can result in broken permissions and conflicting behaviour with the system package manager. It is recommended to use a virtual environment instead: https://pip.pypa.io/warnings/venv\u001b[0m\u001b[33m\n",
      "\u001b[0mCollecting tensorflow-probability==0.17\n",
      "  Downloading tensorflow_probability-0.17.0-py2.py3-none-any.whl (6.5 MB)\n",
      "\u001b[2K     \u001b[90m━━━━━━━━━━━━━━━━━━━━━━━━━━━━━━━━━━━━━━━━\u001b[0m \u001b[32m6.5/6.5 MB\u001b[0m \u001b[31m108.8 MB/s\u001b[0m eta \u001b[36m0:00:00\u001b[0ma \u001b[36m0:00:01\u001b[0m\n",
      "\u001b[?25hRequirement already satisfied: cloudpickle>=1.3 in /usr/local/lib/python3.9/dist-packages (from tensorflow-probability==0.17) (2.1.0)\n",
      "Requirement already satisfied: numpy>=1.13.3 in /usr/local/lib/python3.9/dist-packages (from tensorflow-probability==0.17) (1.23.1)\n",
      "Requirement already satisfied: gast>=0.3.2 in /usr/local/lib/python3.9/dist-packages (from tensorflow-probability==0.17) (0.4.0)\n",
      "Requirement already satisfied: decorator in /usr/local/lib/python3.9/dist-packages (from tensorflow-probability==0.17) (5.1.1)\n",
      "Requirement already satisfied: absl-py in /usr/local/lib/python3.9/dist-packages (from tensorflow-probability==0.17) (1.1.0)\n",
      "Requirement already satisfied: dm-tree in /usr/local/lib/python3.9/dist-packages (from tensorflow-probability==0.17) (0.1.7)\n",
      "Requirement already satisfied: six>=1.10.0 in /usr/lib/python3/dist-packages (from tensorflow-probability==0.17) (1.14.0)\n",
      "Installing collected packages: tensorflow-probability\n",
      "Successfully installed tensorflow-probability-0.17.0\n",
      "\u001b[33mWARNING: Running pip as the 'root' user can result in broken permissions and conflicting behaviour with the system package manager. It is recommended to use a virtual environment instead: https://pip.pypa.io/warnings/venv\u001b[0m\u001b[33m\n",
      "\u001b[0mCollecting lark==1.1.2\n",
      "  Downloading lark-1.1.2-py2.py3-none-any.whl (104 kB)\n",
      "\u001b[2K     \u001b[90m━━━━━━━━━━━━━━━━━━━━━━━━━━━━━━━━━━━━━━\u001b[0m \u001b[32m104.7/104.7 kB\u001b[0m \u001b[31m25.7 MB/s\u001b[0m eta \u001b[36m0:00:00\u001b[0m\n",
      "\u001b[?25hInstalling collected packages: lark\n",
      "Successfully installed lark-1.1.2\n",
      "\u001b[33mWARNING: Running pip as the 'root' user can result in broken permissions and conflicting behaviour with the system package manager. It is recommended to use a virtual environment instead: https://pip.pypa.io/warnings/venv\u001b[0m\u001b[33m\n",
      "\u001b[0mCollecting git+https://github.com/blackjax-devs/blackjax.git\n",
      "  Cloning https://github.com/blackjax-devs/blackjax.git to /tmp/pip-req-build-o6ob54og\n",
      "  Running command git clone --filter=blob:none --quiet https://github.com/blackjax-devs/blackjax.git /tmp/pip-req-build-o6ob54og\n",
      "  Resolved https://github.com/blackjax-devs/blackjax.git to commit becd2d20b987cb496f873d84fa4f6265f17d4483\n",
      "  Preparing metadata (setup.py) ... \u001b[?25ldone\n",
      "\u001b[?25hCollecting fastprogress>=0.2.0\n",
      "  Downloading fastprogress-1.0.3-py3-none-any.whl (12 kB)\n",
      "Requirement already satisfied: jax>=0.3.13 in /usr/local/lib/python3.9/dist-packages (from blackjax==0.9.6+47.gbecd2d2) (0.3.24)\n",
      "Requirement already satisfied: jaxlib>=0.3.10 in /usr/local/lib/python3.9/dist-packages (from blackjax==0.9.6+47.gbecd2d2) (0.3.24+cuda11.cudnn82)\n",
      "Collecting jaxopt>=0.5.5\n",
      "  Downloading jaxopt-0.5.5-py3-none-any.whl (132 kB)\n",
      "\u001b[2K     \u001b[90m━━━━━━━━━━━━━━━━━━━━━━━━━━━━━━━━━━━━━━\u001b[0m \u001b[32m132.3/132.3 kB\u001b[0m \u001b[31m26.8 MB/s\u001b[0m eta \u001b[36m0:00:00\u001b[0m\n",
      "\u001b[?25hRequirement already satisfied: numpy>=1.20 in /usr/local/lib/python3.9/dist-packages (from jax>=0.3.13->blackjax==0.9.6+47.gbecd2d2) (1.23.1)\n",
      "Requirement already satisfied: opt-einsum in /usr/local/lib/python3.9/dist-packages (from jax>=0.3.13->blackjax==0.9.6+47.gbecd2d2) (3.3.0)\n",
      "Requirement already satisfied: scipy>=1.5 in /usr/local/lib/python3.9/dist-packages (from jax>=0.3.13->blackjax==0.9.6+47.gbecd2d2) (1.8.1)\n",
      "Requirement already satisfied: typing-extensions in /usr/local/lib/python3.9/dist-packages (from jax>=0.3.13->blackjax==0.9.6+47.gbecd2d2) (4.3.0)\n",
      "Requirement already satisfied: matplotlib>=2.0.1 in /usr/local/lib/python3.9/dist-packages (from jaxopt>=0.5.5->blackjax==0.9.6+47.gbecd2d2) (3.5.2)\n",
      "Requirement already satisfied: absl-py>=0.7.0 in /usr/local/lib/python3.9/dist-packages (from jaxopt>=0.5.5->blackjax==0.9.6+47.gbecd2d2) (1.1.0)\n",
      "Requirement already satisfied: python-dateutil>=2.7 in /usr/local/lib/python3.9/dist-packages (from matplotlib>=2.0.1->jaxopt>=0.5.5->blackjax==0.9.6+47.gbecd2d2) (2.8.2)\n",
      "Requirement already satisfied: pillow>=6.2.0 in /usr/local/lib/python3.9/dist-packages (from matplotlib>=2.0.1->jaxopt>=0.5.5->blackjax==0.9.6+47.gbecd2d2) (9.2.0)\n",
      "Requirement already satisfied: packaging>=20.0 in /usr/local/lib/python3.9/dist-packages (from matplotlib>=2.0.1->jaxopt>=0.5.5->blackjax==0.9.6+47.gbecd2d2) (21.3)\n",
      "Requirement already satisfied: fonttools>=4.22.0 in /usr/local/lib/python3.9/dist-packages (from matplotlib>=2.0.1->jaxopt>=0.5.5->blackjax==0.9.6+47.gbecd2d2) (4.34.4)\n",
      "Requirement already satisfied: kiwisolver>=1.0.1 in /usr/local/lib/python3.9/dist-packages (from matplotlib>=2.0.1->jaxopt>=0.5.5->blackjax==0.9.6+47.gbecd2d2) (1.4.3)\n",
      "Requirement already satisfied: cycler>=0.10 in /usr/local/lib/python3.9/dist-packages (from matplotlib>=2.0.1->jaxopt>=0.5.5->blackjax==0.9.6+47.gbecd2d2) (0.11.0)\n",
      "Requirement already satisfied: pyparsing>=2.2.1 in /usr/local/lib/python3.9/dist-packages (from matplotlib>=2.0.1->jaxopt>=0.5.5->blackjax==0.9.6+47.gbecd2d2) (3.0.9)\n",
      "Requirement already satisfied: six>=1.5 in /usr/lib/python3/dist-packages (from python-dateutil>=2.7->matplotlib>=2.0.1->jaxopt>=0.5.5->blackjax==0.9.6+47.gbecd2d2) (1.14.0)\n",
      "Building wheels for collected packages: blackjax\n",
      "  Building wheel for blackjax (setup.py) ... \u001b[?25ldone\n",
      "\u001b[?25h  Created wheel for blackjax: filename=blackjax-0.9.6+47.gbecd2d2-py3-none-any.whl size=114162 sha256=0052c8c53637aa02b2619daacbfb97a4ce963bae34756cd8b2374f9c7d64bb4e\n",
      "  Stored in directory: /tmp/pip-ephem-wheel-cache-oysdcekx/wheels/e6/1e/f6/a6e0408a4e374b9cdb789b1769716b4ed61eef520a2dd702b1\n",
      "Successfully built blackjax\n",
      "Installing collected packages: fastprogress, jaxopt, blackjax\n",
      "Successfully installed blackjax-0.9.6+47.gbecd2d2 fastprogress-1.0.3 jaxopt-0.5.5\n",
      "\u001b[33mWARNING: Running pip as the 'root' user can result in broken permissions and conflicting behaviour with the system package manager. It is recommended to use a virtual environment instead: https://pip.pypa.io/warnings/venv\u001b[0m\u001b[33m\n",
      "Get:1 http://security.ubuntu.com/ubuntu focal-security InRelease [114 kB]\n",
      "Get:2 https://deb.nodesource.com/node_16.x focal InRelease [4583 B]            \u001b[0m\u001b[33m\n",
      "Get:3 http://archive.ubuntu.com/ubuntu focal InRelease [265 kB]                \u001b[0m\u001b[33m\n",
      "Get:4 http://archive.ubuntu.com/ubuntu focal-updates InRelease [114 kB]        \u001b[33m\n",
      "Get:5 http://security.ubuntu.com/ubuntu focal-security/multiverse amd64 Packages [27.5 kB]\n",
      "Get:6 http://archive.ubuntu.com/ubuntu focal-backports InRelease [108 kB]      \u001b[0m\u001b[33m\n",
      "Get:7 http://security.ubuntu.com/ubuntu focal-security/universe amd64 Packages [931 kB]\n",
      "Get:8 http://ppa.launchpad.net/deadsnakes/ppa/ubuntu focal InRelease [18.1 kB]\n",
      "Get:9 http://security.ubuntu.com/ubuntu focal-security/main amd64 Packages [2269 kB]\n",
      "Get:10 http://security.ubuntu.com/ubuntu focal-security/restricted amd64 Packages [1661 kB]3m\n",
      "Get:11 http://archive.ubuntu.com/ubuntu focal/restricted amd64 Packages [33.4 kB]0m\u001b[33m\u001b[33m\n",
      "Get:12 http://archive.ubuntu.com/ubuntu focal/main amd64 Packages [1275 kB]    \u001b[0m\u001b[33m\n",
      "Get:13 http://archive.ubuntu.com/ubuntu focal/universe amd64 Packages [11.3 MB]m\u001b[33m\n",
      "Get:14 http://archive.ubuntu.com/ubuntu focal/multiverse amd64 Packages [177 kB][0m\u001b[33m\u001b[33m\n",
      "Get:15 http://archive.ubuntu.com/ubuntu focal-updates/restricted amd64 Packages [1778 kB]\n",
      "Get:16 http://archive.ubuntu.com/ubuntu focal-updates/main amd64 Packages [2738 kB]\u001b[33m\n",
      "Get:17 http://archive.ubuntu.com/ubuntu focal-updates/multiverse amd64 Packages [30.2 kB]\n",
      "Get:18 http://archive.ubuntu.com/ubuntu focal-updates/universe amd64 Packages [1229 kB]m\n",
      "Get:19 http://archive.ubuntu.com/ubuntu focal-backports/main amd64 Packages [55.2 kB]m\n",
      "Get:20 http://archive.ubuntu.com/ubuntu focal-backports/universe amd64 Packages [27.5 kB]\n",
      "Get:21 https://deb.nodesource.com/node_16.x focal/main amd64 Packages [774 B]  \u001b[0m\u001b[33m\n",
      "Get:22 http://ppa.launchpad.net/deadsnakes/ppa/ubuntu focal/main amd64 Packages [29.4 kB]\n",
      "Fetched 24.2 MB in 1s (18.2 MB/s)[33m                        \u001b[0m\u001b[33m\u001b[33m\u001b[33m\u001b[33m\u001b[33m\n",
      "Reading package lists... Done\n",
      "Building dependency tree       \n",
      "Reading state information... Done\n",
      "100 packages can be upgraded. Run 'apt list --upgradable' to see them.\n",
      "Reading package lists... Done\n",
      "Building dependency tree       \n",
      "Reading state information... Done\n",
      "The following additional packages will be installed:\n",
      "  fonts-liberation libann0 libcdt5 libcgraph6 libgts-0.7-5 libgts-bin libgvc6\n",
      "  libgvpr2 liblab-gamut1 libpathplan4\n",
      "Suggested packages:\n",
      "  gsfonts graphviz-doc\n",
      "The following NEW packages will be installed:\n",
      "  fonts-liberation graphviz libann0 libcdt5 libcgraph6 libgts-0.7-5 libgts-bin\n",
      "  libgvc6 libgvpr2 liblab-gamut1 libpathplan4\n",
      "0 upgraded, 11 newly installed, 0 to remove and 100 not upgraded.\n",
      "Need to get 2701 kB of archives.\n",
      "After this operation, 11.3 MB of additional disk space will be used.\n",
      "Get:1 http://archive.ubuntu.com/ubuntu focal/main amd64 fonts-liberation all 1:1.07.4-11 [822 kB]\n",
      "Get:2 http://archive.ubuntu.com/ubuntu focal/universe amd64 libann0 amd64 1.1.2+doc-7build1 [26.0 kB]\n",
      "Get:3 http://archive.ubuntu.com/ubuntu focal/universe amd64 libcdt5 amd64 2.42.2-3build2 [18.7 kB]\n",
      "Get:4 http://archive.ubuntu.com/ubuntu focal/universe amd64 libcgraph6 amd64 2.42.2-3build2 [41.3 kB]\n",
      "Get:5 http://archive.ubuntu.com/ubuntu focal/universe amd64 libgts-0.7-5 amd64 0.7.6+darcs121130-4 [150 kB]\n",
      "Get:6 http://archive.ubuntu.com/ubuntu focal/universe amd64 libpathplan4 amd64 2.42.2-3build2 [21.9 kB]\n",
      "Get:7 http://archive.ubuntu.com/ubuntu focal/universe amd64 libgvc6 amd64 2.42.2-3build2 [647 kB]\n",
      "Get:8 http://archive.ubuntu.com/ubuntu focal/universe amd64 libgvpr2 amd64 2.42.2-3build2 [167 kB]\n",
      "Get:9 http://archive.ubuntu.com/ubuntu focal/universe amd64 liblab-gamut1 amd64 2.42.2-3build2 [177 kB]\n",
      "Get:10 http://archive.ubuntu.com/ubuntu focal/universe amd64 graphviz amd64 2.42.2-3build2 [590 kB]\n",
      "Get:11 http://archive.ubuntu.com/ubuntu focal/universe amd64 libgts-bin amd64 0.7.6+darcs121130-4 [41.3 kB]\n",
      "Fetched 2701 kB in 1s (2965 kB/s)      \u001b[0m\u001b[33m\n",
      "\n",
      "\u001b7\u001b[0;23r\u001b8\u001b[1ASelecting previously unselected package fonts-liberation.\n",
      "(Reading database ... 78556 files and directories currently installed.)\n",
      "Preparing to unpack .../00-fonts-liberation_1%3a1.07.4-11_all.deb ...\n",
      "\u001b7\u001b[24;0f\u001b[42m\u001b[30mProgress: [  0%]\u001b[49m\u001b[39m [..........................................................] \u001b8\u001b7\u001b[24;0f\u001b[42m\u001b[30mProgress: [  2%]\u001b[49m\u001b[39m [#.........................................................] \u001b8Unpacking fonts-liberation (1:1.07.4-11) ...\n",
      "\u001b7\u001b[24;0f\u001b[42m\u001b[30mProgress: [  4%]\u001b[49m\u001b[39m [##........................................................] \u001b8Selecting previously unselected package libann0.\n",
      "Preparing to unpack .../01-libann0_1.1.2+doc-7build1_amd64.deb ...\n",
      "\u001b7\u001b[24;0f\u001b[42m\u001b[30mProgress: [  7%]\u001b[49m\u001b[39m [###.......................................................] \u001b8Unpacking libann0 (1.1.2+doc-7build1) ...\n",
      "\u001b7\u001b[24;0f\u001b[42m\u001b[30mProgress: [  9%]\u001b[49m\u001b[39m [#####.....................................................] \u001b8Selecting previously unselected package libcdt5:amd64.\n",
      "Preparing to unpack .../02-libcdt5_2.42.2-3build2_amd64.deb ...\n",
      "\u001b7\u001b[24;0f\u001b[42m\u001b[30mProgress: [ 11%]\u001b[49m\u001b[39m [######....................................................] \u001b8Unpacking libcdt5:amd64 (2.42.2-3build2) ...\n",
      "\u001b7\u001b[24;0f\u001b[42m\u001b[30mProgress: [ 13%]\u001b[49m\u001b[39m [#######...................................................] \u001b8Selecting previously unselected package libcgraph6:amd64.\n",
      "Preparing to unpack .../03-libcgraph6_2.42.2-3build2_amd64.deb ...\n",
      "\u001b7\u001b[24;0f\u001b[42m\u001b[30mProgress: [ 16%]\u001b[49m\u001b[39m [#########.................................................] \u001b8Unpacking libcgraph6:amd64 (2.42.2-3build2) ...\n",
      "\u001b7\u001b[24;0f\u001b[42m\u001b[30mProgress: [ 18%]\u001b[49m\u001b[39m [##########................................................] \u001b8Selecting previously unselected package libgts-0.7-5:amd64.\n",
      "Preparing to unpack .../04-libgts-0.7-5_0.7.6+darcs121130-4_amd64.deb ...\n",
      "\u001b7\u001b[24;0f\u001b[42m\u001b[30mProgress: [ 20%]\u001b[49m\u001b[39m [###########...............................................] \u001b8Unpacking libgts-0.7-5:amd64 (0.7.6+darcs121130-4) ...\n",
      "\u001b7\u001b[24;0f\u001b[42m\u001b[30mProgress: [ 22%]\u001b[49m\u001b[39m [############..............................................] \u001b8Selecting previously unselected package libpathplan4:amd64.\n",
      "Preparing to unpack .../05-libpathplan4_2.42.2-3build2_amd64.deb ...\n",
      "\u001b7\u001b[24;0f\u001b[42m\u001b[30mProgress: [ 24%]\u001b[49m\u001b[39m [##############............................................] \u001b8Unpacking libpathplan4:amd64 (2.42.2-3build2) ...\n",
      "\u001b7\u001b[24;0f\u001b[42m\u001b[30mProgress: [ 27%]\u001b[49m\u001b[39m [###############...........................................] \u001b8Selecting previously unselected package libgvc6.\n",
      "Preparing to unpack .../06-libgvc6_2.42.2-3build2_amd64.deb ...\n",
      "\u001b7\u001b[24;0f\u001b[42m\u001b[30mProgress: [ 29%]\u001b[49m\u001b[39m [################..........................................] \u001b8Unpacking libgvc6 (2.42.2-3build2) ...\n",
      "\u001b7\u001b[24;0f\u001b[42m\u001b[30mProgress: [ 31%]\u001b[49m\u001b[39m [##################........................................] \u001b8Selecting previously unselected package libgvpr2:amd64.\n",
      "Preparing to unpack .../07-libgvpr2_2.42.2-3build2_amd64.deb ...\n",
      "\u001b7\u001b[24;0f\u001b[42m\u001b[30mProgress: [ 33%]\u001b[49m\u001b[39m [###################.......................................] \u001b8Unpacking libgvpr2:amd64 (2.42.2-3build2) ...\n",
      "\u001b7\u001b[24;0f\u001b[42m\u001b[30mProgress: [ 36%]\u001b[49m\u001b[39m [####################......................................] \u001b8Selecting previously unselected package liblab-gamut1:amd64.\n",
      "Preparing to unpack .../08-liblab-gamut1_2.42.2-3build2_amd64.deb ...\n",
      "\u001b7\u001b[24;0f\u001b[42m\u001b[30mProgress: [ 38%]\u001b[49m\u001b[39m [#####################.....................................] \u001b8Unpacking liblab-gamut1:amd64 (2.42.2-3build2) ...\n",
      "\u001b7\u001b[24;0f\u001b[42m\u001b[30mProgress: [ 40%]\u001b[49m\u001b[39m [#######################...................................] \u001b8Selecting previously unselected package graphviz.\n",
      "Preparing to unpack .../09-graphviz_2.42.2-3build2_amd64.deb ...\n",
      "\u001b7\u001b[24;0f\u001b[42m\u001b[30mProgress: [ 42%]\u001b[49m\u001b[39m [########################..................................] \u001b8Unpacking graphviz (2.42.2-3build2) ...\n",
      "\u001b7\u001b[24;0f\u001b[42m\u001b[30mProgress: [ 44%]\u001b[49m\u001b[39m [#########################.................................] \u001b8Selecting previously unselected package libgts-bin.\n",
      "Preparing to unpack .../10-libgts-bin_0.7.6+darcs121130-4_amd64.deb ...\n",
      "\u001b7\u001b[24;0f\u001b[42m\u001b[30mProgress: [ 47%]\u001b[49m\u001b[39m [###########################...............................] \u001b8Unpacking libgts-bin (0.7.6+darcs121130-4) ...\n",
      "\u001b7\u001b[24;0f\u001b[42m\u001b[30mProgress: [ 49%]\u001b[49m\u001b[39m [############################..............................] \u001b8Setting up liblab-gamut1:amd64 (2.42.2-3build2) ...\n",
      "\u001b7\u001b[24;0f\u001b[42m\u001b[30mProgress: [ 51%]\u001b[49m\u001b[39m [#############################.............................] \u001b8\u001b7\u001b[24;0f\u001b[42m\u001b[30mProgress: [ 53%]\u001b[49m\u001b[39m [##############################............................] \u001b8Setting up libgts-0.7-5:amd64 (0.7.6+darcs121130-4) ...\n",
      "\u001b7\u001b[24;0f\u001b[42m\u001b[30mProgress: [ 56%]\u001b[49m\u001b[39m [################################..........................] \u001b8\u001b7\u001b[24;0f\u001b[42m\u001b[30mProgress: [ 58%]\u001b[49m\u001b[39m [#################################.........................] \u001b8Setting up libpathplan4:amd64 (2.42.2-3build2) ...\n",
      "\u001b7\u001b[24;0f\u001b[42m\u001b[30mProgress: [ 60%]\u001b[49m\u001b[39m [##################################........................] \u001b8\u001b7\u001b[24;0f\u001b[42m\u001b[30mProgress: [ 62%]\u001b[49m\u001b[39m [####################################......................] \u001b8Setting up libann0 (1.1.2+doc-7build1) ...\n",
      "\u001b7\u001b[24;0f\u001b[42m\u001b[30mProgress: [ 64%]\u001b[49m\u001b[39m [#####################################.....................] \u001b8\u001b7\u001b[24;0f\u001b[42m\u001b[30mProgress: [ 67%]\u001b[49m\u001b[39m [######################################....................] \u001b8Setting up fonts-liberation (1:1.07.4-11) ...\n",
      "\u001b7\u001b[24;0f\u001b[42m\u001b[30mProgress: [ 69%]\u001b[49m\u001b[39m [#######################################...................] \u001b8\u001b7\u001b[24;0f\u001b[42m\u001b[30mProgress: [ 71%]\u001b[49m\u001b[39m [#########################################.................] \u001b8Setting up libcdt5:amd64 (2.42.2-3build2) ...\n",
      "\u001b7\u001b[24;0f\u001b[42m\u001b[30mProgress: [ 73%]\u001b[49m\u001b[39m [##########################################................] \u001b8\u001b7\u001b[24;0f\u001b[42m\u001b[30mProgress: [ 76%]\u001b[49m\u001b[39m [###########################################...............] \u001b8Setting up libcgraph6:amd64 (2.42.2-3build2) ...\n",
      "\u001b7\u001b[24;0f\u001b[42m\u001b[30mProgress: [ 78%]\u001b[49m\u001b[39m [#############################################.............] \u001b8\u001b7\u001b[24;0f\u001b[42m\u001b[30mProgress: [ 80%]\u001b[49m\u001b[39m [##############################################............] \u001b8Setting up libgts-bin (0.7.6+darcs121130-4) ...\n",
      "\u001b7\u001b[24;0f\u001b[42m\u001b[30mProgress: [ 82%]\u001b[49m\u001b[39m [###############################################...........] \u001b8\u001b7\u001b[24;0f\u001b[42m\u001b[30mProgress: [ 84%]\u001b[49m\u001b[39m [################################################..........] \u001b8Setting up libgvc6 (2.42.2-3build2) ...\n",
      "\u001b7\u001b[24;0f\u001b[42m\u001b[30mProgress: [ 87%]\u001b[49m\u001b[39m [##################################################........] \u001b8\u001b7\u001b[24;0f\u001b[42m\u001b[30mProgress: [ 89%]\u001b[49m\u001b[39m [###################################################.......] \u001b8Setting up libgvpr2:amd64 (2.42.2-3build2) ...\n",
      "\u001b7\u001b[24;0f\u001b[42m\u001b[30mProgress: [ 91%]\u001b[49m\u001b[39m [####################################################......] \u001b8\u001b7\u001b[24;0f\u001b[42m\u001b[30mProgress: [ 93%]\u001b[49m\u001b[39m [######################################################....] \u001b8Setting up graphviz (2.42.2-3build2) ...\n",
      "\u001b7\u001b[24;0f\u001b[42m\u001b[30mProgress: [ 96%]\u001b[49m\u001b[39m [#######################################################...] \u001b8\u001b7\u001b[24;0f\u001b[42m\u001b[30mProgress: [ 98%]\u001b[49m\u001b[39m [########################################################..] \u001b8Processing triggers for libc-bin (2.31-0ubuntu9.7) ...\n",
      "Processing triggers for man-db (2.9.1-1) ...\n",
      "Processing triggers for fontconfig (2.13.1-2ubuntu3) ...\n",
      "\n",
      "Reading package lists... Done\n",
      "Building dependency tree       \n",
      "Reading state information... Done\n",
      "The following additional packages will be installed:\n",
      "  swig4.0\n",
      "Suggested packages:\n",
      "  swig-doc swig-examples swig4.0-examples swig4.0-doc\n",
      "The following NEW packages will be installed:\n",
      "  swig swig4.0\n",
      "0 upgraded, 2 newly installed, 0 to remove and 100 not upgraded.\n",
      "Need to get 1086 kB of archives.\n",
      "After this operation, 5413 kB of additional disk space will be used.\n",
      "Get:1 http://archive.ubuntu.com/ubuntu focal/universe amd64 swig4.0 amd64 4.0.1-5build1 [1081 kB]\n",
      "Get:2 http://archive.ubuntu.com/ubuntu focal/universe amd64 swig all 4.0.1-5build1 [5528 B]\n",
      "Fetched 1086 kB in 1s (1276 kB/s)\n",
      "Selecting previously unselected package swig4.0.\n",
      "(Reading database ... 78769 files and directories currently installed.)\n",
      "Preparing to unpack .../swig4.0_4.0.1-5build1_amd64.deb ...\n",
      "Unpacking swig4.0 (4.0.1-5build1) ...\n",
      "Selecting previously unselected package swig.\n",
      "Preparing to unpack .../swig_4.0.1-5build1_all.deb ...\n",
      "Unpacking swig (4.0.1-5build1) ...\n",
      "Setting up swig4.0 (4.0.1-5build1) ...\n",
      "Setting up swig (4.0.1-5build1) ...\n",
      "Processing triggers for man-db (2.9.1-1) ...\n",
      "Collecting smac\n",
      "  Downloading smac-1.4.0.tar.gz (202 kB)\n",
      "\u001b[2K     \u001b[90m━━━━━━━━━━━━━━━━━━━━━━━━━━━━━━━━━━━━━━\u001b[0m \u001b[32m202.9/202.9 kB\u001b[0m \u001b[31m32.1 MB/s\u001b[0m eta \u001b[36m0:00:00\u001b[0m\n",
      "\u001b[?25h  Installing build dependencies ... \u001b[?25ldone\n",
      "\u001b[?25h  Getting requirements to build wheel ... \u001b[?25ldone\n",
      "\u001b[?25h  Preparing metadata (pyproject.toml) ... \u001b[?25ldone\n",
      "\u001b[?25hCollecting distributed\n",
      "  Downloading distributed-2022.10.2-py3-none-any.whl (918 kB)\n",
      "\u001b[2K     \u001b[90m━━━━━━━━━━━━━━━━━━━━━━━━━━━━━━━━━━━━━\u001b[0m \u001b[32m918.2/918.2 kB\u001b[0m \u001b[31m103.6 MB/s\u001b[0m eta \u001b[36m0:00:00\u001b[0m\n",
      "\u001b[?25hCollecting dask\n",
      "  Downloading dask-2022.10.2-py3-none-any.whl (1.1 MB)\n",
      "\u001b[2K     \u001b[90m━━━━━━━━━━━━━━━━━━━━━━━━━━━━━━━━━━━━━━━━\u001b[0m \u001b[32m1.1/1.1 MB\u001b[0m \u001b[31m103.6 MB/s\u001b[0m eta \u001b[36m0:00:00\u001b[0m\n",
      "\u001b[?25hCollecting ConfigSpace>=0.5.0\n",
      "  Downloading ConfigSpace-0.6.0-cp39-cp39-manylinux_2_17_x86_64.manylinux2014_x86_64.whl (5.6 MB)\n",
      "\u001b[2K     \u001b[90m━━━━━━━━━━━━━━━━━━━━━━━━━━━━━━━━━━━━━━━━\u001b[0m \u001b[32m5.6/5.6 MB\u001b[0m \u001b[31m126.9 MB/s\u001b[0m eta \u001b[36m0:00:00\u001b[0m00:01\u001b[0m\n",
      "\u001b[?25hCollecting pynisher<1.0.0\n",
      "  Downloading pynisher-0.6.4.tar.gz (11 kB)\n",
      "  Preparing metadata (setup.py) ... \u001b[?25ldone\n",
      "\u001b[?25hRequirement already satisfied: numpy>=1.7.1 in /usr/local/lib/python3.9/dist-packages (from smac) (1.23.1)\n",
      "Requirement already satisfied: scikit-learn>=0.22.0 in /usr/local/lib/python3.9/dist-packages (from smac) (1.1.1)\n",
      "Requirement already satisfied: scipy>=1.7.0 in /usr/local/lib/python3.9/dist-packages (from smac) (1.8.1)\n",
      "Collecting emcee>=3.0.0\n",
      "  Downloading emcee-3.1.3-py2.py3-none-any.whl (46 kB)\n",
      "\u001b[2K     \u001b[90m━━━━━━━━━━━━━━━━━━━━━━━━━━━━━━━━━━━━━━━━\u001b[0m \u001b[32m46.2/46.2 kB\u001b[0m \u001b[31m18.1 MB/s\u001b[0m eta \u001b[36m0:00:00\u001b[0m\n",
      "\u001b[?25hRequirement already satisfied: regex in /usr/local/lib/python3.9/dist-packages (from smac) (2022.7.9)\n",
      "Requirement already satisfied: joblib in /usr/local/lib/python3.9/dist-packages (from smac) (1.1.0)\n",
      "Collecting pyrfr>=0.8.3\n",
      "  Downloading pyrfr-0.8.3-cp39-cp39-manylinux_2_17_x86_64.manylinux2014_x86_64.whl (4.5 MB)\n",
      "\u001b[2K     \u001b[90m━━━━━━━━━━━━━━━━━━━━━━━━━━━━━━━━━━━━━━━━\u001b[0m \u001b[32m4.5/4.5 MB\u001b[0m \u001b[31m124.5 MB/s\u001b[0m eta \u001b[36m0:00:00\u001b[0m00:01\u001b[0m\n",
      "\u001b[?25hRequirement already satisfied: psutil in /usr/local/lib/python3.9/dist-packages (from smac) (5.9.1)\n",
      "Requirement already satisfied: typing-extensions in /usr/local/lib/python3.9/dist-packages (from ConfigSpace>=0.5.0->smac) (4.3.0)\n",
      "Requirement already satisfied: pyparsing in /usr/local/lib/python3.9/dist-packages (from ConfigSpace>=0.5.0->smac) (3.0.9)\n",
      "Requirement already satisfied: cython in /usr/local/lib/python3.9/dist-packages (from ConfigSpace>=0.5.0->smac) (0.29.30)\n",
      "Requirement already satisfied: setuptools in /usr/local/lib/python3.9/dist-packages (from pynisher<1.0.0->smac) (63.1.0)\n",
      "Requirement already satisfied: threadpoolctl>=2.0.0 in /usr/local/lib/python3.9/dist-packages (from scikit-learn>=0.22.0->smac) (3.1.0)\n",
      "Requirement already satisfied: fsspec>=0.6.0 in /usr/local/lib/python3.9/dist-packages (from dask->smac) (2022.5.0)\n",
      "Requirement already satisfied: packaging>=20.0 in /usr/local/lib/python3.9/dist-packages (from dask->smac) (21.3)\n",
      "Collecting partd>=0.3.10\n",
      "  Downloading partd-1.3.0-py3-none-any.whl (18 kB)\n",
      "Requirement already satisfied: cloudpickle>=1.1.1 in /usr/local/lib/python3.9/dist-packages (from dask->smac) (2.1.0)\n",
      "Requirement already satisfied: click>=7.0 in /usr/local/lib/python3.9/dist-packages (from dask->smac) (8.1.3)\n",
      "Requirement already satisfied: toolz>=0.8.2 in /usr/local/lib/python3.9/dist-packages (from dask->smac) (0.12.0)\n",
      "Requirement already satisfied: pyyaml>=5.3.1 in /usr/local/lib/python3.9/dist-packages (from dask->smac) (5.4.1)\n",
      "Collecting msgpack>=0.6.0\n",
      "  Downloading msgpack-1.0.4-cp39-cp39-manylinux_2_17_x86_64.manylinux2014_x86_64.whl (322 kB)\n",
      "\u001b[2K     \u001b[90m━━━━━━━━━━━━━━━━━━━━━━━━━━━━━━━━━━━━━━\u001b[0m \u001b[32m322.4/322.4 kB\u001b[0m \u001b[31m76.0 MB/s\u001b[0m eta \u001b[36m0:00:00\u001b[0m\n",
      "\u001b[?25hRequirement already satisfied: urllib3 in /usr/local/lib/python3.9/dist-packages (from distributed->smac) (1.26.10)\n",
      "Requirement already satisfied: jinja2 in /usr/local/lib/python3.9/dist-packages (from distributed->smac) (3.1.2)\n",
      "Collecting zict>=0.1.3\n",
      "  Downloading zict-2.2.0-py2.py3-none-any.whl (23 kB)\n",
      "Collecting locket>=1.0.0\n",
      "  Downloading locket-1.0.0-py2.py3-none-any.whl (4.4 kB)\n",
      "Collecting tornado<6.2,>=6.0.3\n",
      "  Downloading tornado-6.1-cp39-cp39-manylinux2010_x86_64.whl (427 kB)\n",
      "\u001b[2K     \u001b[90m━━━━━━━━━━━━━━━━━━━━━━━━━━━━━━━━━━━━━━\u001b[0m \u001b[32m427.2/427.2 kB\u001b[0m \u001b[31m88.1 MB/s\u001b[0m eta \u001b[36m0:00:00\u001b[0m\n",
      "\u001b[?25hCollecting sortedcontainers!=2.0.0,!=2.0.1\n",
      "  Downloading sortedcontainers-2.4.0-py2.py3-none-any.whl (29 kB)\n",
      "Collecting tblib>=1.6.0\n",
      "  Downloading tblib-1.7.0-py2.py3-none-any.whl (12 kB)\n",
      "Collecting heapdict\n",
      "  Downloading HeapDict-1.0.1-py3-none-any.whl (3.9 kB)\n",
      "Requirement already satisfied: MarkupSafe>=2.0 in /usr/local/lib/python3.9/dist-packages (from jinja2->distributed->smac) (2.1.1)\n",
      "Building wheels for collected packages: smac, pynisher\n",
      "  Building wheel for smac (pyproject.toml) ... \u001b[?25ldone\n",
      "\u001b[?25h  Created wheel for smac: filename=smac-1.4.0-py3-none-any.whl size=262348 sha256=3885051043e491b735e7f3d50c9d798f1aaa1f3d9c7f9b9d72968fca8810aa93\n",
      "  Stored in directory: /root/.cache/pip/wheels/98/cc/e7/d683d9404760c4701ea2f64faaf689a8de718f701de63e71ea\n",
      "  Building wheel for pynisher (setup.py) ... \u001b[?25ldone\n",
      "\u001b[?25h  Created wheel for pynisher: filename=pynisher-0.6.4-py3-none-any.whl size=7026 sha256=3e8f4331dc62e3dffb68196f07a91884a33aaaf75f4229688691493cab05d62e\n",
      "  Stored in directory: /root/.cache/pip/wheels/1d/de/5e/d4947b76b76ba27581d1e09f395eca1583a802203a41c04873\n",
      "Successfully built smac pynisher\n",
      "Installing collected packages: sortedcontainers, msgpack, heapdict, zict, tornado, tblib, pyrfr, pynisher, locket, emcee, partd, ConfigSpace, dask, distributed, smac\n",
      "  Attempting uninstall: tornado\n",
      "    Found existing installation: tornado 6.2\n",
      "    Uninstalling tornado-6.2:\n",
      "      Successfully uninstalled tornado-6.2\n",
      "Successfully installed ConfigSpace-0.6.0 dask-2022.10.2 distributed-2022.10.2 emcee-3.1.3 heapdict-1.0.1 locket-1.0.0 msgpack-1.0.4 partd-1.3.0 pynisher-0.6.4 pyrfr-0.8.3 smac-1.4.0 sortedcontainers-2.4.0 tblib-1.7.0 tornado-6.1 zict-2.2.0\n",
      "\u001b[33mWARNING: Running pip as the 'root' user can result in broken permissions and conflicting behaviour with the system package manager. It is recommended to use a virtual environment instead: https://pip.pypa.io/warnings/venv\u001b[0m\u001b[33m\n",
      "\u001b[0mCollecting graphviz\n",
      "  Downloading graphviz-0.20.1-py3-none-any.whl (47 kB)\n",
      "\u001b[2K     \u001b[90m━━━━━━━━━━━━━━━━━━━━━━━━━━━━━━━━━━━━━━━━\u001b[0m \u001b[32m47.0/47.0 kB\u001b[0m \u001b[31m17.0 MB/s\u001b[0m eta \u001b[36m0:00:00\u001b[0m\n",
      "\u001b[?25hInstalling collected packages: graphviz\n",
      "Successfully installed graphviz-0.20.1\n",
      "\u001b[33mWARNING: Running pip as the 'root' user can result in broken permissions and conflicting behaviour with the system package manager. It is recommended to use a virtual environment instead: https://pip.pypa.io/warnings/venv\u001b[0m\u001b[33m\n",
      "\u001b[0mCollecting gplearn\n",
      "  Downloading gplearn-0.4.2-py3-none-any.whl (25 kB)\n",
      "Requirement already satisfied: joblib>=1.0.0 in /usr/local/lib/python3.9/dist-packages (from gplearn) (1.1.0)\n",
      "Requirement already satisfied: scikit-learn>=1.0.2 in /usr/local/lib/python3.9/dist-packages (from gplearn) (1.1.1)\n",
      "Requirement already satisfied: scipy>=1.3.2 in /usr/local/lib/python3.9/dist-packages (from scikit-learn>=1.0.2->gplearn) (1.8.1)\n",
      "Requirement already satisfied: threadpoolctl>=2.0.0 in /usr/local/lib/python3.9/dist-packages (from scikit-learn>=1.0.2->gplearn) (3.1.0)\n",
      "Requirement already satisfied: numpy>=1.17.3 in /usr/local/lib/python3.9/dist-packages (from scikit-learn>=1.0.2->gplearn) (1.23.1)\n",
      "Installing collected packages: gplearn\n",
      "Successfully installed gplearn-0.4.2\n",
      "\u001b[33mWARNING: Running pip as the 'root' user can result in broken permissions and conflicting behaviour with the system package manager. It is recommended to use a virtual environment instead: https://pip.pypa.io/warnings/venv\u001b[0m\u001b[33m\n",
      "\u001b[0m"
     ]
    }
   ],
   "source": [
    "!pip install -U jax[cuda112]==0.3.17 -f https://storage.googleapis.com/jax-releases/jax_cuda_releases.html\n",
    "!pip install -U jaxlib[cuda112]==0.3.17 -f https://storage.googleapis.com/jax-releases/jax_cuda_releases.html\n",
    "!pip install optax\n",
    "!pip install dm-haiku\n",
    "!pip install tensorflow-probability==0.17\n",
    "!pip install lark==1.1.2\n",
    "!pip install git+https://github.com/blackjax-devs/blackjax.git\n",
    "!apt update\n",
    "!apt install -y graphviz\n",
    "!apt-get -y install swig\n",
    "!pip install smac\n",
    "!pip install graphviz\n",
    "!pip install gplearn"
   ]
  },
  {
   "cell_type": "code",
   "execution_count": 2,
   "metadata": {
    "collapsed": false,
    "pycharm": {
     "name": "#%%\n"
    }
   },
   "outputs": [],
   "source": [
    "import os\n",
    "os.environ[\"XLA_PYTHON_CLIENT_PREALLOCATE\"] = \"False\"\n",
    "os.environ[\"XLA_PYTHON_CLIENT_ALLOCATOR\"] = \"platform\"\n",
    "SERVER = 1"
   ]
  },
  {
   "cell_type": "code",
   "execution_count": 3,
   "metadata": {
    "collapsed": false,
    "pycharm": {
     "name": "#%%\n"
    }
   },
   "outputs": [],
   "source": [
    "if not SERVER:\n",
    "    %cd /home/xabush/code/snet/moses-incons-pen-xp/notebooks/variable_selection/cancer/nn\n",
    "import jax\n",
    "import haiku as hk\n",
    "import jax.numpy as jnp\n",
    "import numpy as np\n",
    "import matplotlib.pyplot as plt\n",
    "from sklearn.datasets import make_moons\n",
    "import blackjax\n",
    "import tensorflow_probability.substrates.jax as tfp\n",
    "tfd = tfp.distributions\n",
    "from functools import partial\n",
    "import pandas as pd\n",
    "from sklearn.metrics import roc_auc_score\n",
    "from sklearn.model_selection import train_test_split\n",
    "from nn_util import *\n",
    "from gibbs_sampler import *\n",
    "plt.style.use('ggplot')\n",
    "%load_ext autoreload"
   ]
  },
  {
   "cell_type": "code",
   "execution_count": 4,
   "metadata": {
    "collapsed": false,
    "pycharm": {
     "name": "#%%\n"
    }
   },
   "outputs": [
    {
     "data": {
      "text/plain": [
       "'gpu'"
      ]
     },
     "execution_count": 4,
     "metadata": {},
     "output_type": "execute_result"
    }
   ],
   "source": [
    "jax.default_backend()"
   ]
  },
  {
   "cell_type": "code",
   "execution_count": 5,
   "metadata": {
    "collapsed": false,
    "pycharm": {
     "name": "#%%\n"
    }
   },
   "outputs": [],
   "source": [
    "if SERVER:\n",
    "    data_dir = \".\"\n",
    "else:\n",
    "    data_dir = \"/home/xabush/code/snet/moses-incons-pen-xp/data\""
   ]
  },
  {
   "cell_type": "markdown",
   "metadata": {},
   "source": [
    "### Load Data"
   ]
  },
  {
   "cell_type": "code",
   "execution_count": 6,
   "metadata": {
    "collapsed": false,
    "pycharm": {
     "name": "#%%\n"
    }
   },
   "outputs": [],
   "source": [
    "p = 100\n",
    "seeds, data_dfs, net_dfs, feat_ls = load_bmm_files(f\"{data_dir}/bmm_data_thr_5_F_8_f{p}\")"
   ]
  },
  {
   "cell_type": "code",
   "execution_count": 7,
   "metadata": {
    "collapsed": false,
    "pycharm": {
     "name": "#%%\n"
    }
   },
   "outputs": [
    {
     "name": "stdout",
     "output_type": "stream",
     "text": [
      "seed: 220\n"
     ]
    }
   ],
   "source": [
    "%autoreload\n",
    "seed_idx = 6\n",
    "seed, net, data = prepare_data(seeds, seed_idx, data_dfs, net_dfs, test_size=0.2, out_val_size=0.4)\n",
    "print(f\"seed: {seed}\")\n",
    "X_train, X_out_val, X_test, y_train, y_out_val, y_test = data\n",
    "# X_train, X_out_val, y_train, y_out_val = train_test_split(X_train, y_train, test_size=0.2, stratify=y_train, random_state=seed, shuffle=True)\n",
    "X_train, X_test, y_train, y_test = jax.device_put(X_train), jax.device_put(X_test), \\\n",
    "                                   jax.device_put(y_train), jax.device_put(y_test)\n",
    "\n",
    "X_out_val, y_out_val = jax.device_put(X_out_val), jax.device_put(y_out_val)\n",
    "# p = X_train.shape[1]\n",
    "rng_key = jax.random.PRNGKey(seed)"
   ]
  },
  {
   "cell_type": "markdown",
   "metadata": {
    "collapsed": false,
    "pycharm": {
     "name": "#%% md\n"
    }
   },
   "source": [
    "### Baseline Logistic Regression"
   ]
  },
  {
   "cell_type": "code",
   "execution_count": 8,
   "metadata": {
    "collapsed": false,
    "pycharm": {
     "name": "#%%\n"
    }
   },
   "outputs": [],
   "source": [
    "from sklearn.model_selection import GridSearchCV, StratifiedKFold, KFold\n",
    "from sklearn.model_selection import cross_val_score\n",
    "cv = StratifiedKFold(n_splits=5, shuffle=True, random_state=seed)"
   ]
  },
  {
   "cell_type": "code",
   "execution_count": 9,
   "metadata": {
    "collapsed": false,
    "pycharm": {
     "name": "#%%\n"
    }
   },
   "outputs": [
    {
     "name": "stdout",
     "output_type": "stream",
     "text": [
      "Fitting 5 folds for each of 10 candidates, totalling 50 fits\n",
      "cv score: 0.7141653843826707, test_score: 0.6964807962228895\n"
     ]
    }
   ],
   "source": [
    "from sklearn.linear_model import LogisticRegression\n",
    "\n",
    "\n",
    "log_param_grid = {\"C\":np.logspace(-2, 1, 10)}\n",
    "log_grid_cv = GridSearchCV(estimator=LogisticRegression(max_iter=10000), param_grid=log_param_grid, verbose=1, scoring=\"roc_auc\", cv=cv).fit(X_train, y_train)\n",
    "clf = LogisticRegression(max_iter=10000, C=log_grid_cv.best_params_[\"C\"])\n",
    "cv_score = np.mean(cross_val_score(clf, X_train, y_train, scoring=\"roc_auc\", cv=cv))\n",
    "clf.fit(X_train, y_train)\n",
    "test_score = roc_auc_score(y_test, clf.predict_proba(X_test)[:,1])\n",
    "print(f\"cv score: {cv_score}, test_score: {test_score}\")"
   ]
  },
  {
   "cell_type": "markdown",
   "metadata": {},
   "source": [
    "### BNN"
   ]
  },
  {
   "cell_type": "code",
   "execution_count": 18,
   "metadata": {
    "collapsed": false,
    "pycharm": {
     "name": "#%%\n"
    }
   },
   "outputs": [],
   "source": [
    "%autoreload\n",
    "from smac.facade.smac_mf_facade import SMAC4MF\n",
    "from smac.scenario.scenario import Scenario\n",
    "from sklearn.model_selection import cross_val_score, StratifiedKFold\n",
    "from sgmcmc import MixedSGMCMC\n",
    "from run_nn_fisher_test_exp import run_logistic_regression\n",
    "from smac.configspace import ConfigurationSpace\n",
    "from ConfigSpace.hyperparameters import (\n",
    "    CategoricalHyperparameter,\n",
    "    UniformFloatHyperparameter,\n",
    "    UniformIntegerHyperparameter,\n",
    ")\n",
    "\n",
    "from ConfigSpace import InCondition, Configuration\n",
    "\n",
    "\n",
    "\n",
    "def get_configspace(input_size)-> ConfigurationSpace:\n",
    "    # Build Configuration Space which defines all parameters and their ranges.\n",
    "\n",
    "    if input_size == 100:\n",
    "        layer_dims  = [50, 60, 70, 80]\n",
    "    else:\n",
    "        layer_dims = [250, 300, 350, 400]\n",
    "\n",
    "    cs  = ConfigurationSpace()\n",
    "\n",
    "    layer_dim = CategoricalHyperparameter(\"layer_dim\", layer_dims, default_value=layer_dims[0])\n",
    "    activation = CategoricalHyperparameter(\"activation\", [\"relu\", \"tanh\"], default_value=\"tanh\")\n",
    "    # lr_schedule = CategoricalHyperparameter(\"lr_schedule\", [\"cyclical\"], default_value=\"cyclical\")\n",
    "    disc_lr = CategoricalHyperparameter(\"disc_lr\", [1e-5, 1e-4, 1e-3, 1e-2, 1e-1, 0.5] , default_value=1e-1)\n",
    "    contin_lr = CategoricalHyperparameter(\"contin_lr\", [1e-5, 1e-4, 1e-3, 1e-2], default_value=1e-5) #TODO Extend range\n",
    "    # num_cycles = CategoricalHyperparameter(\"num_cycles\", [3, 4, 5], default_value=5)\n",
    "    # beta = CategoricalHyperparameter(\"beta\", [0.5, 0.55, 0.6, 0.65, 0.7, 0.75, 0.8, 0.85, 0.9, 0.95], default_value=0.9)\n",
    "    batch_sze = CategoricalHyperparameter(\"batch_size\", [32, 64, 128, 256], default_value=32)\n",
    "    thinning_interval = CategoricalHyperparameter(\"thinning_interval\", [50, 100, 150, 200], default_value=100)\n",
    "    # eta = UniformFloatHyperparameter(\"eta\", lower=0.1, upper=100., log=True)\n",
    "    eta = CategoricalHyperparameter(\"eta\", [0.1, 1., 5, 10., 50., 100.], default_value=1.)\n",
    "    # mu = UniformFloatHyperparameter(\"mu\", lower=0.1, upper=100, log=True)\n",
    "    mu = CategoricalHyperparameter(\"mu\", [0.1, 1., 5, 10., 50., 100.], default_value=1.)\n",
    "    temp = CategoricalHyperparameter(\"temp\", [1e-3, 1e-2, 1e-1, 0.5,  1.], default_value=1e-1)\n",
    "    sigma = CategoricalHyperparameter(\"sigma\", [1e-3, 1e-2, 1e-1, 0.5, 1., 10.], default_value=1.)\n",
    "    # Add hyper-parameters\n",
    "    cs.add_hyperparameters([layer_dim, activation, disc_lr, contin_lr, eta, mu, temp, sigma, batch_sze, thinning_interval])\n",
    "\n",
    "    # # Cyclical SG-MCMC condition\n",
    "    # use_cycle_len = InCondition(child=cycle_len, parent=lr_schedule, values=[\"cyclical\"])\n",
    "    # use_beta = InCondition(child=beta, parent=lr_schedule, values=[\"cyclical\"])\n",
    "    #\n",
    "    # cs.add_conditions([use_cycle_len, use_beta])\n",
    "\n",
    "    return cs\n",
    "\n",
    "def generate_train_cs(seed, X, y):\n",
    "    cv = StratifiedKFold(n_splits=5, shuffle=True, random_state=seed)\n",
    "    # X_tr, X_val, y_tr, y_val = train_test_split(X, y, stratify=y, test_size=0.1, shuffle=seed)\n",
    "    def train_cs(config: Configuration, budget: int)-> float:\n",
    "\n",
    "        params = {\"disc_lr\": config[\"disc_lr\"], \"contin_lr\": config[\"contin_lr\"], \"batch_size\": config[\"batch_size\"],\n",
    "                  \"mu\": config[\"mu\"], \"eta\": config[\"eta\"], \"temp\": config[\"temp\"],\n",
    "                  \"sigma\": config[\"sigma\"], \"thinning_interval\": config[\"thinning_interval\"]}\n",
    "\n",
    "        # print(params)\n",
    "\n",
    "        mixed_sgmcmc = MixedSGMCMC(seed=seed, n_samples=budget, n_warmup=1000, lr_schedule=\"exponential\",\n",
    "                            n_chains=5, layer_dims=[config[\"layer_dim\"]], **params)\n",
    "\n",
    "        cv_score_1 = np.mean(cross_val_score(mixed_sgmcmc, X, y,  cv=cv, fit_params={\n",
    "            \"activation_fns\": [config[\"activation\"]], \"J\": net\n",
    "        }))\n",
    "\n",
    "\n",
    "        # mixed_sgmcmc.fit(X_tr, y_tr, activation_fns=[config[\"activation\"]], J=net)\n",
    "        # gamma_means = jnp.mean(jnp.mean(mixed_sgmcmc.states_.discrete_position, axis=0), axis=0)\n",
    "        # gamma_means_idx_s = np.argsort(gamma_means)[::-1]\n",
    "        #\n",
    "        # bnn_sel_fts = gamma_means_idx_s[:ft_len]\n",
    "        # #\n",
    "        # X_tr_sel, X_val_sel = X_tr[:,bnn_sel_fts], X_val[:,bnn_sel_fts]\n",
    "        #\n",
    "        # _, _, val_score = run_logistic_regression(X_tr_sel, X_val_sel, y_tr, y_val, cv, verbose=0)\n",
    "\n",
    "        return 1 - (cv_score_1)\n",
    "\n",
    "\n",
    "    return train_cs\n",
    "\n",
    "\n",
    "def optimize_hyper_parameters(seed, X, y, total_time=60):\n",
    "    cs = get_configspace(X.shape[1])\n",
    "    scenario = Scenario({\n",
    "        \"run_obj\": \"quality\",\n",
    "        \"wallclock-limit\": total_time,\n",
    "        \"cs\": cs,\n",
    "        \"deterministic\": True,\n",
    "        \"cutoff\": 10,  # runtime limit for the target algorithm\n",
    "        \"verbose_level\": \"DEBUG\", \n",
    "        \"seed\": seed\n",
    "    })\n",
    "\n",
    "    max_steps = 5000\n",
    "\n",
    "    train_cs = generate_train_cs(seed, X, y)\n",
    "\n",
    "    intensifier_kwargs = {\"initial_budget\": 1500, \"max_budget\": max_steps}\n",
    "\n",
    "    smac = SMAC4MF(scenario=scenario, rng=np.random.RandomState(seed),\n",
    "                   tae_runner=train_cs, intensifier_kwargs=intensifier_kwargs)\n",
    "\n",
    "    tae = smac.get_tae_runner()\n",
    "\n",
    "    try:\n",
    "        incumbent = smac.optimize()\n",
    "\n",
    "    finally:\n",
    "        incumbent = smac.solver.incumbent\n",
    "\n",
    "\n",
    "    inc_val = tae.run(config=incumbent, budget=max_steps, seed=seed)\n",
    "\n",
    "    return incumbent, 1 - inc_val[1], smac\n"
   ]
  },
  {
   "cell_type": "code",
   "execution_count": 232,
   "metadata": {
    "collapsed": false,
    "pycharm": {
     "name": "#%%\n"
    }
   },
   "outputs": [
    {
     "name": "stderr",
     "output_type": "stream",
     "text": [
      "WARNING:smac.utils.io.cmd_reader.CMDReader:Adding unsupported scenario options: {'verbose_level': 'DEBUG', 'seed': 220}\n",
      "/usr/local/lib/python3.9/dist-packages/smac/intensification/parallel_scheduling.py:154: UserWarning: Hyperband is executed with 1 workers only. Consider to use pynisher to use all available workers.\n",
      "  warnings.warn(\n"
     ]
    },
    {
     "data": {
      "text/plain": [
       "0.7264258551052072"
      ]
     },
     "execution_count": 232,
     "metadata": {},
     "output_type": "execute_result"
    }
   ],
   "source": [
    "X_train, X_test, y_train, y_test = jax.device_put(X_train), jax.device_put(X_test), \\\n",
    "                                   jax.device_put(y_train), jax.device_put(y_test)\n",
    "p = X_train.shape[1]\n",
    "rng_key = jax.random.PRNGKey(seed)\n",
    "config, cv_score, smac = optimize_hyper_parameters(seed, X_train, y_train, total_time=180)\n",
    "cv_score"
   ]
  },
  {
   "cell_type": "code",
   "execution_count": 119,
   "metadata": {},
   "outputs": [
    {
     "data": {
      "text/plain": [
       "1000.0"
      ]
     },
     "execution_count": 119,
     "metadata": {},
     "output_type": "execute_result"
    }
   ],
   "source": [
    "smac.get_trajectory()[-1].budget"
   ]
  },
  {
   "cell_type": "code",
   "execution_count": 271,
   "metadata": {},
   "outputs": [
    {
     "data": {
      "text/plain": [
       "Configuration(values={\n",
       "  'activation': 'relu',\n",
       "  'batch_size': 64,\n",
       "  'contin_lr': 0.001,\n",
       "  'disc_lr': 1e-05,\n",
       "  'eta': 10.0,\n",
       "  'layer_dim': 50,\n",
       "  'mu': 5,\n",
       "  'sigma': 10.0,\n",
       "  'temp': 1.0,\n",
       "  'thinning_interval': 100,\n",
       "})"
      ]
     },
     "execution_count": 271,
     "metadata": {},
     "output_type": "execute_result"
    }
   ],
   "source": [
    "config"
   ]
  },
  {
   "cell_type": "code",
   "execution_count": 274,
   "metadata": {},
   "outputs": [
    {
     "name": "stdout",
     "output_type": "stream",
     "text": [
      "Num models: 75\n",
      "0.6897060418578944\n"
     ]
    }
   ],
   "source": [
    "%autoreload\n",
    "from sgmcmc import MixedSGMCMC\n",
    "params = {\"disc_lr\": config[\"disc_lr\"], \"contin_lr\": config[\"contin_lr\"], \"batch_size\": config[\"batch_size\"],\n",
    "          \"mu\": config[\"mu\"], \"eta\": config[\"eta\"], \"temp\": config[\"temp\"],\n",
    "          \"sigma\":config[\"sigma\"], \"thinning_interval\": config[\"thinning_interval\"]}\n",
    "\n",
    "mixed_sgmcmc = MixedSGMCMC(seed=seed, n_samples=2000, n_warmup=500, n_chains=5, lr_schedule=\"exponential\",\n",
    "                     layer_dims=[config[\"layer_dim\"]], **params)\n",
    "\n",
    "# cv_score_bnn = np.mean(cross_val_score(mixed_sgmcmc, X_train, y_train,  cv=cv, fit_params={\n",
    "#             \"activation_fns\": [config[\"activation\"]], \"J\": net\n",
    "#         }))\n",
    "# print(cv_score_bnn)\n",
    "mixed_sgmcmc.fit(X_train, y_train, activation_fns=[config[\"activation\"]], J=net)\n",
    "print(f\"Num models: {mixed_sgmcmc.states_.discrete_position.shape[0]}\")\n",
    "test_score_bnn = mixed_sgmcmc.score(X_test, y_test)\n",
    "\n",
    "print(test_score_bnn)"
   ]
  },
  {
   "cell_type": "code",
   "execution_count": 128,
   "metadata": {},
   "outputs": [],
   "source": [
    "disc_states = mixed_sgmcmc.states_.discrete_position.reshape(mixed_sgmcmc.n_chains, -1,\n",
    "                                         mixed_sgmcmc.states_.discrete_position.shape[-1])\n",
    "contin_states = jax.tree_util.tree_map(lambda x: jnp.moveaxis(x.reshape(mixed_sgmcmc.n_chains, -1, x.shape[-1]), 0, 1), mixed_sgmcmc.states_.contin_position)"
   ]
  },
  {
   "cell_type": "code",
   "execution_count": 31,
   "metadata": {
    "collapsed": false,
    "pycharm": {
     "name": "#%%\n"
    }
   },
   "outputs": [
    {
     "ename": "",
     "evalue": "",
     "output_type": "error",
     "traceback": [
      "\u001b[1;31mThe Kernel crashed while executing code in the the current cell or a previous cell. Please review the code in the cell(s) to identify a possible cause of the failure. Click <a href='https://aka.ms/vscodeJupyterKernelCrash'>here</a> for more info. View Jupyter <a href='command:jupyter.viewOutput'>log</a> for further details."
     ]
    },
    {
     "ename": "",
     "evalue": "",
     "output_type": "error",
     "traceback": [
      "\u001b[1;31mCanceled future for execute_request message before replies were done"
     ]
    }
   ],
   "source": [
    "contin_states = tree_utils.tree_unstack(mixed_sgmcmc.states_.contin_position)\n",
    "disc_states = mixed_sgmcmc.states_.discrete_position\n",
    "\n",
    "disc_logprior_fn = generate_disc_logprior_fn(net, mixed_sgmcmc.eta, mixed_sgmcmc.mu)\n",
    "contin_logprior_fn = generate_contin_logprior_fn(mixed_sgmcmc.sigma)\n",
    "\n",
    "contin_log_probs = []\n",
    "disc_log_probs = []\n",
    "log_lls = []\n",
    "\n",
    "for c in range(mixed_sgmcmc.n_chains):\n",
    "    chain_disc_log_probs = []\n",
    "    chain_contin_log_probs = []\n",
    "    for i in range(len(mixed_sgmcmc.disc_states[c])):\n",
    "        # idxs = jax.random.choice(keys[i], jnp.arange(data_size), (32,), replace=False)\n",
    "        # batches = make_batch(idxs, train_data.x, train_data.y)\n",
    "        chain_disc_log_probs.append(disc_logprior_fn(mixed_sgmcmc.disc_states[c][i]))\n",
    "        chain_contin_log_probs.append(contin_logprior_fn(mixed_sgmcmc.contin_states[c][i]))\n",
    "\n",
    "    disc_log_probs.append(chain_disc_log_probs)\n",
    "    contin_log_probs.append(chain_contin_log_probs)\n",
    "    # log_lls.append(mixed_loglikelihood_fn(sgmcmc.model_, sgmcmc.contin_states[i], batches, sgmcmc.disc_states[i]))\n",
    "\n",
    "fig, (ax1, ax2) = plt.subplots(1, 2, figsize=(24, 12))\n",
    "\n",
    "for c in range(mixed_sgmcmc.n_chains):\n",
    "    ax1.plot(disc_log_probs[c], label=f\"chain {c + 1} Disc logprob\")\n",
    "    ax2.plot(contin_log_probs[c], label=f\"chain {c + 1} Contin logprob\")\n",
    "# ax2[0].plot(log_lls, label=f\"log LL\")\n",
    "\n",
    "ax1.set_title(f\"Disc lr: {config_1['disc_lr']:.3f}\")\n",
    "ax2.set_title(f\"Contin lr: {config_1['contin_lr']:.5f}\")\n",
    "\n",
    "ax1.legend()\n",
    "ax2.legend()"
   ]
  },
  {
   "cell_type": "code",
   "execution_count": 193,
   "metadata": {
    "collapsed": false,
    "pycharm": {
     "name": "#%%\n"
    }
   },
   "outputs": [
    {
     "data": {
      "text/plain": [
       "Text(0, 0.5, 'num features')"
      ]
     },
     "execution_count": 193,
     "metadata": {},
     "output_type": "execute_result"
    },
    {
     "data": {
      "image/png": "[encoded data removed]",
      "text/plain": [
       "<Figure size 432x288 with 1 Axes>"
      ]
     },
     "metadata": {
      "needs_background": "light"
     },
     "output_type": "display_data"
    }
   ],
   "source": [
    "gamma_means = jnp.mean(mixed_sgmcmc.states_.discrete_position, axis=0)\n",
    "gamma_means_idx_s = np.argsort(gamma_means)[::-1]\n",
    "plt.hist(gamma_means)\n",
    "plt.xlabel(\"frequency\")\n",
    "plt.ylabel(\"num features\")"
   ]
  },
  {
   "cell_type": "code",
   "execution_count": 241,
   "metadata": {
    "collapsed": false,
    "pycharm": {
     "name": "#%%\n"
    }
   },
   "outputs": [
    {
     "name": "stdout",
     "output_type": "stream",
     "text": [
      "{'C': 0.046415888336127774}\n"
     ]
    },
    {
     "data": {
      "text/html": [
       "<div>\n",
       "<style scoped>\n",
       "    .dataframe tbody tr th:only-of-type {\n",
       "        vertical-align: middle;\n",
       "    }\n",
       "\n",
       "    .dataframe tbody tr th {\n",
       "        vertical-align: top;\n",
       "    }\n",
       "\n",
       "    .dataframe thead th {\n",
       "        text-align: right;\n",
       "    }\n",
       "</style>\n",
       "<table border=\"1\" class=\"dataframe\">\n",
       "  <thead>\n",
       "    <tr style=\"text-align: right;\">\n",
       "      <th></th>\n",
       "      <th>seed</th>\n",
       "      <th>feat_sel</th>\n",
       "      <th>num_feats</th>\n",
       "      <th>cv_score</th>\n",
       "      <th>test_score</th>\n",
       "    </tr>\n",
       "  </thead>\n",
       "  <tbody>\n",
       "    <tr>\n",
       "      <th>0</th>\n",
       "      <td>220</td>\n",
       "      <td>bnn</td>\n",
       "      <td>5</td>\n",
       "      <td>0.503485</td>\n",
       "      <td>0.516591</td>\n",
       "    </tr>\n",
       "    <tr>\n",
       "      <th>1</th>\n",
       "      <td>220</td>\n",
       "      <td>bnn</td>\n",
       "      <td>10</td>\n",
       "      <td>0.681925</td>\n",
       "      <td>0.677579</td>\n",
       "    </tr>\n",
       "    <tr>\n",
       "      <th>2</th>\n",
       "      <td>220</td>\n",
       "      <td>bnn</td>\n",
       "      <td>15</td>\n",
       "      <td>0.693534</td>\n",
       "      <td>0.665701</td>\n",
       "    </tr>\n",
       "  </tbody>\n",
       "</table>\n",
       "</div>"
      ],
      "text/plain": [
       "   seed feat_sel  num_feats  cv_score  test_score\n",
       "0   220      bnn          5  0.503485    0.516591\n",
       "1   220      bnn         10  0.681925    0.677579\n",
       "2   220      bnn         15  0.693534    0.665701"
      ]
     },
     "execution_count": 241,
     "metadata": {},
     "output_type": "execute_result"
    }
   ],
   "source": [
    "%autoreload\n",
    "from tqdm import tqdm\n",
    "from sgmcmc import MixedSGMCMC\n",
    "from run_nn_fisher_test_exp import run_logistic_regression\n",
    "\n",
    "X, y = data_dfs[seed_idx].iloc[:,:-1].to_numpy().astype(float), \\\n",
    "       data_dfs[seed_idx].iloc[:,-1].to_numpy().astype(float)\n",
    "\n",
    "net = net_dfs[seed_idx].to_numpy()\n",
    "\n",
    "X_train, X_test, y_train, y_test = train_test_split(X, y, random_state=seed, shuffle=True, stratify=y, test_size=0.3)\n",
    "\n",
    "X_train, X_test, y_train, y_test = jax.device_put(X_train), jax.device_put(X_test), \\\n",
    "                                   jax.device_put(y_train), jax.device_put(y_test)\n",
    "\n",
    "\n",
    "rand_v_bnn_sel_fts_dict = {\"seed\": [], \"feat_sel\": [], \"num_feats\": [], \"cv_score\": [], \"test_score\": []}\n",
    "\n",
    "all_feats = np.arange(p - 1)\n",
    "\n",
    "feat_lens = [5, 10, 15]\n",
    "\n",
    "cv = StratifiedKFold(random_state=seed, shuffle=True, n_splits=5)\n",
    "log_best_params, _, _ = run_logistic_regression(X_train, X_test, y_train, y_test, cv, verbose=0)\n",
    "print(log_best_params)\n",
    "log_clf = LogisticRegression(max_iter=10000, **log_best_params)\n",
    "log_clf.fit(X_train, y_train)\n",
    "\n",
    "log_coef = log_clf.coef_[0]\n",
    "\n",
    "log_coef_sorted = np.argsort(log_coef)[::-1]\n",
    "\n",
    "# # print(gamma_means)\n",
    "#\n",
    "# X_train, X_test, y_train, y_test = train_test_split(X, y, random_state=seed, shuffle=True, stratify=y, test_size=0.3)\n",
    "\n",
    "rng_key = jax.random.PRNGKey(seed)\n",
    "\n",
    "for ft_len in feat_lens:\n",
    "    # rand_sel_fts = jax.random.choice(rng_key, all_feats, (ft_len,), replace=False)\n",
    "    #\n",
    "    # X_train_rand_sel, X_test_rand_sel = X_train[:,rand_sel_fts], X_test[:,rand_sel_fts]\n",
    "    #\n",
    "    # _, rand_cv_score, rand_test_score = run_logistic_regression(X_train_rand_sel, X_test_rand_sel,\n",
    "    #                                                            y_train, y_test, cv, verbose=0)\n",
    "    #\n",
    "    # log_sel_fts = log_coef_sorted[:ft_len]\n",
    "    #\n",
    "    # X_train_log_sel, X_test_log_sel, = X_train[:,log_sel_fts], X_test[:,log_sel_fts]\n",
    "    #\n",
    "    # _, log_cv_score, log_test_score = run_logistic_regression(X_train_log_sel, X_test_log_sel,\n",
    "    #                                                          y_train, y_test, cv, verbose=0)\n",
    "\n",
    "    bnn_sel_fts = gamma_means_idx_s[:ft_len]\n",
    "\n",
    "    X_train_sel, X_test_sel = X_train[:,bnn_sel_fts], X_test[:,bnn_sel_fts]\n",
    "\n",
    "    _, bnn_cv_score, bnn_test_score = run_logistic_regression(X_train_sel, X_test_sel,\n",
    "                                                     y_train, y_test, cv, verbose=0)\n",
    "\n",
    "    # rand_v_bnn_sel_fts_dict[\"seed\"].append(seed)\n",
    "    # rand_v_bnn_sel_fts_dict[\"feat_sel\"].append(\"random\")\n",
    "    # rand_v_bnn_sel_fts_dict[\"num_feats\"].append(ft_len)\n",
    "    # rand_v_bnn_sel_fts_dict[\"cv_score\"].append(rand_cv_score)\n",
    "    # rand_v_bnn_sel_fts_dict[\"test_score\"].append(rand_test_score)\n",
    "\n",
    "\n",
    "    rand_v_bnn_sel_fts_dict[\"seed\"].append(seed)\n",
    "    rand_v_bnn_sel_fts_dict[\"feat_sel\"].append(\"bnn\")\n",
    "    rand_v_bnn_sel_fts_dict[\"num_feats\"].append(ft_len)\n",
    "    rand_v_bnn_sel_fts_dict[\"cv_score\"].append(bnn_cv_score)\n",
    "    rand_v_bnn_sel_fts_dict[\"test_score\"].append(bnn_test_score)\n",
    "\n",
    "        # rand_v_bnn_sel_fts_dict[\"seed\"].append(seed)\n",
    "        # rand_v_bnn_sel_fts_dict[\"feat_sel\"].append(\"lr\")\n",
    "        # rand_v_bnn_sel_fts_dict[\"num_feats\"].append(ft_len)\n",
    "        # # rand_v_bnn_sel_fts_dict[\"kernel\"].append(svm_log_params[\"kernel\"])\n",
    "        # rand_v_bnn_sel_fts_dict[\"cv_score\"].append(log_cv_score)\n",
    "        # rand_v_bnn_sel_fts_dict[\"test_score\"].append(log_test_score)\n",
    "\n",
    "\n",
    "rand_v_bnn_sel_fts_df = pd.DataFrame(rand_v_bnn_sel_fts_dict)\n",
    "rand_v_bnn_sel_fts_df"
   ]
  },
  {
   "cell_type": "markdown",
   "metadata": {
    "collapsed": false,
    "pycharm": {
     "name": "#%% md\n"
    }
   },
   "source": [
    "### Variable Elimination"
   ]
  },
  {
   "cell_type": "code",
   "execution_count": 24,
   "metadata": {
    "collapsed": false,
    "pycharm": {
     "name": "#%%\n"
    }
   },
   "outputs": [],
   "source": [
    "%autoreload\n",
    "from operator import itemgetter\n",
    "from tqdm import tqdm\n",
    "\n",
    "def evaluate_bnn(model, X, y, params, gammas):\n",
    "    eval_fn = lambda p, g: model.apply(p, X, g).ravel()\n",
    "    logits = jax.vmap(eval_fn)(params, gammas)\n",
    "    logits = logits.reshape(-1, logits.shape[-1])\n",
    "    losses = jax.vmap(optax.sigmoid_binary_cross_entropy, in_axes=(0, None))(logits, y)\n",
    "    mean_loss = jnp.mean(losses, axis=-1)\n",
    "    return jnp.sum(mean_loss)\n",
    "\n",
    "def get_feats_dropout_loss(sgmcmc, X, y):\n",
    "    var_loss_dict = {\"feats_idx\": [], \"num_models\": [] , \"loss_on\": [], \"loss_off\": [], \"loss_diff\": []}\n",
    "    # disc_states = sgmcmc.states_.discrete_position.reshape(-1, sgmcmc.states_.discrete_position.shape[-1])\n",
    "    disc_states = sgmcmc.states_.discrete_position\n",
    "    contin_states = tree_utils.tree_unstack(sgmcmc.states_.contin_position)\n",
    "\n",
    "    num_models = disc_states.shape[0]\n",
    "\n",
    "    p = X.shape[1]\n",
    "\n",
    "    for idx in range(p):\n",
    "        # idx = feats_idx[i]\n",
    "        idx_on = np.argwhere(disc_states[:,idx] == 1.).ravel()\n",
    "        loss_on, loss_off = 0., 0.\n",
    "        if idx_on.size == 0: ## irrelevant feature\n",
    "            loss_diff = 1e9\n",
    "        else:\n",
    "            disc_states_on = disc_states[idx_on]\n",
    "            if idx_on.size > 1:\n",
    "                params_on = tree_utils.tree_stack(itemgetter(*idx_on)(contin_states))\n",
    "            else:\n",
    "                params_on = tree_utils.tree_stack([contin_states[idx_on[0]]])\n",
    "            loss_on = evaluate_bnn(sgmcmc.model_, X, y, params_on, disc_states_on)\n",
    "\n",
    "            # Turn-off the variable, and see hwo the loss changes\n",
    "            disc_states_off = disc_states_on.at[:,idx].set(0)\n",
    "            loss_off = evaluate_bnn(sgmcmc.model_, X, y, params_on, disc_states_off)\n",
    "\n",
    "            loss_diff = (loss_on - loss_off) * (len(idx_on) / num_models)\n",
    "\n",
    "\n",
    "        var_loss_dict[\"feats_idx\"].append(idx)\n",
    "        var_loss_dict[\"num_models\"].append(idx_on.size)\n",
    "        var_loss_dict[\"loss_on\"].append(loss_on)\n",
    "        var_loss_dict[\"loss_off\"].append(loss_off)\n",
    "        var_loss_dict[\"loss_diff\"].append(loss_diff)\n",
    "\n",
    "\n",
    "    var_loss_df = pd.DataFrame(var_loss_dict).sort_values(by=\"loss_diff\")\n",
    "\n",
    "    return var_loss_df"
   ]
  },
  {
   "cell_type": "code",
   "execution_count": 107,
   "metadata": {
    "collapsed": false,
    "pycharm": {
     "name": "#%%\n"
    }
   },
   "outputs": [],
   "source": [
    "save_dir_100 = f\"{data_dir}/exp_data_4/bmm/f100\"\n",
    "dropout_loss_df = pd.read_csv(f\"{save_dir_100}/drop_out_loss_s_{seed}.csv\")"
   ]
  },
  {
   "cell_type": "code",
   "execution_count": 236,
   "metadata": {},
   "outputs": [],
   "source": [
    "dropout_loss_df = get_feats_dropout_loss(mixed_sgmcmc, X_train, y_train)"
   ]
  },
  {
   "cell_type": "code",
   "execution_count": 237,
   "metadata": {},
   "outputs": [
    {
     "data": {
      "text/html": [
       "<div>\n",
       "<style scoped>\n",
       "    .dataframe tbody tr th:only-of-type {\n",
       "        vertical-align: middle;\n",
       "    }\n",
       "\n",
       "    .dataframe tbody tr th {\n",
       "        vertical-align: top;\n",
       "    }\n",
       "\n",
       "    .dataframe thead th {\n",
       "        text-align: right;\n",
       "    }\n",
       "</style>\n",
       "<table border=\"1\" class=\"dataframe\">\n",
       "  <thead>\n",
       "    <tr style=\"text-align: right;\">\n",
       "      <th></th>\n",
       "      <th>feats_idx</th>\n",
       "      <th>num_models</th>\n",
       "      <th>loss_on</th>\n",
       "      <th>loss_off</th>\n",
       "      <th>loss_diff</th>\n",
       "    </tr>\n",
       "  </thead>\n",
       "  <tbody>\n",
       "    <tr>\n",
       "      <th>91</th>\n",
       "      <td>91</td>\n",
       "      <td>100</td>\n",
       "      <td>49.446518</td>\n",
       "      <td>69.27913</td>\n",
       "      <td>-19.832611</td>\n",
       "    </tr>\n",
       "    <tr>\n",
       "      <th>57</th>\n",
       "      <td>57</td>\n",
       "      <td>100</td>\n",
       "      <td>49.446518</td>\n",
       "      <td>57.379875</td>\n",
       "      <td>-7.9333572</td>\n",
       "    </tr>\n",
       "    <tr>\n",
       "      <th>92</th>\n",
       "      <td>92</td>\n",
       "      <td>98</td>\n",
       "      <td>48.346237</td>\n",
       "      <td>50.37117</td>\n",
       "      <td>-1.9844342</td>\n",
       "    </tr>\n",
       "    <tr>\n",
       "      <th>80</th>\n",
       "      <td>80</td>\n",
       "      <td>100</td>\n",
       "      <td>49.446518</td>\n",
       "      <td>50.738968</td>\n",
       "      <td>-1.29245</td>\n",
       "    </tr>\n",
       "    <tr>\n",
       "      <th>26</th>\n",
       "      <td>26</td>\n",
       "      <td>100</td>\n",
       "      <td>49.446518</td>\n",
       "      <td>50.721832</td>\n",
       "      <td>-1.2753143</td>\n",
       "    </tr>\n",
       "    <tr>\n",
       "      <th>...</th>\n",
       "      <td>...</td>\n",
       "      <td>...</td>\n",
       "      <td>...</td>\n",
       "      <td>...</td>\n",
       "      <td>...</td>\n",
       "    </tr>\n",
       "    <tr>\n",
       "      <th>38</th>\n",
       "      <td>38</td>\n",
       "      <td>0</td>\n",
       "      <td>0.0</td>\n",
       "      <td>0.0</td>\n",
       "      <td>1000000000.0</td>\n",
       "    </tr>\n",
       "    <tr>\n",
       "      <th>36</th>\n",
       "      <td>36</td>\n",
       "      <td>0</td>\n",
       "      <td>0.0</td>\n",
       "      <td>0.0</td>\n",
       "      <td>1000000000.0</td>\n",
       "    </tr>\n",
       "    <tr>\n",
       "      <th>34</th>\n",
       "      <td>34</td>\n",
       "      <td>0</td>\n",
       "      <td>0.0</td>\n",
       "      <td>0.0</td>\n",
       "      <td>1000000000.0</td>\n",
       "    </tr>\n",
       "    <tr>\n",
       "      <th>44</th>\n",
       "      <td>44</td>\n",
       "      <td>0</td>\n",
       "      <td>0.0</td>\n",
       "      <td>0.0</td>\n",
       "      <td>1000000000.0</td>\n",
       "    </tr>\n",
       "    <tr>\n",
       "      <th>99</th>\n",
       "      <td>99</td>\n",
       "      <td>0</td>\n",
       "      <td>0.0</td>\n",
       "      <td>0.0</td>\n",
       "      <td>1000000000.0</td>\n",
       "    </tr>\n",
       "  </tbody>\n",
       "</table>\n",
       "<p>100 rows × 5 columns</p>\n",
       "</div>"
      ],
      "text/plain": [
       "    feats_idx  num_models    loss_on   loss_off     loss_diff\n",
       "91         91         100  49.446518   69.27913    -19.832611\n",
       "57         57         100  49.446518  57.379875    -7.9333572\n",
       "92         92          98  48.346237   50.37117    -1.9844342\n",
       "80         80         100  49.446518  50.738968      -1.29245\n",
       "26         26         100  49.446518  50.721832    -1.2753143\n",
       "..        ...         ...        ...        ...           ...\n",
       "38         38           0        0.0        0.0  1000000000.0\n",
       "36         36           0        0.0        0.0  1000000000.0\n",
       "34         34           0        0.0        0.0  1000000000.0\n",
       "44         44           0        0.0        0.0  1000000000.0\n",
       "99         99           0        0.0        0.0  1000000000.0\n",
       "\n",
       "[100 rows x 5 columns]"
      ]
     },
     "execution_count": 237,
     "metadata": {},
     "output_type": "execute_result"
    }
   ],
   "source": [
    "dropout_loss_df"
   ]
  },
  {
   "cell_type": "markdown",
   "metadata": {},
   "source": [
    "##### Logistic Regression"
   ]
  },
  {
   "cell_type": "code",
   "execution_count": 249,
   "metadata": {
    "collapsed": false,
    "pycharm": {
     "name": "#%%\n"
    }
   },
   "outputs": [
    {
     "name": "stdout",
     "output_type": "stream",
     "text": [
      "0.7195774231678488\n",
      "0.6639384991227146\n"
     ]
    }
   ],
   "source": [
    "num_fts = 5\n",
    "X_out_val_sel, X_test_sel = X_out_val[:,log_coef_sorted[:num_fts]], X_test[:,log_coef_sorted[:num_fts]]\n",
    "\n",
    "_, val_score, test_score = run_logistic_regression(X_out_val_sel, X_test_sel, y_out_val, y_test, cv)\n",
    "print(val_score)\n",
    "print(test_score)"
   ]
  },
  {
   "cell_type": "code",
   "execution_count": 250,
   "metadata": {
    "collapsed": false,
    "pycharm": {
     "name": "#%%\n"
    }
   },
   "outputs": [
    {
     "data": {
      "text/plain": [
       "array([57, 91, 19,  5, 97])"
      ]
     },
     "execution_count": 250,
     "metadata": {},
     "output_type": "execute_result"
    }
   ],
   "source": [
    "log_coef_sorted[:num_fts]"
   ]
  },
  {
   "cell_type": "code",
   "execution_count": 251,
   "metadata": {
    "collapsed": false,
    "pycharm": {
     "name": "#%%\n"
    }
   },
   "outputs": [
    {
     "name": "stdout",
     "output_type": "stream",
     "text": [
      "0.7056997899902273\n",
      "0.6538351085134253\n"
     ]
    }
   ],
   "source": [
    "from run_nn_fisher_test_exp import run_logistic_regression\n",
    "feats_sel = dropout_loss_df[\"feats_idx\"][:num_fts].to_list()\n",
    "\n",
    "X_train_val_comb, X_test_sel = np.concatenate([X_train, X_out_val], axis=0)[:,feats_sel], X_test[:,feats_sel]\n",
    "y_train_val_comb = np.concatenate([y_train, y_out_val], axis=0)\n",
    "\n",
    "_, val_score, test_score = run_logistic_regression(X_train_val_comb, X_test_sel, y_train_val_comb, y_test, cv)\n",
    "print(val_score)\n",
    "print(test_score)"
   ]
  },
  {
   "cell_type": "code",
   "execution_count": 252,
   "metadata": {},
   "outputs": [
    {
     "data": {
      "text/plain": [
       "[91, 57, 92, 80, 26]"
      ]
     },
     "execution_count": 252,
     "metadata": {},
     "output_type": "execute_result"
    }
   ],
   "source": [
    "feats_sel"
   ]
  },
  {
   "cell_type": "markdown",
   "metadata": {
    "collapsed": false,
    "pycharm": {
     "name": "#%% md\n"
    }
   },
   "source": [
    "### GP Learn"
   ]
  },
  {
   "cell_type": "code",
   "execution_count": 253,
   "metadata": {
    "collapsed": false,
    "pycharm": {
     "name": "#%%\n"
    }
   },
   "outputs": [
    {
     "data": {
      "text/plain": [
       "(315, 5)"
      ]
     },
     "execution_count": 253,
     "metadata": {},
     "output_type": "execute_result"
    }
   ],
   "source": [
    "# ft_len = 20\n",
    "# sel_idx = gamma_means_idx_s[:feats_sel]\n",
    "# sel_idx = log_coef_sorted[:ft_len]\n",
    "X_gp_train, X_gp_val, X_gp_test = X_out_val[:,feats_sel].astype(int), X_train[:,feats_sel].astype(int), X_test[:,feats_sel].astype(int)\n",
    "X_gp_train.shape"
   ]
  },
  {
   "cell_type": "code",
   "execution_count": 14,
   "metadata": {
    "collapsed": false,
    "pycharm": {
     "name": "#%%\n"
    }
   },
   "outputs": [],
   "source": [
    "from gplearn.genetic import SymbolicTransformer, SymbolicClassifier\n",
    "from gplearn.functions import make_function\n",
    "import operator\n",
    "\n",
    "\n",
    "def get_best_programs(gp, num_models, ascending=True, sort_fit=\"OOB_fitness\"):\n",
    "    gp_dict = {'Gen': [], \"Ind\": [], \"Fitness\": [], 'OOB_fitness': []}\n",
    "\n",
    "    for idGen in range(len(gp._programs)):\n",
    "        for idPopulation in range(gp.population_size):\n",
    "            if (gp._programs[idGen][idPopulation] != None):\n",
    "                gp_dict[\"Gen\"].append(idGen)\n",
    "                gp_dict[\"Ind\"].append(idPopulation)\n",
    "                gp_dict[\"Fitness\"].append(gp._programs[idGen][idPopulation].fitness_)\n",
    "                gp_dict[\"OOB_fitness\"].append(gp._programs[idGen][idPopulation].oob_fitness_)\n",
    "\n",
    "    gp_df = pd.DataFrame(gp_dict).sort_values(sort_fit, ascending=ascending)[:num_models]\n",
    "    programs = []\n",
    "    for i in range(num_models):\n",
    "        gen, ind = int(gp_df.iloc[i][\"Gen\"]), int(gp_df.iloc[i][\"Ind\"])\n",
    "        programs.append(gp._programs[gen][ind])\n",
    "\n",
    "    return programs\n",
    "\n",
    "\n",
    "def gp_transform(est, X, classifier=False, num_models=100, sort_fit=\"Fitness\"):\n",
    "    if classifier:\n",
    "        programs = get_best_programs(gp, num_models, classifier, sort_fit)\n",
    "        out = np.zeros((X.shape[0], len(programs)))\n",
    "        for i, prog in enumerate(programs):\n",
    "            out[:, i] = prog.execute(X)\n",
    "\n",
    "        return out\n",
    "\n",
    "    return est.transform(X)\n",
    "\n",
    "\n",
    "function_set = ['add', 'sub', 'mul', 'div', 'sqrt', 'log',\n",
    "                'abs', 'neg', 'inv', 'max', 'min']"
   ]
  },
  {
   "cell_type": "code",
   "execution_count": 255,
   "metadata": {
    "collapsed": false,
    "pycharm": {
     "name": "#%%\n"
    }
   },
   "outputs": [
    {
     "name": "stdout",
     "output_type": "stream",
     "text": [
      "    |   Population Average    |             Best Individual              |\n",
      "---- ------------------------- ------------------------------------------ ----------\n",
      " Gen   Length          Fitness   Length          Fitness      OOB Fitness  Time Left\n",
      "   0    12.92         0.830495        6         0.509506         0.620272      4.09m\n",
      "   1     7.96         0.603489       14         0.477057         0.795524      3.97m\n",
      "   2     7.89         0.579677        3          0.46723         0.713685      3.85m\n",
      "   3     6.19          0.55804        8         0.458254         0.749588      3.94m\n",
      "   4     4.94         0.548983        3         0.469974         0.702709      3.86m\n",
      "   5     4.26          0.54693        3         0.470216         0.701739      3.82m\n",
      "   6     3.95         0.545346        4         0.449821         0.783321      3.79m\n",
      "   7     3.90          0.54423        5          0.46667         0.768218      3.75m\n",
      "   8     3.60         0.544013        5         0.463704         0.780081      3.51m\n",
      "   9     3.62         0.546156        3          0.46797         0.710727      3.51m\n",
      "  10     3.53         0.544534        5         0.465881         0.771373      3.49m\n",
      "  11     3.51          0.54824        3         0.472152         0.693999      3.54m\n",
      "  12     3.34         0.545566        8         0.449636         0.784062      3.60m\n",
      "  13     3.43         0.552366        3         0.472677         0.691896      3.62m\n",
      "  14     3.54         0.548444        5         0.464034         0.778761      3.48m\n",
      "  15     3.49         0.550217        5         0.474703         0.736084      3.53m\n",
      "  16     3.33         0.538254        3         0.467727         0.711697      3.50m\n",
      "  17     3.29         0.543656        3          0.47117         0.697926      3.53m\n",
      "  18     3.42          0.54597        5         0.470939          0.75114      3.65m\n",
      "  19     3.47         0.562762        5         0.467449         0.765102      3.41m\n",
      "  20     3.44         0.572373        3          0.46544         0.720847      3.45m\n",
      "  21     3.25         0.551055        3         0.457047         0.754418      3.47m\n",
      "  22     3.37         0.555811        3         0.465977         0.718697      3.81m\n",
      "  23     3.32         0.542614        5         0.464297         0.777708      3.75m\n",
      "  24     3.57         0.545108        3         0.470245         0.701625      3.50m\n",
      "  25     3.47         0.549635        5         0.457586         0.804553      3.47m\n",
      "  26     3.35         0.556373        3         0.456307         0.757376      3.49m\n",
      "  27     3.50         0.547029        3         0.462309         0.733371      3.56m\n",
      "  28     3.69          0.56271        5         0.474227         0.737989      3.66m\n",
      "  29     3.56         0.545042        3         0.443149         0.810007      3.57m\n",
      "  30     3.44         0.548511        3         0.472677         0.691896      3.59m\n",
      "  31     3.36         0.546594        3         0.474399         0.685011      3.64m\n",
      "  32     3.31         0.573748        3         0.456804         0.755388      3.62m\n",
      "  33     3.33          0.55942        3         0.467727         0.711697      3.47m\n",
      "  34     3.46         0.542501        3         0.453789         0.767448      3.60m\n",
      "  35     3.42         0.544453        5         0.467167          0.76623      3.58m\n",
      "  36     3.47         0.546046        3         0.460772         0.739515      3.52m\n",
      "  37     3.44         0.542275        3         0.442167         0.813935      3.49m\n",
      "  38     3.29         0.542766        3         0.454044         0.766431      3.38m\n",
      "  39     3.50         0.543516        3         0.448597         0.788219      3.47m\n",
      "  40     3.54         0.542774        5         0.459628         0.796387      3.50m\n",
      "  41     3.40         0.547655        3         0.460744          0.73963      3.58m\n",
      "  42     3.41         0.553746        3         0.463718         0.727732      3.52m\n",
      "  43     3.31          0.54453        3         0.446921         0.794923      3.47m\n",
      "  44     3.41          0.54687        3         0.466959         0.714769      3.30m\n",
      "  45     3.27         0.545974        3         0.464001           0.7266      3.27m\n",
      "  46     3.45         0.550788        5         0.463761         0.779852      3.59m\n",
      "  47     3.55         0.554022        5         0.459423         0.797204      3.60m\n",
      "  48     3.49         0.555098        5         0.471252          0.74989      3.45m\n",
      "  49     3.38         0.542825        3         0.456007         0.758575      3.46m\n",
      "  50     3.27         0.543202        3         0.470459         0.700769      3.39m\n",
      "  51     3.30            0.541        3         0.454529         0.764491      3.36m\n",
      "  52     3.28         0.546392        3         0.464001           0.7266      3.41m\n",
      "  53     3.27         0.545018        3         0.469223         0.705715      3.26m\n",
      "  54     3.37         0.547204        5         0.459181         0.798174      3.38m\n",
      "  55     3.43         0.548153        3         0.452651         0.772002      3.35m\n",
      "  56     3.34         0.545626        3          0.46898         0.706685      3.41m\n",
      "  57     3.41          0.55128        3         0.467201         0.713799      3.42m\n",
      "  58     3.40         0.544357        5         0.453365         0.821438      3.20m\n",
      "  59     3.44         0.549343        3         0.462522         0.732515      3.35m\n",
      "  60     3.40         0.567052        5         0.468838         0.759545      3.36m\n",
      "  61     3.52         0.546332        3         0.460304         0.741388      3.20m\n",
      "  62     3.48          0.54516        5         0.458325         0.801596      3.16m\n",
      "  63     3.53          0.54927        3         0.470759          0.69957      3.35m\n",
      "  64     3.26         0.545828        3         0.458797         0.747418      3.25m\n",
      "  65     3.42         0.552041        3          0.45804         0.750443      3.24m\n",
      "  66     3.31         0.544958        3         0.461483         0.736672      3.45m\n",
      "  67     3.44         0.540647        5         0.465191         0.774133      3.45m\n",
      "  68     3.47         0.550581        5         0.469752         0.755888      3.49m\n",
      "  69     3.28         0.542491        3         0.474399         0.685011      3.33m\n",
      "  70     3.46         0.547403        5         0.470463         0.753045      3.29m\n",
      "  71     3.48         0.551788        5         0.455407         0.813267      3.37m\n",
      "  72     3.52         0.561368        3         0.472649         0.692011      3.24m\n",
      "  73     3.30         0.542384        3         0.471724         0.695709      3.17m\n",
      "  74     3.51         0.545989        3         0.471938         0.694854      3.22m\n",
      "  75     3.40         0.545669        3         0.456861         0.755159      3.32m\n",
      "  76     3.50         0.579181        3         0.457572         0.752316      3.34m\n",
      "  77     3.40         0.571043        3         0.453575         0.768304      3.33m\n",
      "  78     3.30         0.541265        3         0.448613         0.788152      3.26m\n",
      "  79     3.43         0.542167        3         0.472435         0.692866      3.26m\n",
      "  80     3.23         0.545564        3         0.466248         0.717612      3.46m\n",
      "  81     3.30         0.586736        3         0.463759          0.72757      3.32m\n",
      "  82     3.34         0.548542        3         0.470216         0.701739      3.25m\n",
      "  83     3.38         0.545216        3          0.46797         0.710727      3.17m\n",
      "  84     3.30         0.556569        3          0.46329         0.729443      3.07m\n",
      "  85     3.29         0.549015        3         0.464769         0.723528      2.98m\n",
      "  86     3.33           0.5498        3          0.44416         0.805965      3.26m\n",
      "  87     3.29         0.547956        3          0.45979         0.743443      3.25m\n",
      "  88     3.17         0.545593        3         0.468894         0.707028      3.00m\n",
      "  89     3.36         0.546147        5         0.469569         0.756622      3.20m\n",
      "  90     3.45          0.54468        3         0.452339         0.773249      3.32m\n",
      "  91     3.36         0.549557        3         0.472123         0.694113      3.20m\n",
      "  92     3.26         0.587205        5         0.462244          0.78592      3.30m\n",
      "  93     3.54         0.617562        3         0.451143         0.778032      3.24m\n",
      "  94     3.44         0.549426        3         0.469448         0.704812      3.12m\n",
      "  95     3.37         0.578819        5         0.454883         0.815366      3.07m\n",
      "  96     3.40         0.553584        3         0.465723         0.719715      3.09m\n",
      "  97     3.50         0.547031        3         0.462009          0.73457      3.11m\n",
      "  98     3.41         0.553745        3         0.462551         0.732401      3.02m\n",
      "  99     3.37         0.554807        3         0.463516          0.72854      2.91m\n",
      " 100     3.29         0.546239        3         0.467727         0.711697      3.04m\n",
      " 101     3.52         0.545349        3         0.470216         0.701739      2.92m\n",
      " 102     3.39         0.543373        3         0.453107         0.770177      2.92m\n",
      " 103     3.64         0.554387        3         0.455325         0.761304      2.93m\n",
      " 104     3.62          0.55041        3         0.464001           0.7266      3.18m\n",
      " 105     3.32          0.54576        3         0.476403         0.676993      3.26m\n",
      " 106     3.44         0.542971        5         0.462555         0.784676      3.24m\n",
      " 107     3.50         0.561834        5         0.461623         0.788407      3.11m\n",
      " 108     3.44         0.543311        3         0.471441         0.696842      3.05m\n",
      " 109     3.56         0.543483        5         0.466417          0.76923      3.11m\n",
      " 110     3.66         0.547919        5         0.464627         0.776389      2.99m\n",
      " 111     3.54         0.545831        5         0.458587         0.800549      2.86m\n",
      " 112     3.45         0.571708        3         0.458312         0.749358      3.01m\n",
      " 113     3.46          0.55512        3         0.464983         0.722672      2.88m\n",
      " 114     3.28         0.544645        3         0.473203         0.689794      3.02m\n",
      " 115     3.21         0.571967        3          0.46723         0.713685      2.96m\n",
      " 116     3.34         0.542616        3         0.459479          0.74469      3.04m\n",
      " 117     3.52         0.569496        3         0.469933         0.702872      3.04m\n",
      " 118     3.36           0.5414        5         0.466262          0.76985      2.92m\n",
      " 119     3.53         0.553489        3         0.453789         0.767448      2.84m\n",
      " 120     3.34         0.546348        5         0.469392         0.757329      2.84m\n",
      " 121     3.56         0.550637        3         0.472406         0.692981      2.95m\n",
      " 122     3.43         0.544945        3         0.467201         0.713799      2.94m\n",
      " 123     3.45         0.542928        3         0.467444         0.712829      2.85m\n",
      " 124     3.45         0.542447        3         0.471695         0.695824      2.88m\n",
      " 125     3.40          0.54349        3         0.464441         0.724842      3.06m\n",
      " 126     3.46         0.552715        3         0.461726         0.735702      3.02m\n",
      " 127     3.56         0.561296        5         0.451847         0.827509      2.91m\n",
      " 128     3.61         0.546161        7         0.464001           0.7266      2.88m\n",
      " 129     3.51         0.548568        5         0.469945         0.702824      2.95m\n",
      " 130     3.61         0.539412        3         0.463262         0.729558      2.96m\n",
      " 131     3.58         0.593569        5          0.46667         0.768218      2.91m\n",
      " 132     3.43         0.541937        3         0.457544         0.752431      2.85m\n",
      " 133     3.37         0.545588        3         0.464926         0.722901      2.78m\n",
      " 134     3.37         0.546892        3         0.474185         0.685866      2.87m\n",
      " 135     3.34         0.546646        5          0.47446         0.737057      2.88m\n",
      " 136     3.49          0.55038        3          0.46723         0.713685      3.07m\n",
      " 137     3.44         0.557519        3         0.458526         0.748503      3.01m\n",
      " 138     3.44         0.553086        3         0.464013         0.726553      2.74m\n",
      " 139     3.27          0.54578        3           0.4612         0.737804      2.75m\n",
      " 140     3.36         0.544853        3         0.449636         0.784062      2.73m\n",
      " 141     3.42         0.543516        5         0.463295         0.781719      2.75m\n",
      " 142     3.50         0.547672        5         0.464442         0.777129      2.72m\n",
      " 143     3.39         0.549122        5         0.460622         0.792411      2.91m\n",
      " 144     3.43         0.546847        5         0.457722          0.80401      2.89m\n",
      " 145     3.56         0.555158        3         0.464769         0.723528      2.74m\n",
      " 146     3.33         0.551345        3         0.463787         0.727456      2.78m\n",
      " 147     3.47         0.549365        3         0.461055         0.738383      2.79m\n",
      " 148     3.41         0.548329        5          0.47305         0.742699      2.63m\n",
      " 149     3.52         0.546894        5         0.472477         0.744989      2.66m\n",
      " 150     3.55         0.544214        3         0.468709         0.707769      2.80m\n",
      " 151     3.53          0.55245        5          0.46633         0.769576      2.82m\n",
      " 152     3.48         0.544671        5         0.452567         0.824628      2.75m\n",
      " 153     3.40         0.549042        5         0.463052         0.782689      2.82m\n",
      " 154     3.56         0.552217        3         0.471412         0.696956      2.83m\n",
      " 155     3.71         0.543828        3         0.471909         0.694969      2.69m\n",
      " 156     3.38         0.541899        3         0.460744          0.73963      2.66m\n",
      " 157     3.43         0.547848        3         0.466248         0.717612      2.78m\n",
      " 158     3.58         0.570675        5         0.468177         0.762188      2.87m\n",
      " 159     3.29         0.546348        3          0.46154         0.736443      2.88m\n",
      " 160     3.25         0.549318        3         0.470216         0.701739      2.63m\n",
      " 161     3.37         0.556335        3         0.472734         0.691667      2.73m\n",
      " 162     3.43         0.570783        5         0.466971         0.767013      2.61m\n",
      " 163     3.51         0.546676        3         0.468409         0.708969      2.71m\n",
      " 164     3.39         0.548288        3         0.462679         0.731889      2.63m\n",
      " 165     3.43         0.562683        3          0.46622         0.717727      2.69m\n",
      " 166     3.38         0.544908        3         0.455325         0.761304      2.74m\n",
      " 167     3.40         0.547015        3         0.466006         0.718582      2.70m\n",
      " 168     3.29         0.546163        5         0.464423         0.777206      2.62m\n",
      " 169     3.36         0.551833        3         0.471384         0.697071      2.55m\n",
      " 170     3.48         0.540722        3         0.454343         0.765231      2.46m\n",
      " 171     3.56          0.55239        3          0.44736         0.793164      2.52m\n",
      " 172     3.48         0.546644        3          0.47218         0.693884      2.46m\n",
      " 173     3.45         0.545114        3         0.474895         0.683023      2.47m\n",
      " 174     3.50         0.555116        5         0.465035         0.774757      2.48m\n",
      " 175     3.52         0.546473        3         0.471227         0.697697      2.43m\n",
      " 176     3.44         0.545797        3         0.476132         0.678078      2.48m\n",
      " 177     3.32         0.548274        3         0.467941         0.710842      2.46m\n",
      " 178     3.46         0.548687        5         0.463606         0.780475      2.55m\n",
      " 179     3.30         0.545511        3         0.466179         0.717889      2.58m\n",
      " 180     3.33         0.552744        3         0.462494          0.73263      2.50m\n",
      " 181     3.29         0.541983        3         0.471667         0.695939      2.46m\n",
      " 182     3.39          0.54394        3         0.466248         0.717612      2.44m\n",
      " 183     3.50         0.561568        3         0.467756         0.711582      2.43m\n",
      " 184     3.29          0.54502        3         0.473688         0.687854      2.45m\n",
      " 185     3.49         0.543852        3         0.462066         0.734341      2.57m\n",
      " 186     3.46         0.552943        3         0.461754         0.735588      2.62m\n",
      " 187     3.24         0.546777        3         0.465566         0.720341      2.45m\n",
      " 188     3.33         0.583216        3         0.454315         0.765346      2.41m\n",
      " 189     3.38         0.543402        3         0.470216         0.701739      2.42m\n",
      " 190     3.27         0.544077        3         0.466688         0.715854      2.42m\n",
      " 191     3.36         0.546749        5           0.4475         0.844899      2.42m\n",
      " 192     3.39         0.552789        5           0.4585         0.800896      2.45m\n",
      " 193     3.36         0.546424        3         0.470984         0.698667      2.48m\n",
      " 194     3.30         0.553235        3          0.46942         0.704926      2.40m\n",
      " 195     3.43          0.54699        5         0.454716         0.816034      2.35m\n",
      " 196     3.44          0.54586        5         0.460062         0.742358      2.33m\n",
      " 197     3.60         0.560107        6         0.463012         0.782848      2.41m\n",
      " 198     3.90         0.556482        6         0.466135         0.770359      2.47m\n",
      " 199     3.60         0.549151        5           0.4713         0.749699      2.46m\n",
      " 200     3.65         0.545067        5         0.442335         0.865558      2.45m\n",
      " 201     3.62         0.566561        3         0.462494          0.73263      2.40m\n",
      " 202     3.58         0.547652        5         0.467741         0.763934      2.40m\n",
      " 203     3.45         0.552999        3         0.473231          0.68968      2.50m\n",
      " 204     3.47         0.547075        3         0.475692         0.679836      2.35m\n",
      " 205     3.56          0.55863        3         0.466006         0.718582      2.35m\n",
      " 206     3.54         0.551042        3         0.466745         0.715625      2.27m\n",
      " 207     3.37         0.546735        3         0.460247         0.741618      2.23m\n",
      " 208     3.29         0.543316        5         0.460572         0.792608      2.24m\n",
      " 209     3.40         0.557311        5         0.468984          0.75896      2.25m\n",
      " 210     3.29         0.546324        3         0.473474         0.688709      2.35m\n",
      " 211     3.26         0.542847        3         0.471695         0.695824      2.37m\n",
      " 212     3.44         0.553921        5         0.455679         0.812183      2.37m\n",
      " 213     3.40          0.55656        3          0.46548         0.720685      2.23m\n",
      " 214     3.40         0.549162        5         0.464802         0.775689      2.34m\n",
      " 215     3.52         0.547125        5         0.456896         0.807314      2.28m\n",
      " 216     3.40         0.541746        5         0.472757          0.74387      2.24m\n",
      " 217     3.54         0.555149        3         0.465948         0.718812      2.20m\n",
      " 218     3.41         0.541545        3         0.460304         0.741388      2.33m\n",
      " 219     3.33         0.553824        3         0.471667         0.695939      2.21m\n",
      " 220     3.45         0.557207        3         0.470188         0.701854      2.32m\n",
      " 221     3.44         0.555961        3         0.472492         0.692637      2.32m\n",
      " 222     3.49         0.544281        3         0.466491         0.716642      2.25m\n",
      " 223     3.44         0.550255        3         0.471938         0.694854      2.38m\n",
      " 224     3.26         0.542853        3         0.466491         0.716642      2.22m\n",
      " 225     3.31         0.543416        3         0.459762         0.743558      2.30m\n",
      " 226     3.37         0.548717        3         0.471695         0.695824      2.20m\n",
      " 227     3.44         0.549464        3         0.471227         0.697697      2.16m\n",
      " 228     3.36         0.545621        3         0.454557         0.764376      2.30m\n",
      " 229     3.31         0.547552        5         0.467284         0.765763      2.21m\n",
      " 230     3.48         0.557765        3         0.464001           0.7266      2.21m\n",
      " 231     3.41         0.560817        3         0.462494          0.73263      2.21m\n",
      " 232     3.43         0.566261        3         0.458554         0.748388      2.14m\n",
      " 233     3.46         0.545045        3         0.466988         0.714655      2.18m\n",
      " 234     3.54         0.553969        3         0.463759          0.72757      2.12m\n",
      " 235     3.44         0.566905        3         0.464955         0.722787      2.27m\n",
      " 236     3.40          0.54969        3          0.45733         0.753286      2.22m\n",
      " 237     3.54         0.548087        3          0.45979         0.743443      2.17m\n",
      " 238     3.48         0.546339        5         0.465395         0.773316      2.16m\n",
      " 239     3.59         0.545852        5         0.458325         0.801596      2.13m\n",
      " 240     3.38         0.548316        3         0.473942         0.686836      2.12m\n",
      " 241     3.38         0.542208        3         0.466705         0.715787      2.00m\n",
      " 242     3.40         0.544279        3         0.454812         0.763358      2.05m\n",
      " 243     3.37         0.540103        5          0.46987         0.755417      2.11m\n",
      " 244     3.36         0.547209        3          0.46868         0.707884      2.09m\n",
      " 245     3.36         0.545579        3         0.465209         0.721769      2.11m\n",
      " 246     3.32         0.570144        3         0.459548         0.744413      2.00m\n",
      " 247     3.31         0.557211        5           0.4741         0.738498      2.08m\n",
      " 248     3.37         0.549509        5         0.467953         0.763085      2.04m\n",
      " 249     3.31         0.544096        3         0.454529         0.764491      2.10m\n",
      " 250     3.45         0.553279        3         0.461015         0.738545      2.04m\n",
      " 251     3.51          0.56011        3         0.461298         0.737413      2.03m\n",
      " 252     3.26         0.548583        5         0.467459         0.765063      2.09m\n",
      " 253     3.38         0.540956        5         0.469364         0.757443      2.02m\n",
      " 254     3.37         0.541132        3         0.466988         0.714655      2.14m\n",
      " 255     3.36         0.548529        5         0.456312         0.809648      2.08m\n",
      " 256     3.38         0.548085        3         0.468709         0.707769      2.02m\n",
      " 257     3.39         0.541435        3         0.473445         0.688824      2.02m\n",
      " 258     3.29         0.546596        3         0.466462         0.716757      1.95m\n",
      " 259     3.39         0.550562        3         0.474341          0.68524      1.94m\n",
      " 260     3.35         0.552839        3         0.468466         0.708739      1.93m\n",
      " 261     3.41         0.547574        5         0.465717         0.772031      1.89m\n",
      " 262     3.39         0.542025        3         0.449664         0.783948      1.97m\n",
      " 263     3.40         0.542884        5         0.472253         0.745886      1.94m\n",
      " 264     3.57         0.549369        3         0.467998         0.710612      1.98m\n",
      " 265     3.53         0.543902        5         0.454949         0.815103      1.98m\n",
      " 266     3.56         0.543333        3         0.470673         0.699914      1.95m\n",
      " 267     3.34         0.546893        3         0.456279         0.757491      1.95m\n",
      " 268     3.42         0.542514        3         0.465723         0.719715      1.83m\n",
      " 269     3.36         0.545887        3          0.46154         0.736443      1.91m\n",
      " 270     3.35         0.546509        3         0.467727         0.711697      1.99m\n",
      " 271     3.42         0.544433        3         0.455568         0.760334      1.90m\n",
      " 272     3.46         0.555472        5         0.463226         0.781992      1.88m\n",
      " 273     3.38         0.541131        3         0.475081         0.682282      1.87m\n",
      " 274     3.58         0.548909        3         0.466676         0.715901      1.83m\n",
      " 275     3.46         0.549141        3         0.472706         0.691782      1.80m\n",
      " 276     3.31         0.550516        5         0.468947         0.759109      1.74m\n",
      " 277     3.44          0.54892        3         0.461269         0.737528      1.74m\n",
      " 278     3.44         0.567836        3         0.469974         0.702709      1.73m\n",
      " 279     3.39         0.548678        3         0.462522         0.732515      1.82m\n",
      " 280     3.45         0.550484        3         0.458029         0.750491      1.89m\n",
      " 281     3.27         0.546404        3         0.465948         0.718812      1.87m\n",
      " 282     3.47         0.546578        3         0.458768         0.747533      1.84m\n",
      " 283     3.41         0.555227        3         0.475109         0.682168      1.85m\n",
      " 284     3.47         0.544409        3         0.459819         0.743329      1.75m\n",
      " 285     3.38         0.546885        3         0.464527         0.724498      1.70m\n",
      " 286     3.50         0.548335        5         0.457178         0.806185      1.71m\n",
      " 287     3.42         0.548785        3         0.464001           0.7266      1.77m\n",
      " 288     3.39         0.547231        3         0.470159         0.701969      1.77m\n",
      " 289     3.28         0.543284        3         0.456776         0.755503      1.77m\n",
      " 290     3.28         0.549338        3         0.458583         0.748274      1.80m\n",
      " 291     3.40         0.545481        3         0.467201         0.713799      1.74m\n",
      " 292     3.32         0.552478        3         0.472734         0.691667      1.82m\n",
      " 293     3.39         0.543384        3         0.477853         0.671193      1.75m\n",
      " 294     3.33         0.548824        5         0.477271         0.725812      1.70m\n",
      " 295     3.37         0.547867        3         0.464741         0.723642      1.77m\n",
      " 296     3.42         0.559495        3         0.456093         0.758231      1.74m\n",
      " 297     3.33         0.540742        3         0.452836         0.771261      1.70m\n",
      " 298     3.41         0.554921        3         0.468951         0.706799      1.70m\n",
      " 299     3.32         0.552696        3         0.470216         0.701739      1.71m\n",
      " 300     3.40         0.551238        3         0.473659         0.687969      1.75m\n",
      " 301     3.38         0.549838        3          0.46723         0.713685      1.69m\n",
      " 302     3.47         0.560183        3         0.462522         0.732515      1.69m\n",
      " 303     3.33         0.550397        3         0.448839         0.787249      1.64m\n",
      " 304     3.43         0.552587        3         0.456562         0.756358      1.61m\n",
      " 305     3.48         0.545496        3         0.462777         0.731498      1.60m\n",
      " 306     3.52         0.553613        3         0.462465         0.732745      1.62m\n",
      " 307     3.35           0.5742        3         0.472221         0.693722      1.63m\n",
      " 308     3.34         0.547935        3         0.467756         0.711582      1.55m\n",
      " 309     3.19          0.54199        3           0.4737         0.687807      1.64m\n",
      " 310     3.30         0.542644        3         0.467998         0.710612      1.57m\n",
      " 311     3.34          0.55547        3         0.471198         0.697812      1.56m\n",
      " 312     3.48         0.539521        5         0.471911         0.747254      1.58m\n",
      " 313     3.48         0.564551        3         0.455794         0.759431      1.56m\n",
      " 314     3.43         0.548613        3         0.461726         0.735702      1.57m\n",
      " 315     3.44           0.5518        3         0.456065         0.758346      1.52m\n",
      " 316     3.37         0.544717        3         0.473942         0.686836      1.57m\n",
      " 317     3.32         0.556858        3         0.467016          0.71454      1.52m\n",
      " 318     3.32         0.547634        3          0.46548         0.720685      1.47m\n",
      " 319     3.28         0.563766        3         0.459265         0.745545      1.51m\n",
      " 320     3.49         0.551765        5         0.469081         0.758572      1.49m\n",
      " 321     3.47         0.541554        3         0.473659         0.687969      1.52m\n",
      " 322     3.40         0.541175        3         0.473203         0.689794      1.49m\n",
      " 323     3.34         0.545689        5         0.462673         0.784206      1.48m\n",
      " 324     3.54         0.541616        3         0.463718         0.727732      1.46m\n",
      " 325     3.35         0.545411        5         0.467963         0.763047      1.43m\n",
      " 326     3.40          0.54538        5         0.469491         0.756934     10.47m\n",
      " 327     3.62         0.545089        5         0.459522         0.796809      1.44m\n",
      " 328     3.37         0.543214        3         0.468738         0.707655      1.46m\n",
      " 329     3.30         0.541434        3         0.466462         0.716757      1.42m\n",
      " 330     3.55         0.545175        3         0.465723         0.719715      1.38m\n",
      " 331     3.69         0.560229        3         0.463019         0.730528      1.42m\n",
      " 332     3.45         0.565468        3         0.452368         0.773134      1.44m\n",
      " 333     3.44          0.56626        3         0.468495         0.708625      1.38m\n",
      " 334     3.45         0.547872        3         0.463262         0.729558      1.35m\n",
      " 335     3.47         0.551929        5         0.466659          0.76826      1.44m\n",
      " 336     3.51         0.549763        3         0.475167         0.681939      1.43m\n",
      " 337     3.26          0.55128        3         0.473203         0.689794      1.41m\n",
      " 338     3.27         0.547376        3         0.458809         0.747371      1.36m\n",
      " 339     3.37         0.543311        3         0.463205         0.729787      1.33m\n",
      " 340     3.29         0.546717        3         0.470188         0.701854      1.42m\n",
      " 341     3.33         0.565574        3         0.473716         0.687739      1.39m\n",
      " 342     3.33          0.54269        5         0.455582         0.812568      1.40m\n",
      " 343     3.44         0.553668        3         0.469691         0.703842      1.38m\n",
      " 344     3.28          0.55334        3         0.453547         0.768418      1.38m\n",
      " 345     3.34         0.547073        5         0.447782          0.84377      1.28m\n",
      " 346     3.23         0.567046        5         0.467331         0.765572      1.28m\n",
      " 347     3.24         0.546317        3         0.473203         0.689794      1.31m\n",
      " 348     3.38          0.55218        3         0.463019         0.730528      1.25m\n",
      " 349     3.37         0.554599        5         0.464802         0.775689      1.28m\n",
      " 350     3.38          0.54266        3         0.473445         0.688824      1.24m\n",
      " 351     3.30         0.542166        3          0.46548         0.720685      1.22m\n",
      " 352     3.32         0.561301        3         0.464429         0.724889      1.30m\n",
      " 353     3.31         0.568445        3         0.466248         0.717612      1.27m\n",
      " 354     3.27         0.546812        3          0.46504         0.722443      1.22m\n",
      " 355     3.30         0.568278        3         0.471667         0.695939      1.21m\n",
      " 356     3.42         0.545886        3         0.471227         0.697697      1.33m\n",
      " 357     3.41         0.547233        3         0.462708         0.731774      1.22m\n",
      " 358     3.26         0.549155        3         0.456804         0.755388      1.25m\n",
      " 359     3.22         0.541096        3         0.463488         0.728655      1.27m\n",
      " 360     3.29         0.546157        3         0.474399         0.685011      1.22m\n",
      " 361     3.37         0.545649        3         0.468495         0.708625      1.18m\n",
      " 362     3.44         0.543932        5         0.446468         0.849024      1.19m\n",
      " 363     3.34         0.549302        3         0.464983         0.722672      1.17m\n",
      " 364     3.40         0.549275        3         0.467727         0.711697      1.17m\n",
      " 365     3.48         0.546357        3         0.461512         0.736558      1.15m\n",
      " 366     3.44         0.545383        3         0.465537         0.720456      1.15m\n",
      " 367     3.33         0.550218        3         0.453547         0.768418      1.09m\n",
      " 368     3.44         0.551516        3         0.455354         0.761189      1.08m\n",
      " 369     3.46         0.546141        3         0.461257         0.737575      1.13m\n",
      " 370     3.40         0.548289        3         0.470944         0.698829      1.15m\n",
      " 371     3.43          0.54722        3         0.464458         0.724774      1.18m\n",
      " 372     3.35         0.553538        3         0.469391         0.705041      1.14m\n",
      " 373     3.53         0.551173        3         0.462251           0.7336      1.07m\n",
      " 374     3.38         0.542604        3         0.465723         0.719715      1.06m\n",
      " 375     3.37         0.572413        3         0.457971          0.75072      1.04m\n",
      " 376     3.42         0.547343        3         0.473445         0.688824      1.03m\n",
      " 377     3.44         0.545002        5         0.469141         0.758333      1.03m\n",
      " 378     3.42          0.56358        5         0.473478         0.740985      1.01m\n",
      " 379     3.49         0.566387        3         0.463262         0.729558      1.02m\n",
      " 380     3.34         0.543775        3         0.473417         0.688939      1.01m\n",
      " 381     3.38         0.545892        3         0.466248         0.717612     59.70s\n",
      " 382     3.16         0.543158        3         0.474953         0.682794     58.22s\n",
      " 383     3.30         0.550365        3          0.46972         0.703727      1.00m\n",
      " 384     3.29         0.546328        3         0.474624         0.684108      1.01m\n",
      " 385     3.30         0.554493        3          0.46868         0.707884      1.00m\n",
      " 386     3.21         0.539862        3         0.469477         0.704697     58.93s\n",
      " 387     3.27         0.546616        5          0.45065         0.832295     59.82s\n",
      " 388     3.44         0.542678        3         0.459108         0.746172     57.12s\n",
      " 389     3.43         0.565726        3         0.466433         0.716872     54.88s\n",
      " 390     3.52         0.546458        5          0.46598         0.770979     58.10s\n",
      " 391     3.54         0.542588        5         0.466601         0.768492     59.37s\n",
      " 392     3.52         0.548217        5         0.459512         0.796851     54.53s\n",
      " 393     3.52         0.544239        5         0.465591         0.772534     53.16s\n",
      " 394     3.43         0.567508        5         0.472077         0.746589     56.72s\n",
      " 395     3.39         0.542668        3          0.45659         0.756244     54.85s\n",
      " 396     3.41         0.548186        3         0.447389          0.79305     55.55s\n",
      " 397     3.27         0.543934        3         0.465226         0.721702     54.28s\n",
      " 398     3.35         0.540292        3         0.462494          0.73263     54.31s\n",
      " 399     3.41         0.546347        3         0.478153         0.669993     52.84s\n",
      " 400     3.38         0.543608        3         0.466519         0.716528     50.11s\n",
      " 401     3.31         0.542921        3         0.473388         0.689053     49.47s\n",
      " 402     3.40          0.55354        3          0.46548         0.720685     49.20s\n",
      " 403     3.31         0.568014        5         0.454687         0.816149     51.95s\n",
      " 404     3.49         0.570262        5          0.46842         0.761218     51.10s\n",
      " 405     3.26         0.544482        3         0.467727         0.711697     50.45s\n",
      " 406     3.31         0.541448        3         0.469477         0.704697     48.10s\n",
      " 407     3.40         0.547424        5         0.469491         0.756934     48.87s\n",
      " 408     3.55         0.546208        3          0.46228         0.733485     51.02s\n",
      " 409     3.37         0.540369        3         0.470701         0.699799     49.06s\n",
      " 410     3.37         0.556327        3         0.468524          0.70851     44.59s\n",
      " 411     3.39         0.553672        3         0.468894         0.707028     46.53s\n",
      " 412     3.46         0.544612        3         0.466462         0.716757     46.61s\n",
      " 413     3.36         0.547495        3          0.45979         0.743443     44.69s\n",
      " 414     3.40         0.556303        3         0.465226         0.721702     46.11s\n",
      " 415     3.39         0.549177        5         0.457254         0.805879     43.68s\n",
      " 416     3.38         0.542878        5         0.471921         0.747212     42.98s\n",
      " 417     3.63         0.557299        5         0.479071         0.718615     45.71s\n",
      " 418     3.68         0.564014        3         0.464741         0.723642     44.58s\n",
      " 419     3.57         0.543777        6         0.468956         0.711755     41.64s\n",
      " 420     3.58         0.539759        5         0.467381         0.765375     40.10s\n",
      " 421     3.53         0.550152        6         0.468016         0.715518     39.90s\n",
      " 422     3.51         0.548645        3          0.46898         0.706685     40.61s\n",
      " 423     3.52          0.56178        3         0.459479          0.74469     38.44s\n",
      " 424     3.48         0.549972        8          0.45985         0.781455     39.96s\n",
      " 425     3.44         0.540484        3         0.473659         0.687969     41.03s\n",
      " 426     3.28         0.543895        3         0.458283         0.749473     39.90s\n",
      " 427     3.33         0.551871        3         0.453818         0.767334     38.96s\n",
      " 428     3.34         0.542065        3         0.466988         0.714655     37.06s\n",
      " 429     3.39         0.564819        3         0.472152         0.693999     36.80s\n",
      " 430     3.37         0.546221        3         0.471667         0.695939     36.85s\n",
      " 431     3.46         0.543974        3          0.47218         0.693884     35.59s\n",
      " 432     3.40         0.541921        3         0.471498         0.696612     35.85s\n",
      " 433     3.34         0.546982        3          0.47437         0.685125     33.85s\n",
      " 434     3.18         0.552401        3          0.47147         0.696727     34.53s\n",
      " 435     3.35         0.543858        5         0.463198         0.782107     34.35s\n",
      " 436     3.33         0.553004        3         0.475877         0.679096     36.03s\n",
      " 437     3.24         0.547542        5         0.463129          0.78238     32.98s\n",
      " 438     3.33         0.545628        3         0.471384         0.697071     31.63s\n",
      " 439     3.38         0.542628        3         0.449381          0.78508     32.07s\n",
      " 440     3.31         0.551218        5          0.46882         0.759618     31.54s\n",
      " 441     3.41         0.545606        3         0.472435         0.692866     31.92s\n",
      " 442     3.45         0.552762        3         0.473174         0.689909     30.88s\n",
      " 443     3.32         0.545831        5         0.464541         0.776735     29.47s\n",
      " 444     3.49         0.544996        3         0.473134         0.690071     28.35s\n",
      " 445     3.43         0.545427        3         0.467756         0.711582     28.68s\n",
      " 446     3.46         0.553026        3         0.469448         0.704812     28.00s\n",
      " 447     3.32         0.558289        5         0.464094         0.778522     28.26s\n",
      " 448     3.47         0.571261        7         0.452068         0.774334     27.35s\n",
      " 449     3.44         0.540035        5         0.468984          0.75896     27.23s\n",
      " 450     3.34         0.546754        3         0.467045         0.714426     25.89s\n",
      " 451     3.54         0.546372        5         0.470833         0.751566     26.50s\n",
      " 452     3.58         0.544693        3          0.45659         0.756244     24.77s\n",
      " 453     3.55         0.574058        5         0.465076         0.774594     24.50s\n",
      " 454     3.53         0.544426        5         0.465376         0.773393     25.07s\n",
      " 455     3.43         0.545235        3         0.463262         0.729558     24.45s\n",
      " 456     3.31         0.543032        5         0.442092         0.866528     23.28s\n",
      " 457     3.37         0.542254        3         0.461754         0.735588     22.46s\n",
      " 458     3.35         0.546584        3         0.464712         0.723757     21.53s\n",
      " 459     3.17          0.54553        3         0.468466         0.708739     20.81s\n",
      " 460     3.29         0.545114        3         0.468241         0.709642     20.93s\n",
      " 461     3.32         0.552339        3         0.470003         0.702595     21.25s\n",
      " 462     3.37         0.555956        3         0.456307         0.757376     20.22s\n",
      " 463     3.56         0.545477        3         0.470927         0.698896     18.98s\n",
      " 464     3.32         0.541295        5         0.458829         0.799579     17.75s\n",
      " 465     3.24         0.548824        5         0.468694         0.760121     18.10s\n",
      " 466     3.35         0.546615        3         0.466619         0.716131     18.46s\n",
      " 467     3.51          0.55153        5         0.441071         0.870615     16.46s\n",
      " 468     3.51         0.545036        3         0.468027         0.710498     15.87s\n",
      " 469     3.34         0.555122        3         0.462991         0.730642     15.55s\n",
      " 470     3.36         0.545341        5         0.470803         0.751687     14.86s\n",
      " 471     3.35          0.54639        3         0.470459         0.700769     14.74s\n",
      " 472     3.31         0.547023        3         0.460033         0.742473     14.24s\n",
      " 473     3.41         0.544844        3         0.458526         0.748503     14.35s\n",
      " 474     3.34          0.54112        3         0.467941         0.710842     13.69s\n",
      " 475     3.35         0.548078        3         0.459577         0.744299     12.74s\n",
      " 476     3.38         0.556548        3         0.467259          0.71357     12.28s\n",
      " 477     3.41         0.548304        3         0.468466         0.708739     11.52s\n",
      " 478     3.45         0.545042        3         0.469391         0.705041     11.17s\n",
      " 479     3.40         0.542642        3          0.47363         0.688083     10.61s\n",
      " 480     3.36         0.542421        3         0.450646          0.78002     10.12s\n",
      " 481     3.43         0.556644        3         0.461783         0.735473      9.69s\n",
      " 482     3.37         0.541303        5          0.47128         0.749775      8.89s\n",
      " 483     3.50         0.552304        5         0.457177         0.806191      8.76s\n",
      " 484     3.42          0.54772        5         0.471017         0.750828      8.38s\n",
      " 485     3.45         0.567777        5         0.459425         0.797197      7.36s\n",
      " 486     3.50         0.543209        3         0.475849          0.67921      6.73s\n",
      " 487     3.40         0.563946        5         0.466836         0.767553      6.20s\n",
      " 488     3.46         0.544124        3         0.465751           0.7196      6.08s\n",
      " 489     3.33         0.541068        3          0.46053         0.740485      5.33s\n",
      " 490     3.29         0.541229        3         0.464244          0.72563      4.72s\n",
      " 491     3.39         0.556839        5         0.460883         0.791365      4.53s\n",
      " 492     3.33         0.547506        3         0.467484         0.712667      3.91s\n",
      " 493     3.61         0.558653        3         0.466277         0.717498      3.34s\n",
      " 494     3.36         0.550062        5         0.471931         0.747174      2.68s\n",
      " 495     3.37         0.543334        5         0.463226         0.781992      2.20s\n",
      " 496     3.47         0.549221        7         0.452254         0.792372      1.67s\n",
      " 497     3.58         0.545486        5         0.462848         0.783506      1.08s\n",
      " 498     3.57          0.54345        3         0.471724         0.695709      0.53s\n",
      " 499     3.57         0.547881        5         0.459979          0.79498      0.00s\n"
     ]
    }
   ],
   "source": [
    "def and_(x1, x2):\n",
    "    return np.logical_and(x1, x2)\n",
    "\n",
    "def or_(x1, x2):\n",
    "    return np.logical_or(x1, x2)\n",
    "\n",
    "def xor_(x1, x2):\n",
    "    return np.logical_xor(x1, x2)\n",
    "\n",
    "def not_(x1):\n",
    "    return np.logical_not(x1)\n",
    "\n",
    "# def if_else_then(x1, x2, x3):\n",
    "#     if x1: return x2\n",
    "#     return x3\n",
    "\n",
    "# and_op = make_function(function=and_, name=\"and_\", arity=2)\n",
    "# or_op = make_function(function=or_, name=\"or_\", arity=2)\n",
    "# xor_op = make_function(function=xor_, name=\"xor_\", arity=2)\n",
    "# not_op = make_function(function=not_, name=\"not_\", arity=1)\n",
    "# if_else_op = make_function(function=if_else_then, name=\"if_else_\", arity=3)\n",
    "\n",
    "# function_set = [and_op, or_op, xor_op, not_op]\n",
    "\n",
    "# gp = SymbolicTransformer(generations=500, population_size=1000, hall_of_fame=100, n_components=10,\n",
    "#                          function_set=function_set, parsimony_coefficient=0.003,\n",
    "#                          random_state=seed, max_samples=0.8, verbose=1,\n",
    "#                          p_crossover=0.7, p_subtree_mutation=0.1, p_hoist_mutation=0.01,\n",
    "#                          p_point_mutation=0.1, p_point_replace=0.05, metric=\"spearman\")\n",
    "\n",
    "gp = SymbolicClassifier(generations=500, population_size=1000,\n",
    "                         function_set=function_set, parsimony_coefficient=0.001,\n",
    "                         random_state=seed, max_samples=0.8, verbose=1,\n",
    "                         p_crossover=0.7, p_subtree_mutation=0.1, p_hoist_mutation=0.01,\n",
    "                         p_point_mutation=0.1, p_point_replace=0.05)\n",
    "\n",
    "gp.fit(X_gp_train, y_out_val)\n",
    "\n",
    "gp_features_val = gp_transform(gp, X_gp_val, classifier=True, sort_fit=\"Fitness\")\n",
    "gp_features_test = gp_transform(gp, X_gp_test, classifier=True, sort_fit=\"Fitness\")"
   ]
  },
  {
   "cell_type": "code",
   "execution_count": 258,
   "metadata": {
    "collapsed": false,
    "pycharm": {
     "name": "#%%\n"
    }
   },
   "outputs": [
    {
     "data": {
      "image/svg+xml": "<?xml version=\"1.0\" encoding=\"UTF-8\" standalone=\"no\"?>\n<!DOCTYPE svg PUBLIC \"-//W3C//DTD SVG 1.1//EN\"\n \"http://www.w3.org/Graphics/SVG/1.1/DTD/svg11.dtd\">\n<!-- Generated by graphviz version 2.43.0 (0)\n -->\n<!-- Title: program Pages: 1 -->\n<svg width=\"134pt\" height=\"116pt\"\n viewBox=\"0.00 0.00 134.00 116.00\" xmlns=\"http://www.w3.org/2000/svg\" xmlns:xlink=\"http://www.w3.org/1999/xlink\">\n<g id=\"graph0\" class=\"graph\" transform=\"scale(1 1) rotate(0) translate(4 112)\">\n<title>program</title>\n<polygon fill=\"white\" stroke=\"transparent\" points=\"-4,4 -4,-112 130,-112 130,4 -4,4\"/>\n<!-- 0 -->\n<g id=\"node1\" class=\"node\">\n<title>0</title>\n<ellipse fill=\"#136ed4\" stroke=\"black\" cx=\"63\" cy=\"-90\" rx=\"27.9\" ry=\"18\"/>\n<text text-anchor=\"middle\" x=\"63\" y=\"-86.3\" font-family=\"Times,serif\" font-size=\"14.00\">add</text>\n</g>\n<!-- 1 -->\n<g id=\"node2\" class=\"node\">\n<title>1</title>\n<ellipse fill=\"#60a6f6\" stroke=\"black\" cx=\"27\" cy=\"-18\" rx=\"27\" ry=\"18\"/>\n<text text-anchor=\"middle\" x=\"27\" y=\"-14.3\" font-family=\"Times,serif\" font-size=\"14.00\">X0</text>\n</g>\n<!-- 0&#45;&gt;1 -->\n<g id=\"edge2\" class=\"edge\">\n<title>0&#45;&gt;1</title>\n<path fill=\"none\" stroke=\"black\" d=\"M54.65,-72.76C50.29,-64.28 44.85,-53.71 39.96,-44.2\"/>\n<polygon fill=\"black\" stroke=\"black\" points=\"42.99,-42.44 35.3,-35.15 36.77,-45.64 42.99,-42.44\"/>\n</g>\n<!-- 2 -->\n<g id=\"node3\" class=\"node\">\n<title>2</title>\n<ellipse fill=\"#60a6f6\" stroke=\"black\" cx=\"99\" cy=\"-18\" rx=\"27\" ry=\"18\"/>\n<text text-anchor=\"middle\" x=\"99\" y=\"-14.3\" font-family=\"Times,serif\" font-size=\"14.00\">X1</text>\n</g>\n<!-- 0&#45;&gt;2 -->\n<g id=\"edge1\" class=\"edge\">\n<title>0&#45;&gt;2</title>\n<path fill=\"none\" stroke=\"black\" d=\"M71.35,-72.76C75.71,-64.28 81.15,-53.71 86.04,-44.2\"/>\n<polygon fill=\"black\" stroke=\"black\" points=\"89.23,-45.64 90.7,-35.15 83.01,-42.44 89.23,-45.64\"/>\n</g>\n</g>\n</svg>\n",
      "text/plain": [
       "<graphviz.sources.Source at 0x7ff0edaa4250>"
      ]
     },
     "execution_count": 258,
     "metadata": {},
     "output_type": "execute_result"
    }
   ],
   "source": [
    "import graphviz\n",
    "dot_data = gp._programs[-1][0].export_graphviz()\n",
    "graph = graphviz.Source(dot_data)\n",
    "graph"
   ]
  },
  {
   "cell_type": "code",
   "execution_count": 260,
   "metadata": {
    "collapsed": false,
    "pycharm": {
     "name": "#%%\n"
    }
   },
   "outputs": [
    {
     "name": "stdout",
     "output_type": "stream",
     "text": [
      "Param: {'C': 0.021544346900318832}, cv_score: 0.7172214878019469, test_score: 0.692303693586838\n"
     ]
    }
   ],
   "source": [
    "from run_nn_fisher_test_exp import run_logistic_regression\n",
    " \n",
    "X_val_comb, X_test_comb = np.concatenate([X_gp_val, gp_features_val], axis=1), np.concatenate([X_gp_test, gp_features_test], axis=1)\n",
    "\n",
    "cv = StratifiedKFold(n_splits=5, random_state=seed, shuffle=True)\n",
    "\n",
    "log_best_param_1, log_cv_score_1, log_test_score_1 = run_logistic_regression(X_val_comb, X_test_comb, y_train,\n",
    "                                                                             y_test, cv)\n",
    "print(f\"Param: {log_best_param_1}, cv_score: {log_cv_score_1}, test_score: {log_test_score_1}\")"
   ]
  },
  {
   "cell_type": "code",
   "execution_count": 265,
   "metadata": {
    "collapsed": false,
    "pycharm": {
     "name": "#%%\n"
    }
   },
   "outputs": [
    {
     "data": {
      "text/html": [
       "<div>\n",
       "<style scoped>\n",
       "    .dataframe tbody tr th:only-of-type {\n",
       "        vertical-align: middle;\n",
       "    }\n",
       "\n",
       "    .dataframe tbody tr th {\n",
       "        vertical-align: top;\n",
       "    }\n",
       "\n",
       "    .dataframe thead th {\n",
       "        text-align: right;\n",
       "    }\n",
       "</style>\n",
       "<table border=\"1\" class=\"dataframe\">\n",
       "  <thead>\n",
       "    <tr style=\"text-align: right;\">\n",
       "      <th></th>\n",
       "      <th>Gen</th>\n",
       "      <th>Ind</th>\n",
       "      <th>Fitness</th>\n",
       "      <th>OOB_fitness</th>\n",
       "      <th>Equation</th>\n",
       "    </tr>\n",
       "  </thead>\n",
       "  <tbody>\n",
       "    <tr>\n",
       "      <th>2900</th>\n",
       "      <td>37</td>\n",
       "      <td>79</td>\n",
       "      <td>0.445167</td>\n",
       "      <td>0.813935</td>\n",
       "      <td>add(X0, X1)</td>\n",
       "    </tr>\n",
       "    <tr>\n",
       "      <th>36637</th>\n",
       "      <td>467</td>\n",
       "      <td>648</td>\n",
       "      <td>0.446071</td>\n",
       "      <td>0.870615</td>\n",
       "      <td>add(add(X0, X1), X1)</td>\n",
       "    </tr>\n",
       "    <tr>\n",
       "      <th>2273</th>\n",
       "      <td>29</td>\n",
       "      <td>355</td>\n",
       "      <td>0.446149</td>\n",
       "      <td>0.810007</td>\n",
       "      <td>add(X0, X1)</td>\n",
       "    </tr>\n",
       "    <tr>\n",
       "      <th>6758</th>\n",
       "      <td>86</td>\n",
       "      <td>705</td>\n",
       "      <td>0.447160</td>\n",
       "      <td>0.805965</td>\n",
       "      <td>add(X0, X1)</td>\n",
       "    </tr>\n",
       "    <tr>\n",
       "      <th>15537</th>\n",
       "      <td>200</td>\n",
       "      <td>822</td>\n",
       "      <td>0.447335</td>\n",
       "      <td>0.865558</td>\n",
       "      <td>add(add(X0, X1), X1)</td>\n",
       "    </tr>\n",
       "  </tbody>\n",
       "</table>\n",
       "</div>"
      ],
      "text/plain": [
       "       Gen  Ind   Fitness  OOB_fitness              Equation\n",
       "2900    37   79  0.445167     0.813935           add(X0, X1)\n",
       "36637  467  648  0.446071     0.870615  add(add(X0, X1), X1)\n",
       "2273    29  355  0.446149     0.810007           add(X0, X1)\n",
       "6758    86  705  0.447160     0.805965           add(X0, X1)\n",
       "15537  200  822  0.447335     0.865558  add(add(X0, X1), X1)"
      ]
     },
     "execution_count": 265,
     "metadata": {},
     "output_type": "execute_result"
    }
   ],
   "source": [
    "gp_df_sorted = gp_df.sort_values('Fitness', ascending=True)[:5]\n",
    "gp_df_sorted"
   ]
  },
  {
   "cell_type": "code",
   "execution_count": 266,
   "metadata": {},
   "outputs": [
    {
     "data": {
      "image/svg+xml": "<?xml version=\"1.0\" encoding=\"UTF-8\" standalone=\"no\"?>\n<!DOCTYPE svg PUBLIC \"-//W3C//DTD SVG 1.1//EN\"\n \"http://www.w3.org/Graphics/SVG/1.1/DTD/svg11.dtd\">\n<!-- Generated by graphviz version 2.43.0 (0)\n -->\n<!-- Title: program Pages: 1 -->\n<svg width=\"134pt\" height=\"116pt\"\n viewBox=\"0.00 0.00 134.00 116.00\" xmlns=\"http://www.w3.org/2000/svg\" xmlns:xlink=\"http://www.w3.org/1999/xlink\">\n<g id=\"graph0\" class=\"graph\" transform=\"scale(1 1) rotate(0) translate(4 112)\">\n<title>program</title>\n<polygon fill=\"white\" stroke=\"transparent\" points=\"-4,4 -4,-112 130,-112 130,4 -4,4\"/>\n<!-- 0 -->\n<g id=\"node1\" class=\"node\">\n<title>0</title>\n<ellipse fill=\"#136ed4\" stroke=\"black\" cx=\"63\" cy=\"-90\" rx=\"27.9\" ry=\"18\"/>\n<text text-anchor=\"middle\" x=\"63\" y=\"-86.3\" font-family=\"Times,serif\" font-size=\"14.00\">add</text>\n</g>\n<!-- 1 -->\n<g id=\"node2\" class=\"node\">\n<title>1</title>\n<ellipse fill=\"#60a6f6\" stroke=\"black\" cx=\"27\" cy=\"-18\" rx=\"27\" ry=\"18\"/>\n<text text-anchor=\"middle\" x=\"27\" y=\"-14.3\" font-family=\"Times,serif\" font-size=\"14.00\">X0</text>\n</g>\n<!-- 0&#45;&gt;1 -->\n<g id=\"edge2\" class=\"edge\">\n<title>0&#45;&gt;1</title>\n<path fill=\"none\" stroke=\"black\" d=\"M54.65,-72.76C50.29,-64.28 44.85,-53.71 39.96,-44.2\"/>\n<polygon fill=\"black\" stroke=\"black\" points=\"42.99,-42.44 35.3,-35.15 36.77,-45.64 42.99,-42.44\"/>\n</g>\n<!-- 2 -->\n<g id=\"node3\" class=\"node\">\n<title>2</title>\n<ellipse fill=\"#60a6f6\" stroke=\"black\" cx=\"99\" cy=\"-18\" rx=\"27\" ry=\"18\"/>\n<text text-anchor=\"middle\" x=\"99\" y=\"-14.3\" font-family=\"Times,serif\" font-size=\"14.00\">X1</text>\n</g>\n<!-- 0&#45;&gt;2 -->\n<g id=\"edge1\" class=\"edge\">\n<title>0&#45;&gt;2</title>\n<path fill=\"none\" stroke=\"black\" d=\"M71.35,-72.76C75.71,-64.28 81.15,-53.71 86.04,-44.2\"/>\n<polygon fill=\"black\" stroke=\"black\" points=\"89.23,-45.64 90.7,-35.15 83.01,-42.44 89.23,-45.64\"/>\n</g>\n</g>\n</svg>\n",
      "text/plain": [
       "<graphviz.sources.Source at 0x7ff0f6747460>"
      ]
     },
     "execution_count": 266,
     "metadata": {},
     "output_type": "execute_result"
    }
   ],
   "source": [
    "top_row = gp_df_sorted.iloc[2]\n",
    "program = gp._programs[int(top_row[\"Gen\"])][int(top_row[\"Ind\"])]\n",
    "dot_data = program.export_graphviz()\n",
    "graph = graphviz.Source(dot_data)\n",
    "graph"
   ]
  },
  {
   "cell_type": "code",
   "execution_count": 267,
   "metadata": {
    "collapsed": false,
    "pycharm": {
     "name": "#%%\n"
    }
   },
   "outputs": [
    {
     "name": "stdout",
     "output_type": "stream",
     "text": [
      "Param: {'C': 0.1}, cv_score: 0.7144093258021872, test_score: 0.6929302588089644\n"
     ]
    }
   ],
   "source": [
    "from run_nn_fisher_test_exp import run_logistic_regression\n",
    "\n",
    "gp_features_val = np.zeros((X_gp_val.shape[0], gp_df_sorted.shape[0]))\n",
    "gp_features_test = np.zeros((X_gp_test.shape[0], gp_df_sorted.shape[0]))\n",
    "\n",
    "for i in range(gp_df_sorted.shape[0]):\n",
    "    row = gp_df_sorted.iloc[i]\n",
    "    gen, ind = row[\"Gen\"], row[\"Ind\"]\n",
    "    prog = gp._programs[gen][ind]\n",
    "    val_out = prog.execute(X_gp_val)\n",
    "    test_out = prog.execute(X_gp_test)\n",
    "\n",
    "    gp_features_val[:,i] = val_out\n",
    "    gp_features_test[:,i] = test_out\n",
    "\n",
    "X_val_comb, X_test_comb = np.concatenate([X_gp_val, gp_features_val], axis=1), np.concatenate([X_gp_test, gp_features_test], axis=1)\n",
    "\n",
    "cv = StratifiedKFold(n_splits=5, random_state=seed, shuffle=True)\n",
    "\n",
    "log_best_param_1, log_cv_score_1, log_test_score_1 = run_logistic_regression(X_val_comb, X_test_comb, y_train,\n",
    "                                                                            y_test, cv)\n",
    "print(f\"Param: {log_best_param_1}, cv_score: {log_cv_score_1}, test_score: {log_test_score_1}\")\n",
    "# clf_1 = LogisticRegression(max_iter=10000, **log_best_param_1)\n",
    "# clf_1.fit(X_train_comb, y_train)"
   ]
  },
  {
   "cell_type": "code",
   "execution_count": 160,
   "metadata": {
    "collapsed": false,
    "pycharm": {
     "name": "#%%\n"
    }
   },
   "outputs": [
    {
     "data": {
      "text/plain": [
       "(1050, 10)"
      ]
     },
     "execution_count": 160,
     "metadata": {},
     "output_type": "execute_result"
    }
   ],
   "source": [
    "gp_features_val.shape"
   ]
  },
  {
   "cell_type": "markdown",
   "metadata": {
    "collapsed": false,
    "pycharm": {
     "name": "#%% md\n"
    }
   },
   "source": [
    "### Multiple Runs"
   ]
  },
  {
   "cell_type": "markdown",
   "metadata": {},
   "source": [
    "#### BNN Runs"
   ]
  },
  {
   "cell_type": "code",
   "execution_count": 19,
   "metadata": {
    "collapsed": false,
    "pycharm": {
     "name": "#%%\n"
    }
   },
   "outputs": [
    {
     "name": "stdout",
     "output_type": "stream",
     "text": [
      "Running - seed 422\n"
     ]
    },
    {
     "name": "stderr",
     "output_type": "stream",
     "text": [
      "WARNING:smac.utils.io.cmd_reader.CMDReader:Adding unsupported scenario options: {'verbose_level': 'DEBUG', 'seed': 422}\n"
     ]
    },
    {
     "name": "stdout",
     "output_type": "stream",
     "text": [
      "Config: Configuration(values={\n",
      "  'activation': 'tanh',\n",
      "  'batch_size': 32,\n",
      "  'contin_lr': 1e-05,\n",
      "  'disc_lr': 0.1,\n",
      "  'eta': 100.0,\n",
      "  'layer_dim': 50,\n",
      "  'mu': 0.1,\n",
      "  'sigma': 0.001,\n",
      "  'temp': 0.01,\n",
      "  'thinning_interval': 200,\n",
      "})\n",
      "\n",
      "Done - seed 422\n",
      "LR cv_score: 0.7526809392222926, LR test_score: 0.7613559994776149\n",
      "BNN cv_score: 0.654884294602813, BNN test_score: 0.6084469373643162\n",
      "Running - seed 261\n"
     ]
    },
    {
     "name": "stderr",
     "output_type": "stream",
     "text": [
      "WARNING:smac.utils.io.cmd_reader.CMDReader:Adding unsupported scenario options: {'verbose_level': 'DEBUG', 'seed': 261}\n"
     ]
    },
    {
     "name": "stdout",
     "output_type": "stream",
     "text": [
      "Config: Configuration(values={\n",
      "  'activation': 'relu',\n",
      "  'batch_size': 256,\n",
      "  'contin_lr': 0.001,\n",
      "  'disc_lr': 0.1,\n",
      "  'eta': 5,\n",
      "  'layer_dim': 60,\n",
      "  'mu': 0.1,\n",
      "  'sigma': 0.1,\n",
      "  'temp': 1.0,\n",
      "  'thinning_interval': 50,\n",
      "})\n",
      "\n",
      "Done - seed 261\n",
      "LR cv_score: 0.7433300345227697, LR test_score: 0.731235310215496\n",
      "BNN cv_score: 0.7420122018349963, BNN test_score: 0.6935546155488364\n",
      "Running - seed 968\n"
     ]
    },
    {
     "name": "stderr",
     "output_type": "stream",
     "text": [
      "WARNING:smac.utils.io.cmd_reader.CMDReader:Adding unsupported scenario options: {'verbose_level': 'DEBUG', 'seed': 968}\n"
     ]
    },
    {
     "name": "stdout",
     "output_type": "stream",
     "text": [
      "Config: Configuration(values={\n",
      "  'activation': 'relu',\n",
      "  'batch_size': 128,\n",
      "  'contin_lr': 1e-05,\n",
      "  'disc_lr': 0.0001,\n",
      "  'eta': 50.0,\n",
      "  'layer_dim': 60,\n",
      "  'mu': 1.0,\n",
      "  'sigma': 10.0,\n",
      "  'temp': 0.5,\n",
      "  'thinning_interval': 200,\n",
      "})\n",
      "\n",
      "Done - seed 968\n",
      "LR cv_score: 0.6231194870292615, LR test_score: 0.6331168581382143\n",
      "BNN cv_score: 0.5805510280431017, BNN test_score: 0.551836072792582\n",
      "Running - seed 282\n"
     ]
    },
    {
     "name": "stderr",
     "output_type": "stream",
     "text": [
      "WARNING:smac.utils.io.cmd_reader.CMDReader:Adding unsupported scenario options: {'verbose_level': 'DEBUG', 'seed': 282}\n"
     ]
    },
    {
     "name": "stdout",
     "output_type": "stream",
     "text": [
      "Config: Configuration(values={\n",
      "  'activation': 'relu',\n",
      "  'batch_size': 128,\n",
      "  'contin_lr': 1e-05,\n",
      "  'disc_lr': 0.0001,\n",
      "  'eta': 1.0,\n",
      "  'layer_dim': 60,\n",
      "  'mu': 5,\n",
      "  'sigma': 0.1,\n",
      "  'temp': 0.001,\n",
      "  'thinning_interval': 50,\n",
      "})\n",
      "\n",
      "Done - seed 282\n",
      "LR cv_score: 0.7471289274106175, LR test_score: 0.6055045370647242\n",
      "BNN cv_score: 0.6020570137026444, BNN test_score: 0.6607142390627171\n",
      "Running - seed 739\n"
     ]
    },
    {
     "name": "stderr",
     "output_type": "stream",
     "text": [
      "WARNING:smac.utils.io.cmd_reader.CMDReader:Adding unsupported scenario options: {'verbose_level': 'DEBUG', 'seed': 739}\n"
     ]
    },
    {
     "name": "stdout",
     "output_type": "stream",
     "text": [
      "Config: Configuration(values={\n",
      "  'activation': 'relu',\n",
      "  'batch_size': 128,\n",
      "  'contin_lr': 0.0001,\n",
      "  'disc_lr': 0.01,\n",
      "  'eta': 1.0,\n",
      "  'layer_dim': 60,\n",
      "  'mu': 100.0,\n",
      "  'sigma': 0.1,\n",
      "  'temp': 0.5,\n",
      "  'thinning_interval': 150,\n",
      "})\n",
      "\n",
      "Done - seed 739\n",
      "LR cv_score: 0.7632244008714598, LR test_score: 0.7416620269634149\n",
      "BNN cv_score: 0.7112418447571254, BNN test_score: 0.7111668557917398\n",
      "Running - seed 573\n"
     ]
    },
    {
     "name": "stderr",
     "output_type": "stream",
     "text": [
      "WARNING:smac.utils.io.cmd_reader.CMDReader:Adding unsupported scenario options: {'verbose_level': 'DEBUG', 'seed': 573}\n"
     ]
    },
    {
     "name": "stdout",
     "output_type": "stream",
     "text": [
      "Config: Configuration(values={\n",
      "  'activation': 'tanh',\n",
      "  'batch_size': 64,\n",
      "  'contin_lr': 0.001,\n",
      "  'disc_lr': 0.01,\n",
      "  'eta': 50.0,\n",
      "  'layer_dim': 60,\n",
      "  'mu': 100.0,\n",
      "  'sigma': 0.1,\n",
      "  'temp': 0.5,\n",
      "  'thinning_interval': 150,\n",
      "})\n",
      "\n",
      "Done - seed 573\n",
      "LR cv_score: 0.7532685584669169, LR test_score: 0.7599139543242561\n",
      "BNN cv_score: 0.6862271855029914, BNN test_score: 0.6583894418550407\n",
      "Running - seed 220\n"
     ]
    },
    {
     "name": "stderr",
     "output_type": "stream",
     "text": [
      "WARNING:smac.utils.io.cmd_reader.CMDReader:Adding unsupported scenario options: {'verbose_level': 'DEBUG', 'seed': 220}\n"
     ]
    },
    {
     "name": "stdout",
     "output_type": "stream",
     "text": [
      "Config: Configuration(values={\n",
      "  'activation': 'relu',\n",
      "  'batch_size': 64,\n",
      "  'contin_lr': 0.001,\n",
      "  'disc_lr': 1e-05,\n",
      "  'eta': 10.0,\n",
      "  'layer_dim': 50,\n",
      "  'mu': 5,\n",
      "  'sigma': 10.0,\n",
      "  'temp': 1.0,\n",
      "  'thinning_interval': 200,\n",
      "})\n",
      "\n",
      "Done - seed 220\n",
      "LR cv_score: 0.7141653843826707, LR test_score: 0.6964807962228895\n",
      "BNN cv_score: 0.731101220624186, BNN test_score: 0.6823569452260736\n",
      "Running - seed 413\n"
     ]
    },
    {
     "name": "stderr",
     "output_type": "stream",
     "text": [
      "WARNING:smac.utils.io.cmd_reader.CMDReader:Adding unsupported scenario options: {'verbose_level': 'DEBUG', 'seed': 413}\n"
     ]
    },
    {
     "name": "stdout",
     "output_type": "stream",
     "text": [
      "Config: Configuration(values={\n",
      "  'activation': 'relu',\n",
      "  'batch_size': 32,\n",
      "  'contin_lr': 0.0001,\n",
      "  'disc_lr': 0.5,\n",
      "  'eta': 100.0,\n",
      "  'layer_dim': 70,\n",
      "  'mu': 5,\n",
      "  'sigma': 1.0,\n",
      "  'temp': 0.5,\n",
      "  'thinning_interval': 200,\n",
      "})\n",
      "\n",
      "Done - seed 413\n",
      "LR cv_score: 0.8182599003409388, LR test_score: 0.7740667702713354\n",
      "BNN cv_score: 0.7717952151839372, BNN test_score: 0.6843033891435664\n",
      "Running - seed 745\n"
     ]
    },
    {
     "name": "stderr",
     "output_type": "stream",
     "text": [
      "WARNING:smac.utils.io.cmd_reader.CMDReader:Adding unsupported scenario options: {'verbose_level': 'DEBUG', 'seed': 745}\n"
     ]
    },
    {
     "name": "stdout",
     "output_type": "stream",
     "text": [
      "Config: Configuration(values={\n",
      "  'activation': 'tanh',\n",
      "  'batch_size': 64,\n",
      "  'contin_lr': 0.001,\n",
      "  'disc_lr': 0.1,\n",
      "  'eta': 100.0,\n",
      "  'layer_dim': 50,\n",
      "  'mu': 0.1,\n",
      "  'sigma': 0.1,\n",
      "  'temp': 1.0,\n",
      "  'thinning_interval': 50,\n",
      "})\n",
      "\n",
      "Done - seed 745\n",
      "LR cv_score: 0.7897502153316107, LR test_score: 0.7955350483887943\n",
      "BNN cv_score: 0.7729543396347972, BNN test_score: 0.7088837254920194\n",
      "Running - seed 775\n"
     ]
    },
    {
     "name": "stderr",
     "output_type": "stream",
     "text": [
      "WARNING:smac.utils.io.cmd_reader.CMDReader:Adding unsupported scenario options: {'verbose_level': 'DEBUG', 'seed': 775}\n"
     ]
    },
    {
     "name": "stdout",
     "output_type": "stream",
     "text": [
      "Config: Configuration(values={\n",
      "  'activation': 'tanh',\n",
      "  'batch_size': 64,\n",
      "  'contin_lr': 0.001,\n",
      "  'disc_lr': 0.001,\n",
      "  'eta': 1.0,\n",
      "  'layer_dim': 70,\n",
      "  'mu': 1.0,\n",
      "  'sigma': 1.0,\n",
      "  'temp': 1.0,\n",
      "  'thinning_interval': 50,\n",
      "})\n",
      "\n",
      "Done - seed 775\n",
      "LR cv_score: 0.8565464895635675, LR test_score: 0.8316599105387472\n",
      "BNN cv_score: 0.82333967219098, BNN test_score: 0.7970850097306962\n",
      "Running - seed 482\n"
     ]
    },
    {
     "name": "stderr",
     "output_type": "stream",
     "text": [
      "WARNING:smac.utils.io.cmd_reader.CMDReader:Adding unsupported scenario options: {'verbose_level': 'DEBUG', 'seed': 482}\n"
     ]
    },
    {
     "name": "stdout",
     "output_type": "stream",
     "text": [
      "Config: Configuration(values={\n",
      "  'activation': 'relu',\n",
      "  'batch_size': 256,\n",
      "  'contin_lr': 0.0001,\n",
      "  'disc_lr': 0.001,\n",
      "  'eta': 0.1,\n",
      "  'layer_dim': 50,\n",
      "  'mu': 10.0,\n",
      "  'sigma': 1.0,\n",
      "  'temp': 0.1,\n",
      "  'thinning_interval': 150,\n",
      "})\n",
      "\n",
      "Done - seed 482\n",
      "LR cv_score: 0.6728028189693143, LR test_score: 0.7894170664874678\n",
      "BNN cv_score: 0.6488033846294388, BNN test_score: 0.5846048476981918\n",
      "Running - seed 442\n"
     ]
    },
    {
     "name": "stderr",
     "output_type": "stream",
     "text": [
      "WARNING:smac.utils.io.cmd_reader.CMDReader:Adding unsupported scenario options: {'verbose_level': 'DEBUG', 'seed': 442}\n"
     ]
    },
    {
     "name": "stdout",
     "output_type": "stream",
     "text": [
      "Config: Configuration(values={\n",
      "  'activation': 'tanh',\n",
      "  'batch_size': 128,\n",
      "  'contin_lr': 0.001,\n",
      "  'disc_lr': 0.0001,\n",
      "  'eta': 100.0,\n",
      "  'layer_dim': 60,\n",
      "  'mu': 5,\n",
      "  'sigma': 1.0,\n",
      "  'temp': 0.5,\n",
      "  'thinning_interval': 50,\n",
      "})\n",
      "\n",
      "Done - seed 442\n",
      "LR cv_score: 0.7262328722644329, LR test_score: 0.7734746795337828\n",
      "BNN cv_score: 0.6597835855730092, BNN test_score: 0.6779973913933917\n",
      "Running - seed 210\n"
     ]
    },
    {
     "name": "stderr",
     "output_type": "stream",
     "text": [
      "WARNING:smac.utils.io.cmd_reader.CMDReader:Adding unsupported scenario options: {'verbose_level': 'DEBUG', 'seed': 210}\n"
     ]
    },
    {
     "name": "stdout",
     "output_type": "stream",
     "text": [
      "Config: Configuration(values={\n",
      "  'activation': 'tanh',\n",
      "  'batch_size': 256,\n",
      "  'contin_lr': 0.001,\n",
      "  'disc_lr': 0.01,\n",
      "  'eta': 5,\n",
      "  'layer_dim': 60,\n",
      "  'mu': 100.0,\n",
      "  'sigma': 0.1,\n",
      "  'temp': 0.5,\n",
      "  'thinning_interval': 200,\n",
      "})\n",
      "\n",
      "Done - seed 210\n",
      "LR cv_score: 0.7197629793961648, LR test_score: 0.7499665224290342\n",
      "BNN cv_score: 0.5895525196299453, BNN test_score: 0.60488371063054\n",
      "Running - seed 423\n"
     ]
    },
    {
     "name": "stderr",
     "output_type": "stream",
     "text": [
      "WARNING:smac.utils.io.cmd_reader.CMDReader:Adding unsupported scenario options: {'verbose_level': 'DEBUG', 'seed': 423}\n"
     ]
    },
    {
     "name": "stdout",
     "output_type": "stream",
     "text": [
      "Config: Configuration(values={\n",
      "  'activation': 'tanh',\n",
      "  'batch_size': 32,\n",
      "  'contin_lr': 0.001,\n",
      "  'disc_lr': 1e-05,\n",
      "  'eta': 5,\n",
      "  'layer_dim': 70,\n",
      "  'mu': 5,\n",
      "  'sigma': 0.1,\n",
      "  'temp': 0.5,\n",
      "  'thinning_interval': 200,\n",
      "})\n",
      "\n",
      "Done - seed 423\n",
      "LR cv_score: 0.7061500092614644, LR test_score: 0.7146685302917628\n",
      "BNN cv_score: 0.6109080930132599, BNN test_score: 0.6425576158268984\n",
      "Running - seed 760\n"
     ]
    },
    {
     "name": "stderr",
     "output_type": "stream",
     "text": [
      "WARNING:smac.utils.io.cmd_reader.CMDReader:Adding unsupported scenario options: {'verbose_level': 'DEBUG', 'seed': 760}\n"
     ]
    },
    {
     "name": "stdout",
     "output_type": "stream",
     "text": [
      "Config: Configuration(values={\n",
      "  'activation': 'tanh',\n",
      "  'batch_size': 256,\n",
      "  'contin_lr': 0.0001,\n",
      "  'disc_lr': 0.1,\n",
      "  'eta': 10.0,\n",
      "  'layer_dim': 50,\n",
      "  'mu': 1.0,\n",
      "  'sigma': 0.1,\n",
      "  'temp': 1.0,\n",
      "  'thinning_interval': 150,\n",
      "})\n",
      "\n",
      "Done - seed 760\n",
      "LR cv_score: 0.7353473373871384, LR test_score: 0.7261113993530636\n",
      "BNN cv_score: 0.6782626905910922, BNN test_score: 0.7258559002768962\n",
      "Running - seed 57\n"
     ]
    },
    {
     "name": "stderr",
     "output_type": "stream",
     "text": [
      "WARNING:smac.utils.io.cmd_reader.CMDReader:Adding unsupported scenario options: {'verbose_level': 'DEBUG', 'seed': 57}\n"
     ]
    },
    {
     "name": "stdout",
     "output_type": "stream",
     "text": [
      "Config: Configuration(values={\n",
      "  'activation': 'tanh',\n",
      "  'batch_size': 128,\n",
      "  'contin_lr': 0.0001,\n",
      "  'disc_lr': 0.5,\n",
      "  'eta': 0.1,\n",
      "  'layer_dim': 50,\n",
      "  'mu': 1.0,\n",
      "  'sigma': 0.1,\n",
      "  'temp': 0.001,\n",
      "  'thinning_interval': 100,\n",
      "})\n",
      "\n",
      "Done - seed 57\n",
      "LR cv_score: 0.585403579871665, LR test_score: 0.5901819901277701\n",
      "BNN cv_score: 0.5248921659866045, BNN test_score: 0.4968860949622664\n",
      "Running - seed 769\n"
     ]
    },
    {
     "name": "stderr",
     "output_type": "stream",
     "text": [
      "WARNING:smac.utils.io.cmd_reader.CMDReader:Adding unsupported scenario options: {'verbose_level': 'DEBUG', 'seed': 769}\n"
     ]
    },
    {
     "name": "stdout",
     "output_type": "stream",
     "text": [
      "Config: Configuration(values={\n",
      "  'activation': 'relu',\n",
      "  'batch_size': 256,\n",
      "  'contin_lr': 0.0001,\n",
      "  'disc_lr': 1e-05,\n",
      "  'eta': 0.1,\n",
      "  'layer_dim': 50,\n",
      "  'mu': 5,\n",
      "  'sigma': 0.01,\n",
      "  'temp': 0.5,\n",
      "  'thinning_interval': 150,\n",
      "})\n",
      "\n",
      "Done - seed 769\n",
      "LR cv_score: 0.7148747799771484, LR test_score: 0.7785897110201249\n",
      "BNN cv_score: 0.621629698197817, BNN test_score: 0.6738378354271659\n",
      "Running - seed 920\n"
     ]
    },
    {
     "name": "stderr",
     "output_type": "stream",
     "text": [
      "WARNING:smac.utils.io.cmd_reader.CMDReader:Adding unsupported scenario options: {'verbose_level': 'DEBUG', 'seed': 920}\n"
     ]
    },
    {
     "name": "stdout",
     "output_type": "stream",
     "text": [
      "Config: Configuration(values={\n",
      "  'activation': 'relu',\n",
      "  'batch_size': 32,\n",
      "  'contin_lr': 0.0001,\n",
      "  'disc_lr': 0.001,\n",
      "  'eta': 50.0,\n",
      "  'layer_dim': 50,\n",
      "  'mu': 10.0,\n",
      "  'sigma': 1.0,\n",
      "  'temp': 1.0,\n",
      "  'thinning_interval': 100,\n",
      "})\n",
      "\n",
      "Done - seed 920\n",
      "LR cv_score: 0.7871427052827948, LR test_score: 0.7797077553200249\n",
      "BNN cv_score: 0.7166067723685469, BNN test_score: 0.6462986015301047\n",
      "Running - seed 226\n"
     ]
    },
    {
     "name": "stderr",
     "output_type": "stream",
     "text": [
      "WARNING:smac.utils.io.cmd_reader.CMDReader:Adding unsupported scenario options: {'verbose_level': 'DEBUG', 'seed': 226}\n"
     ]
    },
    {
     "name": "stdout",
     "output_type": "stream",
     "text": [
      "Config: Configuration(values={\n",
      "  'activation': 'relu',\n",
      "  'batch_size': 256,\n",
      "  'contin_lr': 0.001,\n",
      "  'disc_lr': 0.1,\n",
      "  'eta': 100.0,\n",
      "  'layer_dim': 50,\n",
      "  'mu': 5,\n",
      "  'sigma': 0.01,\n",
      "  'temp': 0.5,\n",
      "  'thinning_interval': 50,\n",
      "})\n",
      "\n",
      "Done - seed 226\n",
      "LR cv_score: 0.661052871052871, LR test_score: 0.6615110578543569\n",
      "BNN cv_score: 0.5281517694720195, BNN test_score: 0.4911105669259691\n",
      "Running - seed 196\n"
     ]
    },
    {
     "name": "stderr",
     "output_type": "stream",
     "text": [
      "WARNING:smac.utils.io.cmd_reader.CMDReader:Adding unsupported scenario options: {'verbose_level': 'DEBUG', 'seed': 196}\n"
     ]
    },
    {
     "name": "stdout",
     "output_type": "stream",
     "text": [
      "Config: Configuration(values={\n",
      "  'activation': 'relu',\n",
      "  'batch_size': 128,\n",
      "  'contin_lr': 0.01,\n",
      "  'disc_lr': 1e-05,\n",
      "  'eta': 0.1,\n",
      "  'layer_dim': 80,\n",
      "  'mu': 50.0,\n",
      "  'sigma': 0.1,\n",
      "  'temp': 0.1,\n",
      "  'thinning_interval': 50,\n",
      "})\n",
      "\n",
      "Done - seed 196\n",
      "LR cv_score: 0.7542425416505232, LR test_score: 0.7379998380276886\n",
      "BNN cv_score: 0.7350639235337624, BNN test_score: 0.7017308357671825\n"
     ]
    }
   ],
   "source": [
    "%autoreload\n",
    "import pickle\n",
    "from tqdm import tqdm\n",
    "import warnings\n",
    "from nn_util import prepare_data\n",
    "from sgmcmc import MixedSGMCMC\n",
    "from sklearn.model_selection import GridSearchCV, StratifiedKFold, cross_val_score\n",
    "from sklearn.linear_model import LogisticRegression\n",
    "\n",
    "warnings.filterwarnings(\"ignore\")\n",
    "\n",
    "save_dir_100 = f\"{data_dir}/exp_data_4/bmm/f100\"\n",
    "\n",
    "bnn_lr_dict_100 = {\"seed\": [], \"classifier\": [], \"cv_score\": [], \"test_score\": []}\n",
    "\n",
    "log_param_grid = {\"C\":np.logspace(-2, 1, 10)}\n",
    "\n",
    "for i in range(len(seeds)):\n",
    "\n",
    "    seed, net, data = prepare_data(seeds, i, data_dfs, net_dfs, test_size=0.3, out_val_size=0.5)\n",
    "    cv = StratifiedKFold(n_splits=5, shuffle=True, random_state=seed)\n",
    "\n",
    "    print(f\"Running - seed {seed}\")\n",
    "\n",
    "    X_train, _, X_test, y_train, _, y_test = data\n",
    "\n",
    "    rng_key = jax.random.PRNGKey(seed)\n",
    "\n",
    "    X_train, X_test, y_train, y_test = jax.device_put(X_train), jax.device_put(X_test), \\\n",
    "                                       jax.device_put(y_train), jax.device_put(y_test)\n",
    "\n",
    "\n",
    "    log_grid_cv = GridSearchCV(estimator=LogisticRegression(max_iter=10000), param_grid=log_param_grid, verbose=0, scoring=\"roc_auc\", cv=cv).fit(X_train, y_train)\n",
    "    log_cv_score = log_grid_cv.best_score_\n",
    "    clf = LogisticRegression(max_iter=10000, C=log_grid_cv.best_params_[\"C\"])\n",
    "    clf.fit(X_train, y_train)\n",
    "    log_test_score = roc_auc_score(y_test, clf.predict_proba(X_test)[:,1])\n",
    "\n",
    "    config, bnn_cv_score, _ = optimize_hyper_parameters(seed, X_train, y_train, total_time=180)\n",
    "    # config = pickle.load(open(f\"{save_dir_100}/bnn_params_s_{seed}.pickle\", \"rb\"))\n",
    "\n",
    "    params = {\"disc_lr\": config[\"disc_lr\"], \"contin_lr\": config[\"contin_lr\"], \"batch_size\": config[\"batch_size\"],\n",
    "              \"mu\": config[\"mu\"], \"eta\": config[\"eta\"], \"temp\": config[\"temp\"],\n",
    "              \"sigma\": config[\"sigma\"], \"thinning_interval\": config[\"thinning_interval\"]}\n",
    "\n",
    "    mixed_sgmcmc = MixedSGMCMC(seed=seed, n_samples=5000, n_warmup=1000, n_chains=5, lr_schedule=\"exponential\",\n",
    "                     layer_dims=[config[\"layer_dim\"]] ,**params)\n",
    "\n",
    "    # bnn_cv_score = np.mean(cross_val_score(mixed_sgmcmc, X_train, y_train, cv=cv,\n",
    "    #                                        fit_params={\"activation_fns\": [config[\"activation\"]],  \"J\": net}))\n",
    "\n",
    "    mixed_sgmcmc.fit(X_train, y_train, activation_fns=[config[\"activation\"]], J=net)\n",
    "\n",
    "    pickle.dump(config, open(f\"{save_dir_100}/bnn_params_s_{seed}.pickle\", \"wb\"))\n",
    "\n",
    "    bnn_test_score = mixed_sgmcmc.score(X_test, y_test)\n",
    "\n",
    "    bnn_disc_mean = jnp.mean(mixed_sgmcmc.states_.discrete_position.reshape(-1, X_train.shape[1]), axis=0)\n",
    "    np.save(f\"{save_dir_100}/bnn_disc_mean_s_{seed}.npy\", bnn_disc_mean)\n",
    "\n",
    "\n",
    "    bnn_lr_dict_100[\"seed\"].append(seed)\n",
    "    bnn_lr_dict_100[\"classifier\"].append(\"LR\")\n",
    "    bnn_lr_dict_100[\"cv_score\"].append(log_cv_score)\n",
    "    bnn_lr_dict_100[\"test_score\"].append(log_test_score)\n",
    "\n",
    "    bnn_lr_dict_100[\"seed\"].append(seed)\n",
    "    bnn_lr_dict_100[\"classifier\"].append(\"BNN\")\n",
    "    bnn_lr_dict_100[\"cv_score\"].append(bnn_cv_score)\n",
    "    bnn_lr_dict_100[\"test_score\"].append(bnn_test_score)\n",
    "\n",
    "    print(f\"Config: {config}\")\n",
    "\n",
    "    print(f\"Done - seed {seed}\\nLR cv_score: {log_cv_score}, LR test_score: {log_test_score}\")\n",
    "    print(f\"BNN cv_score: {bnn_cv_score}, BNN test_score: {bnn_test_score}\")\n",
    "\n",
    "bnn_lr_df_100 = pd.DataFrame(bnn_lr_dict_100)\n",
    "bnn_lr_df_100.to_csv(f\"{save_dir_100}/res_bmm_summary.csv\", index=False)"
   ]
  },
  {
   "cell_type": "code",
   "execution_count": 20,
   "metadata": {
    "collapsed": false,
    "pycharm": {
     "name": "#%%\n"
    }
   },
   "outputs": [],
   "source": [
    "# bnn_lr_df.to_csv(f\"{save_dir}/res_bmm_summary.csv\", index=False)\n",
    "bnn_lr_df_100 = pd.read_csv(f\"{data_dir}/exp_data_4/bmm/f100/res_bmm_summary.csv\")"
   ]
  },
  {
   "cell_type": "code",
   "execution_count": 22,
   "metadata": {
    "collapsed": false,
    "pycharm": {
     "name": "#%%\n"
    }
   },
   "outputs": [
    {
     "data": {
      "text/html": [
       "<div>\n",
       "<style scoped>\n",
       "    .dataframe tbody tr th:only-of-type {\n",
       "        vertical-align: middle;\n",
       "    }\n",
       "\n",
       "    .dataframe tbody tr th {\n",
       "        vertical-align: top;\n",
       "    }\n",
       "\n",
       "    .dataframe thead th {\n",
       "        text-align: right;\n",
       "    }\n",
       "</style>\n",
       "<table border=\"1\" class=\"dataframe\">\n",
       "  <thead>\n",
       "    <tr style=\"text-align: right;\">\n",
       "      <th></th>\n",
       "      <th>cv_score</th>\n",
       "      <th>test_score</th>\n",
       "    </tr>\n",
       "    <tr>\n",
       "      <th>classifier</th>\n",
       "      <th></th>\n",
       "      <th></th>\n",
       "    </tr>\n",
       "  </thead>\n",
       "  <tbody>\n",
       "    <tr>\n",
       "      <th>BNN</th>\n",
       "      <td>0.669491</td>\n",
       "      <td>0.650125</td>\n",
       "    </tr>\n",
       "    <tr>\n",
       "      <th>LR</th>\n",
       "      <td>0.731224</td>\n",
       "      <td>0.731608</td>\n",
       "    </tr>\n",
       "  </tbody>\n",
       "</table>\n",
       "</div>"
      ],
      "text/plain": [
       "            cv_score  test_score\n",
       "classifier                      \n",
       "BNN         0.669491    0.650125\n",
       "LR          0.731224    0.731608"
      ]
     },
     "execution_count": 22,
     "metadata": {},
     "output_type": "execute_result"
    }
   ],
   "source": [
    "bnn_lr_df_100.groupby([\"classifier\"])[[\"cv_score\", \"test_score\"]].mean()"
   ]
  },
  {
   "cell_type": "markdown",
   "metadata": {
    "collapsed": false,
    "pycharm": {
     "name": "#%% md\n"
    }
   },
   "source": [
    "#### Variable Selection"
   ]
  },
  {
   "cell_type": "code",
   "execution_count": 27,
   "metadata": {
    "collapsed": false,
    "pycharm": {
     "name": "#%%\n"
    }
   },
   "outputs": [
    {
     "name": "stderr",
     "output_type": "stream",
     "text": [
      "100%|██████████| 20/20 [16:19<00:00, 48.97s/it]\n"
     ]
    }
   ],
   "source": [
    "%autoreload\n",
    "from tqdm import tqdm\n",
    "from sgmcmc import MixedSGMCMC\n",
    "from run_nn_fisher_test_exp import run_logistic_regression\n",
    "import pickle\n",
    "save_dir_100 = f\"{data_dir}/exp_data_4/bmm/f100\"\n",
    "bnn_sel_fts_dict = {\"seed\": [], \"feat_sel\": [], \"num_feats\": [], \"cv_score\": [], \"test_score\": []}\n",
    "\n",
    "all_feats = np.arange(p - 1)\n",
    "\n",
    "feat_lens = [5, 10]\n",
    "\n",
    "for i in tqdm(range(len(seeds))):\n",
    "\n",
    "    seed, net, data = prepare_data(seeds, i, data_dfs, net_dfs, test_size=0.3)\n",
    "    cv = StratifiedKFold(n_splits=5, shuffle=True, random_state=seed)\n",
    "    X_train, X_out_val, X_test, y_train, y_out_val, y_test = data\n",
    "\n",
    "    rng_key = jax.random.PRNGKey(seed)\n",
    "\n",
    "    X_train, X_test, y_train, y_test = jax.device_put(X_train), jax.device_put(X_test), \\\n",
    "                                       jax.device_put(y_train), jax.device_put(y_test)\n",
    "\n",
    "    X_train_val_comb, y_train_val_comb = np.concatenate([X_train, X_out_val], axis=0), np.concatenate([y_train, y_out_val], axis=0)\n",
    "\n",
    "    log_best_params, _, _ = run_logistic_regression(X_train, X_test, y_train, y_test, cv, verbose=0)\n",
    "    log_clf = LogisticRegression(max_iter=10000, **log_best_params)\n",
    "    log_clf.fit(X_train, y_train)\n",
    "\n",
    "    log_coef = log_clf.coef_[0]\n",
    "\n",
    "    log_coef_sorted = np.argsort(log_coef)[::-1]\n",
    "\n",
    "\n",
    "    config = pickle.load(open(f\"{save_dir_100}/bnn_params_s_{seed}.pickle\", \"rb\"))\n",
    "    params = {\"disc_lr\": config[\"disc_lr\"], \"contin_lr\": config[\"contin_lr\"], \"batch_size\": config[\"batch_size\"],\n",
    "              \"mu\": config[\"mu\"], \"eta\": config[\"eta\"], \"temp\": config[\"temp\"],\n",
    "              \"sigma\": config[\"sigma\"], \"thinning_interval\": config[\"thinning_interval\"]}\n",
    "\n",
    "    mixed_sgmcmc = MixedSGMCMC(seed=seed, n_samples=5000, n_warmup=1000, n_chains=5, lr_schedule=\"exponential\",\n",
    "                     layer_dims=[config[\"layer_dim\"]] ,**params)\n",
    "\n",
    "    # bnn_cv_score = np.mean(cross_val_score(mixed_sgmcmc, X_train, y_train, cv=cv,\n",
    "    #                                        fit_params={\"activation_fns\": [config[\"activation\"]],  \"J\": net}))\n",
    "\n",
    "    mixed_sgmcmc.fit(X_train, y_train, activation_fns=[config[\"activation\"]], J=net)\n",
    "\n",
    "    gamma_means = jnp.mean(mixed_sgmcmc.states_.discrete_position.reshape(-1, X_train.shape[1]), axis=0)\n",
    "    gamma_means_idx_s = np.argsort(gamma_means)[::-1]\n",
    "\n",
    "    dropout_loss_df = get_feats_dropout_loss(mixed_sgmcmc, X_train, y_train)\n",
    "    dropout_loss_df.to_csv(f\"{save_dir_100}/drop_out_loss_s_{seed}.csv\", index=False)\n",
    "\n",
    "    for ft_len in feat_lens:\n",
    "\n",
    "        log_sel_fts = log_coef_sorted[:ft_len]\n",
    "\n",
    "        X_train_log_sel, X_test_log_sel, = X_train[:,log_sel_fts], X_test[:,log_sel_fts]\n",
    "\n",
    "        _, log_cv_score, log_test_score = run_logistic_regression(X_train_log_sel, X_test_log_sel,\n",
    "                                                                 y_train, y_test, cv, verbose=0)\n",
    "\n",
    "        bnn_mean_sel = gamma_means_idx_s[:ft_len]\n",
    "\n",
    "        X_train_sel_1, X_test_sel_1 = X_train_val_comb[:,bnn_mean_sel], X_test[:,bnn_mean_sel]\n",
    "\n",
    "        _, bnn_cv_score_1, bnn_test_score_1 = run_logistic_regression(X_train_sel_1, X_test_sel_1,\n",
    "                                                                  y_train_val_comb, y_test, cv, verbose=0)\n",
    "\n",
    "\n",
    "        bnn_dropout_sel = dropout_loss_df[\"feats_idx\"][:ft_len].to_list()\n",
    "\n",
    "        X_train_sel_2, X_test_sel_2 = X_train_val_comb[:,bnn_dropout_sel], X_test[:,bnn_dropout_sel]\n",
    "\n",
    "        _, bnn_cv_score_2, bnn_test_score_2 = run_logistic_regression(X_train_sel_2, X_test_sel_2,\n",
    "                                                                      y_train_val_comb, y_test, cv, verbose=0)\n",
    "\n",
    "\n",
    "        bnn_sel_fts_dict[\"seed\"].append(seed)\n",
    "        bnn_sel_fts_dict[\"feat_sel\"].append(\"bnn_mean\")\n",
    "        bnn_sel_fts_dict[\"num_feats\"].append(ft_len)\n",
    "        bnn_sel_fts_dict[\"cv_score\"].append(bnn_cv_score_1)\n",
    "        bnn_sel_fts_dict[\"test_score\"].append(bnn_test_score_1)\n",
    "\n",
    "        bnn_sel_fts_dict[\"seed\"].append(seed)\n",
    "        bnn_sel_fts_dict[\"feat_sel\"].append(\"bnn_dropout\")\n",
    "        bnn_sel_fts_dict[\"num_feats\"].append(ft_len)\n",
    "        bnn_sel_fts_dict[\"cv_score\"].append(bnn_cv_score_2)\n",
    "        bnn_sel_fts_dict[\"test_score\"].append(bnn_test_score_2)\n",
    "\n",
    "        bnn_sel_fts_dict[\"seed\"].append(seed)\n",
    "        bnn_sel_fts_dict[\"feat_sel\"].append(\"lr\")\n",
    "        bnn_sel_fts_dict[\"num_feats\"].append(ft_len)\n",
    "        bnn_sel_fts_dict[\"cv_score\"].append(log_cv_score)\n",
    "        bnn_sel_fts_dict[\"test_score\"].append(log_test_score)\n",
    "\n",
    "\n",
    "bnn_sel_fts_df = pd.DataFrame(bnn_sel_fts_dict)\n",
    "bnn_sel_fts_df.to_csv(f\"{save_dir_100}/bnn_sel_feats_comparison.csv\")"
   ]
  },
  {
   "cell_type": "code",
   "execution_count": 8,
   "metadata": {
    "collapsed": false,
    "pycharm": {
     "name": "#%%\n"
    }
   },
   "outputs": [],
   "source": [
    "bnn_sel_fts_df = pd.read_csv(f\"{save_dir_100}/bnn_sel_feats_comparison.csv\")"
   ]
  },
  {
   "cell_type": "code",
   "execution_count": 28,
   "metadata": {},
   "outputs": [
    {
     "data": {
      "text/html": [
       "<div>\n",
       "<style scoped>\n",
       "    .dataframe tbody tr th:only-of-type {\n",
       "        vertical-align: middle;\n",
       "    }\n",
       "\n",
       "    .dataframe tbody tr th {\n",
       "        vertical-align: top;\n",
       "    }\n",
       "\n",
       "    .dataframe thead th {\n",
       "        text-align: right;\n",
       "    }\n",
       "</style>\n",
       "<table border=\"1\" class=\"dataframe\">\n",
       "  <thead>\n",
       "    <tr style=\"text-align: right;\">\n",
       "      <th></th>\n",
       "      <th></th>\n",
       "      <th>cv_score</th>\n",
       "      <th>test_score</th>\n",
       "    </tr>\n",
       "    <tr>\n",
       "      <th>feat_sel</th>\n",
       "      <th>num_feats</th>\n",
       "      <th></th>\n",
       "      <th></th>\n",
       "    </tr>\n",
       "  </thead>\n",
       "  <tbody>\n",
       "    <tr>\n",
       "      <th rowspan=\"2\" valign=\"top\">bnn_dropout</th>\n",
       "      <th>5</th>\n",
       "      <td>0.699383</td>\n",
       "      <td>0.660715</td>\n",
       "    </tr>\n",
       "    <tr>\n",
       "      <th>10</th>\n",
       "      <td>0.716268</td>\n",
       "      <td>0.691781</td>\n",
       "    </tr>\n",
       "    <tr>\n",
       "      <th rowspan=\"2\" valign=\"top\">bnn_mean</th>\n",
       "      <th>5</th>\n",
       "      <td>0.554003</td>\n",
       "      <td>0.515844</td>\n",
       "    </tr>\n",
       "    <tr>\n",
       "      <th>10</th>\n",
       "      <td>0.590296</td>\n",
       "      <td>0.540238</td>\n",
       "    </tr>\n",
       "    <tr>\n",
       "      <th rowspan=\"2\" valign=\"top\">lr</th>\n",
       "      <th>5</th>\n",
       "      <td>0.739940</td>\n",
       "      <td>0.705963</td>\n",
       "    </tr>\n",
       "    <tr>\n",
       "      <th>10</th>\n",
       "      <td>0.778950</td>\n",
       "      <td>0.746043</td>\n",
       "    </tr>\n",
       "  </tbody>\n",
       "</table>\n",
       "</div>"
      ],
      "text/plain": [
       "                       cv_score  test_score\n",
       "feat_sel    num_feats                      \n",
       "bnn_dropout 5          0.699383    0.660715\n",
       "            10         0.716268    0.691781\n",
       "bnn_mean    5          0.554003    0.515844\n",
       "            10         0.590296    0.540238\n",
       "lr          5          0.739940    0.705963\n",
       "            10         0.778950    0.746043"
      ]
     },
     "execution_count": 28,
     "metadata": {},
     "output_type": "execute_result"
    }
   ],
   "source": [
    "bnn_sel_fts_df.groupby([\"feat_sel\", \"num_feats\"])[[\"cv_score\", \"test_score\"]].mean()"
   ]
  },
  {
   "cell_type": "code",
   "execution_count": 29,
   "metadata": {
    "collapsed": false,
    "pycharm": {
     "name": "#%%\n"
    }
   },
   "outputs": [
    {
     "data": {
      "image/png": "[encoded data removed]",
      "text/plain": [
       "<Figure size 1152x432 with 2 Axes>"
      ]
     },
     "metadata": {
      "needs_background": "light"
     },
     "output_type": "display_data"
    }
   ],
   "source": [
    "bnn_mean_5_cv_fts = bnn_sel_fts_df[(bnn_sel_fts_df[\"feat_sel\"] == \"bnn_mean\") & (bnn_sel_fts_df[\"num_feats\"] == 5)][\"cv_score\"].to_numpy()\n",
    "bnn_dropout_5_cv_fts = bnn_sel_fts_df[(bnn_sel_fts_df[\"feat_sel\"] == \"bnn_dropout\") & (bnn_sel_fts_df[\"num_feats\"] == 5)][\"cv_score\"].to_numpy()\n",
    "\n",
    "bnn_mean_5_test_fts = bnn_sel_fts_df[(bnn_sel_fts_df[\"feat_sel\"] == \"bnn_mean\") & (bnn_sel_fts_df[\"num_feats\"] == 5)][\"test_score\"].to_numpy()\n",
    "bnn_dropout_5_test_fts = bnn_sel_fts_df[(bnn_sel_fts_df[\"feat_sel\"] == \"bnn_dropout\") & (bnn_sel_fts_df[\"num_feats\"] == 5)][\"test_score\"].to_numpy()\n",
    "\n",
    "labels = [\"mean freq\", \"ens dropout\"]\n",
    "\n",
    "fig, (ax1, ax2) = plt.subplots(1, 2, figsize=(16, 6))\n",
    "\n",
    "bplot1 = ax1.boxplot([bnn_mean_5_cv_fts, bnn_dropout_5_cv_fts], showmeans=True, patch_artist=True, labels=labels)\n",
    "bplot2 = ax2.boxplot([bnn_mean_5_test_fts, bnn_dropout_5_test_fts], showmeans=True, patch_artist=True, labels=labels)\n",
    "\n",
    "# fill with colors\n",
    "colors = ['lightblue', 'lightgreen']\n",
    "for bplot in (bplot1, bplot2):\n",
    "    for patch, color in zip(bplot['boxes'], colors):\n",
    "        patch.set_facecolor(color)\n",
    "\n",
    "\n",
    "fig.suptitle(\"Feature selection - using 5/100 features for prediction\")\n",
    "plt.legend([bplot1['medians'][0], bplot1['means'][0]], ['median', 'mean'])\n",
    "plt.legend([bplot2['medians'][0], bplot2['means'][0]], ['median', 'mean'])\n",
    "\n",
    "ax1.set_ylabel(\"AUC\")\n",
    "ax1.set_title(\"CV Scores\")\n",
    "\n",
    "ax2.set_ylabel(\"AUC\")\n",
    "ax2.set_title(\"Test Scores\")\n",
    "\n",
    "plt.show()"
   ]
  },
  {
   "cell_type": "code",
   "execution_count": 30,
   "metadata": {
    "collapsed": false,
    "pycharm": {
     "name": "#%%\n"
    }
   },
   "outputs": [
    {
     "data": {
      "image/png": "[encoded data removed]",
      "text/plain": [
       "<Figure size 1152x432 with 2 Axes>"
      ]
     },
     "metadata": {
      "needs_background": "light"
     },
     "output_type": "display_data"
    }
   ],
   "source": [
    "bnn_mean_10_cv_fts = bnn_sel_fts_df[(bnn_sel_fts_df[\"feat_sel\"] == \"bnn_mean\") & (bnn_sel_fts_df[\"num_feats\"] == 10)][\"cv_score\"].to_numpy()\n",
    "bnn_dropout_10_cv_fts = bnn_sel_fts_df[(bnn_sel_fts_df[\"feat_sel\"] == \"bnn_dropout\") & (bnn_sel_fts_df[\"num_feats\"] == 10)][\"cv_score\"].to_numpy()\n",
    "\n",
    "bnn_mean_10_test_fts = bnn_sel_fts_df[(bnn_sel_fts_df[\"feat_sel\"] == \"bnn_mean\") & (bnn_sel_fts_df[\"num_feats\"] == 10)][\"test_score\"].to_numpy()\n",
    "bnn_dropout_10_test_fts = bnn_sel_fts_df[(bnn_sel_fts_df[\"feat_sel\"] == \"bnn_dropout\") & (bnn_sel_fts_df[\"num_feats\"] == 10)][\"test_score\"].to_numpy()\n",
    "\n",
    "labels = [\"mean freq\", \"ens dropout\"]\n",
    "\n",
    "fig, (ax1, ax2) = plt.subplots(1, 2, figsize=(16, 6))\n",
    "\n",
    "ax1.grid(color='grey', axis='y', linestyle='-', linewidth=0.25, alpha=0.5)\n",
    "ax2.grid(color='grey', axis='y', linestyle='-', linewidth=0.25, alpha=0.5)\n",
    "\n",
    "bplot1 = ax1.boxplot([bnn_mean_10_cv_fts, bnn_dropout_10_cv_fts], showmeans=True, patch_artist=True, labels=labels)\n",
    "bplot2 = ax2.boxplot([bnn_mean_10_test_fts, bnn_dropout_10_test_fts], showmeans=True, patch_artist=True, labels=labels)\n",
    "\n",
    "# fill with colors\n",
    "colors = ['lightblue', 'lightgreen']\n",
    "for bplot in (bplot1, bplot2):\n",
    "    for patch, color in zip(bplot['boxes'], colors):\n",
    "        patch.set_facecolor(color)\n",
    "\n",
    "fig.suptitle(\"Feature selection - using 10/100 features for prediction\")\n",
    "plt.legend([bplot1['medians'][0], bplot1['means'][0]], ['median', 'mean'])\n",
    "\n",
    "ax1.set_ylabel(\"AUC\")\n",
    "ax1.set_title(\"CV Scores\")\n",
    "\n",
    "ax2.set_ylabel(\"AUC\")\n",
    "ax2.set_title(\"Test Scores\")\n",
    "\n",
    "plt.show()"
   ]
  },
  {
   "cell_type": "code",
   "execution_count": 31,
   "metadata": {
    "collapsed": false,
    "pycharm": {
     "name": "#%%\n"
    }
   },
   "outputs": [
    {
     "data": {
      "text/html": [
       "<div>\n",
       "<style scoped>\n",
       "    .dataframe tbody tr th:only-of-type {\n",
       "        vertical-align: middle;\n",
       "    }\n",
       "\n",
       "    .dataframe tbody tr th {\n",
       "        vertical-align: top;\n",
       "    }\n",
       "\n",
       "    .dataframe thead th {\n",
       "        text-align: right;\n",
       "    }\n",
       "</style>\n",
       "<table border=\"1\" class=\"dataframe\">\n",
       "  <thead>\n",
       "    <tr style=\"text-align: right;\">\n",
       "      <th></th>\n",
       "      <th>seed</th>\n",
       "      <th>feat_sel</th>\n",
       "      <th>num_feats</th>\n",
       "      <th>cv_score</th>\n",
       "      <th>test_score</th>\n",
       "    </tr>\n",
       "  </thead>\n",
       "  <tbody>\n",
       "    <tr>\n",
       "      <th>0</th>\n",
       "      <td>422</td>\n",
       "      <td>bnn_mean</td>\n",
       "      <td>5</td>\n",
       "      <td>0.527062</td>\n",
       "      <td>0.444663</td>\n",
       "    </tr>\n",
       "    <tr>\n",
       "      <th>1</th>\n",
       "      <td>422</td>\n",
       "      <td>bnn_dropout</td>\n",
       "      <td>5</td>\n",
       "      <td>0.706824</td>\n",
       "      <td>0.583225</td>\n",
       "    </tr>\n",
       "    <tr>\n",
       "      <th>2</th>\n",
       "      <td>422</td>\n",
       "      <td>lr</td>\n",
       "      <td>5</td>\n",
       "      <td>0.765435</td>\n",
       "      <td>0.778139</td>\n",
       "    </tr>\n",
       "    <tr>\n",
       "      <th>3</th>\n",
       "      <td>422</td>\n",
       "      <td>bnn_mean</td>\n",
       "      <td>10</td>\n",
       "      <td>0.531692</td>\n",
       "      <td>0.498160</td>\n",
       "    </tr>\n",
       "    <tr>\n",
       "      <th>4</th>\n",
       "      <td>422</td>\n",
       "      <td>bnn_dropout</td>\n",
       "      <td>10</td>\n",
       "      <td>0.705108</td>\n",
       "      <td>0.617021</td>\n",
       "    </tr>\n",
       "    <tr>\n",
       "      <th>...</th>\n",
       "      <td>...</td>\n",
       "      <td>...</td>\n",
       "      <td>...</td>\n",
       "      <td>...</td>\n",
       "      <td>...</td>\n",
       "    </tr>\n",
       "    <tr>\n",
       "      <th>115</th>\n",
       "      <td>196</td>\n",
       "      <td>bnn_dropout</td>\n",
       "      <td>5</td>\n",
       "      <td>0.742079</td>\n",
       "      <td>0.628625</td>\n",
       "    </tr>\n",
       "    <tr>\n",
       "      <th>116</th>\n",
       "      <td>196</td>\n",
       "      <td>lr</td>\n",
       "      <td>5</td>\n",
       "      <td>0.764026</td>\n",
       "      <td>0.723366</td>\n",
       "    </tr>\n",
       "    <tr>\n",
       "      <th>117</th>\n",
       "      <td>196</td>\n",
       "      <td>bnn_mean</td>\n",
       "      <td>10</td>\n",
       "      <td>0.728344</td>\n",
       "      <td>0.657789</td>\n",
       "    </tr>\n",
       "    <tr>\n",
       "      <th>118</th>\n",
       "      <td>196</td>\n",
       "      <td>bnn_dropout</td>\n",
       "      <td>10</td>\n",
       "      <td>0.742056</td>\n",
       "      <td>0.694357</td>\n",
       "    </tr>\n",
       "    <tr>\n",
       "      <th>119</th>\n",
       "      <td>196</td>\n",
       "      <td>lr</td>\n",
       "      <td>10</td>\n",
       "      <td>0.787679</td>\n",
       "      <td>0.750702</td>\n",
       "    </tr>\n",
       "  </tbody>\n",
       "</table>\n",
       "<p>120 rows × 5 columns</p>\n",
       "</div>"
      ],
      "text/plain": [
       "     seed     feat_sel  num_feats  cv_score  test_score\n",
       "0     422     bnn_mean          5  0.527062    0.444663\n",
       "1     422  bnn_dropout          5  0.706824    0.583225\n",
       "2     422           lr          5  0.765435    0.778139\n",
       "3     422     bnn_mean         10  0.531692    0.498160\n",
       "4     422  bnn_dropout         10  0.705108    0.617021\n",
       "..    ...          ...        ...       ...         ...\n",
       "115   196  bnn_dropout          5  0.742079    0.628625\n",
       "116   196           lr          5  0.764026    0.723366\n",
       "117   196     bnn_mean         10  0.728344    0.657789\n",
       "118   196  bnn_dropout         10  0.742056    0.694357\n",
       "119   196           lr         10  0.787679    0.750702\n",
       "\n",
       "[120 rows x 5 columns]"
      ]
     },
     "execution_count": 31,
     "metadata": {},
     "output_type": "execute_result"
    }
   ],
   "source": [
    "bnn_sel_fts_df"
   ]
  },
  {
   "cell_type": "markdown",
   "metadata": {},
   "source": [
    "#### GP"
   ]
  },
  {
   "cell_type": "code",
   "execution_count": 10,
   "metadata": {},
   "outputs": [],
   "source": [
    "save_dir_100 = f\"{data_dir}/exp_data_4/bmm/f100\""
   ]
  },
  {
   "cell_type": "code",
   "execution_count": 15,
   "metadata": {
    "collapsed": false,
    "pycharm": {
     "is_executing": true,
     "name": "#%%\n"
    }
   },
   "outputs": [
    {
     "name": "stderr",
     "output_type": "stream",
     "text": [
      "100%|██████████| 20/20 [2:55:09<00:00, 525.48s/it]  \n"
     ]
    },
    {
     "ename": "ValueError",
     "evalue": "All arrays must be of the same length",
     "output_type": "error",
     "traceback": [
      "\u001b[0;31m---------------------------------------------------------------------------\u001b[0m",
      "\u001b[0;31mValueError\u001b[0m                                Traceback (most recent call last)",
      "\u001b[1;32m/home/xabush/code/snet/moses-incons-pen-xp/notebooks/variable_selection/cancer/nn/2_bnn_bmm_sgmcmc.ipynb Cell 58\u001b[0m in \u001b[0;36m<cell line: 101>\u001b[0;34m()\u001b[0m\n\u001b[1;32m     <a href='vscode-notebook-cell://wsl%2Bubuntu/home/xabush/code/snet/moses-incons-pen-xp/notebooks/variable_selection/cancer/nn/2_bnn_bmm_sgmcmc.ipynb#Y120sdnNjb2RlLXJlbW90ZQ%3D%3D?line=95'>96</a>\u001b[0m         bnn_gp_dict[\u001b[39m\"\u001b[39m\u001b[39mcv_score\u001b[39m\u001b[39m\"\u001b[39m]\u001b[39m.\u001b[39mappend(best_cv_score_oob_fit)\n\u001b[1;32m     <a href='vscode-notebook-cell://wsl%2Bubuntu/home/xabush/code/snet/moses-incons-pen-xp/notebooks/variable_selection/cancer/nn/2_bnn_bmm_sgmcmc.ipynb#Y120sdnNjb2RlLXJlbW90ZQ%3D%3D?line=96'>97</a>\u001b[0m         bnn_gp_dict[\u001b[39m\"\u001b[39m\u001b[39mtest_score\u001b[39m\u001b[39m\"\u001b[39m]\u001b[39m.\u001b[39mappend(best_test_score_oob_fit)\n\u001b[0;32m--> <a href='vscode-notebook-cell://wsl%2Bubuntu/home/xabush/code/snet/moses-incons-pen-xp/notebooks/variable_selection/cancer/nn/2_bnn_bmm_sgmcmc.ipynb#Y120sdnNjb2RlLXJlbW90ZQ%3D%3D?line=100'>101</a>\u001b[0m bnn_gp_df \u001b[39m=\u001b[39m pd\u001b[39m.\u001b[39;49mDataFrame(bnn_gp_dict)\n\u001b[1;32m    <a href='vscode-notebook-cell://wsl%2Bubuntu/home/xabush/code/snet/moses-incons-pen-xp/notebooks/variable_selection/cancer/nn/2_bnn_bmm_sgmcmc.ipynb#Y120sdnNjb2RlLXJlbW90ZQ%3D%3D?line=101'>102</a>\u001b[0m bnn_gp_df\u001b[39m.\u001b[39mto_csv(\u001b[39mf\u001b[39m\u001b[39m\"\u001b[39m\u001b[39m{\u001b[39;00msave_dir_100\u001b[39m}\u001b[39;00m\u001b[39m/bnn_lr_gp.csv\u001b[39m\u001b[39m\"\u001b[39m, index\u001b[39m=\u001b[39m\u001b[39mFalse\u001b[39;00m)\n",
      "File \u001b[0;32m/usr/local/lib/python3.9/dist-packages/pandas/core/frame.py:636\u001b[0m, in \u001b[0;36mDataFrame.__init__\u001b[0;34m(self, data, index, columns, dtype, copy)\u001b[0m\n\u001b[1;32m    630\u001b[0m     mgr \u001b[39m=\u001b[39m \u001b[39mself\u001b[39m\u001b[39m.\u001b[39m_init_mgr(\n\u001b[1;32m    631\u001b[0m         data, axes\u001b[39m=\u001b[39m{\u001b[39m\"\u001b[39m\u001b[39mindex\u001b[39m\u001b[39m\"\u001b[39m: index, \u001b[39m\"\u001b[39m\u001b[39mcolumns\u001b[39m\u001b[39m\"\u001b[39m: columns}, dtype\u001b[39m=\u001b[39mdtype, copy\u001b[39m=\u001b[39mcopy\n\u001b[1;32m    632\u001b[0m     )\n\u001b[1;32m    634\u001b[0m \u001b[39melif\u001b[39;00m \u001b[39misinstance\u001b[39m(data, \u001b[39mdict\u001b[39m):\n\u001b[1;32m    635\u001b[0m     \u001b[39m# GH#38939 de facto copy defaults to False only in non-dict cases\u001b[39;00m\n\u001b[0;32m--> 636\u001b[0m     mgr \u001b[39m=\u001b[39m dict_to_mgr(data, index, columns, dtype\u001b[39m=\u001b[39;49mdtype, copy\u001b[39m=\u001b[39;49mcopy, typ\u001b[39m=\u001b[39;49mmanager)\n\u001b[1;32m    637\u001b[0m \u001b[39melif\u001b[39;00m \u001b[39misinstance\u001b[39m(data, ma\u001b[39m.\u001b[39mMaskedArray):\n\u001b[1;32m    638\u001b[0m     \u001b[39mimport\u001b[39;00m \u001b[39mnumpy\u001b[39;00m\u001b[39m.\u001b[39;00m\u001b[39mma\u001b[39;00m\u001b[39m.\u001b[39;00m\u001b[39mmrecords\u001b[39;00m \u001b[39mas\u001b[39;00m \u001b[39mmrecords\u001b[39;00m\n",
      "File \u001b[0;32m/usr/local/lib/python3.9/dist-packages/pandas/core/internals/construction.py:502\u001b[0m, in \u001b[0;36mdict_to_mgr\u001b[0;34m(data, index, columns, dtype, typ, copy)\u001b[0m\n\u001b[1;32m    494\u001b[0m     arrays \u001b[39m=\u001b[39m [\n\u001b[1;32m    495\u001b[0m         x\n\u001b[1;32m    496\u001b[0m         \u001b[39mif\u001b[39;00m \u001b[39mnot\u001b[39;00m \u001b[39mhasattr\u001b[39m(x, \u001b[39m\"\u001b[39m\u001b[39mdtype\u001b[39m\u001b[39m\"\u001b[39m) \u001b[39mor\u001b[39;00m \u001b[39mnot\u001b[39;00m \u001b[39misinstance\u001b[39m(x\u001b[39m.\u001b[39mdtype, ExtensionDtype)\n\u001b[1;32m    497\u001b[0m         \u001b[39melse\u001b[39;00m x\u001b[39m.\u001b[39mcopy()\n\u001b[1;32m    498\u001b[0m         \u001b[39mfor\u001b[39;00m x \u001b[39min\u001b[39;00m arrays\n\u001b[1;32m    499\u001b[0m     ]\n\u001b[1;32m    500\u001b[0m     \u001b[39m# TODO: can we get rid of the dt64tz special case above?\u001b[39;00m\n\u001b[0;32m--> 502\u001b[0m \u001b[39mreturn\u001b[39;00m arrays_to_mgr(arrays, columns, index, dtype\u001b[39m=\u001b[39;49mdtype, typ\u001b[39m=\u001b[39;49mtyp, consolidate\u001b[39m=\u001b[39;49mcopy)\n",
      "File \u001b[0;32m/usr/local/lib/python3.9/dist-packages/pandas/core/internals/construction.py:120\u001b[0m, in \u001b[0;36marrays_to_mgr\u001b[0;34m(arrays, columns, index, dtype, verify_integrity, typ, consolidate)\u001b[0m\n\u001b[1;32m    117\u001b[0m \u001b[39mif\u001b[39;00m verify_integrity:\n\u001b[1;32m    118\u001b[0m     \u001b[39m# figure out the index, if necessary\u001b[39;00m\n\u001b[1;32m    119\u001b[0m     \u001b[39mif\u001b[39;00m index \u001b[39mis\u001b[39;00m \u001b[39mNone\u001b[39;00m:\n\u001b[0;32m--> 120\u001b[0m         index \u001b[39m=\u001b[39m _extract_index(arrays)\n\u001b[1;32m    121\u001b[0m     \u001b[39melse\u001b[39;00m:\n\u001b[1;32m    122\u001b[0m         index \u001b[39m=\u001b[39m ensure_index(index)\n",
      "File \u001b[0;32m/usr/local/lib/python3.9/dist-packages/pandas/core/internals/construction.py:674\u001b[0m, in \u001b[0;36m_extract_index\u001b[0;34m(data)\u001b[0m\n\u001b[1;32m    672\u001b[0m lengths \u001b[39m=\u001b[39m \u001b[39mlist\u001b[39m(\u001b[39mset\u001b[39m(raw_lengths))\n\u001b[1;32m    673\u001b[0m \u001b[39mif\u001b[39;00m \u001b[39mlen\u001b[39m(lengths) \u001b[39m>\u001b[39m \u001b[39m1\u001b[39m:\n\u001b[0;32m--> 674\u001b[0m     \u001b[39mraise\u001b[39;00m \u001b[39mValueError\u001b[39;00m(\u001b[39m\"\u001b[39m\u001b[39mAll arrays must be of the same length\u001b[39m\u001b[39m\"\u001b[39m)\n\u001b[1;32m    676\u001b[0m \u001b[39mif\u001b[39;00m have_dicts:\n\u001b[1;32m    677\u001b[0m     \u001b[39mraise\u001b[39;00m \u001b[39mValueError\u001b[39;00m(\n\u001b[1;32m    678\u001b[0m         \u001b[39m\"\u001b[39m\u001b[39mMixing dicts with non-Series may lead to ambiguous ordering.\u001b[39m\u001b[39m\"\u001b[39m\n\u001b[1;32m    679\u001b[0m     )\n",
      "\u001b[0;31mValueError\u001b[0m: All arrays must be of the same length"
     ]
    }
   ],
   "source": [
    "from gplearn.genetic import SymbolicTransformer, SymbolicClassifier\n",
    "from gplearn.functions import make_function\n",
    "import operator\n",
    "from tqdm import tqdm\n",
    "from run_nn_fisher_test_exp import run_logistic_regression\n",
    "\n",
    "function_set = ['add', 'sub', 'mul', 'div', 'sqrt', 'log',\n",
    "                'abs', 'neg', 'inv', 'max', 'min']\n",
    "\n",
    "bnn_gp_dict = {\"seed\": [], \"orig_num_feats\": [], \"gp_num_feats\": [] ,\"classifier\": [], \"cv_score\": [], \"test_score\": []}\n",
    "\n",
    "feat_lens = [5, 10]\n",
    "\n",
    "num_models = [5, 10, 20, 50]\n",
    "\n",
    "for i in tqdm(range(len(seeds))):\n",
    "\n",
    "    seed, net, data = prepare_data(seeds, i, data_dfs, net_dfs, test_size=0.3)\n",
    "    cv = StratifiedKFold(n_splits=5, shuffle=True, random_state=seed)\n",
    "    X_train, X_out_val, X_test, y_train, y_out_val, y_test = data\n",
    "   \n",
    "    X_train_val_comb, y_train_val_comb = np.concatenate([X_train, X_out_val], axis=0), np.concatenate([y_train, y_out_val], axis=0)\n",
    "    dropout_loss_df = pd.read_csv(f\"{save_dir_100}/drop_out_loss_s_{seed}.csv\")\n",
    "\n",
    "    for ft_len in feat_lens:\n",
    "\n",
    "        bnn_dropout_sel = dropout_loss_df[\"feats_idx\"][:ft_len].to_list()\n",
    "        X_train_sel_1, X_test_sel_1 = X_train_val_comb[:,bnn_dropout_sel], X_test[:,bnn_dropout_sel]\n",
    "\n",
    "        _, bnn_cv_score_1, bnn_test_score_1 = run_logistic_regression(X_train_sel_1, X_test_sel_1,\n",
    "                                                                      y_train_val_comb, y_test, cv, verbose=0)\n",
    "\n",
    "        X_gp_train_sel, X_gp_val_sel, X_gp_test_sel = X_out_val[:,bnn_dropout_sel], X_train[:,bnn_dropout_sel] ,X_test[:,bnn_dropout_sel]\n",
    "\n",
    "        gp = SymbolicClassifier(generations=500, population_size=1000,\n",
    "                         function_set=function_set, parsimony_coefficient=0.001,\n",
    "                         random_state=seed, max_samples=0.8, verbose=0,\n",
    "                         p_crossover=0.7, p_subtree_mutation=0.1, p_hoist_mutation=0.01,\n",
    "                         p_point_mutation=0.1, p_point_replace=0.05)\n",
    "\n",
    "        # gp = SymbolicTransformer(generations=100, population_size=1000, hall_of_fame=100, n_components=20,\n",
    "        #                          function_set=function_set, parsimony_coefficient=0.001,\n",
    "        #                          random_state=seed, max_samples=0.8, verbose=0,\n",
    "        #                          p_crossover=0.7, p_subtree_mutation=0.1, p_hoist_mutation=0.01,\n",
    "        #                          p_point_mutation=0.1, p_point_replace=0.05, metric=\"spearman\")\n",
    "\n",
    "        gp.fit(X_gp_train_sel, y_out_val)\n",
    "\n",
    "        gp_features_val_fit = gp_transform(gp, X_gp_val_sel, classifier=True, num_models=50, sort_fit=\"Fitness\")\n",
    "        gp_features_test_fit = gp_transform(gp, X_gp_test_sel, classifier=True, num_models=50, sort_fit=\"Fitness\")\n",
    "\n",
    "        gp_features_val_oob_fit = gp_transform(gp, X_gp_val_sel, classifier=True, num_models=50, sort_fit=\"OOB_fitness\")\n",
    "        gp_features_test_oob_fit = gp_transform(gp, X_gp_test_sel, classifier=True, num_models=50, sort_fit=\"OOB_fitness\")\n",
    "\n",
    "        best_cv_score_fit, best_test_score_fit = 0.0, 0.0\n",
    "        best_cv_score_oob_fit, best_test_score_oob_fit = 0.0, 0.0\n",
    "        best_n_models_fit, best_n_models_oob_fit = 0, 0\n",
    "        for j in num_models:\n",
    "            X_val_comb_fit, X_test_comb_fit = np.concatenate([X_gp_val_sel, gp_features_val_fit[:,:j]], axis=1), np.concatenate([X_gp_test_sel, gp_features_test_fit[:,:j]], axis=1)\n",
    "\n",
    "            _, log_bnn_gp_cv_fit, log_bnn_gp_test_fit = run_logistic_regression(X_val_comb_fit, X_test_comb_fit, y_train,\n",
    "                                                                                        y_test, cv)\n",
    "\n",
    "            if log_bnn_gp_cv_fit > best_cv_score_fit:\n",
    "                best_cv_score_fit = log_bnn_gp_cv_fit\n",
    "                best_test_score_fit = log_bnn_gp_test_fit\n",
    "                best_n_models_fit = j\n",
    "\n",
    "            X_val_comb_oob_fit, X_test_comb_oob_fit = np.concatenate([X_gp_val_sel, gp_features_val_oob_fit[:,:j]], axis=1), np.concatenate([X_gp_test_sel, gp_features_test_oob_fit[:,:j]], axis=1)\n",
    "\n",
    "            _, log_bnn_gp_cv_oob_fit, log_bnn_gp_test_oob_fit = run_logistic_regression(X_val_comb_oob_fit, X_test_comb_oob_fit, y_train,\n",
    "                                                                                        y_test, cv)\n",
    "            \n",
    "            if log_bnn_gp_cv_oob_fit > best_cv_score_oob_fit:\n",
    "                best_cv_score_oob_fit = log_bnn_gp_cv_oob_fit\n",
    "                best_test_score_oob_fit = log_bnn_gp_test_oob_fit\n",
    "                best_n_models_oob_fit = j\n",
    "\n",
    "        bnn_gp_dict[\"seed\"].append(seed)\n",
    "        bnn_gp_dict[\"classifier\"].append(\"BNN + LR\")\n",
    "        bnn_gp_dict[\"orig_num_feats\"].append(ft_len)\n",
    "        # bnn_gp_dict[\"gp_num_feats\"].append(0)\n",
    "        bnn_gp_dict[\"cv_score\"].append(bnn_cv_score_1)\n",
    "        bnn_gp_dict[\"test_score\"].append(bnn_test_score_1)\n",
    "\n",
    "        bnn_gp_dict[\"seed\"].append(seed)\n",
    "        bnn_gp_dict[\"classifier\"].append(\"BNN + LR + GP1\")\n",
    "        bnn_gp_dict[\"orig_num_feats\"].append(ft_len)\n",
    "        bnn_gp_dict[\"gp_num_feats\"].append(best_n_models_fit)\n",
    "        bnn_gp_dict[\"cv_score\"].append(best_cv_score_fit)\n",
    "        bnn_gp_dict[\"test_score\"].append(best_test_score_fit)\n",
    "\n",
    "        bnn_gp_dict[\"seed\"].append(seed)\n",
    "        bnn_gp_dict[\"classifier\"].append(\"BNN + LR + GP2\")\n",
    "        bnn_gp_dict[\"orig_num_feats\"].append(ft_len)\n",
    "        bnn_gp_dict[\"gp_num_feats\"].append(best_n_models_oob_fit)\n",
    "        bnn_gp_dict[\"cv_score\"].append(best_cv_score_oob_fit)\n",
    "        bnn_gp_dict[\"test_score\"].append(best_test_score_oob_fit)\n",
    "\n",
    "\n",
    "\n",
    "bnn_gp_df = pd.DataFrame(bnn_gp_dict)\n",
    "bnn_gp_df.to_csv(f\"{save_dir_100}/bnn_lr_gp.csv\", index=False)"
   ]
  },
  {
   "cell_type": "code",
   "execution_count": 18,
   "metadata": {},
   "outputs": [],
   "source": [
    "gp_num_features = bnn_gp_dict[\"gp_num_feats\"]"
   ]
  },
  {
   "cell_type": "code",
   "execution_count": 20,
   "metadata": {},
   "outputs": [],
   "source": [
    "# bnn_gp_df = pd.DataFrame(bnn_gp_dict)\n",
    "# bnn_gp_df.to_csv(f\"{save_dir_100}/bnn_lr_gp.csv\", index=False)"
   ]
  },
  {
   "cell_type": "code",
   "execution_count": 11,
   "metadata": {
    "collapsed": false,
    "pycharm": {
     "name": "#%%\n"
    }
   },
   "outputs": [
    {
     "data": {
      "text/html": [
       "<div>\n",
       "<style scoped>\n",
       "    .dataframe tbody tr th:only-of-type {\n",
       "        vertical-align: middle;\n",
       "    }\n",
       "\n",
       "    .dataframe tbody tr th {\n",
       "        vertical-align: top;\n",
       "    }\n",
       "\n",
       "    .dataframe thead th {\n",
       "        text-align: right;\n",
       "    }\n",
       "</style>\n",
       "<table border=\"1\" class=\"dataframe\">\n",
       "  <thead>\n",
       "    <tr style=\"text-align: right;\">\n",
       "      <th></th>\n",
       "      <th>seed</th>\n",
       "      <th>orig_num_feats</th>\n",
       "      <th>classifier</th>\n",
       "      <th>cv_score</th>\n",
       "      <th>test_score</th>\n",
       "    </tr>\n",
       "  </thead>\n",
       "  <tbody>\n",
       "    <tr>\n",
       "      <th>0</th>\n",
       "      <td>422</td>\n",
       "      <td>5</td>\n",
       "      <td>BNN + LR</td>\n",
       "      <td>0.706824</td>\n",
       "      <td>0.583225</td>\n",
       "    </tr>\n",
       "    <tr>\n",
       "      <th>1</th>\n",
       "      <td>422</td>\n",
       "      <td>5</td>\n",
       "      <td>BNN + LR + GP1</td>\n",
       "      <td>0.713262</td>\n",
       "      <td>0.583748</td>\n",
       "    </tr>\n",
       "    <tr>\n",
       "      <th>2</th>\n",
       "      <td>422</td>\n",
       "      <td>5</td>\n",
       "      <td>BNN + LR + GP2</td>\n",
       "      <td>0.712281</td>\n",
       "      <td>0.583769</td>\n",
       "    </tr>\n",
       "    <tr>\n",
       "      <th>3</th>\n",
       "      <td>422</td>\n",
       "      <td>10</td>\n",
       "      <td>BNN + LR</td>\n",
       "      <td>0.705108</td>\n",
       "      <td>0.617021</td>\n",
       "    </tr>\n",
       "    <tr>\n",
       "      <th>4</th>\n",
       "      <td>422</td>\n",
       "      <td>10</td>\n",
       "      <td>BNN + LR + GP1</td>\n",
       "      <td>0.718502</td>\n",
       "      <td>0.612253</td>\n",
       "    </tr>\n",
       "    <tr>\n",
       "      <th>...</th>\n",
       "      <td>...</td>\n",
       "      <td>...</td>\n",
       "      <td>...</td>\n",
       "      <td>...</td>\n",
       "      <td>...</td>\n",
       "    </tr>\n",
       "    <tr>\n",
       "      <th>115</th>\n",
       "      <td>196</td>\n",
       "      <td>5</td>\n",
       "      <td>BNN + LR + GP1</td>\n",
       "      <td>0.741399</td>\n",
       "      <td>0.695400</td>\n",
       "    </tr>\n",
       "    <tr>\n",
       "      <th>116</th>\n",
       "      <td>196</td>\n",
       "      <td>5</td>\n",
       "      <td>BNN + LR + GP2</td>\n",
       "      <td>0.741960</td>\n",
       "      <td>0.628377</td>\n",
       "    </tr>\n",
       "    <tr>\n",
       "      <th>117</th>\n",
       "      <td>196</td>\n",
       "      <td>10</td>\n",
       "      <td>BNN + LR</td>\n",
       "      <td>0.742056</td>\n",
       "      <td>0.694357</td>\n",
       "    </tr>\n",
       "    <tr>\n",
       "      <th>118</th>\n",
       "      <td>196</td>\n",
       "      <td>10</td>\n",
       "      <td>BNN + LR + GP1</td>\n",
       "      <td>0.738861</td>\n",
       "      <td>0.677255</td>\n",
       "    </tr>\n",
       "    <tr>\n",
       "      <th>119</th>\n",
       "      <td>196</td>\n",
       "      <td>10</td>\n",
       "      <td>BNN + LR + GP2</td>\n",
       "      <td>0.740198</td>\n",
       "      <td>0.677607</td>\n",
       "    </tr>\n",
       "  </tbody>\n",
       "</table>\n",
       "<p>120 rows × 5 columns</p>\n",
       "</div>"
      ],
      "text/plain": [
       "     seed  orig_num_feats      classifier  cv_score  test_score\n",
       "0     422               5        BNN + LR  0.706824    0.583225\n",
       "1     422               5  BNN + LR + GP1  0.713262    0.583748\n",
       "2     422               5  BNN + LR + GP2  0.712281    0.583769\n",
       "3     422              10        BNN + LR  0.705108    0.617021\n",
       "4     422              10  BNN + LR + GP1  0.718502    0.612253\n",
       "..    ...             ...             ...       ...         ...\n",
       "115   196               5  BNN + LR + GP1  0.741399    0.695400\n",
       "116   196               5  BNN + LR + GP2  0.741960    0.628377\n",
       "117   196              10        BNN + LR  0.742056    0.694357\n",
       "118   196              10  BNN + LR + GP1  0.738861    0.677255\n",
       "119   196              10  BNN + LR + GP2  0.740198    0.677607\n",
       "\n",
       "[120 rows x 5 columns]"
      ]
     },
     "execution_count": 11,
     "metadata": {},
     "output_type": "execute_result"
    }
   ],
   "source": [
    "bnn_gp_df = pd.read_csv(f\"{save_dir_100}/bnn_lr_gp.csv\")\n",
    "bnn_gp_df"
   ]
  },
  {
   "cell_type": "code",
   "execution_count": 12,
   "metadata": {
    "collapsed": false,
    "pycharm": {
     "name": "#%%\n"
    }
   },
   "outputs": [
    {
     "data": {
      "text/html": [
       "<div>\n",
       "<style scoped>\n",
       "    .dataframe tbody tr th:only-of-type {\n",
       "        vertical-align: middle;\n",
       "    }\n",
       "\n",
       "    .dataframe tbody tr th {\n",
       "        vertical-align: top;\n",
       "    }\n",
       "\n",
       "    .dataframe thead th {\n",
       "        text-align: right;\n",
       "    }\n",
       "</style>\n",
       "<table border=\"1\" class=\"dataframe\">\n",
       "  <thead>\n",
       "    <tr style=\"text-align: right;\">\n",
       "      <th></th>\n",
       "      <th></th>\n",
       "      <th>cv_score</th>\n",
       "      <th>test_score</th>\n",
       "    </tr>\n",
       "    <tr>\n",
       "      <th>classifier</th>\n",
       "      <th>orig_num_feats</th>\n",
       "      <th></th>\n",
       "      <th></th>\n",
       "    </tr>\n",
       "  </thead>\n",
       "  <tbody>\n",
       "    <tr>\n",
       "      <th rowspan=\"2\" valign=\"top\">BNN + LR</th>\n",
       "      <th>5</th>\n",
       "      <td>0.699383</td>\n",
       "      <td>0.660807</td>\n",
       "    </tr>\n",
       "    <tr>\n",
       "      <th>10</th>\n",
       "      <td>0.716268</td>\n",
       "      <td>0.691755</td>\n",
       "    </tr>\n",
       "    <tr>\n",
       "      <th rowspan=\"2\" valign=\"top\">BNN + LR + GP1</th>\n",
       "      <th>5</th>\n",
       "      <td>0.706323</td>\n",
       "      <td>0.660795</td>\n",
       "    </tr>\n",
       "    <tr>\n",
       "      <th>10</th>\n",
       "      <td>0.720339</td>\n",
       "      <td>0.685887</td>\n",
       "    </tr>\n",
       "    <tr>\n",
       "      <th rowspan=\"2\" valign=\"top\">BNN + LR + GP2</th>\n",
       "      <th>5</th>\n",
       "      <td>0.710758</td>\n",
       "      <td>0.645503</td>\n",
       "    </tr>\n",
       "    <tr>\n",
       "      <th>10</th>\n",
       "      <td>0.719304</td>\n",
       "      <td>0.686982</td>\n",
       "    </tr>\n",
       "  </tbody>\n",
       "</table>\n",
       "</div>"
      ],
      "text/plain": [
       "                               cv_score  test_score\n",
       "classifier     orig_num_feats                      \n",
       "BNN + LR       5               0.699383    0.660807\n",
       "               10              0.716268    0.691755\n",
       "BNN + LR + GP1 5               0.706323    0.660795\n",
       "               10              0.720339    0.685887\n",
       "BNN + LR + GP2 5               0.710758    0.645503\n",
       "               10              0.719304    0.686982"
      ]
     },
     "execution_count": 12,
     "metadata": {},
     "output_type": "execute_result"
    }
   ],
   "source": [
    "bnn_gp_df.groupby([\"classifier\", \"orig_num_feats\"])[[\"cv_score\", \"test_score\"]].mean()"
   ]
  },
  {
   "cell_type": "code",
   "execution_count": 14,
   "metadata": {},
   "outputs": [
    {
     "data": {
      "image/png": "[encoded data removed]",
      "text/plain": [
       "<Figure size 1152x432 with 2 Axes>"
      ]
     },
     "metadata": {
      "needs_background": "light"
     },
     "output_type": "display_data"
    }
   ],
   "source": [
    "bnn_lr_cv_5_fts = bnn_gp_df[(bnn_gp_df[\"classifier\"] == \"BNN + LR\") & (bnn_gp_df[\"orig_num_feats\"] == 5)][\"cv_score\"].to_numpy()\n",
    "bnn_gp_1_cv_5_fts = bnn_gp_df[(bnn_gp_df[\"classifier\"] == \"BNN + LR + GP1\") & (bnn_gp_df[\"orig_num_feats\"] == 5)][\"cv_score\"].to_numpy()\n",
    "bnn_gp_2_cv_5_fts = bnn_gp_df[(bnn_gp_df[\"classifier\"] == \"BNN + LR + GP2\") & (bnn_gp_df[\"orig_num_feats\"] == 5)][\"cv_score\"].to_numpy()\n",
    "\n",
    "bnn_lr_test_5_fts = bnn_gp_df[(bnn_gp_df[\"classifier\"] == \"BNN + LR\") & (bnn_gp_df[\"orig_num_feats\"] == 5)][\"test_score\"].to_numpy()\n",
    "bnn_gp_1_test_5_fts = bnn_gp_df[(bnn_gp_df[\"classifier\"] == \"BNN + LR + GP2\") & (bnn_gp_df[\"orig_num_feats\"] == 5)][\"test_score\"].to_numpy()\n",
    "bnn_gp_2_test_5_fts = bnn_gp_df[(bnn_gp_df[\"classifier\"] == \"BNN + LR + GP2\") & (bnn_gp_df[\"orig_num_feats\"] == 5)][\"test_score\"].to_numpy()\n",
    "\n",
    "labels = [\"BNN + LR\", \"BNN + LR + GP1\", \"BNN + LR + GP2\"]\n",
    "\n",
    "fig, (ax1, ax2) = plt.subplots(1, 2, figsize=(16, 6))\n",
    "\n",
    "bplot1 = ax1.boxplot([bnn_lr_cv_5_fts, bnn_gp_1_cv_5_fts, bnn_gp_2_cv_5_fts], showmeans=True, patch_artist=True, labels=labels)\n",
    "bplot2 = ax2.boxplot([bnn_lr_test_5_fts, bnn_gp_1_test_5_fts, bnn_gp_2_test_5_fts], showmeans=True, patch_artist=True, labels=labels)\n",
    "\n",
    "# fill with colors\n",
    "colors = ['lightblue', 'lightgreen', \"lightpink\"]\n",
    "for bplot in (bplot1, bplot2):\n",
    "    for patch, color in zip(bplot['boxes'], colors):\n",
    "        patch.set_facecolor(color)\n",
    "\n",
    "\n",
    "fig.suptitle(\"Feature selection - using 5/100 features for prediction\")\n",
    "plt.legend([bplot1['medians'][0], bplot1['means'][0]], ['median', 'mean'])\n",
    "plt.legend([bplot2['medians'][0], bplot2['means'][0]], ['median', 'mean'])\n",
    "\n",
    "ax1.set_ylabel(\"AUC\")\n",
    "ax1.set_title(\"CV Scores\")\n",
    "\n",
    "ax2.set_ylabel(\"AUC\")\n",
    "ax2.set_title(\"Test Scores\")\n",
    "\n",
    "plt.show()"
   ]
  },
  {
   "cell_type": "code",
   "execution_count": 16,
   "metadata": {},
   "outputs": [
    {
     "data": {
      "image/png": "[encoded data removed]",
      "text/plain": [
       "<Figure size 1152x432 with 2 Axes>"
      ]
     },
     "metadata": {
      "needs_background": "light"
     },
     "output_type": "display_data"
    }
   ],
   "source": [
    "bnn_lr_cv_10_fts = bnn_gp_df[(bnn_gp_df[\"classifier\"] == \"BNN + LR\") & (bnn_gp_df[\"orig_num_feats\"] == 10)][\"cv_score\"].to_numpy()\n",
    "bnn_gp_1_cv_10_fts = bnn_gp_df[(bnn_gp_df[\"classifier\"] == \"BNN + LR + GP1\") & (bnn_gp_df[\"orig_num_feats\"] == 10)][\"cv_score\"].to_numpy()\n",
    "bnn_gp_2_cv_10_fts = bnn_gp_df[(bnn_gp_df[\"classifier\"] == \"BNN + LR + GP2\") & (bnn_gp_df[\"orig_num_feats\"] == 10)][\"cv_score\"].to_numpy()\n",
    "\n",
    "bnn_lr_test_10_fts = bnn_gp_df[(bnn_gp_df[\"classifier\"] == \"BNN + LR\") & (bnn_gp_df[\"orig_num_feats\"] == 10)][\"test_score\"].to_numpy()\n",
    "bnn_gp_1_test_10_fts = bnn_gp_df[(bnn_gp_df[\"classifier\"] == \"BNN + LR + GP2\") & (bnn_gp_df[\"orig_num_feats\"] == 10)][\"test_score\"].to_numpy()\n",
    "bnn_gp_2_test_10_fts = bnn_gp_df[(bnn_gp_df[\"classifier\"] == \"BNN + LR + GP2\") & (bnn_gp_df[\"orig_num_feats\"] == 10)][\"test_score\"].to_numpy()\n",
    "\n",
    "labels = [\"BNN + LR\", \"BNN + LR + GP1\", \"BNN + LR + GP2\"]\n",
    "\n",
    "fig, (ax1, ax2) = plt.subplots(1, 2, figsize=(16, 6))\n",
    "\n",
    "bplot1 = ax1.boxplot([bnn_lr_cv_10_fts, bnn_gp_1_cv_10_fts, bnn_gp_2_cv_10_fts], showmeans=True, patch_artist=True, labels=labels)\n",
    "bplot2 = ax2.boxplot([bnn_lr_test_10_fts, bnn_gp_1_test_10_fts, bnn_gp_2_test_10_fts], showmeans=True, patch_artist=True, labels=labels)\n",
    "\n",
    "# fill with colors\n",
    "colors = ['lightblue', 'lightgreen', \"lightpink\"]\n",
    "for bplot in (bplot1, bplot2):\n",
    "    for patch, color in zip(bplot['boxes'], colors):\n",
    "        patch.set_facecolor(color)\n",
    "\n",
    "\n",
    "fig.suptitle(\"Feature selection - using 10/100 features for prediction\")\n",
    "plt.legend([bplot1['medians'][0], bplot1['means'][0]], ['median', 'mean'])\n",
    "plt.legend([bplot2['medians'][0], bplot2['means'][0]], ['median', 'mean'])\n",
    "\n",
    "ax1.set_ylabel(\"AUC\")\n",
    "ax1.set_title(\"CV Scores\")\n",
    "\n",
    "ax2.set_ylabel(\"AUC\")\n",
    "ax2.set_title(\"Test Scores\")\n",
    "\n",
    "plt.show()"
   ]
  },
  {
   "cell_type": "markdown",
   "metadata": {
    "collapsed": false,
    "pycharm": {
     "name": "#%% md\n"
    }
   },
   "source": [
    "### Logistic Regression vs. BNN feat_size = 500"
   ]
  },
  {
   "cell_type": "code",
   "execution_count": 1,
   "metadata": {
    "collapsed": false,
    "pycharm": {
     "name": "#%%\n"
    }
   },
   "outputs": [
    {
     "ename": "NameError",
     "evalue": "name 'data_dir' is not defined",
     "output_type": "error",
     "traceback": [
      "\u001b[0;31m---------------------------------------------------------------------------\u001b[0m",
      "\u001b[0;31mNameError\u001b[0m                                 Traceback (most recent call last)",
      "Input \u001b[0;32mIn [1]\u001b[0m, in \u001b[0;36m<cell line: 1>\u001b[0;34m()\u001b[0m\n\u001b[0;32m----> 1\u001b[0m save_dir_500 \u001b[38;5;241m=\u001b[39m \u001b[38;5;124mf\u001b[39m\u001b[38;5;124m\"\u001b[39m\u001b[38;5;132;01m{\u001b[39;00mdata_dir\u001b[38;5;132;01m}\u001b[39;00m\u001b[38;5;124m/exp_data_4/bmm/f500\u001b[39m\u001b[38;5;124m\"\u001b[39m\n",
      "\u001b[0;31mNameError\u001b[0m: name 'data_dir' is not defined"
     ]
    }
   ],
   "source": [
    "save_dir_500 = f\"{data_dir}/exp_data_4/bmm/f500\""
   ]
  },
  {
   "cell_type": "code",
   "execution_count": 39,
   "metadata": {
    "collapsed": false,
    "pycharm": {
     "name": "#%%\n"
    }
   },
   "outputs": [
    {
     "name": "stdout",
     "output_type": "stream",
     "text": [
      "Running - seed 422\n"
     ]
    },
    {
     "ename": "KeyboardInterrupt",
     "evalue": "",
     "output_type": "error",
     "traceback": [
      "\u001b[0;31m---------------------------------------------------------------------------\u001b[0m",
      "\u001b[0;31mKeyboardInterrupt\u001b[0m                         Traceback (most recent call last)",
      "Input \u001b[0;32mIn [39]\u001b[0m, in \u001b[0;36m<cell line: 20>\u001b[0;34m()\u001b[0m\n\u001b[1;32m     36\u001b[0m clf\u001b[38;5;241m.\u001b[39mfit(X_train, y_train)\n\u001b[1;32m     37\u001b[0m log_test_score \u001b[38;5;241m=\u001b[39m roc_auc_score(y_test, clf\u001b[38;5;241m.\u001b[39mpredict_proba(X_test)[:,\u001b[38;5;241m1\u001b[39m])\n\u001b[0;32m---> 39\u001b[0m config, bnn_cv_score \u001b[38;5;241m=\u001b[39m \u001b[43moptimize_hyper_parameters\u001b[49m\u001b[43m(\u001b[49m\u001b[43mseed\u001b[49m\u001b[43m,\u001b[49m\u001b[43m \u001b[49m\u001b[43mX_train\u001b[49m\u001b[43m,\u001b[49m\u001b[43m \u001b[49m\u001b[43my_train\u001b[49m\u001b[43m)\u001b[49m\n\u001b[1;32m     41\u001b[0m \u001b[38;5;66;03m# config = pickle.load(open(f\"{save_dir}/bnn_params_s_{seed}.pickle\", \"rb\"))\u001b[39;00m\n\u001b[1;32m     42\u001b[0m config_values\u001b[38;5;241m.\u001b[39mappend(config)\n",
      "Input \u001b[0;32mIn [7]\u001b[0m, in \u001b[0;36moptimize_hyper_parameters\u001b[0;34m(seed, X, y)\u001b[0m\n\u001b[1;32m     94\u001b[0m tae \u001b[38;5;241m=\u001b[39m smac\u001b[38;5;241m.\u001b[39mget_tae_runner()\n\u001b[1;32m     96\u001b[0m \u001b[38;5;28;01mtry\u001b[39;00m:\n\u001b[0;32m---> 97\u001b[0m     incumbent \u001b[38;5;241m=\u001b[39m \u001b[43msmac\u001b[49m\u001b[38;5;241;43m.\u001b[39;49m\u001b[43moptimize\u001b[49m\u001b[43m(\u001b[49m\u001b[43m)\u001b[49m\n\u001b[1;32m     99\u001b[0m \u001b[38;5;28;01mfinally\u001b[39;00m:\n\u001b[1;32m    100\u001b[0m     incumbent \u001b[38;5;241m=\u001b[39m smac\u001b[38;5;241m.\u001b[39msolver\u001b[38;5;241m.\u001b[39mincumbent\n",
      "File \u001b[0;32m/usr/local/lib/python3.9/dist-packages/smac/facade/smac_ac_facade.py:723\u001b[0m, in \u001b[0;36mSMAC4AC.optimize\u001b[0;34m(self)\u001b[0m\n\u001b[1;32m    721\u001b[0m incumbent \u001b[38;5;241m=\u001b[39m \u001b[38;5;28;01mNone\u001b[39;00m\n\u001b[1;32m    722\u001b[0m \u001b[38;5;28;01mtry\u001b[39;00m:\n\u001b[0;32m--> 723\u001b[0m     incumbent \u001b[38;5;241m=\u001b[39m \u001b[38;5;28;43mself\u001b[39;49m\u001b[38;5;241;43m.\u001b[39;49m\u001b[43msolver\u001b[49m\u001b[38;5;241;43m.\u001b[39;49m\u001b[43mrun\u001b[49m\u001b[43m(\u001b[49m\u001b[43m)\u001b[49m\n\u001b[1;32m    724\u001b[0m \u001b[38;5;28;01mfinally\u001b[39;00m:\n\u001b[1;32m    725\u001b[0m     \u001b[38;5;28mself\u001b[39m\u001b[38;5;241m.\u001b[39msolver\u001b[38;5;241m.\u001b[39msave()\n",
      "File \u001b[0;32m/usr/local/lib/python3.9/dist-packages/smac/optimizer/smbo.py:279\u001b[0m, in \u001b[0;36mSMBO.run\u001b[0;34m(self)\u001b[0m\n\u001b[1;32m    267\u001b[0m \u001b[38;5;28mself\u001b[39m\u001b[38;5;241m.\u001b[39mrunhistory\u001b[38;5;241m.\u001b[39madd(\n\u001b[1;32m    268\u001b[0m     config\u001b[38;5;241m=\u001b[39mrun_info\u001b[38;5;241m.\u001b[39mconfig,\n\u001b[1;32m    269\u001b[0m     cost\u001b[38;5;241m=\u001b[39m\u001b[38;5;28mfloat\u001b[39m(MAXINT) \u001b[38;5;28;01mif\u001b[39;00m num_obj \u001b[38;5;241m==\u001b[39m \u001b[38;5;241m1\u001b[39m \u001b[38;5;28;01melse\u001b[39;00m np\u001b[38;5;241m.\u001b[39mfull(num_obj, \u001b[38;5;28mfloat\u001b[39m(MAXINT)),\n\u001b[0;32m   (...)\u001b[0m\n\u001b[1;32m    274\u001b[0m     budget\u001b[38;5;241m=\u001b[39mrun_info\u001b[38;5;241m.\u001b[39mbudget,\n\u001b[1;32m    275\u001b[0m )\n\u001b[1;32m    277\u001b[0m run_info\u001b[38;5;241m.\u001b[39mconfig\u001b[38;5;241m.\u001b[39mconfig_id \u001b[38;5;241m=\u001b[39m \u001b[38;5;28mself\u001b[39m\u001b[38;5;241m.\u001b[39mrunhistory\u001b[38;5;241m.\u001b[39mconfig_ids[run_info\u001b[38;5;241m.\u001b[39mconfig]\n\u001b[0;32m--> 279\u001b[0m \u001b[38;5;28;43mself\u001b[39;49m\u001b[38;5;241;43m.\u001b[39;49m\u001b[43mtae_runner\u001b[49m\u001b[38;5;241;43m.\u001b[39;49m\u001b[43msubmit_run\u001b[49m\u001b[43m(\u001b[49m\u001b[43mrun_info\u001b[49m\u001b[38;5;241;43m=\u001b[39;49m\u001b[43mrun_info\u001b[49m\u001b[43m)\u001b[49m\n\u001b[1;32m    281\u001b[0m \u001b[38;5;66;03m# There are 2 criteria that the stats object uses to know\u001b[39;00m\n\u001b[1;32m    282\u001b[0m \u001b[38;5;66;03m# if the budged was exhausted.\u001b[39;00m\n\u001b[1;32m    283\u001b[0m \u001b[38;5;66;03m# The budget time, which can only be known when the run finishes,\u001b[39;00m\n\u001b[1;32m    284\u001b[0m \u001b[38;5;66;03m# And the number of ta executions. Because we submit the job at this point,\u001b[39;00m\n\u001b[1;32m    285\u001b[0m \u001b[38;5;66;03m# we count this submission as a run. This prevent for using more\u001b[39;00m\n\u001b[1;32m    286\u001b[0m \u001b[38;5;66;03m# runner runs than what the scenario allows\u001b[39;00m\n\u001b[1;32m    287\u001b[0m \u001b[38;5;28mself\u001b[39m\u001b[38;5;241m.\u001b[39mstats\u001b[38;5;241m.\u001b[39msubmitted_ta_runs \u001b[38;5;241m+\u001b[39m\u001b[38;5;241m=\u001b[39m \u001b[38;5;241m1\u001b[39m\n",
      "File \u001b[0;32m/usr/local/lib/python3.9/dist-packages/smac/tae/serial_runner.py:87\u001b[0m, in \u001b[0;36mSerialRunner.submit_run\u001b[0;34m(self, run_info)\u001b[0m\n\u001b[1;32m     72\u001b[0m \u001b[38;5;28;01mdef\u001b[39;00m \u001b[38;5;21msubmit_run\u001b[39m(\u001b[38;5;28mself\u001b[39m, run_info: RunInfo) \u001b[38;5;241m-\u001b[39m\u001b[38;5;241m>\u001b[39m \u001b[38;5;28;01mNone\u001b[39;00m:\n\u001b[1;32m     73\u001b[0m     \u001b[38;5;124;03m\"\"\"This function submits a run_info object in a serial fashion.\u001b[39;00m\n\u001b[1;32m     74\u001b[0m \n\u001b[1;32m     75\u001b[0m \u001b[38;5;124;03m    As there is a single worker for this task, this\u001b[39;00m\n\u001b[0;32m   (...)\u001b[0m\n\u001b[1;32m     85\u001b[0m \u001b[38;5;124;03m        An object containing the configuration and the necessary data to run it\u001b[39;00m\n\u001b[1;32m     86\u001b[0m \u001b[38;5;124;03m    \"\"\"\u001b[39;00m\n\u001b[0;32m---> 87\u001b[0m     \u001b[38;5;28mself\u001b[39m\u001b[38;5;241m.\u001b[39mresults\u001b[38;5;241m.\u001b[39mappend(\u001b[38;5;28;43mself\u001b[39;49m\u001b[38;5;241;43m.\u001b[39;49m\u001b[43mrun_wrapper\u001b[49m\u001b[43m(\u001b[49m\u001b[43mrun_info\u001b[49m\u001b[43m)\u001b[49m)\n",
      "File \u001b[0;32m/usr/local/lib/python3.9/dist-packages/smac/tae/base.py:220\u001b[0m, in \u001b[0;36mBaseRunner.run_wrapper\u001b[0;34m(self, run_info)\u001b[0m\n\u001b[1;32m    217\u001b[0m     cutoff \u001b[38;5;241m=\u001b[39m \u001b[38;5;28mint\u001b[39m(math\u001b[38;5;241m.\u001b[39mceil(run_info\u001b[38;5;241m.\u001b[39mcutoff))\n\u001b[1;32m    219\u001b[0m \u001b[38;5;28;01mtry\u001b[39;00m:\n\u001b[0;32m--> 220\u001b[0m     status, cost, runtime, additional_info \u001b[38;5;241m=\u001b[39m \u001b[38;5;28;43mself\u001b[39;49m\u001b[38;5;241;43m.\u001b[39;49m\u001b[43mrun\u001b[49m\u001b[43m(\u001b[49m\n\u001b[1;32m    221\u001b[0m \u001b[43m        \u001b[49m\u001b[43mconfig\u001b[49m\u001b[38;5;241;43m=\u001b[39;49m\u001b[43mrun_info\u001b[49m\u001b[38;5;241;43m.\u001b[39;49m\u001b[43mconfig\u001b[49m\u001b[43m,\u001b[49m\n\u001b[1;32m    222\u001b[0m \u001b[43m        \u001b[49m\u001b[43minstance\u001b[49m\u001b[38;5;241;43m=\u001b[39;49m\u001b[43mrun_info\u001b[49m\u001b[38;5;241;43m.\u001b[39;49m\u001b[43minstance\u001b[49m\u001b[43m,\u001b[49m\n\u001b[1;32m    223\u001b[0m \u001b[43m        \u001b[49m\u001b[43mcutoff\u001b[49m\u001b[38;5;241;43m=\u001b[39;49m\u001b[43mcutoff\u001b[49m\u001b[43m,\u001b[49m\n\u001b[1;32m    224\u001b[0m \u001b[43m        \u001b[49m\u001b[43mseed\u001b[49m\u001b[38;5;241;43m=\u001b[39;49m\u001b[43mrun_info\u001b[49m\u001b[38;5;241;43m.\u001b[39;49m\u001b[43mseed\u001b[49m\u001b[43m,\u001b[49m\n\u001b[1;32m    225\u001b[0m \u001b[43m        \u001b[49m\u001b[43mbudget\u001b[49m\u001b[38;5;241;43m=\u001b[39;49m\u001b[43mrun_info\u001b[49m\u001b[38;5;241;43m.\u001b[39;49m\u001b[43mbudget\u001b[49m\u001b[43m,\u001b[49m\n\u001b[1;32m    226\u001b[0m \u001b[43m        \u001b[49m\u001b[43minstance_specific\u001b[49m\u001b[38;5;241;43m=\u001b[39;49m\u001b[43mrun_info\u001b[49m\u001b[38;5;241;43m.\u001b[39;49m\u001b[43minstance_specific\u001b[49m\u001b[43m,\u001b[49m\n\u001b[1;32m    227\u001b[0m \u001b[43m    \u001b[49m\u001b[43m)\u001b[49m\n\u001b[1;32m    228\u001b[0m \u001b[38;5;28;01mexcept\u001b[39;00m \u001b[38;5;167;01mException\u001b[39;00m \u001b[38;5;28;01mas\u001b[39;00m e:\n\u001b[1;32m    229\u001b[0m     status \u001b[38;5;241m=\u001b[39m StatusType\u001b[38;5;241m.\u001b[39mCRASHED\n",
      "File \u001b[0;32m/usr/local/lib/python3.9/dist-packages/smac/tae/execute_func.py:217\u001b[0m, in \u001b[0;36mAbstractTAFunc.run\u001b[0;34m(self, config, instance, cutoff, seed, budget, instance_specific)\u001b[0m\n\u001b[1;32m    215\u001b[0m \u001b[38;5;66;03m# call ta\u001b[39;00m\n\u001b[1;32m    216\u001b[0m \u001b[38;5;28;01mtry\u001b[39;00m:\n\u001b[0;32m--> 217\u001b[0m     rval \u001b[38;5;241m=\u001b[39m \u001b[38;5;28;43mself\u001b[39;49m\u001b[38;5;241;43m.\u001b[39;49m\u001b[43m_call_ta\u001b[49m\u001b[43m(\u001b[49m\u001b[38;5;28;43mself\u001b[39;49m\u001b[38;5;241;43m.\u001b[39;49m\u001b[43m_ta\u001b[49m\u001b[43m,\u001b[49m\u001b[43m \u001b[49m\u001b[43mconfig\u001b[49m\u001b[43m,\u001b[49m\u001b[43m \u001b[49m\u001b[43mobj_kwargs\u001b[49m\u001b[43m)\u001b[49m\n\u001b[1;32m    219\u001b[0m     \u001b[38;5;28;01mif\u001b[39;00m \u001b[38;5;28misinstance\u001b[39m(rval, \u001b[38;5;28mtuple\u001b[39m):\n\u001b[1;32m    220\u001b[0m         result \u001b[38;5;241m=\u001b[39m rval[\u001b[38;5;241m0\u001b[39m]\n",
      "File \u001b[0;32m/usr/local/lib/python3.9/dist-packages/smac/tae/execute_func.py:314\u001b[0m, in \u001b[0;36mExecuteTAFuncDict._call_ta\u001b[0;34m(self, obj, config, obj_kwargs)\u001b[0m\n\u001b[1;32m    307\u001b[0m \u001b[38;5;28;01mdef\u001b[39;00m \u001b[38;5;21m_call_ta\u001b[39m(\n\u001b[1;32m    308\u001b[0m     \u001b[38;5;28mself\u001b[39m,\n\u001b[1;32m    309\u001b[0m     obj: Callable,\n\u001b[1;32m    310\u001b[0m     config: Configuration,\n\u001b[1;32m    311\u001b[0m     obj_kwargs: Dict[\u001b[38;5;28mstr\u001b[39m, Union[\u001b[38;5;28mint\u001b[39m, \u001b[38;5;28mstr\u001b[39m, \u001b[38;5;28mfloat\u001b[39m, \u001b[38;5;28;01mNone\u001b[39;00m]],\n\u001b[1;32m    312\u001b[0m ) \u001b[38;5;241m-\u001b[39m\u001b[38;5;241m>\u001b[39m Union[\u001b[38;5;28mfloat\u001b[39m, Tuple[\u001b[38;5;28mfloat\u001b[39m, Dict]]:\n\u001b[0;32m--> 314\u001b[0m     \u001b[38;5;28;01mreturn\u001b[39;00m \u001b[43mobj\u001b[49m\u001b[43m(\u001b[49m\u001b[43mconfig\u001b[49m\u001b[43m,\u001b[49m\u001b[43m \u001b[49m\u001b[38;5;241;43m*\u001b[39;49m\u001b[38;5;241;43m*\u001b[39;49m\u001b[43mobj_kwargs\u001b[49m\u001b[43m)\u001b[49m\n",
      "Input \u001b[0;32mIn [7]\u001b[0m, in \u001b[0;36mgenerate_train_cs.<locals>.train_cs\u001b[0;34m(config, budget)\u001b[0m\n\u001b[1;32m     60\u001b[0m \u001b[38;5;66;03m# print(seed)\u001b[39;00m\n\u001b[1;32m     63\u001b[0m sgmcmc \u001b[38;5;241m=\u001b[39m MixedSGMCMC(seed\u001b[38;5;241m=\u001b[39mseed, n_samples\u001b[38;5;241m=\u001b[39mbudget, n_warmup\u001b[38;5;241m=\u001b[39m\u001b[38;5;241m0\u001b[39m,\n\u001b[1;32m     64\u001b[0m                     n_chains\u001b[38;5;241m=\u001b[39m\u001b[38;5;241m1\u001b[39m, layer_dims\u001b[38;5;241m=\u001b[39m[config[\u001b[38;5;124m\"\u001b[39m\u001b[38;5;124mlayer_dim\u001b[39m\u001b[38;5;124m\"\u001b[39m]], \u001b[38;5;241m*\u001b[39m\u001b[38;5;241m*\u001b[39mparams)\n\u001b[0;32m---> 65\u001b[0m cv_score \u001b[38;5;241m=\u001b[39m np\u001b[38;5;241m.\u001b[39mmean(\u001b[43mcross_val_score\u001b[49m\u001b[43m(\u001b[49m\u001b[43msgmcmc\u001b[49m\u001b[43m,\u001b[49m\u001b[43m \u001b[49m\u001b[43mX\u001b[49m\u001b[43m,\u001b[49m\u001b[43m \u001b[49m\u001b[43my\u001b[49m\u001b[43m,\u001b[49m\u001b[43m  \u001b[49m\u001b[43mcv\u001b[49m\u001b[38;5;241;43m=\u001b[39;49m\u001b[43mcv\u001b[49m\u001b[43m,\u001b[49m\u001b[43m \u001b[49m\u001b[43mfit_params\u001b[49m\u001b[38;5;241;43m=\u001b[39;49m\u001b[43m{\u001b[49m\n\u001b[1;32m     66\u001b[0m \u001b[43m    \u001b[49m\u001b[38;5;124;43m\"\u001b[39;49m\u001b[38;5;124;43mactivation_fns\u001b[39;49m\u001b[38;5;124;43m\"\u001b[39;49m\u001b[43m:\u001b[49m\u001b[43m \u001b[49m\u001b[43m[\u001b[49m\u001b[43mconfig\u001b[49m\u001b[43m[\u001b[49m\u001b[38;5;124;43m\"\u001b[39;49m\u001b[38;5;124;43mactivation\u001b[39;49m\u001b[38;5;124;43m\"\u001b[39;49m\u001b[43m]\u001b[49m\u001b[43m]\u001b[49m\u001b[43m,\u001b[49m\u001b[43m \u001b[49m\u001b[38;5;124;43m\"\u001b[39;49m\u001b[38;5;124;43mJ\u001b[39;49m\u001b[38;5;124;43m\"\u001b[39;49m\u001b[43m:\u001b[49m\u001b[43m \u001b[49m\u001b[43mnet\u001b[49m\n\u001b[1;32m     67\u001b[0m \u001b[43m\u001b[49m\u001b[43m}\u001b[49m\u001b[43m)\u001b[49m)\n\u001b[1;32m     69\u001b[0m \u001b[38;5;28;01mreturn\u001b[39;00m \u001b[38;5;241m1\u001b[39m \u001b[38;5;241m-\u001b[39m cv_score\n",
      "File \u001b[0;32m/usr/local/lib/python3.9/dist-packages/sklearn/model_selection/_validation.py:515\u001b[0m, in \u001b[0;36mcross_val_score\u001b[0;34m(estimator, X, y, groups, scoring, cv, n_jobs, verbose, fit_params, pre_dispatch, error_score)\u001b[0m\n\u001b[1;32m    512\u001b[0m \u001b[38;5;66;03m# To ensure multimetric format is not supported\u001b[39;00m\n\u001b[1;32m    513\u001b[0m scorer \u001b[38;5;241m=\u001b[39m check_scoring(estimator, scoring\u001b[38;5;241m=\u001b[39mscoring)\n\u001b[0;32m--> 515\u001b[0m cv_results \u001b[38;5;241m=\u001b[39m \u001b[43mcross_validate\u001b[49m\u001b[43m(\u001b[49m\n\u001b[1;32m    516\u001b[0m \u001b[43m    \u001b[49m\u001b[43mestimator\u001b[49m\u001b[38;5;241;43m=\u001b[39;49m\u001b[43mestimator\u001b[49m\u001b[43m,\u001b[49m\n\u001b[1;32m    517\u001b[0m \u001b[43m    \u001b[49m\u001b[43mX\u001b[49m\u001b[38;5;241;43m=\u001b[39;49m\u001b[43mX\u001b[49m\u001b[43m,\u001b[49m\n\u001b[1;32m    518\u001b[0m \u001b[43m    \u001b[49m\u001b[43my\u001b[49m\u001b[38;5;241;43m=\u001b[39;49m\u001b[43my\u001b[49m\u001b[43m,\u001b[49m\n\u001b[1;32m    519\u001b[0m \u001b[43m    \u001b[49m\u001b[43mgroups\u001b[49m\u001b[38;5;241;43m=\u001b[39;49m\u001b[43mgroups\u001b[49m\u001b[43m,\u001b[49m\n\u001b[1;32m    520\u001b[0m \u001b[43m    \u001b[49m\u001b[43mscoring\u001b[49m\u001b[38;5;241;43m=\u001b[39;49m\u001b[43m{\u001b[49m\u001b[38;5;124;43m\"\u001b[39;49m\u001b[38;5;124;43mscore\u001b[39;49m\u001b[38;5;124;43m\"\u001b[39;49m\u001b[43m:\u001b[49m\u001b[43m \u001b[49m\u001b[43mscorer\u001b[49m\u001b[43m}\u001b[49m\u001b[43m,\u001b[49m\n\u001b[1;32m    521\u001b[0m \u001b[43m    \u001b[49m\u001b[43mcv\u001b[49m\u001b[38;5;241;43m=\u001b[39;49m\u001b[43mcv\u001b[49m\u001b[43m,\u001b[49m\n\u001b[1;32m    522\u001b[0m \u001b[43m    \u001b[49m\u001b[43mn_jobs\u001b[49m\u001b[38;5;241;43m=\u001b[39;49m\u001b[43mn_jobs\u001b[49m\u001b[43m,\u001b[49m\n\u001b[1;32m    523\u001b[0m \u001b[43m    \u001b[49m\u001b[43mverbose\u001b[49m\u001b[38;5;241;43m=\u001b[39;49m\u001b[43mverbose\u001b[49m\u001b[43m,\u001b[49m\n\u001b[1;32m    524\u001b[0m \u001b[43m    \u001b[49m\u001b[43mfit_params\u001b[49m\u001b[38;5;241;43m=\u001b[39;49m\u001b[43mfit_params\u001b[49m\u001b[43m,\u001b[49m\n\u001b[1;32m    525\u001b[0m \u001b[43m    \u001b[49m\u001b[43mpre_dispatch\u001b[49m\u001b[38;5;241;43m=\u001b[39;49m\u001b[43mpre_dispatch\u001b[49m\u001b[43m,\u001b[49m\n\u001b[1;32m    526\u001b[0m \u001b[43m    \u001b[49m\u001b[43merror_score\u001b[49m\u001b[38;5;241;43m=\u001b[39;49m\u001b[43merror_score\u001b[49m\u001b[43m,\u001b[49m\n\u001b[1;32m    527\u001b[0m \u001b[43m\u001b[49m\u001b[43m)\u001b[49m\n\u001b[1;32m    528\u001b[0m \u001b[38;5;28;01mreturn\u001b[39;00m cv_results[\u001b[38;5;124m\"\u001b[39m\u001b[38;5;124mtest_score\u001b[39m\u001b[38;5;124m\"\u001b[39m]\n",
      "File \u001b[0;32m/usr/local/lib/python3.9/dist-packages/sklearn/model_selection/_validation.py:266\u001b[0m, in \u001b[0;36mcross_validate\u001b[0;34m(estimator, X, y, groups, scoring, cv, n_jobs, verbose, fit_params, pre_dispatch, return_train_score, return_estimator, error_score)\u001b[0m\n\u001b[1;32m    263\u001b[0m \u001b[38;5;66;03m# We clone the estimator to make sure that all the folds are\u001b[39;00m\n\u001b[1;32m    264\u001b[0m \u001b[38;5;66;03m# independent, and that it is pickle-able.\u001b[39;00m\n\u001b[1;32m    265\u001b[0m parallel \u001b[38;5;241m=\u001b[39m Parallel(n_jobs\u001b[38;5;241m=\u001b[39mn_jobs, verbose\u001b[38;5;241m=\u001b[39mverbose, pre_dispatch\u001b[38;5;241m=\u001b[39mpre_dispatch)\n\u001b[0;32m--> 266\u001b[0m results \u001b[38;5;241m=\u001b[39m \u001b[43mparallel\u001b[49m\u001b[43m(\u001b[49m\n\u001b[1;32m    267\u001b[0m \u001b[43m    \u001b[49m\u001b[43mdelayed\u001b[49m\u001b[43m(\u001b[49m\u001b[43m_fit_and_score\u001b[49m\u001b[43m)\u001b[49m\u001b[43m(\u001b[49m\n\u001b[1;32m    268\u001b[0m \u001b[43m        \u001b[49m\u001b[43mclone\u001b[49m\u001b[43m(\u001b[49m\u001b[43mestimator\u001b[49m\u001b[43m)\u001b[49m\u001b[43m,\u001b[49m\n\u001b[1;32m    269\u001b[0m \u001b[43m        \u001b[49m\u001b[43mX\u001b[49m\u001b[43m,\u001b[49m\n\u001b[1;32m    270\u001b[0m \u001b[43m        \u001b[49m\u001b[43my\u001b[49m\u001b[43m,\u001b[49m\n\u001b[1;32m    271\u001b[0m \u001b[43m        \u001b[49m\u001b[43mscorers\u001b[49m\u001b[43m,\u001b[49m\n\u001b[1;32m    272\u001b[0m \u001b[43m        \u001b[49m\u001b[43mtrain\u001b[49m\u001b[43m,\u001b[49m\n\u001b[1;32m    273\u001b[0m \u001b[43m        \u001b[49m\u001b[43mtest\u001b[49m\u001b[43m,\u001b[49m\n\u001b[1;32m    274\u001b[0m \u001b[43m        \u001b[49m\u001b[43mverbose\u001b[49m\u001b[43m,\u001b[49m\n\u001b[1;32m    275\u001b[0m \u001b[43m        \u001b[49m\u001b[38;5;28;43;01mNone\u001b[39;49;00m\u001b[43m,\u001b[49m\n\u001b[1;32m    276\u001b[0m \u001b[43m        \u001b[49m\u001b[43mfit_params\u001b[49m\u001b[43m,\u001b[49m\n\u001b[1;32m    277\u001b[0m \u001b[43m        \u001b[49m\u001b[43mreturn_train_score\u001b[49m\u001b[38;5;241;43m=\u001b[39;49m\u001b[43mreturn_train_score\u001b[49m\u001b[43m,\u001b[49m\n\u001b[1;32m    278\u001b[0m \u001b[43m        \u001b[49m\u001b[43mreturn_times\u001b[49m\u001b[38;5;241;43m=\u001b[39;49m\u001b[38;5;28;43;01mTrue\u001b[39;49;00m\u001b[43m,\u001b[49m\n\u001b[1;32m    279\u001b[0m \u001b[43m        \u001b[49m\u001b[43mreturn_estimator\u001b[49m\u001b[38;5;241;43m=\u001b[39;49m\u001b[43mreturn_estimator\u001b[49m\u001b[43m,\u001b[49m\n\u001b[1;32m    280\u001b[0m \u001b[43m        \u001b[49m\u001b[43merror_score\u001b[49m\u001b[38;5;241;43m=\u001b[39;49m\u001b[43merror_score\u001b[49m\u001b[43m,\u001b[49m\n\u001b[1;32m    281\u001b[0m \u001b[43m    \u001b[49m\u001b[43m)\u001b[49m\n\u001b[1;32m    282\u001b[0m \u001b[43m    \u001b[49m\u001b[38;5;28;43;01mfor\u001b[39;49;00m\u001b[43m \u001b[49m\u001b[43mtrain\u001b[49m\u001b[43m,\u001b[49m\u001b[43m \u001b[49m\u001b[43mtest\u001b[49m\u001b[43m \u001b[49m\u001b[38;5;129;43;01min\u001b[39;49;00m\u001b[43m \u001b[49m\u001b[43mcv\u001b[49m\u001b[38;5;241;43m.\u001b[39;49m\u001b[43msplit\u001b[49m\u001b[43m(\u001b[49m\u001b[43mX\u001b[49m\u001b[43m,\u001b[49m\u001b[43m \u001b[49m\u001b[43my\u001b[49m\u001b[43m,\u001b[49m\u001b[43m \u001b[49m\u001b[43mgroups\u001b[49m\u001b[43m)\u001b[49m\n\u001b[1;32m    283\u001b[0m \u001b[43m\u001b[49m\u001b[43m)\u001b[49m\n\u001b[1;32m    285\u001b[0m _warn_or_raise_about_fit_failures(results, error_score)\n\u001b[1;32m    287\u001b[0m \u001b[38;5;66;03m# For callabe scoring, the return type is only know after calling. If the\u001b[39;00m\n\u001b[1;32m    288\u001b[0m \u001b[38;5;66;03m# return type is a dictionary, the error scores can now be inserted with\u001b[39;00m\n\u001b[1;32m    289\u001b[0m \u001b[38;5;66;03m# the correct key.\u001b[39;00m\n",
      "File \u001b[0;32m/usr/local/lib/python3.9/dist-packages/joblib/parallel.py:1043\u001b[0m, in \u001b[0;36mParallel.__call__\u001b[0;34m(self, iterable)\u001b[0m\n\u001b[1;32m   1034\u001b[0m \u001b[38;5;28;01mtry\u001b[39;00m:\n\u001b[1;32m   1035\u001b[0m     \u001b[38;5;66;03m# Only set self._iterating to True if at least a batch\u001b[39;00m\n\u001b[1;32m   1036\u001b[0m     \u001b[38;5;66;03m# was dispatched. In particular this covers the edge\u001b[39;00m\n\u001b[0;32m   (...)\u001b[0m\n\u001b[1;32m   1040\u001b[0m     \u001b[38;5;66;03m# was very quick and its callback already dispatched all the\u001b[39;00m\n\u001b[1;32m   1041\u001b[0m     \u001b[38;5;66;03m# remaining jobs.\u001b[39;00m\n\u001b[1;32m   1042\u001b[0m     \u001b[38;5;28mself\u001b[39m\u001b[38;5;241m.\u001b[39m_iterating \u001b[38;5;241m=\u001b[39m \u001b[38;5;28;01mFalse\u001b[39;00m\n\u001b[0;32m-> 1043\u001b[0m     \u001b[38;5;28;01mif\u001b[39;00m \u001b[38;5;28;43mself\u001b[39;49m\u001b[38;5;241;43m.\u001b[39;49m\u001b[43mdispatch_one_batch\u001b[49m\u001b[43m(\u001b[49m\u001b[43miterator\u001b[49m\u001b[43m)\u001b[49m:\n\u001b[1;32m   1044\u001b[0m         \u001b[38;5;28mself\u001b[39m\u001b[38;5;241m.\u001b[39m_iterating \u001b[38;5;241m=\u001b[39m \u001b[38;5;28mself\u001b[39m\u001b[38;5;241m.\u001b[39m_original_iterator \u001b[38;5;129;01mis\u001b[39;00m \u001b[38;5;129;01mnot\u001b[39;00m \u001b[38;5;28;01mNone\u001b[39;00m\n\u001b[1;32m   1046\u001b[0m     \u001b[38;5;28;01mwhile\u001b[39;00m \u001b[38;5;28mself\u001b[39m\u001b[38;5;241m.\u001b[39mdispatch_one_batch(iterator):\n",
      "File \u001b[0;32m/usr/local/lib/python3.9/dist-packages/joblib/parallel.py:861\u001b[0m, in \u001b[0;36mParallel.dispatch_one_batch\u001b[0;34m(self, iterator)\u001b[0m\n\u001b[1;32m    859\u001b[0m     \u001b[38;5;28;01mreturn\u001b[39;00m \u001b[38;5;28;01mFalse\u001b[39;00m\n\u001b[1;32m    860\u001b[0m \u001b[38;5;28;01melse\u001b[39;00m:\n\u001b[0;32m--> 861\u001b[0m     \u001b[38;5;28;43mself\u001b[39;49m\u001b[38;5;241;43m.\u001b[39;49m\u001b[43m_dispatch\u001b[49m\u001b[43m(\u001b[49m\u001b[43mtasks\u001b[49m\u001b[43m)\u001b[49m\n\u001b[1;32m    862\u001b[0m     \u001b[38;5;28;01mreturn\u001b[39;00m \u001b[38;5;28;01mTrue\u001b[39;00m\n",
      "File \u001b[0;32m/usr/local/lib/python3.9/dist-packages/joblib/parallel.py:779\u001b[0m, in \u001b[0;36mParallel._dispatch\u001b[0;34m(self, batch)\u001b[0m\n\u001b[1;32m    777\u001b[0m \u001b[38;5;28;01mwith\u001b[39;00m \u001b[38;5;28mself\u001b[39m\u001b[38;5;241m.\u001b[39m_lock:\n\u001b[1;32m    778\u001b[0m     job_idx \u001b[38;5;241m=\u001b[39m \u001b[38;5;28mlen\u001b[39m(\u001b[38;5;28mself\u001b[39m\u001b[38;5;241m.\u001b[39m_jobs)\n\u001b[0;32m--> 779\u001b[0m     job \u001b[38;5;241m=\u001b[39m \u001b[38;5;28;43mself\u001b[39;49m\u001b[38;5;241;43m.\u001b[39;49m\u001b[43m_backend\u001b[49m\u001b[38;5;241;43m.\u001b[39;49m\u001b[43mapply_async\u001b[49m\u001b[43m(\u001b[49m\u001b[43mbatch\u001b[49m\u001b[43m,\u001b[49m\u001b[43m \u001b[49m\u001b[43mcallback\u001b[49m\u001b[38;5;241;43m=\u001b[39;49m\u001b[43mcb\u001b[49m\u001b[43m)\u001b[49m\n\u001b[1;32m    780\u001b[0m     \u001b[38;5;66;03m# A job can complete so quickly than its callback is\u001b[39;00m\n\u001b[1;32m    781\u001b[0m     \u001b[38;5;66;03m# called before we get here, causing self._jobs to\u001b[39;00m\n\u001b[1;32m    782\u001b[0m     \u001b[38;5;66;03m# grow. To ensure correct results ordering, .insert is\u001b[39;00m\n\u001b[1;32m    783\u001b[0m     \u001b[38;5;66;03m# used (rather than .append) in the following line\u001b[39;00m\n\u001b[1;32m    784\u001b[0m     \u001b[38;5;28mself\u001b[39m\u001b[38;5;241m.\u001b[39m_jobs\u001b[38;5;241m.\u001b[39minsert(job_idx, job)\n",
      "File \u001b[0;32m/usr/local/lib/python3.9/dist-packages/joblib/_parallel_backends.py:208\u001b[0m, in \u001b[0;36mSequentialBackend.apply_async\u001b[0;34m(self, func, callback)\u001b[0m\n\u001b[1;32m    206\u001b[0m \u001b[38;5;28;01mdef\u001b[39;00m \u001b[38;5;21mapply_async\u001b[39m(\u001b[38;5;28mself\u001b[39m, func, callback\u001b[38;5;241m=\u001b[39m\u001b[38;5;28;01mNone\u001b[39;00m):\n\u001b[1;32m    207\u001b[0m     \u001b[38;5;124;03m\"\"\"Schedule a func to be run\"\"\"\u001b[39;00m\n\u001b[0;32m--> 208\u001b[0m     result \u001b[38;5;241m=\u001b[39m \u001b[43mImmediateResult\u001b[49m\u001b[43m(\u001b[49m\u001b[43mfunc\u001b[49m\u001b[43m)\u001b[49m\n\u001b[1;32m    209\u001b[0m     \u001b[38;5;28;01mif\u001b[39;00m callback:\n\u001b[1;32m    210\u001b[0m         callback(result)\n",
      "File \u001b[0;32m/usr/local/lib/python3.9/dist-packages/joblib/_parallel_backends.py:572\u001b[0m, in \u001b[0;36mImmediateResult.__init__\u001b[0;34m(self, batch)\u001b[0m\n\u001b[1;32m    569\u001b[0m \u001b[38;5;28;01mdef\u001b[39;00m \u001b[38;5;21m__init__\u001b[39m(\u001b[38;5;28mself\u001b[39m, batch):\n\u001b[1;32m    570\u001b[0m     \u001b[38;5;66;03m# Don't delay the application, to avoid keeping the input\u001b[39;00m\n\u001b[1;32m    571\u001b[0m     \u001b[38;5;66;03m# arguments in memory\u001b[39;00m\n\u001b[0;32m--> 572\u001b[0m     \u001b[38;5;28mself\u001b[39m\u001b[38;5;241m.\u001b[39mresults \u001b[38;5;241m=\u001b[39m \u001b[43mbatch\u001b[49m\u001b[43m(\u001b[49m\u001b[43m)\u001b[49m\n",
      "File \u001b[0;32m/usr/local/lib/python3.9/dist-packages/joblib/parallel.py:262\u001b[0m, in \u001b[0;36mBatchedCalls.__call__\u001b[0;34m(self)\u001b[0m\n\u001b[1;32m    258\u001b[0m \u001b[38;5;28;01mdef\u001b[39;00m \u001b[38;5;21m__call__\u001b[39m(\u001b[38;5;28mself\u001b[39m):\n\u001b[1;32m    259\u001b[0m     \u001b[38;5;66;03m# Set the default nested backend to self._backend but do not set the\u001b[39;00m\n\u001b[1;32m    260\u001b[0m     \u001b[38;5;66;03m# change the default number of processes to -1\u001b[39;00m\n\u001b[1;32m    261\u001b[0m     \u001b[38;5;28;01mwith\u001b[39;00m parallel_backend(\u001b[38;5;28mself\u001b[39m\u001b[38;5;241m.\u001b[39m_backend, n_jobs\u001b[38;5;241m=\u001b[39m\u001b[38;5;28mself\u001b[39m\u001b[38;5;241m.\u001b[39m_n_jobs):\n\u001b[0;32m--> 262\u001b[0m         \u001b[38;5;28;01mreturn\u001b[39;00m [func(\u001b[38;5;241m*\u001b[39margs, \u001b[38;5;241m*\u001b[39m\u001b[38;5;241m*\u001b[39mkwargs)\n\u001b[1;32m    263\u001b[0m                 \u001b[38;5;28;01mfor\u001b[39;00m func, args, kwargs \u001b[38;5;129;01min\u001b[39;00m \u001b[38;5;28mself\u001b[39m\u001b[38;5;241m.\u001b[39mitems]\n",
      "File \u001b[0;32m/usr/local/lib/python3.9/dist-packages/joblib/parallel.py:262\u001b[0m, in \u001b[0;36m<listcomp>\u001b[0;34m(.0)\u001b[0m\n\u001b[1;32m    258\u001b[0m \u001b[38;5;28;01mdef\u001b[39;00m \u001b[38;5;21m__call__\u001b[39m(\u001b[38;5;28mself\u001b[39m):\n\u001b[1;32m    259\u001b[0m     \u001b[38;5;66;03m# Set the default nested backend to self._backend but do not set the\u001b[39;00m\n\u001b[1;32m    260\u001b[0m     \u001b[38;5;66;03m# change the default number of processes to -1\u001b[39;00m\n\u001b[1;32m    261\u001b[0m     \u001b[38;5;28;01mwith\u001b[39;00m parallel_backend(\u001b[38;5;28mself\u001b[39m\u001b[38;5;241m.\u001b[39m_backend, n_jobs\u001b[38;5;241m=\u001b[39m\u001b[38;5;28mself\u001b[39m\u001b[38;5;241m.\u001b[39m_n_jobs):\n\u001b[0;32m--> 262\u001b[0m         \u001b[38;5;28;01mreturn\u001b[39;00m [\u001b[43mfunc\u001b[49m\u001b[43m(\u001b[49m\u001b[38;5;241;43m*\u001b[39;49m\u001b[43margs\u001b[49m\u001b[43m,\u001b[49m\u001b[43m \u001b[49m\u001b[38;5;241;43m*\u001b[39;49m\u001b[38;5;241;43m*\u001b[39;49m\u001b[43mkwargs\u001b[49m\u001b[43m)\u001b[49m\n\u001b[1;32m    263\u001b[0m                 \u001b[38;5;28;01mfor\u001b[39;00m func, args, kwargs \u001b[38;5;129;01min\u001b[39;00m \u001b[38;5;28mself\u001b[39m\u001b[38;5;241m.\u001b[39mitems]\n",
      "File \u001b[0;32m/usr/local/lib/python3.9/dist-packages/sklearn/utils/fixes.py:117\u001b[0m, in \u001b[0;36m_FuncWrapper.__call__\u001b[0;34m(self, *args, **kwargs)\u001b[0m\n\u001b[1;32m    115\u001b[0m \u001b[38;5;28;01mdef\u001b[39;00m \u001b[38;5;21m__call__\u001b[39m(\u001b[38;5;28mself\u001b[39m, \u001b[38;5;241m*\u001b[39margs, \u001b[38;5;241m*\u001b[39m\u001b[38;5;241m*\u001b[39mkwargs):\n\u001b[1;32m    116\u001b[0m     \u001b[38;5;28;01mwith\u001b[39;00m config_context(\u001b[38;5;241m*\u001b[39m\u001b[38;5;241m*\u001b[39m\u001b[38;5;28mself\u001b[39m\u001b[38;5;241m.\u001b[39mconfig):\n\u001b[0;32m--> 117\u001b[0m         \u001b[38;5;28;01mreturn\u001b[39;00m \u001b[38;5;28;43mself\u001b[39;49m\u001b[38;5;241;43m.\u001b[39;49m\u001b[43mfunction\u001b[49m\u001b[43m(\u001b[49m\u001b[38;5;241;43m*\u001b[39;49m\u001b[43margs\u001b[49m\u001b[43m,\u001b[49m\u001b[43m \u001b[49m\u001b[38;5;241;43m*\u001b[39;49m\u001b[38;5;241;43m*\u001b[39;49m\u001b[43mkwargs\u001b[49m\u001b[43m)\u001b[49m\n",
      "File \u001b[0;32m/usr/local/lib/python3.9/dist-packages/sklearn/model_selection/_validation.py:678\u001b[0m, in \u001b[0;36m_fit_and_score\u001b[0;34m(estimator, X, y, scorer, train, test, verbose, parameters, fit_params, return_train_score, return_parameters, return_n_test_samples, return_times, return_estimator, split_progress, candidate_progress, error_score)\u001b[0m\n\u001b[1;32m    674\u001b[0m     estimator \u001b[38;5;241m=\u001b[39m estimator\u001b[38;5;241m.\u001b[39mset_params(\u001b[38;5;241m*\u001b[39m\u001b[38;5;241m*\u001b[39mcloned_parameters)\n\u001b[1;32m    676\u001b[0m start_time \u001b[38;5;241m=\u001b[39m time\u001b[38;5;241m.\u001b[39mtime()\n\u001b[0;32m--> 678\u001b[0m X_train, y_train \u001b[38;5;241m=\u001b[39m \u001b[43m_safe_split\u001b[49m\u001b[43m(\u001b[49m\u001b[43mestimator\u001b[49m\u001b[43m,\u001b[49m\u001b[43m \u001b[49m\u001b[43mX\u001b[49m\u001b[43m,\u001b[49m\u001b[43m \u001b[49m\u001b[43my\u001b[49m\u001b[43m,\u001b[49m\u001b[43m \u001b[49m\u001b[43mtrain\u001b[49m\u001b[43m)\u001b[49m\n\u001b[1;32m    679\u001b[0m X_test, y_test \u001b[38;5;241m=\u001b[39m _safe_split(estimator, X, y, test, train)\n\u001b[1;32m    681\u001b[0m result \u001b[38;5;241m=\u001b[39m {}\n",
      "File \u001b[0;32m/usr/local/lib/python3.9/dist-packages/sklearn/utils/metaestimators.py:311\u001b[0m, in \u001b[0;36m_safe_split\u001b[0;34m(estimator, X, y, indices, train_indices)\u001b[0m\n\u001b[1;32m    308\u001b[0m     X_subset \u001b[38;5;241m=\u001b[39m _safe_indexing(X, indices)\n\u001b[1;32m    310\u001b[0m \u001b[38;5;28;01mif\u001b[39;00m y \u001b[38;5;129;01mis\u001b[39;00m \u001b[38;5;129;01mnot\u001b[39;00m \u001b[38;5;28;01mNone\u001b[39;00m:\n\u001b[0;32m--> 311\u001b[0m     y_subset \u001b[38;5;241m=\u001b[39m \u001b[43m_safe_indexing\u001b[49m\u001b[43m(\u001b[49m\u001b[43my\u001b[49m\u001b[43m,\u001b[49m\u001b[43m \u001b[49m\u001b[43mindices\u001b[49m\u001b[43m)\u001b[49m\n\u001b[1;32m    312\u001b[0m \u001b[38;5;28;01melse\u001b[39;00m:\n\u001b[1;32m    313\u001b[0m     y_subset \u001b[38;5;241m=\u001b[39m \u001b[38;5;28;01mNone\u001b[39;00m\n",
      "File \u001b[0;32m/usr/local/lib/python3.9/dist-packages/sklearn/utils/__init__.py:361\u001b[0m, in \u001b[0;36m_safe_indexing\u001b[0;34m(X, indices, axis)\u001b[0m\n\u001b[1;32m    359\u001b[0m     \u001b[38;5;28;01mreturn\u001b[39;00m _pandas_indexing(X, indices, indices_dtype, axis\u001b[38;5;241m=\u001b[39maxis)\n\u001b[1;32m    360\u001b[0m \u001b[38;5;28;01melif\u001b[39;00m \u001b[38;5;28mhasattr\u001b[39m(X, \u001b[38;5;124m\"\u001b[39m\u001b[38;5;124mshape\u001b[39m\u001b[38;5;124m\"\u001b[39m):\n\u001b[0;32m--> 361\u001b[0m     \u001b[38;5;28;01mreturn\u001b[39;00m \u001b[43m_array_indexing\u001b[49m\u001b[43m(\u001b[49m\u001b[43mX\u001b[49m\u001b[43m,\u001b[49m\u001b[43m \u001b[49m\u001b[43mindices\u001b[49m\u001b[43m,\u001b[49m\u001b[43m \u001b[49m\u001b[43mindices_dtype\u001b[49m\u001b[43m,\u001b[49m\u001b[43m \u001b[49m\u001b[43maxis\u001b[49m\u001b[38;5;241;43m=\u001b[39;49m\u001b[43maxis\u001b[49m\u001b[43m)\u001b[49m\n\u001b[1;32m    362\u001b[0m \u001b[38;5;28;01melse\u001b[39;00m:\n\u001b[1;32m    363\u001b[0m     \u001b[38;5;28;01mreturn\u001b[39;00m _list_indexing(X, indices, indices_dtype)\n",
      "File \u001b[0;32m/usr/local/lib/python3.9/dist-packages/sklearn/utils/__init__.py:185\u001b[0m, in \u001b[0;36m_array_indexing\u001b[0;34m(array, key, key_dtype, axis)\u001b[0m\n\u001b[1;32m    183\u001b[0m \u001b[38;5;28;01mif\u001b[39;00m \u001b[38;5;28misinstance\u001b[39m(key, \u001b[38;5;28mtuple\u001b[39m):\n\u001b[1;32m    184\u001b[0m     key \u001b[38;5;241m=\u001b[39m \u001b[38;5;28mlist\u001b[39m(key)\n\u001b[0;32m--> 185\u001b[0m \u001b[38;5;28;01mreturn\u001b[39;00m \u001b[43marray\u001b[49m\u001b[43m[\u001b[49m\u001b[43mkey\u001b[49m\u001b[43m]\u001b[49m \u001b[38;5;28;01mif\u001b[39;00m axis \u001b[38;5;241m==\u001b[39m \u001b[38;5;241m0\u001b[39m \u001b[38;5;28;01melse\u001b[39;00m array[:, key]\n",
      "File \u001b[0;32m/usr/local/lib/python3.9/dist-packages/jax/_src/numpy/lax_numpy.py:3676\u001b[0m, in \u001b[0;36m_rewriting_take\u001b[0;34m(arr, idx, indices_are_sorted, unique_indices, mode, fill_value)\u001b[0m\n\u001b[1;32m   3673\u001b[0m       \u001b[38;5;28;01mreturn\u001b[39;00m lax\u001b[38;5;241m.\u001b[39mdynamic_index_in_dim(arr, idx, keepdims\u001b[38;5;241m=\u001b[39m\u001b[38;5;28;01mFalse\u001b[39;00m)\n\u001b[1;32m   3675\u001b[0m treedef, static_idx, dynamic_idx \u001b[38;5;241m=\u001b[39m _split_index_for_jit(idx, arr\u001b[38;5;241m.\u001b[39mshape)\n\u001b[0;32m-> 3676\u001b[0m \u001b[38;5;28;01mreturn\u001b[39;00m \u001b[43m_gather\u001b[49m\u001b[43m(\u001b[49m\u001b[43marr\u001b[49m\u001b[43m,\u001b[49m\u001b[43m \u001b[49m\u001b[43mtreedef\u001b[49m\u001b[43m,\u001b[49m\u001b[43m \u001b[49m\u001b[43mstatic_idx\u001b[49m\u001b[43m,\u001b[49m\u001b[43m \u001b[49m\u001b[43mdynamic_idx\u001b[49m\u001b[43m,\u001b[49m\u001b[43m \u001b[49m\u001b[43mindices_are_sorted\u001b[49m\u001b[43m,\u001b[49m\n\u001b[1;32m   3677\u001b[0m \u001b[43m               \u001b[49m\u001b[43munique_indices\u001b[49m\u001b[43m,\u001b[49m\u001b[43m \u001b[49m\u001b[43mmode\u001b[49m\u001b[43m,\u001b[49m\u001b[43m \u001b[49m\u001b[43mfill_value\u001b[49m\u001b[43m)\u001b[49m\n",
      "File \u001b[0;32m/usr/local/lib/python3.9/dist-packages/jax/_src/numpy/lax_numpy.py:3685\u001b[0m, in \u001b[0;36m_gather\u001b[0;34m(arr, treedef, static_idx, dynamic_idx, indices_are_sorted, unique_indices, mode, fill_value)\u001b[0m\n\u001b[1;32m   3682\u001b[0m \u001b[38;5;28;01mdef\u001b[39;00m \u001b[38;5;21m_gather\u001b[39m(arr, treedef, static_idx, dynamic_idx, indices_are_sorted,\n\u001b[1;32m   3683\u001b[0m             unique_indices, mode, fill_value):\n\u001b[1;32m   3684\u001b[0m   idx \u001b[38;5;241m=\u001b[39m _merge_static_and_dynamic_indices(treedef, static_idx, dynamic_idx)\n\u001b[0;32m-> 3685\u001b[0m   indexer \u001b[38;5;241m=\u001b[39m \u001b[43m_index_to_gather\u001b[49m\u001b[43m(\u001b[49m\u001b[43mshape\u001b[49m\u001b[43m(\u001b[49m\u001b[43marr\u001b[49m\u001b[43m)\u001b[49m\u001b[43m,\u001b[49m\u001b[43m \u001b[49m\u001b[43midx\u001b[49m\u001b[43m)\u001b[49m  \u001b[38;5;66;03m# shared with _scatter_update\u001b[39;00m\n\u001b[1;32m   3686\u001b[0m   y \u001b[38;5;241m=\u001b[39m arr\n\u001b[1;32m   3688\u001b[0m   \u001b[38;5;28;01mif\u001b[39;00m fill_value \u001b[38;5;129;01mis\u001b[39;00m \u001b[38;5;129;01mnot\u001b[39;00m \u001b[38;5;28;01mNone\u001b[39;00m:\n",
      "File \u001b[0;32m/usr/local/lib/python3.9/dist-packages/jax/_src/numpy/lax_numpy.py:3812\u001b[0m, in \u001b[0;36m_index_to_gather\u001b[0;34m(x_shape, idx, normalize_indices)\u001b[0m\n\u001b[1;32m   3809\u001b[0m   \u001b[38;5;28;01mif\u001b[39;00m normalize_indices:\n\u001b[1;32m   3810\u001b[0m     advanced_pairs \u001b[38;5;241m=\u001b[39m ((_normalize_index(e, x_shape[j]), i, j)\n\u001b[1;32m   3811\u001b[0m                       \u001b[38;5;28;01mfor\u001b[39;00m e, i, j \u001b[38;5;129;01min\u001b[39;00m advanced_pairs)\n\u001b[0;32m-> 3812\u001b[0m   advanced_indexes, idx_advanced_axes, x_advanced_axes \u001b[38;5;241m=\u001b[39m \u001b[38;5;28;43mzip\u001b[39;49m\u001b[43m(\u001b[49m\u001b[38;5;241;43m*\u001b[39;49m\u001b[43madvanced_pairs\u001b[49m\u001b[43m)\u001b[49m\n\u001b[1;32m   3813\u001b[0m   advanced_axes_are_contiguous \u001b[38;5;241m=\u001b[39m np\u001b[38;5;241m.\u001b[39mall(np\u001b[38;5;241m.\u001b[39mdiff(idx_advanced_axes) \u001b[38;5;241m==\u001b[39m \u001b[38;5;241m1\u001b[39m)\n\u001b[1;32m   3815\u001b[0m x_axis \u001b[38;5;241m=\u001b[39m \u001b[38;5;241m0\u001b[39m  \u001b[38;5;66;03m# Current axis in x.\u001b[39;00m\n",
      "File \u001b[0;32m/usr/local/lib/python3.9/dist-packages/jax/_src/numpy/lax_numpy.py:3810\u001b[0m, in \u001b[0;36m<genexpr>\u001b[0;34m(.0)\u001b[0m\n\u001b[1;32m   3806\u001b[0m advanced_pairs \u001b[38;5;241m=\u001b[39m (\n\u001b[1;32m   3807\u001b[0m   (asarray(e), i, j) \u001b[38;5;28;01mfor\u001b[39;00m j, (i, e) \u001b[38;5;129;01min\u001b[39;00m \u001b[38;5;28menumerate\u001b[39m(idx_no_nones)\n\u001b[1;32m   3808\u001b[0m   \u001b[38;5;28;01mif\u001b[39;00m isscalar(e) \u001b[38;5;129;01mor\u001b[39;00m \u001b[38;5;28misinstance\u001b[39m(e, (Sequence, ndarray, np\u001b[38;5;241m.\u001b[39mndarray)))\n\u001b[1;32m   3809\u001b[0m \u001b[38;5;28;01mif\u001b[39;00m normalize_indices:\n\u001b[0;32m-> 3810\u001b[0m   advanced_pairs \u001b[38;5;241m=\u001b[39m ((_normalize_index(e, x_shape[j]), i, j)\n\u001b[1;32m   3811\u001b[0m                     \u001b[38;5;28;01mfor\u001b[39;00m e, i, j \u001b[38;5;129;01min\u001b[39;00m advanced_pairs)\n\u001b[1;32m   3812\u001b[0m advanced_indexes, idx_advanced_axes, x_advanced_axes \u001b[38;5;241m=\u001b[39m \u001b[38;5;28mzip\u001b[39m(\u001b[38;5;241m*\u001b[39madvanced_pairs)\n\u001b[1;32m   3813\u001b[0m advanced_axes_are_contiguous \u001b[38;5;241m=\u001b[39m np\u001b[38;5;241m.\u001b[39mall(np\u001b[38;5;241m.\u001b[39mdiff(idx_advanced_axes) \u001b[38;5;241m==\u001b[39m \u001b[38;5;241m1\u001b[39m)\n",
      "File \u001b[0;32m/usr/local/lib/python3.9/dist-packages/jax/_src/numpy/lax_numpy.py:3807\u001b[0m, in \u001b[0;36m<genexpr>\u001b[0;34m(.0)\u001b[0m\n\u001b[1;32m   3804\u001b[0m \u001b[38;5;28;01mif\u001b[39;00m _is_advanced_int_indexer(idx):\n\u001b[1;32m   3805\u001b[0m   idx_no_nones \u001b[38;5;241m=\u001b[39m [(i, d) \u001b[38;5;28;01mfor\u001b[39;00m i, d \u001b[38;5;129;01min\u001b[39;00m \u001b[38;5;28menumerate\u001b[39m(idx) \u001b[38;5;28;01mif\u001b[39;00m d \u001b[38;5;129;01mis\u001b[39;00m \u001b[38;5;129;01mnot\u001b[39;00m \u001b[38;5;28;01mNone\u001b[39;00m]\n\u001b[1;32m   3806\u001b[0m   advanced_pairs \u001b[38;5;241m=\u001b[39m (\n\u001b[0;32m-> 3807\u001b[0m     (\u001b[43masarray\u001b[49m\u001b[43m(\u001b[49m\u001b[43me\u001b[49m\u001b[43m)\u001b[49m, i, j) \u001b[38;5;28;01mfor\u001b[39;00m j, (i, e) \u001b[38;5;129;01min\u001b[39;00m \u001b[38;5;28menumerate\u001b[39m(idx_no_nones)\n\u001b[1;32m   3808\u001b[0m     \u001b[38;5;28;01mif\u001b[39;00m isscalar(e) \u001b[38;5;129;01mor\u001b[39;00m \u001b[38;5;28misinstance\u001b[39m(e, (Sequence, ndarray, np\u001b[38;5;241m.\u001b[39mndarray)))\n\u001b[1;32m   3809\u001b[0m   \u001b[38;5;28;01mif\u001b[39;00m normalize_indices:\n\u001b[1;32m   3810\u001b[0m     advanced_pairs \u001b[38;5;241m=\u001b[39m ((_normalize_index(e, x_shape[j]), i, j)\n\u001b[1;32m   3811\u001b[0m                       \u001b[38;5;28;01mfor\u001b[39;00m e, i, j \u001b[38;5;129;01min\u001b[39;00m advanced_pairs)\n",
      "File \u001b[0;32m/usr/local/lib/python3.9/dist-packages/jax/_src/numpy/lax_numpy.py:1931\u001b[0m, in \u001b[0;36masarray\u001b[0;34m(a, dtype, order)\u001b[0m\n\u001b[1;32m   1929\u001b[0m lax_internal\u001b[38;5;241m.\u001b[39m_check_user_dtype_supported(dtype, \u001b[38;5;124m\"\u001b[39m\u001b[38;5;124masarray\u001b[39m\u001b[38;5;124m\"\u001b[39m)\n\u001b[1;32m   1930\u001b[0m dtype \u001b[38;5;241m=\u001b[39m dtypes\u001b[38;5;241m.\u001b[39mcanonicalize_dtype(dtype) \u001b[38;5;28;01mif\u001b[39;00m dtype \u001b[38;5;129;01mis\u001b[39;00m \u001b[38;5;129;01mnot\u001b[39;00m \u001b[38;5;28;01mNone\u001b[39;00m \u001b[38;5;28;01melse\u001b[39;00m dtype\n\u001b[0;32m-> 1931\u001b[0m \u001b[38;5;28;01mreturn\u001b[39;00m \u001b[43marray\u001b[49m\u001b[43m(\u001b[49m\u001b[43ma\u001b[49m\u001b[43m,\u001b[49m\u001b[43m \u001b[49m\u001b[43mdtype\u001b[49m\u001b[38;5;241;43m=\u001b[39;49m\u001b[43mdtype\u001b[49m\u001b[43m,\u001b[49m\u001b[43m \u001b[49m\u001b[43mcopy\u001b[49m\u001b[38;5;241;43m=\u001b[39;49m\u001b[38;5;28;43;01mFalse\u001b[39;49;00m\u001b[43m,\u001b[49m\u001b[43m \u001b[49m\u001b[43morder\u001b[49m\u001b[38;5;241;43m=\u001b[39;49m\u001b[43morder\u001b[49m\u001b[43m)\u001b[49m\n",
      "File \u001b[0;32m/usr/local/lib/python3.9/dist-packages/jax/_src/numpy/lax_numpy.py:1912\u001b[0m, in \u001b[0;36marray\u001b[0;34m(object, dtype, copy, order, ndmin)\u001b[0m\n\u001b[1;32m   1908\u001b[0m     \u001b[38;5;28;01mreturn\u001b[39;00m array(np\u001b[38;5;241m.\u001b[39masarray(view), dtype, copy, ndmin\u001b[38;5;241m=\u001b[39mndmin)\n\u001b[1;32m   1910\u001b[0m   \u001b[38;5;28;01mraise\u001b[39;00m \u001b[38;5;167;01mTypeError\u001b[39;00m(\u001b[38;5;124mf\u001b[39m\u001b[38;5;124m\"\u001b[39m\u001b[38;5;124mUnexpected input type for array: \u001b[39m\u001b[38;5;132;01m{\u001b[39;00m\u001b[38;5;28mtype\u001b[39m(\u001b[38;5;28mobject\u001b[39m)\u001b[38;5;132;01m}\u001b[39;00m\u001b[38;5;124m\"\u001b[39m)\n\u001b[0;32m-> 1912\u001b[0m out_array: Array \u001b[38;5;241m=\u001b[39m \u001b[43mlax_internal\u001b[49m\u001b[38;5;241;43m.\u001b[39;49m\u001b[43m_convert_element_type\u001b[49m\u001b[43m(\u001b[49m\u001b[43mout\u001b[49m\u001b[43m,\u001b[49m\u001b[43m \u001b[49m\u001b[43mdtype\u001b[49m\u001b[43m,\u001b[49m\u001b[43m \u001b[49m\u001b[43mweak_type\u001b[49m\u001b[38;5;241;43m=\u001b[39;49m\u001b[43mweak_type\u001b[49m\u001b[43m)\u001b[49m\n\u001b[1;32m   1913\u001b[0m \u001b[38;5;28;01mif\u001b[39;00m ndmin \u001b[38;5;241m>\u001b[39m ndim(out_array):\n\u001b[1;32m   1914\u001b[0m   out_array \u001b[38;5;241m=\u001b[39m lax\u001b[38;5;241m.\u001b[39mexpand_dims(out_array, \u001b[38;5;28mrange\u001b[39m(ndmin \u001b[38;5;241m-\u001b[39m ndim(out_array)))\n",
      "File \u001b[0;32m/usr/local/lib/python3.9/dist-packages/jax/_src/lax/lax.py:594\u001b[0m, in \u001b[0;36m_convert_element_type\u001b[0;34m(operand, new_dtype, weak_type)\u001b[0m\n\u001b[1;32m    592\u001b[0m   \u001b[38;5;28;01mreturn\u001b[39;00m type_cast(Array, operand)\n\u001b[1;32m    593\u001b[0m \u001b[38;5;28;01melse\u001b[39;00m:\n\u001b[0;32m--> 594\u001b[0m   \u001b[38;5;28;01mreturn\u001b[39;00m \u001b[43mconvert_element_type_p\u001b[49m\u001b[38;5;241;43m.\u001b[39;49m\u001b[43mbind\u001b[49m\u001b[43m(\u001b[49m\u001b[43moperand\u001b[49m\u001b[43m,\u001b[49m\u001b[43m \u001b[49m\u001b[43mnew_dtype\u001b[49m\u001b[38;5;241;43m=\u001b[39;49m\u001b[43mnew_dtype\u001b[49m\u001b[43m,\u001b[49m\n\u001b[1;32m    595\u001b[0m \u001b[43m                                     \u001b[49m\u001b[43mweak_type\u001b[49m\u001b[38;5;241;43m=\u001b[39;49m\u001b[38;5;28;43mbool\u001b[39;49m\u001b[43m(\u001b[49m\u001b[43mweak_type\u001b[49m\u001b[43m)\u001b[49m\u001b[43m)\u001b[49m\n",
      "File \u001b[0;32m/usr/local/lib/python3.9/dist-packages/jax/core.py:328\u001b[0m, in \u001b[0;36mPrimitive.bind\u001b[0;34m(self, *args, **params)\u001b[0m\n\u001b[1;32m    325\u001b[0m \u001b[38;5;28;01mdef\u001b[39;00m \u001b[38;5;21mbind\u001b[39m(\u001b[38;5;28mself\u001b[39m, \u001b[38;5;241m*\u001b[39margs, \u001b[38;5;241m*\u001b[39m\u001b[38;5;241m*\u001b[39mparams):\n\u001b[1;32m    326\u001b[0m   \u001b[38;5;28;01massert\u001b[39;00m (\u001b[38;5;129;01mnot\u001b[39;00m config\u001b[38;5;241m.\u001b[39mjax_enable_checks \u001b[38;5;129;01mor\u001b[39;00m\n\u001b[1;32m    327\u001b[0m           \u001b[38;5;28mall\u001b[39m(\u001b[38;5;28misinstance\u001b[39m(arg, Tracer) \u001b[38;5;129;01mor\u001b[39;00m valid_jaxtype(arg) \u001b[38;5;28;01mfor\u001b[39;00m arg \u001b[38;5;129;01min\u001b[39;00m args)), args\n\u001b[0;32m--> 328\u001b[0m   \u001b[38;5;28;01mreturn\u001b[39;00m \u001b[38;5;28;43mself\u001b[39;49m\u001b[38;5;241;43m.\u001b[39;49m\u001b[43mbind_with_trace\u001b[49m\u001b[43m(\u001b[49m\u001b[43mfind_top_trace\u001b[49m\u001b[43m(\u001b[49m\u001b[43margs\u001b[49m\u001b[43m)\u001b[49m\u001b[43m,\u001b[49m\u001b[43m \u001b[49m\u001b[43margs\u001b[49m\u001b[43m,\u001b[49m\u001b[43m \u001b[49m\u001b[43mparams\u001b[49m\u001b[43m)\u001b[49m\n",
      "File \u001b[0;32m/usr/local/lib/python3.9/dist-packages/jax/core.py:331\u001b[0m, in \u001b[0;36mPrimitive.bind_with_trace\u001b[0;34m(self, trace, args, params)\u001b[0m\n\u001b[1;32m    330\u001b[0m \u001b[38;5;28;01mdef\u001b[39;00m \u001b[38;5;21mbind_with_trace\u001b[39m(\u001b[38;5;28mself\u001b[39m, trace, args, params):\n\u001b[0;32m--> 331\u001b[0m   out \u001b[38;5;241m=\u001b[39m \u001b[43mtrace\u001b[49m\u001b[38;5;241;43m.\u001b[39;49m\u001b[43mprocess_primitive\u001b[49m\u001b[43m(\u001b[49m\u001b[38;5;28;43mself\u001b[39;49m\u001b[43m,\u001b[49m\u001b[43m \u001b[49m\u001b[38;5;28;43mmap\u001b[39;49m\u001b[43m(\u001b[49m\u001b[43mtrace\u001b[49m\u001b[38;5;241;43m.\u001b[39;49m\u001b[43mfull_raise\u001b[49m\u001b[43m,\u001b[49m\u001b[43m \u001b[49m\u001b[43margs\u001b[49m\u001b[43m)\u001b[49m\u001b[43m,\u001b[49m\u001b[43m \u001b[49m\u001b[43mparams\u001b[49m\u001b[43m)\u001b[49m\n\u001b[1;32m    332\u001b[0m   \u001b[38;5;28;01mreturn\u001b[39;00m \u001b[38;5;28mmap\u001b[39m(full_lower, out) \u001b[38;5;28;01mif\u001b[39;00m \u001b[38;5;28mself\u001b[39m\u001b[38;5;241m.\u001b[39mmultiple_results \u001b[38;5;28;01melse\u001b[39;00m full_lower(out)\n",
      "File \u001b[0;32m/usr/local/lib/python3.9/dist-packages/jax/core.py:698\u001b[0m, in \u001b[0;36mEvalTrace.process_primitive\u001b[0;34m(self, primitive, tracers, params)\u001b[0m\n\u001b[1;32m    697\u001b[0m \u001b[38;5;28;01mdef\u001b[39;00m \u001b[38;5;21mprocess_primitive\u001b[39m(\u001b[38;5;28mself\u001b[39m, primitive, tracers, params):\n\u001b[0;32m--> 698\u001b[0m   \u001b[38;5;28;01mreturn\u001b[39;00m \u001b[43mprimitive\u001b[49m\u001b[38;5;241;43m.\u001b[39;49m\u001b[43mimpl\u001b[49m\u001b[43m(\u001b[49m\u001b[38;5;241;43m*\u001b[39;49m\u001b[43mtracers\u001b[49m\u001b[43m,\u001b[49m\u001b[43m \u001b[49m\u001b[38;5;241;43m*\u001b[39;49m\u001b[38;5;241;43m*\u001b[39;49m\u001b[43mparams\u001b[49m\u001b[43m)\u001b[49m\n",
      "File \u001b[0;32m/usr/local/lib/python3.9/dist-packages/jax/_src/dispatch.py:114\u001b[0m, in \u001b[0;36mapply_primitive\u001b[0;34m(prim, *args, **params)\u001b[0m\n\u001b[1;32m    111\u001b[0m \u001b[38;5;124;03m\"\"\"Impl rule that compiles and runs a single primitive 'prim' using XLA.\"\"\"\u001b[39;00m\n\u001b[1;32m    112\u001b[0m compiled_fun \u001b[38;5;241m=\u001b[39m xla_primitive_callable(prim, \u001b[38;5;241m*\u001b[39munsafe_map(arg_spec, args),\n\u001b[1;32m    113\u001b[0m                                       \u001b[38;5;241m*\u001b[39m\u001b[38;5;241m*\u001b[39mparams)\n\u001b[0;32m--> 114\u001b[0m \u001b[38;5;28;01mreturn\u001b[39;00m \u001b[43mcompiled_fun\u001b[49m\u001b[43m(\u001b[49m\u001b[38;5;241;43m*\u001b[39;49m\u001b[43margs\u001b[49m\u001b[43m)\u001b[49m\n",
      "File \u001b[0;32m/usr/local/lib/python3.9/dist-packages/jax/_src/dispatch.py:199\u001b[0m, in \u001b[0;36mxla_primitive_callable.<locals>.<lambda>\u001b[0;34m(*args, **kw)\u001b[0m\n\u001b[1;32m    196\u001b[0m compiled \u001b[38;5;241m=\u001b[39m _xla_callable_uncached(lu\u001b[38;5;241m.\u001b[39mwrap_init(prim_fun), device, \u001b[38;5;28;01mNone\u001b[39;00m,\n\u001b[1;32m    197\u001b[0m                                   prim\u001b[38;5;241m.\u001b[39mname, donated_invars, \u001b[38;5;28;01mFalse\u001b[39;00m, \u001b[38;5;241m*\u001b[39marg_specs)\n\u001b[1;32m    198\u001b[0m \u001b[38;5;28;01mif\u001b[39;00m \u001b[38;5;129;01mnot\u001b[39;00m prim\u001b[38;5;241m.\u001b[39mmultiple_results:\n\u001b[0;32m--> 199\u001b[0m   \u001b[38;5;28;01mreturn\u001b[39;00m \u001b[38;5;28;01mlambda\u001b[39;00m \u001b[38;5;241m*\u001b[39margs, \u001b[38;5;241m*\u001b[39m\u001b[38;5;241m*\u001b[39mkw: \u001b[43mcompiled\u001b[49m\u001b[43m(\u001b[49m\u001b[38;5;241;43m*\u001b[39;49m\u001b[43margs\u001b[49m\u001b[43m,\u001b[49m\u001b[43m \u001b[49m\u001b[38;5;241;43m*\u001b[39;49m\u001b[38;5;241;43m*\u001b[39;49m\u001b[43mkw\u001b[49m\u001b[43m)\u001b[49m[\u001b[38;5;241m0\u001b[39m]\n\u001b[1;32m    200\u001b[0m \u001b[38;5;28;01melse\u001b[39;00m:\n\u001b[1;32m    201\u001b[0m   \u001b[38;5;28;01mreturn\u001b[39;00m compiled\n",
      "File \u001b[0;32m/usr/local/lib/python3.9/dist-packages/jax/_src/dispatch.py:925\u001b[0m, in \u001b[0;36m_execute_trivial\u001b[0;34m(jaxpr, device, consts, avals, handlers, has_unordered_effects, ordered_effects, kept_var_idx, host_callbacks, *args)\u001b[0m\n\u001b[1;32m    922\u001b[0m \u001b[38;5;28mmap\u001b[39m(env\u001b[38;5;241m.\u001b[39msetdefault, jaxpr\u001b[38;5;241m.\u001b[39mconstvars, consts)\n\u001b[1;32m    923\u001b[0m outs \u001b[38;5;241m=\u001b[39m [xla\u001b[38;5;241m.\u001b[39mcanonicalize_dtype(v\u001b[38;5;241m.\u001b[39mval) \u001b[38;5;28;01mif\u001b[39;00m \u001b[38;5;28mtype\u001b[39m(v) \u001b[38;5;129;01mis\u001b[39;00m core\u001b[38;5;241m.\u001b[39mLiteral \u001b[38;5;28;01melse\u001b[39;00m env[v]\n\u001b[1;32m    924\u001b[0m         \u001b[38;5;28;01mfor\u001b[39;00m v \u001b[38;5;129;01min\u001b[39;00m jaxpr\u001b[38;5;241m.\u001b[39moutvars]\n\u001b[0;32m--> 925\u001b[0m \u001b[38;5;28;01mreturn\u001b[39;00m [_copy_device_array_to_device(x, device) \u001b[38;5;28;01mif\u001b[39;00m device_array\u001b[38;5;241m.\u001b[39mtype_is_device_array(x)\n\u001b[1;32m    926\u001b[0m         \u001b[38;5;28;01melse\u001b[39;00m h(\u001b[38;5;28;01mNone\u001b[39;00m, \u001b[38;5;241m*\u001b[39mdevice_put(x, device)) \u001b[38;5;28;01mfor\u001b[39;00m h, x \u001b[38;5;129;01min\u001b[39;00m \u001b[38;5;28mzip\u001b[39m(handlers, outs)]\n",
      "File \u001b[0;32m/usr/local/lib/python3.9/dist-packages/jax/_src/dispatch.py:926\u001b[0m, in \u001b[0;36m<listcomp>\u001b[0;34m(.0)\u001b[0m\n\u001b[1;32m    922\u001b[0m \u001b[38;5;28mmap\u001b[39m(env\u001b[38;5;241m.\u001b[39msetdefault, jaxpr\u001b[38;5;241m.\u001b[39mconstvars, consts)\n\u001b[1;32m    923\u001b[0m outs \u001b[38;5;241m=\u001b[39m [xla\u001b[38;5;241m.\u001b[39mcanonicalize_dtype(v\u001b[38;5;241m.\u001b[39mval) \u001b[38;5;28;01mif\u001b[39;00m \u001b[38;5;28mtype\u001b[39m(v) \u001b[38;5;129;01mis\u001b[39;00m core\u001b[38;5;241m.\u001b[39mLiteral \u001b[38;5;28;01melse\u001b[39;00m env[v]\n\u001b[1;32m    924\u001b[0m         \u001b[38;5;28;01mfor\u001b[39;00m v \u001b[38;5;129;01min\u001b[39;00m jaxpr\u001b[38;5;241m.\u001b[39moutvars]\n\u001b[1;32m    925\u001b[0m \u001b[38;5;28;01mreturn\u001b[39;00m [_copy_device_array_to_device(x, device) \u001b[38;5;28;01mif\u001b[39;00m device_array\u001b[38;5;241m.\u001b[39mtype_is_device_array(x)\n\u001b[0;32m--> 926\u001b[0m         \u001b[38;5;28;01melse\u001b[39;00m h(\u001b[38;5;28;01mNone\u001b[39;00m, \u001b[38;5;241m*\u001b[39m\u001b[43mdevice_put\u001b[49m\u001b[43m(\u001b[49m\u001b[43mx\u001b[49m\u001b[43m,\u001b[49m\u001b[43m \u001b[49m\u001b[43mdevice\u001b[49m\u001b[43m)\u001b[49m) \u001b[38;5;28;01mfor\u001b[39;00m h, x \u001b[38;5;129;01min\u001b[39;00m \u001b[38;5;28mzip\u001b[39m(handlers, outs)]\n",
      "File \u001b[0;32m/usr/local/lib/python3.9/dist-packages/jax/_src/dispatch.py:1199\u001b[0m, in \u001b[0;36mdevice_put\u001b[0;34m(x, device)\u001b[0m\n\u001b[1;32m   1197\u001b[0m x \u001b[38;5;241m=\u001b[39m xla\u001b[38;5;241m.\u001b[39mcanonicalize_dtype(x)\n\u001b[1;32m   1198\u001b[0m \u001b[38;5;28;01mtry\u001b[39;00m:\n\u001b[0;32m-> 1199\u001b[0m   \u001b[38;5;28;01mreturn\u001b[39;00m \u001b[43mdevice_put_handlers\u001b[49m\u001b[43m[\u001b[49m\u001b[38;5;28;43mtype\u001b[39;49m\u001b[43m(\u001b[49m\u001b[43mx\u001b[49m\u001b[43m)\u001b[49m\u001b[43m]\u001b[49m\u001b[43m(\u001b[49m\u001b[43mx\u001b[49m\u001b[43m,\u001b[49m\u001b[43m \u001b[49m\u001b[43mdevice\u001b[49m\u001b[43m)\u001b[49m\n\u001b[1;32m   1200\u001b[0m \u001b[38;5;28;01mexcept\u001b[39;00m \u001b[38;5;167;01mKeyError\u001b[39;00m \u001b[38;5;28;01mas\u001b[39;00m err:\n\u001b[1;32m   1201\u001b[0m   \u001b[38;5;28;01mraise\u001b[39;00m \u001b[38;5;167;01mTypeError\u001b[39;00m(\u001b[38;5;124mf\u001b[39m\u001b[38;5;124m\"\u001b[39m\u001b[38;5;124mNo device_put handler for type: \u001b[39m\u001b[38;5;132;01m{\u001b[39;00m\u001b[38;5;28mtype\u001b[39m(x)\u001b[38;5;132;01m}\u001b[39;00m\u001b[38;5;124m\"\u001b[39m) \u001b[38;5;28;01mfrom\u001b[39;00m \u001b[38;5;21;01merr\u001b[39;00m\n",
      "File \u001b[0;32m/usr/local/lib/python3.9/dist-packages/jax/_src/dispatch.py:1210\u001b[0m, in \u001b[0;36m_device_put_array\u001b[0;34m(x, device)\u001b[0m\n\u001b[1;32m   1208\u001b[0m \u001b[38;5;28;01mif\u001b[39;00m x\u001b[38;5;241m.\u001b[39mdtype \u001b[38;5;241m==\u001b[39m dtypes\u001b[38;5;241m.\u001b[39mfloat0:\n\u001b[1;32m   1209\u001b[0m   x \u001b[38;5;241m=\u001b[39m np\u001b[38;5;241m.\u001b[39mzeros(x\u001b[38;5;241m.\u001b[39mshape, dtype\u001b[38;5;241m=\u001b[39mnp\u001b[38;5;241m.\u001b[39mdtype(\u001b[38;5;28mbool\u001b[39m))\n\u001b[0;32m-> 1210\u001b[0m \u001b[38;5;28;01mreturn\u001b[39;00m (\u001b[43mbackend\u001b[49m\u001b[38;5;241;43m.\u001b[39;49m\u001b[43mbuffer_from_pyval\u001b[49m\u001b[43m(\u001b[49m\u001b[43mx\u001b[49m\u001b[43m,\u001b[49m\u001b[43m \u001b[49m\u001b[43mdevice\u001b[49m\u001b[43m)\u001b[49m,)\n",
      "\u001b[0;31mKeyboardInterrupt\u001b[0m: "
     ]
    }
   ],
   "source": [
    "%autoreload\n",
    "import pickle\n",
    "from tqdm import tqdm\n",
    "import warnings\n",
    "from nn_util import prepare_data\n",
    "from sgmcmc import MixedSGMCMC\n",
    "from sklearn.model_selection import GridSearchCV, StratifiedKFold, cross_val_score\n",
    "from sklearn.linear_model import LogisticRegression\n",
    "\n",
    "warnings.filterwarnings(\"ignore\")\n",
    "\n",
    "\n",
    "\n",
    "config_values = []\n",
    "\n",
    "bnn_lr_dict_500 = {\"seed\": [], \"classifier\": [], \"cv_score\": [], \"test_score\": []}\n",
    "\n",
    "log_param_grid = {\"C\":np.logspace(-2, 1, 10)}\n",
    "\n",
    "for i in range(len(seeds)):\n",
    "\n",
    "    seed, net, data = prepare_data(seeds, i, data_dfs, net_dfs, test_size=0.3)\n",
    "    cv = StratifiedKFold(n_splits=5, shuffle=True, random_state=seed)\n",
    "\n",
    "    print(f\"Running - seed {seed}\")\n",
    "    X_train, X_test, y_train, y_test = data\n",
    "    rng_key = jax.random.PRNGKey(seed)\n",
    "\n",
    "    X_train, X_test, y_train, y_test = jax.device_put(X_train), jax.device_put(X_test), \\\n",
    "                                       jax.device_put(y_train), jax.device_put(y_test)\n",
    "\n",
    "\n",
    "    log_grid_cv = GridSearchCV(estimator=LogisticRegression(max_iter=10000), param_grid=log_param_grid, verbose=0, scoring=\"roc_auc\", cv=cv).fit(X_train, y_train)\n",
    "    log_cv_score = log_grid_cv.best_score_\n",
    "    clf = LogisticRegression(max_iter=10000, C=log_grid_cv.best_params_[\"C\"])\n",
    "    clf.fit(X_train, y_train)\n",
    "    log_test_score = roc_auc_score(y_test, clf.predict_proba(X_test)[:,1])\n",
    "\n",
    "    config, bnn_cv_score = optimize_hyper_parameters(seed, X_train, y_train)\n",
    "\n",
    "    # config = pickle.load(open(f\"{save_dir}/bnn_params_s_{seed}.pickle\", \"rb\"))\n",
    "    config_values.append(config)\n",
    "\n",
    "    pickle.dump(config, open(f\"{save_dir_500}/bnn_params_s_{seed}.pickle\", \"wb\"))\n",
    "\n",
    "    params = {\"disc_lr\": config[\"disc_lr\"], \"contin_lr\": config[\"contin_lr\"], \"batch_size\": config[\"batch_size\"],\n",
    "              \"mu\": config[\"mu\"], \"eta\": config[\"eta\"], \"temp\": config[\"temp\"],\n",
    "              \"sigma\": config[\"sigma\"], \"cycle_len\": config[\"cycle_len\"], \"beta\": config[\"beta\"]}\n",
    "\n",
    "    mixed_sgmcmc = MixedSGMCMC(seed=seed, n_samples=2000, n_warmup=0,\n",
    "                               n_chains=1, layer_dims=[config[\"layer_dim\"]], **params)\n",
    "\n",
    "    # bnn_cv_score = np.mean(cross_val_score(mixed_sgmcmc, X_train, y_train, cv=cv,\n",
    "    #                                        fit_params={\"activation_fns\": [config[\"activation\"]],  \"J\": net}))\n",
    "\n",
    "    mixed_sgmcmc.fit(X_train, y_train, activation_fns=[config[\"activation\"]], J=net)\n",
    "\n",
    "    bnn_test_score = mixed_sgmcmc.score(X_test, y_test)\n",
    "\n",
    "    bnn_disc_mean = jnp.mean(mixed_sgmcmc.states_.discrete_position, axis=0)\n",
    "    np.save(f\"{save_dir_500}/bnn_disc_mean_s_{seed}.npy\", bnn_disc_mean)\n",
    "\n",
    "\n",
    "    bnn_lr_dict_500[\"seed\"].append(seed)\n",
    "    bnn_lr_dict_500[\"classifier\"].append(\"LR\")\n",
    "    bnn_lr_dict_500[\"cv_score\"].append(log_cv_score)\n",
    "    bnn_lr_dict_500[\"test_score\"].append(log_test_score)\n",
    "\n",
    "    bnn_lr_dict_500[\"seed\"].append(seed)\n",
    "    bnn_lr_dict_500[\"classifier\"].append(\"BNN\")\n",
    "    bnn_lr_dict_500[\"cv_score\"].append(bnn_cv_score)\n",
    "    bnn_lr_dict_500[\"test_score\"].append(bnn_test_score)\n",
    "\n",
    "    print(f\"Config: {config}\")\n",
    "\n",
    "    print(f\"Done - seed {seed}\\nLR cv_score: {log_cv_score}, LR test_score: {log_test_score}\")\n",
    "    print(f\"BNN cv_score: {bnn_cv_score}, BNN test_score: {bnn_test_score}\")\n",
    "\n",
    "bnn_lr_df_500 = pd.DataFrame(bnn_lr_dict_500)\n",
    "bnn_lr_df_500.to_csv(f\"{save_dir_500}/res_bmm_summary.csv\", index=False)"
   ]
  },
  {
   "cell_type": "code",
   "execution_count": 68,
   "metadata": {
    "collapsed": false,
    "pycharm": {
     "name": "#%%\n"
    }
   },
   "outputs": [
    {
     "data": {
      "text/html": [
       "<div>\n",
       "<style scoped>\n",
       "    .dataframe tbody tr th:only-of-type {\n",
       "        vertical-align: middle;\n",
       "    }\n",
       "\n",
       "    .dataframe tbody tr th {\n",
       "        vertical-align: top;\n",
       "    }\n",
       "\n",
       "    .dataframe thead th {\n",
       "        text-align: right;\n",
       "    }\n",
       "</style>\n",
       "<table border=\"1\" class=\"dataframe\">\n",
       "  <thead>\n",
       "    <tr style=\"text-align: right;\">\n",
       "      <th></th>\n",
       "      <th>seed</th>\n",
       "      <th>classifier</th>\n",
       "      <th>cv_score</th>\n",
       "      <th>test_score</th>\n",
       "    </tr>\n",
       "  </thead>\n",
       "  <tbody>\n",
       "    <tr>\n",
       "      <th>0</th>\n",
       "      <td>422</td>\n",
       "      <td>LR</td>\n",
       "      <td>0.558040</td>\n",
       "      <td>0.492985</td>\n",
       "    </tr>\n",
       "    <tr>\n",
       "      <th>1</th>\n",
       "      <td>422</td>\n",
       "      <td>BNN</td>\n",
       "      <td>0.525300</td>\n",
       "      <td>0.543771</td>\n",
       "    </tr>\n",
       "    <tr>\n",
       "      <th>2</th>\n",
       "      <td>261</td>\n",
       "      <td>LR</td>\n",
       "      <td>0.537980</td>\n",
       "      <td>0.549244</td>\n",
       "    </tr>\n",
       "    <tr>\n",
       "      <th>3</th>\n",
       "      <td>261</td>\n",
       "      <td>BNN</td>\n",
       "      <td>0.527738</td>\n",
       "      <td>0.529176</td>\n",
       "    </tr>\n",
       "    <tr>\n",
       "      <th>4</th>\n",
       "      <td>968</td>\n",
       "      <td>LR</td>\n",
       "      <td>0.552338</td>\n",
       "      <td>0.455197</td>\n",
       "    </tr>\n",
       "    <tr>\n",
       "      <th>5</th>\n",
       "      <td>968</td>\n",
       "      <td>BNN</td>\n",
       "      <td>0.508821</td>\n",
       "      <td>0.555556</td>\n",
       "    </tr>\n",
       "    <tr>\n",
       "      <th>6</th>\n",
       "      <td>282</td>\n",
       "      <td>LR</td>\n",
       "      <td>0.567325</td>\n",
       "      <td>0.502264</td>\n",
       "    </tr>\n",
       "    <tr>\n",
       "      <th>7</th>\n",
       "      <td>282</td>\n",
       "      <td>BNN</td>\n",
       "      <td>0.566687</td>\n",
       "      <td>0.534309</td>\n",
       "    </tr>\n",
       "    <tr>\n",
       "      <th>8</th>\n",
       "      <td>739</td>\n",
       "      <td>LR</td>\n",
       "      <td>0.677096</td>\n",
       "      <td>0.722995</td>\n",
       "    </tr>\n",
       "    <tr>\n",
       "      <th>9</th>\n",
       "      <td>739</td>\n",
       "      <td>BNN</td>\n",
       "      <td>0.676894</td>\n",
       "      <td>0.713584</td>\n",
       "    </tr>\n",
       "    <tr>\n",
       "      <th>10</th>\n",
       "      <td>573</td>\n",
       "      <td>LR</td>\n",
       "      <td>0.583870</td>\n",
       "      <td>0.503202</td>\n",
       "    </tr>\n",
       "    <tr>\n",
       "      <th>11</th>\n",
       "      <td>573</td>\n",
       "      <td>BNN</td>\n",
       "      <td>0.576286</td>\n",
       "      <td>0.515734</td>\n",
       "    </tr>\n",
       "    <tr>\n",
       "      <th>12</th>\n",
       "      <td>220</td>\n",
       "      <td>LR</td>\n",
       "      <td>0.669890</td>\n",
       "      <td>0.569500</td>\n",
       "    </tr>\n",
       "    <tr>\n",
       "      <th>13</th>\n",
       "      <td>220</td>\n",
       "      <td>BNN</td>\n",
       "      <td>0.664444</td>\n",
       "      <td>0.571500</td>\n",
       "    </tr>\n",
       "    <tr>\n",
       "      <th>14</th>\n",
       "      <td>413</td>\n",
       "      <td>LR</td>\n",
       "      <td>0.567172</td>\n",
       "      <td>0.445625</td>\n",
       "    </tr>\n",
       "    <tr>\n",
       "      <th>15</th>\n",
       "      <td>413</td>\n",
       "      <td>BNN</td>\n",
       "      <td>0.575036</td>\n",
       "      <td>0.437812</td>\n",
       "    </tr>\n",
       "    <tr>\n",
       "      <th>16</th>\n",
       "      <td>745</td>\n",
       "      <td>LR</td>\n",
       "      <td>0.587840</td>\n",
       "      <td>0.590287</td>\n",
       "    </tr>\n",
       "    <tr>\n",
       "      <th>17</th>\n",
       "      <td>745</td>\n",
       "      <td>BNN</td>\n",
       "      <td>0.589883</td>\n",
       "      <td>0.522572</td>\n",
       "    </tr>\n",
       "    <tr>\n",
       "      <th>18</th>\n",
       "      <td>775</td>\n",
       "      <td>LR</td>\n",
       "      <td>0.600236</td>\n",
       "      <td>0.537896</td>\n",
       "    </tr>\n",
       "    <tr>\n",
       "      <th>19</th>\n",
       "      <td>775</td>\n",
       "      <td>BNN</td>\n",
       "      <td>0.600186</td>\n",
       "      <td>0.494910</td>\n",
       "    </tr>\n",
       "    <tr>\n",
       "      <th>20</th>\n",
       "      <td>482</td>\n",
       "      <td>LR</td>\n",
       "      <td>0.598407</td>\n",
       "      <td>0.472448</td>\n",
       "    </tr>\n",
       "    <tr>\n",
       "      <th>21</th>\n",
       "      <td>482</td>\n",
       "      <td>BNN</td>\n",
       "      <td>0.598691</td>\n",
       "      <td>0.490350</td>\n",
       "    </tr>\n",
       "    <tr>\n",
       "      <th>22</th>\n",
       "      <td>442</td>\n",
       "      <td>LR</td>\n",
       "      <td>0.623667</td>\n",
       "      <td>0.612323</td>\n",
       "    </tr>\n",
       "    <tr>\n",
       "      <th>23</th>\n",
       "      <td>442</td>\n",
       "      <td>BNN</td>\n",
       "      <td>0.645693</td>\n",
       "      <td>0.614570</td>\n",
       "    </tr>\n",
       "    <tr>\n",
       "      <th>24</th>\n",
       "      <td>210</td>\n",
       "      <td>LR</td>\n",
       "      <td>0.561111</td>\n",
       "      <td>0.480215</td>\n",
       "    </tr>\n",
       "    <tr>\n",
       "      <th>25</th>\n",
       "      <td>210</td>\n",
       "      <td>BNN</td>\n",
       "      <td>0.564912</td>\n",
       "      <td>0.490662</td>\n",
       "    </tr>\n",
       "    <tr>\n",
       "      <th>26</th>\n",
       "      <td>423</td>\n",
       "      <td>LR</td>\n",
       "      <td>0.473460</td>\n",
       "      <td>0.467267</td>\n",
       "    </tr>\n",
       "    <tr>\n",
       "      <th>27</th>\n",
       "      <td>423</td>\n",
       "      <td>BNN</td>\n",
       "      <td>0.508795</td>\n",
       "      <td>0.500409</td>\n",
       "    </tr>\n",
       "    <tr>\n",
       "      <th>28</th>\n",
       "      <td>760</td>\n",
       "      <td>LR</td>\n",
       "      <td>0.610281</td>\n",
       "      <td>0.586875</td>\n",
       "    </tr>\n",
       "    <tr>\n",
       "      <th>29</th>\n",
       "      <td>760</td>\n",
       "      <td>BNN</td>\n",
       "      <td>0.617220</td>\n",
       "      <td>0.550938</td>\n",
       "    </tr>\n",
       "    <tr>\n",
       "      <th>30</th>\n",
       "      <td>57</td>\n",
       "      <td>LR</td>\n",
       "      <td>0.570461</td>\n",
       "      <td>0.515767</td>\n",
       "    </tr>\n",
       "    <tr>\n",
       "      <th>31</th>\n",
       "      <td>57</td>\n",
       "      <td>BNN</td>\n",
       "      <td>0.550247</td>\n",
       "      <td>0.557086</td>\n",
       "    </tr>\n",
       "    <tr>\n",
       "      <th>32</th>\n",
       "      <td>769</td>\n",
       "      <td>LR</td>\n",
       "      <td>0.656270</td>\n",
       "      <td>0.582351</td>\n",
       "    </tr>\n",
       "    <tr>\n",
       "      <th>33</th>\n",
       "      <td>769</td>\n",
       "      <td>BNN</td>\n",
       "      <td>0.642265</td>\n",
       "      <td>0.525438</td>\n",
       "    </tr>\n",
       "    <tr>\n",
       "      <th>34</th>\n",
       "      <td>920</td>\n",
       "      <td>LR</td>\n",
       "      <td>0.642312</td>\n",
       "      <td>0.537905</td>\n",
       "    </tr>\n",
       "    <tr>\n",
       "      <th>35</th>\n",
       "      <td>920</td>\n",
       "      <td>BNN</td>\n",
       "      <td>0.630198</td>\n",
       "      <td>0.527488</td>\n",
       "    </tr>\n",
       "    <tr>\n",
       "      <th>36</th>\n",
       "      <td>226</td>\n",
       "      <td>LR</td>\n",
       "      <td>0.589758</td>\n",
       "      <td>0.397500</td>\n",
       "    </tr>\n",
       "    <tr>\n",
       "      <th>37</th>\n",
       "      <td>226</td>\n",
       "      <td>BNN</td>\n",
       "      <td>0.587198</td>\n",
       "      <td>0.456250</td>\n",
       "    </tr>\n",
       "    <tr>\n",
       "      <th>38</th>\n",
       "      <td>196</td>\n",
       "      <td>LR</td>\n",
       "      <td>0.569685</td>\n",
       "      <td>0.599589</td>\n",
       "    </tr>\n",
       "    <tr>\n",
       "      <th>39</th>\n",
       "      <td>196</td>\n",
       "      <td>BNN</td>\n",
       "      <td>0.522728</td>\n",
       "      <td>0.651880</td>\n",
       "    </tr>\n",
       "  </tbody>\n",
       "</table>\n",
       "</div>"
      ],
      "text/plain": [
       "    seed classifier  cv_score  test_score\n",
       "0    422         LR  0.558040    0.492985\n",
       "1    422        BNN  0.525300    0.543771\n",
       "2    261         LR  0.537980    0.549244\n",
       "3    261        BNN  0.527738    0.529176\n",
       "4    968         LR  0.552338    0.455197\n",
       "5    968        BNN  0.508821    0.555556\n",
       "6    282         LR  0.567325    0.502264\n",
       "7    282        BNN  0.566687    0.534309\n",
       "8    739         LR  0.677096    0.722995\n",
       "9    739        BNN  0.676894    0.713584\n",
       "10   573         LR  0.583870    0.503202\n",
       "11   573        BNN  0.576286    0.515734\n",
       "12   220         LR  0.669890    0.569500\n",
       "13   220        BNN  0.664444    0.571500\n",
       "14   413         LR  0.567172    0.445625\n",
       "15   413        BNN  0.575036    0.437812\n",
       "16   745         LR  0.587840    0.590287\n",
       "17   745        BNN  0.589883    0.522572\n",
       "18   775         LR  0.600236    0.537896\n",
       "19   775        BNN  0.600186    0.494910\n",
       "20   482         LR  0.598407    0.472448\n",
       "21   482        BNN  0.598691    0.490350\n",
       "22   442         LR  0.623667    0.612323\n",
       "23   442        BNN  0.645693    0.614570\n",
       "24   210         LR  0.561111    0.480215\n",
       "25   210        BNN  0.564912    0.490662\n",
       "26   423         LR  0.473460    0.467267\n",
       "27   423        BNN  0.508795    0.500409\n",
       "28   760         LR  0.610281    0.586875\n",
       "29   760        BNN  0.617220    0.550938\n",
       "30    57         LR  0.570461    0.515767\n",
       "31    57        BNN  0.550247    0.557086\n",
       "32   769         LR  0.656270    0.582351\n",
       "33   769        BNN  0.642265    0.525438\n",
       "34   920         LR  0.642312    0.537905\n",
       "35   920        BNN  0.630198    0.527488\n",
       "36   226         LR  0.589758    0.397500\n",
       "37   226        BNN  0.587198    0.456250\n",
       "38   196         LR  0.569685    0.599589\n",
       "39   196        BNN  0.522728    0.651880"
      ]
     },
     "execution_count": 68,
     "metadata": {},
     "output_type": "execute_result"
    }
   ],
   "source": [
    "bnn_lr_df_500 = pd.read_csv(f\"{save_dir_500}/res_bmm_summary.csv\")\n",
    "bnn_lr_df_500"
   ]
  },
  {
   "cell_type": "code",
   "execution_count": 10,
   "metadata": {
    "collapsed": false,
    "pycharm": {
     "name": "#%%\n"
    }
   },
   "outputs": [
    {
     "data": {
      "text/html": [
       "<div>\n",
       "<style scoped>\n",
       "    .dataframe tbody tr th:only-of-type {\n",
       "        vertical-align: middle;\n",
       "    }\n",
       "\n",
       "    .dataframe tbody tr th {\n",
       "        vertical-align: top;\n",
       "    }\n",
       "\n",
       "    .dataframe thead th {\n",
       "        text-align: right;\n",
       "    }\n",
       "</style>\n",
       "<table border=\"1\" class=\"dataframe\">\n",
       "  <thead>\n",
       "    <tr style=\"text-align: right;\">\n",
       "      <th></th>\n",
       "      <th>cv_score</th>\n",
       "      <th>test_score</th>\n",
       "    </tr>\n",
       "    <tr>\n",
       "      <th>classifier</th>\n",
       "      <th></th>\n",
       "      <th></th>\n",
       "    </tr>\n",
       "  </thead>\n",
       "  <tbody>\n",
       "    <tr>\n",
       "      <th>BNN</th>\n",
       "      <td>0.583961</td>\n",
       "      <td>0.539200</td>\n",
       "    </tr>\n",
       "    <tr>\n",
       "      <th>LR</th>\n",
       "      <td>0.589860</td>\n",
       "      <td>0.531072</td>\n",
       "    </tr>\n",
       "  </tbody>\n",
       "</table>\n",
       "</div>"
      ],
      "text/plain": [
       "            cv_score  test_score\n",
       "classifier                      \n",
       "BNN         0.583961    0.539200\n",
       "LR          0.589860    0.531072"
      ]
     },
     "execution_count": 10,
     "metadata": {},
     "output_type": "execute_result"
    }
   ],
   "source": [
    "bnn_lr_df_500.groupby([\"classifier\"])[[\"cv_score\", \"test_score\"]].mean()"
   ]
  },
  {
   "cell_type": "code",
   "execution_count": 120,
   "metadata": {
    "collapsed": false,
    "pycharm": {
     "name": "#%%\n"
    }
   },
   "outputs": [
    {
     "data": {
      "text/plain": [
       "Configuration(values={\n",
       "  'activation': 'tanh',\n",
       "  'batch_size': 64,\n",
       "  'beta': 0.9901000815779375,\n",
       "  'contin_lr': 0.000553849670496185,\n",
       "  'disc_lr': 0.015499881752989718,\n",
       "  'eta': 13.42890174428199,\n",
       "  'layer_dim': 50,\n",
       "  'mu': 355.8300138691474,\n",
       "  'sigma': 6.261816495065096,\n",
       "  'temp': 0.0040914487548523466,\n",
       "})"
      ]
     },
     "execution_count": 120,
     "metadata": {},
     "output_type": "execute_result"
    }
   ],
   "source": [
    "config"
   ]
  },
  {
   "cell_type": "code",
   "execution_count": 100,
   "metadata": {
    "collapsed": false,
    "pycharm": {
     "name": "#%%\n"
    }
   },
   "outputs": [
    {
     "data": {
      "text/html": [
       "<div>\n",
       "<style scoped>\n",
       "    .dataframe tbody tr th:only-of-type {\n",
       "        vertical-align: middle;\n",
       "    }\n",
       "\n",
       "    .dataframe tbody tr th {\n",
       "        vertical-align: top;\n",
       "    }\n",
       "\n",
       "    .dataframe thead th {\n",
       "        text-align: right;\n",
       "    }\n",
       "</style>\n",
       "<table border=\"1\" class=\"dataframe\">\n",
       "  <thead>\n",
       "    <tr style=\"text-align: right;\">\n",
       "      <th></th>\n",
       "      <th></th>\n",
       "      <th>cv_score</th>\n",
       "      <th>test_score</th>\n",
       "    </tr>\n",
       "    <tr>\n",
       "      <th>feat_sel</th>\n",
       "      <th>num_feats</th>\n",
       "      <th></th>\n",
       "      <th></th>\n",
       "    </tr>\n",
       "  </thead>\n",
       "  <tbody>\n",
       "    <tr>\n",
       "      <th rowspan=\"3\" valign=\"top\">bnn</th>\n",
       "      <th>5</th>\n",
       "      <td>0.508902</td>\n",
       "      <td>0.506224</td>\n",
       "    </tr>\n",
       "    <tr>\n",
       "      <th>10</th>\n",
       "      <td>0.517699</td>\n",
       "      <td>0.511703</td>\n",
       "    </tr>\n",
       "    <tr>\n",
       "      <th>15</th>\n",
       "      <td>0.517699</td>\n",
       "      <td>0.511703</td>\n",
       "    </tr>\n",
       "    <tr>\n",
       "      <th rowspan=\"3\" valign=\"top\">random</th>\n",
       "      <th>5</th>\n",
       "      <td>0.523177</td>\n",
       "      <td>0.518667</td>\n",
       "    </tr>\n",
       "    <tr>\n",
       "      <th>10</th>\n",
       "      <td>0.564427</td>\n",
       "      <td>0.578557</td>\n",
       "    </tr>\n",
       "    <tr>\n",
       "      <th>15</th>\n",
       "      <td>0.566813</td>\n",
       "      <td>0.574128</td>\n",
       "    </tr>\n",
       "  </tbody>\n",
       "</table>\n",
       "</div>"
      ],
      "text/plain": [
       "                    cv_score  test_score\n",
       "feat_sel num_feats                      \n",
       "bnn      5          0.508902    0.506224\n",
       "         10         0.517699    0.511703\n",
       "         15         0.517699    0.511703\n",
       "random   5          0.523177    0.518667\n",
       "         10         0.564427    0.578557\n",
       "         15         0.566813    0.574128"
      ]
     },
     "execution_count": 100,
     "metadata": {},
     "output_type": "execute_result"
    }
   ],
   "source": [
    "rand_v_bnn_sel_fts_df.groupby([\"feat_sel\", \"num_feats\"])[[\"cv_score\", \"test_score\"]].mean()"
   ]
  },
  {
   "cell_type": "code",
   "execution_count": 101,
   "metadata": {
    "collapsed": false,
    "pycharm": {
     "name": "#%%\n"
    }
   },
   "outputs": [
    {
     "data": {
      "text/plain": [
       "Text(0, 0.5, 'num features')"
      ]
     },
     "execution_count": 101,
     "metadata": {},
     "output_type": "execute_result"
    },
    {
     "data": {
      "image/png": "[encoded data removed]",
      "text/plain": [
       "<Figure size 864x288 with 2 Axes>"
      ]
     },
     "metadata": {
      "needs_background": "light"
     },
     "output_type": "display_data"
    }
   ],
   "source": [
    "gamma_means = jnp.mean(mixed_sgmcmc.states_.discrete_position, axis=0)\n",
    "bnn_disc_mean_s_442 = np.load(f\"{save_dir_500}/bnn_disc_mean_s_{seed}.npy\")\n",
    "\n",
    "fig, (ax1, ax2) = plt.subplots(1, 2, figsize=(12, 4))\n",
    "ax1.hist(bnn_disc_mean_s_442)\n",
    "ax1.set_xlabel(\"frequency\")\n",
    "ax1.set_ylabel(\"num features\")\n",
    "\n",
    "ax2.hist(gamma_means)\n",
    "ax2.set_xlabel(\"frequency\")\n",
    "ax2.set_ylabel(\"num features\")"
   ]
  },
  {
   "cell_type": "code",
   "execution_count": null,
   "metadata": {
    "collapsed": false,
    "pycharm": {
     "name": "#%%\n"
    }
   },
   "outputs": [],
   "source": [
    "from scipy import stats\n",
    "bnn_sel_ft_5 = rand_v_bnn_sel_fts_df[(rand_v_bnn_sel_fts_df[\"feat_sel\"] == \"bnn\" ) & (rand_v_bnn_sel_fts_df[\"num_feats\"] == 5)]\n",
    "rand_fisher_sel_ft_5 = rand_v_bnn_sel_fts_df[(rand_v_bnn_sel_fts_df[\"feat_sel\"] == \"random\") & (rand_v_bnn_sel_fts_df[\"num_feats\"] == 5)]\n",
    "\n",
    "bnn_sel_ft_10 = rand_v_bnn_sel_fts_df[(rand_v_bnn_sel_fts_df[\"feat_sel\"] == \"bnn\" ) & (rand_v_bnn_sel_fts_df[\"num_feats\"] == 10)]\n",
    "rand_fisher_sel_ft_10 = rand_v_bnn_sel_fts_df[(rand_v_bnn_sel_fts_df[\"feat_sel\"] == \"random\") & (rand_v_bnn_sel_fts_df[\"num_feats\"] == 10)]\n",
    "\n",
    "cv_score_bnn_sel_ft_5 = bnn_sel_ft_5[\"cv_score\"]\n",
    "cv_score_rand_sel_ft_5 = rand_fisher_sel_ft_5[\"cv_score\"]\n",
    "\n",
    "cv_score_bnn_sel_ft_10 = bnn_sel_ft_10[\"cv_score\"]\n",
    "cv_score_rand_sel_ft_10 = rand_fisher_sel_ft_10[\"cv_score\"]\n",
    "\n",
    "test_score_bnn_sel_ft_5 = bnn_sel_ft_5[\"test_score\"]\n",
    "test_score_rand_sel_ft_5 = rand_fisher_sel_ft_5[\"test_score\"]\n",
    "\n",
    "test_score_bnn_sel_ft_10 = bnn_sel_ft_10[\"test_score\"]\n",
    "test_score_rand_sel_ft_10 = rand_fisher_sel_ft_10[\"test_score\"]\n",
    "\n",
    "p_val_cv_score_5 = stats.ttest_ind(cv_score_bnn_sel_ft_5, cv_score_rand_sel_ft_5, alternative=\"two-sided\", equal_var=False).pvalue\n",
    "p_val_test_score_5 = stats.ttest_ind(test_score_bnn_sel_ft_5, test_score_rand_sel_ft_5, alternative=\"two-sided\", equal_var=False).pvalue\n",
    "\n",
    "p_val_cv_score_10 = stats.ttest_ind(cv_score_bnn_sel_ft_10, cv_score_rand_sel_ft_10, alternative=\"two-sided\", equal_var=False).pvalue\n",
    "p_val_test_score_10 = stats.ttest_ind(test_score_bnn_sel_ft_10, test_score_rand_sel_ft_5, alternative=\"two-sided\", equal_var=False).pvalue\n",
    "\n",
    "print(\"=========== Num feats: 5 =====================\")\n",
    "print(f\"CV Scores: BNN vs Random - p_value (two-sided): {p_val_cv_score_5}\")\n",
    "print(f\"Test Scores: BNN vs Random - p_value (two-sided): {p_val_test_score_5}\")\n",
    "\n",
    "print(\"\\n=========== Num feats: 10 =====================\")\n",
    "print(f\"CV Scores: BNN vs Random - p_value (two-sided): {p_val_cv_score_10}\")\n",
    "print(f\"Test Scores: BNN vs Random - p_value (two-sided): {p_val_test_score_10}\")"
   ]
  },
  {
   "cell_type": "code",
   "execution_count": 85,
   "metadata": {
    "collapsed": false,
    "pycharm": {
     "name": "#%%\n"
    }
   },
   "outputs": [
    {
     "name": "stdout",
     "output_type": "stream",
     "text": [
      "=========== Num feats: 5 =====================\n",
      "CV Scores: BNN vs Random - p_value (one-sided): 9.539647905564428e-15\n",
      "Test Scores: BNN vs Random - p_value (one-sided): 2.4414652092392635e-12\n",
      "\n",
      "=========== Num feats: 10 =====================\n",
      "CV Scores: BNN vs Random - p_value (one-sided): 2.301495416941404e-08\n",
      "Test Scores: BNN vs Random - p_value (one-sided): 1.1606598065503922e-11\n"
     ]
    }
   ],
   "source": [
    "p_val_cv_score_5 = stats.ttest_ind(cv_score_bnn_sel_ft_5, cv_score_rand_sel_ft_5, alternative=\"greater\", equal_var=False).pvalue\n",
    "p_val_test_score_5 = stats.ttest_ind(test_score_bnn_sel_ft_5, test_score_rand_sel_ft_5, alternative=\"greater\", equal_var=False).pvalue\n",
    "\n",
    "p_val_cv_score_10 = stats.ttest_ind(cv_score_bnn_sel_ft_10, cv_score_rand_sel_ft_10, alternative=\"greater\", equal_var=False).pvalue\n",
    "p_val_test_score_10 = stats.ttest_ind(test_score_bnn_sel_ft_10, test_score_rand_sel_ft_5, alternative=\"greater\", equal_var=False).pvalue\n",
    "\n",
    "print(\"=========== Num feats: 5 =====================\")\n",
    "print(f\"CV Scores: BNN vs Random - p_value (one-sided): {p_val_cv_score_5}\")\n",
    "print(f\"Test Scores: BNN vs Random - p_value (one-sided): {p_val_test_score_5}\")\n",
    "\n",
    "print(\"\\n=========== Num feats: 10 =====================\")\n",
    "print(f\"CV Scores: BNN vs Random - p_value (one-sided): {p_val_cv_score_10}\")\n",
    "print(f\"Test Scores: BNN vs Random - p_value (one-sided): {p_val_test_score_10}\")"
   ]
  },
  {
   "cell_type": "code",
   "execution_count": 90,
   "metadata": {
    "collapsed": false,
    "pycharm": {
     "name": "#%%\n"
    }
   },
   "outputs": [
    {
     "data": {
      "text/plain": [
       "442"
      ]
     },
     "execution_count": 90,
     "metadata": {},
     "output_type": "execute_result"
    }
   ],
   "source": [
    "seeds[11]"
   ]
  },
  {
   "cell_type": "code",
   "execution_count": 50,
   "metadata": {
    "collapsed": false,
    "pycharm": {
     "name": "#%%\n"
    }
   },
   "outputs": [
    {
     "name": "stderr",
     "output_type": "stream",
     "text": [
      "/tmp/ipykernel_348/1906722657.py:9: DeprecationWarning: `np.float` is a deprecated alias for the builtin `float`. To silence this warning, use `float` by itself. Doing this will not modify any behavior and is safe. If you specifically wanted the numpy scalar type, use `np.float64` here.\n",
      "Deprecated in NumPy 1.20; for more details and guidance: https://numpy.org/devdocs/release/1.20.0-notes.html#deprecations\n",
      "  X, y = data_dfs[seed_idx].iloc[:,:-1].to_numpy().astype(np.float),  \\\n",
      "/tmp/ipykernel_348/1906722657.py:10: DeprecationWarning: `np.float` is a deprecated alias for the builtin `float`. To silence this warning, use `float` by itself. Doing this will not modify any behavior and is safe. If you specifically wanted the numpy scalar type, use `np.float64` here.\n",
      "Deprecated in NumPy 1.20; for more details and guidance: https://numpy.org/devdocs/release/1.20.0-notes.html#deprecations\n",
      "  data_dfs[seed_idx].iloc[:,-1].to_numpy().astype(np.float)\n"
     ]
    },
    {
     "name": "stdout",
     "output_type": "stream",
     "text": [
      "Configuration(values={\n",
      "  'activation': 'relu',\n",
      "  'batch_size': 32,\n",
      "  'beta': 0.9223176022517695,\n",
      "  'contin_lr': 2.921565057716431e-05,\n",
      "  'cycle_len': 7,\n",
      "  'disc_lr': 0.0255358112072285,\n",
      "  'eta': 0.15141244695593806,\n",
      "  'layer_dim': 300,\n",
      "  'mu': 0.5222315154956412,\n",
      "  'sigma': 7.401408430020509,\n",
      "  'temp': 0.09070826467316453,\n",
      "})\n",
      "\n",
      "0.5378787869760631\n",
      "0.5632159934179469\n"
     ]
    }
   ],
   "source": [
    "%autoreload\n",
    "import pickle\n",
    "from sgmcmc import MixedSGMCMC\n",
    "from sklearn.model_selection import cross_val_score, train_test_split, GridSearchCV\n",
    "from sklearn.linear_model import LogisticRegression\n",
    "seed_idx = 4\n",
    "\n",
    "seed = seeds[seed_idx]\n",
    "X, y = data_dfs[seed_idx].iloc[:,:-1].to_numpy().astype(np.float),  \\\n",
    "       data_dfs[seed_idx].iloc[:,-1].to_numpy().astype(np.float)\n",
    "\n",
    "X_train, X_test, y_train, y_test = train_test_split(X, y, random_state=seed, shuffle=True, stratify=y, test_size=0.3)\n",
    "\n",
    "X_train, X_test, y_train, y_test = jax.device_put(X_train), jax.device_put(X_test), \\\n",
    "                                   jax.device_put(y_train), jax.device_put(y_test)\n",
    "net = net_dfs[seed_idx].to_numpy()\n",
    "\n",
    "bnn_params_s_442 = pickle.load(open(f\"{save_dir_500}/bnn_params_s_{seed}.pickle\", \"rb\"))\n",
    "\n",
    "print(bnn_params_s_442)\n",
    "\n",
    "params = {\"disc_lr\": 0.1, \"contin_lr\": 0.001, \"batch_size\": bnn_params_s_442[\"batch_size\"],\n",
    "          \"mu\": 1000, \"eta\": 10, \"temp\": bnn_params_s_442[\"temp\"],\n",
    "          \"sigma\": bnn_params_s_442[\"sigma\"], \"cycle_len\": 5, \"beta\": 0.95}\n",
    "\n",
    "cv = StratifiedKFold(shuffle=True, random_state=seed)\n",
    "mixed_sgmcmc = MixedSGMCMC(seed=442, n_samples=1000, n_warmup=0,\n",
    "                           n_chains=1, layer_dims=[bnn_params_s_442[\"layer_dim\"]], **params)\n",
    "\n",
    "bnn_cv_score = np.mean(cross_val_score(mixed_sgmcmc, X_train, y_train, cv=cv,\n",
    "                                       fit_params={\"activation_fns\": [bnn_params_s_442[\"activation\"]],  \"J\": net}))\n",
    "\n",
    "print(bnn_cv_score)\n",
    "mixed_sgmcmc.fit(X_train, y_train, activation_fns=[bnn_params_s_442[\"activation\"]], J=net)\n",
    "\n",
    "print(mixed_sgmcmc.score(X_test, y_test))"
   ]
  },
  {
   "cell_type": "code",
   "execution_count": 51,
   "metadata": {
    "collapsed": false,
    "pycharm": {
     "name": "#%%\n"
    }
   },
   "outputs": [
    {
     "data": {
      "text/plain": [
       "45"
      ]
     },
     "execution_count": 51,
     "metadata": {},
     "output_type": "execute_result"
    }
   ],
   "source": [
    "len(mixed_sgmcmc.disc_states)"
   ]
  },
  {
   "cell_type": "code",
   "execution_count": 191,
   "metadata": {
    "collapsed": false,
    "pycharm": {
     "name": "#%%\n"
    }
   },
   "outputs": [
    {
     "data": {
      "text/plain": [
       "Text(0, 0.5, 'num features')"
      ]
     },
     "execution_count": 191,
     "metadata": {},
     "output_type": "execute_result"
    },
    {
     "data": {
      "image/png": "[encoded data removed]",
      "text/plain": [
       "<Figure size 864x288 with 2 Axes>"
      ]
     },
     "metadata": {
      "needs_background": "light"
     },
     "output_type": "display_data"
    }
   ],
   "source": [
    "gamma_means = jnp.mean(mixed_sgmcmc.states_.discrete_position, axis=0)\n",
    "bnn_disc_mean_s_442 = np.load(f\"{save_dir_500}/bnn_disc_mean_s_{seed}.npy\")\n",
    "\n",
    "fig, (ax1, ax2) = plt.subplots(1, 2, figsize=(12, 4))\n",
    "ax1.hist(bnn_disc_mean_s_442)\n",
    "ax1.set_xlabel(\"frequency\")\n",
    "ax1.set_ylabel(\"num features\")\n",
    "\n",
    "ax2.hist(gamma_means)\n",
    "ax2.set_xlabel(\"frequency\")\n",
    "ax2.set_ylabel(\"num features\")"
   ]
  },
  {
   "cell_type": "code",
   "execution_count": 195,
   "metadata": {
    "collapsed": false,
    "pycharm": {
     "name": "#%%\n"
    }
   },
   "outputs": [
    {
     "name": "stderr",
     "output_type": "stream",
     "text": [
      "/tmp/ipykernel_50/723526.py:7: DeprecationWarning: `np.float` is a deprecated alias for the builtin `float`. To silence this warning, use `float` by itself. Doing this will not modify any behavior and is safe. If you specifically wanted the numpy scalar type, use `np.float64` here.\n",
      "Deprecated in NumPy 1.20; for more details and guidance: https://numpy.org/devdocs/release/1.20.0-notes.html#deprecations\n",
      "  X, y = data_dfs[seed_idx].iloc[:,:-1].to_numpy().astype(np.float), \\\n",
      "/tmp/ipykernel_50/723526.py:8: DeprecationWarning: `np.float` is a deprecated alias for the builtin `float`. To silence this warning, use `float` by itself. Doing this will not modify any behavior and is safe. If you specifically wanted the numpy scalar type, use `np.float64` here.\n",
      "Deprecated in NumPy 1.20; for more details and guidance: https://numpy.org/devdocs/release/1.20.0-notes.html#deprecations\n",
      "  data_dfs[seed_idx].iloc[:,-1].to_numpy().astype(np.float)\n"
     ]
    },
    {
     "name": "stdout",
     "output_type": "stream",
     "text": [
      "{'C': 0.46415888336127775}\n"
     ]
    },
    {
     "name": "stderr",
     "output_type": "stream",
     "text": [
      "100%|██████████| 20/20 [00:21<00:00,  1.05s/it]\n"
     ]
    }
   ],
   "source": [
    "%autoreload\n",
    "from run_moses_cosmic_exp import run_logistc_regression\n",
    "from tqdm import tqdm\n",
    "\n",
    "seed_idx = 2\n",
    "seed = seeds[seed_idx]\n",
    "X, y = data_dfs[seed_idx].iloc[:,:-1].to_numpy().astype(np.float), \\\n",
    "       data_dfs[seed_idx].iloc[:,-1].to_numpy().astype(np.float)\n",
    "\n",
    "net = net_dfs[seed_idx].to_numpy()\n",
    "\n",
    "gamma_means_idx_s = np.argsort(gamma_means)[::-1]\n",
    "\n",
    "log_v_bnn_sel_fts_dict = {\"seed\": [], \"feat_sel\": [], \"num_feats\": [], \"cv_score\": [], \"test_score\": []}\n",
    "\n",
    "all_feats = np.arange(p - 1)\n",
    "\n",
    "feat_lens = [5, 10]\n",
    "\n",
    "X_train, X_test, y_train, y_test = train_test_split(X, y, random_state=seed, shuffle=True, stratify=y, test_size=0.3)\n",
    "\n",
    "\n",
    "cv = StratifiedKFold(random_state=seed, shuffle=True, n_splits=5)\n",
    "log_best_params, _, _ = run_logistc_regression(X_train, X_test, y_train, y_test, cv, verbose=0)\n",
    "print(log_best_params)\n",
    "log_clf = LogisticRegression(max_iter=10000, **log_best_params)\n",
    "log_clf.fit(X_train, y_train)\n",
    "\n",
    "log_coef = log_clf.coef_[0]\n",
    "\n",
    "log_coef_sorted = np.argsort(log_coef)[::-1]\n",
    "\n",
    "for seed in tqdm(seeds):\n",
    "\n",
    "    cv = StratifiedKFold(random_state=seed, shuffle=True, n_splits=5)\n",
    "\n",
    "    # print(gamma_means)\n",
    "\n",
    "    X_train, X_test, y_train, y_test = train_test_split(X, y, random_state=seed, shuffle=True, stratify=y, test_size=0.3)\n",
    "\n",
    "    rng_key = jax.random.PRNGKey(seed)\n",
    "\n",
    "    for ft_len in feat_lens:\n",
    "\n",
    "        log_sel_fts = log_coef_sorted[:ft_len]\n",
    "\n",
    "        X_train_log_sel, X_test_log_sel, = X_train[:,log_sel_fts], X_test[:,log_sel_fts]\n",
    "\n",
    "        _, log_cv_score, log_test_score = run_logistc_regression(X_train_log_sel, X_test_log_sel,\n",
    "                                                                 y_train, y_test, cv, verbose=0)\n",
    "\n",
    "        bnn_sel_fts = gamma_means_idx_s[:ft_len]\n",
    "\n",
    "        X_train_sel, X_test_sel = X_train[:,bnn_sel_fts], X_test[:,bnn_sel_fts]\n",
    "\n",
    "        _, bnn_cv_score, bnn_test_score = run_logistc_regression(X_train_sel, X_test_sel,\n",
    "                                                                 y_train, y_test, cv, verbose=0)\n",
    "\n",
    "\n",
    "        log_v_bnn_sel_fts_dict[\"seed\"].append(seed)\n",
    "        log_v_bnn_sel_fts_dict[\"feat_sel\"].append(\"lr\")\n",
    "        log_v_bnn_sel_fts_dict[\"num_feats\"].append(ft_len)\n",
    "        # log_v_bnn_sel_fts_dict[\"kernel\"].append(svm_log_params[\"kernel\"])\n",
    "        log_v_bnn_sel_fts_dict[\"cv_score\"].append(log_cv_score)\n",
    "        log_v_bnn_sel_fts_dict[\"test_score\"].append(log_test_score)\n",
    "\n",
    "        log_v_bnn_sel_fts_dict[\"seed\"].append(seed)\n",
    "        log_v_bnn_sel_fts_dict[\"feat_sel\"].append(\"bnn\")\n",
    "        log_v_bnn_sel_fts_dict[\"num_feats\"].append(ft_len)\n",
    "        # log_v_bnn_sel_fts_dict[\"kernel\"].append(svm_bnn_params[\"kernel\"])\n",
    "        log_v_bnn_sel_fts_dict[\"cv_score\"].append(bnn_cv_score)\n",
    "        log_v_bnn_sel_fts_dict[\"test_score\"].append(bnn_test_score)\n",
    "\n",
    "\n",
    "log_v_bnn_sel_fts_df = pd.DataFrame(log_v_bnn_sel_fts_dict)"
   ]
  },
  {
   "cell_type": "code",
   "execution_count": 196,
   "metadata": {
    "collapsed": false,
    "pycharm": {
     "name": "#%%\n"
    }
   },
   "outputs": [
    {
     "data": {
      "text/html": [
       "<div>\n",
       "<style scoped>\n",
       "    .dataframe tbody tr th:only-of-type {\n",
       "        vertical-align: middle;\n",
       "    }\n",
       "\n",
       "    .dataframe tbody tr th {\n",
       "        vertical-align: top;\n",
       "    }\n",
       "\n",
       "    .dataframe thead th {\n",
       "        text-align: right;\n",
       "    }\n",
       "</style>\n",
       "<table border=\"1\" class=\"dataframe\">\n",
       "  <thead>\n",
       "    <tr style=\"text-align: right;\">\n",
       "      <th></th>\n",
       "      <th></th>\n",
       "      <th>cv_score</th>\n",
       "      <th>test_score</th>\n",
       "    </tr>\n",
       "    <tr>\n",
       "      <th>feat_sel</th>\n",
       "      <th>num_feats</th>\n",
       "      <th></th>\n",
       "      <th></th>\n",
       "    </tr>\n",
       "  </thead>\n",
       "  <tbody>\n",
       "    <tr>\n",
       "      <th rowspan=\"2\" valign=\"top\">bnn</th>\n",
       "      <th>5</th>\n",
       "      <td>0.513978</td>\n",
       "      <td>0.526661</td>\n",
       "    </tr>\n",
       "    <tr>\n",
       "      <th>10</th>\n",
       "      <td>0.615466</td>\n",
       "      <td>0.612497</td>\n",
       "    </tr>\n",
       "    <tr>\n",
       "      <th rowspan=\"2\" valign=\"top\">lr</th>\n",
       "      <th>5</th>\n",
       "      <td>0.655775</td>\n",
       "      <td>0.642661</td>\n",
       "    </tr>\n",
       "    <tr>\n",
       "      <th>10</th>\n",
       "      <td>0.657482</td>\n",
       "      <td>0.651044</td>\n",
       "    </tr>\n",
       "  </tbody>\n",
       "</table>\n",
       "</div>"
      ],
      "text/plain": [
       "                    cv_score  test_score\n",
       "feat_sel num_feats                      \n",
       "bnn      5          0.513978    0.526661\n",
       "         10         0.615466    0.612497\n",
       "lr       5          0.655775    0.642661\n",
       "         10         0.657482    0.651044"
      ]
     },
     "execution_count": 196,
     "metadata": {},
     "output_type": "execute_result"
    }
   ],
   "source": [
    "log_v_bnn_sel_fts_df.groupby([\"feat_sel\", \"num_feats\"])[[\"cv_score\", \"test_score\"]].mean()"
   ]
  },
  {
   "cell_type": "code",
   "execution_count": null,
   "metadata": {
    "collapsed": false,
    "pycharm": {
     "name": "#%%\n"
    }
   },
   "outputs": [],
   "source": []
  }
 ],
 "metadata": {
  "kernelspec": {
   "display_name": "Python 3 (ipykernel)",
   "language": "python",
   "name": "python3"
  }
 },
 "nbformat": 4,
 "nbformat_minor": 0
}
