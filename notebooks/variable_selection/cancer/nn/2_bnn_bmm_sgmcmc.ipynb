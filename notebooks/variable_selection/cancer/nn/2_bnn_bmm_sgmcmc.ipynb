{
 "cells": [
  {
   "cell_type": "code",
   "execution_count": null,
   "outputs": [],
   "source": [
    "!pip install -U jax[cuda112]==0.3.17 -f https://storage.googleapis.com/jax-releases/jax_cuda_releases.html\n",
    "!pip install -U jaxlib[cuda112]==0.3.17 -f https://storage.googleapis.com/jax-releases/jax_cuda_releases.html\n",
    "!pip install optax\n",
    "!pip install dm-haiku\n",
    "!pip install tensorflow-probability==0.17\n",
    "!pip install lark==1.1.2\n",
    "!pip install git+https://github.com/blackjax-devs/blackjax.git\n",
    "!apt update\n",
    "!apt install -y graphviz\n",
    "!apt-get -y install swig\n",
    "!pip install smac\n",
    "!pip install graphviz\n",
    "!pip install gplearn"
   ],
   "metadata": {
    "collapsed": false,
    "pycharm": {
     "name": "#%%\n"
    }
   }
  },
  {
   "cell_type": "code",
   "execution_count": null,
   "outputs": [],
   "source": [
    "import os\n",
    "os.environ[\"XLA_PYTHON_CLIENT_PREALLOCATE\"] = \"False\"\n",
    "os.environ[\"XLA_PYTHON_CLIENT_ALLOCATOR\"] = \"platform\"\n",
    "SERVER = 1"
   ],
   "metadata": {
    "collapsed": false,
    "pycharm": {
     "name": "#%%\n"
    }
   }
  },
  {
   "cell_type": "code",
   "execution_count": null,
   "outputs": [],
   "source": [
    "if not SERVER:\n",
    "    %cd /home/xabush/code/snet/moses-incons-pen-xp/notebooks/variable_selection/cancer/nn\n",
    "import jax\n",
    "import haiku as hk\n",
    "import jax.numpy as jnp\n",
    "import numpy as np\n",
    "import matplotlib.pyplot as plt\n",
    "from sklearn.datasets import make_moons\n",
    "import blackjax\n",
    "import tensorflow_probability.substrates.jax as tfp\n",
    "tfd = tfp.distributions\n",
    "from functools import partial\n",
    "import pandas as pd\n",
    "from sklearn.metrics import roc_auc_score\n",
    "from sklearn.model_selection import train_test_split\n",
    "from nn_util import *\n",
    "from gibbs_sampler import *\n",
    "plt.style.use('ggplot')\n",
    "%load_ext autoreload"
   ],
   "metadata": {
    "collapsed": false,
    "pycharm": {
     "name": "#%%\n"
    }
   }
  },
  {
   "cell_type": "code",
   "execution_count": null,
   "outputs": [],
   "source": [
    "jax.default_backend()"
   ],
   "metadata": {
    "collapsed": false,
    "pycharm": {
     "name": "#%%\n"
    }
   }
  },
  {
   "cell_type": "code",
   "execution_count": null,
   "outputs": [],
   "source": [
    "if SERVER:\n",
    "    data_dir = \".\"\n",
    "else:\n",
    "    data_dir = \"/home/xabush/code/snet/moses-incons-pen-xp/data\""
   ],
   "metadata": {
    "collapsed": false,
    "pycharm": {
     "name": "#%%\n"
    }
   }
  },
  {
   "cell_type": "markdown",
   "source": [
    "### Load Data"
   ],
   "metadata": {
    "collapsed": false,
    "pycharm": {
     "name": "#%% md\n"
    }
   }
  },
  {
   "cell_type": "code",
   "execution_count": null,
   "outputs": [],
   "source": [
    "p = 100\n",
    "seeds, data_dfs, net_dfs, feat_ls = load_bmm_files(f\"{data_dir}/bmm_data_thr_5_F_8_f{p}\")"
   ],
   "metadata": {
    "collapsed": false,
    "pycharm": {
     "name": "#%%\n"
    }
   }
  },
  {
   "cell_type": "code",
   "execution_count": null,
   "outputs": [],
   "source": [
    "%autoreload\n",
    "seed_idx = 6\n",
    "seed, net, data = prepare_data(seeds, seed_idx, data_dfs, net_dfs, test_size=0.2, out_val_size=0.4)\n",
    "print(f\"seed: {seed}\")\n",
    "X_train, X_out_val, X_test, y_train, y_out_val, y_test = data\n",
    "# X_train, X_out_val, y_train, y_out_val = train_test_split(X_train, y_train, test_size=0.2, stratify=y_train, random_state=seed, shuffle=True)\n",
    "X_train, X_test, y_train, y_test = jax.device_put(X_train), jax.device_put(X_test), \\\n",
    "                                   jax.device_put(y_train), jax.device_put(y_test)\n",
    "\n",
    "X_out_val, y_out_val = jax.device_put(X_out_val), jax.device_put(y_out_val)\n",
    "# p = X_train.shape[1]\n",
    "rng_key = jax.random.PRNGKey(seed)"
   ],
   "metadata": {
    "collapsed": false,
    "pycharm": {
     "name": "#%%\n"
    }
   }
  },
  {
   "cell_type": "markdown",
   "source": [
    "### Baseline Logistic Regression"
   ],
   "metadata": {
    "collapsed": false,
    "pycharm": {
     "name": "#%% md\n"
    }
   }
  },
  {
   "cell_type": "code",
   "execution_count": null,
   "outputs": [],
   "source": [
    "from sklearn.model_selection import GridSearchCV, StratifiedKFold, KFold\n",
    "from sklearn.model_selection import cross_val_score\n",
    "cv = StratifiedKFold(n_splits=5, shuffle=True, random_state=seed)"
   ],
   "metadata": {
    "collapsed": false,
    "pycharm": {
     "name": "#%%\n"
    }
   }
  },
  {
   "cell_type": "code",
   "execution_count": null,
   "outputs": [],
   "source": [
    "from sklearn.linear_model import LogisticRegression\n",
    "\n",
    "\n",
    "log_param_grid = {\"C\":np.logspace(-2, 1, 10)}\n",
    "log_grid_cv = GridSearchCV(estimator=LogisticRegression(max_iter=10000), param_grid=log_param_grid, verbose=1, scoring=\"roc_auc\", cv=cv).fit(X_train, y_train)\n",
    "clf = LogisticRegression(max_iter=10000, C=log_grid_cv.best_params_[\"C\"])\n",
    "cv_score = np.mean(cross_val_score(clf, X_train, y_train, scoring=\"roc_auc\", cv=cv))\n",
    "clf.fit(X_train, y_train)\n",
    "test_score = roc_auc_score(y_test, clf.predict_proba(X_test)[:,1])\n",
    "print(f\"cv score: {cv_score}, test_score: {test_score}\")"
   ],
   "metadata": {
    "collapsed": false,
    "pycharm": {
     "name": "#%%\n"
    }
   }
  },
  {
   "cell_type": "markdown",
   "source": [
    "### BNN"
   ],
   "metadata": {
    "collapsed": false,
    "pycharm": {
     "name": "#%% md\n"
    }
   }
  },
  {
   "cell_type": "code",
   "execution_count": null,
   "outputs": [],
   "source": [
    "%autoreload\n",
    "from smac.facade.smac_mf_facade import SMAC4MF\n",
    "from smac.scenario.scenario import Scenario\n",
    "from sklearn.model_selection import cross_val_score, StratifiedKFold\n",
    "from sgmcmc import MixedSGMCMC\n",
    "from run_nn_fisher_test_exp import run_logistic_regression\n",
    "from smac.configspace import ConfigurationSpace\n",
    "from ConfigSpace.hyperparameters import (\n",
    "    CategoricalHyperparameter,\n",
    "    UniformFloatHyperparameter,\n",
    "    UniformIntegerHyperparameter,\n",
    ")\n",
    "\n",
    "from ConfigSpace import InCondition, Configuration\n",
    "\n",
    "\n",
    "\n",
    "def get_configspace(input_size)-> ConfigurationSpace:\n",
    "    # Build Configuration Space which defines all parameters and their ranges.\n",
    "\n",
    "    if input_size == 100:\n",
    "        layer_dims  = [50, 60, 70, 80]\n",
    "    else:\n",
    "        layer_dims = [250, 300, 350, 400]\n",
    "\n",
    "    cs  = ConfigurationSpace()\n",
    "\n",
    "    layer_dim = CategoricalHyperparameter(\"layer_dim\", layer_dims, default_value=layer_dims[0])\n",
    "    activation = CategoricalHyperparameter(\"activation\", [\"relu\", \"tanh\"], default_value=\"tanh\")\n",
    "    # lr_schedule = CategoricalHyperparameter(\"lr_schedule\", [\"cyclical\"], default_value=\"cyclical\")\n",
    "    disc_lr = CategoricalHyperparameter(\"disc_lr\", [1e-5, 1e-4, 1e-3, 1e-2, 1e-1, 0.5] , default_value=1e-1)\n",
    "    contin_lr = CategoricalHyperparameter(\"contin_lr\", [1e-5, 1e-4, 1e-3, 1e-2], default_value=1e-5) #TODO Extend range\n",
    "    # num_cycles = CategoricalHyperparameter(\"num_cycles\", [3, 4, 5], default_value=5)\n",
    "    # beta = CategoricalHyperparameter(\"beta\", [0.5, 0.55, 0.6, 0.65, 0.7, 0.75, 0.8, 0.85, 0.9, 0.95], default_value=0.9)\n",
    "    batch_sze = CategoricalHyperparameter(\"batch_size\", [32, 64, 128, 256], default_value=32)\n",
    "    thinning_interval = CategoricalHyperparameter(\"thinning_interval\", [50, 100, 150, 200], default_value=100)\n",
    "    # eta = UniformFloatHyperparameter(\"eta\", lower=0.1, upper=100., log=True)\n",
    "    eta = CategoricalHyperparameter(\"eta\", [0.1, 1., 5, 10., 50., 100.], default_value=1.)\n",
    "    # mu = UniformFloatHyperparameter(\"mu\", lower=0.1, upper=100, log=True)\n",
    "    mu = CategoricalHyperparameter(\"mu\", [0.1, 1., 5, 10., 50., 100.], default_value=1.)\n",
    "    temp = CategoricalHyperparameter(\"temp\", [1e-3, 1e-2, 1e-1, 0.5,  1.], default_value=1e-1)\n",
    "    sigma = CategoricalHyperparameter(\"sigma\", [1e-3, 1e-2, 1e-1, 0.5, 1., 10.], default_value=1.)\n",
    "    # Add hyper-parameters\n",
    "    cs.add_hyperparameters([layer_dim, activation, disc_lr, contin_lr, eta, mu, temp, sigma, batch_sze, thinning_interval])\n",
    "\n",
    "    # # Cyclical SG-MCMC condition\n",
    "    # use_cycle_len = InCondition(child=cycle_len, parent=lr_schedule, values=[\"cyclical\"])\n",
    "    # use_beta = InCondition(child=beta, parent=lr_schedule, values=[\"cyclical\"])\n",
    "    #\n",
    "    # cs.add_conditions([use_cycle_len, use_beta])\n",
    "\n",
    "    return cs\n",
    "\n",
    "def generate_train_cs(seed, X, y):\n",
    "    cv = StratifiedKFold(n_splits=5, shuffle=True, random_state=seed)\n",
    "    # X_tr, X_val, y_tr, y_val = train_test_split(X, y, stratify=y, test_size=0.1, shuffle=seed)\n",
    "    def train_cs(config: Configuration, budget: int)-> float:\n",
    "\n",
    "        params = {\"disc_lr\": config[\"disc_lr\"], \"contin_lr\": config[\"contin_lr\"], \"batch_size\": config[\"batch_size\"],\n",
    "                  \"mu\": config[\"mu\"], \"eta\": config[\"eta\"], \"temp\": config[\"temp\"],\n",
    "                  \"sigma\": config[\"sigma\"], \"thinning_interval\": config[\"thinning_interval\"]}\n",
    "\n",
    "        # print(params)\n",
    "\n",
    "        mixed_sgmcmc = MixedSGMCMC(seed=seed, n_samples=budget, n_warmup=1000, lr_schedule=\"exponential\",\n",
    "                            n_chains=5, layer_dims=[config[\"layer_dim\"]], **params)\n",
    "\n",
    "        cv_score_1 = np.mean(cross_val_score(mixed_sgmcmc, X, y,  cv=cv, fit_params={\n",
    "            \"activation_fns\": [config[\"activation\"]], \"J\": net\n",
    "        }))\n",
    "\n",
    "\n",
    "        # mixed_sgmcmc.fit(X_tr, y_tr, activation_fns=[config[\"activation\"]], J=net)\n",
    "        # gamma_means = jnp.mean(jnp.mean(mixed_sgmcmc.states_.discrete_position, axis=0), axis=0)\n",
    "        # gamma_means_idx_s = np.argsort(gamma_means)[::-1]\n",
    "        #\n",
    "        # bnn_sel_fts = gamma_means_idx_s[:ft_len]\n",
    "        # #\n",
    "        # X_tr_sel, X_val_sel = X_tr[:,bnn_sel_fts], X_val[:,bnn_sel_fts]\n",
    "        #\n",
    "        # _, _, val_score = run_logistic_regression(X_tr_sel, X_val_sel, y_tr, y_val, cv, verbose=0)\n",
    "\n",
    "        return 1 - (cv_score_1)\n",
    "\n",
    "\n",
    "    return train_cs\n",
    "\n",
    "\n",
    "def optimize_hyper_parameters(seed, X, y, total_time=60):\n",
    "    cs = get_configspace(X.shape[1])\n",
    "    scenario = Scenario({\n",
    "        \"run_obj\": \"quality\",\n",
    "        \"wallclock-limit\": total_time,\n",
    "        \"cs\": cs,\n",
    "        \"deterministic\": True,\n",
    "        \"cutoff\": 10,  # runtime limit for the target algorithm\n",
    "        \"verbose_level\": \"DEBUG\", \n",
    "        \"seed\": seed\n",
    "    })\n",
    "\n",
    "    max_steps = 5000\n",
    "\n",
    "    train_cs = generate_train_cs(seed, X, y)\n",
    "\n",
    "    intensifier_kwargs = {\"initial_budget\": 1500, \"max_budget\": max_steps}\n",
    "\n",
    "    smac = SMAC4MF(scenario=scenario, rng=np.random.RandomState(seed),\n",
    "                   tae_runner=train_cs, intensifier_kwargs=intensifier_kwargs)\n",
    "\n",
    "    tae = smac.get_tae_runner()\n",
    "\n",
    "    try:\n",
    "        incumbent = smac.optimize()\n",
    "\n",
    "    finally:\n",
    "        incumbent = smac.solver.incumbent\n",
    "\n",
    "\n",
    "    inc_val = tae.run(config=incumbent, budget=max_steps, seed=seed)\n",
    "\n",
    "    return incumbent, 1 - inc_val[1], smac\n"
   ],
   "metadata": {
    "collapsed": false,
    "pycharm": {
     "name": "#%%\n"
    }
   }
  },
  {
   "cell_type": "code",
   "execution_count": null,
   "outputs": [],
   "source": [
    "X_train, X_test, y_train, y_test = jax.device_put(X_train), jax.device_put(X_test), \\\n",
    "                                   jax.device_put(y_train), jax.device_put(y_test)\n",
    "p = X_train.shape[1]\n",
    "rng_key = jax.random.PRNGKey(seed)\n",
    "config, cv_score, smac = optimize_hyper_parameters(seed, X_train, y_train, total_time=180)\n",
    "cv_score"
   ],
   "metadata": {
    "collapsed": false,
    "pycharm": {
     "name": "#%%\n"
    }
   }
  },
  {
   "cell_type": "code",
   "execution_count": null,
   "outputs": [],
   "source": [
    "smac.get_trajectory()[-1].budget"
   ],
   "metadata": {
    "collapsed": false,
    "pycharm": {
     "name": "#%%\n"
    }
   }
  },
  {
   "cell_type": "code",
   "execution_count": null,
   "outputs": [],
   "source": [
    "config"
   ],
   "metadata": {
    "collapsed": false,
    "pycharm": {
     "name": "#%%\n"
    }
   }
  },
  {
   "cell_type": "code",
   "execution_count": null,
   "outputs": [],
   "source": [
    "%autoreload\n",
    "from sgmcmc import MixedSGMCMC\n",
    "params = {\"disc_lr\": config[\"disc_lr\"], \"contin_lr\": config[\"contin_lr\"], \"batch_size\": config[\"batch_size\"],\n",
    "          \"mu\": config[\"mu\"], \"eta\": config[\"eta\"], \"temp\": config[\"temp\"],\n",
    "          \"sigma\":config[\"sigma\"], \"thinning_interval\": config[\"thinning_interval\"]}\n",
    "\n",
    "mixed_sgmcmc = MixedSGMCMC(seed=seed, n_samples=2000, n_warmup=500, n_chains=5, lr_schedule=\"exponential\",\n",
    "                     layer_dims=[config[\"layer_dim\"]], **params)\n",
    "\n",
    "# cv_score_bnn = np.mean(cross_val_score(mixed_sgmcmc, X_train, y_train,  cv=cv, fit_params={\n",
    "#             \"activation_fns\": [config[\"activation\"]], \"J\": net\n",
    "#         }))\n",
    "# print(cv_score_bnn)\n",
    "mixed_sgmcmc.fit(X_train, y_train, activation_fns=[config[\"activation\"]], J=net)\n",
    "print(f\"Num models: {mixed_sgmcmc.states_.discrete_position.shape[0]}\")\n",
    "test_score_bnn = mixed_sgmcmc.score(X_test, y_test)\n",
    "\n",
    "print(test_score_bnn)"
   ],
   "metadata": {
    "collapsed": false,
    "pycharm": {
     "name": "#%%\n"
    }
   }
  },
  {
   "cell_type": "code",
   "execution_count": null,
   "outputs": [],
   "source": [
    "disc_states = mixed_sgmcmc.states_.discrete_position.reshape(mixed_sgmcmc.n_chains, -1,\n",
    "                                         mixed_sgmcmc.states_.discrete_position.shape[-1])\n",
    "contin_states = jax.tree_util.tree_map(lambda x: jnp.moveaxis(x.reshape(mixed_sgmcmc.n_chains, -1, x.shape[-1]), 0, 1), mixed_sgmcmc.states_.contin_position)"
   ],
   "metadata": {
    "collapsed": false,
    "pycharm": {
     "name": "#%%\n"
    }
   }
  },
  {
   "cell_type": "code",
   "execution_count": null,
   "outputs": [],
   "source": [
    "contin_states = tree_utils.tree_unstack(mixed_sgmcmc.states_.contin_position)\n",
    "disc_states = mixed_sgmcmc.states_.discrete_position\n",
    "\n",
    "disc_logprior_fn = generate_disc_logprior_fn(net, mixed_sgmcmc.eta, mixed_sgmcmc.mu)\n",
    "contin_logprior_fn = generate_contin_logprior_fn(mixed_sgmcmc.sigma)\n",
    "\n",
    "contin_log_probs = []\n",
    "disc_log_probs = []\n",
    "log_lls = []\n",
    "\n",
    "for c in range(mixed_sgmcmc.n_chains):\n",
    "    chain_disc_log_probs = []\n",
    "    chain_contin_log_probs = []\n",
    "    for i in range(len(mixed_sgmcmc.disc_states[c])):\n",
    "        # idxs = jax.random.choice(keys[i], jnp.arange(data_size), (32,), replace=False)\n",
    "        # batches = make_batch(idxs, train_data.x, train_data.y)\n",
    "        chain_disc_log_probs.append(disc_logprior_fn(mixed_sgmcmc.disc_states[c][i]))\n",
    "        chain_contin_log_probs.append(contin_logprior_fn(mixed_sgmcmc.contin_states[c][i]))\n",
    "\n",
    "    disc_log_probs.append(chain_disc_log_probs)\n",
    "    contin_log_probs.append(chain_contin_log_probs)\n",
    "    # log_lls.append(mixed_loglikelihood_fn(sgmcmc.model_, sgmcmc.contin_states[i], batches, sgmcmc.disc_states[i]))\n",
    "\n",
    "fig, (ax1, ax2) = plt.subplots(1, 2, figsize=(24, 12))\n",
    "\n",
    "for c in range(mixed_sgmcmc.n_chains):\n",
    "    ax1.plot(disc_log_probs[c], label=f\"chain {c + 1} Disc logprob\")\n",
    "    ax2.plot(contin_log_probs[c], label=f\"chain {c + 1} Contin logprob\")\n",
    "# ax2[0].plot(log_lls, label=f\"log LL\")\n",
    "\n",
    "ax1.set_title(f\"Disc lr: {config_1['disc_lr']:.3f}\")\n",
    "ax2.set_title(f\"Contin lr: {config_1['contin_lr']:.5f}\")\n",
    "\n",
    "ax1.legend()\n",
    "ax2.legend()"
   ],
   "metadata": {
    "collapsed": false,
    "pycharm": {
     "name": "#%%\n"
    }
   }
  },
  {
   "cell_type": "code",
   "execution_count": null,
   "outputs": [],
   "source": [
    "gamma_means = jnp.mean(mixed_sgmcmc.states_.discrete_position, axis=0)\n",
    "gamma_means_idx_s = np.argsort(gamma_means)[::-1]\n",
    "plt.hist(gamma_means)\n",
    "plt.xlabel(\"frequency\")\n",
    "plt.ylabel(\"num features\")"
   ],
   "metadata": {
    "collapsed": false,
    "pycharm": {
     "name": "#%%\n"
    }
   }
  },
  {
   "cell_type": "code",
   "execution_count": null,
   "outputs": [],
   "source": [
    "%autoreload\n",
    "from tqdm import tqdm\n",
    "from sgmcmc import MixedSGMCMC\n",
    "from run_nn_fisher_test_exp import run_logistic_regression\n",
    "\n",
    "X, y = data_dfs[seed_idx].iloc[:,:-1].to_numpy().astype(float), \\\n",
    "       data_dfs[seed_idx].iloc[:,-1].to_numpy().astype(float)\n",
    "\n",
    "net = net_dfs[seed_idx].to_numpy()\n",
    "\n",
    "X_train, X_test, y_train, y_test = train_test_split(X, y, random_state=seed, shuffle=True, stratify=y, test_size=0.3)\n",
    "\n",
    "X_train, X_test, y_train, y_test = jax.device_put(X_train), jax.device_put(X_test), \\\n",
    "                                   jax.device_put(y_train), jax.device_put(y_test)\n",
    "\n",
    "\n",
    "rand_v_bnn_sel_fts_dict = {\"seed\": [], \"feat_sel\": [], \"num_feats\": [], \"cv_score\": [], \"test_score\": []}\n",
    "\n",
    "all_feats = np.arange(p - 1)\n",
    "\n",
    "feat_lens = [5, 10, 15]\n",
    "\n",
    "cv = StratifiedKFold(random_state=seed, shuffle=True, n_splits=5)\n",
    "log_best_params, _, _ = run_logistic_regression(X_train, X_test, y_train, y_test, cv, verbose=0)\n",
    "print(log_best_params)\n",
    "log_clf = LogisticRegression(max_iter=10000, **log_best_params)\n",
    "log_clf.fit(X_train, y_train)\n",
    "\n",
    "log_coef = log_clf.coef_[0]\n",
    "\n",
    "log_coef_sorted = np.argsort(log_coef)[::-1]\n",
    "\n",
    "# # print(gamma_means)\n",
    "#\n",
    "# X_train, X_test, y_train, y_test = train_test_split(X, y, random_state=seed, shuffle=True, stratify=y, test_size=0.3)\n",
    "\n",
    "rng_key = jax.random.PRNGKey(seed)\n",
    "\n",
    "for ft_len in feat_lens:\n",
    "    # rand_sel_fts = jax.random.choice(rng_key, all_feats, (ft_len,), replace=False)\n",
    "    #\n",
    "    # X_train_rand_sel, X_test_rand_sel = X_train[:,rand_sel_fts], X_test[:,rand_sel_fts]\n",
    "    #\n",
    "    # _, rand_cv_score, rand_test_score = run_logistic_regression(X_train_rand_sel, X_test_rand_sel,\n",
    "    #                                                            y_train, y_test, cv, verbose=0)\n",
    "    #\n",
    "    # log_sel_fts = log_coef_sorted[:ft_len]\n",
    "    #\n",
    "    # X_train_log_sel, X_test_log_sel, = X_train[:,log_sel_fts], X_test[:,log_sel_fts]\n",
    "    #\n",
    "    # _, log_cv_score, log_test_score = run_logistic_regression(X_train_log_sel, X_test_log_sel,\n",
    "    #                                                          y_train, y_test, cv, verbose=0)\n",
    "\n",
    "    bnn_sel_fts = gamma_means_idx_s[:ft_len]\n",
    "\n",
    "    X_train_sel, X_test_sel = X_train[:,bnn_sel_fts], X_test[:,bnn_sel_fts]\n",
    "\n",
    "    _, bnn_cv_score, bnn_test_score = run_logistic_regression(X_train_sel, X_test_sel,\n",
    "                                                     y_train, y_test, cv, verbose=0)\n",
    "\n",
    "    # rand_v_bnn_sel_fts_dict[\"seed\"].append(seed)\n",
    "    # rand_v_bnn_sel_fts_dict[\"feat_sel\"].append(\"random\")\n",
    "    # rand_v_bnn_sel_fts_dict[\"num_feats\"].append(ft_len)\n",
    "    # rand_v_bnn_sel_fts_dict[\"cv_score\"].append(rand_cv_score)\n",
    "    # rand_v_bnn_sel_fts_dict[\"test_score\"].append(rand_test_score)\n",
    "\n",
    "\n",
    "    rand_v_bnn_sel_fts_dict[\"seed\"].append(seed)\n",
    "    rand_v_bnn_sel_fts_dict[\"feat_sel\"].append(\"bnn\")\n",
    "    rand_v_bnn_sel_fts_dict[\"num_feats\"].append(ft_len)\n",
    "    rand_v_bnn_sel_fts_dict[\"cv_score\"].append(bnn_cv_score)\n",
    "    rand_v_bnn_sel_fts_dict[\"test_score\"].append(bnn_test_score)\n",
    "\n",
    "        # rand_v_bnn_sel_fts_dict[\"seed\"].append(seed)\n",
    "        # rand_v_bnn_sel_fts_dict[\"feat_sel\"].append(\"lr\")\n",
    "        # rand_v_bnn_sel_fts_dict[\"num_feats\"].append(ft_len)\n",
    "        # # rand_v_bnn_sel_fts_dict[\"kernel\"].append(svm_log_params[\"kernel\"])\n",
    "        # rand_v_bnn_sel_fts_dict[\"cv_score\"].append(log_cv_score)\n",
    "        # rand_v_bnn_sel_fts_dict[\"test_score\"].append(log_test_score)\n",
    "\n",
    "\n",
    "rand_v_bnn_sel_fts_df = pd.DataFrame(rand_v_bnn_sel_fts_dict)\n",
    "rand_v_bnn_sel_fts_df"
   ],
   "metadata": {
    "collapsed": false,
    "pycharm": {
     "name": "#%%\n"
    }
   }
  },
  {
   "cell_type": "markdown",
   "source": [
    "### Variable Elimination"
   ],
   "metadata": {
    "collapsed": false,
    "pycharm": {
     "name": "#%% md\n"
    }
   }
  },
  {
   "cell_type": "code",
   "execution_count": null,
   "outputs": [],
   "source": [
    "%autoreload\n",
    "from operator import itemgetter\n",
    "from tqdm import tqdm\n",
    "\n",
    "def evaluate_bnn(model, X, y, params, gammas):\n",
    "    eval_fn = lambda p, g: model.apply(p, X, g).ravel()\n",
    "    logits = jax.vmap(eval_fn)(params, gammas)\n",
    "    logits = logits.reshape(-1, logits.shape[-1])\n",
    "    losses = jax.vmap(optax.sigmoid_binary_cross_entropy, in_axes=(0, None))(logits, y)\n",
    "    mean_loss = jnp.mean(losses, axis=-1)\n",
    "    return jnp.sum(mean_loss)\n",
    "\n",
    "def get_feats_dropout_loss(sgmcmc, X, y):\n",
    "    var_loss_dict = {\"feats_idx\": [], \"num_models\": [] , \"loss_on\": [], \"loss_off\": [], \"loss_diff\": []}\n",
    "    # disc_states = sgmcmc.states_.discrete_position.reshape(-1, sgmcmc.states_.discrete_position.shape[-1])\n",
    "    disc_states = sgmcmc.states_.discrete_position\n",
    "    contin_states = tree_utils.tree_unstack(sgmcmc.states_.contin_position)\n",
    "\n",
    "    num_models = disc_states.shape[0]\n",
    "\n",
    "    p = X.shape[1]\n",
    "\n",
    "    for idx in range(p):\n",
    "        # idx = feats_idx[i]\n",
    "        idx_on = np.argwhere(disc_states[:,idx] == 1.).ravel()\n",
    "        loss_on, loss_off = 0., 0.\n",
    "        if idx_on.size == 0: ## irrelevant feature\n",
    "            loss_diff = 1e9\n",
    "        else:\n",
    "            disc_states_on = disc_states[idx_on]\n",
    "            if idx_on.size > 1:\n",
    "                params_on = tree_utils.tree_stack(itemgetter(*idx_on)(contin_states))\n",
    "            else:\n",
    "                params_on = tree_utils.tree_stack([contin_states[idx_on[0]]])\n",
    "            loss_on = evaluate_bnn(sgmcmc.model_, X, y, params_on, disc_states_on)\n",
    "\n",
    "            # Turn-off the variable, and see hwo the loss changes\n",
    "            disc_states_off = disc_states_on.at[:,idx].set(0)\n",
    "            loss_off = evaluate_bnn(sgmcmc.model_, X, y, params_on, disc_states_off)\n",
    "\n",
    "            loss_diff = (loss_on - loss_off) * (len(idx_on) / num_models)\n",
    "\n",
    "\n",
    "        var_loss_dict[\"feats_idx\"].append(idx)\n",
    "        var_loss_dict[\"num_models\"].append(idx_on.size)\n",
    "        var_loss_dict[\"loss_on\"].append(loss_on)\n",
    "        var_loss_dict[\"loss_off\"].append(loss_off)\n",
    "        var_loss_dict[\"loss_diff\"].append(loss_diff)\n",
    "\n",
    "\n",
    "    var_loss_df = pd.DataFrame(var_loss_dict).sort_values(by=\"loss_diff\")\n",
    "\n",
    "    return var_loss_df"
   ],
   "metadata": {
    "collapsed": false,
    "pycharm": {
     "name": "#%%\n"
    }
   }
  },
  {
   "cell_type": "code",
   "execution_count": null,
   "outputs": [],
   "source": [
    "save_dir_100 = f\"{data_dir}/exp_data_4/bmm/f100\"\n",
    "dropout_loss_df = pd.read_csv(f\"{save_dir_100}/drop_out_loss_s_{seed}.csv\")"
   ],
   "metadata": {
    "collapsed": false,
    "pycharm": {
     "name": "#%%\n"
    }
   }
  },
  {
   "cell_type": "code",
   "execution_count": null,
   "outputs": [],
   "source": [
    "dropout_loss_df = get_feats_dropout_loss(mixed_sgmcmc, X_train, y_train)"
   ],
   "metadata": {
    "collapsed": false,
    "pycharm": {
     "name": "#%%\n"
    }
   }
  },
  {
   "cell_type": "code",
   "execution_count": null,
   "outputs": [],
   "source": [
    "dropout_loss_df"
   ],
   "metadata": {
    "collapsed": false,
    "pycharm": {
     "name": "#%%\n"
    }
   }
  },
  {
   "cell_type": "markdown",
   "source": [
    "##### Logistic Regression"
   ],
   "metadata": {
    "collapsed": false,
    "pycharm": {
     "name": "#%% md\n"
    }
   }
  },
  {
   "cell_type": "code",
   "execution_count": null,
   "outputs": [],
   "source": [
    "num_fts = 5\n",
    "X_out_val_sel, X_test_sel = X_out_val[:,log_coef_sorted[:num_fts]], X_test[:,log_coef_sorted[:num_fts]]\n",
    "\n",
    "_, val_score, test_score = run_logistic_regression(X_out_val_sel, X_test_sel, y_out_val, y_test, cv)\n",
    "print(val_score)\n",
    "print(test_score)"
   ],
   "metadata": {
    "collapsed": false,
    "pycharm": {
     "name": "#%%\n"
    }
   }
  },
  {
   "cell_type": "code",
   "execution_count": null,
   "outputs": [],
   "source": [
    "log_coef_sorted[:num_fts]"
   ],
   "metadata": {
    "collapsed": false,
    "pycharm": {
     "name": "#%%\n"
    }
   }
  },
  {
   "cell_type": "code",
   "execution_count": null,
   "outputs": [],
   "source": [
    "from run_nn_fisher_test_exp import run_logistic_regression\n",
    "feats_sel = dropout_loss_df[\"feats_idx\"][:num_fts].to_list()\n",
    "\n",
    "X_train_val_comb, X_test_sel = np.concatenate([X_train, X_out_val], axis=0)[:,feats_sel], X_test[:,feats_sel]\n",
    "y_train_val_comb = np.concatenate([y_train, y_out_val], axis=0)\n",
    "\n",
    "_, val_score, test_score = run_logistic_regression(X_train_val_comb, X_test_sel, y_train_val_comb, y_test, cv)\n",
    "print(val_score)\n",
    "print(test_score)"
   ],
   "metadata": {
    "collapsed": false,
    "pycharm": {
     "name": "#%%\n"
    }
   }
  },
  {
   "cell_type": "code",
   "execution_count": null,
   "outputs": [],
   "source": [
    "feats_sel"
   ],
   "metadata": {
    "collapsed": false,
    "pycharm": {
     "name": "#%%\n"
    }
   }
  },
  {
   "cell_type": "markdown",
   "source": [
    "### GP Learn"
   ],
   "metadata": {
    "collapsed": false,
    "pycharm": {
     "name": "#%% md\n"
    }
   }
  },
  {
   "cell_type": "code",
   "execution_count": null,
   "outputs": [],
   "source": [
    "# ft_len = 20\n",
    "# sel_idx = gamma_means_idx_s[:feats_sel]\n",
    "# sel_idx = log_coef_sorted[:ft_len]\n",
    "X_gp_train, X_gp_val, X_gp_test = X_out_val[:,feats_sel].astype(int), X_train[:,feats_sel].astype(int), X_test[:,feats_sel].astype(int)\n",
    "X_gp_train.shape"
   ],
   "metadata": {
    "collapsed": false,
    "pycharm": {
     "name": "#%%\n"
    }
   }
  },
  {
   "cell_type": "code",
   "execution_count": null,
   "outputs": [],
   "source": [
    "from gplearn.genetic import SymbolicTransformer, SymbolicClassifier\n",
    "from gplearn.functions import make_function\n",
    "import operator\n",
    "\n",
    "\n",
    "def get_best_programs(gp, num_models, ascending=True, sort_fit=\"OOB_fitness\"):\n",
    "    gp_dict = {'Gen': [], \"Ind\": [], \"Fitness\": [], 'OOB_fitness': []}\n",
    "\n",
    "    for idGen in range(len(gp._programs)):\n",
    "        for idPopulation in range(gp.population_size):\n",
    "            if (gp._programs[idGen][idPopulation] != None):\n",
    "                gp_dict[\"Gen\"].append(idGen)\n",
    "                gp_dict[\"Ind\"].append(idPopulation)\n",
    "                gp_dict[\"Fitness\"].append(gp._programs[idGen][idPopulation].fitness_)\n",
    "                gp_dict[\"OOB_fitness\"].append(gp._programs[idGen][idPopulation].oob_fitness_)\n",
    "\n",
    "    gp_df = pd.DataFrame(gp_dict).sort_values(sort_fit, ascending=ascending)[:num_models]\n",
    "    programs = []\n",
    "    for i in range(num_models):\n",
    "        gen, ind = int(gp_df.iloc[i][\"Gen\"]), int(gp_df.iloc[i][\"Ind\"])\n",
    "        programs.append(gp._programs[gen][ind])\n",
    "\n",
    "    return programs\n",
    "\n",
    "\n",
    "def gp_transform(est, X, classifier=False, num_models=100, sort_fit=\"Fitness\"):\n",
    "    if classifier:\n",
    "        programs = get_best_programs(gp, num_models, classifier, sort_fit)\n",
    "        out = np.zeros((X.shape[0], len(programs)))\n",
    "        for i, prog in enumerate(programs):\n",
    "            out[:, i] = prog.execute(X)\n",
    "\n",
    "        return out\n",
    "\n",
    "    return est.transform(X)\n",
    "\n",
    "\n",
    "function_set = ['add', 'sub', 'mul', 'div', 'sqrt', 'log',\n",
    "                'abs', 'neg', 'inv', 'max', 'min']"
   ],
   "metadata": {
    "collapsed": false,
    "pycharm": {
     "name": "#%%\n"
    }
   }
  },
  {
   "cell_type": "code",
   "execution_count": null,
   "outputs": [],
   "source": [
    "def and_(x1, x2):\n",
    "    return np.logical_and(x1, x2)\n",
    "\n",
    "def or_(x1, x2):\n",
    "    return np.logical_or(x1, x2)\n",
    "\n",
    "def xor_(x1, x2):\n",
    "    return np.logical_xor(x1, x2)\n",
    "\n",
    "def not_(x1):\n",
    "    return np.logical_not(x1)\n",
    "\n",
    "# def if_else_then(x1, x2, x3):\n",
    "#     if x1: return x2\n",
    "#     return x3\n",
    "\n",
    "# and_op = make_function(function=and_, name=\"and_\", arity=2)\n",
    "# or_op = make_function(function=or_, name=\"or_\", arity=2)\n",
    "# xor_op = make_function(function=xor_, name=\"xor_\", arity=2)\n",
    "# not_op = make_function(function=not_, name=\"not_\", arity=1)\n",
    "# if_else_op = make_function(function=if_else_then, name=\"if_else_\", arity=3)\n",
    "\n",
    "# function_set = [and_op, or_op, xor_op, not_op]\n",
    "\n",
    "# gp = SymbolicTransformer(generations=500, population_size=1000, hall_of_fame=100, n_components=10,\n",
    "#                          function_set=function_set, parsimony_coefficient=0.003,\n",
    "#                          random_state=seed, max_samples=0.8, verbose=1,\n",
    "#                          p_crossover=0.7, p_subtree_mutation=0.1, p_hoist_mutation=0.01,\n",
    "#                          p_point_mutation=0.1, p_point_replace=0.05, metric=\"spearman\")\n",
    "\n",
    "gp = SymbolicClassifier(generations=500, population_size=1000,\n",
    "                         function_set=function_set, parsimony_coefficient=0.001,\n",
    "                         random_state=seed, max_samples=0.8, verbose=1,\n",
    "                         p_crossover=0.7, p_subtree_mutation=0.1, p_hoist_mutation=0.01,\n",
    "                         p_point_mutation=0.1, p_point_replace=0.05)\n",
    "\n",
    "gp.fit(X_gp_train, y_out_val)\n",
    "\n",
    "gp_features_val = gp_transform(gp, X_gp_val, classifier=True, sort_fit=\"Fitness\")\n",
    "gp_features_test = gp_transform(gp, X_gp_test, classifier=True, sort_fit=\"Fitness\")"
   ],
   "metadata": {
    "collapsed": false,
    "pycharm": {
     "name": "#%%\n"
    }
   }
  },
  {
   "cell_type": "code",
   "execution_count": null,
   "outputs": [],
   "source": [
    "import graphviz\n",
    "dot_data = gp._programs[-1][0].export_graphviz()\n",
    "graph = graphviz.Source(dot_data)\n",
    "graph"
   ],
   "metadata": {
    "collapsed": false,
    "pycharm": {
     "name": "#%%\n"
    }
   }
  },
  {
   "cell_type": "code",
   "execution_count": null,
   "outputs": [],
   "source": [
    "from run_nn_fisher_test_exp import run_logistic_regression\n",
    " \n",
    "X_val_comb, X_test_comb = np.concatenate([X_gp_val, gp_features_val], axis=1), np.concatenate([X_gp_test, gp_features_test], axis=1)\n",
    "\n",
    "cv = StratifiedKFold(n_splits=5, random_state=seed, shuffle=True)\n",
    "\n",
    "log_best_param_1, log_cv_score_1, log_test_score_1 = run_logistic_regression(X_val_comb, X_test_comb, y_train,\n",
    "                                                                             y_test, cv)\n",
    "print(f\"Param: {log_best_param_1}, cv_score: {log_cv_score_1}, test_score: {log_test_score_1}\")"
   ],
   "metadata": {
    "collapsed": false,
    "pycharm": {
     "name": "#%%\n"
    }
   }
  },
  {
   "cell_type": "code",
   "execution_count": null,
   "outputs": [],
   "source": [
    "gp_df_sorted = gp_df.sort_values('Fitness', ascending=True)[:5]\n",
    "gp_df_sorted"
   ],
   "metadata": {
    "collapsed": false,
    "pycharm": {
     "name": "#%%\n"
    }
   }
  },
  {
   "cell_type": "code",
   "execution_count": null,
   "outputs": [],
   "source": [
    "top_row = gp_df_sorted.iloc[2]\n",
    "program = gp._programs[int(top_row[\"Gen\"])][int(top_row[\"Ind\"])]\n",
    "dot_data = program.export_graphviz()\n",
    "graph = graphviz.Source(dot_data)\n",
    "graph"
   ],
   "metadata": {
    "collapsed": false,
    "pycharm": {
     "name": "#%%\n"
    }
   }
  },
  {
   "cell_type": "code",
   "execution_count": null,
   "outputs": [],
   "source": [
    "from run_nn_fisher_test_exp import run_logistic_regression\n",
    "\n",
    "gp_features_val = np.zeros((X_gp_val.shape[0], gp_df_sorted.shape[0]))\n",
    "gp_features_test = np.zeros((X_gp_test.shape[0], gp_df_sorted.shape[0]))\n",
    "\n",
    "for i in range(gp_df_sorted.shape[0]):\n",
    "    row = gp_df_sorted.iloc[i]\n",
    "    gen, ind = row[\"Gen\"], row[\"Ind\"]\n",
    "    prog = gp._programs[gen][ind]\n",
    "    val_out = prog.execute(X_gp_val)\n",
    "    test_out = prog.execute(X_gp_test)\n",
    "\n",
    "    gp_features_val[:,i] = val_out\n",
    "    gp_features_test[:,i] = test_out\n",
    "\n",
    "X_val_comb, X_test_comb = np.concatenate([X_gp_val, gp_features_val], axis=1), np.concatenate([X_gp_test, gp_features_test], axis=1)\n",
    "\n",
    "cv = StratifiedKFold(n_splits=5, random_state=seed, shuffle=True)\n",
    "\n",
    "log_best_param_1, log_cv_score_1, log_test_score_1 = run_logistic_regression(X_val_comb, X_test_comb, y_train,\n",
    "                                                                            y_test, cv)\n",
    "print(f\"Param: {log_best_param_1}, cv_score: {log_cv_score_1}, test_score: {log_test_score_1}\")\n",
    "# clf_1 = LogisticRegression(max_iter=10000, **log_best_param_1)\n",
    "# clf_1.fit(X_train_comb, y_train)"
   ],
   "metadata": {
    "collapsed": false,
    "pycharm": {
     "name": "#%%\n"
    }
   }
  },
  {
   "cell_type": "code",
   "execution_count": null,
   "outputs": [],
   "source": [
    "gp_features_val.shape"
   ],
   "metadata": {
    "collapsed": false,
    "pycharm": {
     "name": "#%%\n"
    }
   }
  },
  {
   "cell_type": "markdown",
   "source": [
    "### Multiple Runs"
   ],
   "metadata": {
    "collapsed": false,
    "pycharm": {
     "name": "#%% md\n"
    }
   }
  },
  {
   "cell_type": "markdown",
   "source": [
    "#### BNN Runs"
   ],
   "metadata": {
    "collapsed": false,
    "pycharm": {
     "name": "#%% md\n"
    }
   }
  },
  {
   "cell_type": "code",
   "execution_count": null,
   "outputs": [],
   "source": [
    "%autoreload\n",
    "import pickle\n",
    "from tqdm import tqdm\n",
    "import warnings\n",
    "from nn_util import prepare_data\n",
    "from sgmcmc import MixedSGMCMC\n",
    "from sklearn.model_selection import GridSearchCV, StratifiedKFold, cross_val_score\n",
    "from sklearn.linear_model import LogisticRegression\n",
    "\n",
    "warnings.filterwarnings(\"ignore\")\n",
    "\n",
    "save_dir_100 = f\"{data_dir}/exp_data_4/bmm/f100\"\n",
    "\n",
    "bnn_lr_dict_100 = {\"seed\": [], \"classifier\": [], \"cv_score\": [], \"test_score\": []}\n",
    "\n",
    "log_param_grid = {\"C\":np.logspace(-2, 1, 10)}\n",
    "\n",
    "for i in range(len(seeds)):\n",
    "\n",
    "    seed, net, data = prepare_data(seeds, i, data_dfs, net_dfs, test_size=0.3, out_val_size=0.5)\n",
    "    cv = StratifiedKFold(n_splits=5, shuffle=True, random_state=seed)\n",
    "\n",
    "    print(f\"Running - seed {seed}\")\n",
    "\n",
    "    X_train, _, X_test, y_train, _, y_test = data\n",
    "\n",
    "    rng_key = jax.random.PRNGKey(seed)\n",
    "\n",
    "    X_train, X_test, y_train, y_test = jax.device_put(X_train), jax.device_put(X_test), \\\n",
    "                                       jax.device_put(y_train), jax.device_put(y_test)\n",
    "\n",
    "\n",
    "    log_grid_cv = GridSearchCV(estimator=LogisticRegression(max_iter=10000), param_grid=log_param_grid, verbose=0, scoring=\"roc_auc\", cv=cv).fit(X_train, y_train)\n",
    "    log_cv_score = log_grid_cv.best_score_\n",
    "    clf = LogisticRegression(max_iter=10000, C=log_grid_cv.best_params_[\"C\"])\n",
    "    clf.fit(X_train, y_train)\n",
    "    log_test_score = roc_auc_score(y_test, clf.predict_proba(X_test)[:,1])\n",
    "\n",
    "    config, bnn_cv_score, _ = optimize_hyper_parameters(seed, X_train, y_train, total_time=180)\n",
    "    # config = pickle.load(open(f\"{save_dir_100}/bnn_params_s_{seed}.pickle\", \"rb\"))\n",
    "\n",
    "    params = {\"disc_lr\": config[\"disc_lr\"], \"contin_lr\": config[\"contin_lr\"], \"batch_size\": config[\"batch_size\"],\n",
    "              \"mu\": config[\"mu\"], \"eta\": config[\"eta\"], \"temp\": config[\"temp\"],\n",
    "              \"sigma\": config[\"sigma\"], \"thinning_interval\": config[\"thinning_interval\"]}\n",
    "\n",
    "    mixed_sgmcmc = MixedSGMCMC(seed=seed, n_samples=5000, n_warmup=1000, n_chains=5, lr_schedule=\"exponential\",\n",
    "                     layer_dims=[config[\"layer_dim\"]] ,**params)\n",
    "\n",
    "    # bnn_cv_score = np.mean(cross_val_score(mixed_sgmcmc, X_train, y_train, cv=cv,\n",
    "    #                                        fit_params={\"activation_fns\": [config[\"activation\"]],  \"J\": net}))\n",
    "\n",
    "    mixed_sgmcmc.fit(X_train, y_train, activation_fns=[config[\"activation\"]], J=net)\n",
    "\n",
    "    pickle.dump(config, open(f\"{save_dir_100}/bnn_params_s_{seed}.pickle\", \"wb\"))\n",
    "\n",
    "    bnn_test_score = mixed_sgmcmc.score(X_test, y_test)\n",
    "\n",
    "    bnn_disc_mean = jnp.mean(mixed_sgmcmc.states_.discrete_position.reshape(-1, X_train.shape[1]), axis=0)\n",
    "    np.save(f\"{save_dir_100}/bnn_disc_mean_s_{seed}.npy\", bnn_disc_mean)\n",
    "\n",
    "\n",
    "    bnn_lr_dict_100[\"seed\"].append(seed)\n",
    "    bnn_lr_dict_100[\"classifier\"].append(\"LR\")\n",
    "    bnn_lr_dict_100[\"cv_score\"].append(log_cv_score)\n",
    "    bnn_lr_dict_100[\"test_score\"].append(log_test_score)\n",
    "\n",
    "    bnn_lr_dict_100[\"seed\"].append(seed)\n",
    "    bnn_lr_dict_100[\"classifier\"].append(\"BNN\")\n",
    "    bnn_lr_dict_100[\"cv_score\"].append(bnn_cv_score)\n",
    "    bnn_lr_dict_100[\"test_score\"].append(bnn_test_score)\n",
    "\n",
    "    print(f\"Config: {config}\")\n",
    "\n",
    "    print(f\"Done - seed {seed}\\nLR cv_score: {log_cv_score}, LR test_score: {log_test_score}\")\n",
    "    print(f\"BNN cv_score: {bnn_cv_score}, BNN test_score: {bnn_test_score}\")\n",
    "\n",
    "bnn_lr_df_100 = pd.DataFrame(bnn_lr_dict_100)\n",
    "bnn_lr_df_100.to_csv(f\"{save_dir_100}/res_bmm_summary.csv\", index=False)"
   ],
   "metadata": {
    "collapsed": false,
    "pycharm": {
     "name": "#%%\n"
    }
   }
  },
  {
   "cell_type": "code",
   "execution_count": null,
   "outputs": [],
   "source": [
    "# bnn_lr_df.to_csv(f\"{save_dir}/res_bmm_summary.csv\", index=False)\n",
    "bnn_lr_df_100 = pd.read_csv(f\"{data_dir}/exp_data_4/bmm/f100/res_bmm_summary.csv\")"
   ],
   "metadata": {
    "collapsed": false,
    "pycharm": {
     "name": "#%%\n"
    }
   }
  },
  {
   "cell_type": "code",
   "execution_count": null,
   "outputs": [],
   "source": [
    "bnn_lr_df_100.groupby([\"classifier\"])[[\"cv_score\", \"test_score\"]].mean()"
   ],
   "metadata": {
    "collapsed": false,
    "pycharm": {
     "name": "#%%\n"
    }
   }
  },
  {
   "cell_type": "markdown",
   "source": [
    "#### Variable Selection"
   ],
   "metadata": {
    "collapsed": false,
    "pycharm": {
     "name": "#%% md\n"
    }
   }
  },
  {
   "cell_type": "code",
   "execution_count": null,
   "outputs": [],
   "source": [
    "%autoreload\n",
    "from tqdm import tqdm\n",
    "from sgmcmc import MixedSGMCMC\n",
    "from run_nn_fisher_test_exp import run_logistic_regression\n",
    "import pickle\n",
    "save_dir_100 = f\"{data_dir}/exp_data_4/bmm/f100\"\n",
    "bnn_sel_fts_dict = {\"seed\": [], \"feat_sel\": [], \"num_feats\": [], \"cv_score\": [], \"test_score\": []}\n",
    "\n",
    "all_feats = np.arange(p - 1)\n",
    "\n",
    "feat_lens = [5, 10]\n",
    "\n",
    "for i in tqdm(range(len(seeds))):\n",
    "\n",
    "    seed, net, data = prepare_data(seeds, i, data_dfs, net_dfs, test_size=0.3)\n",
    "    cv = StratifiedKFold(n_splits=5, shuffle=True, random_state=seed)\n",
    "    X_train, X_out_val, X_test, y_train, y_out_val, y_test = data\n",
    "\n",
    "    rng_key = jax.random.PRNGKey(seed)\n",
    "\n",
    "    X_train, X_test, y_train, y_test = jax.device_put(X_train), jax.device_put(X_test), \\\n",
    "                                       jax.device_put(y_train), jax.device_put(y_test)\n",
    "\n",
    "    X_train_val_comb, y_train_val_comb = np.concatenate([X_train, X_out_val], axis=0), np.concatenate([y_train, y_out_val], axis=0)\n",
    "\n",
    "    log_best_params, _, _ = run_logistic_regression(X_train, X_test, y_train, y_test, cv, verbose=0)\n",
    "    log_clf = LogisticRegression(max_iter=10000, **log_best_params)\n",
    "    log_clf.fit(X_train, y_train)\n",
    "\n",
    "    log_coef = log_clf.coef_[0]\n",
    "\n",
    "    log_coef_sorted = np.argsort(log_coef)[::-1]\n",
    "\n",
    "\n",
    "    config = pickle.load(open(f\"{save_dir_100}/bnn_params_s_{seed}.pickle\", \"rb\"))\n",
    "    params = {\"disc_lr\": config[\"disc_lr\"], \"contin_lr\": config[\"contin_lr\"], \"batch_size\": config[\"batch_size\"],\n",
    "              \"mu\": config[\"mu\"], \"eta\": config[\"eta\"], \"temp\": config[\"temp\"],\n",
    "              \"sigma\": config[\"sigma\"], \"thinning_interval\": config[\"thinning_interval\"]}\n",
    "\n",
    "    mixed_sgmcmc = MixedSGMCMC(seed=seed, n_samples=5000, n_warmup=1000, n_chains=5, lr_schedule=\"exponential\",\n",
    "                     layer_dims=[config[\"layer_dim\"]] ,**params)\n",
    "\n",
    "    # bnn_cv_score = np.mean(cross_val_score(mixed_sgmcmc, X_train, y_train, cv=cv,\n",
    "    #                                        fit_params={\"activation_fns\": [config[\"activation\"]],  \"J\": net}))\n",
    "\n",
    "    mixed_sgmcmc.fit(X_train, y_train, activation_fns=[config[\"activation\"]], J=net)\n",
    "\n",
    "    gamma_means = jnp.mean(mixed_sgmcmc.states_.discrete_position.reshape(-1, X_train.shape[1]), axis=0)\n",
    "    gamma_means_idx_s = np.argsort(gamma_means)[::-1]\n",
    "\n",
    "    dropout_loss_df = get_feats_dropout_loss(mixed_sgmcmc, X_train, y_train)\n",
    "    dropout_loss_df.to_csv(f\"{save_dir_100}/drop_out_loss_s_{seed}.csv\", index=False)\n",
    "\n",
    "    for ft_len in feat_lens:\n",
    "\n",
    "        log_sel_fts = log_coef_sorted[:ft_len]\n",
    "\n",
    "        X_train_log_sel, X_test_log_sel, = X_train[:,log_sel_fts], X_test[:,log_sel_fts]\n",
    "\n",
    "        _, log_cv_score, log_test_score = run_logistic_regression(X_train_log_sel, X_test_log_sel,\n",
    "                                                                 y_train, y_test, cv, verbose=0)\n",
    "\n",
    "        bnn_mean_sel = gamma_means_idx_s[:ft_len]\n",
    "\n",
    "        X_train_sel_1, X_test_sel_1 = X_train_val_comb[:,bnn_mean_sel], X_test[:,bnn_mean_sel]\n",
    "\n",
    "        _, bnn_cv_score_1, bnn_test_score_1 = run_logistic_regression(X_train_sel_1, X_test_sel_1,\n",
    "                                                                  y_train_val_comb, y_test, cv, verbose=0)\n",
    "\n",
    "\n",
    "        bnn_dropout_sel = dropout_loss_df[\"feats_idx\"][:ft_len].to_list()\n",
    "\n",
    "        X_train_sel_2, X_test_sel_2 = X_train_val_comb[:,bnn_dropout_sel], X_test[:,bnn_dropout_sel]\n",
    "\n",
    "        _, bnn_cv_score_2, bnn_test_score_2 = run_logistic_regression(X_train_sel_2, X_test_sel_2,\n",
    "                                                                      y_train_val_comb, y_test, cv, verbose=0)\n",
    "\n",
    "\n",
    "        bnn_sel_fts_dict[\"seed\"].append(seed)\n",
    "        bnn_sel_fts_dict[\"feat_sel\"].append(\"bnn_mean\")\n",
    "        bnn_sel_fts_dict[\"num_feats\"].append(ft_len)\n",
    "        bnn_sel_fts_dict[\"cv_score\"].append(bnn_cv_score_1)\n",
    "        bnn_sel_fts_dict[\"test_score\"].append(bnn_test_score_1)\n",
    "\n",
    "        bnn_sel_fts_dict[\"seed\"].append(seed)\n",
    "        bnn_sel_fts_dict[\"feat_sel\"].append(\"bnn_dropout\")\n",
    "        bnn_sel_fts_dict[\"num_feats\"].append(ft_len)\n",
    "        bnn_sel_fts_dict[\"cv_score\"].append(bnn_cv_score_2)\n",
    "        bnn_sel_fts_dict[\"test_score\"].append(bnn_test_score_2)\n",
    "\n",
    "        bnn_sel_fts_dict[\"seed\"].append(seed)\n",
    "        bnn_sel_fts_dict[\"feat_sel\"].append(\"lr\")\n",
    "        bnn_sel_fts_dict[\"num_feats\"].append(ft_len)\n",
    "        bnn_sel_fts_dict[\"cv_score\"].append(log_cv_score)\n",
    "        bnn_sel_fts_dict[\"test_score\"].append(log_test_score)\n",
    "\n",
    "\n",
    "bnn_sel_fts_df = pd.DataFrame(bnn_sel_fts_dict)\n",
    "bnn_sel_fts_df.to_csv(f\"{save_dir_100}/bnn_sel_feats_comparison.csv\")"
   ],
   "metadata": {
    "collapsed": false,
    "pycharm": {
     "name": "#%%\n"
    }
   }
  },
  {
   "cell_type": "code",
   "execution_count": null,
   "outputs": [],
   "source": [
    "bnn_sel_fts_df = pd.read_csv(f\"{save_dir_100}/bnn_sel_feats_comparison.csv\")"
   ],
   "metadata": {
    "collapsed": false,
    "pycharm": {
     "name": "#%%\n"
    }
   }
  },
  {
   "cell_type": "code",
   "execution_count": null,
   "outputs": [],
   "source": [
    "bnn_sel_fts_df.groupby([\"feat_sel\", \"num_feats\"])[[\"cv_score\", \"test_score\"]].mean()"
   ],
   "metadata": {
    "collapsed": false,
    "pycharm": {
     "name": "#%%\n"
    }
   }
  },
  {
   "cell_type": "code",
   "execution_count": null,
   "outputs": [],
   "source": [
    "bnn_mean_5_cv_fts = bnn_sel_fts_df[(bnn_sel_fts_df[\"feat_sel\"] == \"bnn_mean\") & (bnn_sel_fts_df[\"num_feats\"] == 5)][\"cv_score\"].to_numpy()\n",
    "bnn_dropout_5_cv_fts = bnn_sel_fts_df[(bnn_sel_fts_df[\"feat_sel\"] == \"bnn_dropout\") & (bnn_sel_fts_df[\"num_feats\"] == 5)][\"cv_score\"].to_numpy()\n",
    "\n",
    "bnn_mean_5_test_fts = bnn_sel_fts_df[(bnn_sel_fts_df[\"feat_sel\"] == \"bnn_mean\") & (bnn_sel_fts_df[\"num_feats\"] == 5)][\"test_score\"].to_numpy()\n",
    "bnn_dropout_5_test_fts = bnn_sel_fts_df[(bnn_sel_fts_df[\"feat_sel\"] == \"bnn_dropout\") & (bnn_sel_fts_df[\"num_feats\"] == 5)][\"test_score\"].to_numpy()\n",
    "\n",
    "labels = [\"mean freq\", \"ens dropout\"]\n",
    "\n",
    "fig, (ax1, ax2) = plt.subplots(1, 2, figsize=(16, 6))\n",
    "\n",
    "bplot1 = ax1.boxplot([bnn_mean_5_cv_fts, bnn_dropout_5_cv_fts], showmeans=True, patch_artist=True, labels=labels)\n",
    "bplot2 = ax2.boxplot([bnn_mean_5_test_fts, bnn_dropout_5_test_fts], showmeans=True, patch_artist=True, labels=labels)\n",
    "\n",
    "# fill with colors\n",
    "colors = ['lightblue', 'lightgreen']\n",
    "for bplot in (bplot1, bplot2):\n",
    "    for patch, color in zip(bplot['boxes'], colors):\n",
    "        patch.set_facecolor(color)\n",
    "\n",
    "\n",
    "fig.suptitle(\"Feature selection - using 5/100 features for prediction\")\n",
    "plt.legend([bplot1['medians'][0], bplot1['means'][0]], ['median', 'mean'])\n",
    "plt.legend([bplot2['medians'][0], bplot2['means'][0]], ['median', 'mean'])\n",
    "\n",
    "ax1.set_ylabel(\"AUC\")\n",
    "ax1.set_title(\"CV Scores\")\n",
    "\n",
    "ax2.set_ylabel(\"AUC\")\n",
    "ax2.set_title(\"Test Scores\")\n",
    "\n",
    "plt.show()"
   ],
   "metadata": {
    "collapsed": false,
    "pycharm": {
     "name": "#%%\n"
    }
   }
  },
  {
   "cell_type": "code",
   "execution_count": null,
   "outputs": [],
   "source": [
    "bnn_mean_10_cv_fts = bnn_sel_fts_df[(bnn_sel_fts_df[\"feat_sel\"] == \"bnn_mean\") & (bnn_sel_fts_df[\"num_feats\"] == 10)][\"cv_score\"].to_numpy()\n",
    "bnn_dropout_10_cv_fts = bnn_sel_fts_df[(bnn_sel_fts_df[\"feat_sel\"] == \"bnn_dropout\") & (bnn_sel_fts_df[\"num_feats\"] == 10)][\"cv_score\"].to_numpy()\n",
    "\n",
    "bnn_mean_10_test_fts = bnn_sel_fts_df[(bnn_sel_fts_df[\"feat_sel\"] == \"bnn_mean\") & (bnn_sel_fts_df[\"num_feats\"] == 10)][\"test_score\"].to_numpy()\n",
    "bnn_dropout_10_test_fts = bnn_sel_fts_df[(bnn_sel_fts_df[\"feat_sel\"] == \"bnn_dropout\") & (bnn_sel_fts_df[\"num_feats\"] == 10)][\"test_score\"].to_numpy()\n",
    "\n",
    "labels = [\"mean freq\", \"ens dropout\"]\n",
    "\n",
    "fig, (ax1, ax2) = plt.subplots(1, 2, figsize=(16, 6))\n",
    "\n",
    "ax1.grid(color='grey', axis='y', linestyle='-', linewidth=0.25, alpha=0.5)\n",
    "ax2.grid(color='grey', axis='y', linestyle='-', linewidth=0.25, alpha=0.5)\n",
    "\n",
    "bplot1 = ax1.boxplot([bnn_mean_10_cv_fts, bnn_dropout_10_cv_fts], showmeans=True, patch_artist=True, labels=labels)\n",
    "bplot2 = ax2.boxplot([bnn_mean_10_test_fts, bnn_dropout_10_test_fts], showmeans=True, patch_artist=True, labels=labels)\n",
    "\n",
    "# fill with colors\n",
    "colors = ['lightblue', 'lightgreen']\n",
    "for bplot in (bplot1, bplot2):\n",
    "    for patch, color in zip(bplot['boxes'], colors):\n",
    "        patch.set_facecolor(color)\n",
    "\n",
    "fig.suptitle(\"Feature selection - using 10/100 features for prediction\")\n",
    "plt.legend([bplot1['medians'][0], bplot1['means'][0]], ['median', 'mean'])\n",
    "\n",
    "ax1.set_ylabel(\"AUC\")\n",
    "ax1.set_title(\"CV Scores\")\n",
    "\n",
    "ax2.set_ylabel(\"AUC\")\n",
    "ax2.set_title(\"Test Scores\")\n",
    "\n",
    "plt.show()"
   ],
   "metadata": {
    "collapsed": false,
    "pycharm": {
     "name": "#%%\n"
    }
   }
  },
  {
   "cell_type": "code",
   "execution_count": null,
   "outputs": [],
   "source": [
    "bnn_sel_fts_df"
   ],
   "metadata": {
    "collapsed": false,
    "pycharm": {
     "name": "#%%\n"
    }
   }
  },
  {
   "cell_type": "markdown",
   "source": [
    "#### GP"
   ],
   "metadata": {
    "collapsed": false,
    "pycharm": {
     "name": "#%% md\n"
    }
   }
  },
  {
   "cell_type": "code",
   "execution_count": null,
   "outputs": [],
   "source": [
    "save_dir_100 = f\"{data_dir}/exp_data_4/bmm/f100\""
   ],
   "metadata": {
    "collapsed": false,
    "pycharm": {
     "name": "#%%\n"
    }
   }
  },
  {
   "cell_type": "code",
   "execution_count": null,
   "outputs": [],
   "source": [
    "from gplearn.genetic import SymbolicTransformer, SymbolicClassifier\n",
    "from gplearn.functions import make_function\n",
    "import operator\n",
    "from tqdm import tqdm\n",
    "from run_nn_fisher_test_exp import run_logistic_regression\n",
    "\n",
    "function_set = ['add', 'sub', 'mul', 'div', 'sqrt', 'log',\n",
    "                'abs', 'neg', 'inv', 'max', 'min']\n",
    "\n",
    "bnn_gp_dict = {\"seed\": [], \"orig_num_feats\": [], \"gp_num_feats\": [] ,\"classifier\": [], \"cv_score\": [], \"test_score\": []}\n",
    "\n",
    "feat_lens = [5, 10]\n",
    "\n",
    "num_models = [5, 10, 20, 50]\n",
    "\n",
    "for i in tqdm(range(len(seeds))):\n",
    "\n",
    "    seed, net, data = prepare_data(seeds, i, data_dfs, net_dfs, test_size=0.3)\n",
    "    cv = StratifiedKFold(n_splits=5, shuffle=True, random_state=seed)\n",
    "    X_train, X_out_val, X_test, y_train, y_out_val, y_test = data\n",
    "   \n",
    "    X_train_val_comb, y_train_val_comb = np.concatenate([X_train, X_out_val], axis=0), np.concatenate([y_train, y_out_val], axis=0)\n",
    "    dropout_loss_df = pd.read_csv(f\"{save_dir_100}/drop_out_loss_s_{seed}.csv\")\n",
    "\n",
    "    for ft_len in feat_lens:\n",
    "\n",
    "        bnn_dropout_sel = dropout_loss_df[\"feats_idx\"][:ft_len].to_list()\n",
    "        X_train_sel_1, X_test_sel_1 = X_train_val_comb[:,bnn_dropout_sel], X_test[:,bnn_dropout_sel]\n",
    "\n",
    "        _, bnn_cv_score_1, bnn_test_score_1 = run_logistic_regression(X_train_sel_1, X_test_sel_1,\n",
    "                                                                      y_train_val_comb, y_test, cv, verbose=0)\n",
    "\n",
    "        X_gp_train_sel, X_gp_val_sel, X_gp_test_sel = X_out_val[:,bnn_dropout_sel], X_train[:,bnn_dropout_sel] ,X_test[:,bnn_dropout_sel]\n",
    "\n",
    "        gp = SymbolicClassifier(generations=500, population_size=1000,\n",
    "                         function_set=function_set, parsimony_coefficient=0.001,\n",
    "                         random_state=seed, max_samples=0.8, verbose=0,\n",
    "                         p_crossover=0.7, p_subtree_mutation=0.1, p_hoist_mutation=0.01,\n",
    "                         p_point_mutation=0.1, p_point_replace=0.05)\n",
    "\n",
    "        # gp = SymbolicTransformer(generations=100, population_size=1000, hall_of_fame=100, n_components=20,\n",
    "        #                          function_set=function_set, parsimony_coefficient=0.001,\n",
    "        #                          random_state=seed, max_samples=0.8, verbose=0,\n",
    "        #                          p_crossover=0.7, p_subtree_mutation=0.1, p_hoist_mutation=0.01,\n",
    "        #                          p_point_mutation=0.1, p_point_replace=0.05, metric=\"spearman\")\n",
    "\n",
    "        gp.fit(X_gp_train_sel, y_out_val)\n",
    "\n",
    "        gp_features_val_fit = gp_transform(gp, X_gp_val_sel, classifier=True, num_models=50, sort_fit=\"Fitness\")\n",
    "        gp_features_test_fit = gp_transform(gp, X_gp_test_sel, classifier=True, num_models=50, sort_fit=\"Fitness\")\n",
    "\n",
    "        gp_features_val_oob_fit = gp_transform(gp, X_gp_val_sel, classifier=True, num_models=50, sort_fit=\"OOB_fitness\")\n",
    "        gp_features_test_oob_fit = gp_transform(gp, X_gp_test_sel, classifier=True, num_models=50, sort_fit=\"OOB_fitness\")\n",
    "\n",
    "        best_cv_score_fit, best_test_score_fit = 0.0, 0.0\n",
    "        best_cv_score_oob_fit, best_test_score_oob_fit = 0.0, 0.0\n",
    "        best_n_models_fit, best_n_models_oob_fit = 0, 0\n",
    "        for j in num_models:\n",
    "            X_val_comb_fit, X_test_comb_fit = np.concatenate([X_gp_val_sel, gp_features_val_fit[:,:j]], axis=1), np.concatenate([X_gp_test_sel, gp_features_test_fit[:,:j]], axis=1)\n",
    "\n",
    "            _, log_bnn_gp_cv_fit, log_bnn_gp_test_fit = run_logistic_regression(X_val_comb_fit, X_test_comb_fit, y_train,\n",
    "                                                                                        y_test, cv)\n",
    "\n",
    "            if log_bnn_gp_cv_fit > best_cv_score_fit:\n",
    "                best_cv_score_fit = log_bnn_gp_cv_fit\n",
    "                best_test_score_fit = log_bnn_gp_test_fit\n",
    "                best_n_models_fit = j\n",
    "\n",
    "            X_val_comb_oob_fit, X_test_comb_oob_fit = np.concatenate([X_gp_val_sel, gp_features_val_oob_fit[:,:j]], axis=1), np.concatenate([X_gp_test_sel, gp_features_test_oob_fit[:,:j]], axis=1)\n",
    "\n",
    "            _, log_bnn_gp_cv_oob_fit, log_bnn_gp_test_oob_fit = run_logistic_regression(X_val_comb_oob_fit, X_test_comb_oob_fit, y_train,\n",
    "                                                                                        y_test, cv)\n",
    "            \n",
    "            if log_bnn_gp_cv_oob_fit > best_cv_score_oob_fit:\n",
    "                best_cv_score_oob_fit = log_bnn_gp_cv_oob_fit\n",
    "                best_test_score_oob_fit = log_bnn_gp_test_oob_fit\n",
    "                best_n_models_oob_fit = j\n",
    "\n",
    "        bnn_gp_dict[\"seed\"].append(seed)\n",
    "        bnn_gp_dict[\"classifier\"].append(\"BNN + LR\")\n",
    "        bnn_gp_dict[\"orig_num_feats\"].append(ft_len)\n",
    "        # bnn_gp_dict[\"gp_num_feats\"].append(0)\n",
    "        bnn_gp_dict[\"cv_score\"].append(bnn_cv_score_1)\n",
    "        bnn_gp_dict[\"test_score\"].append(bnn_test_score_1)\n",
    "\n",
    "        bnn_gp_dict[\"seed\"].append(seed)\n",
    "        bnn_gp_dict[\"classifier\"].append(\"BNN + LR + GP1\")\n",
    "        bnn_gp_dict[\"orig_num_feats\"].append(ft_len)\n",
    "        bnn_gp_dict[\"gp_num_feats\"].append(best_n_models_fit)\n",
    "        bnn_gp_dict[\"cv_score\"].append(best_cv_score_fit)\n",
    "        bnn_gp_dict[\"test_score\"].append(best_test_score_fit)\n",
    "\n",
    "        bnn_gp_dict[\"seed\"].append(seed)\n",
    "        bnn_gp_dict[\"classifier\"].append(\"BNN + LR + GP2\")\n",
    "        bnn_gp_dict[\"orig_num_feats\"].append(ft_len)\n",
    "        bnn_gp_dict[\"gp_num_feats\"].append(best_n_models_oob_fit)\n",
    "        bnn_gp_dict[\"cv_score\"].append(best_cv_score_oob_fit)\n",
    "        bnn_gp_dict[\"test_score\"].append(best_test_score_oob_fit)\n",
    "\n",
    "\n",
    "\n",
    "bnn_gp_df = pd.DataFrame(bnn_gp_dict)\n",
    "bnn_gp_df.to_csv(f\"{save_dir_100}/bnn_lr_gp.csv\", index=False)"
   ],
   "metadata": {
    "collapsed": false,
    "pycharm": {
     "name": "#%%\n"
    }
   }
  },
  {
   "cell_type": "code",
   "execution_count": null,
   "outputs": [],
   "source": [
    "gp_num_features = bnn_gp_dict[\"gp_num_feats\"]"
   ],
   "metadata": {
    "collapsed": false,
    "pycharm": {
     "name": "#%%\n"
    }
   }
  },
  {
   "cell_type": "code",
   "execution_count": null,
   "outputs": [],
   "source": [
    "# bnn_gp_df = pd.DataFrame(bnn_gp_dict)\n",
    "# bnn_gp_df.to_csv(f\"{save_dir_100}/bnn_lr_gp.csv\", index=False)"
   ],
   "metadata": {
    "collapsed": false,
    "pycharm": {
     "name": "#%%\n"
    }
   }
  },
  {
   "cell_type": "code",
   "execution_count": null,
   "outputs": [],
   "source": [
    "bnn_gp_df = pd.read_csv(f\"{save_dir_100}/bnn_lr_gp.csv\")\n",
    "bnn_gp_df"
   ],
   "metadata": {
    "collapsed": false,
    "pycharm": {
     "name": "#%%\n"
    }
   }
  },
  {
   "cell_type": "code",
   "execution_count": null,
   "outputs": [],
   "source": [
    "bnn_gp_df.groupby([\"classifier\", \"orig_num_feats\"])[[\"cv_score\", \"test_score\"]].mean()"
   ],
   "metadata": {
    "collapsed": false,
    "pycharm": {
     "name": "#%%\n"
    }
   }
  },
  {
   "cell_type": "code",
   "execution_count": null,
   "outputs": [],
   "source": [
    "bnn_lr_cv_5_fts = bnn_gp_df[(bnn_gp_df[\"classifier\"] == \"BNN + LR\") & (bnn_gp_df[\"orig_num_feats\"] == 5)][\"cv_score\"].to_numpy()\n",
    "bnn_gp_1_cv_5_fts = bnn_gp_df[(bnn_gp_df[\"classifier\"] == \"BNN + LR + GP1\") & (bnn_gp_df[\"orig_num_feats\"] == 5)][\"cv_score\"].to_numpy()\n",
    "bnn_gp_2_cv_5_fts = bnn_gp_df[(bnn_gp_df[\"classifier\"] == \"BNN + LR + GP2\") & (bnn_gp_df[\"orig_num_feats\"] == 5)][\"cv_score\"].to_numpy()\n",
    "\n",
    "bnn_lr_test_5_fts = bnn_gp_df[(bnn_gp_df[\"classifier\"] == \"BNN + LR\") & (bnn_gp_df[\"orig_num_feats\"] == 5)][\"test_score\"].to_numpy()\n",
    "bnn_gp_1_test_5_fts = bnn_gp_df[(bnn_gp_df[\"classifier\"] == \"BNN + LR + GP2\") & (bnn_gp_df[\"orig_num_feats\"] == 5)][\"test_score\"].to_numpy()\n",
    "bnn_gp_2_test_5_fts = bnn_gp_df[(bnn_gp_df[\"classifier\"] == \"BNN + LR + GP2\") & (bnn_gp_df[\"orig_num_feats\"] == 5)][\"test_score\"].to_numpy()\n",
    "\n",
    "labels = [\"BNN + LR\", \"BNN + LR + GP1\", \"BNN + LR + GP2\"]\n",
    "\n",
    "fig, (ax1, ax2) = plt.subplots(1, 2, figsize=(16, 6))\n",
    "\n",
    "bplot1 = ax1.boxplot([bnn_lr_cv_5_fts, bnn_gp_1_cv_5_fts, bnn_gp_2_cv_5_fts], showmeans=True, patch_artist=True, labels=labels)\n",
    "bplot2 = ax2.boxplot([bnn_lr_test_5_fts, bnn_gp_1_test_5_fts, bnn_gp_2_test_5_fts], showmeans=True, patch_artist=True, labels=labels)\n",
    "\n",
    "# fill with colors\n",
    "colors = ['lightblue', 'lightgreen', \"lightpink\"]\n",
    "for bplot in (bplot1, bplot2):\n",
    "    for patch, color in zip(bplot['boxes'], colors):\n",
    "        patch.set_facecolor(color)\n",
    "\n",
    "\n",
    "fig.suptitle(\"Feature selection - using 5/100 features for prediction\")\n",
    "plt.legend([bplot1['medians'][0], bplot1['means'][0]], ['median', 'mean'])\n",
    "plt.legend([bplot2['medians'][0], bplot2['means'][0]], ['median', 'mean'])\n",
    "\n",
    "ax1.set_ylabel(\"AUC\")\n",
    "ax1.set_title(\"CV Scores\")\n",
    "\n",
    "ax2.set_ylabel(\"AUC\")\n",
    "ax2.set_title(\"Test Scores\")\n",
    "\n",
    "plt.show()"
   ],
   "metadata": {
    "collapsed": false,
    "pycharm": {
     "name": "#%%\n"
    }
   }
  },
  {
   "cell_type": "code",
   "execution_count": null,
   "outputs": [],
   "source": [
    "bnn_lr_cv_10_fts = bnn_gp_df[(bnn_gp_df[\"classifier\"] == \"BNN + LR\") & (bnn_gp_df[\"orig_num_feats\"] == 10)][\"cv_score\"].to_numpy()\n",
    "bnn_gp_1_cv_10_fts = bnn_gp_df[(bnn_gp_df[\"classifier\"] == \"BNN + LR + GP1\") & (bnn_gp_df[\"orig_num_feats\"] == 10)][\"cv_score\"].to_numpy()\n",
    "bnn_gp_2_cv_10_fts = bnn_gp_df[(bnn_gp_df[\"classifier\"] == \"BNN + LR + GP2\") & (bnn_gp_df[\"orig_num_feats\"] == 10)][\"cv_score\"].to_numpy()\n",
    "\n",
    "bnn_lr_test_10_fts = bnn_gp_df[(bnn_gp_df[\"classifier\"] == \"BNN + LR\") & (bnn_gp_df[\"orig_num_feats\"] == 10)][\"test_score\"].to_numpy()\n",
    "bnn_gp_1_test_10_fts = bnn_gp_df[(bnn_gp_df[\"classifier\"] == \"BNN + LR + GP2\") & (bnn_gp_df[\"orig_num_feats\"] == 10)][\"test_score\"].to_numpy()\n",
    "bnn_gp_2_test_10_fts = bnn_gp_df[(bnn_gp_df[\"classifier\"] == \"BNN + LR + GP2\") & (bnn_gp_df[\"orig_num_feats\"] == 10)][\"test_score\"].to_numpy()\n",
    "\n",
    "labels = [\"BNN + LR\", \"BNN + LR + GP1\", \"BNN + LR + GP2\"]\n",
    "\n",
    "fig, (ax1, ax2) = plt.subplots(1, 2, figsize=(16, 6))\n",
    "\n",
    "bplot1 = ax1.boxplot([bnn_lr_cv_10_fts, bnn_gp_1_cv_10_fts, bnn_gp_2_cv_10_fts], showmeans=True, patch_artist=True, labels=labels)\n",
    "bplot2 = ax2.boxplot([bnn_lr_test_10_fts, bnn_gp_1_test_10_fts, bnn_gp_2_test_10_fts], showmeans=True, patch_artist=True, labels=labels)\n",
    "\n",
    "# fill with colors\n",
    "colors = ['lightblue', 'lightgreen', \"lightpink\"]\n",
    "for bplot in (bplot1, bplot2):\n",
    "    for patch, color in zip(bplot['boxes'], colors):\n",
    "        patch.set_facecolor(color)\n",
    "\n",
    "\n",
    "fig.suptitle(\"Feature selection - using 10/100 features for prediction\")\n",
    "plt.legend([bplot1['medians'][0], bplot1['means'][0]], ['median', 'mean'])\n",
    "plt.legend([bplot2['medians'][0], bplot2['means'][0]], ['median', 'mean'])\n",
    "\n",
    "ax1.set_ylabel(\"AUC\")\n",
    "ax1.set_title(\"CV Scores\")\n",
    "\n",
    "ax2.set_ylabel(\"AUC\")\n",
    "ax2.set_title(\"Test Scores\")\n",
    "\n",
    "plt.show()"
   ],
   "metadata": {
    "collapsed": false,
    "pycharm": {
     "name": "#%%\n"
    }
   }
  },
  {
   "cell_type": "code",
   "execution_count": 14,
   "metadata": {},
   "outputs": [
    {
     "data": {
      "image/png": "[encoded data removed]",
      "text/plain": [
       "<Figure size 1152x432 with 2 Axes>"
      ]
     },
     "metadata": {
      "needs_background": "light"
     },
     "output_type": "display_data"
    }
   ],
   "source": [
    "bnn_lr_cv_5_fts = bnn_gp_df[(bnn_gp_df[\"classifier\"] == \"BNN + LR\") & (bnn_gp_df[\"orig_num_feats\"] == 5)][\"cv_score\"].to_numpy()\n",
    "bnn_gp_1_cv_5_fts = bnn_gp_df[(bnn_gp_df[\"classifier\"] == \"BNN + LR + GP1\") & (bnn_gp_df[\"orig_num_feats\"] == 5)][\"cv_score\"].to_numpy()\n",
    "bnn_gp_2_cv_5_fts = bnn_gp_df[(bnn_gp_df[\"classifier\"] == \"BNN + LR + GP2\") & (bnn_gp_df[\"orig_num_feats\"] == 5)][\"cv_score\"].to_numpy()\n",
    "\n",
    "bnn_lr_test_5_fts = bnn_gp_df[(bnn_gp_df[\"classifier\"] == \"BNN + LR\") & (bnn_gp_df[\"orig_num_feats\"] == 5)][\"test_score\"].to_numpy()\n",
    "bnn_gp_1_test_5_fts = bnn_gp_df[(bnn_gp_df[\"classifier\"] == \"BNN + LR + GP2\") & (bnn_gp_df[\"orig_num_feats\"] == 5)][\"test_score\"].to_numpy()\n",
    "bnn_gp_2_test_5_fts = bnn_gp_df[(bnn_gp_df[\"classifier\"] == \"BNN + LR + GP2\") & (bnn_gp_df[\"orig_num_feats\"] == 5)][\"test_score\"].to_numpy()\n",
    "\n",
    "labels = [\"BNN + LR\", \"BNN + LR + GP1\", \"BNN + LR + GP2\"]\n",
    "\n",
    "fig, (ax1, ax2) = plt.subplots(1, 2, figsize=(16, 6))\n",
    "\n",
    "bplot1 = ax1.boxplot([bnn_lr_cv_5_fts, bnn_gp_1_cv_5_fts, bnn_gp_2_cv_5_fts], showmeans=True, patch_artist=True, labels=labels)\n",
    "bplot2 = ax2.boxplot([bnn_lr_test_5_fts, bnn_gp_1_test_5_fts, bnn_gp_2_test_5_fts], showmeans=True, patch_artist=True, labels=labels)\n",
    "\n",
    "# fill with colors\n",
    "colors = ['lightblue', 'lightgreen', \"lightpink\"]\n",
    "for bplot in (bplot1, bplot2):\n",
    "    for patch, color in zip(bplot['boxes'], colors):\n",
    "        patch.set_facecolor(color)\n",
    "\n",
    "\n",
    "fig.suptitle(\"Feature selection - using 5/100 features for prediction\")\n",
    "plt.legend([bplot1['medians'][0], bplot1['means'][0]], ['median', 'mean'])\n",
    "plt.legend([bplot2['medians'][0], bplot2['means'][0]], ['median', 'mean'])\n",
    "\n",
    "ax1.set_ylabel(\"AUC\")\n",
    "ax1.set_title(\"CV Scores\")\n",
    "\n",
    "ax2.set_ylabel(\"AUC\")\n",
    "ax2.set_title(\"Test Scores\")\n",
    "\n",
    "plt.show()"
   ]
  },
  {
   "cell_type": "code",
   "execution_count": 16,
   "metadata": {},
   "outputs": [
    {
     "data": {
      "image/png": "[encoded data removed]",
      "text/plain": [
       "<Figure size 1152x432 with 2 Axes>"
      ]
     },
     "metadata": {
      "needs_background": "light"
     },
     "output_type": "display_data"
    }
   ],
   "source": [
    "bnn_lr_cv_10_fts = bnn_gp_df[(bnn_gp_df[\"classifier\"] == \"BNN + LR\") & (bnn_gp_df[\"orig_num_feats\"] == 10)][\"cv_score\"].to_numpy()\n",
    "bnn_gp_1_cv_10_fts = bnn_gp_df[(bnn_gp_df[\"classifier\"] == \"BNN + LR + GP1\") & (bnn_gp_df[\"orig_num_feats\"] == 10)][\"cv_score\"].to_numpy()\n",
    "bnn_gp_2_cv_10_fts = bnn_gp_df[(bnn_gp_df[\"classifier\"] == \"BNN + LR + GP2\") & (bnn_gp_df[\"orig_num_feats\"] == 10)][\"cv_score\"].to_numpy()\n",
    "\n",
    "bnn_lr_test_10_fts = bnn_gp_df[(bnn_gp_df[\"classifier\"] == \"BNN + LR\") & (bnn_gp_df[\"orig_num_feats\"] == 10)][\"test_score\"].to_numpy()\n",
    "bnn_gp_1_test_10_fts = bnn_gp_df[(bnn_gp_df[\"classifier\"] == \"BNN + LR + GP2\") & (bnn_gp_df[\"orig_num_feats\"] == 10)][\"test_score\"].to_numpy()\n",
    "bnn_gp_2_test_10_fts = bnn_gp_df[(bnn_gp_df[\"classifier\"] == \"BNN + LR + GP2\") & (bnn_gp_df[\"orig_num_feats\"] == 10)][\"test_score\"].to_numpy()\n",
    "\n",
    "labels = [\"BNN + LR\", \"BNN + LR + GP1\", \"BNN + LR + GP2\"]\n",
    "\n",
    "fig, (ax1, ax2) = plt.subplots(1, 2, figsize=(16, 6))\n",
    "\n",
    "bplot1 = ax1.boxplot([bnn_lr_cv_10_fts, bnn_gp_1_cv_10_fts, bnn_gp_2_cv_10_fts], showmeans=True, patch_artist=True, labels=labels)\n",
    "bplot2 = ax2.boxplot([bnn_lr_test_10_fts, bnn_gp_1_test_10_fts, bnn_gp_2_test_10_fts], showmeans=True, patch_artist=True, labels=labels)\n",
    "\n",
    "# fill with colors\n",
    "colors = ['lightblue', 'lightgreen', \"lightpink\"]\n",
    "for bplot in (bplot1, bplot2):\n",
    "    for patch, color in zip(bplot['boxes'], colors):\n",
    "        patch.set_facecolor(color)\n",
    "\n",
    "\n",
    "fig.suptitle(\"Feature selection - using 10/100 features for prediction\")\n",
    "plt.legend([bplot1['medians'][0], bplot1['means'][0]], ['median', 'mean'])\n",
    "plt.legend([bplot2['medians'][0], bplot2['means'][0]], ['median', 'mean'])\n",
    "\n",
    "ax1.set_ylabel(\"AUC\")\n",
    "ax1.set_title(\"CV Scores\")\n",
    "\n",
    "ax2.set_ylabel(\"AUC\")\n",
    "ax2.set_title(\"Test Scores\")\n",
    "\n",
    "plt.show()"
   ]
  },
  {
   "cell_type": "markdown",
   "metadata": {
    "collapsed": false,
    "pycharm": {
     "name": "#%% md\n"
    }
   },
   "source": [
    "### Logistic Regression vs. BNN feat_size = 500"
   ]
  },
  {
   "cell_type": "code",
   "execution_count": 1,
   "metadata": {
    "collapsed": false,
    "pycharm": {
     "name": "#%%\n"
    }
   },
   "outputs": [
    {
     "ename": "NameError",
     "evalue": "name 'data_dir' is not defined",
     "output_type": "error",
     "traceback": [
      "\u001B[0;31m---------------------------------------------------------------------------\u001B[0m",
      "\u001B[0;31mNameError\u001B[0m                                 Traceback (most recent call last)",
      "Input \u001B[0;32mIn [1]\u001B[0m, in \u001B[0;36m<cell line: 1>\u001B[0;34m()\u001B[0m\n\u001B[0;32m----> 1\u001B[0m save_dir_500 \u001B[38;5;241m=\u001B[39m \u001B[38;5;124mf\u001B[39m\u001B[38;5;124m\"\u001B[39m\u001B[38;5;132;01m{\u001B[39;00mdata_dir\u001B[38;5;132;01m}\u001B[39;00m\u001B[38;5;124m/exp_data_4/bmm/f500\u001B[39m\u001B[38;5;124m\"\u001B[39m\n",
      "\u001B[0;31mNameError\u001B[0m: name 'data_dir' is not defined"
     ]
    }
   ],
   "source": [
    "save_dir_500 = f\"{data_dir}/exp_data_4/bmm/f500\""
   ]
  },
  {
   "cell_type": "code",
   "execution_count": 39,
   "metadata": {
    "collapsed": false,
    "pycharm": {
     "name": "#%%\n"
    }
   },
   "outputs": [
    {
     "name": "stdout",
     "output_type": "stream",
     "text": [
      "Running - seed 422\n"
     ]
    },
    {
     "ename": "KeyboardInterrupt",
     "evalue": "",
     "output_type": "error",
     "traceback": [
      "\u001B[0;31m---------------------------------------------------------------------------\u001B[0m",
      "\u001B[0;31mKeyboardInterrupt\u001B[0m                         Traceback (most recent call last)",
      "Input \u001B[0;32mIn [39]\u001B[0m, in \u001B[0;36m<cell line: 20>\u001B[0;34m()\u001B[0m\n\u001B[1;32m     36\u001B[0m clf\u001B[38;5;241m.\u001B[39mfit(X_train, y_train)\n\u001B[1;32m     37\u001B[0m log_test_score \u001B[38;5;241m=\u001B[39m roc_auc_score(y_test, clf\u001B[38;5;241m.\u001B[39mpredict_proba(X_test)[:,\u001B[38;5;241m1\u001B[39m])\n\u001B[0;32m---> 39\u001B[0m config, bnn_cv_score \u001B[38;5;241m=\u001B[39m \u001B[43moptimize_hyper_parameters\u001B[49m\u001B[43m(\u001B[49m\u001B[43mseed\u001B[49m\u001B[43m,\u001B[49m\u001B[43m \u001B[49m\u001B[43mX_train\u001B[49m\u001B[43m,\u001B[49m\u001B[43m \u001B[49m\u001B[43my_train\u001B[49m\u001B[43m)\u001B[49m\n\u001B[1;32m     41\u001B[0m \u001B[38;5;66;03m# config = pickle.load(open(f\"{save_dir}/bnn_params_s_{seed}.pickle\", \"rb\"))\u001B[39;00m\n\u001B[1;32m     42\u001B[0m config_values\u001B[38;5;241m.\u001B[39mappend(config)\n",
      "Input \u001B[0;32mIn [7]\u001B[0m, in \u001B[0;36moptimize_hyper_parameters\u001B[0;34m(seed, X, y)\u001B[0m\n\u001B[1;32m     94\u001B[0m tae \u001B[38;5;241m=\u001B[39m smac\u001B[38;5;241m.\u001B[39mget_tae_runner()\n\u001B[1;32m     96\u001B[0m \u001B[38;5;28;01mtry\u001B[39;00m:\n\u001B[0;32m---> 97\u001B[0m     incumbent \u001B[38;5;241m=\u001B[39m \u001B[43msmac\u001B[49m\u001B[38;5;241;43m.\u001B[39;49m\u001B[43moptimize\u001B[49m\u001B[43m(\u001B[49m\u001B[43m)\u001B[49m\n\u001B[1;32m     99\u001B[0m \u001B[38;5;28;01mfinally\u001B[39;00m:\n\u001B[1;32m    100\u001B[0m     incumbent \u001B[38;5;241m=\u001B[39m smac\u001B[38;5;241m.\u001B[39msolver\u001B[38;5;241m.\u001B[39mincumbent\n",
      "File \u001B[0;32m/usr/local/lib/python3.9/dist-packages/smac/facade/smac_ac_facade.py:723\u001B[0m, in \u001B[0;36mSMAC4AC.optimize\u001B[0;34m(self)\u001B[0m\n\u001B[1;32m    721\u001B[0m incumbent \u001B[38;5;241m=\u001B[39m \u001B[38;5;28;01mNone\u001B[39;00m\n\u001B[1;32m    722\u001B[0m \u001B[38;5;28;01mtry\u001B[39;00m:\n\u001B[0;32m--> 723\u001B[0m     incumbent \u001B[38;5;241m=\u001B[39m \u001B[38;5;28;43mself\u001B[39;49m\u001B[38;5;241;43m.\u001B[39;49m\u001B[43msolver\u001B[49m\u001B[38;5;241;43m.\u001B[39;49m\u001B[43mrun\u001B[49m\u001B[43m(\u001B[49m\u001B[43m)\u001B[49m\n\u001B[1;32m    724\u001B[0m \u001B[38;5;28;01mfinally\u001B[39;00m:\n\u001B[1;32m    725\u001B[0m     \u001B[38;5;28mself\u001B[39m\u001B[38;5;241m.\u001B[39msolver\u001B[38;5;241m.\u001B[39msave()\n",
      "File \u001B[0;32m/usr/local/lib/python3.9/dist-packages/smac/optimizer/smbo.py:279\u001B[0m, in \u001B[0;36mSMBO.run\u001B[0;34m(self)\u001B[0m\n\u001B[1;32m    267\u001B[0m \u001B[38;5;28mself\u001B[39m\u001B[38;5;241m.\u001B[39mrunhistory\u001B[38;5;241m.\u001B[39madd(\n\u001B[1;32m    268\u001B[0m     config\u001B[38;5;241m=\u001B[39mrun_info\u001B[38;5;241m.\u001B[39mconfig,\n\u001B[1;32m    269\u001B[0m     cost\u001B[38;5;241m=\u001B[39m\u001B[38;5;28mfloat\u001B[39m(MAXINT) \u001B[38;5;28;01mif\u001B[39;00m num_obj \u001B[38;5;241m==\u001B[39m \u001B[38;5;241m1\u001B[39m \u001B[38;5;28;01melse\u001B[39;00m np\u001B[38;5;241m.\u001B[39mfull(num_obj, \u001B[38;5;28mfloat\u001B[39m(MAXINT)),\n\u001B[0;32m   (...)\u001B[0m\n\u001B[1;32m    274\u001B[0m     budget\u001B[38;5;241m=\u001B[39mrun_info\u001B[38;5;241m.\u001B[39mbudget,\n\u001B[1;32m    275\u001B[0m )\n\u001B[1;32m    277\u001B[0m run_info\u001B[38;5;241m.\u001B[39mconfig\u001B[38;5;241m.\u001B[39mconfig_id \u001B[38;5;241m=\u001B[39m \u001B[38;5;28mself\u001B[39m\u001B[38;5;241m.\u001B[39mrunhistory\u001B[38;5;241m.\u001B[39mconfig_ids[run_info\u001B[38;5;241m.\u001B[39mconfig]\n\u001B[0;32m--> 279\u001B[0m \u001B[38;5;28;43mself\u001B[39;49m\u001B[38;5;241;43m.\u001B[39;49m\u001B[43mtae_runner\u001B[49m\u001B[38;5;241;43m.\u001B[39;49m\u001B[43msubmit_run\u001B[49m\u001B[43m(\u001B[49m\u001B[43mrun_info\u001B[49m\u001B[38;5;241;43m=\u001B[39;49m\u001B[43mrun_info\u001B[49m\u001B[43m)\u001B[49m\n\u001B[1;32m    281\u001B[0m \u001B[38;5;66;03m# There are 2 criteria that the stats object uses to know\u001B[39;00m\n\u001B[1;32m    282\u001B[0m \u001B[38;5;66;03m# if the budged was exhausted.\u001B[39;00m\n\u001B[1;32m    283\u001B[0m \u001B[38;5;66;03m# The budget time, which can only be known when the run finishes,\u001B[39;00m\n\u001B[1;32m    284\u001B[0m \u001B[38;5;66;03m# And the number of ta executions. Because we submit the job at this point,\u001B[39;00m\n\u001B[1;32m    285\u001B[0m \u001B[38;5;66;03m# we count this submission as a run. This prevent for using more\u001B[39;00m\n\u001B[1;32m    286\u001B[0m \u001B[38;5;66;03m# runner runs than what the scenario allows\u001B[39;00m\n\u001B[1;32m    287\u001B[0m \u001B[38;5;28mself\u001B[39m\u001B[38;5;241m.\u001B[39mstats\u001B[38;5;241m.\u001B[39msubmitted_ta_runs \u001B[38;5;241m+\u001B[39m\u001B[38;5;241m=\u001B[39m \u001B[38;5;241m1\u001B[39m\n",
      "File \u001B[0;32m/usr/local/lib/python3.9/dist-packages/smac/tae/serial_runner.py:87\u001B[0m, in \u001B[0;36mSerialRunner.submit_run\u001B[0;34m(self, run_info)\u001B[0m\n\u001B[1;32m     72\u001B[0m \u001B[38;5;28;01mdef\u001B[39;00m \u001B[38;5;21msubmit_run\u001B[39m(\u001B[38;5;28mself\u001B[39m, run_info: RunInfo) \u001B[38;5;241m-\u001B[39m\u001B[38;5;241m>\u001B[39m \u001B[38;5;28;01mNone\u001B[39;00m:\n\u001B[1;32m     73\u001B[0m     \u001B[38;5;124;03m\"\"\"This function submits a run_info object in a serial fashion.\u001B[39;00m\n\u001B[1;32m     74\u001B[0m \n\u001B[1;32m     75\u001B[0m \u001B[38;5;124;03m    As there is a single worker for this task, this\u001B[39;00m\n\u001B[0;32m   (...)\u001B[0m\n\u001B[1;32m     85\u001B[0m \u001B[38;5;124;03m        An object containing the configuration and the necessary data to run it\u001B[39;00m\n\u001B[1;32m     86\u001B[0m \u001B[38;5;124;03m    \"\"\"\u001B[39;00m\n\u001B[0;32m---> 87\u001B[0m     \u001B[38;5;28mself\u001B[39m\u001B[38;5;241m.\u001B[39mresults\u001B[38;5;241m.\u001B[39mappend(\u001B[38;5;28;43mself\u001B[39;49m\u001B[38;5;241;43m.\u001B[39;49m\u001B[43mrun_wrapper\u001B[49m\u001B[43m(\u001B[49m\u001B[43mrun_info\u001B[49m\u001B[43m)\u001B[49m)\n",
      "File \u001B[0;32m/usr/local/lib/python3.9/dist-packages/smac/tae/base.py:220\u001B[0m, in \u001B[0;36mBaseRunner.run_wrapper\u001B[0;34m(self, run_info)\u001B[0m\n\u001B[1;32m    217\u001B[0m     cutoff \u001B[38;5;241m=\u001B[39m \u001B[38;5;28mint\u001B[39m(math\u001B[38;5;241m.\u001B[39mceil(run_info\u001B[38;5;241m.\u001B[39mcutoff))\n\u001B[1;32m    219\u001B[0m \u001B[38;5;28;01mtry\u001B[39;00m:\n\u001B[0;32m--> 220\u001B[0m     status, cost, runtime, additional_info \u001B[38;5;241m=\u001B[39m \u001B[38;5;28;43mself\u001B[39;49m\u001B[38;5;241;43m.\u001B[39;49m\u001B[43mrun\u001B[49m\u001B[43m(\u001B[49m\n\u001B[1;32m    221\u001B[0m \u001B[43m        \u001B[49m\u001B[43mconfig\u001B[49m\u001B[38;5;241;43m=\u001B[39;49m\u001B[43mrun_info\u001B[49m\u001B[38;5;241;43m.\u001B[39;49m\u001B[43mconfig\u001B[49m\u001B[43m,\u001B[49m\n\u001B[1;32m    222\u001B[0m \u001B[43m        \u001B[49m\u001B[43minstance\u001B[49m\u001B[38;5;241;43m=\u001B[39;49m\u001B[43mrun_info\u001B[49m\u001B[38;5;241;43m.\u001B[39;49m\u001B[43minstance\u001B[49m\u001B[43m,\u001B[49m\n\u001B[1;32m    223\u001B[0m \u001B[43m        \u001B[49m\u001B[43mcutoff\u001B[49m\u001B[38;5;241;43m=\u001B[39;49m\u001B[43mcutoff\u001B[49m\u001B[43m,\u001B[49m\n\u001B[1;32m    224\u001B[0m \u001B[43m        \u001B[49m\u001B[43mseed\u001B[49m\u001B[38;5;241;43m=\u001B[39;49m\u001B[43mrun_info\u001B[49m\u001B[38;5;241;43m.\u001B[39;49m\u001B[43mseed\u001B[49m\u001B[43m,\u001B[49m\n\u001B[1;32m    225\u001B[0m \u001B[43m        \u001B[49m\u001B[43mbudget\u001B[49m\u001B[38;5;241;43m=\u001B[39;49m\u001B[43mrun_info\u001B[49m\u001B[38;5;241;43m.\u001B[39;49m\u001B[43mbudget\u001B[49m\u001B[43m,\u001B[49m\n\u001B[1;32m    226\u001B[0m \u001B[43m        \u001B[49m\u001B[43minstance_specific\u001B[49m\u001B[38;5;241;43m=\u001B[39;49m\u001B[43mrun_info\u001B[49m\u001B[38;5;241;43m.\u001B[39;49m\u001B[43minstance_specific\u001B[49m\u001B[43m,\u001B[49m\n\u001B[1;32m    227\u001B[0m \u001B[43m    \u001B[49m\u001B[43m)\u001B[49m\n\u001B[1;32m    228\u001B[0m \u001B[38;5;28;01mexcept\u001B[39;00m \u001B[38;5;167;01mException\u001B[39;00m \u001B[38;5;28;01mas\u001B[39;00m e:\n\u001B[1;32m    229\u001B[0m     status \u001B[38;5;241m=\u001B[39m StatusType\u001B[38;5;241m.\u001B[39mCRASHED\n",
      "File \u001B[0;32m/usr/local/lib/python3.9/dist-packages/smac/tae/execute_func.py:217\u001B[0m, in \u001B[0;36mAbstractTAFunc.run\u001B[0;34m(self, config, instance, cutoff, seed, budget, instance_specific)\u001B[0m\n\u001B[1;32m    215\u001B[0m \u001B[38;5;66;03m# call ta\u001B[39;00m\n\u001B[1;32m    216\u001B[0m \u001B[38;5;28;01mtry\u001B[39;00m:\n\u001B[0;32m--> 217\u001B[0m     rval \u001B[38;5;241m=\u001B[39m \u001B[38;5;28;43mself\u001B[39;49m\u001B[38;5;241;43m.\u001B[39;49m\u001B[43m_call_ta\u001B[49m\u001B[43m(\u001B[49m\u001B[38;5;28;43mself\u001B[39;49m\u001B[38;5;241;43m.\u001B[39;49m\u001B[43m_ta\u001B[49m\u001B[43m,\u001B[49m\u001B[43m \u001B[49m\u001B[43mconfig\u001B[49m\u001B[43m,\u001B[49m\u001B[43m \u001B[49m\u001B[43mobj_kwargs\u001B[49m\u001B[43m)\u001B[49m\n\u001B[1;32m    219\u001B[0m     \u001B[38;5;28;01mif\u001B[39;00m \u001B[38;5;28misinstance\u001B[39m(rval, \u001B[38;5;28mtuple\u001B[39m):\n\u001B[1;32m    220\u001B[0m         result \u001B[38;5;241m=\u001B[39m rval[\u001B[38;5;241m0\u001B[39m]\n",
      "File \u001B[0;32m/usr/local/lib/python3.9/dist-packages/smac/tae/execute_func.py:314\u001B[0m, in \u001B[0;36mExecuteTAFuncDict._call_ta\u001B[0;34m(self, obj, config, obj_kwargs)\u001B[0m\n\u001B[1;32m    307\u001B[0m \u001B[38;5;28;01mdef\u001B[39;00m \u001B[38;5;21m_call_ta\u001B[39m(\n\u001B[1;32m    308\u001B[0m     \u001B[38;5;28mself\u001B[39m,\n\u001B[1;32m    309\u001B[0m     obj: Callable,\n\u001B[1;32m    310\u001B[0m     config: Configuration,\n\u001B[1;32m    311\u001B[0m     obj_kwargs: Dict[\u001B[38;5;28mstr\u001B[39m, Union[\u001B[38;5;28mint\u001B[39m, \u001B[38;5;28mstr\u001B[39m, \u001B[38;5;28mfloat\u001B[39m, \u001B[38;5;28;01mNone\u001B[39;00m]],\n\u001B[1;32m    312\u001B[0m ) \u001B[38;5;241m-\u001B[39m\u001B[38;5;241m>\u001B[39m Union[\u001B[38;5;28mfloat\u001B[39m, Tuple[\u001B[38;5;28mfloat\u001B[39m, Dict]]:\n\u001B[0;32m--> 314\u001B[0m     \u001B[38;5;28;01mreturn\u001B[39;00m \u001B[43mobj\u001B[49m\u001B[43m(\u001B[49m\u001B[43mconfig\u001B[49m\u001B[43m,\u001B[49m\u001B[43m \u001B[49m\u001B[38;5;241;43m*\u001B[39;49m\u001B[38;5;241;43m*\u001B[39;49m\u001B[43mobj_kwargs\u001B[49m\u001B[43m)\u001B[49m\n",
      "Input \u001B[0;32mIn [7]\u001B[0m, in \u001B[0;36mgenerate_train_cs.<locals>.train_cs\u001B[0;34m(config, budget)\u001B[0m\n\u001B[1;32m     60\u001B[0m \u001B[38;5;66;03m# print(seed)\u001B[39;00m\n\u001B[1;32m     63\u001B[0m sgmcmc \u001B[38;5;241m=\u001B[39m MixedSGMCMC(seed\u001B[38;5;241m=\u001B[39mseed, n_samples\u001B[38;5;241m=\u001B[39mbudget, n_warmup\u001B[38;5;241m=\u001B[39m\u001B[38;5;241m0\u001B[39m,\n\u001B[1;32m     64\u001B[0m                     n_chains\u001B[38;5;241m=\u001B[39m\u001B[38;5;241m1\u001B[39m, layer_dims\u001B[38;5;241m=\u001B[39m[config[\u001B[38;5;124m\"\u001B[39m\u001B[38;5;124mlayer_dim\u001B[39m\u001B[38;5;124m\"\u001B[39m]], \u001B[38;5;241m*\u001B[39m\u001B[38;5;241m*\u001B[39mparams)\n\u001B[0;32m---> 65\u001B[0m cv_score \u001B[38;5;241m=\u001B[39m np\u001B[38;5;241m.\u001B[39mmean(\u001B[43mcross_val_score\u001B[49m\u001B[43m(\u001B[49m\u001B[43msgmcmc\u001B[49m\u001B[43m,\u001B[49m\u001B[43m \u001B[49m\u001B[43mX\u001B[49m\u001B[43m,\u001B[49m\u001B[43m \u001B[49m\u001B[43my\u001B[49m\u001B[43m,\u001B[49m\u001B[43m  \u001B[49m\u001B[43mcv\u001B[49m\u001B[38;5;241;43m=\u001B[39;49m\u001B[43mcv\u001B[49m\u001B[43m,\u001B[49m\u001B[43m \u001B[49m\u001B[43mfit_params\u001B[49m\u001B[38;5;241;43m=\u001B[39;49m\u001B[43m{\u001B[49m\n\u001B[1;32m     66\u001B[0m \u001B[43m    \u001B[49m\u001B[38;5;124;43m\"\u001B[39;49m\u001B[38;5;124;43mactivation_fns\u001B[39;49m\u001B[38;5;124;43m\"\u001B[39;49m\u001B[43m:\u001B[49m\u001B[43m \u001B[49m\u001B[43m[\u001B[49m\u001B[43mconfig\u001B[49m\u001B[43m[\u001B[49m\u001B[38;5;124;43m\"\u001B[39;49m\u001B[38;5;124;43mactivation\u001B[39;49m\u001B[38;5;124;43m\"\u001B[39;49m\u001B[43m]\u001B[49m\u001B[43m]\u001B[49m\u001B[43m,\u001B[49m\u001B[43m \u001B[49m\u001B[38;5;124;43m\"\u001B[39;49m\u001B[38;5;124;43mJ\u001B[39;49m\u001B[38;5;124;43m\"\u001B[39;49m\u001B[43m:\u001B[49m\u001B[43m \u001B[49m\u001B[43mnet\u001B[49m\n\u001B[1;32m     67\u001B[0m \u001B[43m\u001B[49m\u001B[43m}\u001B[49m\u001B[43m)\u001B[49m)\n\u001B[1;32m     69\u001B[0m \u001B[38;5;28;01mreturn\u001B[39;00m \u001B[38;5;241m1\u001B[39m \u001B[38;5;241m-\u001B[39m cv_score\n",
      "File \u001B[0;32m/usr/local/lib/python3.9/dist-packages/sklearn/model_selection/_validation.py:515\u001B[0m, in \u001B[0;36mcross_val_score\u001B[0;34m(estimator, X, y, groups, scoring, cv, n_jobs, verbose, fit_params, pre_dispatch, error_score)\u001B[0m\n\u001B[1;32m    512\u001B[0m \u001B[38;5;66;03m# To ensure multimetric format is not supported\u001B[39;00m\n\u001B[1;32m    513\u001B[0m scorer \u001B[38;5;241m=\u001B[39m check_scoring(estimator, scoring\u001B[38;5;241m=\u001B[39mscoring)\n\u001B[0;32m--> 515\u001B[0m cv_results \u001B[38;5;241m=\u001B[39m \u001B[43mcross_validate\u001B[49m\u001B[43m(\u001B[49m\n\u001B[1;32m    516\u001B[0m \u001B[43m    \u001B[49m\u001B[43mestimator\u001B[49m\u001B[38;5;241;43m=\u001B[39;49m\u001B[43mestimator\u001B[49m\u001B[43m,\u001B[49m\n\u001B[1;32m    517\u001B[0m \u001B[43m    \u001B[49m\u001B[43mX\u001B[49m\u001B[38;5;241;43m=\u001B[39;49m\u001B[43mX\u001B[49m\u001B[43m,\u001B[49m\n\u001B[1;32m    518\u001B[0m \u001B[43m    \u001B[49m\u001B[43my\u001B[49m\u001B[38;5;241;43m=\u001B[39;49m\u001B[43my\u001B[49m\u001B[43m,\u001B[49m\n\u001B[1;32m    519\u001B[0m \u001B[43m    \u001B[49m\u001B[43mgroups\u001B[49m\u001B[38;5;241;43m=\u001B[39;49m\u001B[43mgroups\u001B[49m\u001B[43m,\u001B[49m\n\u001B[1;32m    520\u001B[0m \u001B[43m    \u001B[49m\u001B[43mscoring\u001B[49m\u001B[38;5;241;43m=\u001B[39;49m\u001B[43m{\u001B[49m\u001B[38;5;124;43m\"\u001B[39;49m\u001B[38;5;124;43mscore\u001B[39;49m\u001B[38;5;124;43m\"\u001B[39;49m\u001B[43m:\u001B[49m\u001B[43m \u001B[49m\u001B[43mscorer\u001B[49m\u001B[43m}\u001B[49m\u001B[43m,\u001B[49m\n\u001B[1;32m    521\u001B[0m \u001B[43m    \u001B[49m\u001B[43mcv\u001B[49m\u001B[38;5;241;43m=\u001B[39;49m\u001B[43mcv\u001B[49m\u001B[43m,\u001B[49m\n\u001B[1;32m    522\u001B[0m \u001B[43m    \u001B[49m\u001B[43mn_jobs\u001B[49m\u001B[38;5;241;43m=\u001B[39;49m\u001B[43mn_jobs\u001B[49m\u001B[43m,\u001B[49m\n\u001B[1;32m    523\u001B[0m \u001B[43m    \u001B[49m\u001B[43mverbose\u001B[49m\u001B[38;5;241;43m=\u001B[39;49m\u001B[43mverbose\u001B[49m\u001B[43m,\u001B[49m\n\u001B[1;32m    524\u001B[0m \u001B[43m    \u001B[49m\u001B[43mfit_params\u001B[49m\u001B[38;5;241;43m=\u001B[39;49m\u001B[43mfit_params\u001B[49m\u001B[43m,\u001B[49m\n\u001B[1;32m    525\u001B[0m \u001B[43m    \u001B[49m\u001B[43mpre_dispatch\u001B[49m\u001B[38;5;241;43m=\u001B[39;49m\u001B[43mpre_dispatch\u001B[49m\u001B[43m,\u001B[49m\n\u001B[1;32m    526\u001B[0m \u001B[43m    \u001B[49m\u001B[43merror_score\u001B[49m\u001B[38;5;241;43m=\u001B[39;49m\u001B[43merror_score\u001B[49m\u001B[43m,\u001B[49m\n\u001B[1;32m    527\u001B[0m \u001B[43m\u001B[49m\u001B[43m)\u001B[49m\n\u001B[1;32m    528\u001B[0m \u001B[38;5;28;01mreturn\u001B[39;00m cv_results[\u001B[38;5;124m\"\u001B[39m\u001B[38;5;124mtest_score\u001B[39m\u001B[38;5;124m\"\u001B[39m]\n",
      "File \u001B[0;32m/usr/local/lib/python3.9/dist-packages/sklearn/model_selection/_validation.py:266\u001B[0m, in \u001B[0;36mcross_validate\u001B[0;34m(estimator, X, y, groups, scoring, cv, n_jobs, verbose, fit_params, pre_dispatch, return_train_score, return_estimator, error_score)\u001B[0m\n\u001B[1;32m    263\u001B[0m \u001B[38;5;66;03m# We clone the estimator to make sure that all the folds are\u001B[39;00m\n\u001B[1;32m    264\u001B[0m \u001B[38;5;66;03m# independent, and that it is pickle-able.\u001B[39;00m\n\u001B[1;32m    265\u001B[0m parallel \u001B[38;5;241m=\u001B[39m Parallel(n_jobs\u001B[38;5;241m=\u001B[39mn_jobs, verbose\u001B[38;5;241m=\u001B[39mverbose, pre_dispatch\u001B[38;5;241m=\u001B[39mpre_dispatch)\n\u001B[0;32m--> 266\u001B[0m results \u001B[38;5;241m=\u001B[39m \u001B[43mparallel\u001B[49m\u001B[43m(\u001B[49m\n\u001B[1;32m    267\u001B[0m \u001B[43m    \u001B[49m\u001B[43mdelayed\u001B[49m\u001B[43m(\u001B[49m\u001B[43m_fit_and_score\u001B[49m\u001B[43m)\u001B[49m\u001B[43m(\u001B[49m\n\u001B[1;32m    268\u001B[0m \u001B[43m        \u001B[49m\u001B[43mclone\u001B[49m\u001B[43m(\u001B[49m\u001B[43mestimator\u001B[49m\u001B[43m)\u001B[49m\u001B[43m,\u001B[49m\n\u001B[1;32m    269\u001B[0m \u001B[43m        \u001B[49m\u001B[43mX\u001B[49m\u001B[43m,\u001B[49m\n\u001B[1;32m    270\u001B[0m \u001B[43m        \u001B[49m\u001B[43my\u001B[49m\u001B[43m,\u001B[49m\n\u001B[1;32m    271\u001B[0m \u001B[43m        \u001B[49m\u001B[43mscorers\u001B[49m\u001B[43m,\u001B[49m\n\u001B[1;32m    272\u001B[0m \u001B[43m        \u001B[49m\u001B[43mtrain\u001B[49m\u001B[43m,\u001B[49m\n\u001B[1;32m    273\u001B[0m \u001B[43m        \u001B[49m\u001B[43mtest\u001B[49m\u001B[43m,\u001B[49m\n\u001B[1;32m    274\u001B[0m \u001B[43m        \u001B[49m\u001B[43mverbose\u001B[49m\u001B[43m,\u001B[49m\n\u001B[1;32m    275\u001B[0m \u001B[43m        \u001B[49m\u001B[38;5;28;43;01mNone\u001B[39;49;00m\u001B[43m,\u001B[49m\n\u001B[1;32m    276\u001B[0m \u001B[43m        \u001B[49m\u001B[43mfit_params\u001B[49m\u001B[43m,\u001B[49m\n\u001B[1;32m    277\u001B[0m \u001B[43m        \u001B[49m\u001B[43mreturn_train_score\u001B[49m\u001B[38;5;241;43m=\u001B[39;49m\u001B[43mreturn_train_score\u001B[49m\u001B[43m,\u001B[49m\n\u001B[1;32m    278\u001B[0m \u001B[43m        \u001B[49m\u001B[43mreturn_times\u001B[49m\u001B[38;5;241;43m=\u001B[39;49m\u001B[38;5;28;43;01mTrue\u001B[39;49;00m\u001B[43m,\u001B[49m\n\u001B[1;32m    279\u001B[0m \u001B[43m        \u001B[49m\u001B[43mreturn_estimator\u001B[49m\u001B[38;5;241;43m=\u001B[39;49m\u001B[43mreturn_estimator\u001B[49m\u001B[43m,\u001B[49m\n\u001B[1;32m    280\u001B[0m \u001B[43m        \u001B[49m\u001B[43merror_score\u001B[49m\u001B[38;5;241;43m=\u001B[39;49m\u001B[43merror_score\u001B[49m\u001B[43m,\u001B[49m\n\u001B[1;32m    281\u001B[0m \u001B[43m    \u001B[49m\u001B[43m)\u001B[49m\n\u001B[1;32m    282\u001B[0m \u001B[43m    \u001B[49m\u001B[38;5;28;43;01mfor\u001B[39;49;00m\u001B[43m \u001B[49m\u001B[43mtrain\u001B[49m\u001B[43m,\u001B[49m\u001B[43m \u001B[49m\u001B[43mtest\u001B[49m\u001B[43m \u001B[49m\u001B[38;5;129;43;01min\u001B[39;49;00m\u001B[43m \u001B[49m\u001B[43mcv\u001B[49m\u001B[38;5;241;43m.\u001B[39;49m\u001B[43msplit\u001B[49m\u001B[43m(\u001B[49m\u001B[43mX\u001B[49m\u001B[43m,\u001B[49m\u001B[43m \u001B[49m\u001B[43my\u001B[49m\u001B[43m,\u001B[49m\u001B[43m \u001B[49m\u001B[43mgroups\u001B[49m\u001B[43m)\u001B[49m\n\u001B[1;32m    283\u001B[0m \u001B[43m\u001B[49m\u001B[43m)\u001B[49m\n\u001B[1;32m    285\u001B[0m _warn_or_raise_about_fit_failures(results, error_score)\n\u001B[1;32m    287\u001B[0m \u001B[38;5;66;03m# For callabe scoring, the return type is only know after calling. If the\u001B[39;00m\n\u001B[1;32m    288\u001B[0m \u001B[38;5;66;03m# return type is a dictionary, the error scores can now be inserted with\u001B[39;00m\n\u001B[1;32m    289\u001B[0m \u001B[38;5;66;03m# the correct key.\u001B[39;00m\n",
      "File \u001B[0;32m/usr/local/lib/python3.9/dist-packages/joblib/parallel.py:1043\u001B[0m, in \u001B[0;36mParallel.__call__\u001B[0;34m(self, iterable)\u001B[0m\n\u001B[1;32m   1034\u001B[0m \u001B[38;5;28;01mtry\u001B[39;00m:\n\u001B[1;32m   1035\u001B[0m     \u001B[38;5;66;03m# Only set self._iterating to True if at least a batch\u001B[39;00m\n\u001B[1;32m   1036\u001B[0m     \u001B[38;5;66;03m# was dispatched. In particular this covers the edge\u001B[39;00m\n\u001B[0;32m   (...)\u001B[0m\n\u001B[1;32m   1040\u001B[0m     \u001B[38;5;66;03m# was very quick and its callback already dispatched all the\u001B[39;00m\n\u001B[1;32m   1041\u001B[0m     \u001B[38;5;66;03m# remaining jobs.\u001B[39;00m\n\u001B[1;32m   1042\u001B[0m     \u001B[38;5;28mself\u001B[39m\u001B[38;5;241m.\u001B[39m_iterating \u001B[38;5;241m=\u001B[39m \u001B[38;5;28;01mFalse\u001B[39;00m\n\u001B[0;32m-> 1043\u001B[0m     \u001B[38;5;28;01mif\u001B[39;00m \u001B[38;5;28;43mself\u001B[39;49m\u001B[38;5;241;43m.\u001B[39;49m\u001B[43mdispatch_one_batch\u001B[49m\u001B[43m(\u001B[49m\u001B[43miterator\u001B[49m\u001B[43m)\u001B[49m:\n\u001B[1;32m   1044\u001B[0m         \u001B[38;5;28mself\u001B[39m\u001B[38;5;241m.\u001B[39m_iterating \u001B[38;5;241m=\u001B[39m \u001B[38;5;28mself\u001B[39m\u001B[38;5;241m.\u001B[39m_original_iterator \u001B[38;5;129;01mis\u001B[39;00m \u001B[38;5;129;01mnot\u001B[39;00m \u001B[38;5;28;01mNone\u001B[39;00m\n\u001B[1;32m   1046\u001B[0m     \u001B[38;5;28;01mwhile\u001B[39;00m \u001B[38;5;28mself\u001B[39m\u001B[38;5;241m.\u001B[39mdispatch_one_batch(iterator):\n",
      "File \u001B[0;32m/usr/local/lib/python3.9/dist-packages/joblib/parallel.py:861\u001B[0m, in \u001B[0;36mParallel.dispatch_one_batch\u001B[0;34m(self, iterator)\u001B[0m\n\u001B[1;32m    859\u001B[0m     \u001B[38;5;28;01mreturn\u001B[39;00m \u001B[38;5;28;01mFalse\u001B[39;00m\n\u001B[1;32m    860\u001B[0m \u001B[38;5;28;01melse\u001B[39;00m:\n\u001B[0;32m--> 861\u001B[0m     \u001B[38;5;28;43mself\u001B[39;49m\u001B[38;5;241;43m.\u001B[39;49m\u001B[43m_dispatch\u001B[49m\u001B[43m(\u001B[49m\u001B[43mtasks\u001B[49m\u001B[43m)\u001B[49m\n\u001B[1;32m    862\u001B[0m     \u001B[38;5;28;01mreturn\u001B[39;00m \u001B[38;5;28;01mTrue\u001B[39;00m\n",
      "File \u001B[0;32m/usr/local/lib/python3.9/dist-packages/joblib/parallel.py:779\u001B[0m, in \u001B[0;36mParallel._dispatch\u001B[0;34m(self, batch)\u001B[0m\n\u001B[1;32m    777\u001B[0m \u001B[38;5;28;01mwith\u001B[39;00m \u001B[38;5;28mself\u001B[39m\u001B[38;5;241m.\u001B[39m_lock:\n\u001B[1;32m    778\u001B[0m     job_idx \u001B[38;5;241m=\u001B[39m \u001B[38;5;28mlen\u001B[39m(\u001B[38;5;28mself\u001B[39m\u001B[38;5;241m.\u001B[39m_jobs)\n\u001B[0;32m--> 779\u001B[0m     job \u001B[38;5;241m=\u001B[39m \u001B[38;5;28;43mself\u001B[39;49m\u001B[38;5;241;43m.\u001B[39;49m\u001B[43m_backend\u001B[49m\u001B[38;5;241;43m.\u001B[39;49m\u001B[43mapply_async\u001B[49m\u001B[43m(\u001B[49m\u001B[43mbatch\u001B[49m\u001B[43m,\u001B[49m\u001B[43m \u001B[49m\u001B[43mcallback\u001B[49m\u001B[38;5;241;43m=\u001B[39;49m\u001B[43mcb\u001B[49m\u001B[43m)\u001B[49m\n\u001B[1;32m    780\u001B[0m     \u001B[38;5;66;03m# A job can complete so quickly than its callback is\u001B[39;00m\n\u001B[1;32m    781\u001B[0m     \u001B[38;5;66;03m# called before we get here, causing self._jobs to\u001B[39;00m\n\u001B[1;32m    782\u001B[0m     \u001B[38;5;66;03m# grow. To ensure correct results ordering, .insert is\u001B[39;00m\n\u001B[1;32m    783\u001B[0m     \u001B[38;5;66;03m# used (rather than .append) in the following line\u001B[39;00m\n\u001B[1;32m    784\u001B[0m     \u001B[38;5;28mself\u001B[39m\u001B[38;5;241m.\u001B[39m_jobs\u001B[38;5;241m.\u001B[39minsert(job_idx, job)\n",
      "File \u001B[0;32m/usr/local/lib/python3.9/dist-packages/joblib/_parallel_backends.py:208\u001B[0m, in \u001B[0;36mSequentialBackend.apply_async\u001B[0;34m(self, func, callback)\u001B[0m\n\u001B[1;32m    206\u001B[0m \u001B[38;5;28;01mdef\u001B[39;00m \u001B[38;5;21mapply_async\u001B[39m(\u001B[38;5;28mself\u001B[39m, func, callback\u001B[38;5;241m=\u001B[39m\u001B[38;5;28;01mNone\u001B[39;00m):\n\u001B[1;32m    207\u001B[0m     \u001B[38;5;124;03m\"\"\"Schedule a func to be run\"\"\"\u001B[39;00m\n\u001B[0;32m--> 208\u001B[0m     result \u001B[38;5;241m=\u001B[39m \u001B[43mImmediateResult\u001B[49m\u001B[43m(\u001B[49m\u001B[43mfunc\u001B[49m\u001B[43m)\u001B[49m\n\u001B[1;32m    209\u001B[0m     \u001B[38;5;28;01mif\u001B[39;00m callback:\n\u001B[1;32m    210\u001B[0m         callback(result)\n",
      "File \u001B[0;32m/usr/local/lib/python3.9/dist-packages/joblib/_parallel_backends.py:572\u001B[0m, in \u001B[0;36mImmediateResult.__init__\u001B[0;34m(self, batch)\u001B[0m\n\u001B[1;32m    569\u001B[0m \u001B[38;5;28;01mdef\u001B[39;00m \u001B[38;5;21m__init__\u001B[39m(\u001B[38;5;28mself\u001B[39m, batch):\n\u001B[1;32m    570\u001B[0m     \u001B[38;5;66;03m# Don't delay the application, to avoid keeping the input\u001B[39;00m\n\u001B[1;32m    571\u001B[0m     \u001B[38;5;66;03m# arguments in memory\u001B[39;00m\n\u001B[0;32m--> 572\u001B[0m     \u001B[38;5;28mself\u001B[39m\u001B[38;5;241m.\u001B[39mresults \u001B[38;5;241m=\u001B[39m \u001B[43mbatch\u001B[49m\u001B[43m(\u001B[49m\u001B[43m)\u001B[49m\n",
      "File \u001B[0;32m/usr/local/lib/python3.9/dist-packages/joblib/parallel.py:262\u001B[0m, in \u001B[0;36mBatchedCalls.__call__\u001B[0;34m(self)\u001B[0m\n\u001B[1;32m    258\u001B[0m \u001B[38;5;28;01mdef\u001B[39;00m \u001B[38;5;21m__call__\u001B[39m(\u001B[38;5;28mself\u001B[39m):\n\u001B[1;32m    259\u001B[0m     \u001B[38;5;66;03m# Set the default nested backend to self._backend but do not set the\u001B[39;00m\n\u001B[1;32m    260\u001B[0m     \u001B[38;5;66;03m# change the default number of processes to -1\u001B[39;00m\n\u001B[1;32m    261\u001B[0m     \u001B[38;5;28;01mwith\u001B[39;00m parallel_backend(\u001B[38;5;28mself\u001B[39m\u001B[38;5;241m.\u001B[39m_backend, n_jobs\u001B[38;5;241m=\u001B[39m\u001B[38;5;28mself\u001B[39m\u001B[38;5;241m.\u001B[39m_n_jobs):\n\u001B[0;32m--> 262\u001B[0m         \u001B[38;5;28;01mreturn\u001B[39;00m [func(\u001B[38;5;241m*\u001B[39margs, \u001B[38;5;241m*\u001B[39m\u001B[38;5;241m*\u001B[39mkwargs)\n\u001B[1;32m    263\u001B[0m                 \u001B[38;5;28;01mfor\u001B[39;00m func, args, kwargs \u001B[38;5;129;01min\u001B[39;00m \u001B[38;5;28mself\u001B[39m\u001B[38;5;241m.\u001B[39mitems]\n",
      "File \u001B[0;32m/usr/local/lib/python3.9/dist-packages/joblib/parallel.py:262\u001B[0m, in \u001B[0;36m<listcomp>\u001B[0;34m(.0)\u001B[0m\n\u001B[1;32m    258\u001B[0m \u001B[38;5;28;01mdef\u001B[39;00m \u001B[38;5;21m__call__\u001B[39m(\u001B[38;5;28mself\u001B[39m):\n\u001B[1;32m    259\u001B[0m     \u001B[38;5;66;03m# Set the default nested backend to self._backend but do not set the\u001B[39;00m\n\u001B[1;32m    260\u001B[0m     \u001B[38;5;66;03m# change the default number of processes to -1\u001B[39;00m\n\u001B[1;32m    261\u001B[0m     \u001B[38;5;28;01mwith\u001B[39;00m parallel_backend(\u001B[38;5;28mself\u001B[39m\u001B[38;5;241m.\u001B[39m_backend, n_jobs\u001B[38;5;241m=\u001B[39m\u001B[38;5;28mself\u001B[39m\u001B[38;5;241m.\u001B[39m_n_jobs):\n\u001B[0;32m--> 262\u001B[0m         \u001B[38;5;28;01mreturn\u001B[39;00m [\u001B[43mfunc\u001B[49m\u001B[43m(\u001B[49m\u001B[38;5;241;43m*\u001B[39;49m\u001B[43margs\u001B[49m\u001B[43m,\u001B[49m\u001B[43m \u001B[49m\u001B[38;5;241;43m*\u001B[39;49m\u001B[38;5;241;43m*\u001B[39;49m\u001B[43mkwargs\u001B[49m\u001B[43m)\u001B[49m\n\u001B[1;32m    263\u001B[0m                 \u001B[38;5;28;01mfor\u001B[39;00m func, args, kwargs \u001B[38;5;129;01min\u001B[39;00m \u001B[38;5;28mself\u001B[39m\u001B[38;5;241m.\u001B[39mitems]\n",
      "File \u001B[0;32m/usr/local/lib/python3.9/dist-packages/sklearn/utils/fixes.py:117\u001B[0m, in \u001B[0;36m_FuncWrapper.__call__\u001B[0;34m(self, *args, **kwargs)\u001B[0m\n\u001B[1;32m    115\u001B[0m \u001B[38;5;28;01mdef\u001B[39;00m \u001B[38;5;21m__call__\u001B[39m(\u001B[38;5;28mself\u001B[39m, \u001B[38;5;241m*\u001B[39margs, \u001B[38;5;241m*\u001B[39m\u001B[38;5;241m*\u001B[39mkwargs):\n\u001B[1;32m    116\u001B[0m     \u001B[38;5;28;01mwith\u001B[39;00m config_context(\u001B[38;5;241m*\u001B[39m\u001B[38;5;241m*\u001B[39m\u001B[38;5;28mself\u001B[39m\u001B[38;5;241m.\u001B[39mconfig):\n\u001B[0;32m--> 117\u001B[0m         \u001B[38;5;28;01mreturn\u001B[39;00m \u001B[38;5;28;43mself\u001B[39;49m\u001B[38;5;241;43m.\u001B[39;49m\u001B[43mfunction\u001B[49m\u001B[43m(\u001B[49m\u001B[38;5;241;43m*\u001B[39;49m\u001B[43margs\u001B[49m\u001B[43m,\u001B[49m\u001B[43m \u001B[49m\u001B[38;5;241;43m*\u001B[39;49m\u001B[38;5;241;43m*\u001B[39;49m\u001B[43mkwargs\u001B[49m\u001B[43m)\u001B[49m\n",
      "File \u001B[0;32m/usr/local/lib/python3.9/dist-packages/sklearn/model_selection/_validation.py:678\u001B[0m, in \u001B[0;36m_fit_and_score\u001B[0;34m(estimator, X, y, scorer, train, test, verbose, parameters, fit_params, return_train_score, return_parameters, return_n_test_samples, return_times, return_estimator, split_progress, candidate_progress, error_score)\u001B[0m\n\u001B[1;32m    674\u001B[0m     estimator \u001B[38;5;241m=\u001B[39m estimator\u001B[38;5;241m.\u001B[39mset_params(\u001B[38;5;241m*\u001B[39m\u001B[38;5;241m*\u001B[39mcloned_parameters)\n\u001B[1;32m    676\u001B[0m start_time \u001B[38;5;241m=\u001B[39m time\u001B[38;5;241m.\u001B[39mtime()\n\u001B[0;32m--> 678\u001B[0m X_train, y_train \u001B[38;5;241m=\u001B[39m \u001B[43m_safe_split\u001B[49m\u001B[43m(\u001B[49m\u001B[43mestimator\u001B[49m\u001B[43m,\u001B[49m\u001B[43m \u001B[49m\u001B[43mX\u001B[49m\u001B[43m,\u001B[49m\u001B[43m \u001B[49m\u001B[43my\u001B[49m\u001B[43m,\u001B[49m\u001B[43m \u001B[49m\u001B[43mtrain\u001B[49m\u001B[43m)\u001B[49m\n\u001B[1;32m    679\u001B[0m X_test, y_test \u001B[38;5;241m=\u001B[39m _safe_split(estimator, X, y, test, train)\n\u001B[1;32m    681\u001B[0m result \u001B[38;5;241m=\u001B[39m {}\n",
      "File \u001B[0;32m/usr/local/lib/python3.9/dist-packages/sklearn/utils/metaestimators.py:311\u001B[0m, in \u001B[0;36m_safe_split\u001B[0;34m(estimator, X, y, indices, train_indices)\u001B[0m\n\u001B[1;32m    308\u001B[0m     X_subset \u001B[38;5;241m=\u001B[39m _safe_indexing(X, indices)\n\u001B[1;32m    310\u001B[0m \u001B[38;5;28;01mif\u001B[39;00m y \u001B[38;5;129;01mis\u001B[39;00m \u001B[38;5;129;01mnot\u001B[39;00m \u001B[38;5;28;01mNone\u001B[39;00m:\n\u001B[0;32m--> 311\u001B[0m     y_subset \u001B[38;5;241m=\u001B[39m \u001B[43m_safe_indexing\u001B[49m\u001B[43m(\u001B[49m\u001B[43my\u001B[49m\u001B[43m,\u001B[49m\u001B[43m \u001B[49m\u001B[43mindices\u001B[49m\u001B[43m)\u001B[49m\n\u001B[1;32m    312\u001B[0m \u001B[38;5;28;01melse\u001B[39;00m:\n\u001B[1;32m    313\u001B[0m     y_subset \u001B[38;5;241m=\u001B[39m \u001B[38;5;28;01mNone\u001B[39;00m\n",
      "File \u001B[0;32m/usr/local/lib/python3.9/dist-packages/sklearn/utils/__init__.py:361\u001B[0m, in \u001B[0;36m_safe_indexing\u001B[0;34m(X, indices, axis)\u001B[0m\n\u001B[1;32m    359\u001B[0m     \u001B[38;5;28;01mreturn\u001B[39;00m _pandas_indexing(X, indices, indices_dtype, axis\u001B[38;5;241m=\u001B[39maxis)\n\u001B[1;32m    360\u001B[0m \u001B[38;5;28;01melif\u001B[39;00m \u001B[38;5;28mhasattr\u001B[39m(X, \u001B[38;5;124m\"\u001B[39m\u001B[38;5;124mshape\u001B[39m\u001B[38;5;124m\"\u001B[39m):\n\u001B[0;32m--> 361\u001B[0m     \u001B[38;5;28;01mreturn\u001B[39;00m \u001B[43m_array_indexing\u001B[49m\u001B[43m(\u001B[49m\u001B[43mX\u001B[49m\u001B[43m,\u001B[49m\u001B[43m \u001B[49m\u001B[43mindices\u001B[49m\u001B[43m,\u001B[49m\u001B[43m \u001B[49m\u001B[43mindices_dtype\u001B[49m\u001B[43m,\u001B[49m\u001B[43m \u001B[49m\u001B[43maxis\u001B[49m\u001B[38;5;241;43m=\u001B[39;49m\u001B[43maxis\u001B[49m\u001B[43m)\u001B[49m\n\u001B[1;32m    362\u001B[0m \u001B[38;5;28;01melse\u001B[39;00m:\n\u001B[1;32m    363\u001B[0m     \u001B[38;5;28;01mreturn\u001B[39;00m _list_indexing(X, indices, indices_dtype)\n",
      "File \u001B[0;32m/usr/local/lib/python3.9/dist-packages/sklearn/utils/__init__.py:185\u001B[0m, in \u001B[0;36m_array_indexing\u001B[0;34m(array, key, key_dtype, axis)\u001B[0m\n\u001B[1;32m    183\u001B[0m \u001B[38;5;28;01mif\u001B[39;00m \u001B[38;5;28misinstance\u001B[39m(key, \u001B[38;5;28mtuple\u001B[39m):\n\u001B[1;32m    184\u001B[0m     key \u001B[38;5;241m=\u001B[39m \u001B[38;5;28mlist\u001B[39m(key)\n\u001B[0;32m--> 185\u001B[0m \u001B[38;5;28;01mreturn\u001B[39;00m \u001B[43marray\u001B[49m\u001B[43m[\u001B[49m\u001B[43mkey\u001B[49m\u001B[43m]\u001B[49m \u001B[38;5;28;01mif\u001B[39;00m axis \u001B[38;5;241m==\u001B[39m \u001B[38;5;241m0\u001B[39m \u001B[38;5;28;01melse\u001B[39;00m array[:, key]\n",
      "File \u001B[0;32m/usr/local/lib/python3.9/dist-packages/jax/_src/numpy/lax_numpy.py:3676\u001B[0m, in \u001B[0;36m_rewriting_take\u001B[0;34m(arr, idx, indices_are_sorted, unique_indices, mode, fill_value)\u001B[0m\n\u001B[1;32m   3673\u001B[0m       \u001B[38;5;28;01mreturn\u001B[39;00m lax\u001B[38;5;241m.\u001B[39mdynamic_index_in_dim(arr, idx, keepdims\u001B[38;5;241m=\u001B[39m\u001B[38;5;28;01mFalse\u001B[39;00m)\n\u001B[1;32m   3675\u001B[0m treedef, static_idx, dynamic_idx \u001B[38;5;241m=\u001B[39m _split_index_for_jit(idx, arr\u001B[38;5;241m.\u001B[39mshape)\n\u001B[0;32m-> 3676\u001B[0m \u001B[38;5;28;01mreturn\u001B[39;00m \u001B[43m_gather\u001B[49m\u001B[43m(\u001B[49m\u001B[43marr\u001B[49m\u001B[43m,\u001B[49m\u001B[43m \u001B[49m\u001B[43mtreedef\u001B[49m\u001B[43m,\u001B[49m\u001B[43m \u001B[49m\u001B[43mstatic_idx\u001B[49m\u001B[43m,\u001B[49m\u001B[43m \u001B[49m\u001B[43mdynamic_idx\u001B[49m\u001B[43m,\u001B[49m\u001B[43m \u001B[49m\u001B[43mindices_are_sorted\u001B[49m\u001B[43m,\u001B[49m\n\u001B[1;32m   3677\u001B[0m \u001B[43m               \u001B[49m\u001B[43munique_indices\u001B[49m\u001B[43m,\u001B[49m\u001B[43m \u001B[49m\u001B[43mmode\u001B[49m\u001B[43m,\u001B[49m\u001B[43m \u001B[49m\u001B[43mfill_value\u001B[49m\u001B[43m)\u001B[49m\n",
      "File \u001B[0;32m/usr/local/lib/python3.9/dist-packages/jax/_src/numpy/lax_numpy.py:3685\u001B[0m, in \u001B[0;36m_gather\u001B[0;34m(arr, treedef, static_idx, dynamic_idx, indices_are_sorted, unique_indices, mode, fill_value)\u001B[0m\n\u001B[1;32m   3682\u001B[0m \u001B[38;5;28;01mdef\u001B[39;00m \u001B[38;5;21m_gather\u001B[39m(arr, treedef, static_idx, dynamic_idx, indices_are_sorted,\n\u001B[1;32m   3683\u001B[0m             unique_indices, mode, fill_value):\n\u001B[1;32m   3684\u001B[0m   idx \u001B[38;5;241m=\u001B[39m _merge_static_and_dynamic_indices(treedef, static_idx, dynamic_idx)\n\u001B[0;32m-> 3685\u001B[0m   indexer \u001B[38;5;241m=\u001B[39m \u001B[43m_index_to_gather\u001B[49m\u001B[43m(\u001B[49m\u001B[43mshape\u001B[49m\u001B[43m(\u001B[49m\u001B[43marr\u001B[49m\u001B[43m)\u001B[49m\u001B[43m,\u001B[49m\u001B[43m \u001B[49m\u001B[43midx\u001B[49m\u001B[43m)\u001B[49m  \u001B[38;5;66;03m# shared with _scatter_update\u001B[39;00m\n\u001B[1;32m   3686\u001B[0m   y \u001B[38;5;241m=\u001B[39m arr\n\u001B[1;32m   3688\u001B[0m   \u001B[38;5;28;01mif\u001B[39;00m fill_value \u001B[38;5;129;01mis\u001B[39;00m \u001B[38;5;129;01mnot\u001B[39;00m \u001B[38;5;28;01mNone\u001B[39;00m:\n",
      "File \u001B[0;32m/usr/local/lib/python3.9/dist-packages/jax/_src/numpy/lax_numpy.py:3812\u001B[0m, in \u001B[0;36m_index_to_gather\u001B[0;34m(x_shape, idx, normalize_indices)\u001B[0m\n\u001B[1;32m   3809\u001B[0m   \u001B[38;5;28;01mif\u001B[39;00m normalize_indices:\n\u001B[1;32m   3810\u001B[0m     advanced_pairs \u001B[38;5;241m=\u001B[39m ((_normalize_index(e, x_shape[j]), i, j)\n\u001B[1;32m   3811\u001B[0m                       \u001B[38;5;28;01mfor\u001B[39;00m e, i, j \u001B[38;5;129;01min\u001B[39;00m advanced_pairs)\n\u001B[0;32m-> 3812\u001B[0m   advanced_indexes, idx_advanced_axes, x_advanced_axes \u001B[38;5;241m=\u001B[39m \u001B[38;5;28;43mzip\u001B[39;49m\u001B[43m(\u001B[49m\u001B[38;5;241;43m*\u001B[39;49m\u001B[43madvanced_pairs\u001B[49m\u001B[43m)\u001B[49m\n\u001B[1;32m   3813\u001B[0m   advanced_axes_are_contiguous \u001B[38;5;241m=\u001B[39m np\u001B[38;5;241m.\u001B[39mall(np\u001B[38;5;241m.\u001B[39mdiff(idx_advanced_axes) \u001B[38;5;241m==\u001B[39m \u001B[38;5;241m1\u001B[39m)\n\u001B[1;32m   3815\u001B[0m x_axis \u001B[38;5;241m=\u001B[39m \u001B[38;5;241m0\u001B[39m  \u001B[38;5;66;03m# Current axis in x.\u001B[39;00m\n",
      "File \u001B[0;32m/usr/local/lib/python3.9/dist-packages/jax/_src/numpy/lax_numpy.py:3810\u001B[0m, in \u001B[0;36m<genexpr>\u001B[0;34m(.0)\u001B[0m\n\u001B[1;32m   3806\u001B[0m advanced_pairs \u001B[38;5;241m=\u001B[39m (\n\u001B[1;32m   3807\u001B[0m   (asarray(e), i, j) \u001B[38;5;28;01mfor\u001B[39;00m j, (i, e) \u001B[38;5;129;01min\u001B[39;00m \u001B[38;5;28menumerate\u001B[39m(idx_no_nones)\n\u001B[1;32m   3808\u001B[0m   \u001B[38;5;28;01mif\u001B[39;00m isscalar(e) \u001B[38;5;129;01mor\u001B[39;00m \u001B[38;5;28misinstance\u001B[39m(e, (Sequence, ndarray, np\u001B[38;5;241m.\u001B[39mndarray)))\n\u001B[1;32m   3809\u001B[0m \u001B[38;5;28;01mif\u001B[39;00m normalize_indices:\n\u001B[0;32m-> 3810\u001B[0m   advanced_pairs \u001B[38;5;241m=\u001B[39m ((_normalize_index(e, x_shape[j]), i, j)\n\u001B[1;32m   3811\u001B[0m                     \u001B[38;5;28;01mfor\u001B[39;00m e, i, j \u001B[38;5;129;01min\u001B[39;00m advanced_pairs)\n\u001B[1;32m   3812\u001B[0m advanced_indexes, idx_advanced_axes, x_advanced_axes \u001B[38;5;241m=\u001B[39m \u001B[38;5;28mzip\u001B[39m(\u001B[38;5;241m*\u001B[39madvanced_pairs)\n\u001B[1;32m   3813\u001B[0m advanced_axes_are_contiguous \u001B[38;5;241m=\u001B[39m np\u001B[38;5;241m.\u001B[39mall(np\u001B[38;5;241m.\u001B[39mdiff(idx_advanced_axes) \u001B[38;5;241m==\u001B[39m \u001B[38;5;241m1\u001B[39m)\n",
      "File \u001B[0;32m/usr/local/lib/python3.9/dist-packages/jax/_src/numpy/lax_numpy.py:3807\u001B[0m, in \u001B[0;36m<genexpr>\u001B[0;34m(.0)\u001B[0m\n\u001B[1;32m   3804\u001B[0m \u001B[38;5;28;01mif\u001B[39;00m _is_advanced_int_indexer(idx):\n\u001B[1;32m   3805\u001B[0m   idx_no_nones \u001B[38;5;241m=\u001B[39m [(i, d) \u001B[38;5;28;01mfor\u001B[39;00m i, d \u001B[38;5;129;01min\u001B[39;00m \u001B[38;5;28menumerate\u001B[39m(idx) \u001B[38;5;28;01mif\u001B[39;00m d \u001B[38;5;129;01mis\u001B[39;00m \u001B[38;5;129;01mnot\u001B[39;00m \u001B[38;5;28;01mNone\u001B[39;00m]\n\u001B[1;32m   3806\u001B[0m   advanced_pairs \u001B[38;5;241m=\u001B[39m (\n\u001B[0;32m-> 3807\u001B[0m     (\u001B[43masarray\u001B[49m\u001B[43m(\u001B[49m\u001B[43me\u001B[49m\u001B[43m)\u001B[49m, i, j) \u001B[38;5;28;01mfor\u001B[39;00m j, (i, e) \u001B[38;5;129;01min\u001B[39;00m \u001B[38;5;28menumerate\u001B[39m(idx_no_nones)\n\u001B[1;32m   3808\u001B[0m     \u001B[38;5;28;01mif\u001B[39;00m isscalar(e) \u001B[38;5;129;01mor\u001B[39;00m \u001B[38;5;28misinstance\u001B[39m(e, (Sequence, ndarray, np\u001B[38;5;241m.\u001B[39mndarray)))\n\u001B[1;32m   3809\u001B[0m   \u001B[38;5;28;01mif\u001B[39;00m normalize_indices:\n\u001B[1;32m   3810\u001B[0m     advanced_pairs \u001B[38;5;241m=\u001B[39m ((_normalize_index(e, x_shape[j]), i, j)\n\u001B[1;32m   3811\u001B[0m                       \u001B[38;5;28;01mfor\u001B[39;00m e, i, j \u001B[38;5;129;01min\u001B[39;00m advanced_pairs)\n",
      "File \u001B[0;32m/usr/local/lib/python3.9/dist-packages/jax/_src/numpy/lax_numpy.py:1931\u001B[0m, in \u001B[0;36masarray\u001B[0;34m(a, dtype, order)\u001B[0m\n\u001B[1;32m   1929\u001B[0m lax_internal\u001B[38;5;241m.\u001B[39m_check_user_dtype_supported(dtype, \u001B[38;5;124m\"\u001B[39m\u001B[38;5;124masarray\u001B[39m\u001B[38;5;124m\"\u001B[39m)\n\u001B[1;32m   1930\u001B[0m dtype \u001B[38;5;241m=\u001B[39m dtypes\u001B[38;5;241m.\u001B[39mcanonicalize_dtype(dtype) \u001B[38;5;28;01mif\u001B[39;00m dtype \u001B[38;5;129;01mis\u001B[39;00m \u001B[38;5;129;01mnot\u001B[39;00m \u001B[38;5;28;01mNone\u001B[39;00m \u001B[38;5;28;01melse\u001B[39;00m dtype\n\u001B[0;32m-> 1931\u001B[0m \u001B[38;5;28;01mreturn\u001B[39;00m \u001B[43marray\u001B[49m\u001B[43m(\u001B[49m\u001B[43ma\u001B[49m\u001B[43m,\u001B[49m\u001B[43m \u001B[49m\u001B[43mdtype\u001B[49m\u001B[38;5;241;43m=\u001B[39;49m\u001B[43mdtype\u001B[49m\u001B[43m,\u001B[49m\u001B[43m \u001B[49m\u001B[43mcopy\u001B[49m\u001B[38;5;241;43m=\u001B[39;49m\u001B[38;5;28;43;01mFalse\u001B[39;49;00m\u001B[43m,\u001B[49m\u001B[43m \u001B[49m\u001B[43morder\u001B[49m\u001B[38;5;241;43m=\u001B[39;49m\u001B[43morder\u001B[49m\u001B[43m)\u001B[49m\n",
      "File \u001B[0;32m/usr/local/lib/python3.9/dist-packages/jax/_src/numpy/lax_numpy.py:1912\u001B[0m, in \u001B[0;36marray\u001B[0;34m(object, dtype, copy, order, ndmin)\u001B[0m\n\u001B[1;32m   1908\u001B[0m     \u001B[38;5;28;01mreturn\u001B[39;00m array(np\u001B[38;5;241m.\u001B[39masarray(view), dtype, copy, ndmin\u001B[38;5;241m=\u001B[39mndmin)\n\u001B[1;32m   1910\u001B[0m   \u001B[38;5;28;01mraise\u001B[39;00m \u001B[38;5;167;01mTypeError\u001B[39;00m(\u001B[38;5;124mf\u001B[39m\u001B[38;5;124m\"\u001B[39m\u001B[38;5;124mUnexpected input type for array: \u001B[39m\u001B[38;5;132;01m{\u001B[39;00m\u001B[38;5;28mtype\u001B[39m(\u001B[38;5;28mobject\u001B[39m)\u001B[38;5;132;01m}\u001B[39;00m\u001B[38;5;124m\"\u001B[39m)\n\u001B[0;32m-> 1912\u001B[0m out_array: Array \u001B[38;5;241m=\u001B[39m \u001B[43mlax_internal\u001B[49m\u001B[38;5;241;43m.\u001B[39;49m\u001B[43m_convert_element_type\u001B[49m\u001B[43m(\u001B[49m\u001B[43mout\u001B[49m\u001B[43m,\u001B[49m\u001B[43m \u001B[49m\u001B[43mdtype\u001B[49m\u001B[43m,\u001B[49m\u001B[43m \u001B[49m\u001B[43mweak_type\u001B[49m\u001B[38;5;241;43m=\u001B[39;49m\u001B[43mweak_type\u001B[49m\u001B[43m)\u001B[49m\n\u001B[1;32m   1913\u001B[0m \u001B[38;5;28;01mif\u001B[39;00m ndmin \u001B[38;5;241m>\u001B[39m ndim(out_array):\n\u001B[1;32m   1914\u001B[0m   out_array \u001B[38;5;241m=\u001B[39m lax\u001B[38;5;241m.\u001B[39mexpand_dims(out_array, \u001B[38;5;28mrange\u001B[39m(ndmin \u001B[38;5;241m-\u001B[39m ndim(out_array)))\n",
      "File \u001B[0;32m/usr/local/lib/python3.9/dist-packages/jax/_src/lax/lax.py:594\u001B[0m, in \u001B[0;36m_convert_element_type\u001B[0;34m(operand, new_dtype, weak_type)\u001B[0m\n\u001B[1;32m    592\u001B[0m   \u001B[38;5;28;01mreturn\u001B[39;00m type_cast(Array, operand)\n\u001B[1;32m    593\u001B[0m \u001B[38;5;28;01melse\u001B[39;00m:\n\u001B[0;32m--> 594\u001B[0m   \u001B[38;5;28;01mreturn\u001B[39;00m \u001B[43mconvert_element_type_p\u001B[49m\u001B[38;5;241;43m.\u001B[39;49m\u001B[43mbind\u001B[49m\u001B[43m(\u001B[49m\u001B[43moperand\u001B[49m\u001B[43m,\u001B[49m\u001B[43m \u001B[49m\u001B[43mnew_dtype\u001B[49m\u001B[38;5;241;43m=\u001B[39;49m\u001B[43mnew_dtype\u001B[49m\u001B[43m,\u001B[49m\n\u001B[1;32m    595\u001B[0m \u001B[43m                                     \u001B[49m\u001B[43mweak_type\u001B[49m\u001B[38;5;241;43m=\u001B[39;49m\u001B[38;5;28;43mbool\u001B[39;49m\u001B[43m(\u001B[49m\u001B[43mweak_type\u001B[49m\u001B[43m)\u001B[49m\u001B[43m)\u001B[49m\n",
      "File \u001B[0;32m/usr/local/lib/python3.9/dist-packages/jax/core.py:328\u001B[0m, in \u001B[0;36mPrimitive.bind\u001B[0;34m(self, *args, **params)\u001B[0m\n\u001B[1;32m    325\u001B[0m \u001B[38;5;28;01mdef\u001B[39;00m \u001B[38;5;21mbind\u001B[39m(\u001B[38;5;28mself\u001B[39m, \u001B[38;5;241m*\u001B[39margs, \u001B[38;5;241m*\u001B[39m\u001B[38;5;241m*\u001B[39mparams):\n\u001B[1;32m    326\u001B[0m   \u001B[38;5;28;01massert\u001B[39;00m (\u001B[38;5;129;01mnot\u001B[39;00m config\u001B[38;5;241m.\u001B[39mjax_enable_checks \u001B[38;5;129;01mor\u001B[39;00m\n\u001B[1;32m    327\u001B[0m           \u001B[38;5;28mall\u001B[39m(\u001B[38;5;28misinstance\u001B[39m(arg, Tracer) \u001B[38;5;129;01mor\u001B[39;00m valid_jaxtype(arg) \u001B[38;5;28;01mfor\u001B[39;00m arg \u001B[38;5;129;01min\u001B[39;00m args)), args\n\u001B[0;32m--> 328\u001B[0m   \u001B[38;5;28;01mreturn\u001B[39;00m \u001B[38;5;28;43mself\u001B[39;49m\u001B[38;5;241;43m.\u001B[39;49m\u001B[43mbind_with_trace\u001B[49m\u001B[43m(\u001B[49m\u001B[43mfind_top_trace\u001B[49m\u001B[43m(\u001B[49m\u001B[43margs\u001B[49m\u001B[43m)\u001B[49m\u001B[43m,\u001B[49m\u001B[43m \u001B[49m\u001B[43margs\u001B[49m\u001B[43m,\u001B[49m\u001B[43m \u001B[49m\u001B[43mparams\u001B[49m\u001B[43m)\u001B[49m\n",
      "File \u001B[0;32m/usr/local/lib/python3.9/dist-packages/jax/core.py:331\u001B[0m, in \u001B[0;36mPrimitive.bind_with_trace\u001B[0;34m(self, trace, args, params)\u001B[0m\n\u001B[1;32m    330\u001B[0m \u001B[38;5;28;01mdef\u001B[39;00m \u001B[38;5;21mbind_with_trace\u001B[39m(\u001B[38;5;28mself\u001B[39m, trace, args, params):\n\u001B[0;32m--> 331\u001B[0m   out \u001B[38;5;241m=\u001B[39m \u001B[43mtrace\u001B[49m\u001B[38;5;241;43m.\u001B[39;49m\u001B[43mprocess_primitive\u001B[49m\u001B[43m(\u001B[49m\u001B[38;5;28;43mself\u001B[39;49m\u001B[43m,\u001B[49m\u001B[43m \u001B[49m\u001B[38;5;28;43mmap\u001B[39;49m\u001B[43m(\u001B[49m\u001B[43mtrace\u001B[49m\u001B[38;5;241;43m.\u001B[39;49m\u001B[43mfull_raise\u001B[49m\u001B[43m,\u001B[49m\u001B[43m \u001B[49m\u001B[43margs\u001B[49m\u001B[43m)\u001B[49m\u001B[43m,\u001B[49m\u001B[43m \u001B[49m\u001B[43mparams\u001B[49m\u001B[43m)\u001B[49m\n\u001B[1;32m    332\u001B[0m   \u001B[38;5;28;01mreturn\u001B[39;00m \u001B[38;5;28mmap\u001B[39m(full_lower, out) \u001B[38;5;28;01mif\u001B[39;00m \u001B[38;5;28mself\u001B[39m\u001B[38;5;241m.\u001B[39mmultiple_results \u001B[38;5;28;01melse\u001B[39;00m full_lower(out)\n",
      "File \u001B[0;32m/usr/local/lib/python3.9/dist-packages/jax/core.py:698\u001B[0m, in \u001B[0;36mEvalTrace.process_primitive\u001B[0;34m(self, primitive, tracers, params)\u001B[0m\n\u001B[1;32m    697\u001B[0m \u001B[38;5;28;01mdef\u001B[39;00m \u001B[38;5;21mprocess_primitive\u001B[39m(\u001B[38;5;28mself\u001B[39m, primitive, tracers, params):\n\u001B[0;32m--> 698\u001B[0m   \u001B[38;5;28;01mreturn\u001B[39;00m \u001B[43mprimitive\u001B[49m\u001B[38;5;241;43m.\u001B[39;49m\u001B[43mimpl\u001B[49m\u001B[43m(\u001B[49m\u001B[38;5;241;43m*\u001B[39;49m\u001B[43mtracers\u001B[49m\u001B[43m,\u001B[49m\u001B[43m \u001B[49m\u001B[38;5;241;43m*\u001B[39;49m\u001B[38;5;241;43m*\u001B[39;49m\u001B[43mparams\u001B[49m\u001B[43m)\u001B[49m\n",
      "File \u001B[0;32m/usr/local/lib/python3.9/dist-packages/jax/_src/dispatch.py:114\u001B[0m, in \u001B[0;36mapply_primitive\u001B[0;34m(prim, *args, **params)\u001B[0m\n\u001B[1;32m    111\u001B[0m \u001B[38;5;124;03m\"\"\"Impl rule that compiles and runs a single primitive 'prim' using XLA.\"\"\"\u001B[39;00m\n\u001B[1;32m    112\u001B[0m compiled_fun \u001B[38;5;241m=\u001B[39m xla_primitive_callable(prim, \u001B[38;5;241m*\u001B[39munsafe_map(arg_spec, args),\n\u001B[1;32m    113\u001B[0m                                       \u001B[38;5;241m*\u001B[39m\u001B[38;5;241m*\u001B[39mparams)\n\u001B[0;32m--> 114\u001B[0m \u001B[38;5;28;01mreturn\u001B[39;00m \u001B[43mcompiled_fun\u001B[49m\u001B[43m(\u001B[49m\u001B[38;5;241;43m*\u001B[39;49m\u001B[43margs\u001B[49m\u001B[43m)\u001B[49m\n",
      "File \u001B[0;32m/usr/local/lib/python3.9/dist-packages/jax/_src/dispatch.py:199\u001B[0m, in \u001B[0;36mxla_primitive_callable.<locals>.<lambda>\u001B[0;34m(*args, **kw)\u001B[0m\n\u001B[1;32m    196\u001B[0m compiled \u001B[38;5;241m=\u001B[39m _xla_callable_uncached(lu\u001B[38;5;241m.\u001B[39mwrap_init(prim_fun), device, \u001B[38;5;28;01mNone\u001B[39;00m,\n\u001B[1;32m    197\u001B[0m                                   prim\u001B[38;5;241m.\u001B[39mname, donated_invars, \u001B[38;5;28;01mFalse\u001B[39;00m, \u001B[38;5;241m*\u001B[39marg_specs)\n\u001B[1;32m    198\u001B[0m \u001B[38;5;28;01mif\u001B[39;00m \u001B[38;5;129;01mnot\u001B[39;00m prim\u001B[38;5;241m.\u001B[39mmultiple_results:\n\u001B[0;32m--> 199\u001B[0m   \u001B[38;5;28;01mreturn\u001B[39;00m \u001B[38;5;28;01mlambda\u001B[39;00m \u001B[38;5;241m*\u001B[39margs, \u001B[38;5;241m*\u001B[39m\u001B[38;5;241m*\u001B[39mkw: \u001B[43mcompiled\u001B[49m\u001B[43m(\u001B[49m\u001B[38;5;241;43m*\u001B[39;49m\u001B[43margs\u001B[49m\u001B[43m,\u001B[49m\u001B[43m \u001B[49m\u001B[38;5;241;43m*\u001B[39;49m\u001B[38;5;241;43m*\u001B[39;49m\u001B[43mkw\u001B[49m\u001B[43m)\u001B[49m[\u001B[38;5;241m0\u001B[39m]\n\u001B[1;32m    200\u001B[0m \u001B[38;5;28;01melse\u001B[39;00m:\n\u001B[1;32m    201\u001B[0m   \u001B[38;5;28;01mreturn\u001B[39;00m compiled\n",
      "File \u001B[0;32m/usr/local/lib/python3.9/dist-packages/jax/_src/dispatch.py:925\u001B[0m, in \u001B[0;36m_execute_trivial\u001B[0;34m(jaxpr, device, consts, avals, handlers, has_unordered_effects, ordered_effects, kept_var_idx, host_callbacks, *args)\u001B[0m\n\u001B[1;32m    922\u001B[0m \u001B[38;5;28mmap\u001B[39m(env\u001B[38;5;241m.\u001B[39msetdefault, jaxpr\u001B[38;5;241m.\u001B[39mconstvars, consts)\n\u001B[1;32m    923\u001B[0m outs \u001B[38;5;241m=\u001B[39m [xla\u001B[38;5;241m.\u001B[39mcanonicalize_dtype(v\u001B[38;5;241m.\u001B[39mval) \u001B[38;5;28;01mif\u001B[39;00m \u001B[38;5;28mtype\u001B[39m(v) \u001B[38;5;129;01mis\u001B[39;00m core\u001B[38;5;241m.\u001B[39mLiteral \u001B[38;5;28;01melse\u001B[39;00m env[v]\n\u001B[1;32m    924\u001B[0m         \u001B[38;5;28;01mfor\u001B[39;00m v \u001B[38;5;129;01min\u001B[39;00m jaxpr\u001B[38;5;241m.\u001B[39moutvars]\n\u001B[0;32m--> 925\u001B[0m \u001B[38;5;28;01mreturn\u001B[39;00m [_copy_device_array_to_device(x, device) \u001B[38;5;28;01mif\u001B[39;00m device_array\u001B[38;5;241m.\u001B[39mtype_is_device_array(x)\n\u001B[1;32m    926\u001B[0m         \u001B[38;5;28;01melse\u001B[39;00m h(\u001B[38;5;28;01mNone\u001B[39;00m, \u001B[38;5;241m*\u001B[39mdevice_put(x, device)) \u001B[38;5;28;01mfor\u001B[39;00m h, x \u001B[38;5;129;01min\u001B[39;00m \u001B[38;5;28mzip\u001B[39m(handlers, outs)]\n",
      "File \u001B[0;32m/usr/local/lib/python3.9/dist-packages/jax/_src/dispatch.py:926\u001B[0m, in \u001B[0;36m<listcomp>\u001B[0;34m(.0)\u001B[0m\n\u001B[1;32m    922\u001B[0m \u001B[38;5;28mmap\u001B[39m(env\u001B[38;5;241m.\u001B[39msetdefault, jaxpr\u001B[38;5;241m.\u001B[39mconstvars, consts)\n\u001B[1;32m    923\u001B[0m outs \u001B[38;5;241m=\u001B[39m [xla\u001B[38;5;241m.\u001B[39mcanonicalize_dtype(v\u001B[38;5;241m.\u001B[39mval) \u001B[38;5;28;01mif\u001B[39;00m \u001B[38;5;28mtype\u001B[39m(v) \u001B[38;5;129;01mis\u001B[39;00m core\u001B[38;5;241m.\u001B[39mLiteral \u001B[38;5;28;01melse\u001B[39;00m env[v]\n\u001B[1;32m    924\u001B[0m         \u001B[38;5;28;01mfor\u001B[39;00m v \u001B[38;5;129;01min\u001B[39;00m jaxpr\u001B[38;5;241m.\u001B[39moutvars]\n\u001B[1;32m    925\u001B[0m \u001B[38;5;28;01mreturn\u001B[39;00m [_copy_device_array_to_device(x, device) \u001B[38;5;28;01mif\u001B[39;00m device_array\u001B[38;5;241m.\u001B[39mtype_is_device_array(x)\n\u001B[0;32m--> 926\u001B[0m         \u001B[38;5;28;01melse\u001B[39;00m h(\u001B[38;5;28;01mNone\u001B[39;00m, \u001B[38;5;241m*\u001B[39m\u001B[43mdevice_put\u001B[49m\u001B[43m(\u001B[49m\u001B[43mx\u001B[49m\u001B[43m,\u001B[49m\u001B[43m \u001B[49m\u001B[43mdevice\u001B[49m\u001B[43m)\u001B[49m) \u001B[38;5;28;01mfor\u001B[39;00m h, x \u001B[38;5;129;01min\u001B[39;00m \u001B[38;5;28mzip\u001B[39m(handlers, outs)]\n",
      "File \u001B[0;32m/usr/local/lib/python3.9/dist-packages/jax/_src/dispatch.py:1199\u001B[0m, in \u001B[0;36mdevice_put\u001B[0;34m(x, device)\u001B[0m\n\u001B[1;32m   1197\u001B[0m x \u001B[38;5;241m=\u001B[39m xla\u001B[38;5;241m.\u001B[39mcanonicalize_dtype(x)\n\u001B[1;32m   1198\u001B[0m \u001B[38;5;28;01mtry\u001B[39;00m:\n\u001B[0;32m-> 1199\u001B[0m   \u001B[38;5;28;01mreturn\u001B[39;00m \u001B[43mdevice_put_handlers\u001B[49m\u001B[43m[\u001B[49m\u001B[38;5;28;43mtype\u001B[39;49m\u001B[43m(\u001B[49m\u001B[43mx\u001B[49m\u001B[43m)\u001B[49m\u001B[43m]\u001B[49m\u001B[43m(\u001B[49m\u001B[43mx\u001B[49m\u001B[43m,\u001B[49m\u001B[43m \u001B[49m\u001B[43mdevice\u001B[49m\u001B[43m)\u001B[49m\n\u001B[1;32m   1200\u001B[0m \u001B[38;5;28;01mexcept\u001B[39;00m \u001B[38;5;167;01mKeyError\u001B[39;00m \u001B[38;5;28;01mas\u001B[39;00m err:\n\u001B[1;32m   1201\u001B[0m   \u001B[38;5;28;01mraise\u001B[39;00m \u001B[38;5;167;01mTypeError\u001B[39;00m(\u001B[38;5;124mf\u001B[39m\u001B[38;5;124m\"\u001B[39m\u001B[38;5;124mNo device_put handler for type: \u001B[39m\u001B[38;5;132;01m{\u001B[39;00m\u001B[38;5;28mtype\u001B[39m(x)\u001B[38;5;132;01m}\u001B[39;00m\u001B[38;5;124m\"\u001B[39m) \u001B[38;5;28;01mfrom\u001B[39;00m \u001B[38;5;21;01merr\u001B[39;00m\n",
      "File \u001B[0;32m/usr/local/lib/python3.9/dist-packages/jax/_src/dispatch.py:1210\u001B[0m, in \u001B[0;36m_device_put_array\u001B[0;34m(x, device)\u001B[0m\n\u001B[1;32m   1208\u001B[0m \u001B[38;5;28;01mif\u001B[39;00m x\u001B[38;5;241m.\u001B[39mdtype \u001B[38;5;241m==\u001B[39m dtypes\u001B[38;5;241m.\u001B[39mfloat0:\n\u001B[1;32m   1209\u001B[0m   x \u001B[38;5;241m=\u001B[39m np\u001B[38;5;241m.\u001B[39mzeros(x\u001B[38;5;241m.\u001B[39mshape, dtype\u001B[38;5;241m=\u001B[39mnp\u001B[38;5;241m.\u001B[39mdtype(\u001B[38;5;28mbool\u001B[39m))\n\u001B[0;32m-> 1210\u001B[0m \u001B[38;5;28;01mreturn\u001B[39;00m (\u001B[43mbackend\u001B[49m\u001B[38;5;241;43m.\u001B[39;49m\u001B[43mbuffer_from_pyval\u001B[49m\u001B[43m(\u001B[49m\u001B[43mx\u001B[49m\u001B[43m,\u001B[49m\u001B[43m \u001B[49m\u001B[43mdevice\u001B[49m\u001B[43m)\u001B[49m,)\n",
      "\u001B[0;31mKeyboardInterrupt\u001B[0m: "
     ]
    }
   ],
   "source": [
    "%autoreload\n",
    "import pickle\n",
    "from tqdm import tqdm\n",
    "import warnings\n",
    "from nn_util import prepare_data\n",
    "from sgmcmc import MixedSGMCMC\n",
    "from sklearn.model_selection import GridSearchCV, StratifiedKFold, cross_val_score\n",
    "from sklearn.linear_model import LogisticRegression\n",
    "\n",
    "warnings.filterwarnings(\"ignore\")\n",
    "\n",
    "\n",
    "\n",
    "config_values = []\n",
    "\n",
    "bnn_lr_dict_500 = {\"seed\": [], \"classifier\": [], \"cv_score\": [], \"test_score\": []}\n",
    "\n",
    "log_param_grid = {\"C\":np.logspace(-2, 1, 10)}\n",
    "\n",
    "for i in range(len(seeds)):\n",
    "\n",
    "    seed, net, data = prepare_data(seeds, i, data_dfs, net_dfs, test_size=0.3)\n",
    "    cv = StratifiedKFold(n_splits=5, shuffle=True, random_state=seed)\n",
    "\n",
    "    print(f\"Running - seed {seed}\")\n",
    "    X_train, X_test, y_train, y_test = data\n",
    "    rng_key = jax.random.PRNGKey(seed)\n",
    "\n",
    "    X_train, X_test, y_train, y_test = jax.device_put(X_train), jax.device_put(X_test), \\\n",
    "                                       jax.device_put(y_train), jax.device_put(y_test)\n",
    "\n",
    "\n",
    "    log_grid_cv = GridSearchCV(estimator=LogisticRegression(max_iter=10000), param_grid=log_param_grid, verbose=0, scoring=\"roc_auc\", cv=cv).fit(X_train, y_train)\n",
    "    log_cv_score = log_grid_cv.best_score_\n",
    "    clf = LogisticRegression(max_iter=10000, C=log_grid_cv.best_params_[\"C\"])\n",
    "    clf.fit(X_train, y_train)\n",
    "    log_test_score = roc_auc_score(y_test, clf.predict_proba(X_test)[:,1])\n",
    "\n",
    "    config, bnn_cv_score = optimize_hyper_parameters(seed, X_train, y_train)\n",
    "\n",
    "    # config = pickle.load(open(f\"{save_dir}/bnn_params_s_{seed}.pickle\", \"rb\"))\n",
    "    config_values.append(config)\n",
    "\n",
    "    pickle.dump(config, open(f\"{save_dir_500}/bnn_params_s_{seed}.pickle\", \"wb\"))\n",
    "\n",
    "    params = {\"disc_lr\": config[\"disc_lr\"], \"contin_lr\": config[\"contin_lr\"], \"batch_size\": config[\"batch_size\"],\n",
    "              \"mu\": config[\"mu\"], \"eta\": config[\"eta\"], \"temp\": config[\"temp\"],\n",
    "              \"sigma\": config[\"sigma\"], \"cycle_len\": config[\"cycle_len\"], \"beta\": config[\"beta\"]}\n",
    "\n",
    "    mixed_sgmcmc = MixedSGMCMC(seed=seed, n_samples=2000, n_warmup=0,\n",
    "                               n_chains=1, layer_dims=[config[\"layer_dim\"]], **params)\n",
    "\n",
    "    # bnn_cv_score = np.mean(cross_val_score(mixed_sgmcmc, X_train, y_train, cv=cv,\n",
    "    #                                        fit_params={\"activation_fns\": [config[\"activation\"]],  \"J\": net}))\n",
    "\n",
    "    mixed_sgmcmc.fit(X_train, y_train, activation_fns=[config[\"activation\"]], J=net)\n",
    "\n",
    "    bnn_test_score = mixed_sgmcmc.score(X_test, y_test)\n",
    "\n",
    "    bnn_disc_mean = jnp.mean(mixed_sgmcmc.states_.discrete_position, axis=0)\n",
    "    np.save(f\"{save_dir_500}/bnn_disc_mean_s_{seed}.npy\", bnn_disc_mean)\n",
    "\n",
    "\n",
    "    bnn_lr_dict_500[\"seed\"].append(seed)\n",
    "    bnn_lr_dict_500[\"classifier\"].append(\"LR\")\n",
    "    bnn_lr_dict_500[\"cv_score\"].append(log_cv_score)\n",
    "    bnn_lr_dict_500[\"test_score\"].append(log_test_score)\n",
    "\n",
    "    bnn_lr_dict_500[\"seed\"].append(seed)\n",
    "    bnn_lr_dict_500[\"classifier\"].append(\"BNN\")\n",
    "    bnn_lr_dict_500[\"cv_score\"].append(bnn_cv_score)\n",
    "    bnn_lr_dict_500[\"test_score\"].append(bnn_test_score)\n",
    "\n",
    "    print(f\"Config: {config}\")\n",
    "\n",
    "    print(f\"Done - seed {seed}\\nLR cv_score: {log_cv_score}, LR test_score: {log_test_score}\")\n",
    "    print(f\"BNN cv_score: {bnn_cv_score}, BNN test_score: {bnn_test_score}\")\n",
    "\n",
    "bnn_lr_df_500 = pd.DataFrame(bnn_lr_dict_500)\n",
    "bnn_lr_df_500.to_csv(f\"{save_dir_500}/res_bmm_summary.csv\", index=False)"
   ]
  },
  {
   "cell_type": "code",
   "execution_count": 68,
   "metadata": {
    "collapsed": false,
    "pycharm": {
     "name": "#%%\n"
    }
   },
   "outputs": [
    {
     "data": {
      "text/html": [
       "<div>\n",
       "<style scoped>\n",
       "    .dataframe tbody tr th:only-of-type {\n",
       "        vertical-align: middle;\n",
       "    }\n",
       "\n",
       "    .dataframe tbody tr th {\n",
       "        vertical-align: top;\n",
       "    }\n",
       "\n",
       "    .dataframe thead th {\n",
       "        text-align: right;\n",
       "    }\n",
       "</style>\n",
       "<table border=\"1\" class=\"dataframe\">\n",
       "  <thead>\n",
       "    <tr style=\"text-align: right;\">\n",
       "      <th></th>\n",
       "      <th>seed</th>\n",
       "      <th>classifier</th>\n",
       "      <th>cv_score</th>\n",
       "      <th>test_score</th>\n",
       "    </tr>\n",
       "  </thead>\n",
       "  <tbody>\n",
       "    <tr>\n",
       "      <th>0</th>\n",
       "      <td>422</td>\n",
       "      <td>LR</td>\n",
       "      <td>0.558040</td>\n",
       "      <td>0.492985</td>\n",
       "    </tr>\n",
       "    <tr>\n",
       "      <th>1</th>\n",
       "      <td>422</td>\n",
       "      <td>BNN</td>\n",
       "      <td>0.525300</td>\n",
       "      <td>0.543771</td>\n",
       "    </tr>\n",
       "    <tr>\n",
       "      <th>2</th>\n",
       "      <td>261</td>\n",
       "      <td>LR</td>\n",
       "      <td>0.537980</td>\n",
       "      <td>0.549244</td>\n",
       "    </tr>\n",
       "    <tr>\n",
       "      <th>3</th>\n",
       "      <td>261</td>\n",
       "      <td>BNN</td>\n",
       "      <td>0.527738</td>\n",
       "      <td>0.529176</td>\n",
       "    </tr>\n",
       "    <tr>\n",
       "      <th>4</th>\n",
       "      <td>968</td>\n",
       "      <td>LR</td>\n",
       "      <td>0.552338</td>\n",
       "      <td>0.455197</td>\n",
       "    </tr>\n",
       "    <tr>\n",
       "      <th>5</th>\n",
       "      <td>968</td>\n",
       "      <td>BNN</td>\n",
       "      <td>0.508821</td>\n",
       "      <td>0.555556</td>\n",
       "    </tr>\n",
       "    <tr>\n",
       "      <th>6</th>\n",
       "      <td>282</td>\n",
       "      <td>LR</td>\n",
       "      <td>0.567325</td>\n",
       "      <td>0.502264</td>\n",
       "    </tr>\n",
       "    <tr>\n",
       "      <th>7</th>\n",
       "      <td>282</td>\n",
       "      <td>BNN</td>\n",
       "      <td>0.566687</td>\n",
       "      <td>0.534309</td>\n",
       "    </tr>\n",
       "    <tr>\n",
       "      <th>8</th>\n",
       "      <td>739</td>\n",
       "      <td>LR</td>\n",
       "      <td>0.677096</td>\n",
       "      <td>0.722995</td>\n",
       "    </tr>\n",
       "    <tr>\n",
       "      <th>9</th>\n",
       "      <td>739</td>\n",
       "      <td>BNN</td>\n",
       "      <td>0.676894</td>\n",
       "      <td>0.713584</td>\n",
       "    </tr>\n",
       "    <tr>\n",
       "      <th>10</th>\n",
       "      <td>573</td>\n",
       "      <td>LR</td>\n",
       "      <td>0.583870</td>\n",
       "      <td>0.503202</td>\n",
       "    </tr>\n",
       "    <tr>\n",
       "      <th>11</th>\n",
       "      <td>573</td>\n",
       "      <td>BNN</td>\n",
       "      <td>0.576286</td>\n",
       "      <td>0.515734</td>\n",
       "    </tr>\n",
       "    <tr>\n",
       "      <th>12</th>\n",
       "      <td>220</td>\n",
       "      <td>LR</td>\n",
       "      <td>0.669890</td>\n",
       "      <td>0.569500</td>\n",
       "    </tr>\n",
       "    <tr>\n",
       "      <th>13</th>\n",
       "      <td>220</td>\n",
       "      <td>BNN</td>\n",
       "      <td>0.664444</td>\n",
       "      <td>0.571500</td>\n",
       "    </tr>\n",
       "    <tr>\n",
       "      <th>14</th>\n",
       "      <td>413</td>\n",
       "      <td>LR</td>\n",
       "      <td>0.567172</td>\n",
       "      <td>0.445625</td>\n",
       "    </tr>\n",
       "    <tr>\n",
       "      <th>15</th>\n",
       "      <td>413</td>\n",
       "      <td>BNN</td>\n",
       "      <td>0.575036</td>\n",
       "      <td>0.437812</td>\n",
       "    </tr>\n",
       "    <tr>\n",
       "      <th>16</th>\n",
       "      <td>745</td>\n",
       "      <td>LR</td>\n",
       "      <td>0.587840</td>\n",
       "      <td>0.590287</td>\n",
       "    </tr>\n",
       "    <tr>\n",
       "      <th>17</th>\n",
       "      <td>745</td>\n",
       "      <td>BNN</td>\n",
       "      <td>0.589883</td>\n",
       "      <td>0.522572</td>\n",
       "    </tr>\n",
       "    <tr>\n",
       "      <th>18</th>\n",
       "      <td>775</td>\n",
       "      <td>LR</td>\n",
       "      <td>0.600236</td>\n",
       "      <td>0.537896</td>\n",
       "    </tr>\n",
       "    <tr>\n",
       "      <th>19</th>\n",
       "      <td>775</td>\n",
       "      <td>BNN</td>\n",
       "      <td>0.600186</td>\n",
       "      <td>0.494910</td>\n",
       "    </tr>\n",
       "    <tr>\n",
       "      <th>20</th>\n",
       "      <td>482</td>\n",
       "      <td>LR</td>\n",
       "      <td>0.598407</td>\n",
       "      <td>0.472448</td>\n",
       "    </tr>\n",
       "    <tr>\n",
       "      <th>21</th>\n",
       "      <td>482</td>\n",
       "      <td>BNN</td>\n",
       "      <td>0.598691</td>\n",
       "      <td>0.490350</td>\n",
       "    </tr>\n",
       "    <tr>\n",
       "      <th>22</th>\n",
       "      <td>442</td>\n",
       "      <td>LR</td>\n",
       "      <td>0.623667</td>\n",
       "      <td>0.612323</td>\n",
       "    </tr>\n",
       "    <tr>\n",
       "      <th>23</th>\n",
       "      <td>442</td>\n",
       "      <td>BNN</td>\n",
       "      <td>0.645693</td>\n",
       "      <td>0.614570</td>\n",
       "    </tr>\n",
       "    <tr>\n",
       "      <th>24</th>\n",
       "      <td>210</td>\n",
       "      <td>LR</td>\n",
       "      <td>0.561111</td>\n",
       "      <td>0.480215</td>\n",
       "    </tr>\n",
       "    <tr>\n",
       "      <th>25</th>\n",
       "      <td>210</td>\n",
       "      <td>BNN</td>\n",
       "      <td>0.564912</td>\n",
       "      <td>0.490662</td>\n",
       "    </tr>\n",
       "    <tr>\n",
       "      <th>26</th>\n",
       "      <td>423</td>\n",
       "      <td>LR</td>\n",
       "      <td>0.473460</td>\n",
       "      <td>0.467267</td>\n",
       "    </tr>\n",
       "    <tr>\n",
       "      <th>27</th>\n",
       "      <td>423</td>\n",
       "      <td>BNN</td>\n",
       "      <td>0.508795</td>\n",
       "      <td>0.500409</td>\n",
       "    </tr>\n",
       "    <tr>\n",
       "      <th>28</th>\n",
       "      <td>760</td>\n",
       "      <td>LR</td>\n",
       "      <td>0.610281</td>\n",
       "      <td>0.586875</td>\n",
       "    </tr>\n",
       "    <tr>\n",
       "      <th>29</th>\n",
       "      <td>760</td>\n",
       "      <td>BNN</td>\n",
       "      <td>0.617220</td>\n",
       "      <td>0.550938</td>\n",
       "    </tr>\n",
       "    <tr>\n",
       "      <th>30</th>\n",
       "      <td>57</td>\n",
       "      <td>LR</td>\n",
       "      <td>0.570461</td>\n",
       "      <td>0.515767</td>\n",
       "    </tr>\n",
       "    <tr>\n",
       "      <th>31</th>\n",
       "      <td>57</td>\n",
       "      <td>BNN</td>\n",
       "      <td>0.550247</td>\n",
       "      <td>0.557086</td>\n",
       "    </tr>\n",
       "    <tr>\n",
       "      <th>32</th>\n",
       "      <td>769</td>\n",
       "      <td>LR</td>\n",
       "      <td>0.656270</td>\n",
       "      <td>0.582351</td>\n",
       "    </tr>\n",
       "    <tr>\n",
       "      <th>33</th>\n",
       "      <td>769</td>\n",
       "      <td>BNN</td>\n",
       "      <td>0.642265</td>\n",
       "      <td>0.525438</td>\n",
       "    </tr>\n",
       "    <tr>\n",
       "      <th>34</th>\n",
       "      <td>920</td>\n",
       "      <td>LR</td>\n",
       "      <td>0.642312</td>\n",
       "      <td>0.537905</td>\n",
       "    </tr>\n",
       "    <tr>\n",
       "      <th>35</th>\n",
       "      <td>920</td>\n",
       "      <td>BNN</td>\n",
       "      <td>0.630198</td>\n",
       "      <td>0.527488</td>\n",
       "    </tr>\n",
       "    <tr>\n",
       "      <th>36</th>\n",
       "      <td>226</td>\n",
       "      <td>LR</td>\n",
       "      <td>0.589758</td>\n",
       "      <td>0.397500</td>\n",
       "    </tr>\n",
       "    <tr>\n",
       "      <th>37</th>\n",
       "      <td>226</td>\n",
       "      <td>BNN</td>\n",
       "      <td>0.587198</td>\n",
       "      <td>0.456250</td>\n",
       "    </tr>\n",
       "    <tr>\n",
       "      <th>38</th>\n",
       "      <td>196</td>\n",
       "      <td>LR</td>\n",
       "      <td>0.569685</td>\n",
       "      <td>0.599589</td>\n",
       "    </tr>\n",
       "    <tr>\n",
       "      <th>39</th>\n",
       "      <td>196</td>\n",
       "      <td>BNN</td>\n",
       "      <td>0.522728</td>\n",
       "      <td>0.651880</td>\n",
       "    </tr>\n",
       "  </tbody>\n",
       "</table>\n",
       "</div>"
      ],
      "text/plain": [
       "    seed classifier  cv_score  test_score\n",
       "0    422         LR  0.558040    0.492985\n",
       "1    422        BNN  0.525300    0.543771\n",
       "2    261         LR  0.537980    0.549244\n",
       "3    261        BNN  0.527738    0.529176\n",
       "4    968         LR  0.552338    0.455197\n",
       "5    968        BNN  0.508821    0.555556\n",
       "6    282         LR  0.567325    0.502264\n",
       "7    282        BNN  0.566687    0.534309\n",
       "8    739         LR  0.677096    0.722995\n",
       "9    739        BNN  0.676894    0.713584\n",
       "10   573         LR  0.583870    0.503202\n",
       "11   573        BNN  0.576286    0.515734\n",
       "12   220         LR  0.669890    0.569500\n",
       "13   220        BNN  0.664444    0.571500\n",
       "14   413         LR  0.567172    0.445625\n",
       "15   413        BNN  0.575036    0.437812\n",
       "16   745         LR  0.587840    0.590287\n",
       "17   745        BNN  0.589883    0.522572\n",
       "18   775         LR  0.600236    0.537896\n",
       "19   775        BNN  0.600186    0.494910\n",
       "20   482         LR  0.598407    0.472448\n",
       "21   482        BNN  0.598691    0.490350\n",
       "22   442         LR  0.623667    0.612323\n",
       "23   442        BNN  0.645693    0.614570\n",
       "24   210         LR  0.561111    0.480215\n",
       "25   210        BNN  0.564912    0.490662\n",
       "26   423         LR  0.473460    0.467267\n",
       "27   423        BNN  0.508795    0.500409\n",
       "28   760         LR  0.610281    0.586875\n",
       "29   760        BNN  0.617220    0.550938\n",
       "30    57         LR  0.570461    0.515767\n",
       "31    57        BNN  0.550247    0.557086\n",
       "32   769         LR  0.656270    0.582351\n",
       "33   769        BNN  0.642265    0.525438\n",
       "34   920         LR  0.642312    0.537905\n",
       "35   920        BNN  0.630198    0.527488\n",
       "36   226         LR  0.589758    0.397500\n",
       "37   226        BNN  0.587198    0.456250\n",
       "38   196         LR  0.569685    0.599589\n",
       "39   196        BNN  0.522728    0.651880"
      ]
     },
     "execution_count": 68,
     "metadata": {},
     "output_type": "execute_result"
    }
   ],
   "source": [
    "bnn_lr_df_500 = pd.read_csv(f\"{save_dir_500}/res_bmm_summary.csv\")\n",
    "bnn_lr_df_500"
   ]
  },
  {
   "cell_type": "code",
   "execution_count": 10,
   "metadata": {
    "collapsed": false,
    "pycharm": {
     "name": "#%%\n"
    }
   },
   "outputs": [
    {
     "data": {
      "text/html": [
       "<div>\n",
       "<style scoped>\n",
       "    .dataframe tbody tr th:only-of-type {\n",
       "        vertical-align: middle;\n",
       "    }\n",
       "\n",
       "    .dataframe tbody tr th {\n",
       "        vertical-align: top;\n",
       "    }\n",
       "\n",
       "    .dataframe thead th {\n",
       "        text-align: right;\n",
       "    }\n",
       "</style>\n",
       "<table border=\"1\" class=\"dataframe\">\n",
       "  <thead>\n",
       "    <tr style=\"text-align: right;\">\n",
       "      <th></th>\n",
       "      <th>cv_score</th>\n",
       "      <th>test_score</th>\n",
       "    </tr>\n",
       "    <tr>\n",
       "      <th>classifier</th>\n",
       "      <th></th>\n",
       "      <th></th>\n",
       "    </tr>\n",
       "  </thead>\n",
       "  <tbody>\n",
       "    <tr>\n",
       "      <th>BNN</th>\n",
       "      <td>0.583961</td>\n",
       "      <td>0.539200</td>\n",
       "    </tr>\n",
       "    <tr>\n",
       "      <th>LR</th>\n",
       "      <td>0.589860</td>\n",
       "      <td>0.531072</td>\n",
       "    </tr>\n",
       "  </tbody>\n",
       "</table>\n",
       "</div>"
      ],
      "text/plain": [
       "            cv_score  test_score\n",
       "classifier                      \n",
       "BNN         0.583961    0.539200\n",
       "LR          0.589860    0.531072"
      ]
     },
     "execution_count": 10,
     "metadata": {},
     "output_type": "execute_result"
    }
   ],
   "source": [
    "bnn_lr_df_500.groupby([\"classifier\"])[[\"cv_score\", \"test_score\"]].mean()"
   ]
  },
  {
   "cell_type": "code",
   "execution_count": 120,
   "metadata": {
    "collapsed": false,
    "pycharm": {
     "name": "#%%\n"
    }
   },
   "outputs": [
    {
     "data": {
      "text/plain": [
       "Configuration(values={\n",
       "  'activation': 'tanh',\n",
       "  'batch_size': 64,\n",
       "  'beta': 0.9901000815779375,\n",
       "  'contin_lr': 0.000553849670496185,\n",
       "  'disc_lr': 0.015499881752989718,\n",
       "  'eta': 13.42890174428199,\n",
       "  'layer_dim': 50,\n",
       "  'mu': 355.8300138691474,\n",
       "  'sigma': 6.261816495065096,\n",
       "  'temp': 0.0040914487548523466,\n",
       "})"
      ]
     },
     "execution_count": 120,
     "metadata": {},
     "output_type": "execute_result"
    }
   ],
   "source": [
    "config"
   ]
  },
  {
   "cell_type": "code",
   "execution_count": 100,
   "metadata": {
    "collapsed": false,
    "pycharm": {
     "name": "#%%\n"
    }
   },
   "outputs": [
    {
     "data": {
      "text/html": [
       "<div>\n",
       "<style scoped>\n",
       "    .dataframe tbody tr th:only-of-type {\n",
       "        vertical-align: middle;\n",
       "    }\n",
       "\n",
       "    .dataframe tbody tr th {\n",
       "        vertical-align: top;\n",
       "    }\n",
       "\n",
       "    .dataframe thead th {\n",
       "        text-align: right;\n",
       "    }\n",
       "</style>\n",
       "<table border=\"1\" class=\"dataframe\">\n",
       "  <thead>\n",
       "    <tr style=\"text-align: right;\">\n",
       "      <th></th>\n",
       "      <th></th>\n",
       "      <th>cv_score</th>\n",
       "      <th>test_score</th>\n",
       "    </tr>\n",
       "    <tr>\n",
       "      <th>feat_sel</th>\n",
       "      <th>num_feats</th>\n",
       "      <th></th>\n",
       "      <th></th>\n",
       "    </tr>\n",
       "  </thead>\n",
       "  <tbody>\n",
       "    <tr>\n",
       "      <th rowspan=\"3\" valign=\"top\">bnn</th>\n",
       "      <th>5</th>\n",
       "      <td>0.508902</td>\n",
       "      <td>0.506224</td>\n",
       "    </tr>\n",
       "    <tr>\n",
       "      <th>10</th>\n",
       "      <td>0.517699</td>\n",
       "      <td>0.511703</td>\n",
       "    </tr>\n",
       "    <tr>\n",
       "      <th>15</th>\n",
       "      <td>0.517699</td>\n",
       "      <td>0.511703</td>\n",
       "    </tr>\n",
       "    <tr>\n",
       "      <th rowspan=\"3\" valign=\"top\">random</th>\n",
       "      <th>5</th>\n",
       "      <td>0.523177</td>\n",
       "      <td>0.518667</td>\n",
       "    </tr>\n",
       "    <tr>\n",
       "      <th>10</th>\n",
       "      <td>0.564427</td>\n",
       "      <td>0.578557</td>\n",
       "    </tr>\n",
       "    <tr>\n",
       "      <th>15</th>\n",
       "      <td>0.566813</td>\n",
       "      <td>0.574128</td>\n",
       "    </tr>\n",
       "  </tbody>\n",
       "</table>\n",
       "</div>"
      ],
      "text/plain": [
       "                    cv_score  test_score\n",
       "feat_sel num_feats                      \n",
       "bnn      5          0.508902    0.506224\n",
       "         10         0.517699    0.511703\n",
       "         15         0.517699    0.511703\n",
       "random   5          0.523177    0.518667\n",
       "         10         0.564427    0.578557\n",
       "         15         0.566813    0.574128"
      ]
     },
     "execution_count": 100,
     "metadata": {},
     "output_type": "execute_result"
    }
   ],
   "source": [
    "rand_v_bnn_sel_fts_df.groupby([\"feat_sel\", \"num_feats\"])[[\"cv_score\", \"test_score\"]].mean()"
   ]
  },
  {
   "cell_type": "code",
   "execution_count": 101,
   "metadata": {
    "collapsed": false,
    "pycharm": {
     "name": "#%%\n"
    }
   },
   "outputs": [
    {
     "data": {
      "text/plain": [
       "Text(0, 0.5, 'num features')"
      ]
     },
     "execution_count": 101,
     "metadata": {},
     "output_type": "execute_result"
    },
    {
     "data": {
      "image/png": "[encoded data removed]",
      "text/plain": [
       "<Figure size 864x288 with 2 Axes>"
      ]
     },
     "metadata": {
      "needs_background": "light"
     },
     "output_type": "display_data"
    }
   ],
   "source": [
    "gamma_means = jnp.mean(mixed_sgmcmc.states_.discrete_position, axis=0)\n",
    "bnn_disc_mean_s_442 = np.load(f\"{save_dir_500}/bnn_disc_mean_s_{seed}.npy\")\n",
    "\n",
    "fig, (ax1, ax2) = plt.subplots(1, 2, figsize=(12, 4))\n",
    "ax1.hist(bnn_disc_mean_s_442)\n",
    "ax1.set_xlabel(\"frequency\")\n",
    "ax1.set_ylabel(\"num features\")\n",
    "\n",
    "ax2.hist(gamma_means)\n",
    "ax2.set_xlabel(\"frequency\")\n",
    "ax2.set_ylabel(\"num features\")"
   ]
  },
  {
   "cell_type": "code",
   "execution_count": null,
   "metadata": {
    "collapsed": false,
    "pycharm": {
     "name": "#%%\n"
    }
   },
   "outputs": [],
   "source": [
    "from scipy import stats\n",
    "bnn_sel_ft_5 = rand_v_bnn_sel_fts_df[(rand_v_bnn_sel_fts_df[\"feat_sel\"] == \"bnn\" ) & (rand_v_bnn_sel_fts_df[\"num_feats\"] == 5)]\n",
    "rand_fisher_sel_ft_5 = rand_v_bnn_sel_fts_df[(rand_v_bnn_sel_fts_df[\"feat_sel\"] == \"random\") & (rand_v_bnn_sel_fts_df[\"num_feats\"] == 5)]\n",
    "\n",
    "bnn_sel_ft_10 = rand_v_bnn_sel_fts_df[(rand_v_bnn_sel_fts_df[\"feat_sel\"] == \"bnn\" ) & (rand_v_bnn_sel_fts_df[\"num_feats\"] == 10)]\n",
    "rand_fisher_sel_ft_10 = rand_v_bnn_sel_fts_df[(rand_v_bnn_sel_fts_df[\"feat_sel\"] == \"random\") & (rand_v_bnn_sel_fts_df[\"num_feats\"] == 10)]\n",
    "\n",
    "cv_score_bnn_sel_ft_5 = bnn_sel_ft_5[\"cv_score\"]\n",
    "cv_score_rand_sel_ft_5 = rand_fisher_sel_ft_5[\"cv_score\"]\n",
    "\n",
    "cv_score_bnn_sel_ft_10 = bnn_sel_ft_10[\"cv_score\"]\n",
    "cv_score_rand_sel_ft_10 = rand_fisher_sel_ft_10[\"cv_score\"]\n",
    "\n",
    "test_score_bnn_sel_ft_5 = bnn_sel_ft_5[\"test_score\"]\n",
    "test_score_rand_sel_ft_5 = rand_fisher_sel_ft_5[\"test_score\"]\n",
    "\n",
    "test_score_bnn_sel_ft_10 = bnn_sel_ft_10[\"test_score\"]\n",
    "test_score_rand_sel_ft_10 = rand_fisher_sel_ft_10[\"test_score\"]\n",
    "\n",
    "p_val_cv_score_5 = stats.ttest_ind(cv_score_bnn_sel_ft_5, cv_score_rand_sel_ft_5, alternative=\"two-sided\", equal_var=False).pvalue\n",
    "p_val_test_score_5 = stats.ttest_ind(test_score_bnn_sel_ft_5, test_score_rand_sel_ft_5, alternative=\"two-sided\", equal_var=False).pvalue\n",
    "\n",
    "p_val_cv_score_10 = stats.ttest_ind(cv_score_bnn_sel_ft_10, cv_score_rand_sel_ft_10, alternative=\"two-sided\", equal_var=False).pvalue\n",
    "p_val_test_score_10 = stats.ttest_ind(test_score_bnn_sel_ft_10, test_score_rand_sel_ft_5, alternative=\"two-sided\", equal_var=False).pvalue\n",
    "\n",
    "print(\"=========== Num feats: 5 =====================\")\n",
    "print(f\"CV Scores: BNN vs Random - p_value (two-sided): {p_val_cv_score_5}\")\n",
    "print(f\"Test Scores: BNN vs Random - p_value (two-sided): {p_val_test_score_5}\")\n",
    "\n",
    "print(\"\\n=========== Num feats: 10 =====================\")\n",
    "print(f\"CV Scores: BNN vs Random - p_value (two-sided): {p_val_cv_score_10}\")\n",
    "print(f\"Test Scores: BNN vs Random - p_value (two-sided): {p_val_test_score_10}\")"
   ]
  },
  {
   "cell_type": "code",
   "execution_count": 85,
   "metadata": {
    "collapsed": false,
    "pycharm": {
     "name": "#%%\n"
    }
   },
   "outputs": [
    {
     "name": "stdout",
     "output_type": "stream",
     "text": [
      "=========== Num feats: 5 =====================\n",
      "CV Scores: BNN vs Random - p_value (one-sided): 9.539647905564428e-15\n",
      "Test Scores: BNN vs Random - p_value (one-sided): 2.4414652092392635e-12\n",
      "\n",
      "=========== Num feats: 10 =====================\n",
      "CV Scores: BNN vs Random - p_value (one-sided): 2.301495416941404e-08\n",
      "Test Scores: BNN vs Random - p_value (one-sided): 1.1606598065503922e-11\n"
     ]
    }
   ],
   "source": [
    "p_val_cv_score_5 = stats.ttest_ind(cv_score_bnn_sel_ft_5, cv_score_rand_sel_ft_5, alternative=\"greater\", equal_var=False).pvalue\n",
    "p_val_test_score_5 = stats.ttest_ind(test_score_bnn_sel_ft_5, test_score_rand_sel_ft_5, alternative=\"greater\", equal_var=False).pvalue\n",
    "\n",
    "p_val_cv_score_10 = stats.ttest_ind(cv_score_bnn_sel_ft_10, cv_score_rand_sel_ft_10, alternative=\"greater\", equal_var=False).pvalue\n",
    "p_val_test_score_10 = stats.ttest_ind(test_score_bnn_sel_ft_10, test_score_rand_sel_ft_5, alternative=\"greater\", equal_var=False).pvalue\n",
    "\n",
    "print(\"=========== Num feats: 5 =====================\")\n",
    "print(f\"CV Scores: BNN vs Random - p_value (one-sided): {p_val_cv_score_5}\")\n",
    "print(f\"Test Scores: BNN vs Random - p_value (one-sided): {p_val_test_score_5}\")\n",
    "\n",
    "print(\"\\n=========== Num feats: 10 =====================\")\n",
    "print(f\"CV Scores: BNN vs Random - p_value (one-sided): {p_val_cv_score_10}\")\n",
    "print(f\"Test Scores: BNN vs Random - p_value (one-sided): {p_val_test_score_10}\")"
   ]
  },
  {
   "cell_type": "code",
   "execution_count": 90,
   "metadata": {
    "collapsed": false,
    "pycharm": {
     "name": "#%%\n"
    }
   },
   "outputs": [
    {
     "data": {
      "text/plain": [
       "442"
      ]
     },
     "execution_count": 90,
     "metadata": {},
     "output_type": "execute_result"
    }
   ],
   "source": [
    "seeds[11]"
   ]
  },
  {
   "cell_type": "code",
   "execution_count": 50,
   "metadata": {
    "collapsed": false,
    "pycharm": {
     "name": "#%%\n"
    }
   },
   "outputs": [
    {
     "name": "stderr",
     "output_type": "stream",
     "text": [
      "/tmp/ipykernel_348/1906722657.py:9: DeprecationWarning: `np.float` is a deprecated alias for the builtin `float`. To silence this warning, use `float` by itself. Doing this will not modify any behavior and is safe. If you specifically wanted the numpy scalar type, use `np.float64` here.\n",
      "Deprecated in NumPy 1.20; for more details and guidance: https://numpy.org/devdocs/release/1.20.0-notes.html#deprecations\n",
      "  X, y = data_dfs[seed_idx].iloc[:,:-1].to_numpy().astype(np.float),  \\\n",
      "/tmp/ipykernel_348/1906722657.py:10: DeprecationWarning: `np.float` is a deprecated alias for the builtin `float`. To silence this warning, use `float` by itself. Doing this will not modify any behavior and is safe. If you specifically wanted the numpy scalar type, use `np.float64` here.\n",
      "Deprecated in NumPy 1.20; for more details and guidance: https://numpy.org/devdocs/release/1.20.0-notes.html#deprecations\n",
      "  data_dfs[seed_idx].iloc[:,-1].to_numpy().astype(np.float)\n"
     ]
    },
    {
     "name": "stdout",
     "output_type": "stream",
     "text": [
      "Configuration(values={\n",
      "  'activation': 'relu',\n",
      "  'batch_size': 32,\n",
      "  'beta': 0.9223176022517695,\n",
      "  'contin_lr': 2.921565057716431e-05,\n",
      "  'cycle_len': 7,\n",
      "  'disc_lr': 0.0255358112072285,\n",
      "  'eta': 0.15141244695593806,\n",
      "  'layer_dim': 300,\n",
      "  'mu': 0.5222315154956412,\n",
      "  'sigma': 7.401408430020509,\n",
      "  'temp': 0.09070826467316453,\n",
      "})\n",
      "\n",
      "0.5378787869760631\n",
      "0.5632159934179469\n"
     ]
    }
   ],
   "source": [
    "%autoreload\n",
    "import pickle\n",
    "from sgmcmc import MixedSGMCMC\n",
    "from sklearn.model_selection import cross_val_score, train_test_split, GridSearchCV\n",
    "from sklearn.linear_model import LogisticRegression\n",
    "seed_idx = 4\n",
    "\n",
    "seed = seeds[seed_idx]\n",
    "X, y = data_dfs[seed_idx].iloc[:,:-1].to_numpy().astype(np.float),  \\\n",
    "       data_dfs[seed_idx].iloc[:,-1].to_numpy().astype(np.float)\n",
    "\n",
    "X_train, X_test, y_train, y_test = train_test_split(X, y, random_state=seed, shuffle=True, stratify=y, test_size=0.3)\n",
    "\n",
    "X_train, X_test, y_train, y_test = jax.device_put(X_train), jax.device_put(X_test), \\\n",
    "                                   jax.device_put(y_train), jax.device_put(y_test)\n",
    "net = net_dfs[seed_idx].to_numpy()\n",
    "\n",
    "bnn_params_s_442 = pickle.load(open(f\"{save_dir_500}/bnn_params_s_{seed}.pickle\", \"rb\"))\n",
    "\n",
    "print(bnn_params_s_442)\n",
    "\n",
    "params = {\"disc_lr\": 0.1, \"contin_lr\": 0.001, \"batch_size\": bnn_params_s_442[\"batch_size\"],\n",
    "          \"mu\": 1000, \"eta\": 10, \"temp\": bnn_params_s_442[\"temp\"],\n",
    "          \"sigma\": bnn_params_s_442[\"sigma\"], \"cycle_len\": 5, \"beta\": 0.95}\n",
    "\n",
    "cv = StratifiedKFold(shuffle=True, random_state=seed)\n",
    "mixed_sgmcmc = MixedSGMCMC(seed=442, n_samples=1000, n_warmup=0,\n",
    "                           n_chains=1, layer_dims=[bnn_params_s_442[\"layer_dim\"]], **params)\n",
    "\n",
    "bnn_cv_score = np.mean(cross_val_score(mixed_sgmcmc, X_train, y_train, cv=cv,\n",
    "                                       fit_params={\"activation_fns\": [bnn_params_s_442[\"activation\"]],  \"J\": net}))\n",
    "\n",
    "print(bnn_cv_score)\n",
    "mixed_sgmcmc.fit(X_train, y_train, activation_fns=[bnn_params_s_442[\"activation\"]], J=net)\n",
    "\n",
    "print(mixed_sgmcmc.score(X_test, y_test))"
   ]
  },
  {
   "cell_type": "code",
   "execution_count": 51,
   "metadata": {
    "collapsed": false,
    "pycharm": {
     "name": "#%%\n"
    }
   },
   "outputs": [
    {
     "data": {
      "text/plain": [
       "45"
      ]
     },
     "execution_count": 51,
     "metadata": {},
     "output_type": "execute_result"
    }
   ],
   "source": [
    "len(mixed_sgmcmc.disc_states)"
   ]
  },
  {
   "cell_type": "code",
   "execution_count": 191,
   "metadata": {
    "collapsed": false,
    "pycharm": {
     "name": "#%%\n"
    }
   },
   "outputs": [
    {
     "data": {
      "text/plain": [
       "Text(0, 0.5, 'num features')"
      ]
     },
     "execution_count": 191,
     "metadata": {},
     "output_type": "execute_result"
    },
    {
     "data": {
      "image/png": "[encoded data removed]",
      "text/plain": [
       "<Figure size 864x288 with 2 Axes>"
      ]
     },
     "metadata": {
      "needs_background": "light"
     },
     "output_type": "display_data"
    }
   ],
   "source": [
    "gamma_means = jnp.mean(mixed_sgmcmc.states_.discrete_position, axis=0)\n",
    "bnn_disc_mean_s_442 = np.load(f\"{save_dir_500}/bnn_disc_mean_s_{seed}.npy\")\n",
    "\n",
    "fig, (ax1, ax2) = plt.subplots(1, 2, figsize=(12, 4))\n",
    "ax1.hist(bnn_disc_mean_s_442)\n",
    "ax1.set_xlabel(\"frequency\")\n",
    "ax1.set_ylabel(\"num features\")\n",
    "\n",
    "ax2.hist(gamma_means)\n",
    "ax2.set_xlabel(\"frequency\")\n",
    "ax2.set_ylabel(\"num features\")"
   ]
  },
  {
   "cell_type": "code",
   "execution_count": 195,
   "metadata": {
    "collapsed": false,
    "pycharm": {
     "name": "#%%\n"
    }
   },
   "outputs": [
    {
     "name": "stderr",
     "output_type": "stream",
     "text": [
      "/tmp/ipykernel_50/723526.py:7: DeprecationWarning: `np.float` is a deprecated alias for the builtin `float`. To silence this warning, use `float` by itself. Doing this will not modify any behavior and is safe. If you specifically wanted the numpy scalar type, use `np.float64` here.\n",
      "Deprecated in NumPy 1.20; for more details and guidance: https://numpy.org/devdocs/release/1.20.0-notes.html#deprecations\n",
      "  X, y = data_dfs[seed_idx].iloc[:,:-1].to_numpy().astype(np.float), \\\n",
      "/tmp/ipykernel_50/723526.py:8: DeprecationWarning: `np.float` is a deprecated alias for the builtin `float`. To silence this warning, use `float` by itself. Doing this will not modify any behavior and is safe. If you specifically wanted the numpy scalar type, use `np.float64` here.\n",
      "Deprecated in NumPy 1.20; for more details and guidance: https://numpy.org/devdocs/release/1.20.0-notes.html#deprecations\n",
      "  data_dfs[seed_idx].iloc[:,-1].to_numpy().astype(np.float)\n"
     ]
    },
    {
     "name": "stdout",
     "output_type": "stream",
     "text": [
      "{'C': 0.46415888336127775}\n"
     ]
    },
    {
     "name": "stderr",
     "output_type": "stream",
     "text": [
      "100%|██████████| 20/20 [00:21<00:00,  1.05s/it]\n"
     ]
    }
   ],
   "source": [
    "%autoreload\n",
    "from run_moses_cosmic_exp import run_logistc_regression\n",
    "from tqdm import tqdm\n",
    "\n",
    "seed_idx = 2\n",
    "seed = seeds[seed_idx]\n",
    "X, y = data_dfs[seed_idx].iloc[:,:-1].to_numpy().astype(np.float), \\\n",
    "       data_dfs[seed_idx].iloc[:,-1].to_numpy().astype(np.float)\n",
    "\n",
    "net = net_dfs[seed_idx].to_numpy()\n",
    "\n",
    "gamma_means_idx_s = np.argsort(gamma_means)[::-1]\n",
    "\n",
    "log_v_bnn_sel_fts_dict = {\"seed\": [], \"feat_sel\": [], \"num_feats\": [], \"cv_score\": [], \"test_score\": []}\n",
    "\n",
    "all_feats = np.arange(p - 1)\n",
    "\n",
    "feat_lens = [5, 10]\n",
    "\n",
    "X_train, X_test, y_train, y_test = train_test_split(X, y, random_state=seed, shuffle=True, stratify=y, test_size=0.3)\n",
    "\n",
    "\n",
    "cv = StratifiedKFold(random_state=seed, shuffle=True, n_splits=5)\n",
    "log_best_params, _, _ = run_logistc_regression(X_train, X_test, y_train, y_test, cv, verbose=0)\n",
    "print(log_best_params)\n",
    "log_clf = LogisticRegression(max_iter=10000, **log_best_params)\n",
    "log_clf.fit(X_train, y_train)\n",
    "\n",
    "log_coef = log_clf.coef_[0]\n",
    "\n",
    "log_coef_sorted = np.argsort(log_coef)[::-1]\n",
    "\n",
    "for seed in tqdm(seeds):\n",
    "\n",
    "    cv = StratifiedKFold(random_state=seed, shuffle=True, n_splits=5)\n",
    "\n",
    "    # print(gamma_means)\n",
    "\n",
    "    X_train, X_test, y_train, y_test = train_test_split(X, y, random_state=seed, shuffle=True, stratify=y, test_size=0.3)\n",
    "\n",
    "    rng_key = jax.random.PRNGKey(seed)\n",
    "\n",
    "    for ft_len in feat_lens:\n",
    "\n",
    "        log_sel_fts = log_coef_sorted[:ft_len]\n",
    "\n",
    "        X_train_log_sel, X_test_log_sel, = X_train[:,log_sel_fts], X_test[:,log_sel_fts]\n",
    "\n",
    "        _, log_cv_score, log_test_score = run_logistc_regression(X_train_log_sel, X_test_log_sel,\n",
    "                                                                 y_train, y_test, cv, verbose=0)\n",
    "\n",
    "        bnn_sel_fts = gamma_means_idx_s[:ft_len]\n",
    "\n",
    "        X_train_sel, X_test_sel = X_train[:,bnn_sel_fts], X_test[:,bnn_sel_fts]\n",
    "\n",
    "        _, bnn_cv_score, bnn_test_score = run_logistc_regression(X_train_sel, X_test_sel,\n",
    "                                                                 y_train, y_test, cv, verbose=0)\n",
    "\n",
    "\n",
    "        log_v_bnn_sel_fts_dict[\"seed\"].append(seed)\n",
    "        log_v_bnn_sel_fts_dict[\"feat_sel\"].append(\"lr\")\n",
    "        log_v_bnn_sel_fts_dict[\"num_feats\"].append(ft_len)\n",
    "        # log_v_bnn_sel_fts_dict[\"kernel\"].append(svm_log_params[\"kernel\"])\n",
    "        log_v_bnn_sel_fts_dict[\"cv_score\"].append(log_cv_score)\n",
    "        log_v_bnn_sel_fts_dict[\"test_score\"].append(log_test_score)\n",
    "\n",
    "        log_v_bnn_sel_fts_dict[\"seed\"].append(seed)\n",
    "        log_v_bnn_sel_fts_dict[\"feat_sel\"].append(\"bnn\")\n",
    "        log_v_bnn_sel_fts_dict[\"num_feats\"].append(ft_len)\n",
    "        # log_v_bnn_sel_fts_dict[\"kernel\"].append(svm_bnn_params[\"kernel\"])\n",
    "        log_v_bnn_sel_fts_dict[\"cv_score\"].append(bnn_cv_score)\n",
    "        log_v_bnn_sel_fts_dict[\"test_score\"].append(bnn_test_score)\n",
    "\n",
    "\n",
    "log_v_bnn_sel_fts_df = pd.DataFrame(log_v_bnn_sel_fts_dict)"
   ]
  },
  {
   "cell_type": "code",
   "execution_count": 196,
   "metadata": {
    "collapsed": false,
    "pycharm": {
     "name": "#%%\n"
    }
   },
   "outputs": [
    {
     "data": {
      "text/html": [
       "<div>\n",
       "<style scoped>\n",
       "    .dataframe tbody tr th:only-of-type {\n",
       "        vertical-align: middle;\n",
       "    }\n",
       "\n",
       "    .dataframe tbody tr th {\n",
       "        vertical-align: top;\n",
       "    }\n",
       "\n",
       "    .dataframe thead th {\n",
       "        text-align: right;\n",
       "    }\n",
       "</style>\n",
       "<table border=\"1\" class=\"dataframe\">\n",
       "  <thead>\n",
       "    <tr style=\"text-align: right;\">\n",
       "      <th></th>\n",
       "      <th></th>\n",
       "      <th>cv_score</th>\n",
       "      <th>test_score</th>\n",
       "    </tr>\n",
       "    <tr>\n",
       "      <th>feat_sel</th>\n",
       "      <th>num_feats</th>\n",
       "      <th></th>\n",
       "      <th></th>\n",
       "    </tr>\n",
       "  </thead>\n",
       "  <tbody>\n",
       "    <tr>\n",
       "      <th rowspan=\"2\" valign=\"top\">bnn</th>\n",
       "      <th>5</th>\n",
       "      <td>0.513978</td>\n",
       "      <td>0.526661</td>\n",
       "    </tr>\n",
       "    <tr>\n",
       "      <th>10</th>\n",
       "      <td>0.615466</td>\n",
       "      <td>0.612497</td>\n",
       "    </tr>\n",
       "    <tr>\n",
       "      <th rowspan=\"2\" valign=\"top\">lr</th>\n",
       "      <th>5</th>\n",
       "      <td>0.655775</td>\n",
       "      <td>0.642661</td>\n",
       "    </tr>\n",
       "    <tr>\n",
       "      <th>10</th>\n",
       "      <td>0.657482</td>\n",
       "      <td>0.651044</td>\n",
       "    </tr>\n",
       "  </tbody>\n",
       "</table>\n",
       "</div>"
      ],
      "text/plain": [
       "                    cv_score  test_score\n",
       "feat_sel num_feats                      \n",
       "bnn      5          0.513978    0.526661\n",
       "         10         0.615466    0.612497\n",
       "lr       5          0.655775    0.642661\n",
       "         10         0.657482    0.651044"
      ]
     },
     "execution_count": 196,
     "metadata": {},
     "output_type": "execute_result"
    }
   ],
   "source": [
    "log_v_bnn_sel_fts_df.groupby([\"feat_sel\", \"num_feats\"])[[\"cv_score\", \"test_score\"]].mean()"
   ]
  },
  {
   "cell_type": "code",
   "execution_count": null,
   "metadata": {
    "collapsed": false,
    "pycharm": {
     "name": "#%%\n"
    }
   },
   "outputs": [],
   "source": []
  }
 ],
 "metadata": {
  "kernelspec": {
   "display_name": "Python 3 (ipykernel)",
   "language": "python",
   "name": "python3"
  }
 },
 "nbformat": 4,
 "nbformat_minor": 0
}