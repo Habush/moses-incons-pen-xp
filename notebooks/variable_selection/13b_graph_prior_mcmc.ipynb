{
 "cells": [
  {
   "cell_type": "code",
   "execution_count": 1,
   "outputs": [
    {
     "name": "stdout",
     "output_type": "stream",
     "text": [
      "/home/xabush/code/snet/moses-incons-pen-xp\n"
     ]
    }
   ],
   "source": [
    "%cd \"~/code/snet/moses-incons-pen-xp\"\n",
    "%load_ext autoreload\n",
    "%autoreload"
   ],
   "metadata": {
    "collapsed": false,
    "pycharm": {
     "name": "#%%\n"
    }
   }
  },
  {
   "cell_type": "code",
   "execution_count": 2,
   "outputs": [],
   "source": [
    "import numpy as np\n",
    "import jax\n",
    "import jax.random as rng\n",
    "import jax.numpy as jnp\n",
    "import numpyro as npyro\n",
    "import matplotlib.pyplot as plt\n",
    "import seaborn as sns\n",
    "import pandas as pd\n",
    "import pymc3 as pm\n",
    "import scipy.stats as stats\n",
    "import daft\n",
    "import arviz as az\n",
    "import scipy\n",
    "import scipy.stats as st\n",
    "from sklearn.metrics import mutual_info_score\n",
    "from sklearn.model_selection import train_test_split\n",
    "from notebooks.variable_selection.MosesEstimator import *\n",
    "from scripts.samplers import *\n",
    "import warnings\n",
    "warnings.filterwarnings('ignore')"
   ],
   "metadata": {
    "collapsed": false,
    "pycharm": {
     "name": "#%%\n"
    }
   }
  },
  {
   "cell_type": "code",
   "execution_count": 3,
   "outputs": [],
   "source": [
    "### Python version of Jonathan's code to generate synth network\n",
    "def gen_synth_net(num_feats, p=0.3):\n",
    "    J = np.zeros((num_feats, num_feats))\n",
    "    for i in range(num_feats):\n",
    "        for j in range(i+1, num_feats):\n",
    "            u = np.random.uniform()\n",
    "            if u < p:\n",
    "                r = st.halfnorm().rvs()\n",
    "                # r = 1\n",
    "                J[i, j] = r\n",
    "                J[j, i] = r\n",
    "\n",
    "    return J\n",
    "\n",
    "def samples_to_feats(samples):\n",
    "    feats = []\n",
    "    for i in range(samples.shape[0]):\n",
    "        feat_idx = list(np.nonzero(samples[i])[0])\n",
    "        if len(feat_idx) == 0 or feat_idx in feats: continue\n",
    "        feats.append(feat_idx)\n",
    "    return feats\n",
    "\n",
    "def rank_by_mi(samples, J, X, Y, eta=1.0, B=1.0):\n",
    "    samples_c = samples.reshape((samples.shape[0]*samples.shape[1], samples.shape[2]))\n",
    "    samples_unq = np.unique(samples_c, axis=0)\n",
    "    energy_vals = [bmm_energy(samples_unq[i], J, eta=eta) for i in range(samples_unq.shape[0])]\n",
    "    feats = samples_to_feats(samples_unq)\n",
    "    mi_scores = []\n",
    "    for eng, feat in zip(energy_vals, feats):\n",
    "        s_score = 0.0\n",
    "        for f in feat:\n",
    "            mi = mutual_info_score(Y, X[:,f])\n",
    "            s_score += mi\n",
    "\n",
    "        mi_scores.append(s_score - B*eng)\n",
    "\n",
    "    idxs = np.argsort(np.array(mi_scores))[::-1]\n",
    "    feats = list(np.array(feats)[idxs])\n",
    "\n",
    "    return feats, np.sort(np.array(mi_scores))[::-1]\n",
    "\n",
    "def rank_by_cond_prob(samples, J, X_train, y_train, energy_fn, eta=1.0):\n",
    "    samples_c = samples.reshape((samples.shape[0]*samples.shape[1], samples.shape[2]))\n",
    "    samples_unq = np.unique(samples_c, axis=0)\n",
    "    prob_vals = [np.exp(-energy_fn(samples_unq[i], J, X=X_train, Y=y_train, eta=eta)) for i in range(samples_unq.shape[0])]\n",
    "    idx = np.argsort(np.array(prob_vals))[::-1]\n",
    "    samples_unq = samples_unq[idx]\n",
    "    feats = samples_to_feats(samples_unq)\n",
    "    return feats\n",
    "\n",
    "def get_rand_feats(p, n=100):\n",
    "    feats = []\n",
    "    for i in range(n):\n",
    "        idx = np.random.randint(0, 2, size=p)\n",
    "        feats.append(list(np.nonzero(idx)[0]))\n",
    "\n",
    "    return feats\n",
    "\n",
    "def plot_energy_model(J, net_energy, net_spins, samples, energy_fn, X=None, Y=None, eta=1.0):\n",
    "    chains, num_samples, n_dim = samples.shape\n",
    "    samples = samples.reshape((chains*num_samples, n_dim))\n",
    "    energy_vals = [energy_fn(samples[i], J, X, Y, eta=eta) for i in range(samples.shape[0])]\n",
    "    prob_vals = [np.exp(-e) for e in energy_vals]\n",
    "    fig, ax = plt.subplots(2, 2, figsize=(24, 18))\n",
    "    s = np.arange(1, net_energy.shape[1] + 1)\n",
    "    t = np.arange(1, samples.shape[0] + 1)\n",
    "    for i in range(net_energy.shape[0]):\n",
    "        ax[0, 0].plot(s, net_energy[i])\n",
    "        ax[1, 0].plot(s, net_spins[i])\n",
    "\n",
    "    ax[0, 1].plot(t, energy_vals)\n",
    "    ax[1, 1].plot(t, prob_vals)\n",
    "\n",
    "    ax[0, 0].set(title=\"Net Energy over Time\", xlabel=\"Time\", ylabel=\"$E(\\gamma)$\")\n",
    "    ax[1, 0].set(title=\"Net spins over Time\", xlabel=\"Time\", ylabel=\"Sping\")\n",
    "    ax[0, 1].set(title=\"Energy for 10000 samples\", xlabel=\"i\", ylabel=\"$E(\\gamma)$\")\n",
    "    ax[1, 1].set(title=\"Probability for 10000 samples\", xlabel=\"i\", ylabel=\"$p(\\gamma)$\")\n",
    "\n",
    "    return energy_vals, prob_vals\n",
    "\n",
    "def logistic(x):\n",
    "    return 1/(1 + jnp.exp(-x))\n",
    "\n",
    "def jax_prng_key():\n",
    "    return jax.random.PRNGKey(np.random.randint(int(1e5)))\n",
    "\n",
    "def hamm(a,b):\n",
    "    return len(np.nonzero(a != b)[0])\n",
    "\n",
    "\n",
    "def generate_potential_energy_fn(X, y, J, sigma, mu):\n",
    "    X = jax.device_put(X)\n",
    "    y = jax.device_put(y)\n",
    "    J = jax.device_put(J)\n",
    "    mu = jax.device_put(mu)\n",
    "    # sigma = jax.device_put(sigma)\n",
    "    beta_dist = distrax.MultivariateNormalFullCovariance(sigma)\n",
    "    def potential_energy(gamma, beta):\n",
    "        gamma_f = gamma.astype(jnp.float32)\n",
    "        # beta_prior_potential = jnp.sum(\n",
    "        #     0.5 * jnp.log(2 * jnp.pi * sigma ** 2) + 0.5 * beta ** 2 / sigma ** 2\n",
    "        # )\n",
    "        beta_prior_potential = beta_dist.log_prob(beta)\n",
    "        probs = 1 / (\n",
    "                1 + jnp.exp(-jnp.dot(jnp.dot(X, jnp.diag(gamma_f)), beta))\n",
    "        )\n",
    "        likelihood_potential = -jnp.sum(\n",
    "            y * jnp.log(probs + 1e-12) + (1 - y) * jnp.log(1 - probs + 1e-12)\n",
    "        )\n",
    "\n",
    "        gamma_potential = -0.5*jnp.dot(jnp.dot(gamma_f.T, J), gamma_f) + mu*jnp.sum(gamma_f)\n",
    "\n",
    "        return beta_prior_potential + likelihood_potential + gamma_potential\n",
    "\n",
    "    return potential_energy\n",
    "\n",
    "def is_related_to_causal(J, causal_feats):\n",
    "    s = J.shape[0]\n",
    "    r = np.zeros(s, dtype=np.int)\n",
    "    for i in range(s):\n",
    "        for f in causal_feats:\n",
    "            if i == f or J[i, f] != 0: r[i] = 1\n",
    "\n",
    "    return r"
   ],
   "metadata": {
    "collapsed": false,
    "pycharm": {
     "name": "#%%\n"
    }
   }
  },
  {
   "cell_type": "code",
   "execution_count": 4,
   "outputs": [
    {
     "name": "stdout",
     "output_type": "stream",
     "text": [
      "seeds - [82, 91, 13, 92, 64, 10, 28, 55, 96, 97]\n",
      "causal feats for seed - 13 - [75 65 51 89 17] , base auc - 0.69\n"
     ]
    }
   ],
   "source": [
    "from notebooks.variable_selection.util import load_bmm_files\n",
    "seeds, data_dfs, net_dfs, feats = load_bmm_files(\"data/bmm_data_thr_2_new/\")\n",
    "print(f\"seeds - {seeds}\")\n",
    "seed_idx = 2\n",
    "np.random.seed(seeds[seed_idx])\n",
    "J = net_dfs[seed_idx].to_numpy()\n",
    "J_pos = np.abs(net_dfs[seed_idx].to_numpy())\n",
    "J_pos[J_pos > 0.0] = 1.0\n",
    "L = scipy.sparse.csgraph.laplacian(J_pos, normed=True)\n",
    "# L = torch.from_numpy(L)\n",
    "df = data_dfs[seed_idx]\n",
    "X, y = df[df.columns.difference([\"y\"])].to_numpy().astype(np.float_), df[\"y\"].to_numpy().astype(np.float_)\n",
    "p = X.shape[1]\n",
    "X_train, X_test, y_train, y_test = train_test_split(X, y, random_state=seeds[seed_idx], shuffle=True, stratify=y)\n",
    "key = rng.PRNGKey(seed_idx)\n",
    "base_auc = []\n",
    "with open(\"data/bmm_data_thr_2_new/base_auc.txt\", \"r\") as fp:\n",
    "    base_auc = [float(i) for i in fp.readline().strip().split(',')]\n",
    "\n",
    "X_train_ord, X_test_ord, y_train_ord, y_test_ord = X[:800], X[800:1000], y[:800], y[800:1000]\n",
    "# X_test, y_test = X_test.to_numpy(), y_test.to_numpy()\n",
    "print(f\"causal feats for seed - {seeds[seed_idx]} - {np.array(feats[seed_idx]) - 1} , base auc - {base_auc[seed_idx]:.2f}\")"
   ],
   "metadata": {
    "collapsed": false,
    "pycharm": {
     "name": "#%%\n"
    }
   }
  },
  {
   "cell_type": "code",
   "execution_count": 5,
   "outputs": [
    {
     "name": "stderr",
     "output_type": "stream",
     "text": [
      "sample: 100%|████████████████████████████████████████████████| 1300/1300 [04:35<00:00,  4.72it/s, 1081 steps of size 6.09e-03. acc. prob=0.95]\n",
      "sample: 100%|████████████████████████████████████████████████| 1300/1300 [04:32<00:00,  4.77it/s, 1114 steps of size 5.92e-03. acc. prob=0.95]\n",
      "sample: 100%|████████████████████████████████████████████████| 1300/1300 [04:51<00:00,  4.46it/s, 1241 steps of size 5.28e-03. acc. prob=0.96]\n"
     ]
    }
   ],
   "source": [
    "from numpyro.infer import MCMC, MixedHMC, HMC\n",
    "import numpyro.distributions as dist\n",
    "\n",
    "def gamma_energy(gamma, J, eta, mu):\n",
    "    return 0.5*eta*jnp.dot(jnp.dot(gamma.T, J), gamma) - mu*jnp.sum(gamma)\n",
    "\n",
    "def model(X, y, sigma, J, eta=1.0, mu=1.0):\n",
    "    L = np.linalg.cholesky(sigma)\n",
    "    z = npyro.sample('z', dist.Normal(np.zeros(p), 1))\n",
    "    beta = npyro.deterministic('beta', L @ z)\n",
    "    # beta = npyro.sample('beta', dist.MultivariateNormal(0, sigma))\n",
    "    gamma = npyro.sample('gamma', dist.Bernoulli(np.full(X.shape[1], 0.5)))\n",
    "    npyro.factor('gamma_lgp', gamma_energy(gamma, J, eta, mu))\n",
    "    prob = npyro.deterministic(\"prob\", jnp.dot(X, (beta * gamma)))\n",
    "    # print(f\"Probs: {prob.shape}\")\n",
    "    likelihood = npyro.sample(\"y\", dist.Bernoulli(logits=prob),\n",
    "                              obs=y)\n",
    "\n",
    "# sigma = 0.3 * np.ones((p, p))\n",
    "# np.fill_diagonal(sigma, 25)\n",
    "#\n",
    "kernel = MixedHMC(HMC(model), random_walk=False)\n",
    "mcmc = MCMC(kernel, num_warmup=300, num_samples=1000, num_chains=3, progress_bar=True)\n",
    "mcmc.run(key, X_train, y_train, 25*np.identity(p), J, 1.0, 1.0)"
   ],
   "metadata": {
    "collapsed": false,
    "pycharm": {
     "name": "#%%\n"
    }
   }
  },
  {
   "cell_type": "code",
   "execution_count": 7,
   "outputs": [
    {
     "data": {
      "text/plain": "array([[<AxesSubplot:title={'center':'beta'}>,\n        <AxesSubplot:title={'center':'beta'}>]], dtype=object)"
     },
     "execution_count": 7,
     "metadata": {},
     "output_type": "execute_result"
    },
    {
     "data": {
      "text/plain": "<Figure size 864x144 with 2 Axes>",
      "image/png": "[encoded data removed]"
     },
     "metadata": {
      "needs_background": "light"
     },
     "output_type": "display_data"
    }
   ],
   "source": [
    "import arviz as az\n",
    "infr_data = az.from_numpyro(mcmc)\n",
    "az.plot_trace(infr_data, var_names=[\"beta\"])"
   ],
   "metadata": {
    "collapsed": false,
    "pycharm": {
     "name": "#%%\n"
    }
   }
  },
  {
   "cell_type": "code",
   "execution_count": 8,
   "outputs": [
    {
     "name": "stdout",
     "output_type": "stream",
     "text": [
      "\n",
      "                mean       std    median      5.0%     95.0%     n_eff     r_hat\n",
      "  gamma[0]      1.00      0.00      1.00      1.00      1.00       nan       nan\n",
      "  gamma[1]      0.00      0.06      0.00      0.00      0.00       nan      1.01\n",
      "  gamma[2]      0.98      0.15      1.00      1.00      1.00    843.72      1.00\n",
      "  gamma[3]      0.01      0.09      0.00      0.00      0.00       nan      1.03\n",
      "  gamma[4]      0.76      0.43      1.00      0.00      1.00     23.84      1.17\n",
      "  gamma[5]      0.86      0.35      1.00      0.00      1.00    213.83      1.02\n",
      "  gamma[6]      0.29      0.45      0.00      0.00      1.00     73.25      1.02\n",
      "  gamma[7]      0.52      0.50      1.00      0.00      1.00     14.64      1.17\n",
      "  gamma[8]      0.01      0.12      0.00      0.00      0.00    970.60      1.00\n",
      "  gamma[9]      1.00      0.00      1.00      1.00      1.00       nan       nan\n",
      " gamma[10]      0.97      0.18      1.00      1.00      1.00       nan      1.02\n",
      " gamma[11]      0.99      0.09      1.00      1.00      1.00   1492.19      1.00\n",
      " gamma[12]      0.00      0.06      0.00      0.00      0.00       nan      1.00\n",
      " gamma[13]      0.31      0.46      0.00      0.00      1.00    119.01      1.05\n",
      " gamma[14]      1.00      0.00      1.00      1.00      1.00       nan       nan\n",
      " gamma[15]      0.07      0.26      0.00      0.00      0.00    395.08      1.00\n",
      " gamma[16]      0.96      0.19      1.00      1.00      1.00       nan      1.04\n",
      " gamma[17]      1.00      0.00      1.00      1.00      1.00       nan       nan\n",
      " gamma[18]      0.00      0.00      0.00      0.00      0.00       nan       nan\n",
      " gamma[19]      0.12      0.33      0.00      0.00      1.00    926.82      1.00\n",
      " gamma[20]      0.91      0.29      1.00      1.00      1.00     36.97      1.10\n",
      " gamma[21]      0.70      0.46      1.00      0.00      1.00    134.36      1.01\n",
      " gamma[22]      0.85      0.36      1.00      0.00      1.00     37.36      1.09\n",
      " gamma[23]      1.00      0.00      1.00      1.00      1.00       nan       nan\n",
      " gamma[24]      1.00      0.00      1.00      1.00      1.00       nan       nan\n",
      " gamma[25]      0.00      0.00      0.00      0.00      0.00       nan       nan\n",
      " gamma[26]      0.00      0.04      0.00      0.00      0.00       nan      1.00\n",
      " gamma[27]      0.99      0.07      1.00      1.00      1.00    546.08      1.00\n",
      " gamma[28]      0.98      0.12      1.00      1.00      1.00    242.55      1.01\n",
      " gamma[29]      0.95      0.21      1.00      1.00      1.00    148.79      1.04\n",
      " gamma[30]      0.26      0.44      0.00      0.00      1.00     52.18      1.06\n",
      " gamma[31]      0.28      0.45      0.00      0.00      1.00     43.03      1.11\n",
      " gamma[32]      0.04      0.20      0.00      0.00      0.00     91.87      1.02\n",
      " gamma[33]      0.20      0.40      0.00      0.00      1.00     74.35      1.03\n",
      " gamma[34]      0.76      0.43      1.00      0.00      1.00     43.00      1.09\n",
      " gamma[35]      1.00      0.04      1.00      1.00      1.00       nan      1.00\n",
      " gamma[36]      1.00      0.06      1.00      1.00      1.00       nan      1.01\n",
      " gamma[37]      1.00      0.00      1.00      1.00      1.00       nan       nan\n",
      " gamma[38]      0.69      0.46      1.00      0.00      1.00    318.00      1.01\n",
      " gamma[39]      1.00      0.00      1.00      1.00      1.00       nan       nan\n",
      " gamma[40]      0.52      0.50      1.00      0.00      1.00     59.72      1.02\n",
      " gamma[41]      0.99      0.08      1.00      1.00      1.00    398.04      1.00\n",
      " gamma[42]      0.00      0.05      0.00      0.00      0.00       nan      1.00\n",
      " gamma[43]      0.94      0.24      1.00      1.00      1.00    107.73      1.03\n",
      " gamma[44]      0.98      0.13      1.00      1.00      1.00   2603.05      1.00\n",
      " gamma[45]      0.02      0.15      0.00      0.00      0.00   1263.76      1.00\n",
      " gamma[46]      0.82      0.38      1.00      0.00      1.00    192.82      1.03\n",
      " gamma[47]      0.74      0.44      1.00      0.00      1.00    237.17      1.03\n",
      " gamma[48]      0.00      0.03      0.00      0.00      0.00       nan      1.00\n",
      " gamma[49]      0.04      0.20      0.00      0.00      0.00   1071.07      1.00\n",
      " gamma[50]      0.01      0.09      0.00      0.00      0.00    250.11      1.01\n",
      " gamma[51]      0.00      0.02      0.00      0.00      0.00       nan      1.00\n",
      " gamma[52]      0.01      0.08      0.00      0.00      0.00       nan      1.02\n",
      " gamma[53]      0.87      0.33      1.00      0.00      1.00     87.36      1.04\n",
      " gamma[54]      1.00      0.02      1.00      1.00      1.00       nan      1.00\n",
      " gamma[55]      0.96      0.20      1.00      1.00      1.00     55.53      1.04\n",
      " gamma[56]      0.70      0.46      1.00      0.00      1.00     26.76      1.15\n",
      " gamma[57]      0.04      0.19      0.00      0.00      0.00    212.23      1.02\n",
      " gamma[58]      1.00      0.06      1.00      1.00      1.00       nan      1.00\n",
      " gamma[59]      0.74      0.44      1.00      0.00      1.00     30.10      1.13\n",
      " gamma[60]      0.20      0.40      0.00      0.00      1.00    146.35      1.01\n",
      " gamma[61]      0.98      0.13      1.00      1.00      1.00       nan      1.02\n",
      " gamma[62]      0.10      0.30      0.00      0.00      0.00     39.68      1.08\n",
      " gamma[63]      1.00      0.00      1.00      1.00      1.00       nan       nan\n",
      " gamma[64]      0.52      0.50      1.00      0.00      1.00    112.15      1.01\n",
      " gamma[65]      0.04      0.20      0.00      0.00      0.00    667.77      1.00\n",
      " gamma[66]      0.36      0.48      0.00      0.00      1.00    138.22      1.03\n",
      " gamma[67]      0.10      0.30      0.00      0.00      1.00    177.75      1.01\n",
      " gamma[68]      0.99      0.11      1.00      1.00      1.00       nan      1.01\n",
      " gamma[69]      0.76      0.42      1.00      0.00      1.00     39.14      1.07\n",
      " gamma[70]      0.93      0.25      1.00      1.00      1.00     94.31      1.03\n",
      " gamma[71]      0.94      0.24      1.00      1.00      1.00     82.25      1.02\n",
      " gamma[72]      0.14      0.35      0.00      0.00      1.00    378.30      1.00\n",
      " gamma[73]      0.42      0.49      0.00      0.00      1.00     44.41      1.05\n",
      " gamma[74]      0.07      0.26      0.00      0.00      0.00     60.68      1.06\n",
      " gamma[75]      0.94      0.24      1.00      1.00      1.00     93.51      1.02\n",
      " gamma[76]      0.97      0.18      1.00      1.00      1.00   1255.36      1.01\n",
      " gamma[77]      0.00      0.00      0.00      0.00      0.00       nan       nan\n",
      " gamma[78]      0.27      0.45      0.00      0.00      1.00    178.93      1.03\n",
      " gamma[79]      0.02      0.15      0.00      0.00      0.00   1043.56      1.00\n",
      " gamma[80]      0.98      0.12      1.00      1.00      1.00       nan      1.02\n",
      " gamma[81]      0.98      0.14      1.00      1.00      1.00       nan      1.03\n",
      " gamma[82]      0.02      0.13      0.00      0.00      0.00    975.57      1.00\n",
      " gamma[83]      0.75      0.43      1.00      0.00      1.00     54.60      1.03\n",
      " gamma[84]      0.99      0.10      1.00      1.00      1.00       nan      1.01\n",
      " gamma[85]      0.52      0.50      1.00      0.00      1.00     42.72      1.10\n",
      " gamma[86]      0.00      0.04      0.00      0.00      0.00       nan      1.00\n",
      " gamma[87]      0.32      0.47      0.00      0.00      1.00    127.43      1.01\n",
      " gamma[88]      0.74      0.44      1.00      0.00      1.00     39.77      1.07\n",
      " gamma[89]      1.00      0.00      1.00      1.00      1.00       nan       nan\n",
      " gamma[90]      1.00      0.00      1.00      1.00      1.00       nan       nan\n",
      " gamma[91]      0.99      0.12      1.00      1.00      1.00       nan      1.02\n",
      " gamma[92]      0.88      0.33      1.00      0.00      1.00     86.34      1.04\n",
      " gamma[93]      0.05      0.22      0.00      0.00      0.00    164.19      1.01\n",
      " gamma[94]      0.07      0.26      0.00      0.00      0.00    933.46      1.00\n",
      " gamma[95]      0.07      0.25      0.00      0.00      0.00    243.58      1.01\n",
      " gamma[96]      0.80      0.40      1.00      0.00      1.00    134.59      1.02\n",
      " gamma[97]      0.04      0.19      0.00      0.00      0.00       nan      1.14\n",
      " gamma[98]      1.00      0.04      1.00      1.00      1.00       nan      1.00\n",
      " gamma[99]      0.01      0.07      0.00      0.00      0.00       nan      1.01\n",
      "      z[0]      0.32      0.97      0.31     -1.28      1.90    221.91      1.02\n",
      "      z[1]      0.21      0.87      0.33     -1.30      1.49     32.71      1.11\n",
      "      z[2]      0.13      0.33      0.11     -0.34      0.64    717.03      1.00\n",
      "      z[3]      0.32      1.01      0.41     -1.27      1.96      9.69      1.15\n",
      "      z[4]      0.59      0.65      0.74     -0.39      1.50     61.36      1.06\n",
      "      z[5]     -0.21      0.40     -0.27     -0.66      0.22    326.85      1.01\n",
      "      z[6]     -0.09      0.82     -0.12     -1.49      1.34    182.27      1.01\n",
      "      z[7]      0.15      1.03      0.19     -1.57      1.80    776.08      1.00\n",
      "      z[8]      0.01      0.92      0.02     -1.50      1.48    936.74      1.00\n",
      "      z[9]     -0.58      0.58     -0.50     -1.42      0.40    682.42      1.00\n",
      "     z[10]      0.37      0.97      0.37     -1.20      2.04    160.02      1.03\n",
      "     z[11]      0.53      0.72      0.46     -0.63      1.69    216.92      1.02\n",
      "     z[12]      0.18      0.93      0.20     -1.36      1.67    218.21      1.02\n",
      "     z[13]      0.04      0.74      0.08     -1.18      1.41     82.83      1.02\n",
      "     z[14]     -0.98      0.51     -0.91     -1.79     -0.17    364.00      1.00\n",
      "     z[15]     -0.04      1.02      0.00     -1.71      1.64     67.83      1.11\n",
      "     z[16]      0.50      0.28      0.52      0.20      0.89    227.98      1.01\n",
      "     z[17]      0.48      0.92      0.53     -0.95      2.00     44.51      1.07\n",
      "     z[18]      0.01      1.05      0.03     -1.80      1.59     50.75      1.08\n",
      "     z[19]      0.06      1.01      0.02     -1.63      1.65    427.41      1.01\n",
      "     z[20]      0.40      0.38      0.41      0.06      0.88    813.35      1.00\n",
      "     z[21]     -0.19      0.64     -0.21     -1.26      0.90   1538.65      1.00\n",
      "     z[22]     -0.46      0.75     -0.41     -1.69      0.60    436.43      1.01\n",
      "     z[23]     -0.20      0.73     -0.13     -1.35      0.96    259.00      1.01\n",
      "     z[24]      0.41      1.01      0.46     -1.33      1.98    293.28      1.01\n",
      "     z[25]     -0.25      0.97     -0.26     -1.96      1.14     22.23      1.09\n",
      "     z[26]     -0.20      0.95     -0.20     -1.85      1.39     80.53      1.05\n",
      "     z[27]      0.17      0.15      0.16     -0.05      0.38   2180.01      1.00\n",
      "     z[28]     -0.06      0.16     -0.06     -0.21      0.09    443.78      1.01\n",
      "     z[29]     -0.50      0.61     -0.43     -1.42      0.44    207.93      1.01\n",
      "     z[30]      0.18      1.00      0.10     -1.29      1.94     17.52      1.19\n",
      "     z[31]     -0.08      0.95     -0.14     -1.65      1.49    135.07      1.02\n",
      "     z[32]     -0.03      0.99     -0.03     -1.73      1.51   1311.14      1.00\n",
      "     z[33]     -0.10      0.87     -0.21     -1.38      1.56   1016.07      1.00\n",
      "     z[34]     -0.05      0.54     -0.08     -0.82      0.85    361.40      1.00\n",
      "     z[35]      0.20      1.02      0.25     -1.55      1.89     24.34      1.16\n",
      "     z[36]      0.12      0.10      0.11     -0.03      0.28    355.37      1.01\n",
      "     z[37]     -0.65      0.57     -0.56     -1.57      0.19    337.32      1.01\n",
      "     z[38]     -0.25      0.65     -0.33     -1.22      0.85   1640.03      1.00\n",
      "     z[39]     -0.11      0.77     -0.06     -1.36      1.14    861.54      1.00\n",
      "     z[40]      0.32      0.94      0.29     -1.09      2.04     65.39      1.01\n",
      "     z[41]     -0.42      0.19     -0.42     -0.71     -0.16    524.22      1.01\n",
      "     z[42]      0.01      1.02      0.02     -1.73      1.61    342.17      1.02\n",
      "     z[43]     -0.17      0.35     -0.18     -0.60      0.18    282.91      1.01\n",
      "     z[44]      0.33      0.80      0.25     -0.87      1.67     95.37      1.02\n",
      "     z[45]     -0.14      0.97     -0.13     -1.58      1.60    145.95      1.03\n",
      "     z[46]     -0.01      0.42     -0.02     -0.46      0.57   1466.23      1.00\n",
      "     z[47]     -0.12      0.57     -0.17     -0.84      0.94   3474.38      1.00\n",
      "     z[48]     -0.04      0.98     -0.04     -1.63      1.58   1002.78      1.01\n",
      "     z[49]     -0.01      0.97      0.01     -1.53      1.66    186.46      1.01\n",
      "     z[50]      0.26      1.03     -0.02     -1.04      1.86     21.97      1.14\n",
      "     z[51]      0.06      1.00      0.04     -1.70      1.65     27.26      1.09\n",
      "     z[52]     -0.29      1.05     -0.43     -1.67      1.28      3.02      1.48\n",
      "     z[53]      0.07      0.38      0.08     -0.22      0.40    204.93      1.02\n",
      "     z[54]      0.16      0.13      0.15     -0.04      0.38    403.14      1.01\n",
      "     z[55]     -0.64      0.68     -0.58     -1.62      0.37    432.73      1.01\n",
      "     z[56]     -0.40      0.76     -0.39     -1.89      0.70    179.36      1.03\n",
      "     z[57]      0.00      1.00      0.03     -1.64      1.64   4752.07      1.00\n",
      "     z[58]      0.44      0.16      0.45      0.20      0.72    493.84      1.01\n",
      "     z[59]      0.28      0.99      0.27     -1.28      1.96    616.91      1.01\n",
      "     z[60]     -0.11      0.89     -0.05     -1.62      1.40    111.73      1.03\n",
      "     z[61]      0.06      0.18      0.06     -0.13      0.24    341.37      1.01\n",
      "     z[62]      0.05      1.01     -0.05     -1.57      1.71    104.89      1.02\n",
      "     z[63]      0.53      0.12      0.53      0.35      0.74    384.79      1.01\n",
      "     z[64]     -0.05      0.68     -0.05     -1.29      1.16    704.05      1.00\n",
      "     z[65]      0.01      0.93     -0.02     -1.75      1.36    122.16      1.04\n",
      "     z[66]      0.11      0.78      0.15     -1.28      1.42    480.49      1.00\n",
      "     z[67]     -0.13      0.97     -0.21     -1.88      1.35    165.49      1.02\n",
      "     z[68]     -0.30      0.18     -0.30     -0.54     -0.06    305.21      1.01\n",
      "     z[69]      0.30      0.93      0.34     -1.29      1.79    101.71      1.02\n",
      "     z[70]      0.29      0.94      0.27     -1.12      1.87    115.45      1.02\n",
      "     z[71]     -0.08      0.31     -0.09     -0.37      0.17    381.63      1.00\n",
      "     z[72]      0.00      0.92     -0.02     -1.45      1.59    430.89      1.00\n",
      "     z[73]     -0.07      0.88     -0.20     -1.05      2.16    491.65      1.00\n",
      "     z[74]      0.23      0.90      0.27     -1.12      1.82    132.38      1.04\n",
      "     z[75]      0.11      0.85      0.14     -1.24      1.51    844.83      1.00\n",
      "     z[76]     -0.12      0.97     -0.10     -1.71      1.42    204.65      1.01\n",
      "     z[77]      0.09      0.87      0.15     -1.44      1.66    401.76      1.01\n",
      "     z[78]      0.01      0.81      0.02     -1.27      1.54  19246.31      1.00\n",
      "     z[79]      0.08      1.08      0.05     -1.75      1.74     40.40      1.08\n",
      "     z[80]      0.18      0.89      0.20     -1.34      1.53     39.76      1.07\n",
      "     z[81]      0.30      0.99      0.28     -1.31      1.91     33.32      1.06\n",
      "     z[82]      0.08      1.00      0.08     -1.55      1.70    364.66      1.01\n",
      "     z[83]     -0.10      0.58     -0.08     -1.13      0.65   1229.72      1.00\n",
      "     z[84]      0.33      0.99      0.37     -1.20      2.03     40.80      1.08\n",
      "     z[85]      0.03      0.66      0.07     -1.19      1.12   4499.55      1.00\n",
      "     z[86]      0.06      0.91      0.27     -1.47      1.52     91.13      1.05\n",
      "     z[87]      0.02      0.78      0.13     -1.26      1.36    241.41      1.01\n",
      "     z[88]      0.20      0.53      0.20     -0.70      1.09    235.92      1.01\n",
      "     z[89]      0.28      0.17      0.27     -0.00      0.55    200.87      1.01\n",
      "     z[90]      0.38      0.92      0.35     -0.97      2.01    181.50      1.01\n",
      "     z[91]      0.40      0.98      0.38     -1.23      1.98    619.83      1.00\n",
      "     z[92]     -0.45      0.65     -0.38     -1.45      0.60   1128.78      1.00\n",
      "     z[93]     -0.23      0.99     -0.23     -1.35      1.39      4.91      1.29\n",
      "     z[94]     -0.03      0.72     -0.04     -1.17      1.14     64.26      1.04\n",
      "     z[95]     -0.01      0.95     -0.01     -1.61      1.51    746.06      1.00\n",
      "     z[96]     -0.05      0.48     -0.06     -0.77      0.60   4421.80      1.00\n",
      "     z[97]     -0.06      1.00     -0.07     -1.68      1.54    223.82      1.02\n",
      "     z[98]     -0.21      0.21     -0.22     -0.54      0.15    456.97      1.01\n",
      "     z[99]     -0.11      0.80     -0.06     -1.35      1.01      4.37      1.30\n",
      "\n"
     ]
    }
   ],
   "source": [
    "mcmc.print_summary()"
   ],
   "metadata": {
    "collapsed": false,
    "pycharm": {
     "name": "#%%\n"
    }
   }
  },
  {
   "cell_type": "code",
   "execution_count": 9,
   "outputs": [],
   "source": [
    "gamma_samples = jax.device_get(mcmc.get_samples()[\"gamma\"])\n",
    "beta_samples = jax.device_get(mcmc.get_samples()[\"beta\"])"
   ],
   "metadata": {
    "collapsed": false,
    "pycharm": {
     "name": "#%%\n"
    }
   }
  },
  {
   "cell_type": "code",
   "execution_count": 40,
   "outputs": [],
   "source": [
    "jnp.save(\"data/gamma_samples_nb_13b.npy\",gamma_samples)\n",
    "jnp.save(\"data/beta_samples_nb_13b.npy\", beta_samples)"
   ],
   "metadata": {
    "collapsed": false,
    "pycharm": {
     "name": "#%%\n"
    }
   }
  },
  {
   "cell_type": "code",
   "execution_count": 10,
   "outputs": [
    {
     "data": {
      "text/plain": "array([ 1.6024678e+00,  1.0586623e+00,  6.4083970e-01,  1.6137985e+00,\n        2.9659534e+00, -1.0577304e+00, -4.7273022e-01,  7.3477262e-01,\n        6.6257611e-02, -2.8850756e+00,  1.8574958e+00,  2.6701696e+00,\n        8.9307398e-01,  1.8047050e-01, -4.8852296e+00, -1.7713478e-01,\n        2.4986811e+00,  2.4136858e+00,  3.7865628e-02,  2.8889400e-01,\n        1.9979652e+00, -9.4800985e-01, -2.2781770e+00, -9.9699706e-01,\n        2.0528696e+00, -1.2464403e+00, -1.0071243e+00,  8.3190137e-01,\n       -2.9893371e-01, -2.5057633e+00,  9.0668744e-01, -4.1279104e-01,\n       -1.3551517e-01, -5.1973110e-01, -2.5971216e-01,  9.9021292e-01,\n        5.8155310e-01, -3.2335362e+00, -1.2694904e+00, -5.3233737e-01,\n        1.5924299e+00, -2.1109221e+00,  5.2065313e-02, -8.3612120e-01,\n        1.6508427e+00, -7.0893931e-01, -3.6055177e-02, -6.0221201e-01,\n       -1.8716240e-01, -3.3562325e-02,  1.3023347e+00,  2.9926026e-01,\n       -1.4258937e+00,  3.6417452e-01,  7.9425979e-01, -3.2085478e+00,\n       -1.9775864e+00,  1.7631678e-02,  2.2026803e+00,  1.4200000e+00,\n       -5.4939085e-01,  2.9719296e-01,  2.5768360e-01,  2.6530850e+00,\n       -2.6755804e-01,  4.4559911e-02,  5.4256713e-01, -6.3036627e-01,\n       -1.5021901e+00,  1.4932492e+00,  1.4315479e+00, -4.0422171e-01,\n        1.8296120e-03, -3.5345146e-01,  1.1587557e+00,  5.5217159e-01,\n       -5.8864492e-01,  4.5106930e-01,  3.4693096e-02,  4.2287710e-01,\n        9.0278882e-01,  1.4919007e+00,  3.7688136e-01, -4.9627790e-01,\n        1.6643490e+00,  1.6426969e-01,  2.9550833e-01,  1.1365183e-01,\n        1.0194244e+00,  1.4097652e+00,  1.9005435e+00,  1.9834794e+00,\n       -2.2498145e+00, -1.1511098e+00, -1.2566887e-01, -6.9549017e-02,\n       -2.5021777e-01, -3.0262554e-01, -1.0658343e+00, -5.4496336e-01],\n      dtype=float32)"
     },
     "execution_count": 10,
     "metadata": {},
     "output_type": "execute_result"
    }
   ],
   "source": [
    "np.mean(beta_samples, axis=0)"
   ],
   "metadata": {
    "collapsed": false,
    "pycharm": {
     "name": "#%%\n"
    }
   }
  },
  {
   "cell_type": "code",
   "execution_count": 112,
   "outputs": [
    {
     "name": "stdout",
     "output_type": "stream",
     "text": [
      "44.76767676767677\n"
     ]
    }
   ],
   "source": [
    "feats_hmc_rand = rank_hmc_feats_rand(gamma_samples_2)\n",
    "print(average_length(feats_hmc_rand))"
   ],
   "metadata": {
    "collapsed": false,
    "pycharm": {
     "name": "#%%\n"
    }
   }
  },
  {
   "cell_type": "code",
   "execution_count": null,
   "outputs": [
    {
     "name": "stderr",
     "output_type": "stream",
     "text": [
      " 28%|██████████                          | 27/97 [22:47<3:14:51, 167.02s/it, m_tr=0.61, m_te=0.63, l_tr=0.50, l_te=0.50]"
     ]
    }
   ],
   "source": [
    "res_auc_mhmc_rand = run_fs_moses(X_train, X_test, y_train, y_test, seeds[seed_idx], feats_hmc_rand[:100])\n",
    "res_auc_mhmc_rand.describe()"
   ],
   "metadata": {
    "collapsed": false,
    "pycharm": {
     "name": "#%%\n",
     "is_executing": true
    }
   }
  },
  {
   "cell_type": "code",
   "execution_count": 87,
   "outputs": [
    {
     "data": {
      "text/plain": "       moses_cv_score  moses_test_score  log_cv_score  log_test_score\ncount       97.000000         97.000000     97.000000       97.000000\nmean         0.625873          0.597876      0.505442        0.522861\nstd          0.016822          0.039700      0.004641        0.014733\nmin          0.591381          0.522588      0.495494        0.495516\n25%          0.614287          0.566932      0.502496        0.514034\n50%          0.624791          0.595001      0.504746        0.532553\n75%          0.638574          0.625311      0.508379        0.534795\nmax          0.664352          0.696562      0.515375        0.569590",
      "text/html": "<div>\n<style scoped>\n    .dataframe tbody tr th:only-of-type {\n        vertical-align: middle;\n    }\n\n    .dataframe tbody tr th {\n        vertical-align: top;\n    }\n\n    .dataframe thead th {\n        text-align: right;\n    }\n</style>\n<table border=\"1\" class=\"dataframe\">\n  <thead>\n    <tr style=\"text-align: right;\">\n      <th></th>\n      <th>moses_cv_score</th>\n      <th>moses_test_score</th>\n      <th>log_cv_score</th>\n      <th>log_test_score</th>\n    </tr>\n  </thead>\n  <tbody>\n    <tr>\n      <th>count</th>\n      <td>97.000000</td>\n      <td>97.000000</td>\n      <td>97.000000</td>\n      <td>97.000000</td>\n    </tr>\n    <tr>\n      <th>mean</th>\n      <td>0.625873</td>\n      <td>0.597876</td>\n      <td>0.505442</td>\n      <td>0.522861</td>\n    </tr>\n    <tr>\n      <th>std</th>\n      <td>0.016822</td>\n      <td>0.039700</td>\n      <td>0.004641</td>\n      <td>0.014733</td>\n    </tr>\n    <tr>\n      <th>min</th>\n      <td>0.591381</td>\n      <td>0.522588</td>\n      <td>0.495494</td>\n      <td>0.495516</td>\n    </tr>\n    <tr>\n      <th>25%</th>\n      <td>0.614287</td>\n      <td>0.566932</td>\n      <td>0.502496</td>\n      <td>0.514034</td>\n    </tr>\n    <tr>\n      <th>50%</th>\n      <td>0.624791</td>\n      <td>0.595001</td>\n      <td>0.504746</td>\n      <td>0.532553</td>\n    </tr>\n    <tr>\n      <th>75%</th>\n      <td>0.638574</td>\n      <td>0.625311</td>\n      <td>0.508379</td>\n      <td>0.534795</td>\n    </tr>\n    <tr>\n      <th>max</th>\n      <td>0.664352</td>\n      <td>0.696562</td>\n      <td>0.515375</td>\n      <td>0.569590</td>\n    </tr>\n  </tbody>\n</table>\n</div>"
     },
     "execution_count": 87,
     "metadata": {},
     "output_type": "execute_result"
    }
   ],
   "source": [
    "res_auc_mhmc_rand.describe()"
   ],
   "metadata": {
    "collapsed": false,
    "pycharm": {
     "name": "#%%\n"
    }
   }
  },
  {
   "cell_type": "markdown",
   "source": [
    "#### Variance based selection"
   ],
   "metadata": {
    "collapsed": false,
    "pycharm": {
     "name": "#%% md\n"
    }
   }
  },
  {
   "cell_type": "code",
   "execution_count": 80,
   "outputs": [],
   "source": [
    "gamma_samples_2 = jax.device_get(mcmc_2.get_samples()[\"gamma\"])\n",
    "beta_samples_2 = jax.device_get(mcmc_2.get_samples()[\"beta\"])"
   ],
   "metadata": {
    "collapsed": false,
    "pycharm": {
     "name": "#%%\n"
    }
   }
  },
  {
   "cell_type": "code",
   "execution_count": 13,
   "outputs": [],
   "source": [
    "%autoreload\n",
    "from notebooks.variable_selection.util import parse_mcmc_var_results\n",
    "seeds_var = [82, 91, 13,]\n",
    "var_results_df = parse_mcmc_var_results(seeds_var, \"data/mcmc_variable_selection_var/\", 31)"
   ],
   "metadata": {
    "collapsed": false,
    "pycharm": {
     "name": "#%%\n"
    }
   }
  },
  {
   "cell_type": "code",
   "execution_count": 12,
   "outputs": [
    {
     "data": {
      "text/plain": "array([14, 37, 55,  4,  9, 11, 63, 29, 16, 17, 22, 92, 58, 41, 24, 20, 91,\n       56, 90, 10, 84, 44,  3,  0, 40, 68, 69, 81, 70, 52, 59, 89, 50, 38,\n       25, 74, 93, 98,  1,  5, 88, 26, 23, 35, 21, 30, 80, 12, 43, 27, 54,\n        7, 45,  2, 67, 47, 76, 36, 75, 60, 99, 66, 39, 33, 83,  6, 77, 79,\n       31, 71, 82, 53, 73, 97, 51, 28, 61, 86, 19, 64, 34, 62, 96, 48, 13,\n       15, 85, 32, 94, 87, 95,  8, 42, 65, 18, 46, 78, 49, 57, 72])"
     },
     "execution_count": 12,
     "metadata": {},
     "output_type": "execute_result"
    }
   ],
   "source": [
    "np.argsort(np.abs(np.mean(beta_samples, axis=0)))[::-1]"
   ],
   "metadata": {
    "collapsed": false,
    "pycharm": {
     "name": "#%%\n"
    }
   }
  },
  {
   "cell_type": "code",
   "execution_count": 85,
   "outputs": [
    {
     "name": "stderr",
     "output_type": "stream",
     "text": [
      "  0%|                                                                                                 | 0/1 [00:00<?, ?it/s]"
     ]
    },
    {
     "name": "stdout",
     "output_type": "stream",
     "text": [
      "Feats with var thr 0.5 - [30 42 45]\n"
     ]
    },
    {
     "name": "stderr",
     "output_type": "stream",
     "text": [
      "100%|█████████████████████████████████████████████| 1/1 [00:07<00:00,  7.65s/it, m_tr=0.66, m_te=0.58, l_tr=0.50, l_te=0.50]\n",
      "  0%|                                                                                                 | 0/1 [00:00<?, ?it/s]"
     ]
    },
    {
     "name": "stdout",
     "output_type": "stream",
     "text": [
      "Feats with var thr 1.5555555555555556 - [ 5 30 34 42 45 50 51]\n"
     ]
    },
    {
     "name": "stderr",
     "output_type": "stream",
     "text": [
      "100%|█████████████████████████████████████████████| 1/1 [00:18<00:00, 18.60s/it, m_tr=0.63, m_te=0.58, l_tr=0.50, l_te=0.50]\n",
      "  0%|                                                                                                 | 0/1 [00:00<?, ?it/s]"
     ]
    },
    {
     "name": "stdout",
     "output_type": "stream",
     "text": [
      "Feats with var thr 2.611111111111111 - [ 5 30 34 42 45 50 51 82 97]\n"
     ]
    },
    {
     "name": "stderr",
     "output_type": "stream",
     "text": [
      "100%|█████████████████████████████████████████████| 1/1 [00:20<00:00, 20.55s/it, m_tr=0.63, m_te=0.55, l_tr=0.50, l_te=0.50]\n",
      "  0%|                                                                                                 | 0/1 [00:00<?, ?it/s]"
     ]
    },
    {
     "name": "stdout",
     "output_type": "stream",
     "text": [
      "Feats with var thr 3.666666666666667 - [ 5 26 30 34 42 45 50 51 82 86 97]\n"
     ]
    },
    {
     "name": "stderr",
     "output_type": "stream",
     "text": [
      "100%|█████████████████████████████████████████████| 1/1 [00:21<00:00, 21.95s/it, m_tr=0.66, m_te=0.59, l_tr=0.50, l_te=0.50]\n",
      "  0%|                                                                                                 | 0/1 [00:00<?, ?it/s]"
     ]
    },
    {
     "name": "stdout",
     "output_type": "stream",
     "text": [
      "Feats with var thr 4.722222222222222 - [ 5 14 26 30 34 42 45 50 51 52 82 86 97]\n"
     ]
    },
    {
     "name": "stderr",
     "output_type": "stream",
     "text": [
      "100%|█████████████████████████████████████████████| 1/1 [00:33<00:00, 33.86s/it, m_tr=0.63, m_te=0.61, l_tr=0.50, l_te=0.50]\n",
      "  0%|                                                                                                 | 0/1 [00:00<?, ?it/s]"
     ]
    },
    {
     "name": "stdout",
     "output_type": "stream",
     "text": [
      "Feats with var thr 5.777777777777778 - [ 0  5 12 14 26 30 34 42 45 50 51 52 82 86 94 96 97]\n"
     ]
    },
    {
     "name": "stderr",
     "output_type": "stream",
     "text": [
      "100%|█████████████████████████████████████████████| 1/1 [00:40<00:00, 40.64s/it, m_tr=0.65, m_te=0.62, l_tr=0.50, l_te=0.50]\n",
      "  0%|                                                                                                 | 0/1 [00:00<?, ?it/s]"
     ]
    },
    {
     "name": "stdout",
     "output_type": "stream",
     "text": [
      "Feats with var thr 6.833333333333334 - [ 0  5 12 14 26 30 33 34 40 42 43 45 50 51 52 71 82 86 94 96 97]\n"
     ]
    },
    {
     "name": "stderr",
     "output_type": "stream",
     "text": [
      "100%|█████████████████████████████████████████████| 1/1 [00:31<00:00, 31.16s/it, m_tr=0.61, m_te=0.59, l_tr=0.50, l_te=0.52]\n",
      "  0%|                                                                                                 | 0/1 [00:00<?, ?it/s]"
     ]
    },
    {
     "name": "stdout",
     "output_type": "stream",
     "text": [
      "Feats with var thr 7.888888888888889 - [ 0  5 12 14 26 30 33 34 39 40 42 43 45 50 51 52 55 71 82 86 94 96 97 98]\n"
     ]
    },
    {
     "name": "stderr",
     "output_type": "stream",
     "text": [
      "100%|█████████████████████████████████████████████| 1/1 [00:27<00:00, 27.96s/it, m_tr=0.61, m_te=0.59, l_tr=0.50, l_te=0.52]\n",
      "  0%|                                                                                                 | 0/1 [00:00<?, ?it/s]"
     ]
    },
    {
     "name": "stdout",
     "output_type": "stream",
     "text": [
      "Feats with var thr 8.944444444444445 - [ 0  5 12 14 26 30 32 33 34 39 40 42 43 45 50 51 52 55 71 82 86 94 96 97\n",
      " 98]\n"
     ]
    },
    {
     "name": "stderr",
     "output_type": "stream",
     "text": [
      "100%|█████████████████████████████████████████████| 1/1 [00:29<00:00, 29.63s/it, m_tr=0.62, m_te=0.62, l_tr=0.50, l_te=0.52]\n",
      "  0%|                                                                                                 | 0/1 [00:00<?, ?it/s]"
     ]
    },
    {
     "name": "stdout",
     "output_type": "stream",
     "text": [
      "Feats with var thr 10.0 - [ 0  5 12 14 26 30 32 33 34 39 40 42 43 45 50 51 52 55 71 73 74 82 86 94\n",
      " 96 97 98]\n"
     ]
    },
    {
     "name": "stderr",
     "output_type": "stream",
     "text": [
      "100%|█████████████████████████████████████████████| 1/1 [00:34<00:00, 34.28s/it, m_tr=0.60, m_te=0.65, l_tr=0.50, l_te=0.52]\n"
     ]
    }
   ],
   "source": [
    "## re-add seed 10 results\n",
    "seed_10_cv_scores, seed_10_test_scores = [], []\n",
    "feats_var_seed_10 = []\n",
    "vars = np.linspace(0.5, 10, 10)\n",
    "for i in range(vars.shape[0]):\n",
    "    var = vars[i]\n",
    "    idx = np.var(beta_samples_2, axis=0) < var\n",
    "    ar = np.arange(100)\n",
    "    feats_idx = ar[idx]\n",
    "    print(f\"Feats with var thr {var} - {feats_idx}\")\n",
    "\n",
    "    res_hmc_auc = run_fs_moses(X_train, X_test, y_train, y_test, seeds[seed_idx], [feats_idx])\n",
    "    seed_10_cv_scores.append(res_hmc_auc[\"moses_cv_score\"])\n",
    "    seed_10_test_scores.append(res_hmc_auc[\"moses_test_score\"])\n",
    "    feats_var_seed_10.append(feats_idx)"
   ],
   "metadata": {
    "collapsed": false,
    "pycharm": {
     "name": "#%%\n"
    }
   }
  },
  {
   "cell_type": "code",
   "execution_count": 110,
   "outputs": [
    {
     "data": {
      "text/plain": "<Figure size 1440x864 with 4 Axes>",
      "image/png": "[encoded data removed]"
     },
     "metadata": {
      "needs_background": "light"
     },
     "output_type": "display_data"
    }
   ],
   "source": [
    "fig, ax = plt.subplots(2, 2, figsize=(20, 12))\n",
    "for i, seed in enumerate(seeds_var):\n",
    "    ax[0, 0].plot(vars, var_results_df[i][\"moses_cv_score\"], label=f\"seed {seed}\", marker='o')\n",
    "    feats_i = []\n",
    "    for j in range(var_results_df[i].shape[0]):\n",
    "        feats_i.append(len(var_results_df[i].iloc[j][\"feats\"].split(\",\")))\n",
    "    ax[1, 0].plot(vars, feats_i)\n",
    "\n",
    "for i, seed in enumerate(seeds_var):\n",
    "    ax[0, 1].plot(vars, var_results_df[i][\"moses_test_score\"], label=f\"seed {seed}\", marker='o')\n",
    "\n",
    "ax[0, 0].plot(vars, seed_10_cv_scores, label=\"seed 10\", marker='o')\n",
    "ax[0, 1].plot(vars, seed_10_test_scores, label=\"seed 10\", marker='o')\n",
    "ax[0, 0].set(xlabel=\"var\", ylabel=\"train auc\", xticks=vars)\n",
    "ax[0, 1].set(xlabel=\"var\", ylabel=\"test auc\", xticks=vars)\n",
    "ax[1, 0].set(xlabel=\"var\", ylabel=\"num features\", xticks=vars)\n",
    "\n",
    "ax[0, 0].legend()\n",
    "ax[0, 1].legend()\n",
    "ax[0, 0].grid(False)\n",
    "ax[0, 1].grid(False)\n",
    "ax[1, 0].grid(False)\n",
    "ax[1, 1].set_axis_off()"
   ],
   "metadata": {
    "collapsed": false,
    "pycharm": {
     "name": "#%%\n"
    }
   }
  },
  {
   "cell_type": "code",
   "execution_count": 13,
   "outputs": [
    {
     "data": {
      "text/plain": "array([14, 37, 55,  4,  9, 11, 63, 29, 16, 17, 22, 92, 58, 41, 24, 20, 91,\n       56, 90, 10, 84, 44,  3,  0, 40, 68, 69, 81, 70, 52, 59, 89, 50, 38,\n       25, 74, 93, 98,  1,  5, 88, 26, 23, 35, 21, 30, 80, 12, 43, 27, 54,\n        7, 45,  2, 67, 47, 76, 36, 75, 60, 99, 66, 39, 33, 83,  6, 77, 79,\n       31, 71, 82, 53, 73, 97, 51, 28, 61, 86, 19, 64, 34, 62, 96, 48, 13,\n       15, 85, 32, 94, 87, 95,  8, 42, 65, 18, 46, 78, 49, 57, 72])"
     },
     "execution_count": 13,
     "metadata": {},
     "output_type": "execute_result"
    }
   ],
   "source": [
    "np.argsort(np.abs(np.mean(beta_samples, axis=0)))[::-1]"
   ],
   "metadata": {
    "collapsed": false,
    "pycharm": {
     "name": "#%%\n"
    }
   }
  },
  {
   "cell_type": "code",
   "execution_count": 24,
   "outputs": [
    {
     "data": {
      "text/plain": "array([16, 41, 58, 63, 68, 89, 98])"
     },
     "execution_count": 24,
     "metadata": {},
     "output_type": "execute_result"
    }
   ],
   "source": [
    "# idx = np.logical_and(np.var(beta_samples, axis=0) < 2, np.mean(gamma_samples, axis=0) > 0.6)\n",
    "idx = np.logical_and(np.var(beta_samples, axis=0) < 2, np.abs(np.mean(beta_samples, axis=0)) > 1)\n",
    "# idx = np.abs(np.mean(beta_samples, axis=0)) > 3\n",
    "ar = np.arange(100)\n",
    "feats_idx = ar[idx]\n",
    "feat_sel = np.zeros(p)\n",
    "feat_sel[feats_idx] = np.mean(beta_samples[:,feats_idx], axis=0)\n",
    "feats_idx"
   ],
   "metadata": {
    "collapsed": false,
    "pycharm": {
     "name": "#%%\n"
    }
   }
  },
  {
   "cell_type": "code",
   "execution_count": 25,
   "outputs": [
    {
     "name": "stdout",
     "output_type": "stream",
     "text": [
      "train auc - 0.8384492685963274\n",
      "test auc - 0.5280112044817927\n",
      "train auc ord - 0.7419116723206433\n",
      "test auc ord - 0.8599656357388317\n"
     ]
    }
   ],
   "source": [
    "print(f\"train auc - {roc_auc_score(y_train, logistic((X_train @ np.mean(beta_samples, axis=0))))}\")\n",
    "print(f\"test auc - {roc_auc_score(y_test, logistic((X_test @ np.mean(beta_samples, axis=0))))}\")\n",
    "print(f\"train auc ord - {roc_auc_score(y_train_ord, logistic((X_train_ord @ np.mean(beta_samples, axis=0))))}\")\n",
    "print(f\"test auc ord - {roc_auc_score(y_test_ord, logistic((X_test_ord @ np.mean(beta_samples, axis=0))))}\")"
   ],
   "metadata": {
    "collapsed": false,
    "pycharm": {
     "name": "#%%\n"
    }
   }
  },
  {
   "cell_type": "code",
   "execution_count": 26,
   "outputs": [
    {
     "name": "stdout",
     "output_type": "stream",
     "text": [
      "train auc - 0.7777777777777778\n",
      "test auc - 0.6188725490196079\n",
      "train auc ord - 0.7248398039954768\n",
      "test auc ord - 0.8170103092783505\n"
     ]
    }
   ],
   "source": [
    "print(f\"train auc - {roc_auc_score(y_train, logistic((X_train @ feat_sel)))}\")\n",
    "print(f\"test auc - {roc_auc_score(y_test, logistic((X_test @ feat_sel)))}\")\n",
    "print(f\"train auc ord - {roc_auc_score(y_train_ord, logistic((X_train_ord @ feat_sel)))}\")\n",
    "print(f\"test auc ord - {roc_auc_score(y_test_ord, logistic((X_test_ord @ feat_sel)))}\")"
   ],
   "metadata": {
    "collapsed": false,
    "pycharm": {
     "name": "#%%\n"
    }
   }
  },
  {
   "cell_type": "code",
   "execution_count": 27,
   "outputs": [
    {
     "name": "stderr",
     "output_type": "stream",
     "text": [
      "100%|███████████████████████████████████████████████████████████████| 1/1 [00:16<00:00, 16.76s/it, m_tr=0.69, m_te=0.68, l_tr=0.50, l_te=0.50]\n"
     ]
    },
    {
     "data": {
      "text/plain": "   moses_cv_score  moses_test_score  log_cv_score  log_test_score\n0        0.685398          0.681723      0.499301             0.5",
      "text/html": "<div>\n<style scoped>\n    .dataframe tbody tr th:only-of-type {\n        vertical-align: middle;\n    }\n\n    .dataframe tbody tr th {\n        vertical-align: top;\n    }\n\n    .dataframe thead th {\n        text-align: right;\n    }\n</style>\n<table border=\"1\" class=\"dataframe\">\n  <thead>\n    <tr style=\"text-align: right;\">\n      <th></th>\n      <th>moses_cv_score</th>\n      <th>moses_test_score</th>\n      <th>log_cv_score</th>\n      <th>log_test_score</th>\n    </tr>\n  </thead>\n  <tbody>\n    <tr>\n      <th>0</th>\n      <td>0.685398</td>\n      <td>0.681723</td>\n      <td>0.499301</td>\n      <td>0.5</td>\n    </tr>\n  </tbody>\n</table>\n</div>"
     },
     "execution_count": 27,
     "metadata": {},
     "output_type": "execute_result"
    }
   ],
   "source": [
    "run_fs_moses(X_train, X_test, y_train, y_test, seeds[seed_idx], [list(feats_idx)])"
   ],
   "metadata": {
    "collapsed": false,
    "pycharm": {
     "name": "#%%\n"
    }
   }
  },
  {
   "cell_type": "code",
   "execution_count": 37,
   "outputs": [
    {
     "data": {
      "text/plain": "array([ 0,  1,  3,  4,  5,  9, 10, 11, 14, 16, 17, 20, 22, 24, 25, 26, 29,\n       37, 38, 40, 41, 44, 50, 52, 55, 56, 58, 59, 63, 68, 69, 70, 74, 81,\n       84, 88, 89, 90, 91, 92, 93, 98])"
     },
     "execution_count": 37,
     "metadata": {},
     "output_type": "execute_result"
    }
   ],
   "source": [
    "idx_2 = np.abs(np.mean(beta_samples, axis=0)) > 1\n",
    "# idx = np.abs(np.mean(beta_samples, axis=0)) > 3\n",
    "ar = np.arange(100)\n",
    "feats_idx_2 = ar[idx_2]\n",
    "feat_sel_2 = np.zeros(p)\n",
    "feat_sel_2[feats_idx_2] = np.mean(beta_samples[:,feats_idx_2], axis=0)\n",
    "feats_idx_2"
   ],
   "metadata": {
    "collapsed": false,
    "pycharm": {
     "name": "#%%\n"
    }
   }
  },
  {
   "cell_type": "code",
   "execution_count": 38,
   "outputs": [
    {
     "name": "stdout",
     "output_type": "stream",
     "text": [
      "train auc - 0.8376711795829442\n",
      "test auc - 0.6041666666666667\n",
      "train auc ord - 0.765925367508481\n",
      "test auc ord - 0.8376288659793815\n"
     ]
    }
   ],
   "source": [
    "print(f\"train auc - {roc_auc_score(y_train, logistic((X_train @ feat_sel_2)))}\")\n",
    "print(f\"test auc - {roc_auc_score(y_test, logistic((X_test @ feat_sel_2)))}\")\n",
    "print(f\"train auc ord - {roc_auc_score(y_train_ord, logistic((X_train_ord @ feat_sel_2)))}\")\n",
    "print(f\"test auc ord - {roc_auc_score(y_test_ord, logistic((X_test_ord @ feat_sel_2)))}\")"
   ],
   "metadata": {
    "collapsed": false,
    "pycharm": {
     "name": "#%%\n"
    }
   }
  },
  {
   "cell_type": "code",
   "execution_count": 39,
   "outputs": [
    {
     "name": "stderr",
     "output_type": "stream",
     "text": [
      "100%|███████████████████████████████████████████████████████████████| 1/1 [00:32<00:00, 32.34s/it, m_tr=0.67, m_te=0.65, l_tr=0.54, l_te=0.53]\n"
     ]
    },
    {
     "data": {
      "text/plain": "   moses_cv_score  moses_test_score  log_cv_score  log_test_score\n0        0.671519           0.65091      0.536876        0.533263",
      "text/html": "<div>\n<style scoped>\n    .dataframe tbody tr th:only-of-type {\n        vertical-align: middle;\n    }\n\n    .dataframe tbody tr th {\n        vertical-align: top;\n    }\n\n    .dataframe thead th {\n        text-align: right;\n    }\n</style>\n<table border=\"1\" class=\"dataframe\">\n  <thead>\n    <tr style=\"text-align: right;\">\n      <th></th>\n      <th>moses_cv_score</th>\n      <th>moses_test_score</th>\n      <th>log_cv_score</th>\n      <th>log_test_score</th>\n    </tr>\n  </thead>\n  <tbody>\n    <tr>\n      <th>0</th>\n      <td>0.671519</td>\n      <td>0.65091</td>\n      <td>0.536876</td>\n      <td>0.533263</td>\n    </tr>\n  </tbody>\n</table>\n</div>"
     },
     "execution_count": 39,
     "metadata": {},
     "output_type": "execute_result"
    }
   ],
   "source": [
    "run_fs_moses(X_train, X_test, y_train, y_test, seeds[seed_idx], [list(feats_idx_2)])"
   ],
   "metadata": {
    "collapsed": false,
    "pycharm": {
     "name": "#%%\n"
    }
   }
  },
  {
   "cell_type": "code",
   "execution_count": 56,
   "outputs": [],
   "source": [
    "k = 5\n",
    "rng_vals = np.logspace(-1, 2, k)\n",
    "n_chains = 2\n",
    "n_warmup = 300\n",
    "n_samples = 1000"
   ],
   "metadata": {
    "collapsed": false,
    "pycharm": {
     "name": "#%%\n"
    }
   }
  },
  {
   "cell_type": "code",
   "execution_count": null,
   "outputs": [
    {
     "name": "stderr",
     "output_type": "stream",
     "text": [
      "  0%|                                                                                                                | 0/1300 [00:00<?, ?it/s]"
     ]
    },
    {
     "name": "stdout",
     "output_type": "stream",
     "text": [
      "[2022-07-13 00:01:27.240256] - eta - 0.1, mu - 0.1\n",
      "\n"
     ]
    },
    {
     "name": "stderr",
     "output_type": "stream",
     "text": [
      "sample: 100%|████████████████████████████████████████████████| 1300/1300 [04:12<00:00,  5.14it/s, 1004 steps of size 6.57e-03. acc. prob=0.93]\n",
      "sample: 100%|████████████████████████████████████████████████| 1300/1300 [04:12<00:00,  5.14it/s, 1005 steps of size 6.56e-03. acc. prob=0.93]\n",
      "  0%|                                                                                                                | 0/1300 [00:00<?, ?it/s]"
     ]
    },
    {
     "name": "stdout",
     "output_type": "stream",
     "text": [
      "[2022-07-13 00:09:53.407970] - eta - 0.1, mu - 0.5623413251903491\n",
      "\n"
     ]
    },
    {
     "name": "stderr",
     "output_type": "stream",
     "text": [
      "sample: 100%|█████████████████████████████████████████████████| 1300/1300 [03:49<00:00,  5.66it/s, 881 steps of size 7.53e-03. acc. prob=0.92]\n",
      "sample: 100%|█████████████████████████████████████████████████| 1300/1300 [03:36<00:00,  6.01it/s, 785 steps of size 8.55e-03. acc. prob=0.90]\n",
      "  0%|                                                                                                                | 0/1300 [00:00<?, ?it/s]"
     ]
    },
    {
     "name": "stdout",
     "output_type": "stream",
     "text": [
      "[2022-07-13 00:17:19.864088] - eta - 0.1, mu - 3.1622776601683795\n",
      "\n"
     ]
    },
    {
     "name": "stderr",
     "output_type": "stream",
     "text": [
      "sample: 100%|█████████████████████████████████████████████████| 1300/1300 [02:02<00:00, 10.60it/s, 294 steps of size 2.61e-02. acc. prob=0.86]\n",
      "sample: 100%|█████████████████████████████████████████████████| 1300/1300 [02:14<00:00,  9.65it/s, 336 steps of size 2.18e-02. acc. prob=0.90]\n",
      "  0%|                                                                                                                | 0/1300 [00:00<?, ?it/s]"
     ]
    },
    {
     "name": "stdout",
     "output_type": "stream",
     "text": [
      "[2022-07-13 00:21:37.656450] - eta - 0.1, mu - 17.78279410038923\n",
      "\n"
     ]
    },
    {
     "name": "stderr",
     "output_type": "stream",
     "text": [
      "sample: 100%|██████████████████████████████████████████████| 1300/1300 [10:19:23<00:00, 28.59s/it, 100 steps of size 1.51e+34. acc. prob=0.93]\n",
      "sample: 100%|█████████████████████████████████████████████████| 1300/1300 [01:37<00:00, 13.30it/s, 100 steps of size 8.16e+29. acc. prob=0.89]\n",
      "  0%|                                                                                                                | 0/1300 [00:00<?, ?it/s]"
     ]
    },
    {
     "name": "stdout",
     "output_type": "stream",
     "text": [
      "[2022-07-13 10:42:39.149335] - eta - 0.1, mu - 100.0\n",
      "\n"
     ]
    },
    {
     "name": "stderr",
     "output_type": "stream",
     "text": [
      "sample: 100%|█████████████████████████████████████████████████| 1300/1300 [01:34<00:00, 13.72it/s, 100 steps of size 2.37e+34. acc. prob=0.96]\n",
      "sample: 100%|█████████████████████████████████████████████████| 1300/1300 [01:41<00:00, 12.80it/s, 100 steps of size 1.50e+07. acc. prob=0.39]\n",
      "  0%|                                                                                                                | 0/1300 [00:00<?, ?it/s]"
     ]
    },
    {
     "name": "stdout",
     "output_type": "stream",
     "text": [
      "[2022-07-13 10:45:56.021039] - eta - 0.5623413251903491, mu - 0.1\n",
      "\n"
     ]
    },
    {
     "name": "stderr",
     "output_type": "stream",
     "text": [
      "sample: 100%|████████████████████████████████████████████████| 1300/1300 [04:34<00:00,  4.73it/s, 1117 steps of size 5.88e-03. acc. prob=0.93]\n",
      "sample: 100%|████████████████████████████████████████████████| 1300/1300 [04:48<00:00,  4.50it/s, 1218 steps of size 5.39e-03. acc. prob=0.96]\n",
      "  0%|                                                                                                                | 0/1300 [00:00<?, ?it/s]"
     ]
    },
    {
     "name": "stdout",
     "output_type": "stream",
     "text": [
      "[2022-07-13 10:55:20.282594] - eta - 0.5623413251903491, mu - 0.5623413251903491\n",
      "\n"
     ]
    },
    {
     "name": "stderr",
     "output_type": "stream",
     "text": [
      "sample: 100%|████████████████████████████████████████████████| 1300/1300 [04:39<00:00,  4.66it/s, 1205 steps of size 5.44e-03. acc. prob=0.94]\n",
      "sample: 100%|████████████████████████████████████████████████| 1300/1300 [06:13<00:00,  3.48it/s, 1015 steps of size 6.48e-03. acc. prob=0.95]\n",
      "  0%|                                                                                                                | 0/1300 [00:00<?, ?it/s]"
     ]
    },
    {
     "name": "stdout",
     "output_type": "stream",
     "text": [
      "[2022-07-13 11:32:48.934132] - eta - 3.1622776601683795, mu - 0.5623413251903491\n",
      "\n"
     ]
    },
    {
     "name": "stderr",
     "output_type": "stream",
     "text": [
      "sample: 100%|█████████████████████████████████████████████████| 1300/1300 [05:46<00:00,  3.76it/s, 891 steps of size 7.45e-03. acc. prob=0.92]\n",
      "sample: 100%|█████████████████████████████████████████████████| 1300/1300 [05:56<00:00,  3.65it/s, 953 steps of size 6.98e-03. acc. prob=0.95]\n",
      "  0%|                                                                                                                | 0/1300 [00:00<?, ?it/s]"
     ]
    },
    {
     "name": "stdout",
     "output_type": "stream",
     "text": [
      "[2022-07-13 11:44:32.085474] - eta - 3.1622776601683795, mu - 3.1622776601683795\n",
      "\n"
     ]
    },
    {
     "name": "stderr",
     "output_type": "stream",
     "text": [
      "sample: 100%|█████████████████████████████████████████████████| 1300/1300 [05:38<00:00,  3.84it/s, 946 steps of size 7.03e-03. acc. prob=0.95]\n",
      "sample: 100%|█████████████████████████████████████████████████| 1300/1300 [05:39<00:00,  3.83it/s, 925 steps of size 7.19e-03. acc. prob=0.94]\n",
      "  0%|                                                                                                                | 0/1300 [00:00<?, ?it/s]"
     ]
    },
    {
     "name": "stdout",
     "output_type": "stream",
     "text": [
      "[2022-07-13 11:55:50.780782] - eta - 3.1622776601683795, mu - 17.78279410038923\n",
      "\n"
     ]
    },
    {
     "name": "stderr",
     "output_type": "stream",
     "text": [
      "sample: 100%|█████████████████████████████████████████████████| 1300/1300 [02:10<00:00, 10.00it/s, 100 steps of size 1.04e+34. acc. prob=0.96]\n",
      "sample: 100%|█████████████████████████████████████████████████| 1300/1300 [02:13<00:00,  9.77it/s, 100 steps of size 5.94e+30. acc. prob=0.91]\n",
      "  0%|                                                                                                                | 0/1300 [00:00<?, ?it/s]"
     ]
    },
    {
     "name": "stdout",
     "output_type": "stream",
     "text": [
      "[2022-07-13 12:00:14.431444] - eta - 3.1622776601683795, mu - 100.0\n",
      "\n"
     ]
    },
    {
     "name": "stderr",
     "output_type": "stream",
     "text": [
      "sample: 100%|█████████████████████████████████████████████████| 1300/1300 [02:11<00:00,  9.92it/s, 100 steps of size 1.89e+34. acc. prob=0.96]\n",
      "sample: 100%|█████████████████████████████████████████████████| 1300/1300 [02:21<00:00,  9.20it/s, 100 steps of size 1.05e+07. acc. prob=0.46]\n",
      "  0%|                                                                                                                | 0/1300 [00:00<?, ?it/s]"
     ]
    },
    {
     "name": "stdout",
     "output_type": "stream",
     "text": [
      "[2022-07-13 12:04:47.344991] - eta - 17.78279410038923, mu - 0.1\n",
      "\n"
     ]
    },
    {
     "name": "stderr",
     "output_type": "stream",
     "text": [
      "sample: 100%|█████████████████████████████████████████████████| 1300/1300 [05:24<00:00,  4.00it/s, 868 steps of size 7.71e-03. acc. prob=0.92]\n",
      "sample: 100%|████████████████████████████████████████████████| 1300/1300 [05:51<00:00,  3.70it/s, 1020 steps of size 6.43e-03. acc. prob=0.96]\n",
      "  0%|                                                                                                                | 0/1300 [00:00<?, ?it/s]"
     ]
    },
    {
     "name": "stdout",
     "output_type": "stream",
     "text": [
      "[2022-07-13 12:16:04.344999] - eta - 17.78279410038923, mu - 0.5623413251903491\n",
      "\n"
     ]
    },
    {
     "name": "stderr",
     "output_type": "stream",
     "text": [
      "sample: 100%|█████████████████████████████████████████████████| 1300/1300 [05:17<00:00,  4.10it/s, 891 steps of size 7.44e-03. acc. prob=0.94]\n",
      "sample: 100%|█████████████████████████████████████████████████| 1300/1300 [05:31<00:00,  3.92it/s, 931 steps of size 7.13e-03. acc. prob=0.95]\n",
      "  0%|                                                                                                                | 0/1300 [00:00<?, ?it/s]"
     ]
    },
    {
     "name": "stdout",
     "output_type": "stream",
     "text": [
      "[2022-07-13 12:26:53.849407] - eta - 17.78279410038923, mu - 3.1622776601683795\n",
      "\n"
     ]
    },
    {
     "name": "stderr",
     "output_type": "stream",
     "text": [
      "sample: 100%|█████████████████████████████████████████████████| 1300/1300 [05:48<00:00,  3.74it/s, 997 steps of size 6.66e-03. acc. prob=0.94]\n",
      "sample: 100%|█████████████████████████████████████████████████| 1300/1300 [05:25<00:00,  4.00it/s, 966 steps of size 6.83e-03. acc. prob=0.94]\n",
      "  0%|                                                                                                                | 0/1300 [00:00<?, ?it/s]"
     ]
    },
    {
     "name": "stdout",
     "output_type": "stream",
     "text": [
      "[2022-07-13 12:38:07.358152] - eta - 17.78279410038923, mu - 17.78279410038923\n",
      "\n"
     ]
    },
    {
     "name": "stderr",
     "output_type": "stream",
     "text": [
      "sample: 100%|████████████████████████████████████████████████| 1300/1300 [05:00<00:00,  4.33it/s, 1004 steps of size 6.57e-03. acc. prob=0.95]\n",
      "sample: 100%|█████████████████████████████████████████████████| 1300/1300 [05:03<00:00,  4.29it/s, 905 steps of size 7.38e-03. acc. prob=0.95]\n",
      "  0%|                                                                                                                | 0/1300 [00:00<?, ?it/s]"
     ]
    },
    {
     "name": "stdout",
     "output_type": "stream",
     "text": [
      "[2022-07-13 12:48:11.402898] - eta - 17.78279410038923, mu - 100.0\n",
      "\n"
     ]
    },
    {
     "name": "stderr",
     "output_type": "stream",
     "text": [
      "sample: 100%|█████████████████████████████████████████████████| 1300/1300 [01:57<00:00, 11.02it/s, 100 steps of size 6.94e+33. acc. prob=0.96]\n",
      "sample: 100%|█████████████████████████████████████████████████| 1300/1300 [02:07<00:00, 10.17it/s, 100 steps of size 2.06e+30. acc. prob=0.91]\n",
      "  0%|                                                                                                                | 0/1300 [00:00<?, ?it/s]"
     ]
    },
    {
     "name": "stdout",
     "output_type": "stream",
     "text": [
      "[2022-07-13 12:52:17.667078] - eta - 100.0, mu - 0.1\n",
      "\n"
     ]
    },
    {
     "name": "stderr",
     "output_type": "stream",
     "text": [
      "sample: 100%|█████████████████████████████████████████████████| 1300/1300 [05:56<00:00,  3.64it/s, 949 steps of size 7.00e-03. acc. prob=0.93]\n",
      "sample: 100%|█████████████████████████████████████████████████| 1300/1300 [05:23<00:00,  4.02it/s, 911 steps of size 7.28e-03. acc. prob=0.95]\n",
      "  0%|                                                                                                                | 0/1300 [00:00<?, ?it/s]"
     ]
    },
    {
     "name": "stdout",
     "output_type": "stream",
     "text": [
      "[2022-07-13 13:03:38.057496] - eta - 100.0, mu - 0.5623413251903491\n",
      "\n"
     ]
    },
    {
     "name": "stderr",
     "output_type": "stream",
     "text": [
      "sample: 100%|█████████████████████████████████████████████████| 1300/1300 [05:47<00:00,  3.74it/s, 888 steps of size 7.48e-03. acc. prob=0.93]\n",
      "sample: 100%|█████████████████████████████████████████████████| 1300/1300 [56:31<00:00,  2.61s/it, 894 steps of size 7.47e-03. acc. prob=0.94]\n",
      "  0%|                                                                                                                | 0/1300 [00:00<?, ?it/s]"
     ]
    },
    {
     "name": "stdout",
     "output_type": "stream",
     "text": [
      "[2022-07-13 14:05:57.493215] - eta - 100.0, mu - 3.1622776601683795\n",
      "\n"
     ]
    },
    {
     "name": "stderr",
     "output_type": "stream",
     "text": [
      "sample: 100%|████████████████████████████████████████████████| 1300/1300 [06:27<00:00,  3.35it/s, 1003 steps of size 6.58e-03. acc. prob=0.95]\n",
      "sample: 100%|█████████████████████████████████████████████████| 1300/1300 [05:32<00:00,  3.91it/s, 843 steps of size 7.94e-03. acc. prob=0.94]\n",
      "  0%|                                                                                                                | 0/1300 [00:00<?, ?it/s]"
     ]
    },
    {
     "name": "stdout",
     "output_type": "stream",
     "text": [
      "[2022-07-13 14:17:58.569443] - eta - 100.0, mu - 17.78279410038923\n",
      "\n"
     ]
    },
    {
     "name": "stderr",
     "output_type": "stream",
     "text": [
      "sample: 100%|█████████████████████████████████████████████████| 1300/1300 [06:02<00:00,  3.58it/s, 982 steps of size 6.75e-03. acc. prob=0.94]\n",
      "sample: 100%|█████████████████████████████████████████████████| 1300/1300 [05:44<00:00,  3.77it/s, 949 steps of size 7.00e-03. acc. prob=0.95]\n",
      "  0%|                                                                                                                | 0/1300 [00:00<?, ?it/s]"
     ]
    },
    {
     "name": "stdout",
     "output_type": "stream",
     "text": [
      "[2022-07-13 14:29:46.375767] - eta - 100.0, mu - 100.0\n",
      "\n"
     ]
    },
    {
     "name": "stderr",
     "output_type": "stream",
     "text": [
      "sample: 100%|█████████████████████████████████████████████████| 1300/1300 [06:19<00:00,  3.42it/s, 978 steps of size 6.77e-03. acc. prob=0.94]\n",
      "sample: 100%|█████████████████████████████████████████████████| 1300/1300 [04:06<00:00,  5.28it/s, 844 steps of size 7.93e-03. acc. prob=0.93]\n"
     ]
    }
   ],
   "source": [
    "from datetime import datetime\n",
    "\n",
    "gamma_s = np.zeros((k, k, n_chains*n_samples, p))\n",
    "beta_s = np.zeros((k, k, n_chains*n_samples, p))\n",
    "kernel_2 = MixedHMC(HMC(model), random_walk=False)\n",
    "for i in range(k):\n",
    "    for j in range(k):\n",
    "        eta, mu = rng_vals[i], rng_vals[j]\n",
    "        print(f\"[{datetime.now()}] - eta - {eta}, mu - {mu}\\n\")\n",
    "        kernel_2 = MixedHMC(HMC(model), random_walk=False)\n",
    "        mcmc_2 = MCMC(kernel_2, num_warmup=n_warmup, num_samples=n_samples, num_chains=n_chains, progress_bar=True)\n",
    "        mcmc_2.run(key, X_train, y_train, 25*np.identity(p), J, eta, mu)\n",
    "        gamma_s[i, j] = jax.device_get(mcmc_2.get_samples()[\"gamma\"])\n",
    "        beta_s[i, j] = jax.device_get(mcmc_2.get_samples()[\"beta\"])\n",
    "\n",
    "np.save(\"data/np_data/gamma_s_rng_eta_mu.npy\", gamma_s)\n",
    "np.save(\"data/np_data/beta_s_rng_eta_mu.npy\", beta_s)"
   ],
   "metadata": {
    "collapsed": false,
    "pycharm": {
     "name": "#%%\n",
     "is_executing": true
    }
   }
  },
  {
   "cell_type": "code",
   "execution_count": 62,
   "outputs": [
    {
     "data": {
      "text/plain": "(5, 5, 2000, 100)"
     },
     "execution_count": 62,
     "metadata": {},
     "output_type": "execute_result"
    }
   ],
   "source": [
    "gamma_s.shape"
   ],
   "metadata": {
    "collapsed": false,
    "pycharm": {
     "name": "#%%\n"
    }
   }
  },
  {
   "cell_type": "code",
   "execution_count": 70,
   "outputs": [
    {
     "data": {
      "text/plain": "array([ 2.02470035, -1.3952674 ,  0.79236359,  0.18937067,  1.27998535,\n       -1.4262246 , -0.42298015,  2.37922548, -0.84221846, -2.8132738 ,\n        2.03311189,  2.20226941, -1.16324401,  0.52333144, -4.97850684,\n        0.30972554,  3.15126176,  1.69575367, -0.67643823,  0.43167485,\n        2.28957269, -0.73142284, -2.08011111, -1.33891044,  1.60551997,\n       -0.56667742,  0.4734302 ,  0.87061806, -0.35753307, -2.61180529,\n       -0.1292876 , -1.88205278, -0.35285134, -0.54835778, -0.53055139,\n        2.04927544,  0.60977978, -3.57285151, -1.76140037, -0.08150023,\n       -0.26588763, -2.31523175, -0.05392356, -1.15318115,  2.03728376,\n       -0.78938947, -0.29259786, -0.84059664,  0.0287384 , -0.13124026,\n        1.22975465, -0.08859418, -0.44407875,  0.48811478,  0.54064378,\n       -3.16654992, -2.84901929,  0.02005715,  2.49042688,  1.33254974,\n        0.19487228,  0.33626175,  1.10676439,  2.73273127, -0.23968469,\n       -0.21884871,  0.85913672, -0.65450935, -1.33938922,  2.26680054,\n        1.90331477, -0.52838303,  0.07872396,  0.61566351, -0.04356249,\n        0.55847788,  0.76854448,  0.96480144,  0.17356197, -0.63616391,\n        2.1881945 ,  1.73174376,  0.85362612, -0.79781444,  1.56626812,\n       -0.02056357, -3.59044241,  0.80673302,  0.94973729,  1.91625396,\n        1.4425887 ,  1.61335093, -2.28436015, -4.51511526, -0.40958896,\n       -0.29566288, -0.43305017,  0.86712575, -1.2236299 ,  0.33361344])"
     },
     "execution_count": 70,
     "metadata": {},
     "output_type": "execute_result"
    }
   ],
   "source": [
    "np.mean(beta_s[2, 1], axis=0)"
   ],
   "metadata": {
    "collapsed": false,
    "pycharm": {
     "name": "#%%\n"
    }
   }
  },
  {
   "cell_type": "code",
   "execution_count": 94,
   "outputs": [
    {
     "data": {
      "text/plain": "59.04494382022472"
     },
     "execution_count": 94,
     "metadata": {},
     "output_type": "execute_result"
    }
   ],
   "source": [
    "average_length(rank_hmc_feats_rand(gamma_s[2, 2]))"
   ],
   "metadata": {
    "collapsed": false,
    "pycharm": {
     "name": "#%%\n"
    }
   }
  },
  {
   "cell_type": "code",
   "execution_count": 71,
   "outputs": [
    {
     "data": {
      "text/plain": "array([  0.1       ,   0.56234133,   3.16227766,  17.7827941 ,\n       100.        ])"
     },
     "execution_count": 71,
     "metadata": {},
     "output_type": "execute_result"
    }
   ],
   "source": [
    "rng_vals"
   ],
   "metadata": {
    "collapsed": false,
    "pycharm": {
     "name": "#%%\n"
    }
   }
  },
  {
   "cell_type": "code",
   "execution_count": 112,
   "outputs": [
    {
     "data": {
      "text/plain": "array([ 5, 16, 20, 41, 43, 58, 68, 89, 98])"
     },
     "execution_count": 112,
     "metadata": {},
     "output_type": "execute_result"
    }
   ],
   "source": [
    "idx = np.logical_and(np.var(beta_s[2, 2], axis=0) < 2, np.abs(np.mean(beta_s[2, 2], axis=0)) > 1)\n",
    "# idx = np.abs(np.mean(beta_s[2, 2], axis=0)) > 3\n",
    "ar = np.arange(100)\n",
    "feats_idx = ar[idx]\n",
    "feat_sel = np.zeros(p)\n",
    "feat_sel[feats_idx] = np.mean(beta_s[2, 2][:,feats_idx], axis=0)\n",
    "feats_idx"
   ],
   "metadata": {
    "collapsed": false,
    "pycharm": {
     "name": "#%%\n"
    }
   }
  },
  {
   "cell_type": "code",
   "execution_count": 113,
   "outputs": [
    {
     "name": "stdout",
     "output_type": "stream",
     "text": [
      "train auc - 0.7285636476812948\n",
      "test auc - 0.5423669467787114\n",
      "train auc ord - 0.6630858148008544\n",
      "test auc ord - 0.8187285223367698\n"
     ]
    }
   ],
   "source": [
    "print(f\"train auc - {roc_auc_score(y_train, logistic((X_train @ feat_sel)))}\")\n",
    "print(f\"test auc - {roc_auc_score(y_test, logistic((X_test @ feat_sel)))}\")\n",
    "print(f\"train auc ord - {roc_auc_score(y_train_ord, logistic((X_train_ord @ feat_sel)))}\")\n",
    "print(f\"test auc ord - {roc_auc_score(y_test_ord, logistic((X_test_ord @ feat_sel)))}\")"
   ],
   "metadata": {
    "collapsed": false,
    "pycharm": {
     "name": "#%%\n"
    }
   }
  },
  {
   "cell_type": "code",
   "execution_count": 114,
   "outputs": [
    {
     "name": "stderr",
     "output_type": "stream",
     "text": [
      "100%|███████████████████████████████████████████████████████████████| 1/1 [00:18<00:00, 18.91s/it, m_tr=0.54, m_te=0.55, l_tr=0.50, l_te=0.50]\n"
     ]
    },
    {
     "data": {
      "text/plain": "   moses_cv_score  moses_test_score  log_cv_score  log_test_score\n0        0.535747          0.545168           0.5             0.5",
      "text/html": "<div>\n<style scoped>\n    .dataframe tbody tr th:only-of-type {\n        vertical-align: middle;\n    }\n\n    .dataframe tbody tr th {\n        vertical-align: top;\n    }\n\n    .dataframe thead th {\n        text-align: right;\n    }\n</style>\n<table border=\"1\" class=\"dataframe\">\n  <thead>\n    <tr style=\"text-align: right;\">\n      <th></th>\n      <th>moses_cv_score</th>\n      <th>moses_test_score</th>\n      <th>log_cv_score</th>\n      <th>log_test_score</th>\n    </tr>\n  </thead>\n  <tbody>\n    <tr>\n      <th>0</th>\n      <td>0.535747</td>\n      <td>0.545168</td>\n      <td>0.5</td>\n      <td>0.5</td>\n    </tr>\n  </tbody>\n</table>\n</div>"
     },
     "execution_count": 114,
     "metadata": {},
     "output_type": "execute_result"
    }
   ],
   "source": [
    "run_fs_moses(X_train, X_test, y_train, y_test, seeds[seed_idx], [list(feats_idx)])"
   ],
   "metadata": {
    "collapsed": false,
    "pycharm": {
     "name": "#%%\n"
    }
   }
  },
  {
   "cell_type": "code",
   "execution_count": null,
   "outputs": [],
   "source": [],
   "metadata": {
    "collapsed": false,
    "pycharm": {
     "name": "#%%\n"
    }
   }
  }
 ],
 "metadata": {
  "kernelspec": {
   "display_name": "Python 3",
   "language": "python",
   "name": "python3"
  },
  "language_info": {
   "codemirror_mode": {
    "name": "ipython",
    "version": 2
   },
   "file_extension": ".py",
   "mimetype": "text/x-python",
   "name": "python",
   "nbconvert_exporter": "python",
   "pygments_lexer": "ipython2",
   "version": "2.7.6"
  }
 },
 "nbformat": 4,
 "nbformat_minor": 0
}