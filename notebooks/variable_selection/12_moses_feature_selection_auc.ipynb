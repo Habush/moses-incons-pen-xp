{
 "cells": [
  {
   "cell_type": "markdown",
   "source": [
    "### The Program that generated the data used in this notebook as a threshold of 2 (instead of 5)"
   ],
   "metadata": {
    "collapsed": false,
    "pycharm": {
     "name": "#%% md\n"
    }
   }
  },
  {
   "cell_type": "code",
   "execution_count": null,
   "metadata": {
    "collapsed": true,
    "pycharm": {
     "name": "#%%\n",
     "is_executing": true
    }
   },
   "outputs": [],
   "source": [
    "import matplotlib.pyplot as plt\n",
    "import scipy.sparse\n",
    "%cd \"~/moses-incons-pen-xp\"\n",
    "%load_ext autoreload\n",
    "%autoreload"
   ]
  },
  {
   "cell_type": "code",
   "execution_count": 2,
   "outputs": [],
   "source": [
    "import numpy as np\n",
    "import pandas as pd\n",
    "from sklearn.model_selection import GridSearchCV, train_test_split\n",
    "from sklearn.metrics import roc_auc_score, recall_score, f1_score\n",
    "from notebooks.variable_selection.MosesEstimator import *\n",
    "from notebooks.variable_selection.util import *"
   ],
   "metadata": {
    "collapsed": false,
    "pycharm": {
     "name": "#%%\n"
    }
   }
  },
  {
   "cell_type": "code",
   "execution_count": 7,
   "outputs": [
    {
     "data": {
      "text/plain": "[82, 91, 13, 92, 64, 10, 28, 55, 96, 97]"
     },
     "execution_count": 7,
     "metadata": {},
     "output_type": "execute_result"
    }
   ],
   "source": [
    "from notebooks.variable_selection.util import load_bmm_files\n",
    "seeds, data_dfs, net_dfs, feats = load_bmm_files(\"data/bmm_data_thr_2\")\n",
    "seeds"
   ],
   "metadata": {
    "collapsed": false,
    "pycharm": {
     "name": "#%%\n"
    }
   }
  },
  {
   "cell_type": "markdown",
   "source": [
    "### No Background Penalty, complexity ratio = 10"
   ],
   "metadata": {
    "collapsed": false,
    "pycharm": {
     "name": "#%% md\n"
    }
   }
  },
  {
   "cell_type": "code",
   "execution_count": 11,
   "outputs": [
    {
     "data": {
      "text/plain": "[0.597319032590167,\n 0.609970514817979,\n 0.604939947222976,\n 0.604077825159915,\n 0.688818515167389,\n 0.688819125939607,\n 0.698209376749472,\n 0.636555022706168,\n 0.624421756681104,\n 0.504932305278603]"
     },
     "execution_count": 11,
     "metadata": {},
     "output_type": "execute_result"
    }
   ],
   "source": [
    "base_auc = []\n",
    "with open(\"data/bmm_data_thr_2/base_auc.txt\", \"r\") as fp:\n",
    "    base_auc = [float(i) for i in fp.readline().strip().split(',')]\n",
    "\n",
    "base_auc"
   ],
   "metadata": {
    "collapsed": false,
    "pycharm": {
     "name": "#%%\n"
    }
   }
  },
  {
   "cell_type": "code",
   "execution_count": 12,
   "outputs": [
    {
     "data": {
      "text/plain": "{82: [57, 943],\n 91: [47, 953],\n 13: [48, 952],\n 92: [140, 860],\n 64: [114, 886],\n 10: [110, 890],\n 28: [403, 597],\n 55: [69, 931],\n 96: [154, 846],\n 97: [29, 971]}"
     },
     "execution_count": 12,
     "metadata": {},
     "output_type": "execute_result"
    }
   ],
   "source": [
    "target_count = {}\n",
    "\n",
    "for seed, df in zip(seeds, data_dfs):\n",
    "    count = df[\"y\"].value_counts()\n",
    "    target_count[seed] = [count[0], count[1]]\n",
    "\n",
    "target_count"
   ],
   "metadata": {
    "collapsed": false,
    "pycharm": {
     "name": "#%%\n"
    }
   }
  },
  {
   "cell_type": "code",
   "execution_count": 8,
   "outputs": [
    {
     "name": "stdout",
     "output_type": "stream",
     "text": [
      "Now running seed - 82\n",
      "Fitting 5 folds for each of 1 candidates, totalling 5 fits\n",
      "Best params: {'alpha': 0.0, 'complexity_ratio': 10}, cv score: 0.49363796909492275, test score: 0.6657046657046656\n",
      "Now running seed - 91\n",
      "Fitting 5 folds for each of 1 candidates, totalling 5 fits\n",
      "Best params: {'alpha': 0.0, 'complexity_ratio': 10}, cv score: 0.46068418595508376, test score: 0.33304246655032\n",
      "Now running seed - 13\n",
      "Fitting 5 folds for each of 1 candidates, totalling 5 fits\n",
      "Best params: {'alpha': 0.0, 'complexity_ratio': 10}, cv score: 0.5464015430733696, test score: 0.4789473684210526\n",
      "Now running seed - 92\n",
      "Fitting 5 folds for each of 1 candidates, totalling 5 fits\n",
      "Best params: {'alpha': 0.0, 'complexity_ratio': 10}, cv score: 0.540960060779166, test score: 0.4946013289036545\n",
      "Now running seed - 64\n",
      "Fitting 5 folds for each of 1 candidates, totalling 5 fits\n",
      "Best params: {'alpha': 0.0, 'complexity_ratio': 10}, cv score: 0.48056357305209885, test score: 0.5221075902726603\n",
      "Now running seed - 10\n",
      "Fitting 5 folds for each of 1 candidates, totalling 5 fits\n",
      "Best params: {'alpha': 0.0, 'complexity_ratio': 10}, cv score: 0.600413670836206, test score: 0.6098059244126659\n",
      "Now running seed - 28\n",
      "Fitting 5 folds for each of 1 candidates, totalling 5 fits\n",
      "Best params: {'alpha': 0.0, 'complexity_ratio': 10}, cv score: 0.5247465418353576, test score: 0.5126569146176989\n",
      "Now running seed - 55\n",
      "Fitting 5 folds for each of 1 candidates, totalling 5 fits\n",
      "Best params: {'alpha': 0.0, 'complexity_ratio': 10}, cv score: 0.47937766931055525, test score: 0.5357142857142857\n",
      "Now running seed - 96\n",
      "Fitting 5 folds for each of 1 candidates, totalling 5 fits\n",
      "Best params: {'alpha': 0.0, 'complexity_ratio': 10}, cv score: 0.5384869281045751, test score: 0.5450467646497423\n",
      "Now running seed - 97\n",
      "Fitting 5 folds for each of 1 candidates, totalling 5 fits\n",
      "Best params: {'alpha': 0.0, 'complexity_ratio': 10}, cv score: 0.47700578990901576, test score: 0.49226804123711343\n",
      "Done\n"
     ]
    }
   ],
   "source": [
    "from notebooks.variable_selection.MosesEstimator import *\n",
    "\n",
    "# no background penalty\n",
    "\n",
    "res_1 = run_moses_exps(seeds, data_dfs, net_dfs)"
   ],
   "metadata": {
    "collapsed": false,
    "pycharm": {
     "name": "#%%\n"
    }
   }
  },
  {
   "cell_type": "code",
   "execution_count": 13,
   "outputs": [
    {
     "data": {
      "text/plain": "   seed  alpha  complexity_ratio  cv_score  test_score      0/1  base_auc\n0    82    0.0                10  0.493638    0.665705   57/943  0.597319\n1    91    0.0                10  0.460684    0.333042   47/953  0.609971\n2    13    0.0                10  0.546402    0.478947   48/952  0.604940\n3    92    0.0                10  0.540960    0.494601  140/860  0.604078\n4    64    0.0                10  0.480564    0.522108  114/886  0.688819\n5    10    0.0                10  0.600414    0.609806  110/890  0.688819\n6    28    0.0                10  0.524747    0.512657  403/597  0.698209\n7    55    0.0                10  0.479378    0.535714   69/931  0.636555\n8    96    0.0                10  0.538487    0.545047  154/846  0.624422\n9    97    0.0                10  0.477006    0.492268   29/971  0.504932",
      "text/html": "<div>\n<style scoped>\n    .dataframe tbody tr th:only-of-type {\n        vertical-align: middle;\n    }\n\n    .dataframe tbody tr th {\n        vertical-align: top;\n    }\n\n    .dataframe thead th {\n        text-align: right;\n    }\n</style>\n<table border=\"1\" class=\"dataframe\">\n  <thead>\n    <tr style=\"text-align: right;\">\n      <th></th>\n      <th>seed</th>\n      <th>alpha</th>\n      <th>complexity_ratio</th>\n      <th>cv_score</th>\n      <th>test_score</th>\n      <th>0/1</th>\n      <th>base_auc</th>\n    </tr>\n  </thead>\n  <tbody>\n    <tr>\n      <th>0</th>\n      <td>82</td>\n      <td>0.0</td>\n      <td>10</td>\n      <td>0.493638</td>\n      <td>0.665705</td>\n      <td>57/943</td>\n      <td>0.597319</td>\n    </tr>\n    <tr>\n      <th>1</th>\n      <td>91</td>\n      <td>0.0</td>\n      <td>10</td>\n      <td>0.460684</td>\n      <td>0.333042</td>\n      <td>47/953</td>\n      <td>0.609971</td>\n    </tr>\n    <tr>\n      <th>2</th>\n      <td>13</td>\n      <td>0.0</td>\n      <td>10</td>\n      <td>0.546402</td>\n      <td>0.478947</td>\n      <td>48/952</td>\n      <td>0.604940</td>\n    </tr>\n    <tr>\n      <th>3</th>\n      <td>92</td>\n      <td>0.0</td>\n      <td>10</td>\n      <td>0.540960</td>\n      <td>0.494601</td>\n      <td>140/860</td>\n      <td>0.604078</td>\n    </tr>\n    <tr>\n      <th>4</th>\n      <td>64</td>\n      <td>0.0</td>\n      <td>10</td>\n      <td>0.480564</td>\n      <td>0.522108</td>\n      <td>114/886</td>\n      <td>0.688819</td>\n    </tr>\n    <tr>\n      <th>5</th>\n      <td>10</td>\n      <td>0.0</td>\n      <td>10</td>\n      <td>0.600414</td>\n      <td>0.609806</td>\n      <td>110/890</td>\n      <td>0.688819</td>\n    </tr>\n    <tr>\n      <th>6</th>\n      <td>28</td>\n      <td>0.0</td>\n      <td>10</td>\n      <td>0.524747</td>\n      <td>0.512657</td>\n      <td>403/597</td>\n      <td>0.698209</td>\n    </tr>\n    <tr>\n      <th>7</th>\n      <td>55</td>\n      <td>0.0</td>\n      <td>10</td>\n      <td>0.479378</td>\n      <td>0.535714</td>\n      <td>69/931</td>\n      <td>0.636555</td>\n    </tr>\n    <tr>\n      <th>8</th>\n      <td>96</td>\n      <td>0.0</td>\n      <td>10</td>\n      <td>0.538487</td>\n      <td>0.545047</td>\n      <td>154/846</td>\n      <td>0.624422</td>\n    </tr>\n    <tr>\n      <th>9</th>\n      <td>97</td>\n      <td>0.0</td>\n      <td>10</td>\n      <td>0.477006</td>\n      <td>0.492268</td>\n      <td>29/971</td>\n      <td>0.504932</td>\n    </tr>\n  </tbody>\n</table>\n</div>"
     },
     "execution_count": 13,
     "metadata": {},
     "output_type": "execute_result"
    }
   ],
   "source": [
    "res_1_df = result_df(res_1, target_count, base_auc)\n",
    "res_1_df"
   ],
   "metadata": {
    "collapsed": false,
    "pycharm": {
     "name": "#%%\n"
    }
   }
  },
  {
   "cell_type": "code",
   "execution_count": 9,
   "outputs": [
    {
     "data": {
      "text/plain": "array([1.00000000e-03, 4.64158883e-03, 2.15443469e-02, 1.00000000e-01,\n       4.64158883e-01, 2.15443469e+00, 1.00000000e+01, 4.64158883e+01,\n       2.15443469e+02, 1.00000000e+03])"
     },
     "execution_count": 9,
     "metadata": {},
     "output_type": "execute_result"
    }
   ],
   "source": [
    "alphas = np.logspace(-3, 3, 10)\n",
    "alphas"
   ],
   "metadata": {
    "collapsed": false,
    "pycharm": {
     "name": "#%%\n"
    }
   }
  },
  {
   "cell_type": "markdown",
   "source": [
    "### Background Penalty, complexity ratio = 10"
   ],
   "metadata": {
    "collapsed": false,
    "pycharm": {
     "name": "#%% md\n"
    }
   }
  },
  {
   "cell_type": "code",
   "execution_count": 10,
   "outputs": [
    {
     "name": "stdout",
     "output_type": "stream",
     "text": [
      "Now running seed - 82\n",
      "Fitting 5 folds for each of 10 candidates, totalling 50 fits\n",
      "Best params: {'alpha': 0.46415888336127775, 'complexity_ratio': 10}, cv score: 0.5618072111846946, test score: 0.5305435305435305\n",
      "Now running seed - 91\n",
      "Fitting 5 folds for each of 10 candidates, totalling 50 fits\n",
      "Best params: {'alpha': 2.154434690031882, 'complexity_ratio': 10}, cv score: 0.5811501793699936, test score: 0.529086678301338\n",
      "Now running seed - 13\n",
      "Fitting 5 folds for each of 10 candidates, totalling 50 fits\n",
      "Best params: {'alpha': 10.0, 'complexity_ratio': 10}, cv score: 0.6613494520615263, test score: 0.5842105263157895\n",
      "Now running seed - 92\n",
      "Fitting 5 folds for each of 10 candidates, totalling 50 fits\n",
      "Best params: {'alpha': 10.0, 'complexity_ratio': 10}, cv score: 0.5719324312628026, test score: 0.5519102990033222\n",
      "Now running seed - 64\n",
      "Fitting 5 folds for each of 10 candidates, totalling 50 fits\n",
      "Best params: {'alpha': 2.154434690031882, 'complexity_ratio': 10}, cv score: 0.5790472585419197, test score: 0.515352493244903\n",
      "Now running seed - 10\n",
      "Fitting 5 folds for each of 10 candidates, totalling 50 fits\n",
      "Best params: {'alpha': 10.0, 'complexity_ratio': 10}, cv score: 0.6559122871053277, test score: 0.6412155260469867\n",
      "Now running seed - 28\n",
      "Fitting 5 folds for each of 10 candidates, totalling 50 fits\n",
      "Best params: {'alpha': 0.021544346900318832, 'complexity_ratio': 10}, cv score: 0.5421550269905533, test score: 0.491804129059031\n",
      "Now running seed - 55\n",
      "Fitting 5 folds for each of 10 candidates, totalling 50 fits\n",
      "Best params: {'alpha': 0.46415888336127775, 'complexity_ratio': 10}, cv score: 0.5176937156802929, test score: 0.5625960061443932\n",
      "Now running seed - 96\n",
      "Fitting 5 folds for each of 10 candidates, totalling 50 fits\n",
      "Best params: {'alpha': 2.154434690031882, 'complexity_ratio': 10}, cv score: 0.5483877995642701, test score: 0.4829165871349494\n",
      "Now running seed - 97\n",
      "Fitting 5 folds for each of 10 candidates, totalling 50 fits\n",
      "Best params: {'alpha': 0.004641588833612777, 'complexity_ratio': 10}, cv score: 0.5528949545078576, test score: 0.6451890034364262\n",
      "Done\n"
     ]
    }
   ],
   "source": [
    "res_2 = run_moses_exps(seeds, data_dfs, net_dfs, alphas=alphas)"
   ],
   "metadata": {
    "collapsed": false,
    "pycharm": {
     "name": "#%%\n"
    }
   }
  },
  {
   "cell_type": "code",
   "execution_count": 14,
   "outputs": [
    {
     "data": {
      "text/plain": "   seed      alpha  complexity_ratio  cv_score  test_score      0/1  base_auc\n0    82   0.464159                10  0.561807    0.530544   57/943  0.597319\n1    91   2.154435                10  0.581150    0.529087   47/953  0.609971\n2    13  10.000000                10  0.661349    0.584211   48/952  0.604940\n3    92  10.000000                10  0.571932    0.551910  140/860  0.604078\n4    64   2.154435                10  0.579047    0.515352  114/886  0.688819\n5    10  10.000000                10  0.655912    0.641216  110/890  0.688819\n6    28   0.021544                10  0.542155    0.491804  403/597  0.698209\n7    55   0.464159                10  0.517694    0.562596   69/931  0.636555\n8    96   2.154435                10  0.548388    0.482917  154/846  0.624422\n9    97   0.004642                10  0.552895    0.645189   29/971  0.504932",
      "text/html": "<div>\n<style scoped>\n    .dataframe tbody tr th:only-of-type {\n        vertical-align: middle;\n    }\n\n    .dataframe tbody tr th {\n        vertical-align: top;\n    }\n\n    .dataframe thead th {\n        text-align: right;\n    }\n</style>\n<table border=\"1\" class=\"dataframe\">\n  <thead>\n    <tr style=\"text-align: right;\">\n      <th></th>\n      <th>seed</th>\n      <th>alpha</th>\n      <th>complexity_ratio</th>\n      <th>cv_score</th>\n      <th>test_score</th>\n      <th>0/1</th>\n      <th>base_auc</th>\n    </tr>\n  </thead>\n  <tbody>\n    <tr>\n      <th>0</th>\n      <td>82</td>\n      <td>0.464159</td>\n      <td>10</td>\n      <td>0.561807</td>\n      <td>0.530544</td>\n      <td>57/943</td>\n      <td>0.597319</td>\n    </tr>\n    <tr>\n      <th>1</th>\n      <td>91</td>\n      <td>2.154435</td>\n      <td>10</td>\n      <td>0.581150</td>\n      <td>0.529087</td>\n      <td>47/953</td>\n      <td>0.609971</td>\n    </tr>\n    <tr>\n      <th>2</th>\n      <td>13</td>\n      <td>10.000000</td>\n      <td>10</td>\n      <td>0.661349</td>\n      <td>0.584211</td>\n      <td>48/952</td>\n      <td>0.604940</td>\n    </tr>\n    <tr>\n      <th>3</th>\n      <td>92</td>\n      <td>10.000000</td>\n      <td>10</td>\n      <td>0.571932</td>\n      <td>0.551910</td>\n      <td>140/860</td>\n      <td>0.604078</td>\n    </tr>\n    <tr>\n      <th>4</th>\n      <td>64</td>\n      <td>2.154435</td>\n      <td>10</td>\n      <td>0.579047</td>\n      <td>0.515352</td>\n      <td>114/886</td>\n      <td>0.688819</td>\n    </tr>\n    <tr>\n      <th>5</th>\n      <td>10</td>\n      <td>10.000000</td>\n      <td>10</td>\n      <td>0.655912</td>\n      <td>0.641216</td>\n      <td>110/890</td>\n      <td>0.688819</td>\n    </tr>\n    <tr>\n      <th>6</th>\n      <td>28</td>\n      <td>0.021544</td>\n      <td>10</td>\n      <td>0.542155</td>\n      <td>0.491804</td>\n      <td>403/597</td>\n      <td>0.698209</td>\n    </tr>\n    <tr>\n      <th>7</th>\n      <td>55</td>\n      <td>0.464159</td>\n      <td>10</td>\n      <td>0.517694</td>\n      <td>0.562596</td>\n      <td>69/931</td>\n      <td>0.636555</td>\n    </tr>\n    <tr>\n      <th>8</th>\n      <td>96</td>\n      <td>2.154435</td>\n      <td>10</td>\n      <td>0.548388</td>\n      <td>0.482917</td>\n      <td>154/846</td>\n      <td>0.624422</td>\n    </tr>\n    <tr>\n      <th>9</th>\n      <td>97</td>\n      <td>0.004642</td>\n      <td>10</td>\n      <td>0.552895</td>\n      <td>0.645189</td>\n      <td>29/971</td>\n      <td>0.504932</td>\n    </tr>\n  </tbody>\n</table>\n</div>"
     },
     "execution_count": 14,
     "metadata": {},
     "output_type": "execute_result"
    }
   ],
   "source": [
    "res_2_df = result_df(res_2, target_count, base_auc)\n",
    "res_2_df"
   ],
   "metadata": {
    "collapsed": false,
    "pycharm": {
     "name": "#%%\n"
    }
   }
  },
  {
   "cell_type": "code",
   "execution_count": 15,
   "outputs": [
    {
     "data": {
      "text/plain": "<matplotlib.legend.Legend at 0x7fda20a42f40>"
     },
     "execution_count": 15,
     "metadata": {},
     "output_type": "execute_result"
    },
    {
     "data": {
      "text/plain": "<Figure size 1296x864 with 2 Axes>",
      "image/png": "[encoded data removed]"
     },
     "metadata": {
      "needs_background": "light"
     },
     "output_type": "display_data"
    }
   ],
   "source": [
    "fig, ax = plt.subplots(1, 2, figsize=(18, 12))\n",
    "\n",
    "fig.suptitle(\"Penalty vs No penalty with complexity ratio = 10\", fontsize=16)\n",
    "\n",
    "index = np.arange(1, 11)\n",
    "bar_width = 0.35\n",
    "ax[0].bar(index, res_2_df[\"cv_score\"]*100, bar_width, label=\"Pen\")\n",
    "ax[0].bar(index + bar_width, res_1_df[\"cv_score\"]*100, bar_width, label=\"No Pen\")\n",
    "ax[0].axhline(y=50, color=\"red\", label=\"random\", linestyle=\"--\")\n",
    "ax[0].set_xlabel(\"Seeds\", fontsize=14)\n",
    "ax[0].set_ylabel(\"train auc\", fontsize=14)\n",
    "\n",
    "ax[1].bar(index, res_2_df[\"test_score\"]*100, bar_width, label=\"Pen\")\n",
    "ax[1].bar(index + bar_width, res_1_df[\"test_score\"]*100, bar_width, label=\"No Pen\")\n",
    "ax[1].set_xlabel(\"Seeds\", fontsize=14)\n",
    "ax[1].set_ylabel(\"test auc\", fontsize=14)\n",
    "ax[1].axhline(y=50, color=\"red\", label=\"random\", linestyle=\"--\")\n",
    "\n",
    "ax[0].legend()\n",
    "ax[1].legend()"
   ],
   "metadata": {
    "collapsed": false,
    "pycharm": {
     "name": "#%%\n"
    }
   }
  },
  {
   "cell_type": "code",
   "execution_count": 16,
   "outputs": [
    {
     "name": "stdout",
     "output_type": "stream",
     "text": [
      "{'cv_score': 0.6099339123298254, 'test_score': 0.5578087167070217, 'est': MosesEstimator(cols=['f13', 'f30', 'f33', 'f34', 'f39', 'f51', 'f6', 'f68',\n",
      "                     'f89', 'f94', 'y'],\n",
      "               fs_algo=None, random_state=82)}\n",
      "{'cv_score': 0.5292003541002857, 'test_score': 0.38830532212885155, 'est': MosesEstimator(cols=['f13', 'f17', 'f4', 'f40', 'f47', 'f51', 'f63', 'f9',\n",
      "                     'f93', 'f95', 'y'],\n",
      "               fs_algo=None, random_state=91)}\n",
      "{'cv_score': 0.6043678244387293, 'test_score': 0.6593137254901961, 'est': MosesEstimator(cols=['f20', 'f31', 'f34', 'f4', 'f46', 'f60', 'f61', 'f66',\n",
      "                     'f67', 'f75', 'y'],\n",
      "               fs_algo=None, random_state=13)}\n",
      "{'cv_score': 0.5739193497830345, 'test_score': 0.506312292358804, 'est': MosesEstimator(cols=['f11', 'f21', 'f26', 'f3', 'f39', 'f49', 'f56', 'f63',\n",
      "                     'f71', 'f9', 'y'],\n",
      "               fs_algo=None, random_state=92)}\n",
      "{'cv_score': 0.6388261299838469, 'test_score': 0.5284755812139179, 'est': MosesEstimator(cols=['f26', 'f32', 'f35', 'f39', 'f42', 'f57', 'f69', 'f71',\n",
      "                     'f94', 'f97', 'y'],\n",
      "               fs_algo=None, random_state=64)}\n",
      "{'cv_score': 0.6778372834415689, 'test_score': 0.5579637933898024, 'est': MosesEstimator(cols=['f28', 'f34', 'f36', 'f46', 'f5', 'f55', 'f61', 'f65',\n",
      "                     'f66', 'f94', 'y'],\n",
      "               fs_algo=None, random_state=10)}\n",
      "{'cv_score': 0.625864512903391, 'test_score': 0.5660841251910426, 'est': MosesEstimator(cols=['f39', 'f4', 'f42', 'f44', 'f46', 'f53', 'f61', 'f73',\n",
      "                     'f98', 'f99', 'y'],\n",
      "               fs_algo=None, random_state=28)}\n",
      "{'cv_score': 0.5447011142068946, 'test_score': 0.49747538500378696, 'est': MosesEstimator(cols=['f23', 'f30', 'f32', 'f52', 'f53', 'f56', 'f73', 'f79',\n",
      "                     'f85', 'f88', 'y'],\n",
      "               fs_algo=None, random_state=55)}\n",
      "{'cv_score': 0.5555360978117246, 'test_score': 0.4556446712844817, 'est': MosesEstimator(cols=['f28', 'f34', 'f4', 'f43', 'f49', 'f52', 'f57', 'f76',\n",
      "                     'f79', 'f85', 'y'],\n",
      "               fs_algo=None, random_state=96)}\n",
      "{'cv_score': 0.5124656043190526, 'test_score': 0.4850088183421517, 'est': MosesEstimator(cols=['f11', 'f24', 'f30', 'f32', 'f52', 'f60', 'f8', 'f84',\n",
      "                     'f89', 'f95', 'y'],\n",
      "               fs_algo=None, random_state=97)}\n"
     ]
    }
   ],
   "source": [
    "from notebooks.variable_selection.MosesEstimator import *\n",
    "from sklearn.model_selection import cross_val_score\n",
    "import subprocess as subp\n",
    "\n",
    "i = 0\n",
    "\n",
    "results_fs_auc = {}\n",
    "for seed, df in zip(seeds, data_dfs):\n",
    "    X_s, y_s = df[df.columns.difference([\"y\"])], df[\"y\"]\n",
    "    X_s_train, X_s_test, y_s_train, y_s_test = train_test_split(X_s, y_s, stratify=y_s, shuffle=True, random_state=seed)\n",
    "    data_train_s = pd.concat([X_s_train, y_s_train], axis=1)\n",
    "    data_train_s.to_csv(f\"data/exps5/data_train_{seed}.csv\", index=False)\n",
    "    cmd = [\"asfeature-selection\", \"-i\", f\"data/exps5/data_train_{seed}.csv\",  \"-uy\", \"-asmd\", \"-C10\", \"-o\", f\"data/exps5/data_train_r_{seed}.csv\", \"-F\", \"data/exps5/fs.log\"]\n",
    "    process = subp.Popen(args=cmd, stdout=subp.PIPE, stderr=subp.PIPE)\n",
    "    stdout, stderr = process.communicate()\n",
    "    if process.returncode != 0:\n",
    "        raise RuntimeError(f\"MOSES ran into an error with return code {process.returncode}. Here is the stderr output:\\n{stderr.decode('utf-8')}\")\n",
    "\n",
    "    data_r = pd.read_csv(f\"data/exps5/data_train_r_{seed}.csv\")\n",
    "    cols = [col for col in data_r.columns if col != \"y\"] + [\"y\"] # asfeature-selection doesn't output columns in the order its given so fix it here\n",
    "    data_r = data_r[cols]\n",
    "    X_r_train, y_r_train = data_r[data_r.columns.difference([\"y\"])].to_numpy(), data_r[\"y\"].to_numpy()\n",
    "    X_r_test = X_s_test[cols[:-1]]\n",
    "    cv_score = np.mean(cross_val_score(MosesEstimator(fs_algo=None, random_state=seed, cols=cols), X_r_train, y_r_train, n_jobs=-1))\n",
    "    moses_est_r = MosesEstimator(fs_algo=None, random_state=seed, cols=cols).fit(X_r_train, y_r_train)\n",
    "    # print(\"Scoring on test dataset\")\n",
    "    test_score = moses_est_r.score(X_r_test.to_numpy(), y_s_test.to_numpy())\n",
    "    res = {\"cv_score\": cv_score, \"test_score\": test_score, \"est\": moses_est_r}\n",
    "    print(res)\n",
    "    results_fs_auc[seed] = res\n",
    "\n",
    "\n",
    "    i += 1\n"
   ],
   "metadata": {
    "collapsed": false,
    "pycharm": {
     "name": "#%%\n"
    }
   }
  },
  {
   "cell_type": "code",
   "execution_count": 17,
   "outputs": [
    {
     "name": "stdout",
     "output_type": "stream",
     "text": [
      "{'cv_score': 0.5534948760867175, 'test_score': 0.5172518159806295, 'est': MosesEstimator(cols=['f11', 'f14', 'f22', 'f39', 'f45', 'f48', 'f49', 'f68',\n",
      "                     'f83', 'f88', 'y'],\n",
      "               fs_algo=None, random_state=82)}\n",
      "{'cv_score': 0.6104144114942951, 'test_score': 0.5241596638655462, 'est': MosesEstimator(cols=['f18', 'f22', 'f38', 'f47', 'f54', 'f57', 'f69', 'f77',\n",
      "                     'f84', 'f93', 'y'],\n",
      "               fs_algo=None, random_state=91)}\n",
      "{'cv_score': 0.7549869756907187, 'test_score': 0.5903361344537815, 'est': MosesEstimator(cols=['f18', 'f20', 'f46', 'f52', 'f60', 'f61', 'f66', 'f67',\n",
      "                     'f76', 'f90', 'y'],\n",
      "               fs_algo=None, random_state=13)}\n",
      "{'cv_score': 0.6210203126095923, 'test_score': 0.5176079734219269, 'est': MosesEstimator(cols=['f1', 'f11', 'f12', 'f36', 'f42', 'f56', 'f62', 'f63',\n",
      "                     'f79', 'f9', 'y'],\n",
      "               fs_algo=None, random_state=92)}\n",
      "{'cv_score': 0.6098188629837843, 'test_score': 0.6336401934779217, 'est': MosesEstimator(cols=['f16', 'f17', 'f20', 'f23', 'f24', 'f26', 'f35', 'f39',\n",
      "                     'f42', 'f71', 'y'],\n",
      "               fs_algo=None, random_state=64)}\n",
      "{'cv_score': 0.6974835243346547, 'test_score': 0.5905165254941039, 'est': MosesEstimator(cols=['f23', 'f27', 'f28', 'f46', 'f5', 'f52', 'f55', 'f61',\n",
      "                     'f66', 'f94', 'y'],\n",
      "               fs_algo=None, random_state=10)}\n",
      "{'cv_score': 0.6272090519887011, 'test_score': 0.5534919263738455, 'est': MosesEstimator(cols=['f10', 'f15', 'f34', 'f39', 'f4', 'f44', 'f46', 'f50',\n",
      "                     'f53', 'f98', 'y'],\n",
      "               fs_algo=None, random_state=28)}\n",
      "{'cv_score': 0.6185985731175655, 'test_score': 0.539762686190356, 'est': MosesEstimator(cols=['f15', 'f31', 'f33', 'f34', 'f56', 'f73', 'f79', 'f80',\n",
      "                     'f81', 'f91', 'y'],\n",
      "               fs_algo=None, random_state=55)}\n",
      "{'cv_score': 0.6051095715175331, 'test_score': 0.5000607607242679, 'est': MosesEstimator(cols=['f13', 'f25', 'f34', 'f4', 'f5', 'f52', 'f57', 'f66',\n",
      "                     'f70', 'f79', 'y'],\n",
      "               fs_algo=None, random_state=96)}\n",
      "{'cv_score': 0.5665279195020575, 'test_score': 0.5811287477954145, 'est': MosesEstimator(cols=['f100', 'f24', 'f32', 'f37', 'f4', 'f52', 'f70', 'f82',\n",
      "                     'f91', 'f92', 'y'],\n",
      "               fs_algo=None, random_state=97)}\n"
     ]
    },
    {
     "data": {
      "text/plain": "{82: {'cv_score': 0.5534948760867175,\n  'test_score': 0.5172518159806295,\n  'est': MosesEstimator(cols=['f11', 'f14', 'f22', 'f39', 'f45', 'f48', 'f49', 'f68',\n                       'f83', 'f88', 'y'],\n                 fs_algo=None, random_state=82)},\n 91: {'cv_score': 0.6104144114942951,\n  'test_score': 0.5241596638655462,\n  'est': MosesEstimator(cols=['f18', 'f22', 'f38', 'f47', 'f54', 'f57', 'f69', 'f77',\n                       'f84', 'f93', 'y'],\n                 fs_algo=None, random_state=91)},\n 13: {'cv_score': 0.7549869756907187,\n  'test_score': 0.5903361344537815,\n  'est': MosesEstimator(cols=['f18', 'f20', 'f46', 'f52', 'f60', 'f61', 'f66', 'f67',\n                       'f76', 'f90', 'y'],\n                 fs_algo=None, random_state=13)},\n 92: {'cv_score': 0.6210203126095923,\n  'test_score': 0.5176079734219269,\n  'est': MosesEstimator(cols=['f1', 'f11', 'f12', 'f36', 'f42', 'f56', 'f62', 'f63',\n                       'f79', 'f9', 'y'],\n                 fs_algo=None, random_state=92)},\n 64: {'cv_score': 0.6098188629837843,\n  'test_score': 0.6336401934779217,\n  'est': MosesEstimator(cols=['f16', 'f17', 'f20', 'f23', 'f24', 'f26', 'f35', 'f39',\n                       'f42', 'f71', 'y'],\n                 fs_algo=None, random_state=64)},\n 10: {'cv_score': 0.6974835243346547,\n  'test_score': 0.5905165254941039,\n  'est': MosesEstimator(cols=['f23', 'f27', 'f28', 'f46', 'f5', 'f52', 'f55', 'f61',\n                       'f66', 'f94', 'y'],\n                 fs_algo=None, random_state=10)},\n 28: {'cv_score': 0.6272090519887011,\n  'test_score': 0.5534919263738455,\n  'est': MosesEstimator(cols=['f10', 'f15', 'f34', 'f39', 'f4', 'f44', 'f46', 'f50',\n                       'f53', 'f98', 'y'],\n                 fs_algo=None, random_state=28)},\n 55: {'cv_score': 0.6185985731175655,\n  'test_score': 0.539762686190356,\n  'est': MosesEstimator(cols=['f15', 'f31', 'f33', 'f34', 'f56', 'f73', 'f79', 'f80',\n                       'f81', 'f91', 'y'],\n                 fs_algo=None, random_state=55)},\n 96: {'cv_score': 0.6051095715175331,\n  'test_score': 0.5000607607242679,\n  'est': MosesEstimator(cols=['f13', 'f25', 'f34', 'f4', 'f5', 'f52', 'f57', 'f66',\n                       'f70', 'f79', 'y'],\n                 fs_algo=None, random_state=96)},\n 97: {'cv_score': 0.5665279195020575,\n  'test_score': 0.5811287477954145,\n  'est': MosesEstimator(cols=['f100', 'f24', 'f32', 'f37', 'f4', 'f52', 'f70', 'f82',\n                       'f91', 'f92', 'y'],\n                 fs_algo=None, random_state=97)}}"
     },
     "execution_count": 17,
     "metadata": {},
     "output_type": "execute_result"
    }
   ],
   "source": [
    "from notebooks.variable_selection.MosesEstimator import *\n",
    "from sklearn.model_selection import cross_val_score\n",
    "import subprocess as subp\n",
    "results_fs_init_auc = {}\n",
    "i = 0\n",
    "for seed, df in zip(seeds, data_dfs):\n",
    "    X_s, y_s = df[df.columns.difference([\"y\"])], df[\"y\"]\n",
    "    X_s_train, X_s_test, y_s_train, y_s_test = train_test_split(X_s, y_s, stratify=y_s, shuffle=True, random_state=seed)\n",
    "\n",
    "    data_train_s = pd.concat([X_s_train, y_s_train], axis=1)\n",
    "    data_train_s.to_csv(f\"data/exps5/data_train_{seed}.csv\", index=False)\n",
    "    cmd = [\"asfeature-selection\", \"-i\", f\"data/exps5/data_train_{seed}.csv\",  \"-uy\", \"-asmd\", \"-C10\", \"-o\", f\"data/exps5/data_train_r_{seed}.csv\", \"-F\", f\"data/exps5/fs_{seed}_init.log\"]\n",
    "    for f in feats[i]:\n",
    "        cmd.append(f\"-ff{f}\")\n",
    "    process = subp.Popen(args=cmd, stdout=subp.PIPE, stderr=subp.PIPE)\n",
    "    stdout, stderr = process.communicate()\n",
    "    if process.returncode != 0:\n",
    "        raise RuntimeError(f\"MOSES ran into an error with return code {process.returncode}. Here is the stderr output:\\n{stderr.decode('utf-8')}\")\n",
    "\n",
    "    data_r = pd.read_csv(f\"data/exps5/data_train_r_{seed}.csv\")\n",
    "    cols = [col for col in data_r.columns if col != \"y\"] + [\"y\"] # asfeature-selection doesn't output columns in the order its given so fix it here\n",
    "    data_r = data_r[cols]\n",
    "    X_r_train, y_r_train = data_r[data_r.columns.difference([\"y\"])].to_numpy(), data_r[\"y\"].to_numpy()\n",
    "    X_r_test = X_s_test[cols[:-1]]\n",
    "    cv_score = np.mean(cross_val_score(MosesEstimator(fs_algo=None, random_state=seed, cols=cols), X_r_train, y_r_train, n_jobs=-1))\n",
    "    moses_est_r = MosesEstimator(fs_algo=None, random_state=seed, cols=cols).fit(X_r_train, y_r_train)\n",
    "    # print(\"Scoring on test dataset\")\n",
    "    test_score = moses_est_r.score(X_r_test.to_numpy(), y_s_test.to_numpy())\n",
    "    res = {\"cv_score\": cv_score, \"test_score\": test_score, \"est\": moses_est_r}\n",
    "    print(res)\n",
    "    results_fs_init_auc[seed] = res\n",
    "    i += 1\n",
    "\n",
    "results_fs_init_auc"
   ],
   "metadata": {
    "collapsed": false,
    "pycharm": {
     "name": "#%%\n"
    }
   }
  },
  {
   "cell_type": "code",
   "execution_count": 18,
   "outputs": [],
   "source": [
    "results_fs_auc_df = {\"seed\": [] ,\"cv_score\": [], \"test_score\": []}\n",
    "results_fs_init_auc_df = {\"seed\": [] ,\"cv_score\": [], \"test_score\": []}\n",
    "\n",
    "for s, v in results_fs_auc.items():\n",
    "    results_fs_auc_df[\"seed\"].append(s)\n",
    "    results_fs_auc_df[\"cv_score\"].append(v[\"cv_score\"])\n",
    "    results_fs_auc_df[\"test_score\"].append(v[\"test_score\"])\n",
    "\n",
    "for s, v in results_fs_init_auc.items():\n",
    "    results_fs_init_auc_df[\"seed\"].append(s)\n",
    "    results_fs_init_auc_df[\"cv_score\"].append(v[\"cv_score\"])\n",
    "    results_fs_init_auc_df[\"test_score\"].append(v[\"test_score\"])\n",
    "\n",
    "results_fs_auc_df = pd.DataFrame(results_fs_auc_df)\n",
    "results_fs_init_auc_df = pd.DataFrame(results_fs_init_auc_df)"
   ],
   "metadata": {
    "collapsed": false,
    "pycharm": {
     "name": "#%%\n"
    }
   }
  },
  {
   "cell_type": "code",
   "execution_count": 19,
   "outputs": [
    {
     "data": {
      "text/plain": "<matplotlib.legend.Legend at 0x7fda207f3d00>"
     },
     "execution_count": 19,
     "metadata": {},
     "output_type": "execute_result"
    },
    {
     "data": {
      "text/plain": "<Figure size 1296x864 with 2 Axes>",
      "image/png": "[encoded data removed]"
     },
     "metadata": {
      "needs_background": "light"
     },
     "output_type": "display_data"
    }
   ],
   "source": [
    "fig, ax = plt.subplots(1, 2, figsize=(18, 12))\n",
    "\n",
    "fig.suptitle(\"Feature selection outside of MOSES\\nInitial FS vs No Init FS with complexity ratio = 10\", fontsize=16)\n",
    "\n",
    "index = np.arange(1, 11)\n",
    "bar_width = 0.35\n",
    "ax[0].bar(index, results_fs_init_auc_df[\"cv_score\"]*100, bar_width, label=\"Init FS\")\n",
    "ax[0].bar(index + bar_width, results_fs_auc_df[\"cv_score\"]*100, bar_width, label=\"No Init FS\")\n",
    "ax[0].axhline(y=50, color=\"red\", label=\"random\", linestyle=\"--\")\n",
    "ax[0].set_xlabel(\"Runs\", fontsize=14)\n",
    "ax[0].set_ylabel(\"train auc\", fontsize=14)\n",
    "\n",
    "ax[1].bar(index, results_fs_init_auc_df[\"test_score\"]*100, bar_width, label=\"Init FS\")\n",
    "ax[1].bar(index + bar_width, results_fs_auc_df[\"test_score\"]*100, bar_width, label=\"No Init FS\")\n",
    "ax[1].set_xlabel(\"Runs\", fontsize=14)\n",
    "ax[1].set_ylabel(\"test auc\", fontsize=14)\n",
    "ax[1].axhline(y=50, color=\"red\", label=\"random\", linestyle=\"--\")\n",
    "\n",
    "ax[0].legend()\n",
    "ax[1].legend()"
   ],
   "metadata": {
    "collapsed": false,
    "pycharm": {
     "name": "#%%\n"
    }
   }
  },
  {
   "cell_type": "code",
   "execution_count": null,
   "outputs": [],
   "source": [],
   "metadata": {
    "collapsed": false,
    "pycharm": {
     "name": "#%%\n"
    }
   }
  }
 ],
 "metadata": {
  "kernelspec": {
   "display_name": "Python 3",
   "language": "python",
   "name": "python3"
  },
  "language_info": {
   "codemirror_mode": {
    "name": "ipython",
    "version": 2
   },
   "file_extension": ".py",
   "mimetype": "text/x-python",
   "name": "python",
   "nbconvert_exporter": "python",
   "pygments_lexer": "ipython2",
   "version": "2.7.6"
  }
 },
 "nbformat": 4,
 "nbformat_minor": 0
}