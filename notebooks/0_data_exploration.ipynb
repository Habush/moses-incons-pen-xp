{
 "cells": [
  {
   "cell_type": "code",
   "execution_count": 1,
   "outputs": [
    {
     "name": "stdout",
     "output_type": "stream",
     "text": [
      "/home/xabush/moses-incons-pen-xp\n"
     ]
    }
   ],
   "source": [
    "%cd \"~/moses-incons-pen-xp\"\n",
    "%load_ext autoreload\n",
    "%autoreload 2"
   ],
   "metadata": {
    "collapsed": false,
    "pycharm": {
     "name": "#%%\n"
    }
   }
  },
  {
   "cell_type": "code",
   "execution_count": 16,
   "outputs": [],
   "source": [
    "import pandas as pd\n",
    "import numpy as np\n",
    "import seaborn as sns\n",
    "from utils import *"
   ],
   "metadata": {
    "collapsed": false,
    "pycharm": {
     "name": "#%%\n"
    }
   }
  },
  {
   "cell_type": "markdown",
   "source": [
    "Load the binarized dataset for studies where the patients took tamoxifen"
   ],
   "metadata": {
    "collapsed": false,
    "pycharm": {
     "name": "#%% md\n"
    }
   }
  },
  {
   "cell_type": "code",
   "execution_count": 3,
   "outputs": [
    {
     "name": "stdout",
     "output_type": "stream",
     "text": [
      "Dataset dims (642, 8833)\n"
     ]
    },
    {
     "data": {
      "text/html": "<div>\n<style scoped>\n    .dataframe tbody tr th:only-of-type {\n        vertical-align: middle;\n    }\n\n    .dataframe tbody tr th {\n        vertical-align: top;\n    }\n\n    .dataframe thead th {\n        text-align: right;\n    }\n</style>\n<table border=\"1\" class=\"dataframe\">\n  <thead>\n    <tr style=\"text-align: right;\">\n      <th></th>\n      <th>posOutcome</th>\n      <th>MAGEA12</th>\n      <th>MAGEA11</th>\n      <th>KLF1</th>\n      <th>ADH7</th>\n      <th>MSH4</th>\n      <th>BIRC3</th>\n      <th>AKR1C4</th>\n      <th>GBX2</th>\n      <th>GCGR</th>\n      <th>...</th>\n      <th>ZNF80</th>\n      <th>ZNF83</th>\n      <th>ZNF84</th>\n      <th>ZNF91</th>\n      <th>ZNHIT2</th>\n      <th>ZSCAN2</th>\n      <th>ZXDC</th>\n      <th>ZYX</th>\n      <th>ZZEF1</th>\n      <th>ZZZ3</th>\n    </tr>\n  </thead>\n  <tbody>\n    <tr>\n      <th>0</th>\n      <td>0</td>\n      <td>0</td>\n      <td>0</td>\n      <td>0</td>\n      <td>1</td>\n      <td>0</td>\n      <td>1</td>\n      <td>1</td>\n      <td>1</td>\n      <td>1</td>\n      <td>...</td>\n      <td>0</td>\n      <td>0</td>\n      <td>0</td>\n      <td>1</td>\n      <td>1</td>\n      <td>0</td>\n      <td>0</td>\n      <td>1</td>\n      <td>0</td>\n      <td>0</td>\n    </tr>\n    <tr>\n      <th>1</th>\n      <td>1</td>\n      <td>1</td>\n      <td>0</td>\n      <td>0</td>\n      <td>0</td>\n      <td>0</td>\n      <td>0</td>\n      <td>1</td>\n      <td>0</td>\n      <td>1</td>\n      <td>...</td>\n      <td>0</td>\n      <td>0</td>\n      <td>0</td>\n      <td>1</td>\n      <td>1</td>\n      <td>0</td>\n      <td>0</td>\n      <td>1</td>\n      <td>0</td>\n      <td>1</td>\n    </tr>\n    <tr>\n      <th>2</th>\n      <td>0</td>\n      <td>0</td>\n      <td>0</td>\n      <td>0</td>\n      <td>1</td>\n      <td>0</td>\n      <td>0</td>\n      <td>1</td>\n      <td>1</td>\n      <td>1</td>\n      <td>...</td>\n      <td>0</td>\n      <td>0</td>\n      <td>0</td>\n      <td>1</td>\n      <td>1</td>\n      <td>0</td>\n      <td>0</td>\n      <td>1</td>\n      <td>0</td>\n      <td>0</td>\n    </tr>\n    <tr>\n      <th>3</th>\n      <td>0</td>\n      <td>0</td>\n      <td>0</td>\n      <td>0</td>\n      <td>0</td>\n      <td>0</td>\n      <td>0</td>\n      <td>1</td>\n      <td>1</td>\n      <td>1</td>\n      <td>...</td>\n      <td>0</td>\n      <td>0</td>\n      <td>0</td>\n      <td>1</td>\n      <td>0</td>\n      <td>0</td>\n      <td>0</td>\n      <td>1</td>\n      <td>0</td>\n      <td>0</td>\n    </tr>\n    <tr>\n      <th>4</th>\n      <td>1</td>\n      <td>0</td>\n      <td>0</td>\n      <td>0</td>\n      <td>0</td>\n      <td>0</td>\n      <td>1</td>\n      <td>1</td>\n      <td>1</td>\n      <td>1</td>\n      <td>...</td>\n      <td>0</td>\n      <td>0</td>\n      <td>0</td>\n      <td>1</td>\n      <td>1</td>\n      <td>0</td>\n      <td>0</td>\n      <td>1</td>\n      <td>0</td>\n      <td>0</td>\n    </tr>\n  </tbody>\n</table>\n<p>5 rows × 8833 columns</p>\n</div>",
      "text/plain": "   posOutcome  MAGEA12  MAGEA11  KLF1  ADH7  MSH4  BIRC3  AKR1C4  GBX2  GCGR  \\\n0           0        0        0     0     1     0      1       1     1     1   \n1           1        1        0     0     0     0      0       1     0     1   \n2           0        0        0     0     1     0      0       1     1     1   \n3           0        0        0     0     0     0      0       1     1     1   \n4           1        0        0     0     0     0      1       1     1     1   \n\n   ...  ZNF80  ZNF83  ZNF84  ZNF91  ZNHIT2  ZSCAN2  ZXDC  ZYX  ZZEF1  ZZZ3  \n0  ...      0      0      0      1       1       0     0    1      0     0  \n1  ...      0      0      0      1       1       0     0    1      0     1  \n2  ...      0      0      0      1       1       0     0    1      0     0  \n3  ...      0      0      0      1       0       0     0    1      0     0  \n4  ...      0      0      0      1       1       0     0    1      0     0  \n\n[5 rows x 8833 columns]"
     },
     "metadata": {},
     "output_type": "display_data"
    }
   ],
   "source": [
    "tamofixen_df = pd.read_csv(\"https://mozi.ai/datasets/cancer/tamoxifen_set/data/tamoxBinary.csv.xz\")\n",
    "display_df_info(tamofixen_df)"
   ],
   "metadata": {
    "collapsed": false,
    "pycharm": {
     "name": "#%%\n"
    }
   }
  },
  {
   "cell_type": "markdown",
   "source": [
    "Select the top 100 differentially expressed genes"
   ],
   "metadata": {
    "collapsed": false,
    "pycharm": {
     "name": "#%% md\n"
    }
   }
  },
  {
   "cell_type": "code",
   "execution_count": 5,
   "outputs": [
    {
     "data": {
      "text/plain": "<AxesSubplot:xlabel='AveExpr', ylabel='Count'>"
     },
     "execution_count": 5,
     "metadata": {},
     "output_type": "execute_result"
    },
    {
     "data": {
      "text/plain": "<Figure size 432x288 with 1 Axes>",
      "image/png": "[encoded data removed]"
     },
     "metadata": {
      "needs_background": "light"
     },
     "output_type": "display_data"
    }
   ],
   "source": [
    "##Load the 4300+ features that have a mean differential expression above 5\n",
    "feats_top_diff_df = pd.read_csv(\"https://mozi.ai/datasets/cancer/tamoxifen_set/data/top100genes4studiesFiltered.csv\")\n",
    "\n",
    "sns.histplot(data=feats_top_diff_df[\"AveExpr\"])"
   ],
   "metadata": {
    "collapsed": false,
    "pycharm": {
     "name": "#%%\n"
    }
   }
  },
  {
   "cell_type": "code",
   "execution_count": 9,
   "outputs": [],
   "source": [
    "#Remove the f.f genes as they can't be found in the intensional sim matrix\n",
    "not_found_feats = ['PHF15', 'MARS', 'IMPAD1', 'ATP5I', 'FAM49B', 'CTSO', 'HIST3H2A', 'ATP5E', 'HN1', 'BRF2', 'UFD1L']\n",
    "feats_top_100_diff = feats_top_diff_df[\"symbol\"].to_list()\n",
    "feats_top_89_diff = [x for x in feats_top_100_diff if x not in not_found_feats]"
   ],
   "metadata": {
    "collapsed": false,
    "pycharm": {
     "name": "#%%\n"
    }
   }
  },
  {
   "cell_type": "markdown",
   "source": [
    "Load the intensional similarity matrix between 4382 genes which are have a mean expression above 5"
   ],
   "metadata": {
    "collapsed": false,
    "pycharm": {
     "name": "#%% md\n"
    }
   }
  },
  {
   "cell_type": "code",
   "execution_count": 7,
   "outputs": [],
   "source": [
    "intensional_sim_df = pd.read_csv(\"https://mozi.ai/datasets/cancer/tamoxifen_set/gene_exps/intensional_similarity_2021-05-12.tsv\", sep=\"\\t\", index_col=\"node_ID\")\n",
    "intensional_sim_df.columns = intensional_sim_df.index.to_list()"
   ],
   "metadata": {
    "collapsed": false,
    "pycharm": {
     "name": "#%%\n"
    }
   }
  },
  {
   "cell_type": "code",
   "execution_count": 12,
   "outputs": [
    {
     "data": {
      "text/html": "<div>\n<style scoped>\n    .dataframe tbody tr th:only-of-type {\n        vertical-align: middle;\n    }\n\n    .dataframe tbody tr th {\n        vertical-align: top;\n    }\n\n    .dataframe thead th {\n        text-align: right;\n    }\n</style>\n<table border=\"1\" class=\"dataframe\">\n  <thead>\n    <tr style=\"text-align: right;\">\n      <th></th>\n      <th>CCDC59</th>\n      <th>COX7A2</th>\n      <th>MB</th>\n      <th>CDKN3</th>\n      <th>NUCKS1</th>\n      <th>RBBP8</th>\n      <th>AURKA</th>\n      <th>MRPL13</th>\n      <th>ENY2</th>\n      <th>RNF7</th>\n      <th>...</th>\n      <th>STK3</th>\n      <th>RBX1</th>\n      <th>DDIT3</th>\n      <th>SF3B5</th>\n      <th>H6PD</th>\n      <th>PDCD5</th>\n      <th>SCFD1</th>\n      <th>PDLIM1</th>\n      <th>IMPA1</th>\n      <th>HSPE1</th>\n    </tr>\n    <tr>\n      <th>node_ID</th>\n      <th></th>\n      <th></th>\n      <th></th>\n      <th></th>\n      <th></th>\n      <th></th>\n      <th></th>\n      <th></th>\n      <th></th>\n      <th></th>\n      <th></th>\n      <th></th>\n      <th></th>\n      <th></th>\n      <th></th>\n      <th></th>\n      <th></th>\n      <th></th>\n      <th></th>\n      <th></th>\n      <th></th>\n    </tr>\n  </thead>\n  <tbody>\n    <tr>\n      <th>CCDC59</th>\n      <td>1.000000</td>\n      <td>0.019483</td>\n      <td>0.023657</td>\n      <td>0.101023</td>\n      <td>0.052632</td>\n      <td>0.055024</td>\n      <td>0.028089</td>\n      <td>0.115620</td>\n      <td>0.050755</td>\n      <td>0.132147</td>\n      <td>...</td>\n      <td>0.037592</td>\n      <td>0.033334</td>\n      <td>0.027246</td>\n      <td>0.188471</td>\n      <td>0.051620</td>\n      <td>0.019226</td>\n      <td>0.003422</td>\n      <td>0.003359</td>\n      <td>0.027232</td>\n      <td>0.041659</td>\n    </tr>\n    <tr>\n      <th>COX7A2</th>\n      <td>0.019483</td>\n      <td>1.000000</td>\n      <td>0.022083</td>\n      <td>0.081420</td>\n      <td>0.023979</td>\n      <td>0.023400</td>\n      <td>0.031211</td>\n      <td>0.043520</td>\n      <td>0.036966</td>\n      <td>0.018341</td>\n      <td>...</td>\n      <td>0.039305</td>\n      <td>0.050790</td>\n      <td>0.036910</td>\n      <td>0.014139</td>\n      <td>0.082838</td>\n      <td>0.014702</td>\n      <td>0.067776</td>\n      <td>0.037626</td>\n      <td>0.045167</td>\n      <td>0.019835</td>\n    </tr>\n    <tr>\n      <th>MB</th>\n      <td>0.023657</td>\n      <td>0.022083</td>\n      <td>1.000000</td>\n      <td>0.007460</td>\n      <td>0.023144</td>\n      <td>0.041989</td>\n      <td>0.028790</td>\n      <td>0.015488</td>\n      <td>0.015680</td>\n      <td>0.043666</td>\n      <td>...</td>\n      <td>0.048312</td>\n      <td>0.020041</td>\n      <td>0.032893</td>\n      <td>0.023547</td>\n      <td>0.021341</td>\n      <td>0.062783</td>\n      <td>0.083692</td>\n      <td>0.094388</td>\n      <td>0.024849</td>\n      <td>0.128301</td>\n    </tr>\n    <tr>\n      <th>CDKN3</th>\n      <td>0.101023</td>\n      <td>0.081420</td>\n      <td>0.007460</td>\n      <td>1.000000</td>\n      <td>0.053039</td>\n      <td>0.126520</td>\n      <td>0.085399</td>\n      <td>0.107108</td>\n      <td>0.078236</td>\n      <td>0.119448</td>\n      <td>...</td>\n      <td>0.146266</td>\n      <td>0.092778</td>\n      <td>0.049550</td>\n      <td>0.037766</td>\n      <td>0.085691</td>\n      <td>0.076103</td>\n      <td>0.029751</td>\n      <td>0.033487</td>\n      <td>0.098979</td>\n      <td>0.063002</td>\n    </tr>\n    <tr>\n      <th>NUCKS1</th>\n      <td>0.052632</td>\n      <td>0.023979</td>\n      <td>0.023144</td>\n      <td>0.053039</td>\n      <td>1.000000</td>\n      <td>0.218844</td>\n      <td>0.080918</td>\n      <td>0.101257</td>\n      <td>0.204263</td>\n      <td>0.043685</td>\n      <td>...</td>\n      <td>0.126201</td>\n      <td>0.143116</td>\n      <td>0.167492</td>\n      <td>0.085049</td>\n      <td>0.043380</td>\n      <td>0.081956</td>\n      <td>0.035510</td>\n      <td>0.166841</td>\n      <td>0.018105</td>\n      <td>0.075782</td>\n    </tr>\n  </tbody>\n</table>\n<p>5 rows × 89 columns</p>\n</div>",
      "text/plain": "           CCDC59    COX7A2        MB     CDKN3    NUCKS1     RBBP8     AURKA  \\\nnode_ID                                                                         \nCCDC59   1.000000  0.019483  0.023657  0.101023  0.052632  0.055024  0.028089   \nCOX7A2   0.019483  1.000000  0.022083  0.081420  0.023979  0.023400  0.031211   \nMB       0.023657  0.022083  1.000000  0.007460  0.023144  0.041989  0.028790   \nCDKN3    0.101023  0.081420  0.007460  1.000000  0.053039  0.126520  0.085399   \nNUCKS1   0.052632  0.023979  0.023144  0.053039  1.000000  0.218844  0.080918   \n\n           MRPL13      ENY2      RNF7  ...      STK3      RBX1     DDIT3  \\\nnode_ID                                ...                                 \nCCDC59   0.115620  0.050755  0.132147  ...  0.037592  0.033334  0.027246   \nCOX7A2   0.043520  0.036966  0.018341  ...  0.039305  0.050790  0.036910   \nMB       0.015488  0.015680  0.043666  ...  0.048312  0.020041  0.032893   \nCDKN3    0.107108  0.078236  0.119448  ...  0.146266  0.092778  0.049550   \nNUCKS1   0.101257  0.204263  0.043685  ...  0.126201  0.143116  0.167492   \n\n            SF3B5      H6PD     PDCD5     SCFD1    PDLIM1     IMPA1     HSPE1  \nnode_ID                                                                        \nCCDC59   0.188471  0.051620  0.019226  0.003422  0.003359  0.027232  0.041659  \nCOX7A2   0.014139  0.082838  0.014702  0.067776  0.037626  0.045167  0.019835  \nMB       0.023547  0.021341  0.062783  0.083692  0.094388  0.024849  0.128301  \nCDKN3    0.037766  0.085691  0.076103  0.029751  0.033487  0.098979  0.063002  \nNUCKS1   0.085049  0.043380  0.081956  0.035510  0.166841  0.018105  0.075782  \n\n[5 rows x 89 columns]"
     },
     "execution_count": 12,
     "metadata": {},
     "output_type": "execute_result"
    }
   ],
   "source": [
    "intensional_sim_top_df = intensional_sim_df[feats_top_89_diff]\n",
    "intensional_sim_top_df = intensional_sim_top_df.loc[feats_top_89_diff]\n",
    "intensional_sim_top_df.head()"
   ],
   "metadata": {
    "collapsed": false,
    "pycharm": {
     "name": "#%%\n"
    }
   }
  },
  {
   "cell_type": "code",
   "execution_count": 30,
   "outputs": [
    {
     "data": {
      "text/plain": "<AxesSubplot:xlabel='COX7A2', ylabel='Count'>"
     },
     "execution_count": 30,
     "metadata": {},
     "output_type": "execute_result"
    },
    {
     "data": {
      "text/plain": "<Figure size 432x288 with 1 Axes>",
      "image/png": "[encoded data removed]"
     },
     "metadata": {
      "needs_background": "light"
     },
     "output_type": "display_data"
    }
   ],
   "source": [
    "sns.histplot(intensional_sim_top_df[\"COX7A2\"])"
   ],
   "metadata": {
    "collapsed": false,
    "pycharm": {
     "name": "#%%\n"
    }
   }
  },
  {
   "cell_type": "code",
   "execution_count": 17,
   "outputs": [
    {
     "name": "stdout",
     "output_type": "stream",
     "text": [
      "Results saved to data/intensional_sim_top_89.scm\n"
     ]
    }
   ],
   "source": [
    "convert_dataframe_to_atomese(intensional_sim_top_df, \"data/intensional_sim_top_89.scm\",\n",
    "                             node1_type=\"ConceptNode\", node2_type=\"ConceptNode\")"
   ],
   "metadata": {
    "collapsed": false,
    "pycharm": {
     "name": "#%%\n"
    }
   }
  },
  {
   "cell_type": "code",
   "execution_count": 14,
   "outputs": [],
   "source": [
    "tamofixen_top_89_df = tamofixen_df[feats_top_89_diff + [\"posOutcome \"]]\n",
    "tamofixen_top_89_df.to_csv(\"data/tamoxBinary_top89_genes.csv\", index=False)"
   ],
   "metadata": {
    "collapsed": false,
    "pycharm": {
     "name": "#%%\n"
    }
   }
  },
  {
   "cell_type": "code",
   "execution_count": 15,
   "outputs": [],
   "source": [
    "tamofixen_top_100_df = tamofixen_df[feats_top_100_diff + [\"posOutcome\"]]\n",
    "tamofixen_top_100_df.to_csv(\"data/tamoxBinary_top100_genes.csv\", index=False)"
   ],
   "metadata": {
    "collapsed": false,
    "pycharm": {
     "name": "#%%\n"
    }
   }
  }
 ],
 "metadata": {
  "kernelspec": {
   "name": "venv",
   "language": "python",
   "display_name": "venv"
  },
  "language_info": {
   "codemirror_mode": {
    "name": "ipython",
    "version": 2
   },
   "file_extension": ".py",
   "mimetype": "text/x-python",
   "name": "python",
   "nbconvert_exporter": "python",
   "pygments_lexer": "ipython2",
   "version": "2.7.6"
  }
 },
 "nbformat": 4,
 "nbformat_minor": 0
}