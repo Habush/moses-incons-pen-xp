{
 "cells": [
  {
   "cell_type": "code",
   "execution_count": 1,
   "outputs": [
    {
     "name": "stdout",
     "output_type": "stream",
     "text": [
      "/home/xabush/moses-incons-pen-xp\n"
     ]
    }
   ],
   "source": [
    "%cd \"~/moses-incons-pen-xp\"\n",
    "%load_ext autoreload\n",
    "%autoreload 2"
   ],
   "metadata": {
    "collapsed": false,
    "pycharm": {
     "name": "#%%\n"
    }
   }
  },
  {
   "cell_type": "code",
   "execution_count": 2,
   "metadata": {
    "collapsed": true
   },
   "outputs": [],
   "source": [
    "import pandas as pd\n",
    "import numpy as np\n",
    "import seaborn as sns\n",
    "from moses_cross_val.main import moses_runner, model_evaluator, cross_val\n",
    "from moses_cross_val.filters import loader\n",
    "from utils import *\n",
    "from dataset_utils import *\n",
    "import matplotlib.pyplot as plt"
   ]
  },
  {
   "cell_type": "code",
   "execution_count": 3,
   "outputs": [],
   "source": [
    "# train_file, test_file = train_test_df_split(\"data/tamoxBinary_top100_genes.csv\", \"posOutcome\")\n",
    "train_file, test_file = \"data/tamoxBinary_top89_genes_train.csv\", \"data/tamoxBinary_top100_genes_test\""
   ],
   "metadata": {
    "collapsed": false,
    "pycharm": {
     "name": "#%%\n"
    }
   }
  },
  {
   "cell_type": "code",
   "execution_count": 4,
   "outputs": [],
   "source": [
    "moses_options = \"-j 16 --balance 1 -m 100000 -W 1 --output-cscore 1 --result-count 100 \" \\\n",
    "                \"--reduct-knob-building-effort 2 --complexity-ratio 3 \" \\\n",
    "                \"--hc-crossover-min-neighbors 5000 --hc-fraction-of-nn .4 \" \\\n",
    "                \"--hc-crossover-pop-size 1200 --diversity-autoscale 1 \" \\\n",
    "                \"-f asmoses-top-100-feats.log -l DEBUG \"\n",
    "\n",
    "moses_options_w_div = moses_options + \" --diversity-pressure 0.8  \"\n",
    "moses_options_w_pen = moses_options + \" --rel-types IntensionalSimilarity --feature-type ConceptNode  --scm-path /home/xabush/moses-incons-pen-xp/data/intensional_sim_top_89.scm  \"\n",
    "moses_options_w_pen_div = moses_options + \" --diversity-pressure 0.8 --rel-types IntensionalSimilarity --feature-type ConceptNode  --scm-path /home/xabush/moses-incons-pen-xp/data/intensional_sim_top_89.scm \""
   ],
   "metadata": {
    "collapsed": false,
    "pycharm": {
     "name": "#%%\n"
    }
   }
  },
  {
   "cell_type": "code",
   "execution_count": 5,
   "outputs": [],
   "source": [
    "cross_val_opts = {\"folds\": 5, \"testSize\": 0.3, \"randomSeed\": 3}"
   ],
   "metadata": {
    "collapsed": false,
    "pycharm": {
     "name": "#%%\n"
    }
   }
  },
  {
   "cell_type": "code",
   "execution_count": null,
   "outputs": [],
   "source": [
    "cv_w_no_pen = cross_val.CrossValidation(\"tamoxBinary_top100_genes.csv\", \"data/cv_no_pen/\",\n",
    "                               \"posOutcome\", moses_options, cross_val_opts, \"precision\", 0.7)\n",
    "\n",
    "cv_w_no_pen.run_folds()"
   ],
   "metadata": {
    "collapsed": false,
    "pycharm": {
     "name": "#%%\n",
     "is_executing": true
    }
   }
  }
 ],
 "metadata": {
  "kernelspec": {
   "name": "venv",
   "language": "python",
   "display_name": "venv"
  },
  "language_info": {
   "codemirror_mode": {
    "name": "ipython",
    "version": 2
   },
   "file_extension": ".py",
   "mimetype": "text/x-python",
   "name": "python",
   "nbconvert_exporter": "python",
   "pygments_lexer": "ipython2",
   "version": "2.7.6"
  }
 },
 "nbformat": 4,
 "nbformat_minor": 0
}