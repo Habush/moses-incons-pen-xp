{
 "cells": [
  {
   "cell_type": "code",
   "execution_count": 1,
   "metadata": {
    "collapsed": true,
    "pycharm": {
     "name": "#%%\n"
    }
   },
   "outputs": [
    {
     "name": "stdout",
     "output_type": "stream",
     "text": [
      "/home/xabush/moses-incons-pen-xp\n"
     ]
    }
   ],
   "source": [
    "import matplotlib.pyplot as plt\n",
    "import scipy.sparse\n",
    "%cd \"~/moses-incons-pen-xp\"\n",
    "%load_ext autoreload\n",
    "%autoreload 2"
   ]
  },
  {
   "cell_type": "code",
   "execution_count": 332,
   "outputs": [],
   "source": [
    "import numpy as np\n",
    "import pandas as pd\n",
    "from sklearn.model_selection import GridSearchCV, train_test_split\n",
    "from sklearn.metrics import roc_auc_score, recall_score, f1_score\n",
    "from notebooks.manifold_reg.MosesEstimator import *\n",
    "from notebooks.manifold_reg.util import *"
   ],
   "metadata": {
    "collapsed": false,
    "pycharm": {
     "name": "#%%\n"
    }
   }
  },
  {
   "cell_type": "code",
   "execution_count": 311,
   "outputs": [
    {
     "data": {
      "text/plain": "(1000, 101)"
     },
     "execution_count": 311,
     "metadata": {},
     "output_type": "execute_result"
    }
   ],
   "source": [
    "data_df = pd.read_csv(\"data/data_bm.csv\", header=None)\n",
    "assign_cols(data_df)\n",
    "data_df.shape"
   ],
   "metadata": {
    "collapsed": false,
    "pycharm": {
     "name": "#%%\n"
    }
   }
  },
  {
   "cell_type": "code",
   "execution_count": 312,
   "outputs": [
    {
     "data": {
      "text/plain": "   f1  f2  f3  f4  f5  f6  f7  f8  f9  f10  ...  f92  f93  f94  f95  f96  f97  \\\n0   1   0   0   1   1   1   0   1   1    1  ...    0    1    1    1    0    0   \n1   0   1   0   1   1   1   0   1   1    1  ...    0    1    1    0    1    0   \n2   0   0   0   1   1   1   0   1   1    1  ...    0    1    1    0    0    0   \n3   0   1   0   1   1   1   0   1   1    1  ...    0    1    1    0    1    0   \n4   1   0   0   1   0   1   0   1   1    1  ...    0    1    1    0    0    1   \n\n   f98  f99  f100  y  \n0    0    1     1  0  \n1    1    1     1  0  \n2    1    1     0  0  \n3    1    1     0  0  \n4    1    1     0  0  \n\n[5 rows x 101 columns]",
      "text/html": "<div>\n<style scoped>\n    .dataframe tbody tr th:only-of-type {\n        vertical-align: middle;\n    }\n\n    .dataframe tbody tr th {\n        vertical-align: top;\n    }\n\n    .dataframe thead th {\n        text-align: right;\n    }\n</style>\n<table border=\"1\" class=\"dataframe\">\n  <thead>\n    <tr style=\"text-align: right;\">\n      <th></th>\n      <th>f1</th>\n      <th>f2</th>\n      <th>f3</th>\n      <th>f4</th>\n      <th>f5</th>\n      <th>f6</th>\n      <th>f7</th>\n      <th>f8</th>\n      <th>f9</th>\n      <th>f10</th>\n      <th>...</th>\n      <th>f92</th>\n      <th>f93</th>\n      <th>f94</th>\n      <th>f95</th>\n      <th>f96</th>\n      <th>f97</th>\n      <th>f98</th>\n      <th>f99</th>\n      <th>f100</th>\n      <th>y</th>\n    </tr>\n  </thead>\n  <tbody>\n    <tr>\n      <th>0</th>\n      <td>1</td>\n      <td>0</td>\n      <td>0</td>\n      <td>1</td>\n      <td>1</td>\n      <td>1</td>\n      <td>0</td>\n      <td>1</td>\n      <td>1</td>\n      <td>1</td>\n      <td>...</td>\n      <td>0</td>\n      <td>1</td>\n      <td>1</td>\n      <td>1</td>\n      <td>0</td>\n      <td>0</td>\n      <td>0</td>\n      <td>1</td>\n      <td>1</td>\n      <td>0</td>\n    </tr>\n    <tr>\n      <th>1</th>\n      <td>0</td>\n      <td>1</td>\n      <td>0</td>\n      <td>1</td>\n      <td>1</td>\n      <td>1</td>\n      <td>0</td>\n      <td>1</td>\n      <td>1</td>\n      <td>1</td>\n      <td>...</td>\n      <td>0</td>\n      <td>1</td>\n      <td>1</td>\n      <td>0</td>\n      <td>1</td>\n      <td>0</td>\n      <td>1</td>\n      <td>1</td>\n      <td>1</td>\n      <td>0</td>\n    </tr>\n    <tr>\n      <th>2</th>\n      <td>0</td>\n      <td>0</td>\n      <td>0</td>\n      <td>1</td>\n      <td>1</td>\n      <td>1</td>\n      <td>0</td>\n      <td>1</td>\n      <td>1</td>\n      <td>1</td>\n      <td>...</td>\n      <td>0</td>\n      <td>1</td>\n      <td>1</td>\n      <td>0</td>\n      <td>0</td>\n      <td>0</td>\n      <td>1</td>\n      <td>1</td>\n      <td>0</td>\n      <td>0</td>\n    </tr>\n    <tr>\n      <th>3</th>\n      <td>0</td>\n      <td>1</td>\n      <td>0</td>\n      <td>1</td>\n      <td>1</td>\n      <td>1</td>\n      <td>0</td>\n      <td>1</td>\n      <td>1</td>\n      <td>1</td>\n      <td>...</td>\n      <td>0</td>\n      <td>1</td>\n      <td>1</td>\n      <td>0</td>\n      <td>1</td>\n      <td>0</td>\n      <td>1</td>\n      <td>1</td>\n      <td>0</td>\n      <td>0</td>\n    </tr>\n    <tr>\n      <th>4</th>\n      <td>1</td>\n      <td>0</td>\n      <td>0</td>\n      <td>1</td>\n      <td>0</td>\n      <td>1</td>\n      <td>0</td>\n      <td>1</td>\n      <td>1</td>\n      <td>1</td>\n      <td>...</td>\n      <td>0</td>\n      <td>1</td>\n      <td>1</td>\n      <td>0</td>\n      <td>0</td>\n      <td>1</td>\n      <td>1</td>\n      <td>1</td>\n      <td>0</td>\n      <td>0</td>\n    </tr>\n  </tbody>\n</table>\n<p>5 rows × 101 columns</p>\n</div>"
     },
     "execution_count": 312,
     "metadata": {},
     "output_type": "execute_result"
    }
   ],
   "source": [
    "data_df.head()"
   ],
   "metadata": {
    "collapsed": false,
    "pycharm": {
     "name": "#%%\n"
    }
   }
  },
  {
   "cell_type": "code",
   "execution_count": 313,
   "outputs": [],
   "source": [
    "X_df, y_df = data_df.iloc[:,:-1], data_df.iloc[:,-1:]"
   ],
   "metadata": {
    "collapsed": false,
    "pycharm": {
     "name": "#%%\n"
    }
   }
  },
  {
   "cell_type": "code",
   "execution_count": 314,
   "outputs": [],
   "source": [
    "X_train_df, X_test_df, y_train_df, y_test_df = train_test_split(X_df, y_df, shuffle=True, stratify=y_df, test_size=0.2)"
   ],
   "metadata": {
    "collapsed": false,
    "pycharm": {
     "name": "#%%\n"
    }
   }
  },
  {
   "cell_type": "code",
   "execution_count": 315,
   "outputs": [],
   "source": [
    "df_train = pd.concat([X_train_df, y_train_df], axis=1)\n",
    "assign_cols(df_train)\n",
    "df_test = pd.concat([X_test_df, y_test_df], axis=1)\n",
    "assign_cols(df_test)\n",
    "df_train.to_csv(\"data/bmm/data_train.csv\", index=False)\n",
    "df_test.to_csv(\"data/bmm/data_test.csv\", index=False)"
   ],
   "metadata": {
    "collapsed": false,
    "pycharm": {
     "name": "#%%\n"
    }
   }
  },
  {
   "cell_type": "code",
   "execution_count": 316,
   "outputs": [],
   "source": [
    "X_train, X_test, y_train, y_test = X_train_df.to_numpy(), X_test_df.to_numpy(), y_train_df.to_numpy(), y_test_df.to_numpy()"
   ],
   "metadata": {
    "collapsed": false,
    "pycharm": {
     "name": "#%%\n"
    }
   }
  },
  {
   "cell_type": "code",
   "execution_count": 317,
   "outputs": [
    {
     "data": {
      "text/plain": "(800, 100)"
     },
     "execution_count": 317,
     "metadata": {},
     "output_type": "execute_result"
    }
   ],
   "source": [
    "X_train.shape"
   ],
   "metadata": {
    "collapsed": false,
    "pycharm": {
     "name": "#%%\n"
    }
   }
  },
  {
   "cell_type": "code",
   "execution_count": 318,
   "outputs": [],
   "source": [
    "y_train = np.ravel(y_train)\n",
    "y_test = np.ravel(y_test)"
   ],
   "metadata": {
    "collapsed": false,
    "pycharm": {
     "name": "#%%\n"
    }
   }
  },
  {
   "cell_type": "code",
   "execution_count": 319,
   "outputs": [
    {
     "name": "stdout",
     "output_type": "stream",
     "text": [
      "(array([0, 1]), array([670, 130]))\n",
      "(array([0, 1]), array([167,  33]))\n"
     ]
    }
   ],
   "source": [
    "print(np.unique(y_train, return_counts=True))\n",
    "print(np.unique(y_test, return_counts=True))"
   ],
   "metadata": {
    "collapsed": false,
    "pycharm": {
     "name": "#%%\n"
    }
   }
  },
  {
   "cell_type": "code",
   "execution_count": 320,
   "outputs": [
    {
     "data": {
      "text/plain": "(100, 100)"
     },
     "execution_count": 320,
     "metadata": {},
     "output_type": "execute_result"
    }
   ],
   "source": [
    "net_df = pd.read_csv(\"data/feat_net.csv\", header=None)\n",
    "net_df.shape"
   ],
   "metadata": {
    "collapsed": false,
    "pycharm": {
     "name": "#%%\n"
    }
   }
  },
  {
   "cell_type": "code",
   "execution_count": 321,
   "outputs": [
    {
     "data": {
      "text/plain": "3196"
     },
     "execution_count": 321,
     "metadata": {},
     "output_type": "execute_result"
    }
   ],
   "source": [
    "np.count_nonzero(net_df.to_numpy())"
   ],
   "metadata": {
    "collapsed": false,
    "pycharm": {
     "name": "#%%\n"
    }
   }
  },
  {
   "cell_type": "code",
   "execution_count": 322,
   "outputs": [],
   "source": [
    "assoc_mat = net_df.to_numpy()\n",
    "assoc_mat = np.abs(assoc_mat)\n",
    "assoc_mat_2 = np.copy(assoc_mat)\n",
    "assoc_mat_2[assoc_mat_2 > 0.0] = 1.0"
   ],
   "metadata": {
    "collapsed": false,
    "pycharm": {
     "name": "#%%\n"
    }
   }
  },
  {
   "cell_type": "code",
   "execution_count": 323,
   "outputs": [
    {
     "data": {
      "text/plain": "array([[0.     , 1.518  , 0.     , ..., 0.     , 0.     , 0.     ],\n       [1.518  , 0.     , 0.     , ..., 0.16892, 0.     , 0.     ],\n       [0.     , 0.     , 0.     , ..., 1.0094 , 0.5868 , 1.0373 ],\n       ...,\n       [0.     , 0.16892, 1.0094 , ..., 0.     , 0.29955, 0.     ],\n       [0.     , 0.     , 0.5868 , ..., 0.29955, 0.     , 0.     ],\n       [0.     , 0.     , 1.0373 , ..., 0.     , 0.     , 0.     ]])"
     },
     "execution_count": 323,
     "metadata": {},
     "output_type": "execute_result"
    }
   ],
   "source": [
    "assoc_mat"
   ],
   "metadata": {
    "collapsed": false,
    "pycharm": {
     "name": "#%%\n"
    }
   }
  },
  {
   "cell_type": "code",
   "execution_count": 324,
   "outputs": [],
   "source": [
    "np.save(\"data/bmm/feat_net.npy\", assoc_mat)"
   ],
   "metadata": {
    "collapsed": false,
    "pycharm": {
     "name": "#%%\n"
    }
   }
  },
  {
   "cell_type": "code",
   "execution_count": 302,
   "outputs": [],
   "source": [
    "kcv = StratifiedKFold(n_splits=5)"
   ],
   "metadata": {
    "collapsed": false,
    "pycharm": {
     "name": "#%%\n"
    }
   }
  },
  {
   "cell_type": "code",
   "execution_count": 226,
   "outputs": [
    {
     "data": {
      "text/plain": "array([0.00000000e+00, 1.00000000e-03, 4.64158883e-03, 2.15443469e-02,\n       1.00000000e-01, 4.64158883e-01, 2.15443469e+00, 1.00000000e+01,\n       4.64158883e+01, 2.15443469e+02, 1.00000000e+03])"
     },
     "execution_count": 226,
     "metadata": {},
     "output_type": "execute_result"
    }
   ],
   "source": [
    "alphas = np.logspace(-3, 3, 10)\n",
    "alphas = np.concatenate((np.array([0.0]) ,alphas))\n",
    "alphas"
   ],
   "metadata": {
    "collapsed": false,
    "pycharm": {
     "name": "#%%\n"
    }
   }
  },
  {
   "cell_type": "code",
   "execution_count": 303,
   "outputs": [
    {
     "data": {
      "text/plain": "array([   1.        ,    2.15443469,    4.64158883,   10.        ,\n         21.5443469 ,   46.41588834,  100.        ,  215.443469  ,\n        464.15888336, 1000.        ])"
     },
     "execution_count": 303,
     "metadata": {},
     "output_type": "execute_result"
    }
   ],
   "source": [
    "cmplx_ratios = np.logspace(0, 3, 10)\n",
    "cmplx_ratios"
   ],
   "metadata": {
    "collapsed": false,
    "pycharm": {
     "name": "#%%\n"
    }
   }
  },
  {
   "cell_type": "markdown",
   "source": [
    "### Grid search using 5-fold cross-validation for $\\alpha$ values and default complexity ratio (3.5) - using both BP and MI scorers"
   ],
   "metadata": {
    "collapsed": false,
    "pycharm": {
     "name": "#%% md\n"
    }
   }
  },
  {
   "cell_type": "code",
   "source": [
    "from notebooks.manifold_reg.MosesEstimator import *\n",
    "cv_1 = GridSearchCV(MosesEstimator(scorers=[\"mi\"], assoc_mat=\"data/bmm/feat_net.npy\", fs_algo=\"smd\", threshold=1e-5), {\"alpha\": alphas}, cv = kcv, verbose=1, n_jobs=-1).fit(X_train, y_train)\n",
    "sc_1 = np.mean(cross_val_score(cv_1.best_estimator_, X_train, y_train))\n",
    "cv_1.best_estimator_.fit(X_train, y_train)\n",
    "print(f\"Best params: {cv_1.best_params_}, cv score: {sc_1}, test score: {cv_1.best_estimator_.score(X_test, y_test)}\")"
   ],
   "metadata": {
    "collapsed": false,
    "pycharm": {
     "name": "#%%\n"
    }
   },
   "execution_count": 325,
   "outputs": [
    {
     "name": "stdout",
     "output_type": "stream",
     "text": [
      "Fitting 5 folds for each of 11 candidates, totalling 55 fits\n",
      "Best params: {'alpha': 0.0}, cv score: 0.5091773833424125, test score: 0.5121575031754672\n"
     ]
    }
   ]
  },
  {
   "cell_type": "markdown",
   "source": [
    "### Grid search using 5-fold cross-validation for $\\alpha$ values and complexity ratio values - using both BP and MI scorers"
   ],
   "metadata": {
    "collapsed": false,
    "pycharm": {
     "name": "#%% md\n"
    }
   }
  },
  {
   "cell_type": "code",
   "execution_count": 326,
   "outputs": [
    {
     "data": {
      "text/plain": "'and(or(and(or(!$f11 !$f64) !$f36) and(or($f29 !$f64) !$f59)) or(!$f22 $f31 $f59))'"
     },
     "execution_count": 326,
     "metadata": {},
     "output_type": "execute_result"
    }
   ],
   "source": [
    "cv_1.best_estimator_.models_[10].model"
   ],
   "metadata": {
    "collapsed": false,
    "pycharm": {
     "name": "#%%\n"
    }
   }
  },
  {
   "cell_type": "code",
   "execution_count": 331,
   "outputs": [
    {
     "name": "stdout",
     "output_type": "stream",
     "text": [
      "Best params: {'alpha': 0.0, 'complexity_ratio': 2.154434690031884}, cv score: 0.5018619623480809, test score: 0.5031754672473235\n"
     ]
    }
   ],
   "source": [
    "from notebooks.manifold_reg.MosesEstimator import *\n",
    "cv_2 = GridSearchCV(MosesEstimator(scorers=[\"mi\"], assoc_mat=\"data/bmm/feat_net.npy\", fs_algo=\"smd\", threshold=1e-5), {\"alpha\": alphas, \"complexity_ratio\": cmplx_ratios}, cv = kcv, verbose=1, n_jobs=-1).fit(X_train, y_train)\n",
    "sc_2 = np.mean(cross_val_score(cv_2.best_estimator_, X_train, y_train))\n",
    "cv_2.best_estimator_.fit(X_train, y_train)\n",
    "print(f\"Best params: {cv_2.best_params_}, cv score: {sc_2}, test score: {cv_2.best_estimator_.score(X_test, y_test)}\")"
   ],
   "metadata": {
    "collapsed": false,
    "pycharm": {
     "name": "#%%\n"
    }
   }
  },
  {
   "cell_type": "code",
   "execution_count": null,
   "outputs": [],
   "source": [
    "cv_2.best_estimator_.models_[4].model"
   ],
   "metadata": {
    "collapsed": false,
    "pycharm": {
     "name": "#%%\n",
     "is_executing": true
    }
   }
  },
  {
   "cell_type": "markdown",
   "source": [
    "### Grid search using 5-fold cross-validation for complexity ratio values - using MI scorer"
   ],
   "metadata": {
    "collapsed": false,
    "pycharm": {
     "name": "#%% md\n"
    }
   }
  },
  {
   "cell_type": "code",
   "execution_count": null,
   "outputs": [],
   "source": [
    "from notebooks.manifold_reg.MosesEstimator import *\n",
    "cv_3 = GridSearchCV(MosesEstimator(scorers=[\"mi\"], fs_algo=\"smd\", threshold=1e-5), {\"complexity_ratio\": cmplx_ratios}, cv = kcv, verbose=1, n_jobs=-1).fit(X_train, y_train)\n",
    "sc_3 = np.mean(cross_val_score(cv_3.best_estimator_, X_train, y_train))\n",
    "cv_3.best_estimator_.fit(X_train, y_train)\n",
    "print(f\"Best params: {cv_3.best_params_}, cv score: {sc_3}, test score: {cv_3.best_estimator_.score(X_test, y_test)}\")"
   ],
   "metadata": {
    "collapsed": false,
    "pycharm": {
     "name": "#%%\n",
     "is_executing": true
    }
   }
  },
  {
   "cell_type": "code",
   "execution_count": null,
   "outputs": [],
   "source": [
    "cv_3.best_estimator_.models_[0].model"
   ],
   "metadata": {
    "collapsed": false,
    "pycharm": {
     "name": "#%%\n",
     "is_executing": true
    }
   }
  },
  {
   "cell_type": "markdown",
   "source": [
    "### Grid search using 5-fold cross-validation for $\\alpha$ values, complexity ratio values and feature target size - using both BP and MI scorers"
   ],
   "metadata": {
    "collapsed": false,
    "pycharm": {
     "name": "#%% md\n"
    }
   }
  },
  {
   "cell_type": "code",
   "execution_count": 254,
   "outputs": [
    {
     "name": "stdout",
     "output_type": "stream",
     "text": [
      "Best params: {'alpha': 10.0, 'complexity_ratio': 46.41588833612777, 'fs_size': 5}, cv score: 0.5812774162360872, test score: 0.586352657004831\n"
     ]
    }
   ],
   "source": [
    "from notebooks.manifold_reg.MosesEstimator import *\n",
    "cv_4 = GridSearchCV(MosesEstimator(scorers=[\"mi\"], assoc_mat=\"data/bmm/feat_net.npy\", fs_algo=\"smd\", threshold=1e-5), {\"alpha\": alphas, \"complexity_ratio\": cmplx_ratios, \"fs_size\": [5, 10, 15, 20]}, cv = kcv, verbose=1, n_jobs=-1).fit(X_train, y_train)\n",
    "sc_4 = np.mean(cross_val_score(cv_4.best_estimator_, X_train, y_train))\n",
    "cv_4.best_estimator_.fit(X_train, y_train)\n",
    "print(f\"Best params: {cv_4.best_params_}, cv score: {sc_4}, test score: {cv_4.best_estimator_.score(X_test, y_test)}\")"
   ],
   "metadata": {
    "collapsed": false,
    "pycharm": {
     "name": "#%%\n"
    }
   }
  },
  {
   "cell_type": "code",
   "execution_count": 246,
   "outputs": [
    {
     "data": {
      "text/plain": "0.586352657004831"
     },
     "execution_count": 246,
     "metadata": {},
     "output_type": "execute_result"
    }
   ],
   "source": [
    "from notebooks.manifold_reg.MosesEstimator import *\n",
    "moses_est = MosesEstimator(scorers=[\"mi\"], assoc_mat=\"data/bmm/feat_net.npy\", fs_algo=\"smd\", threshold=0.001, ensemble=True)\n",
    "moses_est.models_ = cv_1.best_estimator_.models_\n",
    "moses_est.score(X_test, y_test)"
   ],
   "metadata": {
    "collapsed": false,
    "pycharm": {
     "name": "#%%\n"
    }
   }
  },
  {
   "cell_type": "code",
   "execution_count": 131,
   "outputs": [
    {
     "data": {
      "text/plain": "array([[0., 0., 1., ..., 0., 1., 0.],\n       [0., 0., 0., ..., 0., 0., 0.],\n       [1., 0., 0., ..., 1., 1., 0.],\n       ...,\n       [0., 0., 1., ..., 0., 0., 0.],\n       [1., 0., 1., ..., 0., 0., 0.],\n       [0., 0., 0., ..., 0., 0., 0.]])"
     },
     "execution_count": 131,
     "metadata": {},
     "output_type": "execute_result"
    }
   ],
   "source": [
    "assoc_mat = np.load(\"data/bmm/feat_net.npy\")\n",
    "# assoc_mat = np.abs(assoc_mat)\n",
    "assoc_mat"
   ],
   "metadata": {
    "collapsed": false,
    "pycharm": {
     "name": "#%%\n"
    }
   }
  },
  {
   "cell_type": "code",
   "execution_count": 60,
   "outputs": [
    {
     "data": {
      "text/plain": "array([0.043899 , 0.0427118, 0.0473448, 0.0342591, 0.0396434])"
     },
     "execution_count": 60,
     "metadata": {},
     "output_type": "execute_result"
    }
   ],
   "source": [
    "dist_mat, precd = scipy.sparse.csgraph.shortest_path(scipy.sparse.csc_matrix(assoc_mat), directed=False, method=\"J\", return_predecessors=True)\n",
    "dist_mat[1, np.array([79, 260, 293, 637, 839])]"
   ],
   "metadata": {
    "collapsed": false,
    "pycharm": {
     "name": "#%%\n"
    }
   }
  },
  {
   "cell_type": "code",
   "execution_count": 216,
   "outputs": [
    {
     "data": {
      "text/plain": "array([0.    , 2.0186, 0.    , 1.764 , 0.    ])"
     },
     "execution_count": 216,
     "metadata": {},
     "output_type": "execute_result"
    }
   ],
   "source": [
    "assoc_mat[34][np.array([26,8,31,96,94])]"
   ],
   "metadata": {
    "collapsed": false,
    "pycharm": {
     "name": "#%%\n"
    }
   }
  },
  {
   "cell_type": "code",
   "execution_count": 281,
   "outputs": [
    {
     "data": {
      "text/plain": "{2: {'count': 8, 'causal': 'No', 'dist': 1.74594},\n 12: {'count': 3, 'causal': 'No', 'dist': 0.76589},\n 14: {'count': 18, 'causal': 'No', 'dist': 1.1222},\n 17: {'count': 1, 'causal': 'No', 'dist': 2.7237299999999998},\n 18: {'count': 2, 'causal': 'No', 'dist': 0.0},\n 21: {'count': 8, 'causal': 'No', 'dist': 3.25655},\n 22: {'count': 3, 'causal': 'No', 'dist': 0.5194799999999999},\n 23: {'count': 7, 'causal': 'No', 'dist': 0.25111},\n 33: {'count': 2, 'causal': 'No', 'dist': 1.32917},\n 35: {'count': 7, 'causal': 'No', 'dist': 1.2426006},\n 41: {'count': 1, 'causal': 'No', 'dist': 1.65511},\n 49: {'count': 12, 'causal': 'No', 'dist': 2.3459499999999998},\n 51: {'count': 2, 'causal': 'No', 'dist': 1.3791},\n 56: {'count': 1, 'causal': 'No', 'dist': 2.24722},\n 62: {'count': 3, 'causal': 'No', 'dist': 0.0},\n 63: {'count': 1, 'causal': 'No', 'dist': 2.2205},\n 65: {'count': 6, 'causal': 'No', 'dist': 0.0},\n 71: {'count': 1, 'causal': 'No', 'dist': 1.322663},\n 77: {'count': 1, 'causal': 'No', 'dist': 0.52302},\n 82: {'count': 2, 'causal': 'No', 'dist': 0.039586},\n 87: {'count': 1, 'causal': 'No', 'dist': 1.427387},\n 89: {'count': 1, 'causal': 'No', 'dist': 1.8058},\n 97: {'count': 203, 'causal': 'No', 'dist': 0.17054},\n 98: {'count': 4, 'causal': 'No', 'dist': 0.29947},\n 99: {'count': 150, 'causal': 'No', 'dist': 3.4369709999999998}}"
     },
     "execution_count": 281,
     "metadata": {},
     "output_type": "execute_result"
    }
   ],
   "source": [
    "from notebooks.manifold_reg.MosesEstimator import *\n",
    "\n",
    "dict(sorted(feature_count(cv_2.best_estimator_.models_, [7,25,30,93,95], assoc_mat).items()))"
   ],
   "metadata": {
    "collapsed": false,
    "pycharm": {
     "name": "#%%\n"
    }
   }
  },
  {
   "cell_type": "code",
   "execution_count": 280,
   "outputs": [
    {
     "data": {
      "text/plain": "{0: {'count': 114, 'causal': 'No', 'dist': 2.493685},\n 25: {'count': 46, 'causal': 'Yes', 'dist': 2.16739},\n 28: {'count': 79, 'causal': 'No', 'dist': 0.81464},\n 55: {'count': 1, 'causal': 'No', 'dist': 2.47713},\n 59: {'count': 113, 'causal': 'No', 'dist': 0.24626},\n 61: {'count': 103, 'causal': 'No', 'dist': 1.2174},\n 62: {'count': 94, 'causal': 'No', 'dist': 0.0},\n 80: {'count': 9, 'causal': 'No', 'dist': 1.0437},\n 86: {'count': 24, 'causal': 'No', 'dist': 1.1383},\n 91: {'count': 8, 'causal': 'No', 'dist': 2.8305},\n 93: {'count': 102, 'causal': 'Yes', 'dist': 0.0},\n 96: {'count': 107, 'causal': 'No', 'dist': 1.3618}}"
     },
     "execution_count": 280,
     "metadata": {},
     "output_type": "execute_result"
    }
   ],
   "source": [
    "dict(sorted(feature_count(cv_3.best_estimator_.models_, [7,25,30,93,95], assoc_mat).items()))"
   ],
   "metadata": {
    "collapsed": false,
    "pycharm": {
     "name": "#%%\n"
    }
   }
  },
  {
   "cell_type": "code",
   "execution_count": 334,
   "outputs": [
    {
     "data": {
      "text/plain": "[82, 91, 13, 92, 64, 10, 28, 55, 96, 97]"
     },
     "execution_count": 334,
     "metadata": {},
     "output_type": "execute_result"
    }
   ],
   "source": [
    "from notebooks.manifold_reg.util import load_bmm_files\n",
    "seeds, data_dfs, net_dfs, feats = load_bmm_files(\"data/bmm_data\")\n",
    "seeds"
   ],
   "metadata": {
    "collapsed": false,
    "pycharm": {
     "name": "#%%\n"
    }
   }
  },
  {
   "cell_type": "code",
   "execution_count": null,
   "outputs": [
    {
     "name": "stdout",
     "output_type": "stream",
     "text": [
      "Now running seed - 82\n",
      "Fitting 5 folds for each of 110 candidates, totalling 550 fits\n",
      "Best params: {'alpha': 0.0, 'complexity_ratio': 10.0}, cv score: 0.5179456421127495, test score: 0.5113504381797064\n",
      "Now running seed - 91\n",
      "Fitting 5 folds for each of 110 candidates, totalling 550 fits\n",
      "Best params: {'alpha': 0.001, 'complexity_ratio': 1000.0}, cv score: 0.5248731795123547, test score: 0.5\n",
      "Now running seed - 13\n",
      "Fitting 5 folds for each of 110 candidates, totalling 550 fits\n",
      "Best params: {'alpha': 0.1, 'complexity_ratio': 21.544346900318832}, cv score: 0.5161818544837413, test score: 0.48685383244206776\n",
      "Now running seed - 92\n",
      "Fitting 5 folds for each of 110 candidates, totalling 550 fits\n",
      "Best params: {'alpha': 0.46415888336127775, 'complexity_ratio': 46.41588833612777}, cv score: 0.5186099259189797, test score: 0.5260391782130912\n",
      "Now running seed - 64\n",
      "Fitting 5 folds for each of 110 candidates, totalling 550 fits\n",
      "Best params: {'alpha': 0.1, 'complexity_ratio': 215.44346900318823}, cv score: 0.508962731434037, test score: 0.49328859060402686\n",
      "Now running seed - 10\n",
      "Fitting 5 folds for each of 110 candidates, totalling 550 fits\n",
      "Best params: {'alpha': 0.021544346900318832, 'complexity_ratio': 1.0}, cv score: 0.5635189669087974, test score: 0.5697599794634836\n",
      "Now running seed - 28\n",
      "Fitting 5 folds for each of 110 candidates, totalling 550 fits\n",
      "Best params: {'alpha': 0.0, 'complexity_ratio': 464.15888336127773}, cv score: 0.533251589202081, test score: 0.5\n",
      "Now running seed - 55\n",
      "Fitting 5 folds for each of 110 candidates, totalling 550 fits\n"
     ]
    }
   ],
   "source": [
    "from notebooks.manifold_reg.MosesEstimator import run_moses_exps\n",
    "\n",
    "res_1 = run_moses_exps(seeds, data_dfs, net_dfs, alphas, cmplx_ratios)\n",
    "res_1"
   ],
   "metadata": {
    "collapsed": false,
    "pycharm": {
     "name": "#%%\n",
     "is_executing": true
    }
   }
  },
  {
   "cell_type": "code",
   "execution_count": 337,
   "outputs": [
    {
     "data": {
      "text/plain": "{82: {'params': {'alpha': 0.0, 'complexity_ratio': 10.0},\n  'cv_score': 0.5179456421127495,\n  'test_score': 0.5113504381797064},\n 91: {'params': {'alpha': 0.001, 'complexity_ratio': 1000.0},\n  'cv_score': 0.5248731795123547,\n  'test_score': 0.5},\n 13: {'params': {'alpha': 0.1, 'complexity_ratio': 21.544346900318832},\n  'cv_score': 0.5161818544837413,\n  'test_score': 0.48685383244206776},\n 92: {'params': {'alpha': 0.46415888336127775,\n   'complexity_ratio': 46.41588833612777},\n  'cv_score': 0.5186099259189797,\n  'test_score': 0.5260391782130912},\n 64: {'params': {'alpha': 0.1, 'complexity_ratio': 215.44346900318823},\n  'cv_score': 0.508962731434037,\n  'test_score': 0.49328859060402686},\n 10: {'params': {'alpha': 0.021544346900318832, 'complexity_ratio': 1.0},\n  'cv_score': 0.5635189669087974,\n  'test_score': 0.5697599794634836},\n 28: {'params': {'alpha': 0.0, 'complexity_ratio': 464.15888336127773},\n  'cv_score': 0.533251589202081,\n  'test_score': 0.5},\n 55: {'params': {'alpha': 0.1, 'complexity_ratio': 2.154434690031884},\n  'cv_score': 0.559960258320914,\n  'test_score': 0.47580645161290325},\n 96: {'params': {'alpha': 0.46415888336127775,\n   'complexity_ratio': 215.44346900318823},\n  'cv_score': 0.5078071182548795,\n  'test_score': 0.5},\n 97: {'params': {'alpha': 0.46415888336127775,\n   'complexity_ratio': 21.544346900318832},\n  'cv_score': 0.5342857142857144,\n  'test_score': 0.5256332010985657}}"
     },
     "execution_count": 337,
     "metadata": {},
     "output_type": "execute_result"
    }
   ],
   "source": [
    "res_1"
   ],
   "metadata": {
    "collapsed": false,
    "pycharm": {
     "name": "#%%\n"
    }
   }
  },
  {
   "cell_type": "code",
   "execution_count": 354,
   "outputs": [
    {
     "data": {
      "text/plain": "{82: [614, 386],\n 91: [606, 394],\n 13: [659, 341],\n 92: [804, 196],\n 64: [747, 253],\n 10: [737, 263],\n 28: [861, 139],\n 55: [619, 381],\n 96: [838, 162],\n 97: [563, 437]}"
     },
     "execution_count": 354,
     "metadata": {},
     "output_type": "execute_result"
    }
   ],
   "source": [
    "target_count = {}\n",
    "\n",
    "for seed, df in zip(seeds, data_dfs):\n",
    "    count = df[\"y\"].value_counts()\n",
    "    target_count[seed] = [count[0], count[1]]\n",
    "\n",
    "target_count"
   ],
   "metadata": {
    "collapsed": false,
    "pycharm": {
     "name": "#%%\n"
    }
   }
  },
  {
   "cell_type": "code",
   "execution_count": 388,
   "outputs": [
    {
     "data": {
      "text/plain": "[0.597319032590167,\n 0.609970514817979,\n 0.604939947222976,\n 0.604077825159915,\n 0.688818515167389,\n 0.688819125939607,\n 0.698209376749472,\n 0.636555022706168,\n 0.624421756681104,\n 0.504932305278603]"
     },
     "execution_count": 388,
     "metadata": {},
     "output_type": "execute_result"
    }
   ],
   "source": [
    "base_auc = []\n",
    "with open(\"data/bmm_data/base_auc.txt\", \"r\") as fp:\n",
    "    base_auc = [float(i) for i in fp.readline().strip().split(',')]\n",
    "\n",
    "base_auc"
   ],
   "metadata": {
    "collapsed": false,
    "pycharm": {
     "name": "#%%\n"
    }
   }
  },
  {
   "cell_type": "code",
   "execution_count": 409,
   "outputs": [
    {
     "data": {
      "text/plain": "   seed     alpha  complexity_ratio  cv_score  test_score      0/1  base_auc\n0    82  0.000000         10.000000  0.517946    0.511350  614/386  0.597319\n1    91  0.001000       1000.000000  0.524873    0.500000  606/394  0.609971\n2    13  0.100000         21.544347  0.516182    0.486854  659/341  0.604940\n3    92  0.464159         46.415888  0.518610    0.526039  804/196  0.604078\n4    64  0.100000        215.443469  0.508963    0.493289  747/253  0.688819\n5    10  0.021544          1.000000  0.563519    0.569760  737/263  0.688819\n6    28  0.000000        464.158883  0.533252    0.500000  861/139  0.698209\n7    55  0.100000          2.154435  0.559960    0.475806  619/381  0.636555\n8    96  0.464159        215.443469  0.507807    0.500000  838/162  0.624422\n9    97  0.464159         21.544347  0.534286    0.525633  563/437  0.504932",
      "text/html": "<div>\n<style scoped>\n    .dataframe tbody tr th:only-of-type {\n        vertical-align: middle;\n    }\n\n    .dataframe tbody tr th {\n        vertical-align: top;\n    }\n\n    .dataframe thead th {\n        text-align: right;\n    }\n</style>\n<table border=\"1\" class=\"dataframe\">\n  <thead>\n    <tr style=\"text-align: right;\">\n      <th></th>\n      <th>seed</th>\n      <th>alpha</th>\n      <th>complexity_ratio</th>\n      <th>cv_score</th>\n      <th>test_score</th>\n      <th>0/1</th>\n      <th>base_auc</th>\n    </tr>\n  </thead>\n  <tbody>\n    <tr>\n      <th>0</th>\n      <td>82</td>\n      <td>0.000000</td>\n      <td>10.000000</td>\n      <td>0.517946</td>\n      <td>0.511350</td>\n      <td>614/386</td>\n      <td>0.597319</td>\n    </tr>\n    <tr>\n      <th>1</th>\n      <td>91</td>\n      <td>0.001000</td>\n      <td>1000.000000</td>\n      <td>0.524873</td>\n      <td>0.500000</td>\n      <td>606/394</td>\n      <td>0.609971</td>\n    </tr>\n    <tr>\n      <th>2</th>\n      <td>13</td>\n      <td>0.100000</td>\n      <td>21.544347</td>\n      <td>0.516182</td>\n      <td>0.486854</td>\n      <td>659/341</td>\n      <td>0.604940</td>\n    </tr>\n    <tr>\n      <th>3</th>\n      <td>92</td>\n      <td>0.464159</td>\n      <td>46.415888</td>\n      <td>0.518610</td>\n      <td>0.526039</td>\n      <td>804/196</td>\n      <td>0.604078</td>\n    </tr>\n    <tr>\n      <th>4</th>\n      <td>64</td>\n      <td>0.100000</td>\n      <td>215.443469</td>\n      <td>0.508963</td>\n      <td>0.493289</td>\n      <td>747/253</td>\n      <td>0.688819</td>\n    </tr>\n    <tr>\n      <th>5</th>\n      <td>10</td>\n      <td>0.021544</td>\n      <td>1.000000</td>\n      <td>0.563519</td>\n      <td>0.569760</td>\n      <td>737/263</td>\n      <td>0.688819</td>\n    </tr>\n    <tr>\n      <th>6</th>\n      <td>28</td>\n      <td>0.000000</td>\n      <td>464.158883</td>\n      <td>0.533252</td>\n      <td>0.500000</td>\n      <td>861/139</td>\n      <td>0.698209</td>\n    </tr>\n    <tr>\n      <th>7</th>\n      <td>55</td>\n      <td>0.100000</td>\n      <td>2.154435</td>\n      <td>0.559960</td>\n      <td>0.475806</td>\n      <td>619/381</td>\n      <td>0.636555</td>\n    </tr>\n    <tr>\n      <th>8</th>\n      <td>96</td>\n      <td>0.464159</td>\n      <td>215.443469</td>\n      <td>0.507807</td>\n      <td>0.500000</td>\n      <td>838/162</td>\n      <td>0.624422</td>\n    </tr>\n    <tr>\n      <th>9</th>\n      <td>97</td>\n      <td>0.464159</td>\n      <td>21.544347</td>\n      <td>0.534286</td>\n      <td>0.525633</td>\n      <td>563/437</td>\n      <td>0.504932</td>\n    </tr>\n  </tbody>\n</table>\n</div>"
     },
     "execution_count": 409,
     "metadata": {},
     "output_type": "execute_result"
    }
   ],
   "source": [
    "from notebooks.manifold_reg.MosesEstimator import result_df\n",
    "res_1_df = result_df(res_1, target_count, base_auc)\n",
    "res_1_df"
   ],
   "metadata": {
    "collapsed": false,
    "pycharm": {
     "name": "#%%\n"
    }
   }
  },
  {
   "cell_type": "code",
   "execution_count": 360,
   "outputs": [],
   "source": [
    "res_1_df.to_csv(\"data/bmm_seeds_result.csv\", index=False)"
   ],
   "metadata": {
    "collapsed": false,
    "pycharm": {
     "name": "#%%\n"
    }
   }
  },
  {
   "cell_type": "code",
   "execution_count": 384,
   "outputs": [
    {
     "name": "stdout",
     "output_type": "stream",
     "text": [
      "Now running seed - 82\n",
      "Fitting 5 folds for each of 110 candidates, totalling 550 fits\n",
      "Best params: {'alpha': 0.004641588833612777, 'complexity_ratio': 1000.0}, cv score: 0.5128573587023387, test score: 0.4959349593495935\n",
      "Now running seed - 91\n",
      "Fitting 5 folds for each of 110 candidates, totalling 550 fits\n",
      "Best params: {'alpha': 0.0, 'complexity_ratio': 2.154434690031884}, cv score: 0.5364588447062675, test score: 0.47960037660843186\n",
      "Now running seed - 13\n",
      "Fitting 5 folds for each of 110 candidates, totalling 550 fits\n",
      "Best params: {'alpha': 0.46415888336127775, 'complexity_ratio': 1.0}, cv score: 0.5254719703776307, test score: 0.5465686274509803\n",
      "Now running seed - 92\n",
      "Fitting 5 folds for each of 110 candidates, totalling 550 fits\n",
      "Best params: {'alpha': 0.021544346900318832, 'complexity_ratio': 4.641588833612778}, cv score: 0.5202853447736934, test score: 0.509714922758401\n",
      "Now running seed - 64\n",
      "Fitting 5 folds for each of 110 candidates, totalling 550 fits\n",
      "Best params: {'alpha': 0.0, 'complexity_ratio': 46.41588833612777}, cv score: 0.5046930723508916, test score: 0.48322147651006714\n",
      "Now running seed - 10\n",
      "Fitting 5 folds for each of 110 candidates, totalling 550 fits\n",
      "Best params: {'alpha': 0.1, 'complexity_ratio': 464.15888336127773}, cv score: 0.575585149313963, test score: 0.5603260171993326\n",
      "Now running seed - 28\n",
      "Fitting 5 folds for each of 110 candidates, totalling 550 fits\n",
      "Best params: {'alpha': 0.021544346900318832, 'complexity_ratio': 10.0}, cv score: 0.5330328034390236, test score: 0.5149501661129569\n",
      "Now running seed - 55\n",
      "Fitting 5 folds for each of 110 candidates, totalling 550 fits\n",
      "Best params: {'alpha': 0.021544346900318832, 'complexity_ratio': 2.154434690031884}, cv score: 0.5864381520119225, test score: 0.5432937181663837\n",
      "Now running seed - 96\n",
      "Fitting 5 folds for each of 110 candidates, totalling 550 fits\n",
      "Best params: {'alpha': 0.0, 'complexity_ratio': 4.641588833612778}, cv score: 0.5133754305396097, test score: 0.49404761904761907\n",
      "Now running seed - 97\n",
      "Fitting 5 folds for each of 110 candidates, totalling 550 fits\n",
      "Best params: {'alpha': 2.154434690031882, 'complexity_ratio': 1.0}, cv score: 0.5146031746031745, test score: 0.4671956057369545\n",
      "Done\n"
     ]
    }
   ],
   "source": [
    "from notebooks.manifold_reg.MosesEstimator import *\n",
    "res_2 = run_moses_exps(seeds, data_dfs, net_dfs, alphas, cmplx_ratios, fs_algo=\"random\")"
   ],
   "metadata": {
    "collapsed": false,
    "pycharm": {
     "name": "#%%\n"
    }
   }
  },
  {
   "cell_type": "code",
   "execution_count": 408,
   "outputs": [
    {
     "data": {
      "text/plain": "   seed     alpha  complexity_ratio  cv_score  test_score      0/1  base_auc\n0    82  0.004642       1000.000000  0.512857    0.495935  614/386  0.597319\n1    91  0.000000          2.154435  0.536459    0.479600  606/394  0.609971\n2    13  0.464159          1.000000  0.525472    0.546569  659/341  0.604940\n3    92  0.021544          4.641589  0.520285    0.509715  804/196  0.604078\n4    64  0.000000         46.415888  0.504693    0.483221  747/253  0.688819\n5    10  0.100000        464.158883  0.575585    0.560326  737/263  0.688819\n6    28  0.021544         10.000000  0.533033    0.514950  861/139  0.698209\n7    55  0.021544          2.154435  0.586438    0.543294  619/381  0.636555\n8    96  0.000000          4.641589  0.513375    0.494048  838/162  0.624422\n9    97  2.154435          1.000000  0.514603    0.467196  563/437  0.504932",
      "text/html": "<div>\n<style scoped>\n    .dataframe tbody tr th:only-of-type {\n        vertical-align: middle;\n    }\n\n    .dataframe tbody tr th {\n        vertical-align: top;\n    }\n\n    .dataframe thead th {\n        text-align: right;\n    }\n</style>\n<table border=\"1\" class=\"dataframe\">\n  <thead>\n    <tr style=\"text-align: right;\">\n      <th></th>\n      <th>seed</th>\n      <th>alpha</th>\n      <th>complexity_ratio</th>\n      <th>cv_score</th>\n      <th>test_score</th>\n      <th>0/1</th>\n      <th>base_auc</th>\n    </tr>\n  </thead>\n  <tbody>\n    <tr>\n      <th>0</th>\n      <td>82</td>\n      <td>0.004642</td>\n      <td>1000.000000</td>\n      <td>0.512857</td>\n      <td>0.495935</td>\n      <td>614/386</td>\n      <td>0.597319</td>\n    </tr>\n    <tr>\n      <th>1</th>\n      <td>91</td>\n      <td>0.000000</td>\n      <td>2.154435</td>\n      <td>0.536459</td>\n      <td>0.479600</td>\n      <td>606/394</td>\n      <td>0.609971</td>\n    </tr>\n    <tr>\n      <th>2</th>\n      <td>13</td>\n      <td>0.464159</td>\n      <td>1.000000</td>\n      <td>0.525472</td>\n      <td>0.546569</td>\n      <td>659/341</td>\n      <td>0.604940</td>\n    </tr>\n    <tr>\n      <th>3</th>\n      <td>92</td>\n      <td>0.021544</td>\n      <td>4.641589</td>\n      <td>0.520285</td>\n      <td>0.509715</td>\n      <td>804/196</td>\n      <td>0.604078</td>\n    </tr>\n    <tr>\n      <th>4</th>\n      <td>64</td>\n      <td>0.000000</td>\n      <td>46.415888</td>\n      <td>0.504693</td>\n      <td>0.483221</td>\n      <td>747/253</td>\n      <td>0.688819</td>\n    </tr>\n    <tr>\n      <th>5</th>\n      <td>10</td>\n      <td>0.100000</td>\n      <td>464.158883</td>\n      <td>0.575585</td>\n      <td>0.560326</td>\n      <td>737/263</td>\n      <td>0.688819</td>\n    </tr>\n    <tr>\n      <th>6</th>\n      <td>28</td>\n      <td>0.021544</td>\n      <td>10.000000</td>\n      <td>0.533033</td>\n      <td>0.514950</td>\n      <td>861/139</td>\n      <td>0.698209</td>\n    </tr>\n    <tr>\n      <th>7</th>\n      <td>55</td>\n      <td>0.021544</td>\n      <td>2.154435</td>\n      <td>0.586438</td>\n      <td>0.543294</td>\n      <td>619/381</td>\n      <td>0.636555</td>\n    </tr>\n    <tr>\n      <th>8</th>\n      <td>96</td>\n      <td>0.000000</td>\n      <td>4.641589</td>\n      <td>0.513375</td>\n      <td>0.494048</td>\n      <td>838/162</td>\n      <td>0.624422</td>\n    </tr>\n    <tr>\n      <th>9</th>\n      <td>97</td>\n      <td>2.154435</td>\n      <td>1.000000</td>\n      <td>0.514603</td>\n      <td>0.467196</td>\n      <td>563/437</td>\n      <td>0.504932</td>\n    </tr>\n  </tbody>\n</table>\n</div>"
     },
     "execution_count": 408,
     "metadata": {},
     "output_type": "execute_result"
    }
   ],
   "source": [
    "from notebooks.manifold_reg.MosesEstimator import result_df\n",
    "res_2_df = result_df(res_2, target_count, base_auc)\n",
    "res_2_df"
   ],
   "metadata": {
    "collapsed": false,
    "pycharm": {
     "name": "#%%\n"
    }
   }
  },
  {
   "cell_type": "code",
   "execution_count": 402,
   "outputs": [],
   "source": [
    "data_df = data_dfs[0]\n",
    "X_df, y_df = data_df.iloc[:, :-1], data_df.iloc[:, -1:]\n",
    "X_train_df, X_test_df, y_train_df, y_test_df = train_test_split(X_df, y_df, shuffle=True, stratify=y_df,\n",
    "                                                                test_size=0.2, random_state=82)\n",
    "\n",
    "X_train, X_test, y_train, y_test = X_train_df.to_numpy(), X_test_df.to_numpy(), y_train_df.to_numpy(), y_test_df.to_numpy()\n",
    "y_train = y_train.reshape(-1)\n",
    "y_test = y_test.reshape(-1)\n",
    "moses_est_2 = MosesEstimator(scorers=[\"mi\"], alpha=0.0, fs_algo=\"smd\", random_state=82, complexity_ratio=10.0).fit(X_train, y_train)"
   ],
   "metadata": {
    "collapsed": false,
    "pycharm": {
     "name": "#%%\n"
    }
   }
  },
  {
   "cell_type": "code",
   "execution_count": 403,
   "outputs": [
    {
     "data": {
      "text/plain": "0.49836342519269344"
     },
     "execution_count": 403,
     "metadata": {},
     "output_type": "execute_result"
    }
   ],
   "source": [
    "moses_est_2.score(X_test, y_test)"
   ],
   "metadata": {
    "collapsed": false,
    "pycharm": {
     "name": "#%%\n"
    }
   }
  },
  {
   "cell_type": "code",
   "execution_count": 405,
   "outputs": [
    {
     "data": {
      "text/plain": "{17: {'count': 21, 'causal': 'No', 'dist': 0.9601299999999999},\n 92: {'count': 308, 'causal': 'No', 'dist': 0.97088},\n 94: {'count': 208, 'causal': 'No', 'dist': 0.0},\n 6: {'count': 117, 'causal': 'No', 'dist': 0.48908},\n 45: {'count': 108, 'causal': 'No', 'dist': 1.1862400000000002},\n 54: {'count': 305, 'causal': 'No', 'dist': 1.8189},\n 48: {'count': 106, 'causal': 'No', 'dist': 1.0801},\n 85: {'count': 113, 'causal': 'No', 'dist': 3.24872},\n 47: {'count': 106, 'causal': 'No', 'dist': 0.5104181},\n 66: {'count': 113, 'causal': 'No', 'dist': 0.85802},\n 30: {'count': 110, 'causal': 'No', 'dist': 2.15778},\n 86: {'count': 14, 'causal': 'No', 'dist': 0.0},\n 36: {'count': 9, 'causal': 'No', 'dist': 1.3718599999999999}}"
     },
     "execution_count": 405,
     "metadata": {},
     "output_type": "execute_result"
    }
   ],
   "source": [
    "feature_count(moses_est_2.models_, feats[0], np.abs(net_dfs[0].to_numpy()))"
   ],
   "metadata": {
    "collapsed": false,
    "pycharm": {
     "name": "#%%\n"
    }
   }
  },
  {
   "cell_type": "code",
   "execution_count": null,
   "outputs": [
    {
     "name": "stdout",
     "output_type": "stream",
     "text": [
      "Now running seed - 82\n",
      "Fitting 5 folds for each of 1 candidates, totalling 5 fits\n",
      "Best params: {'alpha': 0.0, 'complexity_ratio': 10}, cv score: 0.49522815327756026, test score: 0.49836342519269344\n",
      "Now running seed - 91\n",
      "Fitting 5 folds for each of 1 candidates, totalling 5 fits\n"
     ]
    }
   ],
   "source": [
    "from notebooks.manifold_reg.MosesEstimator import *\n",
    "\n",
    "# no background penalty\n",
    "\n",
    "res_3 = run_moses_exps(seeds, data_dfs, net_dfs)"
   ],
   "metadata": {
    "collapsed": false,
    "pycharm": {
     "name": "#%%\n",
     "is_executing": true
    }
   }
  },
  {
   "cell_type": "markdown",
   "source": [
    "### No background penalty - complexity ratio = 10 for all runs"
   ],
   "metadata": {
    "collapsed": false,
    "pycharm": {
     "name": "#%% md\n"
    }
   }
  },
  {
   "cell_type": "code",
   "execution_count": 410,
   "outputs": [
    {
     "data": {
      "text/plain": "   seed  alpha  complexity_ratio  cv_score  test_score      0/1  base_auc\n0    82    0.0                10  0.495228    0.498363  614/386  0.597319\n1    91    0.0                10  0.500671    0.502458  606/394  0.609971\n2    13    0.0                10  0.503950    0.503342  659/341  0.604940\n3    92    0.0                10  0.535325    0.500000  804/196  0.604078\n4    64    0.0                10  0.495819    0.496644  747/253  0.688819\n5    10    0.0                10  0.549556    0.496599  737/263  0.688819\n6    28    0.0                10  0.498545    0.512043  861/139  0.698209\n7    55    0.0                10  0.528068    0.475806  619/381  0.636555\n8    96    0.0                10  0.503100    0.497024  838/162  0.624422\n9    97    0.0                10  0.484127    0.503509  563/437  0.504932",
      "text/html": "<div>\n<style scoped>\n    .dataframe tbody tr th:only-of-type {\n        vertical-align: middle;\n    }\n\n    .dataframe tbody tr th {\n        vertical-align: top;\n    }\n\n    .dataframe thead th {\n        text-align: right;\n    }\n</style>\n<table border=\"1\" class=\"dataframe\">\n  <thead>\n    <tr style=\"text-align: right;\">\n      <th></th>\n      <th>seed</th>\n      <th>alpha</th>\n      <th>complexity_ratio</th>\n      <th>cv_score</th>\n      <th>test_score</th>\n      <th>0/1</th>\n      <th>base_auc</th>\n    </tr>\n  </thead>\n  <tbody>\n    <tr>\n      <th>0</th>\n      <td>82</td>\n      <td>0.0</td>\n      <td>10</td>\n      <td>0.495228</td>\n      <td>0.498363</td>\n      <td>614/386</td>\n      <td>0.597319</td>\n    </tr>\n    <tr>\n      <th>1</th>\n      <td>91</td>\n      <td>0.0</td>\n      <td>10</td>\n      <td>0.500671</td>\n      <td>0.502458</td>\n      <td>606/394</td>\n      <td>0.609971</td>\n    </tr>\n    <tr>\n      <th>2</th>\n      <td>13</td>\n      <td>0.0</td>\n      <td>10</td>\n      <td>0.503950</td>\n      <td>0.503342</td>\n      <td>659/341</td>\n      <td>0.604940</td>\n    </tr>\n    <tr>\n      <th>3</th>\n      <td>92</td>\n      <td>0.0</td>\n      <td>10</td>\n      <td>0.535325</td>\n      <td>0.500000</td>\n      <td>804/196</td>\n      <td>0.604078</td>\n    </tr>\n    <tr>\n      <th>4</th>\n      <td>64</td>\n      <td>0.0</td>\n      <td>10</td>\n      <td>0.495819</td>\n      <td>0.496644</td>\n      <td>747/253</td>\n      <td>0.688819</td>\n    </tr>\n    <tr>\n      <th>5</th>\n      <td>10</td>\n      <td>0.0</td>\n      <td>10</td>\n      <td>0.549556</td>\n      <td>0.496599</td>\n      <td>737/263</td>\n      <td>0.688819</td>\n    </tr>\n    <tr>\n      <th>6</th>\n      <td>28</td>\n      <td>0.0</td>\n      <td>10</td>\n      <td>0.498545</td>\n      <td>0.512043</td>\n      <td>861/139</td>\n      <td>0.698209</td>\n    </tr>\n    <tr>\n      <th>7</th>\n      <td>55</td>\n      <td>0.0</td>\n      <td>10</td>\n      <td>0.528068</td>\n      <td>0.475806</td>\n      <td>619/381</td>\n      <td>0.636555</td>\n    </tr>\n    <tr>\n      <th>8</th>\n      <td>96</td>\n      <td>0.0</td>\n      <td>10</td>\n      <td>0.503100</td>\n      <td>0.497024</td>\n      <td>838/162</td>\n      <td>0.624422</td>\n    </tr>\n    <tr>\n      <th>9</th>\n      <td>97</td>\n      <td>0.0</td>\n      <td>10</td>\n      <td>0.484127</td>\n      <td>0.503509</td>\n      <td>563/437</td>\n      <td>0.504932</td>\n    </tr>\n  </tbody>\n</table>\n</div>"
     },
     "execution_count": 410,
     "metadata": {},
     "output_type": "execute_result"
    }
   ],
   "source": [
    "res_3_df = result_df(res_3, target_count, base_auc)\n",
    "res_3_df"
   ],
   "metadata": {
    "collapsed": false,
    "pycharm": {
     "name": "#%%\n"
    }
   }
  },
  {
   "cell_type": "code",
   "execution_count": 414,
   "outputs": [
    {
     "name": "stdout",
     "output_type": "stream",
     "text": [
      "Now running seed - 82\n",
      "Fitting 5 folds for each of 15 candidates, totalling 75 fits\n",
      "Best params: {'alpha': 1.0, 'complexity_ratio': 10}, cv score: 0.5199717798758366, test score: 0.4788301129764544\n",
      "Now running seed - 91\n",
      "Fitting 5 folds for each of 15 candidates, totalling 75 fits\n",
      "Best params: {'alpha': 0.3727593720314938, 'complexity_ratio': 10}, cv score: 0.5158402880052364, test score: 0.5299717543676117\n",
      "Now running seed - 13\n",
      "Fitting 5 folds for each of 15 candidates, totalling 75 fits\n",
      "Best params: {'alpha': 0.0071968567300115215, 'complexity_ratio': 10}, cv score: 0.5105576882935373, test score: 0.49153297682709446\n",
      "Now running seed - 92\n",
      "Fitting 5 folds for each of 15 candidates, totalling 75 fits\n",
      "Best params: {'alpha': 0.0071968567300115215, 'complexity_ratio': 10}, cv score: 0.5178165635158789, test score: 0.5\n",
      "Now running seed - 64\n",
      "Fitting 5 folds for each of 15 candidates, totalling 75 fits\n",
      "Best params: {'alpha': 0.13894954943731375, 'complexity_ratio': 10}, cv score: 0.5066596638655463, test score: 0.49302539807869455\n",
      "Now running seed - 10\n",
      "Fitting 5 folds for each of 15 candidates, totalling 75 fits\n",
      "Best params: {'alpha': 0.001, 'complexity_ratio': 10}, cv score: 0.5354317998385796, test score: 0.5\n",
      "Now running seed - 28\n",
      "Fitting 5 folds for each of 15 candidates, totalling 75 fits\n",
      "Best params: {'alpha': 0.019306977288832496, 'complexity_ratio': 10}, cv score: 0.5176495196330169, test score: 0.5178571428571429\n",
      "Now running seed - 55\n",
      "Fitting 5 folds for each of 15 candidates, totalling 75 fits\n",
      "Best params: {'alpha': 0.3727593720314938, 'complexity_ratio': 10}, cv score: 0.5841530054644808, test score: 0.4879032258064516\n",
      "Now running seed - 96\n",
      "Fitting 5 folds for each of 15 candidates, totalling 75 fits\n",
      "Best params: {'alpha': 0.001, 'complexity_ratio': 10}, cv score: 0.5032146957520092, test score: 0.49702380952380953\n",
      "Now running seed - 97\n",
      "Fitting 5 folds for each of 15 candidates, totalling 75 fits\n",
      "Best params: {'alpha': 0.019306977288832496, 'complexity_ratio': 10}, cv score: 0.5225396825396825, test score: 0.5388058183297733\n",
      "Done\n"
     ]
    }
   ],
   "source": [
    "from notebooks.manifold_reg.MosesEstimator import *\n",
    "alpha_vals = np.logspace(-3, 3, 15)\n",
    "\n",
    "\n",
    "#background penalty with fixed complexity ratio\n",
    "res_4 = run_moses_exps(seeds, data_dfs, net_dfs, alphas=alpha_vals)"
   ],
   "metadata": {
    "collapsed": false,
    "pycharm": {
     "name": "#%%\n"
    }
   }
  },
  {
   "cell_type": "markdown",
   "source": [
    "### Background penalty - complexity ratio = 10 for all runs"
   ],
   "metadata": {
    "collapsed": false,
    "pycharm": {
     "name": "#%% md\n"
    }
   }
  },
  {
   "cell_type": "code",
   "execution_count": 415,
   "outputs": [
    {
     "data": {
      "text/plain": "   seed     alpha  complexity_ratio  cv_score  test_score      0/1  base_auc\n0    82  1.000000                10  0.519972    0.478830  614/386  0.597319\n1    91  0.372759                10  0.515840    0.529972  606/394  0.609971\n2    13  0.007197                10  0.510558    0.491533  659/341  0.604940\n3    92  0.007197                10  0.517817    0.500000  804/196  0.604078\n4    64  0.138950                10  0.506660    0.493025  747/253  0.688819\n5    10  0.001000                10  0.535432    0.500000  737/263  0.688819\n6    28  0.019307                10  0.517650    0.517857  861/139  0.698209\n7    55  0.372759                10  0.584153    0.487903  619/381  0.636555\n8    96  0.001000                10  0.503215    0.497024  838/162  0.624422\n9    97  0.019307                10  0.522540    0.538806  563/437  0.504932",
      "text/html": "<div>\n<style scoped>\n    .dataframe tbody tr th:only-of-type {\n        vertical-align: middle;\n    }\n\n    .dataframe tbody tr th {\n        vertical-align: top;\n    }\n\n    .dataframe thead th {\n        text-align: right;\n    }\n</style>\n<table border=\"1\" class=\"dataframe\">\n  <thead>\n    <tr style=\"text-align: right;\">\n      <th></th>\n      <th>seed</th>\n      <th>alpha</th>\n      <th>complexity_ratio</th>\n      <th>cv_score</th>\n      <th>test_score</th>\n      <th>0/1</th>\n      <th>base_auc</th>\n    </tr>\n  </thead>\n  <tbody>\n    <tr>\n      <th>0</th>\n      <td>82</td>\n      <td>1.000000</td>\n      <td>10</td>\n      <td>0.519972</td>\n      <td>0.478830</td>\n      <td>614/386</td>\n      <td>0.597319</td>\n    </tr>\n    <tr>\n      <th>1</th>\n      <td>91</td>\n      <td>0.372759</td>\n      <td>10</td>\n      <td>0.515840</td>\n      <td>0.529972</td>\n      <td>606/394</td>\n      <td>0.609971</td>\n    </tr>\n    <tr>\n      <th>2</th>\n      <td>13</td>\n      <td>0.007197</td>\n      <td>10</td>\n      <td>0.510558</td>\n      <td>0.491533</td>\n      <td>659/341</td>\n      <td>0.604940</td>\n    </tr>\n    <tr>\n      <th>3</th>\n      <td>92</td>\n      <td>0.007197</td>\n      <td>10</td>\n      <td>0.517817</td>\n      <td>0.500000</td>\n      <td>804/196</td>\n      <td>0.604078</td>\n    </tr>\n    <tr>\n      <th>4</th>\n      <td>64</td>\n      <td>0.138950</td>\n      <td>10</td>\n      <td>0.506660</td>\n      <td>0.493025</td>\n      <td>747/253</td>\n      <td>0.688819</td>\n    </tr>\n    <tr>\n      <th>5</th>\n      <td>10</td>\n      <td>0.001000</td>\n      <td>10</td>\n      <td>0.535432</td>\n      <td>0.500000</td>\n      <td>737/263</td>\n      <td>0.688819</td>\n    </tr>\n    <tr>\n      <th>6</th>\n      <td>28</td>\n      <td>0.019307</td>\n      <td>10</td>\n      <td>0.517650</td>\n      <td>0.517857</td>\n      <td>861/139</td>\n      <td>0.698209</td>\n    </tr>\n    <tr>\n      <th>7</th>\n      <td>55</td>\n      <td>0.372759</td>\n      <td>10</td>\n      <td>0.584153</td>\n      <td>0.487903</td>\n      <td>619/381</td>\n      <td>0.636555</td>\n    </tr>\n    <tr>\n      <th>8</th>\n      <td>96</td>\n      <td>0.001000</td>\n      <td>10</td>\n      <td>0.503215</td>\n      <td>0.497024</td>\n      <td>838/162</td>\n      <td>0.624422</td>\n    </tr>\n    <tr>\n      <th>9</th>\n      <td>97</td>\n      <td>0.019307</td>\n      <td>10</td>\n      <td>0.522540</td>\n      <td>0.538806</td>\n      <td>563/437</td>\n      <td>0.504932</td>\n    </tr>\n  </tbody>\n</table>\n</div>"
     },
     "execution_count": 415,
     "metadata": {},
     "output_type": "execute_result"
    }
   ],
   "source": [
    "res_4_df = result_df(res_4, target_count, base_auc)\n",
    "res_4_df"
   ],
   "metadata": {
    "collapsed": false,
    "pycharm": {
     "name": "#%%\n"
    }
   }
  },
  {
   "cell_type": "code",
   "execution_count": 498,
   "outputs": [
    {
     "data": {
      "text/plain": "<matplotlib.legend.Legend at 0x7fbe691b8af0>"
     },
     "execution_count": 498,
     "metadata": {},
     "output_type": "execute_result"
    },
    {
     "data": {
      "text/plain": "<Figure size 1296x864 with 2 Axes>",
      "image/png": "[encoded data removed]"
     },
     "metadata": {
      "needs_background": "light"
     },
     "output_type": "display_data"
    }
   ],
   "source": [
    "fig, ax = plt.subplots(1, 2, figsize=(18, 12))\n",
    "\n",
    "fig.suptitle(\"Penalty vs No penalty with complexity ratio = 10\", fontsize=16)\n",
    "\n",
    "index = np.arange(1, 11)\n",
    "bar_width = 0.35\n",
    "ax[0].bar(index, res_4_df[\"cv_score\"]*100, bar_width, label=\"Pen\")\n",
    "ax[0].bar(index + bar_width, res_3_df[\"cv_score\"]*100, bar_width, label=\"No Pen\")\n",
    "ax[0].axhline(y=50, color=\"red\", label=\"random\", linestyle=\"--\")\n",
    "ax[0].set_xlabel(\"Seeds\", fontsize=14)\n",
    "ax[0].set_ylabel(\"train auc\", fontsize=14)\n",
    "\n",
    "ax[1].bar(index, res_4_df[\"test_score\"]*100, bar_width, label=\"Pen\")\n",
    "ax[1].bar(index + bar_width, res_3_df[\"test_score\"]*100, bar_width, label=\"No Pen\")\n",
    "ax[1].set_xlabel(\"Seeds\", fontsize=14)\n",
    "ax[1].set_ylabel(\"test auc\", fontsize=14)\n",
    "ax[1].axhline(y=50, color=\"red\", label=\"random\", linestyle=\"--\")\n",
    "\n",
    "ax[0].legend()\n",
    "ax[1].legend()"
   ],
   "metadata": {
    "collapsed": false,
    "pycharm": {
     "name": "#%%\n"
    }
   }
  },
  {
   "cell_type": "code",
   "execution_count": 420,
   "outputs": [
    {
     "name": "stdout",
     "output_type": "stream",
     "text": [
      "Now running seed - 82\n",
      "Fitting 5 folds for each of 1 candidates, totalling 5 fits\n",
      "Best params: {'alpha': 0.0, 'complexity_ratio': 1000}, cv score: 0.504554606163732, test score: 0.49018055115616094\n",
      "Now running seed - 91\n",
      "Fitting 5 folds for each of 1 candidates, totalling 5 fits\n",
      "Best params: {'alpha': 0.0, 'complexity_ratio': 1000}, cv score: 0.5078874161348388, test score: 0.4960246887749764\n",
      "Now running seed - 13\n",
      "Fitting 5 folds for each of 1 candidates, totalling 5 fits\n",
      "Best params: {'alpha': 0.0, 'complexity_ratio': 1000}, cv score: 0.5049415085264142, test score: 0.5071301247771836\n",
      "Now running seed - 92\n",
      "Fitting 5 folds for each of 1 candidates, totalling 5 fits\n",
      "Best params: {'alpha': 0.0, 'complexity_ratio': 1000}, cv score: 0.5024506126531633, test score: 0.5\n",
      "Now running seed - 64\n",
      "Fitting 5 folds for each of 1 candidates, totalling 5 fits\n",
      "Best params: {'alpha': 0.0, 'complexity_ratio': 1000}, cv score: 0.5038667418186787, test score: 0.5030925121726543\n",
      "Now running seed - 10\n",
      "Fitting 5 folds for each of 1 candidates, totalling 5 fits\n",
      "Best params: {'alpha': 0.0, 'complexity_ratio': 1000}, cv score: 0.5044794188861986, test score: 0.4882556796303427\n",
      "Now running seed - 28\n",
      "Fitting 5 folds for each of 1 candidates, totalling 5 fits\n",
      "Best params: {'alpha': 0.0, 'complexity_ratio': 1000}, cv score: 0.5134228671994461, test score: 0.5149501661129569\n",
      "Now running seed - 55\n",
      "Fitting 5 folds for each of 1 candidates, totalling 5 fits\n",
      "Best params: {'alpha': 0.0, 'complexity_ratio': 1000}, cv score: 0.5254181155820501, test score: 0.506578947368421\n",
      "Now running seed - 96\n",
      "Fitting 5 folds for each of 1 candidates, totalling 5 fits\n",
      "Best params: {'alpha': 0.0, 'complexity_ratio': 1000}, cv score: 0.4977611940298507, test score: 0.515625\n",
      "Now running seed - 97\n",
      "Fitting 5 folds for each of 1 candidates, totalling 5 fits\n",
      "Best params: {'alpha': 0.0, 'complexity_ratio': 1000}, cv score: 0.49444444444444446, test score: 0.49557522123893805\n",
      "Done\n"
     ]
    },
    {
     "data": {
      "text/plain": "   seed  alpha  complexity_ratio  cv_score  test_score      0/1  base_auc\n0    82    0.0              1000  0.504555    0.490181  614/386  0.597319\n1    91    0.0              1000  0.507887    0.496025  606/394  0.609971\n2    13    0.0              1000  0.504942    0.507130  659/341  0.604940\n3    92    0.0              1000  0.502451    0.500000  804/196  0.604078\n4    64    0.0              1000  0.503867    0.503093  747/253  0.688819\n5    10    0.0              1000  0.504479    0.488256  737/263  0.688819\n6    28    0.0              1000  0.513423    0.514950  861/139  0.698209\n7    55    0.0              1000  0.525418    0.506579  619/381  0.636555\n8    96    0.0              1000  0.497761    0.515625  838/162  0.624422\n9    97    0.0              1000  0.494444    0.495575  563/437  0.504932",
      "text/html": "<div>\n<style scoped>\n    .dataframe tbody tr th:only-of-type {\n        vertical-align: middle;\n    }\n\n    .dataframe tbody tr th {\n        vertical-align: top;\n    }\n\n    .dataframe thead th {\n        text-align: right;\n    }\n</style>\n<table border=\"1\" class=\"dataframe\">\n  <thead>\n    <tr style=\"text-align: right;\">\n      <th></th>\n      <th>seed</th>\n      <th>alpha</th>\n      <th>complexity_ratio</th>\n      <th>cv_score</th>\n      <th>test_score</th>\n      <th>0/1</th>\n      <th>base_auc</th>\n    </tr>\n  </thead>\n  <tbody>\n    <tr>\n      <th>0</th>\n      <td>82</td>\n      <td>0.0</td>\n      <td>1000</td>\n      <td>0.504555</td>\n      <td>0.490181</td>\n      <td>614/386</td>\n      <td>0.597319</td>\n    </tr>\n    <tr>\n      <th>1</th>\n      <td>91</td>\n      <td>0.0</td>\n      <td>1000</td>\n      <td>0.507887</td>\n      <td>0.496025</td>\n      <td>606/394</td>\n      <td>0.609971</td>\n    </tr>\n    <tr>\n      <th>2</th>\n      <td>13</td>\n      <td>0.0</td>\n      <td>1000</td>\n      <td>0.504942</td>\n      <td>0.507130</td>\n      <td>659/341</td>\n      <td>0.604940</td>\n    </tr>\n    <tr>\n      <th>3</th>\n      <td>92</td>\n      <td>0.0</td>\n      <td>1000</td>\n      <td>0.502451</td>\n      <td>0.500000</td>\n      <td>804/196</td>\n      <td>0.604078</td>\n    </tr>\n    <tr>\n      <th>4</th>\n      <td>64</td>\n      <td>0.0</td>\n      <td>1000</td>\n      <td>0.503867</td>\n      <td>0.503093</td>\n      <td>747/253</td>\n      <td>0.688819</td>\n    </tr>\n    <tr>\n      <th>5</th>\n      <td>10</td>\n      <td>0.0</td>\n      <td>1000</td>\n      <td>0.504479</td>\n      <td>0.488256</td>\n      <td>737/263</td>\n      <td>0.688819</td>\n    </tr>\n    <tr>\n      <th>6</th>\n      <td>28</td>\n      <td>0.0</td>\n      <td>1000</td>\n      <td>0.513423</td>\n      <td>0.514950</td>\n      <td>861/139</td>\n      <td>0.698209</td>\n    </tr>\n    <tr>\n      <th>7</th>\n      <td>55</td>\n      <td>0.0</td>\n      <td>1000</td>\n      <td>0.525418</td>\n      <td>0.506579</td>\n      <td>619/381</td>\n      <td>0.636555</td>\n    </tr>\n    <tr>\n      <th>8</th>\n      <td>96</td>\n      <td>0.0</td>\n      <td>1000</td>\n      <td>0.497761</td>\n      <td>0.515625</td>\n      <td>838/162</td>\n      <td>0.624422</td>\n    </tr>\n    <tr>\n      <th>9</th>\n      <td>97</td>\n      <td>0.0</td>\n      <td>1000</td>\n      <td>0.494444</td>\n      <td>0.495575</td>\n      <td>563/437</td>\n      <td>0.504932</td>\n    </tr>\n  </tbody>\n</table>\n</div>"
     },
     "execution_count": 420,
     "metadata": {},
     "output_type": "execute_result"
    }
   ],
   "source": [
    "from notebooks.manifold_reg.MosesEstimator import *\n",
    "res_5 = run_moses_exps(seeds, data_dfs, net_dfs, cmplx_ratios=[1000])\n",
    "res_5_df = result_df(res_5, target_count, base_auc)\n",
    "res_5_df"
   ],
   "metadata": {
    "collapsed": false,
    "pycharm": {
     "name": "#%%\n"
    }
   }
  },
  {
   "cell_type": "code",
   "execution_count": 419,
   "outputs": [
    {
     "name": "stdout",
     "output_type": "stream",
     "text": [
      "Now running seed - 82\n",
      "Fitting 5 folds for each of 15 candidates, totalling 75 fits\n",
      "Best params: {'alpha': 0.0071968567300115215, 'complexity_ratio': 1000}, cv score: 0.5048922403761115, test score: 0.4617780593390349\n",
      "Now running seed - 91\n",
      "Fitting 5 folds for each of 15 candidates, totalling 75 fits\n",
      "Best params: {'alpha': 0.001, 'complexity_ratio': 1000}, cv score: 0.5248731795123547, test score: 0.5\n",
      "Now running seed - 13\n",
      "Fitting 5 folds for each of 15 candidates, totalling 75 fits\n",
      "Best params: {'alpha': 7.196856730011514, 'complexity_ratio': 1000}, cv score: 0.5128232005590496, test score: 0.5\n",
      "Now running seed - 92\n",
      "Fitting 5 folds for each of 15 candidates, totalling 75 fits\n",
      "Best params: {'alpha': 0.0026826957952797246, 'complexity_ratio': 1000}, cv score: 0.5072631439109777, test score: 0.4968944099378882\n",
      "Now running seed - 64\n",
      "Fitting 5 folds for each of 15 candidates, totalling 75 fits\n",
      "Best params: {'alpha': 0.0026826957952797246, 'complexity_ratio': 1000}, cv score: 0.5032043793127007, test score: 0.5095407290432952\n",
      "Now running seed - 10\n",
      "Fitting 5 folds for each of 15 candidates, totalling 75 fits\n",
      "Best params: {'alpha': 0.0026826957952797246, 'complexity_ratio': 1000}, cv score: 0.5472154963680387, test score: 0.5146964446155821\n",
      "Now running seed - 28\n",
      "Fitting 5 folds for each of 15 candidates, totalling 75 fits\n",
      "Best params: {'alpha': 0.13894954943731375, 'complexity_ratio': 1000}, cv score: 0.5107378129117259, test score: 0.5\n",
      "Now running seed - 55\n",
      "Fitting 5 folds for each of 15 candidates, totalling 75 fits\n",
      "Best params: {'alpha': 0.0026826957952797246, 'complexity_ratio': 1000}, cv score: 0.5556714687862229, test score: 0.5042444821731749\n",
      "Now running seed - 96\n",
      "Fitting 5 folds for each of 15 candidates, totalling 75 fits\n",
      "Best params: {'alpha': 51.794746792312125, 'complexity_ratio': 1000}, cv score: 0.5030998851894374, test score: 0.5\n",
      "Now running seed - 97\n",
      "Fitting 5 folds for each of 15 candidates, totalling 75 fits\n",
      "Best params: {'alpha': 0.13894954943731375, 'complexity_ratio': 1000}, cv score: 0.516031746031746, test score: 0.4870816803987387\n",
      "Done\n"
     ]
    },
    {
     "data": {
      "text/plain": "   seed      alpha  complexity_ratio  cv_score  test_score      0/1  base_auc\n0    82   0.007197              1000  0.504892    0.461778  614/386  0.597319\n1    91   0.001000              1000  0.524873    0.500000  606/394  0.609971\n2    13   7.196857              1000  0.512823    0.500000  659/341  0.604940\n3    92   0.002683              1000  0.507263    0.496894  804/196  0.604078\n4    64   0.002683              1000  0.503204    0.509541  747/253  0.688819\n5    10   0.002683              1000  0.547215    0.514696  737/263  0.688819\n6    28   0.138950              1000  0.510738    0.500000  861/139  0.698209\n7    55   0.002683              1000  0.555671    0.504244  619/381  0.636555\n8    96  51.794747              1000  0.503100    0.500000  838/162  0.624422\n9    97   0.138950              1000  0.516032    0.487082  563/437  0.504932",
      "text/html": "<div>\n<style scoped>\n    .dataframe tbody tr th:only-of-type {\n        vertical-align: middle;\n    }\n\n    .dataframe tbody tr th {\n        vertical-align: top;\n    }\n\n    .dataframe thead th {\n        text-align: right;\n    }\n</style>\n<table border=\"1\" class=\"dataframe\">\n  <thead>\n    <tr style=\"text-align: right;\">\n      <th></th>\n      <th>seed</th>\n      <th>alpha</th>\n      <th>complexity_ratio</th>\n      <th>cv_score</th>\n      <th>test_score</th>\n      <th>0/1</th>\n      <th>base_auc</th>\n    </tr>\n  </thead>\n  <tbody>\n    <tr>\n      <th>0</th>\n      <td>82</td>\n      <td>0.007197</td>\n      <td>1000</td>\n      <td>0.504892</td>\n      <td>0.461778</td>\n      <td>614/386</td>\n      <td>0.597319</td>\n    </tr>\n    <tr>\n      <th>1</th>\n      <td>91</td>\n      <td>0.001000</td>\n      <td>1000</td>\n      <td>0.524873</td>\n      <td>0.500000</td>\n      <td>606/394</td>\n      <td>0.609971</td>\n    </tr>\n    <tr>\n      <th>2</th>\n      <td>13</td>\n      <td>7.196857</td>\n      <td>1000</td>\n      <td>0.512823</td>\n      <td>0.500000</td>\n      <td>659/341</td>\n      <td>0.604940</td>\n    </tr>\n    <tr>\n      <th>3</th>\n      <td>92</td>\n      <td>0.002683</td>\n      <td>1000</td>\n      <td>0.507263</td>\n      <td>0.496894</td>\n      <td>804/196</td>\n      <td>0.604078</td>\n    </tr>\n    <tr>\n      <th>4</th>\n      <td>64</td>\n      <td>0.002683</td>\n      <td>1000</td>\n      <td>0.503204</td>\n      <td>0.509541</td>\n      <td>747/253</td>\n      <td>0.688819</td>\n    </tr>\n    <tr>\n      <th>5</th>\n      <td>10</td>\n      <td>0.002683</td>\n      <td>1000</td>\n      <td>0.547215</td>\n      <td>0.514696</td>\n      <td>737/263</td>\n      <td>0.688819</td>\n    </tr>\n    <tr>\n      <th>6</th>\n      <td>28</td>\n      <td>0.138950</td>\n      <td>1000</td>\n      <td>0.510738</td>\n      <td>0.500000</td>\n      <td>861/139</td>\n      <td>0.698209</td>\n    </tr>\n    <tr>\n      <th>7</th>\n      <td>55</td>\n      <td>0.002683</td>\n      <td>1000</td>\n      <td>0.555671</td>\n      <td>0.504244</td>\n      <td>619/381</td>\n      <td>0.636555</td>\n    </tr>\n    <tr>\n      <th>8</th>\n      <td>96</td>\n      <td>51.794747</td>\n      <td>1000</td>\n      <td>0.503100</td>\n      <td>0.500000</td>\n      <td>838/162</td>\n      <td>0.624422</td>\n    </tr>\n    <tr>\n      <th>9</th>\n      <td>97</td>\n      <td>0.138950</td>\n      <td>1000</td>\n      <td>0.516032</td>\n      <td>0.487082</td>\n      <td>563/437</td>\n      <td>0.504932</td>\n    </tr>\n  </tbody>\n</table>\n</div>"
     },
     "execution_count": 419,
     "metadata": {},
     "output_type": "execute_result"
    }
   ],
   "source": [
    "\n",
    "alpha_vals = np.logspace(-3, 3, 15)\n",
    "\n",
    "#background penalty with fixed complexity ratio\n",
    "res_6 = run_moses_exps(seeds, data_dfs, net_dfs, alphas=alpha_vals, cmplx_ratios=[1000])\n",
    "res_6_df = result_df(res_6, target_count, base_auc)\n",
    "res_6_df"
   ],
   "metadata": {
    "collapsed": false,
    "pycharm": {
     "name": "#%%\n"
    }
   }
  },
  {
   "cell_type": "code",
   "execution_count": 502,
   "outputs": [
    {
     "data": {
      "text/plain": "<matplotlib.legend.Legend at 0x7fbe60d3afd0>"
     },
     "execution_count": 502,
     "metadata": {},
     "output_type": "execute_result"
    },
    {
     "data": {
      "text/plain": "<Figure size 1296x864 with 2 Axes>",
      "image/png": "[encoded data removed]"
     },
     "metadata": {
      "needs_background": "light"
     },
     "output_type": "display_data"
    }
   ],
   "source": [
    "fig, ax = plt.subplots(1, 2, figsize=(18, 12))\n",
    "\n",
    "fig.suptitle(\"Penalty vs No penalty with complexity ratio = 1000\", fontsize=16)\n",
    "\n",
    "index = np.arange(1, 11)\n",
    "bar_width = 0.35\n",
    "ax[0].bar(index, res_6_df[\"cv_score\"]*100, bar_width, label=\"Pen\")\n",
    "ax[0].bar(index + bar_width, res_5_df[\"cv_score\"]*100, bar_width, label=\"No Pen\")\n",
    "ax[0].axhline(y=50, color=\"red\", label=\"random\", linestyle=\"--\")\n",
    "ax[0].set_xlabel(\"Runs\", fontsize=14)\n",
    "ax[0].set_ylabel(\"train auc\", fontsize=14)\n",
    "\n",
    "ax[1].bar(index, res_6_df[\"test_score\"]*100, bar_width, label=\"Pen\")\n",
    "ax[1].bar(index + bar_width, res_5_df[\"test_score\"]*100, bar_width, label=\"No Pen\")\n",
    "ax[1].set_xlabel(\"Runs\", fontsize=14)\n",
    "ax[1].set_ylabel(\"test auc\", fontsize=14)\n",
    "ax[1].axhline(y=50, color=\"red\", label=\"random\", linestyle=\"--\")\n",
    "\n",
    "ax[0].legend()\n",
    "ax[1].legend()"
   ],
   "metadata": {
    "collapsed": false,
    "pycharm": {
     "name": "#%%\n"
    }
   }
  },
  {
   "cell_type": "code",
   "execution_count": 427,
   "outputs": [
    {
     "name": "stdout",
     "output_type": "stream",
     "text": [
      "(800, 100)\n"
     ]
    },
    {
     "name": "stderr",
     "output_type": "stream",
     "text": [
      "/home/xabush/miniconda3/lib/python3.9/site-packages/sklearn/utils/validation.py:985: DataConversionWarning: A column-vector y was passed when a 1d array was expected. Please change the shape of y to (n_samples, ), for example using ravel().\n",
      "  y = column_or_1d(y, warn=True)\n"
     ]
    },
    {
     "data": {
      "text/plain": "array([5.67879235e-03, 0.00000000e+00, 2.57947553e-02, 3.78504319e-03,\n       1.46083745e-04, 3.60399591e-03, 1.07635042e-03, 3.20701608e-03,\n       0.00000000e+00, 2.47437766e-03, 0.00000000e+00, 1.40363090e-02,\n       0.00000000e+00, 9.11492550e-03, 2.23379202e-03, 0.00000000e+00,\n       0.00000000e+00, 8.71900214e-03, 1.08000755e-02, 3.97140979e-03,\n       4.69913343e-03, 2.35717977e-02, 6.35922335e-03, 0.00000000e+00,\n       9.92519500e-03, 1.36775564e-02, 0.00000000e+00, 4.66560251e-03,\n       2.37800344e-02, 6.64740063e-03, 8.06451397e-03, 0.00000000e+00,\n       0.00000000e+00, 1.72473443e-03, 8.00179417e-03, 0.00000000e+00,\n       1.39951224e-03, 4.99036299e-03, 0.00000000e+00, 0.00000000e+00,\n       0.00000000e+00, 5.27337466e-03, 0.00000000e+00, 1.15324812e-02,\n       0.00000000e+00, 0.00000000e+00, 1.50868649e-02, 2.29527861e-02,\n       1.16404034e-02, 0.00000000e+00, 9.31363906e-03, 2.37345269e-02,\n       1.72497214e-02, 0.00000000e+00, 0.00000000e+00, 7.30247922e-03,\n       1.37930678e-03, 1.15124805e-03, 0.00000000e+00, 0.00000000e+00,\n       0.00000000e+00, 0.00000000e+00, 0.00000000e+00, 6.70527387e-03,\n       2.43695056e-02, 0.00000000e+00, 0.00000000e+00, 0.00000000e+00,\n       0.00000000e+00, 0.00000000e+00, 2.19647268e-02, 1.57651533e-03,\n       3.19501179e-03, 6.93454727e-03, 8.73593664e-03, 0.00000000e+00,\n       0.00000000e+00, 4.70789663e-05, 1.18833311e-02, 0.00000000e+00,\n       1.71650116e-02, 0.00000000e+00, 0.00000000e+00, 1.45245320e-02,\n       0.00000000e+00, 0.00000000e+00, 0.00000000e+00, 2.22425532e-03,\n       1.38485520e-02, 0.00000000e+00, 9.01894295e-04, 0.00000000e+00,\n       0.00000000e+00, 6.74492577e-03, 0.00000000e+00, 1.26348472e-03,\n       0.00000000e+00, 1.06779741e-02, 1.43534854e-02, 0.00000000e+00])"
     },
     "execution_count": 427,
     "metadata": {},
     "output_type": "execute_result"
    }
   ],
   "source": [
    "from sklearn.feature_selection import mutual_info_classif\n",
    "\n",
    "df_mi_t = pd.read_csv(\"data/bmm/data_train.csv\")\n",
    "X_mi_t, y_mi_t = df_mi_t.iloc[:, :-1].to_numpy(), df_mi_t.iloc[:, -1:].to_numpy()\n",
    "print(X_mi_t.shape)\n",
    "feat_mi = mutual_info_classif(X_mi_t, y_mi_t)\n",
    "feat_mi"
   ],
   "metadata": {
    "collapsed": false,
    "pycharm": {
     "name": "#%%\n"
    }
   }
  },
  {
   "cell_type": "code",
   "execution_count": 431,
   "outputs": [
    {
     "data": {
      "text/plain": "0.032396213062007906"
     },
     "execution_count": 431,
     "metadata": {},
     "output_type": "execute_result"
    }
   ],
   "source": [
    "np.sum(feat_mi[np.array([8, 29, 56, 58, 62, 64])])"
   ],
   "metadata": {
    "collapsed": false,
    "pycharm": {
     "name": "#%%\n"
    }
   }
  },
  {
   "cell_type": "markdown",
   "source": [
    "### Using the stand-alone feature selection binary - i.e pre-selecting the features outside of MOSES"
   ],
   "metadata": {
    "collapsed": false,
    "pycharm": {
     "name": "#%% md\n"
    }
   }
  },
  {
   "cell_type": "code",
   "execution_count": 540,
   "outputs": [
    {
     "name": "stdout",
     "output_type": "stream",
     "text": [
      "{'cv_score': 0.5273565616408451, 'test_score': 0.47486692271410286, 'est': MosesEstimator(cols=['f30', 'f33', 'f34', 'f36', 'f39', 'f51', 'f68', 'f85',\n",
      "                     'f88', 'f94', 'y'],\n",
      "               fs_algo=None, random_state=82)}\n",
      "{'cv_score': 0.5398173966180201, 'test_score': 0.5077873254564984, 'est': MosesEstimator(cols=['f18', 'f40', 'f47', 'f54', 'f56', 'f63', 'f7', 'f71',\n",
      "                     'f84', 'f95', 'y'],\n",
      "               fs_algo=None, random_state=91)}\n",
      "{'cv_score': 0.5514606181352327, 'test_score': 0.5433155080213904, 'est': MosesEstimator(cols=['f20', 'f31', 'f32', 'f34', 'f48', 'f5', 'f63', 'f66',\n",
      "                     'f68', 'f74', 'y'],\n",
      "               fs_algo=None, random_state=13)}\n",
      "{'cv_score': 0.5240760037588978, 'test_score': 0.5005076657528683, 'est': MosesEstimator(cols=['f16', 'f23', 'f25', 'f3', 'f36', 'f39', 'f42', 'f57',\n",
      "                     'f63', 'f93', 'y'],\n",
      "               fs_algo=None, random_state=92)}\n",
      "{'cv_score': 0.5329518684980641, 'test_score': 0.5342500636618285, 'est': MosesEstimator(cols=['f16', 'f23', 'f26', 'f3', 'f30', 'f35', 'f40', 'f65',\n",
      "                     'f71', 'f89', 'y'],\n",
      "               fs_algo=None, random_state=64)}\n",
      "{'cv_score': 0.569539448209215, 'test_score': 0.5691699604743083, 'est': MosesEstimator(cols=['f12', 'f19', 'f23', 'f47', 'f5', 'f50', 'f55', 'f89',\n",
      "                     'f93', 'f94', 'y'],\n",
      "               fs_algo=None, random_state=10)}\n",
      "{'cv_score': 0.5598117636578082, 'test_score': 0.553156146179402, 'est': MosesEstimator(cols=['f14', 'f42', 'f44', 'f50', 'f53', 'f56', 'f59', 'f6',\n",
      "                     'f60', 'f61', 'y'],\n",
      "               fs_algo=None, random_state=28)}\n",
      "{'cv_score': 0.5839212388031145, 'test_score': 0.5857385398981325, 'est': MosesEstimator(cols=['f12', 'f31', 'f33', 'f52', 'f57', 'f65', 'f71', 'f73',\n",
      "                     'f79', 'f83', 'y'],\n",
      "               fs_algo=None, random_state=55)}\n",
      "{'cv_score': 0.533091958707505, 'test_score': 0.49821428571428567, 'est': MosesEstimator(cols=['f27', 'f28', 'f31', 'f38', 'f42', 'f49', 'f57', 'f70',\n",
      "                     'f79', 'f85', 'y'],\n",
      "               fs_algo=None, random_state=96)}\n",
      "{'cv_score': 0.5520880596046549, 'test_score': 0.5397878847029735, 'est': MosesEstimator(cols=['f11', 'f31', 'f32', 'f5', 'f60', 'f8', 'f84', 'f89',\n",
      "                     'f95', 'f96', 'y'],\n",
      "               fs_algo=None, random_state=97)}\n"
     ]
    }
   ],
   "source": [
    "from notebooks.manifold_reg.MosesEstimator import *\n",
    "from sklearn.model_selection import cross_val_score\n",
    "import subprocess as subp\n",
    "\n",
    "i = 0\n",
    "\n",
    "results_fs = {}\n",
    "for seed, df in zip(seeds, data_dfs):\n",
    "    X_s, y_s = df[df.columns.difference([\"y\"])], df[\"y\"]\n",
    "    X_s_train, X_s_test, y_s_train, y_s_test = train_test_split(X_s, y_s, stratify=y_s, shuffle=True, random_state=seed)\n",
    "    data_train_s = pd.concat([X_s_train, y_s_train], axis=1)\n",
    "    data_train_s.to_csv(f\"data/exps5/data_train_{seed}.csv\", index=False)\n",
    "    cmd = [\"asfeature-selection\", \"-i\", f\"data/exps5/data_train_{seed}.csv\",  \"-uy\", \"-asmd\", \"-C10\", \"-o\", f\"data/exps5/data_train_r_{seed}.csv\", \"-F\", \"data/exps5/fs.log\"]\n",
    "    process = subp.Popen(args=cmd, stdout=subp.PIPE, stderr=subp.PIPE)\n",
    "    stdout, stderr = process.communicate()\n",
    "    if process.returncode != 0:\n",
    "        raise RuntimeError(f\"MOSES ran into an error with return code {process.returncode}. Here is the stderr output:\\n{stderr.decode('utf-8')}\")\n",
    "\n",
    "    data_r = pd.read_csv(f\"data/exps5/data_train_r_{seed}.csv\")\n",
    "    cols = [col for col in data_r.columns if col != \"y\"] + [\"y\"] # asfeature-selection doesn't output columns in the order its given so fix it here\n",
    "    data_r = data_r[cols]\n",
    "    X_r_train, y_r_train = data_r[data_r.columns.difference([\"y\"])].to_numpy(), data_r[\"y\"].to_numpy()\n",
    "    X_r_test = X_s_test[cols[:-1]]\n",
    "    cv_score = np.mean(cross_val_score(MosesEstimator(fs_algo=None, random_state=seed, cols=cols), X_r_train, y_r_train, n_jobs=-1))\n",
    "    moses_est_r = MosesEstimator(fs_algo=None, random_state=seed, cols=cols).fit(X_r_train, y_r_train)\n",
    "    # print(\"Scoring on test dataset\")\n",
    "    test_score = moses_est_r.score(X_r_test.to_numpy(), y_s_test.to_numpy())\n",
    "    res = {\"cv_score\": cv_score, \"test_score\": test_score, \"est\": moses_est_r}\n",
    "    print(res)\n",
    "    results_fs[seed] = res\n",
    "\n",
    "\n",
    "    i += 1"
   ],
   "metadata": {
    "collapsed": false,
    "pycharm": {
     "name": "#%%\n"
    }
   }
  },
  {
   "cell_type": "code",
   "execution_count": 541,
   "outputs": [
    {
     "data": {
      "text/plain": "   seed  cv_score  test_score\n0    82  0.527357    0.474867\n1    91  0.539817    0.507787\n2    13  0.551461    0.543316\n3    92  0.524076    0.500508\n4    64  0.532952    0.534250\n5    10  0.569539    0.569170\n6    28  0.559812    0.553156\n7    55  0.583921    0.585739\n8    96  0.533092    0.498214\n9    97  0.552088    0.539788",
      "text/html": "<div>\n<style scoped>\n    .dataframe tbody tr th:only-of-type {\n        vertical-align: middle;\n    }\n\n    .dataframe tbody tr th {\n        vertical-align: top;\n    }\n\n    .dataframe thead th {\n        text-align: right;\n    }\n</style>\n<table border=\"1\" class=\"dataframe\">\n  <thead>\n    <tr style=\"text-align: right;\">\n      <th></th>\n      <th>seed</th>\n      <th>cv_score</th>\n      <th>test_score</th>\n    </tr>\n  </thead>\n  <tbody>\n    <tr>\n      <th>0</th>\n      <td>82</td>\n      <td>0.527357</td>\n      <td>0.474867</td>\n    </tr>\n    <tr>\n      <th>1</th>\n      <td>91</td>\n      <td>0.539817</td>\n      <td>0.507787</td>\n    </tr>\n    <tr>\n      <th>2</th>\n      <td>13</td>\n      <td>0.551461</td>\n      <td>0.543316</td>\n    </tr>\n    <tr>\n      <th>3</th>\n      <td>92</td>\n      <td>0.524076</td>\n      <td>0.500508</td>\n    </tr>\n    <tr>\n      <th>4</th>\n      <td>64</td>\n      <td>0.532952</td>\n      <td>0.534250</td>\n    </tr>\n    <tr>\n      <th>5</th>\n      <td>10</td>\n      <td>0.569539</td>\n      <td>0.569170</td>\n    </tr>\n    <tr>\n      <th>6</th>\n      <td>28</td>\n      <td>0.559812</td>\n      <td>0.553156</td>\n    </tr>\n    <tr>\n      <th>7</th>\n      <td>55</td>\n      <td>0.583921</td>\n      <td>0.585739</td>\n    </tr>\n    <tr>\n      <th>8</th>\n      <td>96</td>\n      <td>0.533092</td>\n      <td>0.498214</td>\n    </tr>\n    <tr>\n      <th>9</th>\n      <td>97</td>\n      <td>0.552088</td>\n      <td>0.539788</td>\n    </tr>\n  </tbody>\n</table>\n</div>"
     },
     "execution_count": 541,
     "metadata": {},
     "output_type": "execute_result"
    }
   ],
   "source": [
    "results_fs_df = {\"seed\": [] ,\"cv_score\": [], \"test_score\": []}\n",
    "\n",
    "for s, v in results_fs.items():\n",
    "    results_fs_df[\"seed\"].append(s)\n",
    "    results_fs_df[\"cv_score\"].append(v[\"cv_score\"])\n",
    "    results_fs_df[\"test_score\"].append(v[\"test_score\"])\n",
    "\n",
    "results_fs_df = pd.DataFrame(results_fs_df)\n",
    "results_fs_df"
   ],
   "metadata": {
    "collapsed": false,
    "pycharm": {
     "name": "#%%\n"
    }
   }
  },
  {
   "cell_type": "code",
   "execution_count": 539,
   "outputs": [
    {
     "name": "stdout",
     "output_type": "stream",
     "text": [
      "{'cv_score': 0.538178280394043, 'test_score': 0.4899602452664915, 'est': MosesEstimator(cols=['f11', 'f17', 'f39', 'f48', 'f49', 'f51', 'f57', 'f83',\n",
      "                     'f88', 'f94', 'y'],\n",
      "               fs_algo=None, random_state=82)}\n",
      "{'cv_score': 0.576702016470924, 'test_score': 0.543501611170784, 'est': MosesEstimator(cols=['f18', 'f38', 'f4', 'f47', 'f54', 'f69', 'f7', 'f77',\n",
      "                     'f84', 'f92', 'y'],\n",
      "               fs_algo=None, random_state=91)}\n",
      "{'cv_score': 0.5555092072234149, 'test_score': 0.5167557932263815, 'est': MosesEstimator(cols=['f18', 'f22', 'f5', 'f52', 'f60', 'f66', 'f75', 'f76',\n",
      "                     'f89', 'f90', 'y'],\n",
      "               fs_algo=None, random_state=13)}\n",
      "{'cv_score': 0.534995089230352, 'test_score': 0.5206619961417404, 'est': MosesEstimator(cols=['f12', 'f16', 'f25', 'f36', 'f39', 'f42', 'f62', 'f63',\n",
      "                     'f79', 'f93', 'y'],\n",
      "               fs_algo=None, random_state=92)}\n",
      "{'cv_score': 0.5503332761383852, 'test_score': 0.5234699940582294, 'est': MosesEstimator(cols=['f16', 'f17', 'f23', 'f26', 'f35', 'f40', 'f65', 'f69',\n",
      "                     'f71', 'f89', 'y'],\n",
      "               fs_algo=None, random_state=64)}\n",
      "{'cv_score': 0.5806335719831042, 'test_score': 0.5594532279314889, 'est': MosesEstimator(cols=['f12', 'f19', 'f23', 'f27', 'f47', 'f5', 'f52', 'f89',\n",
      "                     'f93', 'f94', 'y'],\n",
      "               fs_algo=None, random_state=10)}\n",
      "{'cv_score': 0.5475124851340198, 'test_score': 0.5408637873754153, 'est': MosesEstimator(cols=['f10', 'f36', 'f40', 'f42', 'f44', 'f53', 'f59', 'f60',\n",
      "                     'f61', 'f98', 'y'],\n",
      "               fs_algo=None, random_state=28)}\n",
      "{'cv_score': 0.5522977890487482, 'test_score': 0.6252971137521222, 'est': MosesEstimator(cols=['f15', 'f31', 'f34', 'f57', 'f71', 'f79', 'f81', 'f88',\n",
      "                     'f91', 'f96', 'y'],\n",
      "               fs_algo=None, random_state=55)}\n",
      "{'cv_score': 0.5186846551064643, 'test_score': 0.49523809523809526, 'est': MosesEstimator(cols=['f13', 'f25', 'f34', 'f5', 'f53', 'f66', 'f70', 'f76',\n",
      "                     'f77', 'f82', 'y'],\n",
      "               fs_algo=None, random_state=96)}\n",
      "{'cv_score': 0.5394756145986903, 'test_score': 0.4986986791593467, 'est': MosesEstimator(cols=['f100', 'f11', 'f32', 'f4', 'f60', 'f70', 'f78', 'f82',\n",
      "                     'f92', 'f95', 'y'],\n",
      "               fs_algo=None, random_state=97)}\n"
     ]
    },
    {
     "data": {
      "text/plain": "{82: {'cv_score': 0.538178280394043,\n  'test_score': 0.4899602452664915,\n  'est': MosesEstimator(cols=['f11', 'f17', 'f39', 'f48', 'f49', 'f51', 'f57', 'f83',\n                       'f88', 'f94', 'y'],\n                 fs_algo=None, random_state=82)},\n 91: {'cv_score': 0.576702016470924,\n  'test_score': 0.543501611170784,\n  'est': MosesEstimator(cols=['f18', 'f38', 'f4', 'f47', 'f54', 'f69', 'f7', 'f77',\n                       'f84', 'f92', 'y'],\n                 fs_algo=None, random_state=91)},\n 13: {'cv_score': 0.5555092072234149,\n  'test_score': 0.5167557932263815,\n  'est': MosesEstimator(cols=['f18', 'f22', 'f5', 'f52', 'f60', 'f66', 'f75', 'f76',\n                       'f89', 'f90', 'y'],\n                 fs_algo=None, random_state=13)},\n 92: {'cv_score': 0.534995089230352,\n  'test_score': 0.5206619961417404,\n  'est': MosesEstimator(cols=['f12', 'f16', 'f25', 'f36', 'f39', 'f42', 'f62', 'f63',\n                       'f79', 'f93', 'y'],\n                 fs_algo=None, random_state=92)},\n 64: {'cv_score': 0.5503332761383852,\n  'test_score': 0.5234699940582294,\n  'est': MosesEstimator(cols=['f16', 'f17', 'f23', 'f26', 'f35', 'f40', 'f65', 'f69',\n                       'f71', 'f89', 'y'],\n                 fs_algo=None, random_state=64)},\n 10: {'cv_score': 0.5806335719831042,\n  'test_score': 0.5594532279314889,\n  'est': MosesEstimator(cols=['f12', 'f19', 'f23', 'f27', 'f47', 'f5', 'f52', 'f89',\n                       'f93', 'f94', 'y'],\n                 fs_algo=None, random_state=10)},\n 28: {'cv_score': 0.5475124851340198,\n  'test_score': 0.5408637873754153,\n  'est': MosesEstimator(cols=['f10', 'f36', 'f40', 'f42', 'f44', 'f53', 'f59', 'f60',\n                       'f61', 'f98', 'y'],\n                 fs_algo=None, random_state=28)},\n 55: {'cv_score': 0.5522977890487482,\n  'test_score': 0.6252971137521222,\n  'est': MosesEstimator(cols=['f15', 'f31', 'f34', 'f57', 'f71', 'f79', 'f81', 'f88',\n                       'f91', 'f96', 'y'],\n                 fs_algo=None, random_state=55)},\n 96: {'cv_score': 0.5186846551064643,\n  'test_score': 0.49523809523809526,\n  'est': MosesEstimator(cols=['f13', 'f25', 'f34', 'f5', 'f53', 'f66', 'f70', 'f76',\n                       'f77', 'f82', 'y'],\n                 fs_algo=None, random_state=96)},\n 97: {'cv_score': 0.5394756145986903,\n  'test_score': 0.4986986791593467,\n  'est': MosesEstimator(cols=['f100', 'f11', 'f32', 'f4', 'f60', 'f70', 'f78', 'f82',\n                       'f92', 'f95', 'y'],\n                 fs_algo=None, random_state=97)}}"
     },
     "execution_count": 539,
     "metadata": {},
     "output_type": "execute_result"
    }
   ],
   "source": [
    "results_fs_init = {}\n",
    "i = 0\n",
    "for seed, df in zip(seeds, data_dfs):\n",
    "    X_s, y_s = df[df.columns.difference([\"y\"])], df[\"y\"]\n",
    "    X_s_train, X_s_test, y_s_train, y_s_test = train_test_split(X_s, y_s, stratify=y_s, shuffle=True, random_state=seed)\n",
    "\n",
    "    data_train_s = pd.concat([X_s_train, y_s_train], axis=1)\n",
    "    data_train_s.to_csv(f\"data/exps5/data_train_{seed}.csv\", index=False)\n",
    "    cmd = [\"asfeature-selection\", \"-i\", f\"data/exps5/data_train_{seed}.csv\",  \"-uy\", \"-asmd\", \"-C10\", \"-o\", f\"data/exps5/data_train_r_{seed}.csv\", \"-F\", f\"data/exps5/fs_{seed}_init.log\"]\n",
    "    for f in feats[i]:\n",
    "        cmd.append(f\"-ff{f}\")\n",
    "    process = subp.Popen(args=cmd, stdout=subp.PIPE, stderr=subp.PIPE)\n",
    "    stdout, stderr = process.communicate()\n",
    "    if process.returncode != 0:\n",
    "        raise RuntimeError(f\"MOSES ran into an error with return code {process.returncode}. Here is the stderr output:\\n{stderr.decode('utf-8')}\")\n",
    "\n",
    "    data_r = pd.read_csv(f\"data/exps5/data_train_r_{seed}.csv\")\n",
    "    cols = [col for col in data_r.columns if col != \"y\"] + [\"y\"] # asfeature-selection doesn't output columns in the order its given so fix it here\n",
    "    data_r = data_r[cols]\n",
    "    X_r_train, y_r_train = data_r[data_r.columns.difference([\"y\"])].to_numpy(), data_r[\"y\"].to_numpy()\n",
    "    X_r_test = X_s_test[cols[:-1]]\n",
    "    cv_score = np.mean(cross_val_score(MosesEstimator(fs_algo=None, random_state=seed, cols=cols), X_r_train, y_r_train, n_jobs=-1))\n",
    "    moses_est_r = MosesEstimator(fs_algo=None, random_state=seed, cols=cols).fit(X_r_train, y_r_train)\n",
    "    # print(\"Scoring on test dataset\")\n",
    "    test_score = moses_est_r.score(X_r_test.to_numpy(), y_s_test.to_numpy())\n",
    "    res = {\"cv_score\": cv_score, \"test_score\": test_score, \"est\": moses_est_r}\n",
    "    print(res)\n",
    "    results_fs_init[seed] = res\n",
    "    i += 1\n",
    "\n",
    "results_fs_init"
   ],
   "metadata": {
    "collapsed": false,
    "pycharm": {
     "name": "#%%\n"
    }
   }
  },
  {
   "cell_type": "code",
   "execution_count": 569,
   "outputs": [
    {
     "data": {
      "text/plain": "   seed  cv_score  test_score\n0    82  0.538178    0.489960\n1    91  0.576702    0.543502\n2    13  0.555509    0.516756\n3    92  0.534995    0.520662\n4    64  0.550333    0.523470\n5    10  0.580634    0.559453\n6    28  0.547512    0.540864\n7    55  0.552298    0.625297\n8    96  0.518685    0.495238\n9    97  0.539476    0.498699",
      "text/html": "<div>\n<style scoped>\n    .dataframe tbody tr th:only-of-type {\n        vertical-align: middle;\n    }\n\n    .dataframe tbody tr th {\n        vertical-align: top;\n    }\n\n    .dataframe thead th {\n        text-align: right;\n    }\n</style>\n<table border=\"1\" class=\"dataframe\">\n  <thead>\n    <tr style=\"text-align: right;\">\n      <th></th>\n      <th>seed</th>\n      <th>cv_score</th>\n      <th>test_score</th>\n    </tr>\n  </thead>\n  <tbody>\n    <tr>\n      <th>0</th>\n      <td>82</td>\n      <td>0.538178</td>\n      <td>0.489960</td>\n    </tr>\n    <tr>\n      <th>1</th>\n      <td>91</td>\n      <td>0.576702</td>\n      <td>0.543502</td>\n    </tr>\n    <tr>\n      <th>2</th>\n      <td>13</td>\n      <td>0.555509</td>\n      <td>0.516756</td>\n    </tr>\n    <tr>\n      <th>3</th>\n      <td>92</td>\n      <td>0.534995</td>\n      <td>0.520662</td>\n    </tr>\n    <tr>\n      <th>4</th>\n      <td>64</td>\n      <td>0.550333</td>\n      <td>0.523470</td>\n    </tr>\n    <tr>\n      <th>5</th>\n      <td>10</td>\n      <td>0.580634</td>\n      <td>0.559453</td>\n    </tr>\n    <tr>\n      <th>6</th>\n      <td>28</td>\n      <td>0.547512</td>\n      <td>0.540864</td>\n    </tr>\n    <tr>\n      <th>7</th>\n      <td>55</td>\n      <td>0.552298</td>\n      <td>0.625297</td>\n    </tr>\n    <tr>\n      <th>8</th>\n      <td>96</td>\n      <td>0.518685</td>\n      <td>0.495238</td>\n    </tr>\n    <tr>\n      <th>9</th>\n      <td>97</td>\n      <td>0.539476</td>\n      <td>0.498699</td>\n    </tr>\n  </tbody>\n</table>\n</div>"
     },
     "execution_count": 569,
     "metadata": {},
     "output_type": "execute_result"
    }
   ],
   "source": [
    "results_fs_init_df = {\"seed\": [] ,\"cv_score\": [], \"test_score\": []}\n",
    "\n",
    "for s, v in results_fs_init.items():\n",
    "    results_fs_init_df[\"seed\"].append(s)\n",
    "    results_fs_init_df[\"cv_score\"].append(v[\"cv_score\"])\n",
    "    results_fs_init_df[\"test_score\"].append(v[\"test_score\"])\n",
    "\n",
    "results_fs_init_df = pd.DataFrame(results_fs_init_df)\n",
    "results_fs_init_df"
   ],
   "metadata": {
    "collapsed": false,
    "pycharm": {
     "name": "#%%\n"
    }
   }
  },
  {
   "cell_type": "code",
   "execution_count": 556,
   "outputs": [
    {
     "data": {
      "text/plain": "<matplotlib.legend.Legend at 0x7fbf154cdbe0>"
     },
     "execution_count": 556,
     "metadata": {},
     "output_type": "execute_result"
    },
    {
     "data": {
      "text/plain": "<Figure size 1296x864 with 2 Axes>",
      "image/png": "[encoded data removed]"
     },
     "metadata": {
      "needs_background": "light"
     },
     "output_type": "display_data"
    }
   ],
   "source": [
    "fig, ax = plt.subplots(1, 2, figsize=(18, 12))\n",
    "\n",
    "fig.suptitle(\"Feature selection outside of MOSES\\nInitial FS vs No Init FS with complexity ratio = 10\", fontsize=16)\n",
    "\n",
    "index = np.arange(1, 11)\n",
    "bar_width = 0.35\n",
    "ax[0].bar(index, results_fs_init_df[\"cv_score\"]*100, bar_width, label=\"Init FS\")\n",
    "ax[0].bar(index + bar_width, results_fs_df[\"cv_score\"]*100, bar_width, label=\"No Init FS\")\n",
    "ax[0].axhline(y=50, color=\"red\", label=\"random\", linestyle=\"--\")\n",
    "ax[0].set_xlabel(\"Runs\", fontsize=14)\n",
    "ax[0].set_ylabel(\"train auc\", fontsize=14)\n",
    "\n",
    "ax[1].bar(index, results_fs_init_df[\"test_score\"]*100, bar_width, label=\"Init FS\")\n",
    "ax[1].bar(index + bar_width, results_fs_df[\"test_score\"]*100, bar_width, label=\"No Init FS\")\n",
    "ax[1].set_xlabel(\"Runs\", fontsize=14)\n",
    "ax[1].set_ylabel(\"test auc\", fontsize=14)\n",
    "ax[1].axhline(y=50, color=\"red\", label=\"random\", linestyle=\"--\")\n",
    "\n",
    "ax[0].legend()\n",
    "ax[1].legend()"
   ],
   "metadata": {
    "collapsed": false,
    "pycharm": {
     "name": "#%%\n"
    }
   }
  },
  {
   "cell_type": "code",
   "execution_count": 554,
   "outputs": [
    {
     "data": {
      "text/plain": "<matplotlib.legend.Legend at 0x7fbf15717ee0>"
     },
     "execution_count": 554,
     "metadata": {},
     "output_type": "execute_result"
    },
    {
     "data": {
      "text/plain": "<Figure size 1296x864 with 2 Axes>",
      "image/png": "[encoded data removed]"
     },
     "metadata": {
      "needs_background": "light"
     },
     "output_type": "display_data"
    }
   ],
   "source": [
    "fig, ax = plt.subplots(1, 2, figsize=(18, 12))\n",
    "\n",
    "fig.suptitle(\"FS in vs FS out with complexity ratio = 10\", fontsize=16)\n",
    "\n",
    "index = np.arange(1, 11)\n",
    "bar_width = 0.35\n",
    "ax[0].bar(index, res_3_df[\"cv_score\"]*100, bar_width, label=\"FS in\")\n",
    "ax[0].bar(index + bar_width, results_fs_df[\"cv_score\"]*100, bar_width, label=\"FS out\")\n",
    "ax[0].axhline(y=50, color=\"red\", label=\"random\", linestyle=\"--\")\n",
    "ax[0].set_xlabel(\"Runs\", fontsize=14)\n",
    "ax[0].set_ylabel(\"train auc\", fontsize=14)\n",
    "\n",
    "ax[1].bar(index, res_3_df[\"test_score\"]*100, bar_width, label=\"FS in\")\n",
    "ax[1].bar(index + bar_width, results_fs_df[\"test_score\"]*100, bar_width, label=\"FS out\")\n",
    "ax[1].set_xlabel(\"Runs\", fontsize=14)\n",
    "ax[1].set_ylabel(\"test auc\", fontsize=14)\n",
    "ax[1].axhline(y=50, color=\"red\", label=\"random\", linestyle=\"--\")\n",
    "\n",
    "ax[0].legend()\n",
    "ax[1].legend()"
   ],
   "metadata": {
    "collapsed": false,
    "pycharm": {
     "name": "#%%\n"
    }
   }
  },
  {
   "cell_type": "code",
   "execution_count": 555,
   "outputs": [
    {
     "data": {
      "text/plain": "<matplotlib.legend.Legend at 0x7fbf155bd1f0>"
     },
     "execution_count": 555,
     "metadata": {},
     "output_type": "execute_result"
    },
    {
     "data": {
      "text/plain": "<Figure size 1296x864 with 2 Axes>",
      "image/png": "[encoded data removed]"
     },
     "metadata": {
      "needs_background": "light"
     },
     "output_type": "display_data"
    }
   ],
   "source": [
    "fig, ax = plt.subplots(1, 2, figsize=(18, 12))\n",
    "\n",
    "fig.suptitle(\"FS in vs Init FS out with complexity ratio = 10\", fontsize=16)\n",
    "\n",
    "index = np.arange(1, 11)\n",
    "bar_width = 0.35\n",
    "ax[0].bar(index, res_3_df[\"cv_score\"]*100, bar_width, label=\"FS in\")\n",
    "ax[0].bar(index + bar_width, results_fs_init_df[\"cv_score\"]*100, bar_width, label=\"Init FS out\")\n",
    "ax[0].axhline(y=50, color=\"red\", label=\"random\", linestyle=\"--\")\n",
    "ax[0].set_xlabel(\"Runs\", fontsize=14)\n",
    "ax[0].set_ylabel(\"train auc\", fontsize=14)\n",
    "\n",
    "ax[1].bar(index, res_3_df[\"test_score\"]*100, bar_width, label=\"FS in\")\n",
    "ax[1].bar(index + bar_width, results_fs_init_df[\"test_score\"]*100, bar_width, label=\"Init FS out\")\n",
    "ax[1].set_xlabel(\"Runs\", fontsize=14)\n",
    "ax[1].set_ylabel(\"test auc\", fontsize=14)\n",
    "ax[1].axhline(y=50, color=\"red\", label=\"random\", linestyle=\"--\")\n",
    "\n",
    "ax[0].legend()\n",
    "ax[1].legend()"
   ],
   "metadata": {
    "collapsed": false,
    "pycharm": {
     "name": "#%%\n"
    }
   }
  },
  {
   "cell_type": "code",
   "execution_count": 558,
   "outputs": [
    {
     "name": "stdout",
     "output_type": "stream",
     "text": [
      "{'cv_score': 0.5273565616408451, 'test_score': 0.47486692271410286, 'est': MosesEstimator(cols=['f30', 'f33', 'f34', 'f36', 'f39', 'f51', 'f68', 'f85',\n",
      "                     'f88', 'f94', 'y'],\n",
      "               fs_algo=None, random_state=82)}\n",
      "{'cv_score': 0.5398173966180201, 'test_score': 0.5077873254564984, 'est': MosesEstimator(cols=['f18', 'f40', 'f47', 'f54', 'f56', 'f63', 'f7', 'f71',\n",
      "                     'f84', 'f95', 'y'],\n",
      "               fs_algo=None, random_state=91)}\n",
      "{'cv_score': 0.5514606181352327, 'test_score': 0.5433155080213904, 'est': MosesEstimator(cols=['f20', 'f31', 'f32', 'f34', 'f48', 'f5', 'f63', 'f66',\n",
      "                     'f68', 'f74', 'y'],\n",
      "               fs_algo=None, random_state=13)}\n",
      "{'cv_score': 0.5240760037588978, 'test_score': 0.5005076657528683, 'est': MosesEstimator(cols=['f16', 'f23', 'f25', 'f3', 'f36', 'f39', 'f42', 'f57',\n",
      "                     'f63', 'f93', 'y'],\n",
      "               fs_algo=None, random_state=92)}\n",
      "{'cv_score': 0.5120429255733784, 'test_score': 0.5182072829131653, 'est': MosesEstimator(cols=['f16', 'f19', 'f23', 'f26', 'f3', 'f30', 'f35', 'f40',\n",
      "                     'f65', 'f71', 'y'],\n",
      "               fs_algo=None, random_state=64)}\n",
      "{'cv_score': 0.569539448209215, 'test_score': 0.5691699604743083, 'est': MosesEstimator(cols=['f12', 'f19', 'f23', 'f47', 'f5', 'f50', 'f55', 'f89',\n",
      "                     'f93', 'f94', 'y'],\n",
      "               fs_algo=None, random_state=10)}\n",
      "{'cv_score': 0.5598117636578082, 'test_score': 0.553156146179402, 'est': MosesEstimator(cols=['f14', 'f42', 'f44', 'f50', 'f53', 'f56', 'f59', 'f6',\n",
      "                     'f60', 'f61', 'y'],\n",
      "               fs_algo=None, random_state=28)}\n",
      "{'cv_score': 0.5839212388031145, 'test_score': 0.5857385398981325, 'est': MosesEstimator(cols=['f12', 'f31', 'f33', 'f52', 'f57', 'f65', 'f71', 'f73',\n",
      "                     'f79', 'f83', 'y'],\n",
      "               fs_algo=None, random_state=55)}\n",
      "{'cv_score': 0.533091958707505, 'test_score': 0.49821428571428567, 'est': MosesEstimator(cols=['f27', 'f28', 'f31', 'f38', 'f42', 'f49', 'f57', 'f70',\n",
      "                     'f79', 'f85', 'y'],\n",
      "               fs_algo=None, random_state=96)}\n",
      "{'cv_score': 0.5520880596046549, 'test_score': 0.5397878847029735, 'est': MosesEstimator(cols=['f11', 'f31', 'f32', 'f5', 'f60', 'f8', 'f84', 'f89',\n",
      "                     'f95', 'f96', 'y'],\n",
      "               fs_algo=None, random_state=97)}\n"
     ]
    },
    {
     "data": {
      "text/plain": "{82: {'cv_score': 0.5273565616408451,\n  'test_score': 0.47486692271410286,\n  'est': MosesEstimator(cols=['f30', 'f33', 'f34', 'f36', 'f39', 'f51', 'f68', 'f85',\n                       'f88', 'f94', 'y'],\n                 fs_algo=None, random_state=82)},\n 91: {'cv_score': 0.5398173966180201,\n  'test_score': 0.5077873254564984,\n  'est': MosesEstimator(cols=['f18', 'f40', 'f47', 'f54', 'f56', 'f63', 'f7', 'f71',\n                       'f84', 'f95', 'y'],\n                 fs_algo=None, random_state=91)},\n 13: {'cv_score': 0.5514606181352327,\n  'test_score': 0.5433155080213904,\n  'est': MosesEstimator(cols=['f20', 'f31', 'f32', 'f34', 'f48', 'f5', 'f63', 'f66',\n                       'f68', 'f74', 'y'],\n                 fs_algo=None, random_state=13)},\n 92: {'cv_score': 0.5240760037588978,\n  'test_score': 0.5005076657528683,\n  'est': MosesEstimator(cols=['f16', 'f23', 'f25', 'f3', 'f36', 'f39', 'f42', 'f57',\n                       'f63', 'f93', 'y'],\n                 fs_algo=None, random_state=92)},\n 64: {'cv_score': 0.5120429255733784,\n  'test_score': 0.5182072829131653,\n  'est': MosesEstimator(cols=['f16', 'f19', 'f23', 'f26', 'f3', 'f30', 'f35', 'f40',\n                       'f65', 'f71', 'y'],\n                 fs_algo=None, random_state=64)},\n 10: {'cv_score': 0.569539448209215,\n  'test_score': 0.5691699604743083,\n  'est': MosesEstimator(cols=['f12', 'f19', 'f23', 'f47', 'f5', 'f50', 'f55', 'f89',\n                       'f93', 'f94', 'y'],\n                 fs_algo=None, random_state=10)},\n 28: {'cv_score': 0.5598117636578082,\n  'test_score': 0.553156146179402,\n  'est': MosesEstimator(cols=['f14', 'f42', 'f44', 'f50', 'f53', 'f56', 'f59', 'f6',\n                       'f60', 'f61', 'y'],\n                 fs_algo=None, random_state=28)},\n 55: {'cv_score': 0.5839212388031145,\n  'test_score': 0.5857385398981325,\n  'est': MosesEstimator(cols=['f12', 'f31', 'f33', 'f52', 'f57', 'f65', 'f71', 'f73',\n                       'f79', 'f83', 'y'],\n                 fs_algo=None, random_state=55)},\n 96: {'cv_score': 0.533091958707505,\n  'test_score': 0.49821428571428567,\n  'est': MosesEstimator(cols=['f27', 'f28', 'f31', 'f38', 'f42', 'f49', 'f57', 'f70',\n                       'f79', 'f85', 'y'],\n                 fs_algo=None, random_state=96)},\n 97: {'cv_score': 0.5520880596046549,\n  'test_score': 0.5397878847029735,\n  'est': MosesEstimator(cols=['f11', 'f31', 'f32', 'f5', 'f60', 'f8', 'f84', 'f89',\n                       'f95', 'f96', 'y'],\n                 fs_algo=None, random_state=97)}}"
     },
     "execution_count": 558,
     "metadata": {},
     "output_type": "execute_result"
    }
   ],
   "source": [
    "results_bp_fs = {}\n",
    "i = 0\n",
    "for seed, df in zip(seeds, data_dfs):\n",
    "    X_s, y_s = df[df.columns.difference([\"y\"])], df[\"y\"]\n",
    "    X_s_train, X_s_test, y_s_train, y_s_test = train_test_split(X_s, y_s, stratify=y_s, random_state=seed)\n",
    "    data_train_s = pd.concat([X_s_train, y_s_train], axis=1)\n",
    "    data_train_s.to_csv(f\"data/exps5/data_train_{seed}.csv\", index=False)\n",
    "    net_df = net_dfs[i]\n",
    "    assoc_mat = net_df.to_numpy()\n",
    "    assoc_mat = np.abs(assoc_mat)\n",
    "\n",
    "    net_file = tmp.NamedTemporaryFile(suffix=\".npy\").name\n",
    "    np.save(net_file, assoc_mat)\n",
    "\n",
    "    cmd = [\"asfeature-selection\", \"-i\", f\"data/exps5/data_train_{seed}.csv\",  \"-uy\", \"-asmd\", \"-C10\", \"-o\", f\"data/exps5/data_train_r_{seed}.csv\", \"-F\", f\"data/exps5/fs_{seed}_init.log\",\n",
    "           \"--fs-alpha\", \"0.001\", \"--fs-assoc-mat\", net_file, \"-H\", \"mi\", \"-H\", \"bp\"]\n",
    "    process = subp.Popen(args=cmd, stdout=subp.PIPE, stderr=subp.PIPE)\n",
    "    stdout, stderr = process.communicate()\n",
    "    if process.returncode != 0:\n",
    "        raise RuntimeError(f\"MOSES ran into an error with return code {process.returncode}. Here is the stderr output:\\n{stderr.decode('utf-8')}\")\n",
    "\n",
    "    data_r = pd.read_csv(f\"data/exps5/data_train_r_{seed}.csv\")\n",
    "    cols = [col for col in data_r.columns if col != \"y\"] + [\"y\"] # asfeature-selection doesn't output columns in the order its given so fix it here\n",
    "    data_r = data_r[cols]\n",
    "    X_r_train, y_r_train = data_r[data_r.columns.difference([\"y\"])].to_numpy(), data_r[\"y\"].to_numpy()\n",
    "    X_r_test = X_s_test[cols[:-1]]\n",
    "    cv_score = np.mean(cross_val_score(MosesEstimator(fs_algo=None, random_state=seed, cols=cols), X_r_train, y_r_train, n_jobs=-1))\n",
    "    moses_est_r = MosesEstimator(fs_algo=None, random_state=seed, cols=cols).fit(X_r_train, y_r_train)\n",
    "    # print(\"Scoring on test dataset\")\n",
    "    test_score = moses_est_r.score(X_r_test.to_numpy(), y_s_test.to_numpy())\n",
    "    res = {\"cv_score\": cv_score, \"test_score\": test_score, \"est\": moses_est_r}\n",
    "    print(res)\n",
    "    results_bp_fs[seed] = res\n",
    "    i += 1\n",
    "\n",
    "results_bp_fs"
   ],
   "metadata": {
    "collapsed": false,
    "pycharm": {
     "name": "#%%\n"
    }
   }
  },
  {
   "cell_type": "code",
   "execution_count": 567,
   "outputs": [
    {
     "data": {
      "text/plain": "   seed  cv_score  test_score\n0    82  0.527357    0.474867\n1    91  0.539817    0.507787\n2    13  0.551461    0.543316\n3    92  0.524076    0.500508\n4    64  0.512043    0.518207\n5    10  0.569539    0.569170\n6    28  0.559812    0.553156\n7    55  0.583921    0.585739\n8    96  0.533092    0.498214\n9    97  0.552088    0.539788",
      "text/html": "<div>\n<style scoped>\n    .dataframe tbody tr th:only-of-type {\n        vertical-align: middle;\n    }\n\n    .dataframe tbody tr th {\n        vertical-align: top;\n    }\n\n    .dataframe thead th {\n        text-align: right;\n    }\n</style>\n<table border=\"1\" class=\"dataframe\">\n  <thead>\n    <tr style=\"text-align: right;\">\n      <th></th>\n      <th>seed</th>\n      <th>cv_score</th>\n      <th>test_score</th>\n    </tr>\n  </thead>\n  <tbody>\n    <tr>\n      <th>0</th>\n      <td>82</td>\n      <td>0.527357</td>\n      <td>0.474867</td>\n    </tr>\n    <tr>\n      <th>1</th>\n      <td>91</td>\n      <td>0.539817</td>\n      <td>0.507787</td>\n    </tr>\n    <tr>\n      <th>2</th>\n      <td>13</td>\n      <td>0.551461</td>\n      <td>0.543316</td>\n    </tr>\n    <tr>\n      <th>3</th>\n      <td>92</td>\n      <td>0.524076</td>\n      <td>0.500508</td>\n    </tr>\n    <tr>\n      <th>4</th>\n      <td>64</td>\n      <td>0.512043</td>\n      <td>0.518207</td>\n    </tr>\n    <tr>\n      <th>5</th>\n      <td>10</td>\n      <td>0.569539</td>\n      <td>0.569170</td>\n    </tr>\n    <tr>\n      <th>6</th>\n      <td>28</td>\n      <td>0.559812</td>\n      <td>0.553156</td>\n    </tr>\n    <tr>\n      <th>7</th>\n      <td>55</td>\n      <td>0.583921</td>\n      <td>0.585739</td>\n    </tr>\n    <tr>\n      <th>8</th>\n      <td>96</td>\n      <td>0.533092</td>\n      <td>0.498214</td>\n    </tr>\n    <tr>\n      <th>9</th>\n      <td>97</td>\n      <td>0.552088</td>\n      <td>0.539788</td>\n    </tr>\n  </tbody>\n</table>\n</div>"
     },
     "execution_count": 567,
     "metadata": {},
     "output_type": "execute_result"
    }
   ],
   "source": [
    "results_bp_df = {\"seed\": [] ,\"cv_score\": [], \"test_score\": []}\n",
    "\n",
    "for s, v in results_bp_fs.items():\n",
    "    results_bp_df[\"seed\"].append(s)\n",
    "    results_bp_df[\"cv_score\"].append(v[\"cv_score\"])\n",
    "    results_bp_df[\"test_score\"].append(v[\"test_score\"])\n",
    "\n",
    "results_bp_df = pd.DataFrame(results_bp_df)\n",
    "results_bp_df"
   ],
   "metadata": {
    "collapsed": false,
    "pycharm": {
     "name": "#%%\n"
    }
   }
  },
  {
   "cell_type": "code",
   "execution_count": 572,
   "outputs": [
    {
     "name": "stdout",
     "output_type": "stream",
     "text": [
      "{'cv_score': 0.641690643076877, 'test_score': 0.5910652920962199, 'est': LogisticRegression(C=1000000000.0, random_state=82)}\n",
      "{'cv_score': 0.6196976711298745, 'test_score': 0.6322838345864662, 'est': LogisticRegression(C=1000000000.0, random_state=91)}\n",
      "{'cv_score': 0.6267915596697109, 'test_score': 0.6065953654188949, 'est': LogisticRegression(C=1000000000.0, random_state=13)}\n",
      "{'cv_score': 0.6361489503182293, 'test_score': 0.546603716113311, 'est': LogisticRegression(C=1000000000.0, random_state=92)}\n",
      "{'cv_score': 0.706062030075188, 'test_score': 0.6673457261692556, 'est': LogisticRegression(C=1000000000.0, random_state=64)}\n",
      "{'cv_score': 0.694481561981562, 'test_score': 0.6742012516469038, 'est': LogisticRegression(C=1000000000.0, random_state=10)}\n",
      "{'cv_score': 0.7012904279183348, 'test_score': 0.6544186046511627, 'est': LogisticRegression(C=1000000000.0, random_state=28)}\n",
      "{'cv_score': 0.62259248134846, 'test_score': 0.6629541595925297, 'est': LogisticRegression(C=1000000000.0, random_state=55)}\n",
      "{'cv_score': 0.617033417989418, 'test_score': 0.5789285714285715, 'est': LogisticRegression(C=1000000000.0, random_state=96)}\n",
      "{'cv_score': 0.5309268639856876, 'test_score': 0.5067018023293643, 'est': LogisticRegression(C=1000000000.0, random_state=97)}\n"
     ]
    },
    {
     "data": {
      "text/plain": "{82: {'cv_score': 0.641690643076877,\n  'test_score': 0.5910652920962199,\n  'est': LogisticRegression(C=1000000000.0, random_state=82)},\n 91: {'cv_score': 0.6196976711298745,\n  'test_score': 0.6322838345864662,\n  'est': LogisticRegression(C=1000000000.0, random_state=91)},\n 13: {'cv_score': 0.6267915596697109,\n  'test_score': 0.6065953654188949,\n  'est': LogisticRegression(C=1000000000.0, random_state=13)},\n 92: {'cv_score': 0.6361489503182293,\n  'test_score': 0.546603716113311,\n  'est': LogisticRegression(C=1000000000.0, random_state=92)},\n 64: {'cv_score': 0.706062030075188,\n  'test_score': 0.6673457261692556,\n  'est': LogisticRegression(C=1000000000.0, random_state=64)},\n 10: {'cv_score': 0.694481561981562,\n  'test_score': 0.6742012516469038,\n  'est': LogisticRegression(C=1000000000.0, random_state=10)},\n 28: {'cv_score': 0.7012904279183348,\n  'test_score': 0.6544186046511627,\n  'est': LogisticRegression(C=1000000000.0, random_state=28)},\n 55: {'cv_score': 0.62259248134846,\n  'test_score': 0.6629541595925297,\n  'est': LogisticRegression(C=1000000000.0, random_state=55)},\n 96: {'cv_score': 0.617033417989418,\n  'test_score': 0.5789285714285715,\n  'est': LogisticRegression(C=1000000000.0, random_state=96)},\n 97: {'cv_score': 0.5309268639856876,\n  'test_score': 0.5067018023293643,\n  'est': LogisticRegression(C=1000000000.0, random_state=97)}}"
     },
     "execution_count": 572,
     "metadata": {},
     "output_type": "execute_result"
    }
   ],
   "source": [
    "results_log_init = {}\n",
    "i = 0\n",
    "for seed, df in zip(seeds, data_dfs):\n",
    "    X_s, y_s = df[df.columns.difference([\"y\"])], df[\"y\"]\n",
    "    X_s_train, X_s_test, y_s_train, y_s_test = train_test_split(X_s, y_s, stratify=y_s, random_state=seed)\n",
    "    data_train_s = pd.concat([X_s_train, y_s_train], axis=1)\n",
    "    data_train_s.to_csv(f\"data/exps5/data_train_{seed}.csv\", index=False)\n",
    "    cmd = [\"asfeature-selection\", \"-i\", f\"data/exps5/data_train_{seed}.csv\",  \"-uy\", \"-asmd\", \"-C10\", \"-o\", f\"data/exps5/data_train_r_{seed}.csv\", \"-F\", f\"data/exps5/fs_{seed}_init.log\"]\n",
    "    for f in feats[i]:\n",
    "        cmd.append(f\"-ff{f}\")\n",
    "    process = subp.Popen(args=cmd, stdout=subp.PIPE, stderr=subp.PIPE)\n",
    "    stdout, stderr = process.communicate()\n",
    "    if process.returncode != 0:\n",
    "        raise RuntimeError(f\"MOSES ran into an error with return code {process.returncode}. Here is the stderr output:\\n{stderr.decode('utf-8')}\")\n",
    "\n",
    "    data_r = pd.read_csv(f\"data/exps5/data_train_r_{seed}.csv\")\n",
    "    cols = [col for col in data_r.columns if col != \"y\"] + [\"y\"] # asfeature-selection doesn't output columns in the order its given so fix it here\n",
    "    data_r = data_r[cols]\n",
    "    X_r_train, y_r_train = data_r[data_r.columns.difference([\"y\"])].to_numpy(), data_r[\"y\"].to_numpy()\n",
    "    X_r_test = X_s_test[cols[:-1]]\n",
    "    cv_score = np.mean(cross_val_score(LogisticRegression(random_state=seed, C=1e9), X_r_train, y_r_train, scoring=\"roc_auc\", n_jobs=-1))\n",
    "    moses_est_r = LogisticRegression(random_state=seed, C=1e9).fit(X_r_train, y_r_train)\n",
    "    # print(\"Scoring on test dataset\")\n",
    "    test_score = roc_auc_score(y_s_test.to_numpy() ,moses_est_r.predict_proba(X_r_test.to_numpy())[:,1])\n",
    "    res = {\"cv_score\": cv_score, \"test_score\": test_score, \"est\": moses_est_r}\n",
    "    print(res)\n",
    "    results_log_init[seed] = res\n",
    "    i += 1\n",
    "\n",
    "results_log_init"
   ],
   "metadata": {
    "collapsed": false,
    "pycharm": {
     "name": "#%%\n"
    }
   }
  },
  {
   "cell_type": "markdown",
   "source": [
    "### MOSES Maximizes AUC instead of accuracy"
   ],
   "metadata": {
    "collapsed": false,
    "pycharm": {
     "name": "#%% md\n"
    }
   }
  },
  {
   "cell_type": "markdown",
   "source": [
    "### No background penalty - complexity ratio = 10 for all runs"
   ],
   "metadata": {
    "collapsed": false,
    "pycharm": {
     "name": "#%% md\n"
    }
   }
  },
  {
   "cell_type": "code",
   "execution_count": null,
   "outputs": [],
   "source": [
    "roc_auc_score"
   ],
   "metadata": {
    "collapsed": false,
    "pycharm": {
     "name": "#%%\n"
    }
   }
  },
  {
   "cell_type": "code",
   "execution_count": 590,
   "outputs": [
    {
     "data": {
      "text/plain": "   seed  alpha  complexity_ratio  cv_score  test_score      0/1  base_auc\n0    82    0.0                10  0.533748    0.520748  614/386  0.597319\n1    91    0.0                10  0.550974    0.533895  606/394  0.609971\n2    13    0.0                10  0.529686    0.610071  659/341  0.604940\n3    92    0.0                10  0.507516    0.435260  804/196  0.604078\n4    64    0.0                10  0.536285    0.459074  747/253  0.688819\n5    10    0.0                10  0.597861    0.601335  737/263  0.688819\n6    28    0.0                10  0.542666    0.446013  861/139  0.698209\n7    55    0.0                10  0.545587    0.505942  619/381  0.636555\n8    96    0.0                10  0.562400    0.421131  838/162  0.624422\n9    97    0.0                10  0.527619    0.472841  563/437  0.504932",
      "text/html": "<div>\n<style scoped>\n    .dataframe tbody tr th:only-of-type {\n        vertical-align: middle;\n    }\n\n    .dataframe tbody tr th {\n        vertical-align: top;\n    }\n\n    .dataframe thead th {\n        text-align: right;\n    }\n</style>\n<table border=\"1\" class=\"dataframe\">\n  <thead>\n    <tr style=\"text-align: right;\">\n      <th></th>\n      <th>seed</th>\n      <th>alpha</th>\n      <th>complexity_ratio</th>\n      <th>cv_score</th>\n      <th>test_score</th>\n      <th>0/1</th>\n      <th>base_auc</th>\n    </tr>\n  </thead>\n  <tbody>\n    <tr>\n      <th>0</th>\n      <td>82</td>\n      <td>0.0</td>\n      <td>10</td>\n      <td>0.533748</td>\n      <td>0.520748</td>\n      <td>614/386</td>\n      <td>0.597319</td>\n    </tr>\n    <tr>\n      <th>1</th>\n      <td>91</td>\n      <td>0.0</td>\n      <td>10</td>\n      <td>0.550974</td>\n      <td>0.533895</td>\n      <td>606/394</td>\n      <td>0.609971</td>\n    </tr>\n    <tr>\n      <th>2</th>\n      <td>13</td>\n      <td>0.0</td>\n      <td>10</td>\n      <td>0.529686</td>\n      <td>0.610071</td>\n      <td>659/341</td>\n      <td>0.604940</td>\n    </tr>\n    <tr>\n      <th>3</th>\n      <td>92</td>\n      <td>0.0</td>\n      <td>10</td>\n      <td>0.507516</td>\n      <td>0.435260</td>\n      <td>804/196</td>\n      <td>0.604078</td>\n    </tr>\n    <tr>\n      <th>4</th>\n      <td>64</td>\n      <td>0.0</td>\n      <td>10</td>\n      <td>0.536285</td>\n      <td>0.459074</td>\n      <td>747/253</td>\n      <td>0.688819</td>\n    </tr>\n    <tr>\n      <th>5</th>\n      <td>10</td>\n      <td>0.0</td>\n      <td>10</td>\n      <td>0.597861</td>\n      <td>0.601335</td>\n      <td>737/263</td>\n      <td>0.688819</td>\n    </tr>\n    <tr>\n      <th>6</th>\n      <td>28</td>\n      <td>0.0</td>\n      <td>10</td>\n      <td>0.542666</td>\n      <td>0.446013</td>\n      <td>861/139</td>\n      <td>0.698209</td>\n    </tr>\n    <tr>\n      <th>7</th>\n      <td>55</td>\n      <td>0.0</td>\n      <td>10</td>\n      <td>0.545587</td>\n      <td>0.505942</td>\n      <td>619/381</td>\n      <td>0.636555</td>\n    </tr>\n    <tr>\n      <th>8</th>\n      <td>96</td>\n      <td>0.0</td>\n      <td>10</td>\n      <td>0.562400</td>\n      <td>0.421131</td>\n      <td>838/162</td>\n      <td>0.624422</td>\n    </tr>\n    <tr>\n      <th>9</th>\n      <td>97</td>\n      <td>0.0</td>\n      <td>10</td>\n      <td>0.527619</td>\n      <td>0.472841</td>\n      <td>563/437</td>\n      <td>0.504932</td>\n    </tr>\n  </tbody>\n</table>\n</div>"
     },
     "execution_count": 590,
     "metadata": {},
     "output_type": "execute_result"
    }
   ],
   "source": [
    "from notebooks.manifold_reg.MosesEstimator import *\n",
    "res_5 = run_moses_exps(seeds, data_dfs, net_dfs)\n",
    "res_5_df = result_df(res_5, target_count, base_auc)\n",
    "res_5_df"
   ],
   "metadata": {
    "collapsed": false,
    "pycharm": {
     "name": "#%%\n"
    }
   }
  },
  {
   "cell_type": "markdown",
   "source": [
    "### Background penalty - complexity ratio = 10 for all runs"
   ],
   "metadata": {
    "collapsed": false,
    "pycharm": {
     "name": "#%% md\n"
    }
   }
  },
  {
   "cell_type": "code",
   "execution_count": 591,
   "outputs": [
    {
     "data": {
      "text/plain": "   seed        alpha  complexity_ratio  cv_score  test_score      0/1  \\\n0    82     2.154435                10  0.542848    0.592810  614/386   \n1    91     0.000000                10  0.547799    0.533895  606/394   \n2    13    46.415888                10  0.548028    0.473485  659/341   \n3    92    10.000000                10  0.545764    0.544912  804/196   \n4    64    10.000000                10  0.603477    0.590472  747/253   \n5    10     0.464159                10  0.612591    0.623347  737/263   \n6    28    10.000000                10  0.612838    0.463870  861/139   \n7    55     2.154435                10  0.555340    0.504457  619/381   \n8    96    10.000000                10  0.638806    0.561756  838/162   \n9    97  1000.000000                10  0.525397    0.500000  563/437   \n\n   base_auc  \n0  0.597319  \n1  0.609971  \n2  0.604940  \n3  0.604078  \n4  0.688819  \n5  0.688819  \n6  0.698209  \n7  0.636555  \n8  0.624422  \n9  0.504932  ",
      "text/html": "<div>\n<style scoped>\n    .dataframe tbody tr th:only-of-type {\n        vertical-align: middle;\n    }\n\n    .dataframe tbody tr th {\n        vertical-align: top;\n    }\n\n    .dataframe thead th {\n        text-align: right;\n    }\n</style>\n<table border=\"1\" class=\"dataframe\">\n  <thead>\n    <tr style=\"text-align: right;\">\n      <th></th>\n      <th>seed</th>\n      <th>alpha</th>\n      <th>complexity_ratio</th>\n      <th>cv_score</th>\n      <th>test_score</th>\n      <th>0/1</th>\n      <th>base_auc</th>\n    </tr>\n  </thead>\n  <tbody>\n    <tr>\n      <th>0</th>\n      <td>82</td>\n      <td>2.154435</td>\n      <td>10</td>\n      <td>0.542848</td>\n      <td>0.592810</td>\n      <td>614/386</td>\n      <td>0.597319</td>\n    </tr>\n    <tr>\n      <th>1</th>\n      <td>91</td>\n      <td>0.000000</td>\n      <td>10</td>\n      <td>0.547799</td>\n      <td>0.533895</td>\n      <td>606/394</td>\n      <td>0.609971</td>\n    </tr>\n    <tr>\n      <th>2</th>\n      <td>13</td>\n      <td>46.415888</td>\n      <td>10</td>\n      <td>0.548028</td>\n      <td>0.473485</td>\n      <td>659/341</td>\n      <td>0.604940</td>\n    </tr>\n    <tr>\n      <th>3</th>\n      <td>92</td>\n      <td>10.000000</td>\n      <td>10</td>\n      <td>0.545764</td>\n      <td>0.544912</td>\n      <td>804/196</td>\n      <td>0.604078</td>\n    </tr>\n    <tr>\n      <th>4</th>\n      <td>64</td>\n      <td>10.000000</td>\n      <td>10</td>\n      <td>0.603477</td>\n      <td>0.590472</td>\n      <td>747/253</td>\n      <td>0.688819</td>\n    </tr>\n    <tr>\n      <th>5</th>\n      <td>10</td>\n      <td>0.464159</td>\n      <td>10</td>\n      <td>0.612591</td>\n      <td>0.623347</td>\n      <td>737/263</td>\n      <td>0.688819</td>\n    </tr>\n    <tr>\n      <th>6</th>\n      <td>28</td>\n      <td>10.000000</td>\n      <td>10</td>\n      <td>0.612838</td>\n      <td>0.463870</td>\n      <td>861/139</td>\n      <td>0.698209</td>\n    </tr>\n    <tr>\n      <th>7</th>\n      <td>55</td>\n      <td>2.154435</td>\n      <td>10</td>\n      <td>0.555340</td>\n      <td>0.504457</td>\n      <td>619/381</td>\n      <td>0.636555</td>\n    </tr>\n    <tr>\n      <th>8</th>\n      <td>96</td>\n      <td>10.000000</td>\n      <td>10</td>\n      <td>0.638806</td>\n      <td>0.561756</td>\n      <td>838/162</td>\n      <td>0.624422</td>\n    </tr>\n    <tr>\n      <th>9</th>\n      <td>97</td>\n      <td>1000.000000</td>\n      <td>10</td>\n      <td>0.525397</td>\n      <td>0.500000</td>\n      <td>563/437</td>\n      <td>0.504932</td>\n    </tr>\n  </tbody>\n</table>\n</div>"
     },
     "execution_count": 591,
     "metadata": {},
     "output_type": "execute_result"
    }
   ],
   "source": [
    "res_6 = run_moses_exps(seeds, data_dfs, net_dfs, alphas=alphas)\n",
    "res_6_df = result_df(res_6, target_count, base_auc)\n",
    "res_6_df"
   ],
   "metadata": {
    "collapsed": false,
    "pycharm": {
     "name": "#%%\n"
    }
   }
  },
  {
   "cell_type": "code",
   "execution_count": 592,
   "outputs": [
    {
     "data": {
      "text/plain": "<matplotlib.legend.Legend at 0x7fbf15186b20>"
     },
     "execution_count": 592,
     "metadata": {},
     "output_type": "execute_result"
    },
    {
     "data": {
      "text/plain": "<Figure size 1296x864 with 2 Axes>",
      "image/png": "[encoded data removed]"
     },
     "metadata": {
      "needs_background": "light"
     },
     "output_type": "display_data"
    }
   ],
   "source": [
    "fig, ax = plt.subplots(1, 2, figsize=(18, 12))\n",
    "\n",
    "fig.suptitle(\"Penalty vs No penalty with complexity ratio = 10\", fontsize=16)\n",
    "\n",
    "index = np.arange(1, 11)\n",
    "bar_width = 0.35\n",
    "ax[0].bar(index, res_6_df[\"cv_score\"]*100, bar_width, label=\"Pen\")\n",
    "ax[0].bar(index + bar_width, res_5_df[\"cv_score\"]*100, bar_width, label=\"No Pen\")\n",
    "ax[0].axhline(y=50, color=\"red\", label=\"random\", linestyle=\"--\")\n",
    "ax[0].set_xlabel(\"Seeds\", fontsize=14)\n",
    "ax[0].set_ylabel(\"train auc\", fontsize=14)\n",
    "\n",
    "ax[1].bar(index, res_6_df[\"test_score\"]*100, bar_width, label=\"Pen\")\n",
    "ax[1].bar(index + bar_width, res_5_df[\"test_score\"]*100, bar_width, label=\"No Pen\")\n",
    "ax[1].set_xlabel(\"Seeds\", fontsize=14)\n",
    "ax[1].set_ylabel(\"test auc\", fontsize=14)\n",
    "ax[1].axhline(y=50, color=\"red\", label=\"random\", linestyle=\"--\")\n",
    "\n",
    "ax[0].legend()\n",
    "ax[1].legend()"
   ],
   "metadata": {
    "collapsed": false,
    "pycharm": {
     "name": "#%%\n"
    }
   }
  },
  {
   "cell_type": "code",
   "execution_count": 596,
   "outputs": [
    {
     "name": "stdout",
     "output_type": "stream",
     "text": [
      "{'cv_score': 0.5913948283566307, 'test_score': 0.5809244660063339, 'est': MosesEstimator(cols=['f30', 'f33', 'f34', 'f36', 'f39', 'f51', 'f68', 'f85',\n",
      "                     'f88', 'f94', 'y'],\n",
      "               fs_algo=None, random_state=82)}\n",
      "{'cv_score': 0.6005903152297839, 'test_score': 0.5967373791621913, 'est': MosesEstimator(cols=['f18', 'f40', 'f47', 'f54', 'f56', 'f63', 'f7', 'f71',\n",
      "                     'f84', 'f95', 'y'],\n",
      "               fs_algo=None, random_state=91)}\n",
      "{'cv_score': 0.5762324696459771, 'test_score': 0.5297682709447415, 'est': MosesEstimator(cols=['f20', 'f31', 'f32', 'f34', 'f48', 'f5', 'f63', 'f66',\n",
      "                     'f68', 'f74', 'y'],\n",
      "               fs_algo=None, random_state=13)}\n",
      "{'cv_score': 0.6001277764972237, 'test_score': 0.5070565539648695, 'est': MosesEstimator(cols=['f16', 'f23', 'f25', 'f3', 'f36', 'f39', 'f42', 'f57',\n",
      "                     'f63', 'f93', 'y'],\n",
      "               fs_algo=None, random_state=92)}\n",
      "{'cv_score': 0.6601037375377148, 'test_score': 0.5642984466513878, 'est': MosesEstimator(cols=['f16', 'f23', 'f26', 'f3', 'f30', 'f35', 'f40', 'f65',\n",
      "                     'f71', 'f89', 'y'],\n",
      "               fs_algo=None, random_state=64)}\n",
      "{'cv_score': 0.615344424211133, 'test_score': 0.6258234519104084, 'est': MosesEstimator(cols=['f12', 'f19', 'f23', 'f47', 'f5', 'f50', 'f55', 'f89',\n",
      "                     'f93', 'f94', 'y'],\n",
      "               fs_algo=None, random_state=10)}\n",
      "{'cv_score': 0.5682805746158645, 'test_score': 0.6272425249169434, 'est': MosesEstimator(cols=['f14', 'f42', 'f44', 'f50', 'f53', 'f56', 'f59', 'f6',\n",
      "                     'f60', 'f61', 'y'],\n",
      "               fs_algo=None, random_state=28)}\n",
      "{'cv_score': 0.5913710994068035, 'test_score': 0.5629881154499151, 'est': MosesEstimator(cols=['f12', 'f31', 'f33', 'f52', 'f57', 'f65', 'f71', 'f73',\n",
      "                     'f79', 'f83', 'y'],\n",
      "               fs_algo=None, random_state=55)}\n",
      "{'cv_score': 0.6182417078611415, 'test_score': 0.4869047619047619, 'est': MosesEstimator(cols=['f27', 'f28', 'f31', 'f38', 'f42', 'f49', 'f57', 'f70',\n",
      "                     'f79', 'f85', 'y'],\n",
      "               fs_algo=None, random_state=96)}\n",
      "{'cv_score': 0.5291386305528942, 'test_score': 0.5007482594833756, 'est': MosesEstimator(cols=['f11', 'f31', 'f32', 'f5', 'f60', 'f8', 'f84', 'f89',\n",
      "                     'f95', 'f96', 'y'],\n",
      "               fs_algo=None, random_state=97)}\n"
     ]
    }
   ],
   "source": [
    "from notebooks.manifold_reg.MosesEstimator import *\n",
    "from sklearn.model_selection import cross_val_score\n",
    "import subprocess as subp\n",
    "\n",
    "i = 0\n",
    "\n",
    "results_fs_auc = {}\n",
    "for seed, df in zip(seeds, data_dfs):\n",
    "    X_s, y_s = df[df.columns.difference([\"y\"])], df[\"y\"]\n",
    "    X_s_train, X_s_test, y_s_train, y_s_test = train_test_split(X_s, y_s, stratify=y_s, shuffle=True, random_state=seed)\n",
    "    data_train_s = pd.concat([X_s_train, y_s_train], axis=1)\n",
    "    data_train_s.to_csv(f\"data/exps5/data_train_{seed}.csv\", index=False)\n",
    "    cmd = [\"asfeature-selection\", \"-i\", f\"data/exps5/data_train_{seed}.csv\",  \"-uy\", \"-asmd\", \"-C10\", \"-o\", f\"data/exps5/data_train_r_{seed}.csv\", \"-F\", \"data/exps5/fs.log\"]\n",
    "    process = subp.Popen(args=cmd, stdout=subp.PIPE, stderr=subp.PIPE)\n",
    "    stdout, stderr = process.communicate()\n",
    "    if process.returncode != 0:\n",
    "        raise RuntimeError(f\"MOSES ran into an error with return code {process.returncode}. Here is the stderr output:\\n{stderr.decode('utf-8')}\")\n",
    "\n",
    "    data_r = pd.read_csv(f\"data/exps5/data_train_r_{seed}.csv\")\n",
    "    cols = [col for col in data_r.columns if col != \"y\"] + [\"y\"] # asfeature-selection doesn't output columns in the order its given so fix it here\n",
    "    data_r = data_r[cols]\n",
    "    X_r_train, y_r_train = data_r[data_r.columns.difference([\"y\"])].to_numpy(), data_r[\"y\"].to_numpy()\n",
    "    X_r_test = X_s_test[cols[:-1]]\n",
    "    cv_score = np.mean(cross_val_score(MosesEstimator(fs_algo=None, random_state=seed, cols=cols), X_r_train, y_r_train, n_jobs=-1))\n",
    "    moses_est_r = MosesEstimator(fs_algo=None, random_state=seed, cols=cols).fit(X_r_train, y_r_train)\n",
    "    # print(\"Scoring on test dataset\")\n",
    "    test_score = moses_est_r.score(X_r_test.to_numpy(), y_s_test.to_numpy())\n",
    "    res = {\"cv_score\": cv_score, \"test_score\": test_score, \"est\": moses_est_r}\n",
    "    print(res)\n",
    "    results_fs_auc[seed] = res\n",
    "\n",
    "\n",
    "    i += 1"
   ],
   "metadata": {
    "collapsed": false,
    "pycharm": {
     "name": "#%%\n"
    }
   }
  },
  {
   "cell_type": "code",
   "execution_count": 600,
   "outputs": [
    {
     "name": "stdout",
     "output_type": "stream",
     "text": [
      "{'cv_score': 0.5973767635060001, 'test_score': 0.5758708981874536, 'est': MosesEstimator(cols=['f11', 'f17', 'f39', 'f48', 'f49', 'f51', 'f57', 'f83',\n",
      "                     'f88', 'f94', 'y'],\n",
      "               fs_algo=None, random_state=82)}\n",
      "{'cv_score': 0.5975352204194708, 'test_score': 0.6441326530612245, 'est': MosesEstimator(cols=['f18', 'f38', 'f4', 'f47', 'f54', 'f69', 'f7', 'f77',\n",
      "                     'f84', 'f92', 'y'],\n",
      "               fs_algo=None, random_state=91)}\n",
      "{'cv_score': 0.6120142881265829, 'test_score': 0.5935828877005348, 'est': MosesEstimator(cols=['f18', 'f22', 'f5', 'f52', 'f60', 'f66', 'f75', 'f76',\n",
      "                     'f89', 'f90', 'y'],\n",
      "               fs_algo=None, random_state=13)}\n",
      "{'cv_score': 0.6073084096947914, 'test_score': 0.45009645649304497, 'est': MosesEstimator(cols=['f12', 'f16', 'f25', 'f36', 'f39', 'f42', 'f62', 'f63',\n",
      "                     'f79', 'f93', 'y'],\n",
      "               fs_algo=None, random_state=92)}\n",
      "{'cv_score': 0.6732089040503385, 'test_score': 0.5667175961293608, 'est': MosesEstimator(cols=['f16', 'f17', 'f23', 'f26', 'f35', 'f40', 'f65', 'f69',\n",
      "                     'f71', 'f89', 'y'],\n",
      "               fs_algo=None, random_state=64)}\n",
      "{'cv_score': 0.594348690322907, 'test_score': 0.6055665349143611, 'est': MosesEstimator(cols=['f12', 'f19', 'f23', 'f27', 'f47', 'f5', 'f52', 'f89',\n",
      "                     'f93', 'f94', 'y'],\n",
      "               fs_algo=None, random_state=10)}\n",
      "{'cv_score': 0.6485065204836099, 'test_score': 0.6079734219269103, 'est': MosesEstimator(cols=['f10', 'f36', 'f40', 'f42', 'f44', 'f53', 'f59', 'f60',\n",
      "                     'f61', 'f98', 'y'],\n",
      "               fs_algo=None, random_state=28)}\n",
      "{'cv_score': 0.597969964107383, 'test_score': 0.5906621392190152, 'est': MosesEstimator(cols=['f15', 'f31', 'f34', 'f57', 'f71', 'f79', 'f81', 'f88',\n",
      "                     'f91', 'f96', 'y'],\n",
      "               fs_algo=None, random_state=55)}\n",
      "{'cv_score': 0.6220438494410565, 'test_score': 0.5499999999999999, 'est': MosesEstimator(cols=['f13', 'f25', 'f34', 'f5', 'f53', 'f66', 'f70', 'f76',\n",
      "                     'f77', 'f82', 'y'],\n",
      "               fs_algo=None, random_state=96)}\n",
      "{'cv_score': 0.5250619118031048, 'test_score': 0.5640900514021732, 'est': MosesEstimator(cols=['f100', 'f11', 'f32', 'f4', 'f60', 'f70', 'f78', 'f82',\n",
      "                     'f92', 'f95', 'y'],\n",
      "               fs_algo=None, random_state=97)}\n"
     ]
    },
    {
     "data": {
      "text/plain": "{82: {'cv_score': 0.5973767635060001,\n  'test_score': 0.5758708981874536,\n  'est': MosesEstimator(cols=['f11', 'f17', 'f39', 'f48', 'f49', 'f51', 'f57', 'f83',\n                       'f88', 'f94', 'y'],\n                 fs_algo=None, random_state=82)},\n 91: {'cv_score': 0.5975352204194708,\n  'test_score': 0.6441326530612245,\n  'est': MosesEstimator(cols=['f18', 'f38', 'f4', 'f47', 'f54', 'f69', 'f7', 'f77',\n                       'f84', 'f92', 'y'],\n                 fs_algo=None, random_state=91)},\n 13: {'cv_score': 0.6120142881265829,\n  'test_score': 0.5935828877005348,\n  'est': MosesEstimator(cols=['f18', 'f22', 'f5', 'f52', 'f60', 'f66', 'f75', 'f76',\n                       'f89', 'f90', 'y'],\n                 fs_algo=None, random_state=13)},\n 92: {'cv_score': 0.6073084096947914,\n  'test_score': 0.45009645649304497,\n  'est': MosesEstimator(cols=['f12', 'f16', 'f25', 'f36', 'f39', 'f42', 'f62', 'f63',\n                       'f79', 'f93', 'y'],\n                 fs_algo=None, random_state=92)},\n 64: {'cv_score': 0.6732089040503385,\n  'test_score': 0.5667175961293608,\n  'est': MosesEstimator(cols=['f16', 'f17', 'f23', 'f26', 'f35', 'f40', 'f65', 'f69',\n                       'f71', 'f89', 'y'],\n                 fs_algo=None, random_state=64)},\n 10: {'cv_score': 0.594348690322907,\n  'test_score': 0.6055665349143611,\n  'est': MosesEstimator(cols=['f12', 'f19', 'f23', 'f27', 'f47', 'f5', 'f52', 'f89',\n                       'f93', 'f94', 'y'],\n                 fs_algo=None, random_state=10)},\n 28: {'cv_score': 0.6485065204836099,\n  'test_score': 0.6079734219269103,\n  'est': MosesEstimator(cols=['f10', 'f36', 'f40', 'f42', 'f44', 'f53', 'f59', 'f60',\n                       'f61', 'f98', 'y'],\n                 fs_algo=None, random_state=28)},\n 55: {'cv_score': 0.597969964107383,\n  'test_score': 0.5906621392190152,\n  'est': MosesEstimator(cols=['f15', 'f31', 'f34', 'f57', 'f71', 'f79', 'f81', 'f88',\n                       'f91', 'f96', 'y'],\n                 fs_algo=None, random_state=55)},\n 96: {'cv_score': 0.6220438494410565,\n  'test_score': 0.5499999999999999,\n  'est': MosesEstimator(cols=['f13', 'f25', 'f34', 'f5', 'f53', 'f66', 'f70', 'f76',\n                       'f77', 'f82', 'y'],\n                 fs_algo=None, random_state=96)},\n 97: {'cv_score': 0.5250619118031048,\n  'test_score': 0.5640900514021732,\n  'est': MosesEstimator(cols=['f100', 'f11', 'f32', 'f4', 'f60', 'f70', 'f78', 'f82',\n                       'f92', 'f95', 'y'],\n                 fs_algo=None, random_state=97)}}"
     },
     "execution_count": 600,
     "metadata": {},
     "output_type": "execute_result"
    }
   ],
   "source": [
    "from notebooks.manifold_reg.MosesEstimator import *\n",
    "from sklearn.model_selection import cross_val_score\n",
    "import subprocess as subp\n",
    "results_fs_init_auc = {}\n",
    "i = 0\n",
    "for seed, df in zip(seeds, data_dfs):\n",
    "    X_s, y_s = df[df.columns.difference([\"y\"])], df[\"y\"]\n",
    "    X_s_train, X_s_test, y_s_train, y_s_test = train_test_split(X_s, y_s, stratify=y_s, shuffle=True, random_state=seed)\n",
    "\n",
    "    data_train_s = pd.concat([X_s_train, y_s_train], axis=1)\n",
    "    data_train_s.to_csv(f\"data/exps5/data_train_{seed}.csv\", index=False)\n",
    "    cmd = [\"asfeature-selection\", \"-i\", f\"data/exps5/data_train_{seed}.csv\",  \"-uy\", \"-asmd\", \"-C10\", \"-o\", f\"data/exps5/data_train_r_{seed}.csv\", \"-F\", f\"data/exps5/fs_{seed}_init.log\"]\n",
    "    for f in feats[i]:\n",
    "        cmd.append(f\"-ff{f}\")\n",
    "    process = subp.Popen(args=cmd, stdout=subp.PIPE, stderr=subp.PIPE)\n",
    "    stdout, stderr = process.communicate()\n",
    "    if process.returncode != 0:\n",
    "        raise RuntimeError(f\"MOSES ran into an error with return code {process.returncode}. Here is the stderr output:\\n{stderr.decode('utf-8')}\")\n",
    "\n",
    "    data_r = pd.read_csv(f\"data/exps5/data_train_r_{seed}.csv\")\n",
    "    cols = [col for col in data_r.columns if col != \"y\"] + [\"y\"] # asfeature-selection doesn't output columns in the order its given so fix it here\n",
    "    data_r = data_r[cols]\n",
    "    X_r_train, y_r_train = data_r[data_r.columns.difference([\"y\"])].to_numpy(), data_r[\"y\"].to_numpy()\n",
    "    X_r_test = X_s_test[cols[:-1]]\n",
    "    cv_score = np.mean(cross_val_score(MosesEstimator(fs_algo=None, random_state=seed, cols=cols), X_r_train, y_r_train, n_jobs=-1))\n",
    "    moses_est_r = MosesEstimator(fs_algo=None, random_state=seed, cols=cols).fit(X_r_train, y_r_train)\n",
    "    # print(\"Scoring on test dataset\")\n",
    "    test_score = moses_est_r.score(X_r_test.to_numpy(), y_s_test.to_numpy())\n",
    "    res = {\"cv_score\": cv_score, \"test_score\": test_score, \"est\": moses_est_r}\n",
    "    print(res)\n",
    "    results_fs_init_auc[seed] = res\n",
    "    i += 1  \n",
    "\n",
    "results_fs_init_auc"
   ],
   "metadata": {
    "collapsed": false,
    "pycharm": {
     "name": "#%%\n"
    }
   }
  },
  {
   "cell_type": "code",
   "execution_count": 603,
   "outputs": [],
   "source": [
    "results_fs_auc_df = {\"seed\": [] ,\"cv_score\": [], \"test_score\": []}\n",
    "results_fs_init_auc_df = {\"seed\": [] ,\"cv_score\": [], \"test_score\": []}\n",
    "\n",
    "for s, v in results_fs_auc.items():\n",
    "    results_fs_auc_df[\"seed\"].append(s)\n",
    "    results_fs_auc_df[\"cv_score\"].append(v[\"cv_score\"])\n",
    "    results_fs_auc_df[\"test_score\"].append(v[\"test_score\"])\n",
    "\n",
    "for s, v in results_fs_init_auc.items():\n",
    "    results_fs_init_auc_df[\"seed\"].append(s)\n",
    "    results_fs_init_auc_df[\"cv_score\"].append(v[\"cv_score\"])\n",
    "    results_fs_init_auc_df[\"test_score\"].append(v[\"test_score\"])\n",
    "\n",
    "results_fs_auc_df = pd.DataFrame(results_fs_auc_df)\n",
    "results_fs_init_auc_df = pd.DataFrame(results_fs_init_auc_df)"
   ],
   "metadata": {
    "collapsed": false,
    "pycharm": {
     "name": "#%%\n"
    }
   }
  },
  {
   "cell_type": "code",
   "execution_count": 604,
   "outputs": [
    {
     "data": {
      "text/plain": "   seed  cv_score  test_score\n0    82  0.597377    0.575871\n1    91  0.597535    0.644133\n2    13  0.612014    0.593583\n3    92  0.607308    0.450096\n4    64  0.673209    0.566718\n5    10  0.594349    0.605567\n6    28  0.648507    0.607973\n7    55  0.597970    0.590662\n8    96  0.622044    0.550000\n9    97  0.525062    0.564090",
      "text/html": "<div>\n<style scoped>\n    .dataframe tbody tr th:only-of-type {\n        vertical-align: middle;\n    }\n\n    .dataframe tbody tr th {\n        vertical-align: top;\n    }\n\n    .dataframe thead th {\n        text-align: right;\n    }\n</style>\n<table border=\"1\" class=\"dataframe\">\n  <thead>\n    <tr style=\"text-align: right;\">\n      <th></th>\n      <th>seed</th>\n      <th>cv_score</th>\n      <th>test_score</th>\n    </tr>\n  </thead>\n  <tbody>\n    <tr>\n      <th>0</th>\n      <td>82</td>\n      <td>0.597377</td>\n      <td>0.575871</td>\n    </tr>\n    <tr>\n      <th>1</th>\n      <td>91</td>\n      <td>0.597535</td>\n      <td>0.644133</td>\n    </tr>\n    <tr>\n      <th>2</th>\n      <td>13</td>\n      <td>0.612014</td>\n      <td>0.593583</td>\n    </tr>\n    <tr>\n      <th>3</th>\n      <td>92</td>\n      <td>0.607308</td>\n      <td>0.450096</td>\n    </tr>\n    <tr>\n      <th>4</th>\n      <td>64</td>\n      <td>0.673209</td>\n      <td>0.566718</td>\n    </tr>\n    <tr>\n      <th>5</th>\n      <td>10</td>\n      <td>0.594349</td>\n      <td>0.605567</td>\n    </tr>\n    <tr>\n      <th>6</th>\n      <td>28</td>\n      <td>0.648507</td>\n      <td>0.607973</td>\n    </tr>\n    <tr>\n      <th>7</th>\n      <td>55</td>\n      <td>0.597970</td>\n      <td>0.590662</td>\n    </tr>\n    <tr>\n      <th>8</th>\n      <td>96</td>\n      <td>0.622044</td>\n      <td>0.550000</td>\n    </tr>\n    <tr>\n      <th>9</th>\n      <td>97</td>\n      <td>0.525062</td>\n      <td>0.564090</td>\n    </tr>\n  </tbody>\n</table>\n</div>"
     },
     "execution_count": 604,
     "metadata": {},
     "output_type": "execute_result"
    }
   ],
   "source": [
    "results_fs_init_auc_df"
   ],
   "metadata": {
    "collapsed": false,
    "pycharm": {
     "name": "#%%\n"
    }
   }
  },
  {
   "cell_type": "code",
   "execution_count": 605,
   "outputs": [
    {
     "data": {
      "text/plain": "<matplotlib.legend.Legend at 0x7fbf0cf005b0>"
     },
     "execution_count": 605,
     "metadata": {},
     "output_type": "execute_result"
    },
    {
     "data": {
      "text/plain": "<Figure size 1296x864 with 2 Axes>",
      "image/png": "[encoded data removed]"
     },
     "metadata": {
      "needs_background": "light"
     },
     "output_type": "display_data"
    }
   ],
   "source": [
    "fig, ax = plt.subplots(1, 2, figsize=(18, 12))\n",
    "\n",
    "fig.suptitle(\"Feature selection outside of MOSES\\nInitial FS vs No Init FS with complexity ratio = 10\", fontsize=16)\n",
    "\n",
    "index = np.arange(1, 11)\n",
    "bar_width = 0.35\n",
    "ax[0].bar(index, results_fs_init_auc_df[\"cv_score\"]*100, bar_width, label=\"Init FS\")\n",
    "ax[0].bar(index + bar_width, results_fs_auc_df[\"cv_score\"]*100, bar_width, label=\"No Init FS\")\n",
    "ax[0].axhline(y=50, color=\"red\", label=\"random\", linestyle=\"--\")\n",
    "ax[0].set_xlabel(\"Runs\", fontsize=14)\n",
    "ax[0].set_ylabel(\"train auc\", fontsize=14)\n",
    "\n",
    "ax[1].bar(index, results_fs_init_auc_df[\"test_score\"]*100, bar_width, label=\"Init FS\")\n",
    "ax[1].bar(index + bar_width, results_fs_auc_df[\"test_score\"]*100, bar_width, label=\"No Init FS\")\n",
    "ax[1].set_xlabel(\"Runs\", fontsize=14)\n",
    "ax[1].set_ylabel(\"test auc\", fontsize=14)\n",
    "ax[1].axhline(y=50, color=\"red\", label=\"random\", linestyle=\"--\")\n",
    "\n",
    "ax[0].legend()\n",
    "ax[1].legend()"
   ],
   "metadata": {
    "collapsed": false,
    "pycharm": {
     "name": "#%%\n"
    }
   }
  }
 ],
 "metadata": {
  "kernelspec": {
   "display_name": "Python 3",
   "language": "python",
   "name": "python3"
  },
  "language_info": {
   "codemirror_mode": {
    "name": "ipython",
    "version": 2
   },
   "file_extension": ".py",
   "mimetype": "text/x-python",
   "name": "python",
   "nbconvert_exporter": "python",
   "pygments_lexer": "ipython2",
   "version": "2.7.6"
  }
 },
 "nbformat": 4,
 "nbformat_minor": 0
}