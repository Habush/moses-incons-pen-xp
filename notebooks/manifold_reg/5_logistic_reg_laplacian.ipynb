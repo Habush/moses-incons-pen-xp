{
 "cells": [
  {
   "cell_type": "code",
   "execution_count": null,
   "metadata": {
    "collapsed": true,
    "pycharm": {
     "is_executing": true
    }
   },
   "outputs": [],
   "source": [
    "%cd \"~/moses-incons-pen-xp\"\n",
    "%load_ext autoreload\n",
    "%autoreload 2"
   ]
  },
  {
   "cell_type": "code",
   "execution_count": null,
   "outputs": [],
   "source": [
    "import numpy as np\n",
    "import pandas as pd\n",
    "import scipy\n",
    "import math\n",
    "import networkx as nx\n",
    "import matplotlib.pyplot as plt\n",
    "from sklearn.metrics import precision_score\n",
    "import math\n",
    "from sklearn.model_selection import train_test_split\n",
    "from datetime import datetime\n",
    "from notebooks.manifold_reg.util import *"
   ],
   "metadata": {
    "collapsed": false,
    "pycharm": {
     "name": "#%%\n"
    }
   }
  },
  {
   "cell_type": "code",
   "execution_count": null,
   "outputs": [],
   "source": [
    "X, beta, y_log = generate_log_data(200, 10, tf_on=4, val_tf=[5, 5, 5, 5], n=200)"
   ],
   "metadata": {
    "collapsed": false,
    "pycharm": {
     "name": "#%%\n"
    }
   }
  },
  {
   "cell_type": "code",
   "execution_count": null,
   "outputs": [],
   "source": [
    "X_train, X_test, y_train, y_test = train_test_split(X, y_log, test_size=0.5, stratify=y_log)"
   ],
   "metadata": {
    "collapsed": false,
    "pycharm": {
     "name": "#%%\n"
    }
   }
  },
  {
   "cell_type": "code",
   "execution_count": null,
   "outputs": [],
   "source": [
    "assoc_mat = get_assoc_mat(200, 10)"
   ],
   "metadata": {
    "collapsed": false,
    "pycharm": {
     "name": "#%%\n"
    }
   }
  },
  {
   "cell_type": "code",
   "execution_count": null,
   "outputs": [],
   "source": [
    "n_iter = 15\n",
    "l1_vals = np.logspace(-2, 0, n_iter)\n",
    "# l1_vals = np.concatenate([np.array([0]), l1_vals])\n",
    "l2_vals = np.logspace(-5, 1, n_iter)\n",
    "# l2_vals = np.concatenate([np.array([0]), l2_vals])\n",
    "gammas = np.logspace(-2, 3, 10)"
   ],
   "metadata": {
    "collapsed": false,
    "pycharm": {
     "name": "#%%\n"
    }
   }
  },
  {
   "cell_type": "code",
   "execution_count": null,
   "outputs": [],
   "source": [
    "gammas"
   ],
   "metadata": {
    "collapsed": false,
    "pycharm": {
     "name": "#%%\n"
    }
   }
  },
  {
   "cell_type": "markdown",
   "source": [
    "Run Logistic regression with $\\Vert\\beta\\Vert^{2}$ and $\\mathbf{}{f}^{T}\\mathbf{}{L}\\mathbf{}{f}$ using **gradient descent**"
   ],
   "metadata": {
    "collapsed": false,
    "pycharm": {
     "name": "#%% md\n"
    }
   }
  },
  {
   "cell_type": "code",
   "execution_count": null,
   "outputs": [],
   "source": [
    "from notebooks.manifold_reg.grad_util import run_logisitic_reg_exp, build_table_from_log\n",
    "\n",
    "train_errs_cv_0, test_errs_0, train_ll_pen_0, test_ll_pen_0, \\\n",
    "    train_l1_pen_0, test_l1_pen_0, train_l2_pen_0, test_l2_pen_0, min_l1_vals_0, min_l2_vals_0, _ = run_logisitic_reg_exp(X_train, X_test, y_train, y_test, assoc_mat, gammas, l1_vals, l2_vals, l2_norm=True)\n",
    "\n",
    "res_1_df = build_table_from_log(gammas, train_errs_cv_0, test_errs_0, train_ll_pen_0, test_ll_pen_0,\n",
    "                                train_l1_pen_0, test_l1_pen_0, min_l1_vals_0, train_l2_pen_0, test_l2_pen_0, min_l2_vals_0)\n",
    "\n",
    "res_1_df"
   ],
   "metadata": {
    "collapsed": false,
    "pycharm": {
     "name": "#%%\n"
    }
   }
  },
  {
   "cell_type": "markdown",
   "source": [
    "Run Logistic regression with $\\Vert\\beta\\Vert^{1}$ and $\\mathbf{}{f}^{T}\\mathbf{}{L}\\mathbf{}{f}$ using **gradient descent**"
   ],
   "metadata": {
    "collapsed": false,
    "pycharm": {
     "name": "#%% md\n"
    }
   }
  },
  {
   "cell_type": "code",
   "execution_count": null,
   "outputs": [],
   "source": [
    "from notebooks.manifold_reg.grad_util import run_logisitic_reg_exp, build_table_from_log\n",
    "\n",
    "# l1_vals = np.logspace(-2, 0, n_iter)\n",
    "# l1_vals = np.concatenate([np.array([0]), l1_vals])\n",
    "# l2_vals = np.logspace(-4, -2, n_iter)\n",
    "\n",
    "train_errs_cv, test_errs, train_ll_pen, test_ll_pen, \\\n",
    "    train_l1_pen, test_l1_pen, train_l2_pen, test_l2_pen, min_l1_vals, min_l2_vals, _ = run_logisitic_reg_exp(X_train, X_test, y_train, y_test, assoc_mat, gammas, l1_vals, l2_vals, l2_norm=False)\n",
    "\n",
    "res_2_df = build_table_from_log(gammas, train_errs_cv, test_errs, train_ll_pen, test_ll_pen,\n",
    "                                train_l1_pen, test_l1_pen, min_l1_vals, train_l2_pen, test_l2_pen, min_l2_vals)\n",
    "\n",
    "res_2_df"
   ],
   "metadata": {
    "collapsed": false,
    "pycharm": {
     "name": "#%%\n"
    }
   }
  },
  {
   "cell_type": "markdown",
   "source": [
    "Focus on $\\gamma$ values between 1 and 10 with $\\Vert\\beta\\Vert^{2}$ norm and $\\mathbf{}{f}^{T}\\mathbf{}{L}\\mathbf{}{f}$"
   ],
   "metadata": {
    "collapsed": false,
    "pycharm": {
     "name": "#%% md\n"
    }
   }
  },
  {
   "cell_type": "code",
   "execution_count": null,
   "outputs": [],
   "source": [
    "gammas_2 = np.logspace(0, 1, 5)\n",
    "\n",
    "train_errs_cv, test_errs, train_ll_pen, test_ll_pen, \\\n",
    "    train_l1_pen, test_l1_pen, train_l2_pen, test_l2_pen, min_l1_vals, min_l2_vals = run_logisitic_reg_exp(X_train, X_test, y_train, y_test, assoc_mat, gammas_2, l1_vals, l2_vals)\n",
    "\n",
    "res_3_df = build_table_from_log(gammas_2, train_errs_cv, test_errs, train_ll_pen, test_ll_pen,\n",
    "                                train_l1_pen, test_l1_pen, min_l1_vals, train_l2_pen, test_l2_pen, min_l2_vals)\n",
    "\n",
    "res_3_df"
   ],
   "metadata": {
    "collapsed": false,
    "pycharm": {
     "name": "#%%\n"
    }
   }
  },
  {
   "cell_type": "markdown",
   "source": [
    "Focus on $\\gamma$ values between 1 and 10 with $\\Vert\\beta\\Vert^{1}$ norm and $\\mathbf{}{f}^{T}\\mathbf{}{L}\\mathbf{}{f}$"
   ],
   "metadata": {
    "collapsed": false,
    "pycharm": {
     "name": "#%% md\n"
    }
   }
  },
  {
   "cell_type": "code",
   "execution_count": null,
   "outputs": [],
   "source": [
    "train_errs_cv, test_errs, train_ll_pen, test_ll_pen, \\\n",
    "    train_l1_pen, test_l1_pen, train_l2_pen, test_l2_pen, min_l1_vals, min_l2_vals = run_logisitic_reg_exp(X_train, X_test, y_train, y_test, assoc_mat, gammas_2, l1_vals, l2_vals, l2_norm=False)\n",
    "\n",
    "res_4_df = build_table_from_log(gammas_2, train_errs_cv, test_errs, train_ll_pen, test_ll_pen,\n",
    "                                train_l1_pen, test_l1_pen, min_l1_vals, train_l2_pen, test_l2_pen, min_l2_vals)\n",
    "\n",
    "res_4_df"
   ],
   "metadata": {
    "collapsed": false,
    "pycharm": {
     "name": "#%%\n"
    }
   }
  },
  {
   "cell_type": "markdown",
   "source": [
    "Chech for different values of $\\lambda_{1}$ by setting $\\lambda_{2}$ to 0"
   ],
   "metadata": {
    "collapsed": false,
    "pycharm": {
     "name": "#%% md\n"
    }
   }
  },
  {
   "cell_type": "code",
   "execution_count": null,
   "outputs": [],
   "source": [
    "train_errs_cv, test_errs, train_ll_pen, test_ll_pen, \\\n",
    "    train_l1_pen, test_l1_pen, train_l2_pen, test_l2_pen, min_l1_vals, min_l2_vals = run_logisitic_reg_exp(X_train, X_test, y_train, y_test, assoc_mat, np.array([1.0]), l1_vals, np.zeros(n_iter), l2_norm=False)\n",
    "\n",
    "res_5_df = build_table_from_log(np.array([1.0]), train_errs_cv, test_errs, train_ll_pen, test_ll_pen,\n",
    "                                train_l1_pen, test_l1_pen, min_l1_vals, train_l2_pen, test_l2_pen, min_l2_vals)\n",
    "\n",
    "res_5_df"
   ],
   "metadata": {
    "collapsed": false,
    "pycharm": {
     "name": "#%%\n"
    }
   }
  },
  {
   "cell_type": "markdown",
   "source": [
    "Sample repeatedly from the distribution and compare with and without penalty. For penalty version, use $\\gamma$ = 1, $\\Vert\\beta\\Vert^{1}$ and $\\mathbf{}{f}^{T}\\mathbf{}{L}\\mathbf{}{f}$ penalty"
   ],
   "metadata": {
    "collapsed": false,
    "pycharm": {
     "name": "#%% md\n"
    }
   }
  },
  {
   "cell_type": "code",
   "execution_count": null,
   "outputs": [],
   "source": [
    "from notebooks.manifold_reg.grad_util import *\n",
    "import warnings\n",
    "import traceback\n",
    "\n",
    "warnings.filterwarnings('ignore')\n",
    "results_1 = []\n",
    "results_2 = []\n",
    "\n",
    "n_sim = 10\n",
    "beta_vals_1 = np.zeros((n_sim, 1, X_train.shape[1]))\n",
    "beta_vals_2 = np.zeros((n_sim, 1, X_train.shape[1]))\n",
    "\n",
    "gamma = np.array([1.0])\n",
    "for i in range(n_sim):\n",
    "    try:\n",
    "        #log_msg(f\"[{datetime.now()}] - Sim {i + 1}...\")\n",
    "        X_exp, beta_exp, y_log_exp = generate_log_data(200, 10, tf_on=4, val_tf=[5, 5, 5, 5], n=200)\n",
    "        X_train_exp, X_test_exp, y_train_exp, y_test_exp = train_test_split(X_exp, y_log_exp, test_size=0.5, stratify=y_log_exp)\n",
    "\n",
    "        train_errs_cv_1, test_errs_1, train_ll_pen_1, test_ll_pen_1, \\\n",
    "        train_l1_pen_1, test_l1_pen_1, train_l2_pen_1, test_l2_pen_1, min_l1_vals_1, min_l2_vals_1, beta_vals_1[i] = run_logisitic_reg_exp(X_train_exp, X_test_exp, y_train_exp, y_test_exp, assoc_mat, gamma, l1_vals, l2_vals, l2_norm=False)\n",
    "\n",
    "        res_pen_df = build_table_from_log(gamma, train_errs_cv_1, test_errs_1, train_ll_pen_1, test_ll_pen_1,\n",
    "                                        train_l1_pen_1, test_l1_pen_1, min_l1_vals_1, train_l2_pen_1, test_l2_pen_1, min_l2_vals_1)\n",
    "\n",
    "        train_errs_cv_2, test_errs_2, train_ll_pen_2, test_ll_pen_2, \\\n",
    "        train_l1_pen_2, test_l1_pen_2, min_l1_vals_2, beta_vals_2[i] = run_logisitic_reg_exp(X_train_exp, X_test_exp, y_train_exp, y_test_exp, assoc_mat, gamma, l1_vals, None, l2_norm=False)\n",
    "\n",
    "        res_no_pen_df = build_table_from_log(gamma, train_errs_cv_2, test_errs_2, train_ll_pen_2, test_ll_pen_2,\n",
    "                                        train_l1_pen_2, test_l1_pen_2, min_l1_vals_2, lap=False)\n",
    "\n",
    "\n",
    "        results_1.append(res_pen_df)\n",
    "        results_2.append(res_no_pen_df)\n",
    "    except Exception as e:\n",
    "        #log_msg(\"Oh, no! An error occurred. Here is the error message\")\n",
    "        #log_msg(traceback.format_exc())\n",
    "\n",
    "#log_msg(\"Done\")"
   ],
   "metadata": {
    "collapsed": false,
    "pycharm": {
     "name": "#%%\n"
    }
   }
  },
  {
   "cell_type": "code",
   "execution_count": null,
   "outputs": [],
   "source": [
    "#Fix argument mismatch in column names when building the dataframe\n",
    "# results_1_pen_df[\"l1_train_cv\"] = results_1_pen_df_cp[\"l2_pen_test\"]\n",
    "# results_1_pen_df[\"l2_pen_train_cv\"] = results_1_pen_df_cp[\"l1_train_cv\"]\n",
    "# results_1_pen_df[\"l2_pen_test\"] = results_1_pen_df_cp[\"l2_pen_train_cv\"]\n",
    "\n",
    "results_1_pen_df = pd.concat(results_1, axis=0)\n",
    "results_1_pen_df"
   ],
   "metadata": {
    "collapsed": false,
    "pycharm": {
     "name": "#%%\n"
    }
   }
  },
  {
   "cell_type": "code",
   "execution_count": null,
   "outputs": [],
   "source": [
    "results_1_pen_df.mean(axis=0)"
   ],
   "metadata": {
    "collapsed": false,
    "pycharm": {
     "name": "#%%\n"
    }
   }
  },
  {
   "cell_type": "code",
   "execution_count": null,
   "outputs": [],
   "source": [
    "results_2_pen_df = pd.concat(results_2, axis=0)\n",
    "results_2_pen_df"
   ],
   "metadata": {
    "collapsed": false,
    "pycharm": {
     "name": "#%%\n"
    }
   }
  },
  {
   "cell_type": "code",
   "execution_count": null,
   "outputs": [],
   "source": [
    "results_2_pen_df.mean(axis=0)"
   ],
   "metadata": {
    "collapsed": false,
    "pycharm": {
     "name": "#%%\n"
    }
   }
  },
  {
   "cell_type": "code",
   "execution_count": null,
   "outputs": [],
   "source": [
    "fig, ax = plt.subplots(nrows=1, ncols=2, figsize=(16, 8))\n",
    "\n",
    "r = np.arange(1, 11)\n",
    "ax[0].plot(r, results_1_pen_df[\"min_train_err_cv\"], color=\"blue\", label=\"with pen\")\n",
    "ax[0].plot(r, results_2_pen_df[\"min_train_err_cv\"], color=\"red\", label=\"w/o pen\")\n",
    "ax[0].set_xlabel(r\"run\", fontsize=16)\n",
    "ax[0].set_ylabel(r\"log_loss\", fontsize=16)\n",
    "ax[0].set_title(\"Train Error\")\n",
    "ax[0].legend()\n",
    "\n",
    "ax[1].plot(r, results_1_pen_df[\"test_err\"], color=\"blue\", label=\"with pen\")\n",
    "ax[1].plot(r, results_2_pen_df[\"test_err\"], color=\"red\", label=\"w/o pen\")\n",
    "ax[1].set_xlabel(r\"run\", fontsize=16)\n",
    "ax[1].set_ylabel(r\"log_loss\", fontsize=16)\n",
    "ax[1].set_title(\"Test Error\")\n",
    "ax[1].legend()"
   ],
   "metadata": {
    "collapsed": false,
    "pycharm": {
     "name": "#%%\n"
    }
   }
  },
  {
   "cell_type": "code",
   "execution_count": null,
   "outputs": [],
   "source": [
    "train_errs_cv, test_errs, train_ll_pen, test_ll_pen, \\\n",
    "    train_l1_pen, test_l1_pen, train_l2_pen, test_l2_pen, min_l1_vals, min_l2_vals, beta_val_3 = run_logisitic_reg_exp(X_train, X_test, y_train, y_test, assoc_mat, np.array([1.0]), l1_vals, np.logspace(0, 3, n_iter), l2_norm=False)\n",
    "\n",
    "res_6_df = build_table_from_log(gamma, train_errs_cv, test_errs, train_ll_pen, test_ll_pen,\n",
    "                                        train_l1_pen, test_l1_pen, min_l1_vals, train_l2_pen, test_l2_pen, min_l2_vals)"
   ],
   "metadata": {
    "collapsed": false,
    "pycharm": {
     "name": "#%%\n"
    }
   }
  },
  {
   "cell_type": "code",
   "execution_count": null,
   "outputs": [],
   "source": [
    "perfect_ll_train = np.zeros(100)\n",
    "perfect_ll_test = np.zeros(100)\n",
    "\n",
    "for i in range(100):\n",
    "    X_exp, beta_exp, y_log_exp = generate_log_data(200, 10, tf_on=4, val_tf=[5, 5, 5, 5], n=200)\n",
    "\n",
    "    X_train_exp, X_test_exp, y_train_exp, y_test_exp = train_test_split(X_exp, y_log_exp, test_size=0.5, shuffle=True)\n",
    "\n",
    "    p_train = sigmoid(X_train_exp @ beta_exp)\n",
    "    p_test = sigmoid(X_test_exp @ beta_exp)\n",
    "\n",
    "    perfect_ll_train[i] = log_loss(y_train_exp, p_train)\n",
    "    perfect_ll_test[i] = log_loss(y_test_exp, p_test)"
   ],
   "metadata": {
    "collapsed": false,
    "pycharm": {
     "name": "#%%\n"
    }
   }
  },
  {
   "cell_type": "code",
   "execution_count": null,
   "outputs": [],
   "source": [
    "plt.plot(np.arange(0, 100), perfect_ll_train, color=\"blue\")\n",
    "plt.plot(np.arange(0, 100), perfect_ll_test, color=\"red\")"
   ],
   "metadata": {
    "collapsed": false,
    "pycharm": {
     "name": "#%%\n"
    }
   }
  },
  {
   "cell_type": "code",
   "execution_count": null,
   "outputs": [],
   "source": [
    "np.mean(perfect_ll_train)"
   ],
   "metadata": {
    "collapsed": false,
    "pycharm": {
     "name": "#%%\n"
    }
   }
  },
  {
   "cell_type": "code",
   "execution_count": null,
   "outputs": [],
   "source": [
    "np.mean(perfect_ll_test)"
   ],
   "metadata": {
    "collapsed": false,
    "pycharm": {
     "name": "#%%\n"
    }
   }
  },
  {
   "cell_type": "markdown",
   "source": [],
   "metadata": {
    "collapsed": false
   }
  }
 ],
 "metadata": {
  "kernelspec": {
   "display_name": "Python 3",
   "language": "python",
   "name": "python3"
  },
  "language_info": {
   "codemirror_mode": {
    "name": "ipython",
    "version": 2
   },
   "file_extension": ".py",
   "mimetype": "text/x-python",
   "name": "python",
   "nbconvert_exporter": "python",
   "pygments_lexer": "ipython2",
   "version": "2.7.6"
  }
 },
 "nbformat": 4,
 "nbformat_minor": 0
}