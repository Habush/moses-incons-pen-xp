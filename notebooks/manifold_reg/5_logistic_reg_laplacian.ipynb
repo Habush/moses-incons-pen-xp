{
 "cells": [
  {
   "cell_type": "code",
   "execution_count": 1,
   "metadata": {
    "collapsed": true
   },
   "outputs": [
    {
     "name": "stdout",
     "output_type": "stream",
     "text": [
      "/home/xabush/moses-incons-pen-xp\n"
     ]
    }
   ],
   "source": [
    "%cd \"~/moses-incons-pen-xp\"\n",
    "%load_ext autoreload\n",
    "%autoreload 2"
   ]
  },
  {
   "cell_type": "code",
   "execution_count": 13,
   "outputs": [],
   "source": [
    "import numpy as np\n",
    "import pandas as pd\n",
    "import scipy\n",
    "import math\n",
    "import networkx as nx\n",
    "import matplotlib.pyplot as plt\n",
    "from sklearn.metrics import precision_score\n",
    "import math\n",
    "from sklearn.model_selection import train_test_split\n",
    "from datetime import datetime\n",
    "from notebooks.manifold_reg.util import *\n",
    "from notebooks.manifold_reg.custom_model import *"
   ],
   "metadata": {
    "collapsed": false,
    "pycharm": {
     "name": "#%%\n"
    }
   }
  },
  {
   "cell_type": "code",
   "execution_count": 78,
   "outputs": [],
   "source": [
    "X, beta, y_log = generate_log_data(200, 10, tf_on=4, val_tf=[5, 5, 5, 5], n=200)"
   ],
   "metadata": {
    "collapsed": false,
    "pycharm": {
     "name": "#%%\n"
    }
   }
  },
  {
   "cell_type": "code",
   "execution_count": 79,
   "outputs": [],
   "source": [
    "X_train, X_test, y_train, y_test = train_test_split(X, y_log, test_size=0.5, stratify=y_log)"
   ],
   "metadata": {
    "collapsed": false,
    "pycharm": {
     "name": "#%%\n"
    }
   }
  },
  {
   "cell_type": "code",
   "execution_count": 80,
   "outputs": [],
   "source": [
    "assoc_mat = get_assoc_mat(200, 10)"
   ],
   "metadata": {
    "collapsed": false,
    "pycharm": {
     "name": "#%%\n"
    }
   }
  },
  {
   "cell_type": "code",
   "execution_count": 138,
   "outputs": [],
   "source": [
    "n_iter = 15\n",
    "l1_vals = np.logspace(-2, 0, n_iter)\n",
    "# l1_vals = np.concatenate([np.array([0]), l1_vals])\n",
    "l2_vals = np.logspace(-5, 1, n_iter)\n",
    "# l2_vals = np.concatenate([np.array([0]), l2_vals])\n",
    "gammas = np.logspace(-2, 3, 10)"
   ],
   "metadata": {
    "collapsed": false,
    "pycharm": {
     "name": "#%%\n"
    }
   }
  },
  {
   "cell_type": "code",
   "execution_count": 134,
   "outputs": [
    {
     "data": {
      "text/plain": "array([1.00000000e-02, 3.59381366e-02, 1.29154967e-01, 4.64158883e-01,\n       1.66810054e+00, 5.99484250e+00, 2.15443469e+01, 7.74263683e+01,\n       2.78255940e+02, 1.00000000e+03])"
     },
     "execution_count": 134,
     "metadata": {},
     "output_type": "execute_result"
    }
   ],
   "source": [
    "gammas"
   ],
   "metadata": {
    "collapsed": false,
    "pycharm": {
     "name": "#%%\n"
    }
   }
  },
  {
   "cell_type": "markdown",
   "source": [
    "Run Logistic regression with $\\Vert\\beta\\Vert^{2}$ and $\\mathbf{}{f}^{T}\\mathbf{}{L}\\mathbf{}{f}$ using **gradient descent**"
   ],
   "metadata": {
    "collapsed": false,
    "pycharm": {
     "name": "#%% md\n"
    }
   }
  },
  {
   "cell_type": "code",
   "execution_count": 143,
   "outputs": [
    {
     "name": "stdout",
     "output_type": "stream",
     "text": [
      "[2022-02-15 16:11:34.502872] - gamma - 0.01\n",
      "Min l1: 0.2682695795279725, Min l2: 1e-05, CV Error: 0.5769900884638564, Test error: 0.6254482489765507\n",
      "ll_pen_train: 0.05955479709965015, l1_pen_train: 0.5892049243541102, l2_pen_train: 0.0\n",
      "[2022-02-15 16:13:44.779864] - gamma - 0.04\n",
      "Min l1: 0.2682695795279725, Min l2: 1e-05, CV Error: 0.5769900884638564, Test error: 0.6254482489765507\n",
      "ll_pen_train: 0.05955479709965015, l1_pen_train: 0.5892049243541102, l2_pen_train: 0.0\n",
      "[2022-02-15 16:15:58.497024] - gamma - 0.13\n",
      "Min l1: 0.2682695795279725, Min l2: 1e-05, CV Error: 0.5769900884638564, Test error: 0.6254482489765507\n",
      "ll_pen_train: 0.05955479709965015, l1_pen_train: 0.5892049243541102, l2_pen_train: 6.79241301302733e-150\n",
      "[2022-02-15 16:18:12.597420] - gamma - 0.46\n",
      "Min l1: 0.2682695795279725, Min l2: 10.0, CV Error: 0.5769900866620149, Test error: 0.6254482489765505\n",
      "ll_pen_train: 0.05955479984159088, l1_pen_train: 0.5892049141334897, l2_pen_train: 3.49998089932839e-10\n",
      "[2022-02-15 16:20:28.069815] - gamma - 1.67\n",
      "Min l1: 0.01, Min l2: 2.6826957952797274e-05, CV Error: 0.5674136905912436, Test error: 0.6517861027963043\n",
      "ll_pen_train: 0.05967548525275672, l1_pen_train: 0.6052184136758539, l2_pen_train: 2880.9487554046996\n",
      "[2022-02-15 16:22:43.030244] - gamma - 5.99\n",
      "Min l1: 0.01, Min l2: 1e-05, CV Error: 0.5846496318814947, Test error: 0.6108154636821785\n",
      "ll_pen_train: 0.17996962549933038, l1_pen_train: 0.3561862321393744, l2_pen_train: 13073.723409418777\n",
      "[2022-02-15 16:24:56.158965] - gamma - 21.54\n",
      "Min l1: 0.01, Min l2: 1e-05, CV Error: 0.5894448402477462, Test error: 0.6158714677722646\n",
      "ll_pen_train: 0.20385720212454445, l1_pen_train: 0.32708024282616344, l2_pen_train: 13407.728247201647\n",
      "[2022-02-15 16:27:12.225782] - gamma - 77.43\n",
      "Min l1: 0.01, Min l2: 1e-05, CV Error: 0.5898391509467424, Test error: 0.6163305063849541\n",
      "ll_pen_train: 0.20579587518838688, l1_pen_train: 0.3248592543061145, l2_pen_train: 13427.368007875848\n",
      "[2022-02-15 16:29:31.659930] - gamma - 278.26\n",
      "Min l1: 0.01, Min l2: 1e-05, CV Error: 0.5898697846839208, Test error: 0.6163664270249776\n",
      "ll_pen_train: 0.20594648645886746, l1_pen_train: 0.32468751803744883, l2_pen_train: 13428.851307090506\n",
      "[2022-02-15 16:31:48.113411] - gamma - 1000.00\n",
      "Min l1: 0.01, Min l2: 1e-05, CV Error: 0.5898721573321432, Test error: 0.6163692104876584\n",
      "ll_pen_train: 0.20595815089221053, l1_pen_train: 0.3246742223868028, l2_pen_train: 13428.965917376423\n"
     ]
    },
    {
     "data": {
      "text/plain": "         gamma  min_train_err_cv  l1_train_cv  l2_train_cv  ll_pen_train_cv  \\\n0     0.010000          0.576990      0.26827     0.000010         0.059555   \n1     0.035938          0.576990      0.26827     0.000010         0.059555   \n2     0.129155          0.576990      0.26827     0.000010         0.059555   \n3     0.464159          0.576990      0.26827    10.000000         0.059555   \n4     1.668101          0.567414      0.01000     0.000027         0.059675   \n5     5.994843          0.584650      0.01000     0.000010         0.179970   \n6    21.544347          0.589445      0.01000     0.000010         0.203857   \n7    77.426368          0.589839      0.01000     0.000010         0.205796   \n8   278.255940          0.589870      0.01000     0.000010         0.205946   \n9  1000.000000          0.589872      0.01000     0.000010         0.205958   \n\n   l1_pen_train_cv  l2_pen_train_cv  test_err  ll_pen_test  l1_pen_test  \\\n0         0.589205     0.000000e+00  0.625448     0.066470     0.625263   \n1         0.589205     0.000000e+00  0.625448     0.066470     0.625263   \n2         0.589205    6.792413e-150  0.625448     0.066470     0.625263   \n3         0.589205     3.499981e-10  0.625448     0.066470     0.625263   \n4         0.605218     2.880949e+03  0.651786     0.025204     0.883369   \n5         0.356186     1.307372e+04  0.610815     0.218340     0.345937   \n6         0.327080     1.340773e+04  0.615871     0.262104     0.297602   \n7         0.324859     1.342737e+04  0.616331     0.265682     0.293990   \n8         0.324688     1.342885e+04  0.616366     0.265960     0.293711   \n9         0.324674     1.342897e+04  0.616369     0.265981     0.293689   \n\n     l2_pen_test  \n0   0.000000e+00  \n1   0.000000e+00  \n2  6.078412e-240  \n3   2.538113e-17  \n4   1.527142e+03  \n5   1.351301e+04  \n6   1.356279e+04  \n7   1.354744e+04  \n8   1.354613e+04  \n9   1.354603e+04  ",
      "text/html": "<div>\n<style scoped>\n    .dataframe tbody tr th:only-of-type {\n        vertical-align: middle;\n    }\n\n    .dataframe tbody tr th {\n        vertical-align: top;\n    }\n\n    .dataframe thead th {\n        text-align: right;\n    }\n</style>\n<table border=\"1\" class=\"dataframe\">\n  <thead>\n    <tr style=\"text-align: right;\">\n      <th></th>\n      <th>gamma</th>\n      <th>min_train_err_cv</th>\n      <th>l1_train_cv</th>\n      <th>l2_train_cv</th>\n      <th>ll_pen_train_cv</th>\n      <th>l1_pen_train_cv</th>\n      <th>l2_pen_train_cv</th>\n      <th>test_err</th>\n      <th>ll_pen_test</th>\n      <th>l1_pen_test</th>\n      <th>l2_pen_test</th>\n    </tr>\n  </thead>\n  <tbody>\n    <tr>\n      <th>0</th>\n      <td>0.010000</td>\n      <td>0.576990</td>\n      <td>0.26827</td>\n      <td>0.000010</td>\n      <td>0.059555</td>\n      <td>0.589205</td>\n      <td>0.000000e+00</td>\n      <td>0.625448</td>\n      <td>0.066470</td>\n      <td>0.625263</td>\n      <td>0.000000e+00</td>\n    </tr>\n    <tr>\n      <th>1</th>\n      <td>0.035938</td>\n      <td>0.576990</td>\n      <td>0.26827</td>\n      <td>0.000010</td>\n      <td>0.059555</td>\n      <td>0.589205</td>\n      <td>0.000000e+00</td>\n      <td>0.625448</td>\n      <td>0.066470</td>\n      <td>0.625263</td>\n      <td>0.000000e+00</td>\n    </tr>\n    <tr>\n      <th>2</th>\n      <td>0.129155</td>\n      <td>0.576990</td>\n      <td>0.26827</td>\n      <td>0.000010</td>\n      <td>0.059555</td>\n      <td>0.589205</td>\n      <td>6.792413e-150</td>\n      <td>0.625448</td>\n      <td>0.066470</td>\n      <td>0.625263</td>\n      <td>6.078412e-240</td>\n    </tr>\n    <tr>\n      <th>3</th>\n      <td>0.464159</td>\n      <td>0.576990</td>\n      <td>0.26827</td>\n      <td>10.000000</td>\n      <td>0.059555</td>\n      <td>0.589205</td>\n      <td>3.499981e-10</td>\n      <td>0.625448</td>\n      <td>0.066470</td>\n      <td>0.625263</td>\n      <td>2.538113e-17</td>\n    </tr>\n    <tr>\n      <th>4</th>\n      <td>1.668101</td>\n      <td>0.567414</td>\n      <td>0.01000</td>\n      <td>0.000027</td>\n      <td>0.059675</td>\n      <td>0.605218</td>\n      <td>2.880949e+03</td>\n      <td>0.651786</td>\n      <td>0.025204</td>\n      <td>0.883369</td>\n      <td>1.527142e+03</td>\n    </tr>\n    <tr>\n      <th>5</th>\n      <td>5.994843</td>\n      <td>0.584650</td>\n      <td>0.01000</td>\n      <td>0.000010</td>\n      <td>0.179970</td>\n      <td>0.356186</td>\n      <td>1.307372e+04</td>\n      <td>0.610815</td>\n      <td>0.218340</td>\n      <td>0.345937</td>\n      <td>1.351301e+04</td>\n    </tr>\n    <tr>\n      <th>6</th>\n      <td>21.544347</td>\n      <td>0.589445</td>\n      <td>0.01000</td>\n      <td>0.000010</td>\n      <td>0.203857</td>\n      <td>0.327080</td>\n      <td>1.340773e+04</td>\n      <td>0.615871</td>\n      <td>0.262104</td>\n      <td>0.297602</td>\n      <td>1.356279e+04</td>\n    </tr>\n    <tr>\n      <th>7</th>\n      <td>77.426368</td>\n      <td>0.589839</td>\n      <td>0.01000</td>\n      <td>0.000010</td>\n      <td>0.205796</td>\n      <td>0.324859</td>\n      <td>1.342737e+04</td>\n      <td>0.616331</td>\n      <td>0.265682</td>\n      <td>0.293990</td>\n      <td>1.354744e+04</td>\n    </tr>\n    <tr>\n      <th>8</th>\n      <td>278.255940</td>\n      <td>0.589870</td>\n      <td>0.01000</td>\n      <td>0.000010</td>\n      <td>0.205946</td>\n      <td>0.324688</td>\n      <td>1.342885e+04</td>\n      <td>0.616366</td>\n      <td>0.265960</td>\n      <td>0.293711</td>\n      <td>1.354613e+04</td>\n    </tr>\n    <tr>\n      <th>9</th>\n      <td>1000.000000</td>\n      <td>0.589872</td>\n      <td>0.01000</td>\n      <td>0.000010</td>\n      <td>0.205958</td>\n      <td>0.324674</td>\n      <td>1.342897e+04</td>\n      <td>0.616369</td>\n      <td>0.265981</td>\n      <td>0.293689</td>\n      <td>1.354603e+04</td>\n    </tr>\n  </tbody>\n</table>\n</div>"
     },
     "execution_count": 143,
     "metadata": {},
     "output_type": "execute_result"
    }
   ],
   "source": [
    "from notebooks.manifold_reg.grad_util import run_logisitic_reg_exp, build_table_from_log\n",
    "\n",
    "train_errs_cv_0, test_errs_0, train_ll_pen_0, test_ll_pen_0, \\\n",
    "    train_l1_pen_0, test_l1_pen_0, train_l2_pen_0, test_l2_pen_0, min_l1_vals_0, min_l2_vals_0, _ = run_logisitic_reg_exp(X_train, X_test, y_train, y_test, assoc_mat, gammas, l1_vals, l2_vals, l2_norm=True)\n",
    "\n",
    "res_1_df = build_table_from_log(gammas, train_errs_cv_0, test_errs_0, train_ll_pen_0, test_ll_pen_0,\n",
    "                                train_l1_pen_0, test_l1_pen_0, min_l1_vals_0, train_l2_pen_0, test_l2_pen_0, min_l2_vals_0)\n",
    "\n",
    "res_1_df"
   ],
   "metadata": {
    "collapsed": false,
    "pycharm": {
     "name": "#%%\n"
    }
   }
  },
  {
   "cell_type": "markdown",
   "source": [
    "Run Logistic regression with $\\Vert\\beta\\Vert^{1}$ and $\\mathbf{}{f}^{T}\\mathbf{}{L}\\mathbf{}{f}$ using **gradient descent**"
   ],
   "metadata": {
    "collapsed": false,
    "pycharm": {
     "name": "#%% md\n"
    }
   }
  },
  {
   "cell_type": "code",
   "execution_count": 142,
   "outputs": [
    {
     "data": {
      "text/plain": "         gamma  min_train_err_cv  l1_train_cv  l2_train_cv  ll_pen_train_cv  \\\n0     0.010000          0.311090         0.01      0.00001         0.045833   \n1     0.035938          0.311090         0.01      0.00001         0.045833   \n2     0.129155          0.311090         0.01      0.00001         0.045833   \n3     0.464159          0.307458         0.01      0.00001         0.045420   \n4     1.668101          0.352539         0.01      0.00001         0.067738   \n5     5.994843          0.464121         0.01      0.00001         0.212085   \n6    21.544347          0.475221         0.01      0.00001         0.234177   \n7    77.426368          0.476369         0.01      0.00001         0.236298   \n8   278.255940          0.475674         0.01      0.00001         0.235676   \n9  1000.000000          0.477396         0.01      0.00001         0.236733   \n\n   l1_pen_train_cv  l2_pen_train_cv  test_err  ll_pen_test  l1_pen_test  \\\n0         1.166332     0.000000e+00  0.321377     0.050730     1.224226   \n1         1.166332     0.000000e+00  0.321377     0.050730     1.224226   \n2         1.166332    9.646617e-150  0.321377     0.050730     1.224226   \n3         1.184276     5.674341e-10  0.321377     0.050730     1.224226   \n4         0.965589     2.906796e+03  0.330691     0.058083     1.146041   \n5         0.509399     1.051602e+04  0.479016     0.252168     0.496075   \n6         0.476295     1.094151e+04  0.501250     0.292731     0.426131   \n7         0.469509     1.094436e+04  0.505856     0.297700     0.401474   \n8         0.474717     1.100482e+04  0.504312     0.296433     0.413617   \n9         0.466923     1.092423e+04  0.504028     0.297640     0.415934   \n\n     l2_pen_test  \n0   0.000000e+00  \n1   0.000000e+00  \n2  8.307552e-240  \n3   4.708862e-17  \n4   1.139825e+03  \n5   1.084777e+04  \n6   1.108578e+04  \n7   1.096095e+04  \n8   1.107132e+04  \n9   1.097971e+04  ",
      "text/html": "<div>\n<style scoped>\n    .dataframe tbody tr th:only-of-type {\n        vertical-align: middle;\n    }\n\n    .dataframe tbody tr th {\n        vertical-align: top;\n    }\n\n    .dataframe thead th {\n        text-align: right;\n    }\n</style>\n<table border=\"1\" class=\"dataframe\">\n  <thead>\n    <tr style=\"text-align: right;\">\n      <th></th>\n      <th>gamma</th>\n      <th>min_train_err_cv</th>\n      <th>l1_train_cv</th>\n      <th>l2_train_cv</th>\n      <th>ll_pen_train_cv</th>\n      <th>l1_pen_train_cv</th>\n      <th>l2_pen_train_cv</th>\n      <th>test_err</th>\n      <th>ll_pen_test</th>\n      <th>l1_pen_test</th>\n      <th>l2_pen_test</th>\n    </tr>\n  </thead>\n  <tbody>\n    <tr>\n      <th>0</th>\n      <td>0.010000</td>\n      <td>0.311090</td>\n      <td>0.01</td>\n      <td>0.00001</td>\n      <td>0.045833</td>\n      <td>1.166332</td>\n      <td>0.000000e+00</td>\n      <td>0.321377</td>\n      <td>0.050730</td>\n      <td>1.224226</td>\n      <td>0.000000e+00</td>\n    </tr>\n    <tr>\n      <th>1</th>\n      <td>0.035938</td>\n      <td>0.311090</td>\n      <td>0.01</td>\n      <td>0.00001</td>\n      <td>0.045833</td>\n      <td>1.166332</td>\n      <td>0.000000e+00</td>\n      <td>0.321377</td>\n      <td>0.050730</td>\n      <td>1.224226</td>\n      <td>0.000000e+00</td>\n    </tr>\n    <tr>\n      <th>2</th>\n      <td>0.129155</td>\n      <td>0.311090</td>\n      <td>0.01</td>\n      <td>0.00001</td>\n      <td>0.045833</td>\n      <td>1.166332</td>\n      <td>9.646617e-150</td>\n      <td>0.321377</td>\n      <td>0.050730</td>\n      <td>1.224226</td>\n      <td>8.307552e-240</td>\n    </tr>\n    <tr>\n      <th>3</th>\n      <td>0.464159</td>\n      <td>0.307458</td>\n      <td>0.01</td>\n      <td>0.00001</td>\n      <td>0.045420</td>\n      <td>1.184276</td>\n      <td>5.674341e-10</td>\n      <td>0.321377</td>\n      <td>0.050730</td>\n      <td>1.224226</td>\n      <td>4.708862e-17</td>\n    </tr>\n    <tr>\n      <th>4</th>\n      <td>1.668101</td>\n      <td>0.352539</td>\n      <td>0.01</td>\n      <td>0.00001</td>\n      <td>0.067738</td>\n      <td>0.965589</td>\n      <td>2.906796e+03</td>\n      <td>0.330691</td>\n      <td>0.058083</td>\n      <td>1.146041</td>\n      <td>1.139825e+03</td>\n    </tr>\n    <tr>\n      <th>5</th>\n      <td>5.994843</td>\n      <td>0.464121</td>\n      <td>0.01</td>\n      <td>0.00001</td>\n      <td>0.212085</td>\n      <td>0.509399</td>\n      <td>1.051602e+04</td>\n      <td>0.479016</td>\n      <td>0.252168</td>\n      <td>0.496075</td>\n      <td>1.084777e+04</td>\n    </tr>\n    <tr>\n      <th>6</th>\n      <td>21.544347</td>\n      <td>0.475221</td>\n      <td>0.01</td>\n      <td>0.00001</td>\n      <td>0.234177</td>\n      <td>0.476295</td>\n      <td>1.094151e+04</td>\n      <td>0.501250</td>\n      <td>0.292731</td>\n      <td>0.426131</td>\n      <td>1.108578e+04</td>\n    </tr>\n    <tr>\n      <th>7</th>\n      <td>77.426368</td>\n      <td>0.476369</td>\n      <td>0.01</td>\n      <td>0.00001</td>\n      <td>0.236298</td>\n      <td>0.469509</td>\n      <td>1.094436e+04</td>\n      <td>0.505856</td>\n      <td>0.297700</td>\n      <td>0.401474</td>\n      <td>1.096095e+04</td>\n    </tr>\n    <tr>\n      <th>8</th>\n      <td>278.255940</td>\n      <td>0.475674</td>\n      <td>0.01</td>\n      <td>0.00001</td>\n      <td>0.235676</td>\n      <td>0.474717</td>\n      <td>1.100482e+04</td>\n      <td>0.504312</td>\n      <td>0.296433</td>\n      <td>0.413617</td>\n      <td>1.107132e+04</td>\n    </tr>\n    <tr>\n      <th>9</th>\n      <td>1000.000000</td>\n      <td>0.477396</td>\n      <td>0.01</td>\n      <td>0.00001</td>\n      <td>0.236733</td>\n      <td>0.466923</td>\n      <td>1.092423e+04</td>\n      <td>0.504028</td>\n      <td>0.297640</td>\n      <td>0.415934</td>\n      <td>1.097971e+04</td>\n    </tr>\n  </tbody>\n</table>\n</div>"
     },
     "execution_count": 142,
     "metadata": {},
     "output_type": "execute_result"
    }
   ],
   "source": [
    "from notebooks.manifold_reg.grad_util import run_logisitic_reg_exp, build_table_from_log\n",
    "\n",
    "# l1_vals = np.logspace(-2, 0, n_iter)\n",
    "# l1_vals = np.concatenate([np.array([0]), l1_vals])\n",
    "# l2_vals = np.logspace(-4, -2, n_iter)\n",
    "\n",
    "train_errs_cv, test_errs, train_ll_pen, test_ll_pen, \\\n",
    "    train_l1_pen, test_l1_pen, train_l2_pen, test_l2_pen, min_l1_vals, min_l2_vals, _ = run_logisitic_reg_exp(X_train, X_test, y_train, y_test, assoc_mat, gammas, l1_vals, l2_vals, l2_norm=False)\n",
    "\n",
    "res_2_df = build_table_from_log(gammas, train_errs_cv, test_errs, train_ll_pen, test_ll_pen,\n",
    "                                train_l1_pen, test_l1_pen, min_l1_vals, train_l2_pen, test_l2_pen, min_l2_vals)\n",
    "\n",
    "res_2_df"
   ],
   "metadata": {
    "collapsed": false,
    "pycharm": {
     "name": "#%%\n"
    }
   }
  },
  {
   "cell_type": "markdown",
   "source": [
    "Focus on $\\gamma$ values between 1 and 10 with $\\Vert\\beta\\Vert^{2}$ norm and $\\mathbf{}{f}^{T}\\mathbf{}{L}\\mathbf{}{f}$"
   ],
   "metadata": {
    "collapsed": false,
    "pycharm": {
     "name": "#%% md\n"
    }
   }
  },
  {
   "cell_type": "code",
   "execution_count": 87,
   "outputs": [
    {
     "name": "stdout",
     "output_type": "stream",
     "text": [
      "[2022-02-14 16:59:04.922861] - gamma - 1.00\n"
     ]
    },
    {
     "name": "stderr",
     "output_type": "stream",
     "text": [
      "/home/xabush/moses-incons-pen-xp/notebooks/manifold_reg/util.py:174: RuntimeWarning: overflow encountered in exp\n",
      "  log_ll = np.sum((y * f) - np.log(1 + np.exp(f))) / m\n",
      "/home/xabush/moses-incons-pen-xp/notebooks/manifold_reg/util.py:174: RuntimeWarning: overflow encountered in exp\n",
      "  log_ll = np.sum((y * f) - np.log(1 + np.exp(f))) / m\n",
      "/home/xabush/moses-incons-pen-xp/notebooks/manifold_reg/util.py:174: RuntimeWarning: overflow encountered in exp\n",
      "  log_ll = np.sum((y * f) - np.log(1 + np.exp(f))) / m\n",
      "/home/xabush/moses-incons-pen-xp/notebooks/manifold_reg/util.py:155: RuntimeWarning: overflow encountered in exp\n",
      "  return 1/(1 + np.exp(-z))\n",
      "/home/xabush/moses-incons-pen-xp/notebooks/manifold_reg/util.py:174: RuntimeWarning: overflow encountered in exp\n",
      "  log_ll = np.sum((y * f) - np.log(1 + np.exp(f))) / m\n",
      "/home/xabush/moses-incons-pen-xp/notebooks/manifold_reg/util.py:174: RuntimeWarning: overflow encountered in exp\n",
      "  log_ll = np.sum((y * f) - np.log(1 + np.exp(f))) / m\n",
      "/home/xabush/moses-incons-pen-xp/notebooks/manifold_reg/util.py:155: RuntimeWarning: overflow encountered in exp\n",
      "  return 1/(1 + np.exp(-z))\n"
     ]
    },
    {
     "name": "stdout",
     "output_type": "stream",
     "text": [
      "Min l1: 0.01, Min l2: 0.003727593720314938\n",
      "Min l1: 0.01, Min l2: 0.003727593720314938, CV Error: 0.5660912319199845, Test error: 0.7521788724751501\n",
      "ll_pen_train: 0.061279957275408956, l1_pen_train: 0.6022998452632564, l2_pen_train: 20.84831430189933\n",
      "[2022-02-14 17:01:41.507684] - gamma - 1.78\n",
      "Min l1: 0.01, Min l2: 0.0001\n",
      "Min l1: 0.01, Min l2: 0.0001, CV Error: 0.584691871499565, Test error: 0.6098486567466913\n",
      "ll_pen_train: 0.18417599467521603, l1_pen_train: 0.34973165150679275, l2_pen_train: 1312.1349839314018\n",
      "[2022-02-14 17:04:15.699290] - gamma - 3.16\n",
      "Min l1: 0.01, Min l2: 0.0001\n",
      "Min l1: 0.01, Min l2: 0.0001, CV Error: 0.6358117338498055, Test error: 0.6420857875196401\n",
      "ll_pen_train: 0.42962335367341903, l1_pen_train: 0.14659845240312205, l2_pen_train: 1048.0718482958812\n",
      "[2022-02-14 17:06:52.998821] - gamma - 5.62\n",
      "Min l1: 0.01, Min l2: 0.0001\n",
      "Min l1: 0.01, Min l2: 0.0001, CV Error: 0.651508719980073, Test error: 0.6622057265245619\n",
      "ll_pen_train: 0.5056504221155949, l1_pen_train: 0.10848627754245029, l2_pen_train: 788.5917403789465\n",
      "[2022-02-14 17:09:28.694687] - gamma - 10.00\n",
      "Min l1: 0.01, Min l2: 0.0001\n",
      "Min l1: 0.01, Min l2: 0.0001, CV Error: 0.6558184994404319, Test error: 0.6672803054872989\n",
      "ll_pen_train: 0.5266769144286332, l1_pen_train: 0.09955733963321704, l2_pen_train: 707.2189527731882\n"
     ]
    },
    {
     "data": {
      "text/plain": "       gamma  min_train_err_cv  l1_train_cv  l2_train_cv  ll_pen_train_cv  \\\n0   1.000000          0.566091         0.01     0.003728         0.061280   \n1   1.778279          0.584692         0.01     0.000100         0.184176   \n2   3.162278          0.635812         0.01     0.000100         0.429623   \n3   5.623413          0.651509         0.01     0.000100         0.505650   \n4  10.000000          0.655818         0.01     0.000100         0.526677   \n\n   l1_pen_train_cv  l2_pen_train_cv  test_err  ll_pen_test  l1_pen_test  \\\n0         0.602300        20.848314  0.752179     0.004730     1.276973   \n1         0.349732      1312.134984  0.609849     0.095534     0.557098   \n2         0.146598      1048.071848  0.642086     0.427269     0.164636   \n3         0.108486       788.591740  0.662206     0.541399     0.104773   \n4         0.099557       707.218953  0.667280     0.569078     0.094106   \n\n   l2_pen_test  \n0     1.633719  \n1  1010.525820  \n2  1054.511422  \n3   648.132301  \n4   532.443634  ",
      "text/html": "<div>\n<style scoped>\n    .dataframe tbody tr th:only-of-type {\n        vertical-align: middle;\n    }\n\n    .dataframe tbody tr th {\n        vertical-align: top;\n    }\n\n    .dataframe thead th {\n        text-align: right;\n    }\n</style>\n<table border=\"1\" class=\"dataframe\">\n  <thead>\n    <tr style=\"text-align: right;\">\n      <th></th>\n      <th>gamma</th>\n      <th>min_train_err_cv</th>\n      <th>l1_train_cv</th>\n      <th>l2_train_cv</th>\n      <th>ll_pen_train_cv</th>\n      <th>l1_pen_train_cv</th>\n      <th>l2_pen_train_cv</th>\n      <th>test_err</th>\n      <th>ll_pen_test</th>\n      <th>l1_pen_test</th>\n      <th>l2_pen_test</th>\n    </tr>\n  </thead>\n  <tbody>\n    <tr>\n      <th>0</th>\n      <td>1.000000</td>\n      <td>0.566091</td>\n      <td>0.01</td>\n      <td>0.003728</td>\n      <td>0.061280</td>\n      <td>0.602300</td>\n      <td>20.848314</td>\n      <td>0.752179</td>\n      <td>0.004730</td>\n      <td>1.276973</td>\n      <td>1.633719</td>\n    </tr>\n    <tr>\n      <th>1</th>\n      <td>1.778279</td>\n      <td>0.584692</td>\n      <td>0.01</td>\n      <td>0.000100</td>\n      <td>0.184176</td>\n      <td>0.349732</td>\n      <td>1312.134984</td>\n      <td>0.609849</td>\n      <td>0.095534</td>\n      <td>0.557098</td>\n      <td>1010.525820</td>\n    </tr>\n    <tr>\n      <th>2</th>\n      <td>3.162278</td>\n      <td>0.635812</td>\n      <td>0.01</td>\n      <td>0.000100</td>\n      <td>0.429623</td>\n      <td>0.146598</td>\n      <td>1048.071848</td>\n      <td>0.642086</td>\n      <td>0.427269</td>\n      <td>0.164636</td>\n      <td>1054.511422</td>\n    </tr>\n    <tr>\n      <th>3</th>\n      <td>5.623413</td>\n      <td>0.651509</td>\n      <td>0.01</td>\n      <td>0.000100</td>\n      <td>0.505650</td>\n      <td>0.108486</td>\n      <td>788.591740</td>\n      <td>0.662206</td>\n      <td>0.541399</td>\n      <td>0.104773</td>\n      <td>648.132301</td>\n    </tr>\n    <tr>\n      <th>4</th>\n      <td>10.000000</td>\n      <td>0.655818</td>\n      <td>0.01</td>\n      <td>0.000100</td>\n      <td>0.526677</td>\n      <td>0.099557</td>\n      <td>707.218953</td>\n      <td>0.667280</td>\n      <td>0.569078</td>\n      <td>0.094106</td>\n      <td>532.443634</td>\n    </tr>\n  </tbody>\n</table>\n</div>"
     },
     "execution_count": 87,
     "metadata": {},
     "output_type": "execute_result"
    }
   ],
   "source": [
    "gammas_2 = np.logspace(0, 1, 5)\n",
    "\n",
    "train_errs_cv, test_errs, train_ll_pen, test_ll_pen, \\\n",
    "    train_l1_pen, test_l1_pen, train_l2_pen, test_l2_pen, min_l1_vals, min_l2_vals = run_logisitic_reg_exp(X_train, X_test, y_train, y_test, assoc_mat, gammas_2, l1_vals, l2_vals)\n",
    "\n",
    "res_3_df = build_table_from_log(gammas_2, train_errs_cv, test_errs, train_ll_pen, test_ll_pen,\n",
    "                                train_l1_pen, test_l1_pen, train_l2_pen, test_l2_pen, min_l1_vals, min_l2_vals)\n",
    "\n",
    "res_3_df"
   ],
   "metadata": {
    "collapsed": false,
    "pycharm": {
     "name": "#%%\n"
    }
   }
  },
  {
   "cell_type": "markdown",
   "source": [
    "Focus on $\\gamma$ values between 1 and 10 with $\\Vert\\beta\\Vert^{1}$ norm and $\\mathbf{}{f}^{T}\\mathbf{}{L}\\mathbf{}{f}$"
   ],
   "metadata": {
    "collapsed": false,
    "pycharm": {
     "name": "#%% md\n"
    }
   }
  },
  {
   "cell_type": "code",
   "execution_count": 88,
   "outputs": [
    {
     "name": "stdout",
     "output_type": "stream",
     "text": [
      "[2022-02-14 17:21:21.259711] - gamma - 1.00\n",
      "Min l1: 0.013894954943731374, Min l2: 0.00013894954943731373\n",
      "Min l1: 0.013894954943731374, Min l2: 0.00013894954943731373, CV Error: 0.31194770675836914, Test error: 0.31450969581794275\n",
      "ll_pen_train: 0.06141616136543361, l1_pen_train: 1.7200127470823232, l2_pen_train: 28.515920733434587\n",
      "[2022-02-14 17:31:13.264108] - gamma - 1.78\n",
      "Min l1: 0.013894954943731374, Min l2: 0.0001\n",
      "Min l1: 0.013894954943731374, Min l2: 0.0001, CV Error: 0.460898544629222, Test error: 0.4321875637558583\n",
      "ll_pen_train: 0.225361207747424, l1_pen_train: 0.7094277989239297, l2_pen_train: 1004.6355231457126\n",
      "[2022-02-14 17:41:09.419285] - gamma - 3.16\n",
      "Min l1: 0.013894954943731374, Min l2: 0.0001\n",
      "Min l1: 0.013894954943731374, Min l2: 0.0001, CV Error: 0.5763477694070474, Test error: 0.5752244987226802\n",
      "ll_pen_train: 0.4544568240682104, l1_pen_train: 0.2990179393112409, l2_pen_train: 845.5734418150648\n",
      "[2022-02-14 17:51:04.596561] - gamma - 5.62\n",
      "Min l1: 0.01, Min l2: 0.0001\n",
      "Min l1: 0.01, Min l2: 0.0001, CV Error: 0.6117340726334044, Test error: 0.6385714214897213\n",
      "ll_pen_train: 0.5180247529655848, l1_pen_train: 0.2245377100994807, l2_pen_train: 688.7166491895166\n",
      "[2022-02-14 18:01:02.047720] - gamma - 10.00\n",
      "Min l1: 0.013894954943731374, Min l2: 0.0001\n",
      "Min l1: 0.013894954943731374, Min l2: 0.0001, CV Error: 0.623968107082301, Test error: 0.6401848666739398\n",
      "ll_pen_train: 0.5429858875130072, l1_pen_train: 0.19751231931394053, l2_pen_train: 584.4999136028141\n"
     ]
    },
    {
     "data": {
      "text/plain": "       gamma  min_train_err_cv  l1_train_cv  l2_train_cv  ll_pen_train_cv  \\\n0   1.000000          0.311948     0.013895     0.000139         0.061416   \n1   1.778279          0.460899     0.013895     0.000100         0.225361   \n2   3.162278          0.576348     0.013895     0.000100         0.454457   \n3   5.623413          0.611734     0.010000     0.000100         0.518025   \n4  10.000000          0.623968     0.013895     0.000100         0.542986   \n\n   l1_pen_train_cv  l2_pen_train_cv  test_err  ll_pen_test  l1_pen_test  \\\n0         1.720013        28.515921  0.314510     0.060950     2.408107   \n1         0.709428      1004.635523  0.432188     0.149425     1.038437   \n2         0.299018       845.573442  0.575224     0.456474     0.295608   \n3         0.224538       688.716649  0.638571     0.551991     0.202238   \n4         0.197512       584.499914  0.640185     0.584442     0.173448   \n\n   l2_pen_test  \n0     0.791703  \n1   698.907377  \n2   823.675877  \n3   571.882246  \n4   427.482918  ",
      "text/html": "<div>\n<style scoped>\n    .dataframe tbody tr th:only-of-type {\n        vertical-align: middle;\n    }\n\n    .dataframe tbody tr th {\n        vertical-align: top;\n    }\n\n    .dataframe thead th {\n        text-align: right;\n    }\n</style>\n<table border=\"1\" class=\"dataframe\">\n  <thead>\n    <tr style=\"text-align: right;\">\n      <th></th>\n      <th>gamma</th>\n      <th>min_train_err_cv</th>\n      <th>l1_train_cv</th>\n      <th>l2_train_cv</th>\n      <th>ll_pen_train_cv</th>\n      <th>l1_pen_train_cv</th>\n      <th>l2_pen_train_cv</th>\n      <th>test_err</th>\n      <th>ll_pen_test</th>\n      <th>l1_pen_test</th>\n      <th>l2_pen_test</th>\n    </tr>\n  </thead>\n  <tbody>\n    <tr>\n      <th>0</th>\n      <td>1.000000</td>\n      <td>0.311948</td>\n      <td>0.013895</td>\n      <td>0.000139</td>\n      <td>0.061416</td>\n      <td>1.720013</td>\n      <td>28.515921</td>\n      <td>0.314510</td>\n      <td>0.060950</td>\n      <td>2.408107</td>\n      <td>0.791703</td>\n    </tr>\n    <tr>\n      <th>1</th>\n      <td>1.778279</td>\n      <td>0.460899</td>\n      <td>0.013895</td>\n      <td>0.000100</td>\n      <td>0.225361</td>\n      <td>0.709428</td>\n      <td>1004.635523</td>\n      <td>0.432188</td>\n      <td>0.149425</td>\n      <td>1.038437</td>\n      <td>698.907377</td>\n    </tr>\n    <tr>\n      <th>2</th>\n      <td>3.162278</td>\n      <td>0.576348</td>\n      <td>0.013895</td>\n      <td>0.000100</td>\n      <td>0.454457</td>\n      <td>0.299018</td>\n      <td>845.573442</td>\n      <td>0.575224</td>\n      <td>0.456474</td>\n      <td>0.295608</td>\n      <td>823.675877</td>\n    </tr>\n    <tr>\n      <th>3</th>\n      <td>5.623413</td>\n      <td>0.611734</td>\n      <td>0.010000</td>\n      <td>0.000100</td>\n      <td>0.518025</td>\n      <td>0.224538</td>\n      <td>688.716649</td>\n      <td>0.638571</td>\n      <td>0.551991</td>\n      <td>0.202238</td>\n      <td>571.882246</td>\n    </tr>\n    <tr>\n      <th>4</th>\n      <td>10.000000</td>\n      <td>0.623968</td>\n      <td>0.013895</td>\n      <td>0.000100</td>\n      <td>0.542986</td>\n      <td>0.197512</td>\n      <td>584.499914</td>\n      <td>0.640185</td>\n      <td>0.584442</td>\n      <td>0.173448</td>\n      <td>427.482918</td>\n    </tr>\n  </tbody>\n</table>\n</div>"
     },
     "execution_count": 88,
     "metadata": {},
     "output_type": "execute_result"
    }
   ],
   "source": [
    "train_errs_cv, test_errs, train_ll_pen, test_ll_pen, \\\n",
    "    train_l1_pen, test_l1_pen, train_l2_pen, test_l2_pen, min_l1_vals, min_l2_vals = run_logisitic_reg_exp(X_train, X_test, y_train, y_test, assoc_mat, gammas_2, l1_vals, l2_vals, l2_norm=False)\n",
    "\n",
    "res_4_df = build_table_from_log(gammas_2, train_errs_cv, test_errs, train_ll_pen, test_ll_pen,\n",
    "                                train_l1_pen, test_l1_pen, train_l2_pen, test_l2_pen, min_l1_vals, min_l2_vals)\n",
    "\n",
    "res_4_df"
   ],
   "metadata": {
    "collapsed": false,
    "pycharm": {
     "name": "#%%\n"
    }
   }
  },
  {
   "cell_type": "markdown",
   "source": [
    "Chech for different values of $\\lambda_{1}$ by setting $\\lambda_{2}$ to 0"
   ],
   "metadata": {
    "collapsed": false,
    "pycharm": {
     "name": "#%% md\n"
    }
   }
  },
  {
   "cell_type": "code",
   "execution_count": 89,
   "outputs": [
    {
     "name": "stdout",
     "output_type": "stream",
     "text": [
      "[2022-02-14 18:15:48.024503] - gamma - 1.00\n",
      "Min l1: 0.013894954943731374, Min l2: 0.0\n",
      "Min l1: 0.013894954943731374, Min l2: 0.0, CV Error: 0.3000547462387789, Test error: 0.44020013372732797\n",
      "ll_pen_train: 0.05755815223412336, l1_pen_train: 2.013649273697644, l2_pen_train: 31.893341864535547\n"
     ]
    },
    {
     "data": {
      "text/plain": "   gamma  min_train_err_cv  l1_train_cv  l2_train_cv  ll_pen_train_cv  \\\n0    1.0          0.300055     0.013895          0.0         0.057558   \n\n   l1_pen_train_cv  l2_pen_train_cv  test_err  ll_pen_test  l1_pen_test  \\\n0         2.013649        31.893342    0.4402     0.063325     2.016411   \n\n   l2_pen_test  \n0     0.666772  ",
      "text/html": "<div>\n<style scoped>\n    .dataframe tbody tr th:only-of-type {\n        vertical-align: middle;\n    }\n\n    .dataframe tbody tr th {\n        vertical-align: top;\n    }\n\n    .dataframe thead th {\n        text-align: right;\n    }\n</style>\n<table border=\"1\" class=\"dataframe\">\n  <thead>\n    <tr style=\"text-align: right;\">\n      <th></th>\n      <th>gamma</th>\n      <th>min_train_err_cv</th>\n      <th>l1_train_cv</th>\n      <th>l2_train_cv</th>\n      <th>ll_pen_train_cv</th>\n      <th>l1_pen_train_cv</th>\n      <th>l2_pen_train_cv</th>\n      <th>test_err</th>\n      <th>ll_pen_test</th>\n      <th>l1_pen_test</th>\n      <th>l2_pen_test</th>\n    </tr>\n  </thead>\n  <tbody>\n    <tr>\n      <th>0</th>\n      <td>1.0</td>\n      <td>0.300055</td>\n      <td>0.013895</td>\n      <td>0.0</td>\n      <td>0.057558</td>\n      <td>2.013649</td>\n      <td>31.893342</td>\n      <td>0.4402</td>\n      <td>0.063325</td>\n      <td>2.016411</td>\n      <td>0.666772</td>\n    </tr>\n  </tbody>\n</table>\n</div>"
     },
     "execution_count": 89,
     "metadata": {},
     "output_type": "execute_result"
    }
   ],
   "source": [
    "train_errs_cv, test_errs, train_ll_pen, test_ll_pen, \\\n",
    "    train_l1_pen, test_l1_pen, train_l2_pen, test_l2_pen, min_l1_vals, min_l2_vals = run_logisitic_reg_exp(X_train, X_test, y_train, y_test, assoc_mat, np.array([1.0]), l1_vals, np.zeros(n_iter), l2_norm=False)\n",
    "\n",
    "res_5_df = build_table_from_log(np.array([1.0]), train_errs_cv, test_errs, train_ll_pen, test_ll_pen,\n",
    "                                train_l1_pen, test_l1_pen, train_l2_pen, test_l2_pen, min_l1_vals, min_l2_vals)\n",
    "\n",
    "res_5_df"
   ],
   "metadata": {
    "collapsed": false,
    "pycharm": {
     "name": "#%%\n"
    }
   }
  },
  {
   "cell_type": "code",
   "execution_count": 116,
   "outputs": [
    {
     "name": "stdout",
     "output_type": "stream",
     "text": [
      "[2022-02-15 09:52:33.656456] - Sim 1...\n",
      "[2022-02-15 09:52:33.838560] - gamma - 1.00\n",
      "Min l1: 0.0372759372031494, Min l2: 0.0019306977288832496, CV Error: 0.48598171760713543, Test error: 0.5079352950803102\n",
      "ll_pen_train: 0.19498767907649955, l1_pen_train: 1.0419034954010997, l2_pen_train: 8.928555963253876\n",
      "[2022-02-15 10:02:31.414732] - gamma - 1.00\n",
      "Min l1: 0.07196856730011521, Min l2: 0.0, CV Error: 0.5464272699344048, Test error: 0.5293250388086627\n",
      "ll_pen_train: 0.2988207857569729, l1_pen_train: 1.1216660135742704, l2_pen_train: 6.595444508300455\n",
      "[2022-02-15 10:05:06.282516] - Sim 2...\n",
      "[2022-02-15 10:05:06.424313] - gamma - 1.00\n",
      "Min l1: 0.01, Min l2: 0.00026826957952797245, CV Error: 0.4439892201216836, Test error: 0.5016445816565122\n",
      "ll_pen_train: 0.050377747368202795, l1_pen_train: 1.7052378775850265, l2_pen_train: 28.703343335382236\n",
      "[2022-02-15 10:15:02.560348] - gamma - 1.00\n",
      "Min l1: 0.0372759372031494, Min l2: 0.0, CV Error: 0.39325462281750473, Test error: 0.4726582327885274\n",
      "ll_pen_train: 0.16281209604463456, l1_pen_train: 1.6790255233951286, l2_pen_train: 13.7139108682406\n",
      "[2022-02-15 10:17:34.820449] - Sim 3...\n",
      "[2022-02-15 10:17:34.985155] - gamma - 1.00\n",
      "Min l1: 0.01, Min l2: 0.00026826957952797245, CV Error: 0.3135564841510992, Test error: 0.36276156296683176\n",
      "ll_pen_train: 0.046378558338503684, l1_pen_train: 1.5701947629775315, l2_pen_train: 32.579081715880854\n",
      "[2022-02-15 10:27:35.844035] - gamma - 1.00\n",
      "Min l1: 0.013894954943731374, Min l2: 0.0, CV Error: 0.3031247806897098, Test error: 0.32335347351819727\n",
      "ll_pen_train: 0.05481314060769234, l1_pen_train: 2.030914409599503, l2_pen_train: 35.31652520504948\n",
      "[2022-02-15 10:30:13.181675] - Sim 4...\n",
      "[2022-02-15 10:30:13.360283] - gamma - 1.00\n",
      "Min l1: 0.02682695795279726, Min l2: 0.00019306977288832496, CV Error: 0.38987838437295563, Test error: 0.3179792282540086\n",
      "ll_pen_train: 0.11025013899557996, l1_pen_train: 1.4881722538646873, l2_pen_train: 18.428371383508626\n",
      "[2022-02-15 10:40:14.453255] - gamma - 1.00\n",
      "Min l1: 0.0372759372031494, Min l2: 0.0, CV Error: 0.3735079990530282, Test error: 0.3611652188207344\n",
      "ll_pen_train: 0.1376710170611815, l1_pen_train: 1.7957403417655442, l2_pen_train: 19.944724237758887\n",
      "[2022-02-15 10:42:59.593740] - Sim 5...\n",
      "[2022-02-15 10:42:59.758017] - gamma - 1.00\n",
      "Min l1: 0.02682695795279726, Min l2: 0.001, CV Error: 0.43142870902929076, Test error: 0.44951959906658806\n",
      "ll_pen_train: 0.1377381096393482, l1_pen_train: 1.2772336621424625, l2_pen_train: 14.223978152442566\n",
      "[2022-02-15 10:52:59.671117] - gamma - 1.00\n",
      "Min l1: 0.02682695795279726, Min l2: 0.0, CV Error: 0.4316873081817715, Test error: 0.39310802716766846\n",
      "ll_pen_train: 0.11955068294861995, l1_pen_train: 1.7413176475143548, l2_pen_train: 20.200386793573948\n",
      "Done\n"
     ]
    }
   ],
   "source": [
    "from notebooks.manifold_reg.logging import *\n",
    "import warnings\n",
    "import traceback\n",
    "\n",
    "warnings.filterwarnings('ignore')\n",
    "results_1 = []\n",
    "results_2 = []\n",
    "\n",
    "n_sim = 10\n",
    "beta_vals_1 = np.zeros((n_sim, 1, X_train.shape[1]))\n",
    "beta_vals_2 = np.zeros((n_sim, 1, X_train.shape[1]))\n",
    "\n",
    "gamma = np.array([1.0])\n",
    "for i in range(n_sim):\n",
    "    try:\n",
    "        log_msg(f\"[{datetime.now()}] - Sim {i + 1}...\")\n",
    "        X_exp, beta_exp, y_log_exp = generate_log_data(200, 10, tf_on=4, val_tf=[5, 5, 5, 5], n=200)\n",
    "        X_train_exp, X_test_exp, y_train_exp, y_test_exp = train_test_split(X_exp, y_log_exp, test_size=0.5, stratify=y_log_exp)\n",
    "        train_errs_cv_1, test_errs_1, train_ll_pen_1, test_ll_pen_1, \\\n",
    "        train_l1_pen_1, test_l1_pen_1, train_l2_pen_1, test_l2_pen_1, min_l1_vals_1, min_l2_vals_1, beta_vals_1[i] = run_logisitic_reg_exp(X_train_exp, X_test_exp, y_train_exp, y_test_exp, assoc_mat, gamma, l1_vals, l2_vals, l2_norm=False)\n",
    "\n",
    "        train_errs_cv_2, test_errs_2, train_ll_pen_2, test_ll_pen_2, \\\n",
    "        train_l1_pen_2, test_l1_pen_2, train_l2_pen_2, test_l2_pen_2, min_l1_vals_2, min_l2_vals_2, beta_vals_2[i] = run_logisitic_reg_exp(X_train_exp, X_test_exp, y_train_exp, y_test_exp, assoc_mat, gamma, l1_vals, None, l2_norm=False)\n",
    "\n",
    "        res_pen_df = build_table_from_log(gamma, train_errs_cv_1, test_errs_1, train_ll_pen_1, test_ll_pen_1,\n",
    "                                        train_l1_pen_1, test_l1_pen_1, train_l2_pen_1, test_l2_pen_1, min_l1_vals_1, min_l2_vals_1)\n",
    "\n",
    "        res_no_pen_df = build_table_from_log(gamma, train_errs_cv_2, test_errs_2, train_ll_pen_2, test_ll_pen_2,\n",
    "                                        train_l1_pen_2, test_l1_pen_2, train_l2_pen_2, test_l2_pen_2, min_l1_vals_2, min_l2_vals_2)\n",
    "\n",
    "        results_1.append(res_pen_df)\n",
    "        results_2.append(res_no_pen_df)\n",
    "    except Exception as e:\n",
    "        log_msg(\"Oh, no! An error occurred. Here is the error message\")\n",
    "        log_msg(traceback.format_exc())\n",
    "\n",
    "log_msg(\"Done\")"
   ],
   "metadata": {
    "collapsed": false,
    "pycharm": {
     "name": "#%%\n"
    }
   }
  },
  {
   "cell_type": "code",
   "execution_count": 118,
   "outputs": [
    {
     "data": {
      "text/plain": "   gamma  min_train_err_cv  l1_train_cv  l2_train_cv  ll_pen_train_cv  \\\n0    1.0          0.485982     0.037276     0.001931         0.194988   \n0    1.0          0.443989     0.010000     0.000268         0.050378   \n0    1.0          0.313556     0.010000     0.000268         0.046379   \n0    1.0          0.389878     0.026827     0.000193         0.110250   \n0    1.0          0.431429     0.026827     0.001000         0.137738   \n\n   l1_pen_train_cv  l2_pen_train_cv  test_err  ll_pen_test  l1_pen_test  \\\n0         1.041903         8.928556  0.507935     0.175749     1.513067   \n0         1.705238        28.703343  0.501645     0.050915     2.255640   \n0         1.570195        32.579082  0.362762     0.044383     1.952171   \n0         1.488172        18.428371  0.317979     0.116794     1.894294   \n0         1.277234        14.223978  0.449520     0.127738     1.897061   \n\n   l2_pen_test  \n0     0.246958  \n0     0.647875  \n0     0.765688  \n0     0.456899  \n0     0.390019  ",
      "text/html": "<div>\n<style scoped>\n    .dataframe tbody tr th:only-of-type {\n        vertical-align: middle;\n    }\n\n    .dataframe tbody tr th {\n        vertical-align: top;\n    }\n\n    .dataframe thead th {\n        text-align: right;\n    }\n</style>\n<table border=\"1\" class=\"dataframe\">\n  <thead>\n    <tr style=\"text-align: right;\">\n      <th></th>\n      <th>gamma</th>\n      <th>min_train_err_cv</th>\n      <th>l1_train_cv</th>\n      <th>l2_train_cv</th>\n      <th>ll_pen_train_cv</th>\n      <th>l1_pen_train_cv</th>\n      <th>l2_pen_train_cv</th>\n      <th>test_err</th>\n      <th>ll_pen_test</th>\n      <th>l1_pen_test</th>\n      <th>l2_pen_test</th>\n    </tr>\n  </thead>\n  <tbody>\n    <tr>\n      <th>0</th>\n      <td>1.0</td>\n      <td>0.485982</td>\n      <td>0.037276</td>\n      <td>0.001931</td>\n      <td>0.194988</td>\n      <td>1.041903</td>\n      <td>8.928556</td>\n      <td>0.507935</td>\n      <td>0.175749</td>\n      <td>1.513067</td>\n      <td>0.246958</td>\n    </tr>\n    <tr>\n      <th>0</th>\n      <td>1.0</td>\n      <td>0.443989</td>\n      <td>0.010000</td>\n      <td>0.000268</td>\n      <td>0.050378</td>\n      <td>1.705238</td>\n      <td>28.703343</td>\n      <td>0.501645</td>\n      <td>0.050915</td>\n      <td>2.255640</td>\n      <td>0.647875</td>\n    </tr>\n    <tr>\n      <th>0</th>\n      <td>1.0</td>\n      <td>0.313556</td>\n      <td>0.010000</td>\n      <td>0.000268</td>\n      <td>0.046379</td>\n      <td>1.570195</td>\n      <td>32.579082</td>\n      <td>0.362762</td>\n      <td>0.044383</td>\n      <td>1.952171</td>\n      <td>0.765688</td>\n    </tr>\n    <tr>\n      <th>0</th>\n      <td>1.0</td>\n      <td>0.389878</td>\n      <td>0.026827</td>\n      <td>0.000193</td>\n      <td>0.110250</td>\n      <td>1.488172</td>\n      <td>18.428371</td>\n      <td>0.317979</td>\n      <td>0.116794</td>\n      <td>1.894294</td>\n      <td>0.456899</td>\n    </tr>\n    <tr>\n      <th>0</th>\n      <td>1.0</td>\n      <td>0.431429</td>\n      <td>0.026827</td>\n      <td>0.001000</td>\n      <td>0.137738</td>\n      <td>1.277234</td>\n      <td>14.223978</td>\n      <td>0.449520</td>\n      <td>0.127738</td>\n      <td>1.897061</td>\n      <td>0.390019</td>\n    </tr>\n  </tbody>\n</table>\n</div>"
     },
     "execution_count": 118,
     "metadata": {},
     "output_type": "execute_result"
    }
   ],
   "source": [
    "pd.concat(results_1, axis=0)"
   ],
   "metadata": {
    "collapsed": false,
    "pycharm": {
     "name": "#%%\n"
    }
   }
  },
  {
   "cell_type": "code",
   "execution_count": 119,
   "outputs": [
    {
     "data": {
      "text/plain": "   gamma  min_train_err_cv  l1_train_cv  l2_train_cv  ll_pen_train_cv  \\\n0    1.0          0.546427     0.071969          0.0         0.298821   \n0    1.0          0.393255     0.037276          0.0         0.162812   \n0    1.0          0.303125     0.013895          0.0         0.054813   \n0    1.0          0.373508     0.037276          0.0         0.137671   \n0    1.0          0.431687     0.026827          0.0         0.119551   \n\n   l1_pen_train_cv  l2_pen_train_cv  test_err  ll_pen_test  l1_pen_test  \\\n0         1.121666         6.595445  0.529325     0.317692     1.313607   \n0         1.679026        13.713911  0.472658     0.178029     1.919116   \n0         2.030914        35.316525  0.323353     0.059371     1.755817   \n0         1.795740        19.944724  0.361165     0.170643     1.424740   \n0         1.741318        20.200387  0.393108     0.139995     1.510862   \n\n   l2_pen_test  \n0     0.117143  \n0     0.280012  \n0     0.600660  \n0     0.300245  \n0     0.354655  ",
      "text/html": "<div>\n<style scoped>\n    .dataframe tbody tr th:only-of-type {\n        vertical-align: middle;\n    }\n\n    .dataframe tbody tr th {\n        vertical-align: top;\n    }\n\n    .dataframe thead th {\n        text-align: right;\n    }\n</style>\n<table border=\"1\" class=\"dataframe\">\n  <thead>\n    <tr style=\"text-align: right;\">\n      <th></th>\n      <th>gamma</th>\n      <th>min_train_err_cv</th>\n      <th>l1_train_cv</th>\n      <th>l2_train_cv</th>\n      <th>ll_pen_train_cv</th>\n      <th>l1_pen_train_cv</th>\n      <th>l2_pen_train_cv</th>\n      <th>test_err</th>\n      <th>ll_pen_test</th>\n      <th>l1_pen_test</th>\n      <th>l2_pen_test</th>\n    </tr>\n  </thead>\n  <tbody>\n    <tr>\n      <th>0</th>\n      <td>1.0</td>\n      <td>0.546427</td>\n      <td>0.071969</td>\n      <td>0.0</td>\n      <td>0.298821</td>\n      <td>1.121666</td>\n      <td>6.595445</td>\n      <td>0.529325</td>\n      <td>0.317692</td>\n      <td>1.313607</td>\n      <td>0.117143</td>\n    </tr>\n    <tr>\n      <th>0</th>\n      <td>1.0</td>\n      <td>0.393255</td>\n      <td>0.037276</td>\n      <td>0.0</td>\n      <td>0.162812</td>\n      <td>1.679026</td>\n      <td>13.713911</td>\n      <td>0.472658</td>\n      <td>0.178029</td>\n      <td>1.919116</td>\n      <td>0.280012</td>\n    </tr>\n    <tr>\n      <th>0</th>\n      <td>1.0</td>\n      <td>0.303125</td>\n      <td>0.013895</td>\n      <td>0.0</td>\n      <td>0.054813</td>\n      <td>2.030914</td>\n      <td>35.316525</td>\n      <td>0.323353</td>\n      <td>0.059371</td>\n      <td>1.755817</td>\n      <td>0.600660</td>\n    </tr>\n    <tr>\n      <th>0</th>\n      <td>1.0</td>\n      <td>0.373508</td>\n      <td>0.037276</td>\n      <td>0.0</td>\n      <td>0.137671</td>\n      <td>1.795740</td>\n      <td>19.944724</td>\n      <td>0.361165</td>\n      <td>0.170643</td>\n      <td>1.424740</td>\n      <td>0.300245</td>\n    </tr>\n    <tr>\n      <th>0</th>\n      <td>1.0</td>\n      <td>0.431687</td>\n      <td>0.026827</td>\n      <td>0.0</td>\n      <td>0.119551</td>\n      <td>1.741318</td>\n      <td>20.200387</td>\n      <td>0.393108</td>\n      <td>0.139995</td>\n      <td>1.510862</td>\n      <td>0.354655</td>\n    </tr>\n  </tbody>\n</table>\n</div>"
     },
     "execution_count": 119,
     "metadata": {},
     "output_type": "execute_result"
    }
   ],
   "source": [
    "pd.concat(results_2, axis=0)"
   ],
   "metadata": {
    "collapsed": false,
    "pycharm": {
     "name": "#%%\n"
    }
   }
  },
  {
   "cell_type": "markdown",
   "source": [
    "Sample repeatedly from the distribution and compare with and without penalty. For penalty version, use $\\gamma$ = 1, $\\Vert\\beta\\Vert^{1}$ and $\\mathbf{}{f}^{T}\\mathbf{}{L}\\mathbf{}{f}$ penalty"
   ],
   "metadata": {
    "collapsed": false,
    "pycharm": {
     "name": "#%% md\n"
    }
   }
  },
  {
   "cell_type": "code",
   "execution_count": 127,
   "outputs": [
    {
     "name": "stdout",
     "output_type": "stream",
     "text": [
      "[2022-02-15 12:49:52.995948] - Sim 1...\n",
      "[2022-02-15 12:49:53.151934] - gamma - 1.00\n",
      "Min l1: 0.019306977288832496, CV Error: 0.4995770987730544, Test error: 0.40475702347860726\n",
      "ll_pen_train: 0.09233709139114894, l1_pen_train: 0.9334474578729667\n",
      "[2022-02-15 12:50:04.650773] - gamma - 1.00\n",
      "Min l1: 0.013894954943731374, Min l2: 0.00026826957952797245, CV Error: 0.5048992510596497, Test error: 0.3976275449905055\n",
      "ll_pen_train: 0.07046898438398988, l1_pen_train: 1.01920459921699, l2_pen_train: 19.651167519143662\n",
      "[2022-02-15 12:55:32.111657] - Sim 2...\n",
      "[2022-02-15 12:55:32.273129] - gamma - 1.00\n",
      "Min l1: 0.01, CV Error: 0.3724126062691443, Test error: 0.35879384759259425\n",
      "ll_pen_train: 0.046977706980430974, l1_pen_train: 1.1725613084970283\n",
      "[2022-02-15 12:55:43.483055] - gamma - 1.00\n",
      "Min l1: 0.01, Min l2: 0.0001, CV Error: 0.3758397790908185, Test error: 0.35878537654602555\n",
      "ll_pen_train: 0.04865228788776573, l1_pen_train: 1.1478121283969553, l2_pen_train: 29.02778929392067\n",
      "[2022-02-15 13:01:00.103476] - Sim 3...\n",
      "[2022-02-15 13:01:00.275295] - gamma - 1.00\n",
      "Min l1: 0.01, CV Error: 0.3235879525921779, Test error: 0.33716912430417706\n",
      "ll_pen_train: 0.04847033589332937, l1_pen_train: 1.2086049757290653\n",
      "[2022-02-15 13:01:11.999907] - gamma - 1.00\n",
      "Min l1: 0.01, Min l2: 0.0001, CV Error: 0.33034835255478345, Test error: 0.3385757872975779\n",
      "ll_pen_train: 0.05070193640349076, l1_pen_train: 1.1790342294107183, l2_pen_train: 28.782550917771864\n",
      "[2022-02-15 13:06:35.371597] - Sim 4...\n",
      "[2022-02-15 13:06:35.532250] - gamma - 1.00\n",
      "Min l1: 0.01, CV Error: 0.42628562151270827, Test error: 0.4834803037839911\n",
      "ll_pen_train: 0.04973306869576174, l1_pen_train: 1.225947277443228\n",
      "[2022-02-15 13:06:46.694624] - gamma - 1.00\n",
      "Min l1: 0.01, Min l2: 0.0003727593720314938, CV Error: 0.4245384671457308, Test error: 0.49387052420307187\n",
      "ll_pen_train: 0.05600980231596764, l1_pen_train: 1.192742578060275, l2_pen_train: 26.701816709375088\n",
      "[2022-02-15 13:12:06.126221] - Sim 5...\n",
      "[2022-02-15 13:12:06.419519] - gamma - 1.00\n",
      "Min l1: 0.01, CV Error: 0.405549857057543, Test error: 0.37663146028856276\n",
      "ll_pen_train: 0.04745916294480888, l1_pen_train: 1.2078081871957407\n",
      "[2022-02-15 13:12:18.177339] - gamma - 1.00\n",
      "Min l1: 0.01, Min l2: 0.0001, CV Error: 0.40956298976085553, Test error: 0.37731949029304923\n",
      "ll_pen_train: 0.049344534089262315, l1_pen_train: 1.189178124097165, l2_pen_train: 30.22012480576664\n",
      "[2022-02-15 13:17:39.662123] - Sim 6...\n",
      "[2022-02-15 13:17:39.806630] - gamma - 1.00\n",
      "Min l1: 0.019306977288832496, CV Error: 0.46030215198138363, Test error: 0.41286425255301656\n",
      "ll_pen_train: 0.09425981805242126, l1_pen_train: 0.9418289117854238\n",
      "[2022-02-15 13:17:51.290691] - gamma - 1.00\n",
      "Min l1: 0.019306977288832496, Min l2: 0.00019306977288832496, CV Error: 0.4596515507217558, Test error: 0.4055833496392576\n",
      "ll_pen_train: 0.096052866259447, l1_pen_train: 0.9424183219364926, l2_pen_train: 18.58921732286883\n",
      "[2022-02-15 13:23:18.656118] - Sim 7...\n",
      "[2022-02-15 13:23:18.827643] - gamma - 1.00\n",
      "Min l1: 0.019306977288832496, CV Error: 0.5146250809375629, Test error: 0.4197269717271927\n",
      "ll_pen_train: 0.09765811510597, l1_pen_train: 0.9110810919439093\n",
      "[2022-02-15 13:23:30.540034] - gamma - 1.00\n",
      "Min l1: 0.02682695795279726, Min l2: 0.00019306977288832496, CV Error: 0.5132076160565058, Test error: 0.42900256650929935\n",
      "ll_pen_train: 0.13883184273003663, l1_pen_train: 0.7851830974066958, l2_pen_train: 13.237749142638416\n",
      "[2022-02-15 13:28:55.267990] - Sim 8...\n",
      "[2022-02-15 13:28:55.475846] - gamma - 1.00\n",
      "Min l1: 0.01, CV Error: 0.41006527544455357, Test error: 0.41583495385809977\n",
      "ll_pen_train: 0.04795122121886164, l1_pen_train: 1.1291837584344748\n",
      "[2022-02-15 13:29:07.084764] - gamma - 1.00\n",
      "Min l1: 0.01, Min l2: 0.0001, CV Error: 0.4109344454503171, Test error: 0.4175467972058001\n",
      "ll_pen_train: 0.05018340327437213, l1_pen_train: 1.1187703698498166, l2_pen_train: 26.845161143378117\n",
      "[2022-02-15 13:34:24.765207] - Sim 9...\n",
      "[2022-02-15 13:34:24.944704] - gamma - 1.00\n",
      "Min l1: 0.01, CV Error: 0.44845745632941886, Test error: 0.37725532679498813\n",
      "ll_pen_train: 0.04914726594435953, l1_pen_train: 1.2085252161658167\n",
      "[2022-02-15 13:34:36.137739] - gamma - 1.00\n",
      "Min l1: 0.01, Min l2: 0.00026826957952797245, CV Error: 0.4453618183798637, Test error: 0.37690901623254214\n",
      "ll_pen_train: 0.05327536798569353, l1_pen_train: 1.1810983552794199, l2_pen_train: 26.937691957367264\n",
      "[2022-02-15 13:40:01.438025] - Sim 10...\n",
      "[2022-02-15 13:40:01.580879] - gamma - 1.00\n",
      "Min l1: 0.01, CV Error: 0.35592663561486215, Test error: 0.38441564491825575\n",
      "ll_pen_train: 0.04483459477038111, l1_pen_train: 1.1602472056532267\n",
      "[2022-02-15 13:40:12.739453] - gamma - 1.00\n",
      "Min l1: 0.01, Min l2: 0.0001, CV Error: 0.3567654738589338, Test error: 0.38367197405398257\n",
      "ll_pen_train: 0.047239034096839876, l1_pen_train: 1.1209527406159785, l2_pen_train: 26.91817448296939\n",
      "Done\n"
     ]
    }
   ],
   "source": [
    "from notebooks.manifold_reg.logging import *\n",
    "from notebooks.manifold_reg.grad_util import *\n",
    "import warnings\n",
    "import traceback\n",
    "\n",
    "warnings.filterwarnings('ignore')\n",
    "results_1 = []\n",
    "results_2 = []\n",
    "\n",
    "n_sim = 10\n",
    "beta_vals_1 = np.zeros((n_sim, 1, X_train.shape[1]))\n",
    "beta_vals_2 = np.zeros((n_sim, 1, X_train.shape[1]))\n",
    "\n",
    "gamma = np.array([1.0])\n",
    "for i in range(n_sim):\n",
    "    try:\n",
    "        log_msg(f\"[{datetime.now()}] - Sim {i + 1}...\")\n",
    "        X_exp, beta_exp, y_log_exp = generate_log_data(200, 10, tf_on=4, val_tf=[5, 5, 5, 5], n=200)\n",
    "        X_train_exp, X_test_exp, y_train_exp, y_test_exp = train_test_split(X_exp, y_log_exp, test_size=0.5, stratify=y_log_exp)\n",
    "\n",
    "        train_errs_cv_2, test_errs_2, train_ll_pen_2, test_ll_pen_2, \\\n",
    "        train_l1_pen_2, test_l1_pen_2, min_l1_vals_2, beta_vals_2[i] = run_logisitic_reg_exp(X_train_exp, X_test_exp, y_train_exp, y_test_exp, assoc_mat, gamma, l1_vals, None, l2_norm=False)\n",
    "\n",
    "        res_no_pen_df = build_table_from_log(gamma, train_errs_cv_2, test_errs_2, train_ll_pen_2, test_ll_pen_2,\n",
    "                                        train_l1_pen_2, test_l1_pen_2, min_l1_vals_2, lap=False)\n",
    "\n",
    "        train_errs_cv_1, test_errs_1, train_ll_pen_1, test_ll_pen_1, \\\n",
    "        train_l1_pen_1, test_l1_pen_1, train_l2_pen_1, test_l2_pen_1, min_l1_vals_1, min_l2_vals_1, beta_vals_1[i] = run_logisitic_reg_exp(X_train_exp, X_test_exp, y_train_exp, y_test_exp, assoc_mat, gamma, l1_vals, l2_vals, l2_norm=False)\n",
    "\n",
    "        res_pen_df = build_table_from_log(gamma, train_errs_cv_1, test_errs_1, train_ll_pen_1, test_ll_pen_1,\n",
    "                                        train_l1_pen_1, test_l1_pen_1, train_l2_pen_1, test_l2_pen_1, min_l1_vals_1, min_l2_vals_1)\n",
    "\n",
    "\n",
    "        results_1.append(res_pen_df)\n",
    "        results_2.append(res_no_pen_df)\n",
    "    except Exception as e:\n",
    "        log_msg(\"Oh, no! An error occurred. Here is the error message\")\n",
    "        log_msg(traceback.format_exc())\n",
    "\n",
    "log_msg(\"Done\")"
   ],
   "metadata": {
    "collapsed": false,
    "pycharm": {
     "name": "#%%\n"
    }
   }
  },
  {
   "cell_type": "code",
   "execution_count": 148,
   "outputs": [
    {
     "data": {
      "text/plain": "   gamma  min_train_err_cv  l1_train_cv  l2_train_cv  ll_pen_train_cv  \\\n0    1.0          0.504899     0.013895     0.000268         0.070469   \n0    1.0          0.375840     0.010000     0.000100         0.048652   \n0    1.0          0.330348     0.010000     0.000100         0.050702   \n0    1.0          0.424538     0.010000     0.000373         0.056010   \n0    1.0          0.409563     0.010000     0.000100         0.049345   \n0    1.0          0.459652     0.019307     0.000193         0.096053   \n0    1.0          0.513208     0.026827     0.000193         0.138832   \n0    1.0          0.410934     0.010000     0.000100         0.050183   \n0    1.0          0.445362     0.010000     0.000268         0.053275   \n0    1.0          0.356765     0.010000     0.000100         0.047239   \n\n   l1_pen_train_cv  l2_pen_train_cv  test_err  ll_pen_test  l1_pen_test  \\\n0         1.019205        19.651168  0.397628     0.076828     1.103057   \n0         1.147812        29.027789  0.358785     0.051904     1.236028   \n0         1.179034        28.782551  0.338576     0.054060     1.250074   \n0         1.192743        26.701817  0.493871     0.055506     1.287094   \n0         1.189178        30.220125  0.377319     0.053757     1.251082   \n0         0.942418        18.589217  0.405583     0.107933     0.978107   \n0         0.785183        13.237749  0.429003     0.151085     0.827035   \n0         1.118770        26.845161  0.417547     0.053893     1.190685   \n0         1.181098        26.937692  0.376909     0.053344     1.330364   \n0         1.120953        26.918174  0.383672     0.051681     1.160796   \n\n   l2_pen_test  \n0     0.356727  \n0     0.586862  \n0     0.613571  \n0     0.590974  \n0     0.632104  \n0     0.367659  \n0     0.264538  \n0     0.521207  \n0     0.555958  \n0     0.494754  ",
      "text/html": "<div>\n<style scoped>\n    .dataframe tbody tr th:only-of-type {\n        vertical-align: middle;\n    }\n\n    .dataframe tbody tr th {\n        vertical-align: top;\n    }\n\n    .dataframe thead th {\n        text-align: right;\n    }\n</style>\n<table border=\"1\" class=\"dataframe\">\n  <thead>\n    <tr style=\"text-align: right;\">\n      <th></th>\n      <th>gamma</th>\n      <th>min_train_err_cv</th>\n      <th>l1_train_cv</th>\n      <th>l2_train_cv</th>\n      <th>ll_pen_train_cv</th>\n      <th>l1_pen_train_cv</th>\n      <th>l2_pen_train_cv</th>\n      <th>test_err</th>\n      <th>ll_pen_test</th>\n      <th>l1_pen_test</th>\n      <th>l2_pen_test</th>\n    </tr>\n  </thead>\n  <tbody>\n    <tr>\n      <th>0</th>\n      <td>1.0</td>\n      <td>0.504899</td>\n      <td>0.013895</td>\n      <td>0.000268</td>\n      <td>0.070469</td>\n      <td>1.019205</td>\n      <td>19.651168</td>\n      <td>0.397628</td>\n      <td>0.076828</td>\n      <td>1.103057</td>\n      <td>0.356727</td>\n    </tr>\n    <tr>\n      <th>0</th>\n      <td>1.0</td>\n      <td>0.375840</td>\n      <td>0.010000</td>\n      <td>0.000100</td>\n      <td>0.048652</td>\n      <td>1.147812</td>\n      <td>29.027789</td>\n      <td>0.358785</td>\n      <td>0.051904</td>\n      <td>1.236028</td>\n      <td>0.586862</td>\n    </tr>\n    <tr>\n      <th>0</th>\n      <td>1.0</td>\n      <td>0.330348</td>\n      <td>0.010000</td>\n      <td>0.000100</td>\n      <td>0.050702</td>\n      <td>1.179034</td>\n      <td>28.782551</td>\n      <td>0.338576</td>\n      <td>0.054060</td>\n      <td>1.250074</td>\n      <td>0.613571</td>\n    </tr>\n    <tr>\n      <th>0</th>\n      <td>1.0</td>\n      <td>0.424538</td>\n      <td>0.010000</td>\n      <td>0.000373</td>\n      <td>0.056010</td>\n      <td>1.192743</td>\n      <td>26.701817</td>\n      <td>0.493871</td>\n      <td>0.055506</td>\n      <td>1.287094</td>\n      <td>0.590974</td>\n    </tr>\n    <tr>\n      <th>0</th>\n      <td>1.0</td>\n      <td>0.409563</td>\n      <td>0.010000</td>\n      <td>0.000100</td>\n      <td>0.049345</td>\n      <td>1.189178</td>\n      <td>30.220125</td>\n      <td>0.377319</td>\n      <td>0.053757</td>\n      <td>1.251082</td>\n      <td>0.632104</td>\n    </tr>\n    <tr>\n      <th>0</th>\n      <td>1.0</td>\n      <td>0.459652</td>\n      <td>0.019307</td>\n      <td>0.000193</td>\n      <td>0.096053</td>\n      <td>0.942418</td>\n      <td>18.589217</td>\n      <td>0.405583</td>\n      <td>0.107933</td>\n      <td>0.978107</td>\n      <td>0.367659</td>\n    </tr>\n    <tr>\n      <th>0</th>\n      <td>1.0</td>\n      <td>0.513208</td>\n      <td>0.026827</td>\n      <td>0.000193</td>\n      <td>0.138832</td>\n      <td>0.785183</td>\n      <td>13.237749</td>\n      <td>0.429003</td>\n      <td>0.151085</td>\n      <td>0.827035</td>\n      <td>0.264538</td>\n    </tr>\n    <tr>\n      <th>0</th>\n      <td>1.0</td>\n      <td>0.410934</td>\n      <td>0.010000</td>\n      <td>0.000100</td>\n      <td>0.050183</td>\n      <td>1.118770</td>\n      <td>26.845161</td>\n      <td>0.417547</td>\n      <td>0.053893</td>\n      <td>1.190685</td>\n      <td>0.521207</td>\n    </tr>\n    <tr>\n      <th>0</th>\n      <td>1.0</td>\n      <td>0.445362</td>\n      <td>0.010000</td>\n      <td>0.000268</td>\n      <td>0.053275</td>\n      <td>1.181098</td>\n      <td>26.937692</td>\n      <td>0.376909</td>\n      <td>0.053344</td>\n      <td>1.330364</td>\n      <td>0.555958</td>\n    </tr>\n    <tr>\n      <th>0</th>\n      <td>1.0</td>\n      <td>0.356765</td>\n      <td>0.010000</td>\n      <td>0.000100</td>\n      <td>0.047239</td>\n      <td>1.120953</td>\n      <td>26.918174</td>\n      <td>0.383672</td>\n      <td>0.051681</td>\n      <td>1.160796</td>\n      <td>0.494754</td>\n    </tr>\n  </tbody>\n</table>\n</div>"
     },
     "execution_count": 148,
     "metadata": {},
     "output_type": "execute_result"
    }
   ],
   "source": [
    "#Fix argument mismatch in column names when building the dataframe\n",
    "# results_1_pen_df[\"l1_train_cv\"] = results_1_pen_df_cp[\"l2_pen_test\"]\n",
    "# results_1_pen_df[\"l2_pen_train_cv\"] = results_1_pen_df_cp[\"l1_train_cv\"]\n",
    "# results_1_pen_df[\"l2_pen_test\"] = results_1_pen_df_cp[\"l2_pen_train_cv\"]\n",
    "\n",
    "results_1_pen_df"
   ],
   "metadata": {
    "collapsed": false,
    "pycharm": {
     "name": "#%%\n"
    }
   }
  },
  {
   "cell_type": "code",
   "execution_count": 215,
   "outputs": [
    {
     "data": {
      "text/plain": "gamma                1.000000\nmin_train_err_cv     0.423111\nl1_train_cv          0.013003\nl2_train_cv          0.000180\nll_pen_train_cv      0.066076\nl1_pen_train_cv      1.087639\nl2_pen_train_cv     24.691144\ntest_err             0.397889\nll_pen_test          0.070999\nl1_pen_test          1.161432\nl2_pen_test          0.498435\ndtype: float64"
     },
     "execution_count": 215,
     "metadata": {},
     "output_type": "execute_result"
    }
   ],
   "source": [
    "results_1_pen_df.mean(axis=0)"
   ],
   "metadata": {
    "collapsed": false,
    "pycharm": {
     "name": "#%%\n"
    }
   }
  },
  {
   "cell_type": "code",
   "execution_count": 150,
   "outputs": [
    {
     "data": {
      "text/plain": "   gamma  min_train_err_cv  l1_train_cv  ll_pen_train_cv  l1_pen_train_cv  \\\n0    1.0          0.499577     0.019307         0.092337         0.933447   \n0    1.0          0.372413     0.010000         0.046978         1.172561   \n0    1.0          0.323588     0.010000         0.048470         1.208605   \n0    1.0          0.426286     0.010000         0.049733         1.225947   \n0    1.0          0.405550     0.010000         0.047459         1.207808   \n0    1.0          0.460302     0.019307         0.094260         0.941829   \n0    1.0          0.514625     0.019307         0.097658         0.911081   \n0    1.0          0.410065     0.010000         0.047951         1.129184   \n0    1.0          0.448457     0.010000         0.049147         1.208525   \n0    1.0          0.355927     0.010000         0.044835         1.160247   \n\n   test_err  ll_pen_test  l1_pen_test  \n0  0.404757     0.105848     0.957003  \n0  0.358794     0.054614     1.157021  \n0  0.337169     0.053569     1.263886  \n0  0.483480     0.051508     1.439411  \n0  0.376631     0.053699     1.254168  \n0  0.412864     0.112857     0.918593  \n0  0.419727     0.108605     0.992744  \n0  0.415835     0.052916     1.233929  \n0  0.377255     0.052594     1.331495  \n0  0.384416     0.051445     1.162801  ",
      "text/html": "<div>\n<style scoped>\n    .dataframe tbody tr th:only-of-type {\n        vertical-align: middle;\n    }\n\n    .dataframe tbody tr th {\n        vertical-align: top;\n    }\n\n    .dataframe thead th {\n        text-align: right;\n    }\n</style>\n<table border=\"1\" class=\"dataframe\">\n  <thead>\n    <tr style=\"text-align: right;\">\n      <th></th>\n      <th>gamma</th>\n      <th>min_train_err_cv</th>\n      <th>l1_train_cv</th>\n      <th>ll_pen_train_cv</th>\n      <th>l1_pen_train_cv</th>\n      <th>test_err</th>\n      <th>ll_pen_test</th>\n      <th>l1_pen_test</th>\n    </tr>\n  </thead>\n  <tbody>\n    <tr>\n      <th>0</th>\n      <td>1.0</td>\n      <td>0.499577</td>\n      <td>0.019307</td>\n      <td>0.092337</td>\n      <td>0.933447</td>\n      <td>0.404757</td>\n      <td>0.105848</td>\n      <td>0.957003</td>\n    </tr>\n    <tr>\n      <th>0</th>\n      <td>1.0</td>\n      <td>0.372413</td>\n      <td>0.010000</td>\n      <td>0.046978</td>\n      <td>1.172561</td>\n      <td>0.358794</td>\n      <td>0.054614</td>\n      <td>1.157021</td>\n    </tr>\n    <tr>\n      <th>0</th>\n      <td>1.0</td>\n      <td>0.323588</td>\n      <td>0.010000</td>\n      <td>0.048470</td>\n      <td>1.208605</td>\n      <td>0.337169</td>\n      <td>0.053569</td>\n      <td>1.263886</td>\n    </tr>\n    <tr>\n      <th>0</th>\n      <td>1.0</td>\n      <td>0.426286</td>\n      <td>0.010000</td>\n      <td>0.049733</td>\n      <td>1.225947</td>\n      <td>0.483480</td>\n      <td>0.051508</td>\n      <td>1.439411</td>\n    </tr>\n    <tr>\n      <th>0</th>\n      <td>1.0</td>\n      <td>0.405550</td>\n      <td>0.010000</td>\n      <td>0.047459</td>\n      <td>1.207808</td>\n      <td>0.376631</td>\n      <td>0.053699</td>\n      <td>1.254168</td>\n    </tr>\n    <tr>\n      <th>0</th>\n      <td>1.0</td>\n      <td>0.460302</td>\n      <td>0.019307</td>\n      <td>0.094260</td>\n      <td>0.941829</td>\n      <td>0.412864</td>\n      <td>0.112857</td>\n      <td>0.918593</td>\n    </tr>\n    <tr>\n      <th>0</th>\n      <td>1.0</td>\n      <td>0.514625</td>\n      <td>0.019307</td>\n      <td>0.097658</td>\n      <td>0.911081</td>\n      <td>0.419727</td>\n      <td>0.108605</td>\n      <td>0.992744</td>\n    </tr>\n    <tr>\n      <th>0</th>\n      <td>1.0</td>\n      <td>0.410065</td>\n      <td>0.010000</td>\n      <td>0.047951</td>\n      <td>1.129184</td>\n      <td>0.415835</td>\n      <td>0.052916</td>\n      <td>1.233929</td>\n    </tr>\n    <tr>\n      <th>0</th>\n      <td>1.0</td>\n      <td>0.448457</td>\n      <td>0.010000</td>\n      <td>0.049147</td>\n      <td>1.208525</td>\n      <td>0.377255</td>\n      <td>0.052594</td>\n      <td>1.331495</td>\n    </tr>\n    <tr>\n      <th>0</th>\n      <td>1.0</td>\n      <td>0.355927</td>\n      <td>0.010000</td>\n      <td>0.044835</td>\n      <td>1.160247</td>\n      <td>0.384416</td>\n      <td>0.051445</td>\n      <td>1.162801</td>\n    </tr>\n  </tbody>\n</table>\n</div>"
     },
     "execution_count": 150,
     "metadata": {},
     "output_type": "execute_result"
    }
   ],
   "source": [
    "results_2_pen_df = pd.concat(results_2, axis=0)\n",
    "results_2_pen_df"
   ],
   "metadata": {
    "collapsed": false,
    "pycharm": {
     "name": "#%%\n"
    }
   }
  },
  {
   "cell_type": "code",
   "execution_count": 213,
   "outputs": [
    {
     "data": {
      "text/plain": "gamma               1.000000\nmin_train_err_cv    0.421679\nl1_train_cv         0.012792\nll_pen_train_cv     0.061883\nl1_pen_train_cv     1.109924\ntest_err            0.397093\nll_pen_test         0.069765\nl1_pen_test         1.171105\ndtype: float64"
     },
     "execution_count": 213,
     "metadata": {},
     "output_type": "execute_result"
    }
   ],
   "source": [
    "results_2_pen_df.mean(axis=0)"
   ],
   "metadata": {
    "collapsed": false,
    "pycharm": {
     "name": "#%%\n"
    }
   }
  },
  {
   "cell_type": "code",
   "execution_count": 158,
   "outputs": [
    {
     "data": {
      "text/plain": "<matplotlib.legend.Legend at 0x7f1b7d9e7d60>"
     },
     "execution_count": 158,
     "metadata": {},
     "output_type": "execute_result"
    },
    {
     "data": {
      "text/plain": "<Figure size 1152x576 with 2 Axes>",
      "image/png": "[encoded data removed]"
     },
     "metadata": {
      "needs_background": "light"
     },
     "output_type": "display_data"
    }
   ],
   "source": [
    "fig, ax = plt.subplots(nrows=1, ncols=2, figsize=(16, 8))\n",
    "\n",
    "r = np.arange(1, 11)\n",
    "ax[0].plot(r, results_1_pen_df[\"min_train_err_cv\"], color=\"blue\", label=\"with pen\")\n",
    "ax[0].plot(r, results_2_pen_df[\"min_train_err_cv\"], color=\"red\", label=\"w/o pen\")\n",
    "ax[0].set_xlabel(r\"run\", fontsize=16)\n",
    "ax[0].set_ylabel(r\"log_loss\", fontsize=16)\n",
    "ax[0].set_title(\"Train Error\")\n",
    "ax[0].legend()\n",
    "\n",
    "ax[1].plot(r, results_1_pen_df[\"test_err\"], color=\"blue\", label=\"with pen\")\n",
    "ax[1].plot(r, results_2_pen_df[\"test_err\"], color=\"red\", label=\"w/o pen\")\n",
    "ax[1].set_xlabel(r\"run\", fontsize=16)\n",
    "ax[1].set_ylabel(r\"log_loss\", fontsize=16)\n",
    "ax[1].set_title(\"Test Error\")\n",
    "ax[1].legend()"
   ],
   "metadata": {
    "collapsed": false,
    "pycharm": {
     "name": "#%%\n"
    }
   }
  },
  {
   "cell_type": "code",
   "execution_count": 161,
   "outputs": [
    {
     "name": "stdout",
     "output_type": "stream",
     "text": [
      "[2022-02-15 17:57:46.828302] - gamma - 1.00\n",
      "Min l1: 0.01, Min l2: 1.0, CV Error: 0.6736272002738996, Test error: 0.46354633174518384\n",
      "ll_pen_train: 0.6457429023772312, l1_pen_train: 0.05163624693630585, l2_pen_train: 0.01934741413377603\n"
     ]
    }
   ],
   "source": [
    "train_errs_cv, test_errs, train_ll_pen, test_ll_pen, \\\n",
    "    train_l1_pen, test_l1_pen, train_l2_pen, test_l2_pen, min_l1_vals, min_l2_vals, beta_val_3 = run_logisitic_reg_exp(X_train, X_test, y_train, y_test, assoc_mat, np.array([1.0]), l1_vals, np.logspace(0, 3, n_iter), l2_norm=False)\n",
    "\n",
    "res_6_df = build_table_from_log(gamma, train_errs_cv, test_errs, train_ll_pen, test_ll_pen,\n",
    "                                        train_l1_pen, test_l1_pen, min_l1_vals, train_l2_pen, test_l2_pen, min_l2_vals)"
   ],
   "metadata": {
    "collapsed": false,
    "pycharm": {
     "name": "#%%\n"
    }
   }
  },
  {
   "cell_type": "code",
   "execution_count": 209,
   "outputs": [],
   "source": [
    "perfect_ll_train = np.zeros(100)\n",
    "perfect_ll_test = np.zeros(100)\n",
    "\n",
    "X_gen = np.zeros((n_sim, 10, 2200))\n",
    "y_gen = np.zeros((n_sim, 12))\n",
    "\n",
    "for i in range(100):\n",
    "    X_exp, beta_exp, y_log_exp = generate_log_data(200, 10, tf_on=4, val_tf=[5, 5, 5, 5], n=200)\n",
    "    # X_gen[i] = X_exp\n",
    "    X_train_exp, X_test_exp, y_train_exp, y_test_exp = train_test_split(X_exp, y_log_exp, test_size=0.5, shuffle=True)\n",
    "\n",
    "    p_train = sigmoid(X_train_exp @ beta_exp)\n",
    "    p_test = sigmoid(X_test_exp @ beta_exp)\n",
    "\n",
    "    perfect_ll_train[i] = log_loss(y_train_exp, p_train)\n",
    "    perfect_ll_test[i] = log_loss(y_test_exp, p_test)"
   ],
   "metadata": {
    "collapsed": false,
    "pycharm": {
     "name": "#%%\n"
    }
   }
  },
  {
   "cell_type": "code",
   "execution_count": 210,
   "outputs": [
    {
     "data": {
      "text/plain": "[<matplotlib.lines.Line2D at 0x7f1b7b082b50>]"
     },
     "execution_count": 210,
     "metadata": {},
     "output_type": "execute_result"
    },
    {
     "data": {
      "text/plain": "<Figure size 432x288 with 1 Axes>",
      "image/png": "[encoded data removed]"
     },
     "metadata": {
      "needs_background": "light"
     },
     "output_type": "display_data"
    }
   ],
   "source": [
    "plt.plot(np.arange(0, 100), perfect_ll_train, color=\"blue\")\n",
    "plt.plot(np.arange(0, 100), perfect_ll_test, color=\"red\")"
   ],
   "metadata": {
    "collapsed": false,
    "pycharm": {
     "name": "#%%\n"
    }
   }
  },
  {
   "cell_type": "code",
   "execution_count": 211,
   "outputs": [
    {
     "data": {
      "text/plain": "0.33081152108049694"
     },
     "execution_count": 211,
     "metadata": {},
     "output_type": "execute_result"
    }
   ],
   "source": [
    "np.mean(perfect_ll_train)"
   ],
   "metadata": {
    "collapsed": false,
    "pycharm": {
     "name": "#%%\n"
    }
   }
  },
  {
   "cell_type": "code",
   "execution_count": 212,
   "outputs": [
    {
     "data": {
      "text/plain": "0.3231760212887346"
     },
     "execution_count": 212,
     "metadata": {},
     "output_type": "execute_result"
    }
   ],
   "source": [
    "np.mean(perfect_ll_test)"
   ],
   "metadata": {
    "collapsed": false,
    "pycharm": {
     "name": "#%%\n"
    }
   }
  },
  {
   "cell_type": "code",
   "execution_count": 178,
   "outputs": [
    {
     "data": {
      "text/plain": "False"
     },
     "execution_count": 178,
     "metadata": {},
     "output_type": "execute_result"
    }
   ],
   "source": [
    "np.allclose(y_gen[0], y_gen[2])"
   ],
   "metadata": {
    "collapsed": false,
    "pycharm": {
     "name": "#%%\n"
    }
   }
  },
  {
   "cell_type": "markdown",
   "source": [],
   "metadata": {
    "collapsed": false
   }
  }
 ],
 "metadata": {
  "kernelspec": {
   "display_name": "Python 3",
   "language": "python",
   "name": "python3"
  },
  "language_info": {
   "codemirror_mode": {
    "name": "ipython",
    "version": 2
   },
   "file_extension": ".py",
   "mimetype": "text/x-python",
   "name": "python",
   "nbconvert_exporter": "python",
   "pygments_lexer": "ipython2",
   "version": "2.7.6"
  }
 },
 "nbformat": 4,
 "nbformat_minor": 0
}