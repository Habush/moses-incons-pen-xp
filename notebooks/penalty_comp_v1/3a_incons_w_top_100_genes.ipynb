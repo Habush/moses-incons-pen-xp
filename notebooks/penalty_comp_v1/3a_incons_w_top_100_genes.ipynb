{
 "cells": [
  {
   "cell_type": "code",
   "execution_count": 139,
   "metadata": {
    "collapsed": true,
    "pycharm": {
     "name": "#%%\n"
    }
   },
   "outputs": [
    {
     "name": "stdout",
     "output_type": "stream",
     "text": [
      "/home/xabush/moses-incons-pen-xp\n",
      "The autoreload extension is already loaded. To reload it, use:\n",
      "  %reload_ext autoreload\n"
     ]
    }
   ],
   "source": [
    "%cd \"~/moses-incons-pen-xp\"\n",
    "%load_ext autoreload\n",
    "%autoreload 2"
   ]
  },
  {
   "cell_type": "code",
   "execution_count": 30,
   "outputs": [],
   "source": [
    "import pandas as pd\n",
    "import numpy as np\n",
    "import seaborn as sns\n",
    "import os\n",
    "from utils import *\n",
    "from dataset_utils import *\n",
    "import matplotlib.pyplot as plt\n",
    "import scipy\n",
    "import scipy.stats\n",
    "import stat"
   ],
   "metadata": {
    "collapsed": false,
    "pycharm": {
     "name": "#%%\n"
    }
   }
  },
  {
   "cell_type": "code",
   "execution_count": 3,
   "outputs": [
    {
     "name": "stdout",
     "output_type": "stream",
     "text": [
      "[9815, 3435, 4524, 9745, 1668, 9549, 7608, 6448, 9616, 32, 2763, 60, 6589, 1471, 6699, 9204, 2226, 3680, 2885, 7352, 9255, 2213, 2235, 3531, 2512, 7359, 1468, 457, 1672, 3982, 4409, 3542, 4226, 8640, 2741, 8476, 6291, 1754, 2347, 2853]\n"
     ]
    }
   ],
   "source": [
    "seeds = []\n",
    "\n",
    "with open(\"seeds.txt\", \"r\") as fp:\n",
    "    for line in fp:\n",
    "        seeds.append(int(line))\n",
    "\n",
    "print(seeds)"
   ],
   "metadata": {
    "collapsed": false,
    "pycharm": {
     "name": "#%%\n"
    }
   }
  },
  {
   "cell_type": "markdown",
   "source": [
    "- Load the results of the 5 experiments using 40 d/t random seeds:\n",
    "\n",
    "    1. No inconsistency penalty (cr = 3)\n",
    "    - Inconsistency penalty (cr = 3)\n",
    "    - No inconsistency penalty (cr = 6)\n",
    "    - Inconsistency penalty with diversity pressure (div-pressure = 0.7, cr=3)\n",
    "    - No Inconsistency penalty with diversity pressure (div-pressure = 0.7, cr=3)\n",
    "\n",
    "\n"
   ],
   "metadata": {
    "collapsed": false,
    "pycharm": {
     "name": "#%% md\n"
    }
   }
  },
  {
   "cell_type": "code",
   "execution_count": 4,
   "outputs": [],
   "source": [
    "exps = [\"exp_1_no_pen\", \"exp_2_pen\", \"exp_3_no_pen_c6\", \"exp_4_pen_div\", \"exp_5_no_pen_div\"]\n",
    "\n",
    "seed_exp = {}\n",
    "\n",
    "for seed in seeds:\n",
    "    seed_exp[seed] = []\n",
    "    for exp in exps:\n",
    "        seed_path = os.path.join(\"data/exps\", f\"{exp}/seed_{seed}\")\n",
    "        model_path = os.path.join(seed_path, \"combo_models.csv\")\n",
    "        df = pd.read_csv(model_path)\n",
    "        seed_exp[seed].append(df)"
   ],
   "metadata": {
    "collapsed": false,
    "pycharm": {
     "name": "#%%\n"
    }
   }
  },
  {
   "cell_type": "markdown",
   "source": [
    "Compare experiment 1 (no pen) and experiment 2 (pen)\n",
    "\n",
    "- Do normality test\n",
    "- if both scores normally distributed used Paired t-test, otherwise use Wilcoxon ranked test\n",
    "- Reject or Accept the null hypothesis (H0) - there is no difference between the mean/median of the two sets of scores"
   ],
   "metadata": {
    "collapsed": false,
    "pycharm": {
     "name": "#%% md\n"
    }
   }
  },
  {
   "cell_type": "code",
   "execution_count": 6,
   "outputs": [],
   "source": [
    "alpha = 0.05"
   ],
   "metadata": {
    "collapsed": false,
    "pycharm": {
     "name": "#%%\n"
    }
   }
  },
  {
   "cell_type": "code",
   "source": [
    "exp1 = {}\n",
    "exp2 = {}\n",
    "exp3 = {}\n",
    "exp4 = {}\n",
    "exp5 = {}\n",
    "\n",
    "for s in seed_exp:\n",
    "   exp1[s] = seed_exp[s][0]\n",
    "   exp2[s] = seed_exp[s][1]\n",
    "   exp3[s] = seed_exp[s][2]\n",
    "   exp4[s] = seed_exp[s][3]\n",
    "   exp5[s] = seed_exp[s][4]"
   ],
   "metadata": {
    "collapsed": false,
    "pycharm": {
     "name": "#%%\n"
    }
   },
   "execution_count": 121,
   "outputs": []
  },
  {
   "cell_type": "markdown",
   "source": [
    "Check Balanced accuracy score"
   ],
   "metadata": {
    "collapsed": false,
    "pycharm": {
     "name": "#%% md\n"
    }
   }
  },
  {
   "cell_type": "code",
   "execution_count": 140,
   "outputs": [
    {
     "name": "stdout",
     "output_type": "stream",
     "text": [
      "\n",
      "=========================== balanced_acc_train ===============================\n",
      "\n",
      "Two tailed test - 157/160 [98.125%] results are significant, (p_value < 0.05)\n",
      "exp1 < exp2 - 81/160 [50.625%] results are significant, (p_value < 0.05)\n",
      "exp1 > exp2 - 77/160 [48.125%] results are significant, (p_value < 0.05)\n",
      "\n",
      "=========================== balanced_acc_test ===============================\n",
      "\n",
      "Two tailed test - 158/160 [98.75%] results are significant, (p_value < 0.05)\n",
      "exp1 < exp2 - 78/160 [48.75%] results are significant, (p_value < 0.05)\n",
      "exp1 > exp2 - 80/160 [50.0%] results are significant, (p_value < 0.05)\n"
     ]
    },
    {
     "data": {
      "text/plain": "     seed  fold normal  test_statistic        p_value\n0    9815     0    Yes       64.215882  1.597310e-134\n1    9815     1    Yes      123.840732  1.538740e-189\n2    9815     2    Yes      -35.047307   7.721905e-87\n3    9815     3    Yes      -80.666116  2.068874e-153\n4    3435     0    Yes       -3.637266   3.514055e-04\n..    ...   ...    ...             ...            ...\n155  2347     3    Yes       -6.997967   3.925003e-11\n156  2853     0     No        0.000000   2.215728e-18\n157  2853     1    Yes      118.802702  5.144326e-186\n158  2853     2    Yes      -26.874370   5.611830e-68\n159  2853     3    Yes      -18.723853   1.081318e-45\n\n[160 rows x 5 columns]",
      "text/html": "<div>\n<style scoped>\n    .dataframe tbody tr th:only-of-type {\n        vertical-align: middle;\n    }\n\n    .dataframe tbody tr th {\n        vertical-align: top;\n    }\n\n    .dataframe thead th {\n        text-align: right;\n    }\n</style>\n<table border=\"1\" class=\"dataframe\">\n  <thead>\n    <tr style=\"text-align: right;\">\n      <th></th>\n      <th>seed</th>\n      <th>fold</th>\n      <th>normal</th>\n      <th>test_statistic</th>\n      <th>p_value</th>\n    </tr>\n  </thead>\n  <tbody>\n    <tr>\n      <th>0</th>\n      <td>9815</td>\n      <td>0</td>\n      <td>Yes</td>\n      <td>64.215882</td>\n      <td>1.597310e-134</td>\n    </tr>\n    <tr>\n      <th>1</th>\n      <td>9815</td>\n      <td>1</td>\n      <td>Yes</td>\n      <td>123.840732</td>\n      <td>1.538740e-189</td>\n    </tr>\n    <tr>\n      <th>2</th>\n      <td>9815</td>\n      <td>2</td>\n      <td>Yes</td>\n      <td>-35.047307</td>\n      <td>7.721905e-87</td>\n    </tr>\n    <tr>\n      <th>3</th>\n      <td>9815</td>\n      <td>3</td>\n      <td>Yes</td>\n      <td>-80.666116</td>\n      <td>2.068874e-153</td>\n    </tr>\n    <tr>\n      <th>4</th>\n      <td>3435</td>\n      <td>0</td>\n      <td>Yes</td>\n      <td>-3.637266</td>\n      <td>3.514055e-04</td>\n    </tr>\n    <tr>\n      <th>...</th>\n      <td>...</td>\n      <td>...</td>\n      <td>...</td>\n      <td>...</td>\n      <td>...</td>\n    </tr>\n    <tr>\n      <th>155</th>\n      <td>2347</td>\n      <td>3</td>\n      <td>Yes</td>\n      <td>-6.997967</td>\n      <td>3.925003e-11</td>\n    </tr>\n    <tr>\n      <th>156</th>\n      <td>2853</td>\n      <td>0</td>\n      <td>No</td>\n      <td>0.000000</td>\n      <td>2.215728e-18</td>\n    </tr>\n    <tr>\n      <th>157</th>\n      <td>2853</td>\n      <td>1</td>\n      <td>Yes</td>\n      <td>118.802702</td>\n      <td>5.144326e-186</td>\n    </tr>\n    <tr>\n      <th>158</th>\n      <td>2853</td>\n      <td>2</td>\n      <td>Yes</td>\n      <td>-26.874370</td>\n      <td>5.611830e-68</td>\n    </tr>\n    <tr>\n      <th>159</th>\n      <td>2853</td>\n      <td>3</td>\n      <td>Yes</td>\n      <td>-18.723853</td>\n      <td>1.081318e-45</td>\n    </tr>\n  </tbody>\n</table>\n<p>160 rows × 5 columns</p>\n</div>"
     },
     "execution_count": 140,
     "metadata": {},
     "output_type": "execute_result"
    }
   ],
   "source": [
    "df_balanced_acc = do_stat_test(exp1, exp2, \"balanced_acc\")\n",
    "df_balanced_acc[0]"
   ],
   "metadata": {
    "collapsed": false,
    "pycharm": {
     "name": "#%%\n"
    }
   }
  },
  {
   "cell_type": "markdown",
   "source": [
    "Check precision score"
   ],
   "metadata": {
    "collapsed": false,
    "pycharm": {
     "name": "#%% md\n"
    }
   }
  },
  {
   "cell_type": "code",
   "execution_count": 142,
   "outputs": [
    {
     "name": "stdout",
     "output_type": "stream",
     "text": [
      "\n",
      "=========================== precision_train ===============================\n",
      "\n",
      "Two tailed test - 156/160 [97.5%] results are significant, (p_value < 0.05)\n",
      "exp1 < exp2 - 81/160 [50.625%] results are significant, (p_value < 0.05)\n",
      "exp1 > exp2 - 77/160 [48.125%] results are significant, (p_value < 0.05)\n",
      "\n",
      "=========================== precision_test ===============================\n",
      "\n",
      "Two tailed test - 156/160 [97.5%] results are significant, (p_value < 0.05)\n",
      "exp1 < exp2 - 79/160 [49.375%] results are significant, (p_value < 0.05)\n",
      "exp1 > exp2 - 78/160 [48.75%] results are significant, (p_value < 0.05)\n"
     ]
    }
   ],
   "source": [
    "df_precision = do_stat_test(exp1, exp2, \"precision\")"
   ],
   "metadata": {
    "collapsed": false,
    "pycharm": {
     "name": "#%%\n"
    }
   }
  },
  {
   "cell_type": "markdown",
   "source": [
    "Check model complexity"
   ],
   "metadata": {
    "collapsed": false,
    "pycharm": {
     "name": "#%% md\n"
    }
   }
  },
  {
   "cell_type": "code",
   "execution_count": 143,
   "outputs": [
    {
     "name": "stdout",
     "output_type": "stream",
     "text": [
      "\n",
      "=========================== complexity ===============================\n",
      "\n",
      "Two tailed test - 155/160 [96.875%] results are significant, (p_value < 0.05)\n",
      "exp1 < exp2 - 107/160 [66.875%] results are significant, (p_value < 0.05)\n",
      "exp1 > exp2 - 49/160 [30.625000000000004%] results are significant, (p_value < 0.05)\n"
     ]
    }
   ],
   "source": [
    "df_model_comp = do_stat_test(exp1, exp2, \"complexity\")"
   ],
   "metadata": {
    "collapsed": false,
    "pycharm": {
     "name": "#%%\n"
    }
   }
  },
  {
   "cell_type": "code",
   "execution_count": 102,
   "outputs": [
    {
     "data": {
      "text/plain": "<AxesSubplot:ylabel='complexity'>"
     },
     "execution_count": 102,
     "metadata": {},
     "output_type": "execute_result"
    },
    {
     "data": {
      "text/plain": "<Figure size 432x288 with 2 Axes>",
      "image/png": "[encoded data removed]"
     },
     "metadata": {
      "needs_background": "light"
     },
     "output_type": "display_data"
    }
   ],
   "source": [
    "fig, (ax1, ax2) = plt.subplots(1, 2)\n",
    "\n",
    "fig.suptitle(\"Complexity for seed 2853 - fold 0\")\n",
    "\n",
    "fold_0_exp1 = exp1[2853][exp1[2853][\"fold\"] == 0]\n",
    "fold_0_exp2 = exp2[2853][exp2[2853][\"fold\"] == 0]\n",
    "\n",
    "sns.boxplot(data=fold_0_exp1, y=\"complexity\", ax=ax1)\n",
    "sns.boxplot(data=fold_0_exp2, y=\"complexity\", ax=ax2)"
   ],
   "metadata": {
    "collapsed": false,
    "pycharm": {
     "name": "#%%\n"
    }
   }
  },
  {
   "cell_type": "markdown",
   "source": [
    "Compare experiment 3 (Inconsistency pen - cr = 3) and experiment 2 (Non Inconsistency pen - cr = 6)\n",
    "\n",
    "- Do normality test\n",
    "- if both scores normally distributed used Paired t-test, otherwise use Wilcoxon ranked test\n",
    "- Reject or Accept the null hypothesis (H0) - there is no difference between the mean/median of the two sets of scores"
   ],
   "metadata": {
    "collapsed": false,
    "pycharm": {
     "name": "#%% md\n"
    }
   }
  },
  {
   "cell_type": "markdown",
   "source": [
    "Check Balanced accuracy"
   ],
   "metadata": {
    "collapsed": false,
    "pycharm": {
     "name": "#%% md\n"
    }
   }
  },
  {
   "cell_type": "code",
   "execution_count": 146,
   "outputs": [
    {
     "name": "stdout",
     "output_type": "stream",
     "text": [
      "\n",
      "=========================== balanced_acc_train ===============================\n",
      "\n",
      "Two tailed test - 154/160 [96.25%] results are significant, (p_value < 0.05)\n",
      "exp3 < exp2 - 84/160 [52.5%] results are significant, (p_value < 0.05)\n",
      "exp3 > exp2 - 72/160 [45.0%] results are significant, (p_value < 0.05)\n",
      "\n",
      "=========================== balanced_acc_test ===============================\n",
      "\n",
      "Two tailed test - 156/160 [97.5%] results are significant, (p_value < 0.05)\n",
      "exp3 < exp2 - 83/160 [51.87500000000001%] results are significant, (p_value < 0.05)\n",
      "exp3 > exp2 - 73/160 [45.625%] results are significant, (p_value < 0.05)\n"
     ]
    }
   ],
   "source": [
    "df_balanced_acc = do_stat_test(exp3, exp2, \"balanced_acc\", name_1=\"exp3\", name_2=\"exp2\")"
   ],
   "metadata": {
    "collapsed": false,
    "pycharm": {
     "name": "#%%\n"
    }
   }
  },
  {
   "cell_type": "markdown",
   "source": [
    "Check precision on validation set"
   ],
   "metadata": {
    "collapsed": false,
    "pycharm": {
     "name": "#%% md\n"
    }
   }
  },
  {
   "cell_type": "code",
   "execution_count": 147,
   "outputs": [
    {
     "name": "stdout",
     "output_type": "stream",
     "text": [
      "\n",
      "=========================== precision_train ===============================\n",
      "\n",
      "Two tailed test - 158/160 [98.75%] results are significant, (p_value < 0.05)\n",
      "exp3 < exp2 - 86/160 [53.75%] results are significant, (p_value < 0.05)\n",
      "exp3 > exp2 - 74/160 [46.25%] results are significant, (p_value < 0.05)\n",
      "\n",
      "=========================== precision_test ===============================\n",
      "\n",
      "Two tailed test - 159/160 [99.375%] results are significant, (p_value < 0.05)\n",
      "exp3 < exp2 - 82/160 [51.24999999999999%] results are significant, (p_value < 0.05)\n",
      "exp3 > exp2 - 77/160 [48.125%] results are significant, (p_value < 0.05)\n"
     ]
    }
   ],
   "source": [
    "df_precison = do_stat_test(exp3, exp2, \"precision\", name_1=\"exp3\", name_2=\"exp2\")"
   ],
   "metadata": {
    "collapsed": false,
    "pycharm": {
     "name": "#%%\n"
    }
   }
  },
  {
   "cell_type": "markdown",
   "source": [
    "Check model complexity"
   ],
   "metadata": {
    "collapsed": false,
    "pycharm": {
     "name": "#%% md\n"
    }
   }
  },
  {
   "cell_type": "code",
   "execution_count": 148,
   "outputs": [
    {
     "name": "stdout",
     "output_type": "stream",
     "text": [
      "\n",
      "=========================== complexity ===============================\n",
      "\n",
      "Two tailed test - 158/160 [98.75%] results are significant, (p_value < 0.05)\n",
      "exp3 < exp2 - 78/160 [48.75%] results are significant, (p_value < 0.05)\n",
      "exp3 > exp2 - 80/160 [50.0%] results are significant, (p_value < 0.05)\n"
     ]
    }
   ],
   "source": [
    "df_complexity = do_stat_test(exp3, exp2, \"complexity\", name_1=\"exp3\", name_2=\"exp2\")"
   ],
   "metadata": {
    "collapsed": false,
    "pycharm": {
     "name": "#%%\n"
    }
   }
  },
  {
   "cell_type": "code",
   "execution_count": 119,
   "outputs": [
    {
     "data": {
      "text/plain": "<AxesSubplot:ylabel='complexity'>"
     },
     "execution_count": 119,
     "metadata": {},
     "output_type": "execute_result"
    },
    {
     "data": {
      "text/plain": "<Figure size 432x288 with 2 Axes>",
      "image/png": "[encoded data removed]"
     },
     "metadata": {
      "needs_background": "light"
     },
     "output_type": "display_data"
    }
   ],
   "source": [
    "fig, (ax1, ax2) = plt.subplots(1, 2)\n",
    "\n",
    "fig.suptitle(\"Complexity for seed 9815 - fold 2\")\n",
    "\n",
    "fold_0_exp3 = exp3[9815][exp3[9815][\"fold\"] == 2]\n",
    "fold_0_exp2 = exp2[9815][exp2[9815][\"fold\"] == 2]\n",
    "\n",
    "sns.boxplot(data=fold_0_exp3, y=\"complexity\", ax=ax1)\n",
    "sns.boxplot(data=fold_0_exp2, y=\"complexity\", ax=ax2)"
   ],
   "metadata": {
    "collapsed": false,
    "pycharm": {
     "name": "#%%\n"
    }
   }
  },
  {
   "cell_type": "markdown",
   "source": [
    "Compare experiment 4 (Inconsistency pen with div pressure (div-pressure = 0.7, cr=3)) and experiment 5 (No incons pen div-pressure = 0.7, cr=3)\n",
    "\n",
    "- Do normality test\n",
    "- if both scores normally distributed used Paired t-test, otherwise use Wilcoxon ranked test\n",
    "- Reject or Accept the null hypothesis (H0) - there is no difference between the mean/median of the two sets of scores"
   ],
   "metadata": {
    "collapsed": false,
    "pycharm": {
     "name": "#%% md\n"
    }
   }
  },
  {
   "cell_type": "markdown",
   "source": [
    "Check Balanced accuracy score"
   ],
   "metadata": {
    "collapsed": false,
    "pycharm": {
     "name": "#%% md\n"
    }
   }
  },
  {
   "cell_type": "code",
   "execution_count": 149,
   "outputs": [
    {
     "name": "stdout",
     "output_type": "stream",
     "text": [
      "\n",
      "=========================== balanced_acc_train ===============================\n",
      "\n",
      "Two tailed test - 146/160 [91.25%] results are significant, (p_value < 0.05)\n",
      "exp4 < exp5 - 83/160 [51.87500000000001%] results are significant, (p_value < 0.05)\n",
      "exp4 > exp5 - 68/160 [42.5%] results are significant, (p_value < 0.05)\n",
      "\n",
      "=========================== balanced_acc_test ===============================\n",
      "\n",
      "Two tailed test - 147/160 [91.875%] results are significant, (p_value < 0.05)\n",
      "exp4 < exp5 - 76/160 [47.5%] results are significant, (p_value < 0.05)\n",
      "exp4 > exp5 - 74/160 [46.25%] results are significant, (p_value < 0.05)\n"
     ]
    }
   ],
   "source": [
    "df_acc = do_stat_test(exp4, exp5, \"balanced_acc\", name_1=\"exp4\", name_2=\"exp5\")"
   ],
   "metadata": {
    "collapsed": false,
    "pycharm": {
     "name": "#%%\n"
    }
   }
  },
  {
   "cell_type": "markdown",
   "source": [
    "Check precision score"
   ],
   "metadata": {
    "collapsed": false,
    "pycharm": {
     "name": "#%% md\n"
    }
   }
  },
  {
   "cell_type": "code",
   "execution_count": 150,
   "outputs": [
    {
     "name": "stdout",
     "output_type": "stream",
     "text": [
      "\n",
      "=========================== precision_train ===============================\n",
      "\n",
      "Two tailed test - 145/160 [90.625%] results are significant, (p_value < 0.05)\n",
      "exp4 < exp5 - 80/160 [50.0%] results are significant, (p_value < 0.05)\n",
      "exp4 > exp5 - 70/160 [43.75%] results are significant, (p_value < 0.05)\n",
      "\n",
      "=========================== precision_test ===============================\n",
      "\n",
      "Two tailed test - 144/160 [90.0%] results are significant, (p_value < 0.05)\n",
      "exp4 < exp5 - 74/160 [46.25%] results are significant, (p_value < 0.05)\n",
      "exp4 > exp5 - 74/160 [46.25%] results are significant, (p_value < 0.05)\n"
     ]
    }
   ],
   "source": [
    "#Two tailed test\n",
    "df_precison = do_stat_test(exp4, exp5, \"precision\", name_1=\"exp4\", name_2=\"exp5\")"
   ],
   "metadata": {
    "collapsed": false,
    "pycharm": {
     "name": "#%%\n"
    }
   }
  },
  {
   "cell_type": "markdown",
   "source": [
    "Check model complexity"
   ],
   "metadata": {
    "collapsed": false,
    "pycharm": {
     "name": "#%% md\n"
    }
   }
  },
  {
   "cell_type": "code",
   "execution_count": 151,
   "outputs": [
    {
     "name": "stdout",
     "output_type": "stream",
     "text": [
      "\n",
      "=========================== complexity ===============================\n",
      "\n",
      "Two tailed test - 121/160 [75.625%] results are significant, (p_value < 0.05)\n",
      "exp4 < exp5 - 31/160 [19.375%] results are significant, (p_value < 0.05)\n",
      "exp4 > exp5 - 97/160 [60.62499999999999%] results are significant, (p_value < 0.05)\n"
     ]
    }
   ],
   "source": [
    "df_comp = do_stat_test(exp4, exp5, \"complexity\", name_1=\"exp4\", name_2=\"exp5\")"
   ],
   "metadata": {
    "collapsed": false,
    "pycharm": {
     "name": "#%%\n"
    }
   }
  },
  {
   "cell_type": "code",
   "execution_count": 138,
   "outputs": [
    {
     "name": "stdout",
     "output_type": "stream",
     "text": [
      "97/160 [60.62499999999999%] results are significant, i.e p_value < 0.05\n"
     ]
    },
    {
     "data": {
      "text/plain": "     seed  fold normal  test_statistic       p_value\n0    9815     0    Yes       -0.924107  1.782834e-01\n1    9815     1    Yes        2.006302  9.769007e-01\n2    9815     2    Yes       -8.789656  3.802673e-16\n3    9815     3    Yes       -4.990182  6.636370e-07\n4    3435     0    Yes       -0.193662  4.233204e-01\n..    ...   ...    ...             ...           ...\n155  2347     3    Yes        0.698714  7.572204e-01\n156  2853     0    Yes       -7.855011  1.287105e-13\n157  2853     1    Yes       -0.795000  2.137875e-01\n158  2853     2    Yes        7.714100  1.000000e+00\n159  2853     3    Yes        5.271586  9.999998e-01\n\n[160 rows x 5 columns]",
      "text/html": "<div>\n<style scoped>\n    .dataframe tbody tr th:only-of-type {\n        vertical-align: middle;\n    }\n\n    .dataframe tbody tr th {\n        vertical-align: top;\n    }\n\n    .dataframe thead th {\n        text-align: right;\n    }\n</style>\n<table border=\"1\" class=\"dataframe\">\n  <thead>\n    <tr style=\"text-align: right;\">\n      <th></th>\n      <th>seed</th>\n      <th>fold</th>\n      <th>normal</th>\n      <th>test_statistic</th>\n      <th>p_value</th>\n    </tr>\n  </thead>\n  <tbody>\n    <tr>\n      <th>0</th>\n      <td>9815</td>\n      <td>0</td>\n      <td>Yes</td>\n      <td>-0.924107</td>\n      <td>1.782834e-01</td>\n    </tr>\n    <tr>\n      <th>1</th>\n      <td>9815</td>\n      <td>1</td>\n      <td>Yes</td>\n      <td>2.006302</td>\n      <td>9.769007e-01</td>\n    </tr>\n    <tr>\n      <th>2</th>\n      <td>9815</td>\n      <td>2</td>\n      <td>Yes</td>\n      <td>-8.789656</td>\n      <td>3.802673e-16</td>\n    </tr>\n    <tr>\n      <th>3</th>\n      <td>9815</td>\n      <td>3</td>\n      <td>Yes</td>\n      <td>-4.990182</td>\n      <td>6.636370e-07</td>\n    </tr>\n    <tr>\n      <th>4</th>\n      <td>3435</td>\n      <td>0</td>\n      <td>Yes</td>\n      <td>-0.193662</td>\n      <td>4.233204e-01</td>\n    </tr>\n    <tr>\n      <th>...</th>\n      <td>...</td>\n      <td>...</td>\n      <td>...</td>\n      <td>...</td>\n      <td>...</td>\n    </tr>\n    <tr>\n      <th>155</th>\n      <td>2347</td>\n      <td>3</td>\n      <td>Yes</td>\n      <td>0.698714</td>\n      <td>7.572204e-01</td>\n    </tr>\n    <tr>\n      <th>156</th>\n      <td>2853</td>\n      <td>0</td>\n      <td>Yes</td>\n      <td>-7.855011</td>\n      <td>1.287105e-13</td>\n    </tr>\n    <tr>\n      <th>157</th>\n      <td>2853</td>\n      <td>1</td>\n      <td>Yes</td>\n      <td>-0.795000</td>\n      <td>2.137875e-01</td>\n    </tr>\n    <tr>\n      <th>158</th>\n      <td>2853</td>\n      <td>2</td>\n      <td>Yes</td>\n      <td>7.714100</td>\n      <td>1.000000e+00</td>\n    </tr>\n    <tr>\n      <th>159</th>\n      <td>2853</td>\n      <td>3</td>\n      <td>Yes</td>\n      <td>5.271586</td>\n      <td>9.999998e-01</td>\n    </tr>\n  </tbody>\n</table>\n<p>160 rows × 5 columns</p>\n</div>"
     },
     "execution_count": 138,
     "metadata": {},
     "output_type": "execute_result"
    }
   ],
   "source": [
    "#One tailed test, i.e exp5 < exp4\n",
    "df = do_stat_test(exp5, exp4, \"complexity\", alt=\"less\")\n",
    "df"
   ],
   "metadata": {
    "collapsed": false,
    "pycharm": {
     "name": "#%%\n"
    }
   }
  }
 ],
 "metadata": {
  "kernelspec": {
   "name": "venv",
   "language": "python",
   "display_name": "venv"
  },
  "language_info": {
   "codemirror_mode": {
    "name": "ipython",
    "version": 2
   },
   "file_extension": ".py",
   "mimetype": "text/x-python",
   "name": "python",
   "nbconvert_exporter": "python",
   "pygments_lexer": "ipython2",
   "version": "2.7.6"
  }
 },
 "nbformat": 4,
 "nbformat_minor": 0
}